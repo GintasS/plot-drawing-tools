{
 "cells": [
  {
   "cell_type": "markdown",
   "metadata": {},
   "source": [
    "# Getting started"
   ]
  },
  {
   "cell_type": "markdown",
   "metadata": {},
   "source": []
  },
  {
   "cell_type": "markdown",
   "metadata": {},
   "source": []
  },
  {
   "cell_type": "code",
   "execution_count": 13,
   "metadata": {},
   "outputs": [],
   "source": [
    "import os\n",
    "import sys\n",
    "\n",
    "# os.environ[\"PYTHONPATH\"] = \"/opt/root/root-6.24.06_py310/lib\"\n",
    "\n",
    "sys.path.insert(1, '/opt/root/root-6.24.06_py310/lib')\n",
    "os.environ[\"LD_LIBRARY_PATH\"] = \"/opt/root/root-6.24.06_py310/lib\"\n",
    "\n",
    "os.environ['SHLIB_PATH'] = \"/opt/root/root-6.24.06_py310/lib\"\n",
    "os.environ['LIBPATH'] = \"/opt/root/root-6.24.06_py310/lib\"\n",
    "os.environ['PYTHONPATH'] = \"/opt/root/root-6.24.06_py310/lib\"\n"
   ]
  },
  {
   "cell_type": "code",
   "execution_count": 14,
   "metadata": {},
   "outputs": [
    {
     "name": "stdout",
     "output_type": "stream",
     "text": [
      "['..', '/opt/root/root-6.24.06_py310/lib', 'python/', '..', '/opt/root/root-6.24.06_py310/lib', 'python/', '/Users/cerminar/Workspace/hgcal-analysis/py3/ntuple-tools/plot-drawing-tools', '/opt/root/root-6.24.06_py310/lib', '/opt/local/Library/Frameworks/Python.framework/Versions/3.10/lib/python310.zip', '/opt/local/Library/Frameworks/Python.framework/Versions/3.10/lib/python3.10', '/opt/local/Library/Frameworks/Python.framework/Versions/3.10/lib/python3.10/lib-dynload', '', '/Users/cerminar/.virtualenvs/ntp-tools-py310/lib/python3.10/site-packages', '/opt/local/Library/Frameworks/Python.framework/Versions/3.10/lib/python3.10/site-packages']\n"
     ]
    }
   ],
   "source": [
    "print(sys.path)"
   ]
  },
  {
   "cell_type": "code",
   "execution_count": 15,
   "metadata": {},
   "outputs": [
    {
     "ename": "ImportError",
     "evalue": "dlopen(/Users/cerminar/.virtualenvs/ntp-tools-py310/lib/python3.10/site-packages/root_numpy/_librootnumpy.cpython-310-darwin.so, 0x0002): Library not loaded: @rpath/libHist.so\n  Referenced from: /Users/cerminar/.virtualenvs/ntp-tools-py310/lib/python3.10/site-packages/root_numpy/_librootnumpy.cpython-310-darwin.so\n  Reason: tried: '/usr/local/lib/libHist.so' (no such file), '/usr/lib/libHist.so' (no such file)",
     "output_type": "error",
     "traceback": [
      "\u001b[0;31m---------------------------------------------------------------------------\u001b[0m",
      "\u001b[0;31mImportError\u001b[0m                               Traceback (most recent call last)",
      "Input \u001b[0;32mIn [15]\u001b[0m, in \u001b[0;36m<cell line: 7>\u001b[0;34m()\u001b[0m\n\u001b[1;32m      4\u001b[0m sys\u001b[38;5;241m.\u001b[39mpath\u001b[38;5;241m.\u001b[39minsert(\u001b[38;5;241m1\u001b[39m, \u001b[38;5;124m'\u001b[39m\u001b[38;5;124mpython/\u001b[39m\u001b[38;5;124m'\u001b[39m)\n\u001b[1;32m      6\u001b[0m \u001b[38;5;28;01mimport\u001b[39;00m \u001b[38;5;21;01mROOT\u001b[39;00m\n\u001b[0;32m----> 7\u001b[0m \u001b[38;5;28;01mimport\u001b[39;00m \u001b[38;5;21;01mroot_numpy\u001b[39;00m \u001b[38;5;28;01mas\u001b[39;00m \u001b[38;5;21;01mrnp\u001b[39;00m\n\u001b[1;32m      8\u001b[0m \u001b[38;5;66;03m# import python.l1THistos as histos\u001b[39;00m\n\u001b[1;32m      9\u001b[0m \u001b[38;5;28;01mimport\u001b[39;00m \u001b[38;5;21;01mmath\u001b[39;00m\n",
      "File \u001b[0;32m/opt/root/root-6.24.06_py310/lib/ROOT/_facade.py:150\u001b[0m, in \u001b[0;36mROOTFacade._set_import_hook.<locals>._importhook\u001b[0;34m(name, *args, **kwds)\u001b[0m\n\u001b[1;32m    148\u001b[0m     \u001b[38;5;28;01mexcept\u001b[39;00m \u001b[38;5;167;01mException\u001b[39;00m:\n\u001b[1;32m    149\u001b[0m         \u001b[38;5;28;01mpass\u001b[39;00m\n\u001b[0;32m--> 150\u001b[0m \u001b[38;5;28;01mreturn\u001b[39;00m \u001b[43m_orig_ihook\u001b[49m\u001b[43m(\u001b[49m\u001b[43mname\u001b[49m\u001b[43m,\u001b[49m\u001b[43m \u001b[49m\u001b[38;5;241;43m*\u001b[39;49m\u001b[43margs\u001b[49m\u001b[43m,\u001b[49m\u001b[43m \u001b[49m\u001b[38;5;241;43m*\u001b[39;49m\u001b[38;5;241;43m*\u001b[39;49m\u001b[43mkwds\u001b[49m\u001b[43m)\u001b[49m\n",
      "File \u001b[0;32m~/.virtualenvs/ntp-tools-py310/lib/python3.10/site-packages/root_numpy/__init__.py:51\u001b[0m, in \u001b[0;36m<module>\u001b[0;34m\u001b[0m\n\u001b[1;32m     48\u001b[0m     \u001b[38;5;28;01mdel\u001b[39;00m root_version_at_install\n\u001b[1;32m     49\u001b[0m     \u001b[38;5;28;01mdel\u001b[39;00m numpy_version_at_install\n\u001b[0;32m---> 51\u001b[0m \u001b[38;5;28;01mfrom\u001b[39;00m \u001b[38;5;21;01m.\u001b[39;00m\u001b[38;5;21;01m_tree\u001b[39;00m \u001b[38;5;28;01mimport\u001b[39;00m (\n\u001b[1;32m     52\u001b[0m     root2array, root2rec,\n\u001b[1;32m     53\u001b[0m     tree2array, tree2rec,\n\u001b[1;32m     54\u001b[0m     array2tree, array2root,\n\u001b[1;32m     55\u001b[0m     list_trees, list_branches,\n\u001b[1;32m     56\u001b[0m     list_directories, list_structures)\n\u001b[1;32m     57\u001b[0m \u001b[38;5;28;01mfrom\u001b[39;00m \u001b[38;5;21;01m.\u001b[39;00m\u001b[38;5;21;01m_hist\u001b[39;00m \u001b[38;5;28;01mimport\u001b[39;00m fill_hist, fill_profile, hist2array, array2hist\n\u001b[1;32m     58\u001b[0m \u001b[38;5;28;01mfrom\u001b[39;00m \u001b[38;5;21;01m.\u001b[39;00m\u001b[38;5;21;01m_graph\u001b[39;00m \u001b[38;5;28;01mimport\u001b[39;00m fill_graph\n",
      "File \u001b[0;32m/opt/root/root-6.24.06_py310/lib/ROOT/_facade.py:150\u001b[0m, in \u001b[0;36mROOTFacade._set_import_hook.<locals>._importhook\u001b[0;34m(name, *args, **kwds)\u001b[0m\n\u001b[1;32m    148\u001b[0m     \u001b[38;5;28;01mexcept\u001b[39;00m \u001b[38;5;167;01mException\u001b[39;00m:\n\u001b[1;32m    149\u001b[0m         \u001b[38;5;28;01mpass\u001b[39;00m\n\u001b[0;32m--> 150\u001b[0m \u001b[38;5;28;01mreturn\u001b[39;00m \u001b[43m_orig_ihook\u001b[49m\u001b[43m(\u001b[49m\u001b[43mname\u001b[49m\u001b[43m,\u001b[49m\u001b[43m \u001b[49m\u001b[38;5;241;43m*\u001b[39;49m\u001b[43margs\u001b[49m\u001b[43m,\u001b[49m\u001b[43m \u001b[49m\u001b[38;5;241;43m*\u001b[39;49m\u001b[38;5;241;43m*\u001b[39;49m\u001b[43mkwds\u001b[49m\u001b[43m)\u001b[49m\n",
      "File \u001b[0;32m~/.virtualenvs/ntp-tools-py310/lib/python3.10/site-packages/root_numpy/_tree.py:6\u001b[0m, in \u001b[0;36m<module>\u001b[0;34m\u001b[0m\n\u001b[1;32m      3\u001b[0m \u001b[38;5;28;01mimport\u001b[39;00m \u001b[38;5;21;01mnumpy\u001b[39;00m \u001b[38;5;28;01mas\u001b[39;00m \u001b[38;5;21;01mnp\u001b[39;00m\n\u001b[1;32m      5\u001b[0m \u001b[38;5;28;01mfrom\u001b[39;00m \u001b[38;5;21;01m.\u001b[39;00m\u001b[38;5;21;01mextern\u001b[39;00m\u001b[38;5;21;01m.\u001b[39;00m\u001b[38;5;21;01msix\u001b[39;00m \u001b[38;5;28;01mimport\u001b[39;00m string_types\n\u001b[0;32m----> 6\u001b[0m \u001b[38;5;28;01mfrom\u001b[39;00m \u001b[38;5;21;01m.\u001b[39;00m \u001b[38;5;28;01mimport\u001b[39;00m _librootnumpy\n\u001b[1;32m      9\u001b[0m __all__ \u001b[38;5;241m=\u001b[39m [\n\u001b[1;32m     10\u001b[0m     \u001b[38;5;124m'\u001b[39m\u001b[38;5;124mroot2array\u001b[39m\u001b[38;5;124m'\u001b[39m,\n\u001b[1;32m     11\u001b[0m     \u001b[38;5;124m'\u001b[39m\u001b[38;5;124mroot2rec\u001b[39m\u001b[38;5;124m'\u001b[39m,\n\u001b[0;32m   (...)\u001b[0m\n\u001b[1;32m     19\u001b[0m     \u001b[38;5;124m'\u001b[39m\u001b[38;5;124marray2root\u001b[39m\u001b[38;5;124m'\u001b[39m,\n\u001b[1;32m     20\u001b[0m ]\n\u001b[1;32m     23\u001b[0m \u001b[38;5;28;01mdef\u001b[39;00m \u001b[38;5;21m_glob\u001b[39m(filenames):\n",
      "File \u001b[0;32m/opt/root/root-6.24.06_py310/lib/ROOT/_facade.py:150\u001b[0m, in \u001b[0;36mROOTFacade._set_import_hook.<locals>._importhook\u001b[0;34m(name, *args, **kwds)\u001b[0m\n\u001b[1;32m    148\u001b[0m     \u001b[38;5;28;01mexcept\u001b[39;00m \u001b[38;5;167;01mException\u001b[39;00m:\n\u001b[1;32m    149\u001b[0m         \u001b[38;5;28;01mpass\u001b[39;00m\n\u001b[0;32m--> 150\u001b[0m \u001b[38;5;28;01mreturn\u001b[39;00m \u001b[43m_orig_ihook\u001b[49m\u001b[43m(\u001b[49m\u001b[43mname\u001b[49m\u001b[43m,\u001b[49m\u001b[43m \u001b[49m\u001b[38;5;241;43m*\u001b[39;49m\u001b[43margs\u001b[49m\u001b[43m,\u001b[49m\u001b[43m \u001b[49m\u001b[38;5;241;43m*\u001b[39;49m\u001b[38;5;241;43m*\u001b[39;49m\u001b[43mkwds\u001b[49m\u001b[43m)\u001b[49m\n",
      "\u001b[0;31mImportError\u001b[0m: dlopen(/Users/cerminar/.virtualenvs/ntp-tools-py310/lib/python3.10/site-packages/root_numpy/_librootnumpy.cpython-310-darwin.so, 0x0002): Library not loaded: @rpath/libHist.so\n  Referenced from: /Users/cerminar/.virtualenvs/ntp-tools-py310/lib/python3.10/site-packages/root_numpy/_librootnumpy.cpython-310-darwin.so\n  Reason: tried: '/usr/local/lib/libHist.so' (no such file), '/usr/lib/libHist.so' (no such file)"
     ]
    }
   ],
   "source": [
    "import sys\n",
    "sys.path.insert(0, '..')\n",
    "# sys.path.insert(1, '../python/')\n",
    "sys.path.insert(1, 'python/')\n",
    "\n",
    "import ROOT\n",
    "import root_numpy as rnp\n",
    "# import python.l1THistos as histos\n",
    "import math\n",
    "import uuid\n",
    "import pandas as pd\n",
    "\n",
    "from drawingTools import *\n",
    "\n",
    "# ROOT.enableJSVis()\n",
    "ROOT.enableJSVis()\n",
    "\n",
    "#from drawingTools import *\n",
    "\n",
    "normalized_histos = list()"
   ]
  },
  {
   "cell_type": "code",
   "execution_count": 12,
   "metadata": {},
   "outputs": [
    {
     "name": "stdout",
     "output_type": "stream",
     "text": [
      "/opt/root/root-6.24.06_py310/lib\n"
     ]
    },
    {
     "ename": "KeyError",
     "evalue": "'SHLIB_PATH'",
     "output_type": "error",
     "traceback": [
      "\u001b[0;31m---------------------------------------------------------------------------\u001b[0m",
      "\u001b[0;31mKeyError\u001b[0m                                  Traceback (most recent call last)",
      "Input \u001b[0;32mIn [12]\u001b[0m, in \u001b[0;36m<cell line: 4>\u001b[0;34m()\u001b[0m\n\u001b[1;32m      1\u001b[0m \u001b[38;5;28;01mimport\u001b[39;00m \u001b[38;5;21;01mos\u001b[39;00m\n\u001b[1;32m      3\u001b[0m \u001b[38;5;28mprint\u001b[39m(os\u001b[38;5;241m.\u001b[39menviron[\u001b[38;5;124m'\u001b[39m\u001b[38;5;124mLD_LIBRARY_PATH\u001b[39m\u001b[38;5;124m'\u001b[39m])\n\u001b[0;32m----> 4\u001b[0m \u001b[38;5;28mprint\u001b[39m(\u001b[43mos\u001b[49m\u001b[38;5;241;43m.\u001b[39;49m\u001b[43menviron\u001b[49m\u001b[43m[\u001b[49m\u001b[38;5;124;43m'\u001b[39;49m\u001b[38;5;124;43mSHLIB_PATH\u001b[39;49m\u001b[38;5;124;43m'\u001b[39;49m\u001b[43m]\u001b[49m)\n\u001b[1;32m      5\u001b[0m \u001b[38;5;28mprint\u001b[39m(os\u001b[38;5;241m.\u001b[39menviron[\u001b[38;5;124m'\u001b[39m\u001b[38;5;124mLIBPATH\u001b[39m\u001b[38;5;124m'\u001b[39m])\n\u001b[1;32m      6\u001b[0m \u001b[38;5;28mprint\u001b[39m(os\u001b[38;5;241m.\u001b[39menviron[\u001b[38;5;124m'\u001b[39m\u001b[38;5;124mPYTHONPATH\u001b[39m\u001b[38;5;124m'\u001b[39m])\n",
      "File \u001b[0;32m/opt/local/Library/Frameworks/Python.framework/Versions/3.10/lib/python3.10/os.py:679\u001b[0m, in \u001b[0;36m_Environ.__getitem__\u001b[0;34m(self, key)\u001b[0m\n\u001b[1;32m    676\u001b[0m     value \u001b[38;5;241m=\u001b[39m \u001b[38;5;28mself\u001b[39m\u001b[38;5;241m.\u001b[39m_data[\u001b[38;5;28mself\u001b[39m\u001b[38;5;241m.\u001b[39mencodekey(key)]\n\u001b[1;32m    677\u001b[0m \u001b[38;5;28;01mexcept\u001b[39;00m \u001b[38;5;167;01mKeyError\u001b[39;00m:\n\u001b[1;32m    678\u001b[0m     \u001b[38;5;66;03m# raise KeyError with the original key value\u001b[39;00m\n\u001b[0;32m--> 679\u001b[0m     \u001b[38;5;28;01mraise\u001b[39;00m \u001b[38;5;167;01mKeyError\u001b[39;00m(key) \u001b[38;5;28;01mfrom\u001b[39;00m \u001b[38;5;28mNone\u001b[39m\n\u001b[1;32m    680\u001b[0m \u001b[38;5;28;01mreturn\u001b[39;00m \u001b[38;5;28mself\u001b[39m\u001b[38;5;241m.\u001b[39mdecodevalue(value)\n",
      "\u001b[0;31mKeyError\u001b[0m: 'SHLIB_PATH'"
     ]
    }
   ],
   "source": [
    "import os\n",
    " \n",
    "print(os.environ['LD_LIBRARY_PATH'])\n",
    "print(os.environ['SHLIB_PATH'])\n",
    "print(os.environ['LIBPATH'])\n",
    "print(os.environ['PYTHONPATH'])\n"
   ]
  },
  {
   "cell_type": "code",
   "execution_count": 4,
   "metadata": {},
   "outputs": [],
   "source": [
    "# %load drawingTools.py"
   ]
  },
  {
   "cell_type": "markdown",
   "metadata": {},
   "source": [
    "## Histo classes: the basic functionality\n",
    "\n",
    "All classes inheriting from `BaseHistos` are capable of retrieveing the histograms from a root file so that you can access them as members of the class\n",
    "\n"
   ]
  },
  {
   "cell_type": "code",
   "execution_count": 6,
   "metadata": {},
   "outputs": [
    {
     "ename": "ImportError",
     "evalue": "dlopen(/Users/cerminar/.virtualenvs/ntp-tools-py310/lib/python3.10/site-packages/root_numpy/_librootnumpy.cpython-310-darwin.so, 0x0002): Library not loaded: @rpath/libHist.so\n  Referenced from: /Users/cerminar/.virtualenvs/ntp-tools-py310/lib/python3.10/site-packages/root_numpy/_librootnumpy.cpython-310-darwin.so\n  Reason: tried: '/usr/local/lib/libHist.so' (no such file), '/usr/lib/libHist.so' (no such file)",
     "output_type": "error",
     "traceback": [
      "\u001b[0;31m---------------------------------------------------------------------------\u001b[0m",
      "\u001b[0;31mImportError\u001b[0m                               Traceback (most recent call last)",
      "\u001b[1;32m/Users/cerminar/Workspace/hgcal-analysis/py3/ntuple-tools/plot-drawing-tools/getting-started.ipynb Cell 9'\u001b[0m in \u001b[0;36m<cell line: 1>\u001b[0;34m()\u001b[0m\n\u001b[0;32m----> <a href='vscode-notebook-cell:/Users/cerminar/Workspace/hgcal-analysis/py3/ntuple-tools/plot-drawing-tools/getting-started.ipynb#ch0000008?line=0'>1</a>\u001b[0m \u001b[39mimport\u001b[39;00m \u001b[39mpython\u001b[39;00m\u001b[39m.\u001b[39;00m\u001b[39ml1THistos\u001b[39;00m \u001b[39mas\u001b[39;00m \u001b[39mhistos\u001b[39;00m\n\u001b[1;32m      <a href='vscode-notebook-cell:/Users/cerminar/Workspace/hgcal-analysis/py3/ntuple-tools/plot-drawing-tools/getting-started.ipynb#ch0000008?line=3'>4</a>\u001b[0m root_file \u001b[39m=\u001b[39m ROOT\u001b[39m.\u001b[39mTFile(\u001b[39m'\u001b[39m\u001b[39m/Users/cerminar/Workspace/hgcal-analysis/py3/ntuple-tools/plots1/histos_doubleele_flat1to100_PU200_eg_v150.69A.root\u001b[39m\u001b[39m'\u001b[39m)\n\u001b[1;32m      <a href='vscode-notebook-cell:/Users/cerminar/Workspace/hgcal-analysis/py3/ntuple-tools/plot-drawing-tools/getting-started.ipynb#ch0000008?line=5'>6</a>\u001b[0m \u001b[39m# retrieve a set of plots given the name\u001b[39;00m\n",
      "File \u001b[0;32m/opt/root/root-6.24.06_py310/lib/ROOT/_facade.py:150\u001b[0m, in \u001b[0;36mROOTFacade._set_import_hook.<locals>._importhook\u001b[0;34m(name, *args, **kwds)\u001b[0m\n\u001b[1;32m    <a href='file:///opt/root/root-6.24.06_py310/lib/ROOT/_facade.py?line=147'>148</a>\u001b[0m     \u001b[39mexcept\u001b[39;00m \u001b[39mException\u001b[39;00m:\n\u001b[1;32m    <a href='file:///opt/root/root-6.24.06_py310/lib/ROOT/_facade.py?line=148'>149</a>\u001b[0m         \u001b[39mpass\u001b[39;00m\n\u001b[0;32m--> <a href='file:///opt/root/root-6.24.06_py310/lib/ROOT/_facade.py?line=149'>150</a>\u001b[0m \u001b[39mreturn\u001b[39;00m _orig_ihook(name, \u001b[39m*\u001b[39;49margs, \u001b[39m*\u001b[39;49m\u001b[39m*\u001b[39;49mkwds)\n",
      "File \u001b[0;32m~/Workspace/hgcal-analysis/py3/ntuple-tools/plot-drawing-tools/../python/l1THistos.py:3\u001b[0m, in \u001b[0;36m<module>\u001b[0;34m\u001b[0m\n\u001b[1;32m      <a href='file:///Users/cerminar/Workspace/hgcal-analysis/py3/ntuple-tools/plot-drawing-tools/../python/l1THistos.py?line=0'>1</a>\u001b[0m \u001b[39mfrom\u001b[39;00m \u001b[39m__future__\u001b[39;00m \u001b[39mimport\u001b[39;00m print_function\n\u001b[1;32m      <a href='file:///Users/cerminar/Workspace/hgcal-analysis/py3/ntuple-tools/plot-drawing-tools/../python/l1THistos.py?line=1'>2</a>\u001b[0m \u001b[39mimport\u001b[39;00m \u001b[39mROOT\u001b[39;00m\n\u001b[0;32m----> <a href='file:///Users/cerminar/Workspace/hgcal-analysis/py3/ntuple-tools/plot-drawing-tools/../python/l1THistos.py?line=2'>3</a>\u001b[0m \u001b[39mimport\u001b[39;00m \u001b[39mroot_numpy\u001b[39;00m \u001b[39mas\u001b[39;00m \u001b[39mrnp\u001b[39;00m\n\u001b[1;32m      <a href='file:///Users/cerminar/Workspace/hgcal-analysis/py3/ntuple-tools/plot-drawing-tools/../python/l1THistos.py?line=3'>4</a>\u001b[0m \u001b[39mimport\u001b[39;00m \u001b[39mnumpy\u001b[39;00m \u001b[39mas\u001b[39;00m \u001b[39mnp\u001b[39;00m\n\u001b[1;32m      <a href='file:///Users/cerminar/Workspace/hgcal-analysis/py3/ntuple-tools/plot-drawing-tools/../python/l1THistos.py?line=4'>5</a>\u001b[0m \u001b[39mfrom\u001b[39;00m \u001b[39marray\u001b[39;00m \u001b[39mimport\u001b[39;00m array\n",
      "File \u001b[0;32m/opt/root/root-6.24.06_py310/lib/ROOT/_facade.py:150\u001b[0m, in \u001b[0;36mROOTFacade._set_import_hook.<locals>._importhook\u001b[0;34m(name, *args, **kwds)\u001b[0m\n\u001b[1;32m    <a href='file:///opt/root/root-6.24.06_py310/lib/ROOT/_facade.py?line=147'>148</a>\u001b[0m     \u001b[39mexcept\u001b[39;00m \u001b[39mException\u001b[39;00m:\n\u001b[1;32m    <a href='file:///opt/root/root-6.24.06_py310/lib/ROOT/_facade.py?line=148'>149</a>\u001b[0m         \u001b[39mpass\u001b[39;00m\n\u001b[0;32m--> <a href='file:///opt/root/root-6.24.06_py310/lib/ROOT/_facade.py?line=149'>150</a>\u001b[0m \u001b[39mreturn\u001b[39;00m _orig_ihook(name, \u001b[39m*\u001b[39;49margs, \u001b[39m*\u001b[39;49m\u001b[39m*\u001b[39;49mkwds)\n",
      "File \u001b[0;32m~/.virtualenvs/ntp-tools-py310/lib/python3.10/site-packages/root_numpy/__init__.py:51\u001b[0m, in \u001b[0;36m<module>\u001b[0;34m\u001b[0m\n\u001b[1;32m     <a href='file:///Users/cerminar/.virtualenvs/ntp-tools-py310/lib/python3.10/site-packages/root_numpy/__init__.py?line=47'>48</a>\u001b[0m     \u001b[39mdel\u001b[39;00m root_version_at_install\n\u001b[1;32m     <a href='file:///Users/cerminar/.virtualenvs/ntp-tools-py310/lib/python3.10/site-packages/root_numpy/__init__.py?line=48'>49</a>\u001b[0m     \u001b[39mdel\u001b[39;00m numpy_version_at_install\n\u001b[0;32m---> <a href='file:///Users/cerminar/.virtualenvs/ntp-tools-py310/lib/python3.10/site-packages/root_numpy/__init__.py?line=50'>51</a>\u001b[0m \u001b[39mfrom\u001b[39;00m \u001b[39m.\u001b[39;00m\u001b[39m_tree\u001b[39;00m \u001b[39mimport\u001b[39;00m (\n\u001b[1;32m     <a href='file:///Users/cerminar/.virtualenvs/ntp-tools-py310/lib/python3.10/site-packages/root_numpy/__init__.py?line=51'>52</a>\u001b[0m     root2array, root2rec,\n\u001b[1;32m     <a href='file:///Users/cerminar/.virtualenvs/ntp-tools-py310/lib/python3.10/site-packages/root_numpy/__init__.py?line=52'>53</a>\u001b[0m     tree2array, tree2rec,\n\u001b[1;32m     <a href='file:///Users/cerminar/.virtualenvs/ntp-tools-py310/lib/python3.10/site-packages/root_numpy/__init__.py?line=53'>54</a>\u001b[0m     array2tree, array2root,\n\u001b[1;32m     <a href='file:///Users/cerminar/.virtualenvs/ntp-tools-py310/lib/python3.10/site-packages/root_numpy/__init__.py?line=54'>55</a>\u001b[0m     list_trees, list_branches,\n\u001b[1;32m     <a href='file:///Users/cerminar/.virtualenvs/ntp-tools-py310/lib/python3.10/site-packages/root_numpy/__init__.py?line=55'>56</a>\u001b[0m     list_directories, list_structures)\n\u001b[1;32m     <a href='file:///Users/cerminar/.virtualenvs/ntp-tools-py310/lib/python3.10/site-packages/root_numpy/__init__.py?line=56'>57</a>\u001b[0m \u001b[39mfrom\u001b[39;00m \u001b[39m.\u001b[39;00m\u001b[39m_hist\u001b[39;00m \u001b[39mimport\u001b[39;00m fill_hist, fill_profile, hist2array, array2hist\n\u001b[1;32m     <a href='file:///Users/cerminar/.virtualenvs/ntp-tools-py310/lib/python3.10/site-packages/root_numpy/__init__.py?line=57'>58</a>\u001b[0m \u001b[39mfrom\u001b[39;00m \u001b[39m.\u001b[39;00m\u001b[39m_graph\u001b[39;00m \u001b[39mimport\u001b[39;00m fill_graph\n",
      "File \u001b[0;32m/opt/root/root-6.24.06_py310/lib/ROOT/_facade.py:150\u001b[0m, in \u001b[0;36mROOTFacade._set_import_hook.<locals>._importhook\u001b[0;34m(name, *args, **kwds)\u001b[0m\n\u001b[1;32m    <a href='file:///opt/root/root-6.24.06_py310/lib/ROOT/_facade.py?line=147'>148</a>\u001b[0m     \u001b[39mexcept\u001b[39;00m \u001b[39mException\u001b[39;00m:\n\u001b[1;32m    <a href='file:///opt/root/root-6.24.06_py310/lib/ROOT/_facade.py?line=148'>149</a>\u001b[0m         \u001b[39mpass\u001b[39;00m\n\u001b[0;32m--> <a href='file:///opt/root/root-6.24.06_py310/lib/ROOT/_facade.py?line=149'>150</a>\u001b[0m \u001b[39mreturn\u001b[39;00m _orig_ihook(name, \u001b[39m*\u001b[39;49margs, \u001b[39m*\u001b[39;49m\u001b[39m*\u001b[39;49mkwds)\n",
      "File \u001b[0;32m~/.virtualenvs/ntp-tools-py310/lib/python3.10/site-packages/root_numpy/_tree.py:6\u001b[0m, in \u001b[0;36m<module>\u001b[0;34m\u001b[0m\n\u001b[1;32m      <a href='file:///Users/cerminar/.virtualenvs/ntp-tools-py310/lib/python3.10/site-packages/root_numpy/_tree.py?line=2'>3</a>\u001b[0m \u001b[39mimport\u001b[39;00m \u001b[39mnumpy\u001b[39;00m \u001b[39mas\u001b[39;00m \u001b[39mnp\u001b[39;00m\n\u001b[1;32m      <a href='file:///Users/cerminar/.virtualenvs/ntp-tools-py310/lib/python3.10/site-packages/root_numpy/_tree.py?line=4'>5</a>\u001b[0m \u001b[39mfrom\u001b[39;00m \u001b[39m.\u001b[39;00m\u001b[39mextern\u001b[39;00m\u001b[39m.\u001b[39;00m\u001b[39msix\u001b[39;00m \u001b[39mimport\u001b[39;00m string_types\n\u001b[0;32m----> <a href='file:///Users/cerminar/.virtualenvs/ntp-tools-py310/lib/python3.10/site-packages/root_numpy/_tree.py?line=5'>6</a>\u001b[0m \u001b[39mfrom\u001b[39;00m \u001b[39m.\u001b[39;00m \u001b[39mimport\u001b[39;00m _librootnumpy\n\u001b[1;32m      <a href='file:///Users/cerminar/.virtualenvs/ntp-tools-py310/lib/python3.10/site-packages/root_numpy/_tree.py?line=8'>9</a>\u001b[0m __all__ \u001b[39m=\u001b[39m [\n\u001b[1;32m     <a href='file:///Users/cerminar/.virtualenvs/ntp-tools-py310/lib/python3.10/site-packages/root_numpy/_tree.py?line=9'>10</a>\u001b[0m     \u001b[39m'\u001b[39m\u001b[39mroot2array\u001b[39m\u001b[39m'\u001b[39m,\n\u001b[1;32m     <a href='file:///Users/cerminar/.virtualenvs/ntp-tools-py310/lib/python3.10/site-packages/root_numpy/_tree.py?line=10'>11</a>\u001b[0m     \u001b[39m'\u001b[39m\u001b[39mroot2rec\u001b[39m\u001b[39m'\u001b[39m,\n\u001b[0;32m   (...)\u001b[0m\n\u001b[1;32m     <a href='file:///Users/cerminar/.virtualenvs/ntp-tools-py310/lib/python3.10/site-packages/root_numpy/_tree.py?line=18'>19</a>\u001b[0m     \u001b[39m'\u001b[39m\u001b[39marray2root\u001b[39m\u001b[39m'\u001b[39m,\n\u001b[1;32m     <a href='file:///Users/cerminar/.virtualenvs/ntp-tools-py310/lib/python3.10/site-packages/root_numpy/_tree.py?line=19'>20</a>\u001b[0m ]\n\u001b[1;32m     <a href='file:///Users/cerminar/.virtualenvs/ntp-tools-py310/lib/python3.10/site-packages/root_numpy/_tree.py?line=22'>23</a>\u001b[0m \u001b[39mdef\u001b[39;00m \u001b[39m_glob\u001b[39m(filenames):\n",
      "File \u001b[0;32m/opt/root/root-6.24.06_py310/lib/ROOT/_facade.py:150\u001b[0m, in \u001b[0;36mROOTFacade._set_import_hook.<locals>._importhook\u001b[0;34m(name, *args, **kwds)\u001b[0m\n\u001b[1;32m    <a href='file:///opt/root/root-6.24.06_py310/lib/ROOT/_facade.py?line=147'>148</a>\u001b[0m     \u001b[39mexcept\u001b[39;00m \u001b[39mException\u001b[39;00m:\n\u001b[1;32m    <a href='file:///opt/root/root-6.24.06_py310/lib/ROOT/_facade.py?line=148'>149</a>\u001b[0m         \u001b[39mpass\u001b[39;00m\n\u001b[0;32m--> <a href='file:///opt/root/root-6.24.06_py310/lib/ROOT/_facade.py?line=149'>150</a>\u001b[0m \u001b[39mreturn\u001b[39;00m _orig_ihook(name, \u001b[39m*\u001b[39;49margs, \u001b[39m*\u001b[39;49m\u001b[39m*\u001b[39;49mkwds)\n",
      "\u001b[0;31mImportError\u001b[0m: dlopen(/Users/cerminar/.virtualenvs/ntp-tools-py310/lib/python3.10/site-packages/root_numpy/_librootnumpy.cpython-310-darwin.so, 0x0002): Library not loaded: @rpath/libHist.so\n  Referenced from: /Users/cerminar/.virtualenvs/ntp-tools-py310/lib/python3.10/site-packages/root_numpy/_librootnumpy.cpython-310-darwin.so\n  Reason: tried: '/usr/local/lib/libHist.so' (no such file), '/usr/lib/libHist.so' (no such file)"
     ]
    }
   ],
   "source": [
    "import python.l1THistos as histos\n",
    "\n",
    "\n",
    "root_file = ROOT.TFile('/Users/cerminar/Workspace/hgcal-analysis/py3/ntuple-tools/plots1/histos_doubleele_flat1to100_PU200_eg_v150.69A.root')\n",
    "\n",
    "# retrieve a set of plots given the name\n",
    "\n",
    "histo_name = 'PFNFtkEmEB_all_GEN'\n",
    "\n",
    "histo_set = histos.EGResoHistos(histo_name, root_file)\n",
    "\n",
    "dir(histo_set)\n",
    "\n"
   ]
  },
  {
   "cell_type": "markdown",
   "metadata": {},
   "source": [
    "you can draw one of the histograms using the following code.\n",
    "\n",
    "**NOTE**: in `ROOTJs` drawing only happens when you draw the canvas!"
   ]
  },
  {
   "cell_type": "code",
   "execution_count": 6,
   "metadata": {},
   "outputs": [
    {
     "ename": "NameError",
     "evalue": "name 'histo_set' is not defined",
     "output_type": "error",
     "traceback": [
      "\u001b[0;31m---------------------------------------------------------------------------\u001b[0m",
      "\u001b[0;31mNameError\u001b[0m                                 Traceback (most recent call last)",
      "\u001b[1;32m/Users/cerminar/Workspace/hgcal-analysis/py3/ntuple-tools/plot-drawing-tools/getting-started.ipynb Cell 11'\u001b[0m in \u001b[0;36m<cell line: 2>\u001b[0;34m()\u001b[0m\n\u001b[1;32m      <a href='vscode-notebook-cell:/Users/cerminar/Workspace/hgcal-analysis/py3/ntuple-tools/plot-drawing-tools/getting-started.ipynb#ch0000010?line=0'>1</a>\u001b[0m c \u001b[39m=\u001b[39m ROOT\u001b[39m.\u001b[39mTCanvas()\n\u001b[0;32m----> <a href='vscode-notebook-cell:/Users/cerminar/Workspace/hgcal-analysis/py3/ntuple-tools/plot-drawing-tools/getting-started.ipynb#ch0000010?line=1'>2</a>\u001b[0m histo_set\u001b[39m.\u001b[39mh_etaRes\u001b[39m.\u001b[39mDraw()\n\u001b[1;32m      <a href='vscode-notebook-cell:/Users/cerminar/Workspace/hgcal-analysis/py3/ntuple-tools/plot-drawing-tools/getting-started.ipynb#ch0000010?line=2'>3</a>\u001b[0m c\u001b[39m.\u001b[39mDraw()\n",
      "\u001b[0;31mNameError\u001b[0m: name 'histo_set' is not defined"
     ]
    }
   ],
   "source": [
    "c = ROOT.TCanvas()\n",
    "histo_set.h_etaRes.Draw()\n",
    "c.Draw()\n"
   ]
  },
  {
   "cell_type": "markdown",
   "metadata": {},
   "source": [
    "Another example: the efficiencies!\n",
    "Also the class used to create the efficiency plots works along the same principle. \n",
    "\n",
    "It has 4 important members:\n",
    "   * `h_den`: the collection of histos for the GEN level distribution of all the selected GEN particle\n",
    "   * `h_num`: the collection of histos for the GEN level distribution for the selcted GEN particles actually matching the object of interest \n",
    "   * `h_eff`: the GEN matching efficiency plot obtained dividing the corresponding plots of `h_num` and `h_den` collections\n",
    "   * `h_ton`: the turn-on plot for a given selection (factorizing out the GEN matching efficiency)\n",
    "    "
   ]
  },
  {
   "cell_type": "code",
   "execution_count": null,
   "metadata": {},
   "outputs": [],
   "source": [
    "histo_eff = histos.HistoSetEff(histo_name, root_file)\n",
    "\n",
    "dir(histo_eff)\n",
    "\n",
    "dir(histo_eff.h_eff)\n"
   ]
  },
  {
   "cell_type": "code",
   "execution_count": null,
   "metadata": {},
   "outputs": [],
   "source": [
    "c = ROOT.TCanvas()\n",
    "histo_eff.h_eff.h_eta.Draw()\n",
    "c.Draw()\n"
   ]
  },
  {
   "cell_type": "markdown",
   "metadata": {},
   "source": [
    "## Histo files: the basic functionality\n",
    "\n",
    "The files are organized in folders representing the class of histograms (names as in `l1THistos.py`) and the actual histograms follow the following naming convention:\n",
    "\n",
    "`<tp-name>_<tp-selection>_<gen-selection>_h_<histoname>`\n",
    "\n",
    "The part up to the `_h_` is actually the name we used to read the HistoClasses in the previous examples.\n",
    "\n",
    "The class `HistoFile` allows to browse the content of the file in a couple of lines.\n",
    "\n"
   ]
  },
  {
   "cell_type": "code",
   "execution_count": null,
   "metadata": {},
   "outputs": [],
   "source": [
    "# %load samples.py\n",
    "\n",
    "samples = [\n",
    "    HistoFile('doubleele_flat1to100_PU200_eg', 'PU200', 'v150.69A', 'eg', 'root://eosuser.cern.ch//eos/user/c/cerminar/hgcal/CMSSW1015/plots'),\n",
    "]\n",
    "\n",
    "dir(samples[0])\n",
    "\n",
    "print(samples[0].histo_filename)"
   ]
  },
  {
   "cell_type": "markdown",
   "metadata": {},
   "source": [
    "For each Histo Class stored in the file you can print all the strings corresponding to the `<tp-name>`, `<tp-selection>`, `<gen-selection>`"
   ]
  },
  {
   "cell_type": "code",
   "execution_count": 7,
   "metadata": {},
   "outputs": [
    {
     "ename": "NameError",
     "evalue": "name 'samples' is not defined",
     "output_type": "error",
     "traceback": [
      "\u001b[0;31m---------------------------------------------------------------------------\u001b[0m",
      "\u001b[0;31mNameError\u001b[0m                                 Traceback (most recent call last)",
      "\u001b[1;32m/Users/cerminar/Workspace/hgcal-analysis/py3/ntuple-tools/plot-drawing-tools/getting-started.ipynb Cell 18'\u001b[0m in \u001b[0;36m<cell line: 3>\u001b[0;34m()\u001b[0m\n\u001b[1;32m      <a href='vscode-notebook-cell:/Users/cerminar/Workspace/hgcal-analysis/py3/ntuple-tools/plot-drawing-tools/getting-started.ipynb#ch0000017?line=0'>1</a>\u001b[0m \u001b[39m# %load python/settings.py\u001b[39;00m\n\u001b[0;32m----> <a href='vscode-notebook-cell:/Users/cerminar/Workspace/hgcal-analysis/py3/ntuple-tools/plot-drawing-tools/getting-started.ipynb#ch0000017?line=2'>3</a>\u001b[0m \u001b[39mfor\u001b[39;00m hf \u001b[39min\u001b[39;00m samples:\n\u001b[1;32m      <a href='vscode-notebook-cell:/Users/cerminar/Workspace/hgcal-analysis/py3/ntuple-tools/plot-drawing-tools/getting-started.ipynb#ch0000017?line=3'>4</a>\u001b[0m     hf\u001b[39m.\u001b[39mprint_primitives()\n",
      "\u001b[0;31mNameError\u001b[0m: name 'samples' is not defined"
     ]
    }
   ],
   "source": [
    "# %load python/settings.py\n",
    "\n",
    "for hf in samples:\n",
    "    hf.print_primitives()\n",
    "\n"
   ]
  },
  {
   "cell_type": "markdown",
   "metadata": {},
   "source": [
    "## Labels for drawing\n",
    "\n",
    "In the `ntuple-tools` all *collections*, *selections* and *samples* have a label assigned which can be used during the drawing. You can retrieve all of them via the `EventManager` which stores them in an python `dict`: the `key` is the object `name` and the `label` is in ROOT `TLatex` format. \n"
   ]
  },
  {
   "cell_type": "code",
   "execution_count": 8,
   "metadata": {},
   "outputs": [
    {
     "ename": "ImportError",
     "evalue": "dlopen(/Users/cerminar/.virtualenvs/ntp-tools-py310/lib/python3.10/site-packages/root_numpy/_librootnumpy.cpython-310-darwin.so, 0x0002): Library not loaded: @rpath/libHist.so\n  Referenced from: /Users/cerminar/.virtualenvs/ntp-tools-py310/lib/python3.10/site-packages/root_numpy/_librootnumpy.cpython-310-darwin.so\n  Reason: tried: '/usr/local/lib/libHist.so' (no such file), '/usr/lib/libHist.so' (no such file)",
     "output_type": "error",
     "traceback": [
      "\u001b[0;31m---------------------------------------------------------------------------\u001b[0m",
      "\u001b[0;31mImportError\u001b[0m                               Traceback (most recent call last)",
      "\u001b[1;32m/Users/cerminar/Workspace/hgcal-analysis/py3/ntuple-tools/plot-drawing-tools/getting-started.ipynb Cell 20'\u001b[0m in \u001b[0;36m<cell line: 1>\u001b[0;34m()\u001b[0m\n\u001b[0;32m----> <a href='vscode-notebook-cell:/Users/cerminar/Workspace/hgcal-analysis/py3/ntuple-tools/plot-drawing-tools/getting-started.ipynb#ch0000019?line=0'>1</a>\u001b[0m \u001b[39mimport\u001b[39;00m \u001b[39mpython\u001b[39;00m\u001b[39m.\u001b[39;00m\u001b[39mcollections\u001b[39;00m \u001b[39mas\u001b[39;00m \u001b[39mcollections\u001b[39;00m\n\u001b[1;32m      <a href='vscode-notebook-cell:/Users/cerminar/Workspace/hgcal-analysis/py3/ntuple-tools/plot-drawing-tools/getting-started.ipynb#ch0000019?line=1'>2</a>\u001b[0m \u001b[39mimport\u001b[39;00m \u001b[39mpython\u001b[39;00m\u001b[39m.\u001b[39;00m\u001b[39mselections\u001b[39;00m \u001b[39mas\u001b[39;00m \u001b[39mselections\u001b[39;00m\n\u001b[1;32m      <a href='vscode-notebook-cell:/Users/cerminar/Workspace/hgcal-analysis/py3/ntuple-tools/plot-drawing-tools/getting-started.ipynb#ch0000019?line=3'>4</a>\u001b[0m labels_dict \u001b[39m=\u001b[39m {}\n",
      "File \u001b[0;32m/opt/root/root-6.24.06_py310/lib/ROOT/_facade.py:150\u001b[0m, in \u001b[0;36mROOTFacade._set_import_hook.<locals>._importhook\u001b[0;34m(name, *args, **kwds)\u001b[0m\n\u001b[1;32m    <a href='file:///opt/root/root-6.24.06_py310/lib/ROOT/_facade.py?line=147'>148</a>\u001b[0m     \u001b[39mexcept\u001b[39;00m \u001b[39mException\u001b[39;00m:\n\u001b[1;32m    <a href='file:///opt/root/root-6.24.06_py310/lib/ROOT/_facade.py?line=148'>149</a>\u001b[0m         \u001b[39mpass\u001b[39;00m\n\u001b[0;32m--> <a href='file:///opt/root/root-6.24.06_py310/lib/ROOT/_facade.py?line=149'>150</a>\u001b[0m \u001b[39mreturn\u001b[39;00m _orig_ihook(name, \u001b[39m*\u001b[39;49margs, \u001b[39m*\u001b[39;49m\u001b[39m*\u001b[39;49mkwds)\n",
      "File \u001b[0;32m~/Workspace/hgcal-analysis/py3/ntuple-tools/plot-drawing-tools/../python/collections.py:25\u001b[0m, in \u001b[0;36m<module>\u001b[0;34m\u001b[0m\n\u001b[1;32m     <a href='file:///Users/cerminar/Workspace/hgcal-analysis/py3/ntuple-tools/plot-drawing-tools/../python/collections.py?line=21'>22</a>\u001b[0m \u001b[39mimport\u001b[39;00m \u001b[39mmath\u001b[39;00m\n\u001b[1;32m     <a href='file:///Users/cerminar/Workspace/hgcal-analysis/py3/ntuple-tools/plot-drawing-tools/../python/collections.py?line=22'>23</a>\u001b[0m \u001b[39mimport\u001b[39;00m \u001b[39msys\u001b[39;00m\n\u001b[0;32m---> <a href='file:///Users/cerminar/Workspace/hgcal-analysis/py3/ntuple-tools/plot-drawing-tools/../python/collections.py?line=24'>25</a>\u001b[0m \u001b[39mimport\u001b[39;00m \u001b[39mroot_numpy\u001b[39;00m\u001b[39m.\u001b[39;00m\u001b[39mtmva\u001b[39;00m \u001b[39mas\u001b[39;00m \u001b[39mrnptmva\u001b[39;00m\n\u001b[1;32m     <a href='file:///Users/cerminar/Workspace/hgcal-analysis/py3/ntuple-tools/plot-drawing-tools/../python/collections.py?line=26'>27</a>\u001b[0m \u001b[39mfrom\u001b[39;00m \u001b[39m.\u001b[39;00m\u001b[39mutils\u001b[39;00m \u001b[39mimport\u001b[39;00m debugPrintOut\n\u001b[1;32m     <a href='file:///Users/cerminar/Workspace/hgcal-analysis/py3/ntuple-tools/plot-drawing-tools/../python/collections.py?line=27'>28</a>\u001b[0m \u001b[39mimport\u001b[39;00m \u001b[39mpython\u001b[39;00m\u001b[39m.\u001b[39;00m\u001b[39mclusterTools\u001b[39;00m \u001b[39mas\u001b[39;00m \u001b[39mclAlgo\u001b[39;00m\n",
      "File \u001b[0;32m/opt/root/root-6.24.06_py310/lib/ROOT/_facade.py:150\u001b[0m, in \u001b[0;36mROOTFacade._set_import_hook.<locals>._importhook\u001b[0;34m(name, *args, **kwds)\u001b[0m\n\u001b[1;32m    <a href='file:///opt/root/root-6.24.06_py310/lib/ROOT/_facade.py?line=147'>148</a>\u001b[0m     \u001b[39mexcept\u001b[39;00m \u001b[39mException\u001b[39;00m:\n\u001b[1;32m    <a href='file:///opt/root/root-6.24.06_py310/lib/ROOT/_facade.py?line=148'>149</a>\u001b[0m         \u001b[39mpass\u001b[39;00m\n\u001b[0;32m--> <a href='file:///opt/root/root-6.24.06_py310/lib/ROOT/_facade.py?line=149'>150</a>\u001b[0m \u001b[39mreturn\u001b[39;00m _orig_ihook(name, \u001b[39m*\u001b[39;49margs, \u001b[39m*\u001b[39;49m\u001b[39m*\u001b[39;49mkwds)\n",
      "File \u001b[0;32m~/.virtualenvs/ntp-tools-py310/lib/python3.10/site-packages/root_numpy/__init__.py:51\u001b[0m, in \u001b[0;36m<module>\u001b[0;34m\u001b[0m\n\u001b[1;32m     <a href='file:///Users/cerminar/.virtualenvs/ntp-tools-py310/lib/python3.10/site-packages/root_numpy/__init__.py?line=47'>48</a>\u001b[0m     \u001b[39mdel\u001b[39;00m root_version_at_install\n\u001b[1;32m     <a href='file:///Users/cerminar/.virtualenvs/ntp-tools-py310/lib/python3.10/site-packages/root_numpy/__init__.py?line=48'>49</a>\u001b[0m     \u001b[39mdel\u001b[39;00m numpy_version_at_install\n\u001b[0;32m---> <a href='file:///Users/cerminar/.virtualenvs/ntp-tools-py310/lib/python3.10/site-packages/root_numpy/__init__.py?line=50'>51</a>\u001b[0m \u001b[39mfrom\u001b[39;00m \u001b[39m.\u001b[39;00m\u001b[39m_tree\u001b[39;00m \u001b[39mimport\u001b[39;00m (\n\u001b[1;32m     <a href='file:///Users/cerminar/.virtualenvs/ntp-tools-py310/lib/python3.10/site-packages/root_numpy/__init__.py?line=51'>52</a>\u001b[0m     root2array, root2rec,\n\u001b[1;32m     <a href='file:///Users/cerminar/.virtualenvs/ntp-tools-py310/lib/python3.10/site-packages/root_numpy/__init__.py?line=52'>53</a>\u001b[0m     tree2array, tree2rec,\n\u001b[1;32m     <a href='file:///Users/cerminar/.virtualenvs/ntp-tools-py310/lib/python3.10/site-packages/root_numpy/__init__.py?line=53'>54</a>\u001b[0m     array2tree, array2root,\n\u001b[1;32m     <a href='file:///Users/cerminar/.virtualenvs/ntp-tools-py310/lib/python3.10/site-packages/root_numpy/__init__.py?line=54'>55</a>\u001b[0m     list_trees, list_branches,\n\u001b[1;32m     <a href='file:///Users/cerminar/.virtualenvs/ntp-tools-py310/lib/python3.10/site-packages/root_numpy/__init__.py?line=55'>56</a>\u001b[0m     list_directories, list_structures)\n\u001b[1;32m     <a href='file:///Users/cerminar/.virtualenvs/ntp-tools-py310/lib/python3.10/site-packages/root_numpy/__init__.py?line=56'>57</a>\u001b[0m \u001b[39mfrom\u001b[39;00m \u001b[39m.\u001b[39;00m\u001b[39m_hist\u001b[39;00m \u001b[39mimport\u001b[39;00m fill_hist, fill_profile, hist2array, array2hist\n\u001b[1;32m     <a href='file:///Users/cerminar/.virtualenvs/ntp-tools-py310/lib/python3.10/site-packages/root_numpy/__init__.py?line=57'>58</a>\u001b[0m \u001b[39mfrom\u001b[39;00m \u001b[39m.\u001b[39;00m\u001b[39m_graph\u001b[39;00m \u001b[39mimport\u001b[39;00m fill_graph\n",
      "File \u001b[0;32m/opt/root/root-6.24.06_py310/lib/ROOT/_facade.py:150\u001b[0m, in \u001b[0;36mROOTFacade._set_import_hook.<locals>._importhook\u001b[0;34m(name, *args, **kwds)\u001b[0m\n\u001b[1;32m    <a href='file:///opt/root/root-6.24.06_py310/lib/ROOT/_facade.py?line=147'>148</a>\u001b[0m     \u001b[39mexcept\u001b[39;00m \u001b[39mException\u001b[39;00m:\n\u001b[1;32m    <a href='file:///opt/root/root-6.24.06_py310/lib/ROOT/_facade.py?line=148'>149</a>\u001b[0m         \u001b[39mpass\u001b[39;00m\n\u001b[0;32m--> <a href='file:///opt/root/root-6.24.06_py310/lib/ROOT/_facade.py?line=149'>150</a>\u001b[0m \u001b[39mreturn\u001b[39;00m _orig_ihook(name, \u001b[39m*\u001b[39;49margs, \u001b[39m*\u001b[39;49m\u001b[39m*\u001b[39;49mkwds)\n",
      "File \u001b[0;32m~/.virtualenvs/ntp-tools-py310/lib/python3.10/site-packages/root_numpy/_tree.py:6\u001b[0m, in \u001b[0;36m<module>\u001b[0;34m\u001b[0m\n\u001b[1;32m      <a href='file:///Users/cerminar/.virtualenvs/ntp-tools-py310/lib/python3.10/site-packages/root_numpy/_tree.py?line=2'>3</a>\u001b[0m \u001b[39mimport\u001b[39;00m \u001b[39mnumpy\u001b[39;00m \u001b[39mas\u001b[39;00m \u001b[39mnp\u001b[39;00m\n\u001b[1;32m      <a href='file:///Users/cerminar/.virtualenvs/ntp-tools-py310/lib/python3.10/site-packages/root_numpy/_tree.py?line=4'>5</a>\u001b[0m \u001b[39mfrom\u001b[39;00m \u001b[39m.\u001b[39;00m\u001b[39mextern\u001b[39;00m\u001b[39m.\u001b[39;00m\u001b[39msix\u001b[39;00m \u001b[39mimport\u001b[39;00m string_types\n\u001b[0;32m----> <a href='file:///Users/cerminar/.virtualenvs/ntp-tools-py310/lib/python3.10/site-packages/root_numpy/_tree.py?line=5'>6</a>\u001b[0m \u001b[39mfrom\u001b[39;00m \u001b[39m.\u001b[39;00m \u001b[39mimport\u001b[39;00m _librootnumpy\n\u001b[1;32m      <a href='file:///Users/cerminar/.virtualenvs/ntp-tools-py310/lib/python3.10/site-packages/root_numpy/_tree.py?line=8'>9</a>\u001b[0m __all__ \u001b[39m=\u001b[39m [\n\u001b[1;32m     <a href='file:///Users/cerminar/.virtualenvs/ntp-tools-py310/lib/python3.10/site-packages/root_numpy/_tree.py?line=9'>10</a>\u001b[0m     \u001b[39m'\u001b[39m\u001b[39mroot2array\u001b[39m\u001b[39m'\u001b[39m,\n\u001b[1;32m     <a href='file:///Users/cerminar/.virtualenvs/ntp-tools-py310/lib/python3.10/site-packages/root_numpy/_tree.py?line=10'>11</a>\u001b[0m     \u001b[39m'\u001b[39m\u001b[39mroot2rec\u001b[39m\u001b[39m'\u001b[39m,\n\u001b[0;32m   (...)\u001b[0m\n\u001b[1;32m     <a href='file:///Users/cerminar/.virtualenvs/ntp-tools-py310/lib/python3.10/site-packages/root_numpy/_tree.py?line=18'>19</a>\u001b[0m     \u001b[39m'\u001b[39m\u001b[39marray2root\u001b[39m\u001b[39m'\u001b[39m,\n\u001b[1;32m     <a href='file:///Users/cerminar/.virtualenvs/ntp-tools-py310/lib/python3.10/site-packages/root_numpy/_tree.py?line=19'>20</a>\u001b[0m ]\n\u001b[1;32m     <a href='file:///Users/cerminar/.virtualenvs/ntp-tools-py310/lib/python3.10/site-packages/root_numpy/_tree.py?line=22'>23</a>\u001b[0m \u001b[39mdef\u001b[39;00m \u001b[39m_glob\u001b[39m(filenames):\n",
      "File \u001b[0;32m/opt/root/root-6.24.06_py310/lib/ROOT/_facade.py:150\u001b[0m, in \u001b[0;36mROOTFacade._set_import_hook.<locals>._importhook\u001b[0;34m(name, *args, **kwds)\u001b[0m\n\u001b[1;32m    <a href='file:///opt/root/root-6.24.06_py310/lib/ROOT/_facade.py?line=147'>148</a>\u001b[0m     \u001b[39mexcept\u001b[39;00m \u001b[39mException\u001b[39;00m:\n\u001b[1;32m    <a href='file:///opt/root/root-6.24.06_py310/lib/ROOT/_facade.py?line=148'>149</a>\u001b[0m         \u001b[39mpass\u001b[39;00m\n\u001b[0;32m--> <a href='file:///opt/root/root-6.24.06_py310/lib/ROOT/_facade.py?line=149'>150</a>\u001b[0m \u001b[39mreturn\u001b[39;00m _orig_ihook(name, \u001b[39m*\u001b[39;49margs, \u001b[39m*\u001b[39;49m\u001b[39m*\u001b[39;49mkwds)\n",
      "\u001b[0;31mImportError\u001b[0m: dlopen(/Users/cerminar/.virtualenvs/ntp-tools-py310/lib/python3.10/site-packages/root_numpy/_librootnumpy.cpython-310-darwin.so, 0x0002): Library not loaded: @rpath/libHist.so\n  Referenced from: /Users/cerminar/.virtualenvs/ntp-tools-py310/lib/python3.10/site-packages/root_numpy/_librootnumpy.cpython-310-darwin.so\n  Reason: tried: '/usr/local/lib/libHist.so' (no such file), '/usr/lib/libHist.so' (no such file)"
     ]
    }
   ],
   "source": [
    "import python.collections as collections\n",
    "import python.selections as selections\n",
    "\n",
    "labels_dict = {}\n",
    "\n",
    "evm = collections.EventManager()\n",
    "labels_dict.update(evm.get_labels())\n",
    "selm = selections.SelectionManager()\n",
    "labels_dict.update(selm.get_labels())\n",
    "\n",
    "print(labels_dict)\n",
    "\n",
    "\n",
    "\n"
   ]
  },
  {
   "cell_type": "markdown",
   "metadata": {},
   "source": [
    "## Automatic reading of the histograms\n",
    "\n",
    "The `HPlot` class allows to read all the histos belonging to a certain HistoClass in a `list` of samples."
   ]
  },
  {
   "cell_type": "code",
   "execution_count": 9,
   "metadata": {},
   "outputs": [
    {
     "ename": "ImportError",
     "evalue": "dlopen(/Users/cerminar/.virtualenvs/ntp-tools-py310/lib/python3.10/site-packages/root_numpy/_librootnumpy.cpython-310-darwin.so, 0x0002): Library not loaded: @rpath/libHist.so\n  Referenced from: /Users/cerminar/.virtualenvs/ntp-tools-py310/lib/python3.10/site-packages/root_numpy/_librootnumpy.cpython-310-darwin.so\n  Reason: tried: '/usr/local/lib/libHist.so' (no such file), '/usr/lib/libHist.so' (no such file)",
     "output_type": "error",
     "traceback": [
      "\u001b[0;31m---------------------------------------------------------------------------\u001b[0m",
      "\u001b[0;31mImportError\u001b[0m                               Traceback (most recent call last)",
      "File \u001b[0;32m<timed exec>:1\u001b[0m, in \u001b[0;36m<module>\u001b[0;34m\u001b[0m\n",
      "File \u001b[0;32m/opt/root/root-6.24.06_py310/lib/ROOT/_facade.py:150\u001b[0m, in \u001b[0;36mROOTFacade._set_import_hook.<locals>._importhook\u001b[0;34m(name, *args, **kwds)\u001b[0m\n\u001b[1;32m    <a href='file:///opt/root/root-6.24.06_py310/lib/ROOT/_facade.py?line=147'>148</a>\u001b[0m     \u001b[39mexcept\u001b[39;00m \u001b[39mException\u001b[39;00m:\n\u001b[1;32m    <a href='file:///opt/root/root-6.24.06_py310/lib/ROOT/_facade.py?line=148'>149</a>\u001b[0m         \u001b[39mpass\u001b[39;00m\n\u001b[0;32m--> <a href='file:///opt/root/root-6.24.06_py310/lib/ROOT/_facade.py?line=149'>150</a>\u001b[0m \u001b[39mreturn\u001b[39;00m _orig_ihook(name, \u001b[39m*\u001b[39;49margs, \u001b[39m*\u001b[39;49m\u001b[39m*\u001b[39;49mkwds)\n",
      "File \u001b[0;32m~/Workspace/hgcal-analysis/py3/ntuple-tools/plot-drawing-tools/../python/l1THistos.py:3\u001b[0m, in \u001b[0;36m<module>\u001b[0;34m\u001b[0m\n\u001b[1;32m      <a href='file:///Users/cerminar/Workspace/hgcal-analysis/py3/ntuple-tools/plot-drawing-tools/../python/l1THistos.py?line=0'>1</a>\u001b[0m \u001b[39mfrom\u001b[39;00m \u001b[39m__future__\u001b[39;00m \u001b[39mimport\u001b[39;00m print_function\n\u001b[1;32m      <a href='file:///Users/cerminar/Workspace/hgcal-analysis/py3/ntuple-tools/plot-drawing-tools/../python/l1THistos.py?line=1'>2</a>\u001b[0m \u001b[39mimport\u001b[39;00m \u001b[39mROOT\u001b[39;00m\n\u001b[0;32m----> <a href='file:///Users/cerminar/Workspace/hgcal-analysis/py3/ntuple-tools/plot-drawing-tools/../python/l1THistos.py?line=2'>3</a>\u001b[0m \u001b[39mimport\u001b[39;00m \u001b[39mroot_numpy\u001b[39;00m \u001b[39mas\u001b[39;00m \u001b[39mrnp\u001b[39;00m\n\u001b[1;32m      <a href='file:///Users/cerminar/Workspace/hgcal-analysis/py3/ntuple-tools/plot-drawing-tools/../python/l1THistos.py?line=3'>4</a>\u001b[0m \u001b[39mimport\u001b[39;00m \u001b[39mnumpy\u001b[39;00m \u001b[39mas\u001b[39;00m \u001b[39mnp\u001b[39;00m\n\u001b[1;32m      <a href='file:///Users/cerminar/Workspace/hgcal-analysis/py3/ntuple-tools/plot-drawing-tools/../python/l1THistos.py?line=4'>5</a>\u001b[0m \u001b[39mfrom\u001b[39;00m \u001b[39marray\u001b[39;00m \u001b[39mimport\u001b[39;00m array\n",
      "File \u001b[0;32m/opt/root/root-6.24.06_py310/lib/ROOT/_facade.py:150\u001b[0m, in \u001b[0;36mROOTFacade._set_import_hook.<locals>._importhook\u001b[0;34m(name, *args, **kwds)\u001b[0m\n\u001b[1;32m    <a href='file:///opt/root/root-6.24.06_py310/lib/ROOT/_facade.py?line=147'>148</a>\u001b[0m     \u001b[39mexcept\u001b[39;00m \u001b[39mException\u001b[39;00m:\n\u001b[1;32m    <a href='file:///opt/root/root-6.24.06_py310/lib/ROOT/_facade.py?line=148'>149</a>\u001b[0m         \u001b[39mpass\u001b[39;00m\n\u001b[0;32m--> <a href='file:///opt/root/root-6.24.06_py310/lib/ROOT/_facade.py?line=149'>150</a>\u001b[0m \u001b[39mreturn\u001b[39;00m _orig_ihook(name, \u001b[39m*\u001b[39;49margs, \u001b[39m*\u001b[39;49m\u001b[39m*\u001b[39;49mkwds)\n",
      "File \u001b[0;32m~/.virtualenvs/ntp-tools-py310/lib/python3.10/site-packages/root_numpy/__init__.py:51\u001b[0m, in \u001b[0;36m<module>\u001b[0;34m\u001b[0m\n\u001b[1;32m     <a href='file:///Users/cerminar/.virtualenvs/ntp-tools-py310/lib/python3.10/site-packages/root_numpy/__init__.py?line=47'>48</a>\u001b[0m     \u001b[39mdel\u001b[39;00m root_version_at_install\n\u001b[1;32m     <a href='file:///Users/cerminar/.virtualenvs/ntp-tools-py310/lib/python3.10/site-packages/root_numpy/__init__.py?line=48'>49</a>\u001b[0m     \u001b[39mdel\u001b[39;00m numpy_version_at_install\n\u001b[0;32m---> <a href='file:///Users/cerminar/.virtualenvs/ntp-tools-py310/lib/python3.10/site-packages/root_numpy/__init__.py?line=50'>51</a>\u001b[0m \u001b[39mfrom\u001b[39;00m \u001b[39m.\u001b[39;00m\u001b[39m_tree\u001b[39;00m \u001b[39mimport\u001b[39;00m (\n\u001b[1;32m     <a href='file:///Users/cerminar/.virtualenvs/ntp-tools-py310/lib/python3.10/site-packages/root_numpy/__init__.py?line=51'>52</a>\u001b[0m     root2array, root2rec,\n\u001b[1;32m     <a href='file:///Users/cerminar/.virtualenvs/ntp-tools-py310/lib/python3.10/site-packages/root_numpy/__init__.py?line=52'>53</a>\u001b[0m     tree2array, tree2rec,\n\u001b[1;32m     <a href='file:///Users/cerminar/.virtualenvs/ntp-tools-py310/lib/python3.10/site-packages/root_numpy/__init__.py?line=53'>54</a>\u001b[0m     array2tree, array2root,\n\u001b[1;32m     <a href='file:///Users/cerminar/.virtualenvs/ntp-tools-py310/lib/python3.10/site-packages/root_numpy/__init__.py?line=54'>55</a>\u001b[0m     list_trees, list_branches,\n\u001b[1;32m     <a href='file:///Users/cerminar/.virtualenvs/ntp-tools-py310/lib/python3.10/site-packages/root_numpy/__init__.py?line=55'>56</a>\u001b[0m     list_directories, list_structures)\n\u001b[1;32m     <a href='file:///Users/cerminar/.virtualenvs/ntp-tools-py310/lib/python3.10/site-packages/root_numpy/__init__.py?line=56'>57</a>\u001b[0m \u001b[39mfrom\u001b[39;00m \u001b[39m.\u001b[39;00m\u001b[39m_hist\u001b[39;00m \u001b[39mimport\u001b[39;00m fill_hist, fill_profile, hist2array, array2hist\n\u001b[1;32m     <a href='file:///Users/cerminar/.virtualenvs/ntp-tools-py310/lib/python3.10/site-packages/root_numpy/__init__.py?line=57'>58</a>\u001b[0m \u001b[39mfrom\u001b[39;00m \u001b[39m.\u001b[39;00m\u001b[39m_graph\u001b[39;00m \u001b[39mimport\u001b[39;00m fill_graph\n",
      "File \u001b[0;32m/opt/root/root-6.24.06_py310/lib/ROOT/_facade.py:150\u001b[0m, in \u001b[0;36mROOTFacade._set_import_hook.<locals>._importhook\u001b[0;34m(name, *args, **kwds)\u001b[0m\n\u001b[1;32m    <a href='file:///opt/root/root-6.24.06_py310/lib/ROOT/_facade.py?line=147'>148</a>\u001b[0m     \u001b[39mexcept\u001b[39;00m \u001b[39mException\u001b[39;00m:\n\u001b[1;32m    <a href='file:///opt/root/root-6.24.06_py310/lib/ROOT/_facade.py?line=148'>149</a>\u001b[0m         \u001b[39mpass\u001b[39;00m\n\u001b[0;32m--> <a href='file:///opt/root/root-6.24.06_py310/lib/ROOT/_facade.py?line=149'>150</a>\u001b[0m \u001b[39mreturn\u001b[39;00m _orig_ihook(name, \u001b[39m*\u001b[39;49margs, \u001b[39m*\u001b[39;49m\u001b[39m*\u001b[39;49mkwds)\n",
      "File \u001b[0;32m~/.virtualenvs/ntp-tools-py310/lib/python3.10/site-packages/root_numpy/_tree.py:6\u001b[0m, in \u001b[0;36m<module>\u001b[0;34m\u001b[0m\n\u001b[1;32m      <a href='file:///Users/cerminar/.virtualenvs/ntp-tools-py310/lib/python3.10/site-packages/root_numpy/_tree.py?line=2'>3</a>\u001b[0m \u001b[39mimport\u001b[39;00m \u001b[39mnumpy\u001b[39;00m \u001b[39mas\u001b[39;00m \u001b[39mnp\u001b[39;00m\n\u001b[1;32m      <a href='file:///Users/cerminar/.virtualenvs/ntp-tools-py310/lib/python3.10/site-packages/root_numpy/_tree.py?line=4'>5</a>\u001b[0m \u001b[39mfrom\u001b[39;00m \u001b[39m.\u001b[39;00m\u001b[39mextern\u001b[39;00m\u001b[39m.\u001b[39;00m\u001b[39msix\u001b[39;00m \u001b[39mimport\u001b[39;00m string_types\n\u001b[0;32m----> <a href='file:///Users/cerminar/.virtualenvs/ntp-tools-py310/lib/python3.10/site-packages/root_numpy/_tree.py?line=5'>6</a>\u001b[0m \u001b[39mfrom\u001b[39;00m \u001b[39m.\u001b[39;00m \u001b[39mimport\u001b[39;00m _librootnumpy\n\u001b[1;32m      <a href='file:///Users/cerminar/.virtualenvs/ntp-tools-py310/lib/python3.10/site-packages/root_numpy/_tree.py?line=8'>9</a>\u001b[0m __all__ \u001b[39m=\u001b[39m [\n\u001b[1;32m     <a href='file:///Users/cerminar/.virtualenvs/ntp-tools-py310/lib/python3.10/site-packages/root_numpy/_tree.py?line=9'>10</a>\u001b[0m     \u001b[39m'\u001b[39m\u001b[39mroot2array\u001b[39m\u001b[39m'\u001b[39m,\n\u001b[1;32m     <a href='file:///Users/cerminar/.virtualenvs/ntp-tools-py310/lib/python3.10/site-packages/root_numpy/_tree.py?line=10'>11</a>\u001b[0m     \u001b[39m'\u001b[39m\u001b[39mroot2rec\u001b[39m\u001b[39m'\u001b[39m,\n\u001b[0;32m   (...)\u001b[0m\n\u001b[1;32m     <a href='file:///Users/cerminar/.virtualenvs/ntp-tools-py310/lib/python3.10/site-packages/root_numpy/_tree.py?line=18'>19</a>\u001b[0m     \u001b[39m'\u001b[39m\u001b[39marray2root\u001b[39m\u001b[39m'\u001b[39m,\n\u001b[1;32m     <a href='file:///Users/cerminar/.virtualenvs/ntp-tools-py310/lib/python3.10/site-packages/root_numpy/_tree.py?line=19'>20</a>\u001b[0m ]\n\u001b[1;32m     <a href='file:///Users/cerminar/.virtualenvs/ntp-tools-py310/lib/python3.10/site-packages/root_numpy/_tree.py?line=22'>23</a>\u001b[0m \u001b[39mdef\u001b[39;00m \u001b[39m_glob\u001b[39m(filenames):\n",
      "File \u001b[0;32m/opt/root/root-6.24.06_py310/lib/ROOT/_facade.py:150\u001b[0m, in \u001b[0;36mROOTFacade._set_import_hook.<locals>._importhook\u001b[0;34m(name, *args, **kwds)\u001b[0m\n\u001b[1;32m    <a href='file:///opt/root/root-6.24.06_py310/lib/ROOT/_facade.py?line=147'>148</a>\u001b[0m     \u001b[39mexcept\u001b[39;00m \u001b[39mException\u001b[39;00m:\n\u001b[1;32m    <a href='file:///opt/root/root-6.24.06_py310/lib/ROOT/_facade.py?line=148'>149</a>\u001b[0m         \u001b[39mpass\u001b[39;00m\n\u001b[0;32m--> <a href='file:///opt/root/root-6.24.06_py310/lib/ROOT/_facade.py?line=149'>150</a>\u001b[0m \u001b[39mreturn\u001b[39;00m _orig_ihook(name, \u001b[39m*\u001b[39;49margs, \u001b[39m*\u001b[39;49m\u001b[39m*\u001b[39;49mkwds)\n",
      "\u001b[0;31mImportError\u001b[0m: dlopen(/Users/cerminar/.virtualenvs/ntp-tools-py310/lib/python3.10/site-packages/root_numpy/_librootnumpy.cpython-310-darwin.so, 0x0002): Library not loaded: @rpath/libHist.so\n  Referenced from: /Users/cerminar/.virtualenvs/ntp-tools-py310/lib/python3.10/site-packages/root_numpy/_librootnumpy.cpython-310-darwin.so\n  Reason: tried: '/usr/local/lib/libHist.so' (no such file), '/usr/lib/libHist.so' (no such file)"
     ]
    }
   ],
   "source": [
    "%%time\n",
    "\n",
    "import python.l1THistos as histos\n",
    "\n",
    "hplot = HPlot(samples, labels_dict)\n",
    "\n",
    "hplot.create_histo_proxies(histos.EGResoHistos)\n",
    "hplot.create_histo_proxies(histos.DecTkResoHistos)\n"
   ]
  },
  {
   "cell_type": "markdown",
   "metadata": {},
   "source": [
    "The histogram classes are stored in a pandas `DataFrame`"
   ]
  },
  {
   "cell_type": "code",
   "execution_count": null,
   "metadata": {},
   "outputs": [],
   "source": [
    "hplot.data[:10]"
   ]
  },
  {
   "cell_type": "markdown",
   "metadata": {},
   "source": [
    "The `HPlot` class allows to retrieve a set histograms belonging to a certain HistoClass on the basis of the `<tp-name>`, `<tp-selection>`, `<gen-selection>`"
   ]
  },
  {
   "cell_type": "code",
   "execution_count": null,
   "metadata": {},
   "outputs": [],
   "source": [
    "hsets, labels, text = hplot.get_histo(histos.EGResoHistos, 'eg', ['PU200'], 'PFNFtkEmEE', 'EGq1Pt10', 'GENEeEtaBC', False)            \n",
    "print(hsets)\n",
    "print(labels)\n",
    "print(text)\n",
    "\n",
    "dir(hsets[0])\n"
   ]
  },
  {
   "cell_type": "code",
   "execution_count": 12,
   "metadata": {},
   "outputs": [
    {
     "ename": "NameError",
     "evalue": "name 'hsets' is not defined",
     "output_type": "error",
     "traceback": [
      "\u001b[0;31m---------------------------------------------------------------------------\u001b[0m",
      "\u001b[0;31mNameError\u001b[0m                                 Traceback (most recent call last)",
      "\u001b[1;32m/Users/cerminar/Workspace/hgcal-analysis/py3/ntuple-tools/plot-drawing-tools/getting-started.ipynb Cell 27'\u001b[0m in \u001b[0;36m<cell line: 2>\u001b[0;34m()\u001b[0m\n\u001b[1;32m      <a href='vscode-notebook-cell:/Users/cerminar/Workspace/hgcal-analysis/py3/ntuple-tools/plot-drawing-tools/getting-started.ipynb#ch0000026?line=0'>1</a>\u001b[0m c1 \u001b[39m=\u001b[39m ROOT\u001b[39m.\u001b[39mTCanvas()\n\u001b[0;32m----> <a href='vscode-notebook-cell:/Users/cerminar/Workspace/hgcal-analysis/py3/ntuple-tools/plot-drawing-tools/getting-started.ipynb#ch0000026?line=1'>2</a>\u001b[0m hsets[\u001b[39m0\u001b[39m]\u001b[39m.\u001b[39mh_ptRes\u001b[39m.\u001b[39mDraw(\u001b[39m'\u001b[39m\u001b[39mhist\u001b[39m\u001b[39m'\u001b[39m)\n\u001b[1;32m      <a href='vscode-notebook-cell:/Users/cerminar/Workspace/hgcal-analysis/py3/ntuple-tools/plot-drawing-tools/getting-started.ipynb#ch0000026?line=2'>3</a>\u001b[0m c1\u001b[39m.\u001b[39mDraw()\n",
      "\u001b[0;31mNameError\u001b[0m: name 'hsets' is not defined"
     ]
    }
   ],
   "source": [
    "c1 = ROOT.TCanvas()\n",
    "hsets[0].h_ptRes.Draw('hist')\n",
    "c1.Draw()"
   ]
  },
  {
   "cell_type": "markdown",
   "metadata": {},
   "source": [
    "## DrawingTools\n",
    "\n",
    "Once you retrieved the set of histograms, labels and text from the file you can produce the plot using the drawing tools.\n"
   ]
  },
  {
   "cell_type": "code",
   "execution_count": 11,
   "metadata": {},
   "outputs": [
    {
     "ename": "NameError",
     "evalue": "name 'hsets' is not defined",
     "output_type": "error",
     "traceback": [
      "\u001b[0;31m---------------------------------------------------------------------------\u001b[0m",
      "\u001b[0;31mNameError\u001b[0m                                 Traceback (most recent call last)",
      "\u001b[1;32m/Users/cerminar/Workspace/hgcal-analysis/py3/ntuple-tools/plot-drawing-tools/getting-started.ipynb Cell 29'\u001b[0m in \u001b[0;36m<cell line: 3>\u001b[0;34m()\u001b[0m\n\u001b[1;32m      <a href='vscode-notebook-cell:/Users/cerminar/Workspace/hgcal-analysis/py3/ntuple-tools/plot-drawing-tools/getting-started.ipynb#ch0000028?line=0'>1</a>\u001b[0m dm \u001b[39m=\u001b[39m DrawMachine(rleg_config)\n\u001b[0;32m----> <a href='vscode-notebook-cell:/Users/cerminar/Workspace/hgcal-analysis/py3/ntuple-tools/plot-drawing-tools/getting-started.ipynb#ch0000028?line=2'>3</a>\u001b[0m dm\u001b[39m.\u001b[39maddHistos([his\u001b[39m.\u001b[39mh_exphiRes \u001b[39mfor\u001b[39;00m his \u001b[39min\u001b[39;00m hsets], labels)\n\u001b[1;32m      <a href='vscode-notebook-cell:/Users/cerminar/Workspace/hgcal-analysis/py3/ntuple-tools/plot-drawing-tools/getting-started.ipynb#ch0000028?line=4'>5</a>\u001b[0m dm\u001b[39m.\u001b[39mdraw(text\u001b[39m=\u001b[39mtext, options\u001b[39m=\u001b[39m\u001b[39m'\u001b[39m\u001b[39mhist\u001b[39m\u001b[39m'\u001b[39m, norm\u001b[39m=\u001b[39m\u001b[39mTrue\u001b[39;00m)\n",
      "\u001b[0;31mNameError\u001b[0m: name 'hsets' is not defined"
     ]
    }
   ],
   "source": [
    "dm = DrawMachine(rleg_config)\n",
    "\n",
    "dm.addHistos([his.h_exphiRes for his in hsets], labels)\n",
    "\n",
    "dm.draw(text=text, options='hist', norm=True)\n"
   ]
  },
  {
   "cell_type": "code",
   "execution_count": 10,
   "metadata": {},
   "outputs": [
    {
     "ename": "NameError",
     "evalue": "name 'dm' is not defined",
     "output_type": "error",
     "traceback": [
      "\u001b[0;31m---------------------------------------------------------------------------\u001b[0m",
      "\u001b[0;31mNameError\u001b[0m                                 Traceback (most recent call last)",
      "\u001b[1;32m/Users/cerminar/Workspace/hgcal-analysis/py3/ntuple-tools/plot-drawing-tools/getting-started.ipynb Cell 30'\u001b[0m in \u001b[0;36m<cell line: 1>\u001b[0;34m()\u001b[0m\n\u001b[0;32m----> <a href='vscode-notebook-cell:/Users/cerminar/Workspace/hgcal-analysis/py3/ntuple-tools/plot-drawing-tools/getting-started.ipynb#ch0000029?line=0'>1</a>\u001b[0m help(dm\u001b[39m.\u001b[39mdraw)\n",
      "\u001b[0;31mNameError\u001b[0m: name 'dm' is not defined"
     ]
    }
   ],
   "source": [
    "help(dm.draw)"
   ]
  },
  {
   "cell_type": "code",
   "execution_count": null,
   "metadata": {},
   "outputs": [],
   "source": []
  },
  {
   "cell_type": "code",
   "execution_count": null,
   "metadata": {},
   "outputs": [],
   "source": []
  }
 ],
 "metadata": {
  "interpreter": {
   "hash": "85dd5668ee185766db843f238a772ceb53c4e6edb48f170f09989e7c711676ea"
  },
  "kernelspec": {
   "display_name": "Python 3 (ipykernel)",
   "language": "python",
   "name": "python3"
  },
  "language_info": {
   "codemirror_mode": {
    "name": "ipython",
    "version": 3
   },
   "file_extension": ".py",
   "mimetype": "text/x-python",
   "name": "python",
   "nbconvert_exporter": "python",
   "pygments_lexer": "ipython3",
   "version": "3.10.3"
  },
  "toc": {
   "base_numbering": 1,
   "nav_menu": {},
   "number_sections": true,
   "sideBar": true,
   "skip_h1_title": false,
   "title_cell": "Table of Contents",
   "title_sidebar": "Contents",
   "toc_cell": false,
   "toc_position": {
    "height": "calc(100% - 180px)",
    "left": "10px",
    "top": "150px",
    "width": "341px"
   },
   "toc_section_display": true,
   "toc_window_display": true
  }
 },
 "nbformat": 4,
 "nbformat_minor": 2
}
