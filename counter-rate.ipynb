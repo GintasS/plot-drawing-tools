{
 "cells": [
  {
   "cell_type": "markdown",
   "metadata": {},
   "source": [
    "# Rate performance\n",
    "\n",
    "   * [Comparison new vs old EG ID](#Comparisono-baseline-vs-Manos-EGID)\n",
    "\n",
    "\n"
   ]
  },
  {
   "cell_type": "code",
   "execution_count": 44,
   "metadata": {},
   "outputs": [],
   "source": [
    "import sys\n",
    "sys.path.insert(0, '..')\n",
    "# sys.path.insert(1, '../python/')\n",
    "sys.path.insert(1, 'python/')\n",
    "\n",
    "import ROOT\n",
    "import root_numpy as rnp\n",
    "# import python.l1THistos as histos\n",
    "import math\n",
    "import uuid\n",
    "import pandas as pd\n",
    "\n",
    "from drawingTools import *\n",
    "\n",
    "# ROOT.enableJSVis()\n",
    "ROOT.enableJSVis()\n",
    "\n",
    "\n",
    "normalized_histos = list()"
   ]
  },
  {
   "cell_type": "code",
   "execution_count": 45,
   "metadata": {},
   "outputs": [],
   "source": [
    "# %load python/drawingTools.py\n"
   ]
  },
  {
   "cell_type": "code",
   "execution_count": 46,
   "metadata": {},
   "outputs": [],
   "source": [
    "# %load samples.py\n",
    "\n",
    "samples = [\n",
    "# #     HistoFile('nugun_alleta_pu200_rate', 'PU200', 'v150A.70B', 'ref'),\n",
    "# #     HistoFile('nugun_alleta_pu200_rate', 'PU200', 'v151A.80El', '12.3'),\n",
    "#     HistoFile('nugun_alleta_pu200_rate', 'PU200', 'v151A.80Fl', 'ref'),\n",
    "    HistoFile('nugun_alleta_pu200_rate', 'PU200', 'v152F.91Gi', 'menu', 'menu'),\n",
    "\n",
    "]\n"
   ]
  },
  {
   "cell_type": "code",
   "execution_count": null,
   "metadata": {},
   "outputs": [],
   "source": []
  },
  {
   "cell_type": "code",
   "execution_count": 47,
   "metadata": {},
   "outputs": [
    {
     "name": "stdout",
     "output_type": "stream",
     "text": [
      "<HistoFile ../plots/histos_nugun_alleta_pu200_rate_v152F.91Gi.root, menu>\n",
      "--- HistoClass: \n",
      "['SingleObjRateHistoCounter', 'DoubleObjRateHistoCounter']\n",
      "--- TPs: \n",
      "['TkEleL2', 'TkEleL2Ell', 'TkEmL2', 'DoubleTkEmL2', 'DoubleTkEleL2']\n",
      "--- TP selections:\n",
      "{   'DoubleTkEleL2': ['DoubleTkEle25-12'],\n",
      "    'DoubleTkEmL2': ['DoubleIsoTkPho22-12'],\n",
      "    'TkEleL2': [   'SingleIsoTkEle28Tight',\n",
      "                   'SingleTkEle36EtaEB',\n",
      "                   'SingleIsoTkEle28TightEtaEB',\n",
      "                   'SingleIsoTkEle28TightEtaEE',\n",
      "                   'SingleTkEle36',\n",
      "                   'SingleIsoTkEle28EtaEB',\n",
      "                   'SingleIsoTkEle28EtaEE',\n",
      "                   'SingleTkEle36EtaEE',\n",
      "                   'SingleIsoTkEle28'],\n",
      "    'TkEleL2Ell': [   'SingleIsoTkEle28TightEtaEB',\n",
      "                      'SingleIsoTkEle28TightEtaEE',\n",
      "                      'SingleIsoTkEle28EtaEB',\n",
      "                      'SingleTkEle36',\n",
      "                      'SingleTkEle36EtaEE',\n",
      "                      'SingleIsoTkEle28EtaEE',\n",
      "                      'SingleIsoTkEle28Tight',\n",
      "                      'SingleIsoTkEle28',\n",
      "                      'SingleTkEle36EtaEB'],\n",
      "    'TkEmL2': [   'SingleIsoTkPho36EtaEE',\n",
      "                  'SingleIsoTkPho36EtaEB',\n",
      "                  'SingleIsoTkPho36']}\n",
      "--- GEN selections:\n",
      "{   'DoubleTkEleL2': [None],\n",
      "    'DoubleTkEmL2': [None],\n",
      "    'TkEleL2': [None],\n",
      "    'TkEleL2Ell': [None],\n",
      "    'TkEmL2': [None]}\n"
     ]
    }
   ],
   "source": [
    "for hf in samples:\n",
    "    hf.print_primitives()"
   ]
  },
  {
   "cell_type": "code",
   "execution_count": 48,
   "metadata": {},
   "outputs": [],
   "source": [
    "import python.collections as collections\n",
    "import python.selections as selections\n",
    "from cfg import *\n",
    "\n",
    "labels_dict = {}\n",
    "\n",
    "evm = collections.EventManager()\n",
    "labels_dict.update(evm.get_labels())\n",
    "selm = selections.SelectionManager()\n",
    "labels_dict.update(selm.get_labels())\n",
    "\n",
    "\n",
    "\n",
    "# #  ==== labels ===============================================\n",
    "# tp_labels = histo_primitives[['data', 'data_label']].drop_duplicates().set_index('data').T.to_dict('records')[0]\n",
    "# tp_selection_labels = histo_primitives[['data_sel', 'data_sel_label']].drop_duplicates().set_index('data_sel').T.to_dict('records')[0]\n",
    "# gen_selection_labels = histo_primitives[['gen_sel', 'gen_sel_label']].drop_duplicates().set_index('gen_sel').T.to_dict('records')[0]\n",
    "\n",
    "\n",
    "\n",
    "\n"
   ]
  },
  {
   "cell_type": "code",
   "execution_count": null,
   "metadata": {},
   "outputs": [],
   "source": []
  },
  {
   "cell_type": "code",
   "execution_count": 49,
   "metadata": {},
   "outputs": [],
   "source": [
    "ROOT.gStyle.SetPadGridX(True)\n",
    "ROOT.gStyle.SetPadGridY(True)\n"
   ]
  },
  {
   "cell_type": "markdown",
   "metadata": {},
   "source": [
    "\n"
   ]
  },
  {
   "cell_type": "code",
   "execution_count": 50,
   "metadata": {},
   "outputs": [
    {
     "name": "stdout",
     "output_type": "stream",
     "text": [
      "--- SingleObjRateHistoCounter\n",
      "# of plots: 42\n",
      "# of primitives: 21\n",
      "--- DoubleObjRateHistoCounter\n",
      "# of plots: 4\n",
      "# of primitives: 2\n",
      "--- SingleObjRateHistoCounter\n",
      "# of plots: 42\n",
      "# of primitives: 21\n",
      "--- DoubleObjRateHistoCounter\n",
      "# of plots: 4\n",
      "# of primitives: 2\n",
      "CPU times: user 21.6 ms, sys: 5.75 ms, total: 27.4 ms\n",
      "Wall time: 30.2 ms\n"
     ]
    }
   ],
   "source": [
    "%%time\n",
    "\n",
    "import python.l1THistos as histos\n",
    "\n",
    "hplot = HPlot(samples, labels_dict)\n",
    "\n",
    "hplot.create_histo_proxies(histos.SingleObjRateHistoCounter)\n",
    "hplot.create_histo_proxies(histos.DoubleObjRateHistoCounter)\n"
   ]
  },
  {
   "cell_type": "code",
   "execution_count": 51,
   "metadata": {},
   "outputs": [
    {
     "data": {
      "text/html": [
       "<div>\n",
       "<style scoped>\n",
       "    .dataframe tbody tr th:only-of-type {\n",
       "        vertical-align: middle;\n",
       "    }\n",
       "\n",
       "    .dataframe tbody tr th {\n",
       "        vertical-align: top;\n",
       "    }\n",
       "\n",
       "    .dataframe thead th {\n",
       "        text-align: right;\n",
       "    }\n",
       "</style>\n",
       "<table border=\"1\" class=\"dataframe\">\n",
       "  <thead>\n",
       "    <tr style=\"text-align: right;\">\n",
       "      <th></th>\n",
       "      <th>sample</th>\n",
       "      <th>pu</th>\n",
       "      <th>tp</th>\n",
       "      <th>tp_sel</th>\n",
       "      <th>gen_sel</th>\n",
       "      <th>classtype</th>\n",
       "      <th>histo</th>\n",
       "    </tr>\n",
       "  </thead>\n",
       "  <tbody>\n",
       "    <tr>\n",
       "      <th>15</th>\n",
       "      <td>menu</td>\n",
       "      <td>PU200</td>\n",
       "      <td>TkEleL2Ell</td>\n",
       "      <td>SingleIsoTkEle28</td>\n",
       "      <td>None</td>\n",
       "      <td>&lt;class 'python.l1THistos.SingleObjRateHistoCou...</td>\n",
       "      <td>&lt;drawingTools.HProxy object at 0x2b5849180&gt;</td>\n",
       "    </tr>\n",
       "    <tr>\n",
       "      <th>20</th>\n",
       "      <td>menu</td>\n",
       "      <td>PU200</td>\n",
       "      <td>TkEleL2</td>\n",
       "      <td>SingleIsoTkEle28</td>\n",
       "      <td>None</td>\n",
       "      <td>&lt;class 'python.l1THistos.SingleObjRateHistoCou...</td>\n",
       "      <td>&lt;drawingTools.HProxy object at 0x2b5849240&gt;</td>\n",
       "    </tr>\n",
       "  </tbody>\n",
       "</table>\n",
       "</div>"
      ],
      "text/plain": [
       "   sample     pu          tp            tp_sel gen_sel  \\\n",
       "15   menu  PU200  TkEleL2Ell  SingleIsoTkEle28    None   \n",
       "20   menu  PU200     TkEleL2  SingleIsoTkEle28    None   \n",
       "\n",
       "                                            classtype  \\\n",
       "15  <class 'python.l1THistos.SingleObjRateHistoCou...   \n",
       "20  <class 'python.l1THistos.SingleObjRateHistoCou...   \n",
       "\n",
       "                                          histo  \n",
       "15  <drawingTools.HProxy object at 0x2b5849180>  \n",
       "20  <drawingTools.HProxy object at 0x2b5849240>  "
      ]
     },
     "execution_count": 51,
     "metadata": {},
     "output_type": "execute_result"
    }
   ],
   "source": [
    "hplot.data[hplot.data.tp_sel=='SingleIsoTkEle28']"
   ]
  },
  {
   "cell_type": "code",
   "execution_count": 52,
   "metadata": {},
   "outputs": [],
   "source": [
    "import tabulate\n",
    "\n",
    "table = []\n",
    "\n",
    "    "
   ]
  },
  {
   "cell_type": "code",
   "execution_count": 53,
   "metadata": {},
   "outputs": [
    {
     "name": "stdout",
     "output_type": "stream",
     "text": [
      "normalize to 31000\n",
      "normalize to 31000\n",
      "normalize to 31000\n"
     ]
    }
   ],
   "source": [
    "row = []\n",
    "\n",
    "\n",
    "hsets, labels, text = hplot.get_histo(histos.SingleObjRateHistoCounter, ['menu'], 'PU200', ['TkEleL2Ell'], ['SingleTkEle36', 'SingleTkEle36EtaEB', 'SingleTkEle36EtaEE'], None)\n",
    "\n",
    "row = []\n",
    "row.append(labels[0]+' (ell.)')\n",
    "for hs in hsets:\n",
    "    row.append(f'{round(hs.h_rate.GetBinContent(1), 2)} \\u00B1 {round(hs.h_rate.GetBinError(1), 2)}')\n",
    "\n",
    "table.append(row)"
   ]
  },
  {
   "cell_type": "code",
   "execution_count": 54,
   "metadata": {},
   "outputs": [
    {
     "name": "stdout",
     "output_type": "stream",
     "text": [
      "normalize to 31000\n",
      "normalize to 31000\n",
      "normalize to 31000\n"
     ]
    }
   ],
   "source": [
    "hsets, labels, text = hplot.get_histo(histos.SingleObjRateHistoCounter, ['menu'], 'PU200', ['TkEleL2'], ['SingleTkEle36', 'SingleTkEle36EtaEB', 'SingleTkEle36EtaEE'], None)\n",
    "\n",
    "row = []\n",
    "row.append(labels[0])\n",
    "for hs in hsets:\n",
    "    row.append(f'{round(hs.h_rate.GetBinContent(1), 2)} \\u00B1 {round(hs.h_rate.GetBinError(1), 2)}')\n",
    "\n",
    "table.append(row)"
   ]
  },
  {
   "cell_type": "code",
   "execution_count": null,
   "metadata": {},
   "outputs": [],
   "source": []
  },
  {
   "cell_type": "code",
   "execution_count": 55,
   "metadata": {},
   "outputs": [
    {
     "name": "stdout",
     "output_type": "stream",
     "text": [
      "normalize to 31000\n",
      "normalize to 31000\n",
      "normalize to 31000\n"
     ]
    }
   ],
   "source": [
    "hsets, labels, text = hplot.get_histo(histos.SingleObjRateHistoCounter, ['menu'], 'PU200', ['TkEleL2'], ['SingleIsoTkEle28', 'SingleIsoTkEle28EtaEB', 'SingleIsoTkEle28EtaEE'], None)\n",
    "row = []\n",
    "row.append(labels[0])\n",
    "for hs in hsets:\n",
    "    row.append(f'{round(hs.h_rate.GetBinContent(1), 2)} \\u00B1 {round(hs.h_rate.GetBinError(1), 2)}')\n",
    "\n",
    "table.append(row)"
   ]
  },
  {
   "cell_type": "code",
   "execution_count": 56,
   "metadata": {},
   "outputs": [
    {
     "name": "stdout",
     "output_type": "stream",
     "text": [
      "normalize to 31000\n",
      "normalize to 31000\n",
      "normalize to 31000\n"
     ]
    }
   ],
   "source": [
    "hsets, labels, text = hplot.get_histo(histos.SingleObjRateHistoCounter, ['menu'], 'PU200', ['TkEleL2'], ['SingleIsoTkEle28Tight', 'SingleIsoTkEle28TightEtaEB', 'SingleIsoTkEle28TightEtaEE'], None)\n",
    "row = []\n",
    "row.append(labels[0])\n",
    "for hs in hsets:\n",
    "    row.append(f'{round(hs.h_rate.GetBinContent(1), 2)} \\u00B1 {round(hs.h_rate.GetBinError(1), 2)}')\n",
    "\n",
    "table.append(row)"
   ]
  },
  {
   "cell_type": "code",
   "execution_count": 57,
   "metadata": {},
   "outputs": [
    {
     "name": "stdout",
     "output_type": "stream",
     "text": [
      "normalize to 31000\n",
      "normalize to 31000\n",
      "normalize to 31000\n"
     ]
    }
   ],
   "source": [
    "hsets, labels, text = hplot.get_histo(histos.SingleObjRateHistoCounter, ['menu'], 'PU200', ['TkEmL2'], ['SingleIsoTkPho36', 'SingleIsoTkPho36EtaEB', 'SingleIsoTkPho36EtaEE'], None)\n",
    "row = []\n",
    "row.append(labels[0])\n",
    "for hs in hsets:\n",
    "    row.append(f'{round(hs.h_rate.GetBinContent(1), 2)} \\u00B1 {round(hs.h_rate.GetBinError(1), 2)}')\n",
    "\n",
    "table.append(row)"
   ]
  },
  {
   "cell_type": "code",
   "execution_count": 58,
   "metadata": {},
   "outputs": [
    {
     "ename": "SyntaxError",
     "evalue": "incomplete input (500140756.py, line 2)",
     "output_type": "error",
     "traceback": [
      "\u001b[0;36m  Input \u001b[0;32mIn [58]\u001b[0;36m\u001b[0m\n\u001b[0;31m    'DoubleTkEmL2': ['DoubleIsoTkPho22-12'],\u001b[0m\n\u001b[0m                                            ^\u001b[0m\n\u001b[0;31mSyntaxError\u001b[0m\u001b[0;31m:\u001b[0m incomplete input\n"
     ]
    }
   ],
   "source": [
    "{   'DoubleTkEleL2': ['DoubleTkEle25-12'],\n",
    "    'DoubleTkEmL2': ['DoubleIsoTkPho22-12'],"
   ]
  },
  {
   "cell_type": "code",
   "execution_count": 59,
   "metadata": {},
   "outputs": [
    {
     "name": "stdout",
     "output_type": "stream",
     "text": [
      "normalize to 31000\n"
     ]
    }
   ],
   "source": [
    "hsets, labels, text = hplot.get_histo(histos.DoubleObjRateHistoCounter, ['menu'], 'PU200', ['DoubleTkEleL2'], ['DoubleTkEle25-12'], None)\n",
    "row = []\n",
    "row.append('DoubleTkEle25-12')\n",
    "for hs in hsets:\n",
    "    row.append(f'{round(hs.h_rate.GetBinContent(1), 2)} \\u00B1 {round(hs.h_rate.GetBinError(1), 2)}')\n",
    "row.append('-')\n",
    "row.append('-')\n",
    "\n",
    "table.append(row)"
   ]
  },
  {
   "cell_type": "code",
   "execution_count": 60,
   "metadata": {},
   "outputs": [
    {
     "name": "stdout",
     "output_type": "stream",
     "text": [
      "normalize to 31000\n"
     ]
    }
   ],
   "source": [
    "hsets, labels, text = hplot.get_histo(histos.DoubleObjRateHistoCounter, ['menu'], 'PU200', ['DoubleTkEmL2'], ['DoubleIsoTkPho22-12'], None)\n",
    "row = []\n",
    "row.append('DoubleIsoTkPho22-12')\n",
    "for hs in hsets:\n",
    "    row.append(f'{round(hs.h_rate.GetBinContent(1), 2)} \\u00B1 {round(hs.h_rate.GetBinError(1), 2)}')\n",
    "row.append('-')\n",
    "row.append('-')\n",
    "\n",
    "table.append(row)"
   ]
  },
  {
   "cell_type": "code",
   "execution_count": 61,
   "metadata": {},
   "outputs": [
    {
     "name": "stdout",
     "output_type": "stream",
     "text": [
      "seed                   rate [kHz]      rate EB [kHz]    rate EE [kHz]\n",
      "---------------------  --------------  ---------------  ---------------\n",
      "SingleTkEle36 (ell.)   25.08 ± 2.77    16.11 ± 2.13     8.97 ± 1.35\n",
      "SingleTkEle36          23.25 ± 2.63    16.11 ± 2.13     7.14 ± 1.16\n",
      "SingleIsoTkEle28       36.21 ± 3.47    19.43 ± 2.2      16.78 ± 1.96\n",
      "SingleIsoTkEle28Tight  28.57 ± 3.0     19.43 ± 2.2      9.14 ± 1.44\n",
      "SingleIsoTkPho36       28.57 ± 3.0     11.79 ± 1.55     16.78 ± 2.04\n",
      "DoubleTkEle25-12       87.53 ± 7.27    -                -\n",
      "DoubleIsoTkPho22-12    172.91 ± 13.46  -                -\n"
     ]
    }
   ],
   "source": [
    "print(tabulate.tabulate(table, headers=[\n",
    "    'seed', \n",
    "    'rate [kHz]', \n",
    "    f'rate EB [kHz]', \n",
    "    f'rate EE [kHz]']))\n"
   ]
  },
  {
   "cell_type": "code",
   "execution_count": 43,
   "metadata": {},
   "outputs": [
    {
     "name": "stdout",
     "output_type": "stream",
     "text": [
      "seed                   rate [kHz]    rate EB [kHz]    rate EE [kHz]\n",
      "---------------------  ------------  ---------------  ---------------\n",
      "SingleTkEle36 (ell.)   25.08 ± 2.77  16.11 ± 2.13     8.97 ± 1.35\n",
      "SingleTkEle36          23.25 ± 2.63  16.11 ± 2.13     7.14 ± 1.16\n",
      "SingleIsoTkEle28       36.21 ± 3.47  19.43 ± 2.2      16.78 ± 1.96\n",
      "SingleIsoTkEle28Tight  28.57 ± 3.0   19.43 ± 2.2      9.14 ± 1.44\n",
      "SingleIsoTkPho36       28.57 ± 3.0   11.79 ± 1.55     16.78 ± 2.04\n",
      "DoubleTkEle25-12       2.66 ± 0.74   -                -\n",
      "DoubleIsoTkPho22-12    9.14 ± 1.4    -                -\n"
     ]
    }
   ],
   "source": [
    "print(tabulate.tabulate(table, headers=[\n",
    "    'seed', \n",
    "    'rate [kHz]', \n",
    "    f'rate EB [kHz]', \n",
    "    f'rate EE [kHz]']))\n"
   ]
  },
  {
   "cell_type": "code",
   "execution_count": null,
   "metadata": {},
   "outputs": [],
   "source": []
  },
  {
   "cell_type": "code",
   "execution_count": null,
   "metadata": {},
   "outputs": [],
   "source": []
  },
  {
   "cell_type": "code",
   "execution_count": null,
   "metadata": {},
   "outputs": [],
   "source": []
  },
  {
   "cell_type": "code",
   "execution_count": null,
   "metadata": {},
   "outputs": [],
   "source": []
  }
 ],
 "metadata": {
  "kernelspec": {
   "display_name": "Python 3 (ipykernel)",
   "language": "python",
   "name": "python3"
  },
  "language_info": {
   "codemirror_mode": {
    "name": "ipython",
    "version": 3
   },
   "file_extension": ".py",
   "mimetype": "text/x-python",
   "name": "python",
   "nbconvert_exporter": "python",
   "pygments_lexer": "ipython3",
   "version": "3.10.10"
  },
  "toc": {
   "base_numbering": 1,
   "nav_menu": {},
   "number_sections": true,
   "sideBar": true,
   "skip_h1_title": false,
   "title_cell": "Table of Contents",
   "title_sidebar": "Contents",
   "toc_cell": false,
   "toc_position": {
    "height": "calc(100% - 180px)",
    "left": "10px",
    "top": "150px",
    "width": "175.8px"
   },
   "toc_section_display": true,
   "toc_window_display": true
  }
 },
 "nbformat": 4,
 "nbformat_minor": 2
}
