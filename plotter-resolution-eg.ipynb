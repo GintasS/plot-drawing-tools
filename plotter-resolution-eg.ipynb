{
 "cells": [
  {
   "cell_type": "markdown",
   "metadata": {},
   "source": [
    "# Single Particle performance plots\n",
    "\n",
    "\n",
    "   * [#$p_{T}$ response](#$p_{T}$-response)\n"
   ]
  },
  {
   "cell_type": "code",
   "execution_count": 1,
   "metadata": {},
   "outputs": [
    {
     "name": "stdout",
     "output_type": "stream",
     "text": [
      "Welcome to JupyROOT 6.14/02\n"
     ]
    }
   ],
   "source": [
    "import sys\n",
    "sys.path.insert(0, '..')\n",
    "# sys.path.insert(1, '../python/')\n",
    "sys.path.insert(1, 'python/')\n",
    "\n",
    "import ROOT\n",
    "import root_numpy as rnp\n",
    "# import python.l1THistos as histos\n",
    "import math\n",
    "import uuid\n",
    "import pandas as pd\n",
    "\n",
    "from drawingTools import *\n",
    "\n",
    "# ROOT.enableJSVis()\n",
    "ROOT.enableJSVis()\n",
    "\n",
    "#from drawingTools import *\n",
    "\n",
    "normalized_histos = list()"
   ]
  },
  {
   "cell_type": "code",
   "execution_count": 2,
   "metadata": {},
   "outputs": [],
   "source": [
    "# %load drawingTools.py"
   ]
  },
  {
   "cell_type": "code",
   "execution_count": 3,
   "metadata": {},
   "outputs": [],
   "source": [
    "# %load samples.py\n",
    "import ROOT\n",
    "import pandas as pd\n",
    "\n",
    "\n",
    "\n",
    "version_V11 = 'v145E'\n",
    "version_NM = 'v144B'\n",
    "version_V9 = 'v121'\n",
    "\n",
    "\n",
    "samples_ele_V9 = [\n",
    "    Sample('ele_flat2to100_PU0_eg', 'PU0', version_V9, 'ele-V9'),\n",
    "    Sample('ele_flat2to100_PU200_eg', 'PU200', version_V9, 'ele-V9')\n",
    "    ]\n",
    "\n",
    "samples_ele_NM = [\n",
    "    Sample('ele_flat2to100_PU0_eg', 'PU0', version_NM, 'ele-NM'),\n",
    "    Sample('ele_flat2to100_PU200_eg', 'PU200', version_NM, 'ele-NM')\n",
    "    ]\n",
    "\n",
    "samples_ele_V11 = [\n",
    "    Sample('ele_flat2to100_PU0_eg', 'PU0', version_V11, 'ele-V11'),\n",
    "    Sample('ele_flat2to100_PU200_eg', 'PU200', version_V11, 'ele-V11')\n",
    "    ]\n",
    "\n",
    "samples_doubleele_V9 = [\n",
    "    Sample('doubleele_flat1to100_PU0_eg', 'PU0', version_V9, 'dele-V9'),\n",
    "    Sample('doubleele_flat1to100_PU200_eg', 'PU200', version_V9, 'dele-V9')\n",
    "    ]\n",
    "\n",
    "samples_doubleele_NM = [\n",
    "    Sample('doubleele_flat1to100_PU0_eg', 'PU0', version_NM, 'dele-NM'),\n",
    "    Sample('doubleele_flat1to100_PU200_eg', 'PU200', version_NM, 'dele-NM')\n",
    "    ]\n",
    "\n",
    "samples_doubleele_V11 = [\n",
    "#     Sample('doubleele_flat1to100_PU0_eg', 'PU0', version_V11, 'dele-V11'),\n",
    "    Sample('doubleele_flat1to100_PU200_eg', 'PU200', version_V11, 'dele-V11')\n",
    "    ]\n",
    "\n"
   ]
  },
  {
   "cell_type": "code",
   "execution_count": 4,
   "metadata": {},
   "outputs": [
    {
     "name": "stdout",
     "output_type": "stream",
     "text": [
      "gen_part_selections: 7\n",
      "--- EGHistos\n",
      "# of plots: 1640\n",
      "# of primitives: 328\n",
      "--- TkEleHistos\n",
      "# of plots: 256\n",
      "# of primitives: 32\n",
      "--- EGResoHistos\n",
      "# of plots: 2808\n",
      "# of primitives: 312\n",
      "--- GenParticleHistos\n",
      "# of plots: 3744\n",
      "# of primitives: 312\n",
      "--- TPs: \n",
      "['EgEE', 'PFEgEE', 'tkEleEE', 'PFtkEleEE', 'tkEleEB', 'PFtkEleEB']\n",
      "--- TP selections:\n",
      "{   'EgEE': [   'EGq5Pt30',\n",
      "                'EGq5Pt10',\n",
      "                'EGq4',\n",
      "                'EGq5Pt20',\n",
      "                'EGq4Pt10',\n",
      "                'EGq4Pt30',\n",
      "                'EGq5',\n",
      "                'EGq4Pt20'],\n",
      "    'PFEgEE': [   'EGq4',\n",
      "                  'EGq4Pt20',\n",
      "                  'EGq5Pt30',\n",
      "                  'EGq4Pt10',\n",
      "                  'EGq5Pt20',\n",
      "                  'EGq4Pt30',\n",
      "                  'EGq5',\n",
      "                  'EGq5Pt10'],\n",
      "    'PFtkEleEB': [   'Pt30',\n",
      "                     'Pt20',\n",
      "                     'LooseTkIDPt10',\n",
      "                     'Pt10',\n",
      "                     'LooseTkIDPt20',\n",
      "                     'all',\n",
      "                     'LooseTkID',\n",
      "                     'LooseTkIDPt30'],\n",
      "    'PFtkEleEE': [   'EGq5Pt30',\n",
      "                     'EGq5',\n",
      "                     'EGq4',\n",
      "                     'EGq5Pt20',\n",
      "                     'EGq4Pt10',\n",
      "                     'EGq5Pt10',\n",
      "                     'EGq4Pt20',\n",
      "                     'EGq4Pt30'],\n",
      "    'tkEleEB': [   'Pt10',\n",
      "                   'LooseTkIDPt10',\n",
      "                   'all',\n",
      "                   'LooseTkIDPt20',\n",
      "                   'Pt20',\n",
      "                   'LooseTkIDPt30',\n",
      "                   'Pt30',\n",
      "                   'LooseTkID'],\n",
      "    'tkEleEE': [   'EGq4Pt10',\n",
      "                   'EGq5Pt10',\n",
      "                   'EGq5Pt30',\n",
      "                   'EGq4Pt30',\n",
      "                   'EGq4',\n",
      "                   'EGq5',\n",
      "                   'EGq5Pt20',\n",
      "                   'EGq4Pt20']}\n",
      "--- GEN selections:\n",
      "{   'EgEE': [   'GENPt30',\n",
      "                'GENPt35',\n",
      "                'GENEtaBCD',\n",
      "                'GENEtaBC',\n",
      "                'GEN',\n",
      "                'nomatch',\n",
      "                'GENPt15',\n",
      "                'GENEtaDE'],\n",
      "    'PFEgEE': [   'GENPt35',\n",
      "                  'GENEtaBCD',\n",
      "                  'GENPt15',\n",
      "                  'GEN',\n",
      "                  'GENPt30',\n",
      "                  'nomatch',\n",
      "                  'GENEtaDE',\n",
      "                  'GENEtaBC'],\n",
      "    'PFtkEleEB': [   'GENEtaF',\n",
      "                     'GENPt30',\n",
      "                     'GENPt35',\n",
      "                     'GEN',\n",
      "                     'GENPt15',\n",
      "                     'nomatch'],\n",
      "    'PFtkEleEE': [   'GENEtaBC',\n",
      "                     'GENPt30',\n",
      "                     'GENPt35',\n",
      "                     'GENPt15',\n",
      "                     'GEN',\n",
      "                     'nomatch'],\n",
      "    'tkEleEB': ['GENPt35', 'GENPt30', 'GENEtaF', 'GENPt15', 'GEN', 'nomatch'],\n",
      "    'tkEleEE': ['GEN', 'GENEtaBC', 'GENPt30', 'GENPt15', 'GENPt35', 'nomatch']}\n"
     ]
    }
   ],
   "source": [
    "# %load python/settings.py\n",
    "\n",
    "# === samples =====================================================\n",
    "import pprint\n",
    "import python.plotters_config as plotters\n",
    "\n",
    "\n",
    "\n",
    "samples = []\n",
    "\n",
    "# samples += samples_nugunrates\n",
    "# samples += samples_nugunrates_V8\n",
    "# samples += samples_ele_V11\n",
    "# samples += samples_ele_NM\n",
    "samples += samples_doubleele_V11\n",
    "# samples += samples_doubleele_NM\n",
    "# samples += samples_ele_V9\n",
    "\n",
    "\n",
    "for smp in samples:\n",
    "    smp.open_file()\n",
    "\n",
    "\n",
    "sample = 'ele-V11'\n",
    "\n",
    "# === TP ==========================================================\n",
    "tps = ['EgEE',\n",
    "       'PFEgEE',\n",
    "       'tkEleEE',\n",
    "       'PFtkEleEE',\n",
    "       'tkEleEB',\n",
    "       'PFtkEleEB']\n",
    "\n",
    "# === Load the Histo Primitives ====================================\n",
    "histo_primitives = samples[0].build_file_primitive_index()\n",
    "\n",
    "# samples[0].print_file_primitive_index()\n",
    "\n",
    "\n",
    "# print histo_primitives.data.unique()\n",
    "# === TP selections ================================================\n",
    "tp_select = {}\n",
    "\n",
    "for tp in tps:\n",
    "    tp_select[tp] = histo_primitives[histo_primitives.tp == tp].tp_sel.unique().tolist()\n",
    "\n",
    "# ==== GEN selections ===============================================\n",
    "gen_select ={}\n",
    "for tp in tps:\n",
    "    gen_select[tp] = histo_primitives[histo_primitives.tp == tp].gen_sel.unique().tolist()\n",
    "\n",
    "\n",
    "import pprint\n",
    "pp = pprint.PrettyPrinter(indent=4)\n",
    "print '--- TPs: '\n",
    "pp.pprint(tps)\n",
    "print '--- TP selections:'\n",
    "pp.pprint(tp_select)\n",
    "print '--- GEN selections:'\n",
    "pp.pprint(gen_select)\n"
   ]
  },
  {
   "cell_type": "code",
   "execution_count": 5,
   "metadata": {},
   "outputs": [],
   "source": [
    "import python.collections as collections\n",
    "import python.selections as selections\n",
    "\n",
    "labels_dict = {}\n",
    "\n",
    "evm = collections.EventManager()\n",
    "labels_dict.update(evm.get_labels())\n",
    "selm = selections.SelectionManager()\n",
    "labels_dict.update(selm.get_labels())\n",
    "\n"
   ]
  },
  {
   "cell_type": "code",
   "execution_count": 6,
   "metadata": {},
   "outputs": [
    {
     "name": "stdout",
     "output_type": "stream",
     "text": [
      "TP: EgEE\n",
      "['EGq5Pt30' 'EGq5Pt10' 'EGq4' 'EGq5Pt20' 'EGq4Pt10' 'EGq4Pt30' 'EGq5'\n",
      " 'EGq4Pt20']\n",
      "['GENPt30' 'GENPt35' 'GENEtaBCD' 'GENEtaBC' 'GEN' 'nomatch' 'GENPt15'\n",
      " 'GENEtaDE']\n",
      "TP: PFEgEE\n",
      "['EGq4' 'EGq4Pt20' 'EGq5Pt30' 'EGq4Pt10' 'EGq5Pt20' 'EGq4Pt30' 'EGq5'\n",
      " 'EGq5Pt10']\n",
      "['GENPt35' 'GENEtaBCD' 'GENPt15' 'GEN' 'GENPt30' 'nomatch' 'GENEtaDE'\n",
      " 'GENEtaBC']\n",
      "TP: tkEleEE\n",
      "['EGq4Pt10' 'EGq5Pt10' 'EGq5Pt30' 'EGq4Pt30' 'EGq4' 'EGq5' 'EGq5Pt20'\n",
      " 'EGq4Pt20']\n",
      "['GEN' 'GENEtaBC' 'GENPt30' 'GENPt15' 'GENPt35' 'nomatch']\n",
      "TP: PFtkEleEE\n",
      "['EGq5Pt30' 'EGq5' 'EGq4' 'EGq5Pt20' 'EGq4Pt10' 'EGq5Pt10' 'EGq4Pt20'\n",
      " 'EGq4Pt30']\n",
      "['GENEtaBC' 'GENPt30' 'GENPt35' 'GENPt15' 'GEN' 'nomatch']\n",
      "TP: tkEleEB\n",
      "['Pt10' 'LooseTkIDPt10' 'all' 'LooseTkIDPt20' 'Pt20' 'LooseTkIDPt30' 'Pt30'\n",
      " 'LooseTkID']\n",
      "['GENPt35' 'GENPt30' 'GENEtaF' 'GENPt15' 'GEN' 'nomatch']\n",
      "TP: PFtkEleEB\n",
      "['Pt30' 'Pt20' 'LooseTkIDPt10' 'Pt10' 'LooseTkIDPt20' 'all' 'LooseTkID'\n",
      " 'LooseTkIDPt30']\n",
      "['GENEtaF' 'GENPt30' 'GENPt35' 'GEN' 'GENPt15' 'nomatch']\n"
     ]
    }
   ],
   "source": [
    "for tp in tps:\n",
    "    print 'TP: {}'.format(tp)\n",
    "    print histo_primitives[histo_primitives.tp == tp].tp_sel.unique()\n",
    "    print histo_primitives[histo_primitives.tp == tp].gen_sel.unique()"
   ]
  },
  {
   "cell_type": "code",
   "execution_count": 7,
   "metadata": {},
   "outputs": [
    {
     "name": "stdout",
     "output_type": "stream",
     "text": [
      "--- EGHistos\n",
      "# of plots: 1640\n",
      "# of primitives: 328\n",
      "--- TkEleHistos\n",
      "# of plots: 256\n",
      "# of primitives: 32\n",
      "--- EGResoHistos\n",
      "# of plots: 2808\n",
      "# of primitives: 312\n",
      "--- GenParticleHistos\n",
      "# of plots: 3744\n",
      "# of primitives: 312\n",
      "CPU times: user 1.33 s, sys: 95.6 ms, total: 1.43 s\n",
      "Wall time: 1.45 s\n"
     ]
    }
   ],
   "source": [
    "%%time\n",
    "\n",
    "import python.l1THistos as histos\n",
    "\n",
    "hplot = HPlot(samples, labels_dict)\n",
    "\n",
    "hplot.create_histo_proxies(histos.EGResoHistos)\n"
   ]
  },
  {
   "cell_type": "code",
   "execution_count": 8,
   "metadata": {},
   "outputs": [
    {
     "data": {
      "text/html": [
       "<div>\n",
       "<style scoped>\n",
       "    .dataframe tbody tr th:only-of-type {\n",
       "        vertical-align: middle;\n",
       "    }\n",
       "\n",
       "    .dataframe tbody tr th {\n",
       "        vertical-align: top;\n",
       "    }\n",
       "\n",
       "    .dataframe thead th {\n",
       "        text-align: right;\n",
       "    }\n",
       "</style>\n",
       "<table border=\"1\" class=\"dataframe\">\n",
       "  <thead>\n",
       "    <tr style=\"text-align: right;\">\n",
       "      <th></th>\n",
       "      <th>sample</th>\n",
       "      <th>pu</th>\n",
       "      <th>tp</th>\n",
       "      <th>tp_sel</th>\n",
       "      <th>gen_sel</th>\n",
       "      <th>classtype</th>\n",
       "      <th>histo</th>\n",
       "    </tr>\n",
       "  </thead>\n",
       "  <tbody>\n",
       "    <tr>\n",
       "      <th>0</th>\n",
       "      <td>dele-V11</td>\n",
       "      <td>PU200</td>\n",
       "      <td>PFtkEleEE</td>\n",
       "      <td>EGq5Pt20</td>\n",
       "      <td>GENPt30</td>\n",
       "      <td>python.l1THistos.EGResoHistos</td>\n",
       "      <td>&lt;drawingTools.HProxy instance at 0x100a1b758&gt;</td>\n",
       "    </tr>\n",
       "    <tr>\n",
       "      <th>1</th>\n",
       "      <td>dele-V11</td>\n",
       "      <td>PU200</td>\n",
       "      <td>PFtkEleEB</td>\n",
       "      <td>Pt20</td>\n",
       "      <td>GENPt30</td>\n",
       "      <td>python.l1THistos.EGResoHistos</td>\n",
       "      <td>&lt;drawingTools.HProxy instance at 0x1138c92d8&gt;</td>\n",
       "    </tr>\n",
       "    <tr>\n",
       "      <th>2</th>\n",
       "      <td>dele-V11</td>\n",
       "      <td>PU200</td>\n",
       "      <td>PFtkEleEE</td>\n",
       "      <td>EGq4</td>\n",
       "      <td>GENPt15</td>\n",
       "      <td>python.l1THistos.EGResoHistos</td>\n",
       "      <td>&lt;drawingTools.HProxy instance at 0x110249248&gt;</td>\n",
       "    </tr>\n",
       "    <tr>\n",
       "      <th>3</th>\n",
       "      <td>dele-V11</td>\n",
       "      <td>PU200</td>\n",
       "      <td>PFEgEE</td>\n",
       "      <td>EGq4Pt10</td>\n",
       "      <td>GENPt30</td>\n",
       "      <td>python.l1THistos.EGResoHistos</td>\n",
       "      <td>&lt;drawingTools.HProxy instance at 0x100a0f950&gt;</td>\n",
       "    </tr>\n",
       "    <tr>\n",
       "      <th>4</th>\n",
       "      <td>dele-V11</td>\n",
       "      <td>PU200</td>\n",
       "      <td>tkEleEB</td>\n",
       "      <td>Pt30</td>\n",
       "      <td>GENPt30</td>\n",
       "      <td>python.l1THistos.EGResoHistos</td>\n",
       "      <td>&lt;drawingTools.HProxy instance at 0x101f80050&gt;</td>\n",
       "    </tr>\n",
       "    <tr>\n",
       "      <th>5</th>\n",
       "      <td>dele-V11</td>\n",
       "      <td>PU200</td>\n",
       "      <td>EgEE</td>\n",
       "      <td>EGq5</td>\n",
       "      <td>GEN</td>\n",
       "      <td>python.l1THistos.EGResoHistos</td>\n",
       "      <td>&lt;drawingTools.HProxy instance at 0x102223d88&gt;</td>\n",
       "    </tr>\n",
       "    <tr>\n",
       "      <th>6</th>\n",
       "      <td>dele-V11</td>\n",
       "      <td>PU200</td>\n",
       "      <td>tkEleEE</td>\n",
       "      <td>EGq5Pt10</td>\n",
       "      <td>GENEtaBC</td>\n",
       "      <td>python.l1THistos.EGResoHistos</td>\n",
       "      <td>&lt;drawingTools.HProxy instance at 0x1101fda70&gt;</td>\n",
       "    </tr>\n",
       "    <tr>\n",
       "      <th>7</th>\n",
       "      <td>dele-V11</td>\n",
       "      <td>PU200</td>\n",
       "      <td>EgEB</td>\n",
       "      <td>Pt10</td>\n",
       "      <td>GEN</td>\n",
       "      <td>python.l1THistos.EGResoHistos</td>\n",
       "      <td>&lt;drawingTools.HProxy instance at 0x112cb5710&gt;</td>\n",
       "    </tr>\n",
       "    <tr>\n",
       "      <th>8</th>\n",
       "      <td>dele-V11</td>\n",
       "      <td>PU200</td>\n",
       "      <td>PFEgEE</td>\n",
       "      <td>EGq5Pt30</td>\n",
       "      <td>GENEtaDE</td>\n",
       "      <td>python.l1THistos.EGResoHistos</td>\n",
       "      <td>&lt;drawingTools.HProxy instance at 0x113882cb0&gt;</td>\n",
       "    </tr>\n",
       "    <tr>\n",
       "      <th>9</th>\n",
       "      <td>dele-V11</td>\n",
       "      <td>PU200</td>\n",
       "      <td>tkEleEB</td>\n",
       "      <td>LooseTkIDPt10</td>\n",
       "      <td>GEN</td>\n",
       "      <td>python.l1THistos.EGResoHistos</td>\n",
       "      <td>&lt;drawingTools.HProxy instance at 0x113876710&gt;</td>\n",
       "    </tr>\n",
       "  </tbody>\n",
       "</table>\n",
       "</div>"
      ],
      "text/plain": [
       "     sample     pu         tp         tp_sel   gen_sel  \\\n",
       "0  dele-V11  PU200  PFtkEleEE       EGq5Pt20   GENPt30   \n",
       "1  dele-V11  PU200  PFtkEleEB           Pt20   GENPt30   \n",
       "2  dele-V11  PU200  PFtkEleEE           EGq4   GENPt15   \n",
       "3  dele-V11  PU200     PFEgEE       EGq4Pt10   GENPt30   \n",
       "4  dele-V11  PU200    tkEleEB           Pt30   GENPt30   \n",
       "5  dele-V11  PU200       EgEE           EGq5       GEN   \n",
       "6  dele-V11  PU200    tkEleEE       EGq5Pt10  GENEtaBC   \n",
       "7  dele-V11  PU200       EgEB           Pt10       GEN   \n",
       "8  dele-V11  PU200     PFEgEE       EGq5Pt30  GENEtaDE   \n",
       "9  dele-V11  PU200    tkEleEB  LooseTkIDPt10       GEN   \n",
       "\n",
       "                       classtype  \\\n",
       "0  python.l1THistos.EGResoHistos   \n",
       "1  python.l1THistos.EGResoHistos   \n",
       "2  python.l1THistos.EGResoHistos   \n",
       "3  python.l1THistos.EGResoHistos   \n",
       "4  python.l1THistos.EGResoHistos   \n",
       "5  python.l1THistos.EGResoHistos   \n",
       "6  python.l1THistos.EGResoHistos   \n",
       "7  python.l1THistos.EGResoHistos   \n",
       "8  python.l1THistos.EGResoHistos   \n",
       "9  python.l1THistos.EGResoHistos   \n",
       "\n",
       "                                           histo  \n",
       "0  <drawingTools.HProxy instance at 0x100a1b758>  \n",
       "1  <drawingTools.HProxy instance at 0x1138c92d8>  \n",
       "2  <drawingTools.HProxy instance at 0x110249248>  \n",
       "3  <drawingTools.HProxy instance at 0x100a0f950>  \n",
       "4  <drawingTools.HProxy instance at 0x101f80050>  \n",
       "5  <drawingTools.HProxy instance at 0x102223d88>  \n",
       "6  <drawingTools.HProxy instance at 0x1101fda70>  \n",
       "7  <drawingTools.HProxy instance at 0x112cb5710>  \n",
       "8  <drawingTools.HProxy instance at 0x113882cb0>  \n",
       "9  <drawingTools.HProxy instance at 0x113876710>  "
      ]
     },
     "execution_count": 8,
     "metadata": {},
     "output_type": "execute_result"
    }
   ],
   "source": [
    "hplot.data[:10]"
   ]
  },
  {
   "cell_type": "markdown",
   "metadata": {},
   "source": [
    "## Resolution Studies\n"
   ]
  },
  {
   "cell_type": "markdown",
   "metadata": {},
   "source": [
    "## Energy resolution and pt response curves"
   ]
  },
  {
   "cell_type": "code",
   "execution_count": null,
   "metadata": {},
   "outputs": [],
   "source": [
    "# %load ./python/utilities.py\n",
    "import uuid\n",
    "import ROOT\n",
    "from drawingTools import draw\n",
    "\n",
    "\n",
    "def effSigma(hist):\n",
    "    xaxis = hist.GetXaxis()\n",
    "    nb = xaxis.GetNbins()\n",
    "    if nb < 10:\n",
    "        print \"effsigma: Not a valid histo. nbins = {}\".format(nb)\n",
    "        return -1\n",
    "\n",
    "    bwid = xaxis.GetBinWidth(1)\n",
    "    if bwid == 0:\n",
    "        print \"effsigma: Not a valid histo. bwid = {}\".format(bwid)\n",
    "        return -1\n",
    "\n",
    "    xmax = xaxis.GetXmax()\n",
    "    xmin = xaxis.GetXmin()\n",
    "    ave = hist.GetMean()\n",
    "    rms = hist.GetRMS()\n",
    "\n",
    "    print 'xmax: {}, xmin: {}, ave: {}, rms: {}'.format(xmax, xmin, ave, rms)\n",
    "\n",
    "    total = 0.\n",
    "    for i in range(0, nb+2):\n",
    "        total += hist.GetBinContent(i)\n",
    "\n",
    "    if total < 100.:\n",
    "        print \"effsigma: Too few entries {}\".format(total)\n",
    "        return -1\n",
    "\n",
    "    ierr = 0\n",
    "    ismin = 999\n",
    "\n",
    "    rlim = 0.683*total\n",
    "    # Set scan size to +/- rms\n",
    "    nrms = int(rms/(bwid))\n",
    "    if nrms > nb/10:\n",
    "        # could be tuned\n",
    "        nrms = nb/10\n",
    "\n",
    "    widmin = 9999999.\n",
    "    # scan the window center\n",
    "    for iscan in range(-nrms, nrms+1):\n",
    "        ibm = int((ave-xmin)/bwid+1+iscan)\n",
    "        x = (ibm-0.5)*bwid+xmin\n",
    "        xj = x\n",
    "        xk = x\n",
    "        jbm = ibm\n",
    "        kbm = ibm\n",
    "        bin = hist.GetBinContent(ibm)\n",
    "        total = bin\n",
    "        for j in range(1, nb):\n",
    "            if jbm < nb:\n",
    "                jbm += 1\n",
    "                xj += bwid\n",
    "                bin = hist.GetBinContent(jbm)\n",
    "                total += bin\n",
    "                if total > rlim:\n",
    "                    break\n",
    "            else:\n",
    "                ierr = 1\n",
    "            if kbm > 0:\n",
    "                kbm -= 1\n",
    "                xk -= bwid\n",
    "                bin = hist.GetBinContent(kbm)\n",
    "                total += bin\n",
    "                if total > rlim:\n",
    "                    break\n",
    "            else:\n",
    "                ierr = 1\n",
    "        dxf = (total-rlim)*bwid/bin\n",
    "        wid = (xj-xk+bwid-dxf)*0.5\n",
    "        if wid < widmin:\n",
    "            widmin = wid\n",
    "            ismin = iscan\n",
    "\n",
    "    if ismin == nrms or ismin == -nrms:\n",
    "        ierr = 3\n",
    "    if ierr != 0:\n",
    "        print \"effsigma: Error of type {}\".format(ierr)\n",
    "\n",
    "    return widmin\n",
    "\n",
    "\n",
    "def gausstailfit_wc(name, project_hist, bin_limits):\n",
    "    global cache\n",
    "    if cache is not None and not cache[(cache.h_name == name) & (cache.bin_limits == bin_limits)].empty:\n",
    "        print 'READ cached fit results h_name: {}, bin_limits: {}'.format(name, bin_limits)\n",
    "        print cache[(cache.h_name == name) & (cache.bin_limits == bin_limits)].results\n",
    "        return cache[(cache.h_name == name) & (cache.bin_limits == bin_limits)].results.values[0]\n",
    "\n",
    "    max_bin = project_hist.GetMaximumBin()\n",
    "    max_value = project_hist.GetBinCenter(max_bin)\n",
    "    rms_value = project_hist.GetRMS()\n",
    "    max_y = project_hist.GetMaximum()\n",
    "#     print max_bin, max_value, rms_value\n",
    "\n",
    "    def gausstail(x, p):\n",
    "        #         // [Constant] * ROOT::Math::crystalball_function(x, [Alpha], [N], [Sigma], [Mean])\n",
    "        return p[0] * ROOT.Math.crystalball_function(x[0], p[3], p[4], p[2], p[1])\n",
    "\n",
    "    fitf = ROOT.TF1('gausstail', gausstail, -1.5, 1.5, 5)\n",
    "    fitf.SetParNames('norm', 'mean', 'sigma', 'alpha', 'n')\n",
    "#     fitf.FixParameter(0, 1.)\n",
    "    fitf.SetParLimits(1, max_value-0.04, max_value+0.04)\n",
    "\n",
    "    fitf.SetParameters(max_y, max_value, rms_value, 1, 1)\n",
    "    draw([project_hist], labels=['fit'], text=name)\n",
    "    stuff.append(fitf)\n",
    "    project_hist.Draw(\"same\")\n",
    "#     c.Draw()\n",
    "    print '   name: {}, y_max = {}, max_value = {}, RMS = {}'.format(name, max_y, max_value, rms_value)\n",
    "    result = project_hist.Fit('gausstail', 'QERLS+')\n",
    "    result.Print()\n",
    "    print '   norm = {}, reso_mean = {}, reso_sigma = {}, alpha = {}, n = {}'.format(result.GetParams()[0], result.GetParams()[1], result.GetParams()[2], result.GetParams()[3], result.GetParams()[4])\n",
    "#     func = project_hist.GetFunction(\"gaus\")\n",
    "    # print '   NDF = {}, chi2 = {}, prob = {}'.format(fitf.GetNDF(), fitf.GetChisquare(), fitf.GetProb())\n",
    "\n",
    "    if cache is not None:\n",
    "        cache = cache.append({'h_name': name,\n",
    "                              'bin_limits': bin_limits,\n",
    "                              'results': result}, ignore_index=True)\n",
    "#         print cache\n",
    "\n",
    "    return result\n",
    "\n",
    "\n",
    "def effective_sigma_energy(project_hist):\n",
    "    return (effSigma(project_hist),)\n",
    "\n",
    "\n",
    "def gausstailfit_energy(project_hist):\n",
    "    max_bin = project_hist.GetMaximumBin()\n",
    "    max_value = project_hist.GetBinCenter(max_bin)\n",
    "    rms_value = project_hist.GetRMS()\n",
    "    max_y = project_hist.GetMaximum()\n",
    "\n",
    "    def gausstail(x, p):\n",
    "        return p[0] * ROOT.Math.crystalball_function(x[0], p[3], p[4], p[2], p[1])\n",
    "\n",
    "    fitf = ROOT.TF1('gausstail', gausstail, -1.5, 1.5, 5)\n",
    "    fitf.SetParNames('norm', 'mean', 'sigma', 'alpha', 'n')\n",
    "#     fitf.FixParameter(0, 1.)\n",
    "    fitf.SetParLimits(1, max_value-0.04, max_value+0.04)\n",
    "    fitf.SetParameters(max_y, max_value, rms_value, 1, 1)\n",
    "#     draw([project_hist], labels=['fit'], text=name)\n",
    "    stuff.append(fitf)\n",
    "    project_hist.Draw(\"same\")\n",
    "#     c.Draw()\n",
    "    print '   y_max = {}, max_value = {}, RMS = {}'.format(max_y, max_value, rms_value)\n",
    "    result = project_hist.Fit('gausstail', 'QERLS+')\n",
    "    result.Print()\n",
    "    print '   norm = {}, reso_mean = {}, reso_sigma = {}, alpha = {}, n = {}'.format(result.GetParams()[0],\n",
    "                                                                                     result.GetParams()[1],\n",
    "                                                                                     result.GetParams()[2],\n",
    "                                                                                     result.GetParams()[3],\n",
    "                                                                                     result.GetParams()[4])\n",
    "    return result.GetParams()[0], result.GetParams()[1], result.GetParams()[2], result.GetParams()[3], result.GetParams()[4]\n",
    "\n",
    "\n",
    "def computeResolution(histo2d,\n",
    "                      bin_limits,\n",
    "                      y_axis_range,\n",
    "                      fit_function,\n",
    "                      result_index,\n",
    "                      cache=None):\n",
    "    global stuff\n",
    "\n",
    "    def get_results(histo_name,\n",
    "                    project_hist,\n",
    "                    bin_limits,\n",
    "                    fit_function,\n",
    "                    cache=None):\n",
    "        if cache is not None:\n",
    "            if not cache[(cache.h_name == histo_name) &\n",
    "                         (cache.bin_limits == bin_limits) &\n",
    "                         (cache.fit_function == fit_function)].empty:\n",
    "                print 'READ cached fit results h_name: {}, bin_limits: {}, fit_function: {}'.format(histo_name,\n",
    "                                                                                                    bin_limits,\n",
    "                                                                                                    fit_function)\n",
    "                return cache[(cache.h_name == histo_name) &\n",
    "                             (cache.bin_limits == bin_limits) &\n",
    "                             (cache.fit_function == fit_function)].results.values[0]\n",
    "            else:\n",
    "                print \"No ENTRY in CACHE\"\n",
    "                result = fit_function(project_hist)\n",
    "                cache.loc[cache.shape[0]+1] = {'h_name': histo_name,\n",
    "                                               'bin_limits': bin_limits,\n",
    "                                               'fit_function': fit_function,\n",
    "                                               'results': result}\n",
    "                return result\n",
    "        return fit_function(project_hist)\n",
    "\n",
    "    h2d = histo2d.Clone()\n",
    "    h2d.GetYaxis().SetRangeUser(y_axis_range[0], y_axis_range[1])\n",
    "\n",
    "    x, y, ex_l, ex_h, ey_l, ey_h = [], [], [], [], [], []\n",
    "    print '-----------------------'\n",
    "    for x_bin_low, x_bin_high in bin_limits:\n",
    "        y_proj = h2d.ProjectionY(uuid.uuid4().hex[:6]+'_y', x_bin_low, x_bin_high)\n",
    "        stuff.append(y_proj)\n",
    "        x_low = h2d.GetXaxis().GetBinLowEdge(x_bin_low)\n",
    "        x_high = h2d.GetXaxis().GetBinUpEdge(x_bin_high)\n",
    "        print 'x_low: {} x_high: {}'.format(x_low, x_high)\n",
    "        fit_result = get_results(histo2d.GetName(),\n",
    "                                 y_proj,\n",
    "                                 (x_bin_low, x_bin_high),\n",
    "                                 fit_function,\n",
    "                                 cache)\n",
    "        h2d.SetAxisRange(x_low, x_high)\n",
    "        x_mean = h2d.GetMean()\n",
    "        x.append(x_mean)\n",
    "        ex_l.append(0)\n",
    "        ex_h.append(0)\n",
    "        y.append(fit_result[result_index])\n",
    "        ey_l.append(0)\n",
    "        ey_h.append(0)\n",
    "    return x, y, ex_l, ex_h, ey_l, ey_h\n",
    "\n",
    "\n",
    "def computeEResolution(h2d_orig,\n",
    "                       bins_limits=[(3, 6), (7, 12), (13, 23), (24, 34), (35, 49), (50, 100)],\n",
    "                       cache=None):\n",
    "    global stuff\n",
    "    h2d = h2d_orig.Clone()\n",
    "    h2d.GetYaxis().SetRangeUser(-100, 100)\n",
    "    x, y, ex_l, ex_h, ey_l, ey_h = [], [], [], [], [], []\n",
    "    print '-----------------------'\n",
    "    for x_bin_low, x_bin_high in bins_limits:\n",
    "        y_proj = h2d.ProjectionY(uuid.uuid4().hex[:6]+'_y', x_bin_low, x_bin_high)\n",
    "        stuff.append(y_proj)\n",
    "        x_low = h2d.GetXaxis().GetBinLowEdge(x_bin_low)\n",
    "        x_high = h2d.GetXaxis().GetBinUpEdge(x_bin_high)\n",
    "        print 'x_low: {} x_high: {}'.format(x_low, x_high)\n",
    "#         fit_result = gausstailfit(h2d_orig.GetName(), y_proj)\n",
    "        fit_result = gausstailfit_wc(h2d_orig.GetName(), y_proj, (x_bin_low, x_bin_high))\n",
    "        h2d.SetAxisRange(x_low, x_high)\n",
    "        x_mean = h2d.GetMean()\n",
    "#         print 'mean: {}'.format(x_mean)\n",
    "    #     x_value = h2d.GetXaxis().GetBinCenter(x_bin)\n",
    "    #     x_err_min = x_value - h2d.GetXaxis().GetBinLowEdge(x_bin)\n",
    "    #     x_err_plus = h2d.GetXaxis().GetBinUpEdge(x_bin) - x_value\n",
    "\n",
    "        x.append(x_mean)\n",
    "        ex_l.append(0)\n",
    "        ex_h.append(0)\n",
    "        y.append(fit_result.GetParams()[2])\n",
    "\n",
    "#         y.append(fit_result.GetParams()[2]/x_mean)\n",
    "        ey_l.append(0)\n",
    "        ey_h.append(0)\n",
    "    return x, y, ex_l, ex_h, ey_l, ey_h\n",
    "\n",
    "\n",
    "def computeEResolutionMean(h2d_orig,\n",
    "                           bins_limits=[(3, 6), (7, 12), (13, 23), (24, 34), (35, 49), (50, 100)],\n",
    "                           cache=None):\n",
    "    h2d = h2d_orig.Clone()\n",
    "    h2d.GetYaxis().SetRangeUser(-100, 100)\n",
    "    x, y, ex_l, ex_h, ey_l, ey_h = [], [], [], [], [], []\n",
    "    print '-----------------------'\n",
    "    for x_bin_low, x_bin_high in bins_limits:\n",
    "        y_proj = h2d.ProjectionY(uuid.uuid4().hex[:6]+'_y', x_bin_low, x_bin_high)\n",
    "        stuff.append(y_proj)\n",
    "        x_low = h2d.GetXaxis().GetBinLowEdge(x_bin_low)\n",
    "        x_high = h2d.GetXaxis().GetBinUpEdge(x_bin_high)\n",
    "        print 'x_low: {} x_high: {}'.format(x_low, x_high)\n",
    "#         fit_result = gausstailfit(h2d_orig.GetName(), y_proj)\n",
    "        fit_result = gausstailfit_wc(h2d_orig.GetName(), y_proj, (x_bin_low, x_bin_high))\n",
    "\n",
    "        h2d.SetAxisRange(x_low, x_high)\n",
    "        x_mean = h2d.GetMean()\n",
    "#         print 'mean: {}'.format(x_mean)\n",
    "    #     x_value = h2d.GetXaxis().GetBinCenter(x_bin)\n",
    "    #     x_err_min = x_value - h2d.GetXaxis().GetBinLowEdge(x_bin)\n",
    "    #     x_err_plus = h2d.GetXaxis().GetBinUpEdge(x_bin) - x_value\n",
    "\n",
    "        x.append(x_mean)\n",
    "        ex_l.append(0)\n",
    "        ex_h.append(0)\n",
    "\n",
    "        y.append(fit_result.GetParams()[1])\n",
    "        ey_l.append(0)\n",
    "        ey_h.append(0)\n",
    "    return x, y, ex_l, ex_h, ey_l, ey_h\n"
   ]
  },
  {
   "cell_type": "code",
   "execution_count": null,
   "metadata": {},
   "outputs": [],
   "source": [
    "# run this cell to clean the cache of the fit results\n",
    "# cache = pd.DataFrame(columns=['h_name', 'bin_limits', 'results'])\n",
    "cache2 = pd.DataFrame(columns=['h_name', 'bin_limits', 'fit_function', 'results'])\n"
   ]
  },
  {
   "cell_type": "code",
   "execution_count": null,
   "metadata": {},
   "outputs": [],
   "source": [
    "for smp in ['dele-V11', 'dele-V10']:\n",
    "    for tp in tps:\n",
    "        for pu in ['PU200']:\n",
    "            for tp_sel in ['EGq5']:\n",
    "                hsets, labels, text = hplot.get_histo(histos.EGResoHistos, smp, pu, tp, tp_sel, 'GENEtaBC', debug=False)\n",
    "#                 draw([his.h_ptRespVpt, lambda h2d: computeResolution(histo2d=h2d,\n"
   ]
  },
  {
   "cell_type": "code",
   "execution_count": null,
   "metadata": {
    "scrolled": true
   },
   "outputs": [],
   "source": [
    "hsets, labels, text = hplot.get_histo(histos.EGResoHistos, ['dele-V11', 'dele-V10'], 'PU200', 'EG', 'EGq5', 'GENEtaBC', debug=False)\n",
    "draw([his.h_ptResVpt for his in hsets], labels, text=text, options='COLZ', min_y=0., max_y=0.1)\n"
   ]
  },
  {
   "cell_type": "code",
   "execution_count": null,
   "metadata": {
    "scrolled": true
   },
   "outputs": [],
   "source": [
    "for smp in ['ele-V8', 'ele-V9']:\n",
    "    for tp in tps:\n",
    "        for pu in ['PU200']:\n",
    "            for tp_sel in ['EGq3', 'EGq4']:\n",
    "                hsets, labels, text = hplot.get_histo(histos.EGResoHistos, smp, pu, tp, tp_sel, 'GENEtaD', debug=False)\n",
    "                draw([his.h_ptRespVpt_graph('meanPtResp', '<p_{T}^{L1}/p_{T}^{GEN}>', computePtRespResolutionMean) for his in hsets], labels, text=text, options='COLZ', min_y=0., max_y=0.1)\n"
   ]
  },
  {
   "cell_type": "code",
   "execution_count": null,
   "metadata": {},
   "outputs": [],
   "source": [
    "hsets, labels, text = hplot.get_histo(histos.EGResoHistos, ['ele-V9'], 'PU200', ['EG'], ['EGq3', 'EGq4'], 'GENEtaBC', debug=False)\n",
    "draw([his.g_ptRespVpt_sigmaPtResp for his in hsets], labels, text=text, options='COLZ', min_y=0., max_y=0.3)\n",
    "draw([his.g_ptRespVpt_meanPtResp for his in hsets], labels, text=text, options='COLZ', min_y=0., max_y=2)\n"
   ]
  },
  {
   "cell_type": "markdown",
   "metadata": {},
   "source": [
    "#### Matching to the highes pT cluster in DR 0.2 from GEN"
   ]
  },
  {
   "cell_type": "code",
   "execution_count": null,
   "metadata": {},
   "outputs": [],
   "source": []
  },
  {
   "cell_type": "code",
   "execution_count": null,
   "metadata": {},
   "outputs": [],
   "source": [
    "# ROOT.gStyle.SetPadTopMargin(0.05)\n",
    "# ROOT.gStyle.SetPadTopMargin(0.13)\n",
    "ROOT.gStyle.SetPadBottomMargin(0.13)\n",
    "ROOT.gStyle.SetPadLeftMargin(0.13)\n",
    "ROOT.gStyle.SetPadRightMargin(0.30)\n",
    "\n",
    "ROOT.gStyle.SetCanvasBorderMode(0)\n",
    "ROOT.gStyle.SetCanvasColor(0)\n",
    "ROOT.gStyle.SetCanvasDefH(600)\n",
    "ROOT.gStyle.SetCanvasDefW(800)\n"
   ]
  },
  {
   "cell_type": "markdown",
   "metadata": {},
   "source": [
    "## Angular resolution"
   ]
  },
  {
   "cell_type": "code",
   "execution_count": null,
   "metadata": {},
   "outputs": [],
   "source": [
    "sample='dele-V11'"
   ]
  },
  {
   "cell_type": "code",
   "execution_count": null,
   "metadata": {},
   "outputs": [],
   "source": [
    "dm = DrawMachine(rleg_config)\n",
    "\n",
    "\n",
    "hsets, labels, text = hplot.get_histo(histos.EGResoHistos, 'dele-V11', ['PU200'], 'EG', 'EGq5Pt15', 'GENEtaBC', False)            \n",
    "\n",
    "# dm = draw([his.h_phiRes for his in hsets], labels, norm=True, text=text, options='hist')\n",
    "\n",
    "dm.addHistos([his.h_phiRes for his in hsets], [labels[0] + 'phi @ (0., 0., 0.)'])\n",
    "dm.addHistos([his.h_exphiRes for his in hsets], [labels[0] + 'phi @ calo.'])\n",
    "\n",
    "dm.draw(text='PU200, EG endcap, 1.52 < |#eta^{L1}| <= 2.4', options='hist', norm=True)\n",
    "\n"
   ]
  },
  {
   "cell_type": "code",
   "execution_count": null,
   "metadata": {},
   "outputs": [],
   "source": [
    "dm = DrawMachine(rleg_config)\n",
    "\n",
    "\n",
    "hsets, labels, text = hplot.get_histo(histos.EGResoHistos, 'dele-V11', ['PU200'], 'tkEleEE', 'EGq5Pt15', 'GENEtaBC', False)            \n",
    "\n",
    "# dm = draw([his.h_phiRes for his in hsets], labels, norm=True, text=text, options='hist')\n",
    "\n",
    "dm.addHistos([his.h_phiRes for his in hsets], [labels[0] + 'phi @ (0., 0., 0.)'])\n",
    "dm.addHistos([his.h_exphiRes for his in hsets], [labels[0] + 'phi @ calo.'])\n",
    "\n",
    "dm.draw(text='PU200, EG endcap, 1.52 < |#eta^{L1}| <= 2.4', options='hist', norm=True)\n",
    "\n"
   ]
  },
  {
   "cell_type": "code",
   "execution_count": null,
   "metadata": {},
   "outputs": [],
   "source": [
    "dm = DrawMachine(rleg_config)\n",
    "\n",
    "\n",
    "hsets, labels, text = hplot.get_histo(histos.EGResoHistos, 'dele-V11', ['PU200'], 'EG', 'EGq5Pt15', 'GENEtaBC', False)            \n",
    "\n",
    "# dm = draw([his.h_phiRes for his in hsets], labels, norm=True, text=text, options='hist')\n",
    "\n",
    "dm.addHistos([his.h_etaRes for his in hsets], [labels[0] + '#eta @ (0., 0., 0.)'])\n",
    "dm.addHistos([his.h_exetaRes for his in hsets], [labels[0] + '#eta @ calo.'])\n",
    "\n",
    "dm.draw(text='PU200, EG endcap, 1.52 < |#eta^{L1}| <= 2.4', options='hist', norm=True)\n",
    "\n"
   ]
  },
  {
   "cell_type": "code",
   "execution_count": null,
   "metadata": {},
   "outputs": [],
   "source": [
    "dm = DrawMachine(rleg_config)\n",
    "\n",
    "\n",
    "hsets, labels, text = hplot.get_histo(histos.EGResoHistos, 'dele-V11', ['PU200'], 'tkEleEE', 'EGq5Pt15', 'GENEtaBC', False)            \n",
    "\n",
    "# dm = draw([his.h_phiRes for his in hsets], labels, norm=True, text=text, options='hist')\n",
    "\n",
    "dm.addHistos([his.h_etaRes for his in hsets], [labels[0] + '#eta @ (0., 0., 0.)'])\n",
    "dm.addHistos([his.h_exetaRes for his in hsets], [labels[0] + '#eta @ calo.'])\n",
    "\n",
    "dm.draw(text='PU200, EG endcap, 1.52 < |#eta^{L1}| <= 2.4', options='hist', norm=True)\n",
    "\n"
   ]
  },
  {
   "cell_type": "code",
   "execution_count": null,
   "metadata": {
    "scrolled": true
   },
   "outputs": [],
   "source": [
    "\n",
    "for tp in tps:\n",
    "    for tp_sel in tp_select[tp]:\n",
    "        for gen_sel in gen_select[tp]:\n",
    "            hsets, labels, text = hplot.get_histo(histos.EGResoHistos, sample, ['PU0', 'PU200'], tp, tp_sel, gen_sel, False)            \n",
    "            draw([his.h_phiRes for his in hsets], labels, norm=True, text=text, options='hist')\n"
   ]
  },
  {
   "cell_type": "code",
   "execution_count": null,
   "metadata": {
    "scrolled": false
   },
   "outputs": [],
   "source": [
    "\n",
    "for tp in tps:\n",
    "    for tp_sel in tp_select[tp]:\n",
    "        for gen_sel in gen_select:\n",
    "            hsets, labels, text = hplot.get_histo(histos.EGResoHistos, sample, ['PU0', 'PU200'], tp, tp_sel, gen_sel)            \n",
    "            draw([his.h_etaRes for his in hsets], labels, norm=True, text=text, options='hist')\n"
   ]
  },
  {
   "cell_type": "code",
   "execution_count": null,
   "metadata": {
    "scrolled": true
   },
   "outputs": [],
   "source": [
    "for tp in tps:\n",
    "    for tp_sel in tp_select[tp]:\n",
    "        for gen_sel in gen_select:\n",
    "            hsets, labels, text = hplot.get_histo(histos.EGResoHistos, ['ele'], ['PU0', 'PU200'], tp, tp_sel, gen_sel)            \n",
    "            draw([his.h_drRes for his in hsets], labels, norm=True, text=text)\n"
   ]
  },
  {
   "cell_type": "code",
   "execution_count": null,
   "metadata": {},
   "outputs": [],
   "source": [
    "hsets, labels, text = hplot.get_histo(histos.EGResoHistos, sample, ['PU200'], 'EG', ['EGq4','EGq5'], 'GENEtaBCPt15', False)            \n",
    "draw([his.h_phiRes for his in hsets], labels, norm=True, text=text, options='hist', min_x=-0.3, max_x=0.3,\n",
    "     do_write=True, write_name='figs/egammaEndcap_EG_HwQual4_EtaBC_phiRes')\n",
    "hsets, labels, text = hplot.get_histo(histos.EGResoHistos, sample, ['PU200'], 'EG', ['EGq4','EGq5'], 'GENEtaBCPt15', False)            \n",
    "draw([his.h_etaRes for his in hsets], labels, norm=True, text=text, options='hist', min_x=-0.3, max_x=0.3,\n",
    "     do_write=True, write_name='figs/egammaEndcap_EG_HwQual4_EtaBC_etaRes')\n"
   ]
  },
  {
   "cell_type": "markdown",
   "metadata": {},
   "source": [
    "## $p_{T}$ response"
   ]
  },
  {
   "cell_type": "code",
   "execution_count": null,
   "metadata": {},
   "outputs": [],
   "source": [
    "ROOT.gStyle.SetLegendTextSize(0.002)"
   ]
  },
  {
   "cell_type": "code",
   "execution_count": 9,
   "metadata": {},
   "outputs": [
    {
     "data": {
      "text/plain": [
       "<drawingTools.DrawMachine at 0x1022ccb50>"
      ]
     },
     "execution_count": 9,
     "metadata": {},
     "output_type": "execute_result"
    },
    {
     "data": {
      "text/html": [
       "\n",
       "<div id=\"root_plot_1\"\n",
       "     style=\"width: 996px; height: 472px\">\n",
       "</div>\n",
       "\n",
       "<script>\n",
       " requirejs.config({\n",
       "     paths: {\n",
       "       'JSRootCore' : 'https://root.cern.ch/js/notebook//scripts/JSRootCore',\n",
       "     }\n",
       "   });\n",
       " require(['JSRootCore'],\n",
       "     function(Core) {\n",
       "       var obj = Core.JSONR_unref({\"_typename\":\"TCanvas\",\"fUniqueID\":0,\"fBits\":53673992,\"fLineColor\":1,\"fLineStyle\":1,\"fLineWidth\":1,\"fFillColor\":0,\"fFillStyle\":1001,\"fLeftMargin\":0.13,\"fRightMargin\":0.13,\"fBottomMargin\":0.13,\"fTopMargin\":0.1,\"fXfile\":2,\"fYfile\":2,\"fAfile\":1,\"fXstat\":0.99,\"fYstat\":0.99,\"fAstat\":2,\"fFrameFillColor\":0,\"fFrameLineColor\":1,\"fFrameFillStyle\":1001,\"fFrameLineStyle\":1,\"fFrameLineWidth\":1,\"fFrameBorderSize\":1,\"fFrameBorderMode\":0,\"fX1\":0,\"fY1\":0,\"fX2\":1,\"fY2\":1,\"fXtoAbsPixelk\":5e-5,\"fXtoPixelk\":5e-5,\"fXtoPixel\":996,\"fYtoAbsPixelk\":472.00005,\"fYtoPixelk\":472.00005,\"fYtoPixel\":-472,\"fUtoAbsPixelk\":5e-5,\"fUtoPixelk\":5e-5,\"fUtoPixel\":996,\"fVtoAbsPixelk\":472.00005,\"fVtoPixelk\":472,\"fVtoPixel\":-472,\"fAbsPixeltoXk\":0,\"fPixeltoXk\":0,\"fPixeltoX\":0.00100401606425703,\"fAbsPixeltoYk\":1,\"fPixeltoYk\":0,\"fPixeltoY\":-0.00211864406779661,\"fXlowNDC\":0,\"fYlowNDC\":0,\"fXUpNDC\":0,\"fYUpNDC\":0,\"fWNDC\":1,\"fHNDC\":1,\"fAbsXlowNDC\":0,\"fAbsYlowNDC\":0,\"fAbsWNDC\":1,\"fAbsHNDC\":1,\"fUxmin\":0,\"fUymin\":0,\"fUxmax\":1,\"fUymax\":1,\"fTheta\":30,\"fPhi\":30,\"fAspectRatio\":0,\"fNumber\":0,\"fTickx\":0,\"fTicky\":0,\"fLogx\":0,\"fLogy\":0,\"fLogz\":0,\"fPadPaint\":0,\"fCrosshair\":0,\"fCrosshairPos\":0,\"fBorderSize\":2,\"fBorderMode\":0,\"fModified\":false,\"fGridx\":false,\"fGridy\":false,\"fAbsCoord\":false,\"fEditable\":true,\"fFixedAspectRatio\":false,\"fPrimitives\":{\"_typename\":\"TList\",\"name\":\"TList\",\"arr\":[{\"_typename\":\"TPad\",\"fUniqueID\":0,\"fBits\":50331657,\"fLineColor\":1,\"fLineStyle\":1,\"fLineWidth\":1,\"fFillColor\":0,\"fFillStyle\":1001,\"fLeftMargin\":0.13,\"fRightMargin\":0.13,\"fBottomMargin\":0.13,\"fTopMargin\":0.1,\"fXfile\":2,\"fYfile\":2,\"fAfile\":1,\"fXstat\":0.99,\"fYstat\":0.99,\"fAstat\":2,\"fFrameFillColor\":0,\"fFrameLineColor\":1,\"fFrameFillStyle\":1001,\"fFrameLineStyle\":1,\"fFrameLineWidth\":1,\"fFrameBorderSize\":1,\"fFrameBorderMode\":0,\"fX1\":-17.5675666967912,\"fY1\":-0.511558435466282,\"fX2\":117.567566696791,\"fY2\":3.42350650911765,\"fXtoAbsPixelk\":72.1104475555956,\"fXtoPixelk\":62.150447778219,\"fXtoPixel\":3.53779204888809,\"fYtoAbsPixelk\":407.147250939655,\"fYtoPixelk\":402.427251045156,\"fYtoPixel\":-117.548250594352,\"fUtoAbsPixelk\":9.96004977737665,\"fUtoPixelk\":5e-5,\"fUtoPixel\":478.080000445247,\"fVtoAbsPixelk\":467.2800501055,\"fVtoPixelk\":462.560000211,\"fVtoPixel\":-462.560000211,\"fAbsPixeltoXk\":-20.382881910275,\"fPixeltoXk\":-17.5675666967912,\"fPixeltoX\":0.282662176346486,\"fAbsPixeltoYk\":3.46366023212616,\"fPixeltoYk\":-0.511558435466282,\"fPixeltoY\":-0.00850714489534098,\"fXlowNDC\":0.00999999977648258,\"fYlowNDC\":0.00999999977648258,\"fXUpNDC\":0,\"fYUpNDC\":0,\"fWNDC\":0.480000000447035,\"fHNDC\":0.980000000447035,\"fAbsXlowNDC\":0.00999999977648258,\"fAbsYlowNDC\":0.00999999977648258,\"fAbsWNDC\":0.480000000447035,\"fAbsHNDC\":0.980000000447035,\"fUxmin\":0,\"fUymin\":0,\"fUxmax\":100,\"fUymax\":3.03,\"fTheta\":30,\"fPhi\":30,\"fAspectRatio\":0,\"fNumber\":1,\"fTickx\":0,\"fTicky\":0,\"fLogx\":0,\"fLogy\":0,\"fLogz\":0,\"fPadPaint\":0,\"fCrosshair\":0,\"fCrosshairPos\":0,\"fBorderSize\":2,\"fBorderMode\":0,\"fModified\":false,\"fGridx\":false,\"fGridy\":false,\"fAbsCoord\":false,\"fEditable\":true,\"fFixedAspectRatio\":false,\"fPrimitives\":{\"_typename\":\"TList\",\"name\":\"TList\",\"arr\":[{\"_typename\":\"TFrame\",\"fUniqueID\":0,\"fBits\":50331656,\"fLineColor\":1,\"fLineStyle\":1,\"fLineWidth\":1,\"fFillColor\":0,\"fFillStyle\":1001,\"fX1\":0,\"fY1\":0,\"fX2\":100,\"fY2\":3.03,\"fBorderSize\":1,\"fBorderMode\":0},{\"_typename\":\"TH2F\",\"fUniqueID\":0,\"fBits\":50332168,\"fName\":\"569cbc\",\"fTitle\":\"\",\"fLineColor\":602,\"fLineStyle\":1,\"fLineWidth\":1,\"fFillColor\":0,\"fFillStyle\":1001,\"fMarkerColor\":1,\"fMarkerStyle\":1,\"fMarkerSize\":1,\"fNcells\":5304,\"fXaxis\":{\"_typename\":\"TAxis\",\"fUniqueID\":0,\"fBits\":50331656,\"fName\":\"xaxis\",\"fTitle\":\" p_{T}^{GEN} [GeV]\",\"fNdivisions\":510,\"fAxisColor\":1,\"fLabelColor\":1,\"fLabelFont\":42,\"fLabelOffset\":0.005,\"fLabelSize\":0.035,\"fTickLength\":0.03,\"fTitleOffset\":1.4,\"fTitleSize\":0.035,\"fTitleColor\":1,\"fTitleFont\":42,\"fNbins\":50,\"fXmin\":0,\"fXmax\":100,\"fXbins\":[],\"fFirst\":0,\"fLast\":0,\"fBits2\":0,\"fTimeDisplay\":false,\"fTimeFormat\":\"\",\"fLabels\":null,\"fModLabs\":null},\"fYaxis\":{\"_typename\":\"TAxis\",\"fUniqueID\":0,\"fBits\":50333704,\"fName\":\"yaxis\",\"fTitle\":\" p_{T}^{L1}\\/p_{T}^{GEN}\",\"fNdivisions\":510,\"fAxisColor\":1,\"fLabelColor\":1,\"fLabelFont\":42,\"fLabelOffset\":0.005,\"fLabelSize\":0.035,\"fTickLength\":0.03,\"fTitleOffset\":0,\"fTitleSize\":0.035,\"fTitleColor\":1,\"fTitleFont\":42,\"fNbins\":100,\"fXmin\":0,\"fXmax\":3,\"fXbins\":[],\"fFirst\":1,\"fLast\":101,\"fBits2\":0,\"fTimeDisplay\":false,\"fTimeFormat\":\"\",\"fLabels\":null,\"fModLabs\":null},\"fZaxis\":{\"_typename\":\"TAxis\",\"fUniqueID\":0,\"fBits\":50331648,\"fName\":\"zaxis\",\"fTitle\":\"\",\"fNdivisions\":510,\"fAxisColor\":1,\"fLabelColor\":1,\"fLabelFont\":42,\"fLabelOffset\":0.005,\"fLabelSize\":0.035,\"fTickLength\":0.03,\"fTitleOffset\":1,\"fTitleSize\":0.035,\"fTitleColor\":1,\"fTitleFont\":42,\"fNbins\":1,\"fXmin\":0,\"fXmax\":1,\"fXbins\":[],\"fFirst\":0,\"fLast\":0,\"fBits2\":0,\"fTimeDisplay\":false,\"fTimeFormat\":\"\",\"fLabels\":null,\"fModLabs\":null},\"fBarOffset\":0,\"fBarWidth\":1000,\"fEntries\":71254,\"fTsumw\":71254,\"fTsumw2\":71254,\"fTsumwx\":4245310.95897484,\"fTsumwx2\":294578406.652571,\"fMaximum\":-1111,\"fMinimum\":-1111,\"fNormFactor\":0,\"fContour\":[0,26.1,52.2,78.3,104.4,130.5,156.6,182.7,208.8,234.9,261,287.1,313.2,339.3,365.4,391.5,417.6,443.7,469.8,495.9],\"fSumw2\":[0,0,0,0,0,0,0,0,0,0,0,0,0,0,0,0,0,0,0,0,0,0,0,0,0,0,0,0,0,0,0,0,0,0,0,0,0,0,0,0,0,0,0,0,0,0,0,0,0,0,0,0,0,0,0,0,0,0,0,0,0,0,0,0,0,0,0,0,0,0,0,0,0,0,0,0,0,0,0,0,0,0,0,0,0,0,0,0,0,0,0,0,0,0,0,0,0,0,0,0,0,0,0,0,0,0,0,0,0,0,0,0,0,0,0,0,0,0,0,0,0,0,0,0,0,0,0,0,0,0,0,0,0,0,0,0,0,0,0,0,0,0,0,0,0,0,0,0,0,0,0,0,0,0,0,0,0,0,0,0,0,0,0,0,0,0,0,0,0,0,0,0,0,0,0,0,0,0,0,0,0,0,0,0,0,0,0,0,0,0,0,0,0,0,0,0,0,0,0,0,0,0,0,0,0,0,0,0,0,0,0,0,0,0,0,0,0,0,0,0,0,0,0,0,0,0,0,0,0,0,0,0,0,0,0,0,0,0,0,0,0,0,0,0,0,0,0,0,0,0,0,0,0,0,0,0,0,0,0,0,0,0,0,0,0,0,0,0,0,0,0,0,0,0,0,0,0,0,0,0,0,0,0,0,0,0,0,0,0,0,0,0,0,0,0,0,0,0,0,0,0,0,0,0,0,0,0,0,0,0,0,0,0,0,0,0,0,0,0,0,0,0,0,0,0,0,0,0,0,0,0,0,0,0,0,0,0,0,0,0,0,0,0,0,0,0,0,0,0,0,0,0,0,0,0,0,0,0,0,0,0,0,0,0,0,0,0,0,0,0,0,0,0,0,0,0,0,0,0,0,0,0,0,0,0,0,0,0,0,0,0,0,0,0,0,0,0,0,0,0,0,0,0,0,0,0,0,0,0,0,0,0,0,0,0,0,0,0,0,0,0,0,0,0,0,0,0,0,0,0,0,0,0,0,0,0,0,0,0,0,0,0,0,0,0,0,0,0,0,0,0,0,0,0,0,0,0,0,0,0,0,0,0,0,0,0,0,0,0,0,0,0,0,0,0,0,0,0,0,0,0,0,0,0,0,0,0,0,0,0,0,0,0,0,0,0,0,0,1,0,0,1,0,1,0,0,0,0,0,1,0,1,0,0,0,1,0,0,0,0,0,0,0,0,0,0,0,0,0,0,0,0,0,0,0,0,0,0,0,0,0,0,0,0,0,1,0,0,0,0,0,1,1,0,0,2,0,0,0,0,0,0,0,0,0,0,0,0,0,0,0,0,0,0,0,0,0,0,0,0,0,0,0,0,0,0,0,0,0,0,0,0,0,0,0,0,1,0,1,0,0,2,0,1,0,1,0,0,0,0,0,0,0,0,1,1,0,0,1,0,1,0,0,0,0,0,0,0,0,0,0,0,0,0,0,0,0,0,0,0,1,0,0,0,0,0,0,0,0,0,0,0,0,0,1,0,0,0,0,0,1,2,0,3,1,0,0,1,0,0,0,1,0,0,1,0,0,0,0,0,0,0,1,0,0,0,0,0,0,0,0,1,0,0,0,0,0,0,0,0,1,0,0,0,0,1,0,1,0,1,0,0,2,0,2,1,1,2,0,0,0,0,1,0,0,0,0,0,0,0,0,0,0,0,0,0,0,0,0,0,0,0,1,2,1,2,1,0,1,1,1,0,0,1,0,0,0,1,0,0,0,0,1,0,1,1,2,0,0,1,1,2,1,2,2,0,0,2,1,0,0,0,0,0,0,0,0,0,0,0,0,0,0,0,0,0,0,0,0,0,1,0,1,0,2,0,1,3,1,2,1,0,1,1,2,1,0,1,1,0,0,0,0,0,0,2,2,1,0,0,1,0,0,0,0,0,0,0,0,0,0,0,0,0,2,0,2,1,4,1,2,0,1,0,1,0,0,1,0,1,0,1,1,0,1,0,0,3,0,0,2,0,2,1,3,0,0,3,1,0,2,0,2,0,0,0,0,0,0,0,0,0,0,0,0,0,0,1,0,3,1,1,0,1,0,1,1,3,0,4,0,2,0,1,3,2,0,1,3,0,2,2,1,0,0,1,1,1,2,2,2,3,1,0,1,0,0,0,0,0,0,0,1,0,0,0,0,1,1,1,1,0,2,2,1,3,3,0,0,4,2,0,1,0,1,1,0,1,1,3,0,3,2,1,7,2,2,2,1,3,4,0,3,0,1,0,0,0,0,0,0,0,0,0,0,0,0,0,0,0,0,1,3,3,4,1,2,1,2,0,3,1,5,1,1,1,4,1,1,3,0,1,1,1,0,1,0,3,2,4,2,1,7,3,3,5,2,0,2,0,0,0,0,0,0,0,0,0,0,0,1,1,1,2,3,7,3,3,5,2,5,3,6,0,5,1,3,2,0,1,3,2,5,1,3,2,0,1,3,1,2,2,6,2,1,2,4,3,5,3,3,0,0,0,0,0,0,0,0,0,1,2,4,5,7,2,4,1,3,1,4,6,2,7,2,2,3,4,8,3,2,4,5,3,4,3,1,2,1,2,2,6,1,3,2,2,2,2,2,7,1,1,2,0,0,0,0,0,0,0,0,1,1,1,5,5,7,4,10,7,6,6,4,7,8,7,6,5,6,4,6,4,2,7,1,5,1,2,3,5,0,3,1,6,2,4,3,5,3,5,2,2,4,3,3,0,0,0,0,0,0,0,0,0,2,3,9,9,6,7,4,5,9,10,4,6,9,6,8,11,7,6,5,4,6,3,7,4,1,13,10,10,3,6,4,4,2,2,4,2,3,5,3,6,1,3,4,0,0,0,0,0,0,0,0,0,1,6,1,9,9,15,11,11,12,15,16,8,11,7,6,10,9,9,9,8,6,5,7,6,3,6,7,3,7,4,5,6,1,3,7,5,10,1,3,4,6,4,5,0,0,0,0,0,0,0,0,2,5,1,5,6,12,16,10,15,17,17,18,4,13,15,14,10,11,7,16,4,10,6,5,4,3,5,7,6,8,10,8,7,5,5,7,3,11,4,7,7,7,4,6,0,0,0,0,0,0,1,0,0,8,13,20,10,12,18,16,21,21,19,11,15,15,14,13,15,18,12,9,11,17,5,5,17,12,8,6,5,9,12,10,7,3,6,4,9,6,5,6,8,6,3,9,0,0,0,0,0,0,0,0,2,11,7,18,17,20,19,20,27,22,30,25,18,18,19,19,16,16,14,11,23,16,19,12,18,16,10,10,18,18,15,11,11,8,9,12,6,8,9,8,8,7,2,4,0,0,0,0,0,0,0,1,4,12,21,22,21,16,21,23,29,39,31,24,25,27,27,16,16,21,17,18,20,14,18,21,20,26,23,18,18,19,13,18,16,8,8,18,11,10,8,7,10,7,12,10,0,0,0,0,0,0,0,4,10,18,28,25,35,43,28,34,33,35,39,36,51,29,32,36,33,30,29,26,22,24,24,35,24,22,21,25,25,23,26,27,17,21,19,23,19,19,13,21,14,16,14,13,0,0,0,0,0,0,0,5,13,25,40,26,46,46,57,48,60,60,50,61,44,47,50,49,59,49,65,53,51,54,43,42,50,50,47,43,40,39,28,42,39,37,31,34,28,41,31,30,33,25,36,20,0,0,0,0,0,0,2,4,23,26,38,53,47,62,57,71,81,84,76,69,96,87,73,76,65,87,89,81,77,87,73,92,78,58,86,78,79,70,79,80,59,64,69,68,65,46,58,58,47,52,57,52,0,0,0,0,0,0,0,10,29,46,71,73,83,97,106,91,97,130,125,142,122,109,126,145,124,131,135,128,119,163,138,129,151,121,142,132,152,156,123,134,127,152,133,130,147,134,125,124,132,141,108,105,0,0,0,0,0,0,1,8,28,58,83,117,112,141,137,142,172,186,176,179,195,211,199,210,201,250,228,221,240,255,263,277,263,254,246,253,253,269,265,300,262,280,257,257,242,256,259,277,295,272,294,268,0,0,0,0,0,0,1,12,32,82,100,106,146,149,157,177,193,216,252,273,232,231,290,309,301,314,325,303,335,342,361,367,382,378,372,405,405,426,481,427,409,440,451,469,465,445,459,432,522,482,469,492,0,0,0,0,0,0,0,18,47,72,102,129,148,153,174,167,211,220,249,245,223,268,292,282,280,334,323,293,343,325,336,335,362,379,392,365,383,403,392,441,407,455,469,422,482,443,447,463,454,458,443,490,0,0,0,0,0,0,0,19,51,88,99,99,138,132,123,163,175,207,186,208,193,200,216,194,212,222,216,225,241,217,244,223,222,244,235,241,245,242,272,250,223,243,242,256,241,199,226,236,251,236,258,214,0,0,0,0,0,0,0,15,42,70,75,74,98,124,99,138,97,136,111,136,143,119,142,116,153,124,112,113,122,108,130,133,122,109,104,108,109,114,104,98,80,91,91,85,80,74,60,66,86,47,72,69,0,0,0,0,0,0,1,23,51,52,54,70,87,81,97,81,90,112,78,84,69,71,83,58,68,70,71,52,55,56,36,48,33,27,48,38,20,33,23,19,18,20,21,20,19,15,21,13,17,9,9,11,0,0,0,0,0,0,0,16,43,55,46,71,56,65,66,56,79,50,60,41,45,41,30,33,38,21,28,18,21,19,17,15,10,18,7,5,5,9,5,7,3,6,1,1,2,4,3,4,1,3,1,2,0,0,0,0,0,0,1,13,23,37,38,52,51,38,37,33,33,27,31,15,7,17,13,11,14,4,10,2,5,3,2,4,2,1,4,0,2,0,1,0,0,0,0,0,0,1,0,0,0,0,0,0,0,0,0,0,0,0,0,18,42,33,29,23,24,22,21,17,9,7,5,10,7,5,2,1,2,0,2,1,0,0,0,0,0,0,0,0,0,0,0,0,0,0,0,0,0,0,0,0,0,0,0,0,0,0,0,0,0,0,0,21,25,27,20,23,16,17,5,13,6,6,4,1,2,1,0,2,1,0,0,0,0,0,0,0,0,0,0,0,0,0,1,0,0,0,0,0,0,0,0,0,0,0,0,0,0,0,0,0,0,0,0,15,34,15,22,16,10,11,12,6,2,1,1,0,0,0,0,0,0,0,0,0,0,0,0,0,0,0,1,0,0,0,0,0,0,0,0,0,0,0,0,0,0,0,0,0,0,0,0,0,0,0,0,18,24,13,9,9,5,7,4,0,1,0,0,1,0,0,0,0,0,0,0,0,0,0,0,0,0,0,0,0,0,0,0,0,0,0,0,0,0,0,0,0,0,0,0,0,0,0,0,0,0,0,0,13,18,12,4,8,3,3,0,0,0,2,0,0,0,0,0,0,0,0,0,0,0,0,0,0,0,0,0,0,0,0,0,0,0,0,0,0,0,0,0,0,0,0,0,0,0,0,0,0,0,0,0,13,19,9,6,2,1,0,0,1,0,0,0,0,0,0,0,0,0,0,0,0,0,0,0,0,0,0,0,0,0,0,0,0,0,0,0,0,0,0,0,0,0,0,0,0,0,0,0,0,0,0,0,7,12,3,1,1,1,0,0,0,0,0,0,0,0,0,0,0,0,0,0,0,0,0,0,0,0,0,0,0,0,0,0,0,0,0,0,0,0,0,0,0,0,0,0,0,0,0,0,0,0,0,1,6,6,4,3,2,1,1,0,0,0,0,0,0,0,0,0,0,0,0,0,0,0,0,0,0,0,0,0,0,0,0,0,0,0,0,0,0,0,0,0,0,0,0,0,0,0,0,0,0,0,0,0,8,3,0,1,1,0,0,0,0,0,0,0,0,0,0,0,0,0,0,0,0,0,0,0,0,0,0,0,0,0,0,0,0,0,0,0,0,0,0,0,0,0,0,0,0,0,0,0,0,0,0,0,5,1,1,0,0,0,0,0,0,0,0,0,0,0,0,0,0,0,0,0,0,0,0,0,0,0,0,0,0,0,0,0,0,0,0,0,0,0,0,0,0,0,0,0,0,0,0,0,0,0,0,0,2,1,0,0,0,0,0,0,0,0,0,0,0,0,0,0,0,0,0,0,0,0,0,0,0,0,0,0,0,0,0,0,0,0,0,0,0,0,0,0,0,0,0,0,0,0,0,0,0,0,0,0,3,1,1,0,0,0,0,0,0,0,0,0,0,0,0,0,0,0,0,0,0,0,0,0,0,0,0,0,0,0,0,0,0,0,0,0,0,0,0,0,0,0,0,0,0,0,0,0,0,0,0,0,0,0,0,0,0,0,0,0,0,0,0,0,0,0,0,0,0,0,0,0,0,0,0,0,0,0,0,0,0,0,0,0,0,0,0,0,0,0,0,0,0,0,0,0,0,0,0,0,0,0,0,0,1,0,1,0,0,0,0,0,0,0,0,0,0,0,0,0,0,0,0,0,0,0,0,0,0,0,0,0,0,0,0,0,0,0,0,0,0,0,0,0,0,0,0,0,0,0,0,0,0,0,0,0,0,0,0,0,0,0,0,0,0,0,0,0,0,0,0,0,0,0,0,0,0,0,0,0,0,0,0,0,0,0,0,0,0,0,0,0,0,0,0,0,0,0,0,0,0,0,0,0,0,0,0,0,0,0,0,0,0,0,0,0,0,0,0,0,0,0,0,0,0,0,0,0,0,0,0,0,0,0,0,0,0,0,0,0,0,0,0,0,0,0,0,0,0,0,0,0,0,0,0,0,0,0,0,0,1,0,0,0,0,0,0,0,0,0,0,0,0,0,0,0,0,0,0,0,0,0,0,0,0,0,0,0,0,0,0,0,0,0,0,0,0,0,0,0,0,0,0,0,0,0,0,0,0,0,0,0,0,0,0,0,0,0,0,0,0,0,0,0,0,0,0,0,0,0,0,0,0,0,0,0,0,0,0,0,0,0,0,0,0,0,0,0,0,0,0,0,0,0,0,0,0,0,0,0,0,0,0,0,0,0,0,0,0,0,0,0,0,0,0,0,0,0,0,0,0,0,0,0,0,0,0,0,0,0,0,0,0,0,0,0,0,0,0,0,0,0,0,0,0,0,0,0,0,0,0,0,0,0,0,0,0,0,0,0,0,0,0,0,0,0,0,0,0,0,0,0,0,0,0,0,0,0,0,0,0,0,0,0,0,0,0,0,0,0,0,0,0,0,0,0,0,0,0,0,0,0,0,0,0,0,0,0,0,0,0,0,0,0,0,0,0,0,0,0,0,0,0,0,0,0,0,0,0,0,0,0,0,0,0,0,0,0,0,0,0,0,0,0,0,0,0,0,0,0,0,0,0,0,0,0,0,0,0,0,0,0,0,0,0,0,0,0,0,0,0,0,0,0,0,0,0,0,0,0,0,0,0,0,0,0,0,0,0,0,0,0,0,0,0,0,0,0,0,0,0,0,0,0,0,0,0,0,0,0,0,0,0,0,0,0,0,0,0,0,0,0,0,0,0,0,0,0,0,0,0,0,0,0,0,0,0,0,0,0,0,0,0,0,0,0,0,0,0,0,0,0,0,0,0,0,0,0,0,0,0,0,0,0,0,0,0,0,0,0,0,0,0,0,0,0,0,0,0,0,0,0,0,0,0,0,0,0,0,0,0,0,0,0,0,0,0,0,0,0,0,0,0,0,0,0,0,0,0,0,0,0,0,0,0,0,0,0,0,0,0,0,0,0,0,0,0,0,0,0,0,0,0,0,0,0,0,0,0,0,0,0,0,0,0,0,0,0,0,0,0,0,0,0,0,0,0,0,0,0,0,0,0,0,0,0,0,0,0,0,0,0,0,0,0,0,0,0,0,0,0,0,0,0,0,0,0,0,0,0,0,0,0,0,0,0,0,0,0,0,0,0,0,0,0,0,0,0,0,0,0,0,0,0,0,0,0,0,0,0,0,0,0,0,0,0,0,0,0,0,0,0,0,0,0,0,0,0,0,0,0,0,0,0,0,0,0,0,0,0,0,0,0,0,0,0,0,0,0,0,0,0,0,0,0,0,0,0,0,0,0,0,0,0,0,0,0,0,0,0,0,0,0,0,0,0,0,0,0,0,0,0,0,0,0,0,0,0,0,0,0,0,0,0,0,0,0,0,0,0,0,0,0,0,0,0,0,0,0,0,0,0,0,0,0,0,0,0,0,0,0,0,0,0,0,0,0,0,0,0,0,0,0,0,0,0,0,0,0,0,0,0,0,0,0,0,0,0,0,0,0,0,0,0,0,0,0,0,0,0,0,0,0,0,0,0,0,0,0,0,0,0,0,0,0,0,0,0,0,0,0,0,0,0,0,0,0,0,0,0,0,0,0,0,0,0,0,0,0,0,0,0,0,0,0,0,0,0,0,0,0,0,0,0,0,0,0,0,0,0,0,0,0,0,0,0,0,0,0,0,0,0,0,0,0,0,0,0,0,0,0,0,0,0,0,0,0,0,0,0,0,0,0,0,0,0,0,0,0,0,0,0,0,0,0,0,0,0,0,0,0,0,0,0,0,0,0,0,0,0,0,0,0,0,0,0,0,0,0,0,0,0,0,0,0,0,0,0,0,0,0,0,0,0,0,0,0,0,0,0,0,0,0,0,0,0,0,0,0,0,0,0,0,0,0,0,0,0,0,0,0,0,0,0,0,0,0,0,0,0,0,0,0,0,0,0,0,0,0,0,0,0,0,0,0,0,0,0,0,0,0,0,0,0,0,0,0,0,0,0,0,0,0,0,0,0,0,0,0,0,0,0,0,0,0,0,0,0,0,0,0,0,0,0,0,0,0,0,0,0,0,0,0,0,0,0,0,0,0,0,0,0,0,0,0,0,0,0,0,0,0,0,0,0,0,0,0,0,0,0,0,0,0,0,0,0,0,0,0,0,0,0,0,0,0,0,0,0,0,0,0,0,0,0,0,0,0,0,0,0,0,0,0,0,0,0,0,0,0,0,0,0,0,0,0,0,0,0,0,0,0,0,0,0,0,0,0,0,0,0,0,0,0,0,0,0,0,0,0,0,0,0,0,0,0,0,0,0,0,0,0,0,0,0,0,0,0,0,0,0,0,0,0,0,0,0,0,0,0,0,0,0,0,0,0,0,0,0,0,0,0,0,0,0,0,0,0,0,0,0,0,0,0,0,0,0,0,0,0,0,0,0,0,0,0,0,0,0,0,0,0,0,0,0,0,0,0,0,0,0,0,0,0,0,0,0,0,0,0,0,0,0,0,0,0,0,0,0,0,0,0,0,0,0,0,0,0,0,0,0,0,0,0,0,0,0,0,0,0,0,0,0,0,0,0,0,0,0,0,0,0,0,0,0,0,0,0,0,0,0,0,0,0,0,0,0,0,0,0,0,0,0,0,0,0,0,0,0,0,0,0,0,0,0,0,0,0,0,0,0,0,0,0,0,0,0,0,0,0,0,0,0,0,0,0,0,0,0,0,0,0,0,0,0,0,0,0,0,0,0,0,0,0,0,0,0,0,0,0,0,0,0,0,0,0,0,0,0,0,0,0,0,0,0,0,0,0,0,0,0,0,0,0,0,0,0,0,0,0,0,0,0,0,0,0,0,0,0,0,0,0,0,0,0,0,0,0,0,0,0,0,0,0,0,0,0,0,0,0,0,0,0,0,0,0,0,0,0,0,0,0,0,0,0,0,0,0,0,0,0,0,0,0,0,0,0,0,0,0,0,0,0,0,0,0,0,0,0,0,0,0,0,0,0,0,0,0,0,0,0,0,0,0,0,0,0,0,0,0,0,0,0,0,0,0,0,0,0,0,0,0,0,0,0,0,0,0,0,0,0,0,0,0,0,0,0,0,0,0,0,0,0,0,0,0,0,0,0,0,0,0,0,0,0,0,0,0,0,0,0,0,0,0,0,0,0,0,0,0,0,0,0,0,0,0,0,0,0,0,0,0,0,0,0,0,0,0,0,0,0,0,0,0,0,0,0,0,0,0,0,0,0,0,0,0,0,0,0,0,0,0,0,0,0,0,0,0,0,0,0,0,0,0,0,0,0,0,0,0,0,0,0,0,0,0,0,0,0,0,0,0,0,0,0,0,0,0,0,0,0,0,0,0,0,0,0,0,0,0,0,0,0,0,0,0,0,0,0,0,0,0,0,0,0,0,0,0,0,0,0,0,0,0,0,0,0,0,0,0,0,0,0,0,0,0,0,0,0,0,0,0,0,0,0,0,0,0,0,0,0,0,0,0,0,0,0,0,0,0,0,0,0,0,0,0,0,0,0,0,0,0,0,0,0,0,0,0,0,0,0,0,0,0,0,0,0,0,0,0,0,0,0,0,0,0,0,0,0,0,0,0,0,0,0,0,0,0,0,0,0,0,0,0,0,0,0,0,0,0,0,0,0,0,0,0,0,0,0,0,0,0,0,0,0,0,0,0,0,0,0,0,0,0,0,0,0,0,0,0,0,0,0,0,0,0,0,0,0,0,0,0,0,0,0,0,0,0,0,0,0,0,0,0,0,0,0,0,0,0,0,0,0,0,0,0,0,0,0,0,0,0,0,0,0,0,0,0,0,0,0,0,0,0,0,0,0,0,0,0,0,0,0,0,0,0,0,0,0,0,0,0,0,0,0,0,0,0,0,0,0,0,0,0,0,0,0,0,0,0,0,0,0,0,0,0,0,0,0,0,0,0,0,0,0,0,0,0,0,0,0,0,0,0,0,0,0,0,0,0,0,0,0,0,0,0,0,0,0,0,0,0,0,0,0,0,0,0,0,0,0,0,0,0,0,0,0,0,0,0,0,0,0,0,0,0,0,0,0,0,0,0,0,0,0,0,0,0,0,0,0,0,0,0,0,0,0,0,0,0,0,0,0,0,0,0,0,0,0,0,0,0,0,0,0,0,0,0,0,0,0,0,0,0,0,0,0,0,0,0,0,0,0,0,0,0,0,0,0,0,0,0,0,0,0,0,0,0,0,0,0,0,0,0,0,0,0,0,0,0,0,0,0,0,0,0,0,0,0,0,0,0,0,0,0,0,0,0,0,0,0,0,0,0,0,0,0,0,0,0,0,0,0,0,0,0,0,0,0,0,0,0,0,0,0,0,0,0,0,0,0,0,0,0,0,0,0,0,0,0,0,0,0,0,0,0,0,0,0,0,0,0,0,0,0,0,0,0,0,0,0,0,0,0,0,0,0,0,0,0,0,0,0,0,0,0,0,0,0,0,0,0,0,0,0,0,0,0,0,0,0,0,0,0,0,0,0,0,0,0,0,0,0,0,0,0,0,0,0,0,0,0,0,0,0,0,0,0,0,0,0,0,0,0,0,0,0,0,0,0,0,0,0,0,0,0,0,0,0,0,0,0,0,0,0,0,0,0,0,0,0,0,0,0,0,0,0,0,0,0,0,0,0,0,0,0,0,0,0,0,0,0,0,0,0,0,0,0,0,0,0,0,0,0,0,0,0,0,0,0,0,0,0,0,0,0,0,0,0,0,0,0,0,0,0,0,0,0,0,0,0,0,0,0,0,0,0,0,0,0,0,0,0,0,0,0,0,0,0,0,0,0,0,0,0,0,0,0,0,0,0,0,0,0,0,0,0,0,0,0,0,0,0,0,0,0,0,0,0,0,0,0,0,0,0,0,0,0,0,0,0,0,0,0,0,0,0,0,0,0,0,0,0,0,0,0,0,0,0,0,0,0,0,0,0,0,0,0,0,0,0,0,0,0,0,0,0,0,0,0,0,0,0,0,0,0,0,0,0,0,0,0,0,0,0,0,0,0,0,0,0,0,0,0,0,0,0,0,0,0,0,0,0,0,0,0,0,0,0,0,0,0,0,0,0,0,0,0,0,0,0,0,0,0,0,0,0,0,0,0,0,0,0,0,0,0,0,0,0,0,0,0,0,0,0,0,0,0,0,0,0,0,0,0,0,0,0,0,0,0,0,0,0,0,0,0,0,0,0,0,0,0,0,0,0,0,0,0,0,0,0,0,0,0,0,0,0,0,0,0,0,0,0,0,0],\"fOption\":\"\",\"fFunctions\":{\"_typename\":\"TList\",\"name\":\"TList\",\"arr\":[{\"_typename\":\"TPaletteAxis\",\"fUniqueID\":0,\"fBits\":50331648,\"fLineColor\":1,\"fLineStyle\":1,\"fLineWidth\":1,\"fFillColor\":1178,\"fFillStyle\":1001,\"fX1\":100.675675666968,\"fY1\":0,\"fX2\":106.756756669679,\"fY2\":3.03,\"fX1NDC\":0.875000004768372,\"fY1NDC\":0.129999998137355,\"fX2NDC\":0.920000004768372,\"fY2NDC\":0.89999999627471,\"fBorderSize\":4,\"fInit\":1,\"fShadowColor\":1,\"fCornerRadius\":0,\"fOption\":\"br\",\"fName\":\"TPave\",\"fAxis\":{\"_typename\":\"TGaxis\",\"fUniqueID\":0,\"fBits\":50331648,\"fLineColor\":1,\"fLineStyle\":1,\"fLineWidth\":1,\"fX1\":0,\"fY1\":0,\"fX2\":0,\"fY2\":0,\"fTextAngle\":0,\"fTextSize\":0.04,\"fTextAlign\":11,\"fTextColor\":1,\"fTextFont\":42,\"fWmin\":0,\"fWmax\":0,\"fGridLength\":0,\"fTickSize\":0.03,\"fLabelOffset\":0.005,\"fLabelSize\":0.035,\"fTitleOffset\":1,\"fTitleSize\":0.035,\"fNdiv\":0,\"fLabelColor\":1,\"fLabelFont\":42,\"fNModLabs\":0,\"fChopt\":\"\",\"fName\":\"\",\"fTitle\":\"\",\"fTimeFormat\":\"\",\"fFunctionName\":\"\",\"fModLabs\":null},\"fName\":\"palette\"}],\"opt\":[\"br\"]},\"fBufferSize\":0,\"fBuffer\":[],\"fBinStatErrOpt\":0,\"fStatOverflows\":2,\"fScalefactor\":1,\"fTsumwy\":71490.7611896843,\"fTsumwy2\":72368.0015382442,\"fTsumwxy\":4247079.60079801,\"fArray\":[0,0,0,0,0,0,0,0,0,0,0,0,0,0,0,0,0,0,0,0,0,0,0,0,0,0,0,0,0,0,0,0,0,0,0,0,0,0,0,0,0,0,0,0,0,0,0,0,0,0,0,0,0,0,0,0,0,0,0,0,0,0,0,0,0,0,0,0,0,0,0,0,0,0,0,0,0,0,0,0,0,0,0,0,0,0,0,0,0,0,0,0,0,0,0,0,0,0,0,0,0,0,0,0,0,0,0,0,0,0,0,0,0,0,0,0,0,0,0,0,0,0,0,0,0,0,0,0,0,0,0,0,0,0,0,0,0,0,0,0,0,0,0,0,0,0,0,0,0,0,0,0,0,0,0,0,0,0,0,0,0,0,0,0,0,0,0,0,0,0,0,0,0,0,0,0,0,0,0,0,0,0,0,0,0,0,0,0,0,0,0,0,0,0,0,0,0,0,0,0,0,0,0,0,0,0,0,0,0,0,0,0,0,0,0,0,0,0,0,0,0,0,0,0,0,0,0,0,0,0,0,0,0,0,0,0,0,0,0,0,0,0,0,0,0,0,0,0,0,0,0,0,0,0,0,0,0,0,0,0,0,0,0,0,0,0,0,0,0,0,0,0,0,0,0,0,0,0,0,0,0,0,0,0,0,0,0,0,0,0,0,0,0,0,0,0,0,0,0,0,0,0,0,0,0,0,0,0,0,0,0,0,0,0,0,0,0,0,0,0,0,0,0,0,0,0,0,0,0,0,0,0,0,0,0,0,0,0,0,0,0,0,0,0,0,0,0,0,0,0,0,0,0,0,0,0,0,0,0,0,0,0,0,0,0,0,0,0,0,0,0,0,0,0,0,0,0,0,0,0,0,0,0,0,0,0,0,0,0,0,0,0,0,0,0,0,0,0,0,0,0,0,0,0,0,0,0,0,0,0,0,0,0,0,0,0,0,0,0,0,0,0,0,0,0,0,0,0,0,0,0,0,0,0,0,0,0,0,0,0,0,0,0,0,0,0,0,0,0,0,0,0,0,0,0,0,0,0,0,0,0,0,0,0,0,0,0,0,0,0,0,0,0,0,0,0,0,0,0,0,0,0,0,0,0,0,0,0,0,0,0,0,0,0,0,0,0,0,1,0,0,1,0,1,0,0,0,0,0,1,0,1,0,0,0,1,0,0,0,0,0,0,0,0,0,0,0,0,0,0,0,0,0,0,0,0,0,0,0,0,0,0,0,0,0,1,0,0,0,0,0,1,1,0,0,2,0,0,0,0,0,0,0,0,0,0,0,0,0,0,0,0,0,0,0,0,0,0,0,0,0,0,0,0,0,0,0,0,0,0,0,0,0,0,0,0,1,0,1,0,0,2,0,1,0,1,0,0,0,0,0,0,0,0,1,1,0,0,1,0,1,0,0,0,0,0,0,0,0,0,0,0,0,0,0,0,0,0,0,0,1,0,0,0,0,0,0,0,0,0,0,0,0,0,1,0,0,0,0,0,1,2,0,3,1,0,0,1,0,0,0,1,0,0,1,0,0,0,0,0,0,0,1,0,0,0,0,0,0,0,0,1,0,0,0,0,0,0,0,0,1,0,0,0,0,1,0,1,0,1,0,0,2,0,2,1,1,2,0,0,0,0,1,0,0,0,0,0,0,0,0,0,0,0,0,0,0,0,0,0,0,0,1,2,1,2,1,0,1,1,1,0,0,1,0,0,0,1,0,0,0,0,1,0,1,1,2,0,0,1,1,2,1,2,2,0,0,2,1,0,0,0,0,0,0,0,0,0,0,0,0,0,0,0,0,0,0,0,0,0,1,0,1,0,2,0,1,3,1,2,1,0,1,1,2,1,0,1,1,0,0,0,0,0,0,2,2,1,0,0,1,0,0,0,0,0,0,0,0,0,0,0,0,0,2,0,2,1,4,1,2,0,1,0,1,0,0,1,0,1,0,1,1,0,1,0,0,3,0,0,2,0,2,1,3,0,0,3,1,0,2,0,2,0,0,0,0,0,0,0,0,0,0,0,0,0,0,1,0,3,1,1,0,1,0,1,1,3,0,4,0,2,0,1,3,2,0,1,3,0,2,2,1,0,0,1,1,1,2,2,2,3,1,0,1,0,0,0,0,0,0,0,1,0,0,0,0,1,1,1,1,0,2,2,1,3,3,0,0,4,2,0,1,0,1,1,0,1,1,3,0,3,2,1,7,2,2,2,1,3,4,0,3,0,1,0,0,0,0,0,0,0,0,0,0,0,0,0,0,0,0,1,3,3,4,1,2,1,2,0,3,1,5,1,1,1,4,1,1,3,0,1,1,1,0,1,0,3,2,4,2,1,7,3,3,5,2,0,2,0,0,0,0,0,0,0,0,0,0,0,1,1,1,2,3,7,3,3,5,2,5,3,6,0,5,1,3,2,0,1,3,2,5,1,3,2,0,1,3,1,2,2,6,2,1,2,4,3,5,3,3,0,0,0,0,0,0,0,0,0,1,2,4,5,7,2,4,1,3,1,4,6,2,7,2,2,3,4,8,3,2,4,5,3,4,3,1,2,1,2,2,6,1,3,2,2,2,2,2,7,1,1,2,0,0,0,0,0,0,0,0,1,1,1,5,5,7,4,10,7,6,6,4,7,8,7,6,5,6,4,6,4,2,7,1,5,1,2,3,5,0,3,1,6,2,4,3,5,3,5,2,2,4,3,3,0,0,0,0,0,0,0,0,0,2,3,9,9,6,7,4,5,9,10,4,6,9,6,8,11,7,6,5,4,6,3,7,4,1,13,10,10,3,6,4,4,2,2,4,2,3,5,3,6,1,3,4,0,0,0,0,0,0,0,0,0,1,6,1,9,9,15,11,11,12,15,16,8,11,7,6,10,9,9,9,8,6,5,7,6,3,6,7,3,7,4,5,6,1,3,7,5,10,1,3,4,6,4,5,0,0,0,0,0,0,0,0,2,5,1,5,6,12,16,10,15,17,17,18,4,13,15,14,10,11,7,16,4,10,6,5,4,3,5,7,6,8,10,8,7,5,5,7,3,11,4,7,7,7,4,6,0,0,0,0,0,0,1,0,0,8,13,20,10,12,18,16,21,21,19,11,15,15,14,13,15,18,12,9,11,17,5,5,17,12,8,6,5,9,12,10,7,3,6,4,9,6,5,6,8,6,3,9,0,0,0,0,0,0,0,0,2,11,7,18,17,20,19,20,27,22,30,25,18,18,19,19,16,16,14,11,23,16,19,12,18,16,10,10,18,18,15,11,11,8,9,12,6,8,9,8,8,7,2,4,0,0,0,0,0,0,0,1,4,12,21,22,21,16,21,23,29,39,31,24,25,27,27,16,16,21,17,18,20,14,18,21,20,26,23,18,18,19,13,18,16,8,8,18,11,10,8,7,10,7,12,10,0,0,0,0,0,0,0,4,10,18,28,25,35,43,28,34,33,35,39,36,51,29,32,36,33,30,29,26,22,24,24,35,24,22,21,25,25,23,26,27,17,21,19,23,19,19,13,21,14,16,14,13,0,0,0,0,0,0,0,5,13,25,40,26,46,46,57,48,60,60,50,61,44,47,50,49,59,49,65,53,51,54,43,42,50,50,47,43,40,39,28,42,39,37,31,34,28,41,31,30,33,25,36,20,0,0,0,0,0,0,2,4,23,26,38,53,47,62,57,71,81,84,76,69,96,87,73,76,65,87,89,81,77,87,73,92,78,58,86,78,79,70,79,80,59,64,69,68,65,46,58,58,47,52,57,52,0,0,0,0,0,0,0,10,29,46,71,73,83,97,106,91,97,130,125,142,122,109,126,145,124,131,135,128,119,163,138,129,151,121,142,132,152,156,123,134,127,152,133,130,147,134,125,124,132,141,108,105,0,0,0,0,0,0,1,8,28,58,83,117,112,141,137,142,172,186,176,179,195,211,199,210,201,250,228,221,240,255,263,277,263,254,246,253,253,269,265,300,262,280,257,257,242,256,259,277,295,272,294,268,0,0,0,0,0,0,1,12,32,82,100,106,146,149,157,177,193,216,252,273,232,231,290,309,301,314,325,303,335,342,361,367,382,378,372,405,405,426,481,427,409,440,451,469,465,445,459,432,522,482,469,492,0,0,0,0,0,0,0,18,47,72,102,129,148,153,174,167,211,220,249,245,223,268,292,282,280,334,323,293,343,325,336,335,362,379,392,365,383,403,392,441,407,455,469,422,482,443,447,463,454,458,443,490,0,0,0,0,0,0,0,19,51,88,99,99,138,132,123,163,175,207,186,208,193,200,216,194,212,222,216,225,241,217,244,223,222,244,235,241,245,242,272,250,223,243,242,256,241,199,226,236,251,236,258,214,0,0,0,0,0,0,0,15,42,70,75,74,98,124,99,138,97,136,111,136,143,119,142,116,153,124,112,113,122,108,130,133,122,109,104,108,109,114,104,98,80,91,91,85,80,74,60,66,86,47,72,69,0,0,0,0,0,0,1,23,51,52,54,70,87,81,97,81,90,112,78,84,69,71,83,58,68,70,71,52,55,56,36,48,33,27,48,38,20,33,23,19,18,20,21,20,19,15,21,13,17,9,9,11,0,0,0,0,0,0,0,16,43,55,46,71,56,65,66,56,79,50,60,41,45,41,30,33,38,21,28,18,21,19,17,15,10,18,7,5,5,9,5,7,3,6,1,1,2,4,3,4,1,3,1,2,0,0,0,0,0,0,1,13,23,37,38,52,51,38,37,33,33,27,31,15,7,17,13,11,14,4,10,2,5,3,2,4,2,1,4,0,2,0,1,0,0,0,0,0,0,1,0,0,0,0,0,0,0,0,0,0,0,0,0,18,42,33,29,23,24,22,21,17,9,7,5,10,7,5,2,1,2,0,2,1,0,0,0,0,0,0,0,0,0,0,0,0,0,0,0,0,0,0,0,0,0,0,0,0,0,0,0,0,0,0,0,21,25,27,20,23,16,17,5,13,6,6,4,1,2,1,0,2,1,0,0,0,0,0,0,0,0,0,0,0,0,0,1,0,0,0,0,0,0,0,0,0,0,0,0,0,0,0,0,0,0,0,0,15,34,15,22,16,10,11,12,6,2,1,1,0,0,0,0,0,0,0,0,0,0,0,0,0,0,0,1,0,0,0,0,0,0,0,0,0,0,0,0,0,0,0,0,0,0,0,0,0,0,0,0,18,24,13,9,9,5,7,4,0,1,0,0,1,0,0,0,0,0,0,0,0,0,0,0,0,0,0,0,0,0,0,0,0,0,0,0,0,0,0,0,0,0,0,0,0,0,0,0,0,0,0,0,13,18,12,4,8,3,3,0,0,0,2,0,0,0,0,0,0,0,0,0,0,0,0,0,0,0,0,0,0,0,0,0,0,0,0,0,0,0,0,0,0,0,0,0,0,0,0,0,0,0,0,0,13,19,9,6,2,1,0,0,1,0,0,0,0,0,0,0,0,0,0,0,0,0,0,0,0,0,0,0,0,0,0,0,0,0,0,0,0,0,0,0,0,0,0,0,0,0,0,0,0,0,0,0,7,12,3,1,1,1,0,0,0,0,0,0,0,0,0,0,0,0,0,0,0,0,0,0,0,0,0,0,0,0,0,0,0,0,0,0,0,0,0,0,0,0,0,0,0,0,0,0,0,0,0,1,6,6,4,3,2,1,1,0,0,0,0,0,0,0,0,0,0,0,0,0,0,0,0,0,0,0,0,0,0,0,0,0,0,0,0,0,0,0,0,0,0,0,0,0,0,0,0,0,0,0,0,0,8,3,0,1,1,0,0,0,0,0,0,0,0,0,0,0,0,0,0,0,0,0,0,0,0,0,0,0,0,0,0,0,0,0,0,0,0,0,0,0,0,0,0,0,0,0,0,0,0,0,0,0,5,1,1,0,0,0,0,0,0,0,0,0,0,0,0,0,0,0,0,0,0,0,0,0,0,0,0,0,0,0,0,0,0,0,0,0,0,0,0,0,0,0,0,0,0,0,0,0,0,0,0,0,2,1,0,0,0,0,0,0,0,0,0,0,0,0,0,0,0,0,0,0,0,0,0,0,0,0,0,0,0,0,0,0,0,0,0,0,0,0,0,0,0,0,0,0,0,0,0,0,0,0,0,0,3,1,1,0,0,0,0,0,0,0,0,0,0,0,0,0,0,0,0,0,0,0,0,0,0,0,0,0,0,0,0,0,0,0,0,0,0,0,0,0,0,0,0,0,0,0,0,0,0,0,0,0,0,0,0,0,0,0,0,0,0,0,0,0,0,0,0,0,0,0,0,0,0,0,0,0,0,0,0,0,0,0,0,0,0,0,0,0,0,0,0,0,0,0,0,0,0,0,0,0,0,0,0,0,1,0,1,0,0,0,0,0,0,0,0,0,0,0,0,0,0,0,0,0,0,0,0,0,0,0,0,0,0,0,0,0,0,0,0,0,0,0,0,0,0,0,0,0,0,0,0,0,0,0,0,0,0,0,0,0,0,0,0,0,0,0,0,0,0,0,0,0,0,0,0,0,0,0,0,0,0,0,0,0,0,0,0,0,0,0,0,0,0,0,0,0,0,0,0,0,0,0,0,0,0,0,0,0,0,0,0,0,0,0,0,0,0,0,0,0,0,0,0,0,0,0,0,0,0,0,0,0,0,0,0,0,0,0,0,0,0,0,0,0,0,0,0,0,0,0,0,0,0,0,0,0,0,0,0,0,1,0,0,0,0,0,0,0,0,0,0,0,0,0,0,0,0,0,0,0,0,0,0,0,0,0,0,0,0,0,0,0,0,0,0,0,0,0,0,0,0,0,0,0,0,0,0,0,0,0,0,0,0,0,0,0,0,0,0,0,0,0,0,0,0,0,0,0,0,0,0,0,0,0,0,0,0,0,0,0,0,0,0,0,0,0,0,0,0,0,0,0,0,0,0,0,0,0,0,0,0,0,0,0,0,0,0,0,0,0,0,0,0,0,0,0,0,0,0,0,0,0,0,0,0,0,0,0,0,0,0,0,0,0,0,0,0,0,0,0,0,0,0,0,0,0,0,0,0,0,0,0,0,0,0,0,0,0,0,0,0,0,0,0,0,0,0,0,0,0,0,0,0,0,0,0,0,0,0,0,0,0,0,0,0,0,0,0,0,0,0,0,0,0,0,0,0,0,0,0,0,0,0,0,0,0,0,0,0,0,0,0,0,0,0,0,0,0,0,0,0,0,0,0,0,0,0,0,0,0,0,0,0,0,0,0,0,0,0,0,0,0,0,0,0,0,0,0,0,0,0,0,0,0,0,0,0,0,0,0,0,0,0,0,0,0,0,0,0,0,0,0,0,0,0,0,0,0,0,0,0,0,0,0,0,0,0,0,0,0,0,0,0,0,0,0,0,0,0,0,0,0,0,0,0,0,0,0,0,0,0,0,0,0,0,0,0,0,0,0,0,0,0,0,0,0,0,0,0,0,0,0,0,0,0,0,0,0,0,0,0,0,0,0,0,0,0,0,0,0,0,0,0,0,0,0,0,0,0,0,0,0,0,0,0,0,0,0,0,0,0,0,0,0,0,0,0,0,0,0,0,0,0,0,0,0,0,0,0,0,0,0,0,0,0,0,0,0,0,0,0,0,0,0,0,0,0,0,0,0,0,0,0,0,0,0,0,0,0,0,0,0,0,0,0,0,0,0,0,0,0,0,0,0,0,0,0,0,0,0,0,0,0,0,0,0,0,0,0,0,0,0,0,0,0,0,0,0,0,0,0,0,0,0,0,0,0,0,0,0,0,0,0,0,0,0,0,0,0,0,0,0,0,0,0,0,0,0,0,0,0,0,0,0,0,0,0,0,0,0,0,0,0,0,0,0,0,0,0,0,0,0,0,0,0,0,0,0,0,0,0,0,0,0,0,0,0,0,0,0,0,0,0,0,0,0,0,0,0,0,0,0,0,0,0,0,0,0,0,0,0,0,0,0,0,0,0,0,0,0,0,0,0,0,0,0,0,0,0,0,0,0,0,0,0,0,0,0,0,0,0,0,0,0,0,0,0,0,0,0,0,0,0,0,0,0,0,0,0,0,0,0,0,0,0,0,0,0,0,0,0,0,0,0,0,0,0,0,0,0,0,0,0,0,0,0,0,0,0,0,0,0,0,0,0,0,0,0,0,0,0,0,0,0,0,0,0,0,0,0,0,0,0,0,0,0,0,0,0,0,0,0,0,0,0,0,0,0,0,0,0,0,0,0,0,0,0,0,0,0,0,0,0,0,0,0,0,0,0,0,0,0,0,0,0,0,0,0,0,0,0,0,0,0,0,0,0,0,0,0,0,0,0,0,0,0,0,0,0,0,0,0,0,0,0,0,0,0,0,0,0,0,0,0,0,0,0,0,0,0,0,0,0,0,0,0,0,0,0,0,0,0,0,0,0,0,0,0,0,0,0,0,0,0,0,0,0,0,0,0,0,0,0,0,0,0,0,0,0,0,0,0,0,0,0,0,0,0,0,0,0,0,0,0,0,0,0,0,0,0,0,0,0,0,0,0,0,0,0,0,0,0,0,0,0,0,0,0,0,0,0,0,0,0,0,0,0,0,0,0,0,0,0,0,0,0,0,0,0,0,0,0,0,0,0,0,0,0,0,0,0,0,0,0,0,0,0,0,0,0,0,0,0,0,0,0,0,0,0,0,0,0,0,0,0,0,0,0,0,0,0,0,0,0,0,0,0,0,0,0,0,0,0,0,0,0,0,0,0,0,0,0,0,0,0,0,0,0,0,0,0,0,0,0,0,0,0,0,0,0,0,0,0,0,0,0,0,0,0,0,0,0,0,0,0,0,0,0,0,0,0,0,0,0,0,0,0,0,0,0,0,0,0,0,0,0,0,0,0,0,0,0,0,0,0,0,0,0,0,0,0,0,0,0,0,0,0,0,0,0,0,0,0,0,0,0,0,0,0,0,0,0,0,0,0,0,0,0,0,0,0,0,0,0,0,0,0,0,0,0,0,0,0,0,0,0,0,0,0,0,0,0,0,0,0,0,0,0,0,0,0,0,0,0,0,0,0,0,0,0,0,0,0,0,0,0,0,0,0,0,0,0,0,0,0,0,0,0,0,0,0,0,0,0,0,0,0,0,0,0,0,0,0,0,0,0,0,0,0,0,0,0,0,0,0,0,0,0,0,0,0,0,0,0,0,0,0,0,0,0,0,0,0,0,0,0,0,0,0,0,0,0,0,0,0,0,0,0,0,0,0,0,0,0,0,0,0,0,0,0,0,0,0,0,0,0,0,0,0,0,0,0,0,0,0,0,0,0,0,0,0,0,0,0,0,0,0,0,0,0,0,0,0,0,0,0,0,0,0,0,0,0,0,0,0,0,0,0,0,0,0,0,0,0,0,0,0,0,0,0,0,0,0,0,0,0,0,0,0,0,0,0,0,0,0,0,0,0,0,0,0,0,0,0,0,0,0,0,0,0,0,0,0,0,0,0,0,0,0,0,0,0,0,0,0,0,0,0,0,0,0,0,0,0,0,0,0,0,0,0,0,0,0,0,0,0,0,0,0,0,0,0,0,0,0,0,0,0,0,0,0,0,0,0,0,0,0,0,0,0,0,0,0,0,0,0,0,0,0,0,0,0,0,0,0,0,0,0,0,0,0,0,0,0,0,0,0,0,0,0,0,0,0,0,0,0,0,0,0,0,0,0,0,0,0,0,0,0,0,0,0,0,0,0,0,0,0,0,0,0,0,0,0,0,0,0,0,0,0,0,0,0,0,0,0,0,0,0,0,0,0,0,0,0,0,0,0,0,0,0,0,0,0,0,0,0,0,0,0,0,0,0,0,0,0,0,0,0,0,0,0,0,0,0,0,0,0,0,0,0,0,0,0,0,0,0,0,0,0,0,0,0,0,0,0,0,0,0,0,0,0,0,0,0,0,0,0,0,0,0,0,0,0,0,0,0,0,0,0,0,0,0,0,0,0,0,0,0,0,0,0,0,0,0,0,0,0,0,0,0,0,0,0,0,0,0,0,0,0,0,0,0,0,0,0,0,0,0,0,0,0,0,0,0,0,0,0,0,0,0,0,0,0,0,0,0,0,0,0,0,0,0,0,0,0,0,0,0,0,0,0,0,0,0,0,0,0,0,0,0,0,0,0,0,0,0,0,0,0,0,0,0,0,0,0,0,0,0,0,0,0,0,0,0,0,0,0,0,0,0,0,0,0,0,0,0,0,0,0,0,0,0,0,0,0,0,0,0,0,0,0,0,0,0,0,0,0,0,0,0,0,0,0,0,0,0,0,0,0,0,0,0,0,0,0,0,0,0,0,0,0,0,0,0,0,0,0,0,0,0,0,0,0,0,0,0,0,0,0,0,0,0,0,0,0,0,0,0,0,0,0,0,0,0,0,0,0,0,0,0,0,0,0,0,0,0,0,0,0,0,0,0,0,0,0,0,0,0,0,0,0,0,0,0,0,0,0,0,0,0,0,0,0,0,0,0,0,0,0,0,0,0,0,0,0,0,0,0,0,0,0,0,0,0,0,0,0,0,0,0,0,0,0,0,0,0,0,0,0,0,0,0,0,0,0,0,0,0,0,0,0,0,0,0,0,0,0,0,0,0,0,0,0,0,0,0,0,0,0,0,0,0,0,0,0,0,0,0,0,0,0,0,0,0,0,0,0,0,0,0,0,0,0,0,0,0,0,0,0,0,0,0,0,0,0,0,0,0,0,0,0,0,0,0,0,0,0,0,0,0,0,0,0,0,0,0,0,0,0,0,0,0,0,0,0,0,0,0,0,0,0,0,0,0,0,0,0,0,0,0,0,0,0,0,0,0,0,0,0,0,0,0,0,0,0,0,0,0,0,0,0,0,0,0,0,0,0,0,0,0,0,0,0,0,0,0,0,0,0,0,0,0,0,0,0,0,0,0,0,0,0,0,0,0,0,0,0,0,0,0,0,0,0,0,0,0,0,0,0,0,0,0,0,0,0,0,0,0,0,0,0,0,0,0,0,0,0,0,0,0,0,0,0,0,0,0,0,0,0,0,0,0,0,0,0,0,0,0,0,0,0,0,0,0,0,0,0,0,0,0,0,0,0,0,0,0,0,0,0,0,0,0,0,0,0,0,0,0,0,0,0,0,0,0,0,0,0,0,0,0,0,0,0,0,0,0,0,0,0,0,0,0,0,0,0,0,0,0,0,0,0,0,0,0,0,0,0,0,0,0,0,0,0,0,0,0,0,0,0,0,0,0,0,0,0,0,0,0,0,0,0,0,0,0,0,0,0,0,0,0,0,0,0,0,0,0,0,0,0,0,0,0,0,0,0,0,0,0,0,0,0,0,0,0,0,0,0,0,0,0,0,0,0,0,0,0,0,0,0,0,0,0,0,0,0,0,0,0,0,0,0,0,0,0,0,0,0,0,0,0,0,0,0,0,0,0,0,0,0,0,0,0,0,0,0,0,0,0,0,0,0,0,0,0,0,0,0,0,0,0,0,0,0,0,0,0,0,0,0,0,0,0,0,0,0,0,0,0,0,0,0,0,0,0,0,0,0,0,0,0,0,0,0,0,0,0,0,0,0,0,0,0,0,0,0,0,0,0,0,0,0,0,0,0,0,0,0,0,0,0,0,0,0,0,0,0,0,0,0,0,0,0,0,0,0,0,0,0,0,0,0,0,0,0,0,0,0,0,0,0,0,0,0,0,0,0,0,0,0,0,0,0,0,0,0,0,0,0,0,0,0,0,0,0,0,0,0,0,0,0,0,0,0,0,0,0,0,0,0,0,0,0,0,0,0,0,0,0,0,0,0,0,0,0,0,0,0,0,0,0,0,0,0,0,0,0,0,0,0,0,0,0,0,0,0,0,0,0,0,0,0,0,0,0,0,0,0,0,0,0,0,0,0,0,0,0,0,0,0,0,0,0,0,0,0,0,0,0,0,0,0,0,0,0,0,0,0,0,0,0,0,0,0,0]},{\"_typename\":\"TLatex\",\"fUniqueID\":0,\"fBits\":50348040,\"fName\":\"\",\"fTitle\":\": PU200, TkEle EE, hwQual 5, 1.52 < |#eta^{GEN}| <= 2.4\",\"fTextAngle\":0,\"fTextSize\":0.03,\"fTextAlign\":11,\"fTextColor\":1,\"fTextFont\":62,\"fX\":0.15,\"fY\":0.85,\"fLineColor\":1,\"fLineStyle\":1,\"fLineWidth\":2,\"fLimitFactorSize\":3,\"fOriginSize\":0.04},{\"_typename\":\"TLatex\",\"fUniqueID\":0,\"fBits\":50331656,\"fName\":\"\",\"fTitle\":\"\",\"fTextAngle\":0,\"fTextSize\":0.03,\"fTextAlign\":11,\"fTextColor\":1,\"fTextFont\":62,\"fX\":0,\"fY\":0,\"fLineColor\":1,\"fLineStyle\":1,\"fLineWidth\":2,\"fLimitFactorSize\":3,\"fOriginSize\":0.04},{\"_typename\":\"TProfile\",\"fUniqueID\":0,\"fBits\":50332168,\"fName\":\"569cbc_prof_1\",\"fTitle\":\"\",\"fLineColor\":2,\"fLineStyle\":1,\"fLineWidth\":1,\"fFillColor\":0,\"fFillStyle\":1001,\"fMarkerColor\":2,\"fMarkerStyle\":1,\"fMarkerSize\":1,\"fNcells\":52,\"fXaxis\":{\"_typename\":\"TAxis\",\"fUniqueID\":0,\"fBits\":50331648,\"fName\":\"xaxis\",\"fTitle\":\" p_{T}^{GEN} [GeV]\",\"fNdivisions\":510,\"fAxisColor\":1,\"fLabelColor\":1,\"fLabelFont\":42,\"fLabelOffset\":0.005,\"fLabelSize\":0.035,\"fTickLength\":0.03,\"fTitleOffset\":1,\"fTitleSize\":0.035,\"fTitleColor\":1,\"fTitleFont\":42,\"fNbins\":50,\"fXmin\":0,\"fXmax\":100,\"fXbins\":[],\"fFirst\":0,\"fLast\":0,\"fBits2\":0,\"fTimeDisplay\":false,\"fTimeFormat\":\"\",\"fLabels\":null,\"fModLabs\":null},\"fYaxis\":{\"_typename\":\"TAxis\",\"fUniqueID\":0,\"fBits\":50331648,\"fName\":\"yaxis\",\"fTitle\":\"\",\"fNdivisions\":510,\"fAxisColor\":1,\"fLabelColor\":1,\"fLabelFont\":42,\"fLabelOffset\":0.005,\"fLabelSize\":0.035,\"fTickLength\":0.03,\"fTitleOffset\":0,\"fTitleSize\":0.035,\"fTitleColor\":1,\"fTitleFont\":42,\"fNbins\":1,\"fXmin\":0,\"fXmax\":1,\"fXbins\":[],\"fFirst\":0,\"fLast\":0,\"fBits2\":0,\"fTimeDisplay\":false,\"fTimeFormat\":\"\",\"fLabels\":null,\"fModLabs\":null},\"fZaxis\":{\"_typename\":\"TAxis\",\"fUniqueID\":0,\"fBits\":50331648,\"fName\":\"zaxis\",\"fTitle\":\"\",\"fNdivisions\":510,\"fAxisColor\":1,\"fLabelColor\":1,\"fLabelFont\":42,\"fLabelOffset\":0.005,\"fLabelSize\":0.035,\"fTickLength\":0.03,\"fTitleOffset\":1,\"fTitleSize\":0.035,\"fTitleColor\":1,\"fTitleFont\":42,\"fNbins\":1,\"fXmin\":0,\"fXmax\":1,\"fXbins\":[],\"fFirst\":0,\"fLast\":0,\"fBits2\":0,\"fTimeDisplay\":false,\"fTimeFormat\":\"\",\"fLabels\":null,\"fModLabs\":null},\"fBarOffset\":0,\"fBarWidth\":1000,\"fEntries\":71254,\"fTsumw\":71254,\"fTsumw2\":71254,\"fTsumwx\":4244916,\"fTsumwx2\":294515406,\"fMaximum\":-1111,\"fMinimum\":-1111,\"fNormFactor\":0,\"fContour\":[],\"fSumw2\":[0,0,0,0,0,8.9208,399.989025,752.978475,906.635925,1007.223075,1148.360625,1261.4994,1342.268325,1328.806575,1385.42985,1490.967,1638.513,1590.97995,1630.54125,1533.923325,1558.9926,1672.491375,1619.946675,1665.4959,1742.025375,1725.376275,1604.720925,1732.587525,1734.2757,1754.789625,1781.48835,1784.290275,1750.9356,1791.495225,1771.447725,1796.26635,1868.639625,1886.00625,1901.89035,1717.179525,1869.811425,1854.43875,1842.828525,1860.617925,1745.629425,1766.763675,1788.707925,1930.17195,1801.5174,1821.70575,1808.06535,0],\"fOption\":\"\",\"fFunctions\":{\"_typename\":\"TList\",\"name\":\"TList\",\"arr\":[],\"opt\":[]},\"fBufferSize\":0,\"fBuffer\":[],\"fBinStatErrOpt\":0,\"fStatOverflows\":2,\"fArray\":[0,0,0,0,0,8.31,331.665,659.205,838.875,956.955,1097.145,1217.73,1303.875,1298.835,1356.27,1471.23,1620.51,1576.98,1615.56,1521.825,1547.01,1656.135,1611.855,1647.15,1734.375,1712.925,1598.025,1718.235,1727.13,1743.105,1771.05,1778.985,1737.93,1781.565,1762.305,1790.4,1857.105,1874.07,1895.25,1711.245,1854.765,1840.62,1834.035,1847.295,1739.715,1755.645,1778.985,1918.2,1792.14,1806.12,1794.27,0],\"fBinEntries\":[0,0,0,0,0,8,281,587,789,923,1065,1192,1285,1287,1346,1472,1624,1582,1618,1525,1552,1655,1619,1644,1743,1715,1605,1717,1732,1745,1774,1787,1736,1785,1765,1798,1857,1874,1902,1717,1849,1838,1837,1845,1745,1755,1781,1918,1792,1798,1790,0],\"fErrorMode\":1,\"fYmin\":0,\"fYmax\":0,\"fTsumwy\":71492.61,\"fTsumwy2\":72377.63595,\"fBinSumw2\":[0,0,0,0,0,8,281,587,789,923,1065,1192,1285,1287,1346,1472,1624,1582,1618,1525,1552,1655,1619,1644,1743,1715,1605,1717,1732,1745,1774,1787,1736,1785,1765,1798,1857,1874,1902,1717,1849,1838,1837,1845,1745,1755,1781,1918,1792,1798,1790,0]}],\"opt\":[\"\",\"COLZ\",\"same\",\"same\",\"same\"]},\"fExecs\":{\"_typename\":\"TList\",\"name\":\"TList\",\"arr\":[],\"opt\":[]},\"fName\":\"c_639528_1\",\"fTitle\":\"c_639528_1\",\"fNumPaletteColor\":0,\"fNextPaletteColor\":0},{\"_typename\":\"TPad\",\"fUniqueID\":0,\"fBits\":50331657,\"fLineColor\":1,\"fLineStyle\":1,\"fLineWidth\":1,\"fFillColor\":0,\"fFillStyle\":1001,\"fLeftMargin\":0.13,\"fRightMargin\":0.13,\"fBottomMargin\":0.13,\"fTopMargin\":0.1,\"fXfile\":2,\"fYfile\":2,\"fAfile\":1,\"fXstat\":0.99,\"fYstat\":0.99,\"fAstat\":2,\"fFrameFillColor\":0,\"fFrameLineColor\":1,\"fFrameFillStyle\":1001,\"fFrameLineStyle\":1,\"fFrameLineWidth\":1,\"fFrameBorderSize\":1,\"fFrameBorderMode\":0,\"fX1\":0,\"fY1\":0,\"fX2\":1,\"fY2\":1,\"fXtoAbsPixelk\":507.960049777377,\"fXtoPixelk\":5e-5,\"fXtoPixel\":478.080000445247,\"fYtoAbsPixelk\":467.2800501055,\"fYtoPixelk\":462.560050211,\"fYtoPixel\":-462.560000211,\"fUtoAbsPixelk\":507.960049777377,\"fUtoPixelk\":5e-5,\"fUtoPixel\":478.080000445247,\"fVtoAbsPixelk\":467.2800501055,\"fVtoPixelk\":462.560000211,\"fVtoPixel\":-462.560000211,\"fAbsPixeltoXk\":-1.06249999854481,\"fPixeltoXk\":0,\"fPixeltoX\":0.00209170013192076,\"fAbsPixeltoYk\":1.01020408139992,\"fPixeltoYk\":0,\"fPixeltoY\":-0.00216188170084712,\"fXlowNDC\":0.509999999776483,\"fYlowNDC\":0.00999999977648258,\"fXUpNDC\":0,\"fYUpNDC\":0,\"fWNDC\":0.480000000447035,\"fHNDC\":0.980000000447035,\"fAbsXlowNDC\":0.509999999776483,\"fAbsYlowNDC\":0.00999999977648258,\"fAbsWNDC\":0.480000000447035,\"fAbsHNDC\":0.980000000447035,\"fUxmin\":0,\"fUymin\":0,\"fUxmax\":1,\"fUymax\":1,\"fTheta\":30,\"fPhi\":30,\"fAspectRatio\":0,\"fNumber\":2,\"fTickx\":0,\"fTicky\":0,\"fLogx\":0,\"fLogy\":0,\"fLogz\":0,\"fPadPaint\":0,\"fCrosshair\":0,\"fCrosshairPos\":0,\"fBorderSize\":2,\"fBorderMode\":0,\"fModified\":false,\"fGridx\":false,\"fGridy\":false,\"fAbsCoord\":false,\"fEditable\":true,\"fFixedAspectRatio\":false,\"fPrimitives\":{\"_typename\":\"TList\",\"name\":\"TList\",\"arr\":[],\"opt\":[]},\"fExecs\":{\"_typename\":\"TList\",\"name\":\"TList\",\"arr\":[],\"opt\":[]},\"fName\":\"c_639528_2\",\"fTitle\":\"c_639528_2\",\"fNumPaletteColor\":0,\"fNextPaletteColor\":0}],\"opt\":[\"\",\"\"]},\"fExecs\":null,\"fName\":\"c_639528\",\"fTitle\":\"c_639528\",\"fNumPaletteColor\":0,\"fNextPaletteColor\":0,\"fDISPLAY\":\"$DISPLAY\",\"fDoubleBuffer\":0,\"fRetained\":true,\"fXsizeUser\":0,\"fYsizeUser\":0,\"fXsizeReal\":20,\"fYsizeReal\":10,\"fWindowTopX\":0,\"fWindowTopY\":0,\"fWindowWidth\":0,\"fWindowHeight\":0,\"fCw\":996,\"fCh\":472,\"fCatt\":{\"_typename\":\"TAttCanvas\",\"fXBetween\":2,\"fYBetween\":2,\"fTitleFromTop\":1.2,\"fXdate\":0.2,\"fYdate\":0.3,\"fAdate\":1},\"kMoveOpaque\":true,\"kResizeOpaque\":true,\"fHighLightColor\":2,\"fBatch\":true,\"kShowEventStatus\":false,\"kAutoExec\":true,\"kMenuBar\":true});\n",
       "       Core.draw(\"root_plot_1\", obj, \"\");\n",
       "     }\n",
       " );\n",
       "</script>\n"
      ],
      "text/plain": [
       "<IPython.core.display.HTML object>"
      ]
     },
     "metadata": {},
     "output_type": "display_data"
    }
   ],
   "source": [
    "hsets, labels, text = hplot.get_histo(histos.EGResoHistos, ['dele-V11', 'dele-V10'], ['PU200'], 'tkEleEE', ['EGq5'], ['GENEtaBC'])            \n",
    "draw([his.h_ptRespVpt for his in hsets], labels, options=\"COLZ\", do_profile=True, text=text)\n"
   ]
  },
  {
   "cell_type": "code",
   "execution_count": null,
   "metadata": {},
   "outputs": [],
   "source": [
    "hsets, labels, text = hplot.get_histo(histos.EGResoHistos, ['dele-V11', 'dele-V10'], ['PU200'], 'EG', ['EGq5'], ['GENEtaBC'])            \n",
    "draw([his.h_ptRespVpt.ProjectionY(uuid.uuid4().hex[:6]+'_y', 5, 7) for his in hsets], \n",
    "     labels, options=\"hist\", do_profile=False, text=text+' 10<p_{T}^{GEN}<15GeV')\n"
   ]
  },
  {
   "cell_type": "code",
   "execution_count": null,
   "metadata": {},
   "outputs": [],
   "source": [
    "hsets, labels, text = hplot.get_histo(histos.EGResoHistos, ['dele-V11', 'dele-V10'], ['PU200'], 'tkEleEE', ['EGq5'], ['GENEtaBC'])   \n",
    "# text_forprint = 'EG endcap, 1.52 < |#eta^{GEN}| #leq 2.4, p_{T}^{GEN} #geq 15GeV'\n",
    "labels_forprint = ['ext. ', 'no ext.']\n",
    "legend_position = (0.55, 0.7, 0.8, 0.8)\n",
    "c1 = draw([his.h_ptRes for his in hsets], labels, y_axis_label='a.u.', \n",
    "          norm=True, text=text, options='hist', legend_position=legend_position,\n",
    "          do_write=False, write_name='figs/egammaEndcap_EG_hwqual5_EtaBC_ptRes')\n"
   ]
  },
  {
   "cell_type": "code",
   "execution_count": null,
   "metadata": {},
   "outputs": [],
   "source": [
    "hsets, labels, text = hplot.get_histo(histos.EGResoHistos, ['dele-V11'], ['PU200'], 'tkEleEE', ['EGq5'], ['GENEtaBC'])   \n",
    "# text_forprint = 'EG endcap, 1.52 < |#eta^{GEN}| #leq 2.4, p_{T}^{GEN} #geq 15GeV'\n",
    "labels_forprint = ['ext. ', 'no ext.']\n",
    "legend_position = (0.55, 0.7, 0.8, 0.8)\n",
    "c1 = draw([his.h_ptRes for his in hsets], labels, y_axis_label='a.u.', \n",
    "          norm=True, text=text, options='hist', legend_position=legend_position,\n",
    "          do_write=False, write_name='figs/egammaEndcap_EG_hwqual5_EtaBC_ptRes')\n"
   ]
  },
  {
   "cell_type": "code",
   "execution_count": null,
   "metadata": {},
   "outputs": [],
   "source": [
    "hsets, labels, text = hplot.get_histo(histos.EGResoHistos, sample, ['PU200'], 'EG', ['EGq5', 'EGq4'], ['GENEtaBCPt15'])   \n",
    "text_forprint = 'EG endcap, 1.52 < |#eta^{GEN}| #leq 2.4, p_{T}^{GEN} #geq 15GeV'\n",
    "labels_forprint = ['w/o brem. recovery', 'w brem. recovery']\n",
    "legend_position = (0.55, 0.7, 0.8, 0.8)\n",
    "c1 = draw([his.h_ptRes for his in hsets], labels_forprint, y_axis_label='a.u.', \n",
    "          norm=True, text=text_forprint, options='hist', legend_position=legend_position,\n",
    "          do_write=True, write_name='figs/egammaEndcap_EG_hwqual5_EtaBC_ptRes')\n"
   ]
  },
  {
   "cell_type": "code",
   "execution_count": null,
   "metadata": {},
   "outputs": [],
   "source": [
    "hsets, labels, text = hplot.get_histo(histos.EGResoHistos, sample, ['PU200'], 'EG', ['EGq5', 'EGq4'], ['GENEtaDPt15'])   \n",
    "text_forprint = 'EG endcap, 2.4 < |#eta^{GEN}| #leq 2.8, p_{T}^{GEN} #geq 15GeV'\n",
    "labels_forprint = ['w/o brem. recovery', 'w brem. recovery']\n",
    "legend_position = (0.55, 0.7, 0.8, 0.8)\n",
    "c1 = draw([his.h_ptRes for his in hsets], labels_forprint, y_axis_label='a.u.', \n",
    "          norm=True, text=text_forprint, options='hist',  legend_position=legend_position,\n",
    "          do_write=True, write_name='figs/egammaEndcap_EG_hwqual5_EtaD_ptRes')\n"
   ]
  },
  {
   "cell_type": "code",
   "execution_count": 18,
   "metadata": {},
   "outputs": [
    {
     "data": {
      "text/html": [
       "\n",
       "<div id=\"root_plot_6\"\n",
       "     style=\"width: 796px; height: 572px\">\n",
       "</div>\n",
       "\n",
       "<script>\n",
       " requirejs.config({\n",
       "     paths: {\n",
       "       'JSRootCore' : 'https://root.cern.ch/js/notebook//scripts/JSRootCore',\n",
       "     }\n",
       "   });\n",
       " require(['JSRootCore'],\n",
       "     function(Core) {\n",
       "       var obj = Core.JSONR_unref({\"_typename\":\"TCanvas\",\"fUniqueID\":0,\"fBits\":53673992,\"fLineColor\":1,\"fLineStyle\":1,\"fLineWidth\":1,\"fFillColor\":0,\"fFillStyle\":1001,\"fLeftMargin\":0.13,\"fRightMargin\":0.3,\"fBottomMargin\":0.13,\"fTopMargin\":0.1,\"fXfile\":2,\"fYfile\":2,\"fAfile\":1,\"fXstat\":0.99,\"fYstat\":0.99,\"fAstat\":2,\"fFrameFillColor\":0,\"fFrameLineColor\":1,\"fFrameFillStyle\":1001,\"fFrameLineStyle\":1,\"fFrameLineWidth\":1,\"fFrameBorderSize\":1,\"fFrameBorderMode\":0,\"fX1\":-0.458421041569221,\"fY1\":-0.03843396306712,\"fX2\":3.0678947921539,\"fY2\":0.257211910915983,\"fXtoAbsPixelk\":103.480046204376,\"fXtoPixelk\":103.480046204376,\"fXtoPixel\":225.731340451027,\"fYtoAbsPixelk\":497.640051065433,\"fYtoPixelk\":497.640051065433,\"fYtoPixel\":-1934.7471090792,\"fUtoAbsPixelk\":5e-5,\"fUtoPixelk\":5e-5,\"fUtoPixel\":796,\"fVtoAbsPixelk\":572.00005,\"fVtoPixelk\":572,\"fVtoPixel\":-572,\"fAbsPixeltoXk\":-0.458421041569221,\"fPixeltoXk\":-0.458421041569221,\"fPixeltoX\":0.0044300450172401,\"fAbsPixeltoYk\":0.257211910915983,\"fPixeltoYk\":-0.03843396306712,\"fPixeltoY\":-5.16863416054375e-4,\"fXlowNDC\":0,\"fYlowNDC\":0,\"fXUpNDC\":0,\"fYUpNDC\":0,\"fWNDC\":1,\"fHNDC\":1,\"fAbsXlowNDC\":0,\"fAbsYlowNDC\":0,\"fAbsWNDC\":1,\"fAbsHNDC\":1,\"fUxmin\":0,\"fUymin\":0,\"fUxmax\":2.01,\"fUymax\":0.227647322416306,\"fTheta\":30,\"fPhi\":30,\"fAspectRatio\":0,\"fNumber\":0,\"fTickx\":0,\"fTicky\":0,\"fLogx\":0,\"fLogy\":0,\"fLogz\":0,\"fPadPaint\":0,\"fCrosshair\":0,\"fCrosshairPos\":0,\"fBorderSize\":2,\"fBorderMode\":0,\"fModified\":false,\"fGridx\":false,\"fGridy\":false,\"fAbsCoord\":false,\"fEditable\":true,\"fFixedAspectRatio\":false,\"fPrimitives\":{\"_typename\":\"TList\",\"name\":\"TList\",\"arr\":[{\"_typename\":\"TFrame\",\"fUniqueID\":0,\"fBits\":50331656,\"fLineColor\":1,\"fLineStyle\":1,\"fLineWidth\":1,\"fFillColor\":0,\"fFillStyle\":1001,\"fX1\":0,\"fY1\":0,\"fX2\":2.01,\"fY2\":0.227647322416306,\"fBorderSize\":1,\"fBorderMode\":0},{\"_typename\":\"TH1F\",\"fUniqueID\":0,\"fBits\":50332169,\"fName\":\"d9823b\",\"fTitle\":\"\",\"fLineColor\":1,\"fLineStyle\":1,\"fLineWidth\":1,\"fFillColor\":0,\"fFillStyle\":1001,\"fMarkerColor\":1,\"fMarkerStyle\":1,\"fMarkerSize\":1,\"fNcells\":102,\"fXaxis\":{\"_typename\":\"TAxis\",\"fUniqueID\":0,\"fBits\":50333704,\"fName\":\"xaxis\",\"fTitle\":\" p_{T}^{L1}\\/p_{T}^{GEN}\",\"fNdivisions\":510,\"fAxisColor\":1,\"fLabelColor\":1,\"fLabelFont\":42,\"fLabelOffset\":0.005,\"fLabelSize\":0.035,\"fTickLength\":0.03,\"fTitleOffset\":1.4,\"fTitleSize\":0.035,\"fTitleColor\":1,\"fTitleFont\":42,\"fNbins\":100,\"fXmin\":0,\"fXmax\":3,\"fXbins\":[],\"fFirst\":1,\"fLast\":67,\"fBits2\":0,\"fTimeDisplay\":false,\"fTimeFormat\":\"\",\"fLabels\":null,\"fModLabs\":null},\"fYaxis\":{\"_typename\":\"TAxis\",\"fUniqueID\":0,\"fBits\":50331656,\"fName\":\"yaxis\",\"fTitle\":\"a.u.\",\"fNdivisions\":510,\"fAxisColor\":1,\"fLabelColor\":1,\"fLabelFont\":42,\"fLabelOffset\":0.005,\"fLabelSize\":0.035,\"fTickLength\":0.03,\"fTitleOffset\":0,\"fTitleSize\":0.035,\"fTitleColor\":1,\"fTitleFont\":42,\"fNbins\":1,\"fXmin\":0,\"fXmax\":1,\"fXbins\":[],\"fFirst\":0,\"fLast\":0,\"fBits2\":0,\"fTimeDisplay\":false,\"fTimeFormat\":\"\",\"fLabels\":null,\"fModLabs\":null},\"fZaxis\":{\"_typename\":\"TAxis\",\"fUniqueID\":0,\"fBits\":50331648,\"fName\":\"zaxis\",\"fTitle\":\"\",\"fNdivisions\":510,\"fAxisColor\":1,\"fLabelColor\":1,\"fLabelFont\":42,\"fLabelOffset\":0.005,\"fLabelSize\":0.035,\"fTickLength\":0.03,\"fTitleOffset\":1,\"fTitleSize\":0.035,\"fTitleColor\":1,\"fTitleFont\":42,\"fNbins\":1,\"fXmin\":0,\"fXmax\":1,\"fXbins\":[],\"fFirst\":0,\"fLast\":0,\"fBits2\":0,\"fTimeDisplay\":false,\"fTimeFormat\":\"\",\"fLabels\":null,\"fModLabs\":null},\"fBarOffset\":0,\"fBarWidth\":1000,\"fEntries\":89243,\"fTsumw\":89242,\"fTsumw2\":89242,\"fTsumwx\":88725.2373508513,\"fTsumwx2\":89383.2175482149,\"fMaximum\":0.227647322416306,\"fMinimum\":0,\"fNormFactor\":0,\"fContour\":[],\"fSumw2\":[0,0,0,2.51125842227796e-10,3.76688763341694e-10,1.25562921113898e-10,7.53377526683388e-10,7.53377526683388e-10,5.02251684455592e-10,1.38119213225288e-9,1.25562921113898e-9,2.13456965893626e-9,2.88794718561965e-9,4.39470223898643e-9,6.65483481903659e-9,8.03602695128947e-9,1.16773516635925e-8,1.481642469144e-8,1.74532460348318e-8,2.13456965893626e-8,2.83772201717409e-8,3.49064920696636e-8,4.5579340364345e-8,5.38664931578622e-8,7.04407987448967e-8,8.55083492785645e-8,1.02961595313396e-7,1.34101199749643e-7,1.70012195188218e-7,2.36811669220812e-7,3.514506161978e-7,5.46449832687684e-7,8.96519256753231e-7,1.51516776908141e-6,2.1123450218991e-6,2.02093521532819e-6,1.26805994032926e-6,6.4426334823541e-7,3.11144918520239e-7,1.71895639004926e-7,9.26654357820567e-8,5.22341751833815e-8,3.89245055453084e-8,2.78749684872853e-8,2.03411932204515e-8,1.63231797448067e-8,1.39374842436427e-8,9.29165616242845e-9,7.03152358237828e-9,5.39920560789761e-9,5.27364268678371e-9,3.64132471230304e-9,3.26463594896135e-9,2.26013258005016e-9,1.88344381670847e-9,2.13456965893626e-9,1.25562921113898e-9,1.63231797448067e-9,6.2781460556949e-10,5.02251684455592e-10,5.02251684455592e-10,6.2781460556949e-10,2.51125842227796e-10,2.51125842227796e-10,3.76688763341694e-10,2.51125842227796e-10,0,1.25562921113898e-10,1.25562921113898e-10,0,1.25562921113898e-10,1.25562921113898e-10,0,0,0,0,0,0,0,0,0,1.25562921113898e-10,0,0,0,0,1.25562921113898e-10,0,0,1.25562921113898e-10,0,0,1.25562921113898e-10,0,0,0,1.25562921113898e-10,0,0,0,0,1.25562921113898e-10],\"fOption\":\"\",\"fFunctions\":{\"_typename\":\"TList\",\"name\":\"TList\",\"arr\":[],\"opt\":[]},\"fBufferSize\":0,\"fBuffer\":[],\"fBinStatErrOpt\":0,\"fStatOverflows\":2,\"fArray\":[0,0,0,2.241097e-5,3.361646e-5,1.120549e-5,6.723292e-5,6.723292e-5,4.482194e-5,1.232604e-4,1.120549e-4,1.904933e-4,2.577262e-4,3.92192e-4,5.938908e-4,7.171511e-4,0.00104211,0.001322247,0.001557563,0.001904933,0.00253244,0.003115125,0.004067591,0.004807154,0.006286278,0.007630936,0.009188498,0.01196746,0.01517223,0.02113355,0.03136415,0.04876628,0.08000717,0.1352166,0.1885099,0.1803523,0.1131642,0.05749535,0.02776719,0.01534031,0.008269649,0.004661482,0.003473701,0.002487618,0.001815289,0.001456713,0.001243809,8.29206e-4,6.275072e-4,4.818359e-4,4.706304e-4,3.249591e-4,2.913426e-4,2.016988e-4,1.680823e-4,1.904933e-4,1.120549e-4,1.456713e-4,5.602743e-5,4.482194e-5,4.482194e-5,5.602743e-5,2.241097e-5,2.241097e-5,3.361646e-5,2.241097e-5,0,1.120549e-5,1.120549e-5,0,1.120549e-5,1.120549e-5,0,0,0,0,0,0,0,0,0,1.120549e-5,0,0,0,0,1.120549e-5,0,0,1.120549e-5,0,0,1.120549e-5,0,0,0,1.120549e-5,0,0,0,0,1.120549e-5]},{\"_typename\":\"TH1F\",\"fUniqueID\":0,\"fBits\":50332169,\"fName\":\"4ea6bd\",\"fTitle\":\"\",\"fLineColor\":628,\"fLineStyle\":1,\"fLineWidth\":1,\"fFillColor\":0,\"fFillStyle\":1001,\"fMarkerColor\":1,\"fMarkerStyle\":1,\"fMarkerSize\":1,\"fNcells\":102,\"fXaxis\":{\"_typename\":\"TAxis\",\"fUniqueID\":0,\"fBits\":50333704,\"fName\":\"xaxis\",\"fTitle\":\" p_{T}^{L1}\\/p_{T}^{GEN}\",\"fNdivisions\":510,\"fAxisColor\":1,\"fLabelColor\":1,\"fLabelFont\":42,\"fLabelOffset\":0.005,\"fLabelSize\":0.035,\"fTickLength\":0.03,\"fTitleOffset\":1.4,\"fTitleSize\":0.035,\"fTitleColor\":1,\"fTitleFont\":42,\"fNbins\":100,\"fXmin\":0,\"fXmax\":3,\"fXbins\":[],\"fFirst\":1,\"fLast\":67,\"fBits2\":0,\"fTimeDisplay\":false,\"fTimeFormat\":\"\",\"fLabels\":null,\"fModLabs\":null},\"fYaxis\":{\"_typename\":\"TAxis\",\"fUniqueID\":0,\"fBits\":50331656,\"fName\":\"yaxis\",\"fTitle\":\"a.u.\",\"fNdivisions\":510,\"fAxisColor\":1,\"fLabelColor\":1,\"fLabelFont\":42,\"fLabelOffset\":0.005,\"fLabelSize\":0.035,\"fTickLength\":0.03,\"fTitleOffset\":0,\"fTitleSize\":0.035,\"fTitleColor\":1,\"fTitleFont\":42,\"fNbins\":1,\"fXmin\":0,\"fXmax\":1,\"fXbins\":[],\"fFirst\":0,\"fLast\":0,\"fBits2\":0,\"fTimeDisplay\":false,\"fTimeFormat\":\"\",\"fLabels\":null,\"fModLabs\":null},\"fZaxis\":{\"_typename\":\"TAxis\",\"fUniqueID\":0,\"fBits\":50331648,\"fName\":\"zaxis\",\"fTitle\":\"\",\"fNdivisions\":510,\"fAxisColor\":1,\"fLabelColor\":1,\"fLabelFont\":42,\"fLabelOffset\":0.005,\"fLabelSize\":0.035,\"fTickLength\":0.03,\"fTitleOffset\":1,\"fTitleSize\":0.035,\"fTitleColor\":1,\"fTitleFont\":42,\"fNbins\":1,\"fXmin\":0,\"fXmax\":1,\"fXbins\":[],\"fFirst\":0,\"fLast\":0,\"fBits2\":0,\"fTimeDisplay\":false,\"fTimeFormat\":\"\",\"fLabels\":null,\"fModLabs\":null},\"fBarOffset\":0,\"fBarWidth\":1000,\"fEntries\":89044,\"fTsumw\":89043,\"fTsumw2\":89043,\"fTsumwx\":88608.3020022959,\"fTsumwx2\":89301.3184549021,\"fMaximum\":0.227647322416306,\"fMinimum\":0,\"fNormFactor\":0,\"fContour\":[],\"fSumw2\":[0,0,0,0,0,0,0,0,1.26124783197158e-10,1.26124783197158e-9,6.30623915985788e-10,1.76574696476021e-9,2.52249566394315e-9,3.2792443631261e-9,5.67561524387209e-9,7.31523742543514e-9,9.83773308937829e-9,1.3621476585293e-8,1.6017847466039e-8,2.05583396611367e-8,2.78735770865718e-8,3.40536914632325e-8,4.54049219509767e-8,5.25940345932147e-8,6.89902564088452e-8,8.52603534412785e-8,1.01656575256909e-7,1.35205767587353e-7,1.70646831665754e-7,2.36231718928276e-7,3.53149392952041e-7,5.46120311243692e-7,9.02927322908451e-7,1.51942526317616e-6,2.13049983776638e-6,2.02001452768567e-6,1.27663505552163e-6,6.44119267787883e-7,3.13546211028134e-7,1.71781954714529e-7,9.40890882650795e-8,5.38552824251863e-8,3.63239375607814e-8,2.90087001353462e-8,2.16934627099111e-8,1.61439722492362e-8,1.37476013684902e-8,8.95485960699818e-9,6.68461350944935e-9,6.30623915985788e-9,4.03599306230904e-9,3.65761871271757e-9,3.40536914632325e-9,2.14412131435168e-9,2.27024609754884e-9,1.76574696476021e-9,1.63962218156305e-9,1.89187174795736e-9,5.0449913278863e-10,2.52249566394315e-10,3.78374349591473e-10,6.30623915985788e-10,6.30623915985788e-10,0,1.26124783197158e-10,3.78374349591473e-10,1.26124783197158e-10,1.26124783197158e-10,1.26124783197158e-10,1.26124783197158e-10,1.26124783197158e-10,0,0,0,0,0,0,0,0,0,0,0,0,1.26124783197158e-10,0,0,1.26124783197158e-10,0,0,1.26124783197158e-10,0,0,0,1.26124783197158e-10,0,0,0,1.26124783197158e-10,0,0,0,1.26124783197158e-10],\"fOption\":\"\",\"fFunctions\":{\"_typename\":\"TList\",\"name\":\"TList\",\"arr\":[],\"opt\":[]},\"fBufferSize\":0,\"fBuffer\":[],\"fBinStatErrOpt\":0,\"fStatOverflows\":2,\"fArray\":[0,0,0,0,0,0,0,0,1.123053e-5,1.123053e-4,5.615265e-5,1.572274e-4,2.246106e-4,2.919938e-4,5.053738e-4,6.513707e-4,8.759813e-4,0.001212897,0.001426277,0.001830576,0.002481947,0.003032243,0.004042991,0.00468313,0.0061431,0.007591838,0.009051806,0.01203913,0.01519491,0.02103478,0.03144548,0.04862819,0.08039936,0.1352942,0.1897061,0.1798681,0.1136754,0.05735431,0.0279191,0.01529598,0.008377975,0.004795436,0.003234392,0.002583022,0.001931651,0.001437508,0.001224128,7.973675e-4,5.95218e-4,5.615265e-4,3.593769e-4,3.256853e-4,3.032243e-4,1.90919e-4,2.021495e-4,1.572274e-4,1.459969e-4,1.684579e-4,4.492212e-5,2.246106e-5,3.369159e-5,5.615265e-5,5.615265e-5,0,1.123053e-5,3.369159e-5,1.123053e-5,1.123053e-5,1.123053e-5,1.123053e-5,1.123053e-5,0,0,0,0,0,0,0,0,0,0,0,0,1.123053e-5,0,0,1.123053e-5,0,0,1.123053e-5,0,0,0,1.123053e-5,0,0,0,1.123053e-5,0,0,0,1.123053e-5]},{\"_typename\":\"TLegend\",\"fUniqueID\":0,\"fBits\":50331656,\"fLineColor\":1,\"fLineStyle\":1,\"fLineWidth\":1,\"fFillColor\":0,\"fFillStyle\":0,\"fX1\":2.01000004203696,\"fY1\":0.171474607460883,\"fX2\":2.89157900046774,\"fY2\":0.212865029818517,\"fX1NDC\":0.7,\"fY1NDC\":0.71,\"fX2NDC\":0.95,\"fY2NDC\":0.85,\"fBorderSize\":0,\"fInit\":1,\"fShadowColor\":1,\"fCornerRadius\":0,\"fOption\":\"brNDC\",\"fName\":\"TPave\",\"fTextAngle\":0,\"fTextSize\":0.03,\"fTextAlign\":12,\"fTextColor\":1,\"fTextFont\":42,\"fPrimitives\":{\"_typename\":\"TList\",\"name\":\"TList\",\"arr\":[{\"_typename\":\"TLegendEntry\",\"fUniqueID\":0,\"fBits\":50331656,\"fTextAngle\":0,\"fTextSize\":0,\"fTextAlign\":0,\"fTextColor\":0,\"fTextFont\":42,\"fLineColor\":1,\"fLineStyle\":1,\"fLineWidth\":1,\"fFillColor\":0,\"fFillStyle\":0,\"fMarkerColor\":1,\"fMarkerStyle\":21,\"fMarkerSize\":1,\"fObject\":{\"_typename\":\"TH1F\",\"fUniqueID\":0,\"fBits\":50332168,\"fName\":\"d9823b\",\"fTitle\":\"\",\"fLineColor\":1,\"fLineStyle\":1,\"fLineWidth\":1,\"fFillColor\":0,\"fFillStyle\":1001,\"fMarkerColor\":1,\"fMarkerStyle\":1,\"fMarkerSize\":1,\"fNcells\":102,\"fXaxis\":{\"_typename\":\"TAxis\",\"fUniqueID\":0,\"fBits\":50331656,\"fName\":\"xaxis\",\"fTitle\":\" p_{T}^{L1}\\/p_{T}^{GEN}\",\"fNdivisions\":510,\"fAxisColor\":1,\"fLabelColor\":1,\"fLabelFont\":42,\"fLabelOffset\":0.005,\"fLabelSize\":0.035,\"fTickLength\":0.03,\"fTitleOffset\":1,\"fTitleSize\":0.035,\"fTitleColor\":1,\"fTitleFont\":42,\"fNbins\":100,\"fXmin\":0,\"fXmax\":3,\"fXbins\":[],\"fFirst\":0,\"fLast\":0,\"fBits2\":0,\"fTimeDisplay\":false,\"fTimeFormat\":\"\",\"fLabels\":null,\"fModLabs\":null},\"fYaxis\":{\"_typename\":\"TAxis\",\"fUniqueID\":0,\"fBits\":50331656,\"fName\":\"yaxis\",\"fTitle\":\"\",\"fNdivisions\":510,\"fAxisColor\":1,\"fLabelColor\":1,\"fLabelFont\":42,\"fLabelOffset\":0.005,\"fLabelSize\":0.035,\"fTickLength\":0.03,\"fTitleOffset\":0,\"fTitleSize\":0.035,\"fTitleColor\":1,\"fTitleFont\":42,\"fNbins\":1,\"fXmin\":0,\"fXmax\":1,\"fXbins\":[],\"fFirst\":0,\"fLast\":0,\"fBits2\":0,\"fTimeDisplay\":false,\"fTimeFormat\":\"\",\"fLabels\":null,\"fModLabs\":null},\"fZaxis\":{\"_typename\":\"TAxis\",\"fUniqueID\":0,\"fBits\":50331648,\"fName\":\"zaxis\",\"fTitle\":\"\",\"fNdivisions\":510,\"fAxisColor\":1,\"fLabelColor\":1,\"fLabelFont\":42,\"fLabelOffset\":0.005,\"fLabelSize\":0.035,\"fTickLength\":0.03,\"fTitleOffset\":1,\"fTitleSize\":0.035,\"fTitleColor\":1,\"fTitleFont\":42,\"fNbins\":1,\"fXmin\":0,\"fXmax\":1,\"fXbins\":[],\"fFirst\":0,\"fLast\":0,\"fBits2\":0,\"fTimeDisplay\":false,\"fTimeFormat\":\"\",\"fLabels\":null,\"fModLabs\":null},\"fBarOffset\":0,\"fBarWidth\":1000,\"fEntries\":89243,\"fTsumw\":89242,\"fTsumw2\":89242,\"fTsumwx\":88725.2373508513,\"fTsumwx2\":89383.2175482149,\"fMaximum\":-1111,\"fMinimum\":-1111,\"fNormFactor\":0,\"fContour\":[],\"fSumw2\":[0,0,0,2,3,1,6,6,4,11,10,17,23,35,53,64,93,118,139,170,226,278,363,429,561,681,820,1068,1354,1886,2799,4352,7140,12067,16823,16095,10099,5131,2478,1369,738,416,310,222,162,130,111,74,56,43,42,29,26,18,15,17,10,13,5,4,4,5,2,2,3,2,0,1,1,0,1,1,0,0,0,0,0,0,0,0,0,1,0,0,0,0,1,0,0,1,0,0,1,0,0,0,1,0,0,0,0,1],\"fOption\":\"\",\"fFunctions\":{\"_typename\":\"TList\",\"name\":\"TList\",\"arr\":[],\"opt\":[]},\"fBufferSize\":0,\"fBuffer\":[],\"fBinStatErrOpt\":0,\"fStatOverflows\":2,\"fArray\":[0,0,0,2,3,1,6,6,4,11,10,17,23,35,53,64,93,118,139,170,226,278,363,429,561,681,820,1068,1354,1886,2799,4352,7140,12067,16823,16095,10099,5131,2478,1369,738,416,310,222,162,130,111,74,56,43,42,29,26,18,15,17,10,13,5,4,4,5,2,2,3,2,0,1,1,0,1,1,0,0,0,0,0,0,0,0,0,1,0,0,0,0,1,0,0,1,0,0,1,0,0,0,1,0,0,0,0,1]},\"fLabel\":\"EG EE Corr.\",\"fOption\":\"l\"},{\"_typename\":\"TLegendEntry\",\"fUniqueID\":0,\"fBits\":50331656,\"fTextAngle\":0,\"fTextSize\":0,\"fTextAlign\":0,\"fTextColor\":0,\"fTextFont\":42,\"fLineColor\":628,\"fLineStyle\":1,\"fLineWidth\":1,\"fFillColor\":0,\"fFillStyle\":0,\"fMarkerColor\":1,\"fMarkerStyle\":21,\"fMarkerSize\":1,\"fObject\":{\"_typename\":\"TH1F\",\"fUniqueID\":0,\"fBits\":50332168,\"fName\":\"4ea6bd\",\"fTitle\":\"\",\"fLineColor\":628,\"fLineStyle\":1,\"fLineWidth\":1,\"fFillColor\":0,\"fFillStyle\":1001,\"fMarkerColor\":1,\"fMarkerStyle\":1,\"fMarkerSize\":1,\"fNcells\":102,\"fXaxis\":{\"_typename\":\"TAxis\",\"fUniqueID\":0,\"fBits\":50331656,\"fName\":\"xaxis\",\"fTitle\":\" p_{T}^{L1}\\/p_{T}^{GEN}\",\"fNdivisions\":510,\"fAxisColor\":1,\"fLabelColor\":1,\"fLabelFont\":42,\"fLabelOffset\":0.005,\"fLabelSize\":0.035,\"fTickLength\":0.03,\"fTitleOffset\":1,\"fTitleSize\":0.035,\"fTitleColor\":1,\"fTitleFont\":42,\"fNbins\":100,\"fXmin\":0,\"fXmax\":3,\"fXbins\":[],\"fFirst\":0,\"fLast\":0,\"fBits2\":0,\"fTimeDisplay\":false,\"fTimeFormat\":\"\",\"fLabels\":null,\"fModLabs\":null},\"fYaxis\":{\"_typename\":\"TAxis\",\"fUniqueID\":0,\"fBits\":50331656,\"fName\":\"yaxis\",\"fTitle\":\"\",\"fNdivisions\":510,\"fAxisColor\":1,\"fLabelColor\":1,\"fLabelFont\":42,\"fLabelOffset\":0.005,\"fLabelSize\":0.035,\"fTickLength\":0.03,\"fTitleOffset\":0,\"fTitleSize\":0.035,\"fTitleColor\":1,\"fTitleFont\":42,\"fNbins\":1,\"fXmin\":0,\"fXmax\":1,\"fXbins\":[],\"fFirst\":0,\"fLast\":0,\"fBits2\":0,\"fTimeDisplay\":false,\"fTimeFormat\":\"\",\"fLabels\":null,\"fModLabs\":null},\"fZaxis\":{\"_typename\":\"TAxis\",\"fUniqueID\":0,\"fBits\":50331648,\"fName\":\"zaxis\",\"fTitle\":\"\",\"fNdivisions\":510,\"fAxisColor\":1,\"fLabelColor\":1,\"fLabelFont\":42,\"fLabelOffset\":0.005,\"fLabelSize\":0.035,\"fTickLength\":0.03,\"fTitleOffset\":1,\"fTitleSize\":0.035,\"fTitleColor\":1,\"fTitleFont\":42,\"fNbins\":1,\"fXmin\":0,\"fXmax\":1,\"fXbins\":[],\"fFirst\":0,\"fLast\":0,\"fBits2\":0,\"fTimeDisplay\":false,\"fTimeFormat\":\"\",\"fLabels\":null,\"fModLabs\":null},\"fBarOffset\":0,\"fBarWidth\":1000,\"fEntries\":89044,\"fTsumw\":89043,\"fTsumw2\":89043,\"fTsumwx\":88608.3020022959,\"fTsumwx2\":89301.3184549021,\"fMaximum\":-1111,\"fMinimum\":-1111,\"fNormFactor\":0,\"fContour\":[],\"fSumw2\":[0,0,0,0,0,0,0,0,1,10,5,14,20,26,45,58,78,108,127,163,221,270,360,417,547,676,806,1072,1353,1873,2800,4330,7159,12047,16892,16016,10122,5107,2486,1362,746,427,288,230,172,128,109,71,53,50,32,29,27,17,18,14,13,15,4,2,3,5,5,0,1,3,1,1,1,1,1,0,0,0,0,0,0,0,0,0,0,0,0,1,0,0,1,0,0,1,0,0,0,1,0,0,0,1,0,0,0,1],\"fOption\":\"\",\"fFunctions\":{\"_typename\":\"TList\",\"name\":\"TList\",\"arr\":[],\"opt\":[]},\"fBufferSize\":0,\"fBuffer\":[],\"fBinStatErrOpt\":0,\"fStatOverflows\":2,\"fArray\":[0,0,0,0,0,0,0,0,1,10,5,14,20,26,45,58,78,108,127,163,221,270,360,417,547,676,806,1072,1353,1873,2800,4330,7159,12047,16892,16016,10122,5107,2486,1362,746,427,288,230,172,128,109,71,53,50,32,29,27,17,18,14,13,15,4,2,3,5,5,0,1,3,1,1,1,1,1,0,0,0,0,0,0,0,0,0,0,0,0,1,0,0,1,0,0,1,0,0,0,1,0,0,0,1,0,0,0,1]},\"fLabel\":\"EG EE\",\"fOption\":\"l\"}],\"opt\":[\"l\",\"l\"]},\"fEntrySeparation\":0.1,\"fMargin\":0.25,\"fNColumns\":1,\"fColumnSeparation\":0},{\"_typename\":\"TLatex\",\"fUniqueID\":0,\"fBits\":50348040,\"fName\":\"\",\"fTitle\":\"PU200, hwQual 4, 1.52 < |#eta^{GEN}| <= 2.4\",\"fTextAngle\":0,\"fTextSize\":0.03,\"fTextAlign\":11,\"fTextColor\":1,\"fTextFont\":62,\"fX\":0.15,\"fY\":0.85,\"fLineColor\":1,\"fLineStyle\":1,\"fLineWidth\":2,\"fLimitFactorSize\":3,\"fOriginSize\":0.04},{\"_typename\":\"TLatex\",\"fUniqueID\":0,\"fBits\":50331656,\"fName\":\"\",\"fTitle\":\"\",\"fTextAngle\":0,\"fTextSize\":0.03,\"fTextAlign\":11,\"fTextColor\":1,\"fTextFont\":62,\"fX\":0,\"fY\":0,\"fLineColor\":1,\"fLineStyle\":1,\"fLineWidth\":2,\"fLimitFactorSize\":3,\"fOriginSize\":0.04},{\"_typename\":\"TLine\",\"fUniqueID\":0,\"fBits\":50331656,\"fLineColor\":1,\"fLineStyle\":2,\"fLineWidth\":1,\"fX1\":1,\"fY1\":0,\"fX2\":1,\"fY2\":0.227647322416306}],\"opt\":[\"\",\"HIST\",\"SAME,HIST\",\"same\",\"same\",\"same\",\"same\"]},\"fExecs\":null,\"fName\":\"c_557bf9\",\"fTitle\":\"c_557bf9\",\"fNumPaletteColor\":0,\"fNextPaletteColor\":0,\"fDISPLAY\":\"$DISPLAY\",\"fDoubleBuffer\":0,\"fRetained\":true,\"fXsizeUser\":0,\"fYsizeUser\":0,\"fXsizeReal\":20,\"fYsizeReal\":15,\"fWindowTopX\":0,\"fWindowTopY\":0,\"fWindowWidth\":0,\"fWindowHeight\":0,\"fCw\":796,\"fCh\":572,\"fCatt\":{\"_typename\":\"TAttCanvas\",\"fXBetween\":2,\"fYBetween\":2,\"fTitleFromTop\":1.2,\"fXdate\":0.2,\"fYdate\":0.3,\"fAdate\":1},\"kMoveOpaque\":true,\"kResizeOpaque\":true,\"fHighLightColor\":2,\"fBatch\":true,\"kShowEventStatus\":false,\"kAutoExec\":true,\"kMenuBar\":true});\n",
       "       Core.draw(\"root_plot_6\", obj, \"\");\n",
       "     }\n",
       " );\n",
       "</script>\n"
      ],
      "text/plain": [
       "<IPython.core.display.HTML object>"
      ]
     },
     "metadata": {},
     "output_type": "display_data"
    }
   ],
   "source": [
    "hsets, labels, text = hplot.get_histo(histos.EGResoHistos, ['dele-V11'], ['PU200'], ['PFEgEE', 'EgEE'], ['EGq4'], 'GENEtaBC')   \n",
    "c1 = draw([his.h_ptResp for his in hsets], labels, y_axis_label='a.u.', min_x=0, max_x=2, norm=True, text=text, options='hist', v_lines=[1.])\n"
   ]
  },
  {
   "cell_type": "code",
   "execution_count": 19,
   "metadata": {},
   "outputs": [
    {
     "data": {
      "text/html": [
       "\n",
       "<div id=\"root_plot_7\"\n",
       "     style=\"width: 796px; height: 572px\">\n",
       "</div>\n",
       "\n",
       "<script>\n",
       " requirejs.config({\n",
       "     paths: {\n",
       "       'JSRootCore' : 'https://root.cern.ch/js/notebook//scripts/JSRootCore',\n",
       "     }\n",
       "   });\n",
       " require(['JSRootCore'],\n",
       "     function(Core) {\n",
       "       var obj = Core.JSONR_unref({\"_typename\":\"TCanvas\",\"fUniqueID\":0,\"fBits\":53673992,\"fLineColor\":1,\"fLineStyle\":1,\"fLineWidth\":1,\"fFillColor\":0,\"fFillStyle\":1001,\"fLeftMargin\":0.13,\"fRightMargin\":0.3,\"fBottomMargin\":0.13,\"fTopMargin\":0.1,\"fXfile\":2,\"fYfile\":2,\"fAfile\":1,\"fXstat\":0.99,\"fYstat\":0.99,\"fAstat\":2,\"fFrameFillColor\":0,\"fFrameLineColor\":1,\"fFrameFillStyle\":1001,\"fFrameLineStyle\":1,\"fFrameLineWidth\":1,\"fFrameBorderSize\":1,\"fFrameBorderMode\":0,\"fX1\":-0.458421041569221,\"fY1\":-0.0414094721829204,\"fX2\":3.0678947921539,\"fY2\":0.277124933788133,\"fXtoAbsPixelk\":103.480046204376,\"fXtoPixelk\":103.480046204376,\"fXtoPixel\":225.731340451027,\"fYtoAbsPixelk\":497.640051065433,\"fYtoPixelk\":497.640051065433,\"fYtoPixel\":-1795.72438417211,\"fUtoAbsPixelk\":5e-5,\"fUtoPixelk\":5e-5,\"fUtoPixel\":796,\"fVtoAbsPixelk\":572.00005,\"fVtoPixelk\":572,\"fVtoPixel\":-572,\"fAbsPixeltoXk\":-0.458421041569221,\"fPixeltoXk\":-0.458421041569221,\"fPixeltoX\":0.0044300450172401,\"fAbsPixeltoYk\":0.277124933788133,\"fPixeltoYk\":-0.0414094721829204,\"fPixeltoY\":-5.56878332117226e-4,\"fXlowNDC\":0,\"fYlowNDC\":0,\"fXUpNDC\":0,\"fYUpNDC\":0,\"fWNDC\":1,\"fHNDC\":1,\"fAbsXlowNDC\":0,\"fAbsYlowNDC\":0,\"fAbsWNDC\":1,\"fAbsHNDC\":1,\"fUxmin\":0,\"fUymin\":0,\"fUxmax\":2.01,\"fUymax\":0.245271492004395,\"fTheta\":30,\"fPhi\":30,\"fAspectRatio\":0,\"fNumber\":0,\"fTickx\":0,\"fTicky\":0,\"fLogx\":0,\"fLogy\":0,\"fLogz\":0,\"fPadPaint\":0,\"fCrosshair\":0,\"fCrosshairPos\":0,\"fBorderSize\":2,\"fBorderMode\":0,\"fModified\":false,\"fGridx\":false,\"fGridy\":false,\"fAbsCoord\":false,\"fEditable\":true,\"fFixedAspectRatio\":false,\"fPrimitives\":{\"_typename\":\"TList\",\"name\":\"TList\",\"arr\":[{\"_typename\":\"TFrame\",\"fUniqueID\":0,\"fBits\":50331656,\"fLineColor\":1,\"fLineStyle\":1,\"fLineWidth\":1,\"fFillColor\":0,\"fFillStyle\":1001,\"fX1\":0,\"fY1\":0,\"fX2\":2.01,\"fY2\":0.245271492004395,\"fBorderSize\":1,\"fBorderMode\":0},{\"_typename\":\"TH1F\",\"fUniqueID\":0,\"fBits\":50332169,\"fName\":\"bfcef6\",\"fTitle\":\"\",\"fLineColor\":1,\"fLineStyle\":1,\"fLineWidth\":1,\"fFillColor\":0,\"fFillStyle\":1001,\"fMarkerColor\":1,\"fMarkerStyle\":1,\"fMarkerSize\":1,\"fNcells\":102,\"fXaxis\":{\"_typename\":\"TAxis\",\"fUniqueID\":0,\"fBits\":50333704,\"fName\":\"xaxis\",\"fTitle\":\" p_{T}^{L1}\\/p_{T}^{GEN}\",\"fNdivisions\":510,\"fAxisColor\":1,\"fLabelColor\":1,\"fLabelFont\":42,\"fLabelOffset\":0.005,\"fLabelSize\":0.035,\"fTickLength\":0.03,\"fTitleOffset\":1.4,\"fTitleSize\":0.035,\"fTitleColor\":1,\"fTitleFont\":42,\"fNbins\":100,\"fXmin\":0,\"fXmax\":3,\"fXbins\":[],\"fFirst\":1,\"fLast\":67,\"fBits2\":0,\"fTimeDisplay\":false,\"fTimeFormat\":\"\",\"fLabels\":null,\"fModLabs\":null},\"fYaxis\":{\"_typename\":\"TAxis\",\"fUniqueID\":0,\"fBits\":50331656,\"fName\":\"yaxis\",\"fTitle\":\"a.u.\",\"fNdivisions\":510,\"fAxisColor\":1,\"fLabelColor\":1,\"fLabelFont\":42,\"fLabelOffset\":0.005,\"fLabelSize\":0.035,\"fTickLength\":0.03,\"fTitleOffset\":0,\"fTitleSize\":0.035,\"fTitleColor\":1,\"fTitleFont\":42,\"fNbins\":1,\"fXmin\":0,\"fXmax\":1,\"fXbins\":[],\"fFirst\":0,\"fLast\":0,\"fBits2\":0,\"fTimeDisplay\":false,\"fTimeFormat\":\"\",\"fLabels\":null,\"fModLabs\":null},\"fZaxis\":{\"_typename\":\"TAxis\",\"fUniqueID\":0,\"fBits\":50331648,\"fName\":\"zaxis\",\"fTitle\":\"\",\"fNdivisions\":510,\"fAxisColor\":1,\"fLabelColor\":1,\"fLabelFont\":42,\"fLabelOffset\":0.005,\"fLabelSize\":0.035,\"fTickLength\":0.03,\"fTitleOffset\":1,\"fTitleSize\":0.035,\"fTitleColor\":1,\"fTitleFont\":42,\"fNbins\":1,\"fXmin\":0,\"fXmax\":1,\"fXbins\":[],\"fFirst\":0,\"fLast\":0,\"fBits2\":0,\"fTimeDisplay\":false,\"fTimeFormat\":\"\",\"fLabels\":null,\"fModLabs\":null},\"fBarOffset\":0,\"fBarWidth\":1000,\"fEntries\":71258,\"fTsumw\":71258,\"fTsumw2\":71258,\"fTsumwx\":71415.5570479482,\"fTsumwx2\":72230.6856487834,\"fMaximum\":0.245271492004395,\"fMinimum\":0,\"fNormFactor\":0,\"fContour\":[],\"fSumw2\":[0,0,0,0,0,0,0,0,1.96939459804089e-10,1.18163675882454e-9,9.84697299020447e-10,1.96939459804089e-9,2.36327351764907e-9,2.95409189706134e-9,6.49900217353495e-9,5.31736541471041e-9,9.05921515098812e-9,1.1028609749029e-8,1.33918832666781e-8,1.87092486813885e-8,2.46174324755112e-8,2.79654032921807e-8,3.78123762823852e-8,4.92348649510224e-8,6.20359298382882e-8,7.42461763461417e-8,9.41370617863548e-8,1.24071859676576e-7,1.54794415406014e-7,2.24117105257054e-7,3.69064547672864e-7,5.86485711296578e-7,1.05086895751462e-6,1.89199739033789e-6,2.83691291847791e-6,2.77684638323766e-6,1.78348374798583e-6,8.83470416681145e-7,4.17314715324866e-7,2.18602800382539e-7,1.03590155856951e-7,5.33705936069082e-8,3.64338000637566e-8,2.71776454529643e-8,1.67398540833476e-8,1.12255492088331e-8,9.45309407059629e-9,4.52960757549406e-9,3.7418497362777e-9,2.16633405784498e-9,1.37857621862863e-9,5.90818379412268e-10,9.84697299020447e-10,0,1.96939459804089e-10,0,0,1.96939459804089e-10,0,0,0,0,0,0,0,0,0,0,0,0,0,0,0,0,0,0,0,0,0,0,0,0,0,0,0,0,0,0,0,0,0,0,0,0,0,0,0,0,0,0,0,0],\"fOption\":\"\",\"fFunctions\":{\"_typename\":\"TList\",\"name\":\"TList\",\"arr\":[],\"opt\":[]},\"fBufferSize\":0,\"fBuffer\":[],\"fBinStatErrOpt\":0,\"fStatOverflows\":2,\"fArray\":[0,0,0,0,0,0,0,0,1.403351e-5,8.420107e-5,7.016756e-5,1.403351e-4,1.684021e-4,2.105027e-4,4.631059e-4,3.789048e-4,6.455415e-4,7.858766e-4,9.542788e-4,0.001333184,0.001754189,0.001992759,0.002694434,0.003508378,0.004420556,0.005290634,0.006708019,0.008841112,0.01103034,0.01597014,0.0262988,0.0417918,0.07488282,0.13482,0.2021527,0.1978725,0.1270875,0.06295434,0.02973701,0.0155772,0.007381627,0.003803082,0.0025962,0.001936625,0.001192849,7.999102e-4,6.736086e-4,3.227708e-4,2.666367e-4,1.543686e-4,9.823458e-5,4.210054e-5,7.016756e-5,0,1.403351e-5,0,0,1.403351e-5,0,0,0,0,0,0,0,0,0,0,0,0,0,0,0,0,0,0,0,0,0,0,0,0,0,0,0,0,0,0,0,0,0,0,0,0,0,0,0,0,0,0,0,0]},{\"_typename\":\"TH1F\",\"fUniqueID\":0,\"fBits\":50332169,\"fName\":\"0f51f6\",\"fTitle\":\"\",\"fLineColor\":628,\"fLineStyle\":1,\"fLineWidth\":1,\"fFillColor\":0,\"fFillStyle\":1001,\"fMarkerColor\":1,\"fMarkerStyle\":1,\"fMarkerSize\":1,\"fNcells\":102,\"fXaxis\":{\"_typename\":\"TAxis\",\"fUniqueID\":0,\"fBits\":50333704,\"fName\":\"xaxis\",\"fTitle\":\" p_{T}^{L1}\\/p_{T}^{GEN}\",\"fNdivisions\":510,\"fAxisColor\":1,\"fLabelColor\":1,\"fLabelFont\":42,\"fLabelOffset\":0.005,\"fLabelSize\":0.035,\"fTickLength\":0.03,\"fTitleOffset\":1.4,\"fTitleSize\":0.035,\"fTitleColor\":1,\"fTitleFont\":42,\"fNbins\":100,\"fXmin\":0,\"fXmax\":3,\"fXbins\":[],\"fFirst\":1,\"fLast\":67,\"fBits2\":0,\"fTimeDisplay\":false,\"fTimeFormat\":\"\",\"fLabels\":null,\"fModLabs\":null},\"fYaxis\":{\"_typename\":\"TAxis\",\"fUniqueID\":0,\"fBits\":50331656,\"fName\":\"yaxis\",\"fTitle\":\"a.u.\",\"fNdivisions\":510,\"fAxisColor\":1,\"fLabelColor\":1,\"fLabelFont\":42,\"fLabelOffset\":0.005,\"fLabelSize\":0.035,\"fTickLength\":0.03,\"fTitleOffset\":0,\"fTitleSize\":0.035,\"fTitleColor\":1,\"fTitleFont\":42,\"fNbins\":1,\"fXmin\":0,\"fXmax\":1,\"fXbins\":[],\"fFirst\":0,\"fLast\":0,\"fBits2\":0,\"fTimeDisplay\":false,\"fTimeFormat\":\"\",\"fLabels\":null,\"fModLabs\":null},\"fZaxis\":{\"_typename\":\"TAxis\",\"fUniqueID\":0,\"fBits\":50331648,\"fName\":\"zaxis\",\"fTitle\":\"\",\"fNdivisions\":510,\"fAxisColor\":1,\"fLabelColor\":1,\"fLabelFont\":42,\"fLabelOffset\":0.005,\"fLabelSize\":0.035,\"fTickLength\":0.03,\"fTitleOffset\":1,\"fTitleSize\":0.035,\"fTitleColor\":1,\"fTitleFont\":42,\"fNbins\":1,\"fXmin\":0,\"fXmax\":1,\"fXbins\":[],\"fFirst\":0,\"fLast\":0,\"fBits2\":0,\"fTimeDisplay\":false,\"fTimeFormat\":\"\",\"fLabels\":null,\"fModLabs\":null},\"fBarOffset\":0,\"fBarWidth\":1000,\"fEntries\":61827,\"fTsumw\":61827,\"fTsumw2\":61827,\"fTsumwx\":62161.6977576762,\"fTsumwx2\":63058.9349826167,\"fMaximum\":0.245271492004395,\"fMinimum\":0,\"fNormFactor\":0,\"fContour\":[],\"fSumw2\":[0,0,0,2.61603561411658e-10,0,2.61603561411658e-10,7.84810684234974e-10,7.84810684234974e-10,7.84810684234974e-10,1.56962136846995e-9,1.83122492988161e-9,2.09282849129326e-9,3.1392427369399e-9,5.23207122823316e-9,6.01688191246814e-9,7.84810684234974e-9,1.04641424564663e-8,1.33417816319946e-8,1.62194208075228e-8,1.93586635444627e-8,2.56371490183425e-8,2.9822806000929e-8,3.89789306503371e-8,4.63038303698635e-8,5.78143870719764e-8,7.29873936338526e-8,9.88861462136067e-8,1.25046502354773e-7,1.53299686987232e-7,2.27333494866731e-7,3.84818838836549e-7,6.36743068475976e-7,1.1780008370367e-6,2.18674416984005e-6,3.30588420555912e-6,3.28992638831301e-6,2.1004149945742e-6,1.04144377797981e-6,4.87105831348507e-7,2.5872592223613e-7,1.28185745091712e-7,6.06920262475047e-8,4.83966588611567e-8,3.21772380536339e-8,2.11898884743443e-8,1.54346101232878e-8,1.1510556702113e-8,6.54008903529145e-9,5.49367478964482e-9,3.1392427369399e-9,2.61603561411658e-9,1.04641424564663e-9,1.30801780705829e-9,0,2.61603561411658e-10,0,0,2.61603561411658e-10,0,0,0,0,0,0,0,0,0,0,0,0,0,0,0,0,0,0,0,0,0,0,0,0,0,0,0,0,0,0,0,0,0,0,0,0,0,0,0,0,0,0,0,0],\"fOption\":\"\",\"fFunctions\":{\"_typename\":\"TList\",\"name\":\"TList\",\"arr\":[],\"opt\":[]},\"fBufferSize\":0,\"fBuffer\":[],\"fBinStatErrOpt\":0,\"fStatOverflows\":2,\"fArray\":[0,0,0,1.617416e-5,0,1.617416e-5,4.852249e-5,4.852249e-5,4.852249e-5,9.704498e-5,1.132191e-4,1.293933e-4,1.9409e-4,3.234833e-4,3.720058e-4,4.852249e-4,6.469665e-4,8.248824e-4,0.001002798,0.001196888,0.001585068,0.001843855,0.00240995,0.002862827,0.00357449,0.004512592,0.006113834,0.00773125,0.00947806,0.01405535,0.02379219,0.03936791,0.07283226,0.1351998,0.2043929,0.2034063,0.1298624,0.06438935,0.03011629,0.01599625,0.00792534,0.003752406,0.00299222,0.001989422,0.001310107,9.542757e-4,7.116632e-4,4.043541e-4,3.396574e-4,1.9409e-4,1.617416e-4,6.469665e-5,8.087081e-5,0,1.617416e-5,0,0,1.617416e-5,0,0,0,0,0,0,0,0,0,0,0,0,0,0,0,0,0,0,0,0,0,0,0,0,0,0,0,0,0,0,0,0,0,0,0,0,0,0,0,0,0,0,0,0]},{\"_typename\":\"TLegend\",\"fUniqueID\":0,\"fBits\":50331656,\"fLineColor\":1,\"fLineStyle\":1,\"fLineWidth\":1,\"fFillColor\":0,\"fFillStyle\":0,\"fX1\":2.01000004203696,\"fY1\":0.184749956056527,\"fX2\":2.89157900046774,\"fY2\":0.229344772892475,\"fX1NDC\":0.7,\"fY1NDC\":0.71,\"fX2NDC\":0.95,\"fY2NDC\":0.85,\"fBorderSize\":0,\"fInit\":1,\"fShadowColor\":1,\"fCornerRadius\":0,\"fOption\":\"brNDC\",\"fName\":\"TPave\",\"fTextAngle\":0,\"fTextSize\":0.03,\"fTextAlign\":12,\"fTextColor\":1,\"fTextFont\":42,\"fPrimitives\":{\"_typename\":\"TList\",\"name\":\"TList\",\"arr\":[{\"_typename\":\"TLegendEntry\",\"fUniqueID\":0,\"fBits\":50331656,\"fTextAngle\":0,\"fTextSize\":0,\"fTextAlign\":0,\"fTextColor\":0,\"fTextFont\":42,\"fLineColor\":1,\"fLineStyle\":1,\"fLineWidth\":1,\"fFillColor\":0,\"fFillStyle\":0,\"fMarkerColor\":1,\"fMarkerStyle\":21,\"fMarkerSize\":1,\"fObject\":{\"_typename\":\"TH1F\",\"fUniqueID\":0,\"fBits\":50332168,\"fName\":\"bfcef6\",\"fTitle\":\"\",\"fLineColor\":1,\"fLineStyle\":1,\"fLineWidth\":1,\"fFillColor\":0,\"fFillStyle\":1001,\"fMarkerColor\":1,\"fMarkerStyle\":1,\"fMarkerSize\":1,\"fNcells\":102,\"fXaxis\":{\"_typename\":\"TAxis\",\"fUniqueID\":0,\"fBits\":50331648,\"fName\":\"xaxis\",\"fTitle\":\" p_{T}^{L1}\\/p_{T}^{GEN}\",\"fNdivisions\":510,\"fAxisColor\":1,\"fLabelColor\":1,\"fLabelFont\":42,\"fLabelOffset\":0.005,\"fLabelSize\":0.035,\"fTickLength\":0.03,\"fTitleOffset\":1,\"fTitleSize\":0.035,\"fTitleColor\":1,\"fTitleFont\":42,\"fNbins\":100,\"fXmin\":0,\"fXmax\":3,\"fXbins\":[],\"fFirst\":0,\"fLast\":0,\"fBits2\":0,\"fTimeDisplay\":false,\"fTimeFormat\":\"\",\"fLabels\":null,\"fModLabs\":null},\"fYaxis\":{\"_typename\":\"TAxis\",\"fUniqueID\":0,\"fBits\":50331648,\"fName\":\"yaxis\",\"fTitle\":\"\",\"fNdivisions\":510,\"fAxisColor\":1,\"fLabelColor\":1,\"fLabelFont\":42,\"fLabelOffset\":0.005,\"fLabelSize\":0.035,\"fTickLength\":0.03,\"fTitleOffset\":0,\"fTitleSize\":0.035,\"fTitleColor\":1,\"fTitleFont\":42,\"fNbins\":1,\"fXmin\":0,\"fXmax\":1,\"fXbins\":[],\"fFirst\":0,\"fLast\":0,\"fBits2\":0,\"fTimeDisplay\":false,\"fTimeFormat\":\"\",\"fLabels\":null,\"fModLabs\":null},\"fZaxis\":{\"_typename\":\"TAxis\",\"fUniqueID\":0,\"fBits\":50331648,\"fName\":\"zaxis\",\"fTitle\":\"\",\"fNdivisions\":510,\"fAxisColor\":1,\"fLabelColor\":1,\"fLabelFont\":42,\"fLabelOffset\":0.005,\"fLabelSize\":0.035,\"fTickLength\":0.03,\"fTitleOffset\":1,\"fTitleSize\":0.035,\"fTitleColor\":1,\"fTitleFont\":42,\"fNbins\":1,\"fXmin\":0,\"fXmax\":1,\"fXbins\":[],\"fFirst\":0,\"fLast\":0,\"fBits2\":0,\"fTimeDisplay\":false,\"fTimeFormat\":\"\",\"fLabels\":null,\"fModLabs\":null},\"fBarOffset\":0,\"fBarWidth\":1000,\"fEntries\":71258,\"fTsumw\":71258,\"fTsumw2\":71258,\"fTsumwx\":71415.5570479482,\"fTsumwx2\":72230.6856487834,\"fMaximum\":-1111,\"fMinimum\":-1111,\"fNormFactor\":0,\"fContour\":[],\"fSumw2\":[0,0,0,0,0,0,0,0,1,6,5,10,12,15,33,27,46,56,68,95,125,142,192,250,315,377,478,630,786,1138,1874,2978,5336,9607,14405,14100,9056,4486,2119,1110,526,271,185,138,85,57,48,23,19,11,7,3,5,0,1,0,0,1,0,0,0,0,0,0,0,0,0,0,0,0,0,0,0,0,0,0,0,0,0,0,0,0,0,0,0,0,0,0,0,0,0,0,0,0,0,0,0,0,0,0,0,0],\"fOption\":\"\",\"fFunctions\":{\"_typename\":\"TList\",\"name\":\"TList\",\"arr\":[],\"opt\":[]},\"fBufferSize\":0,\"fBuffer\":[],\"fBinStatErrOpt\":0,\"fStatOverflows\":2,\"fArray\":[0,0,0,0,0,0,0,0,1,6,5,10,12,15,33,27,46,56,68,95,125,142,192,250,315,377,478,630,786,1138,1874,2978,5336,9607,14405,14100,9056,4486,2119,1110,526,271,185,138,85,57,48,23,19,11,7,3,5,0,1,0,0,1,0,0,0,0,0,0,0,0,0,0,0,0,0,0,0,0,0,0,0,0,0,0,0,0,0,0,0,0,0,0,0,0,0,0,0,0,0,0,0,0,0,0,0,0]},\"fLabel\":\"TkEle EE\",\"fOption\":\"l\"},{\"_typename\":\"TLegendEntry\",\"fUniqueID\":0,\"fBits\":50331656,\"fTextAngle\":0,\"fTextSize\":0,\"fTextAlign\":0,\"fTextColor\":0,\"fTextFont\":42,\"fLineColor\":628,\"fLineStyle\":1,\"fLineWidth\":1,\"fFillColor\":0,\"fFillStyle\":0,\"fMarkerColor\":1,\"fMarkerStyle\":21,\"fMarkerSize\":1,\"fObject\":{\"_typename\":\"TH1F\",\"fUniqueID\":0,\"fBits\":50332168,\"fName\":\"0f51f6\",\"fTitle\":\"\",\"fLineColor\":628,\"fLineStyle\":1,\"fLineWidth\":1,\"fFillColor\":0,\"fFillStyle\":1001,\"fMarkerColor\":1,\"fMarkerStyle\":1,\"fMarkerSize\":1,\"fNcells\":102,\"fXaxis\":{\"_typename\":\"TAxis\",\"fUniqueID\":0,\"fBits\":50331648,\"fName\":\"xaxis\",\"fTitle\":\" p_{T}^{L1}\\/p_{T}^{GEN}\",\"fNdivisions\":510,\"fAxisColor\":1,\"fLabelColor\":1,\"fLabelFont\":42,\"fLabelOffset\":0.005,\"fLabelSize\":0.035,\"fTickLength\":0.03,\"fTitleOffset\":1,\"fTitleSize\":0.035,\"fTitleColor\":1,\"fTitleFont\":42,\"fNbins\":100,\"fXmin\":0,\"fXmax\":3,\"fXbins\":[],\"fFirst\":0,\"fLast\":0,\"fBits2\":0,\"fTimeDisplay\":false,\"fTimeFormat\":\"\",\"fLabels\":null,\"fModLabs\":null},\"fYaxis\":{\"_typename\":\"TAxis\",\"fUniqueID\":0,\"fBits\":50331648,\"fName\":\"yaxis\",\"fTitle\":\"\",\"fNdivisions\":510,\"fAxisColor\":1,\"fLabelColor\":1,\"fLabelFont\":42,\"fLabelOffset\":0.005,\"fLabelSize\":0.035,\"fTickLength\":0.03,\"fTitleOffset\":0,\"fTitleSize\":0.035,\"fTitleColor\":1,\"fTitleFont\":42,\"fNbins\":1,\"fXmin\":0,\"fXmax\":1,\"fXbins\":[],\"fFirst\":0,\"fLast\":0,\"fBits2\":0,\"fTimeDisplay\":false,\"fTimeFormat\":\"\",\"fLabels\":null,\"fModLabs\":null},\"fZaxis\":{\"_typename\":\"TAxis\",\"fUniqueID\":0,\"fBits\":50331648,\"fName\":\"zaxis\",\"fTitle\":\"\",\"fNdivisions\":510,\"fAxisColor\":1,\"fLabelColor\":1,\"fLabelFont\":42,\"fLabelOffset\":0.005,\"fLabelSize\":0.035,\"fTickLength\":0.03,\"fTitleOffset\":1,\"fTitleSize\":0.035,\"fTitleColor\":1,\"fTitleFont\":42,\"fNbins\":1,\"fXmin\":0,\"fXmax\":1,\"fXbins\":[],\"fFirst\":0,\"fLast\":0,\"fBits2\":0,\"fTimeDisplay\":false,\"fTimeFormat\":\"\",\"fLabels\":null,\"fModLabs\":null},\"fBarOffset\":0,\"fBarWidth\":1000,\"fEntries\":61827,\"fTsumw\":61827,\"fTsumw2\":61827,\"fTsumwx\":62161.6977576762,\"fTsumwx2\":63058.9349826167,\"fMaximum\":-1111,\"fMinimum\":-1111,\"fNormFactor\":0,\"fContour\":[],\"fSumw2\":[0,0,0,1,0,1,3,3,3,6,7,8,12,20,23,30,40,51,62,74,98,114,149,177,221,279,378,478,586,869,1471,2434,4503,8359,12637,12576,8029,3981,1862,989,490,232,185,123,81,59,44,25,21,12,10,4,5,0,1,0,0,1,0,0,0,0,0,0,0,0,0,0,0,0,0,0,0,0,0,0,0,0,0,0,0,0,0,0,0,0,0,0,0,0,0,0,0,0,0,0,0,0,0,0,0,0],\"fOption\":\"\",\"fFunctions\":{\"_typename\":\"TList\",\"name\":\"TList\",\"arr\":[],\"opt\":[]},\"fBufferSize\":0,\"fBuffer\":[],\"fBinStatErrOpt\":0,\"fStatOverflows\":2,\"fArray\":[0,0,0,1,0,1,3,3,3,6,7,8,12,20,23,30,40,51,62,74,98,114,149,177,221,279,378,478,586,869,1471,2434,4503,8359,12637,12576,8029,3981,1862,989,490,232,185,123,81,59,44,25,21,12,10,4,5,0,1,0,0,1,0,0,0,0,0,0,0,0,0,0,0,0,0,0,0,0,0,0,0,0,0,0,0,0,0,0,0,0,0,0,0,0,0,0,0,0,0,0,0,0,0,0,0,0]},\"fLabel\":\"TkEle EE Corr.\",\"fOption\":\"l\"}],\"opt\":[\"l\",\"l\"]},\"fEntrySeparation\":0.1,\"fMargin\":0.25,\"fNColumns\":1,\"fColumnSeparation\":0},{\"_typename\":\"TLatex\",\"fUniqueID\":0,\"fBits\":50348040,\"fName\":\"\",\"fTitle\":\"PU200, hwQual 4, 1.52 < |#eta^{GEN}| <= 2.4\",\"fTextAngle\":0,\"fTextSize\":0.03,\"fTextAlign\":11,\"fTextColor\":1,\"fTextFont\":62,\"fX\":0.15,\"fY\":0.85,\"fLineColor\":1,\"fLineStyle\":1,\"fLineWidth\":2,\"fLimitFactorSize\":3,\"fOriginSize\":0.04},{\"_typename\":\"TLatex\",\"fUniqueID\":0,\"fBits\":50331656,\"fName\":\"\",\"fTitle\":\"\",\"fTextAngle\":0,\"fTextSize\":0.03,\"fTextAlign\":11,\"fTextColor\":1,\"fTextFont\":62,\"fX\":0,\"fY\":0,\"fLineColor\":1,\"fLineStyle\":1,\"fLineWidth\":2,\"fLimitFactorSize\":3,\"fOriginSize\":0.04},{\"_typename\":\"TLine\",\"fUniqueID\":0,\"fBits\":50331656,\"fLineColor\":1,\"fLineStyle\":2,\"fLineWidth\":1,\"fX1\":1,\"fY1\":0,\"fX2\":1,\"fY2\":0.245271492004395}],\"opt\":[\"\",\"HIST\",\"SAME,HIST\",\"same\",\"same\",\"same\",\"same\"]},\"fExecs\":null,\"fName\":\"c_6aca93\",\"fTitle\":\"c_6aca93\",\"fNumPaletteColor\":0,\"fNextPaletteColor\":0,\"fDISPLAY\":\"$DISPLAY\",\"fDoubleBuffer\":0,\"fRetained\":true,\"fXsizeUser\":0,\"fYsizeUser\":0,\"fXsizeReal\":20,\"fYsizeReal\":15,\"fWindowTopX\":0,\"fWindowTopY\":0,\"fWindowWidth\":0,\"fWindowHeight\":0,\"fCw\":796,\"fCh\":572,\"fCatt\":{\"_typename\":\"TAttCanvas\",\"fXBetween\":2,\"fYBetween\":2,\"fTitleFromTop\":1.2,\"fXdate\":0.2,\"fYdate\":0.3,\"fAdate\":1},\"kMoveOpaque\":true,\"kResizeOpaque\":true,\"fHighLightColor\":2,\"fBatch\":true,\"kShowEventStatus\":false,\"kAutoExec\":true,\"kMenuBar\":true});\n",
       "       Core.draw(\"root_plot_7\", obj, \"\");\n",
       "     }\n",
       " );\n",
       "</script>\n"
      ],
      "text/plain": [
       "<IPython.core.display.HTML object>"
      ]
     },
     "metadata": {},
     "output_type": "display_data"
    }
   ],
   "source": [
    "hsets, labels, text = hplot.get_histo(histos.EGResoHistos, ['dele-V11'], ['PU200'], ['PFtkEleEE', 'tkEleEE'], ['EGq4'], 'GENEtaBC')   \n",
    "c1 = draw([his.h_ptResp for his in hsets], labels, y_axis_label='a.u.', min_x=0, max_x=2, norm=True, text=text, options='hist', v_lines=[1.])\n"
   ]
  },
  {
   "cell_type": "code",
   "execution_count": 22,
   "metadata": {},
   "outputs": [
    {
     "data": {
      "text/html": [
       "\n",
       "<div id=\"root_plot_9\"\n",
       "     style=\"width: 796px; height: 572px\">\n",
       "</div>\n",
       "\n",
       "<script>\n",
       " requirejs.config({\n",
       "     paths: {\n",
       "       'JSRootCore' : 'https://root.cern.ch/js/notebook//scripts/JSRootCore',\n",
       "     }\n",
       "   });\n",
       " require(['JSRootCore'],\n",
       "     function(Core) {\n",
       "       var obj = Core.JSONR_unref({\"_typename\":\"TCanvas\",\"fUniqueID\":0,\"fBits\":53673992,\"fLineColor\":1,\"fLineStyle\":1,\"fLineWidth\":1,\"fFillColor\":0,\"fFillStyle\":1001,\"fLeftMargin\":0.13,\"fRightMargin\":0.3,\"fBottomMargin\":0.13,\"fTopMargin\":0.1,\"fXfile\":2,\"fYfile\":2,\"fAfile\":1,\"fXstat\":0.99,\"fYstat\":0.99,\"fAstat\":2,\"fFrameFillColor\":0,\"fFrameLineColor\":1,\"fFrameFillStyle\":1001,\"fFrameLineStyle\":1,\"fFrameLineWidth\":1,\"fFrameBorderSize\":1,\"fFrameBorderMode\":0,\"fX1\":-0.458421041569221,\"fY1\":-0.0678682771254458,\"fX2\":3.0678947921539,\"fY2\":0.45419540055044,\"fXtoAbsPixelk\":103.480046204376,\"fXtoPixelk\":103.480046204376,\"fXtoPixel\":225.731340451027,\"fYtoAbsPixelk\":497.640051065433,\"fYtoPixelk\":497.640051065433,\"fYtoPixel\":-1095.65178436933,\"fUtoAbsPixelk\":5e-5,\"fUtoPixelk\":5e-5,\"fUtoPixel\":796,\"fVtoAbsPixelk\":572.00005,\"fVtoPixelk\":572,\"fVtoPixel\":-572,\"fAbsPixeltoXk\":-0.458421041569221,\"fPixeltoXk\":-0.458421041569221,\"fPixeltoX\":0.0044300450172401,\"fAbsPixeltoYk\":0.45419540055044,\"fPixeltoYk\":-0.0678682771254458,\"fPixeltoY\":-9.12698737195605e-4,\"fXlowNDC\":0,\"fYlowNDC\":0,\"fXUpNDC\":0,\"fYUpNDC\":0,\"fWNDC\":1,\"fHNDC\":1,\"fAbsXlowNDC\":0,\"fAbsYlowNDC\":0,\"fAbsWNDC\":1,\"fAbsHNDC\":1,\"fUxmin\":0,\"fUymin\":0,\"fUxmax\":2.01,\"fUymax\":0.401989030838013,\"fTheta\":30,\"fPhi\":30,\"fAspectRatio\":0,\"fNumber\":0,\"fTickx\":0,\"fTicky\":0,\"fLogx\":0,\"fLogy\":0,\"fLogz\":0,\"fPadPaint\":0,\"fCrosshair\":0,\"fCrosshairPos\":0,\"fBorderSize\":2,\"fBorderMode\":0,\"fModified\":false,\"fGridx\":false,\"fGridy\":false,\"fAbsCoord\":false,\"fEditable\":true,\"fFixedAspectRatio\":false,\"fPrimitives\":{\"_typename\":\"TList\",\"name\":\"TList\",\"arr\":[{\"_typename\":\"TFrame\",\"fUniqueID\":0,\"fBits\":50331656,\"fLineColor\":1,\"fLineStyle\":1,\"fLineWidth\":1,\"fFillColor\":0,\"fFillStyle\":1001,\"fX1\":0,\"fY1\":0,\"fX2\":2.01,\"fY2\":0.401989030838013,\"fBorderSize\":1,\"fBorderMode\":0},{\"_typename\":\"TH1F\",\"fUniqueID\":0,\"fBits\":50332169,\"fName\":\"c3914e\",\"fTitle\":\"\",\"fLineColor\":1,\"fLineStyle\":1,\"fLineWidth\":1,\"fFillColor\":0,\"fFillStyle\":1001,\"fMarkerColor\":1,\"fMarkerStyle\":1,\"fMarkerSize\":1,\"fNcells\":102,\"fXaxis\":{\"_typename\":\"TAxis\",\"fUniqueID\":0,\"fBits\":50333704,\"fName\":\"xaxis\",\"fTitle\":\" p_{T}^{L1}\\/p_{T}^{GEN}\",\"fNdivisions\":510,\"fAxisColor\":1,\"fLabelColor\":1,\"fLabelFont\":42,\"fLabelOffset\":0.005,\"fLabelSize\":0.035,\"fTickLength\":0.03,\"fTitleOffset\":1.4,\"fTitleSize\":0.035,\"fTitleColor\":1,\"fTitleFont\":42,\"fNbins\":100,\"fXmin\":0,\"fXmax\":3,\"fXbins\":[],\"fFirst\":1,\"fLast\":67,\"fBits2\":0,\"fTimeDisplay\":false,\"fTimeFormat\":\"\",\"fLabels\":null,\"fModLabs\":null},\"fYaxis\":{\"_typename\":\"TAxis\",\"fUniqueID\":0,\"fBits\":50331656,\"fName\":\"yaxis\",\"fTitle\":\"a.u.\",\"fNdivisions\":510,\"fAxisColor\":1,\"fLabelColor\":1,\"fLabelFont\":42,\"fLabelOffset\":0.005,\"fLabelSize\":0.035,\"fTickLength\":0.03,\"fTitleOffset\":0,\"fTitleSize\":0.035,\"fTitleColor\":1,\"fTitleFont\":42,\"fNbins\":1,\"fXmin\":0,\"fXmax\":1,\"fXbins\":[],\"fFirst\":0,\"fLast\":0,\"fBits2\":0,\"fTimeDisplay\":false,\"fTimeFormat\":\"\",\"fLabels\":null,\"fModLabs\":null},\"fZaxis\":{\"_typename\":\"TAxis\",\"fUniqueID\":0,\"fBits\":50331648,\"fName\":\"zaxis\",\"fTitle\":\"\",\"fNdivisions\":510,\"fAxisColor\":1,\"fLabelColor\":1,\"fLabelFont\":42,\"fLabelOffset\":0.005,\"fLabelSize\":0.035,\"fTickLength\":0.03,\"fTitleOffset\":1,\"fTitleSize\":0.035,\"fTitleColor\":1,\"fTitleFont\":42,\"fNbins\":1,\"fXmin\":0,\"fXmax\":1,\"fXbins\":[],\"fFirst\":0,\"fLast\":0,\"fBits2\":0,\"fTimeDisplay\":false,\"fTimeFormat\":\"\",\"fLabels\":null,\"fModLabs\":null},\"fBarOffset\":0,\"fBarWidth\":1000,\"fEntries\":119657,\"fTsumw\":119657,\"fTsumw2\":119657,\"fTsumwx\":117148.94832004,\"fTsumwx2\":115546.901992356,\"fMaximum\":0.401989030838013,\"fMinimum\":0,\"fNormFactor\":0,\"fContour\":[],\"fSumw2\":[0,1.32701973206941e-9,4.6794906341395e-9,2.79372575172507e-9,2.72388260793195e-9,2.0952943137938e-9,1.88576488241442e-9,2.51435317655257e-9,2.0952943137938e-9,2.93341203931133e-9,3.42231404586321e-9,2.65403946413882e-9,3.49215718965634e-9,3.9112160524151e-9,3.00325518310445e-9,4.46996120276012e-9,5.23823578448451e-9,5.16839264069138e-9,6.07635351000203e-9,7.33353009827832e-9,9.07960869310649e-9,8.52086354276147e-9,1.13145892944865e-8,1.33400404644872e-8,1.59242367848329e-8,2.43752571838013e-8,3.00325518310445e-8,4.78425534982919e-8,6.8865339780023e-8,1.20898481905903e-7,2.02056214993516e-7,3.96010625307029e-7,8.26314234216484e-7,2.03886105360896e-6,2.7995925758037e-6,1.22937901704662e-6,2.79023359453542e-7,8.61165962969254e-8,4.14868274131173e-8,1.8717962536558e-8,1.0476471568969e-8,5.02870635310513e-9,2.30482374517319e-9,1.8159217386213e-9,8.38117725517522e-10,4.88902006551888e-10,2.0952943137938e-10,0,2.0952943137938e-10,2.0952943137938e-10,0,0,0,0,0,0,0,0,0,0,0,0,0,0,0,0,0,0,0,0,0,0,6.98431437931268e-11,0,0,0,0,0,0,0,0,0,0,0,0,0,0,0,0,0,0,0,0,0,0,0,0,0,0,0,0,0],\"fOption\":\"\",\"fFunctions\":{\"_typename\":\"TList\",\"name\":\"TList\",\"arr\":[],\"opt\":[]},\"fBufferSize\":0,\"fBuffer\":[],\"fBinStatErrOpt\":0,\"fStatOverflows\":2,\"fArray\":[0,1.587872e-4,5.599338e-4,3.342888e-4,3.259316e-4,2.507166e-4,2.25645e-4,3.008599e-4,2.507166e-4,3.510033e-4,4.095038e-4,3.175744e-4,4.17861e-4,4.680044e-4,3.593605e-4,5.348622e-4,6.267916e-4,6.184343e-4,7.270782e-4,8.775082e-4,0.001086439,0.001019581,0.00135387,0.001596229,0.001905446,0.00291667,0.003593605,0.005724696,0.00824022,0.01446635,0.02417744,0.04738544,0.09887429,0.243964,0.3349909,0.1471038,0.0333871,0.01030445,0.004964189,0.002239735,0.001253583,6.017199e-4,2.757883e-4,2.172877e-4,1.002867e-4,5.850055e-5,2.507166e-5,0,2.507166e-5,2.507166e-5,0,0,0,0,0,0,0,0,0,0,0,0,0,0,0,0,0,0,0,0,0,0,8.357221e-6,0,0,0,0,0,0,0,0,0,0,0,0,0,0,0,0,0,0,0,0,0,0,0,0,0,0,0,0,0]},{\"_typename\":\"TH1F\",\"fUniqueID\":0,\"fBits\":50332169,\"fName\":\"4b4592\",\"fTitle\":\"\",\"fLineColor\":628,\"fLineStyle\":1,\"fLineWidth\":1,\"fFillColor\":0,\"fFillStyle\":1001,\"fMarkerColor\":1,\"fMarkerStyle\":1,\"fMarkerSize\":1,\"fNcells\":102,\"fXaxis\":{\"_typename\":\"TAxis\",\"fUniqueID\":0,\"fBits\":50333704,\"fName\":\"xaxis\",\"fTitle\":\" p_{T}^{L1}\\/p_{T}^{GEN}\",\"fNdivisions\":510,\"fAxisColor\":1,\"fLabelColor\":1,\"fLabelFont\":42,\"fLabelOffset\":0.005,\"fLabelSize\":0.035,\"fTickLength\":0.03,\"fTitleOffset\":1.4,\"fTitleSize\":0.035,\"fTitleColor\":1,\"fTitleFont\":42,\"fNbins\":100,\"fXmin\":0,\"fXmax\":3,\"fXbins\":[],\"fFirst\":1,\"fLast\":67,\"fBits2\":0,\"fTimeDisplay\":false,\"fTimeFormat\":\"\",\"fLabels\":null,\"fModLabs\":null},\"fYaxis\":{\"_typename\":\"TAxis\",\"fUniqueID\":0,\"fBits\":50331656,\"fName\":\"yaxis\",\"fTitle\":\"a.u.\",\"fNdivisions\":510,\"fAxisColor\":1,\"fLabelColor\":1,\"fLabelFont\":42,\"fLabelOffset\":0.005,\"fLabelSize\":0.035,\"fTickLength\":0.03,\"fTitleOffset\":0,\"fTitleSize\":0.035,\"fTitleColor\":1,\"fTitleFont\":42,\"fNbins\":1,\"fXmin\":0,\"fXmax\":1,\"fXbins\":[],\"fFirst\":0,\"fLast\":0,\"fBits2\":0,\"fTimeDisplay\":false,\"fTimeFormat\":\"\",\"fLabels\":null,\"fModLabs\":null},\"fZaxis\":{\"_typename\":\"TAxis\",\"fUniqueID\":0,\"fBits\":50331648,\"fName\":\"zaxis\",\"fTitle\":\"\",\"fNdivisions\":510,\"fAxisColor\":1,\"fLabelColor\":1,\"fLabelFont\":42,\"fLabelOffset\":0.005,\"fLabelSize\":0.035,\"fTickLength\":0.03,\"fTitleOffset\":1,\"fTitleSize\":0.035,\"fTitleColor\":1,\"fTitleFont\":42,\"fNbins\":1,\"fXmin\":0,\"fXmax\":1,\"fXbins\":[],\"fFirst\":0,\"fLast\":0,\"fBits2\":0,\"fTimeDisplay\":false,\"fTimeFormat\":\"\",\"fLabels\":null,\"fModLabs\":null},\"fBarOffset\":0,\"fBarWidth\":1000,\"fEntries\":141377,\"fTsumw\":141377,\"fTsumw2\":141377,\"fTsumwx\":138100.327599278,\"fTsumwx2\":135934.724415236,\"fMaximum\":0.401989030838013,\"fMinimum\":0,\"fNormFactor\":0,\"fContour\":[],\"fSumw2\":[0,1.15072172524392e-9,3.70232207252391e-9,2.80175724407215e-9,2.80175724407215e-9,1.25078448396078e-9,2.15134931241254e-9,1.70106689818666e-9,1.90119241562039e-9,2.30144345048784e-9,2.60163172663842e-9,1.95122379497882e-9,2.85178862343058e-9,3.25203965829803e-9,2.20138069177097e-9,3.95247896931607e-9,4.50282414225881e-9,5.50345172942743e-9,5.40338897071057e-9,6.40401655787919e-9,7.8549265592737e-9,8.80552276708389e-9,9.40589931938507e-9,1.18574369079482e-8,1.46591941520203e-8,2.20138069177097e-8,2.9118262786607e-8,4.3627362800552e-8,6.52409186833943e-8,1.1352119976428e-7,1.90319367079472e-7,3.67430450008319e-7,7.32709550704225e-7,1.7241313640709e-6,2.30514577256036e-6,9.98676363373645e-7,2.30794752980443e-7,7.22453117935747e-8,3.33208986527152e-8,1.62601982914901e-8,8.6554286290086e-9,4.25266724546665e-9,1.70106689818666e-9,1.55097276011137e-9,6.00376552301174e-10,4.0025103486745e-10,1.50094138075294e-10,5.00313793584312e-11,2.00125517433725e-10,1.00062758716862e-10,0,0,0,0,0,0,0,0,0,5.00313793584312e-11,0,0,0,0,0,0,0,0,0,0,0,0,5.00313793584312e-11,0,0,0,0,0,0,0,0,0,0,0,0,0,0,0,0,0,0,0,0,0,0,0,0,0,0,0,0,0],\"fOption\":\"\",\"fFunctions\":{\"_typename\":\"TList\",\"name\":\"TList\",\"arr\":[],\"opt\":[]},\"fBufferSize\":0,\"fBuffer\":[],\"fBinStatErrOpt\":0,\"fStatOverflows\":2,\"fArray\":[0,1.626856e-4,5.234232e-4,3.96104e-4,3.96104e-4,1.768322e-4,3.041513e-4,2.404917e-4,2.687849e-4,3.253712e-4,3.678109e-4,2.758582e-4,4.031773e-4,4.597636e-4,3.112246e-4,5.587896e-4,6.365958e-4,7.780615e-4,7.639149e-4,9.053806e-4,0.001110506,0.001244898,0.001329778,0.001676369,0.002072473,0.003112246,0.004116653,0.006167906,0.009223565,0.01604929,0.02690678,0.05194622,0.1035883,0.2437525,0.3258946,0.1411899,0.03262907,0.01021383,0.004710809,0.002298818,0.001223679,6.012293e-4,2.404917e-4,2.192719e-4,8.487944e-5,5.658629e-5,2.121986e-5,7.073286e-6,2.829315e-5,1.414657e-5,0,0,0,0,0,0,0,0,0,7.073286e-6,0,0,0,0,0,0,0,0,0,0,0,0,7.073286e-6,0,0,0,0,0,0,0,0,0,0,0,0,0,0,0,0,0,0,0,0,0,0,0,0,0,0,0,0,0]},{\"_typename\":\"TLegend\",\"fUniqueID\":0,\"fBits\":50331656,\"fLineColor\":1,\"fLineStyle\":1,\"fLineWidth\":1,\"fFillColor\":0,\"fFillStyle\":0,\"fX1\":2.01000004203696,\"fY1\":0.302796934024433,\"fX2\":2.89157900046774,\"fY2\":0.375885848899057,\"fX1NDC\":0.7,\"fY1NDC\":0.71,\"fX2NDC\":0.95,\"fY2NDC\":0.85,\"fBorderSize\":0,\"fInit\":1,\"fShadowColor\":1,\"fCornerRadius\":0,\"fOption\":\"brNDC\",\"fName\":\"TPave\",\"fTextAngle\":0,\"fTextSize\":0.03,\"fTextAlign\":12,\"fTextColor\":1,\"fTextFont\":42,\"fPrimitives\":{\"_typename\":\"TList\",\"name\":\"TList\",\"arr\":[{\"_typename\":\"TLegendEntry\",\"fUniqueID\":0,\"fBits\":50331656,\"fTextAngle\":0,\"fTextSize\":0,\"fTextAlign\":0,\"fTextColor\":0,\"fTextFont\":42,\"fLineColor\":1,\"fLineStyle\":1,\"fLineWidth\":1,\"fFillColor\":0,\"fFillStyle\":0,\"fMarkerColor\":1,\"fMarkerStyle\":21,\"fMarkerSize\":1,\"fObject\":{\"_typename\":\"TH1F\",\"fUniqueID\":0,\"fBits\":50332168,\"fName\":\"c3914e\",\"fTitle\":\"\",\"fLineColor\":1,\"fLineStyle\":1,\"fLineWidth\":1,\"fFillColor\":0,\"fFillStyle\":1001,\"fMarkerColor\":1,\"fMarkerStyle\":1,\"fMarkerSize\":1,\"fNcells\":102,\"fXaxis\":{\"_typename\":\"TAxis\",\"fUniqueID\":0,\"fBits\":50331648,\"fName\":\"xaxis\",\"fTitle\":\" p_{T}^{L1}\\/p_{T}^{GEN}\",\"fNdivisions\":510,\"fAxisColor\":1,\"fLabelColor\":1,\"fLabelFont\":42,\"fLabelOffset\":0.005,\"fLabelSize\":0.035,\"fTickLength\":0.03,\"fTitleOffset\":1,\"fTitleSize\":0.035,\"fTitleColor\":1,\"fTitleFont\":42,\"fNbins\":100,\"fXmin\":0,\"fXmax\":3,\"fXbins\":[],\"fFirst\":0,\"fLast\":0,\"fBits2\":0,\"fTimeDisplay\":false,\"fTimeFormat\":\"\",\"fLabels\":null,\"fModLabs\":null},\"fYaxis\":{\"_typename\":\"TAxis\",\"fUniqueID\":0,\"fBits\":50331648,\"fName\":\"yaxis\",\"fTitle\":\"\",\"fNdivisions\":510,\"fAxisColor\":1,\"fLabelColor\":1,\"fLabelFont\":42,\"fLabelOffset\":0.005,\"fLabelSize\":0.035,\"fTickLength\":0.03,\"fTitleOffset\":0,\"fTitleSize\":0.035,\"fTitleColor\":1,\"fTitleFont\":42,\"fNbins\":1,\"fXmin\":0,\"fXmax\":1,\"fXbins\":[],\"fFirst\":0,\"fLast\":0,\"fBits2\":0,\"fTimeDisplay\":false,\"fTimeFormat\":\"\",\"fLabels\":null,\"fModLabs\":null},\"fZaxis\":{\"_typename\":\"TAxis\",\"fUniqueID\":0,\"fBits\":50331648,\"fName\":\"zaxis\",\"fTitle\":\"\",\"fNdivisions\":510,\"fAxisColor\":1,\"fLabelColor\":1,\"fLabelFont\":42,\"fLabelOffset\":0.005,\"fLabelSize\":0.035,\"fTickLength\":0.03,\"fTitleOffset\":1,\"fTitleSize\":0.035,\"fTitleColor\":1,\"fTitleFont\":42,\"fNbins\":1,\"fXmin\":0,\"fXmax\":1,\"fXbins\":[],\"fFirst\":0,\"fLast\":0,\"fBits2\":0,\"fTimeDisplay\":false,\"fTimeFormat\":\"\",\"fLabels\":null,\"fModLabs\":null},\"fBarOffset\":0,\"fBarWidth\":1000,\"fEntries\":119657,\"fTsumw\":119657,\"fTsumw2\":119657,\"fTsumwx\":117148.94832004,\"fTsumwx2\":115546.901992356,\"fMaximum\":-1111,\"fMinimum\":-1111,\"fNormFactor\":0,\"fContour\":[],\"fSumw2\":[0,19,67,40,39,30,27,36,30,42,49,38,50,56,43,64,75,74,87,105,130,122,162,191,228,349,430,685,986,1731,2893,5670,11831,29192,40084,17602,3995,1233,594,268,150,72,33,26,12,7,3,0,3,3,0,0,0,0,0,0,0,0,0,0,0,0,0,0,0,0,0,0,0,0,0,0,1,0,0,0,0,0,0,0,0,0,0,0,0,0,0,0,0,0,0,0,0,0,0,0,0,0,0,0,0,0],\"fOption\":\"\",\"fFunctions\":{\"_typename\":\"TList\",\"name\":\"TList\",\"arr\":[],\"opt\":[]},\"fBufferSize\":0,\"fBuffer\":[],\"fBinStatErrOpt\":0,\"fStatOverflows\":2,\"fArray\":[0,19,67,40,39,30,27,36,30,42,49,38,50,56,43,64,75,74,87,105,130,122,162,191,228,349,430,685,986,1731,2893,5670,11831,29192,40084,17602,3995,1233,594,268,150,72,33,26,12,7,3,0,3,3,0,0,0,0,0,0,0,0,0,0,0,0,0,0,0,0,0,0,0,0,0,0,1,0,0,0,0,0,0,0,0,0,0,0,0,0,0,0,0,0,0,0,0,0,0,0,0,0,0,0,0,0]},\"fLabel\":\"TkEle EB Corr\",\"fOption\":\"l\"},{\"_typename\":\"TLegendEntry\",\"fUniqueID\":0,\"fBits\":50331656,\"fTextAngle\":0,\"fTextSize\":0,\"fTextAlign\":0,\"fTextColor\":0,\"fTextFont\":42,\"fLineColor\":628,\"fLineStyle\":1,\"fLineWidth\":1,\"fFillColor\":0,\"fFillStyle\":0,\"fMarkerColor\":1,\"fMarkerStyle\":21,\"fMarkerSize\":1,\"fObject\":{\"_typename\":\"TH1F\",\"fUniqueID\":0,\"fBits\":50332168,\"fName\":\"4b4592\",\"fTitle\":\"\",\"fLineColor\":628,\"fLineStyle\":1,\"fLineWidth\":1,\"fFillColor\":0,\"fFillStyle\":1001,\"fMarkerColor\":1,\"fMarkerStyle\":1,\"fMarkerSize\":1,\"fNcells\":102,\"fXaxis\":{\"_typename\":\"TAxis\",\"fUniqueID\":0,\"fBits\":50331648,\"fName\":\"xaxis\",\"fTitle\":\" p_{T}^{L1}\\/p_{T}^{GEN}\",\"fNdivisions\":510,\"fAxisColor\":1,\"fLabelColor\":1,\"fLabelFont\":42,\"fLabelOffset\":0.005,\"fLabelSize\":0.035,\"fTickLength\":0.03,\"fTitleOffset\":1,\"fTitleSize\":0.035,\"fTitleColor\":1,\"fTitleFont\":42,\"fNbins\":100,\"fXmin\":0,\"fXmax\":3,\"fXbins\":[],\"fFirst\":0,\"fLast\":0,\"fBits2\":0,\"fTimeDisplay\":false,\"fTimeFormat\":\"\",\"fLabels\":null,\"fModLabs\":null},\"fYaxis\":{\"_typename\":\"TAxis\",\"fUniqueID\":0,\"fBits\":50331648,\"fName\":\"yaxis\",\"fTitle\":\"\",\"fNdivisions\":510,\"fAxisColor\":1,\"fLabelColor\":1,\"fLabelFont\":42,\"fLabelOffset\":0.005,\"fLabelSize\":0.035,\"fTickLength\":0.03,\"fTitleOffset\":0,\"fTitleSize\":0.035,\"fTitleColor\":1,\"fTitleFont\":42,\"fNbins\":1,\"fXmin\":0,\"fXmax\":1,\"fXbins\":[],\"fFirst\":0,\"fLast\":0,\"fBits2\":0,\"fTimeDisplay\":false,\"fTimeFormat\":\"\",\"fLabels\":null,\"fModLabs\":null},\"fZaxis\":{\"_typename\":\"TAxis\",\"fUniqueID\":0,\"fBits\":50331648,\"fName\":\"zaxis\",\"fTitle\":\"\",\"fNdivisions\":510,\"fAxisColor\":1,\"fLabelColor\":1,\"fLabelFont\":42,\"fLabelOffset\":0.005,\"fLabelSize\":0.035,\"fTickLength\":0.03,\"fTitleOffset\":1,\"fTitleSize\":0.035,\"fTitleColor\":1,\"fTitleFont\":42,\"fNbins\":1,\"fXmin\":0,\"fXmax\":1,\"fXbins\":[],\"fFirst\":0,\"fLast\":0,\"fBits2\":0,\"fTimeDisplay\":false,\"fTimeFormat\":\"\",\"fLabels\":null,\"fModLabs\":null},\"fBarOffset\":0,\"fBarWidth\":1000,\"fEntries\":141377,\"fTsumw\":141377,\"fTsumw2\":141377,\"fTsumwx\":138100.327599278,\"fTsumwx2\":135934.724415236,\"fMaximum\":-1111,\"fMinimum\":-1111,\"fNormFactor\":0,\"fContour\":[],\"fSumw2\":[0,23,74,56,56,25,43,34,38,46,52,39,57,65,44,79,90,110,108,128,157,176,188,237,293,440,582,872,1304,2269,3804,7344,14645,34461,46074,19961,4613,1444,666,325,173,85,34,31,12,8,3,1,4,2,0,0,0,0,0,0,0,0,0,1,0,0,0,0,0,0,0,0,0,0,0,0,1,0,0,0,0,0,0,0,0,0,0,0,0,0,0,0,0,0,0,0,0,0,0,0,0,0,0,0,0,0],\"fOption\":\"\",\"fFunctions\":{\"_typename\":\"TList\",\"name\":\"TList\",\"arr\":[],\"opt\":[]},\"fBufferSize\":0,\"fBuffer\":[],\"fBinStatErrOpt\":0,\"fStatOverflows\":2,\"fArray\":[0,23,74,56,56,25,43,34,38,46,52,39,57,65,44,79,90,110,108,128,157,176,188,237,293,440,582,872,1304,2269,3804,7344,14645,34461,46074,19961,4613,1444,666,325,173,85,34,31,12,8,3,1,4,2,0,0,0,0,0,0,0,0,0,1,0,0,0,0,0,0,0,0,0,0,0,0,1,0,0,0,0,0,0,0,0,0,0,0,0,0,0,0,0,0,0,0,0,0,0,0,0,0,0,0,0,0]},\"fLabel\":\"TkEle EB\",\"fOption\":\"l\"}],\"opt\":[\"l\",\"l\"]},\"fEntrySeparation\":0.1,\"fMargin\":0.25,\"fNColumns\":1,\"fColumnSeparation\":0},{\"_typename\":\"TLatex\",\"fUniqueID\":0,\"fBits\":50348040,\"fName\":\"\",\"fTitle\":\"PU200, LooseTkID, |#eta^{GEN}| <= 1.479\",\"fTextAngle\":0,\"fTextSize\":0.03,\"fTextAlign\":11,\"fTextColor\":1,\"fTextFont\":62,\"fX\":0.15,\"fY\":0.85,\"fLineColor\":1,\"fLineStyle\":1,\"fLineWidth\":2,\"fLimitFactorSize\":3,\"fOriginSize\":0.04},{\"_typename\":\"TLatex\",\"fUniqueID\":0,\"fBits\":50331656,\"fName\":\"\",\"fTitle\":\"\",\"fTextAngle\":0,\"fTextSize\":0.03,\"fTextAlign\":11,\"fTextColor\":1,\"fTextFont\":62,\"fX\":0,\"fY\":0,\"fLineColor\":1,\"fLineStyle\":1,\"fLineWidth\":2,\"fLimitFactorSize\":3,\"fOriginSize\":0.04},{\"_typename\":\"TLine\",\"fUniqueID\":0,\"fBits\":50331656,\"fLineColor\":1,\"fLineStyle\":2,\"fLineWidth\":1,\"fX1\":1,\"fY1\":0,\"fX2\":1,\"fY2\":0.401989030838013}],\"opt\":[\"\",\"HIST\",\"SAME,HIST\",\"same\",\"same\",\"same\",\"same\"]},\"fExecs\":null,\"fName\":\"c_d6112d\",\"fTitle\":\"c_d6112d\",\"fNumPaletteColor\":0,\"fNextPaletteColor\":0,\"fDISPLAY\":\"$DISPLAY\",\"fDoubleBuffer\":0,\"fRetained\":true,\"fXsizeUser\":0,\"fYsizeUser\":0,\"fXsizeReal\":20,\"fYsizeReal\":15,\"fWindowTopX\":0,\"fWindowTopY\":0,\"fWindowWidth\":0,\"fWindowHeight\":0,\"fCw\":796,\"fCh\":572,\"fCatt\":{\"_typename\":\"TAttCanvas\",\"fXBetween\":2,\"fYBetween\":2,\"fTitleFromTop\":1.2,\"fXdate\":0.2,\"fYdate\":0.3,\"fAdate\":1},\"kMoveOpaque\":true,\"kResizeOpaque\":true,\"fHighLightColor\":2,\"fBatch\":true,\"kShowEventStatus\":false,\"kAutoExec\":true,\"kMenuBar\":true});\n",
       "       Core.draw(\"root_plot_9\", obj, \"\");\n",
       "     }\n",
       " );\n",
       "</script>\n"
      ],
      "text/plain": [
       "<IPython.core.display.HTML object>"
      ]
     },
     "metadata": {},
     "output_type": "display_data"
    }
   ],
   "source": [
    "hsets, labels, text = hplot.get_histo(histos.EGResoHistos, ['dele-V11'], ['PU200'], ['PFtkEleEB', 'tkEleEB'], ['LooseTkID'], 'GENEtaF')   \n",
    "c1 = draw([his.h_ptResp for his in hsets], labels, y_axis_label='a.u.', min_x=0, max_x=2, norm=True, text=text, options='hist', v_lines=[1.])\n"
   ]
  },
  {
   "cell_type": "code",
   "execution_count": null,
   "metadata": {},
   "outputs": [],
   "source": [
    "hsets, labels, text = hplot.get_histo(histos.EGResoHistos, ['dele-V11'], ['PU200'], ['PFEgEE', 'EgEE'], ['EGq4'], 'GENEtaBC')   \n",
    "c1 = draw([his.h_ptResp for his in hsets], labels, y_axis_label='a.u.', norm=True, text=text, options='hist', do_write=True, write_name='egammaEndcap_EG_hwqual4_EtaBC_ptResp')\n"
   ]
  },
  {
   "cell_type": "code",
   "execution_count": null,
   "metadata": {},
   "outputs": [],
   "source": [
    "hsets, labels, text = hplot.get_histo(histos.EGResoHistos, sample, ['PU200'], 'EG', ['EGq2', 'EGq3', 'EGq4', 'EGq5'], 'GENEtaD')   \n",
    "c1 = draw([his.h_ptRes for his in hsets], labels, y_axis_label='a.u.', norm=True, text=text, options='hist', do_write=True, write_name='egammaEndcap_EG_hwqual4_EtaBC_ptResp')\n"
   ]
  },
  {
   "cell_type": "code",
   "execution_count": null,
   "metadata": {},
   "outputs": [],
   "source": [
    "hsets, labels, text = hplot.get_histo(histos.EGResoHistos, sample, ['PU200'], 'TkEleEL', ['EGq2', 'EGq3', 'EGq4', 'EGq5'], 'GENEtaBC')   \n",
    "c1 = draw([his.h_ptResp for his in hsets], labels, y_axis_label='a.u.', norm=True, text=text, options='hist', \n",
    "          do_write=False, write_name='figs/egammaEndcap_EG_hwqual4_EtaBC_ptResp')\n"
   ]
  },
  {
   "cell_type": "code",
   "execution_count": null,
   "metadata": {},
   "outputs": [],
   "source": [
    "sample='ele-V9'"
   ]
  },
  {
   "cell_type": "code",
   "execution_count": null,
   "metadata": {},
   "outputs": [],
   "source": [
    "hsets, labels, text = hplot.get_histo(histos.EGResoHistos, sample, ['PU200'], 'EG', 'EGq4', 'GENEtaBC')   \n",
    "c1 = draw([his.h_ptResp for his in hsets], labels, y_axis_label='a.u.', norm=True, text=text, options='hist', \n",
    "          do_write=True, write_name='figs/egammaEndcap_EG_hwqual4_EtaBC_ptResp')\n",
    "hsets, labels, text = hplot.get_histo(histos.EGResoHistos, sample, ['PU200'], 'EG', 'EGq4', 'GENEtaD')            \n",
    "c2 = draw([his.h_ptResp for his in hsets], labels, y_axis_label='a.u.', norm=True, text=text, options='hist', \n",
    "          do_write=True, write_name='figs/egammaEndcap_EG_hwqual4_EtaD_ptResp')\n"
   ]
  },
  {
   "cell_type": "code",
   "execution_count": null,
   "metadata": {
    "scrolled": false
   },
   "outputs": [],
   "source": [
    "\n",
    "for tp in tps:\n",
    "    for pu in ['PU0', 'PU200']:\n",
    "        for gen_sel in ['GENEtaBC', 'GENEtaBCLBrem',  'GENEtaBCHBrem']:\n",
    "            hsets, labels, text = hplot.get_histo(histos.EGResoHistos, sample, pu, tp, ['EGq3', 'EGq4'], gen_sel)            \n",
    "            draw([his.h_ptResp for his in hsets], labels, norm=True, text=text, options='hist')\n"
   ]
  },
  {
   "cell_type": "code",
   "execution_count": null,
   "metadata": {
    "scrolled": false
   },
   "outputs": [],
   "source": [
    "for tp in tps:\n",
    "    for pu in ['PU0', 'PU200']:\n",
    "        for gen_sel in ['GENEtaBC', 'GENEtaBCLBrem',  'GENEtaBCHBrem']:\n",
    "            hsets, labels, text = hplot.get_histo(histos.EGResoHistos, sample, pu, tp, ['EGq3Pt30', 'EGq4Pt30'], gen_sel)            \n",
    "            draw([his.h_ptResp for his in hsets], labels, norm=True, text=text, options='hist')\n"
   ]
  },
  {
   "cell_type": "code",
   "execution_count": null,
   "metadata": {},
   "outputs": [],
   "source": [
    "for tp in tps:\n",
    "    for tp_sel in tp_select[tp]:\n",
    "        for gen_sel in gen_select[tp]:\n",
    "            hsets, labels, text = hplot.get_histo(histos.EGResoHistos, ['ele-V9'], ['PU0', 'PU200'], tp, tp_sel, gen_sel)            \n",
    "            draw([his.h_ptRespVpt for his in hsets], labels, options=\"COLZ\", do_profile=False, text=text)\n"
   ]
  },
  {
   "cell_type": "code",
   "execution_count": null,
   "metadata": {},
   "outputs": [],
   "source": []
  },
  {
   "cell_type": "code",
   "execution_count": null,
   "metadata": {},
   "outputs": [],
   "source": []
  }
 ],
 "metadata": {
  "kernelspec": {
   "display_name": "HGCTPGPerformance",
   "language": "python",
   "name": "hgctpgperformance"
  },
  "language_info": {
   "codemirror_mode": {
    "name": "ipython",
    "version": 2
   },
   "file_extension": ".py",
   "mimetype": "text/x-python",
   "name": "python",
   "nbconvert_exporter": "python",
   "pygments_lexer": "ipython2",
   "version": "2.7.16"
  },
  "toc": {
   "base_numbering": 1,
   "nav_menu": {},
   "number_sections": true,
   "sideBar": true,
   "skip_h1_title": false,
   "title_cell": "Table of Contents",
   "title_sidebar": "Contents",
   "toc_cell": false,
   "toc_position": {
    "height": "calc(100% - 180px)",
    "left": "10px",
    "top": "150px",
    "width": "341px"
   },
   "toc_section_display": true,
   "toc_window_display": true
  }
 },
 "nbformat": 4,
 "nbformat_minor": 2
}
