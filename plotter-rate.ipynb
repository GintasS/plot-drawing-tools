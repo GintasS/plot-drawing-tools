{
 "cells": [
  {
   "cell_type": "markdown",
   "metadata": {},
   "source": [
    "# Rate performance\n",
    "\n",
    "   * [Comparison new vs old EG ID](#Comparisono-baseline-vs-Manos-EGID)\n",
    "\n",
    "\n"
   ]
  },
  {
   "cell_type": "code",
   "execution_count": 1,
   "metadata": {},
   "outputs": [
    {
     "name": "stdout",
     "output_type": "stream",
     "text": [
      "Welcome to JupyROOT 6.14/02\n"
     ]
    }
   ],
   "source": [
    "import sys\n",
    "sys.path.insert(0, '..')\n",
    "# sys.path.insert(1, '../python/')\n",
    "sys.path.insert(1, 'python/')\n",
    "\n",
    "import ROOT\n",
    "import root_numpy as rnp\n",
    "# import python.l1THistos as histos\n",
    "import math\n",
    "import uuid\n",
    "import pandas as pd\n",
    "\n",
    "from drawingTools import *\n",
    "\n",
    "# ROOT.enableJSVis()\n",
    "ROOT.enableJSVis()\n",
    "\n",
    "#from drawingTools import *\n",
    "\n",
    "normalized_histos = list()"
   ]
  },
  {
   "cell_type": "code",
   "execution_count": 2,
   "metadata": {},
   "outputs": [],
   "source": [
    "# %load python/drawingTools.py\n"
   ]
  },
  {
   "cell_type": "code",
   "execution_count": 7,
   "metadata": {},
   "outputs": [],
   "source": [
    "# %load samples.py\n",
    "import ROOT\n",
    "import pandas as pd\n",
    "\n",
    "version = 'v101'\n",
    "\n",
    "version_TDR = 'v128'\n",
    "# version_V8 = version\n",
    "version_V9 = 'v132'\n",
    "version_V10 = 'v133'\n",
    "\n",
    "# -------------------------------------------------------------------------\n",
    "\n",
    "samples_ele = [\n",
    "    Sample('ele_flat2to100_PU0', 'PU0', version, 'ele'),\n",
    "    Sample('ele_flat2to100_PU200', 'PU200', version, 'ele')\n",
    "    ]\n",
    "\n",
    "samples_ele_V8 = [\n",
    "    Sample('ele_flat2to100_PU0', 'PU0', version, 'V8'),\n",
    "    Sample('ele_flat2to100_PU200', 'PU200', version, 'V8')\n",
    "    ]\n",
    "\n",
    "\n",
    "samples_ele_V9 = [\n",
    "    Sample('all_flat5to80_PU0', 'PU0', 'v75t', 'V9'),\n",
    "    Sample('all_flat5to80_PU200', 'PU200', 'v75t', 'V9')\n",
    "    ]\n",
    "\n",
    "samples_photons = [\n",
    "    Sample('photon_flat8to150_PU0', 'PU0', version, 'photon'),\n",
    "    Sample('photon_flat8to150_PU200', 'PU200', version, 'photon')\n",
    "    ]\n",
    "\n",
    "samples_pions = [\n",
    "    Sample('pion_flat2to100_PU0', 'PU0', version, 'pions'),\n",
    "    ]\n",
    "\n",
    "# samples_nugus = [\n",
    "#     Sample('nugun_alleta_pu0', 'PU0', version, 'mb'),\n",
    "#     Sample('nugun_alleta_pu200', 'PU200', version, 'mb')\n",
    "#     ]\n",
    "\n",
    "\n",
    "samples_nugunrates_TDR = [\n",
    "    Sample('nugun_alleta_pu200_rate', 'PU200', version_TDR, 'TDR')\n",
    "    ]\n",
    "\n",
    "\n",
    "samples_nugunrates_V9 = [\n",
    "    Sample('nugun_alleta_pu200_rate', 'PU200', version_V9, 'V9')\n",
    "    ]\n",
    "\n",
    "samples_nugunrates_V10 = [\n",
    "    Sample('nugun_alleta_pu200_rate', 'PU200', version_V10, 'V10')\n",
    "    ]\n",
    "\n",
    "\n",
    "\n",
    "\n",
    "\n",
    "\n"
   ]
  },
  {
   "cell_type": "code",
   "execution_count": 8,
   "metadata": {},
   "outputs": [
    {
     "name": "stdout",
     "output_type": "stream",
     "text": [
      "--- RateHistos\n",
      "# of plots: 252\n",
      "# of primitives: 84\n",
      "--- TPs: \n",
      "['HMvDRshapeDrCalib']\n",
      "--- TP selections:\n",
      "{   'HMvDRshapeDrCalib': [   'EmEtaBCD',\n",
      "                             'EmEtaBC',\n",
      "                             'EtaBCD',\n",
      "                             'EmEtaD',\n",
      "                             'all',\n",
      "                             'EmEtaBCDE',\n",
      "                             'EtaDE',\n",
      "                             'EtaD',\n",
      "                             'EtaBCDE',\n",
      "                             'Em',\n",
      "                             'EtaBC',\n",
      "                             'EmEtaDE']}\n",
      "--- GEN selections:\n",
      "{   'HMvDRshapeDrCalib': [None]}\n"
     ]
    }
   ],
   "source": [
    "# %load python/settings.py\n",
    "\n",
    "# === samples =====================================================\n",
    "import pprint\n",
    "import python.plotters_config as plotters\n",
    "\n",
    "\n",
    "\n",
    "samples = []\n",
    "\n",
    "# samples += samples_nugunrates\n",
    "# samples += samples_nugunrates_V8\n",
    "samples += samples_nugunrates_V9\n",
    "samples += samples_nugunrates_V10\n",
    "samples += samples_nugunrates_TDR\n",
    "\n",
    "for smp in samples:\n",
    "    smp.open_file()\n",
    "\n",
    "\n",
    "sample = 'V10'\n",
    "\n",
    "# === TP ==========================================================\n",
    "tps = ['HMvDRshapeDrCalib', \n",
    "      ]\n",
    "\n",
    "# === Load the Histo Primitives ====================================\n",
    "histo_primitives = samples[0].build_file_primitive_index()\n",
    "\n",
    "\n",
    "# print histo_primitives.data.unique()\n",
    "# === TP selections ================================================\n",
    "tp_select = {}\n",
    "\n",
    "for tp in tps:\n",
    "    tp_select[tp] = histo_primitives[histo_primitives.tp == tp].tp_sel.unique().tolist()\n",
    "\n",
    "# ==== GEN selections ===============================================\n",
    "gen_select ={}\n",
    "for tp in tps:\n",
    "    gen_select[tp] = histo_primitives[histo_primitives.tp == tp].gen_sel.unique().tolist()\n",
    "\n",
    "\n",
    "import pprint\n",
    "pp = pprint.PrettyPrinter(indent=4)\n",
    "print '--- TPs: '\n",
    "pp.pprint(tps)\n",
    "print '--- TP selections:'\n",
    "pp.pprint(tp_select)\n",
    "print '--- GEN selections:'\n",
    "pp.pprint(gen_select)\n"
   ]
  },
  {
   "cell_type": "code",
   "execution_count": 9,
   "metadata": {},
   "outputs": [],
   "source": [
    "ROOT.gStyle.SetPadGridX(True)\n",
    "ROOT.gStyle.SetPadGridY(True)\n"
   ]
  },
  {
   "cell_type": "code",
   "execution_count": 10,
   "metadata": {},
   "outputs": [],
   "source": [
    "import python.collections as collections\n",
    "import python.selections as selections\n",
    "\n",
    "labels_dict = {}\n",
    "\n",
    "evm = collections.EventManager()\n",
    "labels_dict.update(evm.get_labels())\n",
    "selm = selections.SelectionManager()\n",
    "labels_dict.update(selm.get_labels())\n",
    "\n"
   ]
  },
  {
   "cell_type": "code",
   "execution_count": 11,
   "metadata": {},
   "outputs": [
    {
     "name": "stdout",
     "output_type": "stream",
     "text": [
      "TP: HMvDRshapeDrCalib\n",
      "['EmEtaBCD' 'EmEtaBC' 'EtaBCD' 'EmEtaD' 'all' 'EmEtaBCDE' 'EtaDE' 'EtaD'\n",
      " 'EtaBCDE' 'Em' 'EtaBC' 'EmEtaDE']\n",
      "[None]\n"
     ]
    }
   ],
   "source": [
    "for tp in tps:\n",
    "    print 'TP: {}'.format(tp)\n",
    "    print histo_primitives[histo_primitives.tp == tp].tp_sel.unique()\n",
    "    print histo_primitives[histo_primitives.tp == tp].gen_sel.unique()"
   ]
  },
  {
   "cell_type": "code",
   "execution_count": 12,
   "metadata": {},
   "outputs": [
    {
     "data": {
      "text/html": [
       "<div>\n",
       "<style scoped>\n",
       "    .dataframe tbody tr th:only-of-type {\n",
       "        vertical-align: middle;\n",
       "    }\n",
       "\n",
       "    .dataframe tbody tr th {\n",
       "        vertical-align: top;\n",
       "    }\n",
       "\n",
       "    .dataframe thead th {\n",
       "        text-align: right;\n",
       "    }\n",
       "</style>\n",
       "<table border=\"1\" class=\"dataframe\">\n",
       "  <thead>\n",
       "    <tr style=\"text-align: right;\">\n",
       "      <th></th>\n",
       "      <th>classtype</th>\n",
       "      <th>gen_sel</th>\n",
       "      <th>tp</th>\n",
       "      <th>tp_sel</th>\n",
       "    </tr>\n",
       "  </thead>\n",
       "  <tbody>\n",
       "    <tr>\n",
       "      <th>0</th>\n",
       "      <td>RateHistos</td>\n",
       "      <td>None</td>\n",
       "      <td>EG</td>\n",
       "      <td>EGq5EtaBCDE</td>\n",
       "    </tr>\n",
       "    <tr>\n",
       "      <th>1</th>\n",
       "      <td>RateHistos</td>\n",
       "      <td>None</td>\n",
       "      <td>EG</td>\n",
       "      <td>EGq5</td>\n",
       "    </tr>\n",
       "    <tr>\n",
       "      <th>2</th>\n",
       "      <td>RateHistos</td>\n",
       "      <td>None</td>\n",
       "      <td>EG</td>\n",
       "      <td>EGq3EtaD</td>\n",
       "    </tr>\n",
       "    <tr>\n",
       "      <th>3</th>\n",
       "      <td>RateHistos</td>\n",
       "      <td>None</td>\n",
       "      <td>HMvDREmInt</td>\n",
       "      <td>all</td>\n",
       "    </tr>\n",
       "    <tr>\n",
       "      <th>4</th>\n",
       "      <td>RateHistos</td>\n",
       "      <td>None</td>\n",
       "      <td>HMvDR</td>\n",
       "      <td>EmEtaBCD</td>\n",
       "    </tr>\n",
       "    <tr>\n",
       "      <th>5</th>\n",
       "      <td>RateHistos</td>\n",
       "      <td>None</td>\n",
       "      <td>HMvDRshapeDr</td>\n",
       "      <td>all</td>\n",
       "    </tr>\n",
       "    <tr>\n",
       "      <th>6</th>\n",
       "      <td>RateHistos</td>\n",
       "      <td>None</td>\n",
       "      <td>EG</td>\n",
       "      <td>EGq2EtaBCD</td>\n",
       "    </tr>\n",
       "    <tr>\n",
       "      <th>7</th>\n",
       "      <td>RateHistos</td>\n",
       "      <td>None</td>\n",
       "      <td>EG</td>\n",
       "      <td>EGq2EtaBC</td>\n",
       "    </tr>\n",
       "    <tr>\n",
       "      <th>8</th>\n",
       "      <td>RateHistos</td>\n",
       "      <td>None</td>\n",
       "      <td>EG</td>\n",
       "      <td>EGq3EtaBCD</td>\n",
       "    </tr>\n",
       "    <tr>\n",
       "      <th>9</th>\n",
       "      <td>RateHistos</td>\n",
       "      <td>None</td>\n",
       "      <td>HMvDRshapeDrCalib</td>\n",
       "      <td>EmEtaBCD</td>\n",
       "    </tr>\n",
       "  </tbody>\n",
       "</table>\n",
       "</div>"
      ],
      "text/plain": [
       "    classtype gen_sel                 tp       tp_sel\n",
       "0  RateHistos    None                 EG  EGq5EtaBCDE\n",
       "1  RateHistos    None                 EG         EGq5\n",
       "2  RateHistos    None                 EG     EGq3EtaD\n",
       "3  RateHistos    None         HMvDREmInt          all\n",
       "4  RateHistos    None              HMvDR     EmEtaBCD\n",
       "5  RateHistos    None       HMvDRshapeDr          all\n",
       "6  RateHistos    None                 EG   EGq2EtaBCD\n",
       "7  RateHistos    None                 EG    EGq2EtaBC\n",
       "8  RateHistos    None                 EG   EGq3EtaBCD\n",
       "9  RateHistos    None  HMvDRshapeDrCalib     EmEtaBCD"
      ]
     },
     "execution_count": 12,
     "metadata": {},
     "output_type": "execute_result"
    }
   ],
   "source": [
    "histo_primitives[:10]"
   ]
  },
  {
   "cell_type": "markdown",
   "metadata": {},
   "source": [
    "\n"
   ]
  },
  {
   "cell_type": "code",
   "execution_count": 13,
   "metadata": {},
   "outputs": [
    {
     "name": "stdout",
     "output_type": "stream",
     "text": [
      "--- RateHistos\n",
      "# of plots: 252\n",
      "# of primitives: 84\n",
      "--- RateHistos\n",
      "# of plots: 252\n",
      "# of primitives: 84\n",
      "--- RateHistos\n",
      "# of plots: 216\n",
      "# of primitives: 72\n",
      "CPU times: user 1.17 s, sys: 44.5 ms, total: 1.21 s\n",
      "Wall time: 1.73 s\n"
     ]
    }
   ],
   "source": [
    "%%time\n",
    "\n",
    "import python.l1THistos as histos\n",
    "\n",
    "hplot = HPlot(samples, labels_dict)\n",
    "\n",
    "hplot.create_histo_proxies(histos.RateHistos)\n"
   ]
  },
  {
   "cell_type": "code",
   "execution_count": 14,
   "metadata": {},
   "outputs": [
    {
     "data": {
      "text/plain": [
       "array(['V9', 'V10', 'TDR'], dtype=object)"
      ]
     },
     "execution_count": 14,
     "metadata": {},
     "output_type": "execute_result"
    }
   ],
   "source": [
    "hplot.data['sample'].unique()"
   ]
  },
  {
   "cell_type": "code",
   "execution_count": 15,
   "metadata": {},
   "outputs": [
    {
     "data": {
      "text/html": [
       "<div>\n",
       "<style scoped>\n",
       "    .dataframe tbody tr th:only-of-type {\n",
       "        vertical-align: middle;\n",
       "    }\n",
       "\n",
       "    .dataframe tbody tr th {\n",
       "        vertical-align: top;\n",
       "    }\n",
       "\n",
       "    .dataframe thead th {\n",
       "        text-align: right;\n",
       "    }\n",
       "</style>\n",
       "<table border=\"1\" class=\"dataframe\">\n",
       "  <thead>\n",
       "    <tr style=\"text-align: right;\">\n",
       "      <th></th>\n",
       "      <th>sample</th>\n",
       "      <th>pu</th>\n",
       "      <th>tp</th>\n",
       "      <th>tp_sel</th>\n",
       "      <th>gen_sel</th>\n",
       "      <th>classtype</th>\n",
       "      <th>histo</th>\n",
       "    </tr>\n",
       "  </thead>\n",
       "  <tbody>\n",
       "    <tr>\n",
       "      <th>0</th>\n",
       "      <td>V9</td>\n",
       "      <td>PU200</td>\n",
       "      <td>EG</td>\n",
       "      <td>EGq5EtaBCDE</td>\n",
       "      <td>None</td>\n",
       "      <td>python.l1THistos.RateHistos</td>\n",
       "      <td>&lt;drawingTools.HProxy instance at 0x124238248&gt;</td>\n",
       "    </tr>\n",
       "    <tr>\n",
       "      <th>1</th>\n",
       "      <td>V9</td>\n",
       "      <td>PU200</td>\n",
       "      <td>EG</td>\n",
       "      <td>EGq5</td>\n",
       "      <td>None</td>\n",
       "      <td>python.l1THistos.RateHistos</td>\n",
       "      <td>&lt;drawingTools.HProxy instance at 0x10dc2d758&gt;</td>\n",
       "    </tr>\n",
       "    <tr>\n",
       "      <th>2</th>\n",
       "      <td>V9</td>\n",
       "      <td>PU200</td>\n",
       "      <td>EG</td>\n",
       "      <td>EGq3EtaD</td>\n",
       "      <td>None</td>\n",
       "      <td>python.l1THistos.RateHistos</td>\n",
       "      <td>&lt;drawingTools.HProxy instance at 0x12414ffc8&gt;</td>\n",
       "    </tr>\n",
       "    <tr>\n",
       "      <th>3</th>\n",
       "      <td>V9</td>\n",
       "      <td>PU200</td>\n",
       "      <td>HMvDREmInt</td>\n",
       "      <td>all</td>\n",
       "      <td>None</td>\n",
       "      <td>python.l1THistos.RateHistos</td>\n",
       "      <td>&lt;drawingTools.HProxy instance at 0x12414ff80&gt;</td>\n",
       "    </tr>\n",
       "    <tr>\n",
       "      <th>4</th>\n",
       "      <td>V9</td>\n",
       "      <td>PU200</td>\n",
       "      <td>HMvDR</td>\n",
       "      <td>EmEtaBCD</td>\n",
       "      <td>None</td>\n",
       "      <td>python.l1THistos.RateHistos</td>\n",
       "      <td>&lt;drawingTools.HProxy instance at 0x12415e1b8&gt;</td>\n",
       "    </tr>\n",
       "    <tr>\n",
       "      <th>5</th>\n",
       "      <td>V9</td>\n",
       "      <td>PU200</td>\n",
       "      <td>HMvDRshapeDr</td>\n",
       "      <td>all</td>\n",
       "      <td>None</td>\n",
       "      <td>python.l1THistos.RateHistos</td>\n",
       "      <td>&lt;drawingTools.HProxy instance at 0x12415e518&gt;</td>\n",
       "    </tr>\n",
       "    <tr>\n",
       "      <th>6</th>\n",
       "      <td>V9</td>\n",
       "      <td>PU200</td>\n",
       "      <td>EG</td>\n",
       "      <td>EGq2EtaBCD</td>\n",
       "      <td>None</td>\n",
       "      <td>python.l1THistos.RateHistos</td>\n",
       "      <td>&lt;drawingTools.HProxy instance at 0x12424f7e8&gt;</td>\n",
       "    </tr>\n",
       "    <tr>\n",
       "      <th>7</th>\n",
       "      <td>V9</td>\n",
       "      <td>PU200</td>\n",
       "      <td>EG</td>\n",
       "      <td>EGq2EtaBC</td>\n",
       "      <td>None</td>\n",
       "      <td>python.l1THistos.RateHistos</td>\n",
       "      <td>&lt;drawingTools.HProxy instance at 0x12418e368&gt;</td>\n",
       "    </tr>\n",
       "    <tr>\n",
       "      <th>8</th>\n",
       "      <td>V9</td>\n",
       "      <td>PU200</td>\n",
       "      <td>EG</td>\n",
       "      <td>EGq3EtaBCD</td>\n",
       "      <td>None</td>\n",
       "      <td>python.l1THistos.RateHistos</td>\n",
       "      <td>&lt;drawingTools.HProxy instance at 0x12418e6c8&gt;</td>\n",
       "    </tr>\n",
       "    <tr>\n",
       "      <th>9</th>\n",
       "      <td>V9</td>\n",
       "      <td>PU200</td>\n",
       "      <td>HMvDRshapeDrCalib</td>\n",
       "      <td>EmEtaBCD</td>\n",
       "      <td>None</td>\n",
       "      <td>python.l1THistos.RateHistos</td>\n",
       "      <td>&lt;drawingTools.HProxy instance at 0x12424ffc8&gt;</td>\n",
       "    </tr>\n",
       "  </tbody>\n",
       "</table>\n",
       "</div>"
      ],
      "text/plain": [
       "  sample     pu                 tp       tp_sel gen_sel  \\\n",
       "0     V9  PU200                 EG  EGq5EtaBCDE    None   \n",
       "1     V9  PU200                 EG         EGq5    None   \n",
       "2     V9  PU200                 EG     EGq3EtaD    None   \n",
       "3     V9  PU200         HMvDREmInt          all    None   \n",
       "4     V9  PU200              HMvDR     EmEtaBCD    None   \n",
       "5     V9  PU200       HMvDRshapeDr          all    None   \n",
       "6     V9  PU200                 EG   EGq2EtaBCD    None   \n",
       "7     V9  PU200                 EG    EGq2EtaBC    None   \n",
       "8     V9  PU200                 EG   EGq3EtaBCD    None   \n",
       "9     V9  PU200  HMvDRshapeDrCalib     EmEtaBCD    None   \n",
       "\n",
       "                     classtype                                          histo  \n",
       "0  python.l1THistos.RateHistos  <drawingTools.HProxy instance at 0x124238248>  \n",
       "1  python.l1THistos.RateHistos  <drawingTools.HProxy instance at 0x10dc2d758>  \n",
       "2  python.l1THistos.RateHistos  <drawingTools.HProxy instance at 0x12414ffc8>  \n",
       "3  python.l1THistos.RateHistos  <drawingTools.HProxy instance at 0x12414ff80>  \n",
       "4  python.l1THistos.RateHistos  <drawingTools.HProxy instance at 0x12415e1b8>  \n",
       "5  python.l1THistos.RateHistos  <drawingTools.HProxy instance at 0x12415e518>  \n",
       "6  python.l1THistos.RateHistos  <drawingTools.HProxy instance at 0x12424f7e8>  \n",
       "7  python.l1THistos.RateHistos  <drawingTools.HProxy instance at 0x12418e368>  \n",
       "8  python.l1THistos.RateHistos  <drawingTools.HProxy instance at 0x12418e6c8>  \n",
       "9  python.l1THistos.RateHistos  <drawingTools.HProxy instance at 0x12424ffc8>  "
      ]
     },
     "execution_count": 15,
     "metadata": {},
     "output_type": "execute_result"
    }
   ],
   "source": [
    "hplot.data[:10]"
   ]
  },
  {
   "cell_type": "markdown",
   "metadata": {},
   "source": [
    "#### 3D clusters matched to GEN"
   ]
  },
  {
   "cell_type": "code",
   "execution_count": 22,
   "metadata": {},
   "outputs": [],
   "source": [
    "# version_V9 = 'v113'\n",
    "scaling_params =  pd.read_csv(r'scaling_params_{}.csv'.format(version_V9))"
   ]
  },
  {
   "cell_type": "code",
   "execution_count": 23,
   "metadata": {},
   "outputs": [
    {
     "data": {
      "text/html": [
       "<div>\n",
       "<style scoped>\n",
       "    .dataframe tbody tr th:only-of-type {\n",
       "        vertical-align: middle;\n",
       "    }\n",
       "\n",
       "    .dataframe tbody tr th {\n",
       "        vertical-align: top;\n",
       "    }\n",
       "\n",
       "    .dataframe thead th {\n",
       "        text-align: right;\n",
       "    }\n",
       "</style>\n",
       "<table border=\"1\" class=\"dataframe\">\n",
       "  <thead>\n",
       "    <tr style=\"text-align: right;\">\n",
       "      <th></th>\n",
       "      <th>Unnamed: 0</th>\n",
       "      <th>sample</th>\n",
       "      <th>tp</th>\n",
       "      <th>tp_sel</th>\n",
       "      <th>params</th>\n",
       "      <th>pu</th>\n",
       "    </tr>\n",
       "  </thead>\n",
       "  <tbody>\n",
       "    <tr>\n",
       "      <th>0</th>\n",
       "      <td>0</td>\n",
       "      <td>ele-V9</td>\n",
       "      <td>HMvDRshapeDrCalib</td>\n",
       "      <td>EmEtaBC</td>\n",
       "      <td>(5.271743335973486, 1.1808043033534816)</td>\n",
       "      <td>PU0</td>\n",
       "    </tr>\n",
       "    <tr>\n",
       "      <th>1</th>\n",
       "      <td>1</td>\n",
       "      <td>ele-V9</td>\n",
       "      <td>HMvDRshapeDrCalib</td>\n",
       "      <td>EmEtaBC</td>\n",
       "      <td>(3.4956738127780618, 1.1907571622994708)</td>\n",
       "      <td>PU200</td>\n",
       "    </tr>\n",
       "    <tr>\n",
       "      <th>2</th>\n",
       "      <td>2</td>\n",
       "      <td>ele-V9</td>\n",
       "      <td>HMvDRshapeDrCalib</td>\n",
       "      <td>EmEtaBCD</td>\n",
       "      <td>(9.378420571389059, 1.1761804169850674)</td>\n",
       "      <td>PU0</td>\n",
       "    </tr>\n",
       "    <tr>\n",
       "      <th>3</th>\n",
       "      <td>3</td>\n",
       "      <td>ele-V9</td>\n",
       "      <td>HMvDRshapeDrCalib</td>\n",
       "      <td>EmEtaBCD</td>\n",
       "      <td>(5.197103466035959, 1.2289426118055506)</td>\n",
       "      <td>PU200</td>\n",
       "    </tr>\n",
       "    <tr>\n",
       "      <th>4</th>\n",
       "      <td>4</td>\n",
       "      <td>ele-V10</td>\n",
       "      <td>HMvDRshapeDrCalib</td>\n",
       "      <td>EmEtaBC</td>\n",
       "      <td>(6.408504584751154, 1.1957634918762885)</td>\n",
       "      <td>PU0</td>\n",
       "    </tr>\n",
       "    <tr>\n",
       "      <th>5</th>\n",
       "      <td>5</td>\n",
       "      <td>ele-V10</td>\n",
       "      <td>HMvDRshapeDrCalib</td>\n",
       "      <td>EmEtaBC</td>\n",
       "      <td>(4.513770466455423, 1.2311541461266053)</td>\n",
       "      <td>PU200</td>\n",
       "    </tr>\n",
       "    <tr>\n",
       "      <th>6</th>\n",
       "      <td>6</td>\n",
       "      <td>ele-V10</td>\n",
       "      <td>HMvDRshapeDrCalib</td>\n",
       "      <td>EmEtaBCD</td>\n",
       "      <td>(8.73292444949403, 1.1954173272273425)</td>\n",
       "      <td>PU0</td>\n",
       "    </tr>\n",
       "    <tr>\n",
       "      <th>7</th>\n",
       "      <td>7</td>\n",
       "      <td>ele-V10</td>\n",
       "      <td>HMvDRshapeDrCalib</td>\n",
       "      <td>EmEtaBCD</td>\n",
       "      <td>(5.721888752227304, 1.2194421771664512)</td>\n",
       "      <td>PU200</td>\n",
       "    </tr>\n",
       "    <tr>\n",
       "      <th>8</th>\n",
       "      <td>8</td>\n",
       "      <td>ele-TDR</td>\n",
       "      <td>HMvDRshapeDrCalib</td>\n",
       "      <td>EmEtaBC</td>\n",
       "      <td>(6.053394274302458, 1.1611399641752493)</td>\n",
       "      <td>PU0</td>\n",
       "    </tr>\n",
       "    <tr>\n",
       "      <th>9</th>\n",
       "      <td>9</td>\n",
       "      <td>ele-TDR</td>\n",
       "      <td>HMvDRshapeDrCalib</td>\n",
       "      <td>EmEtaBC</td>\n",
       "      <td>(7.010739287881953, 1.1045101837426625)</td>\n",
       "      <td>PU200</td>\n",
       "    </tr>\n",
       "    <tr>\n",
       "      <th>10</th>\n",
       "      <td>10</td>\n",
       "      <td>ele-TDR</td>\n",
       "      <td>HMvDRshapeDrCalib</td>\n",
       "      <td>EmEtaBCD</td>\n",
       "      <td>(5.6052801915733745, 1.3372907153953033)</td>\n",
       "      <td>PU0</td>\n",
       "    </tr>\n",
       "    <tr>\n",
       "      <th>11</th>\n",
       "      <td>11</td>\n",
       "      <td>ele-TDR</td>\n",
       "      <td>HMvDRshapeDrCalib</td>\n",
       "      <td>EmEtaBCD</td>\n",
       "      <td>(6.3775333147368345, 1.235644420306221)</td>\n",
       "      <td>PU200</td>\n",
       "    </tr>\n",
       "  </tbody>\n",
       "</table>\n",
       "</div>"
      ],
      "text/plain": [
       "    Unnamed: 0   sample                 tp    tp_sel  \\\n",
       "0            0   ele-V9  HMvDRshapeDrCalib   EmEtaBC   \n",
       "1            1   ele-V9  HMvDRshapeDrCalib   EmEtaBC   \n",
       "2            2   ele-V9  HMvDRshapeDrCalib  EmEtaBCD   \n",
       "3            3   ele-V9  HMvDRshapeDrCalib  EmEtaBCD   \n",
       "4            4  ele-V10  HMvDRshapeDrCalib   EmEtaBC   \n",
       "5            5  ele-V10  HMvDRshapeDrCalib   EmEtaBC   \n",
       "6            6  ele-V10  HMvDRshapeDrCalib  EmEtaBCD   \n",
       "7            7  ele-V10  HMvDRshapeDrCalib  EmEtaBCD   \n",
       "8            8  ele-TDR  HMvDRshapeDrCalib   EmEtaBC   \n",
       "9            9  ele-TDR  HMvDRshapeDrCalib   EmEtaBC   \n",
       "10          10  ele-TDR  HMvDRshapeDrCalib  EmEtaBCD   \n",
       "11          11  ele-TDR  HMvDRshapeDrCalib  EmEtaBCD   \n",
       "\n",
       "                                      params     pu  \n",
       "0    (5.271743335973486, 1.1808043033534816)    PU0  \n",
       "1   (3.4956738127780618, 1.1907571622994708)  PU200  \n",
       "2    (9.378420571389059, 1.1761804169850674)    PU0  \n",
       "3    (5.197103466035959, 1.2289426118055506)  PU200  \n",
       "4    (6.408504584751154, 1.1957634918762885)    PU0  \n",
       "5    (4.513770466455423, 1.2311541461266053)  PU200  \n",
       "6     (8.73292444949403, 1.1954173272273425)    PU0  \n",
       "7    (5.721888752227304, 1.2194421771664512)  PU200  \n",
       "8    (6.053394274302458, 1.1611399641752493)    PU0  \n",
       "9    (7.010739287881953, 1.1045101837426625)  PU200  \n",
       "10  (5.6052801915733745, 1.3372907153953033)    PU0  \n",
       "11   (6.3775333147368345, 1.235644420306221)  PU200  "
      ]
     },
     "execution_count": 23,
     "metadata": {},
     "output_type": "execute_result"
    }
   ],
   "source": [
    "scaling_params"
   ]
  },
  {
   "cell_type": "code",
   "execution_count": 21,
   "metadata": {},
   "outputs": [],
   "source": [
    "# eval(scaling_params[(scaling_params.pu == 'PU200') & (scaling_params.tp == 'EG') & (scaling_params.tp_sel == 'EGq3EtaBC')].params.iloc[0])"
   ]
  },
  {
   "cell_type": "code",
   "execution_count": 20,
   "metadata": {},
   "outputs": [],
   "source": [
    "def convertRateToGraph(histo_rate, params=None):\n",
    "    xaxis = histo_rate.GetXaxis()\n",
    "    fNpoints = xaxis.GetNbins()\n",
    "    fX = [0]*fNpoints\n",
    "    fEX = [0]*fNpoints\n",
    "    fY = [0]*fNpoints\n",
    "    fEY = [0]*fNpoints\n",
    "\n",
    "    graph = ROOT.TGraphAsymmErrors()\n",
    "    graph.Set(fNpoints)\n",
    "    for i in range(0, fNpoints):\n",
    "        if params is None:\n",
    "            fX[i] = xaxis.GetBinLowEdge(i + 1)\n",
    "        else:\n",
    "            fX[i] = params[0] + params[1]*xaxis.GetBinLowEdge(i + 1)\n",
    "        fY[i] = histo_rate.GetBinContent(i + 1)\n",
    "        fEX[i] = histo_rate.GetBinWidth(i + 1) * ROOT.gStyle.GetErrorX()\n",
    "        fEY[i] = histo_rate.GetBinError(i + 1)\n",
    "    return fX, fY, fEX, fEX, fEY, fEY\n"
   ]
  },
  {
   "cell_type": "code",
   "execution_count": 32,
   "metadata": {},
   "outputs": [
    {
     "name": "stdout",
     "output_type": "stream",
     "text": [
      "normalize to 31000\n",
      "normalize to 31000\n",
      "normalize to 31000\n",
      "normalize to 31000\n",
      "normalize to 31000\n",
      "normalize to 31000\n"
     ]
    }
   ],
   "source": [
    "for sample in samples:\n",
    "    for tp in tps:\n",
    "        for tp_sel in ['EmEtaBC', 'EmEtaBCD']:\n",
    "            hsets, labels, text = hplot.get_histo(histos.RateHistos, sample.type, 'PU200', tp, tp_sel, None)\n",
    "            for his in hsets:\n",
    "                his.normalize(31000)\n",
    "                his.h_pt_graph(\n",
    "                    'online', \n",
    "                    'rate [kHz]', \n",
    "                    convertRateToGraph)\n",
    "                his.h_pt_graph(\n",
    "                    'offline', \n",
    "                    'rate [kHz]', \n",
    "                    lambda x: convertRateToGraph(\n",
    "                        x, \n",
    "                        eval(scaling_params[\n",
    "                                (scaling_params['sample'] == 'ele-'+sample.type) &\n",
    "                                (scaling_params.pu == 'PU200') & \n",
    "                                (scaling_params.tp == tp) & \n",
    "                                (scaling_params.tp_sel == tp_sel)].params.iloc[0])))"
   ]
  },
  {
   "cell_type": "code",
   "execution_count": 37,
   "metadata": {},
   "outputs": [
    {
     "data": {
      "text/plain": [
       "<drawingTools.DrawMachine at 0x12452e510>"
      ]
     },
     "execution_count": 37,
     "metadata": {},
     "output_type": "execute_result"
    },
    {
     "data": {
      "text/html": [
       "\n",
       "<div id=\"root_plot_7\"\n",
       "     style=\"width: 796px; height: 572px\">\n",
       "</div>\n",
       "\n",
       "<script>\n",
       " requirejs.config({\n",
       "     paths: {\n",
       "       'JSRootCore' : 'https://root.cern.ch/js/notebook//scripts/JSRootCore',\n",
       "     }\n",
       "   });\n",
       " require(['JSRootCore'],\n",
       "     function(Core) {\n",
       "       var obj = Core.JSONR_unref({\"_typename\":\"TCanvas\",\"fUniqueID\":0,\"fBits\":53673992,\"fLineColor\":1,\"fLineStyle\":1,\"fLineWidth\":1,\"fFillColor\":0,\"fFillStyle\":1001,\"fLeftMargin\":0.13,\"fRightMargin\":0.3,\"fBottomMargin\":0.13,\"fTopMargin\":0.1,\"fXfile\":2,\"fYfile\":2,\"fAfile\":1,\"fXstat\":0.99,\"fYstat\":0.99,\"fAstat\":2,\"fFrameFillColor\":0,\"fFrameLineColor\":1,\"fFrameFillStyle\":1001,\"fFrameLineStyle\":1,\"fFrameLineWidth\":1,\"fFrameBorderSize\":1,\"fFrameBorderMode\":0,\"fX1\":-13.6842101960961,\"fY1\":-0.776971158114093,\"fX2\":91.5789490195193,\"fY2\":5.19973014378258,\"fXtoAbsPixelk\":103.480046204376,\"fXtoPixelk\":103.480046204376,\"fXtoPixel\":7.56199990510941,\"fYtoAbsPixelk\":497.640051065433,\"fYtoPixelk\":497.640051065433,\"fYtoPixel\":-95.7049668549571,\"fUtoAbsPixelk\":5e-5,\"fUtoPixelk\":5e-5,\"fUtoPixel\":796,\"fVtoAbsPixelk\":572.00005,\"fVtoPixelk\":572,\"fVtoPixel\":-572,\"fAbsPixeltoXk\":-13.6842101960961,\"fPixeltoXk\":-13.6842101960961,\"fPixeltoX\":0.132240149768361,\"fAbsPixeltoYk\":5.19973014378258,\"fPixeltoYk\":-0.776971158114093,\"fPixeltoY\":-0.0104487784998194,\"fXlowNDC\":0,\"fYlowNDC\":0,\"fXUpNDC\":0,\"fYUpNDC\":0,\"fWNDC\":1,\"fHNDC\":1,\"fAbsXlowNDC\":0,\"fAbsYlowNDC\":0,\"fAbsWNDC\":1,\"fAbsHNDC\":1,\"fUxmin\":0,\"fUymin\":0,\"fUxmax\":60,\"fUymax\":4.60205999132796,\"fTheta\":30,\"fPhi\":30,\"fAspectRatio\":0,\"fNumber\":0,\"fTickx\":0,\"fTicky\":0,\"fLogx\":0,\"fLogy\":1,\"fLogz\":0,\"fPadPaint\":0,\"fCrosshair\":0,\"fCrosshairPos\":0,\"fBorderSize\":2,\"fBorderMode\":0,\"fModified\":false,\"fGridx\":true,\"fGridy\":true,\"fAbsCoord\":false,\"fEditable\":true,\"fFixedAspectRatio\":false,\"fPrimitives\":{\"_typename\":\"TList\",\"name\":\"TList\",\"arr\":[{\"_typename\":\"TFrame\",\"fUniqueID\":0,\"fBits\":50331656,\"fLineColor\":1,\"fLineStyle\":1,\"fLineWidth\":1,\"fFillColor\":0,\"fFillStyle\":1001,\"fX1\":0,\"fY1\":0,\"fX2\":60,\"fY2\":4.60205999132796,\"fBorderSize\":1,\"fBorderMode\":0},{\"_typename\":\"TGraphAsymmErrors\",\"fUniqueID\":0,\"fBits\":50332680,\"fName\":\"f929e9\",\"fTitle\":\";; rate [kHz]\",\"fLineColor\":1,\"fLineStyle\":1,\"fLineWidth\":1,\"fFillColor\":0,\"fFillStyle\":1001,\"fMarkerColor\":1,\"fMarkerStyle\":8,\"fMarkerSize\":0.5,\"fNpoints\":100,\"fX\":[0,1,2,3,4,5,6,7,8,9,10,11,12,13,14,15,16,17,18,19,20,21,22,23,24,25,26,27,28,29,30,31,32,33,34,35,36,37,38,39,40,41,42,43,44,45,46,47,48,49,50,51,52,53,54,55,56,57,58,59,60,61,62,63,64,65,66,67,68,69,70,71,72,73,74,75,76,77,78,79,80,81,82,83,84,85,86,87,88,89,90,91,92,93,94,95,96,97,98,99],\"fY\":[30999.845703125,30982.3125,30754.078125,29745.10546875,27433.29296875,24161.537109375,20459.845703125,16872.96875,13506.56640625,10384.689453125,7578.5537109375,5344.62939453125,3772.59765625,2671.46142578125,1863.56860351562,1307.49243164062,933.103088378906,681.286315917969,497.427429199219,379.664672851562,291.071075439453,229.629623413086,177.497497558594,141.656661987305,117.452453613281,97.5925903320312,83.3183212280273,70.130126953125,61.1311302185059,53.5285301208496,46.0810813903809,39.8748741149902,35.375373840332,31.6516513824463,29.0140132904053,26.2212219238281,23.4284286499023,21.4114112854004,19.704704284668,18.3083076477051,16.7567558288574,15.3603601455688,13.963963508606,12.2572574615479,11.481481552124,11.3263263702393,10.860860824585,10.0850849151611,8.99899864196777,7.91291284561157,7.13713693618774,6.67167186737061,6.36136150360107,6.20620632171631,5.89589595794678,5.74074077606201,5.43043041229248,4.96496486663818,4.49949932098389,3.8788788318634,3.41341352462769,2.94794797897339,2.63763761520386,2.32732725143433,2.32732725143433,2.32732725143433,2.32732725143433,2.32732725143433,2.32732725143433,2.32732725143433,2.32732725143433,2.17217206954956,2.01701712608337,1.86186182498932,1.86186182498932,1.86186182498932,1.86186182498932,1.86186182498932,1.55155158042908,1.24124121665955,1.24124121665955,1.08608603477478,1.08608603477478,0.930930912494659,0.930930912494659,0.930930912494659,0.775775790214539,0.775775790214539,0.775775790214539,0.775775790214539,0.775775790214539,0.775775790214539,0.775775790214539,0.775775790214539,0.775775790214539,0.620620608329773,0.620620608329773,0.620620608329773,0.620620608329773,0.620620608329773],\"fFunctions\":{\"_typename\":\"TList\",\"name\":\"TList\",\"arr\":[],\"opt\":[]},\"fHistogram\":{\"_typename\":\"TH1F\",\"fUniqueID\":0,\"fBits\":50332160,\"fName\":\"f929e9\",\"fTitle\":\"\",\"fLineColor\":602,\"fLineStyle\":1,\"fLineWidth\":1,\"fFillColor\":0,\"fFillStyle\":1001,\"fMarkerColor\":1,\"fMarkerStyle\":1,\"fMarkerSize\":1,\"fNcells\":102,\"fXaxis\":{\"_typename\":\"TAxis\",\"fUniqueID\":0,\"fBits\":50331656,\"fName\":\"xaxis\",\"fTitle\":\"online p_{T} thresh. [GeV]\",\"fNdivisions\":510,\"fAxisColor\":1,\"fLabelColor\":1,\"fLabelFont\":42,\"fLabelOffset\":0.005,\"fLabelSize\":0.035,\"fTickLength\":0.03,\"fTitleOffset\":1.4,\"fTitleSize\":0.035,\"fTitleColor\":1,\"fTitleFont\":42,\"fNbins\":100,\"fXmin\":0,\"fXmax\":60,\"fXbins\":[],\"fFirst\":0,\"fLast\":0,\"fBits2\":0,\"fTimeDisplay\":false,\"fTimeFormat\":\"\",\"fLabels\":null,\"fModLabs\":null},\"fYaxis\":{\"_typename\":\"TAxis\",\"fUniqueID\":0,\"fBits\":50331656,\"fName\":\"yaxis\",\"fTitle\":\" rate [kHz]\",\"fNdivisions\":510,\"fAxisColor\":1,\"fLabelColor\":1,\"fLabelFont\":42,\"fLabelOffset\":0.005,\"fLabelSize\":0.035,\"fTickLength\":0.03,\"fTitleOffset\":0,\"fTitleSize\":0.035,\"fTitleColor\":1,\"fTitleFont\":42,\"fNbins\":1,\"fXmin\":1,\"fXmax\":40000,\"fXbins\":[],\"fFirst\":0,\"fLast\":0,\"fBits2\":0,\"fTimeDisplay\":false,\"fTimeFormat\":\"\",\"fLabels\":null,\"fModLabs\":null},\"fZaxis\":{\"_typename\":\"TAxis\",\"fUniqueID\":0,\"fBits\":50331648,\"fName\":\"zaxis\",\"fTitle\":\"\",\"fNdivisions\":510,\"fAxisColor\":1,\"fLabelColor\":1,\"fLabelFont\":42,\"fLabelOffset\":0.005,\"fLabelSize\":0.035,\"fTickLength\":0.03,\"fTitleOffset\":1,\"fTitleSize\":0.035,\"fTitleColor\":1,\"fTitleFont\":42,\"fNbins\":1,\"fXmin\":0,\"fXmax\":1,\"fXbins\":[],\"fFirst\":0,\"fLast\":0,\"fBits2\":0,\"fTimeDisplay\":false,\"fTimeFormat\":\"\",\"fLabels\":null,\"fModLabs\":null},\"fBarOffset\":0,\"fBarWidth\":1000,\"fEntries\":0,\"fTsumw\":0,\"fTsumw2\":0,\"fTsumwx\":0,\"fTsumwx2\":0,\"fMaximum\":40000,\"fMinimum\":1,\"fNormFactor\":0,\"fContour\":[],\"fSumw2\":[],\"fOption\":\"\",\"fFunctions\":{\"_typename\":\"TList\",\"name\":\"TList\",\"arr\":[],\"opt\":[]},\"fBufferSize\":0,\"fBuffer\":[],\"fBinStatErrOpt\":0,\"fStatOverflows\":2,\"fArray\":[0,0,0,0,0,0,0,0,0,0,0,0,0,0,0,0,0,0,0,0,0,0,0,0,0,0,0,0,0,0,0,0,0,0,0,0,0,0,0,0,0,0,0,0,0,0,0,0,0,0,0,0,0,0,0,0,0,0,0,0,0,0,0,0,0,0,0,0,0,0,0,0,0,0,0,0,0,0,0,0,0,0,0,0,0,0,0,0,0,0,0,0,0,0,0,0,0,0,0,0,0,0]},\"fMinimum\":-1111,\"fMaximum\":-1111,\"fEXlow\":[0.5,0.5,0.5,0.5,0.5,0.5,0.5,0.5,0.5,0.5,0.5,0.5,0.5,0.5,0.5,0.5,0.5,0.5,0.5,0.5,0.5,0.5,0.5,0.5,0.5,0.5,0.5,0.5,0.5,0.5,0.5,0.5,0.5,0.5,0.5,0.5,0.5,0.5,0.5,0.5,0.5,0.5,0.5,0.5,0.5,0.5,0.5,0.5,0.5,0.5,0.5,0.5,0.5,0.5,0.5,0.5,0.5,0.5,0.5,0.5,0.5,0.5,0.5,0.5,0.5,0.5,0.5,0.5,0.5,0.5,0.5,0.5,0.5,0.5,0.5,0.5,0.5,0.5,0.5,0.5,0.5,0.5,0.5,0.5,0.5,0.5,0.5,0.5,0.5,0.5,0.5,0.5,0.5,0.5,0.5,0.5,0.5,0.5,0.5,0.5],\"fEXhigh\":[0.5,0.5,0.5,0.5,0.5,0.5,0.5,0.5,0.5,0.5,0.5,0.5,0.5,0.5,0.5,0.5,0.5,0.5,0.5,0.5,0.5,0.5,0.5,0.5,0.5,0.5,0.5,0.5,0.5,0.5,0.5,0.5,0.5,0.5,0.5,0.5,0.5,0.5,0.5,0.5,0.5,0.5,0.5,0.5,0.5,0.5,0.5,0.5,0.5,0.5,0.5,0.5,0.5,0.5,0.5,0.5,0.5,0.5,0.5,0.5,0.5,0.5,0.5,0.5,0.5,0.5,0.5,0.5,0.5,0.5,0.5,0.5,0.5,0.5,0.5,0.5,0.5,0.5,0.5,0.5,0.5,0.5,0.5,0.5,0.5,0.5,0.5,0.5,0.5,0.5,0.5,0.5,0.5,0.5,0.5,0.5,0.5,0.5,0.5,0.5],\"fEYlow\":[69.3526188163622,69.3330042179213,69.0771591133308,67.9345743910196,65.2412206916593,61.2273382576221,56.3422612374788,51.1656912686424,45.7778705407871,40.1402309415622,34.2906933795929,28.796646322654,24.1937588148932,20.3590524716665,17.0041839086304,14.2430404246029,12.032279781393,10.2812975569151,8.78512547895203,7.67508501275237,6.72020663322261,5.96893799711523,5.24782352636557,4.68815107929812,4.26888199457583,3.89127149472991,3.59545082096047,3.29864384579353,3.07974189429257,2.8818791003564,2.67389552616635,2.48732635534696,2.34279146640033,2.21605887172,2.12171483616866,2.01701701701702,1.90657846622012,1.82266037967264,1.7485097985842,1.68541639252856,1.61241967070977,1.54377430181708,1.47193104302132,1.37904918386778,1.33469511150311,1.32564622675097,1.29812116229011,1.25090085183811,1.18162645786677,1.10802943586,1.05231346084526,1.01742039165847,0.993477734536628,0.981287362014212,0.956440611071263,0.943771964160384,0.917910276657098,0.877690098770089,0.835536081187035,0.775775775775776,0.727742184957589,0.676305641890695,0.639721093063801,0.600913331994144,0.600913331994144,0.600913331994144,0.600913331994144,0.600913331994144,0.600913331994144,0.600913331994144,0.600913331994144,0.580537432382343,0.559419867564483,0.537473223569922,0.537473223569922,0.537473223569922,0.537473223569922,0.537473223569922,0.490643681007106,0.438845049385045,0.438845049385045,0.410501955170182,0.410501955170182,0.380050961092485,0.380050961092485,0.380050961092485,0.346937473986454,0.346937473986454,0.346937473986454,0.346937473986454,0.346937473986454,0.346937473986454,0.346937473986454,0.346937473986454,0.346937473986454,0.31031031031031,0.31031031031031,0.31031031031031,0.31031031031031,0.31031031031031],\"fEYhigh\":[69.3526188163622,69.3330042179213,69.0771591133308,67.9345743910196,65.2412206916593,61.2273382576221,56.3422612374788,51.1656912686424,45.7778705407871,40.1402309415622,34.2906933795929,28.796646322654,24.1937588148932,20.3590524716665,17.0041839086304,14.2430404246029,12.032279781393,10.2812975569151,8.78512547895203,7.67508501275237,6.72020663322261,5.96893799711523,5.24782352636557,4.68815107929812,4.26888199457583,3.89127149472991,3.59545082096047,3.29864384579353,3.07974189429257,2.8818791003564,2.67389552616635,2.48732635534696,2.34279146640033,2.21605887172,2.12171483616866,2.01701701701702,1.90657846622012,1.82266037967264,1.7485097985842,1.68541639252856,1.61241967070977,1.54377430181708,1.47193104302132,1.37904918386778,1.33469511150311,1.32564622675097,1.29812116229011,1.25090085183811,1.18162645786677,1.10802943586,1.05231346084526,1.01742039165847,0.993477734536628,0.981287362014212,0.956440611071263,0.943771964160384,0.917910276657098,0.877690098770089,0.835536081187035,0.775775775775776,0.727742184957589,0.676305641890695,0.639721093063801,0.600913331994144,0.600913331994144,0.600913331994144,0.600913331994144,0.600913331994144,0.600913331994144,0.600913331994144,0.600913331994144,0.580537432382343,0.559419867564483,0.537473223569922,0.537473223569922,0.537473223569922,0.537473223569922,0.537473223569922,0.490643681007106,0.438845049385045,0.438845049385045,0.410501955170182,0.410501955170182,0.380050961092485,0.380050961092485,0.380050961092485,0.346937473986454,0.346937473986454,0.346937473986454,0.346937473986454,0.346937473986454,0.346937473986454,0.346937473986454,0.346937473986454,0.346937473986454,0.31031031031031,0.31031031031031,0.31031031031031,0.31031031031031,0.31031031031031]},{\"_typename\":\"TGraphAsymmErrors\",\"fUniqueID\":0,\"fBits\":50332680,\"fName\":\"cda54b\",\"fTitle\":\";; rate [kHz]\",\"fLineColor\":628,\"fLineStyle\":1,\"fLineWidth\":1,\"fFillColor\":0,\"fFillStyle\":1001,\"fMarkerColor\":628,\"fMarkerStyle\":21,\"fMarkerSize\":0.5,\"fNpoints\":100,\"fX\":[0,1,2,3,4,5,6,7,8,9,10,11,12,13,14,15,16,17,18,19,20,21,22,23,24,25,26,27,28,29,30,31,32,33,34,35,36,37,38,39,40,41,42,43,44,45,46,47,48,49,50,51,52,53,54,55,56,57,58,59,60,61,62,63,64,65,66,67,68,69,70,71,72,73,74,75,76,77,78,79,80,81,82,83,84,85,86,87,88,89,90,91,92,93,94,95,96,97,98,99],\"fY\":[10847.654296875,8377.6640625,7016.4482421875,5781.296875,4665.484375,3739.08178710938,2946.56396484375,2306.7001953125,1769.12719726562,1320.54992675781,964.40966796875,705.2421875,511.453063964844,379.288604736328,287.633697509766,223.506561279297,173.299697875977,137.013122558594,107.608474731445,84.6165466308594,71.7911224365234,59.4349136352539,49.4248237609863,43.481330871582,35.5045394897461,30.9687175750732,26.5893039703369,22.9919281005859,19.5509586334229,18.4561042785645,16.4228057861328,14.0766906738281,12.6690216064453,11.5741672515869,11.104944229126,9.38446044921875,8.91523742675781,7.50756788253784,6.72552967071533,6.09989929199219,5.47426843643188,5.00504541397095,4.53582239151001,4.37941455841064,4.06659936904907,3.91019177436829,3.28456115722656,3.28456115722656,2.97174572944641,2.81533813476562,2.50252270698547,2.50252270698547,2.50252270698547,2.34611511230469,2.34611511230469,2.34611511230469,2.34611511230469,2.03329968452454,2.03329968452454,2.03329968452454,2.03329968452454,2.03329968452454,1.87689197063446,1.72048437595367,1.72048437595367,1.5640766620636,1.5640766620636,1.5640766620636,1.40766906738281,1.40766906738281,1.25126135349274,1.25126135349274,1.09485363960266,0.93844598531723,0.93844598531723,0.93844598531723,0.93844598531723,0.93844598531723,0.93844598531723,0.93844598531723,0.782038331031799,0.782038331031799,0.782038331031799,0.782038331031799,0.782038331031799,0.782038331031799,0.625630676746368,0.469222992658615,0.469222992658615,0.469222992658615,0.469222992658615,0.469222992658615,0.312815338373184,0.312815338373184,0.312815338373184,0.312815338373184,0.312815338373184,0.312815338373184,0.312815338373184,0.312815338373184],\"fFunctions\":{\"_typename\":\"TList\",\"name\":\"TList\",\"arr\":[],\"opt\":[]},\"fHistogram\":{\"_typename\":\"TH1F\",\"fUniqueID\":0,\"fBits\":50332160,\"fName\":\"cda54b\",\"fTitle\":\"\",\"fLineColor\":602,\"fLineStyle\":1,\"fLineWidth\":1,\"fFillColor\":0,\"fFillStyle\":1001,\"fMarkerColor\":1,\"fMarkerStyle\":1,\"fMarkerSize\":1,\"fNcells\":102,\"fXaxis\":{\"_typename\":\"TAxis\",\"fUniqueID\":0,\"fBits\":50331656,\"fName\":\"xaxis\",\"fTitle\":\"online p_{T} thresh. [GeV]\",\"fNdivisions\":510,\"fAxisColor\":1,\"fLabelColor\":1,\"fLabelFont\":42,\"fLabelOffset\":0.005,\"fLabelSize\":0.035,\"fTickLength\":0.03,\"fTitleOffset\":1.4,\"fTitleSize\":0.035,\"fTitleColor\":1,\"fTitleFont\":42,\"fNbins\":100,\"fXmin\":0,\"fXmax\":60,\"fXbins\":[],\"fFirst\":0,\"fLast\":0,\"fBits2\":0,\"fTimeDisplay\":false,\"fTimeFormat\":\"\",\"fLabels\":null,\"fModLabs\":null},\"fYaxis\":{\"_typename\":\"TAxis\",\"fUniqueID\":0,\"fBits\":50331656,\"fName\":\"yaxis\",\"fTitle\":\" rate [kHz]\",\"fNdivisions\":510,\"fAxisColor\":1,\"fLabelColor\":1,\"fLabelFont\":42,\"fLabelOffset\":0.005,\"fLabelSize\":0.035,\"fTickLength\":0.03,\"fTitleOffset\":0,\"fTitleSize\":0.035,\"fTitleColor\":1,\"fTitleFont\":42,\"fNbins\":1,\"fXmin\":0.0824593424258287,\"fXmax\":11977.7201006367,\"fXbins\":[],\"fFirst\":0,\"fLast\":0,\"fBits2\":0,\"fTimeDisplay\":false,\"fTimeFormat\":\"\",\"fLabels\":null,\"fModLabs\":null},\"fZaxis\":{\"_typename\":\"TAxis\",\"fUniqueID\":0,\"fBits\":50331648,\"fName\":\"zaxis\",\"fTitle\":\"\",\"fNdivisions\":510,\"fAxisColor\":1,\"fLabelColor\":1,\"fLabelFont\":42,\"fLabelOffset\":0.005,\"fLabelSize\":0.035,\"fTickLength\":0.03,\"fTitleOffset\":1,\"fTitleSize\":0.035,\"fTitleColor\":1,\"fTitleFont\":42,\"fNbins\":1,\"fXmin\":0,\"fXmax\":1,\"fXbins\":[],\"fFirst\":0,\"fLast\":0,\"fBits2\":0,\"fTimeDisplay\":false,\"fTimeFormat\":\"\",\"fLabels\":null,\"fModLabs\":null},\"fBarOffset\":0,\"fBarWidth\":1000,\"fEntries\":0,\"fTsumw\":0,\"fTsumw2\":0,\"fTsumwx\":0,\"fTsumwx2\":0,\"fMaximum\":40000,\"fMinimum\":1,\"fNormFactor\":0,\"fContour\":[],\"fSumw2\":[],\"fOption\":\"\",\"fFunctions\":{\"_typename\":\"TList\",\"name\":\"TList\",\"arr\":[],\"opt\":[]},\"fBufferSize\":0,\"fBuffer\":[],\"fBinStatErrOpt\":0,\"fStatOverflows\":2,\"fArray\":[0,0,0,0,0,0,0,0,0,0,0,0,0,0,0,0,0,0,0,0,0,0,0,0,0,0,0,0,0,0,0,0,0,0,0,0,0,0,0,0,0,0,0,0,0,0,0,0,0,0,0,0,0,0,0,0,0,0,0,0,0,0,0,0,0,0,0,0,0,0,0,0,0,0,0,0,0,0,0,0,0,0,0,0,0,0,0,0,0,0,0,0,0,0,0,0,0,0,0,0,0,0]},\"fMinimum\":-1111,\"fMaximum\":-1111,\"fEXlow\":[0.5,0.5,0.5,0.5,0.5,0.5,0.5,0.5,0.5,0.5,0.5,0.5,0.5,0.5,0.5,0.5,0.5,0.5,0.5,0.5,0.5,0.5,0.5,0.5,0.5,0.5,0.5,0.5,0.5,0.5,0.5,0.5,0.5,0.5,0.5,0.5,0.5,0.5,0.5,0.5,0.5,0.5,0.5,0.5,0.5,0.5,0.5,0.5,0.5,0.5,0.5,0.5,0.5,0.5,0.5,0.5,0.5,0.5,0.5,0.5,0.5,0.5,0.5,0.5,0.5,0.5,0.5,0.5,0.5,0.5,0.5,0.5,0.5,0.5,0.5,0.5,0.5,0.5,0.5,0.5,0.5,0.5,0.5,0.5,0.5,0.5,0.5,0.5,0.5,0.5,0.5,0.5,0.5,0.5,0.5,0.5,0.5,0.5,0.5,0.5],\"fEXhigh\":[0.5,0.5,0.5,0.5,0.5,0.5,0.5,0.5,0.5,0.5,0.5,0.5,0.5,0.5,0.5,0.5,0.5,0.5,0.5,0.5,0.5,0.5,0.5,0.5,0.5,0.5,0.5,0.5,0.5,0.5,0.5,0.5,0.5,0.5,0.5,0.5,0.5,0.5,0.5,0.5,0.5,0.5,0.5,0.5,0.5,0.5,0.5,0.5,0.5,0.5,0.5,0.5,0.5,0.5,0.5,0.5,0.5,0.5,0.5,0.5,0.5,0.5,0.5,0.5,0.5,0.5,0.5,0.5,0.5,0.5,0.5,0.5,0.5,0.5,0.5,0.5,0.5,0.5,0.5,0.5,0.5,0.5,0.5,0.5,0.5,0.5,0.5,0.5,0.5,0.5,0.5,0.5,0.5,0.5,0.5,0.5,0.5,0.5,0.5,0.5],\"fEYlow\":[41.1904874758237,36.1984929837538,33.1274249156027,30.0705692676312,27.0132843890274,24.1830738027266,21.4677716323025,18.9943575168948,16.634453788504,14.371643588488,12.2817373019459,10.5026323085809,8.94400266640504,7.70218445650049,6.70731817269565,5.91254090125641,5.20628482633593,4.62924426029678,4.10253469734333,3.63794958464181,3.35092252197016,3.04894676780099,2.78036354123898,2.6078369930198,2.35651914416196,2.20085098720272,2.03930650415017,1.89634220606683,1.74869090066835,1.69902217571749,1.60270168387865,1.48381343287416,1.40766902119072,1.34546964318023,1.31791444484595,1.21152859467639,1.18085200551662,1.08362411775248,1.02563367433583,0.976765579971495,0.925320248618002,0.88477538715572,0.842281074778858,0.827631590746744,0.797525756414613,0.782038345105954,0.716749982561206,0.716749982561206,0.681765223258127,0.66358154036679,0.625630676084763,0.625630676084763,0.625630676084763,0.605764297338193,0.605764297338193,0.605764297338193,0.605764297338193,0.563935870531704,0.563935870531704,0.563935870531704,0.563935870531704,0.563935870531704,0.541812058876238,0.518745552477383,0.518745552477383,0.494604477624721,0.494604477624721,0.494604477624721,0.469223007063572,0.469223007063572,0.44238769357786,0.44238769357786,0.413815795373372,0.383118980960033,0.383118980960033,0.383118980960033,0.383118980960033,0.383118980960033,0.383118980960033,0.383118980960033,0.34973818013367,0.34973818013367,0.34973818013367,0.34973818013367,0.34973818013367,0.34973818013367,0.312815338042381,0.270906029438119,0.270906029438119,0.270906029438119,0.270906029438119,0.270906029438119,0.22119384678893,0.22119384678893,0.22119384678893,0.22119384678893,0.22119384678893,0.22119384678893,0.22119384678893,0.22119384678893],\"fEYhigh\":[41.1904874758237,36.1984929837538,33.1274249156027,30.0705692676312,27.0132843890274,24.1830738027266,21.4677716323025,18.9943575168948,16.634453788504,14.371643588488,12.2817373019459,10.5026323085809,8.94400266640504,7.70218445650049,6.70731817269565,5.91254090125641,5.20628482633593,4.62924426029678,4.10253469734333,3.63794958464181,3.35092252197016,3.04894676780099,2.78036354123898,2.6078369930198,2.35651914416196,2.20085098720272,2.03930650415017,1.89634220606683,1.74869090066835,1.69902217571749,1.60270168387865,1.48381343287416,1.40766902119072,1.34546964318023,1.31791444484595,1.21152859467639,1.18085200551662,1.08362411775248,1.02563367433583,0.976765579971495,0.925320248618002,0.88477538715572,0.842281074778858,0.827631590746744,0.797525756414613,0.782038345105954,0.716749982561206,0.716749982561206,0.681765223258127,0.66358154036679,0.625630676084763,0.625630676084763,0.625630676084763,0.605764297338193,0.605764297338193,0.605764297338193,0.605764297338193,0.563935870531704,0.563935870531704,0.563935870531704,0.563935870531704,0.563935870531704,0.541812058876238,0.518745552477383,0.518745552477383,0.494604477624721,0.494604477624721,0.494604477624721,0.469223007063572,0.469223007063572,0.44238769357786,0.44238769357786,0.413815795373372,0.383118980960033,0.383118980960033,0.383118980960033,0.383118980960033,0.383118980960033,0.383118980960033,0.383118980960033,0.34973818013367,0.34973818013367,0.34973818013367,0.34973818013367,0.34973818013367,0.34973818013367,0.312815338042381,0.270906029438119,0.270906029438119,0.270906029438119,0.270906029438119,0.270906029438119,0.22119384678893,0.22119384678893,0.22119384678893,0.22119384678893,0.22119384678893,0.22119384678893,0.22119384678893,0.22119384678893]},{\"_typename\":\"TGraphAsymmErrors\",\"fUniqueID\":0,\"fBits\":50332680,\"fName\":\"8c9863\",\"fTitle\":\";; rate [kHz]\",\"fLineColor\":417,\"fLineStyle\":1,\"fLineWidth\":1,\"fFillColor\":0,\"fFillStyle\":1001,\"fMarkerColor\":417,\"fMarkerStyle\":22,\"fMarkerSize\":0.5,\"fNpoints\":100,\"fX\":[0,1,2,3,4,5,6,7,8,9,10,11,12,13,14,15,16,17,18,19,20,21,22,23,24,25,26,27,28,29,30,31,32,33,34,35,36,37,38,39,40,41,42,43,44,45,46,47,48,49,50,51,52,53,54,55,56,57,58,59,60,61,62,63,64,65,66,67,68,69,70,71,72,73,74,75,76,77,78,79,80,81,82,83,84,85,86,87,88,89,90,91,92,93,94,95,96,97,98,99],\"fY\":[31000,31000,31000,31000,31000,31000,30611.623046875,23183.412109375,13369.34765625,7286.2744140625,4011.36181640625,2275.29809570312,1360.59094238281,857.995910644531,553.571411132812,372.923950195312,260.775939941406,191.320663452148,146.397735595703,114.218910217285,91.2795486450195,73.5971221923828,59.4193229675293,48.9054489135742,41.5775947570801,34.5683441162109,29.4707088470459,25.647481918335,21.9835567474365,19.5940399169922,16.8859195709229,15.2929086685181,13.3812952041626,11.947585105896,10.9917783737183,9.71736907958984,9.39876651763916,8.76156234741211,8.44295978546143,7.16855096817017,6.84994840621948,6.53134632110596,5.89414167404175,5.41623830795288,4.77903413772583,4.61973285675049,4.3011302947998,4.14182949066162,3.66392588615417,2.86742043495178,2.54881811141968,2.38951706886292,1.91161358356476,1.91161358356476,1.75231242179871,1.75231242179871,1.75231242179871,1.59301126003265,1.11510789394379,1.11510789394379,0.637204527854919,0.637204527854919,0.637204527854919,0.637204527854919,0.637204527854919,0.637204527854919,0.637204527854919,0.637204527854919,0.637204527854919,0.637204527854919,0.637204527854919,0.637204527854919,0.637204527854919,0.637204527854919,0.637204527854919,0.637204527854919,0.637204527854919,0.637204527854919,0.637204527854919,0.47790339589119,0.47790339589119,0.47790339589119,0.47790339589119,0.47790339589119,0.47790339589119,0.47790339589119,0.47790339589119,0.47790339589119,0.47790339589119,0.47790339589119,0.47790339589119,0.47790339589119,0.47790339589119,0.47790339589119,0.31860226392746,0.31860226392746,0.31860226392746,0.31860226392746,0.31860226392746,0.15930113196373],\"fFunctions\":{\"_typename\":\"TList\",\"name\":\"TList\",\"arr\":[],\"opt\":[]},\"fHistogram\":{\"_typename\":\"TH1F\",\"fUniqueID\":0,\"fBits\":50332160,\"fName\":\"8c9863\",\"fTitle\":\"\",\"fLineColor\":602,\"fLineStyle\":1,\"fLineWidth\":1,\"fFillColor\":0,\"fFillStyle\":1001,\"fMarkerColor\":1,\"fMarkerStyle\":1,\"fMarkerSize\":1,\"fNcells\":102,\"fXaxis\":{\"_typename\":\"TAxis\",\"fUniqueID\":0,\"fBits\":50331656,\"fName\":\"xaxis\",\"fTitle\":\"online p_{T} thresh. [GeV]\",\"fNdivisions\":510,\"fAxisColor\":1,\"fLabelColor\":1,\"fLabelFont\":42,\"fLabelOffset\":0.005,\"fLabelSize\":0.035,\"fTickLength\":0.03,\"fTitleOffset\":1.4,\"fTitleSize\":0.035,\"fTitleColor\":1,\"fTitleFont\":42,\"fNbins\":100,\"fXmin\":0,\"fXmax\":60,\"fXbins\":[],\"fFirst\":0,\"fLast\":0,\"fBits2\":0,\"fTimeDisplay\":false,\"fTimeFormat\":\"\",\"fLabels\":null,\"fModLabs\":null},\"fYaxis\":{\"_typename\":\"TAxis\",\"fUniqueID\":0,\"fBits\":50331656,\"fName\":\"yaxis\",\"fTitle\":\" rate [kHz]\",\"fNdivisions\":510,\"fAxisColor\":1,\"fLabelColor\":1,\"fLabelFont\":42,\"fLabelOffset\":0.005,\"fLabelSize\":0.035,\"fTickLength\":0.03,\"fTitleOffset\":0,\"fTitleSize\":0.035,\"fTitleColor\":1,\"fTitleFont\":42,\"fNbins\":1,\"fXmin\":1.29561998629679e-9,\"fXmax\":34177.3006171123,\"fXbins\":[],\"fFirst\":0,\"fLast\":0,\"fBits2\":0,\"fTimeDisplay\":false,\"fTimeFormat\":\"\",\"fLabels\":null,\"fModLabs\":null},\"fZaxis\":{\"_typename\":\"TAxis\",\"fUniqueID\":0,\"fBits\":50331648,\"fName\":\"zaxis\",\"fTitle\":\"\",\"fNdivisions\":510,\"fAxisColor\":1,\"fLabelColor\":1,\"fLabelFont\":42,\"fLabelOffset\":0.005,\"fLabelSize\":0.035,\"fTickLength\":0.03,\"fTitleOffset\":1,\"fTitleSize\":0.035,\"fTitleColor\":1,\"fTitleFont\":42,\"fNbins\":1,\"fXmin\":0,\"fXmax\":1,\"fXbins\":[],\"fFirst\":0,\"fLast\":0,\"fBits2\":0,\"fTimeDisplay\":false,\"fTimeFormat\":\"\",\"fLabels\":null,\"fModLabs\":null},\"fBarOffset\":0,\"fBarWidth\":1000,\"fEntries\":0,\"fTsumw\":0,\"fTsumw2\":0,\"fTsumwx\":0,\"fTsumwx2\":0,\"fMaximum\":40000,\"fMinimum\":1,\"fNormFactor\":0,\"fContour\":[],\"fSumw2\":[],\"fOption\":\"\",\"fFunctions\":{\"_typename\":\"TList\",\"name\":\"TList\",\"arr\":[],\"opt\":[]},\"fBufferSize\":0,\"fBuffer\":[],\"fBinStatErrOpt\":0,\"fStatOverflows\":2,\"fArray\":[0,0,0,0,0,0,0,0,0,0,0,0,0,0,0,0,0,0,0,0,0,0,0,0,0,0,0,0,0,0,0,0,0,0,0,0,0,0,0,0,0,0,0,0,0,0,0,0,0,0,0,0,0,0,0,0,0,0,0,0,0,0,0,0,0,0,0,0,0,0,0,0,0,0,0,0,0,0,0,0,0,0,0,0,0,0,0,0,0,0,0,0,0,0,0,0,0,0,0,0,0,0]},\"fMinimum\":-1111,\"fMaximum\":-1111,\"fEXlow\":[0.5,0.5,0.5,0.5,0.5,0.5,0.5,0.5,0.5,0.5,0.5,0.5,0.5,0.5,0.5,0.5,0.5,0.5,0.5,0.5,0.5,0.5,0.5,0.5,0.5,0.5,0.5,0.5,0.5,0.5,0.5,0.5,0.5,0.5,0.5,0.5,0.5,0.5,0.5,0.5,0.5,0.5,0.5,0.5,0.5,0.5,0.5,0.5,0.5,0.5,0.5,0.5,0.5,0.5,0.5,0.5,0.5,0.5,0.5,0.5,0.5,0.5,0.5,0.5,0.5,0.5,0.5,0.5,0.5,0.5,0.5,0.5,0.5,0.5,0.5,0.5,0.5,0.5,0.5,0.5,0.5,0.5,0.5,0.5,0.5,0.5,0.5,0.5,0.5,0.5,0.5,0.5,0.5,0.5,0.5,0.5,0.5,0.5,0.5,0.5],\"fEXhigh\":[0.5,0.5,0.5,0.5,0.5,0.5,0.5,0.5,0.5,0.5,0.5,0.5,0.5,0.5,0.5,0.5,0.5,0.5,0.5,0.5,0.5,0.5,0.5,0.5,0.5,0.5,0.5,0.5,0.5,0.5,0.5,0.5,0.5,0.5,0.5,0.5,0.5,0.5,0.5,0.5,0.5,0.5,0.5,0.5,0.5,0.5,0.5,0.5,0.5,0.5,0.5,0.5,0.5,0.5,0.5,0.5,0.5,0.5,0.5,0.5,0.5,0.5,0.5,0.5,0.5,0.5,0.5,0.5,0.5,0.5,0.5,0.5,0.5,0.5,0.5,0.5,0.5,0.5,0.5,0.5,0.5,0.5,0.5,0.5,0.5,0.5,0.5,0.5,0.5,0.5,0.5,0.5,0.5,0.5,0.5,0.5,0.5,0.5,0.5,0.5],\"fEYlow\":[70.2732882840181,70.2732882840181,70.2732882840181,70.2732882840181,70.2732882840181,70.2732882840181,69.831699717926,60.7712412355439,46.149237825591,34.0692199891623,25.2787354221001,19.0383179721985,14.7222171374069,11.6910100121104,9.39066315002825,7.70760704019509,6.44530090491738,5.5206518703604,4.82921580809813,4.26558338138615,3.81325781409209,3.42404801164617,3.0766158550394,2.79118129242545,2.57358852550621,2.34665218778183,2.16672962883247,2.02130474693697,1.87136456247992,1.7667350035904,1.64010552091776,1.5608259409307,1.46001897783793,1.37958825885496,1.32325457220175,1.24418160304782,1.22361520135625,1.18140880318585,1.15972973570245,1.06862447023371,1.04460737026394,1.02002492990965,0.968990947786458,0.928877228880803,0.872528226241529,0.857862841835404,0.827752955312978,0.812279573080043,0.763981383467083,0.675857457865868,0.637204522096608,0.616970625552055,0.551835303541986,0.551835303541986,0.528342078628044,0.528342078628044,0.528342078628044,0.503754406296093,0.421471174938347,0.421471174938347,0.318602261048304,0.318602261048304,0.318602261048304,0.318602261048304,0.318602261048304,0.318602261048304,0.318602261048304,0.318602261048304,0.318602261048304,0.318602261048304,0.318602261048304,0.318602261048304,0.318602261048304,0.318602261048304,0.318602261048304,0.318602261048304,0.318602261048304,0.318602261048304,0.318602261048304,0.275917651770993,0.275917651770993,0.275917651770993,0.275917651770993,0.275917651770993,0.275917651770993,0.275917651770993,0.275917651770993,0.275917651770993,0.275917651770993,0.275917651770993,0.275917651770993,0.275917651770993,0.275917651770993,0.275917651770993,0.225285819288623,0.225285819288623,0.225285819288623,0.225285819288623,0.225285819288623,0.159301130524152],\"fEYhigh\":[70.2732882840181,70.2732882840181,70.2732882840181,70.2732882840181,70.2732882840181,70.2732882840181,69.831699717926,60.7712412355439,46.149237825591,34.0692199891623,25.2787354221001,19.0383179721985,14.7222171374069,11.6910100121104,9.39066315002825,7.70760704019509,6.44530090491738,5.5206518703604,4.82921580809813,4.26558338138615,3.81325781409209,3.42404801164617,3.0766158550394,2.79118129242545,2.57358852550621,2.34665218778183,2.16672962883247,2.02130474693697,1.87136456247992,1.7667350035904,1.64010552091776,1.5608259409307,1.46001897783793,1.37958825885496,1.32325457220175,1.24418160304782,1.22361520135625,1.18140880318585,1.15972973570245,1.06862447023371,1.04460737026394,1.02002492990965,0.968990947786458,0.928877228880803,0.872528226241529,0.857862841835404,0.827752955312978,0.812279573080043,0.763981383467083,0.675857457865868,0.637204522096608,0.616970625552055,0.551835303541986,0.551835303541986,0.528342078628044,0.528342078628044,0.528342078628044,0.503754406296093,0.421471174938347,0.421471174938347,0.318602261048304,0.318602261048304,0.318602261048304,0.318602261048304,0.318602261048304,0.318602261048304,0.318602261048304,0.318602261048304,0.318602261048304,0.318602261048304,0.318602261048304,0.318602261048304,0.318602261048304,0.318602261048304,0.318602261048304,0.318602261048304,0.318602261048304,0.318602261048304,0.318602261048304,0.275917651770993,0.275917651770993,0.275917651770993,0.275917651770993,0.275917651770993,0.275917651770993,0.275917651770993,0.275917651770993,0.275917651770993,0.275917651770993,0.275917651770993,0.275917651770993,0.275917651770993,0.275917651770993,0.275917651770993,0.225285819288623,0.225285819288623,0.225285819288623,0.225285819288623,0.225285819288623,0.159301130524152]},{\"_typename\":\"TLegend\",\"fUniqueID\":0,\"fBits\":50331656,\"fLineColor\":1,\"fLineStyle\":1,\"fLineWidth\":1,\"fFillColor\":0,\"fFillStyle\":0,\"fX1\":60.0000012548346,\"fY1\":3.46648676623254,\"fX2\":86.3157910587385,\"fY2\":4.30322494849808,\"fX1NDC\":0.7,\"fY1NDC\":0.71,\"fX2NDC\":0.95,\"fY2NDC\":0.85,\"fBorderSize\":0,\"fInit\":1,\"fShadowColor\":1,\"fCornerRadius\":0,\"fOption\":\"brNDC\",\"fName\":\"TPave\",\"fTextAngle\":0,\"fTextSize\":0.03,\"fTextAlign\":12,\"fTextColor\":1,\"fTextFont\":42,\"fPrimitives\":{\"_typename\":\"TList\",\"name\":\"TList\",\"arr\":[{\"_typename\":\"TLegendEntry\",\"fUniqueID\":0,\"fBits\":50331656,\"fTextAngle\":0,\"fTextSize\":0,\"fTextAlign\":0,\"fTextColor\":0,\"fTextFont\":42,\"fLineColor\":1,\"fLineStyle\":1,\"fLineWidth\":1,\"fFillColor\":0,\"fFillStyle\":0,\"fMarkerColor\":1,\"fMarkerStyle\":8,\"fMarkerSize\":0.5,\"fObject\":{\"$ref\":3},\"fLabel\":\"V9\",\"fOption\":\"P\"},{\"_typename\":\"TLegendEntry\",\"fUniqueID\":0,\"fBits\":50331656,\"fTextAngle\":0,\"fTextSize\":0,\"fTextAlign\":0,\"fTextColor\":0,\"fTextFont\":42,\"fLineColor\":1,\"fLineStyle\":1,\"fLineWidth\":1,\"fFillColor\":0,\"fFillStyle\":0,\"fMarkerColor\":628,\"fMarkerStyle\":21,\"fMarkerSize\":0.5,\"fObject\":{\"$ref\":10},\"fLabel\":\"V10\",\"fOption\":\"P\"},{\"_typename\":\"TLegendEntry\",\"fUniqueID\":0,\"fBits\":50331656,\"fTextAngle\":0,\"fTextSize\":0,\"fTextAlign\":0,\"fTextColor\":0,\"fTextFont\":42,\"fLineColor\":1,\"fLineStyle\":1,\"fLineWidth\":1,\"fFillColor\":0,\"fFillStyle\":0,\"fMarkerColor\":417,\"fMarkerStyle\":22,\"fMarkerSize\":0.5,\"fObject\":{\"$ref\":17},\"fLabel\":\"TDR\",\"fOption\":\"P\"}],\"opt\":[\"P\",\"P\",\"P\"]},\"fEntrySeparation\":0.1,\"fMargin\":0.25,\"fNColumns\":1,\"fColumnSeparation\":0},{\"_typename\":\"TLatex\",\"fUniqueID\":0,\"fBits\":50348040,\"fName\":\"\",\"fTitle\":\"PU200, HM #Delta#rho < 0.015 calib., EGId, 1.52 < |#eta^{L1}| <= 2.4\",\"fTextAngle\":0,\"fTextSize\":0.03,\"fTextAlign\":11,\"fTextColor\":1,\"fTextFont\":62,\"fX\":0.15,\"fY\":0.85,\"fLineColor\":1,\"fLineStyle\":1,\"fLineWidth\":2,\"fLimitFactorSize\":3,\"fOriginSize\":0.04},{\"_typename\":\"TLatex\",\"fUniqueID\":0,\"fBits\":50331656,\"fName\":\"\",\"fTitle\":\"\",\"fTextAngle\":0,\"fTextSize\":0.03,\"fTextAlign\":11,\"fTextColor\":1,\"fTextFont\":62,\"fX\":0,\"fY\":0,\"fLineColor\":1,\"fLineStyle\":1,\"fLineWidth\":2,\"fLimitFactorSize\":3,\"fOriginSize\":0.04}],\"opt\":[\"\",\"pa\",\",p\",\",p\",\"same\",\"same\",\"same\"]},\"fExecs\":null,\"fName\":\"c_043ace\",\"fTitle\":\"c_043ace\",\"fNumPaletteColor\":0,\"fNextPaletteColor\":0,\"fDISPLAY\":\"$DISPLAY\",\"fDoubleBuffer\":0,\"fRetained\":true,\"fXsizeUser\":0,\"fYsizeUser\":0,\"fXsizeReal\":20,\"fYsizeReal\":15,\"fWindowTopX\":0,\"fWindowTopY\":0,\"fWindowWidth\":0,\"fWindowHeight\":0,\"fCw\":796,\"fCh\":572,\"fCatt\":{\"_typename\":\"TAttCanvas\",\"fXBetween\":2,\"fYBetween\":2,\"fTitleFromTop\":1.2,\"fXdate\":0.2,\"fYdate\":0.3,\"fAdate\":1},\"kMoveOpaque\":true,\"kResizeOpaque\":true,\"fHighLightColor\":2,\"fBatch\":true,\"kShowEventStatus\":false,\"kAutoExec\":true,\"kMenuBar\":true});\n",
       "       Core.draw(\"root_plot_7\", obj, \"\");\n",
       "     }\n",
       " );\n",
       "</script>\n"
      ],
      "text/plain": [
       "<IPython.core.display.HTML object>"
      ]
     },
     "metadata": {},
     "output_type": "display_data"
    }
   ],
   "source": [
    "hsets, labels, text = hplot.get_histo(histos.RateHistos, None, 'PU200', 'HMvDRshapeDrCalib', 'EmEtaBC', None)\n",
    "draw([his.g_pt_online for his in hsets], labels, text=text,  \n",
    "     min_y=1, max_y=40000,\n",
    "     min_x=0, max_x=60,\n",
    "     logy=True, x_axis_label='online p_{T} thresh. [GeV]')\n"
   ]
  },
  {
   "cell_type": "code",
   "execution_count": 38,
   "metadata": {},
   "outputs": [
    {
     "data": {
      "text/plain": [
       "<drawingTools.DrawMachine at 0x1244f69d0>"
      ]
     },
     "execution_count": 38,
     "metadata": {},
     "output_type": "execute_result"
    },
    {
     "data": {
      "text/html": [
       "\n",
       "<div id=\"root_plot_8\"\n",
       "     style=\"width: 796px; height: 572px\">\n",
       "</div>\n",
       "\n",
       "<script>\n",
       " requirejs.config({\n",
       "     paths: {\n",
       "       'JSRootCore' : 'https://root.cern.ch/js/notebook//scripts/JSRootCore',\n",
       "     }\n",
       "   });\n",
       " require(['JSRootCore'],\n",
       "     function(Core) {\n",
       "       var obj = Core.JSONR_unref({\"_typename\":\"TCanvas\",\"fUniqueID\":0,\"fBits\":53673992,\"fLineColor\":1,\"fLineStyle\":1,\"fLineWidth\":1,\"fFillColor\":0,\"fFillStyle\":1001,\"fLeftMargin\":0.13,\"fRightMargin\":0.3,\"fBottomMargin\":0.13,\"fTopMargin\":0.1,\"fXfile\":2,\"fYfile\":2,\"fAfile\":1,\"fXstat\":0.99,\"fYstat\":0.99,\"fAstat\":2,\"fFrameFillColor\":0,\"fFrameLineColor\":1,\"fFrameFillStyle\":1001,\"fFrameLineStyle\":1,\"fFrameLineWidth\":1,\"fFrameBorderSize\":1,\"fFrameBorderMode\":0,\"fX1\":-13.6842101960961,\"fY1\":-0.776971158114093,\"fX2\":91.5789490195193,\"fY2\":5.19973014378258,\"fXtoAbsPixelk\":103.480046204376,\"fXtoPixelk\":103.480046204376,\"fXtoPixel\":7.56199990510941,\"fYtoAbsPixelk\":497.640051065433,\"fYtoPixelk\":497.640051065433,\"fYtoPixel\":-95.7049668549571,\"fUtoAbsPixelk\":5e-5,\"fUtoPixelk\":5e-5,\"fUtoPixel\":796,\"fVtoAbsPixelk\":572.00005,\"fVtoPixelk\":572,\"fVtoPixel\":-572,\"fAbsPixeltoXk\":-13.6842101960961,\"fPixeltoXk\":-13.6842101960961,\"fPixeltoX\":0.132240149768361,\"fAbsPixeltoYk\":5.19973014378258,\"fPixeltoYk\":-0.776971158114093,\"fPixeltoY\":-0.0104487784998194,\"fXlowNDC\":0,\"fYlowNDC\":0,\"fXUpNDC\":0,\"fYUpNDC\":0,\"fWNDC\":1,\"fHNDC\":1,\"fAbsXlowNDC\":0,\"fAbsYlowNDC\":0,\"fAbsWNDC\":1,\"fAbsHNDC\":1,\"fUxmin\":0,\"fUymin\":0,\"fUxmax\":60,\"fUymax\":4.60205999132796,\"fTheta\":30,\"fPhi\":30,\"fAspectRatio\":0,\"fNumber\":0,\"fTickx\":0,\"fTicky\":0,\"fLogx\":0,\"fLogy\":1,\"fLogz\":0,\"fPadPaint\":0,\"fCrosshair\":0,\"fCrosshairPos\":0,\"fBorderSize\":2,\"fBorderMode\":0,\"fModified\":false,\"fGridx\":true,\"fGridy\":true,\"fAbsCoord\":false,\"fEditable\":true,\"fFixedAspectRatio\":false,\"fPrimitives\":{\"_typename\":\"TList\",\"name\":\"TList\",\"arr\":[{\"_typename\":\"TFrame\",\"fUniqueID\":0,\"fBits\":50331656,\"fLineColor\":1,\"fLineStyle\":1,\"fLineWidth\":1,\"fFillColor\":0,\"fFillStyle\":1001,\"fX1\":0,\"fY1\":0,\"fX2\":60,\"fY2\":4.60205999132796,\"fBorderSize\":1,\"fBorderMode\":0},{\"_typename\":\"TGraphAsymmErrors\",\"fUniqueID\":0,\"fBits\":50332680,\"fName\":\"675afa\",\"fTitle\":\";; rate [kHz]\",\"fLineColor\":1,\"fLineStyle\":1,\"fLineWidth\":1,\"fFillColor\":0,\"fFillStyle\":1001,\"fMarkerColor\":1,\"fMarkerStyle\":8,\"fMarkerSize\":0.5,\"fNpoints\":100,\"fX\":[3.49567381277806,4.68643097507753,5.877188137377,7.06794529967647,8.25870246197595,9.44945962427542,10.6402167865749,11.8309739488744,13.0217311111738,14.2124882734733,15.4032454357728,16.5940025980722,17.7847597603717,18.9755169226712,20.1662740849707,21.3570312472701,22.5477884095696,23.7385455718691,24.9293027341685,26.120059896468,27.3108170587675,28.5015742210669,29.6923313833664,30.8830885456659,32.0738457079654,33.2646028702648,34.4553600325643,35.6461171948638,36.8368743571632,38.0276315194627,39.2183886817622,40.4091458440617,41.5999030063611,42.7906601686606,43.9814173309601,45.1721744932595,46.362931655559,47.5536888178585,48.7444459801579,49.9352031424574,51.1259603047569,52.3167174670564,53.5074746293558,54.6982317916553,55.8889889539548,57.0797461162542,58.2705032785537,59.4612604408532,60.6520176031527,61.8427747654521,63.0335319277516,64.2242890900511,65.4150462523505,66.60580341465,67.7965605769495,68.987317739249,70.1780749015484,71.3688320638479,72.5595892261474,73.7503463884468,74.9411035507463,76.1318607130458,77.3226178753453,78.5133750376447,79.7041321999442,80.8948893622437,82.0856465245431,83.2764036868426,84.4671608491421,85.6579180114416,86.848675173741,88.0394323360405,89.23018949834,90.4209466606394,91.6117038229389,92.8024609852384,93.9932181475378,95.1839753098373,96.3747324721368,97.5654896344363,98.7562467967357,99.9470039590352,101.137761121335,102.328518283634,103.519275445934,104.710032608233,105.900789770533,107.091546932832,108.282304095131,109.473061257431,110.66381841973,111.85457558203,113.045332744329,114.236089906629,115.426847068928,116.617604231228,117.808361393527,118.999118555827,120.189875718126,121.380632880426],\"fY\":[30999.845703125,30982.3125,30754.078125,29745.10546875,27433.29296875,24161.537109375,20459.845703125,16872.96875,13506.56640625,10384.689453125,7578.5537109375,5344.62939453125,3772.59765625,2671.46142578125,1863.56860351562,1307.49243164062,933.103088378906,681.286315917969,497.427429199219,379.664672851562,291.071075439453,229.629623413086,177.497497558594,141.656661987305,117.452453613281,97.5925903320312,83.3183212280273,70.130126953125,61.1311302185059,53.5285301208496,46.0810813903809,39.8748741149902,35.375373840332,31.6516513824463,29.0140132904053,26.2212219238281,23.4284286499023,21.4114112854004,19.704704284668,18.3083076477051,16.7567558288574,15.3603601455688,13.963963508606,12.2572574615479,11.481481552124,11.3263263702393,10.860860824585,10.0850849151611,8.99899864196777,7.91291284561157,7.13713693618774,6.67167186737061,6.36136150360107,6.20620632171631,5.89589595794678,5.74074077606201,5.43043041229248,4.96496486663818,4.49949932098389,3.8788788318634,3.41341352462769,2.94794797897339,2.63763761520386,2.32732725143433,2.32732725143433,2.32732725143433,2.32732725143433,2.32732725143433,2.32732725143433,2.32732725143433,2.32732725143433,2.17217206954956,2.01701712608337,1.86186182498932,1.86186182498932,1.86186182498932,1.86186182498932,1.86186182498932,1.55155158042908,1.24124121665955,1.24124121665955,1.08608603477478,1.08608603477478,0.930930912494659,0.930930912494659,0.930930912494659,0.775775790214539,0.775775790214539,0.775775790214539,0.775775790214539,0.775775790214539,0.775775790214539,0.775775790214539,0.775775790214539,0.775775790214539,0.620620608329773,0.620620608329773,0.620620608329773,0.620620608329773,0.620620608329773],\"fFunctions\":{\"_typename\":\"TList\",\"name\":\"TList\",\"arr\":[],\"opt\":[]},\"fHistogram\":{\"_typename\":\"TH1F\",\"fUniqueID\":0,\"fBits\":50332160,\"fName\":\"675afa\",\"fTitle\":\"\",\"fLineColor\":602,\"fLineStyle\":1,\"fLineWidth\":1,\"fFillColor\":0,\"fFillStyle\":1001,\"fMarkerColor\":1,\"fMarkerStyle\":1,\"fMarkerSize\":1,\"fNcells\":102,\"fXaxis\":{\"_typename\":\"TAxis\",\"fUniqueID\":0,\"fBits\":50331656,\"fName\":\"xaxis\",\"fTitle\":\"offline p_{T} thresh. [GeV]\",\"fNdivisions\":510,\"fAxisColor\":1,\"fLabelColor\":1,\"fLabelFont\":42,\"fLabelOffset\":0.005,\"fLabelSize\":0.035,\"fTickLength\":0.03,\"fTitleOffset\":1.4,\"fTitleSize\":0.035,\"fTitleColor\":1,\"fTitleFont\":42,\"fNbins\":100,\"fXmin\":0,\"fXmax\":60,\"fXbins\":[],\"fFirst\":0,\"fLast\":0,\"fBits2\":0,\"fTimeDisplay\":false,\"fTimeFormat\":\"\",\"fLabels\":null,\"fModLabs\":null},\"fYaxis\":{\"_typename\":\"TAxis\",\"fUniqueID\":0,\"fBits\":50331656,\"fName\":\"yaxis\",\"fTitle\":\" rate [kHz]\",\"fNdivisions\":510,\"fAxisColor\":1,\"fLabelColor\":1,\"fLabelFont\":42,\"fLabelOffset\":0.005,\"fLabelSize\":0.035,\"fTickLength\":0.03,\"fTitleOffset\":0,\"fTitleSize\":0.035,\"fTitleColor\":1,\"fTitleFont\":42,\"fNbins\":1,\"fXmin\":1,\"fXmax\":40000,\"fXbins\":[],\"fFirst\":0,\"fLast\":0,\"fBits2\":0,\"fTimeDisplay\":false,\"fTimeFormat\":\"\",\"fLabels\":null,\"fModLabs\":null},\"fZaxis\":{\"_typename\":\"TAxis\",\"fUniqueID\":0,\"fBits\":50331648,\"fName\":\"zaxis\",\"fTitle\":\"\",\"fNdivisions\":510,\"fAxisColor\":1,\"fLabelColor\":1,\"fLabelFont\":42,\"fLabelOffset\":0.005,\"fLabelSize\":0.035,\"fTickLength\":0.03,\"fTitleOffset\":1,\"fTitleSize\":0.035,\"fTitleColor\":1,\"fTitleFont\":42,\"fNbins\":1,\"fXmin\":0,\"fXmax\":1,\"fXbins\":[],\"fFirst\":0,\"fLast\":0,\"fBits2\":0,\"fTimeDisplay\":false,\"fTimeFormat\":\"\",\"fLabels\":null,\"fModLabs\":null},\"fBarOffset\":0,\"fBarWidth\":1000,\"fEntries\":0,\"fTsumw\":0,\"fTsumw2\":0,\"fTsumwx\":0,\"fTsumwx2\":0,\"fMaximum\":40000,\"fMinimum\":1,\"fNormFactor\":0,\"fContour\":[],\"fSumw2\":[],\"fOption\":\"\",\"fFunctions\":{\"_typename\":\"TList\",\"name\":\"TList\",\"arr\":[],\"opt\":[]},\"fBufferSize\":0,\"fBuffer\":[],\"fBinStatErrOpt\":0,\"fStatOverflows\":2,\"fArray\":[0,0,0,0,0,0,0,0,0,0,0,0,0,0,0,0,0,0,0,0,0,0,0,0,0,0,0,0,0,0,0,0,0,0,0,0,0,0,0,0,0,0,0,0,0,0,0,0,0,0,0,0,0,0,0,0,0,0,0,0,0,0,0,0,0,0,0,0,0,0,0,0,0,0,0,0,0,0,0,0,0,0,0,0,0,0,0,0,0,0,0,0,0,0,0,0,0,0,0,0,0,0]},\"fMinimum\":-1111,\"fMaximum\":-1111,\"fEXlow\":[0.5,0.5,0.5,0.5,0.5,0.5,0.5,0.5,0.5,0.5,0.5,0.5,0.5,0.5,0.5,0.5,0.5,0.5,0.5,0.5,0.5,0.5,0.5,0.5,0.5,0.5,0.5,0.5,0.5,0.5,0.5,0.5,0.5,0.5,0.5,0.5,0.5,0.5,0.5,0.5,0.5,0.5,0.5,0.5,0.5,0.5,0.5,0.5,0.5,0.5,0.5,0.5,0.5,0.5,0.5,0.5,0.5,0.5,0.5,0.5,0.5,0.5,0.5,0.5,0.5,0.5,0.5,0.5,0.5,0.5,0.5,0.5,0.5,0.5,0.5,0.5,0.5,0.5,0.5,0.5,0.5,0.5,0.5,0.5,0.5,0.5,0.5,0.5,0.5,0.5,0.5,0.5,0.5,0.5,0.5,0.5,0.5,0.5,0.5,0.5],\"fEXhigh\":[0.5,0.5,0.5,0.5,0.5,0.5,0.5,0.5,0.5,0.5,0.5,0.5,0.5,0.5,0.5,0.5,0.5,0.5,0.5,0.5,0.5,0.5,0.5,0.5,0.5,0.5,0.5,0.5,0.5,0.5,0.5,0.5,0.5,0.5,0.5,0.5,0.5,0.5,0.5,0.5,0.5,0.5,0.5,0.5,0.5,0.5,0.5,0.5,0.5,0.5,0.5,0.5,0.5,0.5,0.5,0.5,0.5,0.5,0.5,0.5,0.5,0.5,0.5,0.5,0.5,0.5,0.5,0.5,0.5,0.5,0.5,0.5,0.5,0.5,0.5,0.5,0.5,0.5,0.5,0.5,0.5,0.5,0.5,0.5,0.5,0.5,0.5,0.5,0.5,0.5,0.5,0.5,0.5,0.5,0.5,0.5,0.5,0.5,0.5,0.5],\"fEYlow\":[69.3526188163622,69.3330042179213,69.0771591133308,67.9345743910196,65.2412206916593,61.2273382576221,56.3422612374788,51.1656912686424,45.7778705407871,40.1402309415622,34.2906933795929,28.796646322654,24.1937588148932,20.3590524716665,17.0041839086304,14.2430404246029,12.032279781393,10.2812975569151,8.78512547895203,7.67508501275237,6.72020663322261,5.96893799711523,5.24782352636557,4.68815107929812,4.26888199457583,3.89127149472991,3.59545082096047,3.29864384579353,3.07974189429257,2.8818791003564,2.67389552616635,2.48732635534696,2.34279146640033,2.21605887172,2.12171483616866,2.01701701701702,1.90657846622012,1.82266037967264,1.7485097985842,1.68541639252856,1.61241967070977,1.54377430181708,1.47193104302132,1.37904918386778,1.33469511150311,1.32564622675097,1.29812116229011,1.25090085183811,1.18162645786677,1.10802943586,1.05231346084526,1.01742039165847,0.993477734536628,0.981287362014212,0.956440611071263,0.943771964160384,0.917910276657098,0.877690098770089,0.835536081187035,0.775775775775776,0.727742184957589,0.676305641890695,0.639721093063801,0.600913331994144,0.600913331994144,0.600913331994144,0.600913331994144,0.600913331994144,0.600913331994144,0.600913331994144,0.600913331994144,0.580537432382343,0.559419867564483,0.537473223569922,0.537473223569922,0.537473223569922,0.537473223569922,0.537473223569922,0.490643681007106,0.438845049385045,0.438845049385045,0.410501955170182,0.410501955170182,0.380050961092485,0.380050961092485,0.380050961092485,0.346937473986454,0.346937473986454,0.346937473986454,0.346937473986454,0.346937473986454,0.346937473986454,0.346937473986454,0.346937473986454,0.346937473986454,0.31031031031031,0.31031031031031,0.31031031031031,0.31031031031031,0.31031031031031],\"fEYhigh\":[69.3526188163622,69.3330042179213,69.0771591133308,67.9345743910196,65.2412206916593,61.2273382576221,56.3422612374788,51.1656912686424,45.7778705407871,40.1402309415622,34.2906933795929,28.796646322654,24.1937588148932,20.3590524716665,17.0041839086304,14.2430404246029,12.032279781393,10.2812975569151,8.78512547895203,7.67508501275237,6.72020663322261,5.96893799711523,5.24782352636557,4.68815107929812,4.26888199457583,3.89127149472991,3.59545082096047,3.29864384579353,3.07974189429257,2.8818791003564,2.67389552616635,2.48732635534696,2.34279146640033,2.21605887172,2.12171483616866,2.01701701701702,1.90657846622012,1.82266037967264,1.7485097985842,1.68541639252856,1.61241967070977,1.54377430181708,1.47193104302132,1.37904918386778,1.33469511150311,1.32564622675097,1.29812116229011,1.25090085183811,1.18162645786677,1.10802943586,1.05231346084526,1.01742039165847,0.993477734536628,0.981287362014212,0.956440611071263,0.943771964160384,0.917910276657098,0.877690098770089,0.835536081187035,0.775775775775776,0.727742184957589,0.676305641890695,0.639721093063801,0.600913331994144,0.600913331994144,0.600913331994144,0.600913331994144,0.600913331994144,0.600913331994144,0.600913331994144,0.600913331994144,0.580537432382343,0.559419867564483,0.537473223569922,0.537473223569922,0.537473223569922,0.537473223569922,0.537473223569922,0.490643681007106,0.438845049385045,0.438845049385045,0.410501955170182,0.410501955170182,0.380050961092485,0.380050961092485,0.380050961092485,0.346937473986454,0.346937473986454,0.346937473986454,0.346937473986454,0.346937473986454,0.346937473986454,0.346937473986454,0.346937473986454,0.346937473986454,0.31031031031031,0.31031031031031,0.31031031031031,0.31031031031031,0.31031031031031]},{\"_typename\":\"TGraphAsymmErrors\",\"fUniqueID\":0,\"fBits\":50332680,\"fName\":\"a4e7de\",\"fTitle\":\";; rate [kHz]\",\"fLineColor\":628,\"fLineStyle\":1,\"fLineWidth\":1,\"fFillColor\":0,\"fFillStyle\":1001,\"fMarkerColor\":628,\"fMarkerStyle\":21,\"fMarkerSize\":0.5,\"fNpoints\":100,\"fX\":[4.51377046645542,5.74492461258203,6.97607875870863,8.20723290483524,9.43838705096184,10.6695411970884,11.9006953432151,13.1318494893417,14.3630036354683,15.5941577815949,16.8253119277215,18.0564660738481,19.2876202199747,20.5187743661013,21.7499285122279,22.9810826583545,24.2122368044811,25.4433909506077,26.6745450967343,27.9056992428609,29.1368533889875,30.3680075351141,31.5991616812407,32.8303158273673,34.061469973494,35.2926241196206,36.5237782657472,37.7549324118738,38.9860865580004,40.217240704127,41.4483948502536,42.6795489963802,43.9107031425068,45.1418572886334,46.37301143476,47.6041655808866,48.8353197270132,50.0664738731398,51.2976280192664,52.528782165393,53.7599363115196,54.9910904576462,56.2222446037729,57.4533987498994,58.6845528960261,59.9157070421527,61.1468611882793,62.3780153344059,63.6091694805325,64.8403236266591,66.0714777727857,67.3026319189123,68.5337860650389,69.7649402111655,70.9960943572921,72.2272485034187,73.4584026495453,74.6895567956719,75.9207109417985,77.1518650879251,78.3830192340517,79.6141733801784,80.845327526305,82.0764816724316,83.3076358185582,84.5387899646848,85.7699441108114,87.001098256938,88.2322524030646,89.4634065491912,90.6945606953178,91.9257148414444,93.156868987571,94.3880231336976,95.6191772798242,96.8503314259508,98.0814855720774,99.312639718204,100.543793864331,101.774948010457,103.006102156584,104.23725630271,105.468410448837,106.699564594964,107.93071874109,109.161872887217,110.393027033343,111.62418117947,112.855335325597,114.086489471723,115.31764361785,116.548797763977,117.779951910103,119.01110605623,120.242260202356,121.473414348483,122.70456849461,123.935722640736,125.166876786863,126.398030932989],\"fY\":[10847.654296875,8377.6640625,7016.4482421875,5781.296875,4665.484375,3739.08178710938,2946.56396484375,2306.7001953125,1769.12719726562,1320.54992675781,964.40966796875,705.2421875,511.453063964844,379.288604736328,287.633697509766,223.506561279297,173.299697875977,137.013122558594,107.608474731445,84.6165466308594,71.7911224365234,59.4349136352539,49.4248237609863,43.481330871582,35.5045394897461,30.9687175750732,26.5893039703369,22.9919281005859,19.5509586334229,18.4561042785645,16.4228057861328,14.0766906738281,12.6690216064453,11.5741672515869,11.104944229126,9.38446044921875,8.91523742675781,7.50756788253784,6.72552967071533,6.09989929199219,5.47426843643188,5.00504541397095,4.53582239151001,4.37941455841064,4.06659936904907,3.91019177436829,3.28456115722656,3.28456115722656,2.97174572944641,2.81533813476562,2.50252270698547,2.50252270698547,2.50252270698547,2.34611511230469,2.34611511230469,2.34611511230469,2.34611511230469,2.03329968452454,2.03329968452454,2.03329968452454,2.03329968452454,2.03329968452454,1.87689197063446,1.72048437595367,1.72048437595367,1.5640766620636,1.5640766620636,1.5640766620636,1.40766906738281,1.40766906738281,1.25126135349274,1.25126135349274,1.09485363960266,0.93844598531723,0.93844598531723,0.93844598531723,0.93844598531723,0.93844598531723,0.93844598531723,0.93844598531723,0.782038331031799,0.782038331031799,0.782038331031799,0.782038331031799,0.782038331031799,0.782038331031799,0.625630676746368,0.469222992658615,0.469222992658615,0.469222992658615,0.469222992658615,0.469222992658615,0.312815338373184,0.312815338373184,0.312815338373184,0.312815338373184,0.312815338373184,0.312815338373184,0.312815338373184,0.312815338373184],\"fFunctions\":{\"_typename\":\"TList\",\"name\":\"TList\",\"arr\":[],\"opt\":[]},\"fHistogram\":{\"_typename\":\"TH1F\",\"fUniqueID\":0,\"fBits\":50332160,\"fName\":\"a4e7de\",\"fTitle\":\"\",\"fLineColor\":602,\"fLineStyle\":1,\"fLineWidth\":1,\"fFillColor\":0,\"fFillStyle\":1001,\"fMarkerColor\":1,\"fMarkerStyle\":1,\"fMarkerSize\":1,\"fNcells\":102,\"fXaxis\":{\"_typename\":\"TAxis\",\"fUniqueID\":0,\"fBits\":50331656,\"fName\":\"xaxis\",\"fTitle\":\"offline p_{T} thresh. [GeV]\",\"fNdivisions\":510,\"fAxisColor\":1,\"fLabelColor\":1,\"fLabelFont\":42,\"fLabelOffset\":0.005,\"fLabelSize\":0.035,\"fTickLength\":0.03,\"fTitleOffset\":1.4,\"fTitleSize\":0.035,\"fTitleColor\":1,\"fTitleFont\":42,\"fNbins\":100,\"fXmin\":0,\"fXmax\":60,\"fXbins\":[],\"fFirst\":0,\"fLast\":0,\"fBits2\":0,\"fTimeDisplay\":false,\"fTimeFormat\":\"\",\"fLabels\":null,\"fModLabs\":null},\"fYaxis\":{\"_typename\":\"TAxis\",\"fUniqueID\":0,\"fBits\":50331656,\"fName\":\"yaxis\",\"fTitle\":\" rate [kHz]\",\"fNdivisions\":510,\"fAxisColor\":1,\"fLabelColor\":1,\"fLabelFont\":42,\"fLabelOffset\":0.005,\"fLabelSize\":0.035,\"fTickLength\":0.03,\"fTitleOffset\":0,\"fTitleSize\":0.035,\"fTitleColor\":1,\"fTitleFont\":42,\"fNbins\":1,\"fXmin\":0.0824593424258287,\"fXmax\":11977.7201006367,\"fXbins\":[],\"fFirst\":0,\"fLast\":0,\"fBits2\":0,\"fTimeDisplay\":false,\"fTimeFormat\":\"\",\"fLabels\":null,\"fModLabs\":null},\"fZaxis\":{\"_typename\":\"TAxis\",\"fUniqueID\":0,\"fBits\":50331648,\"fName\":\"zaxis\",\"fTitle\":\"\",\"fNdivisions\":510,\"fAxisColor\":1,\"fLabelColor\":1,\"fLabelFont\":42,\"fLabelOffset\":0.005,\"fLabelSize\":0.035,\"fTickLength\":0.03,\"fTitleOffset\":1,\"fTitleSize\":0.035,\"fTitleColor\":1,\"fTitleFont\":42,\"fNbins\":1,\"fXmin\":0,\"fXmax\":1,\"fXbins\":[],\"fFirst\":0,\"fLast\":0,\"fBits2\":0,\"fTimeDisplay\":false,\"fTimeFormat\":\"\",\"fLabels\":null,\"fModLabs\":null},\"fBarOffset\":0,\"fBarWidth\":1000,\"fEntries\":0,\"fTsumw\":0,\"fTsumw2\":0,\"fTsumwx\":0,\"fTsumwx2\":0,\"fMaximum\":40000,\"fMinimum\":1,\"fNormFactor\":0,\"fContour\":[],\"fSumw2\":[],\"fOption\":\"\",\"fFunctions\":{\"_typename\":\"TList\",\"name\":\"TList\",\"arr\":[],\"opt\":[]},\"fBufferSize\":0,\"fBuffer\":[],\"fBinStatErrOpt\":0,\"fStatOverflows\":2,\"fArray\":[0,0,0,0,0,0,0,0,0,0,0,0,0,0,0,0,0,0,0,0,0,0,0,0,0,0,0,0,0,0,0,0,0,0,0,0,0,0,0,0,0,0,0,0,0,0,0,0,0,0,0,0,0,0,0,0,0,0,0,0,0,0,0,0,0,0,0,0,0,0,0,0,0,0,0,0,0,0,0,0,0,0,0,0,0,0,0,0,0,0,0,0,0,0,0,0,0,0,0,0,0,0]},\"fMinimum\":-1111,\"fMaximum\":-1111,\"fEXlow\":[0.5,0.5,0.5,0.5,0.5,0.5,0.5,0.5,0.5,0.5,0.5,0.5,0.5,0.5,0.5,0.5,0.5,0.5,0.5,0.5,0.5,0.5,0.5,0.5,0.5,0.5,0.5,0.5,0.5,0.5,0.5,0.5,0.5,0.5,0.5,0.5,0.5,0.5,0.5,0.5,0.5,0.5,0.5,0.5,0.5,0.5,0.5,0.5,0.5,0.5,0.5,0.5,0.5,0.5,0.5,0.5,0.5,0.5,0.5,0.5,0.5,0.5,0.5,0.5,0.5,0.5,0.5,0.5,0.5,0.5,0.5,0.5,0.5,0.5,0.5,0.5,0.5,0.5,0.5,0.5,0.5,0.5,0.5,0.5,0.5,0.5,0.5,0.5,0.5,0.5,0.5,0.5,0.5,0.5,0.5,0.5,0.5,0.5,0.5,0.5],\"fEXhigh\":[0.5,0.5,0.5,0.5,0.5,0.5,0.5,0.5,0.5,0.5,0.5,0.5,0.5,0.5,0.5,0.5,0.5,0.5,0.5,0.5,0.5,0.5,0.5,0.5,0.5,0.5,0.5,0.5,0.5,0.5,0.5,0.5,0.5,0.5,0.5,0.5,0.5,0.5,0.5,0.5,0.5,0.5,0.5,0.5,0.5,0.5,0.5,0.5,0.5,0.5,0.5,0.5,0.5,0.5,0.5,0.5,0.5,0.5,0.5,0.5,0.5,0.5,0.5,0.5,0.5,0.5,0.5,0.5,0.5,0.5,0.5,0.5,0.5,0.5,0.5,0.5,0.5,0.5,0.5,0.5,0.5,0.5,0.5,0.5,0.5,0.5,0.5,0.5,0.5,0.5,0.5,0.5,0.5,0.5,0.5,0.5,0.5,0.5,0.5,0.5],\"fEYlow\":[41.1904874758237,36.1984929837538,33.1274249156027,30.0705692676312,27.0132843890274,24.1830738027266,21.4677716323025,18.9943575168948,16.634453788504,14.371643588488,12.2817373019459,10.5026323085809,8.94400266640504,7.70218445650049,6.70731817269565,5.91254090125641,5.20628482633593,4.62924426029678,4.10253469734333,3.63794958464181,3.35092252197016,3.04894676780099,2.78036354123898,2.6078369930198,2.35651914416196,2.20085098720272,2.03930650415017,1.89634220606683,1.74869090066835,1.69902217571749,1.60270168387865,1.48381343287416,1.40766902119072,1.34546964318023,1.31791444484595,1.21152859467639,1.18085200551662,1.08362411775248,1.02563367433583,0.976765579971495,0.925320248618002,0.88477538715572,0.842281074778858,0.827631590746744,0.797525756414613,0.782038345105954,0.716749982561206,0.716749982561206,0.681765223258127,0.66358154036679,0.625630676084763,0.625630676084763,0.625630676084763,0.605764297338193,0.605764297338193,0.605764297338193,0.605764297338193,0.563935870531704,0.563935870531704,0.563935870531704,0.563935870531704,0.563935870531704,0.541812058876238,0.518745552477383,0.518745552477383,0.494604477624721,0.494604477624721,0.494604477624721,0.469223007063572,0.469223007063572,0.44238769357786,0.44238769357786,0.413815795373372,0.383118980960033,0.383118980960033,0.383118980960033,0.383118980960033,0.383118980960033,0.383118980960033,0.383118980960033,0.34973818013367,0.34973818013367,0.34973818013367,0.34973818013367,0.34973818013367,0.34973818013367,0.312815338042381,0.270906029438119,0.270906029438119,0.270906029438119,0.270906029438119,0.270906029438119,0.22119384678893,0.22119384678893,0.22119384678893,0.22119384678893,0.22119384678893,0.22119384678893,0.22119384678893,0.22119384678893],\"fEYhigh\":[41.1904874758237,36.1984929837538,33.1274249156027,30.0705692676312,27.0132843890274,24.1830738027266,21.4677716323025,18.9943575168948,16.634453788504,14.371643588488,12.2817373019459,10.5026323085809,8.94400266640504,7.70218445650049,6.70731817269565,5.91254090125641,5.20628482633593,4.62924426029678,4.10253469734333,3.63794958464181,3.35092252197016,3.04894676780099,2.78036354123898,2.6078369930198,2.35651914416196,2.20085098720272,2.03930650415017,1.89634220606683,1.74869090066835,1.69902217571749,1.60270168387865,1.48381343287416,1.40766902119072,1.34546964318023,1.31791444484595,1.21152859467639,1.18085200551662,1.08362411775248,1.02563367433583,0.976765579971495,0.925320248618002,0.88477538715572,0.842281074778858,0.827631590746744,0.797525756414613,0.782038345105954,0.716749982561206,0.716749982561206,0.681765223258127,0.66358154036679,0.625630676084763,0.625630676084763,0.625630676084763,0.605764297338193,0.605764297338193,0.605764297338193,0.605764297338193,0.563935870531704,0.563935870531704,0.563935870531704,0.563935870531704,0.563935870531704,0.541812058876238,0.518745552477383,0.518745552477383,0.494604477624721,0.494604477624721,0.494604477624721,0.469223007063572,0.469223007063572,0.44238769357786,0.44238769357786,0.413815795373372,0.383118980960033,0.383118980960033,0.383118980960033,0.383118980960033,0.383118980960033,0.383118980960033,0.383118980960033,0.34973818013367,0.34973818013367,0.34973818013367,0.34973818013367,0.34973818013367,0.34973818013367,0.312815338042381,0.270906029438119,0.270906029438119,0.270906029438119,0.270906029438119,0.270906029438119,0.22119384678893,0.22119384678893,0.22119384678893,0.22119384678893,0.22119384678893,0.22119384678893,0.22119384678893,0.22119384678893]},{\"_typename\":\"TGraphAsymmErrors\",\"fUniqueID\":0,\"fBits\":50332680,\"fName\":\"99c3e0\",\"fTitle\":\";; rate [kHz]\",\"fLineColor\":417,\"fLineStyle\":1,\"fLineWidth\":1,\"fFillColor\":0,\"fFillStyle\":1001,\"fMarkerColor\":417,\"fMarkerStyle\":22,\"fMarkerSize\":0.5,\"fNpoints\":100,\"fX\":[7.01073928788195,8.11524947162462,9.21975965536728,10.3242698391099,11.4287800228526,12.5332902065953,13.6378003903379,14.7423105740806,15.8468207578233,16.9513309415659,18.0558411253086,19.1603513090512,20.2648614927939,21.3693716765366,22.4738818602792,23.5783920440219,24.6829022277646,25.7874124115072,26.8919225952499,27.9964327789925,29.1009429627352,30.2054531464779,31.3099633302205,32.4144735139632,33.5189836977059,34.6234938814485,35.7280040651912,36.8325142489338,37.9370244326765,39.0415346164192,40.1460448001618,41.2505549839045,42.3550651676472,43.4595753513898,44.5640855351325,45.6685957188751,46.7731059026178,47.8776160863605,48.9821262701031,50.0866364538458,51.1911466375885,52.2956568213311,53.4001670050738,54.5046771888164,55.6091873725591,56.7136975563018,57.8182077400444,58.9227179237871,60.0272281075298,61.1317382912724,62.2362484750151,63.3407586587577,64.4452688425004,65.5497790262431,66.6542892099857,67.7587993937284,68.8633095774711,69.9678197612137,71.0723299449564,72.176840128699,73.2813503124417,74.3858604961844,75.490370679927,76.5948808636697,77.6993910474123,78.803901231155,79.9084114148977,81.0129215986403,82.117431782383,83.2219419661257,84.3264521498683,85.430962333611,86.5354725173537,87.6399827010963,88.744492884839,89.8490030685816,90.9535132523243,92.058023436067,93.1625336198096,94.2670438035523,95.3715539872949,96.4760641710376,97.5805743547803,98.6850845385229,99.7895947222656,100.894104906008,101.998615089751,103.103125273494,104.207635457236,105.312145640979,106.416655824722,107.521166008464,108.625676192207,109.73018637595,110.834696559692,111.939206743435,113.043716927178,114.14822711092,115.252737294663,116.357247478406],\"fY\":[31000,31000,31000,31000,31000,31000,30611.623046875,23183.412109375,13369.34765625,7286.2744140625,4011.36181640625,2275.29809570312,1360.59094238281,857.995910644531,553.571411132812,372.923950195312,260.775939941406,191.320663452148,146.397735595703,114.218910217285,91.2795486450195,73.5971221923828,59.4193229675293,48.9054489135742,41.5775947570801,34.5683441162109,29.4707088470459,25.647481918335,21.9835567474365,19.5940399169922,16.8859195709229,15.2929086685181,13.3812952041626,11.947585105896,10.9917783737183,9.71736907958984,9.39876651763916,8.76156234741211,8.44295978546143,7.16855096817017,6.84994840621948,6.53134632110596,5.89414167404175,5.41623830795288,4.77903413772583,4.61973285675049,4.3011302947998,4.14182949066162,3.66392588615417,2.86742043495178,2.54881811141968,2.38951706886292,1.91161358356476,1.91161358356476,1.75231242179871,1.75231242179871,1.75231242179871,1.59301126003265,1.11510789394379,1.11510789394379,0.637204527854919,0.637204527854919,0.637204527854919,0.637204527854919,0.637204527854919,0.637204527854919,0.637204527854919,0.637204527854919,0.637204527854919,0.637204527854919,0.637204527854919,0.637204527854919,0.637204527854919,0.637204527854919,0.637204527854919,0.637204527854919,0.637204527854919,0.637204527854919,0.637204527854919,0.47790339589119,0.47790339589119,0.47790339589119,0.47790339589119,0.47790339589119,0.47790339589119,0.47790339589119,0.47790339589119,0.47790339589119,0.47790339589119,0.47790339589119,0.47790339589119,0.47790339589119,0.47790339589119,0.47790339589119,0.31860226392746,0.31860226392746,0.31860226392746,0.31860226392746,0.31860226392746,0.15930113196373],\"fFunctions\":{\"_typename\":\"TList\",\"name\":\"TList\",\"arr\":[],\"opt\":[]},\"fHistogram\":{\"_typename\":\"TH1F\",\"fUniqueID\":0,\"fBits\":50332160,\"fName\":\"99c3e0\",\"fTitle\":\"\",\"fLineColor\":602,\"fLineStyle\":1,\"fLineWidth\":1,\"fFillColor\":0,\"fFillStyle\":1001,\"fMarkerColor\":1,\"fMarkerStyle\":1,\"fMarkerSize\":1,\"fNcells\":102,\"fXaxis\":{\"_typename\":\"TAxis\",\"fUniqueID\":0,\"fBits\":50331656,\"fName\":\"xaxis\",\"fTitle\":\"offline p_{T} thresh. [GeV]\",\"fNdivisions\":510,\"fAxisColor\":1,\"fLabelColor\":1,\"fLabelFont\":42,\"fLabelOffset\":0.005,\"fLabelSize\":0.035,\"fTickLength\":0.03,\"fTitleOffset\":1.4,\"fTitleSize\":0.035,\"fTitleColor\":1,\"fTitleFont\":42,\"fNbins\":100,\"fXmin\":0,\"fXmax\":60,\"fXbins\":[],\"fFirst\":0,\"fLast\":0,\"fBits2\":0,\"fTimeDisplay\":false,\"fTimeFormat\":\"\",\"fLabels\":null,\"fModLabs\":null},\"fYaxis\":{\"_typename\":\"TAxis\",\"fUniqueID\":0,\"fBits\":50331656,\"fName\":\"yaxis\",\"fTitle\":\" rate [kHz]\",\"fNdivisions\":510,\"fAxisColor\":1,\"fLabelColor\":1,\"fLabelFont\":42,\"fLabelOffset\":0.005,\"fLabelSize\":0.035,\"fTickLength\":0.03,\"fTitleOffset\":0,\"fTitleSize\":0.035,\"fTitleColor\":1,\"fTitleFont\":42,\"fNbins\":1,\"fXmin\":1.29561998629679e-9,\"fXmax\":34177.3006171123,\"fXbins\":[],\"fFirst\":0,\"fLast\":0,\"fBits2\":0,\"fTimeDisplay\":false,\"fTimeFormat\":\"\",\"fLabels\":null,\"fModLabs\":null},\"fZaxis\":{\"_typename\":\"TAxis\",\"fUniqueID\":0,\"fBits\":50331648,\"fName\":\"zaxis\",\"fTitle\":\"\",\"fNdivisions\":510,\"fAxisColor\":1,\"fLabelColor\":1,\"fLabelFont\":42,\"fLabelOffset\":0.005,\"fLabelSize\":0.035,\"fTickLength\":0.03,\"fTitleOffset\":1,\"fTitleSize\":0.035,\"fTitleColor\":1,\"fTitleFont\":42,\"fNbins\":1,\"fXmin\":0,\"fXmax\":1,\"fXbins\":[],\"fFirst\":0,\"fLast\":0,\"fBits2\":0,\"fTimeDisplay\":false,\"fTimeFormat\":\"\",\"fLabels\":null,\"fModLabs\":null},\"fBarOffset\":0,\"fBarWidth\":1000,\"fEntries\":0,\"fTsumw\":0,\"fTsumw2\":0,\"fTsumwx\":0,\"fTsumwx2\":0,\"fMaximum\":40000,\"fMinimum\":1,\"fNormFactor\":0,\"fContour\":[],\"fSumw2\":[],\"fOption\":\"\",\"fFunctions\":{\"_typename\":\"TList\",\"name\":\"TList\",\"arr\":[],\"opt\":[]},\"fBufferSize\":0,\"fBuffer\":[],\"fBinStatErrOpt\":0,\"fStatOverflows\":2,\"fArray\":[0,0,0,0,0,0,0,0,0,0,0,0,0,0,0,0,0,0,0,0,0,0,0,0,0,0,0,0,0,0,0,0,0,0,0,0,0,0,0,0,0,0,0,0,0,0,0,0,0,0,0,0,0,0,0,0,0,0,0,0,0,0,0,0,0,0,0,0,0,0,0,0,0,0,0,0,0,0,0,0,0,0,0,0,0,0,0,0,0,0,0,0,0,0,0,0,0,0,0,0,0,0]},\"fMinimum\":-1111,\"fMaximum\":-1111,\"fEXlow\":[0.5,0.5,0.5,0.5,0.5,0.5,0.5,0.5,0.5,0.5,0.5,0.5,0.5,0.5,0.5,0.5,0.5,0.5,0.5,0.5,0.5,0.5,0.5,0.5,0.5,0.5,0.5,0.5,0.5,0.5,0.5,0.5,0.5,0.5,0.5,0.5,0.5,0.5,0.5,0.5,0.5,0.5,0.5,0.5,0.5,0.5,0.5,0.5,0.5,0.5,0.5,0.5,0.5,0.5,0.5,0.5,0.5,0.5,0.5,0.5,0.5,0.5,0.5,0.5,0.5,0.5,0.5,0.5,0.5,0.5,0.5,0.5,0.5,0.5,0.5,0.5,0.5,0.5,0.5,0.5,0.5,0.5,0.5,0.5,0.5,0.5,0.5,0.5,0.5,0.5,0.5,0.5,0.5,0.5,0.5,0.5,0.5,0.5,0.5,0.5],\"fEXhigh\":[0.5,0.5,0.5,0.5,0.5,0.5,0.5,0.5,0.5,0.5,0.5,0.5,0.5,0.5,0.5,0.5,0.5,0.5,0.5,0.5,0.5,0.5,0.5,0.5,0.5,0.5,0.5,0.5,0.5,0.5,0.5,0.5,0.5,0.5,0.5,0.5,0.5,0.5,0.5,0.5,0.5,0.5,0.5,0.5,0.5,0.5,0.5,0.5,0.5,0.5,0.5,0.5,0.5,0.5,0.5,0.5,0.5,0.5,0.5,0.5,0.5,0.5,0.5,0.5,0.5,0.5,0.5,0.5,0.5,0.5,0.5,0.5,0.5,0.5,0.5,0.5,0.5,0.5,0.5,0.5,0.5,0.5,0.5,0.5,0.5,0.5,0.5,0.5,0.5,0.5,0.5,0.5,0.5,0.5,0.5,0.5,0.5,0.5,0.5,0.5],\"fEYlow\":[70.2732882840181,70.2732882840181,70.2732882840181,70.2732882840181,70.2732882840181,70.2732882840181,69.831699717926,60.7712412355439,46.149237825591,34.0692199891623,25.2787354221001,19.0383179721985,14.7222171374069,11.6910100121104,9.39066315002825,7.70760704019509,6.44530090491738,5.5206518703604,4.82921580809813,4.26558338138615,3.81325781409209,3.42404801164617,3.0766158550394,2.79118129242545,2.57358852550621,2.34665218778183,2.16672962883247,2.02130474693697,1.87136456247992,1.7667350035904,1.64010552091776,1.5608259409307,1.46001897783793,1.37958825885496,1.32325457220175,1.24418160304782,1.22361520135625,1.18140880318585,1.15972973570245,1.06862447023371,1.04460737026394,1.02002492990965,0.968990947786458,0.928877228880803,0.872528226241529,0.857862841835404,0.827752955312978,0.812279573080043,0.763981383467083,0.675857457865868,0.637204522096608,0.616970625552055,0.551835303541986,0.551835303541986,0.528342078628044,0.528342078628044,0.528342078628044,0.503754406296093,0.421471174938347,0.421471174938347,0.318602261048304,0.318602261048304,0.318602261048304,0.318602261048304,0.318602261048304,0.318602261048304,0.318602261048304,0.318602261048304,0.318602261048304,0.318602261048304,0.318602261048304,0.318602261048304,0.318602261048304,0.318602261048304,0.318602261048304,0.318602261048304,0.318602261048304,0.318602261048304,0.318602261048304,0.275917651770993,0.275917651770993,0.275917651770993,0.275917651770993,0.275917651770993,0.275917651770993,0.275917651770993,0.275917651770993,0.275917651770993,0.275917651770993,0.275917651770993,0.275917651770993,0.275917651770993,0.275917651770993,0.275917651770993,0.225285819288623,0.225285819288623,0.225285819288623,0.225285819288623,0.225285819288623,0.159301130524152],\"fEYhigh\":[70.2732882840181,70.2732882840181,70.2732882840181,70.2732882840181,70.2732882840181,70.2732882840181,69.831699717926,60.7712412355439,46.149237825591,34.0692199891623,25.2787354221001,19.0383179721985,14.7222171374069,11.6910100121104,9.39066315002825,7.70760704019509,6.44530090491738,5.5206518703604,4.82921580809813,4.26558338138615,3.81325781409209,3.42404801164617,3.0766158550394,2.79118129242545,2.57358852550621,2.34665218778183,2.16672962883247,2.02130474693697,1.87136456247992,1.7667350035904,1.64010552091776,1.5608259409307,1.46001897783793,1.37958825885496,1.32325457220175,1.24418160304782,1.22361520135625,1.18140880318585,1.15972973570245,1.06862447023371,1.04460737026394,1.02002492990965,0.968990947786458,0.928877228880803,0.872528226241529,0.857862841835404,0.827752955312978,0.812279573080043,0.763981383467083,0.675857457865868,0.637204522096608,0.616970625552055,0.551835303541986,0.551835303541986,0.528342078628044,0.528342078628044,0.528342078628044,0.503754406296093,0.421471174938347,0.421471174938347,0.318602261048304,0.318602261048304,0.318602261048304,0.318602261048304,0.318602261048304,0.318602261048304,0.318602261048304,0.318602261048304,0.318602261048304,0.318602261048304,0.318602261048304,0.318602261048304,0.318602261048304,0.318602261048304,0.318602261048304,0.318602261048304,0.318602261048304,0.318602261048304,0.318602261048304,0.275917651770993,0.275917651770993,0.275917651770993,0.275917651770993,0.275917651770993,0.275917651770993,0.275917651770993,0.275917651770993,0.275917651770993,0.275917651770993,0.275917651770993,0.275917651770993,0.275917651770993,0.275917651770993,0.275917651770993,0.225285819288623,0.225285819288623,0.225285819288623,0.225285819288623,0.225285819288623,0.159301130524152]},{\"_typename\":\"TLegend\",\"fUniqueID\":0,\"fBits\":50331656,\"fLineColor\":1,\"fLineStyle\":1,\"fLineWidth\":1,\"fFillColor\":0,\"fFillStyle\":0,\"fX1\":60.0000012548346,\"fY1\":3.46648676623254,\"fX2\":86.3157910587385,\"fY2\":4.30322494849808,\"fX1NDC\":0.7,\"fY1NDC\":0.71,\"fX2NDC\":0.95,\"fY2NDC\":0.85,\"fBorderSize\":0,\"fInit\":1,\"fShadowColor\":1,\"fCornerRadius\":0,\"fOption\":\"brNDC\",\"fName\":\"TPave\",\"fTextAngle\":0,\"fTextSize\":0.03,\"fTextAlign\":12,\"fTextColor\":1,\"fTextFont\":42,\"fPrimitives\":{\"_typename\":\"TList\",\"name\":\"TList\",\"arr\":[{\"_typename\":\"TLegendEntry\",\"fUniqueID\":0,\"fBits\":50331656,\"fTextAngle\":0,\"fTextSize\":0,\"fTextAlign\":0,\"fTextColor\":0,\"fTextFont\":42,\"fLineColor\":1,\"fLineStyle\":1,\"fLineWidth\":1,\"fFillColor\":0,\"fFillStyle\":0,\"fMarkerColor\":1,\"fMarkerStyle\":8,\"fMarkerSize\":0.5,\"fObject\":{\"$ref\":3},\"fLabel\":\"V9\",\"fOption\":\"P\"},{\"_typename\":\"TLegendEntry\",\"fUniqueID\":0,\"fBits\":50331656,\"fTextAngle\":0,\"fTextSize\":0,\"fTextAlign\":0,\"fTextColor\":0,\"fTextFont\":42,\"fLineColor\":1,\"fLineStyle\":1,\"fLineWidth\":1,\"fFillColor\":0,\"fFillStyle\":0,\"fMarkerColor\":628,\"fMarkerStyle\":21,\"fMarkerSize\":0.5,\"fObject\":{\"$ref\":10},\"fLabel\":\"V10\",\"fOption\":\"P\"},{\"_typename\":\"TLegendEntry\",\"fUniqueID\":0,\"fBits\":50331656,\"fTextAngle\":0,\"fTextSize\":0,\"fTextAlign\":0,\"fTextColor\":0,\"fTextFont\":42,\"fLineColor\":1,\"fLineStyle\":1,\"fLineWidth\":1,\"fFillColor\":0,\"fFillStyle\":0,\"fMarkerColor\":417,\"fMarkerStyle\":22,\"fMarkerSize\":0.5,\"fObject\":{\"$ref\":17},\"fLabel\":\"TDR\",\"fOption\":\"P\"}],\"opt\":[\"P\",\"P\",\"P\"]},\"fEntrySeparation\":0.1,\"fMargin\":0.25,\"fNColumns\":1,\"fColumnSeparation\":0},{\"_typename\":\"TLatex\",\"fUniqueID\":0,\"fBits\":50348040,\"fName\":\"\",\"fTitle\":\"PU200, HM #Delta#rho < 0.015 calib., EGId, 1.52 < |#eta^{L1}| <= 2.4\",\"fTextAngle\":0,\"fTextSize\":0.03,\"fTextAlign\":11,\"fTextColor\":1,\"fTextFont\":62,\"fX\":0.15,\"fY\":0.85,\"fLineColor\":1,\"fLineStyle\":1,\"fLineWidth\":2,\"fLimitFactorSize\":3,\"fOriginSize\":0.04},{\"_typename\":\"TLatex\",\"fUniqueID\":0,\"fBits\":50331656,\"fName\":\"\",\"fTitle\":\"\",\"fTextAngle\":0,\"fTextSize\":0.03,\"fTextAlign\":11,\"fTextColor\":1,\"fTextFont\":62,\"fX\":0,\"fY\":0,\"fLineColor\":1,\"fLineStyle\":1,\"fLineWidth\":2,\"fLimitFactorSize\":3,\"fOriginSize\":0.04}],\"opt\":[\"\",\"pa\",\",p\",\",p\",\"same\",\"same\",\"same\"]},\"fExecs\":null,\"fName\":\"c_c7d1d0\",\"fTitle\":\"c_c7d1d0\",\"fNumPaletteColor\":0,\"fNextPaletteColor\":0,\"fDISPLAY\":\"$DISPLAY\",\"fDoubleBuffer\":0,\"fRetained\":true,\"fXsizeUser\":0,\"fYsizeUser\":0,\"fXsizeReal\":20,\"fYsizeReal\":15,\"fWindowTopX\":0,\"fWindowTopY\":0,\"fWindowWidth\":0,\"fWindowHeight\":0,\"fCw\":796,\"fCh\":572,\"fCatt\":{\"_typename\":\"TAttCanvas\",\"fXBetween\":2,\"fYBetween\":2,\"fTitleFromTop\":1.2,\"fXdate\":0.2,\"fYdate\":0.3,\"fAdate\":1},\"kMoveOpaque\":true,\"kResizeOpaque\":true,\"fHighLightColor\":2,\"fBatch\":true,\"kShowEventStatus\":false,\"kAutoExec\":true,\"kMenuBar\":true});\n",
       "       Core.draw(\"root_plot_8\", obj, \"\");\n",
       "     }\n",
       " );\n",
       "</script>\n"
      ],
      "text/plain": [
       "<IPython.core.display.HTML object>"
      ]
     },
     "metadata": {},
     "output_type": "display_data"
    }
   ],
   "source": [
    "hsets, labels, text = hplot.get_histo(histos.RateHistos, None, 'PU200', 'HMvDRshapeDrCalib', 'EmEtaBC', None)\n",
    "draw([his.g_pt_offline for his in hsets], labels, text=text,  \n",
    "     min_y =1, max_y=40000,\n",
    "     min_x=0, max_x=60,\n",
    "     logy=True, x_axis_label='offline p_{T} thresh. [GeV]')\n"
   ]
  },
  {
   "cell_type": "code",
   "execution_count": 39,
   "metadata": {},
   "outputs": [
    {
     "data": {
      "text/plain": [
       "<drawingTools.DrawMachine at 0x124565410>"
      ]
     },
     "execution_count": 39,
     "metadata": {},
     "output_type": "execute_result"
    },
    {
     "data": {
      "text/html": [
       "\n",
       "<div id=\"root_plot_9\"\n",
       "     style=\"width: 796px; height: 572px\">\n",
       "</div>\n",
       "\n",
       "<script>\n",
       " requirejs.config({\n",
       "     paths: {\n",
       "       'JSRootCore' : 'https://root.cern.ch/js/notebook//scripts/JSRootCore',\n",
       "     }\n",
       "   });\n",
       " require(['JSRootCore'],\n",
       "     function(Core) {\n",
       "       var obj = Core.JSONR_unref({\"_typename\":\"TCanvas\",\"fUniqueID\":0,\"fBits\":53673992,\"fLineColor\":1,\"fLineStyle\":1,\"fLineWidth\":1,\"fFillColor\":0,\"fFillStyle\":1001,\"fLeftMargin\":0.13,\"fRightMargin\":0.3,\"fBottomMargin\":0.13,\"fTopMargin\":0.1,\"fXfile\":2,\"fYfile\":2,\"fAfile\":1,\"fXstat\":0.99,\"fYstat\":0.99,\"fAstat\":2,\"fFrameFillColor\":0,\"fFrameLineColor\":1,\"fFrameFillStyle\":1001,\"fFrameLineStyle\":1,\"fFrameLineWidth\":1,\"fFrameBorderSize\":1,\"fFrameBorderMode\":0,\"fX1\":-13.6842101960961,\"fY1\":-0.776971158114093,\"fX2\":91.5789490195193,\"fY2\":5.19973014378258,\"fXtoAbsPixelk\":103.480046204376,\"fXtoPixelk\":103.480046204376,\"fXtoPixel\":7.56199990510941,\"fYtoAbsPixelk\":497.640051065433,\"fYtoPixelk\":497.640051065433,\"fYtoPixel\":-95.7049668549571,\"fUtoAbsPixelk\":5e-5,\"fUtoPixelk\":5e-5,\"fUtoPixel\":796,\"fVtoAbsPixelk\":572.00005,\"fVtoPixelk\":572,\"fVtoPixel\":-572,\"fAbsPixeltoXk\":-13.6842101960961,\"fPixeltoXk\":-13.6842101960961,\"fPixeltoX\":0.132240149768361,\"fAbsPixeltoYk\":5.19973014378258,\"fPixeltoYk\":-0.776971158114093,\"fPixeltoY\":-0.0104487784998194,\"fXlowNDC\":0,\"fYlowNDC\":0,\"fXUpNDC\":0,\"fYUpNDC\":0,\"fWNDC\":1,\"fHNDC\":1,\"fAbsXlowNDC\":0,\"fAbsYlowNDC\":0,\"fAbsWNDC\":1,\"fAbsHNDC\":1,\"fUxmin\":0,\"fUymin\":0,\"fUxmax\":60,\"fUymax\":4.60205999132796,\"fTheta\":30,\"fPhi\":30,\"fAspectRatio\":0,\"fNumber\":0,\"fTickx\":0,\"fTicky\":0,\"fLogx\":0,\"fLogy\":1,\"fLogz\":0,\"fPadPaint\":0,\"fCrosshair\":0,\"fCrosshairPos\":0,\"fBorderSize\":2,\"fBorderMode\":0,\"fModified\":false,\"fGridx\":true,\"fGridy\":true,\"fAbsCoord\":false,\"fEditable\":true,\"fFixedAspectRatio\":false,\"fPrimitives\":{\"_typename\":\"TList\",\"name\":\"TList\",\"arr\":[{\"_typename\":\"TFrame\",\"fUniqueID\":0,\"fBits\":50331656,\"fLineColor\":1,\"fLineStyle\":1,\"fLineWidth\":1,\"fFillColor\":0,\"fFillStyle\":1001,\"fX1\":0,\"fY1\":0,\"fX2\":60,\"fY2\":4.60205999132796,\"fBorderSize\":1,\"fBorderMode\":0},{\"_typename\":\"TGraphAsymmErrors\",\"fUniqueID\":0,\"fBits\":50332680,\"fName\":\"8986a6\",\"fTitle\":\";; rate [kHz]\",\"fLineColor\":1,\"fLineStyle\":1,\"fLineWidth\":1,\"fFillColor\":0,\"fFillStyle\":1001,\"fMarkerColor\":1,\"fMarkerStyle\":8,\"fMarkerSize\":0.5,\"fNpoints\":100,\"fX\":[0,1,2,3,4,5,6,7,8,9,10,11,12,13,14,15,16,17,18,19,20,21,22,23,24,25,26,27,28,29,30,31,32,33,34,35,36,37,38,39,40,41,42,43,44,45,46,47,48,49,50,51,52,53,54,55,56,57,58,59,60,61,62,63,64,65,66,67,68,69,70,71,72,73,74,75,76,77,78,79,80,81,82,83,84,85,86,87,88,89,90,91,92,93,94,95,96,97,98,99],\"fY\":[31000,30999.37890625,30967.728515625,30601.5625,29123.708984375,26290.419921875,22494.859375,18573.00390625,14812.8173828125,11395.21484375,8335.2451171875,5902.8779296875,4193.84375,2995.58056640625,2121.74682617188,1510.90087890625,1096.17114257812,815.9609375,606.346374511719,471.361358642578,370.045043945312,297.277282714844,235.835830688477,190.996002197266,160.740737915039,136.381378173828,116.211212158203,98.5235214233398,87.3523559570312,76.9569549560547,67.9579544067383,59.8898887634277,53.0630645751953,47.4774780273438,43.4434432983398,39.2542533874512,35.375373840332,32.7377395629883,30.1000995635986,27.9279270172119,25.7557563781738,23.1181182861328,21.4114112854004,19.2392387390137,17.9979972839355,17.3773765563965,16.4464473724365,15.3603601455688,13.498498916626,11.7917919158936,10.860860824585,10.3953952789307,9.61961936950684,9.3093090057373,8.84384346008301,8.68868827819824,8.0680685043335,7.13713693618774,6.51651668548584,5.74074077606201,5.27527523040771,4.80980968475342,4.49949932098389,4.03403425216675,4.03403425216675,3.72372364997864,3.72372364997864,3.72372364997864,3.72372364997864,3.72372364997864,3.56856846809387,3.25825834274292,3.10310316085815,2.94794797897339,2.79279279708862,2.63763761520386,2.63763761520386,2.63763761520386,2.32732725143433,2.01701712608337,2.01701712608337,1.86186182498932,1.86186182498932,1.55155158042908,1.55155158042908,1.39639639854431,0.930930912494659,0.930930912494659,0.930930912494659,0.930930912494659,0.930930912494659,0.930930912494659,0.930930912494659,0.930930912494659,0.930930912494659,0.775775790214539,0.775775790214539,0.775775790214539,0.775775790214539,0.775775790214539],\"fFunctions\":{\"_typename\":\"TList\",\"name\":\"TList\",\"arr\":[],\"opt\":[]},\"fHistogram\":{\"_typename\":\"TH1F\",\"fUniqueID\":0,\"fBits\":50332160,\"fName\":\"8986a6\",\"fTitle\":\"\",\"fLineColor\":602,\"fLineStyle\":1,\"fLineWidth\":1,\"fFillColor\":0,\"fFillStyle\":1001,\"fMarkerColor\":1,\"fMarkerStyle\":1,\"fMarkerSize\":1,\"fNcells\":102,\"fXaxis\":{\"_typename\":\"TAxis\",\"fUniqueID\":0,\"fBits\":50331656,\"fName\":\"xaxis\",\"fTitle\":\"online p_{T} thresh. [GeV]\",\"fNdivisions\":510,\"fAxisColor\":1,\"fLabelColor\":1,\"fLabelFont\":42,\"fLabelOffset\":0.005,\"fLabelSize\":0.035,\"fTickLength\":0.03,\"fTitleOffset\":1.4,\"fTitleSize\":0.035,\"fTitleColor\":1,\"fTitleFont\":42,\"fNbins\":100,\"fXmin\":0,\"fXmax\":60,\"fXbins\":[],\"fFirst\":0,\"fLast\":0,\"fBits2\":0,\"fTimeDisplay\":false,\"fTimeFormat\":\"\",\"fLabels\":null,\"fModLabs\":null},\"fYaxis\":{\"_typename\":\"TAxis\",\"fUniqueID\":0,\"fBits\":50331656,\"fName\":\"yaxis\",\"fTitle\":\" rate [kHz]\",\"fNdivisions\":510,\"fAxisColor\":1,\"fLabelColor\":1,\"fLabelFont\":42,\"fLabelOffset\":0.005,\"fLabelSize\":0.035,\"fTickLength\":0.03,\"fTitleOffset\":0,\"fTitleSize\":0.035,\"fTitleColor\":1,\"fTitleFont\":42,\"fNbins\":1,\"fXmin\":1,\"fXmax\":40000,\"fXbins\":[],\"fFirst\":0,\"fLast\":0,\"fBits2\":0,\"fTimeDisplay\":false,\"fTimeFormat\":\"\",\"fLabels\":null,\"fModLabs\":null},\"fZaxis\":{\"_typename\":\"TAxis\",\"fUniqueID\":0,\"fBits\":50331648,\"fName\":\"zaxis\",\"fTitle\":\"\",\"fNdivisions\":510,\"fAxisColor\":1,\"fLabelColor\":1,\"fLabelFont\":42,\"fLabelOffset\":0.005,\"fLabelSize\":0.035,\"fTickLength\":0.03,\"fTitleOffset\":1,\"fTitleSize\":0.035,\"fTitleColor\":1,\"fTitleFont\":42,\"fNbins\":1,\"fXmin\":0,\"fXmax\":1,\"fXbins\":[],\"fFirst\":0,\"fLast\":0,\"fBits2\":0,\"fTimeDisplay\":false,\"fTimeFormat\":\"\",\"fLabels\":null,\"fModLabs\":null},\"fBarOffset\":0,\"fBarWidth\":1000,\"fEntries\":0,\"fTsumw\":0,\"fTsumw2\":0,\"fTsumwx\":0,\"fTsumwx2\":0,\"fMaximum\":40000,\"fMinimum\":1,\"fNormFactor\":0,\"fContour\":[],\"fSumw2\":[],\"fOption\":\"\",\"fFunctions\":{\"_typename\":\"TList\",\"name\":\"TList\",\"arr\":[],\"opt\":[]},\"fBufferSize\":0,\"fBuffer\":[],\"fBinStatErrOpt\":0,\"fStatOverflows\":2,\"fArray\":[0,0,0,0,0,0,0,0,0,0,0,0,0,0,0,0,0,0,0,0,0,0,0,0,0,0,0,0,0,0,0,0,0,0,0,0,0,0,0,0,0,0,0,0,0,0,0,0,0,0,0,0,0,0,0,0,0,0,0,0,0,0,0,0,0,0,0,0,0,0,0,0,0,0,0,0,0,0,0,0,0,0,0,0,0,0,0,0,0,0,0,0,0,0,0,0,0,0,0,0,0,0]},\"fMinimum\":-1111,\"fMaximum\":-1111,\"fEXlow\":[0.5,0.5,0.5,0.5,0.5,0.5,0.5,0.5,0.5,0.5,0.5,0.5,0.5,0.5,0.5,0.5,0.5,0.5,0.5,0.5,0.5,0.5,0.5,0.5,0.5,0.5,0.5,0.5,0.5,0.5,0.5,0.5,0.5,0.5,0.5,0.5,0.5,0.5,0.5,0.5,0.5,0.5,0.5,0.5,0.5,0.5,0.5,0.5,0.5,0.5,0.5,0.5,0.5,0.5,0.5,0.5,0.5,0.5,0.5,0.5,0.5,0.5,0.5,0.5,0.5,0.5,0.5,0.5,0.5,0.5,0.5,0.5,0.5,0.5,0.5,0.5,0.5,0.5,0.5,0.5,0.5,0.5,0.5,0.5,0.5,0.5,0.5,0.5,0.5,0.5,0.5,0.5,0.5,0.5,0.5,0.5,0.5,0.5,0.5,0.5],\"fEXhigh\":[0.5,0.5,0.5,0.5,0.5,0.5,0.5,0.5,0.5,0.5,0.5,0.5,0.5,0.5,0.5,0.5,0.5,0.5,0.5,0.5,0.5,0.5,0.5,0.5,0.5,0.5,0.5,0.5,0.5,0.5,0.5,0.5,0.5,0.5,0.5,0.5,0.5,0.5,0.5,0.5,0.5,0.5,0.5,0.5,0.5,0.5,0.5,0.5,0.5,0.5,0.5,0.5,0.5,0.5,0.5,0.5,0.5,0.5,0.5,0.5,0.5,0.5,0.5,0.5,0.5,0.5,0.5,0.5,0.5,0.5,0.5,0.5,0.5,0.5,0.5,0.5,0.5,0.5,0.5,0.5,0.5,0.5,0.5,0.5,0.5,0.5,0.5,0.5,0.5,0.5,0.5,0.5,0.5,0.5,0.5,0.5,0.5,0.5,0.5,0.5],\"fEYlow\":[69.3527923721158,69.3520981464954,69.3166834203584,68.905660377607,67.2212283686727,63.8677873377855,59.0778594039258,53.6814415103404,47.9404322759878,42.0479058306487,35.961872438491,30.2632108839111,25.5087532484064,21.5587515816605,18.1438679914575,15.310913222383,13.0413422675609,11.2516909617376,9.69936912614057,8.55185039369651,7.57722880599236,6.79147274750168,6.04906155533689,5.44371319898212,4.99397182304668,4.60002982474055,4.24626524209734,3.90978676895875,3.68146272321166,3.45546937432894,3.24715683498572,3.04831513431453,2.86932183321379,2.71410673784091,2.59624232458021,2.46789382051148,2.34279146640033,2.25375881099276,2.16106124420775,2.08162484391872,1.99903433697937,1.89391003046919,1.82266037967264,1.72773468716447,1.67107216237407,1.64200782068073,1.59742009194493,1.54377430181708,1.44719094417294,1.35261128378139,1.29812116229011,1.26999967931955,1.22169291338522,1.20182666398829,1.17139573320017,1.16107486476469,1.11883973512897,1.05231346084526,1.0055203285818,0.943771964160384,0.904702245946969,0.863867343582236,0.835536081187035,0.791139163770652,0.791139163770652,0.76010192218497,0.76010192218497,0.76010192218497,0.76010192218497,0.76010192218497,0.744097984097569,0.711010242961116,0.693874947972908,0.676305641890695,0.658267574077567,0.639721093063801,0.639721093063801,0.639721093063801,0.600913331994144,0.559419867564483,0.559419867564483,0.537473223569922,0.537473223569922,0.490643681007106,0.490643681007106,0.465465465465465,0.380050961092485,0.380050961092485,0.380050961092485,0.380050961092485,0.380050961092485,0.380050961092485,0.380050961092485,0.380050961092485,0.380050961092485,0.346937473986454,0.346937473986454,0.346937473986454,0.346937473986454,0.346937473986454],\"fEYhigh\":[69.3527923721158,69.3520981464954,69.3166834203584,68.905660377607,67.2212283686727,63.8677873377855,59.0778594039258,53.6814415103404,47.9404322759878,42.0479058306487,35.961872438491,30.2632108839111,25.5087532484064,21.5587515816605,18.1438679914575,15.310913222383,13.0413422675609,11.2516909617376,9.69936912614057,8.55185039369651,7.57722880599236,6.79147274750168,6.04906155533689,5.44371319898212,4.99397182304668,4.60002982474055,4.24626524209734,3.90978676895875,3.68146272321166,3.45546937432894,3.24715683498572,3.04831513431453,2.86932183321379,2.71410673784091,2.59624232458021,2.46789382051148,2.34279146640033,2.25375881099276,2.16106124420775,2.08162484391872,1.99903433697937,1.89391003046919,1.82266037967264,1.72773468716447,1.67107216237407,1.64200782068073,1.59742009194493,1.54377430181708,1.44719094417294,1.35261128378139,1.29812116229011,1.26999967931955,1.22169291338522,1.20182666398829,1.17139573320017,1.16107486476469,1.11883973512897,1.05231346084526,1.0055203285818,0.943771964160384,0.904702245946969,0.863867343582236,0.835536081187035,0.791139163770652,0.791139163770652,0.76010192218497,0.76010192218497,0.76010192218497,0.76010192218497,0.76010192218497,0.744097984097569,0.711010242961116,0.693874947972908,0.676305641890695,0.658267574077567,0.639721093063801,0.639721093063801,0.639721093063801,0.600913331994144,0.559419867564483,0.559419867564483,0.537473223569922,0.537473223569922,0.490643681007106,0.490643681007106,0.465465465465465,0.380050961092485,0.380050961092485,0.380050961092485,0.380050961092485,0.380050961092485,0.380050961092485,0.380050961092485,0.380050961092485,0.380050961092485,0.346937473986454,0.346937473986454,0.346937473986454,0.346937473986454,0.346937473986454]},{\"_typename\":\"TGraphAsymmErrors\",\"fUniqueID\":0,\"fBits\":50332680,\"fName\":\"dca903\",\"fTitle\":\";; rate [kHz]\",\"fLineColor\":628,\"fLineStyle\":1,\"fLineWidth\":1,\"fFillColor\":0,\"fFillStyle\":1001,\"fMarkerColor\":628,\"fMarkerStyle\":21,\"fMarkerSize\":0.5,\"fNpoints\":100,\"fX\":[0,1,2,3,4,5,6,7,8,9,10,11,12,13,14,15,16,17,18,19,20,21,22,23,24,25,26,27,28,29,30,31,32,33,34,35,36,37,38,39,40,41,42,43,44,45,46,47,48,49,50,51,52,53,54,55,56,57,58,59,60,61,62,63,64,65,66,67,68,69,70,71,72,73,74,75,76,77,78,79,80,81,82,83,84,85,86,87,88,89,90,91,92,93,94,95,96,97,98,99],\"fY\":[12238.1181640625,9059.1318359375,7534.62646484375,6183.7333984375,4981.58447265625,3990.2724609375,3147.23510742188,2472.64892578125,1906.29663085938,1431.91223144531,1058.25427246094,783.915222167969,576.362243652344,434.500518798828,335.025238037109,264.95458984375,209.742691040039,167.825424194336,134.82341003418,109.328964233398,93.6881942749023,78.5166473388672,65.8476257324219,57.5580215454102,47.3915252685547,42.0736618041992,36.9122085571289,32.3763885498047,28.3097877502441,26.7457122802734,23.7739658355713,21.1150360107422,18.9253273010254,17.2048435211182,16.5792121887207,14.5459127426147,13.7638750076294,12.0433902740479,11.104944229126,10.1664981842041,9.22805213928223,8.75882911682129,7.97679090499878,7.66397571563721,6.72552967071533,6.25630664825439,5.16145324707031,4.84863758087158,4.37941455841064,4.06659936904907,3.28456115722656,3.1281533241272,3.1281533241272,2.97174572944641,2.97174572944641,2.97174572944641,2.81533813476562,2.50252270698547,2.50252270698547,2.50252270698547,2.50252270698547,2.50252270698547,2.34611511230469,2.18970727920532,2.18970727920532,2.03329968452454,2.03329968452454,2.03329968452454,1.87689197063446,1.87689197063446,1.72048437595367,1.72048437595367,1.5640766620636,1.25126135349274,1.25126135349274,1.25126135349274,1.25126135349274,1.25126135349274,1.25126135349274,1.25126135349274,1.09485363960266,1.09485363960266,1.09485363960266,1.09485363960266,1.09485363960266,0.93844598531723,0.782038331031799,0.625630676746368,0.625630676746368,0.625630676746368,0.625630676746368,0.625630676746368,0.469222992658615,0.469222992658615,0.469222992658615,0.469222992658615,0.469222992658615,0.469222992658615,0.469222992658615,0.469222992658615],\"fFunctions\":{\"_typename\":\"TList\",\"name\":\"TList\",\"arr\":[],\"opt\":[]},\"fHistogram\":{\"_typename\":\"TH1F\",\"fUniqueID\":0,\"fBits\":50332160,\"fName\":\"dca903\",\"fTitle\":\"\",\"fLineColor\":602,\"fLineStyle\":1,\"fLineWidth\":1,\"fFillColor\":0,\"fFillStyle\":1001,\"fMarkerColor\":1,\"fMarkerStyle\":1,\"fMarkerSize\":1,\"fNcells\":102,\"fXaxis\":{\"_typename\":\"TAxis\",\"fUniqueID\":0,\"fBits\":50331656,\"fName\":\"xaxis\",\"fTitle\":\"online p_{T} thresh. [GeV]\",\"fNdivisions\":510,\"fAxisColor\":1,\"fLabelColor\":1,\"fLabelFont\":42,\"fLabelOffset\":0.005,\"fLabelSize\":0.035,\"fTickLength\":0.03,\"fTitleOffset\":1.4,\"fTitleSize\":0.035,\"fTitleColor\":1,\"fTitleFont\":42,\"fNbins\":100,\"fXmin\":0,\"fXmax\":60,\"fXbins\":[],\"fFirst\":0,\"fLast\":0,\"fBits2\":0,\"fTimeDisplay\":false,\"fTimeFormat\":\"\",\"fLabels\":null,\"fModLabs\":null},\"fYaxis\":{\"_typename\":\"TAxis\",\"fUniqueID\":0,\"fBits\":50331656,\"fName\":\"yaxis\",\"fTitle\":\" rate [kHz]\",\"fNdivisions\":510,\"fAxisColor\":1,\"fLabelColor\":1,\"fLabelFont\":42,\"fLabelOffset\":0.005,\"fLabelSize\":0.035,\"fTickLength\":0.03,\"fTitleOffset\":0,\"fTitleSize\":0.035,\"fTitleColor\":1,\"fTitleFont\":42,\"fNbins\":1,\"fXmin\":0.178485266898446,\"fXmax\":13510.0360667215,\"fXbins\":[],\"fFirst\":0,\"fLast\":0,\"fBits2\":0,\"fTimeDisplay\":false,\"fTimeFormat\":\"\",\"fLabels\":null,\"fModLabs\":null},\"fZaxis\":{\"_typename\":\"TAxis\",\"fUniqueID\":0,\"fBits\":50331648,\"fName\":\"zaxis\",\"fTitle\":\"\",\"fNdivisions\":510,\"fAxisColor\":1,\"fLabelColor\":1,\"fLabelFont\":42,\"fLabelOffset\":0.005,\"fLabelSize\":0.035,\"fTickLength\":0.03,\"fTitleOffset\":1,\"fTitleSize\":0.035,\"fTitleColor\":1,\"fTitleFont\":42,\"fNbins\":1,\"fXmin\":0,\"fXmax\":1,\"fXbins\":[],\"fFirst\":0,\"fLast\":0,\"fBits2\":0,\"fTimeDisplay\":false,\"fTimeFormat\":\"\",\"fLabels\":null,\"fModLabs\":null},\"fBarOffset\":0,\"fBarWidth\":1000,\"fEntries\":0,\"fTsumw\":0,\"fTsumw2\":0,\"fTsumwx\":0,\"fTsumwx2\":0,\"fMaximum\":40000,\"fMinimum\":1,\"fNormFactor\":0,\"fContour\":[],\"fSumw2\":[],\"fOption\":\"\",\"fFunctions\":{\"_typename\":\"TList\",\"name\":\"TList\",\"arr\":[],\"opt\":[]},\"fBufferSize\":0,\"fBuffer\":[],\"fBinStatErrOpt\":0,\"fStatOverflows\":2,\"fArray\":[0,0,0,0,0,0,0,0,0,0,0,0,0,0,0,0,0,0,0,0,0,0,0,0,0,0,0,0,0,0,0,0,0,0,0,0,0,0,0,0,0,0,0,0,0,0,0,0,0,0,0,0,0,0,0,0,0,0,0,0,0,0,0,0,0,0,0,0,0,0,0,0,0,0,0,0,0,0,0,0,0,0,0,0,0,0,0,0,0,0,0,0,0,0,0,0,0,0,0,0,0,0]},\"fMinimum\":-1111,\"fMaximum\":-1111,\"fEXlow\":[0.5,0.5,0.5,0.5,0.5,0.5,0.5,0.5,0.5,0.5,0.5,0.5,0.5,0.5,0.5,0.5,0.5,0.5,0.5,0.5,0.5,0.5,0.5,0.5,0.5,0.5,0.5,0.5,0.5,0.5,0.5,0.5,0.5,0.5,0.5,0.5,0.5,0.5,0.5,0.5,0.5,0.5,0.5,0.5,0.5,0.5,0.5,0.5,0.5,0.5,0.5,0.5,0.5,0.5,0.5,0.5,0.5,0.5,0.5,0.5,0.5,0.5,0.5,0.5,0.5,0.5,0.5,0.5,0.5,0.5,0.5,0.5,0.5,0.5,0.5,0.5,0.5,0.5,0.5,0.5,0.5,0.5,0.5,0.5,0.5,0.5,0.5,0.5,0.5,0.5,0.5,0.5,0.5,0.5,0.5,0.5,0.5,0.5,0.5,0.5],\"fEXhigh\":[0.5,0.5,0.5,0.5,0.5,0.5,0.5,0.5,0.5,0.5,0.5,0.5,0.5,0.5,0.5,0.5,0.5,0.5,0.5,0.5,0.5,0.5,0.5,0.5,0.5,0.5,0.5,0.5,0.5,0.5,0.5,0.5,0.5,0.5,0.5,0.5,0.5,0.5,0.5,0.5,0.5,0.5,0.5,0.5,0.5,0.5,0.5,0.5,0.5,0.5,0.5,0.5,0.5,0.5,0.5,0.5,0.5,0.5,0.5,0.5,0.5,0.5,0.5,0.5,0.5,0.5,0.5,0.5,0.5,0.5,0.5,0.5,0.5,0.5,0.5,0.5,0.5,0.5,0.5,0.5,0.5,0.5,0.5,0.5,0.5,0.5,0.5,0.5,0.5,0.5,0.5,0.5,0.5,0.5,0.5,0.5,0.5,0.5,0.5,0.5],\"fEYlow\":[43.7508344991455,37.6419679234092,34.3289002106023,31.0995716787676,27.9134014745115,24.9821779072106,22.1867462319769,19.6657377513,17.2672933206769,14.9653617060103,12.8654221272057,11.0729560168166,9.49460255366422,8.24373769013597,7.23881998844783,6.43746301155355,5.7275967319033,5.12339576164415,4.59210359165489,4.13520107021666,3.8279958200417,3.50436958413043,3.2092170554449,3.00041931831875,2.72257190086481,2.56527650591604,2.40278020367232,2.25031448873907,2.10424997709024,2.04529566977438,1.92832325017193,1.81729289201458,1.7204843592331,1.64041747191093,1.61031551145609,1.50834093638134,1.46723399146848,1.37247172557596,1.31791444484595,1.26099894145941,1.20139010183616,1.17044782028246,1.11697417399005,1.09485368314834,1.02563367433583,0.989208955249443,0.898493653091215,0.870841045649499,0.827631590746744,0.797525756414613,0.716749982561206,0.699476360267341,0.699476360267341,0.681765223258127,0.681765223258127,0.681765223258127,0.66358154036679,0.625630676084763,0.625630676084763,0.625630676084763,0.625630676084763,0.625630676084763,0.605764297338193,0.585223910141232,0.585223910141232,0.563935870531704,0.563935870531704,0.563935870531704,0.541812058876238,0.541812058876238,0.518745552477383,0.518745552477383,0.494604477624721,0.44238769357786,0.44238769357786,0.44238769357786,0.44238769357786,0.44238769357786,0.44238769357786,0.44238769357786,0.413815795373372,0.413815795373372,0.413815795373372,0.413815795373372,0.413815795373372,0.383118980960033,0.34973818013367,0.312815338042381,0.312815338042381,0.312815338042381,0.312815338042381,0.312815338042381,0.270906029438119,0.270906029438119,0.270906029438119,0.270906029438119,0.270906029438119,0.270906029438119,0.270906029438119,0.270906029438119],\"fEYhigh\":[43.7508344991455,37.6419679234092,34.3289002106023,31.0995716787676,27.9134014745115,24.9821779072106,22.1867462319769,19.6657377513,17.2672933206769,14.9653617060103,12.8654221272057,11.0729560168166,9.49460255366422,8.24373769013597,7.23881998844783,6.43746301155355,5.7275967319033,5.12339576164415,4.59210359165489,4.13520107021666,3.8279958200417,3.50436958413043,3.2092170554449,3.00041931831875,2.72257190086481,2.56527650591604,2.40278020367232,2.25031448873907,2.10424997709024,2.04529566977438,1.92832325017193,1.81729289201458,1.7204843592331,1.64041747191093,1.61031551145609,1.50834093638134,1.46723399146848,1.37247172557596,1.31791444484595,1.26099894145941,1.20139010183616,1.17044782028246,1.11697417399005,1.09485368314834,1.02563367433583,0.989208955249443,0.898493653091215,0.870841045649499,0.827631590746744,0.797525756414613,0.716749982561206,0.699476360267341,0.699476360267341,0.681765223258127,0.681765223258127,0.681765223258127,0.66358154036679,0.625630676084763,0.625630676084763,0.625630676084763,0.625630676084763,0.625630676084763,0.605764297338193,0.585223910141232,0.585223910141232,0.563935870531704,0.563935870531704,0.563935870531704,0.541812058876238,0.541812058876238,0.518745552477383,0.518745552477383,0.494604477624721,0.44238769357786,0.44238769357786,0.44238769357786,0.44238769357786,0.44238769357786,0.44238769357786,0.44238769357786,0.413815795373372,0.413815795373372,0.413815795373372,0.413815795373372,0.413815795373372,0.383118980960033,0.34973818013367,0.312815338042381,0.312815338042381,0.312815338042381,0.312815338042381,0.312815338042381,0.270906029438119,0.270906029438119,0.270906029438119,0.270906029438119,0.270906029438119,0.270906029438119,0.270906029438119,0.270906029438119]},{\"_typename\":\"TGraphAsymmErrors\",\"fUniqueID\":0,\"fBits\":50332680,\"fName\":\"4a1380\",\"fTitle\":\";; rate [kHz]\",\"fLineColor\":417,\"fLineStyle\":1,\"fLineWidth\":1,\"fFillColor\":0,\"fFillStyle\":1001,\"fMarkerColor\":417,\"fMarkerStyle\":22,\"fMarkerSize\":0.5,\"fNpoints\":100,\"fX\":[0,1,2,3,4,5,6,7,8,9,10,11,12,13,14,15,16,17,18,19,20,21,22,23,24,25,26,27,28,29,30,31,32,33,34,35,36,37,38,39,40,41,42,43,44,45,46,47,48,49,50,51,52,53,54,55,56,57,58,59,60,61,62,63,64,65,66,67,68,69,70,71,72,73,74,75,76,77,78,79,80,81,82,83,84,85,86,87,88,89,90,91,92,93,94,95,96,97,98,99],\"fY\":[31000,31000,31000,31000,31000,31000,30643.005859375,23554.10546875,13835.9404296875,7646.1357421875,4261.783203125,2446.38745117188,1484.6865234375,951.824279785156,621.752319335938,427.245635986328,301.238433837891,225.889007568359,173.956832885742,137.47688293457,109.917778015137,88.8900299072266,73.2785186767578,60.8530311584473,52.0914688110352,44.4450149536133,37.9136695861816,33.6125373840332,29.4707088470459,26.4439868927002,22.7800617218018,20.7091464996338,18.7975330352783,17.0452213287354,15.7708120346069,14.1778001785278,13.5405960083008,12.584789276123,12.2661867141724,10.8324766159058,10.1952724456787,9.39876651763916,8.44295978546143,7.80575561523438,6.84994840621948,6.37204504013062,6.05344295501709,5.89414167404175,5.2569375038147,4.46043157577515,3.98252820968628,3.34532380104065,2.86742043495178,2.70811915397644,2.54881811141968,2.54881811141968,2.38951706886292,2.23021578788757,1.59301126003265,1.43371021747589,0.955806791782379,0.955806791782379,0.955806791782379,0.955806791782379,0.955806791782379,0.955806791782379,0.955806791782379,0.955806791782379,0.955806791782379,0.955806791782379,0.955806791782379,0.955806791782379,0.955806791782379,0.796505630016327,0.796505630016327,0.796505630016327,0.796505630016327,0.796505630016327,0.796505630016327,0.637204527854919,0.637204527854919,0.637204527854919,0.637204527854919,0.637204527854919,0.637204527854919,0.637204527854919,0.47790339589119,0.47790339589119,0.47790339589119,0.47790339589119,0.47790339589119,0.47790339589119,0.47790339589119,0.47790339589119,0.31860226392746,0.31860226392746,0.31860226392746,0.31860226392746,0.31860226392746,0.15930113196373],\"fFunctions\":{\"_typename\":\"TList\",\"name\":\"TList\",\"arr\":[],\"opt\":[]},\"fHistogram\":{\"_typename\":\"TH1F\",\"fUniqueID\":0,\"fBits\":50332160,\"fName\":\"4a1380\",\"fTitle\":\"\",\"fLineColor\":602,\"fLineStyle\":1,\"fLineWidth\":1,\"fFillColor\":0,\"fFillStyle\":1001,\"fMarkerColor\":1,\"fMarkerStyle\":1,\"fMarkerSize\":1,\"fNcells\":102,\"fXaxis\":{\"_typename\":\"TAxis\",\"fUniqueID\":0,\"fBits\":50331656,\"fName\":\"xaxis\",\"fTitle\":\"online p_{T} thresh. [GeV]\",\"fNdivisions\":510,\"fAxisColor\":1,\"fLabelColor\":1,\"fLabelFont\":42,\"fLabelOffset\":0.005,\"fLabelSize\":0.035,\"fTickLength\":0.03,\"fTitleOffset\":1.4,\"fTitleSize\":0.035,\"fTitleColor\":1,\"fTitleFont\":42,\"fNbins\":100,\"fXmin\":0,\"fXmax\":60,\"fXbins\":[],\"fFirst\":0,\"fLast\":0,\"fBits2\":0,\"fTimeDisplay\":false,\"fTimeFormat\":\"\",\"fLabels\":null,\"fModLabs\":null},\"fYaxis\":{\"_typename\":\"TAxis\",\"fUniqueID\":0,\"fBits\":50331656,\"fName\":\"yaxis\",\"fTitle\":\" rate [kHz]\",\"fNdivisions\":510,\"fAxisColor\":1,\"fLabelColor\":1,\"fLabelFont\":42,\"fLabelOffset\":0.005,\"fLabelSize\":0.035,\"fTickLength\":0.03,\"fTitleOffset\":0,\"fTitleSize\":0.035,\"fTitleColor\":1,\"fTitleFont\":42,\"fNbins\":1,\"fXmin\":1.29561998629679e-9,\"fXmax\":34177.3006171123,\"fXbins\":[],\"fFirst\":0,\"fLast\":0,\"fBits2\":0,\"fTimeDisplay\":false,\"fTimeFormat\":\"\",\"fLabels\":null,\"fModLabs\":null},\"fZaxis\":{\"_typename\":\"TAxis\",\"fUniqueID\":0,\"fBits\":50331648,\"fName\":\"zaxis\",\"fTitle\":\"\",\"fNdivisions\":510,\"fAxisColor\":1,\"fLabelColor\":1,\"fLabelFont\":42,\"fLabelOffset\":0.005,\"fLabelSize\":0.035,\"fTickLength\":0.03,\"fTitleOffset\":1,\"fTitleSize\":0.035,\"fTitleColor\":1,\"fTitleFont\":42,\"fNbins\":1,\"fXmin\":0,\"fXmax\":1,\"fXbins\":[],\"fFirst\":0,\"fLast\":0,\"fBits2\":0,\"fTimeDisplay\":false,\"fTimeFormat\":\"\",\"fLabels\":null,\"fModLabs\":null},\"fBarOffset\":0,\"fBarWidth\":1000,\"fEntries\":0,\"fTsumw\":0,\"fTsumw2\":0,\"fTsumwx\":0,\"fTsumwx2\":0,\"fMaximum\":40000,\"fMinimum\":1,\"fNormFactor\":0,\"fContour\":[],\"fSumw2\":[],\"fOption\":\"\",\"fFunctions\":{\"_typename\":\"TList\",\"name\":\"TList\",\"arr\":[],\"opt\":[]},\"fBufferSize\":0,\"fBuffer\":[],\"fBinStatErrOpt\":0,\"fStatOverflows\":2,\"fArray\":[0,0,0,0,0,0,0,0,0,0,0,0,0,0,0,0,0,0,0,0,0,0,0,0,0,0,0,0,0,0,0,0,0,0,0,0,0,0,0,0,0,0,0,0,0,0,0,0,0,0,0,0,0,0,0,0,0,0,0,0,0,0,0,0,0,0,0,0,0,0,0,0,0,0,0,0,0,0,0,0,0,0,0,0,0,0,0,0,0,0,0,0,0,0,0,0,0,0,0,0,0,0]},\"fMinimum\":-1111,\"fMaximum\":-1111,\"fEXlow\":[0.5,0.5,0.5,0.5,0.5,0.5,0.5,0.5,0.5,0.5,0.5,0.5,0.5,0.5,0.5,0.5,0.5,0.5,0.5,0.5,0.5,0.5,0.5,0.5,0.5,0.5,0.5,0.5,0.5,0.5,0.5,0.5,0.5,0.5,0.5,0.5,0.5,0.5,0.5,0.5,0.5,0.5,0.5,0.5,0.5,0.5,0.5,0.5,0.5,0.5,0.5,0.5,0.5,0.5,0.5,0.5,0.5,0.5,0.5,0.5,0.5,0.5,0.5,0.5,0.5,0.5,0.5,0.5,0.5,0.5,0.5,0.5,0.5,0.5,0.5,0.5,0.5,0.5,0.5,0.5,0.5,0.5,0.5,0.5,0.5,0.5,0.5,0.5,0.5,0.5,0.5,0.5,0.5,0.5,0.5,0.5,0.5,0.5,0.5,0.5],\"fEXhigh\":[0.5,0.5,0.5,0.5,0.5,0.5,0.5,0.5,0.5,0.5,0.5,0.5,0.5,0.5,0.5,0.5,0.5,0.5,0.5,0.5,0.5,0.5,0.5,0.5,0.5,0.5,0.5,0.5,0.5,0.5,0.5,0.5,0.5,0.5,0.5,0.5,0.5,0.5,0.5,0.5,0.5,0.5,0.5,0.5,0.5,0.5,0.5,0.5,0.5,0.5,0.5,0.5,0.5,0.5,0.5,0.5,0.5,0.5,0.5,0.5,0.5,0.5,0.5,0.5,0.5,0.5,0.5,0.5,0.5,0.5,0.5,0.5,0.5,0.5,0.5,0.5,0.5,0.5,0.5,0.5,0.5,0.5,0.5,0.5,0.5,0.5,0.5,0.5,0.5,0.5,0.5,0.5,0.5,0.5,0.5,0.5,0.5,0.5,0.5,0.5],\"fEYlow\":[70.2732882840181,70.2732882840181,70.2732882840181,70.2732882840181,70.2732882840181,70.2732882840181,69.8674854634205,61.2551686936876,46.9476404740276,34.9004019352318,26.0558414378304,19.7411318903095,15.3789545722739,12.3136785674704,9.95217796650679,8.24989164774811,6.92730999033839,5.99869765566952,5.26417328774519,4.67976727100329,4.18449837238926,3.76301506825847,3.41662861395346,3.11351196740213,2.88066485570801,2.66085347247272,2.45757814612943,2.31398258189287,2.16672962883247,2.0524514929521,1.90496445547864,1.81631234214148,1.7304532128839,1.64782370717598,1.58502623588413,1.50284385968014,1.46868385496444,1.41589941899683,1.39786174722074,1.31363077486277,1.27440904419322,1.22361520135625,1.15972973570245,1.11510791366906,1.04460737026394,1.00750881259219,0.981998119691872,0.968990947786458,0.915115323960323,0.842942349876694,0.79650565262076,0.730009488918967,0.675857457865868,0.656815387431385,0.637204522096608,0.637204522096608,0.616970625552055,0.596050251747133,0.503754406296093,0.477903391572456,0.390206485232675,0.390206485232675,0.390206485232675,0.390206485232675,0.390206485232675,0.390206485232675,0.390206485232675,0.390206485232675,0.390206485232675,0.390206485232675,0.390206485232675,0.390206485232675,0.390206485232675,0.356208156744571,0.356208156744571,0.356208156744571,0.356208156744571,0.356208156744571,0.356208156744571,0.318602261048304,0.318602261048304,0.318602261048304,0.318602261048304,0.318602261048304,0.318602261048304,0.318602261048304,0.275917651770993,0.275917651770993,0.275917651770993,0.275917651770993,0.275917651770993,0.275917651770993,0.275917651770993,0.275917651770993,0.225285819288623,0.225285819288623,0.225285819288623,0.225285819288623,0.225285819288623,0.159301130524152],\"fEYhigh\":[70.2732882840181,70.2732882840181,70.2732882840181,70.2732882840181,70.2732882840181,70.2732882840181,69.8674854634205,61.2551686936876,46.9476404740276,34.9004019352318,26.0558414378304,19.7411318903095,15.3789545722739,12.3136785674704,9.95217796650679,8.24989164774811,6.92730999033839,5.99869765566952,5.26417328774519,4.67976727100329,4.18449837238926,3.76301506825847,3.41662861395346,3.11351196740213,2.88066485570801,2.66085347247272,2.45757814612943,2.31398258189287,2.16672962883247,2.0524514929521,1.90496445547864,1.81631234214148,1.7304532128839,1.64782370717598,1.58502623588413,1.50284385968014,1.46868385496444,1.41589941899683,1.39786174722074,1.31363077486277,1.27440904419322,1.22361520135625,1.15972973570245,1.11510791366906,1.04460737026394,1.00750881259219,0.981998119691872,0.968990947786458,0.915115323960323,0.842942349876694,0.79650565262076,0.730009488918967,0.675857457865868,0.656815387431385,0.637204522096608,0.637204522096608,0.616970625552055,0.596050251747133,0.503754406296093,0.477903391572456,0.390206485232675,0.390206485232675,0.390206485232675,0.390206485232675,0.390206485232675,0.390206485232675,0.390206485232675,0.390206485232675,0.390206485232675,0.390206485232675,0.390206485232675,0.390206485232675,0.390206485232675,0.356208156744571,0.356208156744571,0.356208156744571,0.356208156744571,0.356208156744571,0.356208156744571,0.318602261048304,0.318602261048304,0.318602261048304,0.318602261048304,0.318602261048304,0.318602261048304,0.318602261048304,0.275917651770993,0.275917651770993,0.275917651770993,0.275917651770993,0.275917651770993,0.275917651770993,0.275917651770993,0.275917651770993,0.225285819288623,0.225285819288623,0.225285819288623,0.225285819288623,0.225285819288623,0.159301130524152]},{\"_typename\":\"TLegend\",\"fUniqueID\":0,\"fBits\":50331656,\"fLineColor\":1,\"fLineStyle\":1,\"fLineWidth\":1,\"fFillColor\":0,\"fFillStyle\":0,\"fX1\":60.0000012548346,\"fY1\":3.46648676623254,\"fX2\":86.3157910587385,\"fY2\":4.30322494849808,\"fX1NDC\":0.7,\"fY1NDC\":0.71,\"fX2NDC\":0.95,\"fY2NDC\":0.85,\"fBorderSize\":0,\"fInit\":1,\"fShadowColor\":1,\"fCornerRadius\":0,\"fOption\":\"brNDC\",\"fName\":\"TPave\",\"fTextAngle\":0,\"fTextSize\":0.03,\"fTextAlign\":12,\"fTextColor\":1,\"fTextFont\":42,\"fPrimitives\":{\"_typename\":\"TList\",\"name\":\"TList\",\"arr\":[{\"_typename\":\"TLegendEntry\",\"fUniqueID\":0,\"fBits\":50331656,\"fTextAngle\":0,\"fTextSize\":0,\"fTextAlign\":0,\"fTextColor\":0,\"fTextFont\":42,\"fLineColor\":1,\"fLineStyle\":1,\"fLineWidth\":1,\"fFillColor\":0,\"fFillStyle\":0,\"fMarkerColor\":1,\"fMarkerStyle\":8,\"fMarkerSize\":0.5,\"fObject\":{\"$ref\":3},\"fLabel\":\"V9\",\"fOption\":\"P\"},{\"_typename\":\"TLegendEntry\",\"fUniqueID\":0,\"fBits\":50331656,\"fTextAngle\":0,\"fTextSize\":0,\"fTextAlign\":0,\"fTextColor\":0,\"fTextFont\":42,\"fLineColor\":1,\"fLineStyle\":1,\"fLineWidth\":1,\"fFillColor\":0,\"fFillStyle\":0,\"fMarkerColor\":628,\"fMarkerStyle\":21,\"fMarkerSize\":0.5,\"fObject\":{\"$ref\":10},\"fLabel\":\"V10\",\"fOption\":\"P\"},{\"_typename\":\"TLegendEntry\",\"fUniqueID\":0,\"fBits\":50331656,\"fTextAngle\":0,\"fTextSize\":0,\"fTextAlign\":0,\"fTextColor\":0,\"fTextFont\":42,\"fLineColor\":1,\"fLineStyle\":1,\"fLineWidth\":1,\"fFillColor\":0,\"fFillStyle\":0,\"fMarkerColor\":417,\"fMarkerStyle\":22,\"fMarkerSize\":0.5,\"fObject\":{\"$ref\":17},\"fLabel\":\"TDR\",\"fOption\":\"P\"}],\"opt\":[\"P\",\"P\",\"P\"]},\"fEntrySeparation\":0.1,\"fMargin\":0.25,\"fNColumns\":1,\"fColumnSeparation\":0},{\"_typename\":\"TLatex\",\"fUniqueID\":0,\"fBits\":50348040,\"fName\":\"\",\"fTitle\":\"PU200, HM #Delta#rho < 0.015 calib., EGId, 1.52 < |#eta^{L1}| <= 2.8\",\"fTextAngle\":0,\"fTextSize\":0.03,\"fTextAlign\":11,\"fTextColor\":1,\"fTextFont\":62,\"fX\":0.15,\"fY\":0.85,\"fLineColor\":1,\"fLineStyle\":1,\"fLineWidth\":2,\"fLimitFactorSize\":3,\"fOriginSize\":0.04},{\"_typename\":\"TLatex\",\"fUniqueID\":0,\"fBits\":50331656,\"fName\":\"\",\"fTitle\":\"\",\"fTextAngle\":0,\"fTextSize\":0.03,\"fTextAlign\":11,\"fTextColor\":1,\"fTextFont\":62,\"fX\":0,\"fY\":0,\"fLineColor\":1,\"fLineStyle\":1,\"fLineWidth\":2,\"fLimitFactorSize\":3,\"fOriginSize\":0.04}],\"opt\":[\"\",\"pa\",\",p\",\",p\",\"same\",\"same\",\"same\"]},\"fExecs\":null,\"fName\":\"c_74d079\",\"fTitle\":\"c_74d079\",\"fNumPaletteColor\":0,\"fNextPaletteColor\":0,\"fDISPLAY\":\"$DISPLAY\",\"fDoubleBuffer\":0,\"fRetained\":true,\"fXsizeUser\":0,\"fYsizeUser\":0,\"fXsizeReal\":20,\"fYsizeReal\":15,\"fWindowTopX\":0,\"fWindowTopY\":0,\"fWindowWidth\":0,\"fWindowHeight\":0,\"fCw\":796,\"fCh\":572,\"fCatt\":{\"_typename\":\"TAttCanvas\",\"fXBetween\":2,\"fYBetween\":2,\"fTitleFromTop\":1.2,\"fXdate\":0.2,\"fYdate\":0.3,\"fAdate\":1},\"kMoveOpaque\":true,\"kResizeOpaque\":true,\"fHighLightColor\":2,\"fBatch\":true,\"kShowEventStatus\":false,\"kAutoExec\":true,\"kMenuBar\":true});\n",
       "       Core.draw(\"root_plot_9\", obj, \"\");\n",
       "     }\n",
       " );\n",
       "</script>\n"
      ],
      "text/plain": [
       "<IPython.core.display.HTML object>"
      ]
     },
     "metadata": {},
     "output_type": "display_data"
    }
   ],
   "source": [
    "hsets, labels, text = hplot.get_histo(histos.RateHistos, None, 'PU200', 'HMvDRshapeDrCalib', 'EmEtaBCD', None)\n",
    "draw([his.g_pt_online for his in hsets], labels, text=text,  \n",
    "     min_y =1, max_y=40000,\n",
    "     min_x=0, max_x=60,\n",
    "     logy=True, x_axis_label='online p_{T} thresh. [GeV]')\n"
   ]
  },
  {
   "cell_type": "code",
   "execution_count": 40,
   "metadata": {},
   "outputs": [
    {
     "data": {
      "text/plain": [
       "<drawingTools.DrawMachine at 0x120a6da50>"
      ]
     },
     "execution_count": 40,
     "metadata": {},
     "output_type": "execute_result"
    },
    {
     "data": {
      "text/html": [
       "\n",
       "<div id=\"root_plot_10\"\n",
       "     style=\"width: 796px; height: 572px\">\n",
       "</div>\n",
       "\n",
       "<script>\n",
       " requirejs.config({\n",
       "     paths: {\n",
       "       'JSRootCore' : 'https://root.cern.ch/js/notebook//scripts/JSRootCore',\n",
       "     }\n",
       "   });\n",
       " require(['JSRootCore'],\n",
       "     function(Core) {\n",
       "       var obj = Core.JSONR_unref({\"_typename\":\"TCanvas\",\"fUniqueID\":0,\"fBits\":53673992,\"fLineColor\":1,\"fLineStyle\":1,\"fLineWidth\":1,\"fFillColor\":0,\"fFillStyle\":1001,\"fLeftMargin\":0.13,\"fRightMargin\":0.3,\"fBottomMargin\":0.13,\"fTopMargin\":0.1,\"fXfile\":2,\"fYfile\":2,\"fAfile\":1,\"fXstat\":0.99,\"fYstat\":0.99,\"fAstat\":2,\"fFrameFillColor\":0,\"fFrameLineColor\":1,\"fFrameFillStyle\":1001,\"fFrameLineStyle\":1,\"fFrameLineWidth\":1,\"fFrameBorderSize\":1,\"fFrameBorderMode\":0,\"fX1\":-13.6842101960961,\"fY1\":-0.776971158114093,\"fX2\":91.5789490195193,\"fY2\":5.19973014378258,\"fXtoAbsPixelk\":103.480046204376,\"fXtoPixelk\":103.480046204376,\"fXtoPixel\":7.56199990510941,\"fYtoAbsPixelk\":497.640051065433,\"fYtoPixelk\":497.640051065433,\"fYtoPixel\":-95.7049668549571,\"fUtoAbsPixelk\":5e-5,\"fUtoPixelk\":5e-5,\"fUtoPixel\":796,\"fVtoAbsPixelk\":572.00005,\"fVtoPixelk\":572,\"fVtoPixel\":-572,\"fAbsPixeltoXk\":-13.6842101960961,\"fPixeltoXk\":-13.6842101960961,\"fPixeltoX\":0.132240149768361,\"fAbsPixeltoYk\":5.19973014378258,\"fPixeltoYk\":-0.776971158114093,\"fPixeltoY\":-0.0104487784998194,\"fXlowNDC\":0,\"fYlowNDC\":0,\"fXUpNDC\":0,\"fYUpNDC\":0,\"fWNDC\":1,\"fHNDC\":1,\"fAbsXlowNDC\":0,\"fAbsYlowNDC\":0,\"fAbsWNDC\":1,\"fAbsHNDC\":1,\"fUxmin\":0,\"fUymin\":0,\"fUxmax\":60,\"fUymax\":4.60205999132796,\"fTheta\":30,\"fPhi\":30,\"fAspectRatio\":0,\"fNumber\":0,\"fTickx\":0,\"fTicky\":0,\"fLogx\":0,\"fLogy\":1,\"fLogz\":0,\"fPadPaint\":0,\"fCrosshair\":0,\"fCrosshairPos\":0,\"fBorderSize\":2,\"fBorderMode\":0,\"fModified\":false,\"fGridx\":true,\"fGridy\":true,\"fAbsCoord\":false,\"fEditable\":true,\"fFixedAspectRatio\":false,\"fPrimitives\":{\"_typename\":\"TList\",\"name\":\"TList\",\"arr\":[{\"_typename\":\"TFrame\",\"fUniqueID\":0,\"fBits\":50331656,\"fLineColor\":1,\"fLineStyle\":1,\"fLineWidth\":1,\"fFillColor\":0,\"fFillStyle\":1001,\"fX1\":0,\"fY1\":0,\"fX2\":60,\"fY2\":4.60205999132796,\"fBorderSize\":1,\"fBorderMode\":0},{\"_typename\":\"TGraphAsymmErrors\",\"fUniqueID\":0,\"fBits\":50332680,\"fName\":\"8b0bb8\",\"fTitle\":\";; rate [kHz]\",\"fLineColor\":1,\"fLineStyle\":1,\"fLineWidth\":1,\"fFillColor\":0,\"fFillStyle\":1001,\"fMarkerColor\":1,\"fMarkerStyle\":8,\"fMarkerSize\":0.5,\"fNpoints\":100,\"fX\":[5.19710346603596,6.42604607784151,7.65498868964706,8.88393130145261,10.1128739132582,11.3418165250637,12.5707591368693,13.7997017486748,15.0286443604804,16.2575869722859,17.4865295840915,18.715472195897,19.9444148077026,21.1733574195081,22.4023000313137,23.6312426431192,24.8601852549248,26.0891278667303,27.3180704785359,28.5470130903414,29.775955702147,31.0048983139525,32.2338409257581,33.4627835375636,34.6917261493692,35.9206687611747,37.1496113729803,38.3785539847858,39.6074965965914,40.8364392083969,42.0653818202025,43.294324432008,44.5232670438136,45.7522096556191,46.9811522674247,48.2100948792302,49.4390374910358,50.6679801028413,51.8969227146469,53.1258653264524,54.354807938258,55.5837505500635,56.8126931618691,58.0416357736746,59.2705783854802,60.4995209972857,61.7284636090913,62.9574062208968,64.1863488327024,65.4152914445079,66.6442340563135,67.873176668119,69.1021192799246,70.3310618917301,71.5600045035357,72.7889471153412,74.0178897271468,75.2468323389523,76.4757749507579,77.7047175625634,78.933660174369,80.1626027861745,81.3915453979801,82.6204880097856,83.8494306215912,85.0783732333967,86.3073158452023,87.5362584570078,88.7652010688134,89.9941436806189,91.2230862924245,92.45202890423,93.6809715160356,94.9099141278411,96.1388567396467,97.3677993514522,98.5967419632578,99.8256845750633,101.054627186869,102.283569798674,103.51251241048,104.741455022286,105.970397634091,107.199340245897,108.428282857702,109.657225469508,110.886168081313,112.115110693119,113.344053304924,114.57299591673,115.801938528536,117.030881140341,118.259823752147,119.488766363952,120.717708975758,121.946651587563,123.175594199369,124.404536811174,125.63347942298,126.862422034785],\"fY\":[31000,30999.37890625,30967.728515625,30601.5625,29123.708984375,26290.419921875,22494.859375,18573.00390625,14812.8173828125,11395.21484375,8335.2451171875,5902.8779296875,4193.84375,2995.58056640625,2121.74682617188,1510.90087890625,1096.17114257812,815.9609375,606.346374511719,471.361358642578,370.045043945312,297.277282714844,235.835830688477,190.996002197266,160.740737915039,136.381378173828,116.211212158203,98.5235214233398,87.3523559570312,76.9569549560547,67.9579544067383,59.8898887634277,53.0630645751953,47.4774780273438,43.4434432983398,39.2542533874512,35.375373840332,32.7377395629883,30.1000995635986,27.9279270172119,25.7557563781738,23.1181182861328,21.4114112854004,19.2392387390137,17.9979972839355,17.3773765563965,16.4464473724365,15.3603601455688,13.498498916626,11.7917919158936,10.860860824585,10.3953952789307,9.61961936950684,9.3093090057373,8.84384346008301,8.68868827819824,8.0680685043335,7.13713693618774,6.51651668548584,5.74074077606201,5.27527523040771,4.80980968475342,4.49949932098389,4.03403425216675,4.03403425216675,3.72372364997864,3.72372364997864,3.72372364997864,3.72372364997864,3.72372364997864,3.56856846809387,3.25825834274292,3.10310316085815,2.94794797897339,2.79279279708862,2.63763761520386,2.63763761520386,2.63763761520386,2.32732725143433,2.01701712608337,2.01701712608337,1.86186182498932,1.86186182498932,1.55155158042908,1.55155158042908,1.39639639854431,0.930930912494659,0.930930912494659,0.930930912494659,0.930930912494659,0.930930912494659,0.930930912494659,0.930930912494659,0.930930912494659,0.930930912494659,0.775775790214539,0.775775790214539,0.775775790214539,0.775775790214539,0.775775790214539],\"fFunctions\":{\"_typename\":\"TList\",\"name\":\"TList\",\"arr\":[],\"opt\":[]},\"fHistogram\":{\"_typename\":\"TH1F\",\"fUniqueID\":0,\"fBits\":50332168,\"fName\":\"8b0bb8\",\"fTitle\":\"\",\"fLineColor\":602,\"fLineStyle\":1,\"fLineWidth\":1,\"fFillColor\":0,\"fFillStyle\":1001,\"fMarkerColor\":1,\"fMarkerStyle\":1,\"fMarkerSize\":1,\"fNcells\":102,\"fXaxis\":{\"_typename\":\"TAxis\",\"fUniqueID\":0,\"fBits\":50331656,\"fName\":\"xaxis\",\"fTitle\":\"offline p_{T} thresh. [GeV]\",\"fNdivisions\":510,\"fAxisColor\":1,\"fLabelColor\":1,\"fLabelFont\":42,\"fLabelOffset\":0.005,\"fLabelSize\":0.035,\"fTickLength\":0.03,\"fTitleOffset\":1.4,\"fTitleSize\":0.035,\"fTitleColor\":1,\"fTitleFont\":42,\"fNbins\":100,\"fXmin\":0,\"fXmax\":60,\"fXbins\":[],\"fFirst\":0,\"fLast\":0,\"fBits2\":0,\"fTimeDisplay\":false,\"fTimeFormat\":\"\",\"fLabels\":null,\"fModLabs\":null},\"fYaxis\":{\"_typename\":\"TAxis\",\"fUniqueID\":0,\"fBits\":50331656,\"fName\":\"yaxis\",\"fTitle\":\" rate [kHz]\",\"fNdivisions\":510,\"fAxisColor\":1,\"fLabelColor\":1,\"fLabelFont\":42,\"fLabelOffset\":0.005,\"fLabelSize\":0.035,\"fTickLength\":0.03,\"fTitleOffset\":0,\"fTitleSize\":0.035,\"fTitleColor\":1,\"fTitleFont\":42,\"fNbins\":1,\"fXmin\":1,\"fXmax\":40000,\"fXbins\":[],\"fFirst\":0,\"fLast\":0,\"fBits2\":0,\"fTimeDisplay\":false,\"fTimeFormat\":\"\",\"fLabels\":null,\"fModLabs\":null},\"fZaxis\":{\"_typename\":\"TAxis\",\"fUniqueID\":0,\"fBits\":50331648,\"fName\":\"zaxis\",\"fTitle\":\"\",\"fNdivisions\":510,\"fAxisColor\":1,\"fLabelColor\":1,\"fLabelFont\":42,\"fLabelOffset\":0.005,\"fLabelSize\":0.035,\"fTickLength\":0.03,\"fTitleOffset\":1,\"fTitleSize\":0.035,\"fTitleColor\":1,\"fTitleFont\":42,\"fNbins\":1,\"fXmin\":0,\"fXmax\":1,\"fXbins\":[],\"fFirst\":0,\"fLast\":0,\"fBits2\":0,\"fTimeDisplay\":false,\"fTimeFormat\":\"\",\"fLabels\":null,\"fModLabs\":null},\"fBarOffset\":0,\"fBarWidth\":1000,\"fEntries\":0,\"fTsumw\":0,\"fTsumw2\":0,\"fTsumwx\":0,\"fTsumwx2\":0,\"fMaximum\":40000,\"fMinimum\":1,\"fNormFactor\":0,\"fContour\":[],\"fSumw2\":[],\"fOption\":\"\",\"fFunctions\":{\"_typename\":\"TList\",\"name\":\"TList\",\"arr\":[],\"opt\":[]},\"fBufferSize\":0,\"fBuffer\":[],\"fBinStatErrOpt\":0,\"fStatOverflows\":2,\"fArray\":[0,0,0,0,0,0,0,0,0,0,0,0,0,0,0,0,0,0,0,0,0,0,0,0,0,0,0,0,0,0,0,0,0,0,0,0,0,0,0,0,0,0,0,0,0,0,0,0,0,0,0,0,0,0,0,0,0,0,0,0,0,0,0,0,0,0,0,0,0,0,0,0,0,0,0,0,0,0,0,0,0,0,0,0,0,0,0,0,0,0,0,0,0,0,0,0,0,0,0,0,0,0]},\"fMinimum\":-1111,\"fMaximum\":-1111,\"fEXlow\":[0.5,0.5,0.5,0.5,0.5,0.5,0.5,0.5,0.5,0.5,0.5,0.5,0.5,0.5,0.5,0.5,0.5,0.5,0.5,0.5,0.5,0.5,0.5,0.5,0.5,0.5,0.5,0.5,0.5,0.5,0.5,0.5,0.5,0.5,0.5,0.5,0.5,0.5,0.5,0.5,0.5,0.5,0.5,0.5,0.5,0.5,0.5,0.5,0.5,0.5,0.5,0.5,0.5,0.5,0.5,0.5,0.5,0.5,0.5,0.5,0.5,0.5,0.5,0.5,0.5,0.5,0.5,0.5,0.5,0.5,0.5,0.5,0.5,0.5,0.5,0.5,0.5,0.5,0.5,0.5,0.5,0.5,0.5,0.5,0.5,0.5,0.5,0.5,0.5,0.5,0.5,0.5,0.5,0.5,0.5,0.5,0.5,0.5,0.5,0.5],\"fEXhigh\":[0.5,0.5,0.5,0.5,0.5,0.5,0.5,0.5,0.5,0.5,0.5,0.5,0.5,0.5,0.5,0.5,0.5,0.5,0.5,0.5,0.5,0.5,0.5,0.5,0.5,0.5,0.5,0.5,0.5,0.5,0.5,0.5,0.5,0.5,0.5,0.5,0.5,0.5,0.5,0.5,0.5,0.5,0.5,0.5,0.5,0.5,0.5,0.5,0.5,0.5,0.5,0.5,0.5,0.5,0.5,0.5,0.5,0.5,0.5,0.5,0.5,0.5,0.5,0.5,0.5,0.5,0.5,0.5,0.5,0.5,0.5,0.5,0.5,0.5,0.5,0.5,0.5,0.5,0.5,0.5,0.5,0.5,0.5,0.5,0.5,0.5,0.5,0.5,0.5,0.5,0.5,0.5,0.5,0.5,0.5,0.5,0.5,0.5,0.5,0.5],\"fEYlow\":[69.3527923721158,69.3520981464954,69.3166834203584,68.905660377607,67.2212283686727,63.8677873377855,59.0778594039258,53.6814415103404,47.9404322759878,42.0479058306487,35.961872438491,30.2632108839111,25.5087532484064,21.5587515816605,18.1438679914575,15.310913222383,13.0413422675609,11.2516909617376,9.69936912614057,8.55185039369651,7.57722880599236,6.79147274750168,6.04906155533689,5.44371319898212,4.99397182304668,4.60002982474055,4.24626524209734,3.90978676895875,3.68146272321166,3.45546937432894,3.24715683498572,3.04831513431453,2.86932183321379,2.71410673784091,2.59624232458021,2.46789382051148,2.34279146640033,2.25375881099276,2.16106124420775,2.08162484391872,1.99903433697937,1.89391003046919,1.82266037967264,1.72773468716447,1.67107216237407,1.64200782068073,1.59742009194493,1.54377430181708,1.44719094417294,1.35261128378139,1.29812116229011,1.26999967931955,1.22169291338522,1.20182666398829,1.17139573320017,1.16107486476469,1.11883973512897,1.05231346084526,1.0055203285818,0.943771964160384,0.904702245946969,0.863867343582236,0.835536081187035,0.791139163770652,0.791139163770652,0.76010192218497,0.76010192218497,0.76010192218497,0.76010192218497,0.76010192218497,0.744097984097569,0.711010242961116,0.693874947972908,0.676305641890695,0.658267574077567,0.639721093063801,0.639721093063801,0.639721093063801,0.600913331994144,0.559419867564483,0.559419867564483,0.537473223569922,0.537473223569922,0.490643681007106,0.490643681007106,0.465465465465465,0.380050961092485,0.380050961092485,0.380050961092485,0.380050961092485,0.380050961092485,0.380050961092485,0.380050961092485,0.380050961092485,0.380050961092485,0.346937473986454,0.346937473986454,0.346937473986454,0.346937473986454,0.346937473986454],\"fEYhigh\":[69.3527923721158,69.3520981464954,69.3166834203584,68.905660377607,67.2212283686727,63.8677873377855,59.0778594039258,53.6814415103404,47.9404322759878,42.0479058306487,35.961872438491,30.2632108839111,25.5087532484064,21.5587515816605,18.1438679914575,15.310913222383,13.0413422675609,11.2516909617376,9.69936912614057,8.55185039369651,7.57722880599236,6.79147274750168,6.04906155533689,5.44371319898212,4.99397182304668,4.60002982474055,4.24626524209734,3.90978676895875,3.68146272321166,3.45546937432894,3.24715683498572,3.04831513431453,2.86932183321379,2.71410673784091,2.59624232458021,2.46789382051148,2.34279146640033,2.25375881099276,2.16106124420775,2.08162484391872,1.99903433697937,1.89391003046919,1.82266037967264,1.72773468716447,1.67107216237407,1.64200782068073,1.59742009194493,1.54377430181708,1.44719094417294,1.35261128378139,1.29812116229011,1.26999967931955,1.22169291338522,1.20182666398829,1.17139573320017,1.16107486476469,1.11883973512897,1.05231346084526,1.0055203285818,0.943771964160384,0.904702245946969,0.863867343582236,0.835536081187035,0.791139163770652,0.791139163770652,0.76010192218497,0.76010192218497,0.76010192218497,0.76010192218497,0.76010192218497,0.744097984097569,0.711010242961116,0.693874947972908,0.676305641890695,0.658267574077567,0.639721093063801,0.639721093063801,0.639721093063801,0.600913331994144,0.559419867564483,0.559419867564483,0.537473223569922,0.537473223569922,0.490643681007106,0.490643681007106,0.465465465465465,0.380050961092485,0.380050961092485,0.380050961092485,0.380050961092485,0.380050961092485,0.380050961092485,0.380050961092485,0.380050961092485,0.380050961092485,0.346937473986454,0.346937473986454,0.346937473986454,0.346937473986454,0.346937473986454]},{\"_typename\":\"TGraphAsymmErrors\",\"fUniqueID\":0,\"fBits\":50332680,\"fName\":\"c1cd6a\",\"fTitle\":\";; rate [kHz]\",\"fLineColor\":628,\"fLineStyle\":1,\"fLineWidth\":1,\"fFillColor\":0,\"fFillStyle\":1001,\"fMarkerColor\":628,\"fMarkerStyle\":21,\"fMarkerSize\":0.5,\"fNpoints\":100,\"fX\":[5.7218887522273,6.94133092939376,8.16077310656021,9.38021528372666,10.5996574608931,11.8190996380596,13.038541815226,14.2579839923925,15.4774261695589,16.6968683467254,17.9163105238918,19.1357527010583,20.3551948782247,21.5746370553912,22.7940792325576,24.0135214097241,25.2329635868905,26.452405764057,27.6718479412234,28.8912901183899,30.1107322955563,31.3301744727228,32.5496166498892,33.7690588270557,34.9885010042221,36.2079431813886,37.427385358555,38.6468275357215,39.8662697128879,41.0857118900544,42.3051540672208,43.5245962443873,44.7440384215537,45.9634805987202,47.1829227758866,48.4023649530531,49.6218071302196,50.841249307386,52.0606914845524,53.2801336617189,54.4995758388853,55.7190180160518,56.9384601932182,58.1579023703847,59.3773445475512,60.5967867247176,61.8162289018841,63.0356710790505,64.255113256217,65.4745554333834,66.6939976105499,67.9134397877163,69.1328819648828,70.3523241420492,71.5717663192157,72.7912084963821,74.0106506735486,75.230092850715,76.4495350278815,77.6689772050479,78.8884193822144,80.1078615593808,81.3273037365473,82.5467459137137,83.7661880908802,84.9856302680466,86.2050724452131,87.4245146223795,88.643956799546,89.8633989767124,91.0828411538789,92.3022833310453,93.5217255082118,94.7411676853782,95.9606098625447,97.1800520397111,98.3994942168776,99.618936394044,100.83837857121,102.057820748377,103.277262925543,104.49670510271,105.716147279876,106.935589457043,108.155031634209,109.374473811376,110.593915988542,111.813358165709,113.032800342875,114.252242520041,115.471684697208,116.691126874374,117.910569051541,119.130011228707,120.349453405874,121.56889558304,122.788337760207,124.007779937373,125.22722211454,126.446664291706],\"fY\":[12238.1181640625,9059.1318359375,7534.62646484375,6183.7333984375,4981.58447265625,3990.2724609375,3147.23510742188,2472.64892578125,1906.29663085938,1431.91223144531,1058.25427246094,783.915222167969,576.362243652344,434.500518798828,335.025238037109,264.95458984375,209.742691040039,167.825424194336,134.82341003418,109.328964233398,93.6881942749023,78.5166473388672,65.8476257324219,57.5580215454102,47.3915252685547,42.0736618041992,36.9122085571289,32.3763885498047,28.3097877502441,26.7457122802734,23.7739658355713,21.1150360107422,18.9253273010254,17.2048435211182,16.5792121887207,14.5459127426147,13.7638750076294,12.0433902740479,11.104944229126,10.1664981842041,9.22805213928223,8.75882911682129,7.97679090499878,7.66397571563721,6.72552967071533,6.25630664825439,5.16145324707031,4.84863758087158,4.37941455841064,4.06659936904907,3.28456115722656,3.1281533241272,3.1281533241272,2.97174572944641,2.97174572944641,2.97174572944641,2.81533813476562,2.50252270698547,2.50252270698547,2.50252270698547,2.50252270698547,2.50252270698547,2.34611511230469,2.18970727920532,2.18970727920532,2.03329968452454,2.03329968452454,2.03329968452454,1.87689197063446,1.87689197063446,1.72048437595367,1.72048437595367,1.5640766620636,1.25126135349274,1.25126135349274,1.25126135349274,1.25126135349274,1.25126135349274,1.25126135349274,1.25126135349274,1.09485363960266,1.09485363960266,1.09485363960266,1.09485363960266,1.09485363960266,0.93844598531723,0.782038331031799,0.625630676746368,0.625630676746368,0.625630676746368,0.625630676746368,0.625630676746368,0.469222992658615,0.469222992658615,0.469222992658615,0.469222992658615,0.469222992658615,0.469222992658615,0.469222992658615,0.469222992658615],\"fFunctions\":{\"_typename\":\"TList\",\"name\":\"TList\",\"arr\":[],\"opt\":[]},\"fHistogram\":{\"_typename\":\"TH1F\",\"fUniqueID\":0,\"fBits\":50332168,\"fName\":\"c1cd6a\",\"fTitle\":\"\",\"fLineColor\":602,\"fLineStyle\":1,\"fLineWidth\":1,\"fFillColor\":0,\"fFillStyle\":1001,\"fMarkerColor\":1,\"fMarkerStyle\":1,\"fMarkerSize\":1,\"fNcells\":102,\"fXaxis\":{\"_typename\":\"TAxis\",\"fUniqueID\":0,\"fBits\":50331656,\"fName\":\"xaxis\",\"fTitle\":\"offline p_{T} thresh. [GeV]\",\"fNdivisions\":510,\"fAxisColor\":1,\"fLabelColor\":1,\"fLabelFont\":42,\"fLabelOffset\":0.005,\"fLabelSize\":0.035,\"fTickLength\":0.03,\"fTitleOffset\":1.4,\"fTitleSize\":0.035,\"fTitleColor\":1,\"fTitleFont\":42,\"fNbins\":100,\"fXmin\":0,\"fXmax\":60,\"fXbins\":[],\"fFirst\":0,\"fLast\":0,\"fBits2\":0,\"fTimeDisplay\":false,\"fTimeFormat\":\"\",\"fLabels\":null,\"fModLabs\":null},\"fYaxis\":{\"_typename\":\"TAxis\",\"fUniqueID\":0,\"fBits\":50331656,\"fName\":\"yaxis\",\"fTitle\":\" rate [kHz]\",\"fNdivisions\":510,\"fAxisColor\":1,\"fLabelColor\":1,\"fLabelFont\":42,\"fLabelOffset\":0.005,\"fLabelSize\":0.035,\"fTickLength\":0.03,\"fTitleOffset\":0,\"fTitleSize\":0.035,\"fTitleColor\":1,\"fTitleFont\":42,\"fNbins\":1,\"fXmin\":0.178485266898446,\"fXmax\":13510.0360667215,\"fXbins\":[],\"fFirst\":0,\"fLast\":0,\"fBits2\":0,\"fTimeDisplay\":false,\"fTimeFormat\":\"\",\"fLabels\":null,\"fModLabs\":null},\"fZaxis\":{\"_typename\":\"TAxis\",\"fUniqueID\":0,\"fBits\":50331648,\"fName\":\"zaxis\",\"fTitle\":\"\",\"fNdivisions\":510,\"fAxisColor\":1,\"fLabelColor\":1,\"fLabelFont\":42,\"fLabelOffset\":0.005,\"fLabelSize\":0.035,\"fTickLength\":0.03,\"fTitleOffset\":1,\"fTitleSize\":0.035,\"fTitleColor\":1,\"fTitleFont\":42,\"fNbins\":1,\"fXmin\":0,\"fXmax\":1,\"fXbins\":[],\"fFirst\":0,\"fLast\":0,\"fBits2\":0,\"fTimeDisplay\":false,\"fTimeFormat\":\"\",\"fLabels\":null,\"fModLabs\":null},\"fBarOffset\":0,\"fBarWidth\":1000,\"fEntries\":0,\"fTsumw\":0,\"fTsumw2\":0,\"fTsumwx\":0,\"fTsumwx2\":0,\"fMaximum\":40000,\"fMinimum\":1,\"fNormFactor\":0,\"fContour\":[],\"fSumw2\":[],\"fOption\":\"\",\"fFunctions\":{\"_typename\":\"TList\",\"name\":\"TList\",\"arr\":[],\"opt\":[]},\"fBufferSize\":0,\"fBuffer\":[],\"fBinStatErrOpt\":0,\"fStatOverflows\":2,\"fArray\":[0,0,0,0,0,0,0,0,0,0,0,0,0,0,0,0,0,0,0,0,0,0,0,0,0,0,0,0,0,0,0,0,0,0,0,0,0,0,0,0,0,0,0,0,0,0,0,0,0,0,0,0,0,0,0,0,0,0,0,0,0,0,0,0,0,0,0,0,0,0,0,0,0,0,0,0,0,0,0,0,0,0,0,0,0,0,0,0,0,0,0,0,0,0,0,0,0,0,0,0,0,0]},\"fMinimum\":-1111,\"fMaximum\":-1111,\"fEXlow\":[0.5,0.5,0.5,0.5,0.5,0.5,0.5,0.5,0.5,0.5,0.5,0.5,0.5,0.5,0.5,0.5,0.5,0.5,0.5,0.5,0.5,0.5,0.5,0.5,0.5,0.5,0.5,0.5,0.5,0.5,0.5,0.5,0.5,0.5,0.5,0.5,0.5,0.5,0.5,0.5,0.5,0.5,0.5,0.5,0.5,0.5,0.5,0.5,0.5,0.5,0.5,0.5,0.5,0.5,0.5,0.5,0.5,0.5,0.5,0.5,0.5,0.5,0.5,0.5,0.5,0.5,0.5,0.5,0.5,0.5,0.5,0.5,0.5,0.5,0.5,0.5,0.5,0.5,0.5,0.5,0.5,0.5,0.5,0.5,0.5,0.5,0.5,0.5,0.5,0.5,0.5,0.5,0.5,0.5,0.5,0.5,0.5,0.5,0.5,0.5],\"fEXhigh\":[0.5,0.5,0.5,0.5,0.5,0.5,0.5,0.5,0.5,0.5,0.5,0.5,0.5,0.5,0.5,0.5,0.5,0.5,0.5,0.5,0.5,0.5,0.5,0.5,0.5,0.5,0.5,0.5,0.5,0.5,0.5,0.5,0.5,0.5,0.5,0.5,0.5,0.5,0.5,0.5,0.5,0.5,0.5,0.5,0.5,0.5,0.5,0.5,0.5,0.5,0.5,0.5,0.5,0.5,0.5,0.5,0.5,0.5,0.5,0.5,0.5,0.5,0.5,0.5,0.5,0.5,0.5,0.5,0.5,0.5,0.5,0.5,0.5,0.5,0.5,0.5,0.5,0.5,0.5,0.5,0.5,0.5,0.5,0.5,0.5,0.5,0.5,0.5,0.5,0.5,0.5,0.5,0.5,0.5,0.5,0.5,0.5,0.5,0.5,0.5],\"fEYlow\":[43.7508344991455,37.6419679234092,34.3289002106023,31.0995716787676,27.9134014745115,24.9821779072106,22.1867462319769,19.6657377513,17.2672933206769,14.9653617060103,12.8654221272057,11.0729560168166,9.49460255366422,8.24373769013597,7.23881998844783,6.43746301155355,5.7275967319033,5.12339576164415,4.59210359165489,4.13520107021666,3.8279958200417,3.50436958413043,3.2092170554449,3.00041931831875,2.72257190086481,2.56527650591604,2.40278020367232,2.25031448873907,2.10424997709024,2.04529566977438,1.92832325017193,1.81729289201458,1.7204843592331,1.64041747191093,1.61031551145609,1.50834093638134,1.46723399146848,1.37247172557596,1.31791444484595,1.26099894145941,1.20139010183616,1.17044782028246,1.11697417399005,1.09485368314834,1.02563367433583,0.989208955249443,0.898493653091215,0.870841045649499,0.827631590746744,0.797525756414613,0.716749982561206,0.699476360267341,0.699476360267341,0.681765223258127,0.681765223258127,0.681765223258127,0.66358154036679,0.625630676084763,0.625630676084763,0.625630676084763,0.625630676084763,0.625630676084763,0.605764297338193,0.585223910141232,0.585223910141232,0.563935870531704,0.563935870531704,0.563935870531704,0.541812058876238,0.541812058876238,0.518745552477383,0.518745552477383,0.494604477624721,0.44238769357786,0.44238769357786,0.44238769357786,0.44238769357786,0.44238769357786,0.44238769357786,0.44238769357786,0.413815795373372,0.413815795373372,0.413815795373372,0.413815795373372,0.413815795373372,0.383118980960033,0.34973818013367,0.312815338042381,0.312815338042381,0.312815338042381,0.312815338042381,0.312815338042381,0.270906029438119,0.270906029438119,0.270906029438119,0.270906029438119,0.270906029438119,0.270906029438119,0.270906029438119,0.270906029438119],\"fEYhigh\":[43.7508344991455,37.6419679234092,34.3289002106023,31.0995716787676,27.9134014745115,24.9821779072106,22.1867462319769,19.6657377513,17.2672933206769,14.9653617060103,12.8654221272057,11.0729560168166,9.49460255366422,8.24373769013597,7.23881998844783,6.43746301155355,5.7275967319033,5.12339576164415,4.59210359165489,4.13520107021666,3.8279958200417,3.50436958413043,3.2092170554449,3.00041931831875,2.72257190086481,2.56527650591604,2.40278020367232,2.25031448873907,2.10424997709024,2.04529566977438,1.92832325017193,1.81729289201458,1.7204843592331,1.64041747191093,1.61031551145609,1.50834093638134,1.46723399146848,1.37247172557596,1.31791444484595,1.26099894145941,1.20139010183616,1.17044782028246,1.11697417399005,1.09485368314834,1.02563367433583,0.989208955249443,0.898493653091215,0.870841045649499,0.827631590746744,0.797525756414613,0.716749982561206,0.699476360267341,0.699476360267341,0.681765223258127,0.681765223258127,0.681765223258127,0.66358154036679,0.625630676084763,0.625630676084763,0.625630676084763,0.625630676084763,0.625630676084763,0.605764297338193,0.585223910141232,0.585223910141232,0.563935870531704,0.563935870531704,0.563935870531704,0.541812058876238,0.541812058876238,0.518745552477383,0.518745552477383,0.494604477624721,0.44238769357786,0.44238769357786,0.44238769357786,0.44238769357786,0.44238769357786,0.44238769357786,0.44238769357786,0.413815795373372,0.413815795373372,0.413815795373372,0.413815795373372,0.413815795373372,0.383118980960033,0.34973818013367,0.312815338042381,0.312815338042381,0.312815338042381,0.312815338042381,0.312815338042381,0.270906029438119,0.270906029438119,0.270906029438119,0.270906029438119,0.270906029438119,0.270906029438119,0.270906029438119,0.270906029438119]},{\"_typename\":\"TGraphAsymmErrors\",\"fUniqueID\":0,\"fBits\":50332680,\"fName\":\"152824\",\"fTitle\":\";; rate [kHz]\",\"fLineColor\":417,\"fLineStyle\":1,\"fLineWidth\":1,\"fFillColor\":0,\"fFillStyle\":1001,\"fMarkerColor\":417,\"fMarkerStyle\":22,\"fMarkerSize\":0.5,\"fNpoints\":100,\"fX\":[6.37753331473683,7.61317773504306,8.84882215534928,10.0844665756555,11.3201109959617,12.5557554162679,13.7913998365742,15.0270442568804,16.2626886771866,17.4983330974928,18.733977517799,19.9696219381053,21.2052663584115,22.4409107787177,23.6765551990239,24.9121996193301,26.1478440396364,27.3834884599426,28.6191328802488,29.854777300555,31.0904217208613,32.3260661411675,33.5617105614737,34.7973549817799,36.0329994020861,37.2686438223924,38.5042882426986,39.7399326630048,40.975577083311,42.2112215036172,43.4468659239235,44.6825103442297,45.9181547645359,47.1537991848421,48.3894436051484,49.6250880254546,50.8607324457608,52.096376866067,53.3320212863732,54.5676657066794,55.8033101269857,57.0389545472919,58.2745989675981,59.5102433879043,60.7458878082106,61.9815322285168,63.217176648823,64.4528210691292,65.6884654894354,66.9241099097417,68.1597543300479,69.3953987503541,70.6310431706603,71.8666875909665,73.1023320112728,74.337976431579,75.5736208518852,76.8092652721914,78.0449096924977,79.2805541128039,80.5161985331101,81.7518429534163,82.9874873737225,84.2231317940288,85.458776214335,86.6944206346412,87.9300650549474,89.1657094752536,90.4013538955599,91.6369983158661,92.8726427361723,94.1082871564785,95.3439315767847,96.579575997091,97.8152204173972,99.0508648377034,100.28650925801,101.522153678316,102.757798098622,103.993442518928,105.229086939235,106.464731359541,107.700375779847,108.936020200153,110.171664620459,111.407309040766,112.642953461072,113.878597881378,115.114242301684,116.349886721991,117.585531142297,118.821175562603,120.056819982909,121.292464403215,122.528108823522,123.763753243828,124.999397664134,126.23504208444,127.470686504746,128.706330925053],\"fY\":[31000,31000,31000,31000,31000,31000,30643.005859375,23554.10546875,13835.9404296875,7646.1357421875,4261.783203125,2446.38745117188,1484.6865234375,951.824279785156,621.752319335938,427.245635986328,301.238433837891,225.889007568359,173.956832885742,137.47688293457,109.917778015137,88.8900299072266,73.2785186767578,60.8530311584473,52.0914688110352,44.4450149536133,37.9136695861816,33.6125373840332,29.4707088470459,26.4439868927002,22.7800617218018,20.7091464996338,18.7975330352783,17.0452213287354,15.7708120346069,14.1778001785278,13.5405960083008,12.584789276123,12.2661867141724,10.8324766159058,10.1952724456787,9.39876651763916,8.44295978546143,7.80575561523438,6.84994840621948,6.37204504013062,6.05344295501709,5.89414167404175,5.2569375038147,4.46043157577515,3.98252820968628,3.34532380104065,2.86742043495178,2.70811915397644,2.54881811141968,2.54881811141968,2.38951706886292,2.23021578788757,1.59301126003265,1.43371021747589,0.955806791782379,0.955806791782379,0.955806791782379,0.955806791782379,0.955806791782379,0.955806791782379,0.955806791782379,0.955806791782379,0.955806791782379,0.955806791782379,0.955806791782379,0.955806791782379,0.955806791782379,0.796505630016327,0.796505630016327,0.796505630016327,0.796505630016327,0.796505630016327,0.796505630016327,0.637204527854919,0.637204527854919,0.637204527854919,0.637204527854919,0.637204527854919,0.637204527854919,0.637204527854919,0.47790339589119,0.47790339589119,0.47790339589119,0.47790339589119,0.47790339589119,0.47790339589119,0.47790339589119,0.47790339589119,0.31860226392746,0.31860226392746,0.31860226392746,0.31860226392746,0.31860226392746,0.15930113196373],\"fFunctions\":{\"_typename\":\"TList\",\"name\":\"TList\",\"arr\":[],\"opt\":[]},\"fHistogram\":{\"_typename\":\"TH1F\",\"fUniqueID\":0,\"fBits\":50332168,\"fName\":\"152824\",\"fTitle\":\"\",\"fLineColor\":602,\"fLineStyle\":1,\"fLineWidth\":1,\"fFillColor\":0,\"fFillStyle\":1001,\"fMarkerColor\":1,\"fMarkerStyle\":1,\"fMarkerSize\":1,\"fNcells\":102,\"fXaxis\":{\"_typename\":\"TAxis\",\"fUniqueID\":0,\"fBits\":50331656,\"fName\":\"xaxis\",\"fTitle\":\"offline p_{T} thresh. [GeV]\",\"fNdivisions\":510,\"fAxisColor\":1,\"fLabelColor\":1,\"fLabelFont\":42,\"fLabelOffset\":0.005,\"fLabelSize\":0.035,\"fTickLength\":0.03,\"fTitleOffset\":1.4,\"fTitleSize\":0.035,\"fTitleColor\":1,\"fTitleFont\":42,\"fNbins\":100,\"fXmin\":0,\"fXmax\":60,\"fXbins\":[],\"fFirst\":0,\"fLast\":0,\"fBits2\":0,\"fTimeDisplay\":false,\"fTimeFormat\":\"\",\"fLabels\":null,\"fModLabs\":null},\"fYaxis\":{\"_typename\":\"TAxis\",\"fUniqueID\":0,\"fBits\":50331656,\"fName\":\"yaxis\",\"fTitle\":\" rate [kHz]\",\"fNdivisions\":510,\"fAxisColor\":1,\"fLabelColor\":1,\"fLabelFont\":42,\"fLabelOffset\":0.005,\"fLabelSize\":0.035,\"fTickLength\":0.03,\"fTitleOffset\":0,\"fTitleSize\":0.035,\"fTitleColor\":1,\"fTitleFont\":42,\"fNbins\":1,\"fXmin\":1.29561998629679e-9,\"fXmax\":34177.3006171123,\"fXbins\":[],\"fFirst\":0,\"fLast\":0,\"fBits2\":0,\"fTimeDisplay\":false,\"fTimeFormat\":\"\",\"fLabels\":null,\"fModLabs\":null},\"fZaxis\":{\"_typename\":\"TAxis\",\"fUniqueID\":0,\"fBits\":50331648,\"fName\":\"zaxis\",\"fTitle\":\"\",\"fNdivisions\":510,\"fAxisColor\":1,\"fLabelColor\":1,\"fLabelFont\":42,\"fLabelOffset\":0.005,\"fLabelSize\":0.035,\"fTickLength\":0.03,\"fTitleOffset\":1,\"fTitleSize\":0.035,\"fTitleColor\":1,\"fTitleFont\":42,\"fNbins\":1,\"fXmin\":0,\"fXmax\":1,\"fXbins\":[],\"fFirst\":0,\"fLast\":0,\"fBits2\":0,\"fTimeDisplay\":false,\"fTimeFormat\":\"\",\"fLabels\":null,\"fModLabs\":null},\"fBarOffset\":0,\"fBarWidth\":1000,\"fEntries\":0,\"fTsumw\":0,\"fTsumw2\":0,\"fTsumwx\":0,\"fTsumwx2\":0,\"fMaximum\":40000,\"fMinimum\":1,\"fNormFactor\":0,\"fContour\":[],\"fSumw2\":[],\"fOption\":\"\",\"fFunctions\":{\"_typename\":\"TList\",\"name\":\"TList\",\"arr\":[],\"opt\":[]},\"fBufferSize\":0,\"fBuffer\":[],\"fBinStatErrOpt\":0,\"fStatOverflows\":2,\"fArray\":[0,0,0,0,0,0,0,0,0,0,0,0,0,0,0,0,0,0,0,0,0,0,0,0,0,0,0,0,0,0,0,0,0,0,0,0,0,0,0,0,0,0,0,0,0,0,0,0,0,0,0,0,0,0,0,0,0,0,0,0,0,0,0,0,0,0,0,0,0,0,0,0,0,0,0,0,0,0,0,0,0,0,0,0,0,0,0,0,0,0,0,0,0,0,0,0,0,0,0,0,0,0]},\"fMinimum\":-1111,\"fMaximum\":-1111,\"fEXlow\":[0.5,0.5,0.5,0.5,0.5,0.5,0.5,0.5,0.5,0.5,0.5,0.5,0.5,0.5,0.5,0.5,0.5,0.5,0.5,0.5,0.5,0.5,0.5,0.5,0.5,0.5,0.5,0.5,0.5,0.5,0.5,0.5,0.5,0.5,0.5,0.5,0.5,0.5,0.5,0.5,0.5,0.5,0.5,0.5,0.5,0.5,0.5,0.5,0.5,0.5,0.5,0.5,0.5,0.5,0.5,0.5,0.5,0.5,0.5,0.5,0.5,0.5,0.5,0.5,0.5,0.5,0.5,0.5,0.5,0.5,0.5,0.5,0.5,0.5,0.5,0.5,0.5,0.5,0.5,0.5,0.5,0.5,0.5,0.5,0.5,0.5,0.5,0.5,0.5,0.5,0.5,0.5,0.5,0.5,0.5,0.5,0.5,0.5,0.5,0.5],\"fEXhigh\":[0.5,0.5,0.5,0.5,0.5,0.5,0.5,0.5,0.5,0.5,0.5,0.5,0.5,0.5,0.5,0.5,0.5,0.5,0.5,0.5,0.5,0.5,0.5,0.5,0.5,0.5,0.5,0.5,0.5,0.5,0.5,0.5,0.5,0.5,0.5,0.5,0.5,0.5,0.5,0.5,0.5,0.5,0.5,0.5,0.5,0.5,0.5,0.5,0.5,0.5,0.5,0.5,0.5,0.5,0.5,0.5,0.5,0.5,0.5,0.5,0.5,0.5,0.5,0.5,0.5,0.5,0.5,0.5,0.5,0.5,0.5,0.5,0.5,0.5,0.5,0.5,0.5,0.5,0.5,0.5,0.5,0.5,0.5,0.5,0.5,0.5,0.5,0.5,0.5,0.5,0.5,0.5,0.5,0.5,0.5,0.5,0.5,0.5,0.5,0.5],\"fEYlow\":[70.2732882840181,70.2732882840181,70.2732882840181,70.2732882840181,70.2732882840181,70.2732882840181,69.8674854634205,61.2551686936876,46.9476404740276,34.9004019352318,26.0558414378304,19.7411318903095,15.3789545722739,12.3136785674704,9.95217796650679,8.24989164774811,6.92730999033839,5.99869765566952,5.26417328774519,4.67976727100329,4.18449837238926,3.76301506825847,3.41662861395346,3.11351196740213,2.88066485570801,2.66085347247272,2.45757814612943,2.31398258189287,2.16672962883247,2.0524514929521,1.90496445547864,1.81631234214148,1.7304532128839,1.64782370717598,1.58502623588413,1.50284385968014,1.46868385496444,1.41589941899683,1.39786174722074,1.31363077486277,1.27440904419322,1.22361520135625,1.15972973570245,1.11510791366906,1.04460737026394,1.00750881259219,0.981998119691872,0.968990947786458,0.915115323960323,0.842942349876694,0.79650565262076,0.730009488918967,0.675857457865868,0.656815387431385,0.637204522096608,0.637204522096608,0.616970625552055,0.596050251747133,0.503754406296093,0.477903391572456,0.390206485232675,0.390206485232675,0.390206485232675,0.390206485232675,0.390206485232675,0.390206485232675,0.390206485232675,0.390206485232675,0.390206485232675,0.390206485232675,0.390206485232675,0.390206485232675,0.390206485232675,0.356208156744571,0.356208156744571,0.356208156744571,0.356208156744571,0.356208156744571,0.356208156744571,0.318602261048304,0.318602261048304,0.318602261048304,0.318602261048304,0.318602261048304,0.318602261048304,0.318602261048304,0.275917651770993,0.275917651770993,0.275917651770993,0.275917651770993,0.275917651770993,0.275917651770993,0.275917651770993,0.275917651770993,0.225285819288623,0.225285819288623,0.225285819288623,0.225285819288623,0.225285819288623,0.159301130524152],\"fEYhigh\":[70.2732882840181,70.2732882840181,70.2732882840181,70.2732882840181,70.2732882840181,70.2732882840181,69.8674854634205,61.2551686936876,46.9476404740276,34.9004019352318,26.0558414378304,19.7411318903095,15.3789545722739,12.3136785674704,9.95217796650679,8.24989164774811,6.92730999033839,5.99869765566952,5.26417328774519,4.67976727100329,4.18449837238926,3.76301506825847,3.41662861395346,3.11351196740213,2.88066485570801,2.66085347247272,2.45757814612943,2.31398258189287,2.16672962883247,2.0524514929521,1.90496445547864,1.81631234214148,1.7304532128839,1.64782370717598,1.58502623588413,1.50284385968014,1.46868385496444,1.41589941899683,1.39786174722074,1.31363077486277,1.27440904419322,1.22361520135625,1.15972973570245,1.11510791366906,1.04460737026394,1.00750881259219,0.981998119691872,0.968990947786458,0.915115323960323,0.842942349876694,0.79650565262076,0.730009488918967,0.675857457865868,0.656815387431385,0.637204522096608,0.637204522096608,0.616970625552055,0.596050251747133,0.503754406296093,0.477903391572456,0.390206485232675,0.390206485232675,0.390206485232675,0.390206485232675,0.390206485232675,0.390206485232675,0.390206485232675,0.390206485232675,0.390206485232675,0.390206485232675,0.390206485232675,0.390206485232675,0.390206485232675,0.356208156744571,0.356208156744571,0.356208156744571,0.356208156744571,0.356208156744571,0.356208156744571,0.318602261048304,0.318602261048304,0.318602261048304,0.318602261048304,0.318602261048304,0.318602261048304,0.318602261048304,0.275917651770993,0.275917651770993,0.275917651770993,0.275917651770993,0.275917651770993,0.275917651770993,0.275917651770993,0.275917651770993,0.225285819288623,0.225285819288623,0.225285819288623,0.225285819288623,0.225285819288623,0.159301130524152]},{\"_typename\":\"TLegend\",\"fUniqueID\":0,\"fBits\":50331656,\"fLineColor\":1,\"fLineStyle\":1,\"fLineWidth\":1,\"fFillColor\":0,\"fFillStyle\":0,\"fX1\":60.0000012548346,\"fY1\":3.46648676623254,\"fX2\":86.3157910587385,\"fY2\":4.30322494849808,\"fX1NDC\":0.7,\"fY1NDC\":0.71,\"fX2NDC\":0.95,\"fY2NDC\":0.85,\"fBorderSize\":0,\"fInit\":1,\"fShadowColor\":1,\"fCornerRadius\":0,\"fOption\":\"brNDC\",\"fName\":\"TPave\",\"fTextAngle\":0,\"fTextSize\":0.03,\"fTextAlign\":12,\"fTextColor\":1,\"fTextFont\":42,\"fPrimitives\":{\"_typename\":\"TList\",\"name\":\"TList\",\"arr\":[{\"_typename\":\"TLegendEntry\",\"fUniqueID\":0,\"fBits\":50331656,\"fTextAngle\":0,\"fTextSize\":0,\"fTextAlign\":0,\"fTextColor\":0,\"fTextFont\":42,\"fLineColor\":1,\"fLineStyle\":1,\"fLineWidth\":1,\"fFillColor\":0,\"fFillStyle\":0,\"fMarkerColor\":1,\"fMarkerStyle\":8,\"fMarkerSize\":0.5,\"fObject\":{\"$ref\":3},\"fLabel\":\"V9\",\"fOption\":\"P\"},{\"_typename\":\"TLegendEntry\",\"fUniqueID\":0,\"fBits\":50331656,\"fTextAngle\":0,\"fTextSize\":0,\"fTextAlign\":0,\"fTextColor\":0,\"fTextFont\":42,\"fLineColor\":1,\"fLineStyle\":1,\"fLineWidth\":1,\"fFillColor\":0,\"fFillStyle\":0,\"fMarkerColor\":628,\"fMarkerStyle\":21,\"fMarkerSize\":0.5,\"fObject\":{\"$ref\":10},\"fLabel\":\"V10\",\"fOption\":\"P\"},{\"_typename\":\"TLegendEntry\",\"fUniqueID\":0,\"fBits\":50331656,\"fTextAngle\":0,\"fTextSize\":0,\"fTextAlign\":0,\"fTextColor\":0,\"fTextFont\":42,\"fLineColor\":1,\"fLineStyle\":1,\"fLineWidth\":1,\"fFillColor\":0,\"fFillStyle\":0,\"fMarkerColor\":417,\"fMarkerStyle\":22,\"fMarkerSize\":0.5,\"fObject\":{\"$ref\":17},\"fLabel\":\"TDR\",\"fOption\":\"P\"}],\"opt\":[\"P\",\"P\",\"P\"]},\"fEntrySeparation\":0.1,\"fMargin\":0.25,\"fNColumns\":1,\"fColumnSeparation\":0},{\"_typename\":\"TLatex\",\"fUniqueID\":0,\"fBits\":50348040,\"fName\":\"\",\"fTitle\":\"PU200, HM #Delta#rho < 0.015 calib., EGId, 1.52 < |#eta^{L1}| <= 2.8\",\"fTextAngle\":0,\"fTextSize\":0.03,\"fTextAlign\":11,\"fTextColor\":1,\"fTextFont\":62,\"fX\":0.15,\"fY\":0.85,\"fLineColor\":1,\"fLineStyle\":1,\"fLineWidth\":2,\"fLimitFactorSize\":3,\"fOriginSize\":0.04},{\"_typename\":\"TLatex\",\"fUniqueID\":0,\"fBits\":50331656,\"fName\":\"\",\"fTitle\":\"\",\"fTextAngle\":0,\"fTextSize\":0.03,\"fTextAlign\":11,\"fTextColor\":1,\"fTextFont\":62,\"fX\":0,\"fY\":0,\"fLineColor\":1,\"fLineStyle\":1,\"fLineWidth\":2,\"fLimitFactorSize\":3,\"fOriginSize\":0.04}],\"opt\":[\"\",\"pa\",\",p\",\",p\",\"same\",\"same\",\"same\"]},\"fExecs\":null,\"fName\":\"c_3a9e7e\",\"fTitle\":\"c_3a9e7e\",\"fNumPaletteColor\":0,\"fNextPaletteColor\":0,\"fDISPLAY\":\"$DISPLAY\",\"fDoubleBuffer\":0,\"fRetained\":true,\"fXsizeUser\":0,\"fYsizeUser\":0,\"fXsizeReal\":20,\"fYsizeReal\":15,\"fWindowTopX\":0,\"fWindowTopY\":0,\"fWindowWidth\":0,\"fWindowHeight\":0,\"fCw\":796,\"fCh\":572,\"fCatt\":{\"_typename\":\"TAttCanvas\",\"fXBetween\":2,\"fYBetween\":2,\"fTitleFromTop\":1.2,\"fXdate\":0.2,\"fYdate\":0.3,\"fAdate\":1},\"kMoveOpaque\":true,\"kResizeOpaque\":true,\"fHighLightColor\":2,\"fBatch\":true,\"kShowEventStatus\":false,\"kAutoExec\":true,\"kMenuBar\":true});\n",
       "       Core.draw(\"root_plot_10\", obj, \"\");\n",
       "     }\n",
       " );\n",
       "</script>\n"
      ],
      "text/plain": [
       "<IPython.core.display.HTML object>"
      ]
     },
     "metadata": {},
     "output_type": "display_data"
    }
   ],
   "source": [
    "hsets, labels, text = hplot.get_histo(histos.RateHistos, None, 'PU200', 'HMvDRshapeDrCalib', 'EmEtaBCD', None)\n",
    "draw([his.g_pt_offline for his in hsets], labels, text=text,  \n",
    "     min_y =1, max_y=40000,\n",
    "     min_x=0, max_x=60,\n",
    "     logy=True, x_axis_label='offline p_{T} thresh. [GeV]')\n"
   ]
  },
  {
   "cell_type": "code",
   "execution_count": null,
   "metadata": {},
   "outputs": [],
   "source": []
  },
  {
   "cell_type": "code",
   "execution_count": null,
   "metadata": {},
   "outputs": [],
   "source": []
  },
  {
   "cell_type": "code",
   "execution_count": null,
   "metadata": {},
   "outputs": [],
   "source": []
  },
  {
   "cell_type": "code",
   "execution_count": null,
   "metadata": {},
   "outputs": [],
   "source": []
  }
 ],
 "metadata": {
  "kernelspec": {
   "display_name": "HGCTPGPerformance",
   "language": "python",
   "name": "hgctpgperformance"
  },
  "language_info": {
   "codemirror_mode": {
    "name": "ipython",
    "version": 2
   },
   "file_extension": ".py",
   "mimetype": "text/x-python",
   "name": "python",
   "nbconvert_exporter": "python",
   "pygments_lexer": "ipython2",
   "version": "2.7.16"
  },
  "toc": {
   "base_numbering": 1,
   "nav_menu": {},
   "number_sections": true,
   "sideBar": true,
   "skip_h1_title": false,
   "title_cell": "Table of Contents",
   "title_sidebar": "Contents",
   "toc_cell": false,
   "toc_position": {
    "height": "calc(100% - 180px)",
    "left": "10px",
    "top": "150px",
    "width": "175.8px"
   },
   "toc_section_display": true,
   "toc_window_display": true
  }
 },
 "nbformat": 4,
 "nbformat_minor": 2
}
