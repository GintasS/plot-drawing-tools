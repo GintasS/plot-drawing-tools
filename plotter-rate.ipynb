{
 "cells": [
  {
   "cell_type": "markdown",
   "metadata": {},
   "source": [
    "# Rate performance\n",
    "\n",
    "   * [Comparison new vs old EG ID](#Comparisono-baseline-vs-Manos-EGID)\n",
    "\n",
    "\n"
   ]
  },
  {
   "cell_type": "code",
   "execution_count": 1,
   "metadata": {},
   "outputs": [
    {
     "name": "stdout",
     "output_type": "stream",
     "text": [
      "Welcome to JupyROOT 6.14/02\n"
     ]
    }
   ],
   "source": [
    "import sys\n",
    "sys.path.insert(0, '..')\n",
    "# sys.path.insert(1, '../python/')\n",
    "sys.path.insert(1, 'python/')\n",
    "\n",
    "import ROOT\n",
    "import root_numpy as rnp\n",
    "# import python.l1THistos as histos\n",
    "import math\n",
    "import uuid\n",
    "import pandas as pd\n",
    "\n",
    "from drawingTools import *\n",
    "\n",
    "# ROOT.enableJSVis()\n",
    "ROOT.enableJSVis()\n",
    "\n",
    "#from drawingTools import *\n",
    "\n",
    "normalized_histos = list()"
   ]
  },
  {
   "cell_type": "code",
   "execution_count": 14,
   "metadata": {},
   "outputs": [],
   "source": [
    "# %load python/drawingTools.py\n",
    "# %load drawingTools.py\n",
    "import ROOT\n",
    "import math\n",
    "import uuid\n",
    "import pandas as pd\n",
    "\n",
    "\n",
    "# some useful globals, mainly to deal with ROOT idiosyncrasies\n",
    "c_idx = 0\n",
    "p_idx = 0\n",
    "colors = range(1, 12)\n",
    "colors = [1, 632-4, 416+1, 600-3, 616+1, 432-3]\n",
    "\n",
    "\n",
    "marker_styles = [8, 21, 22, 23, 33]\n",
    "stuff = []\n",
    "f_idx = 0\n",
    "\n",
    "ROOT.gStyle.SetOptTitle(False)\n",
    "ROOT.gStyle.SetPadBottomMargin(0.13)\n",
    "ROOT.gStyle.SetPadLeftMargin(0.13)\n",
    "ROOT.gStyle.SetPadRightMargin(0.13)\n",
    "ROOT.gStyle.SetOptStat(False)\n",
    "\n",
    "# ROOT.gStyle.SetCanvasBorderMode(0)\n",
    "# ROOT.gStyle.SetCanvasColor(0)\n",
    "\n",
    "\n",
    "# def DrawPrelimLabel(canvas):\n",
    "#     canvas.cd()\n",
    "#     tex = ROOT.TLatex()\n",
    "#     global stuff\n",
    "#     stuff.append(tex)\n",
    "#     tex.SetTextSize(0.03)\n",
    "#     tex.DrawLatexNDC(0.13,0.91,\"#scale[1.5]{CMS} #scale[1.]{Phase-2 Simulation}\")\n",
    "#     tex.DrawLatexNDC(0.49,0.91,\"14TeV, 7.5#times10^{34}cm^{-2}s^{-1}, 200 PU\")\n",
    "\n",
    "#     tex.Draw(\"same\");\n",
    "#     return\n",
    "\n",
    "def SaveCanvas(canvas, name):\n",
    "    canvas.cd()\n",
    "    canvas.SaveAs(name+'.pdf')\n",
    "\n",
    "\n",
    "# void SaveCanvas(TCanvas* c, TString PlotName = \"myPlotName\")\n",
    "# {\n",
    "#   c->cd();\n",
    "#   c->SaveAs(PlotName + \".pdf\");\n",
    "#   c->SaveAs(PlotName + \".root\");\n",
    "\n",
    "#   return;\n",
    "# }\n",
    "\n",
    "\n",
    "\n",
    "def getText(text, ndc_x, ndc_y):\n",
    "    global stuff\n",
    "    rtext = ROOT.TLatex(ndc_x, ndc_y, text)\n",
    "    stuff.append(rtext)\n",
    "    rtext.SetNDC(True)\n",
    "    # rtext.SetTextFont(40)\n",
    "    rtext.SetTextSize(0.03)\n",
    "    return rtext\n",
    "\n",
    "\n",
    "def getLegend(x1=0.7, y1=0.71, x2=0.95, y2=0.85):\n",
    "    global stuff\n",
    "    legend = ROOT.TLegend(x1, y1, x2, y2)\n",
    "    stuff.append(legend)\n",
    "    legend.SetFillColor(0)\n",
    "    legend.SetFillStyle(0)\n",
    "    legend.SetBorderSize(0)\n",
    "    legend.SetTextSize(0.03)\n",
    "    return legend\n",
    "\n",
    "\n",
    "def newCanvas(name=None, title=None, height=600, width=800, xdiv=0, ydiv=0, form=4):\n",
    "    global c_idx\n",
    "    if name is None:\n",
    "        name = 'c_{}'.format(uuid.uuid4().hex[:6])\n",
    "        c_idx += 1\n",
    "    if title is None:\n",
    "        title = name\n",
    "    # print name, title, width, height\n",
    "    canvas = ROOT.TCanvas(name, title, width, height)\n",
    "    if(xdiv*ydiv != 0):\n",
    "        canvas.Divide(xdiv, ydiv)\n",
    "    global stuff\n",
    "    stuff.append(canvas)\n",
    "    return canvas\n",
    "\n",
    "\n",
    "def drawAndProfileX(plot2d, miny=None, maxy=None, do_profile=True, options='', text=None):\n",
    "    global p_idx\n",
    "    if miny and maxy:\n",
    "        plot2d.GetYaxis().SetRangeUser(miny, maxy)\n",
    "    c = newCanvas()\n",
    "    c.SetGrid(1, 1)\n",
    "    c.cd()\n",
    "    plot2d.Draw(options)\n",
    "    ROOT.gPad.SetGrid(1, 1)\n",
    "    ROOT.gStyle.SetGridColor(15)\n",
    "\n",
    "    if do_profile:\n",
    "        profname = plot2d.GetName()+'_prof_'+str(p_idx)\n",
    "        p_idx += 1\n",
    "        firstbin = 1\n",
    "        lastbin = -1\n",
    "        prof = plot2d.ProfileX(profname, firstbin, lastbin, 's')\n",
    "        prof.SetMarkerColor(2)\n",
    "        prof.SetLineColor(2)\n",
    "        prof.Draw('same')\n",
    "\n",
    "    if text:\n",
    "        rtext = getText(text, 0.15, 0.85)\n",
    "        rtext.Draw('same')\n",
    "\n",
    "\n",
    "    c.Draw()\n",
    "\n",
    "class DrawConfig(object):\n",
    "    def __init__(self):\n",
    "        self.do_stats = False\n",
    "        self.marker_size = 0.5\n",
    "        self.marker_styles = [8, 21, 22, 23, 33]\n",
    "        self.colors = [1, 632-4, 416+1, 600-3, 616+1, 432-3]\n",
    "#         self.canvas_sizes = (800, 600)\n",
    "        self.canvas_sizes = (600, 600)\n",
    "        # SetMargin (Float_t left, Float_t right, Float_t bottom, Float_t top)\n",
    "#         self.canvas_margins = (0.13, 0.3, 0.13, 0.1)\n",
    "        self.canvas_margins = (0.13, 0.13, 0.13, 0.1)\n",
    "        self.canvas_margins_div = (0.13, 0.13, 0.13, 0.1)\n",
    "        self.legend_position = (0.6, 0.7)\n",
    "        self.legend_size = (0.26, 0.1)\n",
    "        self.additional_text = []\n",
    "        self.additional_text_size = 0.03\n",
    "        return\n",
    "\n",
    "tdr_config = DrawConfig()\n",
    "tdr_config.additional_text.append((0.13,0.91,\"#scale[1.5]{CMS} #scale[1.]{Phase-2 Simulation}\"))\n",
    "tdr_config.additional_text.append((0.69,0.91,\"14TeV, 200 PU\"))\n",
    "\n",
    "rleg_config = DrawConfig()\n",
    "rleg_config.canvas_sizes = (800, 600)\n",
    "rleg_config.canvas_margins = (0.13, 0.3, 0.13, 0.1)\n",
    "rleg_config.legend_position = (0.7, 0.71)\n",
    "rleg_config.legend_size = (0.25, 0.14)\n",
    "\n",
    "\n",
    "class DrawMachine(object):\n",
    "    def __init__(self, config):\n",
    "        global stuff\n",
    "        self.config = config\n",
    "        self.histos = []\n",
    "        stuff.append(self.histos)\n",
    "        self.labels = []\n",
    "        self.overlay = True\n",
    "        self.canvas = None\n",
    "        self.legend = None\n",
    "        return\n",
    "\n",
    "    def addHistos(self, histograms, labels):\n",
    "        for hidx,hist in enumerate(histograms):\n",
    "            histo_class = hist.ClassName()\n",
    "            if 'TH2' in histo_class or 'TH3' in histo_class:\n",
    "                self.overlay = False\n",
    "\n",
    "            # clone the histo\n",
    "            d_hist = hist.Clone(uuid.uuid4().hex[:6])\n",
    "#             if 'TGraph' in histo_class:\n",
    "#                 d_hist.SetTitle(';'+';'.join(hist.GetTitle().split(';')[1:]))\n",
    "#             else:\n",
    "            d_hist.SetTitle(';{};{}'.format(hist.GetXaxis().GetTitle(), hist.GetYaxis().GetTitle()))\n",
    "            # drop the title\n",
    "            #             d_hist.SetTitle(\"\")\n",
    "            self.histos.append(d_hist)\n",
    "            self.labels.append(labels[hidx])\n",
    "        return\n",
    "\n",
    "\n",
    "    def drawAdditionalText(self):\n",
    "        tex = ROOT.TLatex()\n",
    "        global stuff\n",
    "        stuff.append(tex)\n",
    "        tex.SetTextSize(self.config.additional_text_size)\n",
    "        for txt in self.config.additional_text:\n",
    "            tex.DrawLatexNDC(txt[0], txt[1], txt[2])\n",
    "        tex.Draw(\"same\");\n",
    "\n",
    "\n",
    "    def formatHistos(self):\n",
    "        for hidx,hist in enumerate(self.histos):\n",
    "            histo_class = hist.ClassName()\n",
    "            hist.UseCurrentStyle()\n",
    "\n",
    "            if 'TGraph' in histo_class:\n",
    "                hist.SetMarkerSize(self.config.marker_size)\n",
    "                hist.SetMarkerStyle(self.config.marker_styles[hidx])\n",
    "                if self.overlay:\n",
    "                    hist.SetMarkerColor(colors[hidx])\n",
    "                    hist.SetLineColor(self.config.colors[hidx])\n",
    "\n",
    "            else:\n",
    "                hist.SetStats(self.config.do_stats)\n",
    "                if self.overlay:\n",
    "                    hist.SetLineColor(self.config.colors[hidx])\n",
    "        return\n",
    "\n",
    "    def createCanvas(self, do_ratio=False):\n",
    "        if self.canvas is not None:\n",
    "            return\n",
    "\n",
    "        xdiv = 0\n",
    "        ydiv = 0\n",
    "\n",
    "        c_width, c_height = self.config.canvas_sizes\n",
    "\n",
    "        if not self.overlay:\n",
    "            xdiv = 2\n",
    "            ydiv = math.ceil(float(len(self.histos))/2)\n",
    "            c_width = 1000.\n",
    "            c_height = 500*ydiv\n",
    "        else:\n",
    "            if do_ratio:\n",
    "                c_height = c_height+200\n",
    "\n",
    "        self.canvas = newCanvas(name=None,\n",
    "                                title=None,\n",
    "                                height=int(c_height),\n",
    "                                width=int(c_width),\n",
    "                                xdiv=int(xdiv),\n",
    "                                ydiv=int(ydiv))\n",
    "        if self.overlay:\n",
    "            self.canvas.SetMargin(self.config.canvas_margins[0],\n",
    "                                  self.config.canvas_margins[1],\n",
    "                                  self.config.canvas_margins[2],\n",
    "                                  self.config.canvas_margins[3])\n",
    "        else:\n",
    "            self.canvas.SetMargin(self.config.canvas_margins_div[0],\n",
    "                                  self.config.canvas_margins_div[1],\n",
    "                                  self.config.canvas_margins_div[2],\n",
    "                                  self.config.canvas_margins_div[3])\n",
    "        return\n",
    "\n",
    "    def createLegend(self):\n",
    "        if self.legend is not None:\n",
    "            return\n",
    "        self.legend = getLegend(self.config.legend_position[0],\n",
    "                                self.config.legend_position[1],\n",
    "                                self.config.legend_position[0]+self.config.legend_size[0],\n",
    "                                self.config.legend_position[1]+self.config.legend_size[1])\n",
    "        for hidx,hist in enumerate(self.histos):\n",
    "            histo_class = hist.ClassName()\n",
    "            if 'TGraph' not in histo_class:\n",
    "                self.legend.AddEntry(hist, self.labels[hidx], 'l')\n",
    "            else:\n",
    "                self.legend.AddEntry(hist, self.labels[hidx], 'P')\n",
    "\n",
    "        return\n",
    "\n",
    "\n",
    "    def draw(self,\n",
    "             text,\n",
    "             options='',\n",
    "             norm=False,\n",
    "             y_log=False,\n",
    "             x_log=False,\n",
    "             y_min=None,\n",
    "             y_max=None,\n",
    "             x_min=None,\n",
    "             x_max=None,\n",
    "             y_axis_label=None,\n",
    "             x_axis_label=None,\n",
    "             v_lines=None,\n",
    "             h_lines=None,\n",
    "             do_profile=False):\n",
    "\n",
    "        global p_idx\n",
    "        global stuff\n",
    "\n",
    "        self.formatHistos()\n",
    "        self.createCanvas()\n",
    "        if self.overlay:\n",
    "            self.createLegend()\n",
    "\n",
    "        self.canvas.cd()\n",
    "\n",
    "        drawn_histos = []\n",
    "        for hidx, hist in enumerate(self.histos):\n",
    "            histo_class = hist.ClassName()\n",
    "\n",
    "            opt = options\n",
    "            if 'TGraph' in histo_class:\n",
    "                opt = 'P'+options\n",
    "            if hidx:\n",
    "                opt = 'same,'+opt\n",
    "            else:\n",
    "                if 'TGraph' in histo_class:\n",
    "                    opt = opt+'A'\n",
    "\n",
    "            if not self.overlay:\n",
    "                self.canvas.cd(hidx+1)\n",
    "                if text:\n",
    "                    newtext = '{}: {}'.format(self.labels[hidx], text)\n",
    "                    rtext = getText(newtext, 0.15, 0.85)\n",
    "                    rtext.Draw('same')\n",
    "                    self.drawAdditionalText()\n",
    "\n",
    "            d_hist = hist\n",
    "            if norm:\n",
    "                d_hist = hist.DrawNormalized(opt, 1.)\n",
    "            else:\n",
    "                d_hist.Draw(opt)\n",
    "\n",
    "            if do_profile:\n",
    "                profname = d_hist.GetName()+'_prof_'+str(p_idx)\n",
    "                p_idx += 1\n",
    "                prof = d_hist.ProfileX(d_hist.GetName()+'_prof_'+str(p_idx),\n",
    "                                       1, -1, 's')\n",
    "                prof.SetMarkerColor(2)\n",
    "                prof.SetLineColor(2)\n",
    "                prof.Draw('same')\n",
    "\n",
    "\n",
    "            drawn_histos.append(d_hist)\n",
    "\n",
    "            # we now set the axis properties\n",
    "            y_min_value = y_min\n",
    "            y_max_value = y_max\n",
    "\n",
    "            if y_min is None:\n",
    "                y_min_value = min([hist.GetBinContent(hist.GetMinimumBin()) for hist in drawn_histos if 'TGraph' not in hist.ClassName()] +\n",
    "                                  [min(hist.GetY()) for hist in drawn_histos if 'TGraph' in hist.ClassName()])\n",
    "            if y_max is None:\n",
    "                y_max_value = max([hist.GetBinContent(hist.GetMaximumBin()) for hist in drawn_histos if 'TGraph' not in hist.ClassName()] +\n",
    "                                  [max(hist.GetY()) for hist in drawn_histos if 'TGraph' in hist.ClassName()])*1.2\n",
    "\n",
    "            for hist in drawn_histos:\n",
    "                hist.GetXaxis().SetTitleOffset(1.4)\n",
    "                hist.GetYaxis().SetRangeUser(y_min_value, y_max_value)\n",
    "                if y_axis_label:\n",
    "                    hist.GetYaxis().SetTitle(y_axis_label)\n",
    "                if x_axis_label:\n",
    "                    hist.GetXaxis().SetTitle(x_axis_label)\n",
    "                if x_min is not None and x_max is not None:\n",
    "                    if 'TGraph' not in hist.ClassName():\n",
    "                        hist.GetXaxis().SetRangeUser(x_min, x_max)\n",
    "                    else:\n",
    "                        hist.GetXaxis().SetLimits(x_min, x_max)\n",
    "\n",
    "\n",
    "        if self.legend is not None and len(self.histos) > 1:\n",
    "            self.legend.Draw(\"same\")\n",
    "\n",
    "        if self.overlay:\n",
    "            if text:\n",
    "                rtext = getText(text, 0.15, 0.85)\n",
    "                rtext.Draw(\"same\")\n",
    "            self.drawAdditionalText()\n",
    "\n",
    "        pad_range = range(0, 1)\n",
    "        if not self.overlay:\n",
    "            pad_range = range(1, len(self.histos)+1)\n",
    "\n",
    "        self.canvas.Update()\n",
    "        for pad_id in pad_range:\n",
    "            self.canvas.cd(pad_id)\n",
    "            if v_lines:\n",
    "                for v_line_x in v_lines:\n",
    "                    aline = ROOT.TLine(v_line_x, ROOT.gPad.GetUymin(), v_line_x,  ROOT.gPad.GetUymax())\n",
    "                    aline.SetLineStyle(2)\n",
    "                    aline.Draw(\"same\")\n",
    "                    stuff.append(aline)\n",
    "            if h_lines:\n",
    "                for h_line_y in h_lines:\n",
    "                    aline = ROOT.TLine(ROOT.gPad.GetUxmin(), h_line_y, ROOT.gPad.GetUxmax(),  h_line_y)\n",
    "                    aline.SetLineStyle(2)\n",
    "                    aline.Draw(\"same\")\n",
    "                    stuff.append(aline)\n",
    "            if y_log:\n",
    "                ROOT.gPad.SetLogy()\n",
    "            if x_log:\n",
    "                ROOT.gPad.SetLogx()\n",
    "\n",
    "            ROOT.gPad.Update()\n",
    "\n",
    "        self.canvas.Draw()\n",
    "        return\n",
    "\n",
    "    def write(self, name, ext='pdf'):\n",
    "        self.canvas.SaveAs('{}.{}'.format(name, ext))\n",
    "        return\n",
    "\n",
    "\n",
    "def draw(histograms,\n",
    "         labels,\n",
    "         options='',\n",
    "         norm=False,\n",
    "         logy=False,\n",
    "         min_y=None,\n",
    "         max_y=None,\n",
    "         min_x=None,\n",
    "         max_x=None,\n",
    "         text=None,\n",
    "         y_axis_label=None,\n",
    "         x_axis_label=None,\n",
    "         v_lines=None,\n",
    "         h_lines=None,\n",
    "         do_stats=False,\n",
    "         do_profile=False,\n",
    "         do_ratio=False,\n",
    "         do_write=False,\n",
    "         write_name=None,\n",
    "         legend_position=None):\n",
    "    ROOT.gStyle.SetOptStat(False)\n",
    "\n",
    "    config = rleg_config\n",
    "    if do_write:\n",
    "        config = tdr_config\n",
    "    if do_stats:\n",
    "        config.do_stats = do_stats\n",
    "    if legend_position is not None:\n",
    "        config.legend_position = (legend_position[0],\n",
    "                                  legend_position[1])\n",
    "        config.legend_size = (legend_position[2]-legend_position[0],\n",
    "                              legend_position[3]-legend_position[1])\n",
    "\n",
    "    dm = DrawMachine(config)\n",
    "    dm.addHistos(histograms, labels)\n",
    "    dm.draw(text=text,\n",
    "            options=options,\n",
    "            norm=norm,\n",
    "            y_log=logy,\n",
    "            y_min=min_y,\n",
    "            y_max=max_y,\n",
    "            x_min=min_x,\n",
    "            x_max=max_x,\n",
    "            y_axis_label=y_axis_label,\n",
    "            x_axis_label=x_axis_label,\n",
    "            v_lines=v_lines,\n",
    "            h_lines=h_lines,\n",
    "            do_profile=False,\n",
    "            # do_ratio=False,\n",
    "           )\n",
    "    if do_write:\n",
    "        dm.write(name=write_name)\n",
    "    return dm\n",
    "\n",
    "\n",
    "files = {}\n",
    "file_keys = {}\n",
    "\n",
    "\n",
    "class RootFile:\n",
    "    def __init__(self, file_name):\n",
    "        global file\n",
    "        self.file_name = file_name\n",
    "        if self.file_name not in files.keys():\n",
    "            print 'get file: {}'.format(self.file_name)\n",
    "            files[self.file_name] = ROOT.TFile(self.file_name)\n",
    "        self._file = files[self.file_name]\n",
    "        self._file_keys = None\n",
    "\n",
    "    def cd(self):\n",
    "        self._file.cd()\n",
    "\n",
    "    def GetListOfKeys(self):\n",
    "        global file_keys\n",
    "        if self.file_name not in file_keys.keys():\n",
    "            print 'get list'\n",
    "            file_keys[self.file_name] = self._file.GetListOfKeys()\n",
    "        self._file_keys = file_keys[self.file_name]\n",
    "        return self._file_keys\n",
    "\n",
    "\n",
    "class Sample():\n",
    "    def __init__(self, name, label, version=None, type=None):\n",
    "        self.name = name\n",
    "        self.label = label\n",
    "        if version:\n",
    "            version = '_'+version\n",
    "        else:\n",
    "            version = ''\n",
    "        self.histo_filename = '../plots1/histos_{}{}.root'.format(self.name, version)\n",
    "        self.histo_file = None\n",
    "        self.type = type\n",
    "        self.oldStyle = False\n",
    "\n",
    "    def __repr__(self):\n",
    "        return '<{} {}, {}>'.format(self.__class__.__name__, self.histo_filename, self.type)\n",
    "\n",
    "    def open_file(self):\n",
    "        if self.histo_file is None:\n",
    "            self.histo_file = ROOT.TFile(self.histo_filename, 'r')\n",
    "\n",
    "    def build_file_primitive_index_oldStyle(self):\n",
    "        # FIXME: this is really hugly\n",
    "        composite_classes = {('GenParticleHistos', 'h_effNum_'): 'HistoSetEff',\n",
    "                             ('GenParticleHistos', 'h_effDen_'): 'HistoSetEff'}\n",
    "\n",
    "        self.open_file()\n",
    "        self.histo_file.cd()\n",
    "        data_list = []\n",
    "        classtype = 'CalibrationHistos'\n",
    "        print '--- {}'.format(classtype)\n",
    "        print '# of plots: {}'.format(len(self.histo_file.GetListOfKeys()))\n",
    "        # same primitives (tp, tp_sel, gen_sel) applies to several entries\n",
    "        key_set = set()\n",
    "        for histo in self.histo_file.GetListOfKeys():\n",
    "            # print histo.GetName()\n",
    "            name_parts = histo.GetName().split('_')\n",
    "            cltype, tp, tp_sel, gen_sel = None, None, None, None\n",
    "            if len(name_parts) == 4:\n",
    "                cltype, tp, tp_sel, gen_sel = classtype, name_parts[0], name_parts[1], name_parts[2]\n",
    "            else:\n",
    "                # this is a histo in a HistoSet class.. we need to handle this differently\n",
    "                composite_class = composite_classes[(classtype, '{}_{}_'.format(name_parts[0], name_parts[1]))]\n",
    "                cltype, tp, tp_sel, gen_sel = composite_class, name_parts[2], name_parts[3], name_parts[4]\n",
    "            key_set.add((cltype, tp, tp_sel, gen_sel))\n",
    "        print '# of primitives: {}'.format(len(key_set))\n",
    "        for cltype, tp, tp_sel, gen_sel in key_set:\n",
    "            data_list.append({'classtype': cltype,\n",
    "                              'tp': tp,\n",
    "                              'tp_sel': tp_sel,\n",
    "                              'gen_sel': gen_sel})\n",
    "\n",
    "        return pd.DataFrame(data_list)\n",
    "\n",
    "    def build_file_primitive_index(self):\n",
    "        if self.oldStyle:\n",
    "            return self.build_file_primitive_index_oldStyle()\n",
    "        # FIXME: this is really hugly\n",
    "        composite_classes = {('GenParticleHistos', 'h_effNum_'): 'HistoSetEff',\n",
    "                             ('GenParticleHistos', 'h_effDen_'): 'HistoSetEff'}\n",
    "\n",
    "        self.open_file()\n",
    "        self.histo_file.cd()\n",
    "        data_list = []\n",
    "        for key in self.histo_file.GetListOfKeys():\n",
    "            # first level is classtype\n",
    "            classtype = key.GetName()\n",
    "            print '--- {}'.format(classtype)\n",
    "            file_dir = self.histo_file.GetDirectory(key.GetName())\n",
    "            print '# of plots: {}'.format(len(file_dir.GetListOfKeys()))\n",
    "            # same primitives (tp, tp_sel, gen_sel) applies to several entries\n",
    "            key_set = set()\n",
    "            for histo in file_dir.GetListOfKeys():\n",
    "                # print histo.GetName()\n",
    "                name_parts = histo.GetName().split('_')\n",
    "                cltype, tp, tp_sel, gen_sel = None, None, None, None\n",
    "                if len(name_parts) == 3:\n",
    "                    cltype, tp, tp_sel, gen_sel = classtype, name_parts[0], name_parts[1], None\n",
    "                elif len(name_parts) == 4:\n",
    "                    cltype, tp, tp_sel, gen_sel = classtype, name_parts[0], name_parts[1], name_parts[2]\n",
    "                else:\n",
    "                    # this is a histo in a HistoSet class.. we need to handle this differently\n",
    "                    composite_class = composite_classes[(classtype, '{}_{}_'.format(name_parts[0], name_parts[1]))]\n",
    "                    cltype, tp, tp_sel, gen_sel = composite_class, name_parts[2], name_parts[3], name_parts[4]\n",
    "                key_set.add((cltype, tp, tp_sel, gen_sel))\n",
    "            print '# of primitives: {}'.format(len(key_set))\n",
    "            for cltype, tp, tp_sel, gen_sel in key_set:\n",
    "                data_list.append({'classtype': cltype,\n",
    "                                  'tp': tp,\n",
    "                                  'tp_sel': tp_sel,\n",
    "                                  'gen_sel': gen_sel})\n",
    "\n",
    "        return pd.DataFrame(data_list)\n",
    "\n",
    "    def print_file_primitive_index(self):\n",
    "        primitive_index = self.build_file_primitive_index()\n",
    "        classtypes = primitive_index.classtype.unique()\n",
    "        for classtype in classtypes:\n",
    "            print '- HistoClass: {}'.format(classtype)\n",
    "            tps = primitive_index[primitive_index.classtype == classtype].tp.unique()\n",
    "            for tp in tps:\n",
    "                print '  - TP: {}'.format(tp)\n",
    "                tp_sels = primitive_index[(primitive_index.classtype == classtype) &\n",
    "                                          (primitive_index.tp == tp)].tp_sel.unique()\n",
    "                for tp_sel in tp_sels:\n",
    "                    gen_sels = primitive_index[(primitive_index.classtype == classtype) &\n",
    "                                               (primitive_index.tp == tp) &\n",
    "                                               (primitive_index.tp_sel == tp_sel)].gen_sel.unique()\n",
    "                    print '    - TP SEL: {} -> GEN SEL: {}'.format(tp_sel, gen_sels)\n",
    "\n",
    "\n",
    "class HProxy:\n",
    "    def __init__(self, classtype, tp, tp_sel, gen_sel, root_file):\n",
    "        self.classtype = classtype\n",
    "        self.tp = tp\n",
    "        self.tp_sel = tp_sel\n",
    "        self.gen_sel = gen_sel\n",
    "        self.root_file = root_file\n",
    "        self.instance = None\n",
    "\n",
    "    def get(self, debug=False):\n",
    "        if self.instance is None:\n",
    "            name = '{}_{}_{}'.format(self.tp, self.tp_sel, self.gen_sel)\n",
    "            if self.gen_sel is None:\n",
    "                name = '{}_{}'.format(self.tp, self.tp_sel)\n",
    "            if debug:\n",
    "                print '-- HProxy:Get: {}'.format(name)\n",
    "            self.instance = self.classtype(name, self.root_file, debug)\n",
    "        return self.instance\n",
    "\n",
    "\n",
    "class HPlot:\n",
    "    def __init__(self, samples, labels_dict):\n",
    "        self.samples_ = samples\n",
    "\n",
    "        # populate the label dict\n",
    "        self.labels_dict = labels_dict\n",
    "        for sample in samples:\n",
    "            self.labels_dict[sample.type] = sample.type\n",
    "        self.labels_dict.update({'PU0': 'PU0', 'PU200': 'PU200'})\n",
    "\n",
    "        self.data = pd.DataFrame(columns=['sample', 'pu', 'tp', 'tp_sel', 'gen_sel', 'classtype', 'histo'])\n",
    "\n",
    "\n",
    "    def create_histo_proxies(self, classtype):\n",
    "        for sample in self.samples_:\n",
    "            histo_primtive_index = sample.build_file_primitive_index()\n",
    "            class_primitive_index = histo_primtive_index[histo_primtive_index.classtype == str(classtype).split('.')[-1]]\n",
    "            if class_primitive_index.empty:\n",
    "                print '*** ERROR: No entry for class: {} in the primtive index!'.format(classtype)\n",
    "                return\n",
    "\n",
    "            for index, row in class_primitive_index.iterrows():\n",
    "                self.data = self.data.append({'sample': sample.type,\n",
    "                                              'pu': sample.label,\n",
    "                                              'tp': row.tp,\n",
    "                                              'tp_sel': row.tp_sel,\n",
    "                                              'gen_sel': row.gen_sel,\n",
    "                                              'classtype': classtype,\n",
    "                                              'histo': HProxy(classtype,\n",
    "                                                              row.tp,\n",
    "                                                              row.tp_sel,\n",
    "                                                              row.gen_sel,\n",
    "                                                              sample.histo_file)},\n",
    "                                             ignore_index=True)\n",
    "\n",
    "\n",
    "    def get_histo(self,\n",
    "                  classtype,\n",
    "                  sample=None,\n",
    "                  pu=None,\n",
    "                  tp=None,\n",
    "                  tp_sel=None,\n",
    "                  gen_sel=None,\n",
    "                  debug=False):\n",
    "        histo = None\n",
    "        labels = []\n",
    "        text = ''\n",
    "\n",
    "        query = '(pu == @pu) & (tp == @tp) & (tp_sel == @tp_sel) & (classtype == @classtype)'\n",
    "        if gen_sel is not None:\n",
    "            query += ' & (gen_sel == @gen_sel)'\n",
    "        else:\n",
    "            query += ' & (gen_sel.isnull())'\n",
    "        if sample is not None:\n",
    "            query += '& (sample == @sample)'\n",
    "\n",
    "        histo_df = self.data.query(query)\n",
    "\n",
    "        if histo_df.empty:\n",
    "            print 'No match found for: pu: {}, tp: {}, tp_sel: {}, gen_sel: {}, classtype: {}'.format(pu, tp, tp_sel, gen_sel, classtype)\n",
    "            return None, None, None\n",
    "        if debug:\n",
    "            print histo_df\n",
    "\n",
    "        field_counts = histo_df.apply(lambda x: len(x.unique()))\n",
    "        label_fields = []\n",
    "        text_fields = []\n",
    "        # print field_counts\n",
    "        for field in field_counts.iteritems():\n",
    "            if(field[1] > 1 and field[0] != 'histo'):\n",
    "                label_fields.append(field[0])\n",
    "            if(field[1] == 1 and field[0] != 'histo' and field[0] != 'classtype' and field[0] != 'sample'):\n",
    "                if(gen_sel is None and field[0] == 'gen_sel'):\n",
    "                    continue\n",
    "                text_fields.append(field[0])\n",
    "#         print 'label fields: {}'.format(label_fields)\n",
    "#         print 'text fields: {}'.format(text_fields)\n",
    "\n",
    "        for item in histo_df[label_fields].iterrows():\n",
    "            labels.append(', '.join([self.labels_dict[tx] for tx in item[1].values if self.labels_dict[tx] != '']))\n",
    "\n",
    "        # print labels\n",
    "        text = ', '.join([self.labels_dict[fl] for fl in histo_df[text_fields].iloc[0].values if self.labels_dict[fl] != ''])\n",
    "        histo = [his.get(debug) for his in histo_df['histo'].values]\n",
    "        return histo, labels, text\n"
   ]
  },
  {
   "cell_type": "code",
   "execution_count": 15,
   "metadata": {},
   "outputs": [],
   "source": [
    "# %load samples.py\n",
    "import ROOT\n",
    "import pandas as pd\n",
    "\n",
    "version = 'v101'\n",
    "version_v8 = 'v108'\n",
    "\n",
    "version_v9 = 'v122'\n",
    "\n",
    "# -------------------------------------------------------------------------\n",
    "\n",
    "samples_ele = [\n",
    "    Sample('ele_flat2to100_PU0', 'PU0', version, 'ele'),\n",
    "    Sample('ele_flat2to100_PU200', 'PU200', version, 'ele')\n",
    "    ]\n",
    "\n",
    "samples_ele_V8 = [\n",
    "    Sample('ele_flat2to100_PU0', 'PU0', version, 'V8'),\n",
    "    Sample('ele_flat2to100_PU200', 'PU200', version, 'V8')\n",
    "    ]\n",
    "\n",
    "\n",
    "samples_ele_V9 = [\n",
    "    Sample('all_flat5to80_PU0', 'PU0', 'v75t', 'V9'),\n",
    "    Sample('all_flat5to80_PU200', 'PU200', 'v75t', 'V9')\n",
    "    ]\n",
    "\n",
    "samples_photons = [\n",
    "    Sample('photon_flat8to150_PU0', 'PU0', version, 'photon'),\n",
    "    Sample('photon_flat8to150_PU200', 'PU200', version, 'photon')\n",
    "    ]\n",
    "\n",
    "samples_pions = [\n",
    "    Sample('pion_flat2to100_PU0', 'PU0', version, 'pions'),\n",
    "    ]\n",
    "\n",
    "# samples_nugus = [\n",
    "#     Sample('nugun_alleta_pu0', 'PU0', version, 'mb'),\n",
    "#     Sample('nugun_alleta_pu200', 'PU200', version, 'mb')\n",
    "#     ]\n",
    "\n",
    "\n",
    "samples_nugunrates = [\n",
    "    Sample('nugun_alleta_pu200_rate', 'PU200', version, 'new-clusters')\n",
    "    ]\n",
    "\n",
    "\n",
    "samples_nugunrates_V8 = [\n",
    "    Sample('nugun_alleta_pu200_rate', 'PU200', version_v8, 'hybrid')\n",
    "    ]\n",
    "\n",
    "samples_nugunrates_V9 = [\n",
    "    Sample('nugun_alleta_pu200_rate', 'PU200', version_v9, 'new-ID')\n",
    "    ]\n",
    "\n",
    "\n",
    "\n",
    "\n",
    "\n",
    "\n"
   ]
  },
  {
   "cell_type": "code",
   "execution_count": 36,
   "metadata": {},
   "outputs": [
    {
     "name": "stdout",
     "output_type": "stream",
     "text": [
      "--- RateHistos\n",
      "# of plots: 432\n",
      "# of primitives: 144\n",
      "--- TPs: \n",
      "['HMvDR', 'EG', 'EGBRL', 'EGALL', 'TkEleEL', 'TkEleELBRL', 'TkEleELALL']\n",
      "--- TP selections:\n",
      "{   'EG': [   'EGq5EtaDE',\n",
      "              'EGq2EtaD',\n",
      "              'EGq4EtaBCDE',\n",
      "              'EGq5EtaBC',\n",
      "              'EGq3EtaBC',\n",
      "              'EGq3EtaBCD',\n",
      "              'EGq2',\n",
      "              'EGq2EtaBCDE',\n",
      "              'EGq4EtaBC',\n",
      "              'EGq5EtaD',\n",
      "              'EGq2EtaBCD',\n",
      "              'EGq4',\n",
      "              'EGq5EtaBCD',\n",
      "              'EGq3',\n",
      "              'EGq2EtaDE',\n",
      "              'EGq4EtaD',\n",
      "              'EGq4EtaDE',\n",
      "              'EGq3EtaD',\n",
      "              'EGq4EtaBCD',\n",
      "              'EGq5',\n",
      "              'EGq2EtaBC',\n",
      "              'EGq5EtaBCDE',\n",
      "              'EGq3EtaDE',\n",
      "              'EGq3EtaBCDE'],\n",
      "    'EGALL': ['EtaFLooseTkID', 'EtaF', 'LooseTkID', 'all', 'EtaA', 'EtaBC'],\n",
      "    'EGBRL': ['EtaF', 'EtaFLooseTkID', 'all', 'LooseTkID'],\n",
      "    'HMvDR': [],\n",
      "    'TkEleEL': [   'EGq4EtaBC',\n",
      "                   'EGq4Iso0p2EtaD',\n",
      "                   'EGq2EtaDE',\n",
      "                   'EGq4Iso0p2EtaBC',\n",
      "                   'EGq3EtaDE',\n",
      "                   'EGq3EtaBCDE',\n",
      "                   'EGq3Iso0p3EtaBCD',\n",
      "                   'EGq3Iso0p2EtaBC',\n",
      "                   'EGq4',\n",
      "                   'EGq2EtaBCD',\n",
      "                   'EGq5',\n",
      "                   'EGq3Iso0p2',\n",
      "                   'EGq5EtaD',\n",
      "                   'EGq4Iso0p3EtaBC',\n",
      "                   'EGq2EtaBCDE',\n",
      "                   'EGq2Iso0p3EtaBCD',\n",
      "                   'EGq2Iso0p2EtaBCDE',\n",
      "                   'EGq2Iso0p1EtaBCDE',\n",
      "                   'EGq3EtaBC',\n",
      "                   'EGq3Iso0p1EtaBC',\n",
      "                   'EGq3Iso0p1EtaD',\n",
      "                   'EGq4Iso0p2EtaBCDE',\n",
      "                   'EGq3EtaBCD',\n",
      "                   'EGq4Iso0p1EtaD',\n",
      "                   'EGq5EtaDE',\n",
      "                   'EGq5Iso0p3EtaDE',\n",
      "                   'EGq2Iso0p2EtaBC',\n",
      "                   'EGq5Iso0p1',\n",
      "                   'EGq2Iso0p1',\n",
      "                   'EGq2Iso0p3EtaD',\n",
      "                   'EGq5Iso0p2',\n",
      "                   'EGq5Iso0p3EtaBC',\n",
      "                   'EGq4Iso0p2EtaBCD',\n",
      "                   'EGq3Iso0p1EtaBCDE',\n",
      "                   'EGq3Iso0p3EtaBC',\n",
      "                   'EGq5Iso0p1EtaBCD',\n",
      "                   'EGq2Iso0p3',\n",
      "                   'EGq2Iso0p1EtaDE',\n",
      "                   'EGq3Iso0p1EtaBCD',\n",
      "                   'EGq2',\n",
      "                   'EGq4Iso0p2EtaDE',\n",
      "                   'EGq2Iso0p1EtaD',\n",
      "                   'EGq3',\n",
      "                   'EGq4Iso0p3EtaBCDE',\n",
      "                   'EGq5Iso0p1EtaBCDE',\n",
      "                   'EGq4EtaD',\n",
      "                   'EGq3Iso0p1EtaDE',\n",
      "                   'EGq2Iso0p3EtaDE',\n",
      "                   'EGq2Iso0p3EtaBCDE',\n",
      "                   'EGq2Iso0p1EtaBCD',\n",
      "                   'EGq3Iso0p3EtaD',\n",
      "                   'EGq2Iso0p2EtaDE',\n",
      "                   'EGq4EtaBCD',\n",
      "                   'EGq5EtaBCD',\n",
      "                   'EGq2Iso0p2',\n",
      "                   'EGq3Iso0p3EtaDE',\n",
      "                   'EGq5Iso0p2EtaBC',\n",
      "                   'EGq5Iso0p2EtaBCD',\n",
      "                   'EGq3Iso0p3EtaBCDE',\n",
      "                   'EGq5Iso0p1EtaBC',\n",
      "                   'EGq2Iso0p2EtaBCD',\n",
      "                   'EGq5Iso0p3EtaD',\n",
      "                   'EGq5Iso0p1EtaDE',\n",
      "                   'EGq4Iso0p1EtaBCDE',\n",
      "                   'EGq4Iso0p2',\n",
      "                   'EGq4Iso0p1',\n",
      "                   'EGq3Iso0p2EtaBCD',\n",
      "                   'EGq3Iso0p2EtaD',\n",
      "                   'EGq5Iso0p2EtaBCDE',\n",
      "                   'EGq5EtaBC',\n",
      "                   'EGq4Iso0p3EtaDE',\n",
      "                   'EGq3EtaD',\n",
      "                   'EGq4Iso0p1EtaDE',\n",
      "                   'EGq2EtaD',\n",
      "                   'EGq4Iso0p3',\n",
      "                   'EGq5Iso0p3EtaBCD',\n",
      "                   'EGq4EtaDE',\n",
      "                   'EGq2Iso0p1EtaBC',\n",
      "                   'EGq2EtaBC',\n",
      "                   'EGq5Iso0p2EtaDE',\n",
      "                   'EGq3Iso0p2EtaBCDE',\n",
      "                   'EGq5Iso0p3',\n",
      "                   'EGq4Iso0p3EtaBCD',\n",
      "                   'EGq3Iso0p2EtaDE',\n",
      "                   'EGq5Iso0p1EtaD',\n",
      "                   'EGq4EtaBCDE',\n",
      "                   'EGq5Iso0p2EtaD',\n",
      "                   'EGq4Iso0p1EtaBC',\n",
      "                   'EGq2Iso0p2EtaD',\n",
      "                   'EGq5EtaBCDE',\n",
      "                   'EGq4Iso0p3EtaD',\n",
      "                   'EGq5Iso0p3EtaBCDE',\n",
      "                   'EGq4Iso0p1EtaBCD',\n",
      "                   'EGq2Iso0p3EtaBC',\n",
      "                   'EGq3Iso0p3',\n",
      "                   'EGq3Iso0p1'],\n",
      "    'TkEleELALL': [   'EtaA',\n",
      "                      'EtaBC',\n",
      "                      'Iso0p1',\n",
      "                      'EtaF',\n",
      "                      'LooseTkID',\n",
      "                      'EtaFLooseTkID',\n",
      "                      'EtaFIso0p1',\n",
      "                      'all'],\n",
      "    'TkEleELBRL': [   'EtaFIso0p1',\n",
      "                      'all',\n",
      "                      'LooseTkID',\n",
      "                      'EtaFLooseTkID',\n",
      "                      'Iso0p1',\n",
      "                      'EtaF']}\n",
      "--- GEN selections:\n",
      "{   'EG': [None],\n",
      "    'EGALL': [None],\n",
      "    'EGBRL': [None],\n",
      "    'HMvDR': [],\n",
      "    'TkEleEL': [None],\n",
      "    'TkEleELALL': [None],\n",
      "    'TkEleELBRL': [None]}\n"
     ]
    }
   ],
   "source": [
    "# %load python/settings.py\n",
    "\n",
    "# === samples =====================================================\n",
    "import pprint\n",
    "import python.plotters_config as plotters\n",
    "\n",
    "\n",
    "\n",
    "samples = []\n",
    "\n",
    "# samples += samples_nugunrates\n",
    "# samples += samples_nugunrates_V8\n",
    "samples += samples_nugunrates_V9\n",
    "\n",
    "for smp in samples:\n",
    "    smp.open_file()\n",
    "\n",
    "\n",
    "sample = 'new-ID'\n",
    "\n",
    "# === TP ==========================================================\n",
    "tps = ['HMvDR', \n",
    "       'EG',\n",
    "       'EGBRL',\n",
    "       'EGALL',\n",
    "       'TkEleEL',\n",
    "       'TkEleELBRL',\n",
    "       'TkEleELALL',\n",
    "      ]\n",
    "\n",
    "# === Load the Histo Primitives ====================================\n",
    "histo_primitives = samples[0].build_file_primitive_index()\n",
    "\n",
    "\n",
    "# print histo_primitives.data.unique()\n",
    "# === TP selections ================================================\n",
    "tp_select = {}\n",
    "\n",
    "for tp in tps:\n",
    "    tp_select[tp] = histo_primitives[histo_primitives.tp == tp].tp_sel.unique().tolist()\n",
    "\n",
    "# ==== GEN selections ===============================================\n",
    "gen_select ={}\n",
    "for tp in tps:\n",
    "    gen_select[tp] = histo_primitives[histo_primitives.tp == tp].gen_sel.unique().tolist()\n",
    "\n",
    "\n",
    "import pprint\n",
    "pp = pprint.PrettyPrinter(indent=4)\n",
    "print '--- TPs: '\n",
    "pp.pprint(tps)\n",
    "print '--- TP selections:'\n",
    "pp.pprint(tp_select)\n",
    "print '--- GEN selections:'\n",
    "pp.pprint(gen_select)\n"
   ]
  },
  {
   "cell_type": "code",
   "execution_count": 37,
   "metadata": {},
   "outputs": [],
   "source": [
    "ROOT.gStyle.SetPadGridX(True)\n",
    "ROOT.gStyle.SetPadGridY(True)\n"
   ]
  },
  {
   "cell_type": "code",
   "execution_count": 18,
   "metadata": {},
   "outputs": [],
   "source": [
    "import python.collections as collections\n",
    "import python.selections as selections\n",
    "\n",
    "labels_dict = {}\n",
    "\n",
    "evm = collections.EventManager()\n",
    "labels_dict.update(evm.get_labels())\n",
    "selm = selections.SelectionManager()\n",
    "labels_dict.update(selm.get_labels())\n",
    "\n"
   ]
  },
  {
   "cell_type": "code",
   "execution_count": 19,
   "metadata": {},
   "outputs": [
    {
     "name": "stdout",
     "output_type": "stream",
     "text": [
      "TP: HMvDR\n",
      "[]\n",
      "[]\n",
      "TP: EG\n",
      "['EGq5EtaDE' 'EGq2EtaD' 'EGq4EtaBCDE' 'EGq5EtaBC' 'EGq3EtaBC' 'EGq3EtaBCD'\n",
      " 'EGq2' 'EGq2EtaBCDE' 'EGq4EtaBC' 'EGq5EtaD' 'EGq2EtaBCD' 'EGq4'\n",
      " 'EGq5EtaBCD' 'EGq3' 'EGq2EtaDE' 'EGq4EtaD' 'EGq4EtaDE' 'EGq3EtaD'\n",
      " 'EGq4EtaBCD' 'EGq5' 'EGq2EtaBC' 'EGq5EtaBCDE' 'EGq3EtaDE' 'EGq3EtaBCDE']\n",
      "[None]\n",
      "TP: EGBRL\n",
      "['EtaF' 'EtaFLooseTkID' 'all' 'LooseTkID']\n",
      "[None]\n",
      "TP: EGALL\n",
      "['EtaFLooseTkID' 'EtaF' 'LooseTkID' 'all' 'EtaA' 'EtaBC']\n",
      "[None]\n",
      "TP: TkEleEL\n",
      "['EGq4EtaBC' 'EGq4Iso0p2EtaD' 'EGq2EtaDE' 'EGq4Iso0p2EtaBC' 'EGq3EtaDE'\n",
      " 'EGq3EtaBCDE' 'EGq3Iso0p3EtaBCD' 'EGq3Iso0p2EtaBC' 'EGq4' 'EGq2EtaBCD'\n",
      " 'EGq5' 'EGq3Iso0p2' 'EGq5EtaD' 'EGq4Iso0p3EtaBC' 'EGq2EtaBCDE'\n",
      " 'EGq2Iso0p3EtaBCD' 'EGq2Iso0p2EtaBCDE' 'EGq2Iso0p1EtaBCDE' 'EGq3EtaBC'\n",
      " 'EGq3Iso0p1EtaBC' 'EGq3Iso0p1EtaD' 'EGq4Iso0p2EtaBCDE' 'EGq3EtaBCD'\n",
      " 'EGq4Iso0p1EtaD' 'EGq5EtaDE' 'EGq5Iso0p3EtaDE' 'EGq2Iso0p2EtaBC'\n",
      " 'EGq5Iso0p1' 'EGq2Iso0p1' 'EGq2Iso0p3EtaD' 'EGq5Iso0p2' 'EGq5Iso0p3EtaBC'\n",
      " 'EGq4Iso0p2EtaBCD' 'EGq3Iso0p1EtaBCDE' 'EGq3Iso0p3EtaBC'\n",
      " 'EGq5Iso0p1EtaBCD' 'EGq2Iso0p3' 'EGq2Iso0p1EtaDE' 'EGq3Iso0p1EtaBCD'\n",
      " 'EGq2' 'EGq4Iso0p2EtaDE' 'EGq2Iso0p1EtaD' 'EGq3' 'EGq4Iso0p3EtaBCDE'\n",
      " 'EGq5Iso0p1EtaBCDE' 'EGq4EtaD' 'EGq3Iso0p1EtaDE' 'EGq2Iso0p3EtaDE'\n",
      " 'EGq2Iso0p3EtaBCDE' 'EGq2Iso0p1EtaBCD' 'EGq3Iso0p3EtaD' 'EGq2Iso0p2EtaDE'\n",
      " 'EGq4EtaBCD' 'EGq5EtaBCD' 'EGq2Iso0p2' 'EGq3Iso0p3EtaDE' 'EGq5Iso0p2EtaBC'\n",
      " 'EGq5Iso0p2EtaBCD' 'EGq3Iso0p3EtaBCDE' 'EGq5Iso0p1EtaBC'\n",
      " 'EGq2Iso0p2EtaBCD' 'EGq5Iso0p3EtaD' 'EGq5Iso0p1EtaDE' 'EGq4Iso0p1EtaBCDE'\n",
      " 'EGq4Iso0p2' 'EGq4Iso0p1' 'EGq3Iso0p2EtaBCD' 'EGq3Iso0p2EtaD'\n",
      " 'EGq5Iso0p2EtaBCDE' 'EGq5EtaBC' 'EGq4Iso0p3EtaDE' 'EGq3EtaD'\n",
      " 'EGq4Iso0p1EtaDE' 'EGq2EtaD' 'EGq4Iso0p3' 'EGq5Iso0p3EtaBCD' 'EGq4EtaDE'\n",
      " 'EGq2Iso0p1EtaBC' 'EGq2EtaBC' 'EGq5Iso0p2EtaDE' 'EGq3Iso0p2EtaBCDE'\n",
      " 'EGq5Iso0p3' 'EGq4Iso0p3EtaBCD' 'EGq3Iso0p2EtaDE' 'EGq5Iso0p1EtaD'\n",
      " 'EGq4EtaBCDE' 'EGq5Iso0p2EtaD' 'EGq4Iso0p1EtaBC' 'EGq2Iso0p2EtaD'\n",
      " 'EGq5EtaBCDE' 'EGq4Iso0p3EtaD' 'EGq5Iso0p3EtaBCDE' 'EGq4Iso0p1EtaBCD'\n",
      " 'EGq2Iso0p3EtaBC' 'EGq3Iso0p3' 'EGq3Iso0p1']\n",
      "[None]\n",
      "TP: TkEleELBRL\n",
      "['EtaFIso0p1' 'all' 'LooseTkID' 'EtaFLooseTkID' 'Iso0p1' 'EtaF']\n",
      "[None]\n",
      "TP: TkEleELALL\n",
      "['EtaA' 'EtaBC' 'Iso0p1' 'EtaF' 'LooseTkID' 'EtaFLooseTkID' 'EtaFIso0p1'\n",
      " 'all']\n",
      "[None]\n"
     ]
    }
   ],
   "source": [
    "for tp in tps:\n",
    "    print 'TP: {}'.format(tp)\n",
    "    print histo_primitives[histo_primitives.tp == tp].tp_sel.unique()\n",
    "    print histo_primitives[histo_primitives.tp == tp].gen_sel.unique()"
   ]
  },
  {
   "cell_type": "code",
   "execution_count": 20,
   "metadata": {},
   "outputs": [
    {
     "data": {
      "text/html": [
       "<div>\n",
       "<style scoped>\n",
       "    .dataframe tbody tr th:only-of-type {\n",
       "        vertical-align: middle;\n",
       "    }\n",
       "\n",
       "    .dataframe tbody tr th {\n",
       "        vertical-align: top;\n",
       "    }\n",
       "\n",
       "    .dataframe thead th {\n",
       "        text-align: right;\n",
       "    }\n",
       "</style>\n",
       "<table border=\"1\" class=\"dataframe\">\n",
       "  <thead>\n",
       "    <tr style=\"text-align: right;\">\n",
       "      <th></th>\n",
       "      <th>classtype</th>\n",
       "      <th>gen_sel</th>\n",
       "      <th>tp</th>\n",
       "      <th>tp_sel</th>\n",
       "    </tr>\n",
       "  </thead>\n",
       "  <tbody>\n",
       "    <tr>\n",
       "      <th>0</th>\n",
       "      <td>RateHistos</td>\n",
       "      <td>None</td>\n",
       "      <td>TkEleEL</td>\n",
       "      <td>EGq4EtaBC</td>\n",
       "    </tr>\n",
       "    <tr>\n",
       "      <th>1</th>\n",
       "      <td>RateHistos</td>\n",
       "      <td>None</td>\n",
       "      <td>TkEleELBRL</td>\n",
       "      <td>EtaFIso0p1</td>\n",
       "    </tr>\n",
       "    <tr>\n",
       "      <th>2</th>\n",
       "      <td>RateHistos</td>\n",
       "      <td>None</td>\n",
       "      <td>TkEleEL</td>\n",
       "      <td>EGq4Iso0p2EtaD</td>\n",
       "    </tr>\n",
       "    <tr>\n",
       "      <th>3</th>\n",
       "      <td>RateHistos</td>\n",
       "      <td>None</td>\n",
       "      <td>TkEleEL</td>\n",
       "      <td>EGq2EtaDE</td>\n",
       "    </tr>\n",
       "    <tr>\n",
       "      <th>4</th>\n",
       "      <td>RateHistos</td>\n",
       "      <td>None</td>\n",
       "      <td>TkEleEL</td>\n",
       "      <td>EGq4Iso0p2EtaBC</td>\n",
       "    </tr>\n",
       "    <tr>\n",
       "      <th>5</th>\n",
       "      <td>RateHistos</td>\n",
       "      <td>None</td>\n",
       "      <td>TkEleELBRL</td>\n",
       "      <td>all</td>\n",
       "    </tr>\n",
       "    <tr>\n",
       "      <th>6</th>\n",
       "      <td>RateHistos</td>\n",
       "      <td>None</td>\n",
       "      <td>TkEleEL</td>\n",
       "      <td>EGq3EtaDE</td>\n",
       "    </tr>\n",
       "    <tr>\n",
       "      <th>7</th>\n",
       "      <td>RateHistos</td>\n",
       "      <td>None</td>\n",
       "      <td>TkEleELBRL</td>\n",
       "      <td>LooseTkID</td>\n",
       "    </tr>\n",
       "    <tr>\n",
       "      <th>8</th>\n",
       "      <td>RateHistos</td>\n",
       "      <td>None</td>\n",
       "      <td>TkEleEL</td>\n",
       "      <td>EGq3EtaBCDE</td>\n",
       "    </tr>\n",
       "    <tr>\n",
       "      <th>9</th>\n",
       "      <td>RateHistos</td>\n",
       "      <td>None</td>\n",
       "      <td>EGBRL</td>\n",
       "      <td>EtaF</td>\n",
       "    </tr>\n",
       "  </tbody>\n",
       "</table>\n",
       "</div>"
      ],
      "text/plain": [
       "    classtype gen_sel          tp           tp_sel\n",
       "0  RateHistos    None     TkEleEL        EGq4EtaBC\n",
       "1  RateHistos    None  TkEleELBRL       EtaFIso0p1\n",
       "2  RateHistos    None     TkEleEL   EGq4Iso0p2EtaD\n",
       "3  RateHistos    None     TkEleEL        EGq2EtaDE\n",
       "4  RateHistos    None     TkEleEL  EGq4Iso0p2EtaBC\n",
       "5  RateHistos    None  TkEleELBRL              all\n",
       "6  RateHistos    None     TkEleEL        EGq3EtaDE\n",
       "7  RateHistos    None  TkEleELBRL        LooseTkID\n",
       "8  RateHistos    None     TkEleEL      EGq3EtaBCDE\n",
       "9  RateHistos    None       EGBRL             EtaF"
      ]
     },
     "execution_count": 20,
     "metadata": {},
     "output_type": "execute_result"
    }
   ],
   "source": [
    "histo_primitives[:10]"
   ]
  },
  {
   "cell_type": "markdown",
   "metadata": {},
   "source": [
    "\n"
   ]
  },
  {
   "cell_type": "code",
   "execution_count": 21,
   "metadata": {},
   "outputs": [
    {
     "name": "stdout",
     "output_type": "stream",
     "text": [
      "--- RateHistos\n",
      "# of plots: 432\n",
      "# of primitives: 144\n",
      "CPU times: user 595 ms, sys: 59.3 ms, total: 654 ms\n",
      "Wall time: 614 ms\n"
     ]
    }
   ],
   "source": [
    "%%time\n",
    "\n",
    "import python.l1THistos as histos\n",
    "\n",
    "hplot = HPlot(samples, labels_dict)\n",
    "\n",
    "hplot.create_histo_proxies(histos.RateHistos)\n"
   ]
  },
  {
   "cell_type": "code",
   "execution_count": 11,
   "metadata": {},
   "outputs": [
    {
     "name": "stdout",
     "output_type": "stream",
     "text": [
      "HMvDR\n",
      "['all' 'EtaD' 'EtaDE' 'EtaBC' 'EtaBCD' 'EtaBCDE' 'Em' 'EmEtaD' 'EmEtaDE'\n",
      " 'EmEtaBC' 'EmEtaBCD' 'EmEtaBCDE']\n",
      "[<Sample ../plots1/histos_nugun_alleta_pu200_rate_v108.root, hybrid>, <Sample ../plots1/histos_nugun_alleta_pu200_rate_v122.root, new-ID>]\n",
      "<Sample ../plots1/histos_nugun_alleta_pu200_rate_v108.root, hybrid>\n",
      "<Sample ../plots1/histos_nugun_alleta_pu200_rate_v108.root, hybrid> HMvDR all None\n",
      "<Sample ../plots1/histos_nugun_alleta_pu200_rate_v108.root, hybrid> HMvDR EtaD None\n",
      "<Sample ../plots1/histos_nugun_alleta_pu200_rate_v108.root, hybrid> HMvDR EtaDE None\n",
      "<Sample ../plots1/histos_nugun_alleta_pu200_rate_v108.root, hybrid> HMvDR EtaBC None\n",
      "<Sample ../plots1/histos_nugun_alleta_pu200_rate_v108.root, hybrid> HMvDR EtaBCD None\n",
      "<Sample ../plots1/histos_nugun_alleta_pu200_rate_v108.root, hybrid> HMvDR EtaBCDE None\n",
      "<Sample ../plots1/histos_nugun_alleta_pu200_rate_v108.root, hybrid> HMvDR Em None\n",
      "<Sample ../plots1/histos_nugun_alleta_pu200_rate_v108.root, hybrid> HMvDR EmEtaD None\n",
      "<Sample ../plots1/histos_nugun_alleta_pu200_rate_v108.root, hybrid> HMvDR EmEtaDE None\n",
      "<Sample ../plots1/histos_nugun_alleta_pu200_rate_v108.root, hybrid> HMvDR EmEtaBC None\n",
      "<Sample ../plots1/histos_nugun_alleta_pu200_rate_v108.root, hybrid> HMvDR EmEtaBCD None\n",
      "<Sample ../plots1/histos_nugun_alleta_pu200_rate_v108.root, hybrid> HMvDR EmEtaBCDE None\n",
      "<Sample ../plots1/histos_nugun_alleta_pu200_rate_v122.root, new-ID>\n",
      "<Sample ../plots1/histos_nugun_alleta_pu200_rate_v122.root, new-ID> HMvDR all None\n",
      "<Sample ../plots1/histos_nugun_alleta_pu200_rate_v122.root, new-ID> HMvDR EtaD None\n",
      "<Sample ../plots1/histos_nugun_alleta_pu200_rate_v122.root, new-ID> HMvDR EtaDE None\n",
      "<Sample ../plots1/histos_nugun_alleta_pu200_rate_v122.root, new-ID> HMvDR EtaBC None\n",
      "<Sample ../plots1/histos_nugun_alleta_pu200_rate_v122.root, new-ID> HMvDR EtaBCD None\n",
      "<Sample ../plots1/histos_nugun_alleta_pu200_rate_v122.root, new-ID> HMvDR EtaBCDE None\n",
      "<Sample ../plots1/histos_nugun_alleta_pu200_rate_v122.root, new-ID> HMvDR Em None\n",
      "<Sample ../plots1/histos_nugun_alleta_pu200_rate_v122.root, new-ID> HMvDR EmEtaD None\n",
      "<Sample ../plots1/histos_nugun_alleta_pu200_rate_v122.root, new-ID> HMvDR EmEtaDE None\n",
      "<Sample ../plots1/histos_nugun_alleta_pu200_rate_v122.root, new-ID> HMvDR EmEtaBC None\n",
      "<Sample ../plots1/histos_nugun_alleta_pu200_rate_v122.root, new-ID> HMvDR EmEtaBCD None\n",
      "<Sample ../plots1/histos_nugun_alleta_pu200_rate_v122.root, new-ID> HMvDR EmEtaBCDE None\n",
      "EG\n",
      "['EGq2' 'EGq2EtaD' 'EGq2EtaDE' 'EGq2EtaBC' 'EGq2EtaBCD' 'EGq2EtaBCDE'\n",
      " 'EGq3' 'EGq3EtaD' 'EGq3EtaDE' 'EGq3EtaBC' 'EGq3EtaBCD' 'EGq3EtaBCDE'\n",
      " 'EGq4' 'EGq4EtaD' 'EGq4EtaDE' 'EGq4EtaBC' 'EGq4EtaBCD' 'EGq4EtaBCDE'\n",
      " 'EGq5' 'EGq5EtaD' 'EGq5EtaDE' 'EGq5EtaBC' 'EGq5EtaBCD' 'EGq5EtaBCDE']\n",
      "[<Sample ../plots1/histos_nugun_alleta_pu200_rate_v108.root, hybrid>, <Sample ../plots1/histos_nugun_alleta_pu200_rate_v122.root, new-ID>]\n",
      "<Sample ../plots1/histos_nugun_alleta_pu200_rate_v108.root, hybrid>\n",
      "<Sample ../plots1/histos_nugun_alleta_pu200_rate_v108.root, hybrid> EG EGq2 None\n",
      "<Sample ../plots1/histos_nugun_alleta_pu200_rate_v108.root, hybrid> EG EGq2EtaD None\n",
      "<Sample ../plots1/histos_nugun_alleta_pu200_rate_v108.root, hybrid> EG EGq2EtaDE None\n",
      "<Sample ../plots1/histos_nugun_alleta_pu200_rate_v108.root, hybrid> EG EGq2EtaBC None\n",
      "<Sample ../plots1/histos_nugun_alleta_pu200_rate_v108.root, hybrid> EG EGq2EtaBCD None\n",
      "<Sample ../plots1/histos_nugun_alleta_pu200_rate_v108.root, hybrid> EG EGq2EtaBCDE None\n",
      "<Sample ../plots1/histos_nugun_alleta_pu200_rate_v108.root, hybrid> EG EGq3 None\n",
      "<Sample ../plots1/histos_nugun_alleta_pu200_rate_v108.root, hybrid> EG EGq3EtaD None\n",
      "<Sample ../plots1/histos_nugun_alleta_pu200_rate_v108.root, hybrid> EG EGq3EtaDE None\n",
      "<Sample ../plots1/histos_nugun_alleta_pu200_rate_v108.root, hybrid> EG EGq3EtaBC None\n",
      "<Sample ../plots1/histos_nugun_alleta_pu200_rate_v108.root, hybrid> EG EGq3EtaBCD None\n",
      "<Sample ../plots1/histos_nugun_alleta_pu200_rate_v108.root, hybrid> EG EGq3EtaBCDE None\n",
      "<Sample ../plots1/histos_nugun_alleta_pu200_rate_v108.root, hybrid> EG EGq4 None\n",
      "<Sample ../plots1/histos_nugun_alleta_pu200_rate_v108.root, hybrid> EG EGq4EtaD None\n",
      "<Sample ../plots1/histos_nugun_alleta_pu200_rate_v108.root, hybrid> EG EGq4EtaDE None\n",
      "<Sample ../plots1/histos_nugun_alleta_pu200_rate_v108.root, hybrid> EG EGq4EtaBC None\n",
      "<Sample ../plots1/histos_nugun_alleta_pu200_rate_v108.root, hybrid> EG EGq4EtaBCD None\n",
      "<Sample ../plots1/histos_nugun_alleta_pu200_rate_v108.root, hybrid> EG EGq4EtaBCDE None\n",
      "<Sample ../plots1/histos_nugun_alleta_pu200_rate_v108.root, hybrid> EG EGq5 None\n",
      "<Sample ../plots1/histos_nugun_alleta_pu200_rate_v108.root, hybrid> EG EGq5EtaD None\n",
      "<Sample ../plots1/histos_nugun_alleta_pu200_rate_v108.root, hybrid> EG EGq5EtaDE None\n",
      "<Sample ../plots1/histos_nugun_alleta_pu200_rate_v108.root, hybrid> EG EGq5EtaBC None\n",
      "<Sample ../plots1/histos_nugun_alleta_pu200_rate_v108.root, hybrid> EG EGq5EtaBCD None\n",
      "<Sample ../plots1/histos_nugun_alleta_pu200_rate_v108.root, hybrid> EG EGq5EtaBCDE None\n",
      "<Sample ../plots1/histos_nugun_alleta_pu200_rate_v122.root, new-ID>\n",
      "<Sample ../plots1/histos_nugun_alleta_pu200_rate_v122.root, new-ID> EG EGq2 None\n",
      "<Sample ../plots1/histos_nugun_alleta_pu200_rate_v122.root, new-ID> EG EGq2EtaD None\n",
      "<Sample ../plots1/histos_nugun_alleta_pu200_rate_v122.root, new-ID> EG EGq2EtaDE None\n",
      "<Sample ../plots1/histos_nugun_alleta_pu200_rate_v122.root, new-ID> EG EGq2EtaBC None\n",
      "<Sample ../plots1/histos_nugun_alleta_pu200_rate_v122.root, new-ID> EG EGq2EtaBCD None\n",
      "<Sample ../plots1/histos_nugun_alleta_pu200_rate_v122.root, new-ID> EG EGq2EtaBCDE None\n",
      "<Sample ../plots1/histos_nugun_alleta_pu200_rate_v122.root, new-ID> EG EGq3 None\n",
      "<Sample ../plots1/histos_nugun_alleta_pu200_rate_v122.root, new-ID> EG EGq3EtaD None\n",
      "<Sample ../plots1/histos_nugun_alleta_pu200_rate_v122.root, new-ID> EG EGq3EtaDE None\n",
      "<Sample ../plots1/histos_nugun_alleta_pu200_rate_v122.root, new-ID> EG EGq3EtaBC None\n",
      "<Sample ../plots1/histos_nugun_alleta_pu200_rate_v122.root, new-ID> EG EGq3EtaBCD None\n",
      "<Sample ../plots1/histos_nugun_alleta_pu200_rate_v122.root, new-ID> EG EGq3EtaBCDE None\n",
      "<Sample ../plots1/histos_nugun_alleta_pu200_rate_v122.root, new-ID> EG EGq4 None\n",
      "<Sample ../plots1/histos_nugun_alleta_pu200_rate_v122.root, new-ID> EG EGq4EtaD None\n",
      "<Sample ../plots1/histos_nugun_alleta_pu200_rate_v122.root, new-ID> EG EGq4EtaDE None\n",
      "<Sample ../plots1/histos_nugun_alleta_pu200_rate_v122.root, new-ID> EG EGq4EtaBC None\n",
      "<Sample ../plots1/histos_nugun_alleta_pu200_rate_v122.root, new-ID> EG EGq4EtaBCD None\n",
      "<Sample ../plots1/histos_nugun_alleta_pu200_rate_v122.root, new-ID> EG EGq4EtaBCDE None\n",
      "<Sample ../plots1/histos_nugun_alleta_pu200_rate_v122.root, new-ID> EG EGq5 None\n",
      "<Sample ../plots1/histos_nugun_alleta_pu200_rate_v122.root, new-ID> EG EGq5EtaD None\n",
      "<Sample ../plots1/histos_nugun_alleta_pu200_rate_v122.root, new-ID> EG EGq5EtaDE None\n",
      "<Sample ../plots1/histos_nugun_alleta_pu200_rate_v122.root, new-ID> EG EGq5EtaBC None\n",
      "<Sample ../plots1/histos_nugun_alleta_pu200_rate_v122.root, new-ID> EG EGq5EtaBCD None\n",
      "<Sample ../plots1/histos_nugun_alleta_pu200_rate_v122.root, new-ID> EG EGq5EtaBCDE None\n",
      "EGBRL\n",
      "['all' 'LooseTkID' 'EtaF' 'EtaFLooseTkID']\n",
      "[<Sample ../plots1/histos_nugun_alleta_pu200_rate_v108.root, hybrid>, <Sample ../plots1/histos_nugun_alleta_pu200_rate_v122.root, new-ID>]\n",
      "<Sample ../plots1/histos_nugun_alleta_pu200_rate_v108.root, hybrid>\n",
      "<Sample ../plots1/histos_nugun_alleta_pu200_rate_v108.root, hybrid> EGBRL all None\n",
      "<Sample ../plots1/histos_nugun_alleta_pu200_rate_v108.root, hybrid> EGBRL LooseTkID None\n",
      "<Sample ../plots1/histos_nugun_alleta_pu200_rate_v108.root, hybrid> EGBRL EtaF None\n",
      "<Sample ../plots1/histos_nugun_alleta_pu200_rate_v108.root, hybrid> EGBRL EtaFLooseTkID None\n",
      "<Sample ../plots1/histos_nugun_alleta_pu200_rate_v122.root, new-ID>\n",
      "<Sample ../plots1/histos_nugun_alleta_pu200_rate_v122.root, new-ID> EGBRL all None\n",
      "<Sample ../plots1/histos_nugun_alleta_pu200_rate_v122.root, new-ID> EGBRL LooseTkID None\n",
      "<Sample ../plots1/histos_nugun_alleta_pu200_rate_v122.root, new-ID> EGBRL EtaF None\n",
      "<Sample ../plots1/histos_nugun_alleta_pu200_rate_v122.root, new-ID> EGBRL EtaFLooseTkID None\n",
      "EGALL\n",
      "['all' 'EtaF' 'EtaA' 'EtaBC' 'LooseTkID' 'EtaFLooseTkID']\n",
      "[<Sample ../plots1/histos_nugun_alleta_pu200_rate_v108.root, hybrid>, <Sample ../plots1/histos_nugun_alleta_pu200_rate_v122.root, new-ID>]\n",
      "<Sample ../plots1/histos_nugun_alleta_pu200_rate_v108.root, hybrid>\n",
      "<Sample ../plots1/histos_nugun_alleta_pu200_rate_v108.root, hybrid> EGALL all None\n"
     ]
    },
    {
     "name": "stdout",
     "output_type": "stream",
     "text": [
      "<Sample ../plots1/histos_nugun_alleta_pu200_rate_v108.root, hybrid> EGALL EtaF None\n",
      "<Sample ../plots1/histos_nugun_alleta_pu200_rate_v108.root, hybrid> EGALL EtaA None\n",
      "<Sample ../plots1/histos_nugun_alleta_pu200_rate_v108.root, hybrid> EGALL EtaBC None\n",
      "<Sample ../plots1/histos_nugun_alleta_pu200_rate_v108.root, hybrid> EGALL LooseTkID None\n",
      "<Sample ../plots1/histos_nugun_alleta_pu200_rate_v108.root, hybrid> EGALL EtaFLooseTkID None\n",
      "<Sample ../plots1/histos_nugun_alleta_pu200_rate_v122.root, new-ID>\n",
      "<Sample ../plots1/histos_nugun_alleta_pu200_rate_v122.root, new-ID> EGALL all None\n",
      "<Sample ../plots1/histos_nugun_alleta_pu200_rate_v122.root, new-ID> EGALL EtaF None\n",
      "<Sample ../plots1/histos_nugun_alleta_pu200_rate_v122.root, new-ID> EGALL EtaA None\n",
      "<Sample ../plots1/histos_nugun_alleta_pu200_rate_v122.root, new-ID> EGALL EtaBC None\n",
      "<Sample ../plots1/histos_nugun_alleta_pu200_rate_v122.root, new-ID> EGALL LooseTkID None\n",
      "<Sample ../plots1/histos_nugun_alleta_pu200_rate_v122.root, new-ID> EGALL EtaFLooseTkID None\n",
      "TkEleEL\n",
      "['EGq2' 'EGq2EtaD' 'EGq2EtaDE' 'EGq2EtaBC' 'EGq2EtaBCD' 'EGq2EtaBCDE'\n",
      " 'EGq2Iso0p2' 'EGq2Iso0p2EtaD' 'EGq2Iso0p2EtaDE' 'EGq2Iso0p2EtaBC'\n",
      " 'EGq2Iso0p2EtaBCD' 'EGq2Iso0p2EtaBCDE' 'EGq2Iso0p1' 'EGq2Iso0p1EtaD'\n",
      " 'EGq2Iso0p1EtaDE' 'EGq2Iso0p1EtaBC' 'EGq2Iso0p1EtaBCD' 'EGq2Iso0p1EtaBCDE'\n",
      " 'EGq2Iso0p3' 'EGq2Iso0p3EtaD' 'EGq2Iso0p3EtaDE' 'EGq2Iso0p3EtaBC'\n",
      " 'EGq2Iso0p3EtaBCD' 'EGq2Iso0p3EtaBCDE' 'EGq3' 'EGq3EtaD' 'EGq3EtaDE'\n",
      " 'EGq3EtaBC' 'EGq3EtaBCD' 'EGq3EtaBCDE' 'EGq3Iso0p2' 'EGq3Iso0p2EtaD'\n",
      " 'EGq3Iso0p2EtaDE' 'EGq3Iso0p2EtaBC' 'EGq3Iso0p2EtaBCD' 'EGq3Iso0p2EtaBCDE'\n",
      " 'EGq3Iso0p1' 'EGq3Iso0p1EtaD' 'EGq3Iso0p1EtaDE' 'EGq3Iso0p1EtaBC'\n",
      " 'EGq3Iso0p1EtaBCD' 'EGq3Iso0p1EtaBCDE' 'EGq3Iso0p3' 'EGq3Iso0p3EtaD'\n",
      " 'EGq3Iso0p3EtaDE' 'EGq3Iso0p3EtaBC' 'EGq3Iso0p3EtaBCD' 'EGq3Iso0p3EtaBCDE'\n",
      " 'EGq4' 'EGq4EtaD' 'EGq4EtaDE' 'EGq4EtaBC' 'EGq4EtaBCD' 'EGq4EtaBCDE'\n",
      " 'EGq4Iso0p2' 'EGq4Iso0p2EtaD' 'EGq4Iso0p2EtaDE' 'EGq4Iso0p2EtaBC'\n",
      " 'EGq4Iso0p2EtaBCD' 'EGq4Iso0p2EtaBCDE' 'EGq4Iso0p1' 'EGq4Iso0p1EtaD'\n",
      " 'EGq4Iso0p1EtaDE' 'EGq4Iso0p1EtaBC' 'EGq4Iso0p1EtaBCD' 'EGq4Iso0p1EtaBCDE'\n",
      " 'EGq4Iso0p3' 'EGq4Iso0p3EtaD' 'EGq4Iso0p3EtaDE' 'EGq4Iso0p3EtaBC'\n",
      " 'EGq4Iso0p3EtaBCD' 'EGq4Iso0p3EtaBCDE' 'EGq5' 'EGq5EtaD' 'EGq5EtaDE'\n",
      " 'EGq5EtaBC' 'EGq5EtaBCD' 'EGq5EtaBCDE' 'EGq5Iso0p2' 'EGq5Iso0p2EtaD'\n",
      " 'EGq5Iso0p2EtaDE' 'EGq5Iso0p2EtaBC' 'EGq5Iso0p2EtaBCD' 'EGq5Iso0p2EtaBCDE'\n",
      " 'EGq5Iso0p1' 'EGq5Iso0p1EtaD' 'EGq5Iso0p1EtaDE' 'EGq5Iso0p1EtaBC'\n",
      " 'EGq5Iso0p1EtaBCD' 'EGq5Iso0p1EtaBCDE' 'EGq5Iso0p3' 'EGq5Iso0p3EtaD'\n",
      " 'EGq5Iso0p3EtaDE' 'EGq5Iso0p3EtaBC' 'EGq5Iso0p3EtaBCD' 'EGq5Iso0p3EtaBCDE']\n",
      "[<Sample ../plots1/histos_nugun_alleta_pu200_rate_v108.root, hybrid>, <Sample ../plots1/histos_nugun_alleta_pu200_rate_v122.root, new-ID>]\n",
      "<Sample ../plots1/histos_nugun_alleta_pu200_rate_v108.root, hybrid>\n",
      "<Sample ../plots1/histos_nugun_alleta_pu200_rate_v108.root, hybrid> TkEleEL EGq2 None\n",
      "<Sample ../plots1/histos_nugun_alleta_pu200_rate_v108.root, hybrid> TkEleEL EGq2EtaD None\n",
      "<Sample ../plots1/histos_nugun_alleta_pu200_rate_v108.root, hybrid> TkEleEL EGq2EtaDE None\n",
      "<Sample ../plots1/histos_nugun_alleta_pu200_rate_v108.root, hybrid> TkEleEL EGq2EtaBC None\n",
      "<Sample ../plots1/histos_nugun_alleta_pu200_rate_v108.root, hybrid> TkEleEL EGq2EtaBCD None\n",
      "<Sample ../plots1/histos_nugun_alleta_pu200_rate_v108.root, hybrid> TkEleEL EGq2EtaBCDE None\n",
      "<Sample ../plots1/histos_nugun_alleta_pu200_rate_v108.root, hybrid> TkEleEL EGq2Iso0p2 None\n",
      "<Sample ../plots1/histos_nugun_alleta_pu200_rate_v108.root, hybrid> TkEleEL EGq2Iso0p2EtaD None\n",
      "<Sample ../plots1/histos_nugun_alleta_pu200_rate_v108.root, hybrid> TkEleEL EGq2Iso0p2EtaDE None\n",
      "<Sample ../plots1/histos_nugun_alleta_pu200_rate_v108.root, hybrid> TkEleEL EGq2Iso0p2EtaBC None\n",
      "<Sample ../plots1/histos_nugun_alleta_pu200_rate_v108.root, hybrid> TkEleEL EGq2Iso0p2EtaBCD None\n",
      "<Sample ../plots1/histos_nugun_alleta_pu200_rate_v108.root, hybrid> TkEleEL EGq2Iso0p2EtaBCDE None\n",
      "<Sample ../plots1/histos_nugun_alleta_pu200_rate_v108.root, hybrid> TkEleEL EGq2Iso0p1 None\n",
      "<Sample ../plots1/histos_nugun_alleta_pu200_rate_v108.root, hybrid> TkEleEL EGq2Iso0p1EtaD None\n",
      "<Sample ../plots1/histos_nugun_alleta_pu200_rate_v108.root, hybrid> TkEleEL EGq2Iso0p1EtaDE None\n",
      "<Sample ../plots1/histos_nugun_alleta_pu200_rate_v108.root, hybrid> TkEleEL EGq2Iso0p1EtaBC None\n",
      "<Sample ../plots1/histos_nugun_alleta_pu200_rate_v108.root, hybrid> TkEleEL EGq2Iso0p1EtaBCD None\n",
      "<Sample ../plots1/histos_nugun_alleta_pu200_rate_v108.root, hybrid> TkEleEL EGq2Iso0p1EtaBCDE None\n",
      "<Sample ../plots1/histos_nugun_alleta_pu200_rate_v108.root, hybrid> TkEleEL EGq2Iso0p3 None\n",
      "<Sample ../plots1/histos_nugun_alleta_pu200_rate_v108.root, hybrid> TkEleEL EGq2Iso0p3EtaD None\n",
      "<Sample ../plots1/histos_nugun_alleta_pu200_rate_v108.root, hybrid> TkEleEL EGq2Iso0p3EtaDE None\n",
      "<Sample ../plots1/histos_nugun_alleta_pu200_rate_v108.root, hybrid> TkEleEL EGq2Iso0p3EtaBC None\n",
      "<Sample ../plots1/histos_nugun_alleta_pu200_rate_v108.root, hybrid> TkEleEL EGq2Iso0p3EtaBCD None\n",
      "<Sample ../plots1/histos_nugun_alleta_pu200_rate_v108.root, hybrid> TkEleEL EGq2Iso0p3EtaBCDE None\n",
      "<Sample ../plots1/histos_nugun_alleta_pu200_rate_v108.root, hybrid> TkEleEL EGq3 None\n",
      "<Sample ../plots1/histos_nugun_alleta_pu200_rate_v108.root, hybrid> TkEleEL EGq3EtaD None\n",
      "<Sample ../plots1/histos_nugun_alleta_pu200_rate_v108.root, hybrid> TkEleEL EGq3EtaDE None\n",
      "<Sample ../plots1/histos_nugun_alleta_pu200_rate_v108.root, hybrid> TkEleEL EGq3EtaBC None\n",
      "<Sample ../plots1/histos_nugun_alleta_pu200_rate_v108.root, hybrid> TkEleEL EGq3EtaBCD None\n",
      "<Sample ../plots1/histos_nugun_alleta_pu200_rate_v108.root, hybrid> TkEleEL EGq3EtaBCDE None\n",
      "<Sample ../plots1/histos_nugun_alleta_pu200_rate_v108.root, hybrid> TkEleEL EGq3Iso0p2 None\n",
      "<Sample ../plots1/histos_nugun_alleta_pu200_rate_v108.root, hybrid> TkEleEL EGq3Iso0p2EtaD None\n",
      "<Sample ../plots1/histos_nugun_alleta_pu200_rate_v108.root, hybrid> TkEleEL EGq3Iso0p2EtaDE None\n",
      "<Sample ../plots1/histos_nugun_alleta_pu200_rate_v108.root, hybrid> TkEleEL EGq3Iso0p2EtaBC None\n",
      "<Sample ../plots1/histos_nugun_alleta_pu200_rate_v108.root, hybrid> TkEleEL EGq3Iso0p2EtaBCD None\n",
      "<Sample ../plots1/histos_nugun_alleta_pu200_rate_v108.root, hybrid> TkEleEL EGq3Iso0p2EtaBCDE None\n",
      "<Sample ../plots1/histos_nugun_alleta_pu200_rate_v108.root, hybrid> TkEleEL EGq3Iso0p1 None\n",
      "<Sample ../plots1/histos_nugun_alleta_pu200_rate_v108.root, hybrid> TkEleEL EGq3Iso0p1EtaD None\n",
      "<Sample ../plots1/histos_nugun_alleta_pu200_rate_v108.root, hybrid> TkEleEL EGq3Iso0p1EtaDE None\n",
      "<Sample ../plots1/histos_nugun_alleta_pu200_rate_v108.root, hybrid> TkEleEL EGq3Iso0p1EtaBC None\n",
      "<Sample ../plots1/histos_nugun_alleta_pu200_rate_v108.root, hybrid> TkEleEL EGq3Iso0p1EtaBCD None\n",
      "<Sample ../plots1/histos_nugun_alleta_pu200_rate_v108.root, hybrid> TkEleEL EGq3Iso0p1EtaBCDE None\n",
      "<Sample ../plots1/histos_nugun_alleta_pu200_rate_v108.root, hybrid> TkEleEL EGq3Iso0p3 None\n",
      "<Sample ../plots1/histos_nugun_alleta_pu200_rate_v108.root, hybrid> TkEleEL EGq3Iso0p3EtaD None\n",
      "<Sample ../plots1/histos_nugun_alleta_pu200_rate_v108.root, hybrid> TkEleEL EGq3Iso0p3EtaDE None\n",
      "<Sample ../plots1/histos_nugun_alleta_pu200_rate_v108.root, hybrid> TkEleEL EGq3Iso0p3EtaBC None\n",
      "<Sample ../plots1/histos_nugun_alleta_pu200_rate_v108.root, hybrid> TkEleEL EGq3Iso0p3EtaBCD None\n",
      "<Sample ../plots1/histos_nugun_alleta_pu200_rate_v108.root, hybrid> TkEleEL EGq3Iso0p3EtaBCDE None\n",
      "<Sample ../plots1/histos_nugun_alleta_pu200_rate_v108.root, hybrid> TkEleEL EGq4 None\n",
      "<Sample ../plots1/histos_nugun_alleta_pu200_rate_v108.root, hybrid> TkEleEL EGq4EtaD None\n",
      "<Sample ../plots1/histos_nugun_alleta_pu200_rate_v108.root, hybrid> TkEleEL EGq4EtaDE None\n",
      "<Sample ../plots1/histos_nugun_alleta_pu200_rate_v108.root, hybrid> TkEleEL EGq4EtaBC None\n",
      "<Sample ../plots1/histos_nugun_alleta_pu200_rate_v108.root, hybrid> TkEleEL EGq4EtaBCD None\n",
      "<Sample ../plots1/histos_nugun_alleta_pu200_rate_v108.root, hybrid> TkEleEL EGq4EtaBCDE None\n",
      "<Sample ../plots1/histos_nugun_alleta_pu200_rate_v108.root, hybrid> TkEleEL EGq4Iso0p2 None\n",
      "<Sample ../plots1/histos_nugun_alleta_pu200_rate_v108.root, hybrid> TkEleEL EGq4Iso0p2EtaD None\n",
      "<Sample ../plots1/histos_nugun_alleta_pu200_rate_v108.root, hybrid> TkEleEL EGq4Iso0p2EtaDE None\n",
      "<Sample ../plots1/histos_nugun_alleta_pu200_rate_v108.root, hybrid> TkEleEL EGq4Iso0p2EtaBC None\n",
      "<Sample ../plots1/histos_nugun_alleta_pu200_rate_v108.root, hybrid> TkEleEL EGq4Iso0p2EtaBCD None\n",
      "<Sample ../plots1/histos_nugun_alleta_pu200_rate_v108.root, hybrid> TkEleEL EGq4Iso0p2EtaBCDE None\n"
     ]
    },
    {
     "name": "stdout",
     "output_type": "stream",
     "text": [
      "<Sample ../plots1/histos_nugun_alleta_pu200_rate_v108.root, hybrid> TkEleEL EGq4Iso0p1 None\n",
      "<Sample ../plots1/histos_nugun_alleta_pu200_rate_v108.root, hybrid> TkEleEL EGq4Iso0p1EtaD None\n",
      "<Sample ../plots1/histos_nugun_alleta_pu200_rate_v108.root, hybrid> TkEleEL EGq4Iso0p1EtaDE None\n",
      "<Sample ../plots1/histos_nugun_alleta_pu200_rate_v108.root, hybrid> TkEleEL EGq4Iso0p1EtaBC None\n",
      "<Sample ../plots1/histos_nugun_alleta_pu200_rate_v108.root, hybrid> TkEleEL EGq4Iso0p1EtaBCD None\n",
      "<Sample ../plots1/histos_nugun_alleta_pu200_rate_v108.root, hybrid> TkEleEL EGq4Iso0p1EtaBCDE None\n",
      "<Sample ../plots1/histos_nugun_alleta_pu200_rate_v108.root, hybrid> TkEleEL EGq4Iso0p3 None\n",
      "<Sample ../plots1/histos_nugun_alleta_pu200_rate_v108.root, hybrid> TkEleEL EGq4Iso0p3EtaD None\n",
      "<Sample ../plots1/histos_nugun_alleta_pu200_rate_v108.root, hybrid> TkEleEL EGq4Iso0p3EtaDE None\n",
      "<Sample ../plots1/histos_nugun_alleta_pu200_rate_v108.root, hybrid> TkEleEL EGq4Iso0p3EtaBC None\n",
      "<Sample ../plots1/histos_nugun_alleta_pu200_rate_v108.root, hybrid> TkEleEL EGq4Iso0p3EtaBCD None\n",
      "<Sample ../plots1/histos_nugun_alleta_pu200_rate_v108.root, hybrid> TkEleEL EGq4Iso0p3EtaBCDE None\n",
      "<Sample ../plots1/histos_nugun_alleta_pu200_rate_v108.root, hybrid> TkEleEL EGq5 None\n",
      "<Sample ../plots1/histos_nugun_alleta_pu200_rate_v108.root, hybrid> TkEleEL EGq5EtaD None\n",
      "<Sample ../plots1/histos_nugun_alleta_pu200_rate_v108.root, hybrid> TkEleEL EGq5EtaDE None\n",
      "<Sample ../plots1/histos_nugun_alleta_pu200_rate_v108.root, hybrid> TkEleEL EGq5EtaBC None\n",
      "<Sample ../plots1/histos_nugun_alleta_pu200_rate_v108.root, hybrid> TkEleEL EGq5EtaBCD None\n",
      "<Sample ../plots1/histos_nugun_alleta_pu200_rate_v108.root, hybrid> TkEleEL EGq5EtaBCDE None\n",
      "<Sample ../plots1/histos_nugun_alleta_pu200_rate_v108.root, hybrid> TkEleEL EGq5Iso0p2 None\n",
      "<Sample ../plots1/histos_nugun_alleta_pu200_rate_v108.root, hybrid> TkEleEL EGq5Iso0p2EtaD None\n",
      "<Sample ../plots1/histos_nugun_alleta_pu200_rate_v108.root, hybrid> TkEleEL EGq5Iso0p2EtaDE None\n",
      "<Sample ../plots1/histos_nugun_alleta_pu200_rate_v108.root, hybrid> TkEleEL EGq5Iso0p2EtaBC None\n",
      "<Sample ../plots1/histos_nugun_alleta_pu200_rate_v108.root, hybrid> TkEleEL EGq5Iso0p2EtaBCD None\n",
      "<Sample ../plots1/histos_nugun_alleta_pu200_rate_v108.root, hybrid> TkEleEL EGq5Iso0p2EtaBCDE None\n",
      "<Sample ../plots1/histos_nugun_alleta_pu200_rate_v108.root, hybrid> TkEleEL EGq5Iso0p1 None\n",
      "<Sample ../plots1/histos_nugun_alleta_pu200_rate_v108.root, hybrid> TkEleEL EGq5Iso0p1EtaD None\n",
      "<Sample ../plots1/histos_nugun_alleta_pu200_rate_v108.root, hybrid> TkEleEL EGq5Iso0p1EtaDE None\n",
      "<Sample ../plots1/histos_nugun_alleta_pu200_rate_v108.root, hybrid> TkEleEL EGq5Iso0p1EtaBC None\n",
      "<Sample ../plots1/histos_nugun_alleta_pu200_rate_v108.root, hybrid> TkEleEL EGq5Iso0p1EtaBCD None\n",
      "<Sample ../plots1/histos_nugun_alleta_pu200_rate_v108.root, hybrid> TkEleEL EGq5Iso0p1EtaBCDE None\n",
      "<Sample ../plots1/histos_nugun_alleta_pu200_rate_v108.root, hybrid> TkEleEL EGq5Iso0p3 None\n",
      "<Sample ../plots1/histos_nugun_alleta_pu200_rate_v108.root, hybrid> TkEleEL EGq5Iso0p3EtaD None\n",
      "<Sample ../plots1/histos_nugun_alleta_pu200_rate_v108.root, hybrid> TkEleEL EGq5Iso0p3EtaDE None\n",
      "<Sample ../plots1/histos_nugun_alleta_pu200_rate_v108.root, hybrid> TkEleEL EGq5Iso0p3EtaBC None\n",
      "<Sample ../plots1/histos_nugun_alleta_pu200_rate_v108.root, hybrid> TkEleEL EGq5Iso0p3EtaBCD None\n",
      "<Sample ../plots1/histos_nugun_alleta_pu200_rate_v108.root, hybrid> TkEleEL EGq5Iso0p3EtaBCDE None\n",
      "<Sample ../plots1/histos_nugun_alleta_pu200_rate_v122.root, new-ID>\n",
      "<Sample ../plots1/histos_nugun_alleta_pu200_rate_v122.root, new-ID> TkEleEL EGq2 None\n",
      "<Sample ../plots1/histos_nugun_alleta_pu200_rate_v122.root, new-ID> TkEleEL EGq2EtaD None\n",
      "<Sample ../plots1/histos_nugun_alleta_pu200_rate_v122.root, new-ID> TkEleEL EGq2EtaDE None\n",
      "<Sample ../plots1/histos_nugun_alleta_pu200_rate_v122.root, new-ID> TkEleEL EGq2EtaBC None\n",
      "<Sample ../plots1/histos_nugun_alleta_pu200_rate_v122.root, new-ID> TkEleEL EGq2EtaBCD None\n",
      "<Sample ../plots1/histos_nugun_alleta_pu200_rate_v122.root, new-ID> TkEleEL EGq2EtaBCDE None\n",
      "<Sample ../plots1/histos_nugun_alleta_pu200_rate_v122.root, new-ID> TkEleEL EGq2Iso0p2 None\n",
      "<Sample ../plots1/histos_nugun_alleta_pu200_rate_v122.root, new-ID> TkEleEL EGq2Iso0p2EtaD None\n",
      "<Sample ../plots1/histos_nugun_alleta_pu200_rate_v122.root, new-ID> TkEleEL EGq2Iso0p2EtaDE None\n",
      "<Sample ../plots1/histos_nugun_alleta_pu200_rate_v122.root, new-ID> TkEleEL EGq2Iso0p2EtaBC None\n",
      "<Sample ../plots1/histos_nugun_alleta_pu200_rate_v122.root, new-ID> TkEleEL EGq2Iso0p2EtaBCD None\n",
      "<Sample ../plots1/histos_nugun_alleta_pu200_rate_v122.root, new-ID> TkEleEL EGq2Iso0p2EtaBCDE None\n",
      "<Sample ../plots1/histos_nugun_alleta_pu200_rate_v122.root, new-ID> TkEleEL EGq2Iso0p1 None\n",
      "<Sample ../plots1/histos_nugun_alleta_pu200_rate_v122.root, new-ID> TkEleEL EGq2Iso0p1EtaD None\n",
      "<Sample ../plots1/histos_nugun_alleta_pu200_rate_v122.root, new-ID> TkEleEL EGq2Iso0p1EtaDE None\n",
      "<Sample ../plots1/histos_nugun_alleta_pu200_rate_v122.root, new-ID> TkEleEL EGq2Iso0p1EtaBC None\n",
      "<Sample ../plots1/histos_nugun_alleta_pu200_rate_v122.root, new-ID> TkEleEL EGq2Iso0p1EtaBCD None\n",
      "<Sample ../plots1/histos_nugun_alleta_pu200_rate_v122.root, new-ID> TkEleEL EGq2Iso0p1EtaBCDE None\n",
      "<Sample ../plots1/histos_nugun_alleta_pu200_rate_v122.root, new-ID> TkEleEL EGq2Iso0p3 None\n",
      "<Sample ../plots1/histos_nugun_alleta_pu200_rate_v122.root, new-ID> TkEleEL EGq2Iso0p3EtaD None\n",
      "<Sample ../plots1/histos_nugun_alleta_pu200_rate_v122.root, new-ID> TkEleEL EGq2Iso0p3EtaDE None\n",
      "<Sample ../plots1/histos_nugun_alleta_pu200_rate_v122.root, new-ID> TkEleEL EGq2Iso0p3EtaBC None\n",
      "<Sample ../plots1/histos_nugun_alleta_pu200_rate_v122.root, new-ID> TkEleEL EGq2Iso0p3EtaBCD None\n",
      "<Sample ../plots1/histos_nugun_alleta_pu200_rate_v122.root, new-ID> TkEleEL EGq2Iso0p3EtaBCDE None\n",
      "<Sample ../plots1/histos_nugun_alleta_pu200_rate_v122.root, new-ID> TkEleEL EGq3 None\n",
      "<Sample ../plots1/histos_nugun_alleta_pu200_rate_v122.root, new-ID> TkEleEL EGq3EtaD None\n",
      "<Sample ../plots1/histos_nugun_alleta_pu200_rate_v122.root, new-ID> TkEleEL EGq3EtaDE None\n",
      "<Sample ../plots1/histos_nugun_alleta_pu200_rate_v122.root, new-ID> TkEleEL EGq3EtaBC None\n",
      "<Sample ../plots1/histos_nugun_alleta_pu200_rate_v122.root, new-ID> TkEleEL EGq3EtaBCD None\n",
      "<Sample ../plots1/histos_nugun_alleta_pu200_rate_v122.root, new-ID> TkEleEL EGq3EtaBCDE None\n",
      "<Sample ../plots1/histos_nugun_alleta_pu200_rate_v122.root, new-ID> TkEleEL EGq3Iso0p2 None\n",
      "<Sample ../plots1/histos_nugun_alleta_pu200_rate_v122.root, new-ID> TkEleEL EGq3Iso0p2EtaD None\n",
      "<Sample ../plots1/histos_nugun_alleta_pu200_rate_v122.root, new-ID> TkEleEL EGq3Iso0p2EtaDE None\n",
      "<Sample ../plots1/histos_nugun_alleta_pu200_rate_v122.root, new-ID> TkEleEL EGq3Iso0p2EtaBC None\n",
      "<Sample ../plots1/histos_nugun_alleta_pu200_rate_v122.root, new-ID> TkEleEL EGq3Iso0p2EtaBCD None\n",
      "<Sample ../plots1/histos_nugun_alleta_pu200_rate_v122.root, new-ID> TkEleEL EGq3Iso0p2EtaBCDE None\n",
      "<Sample ../plots1/histos_nugun_alleta_pu200_rate_v122.root, new-ID> TkEleEL EGq3Iso0p1 None\n",
      "<Sample ../plots1/histos_nugun_alleta_pu200_rate_v122.root, new-ID> TkEleEL EGq3Iso0p1EtaD None\n",
      "<Sample ../plots1/histos_nugun_alleta_pu200_rate_v122.root, new-ID> TkEleEL EGq3Iso0p1EtaDE None\n",
      "<Sample ../plots1/histos_nugun_alleta_pu200_rate_v122.root, new-ID> TkEleEL EGq3Iso0p1EtaBC None\n",
      "<Sample ../plots1/histos_nugun_alleta_pu200_rate_v122.root, new-ID> TkEleEL EGq3Iso0p1EtaBCD None\n",
      "<Sample ../plots1/histos_nugun_alleta_pu200_rate_v122.root, new-ID> TkEleEL EGq3Iso0p1EtaBCDE None\n",
      "<Sample ../plots1/histos_nugun_alleta_pu200_rate_v122.root, new-ID> TkEleEL EGq3Iso0p3 None\n",
      "<Sample ../plots1/histos_nugun_alleta_pu200_rate_v122.root, new-ID> TkEleEL EGq3Iso0p3EtaD None\n",
      "<Sample ../plots1/histos_nugun_alleta_pu200_rate_v122.root, new-ID> TkEleEL EGq3Iso0p3EtaDE None\n",
      "<Sample ../plots1/histos_nugun_alleta_pu200_rate_v122.root, new-ID> TkEleEL EGq3Iso0p3EtaBC None\n",
      "<Sample ../plots1/histos_nugun_alleta_pu200_rate_v122.root, new-ID> TkEleEL EGq3Iso0p3EtaBCD None\n",
      "<Sample ../plots1/histos_nugun_alleta_pu200_rate_v122.root, new-ID> TkEleEL EGq3Iso0p3EtaBCDE None\n",
      "<Sample ../plots1/histos_nugun_alleta_pu200_rate_v122.root, new-ID> TkEleEL EGq4 None\n",
      "<Sample ../plots1/histos_nugun_alleta_pu200_rate_v122.root, new-ID> TkEleEL EGq4EtaD None\n",
      "<Sample ../plots1/histos_nugun_alleta_pu200_rate_v122.root, new-ID> TkEleEL EGq4EtaDE None\n",
      "<Sample ../plots1/histos_nugun_alleta_pu200_rate_v122.root, new-ID> TkEleEL EGq4EtaBC None\n"
     ]
    },
    {
     "name": "stdout",
     "output_type": "stream",
     "text": [
      "<Sample ../plots1/histos_nugun_alleta_pu200_rate_v122.root, new-ID> TkEleEL EGq4EtaBCD None\n",
      "<Sample ../plots1/histos_nugun_alleta_pu200_rate_v122.root, new-ID> TkEleEL EGq4EtaBCDE None\n",
      "<Sample ../plots1/histos_nugun_alleta_pu200_rate_v122.root, new-ID> TkEleEL EGq4Iso0p2 None\n",
      "<Sample ../plots1/histos_nugun_alleta_pu200_rate_v122.root, new-ID> TkEleEL EGq4Iso0p2EtaD None\n",
      "<Sample ../plots1/histos_nugun_alleta_pu200_rate_v122.root, new-ID> TkEleEL EGq4Iso0p2EtaDE None\n",
      "<Sample ../plots1/histos_nugun_alleta_pu200_rate_v122.root, new-ID> TkEleEL EGq4Iso0p2EtaBC None\n",
      "<Sample ../plots1/histos_nugun_alleta_pu200_rate_v122.root, new-ID> TkEleEL EGq4Iso0p2EtaBCD None\n",
      "<Sample ../plots1/histos_nugun_alleta_pu200_rate_v122.root, new-ID> TkEleEL EGq4Iso0p2EtaBCDE None\n",
      "<Sample ../plots1/histos_nugun_alleta_pu200_rate_v122.root, new-ID> TkEleEL EGq4Iso0p1 None\n",
      "<Sample ../plots1/histos_nugun_alleta_pu200_rate_v122.root, new-ID> TkEleEL EGq4Iso0p1EtaD None\n",
      "<Sample ../plots1/histos_nugun_alleta_pu200_rate_v122.root, new-ID> TkEleEL EGq4Iso0p1EtaDE None\n",
      "<Sample ../plots1/histos_nugun_alleta_pu200_rate_v122.root, new-ID> TkEleEL EGq4Iso0p1EtaBC None\n",
      "<Sample ../plots1/histos_nugun_alleta_pu200_rate_v122.root, new-ID> TkEleEL EGq4Iso0p1EtaBCD None\n",
      "<Sample ../plots1/histos_nugun_alleta_pu200_rate_v122.root, new-ID> TkEleEL EGq4Iso0p1EtaBCDE None\n",
      "<Sample ../plots1/histos_nugun_alleta_pu200_rate_v122.root, new-ID> TkEleEL EGq4Iso0p3 None\n",
      "<Sample ../plots1/histos_nugun_alleta_pu200_rate_v122.root, new-ID> TkEleEL EGq4Iso0p3EtaD None\n",
      "<Sample ../plots1/histos_nugun_alleta_pu200_rate_v122.root, new-ID> TkEleEL EGq4Iso0p3EtaDE None\n",
      "<Sample ../plots1/histos_nugun_alleta_pu200_rate_v122.root, new-ID> TkEleEL EGq4Iso0p3EtaBC None\n",
      "<Sample ../plots1/histos_nugun_alleta_pu200_rate_v122.root, new-ID> TkEleEL EGq4Iso0p3EtaBCD None\n",
      "<Sample ../plots1/histos_nugun_alleta_pu200_rate_v122.root, new-ID> TkEleEL EGq4Iso0p3EtaBCDE None\n",
      "<Sample ../plots1/histos_nugun_alleta_pu200_rate_v122.root, new-ID> TkEleEL EGq5 None\n",
      "<Sample ../plots1/histos_nugun_alleta_pu200_rate_v122.root, new-ID> TkEleEL EGq5EtaD None\n",
      "<Sample ../plots1/histos_nugun_alleta_pu200_rate_v122.root, new-ID> TkEleEL EGq5EtaDE None\n",
      "<Sample ../plots1/histos_nugun_alleta_pu200_rate_v122.root, new-ID> TkEleEL EGq5EtaBC None\n",
      "<Sample ../plots1/histos_nugun_alleta_pu200_rate_v122.root, new-ID> TkEleEL EGq5EtaBCD None\n",
      "<Sample ../plots1/histos_nugun_alleta_pu200_rate_v122.root, new-ID> TkEleEL EGq5EtaBCDE None\n",
      "<Sample ../plots1/histos_nugun_alleta_pu200_rate_v122.root, new-ID> TkEleEL EGq5Iso0p2 None\n",
      "<Sample ../plots1/histos_nugun_alleta_pu200_rate_v122.root, new-ID> TkEleEL EGq5Iso0p2EtaD None\n",
      "<Sample ../plots1/histos_nugun_alleta_pu200_rate_v122.root, new-ID> TkEleEL EGq5Iso0p2EtaDE None\n",
      "<Sample ../plots1/histos_nugun_alleta_pu200_rate_v122.root, new-ID> TkEleEL EGq5Iso0p2EtaBC None\n",
      "<Sample ../plots1/histos_nugun_alleta_pu200_rate_v122.root, new-ID> TkEleEL EGq5Iso0p2EtaBCD None\n",
      "<Sample ../plots1/histos_nugun_alleta_pu200_rate_v122.root, new-ID> TkEleEL EGq5Iso0p2EtaBCDE None\n",
      "<Sample ../plots1/histos_nugun_alleta_pu200_rate_v122.root, new-ID> TkEleEL EGq5Iso0p1 None\n",
      "<Sample ../plots1/histos_nugun_alleta_pu200_rate_v122.root, new-ID> TkEleEL EGq5Iso0p1EtaD None\n",
      "<Sample ../plots1/histos_nugun_alleta_pu200_rate_v122.root, new-ID> TkEleEL EGq5Iso0p1EtaDE None\n",
      "<Sample ../plots1/histos_nugun_alleta_pu200_rate_v122.root, new-ID> TkEleEL EGq5Iso0p1EtaBC None\n",
      "<Sample ../plots1/histos_nugun_alleta_pu200_rate_v122.root, new-ID> TkEleEL EGq5Iso0p1EtaBCD None\n",
      "<Sample ../plots1/histos_nugun_alleta_pu200_rate_v122.root, new-ID> TkEleEL EGq5Iso0p1EtaBCDE None\n",
      "<Sample ../plots1/histos_nugun_alleta_pu200_rate_v122.root, new-ID> TkEleEL EGq5Iso0p3 None\n",
      "<Sample ../plots1/histos_nugun_alleta_pu200_rate_v122.root, new-ID> TkEleEL EGq5Iso0p3EtaD None\n",
      "<Sample ../plots1/histos_nugun_alleta_pu200_rate_v122.root, new-ID> TkEleEL EGq5Iso0p3EtaDE None\n",
      "<Sample ../plots1/histos_nugun_alleta_pu200_rate_v122.root, new-ID> TkEleEL EGq5Iso0p3EtaBC None\n",
      "<Sample ../plots1/histos_nugun_alleta_pu200_rate_v122.root, new-ID> TkEleEL EGq5Iso0p3EtaBCD None\n",
      "<Sample ../plots1/histos_nugun_alleta_pu200_rate_v122.root, new-ID> TkEleEL EGq5Iso0p3EtaBCDE None\n",
      "TkEleELBRL\n",
      "['all' 'LooseTkID' 'Iso0p1' 'EtaF' 'EtaFLooseTkID' 'EtaFIso0p1']\n",
      "[<Sample ../plots1/histos_nugun_alleta_pu200_rate_v108.root, hybrid>, <Sample ../plots1/histos_nugun_alleta_pu200_rate_v122.root, new-ID>]\n",
      "<Sample ../plots1/histos_nugun_alleta_pu200_rate_v108.root, hybrid>\n",
      "<Sample ../plots1/histos_nugun_alleta_pu200_rate_v108.root, hybrid> TkEleELBRL all None\n",
      "<Sample ../plots1/histos_nugun_alleta_pu200_rate_v108.root, hybrid> TkEleELBRL LooseTkID None\n",
      "<Sample ../plots1/histos_nugun_alleta_pu200_rate_v108.root, hybrid> TkEleELBRL Iso0p1 None\n",
      "<Sample ../plots1/histos_nugun_alleta_pu200_rate_v108.root, hybrid> TkEleELBRL EtaF None\n",
      "<Sample ../plots1/histos_nugun_alleta_pu200_rate_v108.root, hybrid> TkEleELBRL EtaFLooseTkID None\n",
      "<Sample ../plots1/histos_nugun_alleta_pu200_rate_v108.root, hybrid> TkEleELBRL EtaFIso0p1 None\n",
      "<Sample ../plots1/histos_nugun_alleta_pu200_rate_v122.root, new-ID>\n",
      "<Sample ../plots1/histos_nugun_alleta_pu200_rate_v122.root, new-ID> TkEleELBRL all None\n",
      "<Sample ../plots1/histos_nugun_alleta_pu200_rate_v122.root, new-ID> TkEleELBRL LooseTkID None\n",
      "<Sample ../plots1/histos_nugun_alleta_pu200_rate_v122.root, new-ID> TkEleELBRL Iso0p1 None\n",
      "<Sample ../plots1/histos_nugun_alleta_pu200_rate_v122.root, new-ID> TkEleELBRL EtaF None\n",
      "<Sample ../plots1/histos_nugun_alleta_pu200_rate_v122.root, new-ID> TkEleELBRL EtaFLooseTkID None\n",
      "<Sample ../plots1/histos_nugun_alleta_pu200_rate_v122.root, new-ID> TkEleELBRL EtaFIso0p1 None\n",
      "TkEleELALL\n",
      "['all' 'EtaF' 'EtaA' 'EtaBC' 'LooseTkID' 'Iso0p1' 'EtaFLooseTkID'\n",
      " 'EtaFIso0p1']\n",
      "[<Sample ../plots1/histos_nugun_alleta_pu200_rate_v108.root, hybrid>, <Sample ../plots1/histos_nugun_alleta_pu200_rate_v122.root, new-ID>]\n",
      "<Sample ../plots1/histos_nugun_alleta_pu200_rate_v108.root, hybrid>\n",
      "<Sample ../plots1/histos_nugun_alleta_pu200_rate_v108.root, hybrid> TkEleELALL all None\n",
      "<Sample ../plots1/histos_nugun_alleta_pu200_rate_v108.root, hybrid> TkEleELALL EtaF None\n",
      "<Sample ../plots1/histos_nugun_alleta_pu200_rate_v108.root, hybrid> TkEleELALL EtaA None\n",
      "<Sample ../plots1/histos_nugun_alleta_pu200_rate_v108.root, hybrid> TkEleELALL EtaBC None\n",
      "<Sample ../plots1/histos_nugun_alleta_pu200_rate_v108.root, hybrid> TkEleELALL LooseTkID None\n",
      "<Sample ../plots1/histos_nugun_alleta_pu200_rate_v108.root, hybrid> TkEleELALL Iso0p1 None\n",
      "<Sample ../plots1/histos_nugun_alleta_pu200_rate_v108.root, hybrid> TkEleELALL EtaFLooseTkID None\n",
      "<Sample ../plots1/histos_nugun_alleta_pu200_rate_v108.root, hybrid> TkEleELALL EtaFIso0p1 None\n",
      "<Sample ../plots1/histos_nugun_alleta_pu200_rate_v122.root, new-ID>\n",
      "<Sample ../plots1/histos_nugun_alleta_pu200_rate_v122.root, new-ID> TkEleELALL all None\n",
      "<Sample ../plots1/histos_nugun_alleta_pu200_rate_v122.root, new-ID> TkEleELALL EtaF None\n",
      "<Sample ../plots1/histos_nugun_alleta_pu200_rate_v122.root, new-ID> TkEleELALL EtaA None\n",
      "<Sample ../plots1/histos_nugun_alleta_pu200_rate_v122.root, new-ID> TkEleELALL EtaBC None\n",
      "<Sample ../plots1/histos_nugun_alleta_pu200_rate_v122.root, new-ID> TkEleELALL LooseTkID None\n",
      "<Sample ../plots1/histos_nugun_alleta_pu200_rate_v122.root, new-ID> TkEleELALL Iso0p1 None\n",
      "<Sample ../plots1/histos_nugun_alleta_pu200_rate_v122.root, new-ID> TkEleELALL EtaFLooseTkID None\n",
      "<Sample ../plots1/histos_nugun_alleta_pu200_rate_v122.root, new-ID> TkEleELALL EtaFIso0p1 None\n",
      "CPU times: user 2.17 s, sys: 251 ms, total: 2.42 s\n",
      "Wall time: 3.22 s\n"
     ]
    }
   ],
   "source": [
    "%%time\n",
    "hplot = HPlot(samples, tp_labels, tp_selection_labels, [])\n",
    "\n",
    "for tp in tps:\n",
    "    print tp\n",
    "    print histo_primitives[histo_primitives.data == tp].data_sel.unique()\n",
    "    print samples\n",
    "    hplot.cache_histo(classtype=histos.RateHistos, \n",
    "                      samples=samples,\n",
    "                      pus=[],\n",
    "                      tps=[tp],\n",
    "                      tp_sels=histo_primitives[histo_primitives.data == tp].data_sel.unique(),\n",
    "                      gen_sels=None)\n"
   ]
  },
  {
   "cell_type": "code",
   "execution_count": 32,
   "metadata": {},
   "outputs": [
    {
     "data": {
      "text/plain": [
       "array(['new-ID'], dtype=object)"
      ]
     },
     "execution_count": 32,
     "metadata": {},
     "output_type": "execute_result"
    }
   ],
   "source": [
    "hplot.data['sample'].unique()"
   ]
  },
  {
   "cell_type": "code",
   "execution_count": 75,
   "metadata": {},
   "outputs": [
    {
     "data": {
      "text/html": [
       "<div>\n",
       "<style scoped>\n",
       "    .dataframe tbody tr th:only-of-type {\n",
       "        vertical-align: middle;\n",
       "    }\n",
       "\n",
       "    .dataframe tbody tr th {\n",
       "        vertical-align: top;\n",
       "    }\n",
       "\n",
       "    .dataframe thead th {\n",
       "        text-align: right;\n",
       "    }\n",
       "</style>\n",
       "<table border=\"1\" class=\"dataframe\">\n",
       "  <thead>\n",
       "    <tr style=\"text-align: right;\">\n",
       "      <th></th>\n",
       "      <th>sample</th>\n",
       "      <th>pu</th>\n",
       "      <th>tp</th>\n",
       "      <th>tp_sel</th>\n",
       "      <th>gen_sel</th>\n",
       "      <th>classtype</th>\n",
       "      <th>histo</th>\n",
       "    </tr>\n",
       "  </thead>\n",
       "  <tbody>\n",
       "    <tr>\n",
       "      <th>0</th>\n",
       "      <td>new-ID</td>\n",
       "      <td>PU200</td>\n",
       "      <td>TkEleEL</td>\n",
       "      <td>EGq4EtaBC</td>\n",
       "      <td>None</td>\n",
       "      <td>python.l1THistos.RateHistos</td>\n",
       "      <td>&lt;__main__.HProxy instance at 0x11cbeb7a0&gt;</td>\n",
       "    </tr>\n",
       "    <tr>\n",
       "      <th>1</th>\n",
       "      <td>new-ID</td>\n",
       "      <td>PU200</td>\n",
       "      <td>TkEleELBRL</td>\n",
       "      <td>EtaFIso0p1</td>\n",
       "      <td>None</td>\n",
       "      <td>python.l1THistos.RateHistos</td>\n",
       "      <td>&lt;__main__.HProxy instance at 0x11cbe97e8&gt;</td>\n",
       "    </tr>\n",
       "    <tr>\n",
       "      <th>2</th>\n",
       "      <td>new-ID</td>\n",
       "      <td>PU200</td>\n",
       "      <td>TkEleEL</td>\n",
       "      <td>EGq4Iso0p2EtaD</td>\n",
       "      <td>None</td>\n",
       "      <td>python.l1THistos.RateHistos</td>\n",
       "      <td>&lt;__main__.HProxy instance at 0x11cbeaa70&gt;</td>\n",
       "    </tr>\n",
       "    <tr>\n",
       "      <th>3</th>\n",
       "      <td>new-ID</td>\n",
       "      <td>PU200</td>\n",
       "      <td>TkEleEL</td>\n",
       "      <td>EGq2EtaDE</td>\n",
       "      <td>None</td>\n",
       "      <td>python.l1THistos.RateHistos</td>\n",
       "      <td>&lt;__main__.HProxy instance at 0x1195e5f80&gt;</td>\n",
       "    </tr>\n",
       "    <tr>\n",
       "      <th>4</th>\n",
       "      <td>new-ID</td>\n",
       "      <td>PU200</td>\n",
       "      <td>TkEleEL</td>\n",
       "      <td>EGq4Iso0p2EtaBC</td>\n",
       "      <td>None</td>\n",
       "      <td>python.l1THistos.RateHistos</td>\n",
       "      <td>&lt;__main__.HProxy instance at 0x10dcf4d40&gt;</td>\n",
       "    </tr>\n",
       "    <tr>\n",
       "      <th>5</th>\n",
       "      <td>new-ID</td>\n",
       "      <td>PU200</td>\n",
       "      <td>TkEleELBRL</td>\n",
       "      <td>all</td>\n",
       "      <td>None</td>\n",
       "      <td>python.l1THistos.RateHistos</td>\n",
       "      <td>&lt;__main__.HProxy instance at 0x11cbebf38&gt;</td>\n",
       "    </tr>\n",
       "    <tr>\n",
       "      <th>6</th>\n",
       "      <td>new-ID</td>\n",
       "      <td>PU200</td>\n",
       "      <td>TkEleEL</td>\n",
       "      <td>EGq3EtaDE</td>\n",
       "      <td>None</td>\n",
       "      <td>python.l1THistos.RateHistos</td>\n",
       "      <td>&lt;__main__.HProxy instance at 0x10dd04c20&gt;</td>\n",
       "    </tr>\n",
       "    <tr>\n",
       "      <th>7</th>\n",
       "      <td>new-ID</td>\n",
       "      <td>PU200</td>\n",
       "      <td>TkEleELBRL</td>\n",
       "      <td>LooseTkID</td>\n",
       "      <td>None</td>\n",
       "      <td>python.l1THistos.RateHistos</td>\n",
       "      <td>&lt;__main__.HProxy instance at 0x11cbec1b8&gt;</td>\n",
       "    </tr>\n",
       "    <tr>\n",
       "      <th>8</th>\n",
       "      <td>new-ID</td>\n",
       "      <td>PU200</td>\n",
       "      <td>TkEleEL</td>\n",
       "      <td>EGq3EtaBCDE</td>\n",
       "      <td>None</td>\n",
       "      <td>python.l1THistos.RateHistos</td>\n",
       "      <td>&lt;__main__.HProxy instance at 0x11cbecc20&gt;</td>\n",
       "    </tr>\n",
       "    <tr>\n",
       "      <th>9</th>\n",
       "      <td>new-ID</td>\n",
       "      <td>PU200</td>\n",
       "      <td>EGBRL</td>\n",
       "      <td>EtaF</td>\n",
       "      <td>None</td>\n",
       "      <td>python.l1THistos.RateHistos</td>\n",
       "      <td>&lt;__main__.HProxy instance at 0x10cf933b0&gt;</td>\n",
       "    </tr>\n",
       "  </tbody>\n",
       "</table>\n",
       "</div>"
      ],
      "text/plain": [
       "   sample     pu          tp           tp_sel gen_sel  \\\n",
       "0  new-ID  PU200     TkEleEL        EGq4EtaBC    None   \n",
       "1  new-ID  PU200  TkEleELBRL       EtaFIso0p1    None   \n",
       "2  new-ID  PU200     TkEleEL   EGq4Iso0p2EtaD    None   \n",
       "3  new-ID  PU200     TkEleEL        EGq2EtaDE    None   \n",
       "4  new-ID  PU200     TkEleEL  EGq4Iso0p2EtaBC    None   \n",
       "5  new-ID  PU200  TkEleELBRL              all    None   \n",
       "6  new-ID  PU200     TkEleEL        EGq3EtaDE    None   \n",
       "7  new-ID  PU200  TkEleELBRL        LooseTkID    None   \n",
       "8  new-ID  PU200     TkEleEL      EGq3EtaBCDE    None   \n",
       "9  new-ID  PU200       EGBRL             EtaF    None   \n",
       "\n",
       "                     classtype                                      histo  \n",
       "0  python.l1THistos.RateHistos  <__main__.HProxy instance at 0x11cbeb7a0>  \n",
       "1  python.l1THistos.RateHistos  <__main__.HProxy instance at 0x11cbe97e8>  \n",
       "2  python.l1THistos.RateHistos  <__main__.HProxy instance at 0x11cbeaa70>  \n",
       "3  python.l1THistos.RateHistos  <__main__.HProxy instance at 0x1195e5f80>  \n",
       "4  python.l1THistos.RateHistos  <__main__.HProxy instance at 0x10dcf4d40>  \n",
       "5  python.l1THistos.RateHistos  <__main__.HProxy instance at 0x11cbebf38>  \n",
       "6  python.l1THistos.RateHistos  <__main__.HProxy instance at 0x10dd04c20>  \n",
       "7  python.l1THistos.RateHistos  <__main__.HProxy instance at 0x11cbec1b8>  \n",
       "8  python.l1THistos.RateHistos  <__main__.HProxy instance at 0x11cbecc20>  \n",
       "9  python.l1THistos.RateHistos  <__main__.HProxy instance at 0x10cf933b0>  "
      ]
     },
     "execution_count": 75,
     "metadata": {},
     "output_type": "execute_result"
    }
   ],
   "source": [
    "hplot.data[:10]"
   ]
  },
  {
   "cell_type": "markdown",
   "metadata": {},
   "source": [
    "#### 3D clusters matched to GEN"
   ]
  },
  {
   "cell_type": "code",
   "execution_count": 76,
   "metadata": {},
   "outputs": [],
   "source": [
    "# version_V9 = 'v113'\n",
    "scaling_params =  pd.read_csv(r'scaling_params_{}.csv'.format(version_v9))"
   ]
  },
  {
   "cell_type": "code",
   "execution_count": 77,
   "metadata": {},
   "outputs": [
    {
     "data": {
      "text/html": [
       "<div>\n",
       "<style scoped>\n",
       "    .dataframe tbody tr th:only-of-type {\n",
       "        vertical-align: middle;\n",
       "    }\n",
       "\n",
       "    .dataframe tbody tr th {\n",
       "        vertical-align: top;\n",
       "    }\n",
       "\n",
       "    .dataframe thead th {\n",
       "        text-align: right;\n",
       "    }\n",
       "</style>\n",
       "<table border=\"1\" class=\"dataframe\">\n",
       "  <thead>\n",
       "    <tr style=\"text-align: right;\">\n",
       "      <th></th>\n",
       "      <th>Unnamed: 0</th>\n",
       "      <th>tp</th>\n",
       "      <th>tp_sel</th>\n",
       "      <th>params</th>\n",
       "      <th>pu</th>\n",
       "    </tr>\n",
       "  </thead>\n",
       "  <tbody>\n",
       "    <tr>\n",
       "      <th>0</th>\n",
       "      <td>0</td>\n",
       "      <td>EG</td>\n",
       "      <td>EGq5EtaBC</td>\n",
       "      <td>(5.795971470752347, 1.1107818293529574)</td>\n",
       "      <td>PU0</td>\n",
       "    </tr>\n",
       "    <tr>\n",
       "      <th>1</th>\n",
       "      <td>1</td>\n",
       "      <td>TkEleEL</td>\n",
       "      <td>EGq5EtaBC</td>\n",
       "      <td>(5.020946648772676, 1.1318219292495295)</td>\n",
       "      <td>PU0</td>\n",
       "    </tr>\n",
       "    <tr>\n",
       "      <th>2</th>\n",
       "      <td>2</td>\n",
       "      <td>EG</td>\n",
       "      <td>EGq5EtaBC</td>\n",
       "      <td>(7.980993336197056, 1.0360841147270883)</td>\n",
       "      <td>PU200</td>\n",
       "    </tr>\n",
       "    <tr>\n",
       "      <th>3</th>\n",
       "      <td>3</td>\n",
       "      <td>TkEleEL</td>\n",
       "      <td>EGq5EtaBC</td>\n",
       "      <td>(5.390144476979888, 1.1158208031274417)</td>\n",
       "      <td>PU200</td>\n",
       "    </tr>\n",
       "  </tbody>\n",
       "</table>\n",
       "</div>"
      ],
      "text/plain": [
       "   Unnamed: 0       tp     tp_sel                                   params  \\\n",
       "0           0       EG  EGq5EtaBC  (5.795971470752347, 1.1107818293529574)   \n",
       "1           1  TkEleEL  EGq5EtaBC  (5.020946648772676, 1.1318219292495295)   \n",
       "2           2       EG  EGq5EtaBC  (7.980993336197056, 1.0360841147270883)   \n",
       "3           3  TkEleEL  EGq5EtaBC  (5.390144476979888, 1.1158208031274417)   \n",
       "\n",
       "      pu  \n",
       "0    PU0  \n",
       "1    PU0  \n",
       "2  PU200  \n",
       "3  PU200  "
      ]
     },
     "execution_count": 77,
     "metadata": {},
     "output_type": "execute_result"
    }
   ],
   "source": [
    "scaling_params"
   ]
  },
  {
   "cell_type": "code",
   "execution_count": 78,
   "metadata": {},
   "outputs": [
    {
     "ename": "IndexError",
     "evalue": "single positional indexer is out-of-bounds",
     "output_type": "error",
     "traceback": [
      "\u001b[0;31m\u001b[0m",
      "\u001b[0;31mIndexError\u001b[0mTraceback (most recent call last)",
      "\u001b[0;32m<ipython-input-78-c0b2a2f353cf>\u001b[0m in \u001b[0;36m<module>\u001b[0;34m()\u001b[0m\n\u001b[0;32m----> 1\u001b[0;31m \u001b[0meval\u001b[0m\u001b[0;34m(\u001b[0m\u001b[0mscaling_params\u001b[0m\u001b[0;34m[\u001b[0m\u001b[0;34m(\u001b[0m\u001b[0mscaling_params\u001b[0m\u001b[0;34m.\u001b[0m\u001b[0mpu\u001b[0m \u001b[0;34m==\u001b[0m \u001b[0;34m'PU200'\u001b[0m\u001b[0;34m)\u001b[0m \u001b[0;34m&\u001b[0m \u001b[0;34m(\u001b[0m\u001b[0mscaling_params\u001b[0m\u001b[0;34m.\u001b[0m\u001b[0mtp\u001b[0m \u001b[0;34m==\u001b[0m \u001b[0;34m'EG'\u001b[0m\u001b[0;34m)\u001b[0m \u001b[0;34m&\u001b[0m \u001b[0;34m(\u001b[0m\u001b[0mscaling_params\u001b[0m\u001b[0;34m.\u001b[0m\u001b[0mtp_sel\u001b[0m \u001b[0;34m==\u001b[0m \u001b[0;34m'EGq3EtaBC'\u001b[0m\u001b[0;34m)\u001b[0m\u001b[0;34m]\u001b[0m\u001b[0;34m.\u001b[0m\u001b[0mparams\u001b[0m\u001b[0;34m.\u001b[0m\u001b[0miloc\u001b[0m\u001b[0;34m[\u001b[0m\u001b[0;36m0\u001b[0m\u001b[0;34m]\u001b[0m\u001b[0;34m)\u001b[0m\u001b[0;34m\u001b[0m\u001b[0m\n\u001b[0m",
      "\u001b[0;32m/Users/cerminar/.virtualenvs/HGCTPGPerformance/lib/python2.7/site-packages/pandas/core/indexing.pyc\u001b[0m in \u001b[0;36m__getitem__\u001b[0;34m(self, key)\u001b[0m\n\u001b[1;32m   1498\u001b[0m \u001b[0;34m\u001b[0m\u001b[0m\n\u001b[1;32m   1499\u001b[0m             \u001b[0mmaybe_callable\u001b[0m \u001b[0;34m=\u001b[0m \u001b[0mcom\u001b[0m\u001b[0;34m.\u001b[0m\u001b[0mapply_if_callable\u001b[0m\u001b[0;34m(\u001b[0m\u001b[0mkey\u001b[0m\u001b[0;34m,\u001b[0m \u001b[0mself\u001b[0m\u001b[0;34m.\u001b[0m\u001b[0mobj\u001b[0m\u001b[0;34m)\u001b[0m\u001b[0;34m\u001b[0m\u001b[0m\n\u001b[0;32m-> 1500\u001b[0;31m             \u001b[0;32mreturn\u001b[0m \u001b[0mself\u001b[0m\u001b[0;34m.\u001b[0m\u001b[0m_getitem_axis\u001b[0m\u001b[0;34m(\u001b[0m\u001b[0mmaybe_callable\u001b[0m\u001b[0;34m,\u001b[0m \u001b[0maxis\u001b[0m\u001b[0;34m=\u001b[0m\u001b[0maxis\u001b[0m\u001b[0;34m)\u001b[0m\u001b[0;34m\u001b[0m\u001b[0m\n\u001b[0m\u001b[1;32m   1501\u001b[0m \u001b[0;34m\u001b[0m\u001b[0m\n\u001b[1;32m   1502\u001b[0m     \u001b[0;32mdef\u001b[0m \u001b[0m_is_scalar_access\u001b[0m\u001b[0;34m(\u001b[0m\u001b[0mself\u001b[0m\u001b[0;34m,\u001b[0m \u001b[0mkey\u001b[0m\u001b[0;34m)\u001b[0m\u001b[0;34m:\u001b[0m\u001b[0;34m\u001b[0m\u001b[0m\n",
      "\u001b[0;32m/Users/cerminar/.virtualenvs/HGCTPGPerformance/lib/python2.7/site-packages/pandas/core/indexing.pyc\u001b[0m in \u001b[0;36m_getitem_axis\u001b[0;34m(self, key, axis)\u001b[0m\n\u001b[1;32m   2228\u001b[0m \u001b[0;34m\u001b[0m\u001b[0m\n\u001b[1;32m   2229\u001b[0m             \u001b[0;31m# validate the location\u001b[0m\u001b[0;34m\u001b[0m\u001b[0;34m\u001b[0m\u001b[0m\n\u001b[0;32m-> 2230\u001b[0;31m             \u001b[0mself\u001b[0m\u001b[0;34m.\u001b[0m\u001b[0m_validate_integer\u001b[0m\u001b[0;34m(\u001b[0m\u001b[0mkey\u001b[0m\u001b[0;34m,\u001b[0m \u001b[0maxis\u001b[0m\u001b[0;34m)\u001b[0m\u001b[0;34m\u001b[0m\u001b[0m\n\u001b[0m\u001b[1;32m   2231\u001b[0m \u001b[0;34m\u001b[0m\u001b[0m\n\u001b[1;32m   2232\u001b[0m             \u001b[0;32mreturn\u001b[0m \u001b[0mself\u001b[0m\u001b[0;34m.\u001b[0m\u001b[0m_get_loc\u001b[0m\u001b[0;34m(\u001b[0m\u001b[0mkey\u001b[0m\u001b[0;34m,\u001b[0m \u001b[0maxis\u001b[0m\u001b[0;34m=\u001b[0m\u001b[0maxis\u001b[0m\u001b[0;34m)\u001b[0m\u001b[0;34m\u001b[0m\u001b[0m\n",
      "\u001b[0;32m/Users/cerminar/.virtualenvs/HGCTPGPerformance/lib/python2.7/site-packages/pandas/core/indexing.pyc\u001b[0m in \u001b[0;36m_validate_integer\u001b[0;34m(self, key, axis)\u001b[0m\n\u001b[1;32m   2137\u001b[0m         \u001b[0mlen_axis\u001b[0m \u001b[0;34m=\u001b[0m \u001b[0mlen\u001b[0m\u001b[0;34m(\u001b[0m\u001b[0mself\u001b[0m\u001b[0;34m.\u001b[0m\u001b[0mobj\u001b[0m\u001b[0;34m.\u001b[0m\u001b[0m_get_axis\u001b[0m\u001b[0;34m(\u001b[0m\u001b[0maxis\u001b[0m\u001b[0;34m)\u001b[0m\u001b[0;34m)\u001b[0m\u001b[0;34m\u001b[0m\u001b[0m\n\u001b[1;32m   2138\u001b[0m         \u001b[0;32mif\u001b[0m \u001b[0mkey\u001b[0m \u001b[0;34m>=\u001b[0m \u001b[0mlen_axis\u001b[0m \u001b[0;32mor\u001b[0m \u001b[0mkey\u001b[0m \u001b[0;34m<\u001b[0m \u001b[0;34m-\u001b[0m\u001b[0mlen_axis\u001b[0m\u001b[0;34m:\u001b[0m\u001b[0;34m\u001b[0m\u001b[0m\n\u001b[0;32m-> 2139\u001b[0;31m             \u001b[0;32mraise\u001b[0m \u001b[0mIndexError\u001b[0m\u001b[0;34m(\u001b[0m\u001b[0;34m\"single positional indexer is out-of-bounds\"\u001b[0m\u001b[0;34m)\u001b[0m\u001b[0;34m\u001b[0m\u001b[0m\n\u001b[0m\u001b[1;32m   2140\u001b[0m \u001b[0;34m\u001b[0m\u001b[0m\n\u001b[1;32m   2141\u001b[0m     \u001b[0;32mdef\u001b[0m \u001b[0m_getitem_tuple\u001b[0m\u001b[0;34m(\u001b[0m\u001b[0mself\u001b[0m\u001b[0;34m,\u001b[0m \u001b[0mtup\u001b[0m\u001b[0;34m)\u001b[0m\u001b[0;34m:\u001b[0m\u001b[0;34m\u001b[0m\u001b[0m\n",
      "\u001b[0;31mIndexError\u001b[0m: single positional indexer is out-of-bounds"
     ]
    }
   ],
   "source": [
    "eval(scaling_params[(scaling_params.pu == 'PU200') & (scaling_params.tp == 'EG') & (scaling_params.tp_sel == 'EGq3EtaBC')].params.iloc[0])"
   ]
  },
  {
   "cell_type": "code",
   "execution_count": 39,
   "metadata": {},
   "outputs": [],
   "source": [
    "def convertRateToGraph(histo_rate, params=None):\n",
    "    xaxis = histo_rate.GetXaxis()\n",
    "    fNpoints = xaxis.GetNbins()\n",
    "    fX = [0]*fNpoints\n",
    "    fEX = [0]*fNpoints\n",
    "    fY = [0]*fNpoints\n",
    "    fEY = [0]*fNpoints\n",
    "\n",
    "    graph = ROOT.TGraphAsymmErrors()\n",
    "    graph.Set(fNpoints)\n",
    "    for i in range(0, fNpoints):\n",
    "        if params is None:\n",
    "            fX[i] = xaxis.GetBinLowEdge(i + 1)\n",
    "        else:\n",
    "            fX[i] = params[0] + params[1]*xaxis.GetBinLowEdge(i + 1)\n",
    "        fY[i] = histo_rate.GetBinContent(i + 1)\n",
    "        fEX[i] = histo_rate.GetBinWidth(i + 1) * ROOT.gStyle.GetErrorX()\n",
    "        fEY[i] = histo_rate.GetBinError(i + 1)\n",
    "    return fX, fY, fEX, fEX, fEY, fEY\n"
   ]
  },
  {
   "cell_type": "code",
   "execution_count": 40,
   "metadata": {},
   "outputs": [
    {
     "name": "stdout",
     "output_type": "stream",
     "text": [
      "normalize to 31000\n"
     ]
    },
    {
     "data": {
      "text/html": [
       "\n",
       "<div id=\"root_plot_1\"\n",
       "     style=\"width: 796px; height: 572px\">\n",
       "</div>\n",
       "\n",
       "<script>\n",
       " requirejs.config({\n",
       "     paths: {\n",
       "       'JSRootCore' : 'https://root.cern.ch/js/notebook//scripts/JSRootCore',\n",
       "     }\n",
       "   });\n",
       " require(['JSRootCore'],\n",
       "     function(Core) {\n",
       "       var obj = Core.JSONR_unref({\"_typename\":\"TCanvas\",\"fUniqueID\":0,\"fBits\":53673992,\"fLineColor\":1,\"fLineStyle\":1,\"fLineWidth\":1,\"fFillColor\":0,\"fFillStyle\":1001,\"fLeftMargin\":0.13,\"fRightMargin\":0.3,\"fBottomMargin\":0.13,\"fTopMargin\":0.1,\"fXfile\":2,\"fYfile\":2,\"fAfile\":1,\"fXstat\":0.99,\"fYstat\":0.99,\"fAstat\":2,\"fFrameFillColor\":0,\"fFrameLineColor\":1,\"fFrameFillStyle\":1001,\"fFrameLineStyle\":1,\"fFrameLineWidth\":1,\"fFrameBorderSize\":1,\"fFrameBorderMode\":0,\"fX1\":-37.8684203921923,\"fY1\":-0.776971158114093,\"fX2\":172.657898039039,\"fY2\":5.19973014378258,\"fXtoAbsPixelk\":143.180545706201,\"fXtoPixelk\":143.180545706201,\"fXtoPixel\":3.7809999525547,\"fYtoAbsPixelk\":497.640051065433,\"fYtoPixelk\":497.640051065433,\"fYtoPixel\":-95.7049668549571,\"fUtoAbsPixelk\":5e-5,\"fUtoPixelk\":5e-5,\"fUtoPixel\":796,\"fVtoAbsPixelk\":572.00005,\"fVtoPixelk\":572,\"fVtoPixel\":-572,\"fAbsPixeltoXk\":-37.8684203921923,\"fPixeltoXk\":-37.8684203921923,\"fPixeltoX\":0.264480299536722,\"fAbsPixeltoYk\":5.19973014378258,\"fPixeltoYk\":-0.776971158114093,\"fPixeltoY\":-0.0104487784998194,\"fXlowNDC\":0,\"fYlowNDC\":0,\"fXUpNDC\":0,\"fYUpNDC\":0,\"fWNDC\":1,\"fHNDC\":1,\"fAbsXlowNDC\":0,\"fAbsYlowNDC\":0,\"fAbsWNDC\":1,\"fAbsHNDC\":1,\"fUxmin\":-10.5,\"fUymin\":0,\"fUxmax\":109.5,\"fUymax\":4.60205999132796,\"fTheta\":30,\"fPhi\":30,\"fAspectRatio\":0,\"fNumber\":0,\"fTickx\":0,\"fTicky\":0,\"fLogx\":0,\"fLogy\":1,\"fLogz\":0,\"fPadPaint\":0,\"fCrosshair\":0,\"fCrosshairPos\":0,\"fBorderSize\":2,\"fBorderMode\":0,\"fModified\":false,\"fGridx\":true,\"fGridy\":true,\"fAbsCoord\":false,\"fEditable\":true,\"fFixedAspectRatio\":false,\"fPrimitives\":{\"_typename\":\"TList\",\"name\":\"TList\",\"arr\":[{\"_typename\":\"TFrame\",\"fUniqueID\":0,\"fBits\":50331656,\"fLineColor\":1,\"fLineStyle\":1,\"fLineWidth\":1,\"fFillColor\":0,\"fFillStyle\":1001,\"fX1\":-10.5,\"fY1\":0,\"fX2\":109.5,\"fY2\":4.60205999132796,\"fBorderSize\":1,\"fBorderMode\":0},{\"_typename\":\"TGraphAsymmErrors\",\"fUniqueID\":0,\"fBits\":50332680,\"fName\":\"ff282a\",\"fTitle\":\";; rate [kHz]\",\"fLineColor\":1,\"fLineStyle\":1,\"fLineWidth\":1,\"fFillColor\":0,\"fFillStyle\":1001,\"fMarkerColor\":1,\"fMarkerStyle\":8,\"fMarkerSize\":0.5,\"fNpoints\":100,\"fX\":[0,1,2,3,4,5,6,7,8,9,10,11,12,13,14,15,16,17,18,19,20,21,22,23,24,25,26,27,28,29,30,31,32,33,34,35,36,37,38,39,40,41,42,43,44,45,46,47,48,49,50,51,52,53,54,55,56,57,58,59,60,61,62,63,64,65,66,67,68,69,70,71,72,73,74,75,76,77,78,79,80,81,82,83,84,85,86,87,88,89,90,91,92,93,94,95,96,97,98,99],\"fY\":[31000,31000,30999.841796875,30712.142578125,26377.361328125,17474.03515625,9884.0966796875,5313.4951171875,2891.224609375,1643.63269042969,995.9541015625,652.89794921875,443.331634521484,317.275512695312,229.653060913086,175.086730957031,137.602035522461,108.816329956055,90.3112258911133,73.7040786743164,59.4693870544434,49.0306129455566,41.1224479675293,33.8469390869141,29.1020412445068,24.5153064727783,21.5102043151855,18.3469390869141,16.923469543457,15.1836738586426,14.3928575515747,12.6530609130859,10.7551021575928,10.1224489212036,9.48979568481445,9.01530647277832,8.54081630706787,7.59183692932129,6.64285707473755,6.32653045654297,6.01020431518555,5.85204076766968,4.9030613899231,4.58673477172852,4.11224508285522,3.47959184646606,3.00510215759277,2.84693884849548,2.5306122303009,2.21428561210632,1.89795923233032,1.73979592323303,1.73979592323303,1.73979592323303,1.10714280605316,1.10714280605316,0.790816307067871,0.632653057575226,0.632653057575226,0.632653057575226,0.632653057575226,0.632653057575226,0.632653057575226,0.632653057575226,0.632653057575226,0.632653057575226,0.632653057575226,0.632653057575226,0.632653057575226,0.632653057575226,0.632653057575226,0.632653057575226,0.632653057575226,0.632653057575226,0.632653057575226,0.632653057575226,0.632653057575226,0.474489808082581,0.474489808082581,0.474489808082581,0.474489808082581,0.474489808082581,0.474489808082581,0.474489808082581,0.474489808082581,0.474489808082581,0.474489808082581,0.474489808082581,0.474489808082581,0.474489808082581,0.316326528787613,0.316326528787613,0.316326528787613,0.316326528787613,0.316326528787613,0.316326528787613,0.316326528787613,0.158163264393806,0.158163264393806,0.158163264393806],\"fFunctions\":{\"_typename\":\"TList\",\"name\":\"TList\",\"arr\":[],\"opt\":[]},\"fHistogram\":{\"_typename\":\"TH1F\",\"fUniqueID\":0,\"fBits\":50332168,\"fName\":\"ff282a\",\"fTitle\":\"\",\"fLineColor\":602,\"fLineStyle\":1,\"fLineWidth\":1,\"fFillColor\":0,\"fFillStyle\":1001,\"fMarkerColor\":1,\"fMarkerStyle\":1,\"fMarkerSize\":1,\"fNcells\":102,\"fXaxis\":{\"_typename\":\"TAxis\",\"fUniqueID\":0,\"fBits\":50331656,\"fName\":\"xaxis\",\"fTitle\":\"\",\"fNdivisions\":510,\"fAxisColor\":1,\"fLabelColor\":1,\"fLabelFont\":42,\"fLabelOffset\":0.005,\"fLabelSize\":0.035,\"fTickLength\":0.03,\"fTitleOffset\":1.4,\"fTitleSize\":0.035,\"fTitleColor\":1,\"fTitleFont\":42,\"fNbins\":100,\"fXmin\":-10.5,\"fXmax\":109.5,\"fXbins\":[],\"fFirst\":0,\"fLast\":0,\"fBits2\":0,\"fTimeDisplay\":false,\"fTimeFormat\":\"\",\"fLabels\":null,\"fModLabs\":null},\"fYaxis\":{\"_typename\":\"TAxis\",\"fUniqueID\":0,\"fBits\":50331656,\"fName\":\"yaxis\",\"fTitle\":\" rate [kHz]\",\"fNdivisions\":510,\"fAxisColor\":1,\"fLabelColor\":1,\"fLabelFont\":42,\"fLabelOffset\":0.005,\"fLabelSize\":0.035,\"fTickLength\":0.03,\"fTitleOffset\":0,\"fTitleSize\":0.035,\"fTitleColor\":1,\"fTitleFont\":42,\"fNbins\":1,\"fXmin\":1,\"fXmax\":40000,\"fXbins\":[],\"fFirst\":0,\"fLast\":0,\"fBits2\":0,\"fTimeDisplay\":false,\"fTimeFormat\":\"\",\"fLabels\":null,\"fModLabs\":null},\"fZaxis\":{\"_typename\":\"TAxis\",\"fUniqueID\":0,\"fBits\":50331648,\"fName\":\"zaxis\",\"fTitle\":\"\",\"fNdivisions\":510,\"fAxisColor\":1,\"fLabelColor\":1,\"fLabelFont\":42,\"fLabelOffset\":0.005,\"fLabelSize\":0.035,\"fTickLength\":0.03,\"fTitleOffset\":1,\"fTitleSize\":0.035,\"fTitleColor\":1,\"fTitleFont\":42,\"fNbins\":1,\"fXmin\":0,\"fXmax\":1,\"fXbins\":[],\"fFirst\":0,\"fLast\":0,\"fBits2\":0,\"fTimeDisplay\":false,\"fTimeFormat\":\"\",\"fLabels\":null,\"fModLabs\":null},\"fBarOffset\":0,\"fBarWidth\":1000,\"fEntries\":0,\"fTsumw\":0,\"fTsumw2\":0,\"fTsumwx\":0,\"fTsumwx2\":0,\"fMaximum\":40000,\"fMinimum\":1,\"fNormFactor\":0,\"fContour\":[],\"fSumw2\":[],\"fOption\":\"\",\"fFunctions\":{\"_typename\":\"TList\",\"name\":\"TList\",\"arr\":[],\"opt\":[]},\"fBufferSize\":0,\"fBuffer\":[],\"fBinStatErrOpt\":0,\"fStatOverflows\":2,\"fArray\":[0,0,0,0,0,0,0,0,0,0,0,0,0,0,0,0,0,0,0,0,0,0,0,0,0,0,0,0,0,0,0,0,0,0,0,0,0,0,0,0,0,0,0,0,0,0,0,0,0,0,0,0,0,0,0,0,0,0,0,0,0,0,0,0,0,0,0,0,0,0,0,0,0,0,0,0,0,0,0,0,0,0,0,0,0,0,0,0,0,0,0,0,0,0,0,0,0,0,0,0,0,0]},\"fMinimum\":-1111,\"fMaximum\":-1111,\"fEXlow\":[0.5,0.5,0.5,0.5,0.5,0.5,0.5,0.5,0.5,0.5,0.5,0.5,0.5,0.5,0.5,0.5,0.5,0.5,0.5,0.5,0.5,0.5,0.5,0.5,0.5,0.5,0.5,0.5,0.5,0.5,0.5,0.5,0.5,0.5,0.5,0.5,0.5,0.5,0.5,0.5,0.5,0.5,0.5,0.5,0.5,0.5,0.5,0.5,0.5,0.5,0.5,0.5,0.5,0.5,0.5,0.5,0.5,0.5,0.5,0.5,0.5,0.5,0.5,0.5,0.5,0.5,0.5,0.5,0.5,0.5,0.5,0.5,0.5,0.5,0.5,0.5,0.5,0.5,0.5,0.5,0.5,0.5,0.5,0.5,0.5,0.5,0.5,0.5,0.5,0.5,0.5,0.5,0.5,0.5,0.5,0.5,0.5,0.5,0.5,0.5],\"fEXhigh\":[0.5,0.5,0.5,0.5,0.5,0.5,0.5,0.5,0.5,0.5,0.5,0.5,0.5,0.5,0.5,0.5,0.5,0.5,0.5,0.5,0.5,0.5,0.5,0.5,0.5,0.5,0.5,0.5,0.5,0.5,0.5,0.5,0.5,0.5,0.5,0.5,0.5,0.5,0.5,0.5,0.5,0.5,0.5,0.5,0.5,0.5,0.5,0.5,0.5,0.5,0.5,0.5,0.5,0.5,0.5,0.5,0.5,0.5,0.5,0.5,0.5,0.5,0.5,0.5,0.5,0.5,0.5,0.5,0.5,0.5,0.5,0.5,0.5,0.5,0.5,0.5,0.5,0.5,0.5,0.5,0.5,0.5,0.5,0.5,0.5,0.5,0.5,0.5,0.5,0.5,0.5,0.5,0.5,0.5,0.5,0.5,0.5,0.5,0.5,0.5],\"fEYlow\":[70.021862475157,70.021862475157,70.0216838477289,69.6960027464547,64.5904771836801,52.5713852456565,39.5386019788129,28.989648208432,21.3842349884009,16.1233466554536,12.5508306356982,10.161912867969,8.37369563776368,7.08387822421755,6.0268298508264,5.26234640355141,4.66514609506461,4.14858355619106,3.77940711740616,3.4142756504725,3.06689950163074,2.78475164648688,2.55030602242097,2.31372910198042,2.14543091302942,1.96911677315128,1.84448478306331,1.70347050021602,1.63605353783901,1.54967718420977,1.50878138999619,1.4146552510713,1.30424769789946,1.26530612244898,1.2251273850248,1.19410646680303,1.16225788815732,1.0957872456048,1.02501511046247,1.00031232107367,0.974983847408359,0.962069583873698,0.880615792080259,0.851735250108008,0.806477576129471,0.741851472216971,0.6894176900498,0.671029904595397,0.63265306122449,0.59179274994894,0.5478936228024,0.524568206637844,0.524568206637844,0.524568206637844,0.41846066654593,0.41846066654593,0.353663812767824,0.316326530612245,0.316326530612245,0.316326530612245,0.316326530612245,0.316326530612245,0.316326530612245,0.316326530612245,0.316326530612245,0.316326530612245,0.316326530612245,0.316326530612245,0.316326530612245,0.316326530612245,0.316326530612245,0.316326530612245,0.316326530612245,0.316326530612245,0.316326530612245,0.316326530612245,0.316326530612245,0.2739468114012,0.2739468114012,0.2739468114012,0.2739468114012,0.2739468114012,0.2739468114012,0.2739468114012,0.2739468114012,0.2739468114012,0.2739468114012,0.2739468114012,0.2739468114012,0.2739468114012,0.223676634865132,0.223676634865132,0.223676634865132,0.223676634865132,0.223676634865132,0.223676634865132,0.223676634865132,0.158163265306122,0.158163265306122,0.158163265306122],\"fEYhigh\":[70.021862475157,70.021862475157,70.0216838477289,69.6960027464547,64.5904771836801,52.5713852456565,39.5386019788129,28.989648208432,21.3842349884009,16.1233466554536,12.5508306356982,10.161912867969,8.37369563776368,7.08387822421755,6.0268298508264,5.26234640355141,4.66514609506461,4.14858355619106,3.77940711740616,3.4142756504725,3.06689950163074,2.78475164648688,2.55030602242097,2.31372910198042,2.14543091302942,1.96911677315128,1.84448478306331,1.70347050021602,1.63605353783901,1.54967718420977,1.50878138999619,1.4146552510713,1.30424769789946,1.26530612244898,1.2251273850248,1.19410646680303,1.16225788815732,1.0957872456048,1.02501511046247,1.00031232107367,0.974983847408359,0.962069583873698,0.880615792080259,0.851735250108008,0.806477576129471,0.741851472216971,0.6894176900498,0.671029904595397,0.63265306122449,0.59179274994894,0.5478936228024,0.524568206637844,0.524568206637844,0.524568206637844,0.41846066654593,0.41846066654593,0.353663812767824,0.316326530612245,0.316326530612245,0.316326530612245,0.316326530612245,0.316326530612245,0.316326530612245,0.316326530612245,0.316326530612245,0.316326530612245,0.316326530612245,0.316326530612245,0.316326530612245,0.316326530612245,0.316326530612245,0.316326530612245,0.316326530612245,0.316326530612245,0.316326530612245,0.316326530612245,0.316326530612245,0.2739468114012,0.2739468114012,0.2739468114012,0.2739468114012,0.2739468114012,0.2739468114012,0.2739468114012,0.2739468114012,0.2739468114012,0.2739468114012,0.2739468114012,0.2739468114012,0.2739468114012,0.223676634865132,0.223676634865132,0.223676634865132,0.223676634865132,0.223676634865132,0.223676634865132,0.223676634865132,0.158163265306122,0.158163265306122,0.158163265306122]},{\"_typename\":\"TLatex\",\"fUniqueID\":0,\"fBits\":50348040,\"fName\":\"\",\"fTitle\":\"PU200, EG, hwQual 5, 1.52 < |#eta^{L1}| <= 2.4\",\"fTextAngle\":0,\"fTextSize\":0.03,\"fTextAlign\":11,\"fTextColor\":1,\"fTextFont\":62,\"fX\":0.15,\"fY\":0.85,\"fLineColor\":1,\"fLineStyle\":1,\"fLineWidth\":2,\"fLimitFactorSize\":3,\"fOriginSize\":0.04},{\"_typename\":\"TLatex\",\"fUniqueID\":0,\"fBits\":50331656,\"fName\":\"\",\"fTitle\":\"\",\"fTextAngle\":0,\"fTextSize\":0.03,\"fTextAlign\":11,\"fTextColor\":1,\"fTextFont\":62,\"fX\":0,\"fY\":0,\"fLineColor\":1,\"fLineStyle\":1,\"fLineWidth\":2,\"fLimitFactorSize\":3,\"fOriginSize\":0.04}],\"opt\":[\"\",\"pa\",\"same\",\"same\"]},\"fExecs\":null,\"fName\":\"c_a0a780\",\"fTitle\":\"c_a0a780\",\"fNumPaletteColor\":0,\"fNextPaletteColor\":0,\"fDISPLAY\":\"$DISPLAY\",\"fDoubleBuffer\":0,\"fRetained\":true,\"fXsizeUser\":0,\"fYsizeUser\":0,\"fXsizeReal\":20,\"fYsizeReal\":15,\"fWindowTopX\":0,\"fWindowTopY\":0,\"fWindowWidth\":0,\"fWindowHeight\":0,\"fCw\":796,\"fCh\":572,\"fCatt\":{\"_typename\":\"TAttCanvas\",\"fXBetween\":2,\"fYBetween\":2,\"fTitleFromTop\":1.2,\"fXdate\":0.2,\"fYdate\":0.3,\"fAdate\":1},\"kMoveOpaque\":true,\"kResizeOpaque\":true,\"fHighLightColor\":2,\"fBatch\":true,\"kShowEventStatus\":false,\"kAutoExec\":true,\"kMenuBar\":true});\n",
       "       Core.draw(\"root_plot_1\", obj, \"\");\n",
       "     }\n",
       " );\n",
       "</script>\n"
      ],
      "text/plain": [
       "<IPython.core.display.HTML object>"
      ]
     },
     "metadata": {},
     "output_type": "display_data"
    },
    {
     "data": {
      "text/html": [
       "\n",
       "<div id=\"root_plot_2\"\n",
       "     style=\"width: 796px; height: 572px\">\n",
       "</div>\n",
       "\n",
       "<script>\n",
       " requirejs.config({\n",
       "     paths: {\n",
       "       'JSRootCore' : 'https://root.cern.ch/js/notebook//scripts/JSRootCore',\n",
       "     }\n",
       "   });\n",
       " require(['JSRootCore'],\n",
       "     function(Core) {\n",
       "       var obj = Core.JSONR_unref({\"_typename\":\"TCanvas\",\"fUniqueID\":0,\"fBits\":53673992,\"fLineColor\":1,\"fLineStyle\":1,\"fLineWidth\":1,\"fFillColor\":0,\"fFillStyle\":1001,\"fLeftMargin\":0.13,\"fRightMargin\":0.3,\"fBottomMargin\":0.13,\"fTopMargin\":0.1,\"fXfile\":2,\"fYfile\":2,\"fAfile\":1,\"fXstat\":0.99,\"fYstat\":0.99,\"fAstat\":2,\"fFrameFillColor\":0,\"fFrameLineColor\":1,\"fFrameFillStyle\":1001,\"fFrameLineStyle\":1,\"fFrameLineWidth\":1,\"fFrameBorderSize\":1,\"fFrameBorderMode\":0,\"fX1\":-27.6914100178232,\"fY1\":-0.776971158114093,\"fX2\":185.319444086316,\"fY2\":5.19973014378258,\"fXtoAbsPixelk\":103.480046204376,\"fXtoPixelk\":103.480046204376,\"fXtoPixel\":3.73689877611045,\"fYtoAbsPixelk\":497.640051065433,\"fYtoPixelk\":497.640051065433,\"fYtoPixel\":-95.7049668549571,\"fUtoAbsPixelk\":5e-5,\"fUtoPixelk\":5e-5,\"fUtoPixel\":796,\"fVtoAbsPixelk\":572.00005,\"fVtoPixelk\":572,\"fVtoPixel\":-572,\"fAbsPixeltoXk\":-27.6914100178232,\"fPixeltoXk\":-27.6914100178232,\"fPixeltoX\":0.267601575507713,\"fAbsPixeltoYk\":5.19973014378258,\"fPixeltoYk\":-0.776971158114093,\"fPixeltoY\":-0.0104487784998194,\"fXlowNDC\":0,\"fYlowNDC\":0,\"fXUpNDC\":0,\"fYUpNDC\":0,\"fWNDC\":1,\"fHNDC\":1,\"fAbsXlowNDC\":0,\"fAbsYlowNDC\":0,\"fAbsWNDC\":1,\"fAbsHNDC\":1,\"fUxmin\":0,\"fUymin\":0,\"fUxmax\":121.416185315787,\"fUymax\":4.60205999132796,\"fTheta\":30,\"fPhi\":30,\"fAspectRatio\":0,\"fNumber\":0,\"fTickx\":0,\"fTicky\":0,\"fLogx\":0,\"fLogy\":1,\"fLogz\":0,\"fPadPaint\":0,\"fCrosshair\":0,\"fCrosshairPos\":0,\"fBorderSize\":2,\"fBorderMode\":0,\"fModified\":false,\"fGridx\":true,\"fGridy\":true,\"fAbsCoord\":false,\"fEditable\":true,\"fFixedAspectRatio\":false,\"fPrimitives\":{\"_typename\":\"TList\",\"name\":\"TList\",\"arr\":[{\"_typename\":\"TFrame\",\"fUniqueID\":0,\"fBits\":50331656,\"fLineColor\":1,\"fLineStyle\":1,\"fLineWidth\":1,\"fFillColor\":0,\"fFillStyle\":1001,\"fX1\":0,\"fY1\":0,\"fX2\":121.416185315787,\"fY2\":4.60205999132796,\"fBorderSize\":1,\"fBorderMode\":0},{\"_typename\":\"TGraphAsymmErrors\",\"fUniqueID\":0,\"fBits\":50332680,\"fName\":\"e246e0\",\"fTitle\":\";; rate [kHz]\",\"fLineColor\":1,\"fLineStyle\":1,\"fLineWidth\":1,\"fFillColor\":0,\"fFillStyle\":1001,\"fMarkerColor\":1,\"fMarkerStyle\":8,\"fMarkerSize\":0.5,\"fNpoints\":100,\"fX\":[7.97929622646018,9.01544764142186,10.0515990563835,11.0877504713452,12.1239018863069,13.1600533012686,14.1962047162303,15.2323561311919,16.2685075461536,17.3046589611153,18.340810376077,19.3769617910386,20.4131132060003,21.449264620962,22.4854160359237,23.5215674508854,24.557718865847,25.5938702808087,26.6300216957704,27.6661731107321,28.7023245256938,29.7384759406554,30.7746273556171,31.8107787705788,32.8469301855405,33.8830816005022,34.9192330154638,35.9553844304255,36.9915358453872,38.0276872603489,39.0638386753105,40.0999900902722,41.1361415052339,42.1722929201956,43.2084443351573,44.2445957501189,45.2807471650806,46.3168985800423,47.353049995004,48.3892014099657,49.4253528249273,50.461504239889,51.4976556548507,52.5338070698124,53.569958484774,54.6061098997357,55.6422613146974,56.6784127296591,57.7145641446208,58.7507155595824,59.7868669745441,60.8230183895058,61.8591698044675,62.8953212194292,63.9314726343908,64.9676240493525,66.0037754643142,67.0399268792759,68.0760782942376,69.1122297091992,70.1483811241609,71.1845325391226,72.2206839540843,73.2568353690459,74.2929867840076,75.3291381989693,76.365289613931,77.4014410288927,78.4375924438543,79.473743858816,80.5098952737777,81.5460466887394,82.5821981037011,83.6183495186627,84.6545009336244,85.6906523485861,86.7268037635478,87.7629551785094,88.7991065934711,89.8352580084328,90.8714094233945,91.9075608383562,92.9437122533178,93.9798636682795,95.0160150832412,96.0521664982029,97.0883179131646,98.1244693281262,99.1606207430879,100.19677215805,101.232923573011,102.269074987973,103.305226402935,104.341377817896,105.377529232858,106.41368064782,107.449832062781,108.485983477743,109.522134892705,110.558286307666],\"fY\":[31000,31000,30999.841796875,30712.142578125,26377.361328125,17474.03515625,9884.0966796875,5313.4951171875,2891.224609375,1643.63269042969,995.9541015625,652.89794921875,443.331634521484,317.275512695312,229.653060913086,175.086730957031,137.602035522461,108.816329956055,90.3112258911133,73.7040786743164,59.4693870544434,49.0306129455566,41.1224479675293,33.8469390869141,29.1020412445068,24.5153064727783,21.5102043151855,18.3469390869141,16.923469543457,15.1836738586426,14.3928575515747,12.6530609130859,10.7551021575928,10.1224489212036,9.48979568481445,9.01530647277832,8.54081630706787,7.59183692932129,6.64285707473755,6.32653045654297,6.01020431518555,5.85204076766968,4.9030613899231,4.58673477172852,4.11224508285522,3.47959184646606,3.00510215759277,2.84693884849548,2.5306122303009,2.21428561210632,1.89795923233032,1.73979592323303,1.73979592323303,1.73979592323303,1.10714280605316,1.10714280605316,0.790816307067871,0.632653057575226,0.632653057575226,0.632653057575226,0.632653057575226,0.632653057575226,0.632653057575226,0.632653057575226,0.632653057575226,0.632653057575226,0.632653057575226,0.632653057575226,0.632653057575226,0.632653057575226,0.632653057575226,0.632653057575226,0.632653057575226,0.632653057575226,0.632653057575226,0.632653057575226,0.632653057575226,0.474489808082581,0.474489808082581,0.474489808082581,0.474489808082581,0.474489808082581,0.474489808082581,0.474489808082581,0.474489808082581,0.474489808082581,0.474489808082581,0.474489808082581,0.474489808082581,0.474489808082581,0.316326528787613,0.316326528787613,0.316326528787613,0.316326528787613,0.316326528787613,0.316326528787613,0.316326528787613,0.158163264393806,0.158163264393806,0.158163264393806],\"fFunctions\":{\"_typename\":\"TList\",\"name\":\"TList\",\"arr\":[],\"opt\":[]},\"fHistogram\":{\"_typename\":\"TH1F\",\"fUniqueID\":0,\"fBits\":50332168,\"fName\":\"e246e0\",\"fTitle\":\"\",\"fLineColor\":602,\"fLineStyle\":1,\"fLineWidth\":1,\"fFillColor\":0,\"fFillStyle\":1001,\"fMarkerColor\":1,\"fMarkerStyle\":1,\"fMarkerSize\":1,\"fNcells\":102,\"fXaxis\":{\"_typename\":\"TAxis\",\"fUniqueID\":0,\"fBits\":50331656,\"fName\":\"xaxis\",\"fTitle\":\"\",\"fNdivisions\":510,\"fAxisColor\":1,\"fLabelColor\":1,\"fLabelFont\":42,\"fLabelOffset\":0.005,\"fLabelSize\":0.035,\"fTickLength\":0.03,\"fTitleOffset\":1.4,\"fTitleSize\":0.035,\"fTitleColor\":1,\"fTitleFont\":42,\"fNbins\":100,\"fXmin\":0,\"fXmax\":121.416185315787,\"fXbins\":[],\"fFirst\":0,\"fLast\":0,\"fBits2\":0,\"fTimeDisplay\":false,\"fTimeFormat\":\"\",\"fLabels\":null,\"fModLabs\":null},\"fYaxis\":{\"_typename\":\"TAxis\",\"fUniqueID\":0,\"fBits\":50331656,\"fName\":\"yaxis\",\"fTitle\":\" rate [kHz]\",\"fNdivisions\":510,\"fAxisColor\":1,\"fLabelColor\":1,\"fLabelFont\":42,\"fLabelOffset\":0.005,\"fLabelSize\":0.035,\"fTickLength\":0.03,\"fTitleOffset\":0,\"fTitleSize\":0.035,\"fTitleColor\":1,\"fTitleFont\":42,\"fNbins\":1,\"fXmin\":1,\"fXmax\":40000,\"fXbins\":[],\"fFirst\":0,\"fLast\":0,\"fBits2\":0,\"fTimeDisplay\":false,\"fTimeFormat\":\"\",\"fLabels\":null,\"fModLabs\":null},\"fZaxis\":{\"_typename\":\"TAxis\",\"fUniqueID\":0,\"fBits\":50331648,\"fName\":\"zaxis\",\"fTitle\":\"\",\"fNdivisions\":510,\"fAxisColor\":1,\"fLabelColor\":1,\"fLabelFont\":42,\"fLabelOffset\":0.005,\"fLabelSize\":0.035,\"fTickLength\":0.03,\"fTitleOffset\":1,\"fTitleSize\":0.035,\"fTitleColor\":1,\"fTitleFont\":42,\"fNbins\":1,\"fXmin\":0,\"fXmax\":1,\"fXbins\":[],\"fFirst\":0,\"fLast\":0,\"fBits2\":0,\"fTimeDisplay\":false,\"fTimeFormat\":\"\",\"fLabels\":null,\"fModLabs\":null},\"fBarOffset\":0,\"fBarWidth\":1000,\"fEntries\":0,\"fTsumw\":0,\"fTsumw2\":0,\"fTsumwx\":0,\"fTsumwx2\":0,\"fMaximum\":40000,\"fMinimum\":1,\"fNormFactor\":0,\"fContour\":[],\"fSumw2\":[],\"fOption\":\"\",\"fFunctions\":{\"_typename\":\"TList\",\"name\":\"TList\",\"arr\":[],\"opt\":[]},\"fBufferSize\":0,\"fBuffer\":[],\"fBinStatErrOpt\":0,\"fStatOverflows\":2,\"fArray\":[0,0,0,0,0,0,0,0,0,0,0,0,0,0,0,0,0,0,0,0,0,0,0,0,0,0,0,0,0,0,0,0,0,0,0,0,0,0,0,0,0,0,0,0,0,0,0,0,0,0,0,0,0,0,0,0,0,0,0,0,0,0,0,0,0,0,0,0,0,0,0,0,0,0,0,0,0,0,0,0,0,0,0,0,0,0,0,0,0,0,0,0,0,0,0,0,0,0,0,0,0,0]},\"fMinimum\":-1111,\"fMaximum\":-1111,\"fEXlow\":[0.5,0.5,0.5,0.5,0.5,0.5,0.5,0.5,0.5,0.5,0.5,0.5,0.5,0.5,0.5,0.5,0.5,0.5,0.5,0.5,0.5,0.5,0.5,0.5,0.5,0.5,0.5,0.5,0.5,0.5,0.5,0.5,0.5,0.5,0.5,0.5,0.5,0.5,0.5,0.5,0.5,0.5,0.5,0.5,0.5,0.5,0.5,0.5,0.5,0.5,0.5,0.5,0.5,0.5,0.5,0.5,0.5,0.5,0.5,0.5,0.5,0.5,0.5,0.5,0.5,0.5,0.5,0.5,0.5,0.5,0.5,0.5,0.5,0.5,0.5,0.5,0.5,0.5,0.5,0.5,0.5,0.5,0.5,0.5,0.5,0.5,0.5,0.5,0.5,0.5,0.5,0.5,0.5,0.5,0.5,0.5,0.5,0.5,0.5,0.5],\"fEXhigh\":[0.5,0.5,0.5,0.5,0.5,0.5,0.5,0.5,0.5,0.5,0.5,0.5,0.5,0.5,0.5,0.5,0.5,0.5,0.5,0.5,0.5,0.5,0.5,0.5,0.5,0.5,0.5,0.5,0.5,0.5,0.5,0.5,0.5,0.5,0.5,0.5,0.5,0.5,0.5,0.5,0.5,0.5,0.5,0.5,0.5,0.5,0.5,0.5,0.5,0.5,0.5,0.5,0.5,0.5,0.5,0.5,0.5,0.5,0.5,0.5,0.5,0.5,0.5,0.5,0.5,0.5,0.5,0.5,0.5,0.5,0.5,0.5,0.5,0.5,0.5,0.5,0.5,0.5,0.5,0.5,0.5,0.5,0.5,0.5,0.5,0.5,0.5,0.5,0.5,0.5,0.5,0.5,0.5,0.5,0.5,0.5,0.5,0.5,0.5,0.5],\"fEYlow\":[70.021862475157,70.021862475157,70.0216838477289,69.6960027464547,64.5904771836801,52.5713852456565,39.5386019788129,28.989648208432,21.3842349884009,16.1233466554536,12.5508306356982,10.161912867969,8.37369563776368,7.08387822421755,6.0268298508264,5.26234640355141,4.66514609506461,4.14858355619106,3.77940711740616,3.4142756504725,3.06689950163074,2.78475164648688,2.55030602242097,2.31372910198042,2.14543091302942,1.96911677315128,1.84448478306331,1.70347050021602,1.63605353783901,1.54967718420977,1.50878138999619,1.4146552510713,1.30424769789946,1.26530612244898,1.2251273850248,1.19410646680303,1.16225788815732,1.0957872456048,1.02501511046247,1.00031232107367,0.974983847408359,0.962069583873698,0.880615792080259,0.851735250108008,0.806477576129471,0.741851472216971,0.6894176900498,0.671029904595397,0.63265306122449,0.59179274994894,0.5478936228024,0.524568206637844,0.524568206637844,0.524568206637844,0.41846066654593,0.41846066654593,0.353663812767824,0.316326530612245,0.316326530612245,0.316326530612245,0.316326530612245,0.316326530612245,0.316326530612245,0.316326530612245,0.316326530612245,0.316326530612245,0.316326530612245,0.316326530612245,0.316326530612245,0.316326530612245,0.316326530612245,0.316326530612245,0.316326530612245,0.316326530612245,0.316326530612245,0.316326530612245,0.316326530612245,0.2739468114012,0.2739468114012,0.2739468114012,0.2739468114012,0.2739468114012,0.2739468114012,0.2739468114012,0.2739468114012,0.2739468114012,0.2739468114012,0.2739468114012,0.2739468114012,0.2739468114012,0.223676634865132,0.223676634865132,0.223676634865132,0.223676634865132,0.223676634865132,0.223676634865132,0.223676634865132,0.158163265306122,0.158163265306122,0.158163265306122],\"fEYhigh\":[70.021862475157,70.021862475157,70.0216838477289,69.6960027464547,64.5904771836801,52.5713852456565,39.5386019788129,28.989648208432,21.3842349884009,16.1233466554536,12.5508306356982,10.161912867969,8.37369563776368,7.08387822421755,6.0268298508264,5.26234640355141,4.66514609506461,4.14858355619106,3.77940711740616,3.4142756504725,3.06689950163074,2.78475164648688,2.55030602242097,2.31372910198042,2.14543091302942,1.96911677315128,1.84448478306331,1.70347050021602,1.63605353783901,1.54967718420977,1.50878138999619,1.4146552510713,1.30424769789946,1.26530612244898,1.2251273850248,1.19410646680303,1.16225788815732,1.0957872456048,1.02501511046247,1.00031232107367,0.974983847408359,0.962069583873698,0.880615792080259,0.851735250108008,0.806477576129471,0.741851472216971,0.6894176900498,0.671029904595397,0.63265306122449,0.59179274994894,0.5478936228024,0.524568206637844,0.524568206637844,0.524568206637844,0.41846066654593,0.41846066654593,0.353663812767824,0.316326530612245,0.316326530612245,0.316326530612245,0.316326530612245,0.316326530612245,0.316326530612245,0.316326530612245,0.316326530612245,0.316326530612245,0.316326530612245,0.316326530612245,0.316326530612245,0.316326530612245,0.316326530612245,0.316326530612245,0.316326530612245,0.316326530612245,0.316326530612245,0.316326530612245,0.316326530612245,0.2739468114012,0.2739468114012,0.2739468114012,0.2739468114012,0.2739468114012,0.2739468114012,0.2739468114012,0.2739468114012,0.2739468114012,0.2739468114012,0.2739468114012,0.2739468114012,0.2739468114012,0.223676634865132,0.223676634865132,0.223676634865132,0.223676634865132,0.223676634865132,0.223676634865132,0.223676634865132,0.158163265306122,0.158163265306122,0.158163265306122]},{\"_typename\":\"TLatex\",\"fUniqueID\":0,\"fBits\":50348040,\"fName\":\"\",\"fTitle\":\"PU200, EG, hwQual 5, 1.52 < |#eta^{L1}| <= 2.4\",\"fTextAngle\":0,\"fTextSize\":0.03,\"fTextAlign\":11,\"fTextColor\":1,\"fTextFont\":62,\"fX\":0.15,\"fY\":0.85,\"fLineColor\":1,\"fLineStyle\":1,\"fLineWidth\":2,\"fLimitFactorSize\":3,\"fOriginSize\":0.04},{\"_typename\":\"TLatex\",\"fUniqueID\":0,\"fBits\":50331656,\"fName\":\"\",\"fTitle\":\"\",\"fTextAngle\":0,\"fTextSize\":0.03,\"fTextAlign\":11,\"fTextColor\":1,\"fTextFont\":62,\"fX\":0,\"fY\":0,\"fLineColor\":1,\"fLineStyle\":1,\"fLineWidth\":2,\"fLimitFactorSize\":3,\"fOriginSize\":0.04}],\"opt\":[\"\",\"pa\",\"same\",\"same\"]},\"fExecs\":null,\"fName\":\"c_083ba5\",\"fTitle\":\"c_083ba5\",\"fNumPaletteColor\":0,\"fNextPaletteColor\":0,\"fDISPLAY\":\"$DISPLAY\",\"fDoubleBuffer\":0,\"fRetained\":true,\"fXsizeUser\":0,\"fYsizeUser\":0,\"fXsizeReal\":20,\"fYsizeReal\":15,\"fWindowTopX\":0,\"fWindowTopY\":0,\"fWindowWidth\":0,\"fWindowHeight\":0,\"fCw\":796,\"fCh\":572,\"fCatt\":{\"_typename\":\"TAttCanvas\",\"fXBetween\":2,\"fYBetween\":2,\"fTitleFromTop\":1.2,\"fXdate\":0.2,\"fYdate\":0.3,\"fAdate\":1},\"kMoveOpaque\":true,\"kResizeOpaque\":true,\"fHighLightColor\":2,\"fBatch\":true,\"kShowEventStatus\":false,\"kAutoExec\":true,\"kMenuBar\":true});\n",
       "       Core.draw(\"root_plot_2\", obj, \"\");\n",
       "     }\n",
       " );\n",
       "</script>\n"
      ],
      "text/plain": [
       "<IPython.core.display.HTML object>"
      ]
     },
     "metadata": {},
     "output_type": "display_data"
    }
   ],
   "source": [
    "for tp in ['EG']:\n",
    "    for tp_sel in ['EGq5EtaBC']:\n",
    "\n",
    "        hsets, labels, text = hplot.get_histo(histos.RateHistos, sample, 'PU200', tp, tp_sel, None)\n",
    "        for hist in hsets:\n",
    "            hist.normalize(31000)\n",
    "        draw([his.h_pt_graph('online', 'rate [kHz]', convertRateToGraph) for his in hsets], labels, text=text,  min_y =1, max_y = 40000 ,logy=True)\n",
    "        draw([his.h_pt_graph('offline', 'rate [kHz]', lambda x: convertRateToGraph(x, eval(scaling_params[(scaling_params.pu == 'PU200') & \n",
    "                                                                                                  (scaling_params.tp == tp) & \n",
    "                                                                                                  (scaling_params.tp_sel == tp_sel)].params.iloc[0]))) for his in hsets], \n",
    "             labels, text=text,  min_y =1, max_y = 40000 ,logy=True)\n"
   ]
  },
  {
   "cell_type": "code",
   "execution_count": 41,
   "metadata": {},
   "outputs": [
    {
     "name": "stdout",
     "output_type": "stream",
     "text": [
      "No match found for: pu: PU200, tp: HMvDRshapeDrCalib, tp_sel: EmEtaBC, gen_sel: None, classtype: python.l1THistos.RateHistos\n"
     ]
    },
    {
     "ename": "TypeError",
     "evalue": "'NoneType' object is not iterable",
     "output_type": "error",
     "traceback": [
      "\u001b[0;31m\u001b[0m",
      "\u001b[0;31mTypeError\u001b[0mTraceback (most recent call last)",
      "\u001b[0;32m<ipython-input-41-1613aabb2c39>\u001b[0m in \u001b[0;36m<module>\u001b[0;34m()\u001b[0m\n\u001b[1;32m      3\u001b[0m \u001b[0;34m\u001b[0m\u001b[0m\n\u001b[1;32m      4\u001b[0m         \u001b[0mhsets\u001b[0m\u001b[0;34m,\u001b[0m \u001b[0mlabels\u001b[0m\u001b[0;34m,\u001b[0m \u001b[0mtext\u001b[0m \u001b[0;34m=\u001b[0m \u001b[0mhplot\u001b[0m\u001b[0;34m.\u001b[0m\u001b[0mget_histo\u001b[0m\u001b[0;34m(\u001b[0m\u001b[0mhistos\u001b[0m\u001b[0;34m.\u001b[0m\u001b[0mRateHistos\u001b[0m\u001b[0;34m,\u001b[0m \u001b[0msample\u001b[0m\u001b[0;34m,\u001b[0m \u001b[0;34m'PU200'\u001b[0m\u001b[0;34m,\u001b[0m \u001b[0mtp\u001b[0m\u001b[0;34m,\u001b[0m \u001b[0mtp_sel\u001b[0m\u001b[0;34m,\u001b[0m \u001b[0mNone\u001b[0m\u001b[0;34m)\u001b[0m\u001b[0;34m\u001b[0m\u001b[0m\n\u001b[0;32m----> 5\u001b[0;31m         \u001b[0;32mfor\u001b[0m \u001b[0mhist\u001b[0m \u001b[0;32min\u001b[0m \u001b[0mhsets\u001b[0m\u001b[0;34m:\u001b[0m\u001b[0;34m\u001b[0m\u001b[0m\n\u001b[0m\u001b[1;32m      6\u001b[0m             \u001b[0mhist\u001b[0m\u001b[0;34m.\u001b[0m\u001b[0mnormalize\u001b[0m\u001b[0;34m(\u001b[0m\u001b[0;36m31000\u001b[0m\u001b[0;34m)\u001b[0m\u001b[0;34m\u001b[0m\u001b[0m\n\u001b[1;32m      7\u001b[0m         \u001b[0mdraw\u001b[0m\u001b[0;34m(\u001b[0m\u001b[0;34m[\u001b[0m\u001b[0mhis\u001b[0m\u001b[0;34m.\u001b[0m\u001b[0mh_pt_graph\u001b[0m\u001b[0;34m(\u001b[0m\u001b[0;34m'online'\u001b[0m\u001b[0;34m,\u001b[0m \u001b[0;34m'rate [kHz]'\u001b[0m\u001b[0;34m,\u001b[0m \u001b[0mconvertRateToGraph\u001b[0m\u001b[0;34m)\u001b[0m \u001b[0;32mfor\u001b[0m \u001b[0mhis\u001b[0m \u001b[0;32min\u001b[0m \u001b[0mhsets\u001b[0m\u001b[0;34m]\u001b[0m\u001b[0;34m,\u001b[0m \u001b[0mlabels\u001b[0m\u001b[0;34m,\u001b[0m \u001b[0mtext\u001b[0m\u001b[0;34m=\u001b[0m\u001b[0mtext\u001b[0m\u001b[0;34m,\u001b[0m  \u001b[0mmin_y\u001b[0m \u001b[0;34m=\u001b[0m\u001b[0;36m1\u001b[0m\u001b[0;34m,\u001b[0m \u001b[0mmax_y\u001b[0m \u001b[0;34m=\u001b[0m \u001b[0;36m40000\u001b[0m \u001b[0;34m,\u001b[0m\u001b[0mlogy\u001b[0m\u001b[0;34m=\u001b[0m\u001b[0mTrue\u001b[0m\u001b[0;34m)\u001b[0m\u001b[0;34m\u001b[0m\u001b[0m\n",
      "\u001b[0;31mTypeError\u001b[0m: 'NoneType' object is not iterable"
     ]
    }
   ],
   "source": [
    "for tp in ['HMvDRshapeDrCalib']:\n",
    "    for tp_sel in ['EmEtaBC']:\n",
    "\n",
    "        hsets, labels, text = hplot.get_histo(histos.RateHistos, sample, 'PU200', tp, tp_sel, None)\n",
    "        for hist in hsets:\n",
    "            hist.normalize(31000)\n",
    "        draw([his.h_pt_graph('online', 'rate [kHz]', convertRateToGraph) for his in hsets], labels, text=text,  min_y =1, max_y = 40000 ,logy=True)\n",
    "        draw([his.h_pt_graph('offline', 'rate [kHz]', lambda x: convertRateToGraph(x, eval(scaling_params[(scaling_params.pu == 'PU200') & \n",
    "                                                                                                  (scaling_params.tp == tp) & \n",
    "                                                                                                  (scaling_params.tp_sel == tp_sel)].params.iloc[0]))) for his in hsets], \n",
    "             labels, text=text,  min_y =1, max_y = 40000 ,logy=True)\n"
   ]
  },
  {
   "cell_type": "code",
   "execution_count": 42,
   "metadata": {},
   "outputs": [
    {
     "name": "stdout",
     "output_type": "stream",
     "text": [
      "normalize to 31000\n"
     ]
    },
    {
     "ename": "AttributeError",
     "evalue": "RateHistos instance has no attribute 'g_pt_online'",
     "output_type": "error",
     "traceback": [
      "\u001b[0;31m\u001b[0m",
      "\u001b[0;31mAttributeError\u001b[0mTraceback (most recent call last)",
      "\u001b[0;32m<ipython-input-42-080197fe4911>\u001b[0m in \u001b[0;36m<module>\u001b[0;34m()\u001b[0m\n\u001b[1;32m      2\u001b[0m \u001b[0;32mfor\u001b[0m \u001b[0mhist\u001b[0m \u001b[0;32min\u001b[0m \u001b[0mhsets\u001b[0m\u001b[0;34m:\u001b[0m\u001b[0;34m\u001b[0m\u001b[0m\n\u001b[1;32m      3\u001b[0m     \u001b[0mhist\u001b[0m\u001b[0;34m.\u001b[0m\u001b[0mnormalize\u001b[0m\u001b[0;34m(\u001b[0m\u001b[0;36m31000\u001b[0m\u001b[0;34m)\u001b[0m\u001b[0;34m\u001b[0m\u001b[0m\n\u001b[0;32m----> 4\u001b[0;31m \u001b[0mnewset\u001b[0m \u001b[0;34m=\u001b[0m \u001b[0;34m[\u001b[0m\u001b[0mhsets\u001b[0m\u001b[0;34m[\u001b[0m\u001b[0;36m0\u001b[0m\u001b[0;34m]\u001b[0m\u001b[0;34m.\u001b[0m\u001b[0mg_pt_online\u001b[0m\u001b[0;34m,\u001b[0m \u001b[0mhsets\u001b[0m\u001b[0;34m[\u001b[0m\u001b[0;36m0\u001b[0m\u001b[0;34m]\u001b[0m\u001b[0;34m.\u001b[0m\u001b[0mg_pt_offline\u001b[0m\u001b[0;34m]\u001b[0m\u001b[0;34m\u001b[0m\u001b[0m\n\u001b[0m\u001b[1;32m      5\u001b[0m \u001b[0mnewlabels\u001b[0m \u001b[0;34m=\u001b[0m \u001b[0;34m[\u001b[0m\u001b[0;34m'no-calib online'\u001b[0m\u001b[0;34m,\u001b[0m \u001b[0;34m'no-calib offline'\u001b[0m\u001b[0;34m]\u001b[0m\u001b[0;34m\u001b[0m\u001b[0m\n\u001b[1;32m      6\u001b[0m \u001b[0;34m\u001b[0m\u001b[0m\n",
      "\u001b[0;31mAttributeError\u001b[0m: RateHistos instance has no attribute 'g_pt_online'"
     ]
    }
   ],
   "source": [
    "hsets, labels, text = hplot.get_histo(histos.RateHistos, sample, 'PU200', 'EG', ['EGq4EtaBC'], None)\n",
    "for hist in hsets:\n",
    "    hist.normalize(31000)\n",
    "newset = [hsets[0].g_pt_online, hsets[0].g_pt_offline]\n",
    "newlabels = ['no-calib online', 'no-calib offline']\n",
    "\n",
    "hsets, labels, text = hplot.get_histo(histos.RateHistos, sample, 'PU200', 'HMvDRshapeDrCalib', ['EmEtaBC'], None)\n",
    "for hist in hsets:\n",
    "    hist.normalize(31000)\n",
    "newset.extend([hsets[0].g_pt_online, hsets[0].g_pt_offline])\n",
    "newlabels.extend(['calib online', 'calib offline'])\n",
    "\n",
    "\n",
    "draw(newset, newlabels, text=text,  min_y =1, max_y = 40000 ,logy=True, x_axis_label='p_{T} thresh. [GeV]')"
   ]
  },
  {
   "cell_type": "code",
   "execution_count": 43,
   "metadata": {},
   "outputs": [
    {
     "data": {
      "text/plain": [
       "'new-ID'"
      ]
     },
     "execution_count": 43,
     "metadata": {},
     "output_type": "execute_result"
    }
   ],
   "source": [
    "sample"
   ]
  },
  {
   "cell_type": "code",
   "execution_count": 79,
   "metadata": {
    "scrolled": false
   },
   "outputs": [
    {
     "data": {
      "text/html": [
       "\n",
       "<div id=\"root_plot_30\"\n",
       "     style=\"width: 796px; height: 572px\">\n",
       "</div>\n",
       "\n",
       "<script>\n",
       " requirejs.config({\n",
       "     paths: {\n",
       "       'JSRootCore' : 'https://root.cern.ch/js/notebook//scripts/JSRootCore',\n",
       "     }\n",
       "   });\n",
       " require(['JSRootCore'],\n",
       "     function(Core) {\n",
       "       var obj = Core.JSONR_unref({\"_typename\":\"TCanvas\",\"fUniqueID\":0,\"fBits\":53673992,\"fLineColor\":1,\"fLineStyle\":1,\"fLineWidth\":1,\"fFillColor\":0,\"fFillStyle\":1001,\"fLeftMargin\":0.13,\"fRightMargin\":0.3,\"fBottomMargin\":0.13,\"fTopMargin\":0.1,\"fXfile\":2,\"fYfile\":2,\"fAfile\":1,\"fXstat\":0.99,\"fYstat\":0.99,\"fAstat\":2,\"fFrameFillColor\":0,\"fFrameLineColor\":1,\"fFrameFillStyle\":1001,\"fFrameLineStyle\":1,\"fFrameLineWidth\":1,\"fFrameBorderSize\":1,\"fFrameBorderMode\":0,\"fX1\":-37.8684203921923,\"fY1\":-0.776971158114093,\"fX2\":172.657898039039,\"fY2\":5.19973014378258,\"fXtoAbsPixelk\":143.180545706201,\"fXtoPixelk\":143.180545706201,\"fXtoPixel\":3.7809999525547,\"fYtoAbsPixelk\":497.640051065433,\"fYtoPixelk\":497.640051065433,\"fYtoPixel\":-95.7049668549571,\"fUtoAbsPixelk\":5e-5,\"fUtoPixelk\":5e-5,\"fUtoPixel\":796,\"fVtoAbsPixelk\":572.00005,\"fVtoPixelk\":572,\"fVtoPixel\":-572,\"fAbsPixeltoXk\":-37.8684203921923,\"fPixeltoXk\":-37.8684203921923,\"fPixeltoX\":0.264480299536722,\"fAbsPixeltoYk\":5.19973014378258,\"fPixeltoYk\":-0.776971158114093,\"fPixeltoY\":-0.0104487784998194,\"fXlowNDC\":0,\"fYlowNDC\":0,\"fXUpNDC\":0,\"fYUpNDC\":0,\"fWNDC\":1,\"fHNDC\":1,\"fAbsXlowNDC\":0,\"fAbsYlowNDC\":0,\"fAbsWNDC\":1,\"fAbsHNDC\":1,\"fUxmin\":-10.5,\"fUymin\":0,\"fUxmax\":109.5,\"fUymax\":4.60205999132796,\"fTheta\":30,\"fPhi\":30,\"fAspectRatio\":0,\"fNumber\":0,\"fTickx\":0,\"fTicky\":0,\"fLogx\":0,\"fLogy\":1,\"fLogz\":0,\"fPadPaint\":0,\"fCrosshair\":0,\"fCrosshairPos\":0,\"fBorderSize\":2,\"fBorderMode\":0,\"fModified\":false,\"fGridx\":true,\"fGridy\":true,\"fAbsCoord\":false,\"fEditable\":true,\"fFixedAspectRatio\":false,\"fPrimitives\":{\"_typename\":\"TList\",\"name\":\"TList\",\"arr\":[{\"_typename\":\"TFrame\",\"fUniqueID\":0,\"fBits\":50331656,\"fLineColor\":1,\"fLineStyle\":1,\"fLineWidth\":1,\"fFillColor\":0,\"fFillStyle\":1001,\"fX1\":-10.5,\"fY1\":0,\"fX2\":109.5,\"fY2\":4.60205999132796,\"fBorderSize\":1,\"fBorderMode\":0},{\"_typename\":\"TGraphAsymmErrors\",\"fUniqueID\":0,\"fBits\":50332680,\"fName\":\"68cfd1\",\"fTitle\":\";; rate [kHz]\",\"fLineColor\":1,\"fLineStyle\":1,\"fLineWidth\":1,\"fFillColor\":0,\"fFillStyle\":1001,\"fMarkerColor\":1,\"fMarkerStyle\":8,\"fMarkerSize\":0.5,\"fNpoints\":100,\"fX\":[0,1,2,3,4,5,6,7,8,9,10,11,12,13,14,15,16,17,18,19,20,21,22,23,24,25,26,27,28,29,30,31,32,33,34,35,36,37,38,39,40,41,42,43,44,45,46,47,48,49,50,51,52,53,54,55,56,57,58,59,60,61,62,63,64,65,66,67,68,69,70,71,72,73,74,75,76,77,78,79,80,81,82,83,84,85,86,87,88,89,90,91,92,93,94,95,96,97,98,99],\"fY\":[31000,31000,30999.841796875,30712.142578125,26377.361328125,17474.03515625,9884.0966796875,5313.4951171875,2891.224609375,1643.63269042969,995.9541015625,652.89794921875,443.331634521484,317.275512695312,229.653060913086,175.086730957031,137.602035522461,108.816329956055,90.3112258911133,73.7040786743164,59.4693870544434,49.0306129455566,41.1224479675293,33.8469390869141,29.1020412445068,24.5153064727783,21.5102043151855,18.3469390869141,16.923469543457,15.1836738586426,14.3928575515747,12.6530609130859,10.7551021575928,10.1224489212036,9.48979568481445,9.01530647277832,8.54081630706787,7.59183692932129,6.64285707473755,6.32653045654297,6.01020431518555,5.85204076766968,4.9030613899231,4.58673477172852,4.11224508285522,3.47959184646606,3.00510215759277,2.84693884849548,2.5306122303009,2.21428561210632,1.89795923233032,1.73979592323303,1.73979592323303,1.73979592323303,1.10714280605316,1.10714280605316,0.790816307067871,0.632653057575226,0.632653057575226,0.632653057575226,0.632653057575226,0.632653057575226,0.632653057575226,0.632653057575226,0.632653057575226,0.632653057575226,0.632653057575226,0.632653057575226,0.632653057575226,0.632653057575226,0.632653057575226,0.632653057575226,0.632653057575226,0.632653057575226,0.632653057575226,0.632653057575226,0.632653057575226,0.474489808082581,0.474489808082581,0.474489808082581,0.474489808082581,0.474489808082581,0.474489808082581,0.474489808082581,0.474489808082581,0.474489808082581,0.474489808082581,0.474489808082581,0.474489808082581,0.474489808082581,0.316326528787613,0.316326528787613,0.316326528787613,0.316326528787613,0.316326528787613,0.316326528787613,0.316326528787613,0.158163264393806,0.158163264393806,0.158163264393806],\"fFunctions\":{\"_typename\":\"TList\",\"name\":\"TList\",\"arr\":[],\"opt\":[]},\"fHistogram\":{\"_typename\":\"TH1F\",\"fUniqueID\":0,\"fBits\":50332168,\"fName\":\"68cfd1\",\"fTitle\":\"\",\"fLineColor\":602,\"fLineStyle\":1,\"fLineWidth\":1,\"fFillColor\":0,\"fFillStyle\":1001,\"fMarkerColor\":1,\"fMarkerStyle\":1,\"fMarkerSize\":1,\"fNcells\":102,\"fXaxis\":{\"_typename\":\"TAxis\",\"fUniqueID\":0,\"fBits\":50331656,\"fName\":\"xaxis\",\"fTitle\":\"\",\"fNdivisions\":510,\"fAxisColor\":1,\"fLabelColor\":1,\"fLabelFont\":42,\"fLabelOffset\":0.005,\"fLabelSize\":0.035,\"fTickLength\":0.03,\"fTitleOffset\":1.4,\"fTitleSize\":0.035,\"fTitleColor\":1,\"fTitleFont\":42,\"fNbins\":100,\"fXmin\":-10.5,\"fXmax\":109.5,\"fXbins\":[],\"fFirst\":0,\"fLast\":0,\"fBits2\":0,\"fTimeDisplay\":false,\"fTimeFormat\":\"\",\"fLabels\":null,\"fModLabs\":null},\"fYaxis\":{\"_typename\":\"TAxis\",\"fUniqueID\":0,\"fBits\":50331656,\"fName\":\"yaxis\",\"fTitle\":\" rate [kHz]\",\"fNdivisions\":510,\"fAxisColor\":1,\"fLabelColor\":1,\"fLabelFont\":42,\"fLabelOffset\":0.005,\"fLabelSize\":0.035,\"fTickLength\":0.03,\"fTitleOffset\":0,\"fTitleSize\":0.035,\"fTitleColor\":1,\"fTitleFont\":42,\"fNbins\":1,\"fXmin\":1,\"fXmax\":40000,\"fXbins\":[],\"fFirst\":0,\"fLast\":0,\"fBits2\":0,\"fTimeDisplay\":false,\"fTimeFormat\":\"\",\"fLabels\":null,\"fModLabs\":null},\"fZaxis\":{\"_typename\":\"TAxis\",\"fUniqueID\":0,\"fBits\":50331648,\"fName\":\"zaxis\",\"fTitle\":\"\",\"fNdivisions\":510,\"fAxisColor\":1,\"fLabelColor\":1,\"fLabelFont\":42,\"fLabelOffset\":0.005,\"fLabelSize\":0.035,\"fTickLength\":0.03,\"fTitleOffset\":1,\"fTitleSize\":0.035,\"fTitleColor\":1,\"fTitleFont\":42,\"fNbins\":1,\"fXmin\":0,\"fXmax\":1,\"fXbins\":[],\"fFirst\":0,\"fLast\":0,\"fBits2\":0,\"fTimeDisplay\":false,\"fTimeFormat\":\"\",\"fLabels\":null,\"fModLabs\":null},\"fBarOffset\":0,\"fBarWidth\":1000,\"fEntries\":0,\"fTsumw\":0,\"fTsumw2\":0,\"fTsumwx\":0,\"fTsumwx2\":0,\"fMaximum\":40000,\"fMinimum\":1,\"fNormFactor\":0,\"fContour\":[],\"fSumw2\":[],\"fOption\":\"\",\"fFunctions\":{\"_typename\":\"TList\",\"name\":\"TList\",\"arr\":[],\"opt\":[]},\"fBufferSize\":0,\"fBuffer\":[],\"fBinStatErrOpt\":0,\"fStatOverflows\":2,\"fArray\":[0,0,0,0,0,0,0,0,0,0,0,0,0,0,0,0,0,0,0,0,0,0,0,0,0,0,0,0,0,0,0,0,0,0,0,0,0,0,0,0,0,0,0,0,0,0,0,0,0,0,0,0,0,0,0,0,0,0,0,0,0,0,0,0,0,0,0,0,0,0,0,0,0,0,0,0,0,0,0,0,0,0,0,0,0,0,0,0,0,0,0,0,0,0,0,0,0,0,0,0,0,0]},\"fMinimum\":-1111,\"fMaximum\":-1111,\"fEXlow\":[0.5,0.5,0.5,0.5,0.5,0.5,0.5,0.5,0.5,0.5,0.5,0.5,0.5,0.5,0.5,0.5,0.5,0.5,0.5,0.5,0.5,0.5,0.5,0.5,0.5,0.5,0.5,0.5,0.5,0.5,0.5,0.5,0.5,0.5,0.5,0.5,0.5,0.5,0.5,0.5,0.5,0.5,0.5,0.5,0.5,0.5,0.5,0.5,0.5,0.5,0.5,0.5,0.5,0.5,0.5,0.5,0.5,0.5,0.5,0.5,0.5,0.5,0.5,0.5,0.5,0.5,0.5,0.5,0.5,0.5,0.5,0.5,0.5,0.5,0.5,0.5,0.5,0.5,0.5,0.5,0.5,0.5,0.5,0.5,0.5,0.5,0.5,0.5,0.5,0.5,0.5,0.5,0.5,0.5,0.5,0.5,0.5,0.5,0.5,0.5],\"fEXhigh\":[0.5,0.5,0.5,0.5,0.5,0.5,0.5,0.5,0.5,0.5,0.5,0.5,0.5,0.5,0.5,0.5,0.5,0.5,0.5,0.5,0.5,0.5,0.5,0.5,0.5,0.5,0.5,0.5,0.5,0.5,0.5,0.5,0.5,0.5,0.5,0.5,0.5,0.5,0.5,0.5,0.5,0.5,0.5,0.5,0.5,0.5,0.5,0.5,0.5,0.5,0.5,0.5,0.5,0.5,0.5,0.5,0.5,0.5,0.5,0.5,0.5,0.5,0.5,0.5,0.5,0.5,0.5,0.5,0.5,0.5,0.5,0.5,0.5,0.5,0.5,0.5,0.5,0.5,0.5,0.5,0.5,0.5,0.5,0.5,0.5,0.5,0.5,0.5,0.5,0.5,0.5,0.5,0.5,0.5,0.5,0.5,0.5,0.5,0.5,0.5],\"fEYlow\":[70.021862475157,70.021862475157,70.0216838477289,69.6960027464547,64.5904771836801,52.5713852456565,39.5386019788129,28.989648208432,21.3842349884009,16.1233466554536,12.5508306356982,10.161912867969,8.37369563776368,7.08387822421755,6.0268298508264,5.26234640355141,4.66514609506461,4.14858355619106,3.77940711740616,3.4142756504725,3.06689950163074,2.78475164648688,2.55030602242097,2.31372910198042,2.14543091302942,1.96911677315128,1.84448478306331,1.70347050021602,1.63605353783901,1.54967718420977,1.50878138999619,1.4146552510713,1.30424769789946,1.26530612244898,1.2251273850248,1.19410646680303,1.16225788815732,1.0957872456048,1.02501511046247,1.00031232107367,0.974983847408359,0.962069583873698,0.880615792080259,0.851735250108008,0.806477576129471,0.741851472216971,0.6894176900498,0.671029904595397,0.63265306122449,0.59179274994894,0.5478936228024,0.524568206637844,0.524568206637844,0.524568206637844,0.41846066654593,0.41846066654593,0.353663812767824,0.316326530612245,0.316326530612245,0.316326530612245,0.316326530612245,0.316326530612245,0.316326530612245,0.316326530612245,0.316326530612245,0.316326530612245,0.316326530612245,0.316326530612245,0.316326530612245,0.316326530612245,0.316326530612245,0.316326530612245,0.316326530612245,0.316326530612245,0.316326530612245,0.316326530612245,0.316326530612245,0.2739468114012,0.2739468114012,0.2739468114012,0.2739468114012,0.2739468114012,0.2739468114012,0.2739468114012,0.2739468114012,0.2739468114012,0.2739468114012,0.2739468114012,0.2739468114012,0.2739468114012,0.223676634865132,0.223676634865132,0.223676634865132,0.223676634865132,0.223676634865132,0.223676634865132,0.223676634865132,0.158163265306122,0.158163265306122,0.158163265306122],\"fEYhigh\":[70.021862475157,70.021862475157,70.0216838477289,69.6960027464547,64.5904771836801,52.5713852456565,39.5386019788129,28.989648208432,21.3842349884009,16.1233466554536,12.5508306356982,10.161912867969,8.37369563776368,7.08387822421755,6.0268298508264,5.26234640355141,4.66514609506461,4.14858355619106,3.77940711740616,3.4142756504725,3.06689950163074,2.78475164648688,2.55030602242097,2.31372910198042,2.14543091302942,1.96911677315128,1.84448478306331,1.70347050021602,1.63605353783901,1.54967718420977,1.50878138999619,1.4146552510713,1.30424769789946,1.26530612244898,1.2251273850248,1.19410646680303,1.16225788815732,1.0957872456048,1.02501511046247,1.00031232107367,0.974983847408359,0.962069583873698,0.880615792080259,0.851735250108008,0.806477576129471,0.741851472216971,0.6894176900498,0.671029904595397,0.63265306122449,0.59179274994894,0.5478936228024,0.524568206637844,0.524568206637844,0.524568206637844,0.41846066654593,0.41846066654593,0.353663812767824,0.316326530612245,0.316326530612245,0.316326530612245,0.316326530612245,0.316326530612245,0.316326530612245,0.316326530612245,0.316326530612245,0.316326530612245,0.316326530612245,0.316326530612245,0.316326530612245,0.316326530612245,0.316326530612245,0.316326530612245,0.316326530612245,0.316326530612245,0.316326530612245,0.316326530612245,0.316326530612245,0.2739468114012,0.2739468114012,0.2739468114012,0.2739468114012,0.2739468114012,0.2739468114012,0.2739468114012,0.2739468114012,0.2739468114012,0.2739468114012,0.2739468114012,0.2739468114012,0.2739468114012,0.223676634865132,0.223676634865132,0.223676634865132,0.223676634865132,0.223676634865132,0.223676634865132,0.223676634865132,0.158163265306122,0.158163265306122,0.158163265306122]},{\"_typename\":\"TLatex\",\"fUniqueID\":0,\"fBits\":50348040,\"fName\":\"\",\"fTitle\":\"PU200, EG, hwQual 5, 1.52 < |#eta^{L1}| <= 2.4\",\"fTextAngle\":0,\"fTextSize\":0.03,\"fTextAlign\":11,\"fTextColor\":1,\"fTextFont\":62,\"fX\":0.15,\"fY\":0.85,\"fLineColor\":1,\"fLineStyle\":1,\"fLineWidth\":2,\"fLimitFactorSize\":3,\"fOriginSize\":0.04},{\"_typename\":\"TLatex\",\"fUniqueID\":0,\"fBits\":50331656,\"fName\":\"\",\"fTitle\":\"\",\"fTextAngle\":0,\"fTextSize\":0.03,\"fTextAlign\":11,\"fTextColor\":1,\"fTextFont\":62,\"fX\":0,\"fY\":0,\"fLineColor\":1,\"fLineStyle\":1,\"fLineWidth\":2,\"fLimitFactorSize\":3,\"fOriginSize\":0.04}],\"opt\":[\"\",\"pa\",\"same\",\"same\"]},\"fExecs\":null,\"fName\":\"c_f87a86\",\"fTitle\":\"c_f87a86\",\"fNumPaletteColor\":0,\"fNextPaletteColor\":0,\"fDISPLAY\":\"$DISPLAY\",\"fDoubleBuffer\":0,\"fRetained\":true,\"fXsizeUser\":0,\"fYsizeUser\":0,\"fXsizeReal\":20,\"fYsizeReal\":15,\"fWindowTopX\":0,\"fWindowTopY\":0,\"fWindowWidth\":0,\"fWindowHeight\":0,\"fCw\":796,\"fCh\":572,\"fCatt\":{\"_typename\":\"TAttCanvas\",\"fXBetween\":2,\"fYBetween\":2,\"fTitleFromTop\":1.2,\"fXdate\":0.2,\"fYdate\":0.3,\"fAdate\":1},\"kMoveOpaque\":true,\"kResizeOpaque\":true,\"fHighLightColor\":2,\"fBatch\":true,\"kShowEventStatus\":false,\"kAutoExec\":true,\"kMenuBar\":true});\n",
       "       Core.draw(\"root_plot_30\", obj, \"\");\n",
       "     }\n",
       " );\n",
       "</script>\n"
      ],
      "text/plain": [
       "<IPython.core.display.HTML object>"
      ]
     },
     "metadata": {},
     "output_type": "display_data"
    },
    {
     "data": {
      "text/html": [
       "\n",
       "<div id=\"root_plot_31\"\n",
       "     style=\"width: 796px; height: 572px\">\n",
       "</div>\n",
       "\n",
       "<script>\n",
       " requirejs.config({\n",
       "     paths: {\n",
       "       'JSRootCore' : 'https://root.cern.ch/js/notebook//scripts/JSRootCore',\n",
       "     }\n",
       "   });\n",
       " require(['JSRootCore'],\n",
       "     function(Core) {\n",
       "       var obj = Core.JSONR_unref({\"_typename\":\"TCanvas\",\"fUniqueID\":0,\"fBits\":53673992,\"fLineColor\":1,\"fLineStyle\":1,\"fLineWidth\":1,\"fFillColor\":0,\"fFillStyle\":1001,\"fLeftMargin\":0.13,\"fRightMargin\":0.3,\"fBottomMargin\":0.13,\"fTopMargin\":0.1,\"fXfile\":2,\"fYfile\":2,\"fAfile\":1,\"fXstat\":0.99,\"fYstat\":0.99,\"fAstat\":2,\"fFrameFillColor\":0,\"fFrameLineColor\":1,\"fFrameFillStyle\":1001,\"fFrameLineStyle\":1,\"fFrameLineWidth\":1,\"fFrameBorderSize\":1,\"fFrameBorderMode\":0,\"fX1\":-27.6901255526695,\"fY1\":-0.776971158114093,\"fX2\":185.310848049925,\"fY2\":5.19973014378258,\"fXtoAbsPixelk\":103.480046204376,\"fXtoPixelk\":103.480046204376,\"fXtoPixel\":3.73707212007929,\"fYtoAbsPixelk\":497.640051065433,\"fYtoPixelk\":497.640051065433,\"fYtoPixel\":-95.7049668549571,\"fUtoAbsPixelk\":5e-5,\"fUtoPixelk\":5e-5,\"fUtoPixel\":796,\"fVtoAbsPixelk\":572.00005,\"fVtoPixelk\":572,\"fVtoPixel\":-572,\"fAbsPixeltoXk\":-27.6901255526695,\"fPixeltoXk\":-27.6901255526695,\"fPixeltoX\":0.267589162817329,\"fAbsPixeltoYk\":5.19973014378258,\"fPixeltoYk\":-0.776971158114093,\"fPixeltoY\":-0.0104487784998194,\"fXlowNDC\":0,\"fYlowNDC\":0,\"fXUpNDC\":0,\"fYUpNDC\":0,\"fWNDC\":1,\"fHNDC\":1,\"fAbsXlowNDC\":0,\"fAbsYlowNDC\":0,\"fAbsWNDC\":1,\"fAbsHNDC\":1,\"fUxmin\":0,\"fUymin\":0,\"fUxmax\":121.410553429977,\"fUymax\":4.60205999132796,\"fTheta\":30,\"fPhi\":30,\"fAspectRatio\":0,\"fNumber\":0,\"fTickx\":0,\"fTicky\":0,\"fLogx\":0,\"fLogy\":1,\"fLogz\":0,\"fPadPaint\":0,\"fCrosshair\":0,\"fCrosshairPos\":0,\"fBorderSize\":2,\"fBorderMode\":0,\"fModified\":false,\"fGridx\":true,\"fGridy\":true,\"fAbsCoord\":false,\"fEditable\":true,\"fFixedAspectRatio\":false,\"fPrimitives\":{\"_typename\":\"TList\",\"name\":\"TList\",\"arr\":[{\"_typename\":\"TFrame\",\"fUniqueID\":0,\"fBits\":50331656,\"fLineColor\":1,\"fLineStyle\":1,\"fLineWidth\":1,\"fFillColor\":0,\"fFillStyle\":1001,\"fX1\":0,\"fY1\":0,\"fX2\":121.410553429977,\"fY2\":4.60205999132796,\"fBorderSize\":1,\"fBorderMode\":0},{\"_typename\":\"TGraphAsymmErrors\",\"fUniqueID\":0,\"fBits\":50332680,\"fName\":\"7e271f\",\"fTitle\":\";; rate [kHz]\",\"fLineColor\":1,\"fLineStyle\":1,\"fLineWidth\":1,\"fFillColor\":0,\"fFillStyle\":1001,\"fMarkerColor\":1,\"fMarkerStyle\":8,\"fMarkerSize\":0.5,\"fNpoints\":100,\"fX\":[7.98099333619706,9.01707745092414,10.0531615656512,11.0892456803783,12.1253297951054,13.1614139098325,14.1974980245596,15.2335821392867,16.2696662540138,17.3057503687409,18.3418344834679,19.377918598195,20.4140027129221,21.4500868276492,22.4861709423763,23.5222550571034,24.5583391718305,25.5944232865576,26.6305074012846,27.6665915160117,28.7026756307388,29.7387597454659,30.774843860193,31.8109279749201,32.8470120896472,33.8830962043743,34.9191803191014,35.9552644338284,36.9913485485555,38.0274326632826,39.0635167780097,40.0996008927368,41.1356850074639,42.171769122191,43.2078532369181,44.2439373516451,45.2800214663722,46.3161055810993,47.3521896958264,48.3882738105535,49.4243579252806,50.4604420400077,51.4965261547348,52.5326102694619,53.5686943841889,54.604778498916,55.6408626136431,56.6769467283702,57.7130308430973,58.7491149578244,59.7851990725515,60.8212831872786,61.8573673020056,62.8934514167327,63.9295355314598,64.9656196461869,66.001703760914,67.0377878756411,68.0738719903682,69.1099561050953,70.1460402198224,71.1821243345494,72.2182084492765,73.2542925640036,74.2903766787307,75.3264607934578,76.3625449081849,77.398629022912,78.4347131376391,79.4707972523662,80.5068813670932,81.5429654818203,82.5790495965474,83.6151337112745,84.6512178260016,85.6873019407287,86.7233860554558,87.7594701701829,88.7955542849099,89.831638399637,90.8677225143641,91.9038066290912,92.9398907438183,93.9759748585454,95.0120589732725,96.0481430879996,97.0842272027267,98.1203113174537,99.1563954321808,100.192479546908,101.228563661635,102.264647776362,103.300731891089,104.336816005816,105.372900120543,106.40898423527,107.445068349998,108.481152464725,109.517236579452,110.553320694179],\"fY\":[31000,31000,30999.841796875,30712.142578125,26377.361328125,17474.03515625,9884.0966796875,5313.4951171875,2891.224609375,1643.63269042969,995.9541015625,652.89794921875,443.331634521484,317.275512695312,229.653060913086,175.086730957031,137.602035522461,108.816329956055,90.3112258911133,73.7040786743164,59.4693870544434,49.0306129455566,41.1224479675293,33.8469390869141,29.1020412445068,24.5153064727783,21.5102043151855,18.3469390869141,16.923469543457,15.1836738586426,14.3928575515747,12.6530609130859,10.7551021575928,10.1224489212036,9.48979568481445,9.01530647277832,8.54081630706787,7.59183692932129,6.64285707473755,6.32653045654297,6.01020431518555,5.85204076766968,4.9030613899231,4.58673477172852,4.11224508285522,3.47959184646606,3.00510215759277,2.84693884849548,2.5306122303009,2.21428561210632,1.89795923233032,1.73979592323303,1.73979592323303,1.73979592323303,1.10714280605316,1.10714280605316,0.790816307067871,0.632653057575226,0.632653057575226,0.632653057575226,0.632653057575226,0.632653057575226,0.632653057575226,0.632653057575226,0.632653057575226,0.632653057575226,0.632653057575226,0.632653057575226,0.632653057575226,0.632653057575226,0.632653057575226,0.632653057575226,0.632653057575226,0.632653057575226,0.632653057575226,0.632653057575226,0.632653057575226,0.474489808082581,0.474489808082581,0.474489808082581,0.474489808082581,0.474489808082581,0.474489808082581,0.474489808082581,0.474489808082581,0.474489808082581,0.474489808082581,0.474489808082581,0.474489808082581,0.474489808082581,0.316326528787613,0.316326528787613,0.316326528787613,0.316326528787613,0.316326528787613,0.316326528787613,0.316326528787613,0.158163264393806,0.158163264393806,0.158163264393806],\"fFunctions\":{\"_typename\":\"TList\",\"name\":\"TList\",\"arr\":[],\"opt\":[]},\"fHistogram\":{\"_typename\":\"TH1F\",\"fUniqueID\":0,\"fBits\":50332168,\"fName\":\"7e271f\",\"fTitle\":\"\",\"fLineColor\":602,\"fLineStyle\":1,\"fLineWidth\":1,\"fFillColor\":0,\"fFillStyle\":1001,\"fMarkerColor\":1,\"fMarkerStyle\":1,\"fMarkerSize\":1,\"fNcells\":102,\"fXaxis\":{\"_typename\":\"TAxis\",\"fUniqueID\":0,\"fBits\":50331656,\"fName\":\"xaxis\",\"fTitle\":\"\",\"fNdivisions\":510,\"fAxisColor\":1,\"fLabelColor\":1,\"fLabelFont\":42,\"fLabelOffset\":0.005,\"fLabelSize\":0.035,\"fTickLength\":0.03,\"fTitleOffset\":1.4,\"fTitleSize\":0.035,\"fTitleColor\":1,\"fTitleFont\":42,\"fNbins\":100,\"fXmin\":0,\"fXmax\":121.410553429977,\"fXbins\":[],\"fFirst\":0,\"fLast\":0,\"fBits2\":0,\"fTimeDisplay\":false,\"fTimeFormat\":\"\",\"fLabels\":null,\"fModLabs\":null},\"fYaxis\":{\"_typename\":\"TAxis\",\"fUniqueID\":0,\"fBits\":50331656,\"fName\":\"yaxis\",\"fTitle\":\" rate [kHz]\",\"fNdivisions\":510,\"fAxisColor\":1,\"fLabelColor\":1,\"fLabelFont\":42,\"fLabelOffset\":0.005,\"fLabelSize\":0.035,\"fTickLength\":0.03,\"fTitleOffset\":0,\"fTitleSize\":0.035,\"fTitleColor\":1,\"fTitleFont\":42,\"fNbins\":1,\"fXmin\":1,\"fXmax\":40000,\"fXbins\":[],\"fFirst\":0,\"fLast\":0,\"fBits2\":0,\"fTimeDisplay\":false,\"fTimeFormat\":\"\",\"fLabels\":null,\"fModLabs\":null},\"fZaxis\":{\"_typename\":\"TAxis\",\"fUniqueID\":0,\"fBits\":50331648,\"fName\":\"zaxis\",\"fTitle\":\"\",\"fNdivisions\":510,\"fAxisColor\":1,\"fLabelColor\":1,\"fLabelFont\":42,\"fLabelOffset\":0.005,\"fLabelSize\":0.035,\"fTickLength\":0.03,\"fTitleOffset\":1,\"fTitleSize\":0.035,\"fTitleColor\":1,\"fTitleFont\":42,\"fNbins\":1,\"fXmin\":0,\"fXmax\":1,\"fXbins\":[],\"fFirst\":0,\"fLast\":0,\"fBits2\":0,\"fTimeDisplay\":false,\"fTimeFormat\":\"\",\"fLabels\":null,\"fModLabs\":null},\"fBarOffset\":0,\"fBarWidth\":1000,\"fEntries\":0,\"fTsumw\":0,\"fTsumw2\":0,\"fTsumwx\":0,\"fTsumwx2\":0,\"fMaximum\":40000,\"fMinimum\":1,\"fNormFactor\":0,\"fContour\":[],\"fSumw2\":[],\"fOption\":\"\",\"fFunctions\":{\"_typename\":\"TList\",\"name\":\"TList\",\"arr\":[],\"opt\":[]},\"fBufferSize\":0,\"fBuffer\":[],\"fBinStatErrOpt\":0,\"fStatOverflows\":2,\"fArray\":[0,0,0,0,0,0,0,0,0,0,0,0,0,0,0,0,0,0,0,0,0,0,0,0,0,0,0,0,0,0,0,0,0,0,0,0,0,0,0,0,0,0,0,0,0,0,0,0,0,0,0,0,0,0,0,0,0,0,0,0,0,0,0,0,0,0,0,0,0,0,0,0,0,0,0,0,0,0,0,0,0,0,0,0,0,0,0,0,0,0,0,0,0,0,0,0,0,0,0,0,0,0]},\"fMinimum\":-1111,\"fMaximum\":-1111,\"fEXlow\":[0.5,0.5,0.5,0.5,0.5,0.5,0.5,0.5,0.5,0.5,0.5,0.5,0.5,0.5,0.5,0.5,0.5,0.5,0.5,0.5,0.5,0.5,0.5,0.5,0.5,0.5,0.5,0.5,0.5,0.5,0.5,0.5,0.5,0.5,0.5,0.5,0.5,0.5,0.5,0.5,0.5,0.5,0.5,0.5,0.5,0.5,0.5,0.5,0.5,0.5,0.5,0.5,0.5,0.5,0.5,0.5,0.5,0.5,0.5,0.5,0.5,0.5,0.5,0.5,0.5,0.5,0.5,0.5,0.5,0.5,0.5,0.5,0.5,0.5,0.5,0.5,0.5,0.5,0.5,0.5,0.5,0.5,0.5,0.5,0.5,0.5,0.5,0.5,0.5,0.5,0.5,0.5,0.5,0.5,0.5,0.5,0.5,0.5,0.5,0.5],\"fEXhigh\":[0.5,0.5,0.5,0.5,0.5,0.5,0.5,0.5,0.5,0.5,0.5,0.5,0.5,0.5,0.5,0.5,0.5,0.5,0.5,0.5,0.5,0.5,0.5,0.5,0.5,0.5,0.5,0.5,0.5,0.5,0.5,0.5,0.5,0.5,0.5,0.5,0.5,0.5,0.5,0.5,0.5,0.5,0.5,0.5,0.5,0.5,0.5,0.5,0.5,0.5,0.5,0.5,0.5,0.5,0.5,0.5,0.5,0.5,0.5,0.5,0.5,0.5,0.5,0.5,0.5,0.5,0.5,0.5,0.5,0.5,0.5,0.5,0.5,0.5,0.5,0.5,0.5,0.5,0.5,0.5,0.5,0.5,0.5,0.5,0.5,0.5,0.5,0.5,0.5,0.5,0.5,0.5,0.5,0.5,0.5,0.5,0.5,0.5,0.5,0.5],\"fEYlow\":[70.021862475157,70.021862475157,70.0216838477289,69.6960027464547,64.5904771836801,52.5713852456565,39.5386019788129,28.989648208432,21.3842349884009,16.1233466554536,12.5508306356982,10.161912867969,8.37369563776368,7.08387822421755,6.0268298508264,5.26234640355141,4.66514609506461,4.14858355619106,3.77940711740616,3.4142756504725,3.06689950163074,2.78475164648688,2.55030602242097,2.31372910198042,2.14543091302942,1.96911677315128,1.84448478306331,1.70347050021602,1.63605353783901,1.54967718420977,1.50878138999619,1.4146552510713,1.30424769789946,1.26530612244898,1.2251273850248,1.19410646680303,1.16225788815732,1.0957872456048,1.02501511046247,1.00031232107367,0.974983847408359,0.962069583873698,0.880615792080259,0.851735250108008,0.806477576129471,0.741851472216971,0.6894176900498,0.671029904595397,0.63265306122449,0.59179274994894,0.5478936228024,0.524568206637844,0.524568206637844,0.524568206637844,0.41846066654593,0.41846066654593,0.353663812767824,0.316326530612245,0.316326530612245,0.316326530612245,0.316326530612245,0.316326530612245,0.316326530612245,0.316326530612245,0.316326530612245,0.316326530612245,0.316326530612245,0.316326530612245,0.316326530612245,0.316326530612245,0.316326530612245,0.316326530612245,0.316326530612245,0.316326530612245,0.316326530612245,0.316326530612245,0.316326530612245,0.2739468114012,0.2739468114012,0.2739468114012,0.2739468114012,0.2739468114012,0.2739468114012,0.2739468114012,0.2739468114012,0.2739468114012,0.2739468114012,0.2739468114012,0.2739468114012,0.2739468114012,0.223676634865132,0.223676634865132,0.223676634865132,0.223676634865132,0.223676634865132,0.223676634865132,0.223676634865132,0.158163265306122,0.158163265306122,0.158163265306122],\"fEYhigh\":[70.021862475157,70.021862475157,70.0216838477289,69.6960027464547,64.5904771836801,52.5713852456565,39.5386019788129,28.989648208432,21.3842349884009,16.1233466554536,12.5508306356982,10.161912867969,8.37369563776368,7.08387822421755,6.0268298508264,5.26234640355141,4.66514609506461,4.14858355619106,3.77940711740616,3.4142756504725,3.06689950163074,2.78475164648688,2.55030602242097,2.31372910198042,2.14543091302942,1.96911677315128,1.84448478306331,1.70347050021602,1.63605353783901,1.54967718420977,1.50878138999619,1.4146552510713,1.30424769789946,1.26530612244898,1.2251273850248,1.19410646680303,1.16225788815732,1.0957872456048,1.02501511046247,1.00031232107367,0.974983847408359,0.962069583873698,0.880615792080259,0.851735250108008,0.806477576129471,0.741851472216971,0.6894176900498,0.671029904595397,0.63265306122449,0.59179274994894,0.5478936228024,0.524568206637844,0.524568206637844,0.524568206637844,0.41846066654593,0.41846066654593,0.353663812767824,0.316326530612245,0.316326530612245,0.316326530612245,0.316326530612245,0.316326530612245,0.316326530612245,0.316326530612245,0.316326530612245,0.316326530612245,0.316326530612245,0.316326530612245,0.316326530612245,0.316326530612245,0.316326530612245,0.316326530612245,0.316326530612245,0.316326530612245,0.316326530612245,0.316326530612245,0.316326530612245,0.2739468114012,0.2739468114012,0.2739468114012,0.2739468114012,0.2739468114012,0.2739468114012,0.2739468114012,0.2739468114012,0.2739468114012,0.2739468114012,0.2739468114012,0.2739468114012,0.2739468114012,0.223676634865132,0.223676634865132,0.223676634865132,0.223676634865132,0.223676634865132,0.223676634865132,0.223676634865132,0.158163265306122,0.158163265306122,0.158163265306122]},{\"_typename\":\"TLatex\",\"fUniqueID\":0,\"fBits\":50348040,\"fName\":\"\",\"fTitle\":\"PU200, EG, hwQual 5, 1.52 < |#eta^{L1}| <= 2.4\",\"fTextAngle\":0,\"fTextSize\":0.03,\"fTextAlign\":11,\"fTextColor\":1,\"fTextFont\":62,\"fX\":0.15,\"fY\":0.85,\"fLineColor\":1,\"fLineStyle\":1,\"fLineWidth\":2,\"fLimitFactorSize\":3,\"fOriginSize\":0.04},{\"_typename\":\"TLatex\",\"fUniqueID\":0,\"fBits\":50331656,\"fName\":\"\",\"fTitle\":\"\",\"fTextAngle\":0,\"fTextSize\":0.03,\"fTextAlign\":11,\"fTextColor\":1,\"fTextFont\":62,\"fX\":0,\"fY\":0,\"fLineColor\":1,\"fLineStyle\":1,\"fLineWidth\":2,\"fLimitFactorSize\":3,\"fOriginSize\":0.04}],\"opt\":[\"\",\"pa\",\"same\",\"same\"]},\"fExecs\":null,\"fName\":\"c_e6a9dd\",\"fTitle\":\"c_e6a9dd\",\"fNumPaletteColor\":0,\"fNextPaletteColor\":0,\"fDISPLAY\":\"$DISPLAY\",\"fDoubleBuffer\":0,\"fRetained\":true,\"fXsizeUser\":0,\"fYsizeUser\":0,\"fXsizeReal\":20,\"fYsizeReal\":15,\"fWindowTopX\":0,\"fWindowTopY\":0,\"fWindowWidth\":0,\"fWindowHeight\":0,\"fCw\":796,\"fCh\":572,\"fCatt\":{\"_typename\":\"TAttCanvas\",\"fXBetween\":2,\"fYBetween\":2,\"fTitleFromTop\":1.2,\"fXdate\":0.2,\"fYdate\":0.3,\"fAdate\":1},\"kMoveOpaque\":true,\"kResizeOpaque\":true,\"fHighLightColor\":2,\"fBatch\":true,\"kShowEventStatus\":false,\"kAutoExec\":true,\"kMenuBar\":true});\n",
       "       Core.draw(\"root_plot_31\", obj, \"\");\n",
       "     }\n",
       " );\n",
       "</script>\n"
      ],
      "text/plain": [
       "<IPython.core.display.HTML object>"
      ]
     },
     "metadata": {},
     "output_type": "display_data"
    },
    {
     "data": {
      "text/html": [
       "\n",
       "<div id=\"root_plot_32\"\n",
       "     style=\"width: 796px; height: 572px\">\n",
       "</div>\n",
       "\n",
       "<script>\n",
       " requirejs.config({\n",
       "     paths: {\n",
       "       'JSRootCore' : 'https://root.cern.ch/js/notebook//scripts/JSRootCore',\n",
       "     }\n",
       "   });\n",
       " require(['JSRootCore'],\n",
       "     function(Core) {\n",
       "       var obj = Core.JSONR_unref({\"_typename\":\"TCanvas\",\"fUniqueID\":0,\"fBits\":53673992,\"fLineColor\":1,\"fLineStyle\":1,\"fLineWidth\":1,\"fFillColor\":0,\"fFillStyle\":1001,\"fLeftMargin\":0.13,\"fRightMargin\":0.3,\"fBottomMargin\":0.13,\"fTopMargin\":0.1,\"fXfile\":2,\"fYfile\":2,\"fAfile\":1,\"fXstat\":0.99,\"fYstat\":0.99,\"fAstat\":2,\"fFrameFillColor\":0,\"fFrameLineColor\":1,\"fFrameFillStyle\":1001,\"fFrameLineStyle\":1,\"fFrameLineWidth\":1,\"fFrameBorderSize\":1,\"fFrameBorderMode\":0,\"fX1\":-37.8684203921923,\"fY1\":-0.776971158114093,\"fX2\":172.657898039039,\"fY2\":5.19973014378258,\"fXtoAbsPixelk\":143.180545706201,\"fXtoPixelk\":143.180545706201,\"fXtoPixel\":3.7809999525547,\"fYtoAbsPixelk\":497.640051065433,\"fYtoPixelk\":497.640051065433,\"fYtoPixel\":-95.7049668549571,\"fUtoAbsPixelk\":5e-5,\"fUtoPixelk\":5e-5,\"fUtoPixel\":796,\"fVtoAbsPixelk\":572.00005,\"fVtoPixelk\":572,\"fVtoPixel\":-572,\"fAbsPixeltoXk\":-37.8684203921923,\"fPixeltoXk\":-37.8684203921923,\"fPixeltoX\":0.264480299536722,\"fAbsPixeltoYk\":5.19973014378258,\"fPixeltoYk\":-0.776971158114093,\"fPixeltoY\":-0.0104487784998194,\"fXlowNDC\":0,\"fYlowNDC\":0,\"fXUpNDC\":0,\"fYUpNDC\":0,\"fWNDC\":1,\"fHNDC\":1,\"fAbsXlowNDC\":0,\"fAbsYlowNDC\":0,\"fAbsWNDC\":1,\"fAbsHNDC\":1,\"fUxmin\":-10.5,\"fUymin\":0,\"fUxmax\":109.5,\"fUymax\":4.60205999132796,\"fTheta\":30,\"fPhi\":30,\"fAspectRatio\":0,\"fNumber\":0,\"fTickx\":0,\"fTicky\":0,\"fLogx\":0,\"fLogy\":1,\"fLogz\":0,\"fPadPaint\":0,\"fCrosshair\":0,\"fCrosshairPos\":0,\"fBorderSize\":2,\"fBorderMode\":0,\"fModified\":false,\"fGridx\":true,\"fGridy\":true,\"fAbsCoord\":false,\"fEditable\":true,\"fFixedAspectRatio\":false,\"fPrimitives\":{\"_typename\":\"TList\",\"name\":\"TList\",\"arr\":[{\"_typename\":\"TFrame\",\"fUniqueID\":0,\"fBits\":50331656,\"fLineColor\":1,\"fLineStyle\":1,\"fLineWidth\":1,\"fFillColor\":0,\"fFillStyle\":1001,\"fX1\":-10.5,\"fY1\":0,\"fX2\":109.5,\"fY2\":4.60205999132796,\"fBorderSize\":1,\"fBorderMode\":0},{\"_typename\":\"TGraphAsymmErrors\",\"fUniqueID\":0,\"fBits\":50332680,\"fName\":\"8fa18e\",\"fTitle\":\";; rate [kHz]\",\"fLineColor\":1,\"fLineStyle\":1,\"fLineWidth\":1,\"fFillColor\":0,\"fFillStyle\":1001,\"fMarkerColor\":1,\"fMarkerStyle\":8,\"fMarkerSize\":0.5,\"fNpoints\":100,\"fX\":[0,1,2,3,4,5,6,7,8,9,10,11,12,13,14,15,16,17,18,19,20,21,22,23,24,25,26,27,28,29,30,31,32,33,34,35,36,37,38,39,40,41,42,43,44,45,46,47,48,49,50,51,52,53,54,55,56,57,58,59,60,61,62,63,64,65,66,67,68,69,70,71,72,73,74,75,76,77,78,79,80,81,82,83,84,85,86,87,88,89,90,91,92,93,94,95,96,97,98,99],\"fY\":[1712.75,1242.53063964844,626.326538085938,408.85205078125,322.494903564453,271.566314697266,233.607147216797,198.494903564453,164.01530456543,136.811218261719,106.918365478516,83.0357131958008,64.8469390869141,49.6632652282715,38.1173477172852,31.6326522827148,27.0459175109863,23.0918369293213,19.4540824890137,16.7653064727783,14.2346935272217,12.1785717010498,10.9132652282715,8.85714244842529,7.90816307067871,6.80102062225342,5.85204076766968,5.21938753128052,4.74489784240723,4.58673477172852,4.42857122421265,3.95408153533936,3.32142853736877,3.32142853736877,3.32142853736877,3.32142853736877,3.00510215759277,2.68877553939819,2.21428561210632,2.21428561210632,2.05612254142761,2.05612254142761,1.73979592323303,1.58163261413574,1.58163261413574,1.58163261413574,1.42346942424774,1.26530611515045,1.10714280605316,1.10714280605316,1.10714280605316,1.10714280605316,1.10714280605316,1.10714280605316,0.948979616165161,0.948979616165161,0.632653057575226,0.474489808082581,0.474489808082581,0.474489808082581,0.474489808082581,0.474489808082581,0.474489808082581,0.474489808082581,0.474489808082581,0.474489808082581,0.474489808082581,0.474489808082581,0.474489808082581,0.474489808082581,0.474489808082581,0.474489808082581,0.474489808082581,0.474489808082581,0.474489808082581,0.474489808082581,0.474489808082581,0.316326528787613,0.316326528787613,0.316326528787613,0.316326528787613,0.316326528787613,0.316326528787613,0.316326528787613,0.316326528787613,0.316326528787613,0.316326528787613,0.316326528787613,0.316326528787613,0.316326528787613,0.158163264393806,0.158163264393806,0.158163264393806,0.158163264393806,0.158163264393806,0.158163264393806,0.158163264393806,0,0,0],\"fFunctions\":{\"_typename\":\"TList\",\"name\":\"TList\",\"arr\":[],\"opt\":[]},\"fHistogram\":{\"_typename\":\"TH1F\",\"fUniqueID\":0,\"fBits\":50332168,\"fName\":\"8fa18e\",\"fTitle\":\"\",\"fLineColor\":602,\"fLineStyle\":1,\"fLineWidth\":1,\"fFillColor\":0,\"fFillStyle\":1001,\"fMarkerColor\":1,\"fMarkerStyle\":1,\"fMarkerSize\":1,\"fNcells\":102,\"fXaxis\":{\"_typename\":\"TAxis\",\"fUniqueID\":0,\"fBits\":50331656,\"fName\":\"xaxis\",\"fTitle\":\"\",\"fNdivisions\":510,\"fAxisColor\":1,\"fLabelColor\":1,\"fLabelFont\":42,\"fLabelOffset\":0.005,\"fLabelSize\":0.035,\"fTickLength\":0.03,\"fTitleOffset\":1.4,\"fTitleSize\":0.035,\"fTitleColor\":1,\"fTitleFont\":42,\"fNbins\":100,\"fXmin\":-10.5,\"fXmax\":109.5,\"fXbins\":[],\"fFirst\":0,\"fLast\":0,\"fBits2\":0,\"fTimeDisplay\":false,\"fTimeFormat\":\"\",\"fLabels\":null,\"fModLabs\":null},\"fYaxis\":{\"_typename\":\"TAxis\",\"fUniqueID\":0,\"fBits\":50331656,\"fName\":\"yaxis\",\"fTitle\":\" rate [kHz]\",\"fNdivisions\":510,\"fAxisColor\":1,\"fLabelColor\":1,\"fLabelFont\":42,\"fLabelOffset\":0.005,\"fLabelSize\":0.035,\"fTickLength\":0.03,\"fTitleOffset\":0,\"fTitleSize\":0.035,\"fTitleColor\":1,\"fTitleFont\":42,\"fNbins\":1,\"fXmin\":1,\"fXmax\":40000,\"fXbins\":[],\"fFirst\":0,\"fLast\":0,\"fBits2\":0,\"fTimeDisplay\":false,\"fTimeFormat\":\"\",\"fLabels\":null,\"fModLabs\":null},\"fZaxis\":{\"_typename\":\"TAxis\",\"fUniqueID\":0,\"fBits\":50331648,\"fName\":\"zaxis\",\"fTitle\":\"\",\"fNdivisions\":510,\"fAxisColor\":1,\"fLabelColor\":1,\"fLabelFont\":42,\"fLabelOffset\":0.005,\"fLabelSize\":0.035,\"fTickLength\":0.03,\"fTitleOffset\":1,\"fTitleSize\":0.035,\"fTitleColor\":1,\"fTitleFont\":42,\"fNbins\":1,\"fXmin\":0,\"fXmax\":1,\"fXbins\":[],\"fFirst\":0,\"fLast\":0,\"fBits2\":0,\"fTimeDisplay\":false,\"fTimeFormat\":\"\",\"fLabels\":null,\"fModLabs\":null},\"fBarOffset\":0,\"fBarWidth\":1000,\"fEntries\":0,\"fTsumw\":0,\"fTsumw2\":0,\"fTsumwx\":0,\"fTsumwx2\":0,\"fMaximum\":40000,\"fMinimum\":1,\"fNormFactor\":0,\"fContour\":[],\"fSumw2\":[],\"fOption\":\"\",\"fFunctions\":{\"_typename\":\"TList\",\"name\":\"TList\",\"arr\":[],\"opt\":[]},\"fBufferSize\":0,\"fBuffer\":[],\"fBinStatErrOpt\":0,\"fStatOverflows\":2,\"fArray\":[0,0,0,0,0,0,0,0,0,0,0,0,0,0,0,0,0,0,0,0,0,0,0,0,0,0,0,0,0,0,0,0,0,0,0,0,0,0,0,0,0,0,0,0,0,0,0,0,0,0,0,0,0,0,0,0,0,0,0,0,0,0,0,0,0,0,0,0,0,0,0,0,0,0,0,0,0,0,0,0,0,0,0,0,0,0,0,0,0,0,0,0,0,0,0,0,0,0,0,0,0,0]},\"fMinimum\":-1111,\"fMaximum\":-1111,\"fEXlow\":[0.5,0.5,0.5,0.5,0.5,0.5,0.5,0.5,0.5,0.5,0.5,0.5,0.5,0.5,0.5,0.5,0.5,0.5,0.5,0.5,0.5,0.5,0.5,0.5,0.5,0.5,0.5,0.5,0.5,0.5,0.5,0.5,0.5,0.5,0.5,0.5,0.5,0.5,0.5,0.5,0.5,0.5,0.5,0.5,0.5,0.5,0.5,0.5,0.5,0.5,0.5,0.5,0.5,0.5,0.5,0.5,0.5,0.5,0.5,0.5,0.5,0.5,0.5,0.5,0.5,0.5,0.5,0.5,0.5,0.5,0.5,0.5,0.5,0.5,0.5,0.5,0.5,0.5,0.5,0.5,0.5,0.5,0.5,0.5,0.5,0.5,0.5,0.5,0.5,0.5,0.5,0.5,0.5,0.5,0.5,0.5,0.5,0.5,0.5,0.5],\"fEXhigh\":[0.5,0.5,0.5,0.5,0.5,0.5,0.5,0.5,0.5,0.5,0.5,0.5,0.5,0.5,0.5,0.5,0.5,0.5,0.5,0.5,0.5,0.5,0.5,0.5,0.5,0.5,0.5,0.5,0.5,0.5,0.5,0.5,0.5,0.5,0.5,0.5,0.5,0.5,0.5,0.5,0.5,0.5,0.5,0.5,0.5,0.5,0.5,0.5,0.5,0.5,0.5,0.5,0.5,0.5,0.5,0.5,0.5,0.5,0.5,0.5,0.5,0.5,0.5,0.5,0.5,0.5,0.5,0.5,0.5,0.5,0.5,0.5,0.5,0.5,0.5,0.5,0.5,0.5,0.5,0.5,0.5,0.5,0.5,0.5,0.5,0.5,0.5,0.5,0.5,0.5,0.5,0.5,0.5,0.5,0.5,0.5,0.5,0.5,0.5,0.5],\"fEYlow\":[16.4588618273883,14.0186553875708,9.95298192651266,8.04147833439737,7.14190773573765,6.55376357151143,6.0784922894678,5.60308854185172,5.09325007991064,4.65172118638199,4.11224489795918,3.62397567713345,3.20256203403477,2.80266020176913,2.45535416114317,2.23676634865132,2.0682530701494,1.91109400602771,1.75411546785047,1.62839048148264,1.50046848161051,1.38787702045488,1.31380275382888,1.18358549989788,1.11838317432566,1.03714588904777,0.962069583873698,0.908578785932035,0.866295881768375,0.851735250108008,0.83692133309186,0.790816326530612,0.724795135426689,0.724795135426689,0.724795135426689,0.724795135426689,0.6894176900498,0.652123848949732,0.59179274994894,0.59179274994894,0.570265762956039,0.570265762956039,0.524568206637844,0.500156160536836,0.500156160536836,0.500156160536836,0.474489795918367,0.447353269730265,0.41846066654593,0.41846066654593,0.41846066654593,0.41846066654593,0.41846066654593,0.41846066654593,0.387419296052441,0.387419296052441,0.316326530612245,0.2739468114012,0.2739468114012,0.2739468114012,0.2739468114012,0.2739468114012,0.2739468114012,0.2739468114012,0.2739468114012,0.2739468114012,0.2739468114012,0.2739468114012,0.2739468114012,0.2739468114012,0.2739468114012,0.2739468114012,0.2739468114012,0.2739468114012,0.2739468114012,0.2739468114012,0.2739468114012,0.223676634865132,0.223676634865132,0.223676634865132,0.223676634865132,0.223676634865132,0.223676634865132,0.223676634865132,0.223676634865132,0.223676634865132,0.223676634865132,0.223676634865132,0.223676634865132,0.223676634865132,0.158163265306122,0.158163265306122,0.158163265306122,0.158163265306122,0.158163265306122,0.158163265306122,0.158163265306122,0,0,0],\"fEYhigh\":[16.4588618273883,14.0186553875708,9.95298192651266,8.04147833439737,7.14190773573765,6.55376357151143,6.0784922894678,5.60308854185172,5.09325007991064,4.65172118638199,4.11224489795918,3.62397567713345,3.20256203403477,2.80266020176913,2.45535416114317,2.23676634865132,2.0682530701494,1.91109400602771,1.75411546785047,1.62839048148264,1.50046848161051,1.38787702045488,1.31380275382888,1.18358549989788,1.11838317432566,1.03714588904777,0.962069583873698,0.908578785932035,0.866295881768375,0.851735250108008,0.83692133309186,0.790816326530612,0.724795135426689,0.724795135426689,0.724795135426689,0.724795135426689,0.6894176900498,0.652123848949732,0.59179274994894,0.59179274994894,0.570265762956039,0.570265762956039,0.524568206637844,0.500156160536836,0.500156160536836,0.500156160536836,0.474489795918367,0.447353269730265,0.41846066654593,0.41846066654593,0.41846066654593,0.41846066654593,0.41846066654593,0.41846066654593,0.387419296052441,0.387419296052441,0.316326530612245,0.2739468114012,0.2739468114012,0.2739468114012,0.2739468114012,0.2739468114012,0.2739468114012,0.2739468114012,0.2739468114012,0.2739468114012,0.2739468114012,0.2739468114012,0.2739468114012,0.2739468114012,0.2739468114012,0.2739468114012,0.2739468114012,0.2739468114012,0.2739468114012,0.2739468114012,0.2739468114012,0.223676634865132,0.223676634865132,0.223676634865132,0.223676634865132,0.223676634865132,0.223676634865132,0.223676634865132,0.223676634865132,0.223676634865132,0.223676634865132,0.223676634865132,0.223676634865132,0.223676634865132,0.158163265306122,0.158163265306122,0.158163265306122,0.158163265306122,0.158163265306122,0.158163265306122,0.158163265306122,0,0,0]},{\"_typename\":\"TLatex\",\"fUniqueID\":0,\"fBits\":50348040,\"fName\":\"\",\"fTitle\":\"PU200, TkEle Ell. match, hwQual 5, 1.52 < |#eta^{L1}| <= 2.4\",\"fTextAngle\":0,\"fTextSize\":0.03,\"fTextAlign\":11,\"fTextColor\":1,\"fTextFont\":62,\"fX\":0.15,\"fY\":0.85,\"fLineColor\":1,\"fLineStyle\":1,\"fLineWidth\":2,\"fLimitFactorSize\":3,\"fOriginSize\":0.04},{\"_typename\":\"TLatex\",\"fUniqueID\":0,\"fBits\":50331656,\"fName\":\"\",\"fTitle\":\"\",\"fTextAngle\":0,\"fTextSize\":0.03,\"fTextAlign\":11,\"fTextColor\":1,\"fTextFont\":62,\"fX\":0,\"fY\":0,\"fLineColor\":1,\"fLineStyle\":1,\"fLineWidth\":2,\"fLimitFactorSize\":3,\"fOriginSize\":0.04}],\"opt\":[\"\",\"pa\",\"same\",\"same\"]},\"fExecs\":null,\"fName\":\"c_888bb1\",\"fTitle\":\"c_888bb1\",\"fNumPaletteColor\":0,\"fNextPaletteColor\":0,\"fDISPLAY\":\"$DISPLAY\",\"fDoubleBuffer\":0,\"fRetained\":true,\"fXsizeUser\":0,\"fYsizeUser\":0,\"fXsizeReal\":20,\"fYsizeReal\":15,\"fWindowTopX\":0,\"fWindowTopY\":0,\"fWindowWidth\":0,\"fWindowHeight\":0,\"fCw\":796,\"fCh\":572,\"fCatt\":{\"_typename\":\"TAttCanvas\",\"fXBetween\":2,\"fYBetween\":2,\"fTitleFromTop\":1.2,\"fXdate\":0.2,\"fYdate\":0.3,\"fAdate\":1},\"kMoveOpaque\":true,\"kResizeOpaque\":true,\"fHighLightColor\":2,\"fBatch\":true,\"kShowEventStatus\":false,\"kAutoExec\":true,\"kMenuBar\":true});\n",
       "       Core.draw(\"root_plot_32\", obj, \"\");\n",
       "     }\n",
       " );\n",
       "</script>\n"
      ],
      "text/plain": [
       "<IPython.core.display.HTML object>"
      ]
     },
     "metadata": {},
     "output_type": "display_data"
    },
    {
     "data": {
      "text/html": [
       "\n",
       "<div id=\"root_plot_33\"\n",
       "     style=\"width: 796px; height: 572px\">\n",
       "</div>\n",
       "\n",
       "<script>\n",
       " requirejs.config({\n",
       "     paths: {\n",
       "       'JSRootCore' : 'https://root.cern.ch/js/notebook//scripts/JSRootCore',\n",
       "     }\n",
       "   });\n",
       " require(['JSRootCore'],\n",
       "     function(Core) {\n",
       "       var obj = Core.JSONR_unref({\"_typename\":\"TCanvas\",\"fUniqueID\":0,\"fBits\":53673992,\"fLineColor\":1,\"fLineStyle\":1,\"fLineWidth\":1,\"fFillColor\":0,\"fFillStyle\":1001,\"fLeftMargin\":0.13,\"fRightMargin\":0.3,\"fBottomMargin\":0.13,\"fTopMargin\":0.1,\"fXfile\":2,\"fYfile\":2,\"fAfile\":1,\"fXstat\":0.99,\"fYstat\":0.99,\"fAstat\":2,\"fFrameFillColor\":0,\"fFrameLineColor\":1,\"fFrameFillStyle\":1001,\"fFrameLineStyle\":1,\"fFrameLineWidth\":1,\"fFrameBorderSize\":1,\"fFrameBorderMode\":0,\"fX1\":-29.0796377050781,\"fY1\":-0.776971158114093,\"fX2\":194.609891308098,\"fY2\":5.19973014378258,\"fXtoAbsPixelk\":103.480046204376,\"fXtoPixelk\":103.480046204376,\"fXtoPixel\":3.55850362559041,\"fYtoAbsPixelk\":497.640051065433,\"fYtoPixelk\":497.640051065433,\"fYtoPixel\":-95.7049668549571,\"fUtoAbsPixelk\":5e-5,\"fUtoPixelk\":5e-5,\"fUtoPixel\":796,\"fVtoAbsPixelk\":572.00005,\"fVtoPixelk\":572,\"fVtoPixel\":-572,\"fAbsPixeltoXk\":-29.0796377050781,\"fPixeltoXk\":-29.0796377050781,\"fPixeltoX\":0.281016996247709,\"fAbsPixeltoYk\":5.19973014378258,\"fPixeltoYk\":-0.776971158114093,\"fPixeltoY\":-0.0104487784998194,\"fXlowNDC\":0,\"fYlowNDC\":0,\"fXUpNDC\":0,\"fYUpNDC\":0,\"fWNDC\":1,\"fHNDC\":1,\"fAbsXlowNDC\":0,\"fAbsYlowNDC\":0,\"fAbsWNDC\":1,\"fAbsHNDC\":1,\"fUxmin\":0,\"fUymin\":0,\"fUxmax\":127.503029937558,\"fUymax\":4.60205999132796,\"fTheta\":30,\"fPhi\":30,\"fAspectRatio\":0,\"fNumber\":0,\"fTickx\":0,\"fTicky\":0,\"fLogx\":0,\"fLogy\":1,\"fLogz\":0,\"fPadPaint\":0,\"fCrosshair\":0,\"fCrosshairPos\":0,\"fBorderSize\":2,\"fBorderMode\":0,\"fModified\":false,\"fGridx\":true,\"fGridy\":true,\"fAbsCoord\":false,\"fEditable\":true,\"fFixedAspectRatio\":false,\"fPrimitives\":{\"_typename\":\"TList\",\"name\":\"TList\",\"arr\":[{\"_typename\":\"TFrame\",\"fUniqueID\":0,\"fBits\":50331656,\"fLineColor\":1,\"fLineStyle\":1,\"fLineWidth\":1,\"fFillColor\":0,\"fFillStyle\":1001,\"fX1\":0,\"fY1\":0,\"fX2\":127.503029937558,\"fY2\":4.60205999132796,\"fBorderSize\":1,\"fBorderMode\":0},{\"_typename\":\"TGraphAsymmErrors\",\"fUniqueID\":0,\"fBits\":50332680,\"fName\":\"5320d5\",\"fTitle\":\";; rate [kHz]\",\"fLineColor\":1,\"fLineStyle\":1,\"fLineWidth\":1,\"fFillColor\":0,\"fFillStyle\":1001,\"fMarkerColor\":1,\"fMarkerStyle\":8,\"fMarkerSize\":0.5,\"fNpoints\":100,\"fX\":[5.39014447697989,6.50596528010733,7.62178608323477,8.73760688636221,9.85342768948965,10.9692484926171,12.0850692957445,13.200890098872,14.3167109019994,15.4325317051269,16.5483525082543,17.6641733113817,18.7799941145092,19.8958149176366,21.0116357207641,22.1274565238915,23.243277327019,24.3590981301464,25.4749189332738,26.5907397364013,27.7065605395287,28.8223813426562,29.9382021457836,31.054022948911,32.1698437520385,33.2856645551659,34.4014853582934,35.5173061614208,36.6331269645483,37.7489477676757,38.8647685708031,39.9805893739306,41.096410177058,42.2122309801855,43.3280517833129,44.4438725864403,45.5596933895678,46.6755141926952,47.7913349958227,48.9071557989501,50.0229766020775,51.138797405205,52.2546182083324,53.3704390114599,54.4862598145873,55.6020806177148,56.7179014208422,57.8337222239696,58.9495430270971,60.0653638302245,61.181184633352,62.2970054364794,63.4128262396069,64.5286470427343,65.6444678458617,66.7602886489892,67.8761094521166,68.9919302552441,70.1077510583715,71.2235718614989,72.3393926646264,73.4552134677538,74.5710342708813,75.6868550740087,76.8026758771362,77.9184966802636,79.034317483391,80.1501382865185,81.2659590896459,82.3817798927734,83.4976006959008,84.6134214990282,85.7292423021557,86.8450631052831,87.9608839084106,89.076704711538,90.1925255146654,91.3083463177929,92.4241671209203,93.5399879240478,94.6558087271752,95.7716295303027,96.8874503334301,98.0032711365575,99.119091939685,100.234912742812,101.35073354594,102.466554349067,103.582375152195,104.698195955322,105.81401675845,106.929837561577,108.045658364705,109.161479167832,110.277299970959,111.393120774087,112.508941577214,113.624762380342,114.740583183469,115.856403986597],\"fY\":[1712.75,1242.53063964844,626.326538085938,408.85205078125,322.494903564453,271.566314697266,233.607147216797,198.494903564453,164.01530456543,136.811218261719,106.918365478516,83.0357131958008,64.8469390869141,49.6632652282715,38.1173477172852,31.6326522827148,27.0459175109863,23.0918369293213,19.4540824890137,16.7653064727783,14.2346935272217,12.1785717010498,10.9132652282715,8.85714244842529,7.90816307067871,6.80102062225342,5.85204076766968,5.21938753128052,4.74489784240723,4.58673477172852,4.42857122421265,3.95408153533936,3.32142853736877,3.32142853736877,3.32142853736877,3.32142853736877,3.00510215759277,2.68877553939819,2.21428561210632,2.21428561210632,2.05612254142761,2.05612254142761,1.73979592323303,1.58163261413574,1.58163261413574,1.58163261413574,1.42346942424774,1.26530611515045,1.10714280605316,1.10714280605316,1.10714280605316,1.10714280605316,1.10714280605316,1.10714280605316,0.948979616165161,0.948979616165161,0.632653057575226,0.474489808082581,0.474489808082581,0.474489808082581,0.474489808082581,0.474489808082581,0.474489808082581,0.474489808082581,0.474489808082581,0.474489808082581,0.474489808082581,0.474489808082581,0.474489808082581,0.474489808082581,0.474489808082581,0.474489808082581,0.474489808082581,0.474489808082581,0.474489808082581,0.474489808082581,0.474489808082581,0.316326528787613,0.316326528787613,0.316326528787613,0.316326528787613,0.316326528787613,0.316326528787613,0.316326528787613,0.316326528787613,0.316326528787613,0.316326528787613,0.316326528787613,0.316326528787613,0.316326528787613,0.158163264393806,0.158163264393806,0.158163264393806,0.158163264393806,0.158163264393806,0.158163264393806,0.158163264393806,0,0,0],\"fFunctions\":{\"_typename\":\"TList\",\"name\":\"TList\",\"arr\":[],\"opt\":[]},\"fHistogram\":{\"_typename\":\"TH1F\",\"fUniqueID\":0,\"fBits\":50332168,\"fName\":\"5320d5\",\"fTitle\":\"\",\"fLineColor\":602,\"fLineStyle\":1,\"fLineWidth\":1,\"fFillColor\":0,\"fFillStyle\":1001,\"fMarkerColor\":1,\"fMarkerStyle\":1,\"fMarkerSize\":1,\"fNcells\":102,\"fXaxis\":{\"_typename\":\"TAxis\",\"fUniqueID\":0,\"fBits\":50331656,\"fName\":\"xaxis\",\"fTitle\":\"\",\"fNdivisions\":510,\"fAxisColor\":1,\"fLabelColor\":1,\"fLabelFont\":42,\"fLabelOffset\":0.005,\"fLabelSize\":0.035,\"fTickLength\":0.03,\"fTitleOffset\":1.4,\"fTitleSize\":0.035,\"fTitleColor\":1,\"fTitleFont\":42,\"fNbins\":100,\"fXmin\":0,\"fXmax\":127.503029937558,\"fXbins\":[],\"fFirst\":0,\"fLast\":0,\"fBits2\":0,\"fTimeDisplay\":false,\"fTimeFormat\":\"\",\"fLabels\":null,\"fModLabs\":null},\"fYaxis\":{\"_typename\":\"TAxis\",\"fUniqueID\":0,\"fBits\":50331656,\"fName\":\"yaxis\",\"fTitle\":\" rate [kHz]\",\"fNdivisions\":510,\"fAxisColor\":1,\"fLabelColor\":1,\"fLabelFont\":42,\"fLabelOffset\":0.005,\"fLabelSize\":0.035,\"fTickLength\":0.03,\"fTitleOffset\":0,\"fTitleSize\":0.035,\"fTitleColor\":1,\"fTitleFont\":42,\"fNbins\":1,\"fXmin\":1,\"fXmax\":40000,\"fXbins\":[],\"fFirst\":0,\"fLast\":0,\"fBits2\":0,\"fTimeDisplay\":false,\"fTimeFormat\":\"\",\"fLabels\":null,\"fModLabs\":null},\"fZaxis\":{\"_typename\":\"TAxis\",\"fUniqueID\":0,\"fBits\":50331648,\"fName\":\"zaxis\",\"fTitle\":\"\",\"fNdivisions\":510,\"fAxisColor\":1,\"fLabelColor\":1,\"fLabelFont\":42,\"fLabelOffset\":0.005,\"fLabelSize\":0.035,\"fTickLength\":0.03,\"fTitleOffset\":1,\"fTitleSize\":0.035,\"fTitleColor\":1,\"fTitleFont\":42,\"fNbins\":1,\"fXmin\":0,\"fXmax\":1,\"fXbins\":[],\"fFirst\":0,\"fLast\":0,\"fBits2\":0,\"fTimeDisplay\":false,\"fTimeFormat\":\"\",\"fLabels\":null,\"fModLabs\":null},\"fBarOffset\":0,\"fBarWidth\":1000,\"fEntries\":0,\"fTsumw\":0,\"fTsumw2\":0,\"fTsumwx\":0,\"fTsumwx2\":0,\"fMaximum\":40000,\"fMinimum\":1,\"fNormFactor\":0,\"fContour\":[],\"fSumw2\":[],\"fOption\":\"\",\"fFunctions\":{\"_typename\":\"TList\",\"name\":\"TList\",\"arr\":[],\"opt\":[]},\"fBufferSize\":0,\"fBuffer\":[],\"fBinStatErrOpt\":0,\"fStatOverflows\":2,\"fArray\":[0,0,0,0,0,0,0,0,0,0,0,0,0,0,0,0,0,0,0,0,0,0,0,0,0,0,0,0,0,0,0,0,0,0,0,0,0,0,0,0,0,0,0,0,0,0,0,0,0,0,0,0,0,0,0,0,0,0,0,0,0,0,0,0,0,0,0,0,0,0,0,0,0,0,0,0,0,0,0,0,0,0,0,0,0,0,0,0,0,0,0,0,0,0,0,0,0,0,0,0,0,0]},\"fMinimum\":-1111,\"fMaximum\":-1111,\"fEXlow\":[0.5,0.5,0.5,0.5,0.5,0.5,0.5,0.5,0.5,0.5,0.5,0.5,0.5,0.5,0.5,0.5,0.5,0.5,0.5,0.5,0.5,0.5,0.5,0.5,0.5,0.5,0.5,0.5,0.5,0.5,0.5,0.5,0.5,0.5,0.5,0.5,0.5,0.5,0.5,0.5,0.5,0.5,0.5,0.5,0.5,0.5,0.5,0.5,0.5,0.5,0.5,0.5,0.5,0.5,0.5,0.5,0.5,0.5,0.5,0.5,0.5,0.5,0.5,0.5,0.5,0.5,0.5,0.5,0.5,0.5,0.5,0.5,0.5,0.5,0.5,0.5,0.5,0.5,0.5,0.5,0.5,0.5,0.5,0.5,0.5,0.5,0.5,0.5,0.5,0.5,0.5,0.5,0.5,0.5,0.5,0.5,0.5,0.5,0.5,0.5],\"fEXhigh\":[0.5,0.5,0.5,0.5,0.5,0.5,0.5,0.5,0.5,0.5,0.5,0.5,0.5,0.5,0.5,0.5,0.5,0.5,0.5,0.5,0.5,0.5,0.5,0.5,0.5,0.5,0.5,0.5,0.5,0.5,0.5,0.5,0.5,0.5,0.5,0.5,0.5,0.5,0.5,0.5,0.5,0.5,0.5,0.5,0.5,0.5,0.5,0.5,0.5,0.5,0.5,0.5,0.5,0.5,0.5,0.5,0.5,0.5,0.5,0.5,0.5,0.5,0.5,0.5,0.5,0.5,0.5,0.5,0.5,0.5,0.5,0.5,0.5,0.5,0.5,0.5,0.5,0.5,0.5,0.5,0.5,0.5,0.5,0.5,0.5,0.5,0.5,0.5,0.5,0.5,0.5,0.5,0.5,0.5,0.5,0.5,0.5,0.5,0.5,0.5],\"fEYlow\":[16.4588618273883,14.0186553875708,9.95298192651266,8.04147833439737,7.14190773573765,6.55376357151143,6.0784922894678,5.60308854185172,5.09325007991064,4.65172118638199,4.11224489795918,3.62397567713345,3.20256203403477,2.80266020176913,2.45535416114317,2.23676634865132,2.0682530701494,1.91109400602771,1.75411546785047,1.62839048148264,1.50046848161051,1.38787702045488,1.31380275382888,1.18358549989788,1.11838317432566,1.03714588904777,0.962069583873698,0.908578785932035,0.866295881768375,0.851735250108008,0.83692133309186,0.790816326530612,0.724795135426689,0.724795135426689,0.724795135426689,0.724795135426689,0.6894176900498,0.652123848949732,0.59179274994894,0.59179274994894,0.570265762956039,0.570265762956039,0.524568206637844,0.500156160536836,0.500156160536836,0.500156160536836,0.474489795918367,0.447353269730265,0.41846066654593,0.41846066654593,0.41846066654593,0.41846066654593,0.41846066654593,0.41846066654593,0.387419296052441,0.387419296052441,0.316326530612245,0.2739468114012,0.2739468114012,0.2739468114012,0.2739468114012,0.2739468114012,0.2739468114012,0.2739468114012,0.2739468114012,0.2739468114012,0.2739468114012,0.2739468114012,0.2739468114012,0.2739468114012,0.2739468114012,0.2739468114012,0.2739468114012,0.2739468114012,0.2739468114012,0.2739468114012,0.2739468114012,0.223676634865132,0.223676634865132,0.223676634865132,0.223676634865132,0.223676634865132,0.223676634865132,0.223676634865132,0.223676634865132,0.223676634865132,0.223676634865132,0.223676634865132,0.223676634865132,0.223676634865132,0.158163265306122,0.158163265306122,0.158163265306122,0.158163265306122,0.158163265306122,0.158163265306122,0.158163265306122,0,0,0],\"fEYhigh\":[16.4588618273883,14.0186553875708,9.95298192651266,8.04147833439737,7.14190773573765,6.55376357151143,6.0784922894678,5.60308854185172,5.09325007991064,4.65172118638199,4.11224489795918,3.62397567713345,3.20256203403477,2.80266020176913,2.45535416114317,2.23676634865132,2.0682530701494,1.91109400602771,1.75411546785047,1.62839048148264,1.50046848161051,1.38787702045488,1.31380275382888,1.18358549989788,1.11838317432566,1.03714588904777,0.962069583873698,0.908578785932035,0.866295881768375,0.851735250108008,0.83692133309186,0.790816326530612,0.724795135426689,0.724795135426689,0.724795135426689,0.724795135426689,0.6894176900498,0.652123848949732,0.59179274994894,0.59179274994894,0.570265762956039,0.570265762956039,0.524568206637844,0.500156160536836,0.500156160536836,0.500156160536836,0.474489795918367,0.447353269730265,0.41846066654593,0.41846066654593,0.41846066654593,0.41846066654593,0.41846066654593,0.41846066654593,0.387419296052441,0.387419296052441,0.316326530612245,0.2739468114012,0.2739468114012,0.2739468114012,0.2739468114012,0.2739468114012,0.2739468114012,0.2739468114012,0.2739468114012,0.2739468114012,0.2739468114012,0.2739468114012,0.2739468114012,0.2739468114012,0.2739468114012,0.2739468114012,0.2739468114012,0.2739468114012,0.2739468114012,0.2739468114012,0.2739468114012,0.223676634865132,0.223676634865132,0.223676634865132,0.223676634865132,0.223676634865132,0.223676634865132,0.223676634865132,0.223676634865132,0.223676634865132,0.223676634865132,0.223676634865132,0.223676634865132,0.223676634865132,0.158163265306122,0.158163265306122,0.158163265306122,0.158163265306122,0.158163265306122,0.158163265306122,0.158163265306122,0,0,0]},{\"_typename\":\"TLatex\",\"fUniqueID\":0,\"fBits\":50348040,\"fName\":\"\",\"fTitle\":\"PU200, TkEle Ell. match, hwQual 5, 1.52 < |#eta^{L1}| <= 2.4\",\"fTextAngle\":0,\"fTextSize\":0.03,\"fTextAlign\":11,\"fTextColor\":1,\"fTextFont\":62,\"fX\":0.15,\"fY\":0.85,\"fLineColor\":1,\"fLineStyle\":1,\"fLineWidth\":2,\"fLimitFactorSize\":3,\"fOriginSize\":0.04},{\"_typename\":\"TLatex\",\"fUniqueID\":0,\"fBits\":50331656,\"fName\":\"\",\"fTitle\":\"\",\"fTextAngle\":0,\"fTextSize\":0.03,\"fTextAlign\":11,\"fTextColor\":1,\"fTextFont\":62,\"fX\":0,\"fY\":0,\"fLineColor\":1,\"fLineStyle\":1,\"fLineWidth\":2,\"fLimitFactorSize\":3,\"fOriginSize\":0.04}],\"opt\":[\"\",\"pa\",\"same\",\"same\"]},\"fExecs\":null,\"fName\":\"c_6cb84e\",\"fTitle\":\"c_6cb84e\",\"fNumPaletteColor\":0,\"fNextPaletteColor\":0,\"fDISPLAY\":\"$DISPLAY\",\"fDoubleBuffer\":0,\"fRetained\":true,\"fXsizeUser\":0,\"fYsizeUser\":0,\"fXsizeReal\":20,\"fYsizeReal\":15,\"fWindowTopX\":0,\"fWindowTopY\":0,\"fWindowWidth\":0,\"fWindowHeight\":0,\"fCw\":796,\"fCh\":572,\"fCatt\":{\"_typename\":\"TAttCanvas\",\"fXBetween\":2,\"fYBetween\":2,\"fTitleFromTop\":1.2,\"fXdate\":0.2,\"fYdate\":0.3,\"fAdate\":1},\"kMoveOpaque\":true,\"kResizeOpaque\":true,\"fHighLightColor\":2,\"fBatch\":true,\"kShowEventStatus\":false,\"kAutoExec\":true,\"kMenuBar\":true});\n",
       "       Core.draw(\"root_plot_33\", obj, \"\");\n",
       "     }\n",
       " );\n",
       "</script>\n"
      ],
      "text/plain": [
       "<IPython.core.display.HTML object>"
      ]
     },
     "metadata": {},
     "output_type": "display_data"
    }
   ],
   "source": [
    "for tp in ['EG', 'TkEleEL']:\n",
    "    for tp_sel in ['EGq5EtaBC']:\n",
    "\n",
    "        hsets, labels, text = hplot.get_histo(histos.RateHistos, sample, 'PU200', tp, tp_sel, None)\n",
    "\n",
    "        draw([his.h_pt_graph('online', 'rate [kHz]', convertRateToGraph) for his in hsets], labels, text=text,  min_y =1, max_y = 40000 ,logy=True)\n",
    "        draw([his.h_pt_graph('offline', 'rate [kHz]', lambda x: convertRateToGraph(x, eval(scaling_params[(scaling_params.pu == 'PU200') & \n",
    "                                                                                                  (scaling_params.tp == tp) & \n",
    "                                                                                                  (scaling_params.tp_sel == tp_sel)].params.iloc[0]))) for his in hsets], \n",
    "             labels, text=text,  min_y =1, max_y = 40000 ,logy=True)\n",
    "\n",
    "\n",
    "\n",
    "\n",
    "\n",
    "\n"
   ]
  },
  {
   "cell_type": "code",
   "execution_count": 80,
   "metadata": {
    "scrolled": false
   },
   "outputs": [
    {
     "name": "stdout",
     "output_type": "stream",
     "text": [
      "normalize to 31000\n"
     ]
    },
    {
     "data": {
      "text/html": [
       "\n",
       "<div id=\"root_plot_34\"\n",
       "     style=\"width: 796px; height: 572px\">\n",
       "</div>\n",
       "\n",
       "<script>\n",
       " requirejs.config({\n",
       "     paths: {\n",
       "       'JSRootCore' : 'https://root.cern.ch/js/notebook//scripts/JSRootCore',\n",
       "     }\n",
       "   });\n",
       " require(['JSRootCore'],\n",
       "     function(Core) {\n",
       "       var obj = Core.JSONR_unref({\"_typename\":\"TCanvas\",\"fUniqueID\":0,\"fBits\":53673992,\"fLineColor\":1,\"fLineStyle\":1,\"fLineWidth\":1,\"fFillColor\":0,\"fFillStyle\":1001,\"fLeftMargin\":0.13,\"fRightMargin\":0.3,\"fBottomMargin\":0.13,\"fTopMargin\":0.1,\"fXfile\":2,\"fYfile\":2,\"fAfile\":1,\"fXstat\":0.99,\"fYstat\":0.99,\"fAstat\":2,\"fFrameFillColor\":0,\"fFrameLineColor\":1,\"fFrameFillStyle\":1001,\"fFrameLineStyle\":1,\"fFrameLineWidth\":1,\"fFrameBorderSize\":1,\"fFrameBorderMode\":0,\"fX1\":-37.8684203921923,\"fY1\":-0.776971158114093,\"fX2\":172.657898039039,\"fY2\":5.19973014378258,\"fXtoAbsPixelk\":143.180545706201,\"fXtoPixelk\":143.180545706201,\"fXtoPixel\":3.7809999525547,\"fYtoAbsPixelk\":497.640051065433,\"fYtoPixelk\":497.640051065433,\"fYtoPixel\":-95.7049668549571,\"fUtoAbsPixelk\":5e-5,\"fUtoPixelk\":5e-5,\"fUtoPixel\":796,\"fVtoAbsPixelk\":572.00005,\"fVtoPixelk\":572,\"fVtoPixel\":-572,\"fAbsPixeltoXk\":-37.8684203921923,\"fPixeltoXk\":-37.8684203921923,\"fPixeltoX\":0.264480299536722,\"fAbsPixeltoYk\":5.19973014378258,\"fPixeltoYk\":-0.776971158114093,\"fPixeltoY\":-0.0104487784998194,\"fXlowNDC\":0,\"fYlowNDC\":0,\"fXUpNDC\":0,\"fYUpNDC\":0,\"fWNDC\":1,\"fHNDC\":1,\"fAbsXlowNDC\":0,\"fAbsYlowNDC\":0,\"fAbsWNDC\":1,\"fAbsHNDC\":1,\"fUxmin\":-10.5,\"fUymin\":0,\"fUxmax\":109.5,\"fUymax\":4.60205999132796,\"fTheta\":30,\"fPhi\":30,\"fAspectRatio\":0,\"fNumber\":0,\"fTickx\":0,\"fTicky\":0,\"fLogx\":0,\"fLogy\":1,\"fLogz\":0,\"fPadPaint\":0,\"fCrosshair\":0,\"fCrosshairPos\":0,\"fBorderSize\":2,\"fBorderMode\":0,\"fModified\":false,\"fGridx\":true,\"fGridy\":true,\"fAbsCoord\":false,\"fEditable\":true,\"fFixedAspectRatio\":false,\"fPrimitives\":{\"_typename\":\"TList\",\"name\":\"TList\",\"arr\":[{\"_typename\":\"TFrame\",\"fUniqueID\":0,\"fBits\":50331656,\"fLineColor\":1,\"fLineStyle\":1,\"fLineWidth\":1,\"fFillColor\":0,\"fFillStyle\":1001,\"fX1\":-10.5,\"fY1\":0,\"fX2\":109.5,\"fY2\":4.60205999132796,\"fBorderSize\":1,\"fBorderMode\":0},{\"_typename\":\"TGraphAsymmErrors\",\"fUniqueID\":0,\"fBits\":50332680,\"fName\":\"b6d211\",\"fTitle\":\";; rate [kHz]\",\"fLineColor\":1,\"fLineStyle\":1,\"fLineWidth\":1,\"fFillColor\":0,\"fFillStyle\":1001,\"fMarkerColor\":1,\"fMarkerStyle\":8,\"fMarkerSize\":0.5,\"fNpoints\":100,\"fX\":[0,1,2,3,4,5,6,7,8,9,10,11,12,13,14,15,16,17,18,19,20,21,22,23,24,25,26,27,28,29,30,31,32,33,34,35,36,37,38,39,40,41,42,43,44,45,46,47,48,49,50,51,52,53,54,55,56,57,58,59,60,61,62,63,64,65,66,67,68,69,70,71,72,73,74,75,76,77,78,79,80,81,82,83,84,85,86,87,88,89,90,91,92,93,94,95,96,97,98,99],\"fY\":[196000,196000,196000,195946,188496,146660,90225,49733,27058,15380,9332,6098,4164,3005,2185,1660,1294,1022,835,688,556,456,386,328,283,245,216,187,173,155,141,124,112,105,99,95,88,80,74,69,63,59,51,46,42,36,32,29,27,25,20,18,17,16,11,11,9,7,6,6,6,6,6,6,6,6,6,6,6,6,6,6,5,5,5,5,5,4,4,4,4,4,4,4,4,3,3,3,3,3,2,2,2,2,2,2,2,1,1,1],\"fFunctions\":{\"_typename\":\"TList\",\"name\":\"TList\",\"arr\":[],\"opt\":[]},\"fHistogram\":{\"_typename\":\"TH1F\",\"fUniqueID\":0,\"fBits\":50332168,\"fName\":\"b6d211\",\"fTitle\":\"\",\"fLineColor\":602,\"fLineStyle\":1,\"fLineWidth\":1,\"fFillColor\":0,\"fFillStyle\":1001,\"fMarkerColor\":1,\"fMarkerStyle\":1,\"fMarkerSize\":1,\"fNcells\":102,\"fXaxis\":{\"_typename\":\"TAxis\",\"fUniqueID\":0,\"fBits\":50331656,\"fName\":\"xaxis\",\"fTitle\":\"\",\"fNdivisions\":510,\"fAxisColor\":1,\"fLabelColor\":1,\"fLabelFont\":42,\"fLabelOffset\":0.005,\"fLabelSize\":0.035,\"fTickLength\":0.03,\"fTitleOffset\":1.4,\"fTitleSize\":0.035,\"fTitleColor\":1,\"fTitleFont\":42,\"fNbins\":100,\"fXmin\":-10.5,\"fXmax\":109.5,\"fXbins\":[],\"fFirst\":0,\"fLast\":0,\"fBits2\":0,\"fTimeDisplay\":false,\"fTimeFormat\":\"\",\"fLabels\":null,\"fModLabs\":null},\"fYaxis\":{\"_typename\":\"TAxis\",\"fUniqueID\":0,\"fBits\":50331656,\"fName\":\"yaxis\",\"fTitle\":\" rate [kHz]\",\"fNdivisions\":510,\"fAxisColor\":1,\"fLabelColor\":1,\"fLabelFont\":42,\"fLabelOffset\":0.005,\"fLabelSize\":0.035,\"fTickLength\":0.03,\"fTitleOffset\":0,\"fTitleSize\":0.035,\"fTitleColor\":1,\"fTitleFont\":42,\"fNbins\":1,\"fXmin\":1,\"fXmax\":40000,\"fXbins\":[],\"fFirst\":0,\"fLast\":0,\"fBits2\":0,\"fTimeDisplay\":false,\"fTimeFormat\":\"\",\"fLabels\":null,\"fModLabs\":null},\"fZaxis\":{\"_typename\":\"TAxis\",\"fUniqueID\":0,\"fBits\":50331648,\"fName\":\"zaxis\",\"fTitle\":\"\",\"fNdivisions\":510,\"fAxisColor\":1,\"fLabelColor\":1,\"fLabelFont\":42,\"fLabelOffset\":0.005,\"fLabelSize\":0.035,\"fTickLength\":0.03,\"fTitleOffset\":1,\"fTitleSize\":0.035,\"fTitleColor\":1,\"fTitleFont\":42,\"fNbins\":1,\"fXmin\":0,\"fXmax\":1,\"fXbins\":[],\"fFirst\":0,\"fLast\":0,\"fBits2\":0,\"fTimeDisplay\":false,\"fTimeFormat\":\"\",\"fLabels\":null,\"fModLabs\":null},\"fBarOffset\":0,\"fBarWidth\":1000,\"fEntries\":0,\"fTsumw\":0,\"fTsumw2\":0,\"fTsumwx\":0,\"fTsumwx2\":0,\"fMaximum\":40000,\"fMinimum\":1,\"fNormFactor\":0,\"fContour\":[],\"fSumw2\":[],\"fOption\":\"\",\"fFunctions\":{\"_typename\":\"TList\",\"name\":\"TList\",\"arr\":[],\"opt\":[]},\"fBufferSize\":0,\"fBuffer\":[],\"fBinStatErrOpt\":0,\"fStatOverflows\":2,\"fArray\":[0,0,0,0,0,0,0,0,0,0,0,0,0,0,0,0,0,0,0,0,0,0,0,0,0,0,0,0,0,0,0,0,0,0,0,0,0,0,0,0,0,0,0,0,0,0,0,0,0,0,0,0,0,0,0,0,0,0,0,0,0,0,0,0,0,0,0,0,0,0,0,0,0,0,0,0,0,0,0,0,0,0,0,0,0,0,0,0,0,0,0,0,0,0,0,0,0,0,0,0,0,0]},\"fMinimum\":-1111,\"fMaximum\":-1111,\"fEXlow\":[0.5,0.5,0.5,0.5,0.5,0.5,0.5,0.5,0.5,0.5,0.5,0.5,0.5,0.5,0.5,0.5,0.5,0.5,0.5,0.5,0.5,0.5,0.5,0.5,0.5,0.5,0.5,0.5,0.5,0.5,0.5,0.5,0.5,0.5,0.5,0.5,0.5,0.5,0.5,0.5,0.5,0.5,0.5,0.5,0.5,0.5,0.5,0.5,0.5,0.5,0.5,0.5,0.5,0.5,0.5,0.5,0.5,0.5,0.5,0.5,0.5,0.5,0.5,0.5,0.5,0.5,0.5,0.5,0.5,0.5,0.5,0.5,0.5,0.5,0.5,0.5,0.5,0.5,0.5,0.5,0.5,0.5,0.5,0.5,0.5,0.5,0.5,0.5,0.5,0.5,0.5,0.5,0.5,0.5,0.5,0.5,0.5,0.5,0.5,0.5],\"fEXhigh\":[0.5,0.5,0.5,0.5,0.5,0.5,0.5,0.5,0.5,0.5,0.5,0.5,0.5,0.5,0.5,0.5,0.5,0.5,0.5,0.5,0.5,0.5,0.5,0.5,0.5,0.5,0.5,0.5,0.5,0.5,0.5,0.5,0.5,0.5,0.5,0.5,0.5,0.5,0.5,0.5,0.5,0.5,0.5,0.5,0.5,0.5,0.5,0.5,0.5,0.5,0.5,0.5,0.5,0.5,0.5,0.5,0.5,0.5,0.5,0.5,0.5,0.5,0.5,0.5,0.5,0.5,0.5,0.5,0.5,0.5,0.5,0.5,0.5,0.5,0.5,0.5,0.5,0.5,0.5,0.5,0.5,0.5,0.5,0.5,0.5,0.5,0.5,0.5,0.5,0.5,0.5,0.5,0.5,0.5,0.5,0.5,0.5,0.5,0.5,0.5],\"fEYlow\":[442.718872423573,442.718872423573,442.718872423573,442.657881438928,434.161260363013,382.962139120827,300.374765917512,223.008968429523,164.493160952059,124.01612798342,96.6022774058666,78.0896920214186,64.5290632196067,54.817880294663,46.743983570081,40.7430975749267,35.9722114972099,31.9687347262916,28.8963665535998,26.229754097208,23.5796522451032,21.3541565040626,19.6468827043885,18.1107702762748,16.8226038412607,15.6524758424985,14.6969384566991,13.6747943311773,13.1529464379659,12.4498995979887,11.8743420870379,11.13552872566,10.5830052442584,10.2469507659596,9.9498743710662,9.74679434480896,9.38083151964686,8.94427190999916,8.60232526704263,8.30662386291807,7.93725393319377,7.68114574786861,7.14142842854285,6.78232998312527,6.48074069840786,6,5.65685424949238,5.3851648071345,5.19615242270663,5,4.47213595499958,4.24264068711928,4.12310562561766,4,3.3166247903554,3.3166247903554,3,2.64575131106459,2.44948974278318,2.44948974278318,2.44948974278318,2.44948974278318,2.44948974278318,2.44948974278318,2.44948974278318,2.44948974278318,2.44948974278318,2.44948974278318,2.44948974278318,2.44948974278318,2.44948974278318,2.44948974278318,2.23606797749979,2.23606797749979,2.23606797749979,2.23606797749979,2.23606797749979,2,2,2,2,2,2,2,2,1.73205080756888,1.73205080756888,1.73205080756888,1.73205080756888,1.73205080756888,1.4142135623731,1.4142135623731,1.4142135623731,1.4142135623731,1.4142135623731,1.4142135623731,1.4142135623731,1,1,1],\"fEYhigh\":[442.718872423573,442.718872423573,442.718872423573,442.657881438928,434.161260363013,382.962139120827,300.374765917512,223.008968429523,164.493160952059,124.01612798342,96.6022774058666,78.0896920214186,64.5290632196067,54.817880294663,46.743983570081,40.7430975749267,35.9722114972099,31.9687347262916,28.8963665535998,26.229754097208,23.5796522451032,21.3541565040626,19.6468827043885,18.1107702762748,16.8226038412607,15.6524758424985,14.6969384566991,13.6747943311773,13.1529464379659,12.4498995979887,11.8743420870379,11.13552872566,10.5830052442584,10.2469507659596,9.9498743710662,9.74679434480896,9.38083151964686,8.94427190999916,8.60232526704263,8.30662386291807,7.93725393319377,7.68114574786861,7.14142842854285,6.78232998312527,6.48074069840786,6,5.65685424949238,5.3851648071345,5.19615242270663,5,4.47213595499958,4.24264068711928,4.12310562561766,4,3.3166247903554,3.3166247903554,3,2.64575131106459,2.44948974278318,2.44948974278318,2.44948974278318,2.44948974278318,2.44948974278318,2.44948974278318,2.44948974278318,2.44948974278318,2.44948974278318,2.44948974278318,2.44948974278318,2.44948974278318,2.44948974278318,2.44948974278318,2.23606797749979,2.23606797749979,2.23606797749979,2.23606797749979,2.23606797749979,2,2,2,2,2,2,2,2,1.73205080756888,1.73205080756888,1.73205080756888,1.73205080756888,1.73205080756888,1.4142135623731,1.4142135623731,1.4142135623731,1.4142135623731,1.4142135623731,1.4142135623731,1.4142135623731,1,1,1]},{\"_typename\":\"TLatex\",\"fUniqueID\":0,\"fBits\":50348040,\"fName\":\"\",\"fTitle\":\"PU200, EG, hwQual 5\",\"fTextAngle\":0,\"fTextSize\":0.03,\"fTextAlign\":11,\"fTextColor\":1,\"fTextFont\":62,\"fX\":0.15,\"fY\":0.85,\"fLineColor\":1,\"fLineStyle\":1,\"fLineWidth\":2,\"fLimitFactorSize\":3,\"fOriginSize\":0.04},{\"_typename\":\"TLatex\",\"fUniqueID\":0,\"fBits\":50331656,\"fName\":\"\",\"fTitle\":\"\",\"fTextAngle\":0,\"fTextSize\":0.03,\"fTextAlign\":11,\"fTextColor\":1,\"fTextFont\":62,\"fX\":0,\"fY\":0,\"fLineColor\":1,\"fLineStyle\":1,\"fLineWidth\":2,\"fLimitFactorSize\":3,\"fOriginSize\":0.04}],\"opt\":[\"\",\"pa\",\"same\",\"same\"]},\"fExecs\":null,\"fName\":\"c_b3abbc\",\"fTitle\":\"c_b3abbc\",\"fNumPaletteColor\":0,\"fNextPaletteColor\":0,\"fDISPLAY\":\"$DISPLAY\",\"fDoubleBuffer\":0,\"fRetained\":true,\"fXsizeUser\":0,\"fYsizeUser\":0,\"fXsizeReal\":20,\"fYsizeReal\":15,\"fWindowTopX\":0,\"fWindowTopY\":0,\"fWindowWidth\":0,\"fWindowHeight\":0,\"fCw\":796,\"fCh\":572,\"fCatt\":{\"_typename\":\"TAttCanvas\",\"fXBetween\":2,\"fYBetween\":2,\"fTitleFromTop\":1.2,\"fXdate\":0.2,\"fYdate\":0.3,\"fAdate\":1},\"kMoveOpaque\":true,\"kResizeOpaque\":true,\"fHighLightColor\":2,\"fBatch\":true,\"kShowEventStatus\":false,\"kAutoExec\":true,\"kMenuBar\":true});\n",
       "       Core.draw(\"root_plot_34\", obj, \"\");\n",
       "     }\n",
       " );\n",
       "</script>\n"
      ],
      "text/plain": [
       "<IPython.core.display.HTML object>"
      ]
     },
     "metadata": {},
     "output_type": "display_data"
    },
    {
     "data": {
      "text/html": [
       "\n",
       "<div id=\"root_plot_35\"\n",
       "     style=\"width: 796px; height: 572px\">\n",
       "</div>\n",
       "\n",
       "<script>\n",
       " requirejs.config({\n",
       "     paths: {\n",
       "       'JSRootCore' : 'https://root.cern.ch/js/notebook//scripts/JSRootCore',\n",
       "     }\n",
       "   });\n",
       " require(['JSRootCore'],\n",
       "     function(Core) {\n",
       "       var obj = Core.JSONR_unref({\"_typename\":\"TCanvas\",\"fUniqueID\":0,\"fBits\":53673992,\"fLineColor\":1,\"fLineStyle\":1,\"fLineWidth\":1,\"fFillColor\":0,\"fFillStyle\":1001,\"fLeftMargin\":0.13,\"fRightMargin\":0.3,\"fBottomMargin\":0.13,\"fTopMargin\":0.1,\"fXfile\":2,\"fYfile\":2,\"fAfile\":1,\"fXstat\":0.99,\"fYstat\":0.99,\"fAstat\":2,\"fFrameFillColor\":0,\"fFrameLineColor\":1,\"fFrameFillStyle\":1001,\"fFrameLineStyle\":1,\"fFrameLineWidth\":1,\"fFrameBorderSize\":1,\"fFrameBorderMode\":0,\"fX1\":-27.6901255526695,\"fY1\":-0.776971158114093,\"fX2\":185.310848049925,\"fY2\":5.19973014378258,\"fXtoAbsPixelk\":103.480046204376,\"fXtoPixelk\":103.480046204376,\"fXtoPixel\":3.73707212007929,\"fYtoAbsPixelk\":497.640051065433,\"fYtoPixelk\":497.640051065433,\"fYtoPixel\":-95.7049668549571,\"fUtoAbsPixelk\":5e-5,\"fUtoPixelk\":5e-5,\"fUtoPixel\":796,\"fVtoAbsPixelk\":572.00005,\"fVtoPixelk\":572,\"fVtoPixel\":-572,\"fAbsPixeltoXk\":-27.6901255526695,\"fPixeltoXk\":-27.6901255526695,\"fPixeltoX\":0.267589162817329,\"fAbsPixeltoYk\":5.19973014378258,\"fPixeltoYk\":-0.776971158114093,\"fPixeltoY\":-0.0104487784998194,\"fXlowNDC\":0,\"fYlowNDC\":0,\"fXUpNDC\":0,\"fYUpNDC\":0,\"fWNDC\":1,\"fHNDC\":1,\"fAbsXlowNDC\":0,\"fAbsYlowNDC\":0,\"fAbsWNDC\":1,\"fAbsHNDC\":1,\"fUxmin\":0,\"fUymin\":0,\"fUxmax\":121.410553429977,\"fUymax\":4.60205999132796,\"fTheta\":30,\"fPhi\":30,\"fAspectRatio\":0,\"fNumber\":0,\"fTickx\":0,\"fTicky\":0,\"fLogx\":0,\"fLogy\":1,\"fLogz\":0,\"fPadPaint\":0,\"fCrosshair\":0,\"fCrosshairPos\":0,\"fBorderSize\":2,\"fBorderMode\":0,\"fModified\":false,\"fGridx\":true,\"fGridy\":true,\"fAbsCoord\":false,\"fEditable\":true,\"fFixedAspectRatio\":false,\"fPrimitives\":{\"_typename\":\"TList\",\"name\":\"TList\",\"arr\":[{\"_typename\":\"TFrame\",\"fUniqueID\":0,\"fBits\":50331656,\"fLineColor\":1,\"fLineStyle\":1,\"fLineWidth\":1,\"fFillColor\":0,\"fFillStyle\":1001,\"fX1\":0,\"fY1\":0,\"fX2\":121.410553429977,\"fY2\":4.60205999132796,\"fBorderSize\":1,\"fBorderMode\":0},{\"_typename\":\"TGraphAsymmErrors\",\"fUniqueID\":0,\"fBits\":50332680,\"fName\":\"f7a4dc\",\"fTitle\":\";; rate [kHz]\",\"fLineColor\":1,\"fLineStyle\":1,\"fLineWidth\":1,\"fFillColor\":0,\"fFillStyle\":1001,\"fMarkerColor\":1,\"fMarkerStyle\":8,\"fMarkerSize\":0.5,\"fNpoints\":100,\"fX\":[7.98099333619706,9.01707745092414,10.0531615656512,11.0892456803783,12.1253297951054,13.1614139098325,14.1974980245596,15.2335821392867,16.2696662540138,17.3057503687409,18.3418344834679,19.377918598195,20.4140027129221,21.4500868276492,22.4861709423763,23.5222550571034,24.5583391718305,25.5944232865576,26.6305074012846,27.6665915160117,28.7026756307388,29.7387597454659,30.774843860193,31.8109279749201,32.8470120896472,33.8830962043743,34.9191803191014,35.9552644338284,36.9913485485555,38.0274326632826,39.0635167780097,40.0996008927368,41.1356850074639,42.171769122191,43.2078532369181,44.2439373516451,45.2800214663722,46.3161055810993,47.3521896958264,48.3882738105535,49.4243579252806,50.4604420400077,51.4965261547348,52.5326102694619,53.5686943841889,54.604778498916,55.6408626136431,56.6769467283702,57.7130308430973,58.7491149578244,59.7851990725515,60.8212831872786,61.8573673020056,62.8934514167327,63.9295355314598,64.9656196461869,66.001703760914,67.0377878756411,68.0738719903682,69.1099561050953,70.1460402198224,71.1821243345494,72.2182084492765,73.2542925640036,74.2903766787307,75.3264607934578,76.3625449081849,77.398629022912,78.4347131376391,79.4707972523662,80.5068813670932,81.5429654818203,82.5790495965474,83.6151337112745,84.6512178260016,85.6873019407287,86.7233860554558,87.7594701701829,88.7955542849099,89.831638399637,90.8677225143641,91.9038066290912,92.9398907438183,93.9759748585454,95.0120589732725,96.0481430879996,97.0842272027267,98.1203113174537,99.1563954321808,100.192479546908,101.228563661635,102.264647776362,103.300731891089,104.336816005816,105.372900120543,106.40898423527,107.445068349998,108.481152464725,109.517236579452,110.553320694179],\"fY\":[196000,196000,196000,195946,188496,146660,90225,49733,27058,15380,9332,6098,4164,3005,2185,1660,1294,1022,835,688,556,456,386,328,283,245,216,187,173,155,141,124,112,105,99,95,88,80,74,69,63,59,51,46,42,36,32,29,27,25,20,18,17,16,11,11,9,7,6,6,6,6,6,6,6,6,6,6,6,6,6,6,5,5,5,5,5,4,4,4,4,4,4,4,4,3,3,3,3,3,2,2,2,2,2,2,2,1,1,1],\"fFunctions\":{\"_typename\":\"TList\",\"name\":\"TList\",\"arr\":[],\"opt\":[]},\"fHistogram\":{\"_typename\":\"TH1F\",\"fUniqueID\":0,\"fBits\":50332168,\"fName\":\"f7a4dc\",\"fTitle\":\"\",\"fLineColor\":602,\"fLineStyle\":1,\"fLineWidth\":1,\"fFillColor\":0,\"fFillStyle\":1001,\"fMarkerColor\":1,\"fMarkerStyle\":1,\"fMarkerSize\":1,\"fNcells\":102,\"fXaxis\":{\"_typename\":\"TAxis\",\"fUniqueID\":0,\"fBits\":50331656,\"fName\":\"xaxis\",\"fTitle\":\"\",\"fNdivisions\":510,\"fAxisColor\":1,\"fLabelColor\":1,\"fLabelFont\":42,\"fLabelOffset\":0.005,\"fLabelSize\":0.035,\"fTickLength\":0.03,\"fTitleOffset\":1.4,\"fTitleSize\":0.035,\"fTitleColor\":1,\"fTitleFont\":42,\"fNbins\":100,\"fXmin\":0,\"fXmax\":121.410553429977,\"fXbins\":[],\"fFirst\":0,\"fLast\":0,\"fBits2\":0,\"fTimeDisplay\":false,\"fTimeFormat\":\"\",\"fLabels\":null,\"fModLabs\":null},\"fYaxis\":{\"_typename\":\"TAxis\",\"fUniqueID\":0,\"fBits\":50331656,\"fName\":\"yaxis\",\"fTitle\":\" rate [kHz]\",\"fNdivisions\":510,\"fAxisColor\":1,\"fLabelColor\":1,\"fLabelFont\":42,\"fLabelOffset\":0.005,\"fLabelSize\":0.035,\"fTickLength\":0.03,\"fTitleOffset\":0,\"fTitleSize\":0.035,\"fTitleColor\":1,\"fTitleFont\":42,\"fNbins\":1,\"fXmin\":1,\"fXmax\":40000,\"fXbins\":[],\"fFirst\":0,\"fLast\":0,\"fBits2\":0,\"fTimeDisplay\":false,\"fTimeFormat\":\"\",\"fLabels\":null,\"fModLabs\":null},\"fZaxis\":{\"_typename\":\"TAxis\",\"fUniqueID\":0,\"fBits\":50331648,\"fName\":\"zaxis\",\"fTitle\":\"\",\"fNdivisions\":510,\"fAxisColor\":1,\"fLabelColor\":1,\"fLabelFont\":42,\"fLabelOffset\":0.005,\"fLabelSize\":0.035,\"fTickLength\":0.03,\"fTitleOffset\":1,\"fTitleSize\":0.035,\"fTitleColor\":1,\"fTitleFont\":42,\"fNbins\":1,\"fXmin\":0,\"fXmax\":1,\"fXbins\":[],\"fFirst\":0,\"fLast\":0,\"fBits2\":0,\"fTimeDisplay\":false,\"fTimeFormat\":\"\",\"fLabels\":null,\"fModLabs\":null},\"fBarOffset\":0,\"fBarWidth\":1000,\"fEntries\":0,\"fTsumw\":0,\"fTsumw2\":0,\"fTsumwx\":0,\"fTsumwx2\":0,\"fMaximum\":40000,\"fMinimum\":1,\"fNormFactor\":0,\"fContour\":[],\"fSumw2\":[],\"fOption\":\"\",\"fFunctions\":{\"_typename\":\"TList\",\"name\":\"TList\",\"arr\":[],\"opt\":[]},\"fBufferSize\":0,\"fBuffer\":[],\"fBinStatErrOpt\":0,\"fStatOverflows\":2,\"fArray\":[0,0,0,0,0,0,0,0,0,0,0,0,0,0,0,0,0,0,0,0,0,0,0,0,0,0,0,0,0,0,0,0,0,0,0,0,0,0,0,0,0,0,0,0,0,0,0,0,0,0,0,0,0,0,0,0,0,0,0,0,0,0,0,0,0,0,0,0,0,0,0,0,0,0,0,0,0,0,0,0,0,0,0,0,0,0,0,0,0,0,0,0,0,0,0,0,0,0,0,0,0,0]},\"fMinimum\":-1111,\"fMaximum\":-1111,\"fEXlow\":[0.5,0.5,0.5,0.5,0.5,0.5,0.5,0.5,0.5,0.5,0.5,0.5,0.5,0.5,0.5,0.5,0.5,0.5,0.5,0.5,0.5,0.5,0.5,0.5,0.5,0.5,0.5,0.5,0.5,0.5,0.5,0.5,0.5,0.5,0.5,0.5,0.5,0.5,0.5,0.5,0.5,0.5,0.5,0.5,0.5,0.5,0.5,0.5,0.5,0.5,0.5,0.5,0.5,0.5,0.5,0.5,0.5,0.5,0.5,0.5,0.5,0.5,0.5,0.5,0.5,0.5,0.5,0.5,0.5,0.5,0.5,0.5,0.5,0.5,0.5,0.5,0.5,0.5,0.5,0.5,0.5,0.5,0.5,0.5,0.5,0.5,0.5,0.5,0.5,0.5,0.5,0.5,0.5,0.5,0.5,0.5,0.5,0.5,0.5,0.5],\"fEXhigh\":[0.5,0.5,0.5,0.5,0.5,0.5,0.5,0.5,0.5,0.5,0.5,0.5,0.5,0.5,0.5,0.5,0.5,0.5,0.5,0.5,0.5,0.5,0.5,0.5,0.5,0.5,0.5,0.5,0.5,0.5,0.5,0.5,0.5,0.5,0.5,0.5,0.5,0.5,0.5,0.5,0.5,0.5,0.5,0.5,0.5,0.5,0.5,0.5,0.5,0.5,0.5,0.5,0.5,0.5,0.5,0.5,0.5,0.5,0.5,0.5,0.5,0.5,0.5,0.5,0.5,0.5,0.5,0.5,0.5,0.5,0.5,0.5,0.5,0.5,0.5,0.5,0.5,0.5,0.5,0.5,0.5,0.5,0.5,0.5,0.5,0.5,0.5,0.5,0.5,0.5,0.5,0.5,0.5,0.5,0.5,0.5,0.5,0.5,0.5,0.5],\"fEYlow\":[442.718872423573,442.718872423573,442.718872423573,442.657881438928,434.161260363013,382.962139120827,300.374765917512,223.008968429523,164.493160952059,124.01612798342,96.6022774058666,78.0896920214186,64.5290632196067,54.817880294663,46.743983570081,40.7430975749267,35.9722114972099,31.9687347262916,28.8963665535998,26.229754097208,23.5796522451032,21.3541565040626,19.6468827043885,18.1107702762748,16.8226038412607,15.6524758424985,14.6969384566991,13.6747943311773,13.1529464379659,12.4498995979887,11.8743420870379,11.13552872566,10.5830052442584,10.2469507659596,9.9498743710662,9.74679434480896,9.38083151964686,8.94427190999916,8.60232526704263,8.30662386291807,7.93725393319377,7.68114574786861,7.14142842854285,6.78232998312527,6.48074069840786,6,5.65685424949238,5.3851648071345,5.19615242270663,5,4.47213595499958,4.24264068711928,4.12310562561766,4,3.3166247903554,3.3166247903554,3,2.64575131106459,2.44948974278318,2.44948974278318,2.44948974278318,2.44948974278318,2.44948974278318,2.44948974278318,2.44948974278318,2.44948974278318,2.44948974278318,2.44948974278318,2.44948974278318,2.44948974278318,2.44948974278318,2.44948974278318,2.23606797749979,2.23606797749979,2.23606797749979,2.23606797749979,2.23606797749979,2,2,2,2,2,2,2,2,1.73205080756888,1.73205080756888,1.73205080756888,1.73205080756888,1.73205080756888,1.4142135623731,1.4142135623731,1.4142135623731,1.4142135623731,1.4142135623731,1.4142135623731,1.4142135623731,1,1,1],\"fEYhigh\":[442.718872423573,442.718872423573,442.718872423573,442.657881438928,434.161260363013,382.962139120827,300.374765917512,223.008968429523,164.493160952059,124.01612798342,96.6022774058666,78.0896920214186,64.5290632196067,54.817880294663,46.743983570081,40.7430975749267,35.9722114972099,31.9687347262916,28.8963665535998,26.229754097208,23.5796522451032,21.3541565040626,19.6468827043885,18.1107702762748,16.8226038412607,15.6524758424985,14.6969384566991,13.6747943311773,13.1529464379659,12.4498995979887,11.8743420870379,11.13552872566,10.5830052442584,10.2469507659596,9.9498743710662,9.74679434480896,9.38083151964686,8.94427190999916,8.60232526704263,8.30662386291807,7.93725393319377,7.68114574786861,7.14142842854285,6.78232998312527,6.48074069840786,6,5.65685424949238,5.3851648071345,5.19615242270663,5,4.47213595499958,4.24264068711928,4.12310562561766,4,3.3166247903554,3.3166247903554,3,2.64575131106459,2.44948974278318,2.44948974278318,2.44948974278318,2.44948974278318,2.44948974278318,2.44948974278318,2.44948974278318,2.44948974278318,2.44948974278318,2.44948974278318,2.44948974278318,2.44948974278318,2.44948974278318,2.44948974278318,2.23606797749979,2.23606797749979,2.23606797749979,2.23606797749979,2.23606797749979,2,2,2,2,2,2,2,2,1.73205080756888,1.73205080756888,1.73205080756888,1.73205080756888,1.73205080756888,1.4142135623731,1.4142135623731,1.4142135623731,1.4142135623731,1.4142135623731,1.4142135623731,1.4142135623731,1,1,1]},{\"_typename\":\"TLatex\",\"fUniqueID\":0,\"fBits\":50348040,\"fName\":\"\",\"fTitle\":\"PU200, EG, hwQual 5\",\"fTextAngle\":0,\"fTextSize\":0.03,\"fTextAlign\":11,\"fTextColor\":1,\"fTextFont\":62,\"fX\":0.15,\"fY\":0.85,\"fLineColor\":1,\"fLineStyle\":1,\"fLineWidth\":2,\"fLimitFactorSize\":3,\"fOriginSize\":0.04},{\"_typename\":\"TLatex\",\"fUniqueID\":0,\"fBits\":50331656,\"fName\":\"\",\"fTitle\":\"\",\"fTextAngle\":0,\"fTextSize\":0.03,\"fTextAlign\":11,\"fTextColor\":1,\"fTextFont\":62,\"fX\":0,\"fY\":0,\"fLineColor\":1,\"fLineStyle\":1,\"fLineWidth\":2,\"fLimitFactorSize\":3,\"fOriginSize\":0.04}],\"opt\":[\"\",\"pa\",\"same\",\"same\"]},\"fExecs\":null,\"fName\":\"c_600599\",\"fTitle\":\"c_600599\",\"fNumPaletteColor\":0,\"fNextPaletteColor\":0,\"fDISPLAY\":\"$DISPLAY\",\"fDoubleBuffer\":0,\"fRetained\":true,\"fXsizeUser\":0,\"fYsizeUser\":0,\"fXsizeReal\":20,\"fYsizeReal\":15,\"fWindowTopX\":0,\"fWindowTopY\":0,\"fWindowWidth\":0,\"fWindowHeight\":0,\"fCw\":796,\"fCh\":572,\"fCatt\":{\"_typename\":\"TAttCanvas\",\"fXBetween\":2,\"fYBetween\":2,\"fTitleFromTop\":1.2,\"fXdate\":0.2,\"fYdate\":0.3,\"fAdate\":1},\"kMoveOpaque\":true,\"kResizeOpaque\":true,\"fHighLightColor\":2,\"fBatch\":true,\"kShowEventStatus\":false,\"kAutoExec\":true,\"kMenuBar\":true});\n",
       "       Core.draw(\"root_plot_35\", obj, \"\");\n",
       "     }\n",
       " );\n",
       "</script>\n"
      ],
      "text/plain": [
       "<IPython.core.display.HTML object>"
      ]
     },
     "metadata": {},
     "output_type": "display_data"
    },
    {
     "data": {
      "text/html": [
       "\n",
       "<div id=\"root_plot_36\"\n",
       "     style=\"width: 796px; height: 572px\">\n",
       "</div>\n",
       "\n",
       "<script>\n",
       " requirejs.config({\n",
       "     paths: {\n",
       "       'JSRootCore' : 'https://root.cern.ch/js/notebook//scripts/JSRootCore',\n",
       "     }\n",
       "   });\n",
       " require(['JSRootCore'],\n",
       "     function(Core) {\n",
       "       var obj = Core.JSONR_unref({\"_typename\":\"TCanvas\",\"fUniqueID\":0,\"fBits\":53673992,\"fLineColor\":1,\"fLineStyle\":1,\"fLineWidth\":1,\"fFillColor\":0,\"fFillStyle\":1001,\"fLeftMargin\":0.13,\"fRightMargin\":0.3,\"fBottomMargin\":0.13,\"fTopMargin\":0.1,\"fXfile\":2,\"fYfile\":2,\"fAfile\":1,\"fXstat\":0.99,\"fYstat\":0.99,\"fAstat\":2,\"fFrameFillColor\":0,\"fFrameLineColor\":1,\"fFrameFillStyle\":1001,\"fFrameLineStyle\":1,\"fFrameLineWidth\":1,\"fFrameBorderSize\":1,\"fFrameBorderMode\":0,\"fX1\":-37.8684203921923,\"fY1\":-0.776971158114093,\"fX2\":172.657898039039,\"fY2\":5.19973014378258,\"fXtoAbsPixelk\":143.180545706201,\"fXtoPixelk\":143.180545706201,\"fXtoPixel\":3.7809999525547,\"fYtoAbsPixelk\":497.640051065433,\"fYtoPixelk\":497.640051065433,\"fYtoPixel\":-95.7049668549571,\"fUtoAbsPixelk\":5e-5,\"fUtoPixelk\":5e-5,\"fUtoPixel\":796,\"fVtoAbsPixelk\":572.00005,\"fVtoPixelk\":572,\"fVtoPixel\":-572,\"fAbsPixeltoXk\":-37.8684203921923,\"fPixeltoXk\":-37.8684203921923,\"fPixeltoX\":0.264480299536722,\"fAbsPixeltoYk\":5.19973014378258,\"fPixeltoYk\":-0.776971158114093,\"fPixeltoY\":-0.0104487784998194,\"fXlowNDC\":0,\"fYlowNDC\":0,\"fXUpNDC\":0,\"fYUpNDC\":0,\"fWNDC\":1,\"fHNDC\":1,\"fAbsXlowNDC\":0,\"fAbsYlowNDC\":0,\"fAbsWNDC\":1,\"fAbsHNDC\":1,\"fUxmin\":-10.5,\"fUymin\":0,\"fUxmax\":109.5,\"fUymax\":4.60205999132796,\"fTheta\":30,\"fPhi\":30,\"fAspectRatio\":0,\"fNumber\":0,\"fTickx\":0,\"fTicky\":0,\"fLogx\":0,\"fLogy\":1,\"fLogz\":0,\"fPadPaint\":0,\"fCrosshair\":0,\"fCrosshairPos\":0,\"fBorderSize\":2,\"fBorderMode\":0,\"fModified\":false,\"fGridx\":true,\"fGridy\":true,\"fAbsCoord\":false,\"fEditable\":true,\"fFixedAspectRatio\":false,\"fPrimitives\":{\"_typename\":\"TList\",\"name\":\"TList\",\"arr\":[{\"_typename\":\"TFrame\",\"fUniqueID\":0,\"fBits\":50331656,\"fLineColor\":1,\"fLineStyle\":1,\"fLineWidth\":1,\"fFillColor\":0,\"fFillStyle\":1001,\"fX1\":-10.5,\"fY1\":0,\"fX2\":109.5,\"fY2\":4.60205999132796,\"fBorderSize\":1,\"fBorderMode\":0},{\"_typename\":\"TGraphAsymmErrors\",\"fUniqueID\":0,\"fBits\":50332680,\"fName\":\"011b3e\",\"fTitle\":\";; rate [kHz]\",\"fLineColor\":1,\"fLineStyle\":1,\"fLineWidth\":1,\"fFillColor\":0,\"fFillStyle\":1001,\"fMarkerColor\":1,\"fMarkerStyle\":8,\"fMarkerSize\":0.5,\"fNpoints\":100,\"fX\":[0,1,2,3,4,5,6,7,8,9,10,11,12,13,14,15,16,17,18,19,20,21,22,23,24,25,26,27,28,29,30,31,32,33,34,35,36,37,38,39,40,41,42,43,44,45,46,47,48,49,50,51,52,53,54,55,56,57,58,59,60,61,62,63,64,65,66,67,68,69,70,71,72,73,74,75,76,77,78,79,80,81,82,83,84,85,86,87,88,89,90,91,92,93,94,95,96,97,98,99],\"fY\":[10870,7898,4002,2625,2074,1752,1510,1285,1063,888,697,543,425,325,249,207,178,153,130,113,94,81,73,60,52,45,39,34,31,30,28,25,21,21,21,21,19,17,14,14,13,13,11,10,10,10,9,8,7,7,7,7,7,7,6,6,4,3,3,3,3,3,3,3,3,3,3,3,3,3,3,3,3,3,3,3,3,2,2,2,2,2,2,2,2,2,2,2,2,2,1,1,1,1,1,1,1,0,0,0],\"fFunctions\":{\"_typename\":\"TList\",\"name\":\"TList\",\"arr\":[],\"opt\":[]},\"fHistogram\":{\"_typename\":\"TH1F\",\"fUniqueID\":0,\"fBits\":50332168,\"fName\":\"011b3e\",\"fTitle\":\"\",\"fLineColor\":602,\"fLineStyle\":1,\"fLineWidth\":1,\"fFillColor\":0,\"fFillStyle\":1001,\"fMarkerColor\":1,\"fMarkerStyle\":1,\"fMarkerSize\":1,\"fNcells\":102,\"fXaxis\":{\"_typename\":\"TAxis\",\"fUniqueID\":0,\"fBits\":50331656,\"fName\":\"xaxis\",\"fTitle\":\"\",\"fNdivisions\":510,\"fAxisColor\":1,\"fLabelColor\":1,\"fLabelFont\":42,\"fLabelOffset\":0.005,\"fLabelSize\":0.035,\"fTickLength\":0.03,\"fTitleOffset\":1.4,\"fTitleSize\":0.035,\"fTitleColor\":1,\"fTitleFont\":42,\"fNbins\":100,\"fXmin\":-10.5,\"fXmax\":109.5,\"fXbins\":[],\"fFirst\":0,\"fLast\":0,\"fBits2\":0,\"fTimeDisplay\":false,\"fTimeFormat\":\"\",\"fLabels\":null,\"fModLabs\":null},\"fYaxis\":{\"_typename\":\"TAxis\",\"fUniqueID\":0,\"fBits\":50331656,\"fName\":\"yaxis\",\"fTitle\":\" rate [kHz]\",\"fNdivisions\":510,\"fAxisColor\":1,\"fLabelColor\":1,\"fLabelFont\":42,\"fLabelOffset\":0.005,\"fLabelSize\":0.035,\"fTickLength\":0.03,\"fTitleOffset\":0,\"fTitleSize\":0.035,\"fTitleColor\":1,\"fTitleFont\":42,\"fNbins\":1,\"fXmin\":1,\"fXmax\":40000,\"fXbins\":[],\"fFirst\":0,\"fLast\":0,\"fBits2\":0,\"fTimeDisplay\":false,\"fTimeFormat\":\"\",\"fLabels\":null,\"fModLabs\":null},\"fZaxis\":{\"_typename\":\"TAxis\",\"fUniqueID\":0,\"fBits\":50331648,\"fName\":\"zaxis\",\"fTitle\":\"\",\"fNdivisions\":510,\"fAxisColor\":1,\"fLabelColor\":1,\"fLabelFont\":42,\"fLabelOffset\":0.005,\"fLabelSize\":0.035,\"fTickLength\":0.03,\"fTitleOffset\":1,\"fTitleSize\":0.035,\"fTitleColor\":1,\"fTitleFont\":42,\"fNbins\":1,\"fXmin\":0,\"fXmax\":1,\"fXbins\":[],\"fFirst\":0,\"fLast\":0,\"fBits2\":0,\"fTimeDisplay\":false,\"fTimeFormat\":\"\",\"fLabels\":null,\"fModLabs\":null},\"fBarOffset\":0,\"fBarWidth\":1000,\"fEntries\":0,\"fTsumw\":0,\"fTsumw2\":0,\"fTsumwx\":0,\"fTsumwx2\":0,\"fMaximum\":40000,\"fMinimum\":1,\"fNormFactor\":0,\"fContour\":[],\"fSumw2\":[],\"fOption\":\"\",\"fFunctions\":{\"_typename\":\"TList\",\"name\":\"TList\",\"arr\":[],\"opt\":[]},\"fBufferSize\":0,\"fBuffer\":[],\"fBinStatErrOpt\":0,\"fStatOverflows\":2,\"fArray\":[0,0,0,0,0,0,0,0,0,0,0,0,0,0,0,0,0,0,0,0,0,0,0,0,0,0,0,0,0,0,0,0,0,0,0,0,0,0,0,0,0,0,0,0,0,0,0,0,0,0,0,0,0,0,0,0,0,0,0,0,0,0,0,0,0,0,0,0,0,0,0,0,0,0,0,0,0,0,0,0,0,0,0,0,0,0,0,0,0,0,0,0,0,0,0,0,0,0,0,0,0,0]},\"fMinimum\":-1111,\"fMaximum\":-1111,\"fEXlow\":[0.5,0.5,0.5,0.5,0.5,0.5,0.5,0.5,0.5,0.5,0.5,0.5,0.5,0.5,0.5,0.5,0.5,0.5,0.5,0.5,0.5,0.5,0.5,0.5,0.5,0.5,0.5,0.5,0.5,0.5,0.5,0.5,0.5,0.5,0.5,0.5,0.5,0.5,0.5,0.5,0.5,0.5,0.5,0.5,0.5,0.5,0.5,0.5,0.5,0.5,0.5,0.5,0.5,0.5,0.5,0.5,0.5,0.5,0.5,0.5,0.5,0.5,0.5,0.5,0.5,0.5,0.5,0.5,0.5,0.5,0.5,0.5,0.5,0.5,0.5,0.5,0.5,0.5,0.5,0.5,0.5,0.5,0.5,0.5,0.5,0.5,0.5,0.5,0.5,0.5,0.5,0.5,0.5,0.5,0.5,0.5,0.5,0.5,0.5,0.5],\"fEXhigh\":[0.5,0.5,0.5,0.5,0.5,0.5,0.5,0.5,0.5,0.5,0.5,0.5,0.5,0.5,0.5,0.5,0.5,0.5,0.5,0.5,0.5,0.5,0.5,0.5,0.5,0.5,0.5,0.5,0.5,0.5,0.5,0.5,0.5,0.5,0.5,0.5,0.5,0.5,0.5,0.5,0.5,0.5,0.5,0.5,0.5,0.5,0.5,0.5,0.5,0.5,0.5,0.5,0.5,0.5,0.5,0.5,0.5,0.5,0.5,0.5,0.5,0.5,0.5,0.5,0.5,0.5,0.5,0.5,0.5,0.5,0.5,0.5,0.5,0.5,0.5,0.5,0.5,0.5,0.5,0.5,0.5,0.5,0.5,0.5,0.5,0.5,0.5,0.5,0.5,0.5,0.5,0.5,0.5,0.5,0.5,0.5,0.5,0.5,0.5,0.5],\"fEYlow\":[104.259292151827,88.8706925819755,63.2613626157388,51.234753829798,45.5411901469428,41.8568990729127,38.8587184554509,35.8468966578698,32.6036807738022,29.7993288515027,26.4007575648882,23.3023603954621,20.6155281280883,18.0277563773199,15.7797338380595,14.3874945699382,13.3416640641263,12.369316876853,11.4017542509914,10.6301458127346,9.69535971483266,9,8.54400374531753,7.74596669241483,7.21110255092798,6.70820393249937,6.2449979983984,5.8309518948453,5.56776436283002,5.47722557505166,5.29150262212918,5,4.58257569495584,4.58257569495584,4.58257569495584,4.58257569495584,4.35889894354067,4.12310562561766,3.74165738677394,3.74165738677394,3.60555127546399,3.60555127546399,3.3166247903554,3.16227766016838,3.16227766016838,3.16227766016838,3,2.82842712474619,2.64575131106459,2.64575131106459,2.64575131106459,2.64575131106459,2.64575131106459,2.64575131106459,2.44948974278318,2.44948974278318,2,1.73205080756888,1.73205080756888,1.73205080756888,1.73205080756888,1.73205080756888,1.73205080756888,1.73205080756888,1.73205080756888,1.73205080756888,1.73205080756888,1.73205080756888,1.73205080756888,1.73205080756888,1.73205080756888,1.73205080756888,1.73205080756888,1.73205080756888,1.73205080756888,1.73205080756888,1.73205080756888,1.4142135623731,1.4142135623731,1.4142135623731,1.4142135623731,1.4142135623731,1.4142135623731,1.4142135623731,1.4142135623731,1.4142135623731,1.4142135623731,1.4142135623731,1.4142135623731,1.4142135623731,1,1,1,1,1,1,1,0,0,0],\"fEYhigh\":[104.259292151827,88.8706925819755,63.2613626157388,51.234753829798,45.5411901469428,41.8568990729127,38.8587184554509,35.8468966578698,32.6036807738022,29.7993288515027,26.4007575648882,23.3023603954621,20.6155281280883,18.0277563773199,15.7797338380595,14.3874945699382,13.3416640641263,12.369316876853,11.4017542509914,10.6301458127346,9.69535971483266,9,8.54400374531753,7.74596669241483,7.21110255092798,6.70820393249937,6.2449979983984,5.8309518948453,5.56776436283002,5.47722557505166,5.29150262212918,5,4.58257569495584,4.58257569495584,4.58257569495584,4.58257569495584,4.35889894354067,4.12310562561766,3.74165738677394,3.74165738677394,3.60555127546399,3.60555127546399,3.3166247903554,3.16227766016838,3.16227766016838,3.16227766016838,3,2.82842712474619,2.64575131106459,2.64575131106459,2.64575131106459,2.64575131106459,2.64575131106459,2.64575131106459,2.44948974278318,2.44948974278318,2,1.73205080756888,1.73205080756888,1.73205080756888,1.73205080756888,1.73205080756888,1.73205080756888,1.73205080756888,1.73205080756888,1.73205080756888,1.73205080756888,1.73205080756888,1.73205080756888,1.73205080756888,1.73205080756888,1.73205080756888,1.73205080756888,1.73205080756888,1.73205080756888,1.73205080756888,1.73205080756888,1.4142135623731,1.4142135623731,1.4142135623731,1.4142135623731,1.4142135623731,1.4142135623731,1.4142135623731,1.4142135623731,1.4142135623731,1.4142135623731,1.4142135623731,1.4142135623731,1.4142135623731,1,1,1,1,1,1,1,0,0,0]},{\"_typename\":\"TLatex\",\"fUniqueID\":0,\"fBits\":50348040,\"fName\":\"\",\"fTitle\":\"PU200, TkEle Ell. match, hwQual 5\",\"fTextAngle\":0,\"fTextSize\":0.03,\"fTextAlign\":11,\"fTextColor\":1,\"fTextFont\":62,\"fX\":0.15,\"fY\":0.85,\"fLineColor\":1,\"fLineStyle\":1,\"fLineWidth\":2,\"fLimitFactorSize\":3,\"fOriginSize\":0.04},{\"_typename\":\"TLatex\",\"fUniqueID\":0,\"fBits\":50331656,\"fName\":\"\",\"fTitle\":\"\",\"fTextAngle\":0,\"fTextSize\":0.03,\"fTextAlign\":11,\"fTextColor\":1,\"fTextFont\":62,\"fX\":0,\"fY\":0,\"fLineColor\":1,\"fLineStyle\":1,\"fLineWidth\":2,\"fLimitFactorSize\":3,\"fOriginSize\":0.04}],\"opt\":[\"\",\"pa\",\"same\",\"same\"]},\"fExecs\":null,\"fName\":\"c_bf5a3c\",\"fTitle\":\"c_bf5a3c\",\"fNumPaletteColor\":0,\"fNextPaletteColor\":0,\"fDISPLAY\":\"$DISPLAY\",\"fDoubleBuffer\":0,\"fRetained\":true,\"fXsizeUser\":0,\"fYsizeUser\":0,\"fXsizeReal\":20,\"fYsizeReal\":15,\"fWindowTopX\":0,\"fWindowTopY\":0,\"fWindowWidth\":0,\"fWindowHeight\":0,\"fCw\":796,\"fCh\":572,\"fCatt\":{\"_typename\":\"TAttCanvas\",\"fXBetween\":2,\"fYBetween\":2,\"fTitleFromTop\":1.2,\"fXdate\":0.2,\"fYdate\":0.3,\"fAdate\":1},\"kMoveOpaque\":true,\"kResizeOpaque\":true,\"fHighLightColor\":2,\"fBatch\":true,\"kShowEventStatus\":false,\"kAutoExec\":true,\"kMenuBar\":true});\n",
       "       Core.draw(\"root_plot_36\", obj, \"\");\n",
       "     }\n",
       " );\n",
       "</script>\n"
      ],
      "text/plain": [
       "<IPython.core.display.HTML object>"
      ]
     },
     "metadata": {},
     "output_type": "display_data"
    },
    {
     "data": {
      "text/html": [
       "\n",
       "<div id=\"root_plot_37\"\n",
       "     style=\"width: 796px; height: 572px\">\n",
       "</div>\n",
       "\n",
       "<script>\n",
       " requirejs.config({\n",
       "     paths: {\n",
       "       'JSRootCore' : 'https://root.cern.ch/js/notebook//scripts/JSRootCore',\n",
       "     }\n",
       "   });\n",
       " require(['JSRootCore'],\n",
       "     function(Core) {\n",
       "       var obj = Core.JSONR_unref({\"_typename\":\"TCanvas\",\"fUniqueID\":0,\"fBits\":53673992,\"fLineColor\":1,\"fLineStyle\":1,\"fLineWidth\":1,\"fFillColor\":0,\"fFillStyle\":1001,\"fLeftMargin\":0.13,\"fRightMargin\":0.3,\"fBottomMargin\":0.13,\"fTopMargin\":0.1,\"fXfile\":2,\"fYfile\":2,\"fAfile\":1,\"fXstat\":0.99,\"fYstat\":0.99,\"fAstat\":2,\"fFrameFillColor\":0,\"fFrameLineColor\":1,\"fFrameFillStyle\":1001,\"fFrameLineStyle\":1,\"fFrameLineWidth\":1,\"fFrameBorderSize\":1,\"fFrameBorderMode\":0,\"fX1\":-29.0796377050781,\"fY1\":-0.776971158114093,\"fX2\":194.609891308098,\"fY2\":5.19973014378258,\"fXtoAbsPixelk\":103.480046204376,\"fXtoPixelk\":103.480046204376,\"fXtoPixel\":3.55850362559041,\"fYtoAbsPixelk\":497.640051065433,\"fYtoPixelk\":497.640051065433,\"fYtoPixel\":-95.7049668549571,\"fUtoAbsPixelk\":5e-5,\"fUtoPixelk\":5e-5,\"fUtoPixel\":796,\"fVtoAbsPixelk\":572.00005,\"fVtoPixelk\":572,\"fVtoPixel\":-572,\"fAbsPixeltoXk\":-29.0796377050781,\"fPixeltoXk\":-29.0796377050781,\"fPixeltoX\":0.281016996247709,\"fAbsPixeltoYk\":5.19973014378258,\"fPixeltoYk\":-0.776971158114093,\"fPixeltoY\":-0.0104487784998194,\"fXlowNDC\":0,\"fYlowNDC\":0,\"fXUpNDC\":0,\"fYUpNDC\":0,\"fWNDC\":1,\"fHNDC\":1,\"fAbsXlowNDC\":0,\"fAbsYlowNDC\":0,\"fAbsWNDC\":1,\"fAbsHNDC\":1,\"fUxmin\":0,\"fUymin\":0,\"fUxmax\":127.503029937558,\"fUymax\":4.60205999132796,\"fTheta\":30,\"fPhi\":30,\"fAspectRatio\":0,\"fNumber\":0,\"fTickx\":0,\"fTicky\":0,\"fLogx\":0,\"fLogy\":1,\"fLogz\":0,\"fPadPaint\":0,\"fCrosshair\":0,\"fCrosshairPos\":0,\"fBorderSize\":2,\"fBorderMode\":0,\"fModified\":false,\"fGridx\":true,\"fGridy\":true,\"fAbsCoord\":false,\"fEditable\":true,\"fFixedAspectRatio\":false,\"fPrimitives\":{\"_typename\":\"TList\",\"name\":\"TList\",\"arr\":[{\"_typename\":\"TFrame\",\"fUniqueID\":0,\"fBits\":50331656,\"fLineColor\":1,\"fLineStyle\":1,\"fLineWidth\":1,\"fFillColor\":0,\"fFillStyle\":1001,\"fX1\":0,\"fY1\":0,\"fX2\":127.503029937558,\"fY2\":4.60205999132796,\"fBorderSize\":1,\"fBorderMode\":0},{\"_typename\":\"TGraphAsymmErrors\",\"fUniqueID\":0,\"fBits\":50332680,\"fName\":\"615efe\",\"fTitle\":\";; rate [kHz]\",\"fLineColor\":1,\"fLineStyle\":1,\"fLineWidth\":1,\"fFillColor\":0,\"fFillStyle\":1001,\"fMarkerColor\":1,\"fMarkerStyle\":8,\"fMarkerSize\":0.5,\"fNpoints\":100,\"fX\":[5.39014447697989,6.50596528010733,7.62178608323477,8.73760688636221,9.85342768948965,10.9692484926171,12.0850692957445,13.200890098872,14.3167109019994,15.4325317051269,16.5483525082543,17.6641733113817,18.7799941145092,19.8958149176366,21.0116357207641,22.1274565238915,23.243277327019,24.3590981301464,25.4749189332738,26.5907397364013,27.7065605395287,28.8223813426562,29.9382021457836,31.054022948911,32.1698437520385,33.2856645551659,34.4014853582934,35.5173061614208,36.6331269645483,37.7489477676757,38.8647685708031,39.9805893739306,41.096410177058,42.2122309801855,43.3280517833129,44.4438725864403,45.5596933895678,46.6755141926952,47.7913349958227,48.9071557989501,50.0229766020775,51.138797405205,52.2546182083324,53.3704390114599,54.4862598145873,55.6020806177148,56.7179014208422,57.8337222239696,58.9495430270971,60.0653638302245,61.181184633352,62.2970054364794,63.4128262396069,64.5286470427343,65.6444678458617,66.7602886489892,67.8761094521166,68.9919302552441,70.1077510583715,71.2235718614989,72.3393926646264,73.4552134677538,74.5710342708813,75.6868550740087,76.8026758771362,77.9184966802636,79.034317483391,80.1501382865185,81.2659590896459,82.3817798927734,83.4976006959008,84.6134214990282,85.7292423021557,86.8450631052831,87.9608839084106,89.076704711538,90.1925255146654,91.3083463177929,92.4241671209203,93.5399879240478,94.6558087271752,95.7716295303027,96.8874503334301,98.0032711365575,99.119091939685,100.234912742812,101.35073354594,102.466554349067,103.582375152195,104.698195955322,105.81401675845,106.929837561577,108.045658364705,109.161479167832,110.277299970959,111.393120774087,112.508941577214,113.624762380342,114.740583183469,115.856403986597],\"fY\":[10870,7898,4002,2625,2074,1752,1510,1285,1063,888,697,543,425,325,249,207,178,153,130,113,94,81,73,60,52,45,39,34,31,30,28,25,21,21,21,21,19,17,14,14,13,13,11,10,10,10,9,8,7,7,7,7,7,7,6,6,4,3,3,3,3,3,3,3,3,3,3,3,3,3,3,3,3,3,3,3,3,2,2,2,2,2,2,2,2,2,2,2,2,2,1,1,1,1,1,1,1,0,0,0],\"fFunctions\":{\"_typename\":\"TList\",\"name\":\"TList\",\"arr\":[],\"opt\":[]},\"fHistogram\":{\"_typename\":\"TH1F\",\"fUniqueID\":0,\"fBits\":50332168,\"fName\":\"615efe\",\"fTitle\":\"\",\"fLineColor\":602,\"fLineStyle\":1,\"fLineWidth\":1,\"fFillColor\":0,\"fFillStyle\":1001,\"fMarkerColor\":1,\"fMarkerStyle\":1,\"fMarkerSize\":1,\"fNcells\":102,\"fXaxis\":{\"_typename\":\"TAxis\",\"fUniqueID\":0,\"fBits\":50331656,\"fName\":\"xaxis\",\"fTitle\":\"\",\"fNdivisions\":510,\"fAxisColor\":1,\"fLabelColor\":1,\"fLabelFont\":42,\"fLabelOffset\":0.005,\"fLabelSize\":0.035,\"fTickLength\":0.03,\"fTitleOffset\":1.4,\"fTitleSize\":0.035,\"fTitleColor\":1,\"fTitleFont\":42,\"fNbins\":100,\"fXmin\":0,\"fXmax\":127.503029937558,\"fXbins\":[],\"fFirst\":0,\"fLast\":0,\"fBits2\":0,\"fTimeDisplay\":false,\"fTimeFormat\":\"\",\"fLabels\":null,\"fModLabs\":null},\"fYaxis\":{\"_typename\":\"TAxis\",\"fUniqueID\":0,\"fBits\":50331656,\"fName\":\"yaxis\",\"fTitle\":\" rate [kHz]\",\"fNdivisions\":510,\"fAxisColor\":1,\"fLabelColor\":1,\"fLabelFont\":42,\"fLabelOffset\":0.005,\"fLabelSize\":0.035,\"fTickLength\":0.03,\"fTitleOffset\":0,\"fTitleSize\":0.035,\"fTitleColor\":1,\"fTitleFont\":42,\"fNbins\":1,\"fXmin\":1,\"fXmax\":40000,\"fXbins\":[],\"fFirst\":0,\"fLast\":0,\"fBits2\":0,\"fTimeDisplay\":false,\"fTimeFormat\":\"\",\"fLabels\":null,\"fModLabs\":null},\"fZaxis\":{\"_typename\":\"TAxis\",\"fUniqueID\":0,\"fBits\":50331648,\"fName\":\"zaxis\",\"fTitle\":\"\",\"fNdivisions\":510,\"fAxisColor\":1,\"fLabelColor\":1,\"fLabelFont\":42,\"fLabelOffset\":0.005,\"fLabelSize\":0.035,\"fTickLength\":0.03,\"fTitleOffset\":1,\"fTitleSize\":0.035,\"fTitleColor\":1,\"fTitleFont\":42,\"fNbins\":1,\"fXmin\":0,\"fXmax\":1,\"fXbins\":[],\"fFirst\":0,\"fLast\":0,\"fBits2\":0,\"fTimeDisplay\":false,\"fTimeFormat\":\"\",\"fLabels\":null,\"fModLabs\":null},\"fBarOffset\":0,\"fBarWidth\":1000,\"fEntries\":0,\"fTsumw\":0,\"fTsumw2\":0,\"fTsumwx\":0,\"fTsumwx2\":0,\"fMaximum\":40000,\"fMinimum\":1,\"fNormFactor\":0,\"fContour\":[],\"fSumw2\":[],\"fOption\":\"\",\"fFunctions\":{\"_typename\":\"TList\",\"name\":\"TList\",\"arr\":[],\"opt\":[]},\"fBufferSize\":0,\"fBuffer\":[],\"fBinStatErrOpt\":0,\"fStatOverflows\":2,\"fArray\":[0,0,0,0,0,0,0,0,0,0,0,0,0,0,0,0,0,0,0,0,0,0,0,0,0,0,0,0,0,0,0,0,0,0,0,0,0,0,0,0,0,0,0,0,0,0,0,0,0,0,0,0,0,0,0,0,0,0,0,0,0,0,0,0,0,0,0,0,0,0,0,0,0,0,0,0,0,0,0,0,0,0,0,0,0,0,0,0,0,0,0,0,0,0,0,0,0,0,0,0,0,0]},\"fMinimum\":-1111,\"fMaximum\":-1111,\"fEXlow\":[0.5,0.5,0.5,0.5,0.5,0.5,0.5,0.5,0.5,0.5,0.5,0.5,0.5,0.5,0.5,0.5,0.5,0.5,0.5,0.5,0.5,0.5,0.5,0.5,0.5,0.5,0.5,0.5,0.5,0.5,0.5,0.5,0.5,0.5,0.5,0.5,0.5,0.5,0.5,0.5,0.5,0.5,0.5,0.5,0.5,0.5,0.5,0.5,0.5,0.5,0.5,0.5,0.5,0.5,0.5,0.5,0.5,0.5,0.5,0.5,0.5,0.5,0.5,0.5,0.5,0.5,0.5,0.5,0.5,0.5,0.5,0.5,0.5,0.5,0.5,0.5,0.5,0.5,0.5,0.5,0.5,0.5,0.5,0.5,0.5,0.5,0.5,0.5,0.5,0.5,0.5,0.5,0.5,0.5,0.5,0.5,0.5,0.5,0.5,0.5],\"fEXhigh\":[0.5,0.5,0.5,0.5,0.5,0.5,0.5,0.5,0.5,0.5,0.5,0.5,0.5,0.5,0.5,0.5,0.5,0.5,0.5,0.5,0.5,0.5,0.5,0.5,0.5,0.5,0.5,0.5,0.5,0.5,0.5,0.5,0.5,0.5,0.5,0.5,0.5,0.5,0.5,0.5,0.5,0.5,0.5,0.5,0.5,0.5,0.5,0.5,0.5,0.5,0.5,0.5,0.5,0.5,0.5,0.5,0.5,0.5,0.5,0.5,0.5,0.5,0.5,0.5,0.5,0.5,0.5,0.5,0.5,0.5,0.5,0.5,0.5,0.5,0.5,0.5,0.5,0.5,0.5,0.5,0.5,0.5,0.5,0.5,0.5,0.5,0.5,0.5,0.5,0.5,0.5,0.5,0.5,0.5,0.5,0.5,0.5,0.5,0.5,0.5],\"fEYlow\":[104.259292151827,88.8706925819755,63.2613626157388,51.234753829798,45.5411901469428,41.8568990729127,38.8587184554509,35.8468966578698,32.6036807738022,29.7993288515027,26.4007575648882,23.3023603954621,20.6155281280883,18.0277563773199,15.7797338380595,14.3874945699382,13.3416640641263,12.369316876853,11.4017542509914,10.6301458127346,9.69535971483266,9,8.54400374531753,7.74596669241483,7.21110255092798,6.70820393249937,6.2449979983984,5.8309518948453,5.56776436283002,5.47722557505166,5.29150262212918,5,4.58257569495584,4.58257569495584,4.58257569495584,4.58257569495584,4.35889894354067,4.12310562561766,3.74165738677394,3.74165738677394,3.60555127546399,3.60555127546399,3.3166247903554,3.16227766016838,3.16227766016838,3.16227766016838,3,2.82842712474619,2.64575131106459,2.64575131106459,2.64575131106459,2.64575131106459,2.64575131106459,2.64575131106459,2.44948974278318,2.44948974278318,2,1.73205080756888,1.73205080756888,1.73205080756888,1.73205080756888,1.73205080756888,1.73205080756888,1.73205080756888,1.73205080756888,1.73205080756888,1.73205080756888,1.73205080756888,1.73205080756888,1.73205080756888,1.73205080756888,1.73205080756888,1.73205080756888,1.73205080756888,1.73205080756888,1.73205080756888,1.73205080756888,1.4142135623731,1.4142135623731,1.4142135623731,1.4142135623731,1.4142135623731,1.4142135623731,1.4142135623731,1.4142135623731,1.4142135623731,1.4142135623731,1.4142135623731,1.4142135623731,1.4142135623731,1,1,1,1,1,1,1,0,0,0],\"fEYhigh\":[104.259292151827,88.8706925819755,63.2613626157388,51.234753829798,45.5411901469428,41.8568990729127,38.8587184554509,35.8468966578698,32.6036807738022,29.7993288515027,26.4007575648882,23.3023603954621,20.6155281280883,18.0277563773199,15.7797338380595,14.3874945699382,13.3416640641263,12.369316876853,11.4017542509914,10.6301458127346,9.69535971483266,9,8.54400374531753,7.74596669241483,7.21110255092798,6.70820393249937,6.2449979983984,5.8309518948453,5.56776436283002,5.47722557505166,5.29150262212918,5,4.58257569495584,4.58257569495584,4.58257569495584,4.58257569495584,4.35889894354067,4.12310562561766,3.74165738677394,3.74165738677394,3.60555127546399,3.60555127546399,3.3166247903554,3.16227766016838,3.16227766016838,3.16227766016838,3,2.82842712474619,2.64575131106459,2.64575131106459,2.64575131106459,2.64575131106459,2.64575131106459,2.64575131106459,2.44948974278318,2.44948974278318,2,1.73205080756888,1.73205080756888,1.73205080756888,1.73205080756888,1.73205080756888,1.73205080756888,1.73205080756888,1.73205080756888,1.73205080756888,1.73205080756888,1.73205080756888,1.73205080756888,1.73205080756888,1.73205080756888,1.73205080756888,1.73205080756888,1.73205080756888,1.73205080756888,1.73205080756888,1.73205080756888,1.4142135623731,1.4142135623731,1.4142135623731,1.4142135623731,1.4142135623731,1.4142135623731,1.4142135623731,1.4142135623731,1.4142135623731,1.4142135623731,1.4142135623731,1.4142135623731,1.4142135623731,1,1,1,1,1,1,1,0,0,0]},{\"_typename\":\"TLatex\",\"fUniqueID\":0,\"fBits\":50348040,\"fName\":\"\",\"fTitle\":\"PU200, TkEle Ell. match, hwQual 5\",\"fTextAngle\":0,\"fTextSize\":0.03,\"fTextAlign\":11,\"fTextColor\":1,\"fTextFont\":62,\"fX\":0.15,\"fY\":0.85,\"fLineColor\":1,\"fLineStyle\":1,\"fLineWidth\":2,\"fLimitFactorSize\":3,\"fOriginSize\":0.04},{\"_typename\":\"TLatex\",\"fUniqueID\":0,\"fBits\":50331656,\"fName\":\"\",\"fTitle\":\"\",\"fTextAngle\":0,\"fTextSize\":0.03,\"fTextAlign\":11,\"fTextColor\":1,\"fTextFont\":62,\"fX\":0,\"fY\":0,\"fLineColor\":1,\"fLineStyle\":1,\"fLineWidth\":2,\"fLimitFactorSize\":3,\"fOriginSize\":0.04}],\"opt\":[\"\",\"pa\",\"same\",\"same\"]},\"fExecs\":null,\"fName\":\"c_a4c253\",\"fTitle\":\"c_a4c253\",\"fNumPaletteColor\":0,\"fNextPaletteColor\":0,\"fDISPLAY\":\"$DISPLAY\",\"fDoubleBuffer\":0,\"fRetained\":true,\"fXsizeUser\":0,\"fYsizeUser\":0,\"fXsizeReal\":20,\"fYsizeReal\":15,\"fWindowTopX\":0,\"fWindowTopY\":0,\"fWindowWidth\":0,\"fWindowHeight\":0,\"fCw\":796,\"fCh\":572,\"fCatt\":{\"_typename\":\"TAttCanvas\",\"fXBetween\":2,\"fYBetween\":2,\"fTitleFromTop\":1.2,\"fXdate\":0.2,\"fYdate\":0.3,\"fAdate\":1},\"kMoveOpaque\":true,\"kResizeOpaque\":true,\"fHighLightColor\":2,\"fBatch\":true,\"kShowEventStatus\":false,\"kAutoExec\":true,\"kMenuBar\":true});\n",
       "       Core.draw(\"root_plot_37\", obj, \"\");\n",
       "     }\n",
       " );\n",
       "</script>\n"
      ],
      "text/plain": [
       "<IPython.core.display.HTML object>"
      ]
     },
     "metadata": {},
     "output_type": "display_data"
    }
   ],
   "source": [
    "for tp in ['EG', 'TkEleEL']:\n",
    "    for tp_sel in ['EGq5']:\n",
    "        for hist in hsets:\n",
    "            hist.normalize(31000)\n",
    "        hsets, labels, text = hplot.get_histo(histos.RateHistos, sample, 'PU200', tp, tp_sel, None)\n",
    "\n",
    "        draw([his.h_pt_graph('online', 'rate [kHz]', convertRateToGraph) for his in hsets], labels, text=text,  min_y =1, max_y = 40000 ,logy=True)\n",
    "        draw([his.h_pt_graph('offline', 'rate [kHz]', lambda x: convertRateToGraph(x, eval(scaling_params[(scaling_params.pu == 'PU200') & \n",
    "                                                                                                  (scaling_params.tp == tp) & \n",
    "                                                                                                  (scaling_params.tp_sel == 'EGq5EtaBC')].params.iloc[0]))) for his in hsets], \n",
    "             labels, text=text,  min_y =1, max_y = 40000 ,logy=True)\n",
    "\n"
   ]
  },
  {
   "cell_type": "code",
   "execution_count": null,
   "metadata": {},
   "outputs": [],
   "source": [
    "hsets, labels, text = hplot.get_histo(histos.RateHistos, sample, 'PU200', 'EG', ['EGq3EtaBC', 'EGq4EtaBC', 'EGq5EtaBC'], None)\n",
    "\n",
    "draw([his.g_pt_offline for his in hsets], labels, text=text,  min_y =1, max_y = 40000 ,logy=True, x_axis_label='offline p_{T} thresh. [GeV]')"
   ]
  },
  {
   "cell_type": "code",
   "execution_count": null,
   "metadata": {},
   "outputs": [],
   "source": []
  },
  {
   "cell_type": "code",
   "execution_count": 81,
   "metadata": {
    "scrolled": false
   },
   "outputs": [
    {
     "data": {
      "text/plain": [
       "<__main__.DrawMachine at 0x11d245cd0>"
      ]
     },
     "execution_count": 81,
     "metadata": {},
     "output_type": "execute_result"
    },
    {
     "data": {
      "text/html": [
       "\n",
       "<div id=\"root_plot_38\"\n",
       "     style=\"width: 796px; height: 572px\">\n",
       "</div>\n",
       "\n",
       "<script>\n",
       " requirejs.config({\n",
       "     paths: {\n",
       "       'JSRootCore' : 'https://root.cern.ch/js/notebook//scripts/JSRootCore',\n",
       "     }\n",
       "   });\n",
       " require(['JSRootCore'],\n",
       "     function(Core) {\n",
       "       var obj = Core.JSONR_unref({\"_typename\":\"TCanvas\",\"fUniqueID\":0,\"fBits\":53673992,\"fLineColor\":1,\"fLineStyle\":1,\"fLineWidth\":1,\"fFillColor\":0,\"fFillStyle\":1001,\"fLeftMargin\":0.13,\"fRightMargin\":0.3,\"fBottomMargin\":0.13,\"fTopMargin\":0.1,\"fXfile\":2,\"fYfile\":2,\"fAfile\":1,\"fXstat\":0.99,\"fYstat\":0.99,\"fAstat\":2,\"fFrameFillColor\":0,\"fFrameLineColor\":1,\"fFrameFillStyle\":1001,\"fFrameLineStyle\":1,\"fFrameLineWidth\":1,\"fFrameBorderSize\":1,\"fFrameBorderMode\":0,\"fX1\":-37.8684203921923,\"fY1\":-0.776971158114093,\"fX2\":172.657898039039,\"fY2\":5.19973014378258,\"fXtoAbsPixelk\":143.180545706201,\"fXtoPixelk\":143.180545706201,\"fXtoPixel\":3.7809999525547,\"fYtoAbsPixelk\":497.640051065433,\"fYtoPixelk\":497.640051065433,\"fYtoPixel\":-95.7049668549571,\"fUtoAbsPixelk\":5e-5,\"fUtoPixelk\":5e-5,\"fUtoPixel\":796,\"fVtoAbsPixelk\":572.00005,\"fVtoPixelk\":572,\"fVtoPixel\":-572,\"fAbsPixeltoXk\":-37.8684203921923,\"fPixeltoXk\":-37.8684203921923,\"fPixeltoX\":0.264480299536722,\"fAbsPixeltoYk\":5.19973014378258,\"fPixeltoYk\":-0.776971158114093,\"fPixeltoY\":-0.0104487784998194,\"fXlowNDC\":0,\"fYlowNDC\":0,\"fXUpNDC\":0,\"fYUpNDC\":0,\"fWNDC\":1,\"fHNDC\":1,\"fAbsXlowNDC\":0,\"fAbsYlowNDC\":0,\"fAbsWNDC\":1,\"fAbsHNDC\":1,\"fUxmin\":-10.5,\"fUymin\":0,\"fUxmax\":109.5,\"fUymax\":4.60205999132796,\"fTheta\":30,\"fPhi\":30,\"fAspectRatio\":0,\"fNumber\":0,\"fTickx\":0,\"fTicky\":0,\"fLogx\":0,\"fLogy\":1,\"fLogz\":0,\"fPadPaint\":0,\"fCrosshair\":0,\"fCrosshairPos\":0,\"fBorderSize\":2,\"fBorderMode\":0,\"fModified\":true,\"fGridx\":true,\"fGridy\":true,\"fAbsCoord\":false,\"fEditable\":true,\"fFixedAspectRatio\":false,\"fPrimitives\":{\"_typename\":\"TList\",\"name\":\"TList\",\"arr\":[{\"_typename\":\"TFrame\",\"fUniqueID\":0,\"fBits\":50331656,\"fLineColor\":1,\"fLineStyle\":1,\"fLineWidth\":1,\"fFillColor\":0,\"fFillStyle\":1001,\"fX1\":-10.5,\"fY1\":0,\"fX2\":109.5,\"fY2\":4.60205999132796,\"fBorderSize\":1,\"fBorderMode\":0},{\"_typename\":\"TGraphAsymmErrors\",\"fUniqueID\":0,\"fBits\":50332680,\"fName\":\"fa6e06\",\"fTitle\":\";; rate [kHz]\",\"fLineColor\":1,\"fLineStyle\":1,\"fLineWidth\":1,\"fFillColor\":0,\"fFillStyle\":1001,\"fMarkerColor\":1,\"fMarkerStyle\":8,\"fMarkerSize\":0.5,\"fNpoints\":100,\"fX\":[0,1,2,3,4,5,6,7,8,9,10,11,12,13,14,15,16,17,18,19,20,21,22,23,24,25,26,27,28,29,30,31,32,33,34,35,36,37,38,39,40,41,42,43,44,45,46,47,48,49,50,51,52,53,54,55,56,57,58,59,60,61,62,63,64,65,66,67,68,69,70,71,72,73,74,75,76,77,78,79,80,81,82,83,84,85,86,87,88,89,90,91,92,93,94,95,96,97,98,99],\"fY\":[31000,31000,30999.841796875,30712.142578125,26377.361328125,17474.03515625,9884.0966796875,5313.4951171875,2891.224609375,1643.63269042969,995.9541015625,652.89794921875,443.331634521484,317.275512695312,229.653060913086,175.086730957031,137.602035522461,108.816329956055,90.3112258911133,73.7040786743164,59.4693870544434,49.0306129455566,41.1224479675293,33.8469390869141,29.1020412445068,24.5153064727783,21.5102043151855,18.3469390869141,16.923469543457,15.1836738586426,14.3928575515747,12.6530609130859,10.7551021575928,10.1224489212036,9.48979568481445,9.01530647277832,8.54081630706787,7.59183692932129,6.64285707473755,6.32653045654297,6.01020431518555,5.85204076766968,4.9030613899231,4.58673477172852,4.11224508285522,3.47959184646606,3.00510215759277,2.84693884849548,2.5306122303009,2.21428561210632,1.89795923233032,1.73979592323303,1.73979592323303,1.73979592323303,1.10714280605316,1.10714280605316,0.790816307067871,0.632653057575226,0.632653057575226,0.632653057575226,0.632653057575226,0.632653057575226,0.632653057575226,0.632653057575226,0.632653057575226,0.632653057575226,0.632653057575226,0.632653057575226,0.632653057575226,0.632653057575226,0.632653057575226,0.632653057575226,0.632653057575226,0.632653057575226,0.632653057575226,0.632653057575226,0.632653057575226,0.474489808082581,0.474489808082581,0.474489808082581,0.474489808082581,0.474489808082581,0.474489808082581,0.474489808082581,0.474489808082581,0.474489808082581,0.474489808082581,0.474489808082581,0.474489808082581,0.474489808082581,0.316326528787613,0.316326528787613,0.316326528787613,0.316326528787613,0.316326528787613,0.316326528787613,0.316326528787613,0.158163264393806,0.158163264393806,0.158163264393806],\"fFunctions\":{\"_typename\":\"TList\",\"name\":\"TList\",\"arr\":[],\"opt\":[]},\"fHistogram\":{\"_typename\":\"TH1F\",\"fUniqueID\":0,\"fBits\":50332160,\"fName\":\"fa6e06\",\"fTitle\":\"\",\"fLineColor\":602,\"fLineStyle\":1,\"fLineWidth\":1,\"fFillColor\":0,\"fFillStyle\":1001,\"fMarkerColor\":1,\"fMarkerStyle\":1,\"fMarkerSize\":1,\"fNcells\":102,\"fXaxis\":{\"_typename\":\"TAxis\",\"fUniqueID\":0,\"fBits\":50331656,\"fName\":\"xaxis\",\"fTitle\":\"online p_{T} thresh. [GeV]\",\"fNdivisions\":510,\"fAxisColor\":1,\"fLabelColor\":1,\"fLabelFont\":42,\"fLabelOffset\":0.005,\"fLabelSize\":0.035,\"fTickLength\":0.03,\"fTitleOffset\":1.4,\"fTitleSize\":0.035,\"fTitleColor\":1,\"fTitleFont\":42,\"fNbins\":100,\"fXmin\":-10.5,\"fXmax\":109.5,\"fXbins\":[],\"fFirst\":0,\"fLast\":0,\"fBits2\":0,\"fTimeDisplay\":false,\"fTimeFormat\":\"\",\"fLabels\":null,\"fModLabs\":null},\"fYaxis\":{\"_typename\":\"TAxis\",\"fUniqueID\":0,\"fBits\":50331656,\"fName\":\"yaxis\",\"fTitle\":\" rate [kHz]\",\"fNdivisions\":510,\"fAxisColor\":1,\"fLabelColor\":1,\"fLabelFont\":42,\"fLabelOffset\":0.005,\"fLabelSize\":0.035,\"fTickLength\":0.03,\"fTitleOffset\":0,\"fTitleSize\":0.035,\"fTitleColor\":1,\"fTitleFont\":42,\"fNbins\":1,\"fXmin\":1,\"fXmax\":40000,\"fXbins\":[],\"fFirst\":0,\"fLast\":0,\"fBits2\":0,\"fTimeDisplay\":false,\"fTimeFormat\":\"\",\"fLabels\":null,\"fModLabs\":null},\"fZaxis\":{\"_typename\":\"TAxis\",\"fUniqueID\":0,\"fBits\":50331648,\"fName\":\"zaxis\",\"fTitle\":\"\",\"fNdivisions\":510,\"fAxisColor\":1,\"fLabelColor\":1,\"fLabelFont\":42,\"fLabelOffset\":0.005,\"fLabelSize\":0.035,\"fTickLength\":0.03,\"fTitleOffset\":1,\"fTitleSize\":0.035,\"fTitleColor\":1,\"fTitleFont\":42,\"fNbins\":1,\"fXmin\":0,\"fXmax\":1,\"fXbins\":[],\"fFirst\":0,\"fLast\":0,\"fBits2\":0,\"fTimeDisplay\":false,\"fTimeFormat\":\"\",\"fLabels\":null,\"fModLabs\":null},\"fBarOffset\":0,\"fBarWidth\":1000,\"fEntries\":0,\"fTsumw\":0,\"fTsumw2\":0,\"fTsumwx\":0,\"fTsumwx2\":0,\"fMaximum\":40000,\"fMinimum\":1,\"fNormFactor\":0,\"fContour\":[],\"fSumw2\":[],\"fOption\":\"\",\"fFunctions\":{\"_typename\":\"TList\",\"name\":\"TList\",\"arr\":[],\"opt\":[]},\"fBufferSize\":0,\"fBuffer\":[],\"fBinStatErrOpt\":0,\"fStatOverflows\":2,\"fArray\":[0,0,0,0,0,0,0,0,0,0,0,0,0,0,0,0,0,0,0,0,0,0,0,0,0,0,0,0,0,0,0,0,0,0,0,0,0,0,0,0,0,0,0,0,0,0,0,0,0,0,0,0,0,0,0,0,0,0,0,0,0,0,0,0,0,0,0,0,0,0,0,0,0,0,0,0,0,0,0,0,0,0,0,0,0,0,0,0,0,0,0,0,0,0,0,0,0,0,0,0,0,0]},\"fMinimum\":-1111,\"fMaximum\":-1111,\"fEXlow\":[0.5,0.5,0.5,0.5,0.5,0.5,0.5,0.5,0.5,0.5,0.5,0.5,0.5,0.5,0.5,0.5,0.5,0.5,0.5,0.5,0.5,0.5,0.5,0.5,0.5,0.5,0.5,0.5,0.5,0.5,0.5,0.5,0.5,0.5,0.5,0.5,0.5,0.5,0.5,0.5,0.5,0.5,0.5,0.5,0.5,0.5,0.5,0.5,0.5,0.5,0.5,0.5,0.5,0.5,0.5,0.5,0.5,0.5,0.5,0.5,0.5,0.5,0.5,0.5,0.5,0.5,0.5,0.5,0.5,0.5,0.5,0.5,0.5,0.5,0.5,0.5,0.5,0.5,0.5,0.5,0.5,0.5,0.5,0.5,0.5,0.5,0.5,0.5,0.5,0.5,0.5,0.5,0.5,0.5,0.5,0.5,0.5,0.5,0.5,0.5],\"fEXhigh\":[0.5,0.5,0.5,0.5,0.5,0.5,0.5,0.5,0.5,0.5,0.5,0.5,0.5,0.5,0.5,0.5,0.5,0.5,0.5,0.5,0.5,0.5,0.5,0.5,0.5,0.5,0.5,0.5,0.5,0.5,0.5,0.5,0.5,0.5,0.5,0.5,0.5,0.5,0.5,0.5,0.5,0.5,0.5,0.5,0.5,0.5,0.5,0.5,0.5,0.5,0.5,0.5,0.5,0.5,0.5,0.5,0.5,0.5,0.5,0.5,0.5,0.5,0.5,0.5,0.5,0.5,0.5,0.5,0.5,0.5,0.5,0.5,0.5,0.5,0.5,0.5,0.5,0.5,0.5,0.5,0.5,0.5,0.5,0.5,0.5,0.5,0.5,0.5,0.5,0.5,0.5,0.5,0.5,0.5,0.5,0.5,0.5,0.5,0.5,0.5],\"fEYlow\":[70.021862475157,70.021862475157,70.0216838477289,69.6960027464547,64.5904771836801,52.5713852456565,39.5386019788129,28.989648208432,21.3842349884009,16.1233466554536,12.5508306356982,10.161912867969,8.37369563776368,7.08387822421755,6.0268298508264,5.26234640355141,4.66514609506461,4.14858355619106,3.77940711740616,3.4142756504725,3.06689950163074,2.78475164648688,2.55030602242097,2.31372910198042,2.14543091302942,1.96911677315128,1.84448478306331,1.70347050021602,1.63605353783901,1.54967718420977,1.50878138999619,1.4146552510713,1.30424769789946,1.26530612244898,1.2251273850248,1.19410646680303,1.16225788815732,1.0957872456048,1.02501511046247,1.00031232107367,0.974983847408359,0.962069583873698,0.880615792080259,0.851735250108008,0.806477576129471,0.741851472216971,0.6894176900498,0.671029904595397,0.63265306122449,0.59179274994894,0.5478936228024,0.524568206637844,0.524568206637844,0.524568206637844,0.41846066654593,0.41846066654593,0.353663812767824,0.316326530612245,0.316326530612245,0.316326530612245,0.316326530612245,0.316326530612245,0.316326530612245,0.316326530612245,0.316326530612245,0.316326530612245,0.316326530612245,0.316326530612245,0.316326530612245,0.316326530612245,0.316326530612245,0.316326530612245,0.316326530612245,0.316326530612245,0.316326530612245,0.316326530612245,0.316326530612245,0.2739468114012,0.2739468114012,0.2739468114012,0.2739468114012,0.2739468114012,0.2739468114012,0.2739468114012,0.2739468114012,0.2739468114012,0.2739468114012,0.2739468114012,0.2739468114012,0.2739468114012,0.223676634865132,0.223676634865132,0.223676634865132,0.223676634865132,0.223676634865132,0.223676634865132,0.223676634865132,0.158163265306122,0.158163265306122,0.158163265306122],\"fEYhigh\":[70.021862475157,70.021862475157,70.0216838477289,69.6960027464547,64.5904771836801,52.5713852456565,39.5386019788129,28.989648208432,21.3842349884009,16.1233466554536,12.5508306356982,10.161912867969,8.37369563776368,7.08387822421755,6.0268298508264,5.26234640355141,4.66514609506461,4.14858355619106,3.77940711740616,3.4142756504725,3.06689950163074,2.78475164648688,2.55030602242097,2.31372910198042,2.14543091302942,1.96911677315128,1.84448478306331,1.70347050021602,1.63605353783901,1.54967718420977,1.50878138999619,1.4146552510713,1.30424769789946,1.26530612244898,1.2251273850248,1.19410646680303,1.16225788815732,1.0957872456048,1.02501511046247,1.00031232107367,0.974983847408359,0.962069583873698,0.880615792080259,0.851735250108008,0.806477576129471,0.741851472216971,0.6894176900498,0.671029904595397,0.63265306122449,0.59179274994894,0.5478936228024,0.524568206637844,0.524568206637844,0.524568206637844,0.41846066654593,0.41846066654593,0.353663812767824,0.316326530612245,0.316326530612245,0.316326530612245,0.316326530612245,0.316326530612245,0.316326530612245,0.316326530612245,0.316326530612245,0.316326530612245,0.316326530612245,0.316326530612245,0.316326530612245,0.316326530612245,0.316326530612245,0.316326530612245,0.316326530612245,0.316326530612245,0.316326530612245,0.316326530612245,0.316326530612245,0.2739468114012,0.2739468114012,0.2739468114012,0.2739468114012,0.2739468114012,0.2739468114012,0.2739468114012,0.2739468114012,0.2739468114012,0.2739468114012,0.2739468114012,0.2739468114012,0.2739468114012,0.223676634865132,0.223676634865132,0.223676634865132,0.223676634865132,0.223676634865132,0.223676634865132,0.223676634865132,0.158163265306122,0.158163265306122,0.158163265306122]},{\"_typename\":\"TLatex\",\"fUniqueID\":0,\"fBits\":50348040,\"fName\":\"\",\"fTitle\":\"PU200, EG, hwQual 5, 1.52 < |#eta^{L1}| <= 2.4\",\"fTextAngle\":0,\"fTextSize\":0.03,\"fTextAlign\":11,\"fTextColor\":1,\"fTextFont\":62,\"fX\":0.15,\"fY\":0.85,\"fLineColor\":1,\"fLineStyle\":1,\"fLineWidth\":2,\"fLimitFactorSize\":3,\"fOriginSize\":0.04},{\"_typename\":\"TLatex\",\"fUniqueID\":0,\"fBits\":50331656,\"fName\":\"\",\"fTitle\":\"\",\"fTextAngle\":0,\"fTextSize\":0.03,\"fTextAlign\":11,\"fTextColor\":1,\"fTextFont\":62,\"fX\":0,\"fY\":0,\"fLineColor\":1,\"fLineStyle\":1,\"fLineWidth\":2,\"fLimitFactorSize\":3,\"fOriginSize\":0.04}],\"opt\":[\"\",\"pa\",\"same\",\"same\"]},\"fExecs\":null,\"fName\":\"c_f6f9cb\",\"fTitle\":\"c_f6f9cb\",\"fNumPaletteColor\":0,\"fNextPaletteColor\":0,\"fDISPLAY\":\"$DISPLAY\",\"fDoubleBuffer\":0,\"fRetained\":true,\"fXsizeUser\":0,\"fYsizeUser\":0,\"fXsizeReal\":20,\"fYsizeReal\":15,\"fWindowTopX\":0,\"fWindowTopY\":0,\"fWindowWidth\":0,\"fWindowHeight\":0,\"fCw\":796,\"fCh\":572,\"fCatt\":{\"_typename\":\"TAttCanvas\",\"fXBetween\":2,\"fYBetween\":2,\"fTitleFromTop\":1.2,\"fXdate\":0.2,\"fYdate\":0.3,\"fAdate\":1},\"kMoveOpaque\":true,\"kResizeOpaque\":true,\"fHighLightColor\":2,\"fBatch\":true,\"kShowEventStatus\":false,\"kAutoExec\":true,\"kMenuBar\":true});\n",
       "       Core.draw(\"root_plot_38\", obj, \"\");\n",
       "     }\n",
       " );\n",
       "</script>\n"
      ],
      "text/plain": [
       "<IPython.core.display.HTML object>"
      ]
     },
     "metadata": {},
     "output_type": "display_data"
    },
    {
     "data": {
      "text/html": [
       "\n",
       "<div id=\"root_plot_39\"\n",
       "     style=\"width: 796px; height: 572px\">\n",
       "</div>\n",
       "\n",
       "<script>\n",
       " requirejs.config({\n",
       "     paths: {\n",
       "       'JSRootCore' : 'https://root.cern.ch/js/notebook//scripts/JSRootCore',\n",
       "     }\n",
       "   });\n",
       " require(['JSRootCore'],\n",
       "     function(Core) {\n",
       "       var obj = Core.JSONR_unref({\"_typename\":\"TCanvas\",\"fUniqueID\":0,\"fBits\":53673992,\"fLineColor\":1,\"fLineStyle\":1,\"fLineWidth\":1,\"fFillColor\":0,\"fFillStyle\":1001,\"fLeftMargin\":0.13,\"fRightMargin\":0.3,\"fBottomMargin\":0.13,\"fTopMargin\":0.1,\"fXfile\":2,\"fYfile\":2,\"fAfile\":1,\"fXstat\":0.99,\"fYstat\":0.99,\"fAstat\":2,\"fFrameFillColor\":0,\"fFrameLineColor\":1,\"fFrameFillStyle\":1001,\"fFrameLineStyle\":1,\"fFrameLineWidth\":1,\"fFrameBorderSize\":1,\"fFrameBorderMode\":0,\"fX1\":-27.6901255526695,\"fY1\":-0.776971158114093,\"fX2\":185.310848049925,\"fY2\":5.19973014378258,\"fXtoAbsPixelk\":103.480046204376,\"fXtoPixelk\":103.480046204376,\"fXtoPixel\":3.73707212007929,\"fYtoAbsPixelk\":497.640051065433,\"fYtoPixelk\":497.640051065433,\"fYtoPixel\":-95.7049668549571,\"fUtoAbsPixelk\":5e-5,\"fUtoPixelk\":5e-5,\"fUtoPixel\":796,\"fVtoAbsPixelk\":572.00005,\"fVtoPixelk\":572,\"fVtoPixel\":-572,\"fAbsPixeltoXk\":-27.6901255526695,\"fPixeltoXk\":-27.6901255526695,\"fPixeltoX\":0.267589162817329,\"fAbsPixeltoYk\":5.19973014378258,\"fPixeltoYk\":-0.776971158114093,\"fPixeltoY\":-0.0104487784998194,\"fXlowNDC\":0,\"fYlowNDC\":0,\"fXUpNDC\":0,\"fYUpNDC\":0,\"fWNDC\":1,\"fHNDC\":1,\"fAbsXlowNDC\":0,\"fAbsYlowNDC\":0,\"fAbsWNDC\":1,\"fAbsHNDC\":1,\"fUxmin\":0,\"fUymin\":0,\"fUxmax\":121.410553429977,\"fUymax\":4.60205999132796,\"fTheta\":30,\"fPhi\":30,\"fAspectRatio\":0,\"fNumber\":0,\"fTickx\":0,\"fTicky\":0,\"fLogx\":0,\"fLogy\":1,\"fLogz\":0,\"fPadPaint\":0,\"fCrosshair\":0,\"fCrosshairPos\":0,\"fBorderSize\":2,\"fBorderMode\":0,\"fModified\":true,\"fGridx\":true,\"fGridy\":true,\"fAbsCoord\":false,\"fEditable\":true,\"fFixedAspectRatio\":false,\"fPrimitives\":{\"_typename\":\"TList\",\"name\":\"TList\",\"arr\":[{\"_typename\":\"TFrame\",\"fUniqueID\":0,\"fBits\":50331656,\"fLineColor\":1,\"fLineStyle\":1,\"fLineWidth\":1,\"fFillColor\":0,\"fFillStyle\":1001,\"fX1\":0,\"fY1\":0,\"fX2\":121.410553429977,\"fY2\":4.60205999132796,\"fBorderSize\":1,\"fBorderMode\":0},{\"_typename\":\"TGraphAsymmErrors\",\"fUniqueID\":0,\"fBits\":50332680,\"fName\":\"183089\",\"fTitle\":\";; rate [kHz]\",\"fLineColor\":1,\"fLineStyle\":1,\"fLineWidth\":1,\"fFillColor\":0,\"fFillStyle\":1001,\"fMarkerColor\":1,\"fMarkerStyle\":8,\"fMarkerSize\":0.5,\"fNpoints\":100,\"fX\":[7.98099333619706,9.01707745092414,10.0531615656512,11.0892456803783,12.1253297951054,13.1614139098325,14.1974980245596,15.2335821392867,16.2696662540138,17.3057503687409,18.3418344834679,19.377918598195,20.4140027129221,21.4500868276492,22.4861709423763,23.5222550571034,24.5583391718305,25.5944232865576,26.6305074012846,27.6665915160117,28.7026756307388,29.7387597454659,30.774843860193,31.8109279749201,32.8470120896472,33.8830962043743,34.9191803191014,35.9552644338284,36.9913485485555,38.0274326632826,39.0635167780097,40.0996008927368,41.1356850074639,42.171769122191,43.2078532369181,44.2439373516451,45.2800214663722,46.3161055810993,47.3521896958264,48.3882738105535,49.4243579252806,50.4604420400077,51.4965261547348,52.5326102694619,53.5686943841889,54.604778498916,55.6408626136431,56.6769467283702,57.7130308430973,58.7491149578244,59.7851990725515,60.8212831872786,61.8573673020056,62.8934514167327,63.9295355314598,64.9656196461869,66.001703760914,67.0377878756411,68.0738719903682,69.1099561050953,70.1460402198224,71.1821243345494,72.2182084492765,73.2542925640036,74.2903766787307,75.3264607934578,76.3625449081849,77.398629022912,78.4347131376391,79.4707972523662,80.5068813670932,81.5429654818203,82.5790495965474,83.6151337112745,84.6512178260016,85.6873019407287,86.7233860554558,87.7594701701829,88.7955542849099,89.831638399637,90.8677225143641,91.9038066290912,92.9398907438183,93.9759748585454,95.0120589732725,96.0481430879996,97.0842272027267,98.1203113174537,99.1563954321808,100.192479546908,101.228563661635,102.264647776362,103.300731891089,104.336816005816,105.372900120543,106.40898423527,107.445068349998,108.481152464725,109.517236579452,110.553320694179],\"fY\":[31000,31000,30999.841796875,30712.142578125,26377.361328125,17474.03515625,9884.0966796875,5313.4951171875,2891.224609375,1643.63269042969,995.9541015625,652.89794921875,443.331634521484,317.275512695312,229.653060913086,175.086730957031,137.602035522461,108.816329956055,90.3112258911133,73.7040786743164,59.4693870544434,49.0306129455566,41.1224479675293,33.8469390869141,29.1020412445068,24.5153064727783,21.5102043151855,18.3469390869141,16.923469543457,15.1836738586426,14.3928575515747,12.6530609130859,10.7551021575928,10.1224489212036,9.48979568481445,9.01530647277832,8.54081630706787,7.59183692932129,6.64285707473755,6.32653045654297,6.01020431518555,5.85204076766968,4.9030613899231,4.58673477172852,4.11224508285522,3.47959184646606,3.00510215759277,2.84693884849548,2.5306122303009,2.21428561210632,1.89795923233032,1.73979592323303,1.73979592323303,1.73979592323303,1.10714280605316,1.10714280605316,0.790816307067871,0.632653057575226,0.632653057575226,0.632653057575226,0.632653057575226,0.632653057575226,0.632653057575226,0.632653057575226,0.632653057575226,0.632653057575226,0.632653057575226,0.632653057575226,0.632653057575226,0.632653057575226,0.632653057575226,0.632653057575226,0.632653057575226,0.632653057575226,0.632653057575226,0.632653057575226,0.632653057575226,0.474489808082581,0.474489808082581,0.474489808082581,0.474489808082581,0.474489808082581,0.474489808082581,0.474489808082581,0.474489808082581,0.474489808082581,0.474489808082581,0.474489808082581,0.474489808082581,0.474489808082581,0.316326528787613,0.316326528787613,0.316326528787613,0.316326528787613,0.316326528787613,0.316326528787613,0.316326528787613,0.158163264393806,0.158163264393806,0.158163264393806],\"fFunctions\":{\"_typename\":\"TList\",\"name\":\"TList\",\"arr\":[],\"opt\":[]},\"fHistogram\":{\"_typename\":\"TH1F\",\"fUniqueID\":0,\"fBits\":50332160,\"fName\":\"183089\",\"fTitle\":\"\",\"fLineColor\":602,\"fLineStyle\":1,\"fLineWidth\":1,\"fFillColor\":0,\"fFillStyle\":1001,\"fMarkerColor\":1,\"fMarkerStyle\":1,\"fMarkerSize\":1,\"fNcells\":102,\"fXaxis\":{\"_typename\":\"TAxis\",\"fUniqueID\":0,\"fBits\":50331656,\"fName\":\"xaxis\",\"fTitle\":\"offline p_{T} thresh. [GeV]\",\"fNdivisions\":510,\"fAxisColor\":1,\"fLabelColor\":1,\"fLabelFont\":42,\"fLabelOffset\":0.005,\"fLabelSize\":0.035,\"fTickLength\":0.03,\"fTitleOffset\":1.4,\"fTitleSize\":0.035,\"fTitleColor\":1,\"fTitleFont\":42,\"fNbins\":100,\"fXmin\":0,\"fXmax\":121.410553429977,\"fXbins\":[],\"fFirst\":0,\"fLast\":0,\"fBits2\":0,\"fTimeDisplay\":false,\"fTimeFormat\":\"\",\"fLabels\":null,\"fModLabs\":null},\"fYaxis\":{\"_typename\":\"TAxis\",\"fUniqueID\":0,\"fBits\":50331656,\"fName\":\"yaxis\",\"fTitle\":\" rate [kHz]\",\"fNdivisions\":510,\"fAxisColor\":1,\"fLabelColor\":1,\"fLabelFont\":42,\"fLabelOffset\":0.005,\"fLabelSize\":0.035,\"fTickLength\":0.03,\"fTitleOffset\":0,\"fTitleSize\":0.035,\"fTitleColor\":1,\"fTitleFont\":42,\"fNbins\":1,\"fXmin\":1,\"fXmax\":40000,\"fXbins\":[],\"fFirst\":0,\"fLast\":0,\"fBits2\":0,\"fTimeDisplay\":false,\"fTimeFormat\":\"\",\"fLabels\":null,\"fModLabs\":null},\"fZaxis\":{\"_typename\":\"TAxis\",\"fUniqueID\":0,\"fBits\":50331648,\"fName\":\"zaxis\",\"fTitle\":\"\",\"fNdivisions\":510,\"fAxisColor\":1,\"fLabelColor\":1,\"fLabelFont\":42,\"fLabelOffset\":0.005,\"fLabelSize\":0.035,\"fTickLength\":0.03,\"fTitleOffset\":1,\"fTitleSize\":0.035,\"fTitleColor\":1,\"fTitleFont\":42,\"fNbins\":1,\"fXmin\":0,\"fXmax\":1,\"fXbins\":[],\"fFirst\":0,\"fLast\":0,\"fBits2\":0,\"fTimeDisplay\":false,\"fTimeFormat\":\"\",\"fLabels\":null,\"fModLabs\":null},\"fBarOffset\":0,\"fBarWidth\":1000,\"fEntries\":0,\"fTsumw\":0,\"fTsumw2\":0,\"fTsumwx\":0,\"fTsumwx2\":0,\"fMaximum\":40000,\"fMinimum\":1,\"fNormFactor\":0,\"fContour\":[],\"fSumw2\":[],\"fOption\":\"\",\"fFunctions\":{\"_typename\":\"TList\",\"name\":\"TList\",\"arr\":[],\"opt\":[]},\"fBufferSize\":0,\"fBuffer\":[],\"fBinStatErrOpt\":0,\"fStatOverflows\":2,\"fArray\":[0,0,0,0,0,0,0,0,0,0,0,0,0,0,0,0,0,0,0,0,0,0,0,0,0,0,0,0,0,0,0,0,0,0,0,0,0,0,0,0,0,0,0,0,0,0,0,0,0,0,0,0,0,0,0,0,0,0,0,0,0,0,0,0,0,0,0,0,0,0,0,0,0,0,0,0,0,0,0,0,0,0,0,0,0,0,0,0,0,0,0,0,0,0,0,0,0,0,0,0,0,0]},\"fMinimum\":-1111,\"fMaximum\":-1111,\"fEXlow\":[0.5,0.5,0.5,0.5,0.5,0.5,0.5,0.5,0.5,0.5,0.5,0.5,0.5,0.5,0.5,0.5,0.5,0.5,0.5,0.5,0.5,0.5,0.5,0.5,0.5,0.5,0.5,0.5,0.5,0.5,0.5,0.5,0.5,0.5,0.5,0.5,0.5,0.5,0.5,0.5,0.5,0.5,0.5,0.5,0.5,0.5,0.5,0.5,0.5,0.5,0.5,0.5,0.5,0.5,0.5,0.5,0.5,0.5,0.5,0.5,0.5,0.5,0.5,0.5,0.5,0.5,0.5,0.5,0.5,0.5,0.5,0.5,0.5,0.5,0.5,0.5,0.5,0.5,0.5,0.5,0.5,0.5,0.5,0.5,0.5,0.5,0.5,0.5,0.5,0.5,0.5,0.5,0.5,0.5,0.5,0.5,0.5,0.5,0.5,0.5],\"fEXhigh\":[0.5,0.5,0.5,0.5,0.5,0.5,0.5,0.5,0.5,0.5,0.5,0.5,0.5,0.5,0.5,0.5,0.5,0.5,0.5,0.5,0.5,0.5,0.5,0.5,0.5,0.5,0.5,0.5,0.5,0.5,0.5,0.5,0.5,0.5,0.5,0.5,0.5,0.5,0.5,0.5,0.5,0.5,0.5,0.5,0.5,0.5,0.5,0.5,0.5,0.5,0.5,0.5,0.5,0.5,0.5,0.5,0.5,0.5,0.5,0.5,0.5,0.5,0.5,0.5,0.5,0.5,0.5,0.5,0.5,0.5,0.5,0.5,0.5,0.5,0.5,0.5,0.5,0.5,0.5,0.5,0.5,0.5,0.5,0.5,0.5,0.5,0.5,0.5,0.5,0.5,0.5,0.5,0.5,0.5,0.5,0.5,0.5,0.5,0.5,0.5],\"fEYlow\":[70.021862475157,70.021862475157,70.0216838477289,69.6960027464547,64.5904771836801,52.5713852456565,39.5386019788129,28.989648208432,21.3842349884009,16.1233466554536,12.5508306356982,10.161912867969,8.37369563776368,7.08387822421755,6.0268298508264,5.26234640355141,4.66514609506461,4.14858355619106,3.77940711740616,3.4142756504725,3.06689950163074,2.78475164648688,2.55030602242097,2.31372910198042,2.14543091302942,1.96911677315128,1.84448478306331,1.70347050021602,1.63605353783901,1.54967718420977,1.50878138999619,1.4146552510713,1.30424769789946,1.26530612244898,1.2251273850248,1.19410646680303,1.16225788815732,1.0957872456048,1.02501511046247,1.00031232107367,0.974983847408359,0.962069583873698,0.880615792080259,0.851735250108008,0.806477576129471,0.741851472216971,0.6894176900498,0.671029904595397,0.63265306122449,0.59179274994894,0.5478936228024,0.524568206637844,0.524568206637844,0.524568206637844,0.41846066654593,0.41846066654593,0.353663812767824,0.316326530612245,0.316326530612245,0.316326530612245,0.316326530612245,0.316326530612245,0.316326530612245,0.316326530612245,0.316326530612245,0.316326530612245,0.316326530612245,0.316326530612245,0.316326530612245,0.316326530612245,0.316326530612245,0.316326530612245,0.316326530612245,0.316326530612245,0.316326530612245,0.316326530612245,0.316326530612245,0.2739468114012,0.2739468114012,0.2739468114012,0.2739468114012,0.2739468114012,0.2739468114012,0.2739468114012,0.2739468114012,0.2739468114012,0.2739468114012,0.2739468114012,0.2739468114012,0.2739468114012,0.223676634865132,0.223676634865132,0.223676634865132,0.223676634865132,0.223676634865132,0.223676634865132,0.223676634865132,0.158163265306122,0.158163265306122,0.158163265306122],\"fEYhigh\":[70.021862475157,70.021862475157,70.0216838477289,69.6960027464547,64.5904771836801,52.5713852456565,39.5386019788129,28.989648208432,21.3842349884009,16.1233466554536,12.5508306356982,10.161912867969,8.37369563776368,7.08387822421755,6.0268298508264,5.26234640355141,4.66514609506461,4.14858355619106,3.77940711740616,3.4142756504725,3.06689950163074,2.78475164648688,2.55030602242097,2.31372910198042,2.14543091302942,1.96911677315128,1.84448478306331,1.70347050021602,1.63605353783901,1.54967718420977,1.50878138999619,1.4146552510713,1.30424769789946,1.26530612244898,1.2251273850248,1.19410646680303,1.16225788815732,1.0957872456048,1.02501511046247,1.00031232107367,0.974983847408359,0.962069583873698,0.880615792080259,0.851735250108008,0.806477576129471,0.741851472216971,0.6894176900498,0.671029904595397,0.63265306122449,0.59179274994894,0.5478936228024,0.524568206637844,0.524568206637844,0.524568206637844,0.41846066654593,0.41846066654593,0.353663812767824,0.316326530612245,0.316326530612245,0.316326530612245,0.316326530612245,0.316326530612245,0.316326530612245,0.316326530612245,0.316326530612245,0.316326530612245,0.316326530612245,0.316326530612245,0.316326530612245,0.316326530612245,0.316326530612245,0.316326530612245,0.316326530612245,0.316326530612245,0.316326530612245,0.316326530612245,0.316326530612245,0.2739468114012,0.2739468114012,0.2739468114012,0.2739468114012,0.2739468114012,0.2739468114012,0.2739468114012,0.2739468114012,0.2739468114012,0.2739468114012,0.2739468114012,0.2739468114012,0.2739468114012,0.223676634865132,0.223676634865132,0.223676634865132,0.223676634865132,0.223676634865132,0.223676634865132,0.223676634865132,0.158163265306122,0.158163265306122,0.158163265306122]},{\"_typename\":\"TLatex\",\"fUniqueID\":0,\"fBits\":50348040,\"fName\":\"\",\"fTitle\":\"PU200, EG, hwQual 5, 1.52 < |#eta^{L1}| <= 2.4\",\"fTextAngle\":0,\"fTextSize\":0.03,\"fTextAlign\":11,\"fTextColor\":1,\"fTextFont\":62,\"fX\":0.15,\"fY\":0.85,\"fLineColor\":1,\"fLineStyle\":1,\"fLineWidth\":2,\"fLimitFactorSize\":3,\"fOriginSize\":0.04},{\"_typename\":\"TLatex\",\"fUniqueID\":0,\"fBits\":50331656,\"fName\":\"\",\"fTitle\":\"\",\"fTextAngle\":0,\"fTextSize\":0.03,\"fTextAlign\":11,\"fTextColor\":1,\"fTextFont\":62,\"fX\":0,\"fY\":0,\"fLineColor\":1,\"fLineStyle\":1,\"fLineWidth\":2,\"fLimitFactorSize\":3,\"fOriginSize\":0.04}],\"opt\":[\"\",\"pa\",\"same\",\"same\"]},\"fExecs\":null,\"fName\":\"c_da887c\",\"fTitle\":\"c_da887c\",\"fNumPaletteColor\":0,\"fNextPaletteColor\":0,\"fDISPLAY\":\"$DISPLAY\",\"fDoubleBuffer\":0,\"fRetained\":true,\"fXsizeUser\":0,\"fYsizeUser\":0,\"fXsizeReal\":20,\"fYsizeReal\":15,\"fWindowTopX\":0,\"fWindowTopY\":0,\"fWindowWidth\":0,\"fWindowHeight\":0,\"fCw\":796,\"fCh\":572,\"fCatt\":{\"_typename\":\"TAttCanvas\",\"fXBetween\":2,\"fYBetween\":2,\"fTitleFromTop\":1.2,\"fXdate\":0.2,\"fYdate\":0.3,\"fAdate\":1},\"kMoveOpaque\":true,\"kResizeOpaque\":true,\"fHighLightColor\":2,\"fBatch\":true,\"kShowEventStatus\":false,\"kAutoExec\":true,\"kMenuBar\":true});\n",
       "       Core.draw(\"root_plot_39\", obj, \"\");\n",
       "     }\n",
       " );\n",
       "</script>\n"
      ],
      "text/plain": [
       "<IPython.core.display.HTML object>"
      ]
     },
     "metadata": {},
     "output_type": "display_data"
    },
    {
     "data": {
      "text/html": [
       "\n",
       "<div id=\"root_plot_40\"\n",
       "     style=\"width: 796px; height: 572px\">\n",
       "</div>\n",
       "\n",
       "<script>\n",
       " requirejs.config({\n",
       "     paths: {\n",
       "       'JSRootCore' : 'https://root.cern.ch/js/notebook//scripts/JSRootCore',\n",
       "     }\n",
       "   });\n",
       " require(['JSRootCore'],\n",
       "     function(Core) {\n",
       "       var obj = Core.JSONR_unref({\"_typename\":\"TCanvas\",\"fUniqueID\":0,\"fBits\":53673992,\"fLineColor\":1,\"fLineStyle\":1,\"fLineWidth\":1,\"fFillColor\":0,\"fFillStyle\":1001,\"fLeftMargin\":0.13,\"fRightMargin\":0.3,\"fBottomMargin\":0.13,\"fTopMargin\":0.1,\"fXfile\":2,\"fYfile\":2,\"fAfile\":1,\"fXstat\":0.99,\"fYstat\":0.99,\"fAstat\":2,\"fFrameFillColor\":0,\"fFrameLineColor\":1,\"fFrameFillStyle\":1001,\"fFrameLineStyle\":1,\"fFrameLineWidth\":1,\"fFrameBorderSize\":1,\"fFrameBorderMode\":0,\"fX1\":-37.8684203921923,\"fY1\":-0.776971158114093,\"fX2\":172.657898039039,\"fY2\":5.19973014378258,\"fXtoAbsPixelk\":143.180545706201,\"fXtoPixelk\":143.180545706201,\"fXtoPixel\":3.7809999525547,\"fYtoAbsPixelk\":497.640051065433,\"fYtoPixelk\":497.640051065433,\"fYtoPixel\":-95.7049668549571,\"fUtoAbsPixelk\":5e-5,\"fUtoPixelk\":5e-5,\"fUtoPixel\":796,\"fVtoAbsPixelk\":572.00005,\"fVtoPixelk\":572,\"fVtoPixel\":-572,\"fAbsPixeltoXk\":-37.8684203921923,\"fPixeltoXk\":-37.8684203921923,\"fPixeltoX\":0.264480299536722,\"fAbsPixeltoYk\":5.19973014378258,\"fPixeltoYk\":-0.776971158114093,\"fPixeltoY\":-0.0104487784998194,\"fXlowNDC\":0,\"fYlowNDC\":0,\"fXUpNDC\":0,\"fYUpNDC\":0,\"fWNDC\":1,\"fHNDC\":1,\"fAbsXlowNDC\":0,\"fAbsYlowNDC\":0,\"fAbsWNDC\":1,\"fAbsHNDC\":1,\"fUxmin\":-10.5,\"fUymin\":0,\"fUxmax\":109.5,\"fUymax\":4.60205999132796,\"fTheta\":30,\"fPhi\":30,\"fAspectRatio\":0,\"fNumber\":0,\"fTickx\":0,\"fTicky\":0,\"fLogx\":0,\"fLogy\":1,\"fLogz\":0,\"fPadPaint\":0,\"fCrosshair\":0,\"fCrosshairPos\":0,\"fBorderSize\":2,\"fBorderMode\":0,\"fModified\":true,\"fGridx\":true,\"fGridy\":true,\"fAbsCoord\":false,\"fEditable\":true,\"fFixedAspectRatio\":false,\"fPrimitives\":{\"_typename\":\"TList\",\"name\":\"TList\",\"arr\":[{\"_typename\":\"TFrame\",\"fUniqueID\":0,\"fBits\":50331656,\"fLineColor\":1,\"fLineStyle\":1,\"fLineWidth\":1,\"fFillColor\":0,\"fFillStyle\":1001,\"fX1\":-10.5,\"fY1\":0,\"fX2\":109.5,\"fY2\":4.60205999132796,\"fBorderSize\":1,\"fBorderMode\":0},{\"_typename\":\"TGraphAsymmErrors\",\"fUniqueID\":0,\"fBits\":50332680,\"fName\":\"230759\",\"fTitle\":\";; rate [kHz]\",\"fLineColor\":1,\"fLineStyle\":1,\"fLineWidth\":1,\"fFillColor\":0,\"fFillStyle\":1001,\"fMarkerColor\":1,\"fMarkerStyle\":8,\"fMarkerSize\":0.5,\"fNpoints\":100,\"fX\":[0,1,2,3,4,5,6,7,8,9,10,11,12,13,14,15,16,17,18,19,20,21,22,23,24,25,26,27,28,29,30,31,32,33,34,35,36,37,38,39,40,41,42,43,44,45,46,47,48,49,50,51,52,53,54,55,56,57,58,59,60,61,62,63,64,65,66,67,68,69,70,71,72,73,74,75,76,77,78,79,80,81,82,83,84,85,86,87,88,89,90,91,92,93,94,95,96,97,98,99],\"fY\":[1712.75,1242.53063964844,626.326538085938,408.85205078125,322.494903564453,271.566314697266,233.607147216797,198.494903564453,164.01530456543,136.811218261719,106.918365478516,83.0357131958008,64.8469390869141,49.6632652282715,38.1173477172852,31.6326522827148,27.0459175109863,23.0918369293213,19.4540824890137,16.7653064727783,14.2346935272217,12.1785717010498,10.9132652282715,8.85714244842529,7.90816307067871,6.80102062225342,5.85204076766968,5.21938753128052,4.74489784240723,4.58673477172852,4.42857122421265,3.95408153533936,3.32142853736877,3.32142853736877,3.32142853736877,3.32142853736877,3.00510215759277,2.68877553939819,2.21428561210632,2.21428561210632,2.05612254142761,2.05612254142761,1.73979592323303,1.58163261413574,1.58163261413574,1.58163261413574,1.42346942424774,1.26530611515045,1.10714280605316,1.10714280605316,1.10714280605316,1.10714280605316,1.10714280605316,1.10714280605316,0.948979616165161,0.948979616165161,0.632653057575226,0.474489808082581,0.474489808082581,0.474489808082581,0.474489808082581,0.474489808082581,0.474489808082581,0.474489808082581,0.474489808082581,0.474489808082581,0.474489808082581,0.474489808082581,0.474489808082581,0.474489808082581,0.474489808082581,0.474489808082581,0.474489808082581,0.474489808082581,0.474489808082581,0.474489808082581,0.474489808082581,0.316326528787613,0.316326528787613,0.316326528787613,0.316326528787613,0.316326528787613,0.316326528787613,0.316326528787613,0.316326528787613,0.316326528787613,0.316326528787613,0.316326528787613,0.316326528787613,0.316326528787613,0.158163264393806,0.158163264393806,0.158163264393806,0.158163264393806,0.158163264393806,0.158163264393806,0.158163264393806,0,0,0],\"fFunctions\":{\"_typename\":\"TList\",\"name\":\"TList\",\"arr\":[],\"opt\":[]},\"fHistogram\":{\"_typename\":\"TH1F\",\"fUniqueID\":0,\"fBits\":50332160,\"fName\":\"230759\",\"fTitle\":\"\",\"fLineColor\":602,\"fLineStyle\":1,\"fLineWidth\":1,\"fFillColor\":0,\"fFillStyle\":1001,\"fMarkerColor\":1,\"fMarkerStyle\":1,\"fMarkerSize\":1,\"fNcells\":102,\"fXaxis\":{\"_typename\":\"TAxis\",\"fUniqueID\":0,\"fBits\":50331656,\"fName\":\"xaxis\",\"fTitle\":\"online p_{T} thresh. [GeV]\",\"fNdivisions\":510,\"fAxisColor\":1,\"fLabelColor\":1,\"fLabelFont\":42,\"fLabelOffset\":0.005,\"fLabelSize\":0.035,\"fTickLength\":0.03,\"fTitleOffset\":1.4,\"fTitleSize\":0.035,\"fTitleColor\":1,\"fTitleFont\":42,\"fNbins\":100,\"fXmin\":-10.5,\"fXmax\":109.5,\"fXbins\":[],\"fFirst\":0,\"fLast\":0,\"fBits2\":0,\"fTimeDisplay\":false,\"fTimeFormat\":\"\",\"fLabels\":null,\"fModLabs\":null},\"fYaxis\":{\"_typename\":\"TAxis\",\"fUniqueID\":0,\"fBits\":50331656,\"fName\":\"yaxis\",\"fTitle\":\" rate [kHz]\",\"fNdivisions\":510,\"fAxisColor\":1,\"fLabelColor\":1,\"fLabelFont\":42,\"fLabelOffset\":0.005,\"fLabelSize\":0.035,\"fTickLength\":0.03,\"fTitleOffset\":0,\"fTitleSize\":0.035,\"fTitleColor\":1,\"fTitleFont\":42,\"fNbins\":1,\"fXmin\":1,\"fXmax\":40000,\"fXbins\":[],\"fFirst\":0,\"fLast\":0,\"fBits2\":0,\"fTimeDisplay\":false,\"fTimeFormat\":\"\",\"fLabels\":null,\"fModLabs\":null},\"fZaxis\":{\"_typename\":\"TAxis\",\"fUniqueID\":0,\"fBits\":50331648,\"fName\":\"zaxis\",\"fTitle\":\"\",\"fNdivisions\":510,\"fAxisColor\":1,\"fLabelColor\":1,\"fLabelFont\":42,\"fLabelOffset\":0.005,\"fLabelSize\":0.035,\"fTickLength\":0.03,\"fTitleOffset\":1,\"fTitleSize\":0.035,\"fTitleColor\":1,\"fTitleFont\":42,\"fNbins\":1,\"fXmin\":0,\"fXmax\":1,\"fXbins\":[],\"fFirst\":0,\"fLast\":0,\"fBits2\":0,\"fTimeDisplay\":false,\"fTimeFormat\":\"\",\"fLabels\":null,\"fModLabs\":null},\"fBarOffset\":0,\"fBarWidth\":1000,\"fEntries\":0,\"fTsumw\":0,\"fTsumw2\":0,\"fTsumwx\":0,\"fTsumwx2\":0,\"fMaximum\":40000,\"fMinimum\":1,\"fNormFactor\":0,\"fContour\":[],\"fSumw2\":[],\"fOption\":\"\",\"fFunctions\":{\"_typename\":\"TList\",\"name\":\"TList\",\"arr\":[],\"opt\":[]},\"fBufferSize\":0,\"fBuffer\":[],\"fBinStatErrOpt\":0,\"fStatOverflows\":2,\"fArray\":[0,0,0,0,0,0,0,0,0,0,0,0,0,0,0,0,0,0,0,0,0,0,0,0,0,0,0,0,0,0,0,0,0,0,0,0,0,0,0,0,0,0,0,0,0,0,0,0,0,0,0,0,0,0,0,0,0,0,0,0,0,0,0,0,0,0,0,0,0,0,0,0,0,0,0,0,0,0,0,0,0,0,0,0,0,0,0,0,0,0,0,0,0,0,0,0,0,0,0,0,0,0]},\"fMinimum\":-1111,\"fMaximum\":-1111,\"fEXlow\":[0.5,0.5,0.5,0.5,0.5,0.5,0.5,0.5,0.5,0.5,0.5,0.5,0.5,0.5,0.5,0.5,0.5,0.5,0.5,0.5,0.5,0.5,0.5,0.5,0.5,0.5,0.5,0.5,0.5,0.5,0.5,0.5,0.5,0.5,0.5,0.5,0.5,0.5,0.5,0.5,0.5,0.5,0.5,0.5,0.5,0.5,0.5,0.5,0.5,0.5,0.5,0.5,0.5,0.5,0.5,0.5,0.5,0.5,0.5,0.5,0.5,0.5,0.5,0.5,0.5,0.5,0.5,0.5,0.5,0.5,0.5,0.5,0.5,0.5,0.5,0.5,0.5,0.5,0.5,0.5,0.5,0.5,0.5,0.5,0.5,0.5,0.5,0.5,0.5,0.5,0.5,0.5,0.5,0.5,0.5,0.5,0.5,0.5,0.5,0.5],\"fEXhigh\":[0.5,0.5,0.5,0.5,0.5,0.5,0.5,0.5,0.5,0.5,0.5,0.5,0.5,0.5,0.5,0.5,0.5,0.5,0.5,0.5,0.5,0.5,0.5,0.5,0.5,0.5,0.5,0.5,0.5,0.5,0.5,0.5,0.5,0.5,0.5,0.5,0.5,0.5,0.5,0.5,0.5,0.5,0.5,0.5,0.5,0.5,0.5,0.5,0.5,0.5,0.5,0.5,0.5,0.5,0.5,0.5,0.5,0.5,0.5,0.5,0.5,0.5,0.5,0.5,0.5,0.5,0.5,0.5,0.5,0.5,0.5,0.5,0.5,0.5,0.5,0.5,0.5,0.5,0.5,0.5,0.5,0.5,0.5,0.5,0.5,0.5,0.5,0.5,0.5,0.5,0.5,0.5,0.5,0.5,0.5,0.5,0.5,0.5,0.5,0.5],\"fEYlow\":[16.4588618273883,14.0186553875708,9.95298192651266,8.04147833439737,7.14190773573765,6.55376357151143,6.0784922894678,5.60308854185172,5.09325007991064,4.65172118638199,4.11224489795918,3.62397567713345,3.20256203403477,2.80266020176913,2.45535416114317,2.23676634865132,2.0682530701494,1.91109400602771,1.75411546785047,1.62839048148264,1.50046848161051,1.38787702045488,1.31380275382888,1.18358549989788,1.11838317432566,1.03714588904777,0.962069583873698,0.908578785932035,0.866295881768375,0.851735250108008,0.83692133309186,0.790816326530612,0.724795135426689,0.724795135426689,0.724795135426689,0.724795135426689,0.6894176900498,0.652123848949732,0.59179274994894,0.59179274994894,0.570265762956039,0.570265762956039,0.524568206637844,0.500156160536836,0.500156160536836,0.500156160536836,0.474489795918367,0.447353269730265,0.41846066654593,0.41846066654593,0.41846066654593,0.41846066654593,0.41846066654593,0.41846066654593,0.387419296052441,0.387419296052441,0.316326530612245,0.2739468114012,0.2739468114012,0.2739468114012,0.2739468114012,0.2739468114012,0.2739468114012,0.2739468114012,0.2739468114012,0.2739468114012,0.2739468114012,0.2739468114012,0.2739468114012,0.2739468114012,0.2739468114012,0.2739468114012,0.2739468114012,0.2739468114012,0.2739468114012,0.2739468114012,0.2739468114012,0.223676634865132,0.223676634865132,0.223676634865132,0.223676634865132,0.223676634865132,0.223676634865132,0.223676634865132,0.223676634865132,0.223676634865132,0.223676634865132,0.223676634865132,0.223676634865132,0.223676634865132,0.158163265306122,0.158163265306122,0.158163265306122,0.158163265306122,0.158163265306122,0.158163265306122,0.158163265306122,0,0,0],\"fEYhigh\":[16.4588618273883,14.0186553875708,9.95298192651266,8.04147833439737,7.14190773573765,6.55376357151143,6.0784922894678,5.60308854185172,5.09325007991064,4.65172118638199,4.11224489795918,3.62397567713345,3.20256203403477,2.80266020176913,2.45535416114317,2.23676634865132,2.0682530701494,1.91109400602771,1.75411546785047,1.62839048148264,1.50046848161051,1.38787702045488,1.31380275382888,1.18358549989788,1.11838317432566,1.03714588904777,0.962069583873698,0.908578785932035,0.866295881768375,0.851735250108008,0.83692133309186,0.790816326530612,0.724795135426689,0.724795135426689,0.724795135426689,0.724795135426689,0.6894176900498,0.652123848949732,0.59179274994894,0.59179274994894,0.570265762956039,0.570265762956039,0.524568206637844,0.500156160536836,0.500156160536836,0.500156160536836,0.474489795918367,0.447353269730265,0.41846066654593,0.41846066654593,0.41846066654593,0.41846066654593,0.41846066654593,0.41846066654593,0.387419296052441,0.387419296052441,0.316326530612245,0.2739468114012,0.2739468114012,0.2739468114012,0.2739468114012,0.2739468114012,0.2739468114012,0.2739468114012,0.2739468114012,0.2739468114012,0.2739468114012,0.2739468114012,0.2739468114012,0.2739468114012,0.2739468114012,0.2739468114012,0.2739468114012,0.2739468114012,0.2739468114012,0.2739468114012,0.2739468114012,0.223676634865132,0.223676634865132,0.223676634865132,0.223676634865132,0.223676634865132,0.223676634865132,0.223676634865132,0.223676634865132,0.223676634865132,0.223676634865132,0.223676634865132,0.223676634865132,0.223676634865132,0.158163265306122,0.158163265306122,0.158163265306122,0.158163265306122,0.158163265306122,0.158163265306122,0.158163265306122,0,0,0]},{\"_typename\":\"TLatex\",\"fUniqueID\":0,\"fBits\":50348040,\"fName\":\"\",\"fTitle\":\"PU200, TkEle Ell. match, hwQual 5, 1.52 < |#eta^{L1}| <= 2.4\",\"fTextAngle\":0,\"fTextSize\":0.03,\"fTextAlign\":11,\"fTextColor\":1,\"fTextFont\":62,\"fX\":0.15,\"fY\":0.85,\"fLineColor\":1,\"fLineStyle\":1,\"fLineWidth\":2,\"fLimitFactorSize\":3,\"fOriginSize\":0.04},{\"_typename\":\"TLatex\",\"fUniqueID\":0,\"fBits\":50331656,\"fName\":\"\",\"fTitle\":\"\",\"fTextAngle\":0,\"fTextSize\":0.03,\"fTextAlign\":11,\"fTextColor\":1,\"fTextFont\":62,\"fX\":0,\"fY\":0,\"fLineColor\":1,\"fLineStyle\":1,\"fLineWidth\":2,\"fLimitFactorSize\":3,\"fOriginSize\":0.04}],\"opt\":[\"\",\"pa\",\"same\",\"same\"]},\"fExecs\":null,\"fName\":\"c_3ab47b\",\"fTitle\":\"c_3ab47b\",\"fNumPaletteColor\":0,\"fNextPaletteColor\":0,\"fDISPLAY\":\"$DISPLAY\",\"fDoubleBuffer\":0,\"fRetained\":true,\"fXsizeUser\":0,\"fYsizeUser\":0,\"fXsizeReal\":20,\"fYsizeReal\":15,\"fWindowTopX\":0,\"fWindowTopY\":0,\"fWindowWidth\":0,\"fWindowHeight\":0,\"fCw\":796,\"fCh\":572,\"fCatt\":{\"_typename\":\"TAttCanvas\",\"fXBetween\":2,\"fYBetween\":2,\"fTitleFromTop\":1.2,\"fXdate\":0.2,\"fYdate\":0.3,\"fAdate\":1},\"kMoveOpaque\":true,\"kResizeOpaque\":true,\"fHighLightColor\":2,\"fBatch\":true,\"kShowEventStatus\":false,\"kAutoExec\":true,\"kMenuBar\":true});\n",
       "       Core.draw(\"root_plot_40\", obj, \"\");\n",
       "     }\n",
       " );\n",
       "</script>\n"
      ],
      "text/plain": [
       "<IPython.core.display.HTML object>"
      ]
     },
     "metadata": {},
     "output_type": "display_data"
    },
    {
     "data": {
      "text/html": [
       "\n",
       "<div id=\"root_plot_41\"\n",
       "     style=\"width: 796px; height: 572px\">\n",
       "</div>\n",
       "\n",
       "<script>\n",
       " requirejs.config({\n",
       "     paths: {\n",
       "       'JSRootCore' : 'https://root.cern.ch/js/notebook//scripts/JSRootCore',\n",
       "     }\n",
       "   });\n",
       " require(['JSRootCore'],\n",
       "     function(Core) {\n",
       "       var obj = Core.JSONR_unref({\"_typename\":\"TCanvas\",\"fUniqueID\":0,\"fBits\":53673992,\"fLineColor\":1,\"fLineStyle\":1,\"fLineWidth\":1,\"fFillColor\":0,\"fFillStyle\":1001,\"fLeftMargin\":0.13,\"fRightMargin\":0.3,\"fBottomMargin\":0.13,\"fTopMargin\":0.1,\"fXfile\":2,\"fYfile\":2,\"fAfile\":1,\"fXstat\":0.99,\"fYstat\":0.99,\"fAstat\":2,\"fFrameFillColor\":0,\"fFrameLineColor\":1,\"fFrameFillStyle\":1001,\"fFrameLineStyle\":1,\"fFrameLineWidth\":1,\"fFrameBorderSize\":1,\"fFrameBorderMode\":0,\"fX1\":-29.0796377050781,\"fY1\":-0.776971158114093,\"fX2\":194.609891308098,\"fY2\":5.19973014378258,\"fXtoAbsPixelk\":103.480046204376,\"fXtoPixelk\":103.480046204376,\"fXtoPixel\":3.55850362559041,\"fYtoAbsPixelk\":497.640051065433,\"fYtoPixelk\":497.640051065433,\"fYtoPixel\":-95.7049668549571,\"fUtoAbsPixelk\":5e-5,\"fUtoPixelk\":5e-5,\"fUtoPixel\":796,\"fVtoAbsPixelk\":572.00005,\"fVtoPixelk\":572,\"fVtoPixel\":-572,\"fAbsPixeltoXk\":-29.0796377050781,\"fPixeltoXk\":-29.0796377050781,\"fPixeltoX\":0.281016996247709,\"fAbsPixeltoYk\":5.19973014378258,\"fPixeltoYk\":-0.776971158114093,\"fPixeltoY\":-0.0104487784998194,\"fXlowNDC\":0,\"fYlowNDC\":0,\"fXUpNDC\":0,\"fYUpNDC\":0,\"fWNDC\":1,\"fHNDC\":1,\"fAbsXlowNDC\":0,\"fAbsYlowNDC\":0,\"fAbsWNDC\":1,\"fAbsHNDC\":1,\"fUxmin\":0,\"fUymin\":0,\"fUxmax\":127.503029937558,\"fUymax\":4.60205999132796,\"fTheta\":30,\"fPhi\":30,\"fAspectRatio\":0,\"fNumber\":0,\"fTickx\":0,\"fTicky\":0,\"fLogx\":0,\"fLogy\":1,\"fLogz\":0,\"fPadPaint\":0,\"fCrosshair\":0,\"fCrosshairPos\":0,\"fBorderSize\":2,\"fBorderMode\":0,\"fModified\":true,\"fGridx\":true,\"fGridy\":true,\"fAbsCoord\":false,\"fEditable\":true,\"fFixedAspectRatio\":false,\"fPrimitives\":{\"_typename\":\"TList\",\"name\":\"TList\",\"arr\":[{\"_typename\":\"TFrame\",\"fUniqueID\":0,\"fBits\":50331656,\"fLineColor\":1,\"fLineStyle\":1,\"fLineWidth\":1,\"fFillColor\":0,\"fFillStyle\":1001,\"fX1\":0,\"fY1\":0,\"fX2\":127.503029937558,\"fY2\":4.60205999132796,\"fBorderSize\":1,\"fBorderMode\":0},{\"_typename\":\"TGraphAsymmErrors\",\"fUniqueID\":0,\"fBits\":50332680,\"fName\":\"e188eb\",\"fTitle\":\";; rate [kHz]\",\"fLineColor\":1,\"fLineStyle\":1,\"fLineWidth\":1,\"fFillColor\":0,\"fFillStyle\":1001,\"fMarkerColor\":1,\"fMarkerStyle\":8,\"fMarkerSize\":0.5,\"fNpoints\":100,\"fX\":[5.39014447697989,6.50596528010733,7.62178608323477,8.73760688636221,9.85342768948965,10.9692484926171,12.0850692957445,13.200890098872,14.3167109019994,15.4325317051269,16.5483525082543,17.6641733113817,18.7799941145092,19.8958149176366,21.0116357207641,22.1274565238915,23.243277327019,24.3590981301464,25.4749189332738,26.5907397364013,27.7065605395287,28.8223813426562,29.9382021457836,31.054022948911,32.1698437520385,33.2856645551659,34.4014853582934,35.5173061614208,36.6331269645483,37.7489477676757,38.8647685708031,39.9805893739306,41.096410177058,42.2122309801855,43.3280517833129,44.4438725864403,45.5596933895678,46.6755141926952,47.7913349958227,48.9071557989501,50.0229766020775,51.138797405205,52.2546182083324,53.3704390114599,54.4862598145873,55.6020806177148,56.7179014208422,57.8337222239696,58.9495430270971,60.0653638302245,61.181184633352,62.2970054364794,63.4128262396069,64.5286470427343,65.6444678458617,66.7602886489892,67.8761094521166,68.9919302552441,70.1077510583715,71.2235718614989,72.3393926646264,73.4552134677538,74.5710342708813,75.6868550740087,76.8026758771362,77.9184966802636,79.034317483391,80.1501382865185,81.2659590896459,82.3817798927734,83.4976006959008,84.6134214990282,85.7292423021557,86.8450631052831,87.9608839084106,89.076704711538,90.1925255146654,91.3083463177929,92.4241671209203,93.5399879240478,94.6558087271752,95.7716295303027,96.8874503334301,98.0032711365575,99.119091939685,100.234912742812,101.35073354594,102.466554349067,103.582375152195,104.698195955322,105.81401675845,106.929837561577,108.045658364705,109.161479167832,110.277299970959,111.393120774087,112.508941577214,113.624762380342,114.740583183469,115.856403986597],\"fY\":[1712.75,1242.53063964844,626.326538085938,408.85205078125,322.494903564453,271.566314697266,233.607147216797,198.494903564453,164.01530456543,136.811218261719,106.918365478516,83.0357131958008,64.8469390869141,49.6632652282715,38.1173477172852,31.6326522827148,27.0459175109863,23.0918369293213,19.4540824890137,16.7653064727783,14.2346935272217,12.1785717010498,10.9132652282715,8.85714244842529,7.90816307067871,6.80102062225342,5.85204076766968,5.21938753128052,4.74489784240723,4.58673477172852,4.42857122421265,3.95408153533936,3.32142853736877,3.32142853736877,3.32142853736877,3.32142853736877,3.00510215759277,2.68877553939819,2.21428561210632,2.21428561210632,2.05612254142761,2.05612254142761,1.73979592323303,1.58163261413574,1.58163261413574,1.58163261413574,1.42346942424774,1.26530611515045,1.10714280605316,1.10714280605316,1.10714280605316,1.10714280605316,1.10714280605316,1.10714280605316,0.948979616165161,0.948979616165161,0.632653057575226,0.474489808082581,0.474489808082581,0.474489808082581,0.474489808082581,0.474489808082581,0.474489808082581,0.474489808082581,0.474489808082581,0.474489808082581,0.474489808082581,0.474489808082581,0.474489808082581,0.474489808082581,0.474489808082581,0.474489808082581,0.474489808082581,0.474489808082581,0.474489808082581,0.474489808082581,0.474489808082581,0.316326528787613,0.316326528787613,0.316326528787613,0.316326528787613,0.316326528787613,0.316326528787613,0.316326528787613,0.316326528787613,0.316326528787613,0.316326528787613,0.316326528787613,0.316326528787613,0.316326528787613,0.158163264393806,0.158163264393806,0.158163264393806,0.158163264393806,0.158163264393806,0.158163264393806,0.158163264393806,0,0,0],\"fFunctions\":{\"_typename\":\"TList\",\"name\":\"TList\",\"arr\":[],\"opt\":[]},\"fHistogram\":{\"_typename\":\"TH1F\",\"fUniqueID\":0,\"fBits\":50332160,\"fName\":\"e188eb\",\"fTitle\":\"\",\"fLineColor\":602,\"fLineStyle\":1,\"fLineWidth\":1,\"fFillColor\":0,\"fFillStyle\":1001,\"fMarkerColor\":1,\"fMarkerStyle\":1,\"fMarkerSize\":1,\"fNcells\":102,\"fXaxis\":{\"_typename\":\"TAxis\",\"fUniqueID\":0,\"fBits\":50331656,\"fName\":\"xaxis\",\"fTitle\":\"offline p_{T} thresh. [GeV]\",\"fNdivisions\":510,\"fAxisColor\":1,\"fLabelColor\":1,\"fLabelFont\":42,\"fLabelOffset\":0.005,\"fLabelSize\":0.035,\"fTickLength\":0.03,\"fTitleOffset\":1.4,\"fTitleSize\":0.035,\"fTitleColor\":1,\"fTitleFont\":42,\"fNbins\":100,\"fXmin\":0,\"fXmax\":127.503029937558,\"fXbins\":[],\"fFirst\":0,\"fLast\":0,\"fBits2\":0,\"fTimeDisplay\":false,\"fTimeFormat\":\"\",\"fLabels\":null,\"fModLabs\":null},\"fYaxis\":{\"_typename\":\"TAxis\",\"fUniqueID\":0,\"fBits\":50331656,\"fName\":\"yaxis\",\"fTitle\":\" rate [kHz]\",\"fNdivisions\":510,\"fAxisColor\":1,\"fLabelColor\":1,\"fLabelFont\":42,\"fLabelOffset\":0.005,\"fLabelSize\":0.035,\"fTickLength\":0.03,\"fTitleOffset\":0,\"fTitleSize\":0.035,\"fTitleColor\":1,\"fTitleFont\":42,\"fNbins\":1,\"fXmin\":1,\"fXmax\":40000,\"fXbins\":[],\"fFirst\":0,\"fLast\":0,\"fBits2\":0,\"fTimeDisplay\":false,\"fTimeFormat\":\"\",\"fLabels\":null,\"fModLabs\":null},\"fZaxis\":{\"_typename\":\"TAxis\",\"fUniqueID\":0,\"fBits\":50331648,\"fName\":\"zaxis\",\"fTitle\":\"\",\"fNdivisions\":510,\"fAxisColor\":1,\"fLabelColor\":1,\"fLabelFont\":42,\"fLabelOffset\":0.005,\"fLabelSize\":0.035,\"fTickLength\":0.03,\"fTitleOffset\":1,\"fTitleSize\":0.035,\"fTitleColor\":1,\"fTitleFont\":42,\"fNbins\":1,\"fXmin\":0,\"fXmax\":1,\"fXbins\":[],\"fFirst\":0,\"fLast\":0,\"fBits2\":0,\"fTimeDisplay\":false,\"fTimeFormat\":\"\",\"fLabels\":null,\"fModLabs\":null},\"fBarOffset\":0,\"fBarWidth\":1000,\"fEntries\":0,\"fTsumw\":0,\"fTsumw2\":0,\"fTsumwx\":0,\"fTsumwx2\":0,\"fMaximum\":40000,\"fMinimum\":1,\"fNormFactor\":0,\"fContour\":[],\"fSumw2\":[],\"fOption\":\"\",\"fFunctions\":{\"_typename\":\"TList\",\"name\":\"TList\",\"arr\":[],\"opt\":[]},\"fBufferSize\":0,\"fBuffer\":[],\"fBinStatErrOpt\":0,\"fStatOverflows\":2,\"fArray\":[0,0,0,0,0,0,0,0,0,0,0,0,0,0,0,0,0,0,0,0,0,0,0,0,0,0,0,0,0,0,0,0,0,0,0,0,0,0,0,0,0,0,0,0,0,0,0,0,0,0,0,0,0,0,0,0,0,0,0,0,0,0,0,0,0,0,0,0,0,0,0,0,0,0,0,0,0,0,0,0,0,0,0,0,0,0,0,0,0,0,0,0,0,0,0,0,0,0,0,0,0,0]},\"fMinimum\":-1111,\"fMaximum\":-1111,\"fEXlow\":[0.5,0.5,0.5,0.5,0.5,0.5,0.5,0.5,0.5,0.5,0.5,0.5,0.5,0.5,0.5,0.5,0.5,0.5,0.5,0.5,0.5,0.5,0.5,0.5,0.5,0.5,0.5,0.5,0.5,0.5,0.5,0.5,0.5,0.5,0.5,0.5,0.5,0.5,0.5,0.5,0.5,0.5,0.5,0.5,0.5,0.5,0.5,0.5,0.5,0.5,0.5,0.5,0.5,0.5,0.5,0.5,0.5,0.5,0.5,0.5,0.5,0.5,0.5,0.5,0.5,0.5,0.5,0.5,0.5,0.5,0.5,0.5,0.5,0.5,0.5,0.5,0.5,0.5,0.5,0.5,0.5,0.5,0.5,0.5,0.5,0.5,0.5,0.5,0.5,0.5,0.5,0.5,0.5,0.5,0.5,0.5,0.5,0.5,0.5,0.5],\"fEXhigh\":[0.5,0.5,0.5,0.5,0.5,0.5,0.5,0.5,0.5,0.5,0.5,0.5,0.5,0.5,0.5,0.5,0.5,0.5,0.5,0.5,0.5,0.5,0.5,0.5,0.5,0.5,0.5,0.5,0.5,0.5,0.5,0.5,0.5,0.5,0.5,0.5,0.5,0.5,0.5,0.5,0.5,0.5,0.5,0.5,0.5,0.5,0.5,0.5,0.5,0.5,0.5,0.5,0.5,0.5,0.5,0.5,0.5,0.5,0.5,0.5,0.5,0.5,0.5,0.5,0.5,0.5,0.5,0.5,0.5,0.5,0.5,0.5,0.5,0.5,0.5,0.5,0.5,0.5,0.5,0.5,0.5,0.5,0.5,0.5,0.5,0.5,0.5,0.5,0.5,0.5,0.5,0.5,0.5,0.5,0.5,0.5,0.5,0.5,0.5,0.5],\"fEYlow\":[16.4588618273883,14.0186553875708,9.95298192651266,8.04147833439737,7.14190773573765,6.55376357151143,6.0784922894678,5.60308854185172,5.09325007991064,4.65172118638199,4.11224489795918,3.62397567713345,3.20256203403477,2.80266020176913,2.45535416114317,2.23676634865132,2.0682530701494,1.91109400602771,1.75411546785047,1.62839048148264,1.50046848161051,1.38787702045488,1.31380275382888,1.18358549989788,1.11838317432566,1.03714588904777,0.962069583873698,0.908578785932035,0.866295881768375,0.851735250108008,0.83692133309186,0.790816326530612,0.724795135426689,0.724795135426689,0.724795135426689,0.724795135426689,0.6894176900498,0.652123848949732,0.59179274994894,0.59179274994894,0.570265762956039,0.570265762956039,0.524568206637844,0.500156160536836,0.500156160536836,0.500156160536836,0.474489795918367,0.447353269730265,0.41846066654593,0.41846066654593,0.41846066654593,0.41846066654593,0.41846066654593,0.41846066654593,0.387419296052441,0.387419296052441,0.316326530612245,0.2739468114012,0.2739468114012,0.2739468114012,0.2739468114012,0.2739468114012,0.2739468114012,0.2739468114012,0.2739468114012,0.2739468114012,0.2739468114012,0.2739468114012,0.2739468114012,0.2739468114012,0.2739468114012,0.2739468114012,0.2739468114012,0.2739468114012,0.2739468114012,0.2739468114012,0.2739468114012,0.223676634865132,0.223676634865132,0.223676634865132,0.223676634865132,0.223676634865132,0.223676634865132,0.223676634865132,0.223676634865132,0.223676634865132,0.223676634865132,0.223676634865132,0.223676634865132,0.223676634865132,0.158163265306122,0.158163265306122,0.158163265306122,0.158163265306122,0.158163265306122,0.158163265306122,0.158163265306122,0,0,0],\"fEYhigh\":[16.4588618273883,14.0186553875708,9.95298192651266,8.04147833439737,7.14190773573765,6.55376357151143,6.0784922894678,5.60308854185172,5.09325007991064,4.65172118638199,4.11224489795918,3.62397567713345,3.20256203403477,2.80266020176913,2.45535416114317,2.23676634865132,2.0682530701494,1.91109400602771,1.75411546785047,1.62839048148264,1.50046848161051,1.38787702045488,1.31380275382888,1.18358549989788,1.11838317432566,1.03714588904777,0.962069583873698,0.908578785932035,0.866295881768375,0.851735250108008,0.83692133309186,0.790816326530612,0.724795135426689,0.724795135426689,0.724795135426689,0.724795135426689,0.6894176900498,0.652123848949732,0.59179274994894,0.59179274994894,0.570265762956039,0.570265762956039,0.524568206637844,0.500156160536836,0.500156160536836,0.500156160536836,0.474489795918367,0.447353269730265,0.41846066654593,0.41846066654593,0.41846066654593,0.41846066654593,0.41846066654593,0.41846066654593,0.387419296052441,0.387419296052441,0.316326530612245,0.2739468114012,0.2739468114012,0.2739468114012,0.2739468114012,0.2739468114012,0.2739468114012,0.2739468114012,0.2739468114012,0.2739468114012,0.2739468114012,0.2739468114012,0.2739468114012,0.2739468114012,0.2739468114012,0.2739468114012,0.2739468114012,0.2739468114012,0.2739468114012,0.2739468114012,0.2739468114012,0.223676634865132,0.223676634865132,0.223676634865132,0.223676634865132,0.223676634865132,0.223676634865132,0.223676634865132,0.223676634865132,0.223676634865132,0.223676634865132,0.223676634865132,0.223676634865132,0.223676634865132,0.158163265306122,0.158163265306122,0.158163265306122,0.158163265306122,0.158163265306122,0.158163265306122,0.158163265306122,0,0,0]},{\"_typename\":\"TLatex\",\"fUniqueID\":0,\"fBits\":50348040,\"fName\":\"\",\"fTitle\":\"PU200, TkEle Ell. match, hwQual 5, 1.52 < |#eta^{L1}| <= 2.4\",\"fTextAngle\":0,\"fTextSize\":0.03,\"fTextAlign\":11,\"fTextColor\":1,\"fTextFont\":62,\"fX\":0.15,\"fY\":0.85,\"fLineColor\":1,\"fLineStyle\":1,\"fLineWidth\":2,\"fLimitFactorSize\":3,\"fOriginSize\":0.04},{\"_typename\":\"TLatex\",\"fUniqueID\":0,\"fBits\":50331656,\"fName\":\"\",\"fTitle\":\"\",\"fTextAngle\":0,\"fTextSize\":0.03,\"fTextAlign\":11,\"fTextColor\":1,\"fTextFont\":62,\"fX\":0,\"fY\":0,\"fLineColor\":1,\"fLineStyle\":1,\"fLineWidth\":2,\"fLimitFactorSize\":3,\"fOriginSize\":0.04}],\"opt\":[\"\",\"pa\",\"same\",\"same\"]},\"fExecs\":null,\"fName\":\"c_919cdb\",\"fTitle\":\"c_919cdb\",\"fNumPaletteColor\":0,\"fNextPaletteColor\":0,\"fDISPLAY\":\"$DISPLAY\",\"fDoubleBuffer\":0,\"fRetained\":true,\"fXsizeUser\":0,\"fYsizeUser\":0,\"fXsizeReal\":20,\"fYsizeReal\":15,\"fWindowTopX\":0,\"fWindowTopY\":0,\"fWindowWidth\":0,\"fWindowHeight\":0,\"fCw\":796,\"fCh\":572,\"fCatt\":{\"_typename\":\"TAttCanvas\",\"fXBetween\":2,\"fYBetween\":2,\"fTitleFromTop\":1.2,\"fXdate\":0.2,\"fYdate\":0.3,\"fAdate\":1},\"kMoveOpaque\":true,\"kResizeOpaque\":true,\"fHighLightColor\":2,\"fBatch\":true,\"kShowEventStatus\":false,\"kAutoExec\":true,\"kMenuBar\":true});\n",
       "       Core.draw(\"root_plot_41\", obj, \"\");\n",
       "     }\n",
       " );\n",
       "</script>\n"
      ],
      "text/plain": [
       "<IPython.core.display.HTML object>"
      ]
     },
     "metadata": {},
     "output_type": "display_data"
    },
    {
     "data": {
      "text/html": [
       "\n",
       "<div id=\"root_plot_42\"\n",
       "     style=\"width: 796px; height: 572px\">\n",
       "</div>\n",
       "\n",
       "<script>\n",
       " requirejs.config({\n",
       "     paths: {\n",
       "       'JSRootCore' : 'https://root.cern.ch/js/notebook//scripts/JSRootCore',\n",
       "     }\n",
       "   });\n",
       " require(['JSRootCore'],\n",
       "     function(Core) {\n",
       "       var obj = Core.JSONR_unref({\"_typename\":\"TCanvas\",\"fUniqueID\":0,\"fBits\":53673992,\"fLineColor\":1,\"fLineStyle\":1,\"fLineWidth\":1,\"fFillColor\":0,\"fFillStyle\":1001,\"fLeftMargin\":0.13,\"fRightMargin\":0.3,\"fBottomMargin\":0.13,\"fTopMargin\":0.1,\"fXfile\":2,\"fYfile\":2,\"fAfile\":1,\"fXstat\":0.99,\"fYstat\":0.99,\"fAstat\":2,\"fFrameFillColor\":0,\"fFrameLineColor\":1,\"fFrameFillStyle\":1001,\"fFrameLineStyle\":1,\"fFrameLineWidth\":1,\"fFrameBorderSize\":1,\"fFrameBorderMode\":0,\"fX1\":-37.8684203921923,\"fY1\":-0.776971158114093,\"fX2\":172.657898039039,\"fY2\":5.19973014378258,\"fXtoAbsPixelk\":143.180545706201,\"fXtoPixelk\":143.180545706201,\"fXtoPixel\":3.7809999525547,\"fYtoAbsPixelk\":497.640051065433,\"fYtoPixelk\":497.640051065433,\"fYtoPixel\":-95.7049668549571,\"fUtoAbsPixelk\":5e-5,\"fUtoPixelk\":5e-5,\"fUtoPixel\":796,\"fVtoAbsPixelk\":572.00005,\"fVtoPixelk\":572,\"fVtoPixel\":-572,\"fAbsPixeltoXk\":-37.8684203921923,\"fPixeltoXk\":-37.8684203921923,\"fPixeltoX\":0.264480299536722,\"fAbsPixeltoYk\":5.19973014378258,\"fPixeltoYk\":-0.776971158114093,\"fPixeltoY\":-0.0104487784998194,\"fXlowNDC\":0,\"fYlowNDC\":0,\"fXUpNDC\":0,\"fYUpNDC\":0,\"fWNDC\":1,\"fHNDC\":1,\"fAbsXlowNDC\":0,\"fAbsYlowNDC\":0,\"fAbsWNDC\":1,\"fAbsHNDC\":1,\"fUxmin\":-10.5,\"fUymin\":0,\"fUxmax\":109.5,\"fUymax\":4.60205999132796,\"fTheta\":30,\"fPhi\":30,\"fAspectRatio\":0,\"fNumber\":0,\"fTickx\":0,\"fTicky\":0,\"fLogx\":0,\"fLogy\":1,\"fLogz\":0,\"fPadPaint\":0,\"fCrosshair\":0,\"fCrosshairPos\":0,\"fBorderSize\":2,\"fBorderMode\":0,\"fModified\":false,\"fGridx\":true,\"fGridy\":true,\"fAbsCoord\":false,\"fEditable\":true,\"fFixedAspectRatio\":false,\"fPrimitives\":{\"_typename\":\"TList\",\"name\":\"TList\",\"arr\":[{\"_typename\":\"TFrame\",\"fUniqueID\":0,\"fBits\":50331656,\"fLineColor\":1,\"fLineStyle\":1,\"fLineWidth\":1,\"fFillColor\":0,\"fFillStyle\":1001,\"fX1\":-10.5,\"fY1\":0,\"fX2\":109.5,\"fY2\":4.60205999132796,\"fBorderSize\":1,\"fBorderMode\":0},{\"_typename\":\"TGraphAsymmErrors\",\"fUniqueID\":0,\"fBits\":50332680,\"fName\":\"025775\",\"fTitle\":\";; rate [kHz]\",\"fLineColor\":1,\"fLineStyle\":1,\"fLineWidth\":1,\"fFillColor\":0,\"fFillStyle\":1001,\"fMarkerColor\":1,\"fMarkerStyle\":8,\"fMarkerSize\":0.5,\"fNpoints\":100,\"fX\":[0,1,2,3,4,5,6,7,8,9,10,11,12,13,14,15,16,17,18,19,20,21,22,23,24,25,26,27,28,29,30,31,32,33,34,35,36,37,38,39,40,41,42,43,44,45,46,47,48,49,50,51,52,53,54,55,56,57,58,59,60,61,62,63,64,65,66,67,68,69,70,71,72,73,74,75,76,77,78,79,80,81,82,83,84,85,86,87,88,89,90,91,92,93,94,95,96,97,98,99],\"fY\":[31000,31000,30999.841796875,30712.142578125,26377.361328125,17474.03515625,9884.0966796875,5313.4951171875,2891.224609375,1643.63269042969,995.9541015625,652.89794921875,443.331634521484,317.275512695312,229.653060913086,175.086730957031,137.602035522461,108.816329956055,90.3112258911133,73.7040786743164,59.4693870544434,49.0306129455566,41.1224479675293,33.8469390869141,29.1020412445068,24.5153064727783,21.5102043151855,18.3469390869141,16.923469543457,15.1836738586426,14.3928575515747,12.6530609130859,10.7551021575928,10.1224489212036,9.48979568481445,9.01530647277832,8.54081630706787,7.59183692932129,6.64285707473755,6.32653045654297,6.01020431518555,5.85204076766968,4.9030613899231,4.58673477172852,4.11224508285522,3.47959184646606,3.00510215759277,2.84693884849548,2.5306122303009,2.21428561210632,1.89795923233032,1.73979592323303,1.73979592323303,1.73979592323303,1.10714280605316,1.10714280605316,0.790816307067871,0.632653057575226,0.632653057575226,0.632653057575226,0.632653057575226,0.632653057575226,0.632653057575226,0.632653057575226,0.632653057575226,0.632653057575226,0.632653057575226,0.632653057575226,0.632653057575226,0.632653057575226,0.632653057575226,0.632653057575226,0.632653057575226,0.632653057575226,0.632653057575226,0.632653057575226,0.632653057575226,0.474489808082581,0.474489808082581,0.474489808082581,0.474489808082581,0.474489808082581,0.474489808082581,0.474489808082581,0.474489808082581,0.474489808082581,0.474489808082581,0.474489808082581,0.474489808082581,0.474489808082581,0.316326528787613,0.316326528787613,0.316326528787613,0.316326528787613,0.316326528787613,0.316326528787613,0.316326528787613,0.158163264393806,0.158163264393806,0.158163264393806],\"fFunctions\":{\"_typename\":\"TList\",\"name\":\"TList\",\"arr\":[],\"opt\":[]},\"fHistogram\":{\"_typename\":\"TH1F\",\"fUniqueID\":0,\"fBits\":50332160,\"fName\":\"025775\",\"fTitle\":\"\",\"fLineColor\":602,\"fLineStyle\":1,\"fLineWidth\":1,\"fFillColor\":0,\"fFillStyle\":1001,\"fMarkerColor\":1,\"fMarkerStyle\":1,\"fMarkerSize\":1,\"fNcells\":102,\"fXaxis\":{\"_typename\":\"TAxis\",\"fUniqueID\":0,\"fBits\":50331656,\"fName\":\"xaxis\",\"fTitle\":\"p_{T} thresh. [GeV]\",\"fNdivisions\":510,\"fAxisColor\":1,\"fLabelColor\":1,\"fLabelFont\":42,\"fLabelOffset\":0.005,\"fLabelSize\":0.035,\"fTickLength\":0.03,\"fTitleOffset\":1.4,\"fTitleSize\":0.035,\"fTitleColor\":1,\"fTitleFont\":42,\"fNbins\":100,\"fXmin\":-10.5,\"fXmax\":109.5,\"fXbins\":[],\"fFirst\":0,\"fLast\":0,\"fBits2\":0,\"fTimeDisplay\":false,\"fTimeFormat\":\"\",\"fLabels\":null,\"fModLabs\":null},\"fYaxis\":{\"_typename\":\"TAxis\",\"fUniqueID\":0,\"fBits\":50331656,\"fName\":\"yaxis\",\"fTitle\":\" rate [kHz]\",\"fNdivisions\":510,\"fAxisColor\":1,\"fLabelColor\":1,\"fLabelFont\":42,\"fLabelOffset\":0.005,\"fLabelSize\":0.035,\"fTickLength\":0.03,\"fTitleOffset\":0,\"fTitleSize\":0.035,\"fTitleColor\":1,\"fTitleFont\":42,\"fNbins\":1,\"fXmin\":1,\"fXmax\":40000,\"fXbins\":[],\"fFirst\":0,\"fLast\":0,\"fBits2\":0,\"fTimeDisplay\":false,\"fTimeFormat\":\"\",\"fLabels\":null,\"fModLabs\":null},\"fZaxis\":{\"_typename\":\"TAxis\",\"fUniqueID\":0,\"fBits\":50331648,\"fName\":\"zaxis\",\"fTitle\":\"\",\"fNdivisions\":510,\"fAxisColor\":1,\"fLabelColor\":1,\"fLabelFont\":42,\"fLabelOffset\":0.005,\"fLabelSize\":0.035,\"fTickLength\":0.03,\"fTitleOffset\":1,\"fTitleSize\":0.035,\"fTitleColor\":1,\"fTitleFont\":42,\"fNbins\":1,\"fXmin\":0,\"fXmax\":1,\"fXbins\":[],\"fFirst\":0,\"fLast\":0,\"fBits2\":0,\"fTimeDisplay\":false,\"fTimeFormat\":\"\",\"fLabels\":null,\"fModLabs\":null},\"fBarOffset\":0,\"fBarWidth\":1000,\"fEntries\":0,\"fTsumw\":0,\"fTsumw2\":0,\"fTsumwx\":0,\"fTsumwx2\":0,\"fMaximum\":40000,\"fMinimum\":1,\"fNormFactor\":0,\"fContour\":[],\"fSumw2\":[],\"fOption\":\"\",\"fFunctions\":{\"_typename\":\"TList\",\"name\":\"TList\",\"arr\":[],\"opt\":[]},\"fBufferSize\":0,\"fBuffer\":[],\"fBinStatErrOpt\":0,\"fStatOverflows\":2,\"fArray\":[0,0,0,0,0,0,0,0,0,0,0,0,0,0,0,0,0,0,0,0,0,0,0,0,0,0,0,0,0,0,0,0,0,0,0,0,0,0,0,0,0,0,0,0,0,0,0,0,0,0,0,0,0,0,0,0,0,0,0,0,0,0,0,0,0,0,0,0,0,0,0,0,0,0,0,0,0,0,0,0,0,0,0,0,0,0,0,0,0,0,0,0,0,0,0,0,0,0,0,0,0,0]},\"fMinimum\":-1111,\"fMaximum\":-1111,\"fEXlow\":[0.5,0.5,0.5,0.5,0.5,0.5,0.5,0.5,0.5,0.5,0.5,0.5,0.5,0.5,0.5,0.5,0.5,0.5,0.5,0.5,0.5,0.5,0.5,0.5,0.5,0.5,0.5,0.5,0.5,0.5,0.5,0.5,0.5,0.5,0.5,0.5,0.5,0.5,0.5,0.5,0.5,0.5,0.5,0.5,0.5,0.5,0.5,0.5,0.5,0.5,0.5,0.5,0.5,0.5,0.5,0.5,0.5,0.5,0.5,0.5,0.5,0.5,0.5,0.5,0.5,0.5,0.5,0.5,0.5,0.5,0.5,0.5,0.5,0.5,0.5,0.5,0.5,0.5,0.5,0.5,0.5,0.5,0.5,0.5,0.5,0.5,0.5,0.5,0.5,0.5,0.5,0.5,0.5,0.5,0.5,0.5,0.5,0.5,0.5,0.5],\"fEXhigh\":[0.5,0.5,0.5,0.5,0.5,0.5,0.5,0.5,0.5,0.5,0.5,0.5,0.5,0.5,0.5,0.5,0.5,0.5,0.5,0.5,0.5,0.5,0.5,0.5,0.5,0.5,0.5,0.5,0.5,0.5,0.5,0.5,0.5,0.5,0.5,0.5,0.5,0.5,0.5,0.5,0.5,0.5,0.5,0.5,0.5,0.5,0.5,0.5,0.5,0.5,0.5,0.5,0.5,0.5,0.5,0.5,0.5,0.5,0.5,0.5,0.5,0.5,0.5,0.5,0.5,0.5,0.5,0.5,0.5,0.5,0.5,0.5,0.5,0.5,0.5,0.5,0.5,0.5,0.5,0.5,0.5,0.5,0.5,0.5,0.5,0.5,0.5,0.5,0.5,0.5,0.5,0.5,0.5,0.5,0.5,0.5,0.5,0.5,0.5,0.5],\"fEYlow\":[70.021862475157,70.021862475157,70.0216838477289,69.6960027464547,64.5904771836801,52.5713852456565,39.5386019788129,28.989648208432,21.3842349884009,16.1233466554536,12.5508306356982,10.161912867969,8.37369563776368,7.08387822421755,6.0268298508264,5.26234640355141,4.66514609506461,4.14858355619106,3.77940711740616,3.4142756504725,3.06689950163074,2.78475164648688,2.55030602242097,2.31372910198042,2.14543091302942,1.96911677315128,1.84448478306331,1.70347050021602,1.63605353783901,1.54967718420977,1.50878138999619,1.4146552510713,1.30424769789946,1.26530612244898,1.2251273850248,1.19410646680303,1.16225788815732,1.0957872456048,1.02501511046247,1.00031232107367,0.974983847408359,0.962069583873698,0.880615792080259,0.851735250108008,0.806477576129471,0.741851472216971,0.6894176900498,0.671029904595397,0.63265306122449,0.59179274994894,0.5478936228024,0.524568206637844,0.524568206637844,0.524568206637844,0.41846066654593,0.41846066654593,0.353663812767824,0.316326530612245,0.316326530612245,0.316326530612245,0.316326530612245,0.316326530612245,0.316326530612245,0.316326530612245,0.316326530612245,0.316326530612245,0.316326530612245,0.316326530612245,0.316326530612245,0.316326530612245,0.316326530612245,0.316326530612245,0.316326530612245,0.316326530612245,0.316326530612245,0.316326530612245,0.316326530612245,0.2739468114012,0.2739468114012,0.2739468114012,0.2739468114012,0.2739468114012,0.2739468114012,0.2739468114012,0.2739468114012,0.2739468114012,0.2739468114012,0.2739468114012,0.2739468114012,0.2739468114012,0.223676634865132,0.223676634865132,0.223676634865132,0.223676634865132,0.223676634865132,0.223676634865132,0.223676634865132,0.158163265306122,0.158163265306122,0.158163265306122],\"fEYhigh\":[70.021862475157,70.021862475157,70.0216838477289,69.6960027464547,64.5904771836801,52.5713852456565,39.5386019788129,28.989648208432,21.3842349884009,16.1233466554536,12.5508306356982,10.161912867969,8.37369563776368,7.08387822421755,6.0268298508264,5.26234640355141,4.66514609506461,4.14858355619106,3.77940711740616,3.4142756504725,3.06689950163074,2.78475164648688,2.55030602242097,2.31372910198042,2.14543091302942,1.96911677315128,1.84448478306331,1.70347050021602,1.63605353783901,1.54967718420977,1.50878138999619,1.4146552510713,1.30424769789946,1.26530612244898,1.2251273850248,1.19410646680303,1.16225788815732,1.0957872456048,1.02501511046247,1.00031232107367,0.974983847408359,0.962069583873698,0.880615792080259,0.851735250108008,0.806477576129471,0.741851472216971,0.6894176900498,0.671029904595397,0.63265306122449,0.59179274994894,0.5478936228024,0.524568206637844,0.524568206637844,0.524568206637844,0.41846066654593,0.41846066654593,0.353663812767824,0.316326530612245,0.316326530612245,0.316326530612245,0.316326530612245,0.316326530612245,0.316326530612245,0.316326530612245,0.316326530612245,0.316326530612245,0.316326530612245,0.316326530612245,0.316326530612245,0.316326530612245,0.316326530612245,0.316326530612245,0.316326530612245,0.316326530612245,0.316326530612245,0.316326530612245,0.316326530612245,0.2739468114012,0.2739468114012,0.2739468114012,0.2739468114012,0.2739468114012,0.2739468114012,0.2739468114012,0.2739468114012,0.2739468114012,0.2739468114012,0.2739468114012,0.2739468114012,0.2739468114012,0.223676634865132,0.223676634865132,0.223676634865132,0.223676634865132,0.223676634865132,0.223676634865132,0.223676634865132,0.158163265306122,0.158163265306122,0.158163265306122]},{\"_typename\":\"TGraphAsymmErrors\",\"fUniqueID\":0,\"fBits\":50332680,\"fName\":\"d4c488\",\"fTitle\":\";; rate [kHz]\",\"fLineColor\":628,\"fLineStyle\":1,\"fLineWidth\":1,\"fFillColor\":0,\"fFillStyle\":1001,\"fMarkerColor\":628,\"fMarkerStyle\":21,\"fMarkerSize\":0.5,\"fNpoints\":100,\"fX\":[7.98099333619706,9.01707745092414,10.0531615656512,11.0892456803783,12.1253297951054,13.1614139098325,14.1974980245596,15.2335821392867,16.2696662540138,17.3057503687409,18.3418344834679,19.377918598195,20.4140027129221,21.4500868276492,22.4861709423763,23.5222550571034,24.5583391718305,25.5944232865576,26.6305074012846,27.6665915160117,28.7026756307388,29.7387597454659,30.774843860193,31.8109279749201,32.8470120896472,33.8830962043743,34.9191803191014,35.9552644338284,36.9913485485555,38.0274326632826,39.0635167780097,40.0996008927368,41.1356850074639,42.171769122191,43.2078532369181,44.2439373516451,45.2800214663722,46.3161055810993,47.3521896958264,48.3882738105535,49.4243579252806,50.4604420400077,51.4965261547348,52.5326102694619,53.5686943841889,54.604778498916,55.6408626136431,56.6769467283702,57.7130308430973,58.7491149578244,59.7851990725515,60.8212831872786,61.8573673020056,62.8934514167327,63.9295355314598,64.9656196461869,66.001703760914,67.0377878756411,68.0738719903682,69.1099561050953,70.1460402198224,71.1821243345494,72.2182084492765,73.2542925640036,74.2903766787307,75.3264607934578,76.3625449081849,77.398629022912,78.4347131376391,79.4707972523662,80.5068813670932,81.5429654818203,82.5790495965474,83.6151337112745,84.6512178260016,85.6873019407287,86.7233860554558,87.7594701701829,88.7955542849099,89.831638399637,90.8677225143641,91.9038066290912,92.9398907438183,93.9759748585454,95.0120589732725,96.0481430879996,97.0842272027267,98.1203113174537,99.1563954321808,100.192479546908,101.228563661635,102.264647776362,103.300731891089,104.336816005816,105.372900120543,106.40898423527,107.445068349998,108.481152464725,109.517236579452,110.553320694179],\"fY\":[31000,31000,30999.841796875,30712.142578125,26377.361328125,17474.03515625,9884.0966796875,5313.4951171875,2891.224609375,1643.63269042969,995.9541015625,652.89794921875,443.331634521484,317.275512695312,229.653060913086,175.086730957031,137.602035522461,108.816329956055,90.3112258911133,73.7040786743164,59.4693870544434,49.0306129455566,41.1224479675293,33.8469390869141,29.1020412445068,24.5153064727783,21.5102043151855,18.3469390869141,16.923469543457,15.1836738586426,14.3928575515747,12.6530609130859,10.7551021575928,10.1224489212036,9.48979568481445,9.01530647277832,8.54081630706787,7.59183692932129,6.64285707473755,6.32653045654297,6.01020431518555,5.85204076766968,4.9030613899231,4.58673477172852,4.11224508285522,3.47959184646606,3.00510215759277,2.84693884849548,2.5306122303009,2.21428561210632,1.89795923233032,1.73979592323303,1.73979592323303,1.73979592323303,1.10714280605316,1.10714280605316,0.790816307067871,0.632653057575226,0.632653057575226,0.632653057575226,0.632653057575226,0.632653057575226,0.632653057575226,0.632653057575226,0.632653057575226,0.632653057575226,0.632653057575226,0.632653057575226,0.632653057575226,0.632653057575226,0.632653057575226,0.632653057575226,0.632653057575226,0.632653057575226,0.632653057575226,0.632653057575226,0.632653057575226,0.474489808082581,0.474489808082581,0.474489808082581,0.474489808082581,0.474489808082581,0.474489808082581,0.474489808082581,0.474489808082581,0.474489808082581,0.474489808082581,0.474489808082581,0.474489808082581,0.474489808082581,0.316326528787613,0.316326528787613,0.316326528787613,0.316326528787613,0.316326528787613,0.316326528787613,0.316326528787613,0.158163264393806,0.158163264393806,0.158163264393806],\"fFunctions\":{\"_typename\":\"TList\",\"name\":\"TList\",\"arr\":[],\"opt\":[]},\"fHistogram\":{\"_typename\":\"TH1F\",\"fUniqueID\":0,\"fBits\":50332160,\"fName\":\"d4c488\",\"fTitle\":\"\",\"fLineColor\":602,\"fLineStyle\":1,\"fLineWidth\":1,\"fFillColor\":0,\"fFillStyle\":1001,\"fMarkerColor\":1,\"fMarkerStyle\":1,\"fMarkerSize\":1,\"fNcells\":102,\"fXaxis\":{\"_typename\":\"TAxis\",\"fUniqueID\":0,\"fBits\":50331656,\"fName\":\"xaxis\",\"fTitle\":\"p_{T} thresh. [GeV]\",\"fNdivisions\":510,\"fAxisColor\":1,\"fLabelColor\":1,\"fLabelFont\":42,\"fLabelOffset\":0.005,\"fLabelSize\":0.035,\"fTickLength\":0.03,\"fTitleOffset\":1.4,\"fTitleSize\":0.035,\"fTitleColor\":1,\"fTitleFont\":42,\"fNbins\":100,\"fXmin\":0,\"fXmax\":121.410553429977,\"fXbins\":[],\"fFirst\":0,\"fLast\":0,\"fBits2\":0,\"fTimeDisplay\":false,\"fTimeFormat\":\"\",\"fLabels\":null,\"fModLabs\":null},\"fYaxis\":{\"_typename\":\"TAxis\",\"fUniqueID\":0,\"fBits\":50331656,\"fName\":\"yaxis\",\"fTitle\":\" rate [kHz]\",\"fNdivisions\":510,\"fAxisColor\":1,\"fLabelColor\":1,\"fLabelFont\":42,\"fLabelOffset\":0.005,\"fLabelSize\":0.035,\"fTickLength\":0.03,\"fTitleOffset\":0,\"fTitleSize\":0.035,\"fTitleColor\":1,\"fTitleFont\":42,\"fNbins\":1,\"fXmin\":0.0474489793181419,\"fXmax\":34177.0187766139,\"fXbins\":[],\"fFirst\":0,\"fLast\":0,\"fBits2\":0,\"fTimeDisplay\":false,\"fTimeFormat\":\"\",\"fLabels\":null,\"fModLabs\":null},\"fZaxis\":{\"_typename\":\"TAxis\",\"fUniqueID\":0,\"fBits\":50331648,\"fName\":\"zaxis\",\"fTitle\":\"\",\"fNdivisions\":510,\"fAxisColor\":1,\"fLabelColor\":1,\"fLabelFont\":42,\"fLabelOffset\":0.005,\"fLabelSize\":0.035,\"fTickLength\":0.03,\"fTitleOffset\":1,\"fTitleSize\":0.035,\"fTitleColor\":1,\"fTitleFont\":42,\"fNbins\":1,\"fXmin\":0,\"fXmax\":1,\"fXbins\":[],\"fFirst\":0,\"fLast\":0,\"fBits2\":0,\"fTimeDisplay\":false,\"fTimeFormat\":\"\",\"fLabels\":null,\"fModLabs\":null},\"fBarOffset\":0,\"fBarWidth\":1000,\"fEntries\":0,\"fTsumw\":0,\"fTsumw2\":0,\"fTsumwx\":0,\"fTsumwx2\":0,\"fMaximum\":40000,\"fMinimum\":1,\"fNormFactor\":0,\"fContour\":[],\"fSumw2\":[],\"fOption\":\"\",\"fFunctions\":{\"_typename\":\"TList\",\"name\":\"TList\",\"arr\":[],\"opt\":[]},\"fBufferSize\":0,\"fBuffer\":[],\"fBinStatErrOpt\":0,\"fStatOverflows\":2,\"fArray\":[0,0,0,0,0,0,0,0,0,0,0,0,0,0,0,0,0,0,0,0,0,0,0,0,0,0,0,0,0,0,0,0,0,0,0,0,0,0,0,0,0,0,0,0,0,0,0,0,0,0,0,0,0,0,0,0,0,0,0,0,0,0,0,0,0,0,0,0,0,0,0,0,0,0,0,0,0,0,0,0,0,0,0,0,0,0,0,0,0,0,0,0,0,0,0,0,0,0,0,0,0,0]},\"fMinimum\":-1111,\"fMaximum\":-1111,\"fEXlow\":[0.5,0.5,0.5,0.5,0.5,0.5,0.5,0.5,0.5,0.5,0.5,0.5,0.5,0.5,0.5,0.5,0.5,0.5,0.5,0.5,0.5,0.5,0.5,0.5,0.5,0.5,0.5,0.5,0.5,0.5,0.5,0.5,0.5,0.5,0.5,0.5,0.5,0.5,0.5,0.5,0.5,0.5,0.5,0.5,0.5,0.5,0.5,0.5,0.5,0.5,0.5,0.5,0.5,0.5,0.5,0.5,0.5,0.5,0.5,0.5,0.5,0.5,0.5,0.5,0.5,0.5,0.5,0.5,0.5,0.5,0.5,0.5,0.5,0.5,0.5,0.5,0.5,0.5,0.5,0.5,0.5,0.5,0.5,0.5,0.5,0.5,0.5,0.5,0.5,0.5,0.5,0.5,0.5,0.5,0.5,0.5,0.5,0.5,0.5,0.5],\"fEXhigh\":[0.5,0.5,0.5,0.5,0.5,0.5,0.5,0.5,0.5,0.5,0.5,0.5,0.5,0.5,0.5,0.5,0.5,0.5,0.5,0.5,0.5,0.5,0.5,0.5,0.5,0.5,0.5,0.5,0.5,0.5,0.5,0.5,0.5,0.5,0.5,0.5,0.5,0.5,0.5,0.5,0.5,0.5,0.5,0.5,0.5,0.5,0.5,0.5,0.5,0.5,0.5,0.5,0.5,0.5,0.5,0.5,0.5,0.5,0.5,0.5,0.5,0.5,0.5,0.5,0.5,0.5,0.5,0.5,0.5,0.5,0.5,0.5,0.5,0.5,0.5,0.5,0.5,0.5,0.5,0.5,0.5,0.5,0.5,0.5,0.5,0.5,0.5,0.5,0.5,0.5,0.5,0.5,0.5,0.5,0.5,0.5,0.5,0.5,0.5,0.5],\"fEYlow\":[70.021862475157,70.021862475157,70.0216838477289,69.6960027464547,64.5904771836801,52.5713852456565,39.5386019788129,28.989648208432,21.3842349884009,16.1233466554536,12.5508306356982,10.161912867969,8.37369563776368,7.08387822421755,6.0268298508264,5.26234640355141,4.66514609506461,4.14858355619106,3.77940711740616,3.4142756504725,3.06689950163074,2.78475164648688,2.55030602242097,2.31372910198042,2.14543091302942,1.96911677315128,1.84448478306331,1.70347050021602,1.63605353783901,1.54967718420977,1.50878138999619,1.4146552510713,1.30424769789946,1.26530612244898,1.2251273850248,1.19410646680303,1.16225788815732,1.0957872456048,1.02501511046247,1.00031232107367,0.974983847408359,0.962069583873698,0.880615792080259,0.851735250108008,0.806477576129471,0.741851472216971,0.6894176900498,0.671029904595397,0.63265306122449,0.59179274994894,0.5478936228024,0.524568206637844,0.524568206637844,0.524568206637844,0.41846066654593,0.41846066654593,0.353663812767824,0.316326530612245,0.316326530612245,0.316326530612245,0.316326530612245,0.316326530612245,0.316326530612245,0.316326530612245,0.316326530612245,0.316326530612245,0.316326530612245,0.316326530612245,0.316326530612245,0.316326530612245,0.316326530612245,0.316326530612245,0.316326530612245,0.316326530612245,0.316326530612245,0.316326530612245,0.316326530612245,0.2739468114012,0.2739468114012,0.2739468114012,0.2739468114012,0.2739468114012,0.2739468114012,0.2739468114012,0.2739468114012,0.2739468114012,0.2739468114012,0.2739468114012,0.2739468114012,0.2739468114012,0.223676634865132,0.223676634865132,0.223676634865132,0.223676634865132,0.223676634865132,0.223676634865132,0.223676634865132,0.158163265306122,0.158163265306122,0.158163265306122],\"fEYhigh\":[70.021862475157,70.021862475157,70.0216838477289,69.6960027464547,64.5904771836801,52.5713852456565,39.5386019788129,28.989648208432,21.3842349884009,16.1233466554536,12.5508306356982,10.161912867969,8.37369563776368,7.08387822421755,6.0268298508264,5.26234640355141,4.66514609506461,4.14858355619106,3.77940711740616,3.4142756504725,3.06689950163074,2.78475164648688,2.55030602242097,2.31372910198042,2.14543091302942,1.96911677315128,1.84448478306331,1.70347050021602,1.63605353783901,1.54967718420977,1.50878138999619,1.4146552510713,1.30424769789946,1.26530612244898,1.2251273850248,1.19410646680303,1.16225788815732,1.0957872456048,1.02501511046247,1.00031232107367,0.974983847408359,0.962069583873698,0.880615792080259,0.851735250108008,0.806477576129471,0.741851472216971,0.6894176900498,0.671029904595397,0.63265306122449,0.59179274994894,0.5478936228024,0.524568206637844,0.524568206637844,0.524568206637844,0.41846066654593,0.41846066654593,0.353663812767824,0.316326530612245,0.316326530612245,0.316326530612245,0.316326530612245,0.316326530612245,0.316326530612245,0.316326530612245,0.316326530612245,0.316326530612245,0.316326530612245,0.316326530612245,0.316326530612245,0.316326530612245,0.316326530612245,0.316326530612245,0.316326530612245,0.316326530612245,0.316326530612245,0.316326530612245,0.316326530612245,0.2739468114012,0.2739468114012,0.2739468114012,0.2739468114012,0.2739468114012,0.2739468114012,0.2739468114012,0.2739468114012,0.2739468114012,0.2739468114012,0.2739468114012,0.2739468114012,0.2739468114012,0.223676634865132,0.223676634865132,0.223676634865132,0.223676634865132,0.223676634865132,0.223676634865132,0.223676634865132,0.158163265306122,0.158163265306122,0.158163265306122]},{\"_typename\":\"TGraphAsymmErrors\",\"fUniqueID\":0,\"fBits\":50332680,\"fName\":\"b5bc7a\",\"fTitle\":\";; rate [kHz]\",\"fLineColor\":417,\"fLineStyle\":1,\"fLineWidth\":1,\"fFillColor\":0,\"fFillStyle\":1001,\"fMarkerColor\":417,\"fMarkerStyle\":22,\"fMarkerSize\":0.5,\"fNpoints\":100,\"fX\":[0,1,2,3,4,5,6,7,8,9,10,11,12,13,14,15,16,17,18,19,20,21,22,23,24,25,26,27,28,29,30,31,32,33,34,35,36,37,38,39,40,41,42,43,44,45,46,47,48,49,50,51,52,53,54,55,56,57,58,59,60,61,62,63,64,65,66,67,68,69,70,71,72,73,74,75,76,77,78,79,80,81,82,83,84,85,86,87,88,89,90,91,92,93,94,95,96,97,98,99],\"fY\":[1712.75,1242.53063964844,626.326538085938,408.85205078125,322.494903564453,271.566314697266,233.607147216797,198.494903564453,164.01530456543,136.811218261719,106.918365478516,83.0357131958008,64.8469390869141,49.6632652282715,38.1173477172852,31.6326522827148,27.0459175109863,23.0918369293213,19.4540824890137,16.7653064727783,14.2346935272217,12.1785717010498,10.9132652282715,8.85714244842529,7.90816307067871,6.80102062225342,5.85204076766968,5.21938753128052,4.74489784240723,4.58673477172852,4.42857122421265,3.95408153533936,3.32142853736877,3.32142853736877,3.32142853736877,3.32142853736877,3.00510215759277,2.68877553939819,2.21428561210632,2.21428561210632,2.05612254142761,2.05612254142761,1.73979592323303,1.58163261413574,1.58163261413574,1.58163261413574,1.42346942424774,1.26530611515045,1.10714280605316,1.10714280605316,1.10714280605316,1.10714280605316,1.10714280605316,1.10714280605316,0.948979616165161,0.948979616165161,0.632653057575226,0.474489808082581,0.474489808082581,0.474489808082581,0.474489808082581,0.474489808082581,0.474489808082581,0.474489808082581,0.474489808082581,0.474489808082581,0.474489808082581,0.474489808082581,0.474489808082581,0.474489808082581,0.474489808082581,0.474489808082581,0.474489808082581,0.474489808082581,0.474489808082581,0.474489808082581,0.474489808082581,0.316326528787613,0.316326528787613,0.316326528787613,0.316326528787613,0.316326528787613,0.316326528787613,0.316326528787613,0.316326528787613,0.316326528787613,0.316326528787613,0.316326528787613,0.316326528787613,0.316326528787613,0.158163264393806,0.158163264393806,0.158163264393806,0.158163264393806,0.158163264393806,0.158163264393806,0.158163264393806,0,0,0],\"fFunctions\":{\"_typename\":\"TList\",\"name\":\"TList\",\"arr\":[],\"opt\":[]},\"fHistogram\":{\"_typename\":\"TH1F\",\"fUniqueID\":0,\"fBits\":50332160,\"fName\":\"b5bc7a\",\"fTitle\":\"\",\"fLineColor\":602,\"fLineStyle\":1,\"fLineWidth\":1,\"fFillColor\":0,\"fFillStyle\":1001,\"fMarkerColor\":1,\"fMarkerStyle\":1,\"fMarkerSize\":1,\"fNcells\":102,\"fXaxis\":{\"_typename\":\"TAxis\",\"fUniqueID\":0,\"fBits\":50331656,\"fName\":\"xaxis\",\"fTitle\":\"p_{T} thresh. [GeV]\",\"fNdivisions\":510,\"fAxisColor\":1,\"fLabelColor\":1,\"fLabelFont\":42,\"fLabelOffset\":0.005,\"fLabelSize\":0.035,\"fTickLength\":0.03,\"fTitleOffset\":1.4,\"fTitleSize\":0.035,\"fTitleColor\":1,\"fTitleFont\":42,\"fNbins\":100,\"fXmin\":-10.5,\"fXmax\":109.5,\"fXbins\":[],\"fFirst\":0,\"fLast\":0,\"fBits2\":0,\"fTimeDisplay\":false,\"fTimeFormat\":\"\",\"fLabels\":null,\"fModLabs\":null},\"fYaxis\":{\"_typename\":\"TAxis\",\"fUniqueID\":0,\"fBits\":50331656,\"fName\":\"yaxis\",\"fTitle\":\" rate [kHz]\",\"fNdivisions\":510,\"fAxisColor\":1,\"fLabelColor\":1,\"fLabelFont\":42,\"fLabelOffset\":0.005,\"fLabelSize\":0.035,\"fTickLength\":0.03,\"fTitleOffset\":0,\"fTitleSize\":0.035,\"fTitleColor\":1,\"fTitleFont\":42,\"fNbins\":1,\"fXmin\":1.90212974801013,\"fXmax\":1902.12974801013,\"fXbins\":[],\"fFirst\":0,\"fLast\":0,\"fBits2\":0,\"fTimeDisplay\":false,\"fTimeFormat\":\"\",\"fLabels\":null,\"fModLabs\":null},\"fZaxis\":{\"_typename\":\"TAxis\",\"fUniqueID\":0,\"fBits\":50331648,\"fName\":\"zaxis\",\"fTitle\":\"\",\"fNdivisions\":510,\"fAxisColor\":1,\"fLabelColor\":1,\"fLabelFont\":42,\"fLabelOffset\":0.005,\"fLabelSize\":0.035,\"fTickLength\":0.03,\"fTitleOffset\":1,\"fTitleSize\":0.035,\"fTitleColor\":1,\"fTitleFont\":42,\"fNbins\":1,\"fXmin\":0,\"fXmax\":1,\"fXbins\":[],\"fFirst\":0,\"fLast\":0,\"fBits2\":0,\"fTimeDisplay\":false,\"fTimeFormat\":\"\",\"fLabels\":null,\"fModLabs\":null},\"fBarOffset\":0,\"fBarWidth\":1000,\"fEntries\":0,\"fTsumw\":0,\"fTsumw2\":0,\"fTsumwx\":0,\"fTsumwx2\":0,\"fMaximum\":40000,\"fMinimum\":1,\"fNormFactor\":0,\"fContour\":[],\"fSumw2\":[],\"fOption\":\"\",\"fFunctions\":{\"_typename\":\"TList\",\"name\":\"TList\",\"arr\":[],\"opt\":[]},\"fBufferSize\":0,\"fBuffer\":[],\"fBinStatErrOpt\":0,\"fStatOverflows\":2,\"fArray\":[0,0,0,0,0,0,0,0,0,0,0,0,0,0,0,0,0,0,0,0,0,0,0,0,0,0,0,0,0,0,0,0,0,0,0,0,0,0,0,0,0,0,0,0,0,0,0,0,0,0,0,0,0,0,0,0,0,0,0,0,0,0,0,0,0,0,0,0,0,0,0,0,0,0,0,0,0,0,0,0,0,0,0,0,0,0,0,0,0,0,0,0,0,0,0,0,0,0,0,0,0,0]},\"fMinimum\":-1111,\"fMaximum\":-1111,\"fEXlow\":[0.5,0.5,0.5,0.5,0.5,0.5,0.5,0.5,0.5,0.5,0.5,0.5,0.5,0.5,0.5,0.5,0.5,0.5,0.5,0.5,0.5,0.5,0.5,0.5,0.5,0.5,0.5,0.5,0.5,0.5,0.5,0.5,0.5,0.5,0.5,0.5,0.5,0.5,0.5,0.5,0.5,0.5,0.5,0.5,0.5,0.5,0.5,0.5,0.5,0.5,0.5,0.5,0.5,0.5,0.5,0.5,0.5,0.5,0.5,0.5,0.5,0.5,0.5,0.5,0.5,0.5,0.5,0.5,0.5,0.5,0.5,0.5,0.5,0.5,0.5,0.5,0.5,0.5,0.5,0.5,0.5,0.5,0.5,0.5,0.5,0.5,0.5,0.5,0.5,0.5,0.5,0.5,0.5,0.5,0.5,0.5,0.5,0.5,0.5,0.5],\"fEXhigh\":[0.5,0.5,0.5,0.5,0.5,0.5,0.5,0.5,0.5,0.5,0.5,0.5,0.5,0.5,0.5,0.5,0.5,0.5,0.5,0.5,0.5,0.5,0.5,0.5,0.5,0.5,0.5,0.5,0.5,0.5,0.5,0.5,0.5,0.5,0.5,0.5,0.5,0.5,0.5,0.5,0.5,0.5,0.5,0.5,0.5,0.5,0.5,0.5,0.5,0.5,0.5,0.5,0.5,0.5,0.5,0.5,0.5,0.5,0.5,0.5,0.5,0.5,0.5,0.5,0.5,0.5,0.5,0.5,0.5,0.5,0.5,0.5,0.5,0.5,0.5,0.5,0.5,0.5,0.5,0.5,0.5,0.5,0.5,0.5,0.5,0.5,0.5,0.5,0.5,0.5,0.5,0.5,0.5,0.5,0.5,0.5,0.5,0.5,0.5,0.5],\"fEYlow\":[16.4588618273883,14.0186553875708,9.95298192651266,8.04147833439737,7.14190773573765,6.55376357151143,6.0784922894678,5.60308854185172,5.09325007991064,4.65172118638199,4.11224489795918,3.62397567713345,3.20256203403477,2.80266020176913,2.45535416114317,2.23676634865132,2.0682530701494,1.91109400602771,1.75411546785047,1.62839048148264,1.50046848161051,1.38787702045488,1.31380275382888,1.18358549989788,1.11838317432566,1.03714588904777,0.962069583873698,0.908578785932035,0.866295881768375,0.851735250108008,0.83692133309186,0.790816326530612,0.724795135426689,0.724795135426689,0.724795135426689,0.724795135426689,0.6894176900498,0.652123848949732,0.59179274994894,0.59179274994894,0.570265762956039,0.570265762956039,0.524568206637844,0.500156160536836,0.500156160536836,0.500156160536836,0.474489795918367,0.447353269730265,0.41846066654593,0.41846066654593,0.41846066654593,0.41846066654593,0.41846066654593,0.41846066654593,0.387419296052441,0.387419296052441,0.316326530612245,0.2739468114012,0.2739468114012,0.2739468114012,0.2739468114012,0.2739468114012,0.2739468114012,0.2739468114012,0.2739468114012,0.2739468114012,0.2739468114012,0.2739468114012,0.2739468114012,0.2739468114012,0.2739468114012,0.2739468114012,0.2739468114012,0.2739468114012,0.2739468114012,0.2739468114012,0.2739468114012,0.223676634865132,0.223676634865132,0.223676634865132,0.223676634865132,0.223676634865132,0.223676634865132,0.223676634865132,0.223676634865132,0.223676634865132,0.223676634865132,0.223676634865132,0.223676634865132,0.223676634865132,0.158163265306122,0.158163265306122,0.158163265306122,0.158163265306122,0.158163265306122,0.158163265306122,0.158163265306122,0,0,0],\"fEYhigh\":[16.4588618273883,14.0186553875708,9.95298192651266,8.04147833439737,7.14190773573765,6.55376357151143,6.0784922894678,5.60308854185172,5.09325007991064,4.65172118638199,4.11224489795918,3.62397567713345,3.20256203403477,2.80266020176913,2.45535416114317,2.23676634865132,2.0682530701494,1.91109400602771,1.75411546785047,1.62839048148264,1.50046848161051,1.38787702045488,1.31380275382888,1.18358549989788,1.11838317432566,1.03714588904777,0.962069583873698,0.908578785932035,0.866295881768375,0.851735250108008,0.83692133309186,0.790816326530612,0.724795135426689,0.724795135426689,0.724795135426689,0.724795135426689,0.6894176900498,0.652123848949732,0.59179274994894,0.59179274994894,0.570265762956039,0.570265762956039,0.524568206637844,0.500156160536836,0.500156160536836,0.500156160536836,0.474489795918367,0.447353269730265,0.41846066654593,0.41846066654593,0.41846066654593,0.41846066654593,0.41846066654593,0.41846066654593,0.387419296052441,0.387419296052441,0.316326530612245,0.2739468114012,0.2739468114012,0.2739468114012,0.2739468114012,0.2739468114012,0.2739468114012,0.2739468114012,0.2739468114012,0.2739468114012,0.2739468114012,0.2739468114012,0.2739468114012,0.2739468114012,0.2739468114012,0.2739468114012,0.2739468114012,0.2739468114012,0.2739468114012,0.2739468114012,0.2739468114012,0.223676634865132,0.223676634865132,0.223676634865132,0.223676634865132,0.223676634865132,0.223676634865132,0.223676634865132,0.223676634865132,0.223676634865132,0.223676634865132,0.223676634865132,0.223676634865132,0.223676634865132,0.158163265306122,0.158163265306122,0.158163265306122,0.158163265306122,0.158163265306122,0.158163265306122,0.158163265306122,0,0,0]},{\"_typename\":\"TGraphAsymmErrors\",\"fUniqueID\":0,\"fBits\":50332680,\"fName\":\"a80271\",\"fTitle\":\";; rate [kHz]\",\"fLineColor\":597,\"fLineStyle\":1,\"fLineWidth\":1,\"fFillColor\":0,\"fFillStyle\":1001,\"fMarkerColor\":597,\"fMarkerStyle\":23,\"fMarkerSize\":0.5,\"fNpoints\":100,\"fX\":[5.39014447697989,6.50596528010733,7.62178608323477,8.73760688636221,9.85342768948965,10.9692484926171,12.0850692957445,13.200890098872,14.3167109019994,15.4325317051269,16.5483525082543,17.6641733113817,18.7799941145092,19.8958149176366,21.0116357207641,22.1274565238915,23.243277327019,24.3590981301464,25.4749189332738,26.5907397364013,27.7065605395287,28.8223813426562,29.9382021457836,31.054022948911,32.1698437520385,33.2856645551659,34.4014853582934,35.5173061614208,36.6331269645483,37.7489477676757,38.8647685708031,39.9805893739306,41.096410177058,42.2122309801855,43.3280517833129,44.4438725864403,45.5596933895678,46.6755141926952,47.7913349958227,48.9071557989501,50.0229766020775,51.138797405205,52.2546182083324,53.3704390114599,54.4862598145873,55.6020806177148,56.7179014208422,57.8337222239696,58.9495430270971,60.0653638302245,61.181184633352,62.2970054364794,63.4128262396069,64.5286470427343,65.6444678458617,66.7602886489892,67.8761094521166,68.9919302552441,70.1077510583715,71.2235718614989,72.3393926646264,73.4552134677538,74.5710342708813,75.6868550740087,76.8026758771362,77.9184966802636,79.034317483391,80.1501382865185,81.2659590896459,82.3817798927734,83.4976006959008,84.6134214990282,85.7292423021557,86.8450631052831,87.9608839084106,89.076704711538,90.1925255146654,91.3083463177929,92.4241671209203,93.5399879240478,94.6558087271752,95.7716295303027,96.8874503334301,98.0032711365575,99.119091939685,100.234912742812,101.35073354594,102.466554349067,103.582375152195,104.698195955322,105.81401675845,106.929837561577,108.045658364705,109.161479167832,110.277299970959,111.393120774087,112.508941577214,113.624762380342,114.740583183469,115.856403986597],\"fY\":[1712.75,1242.53063964844,626.326538085938,408.85205078125,322.494903564453,271.566314697266,233.607147216797,198.494903564453,164.01530456543,136.811218261719,106.918365478516,83.0357131958008,64.8469390869141,49.6632652282715,38.1173477172852,31.6326522827148,27.0459175109863,23.0918369293213,19.4540824890137,16.7653064727783,14.2346935272217,12.1785717010498,10.9132652282715,8.85714244842529,7.90816307067871,6.80102062225342,5.85204076766968,5.21938753128052,4.74489784240723,4.58673477172852,4.42857122421265,3.95408153533936,3.32142853736877,3.32142853736877,3.32142853736877,3.32142853736877,3.00510215759277,2.68877553939819,2.21428561210632,2.21428561210632,2.05612254142761,2.05612254142761,1.73979592323303,1.58163261413574,1.58163261413574,1.58163261413574,1.42346942424774,1.26530611515045,1.10714280605316,1.10714280605316,1.10714280605316,1.10714280605316,1.10714280605316,1.10714280605316,0.948979616165161,0.948979616165161,0.632653057575226,0.474489808082581,0.474489808082581,0.474489808082581,0.474489808082581,0.474489808082581,0.474489808082581,0.474489808082581,0.474489808082581,0.474489808082581,0.474489808082581,0.474489808082581,0.474489808082581,0.474489808082581,0.474489808082581,0.474489808082581,0.474489808082581,0.474489808082581,0.474489808082581,0.474489808082581,0.474489808082581,0.316326528787613,0.316326528787613,0.316326528787613,0.316326528787613,0.316326528787613,0.316326528787613,0.316326528787613,0.316326528787613,0.316326528787613,0.316326528787613,0.316326528787613,0.316326528787613,0.316326528787613,0.158163264393806,0.158163264393806,0.158163264393806,0.158163264393806,0.158163264393806,0.158163264393806,0.158163264393806,0,0,0],\"fFunctions\":{\"_typename\":\"TList\",\"name\":\"TList\",\"arr\":[],\"opt\":[]},\"fHistogram\":{\"_typename\":\"TH1F\",\"fUniqueID\":0,\"fBits\":50332160,\"fName\":\"a80271\",\"fTitle\":\"\",\"fLineColor\":602,\"fLineStyle\":1,\"fLineWidth\":1,\"fFillColor\":0,\"fFillStyle\":1001,\"fMarkerColor\":1,\"fMarkerStyle\":1,\"fMarkerSize\":1,\"fNcells\":102,\"fXaxis\":{\"_typename\":\"TAxis\",\"fUniqueID\":0,\"fBits\":50331656,\"fName\":\"xaxis\",\"fTitle\":\"p_{T} thresh. [GeV]\",\"fNdivisions\":510,\"fAxisColor\":1,\"fLabelColor\":1,\"fLabelFont\":42,\"fLabelOffset\":0.005,\"fLabelSize\":0.035,\"fTickLength\":0.03,\"fTitleOffset\":1.4,\"fTitleSize\":0.035,\"fTitleColor\":1,\"fTitleFont\":42,\"fNbins\":100,\"fXmin\":0,\"fXmax\":127.503029937558,\"fXbins\":[],\"fFirst\":0,\"fLast\":0,\"fBits2\":0,\"fTimeDisplay\":false,\"fTimeFormat\":\"\",\"fLabels\":null,\"fModLabs\":null},\"fYaxis\":{\"_typename\":\"TAxis\",\"fUniqueID\":0,\"fBits\":50331656,\"fName\":\"yaxis\",\"fTitle\":\" rate [kHz]\",\"fNdivisions\":510,\"fAxisColor\":1,\"fLabelColor\":1,\"fLabelFont\":42,\"fLabelOffset\":0.005,\"fLabelSize\":0.035,\"fTickLength\":0.03,\"fTitleOffset\":0,\"fTitleSize\":0.035,\"fTitleColor\":1,\"fTitleFont\":42,\"fNbins\":1,\"fXmin\":1.90212974801013,\"fXmax\":1902.12974801013,\"fXbins\":[],\"fFirst\":0,\"fLast\":0,\"fBits2\":0,\"fTimeDisplay\":false,\"fTimeFormat\":\"\",\"fLabels\":null,\"fModLabs\":null},\"fZaxis\":{\"_typename\":\"TAxis\",\"fUniqueID\":0,\"fBits\":50331648,\"fName\":\"zaxis\",\"fTitle\":\"\",\"fNdivisions\":510,\"fAxisColor\":1,\"fLabelColor\":1,\"fLabelFont\":42,\"fLabelOffset\":0.005,\"fLabelSize\":0.035,\"fTickLength\":0.03,\"fTitleOffset\":1,\"fTitleSize\":0.035,\"fTitleColor\":1,\"fTitleFont\":42,\"fNbins\":1,\"fXmin\":0,\"fXmax\":1,\"fXbins\":[],\"fFirst\":0,\"fLast\":0,\"fBits2\":0,\"fTimeDisplay\":false,\"fTimeFormat\":\"\",\"fLabels\":null,\"fModLabs\":null},\"fBarOffset\":0,\"fBarWidth\":1000,\"fEntries\":0,\"fTsumw\":0,\"fTsumw2\":0,\"fTsumwx\":0,\"fTsumwx2\":0,\"fMaximum\":40000,\"fMinimum\":1,\"fNormFactor\":0,\"fContour\":[],\"fSumw2\":[],\"fOption\":\"\",\"fFunctions\":{\"_typename\":\"TList\",\"name\":\"TList\",\"arr\":[],\"opt\":[]},\"fBufferSize\":0,\"fBuffer\":[],\"fBinStatErrOpt\":0,\"fStatOverflows\":2,\"fArray\":[0,0,0,0,0,0,0,0,0,0,0,0,0,0,0,0,0,0,0,0,0,0,0,0,0,0,0,0,0,0,0,0,0,0,0,0,0,0,0,0,0,0,0,0,0,0,0,0,0,0,0,0,0,0,0,0,0,0,0,0,0,0,0,0,0,0,0,0,0,0,0,0,0,0,0,0,0,0,0,0,0,0,0,0,0,0,0,0,0,0,0,0,0,0,0,0,0,0,0,0,0,0]},\"fMinimum\":-1111,\"fMaximum\":-1111,\"fEXlow\":[0.5,0.5,0.5,0.5,0.5,0.5,0.5,0.5,0.5,0.5,0.5,0.5,0.5,0.5,0.5,0.5,0.5,0.5,0.5,0.5,0.5,0.5,0.5,0.5,0.5,0.5,0.5,0.5,0.5,0.5,0.5,0.5,0.5,0.5,0.5,0.5,0.5,0.5,0.5,0.5,0.5,0.5,0.5,0.5,0.5,0.5,0.5,0.5,0.5,0.5,0.5,0.5,0.5,0.5,0.5,0.5,0.5,0.5,0.5,0.5,0.5,0.5,0.5,0.5,0.5,0.5,0.5,0.5,0.5,0.5,0.5,0.5,0.5,0.5,0.5,0.5,0.5,0.5,0.5,0.5,0.5,0.5,0.5,0.5,0.5,0.5,0.5,0.5,0.5,0.5,0.5,0.5,0.5,0.5,0.5,0.5,0.5,0.5,0.5,0.5],\"fEXhigh\":[0.5,0.5,0.5,0.5,0.5,0.5,0.5,0.5,0.5,0.5,0.5,0.5,0.5,0.5,0.5,0.5,0.5,0.5,0.5,0.5,0.5,0.5,0.5,0.5,0.5,0.5,0.5,0.5,0.5,0.5,0.5,0.5,0.5,0.5,0.5,0.5,0.5,0.5,0.5,0.5,0.5,0.5,0.5,0.5,0.5,0.5,0.5,0.5,0.5,0.5,0.5,0.5,0.5,0.5,0.5,0.5,0.5,0.5,0.5,0.5,0.5,0.5,0.5,0.5,0.5,0.5,0.5,0.5,0.5,0.5,0.5,0.5,0.5,0.5,0.5,0.5,0.5,0.5,0.5,0.5,0.5,0.5,0.5,0.5,0.5,0.5,0.5,0.5,0.5,0.5,0.5,0.5,0.5,0.5,0.5,0.5,0.5,0.5,0.5,0.5],\"fEYlow\":[16.4588618273883,14.0186553875708,9.95298192651266,8.04147833439737,7.14190773573765,6.55376357151143,6.0784922894678,5.60308854185172,5.09325007991064,4.65172118638199,4.11224489795918,3.62397567713345,3.20256203403477,2.80266020176913,2.45535416114317,2.23676634865132,2.0682530701494,1.91109400602771,1.75411546785047,1.62839048148264,1.50046848161051,1.38787702045488,1.31380275382888,1.18358549989788,1.11838317432566,1.03714588904777,0.962069583873698,0.908578785932035,0.866295881768375,0.851735250108008,0.83692133309186,0.790816326530612,0.724795135426689,0.724795135426689,0.724795135426689,0.724795135426689,0.6894176900498,0.652123848949732,0.59179274994894,0.59179274994894,0.570265762956039,0.570265762956039,0.524568206637844,0.500156160536836,0.500156160536836,0.500156160536836,0.474489795918367,0.447353269730265,0.41846066654593,0.41846066654593,0.41846066654593,0.41846066654593,0.41846066654593,0.41846066654593,0.387419296052441,0.387419296052441,0.316326530612245,0.2739468114012,0.2739468114012,0.2739468114012,0.2739468114012,0.2739468114012,0.2739468114012,0.2739468114012,0.2739468114012,0.2739468114012,0.2739468114012,0.2739468114012,0.2739468114012,0.2739468114012,0.2739468114012,0.2739468114012,0.2739468114012,0.2739468114012,0.2739468114012,0.2739468114012,0.2739468114012,0.223676634865132,0.223676634865132,0.223676634865132,0.223676634865132,0.223676634865132,0.223676634865132,0.223676634865132,0.223676634865132,0.223676634865132,0.223676634865132,0.223676634865132,0.223676634865132,0.223676634865132,0.158163265306122,0.158163265306122,0.158163265306122,0.158163265306122,0.158163265306122,0.158163265306122,0.158163265306122,0,0,0],\"fEYhigh\":[16.4588618273883,14.0186553875708,9.95298192651266,8.04147833439737,7.14190773573765,6.55376357151143,6.0784922894678,5.60308854185172,5.09325007991064,4.65172118638199,4.11224489795918,3.62397567713345,3.20256203403477,2.80266020176913,2.45535416114317,2.23676634865132,2.0682530701494,1.91109400602771,1.75411546785047,1.62839048148264,1.50046848161051,1.38787702045488,1.31380275382888,1.18358549989788,1.11838317432566,1.03714588904777,0.962069583873698,0.908578785932035,0.866295881768375,0.851735250108008,0.83692133309186,0.790816326530612,0.724795135426689,0.724795135426689,0.724795135426689,0.724795135426689,0.6894176900498,0.652123848949732,0.59179274994894,0.59179274994894,0.570265762956039,0.570265762956039,0.524568206637844,0.500156160536836,0.500156160536836,0.500156160536836,0.474489795918367,0.447353269730265,0.41846066654593,0.41846066654593,0.41846066654593,0.41846066654593,0.41846066654593,0.41846066654593,0.387419296052441,0.387419296052441,0.316326530612245,0.2739468114012,0.2739468114012,0.2739468114012,0.2739468114012,0.2739468114012,0.2739468114012,0.2739468114012,0.2739468114012,0.2739468114012,0.2739468114012,0.2739468114012,0.2739468114012,0.2739468114012,0.2739468114012,0.2739468114012,0.2739468114012,0.2739468114012,0.2739468114012,0.2739468114012,0.2739468114012,0.223676634865132,0.223676634865132,0.223676634865132,0.223676634865132,0.223676634865132,0.223676634865132,0.223676634865132,0.223676634865132,0.223676634865132,0.223676634865132,0.223676634865132,0.223676634865132,0.223676634865132,0.158163265306122,0.158163265306122,0.158163265306122,0.158163265306122,0.158163265306122,0.158163265306122,0.158163265306122,0,0,0]},{\"_typename\":\"TLegend\",\"fUniqueID\":0,\"fBits\":50331656,\"fLineColor\":1,\"fLineStyle\":1,\"fLineWidth\":1,\"fFillColor\":0,\"fFillStyle\":0,\"fX1\":109.500002509669,\"fY1\":3.46648676623254,\"fX2\":162.131582117477,\"fY2\":4.30322494849808,\"fX1NDC\":0.7,\"fY1NDC\":0.71,\"fX2NDC\":0.95,\"fY2NDC\":0.85,\"fBorderSize\":0,\"fInit\":1,\"fShadowColor\":1,\"fCornerRadius\":0,\"fOption\":\"brNDC\",\"fName\":\"TPave\",\"fTextAngle\":0,\"fTextSize\":0.03,\"fTextAlign\":12,\"fTextColor\":1,\"fTextFont\":42,\"fPrimitives\":{\"_typename\":\"TList\",\"name\":\"TList\",\"arr\":[{\"_typename\":\"TLegendEntry\",\"fUniqueID\":0,\"fBits\":50331656,\"fTextAngle\":0,\"fTextSize\":0,\"fTextAlign\":0,\"fTextColor\":0,\"fTextFont\":42,\"fLineColor\":1,\"fLineStyle\":1,\"fLineWidth\":1,\"fFillColor\":0,\"fFillStyle\":0,\"fMarkerColor\":1,\"fMarkerStyle\":8,\"fMarkerSize\":0.5,\"fObject\":{\"$ref\":3},\"fLabel\":\"EG online\",\"fOption\":\"P\"},{\"_typename\":\"TLegendEntry\",\"fUniqueID\":0,\"fBits\":50331656,\"fTextAngle\":0,\"fTextSize\":0,\"fTextAlign\":0,\"fTextColor\":0,\"fTextFont\":42,\"fLineColor\":1,\"fLineStyle\":1,\"fLineWidth\":1,\"fFillColor\":0,\"fFillStyle\":0,\"fMarkerColor\":628,\"fMarkerStyle\":21,\"fMarkerSize\":0.5,\"fObject\":{\"$ref\":10},\"fLabel\":\"EG offline\",\"fOption\":\"P\"},{\"_typename\":\"TLegendEntry\",\"fUniqueID\":0,\"fBits\":50331656,\"fTextAngle\":0,\"fTextSize\":0,\"fTextAlign\":0,\"fTextColor\":0,\"fTextFont\":42,\"fLineColor\":1,\"fLineStyle\":1,\"fLineWidth\":1,\"fFillColor\":0,\"fFillStyle\":0,\"fMarkerColor\":417,\"fMarkerStyle\":22,\"fMarkerSize\":0.5,\"fObject\":{\"$ref\":17},\"fLabel\":\"TkEle online\",\"fOption\":\"P\"},{\"_typename\":\"TLegendEntry\",\"fUniqueID\":0,\"fBits\":50331656,\"fTextAngle\":0,\"fTextSize\":0,\"fTextAlign\":0,\"fTextColor\":0,\"fTextFont\":42,\"fLineColor\":1,\"fLineStyle\":1,\"fLineWidth\":1,\"fFillColor\":0,\"fFillStyle\":0,\"fMarkerColor\":597,\"fMarkerStyle\":23,\"fMarkerSize\":0.5,\"fObject\":{\"$ref\":24},\"fLabel\":\"TkEle offline\",\"fOption\":\"P\"}],\"opt\":[\"P\",\"P\",\"P\",\"P\"]},\"fEntrySeparation\":0.1,\"fMargin\":0.25,\"fNColumns\":1,\"fColumnSeparation\":0},{\"_typename\":\"TLatex\",\"fUniqueID\":0,\"fBits\":50348040,\"fName\":\"\",\"fTitle\":\"PU200, TkEle Ell. match, hwQual 5, 1.52 < |#eta^{L1}| <= 2.4\",\"fTextAngle\":0,\"fTextSize\":0.03,\"fTextAlign\":11,\"fTextColor\":1,\"fTextFont\":62,\"fX\":0.15,\"fY\":0.85,\"fLineColor\":1,\"fLineStyle\":1,\"fLineWidth\":2,\"fLimitFactorSize\":3,\"fOriginSize\":0.04},{\"_typename\":\"TLatex\",\"fUniqueID\":0,\"fBits\":50331656,\"fName\":\"\",\"fTitle\":\"\",\"fTextAngle\":0,\"fTextSize\":0.03,\"fTextAlign\":11,\"fTextColor\":1,\"fTextFont\":62,\"fX\":0,\"fY\":0,\"fLineColor\":1,\"fLineStyle\":1,\"fLineWidth\":2,\"fLimitFactorSize\":3,\"fOriginSize\":0.04}],\"opt\":[\"\",\"pa\",\",p\",\",p\",\",p\",\"same\",\"same\",\"same\"]},\"fExecs\":null,\"fName\":\"c_ea2587\",\"fTitle\":\"c_ea2587\",\"fNumPaletteColor\":0,\"fNextPaletteColor\":0,\"fDISPLAY\":\"$DISPLAY\",\"fDoubleBuffer\":0,\"fRetained\":true,\"fXsizeUser\":0,\"fYsizeUser\":0,\"fXsizeReal\":20,\"fYsizeReal\":15,\"fWindowTopX\":0,\"fWindowTopY\":0,\"fWindowWidth\":0,\"fWindowHeight\":0,\"fCw\":796,\"fCh\":572,\"fCatt\":{\"_typename\":\"TAttCanvas\",\"fXBetween\":2,\"fYBetween\":2,\"fTitleFromTop\":1.2,\"fXdate\":0.2,\"fYdate\":0.3,\"fAdate\":1},\"kMoveOpaque\":true,\"kResizeOpaque\":true,\"fHighLightColor\":2,\"fBatch\":true,\"kShowEventStatus\":false,\"kAutoExec\":true,\"kMenuBar\":true});\n",
       "       Core.draw(\"root_plot_42\", obj, \"\");\n",
       "     }\n",
       " );\n",
       "</script>\n"
      ],
      "text/plain": [
       "<IPython.core.display.HTML object>"
      ]
     },
     "metadata": {},
     "output_type": "display_data"
    }
   ],
   "source": [
    "hsets, labels, text = hplot.get_histo(histos.RateHistos, sample, 'PU200', 'EG', ['EGq5EtaBC'], None)\n",
    "for hist in hsets:\n",
    "    hist.normalize(31000)\n",
    "newset = [hsets[0].g_pt_online, hsets[0].g_pt_offline]\n",
    "newlabels = ['EG online', 'EG offline']\n",
    "\n",
    "\n",
    "draw([his.g_pt_online for his in hsets], labels, text=text,  min_y =1, max_y = 40000 ,logy=True, x_axis_label='online p_{T} thresh. [GeV]')\n",
    "draw([his.g_pt_offline for his in hsets], labels, text=text,  min_y =1, max_y = 40000 ,logy=True, x_axis_label='offline p_{T} thresh. [GeV]')\n",
    "\n",
    "hsets, labels, text = hplot.get_histo(histos.RateHistos, sample, 'PU200', 'TkEleEL', ['EGq5EtaBC'], None)\n",
    "for hist in hsets:\n",
    "    hist.normalize(31000)\n",
    "draw([his.g_pt_online for his in hsets], labels, text=text,  min_y =1, max_y = 40000 ,logy=True, x_axis_label='online p_{T} thresh. [GeV]')\n",
    "draw([his.g_pt_offline for his in hsets], labels, text=text,  min_y =1, max_y = 40000 ,logy=True, x_axis_label='offline p_{T} thresh. [GeV]')\n",
    "\n",
    "newset.append(hsets[0].g_pt_online)\n",
    "newlabels.append('TkEle online')\n",
    "newset.append(hsets[0].g_pt_offline)\n",
    "newlabels.append('TkEle offline')\n",
    "\n",
    "draw(newset, newlabels, text=text,  min_y =1, max_y = 40000 ,logy=True, x_axis_label='p_{T} thresh. [GeV]')"
   ]
  },
  {
   "cell_type": "code",
   "execution_count": 82,
   "metadata": {},
   "outputs": [
    {
     "name": "stdout",
     "output_type": "stream",
     "text": [
      "normalize to 31000\n"
     ]
    },
    {
     "data": {
      "text/plain": [
       "<__main__.DrawMachine at 0x10dc4ac90>"
      ]
     },
     "execution_count": 82,
     "metadata": {},
     "output_type": "execute_result"
    },
    {
     "data": {
      "text/html": [
       "\n",
       "<div id=\"root_plot_43\"\n",
       "     style=\"width: 796px; height: 572px\">\n",
       "</div>\n",
       "\n",
       "<script>\n",
       " requirejs.config({\n",
       "     paths: {\n",
       "       'JSRootCore' : 'https://root.cern.ch/js/notebook//scripts/JSRootCore',\n",
       "     }\n",
       "   });\n",
       " require(['JSRootCore'],\n",
       "     function(Core) {\n",
       "       var obj = Core.JSONR_unref({\"_typename\":\"TCanvas\",\"fUniqueID\":0,\"fBits\":53673992,\"fLineColor\":1,\"fLineStyle\":1,\"fLineWidth\":1,\"fFillColor\":0,\"fFillStyle\":1001,\"fLeftMargin\":0.13,\"fRightMargin\":0.3,\"fBottomMargin\":0.13,\"fTopMargin\":0.1,\"fXfile\":2,\"fYfile\":2,\"fAfile\":1,\"fXstat\":0.99,\"fYstat\":0.99,\"fAstat\":2,\"fFrameFillColor\":0,\"fFrameLineColor\":1,\"fFrameFillStyle\":1001,\"fFrameLineStyle\":1,\"fFrameLineWidth\":1,\"fFrameBorderSize\":1,\"fFrameBorderMode\":0,\"fX1\":-22.8070169934936,\"fY1\":-0.776971158114093,\"fX2\":152.631581699199,\"fY2\":5.19973014378258,\"fXtoAbsPixelk\":103.480046204376,\"fXtoPixelk\":103.480046204376,\"fXtoPixel\":4.53719994306564,\"fYtoAbsPixelk\":497.640051065433,\"fYtoPixelk\":497.640051065433,\"fYtoPixel\":-95.7049668549571,\"fUtoAbsPixelk\":5e-5,\"fUtoPixelk\":5e-5,\"fUtoPixel\":796,\"fVtoAbsPixelk\":572.00005,\"fVtoPixelk\":572,\"fVtoPixel\":-572,\"fAbsPixeltoXk\":-22.8070169934936,\"fPixeltoXk\":-22.8070169934936,\"fPixeltoX\":0.220400249613935,\"fAbsPixeltoYk\":5.19973014378258,\"fPixeltoYk\":-0.776971158114093,\"fPixeltoY\":-0.0104487784998194,\"fXlowNDC\":0,\"fYlowNDC\":0,\"fXUpNDC\":0,\"fYUpNDC\":0,\"fWNDC\":1,\"fHNDC\":1,\"fAbsXlowNDC\":0,\"fAbsYlowNDC\":0,\"fAbsWNDC\":1,\"fAbsHNDC\":1,\"fUxmin\":0,\"fUymin\":0,\"fUxmax\":100,\"fUymax\":4.60205999132796,\"fTheta\":30,\"fPhi\":30,\"fAspectRatio\":0,\"fNumber\":0,\"fTickx\":0,\"fTicky\":0,\"fLogx\":0,\"fLogy\":1,\"fLogz\":0,\"fPadPaint\":0,\"fCrosshair\":0,\"fCrosshairPos\":0,\"fBorderSize\":2,\"fBorderMode\":0,\"fModified\":false,\"fGridx\":true,\"fGridy\":true,\"fAbsCoord\":false,\"fEditable\":true,\"fFixedAspectRatio\":false,\"fPrimitives\":{\"_typename\":\"TList\",\"name\":\"TList\",\"arr\":[{\"_typename\":\"TFrame\",\"fUniqueID\":0,\"fBits\":50331656,\"fLineColor\":1,\"fLineStyle\":1,\"fLineWidth\":1,\"fFillColor\":0,\"fFillStyle\":1001,\"fX1\":0,\"fY1\":0,\"fX2\":100,\"fY2\":4.60205999132796,\"fBorderSize\":1,\"fBorderMode\":0},{\"_typename\":\"TH1F\",\"fUniqueID\":0,\"fBits\":50332168,\"fName\":\"236cc2\",\"fTitle\":\"\",\"fLineColor\":1,\"fLineStyle\":1,\"fLineWidth\":1,\"fFillColor\":0,\"fFillStyle\":1001,\"fMarkerColor\":1,\"fMarkerStyle\":1,\"fMarkerSize\":1,\"fNcells\":102,\"fXaxis\":{\"_typename\":\"TAxis\",\"fUniqueID\":0,\"fBits\":50331656,\"fName\":\"xaxis\",\"fTitle\":\"online p_{T} thresh. [GeV]\",\"fNdivisions\":510,\"fAxisColor\":1,\"fLabelColor\":1,\"fLabelFont\":42,\"fLabelOffset\":0.005,\"fLabelSize\":0.035,\"fTickLength\":0.03,\"fTitleOffset\":1.4,\"fTitleSize\":0.035,\"fTitleColor\":1,\"fTitleFont\":42,\"fNbins\":100,\"fXmin\":0,\"fXmax\":100,\"fXbins\":[],\"fFirst\":0,\"fLast\":0,\"fBits2\":0,\"fTimeDisplay\":false,\"fTimeFormat\":\"\",\"fLabels\":null,\"fModLabs\":null},\"fYaxis\":{\"_typename\":\"TAxis\",\"fUniqueID\":0,\"fBits\":50331656,\"fName\":\"yaxis\",\"fTitle\":\" rate [kHz]\",\"fNdivisions\":510,\"fAxisColor\":1,\"fLabelColor\":1,\"fLabelFont\":42,\"fLabelOffset\":0.005,\"fLabelSize\":0.035,\"fTickLength\":0.03,\"fTitleOffset\":0,\"fTitleSize\":0.035,\"fTitleColor\":1,\"fTitleFont\":42,\"fNbins\":1,\"fXmin\":0,\"fXmax\":1,\"fXbins\":[],\"fFirst\":0,\"fLast\":0,\"fBits2\":0,\"fTimeDisplay\":false,\"fTimeFormat\":\"\",\"fLabels\":null,\"fModLabs\":null},\"fZaxis\":{\"_typename\":\"TAxis\",\"fUniqueID\":0,\"fBits\":50331648,\"fName\":\"zaxis\",\"fTitle\":\"\",\"fNdivisions\":510,\"fAxisColor\":1,\"fLabelColor\":1,\"fLabelFont\":42,\"fLabelOffset\":0.005,\"fLabelSize\":0.035,\"fTickLength\":0.03,\"fTitleOffset\":1,\"fTitleSize\":0.035,\"fTitleColor\":1,\"fTitleFont\":42,\"fNbins\":1,\"fXmin\":0,\"fXmax\":1,\"fXbins\":[],\"fFirst\":0,\"fLast\":0,\"fBits2\":0,\"fTimeDisplay\":false,\"fTimeFormat\":\"\",\"fLabels\":null,\"fModLabs\":null},\"fBarOffset\":0,\"fBarWidth\":1000,\"fEntries\":1312839,\"fTsumw\":1312827,\"fTsumw2\":1312827,\"fTsumwx\":4257463,\"fTsumwx2\":26278869,\"fMaximum\":40000,\"fMinimum\":1,\"fNormFactor\":0,\"fContour\":[],\"fSumw2\":[0,4903.0612244898,4903.0612244898,4903.0612244898,4898.88361620158,4636.56984069138,3506.339181591,2129.02925864223,1167.37885256143,631.844491878384,357.848422532278,215.784725114536,140.312604123282,95.1594127446897,68.542794668888,49.8060964181591,37.7235526863807,29.4683985839234,23.3896032902957,19.1869793835902,15.859902124115,12.7329498125781,10.4815441482716,8.90556018325698,7.55471678467305,6.55409204498126,5.62851416076635,4.97810807996668,4.30268638067472,3.97748334027489,3.60224906289046,3.30206164098292,2.9268273635985,2.62663994169096,2.4515306122449,2.30143690129113,2.22639004581424,2.10131195335277,1.90118700541441,1.75109329446064,1.65103082049146,1.50093710953769,1.40087463556851,1.20074968763015,1.10068721366097,1.0006247396918,0.850531028738026,0.775484173261141,0.725452936276551,0.675421699291962,0.625390462307372,0.500312369845898,0.450281132861308,0.425265514369013,0.400249895876718,0.275171803415244,0.275171803415244,0.225140566430654,0.175109329446064,0.150093710953769,0.150093710953769,0.150093710953769,0.150093710953769,0.150093710953769,0.150093710953769,0.150093710953769,0.150093710953769,0.150093710953769,0.150093710953769,0.150093710953769,0.150093710953769,0.150093710953769,0.150093710953769,0.125078092461474,0.125078092461474,0.125078092461474,0.125078092461474,0.125078092461474,0.10006247396918,0.10006247396918,0.10006247396918,0.10006247396918,0.10006247396918,0.10006247396918,0.10006247396918,0.10006247396918,0.0750468554768846,0.0750468554768846,0.0750468554768846,0.0750468554768846,0.0750468554768846,0.0500312369845898,0.0500312369845898,0.0500312369845898,0.0500312369845898,0.0500312369845898,0.0500312369845898,0.0500312369845898,0.0250156184922949,0.0250156184922949,0.0250156184922949,0.300187421907539],\"fOption\":\"\",\"fFunctions\":{\"_typename\":\"TList\",\"name\":\"TList\",\"arr\":[],\"opt\":[]},\"fBufferSize\":0,\"fBuffer\":[],\"fBinStatErrOpt\":0,\"fStatOverflows\":2,\"fArray\":[0,31000,31000,31000,30973.59,29315.09,22169.11,13460.96,7380.847,3994.888,2262.525,1364.316,887.1378,601.6531,433.3673,314.9031,238.5102,186.3163,147.8827,121.3112,100.2755,80.5051,66.27041,56.30612,47.7653,41.43877,35.58673,31.47449,27.20408,25.14796,22.77551,20.87755,18.5051,16.60714,15.5,14.55102,14.07653,13.28571,12.02041,11.07143,10.43878,9.489796,8.857142,7.591837,6.959184,6.32653,5.377551,4.903061,4.586735,4.270408,3.954082,3.163265,2.846939,2.688776,2.530612,1.739796,1.739796,1.423469,1.107143,0.9489796,0.9489796,0.9489796,0.9489796,0.9489796,0.9489796,0.9489796,0.9489796,0.9489796,0.9489796,0.9489796,0.9489796,0.9489796,0.9489796,0.7908163,0.7908163,0.7908163,0.7908163,0.7908163,0.6326531,0.6326531,0.6326531,0.6326531,0.6326531,0.6326531,0.6326531,0.6326531,0.4744898,0.4744898,0.4744898,0.4744898,0.4744898,0.3163265,0.3163265,0.3163265,0.3163265,0.3163265,0.3163265,0.3163265,0.1581633,0.1581633,0.1581633,1.897959]},{\"_typename\":\"TH1F\",\"fUniqueID\":0,\"fBits\":50332168,\"fName\":\"d4147e\",\"fTitle\":\"\",\"fLineColor\":628,\"fLineStyle\":1,\"fLineWidth\":1,\"fFillColor\":0,\"fFillStyle\":1001,\"fMarkerColor\":1,\"fMarkerStyle\":1,\"fMarkerSize\":1,\"fNcells\":102,\"fXaxis\":{\"_typename\":\"TAxis\",\"fUniqueID\":0,\"fBits\":50331656,\"fName\":\"xaxis\",\"fTitle\":\"online p_{T} thresh. [GeV]\",\"fNdivisions\":510,\"fAxisColor\":1,\"fLabelColor\":1,\"fLabelFont\":42,\"fLabelOffset\":0.005,\"fLabelSize\":0.035,\"fTickLength\":0.03,\"fTitleOffset\":1.4,\"fTitleSize\":0.035,\"fTitleColor\":1,\"fTitleFont\":42,\"fNbins\":100,\"fXmin\":0,\"fXmax\":100,\"fXbins\":[],\"fFirst\":0,\"fLast\":0,\"fBits2\":0,\"fTimeDisplay\":false,\"fTimeFormat\":\"\",\"fLabels\":null,\"fModLabs\":null},\"fYaxis\":{\"_typename\":\"TAxis\",\"fUniqueID\":0,\"fBits\":50331656,\"fName\":\"yaxis\",\"fTitle\":\" rate [kHz]\",\"fNdivisions\":510,\"fAxisColor\":1,\"fLabelColor\":1,\"fLabelFont\":42,\"fLabelOffset\":0.005,\"fLabelSize\":0.035,\"fTickLength\":0.03,\"fTitleOffset\":0,\"fTitleSize\":0.035,\"fTitleColor\":1,\"fTitleFont\":42,\"fNbins\":1,\"fXmin\":0,\"fXmax\":1,\"fXbins\":[],\"fFirst\":0,\"fLast\":0,\"fBits2\":0,\"fTimeDisplay\":false,\"fTimeFormat\":\"\",\"fLabels\":null,\"fModLabs\":null},\"fZaxis\":{\"_typename\":\"TAxis\",\"fUniqueID\":0,\"fBits\":50331648,\"fName\":\"zaxis\",\"fTitle\":\"\",\"fNdivisions\":510,\"fAxisColor\":1,\"fLabelColor\":1,\"fLabelFont\":42,\"fLabelOffset\":0.005,\"fLabelSize\":0.035,\"fTickLength\":0.03,\"fTitleOffset\":1,\"fTitleSize\":0.035,\"fTitleColor\":1,\"fTitleFont\":42,\"fNbins\":1,\"fXmin\":0,\"fXmax\":1,\"fXbins\":[],\"fFirst\":0,\"fLast\":0,\"fBits2\":0,\"fTimeDisplay\":false,\"fTimeFormat\":\"\",\"fLabels\":null,\"fModLabs\":null},\"fBarOffset\":0,\"fBarWidth\":1000,\"fEntries\":1336457,\"fTsumw\":1336445,\"fTsumw2\":1336445,\"fTsumwx\":4418066,\"fTsumwx2\":27649944,\"fMaximum\":40000,\"fMinimum\":1,\"fNormFactor\":0,\"fContour\":[],\"fSumw2\":[0,4903.0612244898,4903.0612244898,4903.0612244898,4901.71038109121,4715.34402332362,3668.79060807997,2257.03417846731,1244.1017544773,676.872605164515,384.740212411495,233.445751770096,152.545241566014,104.165035401916,75.1719335693461,54.6591264056643,41.5259266972095,32.3702103290296,25.5659620991254,20.8880414410662,17.2107455226989,13.908683881716,11.4071220324865,9.65602873802582,8.20512286547272,7.07942003331945,6.12882653061224,5.40337359433569,4.67792065805914,4.32770199916701,3.87742086630571,3.52720220741358,3.10193669304457,2.80174927113703,2.62663994169096,2.47654623073719,2.37648375676801,2.20137442732195,2.00124947938359,1.85115576842982,1.72607767596835,1.57598396501458,1.4759214910454,1.27579654310704,1.15071845064556,1.05065597667638,0.900562265722616,0.800499791753436,0.725452936276551,0.675421699291962,0.625390462307372,0.500312369845898,0.450281132861308,0.425265514369013,0.400249895876718,0.275171803415244,0.275171803415244,0.225140566430654,0.175109329446064,0.150093710953769,0.150093710953769,0.150093710953769,0.150093710953769,0.150093710953769,0.150093710953769,0.150093710953769,0.150093710953769,0.150093710953769,0.150093710953769,0.150093710953769,0.150093710953769,0.150093710953769,0.150093710953769,0.125078092461474,0.125078092461474,0.125078092461474,0.125078092461474,0.125078092461474,0.10006247396918,0.10006247396918,0.10006247396918,0.10006247396918,0.10006247396918,0.10006247396918,0.10006247396918,0.10006247396918,0.0750468554768846,0.0750468554768846,0.0750468554768846,0.0750468554768846,0.0750468554768846,0.0500312369845898,0.0500312369845898,0.0500312369845898,0.0500312369845898,0.0500312369845898,0.0500312369845898,0.0500312369845898,0.0250156184922949,0.0250156184922949,0.0250156184922949,0.300187421907539],\"fOption\":\"\",\"fFunctions\":{\"_typename\":\"TList\",\"name\":\"TList\",\"arr\":[],\"opt\":[]},\"fBufferSize\":0,\"fBuffer\":[],\"fBinStatErrOpt\":0,\"fStatOverflows\":2,\"fArray\":[0,31000,31000,31000,30991.46,29813.14,23196.22,14270.28,7865.934,4279.582,2432.551,1475.98,964.4796,658.5919,475.2806,345.5867,262.551,204.6633,161.6429,132.0663,108.8163,87.93877,72.12245,61.05102,51.87755,44.7602,38.75,34.16327,29.57653,27.36225,24.51531,22.30102,19.61225,17.71428,16.60714,15.65816,15.02551,13.91837,12.65306,11.70408,10.91327,9.964286,9.331633,8.066326,7.27551,6.642857,5.693878,5.061224,4.586735,4.270408,3.954082,3.163265,2.846939,2.688776,2.530612,1.739796,1.739796,1.423469,1.107143,0.9489796,0.9489796,0.9489796,0.9489796,0.9489796,0.9489796,0.9489796,0.9489796,0.9489796,0.9489796,0.9489796,0.9489796,0.9489796,0.9489796,0.7908163,0.7908163,0.7908163,0.7908163,0.7908163,0.6326531,0.6326531,0.6326531,0.6326531,0.6326531,0.6326531,0.6326531,0.6326531,0.4744898,0.4744898,0.4744898,0.4744898,0.4744898,0.3163265,0.3163265,0.3163265,0.3163265,0.3163265,0.3163265,0.3163265,0.1581633,0.1581633,0.1581633,1.897959]},{\"_typename\":\"TLegend\",\"fUniqueID\":0,\"fBits\":50331656,\"fLineColor\":1,\"fLineStyle\":1,\"fLineWidth\":1,\"fFillColor\":0,\"fFillStyle\":0,\"fX1\":100.000002091391,\"fY1\":3.46648676623254,\"fX2\":143.859651764564,\"fY2\":4.30322494849808,\"fX1NDC\":0.7,\"fY1NDC\":0.71,\"fX2NDC\":0.95,\"fY2NDC\":0.85,\"fBorderSize\":0,\"fInit\":1,\"fShadowColor\":1,\"fCornerRadius\":0,\"fOption\":\"brNDC\",\"fName\":\"TPave\",\"fTextAngle\":0,\"fTextSize\":0.03,\"fTextAlign\":12,\"fTextColor\":1,\"fTextFont\":42,\"fPrimitives\":{\"_typename\":\"TList\",\"name\":\"TList\",\"arr\":[{\"_typename\":\"TLegendEntry\",\"fUniqueID\":0,\"fBits\":50331656,\"fTextAngle\":0,\"fTextSize\":0,\"fTextAlign\":0,\"fTextColor\":0,\"fTextFont\":42,\"fLineColor\":1,\"fLineStyle\":1,\"fLineWidth\":1,\"fFillColor\":0,\"fFillStyle\":0,\"fMarkerColor\":1,\"fMarkerStyle\":21,\"fMarkerSize\":1,\"fObject\":{\"$ref\":3},\"fLabel\":\"hwQual 5, 1.52 < |#eta^{L1}| <= 2.8\",\"fOption\":\"l\"},{\"_typename\":\"TLegendEntry\",\"fUniqueID\":0,\"fBits\":50331656,\"fTextAngle\":0,\"fTextSize\":0,\"fTextAlign\":0,\"fTextColor\":0,\"fTextFont\":42,\"fLineColor\":628,\"fLineStyle\":1,\"fLineWidth\":1,\"fFillColor\":0,\"fFillStyle\":0,\"fMarkerColor\":1,\"fMarkerStyle\":21,\"fMarkerSize\":1,\"fObject\":{\"$ref\":8},\"fLabel\":\"hwQual 5\",\"fOption\":\"l\"}],\"opt\":[\"l\",\"l\"]},\"fEntrySeparation\":0.1,\"fMargin\":0.25,\"fNColumns\":1,\"fColumnSeparation\":0},{\"_typename\":\"TLatex\",\"fUniqueID\":0,\"fBits\":50348040,\"fName\":\"\",\"fTitle\":\"PU200, EG\",\"fTextAngle\":0,\"fTextSize\":0.03,\"fTextAlign\":11,\"fTextColor\":1,\"fTextFont\":62,\"fX\":0.15,\"fY\":0.85,\"fLineColor\":1,\"fLineStyle\":1,\"fLineWidth\":2,\"fLimitFactorSize\":3,\"fOriginSize\":0.04},{\"_typename\":\"TLatex\",\"fUniqueID\":0,\"fBits\":50331656,\"fName\":\"\",\"fTitle\":\"\",\"fTextAngle\":0,\"fTextSize\":0.03,\"fTextAlign\":11,\"fTextColor\":1,\"fTextFont\":62,\"fX\":0,\"fY\":0,\"fLineColor\":1,\"fLineStyle\":1,\"fLineWidth\":2,\"fLimitFactorSize\":3,\"fOriginSize\":0.04}],\"opt\":[\"\",\"\",\"same,\",\"same\",\"same\",\"same\"]},\"fExecs\":null,\"fName\":\"c_597cad\",\"fTitle\":\"c_597cad\",\"fNumPaletteColor\":0,\"fNextPaletteColor\":0,\"fDISPLAY\":\"$DISPLAY\",\"fDoubleBuffer\":0,\"fRetained\":true,\"fXsizeUser\":0,\"fYsizeUser\":0,\"fXsizeReal\":20,\"fYsizeReal\":15,\"fWindowTopX\":0,\"fWindowTopY\":0,\"fWindowWidth\":0,\"fWindowHeight\":0,\"fCw\":796,\"fCh\":572,\"fCatt\":{\"_typename\":\"TAttCanvas\",\"fXBetween\":2,\"fYBetween\":2,\"fTitleFromTop\":1.2,\"fXdate\":0.2,\"fYdate\":0.3,\"fAdate\":1},\"kMoveOpaque\":true,\"kResizeOpaque\":true,\"fHighLightColor\":2,\"fBatch\":true,\"kShowEventStatus\":false,\"kAutoExec\":true,\"kMenuBar\":true});\n",
       "       Core.draw(\"root_plot_43\", obj, \"\");\n",
       "     }\n",
       " );\n",
       "</script>\n"
      ],
      "text/plain": [
       "<IPython.core.display.HTML object>"
      ]
     },
     "metadata": {},
     "output_type": "display_data"
    }
   ],
   "source": [
    "hsets, labels, text = hplot.get_histo(histos.RateHistos, sample, 'PU200', 'EG', ['EGq5EtaBCD', 'EGq5'], None)\n",
    "for hist in hsets:\n",
    "    hist.normalize(31000)\n",
    "draw([his.h_pt for his in hsets], labels, text=text,  min_y =1, max_y = 40000 ,logy=True, x_axis_label='online p_{T} thresh. [GeV]')"
   ]
  },
  {
   "cell_type": "code",
   "execution_count": 83,
   "metadata": {},
   "outputs": [
    {
     "ename": "AttributeError",
     "evalue": "RateHistos instance has no attribute 'g_pt_offline'",
     "output_type": "error",
     "traceback": [
      "\u001b[0;31m\u001b[0m",
      "\u001b[0;31mAttributeError\u001b[0mTraceback (most recent call last)",
      "\u001b[0;32m<ipython-input-83-5215f4a4580f>\u001b[0m in \u001b[0;36m<module>\u001b[0;34m()\u001b[0m\n\u001b[1;32m      1\u001b[0m \u001b[0mhsets\u001b[0m\u001b[0;34m,\u001b[0m \u001b[0mlabels\u001b[0m\u001b[0;34m,\u001b[0m \u001b[0mtext\u001b[0m \u001b[0;34m=\u001b[0m \u001b[0mhplot\u001b[0m\u001b[0;34m.\u001b[0m\u001b[0mget_histo\u001b[0m\u001b[0;34m(\u001b[0m\u001b[0mhistos\u001b[0m\u001b[0;34m.\u001b[0m\u001b[0mRateHistos\u001b[0m\u001b[0;34m,\u001b[0m \u001b[0msample\u001b[0m\u001b[0;34m,\u001b[0m \u001b[0;34m'PU200'\u001b[0m\u001b[0;34m,\u001b[0m \u001b[0;34m'TkEleEL'\u001b[0m\u001b[0;34m,\u001b[0m \u001b[0;34m[\u001b[0m\u001b[0;34m'EGq2EtaBC'\u001b[0m\u001b[0;34m,\u001b[0m\u001b[0;34m'EGq3EtaBC'\u001b[0m\u001b[0;34m,\u001b[0m \u001b[0;34m'EGq4EtaBC'\u001b[0m\u001b[0;34m,\u001b[0m \u001b[0;34m'EGq5EtaBC'\u001b[0m\u001b[0;34m]\u001b[0m\u001b[0;34m,\u001b[0m \u001b[0mNone\u001b[0m\u001b[0;34m)\u001b[0m\u001b[0;34m\u001b[0m\u001b[0m\n\u001b[0;32m----> 2\u001b[0;31m \u001b[0mdraw\u001b[0m\u001b[0;34m(\u001b[0m\u001b[0;34m[\u001b[0m\u001b[0mhis\u001b[0m\u001b[0;34m.\u001b[0m\u001b[0mg_pt_offline\u001b[0m \u001b[0;32mfor\u001b[0m \u001b[0mhis\u001b[0m \u001b[0;32min\u001b[0m \u001b[0mhsets\u001b[0m\u001b[0;34m]\u001b[0m\u001b[0;34m,\u001b[0m \u001b[0mlabels\u001b[0m\u001b[0;34m,\u001b[0m \u001b[0mtext\u001b[0m\u001b[0;34m=\u001b[0m\u001b[0mtext\u001b[0m\u001b[0;34m,\u001b[0m  \u001b[0mmin_y\u001b[0m \u001b[0;34m=\u001b[0m\u001b[0;36m1\u001b[0m\u001b[0;34m,\u001b[0m \u001b[0mmax_y\u001b[0m \u001b[0;34m=\u001b[0m \u001b[0;36m40000\u001b[0m \u001b[0;34m,\u001b[0m\u001b[0mlogy\u001b[0m\u001b[0;34m=\u001b[0m\u001b[0mTrue\u001b[0m\u001b[0;34m,\u001b[0m \u001b[0mx_axis_label\u001b[0m\u001b[0;34m=\u001b[0m\u001b[0;34m'offline p_{T} thresh. [GeV]'\u001b[0m\u001b[0;34m)\u001b[0m\u001b[0;34m\u001b[0m\u001b[0m\n\u001b[0m",
      "\u001b[0;31mAttributeError\u001b[0m: RateHistos instance has no attribute 'g_pt_offline'"
     ]
    }
   ],
   "source": [
    "hsets, labels, text = hplot.get_histo(histos.RateHistos, sample, 'PU200', 'TkEleEL', ['EGq2EtaBC','EGq3EtaBC', 'EGq4EtaBC', 'EGq5EtaBC'], None)\n",
    "draw([his.g_pt_offline for his in hsets], labels, text=text,  min_y =1, max_y = 40000 ,logy=True, x_axis_label='offline p_{T} thresh. [GeV]')"
   ]
  },
  {
   "cell_type": "code",
   "execution_count": 84,
   "metadata": {
    "scrolled": false
   },
   "outputs": [
    {
     "name": "stderr",
     "output_type": "stream",
     "text": [
      "Error in <THistPainter::PaintInit>: Cannot set Y axis to log scale\n",
      "Error in <THistPainter::PaintInit>: Cannot set Y axis to log scale\n"
     ]
    },
    {
     "data": {
      "text/html": [
       "\n",
       "<div id=\"root_plot_44\"\n",
       "     style=\"width: 796px; height: 572px\">\n",
       "</div>\n",
       "\n",
       "<script>\n",
       " requirejs.config({\n",
       "     paths: {\n",
       "       'JSRootCore' : 'https://root.cern.ch/js/notebook//scripts/JSRootCore',\n",
       "     }\n",
       "   });\n",
       " require(['JSRootCore'],\n",
       "     function(Core) {\n",
       "       var obj = Core.JSONR_unref({\"_typename\":\"TCanvas\",\"fUniqueID\":0,\"fBits\":53673992,\"fLineColor\":1,\"fLineStyle\":1,\"fLineWidth\":1,\"fFillColor\":0,\"fFillStyle\":1001,\"fLeftMargin\":0.13,\"fRightMargin\":0.3,\"fBottomMargin\":0.13,\"fTopMargin\":0.1,\"fXfile\":2,\"fYfile\":2,\"fAfile\":1,\"fXstat\":0.99,\"fYstat\":0.99,\"fAstat\":2,\"fFrameFillColor\":0,\"fFrameLineColor\":1,\"fFrameFillStyle\":1001,\"fFrameLineStyle\":1,\"fFrameLineWidth\":1,\"fFrameBorderSize\":1,\"fFrameBorderMode\":0,\"fX1\":-22.8070169934936,\"fY1\":-1.35590716917112,\"fX2\":152.631581699199,\"fY2\":5.22903742369982,\"fXtoAbsPixelk\":103.480046204376,\"fXtoPixelk\":103.480046204376,\"fXtoPixel\":4.53719994306564,\"fYtoAbsPixelk\":454.219423325396,\"fYtoPixelk\":454.219423325396,\"fYtoPixel\":-86.8648159347102,\"fUtoAbsPixelk\":5e-5,\"fUtoPixelk\":5e-5,\"fUtoPixel\":796,\"fVtoAbsPixelk\":572.00005,\"fVtoPixelk\":572,\"fVtoPixel\":-572,\"fAbsPixeltoXk\":-22.8070169934936,\"fPixeltoXk\":-22.8070169934936,\"fPixeltoX\":0.220400249613935,\"fAbsPixeltoYk\":5.22903742369982,\"fPixeltoYk\":-1.35590716917112,\"fPixeltoY\":-0.0115121408966275,\"fXlowNDC\":0,\"fYlowNDC\":0,\"fXUpNDC\":0,\"fYUpNDC\":0,\"fWNDC\":1,\"fHNDC\":1,\"fAbsXlowNDC\":0,\"fAbsYlowNDC\":0,\"fAbsWNDC\":1,\"fAbsHNDC\":1,\"fUxmin\":0,\"fUymin\":-0.499864384363316,\"fUxmax\":100,\"fUymax\":4.5705429398819,\"fTheta\":30,\"fPhi\":30,\"fAspectRatio\":0,\"fNumber\":0,\"fTickx\":0,\"fTicky\":0,\"fLogx\":0,\"fLogy\":1,\"fLogz\":0,\"fPadPaint\":0,\"fCrosshair\":0,\"fCrosshairPos\":0,\"fBorderSize\":2,\"fBorderMode\":0,\"fModified\":true,\"fGridx\":true,\"fGridy\":true,\"fAbsCoord\":false,\"fEditable\":true,\"fFixedAspectRatio\":false,\"fPrimitives\":{\"_typename\":\"TList\",\"name\":\"TList\",\"arr\":[{\"_typename\":\"TFrame\",\"fUniqueID\":0,\"fBits\":50331656,\"fLineColor\":1,\"fLineStyle\":1,\"fLineWidth\":1,\"fFillColor\":0,\"fFillStyle\":1001,\"fX1\":0,\"fY1\":-0.499864384363316,\"fX2\":100,\"fY2\":4.5705429398819,\"fBorderSize\":1,\"fBorderMode\":0},{\"_typename\":\"TH1F\",\"fUniqueID\":0,\"fBits\":50332168,\"fName\":\"278fac\",\"fTitle\":\"\",\"fLineColor\":1,\"fLineStyle\":1,\"fLineWidth\":1,\"fFillColor\":0,\"fFillStyle\":1001,\"fMarkerColor\":1,\"fMarkerStyle\":1,\"fMarkerSize\":1,\"fNcells\":102,\"fXaxis\":{\"_typename\":\"TAxis\",\"fUniqueID\":0,\"fBits\":50331656,\"fName\":\"xaxis\",\"fTitle\":\" p_{T} [GeV]\",\"fNdivisions\":510,\"fAxisColor\":1,\"fLabelColor\":1,\"fLabelFont\":42,\"fLabelOffset\":0.005,\"fLabelSize\":0.035,\"fTickLength\":0.03,\"fTitleOffset\":1.4,\"fTitleSize\":0.035,\"fTitleColor\":1,\"fTitleFont\":42,\"fNbins\":100,\"fXmin\":0,\"fXmax\":100,\"fXbins\":[],\"fFirst\":0,\"fLast\":0,\"fBits2\":0,\"fTimeDisplay\":false,\"fTimeFormat\":\"\",\"fLabels\":null,\"fModLabs\":null},\"fYaxis\":{\"_typename\":\"TAxis\",\"fUniqueID\":0,\"fBits\":50331656,\"fName\":\"yaxis\",\"fTitle\":\" rate [kHz]\",\"fNdivisions\":510,\"fAxisColor\":1,\"fLabelColor\":1,\"fLabelFont\":42,\"fLabelOffset\":0.005,\"fLabelSize\":0.035,\"fTickLength\":0.03,\"fTitleOffset\":0,\"fTitleSize\":0.035,\"fTitleColor\":1,\"fTitleFont\":42,\"fNbins\":1,\"fXmin\":0,\"fXmax\":1,\"fXbins\":[],\"fFirst\":0,\"fLast\":0,\"fBits2\":0,\"fTimeDisplay\":false,\"fTimeFormat\":\"\",\"fLabels\":null,\"fModLabs\":null},\"fZaxis\":{\"_typename\":\"TAxis\",\"fUniqueID\":0,\"fBits\":50331648,\"fName\":\"zaxis\",\"fTitle\":\"\",\"fNdivisions\":510,\"fAxisColor\":1,\"fLabelColor\":1,\"fLabelFont\":42,\"fLabelOffset\":0.005,\"fLabelSize\":0.035,\"fTickLength\":0.03,\"fTitleOffset\":1,\"fTitleSize\":0.035,\"fTitleColor\":1,\"fTitleFont\":42,\"fNbins\":1,\"fXmin\":0,\"fXmax\":1,\"fXbins\":[],\"fFirst\":0,\"fLast\":0,\"fBits2\":0,\"fTimeDisplay\":false,\"fTimeFormat\":\"\",\"fLabels\":null,\"fModLabs\":null},\"fBarOffset\":0,\"fBarWidth\":1000,\"fEntries\":1488489,\"fTsumw\":1488470,\"fTsumw2\":1488470,\"fTsumwx\":5550677,\"fTsumwx2\":36350355,\"fMaximum\":37200,\"fMinimum\":0.316326528787613,\"fNormFactor\":0,\"fContour\":[],\"fSumw2\":[0,4903.0612244898,4903.0612244898,4903.0612244898,4892.15441482716,4530.90386817993,4292.37994585589,3224.41316118284,2115.59587151187,1297.48508433986,786.215873594336,483.777046022491,301.613312161599,155.797271970013,98.9367711370262,70.5690597667639,53.1331736776343,39.5747084548105,30.3189296126614,22.5140566430654,18.0112453144523,15.2345116618076,12.7079341940858,10.5565910037484,8.75546647230321,7.17948250728863,5.80362349021241,5.12820179092045,4.50281132861308,3.82738962932112,3.25203040399833,2.80174927113703,2.65165556018326,2.47654623073719,2.25140566430654,2.07629633486048,1.85115576842982,1.70106205747605,1.62601520199917,1.4759214910454,1.40087463556851,1.22576530612245,1.15071845064556,1.07567159516868,0.950593502707205,0.850531028738026,0.800499791753436,0.750468554768846,0.625390462307372,0.575359225322782,0.550343606830487,0.500312369845898,0.450281132861308,0.375234277384423,0.325203040399833,0.275171803415244,0.275171803415244,0.275171803415244,0.250156184922949,0.175109329446064,0.175109329446064,0.125078092461474,0.10006247396918,0.10006247396918,0.10006247396918,0.10006247396918,0.10006247396918,0.10006247396918,0.10006247396918,0.10006247396918,0.10006247396918,0.10006247396918,0.10006247396918,0.10006247396918,0.10006247396918,0.10006247396918,0.10006247396918,0.10006247396918,0.10006247396918,0.10006247396918,0.10006247396918,0.10006247396918,0.10006247396918,0.10006247396918,0.10006247396918,0.0750468554768846,0.0750468554768846,0.0750468554768846,0.0750468554768846,0.0750468554768846,0.0750468554768846,0.0750468554768846,0.0750468554768846,0.0750468554768846,0.0750468554768846,0.0750468554768846,0.0750468554768846,0.0500312369845898,0.0500312369845898,0.0500312369845898,0.0500312369845898,0.475296751353603],\"fOption\":\"\",\"fFunctions\":{\"_typename\":\"TList\",\"name\":\"TList\",\"arr\":[],\"opt\":[]},\"fBufferSize\":0,\"fBuffer\":[],\"fBinStatErrOpt\":0,\"fStatOverflows\":2,\"fArray\":[0,31000,31000,31000,30931.04,28647.01,27138.92,20386.61,13376.03,8203.454,4970.913,3058.719,1906.974,985.0408,625.5357,446.1786,335.9388,250.2143,191.6939,142.3469,113.8775,96.32143,80.34694,66.7449,55.35714,45.39286,36.69388,32.42347,28.46939,24.19898,20.56122,17.71428,16.76531,15.65816,14.23469,13.12755,11.70408,10.7551,10.28061,9.331633,8.857142,7.75,7.27551,6.801021,6.010204,5.377551,5.061224,4.744898,3.954082,3.637755,3.479592,3.163265,2.846939,2.372449,2.056123,1.739796,1.739796,1.739796,1.581633,1.107143,1.107143,0.7908163,0.6326531,0.6326531,0.6326531,0.6326531,0.6326531,0.6326531,0.6326531,0.6326531,0.6326531,0.6326531,0.6326531,0.6326531,0.6326531,0.6326531,0.6326531,0.6326531,0.6326531,0.6326531,0.6326531,0.6326531,0.6326531,0.6326531,0.6326531,0.4744898,0.4744898,0.4744898,0.4744898,0.4744898,0.4744898,0.4744898,0.4744898,0.4744898,0.4744898,0.4744898,0.4744898,0.3163265,0.3163265,0.3163265,0.3163265,3.005102]},{\"_typename\":\"TLatex\",\"fUniqueID\":0,\"fBits\":50348040,\"fName\":\"\",\"fTitle\":\"PU200, EG, hwQual 3, 1.52 < |#eta^{L1}| <= 2.4\",\"fTextAngle\":0,\"fTextSize\":0.03,\"fTextAlign\":11,\"fTextColor\":1,\"fTextFont\":62,\"fX\":0.15,\"fY\":0.85,\"fLineColor\":1,\"fLineStyle\":1,\"fLineWidth\":2,\"fLimitFactorSize\":3,\"fOriginSize\":0.04},{\"_typename\":\"TLatex\",\"fUniqueID\":0,\"fBits\":50331656,\"fName\":\"\",\"fTitle\":\"\",\"fTextAngle\":0,\"fTextSize\":0.03,\"fTextAlign\":11,\"fTextColor\":1,\"fTextFont\":62,\"fX\":0,\"fY\":0,\"fLineColor\":1,\"fLineStyle\":1,\"fLineWidth\":2,\"fLimitFactorSize\":3,\"fOriginSize\":0.04},{\"_typename\":\"TLine\",\"fUniqueID\":0,\"fBits\":50331656,\"fLineColor\":1,\"fLineStyle\":2,\"fLineWidth\":1,\"fX1\":45,\"fY1\":0.316326528787613,\"fX2\":45,\"fY2\":37200},{\"_typename\":\"TLine\",\"fUniqueID\":0,\"fBits\":50331656,\"fLineColor\":1,\"fLineStyle\":2,\"fLineWidth\":1,\"fX1\":0,\"fY1\":100,\"fX2\":100,\"fY2\":100}],\"opt\":[\"\",\"\",\"same\",\"same\",\"same\",\"same\"]},\"fExecs\":null,\"fName\":\"c_0a9e69\",\"fTitle\":\"c_0a9e69\",\"fNumPaletteColor\":0,\"fNextPaletteColor\":0,\"fDISPLAY\":\"$DISPLAY\",\"fDoubleBuffer\":0,\"fRetained\":true,\"fXsizeUser\":0,\"fYsizeUser\":0,\"fXsizeReal\":20,\"fYsizeReal\":15,\"fWindowTopX\":0,\"fWindowTopY\":0,\"fWindowWidth\":0,\"fWindowHeight\":0,\"fCw\":796,\"fCh\":572,\"fCatt\":{\"_typename\":\"TAttCanvas\",\"fXBetween\":2,\"fYBetween\":2,\"fTitleFromTop\":1.2,\"fXdate\":0.2,\"fYdate\":0.3,\"fAdate\":1},\"kMoveOpaque\":true,\"kResizeOpaque\":true,\"fHighLightColor\":2,\"fBatch\":true,\"kShowEventStatus\":false,\"kAutoExec\":true,\"kMenuBar\":true});\n",
       "       Core.draw(\"root_plot_44\", obj, \"\");\n",
       "     }\n",
       " );\n",
       "</script>\n"
      ],
      "text/plain": [
       "<IPython.core.display.HTML object>"
      ]
     },
     "metadata": {},
     "output_type": "display_data"
    },
    {
     "data": {
      "text/html": [
       "\n",
       "<div id=\"root_plot_45\"\n",
       "     style=\"width: 796px; height: 572px\">\n",
       "</div>\n",
       "\n",
       "<script>\n",
       " requirejs.config({\n",
       "     paths: {\n",
       "       'JSRootCore' : 'https://root.cern.ch/js/notebook//scripts/JSRootCore',\n",
       "     }\n",
       "   });\n",
       " require(['JSRootCore'],\n",
       "     function(Core) {\n",
       "       var obj = Core.JSONR_unref({\"_typename\":\"TCanvas\",\"fUniqueID\":0,\"fBits\":53673992,\"fLineColor\":1,\"fLineStyle\":1,\"fLineWidth\":1,\"fFillColor\":0,\"fFillStyle\":1001,\"fLeftMargin\":0.13,\"fRightMargin\":0.3,\"fBottomMargin\":0.13,\"fTopMargin\":0.1,\"fXfile\":2,\"fYfile\":2,\"fAfile\":1,\"fXstat\":0.99,\"fYstat\":0.99,\"fAstat\":2,\"fFrameFillColor\":0,\"fFrameLineColor\":1,\"fFrameFillStyle\":1001,\"fFrameLineStyle\":1,\"fFrameLineWidth\":1,\"fFrameBorderSize\":1,\"fFrameBorderMode\":0,\"fX1\":-22.8070169934936,\"fY1\":-1.70776041025104,\"fX2\":152.631581699199,\"fY2\":5.26813222988247,\"fXtoAbsPixelk\":103.480046204376,\"fXtoPixelk\":103.480046204376,\"fXtoPixel\":4.53719994306564,\"fYtoAbsPixelk\":431.969375066204,\"fYtoPixelk\":431.969375066204,\"fYtoPixel\":-81.9966747637693,\"fUtoAbsPixelk\":5e-5,\"fUtoPixelk\":5e-5,\"fUtoPixel\":796,\"fVtoAbsPixelk\":572.00005,\"fVtoPixelk\":572,\"fVtoPixel\":-572,\"fAbsPixeltoXk\":-22.8070169934936,\"fPixeltoXk\":-22.8070169934936,\"fPixeltoX\":0.220400249613935,\"fAbsPixeltoYk\":5.26813222988248,\"fPixeltoYk\":-1.70776041025104,\"fPixeltoY\":-0.0121956165037299,\"fXlowNDC\":0,\"fYlowNDC\":0,\"fXUpNDC\":0,\"fYUpNDC\":0,\"fWNDC\":1,\"fHNDC\":1,\"fAbsXlowNDC\":0,\"fAbsYlowNDC\":0,\"fAbsWNDC\":1,\"fAbsHNDC\":1,\"fUxmin\":0,\"fUymin\":-0.800894380027297,\"fUxmax\":100,\"fUymax\":4.5705429398819,\"fTheta\":30,\"fPhi\":30,\"fAspectRatio\":0,\"fNumber\":0,\"fTickx\":0,\"fTicky\":0,\"fLogx\":0,\"fLogy\":1,\"fLogz\":0,\"fPadPaint\":0,\"fCrosshair\":0,\"fCrosshairPos\":0,\"fBorderSize\":2,\"fBorderMode\":0,\"fModified\":true,\"fGridx\":true,\"fGridy\":true,\"fAbsCoord\":false,\"fEditable\":true,\"fFixedAspectRatio\":false,\"fPrimitives\":{\"_typename\":\"TList\",\"name\":\"TList\",\"arr\":[{\"_typename\":\"TFrame\",\"fUniqueID\":0,\"fBits\":50331656,\"fLineColor\":1,\"fLineStyle\":1,\"fLineWidth\":1,\"fFillColor\":0,\"fFillStyle\":1001,\"fX1\":0,\"fY1\":-0.800894380027297,\"fX2\":100,\"fY2\":4.5705429398819,\"fBorderSize\":1,\"fBorderMode\":0},{\"_typename\":\"TH1F\",\"fUniqueID\":0,\"fBits\":50332168,\"fName\":\"8992b9\",\"fTitle\":\"\",\"fLineColor\":1,\"fLineStyle\":1,\"fLineWidth\":1,\"fFillColor\":0,\"fFillStyle\":1001,\"fMarkerColor\":1,\"fMarkerStyle\":1,\"fMarkerSize\":1,\"fNcells\":102,\"fXaxis\":{\"_typename\":\"TAxis\",\"fUniqueID\":0,\"fBits\":50331656,\"fName\":\"xaxis\",\"fTitle\":\" p_{T} [GeV]\",\"fNdivisions\":510,\"fAxisColor\":1,\"fLabelColor\":1,\"fLabelFont\":42,\"fLabelOffset\":0.005,\"fLabelSize\":0.035,\"fTickLength\":0.03,\"fTitleOffset\":1.4,\"fTitleSize\":0.035,\"fTitleColor\":1,\"fTitleFont\":42,\"fNbins\":100,\"fXmin\":0,\"fXmax\":100,\"fXbins\":[],\"fFirst\":0,\"fLast\":0,\"fBits2\":0,\"fTimeDisplay\":false,\"fTimeFormat\":\"\",\"fLabels\":null,\"fModLabs\":null},\"fYaxis\":{\"_typename\":\"TAxis\",\"fUniqueID\":0,\"fBits\":50331656,\"fName\":\"yaxis\",\"fTitle\":\" rate [kHz]\",\"fNdivisions\":510,\"fAxisColor\":1,\"fLabelColor\":1,\"fLabelFont\":42,\"fLabelOffset\":0.005,\"fLabelSize\":0.035,\"fTickLength\":0.03,\"fTitleOffset\":0,\"fTitleSize\":0.035,\"fTitleColor\":1,\"fTitleFont\":42,\"fNbins\":1,\"fXmin\":0,\"fXmax\":1,\"fXbins\":[],\"fFirst\":0,\"fLast\":0,\"fBits2\":0,\"fTimeDisplay\":false,\"fTimeFormat\":\"\",\"fLabels\":null,\"fModLabs\":null},\"fZaxis\":{\"_typename\":\"TAxis\",\"fUniqueID\":0,\"fBits\":50331648,\"fName\":\"zaxis\",\"fTitle\":\"\",\"fNdivisions\":510,\"fAxisColor\":1,\"fLabelColor\":1,\"fLabelFont\":42,\"fLabelOffset\":0.005,\"fLabelSize\":0.035,\"fTickLength\":0.03,\"fTitleOffset\":1,\"fTitleSize\":0.035,\"fTitleColor\":1,\"fTitleFont\":42,\"fNbins\":1,\"fXmin\":0,\"fXmax\":1,\"fXbins\":[],\"fFirst\":0,\"fLast\":0,\"fBits2\":0,\"fTimeDisplay\":false,\"fTimeFormat\":\"\",\"fLabels\":null,\"fModLabs\":null},\"fBarOffset\":0,\"fBarWidth\":1000,\"fEntries\":1207601,\"fTsumw\":1207589,\"fTsumw2\":1207589,\"fTsumwx\":3579925,\"fTsumwx2\":20439249,\"fMaximum\":37200,\"fMinimum\":0.158163264393806,\"fNormFactor\":0,\"fContour\":[],\"fSumw2\":[0,4903.0612244898,4903.0612244898,4903.0362088713,4857.53279883382,4171.92974281549,2763.75054664723,1563.30104643898,840.399703248646,457.28550603915,259.962307371928,157.523349645981,103.264473136193,70.1187786339026,50.1813306955435,36.3226780508122,27.6922896709704,21.7635880882965,17.2107455226989,14.2839181591004,11.6572782174094,9.40587255310287,7.75484173261141,6.50406080799667,5.3533423573511,4.60287380258226,3.87742086630571,3.4021241149521,2.90181174510621,2.67667117867555,2.40149937526031,2.27642128279883,2.00124947938359,1.70106205747605,1.60099958350687,1.50093710953769,1.42589025406081,1.35084339858392,1.20074968763015,1.05065597667638,1.0006247396918,0.950593502707205,0.92557788421491,0.775484173261141,0.725452936276551,0.650406080799667,0.550343606830487,0.475296751353603,0.450281132861308,0.400249895876718,0.350218658892128,0.300187421907539,0.275171803415244,0.275171803415244,0.275171803415244,0.175109329446064,0.175109329446064,0.125078092461474,0.10006247396918,0.10006247396918,0.10006247396918,0.10006247396918,0.10006247396918,0.10006247396918,0.10006247396918,0.10006247396918,0.10006247396918,0.10006247396918,0.10006247396918,0.10006247396918,0.10006247396918,0.10006247396918,0.10006247396918,0.10006247396918,0.10006247396918,0.10006247396918,0.10006247396918,0.10006247396918,0.0750468554768846,0.0750468554768846,0.0750468554768846,0.0750468554768846,0.0750468554768846,0.0750468554768846,0.0750468554768846,0.0750468554768846,0.0750468554768846,0.0750468554768846,0.0750468554768846,0.0750468554768846,0.0750468554768846,0.0500312369845898,0.0500312369845898,0.0500312369845898,0.0500312369845898,0.0500312369845898,0.0500312369845898,0.0500312369845898,0.0250156184922949,0.0250156184922949,0.0250156184922949,0.300187421907539],\"fOption\":\"\",\"fFunctions\":{\"_typename\":\"TList\",\"name\":\"TList\",\"arr\":[],\"opt\":[]},\"fBufferSize\":0,\"fBuffer\":[],\"fBinStatErrOpt\":0,\"fStatOverflows\":2,\"fArray\":[0,31000,31000,30999.84,30712.14,26377.36,17474.04,9884.097,5313.495,2891.225,1643.633,995.9541,652.8979,443.3316,317.2755,229.6531,175.0867,137.602,108.8163,90.31123,73.70408,59.46939,49.03061,41.12245,33.84694,29.10204,24.51531,21.5102,18.34694,16.92347,15.18367,14.39286,12.65306,10.7551,10.12245,9.489796,9.015306,8.540816,7.591837,6.642857,6.32653,6.010204,5.852041,4.903061,4.586735,4.112245,3.479592,3.005102,2.846939,2.530612,2.214286,1.897959,1.739796,1.739796,1.739796,1.107143,1.107143,0.7908163,0.6326531,0.6326531,0.6326531,0.6326531,0.6326531,0.6326531,0.6326531,0.6326531,0.6326531,0.6326531,0.6326531,0.6326531,0.6326531,0.6326531,0.6326531,0.6326531,0.6326531,0.6326531,0.6326531,0.6326531,0.4744898,0.4744898,0.4744898,0.4744898,0.4744898,0.4744898,0.4744898,0.4744898,0.4744898,0.4744898,0.4744898,0.4744898,0.4744898,0.3163265,0.3163265,0.3163265,0.3163265,0.3163265,0.3163265,0.3163265,0.1581633,0.1581633,0.1581633,1.897959]},{\"_typename\":\"TLatex\",\"fUniqueID\":0,\"fBits\":50348040,\"fName\":\"\",\"fTitle\":\"PU200, EG, hwQual 5, 1.52 < |#eta^{L1}| <= 2.4\",\"fTextAngle\":0,\"fTextSize\":0.03,\"fTextAlign\":11,\"fTextColor\":1,\"fTextFont\":62,\"fX\":0.15,\"fY\":0.85,\"fLineColor\":1,\"fLineStyle\":1,\"fLineWidth\":2,\"fLimitFactorSize\":3,\"fOriginSize\":0.04},{\"_typename\":\"TLatex\",\"fUniqueID\":0,\"fBits\":50331656,\"fName\":\"\",\"fTitle\":\"\",\"fTextAngle\":0,\"fTextSize\":0.03,\"fTextAlign\":11,\"fTextColor\":1,\"fTextFont\":62,\"fX\":0,\"fY\":0,\"fLineColor\":1,\"fLineStyle\":1,\"fLineWidth\":2,\"fLimitFactorSize\":3,\"fOriginSize\":0.04},{\"_typename\":\"TLine\",\"fUniqueID\":0,\"fBits\":50331656,\"fLineColor\":1,\"fLineStyle\":2,\"fLineWidth\":1,\"fX1\":45,\"fY1\":0.158163264393806,\"fX2\":45,\"fY2\":37200},{\"_typename\":\"TLine\",\"fUniqueID\":0,\"fBits\":50331656,\"fLineColor\":1,\"fLineStyle\":2,\"fLineWidth\":1,\"fX1\":0,\"fY1\":100,\"fX2\":100,\"fY2\":100}],\"opt\":[\"\",\"\",\"same\",\"same\",\"same\",\"same\"]},\"fExecs\":null,\"fName\":\"c_3c7d06\",\"fTitle\":\"c_3c7d06\",\"fNumPaletteColor\":0,\"fNextPaletteColor\":0,\"fDISPLAY\":\"$DISPLAY\",\"fDoubleBuffer\":0,\"fRetained\":true,\"fXsizeUser\":0,\"fYsizeUser\":0,\"fXsizeReal\":20,\"fYsizeReal\":15,\"fWindowTopX\":0,\"fWindowTopY\":0,\"fWindowWidth\":0,\"fWindowHeight\":0,\"fCw\":796,\"fCh\":572,\"fCatt\":{\"_typename\":\"TAttCanvas\",\"fXBetween\":2,\"fYBetween\":2,\"fTitleFromTop\":1.2,\"fXdate\":0.2,\"fYdate\":0.3,\"fAdate\":1},\"kMoveOpaque\":true,\"kResizeOpaque\":true,\"fHighLightColor\":2,\"fBatch\":true,\"kShowEventStatus\":false,\"kAutoExec\":true,\"kMenuBar\":true});\n",
       "       Core.draw(\"root_plot_45\", obj, \"\");\n",
       "     }\n",
       " );\n",
       "</script>\n"
      ],
      "text/plain": [
       "<IPython.core.display.HTML object>"
      ]
     },
     "metadata": {},
     "output_type": "display_data"
    },
    {
     "data": {
      "text/html": [
       "\n",
       "<div id=\"root_plot_46\"\n",
       "     style=\"width: 796px; height: 572px\">\n",
       "</div>\n",
       "\n",
       "<script>\n",
       " requirejs.config({\n",
       "     paths: {\n",
       "       'JSRootCore' : 'https://root.cern.ch/js/notebook//scripts/JSRootCore',\n",
       "     }\n",
       "   });\n",
       " require(['JSRootCore'],\n",
       "     function(Core) {\n",
       "       var obj = Core.JSONR_unref({\"_typename\":\"TCanvas\",\"fUniqueID\":0,\"fBits\":53673992,\"fLineColor\":1,\"fLineStyle\":1,\"fLineWidth\":1,\"fFillColor\":0,\"fFillStyle\":1001,\"fLeftMargin\":0.13,\"fRightMargin\":0.3,\"fBottomMargin\":0.13,\"fTopMargin\":0.1,\"fXfile\":2,\"fYfile\":2,\"fAfile\":1,\"fXstat\":0.99,\"fYstat\":0.99,\"fAstat\":2,\"fFrameFillColor\":0,\"fFrameLineColor\":1,\"fFrameFillStyle\":1001,\"fFrameLineStyle\":1,\"fFrameLineWidth\":1,\"fFrameBorderSize\":1,\"fFrameBorderMode\":0,\"fX1\":-22.8070169934936,\"fY1\":-1.49544044081376,\"fX2\":152.631581699199,\"fY2\":3.84722164178583,\"fXtoAbsPixelk\":103.480046204376,\"fXtoPixelk\":103.480046204376,\"fXtoPixel\":4.53719994306564,\"fYtoAbsPixelk\":411.894110503774,\"fYtoPixelk\":411.894110503774,\"fYtoPixel\":-107.062732240344,\"fUtoAbsPixelk\":5e-5,\"fUtoPixelk\":5e-5,\"fUtoPixel\":796,\"fVtoAbsPixelk\":572.00005,\"fVtoPixelk\":572,\"fVtoPixel\":-572,\"fAbsPixeltoXk\":-22.8070169934936,\"fPixeltoXk\":-22.8070169934936,\"fPixeltoX\":0.220400249613935,\"fAbsPixeltoYk\":3.84722164178583,\"fPixeltoYk\":-1.49544044081376,\"fPixeltoY\":-0.00934031832622307,\"fXlowNDC\":0,\"fYlowNDC\":0,\"fXUpNDC\":0,\"fYUpNDC\":0,\"fWNDC\":1,\"fHNDC\":1,\"fAbsXlowNDC\":0,\"fAbsYlowNDC\":0,\"fAbsWNDC\":1,\"fAbsHNDC\":1,\"fUxmin\":0,\"fUymin\":-0.800894380027297,\"fUxmax\":100,\"fUymax\":3.31295541362291,\"fTheta\":30,\"fPhi\":30,\"fAspectRatio\":0,\"fNumber\":0,\"fTickx\":0,\"fTicky\":0,\"fLogx\":0,\"fLogy\":1,\"fLogz\":0,\"fPadPaint\":0,\"fCrosshair\":0,\"fCrosshairPos\":0,\"fBorderSize\":2,\"fBorderMode\":0,\"fModified\":true,\"fGridx\":true,\"fGridy\":true,\"fAbsCoord\":false,\"fEditable\":true,\"fFixedAspectRatio\":false,\"fPrimitives\":{\"_typename\":\"TList\",\"name\":\"TList\",\"arr\":[{\"_typename\":\"TFrame\",\"fUniqueID\":0,\"fBits\":50331656,\"fLineColor\":1,\"fLineStyle\":1,\"fLineWidth\":1,\"fFillColor\":0,\"fFillStyle\":1001,\"fX1\":0,\"fY1\":-0.800894380027297,\"fX2\":100,\"fY2\":3.31295541362291,\"fBorderSize\":1,\"fBorderMode\":0},{\"_typename\":\"TH1F\",\"fUniqueID\":0,\"fBits\":50332168,\"fName\":\"ac310e\",\"fTitle\":\"\",\"fLineColor\":1,\"fLineStyle\":1,\"fLineWidth\":1,\"fFillColor\":0,\"fFillStyle\":1001,\"fMarkerColor\":1,\"fMarkerStyle\":1,\"fMarkerSize\":1,\"fNcells\":102,\"fXaxis\":{\"_typename\":\"TAxis\",\"fUniqueID\":0,\"fBits\":50331656,\"fName\":\"xaxis\",\"fTitle\":\" p_{T} [GeV]\",\"fNdivisions\":510,\"fAxisColor\":1,\"fLabelColor\":1,\"fLabelFont\":42,\"fLabelOffset\":0.005,\"fLabelSize\":0.035,\"fTickLength\":0.03,\"fTitleOffset\":1.4,\"fTitleSize\":0.035,\"fTitleColor\":1,\"fTitleFont\":42,\"fNbins\":100,\"fXmin\":0,\"fXmax\":100,\"fXbins\":[],\"fFirst\":0,\"fLast\":0,\"fBits2\":0,\"fTimeDisplay\":false,\"fTimeFormat\":\"\",\"fLabels\":null,\"fModLabs\":null},\"fYaxis\":{\"_typename\":\"TAxis\",\"fUniqueID\":0,\"fBits\":50331656,\"fName\":\"yaxis\",\"fTitle\":\" rate [kHz]\",\"fNdivisions\":510,\"fAxisColor\":1,\"fLabelColor\":1,\"fLabelFont\":42,\"fLabelOffset\":0.005,\"fLabelSize\":0.035,\"fTickLength\":0.03,\"fTitleOffset\":0,\"fTitleSize\":0.035,\"fTitleColor\":1,\"fTitleFont\":42,\"fNbins\":1,\"fXmin\":0,\"fXmax\":1,\"fXbins\":[],\"fFirst\":0,\"fLast\":0,\"fBits2\":0,\"fTimeDisplay\":false,\"fTimeFormat\":\"\",\"fLabels\":null,\"fModLabs\":null},\"fZaxis\":{\"_typename\":\"TAxis\",\"fUniqueID\":0,\"fBits\":50331648,\"fName\":\"zaxis\",\"fTitle\":\"\",\"fNdivisions\":510,\"fAxisColor\":1,\"fLabelColor\":1,\"fLabelFont\":42,\"fLabelOffset\":0.005,\"fLabelSize\":0.035,\"fTickLength\":0.03,\"fTitleOffset\":1,\"fTitleSize\":0.035,\"fTitleColor\":1,\"fTitleFont\":42,\"fNbins\":1,\"fXmin\":0,\"fXmax\":1,\"fXbins\":[],\"fFirst\":0,\"fLast\":0,\"fBits2\":0,\"fTimeDisplay\":false,\"fTimeFormat\":\"\",\"fLabels\":null,\"fModLabs\":null},\"fBarOffset\":0,\"fBarWidth\":1000,\"fEntries\":43531,\"fTsumw\":43526,\"fTsumw2\":43526,\"fTsumwx\":193848,\"fTsumwx2\":3037994,\"fMaximum\":2055.67954101563,\"fMinimum\":0.158163264393806,\"fNormFactor\":0,\"fContour\":[],\"fSumw2\":[0,270.944163890046,221.588348604748,113.045579966681,71.8948875468555,55.1094075385256,52.5828300708038,45.7535662224073,40.6003488129946,36.222615576843,31.2945387338609,26.8167430237401,23.2645251978342,16.7354487713453,12.5328248646397,10.181356726364,8.18010724698043,6.30393586005831,5.25327988338192,4.4027488546439,3.80237401082882,3.30206164098292,2.82676488962932,2.50156184922949,2.15134319033736,1.85115576842982,1.4759214910454,1.27579654310704,1.20074968763015,1.02564035818409,0.825515410245731,0.775484173261141,0.750468554768846,0.750468554768846,0.700437317784257,0.675421699291962,0.600374843815077,0.550343606830487,0.550343606830487,0.525327988338192,0.500312369845898,0.425265514369013,0.425265514369013,0.400249895876718,0.350218658892128,0.275171803415244,0.275171803415244,0.275171803415244,0.250156184922949,0.250156184922949,0.250156184922949,0.225140566430654,0.200124947938359,0.200124947938359,0.175109329446064,0.175109329446064,0.175109329446064,0.175109329446064,0.175109329446064,0.150093710953769,0.150093710953769,0.10006247396918,0.0750468554768846,0.0750468554768846,0.0750468554768846,0.0750468554768846,0.0750468554768846,0.0750468554768846,0.0750468554768846,0.0750468554768846,0.0750468554768846,0.0750468554768846,0.0750468554768846,0.0750468554768846,0.0750468554768846,0.0750468554768846,0.0750468554768846,0.0750468554768846,0.0750468554768846,0.0750468554768846,0.0750468554768846,0.0750468554768846,0.0750468554768846,0.0750468554768846,0.0750468554768846,0.0500312369845898,0.0500312369845898,0.0500312369845898,0.0500312369845898,0.0500312369845898,0.0500312369845898,0.0500312369845898,0.0500312369845898,0.0500312369845898,0.0500312369845898,0.0500312369845898,0.0500312369845898,0.0250156184922949,0.0250156184922949,0.0250156184922949,0.0250156184922949,0.125078092461474],\"fOption\":\"\",\"fFunctions\":{\"_typename\":\"TList\",\"name\":\"TList\",\"arr\":[],\"opt\":[]},\"fBufferSize\":0,\"fBuffer\":[],\"fBinStatErrOpt\":0,\"fStatOverflows\":2,\"fArray\":[0,1713.066,1401.01,714.7398,454.5612,348.4337,332.4592,289.2806,256.699,229.0204,197.8622,169.551,147.0918,105.8112,79.2398,64.37245,51.71939,39.85714,33.21429,27.83673,24.04082,20.87755,17.87245,15.81633,13.60204,11.70408,9.331633,8.066326,7.591837,6.484694,5.219388,4.903061,4.744898,4.744898,4.428571,4.270408,3.795918,3.479592,3.479592,3.321429,3.163265,2.688776,2.688776,2.530612,2.214286,1.739796,1.739796,1.739796,1.581633,1.581633,1.581633,1.423469,1.265306,1.265306,1.107143,1.107143,1.107143,1.107143,1.107143,0.9489796,0.9489796,0.6326531,0.4744898,0.4744898,0.4744898,0.4744898,0.4744898,0.4744898,0.4744898,0.4744898,0.4744898,0.4744898,0.4744898,0.4744898,0.4744898,0.4744898,0.4744898,0.4744898,0.4744898,0.4744898,0.4744898,0.4744898,0.4744898,0.4744898,0.4744898,0.3163265,0.3163265,0.3163265,0.3163265,0.3163265,0.3163265,0.3163265,0.3163265,0.3163265,0.3163265,0.3163265,0.3163265,0.1581633,0.1581633,0.1581633,0.1581633,0.7908163]},{\"_typename\":\"TLatex\",\"fUniqueID\":0,\"fBits\":50348040,\"fName\":\"\",\"fTitle\":\"PU200, TkEle Ell. match, hwQual 3, 1.52 < |#eta^{L1}| <= 2.4\",\"fTextAngle\":0,\"fTextSize\":0.03,\"fTextAlign\":11,\"fTextColor\":1,\"fTextFont\":62,\"fX\":0.15,\"fY\":0.85,\"fLineColor\":1,\"fLineStyle\":1,\"fLineWidth\":2,\"fLimitFactorSize\":3,\"fOriginSize\":0.04},{\"_typename\":\"TLatex\",\"fUniqueID\":0,\"fBits\":50331656,\"fName\":\"\",\"fTitle\":\"\",\"fTextAngle\":0,\"fTextSize\":0.03,\"fTextAlign\":11,\"fTextColor\":1,\"fTextFont\":62,\"fX\":0,\"fY\":0,\"fLineColor\":1,\"fLineStyle\":1,\"fLineWidth\":2,\"fLimitFactorSize\":3,\"fOriginSize\":0.04},{\"_typename\":\"TLine\",\"fUniqueID\":0,\"fBits\":50331656,\"fLineColor\":1,\"fLineStyle\":2,\"fLineWidth\":1,\"fX1\":45,\"fY1\":0.158163264393806,\"fX2\":45,\"fY2\":2055.67954101563},{\"_typename\":\"TLine\",\"fUniqueID\":0,\"fBits\":50331656,\"fLineColor\":1,\"fLineStyle\":2,\"fLineWidth\":1,\"fX1\":0,\"fY1\":100,\"fX2\":100,\"fY2\":100}],\"opt\":[\"\",\"\",\"same\",\"same\",\"same\",\"same\"]},\"fExecs\":null,\"fName\":\"c_adc498\",\"fTitle\":\"c_adc498\",\"fNumPaletteColor\":0,\"fNextPaletteColor\":0,\"fDISPLAY\":\"$DISPLAY\",\"fDoubleBuffer\":0,\"fRetained\":true,\"fXsizeUser\":0,\"fYsizeUser\":0,\"fXsizeReal\":20,\"fYsizeReal\":15,\"fWindowTopX\":0,\"fWindowTopY\":0,\"fWindowWidth\":0,\"fWindowHeight\":0,\"fCw\":796,\"fCh\":572,\"fCatt\":{\"_typename\":\"TAttCanvas\",\"fXBetween\":2,\"fYBetween\":2,\"fTitleFromTop\":1.2,\"fXdate\":0.2,\"fYdate\":0.3,\"fAdate\":1},\"kMoveOpaque\":true,\"kResizeOpaque\":true,\"fHighLightColor\":2,\"fBatch\":true,\"kShowEventStatus\":false,\"kAutoExec\":true,\"kMenuBar\":true});\n",
       "       Core.draw(\"root_plot_46\", obj, \"\");\n",
       "     }\n",
       " );\n",
       "</script>\n"
      ],
      "text/plain": [
       "<IPython.core.display.HTML object>"
      ]
     },
     "metadata": {},
     "output_type": "display_data"
    },
    {
     "data": {
      "text/html": [
       "\n",
       "<div id=\"root_plot_47\"\n",
       "     style=\"width: 796px; height: 572px\">\n",
       "</div>\n",
       "\n",
       "<script>\n",
       " requirejs.config({\n",
       "     paths: {\n",
       "       'JSRootCore' : 'https://root.cern.ch/js/notebook//scripts/JSRootCore',\n",
       "     }\n",
       "   });\n",
       " require(['JSRootCore'],\n",
       "     function(Core) {\n",
       "       var obj = Core.JSONR_unref({\"_typename\":\"TCanvas\",\"fUniqueID\":0,\"fBits\":53673992,\"fLineColor\":1,\"fLineStyle\":1,\"fLineWidth\":1,\"fFillColor\":0,\"fFillStyle\":1001,\"fLeftMargin\":0.13,\"fRightMargin\":0.3,\"fBottomMargin\":0.13,\"fTopMargin\":0.1,\"fXfile\":2,\"fYfile\":2,\"fAfile\":1,\"fXstat\":0.99,\"fYstat\":0.99,\"fAstat\":2,\"fFrameFillColor\":0,\"fFrameLineColor\":1,\"fFrameFillStyle\":1001,\"fFrameLineStyle\":1,\"fFrameLineWidth\":1,\"fFrameBorderSize\":1,\"fFrameBorderMode\":0,\"fX1\":-22.8070169934936,\"fY1\":-346.998697166287,\"fX2\":152.631581699199,\"fY2\":2322.22208851139,\"fXtoAbsPixelk\":103.480046204376,\"fXtoPixelk\":103.480046204376,\"fXtoPixel\":4.53719994306564,\"fYtoAbsPixelk\":497.640051065433,\"fYtoPixelk\":497.640051065433,\"fYtoPixel\":-0.214294749639745,\"fUtoAbsPixelk\":5e-5,\"fUtoPixelk\":5e-5,\"fUtoPixel\":796,\"fVtoAbsPixelk\":572.00005,\"fVtoPixelk\":572,\"fVtoPixel\":-572,\"fAbsPixeltoXk\":-22.8070169934936,\"fPixeltoXk\":-22.8070169934936,\"fPixeltoX\":0.220400249613935,\"fAbsPixeltoYk\":2322.22208851139,\"fPixeltoYk\":-346.998697166287,\"fPixeltoY\":-4.6664699050309,\"fXlowNDC\":0,\"fYlowNDC\":0,\"fXUpNDC\":0,\"fYUpNDC\":0,\"fWNDC\":1,\"fHNDC\":1,\"fAbsXlowNDC\":0,\"fAbsYlowNDC\":0,\"fAbsWNDC\":1,\"fAbsHNDC\":1,\"fUxmin\":0,\"fUymin\":0,\"fUxmax\":100,\"fUymax\":2055.3,\"fTheta\":30,\"fPhi\":30,\"fAspectRatio\":0,\"fNumber\":0,\"fTickx\":0,\"fTicky\":0,\"fLogx\":0,\"fLogy\":1,\"fLogz\":0,\"fPadPaint\":0,\"fCrosshair\":0,\"fCrosshairPos\":0,\"fBorderSize\":2,\"fBorderMode\":0,\"fModified\":false,\"fGridx\":true,\"fGridy\":true,\"fAbsCoord\":false,\"fEditable\":true,\"fFixedAspectRatio\":false,\"fPrimitives\":{\"_typename\":\"TList\",\"name\":\"TList\",\"arr\":[{\"_typename\":\"TFrame\",\"fUniqueID\":0,\"fBits\":50331656,\"fLineColor\":1,\"fLineStyle\":1,\"fLineWidth\":1,\"fFillColor\":0,\"fFillStyle\":1001,\"fX1\":0,\"fY1\":0,\"fX2\":100,\"fY2\":2055.3,\"fBorderSize\":1,\"fBorderMode\":0},{\"_typename\":\"TH1F\",\"fUniqueID\":0,\"fBits\":50332168,\"fName\":\"0e8af9\",\"fTitle\":\"\",\"fLineColor\":1,\"fLineStyle\":1,\"fLineWidth\":1,\"fFillColor\":0,\"fFillStyle\":1001,\"fMarkerColor\":1,\"fMarkerStyle\":1,\"fMarkerSize\":1,\"fNcells\":102,\"fXaxis\":{\"_typename\":\"TAxis\",\"fUniqueID\":0,\"fBits\":50331656,\"fName\":\"xaxis\",\"fTitle\":\" p_{T} [GeV]\",\"fNdivisions\":510,\"fAxisColor\":1,\"fLabelColor\":1,\"fLabelFont\":42,\"fLabelOffset\":0.005,\"fLabelSize\":0.035,\"fTickLength\":0.03,\"fTitleOffset\":1.4,\"fTitleSize\":0.035,\"fTitleColor\":1,\"fTitleFont\":42,\"fNbins\":100,\"fXmin\":0,\"fXmax\":100,\"fXbins\":[],\"fFirst\":0,\"fLast\":0,\"fBits2\":0,\"fTimeDisplay\":false,\"fTimeFormat\":\"\",\"fLabels\":null,\"fModLabs\":null},\"fYaxis\":{\"_typename\":\"TAxis\",\"fUniqueID\":0,\"fBits\":50331656,\"fName\":\"yaxis\",\"fTitle\":\" rate [kHz]\",\"fNdivisions\":510,\"fAxisColor\":1,\"fLabelColor\":1,\"fLabelFont\":42,\"fLabelOffset\":0.005,\"fLabelSize\":0.035,\"fTickLength\":0.03,\"fTitleOffset\":0,\"fTitleSize\":0.035,\"fTitleColor\":1,\"fTitleFont\":42,\"fNbins\":1,\"fXmin\":0,\"fXmax\":1,\"fXbins\":[],\"fFirst\":0,\"fLast\":0,\"fBits2\":0,\"fTimeDisplay\":false,\"fTimeFormat\":\"\",\"fLabels\":null,\"fModLabs\":null},\"fZaxis\":{\"_typename\":\"TAxis\",\"fUniqueID\":0,\"fBits\":50331648,\"fName\":\"zaxis\",\"fTitle\":\"\",\"fNdivisions\":510,\"fAxisColor\":1,\"fLabelColor\":1,\"fLabelFont\":42,\"fLabelOffset\":0.005,\"fLabelSize\":0.035,\"fTickLength\":0.03,\"fTitleOffset\":1,\"fTitleSize\":0.035,\"fTitleColor\":1,\"fTitleFont\":42,\"fNbins\":1,\"fXmin\":0,\"fXmax\":1,\"fXbins\":[],\"fFirst\":0,\"fLast\":0,\"fBits2\":0,\"fTimeDisplay\":false,\"fTimeFormat\":\"\",\"fLabels\":null,\"fModLabs\":null},\"fBarOffset\":0,\"fBarWidth\":1000,\"fEntries\":37482,\"fTsumw\":37482,\"fTsumw2\":37482,\"fTsumwx\":143632,\"fTsumwx2\":2211476,\"fMaximum\":2055.3,\"fMinimum\":0,\"fNormFactor\":0,\"fContour\":[],\"fSumw2\":[0,270.894132653061,196.522698875469,99.0618492294877,64.6653738025823,51.0068461057893,42.9518169512703,36.9480685131195,31.3946012078301,25.9411963765098,21.6385099958351,16.9105581007913,13.1331997084548,10.2564035818409,7.85490420658059,6.02876405664307,5.00312369845898,4.27767076218242,3.65228029987505,3.07692107455227,2.65165556018326,2.25140566430654,1.92620262390671,1.72607767596835,1.40087463556851,1.25078092461474,1.07567159516868,0.92557788421491,0.825515410245731,0.750468554768846,0.725452936276551,0.700437317784257,0.625390462307372,0.525327988338192,0.525327988338192,0.525327988338192,0.525327988338192,0.475296751353603,0.425265514369013,0.350218658892128,0.350218658892128,0.325203040399833,0.325203040399833,0.275171803415244,0.250156184922949,0.250156184922949,0.250156184922949,0.225140566430654,0.200124947938359,0.175109329446064,0.175109329446064,0.175109329446064,0.175109329446064,0.175109329446064,0.175109329446064,0.150093710953769,0.150093710953769,0.10006247396918,0.0750468554768846,0.0750468554768846,0.0750468554768846,0.0750468554768846,0.0750468554768846,0.0750468554768846,0.0750468554768846,0.0750468554768846,0.0750468554768846,0.0750468554768846,0.0750468554768846,0.0750468554768846,0.0750468554768846,0.0750468554768846,0.0750468554768846,0.0750468554768846,0.0750468554768846,0.0750468554768846,0.0750468554768846,0.0750468554768846,0.0500312369845898,0.0500312369845898,0.0500312369845898,0.0500312369845898,0.0500312369845898,0.0500312369845898,0.0500312369845898,0.0500312369845898,0.0500312369845898,0.0500312369845898,0.0500312369845898,0.0500312369845898,0.0500312369845898,0.0250156184922949,0.0250156184922949,0.0250156184922949,0.0250156184922949,0.0250156184922949,0.0250156184922949,0.0250156184922949,0,0,0,0],\"fOption\":\"\",\"fFunctions\":{\"_typename\":\"TList\",\"name\":\"TList\",\"arr\":[],\"opt\":[]},\"fBufferSize\":0,\"fBuffer\":[],\"fBinStatErrOpt\":0,\"fStatOverflows\":2,\"fArray\":[0,1712.75,1242.531,626.3265,408.8521,322.4949,271.5663,233.6071,198.4949,164.0153,136.8112,106.9184,83.03571,64.84694,49.66327,38.11735,31.63265,27.04592,23.09184,19.45408,16.76531,14.23469,12.17857,10.91327,8.857142,7.908163,6.801021,5.852041,5.219388,4.744898,4.586735,4.428571,3.954082,3.321429,3.321429,3.321429,3.321429,3.005102,2.688776,2.214286,2.214286,2.056123,2.056123,1.739796,1.581633,1.581633,1.581633,1.423469,1.265306,1.107143,1.107143,1.107143,1.107143,1.107143,1.107143,0.9489796,0.9489796,0.6326531,0.4744898,0.4744898,0.4744898,0.4744898,0.4744898,0.4744898,0.4744898,0.4744898,0.4744898,0.4744898,0.4744898,0.4744898,0.4744898,0.4744898,0.4744898,0.4744898,0.4744898,0.4744898,0.4744898,0.4744898,0.3163265,0.3163265,0.3163265,0.3163265,0.3163265,0.3163265,0.3163265,0.3163265,0.3163265,0.3163265,0.3163265,0.3163265,0.3163265,0.1581633,0.1581633,0.1581633,0.1581633,0.1581633,0.1581633,0.1581633,0,0,0,0]},{\"_typename\":\"TLatex\",\"fUniqueID\":0,\"fBits\":50348040,\"fName\":\"\",\"fTitle\":\"PU200, TkEle Ell. match, hwQual 5, 1.52 < |#eta^{L1}| <= 2.4\",\"fTextAngle\":0,\"fTextSize\":0.03,\"fTextAlign\":11,\"fTextColor\":1,\"fTextFont\":62,\"fX\":0.15,\"fY\":0.85,\"fLineColor\":1,\"fLineStyle\":1,\"fLineWidth\":2,\"fLimitFactorSize\":3,\"fOriginSize\":0.04},{\"_typename\":\"TLatex\",\"fUniqueID\":0,\"fBits\":50331656,\"fName\":\"\",\"fTitle\":\"\",\"fTextAngle\":0,\"fTextSize\":0.03,\"fTextAlign\":11,\"fTextColor\":1,\"fTextFont\":62,\"fX\":0,\"fY\":0,\"fLineColor\":1,\"fLineStyle\":1,\"fLineWidth\":2,\"fLimitFactorSize\":3,\"fOriginSize\":0.04},{\"_typename\":\"TLine\",\"fUniqueID\":0,\"fBits\":50331656,\"fLineColor\":1,\"fLineStyle\":2,\"fLineWidth\":1,\"fX1\":45,\"fY1\":0,\"fX2\":45,\"fY2\":2055.3},{\"_typename\":\"TLine\",\"fUniqueID\":0,\"fBits\":50331656,\"fLineColor\":1,\"fLineStyle\":2,\"fLineWidth\":1,\"fX1\":0,\"fY1\":100,\"fX2\":100,\"fY2\":100}],\"opt\":[\"\",\"\",\"same\",\"same\",\"same\",\"same\"]},\"fExecs\":null,\"fName\":\"c_947f8f\",\"fTitle\":\"c_947f8f\",\"fNumPaletteColor\":0,\"fNextPaletteColor\":0,\"fDISPLAY\":\"$DISPLAY\",\"fDoubleBuffer\":0,\"fRetained\":true,\"fXsizeUser\":0,\"fYsizeUser\":0,\"fXsizeReal\":20,\"fYsizeReal\":15,\"fWindowTopX\":0,\"fWindowTopY\":0,\"fWindowWidth\":0,\"fWindowHeight\":0,\"fCw\":796,\"fCh\":572,\"fCatt\":{\"_typename\":\"TAttCanvas\",\"fXBetween\":2,\"fYBetween\":2,\"fTitleFromTop\":1.2,\"fXdate\":0.2,\"fYdate\":0.3,\"fAdate\":1},\"kMoveOpaque\":true,\"kResizeOpaque\":true,\"fHighLightColor\":2,\"fBatch\":true,\"kShowEventStatus\":false,\"kAutoExec\":true,\"kMenuBar\":true});\n",
       "       Core.draw(\"root_plot_47\", obj, \"\");\n",
       "     }\n",
       " );\n",
       "</script>\n"
      ],
      "text/plain": [
       "<IPython.core.display.HTML object>"
      ]
     },
     "metadata": {},
     "output_type": "display_data"
    }
   ],
   "source": [
    "for tp in ['EG', 'TkEleEL']:\n",
    "    for tp_sel in ['EGq3EtaBC', 'EGq5EtaBC']:\n",
    "        hsets, labels, text = hplot.get_histo(histos.RateHistos, sample, 'PU200', tp, tp_sel, None)\n",
    "        for hist in hsets:\n",
    "            hist.normalize(31000)\n",
    "        # drawSeveral([his.hreso.h_ptResVpt for his in hsets], labels,  'COLZ', do_profile=True, text=text)\n",
    "        draw([his.h_pt for his in hsets], labels, text=text, logy=True, h_lines=[100], v_lines=[45])\n"
   ]
  },
  {
   "cell_type": "code",
   "execution_count": 85,
   "metadata": {},
   "outputs": [
    {
     "name": "stdout",
     "output_type": "stream",
     "text": [
      "No match found for: pu: PU200, tp: ['HMvDR', 'HMvDREmInt'], tp_sel: EmEtaBC, gen_sel: None, classtype: python.l1THistos.RateHistos\n"
     ]
    },
    {
     "ename": "TypeError",
     "evalue": "'NoneType' object is not iterable",
     "output_type": "error",
     "traceback": [
      "\u001b[0;31m\u001b[0m",
      "\u001b[0;31mTypeError\u001b[0mTraceback (most recent call last)",
      "\u001b[0;32m<ipython-input-85-177cec3461c1>\u001b[0m in \u001b[0;36m<module>\u001b[0;34m()\u001b[0m\n\u001b[1;32m      1\u001b[0m \u001b[0;31m# 'HMvDRCalib','HMvDRshapeDrCalib',\u001b[0m\u001b[0;34m\u001b[0m\u001b[0;34m\u001b[0m\u001b[0m\n\u001b[1;32m      2\u001b[0m \u001b[0mhsets\u001b[0m\u001b[0;34m,\u001b[0m \u001b[0mlabels\u001b[0m\u001b[0;34m,\u001b[0m \u001b[0mtext\u001b[0m \u001b[0;34m=\u001b[0m \u001b[0mhplot\u001b[0m\u001b[0;34m.\u001b[0m\u001b[0mget_histo\u001b[0m\u001b[0;34m(\u001b[0m\u001b[0mhistos\u001b[0m\u001b[0;34m.\u001b[0m\u001b[0mRateHistos\u001b[0m\u001b[0;34m,\u001b[0m \u001b[0msample\u001b[0m\u001b[0;34m,\u001b[0m \u001b[0;34m'PU200'\u001b[0m\u001b[0;34m,\u001b[0m \u001b[0;34m[\u001b[0m\u001b[0;34m'HMvDR'\u001b[0m\u001b[0;34m,\u001b[0m \u001b[0;34m'HMvDREmInt'\u001b[0m \u001b[0;34m]\u001b[0m\u001b[0;34m,\u001b[0m \u001b[0;34m'EmEtaBC'\u001b[0m\u001b[0;34m,\u001b[0m \u001b[0mNone\u001b[0m\u001b[0;34m)\u001b[0m\u001b[0;34m\u001b[0m\u001b[0m\n\u001b[0;32m----> 3\u001b[0;31m \u001b[0;32mfor\u001b[0m \u001b[0mhist\u001b[0m \u001b[0;32min\u001b[0m \u001b[0mhsets\u001b[0m\u001b[0;34m:\u001b[0m\u001b[0;34m\u001b[0m\u001b[0m\n\u001b[0m\u001b[1;32m      4\u001b[0m     \u001b[0mhist\u001b[0m\u001b[0;34m.\u001b[0m\u001b[0mnormalize\u001b[0m\u001b[0;34m(\u001b[0m\u001b[0;36m31000\u001b[0m\u001b[0;34m)\u001b[0m\u001b[0;34m\u001b[0m\u001b[0m\n\u001b[1;32m      5\u001b[0m \u001b[0mdraw\u001b[0m\u001b[0;34m(\u001b[0m\u001b[0;34m[\u001b[0m\u001b[0mhis\u001b[0m\u001b[0;34m.\u001b[0m\u001b[0mh_pt\u001b[0m \u001b[0;32mfor\u001b[0m \u001b[0mhis\u001b[0m \u001b[0;32min\u001b[0m \u001b[0mhsets\u001b[0m\u001b[0;34m]\u001b[0m\u001b[0;34m,\u001b[0m \u001b[0mlabels\u001b[0m\u001b[0;34m,\u001b[0m \u001b[0mtext\u001b[0m\u001b[0;34m=\u001b[0m\u001b[0mtext\u001b[0m\u001b[0;34m,\u001b[0m \u001b[0mlogy\u001b[0m\u001b[0;34m=\u001b[0m\u001b[0mTrue\u001b[0m\u001b[0;34m)\u001b[0m\u001b[0;34m\u001b[0m\u001b[0m\n",
      "\u001b[0;31mTypeError\u001b[0m: 'NoneType' object is not iterable"
     ]
    }
   ],
   "source": [
    "# 'HMvDRCalib','HMvDRshapeDrCalib',\n",
    "hsets, labels, text = hplot.get_histo(histos.RateHistos, sample, 'PU200', ['HMvDR', 'HMvDREmInt' ], 'EmEtaBC', None)\n",
    "for hist in hsets:\n",
    "    hist.normalize(31000)\n",
    "draw([his.h_pt for his in hsets], labels, text=text, logy=True)"
   ]
  },
  {
   "cell_type": "code",
   "execution_count": 86,
   "metadata": {},
   "outputs": [
    {
     "name": "stdout",
     "output_type": "stream",
     "text": [
      "No match found for: pu: PU200, tp: ['HMvDR', 'HMvDRCalib', 'HMvDREmInt'], tp_sel: EmEtaBC, gen_sel: None, classtype: python.l1THistos.RateHistos\n"
     ]
    },
    {
     "ename": "TypeError",
     "evalue": "'NoneType' object is not iterable",
     "output_type": "error",
     "traceback": [
      "\u001b[0;31m\u001b[0m",
      "\u001b[0;31mTypeError\u001b[0mTraceback (most recent call last)",
      "\u001b[0;32m<ipython-input-86-f2f4d60592ff>\u001b[0m in \u001b[0;36m<module>\u001b[0;34m()\u001b[0m\n\u001b[1;32m      1\u001b[0m \u001b[0;31m# 'HMvDRCalib','HMvDRshapeDrCalib',\u001b[0m\u001b[0;34m\u001b[0m\u001b[0;34m\u001b[0m\u001b[0m\n\u001b[1;32m      2\u001b[0m \u001b[0mhsets\u001b[0m\u001b[0;34m,\u001b[0m \u001b[0mlabels\u001b[0m\u001b[0;34m,\u001b[0m \u001b[0mtext\u001b[0m \u001b[0;34m=\u001b[0m \u001b[0mhplot\u001b[0m\u001b[0;34m.\u001b[0m\u001b[0mget_histo\u001b[0m\u001b[0;34m(\u001b[0m\u001b[0mhistos\u001b[0m\u001b[0;34m.\u001b[0m\u001b[0mRateHistos\u001b[0m\u001b[0;34m,\u001b[0m \u001b[0msample\u001b[0m\u001b[0;34m,\u001b[0m \u001b[0;34m'PU200'\u001b[0m\u001b[0;34m,\u001b[0m \u001b[0;34m[\u001b[0m\u001b[0;34m'HMvDR'\u001b[0m\u001b[0;34m,\u001b[0m \u001b[0;34m'HMvDRCalib'\u001b[0m\u001b[0;34m,\u001b[0m \u001b[0;34m'HMvDREmInt'\u001b[0m \u001b[0;34m]\u001b[0m\u001b[0;34m,\u001b[0m \u001b[0;34m'EmEtaBC'\u001b[0m\u001b[0;34m,\u001b[0m \u001b[0mNone\u001b[0m\u001b[0;34m)\u001b[0m\u001b[0;34m\u001b[0m\u001b[0m\n\u001b[0;32m----> 3\u001b[0;31m \u001b[0;32mfor\u001b[0m \u001b[0mhist\u001b[0m \u001b[0;32min\u001b[0m \u001b[0mhsets\u001b[0m\u001b[0;34m:\u001b[0m\u001b[0;34m\u001b[0m\u001b[0m\n\u001b[0m\u001b[1;32m      4\u001b[0m     \u001b[0mhist\u001b[0m\u001b[0;34m.\u001b[0m\u001b[0mnormalize\u001b[0m\u001b[0;34m(\u001b[0m\u001b[0;36m31000\u001b[0m\u001b[0;34m)\u001b[0m\u001b[0;34m\u001b[0m\u001b[0m\n\u001b[1;32m      5\u001b[0m \u001b[0mdraw\u001b[0m\u001b[0;34m(\u001b[0m\u001b[0;34m[\u001b[0m\u001b[0mhis\u001b[0m\u001b[0;34m.\u001b[0m\u001b[0mh_pt\u001b[0m \u001b[0;32mfor\u001b[0m \u001b[0mhis\u001b[0m \u001b[0;32min\u001b[0m \u001b[0mhsets\u001b[0m\u001b[0;34m]\u001b[0m\u001b[0;34m,\u001b[0m \u001b[0mlabels\u001b[0m\u001b[0;34m,\u001b[0m \u001b[0mtext\u001b[0m\u001b[0;34m=\u001b[0m\u001b[0mtext\u001b[0m\u001b[0;34m,\u001b[0m \u001b[0mlogy\u001b[0m\u001b[0;34m=\u001b[0m\u001b[0mTrue\u001b[0m\u001b[0;34m)\u001b[0m\u001b[0;34m\u001b[0m\u001b[0m\n",
      "\u001b[0;31mTypeError\u001b[0m: 'NoneType' object is not iterable"
     ]
    }
   ],
   "source": [
    "# 'HMvDRCalib','HMvDRshapeDrCalib',\n",
    "hsets, labels, text = hplot.get_histo(histos.RateHistos, sample, 'PU200', ['HMvDR', 'HMvDRCalib', 'HMvDREmInt' ], 'EmEtaBC', None)\n",
    "for hist in hsets:\n",
    "    hist.normalize(31000)\n",
    "draw([his.h_pt for his in hsets], labels, text=text, logy=True)"
   ]
  },
  {
   "cell_type": "code",
   "execution_count": null,
   "metadata": {},
   "outputs": [],
   "source": [
    "sample"
   ]
  },
  {
   "cell_type": "code",
   "execution_count": 87,
   "metadata": {},
   "outputs": [
    {
     "name": "stdout",
     "output_type": "stream",
     "text": [
      "normalize to 31000\n"
     ]
    },
    {
     "data": {
      "text/plain": [
       "<__main__.DrawMachine at 0x10dce8750>"
      ]
     },
     "execution_count": 87,
     "metadata": {},
     "output_type": "execute_result"
    },
    {
     "name": "stderr",
     "output_type": "stream",
     "text": [
      "Error in <THistPainter::PaintInit>: Cannot set Y axis to log scale\n",
      "Error in <THistPainter::PaintInit>: Cannot set Y axis to log scale\n",
      "Error in <THistPainter::PaintInit>: Cannot set Y axis to log scale\n",
      "Error in <THistPainter::PaintInit>: Cannot set Y axis to log scale\n",
      "Error in <THistPainter::PaintInit>: Cannot set Y axis to log scale\n",
      "Error in <THistPainter::PaintInit>: Cannot set Y axis to log scale\n",
      "Error in <THistPainter::PaintInit>: Cannot set Y axis to log scale\n",
      "Error in <THistPainter::PaintInit>: Cannot set Y axis to log scale\n",
      "Error in <THistPainter::PaintInit>: Cannot set Y axis to log scale\n",
      "Error in <THistPainter::PaintInit>: Cannot set Y axis to log scale\n",
      "Error in <THistPainter::PaintInit>: Cannot set Y axis to log scale\n",
      "Error in <THistPainter::PaintInit>: Cannot set Y axis to log scale\n",
      "Error in <THistPainter::PaintInit>: Cannot set Y axis to log scale\n"
     ]
    },
    {
     "data": {
      "text/html": [
       "\n",
       "<div id=\"root_plot_48\"\n",
       "     style=\"width: 796px; height: 572px\">\n",
       "</div>\n",
       "\n",
       "<script>\n",
       " requirejs.config({\n",
       "     paths: {\n",
       "       'JSRootCore' : 'https://root.cern.ch/js/notebook//scripts/JSRootCore',\n",
       "     }\n",
       "   });\n",
       " require(['JSRootCore'],\n",
       "     function(Core) {\n",
       "       var obj = Core.JSONR_unref({\"_typename\":\"TCanvas\",\"fUniqueID\":0,\"fBits\":53673992,\"fLineColor\":1,\"fLineStyle\":1,\"fLineWidth\":1,\"fFillColor\":0,\"fFillStyle\":1001,\"fLeftMargin\":0.13,\"fRightMargin\":0.3,\"fBottomMargin\":0.13,\"fTopMargin\":0.1,\"fXfile\":2,\"fYfile\":2,\"fAfile\":1,\"fXstat\":0.99,\"fYstat\":0.99,\"fAstat\":2,\"fFrameFillColor\":0,\"fFrameLineColor\":1,\"fFrameFillStyle\":1001,\"fFrameLineStyle\":1,\"fFrameLineWidth\":1,\"fFrameBorderSize\":1,\"fFrameBorderMode\":0,\"fX1\":-22.8070169934936,\"fY1\":-6280.51940572465,\"fX2\":152.631581699199,\"fY2\":42031.1690228306,\"fXtoAbsPixelk\":103.480046204376,\"fXtoPixelk\":103.480046204376,\"fXtoPixel\":4.53719994306564,\"fYtoAbsPixelk\":497.640051065433,\"fYtoPixelk\":497.640051065433,\"fYtoPixel\":-0.0118397849175959,\"fUtoAbsPixelk\":5e-5,\"fUtoPixelk\":5e-5,\"fUtoPixel\":796,\"fVtoAbsPixelk\":572.00005,\"fVtoPixelk\":572,\"fVtoPixel\":-572,\"fAbsPixeltoXk\":-22.8070169934936,\"fPixeltoXk\":-22.8070169934936,\"fPixeltoX\":0.220400249613935,\"fAbsPixeltoYk\":42031.1690228306,\"fPixeltoYk\":-6280.51940572465,\"fPixeltoY\":-84.4609937562154,\"fXlowNDC\":0,\"fYlowNDC\":0,\"fXUpNDC\":0,\"fYUpNDC\":0,\"fWNDC\":1,\"fHNDC\":1,\"fAbsXlowNDC\":0,\"fAbsYlowNDC\":0,\"fAbsWNDC\":1,\"fAbsHNDC\":1,\"fUxmin\":0,\"fUymin\":0,\"fUxmax\":100,\"fUymax\":37200,\"fTheta\":30,\"fPhi\":30,\"fAspectRatio\":0,\"fNumber\":0,\"fTickx\":0,\"fTicky\":0,\"fLogx\":0,\"fLogy\":1,\"fLogz\":0,\"fPadPaint\":0,\"fCrosshair\":0,\"fCrosshairPos\":0,\"fBorderSize\":2,\"fBorderMode\":0,\"fModified\":false,\"fGridx\":true,\"fGridy\":true,\"fAbsCoord\":false,\"fEditable\":true,\"fFixedAspectRatio\":false,\"fPrimitives\":{\"_typename\":\"TList\",\"name\":\"TList\",\"arr\":[{\"_typename\":\"TFrame\",\"fUniqueID\":0,\"fBits\":50331656,\"fLineColor\":1,\"fLineStyle\":1,\"fLineWidth\":1,\"fFillColor\":0,\"fFillStyle\":1001,\"fX1\":0,\"fY1\":0,\"fX2\":100,\"fY2\":37200,\"fBorderSize\":1,\"fBorderMode\":0},{\"_typename\":\"TH1F\",\"fUniqueID\":0,\"fBits\":50332168,\"fName\":\"92b334\",\"fTitle\":\"\",\"fLineColor\":1,\"fLineStyle\":1,\"fLineWidth\":1,\"fFillColor\":0,\"fFillStyle\":1001,\"fMarkerColor\":1,\"fMarkerStyle\":1,\"fMarkerSize\":1,\"fNcells\":102,\"fXaxis\":{\"_typename\":\"TAxis\",\"fUniqueID\":0,\"fBits\":50331656,\"fName\":\"xaxis\",\"fTitle\":\" p_{T} [GeV]\",\"fNdivisions\":510,\"fAxisColor\":1,\"fLabelColor\":1,\"fLabelFont\":42,\"fLabelOffset\":0.005,\"fLabelSize\":0.035,\"fTickLength\":0.03,\"fTitleOffset\":1.4,\"fTitleSize\":0.035,\"fTitleColor\":1,\"fTitleFont\":42,\"fNbins\":100,\"fXmin\":0,\"fXmax\":100,\"fXbins\":[],\"fFirst\":0,\"fLast\":0,\"fBits2\":0,\"fTimeDisplay\":false,\"fTimeFormat\":\"\",\"fLabels\":null,\"fModLabs\":null},\"fYaxis\":{\"_typename\":\"TAxis\",\"fUniqueID\":0,\"fBits\":50331656,\"fName\":\"yaxis\",\"fTitle\":\" rate [kHz]\",\"fNdivisions\":510,\"fAxisColor\":1,\"fLabelColor\":1,\"fLabelFont\":42,\"fLabelOffset\":0.005,\"fLabelSize\":0.035,\"fTickLength\":0.03,\"fTitleOffset\":0,\"fTitleSize\":0.035,\"fTitleColor\":1,\"fTitleFont\":42,\"fNbins\":1,\"fXmin\":0,\"fXmax\":1,\"fXbins\":[],\"fFirst\":0,\"fLast\":0,\"fBits2\":0,\"fTimeDisplay\":false,\"fTimeFormat\":\"\",\"fLabels\":null,\"fModLabs\":null},\"fZaxis\":{\"_typename\":\"TAxis\",\"fUniqueID\":0,\"fBits\":50331648,\"fName\":\"zaxis\",\"fTitle\":\"\",\"fNdivisions\":510,\"fAxisColor\":1,\"fLabelColor\":1,\"fLabelFont\":42,\"fLabelOffset\":0.005,\"fLabelSize\":0.035,\"fTickLength\":0.03,\"fTitleOffset\":1,\"fTitleSize\":0.035,\"fTitleColor\":1,\"fTitleFont\":42,\"fNbins\":1,\"fXmin\":0,\"fXmax\":1,\"fXbins\":[],\"fFirst\":0,\"fLast\":0,\"fBits2\":0,\"fTimeDisplay\":false,\"fTimeFormat\":\"\",\"fLabels\":null,\"fModLabs\":null},\"fBarOffset\":0,\"fBarWidth\":1000,\"fEntries\":37389,\"fTsumw\":37389,\"fTsumw2\":37389,\"fTsumwx\":137935,\"fTsumwx2\":2088503,\"fMaximum\":37200,\"fMinimum\":0,\"fNormFactor\":0,\"fContour\":[],\"fSumw2\":[0,277.923521449396,198.974229487713,96.9105060391504,63.7648115368596,50.3564400249896,42.6266139108705,36.5978498542274,31.1194294044148,25.5659620991254,21.1131820074969,16.3602144939609,12.6579029571012,9.70605997501041,7.45465431070387,5.75359225322782,4.55284256559767,3.9274521032903,3.25203040399833,2.75171803415244,2.37648375676801,2.00124947938359,1.70106205747605,1.55096834652228,1.22576530612245,1.12570283215327,1.0006247396918,0.850531028738026,0.775484173261141,0.700437317784257,0.675421699291962,0.650406080799667,0.550343606830487,0.450281132861308,0.450281132861308,0.450281132861308,0.450281132861308,0.425265514369013,0.375234277384423,0.300187421907539,0.300187421907539,0.300187421907539,0.300187421907539,0.250156184922949,0.250156184922949,0.250156184922949,0.250156184922949,0.175109329446064,0.150093710953769,0.150093710953769,0.150093710953769,0.150093710953769,0.150093710953769,0.150093710953769,0.150093710953769,0.150093710953769,0.150093710953769,0.10006247396918,0.0750468554768846,0.0750468554768846,0.0750468554768846,0.0750468554768846,0.0750468554768846,0.0750468554768846,0.0750468554768846,0.0750468554768846,0.0750468554768846,0.0750468554768846,0.0750468554768846,0.0750468554768846,0.0750468554768846,0.0750468554768846,0.0750468554768846,0.0750468554768846,0.0750468554768846,0.0750468554768846,0.0750468554768846,0.0750468554768846,0.0500312369845898,0.0500312369845898,0.0500312369845898,0.0500312369845898,0.0500312369845898,0.0500312369845898,0.0500312369845898,0.0500312369845898,0.0500312369845898,0.0500312369845898,0.0500312369845898,0.0500312369845898,0.0500312369845898,0.0250156184922949,0.0250156184922949,0.0250156184922949,0.0250156184922949,0.0250156184922949,0.0250156184922949,0.0250156184922949,0,0,0,0],\"fOption\":\"\",\"fFunctions\":{\"_typename\":\"TList\",\"name\":\"TList\",\"arr\":[],\"opt\":[]},\"fBufferSize\":0,\"fBuffer\":[],\"fBinStatErrOpt\":0,\"fStatOverflows\":2,\"fArray\":[0,1757.194,1258.031,612.7245,403.1582,318.3827,269.5102,231.3929,196.7551,161.6429,133.4898,103.4388,80.03061,61.36735,47.13265,36.37755,28.78572,24.83163,20.56122,17.39796,15.02551,12.65306,10.7551,9.806123,7.75,7.117347,6.32653,5.377551,4.903061,4.428571,4.270408,4.112245,3.479592,2.846939,2.846939,2.846939,2.846939,2.688776,2.372449,1.897959,1.897959,1.897959,1.897959,1.581633,1.581633,1.581633,1.581633,1.107143,0.9489796,0.9489796,0.9489796,0.9489796,0.9489796,0.9489796,0.9489796,0.9489796,0.9489796,0.6326531,0.4744898,0.4744898,0.4744898,0.4744898,0.4744898,0.4744898,0.4744898,0.4744898,0.4744898,0.4744898,0.4744898,0.4744898,0.4744898,0.4744898,0.4744898,0.4744898,0.4744898,0.4744898,0.4744898,0.4744898,0.3163265,0.3163265,0.3163265,0.3163265,0.3163265,0.3163265,0.3163265,0.3163265,0.3163265,0.3163265,0.3163265,0.3163265,0.3163265,0.1581633,0.1581633,0.1581633,0.1581633,0.1581633,0.1581633,0.1581633,0,0,0,0]},{\"_typename\":\"TH1F\",\"fUniqueID\":0,\"fBits\":50332168,\"fName\":\"0046b6\",\"fTitle\":\"\",\"fLineColor\":628,\"fLineStyle\":1,\"fLineWidth\":1,\"fFillColor\":0,\"fFillStyle\":1001,\"fMarkerColor\":1,\"fMarkerStyle\":1,\"fMarkerSize\":1,\"fNcells\":102,\"fXaxis\":{\"_typename\":\"TAxis\",\"fUniqueID\":0,\"fBits\":50331656,\"fName\":\"xaxis\",\"fTitle\":\" p_{T} [GeV]\",\"fNdivisions\":510,\"fAxisColor\":1,\"fLabelColor\":1,\"fLabelFont\":42,\"fLabelOffset\":0.005,\"fLabelSize\":0.035,\"fTickLength\":0.03,\"fTitleOffset\":1.4,\"fTitleSize\":0.035,\"fTitleColor\":1,\"fTitleFont\":42,\"fNbins\":100,\"fXmin\":0,\"fXmax\":100,\"fXbins\":[],\"fFirst\":0,\"fLast\":0,\"fBits2\":0,\"fTimeDisplay\":false,\"fTimeFormat\":\"\",\"fLabels\":null,\"fModLabs\":null},\"fYaxis\":{\"_typename\":\"TAxis\",\"fUniqueID\":0,\"fBits\":50331656,\"fName\":\"yaxis\",\"fTitle\":\" rate [kHz]\",\"fNdivisions\":510,\"fAxisColor\":1,\"fLabelColor\":1,\"fLabelFont\":42,\"fLabelOffset\":0.005,\"fLabelSize\":0.035,\"fTickLength\":0.03,\"fTitleOffset\":0,\"fTitleSize\":0.035,\"fTitleColor\":1,\"fTitleFont\":42,\"fNbins\":1,\"fXmin\":0,\"fXmax\":1,\"fXbins\":[],\"fFirst\":0,\"fLast\":0,\"fBits2\":0,\"fTimeDisplay\":false,\"fTimeFormat\":\"\",\"fLabels\":null,\"fModLabs\":null},\"fZaxis\":{\"_typename\":\"TAxis\",\"fUniqueID\":0,\"fBits\":50331648,\"fName\":\"zaxis\",\"fTitle\":\"\",\"fNdivisions\":510,\"fAxisColor\":1,\"fLabelColor\":1,\"fLabelFont\":42,\"fLabelOffset\":0.005,\"fLabelSize\":0.035,\"fTickLength\":0.03,\"fTitleOffset\":1,\"fTitleSize\":0.035,\"fTitleColor\":1,\"fTitleFont\":42,\"fNbins\":1,\"fXmin\":0,\"fXmax\":1,\"fXbins\":[],\"fFirst\":0,\"fLast\":0,\"fBits2\":0,\"fTimeDisplay\":false,\"fTimeFormat\":\"\",\"fLabels\":null,\"fModLabs\":null},\"fBarOffset\":0,\"fBarWidth\":1000,\"fEntries\":1207601,\"fTsumw\":1207589,\"fTsumw2\":1207589,\"fTsumwx\":3579925,\"fTsumwx2\":20439249,\"fMaximum\":37200,\"fMinimum\":0,\"fNormFactor\":0,\"fContour\":[],\"fSumw2\":[0,4903.0612244898,4903.0612244898,4903.0362088713,4857.53279883382,4171.92974281549,2763.75054664723,1563.30104643898,840.399703248646,457.28550603915,259.962307371928,157.523349645981,103.264473136193,70.1187786339026,50.1813306955435,36.3226780508122,27.6922896709704,21.7635880882965,17.2107455226989,14.2839181591004,11.6572782174094,9.40587255310287,7.75484173261141,6.50406080799667,5.3533423573511,4.60287380258226,3.87742086630571,3.4021241149521,2.90181174510621,2.67667117867555,2.40149937526031,2.27642128279883,2.00124947938359,1.70106205747605,1.60099958350687,1.50093710953769,1.42589025406081,1.35084339858392,1.20074968763015,1.05065597667638,1.0006247396918,0.950593502707205,0.92557788421491,0.775484173261141,0.725452936276551,0.650406080799667,0.550343606830487,0.475296751353603,0.450281132861308,0.400249895876718,0.350218658892128,0.300187421907539,0.275171803415244,0.275171803415244,0.275171803415244,0.175109329446064,0.175109329446064,0.125078092461474,0.10006247396918,0.10006247396918,0.10006247396918,0.10006247396918,0.10006247396918,0.10006247396918,0.10006247396918,0.10006247396918,0.10006247396918,0.10006247396918,0.10006247396918,0.10006247396918,0.10006247396918,0.10006247396918,0.10006247396918,0.10006247396918,0.10006247396918,0.10006247396918,0.10006247396918,0.10006247396918,0.0750468554768846,0.0750468554768846,0.0750468554768846,0.0750468554768846,0.0750468554768846,0.0750468554768846,0.0750468554768846,0.0750468554768846,0.0750468554768846,0.0750468554768846,0.0750468554768846,0.0750468554768846,0.0750468554768846,0.0500312369845898,0.0500312369845898,0.0500312369845898,0.0500312369845898,0.0500312369845898,0.0500312369845898,0.0500312369845898,0.0250156184922949,0.0250156184922949,0.0250156184922949,0.300187421907539],\"fOption\":\"\",\"fFunctions\":{\"_typename\":\"TList\",\"name\":\"TList\",\"arr\":[],\"opt\":[]},\"fBufferSize\":0,\"fBuffer\":[],\"fBinStatErrOpt\":0,\"fStatOverflows\":2,\"fArray\":[0,31000,31000,30999.84,30712.14,26377.36,17474.04,9884.097,5313.495,2891.225,1643.633,995.9541,652.8979,443.3316,317.2755,229.6531,175.0867,137.602,108.8163,90.31123,73.70408,59.46939,49.03061,41.12245,33.84694,29.10204,24.51531,21.5102,18.34694,16.92347,15.18367,14.39286,12.65306,10.7551,10.12245,9.489796,9.015306,8.540816,7.591837,6.642857,6.32653,6.010204,5.852041,4.903061,4.586735,4.112245,3.479592,3.005102,2.846939,2.530612,2.214286,1.897959,1.739796,1.739796,1.739796,1.107143,1.107143,0.7908163,0.6326531,0.6326531,0.6326531,0.6326531,0.6326531,0.6326531,0.6326531,0.6326531,0.6326531,0.6326531,0.6326531,0.6326531,0.6326531,0.6326531,0.6326531,0.6326531,0.6326531,0.6326531,0.6326531,0.6326531,0.4744898,0.4744898,0.4744898,0.4744898,0.4744898,0.4744898,0.4744898,0.4744898,0.4744898,0.4744898,0.4744898,0.4744898,0.4744898,0.3163265,0.3163265,0.3163265,0.3163265,0.3163265,0.3163265,0.3163265,0.1581633,0.1581633,0.1581633,1.897959]},{\"_typename\":\"TH1F\",\"fUniqueID\":0,\"fBits\":50332168,\"fName\":\"47603c\",\"fTitle\":\"\",\"fLineColor\":417,\"fLineStyle\":1,\"fLineWidth\":1,\"fFillColor\":0,\"fFillStyle\":1001,\"fMarkerColor\":1,\"fMarkerStyle\":1,\"fMarkerSize\":1,\"fNcells\":102,\"fXaxis\":{\"_typename\":\"TAxis\",\"fUniqueID\":0,\"fBits\":50331656,\"fName\":\"xaxis\",\"fTitle\":\" p_{T} [GeV]\",\"fNdivisions\":510,\"fAxisColor\":1,\"fLabelColor\":1,\"fLabelFont\":42,\"fLabelOffset\":0.005,\"fLabelSize\":0.035,\"fTickLength\":0.03,\"fTitleOffset\":1.4,\"fTitleSize\":0.035,\"fTitleColor\":1,\"fTitleFont\":42,\"fNbins\":100,\"fXmin\":0,\"fXmax\":100,\"fXbins\":[],\"fFirst\":0,\"fLast\":0,\"fBits2\":0,\"fTimeDisplay\":false,\"fTimeFormat\":\"\",\"fLabels\":null,\"fModLabs\":null},\"fYaxis\":{\"_typename\":\"TAxis\",\"fUniqueID\":0,\"fBits\":50331656,\"fName\":\"yaxis\",\"fTitle\":\" rate [kHz]\",\"fNdivisions\":510,\"fAxisColor\":1,\"fLabelColor\":1,\"fLabelFont\":42,\"fLabelOffset\":0.005,\"fLabelSize\":0.035,\"fTickLength\":0.03,\"fTitleOffset\":0,\"fTitleSize\":0.035,\"fTitleColor\":1,\"fTitleFont\":42,\"fNbins\":1,\"fXmin\":0,\"fXmax\":1,\"fXbins\":[],\"fFirst\":0,\"fLast\":0,\"fBits2\":0,\"fTimeDisplay\":false,\"fTimeFormat\":\"\",\"fLabels\":null,\"fModLabs\":null},\"fZaxis\":{\"_typename\":\"TAxis\",\"fUniqueID\":0,\"fBits\":50331648,\"fName\":\"zaxis\",\"fTitle\":\"\",\"fNdivisions\":510,\"fAxisColor\":1,\"fLabelColor\":1,\"fLabelFont\":42,\"fLabelOffset\":0.005,\"fLabelSize\":0.035,\"fTickLength\":0.03,\"fTitleOffset\":1,\"fTitleSize\":0.035,\"fTitleColor\":1,\"fTitleFont\":42,\"fNbins\":1,\"fXmin\":0,\"fXmax\":1,\"fXbins\":[],\"fFirst\":0,\"fLast\":0,\"fBits2\":0,\"fTimeDisplay\":false,\"fTimeFormat\":\"\",\"fLabels\":null,\"fModLabs\":null},\"fBarOffset\":0,\"fBarWidth\":1000,\"fEntries\":43531,\"fTsumw\":43526,\"fTsumw2\":43526,\"fTsumwx\":193848,\"fTsumwx2\":3037994,\"fMaximum\":37200,\"fMinimum\":0,\"fNormFactor\":0,\"fContour\":[],\"fSumw2\":[0,270.944163890046,221.588348604748,113.045579966681,71.8948875468555,55.1094075385256,52.5828300708038,45.7535662224073,40.6003488129946,36.222615576843,31.2945387338609,26.8167430237401,23.2645251978342,16.7354487713453,12.5328248646397,10.181356726364,8.18010724698043,6.30393586005831,5.25327988338192,4.4027488546439,3.80237401082882,3.30206164098292,2.82676488962932,2.50156184922949,2.15134319033736,1.85115576842982,1.4759214910454,1.27579654310704,1.20074968763015,1.02564035818409,0.825515410245731,0.775484173261141,0.750468554768846,0.750468554768846,0.700437317784257,0.675421699291962,0.600374843815077,0.550343606830487,0.550343606830487,0.525327988338192,0.500312369845898,0.425265514369013,0.425265514369013,0.400249895876718,0.350218658892128,0.275171803415244,0.275171803415244,0.275171803415244,0.250156184922949,0.250156184922949,0.250156184922949,0.225140566430654,0.200124947938359,0.200124947938359,0.175109329446064,0.175109329446064,0.175109329446064,0.175109329446064,0.175109329446064,0.150093710953769,0.150093710953769,0.10006247396918,0.0750468554768846,0.0750468554768846,0.0750468554768846,0.0750468554768846,0.0750468554768846,0.0750468554768846,0.0750468554768846,0.0750468554768846,0.0750468554768846,0.0750468554768846,0.0750468554768846,0.0750468554768846,0.0750468554768846,0.0750468554768846,0.0750468554768846,0.0750468554768846,0.0750468554768846,0.0750468554768846,0.0750468554768846,0.0750468554768846,0.0750468554768846,0.0750468554768846,0.0750468554768846,0.0500312369845898,0.0500312369845898,0.0500312369845898,0.0500312369845898,0.0500312369845898,0.0500312369845898,0.0500312369845898,0.0500312369845898,0.0500312369845898,0.0500312369845898,0.0500312369845898,0.0500312369845898,0.0250156184922949,0.0250156184922949,0.0250156184922949,0.0250156184922949,0.125078092461474],\"fOption\":\"\",\"fFunctions\":{\"_typename\":\"TList\",\"name\":\"TList\",\"arr\":[],\"opt\":[]},\"fBufferSize\":0,\"fBuffer\":[],\"fBinStatErrOpt\":0,\"fStatOverflows\":2,\"fArray\":[0,1713.066,1401.01,714.7398,454.5612,348.4337,332.4592,289.2806,256.699,229.0204,197.8622,169.551,147.0918,105.8112,79.2398,64.37245,51.71939,39.85714,33.21429,27.83673,24.04082,20.87755,17.87245,15.81633,13.60204,11.70408,9.331633,8.066326,7.591837,6.484694,5.219388,4.903061,4.744898,4.744898,4.428571,4.270408,3.795918,3.479592,3.479592,3.321429,3.163265,2.688776,2.688776,2.530612,2.214286,1.739796,1.739796,1.739796,1.581633,1.581633,1.581633,1.423469,1.265306,1.265306,1.107143,1.107143,1.107143,1.107143,1.107143,0.9489796,0.9489796,0.6326531,0.4744898,0.4744898,0.4744898,0.4744898,0.4744898,0.4744898,0.4744898,0.4744898,0.4744898,0.4744898,0.4744898,0.4744898,0.4744898,0.4744898,0.4744898,0.4744898,0.4744898,0.4744898,0.4744898,0.4744898,0.4744898,0.4744898,0.4744898,0.3163265,0.3163265,0.3163265,0.3163265,0.3163265,0.3163265,0.3163265,0.3163265,0.3163265,0.3163265,0.3163265,0.3163265,0.1581633,0.1581633,0.1581633,0.1581633,0.7908163]},{\"_typename\":\"TH1F\",\"fUniqueID\":0,\"fBits\":50332168,\"fName\":\"197f27\",\"fTitle\":\"\",\"fLineColor\":597,\"fLineStyle\":1,\"fLineWidth\":1,\"fFillColor\":0,\"fFillStyle\":1001,\"fMarkerColor\":1,\"fMarkerStyle\":1,\"fMarkerSize\":1,\"fNcells\":102,\"fXaxis\":{\"_typename\":\"TAxis\",\"fUniqueID\":0,\"fBits\":50331656,\"fName\":\"xaxis\",\"fTitle\":\" p_{T} [GeV]\",\"fNdivisions\":510,\"fAxisColor\":1,\"fLabelColor\":1,\"fLabelFont\":42,\"fLabelOffset\":0.005,\"fLabelSize\":0.035,\"fTickLength\":0.03,\"fTitleOffset\":1.4,\"fTitleSize\":0.035,\"fTitleColor\":1,\"fTitleFont\":42,\"fNbins\":100,\"fXmin\":0,\"fXmax\":100,\"fXbins\":[],\"fFirst\":0,\"fLast\":0,\"fBits2\":0,\"fTimeDisplay\":false,\"fTimeFormat\":\"\",\"fLabels\":null,\"fModLabs\":null},\"fYaxis\":{\"_typename\":\"TAxis\",\"fUniqueID\":0,\"fBits\":50331656,\"fName\":\"yaxis\",\"fTitle\":\" rate [kHz]\",\"fNdivisions\":510,\"fAxisColor\":1,\"fLabelColor\":1,\"fLabelFont\":42,\"fLabelOffset\":0.005,\"fLabelSize\":0.035,\"fTickLength\":0.03,\"fTitleOffset\":0,\"fTitleSize\":0.035,\"fTitleColor\":1,\"fTitleFont\":42,\"fNbins\":1,\"fXmin\":0,\"fXmax\":1,\"fXbins\":[],\"fFirst\":0,\"fLast\":0,\"fBits2\":0,\"fTimeDisplay\":false,\"fTimeFormat\":\"\",\"fLabels\":null,\"fModLabs\":null},\"fZaxis\":{\"_typename\":\"TAxis\",\"fUniqueID\":0,\"fBits\":50331648,\"fName\":\"zaxis\",\"fTitle\":\"\",\"fNdivisions\":510,\"fAxisColor\":1,\"fLabelColor\":1,\"fLabelFont\":42,\"fLabelOffset\":0.005,\"fLabelSize\":0.035,\"fTickLength\":0.03,\"fTitleOffset\":1,\"fTitleSize\":0.035,\"fTitleColor\":1,\"fTitleFont\":42,\"fNbins\":1,\"fXmin\":0,\"fXmax\":1,\"fXbins\":[],\"fFirst\":0,\"fLast\":0,\"fBits2\":0,\"fTimeDisplay\":false,\"fTimeFormat\":\"\",\"fLabels\":null,\"fModLabs\":null},\"fBarOffset\":0,\"fBarWidth\":1000,\"fEntries\":1488489,\"fTsumw\":1488470,\"fTsumw2\":1488470,\"fTsumwx\":5550677,\"fTsumwx2\":36350355,\"fMaximum\":37200,\"fMinimum\":0,\"fNormFactor\":0,\"fContour\":[],\"fSumw2\":[0,4903.0612244898,4903.0612244898,4903.0612244898,4892.15441482716,4530.90386817993,4292.37994585589,3224.41316118284,2115.59587151187,1297.48508433986,786.215873594336,483.777046022491,301.613312161599,155.797271970013,98.9367711370262,70.5690597667639,53.1331736776343,39.5747084548105,30.3189296126614,22.5140566430654,18.0112453144523,15.2345116618076,12.7079341940858,10.5565910037484,8.75546647230321,7.17948250728863,5.80362349021241,5.12820179092045,4.50281132861308,3.82738962932112,3.25203040399833,2.80174927113703,2.65165556018326,2.47654623073719,2.25140566430654,2.07629633486048,1.85115576842982,1.70106205747605,1.62601520199917,1.4759214910454,1.40087463556851,1.22576530612245,1.15071845064556,1.07567159516868,0.950593502707205,0.850531028738026,0.800499791753436,0.750468554768846,0.625390462307372,0.575359225322782,0.550343606830487,0.500312369845898,0.450281132861308,0.375234277384423,0.325203040399833,0.275171803415244,0.275171803415244,0.275171803415244,0.250156184922949,0.175109329446064,0.175109329446064,0.125078092461474,0.10006247396918,0.10006247396918,0.10006247396918,0.10006247396918,0.10006247396918,0.10006247396918,0.10006247396918,0.10006247396918,0.10006247396918,0.10006247396918,0.10006247396918,0.10006247396918,0.10006247396918,0.10006247396918,0.10006247396918,0.10006247396918,0.10006247396918,0.10006247396918,0.10006247396918,0.10006247396918,0.10006247396918,0.10006247396918,0.10006247396918,0.0750468554768846,0.0750468554768846,0.0750468554768846,0.0750468554768846,0.0750468554768846,0.0750468554768846,0.0750468554768846,0.0750468554768846,0.0750468554768846,0.0750468554768846,0.0750468554768846,0.0750468554768846,0.0500312369845898,0.0500312369845898,0.0500312369845898,0.0500312369845898,0.475296751353603],\"fOption\":\"\",\"fFunctions\":{\"_typename\":\"TList\",\"name\":\"TList\",\"arr\":[],\"opt\":[]},\"fBufferSize\":0,\"fBuffer\":[],\"fBinStatErrOpt\":0,\"fStatOverflows\":2,\"fArray\":[0,31000,31000,31000,30931.04,28647.01,27138.92,20386.61,13376.03,8203.454,4970.913,3058.719,1906.974,985.0408,625.5357,446.1786,335.9388,250.2143,191.6939,142.3469,113.8775,96.32143,80.34694,66.7449,55.35714,45.39286,36.69388,32.42347,28.46939,24.19898,20.56122,17.71428,16.76531,15.65816,14.23469,13.12755,11.70408,10.7551,10.28061,9.331633,8.857142,7.75,7.27551,6.801021,6.010204,5.377551,5.061224,4.744898,3.954082,3.637755,3.479592,3.163265,2.846939,2.372449,2.056123,1.739796,1.739796,1.739796,1.581633,1.107143,1.107143,0.7908163,0.6326531,0.6326531,0.6326531,0.6326531,0.6326531,0.6326531,0.6326531,0.6326531,0.6326531,0.6326531,0.6326531,0.6326531,0.6326531,0.6326531,0.6326531,0.6326531,0.6326531,0.6326531,0.6326531,0.6326531,0.6326531,0.6326531,0.6326531,0.4744898,0.4744898,0.4744898,0.4744898,0.4744898,0.4744898,0.4744898,0.4744898,0.4744898,0.4744898,0.4744898,0.4744898,0.3163265,0.3163265,0.3163265,0.3163265,3.005102]},{\"_typename\":\"TH1F\",\"fUniqueID\":0,\"fBits\":50332168,\"fName\":\"233994\",\"fTitle\":\"\",\"fLineColor\":617,\"fLineStyle\":1,\"fLineWidth\":1,\"fFillColor\":0,\"fFillStyle\":1001,\"fMarkerColor\":1,\"fMarkerStyle\":1,\"fMarkerSize\":1,\"fNcells\":102,\"fXaxis\":{\"_typename\":\"TAxis\",\"fUniqueID\":0,\"fBits\":50331656,\"fName\":\"xaxis\",\"fTitle\":\" p_{T} [GeV]\",\"fNdivisions\":510,\"fAxisColor\":1,\"fLabelColor\":1,\"fLabelFont\":42,\"fLabelOffset\":0.005,\"fLabelSize\":0.035,\"fTickLength\":0.03,\"fTitleOffset\":1.4,\"fTitleSize\":0.035,\"fTitleColor\":1,\"fTitleFont\":42,\"fNbins\":100,\"fXmin\":0,\"fXmax\":100,\"fXbins\":[],\"fFirst\":0,\"fLast\":0,\"fBits2\":0,\"fTimeDisplay\":false,\"fTimeFormat\":\"\",\"fLabels\":null,\"fModLabs\":null},\"fYaxis\":{\"_typename\":\"TAxis\",\"fUniqueID\":0,\"fBits\":50331656,\"fName\":\"yaxis\",\"fTitle\":\" rate [kHz]\",\"fNdivisions\":510,\"fAxisColor\":1,\"fLabelColor\":1,\"fLabelFont\":42,\"fLabelOffset\":0.005,\"fLabelSize\":0.035,\"fTickLength\":0.03,\"fTitleOffset\":0,\"fTitleSize\":0.035,\"fTitleColor\":1,\"fTitleFont\":42,\"fNbins\":1,\"fXmin\":0,\"fXmax\":1,\"fXbins\":[],\"fFirst\":0,\"fLast\":0,\"fBits2\":0,\"fTimeDisplay\":false,\"fTimeFormat\":\"\",\"fLabels\":null,\"fModLabs\":null},\"fZaxis\":{\"_typename\":\"TAxis\",\"fUniqueID\":0,\"fBits\":50331648,\"fName\":\"zaxis\",\"fTitle\":\"\",\"fNdivisions\":510,\"fAxisColor\":1,\"fLabelColor\":1,\"fLabelFont\":42,\"fLabelOffset\":0.005,\"fLabelSize\":0.035,\"fTickLength\":0.03,\"fTitleOffset\":1,\"fTitleSize\":0.035,\"fTitleColor\":1,\"fTitleFont\":42,\"fNbins\":1,\"fXmin\":0,\"fXmax\":1,\"fXbins\":[],\"fFirst\":0,\"fLast\":0,\"fBits2\":0,\"fTimeDisplay\":false,\"fTimeFormat\":\"\",\"fLabels\":null,\"fModLabs\":null},\"fBarOffset\":0,\"fBarWidth\":1000,\"fEntries\":1178194,\"fTsumw\":1178182,\"fTsumw2\":1178182,\"fTsumwx\":3400020,\"fTsumwx2\":19085082,\"fMaximum\":37200,\"fMinimum\":0,\"fNormFactor\":0,\"fContour\":[],\"fSumw2\":[0,4903.0612244898,4903.0612244898,4903.01119325281,4832.54219596002,4010.72909725115,2564.20095793419,1423.66386401499,759.624271137026,411.106674302374,233.620861099542,141.663447521866,93.1331476468138,62.9643117451062,45.2032226155768,32.8204914618909,24.6653998334027,19.3620887130362,15.3345741357768,12.6829185755935,10.4064972927947,8.38023219491878,6.95434194085798,6.07879529362766,4.92807684298209,4.30268638067472,3.65228029987505,3.20199916701374,2.75171803415244,2.50156184922949,2.25140566430654,2.12632757184506,1.85115576842982,1.60099958350687,1.50093710953769,1.40087463556851,1.35084339858392,1.30081216159933,1.12570283215327,0.9756091211995,0.92557788421491,0.92557788421491,0.900562265722616,0.750468554768846,0.725452936276551,0.650406080799667,0.550343606830487,0.425265514369013,0.400249895876718,0.375234277384423,0.325203040399833,0.275171803415244,0.250156184922949,0.250156184922949,0.250156184922949,0.175109329446064,0.175109329446064,0.125078092461474,0.10006247396918,0.10006247396918,0.10006247396918,0.10006247396918,0.10006247396918,0.10006247396918,0.10006247396918,0.10006247396918,0.10006247396918,0.10006247396918,0.10006247396918,0.10006247396918,0.10006247396918,0.10006247396918,0.10006247396918,0.10006247396918,0.10006247396918,0.10006247396918,0.10006247396918,0.10006247396918,0.0750468554768846,0.0750468554768846,0.0750468554768846,0.0750468554768846,0.0750468554768846,0.0750468554768846,0.0750468554768846,0.0750468554768846,0.0750468554768846,0.0750468554768846,0.0750468554768846,0.0750468554768846,0.0750468554768846,0.0500312369845898,0.0500312369845898,0.0500312369845898,0.0500312369845898,0.0500312369845898,0.0500312369845898,0.0500312369845898,0.0250156184922949,0.0250156184922949,0.0250156184922949,0.300187421907539],\"fOption\":\"\",\"fFunctions\":{\"_typename\":\"TList\",\"name\":\"TList\",\"arr\":[],\"opt\":[]},\"fBufferSize\":0,\"fBuffer\":[],\"fBinStatErrOpt\":0,\"fStatOverflows\":2,\"fArray\":[0,31000,31000,30999.68,30554.14,25358.16,16212.37,9001.229,4802.786,2599.255,1477.087,895.6786,588.8419,398.0969,285.801,207.5102,155.949,122.4184,96.95408,80.18877,65.79592,52.9847,43.96939,38.43367,31.15816,27.20408,23.09184,20.2449,17.39796,15.81633,14.23469,13.44388,11.70408,10.12245,9.489796,8.857142,8.540816,8.22449,7.117347,6.168367,5.852041,5.852041,5.693878,4.744898,4.586735,4.112245,3.479592,2.688776,2.530612,2.372449,2.056123,1.739796,1.581633,1.581633,1.581633,1.107143,1.107143,0.7908163,0.6326531,0.6326531,0.6326531,0.6326531,0.6326531,0.6326531,0.6326531,0.6326531,0.6326531,0.6326531,0.6326531,0.6326531,0.6326531,0.6326531,0.6326531,0.6326531,0.6326531,0.6326531,0.6326531,0.6326531,0.4744898,0.4744898,0.4744898,0.4744898,0.4744898,0.4744898,0.4744898,0.4744898,0.4744898,0.4744898,0.4744898,0.4744898,0.4744898,0.3163265,0.3163265,0.3163265,0.3163265,0.3163265,0.3163265,0.3163265,0.1581633,0.1581633,0.1581633,1.897959]},{\"_typename\":\"TH1F\",\"fUniqueID\":0,\"fBits\":50332168,\"fName\":\"033c2f\",\"fTitle\":\"\",\"fLineColor\":429,\"fLineStyle\":1,\"fLineWidth\":1,\"fFillColor\":0,\"fFillStyle\":1001,\"fMarkerColor\":1,\"fMarkerStyle\":1,\"fMarkerSize\":1,\"fNcells\":102,\"fXaxis\":{\"_typename\":\"TAxis\",\"fUniqueID\":0,\"fBits\":50331656,\"fName\":\"xaxis\",\"fTitle\":\" p_{T} [GeV]\",\"fNdivisions\":510,\"fAxisColor\":1,\"fLabelColor\":1,\"fLabelFont\":42,\"fLabelOffset\":0.005,\"fLabelSize\":0.035,\"fTickLength\":0.03,\"fTitleOffset\":1.4,\"fTitleSize\":0.035,\"fTitleColor\":1,\"fTitleFont\":42,\"fNbins\":100,\"fXmin\":0,\"fXmax\":100,\"fXbins\":[],\"fFirst\":0,\"fLast\":0,\"fBits2\":0,\"fTimeDisplay\":false,\"fTimeFormat\":\"\",\"fLabels\":null,\"fModLabs\":null},\"fYaxis\":{\"_typename\":\"TAxis\",\"fUniqueID\":0,\"fBits\":50331656,\"fName\":\"yaxis\",\"fTitle\":\" rate [kHz]\",\"fNdivisions\":510,\"fAxisColor\":1,\"fLabelColor\":1,\"fLabelFont\":42,\"fLabelOffset\":0.005,\"fLabelSize\":0.035,\"fTickLength\":0.03,\"fTitleOffset\":0,\"fTitleSize\":0.035,\"fTitleColor\":1,\"fTitleFont\":42,\"fNbins\":1,\"fXmin\":0,\"fXmax\":1,\"fXbins\":[],\"fFirst\":0,\"fLast\":0,\"fBits2\":0,\"fTimeDisplay\":false,\"fTimeFormat\":\"\",\"fLabels\":null,\"fModLabs\":null},\"fZaxis\":{\"_typename\":\"TAxis\",\"fUniqueID\":0,\"fBits\":50331648,\"fName\":\"zaxis\",\"fTitle\":\"\",\"fNdivisions\":510,\"fAxisColor\":1,\"fLabelColor\":1,\"fLabelFont\":42,\"fLabelOffset\":0.005,\"fLabelSize\":0.035,\"fTickLength\":0.03,\"fTitleOffset\":1,\"fTitleSize\":0.035,\"fTitleColor\":1,\"fTitleFont\":42,\"fNbins\":1,\"fXmin\":0,\"fXmax\":1,\"fXbins\":[],\"fFirst\":0,\"fLast\":0,\"fBits2\":0,\"fTimeDisplay\":false,\"fTimeFormat\":\"\",\"fLabels\":null,\"fModLabs\":null},\"fBarOffset\":0,\"fBarWidth\":1000,\"fEntries\":37482,\"fTsumw\":37482,\"fTsumw2\":37482,\"fTsumwx\":143632,\"fTsumwx2\":2211476,\"fMaximum\":37200,\"fMinimum\":0,\"fNormFactor\":0,\"fContour\":[],\"fSumw2\":[0,270.894132653061,196.522698875469,99.0618492294877,64.6653738025823,51.0068461057893,42.9518169512703,36.9480685131195,31.3946012078301,25.9411963765098,21.6385099958351,16.9105581007913,13.1331997084548,10.2564035818409,7.85490420658059,6.02876405664307,5.00312369845898,4.27767076218242,3.65228029987505,3.07692107455227,2.65165556018326,2.25140566430654,1.92620262390671,1.72607767596835,1.40087463556851,1.25078092461474,1.07567159516868,0.92557788421491,0.825515410245731,0.750468554768846,0.725452936276551,0.700437317784257,0.625390462307372,0.525327988338192,0.525327988338192,0.525327988338192,0.525327988338192,0.475296751353603,0.425265514369013,0.350218658892128,0.350218658892128,0.325203040399833,0.325203040399833,0.275171803415244,0.250156184922949,0.250156184922949,0.250156184922949,0.225140566430654,0.200124947938359,0.175109329446064,0.175109329446064,0.175109329446064,0.175109329446064,0.175109329446064,0.175109329446064,0.150093710953769,0.150093710953769,0.10006247396918,0.0750468554768846,0.0750468554768846,0.0750468554768846,0.0750468554768846,0.0750468554768846,0.0750468554768846,0.0750468554768846,0.0750468554768846,0.0750468554768846,0.0750468554768846,0.0750468554768846,0.0750468554768846,0.0750468554768846,0.0750468554768846,0.0750468554768846,0.0750468554768846,0.0750468554768846,0.0750468554768846,0.0750468554768846,0.0750468554768846,0.0500312369845898,0.0500312369845898,0.0500312369845898,0.0500312369845898,0.0500312369845898,0.0500312369845898,0.0500312369845898,0.0500312369845898,0.0500312369845898,0.0500312369845898,0.0500312369845898,0.0500312369845898,0.0500312369845898,0.0250156184922949,0.0250156184922949,0.0250156184922949,0.0250156184922949,0.0250156184922949,0.0250156184922949,0.0250156184922949,0,0,0,0],\"fOption\":\"\",\"fFunctions\":{\"_typename\":\"TList\",\"name\":\"TList\",\"arr\":[],\"opt\":[]},\"fBufferSize\":0,\"fBuffer\":[],\"fBinStatErrOpt\":0,\"fStatOverflows\":2,\"fArray\":[0,1712.75,1242.531,626.3265,408.8521,322.4949,271.5663,233.6071,198.4949,164.0153,136.8112,106.9184,83.03571,64.84694,49.66327,38.11735,31.63265,27.04592,23.09184,19.45408,16.76531,14.23469,12.17857,10.91327,8.857142,7.908163,6.801021,5.852041,5.219388,4.744898,4.586735,4.428571,3.954082,3.321429,3.321429,3.321429,3.321429,3.005102,2.688776,2.214286,2.214286,2.056123,2.056123,1.739796,1.581633,1.581633,1.581633,1.423469,1.265306,1.107143,1.107143,1.107143,1.107143,1.107143,1.107143,0.9489796,0.9489796,0.6326531,0.4744898,0.4744898,0.4744898,0.4744898,0.4744898,0.4744898,0.4744898,0.4744898,0.4744898,0.4744898,0.4744898,0.4744898,0.4744898,0.4744898,0.4744898,0.4744898,0.4744898,0.4744898,0.4744898,0.4744898,0.3163265,0.3163265,0.3163265,0.3163265,0.3163265,0.3163265,0.3163265,0.3163265,0.3163265,0.3163265,0.3163265,0.3163265,0.3163265,0.1581633,0.1581633,0.1581633,0.1581633,0.1581633,0.1581633,0.1581633,0,0,0,0]},{\"_typename\":\"TLegend\",\"fUniqueID\":0,\"fBits\":50331656,\"fLineColor\":1,\"fLineStyle\":1,\"fLineWidth\":1,\"fFillColor\":0,\"fFillStyle\":0,\"fX1\":100.000002091391,\"fY1\":28020.7793785496,\"fX2\":143.859651764564,\"fY2\":34784.4157585473,\"fX1NDC\":0.7,\"fY1NDC\":0.71,\"fX2NDC\":0.95,\"fY2NDC\":0.85,\"fBorderSize\":0,\"fInit\":1,\"fShadowColor\":1,\"fCornerRadius\":0,\"fOption\":\"brNDC\",\"fName\":\"TPave\",\"fTextAngle\":0,\"fTextSize\":0.03,\"fTextAlign\":12,\"fTextColor\":1,\"fTextFont\":42,\"fPrimitives\":{\"_typename\":\"TList\",\"name\":\"TList\",\"arr\":[{\"_typename\":\"TLegendEntry\",\"fUniqueID\":0,\"fBits\":50331656,\"fTextAngle\":0,\"fTextSize\":0,\"fTextAlign\":0,\"fTextColor\":0,\"fTextFont\":42,\"fLineColor\":1,\"fLineStyle\":1,\"fLineWidth\":1,\"fFillColor\":0,\"fFillStyle\":0,\"fMarkerColor\":1,\"fMarkerStyle\":21,\"fMarkerSize\":1,\"fObject\":{\"$ref\":3},\"fLabel\":\"TkEle Ell. match, hwQual 4, 1.52 < |#eta^{L1}| <= 2.4\",\"fOption\":\"l\"},{\"_typename\":\"TLegendEntry\",\"fUniqueID\":0,\"fBits\":50331656,\"fTextAngle\":0,\"fTextSize\":0,\"fTextAlign\":0,\"fTextColor\":0,\"fTextFont\":42,\"fLineColor\":628,\"fLineStyle\":1,\"fLineWidth\":1,\"fFillColor\":0,\"fFillStyle\":0,\"fMarkerColor\":1,\"fMarkerStyle\":21,\"fMarkerSize\":1,\"fObject\":{\"$ref\":8},\"fLabel\":\"EG, hwQual 5, 1.52 < |#eta^{L1}| <= 2.4\",\"fOption\":\"l\"},{\"_typename\":\"TLegendEntry\",\"fUniqueID\":0,\"fBits\":50331656,\"fTextAngle\":0,\"fTextSize\":0,\"fTextAlign\":0,\"fTextColor\":0,\"fTextFont\":42,\"fLineColor\":417,\"fLineStyle\":1,\"fLineWidth\":1,\"fFillColor\":0,\"fFillStyle\":0,\"fMarkerColor\":1,\"fMarkerStyle\":21,\"fMarkerSize\":1,\"fObject\":{\"$ref\":13},\"fLabel\":\"TkEle Ell. match, hwQual 3, 1.52 < |#eta^{L1}| <= 2.4\",\"fOption\":\"l\"},{\"_typename\":\"TLegendEntry\",\"fUniqueID\":0,\"fBits\":50331656,\"fTextAngle\":0,\"fTextSize\":0,\"fTextAlign\":0,\"fTextColor\":0,\"fTextFont\":42,\"fLineColor\":597,\"fLineStyle\":1,\"fLineWidth\":1,\"fFillColor\":0,\"fFillStyle\":0,\"fMarkerColor\":1,\"fMarkerStyle\":21,\"fMarkerSize\":1,\"fObject\":{\"$ref\":18},\"fLabel\":\"EG, hwQual 3, 1.52 < |#eta^{L1}| <= 2.4\",\"fOption\":\"l\"},{\"_typename\":\"TLegendEntry\",\"fUniqueID\":0,\"fBits\":50331656,\"fTextAngle\":0,\"fTextSize\":0,\"fTextAlign\":0,\"fTextColor\":0,\"fTextFont\":42,\"fLineColor\":617,\"fLineStyle\":1,\"fLineWidth\":1,\"fFillColor\":0,\"fFillStyle\":0,\"fMarkerColor\":1,\"fMarkerStyle\":21,\"fMarkerSize\":1,\"fObject\":{\"$ref\":23},\"fLabel\":\"EG, hwQual 4, 1.52 < |#eta^{L1}| <= 2.4\",\"fOption\":\"l\"},{\"_typename\":\"TLegendEntry\",\"fUniqueID\":0,\"fBits\":50331656,\"fTextAngle\":0,\"fTextSize\":0,\"fTextAlign\":0,\"fTextColor\":0,\"fTextFont\":42,\"fLineColor\":429,\"fLineStyle\":1,\"fLineWidth\":1,\"fFillColor\":0,\"fFillStyle\":0,\"fMarkerColor\":1,\"fMarkerStyle\":21,\"fMarkerSize\":1,\"fObject\":{\"$ref\":28},\"fLabel\":\"TkEle Ell. match, hwQual 5, 1.52 < |#eta^{L1}| <= 2.4\",\"fOption\":\"l\"}],\"opt\":[\"l\",\"l\",\"l\",\"l\",\"l\",\"l\"]},\"fEntrySeparation\":0.1,\"fMargin\":0.25,\"fNColumns\":1,\"fColumnSeparation\":0},{\"_typename\":\"TLatex\",\"fUniqueID\":0,\"fBits\":50348040,\"fName\":\"\",\"fTitle\":\"PU200\",\"fTextAngle\":0,\"fTextSize\":0.03,\"fTextAlign\":11,\"fTextColor\":1,\"fTextFont\":62,\"fX\":0.15,\"fY\":0.85,\"fLineColor\":1,\"fLineStyle\":1,\"fLineWidth\":2,\"fLimitFactorSize\":3,\"fOriginSize\":0.04},{\"_typename\":\"TLatex\",\"fUniqueID\":0,\"fBits\":50331656,\"fName\":\"\",\"fTitle\":\"\",\"fTextAngle\":0,\"fTextSize\":0.03,\"fTextAlign\":11,\"fTextColor\":1,\"fTextFont\":62,\"fX\":0,\"fY\":0,\"fLineColor\":1,\"fLineStyle\":1,\"fLineWidth\":2,\"fLimitFactorSize\":3,\"fOriginSize\":0.04}],\"opt\":[\"\",\"\",\"same,\",\"same,\",\"same,\",\"same,\",\"same,\",\"same\",\"same\",\"same\"]},\"fExecs\":null,\"fName\":\"c_555f25\",\"fTitle\":\"c_555f25\",\"fNumPaletteColor\":0,\"fNextPaletteColor\":0,\"fDISPLAY\":\"$DISPLAY\",\"fDoubleBuffer\":0,\"fRetained\":true,\"fXsizeUser\":0,\"fYsizeUser\":0,\"fXsizeReal\":20,\"fYsizeReal\":15,\"fWindowTopX\":0,\"fWindowTopY\":0,\"fWindowWidth\":0,\"fWindowHeight\":0,\"fCw\":796,\"fCh\":572,\"fCatt\":{\"_typename\":\"TAttCanvas\",\"fXBetween\":2,\"fYBetween\":2,\"fTitleFromTop\":1.2,\"fXdate\":0.2,\"fYdate\":0.3,\"fAdate\":1},\"kMoveOpaque\":true,\"kResizeOpaque\":true,\"fHighLightColor\":2,\"fBatch\":true,\"kShowEventStatus\":false,\"kAutoExec\":true,\"kMenuBar\":true});\n",
       "       Core.draw(\"root_plot_48\", obj, \"\");\n",
       "     }\n",
       " );\n",
       "</script>\n"
      ],
      "text/plain": [
       "<IPython.core.display.HTML object>"
      ]
     },
     "metadata": {},
     "output_type": "display_data"
    }
   ],
   "source": [
    "# 'HMvDRCalib','HMvDRshapeDrCalib',\n",
    "hsets, labels, text = hplot.get_histo(histos.RateHistos, sample, 'PU200', ['EG', 'TkEle', 'TkEleEL'], ['EGq3EtaBC', 'EGq4EtaBC', 'EGq5EtaBC'], None)\n",
    "for hist in hsets:\n",
    "    hist.normalize(31000)\n",
    "draw([his.h_pt for his in hsets], labels, text=text, logy=True)"
   ]
  },
  {
   "cell_type": "code",
   "execution_count": 46,
   "metadata": {},
   "outputs": [
    {
     "name": "stdout",
     "output_type": "stream",
     "text": [
      "normalize to 31000\n"
     ]
    },
    {
     "data": {
      "text/plain": [
       "<__main__.DrawMachine at 0x10dc58890>"
      ]
     },
     "execution_count": 46,
     "metadata": {},
     "output_type": "execute_result"
    },
    {
     "data": {
      "text/html": [
       "\n",
       "<div id=\"root_plot_9\"\n",
       "     style=\"width: 796px; height: 572px\">\n",
       "</div>\n",
       "\n",
       "<script>\n",
       " requirejs.config({\n",
       "     paths: {\n",
       "       'JSRootCore' : 'https://root.cern.ch/js/notebook//scripts/JSRootCore',\n",
       "     }\n",
       "   });\n",
       " require(['JSRootCore'],\n",
       "     function(Core) {\n",
       "       var obj = Core.JSONR_unref({\"_typename\":\"TCanvas\",\"fUniqueID\":0,\"fBits\":53673992,\"fLineColor\":1,\"fLineStyle\":1,\"fLineWidth\":1,\"fFillColor\":0,\"fFillStyle\":1001,\"fLeftMargin\":0.13,\"fRightMargin\":0.3,\"fBottomMargin\":0.13,\"fTopMargin\":0.1,\"fXfile\":2,\"fYfile\":2,\"fAfile\":1,\"fXstat\":0.99,\"fYstat\":0.99,\"fAstat\":2,\"fFrameFillColor\":0,\"fFrameLineColor\":1,\"fFrameFillStyle\":1001,\"fFrameLineStyle\":1,\"fFrameLineWidth\":1,\"fFrameBorderSize\":1,\"fFrameBorderMode\":0,\"fX1\":-22.8070169934936,\"fY1\":-1.70776041025104,\"fX2\":152.631581699199,\"fY2\":5.26813222988247,\"fXtoAbsPixelk\":103.480046204376,\"fXtoPixelk\":103.480046204376,\"fXtoPixel\":4.53719994306564,\"fYtoAbsPixelk\":431.969375066204,\"fYtoPixelk\":431.969375066204,\"fYtoPixel\":-81.9966747637693,\"fUtoAbsPixelk\":5e-5,\"fUtoPixelk\":5e-5,\"fUtoPixel\":796,\"fVtoAbsPixelk\":572.00005,\"fVtoPixelk\":572,\"fVtoPixel\":-572,\"fAbsPixeltoXk\":-22.8070169934936,\"fPixeltoXk\":-22.8070169934936,\"fPixeltoX\":0.220400249613935,\"fAbsPixeltoYk\":5.26813222988248,\"fPixeltoYk\":-1.70776041025104,\"fPixeltoY\":-0.0121956165037299,\"fXlowNDC\":0,\"fYlowNDC\":0,\"fXUpNDC\":0,\"fYUpNDC\":0,\"fWNDC\":1,\"fHNDC\":1,\"fAbsXlowNDC\":0,\"fAbsYlowNDC\":0,\"fAbsWNDC\":1,\"fAbsHNDC\":1,\"fUxmin\":0,\"fUymin\":-0.800894380027297,\"fUxmax\":100,\"fUymax\":4.5705429398819,\"fTheta\":30,\"fPhi\":30,\"fAspectRatio\":0,\"fNumber\":0,\"fTickx\":0,\"fTicky\":0,\"fLogx\":0,\"fLogy\":1,\"fLogz\":0,\"fPadPaint\":0,\"fCrosshair\":0,\"fCrosshairPos\":0,\"fBorderSize\":2,\"fBorderMode\":0,\"fModified\":false,\"fGridx\":true,\"fGridy\":true,\"fAbsCoord\":false,\"fEditable\":true,\"fFixedAspectRatio\":false,\"fPrimitives\":{\"_typename\":\"TList\",\"name\":\"TList\",\"arr\":[{\"_typename\":\"TFrame\",\"fUniqueID\":0,\"fBits\":50331656,\"fLineColor\":1,\"fLineStyle\":1,\"fLineWidth\":1,\"fFillColor\":0,\"fFillStyle\":1001,\"fX1\":0,\"fY1\":-0.800894380027297,\"fX2\":100,\"fY2\":4.5705429398819,\"fBorderSize\":1,\"fBorderMode\":0},{\"_typename\":\"TH1F\",\"fUniqueID\":0,\"fBits\":50332168,\"fName\":\"283c20\",\"fTitle\":\"\",\"fLineColor\":1,\"fLineStyle\":1,\"fLineWidth\":1,\"fFillColor\":0,\"fFillStyle\":1001,\"fMarkerColor\":1,\"fMarkerStyle\":1,\"fMarkerSize\":1,\"fNcells\":102,\"fXaxis\":{\"_typename\":\"TAxis\",\"fUniqueID\":0,\"fBits\":50331656,\"fName\":\"xaxis\",\"fTitle\":\" p_{T} [GeV]\",\"fNdivisions\":510,\"fAxisColor\":1,\"fLabelColor\":1,\"fLabelFont\":42,\"fLabelOffset\":0.005,\"fLabelSize\":0.035,\"fTickLength\":0.03,\"fTitleOffset\":1.4,\"fTitleSize\":0.035,\"fTitleColor\":1,\"fTitleFont\":42,\"fNbins\":100,\"fXmin\":0,\"fXmax\":100,\"fXbins\":[],\"fFirst\":0,\"fLast\":0,\"fBits2\":0,\"fTimeDisplay\":false,\"fTimeFormat\":\"\",\"fLabels\":null,\"fModLabs\":null},\"fYaxis\":{\"_typename\":\"TAxis\",\"fUniqueID\":0,\"fBits\":50331656,\"fName\":\"yaxis\",\"fTitle\":\" rate [kHz]\",\"fNdivisions\":510,\"fAxisColor\":1,\"fLabelColor\":1,\"fLabelFont\":42,\"fLabelOffset\":0.005,\"fLabelSize\":0.035,\"fTickLength\":0.03,\"fTitleOffset\":0,\"fTitleSize\":0.035,\"fTitleColor\":1,\"fTitleFont\":42,\"fNbins\":1,\"fXmin\":0,\"fXmax\":1,\"fXbins\":[],\"fFirst\":0,\"fLast\":0,\"fBits2\":0,\"fTimeDisplay\":false,\"fTimeFormat\":\"\",\"fLabels\":null,\"fModLabs\":null},\"fZaxis\":{\"_typename\":\"TAxis\",\"fUniqueID\":0,\"fBits\":50331648,\"fName\":\"zaxis\",\"fTitle\":\"\",\"fNdivisions\":510,\"fAxisColor\":1,\"fLabelColor\":1,\"fLabelFont\":42,\"fLabelOffset\":0.005,\"fLabelSize\":0.035,\"fTickLength\":0.03,\"fTitleOffset\":1,\"fTitleSize\":0.035,\"fTitleColor\":1,\"fTitleFont\":42,\"fNbins\":1,\"fXmin\":0,\"fXmax\":1,\"fXbins\":[],\"fFirst\":0,\"fLast\":0,\"fBits2\":0,\"fTimeDisplay\":false,\"fTimeFormat\":\"\",\"fLabels\":null,\"fModLabs\":null},\"fBarOffset\":0,\"fBarWidth\":1000,\"fEntries\":1207601,\"fTsumw\":1207589,\"fTsumw2\":1207589,\"fTsumwx\":3579925,\"fTsumwx2\":20439249,\"fMaximum\":37200,\"fMinimum\":0.158163264393806,\"fNormFactor\":0,\"fContour\":[],\"fSumw2\":[0,4903.0612244898,4903.0612244898,4903.0362088713,4857.53279883382,4171.92974281549,2763.75054664723,1563.30104643898,840.399703248646,457.28550603915,259.962307371928,157.523349645981,103.264473136193,70.1187786339026,50.1813306955435,36.3226780508122,27.6922896709704,21.7635880882965,17.2107455226989,14.2839181591004,11.6572782174094,9.40587255310287,7.75484173261141,6.50406080799667,5.3533423573511,4.60287380258226,3.87742086630571,3.4021241149521,2.90181174510621,2.67667117867555,2.40149937526031,2.27642128279883,2.00124947938359,1.70106205747605,1.60099958350687,1.50093710953769,1.42589025406081,1.35084339858392,1.20074968763015,1.05065597667638,1.0006247396918,0.950593502707205,0.92557788421491,0.775484173261141,0.725452936276551,0.650406080799667,0.550343606830487,0.475296751353603,0.450281132861308,0.400249895876718,0.350218658892128,0.300187421907539,0.275171803415244,0.275171803415244,0.275171803415244,0.175109329446064,0.175109329446064,0.125078092461474,0.10006247396918,0.10006247396918,0.10006247396918,0.10006247396918,0.10006247396918,0.10006247396918,0.10006247396918,0.10006247396918,0.10006247396918,0.10006247396918,0.10006247396918,0.10006247396918,0.10006247396918,0.10006247396918,0.10006247396918,0.10006247396918,0.10006247396918,0.10006247396918,0.10006247396918,0.10006247396918,0.0750468554768846,0.0750468554768846,0.0750468554768846,0.0750468554768846,0.0750468554768846,0.0750468554768846,0.0750468554768846,0.0750468554768846,0.0750468554768846,0.0750468554768846,0.0750468554768846,0.0750468554768846,0.0750468554768846,0.0500312369845898,0.0500312369845898,0.0500312369845898,0.0500312369845898,0.0500312369845898,0.0500312369845898,0.0500312369845898,0.0250156184922949,0.0250156184922949,0.0250156184922949,0.300187421907539],\"fOption\":\"\",\"fFunctions\":{\"_typename\":\"TList\",\"name\":\"TList\",\"arr\":[],\"opt\":[]},\"fBufferSize\":0,\"fBuffer\":[],\"fBinStatErrOpt\":0,\"fStatOverflows\":2,\"fArray\":[0,31000,31000,30999.84,30712.14,26377.36,17474.04,9884.097,5313.495,2891.225,1643.633,995.9541,652.8979,443.3316,317.2755,229.6531,175.0867,137.602,108.8163,90.31123,73.70408,59.46939,49.03061,41.12245,33.84694,29.10204,24.51531,21.5102,18.34694,16.92347,15.18367,14.39286,12.65306,10.7551,10.12245,9.489796,9.015306,8.540816,7.591837,6.642857,6.32653,6.010204,5.852041,4.903061,4.586735,4.112245,3.479592,3.005102,2.846939,2.530612,2.214286,1.897959,1.739796,1.739796,1.739796,1.107143,1.107143,0.7908163,0.6326531,0.6326531,0.6326531,0.6326531,0.6326531,0.6326531,0.6326531,0.6326531,0.6326531,0.6326531,0.6326531,0.6326531,0.6326531,0.6326531,0.6326531,0.6326531,0.6326531,0.6326531,0.6326531,0.6326531,0.4744898,0.4744898,0.4744898,0.4744898,0.4744898,0.4744898,0.4744898,0.4744898,0.4744898,0.4744898,0.4744898,0.4744898,0.4744898,0.3163265,0.3163265,0.3163265,0.3163265,0.3163265,0.3163265,0.3163265,0.1581633,0.1581633,0.1581633,1.897959]},{\"_typename\":\"TH1F\",\"fUniqueID\":0,\"fBits\":50332168,\"fName\":\"67838b\",\"fTitle\":\"\",\"fLineColor\":628,\"fLineStyle\":1,\"fLineWidth\":1,\"fFillColor\":0,\"fFillStyle\":1001,\"fMarkerColor\":1,\"fMarkerStyle\":1,\"fMarkerSize\":1,\"fNcells\":102,\"fXaxis\":{\"_typename\":\"TAxis\",\"fUniqueID\":0,\"fBits\":50331656,\"fName\":\"xaxis\",\"fTitle\":\" p_{T} [GeV]\",\"fNdivisions\":510,\"fAxisColor\":1,\"fLabelColor\":1,\"fLabelFont\":42,\"fLabelOffset\":0.005,\"fLabelSize\":0.035,\"fTickLength\":0.03,\"fTitleOffset\":1.4,\"fTitleSize\":0.035,\"fTitleColor\":1,\"fTitleFont\":42,\"fNbins\":100,\"fXmin\":0,\"fXmax\":100,\"fXbins\":[],\"fFirst\":0,\"fLast\":0,\"fBits2\":0,\"fTimeDisplay\":false,\"fTimeFormat\":\"\",\"fLabels\":null,\"fModLabs\":null},\"fYaxis\":{\"_typename\":\"TAxis\",\"fUniqueID\":0,\"fBits\":50331656,\"fName\":\"yaxis\",\"fTitle\":\" rate [kHz]\",\"fNdivisions\":510,\"fAxisColor\":1,\"fLabelColor\":1,\"fLabelFont\":42,\"fLabelOffset\":0.005,\"fLabelSize\":0.035,\"fTickLength\":0.03,\"fTitleOffset\":0,\"fTitleSize\":0.035,\"fTitleColor\":1,\"fTitleFont\":42,\"fNbins\":1,\"fXmin\":0,\"fXmax\":1,\"fXbins\":[],\"fFirst\":0,\"fLast\":0,\"fBits2\":0,\"fTimeDisplay\":false,\"fTimeFormat\":\"\",\"fLabels\":null,\"fModLabs\":null},\"fZaxis\":{\"_typename\":\"TAxis\",\"fUniqueID\":0,\"fBits\":50331648,\"fName\":\"zaxis\",\"fTitle\":\"\",\"fNdivisions\":510,\"fAxisColor\":1,\"fLabelColor\":1,\"fLabelFont\":42,\"fLabelOffset\":0.005,\"fLabelSize\":0.035,\"fTickLength\":0.03,\"fTitleOffset\":1,\"fTitleSize\":0.035,\"fTitleColor\":1,\"fTitleFont\":42,\"fNbins\":1,\"fXmin\":0,\"fXmax\":1,\"fXbins\":[],\"fFirst\":0,\"fLast\":0,\"fBits2\":0,\"fTimeDisplay\":false,\"fTimeFormat\":\"\",\"fLabels\":null,\"fModLabs\":null},\"fBarOffset\":0,\"fBarWidth\":1000,\"fEntries\":1488489,\"fTsumw\":1488470,\"fTsumw2\":1488470,\"fTsumwx\":5550677,\"fTsumwx2\":36350355,\"fMaximum\":37200,\"fMinimum\":0.158163264393806,\"fNormFactor\":0,\"fContour\":[],\"fSumw2\":[0,4903.0612244898,4903.0612244898,4903.0612244898,4892.15441482716,4530.90386817993,4292.37994585589,3224.41316118284,2115.59587151187,1297.48508433986,786.215873594336,483.777046022491,301.613312161599,155.797271970013,98.9367711370262,70.5690597667639,53.1331736776343,39.5747084548105,30.3189296126614,22.5140566430654,18.0112453144523,15.2345116618076,12.7079341940858,10.5565910037484,8.75546647230321,7.17948250728863,5.80362349021241,5.12820179092045,4.50281132861308,3.82738962932112,3.25203040399833,2.80174927113703,2.65165556018326,2.47654623073719,2.25140566430654,2.07629633486048,1.85115576842982,1.70106205747605,1.62601520199917,1.4759214910454,1.40087463556851,1.22576530612245,1.15071845064556,1.07567159516868,0.950593502707205,0.850531028738026,0.800499791753436,0.750468554768846,0.625390462307372,0.575359225322782,0.550343606830487,0.500312369845898,0.450281132861308,0.375234277384423,0.325203040399833,0.275171803415244,0.275171803415244,0.275171803415244,0.250156184922949,0.175109329446064,0.175109329446064,0.125078092461474,0.10006247396918,0.10006247396918,0.10006247396918,0.10006247396918,0.10006247396918,0.10006247396918,0.10006247396918,0.10006247396918,0.10006247396918,0.10006247396918,0.10006247396918,0.10006247396918,0.10006247396918,0.10006247396918,0.10006247396918,0.10006247396918,0.10006247396918,0.10006247396918,0.10006247396918,0.10006247396918,0.10006247396918,0.10006247396918,0.10006247396918,0.0750468554768846,0.0750468554768846,0.0750468554768846,0.0750468554768846,0.0750468554768846,0.0750468554768846,0.0750468554768846,0.0750468554768846,0.0750468554768846,0.0750468554768846,0.0750468554768846,0.0750468554768846,0.0500312369845898,0.0500312369845898,0.0500312369845898,0.0500312369845898,0.475296751353603],\"fOption\":\"\",\"fFunctions\":{\"_typename\":\"TList\",\"name\":\"TList\",\"arr\":[],\"opt\":[]},\"fBufferSize\":0,\"fBuffer\":[],\"fBinStatErrOpt\":0,\"fStatOverflows\":2,\"fArray\":[0,31000,31000,31000,30931.04,28647.01,27138.92,20386.61,13376.03,8203.454,4970.913,3058.719,1906.974,985.0408,625.5357,446.1786,335.9388,250.2143,191.6939,142.3469,113.8775,96.32143,80.34694,66.7449,55.35714,45.39286,36.69388,32.42347,28.46939,24.19898,20.56122,17.71428,16.76531,15.65816,14.23469,13.12755,11.70408,10.7551,10.28061,9.331633,8.857142,7.75,7.27551,6.801021,6.010204,5.377551,5.061224,4.744898,3.954082,3.637755,3.479592,3.163265,2.846939,2.372449,2.056123,1.739796,1.739796,1.739796,1.581633,1.107143,1.107143,0.7908163,0.6326531,0.6326531,0.6326531,0.6326531,0.6326531,0.6326531,0.6326531,0.6326531,0.6326531,0.6326531,0.6326531,0.6326531,0.6326531,0.6326531,0.6326531,0.6326531,0.6326531,0.6326531,0.6326531,0.6326531,0.6326531,0.6326531,0.6326531,0.4744898,0.4744898,0.4744898,0.4744898,0.4744898,0.4744898,0.4744898,0.4744898,0.4744898,0.4744898,0.4744898,0.4744898,0.3163265,0.3163265,0.3163265,0.3163265,3.005102]},{\"_typename\":\"TH1F\",\"fUniqueID\":0,\"fBits\":50332168,\"fName\":\"792465\",\"fTitle\":\"\",\"fLineColor\":417,\"fLineStyle\":1,\"fLineWidth\":1,\"fFillColor\":0,\"fFillStyle\":1001,\"fMarkerColor\":1,\"fMarkerStyle\":1,\"fMarkerSize\":1,\"fNcells\":102,\"fXaxis\":{\"_typename\":\"TAxis\",\"fUniqueID\":0,\"fBits\":50331656,\"fName\":\"xaxis\",\"fTitle\":\" p_{T} [GeV]\",\"fNdivisions\":510,\"fAxisColor\":1,\"fLabelColor\":1,\"fLabelFont\":42,\"fLabelOffset\":0.005,\"fLabelSize\":0.035,\"fTickLength\":0.03,\"fTitleOffset\":1.4,\"fTitleSize\":0.035,\"fTitleColor\":1,\"fTitleFont\":42,\"fNbins\":100,\"fXmin\":0,\"fXmax\":100,\"fXbins\":[],\"fFirst\":0,\"fLast\":0,\"fBits2\":0,\"fTimeDisplay\":false,\"fTimeFormat\":\"\",\"fLabels\":null,\"fModLabs\":null},\"fYaxis\":{\"_typename\":\"TAxis\",\"fUniqueID\":0,\"fBits\":50331656,\"fName\":\"yaxis\",\"fTitle\":\" rate [kHz]\",\"fNdivisions\":510,\"fAxisColor\":1,\"fLabelColor\":1,\"fLabelFont\":42,\"fLabelOffset\":0.005,\"fLabelSize\":0.035,\"fTickLength\":0.03,\"fTitleOffset\":0,\"fTitleSize\":0.035,\"fTitleColor\":1,\"fTitleFont\":42,\"fNbins\":1,\"fXmin\":0,\"fXmax\":1,\"fXbins\":[],\"fFirst\":0,\"fLast\":0,\"fBits2\":0,\"fTimeDisplay\":false,\"fTimeFormat\":\"\",\"fLabels\":null,\"fModLabs\":null},\"fZaxis\":{\"_typename\":\"TAxis\",\"fUniqueID\":0,\"fBits\":50331648,\"fName\":\"zaxis\",\"fTitle\":\"\",\"fNdivisions\":510,\"fAxisColor\":1,\"fLabelColor\":1,\"fLabelFont\":42,\"fLabelOffset\":0.005,\"fLabelSize\":0.035,\"fTickLength\":0.03,\"fTitleOffset\":1,\"fTitleSize\":0.035,\"fTitleColor\":1,\"fTitleFont\":42,\"fNbins\":1,\"fXmin\":0,\"fXmax\":1,\"fXbins\":[],\"fFirst\":0,\"fLast\":0,\"fBits2\":0,\"fTimeDisplay\":false,\"fTimeFormat\":\"\",\"fLabels\":null,\"fModLabs\":null},\"fBarOffset\":0,\"fBarWidth\":1000,\"fEntries\":1178194,\"fTsumw\":1178182,\"fTsumw2\":1178182,\"fTsumwx\":3400020,\"fTsumwx2\":19085082,\"fMaximum\":37200,\"fMinimum\":0.158163264393806,\"fNormFactor\":0,\"fContour\":[],\"fSumw2\":[0,4903.0612244898,4903.0612244898,4903.01119325281,4832.54219596002,4010.72909725115,2564.20095793419,1423.66386401499,759.624271137026,411.106674302374,233.620861099542,141.663447521866,93.1331476468138,62.9643117451062,45.2032226155768,32.8204914618909,24.6653998334027,19.3620887130362,15.3345741357768,12.6829185755935,10.4064972927947,8.38023219491878,6.95434194085798,6.07879529362766,4.92807684298209,4.30268638067472,3.65228029987505,3.20199916701374,2.75171803415244,2.50156184922949,2.25140566430654,2.12632757184506,1.85115576842982,1.60099958350687,1.50093710953769,1.40087463556851,1.35084339858392,1.30081216159933,1.12570283215327,0.9756091211995,0.92557788421491,0.92557788421491,0.900562265722616,0.750468554768846,0.725452936276551,0.650406080799667,0.550343606830487,0.425265514369013,0.400249895876718,0.375234277384423,0.325203040399833,0.275171803415244,0.250156184922949,0.250156184922949,0.250156184922949,0.175109329446064,0.175109329446064,0.125078092461474,0.10006247396918,0.10006247396918,0.10006247396918,0.10006247396918,0.10006247396918,0.10006247396918,0.10006247396918,0.10006247396918,0.10006247396918,0.10006247396918,0.10006247396918,0.10006247396918,0.10006247396918,0.10006247396918,0.10006247396918,0.10006247396918,0.10006247396918,0.10006247396918,0.10006247396918,0.10006247396918,0.0750468554768846,0.0750468554768846,0.0750468554768846,0.0750468554768846,0.0750468554768846,0.0750468554768846,0.0750468554768846,0.0750468554768846,0.0750468554768846,0.0750468554768846,0.0750468554768846,0.0750468554768846,0.0750468554768846,0.0500312369845898,0.0500312369845898,0.0500312369845898,0.0500312369845898,0.0500312369845898,0.0500312369845898,0.0500312369845898,0.0250156184922949,0.0250156184922949,0.0250156184922949,0.300187421907539],\"fOption\":\"\",\"fFunctions\":{\"_typename\":\"TList\",\"name\":\"TList\",\"arr\":[],\"opt\":[]},\"fBufferSize\":0,\"fBuffer\":[],\"fBinStatErrOpt\":0,\"fStatOverflows\":2,\"fArray\":[0,31000,31000,30999.68,30554.14,25358.16,16212.37,9001.229,4802.786,2599.255,1477.087,895.6786,588.8419,398.0969,285.801,207.5102,155.949,122.4184,96.95408,80.18877,65.79592,52.9847,43.96939,38.43367,31.15816,27.20408,23.09184,20.2449,17.39796,15.81633,14.23469,13.44388,11.70408,10.12245,9.489796,8.857142,8.540816,8.22449,7.117347,6.168367,5.852041,5.852041,5.693878,4.744898,4.586735,4.112245,3.479592,2.688776,2.530612,2.372449,2.056123,1.739796,1.581633,1.581633,1.581633,1.107143,1.107143,0.7908163,0.6326531,0.6326531,0.6326531,0.6326531,0.6326531,0.6326531,0.6326531,0.6326531,0.6326531,0.6326531,0.6326531,0.6326531,0.6326531,0.6326531,0.6326531,0.6326531,0.6326531,0.6326531,0.6326531,0.6326531,0.4744898,0.4744898,0.4744898,0.4744898,0.4744898,0.4744898,0.4744898,0.4744898,0.4744898,0.4744898,0.4744898,0.4744898,0.4744898,0.3163265,0.3163265,0.3163265,0.3163265,0.3163265,0.3163265,0.3163265,0.1581633,0.1581633,0.1581633,1.897959]},{\"_typename\":\"TLegend\",\"fUniqueID\":0,\"fBits\":50331656,\"fLineColor\":1,\"fLineStyle\":1,\"fLineWidth\":1,\"fFillColor\":0,\"fFillStyle\":0,\"fX1\":100.000002091391,\"fY1\":3.24512336424376,\"fX2\":143.859651764564,\"fY2\":4.22174833386245,\"fX1NDC\":0.7,\"fY1NDC\":0.71,\"fX2NDC\":0.95,\"fY2NDC\":0.85,\"fBorderSize\":0,\"fInit\":1,\"fShadowColor\":1,\"fCornerRadius\":0,\"fOption\":\"brNDC\",\"fName\":\"TPave\",\"fTextAngle\":0,\"fTextSize\":0.03,\"fTextAlign\":12,\"fTextColor\":1,\"fTextFont\":42,\"fPrimitives\":{\"_typename\":\"TList\",\"name\":\"TList\",\"arr\":[{\"_typename\":\"TLegendEntry\",\"fUniqueID\":0,\"fBits\":50331656,\"fTextAngle\":0,\"fTextSize\":0,\"fTextAlign\":0,\"fTextColor\":0,\"fTextFont\":42,\"fLineColor\":1,\"fLineStyle\":1,\"fLineWidth\":1,\"fFillColor\":0,\"fFillStyle\":0,\"fMarkerColor\":1,\"fMarkerStyle\":21,\"fMarkerSize\":1,\"fObject\":{\"$ref\":3},\"fLabel\":\"hwQual 5, 1.52 < |#eta^{L1}| <= 2.4\",\"fOption\":\"l\"},{\"_typename\":\"TLegendEntry\",\"fUniqueID\":0,\"fBits\":50331656,\"fTextAngle\":0,\"fTextSize\":0,\"fTextAlign\":0,\"fTextColor\":0,\"fTextFont\":42,\"fLineColor\":628,\"fLineStyle\":1,\"fLineWidth\":1,\"fFillColor\":0,\"fFillStyle\":0,\"fMarkerColor\":1,\"fMarkerStyle\":21,\"fMarkerSize\":1,\"fObject\":{\"$ref\":8},\"fLabel\":\"hwQual 3, 1.52 < |#eta^{L1}| <= 2.4\",\"fOption\":\"l\"},{\"_typename\":\"TLegendEntry\",\"fUniqueID\":0,\"fBits\":50331656,\"fTextAngle\":0,\"fTextSize\":0,\"fTextAlign\":0,\"fTextColor\":0,\"fTextFont\":42,\"fLineColor\":417,\"fLineStyle\":1,\"fLineWidth\":1,\"fFillColor\":0,\"fFillStyle\":0,\"fMarkerColor\":1,\"fMarkerStyle\":21,\"fMarkerSize\":1,\"fObject\":{\"$ref\":13},\"fLabel\":\"hwQual 4, 1.52 < |#eta^{L1}| <= 2.4\",\"fOption\":\"l\"}],\"opt\":[\"l\",\"l\",\"l\"]},\"fEntrySeparation\":0.1,\"fMargin\":0.25,\"fNColumns\":1,\"fColumnSeparation\":0},{\"_typename\":\"TLatex\",\"fUniqueID\":0,\"fBits\":50348040,\"fName\":\"\",\"fTitle\":\"PU200, EG\",\"fTextAngle\":0,\"fTextSize\":0.03,\"fTextAlign\":11,\"fTextColor\":1,\"fTextFont\":62,\"fX\":0.15,\"fY\":0.85,\"fLineColor\":1,\"fLineStyle\":1,\"fLineWidth\":2,\"fLimitFactorSize\":3,\"fOriginSize\":0.04},{\"_typename\":\"TLatex\",\"fUniqueID\":0,\"fBits\":50331656,\"fName\":\"\",\"fTitle\":\"\",\"fTextAngle\":0,\"fTextSize\":0.03,\"fTextAlign\":11,\"fTextColor\":1,\"fTextFont\":62,\"fX\":0,\"fY\":0,\"fLineColor\":1,\"fLineStyle\":1,\"fLineWidth\":2,\"fLimitFactorSize\":3,\"fOriginSize\":0.04}],\"opt\":[\"\",\"\",\"same,\",\"same,\",\"same\",\"same\",\"same\"]},\"fExecs\":null,\"fName\":\"c_9d8848\",\"fTitle\":\"c_9d8848\",\"fNumPaletteColor\":0,\"fNextPaletteColor\":0,\"fDISPLAY\":\"$DISPLAY\",\"fDoubleBuffer\":0,\"fRetained\":true,\"fXsizeUser\":0,\"fYsizeUser\":0,\"fXsizeReal\":20,\"fYsizeReal\":15,\"fWindowTopX\":0,\"fWindowTopY\":0,\"fWindowWidth\":0,\"fWindowHeight\":0,\"fCw\":796,\"fCh\":572,\"fCatt\":{\"_typename\":\"TAttCanvas\",\"fXBetween\":2,\"fYBetween\":2,\"fTitleFromTop\":1.2,\"fXdate\":0.2,\"fYdate\":0.3,\"fAdate\":1},\"kMoveOpaque\":true,\"kResizeOpaque\":true,\"fHighLightColor\":2,\"fBatch\":true,\"kShowEventStatus\":false,\"kAutoExec\":true,\"kMenuBar\":true});\n",
       "       Core.draw(\"root_plot_9\", obj, \"\");\n",
       "     }\n",
       " );\n",
       "</script>\n"
      ],
      "text/plain": [
       "<IPython.core.display.HTML object>"
      ]
     },
     "metadata": {},
     "output_type": "display_data"
    }
   ],
   "source": [
    "# 'HMvDRCalib','HMvDRshapeDrCalib',\n",
    "hsets, labels, text = hplot.get_histo(histos.RateHistos, sample, 'PU200', ['EG'], ['EGq3EtaBC', 'EGq4EtaBC', 'EGq5EtaBC'], None)\n",
    "\n",
    "for hist in hsets:\n",
    "    hist.normalize(31000)\n",
    "draw([his.h_pt for his in hsets], labels, text=text, logy=True)"
   ]
  },
  {
   "cell_type": "code",
   "execution_count": 47,
   "metadata": {
    "scrolled": false
   },
   "outputs": [
    {
     "data": {
      "text/html": [
       "\n",
       "<div id=\"root_plot_10\"\n",
       "     style=\"width: 796px; height: 572px\">\n",
       "</div>\n",
       "\n",
       "<script>\n",
       " requirejs.config({\n",
       "     paths: {\n",
       "       'JSRootCore' : 'https://root.cern.ch/js/notebook//scripts/JSRootCore',\n",
       "     }\n",
       "   });\n",
       " require(['JSRootCore'],\n",
       "     function(Core) {\n",
       "       var obj = Core.JSONR_unref({\"_typename\":\"TCanvas\",\"fUniqueID\":0,\"fBits\":53673992,\"fLineColor\":1,\"fLineStyle\":1,\"fLineWidth\":1,\"fFillColor\":0,\"fFillStyle\":1001,\"fLeftMargin\":0.13,\"fRightMargin\":0.3,\"fBottomMargin\":0.13,\"fTopMargin\":0.1,\"fXfile\":2,\"fYfile\":2,\"fAfile\":1,\"fXstat\":0.99,\"fYstat\":0.99,\"fAstat\":2,\"fFrameFillColor\":0,\"fFrameLineColor\":1,\"fFrameFillStyle\":1001,\"fFrameLineStyle\":1,\"fFrameLineWidth\":1,\"fFrameBorderSize\":1,\"fFrameBorderMode\":0,\"fX1\":-22.8070169934936,\"fY1\":-1.70776041025104,\"fX2\":152.631581699199,\"fY2\":5.26813222988247,\"fXtoAbsPixelk\":103.480046204376,\"fXtoPixelk\":103.480046204376,\"fXtoPixel\":4.53719994306564,\"fYtoAbsPixelk\":431.969375066204,\"fYtoPixelk\":431.969375066204,\"fYtoPixel\":-81.9966747637693,\"fUtoAbsPixelk\":5e-5,\"fUtoPixelk\":5e-5,\"fUtoPixel\":796,\"fVtoAbsPixelk\":572.00005,\"fVtoPixelk\":572,\"fVtoPixel\":-572,\"fAbsPixeltoXk\":-22.8070169934936,\"fPixeltoXk\":-22.8070169934936,\"fPixeltoX\":0.220400249613935,\"fAbsPixeltoYk\":5.26813222988248,\"fPixeltoYk\":-1.70776041025104,\"fPixeltoY\":-0.0121956165037299,\"fXlowNDC\":0,\"fYlowNDC\":0,\"fXUpNDC\":0,\"fYUpNDC\":0,\"fWNDC\":1,\"fHNDC\":1,\"fAbsXlowNDC\":0,\"fAbsYlowNDC\":0,\"fAbsWNDC\":1,\"fAbsHNDC\":1,\"fUxmin\":0,\"fUymin\":-0.800894380027297,\"fUxmax\":100,\"fUymax\":4.5705429398819,\"fTheta\":30,\"fPhi\":30,\"fAspectRatio\":0,\"fNumber\":0,\"fTickx\":0,\"fTicky\":0,\"fLogx\":0,\"fLogy\":1,\"fLogz\":0,\"fPadPaint\":0,\"fCrosshair\":0,\"fCrosshairPos\":0,\"fBorderSize\":2,\"fBorderMode\":0,\"fModified\":false,\"fGridx\":true,\"fGridy\":true,\"fAbsCoord\":false,\"fEditable\":true,\"fFixedAspectRatio\":false,\"fPrimitives\":{\"_typename\":\"TList\",\"name\":\"TList\",\"arr\":[{\"_typename\":\"TFrame\",\"fUniqueID\":0,\"fBits\":50331656,\"fLineColor\":1,\"fLineStyle\":1,\"fLineWidth\":1,\"fFillColor\":0,\"fFillStyle\":1001,\"fX1\":0,\"fY1\":-0.800894380027297,\"fX2\":100,\"fY2\":4.5705429398819,\"fBorderSize\":1,\"fBorderMode\":0},{\"_typename\":\"TH1F\",\"fUniqueID\":0,\"fBits\":50332168,\"fName\":\"c191ba\",\"fTitle\":\"\",\"fLineColor\":1,\"fLineStyle\":1,\"fLineWidth\":1,\"fFillColor\":0,\"fFillStyle\":1001,\"fMarkerColor\":1,\"fMarkerStyle\":1,\"fMarkerSize\":1,\"fNcells\":102,\"fXaxis\":{\"_typename\":\"TAxis\",\"fUniqueID\":0,\"fBits\":50331656,\"fName\":\"xaxis\",\"fTitle\":\" p_{T} [GeV]\",\"fNdivisions\":510,\"fAxisColor\":1,\"fLabelColor\":1,\"fLabelFont\":42,\"fLabelOffset\":0.005,\"fLabelSize\":0.035,\"fTickLength\":0.03,\"fTitleOffset\":1.4,\"fTitleSize\":0.035,\"fTitleColor\":1,\"fTitleFont\":42,\"fNbins\":100,\"fXmin\":0,\"fXmax\":100,\"fXbins\":[],\"fFirst\":0,\"fLast\":0,\"fBits2\":0,\"fTimeDisplay\":false,\"fTimeFormat\":\"\",\"fLabels\":null,\"fModLabs\":null},\"fYaxis\":{\"_typename\":\"TAxis\",\"fUniqueID\":0,\"fBits\":50331656,\"fName\":\"yaxis\",\"fTitle\":\" rate [kHz]\",\"fNdivisions\":510,\"fAxisColor\":1,\"fLabelColor\":1,\"fLabelFont\":42,\"fLabelOffset\":0.005,\"fLabelSize\":0.035,\"fTickLength\":0.03,\"fTitleOffset\":0,\"fTitleSize\":0.035,\"fTitleColor\":1,\"fTitleFont\":42,\"fNbins\":1,\"fXmin\":0,\"fXmax\":1,\"fXbins\":[],\"fFirst\":0,\"fLast\":0,\"fBits2\":0,\"fTimeDisplay\":false,\"fTimeFormat\":\"\",\"fLabels\":null,\"fModLabs\":null},\"fZaxis\":{\"_typename\":\"TAxis\",\"fUniqueID\":0,\"fBits\":50331648,\"fName\":\"zaxis\",\"fTitle\":\"\",\"fNdivisions\":510,\"fAxisColor\":1,\"fLabelColor\":1,\"fLabelFont\":42,\"fLabelOffset\":0.005,\"fLabelSize\":0.035,\"fTickLength\":0.03,\"fTitleOffset\":1,\"fTitleSize\":0.035,\"fTitleColor\":1,\"fTitleFont\":42,\"fNbins\":1,\"fXmin\":0,\"fXmax\":1,\"fXbins\":[],\"fFirst\":0,\"fLast\":0,\"fBits2\":0,\"fTimeDisplay\":false,\"fTimeFormat\":\"\",\"fLabels\":null,\"fModLabs\":null},\"fBarOffset\":0,\"fBarWidth\":1000,\"fEntries\":1207601,\"fTsumw\":1207589,\"fTsumw2\":1207589,\"fTsumwx\":3579925,\"fTsumwx2\":20439249,\"fMaximum\":37200,\"fMinimum\":0.158163264393806,\"fNormFactor\":0,\"fContour\":[],\"fSumw2\":[0,4903.0612244898,4903.0612244898,4903.0362088713,4857.53279883382,4171.92974281549,2763.75054664723,1563.30104643898,840.399703248646,457.28550603915,259.962307371928,157.523349645981,103.264473136193,70.1187786339026,50.1813306955435,36.3226780508122,27.6922896709704,21.7635880882965,17.2107455226989,14.2839181591004,11.6572782174094,9.40587255310287,7.75484173261141,6.50406080799667,5.3533423573511,4.60287380258226,3.87742086630571,3.4021241149521,2.90181174510621,2.67667117867555,2.40149937526031,2.27642128279883,2.00124947938359,1.70106205747605,1.60099958350687,1.50093710953769,1.42589025406081,1.35084339858392,1.20074968763015,1.05065597667638,1.0006247396918,0.950593502707205,0.92557788421491,0.775484173261141,0.725452936276551,0.650406080799667,0.550343606830487,0.475296751353603,0.450281132861308,0.400249895876718,0.350218658892128,0.300187421907539,0.275171803415244,0.275171803415244,0.275171803415244,0.175109329446064,0.175109329446064,0.125078092461474,0.10006247396918,0.10006247396918,0.10006247396918,0.10006247396918,0.10006247396918,0.10006247396918,0.10006247396918,0.10006247396918,0.10006247396918,0.10006247396918,0.10006247396918,0.10006247396918,0.10006247396918,0.10006247396918,0.10006247396918,0.10006247396918,0.10006247396918,0.10006247396918,0.10006247396918,0.10006247396918,0.0750468554768846,0.0750468554768846,0.0750468554768846,0.0750468554768846,0.0750468554768846,0.0750468554768846,0.0750468554768846,0.0750468554768846,0.0750468554768846,0.0750468554768846,0.0750468554768846,0.0750468554768846,0.0750468554768846,0.0500312369845898,0.0500312369845898,0.0500312369845898,0.0500312369845898,0.0500312369845898,0.0500312369845898,0.0500312369845898,0.0250156184922949,0.0250156184922949,0.0250156184922949,0.300187421907539],\"fOption\":\"\",\"fFunctions\":{\"_typename\":\"TList\",\"name\":\"TList\",\"arr\":[],\"opt\":[]},\"fBufferSize\":0,\"fBuffer\":[],\"fBinStatErrOpt\":0,\"fStatOverflows\":2,\"fArray\":[0,31000,31000,30999.84,30712.14,26377.36,17474.04,9884.097,5313.495,2891.225,1643.633,995.9541,652.8979,443.3316,317.2755,229.6531,175.0867,137.602,108.8163,90.31123,73.70408,59.46939,49.03061,41.12245,33.84694,29.10204,24.51531,21.5102,18.34694,16.92347,15.18367,14.39286,12.65306,10.7551,10.12245,9.489796,9.015306,8.540816,7.591837,6.642857,6.32653,6.010204,5.852041,4.903061,4.586735,4.112245,3.479592,3.005102,2.846939,2.530612,2.214286,1.897959,1.739796,1.739796,1.739796,1.107143,1.107143,0.7908163,0.6326531,0.6326531,0.6326531,0.6326531,0.6326531,0.6326531,0.6326531,0.6326531,0.6326531,0.6326531,0.6326531,0.6326531,0.6326531,0.6326531,0.6326531,0.6326531,0.6326531,0.6326531,0.6326531,0.6326531,0.4744898,0.4744898,0.4744898,0.4744898,0.4744898,0.4744898,0.4744898,0.4744898,0.4744898,0.4744898,0.4744898,0.4744898,0.4744898,0.3163265,0.3163265,0.3163265,0.3163265,0.3163265,0.3163265,0.3163265,0.1581633,0.1581633,0.1581633,1.897959]},{\"_typename\":\"TH1F\",\"fUniqueID\":0,\"fBits\":50332168,\"fName\":\"d7ff4a\",\"fTitle\":\"\",\"fLineColor\":628,\"fLineStyle\":1,\"fLineWidth\":1,\"fFillColor\":0,\"fFillStyle\":1001,\"fMarkerColor\":1,\"fMarkerStyle\":1,\"fMarkerSize\":1,\"fNcells\":102,\"fXaxis\":{\"_typename\":\"TAxis\",\"fUniqueID\":0,\"fBits\":50331656,\"fName\":\"xaxis\",\"fTitle\":\" p_{T} [GeV]\",\"fNdivisions\":510,\"fAxisColor\":1,\"fLabelColor\":1,\"fLabelFont\":42,\"fLabelOffset\":0.005,\"fLabelSize\":0.035,\"fTickLength\":0.03,\"fTitleOffset\":1.4,\"fTitleSize\":0.035,\"fTitleColor\":1,\"fTitleFont\":42,\"fNbins\":100,\"fXmin\":0,\"fXmax\":100,\"fXbins\":[],\"fFirst\":0,\"fLast\":0,\"fBits2\":0,\"fTimeDisplay\":false,\"fTimeFormat\":\"\",\"fLabels\":null,\"fModLabs\":null},\"fYaxis\":{\"_typename\":\"TAxis\",\"fUniqueID\":0,\"fBits\":50331656,\"fName\":\"yaxis\",\"fTitle\":\" rate [kHz]\",\"fNdivisions\":510,\"fAxisColor\":1,\"fLabelColor\":1,\"fLabelFont\":42,\"fLabelOffset\":0.005,\"fLabelSize\":0.035,\"fTickLength\":0.03,\"fTitleOffset\":0,\"fTitleSize\":0.035,\"fTitleColor\":1,\"fTitleFont\":42,\"fNbins\":1,\"fXmin\":0,\"fXmax\":1,\"fXbins\":[],\"fFirst\":0,\"fLast\":0,\"fBits2\":0,\"fTimeDisplay\":false,\"fTimeFormat\":\"\",\"fLabels\":null,\"fModLabs\":null},\"fZaxis\":{\"_typename\":\"TAxis\",\"fUniqueID\":0,\"fBits\":50331648,\"fName\":\"zaxis\",\"fTitle\":\"\",\"fNdivisions\":510,\"fAxisColor\":1,\"fLabelColor\":1,\"fLabelFont\":42,\"fLabelOffset\":0.005,\"fLabelSize\":0.035,\"fTickLength\":0.03,\"fTitleOffset\":1,\"fTitleSize\":0.035,\"fTitleColor\":1,\"fTitleFont\":42,\"fNbins\":1,\"fXmin\":0,\"fXmax\":1,\"fXbins\":[],\"fFirst\":0,\"fLast\":0,\"fBits2\":0,\"fTimeDisplay\":false,\"fTimeFormat\":\"\",\"fLabels\":null,\"fModLabs\":null},\"fBarOffset\":0,\"fBarWidth\":1000,\"fEntries\":1488489,\"fTsumw\":1488470,\"fTsumw2\":1488470,\"fTsumwx\":5550677,\"fTsumwx2\":36350355,\"fMaximum\":37200,\"fMinimum\":0.158163264393806,\"fNormFactor\":0,\"fContour\":[],\"fSumw2\":[0,4903.0612244898,4903.0612244898,4903.0612244898,4892.15441482716,4530.90386817993,4292.37994585589,3224.41316118284,2115.59587151187,1297.48508433986,786.215873594336,483.777046022491,301.613312161599,155.797271970013,98.9367711370262,70.5690597667639,53.1331736776343,39.5747084548105,30.3189296126614,22.5140566430654,18.0112453144523,15.2345116618076,12.7079341940858,10.5565910037484,8.75546647230321,7.17948250728863,5.80362349021241,5.12820179092045,4.50281132861308,3.82738962932112,3.25203040399833,2.80174927113703,2.65165556018326,2.47654623073719,2.25140566430654,2.07629633486048,1.85115576842982,1.70106205747605,1.62601520199917,1.4759214910454,1.40087463556851,1.22576530612245,1.15071845064556,1.07567159516868,0.950593502707205,0.850531028738026,0.800499791753436,0.750468554768846,0.625390462307372,0.575359225322782,0.550343606830487,0.500312369845898,0.450281132861308,0.375234277384423,0.325203040399833,0.275171803415244,0.275171803415244,0.275171803415244,0.250156184922949,0.175109329446064,0.175109329446064,0.125078092461474,0.10006247396918,0.10006247396918,0.10006247396918,0.10006247396918,0.10006247396918,0.10006247396918,0.10006247396918,0.10006247396918,0.10006247396918,0.10006247396918,0.10006247396918,0.10006247396918,0.10006247396918,0.10006247396918,0.10006247396918,0.10006247396918,0.10006247396918,0.10006247396918,0.10006247396918,0.10006247396918,0.10006247396918,0.10006247396918,0.10006247396918,0.0750468554768846,0.0750468554768846,0.0750468554768846,0.0750468554768846,0.0750468554768846,0.0750468554768846,0.0750468554768846,0.0750468554768846,0.0750468554768846,0.0750468554768846,0.0750468554768846,0.0750468554768846,0.0500312369845898,0.0500312369845898,0.0500312369845898,0.0500312369845898,0.475296751353603],\"fOption\":\"\",\"fFunctions\":{\"_typename\":\"TList\",\"name\":\"TList\",\"arr\":[],\"opt\":[]},\"fBufferSize\":0,\"fBuffer\":[],\"fBinStatErrOpt\":0,\"fStatOverflows\":2,\"fArray\":[0,31000,31000,31000,30931.04,28647.01,27138.92,20386.61,13376.03,8203.454,4970.913,3058.719,1906.974,985.0408,625.5357,446.1786,335.9388,250.2143,191.6939,142.3469,113.8775,96.32143,80.34694,66.7449,55.35714,45.39286,36.69388,32.42347,28.46939,24.19898,20.56122,17.71428,16.76531,15.65816,14.23469,13.12755,11.70408,10.7551,10.28061,9.331633,8.857142,7.75,7.27551,6.801021,6.010204,5.377551,5.061224,4.744898,3.954082,3.637755,3.479592,3.163265,2.846939,2.372449,2.056123,1.739796,1.739796,1.739796,1.581633,1.107143,1.107143,0.7908163,0.6326531,0.6326531,0.6326531,0.6326531,0.6326531,0.6326531,0.6326531,0.6326531,0.6326531,0.6326531,0.6326531,0.6326531,0.6326531,0.6326531,0.6326531,0.6326531,0.6326531,0.6326531,0.6326531,0.6326531,0.6326531,0.6326531,0.6326531,0.4744898,0.4744898,0.4744898,0.4744898,0.4744898,0.4744898,0.4744898,0.4744898,0.4744898,0.4744898,0.4744898,0.4744898,0.3163265,0.3163265,0.3163265,0.3163265,3.005102]},{\"_typename\":\"TH1F\",\"fUniqueID\":0,\"fBits\":50332168,\"fName\":\"42f8f9\",\"fTitle\":\"\",\"fLineColor\":417,\"fLineStyle\":1,\"fLineWidth\":1,\"fFillColor\":0,\"fFillStyle\":1001,\"fMarkerColor\":1,\"fMarkerStyle\":1,\"fMarkerSize\":1,\"fNcells\":102,\"fXaxis\":{\"_typename\":\"TAxis\",\"fUniqueID\":0,\"fBits\":50331656,\"fName\":\"xaxis\",\"fTitle\":\" p_{T} [GeV]\",\"fNdivisions\":510,\"fAxisColor\":1,\"fLabelColor\":1,\"fLabelFont\":42,\"fLabelOffset\":0.005,\"fLabelSize\":0.035,\"fTickLength\":0.03,\"fTitleOffset\":1.4,\"fTitleSize\":0.035,\"fTitleColor\":1,\"fTitleFont\":42,\"fNbins\":100,\"fXmin\":0,\"fXmax\":100,\"fXbins\":[],\"fFirst\":0,\"fLast\":0,\"fBits2\":0,\"fTimeDisplay\":false,\"fTimeFormat\":\"\",\"fLabels\":null,\"fModLabs\":null},\"fYaxis\":{\"_typename\":\"TAxis\",\"fUniqueID\":0,\"fBits\":50331656,\"fName\":\"yaxis\",\"fTitle\":\" rate [kHz]\",\"fNdivisions\":510,\"fAxisColor\":1,\"fLabelColor\":1,\"fLabelFont\":42,\"fLabelOffset\":0.005,\"fLabelSize\":0.035,\"fTickLength\":0.03,\"fTitleOffset\":0,\"fTitleSize\":0.035,\"fTitleColor\":1,\"fTitleFont\":42,\"fNbins\":1,\"fXmin\":0,\"fXmax\":1,\"fXbins\":[],\"fFirst\":0,\"fLast\":0,\"fBits2\":0,\"fTimeDisplay\":false,\"fTimeFormat\":\"\",\"fLabels\":null,\"fModLabs\":null},\"fZaxis\":{\"_typename\":\"TAxis\",\"fUniqueID\":0,\"fBits\":50331648,\"fName\":\"zaxis\",\"fTitle\":\"\",\"fNdivisions\":510,\"fAxisColor\":1,\"fLabelColor\":1,\"fLabelFont\":42,\"fLabelOffset\":0.005,\"fLabelSize\":0.035,\"fTickLength\":0.03,\"fTitleOffset\":1,\"fTitleSize\":0.035,\"fTitleColor\":1,\"fTitleFont\":42,\"fNbins\":1,\"fXmin\":0,\"fXmax\":1,\"fXbins\":[],\"fFirst\":0,\"fLast\":0,\"fBits2\":0,\"fTimeDisplay\":false,\"fTimeFormat\":\"\",\"fLabels\":null,\"fModLabs\":null},\"fBarOffset\":0,\"fBarWidth\":1000,\"fEntries\":1178194,\"fTsumw\":1178182,\"fTsumw2\":1178182,\"fTsumwx\":3400020,\"fTsumwx2\":19085082,\"fMaximum\":37200,\"fMinimum\":0.158163264393806,\"fNormFactor\":0,\"fContour\":[],\"fSumw2\":[0,4903.0612244898,4903.0612244898,4903.01119325281,4832.54219596002,4010.72909725115,2564.20095793419,1423.66386401499,759.624271137026,411.106674302374,233.620861099542,141.663447521866,93.1331476468138,62.9643117451062,45.2032226155768,32.8204914618909,24.6653998334027,19.3620887130362,15.3345741357768,12.6829185755935,10.4064972927947,8.38023219491878,6.95434194085798,6.07879529362766,4.92807684298209,4.30268638067472,3.65228029987505,3.20199916701374,2.75171803415244,2.50156184922949,2.25140566430654,2.12632757184506,1.85115576842982,1.60099958350687,1.50093710953769,1.40087463556851,1.35084339858392,1.30081216159933,1.12570283215327,0.9756091211995,0.92557788421491,0.92557788421491,0.900562265722616,0.750468554768846,0.725452936276551,0.650406080799667,0.550343606830487,0.425265514369013,0.400249895876718,0.375234277384423,0.325203040399833,0.275171803415244,0.250156184922949,0.250156184922949,0.250156184922949,0.175109329446064,0.175109329446064,0.125078092461474,0.10006247396918,0.10006247396918,0.10006247396918,0.10006247396918,0.10006247396918,0.10006247396918,0.10006247396918,0.10006247396918,0.10006247396918,0.10006247396918,0.10006247396918,0.10006247396918,0.10006247396918,0.10006247396918,0.10006247396918,0.10006247396918,0.10006247396918,0.10006247396918,0.10006247396918,0.10006247396918,0.0750468554768846,0.0750468554768846,0.0750468554768846,0.0750468554768846,0.0750468554768846,0.0750468554768846,0.0750468554768846,0.0750468554768846,0.0750468554768846,0.0750468554768846,0.0750468554768846,0.0750468554768846,0.0750468554768846,0.0500312369845898,0.0500312369845898,0.0500312369845898,0.0500312369845898,0.0500312369845898,0.0500312369845898,0.0500312369845898,0.0250156184922949,0.0250156184922949,0.0250156184922949,0.300187421907539],\"fOption\":\"\",\"fFunctions\":{\"_typename\":\"TList\",\"name\":\"TList\",\"arr\":[],\"opt\":[]},\"fBufferSize\":0,\"fBuffer\":[],\"fBinStatErrOpt\":0,\"fStatOverflows\":2,\"fArray\":[0,31000,31000,30999.68,30554.14,25358.16,16212.37,9001.229,4802.786,2599.255,1477.087,895.6786,588.8419,398.0969,285.801,207.5102,155.949,122.4184,96.95408,80.18877,65.79592,52.9847,43.96939,38.43367,31.15816,27.20408,23.09184,20.2449,17.39796,15.81633,14.23469,13.44388,11.70408,10.12245,9.489796,8.857142,8.540816,8.22449,7.117347,6.168367,5.852041,5.852041,5.693878,4.744898,4.586735,4.112245,3.479592,2.688776,2.530612,2.372449,2.056123,1.739796,1.581633,1.581633,1.581633,1.107143,1.107143,0.7908163,0.6326531,0.6326531,0.6326531,0.6326531,0.6326531,0.6326531,0.6326531,0.6326531,0.6326531,0.6326531,0.6326531,0.6326531,0.6326531,0.6326531,0.6326531,0.6326531,0.6326531,0.6326531,0.6326531,0.6326531,0.4744898,0.4744898,0.4744898,0.4744898,0.4744898,0.4744898,0.4744898,0.4744898,0.4744898,0.4744898,0.4744898,0.4744898,0.4744898,0.3163265,0.3163265,0.3163265,0.3163265,0.3163265,0.3163265,0.3163265,0.1581633,0.1581633,0.1581633,1.897959]},{\"_typename\":\"TLegend\",\"fUniqueID\":0,\"fBits\":50331656,\"fLineColor\":1,\"fLineStyle\":1,\"fLineWidth\":1,\"fFillColor\":0,\"fFillStyle\":0,\"fX1\":100.000002091391,\"fY1\":3.24512336424376,\"fX2\":143.859651764564,\"fY2\":4.22174833386245,\"fX1NDC\":0.7,\"fY1NDC\":0.71,\"fX2NDC\":0.95,\"fY2NDC\":0.85,\"fBorderSize\":0,\"fInit\":1,\"fShadowColor\":1,\"fCornerRadius\":0,\"fOption\":\"brNDC\",\"fName\":\"TPave\",\"fTextAngle\":0,\"fTextSize\":0.03,\"fTextAlign\":12,\"fTextColor\":1,\"fTextFont\":42,\"fPrimitives\":{\"_typename\":\"TList\",\"name\":\"TList\",\"arr\":[{\"_typename\":\"TLegendEntry\",\"fUniqueID\":0,\"fBits\":50331656,\"fTextAngle\":0,\"fTextSize\":0,\"fTextAlign\":0,\"fTextColor\":0,\"fTextFont\":42,\"fLineColor\":1,\"fLineStyle\":1,\"fLineWidth\":1,\"fFillColor\":0,\"fFillStyle\":0,\"fMarkerColor\":1,\"fMarkerStyle\":21,\"fMarkerSize\":1,\"fObject\":{\"$ref\":3},\"fLabel\":\"hwQual 5, 1.52 < |#eta^{L1}| <= 2.4\",\"fOption\":\"l\"},{\"_typename\":\"TLegendEntry\",\"fUniqueID\":0,\"fBits\":50331656,\"fTextAngle\":0,\"fTextSize\":0,\"fTextAlign\":0,\"fTextColor\":0,\"fTextFont\":42,\"fLineColor\":628,\"fLineStyle\":1,\"fLineWidth\":1,\"fFillColor\":0,\"fFillStyle\":0,\"fMarkerColor\":1,\"fMarkerStyle\":21,\"fMarkerSize\":1,\"fObject\":{\"$ref\":8},\"fLabel\":\"hwQual 3, 1.52 < |#eta^{L1}| <= 2.4\",\"fOption\":\"l\"},{\"_typename\":\"TLegendEntry\",\"fUniqueID\":0,\"fBits\":50331656,\"fTextAngle\":0,\"fTextSize\":0,\"fTextAlign\":0,\"fTextColor\":0,\"fTextFont\":42,\"fLineColor\":417,\"fLineStyle\":1,\"fLineWidth\":1,\"fFillColor\":0,\"fFillStyle\":0,\"fMarkerColor\":1,\"fMarkerStyle\":21,\"fMarkerSize\":1,\"fObject\":{\"$ref\":13},\"fLabel\":\"hwQual 4, 1.52 < |#eta^{L1}| <= 2.4\",\"fOption\":\"l\"}],\"opt\":[\"l\",\"l\",\"l\"]},\"fEntrySeparation\":0.1,\"fMargin\":0.25,\"fNColumns\":1,\"fColumnSeparation\":0},{\"_typename\":\"TLatex\",\"fUniqueID\":0,\"fBits\":50348040,\"fName\":\"\",\"fTitle\":\"PU200, EG\",\"fTextAngle\":0,\"fTextSize\":0.03,\"fTextAlign\":11,\"fTextColor\":1,\"fTextFont\":62,\"fX\":0.15,\"fY\":0.85,\"fLineColor\":1,\"fLineStyle\":1,\"fLineWidth\":2,\"fLimitFactorSize\":3,\"fOriginSize\":0.04},{\"_typename\":\"TLatex\",\"fUniqueID\":0,\"fBits\":50331656,\"fName\":\"\",\"fTitle\":\"\",\"fTextAngle\":0,\"fTextSize\":0.03,\"fTextAlign\":11,\"fTextColor\":1,\"fTextFont\":62,\"fX\":0,\"fY\":0,\"fLineColor\":1,\"fLineStyle\":1,\"fLineWidth\":2,\"fLimitFactorSize\":3,\"fOriginSize\":0.04}],\"opt\":[\"\",\"\",\"same,\",\"same,\",\"same\",\"same\",\"same\"]},\"fExecs\":null,\"fName\":\"c_d201fe\",\"fTitle\":\"c_d201fe\",\"fNumPaletteColor\":0,\"fNextPaletteColor\":0,\"fDISPLAY\":\"$DISPLAY\",\"fDoubleBuffer\":0,\"fRetained\":true,\"fXsizeUser\":0,\"fYsizeUser\":0,\"fXsizeReal\":20,\"fYsizeReal\":15,\"fWindowTopX\":0,\"fWindowTopY\":0,\"fWindowWidth\":0,\"fWindowHeight\":0,\"fCw\":796,\"fCh\":572,\"fCatt\":{\"_typename\":\"TAttCanvas\",\"fXBetween\":2,\"fYBetween\":2,\"fTitleFromTop\":1.2,\"fXdate\":0.2,\"fYdate\":0.3,\"fAdate\":1},\"kMoveOpaque\":true,\"kResizeOpaque\":true,\"fHighLightColor\":2,\"fBatch\":true,\"kShowEventStatus\":false,\"kAutoExec\":true,\"kMenuBar\":true});\n",
       "       Core.draw(\"root_plot_10\", obj, \"\");\n",
       "     }\n",
       " );\n",
       "</script>\n"
      ],
      "text/plain": [
       "<IPython.core.display.HTML object>"
      ]
     },
     "metadata": {},
     "output_type": "display_data"
    }
   ],
   "source": [
    "dm = DrawMachine(rleg_config)\n",
    "hsets, labels, text = hplot.get_histo(histos.RateHistos, sample, 'PU200', ['EG'], ['EGq3EtaBC', 'EGq4EtaBC', 'EGq5EtaBC'], None)\n",
    "for hist in hsets:\n",
    "    hist.normalize(31000)\n",
    "dm.addHistos([his.h_pt for his in hsets], labels)\n",
    "dm.draw(text=text, y_log=True)"
   ]
  },
  {
   "cell_type": "code",
   "execution_count": 48,
   "metadata": {},
   "outputs": [
    {
     "data": {
      "text/plain": [
       "'new-ID'"
      ]
     },
     "execution_count": 48,
     "metadata": {},
     "output_type": "execute_result"
    }
   ],
   "source": [
    "sample"
   ]
  },
  {
   "cell_type": "code",
   "execution_count": 49,
   "metadata": {},
   "outputs": [
    {
     "data": {
      "text/plain": [
       "<__main__.DrawMachine at 0x107565d50>"
      ]
     },
     "execution_count": 49,
     "metadata": {},
     "output_type": "execute_result"
    },
    {
     "data": {
      "text/html": [
       "\n",
       "<div id=\"root_plot_11\"\n",
       "     style=\"width: 796px; height: 572px\">\n",
       "</div>\n",
       "\n",
       "<script>\n",
       " requirejs.config({\n",
       "     paths: {\n",
       "       'JSRootCore' : 'https://root.cern.ch/js/notebook//scripts/JSRootCore',\n",
       "     }\n",
       "   });\n",
       " require(['JSRootCore'],\n",
       "     function(Core) {\n",
       "       var obj = Core.JSONR_unref({\"_typename\":\"TCanvas\",\"fUniqueID\":0,\"fBits\":53673992,\"fLineColor\":1,\"fLineStyle\":1,\"fLineWidth\":1,\"fFillColor\":0,\"fFillStyle\":1001,\"fLeftMargin\":0.13,\"fRightMargin\":0.3,\"fBottomMargin\":0.13,\"fTopMargin\":0.1,\"fXfile\":2,\"fYfile\":2,\"fAfile\":1,\"fXstat\":0.99,\"fYstat\":0.99,\"fAstat\":2,\"fFrameFillColor\":0,\"fFrameLineColor\":1,\"fFrameFillStyle\":1001,\"fFrameLineStyle\":1,\"fFrameLineWidth\":1,\"fFrameBorderSize\":1,\"fFrameBorderMode\":0,\"fX1\":-22.8070169934936,\"fY1\":-1.70776041025104,\"fX2\":152.631581699199,\"fY2\":5.26813222988247,\"fXtoAbsPixelk\":103.480046204376,\"fXtoPixelk\":103.480046204376,\"fXtoPixel\":4.53719994306564,\"fYtoAbsPixelk\":431.969375066204,\"fYtoPixelk\":431.969375066204,\"fYtoPixel\":-81.9966747637693,\"fUtoAbsPixelk\":5e-5,\"fUtoPixelk\":5e-5,\"fUtoPixel\":796,\"fVtoAbsPixelk\":572.00005,\"fVtoPixelk\":572,\"fVtoPixel\":-572,\"fAbsPixeltoXk\":-22.8070169934936,\"fPixeltoXk\":-22.8070169934936,\"fPixeltoX\":0.220400249613935,\"fAbsPixeltoYk\":5.26813222988248,\"fPixeltoYk\":-1.70776041025104,\"fPixeltoY\":-0.0121956165037299,\"fXlowNDC\":0,\"fYlowNDC\":0,\"fXUpNDC\":0,\"fYUpNDC\":0,\"fWNDC\":1,\"fHNDC\":1,\"fAbsXlowNDC\":0,\"fAbsYlowNDC\":0,\"fAbsWNDC\":1,\"fAbsHNDC\":1,\"fUxmin\":0,\"fUymin\":-0.800894380027297,\"fUxmax\":100,\"fUymax\":4.5705429398819,\"fTheta\":30,\"fPhi\":30,\"fAspectRatio\":0,\"fNumber\":0,\"fTickx\":0,\"fTicky\":0,\"fLogx\":0,\"fLogy\":1,\"fLogz\":0,\"fPadPaint\":0,\"fCrosshair\":0,\"fCrosshairPos\":0,\"fBorderSize\":2,\"fBorderMode\":0,\"fModified\":false,\"fGridx\":true,\"fGridy\":true,\"fAbsCoord\":false,\"fEditable\":true,\"fFixedAspectRatio\":false,\"fPrimitives\":{\"_typename\":\"TList\",\"name\":\"TList\",\"arr\":[{\"_typename\":\"TFrame\",\"fUniqueID\":0,\"fBits\":50331656,\"fLineColor\":1,\"fLineStyle\":1,\"fLineWidth\":1,\"fFillColor\":0,\"fFillStyle\":1001,\"fX1\":0,\"fY1\":-0.800894380027297,\"fX2\":100,\"fY2\":4.5705429398819,\"fBorderSize\":1,\"fBorderMode\":0},{\"_typename\":\"TH1F\",\"fUniqueID\":0,\"fBits\":50332168,\"fName\":\"460ad2\",\"fTitle\":\"\",\"fLineColor\":1,\"fLineStyle\":1,\"fLineWidth\":1,\"fFillColor\":0,\"fFillStyle\":1001,\"fMarkerColor\":1,\"fMarkerStyle\":1,\"fMarkerSize\":1,\"fNcells\":102,\"fXaxis\":{\"_typename\":\"TAxis\",\"fUniqueID\":0,\"fBits\":50331656,\"fName\":\"xaxis\",\"fTitle\":\" p_{T} [GeV]\",\"fNdivisions\":510,\"fAxisColor\":1,\"fLabelColor\":1,\"fLabelFont\":42,\"fLabelOffset\":0.005,\"fLabelSize\":0.035,\"fTickLength\":0.03,\"fTitleOffset\":1.4,\"fTitleSize\":0.035,\"fTitleColor\":1,\"fTitleFont\":42,\"fNbins\":100,\"fXmin\":0,\"fXmax\":100,\"fXbins\":[],\"fFirst\":0,\"fLast\":0,\"fBits2\":0,\"fTimeDisplay\":false,\"fTimeFormat\":\"\",\"fLabels\":null,\"fModLabs\":null},\"fYaxis\":{\"_typename\":\"TAxis\",\"fUniqueID\":0,\"fBits\":50331656,\"fName\":\"yaxis\",\"fTitle\":\" rate [kHz]\",\"fNdivisions\":510,\"fAxisColor\":1,\"fLabelColor\":1,\"fLabelFont\":42,\"fLabelOffset\":0.005,\"fLabelSize\":0.035,\"fTickLength\":0.03,\"fTitleOffset\":0,\"fTitleSize\":0.035,\"fTitleColor\":1,\"fTitleFont\":42,\"fNbins\":1,\"fXmin\":0,\"fXmax\":1,\"fXbins\":[],\"fFirst\":0,\"fLast\":0,\"fBits2\":0,\"fTimeDisplay\":false,\"fTimeFormat\":\"\",\"fLabels\":null,\"fModLabs\":null},\"fZaxis\":{\"_typename\":\"TAxis\",\"fUniqueID\":0,\"fBits\":50331648,\"fName\":\"zaxis\",\"fTitle\":\"\",\"fNdivisions\":510,\"fAxisColor\":1,\"fLabelColor\":1,\"fLabelFont\":42,\"fLabelOffset\":0.005,\"fLabelSize\":0.035,\"fTickLength\":0.03,\"fTitleOffset\":1,\"fTitleSize\":0.035,\"fTitleColor\":1,\"fTitleFont\":42,\"fNbins\":1,\"fXmin\":0,\"fXmax\":1,\"fXbins\":[],\"fFirst\":0,\"fLast\":0,\"fBits2\":0,\"fTimeDisplay\":false,\"fTimeFormat\":\"\",\"fLabels\":null,\"fModLabs\":null},\"fBarOffset\":0,\"fBarWidth\":1000,\"fEntries\":1178194,\"fTsumw\":1178182,\"fTsumw2\":1178182,\"fTsumwx\":3400020,\"fTsumwx2\":19085082,\"fMaximum\":37200,\"fMinimum\":0.158163264393806,\"fNormFactor\":0,\"fContour\":[],\"fSumw2\":[0,4903.0612244898,4903.0612244898,4903.01119325281,4832.54219596002,4010.72909725115,2564.20095793419,1423.66386401499,759.624271137026,411.106674302374,233.620861099542,141.663447521866,93.1331476468138,62.9643117451062,45.2032226155768,32.8204914618909,24.6653998334027,19.3620887130362,15.3345741357768,12.6829185755935,10.4064972927947,8.38023219491878,6.95434194085798,6.07879529362766,4.92807684298209,4.30268638067472,3.65228029987505,3.20199916701374,2.75171803415244,2.50156184922949,2.25140566430654,2.12632757184506,1.85115576842982,1.60099958350687,1.50093710953769,1.40087463556851,1.35084339858392,1.30081216159933,1.12570283215327,0.9756091211995,0.92557788421491,0.92557788421491,0.900562265722616,0.750468554768846,0.725452936276551,0.650406080799667,0.550343606830487,0.425265514369013,0.400249895876718,0.375234277384423,0.325203040399833,0.275171803415244,0.250156184922949,0.250156184922949,0.250156184922949,0.175109329446064,0.175109329446064,0.125078092461474,0.10006247396918,0.10006247396918,0.10006247396918,0.10006247396918,0.10006247396918,0.10006247396918,0.10006247396918,0.10006247396918,0.10006247396918,0.10006247396918,0.10006247396918,0.10006247396918,0.10006247396918,0.10006247396918,0.10006247396918,0.10006247396918,0.10006247396918,0.10006247396918,0.10006247396918,0.10006247396918,0.0750468554768846,0.0750468554768846,0.0750468554768846,0.0750468554768846,0.0750468554768846,0.0750468554768846,0.0750468554768846,0.0750468554768846,0.0750468554768846,0.0750468554768846,0.0750468554768846,0.0750468554768846,0.0750468554768846,0.0500312369845898,0.0500312369845898,0.0500312369845898,0.0500312369845898,0.0500312369845898,0.0500312369845898,0.0500312369845898,0.0250156184922949,0.0250156184922949,0.0250156184922949,0.300187421907539],\"fOption\":\"\",\"fFunctions\":{\"_typename\":\"TList\",\"name\":\"TList\",\"arr\":[],\"opt\":[]},\"fBufferSize\":0,\"fBuffer\":[],\"fBinStatErrOpt\":0,\"fStatOverflows\":2,\"fArray\":[0,31000,31000,30999.68,30554.14,25358.16,16212.37,9001.229,4802.786,2599.255,1477.087,895.6786,588.8419,398.0969,285.801,207.5102,155.949,122.4184,96.95408,80.18877,65.79592,52.9847,43.96939,38.43367,31.15816,27.20408,23.09184,20.2449,17.39796,15.81633,14.23469,13.44388,11.70408,10.12245,9.489796,8.857142,8.540816,8.22449,7.117347,6.168367,5.852041,5.852041,5.693878,4.744898,4.586735,4.112245,3.479592,2.688776,2.530612,2.372449,2.056123,1.739796,1.581633,1.581633,1.581633,1.107143,1.107143,0.7908163,0.6326531,0.6326531,0.6326531,0.6326531,0.6326531,0.6326531,0.6326531,0.6326531,0.6326531,0.6326531,0.6326531,0.6326531,0.6326531,0.6326531,0.6326531,0.6326531,0.6326531,0.6326531,0.6326531,0.6326531,0.4744898,0.4744898,0.4744898,0.4744898,0.4744898,0.4744898,0.4744898,0.4744898,0.4744898,0.4744898,0.4744898,0.4744898,0.4744898,0.3163265,0.3163265,0.3163265,0.3163265,0.3163265,0.3163265,0.3163265,0.1581633,0.1581633,0.1581633,1.897959]},{\"_typename\":\"TLatex\",\"fUniqueID\":0,\"fBits\":50348040,\"fName\":\"\",\"fTitle\":\"PU200, EG, hwQual 4, 1.52 < |#eta^{L1}| <= 2.4\",\"fTextAngle\":0,\"fTextSize\":0.03,\"fTextAlign\":11,\"fTextColor\":1,\"fTextFont\":62,\"fX\":0.15,\"fY\":0.85,\"fLineColor\":1,\"fLineStyle\":1,\"fLineWidth\":2,\"fLimitFactorSize\":3,\"fOriginSize\":0.04},{\"_typename\":\"TLatex\",\"fUniqueID\":0,\"fBits\":50331656,\"fName\":\"\",\"fTitle\":\"\",\"fTextAngle\":0,\"fTextSize\":0.03,\"fTextAlign\":11,\"fTextColor\":1,\"fTextFont\":62,\"fX\":0,\"fY\":0,\"fLineColor\":1,\"fLineStyle\":1,\"fLineWidth\":2,\"fLimitFactorSize\":3,\"fOriginSize\":0.04}],\"opt\":[\"\",\"\",\"same\",\"same\"]},\"fExecs\":null,\"fName\":\"c_19d4f9\",\"fTitle\":\"c_19d4f9\",\"fNumPaletteColor\":0,\"fNextPaletteColor\":0,\"fDISPLAY\":\"$DISPLAY\",\"fDoubleBuffer\":0,\"fRetained\":true,\"fXsizeUser\":0,\"fYsizeUser\":0,\"fXsizeReal\":20,\"fYsizeReal\":15,\"fWindowTopX\":0,\"fWindowTopY\":0,\"fWindowWidth\":0,\"fWindowHeight\":0,\"fCw\":796,\"fCh\":572,\"fCatt\":{\"_typename\":\"TAttCanvas\",\"fXBetween\":2,\"fYBetween\":2,\"fTitleFromTop\":1.2,\"fXdate\":0.2,\"fYdate\":0.3,\"fAdate\":1},\"kMoveOpaque\":true,\"kResizeOpaque\":true,\"fHighLightColor\":2,\"fBatch\":true,\"kShowEventStatus\":false,\"kAutoExec\":true,\"kMenuBar\":true});\n",
       "       Core.draw(\"root_plot_11\", obj, \"\");\n",
       "     }\n",
       " );\n",
       "</script>\n"
      ],
      "text/plain": [
       "<IPython.core.display.HTML object>"
      ]
     },
     "metadata": {},
     "output_type": "display_data"
    }
   ],
   "source": [
    "#HERE\n",
    "# 'HMvDRCalib','HMvDRshapeDrCalib',\n",
    "hsets, labels, text = hplot.get_histo(histos.RateHistos, ['new-ID', 'old-ID', 'new-clusters'], 'PU200', ['EG'], ['EGq4EtaBC'], None)\n",
    "for hist in hsets:\n",
    "    hist.normalize(31000)\n",
    "labels = ['TP head', 'L1 menu version', 'backported']\n",
    "draw([his.h_pt for his in hsets], labels, text=text, logy=True)"
   ]
  },
  {
   "cell_type": "code",
   "execution_count": 50,
   "metadata": {},
   "outputs": [
    {
     "data": {
      "text/plain": [
       "<__main__.DrawMachine at 0x11cbdcd50>"
      ]
     },
     "execution_count": 50,
     "metadata": {},
     "output_type": "execute_result"
    },
    {
     "data": {
      "text/html": [
       "\n",
       "<div id=\"root_plot_12\"\n",
       "     style=\"width: 796px; height: 572px\">\n",
       "</div>\n",
       "\n",
       "<script>\n",
       " requirejs.config({\n",
       "     paths: {\n",
       "       'JSRootCore' : 'https://root.cern.ch/js/notebook//scripts/JSRootCore',\n",
       "     }\n",
       "   });\n",
       " require(['JSRootCore'],\n",
       "     function(Core) {\n",
       "       var obj = Core.JSONR_unref({\"_typename\":\"TCanvas\",\"fUniqueID\":0,\"fBits\":53673992,\"fLineColor\":1,\"fLineStyle\":1,\"fLineWidth\":1,\"fFillColor\":0,\"fFillStyle\":1001,\"fLeftMargin\":0.13,\"fRightMargin\":0.3,\"fBottomMargin\":0.13,\"fTopMargin\":0.1,\"fXfile\":2,\"fYfile\":2,\"fAfile\":1,\"fXstat\":0.99,\"fYstat\":0.99,\"fAstat\":2,\"fFrameFillColor\":0,\"fFrameLineColor\":1,\"fFrameFillStyle\":1001,\"fFrameLineStyle\":1,\"fFrameLineWidth\":1,\"fFrameBorderSize\":1,\"fFrameBorderMode\":0,\"fX1\":-22.8070169934936,\"fY1\":-1.70776041025104,\"fX2\":152.631581699199,\"fY2\":5.26813222988247,\"fXtoAbsPixelk\":103.480046204376,\"fXtoPixelk\":103.480046204376,\"fXtoPixel\":4.53719994306564,\"fYtoAbsPixelk\":431.969375066204,\"fYtoPixelk\":431.969375066204,\"fYtoPixel\":-81.9966747637693,\"fUtoAbsPixelk\":5e-5,\"fUtoPixelk\":5e-5,\"fUtoPixel\":796,\"fVtoAbsPixelk\":572.00005,\"fVtoPixelk\":572,\"fVtoPixel\":-572,\"fAbsPixeltoXk\":-22.8070169934936,\"fPixeltoXk\":-22.8070169934936,\"fPixeltoX\":0.220400249613935,\"fAbsPixeltoYk\":5.26813222988248,\"fPixeltoYk\":-1.70776041025104,\"fPixeltoY\":-0.0121956165037299,\"fXlowNDC\":0,\"fYlowNDC\":0,\"fXUpNDC\":0,\"fYUpNDC\":0,\"fWNDC\":1,\"fHNDC\":1,\"fAbsXlowNDC\":0,\"fAbsYlowNDC\":0,\"fAbsWNDC\":1,\"fAbsHNDC\":1,\"fUxmin\":0,\"fUymin\":-0.800894380027297,\"fUxmax\":100,\"fUymax\":4.5705429398819,\"fTheta\":30,\"fPhi\":30,\"fAspectRatio\":0,\"fNumber\":0,\"fTickx\":0,\"fTicky\":0,\"fLogx\":0,\"fLogy\":1,\"fLogz\":0,\"fPadPaint\":0,\"fCrosshair\":0,\"fCrosshairPos\":0,\"fBorderSize\":2,\"fBorderMode\":0,\"fModified\":false,\"fGridx\":true,\"fGridy\":true,\"fAbsCoord\":false,\"fEditable\":true,\"fFixedAspectRatio\":false,\"fPrimitives\":{\"_typename\":\"TList\",\"name\":\"TList\",\"arr\":[{\"_typename\":\"TFrame\",\"fUniqueID\":0,\"fBits\":50331656,\"fLineColor\":1,\"fLineStyle\":1,\"fLineWidth\":1,\"fFillColor\":0,\"fFillStyle\":1001,\"fX1\":0,\"fY1\":-0.800894380027297,\"fX2\":100,\"fY2\":4.5705429398819,\"fBorderSize\":1,\"fBorderMode\":0},{\"_typename\":\"TH1F\",\"fUniqueID\":0,\"fBits\":50332168,\"fName\":\"91e9e4\",\"fTitle\":\"\",\"fLineColor\":1,\"fLineStyle\":1,\"fLineWidth\":1,\"fFillColor\":0,\"fFillStyle\":1001,\"fMarkerColor\":1,\"fMarkerStyle\":1,\"fMarkerSize\":1,\"fNcells\":102,\"fXaxis\":{\"_typename\":\"TAxis\",\"fUniqueID\":0,\"fBits\":50331656,\"fName\":\"xaxis\",\"fTitle\":\" p_{T} [GeV]\",\"fNdivisions\":510,\"fAxisColor\":1,\"fLabelColor\":1,\"fLabelFont\":42,\"fLabelOffset\":0.005,\"fLabelSize\":0.035,\"fTickLength\":0.03,\"fTitleOffset\":1.4,\"fTitleSize\":0.035,\"fTitleColor\":1,\"fTitleFont\":42,\"fNbins\":100,\"fXmin\":0,\"fXmax\":100,\"fXbins\":[],\"fFirst\":0,\"fLast\":0,\"fBits2\":0,\"fTimeDisplay\":false,\"fTimeFormat\":\"\",\"fLabels\":null,\"fModLabs\":null},\"fYaxis\":{\"_typename\":\"TAxis\",\"fUniqueID\":0,\"fBits\":50331656,\"fName\":\"yaxis\",\"fTitle\":\" rate [kHz]\",\"fNdivisions\":510,\"fAxisColor\":1,\"fLabelColor\":1,\"fLabelFont\":42,\"fLabelOffset\":0.005,\"fLabelSize\":0.035,\"fTickLength\":0.03,\"fTitleOffset\":0,\"fTitleSize\":0.035,\"fTitleColor\":1,\"fTitleFont\":42,\"fNbins\":1,\"fXmin\":0,\"fXmax\":1,\"fXbins\":[],\"fFirst\":0,\"fLast\":0,\"fBits2\":0,\"fTimeDisplay\":false,\"fTimeFormat\":\"\",\"fLabels\":null,\"fModLabs\":null},\"fZaxis\":{\"_typename\":\"TAxis\",\"fUniqueID\":0,\"fBits\":50331648,\"fName\":\"zaxis\",\"fTitle\":\"\",\"fNdivisions\":510,\"fAxisColor\":1,\"fLabelColor\":1,\"fLabelFont\":42,\"fLabelOffset\":0.005,\"fLabelSize\":0.035,\"fTickLength\":0.03,\"fTitleOffset\":1,\"fTitleSize\":0.035,\"fTitleColor\":1,\"fTitleFont\":42,\"fNbins\":1,\"fXmin\":0,\"fXmax\":1,\"fXbins\":[],\"fFirst\":0,\"fLast\":0,\"fBits2\":0,\"fTimeDisplay\":false,\"fTimeFormat\":\"\",\"fLabels\":null,\"fModLabs\":null},\"fBarOffset\":0,\"fBarWidth\":1000,\"fEntries\":1488489,\"fTsumw\":1488470,\"fTsumw2\":1488470,\"fTsumwx\":5550677,\"fTsumwx2\":36350355,\"fMaximum\":37200,\"fMinimum\":0.158163264393806,\"fNormFactor\":0,\"fContour\":[],\"fSumw2\":[0,4903.0612244898,4903.0612244898,4903.0612244898,4892.15441482716,4530.90386817993,4292.37994585589,3224.41316118284,2115.59587151187,1297.48508433986,786.215873594336,483.777046022491,301.613312161599,155.797271970013,98.9367711370262,70.5690597667639,53.1331736776343,39.5747084548105,30.3189296126614,22.5140566430654,18.0112453144523,15.2345116618076,12.7079341940858,10.5565910037484,8.75546647230321,7.17948250728863,5.80362349021241,5.12820179092045,4.50281132861308,3.82738962932112,3.25203040399833,2.80174927113703,2.65165556018326,2.47654623073719,2.25140566430654,2.07629633486048,1.85115576842982,1.70106205747605,1.62601520199917,1.4759214910454,1.40087463556851,1.22576530612245,1.15071845064556,1.07567159516868,0.950593502707205,0.850531028738026,0.800499791753436,0.750468554768846,0.625390462307372,0.575359225322782,0.550343606830487,0.500312369845898,0.450281132861308,0.375234277384423,0.325203040399833,0.275171803415244,0.275171803415244,0.275171803415244,0.250156184922949,0.175109329446064,0.175109329446064,0.125078092461474,0.10006247396918,0.10006247396918,0.10006247396918,0.10006247396918,0.10006247396918,0.10006247396918,0.10006247396918,0.10006247396918,0.10006247396918,0.10006247396918,0.10006247396918,0.10006247396918,0.10006247396918,0.10006247396918,0.10006247396918,0.10006247396918,0.10006247396918,0.10006247396918,0.10006247396918,0.10006247396918,0.10006247396918,0.10006247396918,0.10006247396918,0.0750468554768846,0.0750468554768846,0.0750468554768846,0.0750468554768846,0.0750468554768846,0.0750468554768846,0.0750468554768846,0.0750468554768846,0.0750468554768846,0.0750468554768846,0.0750468554768846,0.0750468554768846,0.0500312369845898,0.0500312369845898,0.0500312369845898,0.0500312369845898,0.475296751353603],\"fOption\":\"\",\"fFunctions\":{\"_typename\":\"TList\",\"name\":\"TList\",\"arr\":[],\"opt\":[]},\"fBufferSize\":0,\"fBuffer\":[],\"fBinStatErrOpt\":0,\"fStatOverflows\":2,\"fArray\":[0,31000,31000,31000,30931.04,28647.01,27138.92,20386.61,13376.03,8203.454,4970.913,3058.719,1906.974,985.0408,625.5357,446.1786,335.9388,250.2143,191.6939,142.3469,113.8775,96.32143,80.34694,66.7449,55.35714,45.39286,36.69388,32.42347,28.46939,24.19898,20.56122,17.71428,16.76531,15.65816,14.23469,13.12755,11.70408,10.7551,10.28061,9.331633,8.857142,7.75,7.27551,6.801021,6.010204,5.377551,5.061224,4.744898,3.954082,3.637755,3.479592,3.163265,2.846939,2.372449,2.056123,1.739796,1.739796,1.739796,1.581633,1.107143,1.107143,0.7908163,0.6326531,0.6326531,0.6326531,0.6326531,0.6326531,0.6326531,0.6326531,0.6326531,0.6326531,0.6326531,0.6326531,0.6326531,0.6326531,0.6326531,0.6326531,0.6326531,0.6326531,0.6326531,0.6326531,0.6326531,0.6326531,0.6326531,0.6326531,0.4744898,0.4744898,0.4744898,0.4744898,0.4744898,0.4744898,0.4744898,0.4744898,0.4744898,0.4744898,0.4744898,0.4744898,0.3163265,0.3163265,0.3163265,0.3163265,3.005102]},{\"_typename\":\"TH1F\",\"fUniqueID\":0,\"fBits\":50332168,\"fName\":\"17cb15\",\"fTitle\":\"\",\"fLineColor\":628,\"fLineStyle\":1,\"fLineWidth\":1,\"fFillColor\":0,\"fFillStyle\":1001,\"fMarkerColor\":1,\"fMarkerStyle\":1,\"fMarkerSize\":1,\"fNcells\":102,\"fXaxis\":{\"_typename\":\"TAxis\",\"fUniqueID\":0,\"fBits\":50331656,\"fName\":\"xaxis\",\"fTitle\":\" p_{T} [GeV]\",\"fNdivisions\":510,\"fAxisColor\":1,\"fLabelColor\":1,\"fLabelFont\":42,\"fLabelOffset\":0.005,\"fLabelSize\":0.035,\"fTickLength\":0.03,\"fTitleOffset\":1.4,\"fTitleSize\":0.035,\"fTitleColor\":1,\"fTitleFont\":42,\"fNbins\":100,\"fXmin\":0,\"fXmax\":100,\"fXbins\":[],\"fFirst\":0,\"fLast\":0,\"fBits2\":0,\"fTimeDisplay\":false,\"fTimeFormat\":\"\",\"fLabels\":null,\"fModLabs\":null},\"fYaxis\":{\"_typename\":\"TAxis\",\"fUniqueID\":0,\"fBits\":50331656,\"fName\":\"yaxis\",\"fTitle\":\" rate [kHz]\",\"fNdivisions\":510,\"fAxisColor\":1,\"fLabelColor\":1,\"fLabelFont\":42,\"fLabelOffset\":0.005,\"fLabelSize\":0.035,\"fTickLength\":0.03,\"fTitleOffset\":0,\"fTitleSize\":0.035,\"fTitleColor\":1,\"fTitleFont\":42,\"fNbins\":1,\"fXmin\":0,\"fXmax\":1,\"fXbins\":[],\"fFirst\":0,\"fLast\":0,\"fBits2\":0,\"fTimeDisplay\":false,\"fTimeFormat\":\"\",\"fLabels\":null,\"fModLabs\":null},\"fZaxis\":{\"_typename\":\"TAxis\",\"fUniqueID\":0,\"fBits\":50331648,\"fName\":\"zaxis\",\"fTitle\":\"\",\"fNdivisions\":510,\"fAxisColor\":1,\"fLabelColor\":1,\"fLabelFont\":42,\"fLabelOffset\":0.005,\"fLabelSize\":0.035,\"fTickLength\":0.03,\"fTitleOffset\":1,\"fTitleSize\":0.035,\"fTitleColor\":1,\"fTitleFont\":42,\"fNbins\":1,\"fXmin\":0,\"fXmax\":1,\"fXbins\":[],\"fFirst\":0,\"fLast\":0,\"fBits2\":0,\"fTimeDisplay\":false,\"fTimeFormat\":\"\",\"fLabels\":null,\"fModLabs\":null},\"fBarOffset\":0,\"fBarWidth\":1000,\"fEntries\":1178194,\"fTsumw\":1178182,\"fTsumw2\":1178182,\"fTsumwx\":3400020,\"fTsumwx2\":19085082,\"fMaximum\":37200,\"fMinimum\":0.158163264393806,\"fNormFactor\":0,\"fContour\":[],\"fSumw2\":[0,4903.0612244898,4903.0612244898,4903.01119325281,4832.54219596002,4010.72909725115,2564.20095793419,1423.66386401499,759.624271137026,411.106674302374,233.620861099542,141.663447521866,93.1331476468138,62.9643117451062,45.2032226155768,32.8204914618909,24.6653998334027,19.3620887130362,15.3345741357768,12.6829185755935,10.4064972927947,8.38023219491878,6.95434194085798,6.07879529362766,4.92807684298209,4.30268638067472,3.65228029987505,3.20199916701374,2.75171803415244,2.50156184922949,2.25140566430654,2.12632757184506,1.85115576842982,1.60099958350687,1.50093710953769,1.40087463556851,1.35084339858392,1.30081216159933,1.12570283215327,0.9756091211995,0.92557788421491,0.92557788421491,0.900562265722616,0.750468554768846,0.725452936276551,0.650406080799667,0.550343606830487,0.425265514369013,0.400249895876718,0.375234277384423,0.325203040399833,0.275171803415244,0.250156184922949,0.250156184922949,0.250156184922949,0.175109329446064,0.175109329446064,0.125078092461474,0.10006247396918,0.10006247396918,0.10006247396918,0.10006247396918,0.10006247396918,0.10006247396918,0.10006247396918,0.10006247396918,0.10006247396918,0.10006247396918,0.10006247396918,0.10006247396918,0.10006247396918,0.10006247396918,0.10006247396918,0.10006247396918,0.10006247396918,0.10006247396918,0.10006247396918,0.10006247396918,0.0750468554768846,0.0750468554768846,0.0750468554768846,0.0750468554768846,0.0750468554768846,0.0750468554768846,0.0750468554768846,0.0750468554768846,0.0750468554768846,0.0750468554768846,0.0750468554768846,0.0750468554768846,0.0750468554768846,0.0500312369845898,0.0500312369845898,0.0500312369845898,0.0500312369845898,0.0500312369845898,0.0500312369845898,0.0500312369845898,0.0250156184922949,0.0250156184922949,0.0250156184922949,0.300187421907539],\"fOption\":\"\",\"fFunctions\":{\"_typename\":\"TList\",\"name\":\"TList\",\"arr\":[],\"opt\":[]},\"fBufferSize\":0,\"fBuffer\":[],\"fBinStatErrOpt\":0,\"fStatOverflows\":2,\"fArray\":[0,31000,31000,30999.68,30554.14,25358.16,16212.37,9001.229,4802.786,2599.255,1477.087,895.6786,588.8419,398.0969,285.801,207.5102,155.949,122.4184,96.95408,80.18877,65.79592,52.9847,43.96939,38.43367,31.15816,27.20408,23.09184,20.2449,17.39796,15.81633,14.23469,13.44388,11.70408,10.12245,9.489796,8.857142,8.540816,8.22449,7.117347,6.168367,5.852041,5.852041,5.693878,4.744898,4.586735,4.112245,3.479592,2.688776,2.530612,2.372449,2.056123,1.739796,1.581633,1.581633,1.581633,1.107143,1.107143,0.7908163,0.6326531,0.6326531,0.6326531,0.6326531,0.6326531,0.6326531,0.6326531,0.6326531,0.6326531,0.6326531,0.6326531,0.6326531,0.6326531,0.6326531,0.6326531,0.6326531,0.6326531,0.6326531,0.6326531,0.6326531,0.4744898,0.4744898,0.4744898,0.4744898,0.4744898,0.4744898,0.4744898,0.4744898,0.4744898,0.4744898,0.4744898,0.4744898,0.4744898,0.3163265,0.3163265,0.3163265,0.3163265,0.3163265,0.3163265,0.3163265,0.1581633,0.1581633,0.1581633,1.897959]},{\"_typename\":\"TLegend\",\"fUniqueID\":0,\"fBits\":50331656,\"fLineColor\":1,\"fLineStyle\":1,\"fLineWidth\":1,\"fFillColor\":0,\"fFillStyle\":0,\"fX1\":100.000002091391,\"fY1\":3.24512336424376,\"fX2\":143.859651764564,\"fY2\":4.22174833386245,\"fX1NDC\":0.7,\"fY1NDC\":0.71,\"fX2NDC\":0.95,\"fY2NDC\":0.85,\"fBorderSize\":0,\"fInit\":1,\"fShadowColor\":1,\"fCornerRadius\":0,\"fOption\":\"brNDC\",\"fName\":\"TPave\",\"fTextAngle\":0,\"fTextSize\":0.03,\"fTextAlign\":12,\"fTextColor\":1,\"fTextFont\":42,\"fPrimitives\":{\"_typename\":\"TList\",\"name\":\"TList\",\"arr\":[{\"_typename\":\"TLegendEntry\",\"fUniqueID\":0,\"fBits\":50331656,\"fTextAngle\":0,\"fTextSize\":0,\"fTextAlign\":0,\"fTextColor\":0,\"fTextFont\":42,\"fLineColor\":1,\"fLineStyle\":1,\"fLineWidth\":1,\"fFillColor\":0,\"fFillStyle\":0,\"fMarkerColor\":1,\"fMarkerStyle\":21,\"fMarkerSize\":1,\"fObject\":{\"$ref\":3},\"fLabel\":\"hwQual 3, 1.52 < |#eta^{L1}| <= 2.4\",\"fOption\":\"l\"},{\"_typename\":\"TLegendEntry\",\"fUniqueID\":0,\"fBits\":50331656,\"fTextAngle\":0,\"fTextSize\":0,\"fTextAlign\":0,\"fTextColor\":0,\"fTextFont\":42,\"fLineColor\":628,\"fLineStyle\":1,\"fLineWidth\":1,\"fFillColor\":0,\"fFillStyle\":0,\"fMarkerColor\":1,\"fMarkerStyle\":21,\"fMarkerSize\":1,\"fObject\":{\"$ref\":8},\"fLabel\":\"hwQual 4, 1.52 < |#eta^{L1}| <= 2.4\",\"fOption\":\"l\"}],\"opt\":[\"l\",\"l\"]},\"fEntrySeparation\":0.1,\"fMargin\":0.25,\"fNColumns\":1,\"fColumnSeparation\":0},{\"_typename\":\"TLatex\",\"fUniqueID\":0,\"fBits\":50348040,\"fName\":\"\",\"fTitle\":\"PU200, EG\",\"fTextAngle\":0,\"fTextSize\":0.03,\"fTextAlign\":11,\"fTextColor\":1,\"fTextFont\":62,\"fX\":0.15,\"fY\":0.85,\"fLineColor\":1,\"fLineStyle\":1,\"fLineWidth\":2,\"fLimitFactorSize\":3,\"fOriginSize\":0.04},{\"_typename\":\"TLatex\",\"fUniqueID\":0,\"fBits\":50331656,\"fName\":\"\",\"fTitle\":\"\",\"fTextAngle\":0,\"fTextSize\":0.03,\"fTextAlign\":11,\"fTextColor\":1,\"fTextFont\":62,\"fX\":0,\"fY\":0,\"fLineColor\":1,\"fLineStyle\":1,\"fLineWidth\":2,\"fLimitFactorSize\":3,\"fOriginSize\":0.04}],\"opt\":[\"\",\"\",\"same,\",\"same\",\"same\",\"same\"]},\"fExecs\":null,\"fName\":\"c_ef78af\",\"fTitle\":\"c_ef78af\",\"fNumPaletteColor\":0,\"fNextPaletteColor\":0,\"fDISPLAY\":\"$DISPLAY\",\"fDoubleBuffer\":0,\"fRetained\":true,\"fXsizeUser\":0,\"fYsizeUser\":0,\"fXsizeReal\":20,\"fYsizeReal\":15,\"fWindowTopX\":0,\"fWindowTopY\":0,\"fWindowWidth\":0,\"fWindowHeight\":0,\"fCw\":796,\"fCh\":572,\"fCatt\":{\"_typename\":\"TAttCanvas\",\"fXBetween\":2,\"fYBetween\":2,\"fTitleFromTop\":1.2,\"fXdate\":0.2,\"fYdate\":0.3,\"fAdate\":1},\"kMoveOpaque\":true,\"kResizeOpaque\":true,\"fHighLightColor\":2,\"fBatch\":true,\"kShowEventStatus\":false,\"kAutoExec\":true,\"kMenuBar\":true});\n",
       "       Core.draw(\"root_plot_12\", obj, \"\");\n",
       "     }\n",
       " );\n",
       "</script>\n"
      ],
      "text/plain": [
       "<IPython.core.display.HTML object>"
      ]
     },
     "metadata": {},
     "output_type": "display_data"
    }
   ],
   "source": [
    "# 'HMvDRCalib','HMvDRshapeDrCalib',\n",
    "hsets, labels, text = hplot.get_histo(histos.RateHistos, ['new-ID'], 'PU200', ['EG'], ['EGq3EtaBC', 'EGq4EtaBC'], None)\n",
    "for hist in hsets:\n",
    "    hist.normalize(31000)\n",
    "draw([his.h_pt for his in hsets], labels, text=text, logy=True)"
   ]
  },
  {
   "cell_type": "code",
   "execution_count": 51,
   "metadata": {},
   "outputs": [
    {
     "name": "stdout",
     "output_type": "stream",
     "text": [
      "normalize to 31000\n"
     ]
    },
    {
     "data": {
      "text/plain": [
       "<__main__.DrawMachine at 0x10dc4a750>"
      ]
     },
     "execution_count": 51,
     "metadata": {},
     "output_type": "execute_result"
    },
    {
     "data": {
      "text/html": [
       "\n",
       "<div id=\"root_plot_13\"\n",
       "     style=\"width: 796px; height: 572px\">\n",
       "</div>\n",
       "\n",
       "<script>\n",
       " requirejs.config({\n",
       "     paths: {\n",
       "       'JSRootCore' : 'https://root.cern.ch/js/notebook//scripts/JSRootCore',\n",
       "     }\n",
       "   });\n",
       " require(['JSRootCore'],\n",
       "     function(Core) {\n",
       "       var obj = Core.JSONR_unref({\"_typename\":\"TCanvas\",\"fUniqueID\":0,\"fBits\":53673992,\"fLineColor\":1,\"fLineStyle\":1,\"fLineWidth\":1,\"fFillColor\":0,\"fFillStyle\":1001,\"fLeftMargin\":0.13,\"fRightMargin\":0.3,\"fBottomMargin\":0.13,\"fTopMargin\":0.1,\"fXfile\":2,\"fYfile\":2,\"fAfile\":1,\"fXstat\":0.99,\"fYstat\":0.99,\"fAstat\":2,\"fFrameFillColor\":0,\"fFrameLineColor\":1,\"fFrameFillStyle\":1001,\"fFrameLineStyle\":1,\"fFrameLineWidth\":1,\"fFrameBorderSize\":1,\"fFrameBorderMode\":0,\"fX1\":-22.8070169934936,\"fY1\":-1.70776041025104,\"fX2\":152.631581699199,\"fY2\":5.26813222988247,\"fXtoAbsPixelk\":103.480046204376,\"fXtoPixelk\":103.480046204376,\"fXtoPixel\":4.53719994306564,\"fYtoAbsPixelk\":431.969375066204,\"fYtoPixelk\":431.969375066204,\"fYtoPixel\":-81.9966747637693,\"fUtoAbsPixelk\":5e-5,\"fUtoPixelk\":5e-5,\"fUtoPixel\":796,\"fVtoAbsPixelk\":572.00005,\"fVtoPixelk\":572,\"fVtoPixel\":-572,\"fAbsPixeltoXk\":-22.8070169934936,\"fPixeltoXk\":-22.8070169934936,\"fPixeltoX\":0.220400249613935,\"fAbsPixeltoYk\":5.26813222988248,\"fPixeltoYk\":-1.70776041025104,\"fPixeltoY\":-0.0121956165037299,\"fXlowNDC\":0,\"fYlowNDC\":0,\"fXUpNDC\":0,\"fYUpNDC\":0,\"fWNDC\":1,\"fHNDC\":1,\"fAbsXlowNDC\":0,\"fAbsYlowNDC\":0,\"fAbsWNDC\":1,\"fAbsHNDC\":1,\"fUxmin\":0,\"fUymin\":-0.800894380027297,\"fUxmax\":100,\"fUymax\":4.5705429398819,\"fTheta\":30,\"fPhi\":30,\"fAspectRatio\":0,\"fNumber\":0,\"fTickx\":0,\"fTicky\":0,\"fLogx\":0,\"fLogy\":1,\"fLogz\":0,\"fPadPaint\":0,\"fCrosshair\":0,\"fCrosshairPos\":0,\"fBorderSize\":2,\"fBorderMode\":0,\"fModified\":false,\"fGridx\":true,\"fGridy\":true,\"fAbsCoord\":false,\"fEditable\":true,\"fFixedAspectRatio\":false,\"fPrimitives\":{\"_typename\":\"TList\",\"name\":\"TList\",\"arr\":[{\"_typename\":\"TFrame\",\"fUniqueID\":0,\"fBits\":50331656,\"fLineColor\":1,\"fLineStyle\":1,\"fLineWidth\":1,\"fFillColor\":0,\"fFillStyle\":1001,\"fX1\":0,\"fY1\":-0.800894380027297,\"fX2\":100,\"fY2\":4.5705429398819,\"fBorderSize\":1,\"fBorderMode\":0},{\"_typename\":\"TH1F\",\"fUniqueID\":0,\"fBits\":50332168,\"fName\":\"49589d\",\"fTitle\":\"\",\"fLineColor\":1,\"fLineStyle\":1,\"fLineWidth\":1,\"fFillColor\":0,\"fFillStyle\":1001,\"fMarkerColor\":1,\"fMarkerStyle\":1,\"fMarkerSize\":1,\"fNcells\":102,\"fXaxis\":{\"_typename\":\"TAxis\",\"fUniqueID\":0,\"fBits\":50331656,\"fName\":\"xaxis\",\"fTitle\":\" p_{T} [GeV]\",\"fNdivisions\":510,\"fAxisColor\":1,\"fLabelColor\":1,\"fLabelFont\":42,\"fLabelOffset\":0.005,\"fLabelSize\":0.035,\"fTickLength\":0.03,\"fTitleOffset\":1.4,\"fTitleSize\":0.035,\"fTitleColor\":1,\"fTitleFont\":42,\"fNbins\":100,\"fXmin\":0,\"fXmax\":100,\"fXbins\":[],\"fFirst\":0,\"fLast\":0,\"fBits2\":0,\"fTimeDisplay\":false,\"fTimeFormat\":\"\",\"fLabels\":null,\"fModLabs\":null},\"fYaxis\":{\"_typename\":\"TAxis\",\"fUniqueID\":0,\"fBits\":50331656,\"fName\":\"yaxis\",\"fTitle\":\" rate [kHz]\",\"fNdivisions\":510,\"fAxisColor\":1,\"fLabelColor\":1,\"fLabelFont\":42,\"fLabelOffset\":0.005,\"fLabelSize\":0.035,\"fTickLength\":0.03,\"fTitleOffset\":0,\"fTitleSize\":0.035,\"fTitleColor\":1,\"fTitleFont\":42,\"fNbins\":1,\"fXmin\":0,\"fXmax\":1,\"fXbins\":[],\"fFirst\":0,\"fLast\":0,\"fBits2\":0,\"fTimeDisplay\":false,\"fTimeFormat\":\"\",\"fLabels\":null,\"fModLabs\":null},\"fZaxis\":{\"_typename\":\"TAxis\",\"fUniqueID\":0,\"fBits\":50331648,\"fName\":\"zaxis\",\"fTitle\":\"\",\"fNdivisions\":510,\"fAxisColor\":1,\"fLabelColor\":1,\"fLabelFont\":42,\"fLabelOffset\":0.005,\"fLabelSize\":0.035,\"fTickLength\":0.03,\"fTitleOffset\":1,\"fTitleSize\":0.035,\"fTitleColor\":1,\"fTitleFont\":42,\"fNbins\":1,\"fXmin\":0,\"fXmax\":1,\"fXbins\":[],\"fFirst\":0,\"fLast\":0,\"fBits2\":0,\"fTimeDisplay\":false,\"fTimeFormat\":\"\",\"fLabels\":null,\"fModLabs\":null},\"fBarOffset\":0,\"fBarWidth\":1000,\"fEntries\":43531,\"fTsumw\":43526,\"fTsumw2\":43526,\"fTsumwx\":193848,\"fTsumwx2\":3037994,\"fMaximum\":37200,\"fMinimum\":0.158163264393806,\"fNormFactor\":0,\"fContour\":[],\"fSumw2\":[0,270.944163890046,221.588348604748,113.045579966681,71.8948875468555,55.1094075385256,52.5828300708038,45.7535662224073,40.6003488129946,36.222615576843,31.2945387338609,26.8167430237401,23.2645251978342,16.7354487713453,12.5328248646397,10.181356726364,8.18010724698043,6.30393586005831,5.25327988338192,4.4027488546439,3.80237401082882,3.30206164098292,2.82676488962932,2.50156184922949,2.15134319033736,1.85115576842982,1.4759214910454,1.27579654310704,1.20074968763015,1.02564035818409,0.825515410245731,0.775484173261141,0.750468554768846,0.750468554768846,0.700437317784257,0.675421699291962,0.600374843815077,0.550343606830487,0.550343606830487,0.525327988338192,0.500312369845898,0.425265514369013,0.425265514369013,0.400249895876718,0.350218658892128,0.275171803415244,0.275171803415244,0.275171803415244,0.250156184922949,0.250156184922949,0.250156184922949,0.225140566430654,0.200124947938359,0.200124947938359,0.175109329446064,0.175109329446064,0.175109329446064,0.175109329446064,0.175109329446064,0.150093710953769,0.150093710953769,0.10006247396918,0.0750468554768846,0.0750468554768846,0.0750468554768846,0.0750468554768846,0.0750468554768846,0.0750468554768846,0.0750468554768846,0.0750468554768846,0.0750468554768846,0.0750468554768846,0.0750468554768846,0.0750468554768846,0.0750468554768846,0.0750468554768846,0.0750468554768846,0.0750468554768846,0.0750468554768846,0.0750468554768846,0.0750468554768846,0.0750468554768846,0.0750468554768846,0.0750468554768846,0.0750468554768846,0.0500312369845898,0.0500312369845898,0.0500312369845898,0.0500312369845898,0.0500312369845898,0.0500312369845898,0.0500312369845898,0.0500312369845898,0.0500312369845898,0.0500312369845898,0.0500312369845898,0.0500312369845898,0.0250156184922949,0.0250156184922949,0.0250156184922949,0.0250156184922949,0.125078092461474],\"fOption\":\"\",\"fFunctions\":{\"_typename\":\"TList\",\"name\":\"TList\",\"arr\":[],\"opt\":[]},\"fBufferSize\":0,\"fBuffer\":[],\"fBinStatErrOpt\":0,\"fStatOverflows\":2,\"fArray\":[0,1713.066,1401.01,714.7398,454.5612,348.4337,332.4592,289.2806,256.699,229.0204,197.8622,169.551,147.0918,105.8112,79.2398,64.37245,51.71939,39.85714,33.21429,27.83673,24.04082,20.87755,17.87245,15.81633,13.60204,11.70408,9.331633,8.066326,7.591837,6.484694,5.219388,4.903061,4.744898,4.744898,4.428571,4.270408,3.795918,3.479592,3.479592,3.321429,3.163265,2.688776,2.688776,2.530612,2.214286,1.739796,1.739796,1.739796,1.581633,1.581633,1.581633,1.423469,1.265306,1.265306,1.107143,1.107143,1.107143,1.107143,1.107143,0.9489796,0.9489796,0.6326531,0.4744898,0.4744898,0.4744898,0.4744898,0.4744898,0.4744898,0.4744898,0.4744898,0.4744898,0.4744898,0.4744898,0.4744898,0.4744898,0.4744898,0.4744898,0.4744898,0.4744898,0.4744898,0.4744898,0.4744898,0.4744898,0.4744898,0.4744898,0.3163265,0.3163265,0.3163265,0.3163265,0.3163265,0.3163265,0.3163265,0.3163265,0.3163265,0.3163265,0.3163265,0.3163265,0.1581633,0.1581633,0.1581633,0.1581633,0.7908163]},{\"_typename\":\"TH1F\",\"fUniqueID\":0,\"fBits\":50332168,\"fName\":\"ee49bb\",\"fTitle\":\"\",\"fLineColor\":628,\"fLineStyle\":1,\"fLineWidth\":1,\"fFillColor\":0,\"fFillStyle\":1001,\"fMarkerColor\":1,\"fMarkerStyle\":1,\"fMarkerSize\":1,\"fNcells\":102,\"fXaxis\":{\"_typename\":\"TAxis\",\"fUniqueID\":0,\"fBits\":50331656,\"fName\":\"xaxis\",\"fTitle\":\" p_{T} [GeV]\",\"fNdivisions\":510,\"fAxisColor\":1,\"fLabelColor\":1,\"fLabelFont\":42,\"fLabelOffset\":0.005,\"fLabelSize\":0.035,\"fTickLength\":0.03,\"fTitleOffset\":1.4,\"fTitleSize\":0.035,\"fTitleColor\":1,\"fTitleFont\":42,\"fNbins\":100,\"fXmin\":0,\"fXmax\":100,\"fXbins\":[],\"fFirst\":0,\"fLast\":0,\"fBits2\":0,\"fTimeDisplay\":false,\"fTimeFormat\":\"\",\"fLabels\":null,\"fModLabs\":null},\"fYaxis\":{\"_typename\":\"TAxis\",\"fUniqueID\":0,\"fBits\":50331656,\"fName\":\"yaxis\",\"fTitle\":\" rate [kHz]\",\"fNdivisions\":510,\"fAxisColor\":1,\"fLabelColor\":1,\"fLabelFont\":42,\"fLabelOffset\":0.005,\"fLabelSize\":0.035,\"fTickLength\":0.03,\"fTitleOffset\":0,\"fTitleSize\":0.035,\"fTitleColor\":1,\"fTitleFont\":42,\"fNbins\":1,\"fXmin\":0,\"fXmax\":1,\"fXbins\":[],\"fFirst\":0,\"fLast\":0,\"fBits2\":0,\"fTimeDisplay\":false,\"fTimeFormat\":\"\",\"fLabels\":null,\"fModLabs\":null},\"fZaxis\":{\"_typename\":\"TAxis\",\"fUniqueID\":0,\"fBits\":50331648,\"fName\":\"zaxis\",\"fTitle\":\"\",\"fNdivisions\":510,\"fAxisColor\":1,\"fLabelColor\":1,\"fLabelFont\":42,\"fLabelOffset\":0.005,\"fLabelSize\":0.035,\"fTickLength\":0.03,\"fTitleOffset\":1,\"fTitleSize\":0.035,\"fTitleColor\":1,\"fTitleFont\":42,\"fNbins\":1,\"fXmin\":0,\"fXmax\":1,\"fXbins\":[],\"fFirst\":0,\"fLast\":0,\"fBits2\":0,\"fTimeDisplay\":false,\"fTimeFormat\":\"\",\"fLabels\":null,\"fModLabs\":null},\"fBarOffset\":0,\"fBarWidth\":1000,\"fEntries\":1488489,\"fTsumw\":1488470,\"fTsumw2\":1488470,\"fTsumwx\":5550677,\"fTsumwx2\":36350355,\"fMaximum\":37200,\"fMinimum\":0.158163264393806,\"fNormFactor\":0,\"fContour\":[],\"fSumw2\":[0,4903.0612244898,4903.0612244898,4903.0612244898,4892.15441482716,4530.90386817993,4292.37994585589,3224.41316118284,2115.59587151187,1297.48508433986,786.215873594336,483.777046022491,301.613312161599,155.797271970013,98.9367711370262,70.5690597667639,53.1331736776343,39.5747084548105,30.3189296126614,22.5140566430654,18.0112453144523,15.2345116618076,12.7079341940858,10.5565910037484,8.75546647230321,7.17948250728863,5.80362349021241,5.12820179092045,4.50281132861308,3.82738962932112,3.25203040399833,2.80174927113703,2.65165556018326,2.47654623073719,2.25140566430654,2.07629633486048,1.85115576842982,1.70106205747605,1.62601520199917,1.4759214910454,1.40087463556851,1.22576530612245,1.15071845064556,1.07567159516868,0.950593502707205,0.850531028738026,0.800499791753436,0.750468554768846,0.625390462307372,0.575359225322782,0.550343606830487,0.500312369845898,0.450281132861308,0.375234277384423,0.325203040399833,0.275171803415244,0.275171803415244,0.275171803415244,0.250156184922949,0.175109329446064,0.175109329446064,0.125078092461474,0.10006247396918,0.10006247396918,0.10006247396918,0.10006247396918,0.10006247396918,0.10006247396918,0.10006247396918,0.10006247396918,0.10006247396918,0.10006247396918,0.10006247396918,0.10006247396918,0.10006247396918,0.10006247396918,0.10006247396918,0.10006247396918,0.10006247396918,0.10006247396918,0.10006247396918,0.10006247396918,0.10006247396918,0.10006247396918,0.10006247396918,0.0750468554768846,0.0750468554768846,0.0750468554768846,0.0750468554768846,0.0750468554768846,0.0750468554768846,0.0750468554768846,0.0750468554768846,0.0750468554768846,0.0750468554768846,0.0750468554768846,0.0750468554768846,0.0500312369845898,0.0500312369845898,0.0500312369845898,0.0500312369845898,0.475296751353603],\"fOption\":\"\",\"fFunctions\":{\"_typename\":\"TList\",\"name\":\"TList\",\"arr\":[],\"opt\":[]},\"fBufferSize\":0,\"fBuffer\":[],\"fBinStatErrOpt\":0,\"fStatOverflows\":2,\"fArray\":[0,31000,31000,31000,30931.04,28647.01,27138.92,20386.61,13376.03,8203.454,4970.913,3058.719,1906.974,985.0408,625.5357,446.1786,335.9388,250.2143,191.6939,142.3469,113.8775,96.32143,80.34694,66.7449,55.35714,45.39286,36.69388,32.42347,28.46939,24.19898,20.56122,17.71428,16.76531,15.65816,14.23469,13.12755,11.70408,10.7551,10.28061,9.331633,8.857142,7.75,7.27551,6.801021,6.010204,5.377551,5.061224,4.744898,3.954082,3.637755,3.479592,3.163265,2.846939,2.372449,2.056123,1.739796,1.739796,1.739796,1.581633,1.107143,1.107143,0.7908163,0.6326531,0.6326531,0.6326531,0.6326531,0.6326531,0.6326531,0.6326531,0.6326531,0.6326531,0.6326531,0.6326531,0.6326531,0.6326531,0.6326531,0.6326531,0.6326531,0.6326531,0.6326531,0.6326531,0.6326531,0.6326531,0.6326531,0.6326531,0.4744898,0.4744898,0.4744898,0.4744898,0.4744898,0.4744898,0.4744898,0.4744898,0.4744898,0.4744898,0.4744898,0.4744898,0.3163265,0.3163265,0.3163265,0.3163265,3.005102]},{\"_typename\":\"TLegend\",\"fUniqueID\":0,\"fBits\":50331656,\"fLineColor\":1,\"fLineStyle\":1,\"fLineWidth\":1,\"fFillColor\":0,\"fFillStyle\":0,\"fX1\":100.000002091391,\"fY1\":3.24512336424376,\"fX2\":143.859651764564,\"fY2\":4.22174833386245,\"fX1NDC\":0.7,\"fY1NDC\":0.71,\"fX2NDC\":0.95,\"fY2NDC\":0.85,\"fBorderSize\":0,\"fInit\":1,\"fShadowColor\":1,\"fCornerRadius\":0,\"fOption\":\"brNDC\",\"fName\":\"TPave\",\"fTextAngle\":0,\"fTextSize\":0.03,\"fTextAlign\":12,\"fTextColor\":1,\"fTextFont\":42,\"fPrimitives\":{\"_typename\":\"TList\",\"name\":\"TList\",\"arr\":[{\"_typename\":\"TLegendEntry\",\"fUniqueID\":0,\"fBits\":50331656,\"fTextAngle\":0,\"fTextSize\":0,\"fTextAlign\":0,\"fTextColor\":0,\"fTextFont\":42,\"fLineColor\":1,\"fLineStyle\":1,\"fLineWidth\":1,\"fFillColor\":0,\"fFillStyle\":0,\"fMarkerColor\":1,\"fMarkerStyle\":21,\"fMarkerSize\":1,\"fObject\":{\"$ref\":3},\"fLabel\":\"TkEle Ell. match\",\"fOption\":\"l\"},{\"_typename\":\"TLegendEntry\",\"fUniqueID\":0,\"fBits\":50331656,\"fTextAngle\":0,\"fTextSize\":0,\"fTextAlign\":0,\"fTextColor\":0,\"fTextFont\":42,\"fLineColor\":628,\"fLineStyle\":1,\"fLineWidth\":1,\"fFillColor\":0,\"fFillStyle\":0,\"fMarkerColor\":1,\"fMarkerStyle\":21,\"fMarkerSize\":1,\"fObject\":{\"$ref\":8},\"fLabel\":\"EG\",\"fOption\":\"l\"}],\"opt\":[\"l\",\"l\"]},\"fEntrySeparation\":0.1,\"fMargin\":0.25,\"fNColumns\":1,\"fColumnSeparation\":0},{\"_typename\":\"TLatex\",\"fUniqueID\":0,\"fBits\":50348040,\"fName\":\"\",\"fTitle\":\"PU200, hwQual 3, 1.52 < |#eta^{L1}| <= 2.4\",\"fTextAngle\":0,\"fTextSize\":0.03,\"fTextAlign\":11,\"fTextColor\":1,\"fTextFont\":62,\"fX\":0.15,\"fY\":0.85,\"fLineColor\":1,\"fLineStyle\":1,\"fLineWidth\":2,\"fLimitFactorSize\":3,\"fOriginSize\":0.04},{\"_typename\":\"TLatex\",\"fUniqueID\":0,\"fBits\":50331656,\"fName\":\"\",\"fTitle\":\"\",\"fTextAngle\":0,\"fTextSize\":0.03,\"fTextAlign\":11,\"fTextColor\":1,\"fTextFont\":62,\"fX\":0,\"fY\":0,\"fLineColor\":1,\"fLineStyle\":1,\"fLineWidth\":2,\"fLimitFactorSize\":3,\"fOriginSize\":0.04}],\"opt\":[\"\",\"\",\"same,\",\"same\",\"same\",\"same\"]},\"fExecs\":null,\"fName\":\"c_e65acc\",\"fTitle\":\"c_e65acc\",\"fNumPaletteColor\":0,\"fNextPaletteColor\":0,\"fDISPLAY\":\"$DISPLAY\",\"fDoubleBuffer\":0,\"fRetained\":true,\"fXsizeUser\":0,\"fYsizeUser\":0,\"fXsizeReal\":20,\"fYsizeReal\":15,\"fWindowTopX\":0,\"fWindowTopY\":0,\"fWindowWidth\":0,\"fWindowHeight\":0,\"fCw\":796,\"fCh\":572,\"fCatt\":{\"_typename\":\"TAttCanvas\",\"fXBetween\":2,\"fYBetween\":2,\"fTitleFromTop\":1.2,\"fXdate\":0.2,\"fYdate\":0.3,\"fAdate\":1},\"kMoveOpaque\":true,\"kResizeOpaque\":true,\"fHighLightColor\":2,\"fBatch\":true,\"kShowEventStatus\":false,\"kAutoExec\":true,\"kMenuBar\":true});\n",
       "       Core.draw(\"root_plot_13\", obj, \"\");\n",
       "     }\n",
       " );\n",
       "</script>\n"
      ],
      "text/plain": [
       "<IPython.core.display.HTML object>"
      ]
     },
     "metadata": {},
     "output_type": "display_data"
    }
   ],
   "source": [
    "# 'HMvDRCalib','HMvDRshapeDrCalib',\n",
    "hsets, labels, text = hplot.get_histo(histos.RateHistos, ['new-ID'], 'PU200', ['EG', 'TkEle','TkEleEL'], ['EGq3EtaBC'], None)\n",
    "for hist in hsets:\n",
    "    hist.normalize(31000)\n",
    "draw([his.h_pt for his in hsets], labels, text=text, logy=True)"
   ]
  },
  {
   "cell_type": "code",
   "execution_count": 52,
   "metadata": {},
   "outputs": [
    {
     "data": {
      "text/plain": [
       "<__main__.DrawMachine at 0x11ceaaad0>"
      ]
     },
     "execution_count": 52,
     "metadata": {},
     "output_type": "execute_result"
    },
    {
     "name": "stderr",
     "output_type": "stream",
     "text": [
      "Error in <THistPainter::PaintInit>: Cannot set Y axis to log scale\n",
      "Error in <THistPainter::PaintInit>: Cannot set Y axis to log scale\n"
     ]
    },
    {
     "data": {
      "text/html": [
       "\n",
       "<div id=\"root_plot_14\"\n",
       "     style=\"width: 796px; height: 572px\">\n",
       "</div>\n",
       "\n",
       "<script>\n",
       " requirejs.config({\n",
       "     paths: {\n",
       "       'JSRootCore' : 'https://root.cern.ch/js/notebook//scripts/JSRootCore',\n",
       "     }\n",
       "   });\n",
       " require(['JSRootCore'],\n",
       "     function(Core) {\n",
       "       var obj = Core.JSONR_unref({\"_typename\":\"TCanvas\",\"fUniqueID\":0,\"fBits\":53673992,\"fLineColor\":1,\"fLineStyle\":1,\"fLineWidth\":1,\"fFillColor\":0,\"fFillStyle\":1001,\"fLeftMargin\":0.13,\"fRightMargin\":0.3,\"fBottomMargin\":0.13,\"fTopMargin\":0.1,\"fXfile\":2,\"fYfile\":2,\"fAfile\":1,\"fXstat\":0.99,\"fYstat\":0.99,\"fAstat\":2,\"fFrameFillColor\":0,\"fFrameLineColor\":1,\"fFrameFillStyle\":1001,\"fFrameLineStyle\":1,\"fFrameLineWidth\":1,\"fFrameBorderSize\":1,\"fFrameBorderMode\":0,\"fX1\":-22.8070169934936,\"fY1\":-346.998697166287,\"fX2\":152.631581699199,\"fY2\":2322.22208851139,\"fXtoAbsPixelk\":103.480046204376,\"fXtoPixelk\":103.480046204376,\"fXtoPixel\":4.53719994306564,\"fYtoAbsPixelk\":497.640051065433,\"fYtoPixelk\":497.640051065433,\"fYtoPixel\":-0.214294749639745,\"fUtoAbsPixelk\":5e-5,\"fUtoPixelk\":5e-5,\"fUtoPixel\":796,\"fVtoAbsPixelk\":572.00005,\"fVtoPixelk\":572,\"fVtoPixel\":-572,\"fAbsPixeltoXk\":-22.8070169934936,\"fPixeltoXk\":-22.8070169934936,\"fPixeltoX\":0.220400249613935,\"fAbsPixeltoYk\":2322.22208851139,\"fPixeltoYk\":-346.998697166287,\"fPixeltoY\":-4.6664699050309,\"fXlowNDC\":0,\"fYlowNDC\":0,\"fXUpNDC\":0,\"fYUpNDC\":0,\"fWNDC\":1,\"fHNDC\":1,\"fAbsXlowNDC\":0,\"fAbsYlowNDC\":0,\"fAbsWNDC\":1,\"fAbsHNDC\":1,\"fUxmin\":0,\"fUymin\":0,\"fUxmax\":100,\"fUymax\":2055.3,\"fTheta\":30,\"fPhi\":30,\"fAspectRatio\":0,\"fNumber\":0,\"fTickx\":0,\"fTicky\":0,\"fLogx\":0,\"fLogy\":1,\"fLogz\":0,\"fPadPaint\":0,\"fCrosshair\":0,\"fCrosshairPos\":0,\"fBorderSize\":2,\"fBorderMode\":0,\"fModified\":false,\"fGridx\":true,\"fGridy\":true,\"fAbsCoord\":false,\"fEditable\":true,\"fFixedAspectRatio\":false,\"fPrimitives\":{\"_typename\":\"TList\",\"name\":\"TList\",\"arr\":[{\"_typename\":\"TFrame\",\"fUniqueID\":0,\"fBits\":50331656,\"fLineColor\":1,\"fLineStyle\":1,\"fLineWidth\":1,\"fFillColor\":0,\"fFillStyle\":1001,\"fX1\":0,\"fY1\":0,\"fX2\":100,\"fY2\":2055.3,\"fBorderSize\":1,\"fBorderMode\":0},{\"_typename\":\"TH1F\",\"fUniqueID\":0,\"fBits\":50332168,\"fName\":\"a207b4\",\"fTitle\":\"\",\"fLineColor\":1,\"fLineStyle\":1,\"fLineWidth\":1,\"fFillColor\":0,\"fFillStyle\":1001,\"fMarkerColor\":1,\"fMarkerStyle\":1,\"fMarkerSize\":1,\"fNcells\":102,\"fXaxis\":{\"_typename\":\"TAxis\",\"fUniqueID\":0,\"fBits\":50331656,\"fName\":\"xaxis\",\"fTitle\":\" p_{T} [GeV]\",\"fNdivisions\":510,\"fAxisColor\":1,\"fLabelColor\":1,\"fLabelFont\":42,\"fLabelOffset\":0.005,\"fLabelSize\":0.035,\"fTickLength\":0.03,\"fTitleOffset\":1.4,\"fTitleSize\":0.035,\"fTitleColor\":1,\"fTitleFont\":42,\"fNbins\":100,\"fXmin\":0,\"fXmax\":100,\"fXbins\":[],\"fFirst\":0,\"fLast\":0,\"fBits2\":0,\"fTimeDisplay\":false,\"fTimeFormat\":\"\",\"fLabels\":null,\"fModLabs\":null},\"fYaxis\":{\"_typename\":\"TAxis\",\"fUniqueID\":0,\"fBits\":50331656,\"fName\":\"yaxis\",\"fTitle\":\" rate [kHz]\",\"fNdivisions\":510,\"fAxisColor\":1,\"fLabelColor\":1,\"fLabelFont\":42,\"fLabelOffset\":0.005,\"fLabelSize\":0.035,\"fTickLength\":0.03,\"fTitleOffset\":0,\"fTitleSize\":0.035,\"fTitleColor\":1,\"fTitleFont\":42,\"fNbins\":1,\"fXmin\":0,\"fXmax\":1,\"fXbins\":[],\"fFirst\":0,\"fLast\":0,\"fBits2\":0,\"fTimeDisplay\":false,\"fTimeFormat\":\"\",\"fLabels\":null,\"fModLabs\":null},\"fZaxis\":{\"_typename\":\"TAxis\",\"fUniqueID\":0,\"fBits\":50331648,\"fName\":\"zaxis\",\"fTitle\":\"\",\"fNdivisions\":510,\"fAxisColor\":1,\"fLabelColor\":1,\"fLabelFont\":42,\"fLabelOffset\":0.005,\"fLabelSize\":0.035,\"fTickLength\":0.03,\"fTitleOffset\":1,\"fTitleSize\":0.035,\"fTitleColor\":1,\"fTitleFont\":42,\"fNbins\":1,\"fXmin\":0,\"fXmax\":1,\"fXbins\":[],\"fFirst\":0,\"fLast\":0,\"fBits2\":0,\"fTimeDisplay\":false,\"fTimeFormat\":\"\",\"fLabels\":null,\"fModLabs\":null},\"fBarOffset\":0,\"fBarWidth\":1000,\"fEntries\":37482,\"fTsumw\":37482,\"fTsumw2\":37482,\"fTsumwx\":143632,\"fTsumwx2\":2211476,\"fMaximum\":2055.3,\"fMinimum\":0,\"fNormFactor\":0,\"fContour\":[],\"fSumw2\":[0,270.894132653061,196.522698875469,99.0618492294877,64.6653738025823,51.0068461057893,42.9518169512703,36.9480685131195,31.3946012078301,25.9411963765098,21.6385099958351,16.9105581007913,13.1331997084548,10.2564035818409,7.85490420658059,6.02876405664307,5.00312369845898,4.27767076218242,3.65228029987505,3.07692107455227,2.65165556018326,2.25140566430654,1.92620262390671,1.72607767596835,1.40087463556851,1.25078092461474,1.07567159516868,0.92557788421491,0.825515410245731,0.750468554768846,0.725452936276551,0.700437317784257,0.625390462307372,0.525327988338192,0.525327988338192,0.525327988338192,0.525327988338192,0.475296751353603,0.425265514369013,0.350218658892128,0.350218658892128,0.325203040399833,0.325203040399833,0.275171803415244,0.250156184922949,0.250156184922949,0.250156184922949,0.225140566430654,0.200124947938359,0.175109329446064,0.175109329446064,0.175109329446064,0.175109329446064,0.175109329446064,0.175109329446064,0.150093710953769,0.150093710953769,0.10006247396918,0.0750468554768846,0.0750468554768846,0.0750468554768846,0.0750468554768846,0.0750468554768846,0.0750468554768846,0.0750468554768846,0.0750468554768846,0.0750468554768846,0.0750468554768846,0.0750468554768846,0.0750468554768846,0.0750468554768846,0.0750468554768846,0.0750468554768846,0.0750468554768846,0.0750468554768846,0.0750468554768846,0.0750468554768846,0.0750468554768846,0.0500312369845898,0.0500312369845898,0.0500312369845898,0.0500312369845898,0.0500312369845898,0.0500312369845898,0.0500312369845898,0.0500312369845898,0.0500312369845898,0.0500312369845898,0.0500312369845898,0.0500312369845898,0.0500312369845898,0.0250156184922949,0.0250156184922949,0.0250156184922949,0.0250156184922949,0.0250156184922949,0.0250156184922949,0.0250156184922949,0,0,0,0],\"fOption\":\"\",\"fFunctions\":{\"_typename\":\"TList\",\"name\":\"TList\",\"arr\":[],\"opt\":[]},\"fBufferSize\":0,\"fBuffer\":[],\"fBinStatErrOpt\":0,\"fStatOverflows\":2,\"fArray\":[0,1712.75,1242.531,626.3265,408.8521,322.4949,271.5663,233.6071,198.4949,164.0153,136.8112,106.9184,83.03571,64.84694,49.66327,38.11735,31.63265,27.04592,23.09184,19.45408,16.76531,14.23469,12.17857,10.91327,8.857142,7.908163,6.801021,5.852041,5.219388,4.744898,4.586735,4.428571,3.954082,3.321429,3.321429,3.321429,3.321429,3.005102,2.688776,2.214286,2.214286,2.056123,2.056123,1.739796,1.581633,1.581633,1.581633,1.423469,1.265306,1.107143,1.107143,1.107143,1.107143,1.107143,1.107143,0.9489796,0.9489796,0.6326531,0.4744898,0.4744898,0.4744898,0.4744898,0.4744898,0.4744898,0.4744898,0.4744898,0.4744898,0.4744898,0.4744898,0.4744898,0.4744898,0.4744898,0.4744898,0.4744898,0.4744898,0.4744898,0.4744898,0.4744898,0.3163265,0.3163265,0.3163265,0.3163265,0.3163265,0.3163265,0.3163265,0.3163265,0.3163265,0.3163265,0.3163265,0.3163265,0.3163265,0.1581633,0.1581633,0.1581633,0.1581633,0.1581633,0.1581633,0.1581633,0,0,0,0]},{\"_typename\":\"TLatex\",\"fUniqueID\":0,\"fBits\":50348040,\"fName\":\"\",\"fTitle\":\"PU200, TkEle Ell. match, hwQual 5, 1.52 < |#eta^{L1}| <= 2.4\",\"fTextAngle\":0,\"fTextSize\":0.03,\"fTextAlign\":11,\"fTextColor\":1,\"fTextFont\":62,\"fX\":0.15,\"fY\":0.85,\"fLineColor\":1,\"fLineStyle\":1,\"fLineWidth\":2,\"fLimitFactorSize\":3,\"fOriginSize\":0.04},{\"_typename\":\"TLatex\",\"fUniqueID\":0,\"fBits\":50331656,\"fName\":\"\",\"fTitle\":\"\",\"fTextAngle\":0,\"fTextSize\":0.03,\"fTextAlign\":11,\"fTextColor\":1,\"fTextFont\":62,\"fX\":0,\"fY\":0,\"fLineColor\":1,\"fLineStyle\":1,\"fLineWidth\":2,\"fLimitFactorSize\":3,\"fOriginSize\":0.04}],\"opt\":[\"\",\"\",\"same\",\"same\"]},\"fExecs\":null,\"fName\":\"c_2805b4\",\"fTitle\":\"c_2805b4\",\"fNumPaletteColor\":0,\"fNextPaletteColor\":0,\"fDISPLAY\":\"$DISPLAY\",\"fDoubleBuffer\":0,\"fRetained\":true,\"fXsizeUser\":0,\"fYsizeUser\":0,\"fXsizeReal\":20,\"fYsizeReal\":15,\"fWindowTopX\":0,\"fWindowTopY\":0,\"fWindowWidth\":0,\"fWindowHeight\":0,\"fCw\":796,\"fCh\":572,\"fCatt\":{\"_typename\":\"TAttCanvas\",\"fXBetween\":2,\"fYBetween\":2,\"fTitleFromTop\":1.2,\"fXdate\":0.2,\"fYdate\":0.3,\"fAdate\":1},\"kMoveOpaque\":true,\"kResizeOpaque\":true,\"fHighLightColor\":2,\"fBatch\":true,\"kShowEventStatus\":false,\"kAutoExec\":true,\"kMenuBar\":true});\n",
       "       Core.draw(\"root_plot_14\", obj, \"\");\n",
       "     }\n",
       " );\n",
       "</script>\n"
      ],
      "text/plain": [
       "<IPython.core.display.HTML object>"
      ]
     },
     "metadata": {},
     "output_type": "display_data"
    }
   ],
   "source": [
    "hsets, labels, text = hplot.get_histo(histos.RateHistos, ['hybrid', 'new-ID'], 'PU200', ['TkEleEL'], ['EGq5EtaBC'], None)\n",
    "for hist in hsets:\n",
    "    hist.normalize(31000)\n",
    "draw([his.h_pt for his in hsets], labels, text=text, logy=True)"
   ]
  },
  {
   "cell_type": "code",
   "execution_count": 53,
   "metadata": {},
   "outputs": [
    {
     "name": "stdout",
     "output_type": "stream",
     "text": [
      "normalize to 31000\n"
     ]
    },
    {
     "data": {
      "text/plain": [
       "<__main__.DrawMachine at 0x11cf34750>"
      ]
     },
     "execution_count": 53,
     "metadata": {},
     "output_type": "execute_result"
    },
    {
     "name": "stderr",
     "output_type": "stream",
     "text": [
      "Error in <THistPainter::PaintInit>: Cannot set Y axis to log scale\n"
     ]
    },
    {
     "data": {
      "text/html": [
       "\n",
       "<div id=\"root_plot_15\"\n",
       "     style=\"width: 796px; height: 572px\">\n",
       "</div>\n",
       "\n",
       "<script>\n",
       " requirejs.config({\n",
       "     paths: {\n",
       "       'JSRootCore' : 'https://root.cern.ch/js/notebook//scripts/JSRootCore',\n",
       "     }\n",
       "   });\n",
       " require(['JSRootCore'],\n",
       "     function(Core) {\n",
       "       var obj = Core.JSONR_unref({\"_typename\":\"TCanvas\",\"fUniqueID\":0,\"fBits\":53673992,\"fLineColor\":1,\"fLineStyle\":1,\"fLineWidth\":1,\"fFillColor\":0,\"fFillStyle\":1001,\"fLeftMargin\":0.13,\"fRightMargin\":0.3,\"fBottomMargin\":0.13,\"fTopMargin\":0.1,\"fXfile\":2,\"fYfile\":2,\"fAfile\":1,\"fXstat\":0.99,\"fYstat\":0.99,\"fAstat\":2,\"fFrameFillColor\":0,\"fFrameLineColor\":1,\"fFrameFillStyle\":1001,\"fFrameLineStyle\":1,\"fFrameLineWidth\":1,\"fFrameBorderSize\":1,\"fFrameBorderMode\":0,\"fX1\":-22.8070169934936,\"fY1\":-1.01065729083004,\"fX2\":152.631581699199,\"fY2\":4.27306723996192,\"fXtoAbsPixelk\":103.480046204376,\"fXtoPixelk\":103.480046204376,\"fXtoPixel\":4.53719994306564,\"fYtoAbsPixelk\":462.589355520033,\"fYtoPixelk\":462.589355520033,\"fYtoPixel\":-108.25696848247,\"fUtoAbsPixelk\":5e-5,\"fUtoPixelk\":5e-5,\"fUtoPixel\":796,\"fVtoAbsPixelk\":572.00005,\"fVtoPixelk\":572,\"fVtoPixel\":-572,\"fAbsPixeltoXk\":-22.8070169934936,\"fPixeltoXk\":-22.8070169934936,\"fPixeltoX\":0.220400249613935,\"fAbsPixeltoYk\":4.27306723996192,\"fPixeltoYk\":-1.01065729083004,\"fPixeltoY\":-0.00923728064823769,\"fXlowNDC\":0,\"fYlowNDC\":0,\"fXUpNDC\":0,\"fYUpNDC\":0,\"fWNDC\":1,\"fHNDC\":1,\"fAbsXlowNDC\":0,\"fAbsYlowNDC\":0,\"fAbsWNDC\":1,\"fAbsHNDC\":1,\"fUxmin\":0,\"fUymin\":-0.323773111668791,\"fUxmax\":100,\"fUymax\":3.74469476719931,\"fTheta\":30,\"fPhi\":30,\"fAspectRatio\":0,\"fNumber\":0,\"fTickx\":0,\"fTicky\":0,\"fLogx\":0,\"fLogy\":1,\"fLogz\":0,\"fPadPaint\":0,\"fCrosshair\":0,\"fCrosshairPos\":0,\"fBorderSize\":2,\"fBorderMode\":0,\"fModified\":false,\"fGridx\":true,\"fGridy\":true,\"fAbsCoord\":false,\"fEditable\":true,\"fFixedAspectRatio\":false,\"fPrimitives\":{\"_typename\":\"TList\",\"name\":\"TList\",\"arr\":[{\"_typename\":\"TFrame\",\"fUniqueID\":0,\"fBits\":50331656,\"fLineColor\":1,\"fLineStyle\":1,\"fLineWidth\":1,\"fFillColor\":0,\"fFillStyle\":1001,\"fX1\":0,\"fY1\":-0.323773111668791,\"fX2\":100,\"fY2\":3.74469476719931,\"fBorderSize\":1,\"fBorderMode\":0},{\"_typename\":\"TH1F\",\"fUniqueID\":0,\"fBits\":50332168,\"fName\":\"08254d\",\"fTitle\":\"\",\"fLineColor\":1,\"fLineStyle\":1,\"fLineWidth\":1,\"fFillColor\":0,\"fFillStyle\":1001,\"fMarkerColor\":1,\"fMarkerStyle\":1,\"fMarkerSize\":1,\"fNcells\":102,\"fXaxis\":{\"_typename\":\"TAxis\",\"fUniqueID\":0,\"fBits\":50331656,\"fName\":\"xaxis\",\"fTitle\":\" p_{T} [GeV]\",\"fNdivisions\":510,\"fAxisColor\":1,\"fLabelColor\":1,\"fLabelFont\":42,\"fLabelOffset\":0.005,\"fLabelSize\":0.035,\"fTickLength\":0.03,\"fTitleOffset\":1.4,\"fTitleSize\":0.035,\"fTitleColor\":1,\"fTitleFont\":42,\"fNbins\":100,\"fXmin\":0,\"fXmax\":100,\"fXbins\":[],\"fFirst\":0,\"fLast\":0,\"fBits2\":0,\"fTimeDisplay\":false,\"fTimeFormat\":\"\",\"fLabels\":null,\"fModLabs\":null},\"fYaxis\":{\"_typename\":\"TAxis\",\"fUniqueID\":0,\"fBits\":50331656,\"fName\":\"yaxis\",\"fTitle\":\" rate [kHz]\",\"fNdivisions\":510,\"fAxisColor\":1,\"fLabelColor\":1,\"fLabelFont\":42,\"fLabelOffset\":0.005,\"fLabelSize\":0.035,\"fTickLength\":0.03,\"fTitleOffset\":0,\"fTitleSize\":0.035,\"fTitleColor\":1,\"fTitleFont\":42,\"fNbins\":1,\"fXmin\":0,\"fXmax\":1,\"fXbins\":[],\"fFirst\":0,\"fLast\":0,\"fBits2\":0,\"fTimeDisplay\":false,\"fTimeFormat\":\"\",\"fLabels\":null,\"fModLabs\":null},\"fZaxis\":{\"_typename\":\"TAxis\",\"fUniqueID\":0,\"fBits\":50331648,\"fName\":\"zaxis\",\"fTitle\":\"\",\"fNdivisions\":510,\"fAxisColor\":1,\"fLabelColor\":1,\"fLabelFont\":42,\"fLabelOffset\":0.005,\"fLabelSize\":0.035,\"fTickLength\":0.03,\"fTitleOffset\":1,\"fTitleSize\":0.035,\"fTitleColor\":1,\"fTitleFont\":42,\"fNbins\":1,\"fXmin\":0,\"fXmax\":1,\"fXbins\":[],\"fFirst\":0,\"fLast\":0,\"fBits2\":0,\"fTimeDisplay\":false,\"fTimeFormat\":\"\",\"fLabels\":null,\"fModLabs\":null},\"fBarOffset\":0,\"fBarWidth\":1000,\"fEntries\":170068,\"fTsumw\":169947,\"fTsumw2\":169947,\"fTsumwx\":853043,\"fTsumwx2\":12588357,\"fMaximum\":5555.1369140625,\"fMinimum\":0.474489808082581,\"fNormFactor\":0,\"fContour\":[],\"fSumw2\":[0,732.182137650979,665.790686172428,528.304846938776,421.363077884215,341.313098708871,276.322521865889,223.214363806747,180.687812369846,147.467071012078,120.700359225323,98.7866774260725,79.57468242399,64.6153425655977,51.7823302790504,42.501535818409,35.372084548105,30.1688359017076,25.2157434402332,21.7385724698043,18.1363234069138,14.1838556851312,12.4077467721783,11.0819189920866,9.70605997501041,8.93057580174927,7.97998229904207,7.3295762182424,6.40399833402749,5.80362349021241,5.07817055393586,4.32770199916701,3.55221782590587,3.22701478550604,3.05190545605998,2.9268273635985,2.75171803415244,2.50156184922949,2.30143690129113,2.15134319033736,2.05128071636818,1.75109329446064,1.65103082049146,1.55096834652228,1.4759214910454,1.37585901707622,1.27579654310704,1.20074968763015,1.10068721366097,1.0006247396918,0.950593502707205,0.850531028738026,0.800499791753436,0.750468554768846,0.725452936276551,0.675421699291962,0.675421699291962,0.550343606830487,0.525327988338192,0.450281132861308,0.450281132861308,0.400249895876718,0.375234277384423,0.325203040399833,0.300187421907539,0.300187421907539,0.300187421907539,0.300187421907539,0.300187421907539,0.300187421907539,0.300187421907539,0.300187421907539,0.250156184922949,0.250156184922949,0.250156184922949,0.250156184922949,0.250156184922949,0.250156184922949,0.225140566430654,0.225140566430654,0.225140566430654,0.225140566430654,0.200124947938359,0.175109329446064,0.175109329446064,0.175109329446064,0.175109329446064,0.175109329446064,0.175109329446064,0.175109329446064,0.175109329446064,0.125078092461474,0.125078092461474,0.125078092461474,0.125078092461474,0.125078092461474,0.10006247396918,0.10006247396918,0.0750468554768846,0.0750468554768846,0.0750468554768846,3.02688983756768],\"fOption\":\"\",\"fFunctions\":{\"_typename\":\"TList\",\"name\":\"TList\",\"arr\":[],\"opt\":[]},\"fBufferSize\":0,\"fBuffer\":[],\"fBinStatErrOpt\":0,\"fStatOverflows\":2,\"fArray\":[0,4629.281,4209.515,3340.25,2664.102,2157.979,1747.071,1411.291,1142.413,932.3724,763.1378,624.5867,503.1173,408.5357,327.3979,268.7194,223.6429,190.7449,159.4286,137.4439,114.6684,89.67857,78.44898,70.06633,61.36735,56.46429,50.45408,46.34184,40.4898,36.69388,32.10714,27.36225,22.45918,20.40306,19.29592,18.5051,17.39796,15.81633,14.55102,13.60204,12.96939,11.07143,10.43878,9.806123,9.331633,8.698979,8.066326,7.591837,6.959184,6.32653,6.010204,5.377551,5.061224,4.744898,4.586735,4.270408,4.270408,3.479592,3.321429,2.846939,2.846939,2.530612,2.372449,2.056123,1.897959,1.897959,1.897959,1.897959,1.897959,1.897959,1.897959,1.897959,1.581633,1.581633,1.581633,1.581633,1.581633,1.581633,1.423469,1.423469,1.423469,1.423469,1.265306,1.107143,1.107143,1.107143,1.107143,1.107143,1.107143,1.107143,1.107143,0.7908163,0.7908163,0.7908163,0.7908163,0.7908163,0.6326531,0.6326531,0.4744898,0.4744898,0.4744898,19.13775]},{\"_typename\":\"TLatex\",\"fUniqueID\":0,\"fBits\":50348040,\"fName\":\"\",\"fTitle\":\"PU200, TkEle Ell. match all, LooseTkID\",\"fTextAngle\":0,\"fTextSize\":0.03,\"fTextAlign\":11,\"fTextColor\":1,\"fTextFont\":62,\"fX\":0.15,\"fY\":0.85,\"fLineColor\":1,\"fLineStyle\":1,\"fLineWidth\":2,\"fLimitFactorSize\":3,\"fOriginSize\":0.04},{\"_typename\":\"TLatex\",\"fUniqueID\":0,\"fBits\":50331656,\"fName\":\"\",\"fTitle\":\"\",\"fTextAngle\":0,\"fTextSize\":0.03,\"fTextAlign\":11,\"fTextColor\":1,\"fTextFont\":62,\"fX\":0,\"fY\":0,\"fLineColor\":1,\"fLineStyle\":1,\"fLineWidth\":2,\"fLimitFactorSize\":3,\"fOriginSize\":0.04}],\"opt\":[\"\",\"\",\"same\",\"same\"]},\"fExecs\":null,\"fName\":\"c_55d7b6\",\"fTitle\":\"c_55d7b6\",\"fNumPaletteColor\":0,\"fNextPaletteColor\":0,\"fDISPLAY\":\"$DISPLAY\",\"fDoubleBuffer\":0,\"fRetained\":true,\"fXsizeUser\":0,\"fYsizeUser\":0,\"fXsizeReal\":20,\"fYsizeReal\":15,\"fWindowTopX\":0,\"fWindowTopY\":0,\"fWindowWidth\":0,\"fWindowHeight\":0,\"fCw\":796,\"fCh\":572,\"fCatt\":{\"_typename\":\"TAttCanvas\",\"fXBetween\":2,\"fYBetween\":2,\"fTitleFromTop\":1.2,\"fXdate\":0.2,\"fYdate\":0.3,\"fAdate\":1},\"kMoveOpaque\":true,\"kResizeOpaque\":true,\"fHighLightColor\":2,\"fBatch\":true,\"kShowEventStatus\":false,\"kAutoExec\":true,\"kMenuBar\":true});\n",
       "       Core.draw(\"root_plot_15\", obj, \"\");\n",
       "     }\n",
       " );\n",
       "</script>\n"
      ],
      "text/plain": [
       "<IPython.core.display.HTML object>"
      ]
     },
     "metadata": {},
     "output_type": "display_data"
    }
   ],
   "source": [
    "hsets, labels, text = hplot.get_histo(histos.RateHistos, ['hybrid', 'new-ID'], 'PU200', ['TkEleELALL'], ['LooseTkID'], None)\n",
    "for hist in hsets:\n",
    "    hist.normalize(31000)\n",
    "draw([his.h_pt for his in hsets], labels, text=text, logy=True)"
   ]
  },
  {
   "cell_type": "code",
   "execution_count": 54,
   "metadata": {},
   "outputs": [
    {
     "name": "stdout",
     "output_type": "stream",
     "text": [
      "normalize to 31000\n"
     ]
    },
    {
     "data": {
      "text/plain": [
       "<__main__.DrawMachine at 0x10dc4abd0>"
      ]
     },
     "execution_count": 54,
     "metadata": {},
     "output_type": "execute_result"
    },
    {
     "data": {
      "text/html": [
       "\n",
       "<div id=\"root_plot_16\"\n",
       "     style=\"width: 796px; height: 572px\">\n",
       "</div>\n",
       "\n",
       "<script>\n",
       " requirejs.config({\n",
       "     paths: {\n",
       "       'JSRootCore' : 'https://root.cern.ch/js/notebook//scripts/JSRootCore',\n",
       "     }\n",
       "   });\n",
       " require(['JSRootCore'],\n",
       "     function(Core) {\n",
       "       var obj = Core.JSONR_unref({\"_typename\":\"TCanvas\",\"fUniqueID\":0,\"fBits\":53673992,\"fLineColor\":1,\"fLineStyle\":1,\"fLineWidth\":1,\"fFillColor\":0,\"fFillStyle\":1001,\"fLeftMargin\":0.13,\"fRightMargin\":0.3,\"fBottomMargin\":0.13,\"fTopMargin\":0.1,\"fXfile\":2,\"fYfile\":2,\"fAfile\":1,\"fXstat\":0.99,\"fYstat\":0.99,\"fAstat\":2,\"fFrameFillColor\":0,\"fFrameLineColor\":1,\"fFrameFillStyle\":1001,\"fFrameLineStyle\":1,\"fFrameLineWidth\":1,\"fFrameBorderSize\":1,\"fFrameBorderMode\":0,\"fX1\":-22.8070169934936,\"fY1\":-0.981367176461166,\"fX2\":152.631581699199,\"fY2\":4.07704877903428,\"fXtoAbsPixelk\":103.480046204376,\"fXtoPixelk\":103.480046204376,\"fXtoPixel\":4.53719994306564,\"fYtoAbsPixelk\":461.028150916464,\"fYtoPixelk\":461.028150916464,\"fYtoPixel\":-113.078877860683,\"fUtoAbsPixelk\":5e-5,\"fUtoPixelk\":5e-5,\"fUtoPixel\":796,\"fVtoAbsPixelk\":572.00005,\"fVtoPixelk\":572,\"fVtoPixel\":-572,\"fAbsPixeltoXk\":-22.8070169934936,\"fPixeltoXk\":-22.8070169934936,\"fPixeltoX\":0.220400249613935,\"fAbsPixeltoYk\":4.07704877903428,\"fPixeltoYk\":-0.981367176461166,\"fPixeltoY\":-0.00884338453757946,\"fXlowNDC\":0,\"fYlowNDC\":0,\"fXUpNDC\":0,\"fYUpNDC\":0,\"fWNDC\":1,\"fHNDC\":1,\"fAbsXlowNDC\":0,\"fAbsYlowNDC\":0,\"fAbsWNDC\":1,\"fAbsHNDC\":1,\"fUxmin\":0,\"fUymin\":-0.323773111668791,\"fUxmax\":100,\"fUymax\":3.57120716464067,\"fTheta\":30,\"fPhi\":30,\"fAspectRatio\":0,\"fNumber\":0,\"fTickx\":0,\"fTicky\":0,\"fLogx\":0,\"fLogy\":1,\"fLogz\":0,\"fPadPaint\":0,\"fCrosshair\":0,\"fCrosshairPos\":0,\"fBorderSize\":2,\"fBorderMode\":0,\"fModified\":false,\"fGridx\":true,\"fGridy\":true,\"fAbsCoord\":false,\"fEditable\":true,\"fFixedAspectRatio\":false,\"fPrimitives\":{\"_typename\":\"TList\",\"name\":\"TList\",\"arr\":[{\"_typename\":\"TFrame\",\"fUniqueID\":0,\"fBits\":50331656,\"fLineColor\":1,\"fLineStyle\":1,\"fLineWidth\":1,\"fFillColor\":0,\"fFillStyle\":1001,\"fX1\":0,\"fY1\":-0.323773111668791,\"fX2\":100,\"fY2\":3.57120716464067,\"fBorderSize\":1,\"fBorderMode\":0},{\"_typename\":\"TH1F\",\"fUniqueID\":0,\"fBits\":50332168,\"fName\":\"168f59\",\"fTitle\":\"\",\"fLineColor\":1,\"fLineStyle\":1,\"fLineWidth\":1,\"fFillColor\":0,\"fFillStyle\":1001,\"fMarkerColor\":1,\"fMarkerStyle\":1,\"fMarkerSize\":1,\"fNcells\":102,\"fXaxis\":{\"_typename\":\"TAxis\",\"fUniqueID\":0,\"fBits\":50331656,\"fName\":\"xaxis\",\"fTitle\":\" p_{T} [GeV]\",\"fNdivisions\":510,\"fAxisColor\":1,\"fLabelColor\":1,\"fLabelFont\":42,\"fLabelOffset\":0.005,\"fLabelSize\":0.035,\"fTickLength\":0.03,\"fTitleOffset\":1.4,\"fTitleSize\":0.035,\"fTitleColor\":1,\"fTitleFont\":42,\"fNbins\":100,\"fXmin\":0,\"fXmax\":100,\"fXbins\":[],\"fFirst\":0,\"fLast\":0,\"fBits2\":0,\"fTimeDisplay\":false,\"fTimeFormat\":\"\",\"fLabels\":null,\"fModLabs\":null},\"fYaxis\":{\"_typename\":\"TAxis\",\"fUniqueID\":0,\"fBits\":50331656,\"fName\":\"yaxis\",\"fTitle\":\" rate [kHz]\",\"fNdivisions\":510,\"fAxisColor\":1,\"fLabelColor\":1,\"fLabelFont\":42,\"fLabelOffset\":0.005,\"fLabelSize\":0.035,\"fTickLength\":0.03,\"fTitleOffset\":0,\"fTitleSize\":0.035,\"fTitleColor\":1,\"fTitleFont\":42,\"fNbins\":1,\"fXmin\":0,\"fXmax\":1,\"fXbins\":[],\"fFirst\":0,\"fLast\":0,\"fBits2\":0,\"fTimeDisplay\":false,\"fTimeFormat\":\"\",\"fLabels\":null,\"fModLabs\":null},\"fZaxis\":{\"_typename\":\"TAxis\",\"fUniqueID\":0,\"fBits\":50331648,\"fName\":\"zaxis\",\"fTitle\":\"\",\"fNdivisions\":510,\"fAxisColor\":1,\"fLabelColor\":1,\"fLabelFont\":42,\"fLabelOffset\":0.005,\"fLabelSize\":0.035,\"fTickLength\":0.03,\"fTitleOffset\":1,\"fTitleSize\":0.035,\"fTitleColor\":1,\"fTitleFont\":42,\"fNbins\":1,\"fXmin\":0,\"fXmax\":1,\"fXbins\":[],\"fFirst\":0,\"fLast\":0,\"fBits2\":0,\"fTimeDisplay\":false,\"fTimeFormat\":\"\",\"fLabels\":null,\"fModLabs\":null},\"fBarOffset\":0,\"fBarWidth\":1000,\"fEntries\":135448,\"fTsumw\":135327,\"fTsumw2\":135327,\"fTsumwx\":712147,\"fTsumwx2\":10371245,\"fMaximum\":3725.69384765625,\"fMinimum\":0.474489808082581,\"fNormFactor\":0,\"fContour\":[],\"fSumw2\":[0,491.056591003748,491.056591003748,438.848995210329,361.550734069138,293.33314244065,235.096782590587,187.241904414827,149.918601624323,121.725999583507,99.1368960849646,81.8260880882965,66.3914514785506,54.2838921282799,43.9024104539775,36.4977873802582,30.3189296126614,25.8411339025406,21.5134319033736,18.5866045397751,15.3595897542691,11.8574031653478,10.4064972927947,9.2807944606414,8.23013848396502,7.62976364014994,6.8542794668888,6.3539670970429,5.55346730528946,5.02813931695127,4.32770199916701,3.62726468138276,2.9268273635985,2.70168679716785,2.52657746772178,2.40149937526031,2.22639004581424,2.02626509787589,1.87617138692212,1.80112453144523,1.70106205747605,1.42589025406081,1.32582778009163,1.27579654310704,1.22576530612245,1.12570283215327,1.02564035818409,0.9756091211995,0.900562265722616,0.825515410245731,0.775484173261141,0.675421699291962,0.625390462307372,0.575359225322782,0.550343606830487,0.525327988338192,0.525327988338192,0.450281132861308,0.450281132861308,0.375234277384423,0.375234277384423,0.325203040399833,0.300187421907539,0.250156184922949,0.225140566430654,0.225140566430654,0.225140566430654,0.225140566430654,0.225140566430654,0.225140566430654,0.225140566430654,0.225140566430654,0.175109329446064,0.175109329446064,0.175109329446064,0.175109329446064,0.175109329446064,0.175109329446064,0.175109329446064,0.175109329446064,0.175109329446064,0.175109329446064,0.150093710953769,0.125078092461474,0.125078092461474,0.125078092461474,0.125078092461474,0.125078092461474,0.125078092461474,0.125078092461474,0.125078092461474,0.10006247396918,0.10006247396918,0.10006247396918,0.10006247396918,0.10006247396918,0.0750468554768846,0.0750468554768846,0.0750468554768846,0.0750468554768846,0.0750468554768846,3.02688983756768],\"fOption\":\"\",\"fFunctions\":{\"_typename\":\"TList\",\"name\":\"TList\",\"arr\":[],\"opt\":[]},\"fBufferSize\":0,\"fBuffer\":[],\"fBinStatErrOpt\":0,\"fStatOverflows\":2,\"fArray\":[0,3104.745,3104.745,2774.658,2285.934,1854.622,1486.418,1183.852,947.8724,769.6224,626.801,517.3521,419.7653,343.2143,277.5765,230.7602,191.6939,163.3827,136.0204,117.5153,97.11224,74.96939,65.79592,58.67857,52.03571,48.2398,43.33673,40.17347,35.11224,31.79082,27.36225,22.93367,18.5051,17.08163,15.97449,15.18367,14.07653,12.81122,11.86224,11.38776,10.7551,9.015306,8.382653,8.066326,7.75,7.117347,6.484694,6.168367,5.693878,5.219388,4.903061,4.270408,3.954082,3.637755,3.479592,3.321429,3.321429,2.846939,2.846939,2.372449,2.372449,2.056123,1.897959,1.581633,1.423469,1.423469,1.423469,1.423469,1.423469,1.423469,1.423469,1.423469,1.107143,1.107143,1.107143,1.107143,1.107143,1.107143,1.107143,1.107143,1.107143,1.107143,0.9489796,0.7908163,0.7908163,0.7908163,0.7908163,0.7908163,0.7908163,0.7908163,0.7908163,0.6326531,0.6326531,0.6326531,0.6326531,0.6326531,0.4744898,0.4744898,0.4744898,0.4744898,0.4744898,19.13775]},{\"_typename\":\"TLatex\",\"fUniqueID\":0,\"fBits\":50348040,\"fName\":\"\",\"fTitle\":\"PU200, TkEle Ell. match all, |#eta^{L1}| <= 1.479, LooseTkID\",\"fTextAngle\":0,\"fTextSize\":0.03,\"fTextAlign\":11,\"fTextColor\":1,\"fTextFont\":62,\"fX\":0.15,\"fY\":0.85,\"fLineColor\":1,\"fLineStyle\":1,\"fLineWidth\":2,\"fLimitFactorSize\":3,\"fOriginSize\":0.04},{\"_typename\":\"TLatex\",\"fUniqueID\":0,\"fBits\":50331656,\"fName\":\"\",\"fTitle\":\"\",\"fTextAngle\":0,\"fTextSize\":0.03,\"fTextAlign\":11,\"fTextColor\":1,\"fTextFont\":62,\"fX\":0,\"fY\":0,\"fLineColor\":1,\"fLineStyle\":1,\"fLineWidth\":2,\"fLimitFactorSize\":3,\"fOriginSize\":0.04}],\"opt\":[\"\",\"\",\"same\",\"same\"]},\"fExecs\":null,\"fName\":\"c_e5f739\",\"fTitle\":\"c_e5f739\",\"fNumPaletteColor\":0,\"fNextPaletteColor\":0,\"fDISPLAY\":\"$DISPLAY\",\"fDoubleBuffer\":0,\"fRetained\":true,\"fXsizeUser\":0,\"fYsizeUser\":0,\"fXsizeReal\":20,\"fYsizeReal\":15,\"fWindowTopX\":0,\"fWindowTopY\":0,\"fWindowWidth\":0,\"fWindowHeight\":0,\"fCw\":796,\"fCh\":572,\"fCatt\":{\"_typename\":\"TAttCanvas\",\"fXBetween\":2,\"fYBetween\":2,\"fTitleFromTop\":1.2,\"fXdate\":0.2,\"fYdate\":0.3,\"fAdate\":1},\"kMoveOpaque\":true,\"kResizeOpaque\":true,\"fHighLightColor\":2,\"fBatch\":true,\"kShowEventStatus\":false,\"kAutoExec\":true,\"kMenuBar\":true});\n",
       "       Core.draw(\"root_plot_16\", obj, \"\");\n",
       "     }\n",
       " );\n",
       "</script>\n"
      ],
      "text/plain": [
       "<IPython.core.display.HTML object>"
      ]
     },
     "metadata": {},
     "output_type": "display_data"
    }
   ],
   "source": [
    "hsets, labels, text = hplot.get_histo(histos.RateHistos, ['hybrid', 'new-ID'], 'PU200', ['TkEleELALL'], ['EtaFLooseTkID'], None)\n",
    "for hist in hsets:\n",
    "    hist.normalize(31000)\n",
    "draw([his.h_pt for his in hsets], labels, text=text, logy=True)"
   ]
  },
  {
   "cell_type": "code",
   "execution_count": 55,
   "metadata": {},
   "outputs": [
    {
     "name": "stdout",
     "output_type": "stream",
     "text": [
      "normalize to 31000\n",
      "normalize to 31000\n"
     ]
    },
    {
     "data": {
      "text/plain": [
       "<__main__.DrawMachine at 0x10dc584d0>"
      ]
     },
     "execution_count": 55,
     "metadata": {},
     "output_type": "execute_result"
    },
    {
     "name": "stderr",
     "output_type": "stream",
     "text": [
      "Error in <THistPainter::PaintInit>: Cannot set Y axis to log scale\n",
      "Error in <THistPainter::PaintInit>: Cannot set Y axis to log scale\n",
      "Error in <THistPainter::PaintInit>: Cannot set Y axis to log scale\n",
      "Error in <THistPainter::PaintInit>: Cannot set Y axis to log scale\n",
      "Error in <THistPainter::PaintInit>: Cannot set Y axis to log scale\n",
      "Error in <THistPainter::PaintInit>: Cannot set Y axis to log scale\n"
     ]
    },
    {
     "data": {
      "text/html": [
       "\n",
       "<div id=\"root_plot_17\"\n",
       "     style=\"width: 796px; height: 572px\">\n",
       "</div>\n",
       "\n",
       "<script>\n",
       " requirejs.config({\n",
       "     paths: {\n",
       "       'JSRootCore' : 'https://root.cern.ch/js/notebook//scripts/JSRootCore',\n",
       "     }\n",
       "   });\n",
       " require(['JSRootCore'],\n",
       "     function(Core) {\n",
       "       var obj = Core.JSONR_unref({\"_typename\":\"TCanvas\",\"fUniqueID\":0,\"fBits\":53673992,\"fLineColor\":1,\"fLineStyle\":1,\"fLineWidth\":1,\"fFillColor\":0,\"fFillStyle\":1001,\"fLeftMargin\":0.13,\"fRightMargin\":0.3,\"fBottomMargin\":0.13,\"fTopMargin\":0.1,\"fXfile\":2,\"fYfile\":2,\"fAfile\":1,\"fXstat\":0.99,\"fYstat\":0.99,\"fAstat\":2,\"fFrameFillColor\":0,\"fFrameLineColor\":1,\"fFrameFillStyle\":1001,\"fFrameLineStyle\":1,\"fFrameLineWidth\":1,\"fFrameBorderSize\":1,\"fFrameBorderMode\":0,\"fX1\":-22.8070169934936,\"fY1\":-347.062775518811,\"fX2\":152.631581699199,\"fY2\":2322.65092056996,\"fXtoAbsPixelk\":103.480046204376,\"fXtoPixelk\":103.480046204376,\"fXtoPixel\":4.53719994306564,\"fYtoAbsPixelk\":497.640051065433,\"fYtoPixelk\":497.640051065433,\"fYtoPixel\":-0.214255184306093,\"fUtoAbsPixelk\":5e-5,\"fUtoPixelk\":5e-5,\"fUtoPixel\":796,\"fVtoAbsPixelk\":572.00005,\"fVtoPixelk\":572,\"fVtoPixel\":-572,\"fAbsPixeltoXk\":-22.8070169934936,\"fPixeltoXk\":-22.8070169934936,\"fPixeltoX\":0.220400249613935,\"fAbsPixeltoYk\":2322.65092056996,\"fPixeltoYk\":-347.062775518811,\"fPixeltoY\":-4.66733163651883,\"fXlowNDC\":0,\"fYlowNDC\":0,\"fXUpNDC\":0,\"fYUpNDC\":0,\"fWNDC\":1,\"fHNDC\":1,\"fAbsXlowNDC\":0,\"fAbsYlowNDC\":0,\"fAbsWNDC\":1,\"fAbsHNDC\":1,\"fUxmin\":0,\"fUymin\":0,\"fUxmax\":100,\"fUymax\":2055.67954101563,\"fTheta\":30,\"fPhi\":30,\"fAspectRatio\":0,\"fNumber\":0,\"fTickx\":0,\"fTicky\":0,\"fLogx\":0,\"fLogy\":1,\"fLogz\":0,\"fPadPaint\":0,\"fCrosshair\":0,\"fCrosshairPos\":0,\"fBorderSize\":2,\"fBorderMode\":0,\"fModified\":false,\"fGridx\":true,\"fGridy\":true,\"fAbsCoord\":false,\"fEditable\":true,\"fFixedAspectRatio\":false,\"fPrimitives\":{\"_typename\":\"TList\",\"name\":\"TList\",\"arr\":[{\"_typename\":\"TFrame\",\"fUniqueID\":0,\"fBits\":50331656,\"fLineColor\":1,\"fLineStyle\":1,\"fLineWidth\":1,\"fFillColor\":0,\"fFillStyle\":1001,\"fX1\":0,\"fY1\":0,\"fX2\":100,\"fY2\":2055.67954101563,\"fBorderSize\":1,\"fBorderMode\":0},{\"_typename\":\"TH1F\",\"fUniqueID\":0,\"fBits\":50332168,\"fName\":\"a4205d\",\"fTitle\":\"\",\"fLineColor\":1,\"fLineStyle\":1,\"fLineWidth\":1,\"fFillColor\":0,\"fFillStyle\":1001,\"fMarkerColor\":1,\"fMarkerStyle\":1,\"fMarkerSize\":1,\"fNcells\":102,\"fXaxis\":{\"_typename\":\"TAxis\",\"fUniqueID\":0,\"fBits\":50331656,\"fName\":\"xaxis\",\"fTitle\":\" p_{T} [GeV]\",\"fNdivisions\":510,\"fAxisColor\":1,\"fLabelColor\":1,\"fLabelFont\":42,\"fLabelOffset\":0.005,\"fLabelSize\":0.035,\"fTickLength\":0.03,\"fTitleOffset\":1.4,\"fTitleSize\":0.035,\"fTitleColor\":1,\"fTitleFont\":42,\"fNbins\":100,\"fXmin\":0,\"fXmax\":100,\"fXbins\":[],\"fFirst\":0,\"fLast\":0,\"fBits2\":0,\"fTimeDisplay\":false,\"fTimeFormat\":\"\",\"fLabels\":null,\"fModLabs\":null},\"fYaxis\":{\"_typename\":\"TAxis\",\"fUniqueID\":0,\"fBits\":50331656,\"fName\":\"yaxis\",\"fTitle\":\" rate [kHz]\",\"fNdivisions\":510,\"fAxisColor\":1,\"fLabelColor\":1,\"fLabelFont\":42,\"fLabelOffset\":0.005,\"fLabelSize\":0.035,\"fTickLength\":0.03,\"fTitleOffset\":0,\"fTitleSize\":0.035,\"fTitleColor\":1,\"fTitleFont\":42,\"fNbins\":1,\"fXmin\":0,\"fXmax\":1,\"fXbins\":[],\"fFirst\":0,\"fLast\":0,\"fBits2\":0,\"fTimeDisplay\":false,\"fTimeFormat\":\"\",\"fLabels\":null,\"fModLabs\":null},\"fZaxis\":{\"_typename\":\"TAxis\",\"fUniqueID\":0,\"fBits\":50331648,\"fName\":\"zaxis\",\"fTitle\":\"\",\"fNdivisions\":510,\"fAxisColor\":1,\"fLabelColor\":1,\"fLabelFont\":42,\"fLabelOffset\":0.005,\"fLabelSize\":0.035,\"fTickLength\":0.03,\"fTitleOffset\":1,\"fTitleSize\":0.035,\"fTitleColor\":1,\"fTitleFont\":42,\"fNbins\":1,\"fXmin\":0,\"fXmax\":1,\"fXbins\":[],\"fFirst\":0,\"fLast\":0,\"fBits2\":0,\"fTimeDisplay\":false,\"fTimeFormat\":\"\",\"fLabels\":null,\"fModLabs\":null},\"fBarOffset\":0,\"fBarWidth\":1000,\"fEntries\":35224,\"fTsumw\":35219,\"fTsumw2\":35219,\"fTsumwx\":139478,\"fTsumwx2\":2313658,\"fMaximum\":2055.67954101563,\"fMinimum\":0,\"fNormFactor\":0,\"fContour\":[],\"fSumw2\":[0,247.929794877135,199.749713660975,94.5840535193669,55.1594387755102,39.9499427321949,37.7985995418576,31.7448198667222,27.6172428154935,24.3151811745106,20.5378227821741,17.7610891295294,15.3095585172845,10.8317628071637,8.43026343190337,6.97935755935027,5.57848292378176,4.30268638067472,3.4271397334444,2.87679612661391,2.4515306122449,2.17635880882965,1.87617138692212,1.75109329446064,1.55096834652228,1.32582778009163,1.02564035818409,0.92557788421491,0.850531028738026,0.675421699291962,0.525327988338192,0.525327988338192,0.525327988338192,0.525327988338192,0.500312369845898,0.475296751353603,0.450281132861308,0.400249895876718,0.400249895876718,0.400249895876718,0.375234277384423,0.350218658892128,0.350218658892128,0.325203040399833,0.300187421907539,0.225140566430654,0.225140566430654,0.225140566430654,0.200124947938359,0.200124947938359,0.200124947938359,0.175109329446064,0.150093710953769,0.150093710953769,0.125078092461474,0.125078092461474,0.125078092461474,0.125078092461474,0.125078092461474,0.10006247396918,0.10006247396918,0.10006247396918,0.0750468554768846,0.0750468554768846,0.0750468554768846,0.0750468554768846,0.0750468554768846,0.0750468554768846,0.0750468554768846,0.0750468554768846,0.0750468554768846,0.0750468554768846,0.0750468554768846,0.0750468554768846,0.0750468554768846,0.0750468554768846,0.0750468554768846,0.0750468554768846,0.0750468554768846,0.0750468554768846,0.0750468554768846,0.0750468554768846,0.0750468554768846,0.0750468554768846,0.0750468554768846,0.0500312369845898,0.0500312369845898,0.0500312369845898,0.0500312369845898,0.0500312369845898,0.0500312369845898,0.0500312369845898,0.0500312369845898,0.0500312369845898,0.0500312369845898,0.0500312369845898,0.0500312369845898,0.0250156184922949,0.0250156184922949,0.0250156184922949,0.0250156184922949,0.125078092461474],\"fOption\":\"\",\"fFunctions\":{\"_typename\":\"TList\",\"name\":\"TList\",\"arr\":[],\"opt\":[]},\"fBufferSize\":0,\"fBuffer\":[],\"fBinStatErrOpt\":0,\"fStatOverflows\":2,\"fArray\":[0,1567.556,1262.934,598.0153,348.75,252.5867,238.9847,200.7092,174.6122,153.7347,129.852,112.2959,96.79592,68.4847,53.30102,44.12755,35.27041,27.20408,21.66837,18.18878,15.5,13.7602,11.86224,11.07143,9.806123,8.382653,6.484694,5.852041,5.377551,4.270408,3.321429,3.321429,3.321429,3.321429,3.163265,3.005102,2.846939,2.530612,2.530612,2.530612,2.372449,2.214286,2.214286,2.056123,1.897959,1.423469,1.423469,1.423469,1.265306,1.265306,1.265306,1.107143,0.9489796,0.9489796,0.7908163,0.7908163,0.7908163,0.7908163,0.7908163,0.6326531,0.6326531,0.6326531,0.4744898,0.4744898,0.4744898,0.4744898,0.4744898,0.4744898,0.4744898,0.4744898,0.4744898,0.4744898,0.4744898,0.4744898,0.4744898,0.4744898,0.4744898,0.4744898,0.4744898,0.4744898,0.4744898,0.4744898,0.4744898,0.4744898,0.4744898,0.3163265,0.3163265,0.3163265,0.3163265,0.3163265,0.3163265,0.3163265,0.3163265,0.3163265,0.3163265,0.3163265,0.3163265,0.1581633,0.1581633,0.1581633,0.1581633,0.7908163]},{\"_typename\":\"TH1F\",\"fUniqueID\":0,\"fBits\":50332168,\"fName\":\"68aad6\",\"fTitle\":\"\",\"fLineColor\":628,\"fLineStyle\":1,\"fLineWidth\":1,\"fFillColor\":0,\"fFillStyle\":1001,\"fMarkerColor\":1,\"fMarkerStyle\":1,\"fMarkerSize\":1,\"fNcells\":102,\"fXaxis\":{\"_typename\":\"TAxis\",\"fUniqueID\":0,\"fBits\":50331656,\"fName\":\"xaxis\",\"fTitle\":\" p_{T} [GeV]\",\"fNdivisions\":510,\"fAxisColor\":1,\"fLabelColor\":1,\"fLabelFont\":42,\"fLabelOffset\":0.005,\"fLabelSize\":0.035,\"fTickLength\":0.03,\"fTitleOffset\":1.4,\"fTitleSize\":0.035,\"fTitleColor\":1,\"fTitleFont\":42,\"fNbins\":100,\"fXmin\":0,\"fXmax\":100,\"fXbins\":[],\"fFirst\":0,\"fLast\":0,\"fBits2\":0,\"fTimeDisplay\":false,\"fTimeFormat\":\"\",\"fLabels\":null,\"fModLabs\":null},\"fYaxis\":{\"_typename\":\"TAxis\",\"fUniqueID\":0,\"fBits\":50331656,\"fName\":\"yaxis\",\"fTitle\":\" rate [kHz]\",\"fNdivisions\":510,\"fAxisColor\":1,\"fLabelColor\":1,\"fLabelFont\":42,\"fLabelOffset\":0.005,\"fLabelSize\":0.035,\"fTickLength\":0.03,\"fTitleOffset\":0,\"fTitleSize\":0.035,\"fTitleColor\":1,\"fTitleFont\":42,\"fNbins\":1,\"fXmin\":0,\"fXmax\":1,\"fXbins\":[],\"fFirst\":0,\"fLast\":0,\"fBits2\":0,\"fTimeDisplay\":false,\"fTimeFormat\":\"\",\"fLabels\":null,\"fModLabs\":null},\"fZaxis\":{\"_typename\":\"TAxis\",\"fUniqueID\":0,\"fBits\":50331648,\"fName\":\"zaxis\",\"fTitle\":\"\",\"fNdivisions\":510,\"fAxisColor\":1,\"fLabelColor\":1,\"fLabelFont\":42,\"fLabelOffset\":0.005,\"fLabelSize\":0.035,\"fTickLength\":0.03,\"fTitleOffset\":1,\"fTitleSize\":0.035,\"fTitleColor\":1,\"fTitleFont\":42,\"fNbins\":1,\"fXmin\":0,\"fXmax\":1,\"fXbins\":[],\"fFirst\":0,\"fLast\":0,\"fBits2\":0,\"fTimeDisplay\":false,\"fTimeFormat\":\"\",\"fLabels\":null,\"fModLabs\":null},\"fBarOffset\":0,\"fBarWidth\":1000,\"fEntries\":43531,\"fTsumw\":43526,\"fTsumw2\":43526,\"fTsumwx\":193848,\"fTsumwx2\":3037994,\"fMaximum\":2055.67954101563,\"fMinimum\":0,\"fNormFactor\":0,\"fContour\":[],\"fSumw2\":[0,270.944163890046,221.588348604748,113.045579966681,71.8948875468555,55.1094075385256,52.5828300708038,45.7535662224073,40.6003488129946,36.222615576843,31.2945387338609,26.8167430237401,23.2645251978342,16.7354487713453,12.5328248646397,10.181356726364,8.18010724698043,6.30393586005831,5.25327988338192,4.4027488546439,3.80237401082882,3.30206164098292,2.82676488962932,2.50156184922949,2.15134319033736,1.85115576842982,1.4759214910454,1.27579654310704,1.20074968763015,1.02564035818409,0.825515410245731,0.775484173261141,0.750468554768846,0.750468554768846,0.700437317784257,0.675421699291962,0.600374843815077,0.550343606830487,0.550343606830487,0.525327988338192,0.500312369845898,0.425265514369013,0.425265514369013,0.400249895876718,0.350218658892128,0.275171803415244,0.275171803415244,0.275171803415244,0.250156184922949,0.250156184922949,0.250156184922949,0.225140566430654,0.200124947938359,0.200124947938359,0.175109329446064,0.175109329446064,0.175109329446064,0.175109329446064,0.175109329446064,0.150093710953769,0.150093710953769,0.10006247396918,0.0750468554768846,0.0750468554768846,0.0750468554768846,0.0750468554768846,0.0750468554768846,0.0750468554768846,0.0750468554768846,0.0750468554768846,0.0750468554768846,0.0750468554768846,0.0750468554768846,0.0750468554768846,0.0750468554768846,0.0750468554768846,0.0750468554768846,0.0750468554768846,0.0750468554768846,0.0750468554768846,0.0750468554768846,0.0750468554768846,0.0750468554768846,0.0750468554768846,0.0750468554768846,0.0500312369845898,0.0500312369845898,0.0500312369845898,0.0500312369845898,0.0500312369845898,0.0500312369845898,0.0500312369845898,0.0500312369845898,0.0500312369845898,0.0500312369845898,0.0500312369845898,0.0500312369845898,0.0250156184922949,0.0250156184922949,0.0250156184922949,0.0250156184922949,0.125078092461474],\"fOption\":\"\",\"fFunctions\":{\"_typename\":\"TList\",\"name\":\"TList\",\"arr\":[],\"opt\":[]},\"fBufferSize\":0,\"fBuffer\":[],\"fBinStatErrOpt\":0,\"fStatOverflows\":2,\"fArray\":[0,1713.066,1401.01,714.7398,454.5612,348.4337,332.4592,289.2806,256.699,229.0204,197.8622,169.551,147.0918,105.8112,79.2398,64.37245,51.71939,39.85714,33.21429,27.83673,24.04082,20.87755,17.87245,15.81633,13.60204,11.70408,9.331633,8.066326,7.591837,6.484694,5.219388,4.903061,4.744898,4.744898,4.428571,4.270408,3.795918,3.479592,3.479592,3.321429,3.163265,2.688776,2.688776,2.530612,2.214286,1.739796,1.739796,1.739796,1.581633,1.581633,1.581633,1.423469,1.265306,1.265306,1.107143,1.107143,1.107143,1.107143,1.107143,0.9489796,0.9489796,0.6326531,0.4744898,0.4744898,0.4744898,0.4744898,0.4744898,0.4744898,0.4744898,0.4744898,0.4744898,0.4744898,0.4744898,0.4744898,0.4744898,0.4744898,0.4744898,0.4744898,0.4744898,0.4744898,0.4744898,0.4744898,0.4744898,0.4744898,0.4744898,0.3163265,0.3163265,0.3163265,0.3163265,0.3163265,0.3163265,0.3163265,0.3163265,0.3163265,0.3163265,0.3163265,0.3163265,0.1581633,0.1581633,0.1581633,0.1581633,0.7908163]},{\"_typename\":\"TH1F\",\"fUniqueID\":0,\"fBits\":50332168,\"fName\":\"90c1db\",\"fTitle\":\"\",\"fLineColor\":417,\"fLineStyle\":1,\"fLineWidth\":1,\"fFillColor\":0,\"fFillStyle\":1001,\"fMarkerColor\":1,\"fMarkerStyle\":1,\"fMarkerSize\":1,\"fNcells\":102,\"fXaxis\":{\"_typename\":\"TAxis\",\"fUniqueID\":0,\"fBits\":50331656,\"fName\":\"xaxis\",\"fTitle\":\" p_{T} [GeV]\",\"fNdivisions\":510,\"fAxisColor\":1,\"fLabelColor\":1,\"fLabelFont\":42,\"fLabelOffset\":0.005,\"fLabelSize\":0.035,\"fTickLength\":0.03,\"fTitleOffset\":1.4,\"fTitleSize\":0.035,\"fTitleColor\":1,\"fTitleFont\":42,\"fNbins\":100,\"fXmin\":0,\"fXmax\":100,\"fXbins\":[],\"fFirst\":0,\"fLast\":0,\"fBits2\":0,\"fTimeDisplay\":false,\"fTimeFormat\":\"\",\"fLabels\":null,\"fModLabs\":null},\"fYaxis\":{\"_typename\":\"TAxis\",\"fUniqueID\":0,\"fBits\":50331656,\"fName\":\"yaxis\",\"fTitle\":\" rate [kHz]\",\"fNdivisions\":510,\"fAxisColor\":1,\"fLabelColor\":1,\"fLabelFont\":42,\"fLabelOffset\":0.005,\"fLabelSize\":0.035,\"fTickLength\":0.03,\"fTitleOffset\":0,\"fTitleSize\":0.035,\"fTitleColor\":1,\"fTitleFont\":42,\"fNbins\":1,\"fXmin\":0,\"fXmax\":1,\"fXbins\":[],\"fFirst\":0,\"fLast\":0,\"fBits2\":0,\"fTimeDisplay\":false,\"fTimeFormat\":\"\",\"fLabels\":null,\"fModLabs\":null},\"fZaxis\":{\"_typename\":\"TAxis\",\"fUniqueID\":0,\"fBits\":50331648,\"fName\":\"zaxis\",\"fTitle\":\"\",\"fNdivisions\":510,\"fAxisColor\":1,\"fLabelColor\":1,\"fLabelFont\":42,\"fLabelOffset\":0.005,\"fLabelSize\":0.035,\"fTickLength\":0.03,\"fTitleOffset\":1,\"fTitleSize\":0.035,\"fTitleColor\":1,\"fTitleFont\":42,\"fNbins\":1,\"fXmin\":0,\"fXmax\":1,\"fXbins\":[],\"fFirst\":0,\"fLast\":0,\"fBits2\":0,\"fTimeDisplay\":false,\"fTimeFormat\":\"\",\"fLabels\":null,\"fModLabs\":null},\"fBarOffset\":0,\"fBarWidth\":1000,\"fEntries\":33435,\"fTsumw\":33435,\"fTsumw2\":33435,\"fTsumwx\":113923,\"fTsumwx2\":1434593,\"fMaximum\":2055.67954101563,\"fMinimum\":0,\"fNormFactor\":0,\"fContour\":[],\"fSumw2\":[0,245.778451686797,197.598370470637,92.4076947105373,52.9830799666805,37.7735839233653,35.6222407330279,29.5684610578925,25.4408840066639,22.138822365681,18.3364483548521,15.5597147022074,13.1832309454394,8.93057580174927,6.67917013744273,5.45340483132028,4.25265514369013,3.17698354852145,2.50156184922949,2.02626509787589,1.70106205747605,1.4509058725531,1.22576530612245,1.15071845064556,1.02564035818409,0.875546647230321,0.725452936276551,0.675421699291962,0.625390462307372,0.475296751353603,0.400249895876718,0.400249895876718,0.400249895876718,0.400249895876718,0.375234277384423,0.375234277384423,0.350218658892128,0.300187421907539,0.300187421907539,0.300187421907539,0.275171803415244,0.250156184922949,0.250156184922949,0.225140566430654,0.225140566430654,0.150093710953769,0.150093710953769,0.150093710953769,0.125078092461474,0.125078092461474,0.125078092461474,0.10006247396918,0.10006247396918,0.10006247396918,0.0750468554768846,0.0750468554768846,0.0750468554768846,0.0750468554768846,0.0750468554768846,0.0500312369845898,0.0500312369845898,0.0500312369845898,0.0250156184922949,0.0250156184922949,0.0250156184922949,0.0250156184922949,0.0250156184922949,0.0250156184922949,0.0250156184922949,0.0250156184922949,0.0250156184922949,0.0250156184922949,0.0250156184922949,0.0250156184922949,0.0250156184922949,0.0250156184922949,0.0250156184922949,0.0250156184922949,0.0250156184922949,0.0250156184922949,0.0250156184922949,0.0250156184922949,0.0250156184922949,0.0250156184922949,0.0250156184922949,0,0,0,0,0,0,0,0,0,0,0,0,0,0,0,0,0],\"fOption\":\"\",\"fFunctions\":{\"_typename\":\"TList\",\"name\":\"TList\",\"arr\":[],\"opt\":[]},\"fBufferSize\":0,\"fBuffer\":[],\"fBinStatErrOpt\":0,\"fStatOverflows\":2,\"fArray\":[0,1553.954,1249.332,584.2551,334.9898,238.8265,225.2245,186.949,160.852,139.9745,115.9337,98.37755,83.35204,56.46429,42.22959,34.47959,26.88775,20.08673,15.81633,12.81122,10.7551,9.17347,7.75,7.27551,6.484694,5.535714,4.586735,4.270408,3.954082,3.005102,2.530612,2.530612,2.530612,2.530612,2.372449,2.372449,2.214286,1.897959,1.897959,1.897959,1.739796,1.581633,1.581633,1.423469,1.423469,0.9489796,0.9489796,0.9489796,0.7908163,0.7908163,0.7908163,0.6326531,0.6326531,0.6326531,0.4744898,0.4744898,0.4744898,0.4744898,0.4744898,0.3163265,0.3163265,0.3163265,0.1581633,0.1581633,0.1581633,0.1581633,0.1581633,0.1581633,0.1581633,0.1581633,0.1581633,0.1581633,0.1581633,0.1581633,0.1581633,0.1581633,0.1581633,0.1581633,0.1581633,0.1581633,0.1581633,0.1581633,0.1581633,0.1581633,0.1581633,0,0,0,0,0,0,0,0,0,0,0,0,0,0,0,0,0]},{\"_typename\":\"TLegend\",\"fUniqueID\":0,\"fBits\":50331656,\"fLineColor\":1,\"fLineStyle\":1,\"fLineWidth\":1,\"fFillColor\":0,\"fFillStyle\":0,\"fX1\":100.000002091391,\"fY1\":1548.43394870422,\"fX2\":143.859651764564,\"fY2\":1922.19386615665,\"fX1NDC\":0.7,\"fY1NDC\":0.71,\"fX2NDC\":0.95,\"fY2NDC\":0.85,\"fBorderSize\":0,\"fInit\":1,\"fShadowColor\":1,\"fCornerRadius\":0,\"fOption\":\"brNDC\",\"fName\":\"TPave\",\"fTextAngle\":0,\"fTextSize\":0.03,\"fTextAlign\":12,\"fTextColor\":1,\"fTextFont\":42,\"fPrimitives\":{\"_typename\":\"TList\",\"name\":\"TList\",\"arr\":[{\"_typename\":\"TLegendEntry\",\"fUniqueID\":0,\"fBits\":50331656,\"fTextAngle\":0,\"fTextSize\":0,\"fTextAlign\":0,\"fTextColor\":0,\"fTextFont\":42,\"fLineColor\":1,\"fLineStyle\":1,\"fLineWidth\":1,\"fFillColor\":0,\"fFillStyle\":0,\"fMarkerColor\":1,\"fMarkerStyle\":21,\"fMarkerSize\":1,\"fObject\":{\"$ref\":3},\"fLabel\":\"hwQual 3, Iso0p2, 1.52 < |#eta^{L1}| <= 2.4\",\"fOption\":\"l\"},{\"_typename\":\"TLegendEntry\",\"fUniqueID\":0,\"fBits\":50331656,\"fTextAngle\":0,\"fTextSize\":0,\"fTextAlign\":0,\"fTextColor\":0,\"fTextFont\":42,\"fLineColor\":628,\"fLineStyle\":1,\"fLineWidth\":1,\"fFillColor\":0,\"fFillStyle\":0,\"fMarkerColor\":1,\"fMarkerStyle\":21,\"fMarkerSize\":1,\"fObject\":{\"$ref\":8},\"fLabel\":\"hwQual 3, 1.52 < |#eta^{L1}| <= 2.4\",\"fOption\":\"l\"},{\"_typename\":\"TLegendEntry\",\"fUniqueID\":0,\"fBits\":50331656,\"fTextAngle\":0,\"fTextSize\":0,\"fTextAlign\":0,\"fTextColor\":0,\"fTextFont\":42,\"fLineColor\":417,\"fLineStyle\":1,\"fLineWidth\":1,\"fFillColor\":0,\"fFillStyle\":0,\"fMarkerColor\":1,\"fMarkerStyle\":21,\"fMarkerSize\":1,\"fObject\":{\"$ref\":13},\"fLabel\":\"hwQual 3, Iso0p1, 1.52 < |#eta^{L1}| <= 2.4\",\"fOption\":\"l\"}],\"opt\":[\"l\",\"l\",\"l\"]},\"fEntrySeparation\":0.1,\"fMargin\":0.25,\"fNColumns\":1,\"fColumnSeparation\":0},{\"_typename\":\"TLatex\",\"fUniqueID\":0,\"fBits\":50348040,\"fName\":\"\",\"fTitle\":\"PU200, TkEle Ell. match\",\"fTextAngle\":0,\"fTextSize\":0.03,\"fTextAlign\":11,\"fTextColor\":1,\"fTextFont\":62,\"fX\":0.15,\"fY\":0.85,\"fLineColor\":1,\"fLineStyle\":1,\"fLineWidth\":2,\"fLimitFactorSize\":3,\"fOriginSize\":0.04},{\"_typename\":\"TLatex\",\"fUniqueID\":0,\"fBits\":50331656,\"fName\":\"\",\"fTitle\":\"\",\"fTextAngle\":0,\"fTextSize\":0.03,\"fTextAlign\":11,\"fTextColor\":1,\"fTextFont\":62,\"fX\":0,\"fY\":0,\"fLineColor\":1,\"fLineStyle\":1,\"fLineWidth\":2,\"fLimitFactorSize\":3,\"fOriginSize\":0.04}],\"opt\":[\"\",\"\",\"same,\",\"same,\",\"same\",\"same\",\"same\"]},\"fExecs\":null,\"fName\":\"c_0a217a\",\"fTitle\":\"c_0a217a\",\"fNumPaletteColor\":0,\"fNextPaletteColor\":0,\"fDISPLAY\":\"$DISPLAY\",\"fDoubleBuffer\":0,\"fRetained\":true,\"fXsizeUser\":0,\"fYsizeUser\":0,\"fXsizeReal\":20,\"fYsizeReal\":15,\"fWindowTopX\":0,\"fWindowTopY\":0,\"fWindowWidth\":0,\"fWindowHeight\":0,\"fCw\":796,\"fCh\":572,\"fCatt\":{\"_typename\":\"TAttCanvas\",\"fXBetween\":2,\"fYBetween\":2,\"fTitleFromTop\":1.2,\"fXdate\":0.2,\"fYdate\":0.3,\"fAdate\":1},\"kMoveOpaque\":true,\"kResizeOpaque\":true,\"fHighLightColor\":2,\"fBatch\":true,\"kShowEventStatus\":false,\"kAutoExec\":true,\"kMenuBar\":true});\n",
       "       Core.draw(\"root_plot_17\", obj, \"\");\n",
       "     }\n",
       " );\n",
       "</script>\n"
      ],
      "text/plain": [
       "<IPython.core.display.HTML object>"
      ]
     },
     "metadata": {},
     "output_type": "display_data"
    }
   ],
   "source": [
    "hsets, labels, text = hplot.get_histo(histos.RateHistos, ['new-ID'], 'PU200', ['TkEleEL'], ['EGq3EtaBC', 'EGq3Iso0p2EtaBC', 'EGq3Iso0p1EtaBC'], None)\n",
    "for hist in hsets:\n",
    "    hist.normalize(31000)\n",
    "draw([his.h_pt for his in hsets], labels, text=text, logy=True)"
   ]
  },
  {
   "cell_type": "code",
   "execution_count": 56,
   "metadata": {},
   "outputs": [
    {
     "data": {
      "text/plain": [
       "<__main__.DrawMachine at 0x11cf34810>"
      ]
     },
     "execution_count": 56,
     "metadata": {},
     "output_type": "execute_result"
    },
    {
     "name": "stderr",
     "output_type": "stream",
     "text": [
      "Error in <THistPainter::PaintInit>: Cannot set Y axis to log scale\n",
      "Error in <THistPainter::PaintInit>: Cannot set Y axis to log scale\n",
      "Error in <THistPainter::PaintInit>: Cannot set Y axis to log scale\n"
     ]
    },
    {
     "data": {
      "text/html": [
       "\n",
       "<div id=\"root_plot_18\"\n",
       "     style=\"width: 796px; height: 572px\">\n",
       "</div>\n",
       "\n",
       "<script>\n",
       " requirejs.config({\n",
       "     paths: {\n",
       "       'JSRootCore' : 'https://root.cern.ch/js/notebook//scripts/JSRootCore',\n",
       "     }\n",
       "   });\n",
       " require(['JSRootCore'],\n",
       "     function(Core) {\n",
       "       var obj = Core.JSONR_unref({\"_typename\":\"TCanvas\",\"fUniqueID\":0,\"fBits\":53673992,\"fLineColor\":1,\"fLineStyle\":1,\"fLineWidth\":1,\"fFillColor\":0,\"fFillStyle\":1001,\"fLeftMargin\":0.13,\"fRightMargin\":0.3,\"fBottomMargin\":0.13,\"fTopMargin\":0.1,\"fXfile\":2,\"fYfile\":2,\"fAfile\":1,\"fXstat\":0.99,\"fYstat\":0.99,\"fAstat\":2,\"fFrameFillColor\":0,\"fFrameLineColor\":1,\"fFrameFillStyle\":1001,\"fFrameLineStyle\":1,\"fFrameLineWidth\":1,\"fFrameBorderSize\":1,\"fFrameBorderMode\":0,\"fX1\":-22.8070169934936,\"fY1\":-1.70776041025104,\"fX2\":152.631581699199,\"fY2\":5.26813222988247,\"fXtoAbsPixelk\":103.480046204376,\"fXtoPixelk\":103.480046204376,\"fXtoPixel\":4.53719994306564,\"fYtoAbsPixelk\":431.969375066204,\"fYtoPixelk\":431.969375066204,\"fYtoPixel\":-81.9966747637693,\"fUtoAbsPixelk\":5e-5,\"fUtoPixelk\":5e-5,\"fUtoPixel\":796,\"fVtoAbsPixelk\":572.00005,\"fVtoPixelk\":572,\"fVtoPixel\":-572,\"fAbsPixeltoXk\":-22.8070169934936,\"fPixeltoXk\":-22.8070169934936,\"fPixeltoX\":0.220400249613935,\"fAbsPixeltoYk\":5.26813222988248,\"fPixeltoYk\":-1.70776041025104,\"fPixeltoY\":-0.0121956165037299,\"fXlowNDC\":0,\"fYlowNDC\":0,\"fXUpNDC\":0,\"fYUpNDC\":0,\"fWNDC\":1,\"fHNDC\":1,\"fAbsXlowNDC\":0,\"fAbsYlowNDC\":0,\"fAbsWNDC\":1,\"fAbsHNDC\":1,\"fUxmin\":0,\"fUymin\":-0.800894380027297,\"fUxmax\":100,\"fUymax\":4.5705429398819,\"fTheta\":30,\"fPhi\":30,\"fAspectRatio\":0,\"fNumber\":0,\"fTickx\":0,\"fTicky\":0,\"fLogx\":0,\"fLogy\":1,\"fLogz\":0,\"fPadPaint\":0,\"fCrosshair\":0,\"fCrosshairPos\":0,\"fBorderSize\":2,\"fBorderMode\":0,\"fModified\":false,\"fGridx\":true,\"fGridy\":true,\"fAbsCoord\":false,\"fEditable\":true,\"fFixedAspectRatio\":false,\"fPrimitives\":{\"_typename\":\"TList\",\"name\":\"TList\",\"arr\":[{\"_typename\":\"TFrame\",\"fUniqueID\":0,\"fBits\":50331656,\"fLineColor\":1,\"fLineStyle\":1,\"fLineWidth\":1,\"fFillColor\":0,\"fFillStyle\":1001,\"fX1\":0,\"fY1\":-0.800894380027297,\"fX2\":100,\"fY2\":4.5705429398819,\"fBorderSize\":1,\"fBorderMode\":0},{\"_typename\":\"TH1F\",\"fUniqueID\":0,\"fBits\":50332168,\"fName\":\"ed1e55\",\"fTitle\":\"\",\"fLineColor\":1,\"fLineStyle\":1,\"fLineWidth\":1,\"fFillColor\":0,\"fFillStyle\":1001,\"fMarkerColor\":1,\"fMarkerStyle\":1,\"fMarkerSize\":1,\"fNcells\":102,\"fXaxis\":{\"_typename\":\"TAxis\",\"fUniqueID\":0,\"fBits\":50331656,\"fName\":\"xaxis\",\"fTitle\":\" p_{T} [GeV]\",\"fNdivisions\":510,\"fAxisColor\":1,\"fLabelColor\":1,\"fLabelFont\":42,\"fLabelOffset\":0.005,\"fLabelSize\":0.035,\"fTickLength\":0.03,\"fTitleOffset\":1.4,\"fTitleSize\":0.035,\"fTitleColor\":1,\"fTitleFont\":42,\"fNbins\":100,\"fXmin\":0,\"fXmax\":100,\"fXbins\":[],\"fFirst\":0,\"fLast\":0,\"fBits2\":0,\"fTimeDisplay\":false,\"fTimeFormat\":\"\",\"fLabels\":null,\"fModLabs\":null},\"fYaxis\":{\"_typename\":\"TAxis\",\"fUniqueID\":0,\"fBits\":50331656,\"fName\":\"yaxis\",\"fTitle\":\" rate [kHz]\",\"fNdivisions\":510,\"fAxisColor\":1,\"fLabelColor\":1,\"fLabelFont\":42,\"fLabelOffset\":0.005,\"fLabelSize\":0.035,\"fTickLength\":0.03,\"fTitleOffset\":0,\"fTitleSize\":0.035,\"fTitleColor\":1,\"fTitleFont\":42,\"fNbins\":1,\"fXmin\":0,\"fXmax\":1,\"fXbins\":[],\"fFirst\":0,\"fLast\":0,\"fBits2\":0,\"fTimeDisplay\":false,\"fTimeFormat\":\"\",\"fLabels\":null,\"fModLabs\":null},\"fZaxis\":{\"_typename\":\"TAxis\",\"fUniqueID\":0,\"fBits\":50331648,\"fName\":\"zaxis\",\"fTitle\":\"\",\"fNdivisions\":510,\"fAxisColor\":1,\"fLabelColor\":1,\"fLabelFont\":42,\"fLabelOffset\":0.005,\"fLabelSize\":0.035,\"fTickLength\":0.03,\"fTitleOffset\":1,\"fTitleSize\":0.035,\"fTitleColor\":1,\"fTitleFont\":42,\"fNbins\":1,\"fXmin\":0,\"fXmax\":1,\"fXbins\":[],\"fFirst\":0,\"fLast\":0,\"fBits2\":0,\"fTimeDisplay\":false,\"fTimeFormat\":\"\",\"fLabels\":null,\"fModLabs\":null},\"fBarOffset\":0,\"fBarWidth\":1000,\"fEntries\":1178194,\"fTsumw\":1178182,\"fTsumw2\":1178182,\"fTsumwx\":3400020,\"fTsumwx2\":19085082,\"fMaximum\":37200,\"fMinimum\":0.158163264393806,\"fNormFactor\":0,\"fContour\":[],\"fSumw2\":[0,4903.0612244898,4903.0612244898,4903.01119325281,4832.54219596002,4010.72909725115,2564.20095793419,1423.66386401499,759.624271137026,411.106674302374,233.620861099542,141.663447521866,93.1331476468138,62.9643117451062,45.2032226155768,32.8204914618909,24.6653998334027,19.3620887130362,15.3345741357768,12.6829185755935,10.4064972927947,8.38023219491878,6.95434194085798,6.07879529362766,4.92807684298209,4.30268638067472,3.65228029987505,3.20199916701374,2.75171803415244,2.50156184922949,2.25140566430654,2.12632757184506,1.85115576842982,1.60099958350687,1.50093710953769,1.40087463556851,1.35084339858392,1.30081216159933,1.12570283215327,0.9756091211995,0.92557788421491,0.92557788421491,0.900562265722616,0.750468554768846,0.725452936276551,0.650406080799667,0.550343606830487,0.425265514369013,0.400249895876718,0.375234277384423,0.325203040399833,0.275171803415244,0.250156184922949,0.250156184922949,0.250156184922949,0.175109329446064,0.175109329446064,0.125078092461474,0.10006247396918,0.10006247396918,0.10006247396918,0.10006247396918,0.10006247396918,0.10006247396918,0.10006247396918,0.10006247396918,0.10006247396918,0.10006247396918,0.10006247396918,0.10006247396918,0.10006247396918,0.10006247396918,0.10006247396918,0.10006247396918,0.10006247396918,0.10006247396918,0.10006247396918,0.10006247396918,0.0750468554768846,0.0750468554768846,0.0750468554768846,0.0750468554768846,0.0750468554768846,0.0750468554768846,0.0750468554768846,0.0750468554768846,0.0750468554768846,0.0750468554768846,0.0750468554768846,0.0750468554768846,0.0750468554768846,0.0500312369845898,0.0500312369845898,0.0500312369845898,0.0500312369845898,0.0500312369845898,0.0500312369845898,0.0500312369845898,0.0250156184922949,0.0250156184922949,0.0250156184922949,0.300187421907539],\"fOption\":\"\",\"fFunctions\":{\"_typename\":\"TList\",\"name\":\"TList\",\"arr\":[],\"opt\":[]},\"fBufferSize\":0,\"fBuffer\":[],\"fBinStatErrOpt\":0,\"fStatOverflows\":2,\"fArray\":[0,31000,31000,30999.68,30554.14,25358.16,16212.37,9001.229,4802.786,2599.255,1477.087,895.6786,588.8419,398.0969,285.801,207.5102,155.949,122.4184,96.95408,80.18877,65.79592,52.9847,43.96939,38.43367,31.15816,27.20408,23.09184,20.2449,17.39796,15.81633,14.23469,13.44388,11.70408,10.12245,9.489796,8.857142,8.540816,8.22449,7.117347,6.168367,5.852041,5.852041,5.693878,4.744898,4.586735,4.112245,3.479592,2.688776,2.530612,2.372449,2.056123,1.739796,1.581633,1.581633,1.581633,1.107143,1.107143,0.7908163,0.6326531,0.6326531,0.6326531,0.6326531,0.6326531,0.6326531,0.6326531,0.6326531,0.6326531,0.6326531,0.6326531,0.6326531,0.6326531,0.6326531,0.6326531,0.6326531,0.6326531,0.6326531,0.6326531,0.6326531,0.4744898,0.4744898,0.4744898,0.4744898,0.4744898,0.4744898,0.4744898,0.4744898,0.4744898,0.4744898,0.4744898,0.4744898,0.4744898,0.3163265,0.3163265,0.3163265,0.3163265,0.3163265,0.3163265,0.3163265,0.1581633,0.1581633,0.1581633,1.897959]},{\"_typename\":\"TLatex\",\"fUniqueID\":0,\"fBits\":50348040,\"fName\":\"\",\"fTitle\":\"PU200, EG, hwQual 4, 1.52 < |#eta^{L1}| <= 2.4\",\"fTextAngle\":0,\"fTextSize\":0.03,\"fTextAlign\":11,\"fTextColor\":1,\"fTextFont\":62,\"fX\":0.15,\"fY\":0.85,\"fLineColor\":1,\"fLineStyle\":1,\"fLineWidth\":2,\"fLimitFactorSize\":3,\"fOriginSize\":0.04},{\"_typename\":\"TLatex\",\"fUniqueID\":0,\"fBits\":50331656,\"fName\":\"\",\"fTitle\":\"\",\"fTextAngle\":0,\"fTextSize\":0.03,\"fTextAlign\":11,\"fTextColor\":1,\"fTextFont\":62,\"fX\":0,\"fY\":0,\"fLineColor\":1,\"fLineStyle\":1,\"fLineWidth\":2,\"fLimitFactorSize\":3,\"fOriginSize\":0.04}],\"opt\":[\"\",\"\",\"same\",\"same\"]},\"fExecs\":null,\"fName\":\"c_d0a40d\",\"fTitle\":\"c_d0a40d\",\"fNumPaletteColor\":0,\"fNextPaletteColor\":0,\"fDISPLAY\":\"$DISPLAY\",\"fDoubleBuffer\":0,\"fRetained\":true,\"fXsizeUser\":0,\"fYsizeUser\":0,\"fXsizeReal\":20,\"fYsizeReal\":15,\"fWindowTopX\":0,\"fWindowTopY\":0,\"fWindowWidth\":0,\"fWindowHeight\":0,\"fCw\":796,\"fCh\":572,\"fCatt\":{\"_typename\":\"TAttCanvas\",\"fXBetween\":2,\"fYBetween\":2,\"fTitleFromTop\":1.2,\"fXdate\":0.2,\"fYdate\":0.3,\"fAdate\":1},\"kMoveOpaque\":true,\"kResizeOpaque\":true,\"fHighLightColor\":2,\"fBatch\":true,\"kShowEventStatus\":false,\"kAutoExec\":true,\"kMenuBar\":true});\n",
       "       Core.draw(\"root_plot_18\", obj, \"\");\n",
       "     }\n",
       " );\n",
       "</script>\n"
      ],
      "text/plain": [
       "<IPython.core.display.HTML object>"
      ]
     },
     "metadata": {},
     "output_type": "display_data"
    }
   ],
   "source": [
    "# 'HMvDRCalib','HMvDRshapeDrCalib',\n",
    "hsets, labels, text = hplot.get_histo(histos.RateHistos, ['new-ID', 'old-ID'], 'PU200', ['EG'], ['EGq4EtaBC'], None)\n",
    "for hist in hsets:\n",
    "    hist.normalize(31000)\n",
    "draw([his.h_pt for his in hsets], labels, text=text, logy=True)"
   ]
  },
  {
   "cell_type": "code",
   "execution_count": 57,
   "metadata": {},
   "outputs": [
    {
     "name": "stdout",
     "output_type": "stream",
     "text": [
      "No match found for: pu: PU200, tp: ['TkEle'], tp_sel: ['EGq3EtaBC', 'EGq4EtaBC'], gen_sel: None, classtype: python.l1THistos.RateHistos\n"
     ]
    },
    {
     "ename": "TypeError",
     "evalue": "'NoneType' object is not iterable",
     "output_type": "error",
     "traceback": [
      "\u001b[0;31m\u001b[0m",
      "\u001b[0;31mTypeError\u001b[0mTraceback (most recent call last)",
      "\u001b[0;32m<ipython-input-57-e29d80b25c02>\u001b[0m in \u001b[0;36m<module>\u001b[0;34m()\u001b[0m\n\u001b[1;32m      1\u001b[0m \u001b[0;31m# 'HMvDRCalib','HMvDRshapeDrCalib',\u001b[0m\u001b[0;34m\u001b[0m\u001b[0;34m\u001b[0m\u001b[0m\n\u001b[1;32m      2\u001b[0m \u001b[0mhsets\u001b[0m\u001b[0;34m,\u001b[0m \u001b[0mlabels\u001b[0m\u001b[0;34m,\u001b[0m \u001b[0mtext\u001b[0m \u001b[0;34m=\u001b[0m \u001b[0mhplot\u001b[0m\u001b[0;34m.\u001b[0m\u001b[0mget_histo\u001b[0m\u001b[0;34m(\u001b[0m\u001b[0mhistos\u001b[0m\u001b[0;34m.\u001b[0m\u001b[0mRateHistos\u001b[0m\u001b[0;34m,\u001b[0m \u001b[0msample\u001b[0m\u001b[0;34m,\u001b[0m \u001b[0;34m'PU200'\u001b[0m\u001b[0;34m,\u001b[0m \u001b[0;34m[\u001b[0m\u001b[0;34m'TkEle'\u001b[0m\u001b[0;34m]\u001b[0m\u001b[0;34m,\u001b[0m \u001b[0;34m[\u001b[0m\u001b[0;34m'EGq3EtaBC'\u001b[0m\u001b[0;34m,\u001b[0m \u001b[0;34m'EGq4EtaBC'\u001b[0m\u001b[0;34m]\u001b[0m\u001b[0;34m,\u001b[0m \u001b[0mNone\u001b[0m\u001b[0;34m)\u001b[0m\u001b[0;34m\u001b[0m\u001b[0m\n\u001b[0;32m----> 3\u001b[0;31m \u001b[0;32mfor\u001b[0m \u001b[0mhist\u001b[0m \u001b[0;32min\u001b[0m \u001b[0mhsets\u001b[0m\u001b[0;34m:\u001b[0m\u001b[0;34m\u001b[0m\u001b[0m\n\u001b[0m\u001b[1;32m      4\u001b[0m     \u001b[0mhist\u001b[0m\u001b[0;34m.\u001b[0m\u001b[0mnormalize\u001b[0m\u001b[0;34m(\u001b[0m\u001b[0;36m31000\u001b[0m\u001b[0;34m)\u001b[0m\u001b[0;34m\u001b[0m\u001b[0m\n\u001b[1;32m      5\u001b[0m \u001b[0mdraw\u001b[0m\u001b[0;34m(\u001b[0m\u001b[0;34m[\u001b[0m\u001b[0mhis\u001b[0m\u001b[0;34m.\u001b[0m\u001b[0mh_pt\u001b[0m \u001b[0;32mfor\u001b[0m \u001b[0mhis\u001b[0m \u001b[0;32min\u001b[0m \u001b[0mhsets\u001b[0m\u001b[0;34m]\u001b[0m\u001b[0;34m,\u001b[0m \u001b[0mlabels\u001b[0m\u001b[0;34m,\u001b[0m \u001b[0mtext\u001b[0m\u001b[0;34m=\u001b[0m\u001b[0mtext\u001b[0m\u001b[0;34m,\u001b[0m \u001b[0mlogy\u001b[0m\u001b[0;34m=\u001b[0m\u001b[0mTrue\u001b[0m\u001b[0;34m)\u001b[0m\u001b[0;34m\u001b[0m\u001b[0m\n",
      "\u001b[0;31mTypeError\u001b[0m: 'NoneType' object is not iterable"
     ]
    }
   ],
   "source": [
    "# 'HMvDRCalib','HMvDRshapeDrCalib',\n",
    "hsets, labels, text = hplot.get_histo(histos.RateHistos, sample, 'PU200', ['TkEle'], ['EGq3EtaBC', 'EGq4EtaBC'], None)\n",
    "for hist in hsets:\n",
    "    hist.normalize(31000)\n",
    "draw([his.h_pt for his in hsets], labels, text=text, logy=True)"
   ]
  },
  {
   "cell_type": "code",
   "execution_count": null,
   "metadata": {},
   "outputs": [],
   "source": [
    "hsets, labels, text = hplot.get_histo(histos.RateHistos, 'new-ID', 'PU200', ['EG'], 'EGq5EtaD', None)\n",
    "\n",
    "for hist in hsets:\n",
    "    hist.normalize(31000)\n",
    "[his.h_pt_graph('online', 'rate [kHz]', convertRateToGraph) for his in hsets]\n",
    "draw([his.g_pt_online for his in hsets], labels, text=text, min_y=1., max_y=75000, logy=True)"
   ]
  },
  {
   "cell_type": "code",
   "execution_count": 23,
   "metadata": {},
   "outputs": [
    {
     "name": "stdout",
     "output_type": "stream",
     "text": [
      "normalize to 31000\n",
      "rate above p_{T} thresh.;; rate [kHz]\n",
      ";; rate [kHz]\n"
     ]
    },
    {
     "data": {
      "text/plain": [
       "<ROOT.TCanvas object (\"c_70b7c0\") at 0x7ff5b0e11750>"
      ]
     },
     "execution_count": 23,
     "metadata": {},
     "output_type": "execute_result"
    },
    {
     "data": {
      "text/html": [
       "\n",
       "<div id=\"root_plot_9\"\n",
       "     style=\"width: 596px; height: 572px\">\n",
       "</div>\n",
       "\n",
       "<script>\n",
       " requirejs.config({\n",
       "     paths: {\n",
       "       'JSRootCore' : 'https://root.cern.ch/js/notebook//scripts/JSRootCore',\n",
       "     }\n",
       "   });\n",
       " require(['JSRootCore'],\n",
       "     function(Core) {\n",
       "       var obj = Core.JSONR_unref({\"_typename\":\"TCanvas\",\"fUniqueID\":0,\"fBits\":53673992,\"fLineColor\":1,\"fLineStyle\":1,\"fLineWidth\":1,\"fFillColor\":0,\"fFillStyle\":1001,\"fLeftMargin\":0.13,\"fRightMargin\":0.13,\"fBottomMargin\":0.13,\"fTopMargin\":0.1,\"fXfile\":2,\"fYfile\":2,\"fAfile\":1,\"fXstat\":0.99,\"fYstat\":0.99,\"fAstat\":2,\"fFrameFillColor\":0,\"fFrameLineColor\":1,\"fFrameFillStyle\":1001,\"fFrameLineStyle\":1,\"fFrameLineWidth\":1,\"fFrameBorderSize\":1,\"fFrameBorderMode\":0,\"fX1\":-10.5405400180747,\"fY1\":-0.82306228142011,\"fX2\":70.5405400180747,\"fY2\":5.5081861279105,\"fXtoAbsPixelk\":77.4800471580505,\"fXtoPixelk\":77.4800471580505,\"fXtoPixel\":7.35066676139832,\"fYtoAbsPixelk\":497.640051065433,\"fYtoPixelk\":497.640051065433,\"fYtoPixel\":-90.3455310894169,\"fUtoAbsPixelk\":5e-5,\"fUtoPixelk\":5e-5,\"fUtoPixel\":596,\"fVtoAbsPixelk\":572.00005,\"fVtoPixelk\":572,\"fVtoPixel\":-572,\"fAbsPixeltoXk\":-10.5405400180747,\"fPixeltoXk\":-10.5405400180747,\"fPixeltoX\":0.136042080597566,\"fAbsPixeltoYk\":5.5081861279105,\"fPixeltoYk\":-0.82306228142011,\"fPixeltoY\":-0.0110686161002283,\"fXlowNDC\":0,\"fYlowNDC\":0,\"fXUpNDC\":0,\"fYUpNDC\":0,\"fWNDC\":1,\"fHNDC\":1,\"fAbsXlowNDC\":0,\"fAbsYlowNDC\":0,\"fAbsWNDC\":1,\"fAbsHNDC\":1,\"fUxmin\":0,\"fUymin\":0,\"fUxmax\":60,\"fUymax\":4.8750612633917,\"fTheta\":30,\"fPhi\":30,\"fAspectRatio\":0,\"fNumber\":0,\"fTickx\":0,\"fTicky\":0,\"fLogx\":0,\"fLogy\":1,\"fLogz\":0,\"fPadPaint\":0,\"fCrosshair\":0,\"fCrosshairPos\":0,\"fBorderSize\":2,\"fBorderMode\":0,\"fModified\":false,\"fGridx\":true,\"fGridy\":true,\"fAbsCoord\":false,\"fEditable\":true,\"fFixedAspectRatio\":false,\"fPrimitives\":{\"_typename\":\"TList\",\"name\":\"TList\",\"arr\":[{\"_typename\":\"TFrame\",\"fUniqueID\":0,\"fBits\":50331656,\"fLineColor\":1,\"fLineStyle\":1,\"fLineWidth\":1,\"fFillColor\":0,\"fFillStyle\":1001,\"fX1\":0,\"fY1\":0,\"fX2\":60,\"fY2\":4.8750612633917,\"fBorderSize\":1,\"fBorderMode\":0},{\"_typename\":\"TGraphAsymmErrors\",\"fUniqueID\":0,\"fBits\":50332680,\"fName\":\"d928e0\",\"fTitle\":\";; rate [kHz]\",\"fLineColor\":1,\"fLineStyle\":1,\"fLineWidth\":1,\"fFillColor\":0,\"fFillStyle\":1001,\"fMarkerColor\":1,\"fMarkerStyle\":8,\"fMarkerSize\":0.5,\"fNpoints\":100,\"fX\":[0,1,2,3,4,5,6,7,8,9,10,11,12,13,14,15,16,17,18,19,20,21,22,23,24,25,26,27,28,29,30,31,32,33,34,35,36,37,38,39,40,41,42,43,44,45,46,47,48,49,50,51,52,53,54,55,56,57,58,59,60,61,62,63,64,65,66,67,68,69,70,71,72,73,74,75,76,77,78,79,80,81,82,83,84,85,86,87,88,89,90,91,92,93,94,95,96,97,98,99],\"fY\":[30999.525390625,30999.3671875,30977.224609375,29133.515625,20496.693359375,11053.8720703125,5343.2294921875,2525.55102539062,1234.78063964844,655.903076171875,382.280609130859,240.091842651367,161.642852783203,118.464286804199,86.5153045654297,64.3724517822266,49.5051002502441,39.5408172607422,31.1581630706787,26.7295913696289,21.1938781738281,17.3979587554932,15.1836738586426,13.9183673858643,12.3367347717285,11.0714282989502,9.9642858505249,8.85714244842529,8.22449016571045,7.59183692932129,6.48469400405884,5.85204076766968,5.85204076766968,5.37755107879639,5.06122446060181,5.06122446060181,4.74489784240723,4.42857122421265,4.42857122421265,4.11224508285522,3.47959184646606,3.00510215759277,2.68877553939819,2.37244892120361,2.21428561210632,1.89795923233032,1.89795923233032,1.73979592323303,1.73979592323303,1.73979592323303,1.26530611515045,1.10714280605316,0.948979616165161,0.790816307067871,0.632653057575226,0.632653057575226,0.632653057575226,0.474489808082581,0.316326528787613,0.316326528787613,0.316326528787613,0.316326528787613,0.316326528787613,0.316326528787613,0.316326528787613,0.316326528787613,0.316326528787613,0.316326528787613,0.316326528787613,0.316326528787613,0.316326528787613,0.316326528787613,0.158163264393806,0.158163264393806,0.158163264393806,0.158163264393806,0.158163264393806,0.158163264393806,0.158163264393806,0.158163264393806,0.158163264393806,0.158163264393806,0.158163264393806,0.158163264393806,0.158163264393806,0,0,0,0,0,0,0,0,0,0,0,0,0,0,0],\"fFunctions\":{\"_typename\":\"TList\",\"name\":\"TList\",\"arr\":[],\"opt\":[]},\"fHistogram\":{\"_typename\":\"TH1F\",\"fUniqueID\":0,\"fBits\":50332168,\"fName\":\"d928e0\",\"fTitle\":\"\",\"fLineColor\":602,\"fLineStyle\":1,\"fLineWidth\":1,\"fFillColor\":0,\"fFillStyle\":1001,\"fMarkerColor\":1,\"fMarkerStyle\":1,\"fMarkerSize\":1,\"fNcells\":102,\"fXaxis\":{\"_typename\":\"TAxis\",\"fUniqueID\":0,\"fBits\":50331656,\"fName\":\"xaxis\",\"fTitle\":\"\",\"fNdivisions\":510,\"fAxisColor\":1,\"fLabelColor\":1,\"fLabelFont\":42,\"fLabelOffset\":0.005,\"fLabelSize\":0.035,\"fTickLength\":0.03,\"fTitleOffset\":1.4,\"fTitleSize\":0.035,\"fTitleColor\":1,\"fTitleFont\":42,\"fNbins\":100,\"fXmin\":0,\"fXmax\":60,\"fXbins\":[],\"fFirst\":0,\"fLast\":0,\"fBits2\":0,\"fTimeDisplay\":false,\"fTimeFormat\":\"\",\"fLabels\":null,\"fModLabs\":null},\"fYaxis\":{\"_typename\":\"TAxis\",\"fUniqueID\":0,\"fBits\":50331656,\"fName\":\"yaxis\",\"fTitle\":\" rate [kHz]\",\"fNdivisions\":510,\"fAxisColor\":1,\"fLabelColor\":1,\"fLabelFont\":42,\"fLabelOffset\":0.005,\"fLabelSize\":0.035,\"fTickLength\":0.03,\"fTitleOffset\":0,\"fTitleSize\":0.035,\"fTitleColor\":1,\"fTitleFont\":42,\"fNbins\":1,\"fXmin\":1,\"fXmax\":75000,\"fXbins\":[],\"fFirst\":0,\"fLast\":0,\"fBits2\":0,\"fTimeDisplay\":false,\"fTimeFormat\":\"\",\"fLabels\":null,\"fModLabs\":null},\"fZaxis\":{\"_typename\":\"TAxis\",\"fUniqueID\":0,\"fBits\":50331648,\"fName\":\"zaxis\",\"fTitle\":\"\",\"fNdivisions\":510,\"fAxisColor\":1,\"fLabelColor\":1,\"fLabelFont\":42,\"fLabelOffset\":0.005,\"fLabelSize\":0.035,\"fTickLength\":0.03,\"fTitleOffset\":1,\"fTitleSize\":0.035,\"fTitleColor\":1,\"fTitleFont\":42,\"fNbins\":1,\"fXmin\":0,\"fXmax\":1,\"fXbins\":[],\"fFirst\":0,\"fLast\":0,\"fBits2\":0,\"fTimeDisplay\":false,\"fTimeFormat\":\"\",\"fLabels\":null,\"fModLabs\":null},\"fBarOffset\":0,\"fBarWidth\":1000,\"fEntries\":0,\"fTsumw\":0,\"fTsumw2\":0,\"fTsumwx\":0,\"fTsumwx2\":0,\"fMaximum\":75000,\"fMinimum\":1,\"fNormFactor\":0,\"fContour\":[],\"fSumw2\":[],\"fOption\":\"\",\"fFunctions\":{\"_typename\":\"TList\",\"name\":\"TList\",\"arr\":[],\"opt\":[]},\"fBufferSize\":0,\"fBuffer\":[],\"fBinStatErrOpt\":0,\"fStatOverflows\":2,\"fArray\":[0,0,0,0,0,0,0,0,0,0,0,0,0,0,0,0,0,0,0,0,0,0,0,0,0,0,0,0,0,0,0,0,0,0,0,0,0,0,0,0,0,0,0,0,0,0,0,0,0,0,0,0,0,0,0,0,0,0,0,0,0,0,0,0,0,0,0,0,0,0,0,0,0,0,0,0,0,0,0,0,0,0,0,0,0,0,0,0,0,0,0,0,0,0,0,0,0,0,0,0,0,0]},\"fMinimum\":-1111,\"fMaximum\":-1111,\"fEXlow\":[0.5,0.5,0.5,0.5,0.5,0.5,0.5,0.5,0.5,0.5,0.5,0.5,0.5,0.5,0.5,0.5,0.5,0.5,0.5,0.5,0.5,0.5,0.5,0.5,0.5,0.5,0.5,0.5,0.5,0.5,0.5,0.5,0.5,0.5,0.5,0.5,0.5,0.5,0.5,0.5,0.5,0.5,0.5,0.5,0.5,0.5,0.5,0.5,0.5,0.5,0.5,0.5,0.5,0.5,0.5,0.5,0.5,0.5,0.5,0.5,0.5,0.5,0.5,0.5,0.5,0.5,0.5,0.5,0.5,0.5,0.5,0.5,0.5,0.5,0.5,0.5,0.5,0.5,0.5,0.5,0.5,0.5,0.5,0.5,0.5,0.5,0.5,0.5,0.5,0.5,0.5,0.5,0.5,0.5,0.5,0.5,0.5,0.5,0.5,0.5],\"fEXhigh\":[0.5,0.5,0.5,0.5,0.5,0.5,0.5,0.5,0.5,0.5,0.5,0.5,0.5,0.5,0.5,0.5,0.5,0.5,0.5,0.5,0.5,0.5,0.5,0.5,0.5,0.5,0.5,0.5,0.5,0.5,0.5,0.5,0.5,0.5,0.5,0.5,0.5,0.5,0.5,0.5,0.5,0.5,0.5,0.5,0.5,0.5,0.5,0.5,0.5,0.5,0.5,0.5,0.5,0.5,0.5,0.5,0.5,0.5,0.5,0.5,0.5,0.5,0.5,0.5,0.5,0.5,0.5,0.5,0.5,0.5,0.5,0.5,0.5,0.5,0.5,0.5,0.5,0.5,0.5,0.5,0.5,0.5,0.5,0.5,0.5,0.5,0.5,0.5,0.5,0.5,0.5,0.5,0.5,0.5,0.5,0.5,0.5,0.5,0.5,0.5],\"fEYlow\":[70.0213265915058,70.0211479627107,69.9961354320859,67.8811602041555,56.9370181134688,41.8128755386184,29.0706491073935,19.9862301619131,13.9748679267228,10.1852722048822,7.77577969697423,6.1622811418584,5.0562794720155,4.32859079270943,3.69912737213593,3.19082383192241,2.79819380817132,2.50078080268418,2.21992721569472,2.05612244897959,1.83087216319641,1.65883032108544,1.54967718420977,1.48370294443394,1.39686013702124,1.32328881747736,1.25538199963779,1.18358549989788,1.14053152591208,1.0957872456048,1.01273903755315,0.962069583873698,0.962069583873698,0.922242391531655,0.89470653946053,0.89470653946053,0.866295881768375,0.83692133309186,0.83692133309186,0.806477576129471,0.741851472216971,0.6894176900498,0.652123848949732,0.612563692512398,0.59179274994894,0.5478936228024,0.5478936228024,0.524568206637844,0.524568206637844,0.524568206637844,0.447353269730265,0.41846066654593,0.387419296052441,0.353663812767824,0.316326530612245,0.316326530612245,0.316326530612245,0.2739468114012,0.223676634865132,0.223676634865132,0.223676634865132,0.223676634865132,0.223676634865132,0.223676634865132,0.223676634865132,0.223676634865132,0.223676634865132,0.223676634865132,0.223676634865132,0.223676634865132,0.223676634865132,0.223676634865132,0.158163265306122,0.158163265306122,0.158163265306122,0.158163265306122,0.158163265306122,0.158163265306122,0.158163265306122,0.158163265306122,0.158163265306122,0.158163265306122,0.158163265306122,0.158163265306122,0.158163265306122,0,0,0,0,0,0,0,0,0,0,0,0,0,0,0],\"fEYhigh\":[70.0213265915058,70.0211479627107,69.9961354320859,67.8811602041555,56.9370181134688,41.8128755386184,29.0706491073935,19.9862301619131,13.9748679267228,10.1852722048822,7.77577969697423,6.1622811418584,5.0562794720155,4.32859079270943,3.69912737213593,3.19082383192241,2.79819380817132,2.50078080268418,2.21992721569472,2.05612244897959,1.83087216319641,1.65883032108544,1.54967718420977,1.48370294443394,1.39686013702124,1.32328881747736,1.25538199963779,1.18358549989788,1.14053152591208,1.0957872456048,1.01273903755315,0.962069583873698,0.962069583873698,0.922242391531655,0.89470653946053,0.89470653946053,0.866295881768375,0.83692133309186,0.83692133309186,0.806477576129471,0.741851472216971,0.6894176900498,0.652123848949732,0.612563692512398,0.59179274994894,0.5478936228024,0.5478936228024,0.524568206637844,0.524568206637844,0.524568206637844,0.447353269730265,0.41846066654593,0.387419296052441,0.353663812767824,0.316326530612245,0.316326530612245,0.316326530612245,0.2739468114012,0.223676634865132,0.223676634865132,0.223676634865132,0.223676634865132,0.223676634865132,0.223676634865132,0.223676634865132,0.223676634865132,0.223676634865132,0.223676634865132,0.223676634865132,0.223676634865132,0.223676634865132,0.223676634865132,0.158163265306122,0.158163265306122,0.158163265306122,0.158163265306122,0.158163265306122,0.158163265306122,0.158163265306122,0.158163265306122,0.158163265306122,0.158163265306122,0.158163265306122,0.158163265306122,0.158163265306122,0,0,0,0,0,0,0,0,0,0,0,0,0,0,0]},{\"_typename\":\"TLatex\",\"fUniqueID\":0,\"fBits\":50348040,\"fName\":\"\",\"fTitle\":\"PU200, EG, hwQual 5, 2.4 < |#eta^{L1}| <= 2.8\",\"fTextAngle\":0,\"fTextSize\":0.03,\"fTextAlign\":11,\"fTextColor\":1,\"fTextFont\":62,\"fX\":0.15,\"fY\":0.85,\"fLineColor\":1,\"fLineStyle\":1,\"fLineWidth\":2,\"fLimitFactorSize\":3,\"fOriginSize\":0.04},{\"_typename\":\"TLatex\",\"fUniqueID\":0,\"fBits\":50331656,\"fName\":\"\",\"fTitle\":\"\",\"fTextAngle\":0,\"fTextSize\":0.03,\"fTextAlign\":11,\"fTextColor\":1,\"fTextFont\":62,\"fX\":0,\"fY\":0,\"fLineColor\":1,\"fLineStyle\":1,\"fLineWidth\":2,\"fLimitFactorSize\":3,\"fOriginSize\":0.04}],\"opt\":[\"\",\"pa\",\"same\",\"same\"]},\"fExecs\":null,\"fName\":\"c_9ed24e\",\"fTitle\":\"c_9ed24e\",\"fNumPaletteColor\":0,\"fNextPaletteColor\":0,\"fDISPLAY\":\"$DISPLAY\",\"fDoubleBuffer\":0,\"fRetained\":true,\"fXsizeUser\":0,\"fYsizeUser\":0,\"fXsizeReal\":20,\"fYsizeReal\":20,\"fWindowTopX\":0,\"fWindowTopY\":0,\"fWindowWidth\":0,\"fWindowHeight\":0,\"fCw\":596,\"fCh\":572,\"fCatt\":{\"_typename\":\"TAttCanvas\",\"fXBetween\":2,\"fYBetween\":2,\"fTitleFromTop\":1.2,\"fXdate\":0.2,\"fYdate\":0.3,\"fAdate\":1},\"kMoveOpaque\":true,\"kResizeOpaque\":true,\"fHighLightColor\":2,\"fBatch\":true,\"kShowEventStatus\":false,\"kAutoExec\":true,\"kMenuBar\":true});\n",
       "       Core.draw(\"root_plot_9\", obj, \"\");\n",
       "     }\n",
       " );\n",
       "</script>\n"
      ],
      "text/plain": [
       "<IPython.core.display.HTML object>"
      ]
     },
     "metadata": {},
     "output_type": "display_data"
    },
    {
     "data": {
      "text/html": [
       "\n",
       "<div id=\"root_plot_10\"\n",
       "     style=\"width: 796px; height: 572px\">\n",
       "</div>\n",
       "\n",
       "<script>\n",
       " requirejs.config({\n",
       "     paths: {\n",
       "       'JSRootCore' : 'https://root.cern.ch/js/notebook//scripts/JSRootCore',\n",
       "     }\n",
       "   });\n",
       " require(['JSRootCore'],\n",
       "     function(Core) {\n",
       "       var obj = Core.JSONR_unref({\"_typename\":\"TCanvas\",\"fUniqueID\":0,\"fBits\":53673992,\"fLineColor\":1,\"fLineStyle\":1,\"fLineWidth\":1,\"fFillColor\":0,\"fFillStyle\":1001,\"fLeftMargin\":0.13,\"fRightMargin\":0.3,\"fBottomMargin\":0.13,\"fTopMargin\":0.1,\"fXfile\":2,\"fYfile\":2,\"fAfile\":1,\"fXstat\":0.99,\"fYstat\":0.99,\"fAstat\":2,\"fFrameFillColor\":0,\"fFrameLineColor\":1,\"fFrameFillStyle\":1001,\"fFrameLineStyle\":1,\"fFrameLineWidth\":1,\"fFrameBorderSize\":1,\"fFrameBorderMode\":0,\"fX1\":-37.8684203921923,\"fY1\":-0.82306228142011,\"fX2\":172.657898039039,\"fY2\":5.5081861279105,\"fXtoAbsPixelk\":143.180545706201,\"fXtoPixelk\":143.180545706201,\"fXtoPixel\":3.7809999525547,\"fYtoAbsPixelk\":497.640051065433,\"fYtoPixelk\":497.640051065433,\"fYtoPixel\":-90.3455310894169,\"fUtoAbsPixelk\":5e-5,\"fUtoPixelk\":5e-5,\"fUtoPixel\":796,\"fVtoAbsPixelk\":572.00005,\"fVtoPixelk\":572,\"fVtoPixel\":-572,\"fAbsPixeltoXk\":-37.8684203921923,\"fPixeltoXk\":-37.8684203921923,\"fPixeltoX\":0.264480299536722,\"fAbsPixeltoYk\":5.5081861279105,\"fPixeltoYk\":-0.82306228142011,\"fPixeltoY\":-0.0110686161002283,\"fXlowNDC\":0,\"fYlowNDC\":0,\"fXUpNDC\":0,\"fYUpNDC\":0,\"fWNDC\":1,\"fHNDC\":1,\"fAbsXlowNDC\":0,\"fAbsYlowNDC\":0,\"fAbsWNDC\":1,\"fAbsHNDC\":1,\"fUxmin\":-10.5,\"fUymin\":0,\"fUxmax\":109.5,\"fUymax\":4.8750612633917,\"fTheta\":30,\"fPhi\":30,\"fAspectRatio\":0,\"fNumber\":0,\"fTickx\":0,\"fTicky\":0,\"fLogx\":0,\"fLogy\":1,\"fLogz\":0,\"fPadPaint\":0,\"fCrosshair\":0,\"fCrosshairPos\":0,\"fBorderSize\":2,\"fBorderMode\":0,\"fModified\":false,\"fGridx\":true,\"fGridy\":true,\"fAbsCoord\":false,\"fEditable\":true,\"fFixedAspectRatio\":false,\"fPrimitives\":{\"_typename\":\"TList\",\"name\":\"TList\",\"arr\":[{\"_typename\":\"TFrame\",\"fUniqueID\":0,\"fBits\":50331656,\"fLineColor\":1,\"fLineStyle\":1,\"fLineWidth\":1,\"fFillColor\":0,\"fFillStyle\":1001,\"fX1\":-10.5,\"fY1\":0,\"fX2\":109.5,\"fY2\":4.8750612633917,\"fBorderSize\":1,\"fBorderMode\":0},{\"_typename\":\"TGraphAsymmErrors\",\"fUniqueID\":0,\"fBits\":50332680,\"fName\":\"EG_EGq5EtaD_pt_online\",\"fTitle\":\"rate above p_{T} thresh.;; rate [kHz]\",\"fLineColor\":1,\"fLineStyle\":1,\"fLineWidth\":1,\"fFillColor\":0,\"fFillStyle\":1000,\"fMarkerColor\":1,\"fMarkerStyle\":8,\"fMarkerSize\":0.5,\"fNpoints\":100,\"fX\":[0,1,2,3,4,5,6,7,8,9,10,11,12,13,14,15,16,17,18,19,20,21,22,23,24,25,26,27,28,29,30,31,32,33,34,35,36,37,38,39,40,41,42,43,44,45,46,47,48,49,50,51,52,53,54,55,56,57,58,59,60,61,62,63,64,65,66,67,68,69,70,71,72,73,74,75,76,77,78,79,80,81,82,83,84,85,86,87,88,89,90,91,92,93,94,95,96,97,98,99],\"fY\":[30999.525390625,30999.3671875,30977.224609375,29133.515625,20496.693359375,11053.8720703125,5343.2294921875,2525.55102539062,1234.78063964844,655.903076171875,382.280609130859,240.091842651367,161.642852783203,118.464286804199,86.5153045654297,64.3724517822266,49.5051002502441,39.5408172607422,31.1581630706787,26.7295913696289,21.1938781738281,17.3979587554932,15.1836738586426,13.9183673858643,12.3367347717285,11.0714282989502,9.9642858505249,8.85714244842529,8.22449016571045,7.59183692932129,6.48469400405884,5.85204076766968,5.85204076766968,5.37755107879639,5.06122446060181,5.06122446060181,4.74489784240723,4.42857122421265,4.42857122421265,4.11224508285522,3.47959184646606,3.00510215759277,2.68877553939819,2.37244892120361,2.21428561210632,1.89795923233032,1.89795923233032,1.73979592323303,1.73979592323303,1.73979592323303,1.26530611515045,1.10714280605316,0.948979616165161,0.790816307067871,0.632653057575226,0.632653057575226,0.632653057575226,0.474489808082581,0.316326528787613,0.316326528787613,0.316326528787613,0.316326528787613,0.316326528787613,0.316326528787613,0.316326528787613,0.316326528787613,0.316326528787613,0.316326528787613,0.316326528787613,0.316326528787613,0.316326528787613,0.316326528787613,0.158163264393806,0.158163264393806,0.158163264393806,0.158163264393806,0.158163264393806,0.158163264393806,0.158163264393806,0.158163264393806,0.158163264393806,0.158163264393806,0.158163264393806,0.158163264393806,0.158163264393806,0,0,0,0,0,0,0,0,0,0,0,0,0,0,0],\"fFunctions\":{\"_typename\":\"TList\",\"name\":\"TList\",\"arr\":[],\"opt\":[]},\"fHistogram\":{\"_typename\":\"TH1F\",\"fUniqueID\":0,\"fBits\":50332168,\"fName\":\"EG_EGq5EtaD_pt_online\",\"fTitle\":\"rate above p_{T} thresh.\",\"fLineColor\":602,\"fLineStyle\":1,\"fLineWidth\":1,\"fFillColor\":0,\"fFillStyle\":1001,\"fMarkerColor\":1,\"fMarkerStyle\":1,\"fMarkerSize\":1,\"fNcells\":102,\"fXaxis\":{\"_typename\":\"TAxis\",\"fUniqueID\":0,\"fBits\":50331656,\"fName\":\"xaxis\",\"fTitle\":\"\",\"fNdivisions\":510,\"fAxisColor\":1,\"fLabelColor\":1,\"fLabelFont\":42,\"fLabelOffset\":0.005,\"fLabelSize\":0.035,\"fTickLength\":0.03,\"fTitleOffset\":1.4,\"fTitleSize\":0.035,\"fTitleColor\":1,\"fTitleFont\":42,\"fNbins\":100,\"fXmin\":-10.5,\"fXmax\":109.5,\"fXbins\":[],\"fFirst\":0,\"fLast\":0,\"fBits2\":0,\"fTimeDisplay\":false,\"fTimeFormat\":\"\",\"fLabels\":null,\"fModLabs\":null},\"fYaxis\":{\"_typename\":\"TAxis\",\"fUniqueID\":0,\"fBits\":50331656,\"fName\":\"yaxis\",\"fTitle\":\" rate [kHz]\",\"fNdivisions\":510,\"fAxisColor\":1,\"fLabelColor\":1,\"fLabelFont\":42,\"fLabelOffset\":0.005,\"fLabelSize\":0.035,\"fTickLength\":0.03,\"fTitleOffset\":0,\"fTitleSize\":0.035,\"fTitleColor\":1,\"fTitleFont\":42,\"fNbins\":1,\"fXmin\":1,\"fXmax\":75000,\"fXbins\":[],\"fFirst\":0,\"fLast\":0,\"fBits2\":0,\"fTimeDisplay\":false,\"fTimeFormat\":\"\",\"fLabels\":null,\"fModLabs\":null},\"fZaxis\":{\"_typename\":\"TAxis\",\"fUniqueID\":0,\"fBits\":50331648,\"fName\":\"zaxis\",\"fTitle\":\"\",\"fNdivisions\":510,\"fAxisColor\":1,\"fLabelColor\":1,\"fLabelFont\":42,\"fLabelOffset\":0.005,\"fLabelSize\":0.035,\"fTickLength\":0.03,\"fTitleOffset\":1,\"fTitleSize\":0.035,\"fTitleColor\":1,\"fTitleFont\":42,\"fNbins\":1,\"fXmin\":0,\"fXmax\":1,\"fXbins\":[],\"fFirst\":0,\"fLast\":0,\"fBits2\":0,\"fTimeDisplay\":false,\"fTimeFormat\":\"\",\"fLabels\":null,\"fModLabs\":null},\"fBarOffset\":0,\"fBarWidth\":1000,\"fEntries\":0,\"fTsumw\":0,\"fTsumw2\":0,\"fTsumwx\":0,\"fTsumwx2\":0,\"fMaximum\":75000,\"fMinimum\":1,\"fNormFactor\":0,\"fContour\":[],\"fSumw2\":[],\"fOption\":\"\",\"fFunctions\":{\"_typename\":\"TList\",\"name\":\"TList\",\"arr\":[],\"opt\":[]},\"fBufferSize\":0,\"fBuffer\":[],\"fBinStatErrOpt\":0,\"fStatOverflows\":2,\"fArray\":[0,0,0,0,0,0,0,0,0,0,0,0,0,0,0,0,0,0,0,0,0,0,0,0,0,0,0,0,0,0,0,0,0,0,0,0,0,0,0,0,0,0,0,0,0,0,0,0,0,0,0,0,0,0,0,0,0,0,0,0,0,0,0,0,0,0,0,0,0,0,0,0,0,0,0,0,0,0,0,0,0,0,0,0,0,0,0,0,0,0,0,0,0,0,0,0,0,0,0,0,0,0]},\"fMinimum\":-1111,\"fMaximum\":-1111,\"fEXlow\":[0.5,0.5,0.5,0.5,0.5,0.5,0.5,0.5,0.5,0.5,0.5,0.5,0.5,0.5,0.5,0.5,0.5,0.5,0.5,0.5,0.5,0.5,0.5,0.5,0.5,0.5,0.5,0.5,0.5,0.5,0.5,0.5,0.5,0.5,0.5,0.5,0.5,0.5,0.5,0.5,0.5,0.5,0.5,0.5,0.5,0.5,0.5,0.5,0.5,0.5,0.5,0.5,0.5,0.5,0.5,0.5,0.5,0.5,0.5,0.5,0.5,0.5,0.5,0.5,0.5,0.5,0.5,0.5,0.5,0.5,0.5,0.5,0.5,0.5,0.5,0.5,0.5,0.5,0.5,0.5,0.5,0.5,0.5,0.5,0.5,0.5,0.5,0.5,0.5,0.5,0.5,0.5,0.5,0.5,0.5,0.5,0.5,0.5,0.5,0.5],\"fEXhigh\":[0.5,0.5,0.5,0.5,0.5,0.5,0.5,0.5,0.5,0.5,0.5,0.5,0.5,0.5,0.5,0.5,0.5,0.5,0.5,0.5,0.5,0.5,0.5,0.5,0.5,0.5,0.5,0.5,0.5,0.5,0.5,0.5,0.5,0.5,0.5,0.5,0.5,0.5,0.5,0.5,0.5,0.5,0.5,0.5,0.5,0.5,0.5,0.5,0.5,0.5,0.5,0.5,0.5,0.5,0.5,0.5,0.5,0.5,0.5,0.5,0.5,0.5,0.5,0.5,0.5,0.5,0.5,0.5,0.5,0.5,0.5,0.5,0.5,0.5,0.5,0.5,0.5,0.5,0.5,0.5,0.5,0.5,0.5,0.5,0.5,0.5,0.5,0.5,0.5,0.5,0.5,0.5,0.5,0.5,0.5,0.5,0.5,0.5,0.5,0.5],\"fEYlow\":[70.0213265915058,70.0211479627107,69.9961354320859,67.8811602041555,56.9370181134688,41.8128755386184,29.0706491073935,19.9862301619131,13.9748679267228,10.1852722048822,7.77577969697423,6.1622811418584,5.0562794720155,4.32859079270943,3.69912737213593,3.19082383192241,2.79819380817132,2.50078080268418,2.21992721569472,2.05612244897959,1.83087216319641,1.65883032108544,1.54967718420977,1.48370294443394,1.39686013702124,1.32328881747736,1.25538199963779,1.18358549989788,1.14053152591208,1.0957872456048,1.01273903755315,0.962069583873698,0.962069583873698,0.922242391531655,0.89470653946053,0.89470653946053,0.866295881768375,0.83692133309186,0.83692133309186,0.806477576129471,0.741851472216971,0.6894176900498,0.652123848949732,0.612563692512398,0.59179274994894,0.5478936228024,0.5478936228024,0.524568206637844,0.524568206637844,0.524568206637844,0.447353269730265,0.41846066654593,0.387419296052441,0.353663812767824,0.316326530612245,0.316326530612245,0.316326530612245,0.2739468114012,0.223676634865132,0.223676634865132,0.223676634865132,0.223676634865132,0.223676634865132,0.223676634865132,0.223676634865132,0.223676634865132,0.223676634865132,0.223676634865132,0.223676634865132,0.223676634865132,0.223676634865132,0.223676634865132,0.158163265306122,0.158163265306122,0.158163265306122,0.158163265306122,0.158163265306122,0.158163265306122,0.158163265306122,0.158163265306122,0.158163265306122,0.158163265306122,0.158163265306122,0.158163265306122,0.158163265306122,0,0,0,0,0,0,0,0,0,0,0,0,0,0,0],\"fEYhigh\":[70.0213265915058,70.0211479627107,69.9961354320859,67.8811602041555,56.9370181134688,41.8128755386184,29.0706491073935,19.9862301619131,13.9748679267228,10.1852722048822,7.77577969697423,6.1622811418584,5.0562794720155,4.32859079270943,3.69912737213593,3.19082383192241,2.79819380817132,2.50078080268418,2.21992721569472,2.05612244897959,1.83087216319641,1.65883032108544,1.54967718420977,1.48370294443394,1.39686013702124,1.32328881747736,1.25538199963779,1.18358549989788,1.14053152591208,1.0957872456048,1.01273903755315,0.962069583873698,0.962069583873698,0.922242391531655,0.89470653946053,0.89470653946053,0.866295881768375,0.83692133309186,0.83692133309186,0.806477576129471,0.741851472216971,0.6894176900498,0.652123848949732,0.612563692512398,0.59179274994894,0.5478936228024,0.5478936228024,0.524568206637844,0.524568206637844,0.524568206637844,0.447353269730265,0.41846066654593,0.387419296052441,0.353663812767824,0.316326530612245,0.316326530612245,0.316326530612245,0.2739468114012,0.223676634865132,0.223676634865132,0.223676634865132,0.223676634865132,0.223676634865132,0.223676634865132,0.223676634865132,0.223676634865132,0.223676634865132,0.223676634865132,0.223676634865132,0.223676634865132,0.223676634865132,0.223676634865132,0.158163265306122,0.158163265306122,0.158163265306122,0.158163265306122,0.158163265306122,0.158163265306122,0.158163265306122,0.158163265306122,0.158163265306122,0.158163265306122,0.158163265306122,0.158163265306122,0.158163265306122,0,0,0,0,0,0,0,0,0,0,0,0,0,0,0]},{\"_typename\":\"TLatex\",\"fUniqueID\":0,\"fBits\":50348040,\"fName\":\"\",\"fTitle\":\"PU200, EG, hwQual 5, 2.4 < |#eta^{L1}| <= 2.8\",\"fTextAngle\":0,\"fTextSize\":0.03,\"fTextAlign\":11,\"fTextColor\":1,\"fTextFont\":62,\"fX\":0.15,\"fY\":0.85,\"fLineColor\":1,\"fLineStyle\":1,\"fLineWidth\":2,\"fLimitFactorSize\":3,\"fOriginSize\":0.04}],\"opt\":[\"\",\"pa\",\"same\"]},\"fExecs\":null,\"fName\":\"c_70b7c0\",\"fTitle\":\"c_70b7c0\",\"fNumPaletteColor\":0,\"fNextPaletteColor\":0,\"fDISPLAY\":\"$DISPLAY\",\"fDoubleBuffer\":0,\"fRetained\":true,\"fXsizeUser\":0,\"fYsizeUser\":0,\"fXsizeReal\":20,\"fYsizeReal\":15,\"fWindowTopX\":0,\"fWindowTopY\":0,\"fWindowWidth\":0,\"fWindowHeight\":0,\"fCw\":796,\"fCh\":572,\"fCatt\":{\"_typename\":\"TAttCanvas\",\"fXBetween\":2,\"fYBetween\":2,\"fTitleFromTop\":1.2,\"fXdate\":0.2,\"fYdate\":0.3,\"fAdate\":1},\"kMoveOpaque\":true,\"kResizeOpaque\":true,\"fHighLightColor\":2,\"fBatch\":true,\"kShowEventStatus\":false,\"kAutoExec\":true,\"kMenuBar\":true});\n",
       "       Core.draw(\"root_plot_10\", obj, \"\");\n",
       "     }\n",
       " );\n",
       "</script>\n"
      ],
      "text/plain": [
       "<IPython.core.display.HTML object>"
      ]
     },
     "metadata": {},
     "output_type": "display_data"
    }
   ],
   "source": [
    "hsets, labels, text = hplot.get_histo(histos.RateHistos, 'new-ID', 'PU200', ['EG'], 'EGq5EtaD', None)\n",
    "dc = DrawConfig()\n",
    "dm = DrawMachine(dc)\n",
    "for hist in hsets:\n",
    "    hist.normalize(31000)\n",
    "[his.h_pt_graph('online', 'rate [kHz]', convertRateToGraph) for his in hsets]\n",
    "\n",
    "dm.addHistos([his.g_pt_online for his in hsets], labels)\n",
    "dm.draw(text=text, y_min=1., y_max=75000, x_min=0, x_max=60., y_log=True)\n",
    "\n",
    "draw([his.g_pt_online for his in hsets], labels, text=text, min_y=1., max_y=75000, logy=True)"
   ]
  },
  {
   "cell_type": "code",
   "execution_count": 89,
   "metadata": {},
   "outputs": [
    {
     "name": "stdout",
     "output_type": "stream",
     "text": [
      "No match found for: pu: PU200, tp: ['HMvDR'], tp_sel: all, gen_sel: None, classtype: python.l1THistos.RateHistos\n"
     ]
    },
    {
     "ename": "TypeError",
     "evalue": "'NoneType' object is not iterable",
     "output_type": "error",
     "traceback": [
      "\u001b[0;31m\u001b[0m",
      "\u001b[0;31mTypeError\u001b[0mTraceback (most recent call last)",
      "\u001b[0;32m<ipython-input-89-7f8549e98646>\u001b[0m in \u001b[0;36m<module>\u001b[0;34m()\u001b[0m\n\u001b[1;32m      3\u001b[0m \u001b[0mhsets\u001b[0m\u001b[0;34m,\u001b[0m \u001b[0mlabels\u001b[0m\u001b[0;34m,\u001b[0m \u001b[0mtext\u001b[0m \u001b[0;34m=\u001b[0m \u001b[0mhplot\u001b[0m\u001b[0;34m.\u001b[0m\u001b[0mget_histo\u001b[0m\u001b[0;34m(\u001b[0m\u001b[0mhistos\u001b[0m\u001b[0;34m.\u001b[0m\u001b[0mRateHistos\u001b[0m\u001b[0;34m,\u001b[0m \u001b[0;34m'new-ID'\u001b[0m\u001b[0;34m,\u001b[0m \u001b[0;34m'PU200'\u001b[0m\u001b[0;34m,\u001b[0m \u001b[0;34m[\u001b[0m\u001b[0;34m'HMvDR'\u001b[0m\u001b[0;34m]\u001b[0m\u001b[0;34m,\u001b[0m \u001b[0;34m'all'\u001b[0m\u001b[0;34m,\u001b[0m \u001b[0mNone\u001b[0m\u001b[0;34m,\u001b[0m \u001b[0mdebug\u001b[0m\u001b[0;34m=\u001b[0m\u001b[0mFalse\u001b[0m\u001b[0;34m)\u001b[0m\u001b[0;34m\u001b[0m\u001b[0m\n\u001b[1;32m      4\u001b[0m \u001b[0;34m\u001b[0m\u001b[0m\n\u001b[0;32m----> 5\u001b[0;31m \u001b[0;32mfor\u001b[0m \u001b[0mhist\u001b[0m \u001b[0;32min\u001b[0m \u001b[0mhsets\u001b[0m\u001b[0;34m:\u001b[0m\u001b[0;34m\u001b[0m\u001b[0m\n\u001b[0m\u001b[1;32m      6\u001b[0m     \u001b[0mhist\u001b[0m\u001b[0;34m.\u001b[0m\u001b[0mnormalize\u001b[0m\u001b[0;34m(\u001b[0m\u001b[0;36m31000\u001b[0m\u001b[0;34m)\u001b[0m\u001b[0;34m\u001b[0m\u001b[0m\n\u001b[1;32m      7\u001b[0m \u001b[0;34m[\u001b[0m\u001b[0mhis\u001b[0m\u001b[0;34m.\u001b[0m\u001b[0mh_pt_graph\u001b[0m\u001b[0;34m(\u001b[0m\u001b[0;34m'online'\u001b[0m\u001b[0;34m,\u001b[0m \u001b[0;34m'rate [kHz]'\u001b[0m\u001b[0;34m,\u001b[0m \u001b[0mconvertRateToGraph\u001b[0m\u001b[0;34m)\u001b[0m \u001b[0;32mfor\u001b[0m \u001b[0mhis\u001b[0m \u001b[0;32min\u001b[0m \u001b[0mhsets\u001b[0m\u001b[0;34m]\u001b[0m\u001b[0;34m\u001b[0m\u001b[0m\n",
      "\u001b[0;31mTypeError\u001b[0m: 'NoneType' object is not iterable"
     ]
    }
   ],
   "source": [
    "# 'HMvDRCalib','HMvDRshapeDrCalib', \n",
    "dm = DrawMachine(tdr_config)\n",
    "hsets, labels, text = hplot.get_histo(histos.RateHistos, 'new-ID', 'PU200', ['HMvDR'], 'all', None, debug=False)\n",
    "\n",
    "for hist in hsets:\n",
    "    hist.normalize(31000)\n",
    "[his.h_pt_graph('online', 'rate [kHz]', convertRateToGraph) for his in hsets]\n",
    "\n",
    "dm.addHistos([his.g_pt_online for his in hsets], ['w/o EG ID'])\n",
    "\n",
    "hsets, labels, text = hplot.get_histo(histos.RateHistos, sample, 'PU200', ['EG'], ['EGq5EtaBCDE'], None)\n",
    "\n",
    "for hist in hsets:\n",
    "    hist.normalize(31000)\n",
    "[his.h_pt_graph('online', 'rate [kHz]', convertRateToGraph) for his in hsets]\n",
    "\n",
    "dm.addHistos([his.g_pt_online for his in hsets], ['w/ EG ID'])\n",
    "\n",
    "\n",
    "dm.draw(text='EG endcap, 1.52 < |#eta^{L1}| #leq 3.0',\n",
    "        y_log=True,\n",
    "        x_min=0., x_max=60.,\n",
    "        y_min=1., y_max=75000,\n",
    "        x_axis_label='threshold p_{T}^{L1} [GeV]'\n",
    "        )\n",
    "\n",
    "dm.write(name='figs/egammEndcap_EGID_EtaBCDE_rate')\n",
    "# # print text\n",
    "# draw([his.g_pt_online for his in final_haset], labels_final, text='EG endcap, 1.52 < |#eta^{L1}| #leq 2.8', logy=True,\n",
    "#      min_x=0., max_x=60., min_y=1., max_y=75000, x_axis_label='threshold p_{T}^{L1}[GeV]',\n",
    "#      do_write=True, write_name='figs/egammEndcap_EGID_EtaBCD_rate')"
   ]
  },
  {
   "cell_type": "code",
   "execution_count": 59,
   "metadata": {},
   "outputs": [
    {
     "name": "stdout",
     "output_type": "stream",
     "text": [
      "No match found for: pu: PU200, tp: ['HMvDR'], tp_sel: EtaBCD, gen_sel: None, classtype: python.l1THistos.RateHistos\n"
     ]
    },
    {
     "ename": "TypeError",
     "evalue": "'NoneType' object is not iterable",
     "output_type": "error",
     "traceback": [
      "\u001b[0;31m\u001b[0m",
      "\u001b[0;31mTypeError\u001b[0mTraceback (most recent call last)",
      "\u001b[0;32m<ipython-input-59-d676a5697e79>\u001b[0m in \u001b[0;36m<module>\u001b[0;34m()\u001b[0m\n\u001b[1;32m      4\u001b[0m \u001b[0mhsets\u001b[0m\u001b[0;34m,\u001b[0m \u001b[0mlabels\u001b[0m\u001b[0;34m,\u001b[0m \u001b[0mtext\u001b[0m \u001b[0;34m=\u001b[0m \u001b[0mhplot\u001b[0m\u001b[0;34m.\u001b[0m\u001b[0mget_histo\u001b[0m\u001b[0;34m(\u001b[0m\u001b[0mhistos\u001b[0m\u001b[0;34m.\u001b[0m\u001b[0mRateHistos\u001b[0m\u001b[0;34m,\u001b[0m \u001b[0;34m'hybrid'\u001b[0m\u001b[0;34m,\u001b[0m \u001b[0;34m'PU200'\u001b[0m\u001b[0;34m,\u001b[0m \u001b[0;34m[\u001b[0m\u001b[0;34m'HMvDR'\u001b[0m\u001b[0;34m]\u001b[0m\u001b[0;34m,\u001b[0m \u001b[0;34m'EtaBCD'\u001b[0m\u001b[0;34m,\u001b[0m \u001b[0mNone\u001b[0m\u001b[0;34m)\u001b[0m\u001b[0;34m\u001b[0m\u001b[0m\n\u001b[1;32m      5\u001b[0m \u001b[0;34m\u001b[0m\u001b[0m\n\u001b[0;32m----> 6\u001b[0;31m \u001b[0;32mfor\u001b[0m \u001b[0mhist\u001b[0m \u001b[0;32min\u001b[0m \u001b[0mhsets\u001b[0m\u001b[0;34m:\u001b[0m\u001b[0;34m\u001b[0m\u001b[0m\n\u001b[0m\u001b[1;32m      7\u001b[0m     \u001b[0mhist\u001b[0m\u001b[0;34m.\u001b[0m\u001b[0mnormalize\u001b[0m\u001b[0;34m(\u001b[0m\u001b[0;36m31000\u001b[0m\u001b[0;34m)\u001b[0m\u001b[0;34m\u001b[0m\u001b[0m\n\u001b[1;32m      8\u001b[0m \u001b[0;34m[\u001b[0m\u001b[0mhis\u001b[0m\u001b[0;34m.\u001b[0m\u001b[0mh_pt_graph\u001b[0m\u001b[0;34m(\u001b[0m\u001b[0;34m'online'\u001b[0m\u001b[0;34m,\u001b[0m \u001b[0;34m'rate [kHz]'\u001b[0m\u001b[0;34m,\u001b[0m \u001b[0mconvertRateToGraph\u001b[0m\u001b[0;34m)\u001b[0m \u001b[0;32mfor\u001b[0m \u001b[0mhis\u001b[0m \u001b[0;32min\u001b[0m \u001b[0mhsets\u001b[0m\u001b[0;34m]\u001b[0m\u001b[0;34m\u001b[0m\u001b[0m\n",
      "\u001b[0;31mTypeError\u001b[0m: 'NoneType' object is not iterable"
     ]
    }
   ],
   "source": [
    "# 'HMvDRCalib','HMvDRshapeDrCalib', \n",
    "final_haset = []\n",
    "labels_final = []\n",
    "hsets, labels, text = hplot.get_histo(histos.RateHistos, 'hybrid', 'PU200', ['HMvDR'], 'EtaBCD', None)\n",
    "\n",
    "for hist in hsets:\n",
    "    hist.normalize(31000)\n",
    "[his.h_pt_graph('online', 'rate [kHz]', convertRateToGraph) for his in hsets]\n",
    "[his.g_pt_online.GetXaxis().SetLimits(0, 60) for his in final_haset]\n",
    "\n",
    "final_haset.append(hsets[0]) \n",
    "labels_final.append('w/o EG ID')\n",
    "# hsets, labels, text = hplot.get_histo(histos.RateHistos, sample, 'PU200', ['HMvDRCalib'], 'EmEtaBCD', None)\n",
    "# for hist in hsets:\n",
    "#     hist.normalize(31000)\n",
    "# final_haset.append(hsets[0]) \n",
    "# labels_final.append('EG ID clusters')\n",
    "\n",
    "hsets, labels, text = hplot.get_histo(histos.RateHistos, sample, 'PU200', ['EG'], 'EGq5EtaBCD', None)\n",
    "\n",
    "for hist in hsets:\n",
    "    hist.normalize(31000)\n",
    "[his.h_pt_graph('online', 'rate [kHz]', convertRateToGraph) for his in hsets]\n",
    "[his.g_pt_online.GetXaxis().SetLimits(0, 60) for his in final_haset]\n",
    "\n",
    "final_haset.append(hsets[0]) \n",
    "labels_final.append('w/ EG ID')\n",
    "# print text\n",
    "dm = draw([his.g_pt_online for his in final_haset], labels_final, text='EG endcap, 1.52 < |#eta^{L1}| #leq 2.8', logy=True,\n",
    "     min_x=0., max_x=60., min_y=1., max_y=75000, x_axis_label='threshold p_{T}^{L1}[GeV]',\n",
    "     do_write=True, write_name='figs/egammEndcap_EGID_EtaBCD_rate')\n",
    "# dm.config = tdr_config\n",
    "# dm.draw(text)\n"
   ]
  },
  {
   "cell_type": "code",
   "execution_count": 53,
   "metadata": {},
   "outputs": [
    {
     "data": {
      "text/plain": [
       "[<ROOT.TGraphAsymmErrors object (\"cdae58\") at 0x7ff5b0af2870>,\n",
       " <ROOT.TGraphAsymmErrors object (\"29b5f3\") at 0x7ff5b0e28b10>]"
      ]
     },
     "execution_count": 53,
     "metadata": {},
     "output_type": "execute_result"
    }
   ],
   "source": [
    "dm.histos"
   ]
  },
  {
   "cell_type": "code",
   "execution_count": 60,
   "metadata": {},
   "outputs": [
    {
     "name": "stdout",
     "output_type": "stream",
     "text": [
      "normalize to 31000\n",
      "normalize to 31000\n"
     ]
    },
    {
     "data": {
      "text/plain": [
       "<__main__.DrawMachine at 0x10dd87890>"
      ]
     },
     "execution_count": 60,
     "metadata": {},
     "output_type": "execute_result"
    },
    {
     "name": "stderr",
     "output_type": "stream",
     "text": [
      "Info in <TCanvas::Print>: pdf file figs/egammBarrelEndcap_EG_rate.pdf has been created\n"
     ]
    },
    {
     "data": {
      "text/html": [
       "\n",
       "<div id=\"root_plot_19\"\n",
       "     style=\"width: 596px; height: 572px\">\n",
       "</div>\n",
       "\n",
       "<script>\n",
       " requirejs.config({\n",
       "     paths: {\n",
       "       'JSRootCore' : 'https://root.cern.ch/js/notebook//scripts/JSRootCore',\n",
       "     }\n",
       "   });\n",
       " require(['JSRootCore'],\n",
       "     function(Core) {\n",
       "       var obj = Core.JSONR_unref({\"_typename\":\"TCanvas\",\"fUniqueID\":0,\"fBits\":53673992,\"fLineColor\":1,\"fLineStyle\":1,\"fLineWidth\":1,\"fFillColor\":0,\"fFillStyle\":1001,\"fLeftMargin\":0.13,\"fRightMargin\":0.13,\"fBottomMargin\":0.13,\"fTopMargin\":0.1,\"fXfile\":2,\"fYfile\":2,\"fAfile\":1,\"fXstat\":0.99,\"fYstat\":0.99,\"fAstat\":2,\"fFrameFillColor\":0,\"fFrameLineColor\":1,\"fFrameFillStyle\":1001,\"fFrameLineStyle\":1,\"fFrameLineWidth\":1,\"fFrameBorderSize\":1,\"fFrameBorderMode\":0,\"fX1\":-10.5405400180747,\"fY1\":-0.82306228142011,\"fX2\":70.5405400180747,\"fY2\":5.5081861279105,\"fXtoAbsPixelk\":77.4800471580505,\"fXtoPixelk\":77.4800471580505,\"fXtoPixel\":7.35066676139832,\"fYtoAbsPixelk\":497.640051065433,\"fYtoPixelk\":497.640051065433,\"fYtoPixel\":-90.3455310894169,\"fUtoAbsPixelk\":5e-5,\"fUtoPixelk\":5e-5,\"fUtoPixel\":596,\"fVtoAbsPixelk\":572.00005,\"fVtoPixelk\":572,\"fVtoPixel\":-572,\"fAbsPixeltoXk\":-10.5405400180747,\"fPixeltoXk\":-10.5405400180747,\"fPixeltoX\":0.136042080597566,\"fAbsPixeltoYk\":5.5081861279105,\"fPixeltoYk\":-0.82306228142011,\"fPixeltoY\":-0.0110686161002283,\"fXlowNDC\":0,\"fYlowNDC\":0,\"fXUpNDC\":0,\"fYUpNDC\":0,\"fWNDC\":1,\"fHNDC\":1,\"fAbsXlowNDC\":0,\"fAbsYlowNDC\":0,\"fAbsWNDC\":1,\"fAbsHNDC\":1,\"fUxmin\":0,\"fUymin\":0,\"fUxmax\":60,\"fUymax\":4.8750612633917,\"fTheta\":30,\"fPhi\":30,\"fAspectRatio\":0,\"fNumber\":0,\"fTickx\":0,\"fTicky\":0,\"fLogx\":0,\"fLogy\":1,\"fLogz\":0,\"fPadPaint\":0,\"fCrosshair\":0,\"fCrosshairPos\":0,\"fBorderSize\":2,\"fBorderMode\":0,\"fModified\":false,\"fGridx\":true,\"fGridy\":true,\"fAbsCoord\":false,\"fEditable\":true,\"fFixedAspectRatio\":false,\"fPrimitives\":{\"_typename\":\"TList\",\"name\":\"TList\",\"arr\":[{\"_typename\":\"TFrame\",\"fUniqueID\":0,\"fBits\":50331656,\"fLineColor\":1,\"fLineStyle\":1,\"fLineWidth\":1,\"fFillColor\":0,\"fFillStyle\":1001,\"fX1\":0,\"fY1\":0,\"fX2\":60,\"fY2\":4.8750612633917,\"fBorderSize\":1,\"fBorderMode\":0},{\"_typename\":\"TGraphAsymmErrors\",\"fUniqueID\":0,\"fBits\":50332680,\"fName\":\"42c81e\",\"fTitle\":\";; rate [kHz]\",\"fLineColor\":1,\"fLineStyle\":1,\"fLineWidth\":1,\"fFillColor\":0,\"fFillStyle\":1001,\"fMarkerColor\":1,\"fMarkerStyle\":8,\"fMarkerSize\":0.5,\"fNpoints\":100,\"fX\":[0,1,2,3,4,5,6,7,8,9,10,11,12,13,14,15,16,17,18,19,20,21,22,23,24,25,26,27,28,29,30,31,32,33,34,35,36,37,38,39,40,41,42,43,44,45,46,47,48,49,50,51,52,53,54,55,56,57,58,59,60,61,62,63,64,65,66,67,68,69,70,71,72,73,74,75,76,77,78,79,80,81,82,83,84,85,86,87,88,89,90,91,92,93,94,95,96,97,98,99],\"fY\":[3674.29077148438,3254.525390625,2270.908203125,1627.81628417969,1235.25512695312,966.377563476562,759.183654785156,600.5458984375,484.454071044922,382.755096435547,305.887756347656,239.933670043945,195.647964477539,154.683670043945,122.102043151855,99.4846954345703,85.8826522827148,73.8622436523438,64.3724517822266,52.5102043151855,40.6479606628418,35.7448997497559,32.5816345214844,28.1530609130859,24.673469543457,22.1428565979004,21.5102043151855,18.5051021575928,17.2397956848145,16.2908172607422,14.3928575515747,12.6530609130859,11.7040815353394,11.0714282989502,10.9132652282715,10.5969390869141,9.9642858505249,8.85714244842529,8.22449016571045,8.06632614135742,6.95918369293213,6.95918369293213,6.32653045654297,5.85204076766968,5.5357141494751,5.06122446060181,4.74489784240723,4.74489784240723,4.58673477172852,4.42857122421265,4.27040815353394,3.95408153533936,3.63775515556335,3.47959184646606,3.16326522827148,3.16326522827148,2.84693884849548,2.68877553939819,2.37244892120361,2.21428561210632,1.89795923233032,1.73979592323303,1.58163261413574,1.42346942424774,1.26530611515045,1.26530611515045,1.26530611515045,1.26530611515045,1.26530611515045,1.26530611515045,1.26530611515045,1.26530611515045,1.26530611515045,1.10714280605316,1.10714280605316,1.10714280605316,1.10714280605316,0.948979616165161,0.948979616165161,0.948979616165161,0.790816307067871,0.632653057575226,0.632653057575226,0.632653057575226,0.632653057575226,0.632653057575226,0.632653057575226,0.632653057575226,0.632653057575226,0.632653057575226,0.474489808082581,0.474489808082581,0.474489808082581,0.474489808082581,0.474489808082581,0.474489808082581,0.474489808082581,0.316326528787613,0.316326528787613,0.316326528787613],\"fFunctions\":{\"_typename\":\"TList\",\"name\":\"TList\",\"arr\":[],\"opt\":[]},\"fHistogram\":{\"_typename\":\"TH1F\",\"fUniqueID\":0,\"fBits\":50332160,\"fName\":\"42c81e\",\"fTitle\":\"\",\"fLineColor\":602,\"fLineStyle\":1,\"fLineWidth\":1,\"fFillColor\":0,\"fFillStyle\":1001,\"fMarkerColor\":1,\"fMarkerStyle\":1,\"fMarkerSize\":1,\"fNcells\":102,\"fXaxis\":{\"_typename\":\"TAxis\",\"fUniqueID\":0,\"fBits\":50331656,\"fName\":\"xaxis\",\"fTitle\":\"threshold p_{T}^{L1} [GeV]\",\"fNdivisions\":510,\"fAxisColor\":1,\"fLabelColor\":1,\"fLabelFont\":42,\"fLabelOffset\":0.005,\"fLabelSize\":0.035,\"fTickLength\":0.03,\"fTitleOffset\":1.4,\"fTitleSize\":0.035,\"fTitleColor\":1,\"fTitleFont\":42,\"fNbins\":100,\"fXmin\":0,\"fXmax\":60,\"fXbins\":[],\"fFirst\":0,\"fLast\":0,\"fBits2\":0,\"fTimeDisplay\":false,\"fTimeFormat\":\"\",\"fLabels\":null,\"fModLabs\":null},\"fYaxis\":{\"_typename\":\"TAxis\",\"fUniqueID\":0,\"fBits\":50331656,\"fName\":\"yaxis\",\"fTitle\":\" rate [kHz]\",\"fNdivisions\":510,\"fAxisColor\":1,\"fLabelColor\":1,\"fLabelFont\":42,\"fLabelOffset\":0.005,\"fLabelSize\":0.035,\"fTickLength\":0.03,\"fTitleOffset\":0,\"fTitleSize\":0.035,\"fTitleColor\":1,\"fTitleFont\":42,\"fNbins\":1,\"fXmin\":1,\"fXmax\":75000,\"fXbins\":[],\"fFirst\":0,\"fLast\":0,\"fBits2\":0,\"fTimeDisplay\":false,\"fTimeFormat\":\"\",\"fLabels\":null,\"fModLabs\":null},\"fZaxis\":{\"_typename\":\"TAxis\",\"fUniqueID\":0,\"fBits\":50331648,\"fName\":\"zaxis\",\"fTitle\":\"\",\"fNdivisions\":510,\"fAxisColor\":1,\"fLabelColor\":1,\"fLabelFont\":42,\"fLabelOffset\":0.005,\"fLabelSize\":0.035,\"fTickLength\":0.03,\"fTitleOffset\":1,\"fTitleSize\":0.035,\"fTitleColor\":1,\"fTitleFont\":42,\"fNbins\":1,\"fXmin\":0,\"fXmax\":1,\"fXbins\":[],\"fFirst\":0,\"fLast\":0,\"fBits2\":0,\"fTimeDisplay\":false,\"fTimeFormat\":\"\",\"fLabels\":null,\"fModLabs\":null},\"fBarOffset\":0,\"fBarWidth\":1000,\"fEntries\":0,\"fTsumw\":0,\"fTsumw2\":0,\"fTsumwx\":0,\"fTsumwx2\":0,\"fMaximum\":75000,\"fMinimum\":1,\"fNormFactor\":0,\"fContour\":[],\"fSumw2\":[],\"fOption\":\"\",\"fFunctions\":{\"_typename\":\"TList\",\"name\":\"TList\",\"arr\":[],\"opt\":[]},\"fBufferSize\":0,\"fBuffer\":[],\"fBinStatErrOpt\":0,\"fStatOverflows\":2,\"fArray\":[0,0,0,0,0,0,0,0,0,0,0,0,0,0,0,0,0,0,0,0,0,0,0,0,0,0,0,0,0,0,0,0,0,0,0,0,0,0,0,0,0,0,0,0,0,0,0,0,0,0,0,0,0,0,0,0,0,0,0,0,0,0,0,0,0,0,0,0,0,0,0,0,0,0,0,0,0,0,0,0,0,0,0,0,0,0,0,0,0,0,0,0,0,0,0,0,0,0,0,0,0,0]},\"fMinimum\":-1111,\"fMaximum\":-1111,\"fEXlow\":[0.5,0.5,0.5,0.5,0.5,0.5,0.5,0.5,0.5,0.5,0.5,0.5,0.5,0.5,0.5,0.5,0.5,0.5,0.5,0.5,0.5,0.5,0.5,0.5,0.5,0.5,0.5,0.5,0.5,0.5,0.5,0.5,0.5,0.5,0.5,0.5,0.5,0.5,0.5,0.5,0.5,0.5,0.5,0.5,0.5,0.5,0.5,0.5,0.5,0.5,0.5,0.5,0.5,0.5,0.5,0.5,0.5,0.5,0.5,0.5,0.5,0.5,0.5,0.5,0.5,0.5,0.5,0.5,0.5,0.5,0.5,0.5,0.5,0.5,0.5,0.5,0.5,0.5,0.5,0.5,0.5,0.5,0.5,0.5,0.5,0.5,0.5,0.5,0.5,0.5,0.5,0.5,0.5,0.5,0.5,0.5,0.5,0.5,0.5,0.5],\"fEXhigh\":[0.5,0.5,0.5,0.5,0.5,0.5,0.5,0.5,0.5,0.5,0.5,0.5,0.5,0.5,0.5,0.5,0.5,0.5,0.5,0.5,0.5,0.5,0.5,0.5,0.5,0.5,0.5,0.5,0.5,0.5,0.5,0.5,0.5,0.5,0.5,0.5,0.5,0.5,0.5,0.5,0.5,0.5,0.5,0.5,0.5,0.5,0.5,0.5,0.5,0.5,0.5,0.5,0.5,0.5,0.5,0.5,0.5,0.5,0.5,0.5,0.5,0.5,0.5,0.5,0.5,0.5,0.5,0.5,0.5,0.5,0.5,0.5,0.5,0.5,0.5,0.5,0.5,0.5,0.5,0.5,0.5,0.5,0.5,0.5,0.5,0.5,0.5,0.5,0.5,0.5,0.5,0.5,0.5,0.5,0.5,0.5,0.5,0.5,0.5,0.5],\"fEYlow\":[24.1068005590643,22.6880228692575,18.9518930535282,16.0455833649855,13.9775527337522,12.3630671351377,10.957872456048,9.74598909373716,8.75344728903415,7.78060388089213,6.95558812496099,6.16025107059861,5.56276191068508,4.94623845820886,4.39454860890759,3.96671451350529,3.68557740948635,3.41793707313369,3.19082383192241,2.88187184646401,2.53555002958328,2.37771524351816,2.27006991289095,2.11016115299957,1.97545855051378,1.87141299261314,1.84448478306331,1.71079728886812,1.65127296824606,1.60518182917275,1.50878138999619,1.4146552510713,1.36057185346082,1.32328881747736,1.31380275382888,1.29462212208187,1.25538199963779,1.18358549989788,1.14053152591208,1.12951163920831,1.04913641327569,1.04913641327569,1.00031232107367,0.962069583873698,0.935706496306572,0.89470653946053,0.866295881768375,0.866295881768375,0.851735250108008,0.83692133309186,0.8218404342036,0.790816326530612,0.758524373585175,0.741851472216971,0.707327625535648,0.707327625535648,0.671029904595397,0.652123848949732,0.612563692512398,0.59179274994894,0.5478936228024,0.524568206637844,0.500156160536836,0.474489795918367,0.447353269730265,0.447353269730265,0.447353269730265,0.447353269730265,0.447353269730265,0.447353269730265,0.447353269730265,0.447353269730265,0.447353269730265,0.41846066654593,0.41846066654593,0.41846066654593,0.41846066654593,0.387419296052441,0.387419296052441,0.387419296052441,0.353663812767824,0.316326530612245,0.316326530612245,0.316326530612245,0.316326530612245,0.316326530612245,0.316326530612245,0.316326530612245,0.316326530612245,0.316326530612245,0.2739468114012,0.2739468114012,0.2739468114012,0.2739468114012,0.2739468114012,0.2739468114012,0.2739468114012,0.223676634865132,0.223676634865132,0.223676634865132],\"fEYhigh\":[24.1068005590643,22.6880228692575,18.9518930535282,16.0455833649855,13.9775527337522,12.3630671351377,10.957872456048,9.74598909373716,8.75344728903415,7.78060388089213,6.95558812496099,6.16025107059861,5.56276191068508,4.94623845820886,4.39454860890759,3.96671451350529,3.68557740948635,3.41793707313369,3.19082383192241,2.88187184646401,2.53555002958328,2.37771524351816,2.27006991289095,2.11016115299957,1.97545855051378,1.87141299261314,1.84448478306331,1.71079728886812,1.65127296824606,1.60518182917275,1.50878138999619,1.4146552510713,1.36057185346082,1.32328881747736,1.31380275382888,1.29462212208187,1.25538199963779,1.18358549989788,1.14053152591208,1.12951163920831,1.04913641327569,1.04913641327569,1.00031232107367,0.962069583873698,0.935706496306572,0.89470653946053,0.866295881768375,0.866295881768375,0.851735250108008,0.83692133309186,0.8218404342036,0.790816326530612,0.758524373585175,0.741851472216971,0.707327625535648,0.707327625535648,0.671029904595397,0.652123848949732,0.612563692512398,0.59179274994894,0.5478936228024,0.524568206637844,0.500156160536836,0.474489795918367,0.447353269730265,0.447353269730265,0.447353269730265,0.447353269730265,0.447353269730265,0.447353269730265,0.447353269730265,0.447353269730265,0.447353269730265,0.41846066654593,0.41846066654593,0.41846066654593,0.41846066654593,0.387419296052441,0.387419296052441,0.387419296052441,0.353663812767824,0.316326530612245,0.316326530612245,0.316326530612245,0.316326530612245,0.316326530612245,0.316326530612245,0.316326530612245,0.316326530612245,0.316326530612245,0.2739468114012,0.2739468114012,0.2739468114012,0.2739468114012,0.2739468114012,0.2739468114012,0.2739468114012,0.223676634865132,0.223676634865132,0.223676634865132]},{\"_typename\":\"TGraphAsymmErrors\",\"fUniqueID\":0,\"fBits\":50332680,\"fName\":\"deb2e6\",\"fTitle\":\";; rate [kHz]\",\"fLineColor\":628,\"fLineStyle\":1,\"fLineWidth\":1,\"fFillColor\":0,\"fFillStyle\":1001,\"fMarkerColor\":628,\"fMarkerStyle\":21,\"fMarkerSize\":0.5,\"fNpoints\":100,\"fX\":[0,1,2,3,4,5,6,7,8,9,10,11,12,13,14,15,16,17,18,19,20,21,22,23,24,25,26,27,28,29,30,31,32,33,34,35,36,37,38,39,40,41,42,43,44,45,46,47,48,49,50,51,52,53,54,55,56,57,58,59,60,61,62,63,64,65,66,67,68,69,70,71,72,73,74,75,76,77,78,79,80,81,82,83,84,85,86,87,88,89,90,91,92,93,94,95,96,97,98,99],\"fY\":[4629.28076171875,4209.51513671875,3340.25,2664.10205078125,2157.9794921875,1747.07141113281,1411.29077148438,1142.41320800781,932.372436523438,763.137756347656,624.586730957031,503.117340087891,408.535705566406,327.39794921875,268.719390869141,223.642852783203,190.744903564453,159.428573608398,137.443878173828,114.668365478516,89.6785736083984,78.4489822387695,70.0663299560547,61.3673477172852,56.4642868041992,50.4540824890137,46.3418350219727,40.4897956848145,36.6938781738281,32.1071434020996,27.3622455596924,22.4591827392578,20.4030609130859,19.2959175109863,18.5051021575928,17.3979587554932,15.8163261413574,14.5510206222534,13.6020412445068,12.9693880081177,11.0714282989502,10.438775062561,9.80612277984619,9.33163261413574,8.69897937774658,8.06632614135742,7.59183692932129,6.95918369293213,6.32653045654297,6.01020431518555,5.37755107879639,5.06122446060181,4.74489784240723,4.58673477172852,4.27040815353394,4.27040815353394,3.47959184646606,3.32142853736877,2.84693884849548,2.84693884849548,2.5306122303009,2.37244892120361,2.05612254142761,1.89795923233032,1.89795923233032,1.89795923233032,1.89795923233032,1.89795923233032,1.89795923233032,1.89795923233032,1.89795923233032,1.58163261413574,1.58163261413574,1.58163261413574,1.58163261413574,1.58163261413574,1.58163261413574,1.42346942424774,1.42346942424774,1.42346942424774,1.42346942424774,1.26530611515045,1.10714280605316,1.10714280605316,1.10714280605316,1.10714280605316,1.10714280605316,1.10714280605316,1.10714280605316,1.10714280605316,0.790816307067871,0.790816307067871,0.790816307067871,0.790816307067871,0.790816307067871,0.632653057575226,0.632653057575226,0.474489808082581,0.474489808082581,0.474489808082581],\"fFunctions\":{\"_typename\":\"TList\",\"name\":\"TList\",\"arr\":[],\"opt\":[]},\"fHistogram\":{\"_typename\":\"TH1F\",\"fUniqueID\":0,\"fBits\":50332160,\"fName\":\"deb2e6\",\"fTitle\":\"\",\"fLineColor\":602,\"fLineStyle\":1,\"fLineWidth\":1,\"fFillColor\":0,\"fFillStyle\":1001,\"fMarkerColor\":1,\"fMarkerStyle\":1,\"fMarkerSize\":1,\"fNcells\":102,\"fXaxis\":{\"_typename\":\"TAxis\",\"fUniqueID\":0,\"fBits\":50331656,\"fName\":\"xaxis\",\"fTitle\":\"threshold p_{T}^{L1} [GeV]\",\"fNdivisions\":510,\"fAxisColor\":1,\"fLabelColor\":1,\"fLabelFont\":42,\"fLabelOffset\":0.005,\"fLabelSize\":0.035,\"fTickLength\":0.03,\"fTitleOffset\":1.4,\"fTitleSize\":0.035,\"fTitleColor\":1,\"fTitleFont\":42,\"fNbins\":100,\"fXmin\":0,\"fXmax\":60,\"fXbins\":[],\"fFirst\":0,\"fLast\":0,\"fBits2\":0,\"fTimeDisplay\":false,\"fTimeFormat\":\"\",\"fLabels\":null,\"fModLabs\":null},\"fYaxis\":{\"_typename\":\"TAxis\",\"fUniqueID\":0,\"fBits\":50331656,\"fName\":\"yaxis\",\"fTitle\":\" rate [kHz]\",\"fNdivisions\":510,\"fAxisColor\":1,\"fLabelColor\":1,\"fLabelFont\":42,\"fLabelOffset\":0.005,\"fLabelSize\":0.035,\"fTickLength\":0.03,\"fTitleOffset\":0,\"fTitleSize\":0.035,\"fTitleColor\":1,\"fTitleFont\":42,\"fNbins\":1,\"fXmin\":0.180488697013243,\"fXmax\":5121.95353433,\"fXbins\":[],\"fFirst\":0,\"fLast\":0,\"fBits2\":0,\"fTimeDisplay\":false,\"fTimeFormat\":\"\",\"fLabels\":null,\"fModLabs\":null},\"fZaxis\":{\"_typename\":\"TAxis\",\"fUniqueID\":0,\"fBits\":50331648,\"fName\":\"zaxis\",\"fTitle\":\"\",\"fNdivisions\":510,\"fAxisColor\":1,\"fLabelColor\":1,\"fLabelFont\":42,\"fLabelOffset\":0.005,\"fLabelSize\":0.035,\"fTickLength\":0.03,\"fTitleOffset\":1,\"fTitleSize\":0.035,\"fTitleColor\":1,\"fTitleFont\":42,\"fNbins\":1,\"fXmin\":0,\"fXmax\":1,\"fXbins\":[],\"fFirst\":0,\"fLast\":0,\"fBits2\":0,\"fTimeDisplay\":false,\"fTimeFormat\":\"\",\"fLabels\":null,\"fModLabs\":null},\"fBarOffset\":0,\"fBarWidth\":1000,\"fEntries\":0,\"fTsumw\":0,\"fTsumw2\":0,\"fTsumwx\":0,\"fTsumwx2\":0,\"fMaximum\":75000,\"fMinimum\":1,\"fNormFactor\":0,\"fContour\":[],\"fSumw2\":[],\"fOption\":\"\",\"fFunctions\":{\"_typename\":\"TList\",\"name\":\"TList\",\"arr\":[],\"opt\":[]},\"fBufferSize\":0,\"fBuffer\":[],\"fBinStatErrOpt\":0,\"fStatOverflows\":2,\"fArray\":[0,0,0,0,0,0,0,0,0,0,0,0,0,0,0,0,0,0,0,0,0,0,0,0,0,0,0,0,0,0,0,0,0,0,0,0,0,0,0,0,0,0,0,0,0,0,0,0,0,0,0,0,0,0,0,0,0,0,0,0,0,0,0,0,0,0,0,0,0,0,0,0,0,0,0,0,0,0,0,0,0,0,0,0,0,0,0,0,0,0,0,0,0,0,0,0,0,0,0,0,0,0]},\"fMinimum\":-1111,\"fMaximum\":-1111,\"fEXlow\":[0.5,0.5,0.5,0.5,0.5,0.5,0.5,0.5,0.5,0.5,0.5,0.5,0.5,0.5,0.5,0.5,0.5,0.5,0.5,0.5,0.5,0.5,0.5,0.5,0.5,0.5,0.5,0.5,0.5,0.5,0.5,0.5,0.5,0.5,0.5,0.5,0.5,0.5,0.5,0.5,0.5,0.5,0.5,0.5,0.5,0.5,0.5,0.5,0.5,0.5,0.5,0.5,0.5,0.5,0.5,0.5,0.5,0.5,0.5,0.5,0.5,0.5,0.5,0.5,0.5,0.5,0.5,0.5,0.5,0.5,0.5,0.5,0.5,0.5,0.5,0.5,0.5,0.5,0.5,0.5,0.5,0.5,0.5,0.5,0.5,0.5,0.5,0.5,0.5,0.5,0.5,0.5,0.5,0.5,0.5,0.5,0.5,0.5,0.5,0.5],\"fEXhigh\":[0.5,0.5,0.5,0.5,0.5,0.5,0.5,0.5,0.5,0.5,0.5,0.5,0.5,0.5,0.5,0.5,0.5,0.5,0.5,0.5,0.5,0.5,0.5,0.5,0.5,0.5,0.5,0.5,0.5,0.5,0.5,0.5,0.5,0.5,0.5,0.5,0.5,0.5,0.5,0.5,0.5,0.5,0.5,0.5,0.5,0.5,0.5,0.5,0.5,0.5,0.5,0.5,0.5,0.5,0.5,0.5,0.5,0.5,0.5,0.5,0.5,0.5,0.5,0.5,0.5,0.5,0.5,0.5,0.5,0.5,0.5,0.5,0.5,0.5,0.5,0.5,0.5,0.5,0.5,0.5,0.5,0.5,0.5,0.5,0.5,0.5,0.5,0.5,0.5,0.5,0.5,0.5,0.5,0.5,0.5,0.5,0.5,0.5,0.5,0.5],\"fEYlow\":[27.0588643082258,25.8029201094068,22.9848830090296,20.527130288577,18.4746609903638,16.6229516592538,14.9403602301533,13.4420166779336,12.1436020608417,10.986371522269,9.93914872743498,8.92046424935328,8.03836690911765,7.19599404384484,6.5193201960334,5.94744353046794,5.49261648958924,5.02152799855116,4.66246420573973,4.25867625054004,3.76614599891337,3.52246316832103,3.32895163558839,3.1154550189355,2.9884069002981,2.82488624532778,2.70731900932313,2.53061224489796,2.40907108450797,2.25347965465319,2.08031295702522,1.88473282613369,1.79638937469192,1.74697036496329,1.71079728886812,1.65883032108544,1.58163265306122,1.51704874717035,1.46674578245085,1.43222928205235,1.32328881747736,1.28492444154957,1.24537879639983,1.21487509277514,1.17297016887738,1.12951163920831,1.0957872456048,1.04913641327569,1.00031232107367,0.974983847408359,0.922242391531655,0.89470653946053,0.866295881768375,0.851735250108008,0.8218404342036,0.8218404342036,0.741851472216971,0.724795135426689,0.671029904595397,0.671029904595397,0.63265306122449,0.612563692512398,0.570265762956039,0.5478936228024,0.5478936228024,0.5478936228024,0.5478936228024,0.5478936228024,0.5478936228024,0.5478936228024,0.5478936228024,0.500156160536836,0.500156160536836,0.500156160536836,0.500156160536836,0.500156160536836,0.500156160536836,0.474489795918367,0.474489795918367,0.474489795918367,0.474489795918367,0.447353269730265,0.41846066654593,0.41846066654593,0.41846066654593,0.41846066654593,0.41846066654593,0.41846066654593,0.41846066654593,0.41846066654593,0.353663812767824,0.353663812767824,0.353663812767824,0.353663812767824,0.353663812767824,0.316326530612245,0.316326530612245,0.2739468114012,0.2739468114012,0.2739468114012],\"fEYhigh\":[27.0588643082258,25.8029201094068,22.9848830090296,20.527130288577,18.4746609903638,16.6229516592538,14.9403602301533,13.4420166779336,12.1436020608417,10.986371522269,9.93914872743498,8.92046424935328,8.03836690911765,7.19599404384484,6.5193201960334,5.94744353046794,5.49261648958924,5.02152799855116,4.66246420573973,4.25867625054004,3.76614599891337,3.52246316832103,3.32895163558839,3.1154550189355,2.9884069002981,2.82488624532778,2.70731900932313,2.53061224489796,2.40907108450797,2.25347965465319,2.08031295702522,1.88473282613369,1.79638937469192,1.74697036496329,1.71079728886812,1.65883032108544,1.58163265306122,1.51704874717035,1.46674578245085,1.43222928205235,1.32328881747736,1.28492444154957,1.24537879639983,1.21487509277514,1.17297016887738,1.12951163920831,1.0957872456048,1.04913641327569,1.00031232107367,0.974983847408359,0.922242391531655,0.89470653946053,0.866295881768375,0.851735250108008,0.8218404342036,0.8218404342036,0.741851472216971,0.724795135426689,0.671029904595397,0.671029904595397,0.63265306122449,0.612563692512398,0.570265762956039,0.5478936228024,0.5478936228024,0.5478936228024,0.5478936228024,0.5478936228024,0.5478936228024,0.5478936228024,0.5478936228024,0.500156160536836,0.500156160536836,0.500156160536836,0.500156160536836,0.500156160536836,0.500156160536836,0.474489795918367,0.474489795918367,0.474489795918367,0.474489795918367,0.447353269730265,0.41846066654593,0.41846066654593,0.41846066654593,0.41846066654593,0.41846066654593,0.41846066654593,0.41846066654593,0.41846066654593,0.353663812767824,0.353663812767824,0.353663812767824,0.353663812767824,0.353663812767824,0.316326530612245,0.316326530612245,0.2739468114012,0.2739468114012,0.2739468114012]},{\"_typename\":\"TGraphAsymmErrors\",\"fUniqueID\":0,\"fBits\":50332680,\"fName\":\"df7a7f\",\"fTitle\":\";; rate [kHz]\",\"fLineColor\":417,\"fLineStyle\":1,\"fLineWidth\":1,\"fFillColor\":0,\"fFillStyle\":1001,\"fMarkerColor\":417,\"fMarkerStyle\":22,\"fMarkerSize\":0.5,\"fNpoints\":100,\"fX\":[0,1,2,3,4,5,6,7,8,9,10,11,12,13,14,15,16,17,18,19,20,21,22,23,24,25,26,27,28,29,30,31,32,33,34,35,36,37,38,39,40,41,42,43,44,45,46,47,48,49,50,51,52,53,54,55,56,57,58,59,60,61,62,63,64,65,66,67,68,69,70,71,72,73,74,75,76,77,78,79,80,81,82,83,84,85,86,87,88,89,90,91,92,93,94,95,96,97,98,99],\"fY\":[31000,31000,31000,31000,30825.072265625,28203.19921875,21625.98046875,14746.1943359375,9794.892578125,6652.5048828125,4700.2958984375,3454.12744140625,2616.96948242188,2023.85717773438,1595.39282226562,1286.18371582031,1053.36730957031,875.433654785156,729.448974609375,573.974487304688,430.994903564453,364.091827392578,310.316314697266,265.556121826172,231.867340087891,198.969390869141,178.408157348633,155.316329956055,142.030609130859,123.209182739258,103.596939086914,87.6224517822266,77.5,70.3826522827148,63.8979606628418,57.8877563476562,53.7755088806152,49.3469390869141,46.5,42.3877563476562,36.5357131958008,33.2142868041992,30.8418369293213,28.7857151031494,26.8877544403076,24.3571434020996,22.7755107879639,21.1938781738281,19.6122455596924,18.6632652282715,16.1326522827148,14.8673467636108,14.076530456543,12.4948978424072,11.3877553939819,11.2295913696289,9.80612277984619,8.69897937774658,7.59183692932129,6.95918369293213,6.48469400405884,6.01020431518555,5.06122446060181,4.42857122421265,4.42857122421265,4.42857122421265,4.42857122421265,4.27040815353394,4.27040815353394,4.11224508285522,4.11224508285522,3.79591846466064,3.47959184646606,3.47959184646606,3.16326522827148,3.16326522827148,3.16326522827148,3.00510215759277,3.00510215759277,3.00510215759277,2.84693884849548,2.5306122303009,2.37244892120361,2.37244892120361,2.21428561210632,2.05612254142761,1.89795923233032,1.89795923233032,1.73979592323303,1.58163261413574,1.26530611515045,1.26530611515045,1.26530611515045,1.26530611515045,1.26530611515045,1.10714280605316,1.10714280605316,0.948979616165161,0.948979616165161,0.948979616165161],\"fFunctions\":{\"_typename\":\"TList\",\"name\":\"TList\",\"arr\":[],\"opt\":[]},\"fHistogram\":{\"_typename\":\"TH1F\",\"fUniqueID\":0,\"fBits\":50332160,\"fName\":\"df7a7f\",\"fTitle\":\"\",\"fLineColor\":602,\"fLineStyle\":1,\"fLineWidth\":1,\"fFillColor\":0,\"fFillStyle\":1001,\"fMarkerColor\":1,\"fMarkerStyle\":1,\"fMarkerSize\":1,\"fNcells\":102,\"fXaxis\":{\"_typename\":\"TAxis\",\"fUniqueID\":0,\"fBits\":50331656,\"fName\":\"xaxis\",\"fTitle\":\"threshold p_{T}^{L1} [GeV]\",\"fNdivisions\":510,\"fAxisColor\":1,\"fLabelColor\":1,\"fLabelFont\":42,\"fLabelOffset\":0.005,\"fLabelSize\":0.035,\"fTickLength\":0.03,\"fTitleOffset\":1.4,\"fTitleSize\":0.035,\"fTitleColor\":1,\"fTitleFont\":42,\"fNbins\":100,\"fXmin\":0,\"fXmax\":60,\"fXbins\":[],\"fFirst\":0,\"fLast\":0,\"fBits2\":0,\"fTimeDisplay\":false,\"fTimeFormat\":\"\",\"fLabels\":null,\"fModLabs\":null},\"fYaxis\":{\"_typename\":\"TAxis\",\"fUniqueID\":0,\"fBits\":50331656,\"fName\":\"yaxis\",\"fTitle\":\" rate [kHz]\",\"fNdivisions\":510,\"fAxisColor\":1,\"fLabelColor\":1,\"fLabelFont\":42,\"fLabelOffset\":0.005,\"fLabelSize\":0.035,\"fTickLength\":0.03,\"fTitleOffset\":0,\"fTitleSize\":0.035,\"fTitleColor\":1,\"fTitleFont\":42,\"fNbins\":1,\"fXmin\":0.505404288101448,\"fXmax\":34176.9678926907,\"fXbins\":[],\"fFirst\":0,\"fLast\":0,\"fBits2\":0,\"fTimeDisplay\":false,\"fTimeFormat\":\"\",\"fLabels\":null,\"fModLabs\":null},\"fZaxis\":{\"_typename\":\"TAxis\",\"fUniqueID\":0,\"fBits\":50331648,\"fName\":\"zaxis\",\"fTitle\":\"\",\"fNdivisions\":510,\"fAxisColor\":1,\"fLabelColor\":1,\"fLabelFont\":42,\"fLabelOffset\":0.005,\"fLabelSize\":0.035,\"fTickLength\":0.03,\"fTitleOffset\":1,\"fTitleSize\":0.035,\"fTitleColor\":1,\"fTitleFont\":42,\"fNbins\":1,\"fXmin\":0,\"fXmax\":1,\"fXbins\":[],\"fFirst\":0,\"fLast\":0,\"fBits2\":0,\"fTimeDisplay\":false,\"fTimeFormat\":\"\",\"fLabels\":null,\"fModLabs\":null},\"fBarOffset\":0,\"fBarWidth\":1000,\"fEntries\":0,\"fTsumw\":0,\"fTsumw2\":0,\"fTsumwx\":0,\"fTsumwx2\":0,\"fMaximum\":75000,\"fMinimum\":1,\"fNormFactor\":0,\"fContour\":[],\"fSumw2\":[],\"fOption\":\"\",\"fFunctions\":{\"_typename\":\"TList\",\"name\":\"TList\",\"arr\":[],\"opt\":[]},\"fBufferSize\":0,\"fBuffer\":[],\"fBinStatErrOpt\":0,\"fStatOverflows\":2,\"fArray\":[0,0,0,0,0,0,0,0,0,0,0,0,0,0,0,0,0,0,0,0,0,0,0,0,0,0,0,0,0,0,0,0,0,0,0,0,0,0,0,0,0,0,0,0,0,0,0,0,0,0,0,0,0,0,0,0,0,0,0,0,0,0,0,0,0,0,0,0,0,0,0,0,0,0,0,0,0,0,0,0,0,0,0,0,0,0,0,0,0,0,0,0,0,0,0,0,0,0,0,0,0,0]},\"fMinimum\":-1111,\"fMaximum\":-1111,\"fEXlow\":[0.5,0.5,0.5,0.5,0.5,0.5,0.5,0.5,0.5,0.5,0.5,0.5,0.5,0.5,0.5,0.5,0.5,0.5,0.5,0.5,0.5,0.5,0.5,0.5,0.5,0.5,0.5,0.5,0.5,0.5,0.5,0.5,0.5,0.5,0.5,0.5,0.5,0.5,0.5,0.5,0.5,0.5,0.5,0.5,0.5,0.5,0.5,0.5,0.5,0.5,0.5,0.5,0.5,0.5,0.5,0.5,0.5,0.5,0.5,0.5,0.5,0.5,0.5,0.5,0.5,0.5,0.5,0.5,0.5,0.5,0.5,0.5,0.5,0.5,0.5,0.5,0.5,0.5,0.5,0.5,0.5,0.5,0.5,0.5,0.5,0.5,0.5,0.5,0.5,0.5,0.5,0.5,0.5,0.5,0.5,0.5,0.5,0.5,0.5,0.5],\"fEXhigh\":[0.5,0.5,0.5,0.5,0.5,0.5,0.5,0.5,0.5,0.5,0.5,0.5,0.5,0.5,0.5,0.5,0.5,0.5,0.5,0.5,0.5,0.5,0.5,0.5,0.5,0.5,0.5,0.5,0.5,0.5,0.5,0.5,0.5,0.5,0.5,0.5,0.5,0.5,0.5,0.5,0.5,0.5,0.5,0.5,0.5,0.5,0.5,0.5,0.5,0.5,0.5,0.5,0.5,0.5,0.5,0.5,0.5,0.5,0.5,0.5,0.5,0.5,0.5,0.5,0.5,0.5,0.5,0.5,0.5,0.5,0.5,0.5,0.5,0.5,0.5,0.5,0.5,0.5,0.5,0.5,0.5,0.5,0.5,0.5,0.5,0.5,0.5,0.5,0.5,0.5,0.5,0.5,0.5,0.5,0.5,0.5,0.5,0.5,0.5,0.5],\"fEYlow\":[70.021862475157,70.021862475157,70.021862475157,70.021862475157,69.8240212995307,66.7885472419527,58.4844898044641,48.2939558797022,39.3597794405575,32.4373539211264,27.2656221339991,23.3734056622741,20.3447394570073,17.8913346128064,15.8849785562266,14.2627840753249,12.9075179317591,11.7669642794925,10.7411373925886,9.52794203952449,8.25636484123028,7.58854095128061,7.00575788062095,6.48083508882637,6.05581511521812,5.60978146306137,5.31202575853211,4.95634314383433,4.73962291813186,4.41442712087284,4.04786735361389,3.72272113442994,3.50109312375785,3.33645773674285,3.17904228831375,3.02584143143357,2.91638651200081,2.79372027404248,2.71193507236709,2.58924424416373,2.40387351408516,2.29200346495853,2.20862980284101,2.13373910438874,2.06219667919676,1.96275450523325,1.89795918367347,1.83087216319641,1.76123158416052,1.71809283279187,1.59737067902666,1.53344975081537,1.49210926068242,1.40578585171828,1.34205980919079,1.33270736208402,1.24537879639983,1.17297016887738,1.0957872456048,1.04913641327569,1.01273903755315,0.974983847408359,0.89470653946053,0.83692133309186,0.83692133309186,0.83692133309186,0.83692133309186,0.8218404342036,0.8218404342036,0.806477576129471,0.806477576129471,0.774838592104883,0.741851472216971,0.741851472216971,0.707327625535648,0.707327625535648,0.707327625535648,0.6894176900498,0.6894176900498,0.6894176900498,0.671029904595397,0.63265306122449,0.612563692512398,0.612563692512398,0.59179274994894,0.570265762956039,0.5478936228024,0.5478936228024,0.524568206637844,0.500156160536836,0.447353269730265,0.447353269730265,0.447353269730265,0.447353269730265,0.447353269730265,0.41846066654593,0.41846066654593,0.387419296052441,0.387419296052441,0.387419296052441],\"fEYhigh\":[70.021862475157,70.021862475157,70.021862475157,70.021862475157,69.8240212995307,66.7885472419527,58.4844898044641,48.2939558797022,39.3597794405575,32.4373539211264,27.2656221339991,23.3734056622741,20.3447394570073,17.8913346128064,15.8849785562266,14.2627840753249,12.9075179317591,11.7669642794925,10.7411373925886,9.52794203952449,8.25636484123028,7.58854095128061,7.00575788062095,6.48083508882637,6.05581511521812,5.60978146306137,5.31202575853211,4.95634314383433,4.73962291813186,4.41442712087284,4.04786735361389,3.72272113442994,3.50109312375785,3.33645773674285,3.17904228831375,3.02584143143357,2.91638651200081,2.79372027404248,2.71193507236709,2.58924424416373,2.40387351408516,2.29200346495853,2.20862980284101,2.13373910438874,2.06219667919676,1.96275450523325,1.89795918367347,1.83087216319641,1.76123158416052,1.71809283279187,1.59737067902666,1.53344975081537,1.49210926068242,1.40578585171828,1.34205980919079,1.33270736208402,1.24537879639983,1.17297016887738,1.0957872456048,1.04913641327569,1.01273903755315,0.974983847408359,0.89470653946053,0.83692133309186,0.83692133309186,0.83692133309186,0.83692133309186,0.8218404342036,0.8218404342036,0.806477576129471,0.806477576129471,0.774838592104883,0.741851472216971,0.741851472216971,0.707327625535648,0.707327625535648,0.707327625535648,0.6894176900498,0.6894176900498,0.6894176900498,0.671029904595397,0.63265306122449,0.612563692512398,0.612563692512398,0.59179274994894,0.570265762956039,0.5478936228024,0.5478936228024,0.524568206637844,0.500156160536836,0.447353269730265,0.447353269730265,0.447353269730265,0.447353269730265,0.447353269730265,0.41846066654593,0.41846066654593,0.387419296052441,0.387419296052441,0.387419296052441]},{\"_typename\":\"TLegend\",\"fUniqueID\":0,\"fBits\":50331656,\"fLineColor\":1,\"fLineStyle\":1,\"fLineWidth\":1,\"fFillColor\":0,\"fFillStyle\":0,\"fX1\":21.8918919963851,\"fY1\":3.29224918464479,\"fX2\":42.9729728057839,\"fY2\":3.92537402557785,\"fX1NDC\":0.4,\"fY1NDC\":0.65,\"fX2NDC\":0.66,\"fY2NDC\":0.75,\"fBorderSize\":0,\"fInit\":1,\"fShadowColor\":1,\"fCornerRadius\":0,\"fOption\":\"brNDC\",\"fName\":\"TPave\",\"fTextAngle\":0,\"fTextSize\":0.03,\"fTextAlign\":12,\"fTextColor\":1,\"fTextFont\":42,\"fPrimitives\":{\"_typename\":\"TList\",\"name\":\"TList\",\"arr\":[{\"_typename\":\"TLegendEntry\",\"fUniqueID\":0,\"fBits\":50331656,\"fTextAngle\":0,\"fTextSize\":0,\"fTextAlign\":0,\"fTextColor\":0,\"fTextFont\":42,\"fLineColor\":1,\"fLineStyle\":1,\"fLineWidth\":1,\"fFillColor\":0,\"fFillStyle\":0,\"fMarkerColor\":1,\"fMarkerStyle\":8,\"fMarkerSize\":0.5,\"fObject\":{\"$ref\":3},\"fLabel\":\"calorimeter-only\",\"fOption\":\"P\"},{\"_typename\":\"TLegendEntry\",\"fUniqueID\":0,\"fBits\":50331656,\"fTextAngle\":0,\"fTextSize\":0,\"fTextAlign\":0,\"fTextColor\":0,\"fTextFont\":42,\"fLineColor\":1,\"fLineStyle\":1,\"fLineWidth\":1,\"fFillColor\":0,\"fFillStyle\":0,\"fMarkerColor\":628,\"fMarkerStyle\":21,\"fMarkerSize\":0.5,\"fObject\":{\"$ref\":10},\"fLabel\":\"track-matched\",\"fOption\":\"P\"},{\"_typename\":\"TLegendEntry\",\"fUniqueID\":0,\"fBits\":50331656,\"fTextAngle\":0,\"fTextSize\":0,\"fTextAlign\":0,\"fTextColor\":0,\"fTextFont\":42,\"fLineColor\":1,\"fLineStyle\":1,\"fLineWidth\":1,\"fFillColor\":0,\"fFillStyle\":0,\"fMarkerColor\":417,\"fMarkerStyle\":22,\"fMarkerSize\":0.5,\"fObject\":{\"$ref\":17},\"fLabel\":\"track-matched + charged iso.\",\"fOption\":\"P\"}],\"opt\":[\"P\",\"P\",\"P\"]},\"fEntrySeparation\":0.1,\"fMargin\":0.25,\"fNColumns\":1,\"fColumnSeparation\":0},{\"_typename\":\"TLatex\",\"fUniqueID\":0,\"fBits\":50348040,\"fName\":\"\",\"fTitle\":\"EG barrel & endcap\",\"fTextAngle\":0,\"fTextSize\":0.03,\"fTextAlign\":11,\"fTextColor\":1,\"fTextFont\":62,\"fX\":0.15,\"fY\":0.85,\"fLineColor\":1,\"fLineStyle\":1,\"fLineWidth\":2,\"fLimitFactorSize\":3,\"fOriginSize\":0.0299999993294477},{\"_typename\":\"TLatex\",\"fUniqueID\":0,\"fBits\":50348041,\"fName\":\"\",\"fTitle\":\"#scale[1.5]{CMS} #scale[1.]{Phase-2 Simulation}\",\"fTextAngle\":0,\"fTextSize\":0.03,\"fTextAlign\":11,\"fTextColor\":1,\"fTextFont\":62,\"fX\":0.13,\"fY\":0.91,\"fLineColor\":1,\"fLineStyle\":1,\"fLineWidth\":2,\"fLimitFactorSize\":3,\"fOriginSize\":0.0299999993294477},{\"_typename\":\"TLatex\",\"fUniqueID\":0,\"fBits\":50348041,\"fName\":\"\",\"fTitle\":\"14TeV, 200 PU\",\"fTextAngle\":0,\"fTextSize\":0.03,\"fTextAlign\":11,\"fTextColor\":1,\"fTextFont\":62,\"fX\":0.69,\"fY\":0.91,\"fLineColor\":1,\"fLineStyle\":1,\"fLineWidth\":2,\"fLimitFactorSize\":3,\"fOriginSize\":0.0299999993294477},{\"_typename\":\"TLatex\",\"fUniqueID\":0,\"fBits\":50331656,\"fName\":\"\",\"fTitle\":\"\",\"fTextAngle\":0,\"fTextSize\":0.03,\"fTextAlign\":11,\"fTextColor\":1,\"fTextFont\":62,\"fX\":0,\"fY\":0,\"fLineColor\":1,\"fLineStyle\":1,\"fLineWidth\":2,\"fLimitFactorSize\":3,\"fOriginSize\":0.04}],\"opt\":[\"\",\"pa\",\",p\",\",p\",\"same\",\"same\",\"\",\"\",\"same\"]},\"fExecs\":null,\"fName\":\"c_3b1687\",\"fTitle\":\"c_3b1687\",\"fNumPaletteColor\":0,\"fNextPaletteColor\":0,\"fDISPLAY\":\"$DISPLAY\",\"fDoubleBuffer\":0,\"fRetained\":true,\"fXsizeUser\":0,\"fYsizeUser\":0,\"fXsizeReal\":20,\"fYsizeReal\":20,\"fWindowTopX\":0,\"fWindowTopY\":0,\"fWindowWidth\":0,\"fWindowHeight\":0,\"fCw\":596,\"fCh\":572,\"fCatt\":{\"_typename\":\"TAttCanvas\",\"fXBetween\":2,\"fYBetween\":2,\"fTitleFromTop\":1.2,\"fXdate\":0.2,\"fYdate\":0.3,\"fAdate\":1},\"kMoveOpaque\":true,\"kResizeOpaque\":true,\"fHighLightColor\":2,\"fBatch\":true,\"kShowEventStatus\":false,\"kAutoExec\":true,\"kMenuBar\":true});\n",
       "       Core.draw(\"root_plot_19\", obj, \"\");\n",
       "     }\n",
       " );\n",
       "</script>\n"
      ],
      "text/plain": [
       "<IPython.core.display.HTML object>"
      ]
     },
     "metadata": {},
     "output_type": "display_data"
    }
   ],
   "source": [
    "# 'HMvDRCalib','HMvDRshapeDrCalib', \n",
    "final_haset = []\n",
    "labels_final = []\n",
    "# hsets, labels, text = hplot.get_histo(histos.RateHistos, 'old-ID', 'PU200', ['HMvDR'], 'EtaBCD', None)\n",
    "\n",
    "# for hist in hsets:\n",
    "#     hist.normalize(31000)\n",
    "# [his.h_pt_graph('online', 'rate [kHz]', convertRateToGraph) for his in hsets]\n",
    "# [his.g_pt_online.GetXaxis().SetLimits(0, 60) for his in final_haset]\n",
    "\n",
    "# final_haset.append(hsets[0]) \n",
    "# labels_final.append('w/o EG ID')\n",
    "# hsets, labels, text = hplot.get_histo(histos.RateHistos, sample, 'PU200', ['HMvDRCalib'], 'EmEtaBCD', None)\n",
    "# for hist in hsets:\n",
    "#     hist.normalize(31000)\n",
    "# final_haset.append(hsets[0]) \n",
    "# labels_final.append('EG ID clusters')\n",
    "\n",
    "hsets, labels, text = hplot.get_histo(histos.RateHistos, sample, 'PU200', ['EGALL', 'TkEleELALL'], ['LooseTkID', 'Iso0p1'], None)\n",
    "\n",
    "for hist in hsets:\n",
    "    hist.normalize(31000)\n",
    "[his.h_pt_graph('online', 'rate [kHz]', convertRateToGraph) for his in hsets]\n",
    "[his.g_pt_online.GetXaxis().SetLimits(0, 60) for his in hsets]\n",
    "final_haset.append(hsets[0]) \n",
    "labels_final.append('calorimeter-only')\n",
    "labels_final.append('track-matched')\n",
    "labels_final.append('track-matched + charged iso.')\n",
    "\n",
    "\n",
    "\n",
    "\n",
    "# print text\n",
    "draw([his.g_pt_online for his in hsets], labels_final, text='EG barrel & endcap', logy=True,\n",
    "     min_x=0., max_x=60., min_y=1., max_y=75000, x_axis_label='threshold p_{T}^{L1} [GeV]',\n",
    "     legend_position=(0.4, 0.65, 0.66, 0.75),\n",
    "     do_write=True, write_name='figs/egammBarrelEndcap_EG_rate')"
   ]
  },
  {
   "cell_type": "code",
   "execution_count": null,
   "metadata": {},
   "outputs": [],
   "source": []
  },
  {
   "cell_type": "code",
   "execution_count": 61,
   "metadata": {},
   "outputs": [
    {
     "name": "stdout",
     "output_type": "stream",
     "text": [
      "normalize to 31000\n",
      "normalize to 31000\n"
     ]
    },
    {
     "data": {
      "text/plain": [
       "<__main__.DrawMachine at 0x1079cd1d0>"
      ]
     },
     "execution_count": 61,
     "metadata": {},
     "output_type": "execute_result"
    },
    {
     "name": "stderr",
     "output_type": "stream",
     "text": [
      "Info in <TCanvas::Print>: pdf file egammBarrel_EG_rate.pdf has been created\n"
     ]
    },
    {
     "data": {
      "text/html": [
       "\n",
       "<div id=\"root_plot_20\"\n",
       "     style=\"width: 596px; height: 572px\">\n",
       "</div>\n",
       "\n",
       "<script>\n",
       " requirejs.config({\n",
       "     paths: {\n",
       "       'JSRootCore' : 'https://root.cern.ch/js/notebook//scripts/JSRootCore',\n",
       "     }\n",
       "   });\n",
       " require(['JSRootCore'],\n",
       "     function(Core) {\n",
       "       var obj = Core.JSONR_unref({\"_typename\":\"TCanvas\",\"fUniqueID\":0,\"fBits\":53673992,\"fLineColor\":1,\"fLineStyle\":1,\"fLineWidth\":1,\"fFillColor\":0,\"fFillStyle\":1001,\"fLeftMargin\":0.13,\"fRightMargin\":0.13,\"fBottomMargin\":0.13,\"fTopMargin\":0.1,\"fXfile\":2,\"fYfile\":2,\"fAfile\":1,\"fXstat\":0.99,\"fYstat\":0.99,\"fAstat\":2,\"fFrameFillColor\":0,\"fFrameLineColor\":1,\"fFrameFillStyle\":1001,\"fFrameLineStyle\":1,\"fFrameLineWidth\":1,\"fFrameBorderSize\":1,\"fFrameBorderMode\":0,\"fX1\":-10.5405400180747,\"fY1\":-0.82306228142011,\"fX2\":70.5405400180747,\"fY2\":5.5081861279105,\"fXtoAbsPixelk\":77.4800471580505,\"fXtoPixelk\":77.4800471580505,\"fXtoPixel\":7.35066676139832,\"fYtoAbsPixelk\":497.640051065433,\"fYtoPixelk\":497.640051065433,\"fYtoPixel\":-90.3455310894169,\"fUtoAbsPixelk\":5e-5,\"fUtoPixelk\":5e-5,\"fUtoPixel\":596,\"fVtoAbsPixelk\":572.00005,\"fVtoPixelk\":572,\"fVtoPixel\":-572,\"fAbsPixeltoXk\":-10.5405400180747,\"fPixeltoXk\":-10.5405400180747,\"fPixeltoX\":0.136042080597566,\"fAbsPixeltoYk\":5.5081861279105,\"fPixeltoYk\":-0.82306228142011,\"fPixeltoY\":-0.0110686161002283,\"fXlowNDC\":0,\"fYlowNDC\":0,\"fXUpNDC\":0,\"fYUpNDC\":0,\"fWNDC\":1,\"fHNDC\":1,\"fAbsXlowNDC\":0,\"fAbsYlowNDC\":0,\"fAbsWNDC\":1,\"fAbsHNDC\":1,\"fUxmin\":0,\"fUymin\":0,\"fUxmax\":60,\"fUymax\":4.8750612633917,\"fTheta\":30,\"fPhi\":30,\"fAspectRatio\":0,\"fNumber\":0,\"fTickx\":0,\"fTicky\":0,\"fLogx\":0,\"fLogy\":1,\"fLogz\":0,\"fPadPaint\":0,\"fCrosshair\":0,\"fCrosshairPos\":0,\"fBorderSize\":2,\"fBorderMode\":0,\"fModified\":false,\"fGridx\":true,\"fGridy\":true,\"fAbsCoord\":false,\"fEditable\":true,\"fFixedAspectRatio\":false,\"fPrimitives\":{\"_typename\":\"TList\",\"name\":\"TList\",\"arr\":[{\"_typename\":\"TFrame\",\"fUniqueID\":0,\"fBits\":50331656,\"fLineColor\":1,\"fLineStyle\":1,\"fLineWidth\":1,\"fFillColor\":0,\"fFillStyle\":1001,\"fX1\":0,\"fY1\":0,\"fX2\":60,\"fY2\":4.8750612633917,\"fBorderSize\":1,\"fBorderMode\":0},{\"_typename\":\"TGraphAsymmErrors\",\"fUniqueID\":0,\"fBits\":50332680,\"fName\":\"12658c\",\"fTitle\":\";; rate [kHz]\",\"fLineColor\":1,\"fLineStyle\":1,\"fLineWidth\":1,\"fFillColor\":0,\"fFillStyle\":1001,\"fMarkerColor\":1,\"fMarkerStyle\":8,\"fMarkerSize\":0.5,\"fNpoints\":100,\"fX\":[0,1,2,3,4,5,6,7,8,9,10,11,12,13,14,15,16,17,18,19,20,21,22,23,24,25,26,27,28,29,30,31,32,33,34,35,36,37,38,39,40,41,42,43,44,45,46,47,48,49,50,51,52,53,54,55,56,57,58,59,60,61,62,63,64,65,66,67,68,69,70,71,72,73,74,75,76,77,78,79,80,81,82,83,84,85,86,87,88,89,90,91,92,93,94,95,96,97,98,99],\"fY\":[31000,31000,31000,30822.3828125,27714.474609375,20593.96484375,13966.44921875,9363.8984375,6470.458984375,4632.12744140625,3423.12744140625,2591.50512695312,2018.32141113281,1583.05615234375,1270.20922851562,1037.23474121094,858.510192871094,720.591857910156,602.44384765625,469.112243652344,345.903076171875,293.867340087891,250.846939086914,215.102035522461,188.214279174805,161.168365478516,145.193878173828,126.688774108887,115.617347717285,99.326530456543,81.7704086303711,68.4846954345703,60.2602043151855,54.25,48.7142868041992,43.3367347717285,40.3316345214844,37.1683654785156,35.2704086303711,31.9489803314209,27.0459175109863,24.3571434020996,23.25,21.9846935272217,20.7193870544434,19.1377544403076,18.1887760162354,17.0816326141357,15.8163261413574,15.1836738586426,13.4438772201538,12.4948978424072,11.8622446060181,10.438775062561,9.64795875549316,9.48979568481445,8.38265323638916,7.59183692932129,6.64285707473755,6.01020431518555,5.5357141494751,5.06122446060181,4.11224508285522,3.47959184646606,3.47959184646606,3.47959184646606,3.47959184646606,3.32142853736877,3.32142853736877,3.16326522827148,3.16326522827148,2.84693884849548,2.68877553939819,2.68877553939819,2.37244892120361,2.37244892120361,2.37244892120361,2.37244892120361,2.37244892120361,2.37244892120361,2.21428561210632,1.89795923233032,1.73979592323303,1.73979592323303,1.58163261413574,1.58163261413574,1.42346942424774,1.42346942424774,1.26530611515045,1.10714280605316,0.948979616165161,0.948979616165161,0.948979616165161,0.948979616165161,0.948979616165161,0.790816307067871,0.790816307067871,0.790816307067871,0.790816307067871,0.790816307067871],\"fFunctions\":{\"_typename\":\"TList\",\"name\":\"TList\",\"arr\":[],\"opt\":[]},\"fHistogram\":{\"_typename\":\"TH1F\",\"fUniqueID\":0,\"fBits\":50332160,\"fName\":\"12658c\",\"fTitle\":\"\",\"fLineColor\":602,\"fLineStyle\":1,\"fLineWidth\":1,\"fFillColor\":0,\"fFillStyle\":1001,\"fMarkerColor\":1,\"fMarkerStyle\":1,\"fMarkerSize\":1,\"fNcells\":102,\"fXaxis\":{\"_typename\":\"TAxis\",\"fUniqueID\":0,\"fBits\":50331656,\"fName\":\"xaxis\",\"fTitle\":\"threshold p_{T}^{L1} [GeV]\",\"fNdivisions\":510,\"fAxisColor\":1,\"fLabelColor\":1,\"fLabelFont\":42,\"fLabelOffset\":0.005,\"fLabelSize\":0.035,\"fTickLength\":0.03,\"fTitleOffset\":1.4,\"fTitleSize\":0.035,\"fTitleColor\":1,\"fTitleFont\":42,\"fNbins\":100,\"fXmin\":0,\"fXmax\":60,\"fXbins\":[],\"fFirst\":0,\"fLast\":0,\"fBits2\":0,\"fTimeDisplay\":false,\"fTimeFormat\":\"\",\"fLabels\":null,\"fModLabs\":null},\"fYaxis\":{\"_typename\":\"TAxis\",\"fUniqueID\":0,\"fBits\":50331656,\"fName\":\"yaxis\",\"fTitle\":\" rate [kHz]\",\"fNdivisions\":510,\"fAxisColor\":1,\"fLabelColor\":1,\"fLabelFont\":42,\"fLabelOffset\":0.005,\"fLabelSize\":0.035,\"fTickLength\":0.03,\"fTitleOffset\":0,\"fTitleSize\":0.035,\"fTitleColor\":1,\"fTitleFont\":42,\"fNbins\":1,\"fXmin\":1,\"fXmax\":75000,\"fXbins\":[],\"fFirst\":0,\"fLast\":0,\"fBits2\":0,\"fTimeDisplay\":false,\"fTimeFormat\":\"\",\"fLabels\":null,\"fModLabs\":null},\"fZaxis\":{\"_typename\":\"TAxis\",\"fUniqueID\":0,\"fBits\":50331648,\"fName\":\"zaxis\",\"fTitle\":\"\",\"fNdivisions\":510,\"fAxisColor\":1,\"fLabelColor\":1,\"fLabelFont\":42,\"fLabelOffset\":0.005,\"fLabelSize\":0.035,\"fTickLength\":0.03,\"fTitleOffset\":1,\"fTitleSize\":0.035,\"fTitleColor\":1,\"fTitleFont\":42,\"fNbins\":1,\"fXmin\":0,\"fXmax\":1,\"fXbins\":[],\"fFirst\":0,\"fLast\":0,\"fBits2\":0,\"fTimeDisplay\":false,\"fTimeFormat\":\"\",\"fLabels\":null,\"fModLabs\":null},\"fBarOffset\":0,\"fBarWidth\":1000,\"fEntries\":0,\"fTsumw\":0,\"fTsumw2\":0,\"fTsumwx\":0,\"fTsumwx2\":0,\"fMaximum\":75000,\"fMinimum\":1,\"fNormFactor\":0,\"fContour\":[],\"fSumw2\":[],\"fOption\":\"\",\"fFunctions\":{\"_typename\":\"TList\",\"name\":\"TList\",\"arr\":[],\"opt\":[]},\"fBufferSize\":0,\"fBuffer\":[],\"fBinStatErrOpt\":0,\"fStatOverflows\":2,\"fArray\":[0,0,0,0,0,0,0,0,0,0,0,0,0,0,0,0,0,0,0,0,0,0,0,0,0,0,0,0,0,0,0,0,0,0,0,0,0,0,0,0,0,0,0,0,0,0,0,0,0,0,0,0,0,0,0,0,0,0,0,0,0,0,0,0,0,0,0,0,0,0,0,0,0,0,0,0,0,0,0,0,0,0,0,0,0,0,0,0,0,0,0,0,0,0,0,0,0,0,0,0,0,0]},\"fMinimum\":-1111,\"fMaximum\":-1111,\"fEXlow\":[0.5,0.5,0.5,0.5,0.5,0.5,0.5,0.5,0.5,0.5,0.5,0.5,0.5,0.5,0.5,0.5,0.5,0.5,0.5,0.5,0.5,0.5,0.5,0.5,0.5,0.5,0.5,0.5,0.5,0.5,0.5,0.5,0.5,0.5,0.5,0.5,0.5,0.5,0.5,0.5,0.5,0.5,0.5,0.5,0.5,0.5,0.5,0.5,0.5,0.5,0.5,0.5,0.5,0.5,0.5,0.5,0.5,0.5,0.5,0.5,0.5,0.5,0.5,0.5,0.5,0.5,0.5,0.5,0.5,0.5,0.5,0.5,0.5,0.5,0.5,0.5,0.5,0.5,0.5,0.5,0.5,0.5,0.5,0.5,0.5,0.5,0.5,0.5,0.5,0.5,0.5,0.5,0.5,0.5,0.5,0.5,0.5,0.5,0.5,0.5],\"fEXhigh\":[0.5,0.5,0.5,0.5,0.5,0.5,0.5,0.5,0.5,0.5,0.5,0.5,0.5,0.5,0.5,0.5,0.5,0.5,0.5,0.5,0.5,0.5,0.5,0.5,0.5,0.5,0.5,0.5,0.5,0.5,0.5,0.5,0.5,0.5,0.5,0.5,0.5,0.5,0.5,0.5,0.5,0.5,0.5,0.5,0.5,0.5,0.5,0.5,0.5,0.5,0.5,0.5,0.5,0.5,0.5,0.5,0.5,0.5,0.5,0.5,0.5,0.5,0.5,0.5,0.5,0.5,0.5,0.5,0.5,0.5,0.5,0.5,0.5,0.5,0.5,0.5,0.5,0.5,0.5,0.5,0.5,0.5,0.5,0.5,0.5,0.5,0.5,0.5,0.5,0.5,0.5,0.5,0.5,0.5,0.5,0.5,0.5,0.5,0.5,0.5],\"fEYlow\":[70.021862475157,70.021862475157,70.021862475157,69.82097596656,66.2073393329573,57.0719601645698,46.9997784605801,38.4840834270199,31.9904509583686,27.067183429087,23.2682838006746,20.2455157750118,17.8668494027396,15.8234422768682,14.1739349551076,12.8082952055482,11.6526725336369,10.6757275092096,9.76137750715293,8.61372883530394,7.3965639078324,6.81755228499818,6.29879122759119,5.83277302400162,5.45605956765786,5.04885286413146,4.79211203707997,4.47632778204727,4.27626204971907,3.96356006806522,3.59625843906086,3.2911643543226,3.08722377639917,2.92922466582151,2.77575404090975,2.61806788813598,2.52566480664699,2.42459694499711,2.3618812255873,2.24792235974545,2.0682530701494,1.96275450523325,1.9176276798084,1.86471739693418,1.81026131331657,1.73979591836735,1.6961120619269,1.6436808684072,1.58163265306122,1.54967718420977,1.45819325600041,1.40578585171828,1.369734057006,1.28492444154957,1.23529459159748,1.2251273850248,1.151445951876,1.0957872456048,1.02501511046247,0.974983847408359,0.935706496306572,0.89470653946053,0.806477576129471,0.741851472216971,0.741851472216971,0.741851472216971,0.741851472216971,0.724795135426689,0.724795135426689,0.707327625535648,0.707327625535648,0.671029904595397,0.652123848949732,0.652123848949732,0.612563692512398,0.612563692512398,0.612563692512398,0.612563692512398,0.612563692512398,0.612563692512398,0.59179274994894,0.5478936228024,0.524568206637844,0.524568206637844,0.500156160536836,0.500156160536836,0.474489795918367,0.474489795918367,0.447353269730265,0.41846066654593,0.387419296052441,0.387419296052441,0.387419296052441,0.387419296052441,0.387419296052441,0.353663812767824,0.353663812767824,0.353663812767824,0.353663812767824,0.353663812767824],\"fEYhigh\":[70.021862475157,70.021862475157,70.021862475157,69.82097596656,66.2073393329573,57.0719601645698,46.9997784605801,38.4840834270199,31.9904509583686,27.067183429087,23.2682838006746,20.2455157750118,17.8668494027396,15.8234422768682,14.1739349551076,12.8082952055482,11.6526725336369,10.6757275092096,9.76137750715293,8.61372883530394,7.3965639078324,6.81755228499818,6.29879122759119,5.83277302400162,5.45605956765786,5.04885286413146,4.79211203707997,4.47632778204727,4.27626204971907,3.96356006806522,3.59625843906086,3.2911643543226,3.08722377639917,2.92922466582151,2.77575404090975,2.61806788813598,2.52566480664699,2.42459694499711,2.3618812255873,2.24792235974545,2.0682530701494,1.96275450523325,1.9176276798084,1.86471739693418,1.81026131331657,1.73979591836735,1.6961120619269,1.6436808684072,1.58163265306122,1.54967718420977,1.45819325600041,1.40578585171828,1.369734057006,1.28492444154957,1.23529459159748,1.2251273850248,1.151445951876,1.0957872456048,1.02501511046247,0.974983847408359,0.935706496306572,0.89470653946053,0.806477576129471,0.741851472216971,0.741851472216971,0.741851472216971,0.741851472216971,0.724795135426689,0.724795135426689,0.707327625535648,0.707327625535648,0.671029904595397,0.652123848949732,0.652123848949732,0.612563692512398,0.612563692512398,0.612563692512398,0.612563692512398,0.612563692512398,0.612563692512398,0.59179274994894,0.5478936228024,0.524568206637844,0.524568206637844,0.500156160536836,0.500156160536836,0.474489795918367,0.474489795918367,0.447353269730265,0.41846066654593,0.387419296052441,0.387419296052441,0.387419296052441,0.387419296052441,0.387419296052441,0.353663812767824,0.353663812767824,0.353663812767824,0.353663812767824,0.353663812767824]},{\"_typename\":\"TGraphAsymmErrors\",\"fUniqueID\":0,\"fBits\":50332680,\"fName\":\"60bd84\",\"fTitle\":\";; rate [kHz]\",\"fLineColor\":628,\"fLineStyle\":1,\"fLineWidth\":1,\"fFillColor\":0,\"fFillStyle\":1001,\"fMarkerColor\":628,\"fMarkerStyle\":21,\"fMarkerSize\":0.5,\"fNpoints\":100,\"fX\":[0,1,2,3,4,5,6,7,8,9,10,11,12,13,14,15,16,17,18,19,20,21,22,23,24,25,26,27,28,29,30,31,32,33,34,35,36,37,38,39,40,41,42,43,44,45,46,47,48,49,50,51,52,53,54,55,56,57,58,59,60,61,62,63,64,65,66,67,68,69,70,71,72,73,74,75,76,77,78,79,80,81,82,83,84,85,86,87,88,89,90,91,92,93,94,95,96,97,98,99],\"fY\":[3104.74487304688,3104.74487304688,2774.658203125,2285.93359375,1854.62243652344,1486.41833496094,1183.85205078125,947.872436523438,769.622436523438,626.801025390625,517.35205078125,419.765319824219,343.214294433594,277.576538085938,230.760208129883,191.693878173828,163.382659912109,136.020401000977,117.51530456543,97.1122436523438,74.9693908691406,65.7959213256836,58.6785697937012,52.0357131958008,48.2397956848145,43.3367347717285,40.173469543457,35.1122436523438,31.7908172607422,27.3622455596924,22.9336738586426,18.5051021575928,17.0816326141357,15.9744901657104,15.1836738586426,14.076530456543,12.811224937439,11.8622446060181,11.3877553939819,10.7551021575928,9.01530647277832,8.38265323638916,8.06632614135742,7.75,7.11734676361084,6.48469400405884,6.16836738586426,5.69387769699097,5.21938753128052,4.9030613899231,4.27040815353394,3.95408153533936,3.63775515556335,3.47959184646606,3.32142853736877,3.32142853736877,2.84693884849548,2.84693884849548,2.37244892120361,2.37244892120361,2.05612254142761,1.89795923233032,1.58163261413574,1.42346942424774,1.42346942424774,1.42346942424774,1.42346942424774,1.42346942424774,1.42346942424774,1.42346942424774,1.42346942424774,1.10714280605316,1.10714280605316,1.10714280605316,1.10714280605316,1.10714280605316,1.10714280605316,1.10714280605316,1.10714280605316,1.10714280605316,1.10714280605316,0.948979616165161,0.790816307067871,0.790816307067871,0.790816307067871,0.790816307067871,0.790816307067871,0.790816307067871,0.790816307067871,0.790816307067871,0.632653057575226,0.632653057575226,0.632653057575226,0.632653057575226,0.632653057575226,0.474489808082581,0.474489808082581,0.474489808082581,0.474489808082581,0.474489808082581],\"fFunctions\":{\"_typename\":\"TList\",\"name\":\"TList\",\"arr\":[],\"opt\":[]},\"fHistogram\":{\"_typename\":\"TH1F\",\"fUniqueID\":0,\"fBits\":50332160,\"fName\":\"60bd84\",\"fTitle\":\"\",\"fLineColor\":602,\"fLineStyle\":1,\"fLineWidth\":1,\"fFillColor\":0,\"fFillStyle\":1001,\"fMarkerColor\":1,\"fMarkerStyle\":1,\"fMarkerSize\":1,\"fNcells\":102,\"fXaxis\":{\"_typename\":\"TAxis\",\"fUniqueID\":0,\"fBits\":50331656,\"fName\":\"xaxis\",\"fTitle\":\"threshold p_{T}^{L1} [GeV]\",\"fNdivisions\":510,\"fAxisColor\":1,\"fLabelColor\":1,\"fLabelFont\":42,\"fLabelOffset\":0.005,\"fLabelSize\":0.035,\"fTickLength\":0.03,\"fTitleOffset\":1.4,\"fTitleSize\":0.035,\"fTitleColor\":1,\"fTitleFont\":42,\"fNbins\":100,\"fXmin\":0,\"fXmax\":60,\"fXbins\":[],\"fFirst\":0,\"fLast\":0,\"fBits2\":0,\"fTimeDisplay\":false,\"fTimeFormat\":\"\",\"fLabels\":null,\"fModLabs\":null},\"fYaxis\":{\"_typename\":\"TAxis\",\"fUniqueID\":0,\"fBits\":50331656,\"fName\":\"yaxis\",\"fTitle\":\" rate [kHz]\",\"fNdivisions\":510,\"fAxisColor\":1,\"fLabelColor\":1,\"fLabelFont\":42,\"fLabelOffset\":0.005,\"fLabelSize\":0.035,\"fTickLength\":0.03,\"fTitleOffset\":0,\"fTitleSize\":0.035,\"fTitleColor\":1,\"fTitleFont\":42,\"fNbins\":1,\"fXmin\":0.180488697013243,\"fXmax\":3439.57508245214,\"fXbins\":[],\"fFirst\":0,\"fLast\":0,\"fBits2\":0,\"fTimeDisplay\":false,\"fTimeFormat\":\"\",\"fLabels\":null,\"fModLabs\":null},\"fZaxis\":{\"_typename\":\"TAxis\",\"fUniqueID\":0,\"fBits\":50331648,\"fName\":\"zaxis\",\"fTitle\":\"\",\"fNdivisions\":510,\"fAxisColor\":1,\"fLabelColor\":1,\"fLabelFont\":42,\"fLabelOffset\":0.005,\"fLabelSize\":0.035,\"fTickLength\":0.03,\"fTitleOffset\":1,\"fTitleSize\":0.035,\"fTitleColor\":1,\"fTitleFont\":42,\"fNbins\":1,\"fXmin\":0,\"fXmax\":1,\"fXbins\":[],\"fFirst\":0,\"fLast\":0,\"fBits2\":0,\"fTimeDisplay\":false,\"fTimeFormat\":\"\",\"fLabels\":null,\"fModLabs\":null},\"fBarOffset\":0,\"fBarWidth\":1000,\"fEntries\":0,\"fTsumw\":0,\"fTsumw2\":0,\"fTsumwx\":0,\"fTsumwx2\":0,\"fMaximum\":75000,\"fMinimum\":1,\"fNormFactor\":0,\"fContour\":[],\"fSumw2\":[],\"fOption\":\"\",\"fFunctions\":{\"_typename\":\"TList\",\"name\":\"TList\",\"arr\":[],\"opt\":[]},\"fBufferSize\":0,\"fBuffer\":[],\"fBinStatErrOpt\":0,\"fStatOverflows\":2,\"fArray\":[0,0,0,0,0,0,0,0,0,0,0,0,0,0,0,0,0,0,0,0,0,0,0,0,0,0,0,0,0,0,0,0,0,0,0,0,0,0,0,0,0,0,0,0,0,0,0,0,0,0,0,0,0,0,0,0,0,0,0,0,0,0,0,0,0,0,0,0,0,0,0,0,0,0,0,0,0,0,0,0,0,0,0,0,0,0,0,0,0,0,0,0,0,0,0,0,0,0,0,0,0,0]},\"fMinimum\":-1111,\"fMaximum\":-1111,\"fEXlow\":[0.5,0.5,0.5,0.5,0.5,0.5,0.5,0.5,0.5,0.5,0.5,0.5,0.5,0.5,0.5,0.5,0.5,0.5,0.5,0.5,0.5,0.5,0.5,0.5,0.5,0.5,0.5,0.5,0.5,0.5,0.5,0.5,0.5,0.5,0.5,0.5,0.5,0.5,0.5,0.5,0.5,0.5,0.5,0.5,0.5,0.5,0.5,0.5,0.5,0.5,0.5,0.5,0.5,0.5,0.5,0.5,0.5,0.5,0.5,0.5,0.5,0.5,0.5,0.5,0.5,0.5,0.5,0.5,0.5,0.5,0.5,0.5,0.5,0.5,0.5,0.5,0.5,0.5,0.5,0.5,0.5,0.5,0.5,0.5,0.5,0.5,0.5,0.5,0.5,0.5,0.5,0.5,0.5,0.5,0.5,0.5,0.5,0.5,0.5,0.5],\"fEXhigh\":[0.5,0.5,0.5,0.5,0.5,0.5,0.5,0.5,0.5,0.5,0.5,0.5,0.5,0.5,0.5,0.5,0.5,0.5,0.5,0.5,0.5,0.5,0.5,0.5,0.5,0.5,0.5,0.5,0.5,0.5,0.5,0.5,0.5,0.5,0.5,0.5,0.5,0.5,0.5,0.5,0.5,0.5,0.5,0.5,0.5,0.5,0.5,0.5,0.5,0.5,0.5,0.5,0.5,0.5,0.5,0.5,0.5,0.5,0.5,0.5,0.5,0.5,0.5,0.5,0.5,0.5,0.5,0.5,0.5,0.5,0.5,0.5,0.5,0.5,0.5,0.5,0.5,0.5,0.5,0.5,0.5,0.5,0.5,0.5,0.5,0.5,0.5,0.5,0.5,0.5,0.5,0.5,0.5,0.5,0.5,0.5,0.5,0.5,0.5,0.5],\"fEYlow\":[22.1597967274916,22.1597967274916,20.9487229971263,19.0144874784765,17.1269711986869,15.3328660918495,13.6836363739624,12.2441251882004,11.0329506290705,9.95675128166635,9.04577736229986,8.14809496008426,7.36776031968195,6.62588940852302,6.04133986630931,5.50626276276944,5.08341754162892,4.63825742099052,4.31121845187356,3.91913124994163,3.44345802433365,3.22591030451788,3.04643963679594,2.86882179369249,2.76220267904981,2.61806788813598,2.5207076579887,2.3565795775423,2.24235129204843,2.08031295702522,1.90453791807429,1.71079728886812,1.6436808684072,1.58952114415688,1.54967718420977,1.49210926068242,1.4234693877551,1.369734057006,1.34205980919079,1.30424769789946,1.19410646680303,1.151445951876,1.12951163920831,1.10714285714286,1.06099143830347,1.01273903755315,0.98772927525689,0.948979591836735,0.908578785932035,0.880615792080259,0.8218404342036,0.790816326530612,0.758524373585175,0.741851472216971,0.724795135426689,0.724795135426689,0.671029904595397,0.671029904595397,0.612563692512398,0.612563692512398,0.570265762956039,0.5478936228024,0.500156160536836,0.474489795918367,0.474489795918367,0.474489795918367,0.474489795918367,0.474489795918367,0.474489795918367,0.474489795918367,0.474489795918367,0.41846066654593,0.41846066654593,0.41846066654593,0.41846066654593,0.41846066654593,0.41846066654593,0.41846066654593,0.41846066654593,0.41846066654593,0.41846066654593,0.387419296052441,0.353663812767824,0.353663812767824,0.353663812767824,0.353663812767824,0.353663812767824,0.353663812767824,0.353663812767824,0.353663812767824,0.316326530612245,0.316326530612245,0.316326530612245,0.316326530612245,0.316326530612245,0.2739468114012,0.2739468114012,0.2739468114012,0.2739468114012,0.2739468114012],\"fEYhigh\":[22.1597967274916,22.1597967274916,20.9487229971263,19.0144874784765,17.1269711986869,15.3328660918495,13.6836363739624,12.2441251882004,11.0329506290705,9.95675128166635,9.04577736229986,8.14809496008426,7.36776031968195,6.62588940852302,6.04133986630931,5.50626276276944,5.08341754162892,4.63825742099052,4.31121845187356,3.91913124994163,3.44345802433365,3.22591030451788,3.04643963679594,2.86882179369249,2.76220267904981,2.61806788813598,2.5207076579887,2.3565795775423,2.24235129204843,2.08031295702522,1.90453791807429,1.71079728886812,1.6436808684072,1.58952114415688,1.54967718420977,1.49210926068242,1.4234693877551,1.369734057006,1.34205980919079,1.30424769789946,1.19410646680303,1.151445951876,1.12951163920831,1.10714285714286,1.06099143830347,1.01273903755315,0.98772927525689,0.948979591836735,0.908578785932035,0.880615792080259,0.8218404342036,0.790816326530612,0.758524373585175,0.741851472216971,0.724795135426689,0.724795135426689,0.671029904595397,0.671029904595397,0.612563692512398,0.612563692512398,0.570265762956039,0.5478936228024,0.500156160536836,0.474489795918367,0.474489795918367,0.474489795918367,0.474489795918367,0.474489795918367,0.474489795918367,0.474489795918367,0.474489795918367,0.41846066654593,0.41846066654593,0.41846066654593,0.41846066654593,0.41846066654593,0.41846066654593,0.41846066654593,0.41846066654593,0.41846066654593,0.41846066654593,0.387419296052441,0.353663812767824,0.353663812767824,0.353663812767824,0.353663812767824,0.353663812767824,0.353663812767824,0.353663812767824,0.353663812767824,0.316326530612245,0.316326530612245,0.316326530612245,0.316326530612245,0.316326530612245,0.2739468114012,0.2739468114012,0.2739468114012,0.2739468114012,0.2739468114012]},{\"_typename\":\"TGraphAsymmErrors\",\"fUniqueID\":0,\"fBits\":50332680,\"fName\":\"f166ac\",\"fTitle\":\";; rate [kHz]\",\"fLineColor\":417,\"fLineStyle\":1,\"fLineWidth\":1,\"fFillColor\":0,\"fFillStyle\":1001,\"fMarkerColor\":417,\"fMarkerStyle\":22,\"fMarkerSize\":0.5,\"fNpoints\":100,\"fX\":[0,1,2,3,4,5,6,7,8,9,10,11,12,13,14,15,16,17,18,19,20,21,22,23,24,25,26,27,28,29,30,31,32,33,34,35,36,37,38,39,40,41,42,43,44,45,46,47,48,49,50,51,52,53,54,55,56,57,58,59,60,61,62,63,64,65,66,67,68,69,70,71,72,73,74,75,76,77,78,79,80,81,82,83,84,85,86,87,88,89,90,91,92,93,94,95,96,97,98,99],\"fY\":[2243.8623046875,2243.8623046875,1797.05102539062,1341.69897460938,1019.83673095703,791.132629394531,611.617370605469,477.494903564453,383.862243652344,302.724487304688,244.520401000977,191.693878173828,157.214279174805,125.897956848145,100.75,82.2448959350586,71.0153045654297,61.0510215759277,53.6173477172852,42.7040824890137,31.9489803314209,28.4693870544434,25.9387760162354,22.3010196685791,19.7704086303711,18.0306129455566,17.8724498748779,15.5,14.2346935272217,13.2857141494751,11.7040815353394,10.1224489212036,9.48979568481445,8.85714244842529,8.69897937774658,8.38265323638916,7.90816307067871,6.95918369293213,6.64285707473755,6.48469400405884,5.5357141494751,5.5357141494751,5.21938753128052,4.9030613899231,4.58673477172852,4.11224508285522,3.95408153533936,3.95408153533936,3.95408153533936,3.79591846466064,3.63775515556335,3.32142853736877,3.00510215759277,2.84693884849548,2.68877553939819,2.68877553939819,2.37244892120361,2.37244892120361,2.05612254142761,1.89795923233032,1.58163261413574,1.42346942424774,1.26530611515045,1.10714280605316,0.948979616165161,0.948979616165161,0.948979616165161,0.948979616165161,0.948979616165161,0.948979616165161,0.948979616165161,0.948979616165161,0.948979616165161,0.790816307067871,0.790816307067871,0.790816307067871,0.790816307067871,0.790816307067871,0.790816307067871,0.790816307067871,0.632653057575226,0.474489808082581,0.474489808082581,0.474489808082581,0.474489808082581,0.474489808082581,0.474489808082581,0.474489808082581,0.474489808082581,0.474489808082581,0.316326528787613,0.316326528787613,0.316326528787613,0.316326528787613,0.316326528787613,0.316326528787613,0.316326528787613,0.316326528787613,0.316326528787613,0.316326528787613],\"fFunctions\":{\"_typename\":\"TList\",\"name\":\"TList\",\"arr\":[],\"opt\":[]},\"fHistogram\":{\"_typename\":\"TH1F\",\"fUniqueID\":0,\"fBits\":50332160,\"fName\":\"f166ac\",\"fTitle\":\"\",\"fLineColor\":602,\"fLineStyle\":1,\"fLineWidth\":1,\"fFillColor\":0,\"fFillStyle\":1001,\"fMarkerColor\":1,\"fMarkerStyle\":1,\"fMarkerSize\":1,\"fNcells\":102,\"fXaxis\":{\"_typename\":\"TAxis\",\"fUniqueID\":0,\"fBits\":50331656,\"fName\":\"xaxis\",\"fTitle\":\"threshold p_{T}^{L1} [GeV]\",\"fNdivisions\":510,\"fAxisColor\":1,\"fLabelColor\":1,\"fLabelFont\":42,\"fLabelOffset\":0.005,\"fLabelSize\":0.035,\"fTickLength\":0.03,\"fTitleOffset\":1.4,\"fTitleSize\":0.035,\"fTitleColor\":1,\"fTitleFont\":42,\"fNbins\":100,\"fXmin\":0,\"fXmax\":60,\"fXbins\":[],\"fFirst\":0,\"fLast\":0,\"fBits2\":0,\"fTimeDisplay\":false,\"fTimeFormat\":\"\",\"fLabels\":null,\"fModLabs\":null},\"fYaxis\":{\"_typename\":\"TAxis\",\"fUniqueID\":0,\"fBits\":50331656,\"fName\":\"yaxis\",\"fTitle\":\" rate [kHz]\",\"fNdivisions\":510,\"fAxisColor\":1,\"fLabelColor\":1,\"fLabelFont\":42,\"fLabelOffset\":0.005,\"fLabelSize\":0.035,\"fTickLength\":0.03,\"fTitleOffset\":0,\"fTitleSize\":0.035,\"fTitleColor\":1,\"fTitleFont\":42,\"fNbins\":1,\"fXmin\":0.0833849045302325,\"fXmax\":2488.96183905336,\"fXbins\":[],\"fFirst\":0,\"fLast\":0,\"fBits2\":0,\"fTimeDisplay\":false,\"fTimeFormat\":\"\",\"fLabels\":null,\"fModLabs\":null},\"fZaxis\":{\"_typename\":\"TAxis\",\"fUniqueID\":0,\"fBits\":50331648,\"fName\":\"zaxis\",\"fTitle\":\"\",\"fNdivisions\":510,\"fAxisColor\":1,\"fLabelColor\":1,\"fLabelFont\":42,\"fLabelOffset\":0.005,\"fLabelSize\":0.035,\"fTickLength\":0.03,\"fTitleOffset\":1,\"fTitleSize\":0.035,\"fTitleColor\":1,\"fTitleFont\":42,\"fNbins\":1,\"fXmin\":0,\"fXmax\":1,\"fXbins\":[],\"fFirst\":0,\"fLast\":0,\"fBits2\":0,\"fTimeDisplay\":false,\"fTimeFormat\":\"\",\"fLabels\":null,\"fModLabs\":null},\"fBarOffset\":0,\"fBarWidth\":1000,\"fEntries\":0,\"fTsumw\":0,\"fTsumw2\":0,\"fTsumwx\":0,\"fTsumwx2\":0,\"fMaximum\":75000,\"fMinimum\":1,\"fNormFactor\":0,\"fContour\":[],\"fSumw2\":[],\"fOption\":\"\",\"fFunctions\":{\"_typename\":\"TList\",\"name\":\"TList\",\"arr\":[],\"opt\":[]},\"fBufferSize\":0,\"fBuffer\":[],\"fBinStatErrOpt\":0,\"fStatOverflows\":2,\"fArray\":[0,0,0,0,0,0,0,0,0,0,0,0,0,0,0,0,0,0,0,0,0,0,0,0,0,0,0,0,0,0,0,0,0,0,0,0,0,0,0,0,0,0,0,0,0,0,0,0,0,0,0,0,0,0,0,0,0,0,0,0,0,0,0,0,0,0,0,0,0,0,0,0,0,0,0,0,0,0,0,0,0,0,0,0,0,0,0,0,0,0,0,0,0,0,0,0,0,0,0,0,0,0]},\"fMinimum\":-1111,\"fMaximum\":-1111,\"fEXlow\":[0.5,0.5,0.5,0.5,0.5,0.5,0.5,0.5,0.5,0.5,0.5,0.5,0.5,0.5,0.5,0.5,0.5,0.5,0.5,0.5,0.5,0.5,0.5,0.5,0.5,0.5,0.5,0.5,0.5,0.5,0.5,0.5,0.5,0.5,0.5,0.5,0.5,0.5,0.5,0.5,0.5,0.5,0.5,0.5,0.5,0.5,0.5,0.5,0.5,0.5,0.5,0.5,0.5,0.5,0.5,0.5,0.5,0.5,0.5,0.5,0.5,0.5,0.5,0.5,0.5,0.5,0.5,0.5,0.5,0.5,0.5,0.5,0.5,0.5,0.5,0.5,0.5,0.5,0.5,0.5,0.5,0.5,0.5,0.5,0.5,0.5,0.5,0.5,0.5,0.5,0.5,0.5,0.5,0.5,0.5,0.5,0.5,0.5,0.5,0.5],\"fEXhigh\":[0.5,0.5,0.5,0.5,0.5,0.5,0.5,0.5,0.5,0.5,0.5,0.5,0.5,0.5,0.5,0.5,0.5,0.5,0.5,0.5,0.5,0.5,0.5,0.5,0.5,0.5,0.5,0.5,0.5,0.5,0.5,0.5,0.5,0.5,0.5,0.5,0.5,0.5,0.5,0.5,0.5,0.5,0.5,0.5,0.5,0.5,0.5,0.5,0.5,0.5,0.5,0.5,0.5,0.5,0.5,0.5,0.5,0.5,0.5,0.5,0.5,0.5,0.5,0.5,0.5,0.5,0.5,0.5,0.5,0.5,0.5,0.5,0.5,0.5,0.5,0.5,0.5,0.5,0.5,0.5,0.5,0.5,0.5,0.5,0.5,0.5,0.5,0.5,0.5,0.5,0.5,0.5,0.5,0.5,0.5,0.5,0.5,0.5,0.5,0.5],\"fEYlow\":[18.838698987727,18.838698987727,16.8590467497262,14.5673433291777,12.7004215693148,11.1860682859734,9.83541543147539,8.69034822249593,7.79184869468085,6.91952988245967,6.2188540897088,5.50626276276944,4.98653434574967,4.46233485071064,3.99186034069227,3.60667736510952,3.35141950567821,3.10741512161247,2.91209455012847,2.59888764530512,2.24792235974545,2.12198287660694,2.02547807510631,1.87808471784783,1.76831906383912,1.68872156027026,1.68129857242232,1.56573644405593,1.50046848161051,1.44959027085338,1.36057185346082,1.26530612244898,1.2251273850248,1.18358549989788,1.17297016887738,1.151445951876,1.11838317432566,1.04913641327569,1.02501511046247,1.01273903755315,0.935706496306572,0.935706496306572,0.908578785932035,0.880615792080259,0.851735250108008,0.806477576129471,0.790816326530612,0.790816326530612,0.790816326530612,0.774838592104883,0.758524373585175,0.724795135426689,0.6894176900498,0.671029904595397,0.652123848949732,0.652123848949732,0.612563692512398,0.612563692512398,0.570265762956039,0.5478936228024,0.500156160536836,0.474489795918367,0.447353269730265,0.41846066654593,0.387419296052441,0.387419296052441,0.387419296052441,0.387419296052441,0.387419296052441,0.387419296052441,0.387419296052441,0.387419296052441,0.387419296052441,0.353663812767824,0.353663812767824,0.353663812767824,0.353663812767824,0.353663812767824,0.353663812767824,0.353663812767824,0.316326530612245,0.2739468114012,0.2739468114012,0.2739468114012,0.2739468114012,0.2739468114012,0.2739468114012,0.2739468114012,0.2739468114012,0.2739468114012,0.223676634865132,0.223676634865132,0.223676634865132,0.223676634865132,0.223676634865132,0.223676634865132,0.223676634865132,0.223676634865132,0.223676634865132,0.223676634865132],\"fEYhigh\":[18.838698987727,18.838698987727,16.8590467497262,14.5673433291777,12.7004215693148,11.1860682859734,9.83541543147539,8.69034822249593,7.79184869468085,6.91952988245967,6.2188540897088,5.50626276276944,4.98653434574967,4.46233485071064,3.99186034069227,3.60667736510952,3.35141950567821,3.10741512161247,2.91209455012847,2.59888764530512,2.24792235974545,2.12198287660694,2.02547807510631,1.87808471784783,1.76831906383912,1.68872156027026,1.68129857242232,1.56573644405593,1.50046848161051,1.44959027085338,1.36057185346082,1.26530612244898,1.2251273850248,1.18358549989788,1.17297016887738,1.151445951876,1.11838317432566,1.04913641327569,1.02501511046247,1.01273903755315,0.935706496306572,0.935706496306572,0.908578785932035,0.880615792080259,0.851735250108008,0.806477576129471,0.790816326530612,0.790816326530612,0.790816326530612,0.774838592104883,0.758524373585175,0.724795135426689,0.6894176900498,0.671029904595397,0.652123848949732,0.652123848949732,0.612563692512398,0.612563692512398,0.570265762956039,0.5478936228024,0.500156160536836,0.474489795918367,0.447353269730265,0.41846066654593,0.387419296052441,0.387419296052441,0.387419296052441,0.387419296052441,0.387419296052441,0.387419296052441,0.387419296052441,0.387419296052441,0.387419296052441,0.353663812767824,0.353663812767824,0.353663812767824,0.353663812767824,0.353663812767824,0.353663812767824,0.353663812767824,0.316326530612245,0.2739468114012,0.2739468114012,0.2739468114012,0.2739468114012,0.2739468114012,0.2739468114012,0.2739468114012,0.2739468114012,0.2739468114012,0.223676634865132,0.223676634865132,0.223676634865132,0.223676634865132,0.223676634865132,0.223676634865132,0.223676634865132,0.223676634865132,0.223676634865132,0.223676634865132]},{\"_typename\":\"TLegend\",\"fUniqueID\":0,\"fBits\":50331656,\"fLineColor\":1,\"fLineStyle\":1,\"fLineWidth\":1,\"fFillColor\":0,\"fFillStyle\":0,\"fX1\":21.8918919963851,\"fY1\":3.29224918464479,\"fX2\":42.9729728057839,\"fY2\":3.92537402557785,\"fX1NDC\":0.4,\"fY1NDC\":0.65,\"fX2NDC\":0.66,\"fY2NDC\":0.75,\"fBorderSize\":0,\"fInit\":1,\"fShadowColor\":1,\"fCornerRadius\":0,\"fOption\":\"brNDC\",\"fName\":\"TPave\",\"fTextAngle\":0,\"fTextSize\":0.03,\"fTextAlign\":12,\"fTextColor\":1,\"fTextFont\":42,\"fPrimitives\":{\"_typename\":\"TList\",\"name\":\"TList\",\"arr\":[{\"_typename\":\"TLegendEntry\",\"fUniqueID\":0,\"fBits\":50331656,\"fTextAngle\":0,\"fTextSize\":0,\"fTextAlign\":0,\"fTextColor\":0,\"fTextFont\":42,\"fLineColor\":1,\"fLineStyle\":1,\"fLineWidth\":1,\"fFillColor\":0,\"fFillStyle\":0,\"fMarkerColor\":1,\"fMarkerStyle\":8,\"fMarkerSize\":0.5,\"fObject\":{\"$ref\":3},\"fLabel\":\"EG all, |#eta^{L1}| <= 1.479, LooseTkID\",\"fOption\":\"P\"},{\"_typename\":\"TLegendEntry\",\"fUniqueID\":0,\"fBits\":50331656,\"fTextAngle\":0,\"fTextSize\":0,\"fTextAlign\":0,\"fTextColor\":0,\"fTextFont\":42,\"fLineColor\":1,\"fLineStyle\":1,\"fLineWidth\":1,\"fFillColor\":0,\"fFillStyle\":0,\"fMarkerColor\":628,\"fMarkerStyle\":21,\"fMarkerSize\":0.5,\"fObject\":{\"$ref\":10},\"fLabel\":\"TkEle Ell. match all, |#eta^{L1}| <= 1.479, LooseTkID\",\"fOption\":\"P\"},{\"_typename\":\"TLegendEntry\",\"fUniqueID\":0,\"fBits\":50331656,\"fTextAngle\":0,\"fTextSize\":0,\"fTextAlign\":0,\"fTextColor\":0,\"fTextFont\":42,\"fLineColor\":1,\"fLineStyle\":1,\"fLineWidth\":1,\"fFillColor\":0,\"fFillStyle\":0,\"fMarkerColor\":417,\"fMarkerStyle\":22,\"fMarkerSize\":0.5,\"fObject\":{\"$ref\":17},\"fLabel\":\"TkEle Ell. match all, |#eta^{L1}| <= 1.479, Iso0p1\",\"fOption\":\"P\"}],\"opt\":[\"P\",\"P\",\"P\"]},\"fEntrySeparation\":0.1,\"fMargin\":0.25,\"fNColumns\":1,\"fColumnSeparation\":0},{\"_typename\":\"TLatex\",\"fUniqueID\":0,\"fBits\":50348040,\"fName\":\"\",\"fTitle\":\"PU200 barrel\",\"fTextAngle\":0,\"fTextSize\":0.03,\"fTextAlign\":11,\"fTextColor\":1,\"fTextFont\":62,\"fX\":0.15,\"fY\":0.85,\"fLineColor\":1,\"fLineStyle\":1,\"fLineWidth\":2,\"fLimitFactorSize\":3,\"fOriginSize\":0.0299999993294477},{\"_typename\":\"TLatex\",\"fUniqueID\":0,\"fBits\":50348041,\"fName\":\"\",\"fTitle\":\"#scale[1.5]{CMS} #scale[1.]{Phase-2 Simulation}\",\"fTextAngle\":0,\"fTextSize\":0.03,\"fTextAlign\":11,\"fTextColor\":1,\"fTextFont\":62,\"fX\":0.13,\"fY\":0.91,\"fLineColor\":1,\"fLineStyle\":1,\"fLineWidth\":2,\"fLimitFactorSize\":3,\"fOriginSize\":0.0299999993294477},{\"_typename\":\"TLatex\",\"fUniqueID\":0,\"fBits\":50348041,\"fName\":\"\",\"fTitle\":\"14TeV, 200 PU\",\"fTextAngle\":0,\"fTextSize\":0.03,\"fTextAlign\":11,\"fTextColor\":1,\"fTextFont\":62,\"fX\":0.69,\"fY\":0.91,\"fLineColor\":1,\"fLineStyle\":1,\"fLineWidth\":2,\"fLimitFactorSize\":3,\"fOriginSize\":0.0299999993294477},{\"_typename\":\"TLatex\",\"fUniqueID\":0,\"fBits\":50331656,\"fName\":\"\",\"fTitle\":\"\",\"fTextAngle\":0,\"fTextSize\":0.03,\"fTextAlign\":11,\"fTextColor\":1,\"fTextFont\":62,\"fX\":0,\"fY\":0,\"fLineColor\":1,\"fLineStyle\":1,\"fLineWidth\":2,\"fLimitFactorSize\":3,\"fOriginSize\":0.04}],\"opt\":[\"\",\"pa\",\",p\",\",p\",\"same\",\"same\",\"\",\"\",\"same\"]},\"fExecs\":null,\"fName\":\"c_69cc30\",\"fTitle\":\"c_69cc30\",\"fNumPaletteColor\":0,\"fNextPaletteColor\":0,\"fDISPLAY\":\"$DISPLAY\",\"fDoubleBuffer\":0,\"fRetained\":true,\"fXsizeUser\":0,\"fYsizeUser\":0,\"fXsizeReal\":20,\"fYsizeReal\":20,\"fWindowTopX\":0,\"fWindowTopY\":0,\"fWindowWidth\":0,\"fWindowHeight\":0,\"fCw\":596,\"fCh\":572,\"fCatt\":{\"_typename\":\"TAttCanvas\",\"fXBetween\":2,\"fYBetween\":2,\"fTitleFromTop\":1.2,\"fXdate\":0.2,\"fYdate\":0.3,\"fAdate\":1},\"kMoveOpaque\":true,\"kResizeOpaque\":true,\"fHighLightColor\":2,\"fBatch\":true,\"kShowEventStatus\":false,\"kAutoExec\":true,\"kMenuBar\":true});\n",
       "       Core.draw(\"root_plot_20\", obj, \"\");\n",
       "     }\n",
       " );\n",
       "</script>\n"
      ],
      "text/plain": [
       "<IPython.core.display.HTML object>"
      ]
     },
     "metadata": {},
     "output_type": "display_data"
    }
   ],
   "source": [
    "# 'HMvDRCalib','HMvDRshapeDrCalib', \n",
    "final_haset = []\n",
    "labels_final = []\n",
    "# hsets, labels, text = hplot.get_histo(histos.RateHistos, 'old-ID', 'PU200', ['HMvDR'], 'EtaBCD', None)\n",
    "\n",
    "# for hist in hsets:\n",
    "#     hist.normalize(31000)\n",
    "# [his.h_pt_graph('online', 'rate [kHz]', convertRateToGraph) for his in hsets]\n",
    "# [his.g_pt_online.GetXaxis().SetLimits(0, 60) for his in final_haset]\n",
    "\n",
    "# final_haset.append(hsets[0]) \n",
    "# labels_final.append('w/o EG ID')\n",
    "# hsets, labels, text = hplot.get_histo(histos.RateHistos, sample, 'PU200', ['HMvDRCalib'], 'EmEtaBCD', None)\n",
    "# for hist in hsets:\n",
    "#     hist.normalize(31000)\n",
    "# final_haset.append(hsets[0]) \n",
    "# labels_final.append('EG ID clusters')\n",
    "\n",
    "hsets, labels, text = hplot.get_histo(histos.RateHistos, sample, 'PU200', ['EGALL', 'TkEleELALL'], ['EtaFLooseTkID', 'EtaFIso0p1'], None)\n",
    "\n",
    "for hist in hsets:\n",
    "    hist.normalize(31000)\n",
    "[his.h_pt_graph('online', 'rate [kHz]', convertRateToGraph) for his in hsets]\n",
    "[his.g_pt_online.GetXaxis().SetLimits(0, 60) for his in hsets]\n",
    "final_haset.append(hsets[0]) \n",
    "labels_final.append('w/ EG ID')\n",
    "# print text\n",
    "draw([his.g_pt_online for his in hsets], labels, text=text+' barrel', logy=True,\n",
    "     min_x=0., max_x=60., min_y=1., max_y=75000, x_axis_label='threshold p_{T}^{L1} [GeV]',\n",
    "     do_write=True, write_name='egammBarrel_EG_rate')"
   ]
  },
  {
   "cell_type": "code",
   "execution_count": 90,
   "metadata": {},
   "outputs": [
    {
     "name": "stdout",
     "output_type": "stream",
     "text": [
      "No match found for: pu: PU200, tp: ['EGALL', 'TkEleELALL'], tp_sel: ['EtaABCLooseTkID', 'EtaABCIso0p1'], gen_sel: None, classtype: python.l1THistos.RateHistos\n"
     ]
    },
    {
     "ename": "TypeError",
     "evalue": "'NoneType' object is not iterable",
     "output_type": "error",
     "traceback": [
      "\u001b[0;31m\u001b[0m",
      "\u001b[0;31mTypeError\u001b[0mTraceback (most recent call last)",
      "\u001b[0;32m<ipython-input-90-81517abac7c6>\u001b[0m in \u001b[0;36m<module>\u001b[0;34m()\u001b[0m\n\u001b[1;32m     19\u001b[0m \u001b[0mhsets\u001b[0m\u001b[0;34m,\u001b[0m \u001b[0mlabels\u001b[0m\u001b[0;34m,\u001b[0m \u001b[0mtext\u001b[0m \u001b[0;34m=\u001b[0m \u001b[0mhplot\u001b[0m\u001b[0;34m.\u001b[0m\u001b[0mget_histo\u001b[0m\u001b[0;34m(\u001b[0m\u001b[0mhistos\u001b[0m\u001b[0;34m.\u001b[0m\u001b[0mRateHistos\u001b[0m\u001b[0;34m,\u001b[0m \u001b[0msample\u001b[0m\u001b[0;34m,\u001b[0m \u001b[0;34m'PU200'\u001b[0m\u001b[0;34m,\u001b[0m \u001b[0;34m[\u001b[0m\u001b[0;34m'EGALL'\u001b[0m\u001b[0;34m,\u001b[0m \u001b[0;34m'TkEleELALL'\u001b[0m\u001b[0;34m]\u001b[0m\u001b[0;34m,\u001b[0m \u001b[0;34m[\u001b[0m\u001b[0;34m'EtaABCLooseTkID'\u001b[0m\u001b[0;34m,\u001b[0m \u001b[0;34m'EtaABCIso0p1'\u001b[0m\u001b[0;34m]\u001b[0m\u001b[0;34m,\u001b[0m \u001b[0mNone\u001b[0m\u001b[0;34m)\u001b[0m\u001b[0;34m\u001b[0m\u001b[0m\n\u001b[1;32m     20\u001b[0m \u001b[0;34m\u001b[0m\u001b[0m\n\u001b[0;32m---> 21\u001b[0;31m \u001b[0;32mfor\u001b[0m \u001b[0mhist\u001b[0m \u001b[0;32min\u001b[0m \u001b[0mhsets\u001b[0m\u001b[0;34m:\u001b[0m\u001b[0;34m\u001b[0m\u001b[0m\n\u001b[0m\u001b[1;32m     22\u001b[0m     \u001b[0mhist\u001b[0m\u001b[0;34m.\u001b[0m\u001b[0mnormalize\u001b[0m\u001b[0;34m(\u001b[0m\u001b[0;36m31000\u001b[0m\u001b[0;34m)\u001b[0m\u001b[0;34m\u001b[0m\u001b[0m\n\u001b[1;32m     23\u001b[0m \u001b[0;34m[\u001b[0m\u001b[0mhis\u001b[0m\u001b[0;34m.\u001b[0m\u001b[0mh_pt_graph\u001b[0m\u001b[0;34m(\u001b[0m\u001b[0;34m'online'\u001b[0m\u001b[0;34m,\u001b[0m \u001b[0;34m'rate [kHz]'\u001b[0m\u001b[0;34m,\u001b[0m \u001b[0mconvertRateToGraph\u001b[0m\u001b[0;34m)\u001b[0m \u001b[0;32mfor\u001b[0m \u001b[0mhis\u001b[0m \u001b[0;32min\u001b[0m \u001b[0mhsets\u001b[0m\u001b[0;34m]\u001b[0m\u001b[0;34m\u001b[0m\u001b[0m\n",
      "\u001b[0;31mTypeError\u001b[0m: 'NoneType' object is not iterable"
     ]
    }
   ],
   "source": [
    "# 'HMvDRCalib','HMvDRshapeDrCalib', \n",
    "final_haset = []\n",
    "labels_final = []\n",
    "# hsets, labels, text = hplot.get_histo(histos.RateHistos, 'old-ID', 'PU200', ['HMvDR'], 'EtaBCD', None)\n",
    "\n",
    "# for hist in hsets:\n",
    "#     hist.normalize(31000)\n",
    "# [his.h_pt_graph('online', 'rate [kHz]', convertRateToGraph) for his in hsets]\n",
    "# [his.g_pt_online.GetXaxis().SetLimits(0, 60) for his in final_haset]\n",
    "\n",
    "# final_haset.append(hsets[0]) \n",
    "# labels_final.append('w/o EG ID')\n",
    "# hsets, labels, text = hplot.get_histo(histos.RateHistos, sample, 'PU200', ['HMvDRCalib'], 'EmEtaBCD', None)\n",
    "# for hist in hsets:\n",
    "#     hist.normalize(31000)\n",
    "# final_haset.append(hsets[0]) \n",
    "# labels_final.append('EG ID clusters')\n",
    "\n",
    "hsets, labels, text = hplot.get_histo(histos.RateHistos, sample, 'PU200', ['EGALL', 'TkEleELALL'], ['EtaABCLooseTkID', 'EtaABCIso0p1'], None)\n",
    "\n",
    "for hist in hsets:\n",
    "    hist.normalize(31000)\n",
    "[his.h_pt_graph('online', 'rate [kHz]', convertRateToGraph) for his in hsets]\n",
    "[his.g_pt_online.GetXaxis().SetLimits(0, 60) for his in hsets]\n",
    "final_haset.append(hsets[0]) \n",
    "labels_final.append('w/ EG ID')\n",
    "# print text\n",
    "draw([his.g_pt_online for his in hsets], labels, text=text+' endcap', logy=True,\n",
    "     min_x=0., max_x=60., min_y=1., max_y=75000, x_axis_label='threshold p_{T}^{L1} [GeV]',\n",
    "     do_write=True, write_name='egammEndcap_EG_rate')"
   ]
  },
  {
   "cell_type": "code",
   "execution_count": 63,
   "metadata": {},
   "outputs": [
    {
     "name": "stdout",
     "output_type": "stream",
     "text": [
      "normalize to 31000\n"
     ]
    },
    {
     "data": {
      "text/plain": [
       "<__main__.DrawMachine at 0x11cea59d0>"
      ]
     },
     "execution_count": 63,
     "metadata": {},
     "output_type": "execute_result"
    },
    {
     "name": "stderr",
     "output_type": "stream",
     "text": [
      "Error in <THistPainter::PaintInit>: Cannot set Y axis to log scale\n",
      "Error in <THistPainter::PaintInit>: Cannot set Y axis to log scale\n",
      "Error in <THistPainter::PaintInit>: Cannot set Y axis to log scale\n",
      "Error in <THistPainter::PaintInit>: Cannot set Y axis to log scale\n"
     ]
    },
    {
     "data": {
      "text/html": [
       "\n",
       "<div id=\"root_plot_21\"\n",
       "     style=\"width: 796px; height: 572px\">\n",
       "</div>\n",
       "\n",
       "<script>\n",
       " requirejs.config({\n",
       "     paths: {\n",
       "       'JSRootCore' : 'https://root.cern.ch/js/notebook//scripts/JSRootCore',\n",
       "     }\n",
       "   });\n",
       " require(['JSRootCore'],\n",
       "     function(Core) {\n",
       "       var obj = Core.JSONR_unref({\"_typename\":\"TCanvas\",\"fUniqueID\":0,\"fBits\":53673992,\"fLineColor\":1,\"fLineStyle\":1,\"fLineWidth\":1,\"fFillColor\":0,\"fFillStyle\":1001,\"fLeftMargin\":0.13,\"fRightMargin\":0.3,\"fBottomMargin\":0.13,\"fTopMargin\":0.1,\"fXfile\":2,\"fYfile\":2,\"fAfile\":1,\"fXstat\":0.99,\"fYstat\":0.99,\"fAstat\":2,\"fFrameFillColor\":0,\"fFrameLineColor\":1,\"fFrameFillStyle\":1001,\"fFrameLineStyle\":1,\"fFrameLineWidth\":1,\"fFrameBorderSize\":1,\"fFrameBorderMode\":0,\"fX1\":-22.8070169934936,\"fY1\":-346.998697166287,\"fX2\":152.631581699199,\"fY2\":2322.22208851139,\"fXtoAbsPixelk\":103.480046204376,\"fXtoPixelk\":103.480046204376,\"fXtoPixel\":4.53719994306564,\"fYtoAbsPixelk\":497.640051065433,\"fYtoPixelk\":497.640051065433,\"fYtoPixel\":-0.214294749639745,\"fUtoAbsPixelk\":5e-5,\"fUtoPixelk\":5e-5,\"fUtoPixel\":796,\"fVtoAbsPixelk\":572.00005,\"fVtoPixelk\":572,\"fVtoPixel\":-572,\"fAbsPixeltoXk\":-22.8070169934936,\"fPixeltoXk\":-22.8070169934936,\"fPixeltoX\":0.220400249613935,\"fAbsPixeltoYk\":2322.22208851139,\"fPixeltoYk\":-346.998697166287,\"fPixeltoY\":-4.6664699050309,\"fXlowNDC\":0,\"fYlowNDC\":0,\"fXUpNDC\":0,\"fYUpNDC\":0,\"fWNDC\":1,\"fHNDC\":1,\"fAbsXlowNDC\":0,\"fAbsYlowNDC\":0,\"fAbsWNDC\":1,\"fAbsHNDC\":1,\"fUxmin\":0,\"fUymin\":0,\"fUxmax\":100,\"fUymax\":2055.3,\"fTheta\":30,\"fPhi\":30,\"fAspectRatio\":0,\"fNumber\":0,\"fTickx\":0,\"fTicky\":0,\"fLogx\":0,\"fLogy\":1,\"fLogz\":0,\"fPadPaint\":0,\"fCrosshair\":0,\"fCrosshairPos\":0,\"fBorderSize\":2,\"fBorderMode\":0,\"fModified\":false,\"fGridx\":true,\"fGridy\":true,\"fAbsCoord\":false,\"fEditable\":true,\"fFixedAspectRatio\":false,\"fPrimitives\":{\"_typename\":\"TList\",\"name\":\"TList\",\"arr\":[{\"_typename\":\"TFrame\",\"fUniqueID\":0,\"fBits\":50331656,\"fLineColor\":1,\"fLineStyle\":1,\"fLineWidth\":1,\"fFillColor\":0,\"fFillStyle\":1001,\"fX1\":0,\"fY1\":0,\"fX2\":100,\"fY2\":2055.3,\"fBorderSize\":1,\"fBorderMode\":0},{\"_typename\":\"TH1F\",\"fUniqueID\":0,\"fBits\":50332168,\"fName\":\"1a89a8\",\"fTitle\":\"\",\"fLineColor\":1,\"fLineStyle\":1,\"fLineWidth\":1,\"fFillColor\":0,\"fFillStyle\":1001,\"fMarkerColor\":1,\"fMarkerStyle\":1,\"fMarkerSize\":1,\"fNcells\":102,\"fXaxis\":{\"_typename\":\"TAxis\",\"fUniqueID\":0,\"fBits\":50331656,\"fName\":\"xaxis\",\"fTitle\":\" p_{T} [GeV]\",\"fNdivisions\":510,\"fAxisColor\":1,\"fLabelColor\":1,\"fLabelFont\":42,\"fLabelOffset\":0.005,\"fLabelSize\":0.035,\"fTickLength\":0.03,\"fTitleOffset\":1.4,\"fTitleSize\":0.035,\"fTitleColor\":1,\"fTitleFont\":42,\"fNbins\":100,\"fXmin\":0,\"fXmax\":100,\"fXbins\":[],\"fFirst\":0,\"fLast\":0,\"fBits2\":0,\"fTimeDisplay\":false,\"fTimeFormat\":\"\",\"fLabels\":null,\"fModLabs\":null},\"fYaxis\":{\"_typename\":\"TAxis\",\"fUniqueID\":0,\"fBits\":50331656,\"fName\":\"yaxis\",\"fTitle\":\" rate [kHz]\",\"fNdivisions\":510,\"fAxisColor\":1,\"fLabelColor\":1,\"fLabelFont\":42,\"fLabelOffset\":0.005,\"fLabelSize\":0.035,\"fTickLength\":0.03,\"fTitleOffset\":0,\"fTitleSize\":0.035,\"fTitleColor\":1,\"fTitleFont\":42,\"fNbins\":1,\"fXmin\":0,\"fXmax\":1,\"fXbins\":[],\"fFirst\":0,\"fLast\":0,\"fBits2\":0,\"fTimeDisplay\":false,\"fTimeFormat\":\"\",\"fLabels\":null,\"fModLabs\":null},\"fZaxis\":{\"_typename\":\"TAxis\",\"fUniqueID\":0,\"fBits\":50331648,\"fName\":\"zaxis\",\"fTitle\":\"\",\"fNdivisions\":510,\"fAxisColor\":1,\"fLabelColor\":1,\"fLabelFont\":42,\"fLabelOffset\":0.005,\"fLabelSize\":0.035,\"fTickLength\":0.03,\"fTitleOffset\":1,\"fTitleSize\":0.035,\"fTitleColor\":1,\"fTitleFont\":42,\"fNbins\":1,\"fXmin\":0,\"fXmax\":1,\"fXbins\":[],\"fFirst\":0,\"fLast\":0,\"fBits2\":0,\"fTimeDisplay\":false,\"fTimeFormat\":\"\",\"fLabels\":null,\"fModLabs\":null},\"fBarOffset\":0,\"fBarWidth\":1000,\"fEntries\":37482,\"fTsumw\":37482,\"fTsumw2\":37482,\"fTsumwx\":143632,\"fTsumwx2\":2211476,\"fMaximum\":2055.3,\"fMinimum\":0,\"fNormFactor\":0,\"fContour\":[],\"fSumw2\":[0,270.894132653061,196.522698875469,99.0618492294877,64.6653738025823,51.0068461057893,42.9518169512703,36.9480685131195,31.3946012078301,25.9411963765098,21.6385099958351,16.9105581007913,13.1331997084548,10.2564035818409,7.85490420658059,6.02876405664307,5.00312369845898,4.27767076218242,3.65228029987505,3.07692107455227,2.65165556018326,2.25140566430654,1.92620262390671,1.72607767596835,1.40087463556851,1.25078092461474,1.07567159516868,0.92557788421491,0.825515410245731,0.750468554768846,0.725452936276551,0.700437317784257,0.625390462307372,0.525327988338192,0.525327988338192,0.525327988338192,0.525327988338192,0.475296751353603,0.425265514369013,0.350218658892128,0.350218658892128,0.325203040399833,0.325203040399833,0.275171803415244,0.250156184922949,0.250156184922949,0.250156184922949,0.225140566430654,0.200124947938359,0.175109329446064,0.175109329446064,0.175109329446064,0.175109329446064,0.175109329446064,0.175109329446064,0.150093710953769,0.150093710953769,0.10006247396918,0.0750468554768846,0.0750468554768846,0.0750468554768846,0.0750468554768846,0.0750468554768846,0.0750468554768846,0.0750468554768846,0.0750468554768846,0.0750468554768846,0.0750468554768846,0.0750468554768846,0.0750468554768846,0.0750468554768846,0.0750468554768846,0.0750468554768846,0.0750468554768846,0.0750468554768846,0.0750468554768846,0.0750468554768846,0.0750468554768846,0.0500312369845898,0.0500312369845898,0.0500312369845898,0.0500312369845898,0.0500312369845898,0.0500312369845898,0.0500312369845898,0.0500312369845898,0.0500312369845898,0.0500312369845898,0.0500312369845898,0.0500312369845898,0.0500312369845898,0.0250156184922949,0.0250156184922949,0.0250156184922949,0.0250156184922949,0.0250156184922949,0.0250156184922949,0.0250156184922949,0,0,0,0],\"fOption\":\"\",\"fFunctions\":{\"_typename\":\"TList\",\"name\":\"TList\",\"arr\":[],\"opt\":[]},\"fBufferSize\":0,\"fBuffer\":[],\"fBinStatErrOpt\":0,\"fStatOverflows\":2,\"fArray\":[0,1712.75,1242.531,626.3265,408.8521,322.4949,271.5663,233.6071,198.4949,164.0153,136.8112,106.9184,83.03571,64.84694,49.66327,38.11735,31.63265,27.04592,23.09184,19.45408,16.76531,14.23469,12.17857,10.91327,8.857142,7.908163,6.801021,5.852041,5.219388,4.744898,4.586735,4.428571,3.954082,3.321429,3.321429,3.321429,3.321429,3.005102,2.688776,2.214286,2.214286,2.056123,2.056123,1.739796,1.581633,1.581633,1.581633,1.423469,1.265306,1.107143,1.107143,1.107143,1.107143,1.107143,1.107143,0.9489796,0.9489796,0.6326531,0.4744898,0.4744898,0.4744898,0.4744898,0.4744898,0.4744898,0.4744898,0.4744898,0.4744898,0.4744898,0.4744898,0.4744898,0.4744898,0.4744898,0.4744898,0.4744898,0.4744898,0.4744898,0.4744898,0.4744898,0.3163265,0.3163265,0.3163265,0.3163265,0.3163265,0.3163265,0.3163265,0.3163265,0.3163265,0.3163265,0.3163265,0.3163265,0.3163265,0.1581633,0.1581633,0.1581633,0.1581633,0.1581633,0.1581633,0.1581633,0,0,0,0]},{\"_typename\":\"TH1F\",\"fUniqueID\":0,\"fBits\":50332168,\"fName\":\"a19e18\",\"fTitle\":\"\",\"fLineColor\":628,\"fLineStyle\":1,\"fLineWidth\":1,\"fFillColor\":0,\"fFillStyle\":1001,\"fMarkerColor\":1,\"fMarkerStyle\":1,\"fMarkerSize\":1,\"fNcells\":102,\"fXaxis\":{\"_typename\":\"TAxis\",\"fUniqueID\":0,\"fBits\":50331656,\"fName\":\"xaxis\",\"fTitle\":\" p_{T} [GeV]\",\"fNdivisions\":510,\"fAxisColor\":1,\"fLabelColor\":1,\"fLabelFont\":42,\"fLabelOffset\":0.005,\"fLabelSize\":0.035,\"fTickLength\":0.03,\"fTitleOffset\":1.4,\"fTitleSize\":0.035,\"fTitleColor\":1,\"fTitleFont\":42,\"fNbins\":100,\"fXmin\":0,\"fXmax\":100,\"fXbins\":[],\"fFirst\":0,\"fLast\":0,\"fBits2\":0,\"fTimeDisplay\":false,\"fTimeFormat\":\"\",\"fLabels\":null,\"fModLabs\":null},\"fYaxis\":{\"_typename\":\"TAxis\",\"fUniqueID\":0,\"fBits\":50331656,\"fName\":\"yaxis\",\"fTitle\":\" rate [kHz]\",\"fNdivisions\":510,\"fAxisColor\":1,\"fLabelColor\":1,\"fLabelFont\":42,\"fLabelOffset\":0.005,\"fLabelSize\":0.035,\"fTickLength\":0.03,\"fTitleOffset\":0,\"fTitleSize\":0.035,\"fTitleColor\":1,\"fTitleFont\":42,\"fNbins\":1,\"fXmin\":0,\"fXmax\":1,\"fXbins\":[],\"fFirst\":0,\"fLast\":0,\"fBits2\":0,\"fTimeDisplay\":false,\"fTimeFormat\":\"\",\"fLabels\":null,\"fModLabs\":null},\"fZaxis\":{\"_typename\":\"TAxis\",\"fUniqueID\":0,\"fBits\":50331648,\"fName\":\"zaxis\",\"fTitle\":\"\",\"fNdivisions\":510,\"fAxisColor\":1,\"fLabelColor\":1,\"fLabelFont\":42,\"fLabelOffset\":0.005,\"fLabelSize\":0.035,\"fTickLength\":0.03,\"fTitleOffset\":1,\"fTitleSize\":0.035,\"fTitleColor\":1,\"fTitleFont\":42,\"fNbins\":1,\"fXmin\":0,\"fXmax\":1,\"fXbins\":[],\"fFirst\":0,\"fLast\":0,\"fBits2\":0,\"fTimeDisplay\":false,\"fTimeFormat\":\"\",\"fLabels\":null,\"fModLabs\":null},\"fBarOffset\":0,\"fBarWidth\":1000,\"fEntries\":37482,\"fTsumw\":37482,\"fTsumw2\":37482,\"fTsumwx\":143632,\"fTsumwx2\":2211476,\"fMaximum\":2055.3,\"fMinimum\":0,\"fNormFactor\":0,\"fContour\":[],\"fSumw2\":[0,270.894132653061,196.522698875469,99.0618492294877,64.6653738025823,51.0068461057893,42.9518169512703,36.9480685131195,31.3946012078301,25.9411963765098,21.6385099958351,16.9105581007913,13.1331997084548,10.2564035818409,7.85490420658059,6.02876405664307,5.00312369845898,4.27767076218242,3.65228029987505,3.07692107455227,2.65165556018326,2.25140566430654,1.92620262390671,1.72607767596835,1.40087463556851,1.25078092461474,1.07567159516868,0.92557788421491,0.825515410245731,0.750468554768846,0.725452936276551,0.700437317784257,0.625390462307372,0.525327988338192,0.525327988338192,0.525327988338192,0.525327988338192,0.475296751353603,0.425265514369013,0.350218658892128,0.350218658892128,0.325203040399833,0.325203040399833,0.275171803415244,0.250156184922949,0.250156184922949,0.250156184922949,0.225140566430654,0.200124947938359,0.175109329446064,0.175109329446064,0.175109329446064,0.175109329446064,0.175109329446064,0.175109329446064,0.150093710953769,0.150093710953769,0.10006247396918,0.0750468554768846,0.0750468554768846,0.0750468554768846,0.0750468554768846,0.0750468554768846,0.0750468554768846,0.0750468554768846,0.0750468554768846,0.0750468554768846,0.0750468554768846,0.0750468554768846,0.0750468554768846,0.0750468554768846,0.0750468554768846,0.0750468554768846,0.0750468554768846,0.0750468554768846,0.0750468554768846,0.0750468554768846,0.0750468554768846,0.0500312369845898,0.0500312369845898,0.0500312369845898,0.0500312369845898,0.0500312369845898,0.0500312369845898,0.0500312369845898,0.0500312369845898,0.0500312369845898,0.0500312369845898,0.0500312369845898,0.0500312369845898,0.0500312369845898,0.0250156184922949,0.0250156184922949,0.0250156184922949,0.0250156184922949,0.0250156184922949,0.0250156184922949,0.0250156184922949,0,0,0,0],\"fOption\":\"\",\"fFunctions\":{\"_typename\":\"TList\",\"name\":\"TList\",\"arr\":[],\"opt\":[]},\"fBufferSize\":0,\"fBuffer\":[],\"fBinStatErrOpt\":0,\"fStatOverflows\":2,\"fArray\":[0,1712.75,1242.531,626.3265,408.8521,322.4949,271.5663,233.6071,198.4949,164.0153,136.8112,106.9184,83.03571,64.84694,49.66327,38.11735,31.63265,27.04592,23.09184,19.45408,16.76531,14.23469,12.17857,10.91327,8.857142,7.908163,6.801021,5.852041,5.219388,4.744898,4.586735,4.428571,3.954082,3.321429,3.321429,3.321429,3.321429,3.005102,2.688776,2.214286,2.214286,2.056123,2.056123,1.739796,1.581633,1.581633,1.581633,1.423469,1.265306,1.107143,1.107143,1.107143,1.107143,1.107143,1.107143,0.9489796,0.9489796,0.6326531,0.4744898,0.4744898,0.4744898,0.4744898,0.4744898,0.4744898,0.4744898,0.4744898,0.4744898,0.4744898,0.4744898,0.4744898,0.4744898,0.4744898,0.4744898,0.4744898,0.4744898,0.4744898,0.4744898,0.4744898,0.3163265,0.3163265,0.3163265,0.3163265,0.3163265,0.3163265,0.3163265,0.3163265,0.3163265,0.3163265,0.3163265,0.3163265,0.3163265,0.1581633,0.1581633,0.1581633,0.1581633,0.1581633,0.1581633,0.1581633,0,0,0,0]},{\"_typename\":\"TLegend\",\"fUniqueID\":0,\"fBits\":50331656,\"fLineColor\":1,\"fLineStyle\":1,\"fLineWidth\":1,\"fFillColor\":0,\"fFillStyle\":0,\"fX1\":100.000002091391,\"fY1\":1548.14806066486,\"fX2\":143.859651764564,\"fY2\":1921.83897065974,\"fX1NDC\":0.7,\"fY1NDC\":0.71,\"fX2NDC\":0.95,\"fY2NDC\":0.85,\"fBorderSize\":0,\"fInit\":1,\"fShadowColor\":1,\"fCornerRadius\":0,\"fOption\":\"brNDC\",\"fName\":\"TPave\",\"fTextAngle\":0,\"fTextSize\":0.03,\"fTextAlign\":12,\"fTextColor\":1,\"fTextFont\":42,\"fPrimitives\":{\"_typename\":\"TList\",\"name\":\"TList\",\"arr\":[{\"_typename\":\"TLegendEntry\",\"fUniqueID\":0,\"fBits\":50331656,\"fTextAngle\":0,\"fTextSize\":0,\"fTextAlign\":0,\"fTextColor\":0,\"fTextFont\":42,\"fLineColor\":1,\"fLineStyle\":1,\"fLineWidth\":1,\"fFillColor\":0,\"fFillStyle\":0,\"fMarkerColor\":1,\"fMarkerStyle\":21,\"fMarkerSize\":1,\"fObject\":{\"$ref\":3},\"fLabel\":\"all\",\"fOption\":\"l\"},{\"_typename\":\"TLegendEntry\",\"fUniqueID\":0,\"fBits\":50331656,\"fTextAngle\":0,\"fTextSize\":0,\"fTextAlign\":0,\"fTextColor\":0,\"fTextFont\":42,\"fLineColor\":628,\"fLineStyle\":1,\"fLineWidth\":1,\"fFillColor\":0,\"fFillStyle\":0,\"fMarkerColor\":1,\"fMarkerStyle\":21,\"fMarkerSize\":1,\"fObject\":{\"$ref\":8},\"fLabel\":\"endcap\",\"fOption\":\"l\"}],\"opt\":[\"l\",\"l\"]},\"fEntrySeparation\":0.1,\"fMargin\":0.25,\"fNColumns\":1,\"fColumnSeparation\":0},{\"_typename\":\"TLatex\",\"fUniqueID\":0,\"fBits\":50348040,\"fName\":\"\",\"fTitle\":\"PU200, TkEle Ell. match, hwQual 5, 1.52 < |#eta^{L1}| <= 2.4\",\"fTextAngle\":0,\"fTextSize\":0.03,\"fTextAlign\":11,\"fTextColor\":1,\"fTextFont\":62,\"fX\":0.15,\"fY\":0.85,\"fLineColor\":1,\"fLineStyle\":1,\"fLineWidth\":2,\"fLimitFactorSize\":3,\"fOriginSize\":0.04},{\"_typename\":\"TLatex\",\"fUniqueID\":0,\"fBits\":50331656,\"fName\":\"\",\"fTitle\":\"\",\"fTextAngle\":0,\"fTextSize\":0.03,\"fTextAlign\":11,\"fTextColor\":1,\"fTextFont\":62,\"fX\":0,\"fY\":0,\"fLineColor\":1,\"fLineStyle\":1,\"fLineWidth\":2,\"fLimitFactorSize\":3,\"fOriginSize\":0.04}],\"opt\":[\"\",\"\",\"same,\",\"same\",\"same\",\"same\"]},\"fExecs\":null,\"fName\":\"c_eb5bbc\",\"fTitle\":\"c_eb5bbc\",\"fNumPaletteColor\":0,\"fNextPaletteColor\":0,\"fDISPLAY\":\"$DISPLAY\",\"fDoubleBuffer\":0,\"fRetained\":true,\"fXsizeUser\":0,\"fYsizeUser\":0,\"fXsizeReal\":20,\"fYsizeReal\":15,\"fWindowTopX\":0,\"fWindowTopY\":0,\"fWindowWidth\":0,\"fWindowHeight\":0,\"fCw\":796,\"fCh\":572,\"fCatt\":{\"_typename\":\"TAttCanvas\",\"fXBetween\":2,\"fYBetween\":2,\"fTitleFromTop\":1.2,\"fXdate\":0.2,\"fYdate\":0.3,\"fAdate\":1},\"kMoveOpaque\":true,\"kResizeOpaque\":true,\"fHighLightColor\":2,\"fBatch\":true,\"kShowEventStatus\":false,\"kAutoExec\":true,\"kMenuBar\":true});\n",
       "       Core.draw(\"root_plot_21\", obj, \"\");\n",
       "     }\n",
       " );\n",
       "</script>\n"
      ],
      "text/plain": [
       "<IPython.core.display.HTML object>"
      ]
     },
     "metadata": {},
     "output_type": "display_data"
    }
   ],
   "source": [
    "final_haset = []\n",
    "labels_final = []\n",
    "\n",
    "hsets, labels, text = hplot.get_histo(histos.RateHistos, sample, 'PU200', ['TkEleELALL'], 'EtaBC', None)\n",
    "for hist in hsets:\n",
    "    hist.normalize(31000)\n",
    "\n",
    "final_haset.append(hsets[0])\n",
    "labels_final.append('all')\n",
    "hsets, labels, text = hplot.get_histo(histos.RateHistos, sample, 'PU200', ['TkEleEL'], 'EGq5EtaBC', None)\n",
    "for hist in hsets:\n",
    "    hist.normalize(31000)\n",
    "\n",
    "final_haset.append(hsets[0])\n",
    "labels_final.append('endcap')\n",
    "\n",
    "\n",
    "draw([his.h_pt for his in final_haset], labels_final, text=text, logy=True)\n",
    "# for hist in hsets:\n",
    "#     hist.normalize(31000)\n",
    "# [his.h_pt_graph('online', 'rate [kHz]', convertRateToGraph) for his in hsets]\n",
    "# [his.g_pt_online.GetXaxis().SetLimits(0, 60) for his in final_haset]\n",
    "\n",
    "# final_haset.append(hsets[0]) \n",
    "# labels_final.append('w/ EG ID')\n",
    "# # print text\n",
    "# draw([his.g_pt_online for his in final_haset], labels_final, text='<PU> = 200, 1.52 < |#eta^{L1}| <= 2.8', logy=True,\n",
    "#      min_x=0., max_x=60., min_y=1., max_y=75000, x_axis_label='threshold p_{T}^{L1}[GeV]',\n",
    "#      do_write=True, write_name='egammEndcap_EGID_EtaBCD_rate')"
   ]
  },
  {
   "cell_type": "code",
   "execution_count": 64,
   "metadata": {},
   "outputs": [
    {
     "name": "stdout",
     "output_type": "stream",
     "text": [
      "normalize to 31000\n",
      "normalize to 31000\n"
     ]
    },
    {
     "data": {
      "text/plain": [
       "<__main__.DrawMachine at 0x10dc58790>"
      ]
     },
     "execution_count": 64,
     "metadata": {},
     "output_type": "execute_result"
    },
    {
     "name": "stderr",
     "output_type": "stream",
     "text": [
      "Error in <THistPainter::PaintInit>: Cannot set Y axis to log scale\n",
      "Error in <THistPainter::PaintInit>: Cannot set Y axis to log scale\n"
     ]
    },
    {
     "data": {
      "text/html": [
       "\n",
       "<div id=\"root_plot_22\"\n",
       "     style=\"width: 796px; height: 572px\">\n",
       "</div>\n",
       "\n",
       "<script>\n",
       " requirejs.config({\n",
       "     paths: {\n",
       "       'JSRootCore' : 'https://root.cern.ch/js/notebook//scripts/JSRootCore',\n",
       "     }\n",
       "   });\n",
       " require(['JSRootCore'],\n",
       "     function(Core) {\n",
       "       var obj = Core.JSONR_unref({\"_typename\":\"TCanvas\",\"fUniqueID\":0,\"fBits\":53673992,\"fLineColor\":1,\"fLineStyle\":1,\"fLineWidth\":1,\"fFillColor\":0,\"fFillStyle\":1001,\"fLeftMargin\":0.13,\"fRightMargin\":0.3,\"fBottomMargin\":0.13,\"fTopMargin\":0.1,\"fXfile\":2,\"fYfile\":2,\"fAfile\":1,\"fXstat\":0.99,\"fYstat\":0.99,\"fAstat\":2,\"fFrameFillColor\":0,\"fFrameLineColor\":1,\"fFrameFillStyle\":1001,\"fFrameLineStyle\":1,\"fFrameLineWidth\":1,\"fFrameBorderSize\":1,\"fFrameBorderMode\":0,\"fX1\":-22.8070169934936,\"fY1\":-0.188403651855127,\"fX2\":152.631581699199,\"fY2\":4.14698504641792,\"fXtoAbsPixelk\":103.480046204376,\"fXtoPixelk\":103.480046204376,\"fXtoPixel\":4.53719994306564,\"fYtoAbsPixelk\":547.142558235983,\"fYtoPixelk\":547.142558235983,\"fYtoPixel\":-131.937420104419,\"fUtoAbsPixelk\":5e-5,\"fUtoPixelk\":5e-5,\"fUtoPixel\":796,\"fVtoAbsPixelk\":572.00005,\"fVtoPixelk\":572,\"fVtoPixel\":-572,\"fAbsPixeltoXk\":-22.8070169934936,\"fPixeltoXk\":-22.8070169934936,\"fPixeltoX\":0.220400249613935,\"fAbsPixeltoYk\":4.14698504641792,\"fPixeltoYk\":-0.188403651855127,\"fPixeltoY\":-0.00757935087110672,\"fXlowNDC\":0,\"fYlowNDC\":0,\"fXUpNDC\":0,\"fYUpNDC\":0,\"fWNDC\":1,\"fHNDC\":1,\"fAbsXlowNDC\":0,\"fAbsYlowNDC\":0,\"fAbsWNDC\":1,\"fAbsHNDC\":1,\"fUxmin\":0,\"fUymin\":0.375196870845078,\"fUxmax\":100,\"fUymax\":3.71344616044003,\"fTheta\":30,\"fPhi\":30,\"fAspectRatio\":0,\"fNumber\":0,\"fTickx\":0,\"fTicky\":0,\"fLogx\":0,\"fLogy\":1,\"fLogz\":0,\"fPadPaint\":0,\"fCrosshair\":0,\"fCrosshairPos\":0,\"fBorderSize\":2,\"fBorderMode\":0,\"fModified\":false,\"fGridx\":true,\"fGridy\":true,\"fAbsCoord\":false,\"fEditable\":true,\"fFixedAspectRatio\":false,\"fPrimitives\":{\"_typename\":\"TList\",\"name\":\"TList\",\"arr\":[{\"_typename\":\"TFrame\",\"fUniqueID\":0,\"fBits\":50331656,\"fLineColor\":1,\"fLineStyle\":1,\"fLineWidth\":1,\"fFillColor\":0,\"fFillStyle\":1001,\"fX1\":0,\"fY1\":0.375196870845078,\"fX2\":100,\"fY2\":3.71344616044003,\"fBorderSize\":1,\"fBorderMode\":0},{\"_typename\":\"TH1F\",\"fUniqueID\":0,\"fBits\":50332168,\"fName\":\"33376b\",\"fTitle\":\"\",\"fLineColor\":1,\"fLineStyle\":1,\"fLineWidth\":1,\"fFillColor\":0,\"fFillStyle\":1001,\"fMarkerColor\":1,\"fMarkerStyle\":1,\"fMarkerSize\":1,\"fNcells\":102,\"fXaxis\":{\"_typename\":\"TAxis\",\"fUniqueID\":0,\"fBits\":50331656,\"fName\":\"xaxis\",\"fTitle\":\" p_{T} [GeV]\",\"fNdivisions\":510,\"fAxisColor\":1,\"fLabelColor\":1,\"fLabelFont\":42,\"fLabelOffset\":0.005,\"fLabelSize\":0.035,\"fTickLength\":0.03,\"fTitleOffset\":1.4,\"fTitleSize\":0.035,\"fTitleColor\":1,\"fTitleFont\":42,\"fNbins\":100,\"fXmin\":0,\"fXmax\":100,\"fXbins\":[],\"fFirst\":0,\"fLast\":0,\"fBits2\":0,\"fTimeDisplay\":false,\"fTimeFormat\":\"\",\"fLabels\":null,\"fModLabs\":null},\"fYaxis\":{\"_typename\":\"TAxis\",\"fUniqueID\":0,\"fBits\":50331656,\"fName\":\"yaxis\",\"fTitle\":\" rate [kHz]\",\"fNdivisions\":510,\"fAxisColor\":1,\"fLabelColor\":1,\"fLabelFont\":42,\"fLabelOffset\":0.005,\"fLabelSize\":0.035,\"fTickLength\":0.03,\"fTitleOffset\":0,\"fTitleSize\":0.035,\"fTitleColor\":1,\"fTitleFont\":42,\"fNbins\":1,\"fXmin\":0,\"fXmax\":1,\"fXbins\":[],\"fFirst\":0,\"fLast\":0,\"fBits2\":0,\"fTimeDisplay\":false,\"fTimeFormat\":\"\",\"fLabels\":null,\"fModLabs\":null},\"fZaxis\":{\"_typename\":\"TAxis\",\"fUniqueID\":0,\"fBits\":50331648,\"fName\":\"zaxis\",\"fTitle\":\"\",\"fNdivisions\":510,\"fAxisColor\":1,\"fLabelColor\":1,\"fLabelFont\":42,\"fLabelOffset\":0.005,\"fLabelSize\":0.035,\"fTickLength\":0.03,\"fTitleOffset\":1,\"fTitleSize\":0.035,\"fTitleColor\":1,\"fTitleFont\":42,\"fNbins\":1,\"fXmin\":0,\"fXmax\":1,\"fXbins\":[],\"fFirst\":0,\"fLast\":0,\"fBits2\":0,\"fTimeDisplay\":false,\"fTimeFormat\":\"\",\"fLabels\":null,\"fModLabs\":null},\"fBarOffset\":0,\"fBarWidth\":1000,\"fEntries\":196179,\"fTsumw\":195687,\"fTsumw2\":195687,\"fTsumwx\":1245441,\"fTsumwx2\":24980435,\"fMaximum\":5169.4716796875,\"fMinimum\":2.37244892120361,\"fNormFactor\":0,\"fContour\":[],\"fSumw2\":[0,681.350400874636,681.350400874636,592.845142648896,484.42745210329,395.521943981674,323.026681591004,262.363806747189,214.30880362349,176.685313411079,146.116227613494,122.701608704706,101.363286130779,84.8779935443565,70.6941378592253,60.1375468554769,51.3320491461891,45.0781445231154,38.9743336109954,34.7216784673053,29.2432580174927,23.414618908788,21.03813515202,18.8617763431903,17.1857299042066,15.7848552686381,14.4340118700541,13.4834183673469,12.0575281132861,11.1069346105789,10.1563411078717,8.7804820907955,7.62976364014994,7.12945127030404,6.70418575593503,6.30393586005831,5.75359225322782,5.42838921282799,5.07817055393586,4.92807684298209,4.80299875052062,4.17760828821324,3.97748334027489,3.80237401082882,3.52720220741358,3.22701478550604,3.00187421907539,2.82676488962932,2.62663994169096,2.50156184922949,2.30143690129113,2.17635880882965,2.10131195335277,1.92620262390671,1.87617138692212,1.77610891295294,1.72607767596835,1.62601520199917,1.52595272802999,1.42589025406081,1.30081216159933,1.22576530612245,1.17573406913786,1.12570283215327,1.05065597667638,1.05065597667638,1.05065597667638,1.02564035818409,1.02564035818409,0.9756091211995,0.900562265722616,0.875546647230321,0.800499791753436,0.800499791753436,0.775484173261141,0.775484173261141,0.775484173261141,0.775484173261141,0.775484173261141,0.750468554768846,0.750468554768846,0.700437317784257,0.650406080799667,0.625390462307372,0.550343606830487,0.550343606830487,0.550343606830487,0.550343606830487,0.550343606830487,0.525327988338192,0.525327988338192,0.500312369845898,0.475296751353603,0.450281132861308,0.450281132861308,0.450281132861308,0.425265514369013,0.425265514369013,0.425265514369013,0.400249895876718,0.375234277384423,12.3076842982091],\"fOption\":\"\",\"fFunctions\":{\"_typename\":\"TList\",\"name\":\"TList\",\"arr\":[],\"opt\":[]},\"fBufferSize\":0,\"fBuffer\":[],\"fBinStatErrOpt\":0,\"fStatOverflows\":2,\"fArray\":[0,4307.893,4307.893,3748.311,3062.832,2500.719,2042.362,1658.816,1354.985,1117.107,923.8316,775.7908,640.8776,536.6479,446.9694,380.2245,324.551,285.0102,246.4184,219.5306,184.8929,148.0408,133.0153,119.2551,108.6582,99.80102,91.2602,85.25,76.2347,70.22449,64.21429,55.5153,48.2398,45.07653,42.38776,39.85714,36.37755,34.32143,32.10714,31.15816,30.36735,26.41327,25.14796,24.04082,22.30102,20.40306,18.97959,17.87245,16.60714,15.81633,14.55102,13.7602,13.28571,12.17857,11.86224,11.22959,10.91327,10.28061,9.647959,9.015306,8.22449,7.75,7.433673,7.117347,6.642857,6.642857,6.642857,6.484694,6.484694,6.168367,5.693878,5.535714,5.061224,5.061224,4.903061,4.903061,4.903061,4.903061,4.903061,4.744898,4.744898,4.428571,4.112245,3.954082,3.479592,3.479592,3.479592,3.479592,3.479592,3.321429,3.321429,3.163265,3.005102,2.846939,2.846939,2.846939,2.688776,2.688776,2.688776,2.530612,2.372449,77.81633]},{\"_typename\":\"TH1F\",\"fUniqueID\":0,\"fBits\":50332168,\"fName\":\"b94b5f\",\"fTitle\":\"\",\"fLineColor\":628,\"fLineStyle\":1,\"fLineWidth\":1,\"fFillColor\":0,\"fFillStyle\":1001,\"fMarkerColor\":1,\"fMarkerStyle\":1,\"fMarkerSize\":1,\"fNcells\":102,\"fXaxis\":{\"_typename\":\"TAxis\",\"fUniqueID\":0,\"fBits\":50331656,\"fName\":\"xaxis\",\"fTitle\":\" p_{T} [GeV]\",\"fNdivisions\":510,\"fAxisColor\":1,\"fLabelColor\":1,\"fLabelFont\":42,\"fLabelOffset\":0.005,\"fLabelSize\":0.035,\"fTickLength\":0.03,\"fTitleOffset\":1.4,\"fTitleSize\":0.035,\"fTitleColor\":1,\"fTitleFont\":42,\"fNbins\":100,\"fXmin\":0,\"fXmax\":100,\"fXbins\":[],\"fFirst\":0,\"fLast\":0,\"fBits2\":0,\"fTimeDisplay\":false,\"fTimeFormat\":\"\",\"fLabels\":null,\"fModLabs\":null},\"fYaxis\":{\"_typename\":\"TAxis\",\"fUniqueID\":0,\"fBits\":50331656,\"fName\":\"yaxis\",\"fTitle\":\" rate [kHz]\",\"fNdivisions\":510,\"fAxisColor\":1,\"fLabelColor\":1,\"fLabelFont\":42,\"fLabelOffset\":0.005,\"fLabelSize\":0.035,\"fTickLength\":0.03,\"fTitleOffset\":0,\"fTitleSize\":0.035,\"fTitleColor\":1,\"fTitleFont\":42,\"fNbins\":1,\"fXmin\":0,\"fXmax\":1,\"fXbins\":[],\"fFirst\":0,\"fLast\":0,\"fBits2\":0,\"fTimeDisplay\":false,\"fTimeFormat\":\"\",\"fLabels\":null,\"fModLabs\":null},\"fZaxis\":{\"_typename\":\"TAxis\",\"fUniqueID\":0,\"fBits\":50331648,\"fName\":\"zaxis\",\"fTitle\":\"\",\"fNdivisions\":510,\"fAxisColor\":1,\"fLabelColor\":1,\"fLabelFont\":42,\"fLabelOffset\":0.005,\"fLabelSize\":0.035,\"fTickLength\":0.03,\"fTitleOffset\":1,\"fTitleSize\":0.035,\"fTitleColor\":1,\"fTitleFont\":42,\"fNbins\":1,\"fXmin\":0,\"fXmax\":1,\"fXbins\":[],\"fFirst\":0,\"fLast\":0,\"fBits2\":0,\"fTimeDisplay\":false,\"fTimeFormat\":\"\",\"fLabels\":null,\"fModLabs\":null},\"fBarOffset\":0,\"fBarWidth\":1000,\"fEntries\":196179,\"fTsumw\":195687,\"fTsumw2\":195687,\"fTsumwx\":1245441,\"fTsumwx2\":24980435,\"fMaximum\":5169.4716796875,\"fMinimum\":2.37244892120361,\"fNormFactor\":0,\"fContour\":[],\"fSumw2\":[0,681.350400874636,681.350400874636,592.845142648896,484.42745210329,395.521943981674,323.026681591004,262.363806747189,214.30880362349,176.685313411079,146.116227613494,122.701608704706,101.363286130779,84.8779935443565,70.6941378592253,60.1375468554769,51.3320491461891,45.0781445231154,38.9743336109954,34.7216784673053,29.2432580174927,23.414618908788,21.03813515202,18.8617763431903,17.1857299042066,15.7848552686381,14.4340118700541,13.4834183673469,12.0575281132861,11.1069346105789,10.1563411078717,8.7804820907955,7.62976364014994,7.12945127030404,6.70418575593503,6.30393586005831,5.75359225322782,5.42838921282799,5.07817055393586,4.92807684298209,4.80299875052062,4.17760828821324,3.97748334027489,3.80237401082882,3.52720220741358,3.22701478550604,3.00187421907539,2.82676488962932,2.62663994169096,2.50156184922949,2.30143690129113,2.17635880882965,2.10131195335277,1.92620262390671,1.87617138692212,1.77610891295294,1.72607767596835,1.62601520199917,1.52595272802999,1.42589025406081,1.30081216159933,1.22576530612245,1.17573406913786,1.12570283215327,1.05065597667638,1.05065597667638,1.05065597667638,1.02564035818409,1.02564035818409,0.9756091211995,0.900562265722616,0.875546647230321,0.800499791753436,0.800499791753436,0.775484173261141,0.775484173261141,0.775484173261141,0.775484173261141,0.775484173261141,0.750468554768846,0.750468554768846,0.700437317784257,0.650406080799667,0.625390462307372,0.550343606830487,0.550343606830487,0.550343606830487,0.550343606830487,0.550343606830487,0.525327988338192,0.525327988338192,0.500312369845898,0.475296751353603,0.450281132861308,0.450281132861308,0.450281132861308,0.425265514369013,0.425265514369013,0.425265514369013,0.400249895876718,0.375234277384423,12.3076842982091],\"fOption\":\"\",\"fFunctions\":{\"_typename\":\"TList\",\"name\":\"TList\",\"arr\":[],\"opt\":[]},\"fBufferSize\":0,\"fBuffer\":[],\"fBinStatErrOpt\":0,\"fStatOverflows\":2,\"fArray\":[0,4307.893,4307.893,3748.311,3062.832,2500.719,2042.362,1658.816,1354.985,1117.107,923.8316,775.7908,640.8776,536.6479,446.9694,380.2245,324.551,285.0102,246.4184,219.5306,184.8929,148.0408,133.0153,119.2551,108.6582,99.80102,91.2602,85.25,76.2347,70.22449,64.21429,55.5153,48.2398,45.07653,42.38776,39.85714,36.37755,34.32143,32.10714,31.15816,30.36735,26.41327,25.14796,24.04082,22.30102,20.40306,18.97959,17.87245,16.60714,15.81633,14.55102,13.7602,13.28571,12.17857,11.86224,11.22959,10.91327,10.28061,9.647959,9.015306,8.22449,7.75,7.433673,7.117347,6.642857,6.642857,6.642857,6.484694,6.484694,6.168367,5.693878,5.535714,5.061224,5.061224,4.903061,4.903061,4.903061,4.903061,4.903061,4.744898,4.744898,4.428571,4.112245,3.954082,3.479592,3.479592,3.479592,3.479592,3.479592,3.321429,3.321429,3.163265,3.005102,2.846939,2.846939,2.846939,2.688776,2.688776,2.688776,2.530612,2.372449,77.81633]},{\"_typename\":\"TLegend\",\"fUniqueID\":0,\"fBits\":50331656,\"fLineColor\":1,\"fLineStyle\":1,\"fLineWidth\":1,\"fFillColor\":0,\"fFillStyle\":0,\"fX1\":100.000002091391,\"fY1\":2.88972232391873,\"fX2\":143.859651764564,\"fY2\":3.49667674167696,\"fX1NDC\":0.7,\"fY1NDC\":0.71,\"fX2NDC\":0.95,\"fY2NDC\":0.85,\"fBorderSize\":0,\"fInit\":1,\"fShadowColor\":1,\"fCornerRadius\":0,\"fOption\":\"brNDC\",\"fName\":\"TPave\",\"fTextAngle\":0,\"fTextSize\":0.03,\"fTextAlign\":12,\"fTextColor\":1,\"fTextFont\":42,\"fPrimitives\":{\"_typename\":\"TList\",\"name\":\"TList\",\"arr\":[{\"_typename\":\"TLegendEntry\",\"fUniqueID\":0,\"fBits\":50331656,\"fTextAngle\":0,\"fTextSize\":0,\"fTextAlign\":0,\"fTextColor\":0,\"fTextFont\":42,\"fLineColor\":1,\"fLineStyle\":1,\"fLineWidth\":1,\"fFillColor\":0,\"fFillStyle\":0,\"fMarkerColor\":1,\"fMarkerStyle\":21,\"fMarkerSize\":1,\"fObject\":{\"$ref\":3},\"fLabel\":\"all\",\"fOption\":\"l\"},{\"_typename\":\"TLegendEntry\",\"fUniqueID\":0,\"fBits\":50331656,\"fTextAngle\":0,\"fTextSize\":0,\"fTextAlign\":0,\"fTextColor\":0,\"fTextFont\":42,\"fLineColor\":628,\"fLineStyle\":1,\"fLineWidth\":1,\"fFillColor\":0,\"fFillStyle\":0,\"fMarkerColor\":1,\"fMarkerStyle\":21,\"fMarkerSize\":1,\"fObject\":{\"$ref\":8},\"fLabel\":\"barrel\",\"fOption\":\"l\"}],\"opt\":[\"l\",\"l\"]},\"fEntrySeparation\":0.1,\"fMargin\":0.25,\"fNColumns\":1,\"fColumnSeparation\":0},{\"_typename\":\"TLatex\",\"fUniqueID\":0,\"fBits\":50348040,\"fName\":\"\",\"fTitle\":\"PU200, TkEle Ell. match barrel, |#eta^{L1}| <= 1.479\",\"fTextAngle\":0,\"fTextSize\":0.03,\"fTextAlign\":11,\"fTextColor\":1,\"fTextFont\":62,\"fX\":0.15,\"fY\":0.85,\"fLineColor\":1,\"fLineStyle\":1,\"fLineWidth\":2,\"fLimitFactorSize\":3,\"fOriginSize\":0.04},{\"_typename\":\"TLatex\",\"fUniqueID\":0,\"fBits\":50331656,\"fName\":\"\",\"fTitle\":\"\",\"fTextAngle\":0,\"fTextSize\":0.03,\"fTextAlign\":11,\"fTextColor\":1,\"fTextFont\":62,\"fX\":0,\"fY\":0,\"fLineColor\":1,\"fLineStyle\":1,\"fLineWidth\":2,\"fLimitFactorSize\":3,\"fOriginSize\":0.04}],\"opt\":[\"\",\"\",\"same,\",\"same\",\"same\",\"same\"]},\"fExecs\":null,\"fName\":\"c_c8024e\",\"fTitle\":\"c_c8024e\",\"fNumPaletteColor\":0,\"fNextPaletteColor\":0,\"fDISPLAY\":\"$DISPLAY\",\"fDoubleBuffer\":0,\"fRetained\":true,\"fXsizeUser\":0,\"fYsizeUser\":0,\"fXsizeReal\":20,\"fYsizeReal\":15,\"fWindowTopX\":0,\"fWindowTopY\":0,\"fWindowWidth\":0,\"fWindowHeight\":0,\"fCw\":796,\"fCh\":572,\"fCatt\":{\"_typename\":\"TAttCanvas\",\"fXBetween\":2,\"fYBetween\":2,\"fTitleFromTop\":1.2,\"fXdate\":0.2,\"fYdate\":0.3,\"fAdate\":1},\"kMoveOpaque\":true,\"kResizeOpaque\":true,\"fHighLightColor\":2,\"fBatch\":true,\"kShowEventStatus\":false,\"kAutoExec\":true,\"kMenuBar\":true});\n",
       "       Core.draw(\"root_plot_22\", obj, \"\");\n",
       "     }\n",
       " );\n",
       "</script>\n"
      ],
      "text/plain": [
       "<IPython.core.display.HTML object>"
      ]
     },
     "metadata": {},
     "output_type": "display_data"
    }
   ],
   "source": [
    "final_haset = []\n",
    "labels_final = []\n",
    "\n",
    "hsets, labels, text = hplot.get_histo(histos.RateHistos, sample, 'PU200', ['TkEleELALL'], 'EtaF', None)\n",
    "for hist in hsets:\n",
    "    hist.normalize(31000)\n",
    "\n",
    "final_haset.append(hsets[0])\n",
    "labels_final.append('all')\n",
    "hsets, labels, text = hplot.get_histo(histos.RateHistos, sample, 'PU200', ['TkEleELBRL'], 'EtaF', None)\n",
    "for hist in hsets:\n",
    "    hist.normalize(31000)\n",
    "\n",
    "final_haset.append(hsets[0])\n",
    "labels_final.append('barrel')\n",
    "\n",
    "\n",
    "draw([his.h_pt for his in final_haset], labels_final, text=text, logy=True)"
   ]
  },
  {
   "cell_type": "code",
   "execution_count": 65,
   "metadata": {},
   "outputs": [
    {
     "name": "stdout",
     "output_type": "stream",
     "text": [
      "normalize to 31000\n"
     ]
    },
    {
     "data": {
      "text/plain": [
       "<__main__.DrawMachine at 0x11d254d90>"
      ]
     },
     "execution_count": 65,
     "metadata": {},
     "output_type": "execute_result"
    },
    {
     "data": {
      "text/html": [
       "\n",
       "<div id=\"root_plot_23\"\n",
       "     style=\"width: 796px; height: 572px\">\n",
       "</div>\n",
       "\n",
       "<script>\n",
       " requirejs.config({\n",
       "     paths: {\n",
       "       'JSRootCore' : 'https://root.cern.ch/js/notebook//scripts/JSRootCore',\n",
       "     }\n",
       "   });\n",
       " require(['JSRootCore'],\n",
       "     function(Core) {\n",
       "       var obj = Core.JSONR_unref({\"_typename\":\"TCanvas\",\"fUniqueID\":0,\"fBits\":53673992,\"fLineColor\":1,\"fLineStyle\":1,\"fLineWidth\":1,\"fFillColor\":0,\"fFillStyle\":1001,\"fLeftMargin\":0.13,\"fRightMargin\":0.3,\"fBottomMargin\":0.13,\"fTopMargin\":0.1,\"fXfile\":2,\"fYfile\":2,\"fAfile\":1,\"fXstat\":0.99,\"fYstat\":0.99,\"fAstat\":2,\"fFrameFillColor\":0,\"fFrameLineColor\":1,\"fFrameFillStyle\":1001,\"fFrameLineStyle\":1,\"fFrameLineWidth\":1,\"fFrameBorderSize\":1,\"fFrameBorderMode\":0,\"fX1\":-13.6842101960961,\"fY1\":-0.82306228142011,\"fX2\":91.5789490195193,\"fY2\":5.5081861279105,\"fXtoAbsPixelk\":103.480046204376,\"fXtoPixelk\":103.480046204376,\"fXtoPixel\":7.56199990510941,\"fYtoAbsPixelk\":497.640051065433,\"fYtoPixelk\":497.640051065433,\"fYtoPixel\":-90.3455310894169,\"fUtoAbsPixelk\":5e-5,\"fUtoPixelk\":5e-5,\"fUtoPixel\":796,\"fVtoAbsPixelk\":572.00005,\"fVtoPixelk\":572,\"fVtoPixel\":-572,\"fAbsPixeltoXk\":-13.6842101960961,\"fPixeltoXk\":-13.6842101960961,\"fPixeltoX\":0.132240149768361,\"fAbsPixeltoYk\":5.5081861279105,\"fPixeltoYk\":-0.82306228142011,\"fPixeltoY\":-0.0110686161002283,\"fXlowNDC\":0,\"fYlowNDC\":0,\"fXUpNDC\":0,\"fYUpNDC\":0,\"fWNDC\":1,\"fHNDC\":1,\"fAbsXlowNDC\":0,\"fAbsYlowNDC\":0,\"fAbsWNDC\":1,\"fAbsHNDC\":1,\"fUxmin\":0,\"fUymin\":0,\"fUxmax\":60,\"fUymax\":4.8750612633917,\"fTheta\":30,\"fPhi\":30,\"fAspectRatio\":0,\"fNumber\":0,\"fTickx\":0,\"fTicky\":0,\"fLogx\":0,\"fLogy\":1,\"fLogz\":0,\"fPadPaint\":0,\"fCrosshair\":0,\"fCrosshairPos\":0,\"fBorderSize\":2,\"fBorderMode\":0,\"fModified\":false,\"fGridx\":true,\"fGridy\":true,\"fAbsCoord\":false,\"fEditable\":true,\"fFixedAspectRatio\":false,\"fPrimitives\":{\"_typename\":\"TList\",\"name\":\"TList\",\"arr\":[{\"_typename\":\"TFrame\",\"fUniqueID\":0,\"fBits\":50331656,\"fLineColor\":1,\"fLineStyle\":1,\"fLineWidth\":1,\"fFillColor\":0,\"fFillStyle\":1001,\"fX1\":0,\"fY1\":0,\"fX2\":60,\"fY2\":4.8750612633917,\"fBorderSize\":1,\"fBorderMode\":0},{\"_typename\":\"TH1F\",\"fUniqueID\":0,\"fBits\":50332168,\"fName\":\"a60da3\",\"fTitle\":\"\",\"fLineColor\":1,\"fLineStyle\":1,\"fLineWidth\":1,\"fFillColor\":0,\"fFillStyle\":1001,\"fMarkerColor\":1,\"fMarkerStyle\":1,\"fMarkerSize\":1,\"fNcells\":102,\"fXaxis\":{\"_typename\":\"TAxis\",\"fUniqueID\":0,\"fBits\":50333704,\"fName\":\"xaxis\",\"fTitle\":\"threshold p_{T}^{L1}[GeV]\",\"fNdivisions\":510,\"fAxisColor\":1,\"fLabelColor\":1,\"fLabelFont\":42,\"fLabelOffset\":0.005,\"fLabelSize\":0.035,\"fTickLength\":0.03,\"fTitleOffset\":1.4,\"fTitleSize\":0.035,\"fTitleColor\":1,\"fTitleFont\":42,\"fNbins\":100,\"fXmin\":0,\"fXmax\":100,\"fXbins\":[],\"fFirst\":1,\"fLast\":60,\"fBits2\":0,\"fTimeDisplay\":false,\"fTimeFormat\":\"\",\"fLabels\":null,\"fModLabs\":null},\"fYaxis\":{\"_typename\":\"TAxis\",\"fUniqueID\":0,\"fBits\":50331656,\"fName\":\"yaxis\",\"fTitle\":\" rate [kHz]\",\"fNdivisions\":510,\"fAxisColor\":1,\"fLabelColor\":1,\"fLabelFont\":42,\"fLabelOffset\":0.005,\"fLabelSize\":0.035,\"fTickLength\":0.03,\"fTitleOffset\":0,\"fTitleSize\":0.035,\"fTitleColor\":1,\"fTitleFont\":42,\"fNbins\":1,\"fXmin\":0,\"fXmax\":1,\"fXbins\":[],\"fFirst\":0,\"fLast\":0,\"fBits2\":0,\"fTimeDisplay\":false,\"fTimeFormat\":\"\",\"fLabels\":null,\"fModLabs\":null},\"fZaxis\":{\"_typename\":\"TAxis\",\"fUniqueID\":0,\"fBits\":50331648,\"fName\":\"zaxis\",\"fTitle\":\"\",\"fNdivisions\":510,\"fAxisColor\":1,\"fLabelColor\":1,\"fLabelFont\":42,\"fLabelOffset\":0.005,\"fLabelSize\":0.035,\"fTickLength\":0.03,\"fTitleOffset\":1,\"fTitleSize\":0.035,\"fTitleColor\":1,\"fTitleFont\":42,\"fNbins\":1,\"fXmin\":0,\"fXmax\":1,\"fXbins\":[],\"fFirst\":0,\"fLast\":0,\"fBits2\":0,\"fTimeDisplay\":false,\"fTimeFormat\":\"\",\"fLabels\":null,\"fModLabs\":null},\"fBarOffset\":0,\"fBarWidth\":1000,\"fEntries\":229467,\"fTsumw\":228975,\"fTsumw2\":228975,\"fTsumwx\":1382869,\"fTsumwx2\":27147039,\"fMaximum\":75000,\"fMinimum\":1,\"fNormFactor\":0,\"fContour\":[],\"fSumw2\":[0,910.393403790088,846.953795293628,678.373542274053,542.288577675968,442.076009995835,363.276811745106,297.610813202832,244.527670762182,201.976103706789,167.304456476468,139.437057476052,114.371407746772,95.1093815077051,78.4990108288213,66.0912640566431,56.3351728446481,49.3558152852978,42.6266139108705,37.8236151603499,31.9699604331529,25.6910401915868,22.989353394419,20.612869637651,18.6116201582674,17.0356361932528,15.5096834652228,14.4340118700541,12.8830435235319,11.8574031653478,10.8817940441483,9.45590379008746,8.23013848396502,7.62976364014994,7.20449812578093,6.80424822990421,6.25390462307372,5.8786703456893,5.47842044981258,5.25327988338192,5.12820179092045,4.47779571012078,4.27767076218242,4.05253019575177,3.75234277384423,3.45215535193669,3.22701478550604,3.02688983756768,2.80174927113703,2.67667117867555,2.47654623073719,2.35146813827572,2.27642128279883,2.10131195335277,2.05128071636818,1.92620262390671,1.87617138692212,1.72607767596835,1.60099958350687,1.50093710953769,1.37585901707622,1.30081216159933,1.25078092461474,1.20074968763015,1.12570283215327,1.12570283215327,1.12570283215327,1.10068721366097,1.10068721366097,1.05065597667638,0.9756091211995,0.950593502707205,0.875546647230321,0.875546647230321,0.850531028738026,0.850531028738026,0.850531028738026,0.850531028738026,0.825515410245731,0.800499791753436,0.800499791753436,0.750468554768846,0.700437317784257,0.675421699291962,0.600374843815077,0.600374843815077,0.600374843815077,0.600374843815077,0.600374843815077,0.575359225322782,0.575359225322782,0.525327988338192,0.500312369845898,0.475296751353603,0.475296751353603,0.475296751353603,0.450281132861308,0.450281132861308,0.425265514369013,0.400249895876718,0.375234277384423,12.3076842982091],\"fOption\":\"\",\"fFunctions\":{\"_typename\":\"TList\",\"name\":\"TList\",\"arr\":[],\"opt\":[]},\"fBufferSize\":0,\"fBuffer\":[],\"fBinStatErrOpt\":0,\"fStatOverflows\":2,\"fArray\":[0,5756.036,5354.934,4289.071,3428.663,2795.061,2296.847,1881.668,1546.046,1277.01,1057.796,881.6021,723.1224,601.3367,496.3163,417.8673,356.1837,312.0561,269.5102,239.1429,202.1327,162.4337,145.352,130.3265,117.6735,107.7092,98.06123,91.2602,81.45408,74.96939,68.80102,59.78571,52.03571,48.2398,45.55102,43.02041,39.54082,37.16837,34.63776,33.21429,32.42347,28.31122,27.04592,25.62245,23.72449,21.82653,20.40306,19.13775,17.71428,16.92347,15.65816,14.86735,14.39286,13.28571,12.96939,12.17857,11.86224,10.91327,10.12245,9.489796,8.698979,8.22449,7.908163,7.591837,7.117347,7.117347,7.117347,6.959184,6.959184,6.642857,6.168367,6.010204,5.535714,5.535714,5.377551,5.377551,5.377551,5.377551,5.219388,5.061224,5.061224,4.744898,4.428571,4.270408,3.795918,3.795918,3.795918,3.795918,3.795918,3.637755,3.637755,3.321429,3.163265,3.005102,3.005102,3.005102,2.846939,2.846939,2.688776,2.530612,2.372449,77.81633]},{\"_typename\":\"TLatex\",\"fUniqueID\":0,\"fBits\":50348040,\"fName\":\"\",\"fTitle\":\"PU200, TkEle Ell. match all\",\"fTextAngle\":0,\"fTextSize\":0.03,\"fTextAlign\":11,\"fTextColor\":1,\"fTextFont\":62,\"fX\":0.15,\"fY\":0.85,\"fLineColor\":1,\"fLineStyle\":1,\"fLineWidth\":2,\"fLimitFactorSize\":3,\"fOriginSize\":0.04},{\"_typename\":\"TLatex\",\"fUniqueID\":0,\"fBits\":50331656,\"fName\":\"\",\"fTitle\":\"\",\"fTextAngle\":0,\"fTextSize\":0.03,\"fTextAlign\":11,\"fTextColor\":1,\"fTextFont\":62,\"fX\":0,\"fY\":0,\"fLineColor\":1,\"fLineStyle\":1,\"fLineWidth\":2,\"fLimitFactorSize\":3,\"fOriginSize\":0.04}],\"opt\":[\"\",\"\",\"same\",\"same\"]},\"fExecs\":null,\"fName\":\"c_8049b0\",\"fTitle\":\"c_8049b0\",\"fNumPaletteColor\":0,\"fNextPaletteColor\":0,\"fDISPLAY\":\"$DISPLAY\",\"fDoubleBuffer\":0,\"fRetained\":true,\"fXsizeUser\":0,\"fYsizeUser\":0,\"fXsizeReal\":20,\"fYsizeReal\":15,\"fWindowTopX\":0,\"fWindowTopY\":0,\"fWindowWidth\":0,\"fWindowHeight\":0,\"fCw\":796,\"fCh\":572,\"fCatt\":{\"_typename\":\"TAttCanvas\",\"fXBetween\":2,\"fYBetween\":2,\"fTitleFromTop\":1.2,\"fXdate\":0.2,\"fYdate\":0.3,\"fAdate\":1},\"kMoveOpaque\":true,\"kResizeOpaque\":true,\"fHighLightColor\":2,\"fBatch\":true,\"kShowEventStatus\":false,\"kAutoExec\":true,\"kMenuBar\":true});\n",
       "       Core.draw(\"root_plot_23\", obj, \"\");\n",
       "     }\n",
       " );\n",
       "</script>\n"
      ],
      "text/plain": [
       "<IPython.core.display.HTML object>"
      ]
     },
     "metadata": {},
     "output_type": "display_data"
    }
   ],
   "source": [
    "hsets, labels, text = hplot.get_histo(histos.RateHistos, sample, 'PU200', ['TkEleELALL'], 'all', None)\n",
    "for hist in hsets:\n",
    "    hist.normalize(31000)\n",
    "draw([his.h_pt for his in hsets], labels, text=text, logy=True,\n",
    "     min_x=0., max_x=60., min_y=1., max_y=75000, x_axis_label='threshold p_{T}^{L1}[GeV]')\n"
   ]
  },
  {
   "cell_type": "code",
   "execution_count": 66,
   "metadata": {},
   "outputs": [
    {
     "data": {
      "text/plain": [
       "<__main__.DrawMachine at 0x10dd073d0>"
      ]
     },
     "execution_count": 66,
     "metadata": {},
     "output_type": "execute_result"
    },
    {
     "name": "stderr",
     "output_type": "stream",
     "text": [
      "Info in <TCanvas::Print>: pdf file egamma_TkEle_all_rate.pdf has been created\n"
     ]
    },
    {
     "data": {
      "text/html": [
       "\n",
       "<div id=\"root_plot_24\"\n",
       "     style=\"width: 596px; height: 572px\">\n",
       "</div>\n",
       "\n",
       "<script>\n",
       " requirejs.config({\n",
       "     paths: {\n",
       "       'JSRootCore' : 'https://root.cern.ch/js/notebook//scripts/JSRootCore',\n",
       "     }\n",
       "   });\n",
       " require(['JSRootCore'],\n",
       "     function(Core) {\n",
       "       var obj = Core.JSONR_unref({\"_typename\":\"TCanvas\",\"fUniqueID\":0,\"fBits\":53673992,\"fLineColor\":1,\"fLineStyle\":1,\"fLineWidth\":1,\"fFillColor\":0,\"fFillStyle\":1001,\"fLeftMargin\":0.13,\"fRightMargin\":0.13,\"fBottomMargin\":0.13,\"fTopMargin\":0.1,\"fXfile\":2,\"fYfile\":2,\"fAfile\":1,\"fXstat\":0.99,\"fYstat\":0.99,\"fAstat\":2,\"fFrameFillColor\":0,\"fFrameLineColor\":1,\"fFrameFillStyle\":1001,\"fFrameLineStyle\":1,\"fFrameLineWidth\":1,\"fFrameBorderSize\":1,\"fFrameBorderMode\":0,\"fX1\":-10.5405400180747,\"fY1\":-0.82306228142011,\"fX2\":70.5405400180747,\"fY2\":5.5081861279105,\"fXtoAbsPixelk\":77.4800471580505,\"fXtoPixelk\":77.4800471580505,\"fXtoPixel\":7.35066676139832,\"fYtoAbsPixelk\":497.640051065433,\"fYtoPixelk\":497.640051065433,\"fYtoPixel\":-90.3455310894169,\"fUtoAbsPixelk\":5e-5,\"fUtoPixelk\":5e-5,\"fUtoPixel\":596,\"fVtoAbsPixelk\":572.00005,\"fVtoPixelk\":572,\"fVtoPixel\":-572,\"fAbsPixeltoXk\":-10.5405400180747,\"fPixeltoXk\":-10.5405400180747,\"fPixeltoX\":0.136042080597566,\"fAbsPixeltoYk\":5.5081861279105,\"fPixeltoYk\":-0.82306228142011,\"fPixeltoY\":-0.0110686161002283,\"fXlowNDC\":0,\"fYlowNDC\":0,\"fXUpNDC\":0,\"fYUpNDC\":0,\"fWNDC\":1,\"fHNDC\":1,\"fAbsXlowNDC\":0,\"fAbsYlowNDC\":0,\"fAbsWNDC\":1,\"fAbsHNDC\":1,\"fUxmin\":0,\"fUymin\":0,\"fUxmax\":60,\"fUymax\":4.8750612633917,\"fTheta\":30,\"fPhi\":30,\"fAspectRatio\":0,\"fNumber\":0,\"fTickx\":0,\"fTicky\":0,\"fLogx\":0,\"fLogy\":1,\"fLogz\":0,\"fPadPaint\":0,\"fCrosshair\":0,\"fCrosshairPos\":0,\"fBorderSize\":2,\"fBorderMode\":0,\"fModified\":false,\"fGridx\":true,\"fGridy\":true,\"fAbsCoord\":false,\"fEditable\":true,\"fFixedAspectRatio\":false,\"fPrimitives\":{\"_typename\":\"TList\",\"name\":\"TList\",\"arr\":[{\"_typename\":\"TFrame\",\"fUniqueID\":0,\"fBits\":50331656,\"fLineColor\":1,\"fLineStyle\":1,\"fLineWidth\":1,\"fFillColor\":0,\"fFillStyle\":1001,\"fX1\":0,\"fY1\":0,\"fX2\":60,\"fY2\":4.8750612633917,\"fBorderSize\":1,\"fBorderMode\":0},{\"_typename\":\"TGraphAsymmErrors\",\"fUniqueID\":0,\"fBits\":50332680,\"fName\":\"a7f176\",\"fTitle\":\";; rate [kHz]\",\"fLineColor\":1,\"fLineStyle\":1,\"fLineWidth\":1,\"fFillColor\":0,\"fFillStyle\":1001,\"fMarkerColor\":1,\"fMarkerStyle\":8,\"fMarkerSize\":0.5,\"fNpoints\":100,\"fX\":[0,1,2,3,4,5,6,7,8,9,10,11,12,13,14,15,16,17,18,19,20,21,22,23,24,25,26,27,28,29,30,31,32,33,34,35,36,37,38,39,40,41,42,43,44,45,46,47,48,49,50,51,52,53,54,55,56,57,58,59,60,61,62,63,64,65,66,67,68,69,70,71,72,73,74,75,76,77,78,79,80,81,82,83,84,85,86,87,88,89,90,91,92,93,94,95,96,97,98,99],\"fY\":[5756.03564453125,5354.93359375,4289.0712890625,3428.66333007812,2795.06127929688,2296.84692382812,1881.66833496094,1546.0458984375,1277.01025390625,1057.7958984375,881.60205078125,723.122436523438,601.336730957031,496.316314697266,417.867340087891,356.183685302734,312.056121826172,269.510192871094,239.142852783203,202.132659912109,162.433670043945,145.352035522461,130.326538085938,117.673469543457,107.709182739258,98.0612258911133,91.2602005004883,81.4540786743164,74.9693908691406,68.8010177612305,59.7857131958008,52.0357131958008,48.2397956848145,45.5510215759277,43.0204086303711,39.5408172607422,37.1683654785156,34.6377563476562,33.2142868041992,32.423469543457,28.3112239837646,27.0459175109863,25.6224498748779,23.7244892120361,21.826530456543,20.4030609130859,19.1377544403076,17.7142848968506,16.923469543457,15.6581630706787,14.8673467636108,14.3928575515747,13.2857141494751,12.9693880081177,12.1785717010498,11.8622446060181,10.9132652282715,10.1224489212036,9.48979568481445,8.69897937774658,8.22449016571045,7.90816307067871,7.59183692932129,7.11734676361084,7.11734676361084,7.11734676361084,6.95918369293213,6.95918369293213,6.64285707473755,6.16836738586426,6.01020431518555,5.5357141494751,5.5357141494751,5.37755107879639,5.37755107879639,5.37755107879639,5.37755107879639,5.21938753128052,5.06122446060181,5.06122446060181,4.74489784240723,4.42857122421265,4.27040815353394,3.79591846466064,3.79591846466064,3.79591846466064,3.79591846466064,3.79591846466064,3.63775515556335,3.63775515556335,3.32142853736877,3.16326522827148,3.00510215759277,3.00510215759277,3.00510215759277,2.84693884849548,2.84693884849548,2.68877553939819,2.5306122303009,2.37244892120361],\"fFunctions\":{\"_typename\":\"TList\",\"name\":\"TList\",\"arr\":[],\"opt\":[]},\"fHistogram\":{\"_typename\":\"TH1F\",\"fUniqueID\":0,\"fBits\":50332160,\"fName\":\"a7f176\",\"fTitle\":\"\",\"fLineColor\":602,\"fLineStyle\":1,\"fLineWidth\":1,\"fFillColor\":0,\"fFillStyle\":1001,\"fMarkerColor\":1,\"fMarkerStyle\":1,\"fMarkerSize\":1,\"fNcells\":102,\"fXaxis\":{\"_typename\":\"TAxis\",\"fUniqueID\":0,\"fBits\":50331656,\"fName\":\"xaxis\",\"fTitle\":\"threshold p_{T}^{L1}[GeV]\",\"fNdivisions\":510,\"fAxisColor\":1,\"fLabelColor\":1,\"fLabelFont\":42,\"fLabelOffset\":0.005,\"fLabelSize\":0.035,\"fTickLength\":0.03,\"fTitleOffset\":1.4,\"fTitleSize\":0.035,\"fTitleColor\":1,\"fTitleFont\":42,\"fNbins\":100,\"fXmin\":0,\"fXmax\":60,\"fXbins\":[],\"fFirst\":0,\"fLast\":0,\"fBits2\":0,\"fTimeDisplay\":false,\"fTimeFormat\":\"\",\"fLabels\":null,\"fModLabs\":null},\"fYaxis\":{\"_typename\":\"TAxis\",\"fUniqueID\":0,\"fBits\":50331656,\"fName\":\"yaxis\",\"fTitle\":\" rate [kHz]\",\"fNdivisions\":510,\"fAxisColor\":1,\"fLabelColor\":1,\"fLabelFont\":42,\"fLabelOffset\":0.005,\"fLabelSize\":0.035,\"fTickLength\":0.03,\"fTitleOffset\":0,\"fTitleSize\":0.035,\"fTitleColor\":1,\"fTitleFont\":42,\"fNbins\":1,\"fXmin\":1,\"fXmax\":75000,\"fXbins\":[],\"fFirst\":0,\"fLast\":0,\"fBits2\":0,\"fTimeDisplay\":false,\"fTimeFormat\":\"\",\"fLabels\":null,\"fModLabs\":null},\"fZaxis\":{\"_typename\":\"TAxis\",\"fUniqueID\":0,\"fBits\":50331648,\"fName\":\"zaxis\",\"fTitle\":\"\",\"fNdivisions\":510,\"fAxisColor\":1,\"fLabelColor\":1,\"fLabelFont\":42,\"fLabelOffset\":0.005,\"fLabelSize\":0.035,\"fTickLength\":0.03,\"fTitleOffset\":1,\"fTitleSize\":0.035,\"fTitleColor\":1,\"fTitleFont\":42,\"fNbins\":1,\"fXmin\":0,\"fXmax\":1,\"fXbins\":[],\"fFirst\":0,\"fLast\":0,\"fBits2\":0,\"fTimeDisplay\":false,\"fTimeFormat\":\"\",\"fLabels\":null,\"fModLabs\":null},\"fBarOffset\":0,\"fBarWidth\":1000,\"fEntries\":0,\"fTsumw\":0,\"fTsumw2\":0,\"fTsumwx\":0,\"fTsumwx2\":0,\"fMaximum\":75000,\"fMinimum\":1,\"fNormFactor\":0,\"fContour\":[],\"fSumw2\":[],\"fOption\":\"\",\"fFunctions\":{\"_typename\":\"TList\",\"name\":\"TList\",\"arr\":[],\"opt\":[]},\"fBufferSize\":0,\"fBuffer\":[],\"fBinStatErrOpt\":0,\"fStatOverflows\":2,\"fArray\":[0,0,0,0,0,0,0,0,0,0,0,0,0,0,0,0,0,0,0,0,0,0,0,0,0,0,0,0,0,0,0,0,0,0,0,0,0,0,0,0,0,0,0,0,0,0,0,0,0,0,0,0,0,0,0,0,0,0,0,0,0,0,0,0,0,0,0,0,0,0,0,0,0,0,0,0,0,0,0,0,0,0,0,0,0,0,0,0,0,0,0,0,0,0,0,0,0,0,0,0,0,0]},\"fMinimum\":-1111,\"fMaximum\":-1111,\"fEXlow\":[0.5,0.5,0.5,0.5,0.5,0.5,0.5,0.5,0.5,0.5,0.5,0.5,0.5,0.5,0.5,0.5,0.5,0.5,0.5,0.5,0.5,0.5,0.5,0.5,0.5,0.5,0.5,0.5,0.5,0.5,0.5,0.5,0.5,0.5,0.5,0.5,0.5,0.5,0.5,0.5,0.5,0.5,0.5,0.5,0.5,0.5,0.5,0.5,0.5,0.5,0.5,0.5,0.5,0.5,0.5,0.5,0.5,0.5,0.5,0.5,0.5,0.5,0.5,0.5,0.5,0.5,0.5,0.5,0.5,0.5,0.5,0.5,0.5,0.5,0.5,0.5,0.5,0.5,0.5,0.5,0.5,0.5,0.5,0.5,0.5,0.5,0.5,0.5,0.5,0.5,0.5,0.5,0.5,0.5,0.5,0.5,0.5,0.5,0.5,0.5],\"fEXhigh\":[0.5,0.5,0.5,0.5,0.5,0.5,0.5,0.5,0.5,0.5,0.5,0.5,0.5,0.5,0.5,0.5,0.5,0.5,0.5,0.5,0.5,0.5,0.5,0.5,0.5,0.5,0.5,0.5,0.5,0.5,0.5,0.5,0.5,0.5,0.5,0.5,0.5,0.5,0.5,0.5,0.5,0.5,0.5,0.5,0.5,0.5,0.5,0.5,0.5,0.5,0.5,0.5,0.5,0.5,0.5,0.5,0.5,0.5,0.5,0.5,0.5,0.5,0.5,0.5,0.5,0.5,0.5,0.5,0.5,0.5,0.5,0.5,0.5,0.5,0.5,0.5,0.5,0.5,0.5,0.5,0.5,0.5,0.5,0.5,0.5,0.5,0.5,0.5,0.5,0.5,0.5,0.5,0.5,0.5,0.5,0.5,0.5,0.5,0.5,0.5],\"fEYlow\":[30.172726157742,29.1024706046347,26.045605047187,23.287090365178,21.0256036773224,19.0598219232265,17.2514003258527,15.6373805594857,14.2118297100264,12.9346223940426,11.8083469408741,10.694456870116,9.75240388354098,8.85996675099977,8.12965337862833,7.50567604181316,7.02536940561119,6.52890602711285,6.15009066277481,5.65419847840106,5.06863297069208,4.79472140946885,4.54013982578191,4.31411870006695,4.12742488644588,3.93823354630256,3.7992120064632,3.58929568627772,3.44345802433365,3.29875643904613,3.0750453313874,2.86882179369249,2.76220267904981,2.68411961838159,2.60849539579893,2.50078080268418,2.42459694499711,2.34060258262965,2.29200346495853,2.26455333143657,2.11608027024515,2.0682530701494,2.01308971378619,1.93709648026221,1.85799767274792,1.79638937469192,1.73979591836735,1.67384266618372,1.63605353783901,1.57370461991353,1.53344975081537,1.50878138999619,1.44959027085338,1.43222928205235,1.38787702045488,1.369734057006,1.31380275382888,1.26530612244898,1.2251273850248,1.17297016887738,1.14053152591208,1.11838317432566,1.0957872456048,1.06099143830347,1.06099143830347,1.06099143830347,1.04913641327569,1.04913641327569,1.02501511046247,0.98772927525689,0.974983847408359,0.935706496306572,0.935706496306572,0.922242391531655,0.922242391531655,0.922242391531655,0.922242391531655,0.908578785932035,0.89470653946053,0.89470653946053,0.866295881768375,0.83692133309186,0.8218404342036,0.774838592104883,0.774838592104883,0.774838592104883,0.774838592104883,0.774838592104883,0.758524373585175,0.758524373585175,0.724795135426689,0.707327625535648,0.6894176900498,0.6894176900498,0.6894176900498,0.671029904595397,0.671029904595397,0.652123848949732,0.63265306122449,0.612563692512398],\"fEYhigh\":[30.172726157742,29.1024706046347,26.045605047187,23.287090365178,21.0256036773224,19.0598219232265,17.2514003258527,15.6373805594857,14.2118297100264,12.9346223940426,11.8083469408741,10.694456870116,9.75240388354098,8.85996675099977,8.12965337862833,7.50567604181316,7.02536940561119,6.52890602711285,6.15009066277481,5.65419847840106,5.06863297069208,4.79472140946885,4.54013982578191,4.31411870006695,4.12742488644588,3.93823354630256,3.7992120064632,3.58929568627772,3.44345802433365,3.29875643904613,3.0750453313874,2.86882179369249,2.76220267904981,2.68411961838159,2.60849539579893,2.50078080268418,2.42459694499711,2.34060258262965,2.29200346495853,2.26455333143657,2.11608027024515,2.0682530701494,2.01308971378619,1.93709648026221,1.85799767274792,1.79638937469192,1.73979591836735,1.67384266618372,1.63605353783901,1.57370461991353,1.53344975081537,1.50878138999619,1.44959027085338,1.43222928205235,1.38787702045488,1.369734057006,1.31380275382888,1.26530612244898,1.2251273850248,1.17297016887738,1.14053152591208,1.11838317432566,1.0957872456048,1.06099143830347,1.06099143830347,1.06099143830347,1.04913641327569,1.04913641327569,1.02501511046247,0.98772927525689,0.974983847408359,0.935706496306572,0.935706496306572,0.922242391531655,0.922242391531655,0.922242391531655,0.922242391531655,0.908578785932035,0.89470653946053,0.89470653946053,0.866295881768375,0.83692133309186,0.8218404342036,0.774838592104883,0.774838592104883,0.774838592104883,0.774838592104883,0.774838592104883,0.758524373585175,0.758524373585175,0.724795135426689,0.707327625535648,0.6894176900498,0.6894176900498,0.6894176900498,0.671029904595397,0.671029904595397,0.652123848949732,0.63265306122449,0.612563692512398]},{\"_typename\":\"TLatex\",\"fUniqueID\":0,\"fBits\":50348040,\"fName\":\"\",\"fTitle\":\"<PU> = 200\",\"fTextAngle\":0,\"fTextSize\":0.03,\"fTextAlign\":11,\"fTextColor\":1,\"fTextFont\":62,\"fX\":0.15,\"fY\":0.85,\"fLineColor\":1,\"fLineStyle\":1,\"fLineWidth\":2,\"fLimitFactorSize\":3,\"fOriginSize\":0.0299999993294477},{\"_typename\":\"TLatex\",\"fUniqueID\":0,\"fBits\":50348041,\"fName\":\"\",\"fTitle\":\"#scale[1.5]{CMS} #scale[1.]{Phase-2 Simulation}\",\"fTextAngle\":0,\"fTextSize\":0.03,\"fTextAlign\":11,\"fTextColor\":1,\"fTextFont\":62,\"fX\":0.13,\"fY\":0.91,\"fLineColor\":1,\"fLineStyle\":1,\"fLineWidth\":2,\"fLimitFactorSize\":3,\"fOriginSize\":0.0299999993294477},{\"_typename\":\"TLatex\",\"fUniqueID\":0,\"fBits\":50348041,\"fName\":\"\",\"fTitle\":\"14TeV, 200 PU\",\"fTextAngle\":0,\"fTextSize\":0.03,\"fTextAlign\":11,\"fTextColor\":1,\"fTextFont\":62,\"fX\":0.69,\"fY\":0.91,\"fLineColor\":1,\"fLineStyle\":1,\"fLineWidth\":2,\"fLimitFactorSize\":3,\"fOriginSize\":0.0299999993294477},{\"_typename\":\"TLatex\",\"fUniqueID\":0,\"fBits\":50331656,\"fName\":\"\",\"fTitle\":\"\",\"fTextAngle\":0,\"fTextSize\":0.03,\"fTextAlign\":11,\"fTextColor\":1,\"fTextFont\":62,\"fX\":0,\"fY\":0,\"fLineColor\":1,\"fLineStyle\":1,\"fLineWidth\":2,\"fLimitFactorSize\":3,\"fOriginSize\":0.04}],\"opt\":[\"\",\"pa\",\"same\",\"\",\"\",\"same\"]},\"fExecs\":null,\"fName\":\"c_d98a40\",\"fTitle\":\"c_d98a40\",\"fNumPaletteColor\":0,\"fNextPaletteColor\":0,\"fDISPLAY\":\"$DISPLAY\",\"fDoubleBuffer\":0,\"fRetained\":true,\"fXsizeUser\":0,\"fYsizeUser\":0,\"fXsizeReal\":20,\"fYsizeReal\":20,\"fWindowTopX\":0,\"fWindowTopY\":0,\"fWindowWidth\":0,\"fWindowHeight\":0,\"fCw\":596,\"fCh\":572,\"fCatt\":{\"_typename\":\"TAttCanvas\",\"fXBetween\":2,\"fYBetween\":2,\"fTitleFromTop\":1.2,\"fXdate\":0.2,\"fYdate\":0.3,\"fAdate\":1},\"kMoveOpaque\":true,\"kResizeOpaque\":true,\"fHighLightColor\":2,\"fBatch\":true,\"kShowEventStatus\":false,\"kAutoExec\":true,\"kMenuBar\":true});\n",
       "       Core.draw(\"root_plot_24\", obj, \"\");\n",
       "     }\n",
       " );\n",
       "</script>\n"
      ],
      "text/plain": [
       "<IPython.core.display.HTML object>"
      ]
     },
     "metadata": {},
     "output_type": "display_data"
    }
   ],
   "source": [
    "final_haset = []\n",
    "labels_final = []\n",
    "\n",
    "hsets, labels, text = hplot.get_histo(histos.RateHistos, sample, 'PU200', ['TkEleELALL'], 'all', None)\n",
    "for hist in hsets:\n",
    "    hist.normalize(31000)\n",
    "\n",
    "[his.h_pt_graph('online', 'rate [kHz]', convertRateToGraph) for his in hsets]\n",
    "final_haset.append(hsets[0])\n",
    "\n",
    "[his.g_pt_online.GetXaxis().SetLimits(0, 60) for his in final_haset]\n",
    "\n",
    "labels_final.append('track-matched')\n",
    "\n",
    "text_forprint='<PU> = 200'\n",
    "draw([his.g_pt_online for his in final_haset], labels_final, text=text_forprint, logy=True,\n",
    "     min_x=0., max_x=60., min_y=1., max_y=75000, x_axis_label='threshold p_{T}^{L1}[GeV]',\n",
    "     do_write=True, write_name='egamma_TkEle_all_rate'\n",
    "    )\n"
   ]
  },
  {
   "cell_type": "code",
   "execution_count": 67,
   "metadata": {},
   "outputs": [
    {
     "data": {
      "text/plain": [
       "<__main__.DrawMachine at 0x11ce92dd0>"
      ]
     },
     "execution_count": 67,
     "metadata": {},
     "output_type": "execute_result"
    },
    {
     "name": "stderr",
     "output_type": "stream",
     "text": [
      "Info in <TCanvas::Print>: pdf file figs/egammEndcap_TkEle_EtaBC_rate.pdf has been created\n"
     ]
    },
    {
     "data": {
      "text/html": [
       "\n",
       "<div id=\"root_plot_25\"\n",
       "     style=\"width: 596px; height: 572px\">\n",
       "</div>\n",
       "\n",
       "<script>\n",
       " requirejs.config({\n",
       "     paths: {\n",
       "       'JSRootCore' : 'https://root.cern.ch/js/notebook//scripts/JSRootCore',\n",
       "     }\n",
       "   });\n",
       " require(['JSRootCore'],\n",
       "     function(Core) {\n",
       "       var obj = Core.JSONR_unref({\"_typename\":\"TCanvas\",\"fUniqueID\":0,\"fBits\":53673992,\"fLineColor\":1,\"fLineStyle\":1,\"fLineWidth\":1,\"fFillColor\":0,\"fFillStyle\":1001,\"fLeftMargin\":0.13,\"fRightMargin\":0.13,\"fBottomMargin\":0.13,\"fTopMargin\":0.1,\"fXfile\":2,\"fYfile\":2,\"fAfile\":1,\"fXstat\":0.99,\"fYstat\":0.99,\"fAstat\":2,\"fFrameFillColor\":0,\"fFrameLineColor\":1,\"fFrameFillStyle\":1001,\"fFrameLineStyle\":1,\"fFrameLineWidth\":1,\"fFrameBorderSize\":1,\"fFrameBorderMode\":0,\"fX1\":-10.5405400180747,\"fY1\":-0.82306228142011,\"fX2\":70.5405400180747,\"fY2\":5.5081861279105,\"fXtoAbsPixelk\":77.4800471580505,\"fXtoPixelk\":77.4800471580505,\"fXtoPixel\":7.35066676139832,\"fYtoAbsPixelk\":497.640051065433,\"fYtoPixelk\":497.640051065433,\"fYtoPixel\":-90.3455310894169,\"fUtoAbsPixelk\":5e-5,\"fUtoPixelk\":5e-5,\"fUtoPixel\":596,\"fVtoAbsPixelk\":572.00005,\"fVtoPixelk\":572,\"fVtoPixel\":-572,\"fAbsPixeltoXk\":-10.5405400180747,\"fPixeltoXk\":-10.5405400180747,\"fPixeltoX\":0.136042080597566,\"fAbsPixeltoYk\":5.5081861279105,\"fPixeltoYk\":-0.82306228142011,\"fPixeltoY\":-0.0110686161002283,\"fXlowNDC\":0,\"fYlowNDC\":0,\"fXUpNDC\":0,\"fYUpNDC\":0,\"fWNDC\":1,\"fHNDC\":1,\"fAbsXlowNDC\":0,\"fAbsYlowNDC\":0,\"fAbsWNDC\":1,\"fAbsHNDC\":1,\"fUxmin\":0,\"fUymin\":0,\"fUxmax\":60,\"fUymax\":4.8750612633917,\"fTheta\":30,\"fPhi\":30,\"fAspectRatio\":0,\"fNumber\":0,\"fTickx\":0,\"fTicky\":0,\"fLogx\":0,\"fLogy\":1,\"fLogz\":0,\"fPadPaint\":0,\"fCrosshair\":0,\"fCrosshairPos\":0,\"fBorderSize\":2,\"fBorderMode\":0,\"fModified\":false,\"fGridx\":true,\"fGridy\":true,\"fAbsCoord\":false,\"fEditable\":true,\"fFixedAspectRatio\":false,\"fPrimitives\":{\"_typename\":\"TList\",\"name\":\"TList\",\"arr\":[{\"_typename\":\"TFrame\",\"fUniqueID\":0,\"fBits\":50331656,\"fLineColor\":1,\"fLineStyle\":1,\"fLineWidth\":1,\"fFillColor\":0,\"fFillStyle\":1001,\"fX1\":0,\"fY1\":0,\"fX2\":60,\"fY2\":4.8750612633917,\"fBorderSize\":1,\"fBorderMode\":0},{\"_typename\":\"TGraphAsymmErrors\",\"fUniqueID\":0,\"fBits\":50332680,\"fName\":\"dc9f37\",\"fTitle\":\";; rate [kHz]\",\"fLineColor\":1,\"fLineStyle\":1,\"fLineWidth\":1,\"fFillColor\":0,\"fFillStyle\":1001,\"fMarkerColor\":1,\"fMarkerStyle\":8,\"fMarkerSize\":0.5,\"fNpoints\":100,\"fX\":[0,1,2,3,4,5,6,7,8,9,10,11,12,13,14,15,16,17,18,19,20,21,22,23,24,25,26,27,28,29,30,31,32,33,34,35,36,37,38,39,40,41,42,43,44,45,46,47,48,49,50,51,52,53,54,55,56,57,58,59,60,61,62,63,64,65,66,67,68,69,70,71,72,73,74,75,76,77,78,79,80,81,82,83,84,85,86,87,88,89,90,91,92,93,94,95,96,97,98,99],\"fY\":[31000,31000,30999.841796875,30712.142578125,26377.361328125,17474.03515625,9884.0966796875,5313.4951171875,2891.224609375,1643.63269042969,995.9541015625,652.89794921875,443.331634521484,317.275512695312,229.653060913086,175.086730957031,137.602035522461,108.816329956055,90.3112258911133,73.7040786743164,59.4693870544434,49.0306129455566,41.1224479675293,33.8469390869141,29.1020412445068,24.5153064727783,21.5102043151855,18.3469390869141,16.923469543457,15.1836738586426,14.3928575515747,12.6530609130859,10.7551021575928,10.1224489212036,9.48979568481445,9.01530647277832,8.54081630706787,7.59183692932129,6.64285707473755,6.32653045654297,6.01020431518555,5.85204076766968,4.9030613899231,4.58673477172852,4.11224508285522,3.47959184646606,3.00510215759277,2.84693884849548,2.5306122303009,2.21428561210632,1.89795923233032,1.73979592323303,1.73979592323303,1.73979592323303,1.10714280605316,1.10714280605316,0.790816307067871,0.632653057575226,0.632653057575226,0.632653057575226,0.632653057575226,0.632653057575226,0.632653057575226,0.632653057575226,0.632653057575226,0.632653057575226,0.632653057575226,0.632653057575226,0.632653057575226,0.632653057575226,0.632653057575226,0.632653057575226,0.632653057575226,0.632653057575226,0.632653057575226,0.632653057575226,0.632653057575226,0.474489808082581,0.474489808082581,0.474489808082581,0.474489808082581,0.474489808082581,0.474489808082581,0.474489808082581,0.474489808082581,0.474489808082581,0.474489808082581,0.474489808082581,0.474489808082581,0.474489808082581,0.316326528787613,0.316326528787613,0.316326528787613,0.316326528787613,0.316326528787613,0.316326528787613,0.316326528787613,0.158163264393806,0.158163264393806,0.158163264393806],\"fFunctions\":{\"_typename\":\"TList\",\"name\":\"TList\",\"arr\":[],\"opt\":[]},\"fHistogram\":{\"_typename\":\"TH1F\",\"fUniqueID\":0,\"fBits\":50332160,\"fName\":\"dc9f37\",\"fTitle\":\"\",\"fLineColor\":602,\"fLineStyle\":1,\"fLineWidth\":1,\"fFillColor\":0,\"fFillStyle\":1001,\"fMarkerColor\":1,\"fMarkerStyle\":1,\"fMarkerSize\":1,\"fNcells\":102,\"fXaxis\":{\"_typename\":\"TAxis\",\"fUniqueID\":0,\"fBits\":50331656,\"fName\":\"xaxis\",\"fTitle\":\"threshold p_{T}^{L1} [GeV]\",\"fNdivisions\":510,\"fAxisColor\":1,\"fLabelColor\":1,\"fLabelFont\":42,\"fLabelOffset\":0.005,\"fLabelSize\":0.035,\"fTickLength\":0.03,\"fTitleOffset\":1.4,\"fTitleSize\":0.035,\"fTitleColor\":1,\"fTitleFont\":42,\"fNbins\":100,\"fXmin\":0,\"fXmax\":60,\"fXbins\":[],\"fFirst\":0,\"fLast\":0,\"fBits2\":0,\"fTimeDisplay\":false,\"fTimeFormat\":\"\",\"fLabels\":null,\"fModLabs\":null},\"fYaxis\":{\"_typename\":\"TAxis\",\"fUniqueID\":0,\"fBits\":50331656,\"fName\":\"yaxis\",\"fTitle\":\" rate [kHz]\",\"fNdivisions\":510,\"fAxisColor\":1,\"fLabelColor\":1,\"fLabelFont\":42,\"fLabelOffset\":0.005,\"fLabelSize\":0.035,\"fTickLength\":0.03,\"fTitleOffset\":0,\"fTitleSize\":0.035,\"fTitleColor\":1,\"fTitleFont\":42,\"fNbins\":1,\"fXmin\":1,\"fXmax\":75000,\"fXbins\":[],\"fFirst\":0,\"fLast\":0,\"fBits2\":0,\"fTimeDisplay\":false,\"fTimeFormat\":\"\",\"fLabels\":null,\"fModLabs\":null},\"fZaxis\":{\"_typename\":\"TAxis\",\"fUniqueID\":0,\"fBits\":50331648,\"fName\":\"zaxis\",\"fTitle\":\"\",\"fNdivisions\":510,\"fAxisColor\":1,\"fLabelColor\":1,\"fLabelFont\":42,\"fLabelOffset\":0.005,\"fLabelSize\":0.035,\"fTickLength\":0.03,\"fTitleOffset\":1,\"fTitleSize\":0.035,\"fTitleColor\":1,\"fTitleFont\":42,\"fNbins\":1,\"fXmin\":0,\"fXmax\":1,\"fXbins\":[],\"fFirst\":0,\"fLast\":0,\"fBits2\":0,\"fTimeDisplay\":false,\"fTimeFormat\":\"\",\"fLabels\":null,\"fModLabs\":null},\"fBarOffset\":0,\"fBarWidth\":1000,\"fEntries\":0,\"fTsumw\":0,\"fTsumw2\":0,\"fTsumwx\":0,\"fTsumwx2\":0,\"fMaximum\":75000,\"fMinimum\":1,\"fNormFactor\":0,\"fContour\":[],\"fSumw2\":[],\"fOption\":\"\",\"fFunctions\":{\"_typename\":\"TList\",\"name\":\"TList\",\"arr\":[],\"opt\":[]},\"fBufferSize\":0,\"fBuffer\":[],\"fBinStatErrOpt\":0,\"fStatOverflows\":2,\"fArray\":[0,0,0,0,0,0,0,0,0,0,0,0,0,0,0,0,0,0,0,0,0,0,0,0,0,0,0,0,0,0,0,0,0,0,0,0,0,0,0,0,0,0,0,0,0,0,0,0,0,0,0,0,0,0,0,0,0,0,0,0,0,0,0,0,0,0,0,0,0,0,0,0,0,0,0,0,0,0,0,0,0,0,0,0,0,0,0,0,0,0,0,0,0,0,0,0,0,0,0,0,0,0]},\"fMinimum\":-1111,\"fMaximum\":-1111,\"fEXlow\":[0.5,0.5,0.5,0.5,0.5,0.5,0.5,0.5,0.5,0.5,0.5,0.5,0.5,0.5,0.5,0.5,0.5,0.5,0.5,0.5,0.5,0.5,0.5,0.5,0.5,0.5,0.5,0.5,0.5,0.5,0.5,0.5,0.5,0.5,0.5,0.5,0.5,0.5,0.5,0.5,0.5,0.5,0.5,0.5,0.5,0.5,0.5,0.5,0.5,0.5,0.5,0.5,0.5,0.5,0.5,0.5,0.5,0.5,0.5,0.5,0.5,0.5,0.5,0.5,0.5,0.5,0.5,0.5,0.5,0.5,0.5,0.5,0.5,0.5,0.5,0.5,0.5,0.5,0.5,0.5,0.5,0.5,0.5,0.5,0.5,0.5,0.5,0.5,0.5,0.5,0.5,0.5,0.5,0.5,0.5,0.5,0.5,0.5,0.5,0.5],\"fEXhigh\":[0.5,0.5,0.5,0.5,0.5,0.5,0.5,0.5,0.5,0.5,0.5,0.5,0.5,0.5,0.5,0.5,0.5,0.5,0.5,0.5,0.5,0.5,0.5,0.5,0.5,0.5,0.5,0.5,0.5,0.5,0.5,0.5,0.5,0.5,0.5,0.5,0.5,0.5,0.5,0.5,0.5,0.5,0.5,0.5,0.5,0.5,0.5,0.5,0.5,0.5,0.5,0.5,0.5,0.5,0.5,0.5,0.5,0.5,0.5,0.5,0.5,0.5,0.5,0.5,0.5,0.5,0.5,0.5,0.5,0.5,0.5,0.5,0.5,0.5,0.5,0.5,0.5,0.5,0.5,0.5,0.5,0.5,0.5,0.5,0.5,0.5,0.5,0.5,0.5,0.5,0.5,0.5,0.5,0.5,0.5,0.5,0.5,0.5,0.5,0.5],\"fEYlow\":[70.021862475157,70.021862475157,70.0216838477289,69.6960027464547,64.5904771836801,52.5713852456565,39.5386019788129,28.989648208432,21.3842349884009,16.1233466554536,12.5508306356982,10.161912867969,8.37369563776368,7.08387822421755,6.0268298508264,5.26234640355141,4.66514609506461,4.14858355619106,3.77940711740616,3.4142756504725,3.06689950163074,2.78475164648688,2.55030602242097,2.31372910198042,2.14543091302942,1.96911677315128,1.84448478306331,1.70347050021602,1.63605353783901,1.54967718420977,1.50878138999619,1.4146552510713,1.30424769789946,1.26530612244898,1.2251273850248,1.19410646680303,1.16225788815732,1.0957872456048,1.02501511046247,1.00031232107367,0.974983847408359,0.962069583873698,0.880615792080259,0.851735250108008,0.806477576129471,0.741851472216971,0.6894176900498,0.671029904595397,0.63265306122449,0.59179274994894,0.5478936228024,0.524568206637844,0.524568206637844,0.524568206637844,0.41846066654593,0.41846066654593,0.353663812767824,0.316326530612245,0.316326530612245,0.316326530612245,0.316326530612245,0.316326530612245,0.316326530612245,0.316326530612245,0.316326530612245,0.316326530612245,0.316326530612245,0.316326530612245,0.316326530612245,0.316326530612245,0.316326530612245,0.316326530612245,0.316326530612245,0.316326530612245,0.316326530612245,0.316326530612245,0.316326530612245,0.2739468114012,0.2739468114012,0.2739468114012,0.2739468114012,0.2739468114012,0.2739468114012,0.2739468114012,0.2739468114012,0.2739468114012,0.2739468114012,0.2739468114012,0.2739468114012,0.2739468114012,0.223676634865132,0.223676634865132,0.223676634865132,0.223676634865132,0.223676634865132,0.223676634865132,0.223676634865132,0.158163265306122,0.158163265306122,0.158163265306122],\"fEYhigh\":[70.021862475157,70.021862475157,70.0216838477289,69.6960027464547,64.5904771836801,52.5713852456565,39.5386019788129,28.989648208432,21.3842349884009,16.1233466554536,12.5508306356982,10.161912867969,8.37369563776368,7.08387822421755,6.0268298508264,5.26234640355141,4.66514609506461,4.14858355619106,3.77940711740616,3.4142756504725,3.06689950163074,2.78475164648688,2.55030602242097,2.31372910198042,2.14543091302942,1.96911677315128,1.84448478306331,1.70347050021602,1.63605353783901,1.54967718420977,1.50878138999619,1.4146552510713,1.30424769789946,1.26530612244898,1.2251273850248,1.19410646680303,1.16225788815732,1.0957872456048,1.02501511046247,1.00031232107367,0.974983847408359,0.962069583873698,0.880615792080259,0.851735250108008,0.806477576129471,0.741851472216971,0.6894176900498,0.671029904595397,0.63265306122449,0.59179274994894,0.5478936228024,0.524568206637844,0.524568206637844,0.524568206637844,0.41846066654593,0.41846066654593,0.353663812767824,0.316326530612245,0.316326530612245,0.316326530612245,0.316326530612245,0.316326530612245,0.316326530612245,0.316326530612245,0.316326530612245,0.316326530612245,0.316326530612245,0.316326530612245,0.316326530612245,0.316326530612245,0.316326530612245,0.316326530612245,0.316326530612245,0.316326530612245,0.316326530612245,0.316326530612245,0.316326530612245,0.2739468114012,0.2739468114012,0.2739468114012,0.2739468114012,0.2739468114012,0.2739468114012,0.2739468114012,0.2739468114012,0.2739468114012,0.2739468114012,0.2739468114012,0.2739468114012,0.2739468114012,0.223676634865132,0.223676634865132,0.223676634865132,0.223676634865132,0.223676634865132,0.223676634865132,0.223676634865132,0.158163265306122,0.158163265306122,0.158163265306122]},{\"_typename\":\"TGraphAsymmErrors\",\"fUniqueID\":0,\"fBits\":50332680,\"fName\":\"8ad7f5\",\"fTitle\":\";; rate [kHz]\",\"fLineColor\":628,\"fLineStyle\":1,\"fLineWidth\":1,\"fFillColor\":0,\"fFillStyle\":1001,\"fMarkerColor\":628,\"fMarkerStyle\":21,\"fMarkerSize\":0.5,\"fNpoints\":100,\"fX\":[0,1,2,3,4,5,6,7,8,9,10,11,12,13,14,15,16,17,18,19,20,21,22,23,24,25,26,27,28,29,30,31,32,33,34,35,36,37,38,39,40,41,42,43,44,45,46,47,48,49,50,51,52,53,54,55,56,57,58,59,60,61,62,63,64,65,66,67,68,69,70,71,72,73,74,75,76,77,78,79,80,81,82,83,84,85,86,87,88,89,90,91,92,93,94,95,96,97,98,99],\"fY\":[1712.75,1242.53063964844,626.326538085938,408.85205078125,322.494903564453,271.566314697266,233.607147216797,198.494903564453,164.01530456543,136.811218261719,106.918365478516,83.0357131958008,64.8469390869141,49.6632652282715,38.1173477172852,31.6326522827148,27.0459175109863,23.0918369293213,19.4540824890137,16.7653064727783,14.2346935272217,12.1785717010498,10.9132652282715,8.85714244842529,7.90816307067871,6.80102062225342,5.85204076766968,5.21938753128052,4.74489784240723,4.58673477172852,4.42857122421265,3.95408153533936,3.32142853736877,3.32142853736877,3.32142853736877,3.32142853736877,3.00510215759277,2.68877553939819,2.21428561210632,2.21428561210632,2.05612254142761,2.05612254142761,1.73979592323303,1.58163261413574,1.58163261413574,1.58163261413574,1.42346942424774,1.26530611515045,1.10714280605316,1.10714280605316,1.10714280605316,1.10714280605316,1.10714280605316,1.10714280605316,0.948979616165161,0.948979616165161,0.632653057575226,0.474489808082581,0.474489808082581,0.474489808082581,0.474489808082581,0.474489808082581,0.474489808082581,0.474489808082581,0.474489808082581,0.474489808082581,0.474489808082581,0.474489808082581,0.474489808082581,0.474489808082581,0.474489808082581,0.474489808082581,0.474489808082581,0.474489808082581,0.474489808082581,0.474489808082581,0.474489808082581,0.316326528787613,0.316326528787613,0.316326528787613,0.316326528787613,0.316326528787613,0.316326528787613,0.316326528787613,0.316326528787613,0.316326528787613,0.316326528787613,0.316326528787613,0.316326528787613,0.316326528787613,0.158163264393806,0.158163264393806,0.158163264393806,0.158163264393806,0.158163264393806,0.158163264393806,0.158163264393806,0,0,0],\"fFunctions\":{\"_typename\":\"TList\",\"name\":\"TList\",\"arr\":[],\"opt\":[]},\"fHistogram\":{\"_typename\":\"TH1F\",\"fUniqueID\":0,\"fBits\":50332160,\"fName\":\"8ad7f5\",\"fTitle\":\"\",\"fLineColor\":602,\"fLineStyle\":1,\"fLineWidth\":1,\"fFillColor\":0,\"fFillStyle\":1001,\"fMarkerColor\":1,\"fMarkerStyle\":1,\"fMarkerSize\":1,\"fNcells\":102,\"fXaxis\":{\"_typename\":\"TAxis\",\"fUniqueID\":0,\"fBits\":50331656,\"fName\":\"xaxis\",\"fTitle\":\"threshold p_{T}^{L1} [GeV]\",\"fNdivisions\":510,\"fAxisColor\":1,\"fLabelColor\":1,\"fLabelFont\":42,\"fLabelOffset\":0.005,\"fLabelSize\":0.035,\"fTickLength\":0.03,\"fTitleOffset\":1.4,\"fTitleSize\":0.035,\"fTitleColor\":1,\"fTitleFont\":42,\"fNbins\":100,\"fXmin\":0,\"fXmax\":60,\"fXbins\":[],\"fFirst\":0,\"fLast\":0,\"fBits2\":0,\"fTimeDisplay\":false,\"fTimeFormat\":\"\",\"fLabels\":null,\"fModLabs\":null},\"fYaxis\":{\"_typename\":\"TAxis\",\"fUniqueID\":0,\"fBits\":50331656,\"fName\":\"yaxis\",\"fTitle\":\" rate [kHz]\",\"fNdivisions\":510,\"fAxisColor\":1,\"fLabelColor\":1,\"fLabelFont\":42,\"fLabelOffset\":0.005,\"fLabelSize\":0.035,\"fTickLength\":0.03,\"fTitleOffset\":0,\"fTitleSize\":0.035,\"fTitleColor\":1,\"fTitleFont\":42,\"fNbins\":1,\"fXmin\":1.90212974801013,\"fXmax\":1902.12974801013,\"fXbins\":[],\"fFirst\":0,\"fLast\":0,\"fBits2\":0,\"fTimeDisplay\":false,\"fTimeFormat\":\"\",\"fLabels\":null,\"fModLabs\":null},\"fZaxis\":{\"_typename\":\"TAxis\",\"fUniqueID\":0,\"fBits\":50331648,\"fName\":\"zaxis\",\"fTitle\":\"\",\"fNdivisions\":510,\"fAxisColor\":1,\"fLabelColor\":1,\"fLabelFont\":42,\"fLabelOffset\":0.005,\"fLabelSize\":0.035,\"fTickLength\":0.03,\"fTitleOffset\":1,\"fTitleSize\":0.035,\"fTitleColor\":1,\"fTitleFont\":42,\"fNbins\":1,\"fXmin\":0,\"fXmax\":1,\"fXbins\":[],\"fFirst\":0,\"fLast\":0,\"fBits2\":0,\"fTimeDisplay\":false,\"fTimeFormat\":\"\",\"fLabels\":null,\"fModLabs\":null},\"fBarOffset\":0,\"fBarWidth\":1000,\"fEntries\":0,\"fTsumw\":0,\"fTsumw2\":0,\"fTsumwx\":0,\"fTsumwx2\":0,\"fMaximum\":75000,\"fMinimum\":1,\"fNormFactor\":0,\"fContour\":[],\"fSumw2\":[],\"fOption\":\"\",\"fFunctions\":{\"_typename\":\"TList\",\"name\":\"TList\",\"arr\":[],\"opt\":[]},\"fBufferSize\":0,\"fBuffer\":[],\"fBinStatErrOpt\":0,\"fStatOverflows\":2,\"fArray\":[0,0,0,0,0,0,0,0,0,0,0,0,0,0,0,0,0,0,0,0,0,0,0,0,0,0,0,0,0,0,0,0,0,0,0,0,0,0,0,0,0,0,0,0,0,0,0,0,0,0,0,0,0,0,0,0,0,0,0,0,0,0,0,0,0,0,0,0,0,0,0,0,0,0,0,0,0,0,0,0,0,0,0,0,0,0,0,0,0,0,0,0,0,0,0,0,0,0,0,0,0,0]},\"fMinimum\":-1111,\"fMaximum\":-1111,\"fEXlow\":[0.5,0.5,0.5,0.5,0.5,0.5,0.5,0.5,0.5,0.5,0.5,0.5,0.5,0.5,0.5,0.5,0.5,0.5,0.5,0.5,0.5,0.5,0.5,0.5,0.5,0.5,0.5,0.5,0.5,0.5,0.5,0.5,0.5,0.5,0.5,0.5,0.5,0.5,0.5,0.5,0.5,0.5,0.5,0.5,0.5,0.5,0.5,0.5,0.5,0.5,0.5,0.5,0.5,0.5,0.5,0.5,0.5,0.5,0.5,0.5,0.5,0.5,0.5,0.5,0.5,0.5,0.5,0.5,0.5,0.5,0.5,0.5,0.5,0.5,0.5,0.5,0.5,0.5,0.5,0.5,0.5,0.5,0.5,0.5,0.5,0.5,0.5,0.5,0.5,0.5,0.5,0.5,0.5,0.5,0.5,0.5,0.5,0.5,0.5,0.5],\"fEXhigh\":[0.5,0.5,0.5,0.5,0.5,0.5,0.5,0.5,0.5,0.5,0.5,0.5,0.5,0.5,0.5,0.5,0.5,0.5,0.5,0.5,0.5,0.5,0.5,0.5,0.5,0.5,0.5,0.5,0.5,0.5,0.5,0.5,0.5,0.5,0.5,0.5,0.5,0.5,0.5,0.5,0.5,0.5,0.5,0.5,0.5,0.5,0.5,0.5,0.5,0.5,0.5,0.5,0.5,0.5,0.5,0.5,0.5,0.5,0.5,0.5,0.5,0.5,0.5,0.5,0.5,0.5,0.5,0.5,0.5,0.5,0.5,0.5,0.5,0.5,0.5,0.5,0.5,0.5,0.5,0.5,0.5,0.5,0.5,0.5,0.5,0.5,0.5,0.5,0.5,0.5,0.5,0.5,0.5,0.5,0.5,0.5,0.5,0.5,0.5,0.5],\"fEYlow\":[16.4588618273883,14.0186553875708,9.95298192651266,8.04147833439737,7.14190773573765,6.55376357151143,6.0784922894678,5.60308854185172,5.09325007991064,4.65172118638199,4.11224489795918,3.62397567713345,3.20256203403477,2.80266020176913,2.45535416114317,2.23676634865132,2.0682530701494,1.91109400602771,1.75411546785047,1.62839048148264,1.50046848161051,1.38787702045488,1.31380275382888,1.18358549989788,1.11838317432566,1.03714588904777,0.962069583873698,0.908578785932035,0.866295881768375,0.851735250108008,0.83692133309186,0.790816326530612,0.724795135426689,0.724795135426689,0.724795135426689,0.724795135426689,0.6894176900498,0.652123848949732,0.59179274994894,0.59179274994894,0.570265762956039,0.570265762956039,0.524568206637844,0.500156160536836,0.500156160536836,0.500156160536836,0.474489795918367,0.447353269730265,0.41846066654593,0.41846066654593,0.41846066654593,0.41846066654593,0.41846066654593,0.41846066654593,0.387419296052441,0.387419296052441,0.316326530612245,0.2739468114012,0.2739468114012,0.2739468114012,0.2739468114012,0.2739468114012,0.2739468114012,0.2739468114012,0.2739468114012,0.2739468114012,0.2739468114012,0.2739468114012,0.2739468114012,0.2739468114012,0.2739468114012,0.2739468114012,0.2739468114012,0.2739468114012,0.2739468114012,0.2739468114012,0.2739468114012,0.223676634865132,0.223676634865132,0.223676634865132,0.223676634865132,0.223676634865132,0.223676634865132,0.223676634865132,0.223676634865132,0.223676634865132,0.223676634865132,0.223676634865132,0.223676634865132,0.223676634865132,0.158163265306122,0.158163265306122,0.158163265306122,0.158163265306122,0.158163265306122,0.158163265306122,0.158163265306122,0,0,0],\"fEYhigh\":[16.4588618273883,14.0186553875708,9.95298192651266,8.04147833439737,7.14190773573765,6.55376357151143,6.0784922894678,5.60308854185172,5.09325007991064,4.65172118638199,4.11224489795918,3.62397567713345,3.20256203403477,2.80266020176913,2.45535416114317,2.23676634865132,2.0682530701494,1.91109400602771,1.75411546785047,1.62839048148264,1.50046848161051,1.38787702045488,1.31380275382888,1.18358549989788,1.11838317432566,1.03714588904777,0.962069583873698,0.908578785932035,0.866295881768375,0.851735250108008,0.83692133309186,0.790816326530612,0.724795135426689,0.724795135426689,0.724795135426689,0.724795135426689,0.6894176900498,0.652123848949732,0.59179274994894,0.59179274994894,0.570265762956039,0.570265762956039,0.524568206637844,0.500156160536836,0.500156160536836,0.500156160536836,0.474489795918367,0.447353269730265,0.41846066654593,0.41846066654593,0.41846066654593,0.41846066654593,0.41846066654593,0.41846066654593,0.387419296052441,0.387419296052441,0.316326530612245,0.2739468114012,0.2739468114012,0.2739468114012,0.2739468114012,0.2739468114012,0.2739468114012,0.2739468114012,0.2739468114012,0.2739468114012,0.2739468114012,0.2739468114012,0.2739468114012,0.2739468114012,0.2739468114012,0.2739468114012,0.2739468114012,0.2739468114012,0.2739468114012,0.2739468114012,0.2739468114012,0.223676634865132,0.223676634865132,0.223676634865132,0.223676634865132,0.223676634865132,0.223676634865132,0.223676634865132,0.223676634865132,0.223676634865132,0.223676634865132,0.223676634865132,0.223676634865132,0.223676634865132,0.158163265306122,0.158163265306122,0.158163265306122,0.158163265306122,0.158163265306122,0.158163265306122,0.158163265306122,0,0,0]},{\"_typename\":\"TLegend\",\"fUniqueID\":0,\"fBits\":50331656,\"fLineColor\":1,\"fLineStyle\":1,\"fLineWidth\":1,\"fFillColor\":0,\"fFillStyle\":0,\"fX1\":21.8918919963851,\"fY1\":3.29224918464479,\"fX2\":42.9729728057839,\"fY2\":3.92537402557785,\"fX1NDC\":0.4,\"fY1NDC\":0.65,\"fX2NDC\":0.66,\"fY2NDC\":0.75,\"fBorderSize\":0,\"fInit\":1,\"fShadowColor\":1,\"fCornerRadius\":0,\"fOption\":\"brNDC\",\"fName\":\"TPave\",\"fTextAngle\":0,\"fTextSize\":0.03,\"fTextAlign\":12,\"fTextColor\":1,\"fTextFont\":42,\"fPrimitives\":{\"_typename\":\"TList\",\"name\":\"TList\",\"arr\":[{\"_typename\":\"TLegendEntry\",\"fUniqueID\":0,\"fBits\":50331656,\"fTextAngle\":0,\"fTextSize\":0,\"fTextAlign\":0,\"fTextColor\":0,\"fTextFont\":42,\"fLineColor\":1,\"fLineStyle\":1,\"fLineWidth\":1,\"fFillColor\":0,\"fFillStyle\":0,\"fMarkerColor\":1,\"fMarkerStyle\":8,\"fMarkerSize\":0.5,\"fObject\":{\"$ref\":3},\"fLabel\":\"calorimeter only\",\"fOption\":\"P\"},{\"_typename\":\"TLegendEntry\",\"fUniqueID\":0,\"fBits\":50331656,\"fTextAngle\":0,\"fTextSize\":0,\"fTextAlign\":0,\"fTextColor\":0,\"fTextFont\":42,\"fLineColor\":1,\"fLineStyle\":1,\"fLineWidth\":1,\"fFillColor\":0,\"fFillStyle\":0,\"fMarkerColor\":628,\"fMarkerStyle\":21,\"fMarkerSize\":0.5,\"fObject\":{\"$ref\":10},\"fLabel\":\"track-matched\",\"fOption\":\"P\"}],\"opt\":[\"P\",\"P\"]},\"fEntrySeparation\":0.1,\"fMargin\":0.25,\"fNColumns\":1,\"fColumnSeparation\":0},{\"_typename\":\"TLatex\",\"fUniqueID\":0,\"fBits\":50348040,\"fName\":\"\",\"fTitle\":\"EG endcap, 1.52 < |#eta^{L1}| #leq 2.4\",\"fTextAngle\":0,\"fTextSize\":0.03,\"fTextAlign\":11,\"fTextColor\":1,\"fTextFont\":62,\"fX\":0.15,\"fY\":0.85,\"fLineColor\":1,\"fLineStyle\":1,\"fLineWidth\":2,\"fLimitFactorSize\":3,\"fOriginSize\":0.0299999993294477},{\"_typename\":\"TLatex\",\"fUniqueID\":0,\"fBits\":50348041,\"fName\":\"\",\"fTitle\":\"#scale[1.5]{CMS} #scale[1.]{Phase-2 Simulation}\",\"fTextAngle\":0,\"fTextSize\":0.03,\"fTextAlign\":11,\"fTextColor\":1,\"fTextFont\":62,\"fX\":0.13,\"fY\":0.91,\"fLineColor\":1,\"fLineStyle\":1,\"fLineWidth\":2,\"fLimitFactorSize\":3,\"fOriginSize\":0.0299999993294477},{\"_typename\":\"TLatex\",\"fUniqueID\":0,\"fBits\":50348041,\"fName\":\"\",\"fTitle\":\"14TeV, 200 PU\",\"fTextAngle\":0,\"fTextSize\":0.03,\"fTextAlign\":11,\"fTextColor\":1,\"fTextFont\":62,\"fX\":0.69,\"fY\":0.91,\"fLineColor\":1,\"fLineStyle\":1,\"fLineWidth\":2,\"fLimitFactorSize\":3,\"fOriginSize\":0.0299999993294477},{\"_typename\":\"TLatex\",\"fUniqueID\":0,\"fBits\":50331656,\"fName\":\"\",\"fTitle\":\"\",\"fTextAngle\":0,\"fTextSize\":0.03,\"fTextAlign\":11,\"fTextColor\":1,\"fTextFont\":62,\"fX\":0,\"fY\":0,\"fLineColor\":1,\"fLineStyle\":1,\"fLineWidth\":2,\"fLimitFactorSize\":3,\"fOriginSize\":0.04}],\"opt\":[\"\",\"pa\",\",p\",\"same\",\"same\",\"\",\"\",\"same\"]},\"fExecs\":null,\"fName\":\"c_3d5bef\",\"fTitle\":\"c_3d5bef\",\"fNumPaletteColor\":0,\"fNextPaletteColor\":0,\"fDISPLAY\":\"$DISPLAY\",\"fDoubleBuffer\":0,\"fRetained\":true,\"fXsizeUser\":0,\"fYsizeUser\":0,\"fXsizeReal\":20,\"fYsizeReal\":20,\"fWindowTopX\":0,\"fWindowTopY\":0,\"fWindowWidth\":0,\"fWindowHeight\":0,\"fCw\":596,\"fCh\":572,\"fCatt\":{\"_typename\":\"TAttCanvas\",\"fXBetween\":2,\"fYBetween\":2,\"fTitleFromTop\":1.2,\"fXdate\":0.2,\"fYdate\":0.3,\"fAdate\":1},\"kMoveOpaque\":true,\"kResizeOpaque\":true,\"fHighLightColor\":2,\"fBatch\":true,\"kShowEventStatus\":false,\"kAutoExec\":true,\"kMenuBar\":true});\n",
       "       Core.draw(\"root_plot_25\", obj, \"\");\n",
       "     }\n",
       " );\n",
       "</script>\n"
      ],
      "text/plain": [
       "<IPython.core.display.HTML object>"
      ]
     },
     "metadata": {},
     "output_type": "display_data"
    }
   ],
   "source": [
    "# final_haset = []\n",
    "labels_final = []\n",
    "\n",
    "hsets, labels, text = hplot.get_histo(histos.RateHistos, sample, 'PU200', ['EG', 'TkEleEL'], 'EGq5EtaBC', None)\n",
    "for hist in hsets:\n",
    "    hist.normalize(31000)\n",
    "\n",
    "[his.h_pt_graph('online', 'rate [kHz]', convertRateToGraph) for his in hsets]\n",
    "# final_haset.append(hsets[0])\n",
    "# final_haset.append(hsets[0])\n",
    "\n",
    "[his.g_pt_online.GetXaxis().SetLimits(0, 60) for his in hsets]\n",
    "labels_final.append('calorimeter only')\n",
    "labels_final.append('track-matched')\n",
    "\n",
    "text_forprint='EG endcap, 1.52 < |#eta^{L1}| #leq 2.4'\n",
    "draw([his.g_pt_online for his in hsets], labels_final, text=text_forprint, logy=True,\n",
    "     min_x=0., max_x=60., min_y=1., max_y=75000, x_axis_label='threshold p_{T}^{L1} [GeV]',\n",
    "     do_write=True, write_name='figs/egammEndcap_TkEle_EtaBC_rate'\n",
    "    )\n"
   ]
  },
  {
   "cell_type": "code",
   "execution_count": 68,
   "metadata": {
    "scrolled": false
   },
   "outputs": [
    {
     "name": "stdout",
     "output_type": "stream",
     "text": [
      "normalize to 31000\n",
      "normalize to 31000\n"
     ]
    },
    {
     "data": {
      "text/plain": [
       "<__main__.DrawMachine at 0x10dd07250>"
      ]
     },
     "execution_count": 68,
     "metadata": {},
     "output_type": "execute_result"
    },
    {
     "name": "stderr",
     "output_type": "stream",
     "text": [
      "Info in <TCanvas::Print>: pdf file figs/egammaBarrel_TkEle_LooseTKID_rate.pdf has been created\n"
     ]
    },
    {
     "data": {
      "text/html": [
       "\n",
       "<div id=\"root_plot_26\"\n",
       "     style=\"width: 596px; height: 572px\">\n",
       "</div>\n",
       "\n",
       "<script>\n",
       " requirejs.config({\n",
       "     paths: {\n",
       "       'JSRootCore' : 'https://root.cern.ch/js/notebook//scripts/JSRootCore',\n",
       "     }\n",
       "   });\n",
       " require(['JSRootCore'],\n",
       "     function(Core) {\n",
       "       var obj = Core.JSONR_unref({\"_typename\":\"TCanvas\",\"fUniqueID\":0,\"fBits\":53673992,\"fLineColor\":1,\"fLineStyle\":1,\"fLineWidth\":1,\"fFillColor\":0,\"fFillStyle\":1001,\"fLeftMargin\":0.13,\"fRightMargin\":0.13,\"fBottomMargin\":0.13,\"fTopMargin\":0.1,\"fXfile\":2,\"fYfile\":2,\"fAfile\":1,\"fXstat\":0.99,\"fYstat\":0.99,\"fAstat\":2,\"fFrameFillColor\":0,\"fFrameLineColor\":1,\"fFrameFillStyle\":1001,\"fFrameLineStyle\":1,\"fFrameLineWidth\":1,\"fFrameBorderSize\":1,\"fFrameBorderMode\":0,\"fX1\":-10.5405400180747,\"fY1\":-0.82306228142011,\"fX2\":70.5405400180747,\"fY2\":5.5081861279105,\"fXtoAbsPixelk\":77.4800471580505,\"fXtoPixelk\":77.4800471580505,\"fXtoPixel\":7.35066676139832,\"fYtoAbsPixelk\":497.640051065433,\"fYtoPixelk\":497.640051065433,\"fYtoPixel\":-90.3455310894169,\"fUtoAbsPixelk\":5e-5,\"fUtoPixelk\":5e-5,\"fUtoPixel\":596,\"fVtoAbsPixelk\":572.00005,\"fVtoPixelk\":572,\"fVtoPixel\":-572,\"fAbsPixeltoXk\":-10.5405400180747,\"fPixeltoXk\":-10.5405400180747,\"fPixeltoX\":0.136042080597566,\"fAbsPixeltoYk\":5.5081861279105,\"fPixeltoYk\":-0.82306228142011,\"fPixeltoY\":-0.0110686161002283,\"fXlowNDC\":0,\"fYlowNDC\":0,\"fXUpNDC\":0,\"fYUpNDC\":0,\"fWNDC\":1,\"fHNDC\":1,\"fAbsXlowNDC\":0,\"fAbsYlowNDC\":0,\"fAbsWNDC\":1,\"fAbsHNDC\":1,\"fUxmin\":0,\"fUymin\":0,\"fUxmax\":60,\"fUymax\":4.8750612633917,\"fTheta\":30,\"fPhi\":30,\"fAspectRatio\":0,\"fNumber\":0,\"fTickx\":0,\"fTicky\":0,\"fLogx\":0,\"fLogy\":1,\"fLogz\":0,\"fPadPaint\":0,\"fCrosshair\":0,\"fCrosshairPos\":0,\"fBorderSize\":2,\"fBorderMode\":0,\"fModified\":false,\"fGridx\":true,\"fGridy\":true,\"fAbsCoord\":false,\"fEditable\":true,\"fFixedAspectRatio\":false,\"fPrimitives\":{\"_typename\":\"TList\",\"name\":\"TList\",\"arr\":[{\"_typename\":\"TFrame\",\"fUniqueID\":0,\"fBits\":50331656,\"fLineColor\":1,\"fLineStyle\":1,\"fLineWidth\":1,\"fFillColor\":0,\"fFillStyle\":1001,\"fX1\":0,\"fY1\":0,\"fX2\":60,\"fY2\":4.8750612633917,\"fBorderSize\":1,\"fBorderMode\":0},{\"_typename\":\"TGraphAsymmErrors\",\"fUniqueID\":0,\"fBits\":50332680,\"fName\":\"6efdce\",\"fTitle\":\";; rate [kHz]\",\"fLineColor\":1,\"fLineStyle\":1,\"fLineWidth\":1,\"fFillColor\":0,\"fFillStyle\":1001,\"fMarkerColor\":1,\"fMarkerStyle\":8,\"fMarkerSize\":0.5,\"fNpoints\":100,\"fX\":[0,1,2,3,4,5,6,7,8,9,10,11,12,13,14,15,16,17,18,19,20,21,22,23,24,25,26,27,28,29,30,31,32,33,34,35,36,37,38,39,40,41,42,43,44,45,46,47,48,49,50,51,52,53,54,55,56,57,58,59,60,61,62,63,64,65,66,67,68,69,70,71,72,73,74,75,76,77,78,79,80,81,82,83,84,85,86,87,88,89,90,91,92,93,94,95,96,97,98,99],\"fY\":[3104.74487304688,3104.74487304688,2774.658203125,2285.93359375,1854.62243652344,1486.41833496094,1183.85205078125,947.872436523438,769.622436523438,626.801025390625,517.35205078125,419.765319824219,343.214294433594,277.576538085938,230.760208129883,191.693878173828,163.382659912109,136.020401000977,117.51530456543,97.1122436523438,74.9693908691406,65.7959213256836,58.6785697937012,52.0357131958008,48.2397956848145,43.3367347717285,40.173469543457,35.1122436523438,31.7908172607422,27.3622455596924,22.9336738586426,18.5051021575928,17.0816326141357,15.9744901657104,15.1836738586426,14.076530456543,12.811224937439,11.8622446060181,11.3877553939819,10.7551021575928,9.01530647277832,8.38265323638916,8.06632614135742,7.75,7.11734676361084,6.48469400405884,6.16836738586426,5.69387769699097,5.21938753128052,4.9030613899231,4.27040815353394,3.95408153533936,3.63775515556335,3.47959184646606,3.32142853736877,3.32142853736877,2.84693884849548,2.84693884849548,2.37244892120361,2.37244892120361,2.05612254142761,1.89795923233032,1.58163261413574,1.42346942424774,1.42346942424774,1.42346942424774,1.42346942424774,1.42346942424774,1.42346942424774,1.42346942424774,1.42346942424774,1.10714280605316,1.10714280605316,1.10714280605316,1.10714280605316,1.10714280605316,1.10714280605316,1.10714280605316,1.10714280605316,1.10714280605316,1.10714280605316,0.948979616165161,0.790816307067871,0.790816307067871,0.790816307067871,0.790816307067871,0.790816307067871,0.790816307067871,0.790816307067871,0.790816307067871,0.632653057575226,0.632653057575226,0.632653057575226,0.632653057575226,0.632653057575226,0.474489808082581,0.474489808082581,0.474489808082581,0.474489808082581,0.474489808082581],\"fFunctions\":{\"_typename\":\"TList\",\"name\":\"TList\",\"arr\":[],\"opt\":[]},\"fHistogram\":{\"_typename\":\"TH1F\",\"fUniqueID\":0,\"fBits\":50332160,\"fName\":\"6efdce\",\"fTitle\":\"\",\"fLineColor\":602,\"fLineStyle\":1,\"fLineWidth\":1,\"fFillColor\":0,\"fFillStyle\":1001,\"fMarkerColor\":1,\"fMarkerStyle\":1,\"fMarkerSize\":1,\"fNcells\":102,\"fXaxis\":{\"_typename\":\"TAxis\",\"fUniqueID\":0,\"fBits\":50331656,\"fName\":\"xaxis\",\"fTitle\":\"threshold p_{T}^{L1} [GeV]\",\"fNdivisions\":510,\"fAxisColor\":1,\"fLabelColor\":1,\"fLabelFont\":42,\"fLabelOffset\":0.005,\"fLabelSize\":0.035,\"fTickLength\":0.03,\"fTitleOffset\":1.4,\"fTitleSize\":0.035,\"fTitleColor\":1,\"fTitleFont\":42,\"fNbins\":100,\"fXmin\":0,\"fXmax\":60,\"fXbins\":[],\"fFirst\":0,\"fLast\":0,\"fBits2\":0,\"fTimeDisplay\":false,\"fTimeFormat\":\"\",\"fLabels\":null,\"fModLabs\":null},\"fYaxis\":{\"_typename\":\"TAxis\",\"fUniqueID\":0,\"fBits\":50331656,\"fName\":\"yaxis\",\"fTitle\":\" rate [kHz]\",\"fNdivisions\":510,\"fAxisColor\":1,\"fLabelColor\":1,\"fLabelFont\":42,\"fLabelOffset\":0.005,\"fLabelSize\":0.035,\"fTickLength\":0.03,\"fTitleOffset\":0,\"fTitleSize\":0.035,\"fTitleColor\":1,\"fTitleFont\":42,\"fNbins\":1,\"fXmin\":1,\"fXmax\":75000,\"fXbins\":[],\"fFirst\":0,\"fLast\":0,\"fBits2\":0,\"fTimeDisplay\":false,\"fTimeFormat\":\"\",\"fLabels\":null,\"fModLabs\":null},\"fZaxis\":{\"_typename\":\"TAxis\",\"fUniqueID\":0,\"fBits\":50331648,\"fName\":\"zaxis\",\"fTitle\":\"\",\"fNdivisions\":510,\"fAxisColor\":1,\"fLabelColor\":1,\"fLabelFont\":42,\"fLabelOffset\":0.005,\"fLabelSize\":0.035,\"fTickLength\":0.03,\"fTitleOffset\":1,\"fTitleSize\":0.035,\"fTitleColor\":1,\"fTitleFont\":42,\"fNbins\":1,\"fXmin\":0,\"fXmax\":1,\"fXbins\":[],\"fFirst\":0,\"fLast\":0,\"fBits2\":0,\"fTimeDisplay\":false,\"fTimeFormat\":\"\",\"fLabels\":null,\"fModLabs\":null},\"fBarOffset\":0,\"fBarWidth\":1000,\"fEntries\":0,\"fTsumw\":0,\"fTsumw2\":0,\"fTsumwx\":0,\"fTsumwx2\":0,\"fMaximum\":75000,\"fMinimum\":1,\"fNormFactor\":0,\"fContour\":[],\"fSumw2\":[],\"fOption\":\"\",\"fFunctions\":{\"_typename\":\"TList\",\"name\":\"TList\",\"arr\":[],\"opt\":[]},\"fBufferSize\":0,\"fBuffer\":[],\"fBinStatErrOpt\":0,\"fStatOverflows\":2,\"fArray\":[0,0,0,0,0,0,0,0,0,0,0,0,0,0,0,0,0,0,0,0,0,0,0,0,0,0,0,0,0,0,0,0,0,0,0,0,0,0,0,0,0,0,0,0,0,0,0,0,0,0,0,0,0,0,0,0,0,0,0,0,0,0,0,0,0,0,0,0,0,0,0,0,0,0,0,0,0,0,0,0,0,0,0,0,0,0,0,0,0,0,0,0,0,0,0,0,0,0,0,0,0,0]},\"fMinimum\":-1111,\"fMaximum\":-1111,\"fEXlow\":[0.5,0.5,0.5,0.5,0.5,0.5,0.5,0.5,0.5,0.5,0.5,0.5,0.5,0.5,0.5,0.5,0.5,0.5,0.5,0.5,0.5,0.5,0.5,0.5,0.5,0.5,0.5,0.5,0.5,0.5,0.5,0.5,0.5,0.5,0.5,0.5,0.5,0.5,0.5,0.5,0.5,0.5,0.5,0.5,0.5,0.5,0.5,0.5,0.5,0.5,0.5,0.5,0.5,0.5,0.5,0.5,0.5,0.5,0.5,0.5,0.5,0.5,0.5,0.5,0.5,0.5,0.5,0.5,0.5,0.5,0.5,0.5,0.5,0.5,0.5,0.5,0.5,0.5,0.5,0.5,0.5,0.5,0.5,0.5,0.5,0.5,0.5,0.5,0.5,0.5,0.5,0.5,0.5,0.5,0.5,0.5,0.5,0.5,0.5,0.5],\"fEXhigh\":[0.5,0.5,0.5,0.5,0.5,0.5,0.5,0.5,0.5,0.5,0.5,0.5,0.5,0.5,0.5,0.5,0.5,0.5,0.5,0.5,0.5,0.5,0.5,0.5,0.5,0.5,0.5,0.5,0.5,0.5,0.5,0.5,0.5,0.5,0.5,0.5,0.5,0.5,0.5,0.5,0.5,0.5,0.5,0.5,0.5,0.5,0.5,0.5,0.5,0.5,0.5,0.5,0.5,0.5,0.5,0.5,0.5,0.5,0.5,0.5,0.5,0.5,0.5,0.5,0.5,0.5,0.5,0.5,0.5,0.5,0.5,0.5,0.5,0.5,0.5,0.5,0.5,0.5,0.5,0.5,0.5,0.5,0.5,0.5,0.5,0.5,0.5,0.5,0.5,0.5,0.5,0.5,0.5,0.5,0.5,0.5,0.5,0.5,0.5,0.5],\"fEYlow\":[22.1597967274916,22.1597967274916,20.9487229971263,19.0144874784765,17.1269711986869,15.3328660918495,13.6836363739624,12.2441251882004,11.0329506290705,9.95675128166635,9.04577736229986,8.14809496008426,7.36776031968195,6.62588940852302,6.04133986630931,5.50626276276944,5.08341754162892,4.63825742099052,4.31121845187356,3.91913124994163,3.44345802433365,3.22591030451788,3.04643963679594,2.86882179369249,2.76220267904981,2.61806788813598,2.5207076579887,2.3565795775423,2.24235129204843,2.08031295702522,1.90453791807429,1.71079728886812,1.6436808684072,1.58952114415688,1.54967718420977,1.49210926068242,1.4234693877551,1.369734057006,1.34205980919079,1.30424769789946,1.19410646680303,1.151445951876,1.12951163920831,1.10714285714286,1.06099143830347,1.01273903755315,0.98772927525689,0.948979591836735,0.908578785932035,0.880615792080259,0.8218404342036,0.790816326530612,0.758524373585175,0.741851472216971,0.724795135426689,0.724795135426689,0.671029904595397,0.671029904595397,0.612563692512398,0.612563692512398,0.570265762956039,0.5478936228024,0.500156160536836,0.474489795918367,0.474489795918367,0.474489795918367,0.474489795918367,0.474489795918367,0.474489795918367,0.474489795918367,0.474489795918367,0.41846066654593,0.41846066654593,0.41846066654593,0.41846066654593,0.41846066654593,0.41846066654593,0.41846066654593,0.41846066654593,0.41846066654593,0.41846066654593,0.387419296052441,0.353663812767824,0.353663812767824,0.353663812767824,0.353663812767824,0.353663812767824,0.353663812767824,0.353663812767824,0.353663812767824,0.316326530612245,0.316326530612245,0.316326530612245,0.316326530612245,0.316326530612245,0.2739468114012,0.2739468114012,0.2739468114012,0.2739468114012,0.2739468114012],\"fEYhigh\":[22.1597967274916,22.1597967274916,20.9487229971263,19.0144874784765,17.1269711986869,15.3328660918495,13.6836363739624,12.2441251882004,11.0329506290705,9.95675128166635,9.04577736229986,8.14809496008426,7.36776031968195,6.62588940852302,6.04133986630931,5.50626276276944,5.08341754162892,4.63825742099052,4.31121845187356,3.91913124994163,3.44345802433365,3.22591030451788,3.04643963679594,2.86882179369249,2.76220267904981,2.61806788813598,2.5207076579887,2.3565795775423,2.24235129204843,2.08031295702522,1.90453791807429,1.71079728886812,1.6436808684072,1.58952114415688,1.54967718420977,1.49210926068242,1.4234693877551,1.369734057006,1.34205980919079,1.30424769789946,1.19410646680303,1.151445951876,1.12951163920831,1.10714285714286,1.06099143830347,1.01273903755315,0.98772927525689,0.948979591836735,0.908578785932035,0.880615792080259,0.8218404342036,0.790816326530612,0.758524373585175,0.741851472216971,0.724795135426689,0.724795135426689,0.671029904595397,0.671029904595397,0.612563692512398,0.612563692512398,0.570265762956039,0.5478936228024,0.500156160536836,0.474489795918367,0.474489795918367,0.474489795918367,0.474489795918367,0.474489795918367,0.474489795918367,0.474489795918367,0.474489795918367,0.41846066654593,0.41846066654593,0.41846066654593,0.41846066654593,0.41846066654593,0.41846066654593,0.41846066654593,0.41846066654593,0.41846066654593,0.41846066654593,0.387419296052441,0.353663812767824,0.353663812767824,0.353663812767824,0.353663812767824,0.353663812767824,0.353663812767824,0.353663812767824,0.353663812767824,0.316326530612245,0.316326530612245,0.316326530612245,0.316326530612245,0.316326530612245,0.2739468114012,0.2739468114012,0.2739468114012,0.2739468114012,0.2739468114012]},{\"_typename\":\"TGraphAsymmErrors\",\"fUniqueID\":0,\"fBits\":50332680,\"fName\":\"fbda8b\",\"fTitle\":\";; rate [kHz]\",\"fLineColor\":628,\"fLineStyle\":1,\"fLineWidth\":1,\"fFillColor\":0,\"fFillStyle\":1001,\"fMarkerColor\":628,\"fMarkerStyle\":21,\"fMarkerSize\":0.5,\"fNpoints\":100,\"fX\":[0,1,2,3,4,5,6,7,8,9,10,11,12,13,14,15,16,17,18,19,20,21,22,23,24,25,26,27,28,29,30,31,32,33,34,35,36,37,38,39,40,41,42,43,44,45,46,47,48,49,50,51,52,53,54,55,56,57,58,59,60,61,62,63,64,65,66,67,68,69,70,71,72,73,74,75,76,77,78,79,80,81,82,83,84,85,86,87,88,89,90,91,92,93,94,95,96,97,98,99],\"fY\":[31000,31000,31000,30822.3828125,27714.474609375,20593.96484375,13966.44921875,9363.8984375,6470.458984375,4632.12744140625,3423.12744140625,2591.50512695312,2018.32141113281,1583.05615234375,1270.20922851562,1037.23474121094,858.510192871094,720.591857910156,602.44384765625,469.112243652344,345.903076171875,293.867340087891,250.846939086914,215.102035522461,188.214279174805,161.168365478516,145.193878173828,126.688774108887,115.617347717285,99.326530456543,81.7704086303711,68.4846954345703,60.2602043151855,54.25,48.7142868041992,43.3367347717285,40.3316345214844,37.1683654785156,35.2704086303711,31.9489803314209,27.0459175109863,24.3571434020996,23.25,21.9846935272217,20.7193870544434,19.1377544403076,18.1887760162354,17.0816326141357,15.8163261413574,15.1836738586426,13.4438772201538,12.4948978424072,11.8622446060181,10.438775062561,9.64795875549316,9.48979568481445,8.38265323638916,7.59183692932129,6.64285707473755,6.01020431518555,5.5357141494751,5.06122446060181,4.11224508285522,3.47959184646606,3.47959184646606,3.47959184646606,3.47959184646606,3.32142853736877,3.32142853736877,3.16326522827148,3.16326522827148,2.84693884849548,2.68877553939819,2.68877553939819,2.37244892120361,2.37244892120361,2.37244892120361,2.37244892120361,2.37244892120361,2.37244892120361,2.21428561210632,1.89795923233032,1.73979592323303,1.73979592323303,1.58163261413574,1.58163261413574,1.42346942424774,1.42346942424774,1.26530611515045,1.10714280605316,0.948979616165161,0.948979616165161,0.948979616165161,0.948979616165161,0.948979616165161,0.790816307067871,0.790816307067871,0.790816307067871,0.790816307067871,0.790816307067871],\"fFunctions\":{\"_typename\":\"TList\",\"name\":\"TList\",\"arr\":[],\"opt\":[]},\"fHistogram\":{\"_typename\":\"TH1F\",\"fUniqueID\":0,\"fBits\":50332160,\"fName\":\"fbda8b\",\"fTitle\":\"\",\"fLineColor\":602,\"fLineStyle\":1,\"fLineWidth\":1,\"fFillColor\":0,\"fFillStyle\":1001,\"fMarkerColor\":1,\"fMarkerStyle\":1,\"fMarkerSize\":1,\"fNcells\":102,\"fXaxis\":{\"_typename\":\"TAxis\",\"fUniqueID\":0,\"fBits\":50331656,\"fName\":\"xaxis\",\"fTitle\":\"threshold p_{T}^{L1} [GeV]\",\"fNdivisions\":510,\"fAxisColor\":1,\"fLabelColor\":1,\"fLabelFont\":42,\"fLabelOffset\":0.005,\"fLabelSize\":0.035,\"fTickLength\":0.03,\"fTitleOffset\":1.4,\"fTitleSize\":0.035,\"fTitleColor\":1,\"fTitleFont\":42,\"fNbins\":100,\"fXmin\":0,\"fXmax\":60,\"fXbins\":[],\"fFirst\":0,\"fLast\":0,\"fBits2\":0,\"fTimeDisplay\":false,\"fTimeFormat\":\"\",\"fLabels\":null,\"fModLabs\":null},\"fYaxis\":{\"_typename\":\"TAxis\",\"fUniqueID\":0,\"fBits\":50331656,\"fName\":\"yaxis\",\"fTitle\":\" rate [kHz]\",\"fNdivisions\":510,\"fAxisColor\":1,\"fLabelColor\":1,\"fLabelFont\":42,\"fLabelOffset\":0.005,\"fLabelSize\":0.035,\"fTickLength\":0.03,\"fTitleOffset\":0,\"fTitleSize\":0.035,\"fTitleColor\":1,\"fTitleFont\":42,\"fNbins\":1,\"fXmin\":0.393437244870043,\"fXmax\":34176.9803334732,\"fXbins\":[],\"fFirst\":0,\"fLast\":0,\"fBits2\":0,\"fTimeDisplay\":false,\"fTimeFormat\":\"\",\"fLabels\":null,\"fModLabs\":null},\"fZaxis\":{\"_typename\":\"TAxis\",\"fUniqueID\":0,\"fBits\":50331648,\"fName\":\"zaxis\",\"fTitle\":\"\",\"fNdivisions\":510,\"fAxisColor\":1,\"fLabelColor\":1,\"fLabelFont\":42,\"fLabelOffset\":0.005,\"fLabelSize\":0.035,\"fTickLength\":0.03,\"fTitleOffset\":1,\"fTitleSize\":0.035,\"fTitleColor\":1,\"fTitleFont\":42,\"fNbins\":1,\"fXmin\":0,\"fXmax\":1,\"fXbins\":[],\"fFirst\":0,\"fLast\":0,\"fBits2\":0,\"fTimeDisplay\":false,\"fTimeFormat\":\"\",\"fLabels\":null,\"fModLabs\":null},\"fBarOffset\":0,\"fBarWidth\":1000,\"fEntries\":0,\"fTsumw\":0,\"fTsumw2\":0,\"fTsumwx\":0,\"fTsumwx2\":0,\"fMaximum\":75000,\"fMinimum\":1,\"fNormFactor\":0,\"fContour\":[],\"fSumw2\":[],\"fOption\":\"\",\"fFunctions\":{\"_typename\":\"TList\",\"name\":\"TList\",\"arr\":[],\"opt\":[]},\"fBufferSize\":0,\"fBuffer\":[],\"fBinStatErrOpt\":0,\"fStatOverflows\":2,\"fArray\":[0,0,0,0,0,0,0,0,0,0,0,0,0,0,0,0,0,0,0,0,0,0,0,0,0,0,0,0,0,0,0,0,0,0,0,0,0,0,0,0,0,0,0,0,0,0,0,0,0,0,0,0,0,0,0,0,0,0,0,0,0,0,0,0,0,0,0,0,0,0,0,0,0,0,0,0,0,0,0,0,0,0,0,0,0,0,0,0,0,0,0,0,0,0,0,0,0,0,0,0,0,0]},\"fMinimum\":-1111,\"fMaximum\":-1111,\"fEXlow\":[0.5,0.5,0.5,0.5,0.5,0.5,0.5,0.5,0.5,0.5,0.5,0.5,0.5,0.5,0.5,0.5,0.5,0.5,0.5,0.5,0.5,0.5,0.5,0.5,0.5,0.5,0.5,0.5,0.5,0.5,0.5,0.5,0.5,0.5,0.5,0.5,0.5,0.5,0.5,0.5,0.5,0.5,0.5,0.5,0.5,0.5,0.5,0.5,0.5,0.5,0.5,0.5,0.5,0.5,0.5,0.5,0.5,0.5,0.5,0.5,0.5,0.5,0.5,0.5,0.5,0.5,0.5,0.5,0.5,0.5,0.5,0.5,0.5,0.5,0.5,0.5,0.5,0.5,0.5,0.5,0.5,0.5,0.5,0.5,0.5,0.5,0.5,0.5,0.5,0.5,0.5,0.5,0.5,0.5,0.5,0.5,0.5,0.5,0.5,0.5],\"fEXhigh\":[0.5,0.5,0.5,0.5,0.5,0.5,0.5,0.5,0.5,0.5,0.5,0.5,0.5,0.5,0.5,0.5,0.5,0.5,0.5,0.5,0.5,0.5,0.5,0.5,0.5,0.5,0.5,0.5,0.5,0.5,0.5,0.5,0.5,0.5,0.5,0.5,0.5,0.5,0.5,0.5,0.5,0.5,0.5,0.5,0.5,0.5,0.5,0.5,0.5,0.5,0.5,0.5,0.5,0.5,0.5,0.5,0.5,0.5,0.5,0.5,0.5,0.5,0.5,0.5,0.5,0.5,0.5,0.5,0.5,0.5,0.5,0.5,0.5,0.5,0.5,0.5,0.5,0.5,0.5,0.5,0.5,0.5,0.5,0.5,0.5,0.5,0.5,0.5,0.5,0.5,0.5,0.5,0.5,0.5,0.5,0.5,0.5,0.5,0.5,0.5],\"fEYlow\":[70.021862475157,70.021862475157,70.021862475157,69.82097596656,66.2073393329573,57.0719601645698,46.9997784605801,38.4840834270199,31.9904509583686,27.067183429087,23.2682838006746,20.2455157750118,17.8668494027396,15.8234422768682,14.1739349551076,12.8082952055482,11.6526725336369,10.6757275092096,9.76137750715293,8.61372883530394,7.3965639078324,6.81755228499818,6.29879122759119,5.83277302400162,5.45605956765786,5.04885286413146,4.79211203707997,4.47632778204727,4.27626204971907,3.96356006806522,3.59625843906086,3.2911643543226,3.08722377639917,2.92922466582151,2.77575404090975,2.61806788813598,2.52566480664699,2.42459694499711,2.3618812255873,2.24792235974545,2.0682530701494,1.96275450523325,1.9176276798084,1.86471739693418,1.81026131331657,1.73979591836735,1.6961120619269,1.6436808684072,1.58163265306122,1.54967718420977,1.45819325600041,1.40578585171828,1.369734057006,1.28492444154957,1.23529459159748,1.2251273850248,1.151445951876,1.0957872456048,1.02501511046247,0.974983847408359,0.935706496306572,0.89470653946053,0.806477576129471,0.741851472216971,0.741851472216971,0.741851472216971,0.741851472216971,0.724795135426689,0.724795135426689,0.707327625535648,0.707327625535648,0.671029904595397,0.652123848949732,0.652123848949732,0.612563692512398,0.612563692512398,0.612563692512398,0.612563692512398,0.612563692512398,0.612563692512398,0.59179274994894,0.5478936228024,0.524568206637844,0.524568206637844,0.500156160536836,0.500156160536836,0.474489795918367,0.474489795918367,0.447353269730265,0.41846066654593,0.387419296052441,0.387419296052441,0.387419296052441,0.387419296052441,0.387419296052441,0.353663812767824,0.353663812767824,0.353663812767824,0.353663812767824,0.353663812767824],\"fEYhigh\":[70.021862475157,70.021862475157,70.021862475157,69.82097596656,66.2073393329573,57.0719601645698,46.9997784605801,38.4840834270199,31.9904509583686,27.067183429087,23.2682838006746,20.2455157750118,17.8668494027396,15.8234422768682,14.1739349551076,12.8082952055482,11.6526725336369,10.6757275092096,9.76137750715293,8.61372883530394,7.3965639078324,6.81755228499818,6.29879122759119,5.83277302400162,5.45605956765786,5.04885286413146,4.79211203707997,4.47632778204727,4.27626204971907,3.96356006806522,3.59625843906086,3.2911643543226,3.08722377639917,2.92922466582151,2.77575404090975,2.61806788813598,2.52566480664699,2.42459694499711,2.3618812255873,2.24792235974545,2.0682530701494,1.96275450523325,1.9176276798084,1.86471739693418,1.81026131331657,1.73979591836735,1.6961120619269,1.6436808684072,1.58163265306122,1.54967718420977,1.45819325600041,1.40578585171828,1.369734057006,1.28492444154957,1.23529459159748,1.2251273850248,1.151445951876,1.0957872456048,1.02501511046247,0.974983847408359,0.935706496306572,0.89470653946053,0.806477576129471,0.741851472216971,0.741851472216971,0.741851472216971,0.741851472216971,0.724795135426689,0.724795135426689,0.707327625535648,0.707327625535648,0.671029904595397,0.652123848949732,0.652123848949732,0.612563692512398,0.612563692512398,0.612563692512398,0.612563692512398,0.612563692512398,0.612563692512398,0.59179274994894,0.5478936228024,0.524568206637844,0.524568206637844,0.500156160536836,0.500156160536836,0.474489795918367,0.474489795918367,0.447353269730265,0.41846066654593,0.387419296052441,0.387419296052441,0.387419296052441,0.387419296052441,0.387419296052441,0.353663812767824,0.353663812767824,0.353663812767824,0.353663812767824,0.353663812767824]},{\"_typename\":\"TLegend\",\"fUniqueID\":0,\"fBits\":50331656,\"fLineColor\":1,\"fLineStyle\":1,\"fLineWidth\":1,\"fFillColor\":0,\"fFillStyle\":0,\"fX1\":21.8918919963851,\"fY1\":3.29224918464479,\"fX2\":42.9729728057839,\"fY2\":3.92537402557785,\"fX1NDC\":0.4,\"fY1NDC\":0.65,\"fX2NDC\":0.66,\"fY2NDC\":0.75,\"fBorderSize\":0,\"fInit\":1,\"fShadowColor\":1,\"fCornerRadius\":0,\"fOption\":\"brNDC\",\"fName\":\"TPave\",\"fTextAngle\":0,\"fTextSize\":0.03,\"fTextAlign\":12,\"fTextColor\":1,\"fTextFont\":42,\"fPrimitives\":{\"_typename\":\"TList\",\"name\":\"TList\",\"arr\":[{\"_typename\":\"TLegendEntry\",\"fUniqueID\":0,\"fBits\":50331656,\"fTextAngle\":0,\"fTextSize\":0,\"fTextAlign\":0,\"fTextColor\":0,\"fTextFont\":42,\"fLineColor\":1,\"fLineStyle\":1,\"fLineWidth\":1,\"fFillColor\":0,\"fFillStyle\":0,\"fMarkerColor\":1,\"fMarkerStyle\":8,\"fMarkerSize\":0.5,\"fObject\":{\"$ref\":3},\"fLabel\":\"calorimeter only\",\"fOption\":\"P\"},{\"_typename\":\"TLegendEntry\",\"fUniqueID\":0,\"fBits\":50331656,\"fTextAngle\":0,\"fTextSize\":0,\"fTextAlign\":0,\"fTextColor\":0,\"fTextFont\":42,\"fLineColor\":1,\"fLineStyle\":1,\"fLineWidth\":1,\"fFillColor\":0,\"fFillStyle\":0,\"fMarkerColor\":628,\"fMarkerStyle\":21,\"fMarkerSize\":0.5,\"fObject\":{\"$ref\":10},\"fLabel\":\"track-matched\",\"fOption\":\"P\"}],\"opt\":[\"P\",\"P\"]},\"fEntrySeparation\":0.1,\"fMargin\":0.25,\"fNColumns\":1,\"fColumnSeparation\":0},{\"_typename\":\"TLatex\",\"fUniqueID\":0,\"fBits\":50348040,\"fName\":\"\",\"fTitle\":\"EG barrel, |#eta^{L1}| < 1.479\",\"fTextAngle\":0,\"fTextSize\":0.03,\"fTextAlign\":11,\"fTextColor\":1,\"fTextFont\":62,\"fX\":0.15,\"fY\":0.85,\"fLineColor\":1,\"fLineStyle\":1,\"fLineWidth\":2,\"fLimitFactorSize\":3,\"fOriginSize\":0.0299999993294477},{\"_typename\":\"TLatex\",\"fUniqueID\":0,\"fBits\":50348041,\"fName\":\"\",\"fTitle\":\"#scale[1.5]{CMS} #scale[1.]{Phase-2 Simulation}\",\"fTextAngle\":0,\"fTextSize\":0.03,\"fTextAlign\":11,\"fTextColor\":1,\"fTextFont\":62,\"fX\":0.13,\"fY\":0.91,\"fLineColor\":1,\"fLineStyle\":1,\"fLineWidth\":2,\"fLimitFactorSize\":3,\"fOriginSize\":0.0299999993294477},{\"_typename\":\"TLatex\",\"fUniqueID\":0,\"fBits\":50348041,\"fName\":\"\",\"fTitle\":\"14TeV, 200 PU\",\"fTextAngle\":0,\"fTextSize\":0.03,\"fTextAlign\":11,\"fTextColor\":1,\"fTextFont\":62,\"fX\":0.69,\"fY\":0.91,\"fLineColor\":1,\"fLineStyle\":1,\"fLineWidth\":2,\"fLimitFactorSize\":3,\"fOriginSize\":0.0299999993294477},{\"_typename\":\"TLatex\",\"fUniqueID\":0,\"fBits\":50331656,\"fName\":\"\",\"fTitle\":\"\",\"fTextAngle\":0,\"fTextSize\":0.03,\"fTextAlign\":11,\"fTextColor\":1,\"fTextFont\":62,\"fX\":0,\"fY\":0,\"fLineColor\":1,\"fLineStyle\":1,\"fLineWidth\":2,\"fLimitFactorSize\":3,\"fOriginSize\":0.04}],\"opt\":[\"\",\"pa\",\",p\",\"same\",\"same\",\"\",\"\",\"same\"]},\"fExecs\":null,\"fName\":\"c_827847\",\"fTitle\":\"c_827847\",\"fNumPaletteColor\":0,\"fNextPaletteColor\":0,\"fDISPLAY\":\"$DISPLAY\",\"fDoubleBuffer\":0,\"fRetained\":true,\"fXsizeUser\":0,\"fYsizeUser\":0,\"fXsizeReal\":20,\"fYsizeReal\":20,\"fWindowTopX\":0,\"fWindowTopY\":0,\"fWindowWidth\":0,\"fWindowHeight\":0,\"fCw\":596,\"fCh\":572,\"fCatt\":{\"_typename\":\"TAttCanvas\",\"fXBetween\":2,\"fYBetween\":2,\"fTitleFromTop\":1.2,\"fXdate\":0.2,\"fYdate\":0.3,\"fAdate\":1},\"kMoveOpaque\":true,\"kResizeOpaque\":true,\"fHighLightColor\":2,\"fBatch\":true,\"kShowEventStatus\":false,\"kAutoExec\":true,\"kMenuBar\":true});\n",
       "       Core.draw(\"root_plot_26\", obj, \"\");\n",
       "     }\n",
       " );\n",
       "</script>\n"
      ],
      "text/plain": [
       "<IPython.core.display.HTML object>"
      ]
     },
     "metadata": {},
     "output_type": "display_data"
    }
   ],
   "source": [
    "# final_haset = []\n",
    "labels_final = []\n",
    "\n",
    "hsets, labels, text = hplot.get_histo(histos.RateHistos, sample, 'PU200', ['EGBRL', 'TkEleELBRL'], 'LooseTkID', None)\n",
    "for hist in hsets:\n",
    "    hist.normalize(31000)\n",
    "\n",
    "[his.h_pt_graph('online', 'rate [kHz]', convertRateToGraph) for his in hsets]\n",
    "# final_haset.append(hsets[0])\n",
    "# final_haset.append(hsets[0])\n",
    "\n",
    "[his.g_pt_online.GetXaxis().SetLimits(0, 60) for his in hsets]\n",
    "labels_final.append('calorimeter only')\n",
    "labels_final.append('track-matched')\n",
    "\n",
    "text_forprint='EG barrel, |#eta^{L1}| < 1.479'\n",
    "draw([his.g_pt_online for his in hsets], labels_final, text=text_forprint, logy=True,\n",
    "     min_x=0., max_x=60., min_y=1., max_y=75000, x_axis_label='threshold p_{T}^{L1} [GeV]',\n",
    "     do_write=True, write_name='figs/egammaBarrel_TkEle_LooseTKID_rate'\n",
    "    )\n"
   ]
  },
  {
   "cell_type": "code",
   "execution_count": 69,
   "metadata": {},
   "outputs": [
    {
     "name": "stdout",
     "output_type": "stream",
     "text": [
      "normalize to 31000\n"
     ]
    },
    {
     "data": {
      "text/plain": [
       "<__main__.DrawMachine at 0x11168ce90>"
      ]
     },
     "execution_count": 69,
     "metadata": {},
     "output_type": "execute_result"
    },
    {
     "name": "stderr",
     "output_type": "stream",
     "text": [
      "Info in <TCanvas::Print>: pdf file figs/EgammaBarrelOnlyCaloRate.pdf has been created\n"
     ]
    },
    {
     "data": {
      "text/html": [
       "\n",
       "<div id=\"root_plot_27\"\n",
       "     style=\"width: 596px; height: 572px\">\n",
       "</div>\n",
       "\n",
       "<script>\n",
       " requirejs.config({\n",
       "     paths: {\n",
       "       'JSRootCore' : 'https://root.cern.ch/js/notebook//scripts/JSRootCore',\n",
       "     }\n",
       "   });\n",
       " require(['JSRootCore'],\n",
       "     function(Core) {\n",
       "       var obj = Core.JSONR_unref({\"_typename\":\"TCanvas\",\"fUniqueID\":0,\"fBits\":53673992,\"fLineColor\":1,\"fLineStyle\":1,\"fLineWidth\":1,\"fFillColor\":0,\"fFillStyle\":1001,\"fLeftMargin\":0.13,\"fRightMargin\":0.13,\"fBottomMargin\":0.13,\"fTopMargin\":0.1,\"fXfile\":2,\"fYfile\":2,\"fAfile\":1,\"fXstat\":0.99,\"fYstat\":0.99,\"fAstat\":2,\"fFrameFillColor\":0,\"fFrameLineColor\":1,\"fFrameFillStyle\":1001,\"fFrameLineStyle\":1,\"fFrameLineWidth\":1,\"fFrameBorderSize\":1,\"fFrameBorderMode\":0,\"fX1\":-10.5405400180747,\"fY1\":-0.82306228142011,\"fX2\":70.5405400180747,\"fY2\":5.5081861279105,\"fXtoAbsPixelk\":77.4800471580505,\"fXtoPixelk\":77.4800471580505,\"fXtoPixel\":7.35066676139832,\"fYtoAbsPixelk\":497.640051065433,\"fYtoPixelk\":497.640051065433,\"fYtoPixel\":-90.3455310894169,\"fUtoAbsPixelk\":5e-5,\"fUtoPixelk\":5e-5,\"fUtoPixel\":596,\"fVtoAbsPixelk\":572.00005,\"fVtoPixelk\":572,\"fVtoPixel\":-572,\"fAbsPixeltoXk\":-10.5405400180747,\"fPixeltoXk\":-10.5405400180747,\"fPixeltoX\":0.136042080597566,\"fAbsPixeltoYk\":5.5081861279105,\"fPixeltoYk\":-0.82306228142011,\"fPixeltoY\":-0.0110686161002283,\"fXlowNDC\":0,\"fYlowNDC\":0,\"fXUpNDC\":0,\"fYUpNDC\":0,\"fWNDC\":1,\"fHNDC\":1,\"fAbsXlowNDC\":0,\"fAbsYlowNDC\":0,\"fAbsWNDC\":1,\"fAbsHNDC\":1,\"fUxmin\":0,\"fUymin\":0,\"fUxmax\":60,\"fUymax\":4.8750612633917,\"fTheta\":30,\"fPhi\":30,\"fAspectRatio\":0,\"fNumber\":0,\"fTickx\":0,\"fTicky\":0,\"fLogx\":0,\"fLogy\":1,\"fLogz\":0,\"fPadPaint\":0,\"fCrosshair\":0,\"fCrosshairPos\":0,\"fBorderSize\":2,\"fBorderMode\":0,\"fModified\":false,\"fGridx\":true,\"fGridy\":true,\"fAbsCoord\":false,\"fEditable\":true,\"fFixedAspectRatio\":false,\"fPrimitives\":{\"_typename\":\"TList\",\"name\":\"TList\",\"arr\":[{\"_typename\":\"TFrame\",\"fUniqueID\":0,\"fBits\":50331656,\"fLineColor\":1,\"fLineStyle\":1,\"fLineWidth\":1,\"fFillColor\":0,\"fFillStyle\":1001,\"fX1\":0,\"fY1\":0,\"fX2\":60,\"fY2\":4.8750612633917,\"fBorderSize\":1,\"fBorderMode\":0},{\"_typename\":\"TGraphAsymmErrors\",\"fUniqueID\":0,\"fBits\":50332680,\"fName\":\"899498\",\"fTitle\":\";; rate [kHz]\",\"fLineColor\":1,\"fLineStyle\":1,\"fLineWidth\":1,\"fFillColor\":0,\"fFillStyle\":1001,\"fMarkerColor\":1,\"fMarkerStyle\":8,\"fMarkerSize\":0.5,\"fNpoints\":100,\"fX\":[0,1,2,3,4,5,6,7,8,9,10,11,12,13,14,15,16,17,18,19,20,21,22,23,24,25,26,27,28,29,30,31,32,33,34,35,36,37,38,39,40,41,42,43,44,45,46,47,48,49,50,51,52,53,54,55,56,57,58,59,60,61,62,63,64,65,66,67,68,69,70,71,72,73,74,75,76,77,78,79,80,81,82,83,84,85,86,87,88,89,90,91,92,93,94,95,96,97,98,99],\"fY\":[31000,31000,31000,30868.56640625,28388.8828125,22180.025390625,15886.076171875,11193.3720703125,8043.8671875,5948.2041015625,4521.4130859375,3496.35717773438,2771.49487304688,2215.23461914062,1800.68872070312,1494.32653808594,1258.34692382812,1067.76025390625,909.438781738281,717.903076171875,545.346923828125,470.377563476562,405.530609130859,353.020416259766,310.790802001953,271.882659912109,247.683670043945,218.423461914062,199.285720825195,176.352035522461,146.459182739258,124.94898223877,111.505104064941,101.540817260742,93,83.6683654785156,78.2908172607422,72.5969390869141,69.5918350219727,65.3214263916016,56.6224479675293,51.8775520324707,48.8724479675293,45.3928565979004,42.5459175109863,39.6989784240723,37.4846954345703,34.9540824890137,33.0561218261719,31.1581630706787,28.4693870544434,26.5714282989502,24.673469543457,23.0918369293213,21.5102043151855,20.4030609130859,18.9795913696289,17.3979587554932,15.8163261413574,14.2346935272217,13.2857141494751,12.3367347717285,11.2295913696289,10.2806119918823,10.2806119918823,10.2806119918823,10.1224489212036,9.9642858505249,9.64795875549316,8.85714244842529,8.54081630706787,8.06632614135742,7.90816307067871,7.75,7.43367338180542,7.43367338180542,7.43367338180542,7.27551031112671,7.11734676361084,6.95918369293213,6.48469400405884,5.5357141494751,5.37755107879639,4.9030613899231,4.74489784240723,4.74489784240723,4.58673477172852,4.58673477172852,4.27040815353394,4.11224508285522,3.95408153533936,3.79591846466064,3.63775515556335,3.63775515556335,3.63775515556335,3.47959184646606,3.47959184646606,3.47959184646606,3.32142853736877,3.16326522827148],\"fFunctions\":{\"_typename\":\"TList\",\"name\":\"TList\",\"arr\":[],\"opt\":[]},\"fHistogram\":{\"_typename\":\"TH1F\",\"fUniqueID\":0,\"fBits\":50332160,\"fName\":\"899498\",\"fTitle\":\"\",\"fLineColor\":602,\"fLineStyle\":1,\"fLineWidth\":1,\"fFillColor\":0,\"fFillStyle\":1001,\"fMarkerColor\":1,\"fMarkerStyle\":1,\"fMarkerSize\":1,\"fNcells\":102,\"fXaxis\":{\"_typename\":\"TAxis\",\"fUniqueID\":0,\"fBits\":50331656,\"fName\":\"xaxis\",\"fTitle\":\"threshold p_{T}^{L1} [GeV]\",\"fNdivisions\":510,\"fAxisColor\":1,\"fLabelColor\":1,\"fLabelFont\":42,\"fLabelOffset\":0.005,\"fLabelSize\":0.035,\"fTickLength\":0.03,\"fTitleOffset\":1.4,\"fTitleSize\":0.035,\"fTitleColor\":1,\"fTitleFont\":42,\"fNbins\":100,\"fXmin\":0,\"fXmax\":60,\"fXbins\":[],\"fFirst\":0,\"fLast\":0,\"fBits2\":0,\"fTimeDisplay\":false,\"fTimeFormat\":\"\",\"fLabels\":null,\"fModLabs\":null},\"fYaxis\":{\"_typename\":\"TAxis\",\"fUniqueID\":0,\"fBits\":50331656,\"fName\":\"yaxis\",\"fTitle\":\" rate [kHz]\",\"fNdivisions\":510,\"fAxisColor\":1,\"fLabelColor\":1,\"fLabelFont\":42,\"fLabelOffset\":0.005,\"fLabelSize\":0.035,\"fTickLength\":0.03,\"fTitleOffset\":0,\"fTitleSize\":0.035,\"fTitleColor\":1,\"fTitleFont\":42,\"fNbins\":1,\"fXmin\":1,\"fXmax\":75000,\"fXbins\":[],\"fFirst\":0,\"fLast\":0,\"fBits2\":0,\"fTimeDisplay\":false,\"fTimeFormat\":\"\",\"fLabels\":null,\"fModLabs\":null},\"fZaxis\":{\"_typename\":\"TAxis\",\"fUniqueID\":0,\"fBits\":50331648,\"fName\":\"zaxis\",\"fTitle\":\"\",\"fNdivisions\":510,\"fAxisColor\":1,\"fLabelColor\":1,\"fLabelFont\":42,\"fLabelOffset\":0.005,\"fLabelSize\":0.035,\"fTickLength\":0.03,\"fTitleOffset\":1,\"fTitleSize\":0.035,\"fTitleColor\":1,\"fTitleFont\":42,\"fNbins\":1,\"fXmin\":0,\"fXmax\":1,\"fXbins\":[],\"fFirst\":0,\"fLast\":0,\"fBits2\":0,\"fTimeDisplay\":false,\"fTimeFormat\":\"\",\"fLabels\":null,\"fModLabs\":null},\"fBarOffset\":0,\"fBarWidth\":1000,\"fEntries\":0,\"fTsumw\":0,\"fTsumw2\":0,\"fTsumwx\":0,\"fTsumwx2\":0,\"fMaximum\":75000,\"fMinimum\":1,\"fNormFactor\":0,\"fContour\":[],\"fSumw2\":[],\"fOption\":\"\",\"fFunctions\":{\"_typename\":\"TList\",\"name\":\"TList\",\"arr\":[],\"opt\":[]},\"fBufferSize\":0,\"fBuffer\":[],\"fBinStatErrOpt\":0,\"fStatOverflows\":2,\"fArray\":[0,0,0,0,0,0,0,0,0,0,0,0,0,0,0,0,0,0,0,0,0,0,0,0,0,0,0,0,0,0,0,0,0,0,0,0,0,0,0,0,0,0,0,0,0,0,0,0,0,0,0,0,0,0,0,0,0,0,0,0,0,0,0,0,0,0,0,0,0,0,0,0,0,0,0,0,0,0,0,0,0,0,0,0,0,0,0,0,0,0,0,0,0,0,0,0,0,0,0,0,0,0]},\"fMinimum\":-1111,\"fMaximum\":-1111,\"fEXlow\":[0.5,0.5,0.5,0.5,0.5,0.5,0.5,0.5,0.5,0.5,0.5,0.5,0.5,0.5,0.5,0.5,0.5,0.5,0.5,0.5,0.5,0.5,0.5,0.5,0.5,0.5,0.5,0.5,0.5,0.5,0.5,0.5,0.5,0.5,0.5,0.5,0.5,0.5,0.5,0.5,0.5,0.5,0.5,0.5,0.5,0.5,0.5,0.5,0.5,0.5,0.5,0.5,0.5,0.5,0.5,0.5,0.5,0.5,0.5,0.5,0.5,0.5,0.5,0.5,0.5,0.5,0.5,0.5,0.5,0.5,0.5,0.5,0.5,0.5,0.5,0.5,0.5,0.5,0.5,0.5,0.5,0.5,0.5,0.5,0.5,0.5,0.5,0.5,0.5,0.5,0.5,0.5,0.5,0.5,0.5,0.5,0.5,0.5,0.5,0.5],\"fEXhigh\":[0.5,0.5,0.5,0.5,0.5,0.5,0.5,0.5,0.5,0.5,0.5,0.5,0.5,0.5,0.5,0.5,0.5,0.5,0.5,0.5,0.5,0.5,0.5,0.5,0.5,0.5,0.5,0.5,0.5,0.5,0.5,0.5,0.5,0.5,0.5,0.5,0.5,0.5,0.5,0.5,0.5,0.5,0.5,0.5,0.5,0.5,0.5,0.5,0.5,0.5,0.5,0.5,0.5,0.5,0.5,0.5,0.5,0.5,0.5,0.5,0.5,0.5,0.5,0.5,0.5,0.5,0.5,0.5,0.5,0.5,0.5,0.5,0.5,0.5,0.5,0.5,0.5,0.5,0.5,0.5,0.5,0.5,0.5,0.5,0.5,0.5,0.5,0.5,0.5,0.5,0.5,0.5,0.5,0.5,0.5,0.5,0.5,0.5,0.5,0.5],\"fEYlow\":[70.021862475157,70.021862475157,70.021862475157,69.8732655993886,67.0080471197341,59.2289224894981,50.1257791658603,42.075887825668,35.6685341061437,30.6722575018244,26.74175547415,23.5158513005732,20.9367782344964,18.7181396672608,16.8761019354227,15.373599562731,14.1075958520472,12.995400741858,11.9933234064081,10.6557914927295,9.28729522312243,8.62533763954113,8.00874808033341,7.47227277839896,7.01111191875864,6.55757944582106,6.25895027611929,5.87763295365228,5.61423897783943,5.28132697519371,4.81294740505909,4.4454851938695,4.19952509661127,4.00749635958079,3.8352553596168,3.63775510204082,3.51891050663213,3.38853491762492,3.31766064217089,3.21425736948953,2.99258941725081,2.86445856410469,2.78025648351355,2.67945563637255,2.5940704258804,2.50577737270613,2.43489251973755,2.35126597534119,2.28653980172872,2.21992721569472,2.12198287660694,2.05003022092494,1.97545855051378,1.91109400602771,1.84448478306331,1.79638937469192,1.73259176353675,1.65883032108544,1.58163265306122,1.50046848161051,1.44959027085338,1.39686013702124,1.33270736208402,1.27515301121048,1.27515301121048,1.27515301121048,1.26530612244898,1.25538199963779,1.23529459159748,1.18358549989788,1.16225788815732,1.12951163920831,1.11838317432566,1.10714285714286,1.08431271741037,1.08431271741037,1.08431271741037,1.07271545651471,1.06099143830347,1.04913641327569,1.01273903755315,0.935706496306572,0.922242391531655,0.880615792080259,0.866295881768375,0.866295881768375,0.851735250108008,0.851735250108008,0.8218404342036,0.806477576129471,0.790816326530612,0.774838592104883,0.758524373585175,0.758524373585175,0.758524373585175,0.741851472216971,0.741851472216971,0.741851472216971,0.724795135426689,0.707327625535648],\"fEYhigh\":[70.021862475157,70.021862475157,70.021862475157,69.8732655993886,67.0080471197341,59.2289224894981,50.1257791658603,42.075887825668,35.6685341061437,30.6722575018244,26.74175547415,23.5158513005732,20.9367782344964,18.7181396672608,16.8761019354227,15.373599562731,14.1075958520472,12.995400741858,11.9933234064081,10.6557914927295,9.28729522312243,8.62533763954113,8.00874808033341,7.47227277839896,7.01111191875864,6.55757944582106,6.25895027611929,5.87763295365228,5.61423897783943,5.28132697519371,4.81294740505909,4.4454851938695,4.19952509661127,4.00749635958079,3.8352553596168,3.63775510204082,3.51891050663213,3.38853491762492,3.31766064217089,3.21425736948953,2.99258941725081,2.86445856410469,2.78025648351355,2.67945563637255,2.5940704258804,2.50577737270613,2.43489251973755,2.35126597534119,2.28653980172872,2.21992721569472,2.12198287660694,2.05003022092494,1.97545855051378,1.91109400602771,1.84448478306331,1.79638937469192,1.73259176353675,1.65883032108544,1.58163265306122,1.50046848161051,1.44959027085338,1.39686013702124,1.33270736208402,1.27515301121048,1.27515301121048,1.27515301121048,1.26530612244898,1.25538199963779,1.23529459159748,1.18358549989788,1.16225788815732,1.12951163920831,1.11838317432566,1.10714285714286,1.08431271741037,1.08431271741037,1.08431271741037,1.07271545651471,1.06099143830347,1.04913641327569,1.01273903755315,0.935706496306572,0.922242391531655,0.880615792080259,0.866295881768375,0.866295881768375,0.851735250108008,0.851735250108008,0.8218404342036,0.806477576129471,0.790816326530612,0.774838592104883,0.758524373585175,0.758524373585175,0.758524373585175,0.741851472216971,0.741851472216971,0.741851472216971,0.724795135426689,0.707327625535648]},{\"_typename\":\"TGraphAsymmErrors\",\"fUniqueID\":0,\"fBits\":50332680,\"fName\":\"1efc1a\",\"fTitle\":\";; rate [kHz]\",\"fLineColor\":628,\"fLineStyle\":1,\"fLineWidth\":1,\"fFillColor\":0,\"fFillStyle\":1001,\"fMarkerColor\":628,\"fMarkerStyle\":21,\"fMarkerSize\":0.5,\"fNpoints\":100,\"fX\":[0,1,2,3,4,5,6,7,8,9,10,11,12,13,14,15,16,17,18,19,20,21,22,23,24,25,26,27,28,29,30,31,32,33,34,35,36,37,38,39,40,41,42,43,44,45,46,47,48,49,50,51,52,53,54,55,56,57,58,59,60,61,62,63,64,65,66,67,68,69,70,71,72,73,74,75,76,77,78,79,80,81,82,83,84,85,86,87,88,89,90,91,92,93,94,95,96,97,98,99],\"fY\":[31000,31000,31000,30822.3828125,27714.474609375,20593.96484375,13966.44921875,9363.8984375,6470.458984375,4632.12744140625,3423.12744140625,2591.50512695312,2018.32141113281,1583.05615234375,1270.20922851562,1037.23474121094,858.510192871094,720.591857910156,602.44384765625,469.112243652344,345.903076171875,293.867340087891,250.846939086914,215.102035522461,188.214279174805,161.168365478516,145.193878173828,126.688774108887,115.617347717285,99.326530456543,81.7704086303711,68.4846954345703,60.2602043151855,54.25,48.7142868041992,43.3367347717285,40.3316345214844,37.1683654785156,35.2704086303711,31.9489803314209,27.0459175109863,24.3571434020996,23.25,21.9846935272217,20.7193870544434,19.1377544403076,18.1887760162354,17.0816326141357,15.8163261413574,15.1836738586426,13.4438772201538,12.4948978424072,11.8622446060181,10.438775062561,9.64795875549316,9.48979568481445,8.38265323638916,7.59183692932129,6.64285707473755,6.01020431518555,5.5357141494751,5.06122446060181,4.11224508285522,3.47959184646606,3.47959184646606,3.47959184646606,3.47959184646606,3.32142853736877,3.32142853736877,3.16326522827148,3.16326522827148,2.84693884849548,2.68877553939819,2.68877553939819,2.37244892120361,2.37244892120361,2.37244892120361,2.37244892120361,2.37244892120361,2.37244892120361,2.21428561210632,1.89795923233032,1.73979592323303,1.73979592323303,1.58163261413574,1.58163261413574,1.42346942424774,1.42346942424774,1.26530611515045,1.10714280605316,0.948979616165161,0.948979616165161,0.948979616165161,0.948979616165161,0.948979616165161,0.790816307067871,0.790816307067871,0.790816307067871,0.790816307067871,0.790816307067871],\"fFunctions\":{\"_typename\":\"TList\",\"name\":\"TList\",\"arr\":[],\"opt\":[]},\"fHistogram\":{\"_typename\":\"TH1F\",\"fUniqueID\":0,\"fBits\":50332160,\"fName\":\"1efc1a\",\"fTitle\":\"\",\"fLineColor\":602,\"fLineStyle\":1,\"fLineWidth\":1,\"fFillColor\":0,\"fFillStyle\":1001,\"fMarkerColor\":1,\"fMarkerStyle\":1,\"fMarkerSize\":1,\"fNcells\":102,\"fXaxis\":{\"_typename\":\"TAxis\",\"fUniqueID\":0,\"fBits\":50331656,\"fName\":\"xaxis\",\"fTitle\":\"threshold p_{T}^{L1} [GeV]\",\"fNdivisions\":510,\"fAxisColor\":1,\"fLabelColor\":1,\"fLabelFont\":42,\"fLabelOffset\":0.005,\"fLabelSize\":0.035,\"fTickLength\":0.03,\"fTitleOffset\":1.4,\"fTitleSize\":0.035,\"fTitleColor\":1,\"fTitleFont\":42,\"fNbins\":100,\"fXmin\":0,\"fXmax\":60,\"fXbins\":[],\"fFirst\":0,\"fLast\":0,\"fBits2\":0,\"fTimeDisplay\":false,\"fTimeFormat\":\"\",\"fLabels\":null,\"fModLabs\":null},\"fYaxis\":{\"_typename\":\"TAxis\",\"fUniqueID\":0,\"fBits\":50331656,\"fName\":\"yaxis\",\"fTitle\":\" rate [kHz]\",\"fNdivisions\":510,\"fAxisColor\":1,\"fLabelColor\":1,\"fLabelFont\":42,\"fLabelOffset\":0.005,\"fLabelSize\":0.035,\"fTickLength\":0.03,\"fTitleOffset\":0,\"fTitleSize\":0.035,\"fTitleColor\":1,\"fTitleFont\":42,\"fNbins\":1,\"fXmin\":0.393437244870043,\"fXmax\":34176.9803334732,\"fXbins\":[],\"fFirst\":0,\"fLast\":0,\"fBits2\":0,\"fTimeDisplay\":false,\"fTimeFormat\":\"\",\"fLabels\":null,\"fModLabs\":null},\"fZaxis\":{\"_typename\":\"TAxis\",\"fUniqueID\":0,\"fBits\":50331648,\"fName\":\"zaxis\",\"fTitle\":\"\",\"fNdivisions\":510,\"fAxisColor\":1,\"fLabelColor\":1,\"fLabelFont\":42,\"fLabelOffset\":0.005,\"fLabelSize\":0.035,\"fTickLength\":0.03,\"fTitleOffset\":1,\"fTitleSize\":0.035,\"fTitleColor\":1,\"fTitleFont\":42,\"fNbins\":1,\"fXmin\":0,\"fXmax\":1,\"fXbins\":[],\"fFirst\":0,\"fLast\":0,\"fBits2\":0,\"fTimeDisplay\":false,\"fTimeFormat\":\"\",\"fLabels\":null,\"fModLabs\":null},\"fBarOffset\":0,\"fBarWidth\":1000,\"fEntries\":0,\"fTsumw\":0,\"fTsumw2\":0,\"fTsumwx\":0,\"fTsumwx2\":0,\"fMaximum\":75000,\"fMinimum\":1,\"fNormFactor\":0,\"fContour\":[],\"fSumw2\":[],\"fOption\":\"\",\"fFunctions\":{\"_typename\":\"TList\",\"name\":\"TList\",\"arr\":[],\"opt\":[]},\"fBufferSize\":0,\"fBuffer\":[],\"fBinStatErrOpt\":0,\"fStatOverflows\":2,\"fArray\":[0,0,0,0,0,0,0,0,0,0,0,0,0,0,0,0,0,0,0,0,0,0,0,0,0,0,0,0,0,0,0,0,0,0,0,0,0,0,0,0,0,0,0,0,0,0,0,0,0,0,0,0,0,0,0,0,0,0,0,0,0,0,0,0,0,0,0,0,0,0,0,0,0,0,0,0,0,0,0,0,0,0,0,0,0,0,0,0,0,0,0,0,0,0,0,0,0,0,0,0,0,0]},\"fMinimum\":-1111,\"fMaximum\":-1111,\"fEXlow\":[0.5,0.5,0.5,0.5,0.5,0.5,0.5,0.5,0.5,0.5,0.5,0.5,0.5,0.5,0.5,0.5,0.5,0.5,0.5,0.5,0.5,0.5,0.5,0.5,0.5,0.5,0.5,0.5,0.5,0.5,0.5,0.5,0.5,0.5,0.5,0.5,0.5,0.5,0.5,0.5,0.5,0.5,0.5,0.5,0.5,0.5,0.5,0.5,0.5,0.5,0.5,0.5,0.5,0.5,0.5,0.5,0.5,0.5,0.5,0.5,0.5,0.5,0.5,0.5,0.5,0.5,0.5,0.5,0.5,0.5,0.5,0.5,0.5,0.5,0.5,0.5,0.5,0.5,0.5,0.5,0.5,0.5,0.5,0.5,0.5,0.5,0.5,0.5,0.5,0.5,0.5,0.5,0.5,0.5,0.5,0.5,0.5,0.5,0.5,0.5],\"fEXhigh\":[0.5,0.5,0.5,0.5,0.5,0.5,0.5,0.5,0.5,0.5,0.5,0.5,0.5,0.5,0.5,0.5,0.5,0.5,0.5,0.5,0.5,0.5,0.5,0.5,0.5,0.5,0.5,0.5,0.5,0.5,0.5,0.5,0.5,0.5,0.5,0.5,0.5,0.5,0.5,0.5,0.5,0.5,0.5,0.5,0.5,0.5,0.5,0.5,0.5,0.5,0.5,0.5,0.5,0.5,0.5,0.5,0.5,0.5,0.5,0.5,0.5,0.5,0.5,0.5,0.5,0.5,0.5,0.5,0.5,0.5,0.5,0.5,0.5,0.5,0.5,0.5,0.5,0.5,0.5,0.5,0.5,0.5,0.5,0.5,0.5,0.5,0.5,0.5,0.5,0.5,0.5,0.5,0.5,0.5,0.5,0.5,0.5,0.5,0.5,0.5],\"fEYlow\":[70.021862475157,70.021862475157,70.021862475157,69.82097596656,66.2073393329573,57.0719601645698,46.9997784605801,38.4840834270199,31.9904509583686,27.067183429087,23.2682838006746,20.2455157750118,17.8668494027396,15.8234422768682,14.1739349551076,12.8082952055482,11.6526725336369,10.6757275092096,9.76137750715293,8.61372883530394,7.3965639078324,6.81755228499818,6.29879122759119,5.83277302400162,5.45605956765786,5.04885286413146,4.79211203707997,4.47632778204727,4.27626204971907,3.96356006806522,3.59625843906086,3.2911643543226,3.08722377639917,2.92922466582151,2.77575404090975,2.61806788813598,2.52566480664699,2.42459694499711,2.3618812255873,2.24792235974545,2.0682530701494,1.96275450523325,1.9176276798084,1.86471739693418,1.81026131331657,1.73979591836735,1.6961120619269,1.6436808684072,1.58163265306122,1.54967718420977,1.45819325600041,1.40578585171828,1.369734057006,1.28492444154957,1.23529459159748,1.2251273850248,1.151445951876,1.0957872456048,1.02501511046247,0.974983847408359,0.935706496306572,0.89470653946053,0.806477576129471,0.741851472216971,0.741851472216971,0.741851472216971,0.741851472216971,0.724795135426689,0.724795135426689,0.707327625535648,0.707327625535648,0.671029904595397,0.652123848949732,0.652123848949732,0.612563692512398,0.612563692512398,0.612563692512398,0.612563692512398,0.612563692512398,0.612563692512398,0.59179274994894,0.5478936228024,0.524568206637844,0.524568206637844,0.500156160536836,0.500156160536836,0.474489795918367,0.474489795918367,0.447353269730265,0.41846066654593,0.387419296052441,0.387419296052441,0.387419296052441,0.387419296052441,0.387419296052441,0.353663812767824,0.353663812767824,0.353663812767824,0.353663812767824,0.353663812767824],\"fEYhigh\":[70.021862475157,70.021862475157,70.021862475157,69.82097596656,66.2073393329573,57.0719601645698,46.9997784605801,38.4840834270199,31.9904509583686,27.067183429087,23.2682838006746,20.2455157750118,17.8668494027396,15.8234422768682,14.1739349551076,12.8082952055482,11.6526725336369,10.6757275092096,9.76137750715293,8.61372883530394,7.3965639078324,6.81755228499818,6.29879122759119,5.83277302400162,5.45605956765786,5.04885286413146,4.79211203707997,4.47632778204727,4.27626204971907,3.96356006806522,3.59625843906086,3.2911643543226,3.08722377639917,2.92922466582151,2.77575404090975,2.61806788813598,2.52566480664699,2.42459694499711,2.3618812255873,2.24792235974545,2.0682530701494,1.96275450523325,1.9176276798084,1.86471739693418,1.81026131331657,1.73979591836735,1.6961120619269,1.6436808684072,1.58163265306122,1.54967718420977,1.45819325600041,1.40578585171828,1.369734057006,1.28492444154957,1.23529459159748,1.2251273850248,1.151445951876,1.0957872456048,1.02501511046247,0.974983847408359,0.935706496306572,0.89470653946053,0.806477576129471,0.741851472216971,0.741851472216971,0.741851472216971,0.741851472216971,0.724795135426689,0.724795135426689,0.707327625535648,0.707327625535648,0.671029904595397,0.652123848949732,0.652123848949732,0.612563692512398,0.612563692512398,0.612563692512398,0.612563692512398,0.612563692512398,0.612563692512398,0.59179274994894,0.5478936228024,0.524568206637844,0.524568206637844,0.500156160536836,0.500156160536836,0.474489795918367,0.474489795918367,0.447353269730265,0.41846066654593,0.387419296052441,0.387419296052441,0.387419296052441,0.387419296052441,0.387419296052441,0.353663812767824,0.353663812767824,0.353663812767824,0.353663812767824,0.353663812767824]},{\"_typename\":\"TLegend\",\"fUniqueID\":0,\"fBits\":50331656,\"fLineColor\":1,\"fLineStyle\":1,\"fLineWidth\":1,\"fFillColor\":0,\"fFillStyle\":0,\"fX1\":21.8918919963851,\"fY1\":3.29224918464479,\"fX2\":42.9729728057839,\"fY2\":3.92537402557785,\"fX1NDC\":0.4,\"fY1NDC\":0.65,\"fX2NDC\":0.66,\"fY2NDC\":0.75,\"fBorderSize\":0,\"fInit\":1,\"fShadowColor\":1,\"fCornerRadius\":0,\"fOption\":\"brNDC\",\"fName\":\"TPave\",\"fTextAngle\":0,\"fTextSize\":0.03,\"fTextAlign\":12,\"fTextColor\":1,\"fTextFont\":42,\"fPrimitives\":{\"_typename\":\"TList\",\"name\":\"TList\",\"arr\":[{\"_typename\":\"TLegendEntry\",\"fUniqueID\":0,\"fBits\":50331656,\"fTextAngle\":0,\"fTextSize\":0,\"fTextAlign\":0,\"fTextColor\":0,\"fTextFont\":42,\"fLineColor\":1,\"fLineStyle\":1,\"fLineWidth\":1,\"fFillColor\":0,\"fFillStyle\":0,\"fMarkerColor\":1,\"fMarkerStyle\":8,\"fMarkerSize\":0.5,\"fObject\":{\"$ref\":3},\"fLabel\":\"w\\/o EG ID\",\"fOption\":\"P\"},{\"_typename\":\"TLegendEntry\",\"fUniqueID\":0,\"fBits\":50331656,\"fTextAngle\":0,\"fTextSize\":0,\"fTextAlign\":0,\"fTextColor\":0,\"fTextFont\":42,\"fLineColor\":1,\"fLineStyle\":1,\"fLineWidth\":1,\"fFillColor\":0,\"fFillStyle\":0,\"fMarkerColor\":628,\"fMarkerStyle\":21,\"fMarkerSize\":0.5,\"fObject\":{\"$ref\":10},\"fLabel\":\"w EG ID\",\"fOption\":\"P\"}],\"opt\":[\"P\",\"P\"]},\"fEntrySeparation\":0.1,\"fMargin\":0.25,\"fNColumns\":1,\"fColumnSeparation\":0},{\"_typename\":\"TLatex\",\"fUniqueID\":0,\"fBits\":50348040,\"fName\":\"\",\"fTitle\":\"EG barrel, |#eta^{L1}| < 1.479\",\"fTextAngle\":0,\"fTextSize\":0.03,\"fTextAlign\":11,\"fTextColor\":1,\"fTextFont\":62,\"fX\":0.15,\"fY\":0.85,\"fLineColor\":1,\"fLineStyle\":1,\"fLineWidth\":2,\"fLimitFactorSize\":3,\"fOriginSize\":0.0299999993294477},{\"_typename\":\"TLatex\",\"fUniqueID\":0,\"fBits\":50348041,\"fName\":\"\",\"fTitle\":\"#scale[1.5]{CMS} #scale[1.]{Phase-2 Simulation}\",\"fTextAngle\":0,\"fTextSize\":0.03,\"fTextAlign\":11,\"fTextColor\":1,\"fTextFont\":62,\"fX\":0.13,\"fY\":0.91,\"fLineColor\":1,\"fLineStyle\":1,\"fLineWidth\":2,\"fLimitFactorSize\":3,\"fOriginSize\":0.0299999993294477},{\"_typename\":\"TLatex\",\"fUniqueID\":0,\"fBits\":50348041,\"fName\":\"\",\"fTitle\":\"14TeV, 200 PU\",\"fTextAngle\":0,\"fTextSize\":0.03,\"fTextAlign\":11,\"fTextColor\":1,\"fTextFont\":62,\"fX\":0.69,\"fY\":0.91,\"fLineColor\":1,\"fLineStyle\":1,\"fLineWidth\":2,\"fLimitFactorSize\":3,\"fOriginSize\":0.0299999993294477},{\"_typename\":\"TLatex\",\"fUniqueID\":0,\"fBits\":50331656,\"fName\":\"\",\"fTitle\":\"\",\"fTextAngle\":0,\"fTextSize\":0.03,\"fTextAlign\":11,\"fTextColor\":1,\"fTextFont\":62,\"fX\":0,\"fY\":0,\"fLineColor\":1,\"fLineStyle\":1,\"fLineWidth\":2,\"fLimitFactorSize\":3,\"fOriginSize\":0.04}],\"opt\":[\"\",\"pa\",\",p\",\"same\",\"same\",\"\",\"\",\"same\"]},\"fExecs\":null,\"fName\":\"c_88ab2e\",\"fTitle\":\"c_88ab2e\",\"fNumPaletteColor\":0,\"fNextPaletteColor\":0,\"fDISPLAY\":\"$DISPLAY\",\"fDoubleBuffer\":0,\"fRetained\":true,\"fXsizeUser\":0,\"fYsizeUser\":0,\"fXsizeReal\":20,\"fYsizeReal\":20,\"fWindowTopX\":0,\"fWindowTopY\":0,\"fWindowWidth\":0,\"fWindowHeight\":0,\"fCw\":596,\"fCh\":572,\"fCatt\":{\"_typename\":\"TAttCanvas\",\"fXBetween\":2,\"fYBetween\":2,\"fTitleFromTop\":1.2,\"fXdate\":0.2,\"fYdate\":0.3,\"fAdate\":1},\"kMoveOpaque\":true,\"kResizeOpaque\":true,\"fHighLightColor\":2,\"fBatch\":true,\"kShowEventStatus\":false,\"kAutoExec\":true,\"kMenuBar\":true});\n",
       "       Core.draw(\"root_plot_27\", obj, \"\");\n",
       "     }\n",
       " );\n",
       "</script>\n"
      ],
      "text/plain": [
       "<IPython.core.display.HTML object>"
      ]
     },
     "metadata": {},
     "output_type": "display_data"
    }
   ],
   "source": [
    "labels_final = []\n",
    "hsets, labels, text = hplot.get_histo(histos.RateHistos, sample, 'PU200', ['EGBRL'], ['all', 'LooseTkID'], None)\n",
    "for hist in hsets:\n",
    "    hist.normalize(31000)\n",
    "\n",
    "[his.h_pt_graph('online', 'rate [kHz]', convertRateToGraph) for his in hsets]\n",
    "# final_haset.append(hsets[0])\n",
    "# final_haset.append(hsets[0])\n",
    "\n",
    "[his.g_pt_online.GetXaxis().SetLimits(0, 60) for his in hsets]\n",
    "labels_final.append('w/o EG ID')\n",
    "labels_final.append('w EG ID')\n",
    "\n",
    "text_forprint='EG barrel, |#eta^{L1}| < 1.479'\n",
    "draw([his.g_pt_online for his in hsets], labels_final, text=text_forprint, logy=True,\n",
    "     min_x=0., max_x=60., min_y=1., max_y=75000, x_axis_label='threshold p_{T}^{L1} [GeV]',\n",
    "     do_write=True, write_name='figs/EgammaBarrelOnlyCaloRate'\n",
    "    )\n"
   ]
  },
  {
   "cell_type": "code",
   "execution_count": 70,
   "metadata": {},
   "outputs": [
    {
     "data": {
      "text/plain": [
       "<__main__.DrawMachine at 0x10dd07a10>"
      ]
     },
     "execution_count": 70,
     "metadata": {},
     "output_type": "execute_result"
    },
    {
     "name": "stderr",
     "output_type": "stream",
     "text": [
      "Info in <TCanvas::Print>: pdf file egamma_TkEle_barrel_rate.pdf has been created\n"
     ]
    },
    {
     "data": {
      "text/html": [
       "\n",
       "<div id=\"root_plot_28\"\n",
       "     style=\"width: 596px; height: 572px\">\n",
       "</div>\n",
       "\n",
       "<script>\n",
       " requirejs.config({\n",
       "     paths: {\n",
       "       'JSRootCore' : 'https://root.cern.ch/js/notebook//scripts/JSRootCore',\n",
       "     }\n",
       "   });\n",
       " require(['JSRootCore'],\n",
       "     function(Core) {\n",
       "       var obj = Core.JSONR_unref({\"_typename\":\"TCanvas\",\"fUniqueID\":0,\"fBits\":53673992,\"fLineColor\":1,\"fLineStyle\":1,\"fLineWidth\":1,\"fFillColor\":0,\"fFillStyle\":1001,\"fLeftMargin\":0.13,\"fRightMargin\":0.13,\"fBottomMargin\":0.13,\"fTopMargin\":0.1,\"fXfile\":2,\"fYfile\":2,\"fAfile\":1,\"fXstat\":0.99,\"fYstat\":0.99,\"fAstat\":2,\"fFrameFillColor\":0,\"fFrameLineColor\":1,\"fFrameFillStyle\":1001,\"fFrameLineStyle\":1,\"fFrameLineWidth\":1,\"fFrameBorderSize\":1,\"fFrameBorderMode\":0,\"fX1\":-10.5405400180747,\"fY1\":-0.82306228142011,\"fX2\":70.5405400180747,\"fY2\":5.5081861279105,\"fXtoAbsPixelk\":77.4800471580505,\"fXtoPixelk\":77.4800471580505,\"fXtoPixel\":7.35066676139832,\"fYtoAbsPixelk\":497.640051065433,\"fYtoPixelk\":497.640051065433,\"fYtoPixel\":-90.3455310894169,\"fUtoAbsPixelk\":5e-5,\"fUtoPixelk\":5e-5,\"fUtoPixel\":596,\"fVtoAbsPixelk\":572.00005,\"fVtoPixelk\":572,\"fVtoPixel\":-572,\"fAbsPixeltoXk\":-10.5405400180747,\"fPixeltoXk\":-10.5405400180747,\"fPixeltoX\":0.136042080597566,\"fAbsPixeltoYk\":5.5081861279105,\"fPixeltoYk\":-0.82306228142011,\"fPixeltoY\":-0.0110686161002283,\"fXlowNDC\":0,\"fYlowNDC\":0,\"fXUpNDC\":0,\"fYUpNDC\":0,\"fWNDC\":1,\"fHNDC\":1,\"fAbsXlowNDC\":0,\"fAbsYlowNDC\":0,\"fAbsWNDC\":1,\"fAbsHNDC\":1,\"fUxmin\":0,\"fUymin\":0,\"fUxmax\":60,\"fUymax\":4.8750612633917,\"fTheta\":30,\"fPhi\":30,\"fAspectRatio\":0,\"fNumber\":0,\"fTickx\":0,\"fTicky\":0,\"fLogx\":0,\"fLogy\":1,\"fLogz\":0,\"fPadPaint\":0,\"fCrosshair\":0,\"fCrosshairPos\":0,\"fBorderSize\":2,\"fBorderMode\":0,\"fModified\":false,\"fGridx\":true,\"fGridy\":true,\"fAbsCoord\":false,\"fEditable\":true,\"fFixedAspectRatio\":false,\"fPrimitives\":{\"_typename\":\"TList\",\"name\":\"TList\",\"arr\":[{\"_typename\":\"TFrame\",\"fUniqueID\":0,\"fBits\":50331656,\"fLineColor\":1,\"fLineStyle\":1,\"fLineWidth\":1,\"fFillColor\":0,\"fFillStyle\":1001,\"fX1\":0,\"fY1\":0,\"fX2\":60,\"fY2\":4.8750612633917,\"fBorderSize\":1,\"fBorderMode\":0},{\"_typename\":\"TGraphAsymmErrors\",\"fUniqueID\":0,\"fBits\":50332680,\"fName\":\"ccd44d\",\"fTitle\":\";; rate [kHz]\",\"fLineColor\":1,\"fLineStyle\":1,\"fLineWidth\":1,\"fFillColor\":0,\"fFillStyle\":1001,\"fMarkerColor\":1,\"fMarkerStyle\":8,\"fMarkerSize\":0.5,\"fNpoints\":100,\"fX\":[0,1,2,3,4,5,6,7,8,9,10,11,12,13,14,15,16,17,18,19,20,21,22,23,24,25,26,27,28,29,30,31,32,33,34,35,36,37,38,39,40,41,42,43,44,45,46,47,48,49,50,51,52,53,54,55,56,57,58,59,60,61,62,63,64,65,66,67,68,69,70,71,72,73,74,75,76,77,78,79,80,81,82,83,84,85,86,87,88,89,90,91,92,93,94,95,96,97,98,99],\"fY\":[4307.89306640625,4307.89306640625,3748.31127929688,3062.83154296875,2500.71948242188,2042.3623046875,1658.81628417969,1354.98474121094,1117.10717773438,923.831604003906,775.790832519531,640.877563476562,536.64794921875,446.969390869141,380.224487304688,324.551025390625,285.010192871094,246.418365478516,219.530609130859,184.892852783203,148.040817260742,133.01530456543,119.255104064941,108.658164978027,99.8010177612305,91.2602005004883,85.25,76.2346954345703,70.2244873046875,64.2142868041992,55.5153045654297,48.2397956848145,45.076530456543,42.3877563476562,39.8571434020996,36.3775520324707,34.3214302062988,32.1071434020996,31.1581630706787,30.3673477172852,26.4132652282715,25.1479587554932,24.0408172607422,22.3010196685791,20.4030609130859,18.9795913696289,17.8724498748779,16.6071434020996,15.8163261413574,14.5510206222534,13.7602043151855,13.2857141494751,12.1785717010498,11.8622446060181,11.2295913696289,10.9132652282715,10.2806119918823,9.64795875549316,9.01530647277832,8.22449016571045,7.75,7.43367338180542,7.11734676361084,6.64285707473755,6.64285707473755,6.64285707473755,6.48469400405884,6.48469400405884,6.16836738586426,5.69387769699097,5.5357141494751,5.06122446060181,5.06122446060181,4.9030613899231,4.9030613899231,4.9030613899231,4.9030613899231,4.9030613899231,4.74489784240723,4.74489784240723,4.42857122421265,4.11224508285522,3.95408153533936,3.47959184646606,3.47959184646606,3.47959184646606,3.47959184646606,3.47959184646606,3.32142853736877,3.32142853736877,3.16326522827148,3.00510215759277,2.84693884849548,2.84693884849548,2.84693884849548,2.68877553939819,2.68877553939819,2.68877553939819,2.5306122303009,2.37244892120361],\"fFunctions\":{\"_typename\":\"TList\",\"name\":\"TList\",\"arr\":[],\"opt\":[]},\"fHistogram\":{\"_typename\":\"TH1F\",\"fUniqueID\":0,\"fBits\":50332160,\"fName\":\"ccd44d\",\"fTitle\":\"\",\"fLineColor\":602,\"fLineStyle\":1,\"fLineWidth\":1,\"fFillColor\":0,\"fFillStyle\":1001,\"fMarkerColor\":1,\"fMarkerStyle\":1,\"fMarkerSize\":1,\"fNcells\":102,\"fXaxis\":{\"_typename\":\"TAxis\",\"fUniqueID\":0,\"fBits\":50331656,\"fName\":\"xaxis\",\"fTitle\":\"threshold p_{T}^{L1}[GeV]\",\"fNdivisions\":510,\"fAxisColor\":1,\"fLabelColor\":1,\"fLabelFont\":42,\"fLabelOffset\":0.005,\"fLabelSize\":0.035,\"fTickLength\":0.03,\"fTitleOffset\":1.4,\"fTitleSize\":0.035,\"fTitleColor\":1,\"fTitleFont\":42,\"fNbins\":100,\"fXmin\":0,\"fXmax\":60,\"fXbins\":[],\"fFirst\":0,\"fLast\":0,\"fBits2\":0,\"fTimeDisplay\":false,\"fTimeFormat\":\"\",\"fLabels\":null,\"fModLabs\":null},\"fYaxis\":{\"_typename\":\"TAxis\",\"fUniqueID\":0,\"fBits\":50331656,\"fName\":\"yaxis\",\"fTitle\":\" rate [kHz]\",\"fNdivisions\":510,\"fAxisColor\":1,\"fLabelColor\":1,\"fLabelFont\":42,\"fLabelOffset\":0.005,\"fLabelSize\":0.035,\"fTickLength\":0.03,\"fTitleOffset\":0,\"fTitleSize\":0.035,\"fTitleColor\":1,\"fTitleFont\":42,\"fNbins\":1,\"fXmin\":1,\"fXmax\":75000,\"fXbins\":[],\"fFirst\":0,\"fLast\":0,\"fBits2\":0,\"fTimeDisplay\":false,\"fTimeFormat\":\"\",\"fLabels\":null,\"fModLabs\":null},\"fZaxis\":{\"_typename\":\"TAxis\",\"fUniqueID\":0,\"fBits\":50331648,\"fName\":\"zaxis\",\"fTitle\":\"\",\"fNdivisions\":510,\"fAxisColor\":1,\"fLabelColor\":1,\"fLabelFont\":42,\"fLabelOffset\":0.005,\"fLabelSize\":0.035,\"fTickLength\":0.03,\"fTitleOffset\":1,\"fTitleSize\":0.035,\"fTitleColor\":1,\"fTitleFont\":42,\"fNbins\":1,\"fXmin\":0,\"fXmax\":1,\"fXbins\":[],\"fFirst\":0,\"fLast\":0,\"fBits2\":0,\"fTimeDisplay\":false,\"fTimeFormat\":\"\",\"fLabels\":null,\"fModLabs\":null},\"fBarOffset\":0,\"fBarWidth\":1000,\"fEntries\":0,\"fTsumw\":0,\"fTsumw2\":0,\"fTsumwx\":0,\"fTsumwx2\":0,\"fMaximum\":75000,\"fMinimum\":1,\"fNormFactor\":0,\"fContour\":[],\"fSumw2\":[],\"fOption\":\"\",\"fFunctions\":{\"_typename\":\"TList\",\"name\":\"TList\",\"arr\":[],\"opt\":[]},\"fBufferSize\":0,\"fBuffer\":[],\"fBinStatErrOpt\":0,\"fStatOverflows\":2,\"fArray\":[0,0,0,0,0,0,0,0,0,0,0,0,0,0,0,0,0,0,0,0,0,0,0,0,0,0,0,0,0,0,0,0,0,0,0,0,0,0,0,0,0,0,0,0,0,0,0,0,0,0,0,0,0,0,0,0,0,0,0,0,0,0,0,0,0,0,0,0,0,0,0,0,0,0,0,0,0,0,0,0,0,0,0,0,0,0,0,0,0,0,0,0,0,0,0,0,0,0,0,0,0,0]},\"fMinimum\":-1111,\"fMaximum\":-1111,\"fEXlow\":[0.5,0.5,0.5,0.5,0.5,0.5,0.5,0.5,0.5,0.5,0.5,0.5,0.5,0.5,0.5,0.5,0.5,0.5,0.5,0.5,0.5,0.5,0.5,0.5,0.5,0.5,0.5,0.5,0.5,0.5,0.5,0.5,0.5,0.5,0.5,0.5,0.5,0.5,0.5,0.5,0.5,0.5,0.5,0.5,0.5,0.5,0.5,0.5,0.5,0.5,0.5,0.5,0.5,0.5,0.5,0.5,0.5,0.5,0.5,0.5,0.5,0.5,0.5,0.5,0.5,0.5,0.5,0.5,0.5,0.5,0.5,0.5,0.5,0.5,0.5,0.5,0.5,0.5,0.5,0.5,0.5,0.5,0.5,0.5,0.5,0.5,0.5,0.5,0.5,0.5,0.5,0.5,0.5,0.5,0.5,0.5,0.5,0.5,0.5,0.5],\"fEXhigh\":[0.5,0.5,0.5,0.5,0.5,0.5,0.5,0.5,0.5,0.5,0.5,0.5,0.5,0.5,0.5,0.5,0.5,0.5,0.5,0.5,0.5,0.5,0.5,0.5,0.5,0.5,0.5,0.5,0.5,0.5,0.5,0.5,0.5,0.5,0.5,0.5,0.5,0.5,0.5,0.5,0.5,0.5,0.5,0.5,0.5,0.5,0.5,0.5,0.5,0.5,0.5,0.5,0.5,0.5,0.5,0.5,0.5,0.5,0.5,0.5,0.5,0.5,0.5,0.5,0.5,0.5,0.5,0.5,0.5,0.5,0.5,0.5,0.5,0.5,0.5,0.5,0.5,0.5,0.5,0.5,0.5,0.5,0.5,0.5,0.5,0.5,0.5,0.5,0.5,0.5,0.5,0.5,0.5,0.5,0.5,0.5,0.5,0.5,0.5,0.5],\"fEYlow\":[26.1026895333534,26.1026895333534,24.3484115015517,22.0097126765274,19.8877335053966,17.9729430420008,16.1976481856839,14.6392897240095,13.2923027881206,12.08785454965,11.0770758192181,10.067933558123,9.21292535215371,8.4079806053074,7.75484022114427,7.16463880081816,6.71402595490331,6.24294270444599,5.89251037057257,5.40770358077185,4.83886545677683,4.58673469387755,4.34301466071557,4.14556750086241,3.97301589081117,3.7992120064632,3.67197744646491,3.47239515511788,3.33270679937179,3.18690149014238,2.96318782577067,2.76220267904981,2.67010323214366,2.58924424416373,2.51076399927558,2.39866468128161,2.32989038644053,2.25347965465319,2.21992721569472,2.1915744912096,2.04391983409654,1.99436289081874,1.94996769481672,1.87808471784783,1.79638937469192,1.73259176353675,1.68129857242232,1.62069119257524,1.58163265306122,1.51704874717035,1.47524872778446,1.44959027085338,1.38787702045488,1.369734057006,1.33270736208402,1.31380275382888,1.27515301121048,1.23529459159748,1.19410646680303,1.14053152591208,1.10714285714286,1.08431271741037,1.06099143830347,1.02501511046247,1.02501511046247,1.02501511046247,1.01273903755315,1.01273903755315,0.98772927525689,0.948979591836735,0.935706496306572,0.89470653946053,0.89470653946053,0.880615792080259,0.880615792080259,0.880615792080259,0.880615792080259,0.880615792080259,0.866295881768375,0.866295881768375,0.83692133309186,0.806477576129471,0.790816326530612,0.741851472216971,0.741851472216971,0.741851472216971,0.741851472216971,0.741851472216971,0.724795135426689,0.724795135426689,0.707327625535648,0.6894176900498,0.671029904595397,0.671029904595397,0.671029904595397,0.652123848949732,0.652123848949732,0.652123848949732,0.63265306122449,0.612563692512398],\"fEYhigh\":[26.1026895333534,26.1026895333534,24.3484115015517,22.0097126765274,19.8877335053966,17.9729430420008,16.1976481856839,14.6392897240095,13.2923027881206,12.08785454965,11.0770758192181,10.067933558123,9.21292535215371,8.4079806053074,7.75484022114427,7.16463880081816,6.71402595490331,6.24294270444599,5.89251037057257,5.40770358077185,4.83886545677683,4.58673469387755,4.34301466071557,4.14556750086241,3.97301589081117,3.7992120064632,3.67197744646491,3.47239515511788,3.33270679937179,3.18690149014238,2.96318782577067,2.76220267904981,2.67010323214366,2.58924424416373,2.51076399927558,2.39866468128161,2.32989038644053,2.25347965465319,2.21992721569472,2.1915744912096,2.04391983409654,1.99436289081874,1.94996769481672,1.87808471784783,1.79638937469192,1.73259176353675,1.68129857242232,1.62069119257524,1.58163265306122,1.51704874717035,1.47524872778446,1.44959027085338,1.38787702045488,1.369734057006,1.33270736208402,1.31380275382888,1.27515301121048,1.23529459159748,1.19410646680303,1.14053152591208,1.10714285714286,1.08431271741037,1.06099143830347,1.02501511046247,1.02501511046247,1.02501511046247,1.01273903755315,1.01273903755315,0.98772927525689,0.948979591836735,0.935706496306572,0.89470653946053,0.89470653946053,0.880615792080259,0.880615792080259,0.880615792080259,0.880615792080259,0.880615792080259,0.866295881768375,0.866295881768375,0.83692133309186,0.806477576129471,0.790816326530612,0.741851472216971,0.741851472216971,0.741851472216971,0.741851472216971,0.741851472216971,0.724795135426689,0.724795135426689,0.707327625535648,0.6894176900498,0.671029904595397,0.671029904595397,0.671029904595397,0.652123848949732,0.652123848949732,0.652123848949732,0.63265306122449,0.612563692512398]},{\"_typename\":\"TLatex\",\"fUniqueID\":0,\"fBits\":50348040,\"fName\":\"\",\"fTitle\":\"<PU> = 200, |#eta^{L1}| #leq 1.47\",\"fTextAngle\":0,\"fTextSize\":0.03,\"fTextAlign\":11,\"fTextColor\":1,\"fTextFont\":62,\"fX\":0.15,\"fY\":0.85,\"fLineColor\":1,\"fLineStyle\":1,\"fLineWidth\":2,\"fLimitFactorSize\":3,\"fOriginSize\":0.0299999993294477},{\"_typename\":\"TLatex\",\"fUniqueID\":0,\"fBits\":50348041,\"fName\":\"\",\"fTitle\":\"#scale[1.5]{CMS} #scale[1.]{Phase-2 Simulation}\",\"fTextAngle\":0,\"fTextSize\":0.03,\"fTextAlign\":11,\"fTextColor\":1,\"fTextFont\":62,\"fX\":0.13,\"fY\":0.91,\"fLineColor\":1,\"fLineStyle\":1,\"fLineWidth\":2,\"fLimitFactorSize\":3,\"fOriginSize\":0.0299999993294477},{\"_typename\":\"TLatex\",\"fUniqueID\":0,\"fBits\":50348041,\"fName\":\"\",\"fTitle\":\"14TeV, 200 PU\",\"fTextAngle\":0,\"fTextSize\":0.03,\"fTextAlign\":11,\"fTextColor\":1,\"fTextFont\":62,\"fX\":0.69,\"fY\":0.91,\"fLineColor\":1,\"fLineStyle\":1,\"fLineWidth\":2,\"fLimitFactorSize\":3,\"fOriginSize\":0.0299999993294477},{\"_typename\":\"TLatex\",\"fUniqueID\":0,\"fBits\":50331656,\"fName\":\"\",\"fTitle\":\"\",\"fTextAngle\":0,\"fTextSize\":0.03,\"fTextAlign\":11,\"fTextColor\":1,\"fTextFont\":62,\"fX\":0,\"fY\":0,\"fLineColor\":1,\"fLineStyle\":1,\"fLineWidth\":2,\"fLimitFactorSize\":3,\"fOriginSize\":0.04}],\"opt\":[\"\",\"pa\",\"same\",\"\",\"\",\"same\"]},\"fExecs\":null,\"fName\":\"c_39acb9\",\"fTitle\":\"c_39acb9\",\"fNumPaletteColor\":0,\"fNextPaletteColor\":0,\"fDISPLAY\":\"$DISPLAY\",\"fDoubleBuffer\":0,\"fRetained\":true,\"fXsizeUser\":0,\"fYsizeUser\":0,\"fXsizeReal\":20,\"fYsizeReal\":20,\"fWindowTopX\":0,\"fWindowTopY\":0,\"fWindowWidth\":0,\"fWindowHeight\":0,\"fCw\":596,\"fCh\":572,\"fCatt\":{\"_typename\":\"TAttCanvas\",\"fXBetween\":2,\"fYBetween\":2,\"fTitleFromTop\":1.2,\"fXdate\":0.2,\"fYdate\":0.3,\"fAdate\":1},\"kMoveOpaque\":true,\"kResizeOpaque\":true,\"fHighLightColor\":2,\"fBatch\":true,\"kShowEventStatus\":false,\"kAutoExec\":true,\"kMenuBar\":true});\n",
       "       Core.draw(\"root_plot_28\", obj, \"\");\n",
       "     }\n",
       " );\n",
       "</script>\n"
      ],
      "text/plain": [
       "<IPython.core.display.HTML object>"
      ]
     },
     "metadata": {},
     "output_type": "display_data"
    }
   ],
   "source": [
    "# final_haset = []\n",
    "labels_final = []\n",
    "\n",
    "hsets, labels, text = hplot.get_histo(histos.RateHistos, sample, 'PU200', ['TkEleELBRL'], ['EtaF'], None)\n",
    "for hist in hsets:\n",
    "    hist.normalize(31000)\n",
    "\n",
    "[his.h_pt_graph('online', 'rate [kHz]', convertRateToGraph) for his in hsets]\n",
    "# final_haset.append(hsets[0])\n",
    "# final_haset.append(hsets[0])\n",
    "\n",
    "[his.g_pt_online.GetXaxis().SetLimits(0, 60) for his in hsets]\n",
    "# labels_final.append('calo only')\n",
    "labels_final.append('track-matched')\n",
    "\n",
    "text_forprint='<PU> = 200, |#eta^{L1}| #leq 1.47'\n",
    "draw([his.g_pt_online for his in hsets], labels, text=text_forprint, logy=True,\n",
    "     min_x=0., max_x=60., min_y=1., max_y=75000, x_axis_label='threshold p_{T}^{L1}[GeV]',\n",
    "     do_write=True, write_name='egamma_TkEle_barrel_rate'\n",
    "    )\n"
   ]
  },
  {
   "cell_type": "code",
   "execution_count": 71,
   "metadata": {},
   "outputs": [
    {
     "name": "stdout",
     "output_type": "stream",
     "text": [
      "No match found for: pu: PU200, tp: ['HMvDR'], tp_sel: EtaBC, gen_sel: None, classtype: python.l1THistos.RateHistos\n"
     ]
    },
    {
     "ename": "TypeError",
     "evalue": "'NoneType' object is not iterable",
     "output_type": "error",
     "traceback": [
      "\u001b[0;31m\u001b[0m",
      "\u001b[0;31mTypeError\u001b[0mTraceback (most recent call last)",
      "\u001b[0;32m<ipython-input-71-769d9e6293f2>\u001b[0m in \u001b[0;36m<module>\u001b[0;34m()\u001b[0m\n\u001b[1;32m      2\u001b[0m \u001b[0mlabels_final\u001b[0m \u001b[0;34m=\u001b[0m \u001b[0;34m[\u001b[0m\u001b[0;34m]\u001b[0m\u001b[0;34m\u001b[0m\u001b[0m\n\u001b[1;32m      3\u001b[0m \u001b[0mhsets\u001b[0m\u001b[0;34m,\u001b[0m \u001b[0mlabels\u001b[0m\u001b[0;34m,\u001b[0m \u001b[0mtext\u001b[0m \u001b[0;34m=\u001b[0m \u001b[0mhplot\u001b[0m\u001b[0;34m.\u001b[0m\u001b[0mget_histo\u001b[0m\u001b[0;34m(\u001b[0m\u001b[0mhistos\u001b[0m\u001b[0;34m.\u001b[0m\u001b[0mRateHistos\u001b[0m\u001b[0;34m,\u001b[0m \u001b[0;34m'old-ID'\u001b[0m\u001b[0;34m,\u001b[0m \u001b[0;34m'PU200'\u001b[0m\u001b[0;34m,\u001b[0m \u001b[0;34m[\u001b[0m\u001b[0;34m'HMvDR'\u001b[0m\u001b[0;34m]\u001b[0m\u001b[0;34m,\u001b[0m \u001b[0;34m'EtaBC'\u001b[0m\u001b[0;34m,\u001b[0m \u001b[0mNone\u001b[0m\u001b[0;34m)\u001b[0m\u001b[0;34m\u001b[0m\u001b[0m\n\u001b[0;32m----> 4\u001b[0;31m \u001b[0;32mfor\u001b[0m \u001b[0mhist\u001b[0m \u001b[0;32min\u001b[0m \u001b[0mhsets\u001b[0m\u001b[0;34m:\u001b[0m\u001b[0;34m\u001b[0m\u001b[0m\n\u001b[0m\u001b[1;32m      5\u001b[0m     \u001b[0mhist\u001b[0m\u001b[0;34m.\u001b[0m\u001b[0mnormalize\u001b[0m\u001b[0;34m(\u001b[0m\u001b[0;36m31000\u001b[0m\u001b[0;34m)\u001b[0m\u001b[0;34m\u001b[0m\u001b[0m\n\u001b[1;32m      6\u001b[0m     \u001b[0;34m[\u001b[0m\u001b[0mhis\u001b[0m\u001b[0;34m.\u001b[0m\u001b[0mh_pt_graph\u001b[0m\u001b[0;34m(\u001b[0m\u001b[0;34m'online'\u001b[0m\u001b[0;34m,\u001b[0m \u001b[0;34m'rate [kHz]'\u001b[0m\u001b[0;34m,\u001b[0m \u001b[0mconvertRateToGraph\u001b[0m\u001b[0;34m)\u001b[0m \u001b[0;32mfor\u001b[0m \u001b[0mhis\u001b[0m \u001b[0;32min\u001b[0m \u001b[0mhsets\u001b[0m\u001b[0;34m]\u001b[0m\u001b[0;34m\u001b[0m\u001b[0m\n",
      "\u001b[0;31mTypeError\u001b[0m: 'NoneType' object is not iterable"
     ]
    }
   ],
   "source": [
    "final_haset = []\n",
    "labels_final = []\n",
    "hsets, labels, text = hplot.get_histo(histos.RateHistos, 'old-ID', 'PU200', ['HMvDR'], 'EtaBC', None)\n",
    "for hist in hsets:\n",
    "    hist.normalize(31000)\n",
    "    [his.h_pt_graph('online', 'rate [kHz]', convertRateToGraph) for his in hsets]\n",
    "\n",
    "final_haset.append(hsets[0]) \n",
    "labels_final.append('w/o EG ID')\n",
    "\n",
    "# hsets, labels, text = hplot.get_histo(histos.RateHistos, sample, 'PU200', ['HMvDRCalib'], 'EmEtaBC', None)\n",
    "# for hist in hsets:\n",
    "#     hist.normalize(31000)\n",
    "# final_haset.append(hsets[0]) \n",
    "# labels_final.append('EG ID clusters')\n",
    "\n",
    "hsets, labels, text = hplot.get_histo(histos.RateHistos, sample, 'PU200', ['EG'], 'EGq5EtaBC', None)\n",
    "for hist in hsets:\n",
    "    hist.normalize(31000)\n",
    "[his.h_pt_graph('online', 'rate [kHz]', convertRateToGraph) for his in hsets]\n",
    "[his.g_pt_online.GetXaxis().SetLimits(0, 60) for his in final_haset]\n",
    "\n",
    "final_haset.append(hsets[0]) \n",
    "\n",
    "labels_final.append('w/ EG ID')\n",
    "# print text\n",
    "draw([his.g_pt_online for his in final_haset], labels_final, options='P', text='EG endcap, 1.52 < |#eta^{L1}| #leq 2.4', \n",
    "     logy=True, min_x=0., max_x=60., min_y=1., max_y=75000, x_axis_label='threshold p_{T}^{L1}[GeV]',\n",
    "     do_write=True, write_name='figs/egammEndcap_EGID_EtaBC_rate')"
   ]
  },
  {
   "cell_type": "code",
   "execution_count": 72,
   "metadata": {},
   "outputs": [
    {
     "data": {
      "text/plain": [
       "<__main__.DrawMachine at 0x11ce5ce10>"
      ]
     },
     "execution_count": 72,
     "metadata": {},
     "output_type": "execute_result"
    },
    {
     "name": "stderr",
     "output_type": "stream",
     "text": [
      "Info in <TCanvas::Print>: pdf file egammEndcap_TkEle_EtaBC_rate.pdf has been created\n"
     ]
    },
    {
     "data": {
      "text/html": [
       "\n",
       "<div id=\"root_plot_29\"\n",
       "     style=\"width: 596px; height: 572px\">\n",
       "</div>\n",
       "\n",
       "<script>\n",
       " requirejs.config({\n",
       "     paths: {\n",
       "       'JSRootCore' : 'https://root.cern.ch/js/notebook//scripts/JSRootCore',\n",
       "     }\n",
       "   });\n",
       " require(['JSRootCore'],\n",
       "     function(Core) {\n",
       "       var obj = Core.JSONR_unref({\"_typename\":\"TCanvas\",\"fUniqueID\":0,\"fBits\":53673992,\"fLineColor\":1,\"fLineStyle\":1,\"fLineWidth\":1,\"fFillColor\":0,\"fFillStyle\":1001,\"fLeftMargin\":0.13,\"fRightMargin\":0.13,\"fBottomMargin\":0.13,\"fTopMargin\":0.1,\"fXfile\":2,\"fYfile\":2,\"fAfile\":1,\"fXstat\":0.99,\"fYstat\":0.99,\"fAstat\":2,\"fFrameFillColor\":0,\"fFrameLineColor\":1,\"fFrameFillStyle\":1001,\"fFrameLineStyle\":1,\"fFrameLineWidth\":1,\"fFrameBorderSize\":1,\"fFrameBorderMode\":0,\"fX1\":-17.5675666967912,\"fY1\":-1.70776041025104,\"fX2\":117.567566696791,\"fY2\":5.26813222988247,\"fXtoAbsPixelk\":77.4800471580505,\"fXtoPixelk\":77.4800471580505,\"fXtoPixel\":4.41040005683899,\"fYtoAbsPixelk\":431.969375066204,\"fYtoPixelk\":431.969375066204,\"fYtoPixel\":-81.9966747637693,\"fUtoAbsPixelk\":5e-5,\"fUtoPixelk\":5e-5,\"fUtoPixel\":596,\"fVtoAbsPixelk\":572.00005,\"fVtoPixelk\":572,\"fVtoPixel\":-572,\"fAbsPixeltoXk\":-17.5675666967912,\"fPixeltoXk\":-17.5675666967912,\"fPixeltoX\":0.226736800995944,\"fAbsPixeltoYk\":5.26813222988248,\"fPixeltoYk\":-1.70776041025104,\"fPixeltoY\":-0.0121956165037299,\"fXlowNDC\":0,\"fYlowNDC\":0,\"fXUpNDC\":0,\"fYUpNDC\":0,\"fWNDC\":1,\"fHNDC\":1,\"fAbsXlowNDC\":0,\"fAbsYlowNDC\":0,\"fAbsWNDC\":1,\"fAbsHNDC\":1,\"fUxmin\":0,\"fUymin\":-0.800894380027297,\"fUxmax\":100,\"fUymax\":4.5705429398819,\"fTheta\":30,\"fPhi\":30,\"fAspectRatio\":0,\"fNumber\":0,\"fTickx\":0,\"fTicky\":0,\"fLogx\":0,\"fLogy\":1,\"fLogz\":0,\"fPadPaint\":0,\"fCrosshair\":0,\"fCrosshairPos\":0,\"fBorderSize\":2,\"fBorderMode\":0,\"fModified\":false,\"fGridx\":true,\"fGridy\":true,\"fAbsCoord\":false,\"fEditable\":true,\"fFixedAspectRatio\":false,\"fPrimitives\":{\"_typename\":\"TList\",\"name\":\"TList\",\"arr\":[{\"_typename\":\"TFrame\",\"fUniqueID\":0,\"fBits\":50331656,\"fLineColor\":1,\"fLineStyle\":1,\"fLineWidth\":1,\"fFillColor\":0,\"fFillStyle\":1001,\"fX1\":0,\"fY1\":-0.800894380027297,\"fX2\":100,\"fY2\":4.5705429398819,\"fBorderSize\":1,\"fBorderMode\":0},{\"_typename\":\"TH1F\",\"fUniqueID\":0,\"fBits\":50332168,\"fName\":\"b4ee7d\",\"fTitle\":\"\",\"fLineColor\":1,\"fLineStyle\":1,\"fLineWidth\":1,\"fFillColor\":0,\"fFillStyle\":1001,\"fMarkerColor\":1,\"fMarkerStyle\":1,\"fMarkerSize\":1,\"fNcells\":102,\"fXaxis\":{\"_typename\":\"TAxis\",\"fUniqueID\":0,\"fBits\":50331656,\"fName\":\"xaxis\",\"fTitle\":\" p_{T} [GeV]\",\"fNdivisions\":510,\"fAxisColor\":1,\"fLabelColor\":1,\"fLabelFont\":42,\"fLabelOffset\":0.005,\"fLabelSize\":0.035,\"fTickLength\":0.03,\"fTitleOffset\":1.4,\"fTitleSize\":0.035,\"fTitleColor\":1,\"fTitleFont\":42,\"fNbins\":100,\"fXmin\":0,\"fXmax\":100,\"fXbins\":[],\"fFirst\":0,\"fLast\":0,\"fBits2\":0,\"fTimeDisplay\":false,\"fTimeFormat\":\"\",\"fLabels\":null,\"fModLabs\":null},\"fYaxis\":{\"_typename\":\"TAxis\",\"fUniqueID\":0,\"fBits\":50331656,\"fName\":\"yaxis\",\"fTitle\":\" rate [kHz]\",\"fNdivisions\":510,\"fAxisColor\":1,\"fLabelColor\":1,\"fLabelFont\":42,\"fLabelOffset\":0.005,\"fLabelSize\":0.035,\"fTickLength\":0.03,\"fTitleOffset\":0,\"fTitleSize\":0.035,\"fTitleColor\":1,\"fTitleFont\":42,\"fNbins\":1,\"fXmin\":0,\"fXmax\":1,\"fXbins\":[],\"fFirst\":0,\"fLast\":0,\"fBits2\":0,\"fTimeDisplay\":false,\"fTimeFormat\":\"\",\"fLabels\":null,\"fModLabs\":null},\"fZaxis\":{\"_typename\":\"TAxis\",\"fUniqueID\":0,\"fBits\":50331648,\"fName\":\"zaxis\",\"fTitle\":\"\",\"fNdivisions\":510,\"fAxisColor\":1,\"fLabelColor\":1,\"fLabelFont\":42,\"fLabelOffset\":0.005,\"fLabelSize\":0.035,\"fTickLength\":0.03,\"fTitleOffset\":1,\"fTitleSize\":0.035,\"fTitleColor\":1,\"fTitleFont\":42,\"fNbins\":1,\"fXmin\":0,\"fXmax\":1,\"fXbins\":[],\"fFirst\":0,\"fLast\":0,\"fBits2\":0,\"fTimeDisplay\":false,\"fTimeFormat\":\"\",\"fLabels\":null,\"fModLabs\":null},\"fBarOffset\":0,\"fBarWidth\":1000,\"fEntries\":1178194,\"fTsumw\":1178182,\"fTsumw2\":1178182,\"fTsumwx\":3400020,\"fTsumwx2\":19085082,\"fMaximum\":37200,\"fMinimum\":0.158163264393806,\"fNormFactor\":0,\"fContour\":[],\"fSumw2\":[0,4903.0612244898,4903.0612244898,4903.01119325281,4832.54219596002,4010.72909725115,2564.20095793419,1423.66386401499,759.624271137026,411.106674302374,233.620861099542,141.663447521866,93.1331476468138,62.9643117451062,45.2032226155768,32.8204914618909,24.6653998334027,19.3620887130362,15.3345741357768,12.6829185755935,10.4064972927947,8.38023219491878,6.95434194085798,6.07879529362766,4.92807684298209,4.30268638067472,3.65228029987505,3.20199916701374,2.75171803415244,2.50156184922949,2.25140566430654,2.12632757184506,1.85115576842982,1.60099958350687,1.50093710953769,1.40087463556851,1.35084339858392,1.30081216159933,1.12570283215327,0.9756091211995,0.92557788421491,0.92557788421491,0.900562265722616,0.750468554768846,0.725452936276551,0.650406080799667,0.550343606830487,0.425265514369013,0.400249895876718,0.375234277384423,0.325203040399833,0.275171803415244,0.250156184922949,0.250156184922949,0.250156184922949,0.175109329446064,0.175109329446064,0.125078092461474,0.10006247396918,0.10006247396918,0.10006247396918,0.10006247396918,0.10006247396918,0.10006247396918,0.10006247396918,0.10006247396918,0.10006247396918,0.10006247396918,0.10006247396918,0.10006247396918,0.10006247396918,0.10006247396918,0.10006247396918,0.10006247396918,0.10006247396918,0.10006247396918,0.10006247396918,0.10006247396918,0.0750468554768846,0.0750468554768846,0.0750468554768846,0.0750468554768846,0.0750468554768846,0.0750468554768846,0.0750468554768846,0.0750468554768846,0.0750468554768846,0.0750468554768846,0.0750468554768846,0.0750468554768846,0.0750468554768846,0.0500312369845898,0.0500312369845898,0.0500312369845898,0.0500312369845898,0.0500312369845898,0.0500312369845898,0.0500312369845898,0.0250156184922949,0.0250156184922949,0.0250156184922949,0.300187421907539],\"fOption\":\"\",\"fFunctions\":{\"_typename\":\"TList\",\"name\":\"TList\",\"arr\":[],\"opt\":[]},\"fBufferSize\":0,\"fBuffer\":[],\"fBinStatErrOpt\":0,\"fStatOverflows\":2,\"fArray\":[0,31000,31000,30999.68,30554.14,25358.16,16212.37,9001.229,4802.786,2599.255,1477.087,895.6786,588.8419,398.0969,285.801,207.5102,155.949,122.4184,96.95408,80.18877,65.79592,52.9847,43.96939,38.43367,31.15816,27.20408,23.09184,20.2449,17.39796,15.81633,14.23469,13.44388,11.70408,10.12245,9.489796,8.857142,8.540816,8.22449,7.117347,6.168367,5.852041,5.852041,5.693878,4.744898,4.586735,4.112245,3.479592,2.688776,2.530612,2.372449,2.056123,1.739796,1.581633,1.581633,1.581633,1.107143,1.107143,0.7908163,0.6326531,0.6326531,0.6326531,0.6326531,0.6326531,0.6326531,0.6326531,0.6326531,0.6326531,0.6326531,0.6326531,0.6326531,0.6326531,0.6326531,0.6326531,0.6326531,0.6326531,0.6326531,0.6326531,0.6326531,0.4744898,0.4744898,0.4744898,0.4744898,0.4744898,0.4744898,0.4744898,0.4744898,0.4744898,0.4744898,0.4744898,0.4744898,0.4744898,0.3163265,0.3163265,0.3163265,0.3163265,0.3163265,0.3163265,0.3163265,0.1581633,0.1581633,0.1581633,1.897959]},{\"_typename\":\"TLatex\",\"fUniqueID\":0,\"fBits\":50348040,\"fName\":\"\",\"fTitle\":\"PU200, EG, hwQual 4, 1.52 < |#eta^{L1}| <= 2.4\",\"fTextAngle\":0,\"fTextSize\":0.03,\"fTextAlign\":11,\"fTextColor\":1,\"fTextFont\":62,\"fX\":0.15,\"fY\":0.85,\"fLineColor\":1,\"fLineStyle\":1,\"fLineWidth\":2,\"fLimitFactorSize\":3,\"fOriginSize\":0.0299999993294477},{\"_typename\":\"TLatex\",\"fUniqueID\":0,\"fBits\":50348041,\"fName\":\"\",\"fTitle\":\"#scale[1.5]{CMS} #scale[1.]{Phase-2 Simulation}\",\"fTextAngle\":0,\"fTextSize\":0.03,\"fTextAlign\":11,\"fTextColor\":1,\"fTextFont\":62,\"fX\":0.13,\"fY\":0.91,\"fLineColor\":1,\"fLineStyle\":1,\"fLineWidth\":2,\"fLimitFactorSize\":3,\"fOriginSize\":0.0299999993294477},{\"_typename\":\"TLatex\",\"fUniqueID\":0,\"fBits\":50348041,\"fName\":\"\",\"fTitle\":\"14TeV, 200 PU\",\"fTextAngle\":0,\"fTextSize\":0.03,\"fTextAlign\":11,\"fTextColor\":1,\"fTextFont\":62,\"fX\":0.69,\"fY\":0.91,\"fLineColor\":1,\"fLineStyle\":1,\"fLineWidth\":2,\"fLimitFactorSize\":3,\"fOriginSize\":0.0299999993294477},{\"_typename\":\"TLatex\",\"fUniqueID\":0,\"fBits\":50331656,\"fName\":\"\",\"fTitle\":\"\",\"fTextAngle\":0,\"fTextSize\":0.03,\"fTextAlign\":11,\"fTextColor\":1,\"fTextFont\":62,\"fX\":0,\"fY\":0,\"fLineColor\":1,\"fLineStyle\":1,\"fLineWidth\":2,\"fLimitFactorSize\":3,\"fOriginSize\":0.04}],\"opt\":[\"\",\"\",\"same\",\"\",\"\",\"same\"]},\"fExecs\":null,\"fName\":\"c_9dc9c7\",\"fTitle\":\"c_9dc9c7\",\"fNumPaletteColor\":0,\"fNextPaletteColor\":0,\"fDISPLAY\":\"$DISPLAY\",\"fDoubleBuffer\":0,\"fRetained\":true,\"fXsizeUser\":0,\"fYsizeUser\":0,\"fXsizeReal\":20,\"fYsizeReal\":20,\"fWindowTopX\":0,\"fWindowTopY\":0,\"fWindowWidth\":0,\"fWindowHeight\":0,\"fCw\":596,\"fCh\":572,\"fCatt\":{\"_typename\":\"TAttCanvas\",\"fXBetween\":2,\"fYBetween\":2,\"fTitleFromTop\":1.2,\"fXdate\":0.2,\"fYdate\":0.3,\"fAdate\":1},\"kMoveOpaque\":true,\"kResizeOpaque\":true,\"fHighLightColor\":2,\"fBatch\":true,\"kShowEventStatus\":false,\"kAutoExec\":true,\"kMenuBar\":true});\n",
       "       Core.draw(\"root_plot_29\", obj, \"\");\n",
       "     }\n",
       " );\n",
       "</script>\n"
      ],
      "text/plain": [
       "<IPython.core.display.HTML object>"
      ]
     },
     "metadata": {},
     "output_type": "display_data"
    }
   ],
   "source": [
    "hsets, labels, text = hplot.get_histo(histos.RateHistos, sample, 'PU200', ['TkEle', 'EG'], 'EGq4EtaBC', None)\n",
    "for hist in hsets:\n",
    "    hist.normalize(31000)\n",
    "draw([his.h_pt for his in hsets], labels=['EC standalone', 'EC + L1 Tk'], text=text, logy=True,\n",
    "     do_write=True, write_name='egammEndcap_TkEle_EtaBC_rate')"
   ]
  },
  {
   "cell_type": "code",
   "execution_count": null,
   "metadata": {},
   "outputs": [],
   "source": []
  },
  {
   "cell_type": "code",
   "execution_count": null,
   "metadata": {},
   "outputs": [],
   "source": []
  },
  {
   "cell_type": "code",
   "execution_count": null,
   "metadata": {},
   "outputs": [],
   "source": []
  }
 ],
 "metadata": {
  "kernelspec": {
   "display_name": "HGCTPGPerformance",
   "language": "python",
   "name": "hgctpgperformance"
  },
  "language_info": {
   "codemirror_mode": {
    "name": "ipython",
    "version": 2
   },
   "file_extension": ".py",
   "mimetype": "text/x-python",
   "name": "python",
   "nbconvert_exporter": "python",
   "pygments_lexer": "ipython2",
   "version": "2.7.16"
  },
  "toc": {
   "base_numbering": 1,
   "nav_menu": {},
   "number_sections": true,
   "sideBar": true,
   "skip_h1_title": false,
   "title_cell": "Table of Contents",
   "title_sidebar": "Contents",
   "toc_cell": false,
   "toc_position": {
    "height": "calc(100% - 180px)",
    "left": "10px",
    "top": "150px",
    "width": "175.8px"
   },
   "toc_section_display": true,
   "toc_window_display": true
  }
 },
 "nbformat": 4,
 "nbformat_minor": 2
}
