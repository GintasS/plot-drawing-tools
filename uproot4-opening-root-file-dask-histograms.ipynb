{
 "cells": [
  {
   "cell_type": "markdown",
   "id": "d4fcf940",
   "metadata": {},
   "source": [
    "# This is an example of opening a .root file using uproot4, dask and displaying data into histogram"
   ]
  },
  {
   "cell_type": "markdown",
   "id": "718d150a",
   "metadata": {},
   "source": [
    "## 1. Importing all the necessary packages"
   ]
  },
  {
   "cell_type": "code",
   "execution_count": 1,
   "id": "e48d0ecc",
   "metadata": {},
   "outputs": [
    {
     "name": "stdout",
     "output_type": "stream",
     "text": [
      "Welcome to JupyROOT 6.26/11\n"
     ]
    }
   ],
   "source": [
    "import sys\n",
    "sys.path.insert(0, '..')\n",
    "# sys.path.insert(1, '../python/')\n",
    "# import root_numpy as rnp\n",
    "import uproot4\n",
    "import python.file_manager as fm\n",
    "import ROOT"
   ]
  },
  {
   "cell_type": "markdown",
   "id": "4cb36cd3",
   "metadata": {},
   "source": [
    "## 2. Importing the second batch of packages"
   ]
  },
  {
   "cell_type": "code",
   "execution_count": 1,
   "id": "9cb6f4a4",
   "metadata": {},
   "outputs": [],
   "source": [
    "import numpy as np\n",
    "import fsspec\n",
    "import distributed\n",
    "import awkward as ak\n",
    "import dask_awkward as dak"
   ]
  },
  {
   "cell_type": "markdown",
   "id": "61c623c2",
   "metadata": {},
   "source": [
    "## 3. Importing histogram libraries"
   ]
  },
  {
   "cell_type": "code",
   "execution_count": 2,
   "id": "3e9d4b9e",
   "metadata": {},
   "outputs": [
    {
     "name": "stderr",
     "output_type": "stream",
     "text": [
      "/data/gsvedas/.virtualenvs/gintautas/lib/python3.9/site-packages/numpy/core/getlimits.py:549: UserWarning: The value of the smallest subnormal for <class 'numpy.float64'> type is zero.\n",
      "  setattr(self, word, getattr(machar, word).flat[0])\n",
      "/data/gsvedas/.virtualenvs/gintautas/lib/python3.9/site-packages/numpy/core/getlimits.py:89: UserWarning: The value of the smallest subnormal for <class 'numpy.float64'> type is zero.\n",
      "  return self._float_to_str(self.smallest_subnormal)\n",
      "/data/gsvedas/.virtualenvs/gintautas/lib/python3.9/site-packages/numpy/core/getlimits.py:549: UserWarning: The value of the smallest subnormal for <class 'numpy.float32'> type is zero.\n",
      "  setattr(self, word, getattr(machar, word).flat[0])\n",
      "/data/gsvedas/.virtualenvs/gintautas/lib/python3.9/site-packages/numpy/core/getlimits.py:89: UserWarning: The value of the smallest subnormal for <class 'numpy.float32'> type is zero.\n",
      "  return self._float_to_str(self.smallest_subnormal)\n"
     ]
    }
   ],
   "source": [
    "import hist\n",
    "\n",
    "import dask_histogram as dh\n",
    "import boost_histogram as bh"
   ]
  },
  {
   "cell_type": "markdown",
   "id": "cc91be1c",
   "metadata": {},
   "source": [
    "## 4. Opening .root file using Dask"
   ]
  },
  {
   "cell_type": "code",
   "execution_count": 4,
   "id": "b66cfade",
   "metadata": {},
   "outputs": [],
   "source": [
    "dar = uproot4.dask({'root://eoscms.cern.ch//eos/cms/store/cmst3/group/l1tr/cerminar/l1teg/fp_ntuples/DoubleElectron_FlatPt-1To100_PU200/FP/v100D/perfNano_8830991_0.root': 'Events'})"
   ]
  },
  {
   "cell_type": "code",
   "execution_count": null,
   "id": "f6e5f8e4",
   "metadata": {},
   "outputs": [],
   "source": [
    "print(dar)"
   ]
  },
  {
   "cell_type": "markdown",
   "id": "2ef4e519",
   "metadata": {},
   "source": [
    "## 4. Opening a distributed client for dask"
   ]
  },
  {
   "cell_type": "code",
   "execution_count": null,
   "id": "aac2dccc",
   "metadata": {},
   "outputs": [],
   "source": [
    "client = distributed.Client()\n",
    "client"
   ]
  },
  {
   "cell_type": "markdown",
   "id": "6869780a",
   "metadata": {},
   "source": [
    "## 5. Selecting a column to show on a histogram"
   ]
  },
  {
   "cell_type": "code",
   "execution_count": null,
   "id": "57821c83",
   "metadata": {},
   "outputs": [],
   "source": [
    "not_computed = dar['nTkEleL2']"
   ]
  },
  {
   "cell_type": "markdown",
   "id": "cf65448e",
   "metadata": {},
   "source": [
    "## 6. Seting up the histogram"
   ]
  },
  {
   "cell_type": "code",
   "execution_count": null,
   "id": "4596c834",
   "metadata": {},
   "outputs": [],
   "source": [
    "h = dh.histogram(\n",
    "    not_computed,\n",
    "    bins=120,\n",
    "    range=(0, 120),\n",
    "    histogram=bh.Histogram,\n",
    ")\n"
   ]
  },
  {
   "cell_type": "markdown",
   "id": "0e7633f5",
   "metadata": {},
   "source": [
    "## 7. Computing the dask-awkward array"
   ]
  },
  {
   "cell_type": "code",
   "execution_count": null,
   "id": "44894f9e",
   "metadata": {},
   "outputs": [],
   "source": [
    "h = hist.Hist(h.compute())\n",
    "h.plot1d()"
   ]
  },
  {
   "cell_type": "markdown",
   "id": "f718210b",
   "metadata": {},
   "source": [
    "### Hist example"
   ]
  },
  {
   "cell_type": "code",
   "execution_count": null,
   "id": "803db838",
   "metadata": {},
   "outputs": [],
   "source": [
    "import dask.array as da\n"
   ]
  },
  {
   "cell_type": "code",
   "execution_count": null,
   "id": "ab79e4f7",
   "metadata": {},
   "outputs": [],
   "source": [
    "# add the axes, finalize with storage\n",
    "h2 = (\n",
    "    hist.Hist.new.Reg(50, -5, 5, name=\"S\", label=\"s [units]\", flow=False)\n",
    "    .Reg(50, -5, 5, name=\"W\", label=\"w [units]\", flow=False)\n",
    "    .Double()\n",
    ")"
   ]
  },
  {
   "cell_type": "code",
   "execution_count": null,
   "id": "c5f46b7a",
   "metadata": {},
   "outputs": [],
   "source": [
    "s_data = da.random.standard_normal(size=(50_000,), chunks=(1000,))\n",
    "w_data = da.random.standard_normal(size=(50_000,), chunks=(1000,))"
   ]
  },
  {
   "cell_type": "code",
   "execution_count": null,
   "id": "64b2685a",
   "metadata": {},
   "outputs": [],
   "source": [
    "h2.fill(W=w_data, S=s_data)"
   ]
  },
  {
   "cell_type": "code",
   "execution_count": null,
   "id": "970bd72e",
   "metadata": {},
   "outputs": [],
   "source": [
    "import matplotlib.pyplot as plt"
   ]
  },
  {
   "cell_type": "code",
   "execution_count": null,
   "id": "afcdb14f",
   "metadata": {},
   "outputs": [],
   "source": [
    "fig, axs = plt.subplots(1, 2, figsize=(10, 4))\n",
    "\n",
    "h2.project(\"W\").plot(ax=axs[0])\n",
    "h2.project(\"W\", \"S\").plot(ax=axs[1])\n",
    "plt.show()"
   ]
  },
  {
   "cell_type": "code",
   "execution_count": null,
   "id": "3572a68a",
   "metadata": {},
   "outputs": [],
   "source": [
    "import dask"
   ]
  },
  {
   "cell_type": "code",
   "execution_count": null,
   "id": "1536f991",
   "metadata": {},
   "outputs": [],
   "source": [
    "# render in-memory histogram\n",
    "h2 = dask.compute(h2) \n",
    "\n",
    "import matplotlib.pyplot as plt\n",
    "\n",
    "# auto-plot\n",
    "fig, axs = plt.subplots(1, 2, figsize=(10, 4))\n",
    "\n",
    "h.project(\"W\").plot(ax=axs[0])\n",
    "h.project(\"W\", \"S\").plot(ax=axs[1])\n",
    "plt.show()"
   ]
  },
  {
   "cell_type": "code",
   "execution_count": null,
   "id": "dfc49a52",
   "metadata": {},
   "outputs": [],
   "source": [
    "h3 = hist.NamedHist(\n",
    "    hist.axis.Regular(\n",
    "        50, -5, 5, name=\"S\", label=\"s [units]\", underflow=False, overflow=False\n",
    "    ),\n",
    "    hist.axis.Regular(\n",
    "        50, -5, 5, name=\"W\", label=\"w [units]\", underflow=False, overflow=False\n",
    "    ),\n",
    ")\n",
    "# should all use names\n",
    "s_data = da.random.standard_normal(size=(50_000,), chunks=(1000,))\n",
    "w_data = da.random.standard_normal(size=(50_000,), chunks=(1000,))\n",
    "\n",
    "h3.fill(W=w_data, S=s_data)\n",
    "\n",
    "\n",
    "assert h[25, 25] == h[0j, 1j - 5] == h[{\"W\": 25, \"S\": 0j}]\n",
    "assert h[:, 0:50:5j].project(\"S\")\n",
    "\n",
    "dask.compute(h3)\n",
    "\n",
    "# plot2d full\n",
    "h3.plot2d_full(\n",
    "    main_cmap=\"cividis\",\n",
    "    top_ls=\"--\",\n",
    "    top_color=\"orange\",\n",
    "    top_lw=2,\n",
    "    side_ls=\":\",\n",
    "    side_lw=2,\n",
    "    side_color=\"steelblue\",\n",
    ")\n",
    "plt.show()"
   ]
  },
  {
   "cell_type": "code",
   "execution_count": 10,
   "id": "be3b1fb3",
   "metadata": {},
   "outputs": [
    {
     "name": "stdout",
     "output_type": "stream",
     "text": [
      "python: can't open file '/afs/cern.ch/user/g/gsvedas/gintautas/ntuple-analysis/plot-drawing-tools/analyzeNtuples.py': [Errno 2] No such file or directory\r\n"
     ]
    }
   ],
   "source": [
    "!python analyzeNtuples.py "
   ]
  }
 ],
 "metadata": {
  "kernelspec": {
   "display_name": "gintautas",
   "language": "python",
   "name": "gintautas"
  },
  "language_info": {
   "codemirror_mode": {
    "name": "ipython",
    "version": 3
   },
   "file_extension": ".py",
   "mimetype": "text/x-python",
   "name": "python",
   "nbconvert_exporter": "python",
   "pygments_lexer": "ipython3",
   "version": "3.9.14"
  },
  "varInspector": {
   "cols": {
    "lenName": 16,
    "lenType": 16,
    "lenVar": 40
   },
   "kernels_config": {
    "python": {
     "delete_cmd_postfix": "",
     "delete_cmd_prefix": "del ",
     "library": "var_list.py",
     "varRefreshCmd": "print(var_dic_list())"
    },
    "r": {
     "delete_cmd_postfix": ") ",
     "delete_cmd_prefix": "rm(",
     "library": "var_list.r",
     "varRefreshCmd": "cat(var_dic_list()) "
    }
   },
   "types_to_exclude": [
    "module",
    "function",
    "builtin_function_or_method",
    "instance",
    "_Feature"
   ],
   "window_display": false
  }
 },
 "nbformat": 4,
 "nbformat_minor": 5
}
