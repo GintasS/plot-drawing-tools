{
 "cells": [
  {
   "cell_type": "code",
   "execution_count": null,
   "id": "a4333e92",
   "metadata": {},
   "outputs": [],
   "source": []
  },
  {
   "cell_type": "markdown",
   "id": "d4fcf940",
   "metadata": {},
   "source": [
    "# This is an example of opening multiple .root file using uproot4, dask and displaying data into a single aggregated histogram"
   ]
  },
  {
   "cell_type": "markdown",
   "id": "718d150a",
   "metadata": {},
   "source": [
    "## 1. Importing all the necessary packages"
   ]
  },
  {
   "cell_type": "code",
   "execution_count": 1,
   "id": "e48d0ecc",
   "metadata": {},
   "outputs": [
    {
     "name": "stdout",
     "output_type": "stream",
     "text": [
      "Welcome to JupyROOT 6.26/11\n"
     ]
    }
   ],
   "source": [
    "import sys\n",
    "sys.path.insert(0, '..')\n",
    "# sys.path.insert(1, '../python/')\n",
    "# import root_numpy as rnp\n",
    "import uproot4\n",
    "import python.file_manager as fm\n",
    "import ROOT"
   ]
  },
  {
   "cell_type": "markdown",
   "id": "4cb36cd3",
   "metadata": {},
   "source": [
    "## 2. Importing the second batch of packages"
   ]
  },
  {
   "cell_type": "code",
   "execution_count": 2,
   "id": "9cb6f4a4",
   "metadata": {},
   "outputs": [
    {
     "name": "stdout",
     "output_type": "stream",
     "text": [
      "Loaded\n"
     ]
    }
   ],
   "source": [
    "import numpy as np\n",
    "import fsspec\n",
    "import distributed\n",
    "import awkward as ak\n",
    "import dask_awkward as dak\n",
    "print(\"Loaded\")"
   ]
  },
  {
   "cell_type": "markdown",
   "id": "61c623c2",
   "metadata": {},
   "source": [
    "## 3. Importing histogram libraries"
   ]
  },
  {
   "cell_type": "code",
   "execution_count": null,
   "id": "3e9d4b9e",
   "metadata": {},
   "outputs": [],
   "source": [
    "import hist\n",
    "\n",
    "import dask_histogram as dh\n",
    "import boost_histogram as bh\n",
    "print(\"Loaded\")"
   ]
  },
  {
   "cell_type": "markdown",
   "id": "902739dd",
   "metadata": {},
   "source": [
    "## 4. Opening a distributed client for Dask"
   ]
  },
  {
   "cell_type": "code",
   "execution_count": null,
   "id": "008f3f69",
   "metadata": {},
   "outputs": [],
   "source": [
    "client = distributed.Client()\n",
    "client"
   ]
  },
  {
   "cell_type": "markdown",
   "id": "7de7dd3e",
   "metadata": {},
   "source": [
    "## 5. Opening .root files using Dask and Uproot"
   ]
  },
  {
   "cell_type": "markdown",
   "id": "1719c325",
   "metadata": {},
   "source": [
    "### 5.1 Opening files using Dask"
   ]
  },
  {
   "cell_type": "code",
   "execution_count": null,
   "id": "9f9f3a46",
   "metadata": {},
   "outputs": [],
   "source": [
    "import uproot as up"
   ]
  },
  {
   "cell_type": "code",
   "execution_count": null,
   "id": "b66cfade",
   "metadata": {},
   "outputs": [],
   "source": [
    "dask_multiple_files = uproot4.dask({'root://eoscms.cern.ch//eos/cms/store/cmst3/group/l1tr/cerminar/l1teg/fp_ntuples/DoubleElectron_FlatPt-1To100_PU200/FP/v100D/perfNano_8830991_0.root': 'Events',\n",
    "                   'root://eoscms.cern.ch//eos/cms/store/cmst3/group/l1tr/cerminar/l1teg/fp_ntuples/DoubleElectron_FlatPt-1To100_PU200/FP/v100D/perfNano_8830991_1.root': 'Events'\n",
    "                   })"
   ]
  },
  {
   "cell_type": "code",
   "execution_count": null,
   "id": "59aedc5e",
   "metadata": {},
   "outputs": [],
   "source": [
    "dask_single_file = uproot4.dask({'root://eoscms.cern.ch//eos/cms/store/cmst3/group/l1tr/cerminar/l1teg/fp_ntuples/DoubleElectron_FlatPt-1To100_PU200/FP/v100D/perfNano_8830991_0.root': 'Events'}, library='np')"
   ]
  },
  {
   "cell_type": "code",
   "execution_count": null,
   "id": "566a2b50",
   "metadata": {},
   "outputs": [],
   "source": [
    "dask_single_third = up.dask({'root://eoscms.cern.ch//eos/cms/store/cmst3/group/l1tr/cerminar/l1teg/fp_ntuples/DoubleElectron_FlatPt-1To100_PU200/FP/v102D/perfNano_9026841_0.root': 'Events'}, library='np')"
   ]
  },
  {
   "cell_type": "code",
   "execution_count": null,
   "id": "4f5faec0",
   "metadata": {},
   "outputs": [],
   "source": [
    "dask_single_third['event']"
   ]
  },
  {
   "cell_type": "markdown",
   "id": "2cb792e9",
   "metadata": {},
   "source": [
    "### 5.2 Opening files using uproot.open"
   ]
  },
  {
   "cell_type": "code",
   "execution_count": null,
   "id": "d7a1a41f",
   "metadata": {},
   "outputs": [],
   "source": [
    "file =  uproot4.open('root://eoscms.cern.ch//eos/cms/store/cmst3/group/l1tr/cerminar/l1teg/fp_ntuples/DoubleElectron_FlatPt-1To100_PU200/FP/v100D/perfNano_8830991_0.root')\n",
    "tree = file['Events']\n",
    "arr = tree.arrays(['nTkEleL2'], library='ak')"
   ]
  },
  {
   "cell_type": "markdown",
   "id": "e7cf1c57",
   "metadata": {},
   "source": [
    "### 5.2.1 Opening MULTIPLE files using uproot.open"
   ]
  },
  {
   "cell_type": "code",
   "execution_count": null,
   "id": "67ecae84",
   "metadata": {},
   "outputs": [],
   "source": [
    "file_first =  uproot4.open('root://eoscms.cern.ch//eos/cms/store/cmst3/group/l1tr/cerminar/l1teg/fp_ntuples/DoubleElectron_FlatPt-1To100_PU200/FP/v100D/perfNano_8830991_0.root')\n",
    "tree_first = file_first['Events']\n",
    "\n",
    "file_second =  uproot4.open('root://eoscms.cern.ch//eos/cms/store/cmst3/group/l1tr/cerminar/l1teg/fp_ntuples/DoubleElectron_FlatPt-1To100_PU200/FP/v100D/perfNano_8830991_1.root')\n",
    "tree_second = file_second['Events']\n",
    "\n",
    "arr_first = tree_first.arrays(['nTkEleL2'], library='ak')\n",
    "arr_second = tree_second.arrays(['nTkEleL2'], library='ak')\n",
    "\n",
    "arr_first_second_final = ak.concatenate([arr_first, arr_second])"
   ]
  },
  {
   "cell_type": "code",
   "execution_count": null,
   "id": "ecf0965e",
   "metadata": {},
   "outputs": [],
   "source": [
    "import uproot as up"
   ]
  },
  {
   "cell_type": "code",
   "execution_count": null,
   "id": "4ddaea20",
   "metadata": {},
   "outputs": [],
   "source": [
    "file_third =  up.open('root://eoscms.cern.ch//eos/cms/store/cmst3/group/l1tr/cerminar/l1teg/fp_ntuples/DoubleElectron_FlatPt-1To100_PU200/FP/v100D/perfNano_8830991_0.root')\n",
    "tree_third = file_third['Events']"
   ]
  },
  {
   "cell_type": "code",
   "execution_count": null,
   "id": "3554a0c7",
   "metadata": {},
   "outputs": [],
   "source": [
    "dask_single_file3 = up.dask({'root://eoscms.cern.ch//eos/cms/store/cmst3/group/l1tr/cerminar/l1teg/fp_ntuples/DoubleElectron_FlatPt-1To100_PU200/FP/v100D/perfNano_8830991_0.root': 'Events'}, library='np')"
   ]
  },
  {
   "cell_type": "code",
   "execution_count": null,
   "id": "5cbdf123",
   "metadata": {},
   "outputs": [],
   "source": [
    "type(tree_third)"
   ]
  },
  {
   "cell_type": "markdown",
   "id": "d4adef3e",
   "metadata": {},
   "source": [
    "### 5.3 Checking the input of opened files"
   ]
  },
  {
   "cell_type": "code",
   "execution_count": null,
   "id": "af953118",
   "metadata": {},
   "outputs": [],
   "source": [
    "print(dask_multiple_files['nTkEleL2'])"
   ]
  },
  {
   "cell_type": "code",
   "execution_count": null,
   "id": "e232b440",
   "metadata": {},
   "outputs": [],
   "source": [
    "print(dask_single_file['nTkEleL2'])"
   ]
  },
  {
   "cell_type": "code",
   "execution_count": null,
   "id": "ea2599ce",
   "metadata": {},
   "outputs": [],
   "source": [
    "print(arr[0])"
   ]
  },
  {
   "cell_type": "markdown",
   "id": "8664effb",
   "metadata": {},
   "source": [
    "### 5.4 Setting up the charts"
   ]
  },
  {
   "cell_type": "code",
   "execution_count": null,
   "id": "2176a37c",
   "metadata": {},
   "outputs": [],
   "source": [
    "import matplotlib.pyplot as plt\n",
    "import dask.array as da\n",
    "import dask\n",
    "import hist.dask as dah"
   ]
  },
  {
   "cell_type": "code",
   "execution_count": null,
   "id": "3820d890",
   "metadata": {},
   "outputs": [],
   "source": [
    "def plot_chart(data):\n",
    "    # add the axes, finalize with storage\n",
    "    h = (\n",
    "        dah.Hist.new.Reg(50, -5, 5, name=\"S\", label=\"s [units]\", flow=False)\n",
    "        .Reg(50, -5, 5, name=\"W\", label=\"w [units]\", flow=False)\n",
    "        .Double()\n",
    "    )\n",
    "\n",
    "    s_data = data\n",
    "    w_data = data\n",
    "        \n",
    "    # delayed fill\n",
    "    h.fill(W=w_data, S=s_data)\n",
    "    \n",
    "    # auto-plot\n",
    "    fig, axs = plt.subplots(1, 2, figsize=(10, 4))\n",
    "    \n",
    "    h.project(\"W\").plot(ax=axs[0])\n",
    "    h.project(\"W\", \"S\").plot(ax=axs[1])\n",
    "    plt.show()\n",
    "    \n",
    "    return h"
   ]
  },
  {
   "cell_type": "code",
   "execution_count": null,
   "id": "9406e585",
   "metadata": {},
   "outputs": [],
   "source": [
    "def finalize_dask_chart(histogram):\n",
    "    # render in-memory histogram\n",
    "    histogram = histogram.compute()\n",
    "\n",
    "    import matplotlib.pyplot as plt\n",
    "\n",
    "    # auto-plot\n",
    "    fig, axs = plt.subplots(1, 2, figsize=(10, 4))\n",
    "\n",
    "    histogram.project(\"W\").plot(ax=axs[0])\n",
    "    histogram.project(\"W\", \"S\").plot(ax=axs[1])\n",
    "    plt.show()"
   ]
  },
  {
   "cell_type": "markdown",
   "id": "8ec21008",
   "metadata": {},
   "source": [
    "### 5.5 Dask charts: opening a single .ROOT file in MULTIPLE steps"
   ]
  },
  {
   "cell_type": "code",
   "execution_count": null,
   "id": "f19739e8",
   "metadata": {},
   "outputs": [],
   "source": [
    "dask_chart_single = plot_chart(dask_single_file['nTkEleL2'])"
   ]
  },
  {
   "cell_type": "code",
   "execution_count": null,
   "id": "67fd8ab6",
   "metadata": {},
   "outputs": [],
   "source": [
    "finalize_dask_chart(dask_chart_single)"
   ]
  },
  {
   "cell_type": "markdown",
   "id": "e432df4e",
   "metadata": {},
   "source": [
    "### 5.6  uproot charts: opening a single .ROOT file in a SINGLE step"
   ]
  },
  {
   "cell_type": "code",
   "execution_count": null,
   "id": "9ceda3b7",
   "metadata": {},
   "outputs": [],
   "source": [
    "uproot_chart_single = plot_chart(tree['nTkEleL2'])"
   ]
  },
  {
   "cell_type": "code",
   "execution_count": null,
   "id": "8f3d8ea9",
   "metadata": {},
   "outputs": [],
   "source": [
    "uproot_chart_single_third = plot_chart(tree_third['nTkEleL2'])"
   ]
  },
  {
   "cell_type": "code",
   "execution_count": null,
   "id": "48b874cb",
   "metadata": {},
   "outputs": [],
   "source": [
    "type(tree_third['nTkEleL2'])"
   ]
  },
  {
   "cell_type": "markdown",
   "id": "b665b123",
   "metadata": {},
   "source": [
    "### 5.7 Dask charts: opening multiple .ROOT files in SINGLE step"
   ]
  },
  {
   "cell_type": "code",
   "execution_count": null,
   "id": "8c65ae69",
   "metadata": {},
   "outputs": [],
   "source": [
    "uproot_multiple_files = plot_chart(arr_first_second_final)"
   ]
  },
  {
   "cell_type": "markdown",
   "id": "5ec18ec9",
   "metadata": {},
   "source": [
    "### 5.8 Compare Dask with single ROOT file VS uproot4 single ROOT file"
   ]
  },
  {
   "cell_type": "markdown",
   "id": "40e3aec0",
   "metadata": {},
   "source": [
    "#### 5.8.1 uproot"
   ]
  },
  {
   "cell_type": "code",
   "execution_count": null,
   "id": "437dbcce",
   "metadata": {},
   "outputs": [],
   "source": [
    "bin_contents_uproot = uproot_chart_single.values()\n",
    "\n",
    "print(\"LENGTH OF THE BINS: \",  bin_contents_uproot.size)\n",
    "\n",
    "for i, content in enumerate(bin_contents_uproot):\n",
    "    print(f\"Bin {i}: {content}\")"
   ]
  },
  {
   "cell_type": "markdown",
   "id": "98a5031c",
   "metadata": {},
   "source": [
    "#### 5.8.2 dask"
   ]
  },
  {
   "cell_type": "code",
   "execution_count": null,
   "id": "56ef0cb4",
   "metadata": {},
   "outputs": [],
   "source": [
    "bin_contents_dask_single = dask_chart_single.values()\n",
    "\n",
    "print(\"LENGTH OF THE BINS: \",  bin_contents_dask_single.size)\n",
    "\n",
    "for i, content in enumerate(bin_contents_dask_single):\n",
    "    print(f\"Bin {i}: {content}\")"
   ]
  },
  {
   "cell_type": "markdown",
   "id": "86359be6",
   "metadata": {},
   "source": [
    "### 5.9 Dask charts: opening MULTIPLE ROOT files"
   ]
  },
  {
   "cell_type": "code",
   "execution_count": null,
   "id": "3e5b8c2c",
   "metadata": {},
   "outputs": [],
   "source": [
    "dask_chart_multiple = plot_chart(dask_multiple_files['nTkEleL2'])"
   ]
  },
  {
   "cell_type": "code",
   "execution_count": null,
   "id": "8896257b",
   "metadata": {},
   "outputs": [],
   "source": [
    "finalize_dask_chart(dask_chart_multiple)"
   ]
  },
  {
   "cell_type": "markdown",
   "id": "34543638",
   "metadata": {},
   "source": [
    "### 6. uproot charts: opening MULTIPLE ROOT files"
   ]
  },
  {
   "cell_type": "code",
   "execution_count": null,
   "id": "a4c0b4a7",
   "metadata": {},
   "outputs": [],
   "source": [
    "uproot_chart_multiple = plot_chart(arr_first_second_final)"
   ]
  },
  {
   "cell_type": "markdown",
   "id": "e0a583ec",
   "metadata": {},
   "source": [
    "### 6.1 Compare Dask with MULTIPLE ROOT file VS uproot4 MULTIPLE ROOT file"
   ]
  },
  {
   "cell_type": "markdown",
   "id": "3b66871b",
   "metadata": {},
   "source": [
    "#### 6.1.1 uproot"
   ]
  },
  {
   "cell_type": "code",
   "execution_count": null,
   "id": "59e58606",
   "metadata": {},
   "outputs": [],
   "source": [
    "bin_contents_uproot_multiple = uproot_chart_multiple.values()\n",
    "\n",
    "print(\"LENGTH OF THE BINS: \",  bin_contents_uproot_multiple.size)\n",
    "\n",
    "for i, content in enumerate(bin_contents_uproot_multiple):\n",
    "    print(f\"Bin {i}: {content}\")"
   ]
  },
  {
   "cell_type": "markdown",
   "id": "5cbc1076",
   "metadata": {},
   "source": [
    "#### 6.1.2 dask"
   ]
  },
  {
   "cell_type": "code",
   "execution_count": null,
   "id": "6cd27cab",
   "metadata": {},
   "outputs": [],
   "source": [
    "bin_contents_dask_multiple = dask_chart_multiple.values()\n",
    "\n",
    "print(\"LENGTH OF THE BINS: \",  bin_contents_dask_multiple.size)\n",
    "\n",
    "for i, content in enumerate(bin_contents_dask_multiple):\n",
    "    print(f\"Bin {i}: {content}\")"
   ]
  },
  {
   "cell_type": "code",
   "execution_count": null,
   "id": "5ef16efb",
   "metadata": {},
   "outputs": [],
   "source": []
  },
  {
   "cell_type": "code",
   "execution_count": 5,
   "id": "96a73628",
   "metadata": {},
   "outputs": [],
   "source": [
    "import pandas as pd\n",
    "import datetime\n",
    "import resource\n",
    "import gc\n",
    "import awkward as ak\n",
    "import awkward_pandas as akpd\n",
    "import vector\n",
    "vector.register_awkward()\n",
    "\n",
    "class TreeReader(object):\n",
    "    def __init__(self, entry_range, max_events):\n",
    "        self.tree = None\n",
    "        self._branches = []\n",
    "        # this is the gloabl \"entry\" across files\n",
    "        self.global_entry = -1\n",
    "        # this is the \"entry\" local to the open file (reset to 0) every new file\n",
    "        self.file_entry = -1\n",
    "        self.max_events = max_events\n",
    "        self.entry_range = entry_range\n",
    "\n",
    "        self.n_tot_entries = 0\n",
    "\n",
    "    def setTree(self, uptree):\n",
    "        self.tree = uptree\n",
    "        self._branches = []\n",
    "        branch_blacklist = ['tc_wafer',\n",
    "                            'tc_cell',\n",
    "                            'tc_waferu',\n",
    "                            'tc_waferv',\n",
    "                            'tc_cellu',\n",
    "                            'tc_cellv',\n",
    "                            'gen_PUNumInt',\n",
    "                            'gen_TrueNumInt',\n",
    "                            # 'gen_daughters', \n",
    "                            'simpart_posx', 'simpart_posy', 'simpart_posz',\n",
    "                            ]\n",
    "        if len(self._branches) == 0:\n",
    "            self._branches = [br for br in self.tree.keys() if br not in branch_blacklist]\n",
    "        print(f'open new tree file with # entries: {self.tree.num_entries}')\n",
    "        self.file_entry = -1\n",
    "\n",
    "    def next(self, debug=0):\n",
    "\n",
    "        if self.max_events != -1:\n",
    "            if self.n_tot_entries == self.max_events:\n",
    "                print('END loop for max_event!')\n",
    "                # we processed the max # of events\n",
    "                return False\n",
    "        if self.entry_range[1] != -1:\n",
    "            if self.global_entry == self.entry_range[1]:\n",
    "                print('END loop for entry_range')\n",
    "                return False\n",
    "        if self.file_entry == self.tree.num_entries-1:\n",
    "            print('END loop for end_of_file')\n",
    "            return False\n",
    "\n",
    "        if self.global_entry == -1:\n",
    "            self.global_entry = self.entry_range[0]\n",
    "            self.file_entry = self.entry_range[0]\n",
    "        else:\n",
    "            self.file_entry += 1\n",
    "            self.global_entry += 1\n",
    "\n",
    "        # entry is the cursor in the file: when we open a new one (not the first) needs to be set to 0 again\n",
    "        if debug >= 2 or self.global_entry % 1000 == 0:\n",
    "            self.printEntry()\n",
    "        \n",
    "        self.n_tot_entries += 1\n",
    "        return True\n",
    "\n",
    "    def printEntry(self):\n",
    "        print(\"--- File entry: {}, global entry: {}, tot # events: {} @ {}, MaxRSS {:.2f} Mb\".format(\n",
    "            self.file_entry,\n",
    "            self.global_entry,\n",
    "            self.n_tot_entries,\n",
    "            datetime.datetime.now(),\n",
    "            resource.getrusage(resource.RUSAGE_SELF).ru_maxrss/1E6))\n",
    "        # print(self.tree.keys())\n",
    "        # print(self.tree.arrays(['run', 'lumi', 'event'], library='pd', entry_start=self.file_entry, entry_stop=self.file_entry+1))\n",
    "        # self.dump_garbage()\n",
    "    \n",
    "    def dump_garbage(self):\n",
    "        \"\"\"\n",
    "        show us what's the garbage about\n",
    "        \"\"\"\n",
    "            \n",
    "        # force collection\n",
    "        print (\"\\nGARBAGE:\")\n",
    "        gc.collect()\n",
    "\n",
    "        print (\"\\nGARBAGE OBJECTS:\")\n",
    "        for x in gc.garbage:\n",
    "            s = str(x)\n",
    "            if len(s) > 80: s = s[:80]\n",
    "            print (type(x),\"\\n  \", s)\n",
    "\n",
    "\n",
    "    def getDataFrame(self, prefix, entry_block, fallback=None):\n",
    "        branches = [br for br in self._branches\n",
    "                    if br.startswith(prefix+'_') and\n",
    "                    not br == '{}_n'.format(prefix)]\n",
    "        names = ['_'.join(br.split('_')[1:]) for br in branches]\n",
    "        name_map = dict(zip(names, branches))\n",
    "        if len(branches) == 0:\n",
    "            if fallback is not None:\n",
    "                return self.getDataFrame(prefix=fallback, entry_block=entry_block)\n",
    "            prefs = set([br.split('_')[0] for br in self._branches])\n",
    "            print(f'stored branch prefixes are: {prefs}')\n",
    "            raise ValueError(f'[TreeReader::getDataFrame] No branches with prefix: {prefix}')\n",
    "        \n",
    "        akarray = self.tree.arrays(names, \n",
    "                                   library='ak', \n",
    "                                   aliases=name_map, \n",
    "                                   entry_start=self.file_entry, \n",
    "                                   entry_stop=self.file_entry+entry_block)\n",
    "        \n",
    "        print(\"TYPE AKARRAY\")\n",
    "        print(akarray)\n",
    "        records = {}\n",
    "        for field in akarray.fields:\n",
    "            records[field] = akarray[field]\n",
    "        \n",
    "        if 'pt' in names and 'eta' in names and 'phi' in names:\n",
    "            if not 'mass' in names and not 'energy' in names:\n",
    "                records['mass'] = 0.*akarray['pt']\n",
    "            return vector.zip(records)\n",
    "\n",
    "        return ak.zip(records)\n",
    "\n",
    "        # FIXME: we should probably do an ak.Record using sometjhing along the lines of:\n",
    "        # ele_rec = ak.zip({'pt': tkele.pt, 'eta': tkele.eta, 'phi': tkele.phi}, with_name=\"pippo\")\n",
    "        # this would allow to handle the records and assign behaviours....\n",
    "\n",
    "        # return akarray\n",
    "        \n"
   ]
  },
  {
   "cell_type": "code",
   "execution_count": null,
   "id": "1a3e5f7b",
   "metadata": {},
   "outputs": [],
   "source": [
    "file_second =  uproot4.open('root://eoscms.cern.ch//eos/cms/store/cmst3/group/l1tr/cerminar/l1teg/fp_ntuples/DoubleElectron_FlatPt-1To100_PU200/FP/v100D/perfNano_8830991_1.root')\n",
    "tree_second = file_second['Events']"
   ]
  },
  {
   "cell_type": "code",
   "execution_count": null,
   "id": "d7dc31b6",
   "metadata": {},
   "outputs": [],
   "source": [
    "type(tree_second)"
   ]
  },
  {
   "cell_type": "code",
   "execution_count": null,
   "id": "1b2af83b",
   "metadata": {},
   "outputs": [],
   "source": [
    "va = uproot4.dask(tree_second)"
   ]
  },
  {
   "cell_type": "code",
   "execution_count": null,
   "id": "eb97231f",
   "metadata": {},
   "outputs": [],
   "source": [
    "type(va)"
   ]
  },
  {
   "cell_type": "code",
   "execution_count": null,
   "id": "984b41a4",
   "metadata": {},
   "outputs": [],
   "source": [
    "for field in file_second:\n",
    "    print(field)"
   ]
  },
  {
   "cell_type": "code",
   "execution_count": null,
   "id": "b64adc33",
   "metadata": {},
   "outputs": [],
   "source": []
  },
  {
   "cell_type": "code",
   "execution_count": 3,
   "id": "3ad584c9",
   "metadata": {},
   "outputs": [],
   "source": [
    "def getUpTree(uprobj, name):\n",
    "    parts = name.split('/')\n",
    "    # if len(parts) > 1:\n",
    "    #     return getUpTree(uprobj, '/'.join(parts[1:]))\n",
    "    return uprobj[name]"
   ]
  },
  {
   "cell_type": "code",
   "execution_count": 6,
   "id": "fb7f2300",
   "metadata": {},
   "outputs": [
    {
     "name": "stdout",
     "output_type": "stream",
     "text": [
      "events_per_job: 1\n",
      "maxEvents: 1\n",
      "range_ev: (0, 1)\n",
      "opening file: root://eoscms.cern.ch//eos/cms/store/cmst3/group/l1tr/cerminar/l1teg/fp_ntuples/DoubleElectron_FlatPt-1To100_PU200/FP/v100D/perfNano_8830991_1.root\n",
      " . tree name: \n"
     ]
    }
   ],
   "source": [
    "files_with_protocol = ['root://eoscms.cern.ch//eos/cms/store/cmst3/group/l1tr/cerminar/l1teg/fp_ntuples/DoubleElectron_FlatPt-1To100_PU200/FP/v100D/perfNano_8830991_1.root']\n",
    "range_ev = (0, 1)\n",
    "tree_reader = TreeReader(range_ev, 4)\n",
    "print('events_per_job: {}'.format(1))\n",
    "print('maxEvents: {}'.format(1))\n",
    "print('range_ev: {}'.format(range_ev))\n",
    "\n",
    "# tr = Tracer()\n",
    "\n",
    "break_file_loop = False\n",
    "for tree_file_name in files_with_protocol:\n",
    "    if break_file_loop:\n",
    "        break\n",
    "    # tree_file = up.open(tree_file_name, num_workers=2)\n",
    "    tree_file = uproot4.open(tree_file_name, num_workers=1)\n",
    "\n",
    "    print(f'opening file: {tree_file_name}')\n",
    "    print(f' . tree name: ')\n",
    "\n",
    "    ttree = getUpTree(tree_file, 'Events')"
   ]
  },
  {
   "cell_type": "code",
   "execution_count": 14,
   "id": "5cd9cce4",
   "metadata": {},
   "outputs": [],
   "source": [
    "akarray_new = uproot4.dask(ttree, library='ak')"
   ]
  },
  {
   "cell_type": "code",
   "execution_count": 18,
   "id": "af50706e",
   "metadata": {},
   "outputs": [],
   "source": [
    "branches = [br for br in ttree.keys()\n",
    "            if br.startswith('TkEleL2'+'_') and\n",
    "            not br == '{}_n'.format('TkEleL2')]\n",
    "names = ['_'.join(br.split('_')[1:]) for br in branches]\n",
    "\n",
    "name_map = dict(zip(names, branches))"
   ]
  },
  {
   "cell_type": "code",
   "execution_count": 34,
   "id": "fe31e419",
   "metadata": {},
   "outputs": [],
   "source": [
    "name_map_new = dict(zip(branches, names))"
   ]
  },
  {
   "cell_type": "code",
   "execution_count": 35,
   "id": "5bf1abd9",
   "metadata": {},
   "outputs": [
    {
     "data": {
      "text/plain": [
       "{'TkEleL2_eta': 'eta',\n",
       " 'TkEleL2_pfIso': 'pfIso',\n",
       " 'TkEleL2_pfIsoPV': 'pfIsoPV',\n",
       " 'TkEleL2_phi': 'phi',\n",
       " 'TkEleL2_pt': 'pt',\n",
       " 'TkEleL2_puppiIso': 'puppiIso',\n",
       " 'TkEleL2_puppiIsoPV': 'puppiIsoPV',\n",
       " 'TkEleL2_tkEta': 'tkEta',\n",
       " 'TkEleL2_tkIso': 'tkIso',\n",
       " 'TkEleL2_tkIsoPV': 'tkIsoPV',\n",
       " 'TkEleL2_tkPhi': 'tkPhi',\n",
       " 'TkEleL2_tkPt': 'tkPt',\n",
       " 'TkEleL2_vz': 'vz',\n",
       " 'TkEleL2_charge': 'charge',\n",
       " 'TkEleL2_hwQual': 'hwQual'}"
      ]
     },
     "execution_count": 35,
     "metadata": {},
     "output_type": "execute_result"
    }
   ],
   "source": [
    "name_map_new"
   ]
  },
  {
   "cell_type": "code",
   "execution_count": 111,
   "id": "b6d4670e",
   "metadata": {},
   "outputs": [],
   "source": [
    "akarray = ttree.arrays(names, \n",
    "                           library='ak', \n",
    "                           aliases=name_map, \n",
    "                           entry_start=0, \n",
    "                           entry_stop=1001)"
   ]
  },
  {
   "cell_type": "code",
   "execution_count": 38,
   "id": "54017aaa",
   "metadata": {},
   "outputs": [],
   "source": [
    "akarray_form_mapping = uproot4.dask(ttree, library='ak', form_mapping=name_map_new)"
   ]
  },
  {
   "cell_type": "code",
   "execution_count": 43,
   "id": "c7358b41",
   "metadata": {},
   "outputs": [],
   "source": [
    "akarray_form_mapping22= uproot4.dask(ttree, library='ak', form_mapping={'test': 'luminosityBlock'})"
   ]
  },
  {
   "cell_type": "code",
   "execution_count": 112,
   "id": "21726b9a",
   "metadata": {},
   "outputs": [
    {
     "data": {
      "text/plain": [
       "awkward.highlevel.Array"
      ]
     },
     "execution_count": 112,
     "metadata": {},
     "output_type": "execute_result"
    }
   ],
   "source": [
    "type(akarray)"
   ]
  },
  {
   "cell_type": "code",
   "execution_count": 26,
   "id": "e73aba30",
   "metadata": {},
   "outputs": [
    {
     "data": {
      "text/plain": [
       "['eta',\n",
       " 'pfIso',\n",
       " 'pfIsoPV',\n",
       " 'phi',\n",
       " 'pt',\n",
       " 'puppiIso',\n",
       " 'puppiIsoPV',\n",
       " 'tkEta',\n",
       " 'tkIso',\n",
       " 'tkIsoPV',\n",
       " 'tkPhi',\n",
       " 'tkPt',\n",
       " 'vz',\n",
       " 'charge',\n",
       " 'hwQual']"
      ]
     },
     "execution_count": 26,
     "metadata": {},
     "output_type": "execute_result"
    }
   ],
   "source": [
    "akarray.fields"
   ]
  },
  {
   "cell_type": "code",
   "execution_count": 39,
   "id": "47b9d0d0",
   "metadata": {},
   "outputs": [
    {
     "data": {
      "text/plain": [
       "['run',\n",
       " 'luminosityBlock',\n",
       " 'event',\n",
       " 'bunchCrossing',\n",
       " 'nTkEleL2',\n",
       " 'TkEleL2_eta',\n",
       " 'TkEleL2_pfIso',\n",
       " 'TkEleL2_pfIsoPV',\n",
       " 'TkEleL2_phi',\n",
       " 'TkEleL2_pt',\n",
       " 'TkEleL2_puppiIso',\n",
       " 'TkEleL2_puppiIsoPV',\n",
       " 'TkEleL2_tkEta',\n",
       " 'TkEleL2_tkIso',\n",
       " 'TkEleL2_tkIsoPV',\n",
       " 'TkEleL2_tkPhi',\n",
       " 'TkEleL2_tkPt',\n",
       " 'TkEleL2_vz',\n",
       " 'TkEleL2_charge',\n",
       " 'TkEleL2_hwQual',\n",
       " 'nTkEmL2',\n",
       " 'TkEmL2_eta',\n",
       " 'TkEmL2_pfIso',\n",
       " 'TkEmL2_pfIsoPV',\n",
       " 'TkEmL2_phi',\n",
       " 'TkEmL2_pt',\n",
       " 'TkEmL2_puppiIso',\n",
       " 'TkEmL2_puppiIsoPV',\n",
       " 'TkEmL2_tkIso',\n",
       " 'TkEmL2_tkIsoPV',\n",
       " 'TkEmL2_charge',\n",
       " 'TkEmL2_hwQual',\n",
       " 'nGenEl',\n",
       " 'GenEl_pt',\n",
       " 'GenEl_eta',\n",
       " 'GenEl_phi',\n",
       " 'GenEl_vz',\n",
       " 'GenEl_caloeta',\n",
       " 'GenEl_calophi',\n",
       " 'GenEl_charge',\n",
       " 'GenEl_prompt',\n",
       " 'GenEl_pdgid',\n",
       " 'nGenPh',\n",
       " 'GenPh_pt',\n",
       " 'GenPh_eta',\n",
       " 'GenPh_phi',\n",
       " 'GenPh_vz',\n",
       " 'GenPh_caloeta',\n",
       " 'GenPh_calophi',\n",
       " 'GenPh_charge',\n",
       " 'GenPh_prompt',\n",
       " 'GenPh_pdgid',\n",
       " 'nHGCal3DCl',\n",
       " 'HGCal3DCl_emaxe',\n",
       " 'HGCal3DCl_eta',\n",
       " 'HGCal3DCl_hoe',\n",
       " 'HGCal3DCl_layer10',\n",
       " 'HGCal3DCl_layer50',\n",
       " 'HGCal3DCl_layer90',\n",
       " 'HGCal3DCl_meanz',\n",
       " 'HGCal3DCl_ntc67',\n",
       " 'HGCal3DCl_ntc90',\n",
       " 'HGCal3DCl_phi',\n",
       " 'HGCal3DCl_pt',\n",
       " 'HGCal3DCl_ptEm',\n",
       " 'HGCal3DCl_seemax',\n",
       " 'HGCal3DCl_seetot',\n",
       " 'HGCal3DCl_sppmax',\n",
       " 'HGCal3DCl_spptot',\n",
       " 'HGCal3DCl_srrmax',\n",
       " 'HGCal3DCl_srrmean',\n",
       " 'HGCal3DCl_srrtot',\n",
       " 'HGCal3DCl_szz',\n",
       " 'HGCal3DCl_coreshowerlength',\n",
       " 'HGCal3DCl_firstlayer',\n",
       " 'HGCal3DCl_hwQual',\n",
       " 'HGCal3DCl_maxlayer',\n",
       " 'HGCal3DCl_nTcs',\n",
       " 'HGCal3DCl_showerlength',\n",
       " 'nGenJets',\n",
       " 'GenJets_pt',\n",
       " 'GenJets_eta',\n",
       " 'GenJets_phi',\n",
       " 'GenJets_mass',\n",
       " 'GenJets_nDau',\n",
       " 'nL1CaloJets',\n",
       " 'L1CaloJets_pt',\n",
       " 'L1CaloJets_eta',\n",
       " 'L1CaloJets_phi',\n",
       " 'L1CaloJets_mass',\n",
       " 'L1CaloJets_genpt',\n",
       " 'L1CaloJets_gendr',\n",
       " 'L1CaloJets_nDau',\n",
       " 'nL1PFJets',\n",
       " 'L1PFJets_pt',\n",
       " 'L1PFJets_eta',\n",
       " 'L1PFJets_phi',\n",
       " 'L1PFJets_mass',\n",
       " 'L1PFJets_genpt',\n",
       " 'L1PFJets_gendr',\n",
       " 'L1PFJets_nDau',\n",
       " 'nL1PuppiJets',\n",
       " 'L1PuppiJets_pt',\n",
       " 'L1PuppiJets_eta',\n",
       " 'L1PuppiJets_phi',\n",
       " 'L1PuppiJets_mass',\n",
       " 'L1PuppiJets_genpt',\n",
       " 'L1PuppiJets_gendr',\n",
       " 'L1PuppiJets_nDau',\n",
       " 'nL1TKJets',\n",
       " 'L1TKJets_pt',\n",
       " 'L1TKJets_eta',\n",
       " 'L1TKJets_phi',\n",
       " 'L1TKJets_mass',\n",
       " 'L1TKJets_genpt',\n",
       " 'L1TKJets_gendr',\n",
       " 'L1TKJets_nDau',\n",
       " 'L1CaloMetCentral_pt',\n",
       " 'L1CaloMetCentral_phi',\n",
       " 'L1CaloMetCentral_para',\n",
       " 'L1CaloMetCentral_perp',\n",
       " 'L1PFMetCentral_pt',\n",
       " 'L1PFMetCentral_phi',\n",
       " 'L1PFMetCentral_para',\n",
       " 'L1PFMetCentral_perp',\n",
       " 'L1PuppiMetCentral_pt',\n",
       " 'L1PuppiMetCentral_phi',\n",
       " 'L1PuppiMetCentral_para',\n",
       " 'L1PuppiMetCentral_perp',\n",
       " 'L1TKMetCentral_pt',\n",
       " 'L1TKMetCentral_phi',\n",
       " 'L1TKMetCentral_para',\n",
       " 'L1TKMetCentral_perp',\n",
       " 'genMetCentral_pt',\n",
       " 'genMetCentral_phi',\n",
       " 'L1CaloMet_pt',\n",
       " 'L1CaloMet_phi',\n",
       " 'L1CaloMet_para',\n",
       " 'L1CaloMet_perp',\n",
       " 'L1PFMet_pt',\n",
       " 'L1PFMet_phi',\n",
       " 'L1PFMet_para',\n",
       " 'L1PFMet_perp',\n",
       " 'L1PuppiMet_pt',\n",
       " 'L1PuppiMet_phi',\n",
       " 'L1PuppiMet_para',\n",
       " 'L1PuppiMet_perp',\n",
       " 'L1TKMet_pt',\n",
       " 'L1TKMet_phi',\n",
       " 'L1TKMet_para',\n",
       " 'L1TKMet_perp',\n",
       " 'genMet_pt',\n",
       " 'genMet_phi']"
      ]
     },
     "execution_count": 39,
     "metadata": {},
     "output_type": "execute_result"
    }
   ],
   "source": [
    "akarray_form_mapping.fields"
   ]
  },
  {
   "cell_type": "code",
   "execution_count": 50,
   "id": "28cd61cd",
   "metadata": {},
   "outputs": [],
   "source": [
    "import dask.dataframe as dd"
   ]
  },
  {
   "cell_type": "code",
   "execution_count": 105,
   "id": "f3a06bda",
   "metadata": {},
   "outputs": [],
   "source": [
    "df = dak.to_dataframe(akarray_form_mapping22)\n",
    "df = df.rename(columns=name_map_new)"
   ]
  },
  {
   "cell_type": "code",
   "execution_count": 108,
   "id": "67543717",
   "metadata": {},
   "outputs": [],
   "source": [
    "dask_array_simple = df.to_dask_array()"
   ]
  },
  {
   "cell_type": "code",
   "execution_count": 115,
   "id": "6093db5a",
   "metadata": {},
   "outputs": [
    {
     "data": {
      "text/html": [
       "<table>\n",
       "    <tr>\n",
       "        <td>\n",
       "            <table style=\"border-collapse: collapse;\">\n",
       "                <thead>\n",
       "                    <tr>\n",
       "                        <td> </td>\n",
       "                        <th> Array </th>\n",
       "                        <th> Chunk </th>\n",
       "                    </tr>\n",
       "                </thead>\n",
       "                <tbody>\n",
       "                    \n",
       "                    <tr>\n",
       "                        <th> Bytes </th>\n",
       "                        <td> unknown </td>\n",
       "                        <td> unknown </td>\n",
       "                    </tr>\n",
       "                    \n",
       "                    <tr>\n",
       "                        <th> Shape </th>\n",
       "                        <td> (nan, 153) </td>\n",
       "                        <td> (nan, 153) </td>\n",
       "                    </tr>\n",
       "                    <tr>\n",
       "                        <th> Dask graph </th>\n",
       "                        <td colspan=\"2\"> 4 chunks in 4 graph layers </td>\n",
       "                    </tr>\n",
       "                    <tr>\n",
       "                        <th> Data type </th>\n",
       "                        <td colspan=\"2\"> float64 numpy.ndarray </td>\n",
       "                    </tr>\n",
       "                </tbody>\n",
       "            </table>\n",
       "        </td>\n",
       "        <td>\n",
       "        \n",
       "        </td>\n",
       "    </tr>\n",
       "</table>"
      ],
      "text/plain": [
       "dask.array<values, shape=(nan, 153), dtype=float64, chunksize=(nan, 153), chunktype=numpy.ndarray>"
      ]
     },
     "execution_count": 115,
     "metadata": {},
     "output_type": "execute_result"
    }
   ],
   "source": [
    "dask_array_simple"
   ]
  },
  {
   "cell_type": "code",
   "execution_count": 110,
   "id": "1d467c9b",
   "metadata": {},
   "outputs": [
    {
     "ename": "ValueError",
     "evalue": "setting an array element with a sequence. The requested array has an inhomogeneous shape after 1 dimensions. The detected shape was (2,) + inhomogeneous part.",
     "output_type": "error",
     "traceback": [
      "\u001b[0;31m---------------------------------------------------------------------------\u001b[0m",
      "\u001b[0;31mValueError\u001b[0m                                Traceback (most recent call last)",
      "Cell \u001b[0;32mIn [110], line 1\u001b[0m\n\u001b[0;32m----> 1\u001b[0m dak\u001b[38;5;241m.\u001b[39mfrom_dask_array(dask_array_simple)\n",
      "File \u001b[0;32m/data/gsvedas/.virtualenvs/gintautas/lib/python3.9/site-packages/dask_awkward/lib/io/io.py:429\u001b[0m, in \u001b[0;36mfrom_dask_array\u001b[0;34m(array, behavior, attrs)\u001b[0m\n\u001b[1;32m    427\u001b[0m layer \u001b[38;5;241m=\u001b[39m AwkwardBlockwiseLayer\u001b[38;5;241m.\u001b[39mfrom_blockwise(layer)\n\u001b[1;32m    428\u001b[0m hlg \u001b[38;5;241m=\u001b[39m HighLevelGraph\u001b[38;5;241m.\u001b[39mfrom_collections(name, layer, dependencies\u001b[38;5;241m=\u001b[39m[array])\n\u001b[0;32m--> 429\u001b[0m \u001b[38;5;28;01mif\u001b[39;00m np\u001b[38;5;241m.\u001b[39many(\u001b[43mnp\u001b[49m\u001b[38;5;241;43m.\u001b[39;49m\u001b[43misnan\u001b[49m\u001b[43m(\u001b[49m\u001b[43marray\u001b[49m\u001b[38;5;241;43m.\u001b[39;49m\u001b[43mchunks\u001b[49m\u001b[43m)\u001b[49m):\n\u001b[1;32m    430\u001b[0m     \u001b[38;5;28;01mreturn\u001b[39;00m new_array_object(\n\u001b[1;32m    431\u001b[0m         hlg,\n\u001b[1;32m    432\u001b[0m         name,\n\u001b[0;32m   (...)\u001b[0m\n\u001b[1;32m    436\u001b[0m         attrs\u001b[38;5;241m=\u001b[39mattrs,\n\u001b[1;32m    437\u001b[0m     )\n\u001b[1;32m    438\u001b[0m \u001b[38;5;28;01melse\u001b[39;00m:\n",
      "\u001b[0;31mValueError\u001b[0m: setting an array element with a sequence. The requested array has an inhomogeneous shape after 1 dimensions. The detected shape was (2,) + inhomogeneous part."
     ]
    }
   ],
   "source": [
    "dak.from_dask_array(dask_array_simple)"
   ]
  },
  {
   "cell_type": "code",
   "execution_count": 119,
   "id": "c98344d2",
   "metadata": {},
   "outputs": [
    {
     "ename": "AttributeError",
     "evalue": "'Model_TTree_v20' object has no attribute 'rename'",
     "output_type": "error",
     "traceback": [
      "\u001b[0;31m---------------------------------------------------------------------------\u001b[0m",
      "\u001b[0;31mAttributeError\u001b[0m                            Traceback (most recent call last)",
      "Cell \u001b[0;32mIn [119], line 1\u001b[0m\n\u001b[0;32m----> 1\u001b[0m renamed_ttree \u001b[38;5;241m=\u001b[39m ttree\u001b[38;5;241m.\u001b[39mrename(name_map_new)\n",
      "\u001b[0;31mAttributeError\u001b[0m: 'Model_TTree_v20' object has no attribute 'rename'"
     ]
    }
   ],
   "source": [
    "renamed_ttree = ttree.rename(name_map_new)"
   ]
  },
  {
   "cell_type": "code",
   "execution_count": 118,
   "id": "4843740e",
   "metadata": {},
   "outputs": [
    {
     "data": {
      "text/plain": [
       "uproot.models.TTree.Model_TTree_v20"
      ]
     },
     "execution_count": 118,
     "metadata": {},
     "output_type": "execute_result"
    }
   ],
   "source": [
    "type(ttree)"
   ]
  }
 ],
 "metadata": {
  "kernelspec": {
   "display_name": "gintautas",
   "language": "python",
   "name": "gintautas"
  },
  "language_info": {
   "codemirror_mode": {
    "name": "ipython",
    "version": 3
   },
   "file_extension": ".py",
   "mimetype": "text/x-python",
   "name": "python",
   "nbconvert_exporter": "python",
   "pygments_lexer": "ipython3",
   "version": "3.9.14"
  },
  "varInspector": {
   "cols": {
    "lenName": 16,
    "lenType": 16,
    "lenVar": 40
   },
   "kernels_config": {
    "python": {
     "delete_cmd_postfix": "",
     "delete_cmd_prefix": "del ",
     "library": "var_list.py",
     "varRefreshCmd": "print(var_dic_list())"
    },
    "r": {
     "delete_cmd_postfix": ") ",
     "delete_cmd_prefix": "rm(",
     "library": "var_list.r",
     "varRefreshCmd": "cat(var_dic_list()) "
    }
   },
   "position": {
    "height": "144.844px",
    "left": "589px",
    "right": "20px",
    "top": "120px",
    "width": "350px"
   },
   "types_to_exclude": [
    "module",
    "function",
    "builtin_function_or_method",
    "instance",
    "_Feature"
   ],
   "window_display": false
  }
 },
 "nbformat": 4,
 "nbformat_minor": 5
}
