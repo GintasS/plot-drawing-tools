{
 "cells": [
  {
   "cell_type": "markdown",
   "metadata": {},
   "source": [
    "# Eff. matching to GEN particle\n",
    "\n",
    "\n",
    "   * [Efficiency vs $\\eta$](#Effinciency-vs-$\\eta$)\n",
    "   * [Efficiency vs $p_{T}$](#Efficiency-vs-$p_{T}$)\n",
    "   * [Turn-on curves](#Turn-on-curves)\n"
   ]
  },
  {
   "cell_type": "code",
   "execution_count": 1,
   "metadata": {},
   "outputs": [
    {
     "name": "stdout",
     "output_type": "stream",
     "text": [
      "Welcome to JupyROOT 6.14/02\n"
     ]
    }
   ],
   "source": [
    "import sys\n",
    "sys.path.insert(0, '..')\n",
    "# sys.path.insert(1, '../python/')\n",
    "sys.path.insert(1, 'python/')\n",
    "\n",
    "import ROOT\n",
    "import root_numpy as rnp\n",
    "# import python.l1THistos as histos\n",
    "import math\n",
    "import uuid\n",
    "import pandas as pd\n",
    "\n",
    "from drawingTools import *\n",
    "\n",
    "# ROOT.enableJSVis()\n",
    "ROOT.enableJSVis()\n",
    "\n",
    "#from drawingTools import *\n",
    "\n",
    "normalized_histos = list()"
   ]
  },
  {
   "cell_type": "code",
   "execution_count": null,
   "metadata": {},
   "outputs": [],
   "source": [
    "# %load drawingTools.py\n"
   ]
  },
  {
   "cell_type": "code",
   "execution_count": 2,
   "metadata": {},
   "outputs": [],
   "source": [
    "# %load samples.py\n",
    "import ROOT\n",
    "import pandas as pd\n",
    "\n",
    "version = 'v103t'\n",
    "version_V8 = 'v119'\n",
    "\n",
    "version_V9 = 'v121'\n",
    "\n",
    "# -------------------------------------------------------------------------\n",
    "\n",
    "samples_ele = [\n",
    "#     Sample('ele_flat2to100_PU0_eg', 'PU0', version, 'ele'),\n",
    "    Sample('ele_flat2to100_PU200_eg', 'PU200', version, 'ele')\n",
    "    ]\n",
    "\n",
    "samples_ele_V8 = [\n",
    "#     Sample('ele_flat2to100_PU0_eg', 'PU0', version, 'V8'),\n",
    "    Sample('ele_flat2to100_PU200_eg', 'PU200', version_V8, 'hybrid')\n",
    "    ]\n",
    "\n",
    "\n",
    "samples_ele_calib = [\n",
    "    Sample('ele_flat2to100_PU0_tps', 'PU0', 'v120', 'calib'),\n",
    "    Sample('ele_flat2to100_PU200_tps', 'PU200', 'v120', 'calib')\n",
    "    ]\n",
    "\n",
    "\n",
    "samples_ele_V9 = [\n",
    "    Sample('ele_flat2to100_PU0_eg', 'PU0', version_V9, 'ele-V9'),\n",
    "    Sample('ele_flat2to100_PU200_eg', 'PU200', version_V9, 'ele-V9')\n",
    "    ]\n",
    "\n",
    "samples_photons = [\n",
    "    Sample('photon_flat8to150_PU0_tracks', 'PU0', version, 'photon'),\n",
    "    Sample('photon_flat8to150_PU200_tracks', 'PU200', version, 'photon')\n",
    "    ]\n",
    "\n",
    "samples_photons_V9 = [\n",
    "    Sample('photon_flat8to150_PU0_tracks', 'PU0', version_V9, 'photon-V9'),\n",
    "    Sample('photon_flat8to150_PU200_tracks', 'PU200', version_V9, 'photon-V9')\n",
    "    ]\n",
    "\n",
    "samples_pions = [\n",
    "    Sample('pion_flat2to100_PU0_tracks', 'PU0', version, 'pions'),\n",
    "    ]\n",
    "\n",
    "samples_nugus = [\n",
    "    Sample('nugun_alleta_pu0', 'PU0', version, 'mb'),\n",
    "    Sample('nugun_alleta_pu200', 'PU200', version, 'mb')\n",
    "    ]\n",
    "\n",
    "samples_nugunrates = [\n",
    "    Sample('nugun_alleta_pu200_tracks', 'PU200', version, 'mb')\n",
    "    ]\n",
    "\n",
    "\n"
   ]
  },
  {
   "cell_type": "code",
   "execution_count": 5,
   "metadata": {},
   "outputs": [
    {
     "name": "stdout",
     "output_type": "stream",
     "text": [
      "--- EGHistos\n",
      "# of plots: 6465\n",
      "# of primitives: 1293\n",
      "--- EGResoHistos\n",
      "# of plots: 10312\n",
      "# of primitives: 1289\n",
      "--- GenParticleHistos\n",
      "# of plots: 15468\n",
      "# of primitives: 1289\n",
      "--- TPs: \n",
      "['EG', 'EGBRL', 'TkEleEL', 'TkEleELBRL', 'TkEleELALL']\n",
      "--- TP selections:\n",
      "{   'EG': [   'EGq5Pt15',\n",
      "              'EGq5Pt30',\n",
      "              'EGq3Pt20',\n",
      "              'EGq2Pt10',\n",
      "              'EGq5',\n",
      "              'EGq3Pt40',\n",
      "              'EGq4',\n",
      "              'EGq2Pt15',\n",
      "              'EGq5Pt10',\n",
      "              'EGq2Pt20',\n",
      "              'EGq2Pt25',\n",
      "              'EGq3',\n",
      "              'EGq4Pt25',\n",
      "              'EGq5Pt20',\n",
      "              'EGq4Pt10',\n",
      "              'EGq4Pt15',\n",
      "              'EGq2Pt30',\n",
      "              'EGq2',\n",
      "              'EGq3Pt30',\n",
      "              'EGq4Pt30',\n",
      "              'EGq3Pt15',\n",
      "              'EGq4Pt40',\n",
      "              'EGq5Pt25',\n",
      "              'EGq3Pt10',\n",
      "              'EGq3Pt25',\n",
      "              'EGq5Pt40',\n",
      "              'EGq2Pt40',\n",
      "              'EGq4Pt20'],\n",
      "    'EGBRL': [   'Pt10LooseTkID',\n",
      "                 'Pt40',\n",
      "                 'Pt40LooseTkID',\n",
      "                 'Pt20LooseTkID',\n",
      "                 'all',\n",
      "                 'Pt20',\n",
      "                 'Pt25',\n",
      "                 'Pt30LooseTkID',\n",
      "                 'Pt15LooseTkID',\n",
      "                 'Pt30',\n",
      "                 'Pt10',\n",
      "                 'Pt25LooseTkID',\n",
      "                 'Pt15',\n",
      "                 'LooseTkID'],\n",
      "    'TkEleEL': [   'EGq4Pt10',\n",
      "                   'EGq4Pt20',\n",
      "                   'EGq2Iso0p3',\n",
      "                   'EGq5Pt25',\n",
      "                   'EGq3Iso0p1',\n",
      "                   'EGq2',\n",
      "                   'EGq5Iso0p3',\n",
      "                   'EGq5Pt10',\n",
      "                   'EGq2Iso0p2',\n",
      "                   'EGq5Iso0p1',\n",
      "                   'EGq2Pt25',\n",
      "                   'EGq4Pt30',\n",
      "                   'EGq2Pt20',\n",
      "                   'EGq3Pt10',\n",
      "                   'EGq3Pt40',\n",
      "                   'EGq5',\n",
      "                   'EGq5Pt15',\n",
      "                   'EGq3Pt15',\n",
      "                   'EGq5Iso0p2',\n",
      "                   'EGq2Pt30',\n",
      "                   'EGq4Pt15',\n",
      "                   'EGq4Iso0p2',\n",
      "                   'EGq3Pt25',\n",
      "                   'EGq3Iso0p2',\n",
      "                   'EGq2Pt15',\n",
      "                   'EGq5Pt30',\n",
      "                   'EGq2Pt40',\n",
      "                   'EGq4Pt25',\n",
      "                   'EGq4',\n",
      "                   'EGq2Pt10',\n",
      "                   'EGq5Pt20',\n",
      "                   'EGq2Iso0p1',\n",
      "                   'EGq4Iso0p3',\n",
      "                   'EGq3Pt20',\n",
      "                   'EGq3Iso0p3',\n",
      "                   'EGq4Pt40',\n",
      "                   'EGq3Pt30',\n",
      "                   'EGq4Iso0p1',\n",
      "                   'EGq5Pt40',\n",
      "                   'EGq3'],\n",
      "    'TkEleELALL': [   'Pt25',\n",
      "                      'Pt20',\n",
      "                      'Pt40',\n",
      "                      'Pt25Iso0p1',\n",
      "                      'all',\n",
      "                      'Pt30LooseTkID',\n",
      "                      'Pt10LooseTkID',\n",
      "                      'Pt20LooseTkID',\n",
      "                      'Pt30',\n",
      "                      'Pt15LooseTkID',\n",
      "                      'Pt40Iso0p1',\n",
      "                      'Pt15',\n",
      "                      'Pt30Iso0p1',\n",
      "                      'Pt25LooseTkID',\n",
      "                      'Pt10Iso0p1',\n",
      "                      'LooseTkID',\n",
      "                      'Iso0p1',\n",
      "                      'Pt10',\n",
      "                      'Pt15Iso0p1',\n",
      "                      'Pt40LooseTkID',\n",
      "                      'Pt20Iso0p1'],\n",
      "    'TkEleELBRL': ['Pt10', 'Pt25', 'Pt40', 'Pt30', 'all', 'Pt15', 'Pt20']}\n",
      "--- GEN selections:\n",
      "{   'EG': [   'GENEtaD',\n",
      "              'GENPt15',\n",
      "              'GENEtaBCD',\n",
      "              'GENPt35',\n",
      "              'GENEtaDE',\n",
      "              'GENPt10to25',\n",
      "              'GENEtaBCPt15',\n",
      "              'GENPt40',\n",
      "              'nomatch',\n",
      "              'GEN',\n",
      "              'GENEtaDPt15',\n",
      "              'GENEtaBCDPt15',\n",
      "              'GENEtaBC',\n",
      "              'GENEtaDEPt15',\n",
      "              'GENPt30'],\n",
      "    'EGBRL': [   'GENPt40',\n",
      "                 'GENPt35',\n",
      "                 'GENPt15',\n",
      "                 'GEN',\n",
      "                 'GENEtaF',\n",
      "                 'GENPt10to25',\n",
      "                 'GENPt30'],\n",
      "    'TkEleEL': [   'GENPt40',\n",
      "                   'GENPt35',\n",
      "                   'GENEtaBCDPt15',\n",
      "                   'GENPt10to25',\n",
      "                   'GENPt15',\n",
      "                   'GENPt30',\n",
      "                   'GEN',\n",
      "                   'GENEtaBC',\n",
      "                   'GENEtaBCPt15',\n",
      "                   'GENEtaBCD'],\n",
      "    'TkEleELALL': [   'GENEtaBCD',\n",
      "                      'GENEtaD',\n",
      "                      'GENPt10to25',\n",
      "                      'GENPt30',\n",
      "                      'GENPt15',\n",
      "                      'GEN',\n",
      "                      'GENEtaF',\n",
      "                      'GENEtaBC',\n",
      "                      'GENPt40',\n",
      "                      'GENPt35'],\n",
      "    'TkEleELBRL': [   'GEN',\n",
      "                      'GENPt30',\n",
      "                      'GENPt15',\n",
      "                      'GENEtaF',\n",
      "                      'GENPt10to25',\n",
      "                      'GENPt40',\n",
      "                      'GENPt35']}\n"
     ]
    }
   ],
   "source": [
    "# %load python/settings.py\n",
    "\n",
    "# === samples =====================================================\n",
    "import pprint\n",
    "import python.plotters_config as plotters\n",
    "\n",
    "\n",
    "\n",
    "samples = []\n",
    "\n",
    "# samples += samples_nugunrates\n",
    "# samples += samples_nugunrates_V8\n",
    "samples += samples_ele_V9\n",
    "\n",
    "for smp in samples:\n",
    "    smp.open_file()\n",
    "\n",
    "\n",
    "sample = 'ele-V9'\n",
    "\n",
    "# === TP ==========================================================\n",
    "tps = [\n",
    "       'EG',\n",
    "       'EGBRL',\n",
    "#        'TkEle',\n",
    "       'TkEleEL',\n",
    "#        'TkEleBRL',\n",
    "       'TkEleELBRL',\n",
    "#        'TkEleALL',\n",
    "       'TkEleELALL'\n",
    "]\n",
    "\n",
    "# === Load the Histo Primitives ====================================\n",
    "histo_primitives = samples[0].build_file_primitive_index()\n",
    "# samples[0].print_file_primitive_index()\n",
    "\n",
    "\n",
    "# print histo_primitives.data.unique()\n",
    "# === TP selections ================================================\n",
    "tp_select = {}\n",
    "\n",
    "for tp in tps:\n",
    "    tp_select[tp] = histo_primitives[histo_primitives.tp == tp].tp_sel.unique().tolist()\n",
    "\n",
    "# ==== GEN selections ===============================================\n",
    "gen_select ={}\n",
    "for tp in tps:\n",
    "    gen_select[tp] = histo_primitives[histo_primitives.tp == tp].gen_sel.unique().tolist()\n",
    "\n",
    "\n",
    "import pprint\n",
    "pp = pprint.PrettyPrinter(indent=4)\n",
    "print '--- TPs: '\n",
    "pp.pprint(tps)\n",
    "print '--- TP selections:'\n",
    "pp.pprint(tp_select)\n",
    "print '--- GEN selections:'\n",
    "pp.pprint(gen_select)\n"
   ]
  },
  {
   "cell_type": "code",
   "execution_count": 6,
   "metadata": {},
   "outputs": [],
   "source": [
    "import python.collections as collections\n",
    "import python.selections as selections\n",
    "\n",
    "labels_dict = {}\n",
    "\n",
    "evm = collections.EventManager()\n",
    "labels_dict.update(evm.get_labels())\n",
    "selm = selections.SelectionManager()\n",
    "labels_dict.update(selm.get_labels())\n",
    "\n",
    "\n",
    "\n",
    "\n",
    "# #  ==== labels ===============================================\n",
    "# tp_labels = histo_primitives[['data', 'data_label']].drop_duplicates().set_index('data').T.to_dict('records')[0]\n",
    "# tp_selection_labels = histo_primitives[['data_sel', 'data_sel_label']].drop_duplicates().set_index('data_sel').T.to_dict('records')[0]\n",
    "# gen_selection_labels = histo_primitives[['gen_sel', 'gen_sel_label']].drop_duplicates().set_index('gen_sel').T.to_dict('records')[0]\n",
    "\n",
    "\n",
    "\n",
    "\n"
   ]
  },
  {
   "cell_type": "code",
   "execution_count": 7,
   "metadata": {},
   "outputs": [
    {
     "name": "stdout",
     "output_type": "stream",
     "text": [
      "TP: EG\n",
      "['EGq5Pt15' 'EGq5Pt30' 'EGq3Pt20' 'EGq2Pt10' 'EGq5' 'EGq3Pt40' 'EGq4'\n",
      " 'EGq2Pt15' 'EGq5Pt10' 'EGq2Pt20' 'EGq2Pt25' 'EGq3' 'EGq4Pt25' 'EGq5Pt20'\n",
      " 'EGq4Pt10' 'EGq4Pt15' 'EGq2Pt30' 'EGq2' 'EGq3Pt30' 'EGq4Pt30' 'EGq3Pt15'\n",
      " 'EGq4Pt40' 'EGq5Pt25' 'EGq3Pt10' 'EGq3Pt25' 'EGq5Pt40' 'EGq2Pt40'\n",
      " 'EGq4Pt20']\n",
      "['GENEtaD' 'GENPt15' 'GENEtaBCD' 'GENPt35' 'GENEtaDE' 'GENPt10to25'\n",
      " 'GENEtaBCPt15' 'GENPt40' 'nomatch' 'GEN' 'GENEtaDPt15' 'GENEtaBCDPt15'\n",
      " 'GENEtaBC' 'GENEtaDEPt15' 'GENPt30']\n",
      "TP: EGBRL\n",
      "['Pt10LooseTkID' 'Pt40' 'Pt40LooseTkID' 'Pt20LooseTkID' 'all' 'Pt20' 'Pt25'\n",
      " 'Pt30LooseTkID' 'Pt15LooseTkID' 'Pt30' 'Pt10' 'Pt25LooseTkID' 'Pt15'\n",
      " 'LooseTkID']\n",
      "['GENPt40' 'GENPt35' 'GENPt15' 'GEN' 'GENEtaF' 'GENPt10to25' 'GENPt30']\n",
      "TP: TkEleEL\n",
      "['EGq4Pt10' 'EGq4Pt20' 'EGq2Iso0p3' 'EGq5Pt25' 'EGq3Iso0p1' 'EGq2'\n",
      " 'EGq5Iso0p3' 'EGq5Pt10' 'EGq2Iso0p2' 'EGq5Iso0p1' 'EGq2Pt25' 'EGq4Pt30'\n",
      " 'EGq2Pt20' 'EGq3Pt10' 'EGq3Pt40' 'EGq5' 'EGq5Pt15' 'EGq3Pt15' 'EGq5Iso0p2'\n",
      " 'EGq2Pt30' 'EGq4Pt15' 'EGq4Iso0p2' 'EGq3Pt25' 'EGq3Iso0p2' 'EGq2Pt15'\n",
      " 'EGq5Pt30' 'EGq2Pt40' 'EGq4Pt25' 'EGq4' 'EGq2Pt10' 'EGq5Pt20' 'EGq2Iso0p1'\n",
      " 'EGq4Iso0p3' 'EGq3Pt20' 'EGq3Iso0p3' 'EGq4Pt40' 'EGq3Pt30' 'EGq4Iso0p1'\n",
      " 'EGq5Pt40' 'EGq3']\n",
      "['GENPt40' 'GENPt35' 'GENEtaBCDPt15' 'GENPt10to25' 'GENPt15' 'GENPt30'\n",
      " 'GEN' 'GENEtaBC' 'GENEtaBCPt15' 'GENEtaBCD']\n",
      "TP: TkEleELBRL\n",
      "['Pt10' 'Pt25' 'Pt40' 'Pt30' 'all' 'Pt15' 'Pt20']\n",
      "['GEN' 'GENPt30' 'GENPt15' 'GENEtaF' 'GENPt10to25' 'GENPt40' 'GENPt35']\n",
      "TP: TkEleELALL\n",
      "['Pt25' 'Pt20' 'Pt40' 'Pt25Iso0p1' 'all' 'Pt30LooseTkID' 'Pt10LooseTkID'\n",
      " 'Pt20LooseTkID' 'Pt30' 'Pt15LooseTkID' 'Pt40Iso0p1' 'Pt15' 'Pt30Iso0p1'\n",
      " 'Pt25LooseTkID' 'Pt10Iso0p1' 'LooseTkID' 'Iso0p1' 'Pt10' 'Pt15Iso0p1'\n",
      " 'Pt40LooseTkID' 'Pt20Iso0p1']\n",
      "['GENEtaBCD' 'GENEtaD' 'GENPt10to25' 'GENPt30' 'GENPt15' 'GEN' 'GENEtaF'\n",
      " 'GENEtaBC' 'GENPt40' 'GENPt35']\n"
     ]
    }
   ],
   "source": [
    "for tp in tps:\n",
    "    print 'TP: {}'.format(tp)\n",
    "    print histo_primitives[histo_primitives.tp == tp].tp_sel.unique()\n",
    "    print histo_primitives[histo_primitives.tp == tp].gen_sel.unique()"
   ]
  },
  {
   "cell_type": "markdown",
   "metadata": {},
   "source": []
  },
  {
   "cell_type": "code",
   "execution_count": 8,
   "metadata": {},
   "outputs": [
    {
     "name": "stdout",
     "output_type": "stream",
     "text": [
      "--- EGHistos\n",
      "# of plots: 6465\n",
      "# of primitives: 1293\n",
      "--- EGResoHistos\n",
      "# of plots: 10312\n",
      "# of primitives: 1289\n",
      "--- GenParticleHistos\n",
      "# of plots: 15468\n",
      "# of primitives: 1289\n",
      "--- EGHistos\n",
      "# of plots: 6465\n",
      "# of primitives: 1293\n",
      "--- EGResoHistos\n",
      "# of plots: 10312\n",
      "# of primitives: 1289\n",
      "--- GenParticleHistos\n",
      "# of plots: 15468\n",
      "# of primitives: 1289\n",
      "CPU times: user 14.6 s, sys: 412 ms, total: 15 s\n",
      "Wall time: 25 s\n"
     ]
    }
   ],
   "source": [
    "%%time\n",
    "\n",
    "import python.l1THistos as histos\n",
    "\n",
    "hplot = HPlot(samples, labels_dict)\n",
    "\n",
    "hplot.create_histo_proxies(histos.HistoSetEff)\n",
    "\n",
    "    \n",
    "# for tp in tps:\n",
    "#     hplot.cache_histo(classtype=histos.HistoSetEff, \n",
    "#                       samples=samples,\n",
    "#                       pus=[],\n",
    "#                       tps=[tp],\n",
    "#                       tp_sels=histo_primitives[histo_primitives.data == tp].data_sel.unique(),\n",
    "#                       gen_sels=gen_select[tp])\n",
    "\n"
   ]
  },
  {
   "cell_type": "code",
   "execution_count": 9,
   "metadata": {},
   "outputs": [
    {
     "name": "stdout",
     "output_type": "stream",
     "text": [
      "['__doc__', '__init__', '__module__', '__repr__', 'build_file_primitive_index', 'build_file_primitive_index_oldStyle', 'histo_file', 'histo_filename', 'label', 'name', 'oldStyle', 'open_file', 'print_file_primitive_index', 'type']\n"
     ]
    },
    {
     "data": {
      "text/plain": [
       "[<Sample ../plots1/histos_ele_flat2to100_PU0_eg_v121.root, ele-V9>,\n",
       " <Sample ../plots1/histos_ele_flat2to100_PU200_eg_v121.root, ele-V9>]"
      ]
     },
     "execution_count": 9,
     "metadata": {},
     "output_type": "execute_result"
    }
   ],
   "source": [
    "print dir(samples[0])\n",
    "# samples[0].histo_file.ls()\n",
    "samples"
   ]
  },
  {
   "cell_type": "code",
   "execution_count": 10,
   "metadata": {},
   "outputs": [
    {
     "name": "stdout",
     "output_type": "stream",
     "text": [
      "[<python.l1THistos.HistoSetEff instance at 0x1182b7d88>]\n"
     ]
    },
    {
     "data": {
      "text/plain": [
       "['__doc__',\n",
       " '__init__',\n",
       " '__module__',\n",
       " 'h_abseta',\n",
       " 'h_energy',\n",
       " 'h_eta',\n",
       " 'h_fBrem',\n",
       " 'h_pt',\n",
       " 'h_reachedEE']"
      ]
     },
     "execution_count": 10,
     "metadata": {},
     "output_type": "execute_result"
    }
   ],
   "source": [
    "hsets, labels, text = hplot.get_histo(histos.HistoSetEff, sample, ['PU200'], 'TkEleEL', 'EGq4Pt20', ['GENEtaBCD'], debug=False)\n",
    "print hsets\n",
    "hsets[0].name\n",
    "hsets[0].name\n",
    "dir(hsets[0].h_eff)"
   ]
  },
  {
   "cell_type": "code",
   "execution_count": 11,
   "metadata": {
    "scrolled": true
   },
   "outputs": [
    {
     "name": "stdout",
     "output_type": "stream",
     "text": [
      "Sample: ele-V9\n",
      "PU: PU0, TP: EG\n",
      "  EGq3Pt10 den -> EGq3\n",
      "  EGq3Pt25 den -> EGq3\n",
      "  EGq3Pt20 den -> EGq3\n",
      "  EGq4Pt25 den -> EGq4\n",
      "  EGq2Pt15 den -> EGq2\n",
      "  EGq5Pt30 den -> EGq5\n",
      "  EGq5Pt10 den -> EGq5\n",
      "  EGq2Pt30 den -> EGq2\n",
      "  EGq5Pt15 den -> EGq5\n",
      "  EGq5Pt40 den -> EGq5\n",
      "  EGq4Pt40 den -> EGq4\n",
      "  EGq3Pt40 den -> EGq3\n",
      "  EGq3Pt30 den -> EGq3\n",
      "  EGq3Pt15 den -> EGq3\n",
      "  EGq4Pt15 den -> EGq4\n",
      "  EGq2Pt20 den -> EGq2\n",
      "  EGq2Pt25 den -> EGq2\n",
      "  EGq5Pt25 den -> EGq5\n",
      "  EGq2Pt10 den -> EGq2\n",
      "  EGq4Pt20 den -> EGq4\n",
      "  EGq4Pt30 den -> EGq4\n",
      "  EGq5Pt20 den -> EGq5\n",
      "  EGq4Pt10 den -> EGq4\n",
      "  EGq2Pt40 den -> EGq2\n",
      "PU: PU0, TP: EGBRL\n",
      "  Pt30LooseTkID den -> all\n",
      "  Pt15 den -> all\n",
      "  Pt10 den -> all\n",
      "  Pt20LooseTkID den -> all\n",
      "  Pt30 den -> all\n",
      "  Pt25LooseTkID den -> all\n",
      "  Pt15LooseTkID den -> all\n",
      "  Pt25 den -> all\n",
      "  Pt40 den -> all\n",
      "  Pt40LooseTkID den -> all\n",
      "  Pt10LooseTkID den -> all\n",
      "  Pt20 den -> all\n",
      "PU: PU0, TP: TkEleEL\n",
      "  EGq2Pt10 den -> EGq2\n",
      "  EGq2Pt40 den -> EGq2\n",
      "  EGq5Pt15 den -> EGq5\n",
      "  EGq5Pt40 den -> EGq5\n",
      "  EGq2Pt30 den -> EGq2\n",
      "  EGq4Pt15 den -> EGq4\n",
      "  EGq5Pt30 den -> EGq5\n",
      "  EGq3Pt10 den -> EGq3\n",
      "  EGq3Pt40 den -> EGq3\n",
      "  EGq2Pt25 den -> EGq2\n",
      "  EGq5Pt10 den -> EGq5\n",
      "  EGq3Pt15 den -> EGq3\n",
      "  EGq5Pt20 den -> EGq5\n",
      "  EGq4Pt25 den -> EGq4\n",
      "  EGq4Pt40 den -> EGq4\n",
      "  EGq4Pt10 den -> EGq4\n",
      "  EGq2Pt15 den -> EGq2\n",
      "  EGq3Pt20 den -> EGq3\n",
      "  EGq3Pt30 den -> EGq3\n",
      "  EGq3Pt25 den -> EGq3\n",
      "  EGq2Pt20 den -> EGq2\n",
      "  EGq4Pt20 den -> EGq4\n",
      "  EGq5Pt25 den -> EGq5\n",
      "  EGq4Pt30 den -> EGq4\n",
      "PU: PU0, TP: TkEleELBRL\n",
      "  Pt20 den -> all\n",
      "  Pt25 den -> all\n",
      "  Pt10 den -> all\n",
      "  Pt30 den -> all\n",
      "  Pt40 den -> all\n",
      "  Pt15 den -> all\n",
      "PU: PU0, TP: TkEleELALL\n",
      "  Pt20Iso0p1 den -> all\n",
      "  Pt10Iso0p1 den -> all\n",
      "  Pt25 den -> all\n",
      "  Pt10LooseTkID den -> all\n",
      "  Pt15Iso0p1 den -> all\n",
      "  Pt40 den -> all\n",
      "  Pt15LooseTkID den -> all\n",
      "  Pt20LooseTkID den -> all\n",
      "  Pt30 den -> all\n",
      "  Pt20 den -> all\n",
      "  Pt30Iso0p1 den -> all\n",
      "  Pt25LooseTkID den -> all\n",
      "  Pt40Iso0p1 den -> all\n",
      "  Pt40LooseTkID den -> all\n",
      "  Pt30LooseTkID den -> all\n",
      "  Pt25Iso0p1 den -> all\n",
      "  Pt10 den -> all\n",
      "  Pt15 den -> all\n",
      "PU: PU200, TP: EG\n",
      "  EGq3Pt10 den -> EGq3\n",
      "  EGq3Pt25 den -> EGq3\n",
      "  EGq3Pt20 den -> EGq3\n",
      "  EGq4Pt25 den -> EGq4\n",
      "  EGq2Pt15 den -> EGq2\n",
      "  EGq5Pt30 den -> EGq5\n",
      "  EGq5Pt10 den -> EGq5\n",
      "  EGq2Pt30 den -> EGq2\n",
      "  EGq5Pt15 den -> EGq5\n",
      "  EGq5Pt40 den -> EGq5\n",
      "  EGq4Pt40 den -> EGq4\n",
      "  EGq3Pt40 den -> EGq3\n",
      "  EGq3Pt30 den -> EGq3\n",
      "  EGq3Pt15 den -> EGq3\n",
      "  EGq4Pt15 den -> EGq4\n",
      "  EGq2Pt20 den -> EGq2\n",
      "  EGq2Pt25 den -> EGq2\n",
      "  EGq5Pt25 den -> EGq5\n",
      "  EGq2Pt10 den -> EGq2\n",
      "  EGq4Pt20 den -> EGq4\n",
      "  EGq4Pt30 den -> EGq4\n",
      "  EGq5Pt20 den -> EGq5\n",
      "  EGq4Pt10 den -> EGq4\n",
      "  EGq2Pt40 den -> EGq2\n",
      "PU: PU200, TP: EGBRL\n",
      "  Pt30LooseTkID den -> all\n",
      "  Pt15 den -> all\n",
      "  Pt10 den -> all\n",
      "  Pt20LooseTkID den -> all\n",
      "  Pt30 den -> all\n",
      "  Pt25LooseTkID den -> all\n",
      "  Pt15LooseTkID den -> all\n",
      "  Pt25 den -> all\n",
      "  Pt40 den -> all\n",
      "  Pt40LooseTkID den -> all\n",
      "  Pt10LooseTkID den -> all\n",
      "  Pt20 den -> all\n",
      "PU: PU200, TP: TkEleEL\n",
      "  EGq2Pt10 den -> EGq2\n",
      "  EGq2Pt40 den -> EGq2\n",
      "  EGq5Pt15 den -> EGq5\n",
      "  EGq5Pt40 den -> EGq5\n",
      "  EGq2Pt30 den -> EGq2\n",
      "  EGq4Pt15 den -> EGq4\n",
      "  EGq5Pt30 den -> EGq5\n",
      "  EGq3Pt10 den -> EGq3\n",
      "  EGq3Pt40 den -> EGq3\n",
      "  EGq2Pt25 den -> EGq2\n",
      "  EGq5Pt10 den -> EGq5\n",
      "  EGq3Pt15 den -> EGq3\n",
      "  EGq5Pt20 den -> EGq5\n",
      "  EGq4Pt25 den -> EGq4\n",
      "  EGq4Pt40 den -> EGq4\n",
      "  EGq4Pt10 den -> EGq4\n",
      "  EGq2Pt15 den -> EGq2\n",
      "  EGq3Pt20 den -> EGq3\n",
      "  EGq3Pt30 den -> EGq3\n",
      "  EGq3Pt25 den -> EGq3\n",
      "  EGq2Pt20 den -> EGq2\n",
      "  EGq4Pt20 den -> EGq4\n",
      "  EGq5Pt25 den -> EGq5\n",
      "  EGq4Pt30 den -> EGq4\n",
      "PU: PU200, TP: TkEleELBRL\n",
      "  Pt20 den -> all\n",
      "  Pt25 den -> all\n",
      "  Pt10 den -> all\n",
      "  Pt30 den -> all\n",
      "  Pt40 den -> all\n",
      "  Pt15 den -> all\n",
      "PU: PU200, TP: TkEleELALL\n",
      "  Pt20Iso0p1 den -> all\n",
      "  Pt10Iso0p1 den -> all\n",
      "  Pt25 den -> all\n",
      "  Pt10LooseTkID den -> all\n",
      "  Pt15Iso0p1 den -> all\n",
      "  Pt40 den -> all\n",
      "  Pt15LooseTkID den -> all\n",
      "  Pt20LooseTkID den -> all\n",
      "  Pt30 den -> all\n",
      "  Pt20 den -> all\n",
      "  Pt30Iso0p1 den -> all\n",
      "  Pt25LooseTkID den -> all\n",
      "  Pt40Iso0p1 den -> all\n",
      "  Pt40LooseTkID den -> all\n",
      "  Pt30LooseTkID den -> all\n",
      "  Pt25Iso0p1 den -> all\n",
      "  Pt10 den -> all\n",
      "  Pt15 den -> all\n",
      "CPU times: user 2min 42s, sys: 18.9 s, total: 3min 1s\n",
      "Wall time: 3min 45s\n"
     ]
    }
   ],
   "source": [
    "%%time\n",
    "\n",
    "for smp in hplot.data['sample'].unique():\n",
    "    print 'Sample: {}'.format(smp)\n",
    "    for pu in hplot.data[(hplot.data['sample'] == smp)].pu.unique():\n",
    "        for tp in tps:\n",
    "#         for tp in ['EG', 'TkEleEL']:\n",
    "            print 'PU: {}, TP: {}'.format(pu, tp)\n",
    "            for tp_sel in hplot.data[(hplot.data['sample'] == smp) & (hplot.data.pu == pu) & (hplot.data.tp == tp)].tp_sel.unique():\n",
    "                if 'Pt' not in tp_sel:\n",
    "                    continue\n",
    "#                 tp_sel_den = 'all'\n",
    "                # print tp_sel\n",
    "                tp_sel_den = tp_sel.split('Pt')[0]\n",
    "                if tp_sel_den == '':\n",
    "                    tp_sel_den = 'all'\n",
    "                print '  {} den -> {}'.format(tp_sel, tp_sel_den) \n",
    "                for gen_sel in hplot.data[(hplot.data['sample'] == smp) & (hplot.data.pu == pu) & (hplot.data.tp == tp) & (hplot.data.tp_sel == tp_sel)].gen_sel.unique():\n",
    "                    if gen_sel == 'nomatch' or 'Pt' in gen_sel:\n",
    "                        continue\n",
    "#                     print gen_sel\n",
    "                    hsetden = hplot.get_histo(histos.HistoSetEff, smp, pu, tp, tp_sel_den, gen_sel)\n",
    "                    hset = hplot.get_histo(histos.HistoSetEff, smp, pu, tp, tp_sel, gen_sel)\n",
    "                    hset[0][0].computeTurnOn(hsetden[0][0].h_num)\n"
   ]
  },
  {
   "cell_type": "code",
   "execution_count": 12,
   "metadata": {},
   "outputs": [
    {
     "data": {
      "text/html": [
       "<div>\n",
       "<style scoped>\n",
       "    .dataframe tbody tr th:only-of-type {\n",
       "        vertical-align: middle;\n",
       "    }\n",
       "\n",
       "    .dataframe tbody tr th {\n",
       "        vertical-align: top;\n",
       "    }\n",
       "\n",
       "    .dataframe thead th {\n",
       "        text-align: right;\n",
       "    }\n",
       "</style>\n",
       "<table border=\"1\" class=\"dataframe\">\n",
       "  <thead>\n",
       "    <tr style=\"text-align: right;\">\n",
       "      <th></th>\n",
       "      <th>sample</th>\n",
       "      <th>pu</th>\n",
       "      <th>tp</th>\n",
       "      <th>tp_sel</th>\n",
       "      <th>gen_sel</th>\n",
       "      <th>classtype</th>\n",
       "      <th>histo</th>\n",
       "    </tr>\n",
       "  </thead>\n",
       "  <tbody>\n",
       "    <tr>\n",
       "      <th>0</th>\n",
       "      <td>ele-V9</td>\n",
       "      <td>PU0</td>\n",
       "      <td>EGALL</td>\n",
       "      <td>Pt40</td>\n",
       "      <td>GENEtaBCD</td>\n",
       "      <td>python.l1THistos.HistoSetEff</td>\n",
       "      <td>&lt;drawingTools.HProxy instance at 0x1147a02d8&gt;</td>\n",
       "    </tr>\n",
       "    <tr>\n",
       "      <th>1</th>\n",
       "      <td>ele-V9</td>\n",
       "      <td>PU0</td>\n",
       "      <td>EG</td>\n",
       "      <td>EGq3Pt10</td>\n",
       "      <td>GENEtaBCD</td>\n",
       "      <td>python.l1THistos.HistoSetEff</td>\n",
       "      <td>&lt;drawingTools.HProxy instance at 0x1182bc290&gt;</td>\n",
       "    </tr>\n",
       "    <tr>\n",
       "      <th>2</th>\n",
       "      <td>ele-V9</td>\n",
       "      <td>PU0</td>\n",
       "      <td>EGALL</td>\n",
       "      <td>all</td>\n",
       "      <td>GEN</td>\n",
       "      <td>python.l1THistos.HistoSetEff</td>\n",
       "      <td>&lt;drawingTools.HProxy instance at 0x11c50bef0&gt;</td>\n",
       "    </tr>\n",
       "    <tr>\n",
       "      <th>3</th>\n",
       "      <td>ele-V9</td>\n",
       "      <td>PU0</td>\n",
       "      <td>TkEleEL</td>\n",
       "      <td>EGq4Iso0p2</td>\n",
       "      <td>GENEtaBC</td>\n",
       "      <td>python.l1THistos.HistoSetEff</td>\n",
       "      <td>&lt;drawingTools.HProxy instance at 0x1182bc0e0&gt;</td>\n",
       "    </tr>\n",
       "    <tr>\n",
       "      <th>4</th>\n",
       "      <td>ele-V9</td>\n",
       "      <td>PU0</td>\n",
       "      <td>TkEleEL</td>\n",
       "      <td>EGq2Pt10</td>\n",
       "      <td>GENEtaBCDPt15</td>\n",
       "      <td>python.l1THistos.HistoSetEff</td>\n",
       "      <td>&lt;drawingTools.HProxy instance at 0x11c423d88&gt;</td>\n",
       "    </tr>\n",
       "    <tr>\n",
       "      <th>5</th>\n",
       "      <td>ele-V9</td>\n",
       "      <td>PU0</td>\n",
       "      <td>EG</td>\n",
       "      <td>EGq3Pt25</td>\n",
       "      <td>GENPt30</td>\n",
       "      <td>python.l1THistos.HistoSetEff</td>\n",
       "      <td>&lt;drawingTools.HProxy instance at 0x118297200&gt;</td>\n",
       "    </tr>\n",
       "    <tr>\n",
       "      <th>6</th>\n",
       "      <td>ele-V9</td>\n",
       "      <td>PU0</td>\n",
       "      <td>TkEleEL</td>\n",
       "      <td>EGq5Iso0p3</td>\n",
       "      <td>GENEtaBCDPt15</td>\n",
       "      <td>python.l1THistos.HistoSetEff</td>\n",
       "      <td>&lt;drawingTools.HProxy instance at 0x105534950&gt;</td>\n",
       "    </tr>\n",
       "    <tr>\n",
       "      <th>7</th>\n",
       "      <td>ele-V9</td>\n",
       "      <td>PU0</td>\n",
       "      <td>TkEleEL</td>\n",
       "      <td>EGq2Pt40</td>\n",
       "      <td>GENEtaBCPt15</td>\n",
       "      <td>python.l1THistos.HistoSetEff</td>\n",
       "      <td>&lt;drawingTools.HProxy instance at 0x11c423998&gt;</td>\n",
       "    </tr>\n",
       "    <tr>\n",
       "      <th>8</th>\n",
       "      <td>ele-V9</td>\n",
       "      <td>PU0</td>\n",
       "      <td>TkEleEL</td>\n",
       "      <td>EGq5Pt15</td>\n",
       "      <td>GENPt15</td>\n",
       "      <td>python.l1THistos.HistoSetEff</td>\n",
       "      <td>&lt;drawingTools.HProxy instance at 0x11c50b7e8&gt;</td>\n",
       "    </tr>\n",
       "    <tr>\n",
       "      <th>9</th>\n",
       "      <td>ele-V9</td>\n",
       "      <td>PU0</td>\n",
       "      <td>TkEleELALL</td>\n",
       "      <td>Pt20Iso0p1</td>\n",
       "      <td>GENPt10to25</td>\n",
       "      <td>python.l1THistos.HistoSetEff</td>\n",
       "      <td>&lt;drawingTools.HProxy instance at 0x1147ee680&gt;</td>\n",
       "    </tr>\n",
       "  </tbody>\n",
       "</table>\n",
       "</div>"
      ],
      "text/plain": [
       "   sample   pu          tp      tp_sel        gen_sel  \\\n",
       "0  ele-V9  PU0       EGALL        Pt40      GENEtaBCD   \n",
       "1  ele-V9  PU0          EG    EGq3Pt10      GENEtaBCD   \n",
       "2  ele-V9  PU0       EGALL         all            GEN   \n",
       "3  ele-V9  PU0     TkEleEL  EGq4Iso0p2       GENEtaBC   \n",
       "4  ele-V9  PU0     TkEleEL    EGq2Pt10  GENEtaBCDPt15   \n",
       "5  ele-V9  PU0          EG    EGq3Pt25        GENPt30   \n",
       "6  ele-V9  PU0     TkEleEL  EGq5Iso0p3  GENEtaBCDPt15   \n",
       "7  ele-V9  PU0     TkEleEL    EGq2Pt40   GENEtaBCPt15   \n",
       "8  ele-V9  PU0     TkEleEL    EGq5Pt15        GENPt15   \n",
       "9  ele-V9  PU0  TkEleELALL  Pt20Iso0p1    GENPt10to25   \n",
       "\n",
       "                      classtype                                          histo  \n",
       "0  python.l1THistos.HistoSetEff  <drawingTools.HProxy instance at 0x1147a02d8>  \n",
       "1  python.l1THistos.HistoSetEff  <drawingTools.HProxy instance at 0x1182bc290>  \n",
       "2  python.l1THistos.HistoSetEff  <drawingTools.HProxy instance at 0x11c50bef0>  \n",
       "3  python.l1THistos.HistoSetEff  <drawingTools.HProxy instance at 0x1182bc0e0>  \n",
       "4  python.l1THistos.HistoSetEff  <drawingTools.HProxy instance at 0x11c423d88>  \n",
       "5  python.l1THistos.HistoSetEff  <drawingTools.HProxy instance at 0x118297200>  \n",
       "6  python.l1THistos.HistoSetEff  <drawingTools.HProxy instance at 0x105534950>  \n",
       "7  python.l1THistos.HistoSetEff  <drawingTools.HProxy instance at 0x11c423998>  \n",
       "8  python.l1THistos.HistoSetEff  <drawingTools.HProxy instance at 0x11c50b7e8>  \n",
       "9  python.l1THistos.HistoSetEff  <drawingTools.HProxy instance at 0x1147ee680>  "
      ]
     },
     "execution_count": 12,
     "metadata": {},
     "output_type": "execute_result"
    }
   ],
   "source": [
    "hplot.data[:10]"
   ]
  },
  {
   "cell_type": "code",
   "execution_count": 13,
   "metadata": {},
   "outputs": [
    {
     "data": {
      "text/plain": [
       "array(['ele-V9'], dtype=object)"
      ]
     },
     "execution_count": 13,
     "metadata": {},
     "output_type": "execute_result"
    }
   ],
   "source": [
    "hplot.data['sample'].unique()"
   ]
  },
  {
   "cell_type": "code",
   "execution_count": 14,
   "metadata": {},
   "outputs": [
    {
     "data": {
      "text/plain": [
       "array(['EGALL', 'EG', 'TkEleEL', 'TkEleELALL', 'EGBRL', 'TkEleELBRL'], dtype=object)"
      ]
     },
     "execution_count": 14,
     "metadata": {},
     "output_type": "execute_result"
    }
   ],
   "source": [
    "hplot.data['tp'].unique()"
   ]
  },
  {
   "cell_type": "code",
   "execution_count": 15,
   "metadata": {},
   "outputs": [
    {
     "data": {
      "text/plain": [
       "array([], dtype=object)"
      ]
     },
     "execution_count": 15,
     "metadata": {},
     "output_type": "execute_result"
    }
   ],
   "source": [
    "hplot.data[hplot.data.tp == 'L1TrkEmu'].tp_sel.unique()"
   ]
  },
  {
   "cell_type": "code",
   "execution_count": 16,
   "metadata": {},
   "outputs": [
    {
     "data": {
      "text/plain": [
       "array(['EGq4Iso0p2', 'EGq2Pt10', 'EGq5Iso0p3', 'EGq2Pt40', 'EGq5Pt15',\n",
       "       'EGq5Pt40', 'EGq2Pt30', 'EGq4Pt15', 'EGq5Pt30', 'EGq3Pt10',\n",
       "       'EGq4Iso0p3', 'EGq4', 'EGq3Iso0p2', 'EGq3Pt40', 'EGq5Iso0p2',\n",
       "       'EGq2Pt25', 'EGq3Iso0p3', 'EGq2Iso0p2', 'EGq5Pt10', 'EGq2Iso0p1',\n",
       "       'EGq3Pt15', 'EGq3Iso0p1', 'EGq5Pt20', 'EGq4Pt25', 'EGq4Pt40',\n",
       "       'EGq5', 'EGq4Pt10', 'EGq4Iso0p1', 'EGq5Iso0p1', 'EGq2Pt15',\n",
       "       'EGq3Pt20', 'EGq3Pt30', 'EGq3Pt25', 'EGq2Pt20', 'EGq2', 'EGq4Pt20',\n",
       "       'EGq3', 'EGq5Pt25', 'EGq2Iso0p3', 'EGq4Pt30'], dtype=object)"
      ]
     },
     "execution_count": 16,
     "metadata": {},
     "output_type": "execute_result"
    }
   ],
   "source": [
    "hplot.data[hplot.data.tp == 'TkEleEL'].tp_sel.unique()"
   ]
  },
  {
   "cell_type": "code",
   "execution_count": 17,
   "metadata": {},
   "outputs": [],
   "source": [
    "# sample='ele'"
   ]
  },
  {
   "cell_type": "code",
   "execution_count": 18,
   "metadata": {},
   "outputs": [
    {
     "name": "stdout",
     "output_type": "stream",
     "text": [
      "[<python.l1THistos.HistoSetEff instance at 0x11c80c7e8>]\n",
      "['__doc__', '__init__', '__module__', 'h_abseta', 'h_energy', 'h_eta', 'h_fBrem', 'h_pt', 'h_reachedEE']\n"
     ]
    }
   ],
   "source": [
    "hsets, labels, text = hplot.get_histo(histos.HistoSetEff, sample, ['PU200'], 'EG', 'EGq5Pt25', ['GENEtaBC'], debug=False)\n",
    "print hsets\n",
    "hsets[0].name\n",
    "print dir(hsets[0].h_eff)\n"
   ]
  },
  {
   "cell_type": "markdown",
   "metadata": {},
   "source": [
    "## Effinciency vs $\\eta$"
   ]
  },
  {
   "cell_type": "code",
   "execution_count": 19,
   "metadata": {},
   "outputs": [
    {
     "data": {
      "text/plain": [
       "['__doc__',\n",
       " '__init__',\n",
       " '__module__',\n",
       " 'create_histo_proxies',\n",
       " 'data',\n",
       " 'get_histo',\n",
       " 'labels_dict',\n",
       " 'samples_']"
      ]
     },
     "execution_count": 19,
     "metadata": {},
     "output_type": "execute_result"
    }
   ],
   "source": [
    "dir(hplot)\n"
   ]
  },
  {
   "cell_type": "code",
   "execution_count": null,
   "metadata": {},
   "outputs": [],
   "source": [
    "# newconfig=tdr_config\n",
    "# newconfig.legend_size=(0.5, 0.2)\n",
    "# newconfig.legend_position=(0.4, 0.2)\n",
    "\n",
    "# dm = DrawMachine(newconfig)\n",
    "# hsets, labels, text = hplot.get_histo(histos.HistoSetEff, ['ele-V9'], ['PU200'], ['EG'], 'EGq5Pt25', 'GENPt30', debug=False)\n",
    "# dm.addHistos([his.h_eff.h_abseta.CreateGraph() for his in hsets], ['EG calo-only'])\n",
    "\n",
    "# # hsets, labels, text = hplot.get_histo(histos.HistoSetEff, ['hybrid'], ['PU200'], ['L1Trk', ], ['Pt10'], 'GENPt30', debug=False)\n",
    "# # dm.addHistos([his.h_eff.h_abseta.CreateGraph() for his in hsets], ['L1 tracks (p_{T} > 10 GeV)'])\n",
    "# hsets, labels, text = hplot.get_histo(histos.HistoSetEff, ['ele-V9'], ['PU200'], ['TkEle', 'TkEleEL'], 'EGq5Pt25', 'GENPt30', debug=False)\n",
    "# dm.addHistos([his.h_eff.h_abseta.CreateGraph() for his in hsets], ['EG track-match', 'EG track-match (Elliptic cut)'])\n",
    "\n",
    "\n",
    "# dm.draw(text='EG endcap, p_{T}^{GEN}>25GeV', x_min=1.5, x_max=3.2, y_min=0.5, y_max=1.1, v_lines=[1.52, 2.4])\n",
    "# dm.write(name='egEndcap_matchingEffBreakdown')"
   ]
  },
  {
   "cell_type": "code",
   "execution_count": 20,
   "metadata": {},
   "outputs": [
    {
     "data": {
      "text/plain": [
       "<drawingTools.DrawMachine at 0x1072c5f50>"
      ]
     },
     "execution_count": 20,
     "metadata": {},
     "output_type": "execute_result"
    },
    {
     "data": {
      "text/html": [
       "\n",
       "<div id=\"root_plot_1\"\n",
       "     style=\"width: 796px; height: 572px\">\n",
       "</div>\n",
       "\n",
       "<script>\n",
       " requirejs.config({\n",
       "     paths: {\n",
       "       'JSRootCore' : 'https://root.cern.ch/js/notebook//scripts/JSRootCore',\n",
       "     }\n",
       "   });\n",
       " require(['JSRootCore'],\n",
       "     function(Core) {\n",
       "       var obj = Core.JSONR_unref({\"_typename\":\"TCanvas\",\"fUniqueID\":0,\"fBits\":53673992,\"fLineColor\":1,\"fLineStyle\":1,\"fLineWidth\":1,\"fFillColor\":0,\"fFillStyle\":1001,\"fLeftMargin\":0.13,\"fRightMargin\":0.3,\"fBottomMargin\":0.13,\"fTopMargin\":0.1,\"fXfile\":2,\"fYfile\":2,\"fAfile\":1,\"fXstat\":0.99,\"fYstat\":0.99,\"fAstat\":2,\"fFrameFillColor\":0,\"fFrameLineColor\":1,\"fFrameFillStyle\":1001,\"fFrameLineStyle\":1,\"fFrameLineWidth\":1,\"fFrameBorderSize\":1,\"fFrameBorderMode\":0,\"fX1\":0.764736853332731,\"fY1\":-0.185714283502611,\"fX2\":4.34368426666366,\"fY2\":1.24285714852456,\"fXtoAbsPixelk\":-170.086420951052,\"fXtoPixelk\":-170.086420951052,\"fXtoPixel\":222.411761914983,\"fYtoAbsPixelk\":497.640051065433,\"fYtoPixelk\":497.640051065433,\"fYtoPixel\":-400.399999031424,\"fUtoAbsPixelk\":5e-5,\"fUtoPixelk\":5e-5,\"fUtoPixel\":796,\"fVtoAbsPixelk\":572.00005,\"fVtoPixelk\":572,\"fVtoPixel\":-572,\"fAbsPixeltoXk\":0.764736853332731,\"fPixeltoXk\":0.764736853332731,\"fPixeltoX\":0.00449616509212428,\"fAbsPixeltoYk\":1.24285714852456,\"fPixeltoYk\":-0.185714283502611,\"fPixeltoY\":-0.00249750250354401,\"fXlowNDC\":0,\"fYlowNDC\":0,\"fXUpNDC\":0,\"fYUpNDC\":0,\"fWNDC\":1,\"fHNDC\":1,\"fAbsXlowNDC\":0,\"fAbsYlowNDC\":0,\"fAbsWNDC\":1,\"fAbsHNDC\":1,\"fUxmin\":1.23,\"fUymin\":0,\"fUxmax\":3.27,\"fUymax\":1.1,\"fTheta\":30,\"fPhi\":30,\"fAspectRatio\":0,\"fNumber\":0,\"fTickx\":0,\"fTicky\":0,\"fLogx\":0,\"fLogy\":0,\"fLogz\":0,\"fPadPaint\":0,\"fCrosshair\":0,\"fCrosshairPos\":0,\"fBorderSize\":2,\"fBorderMode\":0,\"fModified\":false,\"fGridx\":false,\"fGridy\":false,\"fAbsCoord\":false,\"fEditable\":true,\"fFixedAspectRatio\":false,\"fPrimitives\":{\"_typename\":\"TList\",\"name\":\"TList\",\"arr\":[{\"_typename\":\"TFrame\",\"fUniqueID\":0,\"fBits\":50331656,\"fLineColor\":1,\"fLineStyle\":1,\"fLineWidth\":1,\"fFillColor\":0,\"fFillStyle\":1001,\"fX1\":1.23,\"fY1\":0,\"fX2\":3.27,\"fY2\":1.1,\"fBorderSize\":1,\"fBorderMode\":0},{\"_typename\":\"TGraphAsymmErrors\",\"fUniqueID\":0,\"fBits\":50332680,\"fName\":\"7b94da\",\"fTitle\":\"; |#eta^{GEN}|;\",\"fLineColor\":1,\"fLineStyle\":1,\"fLineWidth\":1,\"fFillColor\":0,\"fFillStyle\":1001,\"fMarkerColor\":1,\"fMarkerStyle\":8,\"fMarkerSize\":0.5,\"fNpoints\":17,\"fX\":[1.45,1.55,1.65,1.75,1.85,1.95,2.05,2.15,2.25,2.35,2.45,2.55,2.65,2.75,2.85,2.95,3.05],\"fY\":[0.0012666244458518,0.695126419934042,0.86583522297808,0.864394488759971,0.87956487956488,0.864432597105864,0.878280715100799,0.857254290171607,0.852789869410368,0.815758526068209,0.290361445783133,0.00164338537387017,0,0,0,0,0],\"fFunctions\":{\"_typename\":\"TList\",\"name\":\"TList\",\"arr\":[],\"opt\":[]},\"fHistogram\":{\"_typename\":\"TH1F\",\"fUniqueID\":0,\"fBits\":50332160,\"fName\":\"7b94da\",\"fTitle\":\"\",\"fLineColor\":602,\"fLineStyle\":1,\"fLineWidth\":1,\"fFillColor\":0,\"fFillStyle\":1001,\"fMarkerColor\":1,\"fMarkerStyle\":1,\"fMarkerSize\":1,\"fNcells\":102,\"fXaxis\":{\"_typename\":\"TAxis\",\"fUniqueID\":0,\"fBits\":50331656,\"fName\":\"xaxis\",\"fTitle\":\" |#eta^{GEN}|\",\"fNdivisions\":510,\"fAxisColor\":1,\"fLabelColor\":1,\"fLabelFont\":42,\"fLabelOffset\":0.005,\"fLabelSize\":0.035,\"fTickLength\":0.03,\"fTitleOffset\":1.4,\"fTitleSize\":0.035,\"fTitleColor\":1,\"fTitleFont\":42,\"fNbins\":100,\"fXmin\":1.23,\"fXmax\":3.27,\"fXbins\":[],\"fFirst\":0,\"fLast\":0,\"fBits2\":0,\"fTimeDisplay\":false,\"fTimeFormat\":\"\",\"fLabels\":null,\"fModLabs\":null},\"fYaxis\":{\"_typename\":\"TAxis\",\"fUniqueID\":0,\"fBits\":50331656,\"fName\":\"yaxis\",\"fTitle\":\"\",\"fNdivisions\":510,\"fAxisColor\":1,\"fLabelColor\":1,\"fLabelFont\":42,\"fLabelOffset\":0.005,\"fLabelSize\":0.035,\"fTickLength\":0.03,\"fTitleOffset\":0,\"fTitleSize\":0.035,\"fTitleColor\":1,\"fTitleFont\":42,\"fNbins\":1,\"fXmin\":0,\"fXmax\":0.974624401832365,\"fXbins\":[],\"fFirst\":0,\"fLast\":0,\"fBits2\":0,\"fTimeDisplay\":false,\"fTimeFormat\":\"\",\"fLabels\":null,\"fModLabs\":null},\"fZaxis\":{\"_typename\":\"TAxis\",\"fUniqueID\":0,\"fBits\":50331648,\"fName\":\"zaxis\",\"fTitle\":\"\",\"fNdivisions\":510,\"fAxisColor\":1,\"fLabelColor\":1,\"fLabelFont\":42,\"fLabelOffset\":0.005,\"fLabelSize\":0.035,\"fTickLength\":0.03,\"fTitleOffset\":1,\"fTitleSize\":0.035,\"fTitleColor\":1,\"fTitleFont\":42,\"fNbins\":1,\"fXmin\":0,\"fXmax\":1,\"fXbins\":[],\"fFirst\":0,\"fLast\":0,\"fBits2\":0,\"fTimeDisplay\":false,\"fTimeFormat\":\"\",\"fLabels\":null,\"fModLabs\":null},\"fBarOffset\":0,\"fBarWidth\":1000,\"fEntries\":0,\"fTsumw\":0,\"fTsumw2\":0,\"fTsumwx\":0,\"fTsumwx2\":0,\"fMaximum\":1.1,\"fMinimum\":0,\"fNormFactor\":0,\"fContour\":[],\"fSumw2\":[],\"fOption\":\"\",\"fFunctions\":{\"_typename\":\"TList\",\"name\":\"TList\",\"arr\":[],\"opt\":[]},\"fBufferSize\":0,\"fBuffer\":[],\"fBinStatErrOpt\":0,\"fStatOverflows\":2,\"fArray\":[0,0,0,0,0,0,0,0,0,0,0,0,0,0,0,0,0,0,0,0,0,0,0,0,0,0,0,0,0,0,0,0,0,0,0,0,0,0,0,0,0,0,0,0,0,0,0,0,0,0,0,0,0,0,0,0,0,0,0,0,0,0,0,0,0,0,0,0,0,0,0,0,0,0,0,0,0,0,0,0,0,0,0,0,0,0,0,0,0,0,0,0,0,0,0,0,0,0,0,0,0,0]},\"fMinimum\":-1111,\"fMaximum\":-1111,\"fEXlow\":[0.05,0.05,0.05,0.05,0.05,0.05,0.0499999999999998,0.0499999999999998,0.0499999999999998,0.0499999999999998,0.0499999999999998,0.0499999999999998,0.0499999999999998,0.0499999999999998,0.0499999999999998,0.0499999999999998,0.0499999999999998],\"fEXhigh\":[0.05,0.05,0.05,0.05,0.05,0.05,0.0500000000000002,0.0500000000000002,0.0500000000000002,0.0500000000000002,0.0500000000000002,0.0500000000000002,0.0500000000000002,0.0500000000000002,0.0500000000000002,0.0500000000000002,0.0500000000000002],\"fEYlow\":[8.18080482788381e-4,0.00906701522645048,0.00695662891638016,0.00683595174058516,0.00676109121291346,0.00701301997391068,0.006714903945366,0.00724615369679793,0.00738915152336495,0.00799771715142605,0.00920991993277176,7.86338202947952e-4,0,0,0,0,0],\"fEYhigh\":[0.00166813608953263,0.00892107213831816,0.00667228354077665,0.00656441317504253,0.0064573039190885,0.0067276127472814,0.00641860799334382,0.00695968116562085,0.00710216138091047,0.00774389691316768,0.00938197967661619,0.00129749384450676,7.36137575693496e-4,7.58270935378779e-4,7.91183686926042e-4,7.76500748997812e-4,8.33071384004181e-4]},{\"_typename\":\"TLatex\",\"fUniqueID\":0,\"fBits\":50348040,\"fName\":\"\",\"fTitle\":\"PU200, TkEle Ell. match, hwQual 5, p_{T}^{L1}>=10GeV, p_{T}^{GEN}>=15GeV\",\"fTextAngle\":0,\"fTextSize\":0.03,\"fTextAlign\":11,\"fTextColor\":1,\"fTextFont\":62,\"fX\":0.15,\"fY\":0.85,\"fLineColor\":1,\"fLineStyle\":1,\"fLineWidth\":2,\"fLimitFactorSize\":3,\"fOriginSize\":0.04},{\"_typename\":\"TLatex\",\"fUniqueID\":0,\"fBits\":50331656,\"fName\":\"\",\"fTitle\":\"\",\"fTextAngle\":0,\"fTextSize\":0.03,\"fTextAlign\":11,\"fTextColor\":1,\"fTextFont\":62,\"fX\":0,\"fY\":0,\"fLineColor\":1,\"fLineStyle\":1,\"fLineWidth\":2,\"fLimitFactorSize\":3,\"fOriginSize\":0.04},{\"_typename\":\"TLine\",\"fUniqueID\":0,\"fBits\":50331656,\"fLineColor\":1,\"fLineStyle\":2,\"fLineWidth\":1,\"fX1\":-2.8,\"fY1\":0,\"fX2\":-2.8,\"fY2\":1.1},{\"_typename\":\"TLine\",\"fUniqueID\":0,\"fBits\":50331656,\"fLineColor\":1,\"fLineStyle\":2,\"fLineWidth\":1,\"fX1\":-2.4,\"fY1\":0,\"fX2\":-2.4,\"fY2\":1.1},{\"_typename\":\"TLine\",\"fUniqueID\":0,\"fBits\":50331656,\"fLineColor\":1,\"fLineStyle\":2,\"fLineWidth\":1,\"fX1\":-1.7,\"fY1\":0,\"fX2\":-1.7,\"fY2\":1.1},{\"_typename\":\"TLine\",\"fUniqueID\":0,\"fBits\":50331656,\"fLineColor\":1,\"fLineStyle\":2,\"fLineWidth\":1,\"fX1\":-1.52,\"fY1\":0,\"fX2\":-1.52,\"fY2\":1.1},{\"_typename\":\"TLine\",\"fUniqueID\":0,\"fBits\":50331656,\"fLineColor\":1,\"fLineStyle\":2,\"fLineWidth\":1,\"fX1\":1.52,\"fY1\":0,\"fX2\":1.52,\"fY2\":1.1},{\"_typename\":\"TLine\",\"fUniqueID\":0,\"fBits\":50331656,\"fLineColor\":1,\"fLineStyle\":2,\"fLineWidth\":1,\"fX1\":1.7,\"fY1\":0,\"fX2\":1.7,\"fY2\":1.1},{\"_typename\":\"TLine\",\"fUniqueID\":0,\"fBits\":50331656,\"fLineColor\":1,\"fLineStyle\":2,\"fLineWidth\":1,\"fX1\":2.4,\"fY1\":0,\"fX2\":2.4,\"fY2\":1.1},{\"_typename\":\"TLine\",\"fUniqueID\":0,\"fBits\":50331656,\"fLineColor\":1,\"fLineStyle\":2,\"fLineWidth\":1,\"fX1\":2.8,\"fY1\":0,\"fX2\":2.8,\"fY2\":1.1}],\"opt\":[\"\",\"pa\",\"same\",\"same\",\"same\",\"same\",\"same\",\"same\",\"same\",\"same\",\"same\",\"same\"]},\"fExecs\":null,\"fName\":\"c_295455\",\"fTitle\":\"c_295455\",\"fNumPaletteColor\":0,\"fNextPaletteColor\":0,\"fDISPLAY\":\"$DISPLAY\",\"fDoubleBuffer\":0,\"fRetained\":true,\"fXsizeUser\":0,\"fYsizeUser\":0,\"fXsizeReal\":20,\"fYsizeReal\":15,\"fWindowTopX\":0,\"fWindowTopY\":0,\"fWindowWidth\":0,\"fWindowHeight\":0,\"fCw\":796,\"fCh\":572,\"fCatt\":{\"_typename\":\"TAttCanvas\",\"fXBetween\":2,\"fYBetween\":2,\"fTitleFromTop\":1.2,\"fXdate\":0.2,\"fYdate\":0.3,\"fAdate\":1},\"kMoveOpaque\":true,\"kResizeOpaque\":true,\"fHighLightColor\":2,\"fBatch\":true,\"kShowEventStatus\":false,\"kAutoExec\":true,\"kMenuBar\":true});\n",
       "       Core.draw(\"root_plot_1\", obj, \"\");\n",
       "     }\n",
       " );\n",
       "</script>\n"
      ],
      "text/plain": [
       "<IPython.core.display.HTML object>"
      ]
     },
     "metadata": {},
     "output_type": "display_data"
    }
   ],
   "source": [
    "hsets, labels, text = hplot.get_histo(histos.HistoSetEff, ['ele-V9'], ['PU200'], ['TkEleEL'], 'EGq5Pt10', 'GENPt15', debug=False)\n",
    "draw([his.h_eff.h_abseta.CreateGraph() for his in hsets], labels, text=text, min_y=0, max_y=1.1, v_lines=[-2.8, -2.4, -1.7, -1.52, 1.52, 1.7, 2.4, 2.8])\n"
   ]
  },
  {
   "cell_type": "code",
   "execution_count": null,
   "metadata": {
    "scrolled": false
   },
   "outputs": [],
   "source": [
    "# for tp in tps:\n",
    "#     for tp_sel in tp_select[tp]:\n",
    "#         for gen_sel in ['GEN']:\n",
    "#             hsets, labels, text = hplot.get_histo(histos.HistoSetEff, ['hybrid', 'ele-V9'], ['PU200'], tp, tp_sel, gen_sel, debug=False)\n",
    "#             # drawSeveral([his.hreso.h_ptResVpt for his in hsets], labels,  'COLZ', do_profile=True, text=text)\n",
    "#             draw([his.h_eff.h_eta.CreateGraph() for his in hsets], labels, text=text, min_y=0, max_y=1.1, v_lines=[-2.8, -2.4, -1.7, -1.52, 1.52, 1.7, 2.4, 2.8])\n",
    "# #             print [his.h_num.h_eta.GetName() for his in hsets]"
   ]
  },
  {
   "cell_type": "code",
   "execution_count": null,
   "metadata": {},
   "outputs": [],
   "source": [
    "hsets, labels, text = hplot.get_histo(histos.HistoSetEff, ['hybrid', 'ele-V9'], ['PU200'], 'TkEleEL', 'EGq5Pt10', 'GENPt15', debug=False)\n",
    "draw([his.h_eff.h_abseta.CreateGraph() for his in hsets], labels, text=text, min_y=0, max_y=1.1, v_lines=[-2.8, -2.4, -1.7, -1.52, 1.52, 1.7, 2.4, 2.8])\n"
   ]
  },
  {
   "cell_type": "code",
   "execution_count": null,
   "metadata": {},
   "outputs": [],
   "source": [
    "hsets, labels, text = hplot.get_histo(histos.HistoSetEff, ['hybrid', 'ele-V9'], ['PU200'], 'TkEleELALL', 'Pt10LooseTkID', 'GENPt15', debug=False)\n",
    "draw([his.h_eff.h_abseta.CreateGraph() for his in hsets], labels, text=text, min_y=0, max_y=1.1, v_lines=[-2.8, -2.4, -1.7, -1.52, 1.52, 1.7, 2.4, 2.8])"
   ]
  },
  {
   "cell_type": "code",
   "execution_count": null,
   "metadata": {},
   "outputs": [],
   "source": [
    "hsets, labels, text = hplot.get_histo(histos.HistoSetEff, ['hybrid', 'ele-V9'], ['PU200'], 'TkEleEL', 'EGq5Pt25', 'GENPt35', debug=False)\n",
    "draw([his.h_eff.h_abseta.CreateGraph() for his in hsets], labels, text=text, min_y=0, max_y=1.1, v_lines=[-2.8, -2.4, -1.7, -1.52, 1.52, 1.7, 2.4, 2.8])\n"
   ]
  },
  {
   "cell_type": "code",
   "execution_count": null,
   "metadata": {},
   "outputs": [],
   "source": [
    "hsets, labels, text = hplot.get_histo(histos.HistoSetEff, ['hybrid', 'ele-V9'], ['PU200'], 'TkEleELALL', 'Pt25LooseTkID', 'GENPt35', debug=False)\n",
    "draw([his.h_eff.h_abseta.CreateGraph() for his in hsets], labels, text=text, min_y=0, max_y=1.1, v_lines=[1.52, 1.7, 2.4, 2.8])\n"
   ]
  },
  {
   "cell_type": "code",
   "execution_count": null,
   "metadata": {},
   "outputs": [],
   "source": [
    "# sample='hybrid'"
   ]
  },
  {
   "cell_type": "code",
   "execution_count": null,
   "metadata": {},
   "outputs": [],
   "source": [
    "hsets, labels, text = hplot.get_histo(histos.HistoSetEff, 'ele-V9', ['PU200'], ['EGALL', 'TkEleELALL'], ['Pt25LooseTkID', 'Pt25Iso0p1'], ['GENPt35'], debug=False)\n",
    "\n",
    "for hset in hsets:\n",
    "    hset.computeEff(rebin=1)\n",
    "\n",
    "# labels = ['TP head', 'L1 menu version', 'backported']\n",
    "text_forprint = 'EG, p_{T}^{L1} #geq 25GeV, p_{T}^{GEN} #geq 35GeV'\n",
    "\n",
    "\n",
    "labels_final = []\n",
    "labels_final.append('calorimeter-only')\n",
    "labels_final.append('track-matched')\n",
    "labels_final.append('#splitline{track-matched + charged iso.}{(no EG ID for |#eta| < 1.479)}')\n",
    "\n",
    "\n",
    "canv = draw([his.h_eff.h_abseta.CreateGraph() for his in hsets], labels_final, text=text_forprint, \n",
    "     min_x=0, max_x=3.5, min_y=0.6, max_y=1.1, v_lines=[1.47, 1.52, 2.4],\n",
    "     y_axis_label='efficiency',\n",
    "    legend_position = (0.16, 0.2, 0.42, 0.35),\n",
    "     do_write=True, write_name='figs/egammaBarrelEndcap_EG_GENPt30_hEffVAbsEta_test')\n",
    "\n",
    "# print canv.GetByType(ROOT.TLegend)\n",
    "# leg2 = getLegend(0.56, 0.15, 0.92, 0.30)\n",
    "# leg2.SetHeader('|#eta|>1.479')\n",
    "# for idx,his in enumerate(hsets):\n",
    "#     leg2.AddEntry(his.h_eff.h_eta.CreateGraph(), labels_final[idx], 'P')\n",
    "# leg2.Draw('same')\n",
    "# canv.Draw()\n",
    "# SaveCanvas(canv, 'test')\n",
    "# stuff[-7].AddEntry(ROOT.TObject(), 'PIPPO', '')\n",
    "# stuff[-7].Draw('same')\n",
    "# canv.Draw()\n",
    "\n",
    "# print canv.GetListOfPrimitives().Print()\n",
    "\n",
    "draw([his.h_eff.h_eta.CreateGraph() for his in hsets], labels_final, text=text_forprint, \n",
    "     min_x=-3.5, max_x=3.5, min_y=0.6, max_y=1.1, v_lines=[-1.47, -1.52, -2.4, 1.47, 1.52, 2.4],\n",
    "     y_axis_label='eff. (L1 matched to GEN/GEN)',\n",
    "     do_write=True, write_name='figs/egammaBarrelEndcap_EG_GENPt30_hEffVEta_test')\n"
   ]
  },
  {
   "cell_type": "code",
   "execution_count": null,
   "metadata": {
    "scrolled": false
   },
   "outputs": [],
   "source": [
    "hsets, labels, text = hplot.get_histo(histos.HistoSetEff, 'ele-V9', ['PU200'], ['EGALL', 'TkEleELALL'], ['Pt25LooseTkID', 'Pt25Iso0p1'], ['GENPt35'], debug=False)\n",
    "\n",
    "for hset in hsets:\n",
    "    hset.computeEff(rebin=2)\n",
    "\n",
    "# labels = ['TP head', 'L1 menu version', 'backported']\n",
    "text_forprint = 'EG, p_{T}^{L1} #geq 25GeV, p_{T}^{GEN} #geq 35GeV'\n",
    "\n",
    "\n",
    "labels_final = []\n",
    "labels_final.append('calorimeter-only')\n",
    "labels_final.append('track-matched')\n",
    "labels_final.append('#splitline{track-matched + charged iso.}{(no EG ID for |#eta| < 1.479)}')\n",
    "\n",
    "\n",
    "canv = draw([his.h_eff.h_abseta.CreateGraph() for his in hsets], labels_final, text=text_forprint, \n",
    "     min_x=0, max_x=3.5, min_y=0.6, max_y=1.1, v_lines=[1.47, 1.52, 2.4],\n",
    "     y_axis_label='efficiency',\n",
    "    legend_position = (0.16, 0.2, 0.42, 0.35),\n",
    "     do_write=True, write_name='figs/egammaBarrelEndcap_EG_GENPt30_hEffVAbsEta')\n",
    "\n",
    "# print canv.GetByType(ROOT.TLegend)\n",
    "# leg2 = getLegend(0.56, 0.15, 0.92, 0.30)\n",
    "# leg2.SetHeader('|#eta|>1.479')\n",
    "# for idx,his in enumerate(hsets):\n",
    "#     leg2.AddEntry(his.h_eff.h_eta.CreateGraph(), labels_final[idx], 'P')\n",
    "# leg2.Draw('same')\n",
    "# canv.Draw()\n",
    "# SaveCanvas(canv, 'test')\n",
    "# stuff[-7].AddEntry(ROOT.TObject(), 'PIPPO', '')\n",
    "# stuff[-7].Draw('same')\n",
    "# canv.Draw()\n",
    "\n",
    "# print canv.GetListOfPrimitives().Print()\n",
    "\n",
    "draw([his.h_eff.h_eta.CreateGraph() for his in hsets], labels_final, text=text_forprint, \n",
    "     min_x=-3.5, max_x=3.5, min_y=0.6, max_y=1.1, v_lines=[-1.47, -1.52, -2.4, 1.47, 1.52, 2.4],\n",
    "     y_axis_label='eff. (L1 matched to GEN/GEN)',\n",
    "     do_write=True, write_name='figs/egammaBarrelEndcap_EG_GENPt30_hEffVEta')\n",
    "\n"
   ]
  },
  {
   "cell_type": "code",
   "execution_count": null,
   "metadata": {
    "scrolled": false
   },
   "outputs": [],
   "source": [
    "hsets, labels, text = hplot.get_histo(histos.HistoSetEff, 'ele-V9', ['PU200'], 'EG', ['EGq5Pt25'], ['GENPt35'], debug=False)\n",
    "# labels = ['TP head', 'L1 menu version', 'backported']\n",
    "text_forprint = 'EG endcap, p_{T}^{L1} #geq 25GeV, p_{T}^{GEN} #geq 35GeV'\n",
    "draw([his.h_eff.h_abseta.CreateGraph() for his in hsets], labels, text=text_forprint, \n",
    "     min_x=1.5, max_x=3.3, min_y=0.6, max_y=1.1, v_lines=[1.52, 2.4],\n",
    "     y_axis_label='efficiency',\n",
    "     do_write=True, write_name='figs/egammaEndcap_EG_EGq5Pt25_GENPt35_hEffVEta')\n"
   ]
  },
  {
   "cell_type": "code",
   "execution_count": null,
   "metadata": {},
   "outputs": [],
   "source": []
  },
  {
   "cell_type": "code",
   "execution_count": null,
   "metadata": {},
   "outputs": [],
   "source": [
    "hsets, labels, text = hplot.get_histo(histos.HistoSetEff, sample, ['PU200'], ['EG','TkEleEL'], ['EGq5Pt25', 'EGq5Iso0p1'], 'GENPt30', debug=False)\n",
    "draw([his.h_eff.h_eta.CreateGraph() for his in hsets], labels, text=text, min_y=0.6, max_y=1.1, v_lines=[-2.8, -2.4, -1.7, -1.52, 1.52, 1.7, 2.4, 2.8],\n",
    "     do_write=False, write_name='egammaEndcap_TkEle_EGq4Pt30_GENPt40_hEffVEta')\n"
   ]
  },
  {
   "cell_type": "code",
   "execution_count": null,
   "metadata": {},
   "outputs": [],
   "source": [
    "hsets, labels, text = hplot.get_histo(histos.HistoSetEff, None, ['PU200'], ['TkEleEL'], ['EGq4Pt25', 'EGq4Iso0p2Pt25', 'EGq4Iso0p3Pt25', 'EGq5Pt25'], 'GENPt30', debug=False)\n",
    "draw([his.h_eff.h_eta.CreateGraph() for his in hsets], labels, text=text, min_y=0.6, max_y=1.1, v_lines=[-2.8, -2.4, -1.7, -1.52, 1.52, 1.7, 2.4, 2.8])\n"
   ]
  },
  {
   "cell_type": "code",
   "execution_count": null,
   "metadata": {},
   "outputs": [],
   "source": [
    "hsets, labels, text = hplot.get_histo(histos.HistoSetEff, sample, ['PU200'], ['TkEleBRL', 'TkEleELBRL'], ['Pt30'], ['GENPt40'], debug=False)\n",
    "draw([his.h_eff.h_eta.CreateGraph() for his in hsets], labels, text=text, min_y=0.6, max_y=1.1, v_lines=[-2.8, -2.4, -1.7, -1.52, 1.52, 1.7, 2.4, 2.8],\n",
    "     do_write=False, write_name='egammaEndcap_TkEle_EGq4Pt30_GENPt40_hEffVEta')\n",
    "\n"
   ]
  },
  {
   "cell_type": "code",
   "execution_count": null,
   "metadata": {},
   "outputs": [],
   "source": [
    "hsets, labels, text = hplot.get_histo(histos.HistoSetEff, sample, ['PU200'], ['TkEleELBRL'], 'Pt20', 'GENPt30', debug=False)\n",
    "\n",
    "newset = []\n",
    "\n",
    "h_barrel = hsets[0].h_eff.h_eta.CreateGraph()\n",
    "\n",
    "hsets, labels, text = hplot.get_histo(histos.HistoSetEff, sample, ['PU200'], ['TkEleEL'], 'EGq5Pt20', 'GENPt30', debug=False)\n",
    "\n",
    "h_endcap = hsets[0].h_eff.h_eta.CreateGraph()\n",
    "\n",
    "newset.append(h_barrel)\n",
    "newset.append(h_endcap)\n",
    "\n",
    "newlabels = ['barrel', 'endcap']\n",
    "\n",
    "draw(newset, newlabels, text=text, min_y=0.6, max_y=1.1, v_lines=[-2.8, -2.4, -1.7, -1.52, 1.52, 1.7, 2.4, 2.8],\n",
    "     do_write=True, write_name='egammaEndcap_TkEle_EGq4Pt30_GENPt40_hEffVEta')\n"
   ]
  },
  {
   "cell_type": "code",
   "execution_count": null,
   "metadata": {},
   "outputs": [],
   "source": [
    "hsets, labels, text = hplot.get_histo(histos.HistoSetEff, sample, ['PU200'], ['TkEleBRL', 'TkEleELBRL'], 'Pt20', 'GENPt30', debug=False)\n",
    "draw([his.h_eff.h_eta.CreateGraph() for his in hsets], labels, text=text, min_y=0.6, max_y=1.1, v_lines=[-2.8, -2.4, -1.7, -1.52, 1.52, 1.7, 2.4, 2.8],\n",
    "     do_write=False, write_name='egammaEndcap_TkEle_EGq4Pt30_GENPt40_hEffVEta')\n"
   ]
  },
  {
   "cell_type": "markdown",
   "metadata": {},
   "source": [
    "## Efficiency vs $p_{T}$"
   ]
  },
  {
   "cell_type": "code",
   "execution_count": null,
   "metadata": {},
   "outputs": [],
   "source": [
    "line_y1p0 = ROOT.TLine(0.,1., 110., 1.)\n",
    "line_y0p95 = ROOT.TLine(0.,0.95, 110., 0.95)\n",
    "line_y0p95.SetLineStyle(2)"
   ]
  },
  {
   "cell_type": "code",
   "execution_count": null,
   "metadata": {},
   "outputs": [],
   "source": [
    "hsets, labels, text = hplot.get_histo(histos.HistoSetEff, ['hybrid', 'ele-V9'], ['PU200'], 'TkEleEL', 'EGq5', 'GENEtaBC', debug=False)\n",
    "draw([his.h_eff.h_pt.CreateGraph() for his in hsets], labels, text=text, min_y=0, max_y=1.1, h_lines=[0.95, 1.])\n"
   ]
  },
  {
   "cell_type": "code",
   "execution_count": null,
   "metadata": {},
   "outputs": [],
   "source": [
    "hsets, labels, text = hplot.get_histo(histos.HistoSetEff, ['hybrid', 'ele-V9'], ['PU200'], 'TkEleEL', 'EGq5Pt25', 'GENEtaBC', debug=False)\n",
    "draw([his.h_eff.h_pt.CreateGraph() for his in hsets], labels, text=text, min_y=0, max_y=1.1, h_lines=[0.95, 1.])\n"
   ]
  },
  {
   "cell_type": "code",
   "execution_count": null,
   "metadata": {},
   "outputs": [],
   "source": [
    "hsets, labels, text = hplot.get_histo(histos.HistoSetEff, ['hybrid', 'ele-V9'], ['PU200'], 'TkEleELALL', 'LooseTkID', 'GENEtaF', debug=False)\n",
    "draw([his.h_eff.h_pt.CreateGraph() for his in hsets], labels, text=text, min_y=0, max_y=1.1, h_lines=[0.95, 1.])\n"
   ]
  },
  {
   "cell_type": "code",
   "execution_count": null,
   "metadata": {},
   "outputs": [],
   "source": [
    "hsets, labels, text = hplot.get_histo(histos.HistoSetEff, ['hybrid', 'ele-V9'], ['PU200'], 'TkEleELALL', 'LooseTkID', 'GENEtaF', debug=False)\n",
    "draw([his.h_eff.h_pt.CreateGraph() for his in hsets], labels, text=text, min_y=0, max_y=1.1, h_lines=[0.95, 1.])\n"
   ]
  },
  {
   "cell_type": "code",
   "execution_count": null,
   "metadata": {},
   "outputs": [],
   "source": [
    "hsets, labels, text = hplot.get_histo(histos.HistoSetEff, sample, ['PU200'], 'EG', 'EGq5Pt25', 'GENEtaBC', debug=False)\n",
    "text_forprint = 'EG endcap, 1.52 < |#eta^{GEN}| #leq 2.4, p_{T}^{L1} #geq 25GeV'\n",
    "print dir(hsets[0].h_eff)\n",
    "draw([his.h_eff.h_pt.CreateGraph() for his in hsets], labels, text=text_forprint, \n",
    "     min_y=0, max_y=1.1, y_axis_label='efficiency', h_lines=[0.95, 1],\n",
    "     do_write=True, write_name='figs/egammaEndcap_EG_EGq5Pt25_GENEtaBC_hEffvPt')\n",
    "\n",
    "\n",
    "\n",
    "hsets, labels, text = hplot.get_histo(histos.HistoSetEff, sample, ['PU200'], 'EG', 'EGq5Pt25', ['GENEtaDE'])\n",
    "print labels\n",
    "text_forprint = 'EG endcap, 2.4 < |#eta^{GEN}| #leq 3.0, p_{T}^{L1} #geq 25GeV'\n",
    "draw([his.h_eff.h_pt.CreateGraph() for his in hsets], labels, text=text_forprint, \n",
    "     min_y=0, max_y=1.1, y_axis_label='efficiency', h_lines=[0.95, 1],\n",
    "     do_write=True, write_name='figs/egammaEndcap_EG_EGq5Pt25_GENEtaDE_hEffvPt')\n"
   ]
  },
  {
   "cell_type": "code",
   "execution_count": null,
   "metadata": {},
   "outputs": [],
   "source": [
    "hsets, labels, text = hplot.get_histo(histos.HistoSetEff, sample, ['PU200'], 'EG', ['all', 'EGq5'], 'GENEtaBC', debug=False)\n",
    "text_forprint = 'EG endcap, 1.52 < |#eta^{GEN}| #leq 2.4, p_{T}^{L1} #geq 25GeV'\n",
    "print dir(hsets[0].h_eff)\n",
    "draw([his.h_eff.h_pt.CreateGraph() for his in hsets], labels, text=text_forprint, \n",
    "     min_y=0, max_y=1.1, y_axis_label='efficiency', h_lines=[0.95, 1])\n"
   ]
  },
  {
   "cell_type": "code",
   "execution_count": 22,
   "metadata": {},
   "outputs": [
    {
     "name": "stdout",
     "output_type": "stream",
     "text": [
      "['__doc__', '__init__', '__module__', 'h_abseta', 'h_energy', 'h_eta', 'h_fBrem', 'h_pt', 'h_reachedEE']\n",
      "['']\n"
     ]
    },
    {
     "data": {
      "text/plain": [
       "<drawingTools.DrawMachine at 0x11c898b50>"
      ]
     },
     "execution_count": 22,
     "metadata": {},
     "output_type": "execute_result"
    },
    {
     "data": {
      "text/html": [
       "\n",
       "<div id=\"root_plot_4\"\n",
       "     style=\"width: 796px; height: 572px\">\n",
       "</div>\n",
       "\n",
       "<script>\n",
       " requirejs.config({\n",
       "     paths: {\n",
       "       'JSRootCore' : 'https://root.cern.ch/js/notebook//scripts/JSRootCore',\n",
       "     }\n",
       "   });\n",
       " require(['JSRootCore'],\n",
       "     function(Core) {\n",
       "       var obj = Core.JSONR_unref({\"_typename\":\"TCanvas\",\"fUniqueID\":0,\"fBits\":53673992,\"fLineColor\":1,\"fLineStyle\":1,\"fLineWidth\":1,\"fFillColor\":0,\"fFillStyle\":1001,\"fLeftMargin\":0.13,\"fRightMargin\":0.3,\"fBottomMargin\":0.13,\"fTopMargin\":0.1,\"fXfile\":2,\"fYfile\":2,\"fAfile\":1,\"fXstat\":0.99,\"fYstat\":0.99,\"fAstat\":2,\"fFrameFillColor\":0,\"fFrameLineColor\":1,\"fFrameFillStyle\":1001,\"fFrameLineStyle\":1,\"fFrameLineWidth\":1,\"fFrameBorderSize\":1,\"fFrameBorderMode\":0,\"fX1\":-25.0421046588559,\"fY1\":-0.185714283502611,\"fX2\":167.58947670572,\"fY2\":1.24285714852456,\"fXtoAbsPixelk\":103.480046204376,\"fXtoPixelk\":103.480046204376,\"fXtoPixel\":4.13224038530569,\"fYtoAbsPixelk\":497.640051065433,\"fYtoPixelk\":497.640051065433,\"fYtoPixel\":-400.399999031424,\"fUtoAbsPixelk\":5e-5,\"fUtoPixelk\":5e-5,\"fUtoPixel\":796,\"fVtoAbsPixelk\":572.00005,\"fVtoPixelk\":572,\"fVtoPixel\":-572,\"fAbsPixeltoXk\":-25.0421046588559,\"fPixeltoXk\":-25.0421046588559,\"fPixeltoX\":0.241999474076101,\"fAbsPixeltoYk\":1.24285714852456,\"fPixeltoYk\":-0.185714283502611,\"fPixeltoY\":-0.00249750250354401,\"fXlowNDC\":0,\"fYlowNDC\":0,\"fXUpNDC\":0,\"fYUpNDC\":0,\"fWNDC\":1,\"fHNDC\":1,\"fAbsXlowNDC\":0,\"fAbsYlowNDC\":0,\"fAbsWNDC\":1,\"fAbsHNDC\":1,\"fUxmin\":0,\"fUymin\":0,\"fUxmax\":109.8,\"fUymax\":1.1,\"fTheta\":30,\"fPhi\":30,\"fAspectRatio\":0,\"fNumber\":0,\"fTickx\":0,\"fTicky\":0,\"fLogx\":0,\"fLogy\":0,\"fLogz\":0,\"fPadPaint\":0,\"fCrosshair\":0,\"fCrosshairPos\":0,\"fBorderSize\":2,\"fBorderMode\":0,\"fModified\":false,\"fGridx\":false,\"fGridy\":false,\"fAbsCoord\":false,\"fEditable\":true,\"fFixedAspectRatio\":false,\"fPrimitives\":{\"_typename\":\"TList\",\"name\":\"TList\",\"arr\":[{\"_typename\":\"TFrame\",\"fUniqueID\":0,\"fBits\":50331656,\"fLineColor\":1,\"fLineStyle\":1,\"fLineWidth\":1,\"fFillColor\":0,\"fFillStyle\":1001,\"fX1\":0,\"fY1\":0,\"fX2\":109.8,\"fY2\":1.1,\"fBorderSize\":1,\"fBorderMode\":0},{\"_typename\":\"TGraphAsymmErrors\",\"fUniqueID\":0,\"fBits\":50332680,\"fName\":\"374d00\",\"fTitle\":\"; p_{T}^{GEN} [GeV];\",\"fLineColor\":1,\"fLineStyle\":1,\"fLineWidth\":1,\"fFillColor\":0,\"fFillStyle\":1001,\"fMarkerColor\":1,\"fMarkerStyle\":8,\"fMarkerSize\":0.5,\"fNpoints\":49,\"fX\":[3,5,7,9,11,13,15,17,19,21,23,25,27,29,31,33,35,37,39,41,43,45,47,49,51,53,55,57,59,61,63,65,67,69,71,73,75,77,79,81,83,85,87,89,91,93,95,97,99],\"fY\":[0.290492957746479,0.434782608695652,0.578947368421053,0.720292504570384,0.786086956521739,0.841995841995842,0.896421845574388,0.866419294990724,0.894248608534323,0.948339483394834,0.935135135135135,0.946236559139785,0.941619585687382,0.96415770609319,0.964285714285714,0.976047904191617,0.961871750433276,0.982993197278912,0.985890652557319,0.985046728971963,0.983271375464684,0.989517819706499,0.994661921708185,0.990689013035382,0.991467576791809,0.998015873015873,0.981308411214953,0.987432675044883,0.990384615384615,0.994690265486726,0.993031358885017,0.992438563327032,0.992337164750958,0.99250936329588,0.992700729927007,0.992687385740402,0.991258741258741,0.994525547445255,0.992337164750958,0.988394584139265,0.996466431095406,0.990476190476191,0.988785046728972,0.992970123022847,0.996330275229358,0.992292870905588,0.98932384341637,0.994219653179191,0.996031746031746],\"fFunctions\":{\"_typename\":\"TList\",\"name\":\"TList\",\"arr\":[],\"opt\":[]},\"fHistogram\":{\"_typename\":\"TH1F\",\"fUniqueID\":0,\"fBits\":50332160,\"fName\":\"374d00\",\"fTitle\":\"\",\"fLineColor\":602,\"fLineStyle\":1,\"fLineWidth\":1,\"fFillColor\":0,\"fFillStyle\":1001,\"fMarkerColor\":1,\"fMarkerStyle\":1,\"fMarkerSize\":1,\"fNcells\":102,\"fXaxis\":{\"_typename\":\"TAxis\",\"fUniqueID\":0,\"fBits\":50331656,\"fName\":\"xaxis\",\"fTitle\":\" p_{T}^{GEN} [GeV]\",\"fNdivisions\":510,\"fAxisColor\":1,\"fLabelColor\":1,\"fLabelFont\":42,\"fLabelOffset\":0.005,\"fLabelSize\":0.035,\"fTickLength\":0.03,\"fTitleOffset\":1.4,\"fTitleSize\":0.035,\"fTitleColor\":1,\"fTitleFont\":42,\"fNbins\":100,\"fXmin\":0,\"fXmax\":109.8,\"fXbins\":[],\"fFirst\":0,\"fLast\":0,\"fBits2\":0,\"fTimeDisplay\":false,\"fTimeFormat\":\"\",\"fLabels\":null,\"fModLabs\":null},\"fYaxis\":{\"_typename\":\"TAxis\",\"fUniqueID\":0,\"fBits\":50331656,\"fName\":\"yaxis\",\"fTitle\":\"efficiency\",\"fNdivisions\":510,\"fAxisColor\":1,\"fLabelColor\":1,\"fLabelFont\":42,\"fLabelOffset\":0.005,\"fLabelSize\":0.035,\"fTickLength\":0.03,\"fTitleOffset\":0,\"fTitleSize\":0.035,\"fTitleColor\":1,\"fTitleFont\":42,\"fNbins\":1,\"fXmin\":0.198095910984591,\"fXmax\":1.07252650987717,\"fXbins\":[],\"fFirst\":0,\"fLast\":0,\"fBits2\":0,\"fTimeDisplay\":false,\"fTimeFormat\":\"\",\"fLabels\":null,\"fModLabs\":null},\"fZaxis\":{\"_typename\":\"TAxis\",\"fUniqueID\":0,\"fBits\":50331648,\"fName\":\"zaxis\",\"fTitle\":\"\",\"fNdivisions\":510,\"fAxisColor\":1,\"fLabelColor\":1,\"fLabelFont\":42,\"fLabelOffset\":0.005,\"fLabelSize\":0.035,\"fTickLength\":0.03,\"fTitleOffset\":1,\"fTitleSize\":0.035,\"fTitleColor\":1,\"fTitleFont\":42,\"fNbins\":1,\"fXmin\":0,\"fXmax\":1,\"fXbins\":[],\"fFirst\":0,\"fLast\":0,\"fBits2\":0,\"fTimeDisplay\":false,\"fTimeFormat\":\"\",\"fLabels\":null,\"fModLabs\":null},\"fBarOffset\":0,\"fBarWidth\":1000,\"fEntries\":0,\"fTsumw\":0,\"fTsumw2\":0,\"fTsumwx\":0,\"fTsumwx2\":0,\"fMaximum\":1.1,\"fMinimum\":0,\"fNormFactor\":0,\"fContour\":[],\"fSumw2\":[],\"fOption\":\"\",\"fFunctions\":{\"_typename\":\"TList\",\"name\":\"TList\",\"arr\":[],\"opt\":[]},\"fBufferSize\":0,\"fBuffer\":[],\"fBinStatErrOpt\":0,\"fStatOverflows\":2,\"fArray\":[0,0,0,0,0,0,0,0,0,0,0,0,0,0,0,0,0,0,0,0,0,0,0,0,0,0,0,0,0,0,0,0,0,0,0,0,0,0,0,0,0,0,0,0,0,0,0,0,0,0,0,0,0,0,0,0,0,0,0,0,0,0,0,0,0,0,0,0,0,0,0,0,0,0,0,0,0,0,0,0,0,0,0,0,0,0,0,0,0,0,0,0,0,0,0,0,0,0,0,0,0,0]},\"fMinimum\":-1111,\"fMaximum\":-1111,\"fEXlow\":[1,1,1,1,1,1,1,1,1,1,1,1,1,1,1,1,1,1,1,1,1,1,1,1,1,1,1,1,1,1,1,1,1,1,1,1,1,1,1,1,1,1,1,1,1,1,1,1,1],\"fEXhigh\":[1,1,1,1,1,1,1,1,1,1,1,1,1,1,1,1,1,1,1,1,1,1,1,1,1,1,1,1,1,1,1,1,1,1,1,1,1,1,1,1,1,1,1,1,1,1,1,1,1],\"fEYlow\":[0.0195278301875064,0.0223481088973984,0.022069827084234,0.0205107551363187,0.0184811932255701,0.0184155169396187,0.0149635283935781,0.0162982976672592,0.014954566152409,0.0113495777559504,0.0122142418533392,0.0113300843507541,0.0120350328322086,0.0097113972722509,0.00967753108377634,0.00895069920535507,0.0097435766898587,0.00716857595231624,0.00688458357276023,0.00729171966223652,0.00754660914203298,0.00702884599948417,0.00516518057333282,0.00624968102958523,0.00573086223217678,0.00454763534594038,0.00786912442989385,0.00670344134240519,0.00645233851985494,0.00513789903212891,0.00547565985798459,0.00593828300205068,0.00601736563030197,0.00588305617639773,0.00573374703559981,0.00574416019065893,0.00587009334272792,0.005296422442433,0.00601736563030197,0.00686735890781165,0.00464145198644805,0.00639138201668865,0.00663839665185484,0.0055234719032724,0.00481953421576364,0.00605190665932809,0.00632221430944579,0.00559067497121168,0.0052097913759015],\"fEYhigh\":[0.020298784455073,0.0226051872501191,0.0217712412499913,0.0196678846645718,0.0174366142357644,0.0169065043749856,0.0133658445976805,0.0148541884538274,0.0133909176367787,0.0095365091373083,0.0105127743159102,0.009582299609322,0.0102196559317863,0.00786012462158081,0.00783236590713343,0.00677523472281527,0.00797027998846067,0.00526574816408987,0.00486804990551581,0.0051583008378957,0.00545065690208457,0.00452038609978722,0.00290379596154822,0.00401603903844561,0.00368066761085151,0.00164142028691694,0.00578508327678007,0.0046232812056034,0.00414713836376168,0.00288838484084541,0.00333218359763821,0.00361537098487752,0.0036638063830835,0.00358155099289759,0.00349013525328912,0.00349650990708239,0.00377063280241896,0.002977944488326,0.0036638063830835,0.00459396218123065,0.00228203481058797,0.00410769969703229,0.00443970548563011,0.0033614388501173,0.00236995347711644,0.0036849639847536,0.0042268125228021,0.00314425678130226,0.00256271660198815]},{\"_typename\":\"TLatex\",\"fUniqueID\":0,\"fBits\":50348040,\"fName\":\"\",\"fTitle\":\"EG endcap, 1.52 < |#eta^{GEN}| #leq 2.4\",\"fTextAngle\":0,\"fTextSize\":0.03,\"fTextAlign\":11,\"fTextColor\":1,\"fTextFont\":62,\"fX\":0.15,\"fY\":0.85,\"fLineColor\":1,\"fLineStyle\":1,\"fLineWidth\":2,\"fLimitFactorSize\":3,\"fOriginSize\":0.04},{\"_typename\":\"TLatex\",\"fUniqueID\":0,\"fBits\":50331656,\"fName\":\"\",\"fTitle\":\"\",\"fTextAngle\":0,\"fTextSize\":0.03,\"fTextAlign\":11,\"fTextColor\":1,\"fTextFont\":62,\"fX\":0,\"fY\":0,\"fLineColor\":1,\"fLineStyle\":1,\"fLineWidth\":2,\"fLimitFactorSize\":3,\"fOriginSize\":0.04},{\"_typename\":\"TLine\",\"fUniqueID\":0,\"fBits\":50331656,\"fLineColor\":1,\"fLineStyle\":2,\"fLineWidth\":1,\"fX1\":0,\"fY1\":0.95,\"fX2\":109.8,\"fY2\":0.95},{\"_typename\":\"TLine\",\"fUniqueID\":0,\"fBits\":50331656,\"fLineColor\":1,\"fLineStyle\":2,\"fLineWidth\":1,\"fX1\":0,\"fY1\":1,\"fX2\":109.8,\"fY2\":1}],\"opt\":[\"\",\"pa\",\"same\",\"same\",\"same\",\"same\"]},\"fExecs\":null,\"fName\":\"c_4d2e20\",\"fTitle\":\"c_4d2e20\",\"fNumPaletteColor\":0,\"fNextPaletteColor\":0,\"fDISPLAY\":\"$DISPLAY\",\"fDoubleBuffer\":0,\"fRetained\":true,\"fXsizeUser\":0,\"fYsizeUser\":0,\"fXsizeReal\":20,\"fYsizeReal\":15,\"fWindowTopX\":0,\"fWindowTopY\":0,\"fWindowWidth\":0,\"fWindowHeight\":0,\"fCw\":796,\"fCh\":572,\"fCatt\":{\"_typename\":\"TAttCanvas\",\"fXBetween\":2,\"fYBetween\":2,\"fTitleFromTop\":1.2,\"fXdate\":0.2,\"fYdate\":0.3,\"fAdate\":1},\"kMoveOpaque\":true,\"kResizeOpaque\":true,\"fHighLightColor\":2,\"fBatch\":true,\"kShowEventStatus\":false,\"kAutoExec\":true,\"kMenuBar\":true});\n",
       "       Core.draw(\"root_plot_4\", obj, \"\");\n",
       "     }\n",
       " );\n",
       "</script>\n"
      ],
      "text/plain": [
       "<IPython.core.display.HTML object>"
      ]
     },
     "metadata": {},
     "output_type": "display_data"
    },
    {
     "data": {
      "text/html": [
       "\n",
       "<div id=\"root_plot_5\"\n",
       "     style=\"width: 796px; height: 572px\">\n",
       "</div>\n",
       "\n",
       "<script>\n",
       " requirejs.config({\n",
       "     paths: {\n",
       "       'JSRootCore' : 'https://root.cern.ch/js/notebook//scripts/JSRootCore',\n",
       "     }\n",
       "   });\n",
       " require(['JSRootCore'],\n",
       "     function(Core) {\n",
       "       var obj = Core.JSONR_unref({\"_typename\":\"TCanvas\",\"fUniqueID\":0,\"fBits\":53673992,\"fLineColor\":1,\"fLineStyle\":1,\"fLineWidth\":1,\"fFillColor\":0,\"fFillStyle\":1001,\"fLeftMargin\":0.13,\"fRightMargin\":0.3,\"fBottomMargin\":0.13,\"fTopMargin\":0.1,\"fXfile\":2,\"fYfile\":2,\"fAfile\":1,\"fXstat\":0.99,\"fYstat\":0.99,\"fAstat\":2,\"fFrameFillColor\":0,\"fFrameLineColor\":1,\"fFrameFillStyle\":1001,\"fFrameLineStyle\":1,\"fFrameLineWidth\":1,\"fFrameBorderSize\":1,\"fFrameBorderMode\":0,\"fX1\":-25.0421046588559,\"fY1\":-0.185714283502611,\"fX2\":167.58947670572,\"fY2\":1.24285714852456,\"fXtoAbsPixelk\":103.480046204376,\"fXtoPixelk\":103.480046204376,\"fXtoPixel\":4.13224038530569,\"fYtoAbsPixelk\":497.640051065433,\"fYtoPixelk\":497.640051065433,\"fYtoPixel\":-400.399999031424,\"fUtoAbsPixelk\":5e-5,\"fUtoPixelk\":5e-5,\"fUtoPixel\":796,\"fVtoAbsPixelk\":572.00005,\"fVtoPixelk\":572,\"fVtoPixel\":-572,\"fAbsPixeltoXk\":-25.0421046588559,\"fPixeltoXk\":-25.0421046588559,\"fPixeltoX\":0.241999474076101,\"fAbsPixeltoYk\":1.24285714852456,\"fPixeltoYk\":-0.185714283502611,\"fPixeltoY\":-0.00249750250354401,\"fXlowNDC\":0,\"fYlowNDC\":0,\"fXUpNDC\":0,\"fYUpNDC\":0,\"fWNDC\":1,\"fHNDC\":1,\"fAbsXlowNDC\":0,\"fAbsYlowNDC\":0,\"fAbsWNDC\":1,\"fAbsHNDC\":1,\"fUxmin\":0,\"fUymin\":0,\"fUxmax\":109.8,\"fUymax\":1.1,\"fTheta\":30,\"fPhi\":30,\"fAspectRatio\":0,\"fNumber\":0,\"fTickx\":0,\"fTicky\":0,\"fLogx\":0,\"fLogy\":0,\"fLogz\":0,\"fPadPaint\":0,\"fCrosshair\":0,\"fCrosshairPos\":0,\"fBorderSize\":2,\"fBorderMode\":0,\"fModified\":false,\"fGridx\":false,\"fGridy\":false,\"fAbsCoord\":false,\"fEditable\":true,\"fFixedAspectRatio\":false,\"fPrimitives\":{\"_typename\":\"TList\",\"name\":\"TList\",\"arr\":[{\"_typename\":\"TFrame\",\"fUniqueID\":0,\"fBits\":50331656,\"fLineColor\":1,\"fLineStyle\":1,\"fLineWidth\":1,\"fFillColor\":0,\"fFillStyle\":1001,\"fX1\":0,\"fY1\":0,\"fX2\":109.8,\"fY2\":1.1,\"fBorderSize\":1,\"fBorderMode\":0},{\"_typename\":\"TGraphAsymmErrors\",\"fUniqueID\":0,\"fBits\":50332680,\"fName\":\"564b3c\",\"fTitle\":\"; p_{T}^{GEN} [GeV];\",\"fLineColor\":1,\"fLineStyle\":1,\"fLineWidth\":1,\"fFillColor\":0,\"fFillStyle\":1001,\"fMarkerColor\":1,\"fMarkerStyle\":8,\"fMarkerSize\":0.5,\"fNpoints\":49,\"fX\":[3,5,7,9,11,13,15,17,19,21,23,25,27,29,31,33,35,37,39,41,43,45,47,49,51,53,55,57,59,61,63,65,67,69,71,73,75,77,79,81,83,85,87,89,91,93,95,97,99],\"fY\":[0.17312661498708,0.303430079155673,0.361516034985423,0.448818897637795,0.476331360946746,0.606413994169096,0.61624649859944,0.664705882352941,0.694214876033058,0.722713864306785,0.779141104294479,0.836158192090395,0.839650145772595,0.866120218579235,0.854881266490765,0.879213483146067,0.897196261682243,0.909340659340659,0.922666666666667,0.919161676646707,0.941358024691358,0.941666666666667,0.934718100890208,0.96011396011396,0.95702005730659,0.971098265895954,0.971014492753623,0.96583850931677,0.973988439306358,0.964179104477612,0.969604863221885,0.976401179941003,0.976401179941003,0.976261127596439,0.98813056379822,0.983098591549296,0.976261127596439,0.966153846153846,0.975460122699387,0.988888888888889,0.982248520710059,0.978787878787879,0.990853658536585,0.969325153374233,0.981424148606811,0.988372093023256,0.986225895316804,0.991097922848665,0.984472049689441],\"fFunctions\":{\"_typename\":\"TList\",\"name\":\"TList\",\"arr\":[],\"opt\":[]},\"fHistogram\":{\"_typename\":\"TH1F\",\"fUniqueID\":0,\"fBits\":50332160,\"fName\":\"564b3c\",\"fTitle\":\"\",\"fLineColor\":602,\"fLineStyle\":1,\"fLineWidth\":1,\"fFillColor\":0,\"fFillStyle\":1001,\"fMarkerColor\":1,\"fMarkerStyle\":1,\"fMarkerSize\":1,\"fNcells\":102,\"fXaxis\":{\"_typename\":\"TAxis\",\"fUniqueID\":0,\"fBits\":50331656,\"fName\":\"xaxis\",\"fTitle\":\" p_{T}^{GEN} [GeV]\",\"fNdivisions\":510,\"fAxisColor\":1,\"fLabelColor\":1,\"fLabelFont\":42,\"fLabelOffset\":0.005,\"fLabelSize\":0.035,\"fTickLength\":0.03,\"fTitleOffset\":1.4,\"fTitleSize\":0.035,\"fTitleColor\":1,\"fTitleFont\":42,\"fNbins\":100,\"fXmin\":0,\"fXmax\":109.8,\"fXbins\":[],\"fFirst\":0,\"fLast\":0,\"fBits2\":0,\"fTimeDisplay\":false,\"fTimeFormat\":\"\",\"fLabels\":null,\"fModLabs\":null},\"fYaxis\":{\"_typename\":\"TAxis\",\"fUniqueID\":0,\"fBits\":50331656,\"fName\":\"yaxis\",\"fTitle\":\"efficiency\",\"fNdivisions\":510,\"fAxisColor\":1,\"fLabelColor\":1,\"fLabelFont\":42,\"fLabelOffset\":0.005,\"fLabelSize\":0.035,\"fTickLength\":0.03,\"fTitleOffset\":0,\"fTitleSize\":0.035,\"fTitleColor\":1,\"fTitleFont\":42,\"fNbins\":1,\"fXmin\":0.0692754836873955,\"fXmax\":1.08018105184046,\"fXbins\":[],\"fFirst\":0,\"fLast\":0,\"fBits2\":0,\"fTimeDisplay\":false,\"fTimeFormat\":\"\",\"fLabels\":null,\"fModLabs\":null},\"fZaxis\":{\"_typename\":\"TAxis\",\"fUniqueID\":0,\"fBits\":50331648,\"fName\":\"zaxis\",\"fTitle\":\"\",\"fNdivisions\":510,\"fAxisColor\":1,\"fLabelColor\":1,\"fLabelFont\":42,\"fLabelOffset\":0.005,\"fLabelSize\":0.035,\"fTickLength\":0.03,\"fTitleOffset\":1,\"fTitleSize\":0.035,\"fTitleColor\":1,\"fTitleFont\":42,\"fNbins\":1,\"fXmin\":0,\"fXmax\":1,\"fXbins\":[],\"fFirst\":0,\"fLast\":0,\"fBits2\":0,\"fTimeDisplay\":false,\"fTimeFormat\":\"\",\"fLabels\":null,\"fModLabs\":null},\"fBarOffset\":0,\"fBarWidth\":1000,\"fEntries\":0,\"fTsumw\":0,\"fTsumw2\":0,\"fTsumwx\":0,\"fTsumwx2\":0,\"fMaximum\":1.1,\"fMinimum\":0,\"fNormFactor\":0,\"fContour\":[],\"fSumw2\":[],\"fOption\":\"\",\"fFunctions\":{\"_typename\":\"TList\",\"name\":\"TList\",\"arr\":[],\"opt\":[]},\"fBufferSize\":0,\"fBuffer\":[],\"fBinStatErrOpt\":0,\"fStatOverflows\":2,\"fArray\":[0,0,0,0,0,0,0,0,0,0,0,0,0,0,0,0,0,0,0,0,0,0,0,0,0,0,0,0,0,0,0,0,0,0,0,0,0,0,0,0,0,0,0,0,0,0,0,0,0,0,0,0,0,0,0,0,0,0,0,0,0,0,0,0,0,0,0,0,0,0,0,0,0,0,0,0,0,0,0,0,0,0,0,0,0,0,0,0,0,0,0,0,0,0,0,0,0,0,0,0,0,0]},\"fMinimum\":-1111,\"fMaximum\":-1111,\"fEXlow\":[1,1,1,1,1,1,1,1,1,1,1,1,1,1,1,1,1,1,1,1,1,1,1,1,1,1,1,1,1,1,1,1,1,1,1,1,1,1,1,1,1,1,1,1,1,1,1,1,1],\"fEXhigh\":[1,1,1,1,1,1,1,1,1,1,1,1,1,1,1,1,1,1,1,1,1,1,1,1,1,1,1,1,1,1,1,1,1,1,1,1,1,1,1,1,1,1,1,1,1,1,1,1,1],\"fEYlow\":[0.0196090006202627,0.0243568456555849,0.0269333333283834,0.0266158488963678,0.0285269603709247,0.0281219109062365,0.0274423174716267,0.0275457463903787,0.0260912391378264,0.0264495656514253,0.0253910120839755,0.0220840244318253,0.0223144099865771,0.0202312901878243,0.0204032281589605,0.0198192810722688,0.0198554827574754,0.0176513058985555,0.0163696473766007,0.0177984445428986,0.0161379487114524,0.0151226813072232,0.016385473463336,0.0133911011916518,0.0138002305052658,0.0120774523021233,0.0121117172425245,0.0133866551568208,0.0116538017188633,0.0132739023002689,0.0126876398683916,0.0114323351212829,0.0114323351212829,0.0114989561259737,0.00928536501901989,0.00995849242291202,0.0114989561259737,0.0132661056375957,0.0118797048665625,0.00869808939611649,0.0104521638457454,0.0112385424481434,0.00881673943055927,0.0128017742226431,0.0109302522758725,0.00909840382224714,0.00921055413313998,0.00858335895320506,0.0103678938040038],\"fEYhigh\":[0.0214089061818224,0.0254503039921223,0.0277846376689548,0.0268978882331918,0.0286743631672218,0.0274683297829452,0.0267568432515781,0.0265231238164435,0.0249621777276984,0.0250584724713098,0.0235676385662696,0.0200519787940608,0.0201920145647235,0.0180806386610068,0.0183971583186638,0.0175195263327388,0.0171584147163919,0.0152009023596643,0.0139014168096095,0.0150415174170127,0.013097053592156,0.0123975621774007,0.0135261410516441,0.0104169598897357,0.010840689706882,0.00892332157853692,0.0089490060237809,0.0100559836040998,0.00845747217560955,0.0101012335145024,0.00938103364977472,0.00812571857958233,0.00812571857958233,0.00817369778775467,0.00567209580379524,0.00668408253009822,0.00817369778775467,0.00996395152555518,0.00844805049385022,0.00531021869026616,0.00701920306125936,0.00779029300064793,0.00497372240508753,0.00946672448952679,0.00734409469537367,0.00555684420524971,0.00593699570180162,0.00484099831237073,0.00669113364149931]},{\"_typename\":\"TLatex\",\"fUniqueID\":0,\"fBits\":50348040,\"fName\":\"\",\"fTitle\":\"EG endcap, 2.4 < |#eta^{GEN}| #leq 3.0\",\"fTextAngle\":0,\"fTextSize\":0.03,\"fTextAlign\":11,\"fTextColor\":1,\"fTextFont\":62,\"fX\":0.15,\"fY\":0.85,\"fLineColor\":1,\"fLineStyle\":1,\"fLineWidth\":2,\"fLimitFactorSize\":3,\"fOriginSize\":0.04},{\"_typename\":\"TLatex\",\"fUniqueID\":0,\"fBits\":50331656,\"fName\":\"\",\"fTitle\":\"\",\"fTextAngle\":0,\"fTextSize\":0.03,\"fTextAlign\":11,\"fTextColor\":1,\"fTextFont\":62,\"fX\":0,\"fY\":0,\"fLineColor\":1,\"fLineStyle\":1,\"fLineWidth\":2,\"fLimitFactorSize\":3,\"fOriginSize\":0.04},{\"_typename\":\"TLine\",\"fUniqueID\":0,\"fBits\":50331656,\"fLineColor\":1,\"fLineStyle\":2,\"fLineWidth\":1,\"fX1\":0,\"fY1\":0.95,\"fX2\":109.8,\"fY2\":0.95},{\"_typename\":\"TLine\",\"fUniqueID\":0,\"fBits\":50331656,\"fLineColor\":1,\"fLineStyle\":2,\"fLineWidth\":1,\"fX1\":0,\"fY1\":1,\"fX2\":109.8,\"fY2\":1}],\"opt\":[\"\",\"pa\",\"same\",\"same\",\"same\",\"same\"]},\"fExecs\":null,\"fName\":\"c_6f8ffb\",\"fTitle\":\"c_6f8ffb\",\"fNumPaletteColor\":0,\"fNextPaletteColor\":0,\"fDISPLAY\":\"$DISPLAY\",\"fDoubleBuffer\":0,\"fRetained\":true,\"fXsizeUser\":0,\"fYsizeUser\":0,\"fXsizeReal\":20,\"fYsizeReal\":15,\"fWindowTopX\":0,\"fWindowTopY\":0,\"fWindowWidth\":0,\"fWindowHeight\":0,\"fCw\":796,\"fCh\":572,\"fCatt\":{\"_typename\":\"TAttCanvas\",\"fXBetween\":2,\"fYBetween\":2,\"fTitleFromTop\":1.2,\"fXdate\":0.2,\"fYdate\":0.3,\"fAdate\":1},\"kMoveOpaque\":true,\"kResizeOpaque\":true,\"fHighLightColor\":2,\"fBatch\":true,\"kShowEventStatus\":false,\"kAutoExec\":true,\"kMenuBar\":true});\n",
       "       Core.draw(\"root_plot_5\", obj, \"\");\n",
       "     }\n",
       " );\n",
       "</script>\n"
      ],
      "text/plain": [
       "<IPython.core.display.HTML object>"
      ]
     },
     "metadata": {},
     "output_type": "display_data"
    }
   ],
   "source": [
    "hsets, labels, text = hplot.get_histo(histos.HistoSetEff, sample, ['PU200'], 'EG', ['all', 'EGq5'], 'GENEtaBC', debug=False)\n",
    "text_forprint = 'EG endcap, 1.52 < |#eta^{GEN}| #leq 2.4'\n",
    "print dir(hsets[0].h_eff)\n",
    "draw([his.h_eff.h_pt.CreateGraph() for his in hsets], labels, text=text_forprint, \n",
    "     min_y=0, max_y=1.1, y_axis_label='efficiency', h_lines=[0.95, 1])\n",
    "\n",
    "\n",
    "\n",
    "hsets, labels, text = hplot.get_histo(histos.HistoSetEff, sample, ['PU200'], 'EG', 'EGq5', ['GENEtaDE'])\n",
    "print labels\n",
    "text_forprint = 'EG endcap, 2.4 < |#eta^{GEN}| #leq 3.0'\n",
    "draw([his.h_eff.h_pt.CreateGraph() for his in hsets], labels, text=text_forprint, \n",
    "     min_y=0, max_y=1.1, y_axis_label='efficiency', h_lines=[0.95, 1])\n"
   ]
  },
  {
   "cell_type": "code",
   "execution_count": null,
   "metadata": {},
   "outputs": [],
   "source": [
    "hsets, labels, text = hplot.get_histo(histos.HistoSetEff, sample, ['PU200'], ['EG', 'TkEleEL'], 'EGq5Pt25', 'GENEtaBC')\n",
    "labels=['calorimeter only', 'track-matched']\n",
    "legend_position = (0.6, 0.5, 0.86, 0.6)\n",
    "text_forprint='EG endcap, 1.52 < |#eta^{GEN}| #leq 2.4, p_{T}^{L1} #geq 25GeV'\n",
    "draw([his.h_eff.h_pt.CreateGraph() for his in hsets], labels, text=text_forprint, min_y=0, max_y=1.1, \n",
    "     y_axis_label='efficiency', h_lines=[0.95, 1],\n",
    "     legend_position=legend_position,\n",
    "     do_write=True, write_name='figs/egammaEndcap_TkEle_EGq5Pt25_GENEtaBC_hEffvPt')\n"
   ]
  },
  {
   "cell_type": "code",
   "execution_count": null,
   "metadata": {},
   "outputs": [],
   "source": [
    "hsets, labels, text = hplot.get_histo(histos.HistoSetEff, sample, ['PU200'], ['EGBRL'], ['Pt20', 'Pt20LooseTkID'], ['GENEtaF'])\n",
    "draw([his.h_eff.h_pt.CreateGraph() for his in hsets], labels, text=text, min_y=0.75, max_y=1.02, y_axis_label='L1 matched to GEN/GEN', h_lines=[0.95, 1])\n"
   ]
  },
  {
   "cell_type": "code",
   "execution_count": null,
   "metadata": {},
   "outputs": [],
   "source": [
    "hsets, labels, text = hplot.get_histo(histos.HistoSetEff, sample, ['PU200'], ['EGBRL'], ['Pt25', 'Pt25LooseTkID'], ['GENEtaF', 'all'])\n",
    "for hset in hsets:\n",
    "    hset.computeEff(rebin=2)\n",
    "\n",
    "labels=['w/o EG ID', 'w EG ID']\n",
    "legend_position = (0.6, 0.5, 0.86, 0.6)\n",
    "text_forprint='EG barrel, |#eta^{GEN}| #leq 1.47, p_{T}^{L1} #geq 25GeV'\n",
    "draw([his.h_eff.h_pt.CreateGraph() for his in hsets], labels, text=text_forprint, \n",
    "     min_y=0.8, max_y=1.02, min_x=0.0, max_x=100, \n",
    "     y_axis_label='efficiency', h_lines=[0.95, 1],\n",
    "     legend_position=legend_position,\n",
    "     do_write=True, write_name='figs/EgammaBarrelOnlyCaloEff')\n"
   ]
  },
  {
   "cell_type": "code",
   "execution_count": null,
   "metadata": {},
   "outputs": [],
   "source": [
    "hsets, labels, text = hplot.get_histo(histos.HistoSetEff, sample, ['PU200'], ['EGALL', 'TkEleELALL'], 'Pt25LooseTkID', 'GENEtaF')\n",
    "labels=['calorimeter only', 'track-matched']\n",
    "legend_position = (0.6, 0.5, 0.86, 0.6)\n",
    "text_forprint='EG barrel, |#eta^{GEN}| #leq 1.479, p_{T}^{L1} #geq 25GeV'\n",
    "draw([his.h_eff.h_pt.CreateGraph() for his in hsets], labels, text=text_forprint, min_y=0, max_y=1.1, \n",
    "     y_axis_label='efficiency', h_lines=[0.95, 1],\n",
    "     legend_position=legend_position,\n",
    "     do_write=True, write_name='figs/egammaBarrel_TkEle_LooseTkIDPt25_GENEtaF_hEffvPt')\n"
   ]
  },
  {
   "cell_type": "markdown",
   "metadata": {},
   "source": [
    "## Efficiency vs fBrem"
   ]
  },
  {
   "cell_type": "code",
   "execution_count": null,
   "metadata": {},
   "outputs": [],
   "source": [
    "sample = 'ele-V9'\n",
    "for pu in ['PU0', 'PU200']:\n",
    "    hsets_new = []\n",
    "    labels_new = []\n",
    "#     hsets, labels, text = hplot.get_histo(histos.HistoSetEff, sample, pu, ['EG'], ['EGq3'], 'GENEtaBC')\n",
    "# #     hsets[0].SetMarkerStyle(7)\n",
    "#     hsets_new.append(hsets[0])\n",
    "#     labels_new.append(\"EG standalone\")\n",
    "    \n",
    "#     hsets, labels, text = hplot.get_histo(histos.HistoSetEff, sample, pu, ['EG'], ['EGq3Pt20'], 'GENEtaBC')\n",
    "#     hsets_new.append(hsets[0])\n",
    "#     labels_new.append(\"EG Pt>20GeV\")\n",
    "\n",
    "    hsets, labels, text = hplot.get_histo(histos.HistoSetEff, sample, pu, ['L1Trk'], ['St4Pt2'], 'GENEtaBC')\n",
    "    hsets_new.append(hsets[0])\n",
    "    labels_new.append(\"L1Trk #stubs > 3\")\n",
    "\n",
    "#     hsets, labels, text = hplot.get_histo(histos.HistoSetEff, sample, pu, ['L1Trk'], ['St4Pt10'], 'GENEtaBC')\n",
    "#     hsets_new.append(hsets[0])\n",
    "#     labels_new.append(\"L1Trk p_{T}>10GeV\")\n",
    "\n",
    "    hsets, labels, text = hplot.get_histo(histos.HistoSetEff, sample, pu, ['L1TrkEmu'], ['Pt2'], 'GENEtaBC')\n",
    "    hsets_new.append(hsets[0])\n",
    "    labels_new.append(\"L1Trk EMU\")\n",
    "\n",
    "#     hsets, labels, text = hplot.get_histo(histos.HistoSetEff, sample, pu, ['L1TrkEmu'], ['Pt10'], 'GENEtaBC')\n",
    "#     hsets_new.append(hsets[0])\n",
    "#     labels_new.append(\"L1Trk p_{T}>10GeV\")\n",
    "\n",
    "    \n",
    "    \n",
    "#     hsets, labels, text = hplot.get_histo(histos.HistoSetEff, sample, pu, ['TkEle'], ['EGq3'], 'GENEtaBC')\n",
    "#     hsets_new.append(hsets[0])\n",
    "#     labels_new.append(\"TkEle\")\n",
    "\n",
    "\n",
    "    \n",
    "    # drawSeveral([his.hreso.h_ptResVpt for his in hsets], labels,  'COLZ', do_profile=True, text=text)\n",
    "    draw([his.h_eff.h_fBrem.CreateGraph() for his in hsets_new], labels_new, text=text, min_y=0.75, max_y=1.02, y_axis_label='L1 matched to GEN/GEN', h_lines=[0.95, 1])\n"
   ]
  },
  {
   "cell_type": "code",
   "execution_count": null,
   "metadata": {},
   "outputs": [],
   "source": [
    "sample = 'ele-V9'\n",
    "for pu in ['PU0', 'PU200']:\n",
    "    hsets_new = []\n",
    "    labels_new = []\n",
    "#     hsets, labels, text = hplot.get_histo(histos.HistoSetEff, sample, pu, ['EG'], ['EGq3'], 'GENEtaBC')\n",
    "# #     hsets[0].SetMarkerStyle(7)\n",
    "#     hsets_new.append(hsets[0])\n",
    "#     labels_new.append(\"EG standalone\")\n",
    "    \n",
    "#     hsets, labels, text = hplot.get_histo(histos.HistoSetEff, sample, pu, ['EG'], ['EGq3Pt20'], 'GENEtaBC')\n",
    "#     hsets_new.append(hsets[0])\n",
    "#     labels_new.append(\"EG Pt>20GeV\")\n",
    "\n",
    "    hsets, labels, text = hplot.get_histo(histos.HistoSetEff, sample, pu, ['L1TrkEmu'], ['Pt2'], 'GENEtaBC')\n",
    "    hsets_new.append(hsets[0])\n",
    "    labels_new.append(\"L1Trk p_{T}>2GeV\")\n",
    "\n",
    "    hsets, labels, text = hplot.get_histo(histos.HistoSetEff, sample, pu, ['L1TrkEmu'], ['Pt10'], 'GENEtaBC')\n",
    "    hsets_new.append(hsets[0])\n",
    "    labels_new.append(\"L1Trk p_{T}>10GeV\")\n",
    "\n",
    "    hsets, labels, text = hplot.get_histo(histos.HistoSetEff, sample, pu, ['TkEle'], ['EGq3'], 'GENEtaBC')\n",
    "    hsets_new.append(hsets[0])\n",
    "    labels_new.append(\"TkEle\")\n",
    "\n",
    "    hsets, labels, text = hplot.get_histo(histos.HistoSetEff, sample, pu, ['TkEG'], ['EGq3M1P10'], 'GENEtaBC')\n",
    "    hsets_new.append(hsets[0])\n",
    "    labels_new.append(\"TkEle\")\n",
    "\n",
    "\n",
    "    \n",
    "    # drawSeveral([his.hreso.h_ptResVpt for his in hsets], labels,  'COLZ', do_profile=True, text=text)\n",
    "    draw([his.h_eff.h_fBrem.CreateGraph() for his in hsets_new], labels_new, text=text, min_y=0.75, max_y=1.02, y_axis_label='L1 matched to GEN/GEN', h_lines=[0.95, 1])\n"
   ]
  },
  {
   "cell_type": "markdown",
   "metadata": {},
   "source": [
    "## Turn-on curves"
   ]
  },
  {
   "cell_type": "code",
   "execution_count": null,
   "metadata": {},
   "outputs": [],
   "source": [
    "hsets, labels, text = hplot.get_histo(histos.HistoSetEff, 'ele-V9', ['PU200'], ['EG'], ['EGq4Pt30'], 'GENEtaBC', debug=False)\n",
    "draw([his.h_ton.h_pt.CreateGraph() for his in hsets], labels, text=text, min_y=0, max_y=1.1, y_axis_label='L1 matched to GEN and p_{T}>th./L1 matched to GEN', h_lines=[0.95, 1])\n"
   ]
  },
  {
   "cell_type": "code",
   "execution_count": null,
   "metadata": {},
   "outputs": [],
   "source": [
    "hsets, labels, text = hplot.get_histo(histos.HistoSetEff, sample, ['PU200'], ['EG'], ['EGq3Pt30', 'EGq4Pt30', 'EGq5Pt30'], 'GENEtaBC', debug=False)\n",
    "draw([his.h_ton.h_pt.CreateGraph() for his in hsets], labels, text=text, min_y=0, max_y=1.1, y_axis_label='L1 matched to GEN and p_{T}>th./L1 matched to GEN', h_lines=[0.95, 1])\n"
   ]
  },
  {
   "cell_type": "code",
   "execution_count": null,
   "metadata": {},
   "outputs": [],
   "source": [
    "hsets, labels, text = hplot.get_histo(histos.HistoSetEff, sample, ['PU200'], ['TkEleEL'], ['EGq3Pt30', 'EGq4Pt30', 'EGq5Pt30'], 'GENEtaBC', debug=False)\n",
    "draw([his.h_ton.h_pt.CreateGraph() for his in hsets], labels, text=text, min_y=0, max_y=1.1, y_axis_label='L1 matched to GEN and p_{T}>th./L1 matched to GEN', h_lines=[0.95, 1])\n"
   ]
  },
  {
   "cell_type": "markdown",
   "metadata": {},
   "source": [
    "## Scaling"
   ]
  },
  {
   "cell_type": "code",
   "execution_count": null,
   "metadata": {},
   "outputs": [],
   "source": [
    "def f_yc(x, par):\n",
    "    return (ROOT.Math.normal_cdf(par[0]*(x[0]-par[1]), par[0]*par[2], 0) - ROOT.TMath.Exp(-par[0]*(x[0]-par[1])+par[0]*par[0]*par[2]*par[2]/2)*ROOT.Math.normal_cdf(par[0]*(x[0]-par[1]), par[0]*par[2], par[0]*par[0]*par[2]*par[2])) * (par[3] - par[4]) + par[4]\n",
    "\n",
    "tf_yc = ROOT.TF1('tf_yc', f_yc, 0, 100, 5)\n",
    "tf_yc.SetParameters(1, 20, 4, 1.0, 0.0);\n",
    "tf_yc.SetParNames(\"#lambda\", \"#mu\", \"#sigma\", \"Plateau\", \"Baseline\");\n",
    "tf_yc.SetLineColor(6)\n",
    "tf_yc.FixParameter(4,0)\n",
    "\n",
    "tf_yc.SetParLimits(1, 0, 50)\n",
    "\n",
    "tf_yc.SetParLimits(3, 0.9, 1)\n",
    "tf_yc.SetParLimits(0, 0, 1)\n",
    "tf_yc.SetParLimits(2, 0.1, 1)\n",
    "\n",
    "c = newCanvas()\n",
    "tf_yc.Draw()\n",
    "c.Draw()\n"
   ]
  },
  {
   "cell_type": "code",
   "execution_count": null,
   "metadata": {},
   "outputs": [],
   "source": [
    "sample"
   ]
  },
  {
   "cell_type": "code",
   "execution_count": null,
   "metadata": {},
   "outputs": [],
   "source": [
    "hplot.data[(hplot.data['sample'] == sample) & (hplot.data.tp == 'TkEle')].tp_sel.unique()\n"
   ]
  },
  {
   "cell_type": "code",
   "execution_count": null,
   "metadata": {},
   "outputs": [],
   "source": [
    "hsets, labels, text = hplot.get_histo(histos.HistoSetEff, sample, 'PU0', 'TkEle', 'EGq3Pt15', 'GENEtaBC')\n",
    "\n",
    "\n",
    "print hsets[0].name"
   ]
  },
  {
   "cell_type": "code",
   "execution_count": null,
   "metadata": {},
   "outputs": [],
   "source": [
    "fake_histoname = uuid.uuid4().hex[:6]\n"
   ]
  },
  {
   "cell_type": "code",
   "execution_count": null,
   "metadata": {
    "scrolled": true
   },
   "outputs": [],
   "source": [
    "ROOT.TVirtualFitter.SetDefaultFitter(\"Fumili2\")\n",
    "ROOT.TVirtualFitter.SetPrecision(1e-04)\n",
    "\n",
    "import array\n",
    "\n",
    "class HWrapper(object):\n",
    "    def __init__(self, histo):\n",
    "        self.histo = histo\n",
    "    \n",
    "    def get(self, debug=False):\n",
    "        return self.histo\n",
    "\n",
    "\n",
    "# tps_scaling = ['EG', 'TkEleEL']\n",
    "# tp_sel_scaling = [('EGq3Pt{}', 'EGq3'), ('EGq4Pt{}', 'EGq4'), ('EGq5Pt{}', 'EGq5')]\n",
    "# pt_points = [10, 15, 20, 25, 30, 40]\n",
    "\n",
    "sample = 'ele-V9'\n",
    "tps_scaling = ['EG', 'TkEleEL']\n",
    "tp_sel_scaling = [('EGq5Pt{}', 'EGq5')]\n",
    "pt_points = [10, 15, 20, 25, 30, 40]\n",
    "\n",
    "# sample = 'calib'\n",
    "# tps_scaling = ['HMvDRshapeDrCalib']\n",
    "# tp_sel_scaling = [('EmPt{}', 'Em')]\n",
    "# pt_points = [10, 20, 30]\n",
    "\n",
    "\n",
    "for pu in ['PU0', 'PU200']:\n",
    "    for gen_sel in ['GENEtaBC']:\n",
    "        for tp in tps_scaling:\n",
    "            for tp_sel_strings in tp_sel_scaling:\n",
    "                pt_95 = []\n",
    "                pt_95_err = []\n",
    "                for pt in pt_points:\n",
    "#                     for (i=0; i<ngr; i++)\n",
    "#       grint->SetPoint(i, gr->GetX()[i], 0);\n",
    "        \n",
    "                    tp_sel = tp_sel_strings[0].format(pt)\n",
    "                    hsets, labels, text = hplot.get_histo(histos.HistoSetEff, sample, pu, tp, tp_sel, gen_sel)\n",
    "                        # drawSeveral([his.hreso.h_ptResVpt for his in hsets], labels,  'COLZ', do_profile=True, text=text)\n",
    "        #                 draw([his.h_ton.h_pt.CreateGraph() for his in hsets], labels, text=text, min_y=0, max_y=1.1, y_axis_label='L1 matched to GEN and p_{T}>th./L1 matched to GEN', h_lines=[0.95, 1])\n",
    "\n",
    "#                     if pt == 20:\n",
    "                    tf_yc.SetParameters(0.6, pt, 0.1, 1.0, 0.0)\n",
    "#                     else:\n",
    "#                         tf_yc.SetParameters(1, 20, 4, 1.0, 0.0)\n",
    "                    h_eff_vs_pt = [his.h_ton.h_pt.CreateGraph() for his in hsets]\n",
    "\n",
    "                    result = h_eff_vs_pt[0].Fit(tf_yc, 'EMQRS+')\n",
    "\n",
    "                    grint = ROOT.TGraphErrors(h_eff_vs_pt[0].GetN())\n",
    "                    stuff.append(grint)\n",
    "                    grint.SetTitle(\"Fitted line with .95 conf. band\")\n",
    "                    for point in range(0, h_eff_vs_pt[0].GetN()):\n",
    "                        grint.SetPoint(point, h_eff_vs_pt[0].GetX()[point], 0)\n",
    "                    ROOT.TVirtualFitter.GetFitter().GetConfidenceIntervals(grint)\n",
    "\n",
    "                        \n",
    "                    print '------- {}'.format( text)\n",
    "                    print result.Print()\n",
    "                    pt095 = tf_yc.GetX(0.95)\n",
    "                    pt_95.append(pt095)\n",
    "\n",
    "                    prev_err = 0\n",
    "                    error = 0\n",
    "                    for idx,point in enumerate(grint.GetX()):\n",
    "#                         print idx, point, grint.GetEY()[idx]\n",
    "                        if pt095 > point:\n",
    "                            prev_err = grint.GetEY()[idx]\n",
    "                        else:\n",
    "                            error = (prev_err+grint.GetEY()[idx])/2\n",
    "                            break\n",
    "                    pt_95_err.append(error)\n",
    "                    print '       pt th: {}, 95% eff: {}, err: {}'.format(pt, pt095, error)\n",
    "                    #                 points.append((tp, pu, pt, pt095))\n",
    "                    draw(h_eff_vs_pt, labels, text=text, min_y=0, max_y=1.1, y_axis_label='L1 matched to GEN and p_{T}>th./L1 matched to GEN', h_lines=[0.95, 1])\n",
    "                    ROOT.gStyle.SetOptFit(11111)\n",
    "                    grint.Draw('same')\n",
    "\n",
    "                print len(pt_points)\n",
    "                print len(pt_95)\n",
    "                print len(pt_95_err)\n",
    "                print pt_95_err\n",
    "                \n",
    "                graph = ROOT.TGraphErrors(len(pt_points), array.array('d', pt_points), \n",
    "                                                          array.array('d', pt_95),\n",
    "                                                          array.array('d', [0.]*len(pt_points)),\n",
    "                                                          array.array('d', pt_95_err) )\n",
    "                graph.SetMarkerStyle(7)\n",
    "                graph.SetMarkerColor(2)\n",
    "                stuff.append(graph)\n",
    "\n",
    "                hplot.data = hplot.data.append({'sample': sample,\n",
    "                                                'pu': pu,\n",
    "                                                'tp': tp,\n",
    "                                                'tp_sel': tp_sel_strings[1],\n",
    "                                                'gen_sel': gen_sel,\n",
    "                                                'classtype': fake_histoname,\n",
    "                                                'histo': HWrapper(graph),},\n",
    "                                                ignore_index=True)\n",
    "\n",
    "                \n",
    "                "
   ]
  },
  {
   "cell_type": "code",
   "execution_count": null,
   "metadata": {},
   "outputs": [],
   "source": [
    "hplot.data[hplot.data.classtype == fake_histoname]\n"
   ]
  },
  {
   "cell_type": "code",
   "execution_count": null,
   "metadata": {},
   "outputs": [],
   "source": [
    "hplot.data[hplot.data.classtype == fake_histoname]['sample'].unique()"
   ]
  },
  {
   "cell_type": "code",
   "execution_count": null,
   "metadata": {
    "scrolled": false
   },
   "outputs": [],
   "source": [
    "scaling_params = pd.DataFrame(columns=['tp', 'tp_sel', 'params'])\n",
    "ROOT.gStyle.SetOptFit(11111)\n",
    "\n",
    "for sample in hplot.data[hplot.data.classtype == fake_histoname]['sample'].unique():\n",
    "    print sample\n",
    "    for pu in hplot.data[(hplot.data.classtype == fake_histoname) & (hplot.data['sample'] == sample)].pu.unique():\n",
    "        for tp in hplot.data[(hplot.data.classtype == fake_histoname) & (hplot.data['sample'] == sample) & (hplot.data.pu == pu)].tp.unique():\n",
    "            for tp_sel in hplot.data[(hplot.data.classtype == fake_histoname) & (hplot.data['sample'] == sample) & (hplot.data.pu == pu) & (hplot.data.tp == tp)].tp_sel.unique():\n",
    "                hsets, labels, text = hplot.get_histo(fake_histoname, sample, pu, tp, tp_sel, ['GENEtaBC'])\n",
    "                result = hsets[0].Fit('pol1', 'MES+', '', 5, 35)\n",
    "                result.GetParams()\n",
    "                scaling_params = scaling_params.append({'pu': pu,\n",
    "                                                         'tp': tp,\n",
    "                                                         'tp_sel': tp_sel+'EtaBC',\n",
    "                                                         'params': (result.GetParams()[0], result.GetParams()[1])},\n",
    "                                                          ignore_index=True)\n",
    "                draw(hsets, labels, text=text, min_y=0, max_y=60, y_axis_label='p_{T} @ 95% eff. [GeV] ', x_axis_label='p_{T} thresh. [GeV]')"
   ]
  },
  {
   "cell_type": "markdown",
   "metadata": {},
   "source": [
    "###### "
   ]
  },
  {
   "cell_type": "code",
   "execution_count": null,
   "metadata": {},
   "outputs": [],
   "source": [
    "scaling_params"
   ]
  },
  {
   "cell_type": "code",
   "execution_count": null,
   "metadata": {},
   "outputs": [],
   "source": [
    "scaling_params.to_csv(r'scaling_params_{}.csv'.format(version_V9))"
   ]
  },
  {
   "cell_type": "code",
   "execution_count": null,
   "metadata": {},
   "outputs": [],
   "source": [
    "eta_boundaries_fiducial = [-5, -4, -3,-2.5 ,-1.5, -0.5, 0.5, 1.5, 2.5, 3, 4, 5]\n",
    "eta_boundaries = []\n",
    "phi_boundaries_fiducial = []\n",
    "\n",
    "\n",
    "eta_overlap = 0.25\n",
    "phi_overlap = 0.25\n",
    "phiSlices = 9\n",
    "\n",
    "phiWidth = 2*math.pi/phiSlices\n",
    "\n",
    "\n",
    "phi_boundaries = []\n",
    "\n",
    "\n",
    "for ieta,eta_low_fiducial in enumerate(eta_boundaries_fiducial):dd\n",
    "    if ieta>=len(eta_boundaries_fiducial)-1:\n",
    "        break\n",
    "    eta_high_fiducial = eta_boundaries_fiducial[ieta+1]\n",
    "    print 'fiducial boundaries: {}, {}'.format(eta_low_fiducial, eta_high_fiducial)\n",
    "    eta_low = eta_low_fiducial - eta_overlap\n",
    "    eta_high = eta_high_fiducial + eta_overlap\n",
    "    eta_boundaries.append((eta_low, eta_high))\n",
    "    \n",
    "    \n",
    "    \n",
    "for iphi in range(0,9):\n",
    "    phiCenter = (iphi+0.5)*phiWidth-math.pi\n",
    "    print iphi,phiCenter\n",
    "    phi_low_fiducial = phiCenter - phiWidth/2.\n",
    "    phi_high_fiducial = phiCenter+phiWidth/2.\n",
    "    \n",
    "    print 'fiducial boundaries: {}, {}'.format(phi_low_fiducial, phi_high_fiducial)\n",
    "    phi_boundaries_fiducial.append(phi_low_fiducial)\n",
    "    \n",
    "    phi_low = phi_low_fiducial - phi_overlap\n",
    "    if phi_low < -1*math.pi:\n",
    "        phi_low = math.pi-phi_overlap\n",
    "    phi_high = phi_high_fiducial + phi_overlap\n",
    "    if phi_high > math.pi:\n",
    "        phi_high = -1*math.pi+phi_overlap\n",
    "    \n",
    "    phi_boundaries.append((phi_low, phi_high))\n",
    "    print 'boundaries: {} {}'.format(phi_low, phi_high)\n",
    "    \n",
    "    \n",
    "phi_boundaries_fiducial.append(math.pi)\n",
    "print \"FIDUCIAL\"\n",
    "print eta_boundaries_fiducial\n",
    "print phi_boundaries_fiducial\n",
    "\n",
    "print \"ACTUAL\"\n",
    "print phi_boundaries\n",
    "print eta_boundaries"
   ]
  },
  {
   "cell_type": "code",
   "execution_count": null,
   "metadata": {},
   "outputs": [],
   "source": []
  },
  {
   "cell_type": "code",
   "execution_count": null,
   "metadata": {},
   "outputs": [],
   "source": []
  }
 ],
 "metadata": {
  "kernelspec": {
   "display_name": "HGCTPGPerformance",
   "language": "python",
   "name": "hgctpgperformance"
  },
  "toc": {
   "base_numbering": 1,
   "nav_menu": {},
   "number_sections": true,
   "sideBar": true,
   "skip_h1_title": false,
   "title_cell": "Table of Contents",
   "title_sidebar": "Contents",
   "toc_cell": false,
   "toc_position": {
    "height": "calc(100% - 180px)",
    "left": "10px",
    "top": "150px",
    "width": "176px"
   },
   "toc_section_display": true,
   "toc_window_display": true
  }
 },
 "nbformat": 4,
 "nbformat_minor": 2
}
