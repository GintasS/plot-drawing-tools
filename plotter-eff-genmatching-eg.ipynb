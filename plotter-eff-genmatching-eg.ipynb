{
 "cells": [
  {
   "cell_type": "markdown",
   "metadata": {},
   "source": [
    "# Eff. matching to GEN particle\n",
    "\n",
    "\n",
    "   * [Efficiency vs $\\eta$](#Effinciency-vs-$\\eta$)\n",
    "   * [Efficiency vs $p_{T}$](#Efficiency-vs-$p_{T}$)\n",
    "   * [Turn-on curves](#Turn-on-curves)\n"
   ]
  },
  {
   "cell_type": "code",
   "execution_count": 1,
   "metadata": {},
   "outputs": [
    {
     "name": "stdout",
     "output_type": "stream",
     "text": [
      "Welcome to JupyROOT 6.14/02\n"
     ]
    }
   ],
   "source": [
    "import sys\n",
    "sys.path.insert(0, '..')\n",
    "sys.path.insert(1, '../python/')\n",
    "sys.path.insert(2, './python/')\n",
    "\n",
    "import ROOT\n",
    "import root_numpy as rnp\n",
    "import python.l1THistos as histos\n",
    "import math\n",
    "import uuid\n",
    "import pandas as pd\n",
    "\n",
    "from drawingTools import *\n",
    "\n",
    "# ROOT.enableJSVis()\n",
    "ROOT.enableJSVis()\n",
    "\n",
    "#from drawingTools import *\n",
    "\n",
    "normalized_histos = list()\n",
    "    "
   ]
  },
  {
   "cell_type": "code",
   "execution_count": 2,
   "metadata": {},
   "outputs": [],
   "source": [
    "# %load drawingTools.py\n"
   ]
  },
  {
   "cell_type": "code",
   "execution_count": 3,
   "metadata": {},
   "outputs": [],
   "source": [
    "# %load samples.py\n",
    "import ROOT\n",
    "import pandas as pd\n",
    "\n",
    "version = 'v103t'\n",
    "version_V8 = 'v119'\n",
    "\n",
    "version_V9 = 'v121'\n",
    "\n",
    "# -------------------------------------------------------------------------\n",
    "\n",
    "samples_ele = [\n",
    "#     Sample('ele_flat2to100_PU0_eg', 'PU0', version, 'ele'),\n",
    "    Sample('ele_flat2to100_PU200_eg', 'PU200', version, 'ele')\n",
    "    ]\n",
    "\n",
    "samples_ele_V8 = [\n",
    "#     Sample('ele_flat2to100_PU0_eg', 'PU0', version, 'V8'),\n",
    "    Sample('ele_flat2to100_PU200_eg', 'PU200', version_V8, 'hybrid')\n",
    "    ]\n",
    "\n",
    "\n",
    "samples_ele_calib = [\n",
    "    Sample('ele_flat2to100_PU0_tps', 'PU0', 'v120', 'calib'),\n",
    "    Sample('ele_flat2to100_PU200_tps', 'PU200', 'v120', 'calib')\n",
    "    ]\n",
    "\n",
    "\n",
    "samples_ele_V9 = [\n",
    "    Sample('ele_flat2to100_PU0_eg', 'PU0', version_V9, 'ele-V9'),\n",
    "    Sample('ele_flat2to100_PU200_eg', 'PU200', version_V9, 'ele-V9')\n",
    "    ]\n",
    "\n",
    "samples_photons = [\n",
    "    Sample('photon_flat8to150_PU0_tracks', 'PU0', version, 'photon'),\n",
    "    Sample('photon_flat8to150_PU200_tracks', 'PU200', version, 'photon')\n",
    "    ]\n",
    "\n",
    "samples_photons_V9 = [\n",
    "    Sample('photon_flat8to150_PU0_tracks', 'PU0', version_V9, 'photon-V9'),\n",
    "    Sample('photon_flat8to150_PU200_tracks', 'PU200', version_V9, 'photon-V9')\n",
    "    ]\n",
    "\n",
    "samples_pions = [\n",
    "    Sample('pion_flat2to100_PU0_tracks', 'PU0', version, 'pions'),\n",
    "    ]\n",
    "\n",
    "samples_nugus = [\n",
    "    Sample('nugun_alleta_pu0', 'PU0', version, 'mb'),\n",
    "    Sample('nugun_alleta_pu200', 'PU200', version, 'mb')\n",
    "    ]\n",
    "\n",
    "samples_nugunrates = [\n",
    "    Sample('nugun_alleta_pu200_tracks', 'PU200', version, 'mb')\n",
    "    ]\n",
    "\n",
    "\n"
   ]
  },
  {
   "cell_type": "code",
   "execution_count": 4,
   "metadata": {},
   "outputs": [],
   "source": [
    "do_eff = True"
   ]
  },
  {
   "cell_type": "code",
   "execution_count": 5,
   "metadata": {},
   "outputs": [
    {
     "name": "stdout",
     "output_type": "stream",
     "text": [
      "importing Jupyter notebook from configuration.ipynb\n",
      "gen_part_selections: 14\n",
      "gen_part_selections: 14\n"
     ]
    }
   ],
   "source": [
    "import import_ipynb\n",
    "import configuration"
   ]
  },
  {
   "cell_type": "code",
   "execution_count": 6,
   "metadata": {},
   "outputs": [
    {
     "name": "stdout",
     "output_type": "stream",
     "text": [
      "--- TPs: \n",
      "[   'L1Trk',\n",
      "    'L1TrkEmu',\n",
      "    'EG',\n",
      "    'EGBRL',\n",
      "    'EGALL',\n",
      "    'TkEle',\n",
      "    'TkEleEL',\n",
      "    'TkEleELBRL',\n",
      "    'TkEleELALL']\n",
      "--- TP selections:\n",
      "{   'EG': [   'EGq2',\n",
      "              'EGq2Pt10',\n",
      "              'EGq2Pt15',\n",
      "              'EGq2Pt20',\n",
      "              'EGq2Pt25',\n",
      "              'EGq2Pt30',\n",
      "              'EGq2Pt40',\n",
      "              'EGq3',\n",
      "              'EGq3Pt10',\n",
      "              'EGq3Pt15',\n",
      "              'EGq3Pt20',\n",
      "              'EGq3Pt25',\n",
      "              'EGq3Pt30',\n",
      "              'EGq3Pt40',\n",
      "              'EGq4',\n",
      "              'EGq4Pt10',\n",
      "              'EGq4Pt15',\n",
      "              'EGq4Pt20',\n",
      "              'EGq4Pt25',\n",
      "              'EGq4Pt30',\n",
      "              'EGq4Pt40',\n",
      "              'EGq5',\n",
      "              'EGq5Pt10',\n",
      "              'EGq5Pt15',\n",
      "              'EGq5Pt20',\n",
      "              'EGq5Pt25',\n",
      "              'EGq5Pt30',\n",
      "              'EGq5Pt40'],\n",
      "    'EGALL': [   'all',\n",
      "                 'LooseTkID',\n",
      "                 'Pt10',\n",
      "                 'Pt10LooseTkID',\n",
      "                 'Pt15',\n",
      "                 'Pt15LooseTkID',\n",
      "                 'Pt20',\n",
      "                 'Pt20LooseTkID',\n",
      "                 'Pt25',\n",
      "                 'Pt25LooseTkID',\n",
      "                 'Pt30',\n",
      "                 'Pt30LooseTkID',\n",
      "                 'Pt40',\n",
      "                 'Pt40LooseTkID'],\n",
      "    'EGBRL': [   'all',\n",
      "                 'LooseTkID',\n",
      "                 'Pt10',\n",
      "                 'Pt10LooseTkID',\n",
      "                 'Pt15',\n",
      "                 'Pt15LooseTkID',\n",
      "                 'Pt20',\n",
      "                 'Pt20LooseTkID',\n",
      "                 'Pt25',\n",
      "                 'Pt25LooseTkID',\n",
      "                 'Pt30',\n",
      "                 'Pt30LooseTkID',\n",
      "                 'Pt40',\n",
      "                 'Pt40LooseTkID'],\n",
      "    'L1Trk': [   'all',\n",
      "                 'Pt2',\n",
      "                 'Pt5',\n",
      "                 'Pt10',\n",
      "                 'St4',\n",
      "                 'St4Pt2',\n",
      "                 'St4Pt5',\n",
      "                 'St4Pt10'],\n",
      "    'L1TrkEmu': [   'all',\n",
      "                    'Pt2',\n",
      "                    'Pt5',\n",
      "                    'Pt10',\n",
      "                    'St4',\n",
      "                    'St4Pt2',\n",
      "                    'St4Pt5',\n",
      "                    'St4Pt10'],\n",
      "    'TkEle': [   'EGq2',\n",
      "                 'EGq2Pt10',\n",
      "                 'EGq2Pt15',\n",
      "                 'EGq2Pt20',\n",
      "                 'EGq2Pt25',\n",
      "                 'EGq2Pt30',\n",
      "                 'EGq2Pt40',\n",
      "                 'EGq3',\n",
      "                 'EGq3Pt10',\n",
      "                 'EGq3Pt15',\n",
      "                 'EGq3Pt20',\n",
      "                 'EGq3Pt25',\n",
      "                 'EGq3Pt30',\n",
      "                 'EGq3Pt40',\n",
      "                 'EGq4',\n",
      "                 'EGq4Pt10',\n",
      "                 'EGq4Pt15',\n",
      "                 'EGq4Pt20',\n",
      "                 'EGq4Pt25',\n",
      "                 'EGq4Pt30',\n",
      "                 'EGq4Pt40',\n",
      "                 'EGq5',\n",
      "                 'EGq5Pt10',\n",
      "                 'EGq5Pt15',\n",
      "                 'EGq5Pt20',\n",
      "                 'EGq5Pt25',\n",
      "                 'EGq5Pt30',\n",
      "                 'EGq5Pt40',\n",
      "                 'EGq2Iso0p2',\n",
      "                 'EGq2Iso0p1',\n",
      "                 'EGq2Iso0p3',\n",
      "                 'EGq3Iso0p2',\n",
      "                 'EGq3Iso0p1',\n",
      "                 'EGq3Iso0p3',\n",
      "                 'EGq4Iso0p2',\n",
      "                 'EGq4Iso0p1',\n",
      "                 'EGq4Iso0p3',\n",
      "                 'EGq5Iso0p2',\n",
      "                 'EGq5Iso0p1',\n",
      "                 'EGq5Iso0p3'],\n",
      "    'TkEleEL': [   'EGq2',\n",
      "                   'EGq2Pt10',\n",
      "                   'EGq2Pt15',\n",
      "                   'EGq2Pt20',\n",
      "                   'EGq2Pt25',\n",
      "                   'EGq2Pt30',\n",
      "                   'EGq2Pt40',\n",
      "                   'EGq3',\n",
      "                   'EGq3Pt10',\n",
      "                   'EGq3Pt15',\n",
      "                   'EGq3Pt20',\n",
      "                   'EGq3Pt25',\n",
      "                   'EGq3Pt30',\n",
      "                   'EGq3Pt40',\n",
      "                   'EGq4',\n",
      "                   'EGq4Pt10',\n",
      "                   'EGq4Pt15',\n",
      "                   'EGq4Pt20',\n",
      "                   'EGq4Pt25',\n",
      "                   'EGq4Pt30',\n",
      "                   'EGq4Pt40',\n",
      "                   'EGq5',\n",
      "                   'EGq5Pt10',\n",
      "                   'EGq5Pt15',\n",
      "                   'EGq5Pt20',\n",
      "                   'EGq5Pt25',\n",
      "                   'EGq5Pt30',\n",
      "                   'EGq5Pt40',\n",
      "                   'EGq2Iso0p2',\n",
      "                   'EGq2Iso0p1',\n",
      "                   'EGq2Iso0p3',\n",
      "                   'EGq3Iso0p2',\n",
      "                   'EGq3Iso0p1',\n",
      "                   'EGq3Iso0p3',\n",
      "                   'EGq4Iso0p2',\n",
      "                   'EGq4Iso0p1',\n",
      "                   'EGq4Iso0p3',\n",
      "                   'EGq5Iso0p2',\n",
      "                   'EGq5Iso0p1',\n",
      "                   'EGq5Iso0p3'],\n",
      "    'TkEleELALL': [   'all',\n",
      "                      'LooseTkID',\n",
      "                      'Iso0p1',\n",
      "                      'Pt10',\n",
      "                      'Pt10LooseTkID',\n",
      "                      'Pt10Iso0p1',\n",
      "                      'Pt15',\n",
      "                      'Pt15LooseTkID',\n",
      "                      'Pt15Iso0p1',\n",
      "                      'Pt20',\n",
      "                      'Pt20LooseTkID',\n",
      "                      'Pt20Iso0p1',\n",
      "                      'Pt25',\n",
      "                      'Pt25LooseTkID',\n",
      "                      'Pt25Iso0p1',\n",
      "                      'Pt30',\n",
      "                      'Pt30LooseTkID',\n",
      "                      'Pt30Iso0p1',\n",
      "                      'Pt40',\n",
      "                      'Pt40LooseTkID',\n",
      "                      'Pt40Iso0p1'],\n",
      "    'TkEleELBRL': ['all', 'Pt10', 'Pt15', 'Pt20', 'Pt25', 'Pt30', 'Pt40']}\n",
      "--- GEN selections:\n",
      "{   'EG': [   'GEN',\n",
      "              'GENPt15',\n",
      "              'GENPt10to25',\n",
      "              'GENPt30',\n",
      "              'GENPt35',\n",
      "              'GENPt40',\n",
      "              'GENEtaD',\n",
      "              'GENEtaDPt15',\n",
      "              'GENEtaDE',\n",
      "              'GENEtaDEPt15',\n",
      "              'GENEtaBC',\n",
      "              'GENEtaBCPt15',\n",
      "              'GENEtaBCD',\n",
      "              'GENEtaBCDPt15'],\n",
      "    'EGALL': [   'GEN',\n",
      "                 'GENPt15',\n",
      "                 'GENPt10to25',\n",
      "                 'GENPt30',\n",
      "                 'GENPt35',\n",
      "                 'GENPt40',\n",
      "                 'GENEtaF',\n",
      "                 'GENEtaD',\n",
      "                 'GENEtaBC',\n",
      "                 'GENEtaBCD'],\n",
      "    'EGBRL': [   'GEN',\n",
      "                 'GENPt15',\n",
      "                 'GENPt10to25',\n",
      "                 'GENPt30',\n",
      "                 'GENPt35',\n",
      "                 'GENPt40',\n",
      "                 'GENEtaF'],\n",
      "    'L1Trk': [   'GEN',\n",
      "                 'GENPt15',\n",
      "                 'GENPt10to25',\n",
      "                 'GENPt30',\n",
      "                 'GENPt35',\n",
      "                 'GENPt40',\n",
      "                 'GENEtaD',\n",
      "                 'GENEtaDPt15',\n",
      "                 'GENEtaDE',\n",
      "                 'GENEtaDEPt15',\n",
      "                 'GENEtaBC',\n",
      "                 'GENEtaBCPt15',\n",
      "                 'GENEtaBCD',\n",
      "                 'GENEtaBCDPt15'],\n",
      "    'L1TrkEmu': [   'GEN',\n",
      "                    'GENPt15',\n",
      "                    'GENPt10to25',\n",
      "                    'GENPt30',\n",
      "                    'GENPt35',\n",
      "                    'GENPt40',\n",
      "                    'GENEtaD',\n",
      "                    'GENEtaDPt15',\n",
      "                    'GENEtaDE',\n",
      "                    'GENEtaDEPt15',\n",
      "                    'GENEtaBC',\n",
      "                    'GENEtaBCPt15',\n",
      "                    'GENEtaBCD',\n",
      "                    'GENEtaBCDPt15'],\n",
      "    'TkEle': [   'GEN',\n",
      "                 'GENPt15',\n",
      "                 'GENPt10to25',\n",
      "                 'GENPt30',\n",
      "                 'GENPt35',\n",
      "                 'GENPt40',\n",
      "                 'GENEtaBC',\n",
      "                 'GENEtaBCPt15',\n",
      "                 'GENEtaBCD',\n",
      "                 'GENEtaBCDPt15'],\n",
      "    'TkEleEL': [   'GEN',\n",
      "                   'GENPt15',\n",
      "                   'GENPt10to25',\n",
      "                   'GENPt30',\n",
      "                   'GENPt35',\n",
      "                   'GENPt40',\n",
      "                   'GENEtaBC',\n",
      "                   'GENEtaBCPt15',\n",
      "                   'GENEtaBCD',\n",
      "                   'GENEtaBCDPt15'],\n",
      "    'TkEleELALL': [   'GEN',\n",
      "                      'GENPt15',\n",
      "                      'GENPt10to25',\n",
      "                      'GENPt30',\n",
      "                      'GENPt35',\n",
      "                      'GENPt40',\n",
      "                      'GENEtaF',\n",
      "                      'GENEtaD',\n",
      "                      'GENEtaBC',\n",
      "                      'GENEtaBCD'],\n",
      "    'TkEleELBRL': [   'GEN',\n",
      "                      'GENPt15',\n",
      "                      'GENPt10to25',\n",
      "                      'GENPt30',\n",
      "                      'GENPt35',\n",
      "                      'GENPt40',\n",
      "                      'GENEtaF']}\n"
     ]
    },
    {
     "name": "stderr",
     "output_type": "stream",
     "text": [
      "/Users/cerminar/.virtualenvs/HGCTPGPerformance/lib/python2.7/site-packages/ipykernel_launcher.py:82: UserWarning: DataFrame columns are not unique, some columns will be omitted.\n"
     ]
    }
   ],
   "source": [
    "# %load settings.py\n",
    "# === samples =====================================================\n",
    "# import python.selections as selections\n",
    "# import python.collections as collections\n",
    "\n",
    "import pprint\n",
    "\n",
    "\n",
    "samples = []\n",
    "\n",
    "# samples += samples_nugunrates\n",
    "# samples += samples_nugunrates_V8\n",
    "# samples += samples_ele_V8\n",
    "samples += samples_ele_V9\n",
    "# samples += samples_ele_calib\n",
    "\n",
    "for smp in samples:\n",
    "    smp.open_file()\n",
    "\n",
    "\n",
    "sample = 'ele-V9'\n",
    "\n",
    "do_rate = False\n",
    "do_eff = True\n",
    "\n",
    "# === TP ==========================================================\n",
    "tps = [\n",
    "       'L1Trk',\n",
    "       'L1TrkEmu',    \n",
    "       'EG',\n",
    "       'EGBRL',\n",
    "       'EGALL',\n",
    "       'TkEle',\n",
    "       'TkEleEL',\n",
    "#        'TkEleBRL',\n",
    "       'TkEleELBRL',\n",
    "#        'TkEleALL',\n",
    "       'TkEleELALL'\n",
    "      ]\n",
    "\n",
    "# tps = ['HMvDRshapeDrCalib',\n",
    "#        'HMvDREmInt',\n",
    "#        'EG'\n",
    "#       ]\n",
    "\n",
    "\n",
    "\n",
    "# === Load the Histo Primitives ====================================\n",
    "histo_primitives = pd.DataFrame()\n",
    "\n",
    "if do_rate:\n",
    "#     from python.plotters import rate_plotters, eg_rate_plotters\n",
    "\n",
    "    for plotter in configuration.rate_plotters:\n",
    "        histo_primitives = histo_primitives.append(plotter.get_histo_primitives(), ignore_index=True)\n",
    "    for plotter in configuration.eg_rate_plotters:\n",
    "        histo_primitives = histo_primitives.append(plotter.get_histo_primitives(), ignore_index=True)\n",
    "if do_eff:\n",
    "#     from python.plotters import eg_genmatched_plotters, track_genmatched_plotters, tp_genmatched_plotters\n",
    "    for plotter in configuration.tp_genmatched_plotters:\n",
    "        histo_primitives = histo_primitives.append(plotter.get_histo_primitives(), ignore_index=True)\n",
    "    for plotter in configuration.eg_genmatched_plotters:\n",
    "        histo_primitives = histo_primitives.append(plotter.get_histo_primitives(), ignore_index=True)\n",
    "    for plotter in configuration.track_genmatched_plotters:\n",
    "        histo_primitives = histo_primitives.append(plotter.get_histo_primitives(), ignore_index=True)\n",
    "        \n",
    "\n",
    "# print histo_primitives.data.unique()\n",
    "# === TP selections ================================================\n",
    "tp_select = {}\n",
    "\n",
    "for tp in tps:\n",
    "    tp_select[tp] = histo_primitives[histo_primitives.data == tp].data_sel.unique().tolist()\n",
    "\n",
    "# ==== GEN selections ===============================================\n",
    "gen_select ={}\n",
    "for tp in tps:\n",
    "    gen_select[tp] = histo_primitives[histo_primitives.data == tp].gen_sel.unique().tolist()\n",
    "\n",
    "#  ==== labels ===============================================\n",
    "tp_labels = histo_primitives[['data', 'data_label']].drop_duplicates().set_index('data').T.to_dict('records')[0]\n",
    "tp_selection_labels = histo_primitives[['data_sel', 'data_sel_label']].drop_duplicates().set_index('data_sel').T.to_dict('records')[0]\n",
    "gen_selection_labels = histo_primitives[['gen_sel', 'gen_sel_label']].drop_duplicates().set_index('gen_sel').T.to_dict('records')[0]\n",
    "\n",
    "\n",
    "\n",
    "import pprint\n",
    "pp = pprint.PrettyPrinter(indent=4)\n",
    "print '--- TPs: '\n",
    "pp.pprint(tps)\n",
    "print '--- TP selections:'\n",
    "pp.pprint(tp_select)\n",
    "print '--- GEN selections:'\n",
    "pp.pprint(gen_select)\n",
    "\n",
    "\n",
    "# print selections.eg_rate_selections\n"
   ]
  },
  {
   "cell_type": "code",
   "execution_count": 7,
   "metadata": {},
   "outputs": [
    {
     "name": "stdout",
     "output_type": "stream",
     "text": [
      "TP: L1Trk\n",
      "['all' 'Pt2' 'Pt5' 'Pt10' 'St4' 'St4Pt2' 'St4Pt5' 'St4Pt10']\n",
      "['GEN' 'GENPt15' 'GENPt10to25' 'GENPt30' 'GENPt35' 'GENPt40' 'GENEtaD'\n",
      " 'GENEtaDPt15' 'GENEtaDE' 'GENEtaDEPt15' 'GENEtaBC' 'GENEtaBCPt15'\n",
      " 'GENEtaBCD' 'GENEtaBCDPt15']\n",
      "TP: L1TrkEmu\n",
      "['all' 'Pt2' 'Pt5' 'Pt10' 'St4' 'St4Pt2' 'St4Pt5' 'St4Pt10']\n",
      "['GEN' 'GENPt15' 'GENPt10to25' 'GENPt30' 'GENPt35' 'GENPt40' 'GENEtaD'\n",
      " 'GENEtaDPt15' 'GENEtaDE' 'GENEtaDEPt15' 'GENEtaBC' 'GENEtaBCPt15'\n",
      " 'GENEtaBCD' 'GENEtaBCDPt15']\n",
      "TP: EG\n",
      "['EGq2' 'EGq2Pt10' 'EGq2Pt15' 'EGq2Pt20' 'EGq2Pt25' 'EGq2Pt30' 'EGq2Pt40'\n",
      " 'EGq3' 'EGq3Pt10' 'EGq3Pt15' 'EGq3Pt20' 'EGq3Pt25' 'EGq3Pt30' 'EGq3Pt40'\n",
      " 'EGq4' 'EGq4Pt10' 'EGq4Pt15' 'EGq4Pt20' 'EGq4Pt25' 'EGq4Pt30' 'EGq4Pt40'\n",
      " 'EGq5' 'EGq5Pt10' 'EGq5Pt15' 'EGq5Pt20' 'EGq5Pt25' 'EGq5Pt30' 'EGq5Pt40']\n",
      "['GEN' 'GENPt15' 'GENPt10to25' 'GENPt30' 'GENPt35' 'GENPt40' 'GENEtaD'\n",
      " 'GENEtaDPt15' 'GENEtaDE' 'GENEtaDEPt15' 'GENEtaBC' 'GENEtaBCPt15'\n",
      " 'GENEtaBCD' 'GENEtaBCDPt15']\n",
      "TP: EGBRL\n",
      "['all' 'LooseTkID' 'Pt10' 'Pt10LooseTkID' 'Pt15' 'Pt15LooseTkID' 'Pt20'\n",
      " 'Pt20LooseTkID' 'Pt25' 'Pt25LooseTkID' 'Pt30' 'Pt30LooseTkID' 'Pt40'\n",
      " 'Pt40LooseTkID']\n",
      "['GEN' 'GENPt15' 'GENPt10to25' 'GENPt30' 'GENPt35' 'GENPt40' 'GENEtaF']\n",
      "TP: EGALL\n",
      "['all' 'LooseTkID' 'Pt10' 'Pt10LooseTkID' 'Pt15' 'Pt15LooseTkID' 'Pt20'\n",
      " 'Pt20LooseTkID' 'Pt25' 'Pt25LooseTkID' 'Pt30' 'Pt30LooseTkID' 'Pt40'\n",
      " 'Pt40LooseTkID']\n",
      "['GEN' 'GENPt15' 'GENPt10to25' 'GENPt30' 'GENPt35' 'GENPt40' 'GENEtaF'\n",
      " 'GENEtaD' 'GENEtaBC' 'GENEtaBCD']\n",
      "TP: TkEle\n",
      "['EGq2' 'EGq2Pt10' 'EGq2Pt15' 'EGq2Pt20' 'EGq2Pt25' 'EGq2Pt30' 'EGq2Pt40'\n",
      " 'EGq3' 'EGq3Pt10' 'EGq3Pt15' 'EGq3Pt20' 'EGq3Pt25' 'EGq3Pt30' 'EGq3Pt40'\n",
      " 'EGq4' 'EGq4Pt10' 'EGq4Pt15' 'EGq4Pt20' 'EGq4Pt25' 'EGq4Pt30' 'EGq4Pt40'\n",
      " 'EGq5' 'EGq5Pt10' 'EGq5Pt15' 'EGq5Pt20' 'EGq5Pt25' 'EGq5Pt30' 'EGq5Pt40'\n",
      " 'EGq2Iso0p2' 'EGq2Iso0p1' 'EGq2Iso0p3' 'EGq3Iso0p2' 'EGq3Iso0p1'\n",
      " 'EGq3Iso0p3' 'EGq4Iso0p2' 'EGq4Iso0p1' 'EGq4Iso0p3' 'EGq5Iso0p2'\n",
      " 'EGq5Iso0p1' 'EGq5Iso0p3']\n",
      "['GEN' 'GENPt15' 'GENPt10to25' 'GENPt30' 'GENPt35' 'GENPt40' 'GENEtaBC'\n",
      " 'GENEtaBCPt15' 'GENEtaBCD' 'GENEtaBCDPt15']\n",
      "TP: TkEleEL\n",
      "['EGq2' 'EGq2Pt10' 'EGq2Pt15' 'EGq2Pt20' 'EGq2Pt25' 'EGq2Pt30' 'EGq2Pt40'\n",
      " 'EGq3' 'EGq3Pt10' 'EGq3Pt15' 'EGq3Pt20' 'EGq3Pt25' 'EGq3Pt30' 'EGq3Pt40'\n",
      " 'EGq4' 'EGq4Pt10' 'EGq4Pt15' 'EGq4Pt20' 'EGq4Pt25' 'EGq4Pt30' 'EGq4Pt40'\n",
      " 'EGq5' 'EGq5Pt10' 'EGq5Pt15' 'EGq5Pt20' 'EGq5Pt25' 'EGq5Pt30' 'EGq5Pt40'\n",
      " 'EGq2Iso0p2' 'EGq2Iso0p1' 'EGq2Iso0p3' 'EGq3Iso0p2' 'EGq3Iso0p1'\n",
      " 'EGq3Iso0p3' 'EGq4Iso0p2' 'EGq4Iso0p1' 'EGq4Iso0p3' 'EGq5Iso0p2'\n",
      " 'EGq5Iso0p1' 'EGq5Iso0p3']\n",
      "['GEN' 'GENPt15' 'GENPt10to25' 'GENPt30' 'GENPt35' 'GENPt40' 'GENEtaBC'\n",
      " 'GENEtaBCPt15' 'GENEtaBCD' 'GENEtaBCDPt15']\n",
      "TP: TkEleELBRL\n",
      "['all' 'Pt10' 'Pt15' 'Pt20' 'Pt25' 'Pt30' 'Pt40']\n",
      "['GEN' 'GENPt15' 'GENPt10to25' 'GENPt30' 'GENPt35' 'GENPt40' 'GENEtaF']\n",
      "TP: TkEleELALL\n",
      "['all' 'LooseTkID' 'Iso0p1' 'Pt10' 'Pt10LooseTkID' 'Pt10Iso0p1' 'Pt15'\n",
      " 'Pt15LooseTkID' 'Pt15Iso0p1' 'Pt20' 'Pt20LooseTkID' 'Pt20Iso0p1' 'Pt25'\n",
      " 'Pt25LooseTkID' 'Pt25Iso0p1' 'Pt30' 'Pt30LooseTkID' 'Pt30Iso0p1' 'Pt40'\n",
      " 'Pt40LooseTkID' 'Pt40Iso0p1']\n",
      "['GEN' 'GENPt15' 'GENPt10to25' 'GENPt30' 'GENPt35' 'GENPt40' 'GENEtaF'\n",
      " 'GENEtaD' 'GENEtaBC' 'GENEtaBCD']\n"
     ]
    }
   ],
   "source": [
    "for tp in tps:\n",
    "    print 'TP: {}'.format(tp)\n",
    "    print histo_primitives[histo_primitives.data == tp].data_sel.unique()\n",
    "    print histo_primitives[histo_primitives.data == tp].gen_sel.unique()"
   ]
  },
  {
   "cell_type": "code",
   "execution_count": 8,
   "metadata": {},
   "outputs": [
    {
     "data": {
      "text/plain": [
       "{'EG': 'EG',\n",
       " 'EGALL': 'EG all',\n",
       " 'EGBRL': 'EG barrel',\n",
       " 'HMvDR': 'HM+dR(layer) Cl3d',\n",
       " 'HMvDRCalib': 'HM calib.',\n",
       " 'HMvDREmInt': 'HM+dR(layer) Cl3d EM Int',\n",
       " 'HMvDRshapeDrCalib': 'HM #Delta#rho < 0.015 calib.',\n",
       " 'L1Trk': 'L1Track',\n",
       " 'L1TrkEmu': 'L1Track EMU',\n",
       " 'TkEle': 'TkEle',\n",
       " 'TkEleEL': 'TkEle Ell. match',\n",
       " 'TkEleELALL': 'TkEle Ell. match all',\n",
       " 'TkEleELBRL': 'TkEle Ell. match barrel'}"
      ]
     },
     "execution_count": 8,
     "metadata": {},
     "output_type": "execute_result"
    }
   ],
   "source": [
    "tp_labels"
   ]
  },
  {
   "cell_type": "code",
   "execution_count": 9,
   "metadata": {},
   "outputs": [
    {
     "data": {
      "text/plain": [
       "{'EGq2': 'hwQual 2',\n",
       " 'EGq2Iso0p1': 'hwQual 2, Iso0p1',\n",
       " 'EGq2Iso0p2': 'hwQual 2, Iso0p2',\n",
       " 'EGq2Iso0p3': 'hwQual 2, Iso0p3',\n",
       " 'EGq2Pt10': 'hwQual 2, p_{T}^{L1}>=10GeV',\n",
       " 'EGq2Pt15': 'hwQual 2, p_{T}^{L1}>=15GeV',\n",
       " 'EGq2Pt20': 'hwQual 2, p_{T}^{L1}>=20GeV',\n",
       " 'EGq2Pt25': 'hwQual 2, p_{T}^{L1}>=25GeV',\n",
       " 'EGq2Pt30': 'hwQual 2, p_{T}^{L1}>=30GeV',\n",
       " 'EGq2Pt40': 'hwQual 2, p_{T}^{L1}>=40GeV',\n",
       " 'EGq3': 'hwQual 3',\n",
       " 'EGq3Iso0p1': 'hwQual 3, Iso0p1',\n",
       " 'EGq3Iso0p2': 'hwQual 3, Iso0p2',\n",
       " 'EGq3Iso0p3': 'hwQual 3, Iso0p3',\n",
       " 'EGq3Pt10': 'hwQual 3, p_{T}^{L1}>=10GeV',\n",
       " 'EGq3Pt15': 'hwQual 3, p_{T}^{L1}>=15GeV',\n",
       " 'EGq3Pt20': 'hwQual 3, p_{T}^{L1}>=20GeV',\n",
       " 'EGq3Pt25': 'hwQual 3, p_{T}^{L1}>=25GeV',\n",
       " 'EGq3Pt30': 'hwQual 3, p_{T}^{L1}>=30GeV',\n",
       " 'EGq3Pt40': 'hwQual 3, p_{T}^{L1}>=40GeV',\n",
       " 'EGq4': 'hwQual 4',\n",
       " 'EGq4Iso0p1': 'hwQual 4, Iso0p1',\n",
       " 'EGq4Iso0p2': 'hwQual 4, Iso0p2',\n",
       " 'EGq4Iso0p3': 'hwQual 4, Iso0p3',\n",
       " 'EGq4Pt10': 'hwQual 4, p_{T}^{L1}>=10GeV',\n",
       " 'EGq4Pt15': 'hwQual 4, p_{T}^{L1}>=15GeV',\n",
       " 'EGq4Pt20': 'hwQual 4, p_{T}^{L1}>=20GeV',\n",
       " 'EGq4Pt25': 'hwQual 4, p_{T}^{L1}>=25GeV',\n",
       " 'EGq4Pt30': 'hwQual 4, p_{T}^{L1}>=30GeV',\n",
       " 'EGq4Pt40': 'hwQual 4, p_{T}^{L1}>=40GeV',\n",
       " 'EGq5': 'hwQual 5',\n",
       " 'EGq5Iso0p1': 'hwQual 5, Iso0p1',\n",
       " 'EGq5Iso0p2': 'hwQual 5, Iso0p2',\n",
       " 'EGq5Iso0p3': 'hwQual 5, Iso0p3',\n",
       " 'EGq5Pt10': 'hwQual 5, p_{T}^{L1}>=10GeV',\n",
       " 'EGq5Pt15': 'hwQual 5, p_{T}^{L1}>=15GeV',\n",
       " 'EGq5Pt20': 'hwQual 5, p_{T}^{L1}>=20GeV',\n",
       " 'EGq5Pt25': 'hwQual 5, p_{T}^{L1}>=25GeV',\n",
       " 'EGq5Pt30': 'hwQual 5, p_{T}^{L1}>=30GeV',\n",
       " 'EGq5Pt40': 'hwQual 5, p_{T}^{L1}>=40GeV',\n",
       " 'Em': 'EGId',\n",
       " 'EmPt10': 'EGId, p_{T}^{L1}>=10GeV',\n",
       " 'EmPt20': 'EGId, p_{T}^{L1}>=20GeV',\n",
       " 'EmPt30': 'EGId, p_{T}^{L1}>=30GeV',\n",
       " 'Iso0p1': 'Iso0p1',\n",
       " 'LooseTkID': 'LooseTkID',\n",
       " 'Pt10': 'p_{T}^{tk} > 10 GeV',\n",
       " 'Pt10Iso0p1': 'p_{T}^{L1}>=10GeV, Iso0p1',\n",
       " 'Pt10LooseTkID': 'p_{T}^{L1}>=10GeV, LooseTkID',\n",
       " 'Pt15': 'p_{T}^{L1}>=15GeV',\n",
       " 'Pt15Iso0p1': 'p_{T}^{L1}>=15GeV, Iso0p1',\n",
       " 'Pt15LooseTkID': 'p_{T}^{L1}>=15GeV, LooseTkID',\n",
       " 'Pt2': 'p_{T}^{tk} > 2 GeV',\n",
       " 'Pt20': 'p_{T}^{L1}>=20GeV',\n",
       " 'Pt20Iso0p1': 'p_{T}^{L1}>=20GeV, Iso0p1',\n",
       " 'Pt20LooseTkID': 'p_{T}^{L1}>=20GeV, LooseTkID',\n",
       " 'Pt25': 'p_{T}^{L1}>=25GeV',\n",
       " 'Pt25Iso0p1': 'p_{T}^{L1}>=25GeV, Iso0p1',\n",
       " 'Pt25LooseTkID': 'p_{T}^{L1}>=25GeV, LooseTkID',\n",
       " 'Pt30': 'p_{T}^{L1}>=30GeV',\n",
       " 'Pt30Iso0p1': 'p_{T}^{L1}>=30GeV, Iso0p1',\n",
       " 'Pt30LooseTkID': 'p_{T}^{L1}>=30GeV, LooseTkID',\n",
       " 'Pt40': 'p_{T}^{L1}>=40GeV',\n",
       " 'Pt40Iso0p1': 'p_{T}^{L1}>=40GeV, Iso0p1',\n",
       " 'Pt40LooseTkID': 'p_{T}^{L1}>=40GeV, LooseTkID',\n",
       " 'Pt5': 'p_{T}^{tk} > 5 GeV',\n",
       " 'St4': '# stubs > 3',\n",
       " 'St4Pt10': '# stubs > 3, p_{T}^{tk} > 10 GeV',\n",
       " 'St4Pt2': '# stubs > 3, p_{T}^{tk} > 2 GeV',\n",
       " 'St4Pt5': '# stubs > 3, p_{T}^{tk} > 5 GeV',\n",
       " 'all': ''}"
      ]
     },
     "execution_count": 9,
     "metadata": {},
     "output_type": "execute_result"
    }
   ],
   "source": [
    "tp_selection_labels"
   ]
  },
  {
   "cell_type": "code",
   "execution_count": 10,
   "metadata": {},
   "outputs": [
    {
     "data": {
      "text/plain": [
       "{'GEN': '',\n",
       " 'GENEtaBC': '1.52 < |#eta^{GEN}| <= 2.4',\n",
       " 'GENEtaBCD': '1.52 < |#eta^{GEN}| <= 2.8',\n",
       " 'GENEtaBCDPt15': '1.52 < |#eta^{GEN}| <= 2.8, p_{T}^{GEN}>=15GeV',\n",
       " 'GENEtaBCPt15': '1.52 < |#eta^{GEN}| <= 2.4, p_{T}^{GEN}>=15GeV',\n",
       " 'GENEtaD': '2.4 < |#eta^{GEN}| <= 2.8',\n",
       " 'GENEtaDE': '2.4 < |#eta^{GEN}| <= 3.0',\n",
       " 'GENEtaDEPt15': '2.4 < |#eta^{GEN}| <= 3.0, p_{T}^{GEN}>=15GeV',\n",
       " 'GENEtaDPt15': '2.4 < |#eta^{GEN}| <= 2.8, p_{T}^{GEN}>=15GeV',\n",
       " 'GENEtaF': '|#eta^{GEN}| <= 1.479',\n",
       " 'GENPt10to25': '10 #leq p_{T}^{GEN} < 25GeV',\n",
       " 'GENPt15': 'p_{T}^{GEN}>=15GeV',\n",
       " 'GENPt30': 'p_{T}^{GEN}>=30GeV',\n",
       " 'GENPt35': 'p_{T}^{GEN}>=35GeV',\n",
       " 'GENPt40': 'p_{T}^{GEN}>=40GeV'}"
      ]
     },
     "execution_count": 10,
     "metadata": {},
     "output_type": "execute_result"
    }
   ],
   "source": [
    "gen_selection_labels"
   ]
  },
  {
   "cell_type": "markdown",
   "metadata": {},
   "source": []
  },
  {
   "cell_type": "code",
   "execution_count": 11,
   "metadata": {},
   "outputs": [
    {
     "name": "stdout",
     "output_type": "stream",
     "text": [
      "CPU times: user 14.9 s, sys: 768 ms, total: 15.7 s\n",
      "Wall time: 15.6 s\n"
     ]
    }
   ],
   "source": [
    "%%time\n",
    "\n",
    "hplot = HPlot(samples, tp_labels, tp_selection_labels, gen_selection_labels)\n",
    "\n",
    "for tp in tps:\n",
    "    hplot.cache_histo(classtype=histos.HistoSetEff, \n",
    "                      samples=samples,\n",
    "                      pus=[],\n",
    "                      tps=[tp],\n",
    "                      tp_sels=histo_primitives[histo_primitives.data == tp].data_sel.unique(),\n",
    "                      gen_sels=gen_select[tp])\n",
    "\n"
   ]
  },
  {
   "cell_type": "code",
   "execution_count": 12,
   "metadata": {},
   "outputs": [
    {
     "name": "stdout",
     "output_type": "stream",
     "text": [
      "['__doc__', '__init__', '__module__', '__repr__', 'histo_file', 'histo_filename', 'label', 'name', 'open_file', 'type']\n"
     ]
    },
    {
     "data": {
      "text/plain": [
       "[<Sample ../plots1/histos_ele_flat2to100_PU0_eg_v121.root, ele-V9>,\n",
       " <Sample ../plots1/histos_ele_flat2to100_PU200_eg_v121.root, ele-V9>]"
      ]
     },
     "execution_count": 12,
     "metadata": {},
     "output_type": "execute_result"
    },
    {
     "name": "stdout",
     "output_type": "stream",
     "text": [
      "TFile**\t\t../plots1/histos_ele_flat2to100_PU0_eg_v121.root\t\n",
      " TFile*\t\t../plots1/histos_ele_flat2to100_PU0_eg_v121.root\t\n",
      "  KEY: TDirectoryFile\tEGHistos;1\tEGHistos\n",
      "  KEY: TDirectoryFile\tEGResoHistos;1\tEGResoHistos\n",
      "  KEY: TDirectoryFile\tGenParticleHistos;1\tGenParticleHistos\n"
     ]
    }
   ],
   "source": [
    "print dir(samples[0])\n",
    "samples[0].histo_file.ls()\n",
    "samples"
   ]
  },
  {
   "cell_type": "code",
   "execution_count": 13,
   "metadata": {},
   "outputs": [
    {
     "name": "stdout",
     "output_type": "stream",
     "text": [
      "[<python.l1THistos.HistoSetEff instance at 0x11a27acf8>]\n"
     ]
    },
    {
     "data": {
      "text/plain": [
       "['__doc__', '__init__', '__module__']"
      ]
     },
     "execution_count": 13,
     "metadata": {},
     "output_type": "execute_result"
    }
   ],
   "source": [
    "hsets, labels, text = hplot.get_histo(histos.HistoSetEff, sample, ['PU200'], 'TkEle', 'EGq4Pt20', ['GENEtaBC'], debug=False)\n",
    "print hsets\n",
    "hsets[0].name\n",
    "hsets[0].name\n",
    "dir(hsets[0].h_eff)"
   ]
  },
  {
   "cell_type": "code",
   "execution_count": null,
   "metadata": {
    "scrolled": true
   },
   "outputs": [
    {
     "name": "stdout",
     "output_type": "stream",
     "text": [
      "Sample: ele-V9\n",
      "PU: PU0, TP: L1Trk\n",
      "  Pt2 den -> all\n",
      "  Pt5 den -> all\n",
      "  Pt10 den -> all\n",
      "  St4Pt2 den -> St4\n",
      "  St4Pt5 den -> St4\n",
      "  St4Pt10 den -> St4\n",
      "PU: PU0, TP: L1TrkEmu\n",
      "  Pt2 den -> all\n",
      "  Pt5 den -> all\n",
      "  Pt10 den -> all\n",
      "  St4Pt2 den -> St4\n",
      "  St4Pt5 den -> St4\n",
      "  St4Pt10 den -> St4\n",
      "PU: PU0, TP: EG\n",
      "  EGq2Pt10 den -> EGq2\n",
      "  EGq2Pt15 den -> EGq2\n",
      "  EGq2Pt20 den -> EGq2\n",
      "  EGq2Pt25 den -> EGq2\n",
      "  EGq2Pt30 den -> EGq2\n",
      "  EGq2Pt40 den -> EGq2\n",
      "  EGq3Pt10 den -> EGq3\n",
      "  EGq3Pt15 den -> EGq3\n",
      "  EGq3Pt20 den -> EGq3\n",
      "  EGq3Pt25 den -> EGq3\n",
      "  EGq3Pt30 den -> EGq3\n",
      "  EGq3Pt40 den -> EGq3\n",
      "  EGq4Pt10 den -> EGq4\n",
      "  EGq4Pt15 den -> EGq4\n",
      "  EGq4Pt20 den -> EGq4\n",
      "  EGq4Pt25 den -> EGq4\n",
      "  EGq4Pt30 den -> EGq4\n",
      "  EGq4Pt40 den -> EGq4\n",
      "  EGq5Pt10 den -> EGq5\n",
      "  EGq5Pt15 den -> EGq5\n",
      "  EGq5Pt20 den -> EGq5\n",
      "  EGq5Pt25 den -> EGq5\n",
      "  EGq5Pt30 den -> EGq5\n",
      "  EGq5Pt40 den -> EGq5\n",
      "PU: PU0, TP: EGBRL\n",
      "  Pt10 den -> all\n",
      "  Pt10LooseTkID den -> all\n",
      "  Pt15 den -> all\n",
      "  Pt15LooseTkID den -> all\n",
      "  Pt20 den -> all\n",
      "  Pt20LooseTkID den -> all\n",
      "  Pt25 den -> all\n",
      "  Pt25LooseTkID den -> all\n",
      "  Pt30 den -> all\n",
      "  Pt30LooseTkID den -> all\n",
      "  Pt40 den -> all\n",
      "  Pt40LooseTkID den -> all\n",
      "PU: PU0, TP: EGALL\n",
      "  Pt10 den -> all\n"
     ]
    }
   ],
   "source": [
    "%%time\n",
    "\n",
    "for smp in hplot.data['sample'].unique():\n",
    "    print 'Sample: {}'.format(smp)\n",
    "    for pu in hplot.data[(hplot.data['sample'] == smp)].pu.unique():\n",
    "        for tp in tps:\n",
    "#         for tp in ['EG', 'TkEleEL']:\n",
    "            print 'PU: {}, TP: {}'.format(pu, tp)\n",
    "            for tp_sel in hplot.data[(hplot.data['sample'] == smp) & (hplot.data.pu == pu) & (hplot.data.tp == tp)].tp_sel.unique():\n",
    "                if 'Pt' not in tp_sel:\n",
    "                    continue\n",
    "#                 tp_sel_den = 'all'\n",
    "                # print tp_sel\n",
    "                tp_sel_den = tp_sel.split('Pt')[0]\n",
    "                if tp_sel_den == '':\n",
    "                    tp_sel_den = 'all'\n",
    "                print '  {} den -> {}'.format(tp_sel, tp_sel_den) \n",
    "                for gen_sel in hplot.data[(hplot.data['sample'] == smp) & (hplot.data.pu == pu) & (hplot.data.tp == tp) & (hplot.data.tp_sel == tp_sel)].gen_sel.unique():\n",
    "                    if gen_sel == 'nomatch' or 'Pt' in gen_sel:\n",
    "                        continue\n",
    "#                     print gen_sel\n",
    "                    hsetden = hplot.get_histo(histos.HistoSetEff, smp, pu, tp, tp_sel_den, gen_sel)\n",
    "                    hset = hplot.get_histo(histos.HistoSetEff, smp, pu, tp, tp_sel, gen_sel)\n",
    "                    hset[0][0].computeTurnOn(hsetden[0][0].h_num)\n"
   ]
  },
  {
   "cell_type": "code",
   "execution_count": null,
   "metadata": {},
   "outputs": [],
   "source": [
    "hplot.data[:10]"
   ]
  },
  {
   "cell_type": "code",
   "execution_count": null,
   "metadata": {},
   "outputs": [],
   "source": [
    "hplot.data['sample'].unique()"
   ]
  },
  {
   "cell_type": "code",
   "execution_count": null,
   "metadata": {},
   "outputs": [],
   "source": [
    "hplot.data['tp'].unique()"
   ]
  },
  {
   "cell_type": "code",
   "execution_count": null,
   "metadata": {},
   "outputs": [],
   "source": [
    "hplot.data[hplot.data.tp == 'L1TrkEmu'].tp_sel.unique()"
   ]
  },
  {
   "cell_type": "code",
   "execution_count": null,
   "metadata": {},
   "outputs": [],
   "source": [
    "hplot.data[hplot.data.tp == 'TkEle'].tp_sel.unique()"
   ]
  },
  {
   "cell_type": "code",
   "execution_count": null,
   "metadata": {},
   "outputs": [],
   "source": [
    "# sample='ele'"
   ]
  },
  {
   "cell_type": "code",
   "execution_count": null,
   "metadata": {},
   "outputs": [],
   "source": [
    "hsets, labels, text = hplot.get_histo(histos.HistoSetEff, sample, ['PU200'], 'EG', 'EGq5Pt25', ['GENEtaBC'], debug=False)\n",
    "print hsets\n",
    "hsets[0].name\n",
    "print dir(hsets[0].h_eff)\n"
   ]
  },
  {
   "cell_type": "markdown",
   "metadata": {},
   "source": [
    "## Effinciency vs $\\eta$"
   ]
  },
  {
   "cell_type": "code",
   "execution_count": null,
   "metadata": {},
   "outputs": [],
   "source": [
    "dir(hplot)\n"
   ]
  },
  {
   "cell_type": "code",
   "execution_count": null,
   "metadata": {},
   "outputs": [],
   "source": [
    "# newconfig=tdr_config\n",
    "# newconfig.legend_size=(0.5, 0.2)\n",
    "# newconfig.legend_position=(0.4, 0.2)\n",
    "\n",
    "# dm = DrawMachine(newconfig)\n",
    "# hsets, labels, text = hplot.get_histo(histos.HistoSetEff, ['ele-V9'], ['PU200'], ['EG'], 'EGq5Pt25', 'GENPt30', debug=False)\n",
    "# dm.addHistos([his.h_eff.h_abseta.CreateGraph() for his in hsets], ['EG calo-only'])\n",
    "\n",
    "# # hsets, labels, text = hplot.get_histo(histos.HistoSetEff, ['hybrid'], ['PU200'], ['L1Trk', ], ['Pt10'], 'GENPt30', debug=False)\n",
    "# # dm.addHistos([his.h_eff.h_abseta.CreateGraph() for his in hsets], ['L1 tracks (p_{T} > 10 GeV)'])\n",
    "# hsets, labels, text = hplot.get_histo(histos.HistoSetEff, ['ele-V9'], ['PU200'], ['TkEle', 'TkEleEL'], 'EGq5Pt25', 'GENPt30', debug=False)\n",
    "# dm.addHistos([his.h_eff.h_abseta.CreateGraph() for his in hsets], ['EG track-match', 'EG track-match (Elliptic cut)'])\n",
    "\n",
    "\n",
    "# dm.draw(text='EG endcap, p_{T}^{GEN}>25GeV', x_min=1.5, x_max=3.2, y_min=0.5, y_max=1.1, v_lines=[1.52, 2.4])\n",
    "# dm.write(name='egEndcap_matchingEffBreakdown')"
   ]
  },
  {
   "cell_type": "code",
   "execution_count": null,
   "metadata": {},
   "outputs": [],
   "source": [
    "hsets, labels, text = hplot.get_histo(histos.HistoSetEff, ['ele-V9'], ['PU200'], ['TkEleEL'], 'EGq5Pt10', 'GENPt15', debug=False)\n",
    "draw([his.h_eff.h_abseta.CreateGraph() for his in hsets], labels, text=text, min_y=0, max_y=1.1, v_lines=[-2.8, -2.4, -1.7, -1.52, 1.52, 1.7, 2.4, 2.8])\n"
   ]
  },
  {
   "cell_type": "code",
   "execution_count": null,
   "metadata": {
    "scrolled": false
   },
   "outputs": [],
   "source": [
    "# for tp in tps:\n",
    "#     for tp_sel in tp_select[tp]:\n",
    "#         for gen_sel in ['GEN']:\n",
    "#             hsets, labels, text = hplot.get_histo(histos.HistoSetEff, ['hybrid', 'ele-V9'], ['PU200'], tp, tp_sel, gen_sel, debug=False)\n",
    "#             # drawSeveral([his.hreso.h_ptResVpt for his in hsets], labels,  'COLZ', do_profile=True, text=text)\n",
    "#             draw([his.h_eff.h_eta.CreateGraph() for his in hsets], labels, text=text, min_y=0, max_y=1.1, v_lines=[-2.8, -2.4, -1.7, -1.52, 1.52, 1.7, 2.4, 2.8])\n",
    "# #             print [his.h_num.h_eta.GetName() for his in hsets]"
   ]
  },
  {
   "cell_type": "code",
   "execution_count": null,
   "metadata": {},
   "outputs": [],
   "source": [
    "hsets, labels, text = hplot.get_histo(histos.HistoSetEff, ['hybrid', 'ele-V9'], ['PU200'], 'TkEleEL', 'EGq5Pt10', 'GENPt15', debug=False)\n",
    "draw([his.h_eff.h_abseta.CreateGraph() for his in hsets], labels, text=text, min_y=0, max_y=1.1, v_lines=[-2.8, -2.4, -1.7, -1.52, 1.52, 1.7, 2.4, 2.8])\n"
   ]
  },
  {
   "cell_type": "code",
   "execution_count": null,
   "metadata": {},
   "outputs": [],
   "source": [
    "hsets, labels, text = hplot.get_histo(histos.HistoSetEff, ['hybrid', 'ele-V9'], ['PU200'], 'TkEleELALL', 'Pt10LooseTkID', 'GENPt15', debug=False)\n",
    "\n",
    "draw([his.h_eff.h_abseta.CreateGraph() for his in hsets], labels, text=text, min_y=0, max_y=1.1, v_lines=[-2.8, -2.4, -1.7, -1.52, 1.52, 1.7, 2.4, 2.8])"
   ]
  },
  {
   "cell_type": "code",
   "execution_count": null,
   "metadata": {},
   "outputs": [],
   "source": [
    "hsets, labels, text = hplot.get_histo(histos.HistoSetEff, ['hybrid', 'ele-V9'], ['PU200'], 'TkEleEL', 'EGq5Pt25', 'GENPt35', debug=False)\n",
    "draw([his.h_eff.h_abseta.CreateGraph() for his in hsets], labels, text=text, min_y=0, max_y=1.1, v_lines=[-2.8, -2.4, -1.7, -1.52, 1.52, 1.7, 2.4, 2.8])\n"
   ]
  },
  {
   "cell_type": "code",
   "execution_count": null,
   "metadata": {},
   "outputs": [],
   "source": [
    "hsets, labels, text = hplot.get_histo(histos.HistoSetEff, ['hybrid', 'ele-V9'], ['PU200'], 'TkEleELALL', 'Pt25LooseTkID', 'GENPt35', debug=False)\n",
    "draw([his.h_eff.h_abseta.CreateGraph() for his in hsets], labels, text=text, min_y=0, max_y=1.1, v_lines=[1.52, 1.7, 2.4, 2.8])\n"
   ]
  },
  {
   "cell_type": "code",
   "execution_count": null,
   "metadata": {},
   "outputs": [],
   "source": [
    "# sample='hybrid'"
   ]
  },
  {
   "cell_type": "code",
   "execution_count": null,
   "metadata": {
    "scrolled": false
   },
   "outputs": [],
   "source": [
    "hsets, labels, text = hplot.get_histo(histos.HistoSetEff, 'ele-V9', ['PU200'], ['EGALL', 'TkEleELALL'], ['Pt25LooseTkID', 'Pt25Iso0p1'], ['GENPt35'], debug=False)\n",
    "\n",
    "for hset in hsets:\n",
    "    hset.computeEff(rebin=2)\n",
    "\n",
    "# labels = ['TP head', 'L1 menu version', 'backported']\n",
    "text_forprint = 'EG, p_{T}^{L1} #geq 25GeV, p_{T}^{GEN} #geq 35GeV'\n",
    "\n",
    "\n",
    "labels_final = []\n",
    "labels_final.append('calorimeter-only')\n",
    "labels_final.append('track-matched')\n",
    "labels_final.append('#splitline{track-matched + charged iso.}{(no EG ID for |#eta| < 1.479)}')\n",
    "\n",
    "\n",
    "canv = draw([his.h_eff.h_abseta.CreateGraph() for his in hsets], labels_final, text=text_forprint, \n",
    "     min_x=0, max_x=3.5, min_y=0.6, max_y=1.1, v_lines=[1.47, 1.52, 2.4],\n",
    "     y_axis_label='efficiency',\n",
    "    legend_position = (0.16, 0.2, 0.42, 0.35),\n",
    "     do_write=True, write_name='figs/egammaBarrelEndcap_EG_GENPt30_hEffVAbsEta')\n",
    "\n",
    "# print canv.GetByType(ROOT.TLegend)\n",
    "# leg2 = getLegend(0.56, 0.15, 0.92, 0.30)\n",
    "# leg2.SetHeader('|#eta|>1.479')\n",
    "# for idx,his in enumerate(hsets):\n",
    "#     leg2.AddEntry(his.h_eff.h_eta.CreateGraph(), labels_final[idx], 'P')\n",
    "# leg2.Draw('same')\n",
    "# canv.Draw()\n",
    "# SaveCanvas(canv, 'test')\n",
    "# stuff[-7].AddEntry(ROOT.TObject(), 'PIPPO', '')\n",
    "# stuff[-7].Draw('same')\n",
    "# canv.Draw()\n",
    "\n",
    "# print canv.GetListOfPrimitives().Print()\n",
    "\n",
    "draw([his.h_eff.h_eta.CreateGraph() for his in hsets], labels_final, text=text_forprint, \n",
    "     min_x=-3.5, max_x=3.5, min_y=0.6, max_y=1.1, v_lines=[-1.47, -1.52, -2.4, 1.47, 1.52, 2.4],\n",
    "     y_axis_label='eff. (L1 matched to GEN/GEN)',\n",
    "     do_write=True, write_name='figs/egammaBarrelEndcap_EG_GENPt30_hEffVEta')\n",
    "\n"
   ]
  },
  {
   "cell_type": "code",
   "execution_count": null,
   "metadata": {
    "scrolled": false
   },
   "outputs": [],
   "source": [
    "hsets, labels, text = hplot.get_histo(histos.HistoSetEff, 'ele-V9', ['PU200'], 'EG', ['EGq5Pt25'], ['GENPt35'], debug=False)\n",
    "# labels = ['TP head', 'L1 menu version', 'backported']\n",
    "text_forprint = 'EG endcap, p_{T}^{L1} #geq 25GeV, p_{T}^{GEN} #geq 35GeV'\n",
    "draw([his.h_eff.h_abseta.CreateGraph() for his in hsets], labels, text=text_forprint, \n",
    "     min_x=1.5, max_x=3.5, min_y=0.6, max_y=1.1, v_lines=[1.52, 2.4],\n",
    "     y_axis_label='eff. (L1 matched to GEN/GEN)',\n",
    "     do_write=True, write_name='figs/egammaEndcap_EG_EGq5Pt25_GENPt35_hEffVEta')\n"
   ]
  },
  {
   "cell_type": "code",
   "execution_count": null,
   "metadata": {},
   "outputs": [],
   "source": [
    "hsets, labels, text = hplot.get_histo(histos.HistoSetEff, sample, ['PU200'], ['EG','TkEleEL'], ['EGq5Pt25', 'EGq5Iso0p1'], 'GENPt30', debug=False)\n",
    "draw([his.h_eff.h_eta.CreateGraph() for his in hsets], labels, text=text, min_y=0.6, max_y=1.1, v_lines=[-2.8, -2.4, -1.7, -1.52, 1.52, 1.7, 2.4, 2.8],\n",
    "     do_write=True, write_name='egammaEndcap_TkEle_EGq4Pt30_GENPt40_hEffVEta')\n"
   ]
  },
  {
   "cell_type": "code",
   "execution_count": null,
   "metadata": {},
   "outputs": [],
   "source": [
    "hsets, labels, text = hplot.get_histo(histos.HistoSetEff, None, ['PU200'], ['TkEleEL'], ['EGq4Pt25', 'EGq4Iso0p2Pt25', 'EGq4Iso0p3Pt25', 'EGq5Pt25'], 'GENPt30', debug=False)\n",
    "draw([his.h_eff.h_eta.CreateGraph() for his in hsets], labels, text=text, min_y=0.6, max_y=1.1, v_lines=[-2.8, -2.4, -1.7, -1.52, 1.52, 1.7, 2.4, 2.8])\n"
   ]
  },
  {
   "cell_type": "code",
   "execution_count": null,
   "metadata": {},
   "outputs": [],
   "source": [
    "hsets, labels, text = hplot.get_histo(histos.HistoSetEff, sample, ['PU200'], ['TkEleBRL', 'TkEleELBRL'], ['Pt30'], ['GENPt40'], debug=False)\n",
    "draw([his.h_eff.h_eta.CreateGraph() for his in hsets], labels, text=text, min_y=0.6, max_y=1.1, v_lines=[-2.8, -2.4, -1.7, -1.52, 1.52, 1.7, 2.4, 2.8],\n",
    "     do_write=False, write_name='egammaEndcap_TkEle_EGq4Pt30_GENPt40_hEffVEta')\n",
    "\n"
   ]
  },
  {
   "cell_type": "code",
   "execution_count": null,
   "metadata": {},
   "outputs": [],
   "source": [
    "hsets, labels, text = hplot.get_histo(histos.HistoSetEff, sample, ['PU200'], ['TkEleELBRL'], 'Pt20', 'GENPt30', debug=False)\n",
    "\n",
    "newset = []\n",
    "\n",
    "h_barrel = hsets[0].h_eff.h_eta.CreateGraph()\n",
    "\n",
    "hsets, labels, text = hplot.get_histo(histos.HistoSetEff, sample, ['PU200'], ['TkEleEL'], 'EGq5Pt20', 'GENPt30', debug=False)\n",
    "\n",
    "h_endcap = hsets[0].h_eff.h_eta.CreateGraph()\n",
    "\n",
    "newset.append(h_barrel)\n",
    "newset.append(h_endcap)\n",
    "\n",
    "newlabels = ['barrel', 'endcap']\n",
    "\n",
    "draw(newset, newlabels, text=text, min_y=0.6, max_y=1.1, v_lines=[-2.8, -2.4, -1.7, -1.52, 1.52, 1.7, 2.4, 2.8],\n",
    "     do_write=True, write_name='egammaEndcap_TkEle_EGq4Pt30_GENPt40_hEffVEta')\n"
   ]
  },
  {
   "cell_type": "code",
   "execution_count": null,
   "metadata": {},
   "outputs": [],
   "source": [
    "hsets, labels, text = hplot.get_histo(histos.HistoSetEff, sample, ['PU200'], ['TkEleBRL', 'TkEleELBRL'], 'Pt20', 'GENPt30', debug=False)\n",
    "draw([his.h_eff.h_eta.CreateGraph() for his in hsets], labels, text=text, min_y=0.6, max_y=1.1, v_lines=[-2.8, -2.4, -1.7, -1.52, 1.52, 1.7, 2.4, 2.8],\n",
    "     do_write=False, write_name='egammaEndcap_TkEle_EGq4Pt30_GENPt40_hEffVEta')\n"
   ]
  },
  {
   "cell_type": "markdown",
   "metadata": {},
   "source": [
    "## Efficiency vs $p_{T}$"
   ]
  },
  {
   "cell_type": "code",
   "execution_count": null,
   "metadata": {},
   "outputs": [],
   "source": [
    "line_y1p0 = ROOT.TLine(0.,1., 110., 1.)\n",
    "line_y0p95 = ROOT.TLine(0.,0.95, 110., 0.95)\n",
    "line_y0p95.SetLineStyle(2)"
   ]
  },
  {
   "cell_type": "code",
   "execution_count": null,
   "metadata": {},
   "outputs": [],
   "source": [
    "hsets, labels, text = hplot.get_histo(histos.HistoSetEff, ['hybrid', 'ele-V9'], ['PU200'], 'TkEleEL', 'EGq5', 'GENEtaBC', debug=False)\n",
    "draw([his.h_eff.h_pt.CreateGraph() for his in hsets], labels, text=text, min_y=0, max_y=1.1, h_lines=[0.95, 1.])\n"
   ]
  },
  {
   "cell_type": "code",
   "execution_count": null,
   "metadata": {},
   "outputs": [],
   "source": [
    "hsets, labels, text = hplot.get_histo(histos.HistoSetEff, ['hybrid', 'ele-V9'], ['PU200'], 'TkEleEL', 'EGq5Pt25', 'GENEtaBC', debug=False)\n",
    "draw([his.h_eff.h_pt.CreateGraph() for his in hsets], labels, text=text, min_y=0, max_y=1.1, h_lines=[0.95, 1.])\n"
   ]
  },
  {
   "cell_type": "code",
   "execution_count": null,
   "metadata": {},
   "outputs": [],
   "source": [
    "hsets, labels, text = hplot.get_histo(histos.HistoSetEff, ['hybrid', 'ele-V9'], ['PU200'], 'TkEleELALL', 'LooseTkID', 'GENEtaF', debug=False)\n",
    "draw([his.h_eff.h_pt.CreateGraph() for his in hsets], labels, text=text, min_y=0, max_y=1.1, h_lines=[0.95, 1.])\n"
   ]
  },
  {
   "cell_type": "code",
   "execution_count": null,
   "metadata": {},
   "outputs": [],
   "source": [
    "hsets, labels, text = hplot.get_histo(histos.HistoSetEff, ['hybrid', 'ele-V9'], ['PU200'], 'TkEleELALL', 'LooseTkID', 'GENEtaF', debug=False)\n",
    "draw([his.h_eff.h_pt.CreateGraph() for his in hsets], labels, text=text, min_y=0, max_y=1.1, h_lines=[0.95, 1.])\n"
   ]
  },
  {
   "cell_type": "code",
   "execution_count": null,
   "metadata": {},
   "outputs": [],
   "source": [
    "hsets, labels, text = hplot.get_histo(histos.HistoSetEff, sample, ['PU200'], 'EG', 'EGq5Pt25', 'GENEtaBC', debug=False)\n",
    "text_forprint = 'EG endcap, 1.52 < |#eta^{GEN}| #leq 2.4, p_{T}^{L1} #geq 25GeV'\n",
    "print dir(hsets[0].h_eff)\n",
    "draw([his.h_eff.h_pt.CreateGraph() for his in hsets], labels, text=text_forprint, \n",
    "     min_y=0, max_y=1.1, y_axis_label='efficiency', h_lines=[0.95, 1],\n",
    "     do_write=True, write_name='figs/egammaEndcap_EG_EGq5Pt25_GENEtaBC_hEffvPt')\n",
    "\n",
    "\n",
    "\n",
    "hsets, labels, text = hplot.get_histo(histos.HistoSetEff, sample, ['PU200'], 'EG', 'EGq5Pt25', ['GENEtaDE'])\n",
    "print labels\n",
    "text_forprint = 'EG endcap, 2.4 < |#eta^{GEN}| #leq 3.0, p_{T}^{L1} #geq 25GeV'\n",
    "draw([his.h_eff.h_pt.CreateGraph() for his in hsets], labels, text=text_forprint, \n",
    "     min_y=0, max_y=1.1, y_axis_label='efficiency', h_lines=[0.95, 1],\n",
    "     do_write=True, write_name='figs/egammaEndcap_EG_EGq5Pt25_GENEtaDE_hEffvPt')\n"
   ]
  },
  {
   "cell_type": "code",
   "execution_count": null,
   "metadata": {},
   "outputs": [],
   "source": [
    "hsets, labels, text = hplot.get_histo(histos.HistoSetEff, sample, ['PU200'], 'EG', ['all', 'EGq5'], 'GENEtaBC', debug=False)\n",
    "text_forprint = 'EG endcap, 1.52 < |#eta^{GEN}| #leq 2.4, p_{T}^{L1} #geq 25GeV'\n",
    "print dir(hsets[0].h_eff)\n",
    "draw([his.h_eff.h_pt.CreateGraph() for his in hsets], labels, text=text_forprint, \n",
    "     min_y=0, max_y=1.1, y_axis_label='efficiency', h_lines=[0.95, 1])\n",
    "\n",
    "\n",
    "\n",
    "hsets, labels, text = hplot.get_histo(histos.HistoSetEff, sample, ['PU200'], 'EG', 'EGq5', ['GENEtaDE'])\n",
    "print labels\n",
    "text_forprint = 'EG endcap, 2.4 < |#eta^{GEN}| #leq 3.0, p_{T}^{L1} #geq 25GeV'\n",
    "draw([his.h_eff.h_pt.CreateGraph() for his in hsets], labels, text=text_forprint, \n",
    "     min_y=0, max_y=1.1, y_axis_label='efficiency', h_lines=[0.95, 1])\n"
   ]
  },
  {
   "cell_type": "code",
   "execution_count": null,
   "metadata": {},
   "outputs": [],
   "source": [
    "hsets, labels, text = hplot.get_histo(histos.HistoSetEff, sample, ['PU200'], ['EG', 'TkEleEL'], 'EGq5Pt25', 'GENEtaBC')\n",
    "labels=['calorimeter only', 'track-matched']\n",
    "legend_position = (0.6, 0.5, 0.86, 0.6)\n",
    "text_forprint='EG endcap, 1.52 < |#eta^{GEN}| #leq 2.4, p_{T}^{L1} #geq 25GeV'\n",
    "draw([his.h_eff.h_pt.CreateGraph() for his in hsets], labels, text=text_forprint, min_y=0, max_y=1.1, \n",
    "     y_axis_label='efficiency', h_lines=[0.95, 1],\n",
    "     legend_position=legend_position,\n",
    "     do_write=True, write_name='figs/egammaEndcap_TkEle_EGq5Pt25_GENEtaBC_hEffvPt')\n"
   ]
  },
  {
   "cell_type": "code",
   "execution_count": null,
   "metadata": {},
   "outputs": [],
   "source": [
    "hsets, labels, text = hplot.get_histo(histos.HistoSetEff, sample, ['PU200'], ['EGBRL'], ['Pt20', 'Pt20LooseTkID'], ['GENEtaF'])\n",
    "draw([his.h_eff.h_pt.CreateGraph() for his in hsets], labels, text=text, min_y=0.75, max_y=1.02, y_axis_label='L1 matched to GEN/GEN', h_lines=[0.95, 1])\n"
   ]
  },
  {
   "cell_type": "code",
   "execution_count": null,
   "metadata": {},
   "outputs": [],
   "source": [
    "hsets, labels, text = hplot.get_histo(histos.HistoSetEff, sample, ['PU200'], ['EGBRL'], ['Pt25', 'Pt25LooseTkID'], ['GENEtaF', 'all'])\n",
    "for hset in hsets:\n",
    "    hset.computeEff(rebin=2)\n",
    "\n",
    "labels=['w/o EG ID', 'w EG ID']\n",
    "legend_position = (0.6, 0.5, 0.86, 0.6)\n",
    "text_forprint='EG barrel, |#eta^{GEN}| #leq 1.47, p_{T}^{L1} #geq 25GeV'\n",
    "draw([his.h_eff.h_pt.CreateGraph() for his in hsets], labels, text=text_forprint, \n",
    "     min_y=0.8, max_y=1.02, min_x=0.0, max_x=100, \n",
    "     y_axis_label='efficiency', h_lines=[0.95, 1],\n",
    "     legend_position=legend_position,\n",
    "     do_write=True, write_name='figs/EgammaBarrelOnlyCaloEff')\n"
   ]
  },
  {
   "cell_type": "code",
   "execution_count": null,
   "metadata": {},
   "outputs": [],
   "source": [
    "hsets, labels, text = hplot.get_histo(histos.HistoSetEff, sample, ['PU200'], ['EGALL', 'TkEleELALL'], 'Pt25LooseTkID', 'GENEtaF')\n",
    "labels=['calorimeter only', 'track-matched']\n",
    "legend_position = (0.6, 0.5, 0.86, 0.6)\n",
    "text_forprint='EG barrel, |#eta^{GEN}| #leq 1.479, p_{T}^{L1} #geq 25GeV'\n",
    "draw([his.h_eff.h_pt.CreateGraph() for his in hsets], labels, text=text_forprint, min_y=0, max_y=1.1, \n",
    "     y_axis_label='efficiency', h_lines=[0.95, 1],\n",
    "     legend_position=legend_position,\n",
    "     do_write=True, write_name='figs/egammaBarrel_TkEle_LooseTkIDPt25_GENEtaF_hEffvPt')\n"
   ]
  },
  {
   "cell_type": "markdown",
   "metadata": {},
   "source": [
    "## Efficiency vs fBrem"
   ]
  },
  {
   "cell_type": "code",
   "execution_count": null,
   "metadata": {},
   "outputs": [],
   "source": [
    "sample = 'ele-V9'\n",
    "for pu in ['PU0', 'PU200']:\n",
    "    hsets_new = []\n",
    "    labels_new = []\n",
    "#     hsets, labels, text = hplot.get_histo(histos.HistoSetEff, sample, pu, ['EG'], ['EGq3'], 'GENEtaBC')\n",
    "# #     hsets[0].SetMarkerStyle(7)\n",
    "#     hsets_new.append(hsets[0])\n",
    "#     labels_new.append(\"EG standalone\")\n",
    "    \n",
    "#     hsets, labels, text = hplot.get_histo(histos.HistoSetEff, sample, pu, ['EG'], ['EGq3Pt20'], 'GENEtaBC')\n",
    "#     hsets_new.append(hsets[0])\n",
    "#     labels_new.append(\"EG Pt>20GeV\")\n",
    "\n",
    "    hsets, labels, text = hplot.get_histo(histos.HistoSetEff, sample, pu, ['L1Trk'], ['St4Pt2'], 'GENEtaBC')\n",
    "    hsets_new.append(hsets[0])\n",
    "    labels_new.append(\"L1Trk #stubs > 3\")\n",
    "\n",
    "#     hsets, labels, text = hplot.get_histo(histos.HistoSetEff, sample, pu, ['L1Trk'], ['St4Pt10'], 'GENEtaBC')\n",
    "#     hsets_new.append(hsets[0])\n",
    "#     labels_new.append(\"L1Trk p_{T}>10GeV\")\n",
    "\n",
    "    hsets, labels, text = hplot.get_histo(histos.HistoSetEff, sample, pu, ['L1TrkEmu'], ['Pt2'], 'GENEtaBC')\n",
    "    hsets_new.append(hsets[0])\n",
    "    labels_new.append(\"L1Trk EMU\")\n",
    "\n",
    "#     hsets, labels, text = hplot.get_histo(histos.HistoSetEff, sample, pu, ['L1TrkEmu'], ['Pt10'], 'GENEtaBC')\n",
    "#     hsets_new.append(hsets[0])\n",
    "#     labels_new.append(\"L1Trk p_{T}>10GeV\")\n",
    "\n",
    "    \n",
    "    \n",
    "#     hsets, labels, text = hplot.get_histo(histos.HistoSetEff, sample, pu, ['TkEle'], ['EGq3'], 'GENEtaBC')\n",
    "#     hsets_new.append(hsets[0])\n",
    "#     labels_new.append(\"TkEle\")\n",
    "\n",
    "\n",
    "    \n",
    "    # drawSeveral([his.hreso.h_ptResVpt for his in hsets], labels,  'COLZ', do_profile=True, text=text)\n",
    "    draw([his.h_eff.h_fBrem.CreateGraph() for his in hsets_new], labels_new, text=text, min_y=0.75, max_y=1.02, y_axis_label='L1 matched to GEN/GEN', h_lines=[0.95, 1])\n"
   ]
  },
  {
   "cell_type": "code",
   "execution_count": null,
   "metadata": {},
   "outputs": [],
   "source": [
    "sample = 'ele-V9'\n",
    "for pu in ['PU0', 'PU200']:\n",
    "    hsets_new = []\n",
    "    labels_new = []\n",
    "#     hsets, labels, text = hplot.get_histo(histos.HistoSetEff, sample, pu, ['EG'], ['EGq3'], 'GENEtaBC')\n",
    "# #     hsets[0].SetMarkerStyle(7)\n",
    "#     hsets_new.append(hsets[0])\n",
    "#     labels_new.append(\"EG standalone\")\n",
    "    \n",
    "#     hsets, labels, text = hplot.get_histo(histos.HistoSetEff, sample, pu, ['EG'], ['EGq3Pt20'], 'GENEtaBC')\n",
    "#     hsets_new.append(hsets[0])\n",
    "#     labels_new.append(\"EG Pt>20GeV\")\n",
    "\n",
    "    hsets, labels, text = hplot.get_histo(histos.HistoSetEff, sample, pu, ['L1TrkEmu'], ['Pt2'], 'GENEtaBC')\n",
    "    hsets_new.append(hsets[0])\n",
    "    labels_new.append(\"L1Trk p_{T}>2GeV\")\n",
    "\n",
    "    hsets, labels, text = hplot.get_histo(histos.HistoSetEff, sample, pu, ['L1TrkEmu'], ['Pt10'], 'GENEtaBC')\n",
    "    hsets_new.append(hsets[0])\n",
    "    labels_new.append(\"L1Trk p_{T}>10GeV\")\n",
    "\n",
    "    hsets, labels, text = hplot.get_histo(histos.HistoSetEff, sample, pu, ['TkEle'], ['EGq3'], 'GENEtaBC')\n",
    "    hsets_new.append(hsets[0])\n",
    "    labels_new.append(\"TkEle\")\n",
    "\n",
    "    hsets, labels, text = hplot.get_histo(histos.HistoSetEff, sample, pu, ['TkEG'], ['EGq3M1P10'], 'GENEtaBC')\n",
    "    hsets_new.append(hsets[0])\n",
    "    labels_new.append(\"TkEle\")\n",
    "\n",
    "\n",
    "    \n",
    "    # drawSeveral([his.hreso.h_ptResVpt for his in hsets], labels,  'COLZ', do_profile=True, text=text)\n",
    "    draw([his.h_eff.h_fBrem.CreateGraph() for his in hsets_new], labels_new, text=text, min_y=0.75, max_y=1.02, y_axis_label='L1 matched to GEN/GEN', h_lines=[0.95, 1])\n"
   ]
  },
  {
   "cell_type": "markdown",
   "metadata": {},
   "source": [
    "## Turn-on curves"
   ]
  },
  {
   "cell_type": "code",
   "execution_count": null,
   "metadata": {},
   "outputs": [],
   "source": [
    "hsets, labels, text = hplot.get_histo(histos.HistoSetEff, 'ele-V9', ['PU200'], ['EG'], ['EGq4Pt30'], 'GENEtaBC', debug=False)\n",
    "draw([his.h_ton.h_pt.CreateGraph() for his in hsets], labels, text=text, min_y=0, max_y=1.1, y_axis_label='L1 matched to GEN and p_{T}>th./L1 matched to GEN', h_lines=[0.95, 1])\n"
   ]
  },
  {
   "cell_type": "code",
   "execution_count": null,
   "metadata": {},
   "outputs": [],
   "source": [
    "hsets, labels, text = hplot.get_histo(histos.HistoSetEff, sample, ['PU200'], ['EG'], ['EGq3Pt30', 'EGq4Pt30', 'EGq5Pt30'], 'GENEtaBC', debug=False)\n",
    "draw([his.h_ton.h_pt.CreateGraph() for his in hsets], labels, text=text, min_y=0, max_y=1.1, y_axis_label='L1 matched to GEN and p_{T}>th./L1 matched to GEN', h_lines=[0.95, 1])\n"
   ]
  },
  {
   "cell_type": "code",
   "execution_count": null,
   "metadata": {},
   "outputs": [],
   "source": [
    "hsets, labels, text = hplot.get_histo(histos.HistoSetEff, sample, ['PU200'], ['TkEleEL'], ['EGq3Pt30', 'EGq4Pt30', 'EGq5Pt30'], 'GENEtaBC', debug=False)\n",
    "draw([his.h_ton.h_pt.CreateGraph() for his in hsets], labels, text=text, min_y=0, max_y=1.1, y_axis_label='L1 matched to GEN and p_{T}>th./L1 matched to GEN', h_lines=[0.95, 1])\n"
   ]
  },
  {
   "cell_type": "markdown",
   "metadata": {},
   "source": [
    "## Scaling"
   ]
  },
  {
   "cell_type": "code",
   "execution_count": null,
   "metadata": {},
   "outputs": [],
   "source": [
    "def f_yc(x, par):\n",
    "    return (ROOT.Math.normal_cdf(par[0]*(x[0]-par[1]), par[0]*par[2], 0) - ROOT.TMath.Exp(-par[0]*(x[0]-par[1])+par[0]*par[0]*par[2]*par[2]/2)*ROOT.Math.normal_cdf(par[0]*(x[0]-par[1]), par[0]*par[2], par[0]*par[0]*par[2]*par[2])) * (par[3] - par[4]) + par[4]\n",
    "\n",
    "tf_yc = ROOT.TF1('tf_yc', f_yc, 0, 100, 5)\n",
    "tf_yc.SetParameters(1, 20, 4, 1.0, 0.0);\n",
    "tf_yc.SetParNames(\"#lambda\", \"#mu\", \"#sigma\", \"Plateau\", \"Baseline\");\n",
    "tf_yc.SetLineColor(6)\n",
    "tf_yc.FixParameter(4,0)\n",
    "\n",
    "tf_yc.SetParLimits(1, 0, 50)\n",
    "\n",
    "tf_yc.SetParLimits(3, 0.9, 1)\n",
    "tf_yc.SetParLimits(0, 0, 1)\n",
    "tf_yc.SetParLimits(2, 0.1, 1)\n",
    "\n",
    "c = newCanvas()\n",
    "tf_yc.Draw()\n",
    "c.Draw()\n"
   ]
  },
  {
   "cell_type": "code",
   "execution_count": null,
   "metadata": {},
   "outputs": [],
   "source": [
    "sample"
   ]
  },
  {
   "cell_type": "code",
   "execution_count": null,
   "metadata": {},
   "outputs": [],
   "source": [
    "hplot.data[(hplot.data['sample'] == sample) & (hplot.data.tp == 'TkEle')].tp_sel.unique()\n"
   ]
  },
  {
   "cell_type": "code",
   "execution_count": null,
   "metadata": {},
   "outputs": [],
   "source": [
    "hsets, labels, text = hplot.get_histo(histos.HistoSetEff, sample, 'PU0', 'TkEle', 'EGq3Pt15', 'GENEtaBC')\n",
    "\n",
    "\n",
    "print hsets[0].name"
   ]
  },
  {
   "cell_type": "code",
   "execution_count": null,
   "metadata": {},
   "outputs": [],
   "source": [
    "fake_histoname = uuid.uuid4().hex[:6]\n"
   ]
  },
  {
   "cell_type": "code",
   "execution_count": null,
   "metadata": {
    "scrolled": true
   },
   "outputs": [],
   "source": [
    "ROOT.TVirtualFitter.SetDefaultFitter(\"Fumili2\")\n",
    "ROOT.TVirtualFitter.SetPrecision(1e-04)\n",
    "\n",
    "import array\n",
    "\n",
    "class HWrapper(object):\n",
    "    def __init__(self, histo):\n",
    "        self.histo = histo\n",
    "    \n",
    "    def get(self, debug=False):\n",
    "        return self.histo\n",
    "\n",
    "\n",
    "# tps_scaling = ['EG', 'TkEleEL']\n",
    "# tp_sel_scaling = [('EGq3Pt{}', 'EGq3'), ('EGq4Pt{}', 'EGq4'), ('EGq5Pt{}', 'EGq5')]\n",
    "# pt_points = [10, 15, 20, 25, 30, 40]\n",
    "\n",
    "sample = 'ele-V9'\n",
    "tps_scaling = ['EG']\n",
    "tp_sel_scaling = [('EGq5Pt{}', 'EGq5')]\n",
    "pt_points = [10, 15, 20, 25, 30, 40]\n",
    "\n",
    "# sample = 'calib'\n",
    "# tps_scaling = ['HMvDRshapeDrCalib']\n",
    "# tp_sel_scaling = [('EmPt{}', 'Em')]\n",
    "# pt_points = [10, 20, 30]\n",
    "\n",
    "\n",
    "for pu in ['PU0', 'PU200']:\n",
    "    for gen_sel in ['GENEtaBC']:\n",
    "        for tp in tps_scaling:\n",
    "            for tp_sel_strings in tp_sel_scaling:\n",
    "                pt_95 = []\n",
    "                pt_95_err = []\n",
    "                for pt in pt_points:\n",
    "#                     for (i=0; i<ngr; i++)\n",
    "#       grint->SetPoint(i, gr->GetX()[i], 0);\n",
    "        \n",
    "                    tp_sel = tp_sel_strings[0].format(pt)\n",
    "                    hsets, labels, text = hplot.get_histo(histos.HistoSetEff, sample, pu, tp, tp_sel, gen_sel)\n",
    "                        # drawSeveral([his.hreso.h_ptResVpt for his in hsets], labels,  'COLZ', do_profile=True, text=text)\n",
    "        #                 draw([his.h_ton.h_pt.CreateGraph() for his in hsets], labels, text=text, min_y=0, max_y=1.1, y_axis_label='L1 matched to GEN and p_{T}>th./L1 matched to GEN', h_lines=[0.95, 1])\n",
    "\n",
    "#                     if pt == 20:\n",
    "                    tf_yc.SetParameters(0.6, pt, 0.1, 1.0, 0.0)\n",
    "#                     else:\n",
    "#                         tf_yc.SetParameters(1, 20, 4, 1.0, 0.0)\n",
    "                    h_eff_vs_pt = [his.h_ton.h_pt.CreateGraph() for his in hsets]\n",
    "\n",
    "                    result = h_eff_vs_pt[0].Fit(tf_yc, 'EMQRS+')\n",
    "\n",
    "                    grint = ROOT.TGraphErrors(h_eff_vs_pt[0].GetN())\n",
    "                    stuff.append(grint)\n",
    "                    grint.SetTitle(\"Fitted line with .95 conf. band\")\n",
    "                    for point in range(0, h_eff_vs_pt[0].GetN()):\n",
    "                        grint.SetPoint(point, h_eff_vs_pt[0].GetX()[point], 0)\n",
    "                    ROOT.TVirtualFitter.GetFitter().GetConfidenceIntervals(grint)\n",
    "\n",
    "                        \n",
    "                    print '------- {}'.format( text)\n",
    "                    print result.Print()\n",
    "                    pt095 = tf_yc.GetX(0.95)\n",
    "                    pt_95.append(pt095)\n",
    "\n",
    "                    prev_err = 0\n",
    "                    error = 0\n",
    "                    for idx,point in enumerate(grint.GetX()):\n",
    "#                         print idx, point, grint.GetEY()[idx]\n",
    "                        if pt095 > point:\n",
    "                            prev_err = grint.GetEY()[idx]\n",
    "                        else:\n",
    "                            error = (prev_err+grint.GetEY()[idx])/2\n",
    "                            break\n",
    "                    pt_95_err.append(error)\n",
    "                    print '       pt th: {}, 95% eff: {}, err: {}'.format(pt, pt095, error)\n",
    "                    #                 points.append((tp, pu, pt, pt095))\n",
    "                    draw(h_eff_vs_pt, labels, text=text, min_y=0, max_y=1.1, y_axis_label='L1 matched to GEN and p_{T}>th./L1 matched to GEN', h_lines=[0.95, 1])\n",
    "                    ROOT.gStyle.SetOptFit(11111)\n",
    "                    grint.Draw('same')\n",
    "\n",
    "                print len(pt_points)\n",
    "                print len(pt_95)\n",
    "                print len(pt_95_err)\n",
    "                print pt_95_err\n",
    "                \n",
    "                graph = ROOT.TGraphErrors(len(pt_points), array.array('d', pt_points), \n",
    "                                                          array.array('d', pt_95),\n",
    "                                                          array.array('d', [0.]*len(pt_points)),\n",
    "                                                          array.array('d', pt_95_err) )\n",
    "                graph.SetMarkerStyle(7)\n",
    "                graph.SetMarkerColor(2)\n",
    "                stuff.append(graph)\n",
    "\n",
    "                hplot.data = hplot.data.append({'sample': sample,\n",
    "                                                'pu': pu,\n",
    "                                                'tp': tp,\n",
    "                                                'tp_sel': tp_sel_strings[1],\n",
    "                                                'gen_sel': gen_sel,\n",
    "                                                'classtype': fake_histoname,\n",
    "                                                'histo': HWrapper(graph),},\n",
    "                                                ignore_index=True)\n",
    "\n",
    "                \n",
    "                "
   ]
  },
  {
   "cell_type": "code",
   "execution_count": null,
   "metadata": {},
   "outputs": [],
   "source": [
    "hplot.data[hplot.data.classtype == fake_histoname]\n"
   ]
  },
  {
   "cell_type": "code",
   "execution_count": null,
   "metadata": {},
   "outputs": [],
   "source": [
    "hplot.data[hplot.data.classtype == fake_histoname]['sample'].unique()"
   ]
  },
  {
   "cell_type": "code",
   "execution_count": null,
   "metadata": {
    "scrolled": false
   },
   "outputs": [],
   "source": [
    "scaling_params = pd.DataFrame(columns=['tp', 'tp_sel', 'params'])\n",
    "ROOT.gStyle.SetOptFit(11111)\n",
    "\n",
    "for sample in hplot.data[hplot.data.classtype == fake_histoname]['sample'].unique():\n",
    "    print sample\n",
    "    for pu in hplot.data[(hplot.data.classtype == fake_histoname) & (hplot.data['sample'] == sample)].pu.unique():\n",
    "        for tp in hplot.data[(hplot.data.classtype == fake_histoname) & (hplot.data['sample'] == sample) & (hplot.data.pu == pu)].tp.unique():\n",
    "            for tp_sel in hplot.data[(hplot.data.classtype == fake_histoname) & (hplot.data['sample'] == sample) & (hplot.data.pu == pu) & (hplot.data.tp == tp)].tp_sel.unique():\n",
    "                hsets, labels, text = hplot.get_histo(fake_histoname, sample, pu, tp, tp_sel, ['GENEtaBC'])\n",
    "                result = hsets[0].Fit('pol1', 'MES+', '', 5, 35)\n",
    "                result.GetParams()\n",
    "                scaling_params = scaling_params.append({'pu': pu,\n",
    "                                                         'tp': tp,\n",
    "                                                         'tp_sel': tp_sel+'EtaBC',\n",
    "                                                         'params': (result.GetParams()[0], result.GetParams()[1])},\n",
    "                                                          ignore_index=True)\n",
    "                draw(hsets, labels, text=text, min_y=0, max_y=60, y_axis_label='p_{T} @ 95% eff. [GeV] ', x_axis_label='p_{T} thresh. [GeV]')"
   ]
  },
  {
   "cell_type": "markdown",
   "metadata": {},
   "source": [
    "###### "
   ]
  },
  {
   "cell_type": "code",
   "execution_count": null,
   "metadata": {},
   "outputs": [],
   "source": [
    "scaling_params"
   ]
  },
  {
   "cell_type": "code",
   "execution_count": null,
   "metadata": {},
   "outputs": [],
   "source": [
    "scaling_params.to_csv(r'scaling_params_{}.csv'.format(version_V9))"
   ]
  },
  {
   "cell_type": "code",
   "execution_count": null,
   "metadata": {},
   "outputs": [],
   "source": [
    "eta_boundaries_fiducial = [-5, -4, -3,-2.5 ,-1.5, -0.5, 0.5, 1.5, 2.5, 3, 4, 5]\n",
    "eta_boundaries = []\n",
    "phi_boundaries_fiducial = []\n",
    "\n",
    "\n",
    "eta_overlap = 0.25\n",
    "phi_overlap = 0.25\n",
    "phiSlices = 9\n",
    "\n",
    "phiWidth = 2*math.pi/phiSlices\n",
    "\n",
    "\n",
    "phi_boundaries = []\n",
    "\n",
    "\n",
    "for ieta,eta_low_fiducial in enumerate(eta_boundaries_fiducial):\n",
    "    if ieta>=len(eta_boundaries_fiducial)-1:\n",
    "        break\n",
    "    eta_high_fiducial = eta_boundaries_fiducial[ieta+1]\n",
    "    print 'fiducial boundaries: {}, {}'.format(eta_low_fiducial, eta_high_fiducial)\n",
    "    eta_low = eta_low_fiducial - eta_overlap\n",
    "    eta_high = eta_high_fiducial + eta_overlap\n",
    "    eta_boundaries.append((eta_low, eta_high))\n",
    "    \n",
    "    \n",
    "    \n",
    "for iphi in range(0,9):\n",
    "    phiCenter = (iphi+0.5)*phiWidth-math.pi\n",
    "    print iphi,phiCenter\n",
    "    phi_low_fiducial = phiCenter - phiWidth/2.\n",
    "    phi_high_fiducial = phiCenter+phiWidth/2.\n",
    "    \n",
    "    print 'fiducial boundaries: {}, {}'.format(phi_low_fiducial, phi_high_fiducial)\n",
    "    phi_boundaries_fiducial.append(phi_low_fiducial)\n",
    "    \n",
    "    phi_low = phi_low_fiducial - phi_overlap\n",
    "    if phi_low < -1*math.pi:\n",
    "        phi_low = math.pi-phi_overlap\n",
    "    phi_high = phi_high_fiducial + phi_overlap\n",
    "    if phi_high > math.pi:\n",
    "        phi_high = -1*math.pi+phi_overlap\n",
    "    \n",
    "    phi_boundaries.append((phi_low, phi_high))\n",
    "    print 'boundaries: {} {}'.format(phi_low, phi_high)\n",
    "    \n",
    "    \n",
    "phi_boundaries_fiducial.append(math.pi)\n",
    "print \"FIDUCIAL\"\n",
    "print eta_boundaries_fiducial\n",
    "print phi_boundaries_fiducial\n",
    "\n",
    "print \"ACTUAL\"\n",
    "print phi_boundaries\n",
    "print eta_boundaries"
   ]
  },
  {
   "cell_type": "code",
   "execution_count": null,
   "metadata": {},
   "outputs": [],
   "source": []
  },
  {
   "cell_type": "code",
   "execution_count": null,
   "metadata": {},
   "outputs": [],
   "source": []
  }
 ],
 "metadata": {
  "kernelspec": {
   "display_name": "HGCTPGPerformance",
   "language": "python",
   "name": "hgctpgperformance"
  },
  "language_info": {
   "codemirror_mode": {
    "name": "ipython",
    "version": 2
   },
   "file_extension": ".py",
   "mimetype": "text/x-python",
   "name": "python",
   "nbconvert_exporter": "python",
   "pygments_lexer": "ipython2",
   "version": "2.7.16"
  },
  "toc": {
   "base_numbering": 1,
   "nav_menu": {},
   "number_sections": true,
   "sideBar": true,
   "skip_h1_title": false,
   "title_cell": "Table of Contents",
   "title_sidebar": "Contents",
   "toc_cell": false,
   "toc_position": {
    "height": "calc(100% - 180px)",
    "left": "10px",
    "top": "150px",
    "width": "176px"
   },
   "toc_section_display": true,
   "toc_window_display": true
  }
 },
 "nbformat": 4,
 "nbformat_minor": 2
}
