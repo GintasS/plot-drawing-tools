{
 "cells": [
  {
   "cell_type": "markdown",
   "metadata": {},
   "source": [
    "# Eff. matching to GEN particle\n",
    "\n",
    "\n",
    "   * [Efficiency vs $\\eta$](#Effinciency-vs-$\\eta$)\n",
    "   * [Efficiency vs $p_{T}$](#Efficiency-vs-$p_{T}$)\n",
    "   * [Turn-on curves](#Turn-on-curves)\n"
   ]
  },
  {
   "cell_type": "code",
   "execution_count": 1,
   "metadata": {},
   "outputs": [
    {
     "name": "stdout",
     "output_type": "stream",
     "text": [
      "Welcome to JupyROOT 6.14/02\n"
     ]
    }
   ],
   "source": [
    "import sys\n",
    "sys.path.insert(0, '..')\n",
    "sys.path.insert(1, '../python/')\n",
    "sys.path.insert(2, './python/')\n",
    "\n",
    "import ROOT\n",
    "import root_numpy as rnp\n",
    "import python.l1THistos as histos\n",
    "import math\n",
    "import uuid\n",
    "import pandas as pd\n",
    "\n",
    "from drawingTools import *\n",
    "\n",
    "# ROOT.enableJSVis()\n",
    "ROOT.enableJSVis()\n",
    "\n",
    "#from drawingTools import *\n",
    "\n",
    "normalized_histos = list()\n",
    "    "
   ]
  },
  {
   "cell_type": "code",
   "execution_count": 2,
   "metadata": {},
   "outputs": [],
   "source": [
    "# %load drawingTools.py\n"
   ]
  },
  {
   "cell_type": "code",
   "execution_count": 3,
   "metadata": {},
   "outputs": [],
   "source": [
    "# %load samples.py\n",
    "import ROOT\n",
    "import pandas as pd\n",
    "\n",
    "version = 'v103t'\n",
    "version_V8 = 'v119'\n",
    "\n",
    "version_V9 = 'v121'\n",
    "\n",
    "# -------------------------------------------------------------------------\n",
    "\n",
    "samples_ele = [\n",
    "#     Sample('ele_flat2to100_PU0_eg', 'PU0', version, 'ele'),\n",
    "    Sample('ele_flat2to100_PU200_eg', 'PU200', version, 'ele')\n",
    "    ]\n",
    "\n",
    "samples_ele_V8 = [\n",
    "#     Sample('ele_flat2to100_PU0_eg', 'PU0', version, 'V8'),\n",
    "    Sample('ele_flat2to100_PU200_eg', 'PU200', version_V8, 'hybrid')\n",
    "    ]\n",
    "\n",
    "\n",
    "samples_ele_calib = [\n",
    "    Sample('ele_flat2to100_PU0_tps', 'PU0', 'v120', 'calib'),\n",
    "    Sample('ele_flat2to100_PU200_tps', 'PU200', 'v120', 'calib')\n",
    "    ]\n",
    "\n",
    "\n",
    "samples_ele_V9 = [\n",
    "    Sample('ele_flat2to100_PU0_eg', 'PU0', version_V9, 'ele-V9'),\n",
    "    Sample('ele_flat2to100_PU200_eg', 'PU200', version_V9, 'ele-V9')\n",
    "    ]\n",
    "\n",
    "samples_photons = [\n",
    "    Sample('photon_flat8to150_PU0_tracks', 'PU0', version, 'photon'),\n",
    "    Sample('photon_flat8to150_PU200_tracks', 'PU200', version, 'photon')\n",
    "    ]\n",
    "\n",
    "samples_photons_V9 = [\n",
    "    Sample('photon_flat8to150_PU0_tracks', 'PU0', version_V9, 'photon-V9'),\n",
    "    Sample('photon_flat8to150_PU200_tracks', 'PU200', version_V9, 'photon-V9')\n",
    "    ]\n",
    "\n",
    "samples_pions = [\n",
    "    Sample('pion_flat2to100_PU0_tracks', 'PU0', version, 'pions'),\n",
    "    ]\n",
    "\n",
    "samples_nugus = [\n",
    "    Sample('nugun_alleta_pu0', 'PU0', version, 'mb'),\n",
    "    Sample('nugun_alleta_pu200', 'PU200', version, 'mb')\n",
    "    ]\n",
    "\n",
    "samples_nugunrates = [\n",
    "    Sample('nugun_alleta_pu200_tracks', 'PU200', version, 'mb')\n",
    "    ]\n",
    "\n",
    "\n"
   ]
  },
  {
   "cell_type": "code",
   "execution_count": 4,
   "metadata": {},
   "outputs": [],
   "source": [
    "do_eff = True"
   ]
  },
  {
   "cell_type": "code",
   "execution_count": 5,
   "metadata": {},
   "outputs": [
    {
     "name": "stdout",
     "output_type": "stream",
     "text": [
      "importing Jupyter notebook from configuration.ipynb\n",
      "gen_part_selections: 14\n",
      "gen_part_selections: 14\n"
     ]
    }
   ],
   "source": [
    "import import_ipynb\n",
    "import configuration"
   ]
  },
  {
   "cell_type": "code",
   "execution_count": 6,
   "metadata": {},
   "outputs": [
    {
     "name": "stdout",
     "output_type": "stream",
     "text": [
      "--- TPs: \n",
      "[   'L1Trk',\n",
      "    'L1TrkEmu',\n",
      "    'EG',\n",
      "    'EGBRL',\n",
      "    'EGALL',\n",
      "    'TkEle',\n",
      "    'TkEleEL',\n",
      "    'TkEleELBRL',\n",
      "    'TkEleELALL']\n",
      "--- TP selections:\n",
      "{   'EG': [   'EGq2',\n",
      "              'EGq2Pt10',\n",
      "              'EGq2Pt15',\n",
      "              'EGq2Pt20',\n",
      "              'EGq2Pt25',\n",
      "              'EGq2Pt30',\n",
      "              'EGq2Pt40',\n",
      "              'EGq3',\n",
      "              'EGq3Pt10',\n",
      "              'EGq3Pt15',\n",
      "              'EGq3Pt20',\n",
      "              'EGq3Pt25',\n",
      "              'EGq3Pt30',\n",
      "              'EGq3Pt40',\n",
      "              'EGq4',\n",
      "              'EGq4Pt10',\n",
      "              'EGq4Pt15',\n",
      "              'EGq4Pt20',\n",
      "              'EGq4Pt25',\n",
      "              'EGq4Pt30',\n",
      "              'EGq4Pt40',\n",
      "              'EGq5',\n",
      "              'EGq5Pt10',\n",
      "              'EGq5Pt15',\n",
      "              'EGq5Pt20',\n",
      "              'EGq5Pt25',\n",
      "              'EGq5Pt30',\n",
      "              'EGq5Pt40'],\n",
      "    'EGALL': [   'all',\n",
      "                 'LooseTkID',\n",
      "                 'Pt10',\n",
      "                 'Pt10LooseTkID',\n",
      "                 'Pt15',\n",
      "                 'Pt15LooseTkID',\n",
      "                 'Pt20',\n",
      "                 'Pt20LooseTkID',\n",
      "                 'Pt25',\n",
      "                 'Pt25LooseTkID',\n",
      "                 'Pt30',\n",
      "                 'Pt30LooseTkID',\n",
      "                 'Pt40',\n",
      "                 'Pt40LooseTkID'],\n",
      "    'EGBRL': [   'all',\n",
      "                 'LooseTkID',\n",
      "                 'Pt10',\n",
      "                 'Pt10LooseTkID',\n",
      "                 'Pt15',\n",
      "                 'Pt15LooseTkID',\n",
      "                 'Pt20',\n",
      "                 'Pt20LooseTkID',\n",
      "                 'Pt25',\n",
      "                 'Pt25LooseTkID',\n",
      "                 'Pt30',\n",
      "                 'Pt30LooseTkID',\n",
      "                 'Pt40',\n",
      "                 'Pt40LooseTkID'],\n",
      "    'L1Trk': [   'all',\n",
      "                 'Pt2',\n",
      "                 'Pt5',\n",
      "                 'Pt10',\n",
      "                 'St4',\n",
      "                 'St4Pt2',\n",
      "                 'St4Pt5',\n",
      "                 'St4Pt10'],\n",
      "    'L1TrkEmu': [   'all',\n",
      "                    'Pt2',\n",
      "                    'Pt5',\n",
      "                    'Pt10',\n",
      "                    'St4',\n",
      "                    'St4Pt2',\n",
      "                    'St4Pt5',\n",
      "                    'St4Pt10'],\n",
      "    'TkEle': [   'EGq2',\n",
      "                 'EGq2Pt10',\n",
      "                 'EGq2Pt15',\n",
      "                 'EGq2Pt20',\n",
      "                 'EGq2Pt25',\n",
      "                 'EGq2Pt30',\n",
      "                 'EGq2Pt40',\n",
      "                 'EGq3',\n",
      "                 'EGq3Pt10',\n",
      "                 'EGq3Pt15',\n",
      "                 'EGq3Pt20',\n",
      "                 'EGq3Pt25',\n",
      "                 'EGq3Pt30',\n",
      "                 'EGq3Pt40',\n",
      "                 'EGq4',\n",
      "                 'EGq4Pt10',\n",
      "                 'EGq4Pt15',\n",
      "                 'EGq4Pt20',\n",
      "                 'EGq4Pt25',\n",
      "                 'EGq4Pt30',\n",
      "                 'EGq4Pt40',\n",
      "                 'EGq5',\n",
      "                 'EGq5Pt10',\n",
      "                 'EGq5Pt15',\n",
      "                 'EGq5Pt20',\n",
      "                 'EGq5Pt25',\n",
      "                 'EGq5Pt30',\n",
      "                 'EGq5Pt40',\n",
      "                 'EGq2Iso0p2',\n",
      "                 'EGq2Iso0p1',\n",
      "                 'EGq2Iso0p3',\n",
      "                 'EGq3Iso0p2',\n",
      "                 'EGq3Iso0p1',\n",
      "                 'EGq3Iso0p3',\n",
      "                 'EGq4Iso0p2',\n",
      "                 'EGq4Iso0p1',\n",
      "                 'EGq4Iso0p3',\n",
      "                 'EGq5Iso0p2',\n",
      "                 'EGq5Iso0p1',\n",
      "                 'EGq5Iso0p3'],\n",
      "    'TkEleEL': [   'EGq2',\n",
      "                   'EGq2Pt10',\n",
      "                   'EGq2Pt15',\n",
      "                   'EGq2Pt20',\n",
      "                   'EGq2Pt25',\n",
      "                   'EGq2Pt30',\n",
      "                   'EGq2Pt40',\n",
      "                   'EGq3',\n",
      "                   'EGq3Pt10',\n",
      "                   'EGq3Pt15',\n",
      "                   'EGq3Pt20',\n",
      "                   'EGq3Pt25',\n",
      "                   'EGq3Pt30',\n",
      "                   'EGq3Pt40',\n",
      "                   'EGq4',\n",
      "                   'EGq4Pt10',\n",
      "                   'EGq4Pt15',\n",
      "                   'EGq4Pt20',\n",
      "                   'EGq4Pt25',\n",
      "                   'EGq4Pt30',\n",
      "                   'EGq4Pt40',\n",
      "                   'EGq5',\n",
      "                   'EGq5Pt10',\n",
      "                   'EGq5Pt15',\n",
      "                   'EGq5Pt20',\n",
      "                   'EGq5Pt25',\n",
      "                   'EGq5Pt30',\n",
      "                   'EGq5Pt40',\n",
      "                   'EGq2Iso0p2',\n",
      "                   'EGq2Iso0p1',\n",
      "                   'EGq2Iso0p3',\n",
      "                   'EGq3Iso0p2',\n",
      "                   'EGq3Iso0p1',\n",
      "                   'EGq3Iso0p3',\n",
      "                   'EGq4Iso0p2',\n",
      "                   'EGq4Iso0p1',\n",
      "                   'EGq4Iso0p3',\n",
      "                   'EGq5Iso0p2',\n",
      "                   'EGq5Iso0p1',\n",
      "                   'EGq5Iso0p3'],\n",
      "    'TkEleELALL': [   'all',\n",
      "                      'LooseTkID',\n",
      "                      'Iso0p1',\n",
      "                      'Pt10',\n",
      "                      'Pt10LooseTkID',\n",
      "                      'Pt10Iso0p1',\n",
      "                      'Pt15',\n",
      "                      'Pt15LooseTkID',\n",
      "                      'Pt15Iso0p1',\n",
      "                      'Pt20',\n",
      "                      'Pt20LooseTkID',\n",
      "                      'Pt20Iso0p1',\n",
      "                      'Pt25',\n",
      "                      'Pt25LooseTkID',\n",
      "                      'Pt25Iso0p1',\n",
      "                      'Pt30',\n",
      "                      'Pt30LooseTkID',\n",
      "                      'Pt30Iso0p1',\n",
      "                      'Pt40',\n",
      "                      'Pt40LooseTkID',\n",
      "                      'Pt40Iso0p1'],\n",
      "    'TkEleELBRL': ['all', 'Pt10', 'Pt15', 'Pt20', 'Pt25', 'Pt30', 'Pt40']}\n",
      "--- GEN selections:\n",
      "{   'EG': [   'GEN',\n",
      "              'GENPt15',\n",
      "              'GENPt10to25',\n",
      "              'GENPt30',\n",
      "              'GENPt35',\n",
      "              'GENPt40',\n",
      "              'GENEtaD',\n",
      "              'GENEtaDPt15',\n",
      "              'GENEtaDE',\n",
      "              'GENEtaDEPt15',\n",
      "              'GENEtaBC',\n",
      "              'GENEtaBCPt15',\n",
      "              'GENEtaBCD',\n",
      "              'GENEtaBCDPt15'],\n",
      "    'EGALL': [   'GEN',\n",
      "                 'GENPt15',\n",
      "                 'GENPt10to25',\n",
      "                 'GENPt30',\n",
      "                 'GENPt35',\n",
      "                 'GENPt40',\n",
      "                 'GENEtaF',\n",
      "                 'GENEtaD',\n",
      "                 'GENEtaBC',\n",
      "                 'GENEtaBCD'],\n",
      "    'EGBRL': [   'GEN',\n",
      "                 'GENPt15',\n",
      "                 'GENPt10to25',\n",
      "                 'GENPt30',\n",
      "                 'GENPt35',\n",
      "                 'GENPt40',\n",
      "                 'GENEtaF'],\n",
      "    'L1Trk': [   'GEN',\n",
      "                 'GENPt15',\n",
      "                 'GENPt10to25',\n",
      "                 'GENPt30',\n",
      "                 'GENPt35',\n",
      "                 'GENPt40',\n",
      "                 'GENEtaD',\n",
      "                 'GENEtaDPt15',\n",
      "                 'GENEtaDE',\n",
      "                 'GENEtaDEPt15',\n",
      "                 'GENEtaBC',\n",
      "                 'GENEtaBCPt15',\n",
      "                 'GENEtaBCD',\n",
      "                 'GENEtaBCDPt15'],\n",
      "    'L1TrkEmu': [   'GEN',\n",
      "                    'GENPt15',\n",
      "                    'GENPt10to25',\n",
      "                    'GENPt30',\n",
      "                    'GENPt35',\n",
      "                    'GENPt40',\n",
      "                    'GENEtaD',\n",
      "                    'GENEtaDPt15',\n",
      "                    'GENEtaDE',\n",
      "                    'GENEtaDEPt15',\n",
      "                    'GENEtaBC',\n",
      "                    'GENEtaBCPt15',\n",
      "                    'GENEtaBCD',\n",
      "                    'GENEtaBCDPt15'],\n",
      "    'TkEle': [   'GEN',\n",
      "                 'GENPt15',\n",
      "                 'GENPt10to25',\n",
      "                 'GENPt30',\n",
      "                 'GENPt35',\n",
      "                 'GENPt40',\n",
      "                 'GENEtaBC',\n",
      "                 'GENEtaBCPt15',\n",
      "                 'GENEtaBCD',\n",
      "                 'GENEtaBCDPt15'],\n",
      "    'TkEleEL': [   'GEN',\n",
      "                   'GENPt15',\n",
      "                   'GENPt10to25',\n",
      "                   'GENPt30',\n",
      "                   'GENPt35',\n",
      "                   'GENPt40',\n",
      "                   'GENEtaBC',\n",
      "                   'GENEtaBCPt15',\n",
      "                   'GENEtaBCD',\n",
      "                   'GENEtaBCDPt15'],\n",
      "    'TkEleELALL': [   'GEN',\n",
      "                      'GENPt15',\n",
      "                      'GENPt10to25',\n",
      "                      'GENPt30',\n",
      "                      'GENPt35',\n",
      "                      'GENPt40',\n",
      "                      'GENEtaF',\n",
      "                      'GENEtaD',\n",
      "                      'GENEtaBC',\n",
      "                      'GENEtaBCD'],\n",
      "    'TkEleELBRL': [   'GEN',\n",
      "                      'GENPt15',\n",
      "                      'GENPt10to25',\n",
      "                      'GENPt30',\n",
      "                      'GENPt35',\n",
      "                      'GENPt40',\n",
      "                      'GENEtaF']}\n"
     ]
    },
    {
     "name": "stderr",
     "output_type": "stream",
     "text": [
      "/Users/cerminar/.virtualenvs/HGCTPGPerformance/lib/python2.7/site-packages/ipykernel_launcher.py:82: UserWarning: DataFrame columns are not unique, some columns will be omitted.\n"
     ]
    }
   ],
   "source": [
    "# %load settings.py\n",
    "# === samples =====================================================\n",
    "# import python.selections as selections\n",
    "# import python.collections as collections\n",
    "\n",
    "import pprint\n",
    "\n",
    "\n",
    "samples = []\n",
    "\n",
    "# samples += samples_nugunrates\n",
    "# samples += samples_nugunrates_V8\n",
    "# samples += samples_ele_V8\n",
    "samples += samples_ele_V9\n",
    "# samples += samples_ele_calib\n",
    "\n",
    "for smp in samples:\n",
    "    smp.open_file()\n",
    "\n",
    "\n",
    "sample = 'ele-V9'\n",
    "\n",
    "do_rate = False\n",
    "do_eff = True\n",
    "\n",
    "# === TP ==========================================================\n",
    "tps = [\n",
    "       'L1Trk',\n",
    "       'L1TrkEmu',    \n",
    "       'EG',\n",
    "       'EGBRL',\n",
    "       'EGALL',\n",
    "       'TkEle',\n",
    "       'TkEleEL',\n",
    "#        'TkEleBRL',\n",
    "       'TkEleELBRL',\n",
    "#        'TkEleALL',\n",
    "       'TkEleELALL'\n",
    "      ]\n",
    "\n",
    "# tps = ['HMvDRshapeDrCalib',\n",
    "#        'HMvDREmInt',\n",
    "#        'EG'\n",
    "#       ]\n",
    "\n",
    "\n",
    "\n",
    "# === Load the Histo Primitives ====================================\n",
    "histo_primitives = pd.DataFrame()\n",
    "\n",
    "if do_rate:\n",
    "#     from python.plotters import rate_plotters, eg_rate_plotters\n",
    "\n",
    "    for plotter in configuration.rate_plotters:\n",
    "        histo_primitives = histo_primitives.append(plotter.get_histo_primitives(), ignore_index=True)\n",
    "    for plotter in configuration.eg_rate_plotters:\n",
    "        histo_primitives = histo_primitives.append(plotter.get_histo_primitives(), ignore_index=True)\n",
    "if do_eff:\n",
    "#     from python.plotters import eg_genmatched_plotters, track_genmatched_plotters, tp_genmatched_plotters\n",
    "    for plotter in configuration.tp_genmatched_plotters:\n",
    "        histo_primitives = histo_primitives.append(plotter.get_histo_primitives(), ignore_index=True)\n",
    "    for plotter in configuration.eg_genmatched_plotters:\n",
    "        histo_primitives = histo_primitives.append(plotter.get_histo_primitives(), ignore_index=True)\n",
    "    for plotter in configuration.track_genmatched_plotters:\n",
    "        histo_primitives = histo_primitives.append(plotter.get_histo_primitives(), ignore_index=True)\n",
    "        \n",
    "\n",
    "# print histo_primitives.data.unique()\n",
    "# === TP selections ================================================\n",
    "tp_select = {}\n",
    "\n",
    "for tp in tps:\n",
    "    tp_select[tp] = histo_primitives[histo_primitives.data == tp].data_sel.unique().tolist()\n",
    "\n",
    "# ==== GEN selections ===============================================\n",
    "gen_select ={}\n",
    "for tp in tps:\n",
    "    gen_select[tp] = histo_primitives[histo_primitives.data == tp].gen_sel.unique().tolist()\n",
    "\n",
    "#  ==== labels ===============================================\n",
    "tp_labels = histo_primitives[['data', 'data_label']].drop_duplicates().set_index('data').T.to_dict('records')[0]\n",
    "tp_selection_labels = histo_primitives[['data_sel', 'data_sel_label']].drop_duplicates().set_index('data_sel').T.to_dict('records')[0]\n",
    "gen_selection_labels = histo_primitives[['gen_sel', 'gen_sel_label']].drop_duplicates().set_index('gen_sel').T.to_dict('records')[0]\n",
    "\n",
    "\n",
    "\n",
    "import pprint\n",
    "pp = pprint.PrettyPrinter(indent=4)\n",
    "print '--- TPs: '\n",
    "pp.pprint(tps)\n",
    "print '--- TP selections:'\n",
    "pp.pprint(tp_select)\n",
    "print '--- GEN selections:'\n",
    "pp.pprint(gen_select)\n",
    "\n",
    "\n",
    "# print selections.eg_rate_selections\n"
   ]
  },
  {
   "cell_type": "code",
   "execution_count": 7,
   "metadata": {},
   "outputs": [
    {
     "name": "stdout",
     "output_type": "stream",
     "text": [
      "TP: L1Trk\n",
      "['all' 'Pt2' 'Pt5' 'Pt10' 'St4' 'St4Pt2' 'St4Pt5' 'St4Pt10']\n",
      "['GEN' 'GENPt15' 'GENPt10to25' 'GENPt30' 'GENPt35' 'GENPt40' 'GENEtaD'\n",
      " 'GENEtaDPt15' 'GENEtaDE' 'GENEtaDEPt15' 'GENEtaBC' 'GENEtaBCPt15'\n",
      " 'GENEtaBCD' 'GENEtaBCDPt15']\n",
      "TP: L1TrkEmu\n",
      "['all' 'Pt2' 'Pt5' 'Pt10' 'St4' 'St4Pt2' 'St4Pt5' 'St4Pt10']\n",
      "['GEN' 'GENPt15' 'GENPt10to25' 'GENPt30' 'GENPt35' 'GENPt40' 'GENEtaD'\n",
      " 'GENEtaDPt15' 'GENEtaDE' 'GENEtaDEPt15' 'GENEtaBC' 'GENEtaBCPt15'\n",
      " 'GENEtaBCD' 'GENEtaBCDPt15']\n",
      "TP: EG\n",
      "['EGq2' 'EGq2Pt10' 'EGq2Pt15' 'EGq2Pt20' 'EGq2Pt25' 'EGq2Pt30' 'EGq2Pt40'\n",
      " 'EGq3' 'EGq3Pt10' 'EGq3Pt15' 'EGq3Pt20' 'EGq3Pt25' 'EGq3Pt30' 'EGq3Pt40'\n",
      " 'EGq4' 'EGq4Pt10' 'EGq4Pt15' 'EGq4Pt20' 'EGq4Pt25' 'EGq4Pt30' 'EGq4Pt40'\n",
      " 'EGq5' 'EGq5Pt10' 'EGq5Pt15' 'EGq5Pt20' 'EGq5Pt25' 'EGq5Pt30' 'EGq5Pt40']\n",
      "['GEN' 'GENPt15' 'GENPt10to25' 'GENPt30' 'GENPt35' 'GENPt40' 'GENEtaD'\n",
      " 'GENEtaDPt15' 'GENEtaDE' 'GENEtaDEPt15' 'GENEtaBC' 'GENEtaBCPt15'\n",
      " 'GENEtaBCD' 'GENEtaBCDPt15']\n",
      "TP: EGBRL\n",
      "['all' 'LooseTkID' 'Pt10' 'Pt10LooseTkID' 'Pt15' 'Pt15LooseTkID' 'Pt20'\n",
      " 'Pt20LooseTkID' 'Pt25' 'Pt25LooseTkID' 'Pt30' 'Pt30LooseTkID' 'Pt40'\n",
      " 'Pt40LooseTkID']\n",
      "['GEN' 'GENPt15' 'GENPt10to25' 'GENPt30' 'GENPt35' 'GENPt40' 'GENEtaF']\n",
      "TP: EGALL\n",
      "['all' 'LooseTkID' 'Pt10' 'Pt10LooseTkID' 'Pt15' 'Pt15LooseTkID' 'Pt20'\n",
      " 'Pt20LooseTkID' 'Pt25' 'Pt25LooseTkID' 'Pt30' 'Pt30LooseTkID' 'Pt40'\n",
      " 'Pt40LooseTkID']\n",
      "['GEN' 'GENPt15' 'GENPt10to25' 'GENPt30' 'GENPt35' 'GENPt40' 'GENEtaF'\n",
      " 'GENEtaD' 'GENEtaBC' 'GENEtaBCD']\n",
      "TP: TkEle\n",
      "['EGq2' 'EGq2Pt10' 'EGq2Pt15' 'EGq2Pt20' 'EGq2Pt25' 'EGq2Pt30' 'EGq2Pt40'\n",
      " 'EGq3' 'EGq3Pt10' 'EGq3Pt15' 'EGq3Pt20' 'EGq3Pt25' 'EGq3Pt30' 'EGq3Pt40'\n",
      " 'EGq4' 'EGq4Pt10' 'EGq4Pt15' 'EGq4Pt20' 'EGq4Pt25' 'EGq4Pt30' 'EGq4Pt40'\n",
      " 'EGq5' 'EGq5Pt10' 'EGq5Pt15' 'EGq5Pt20' 'EGq5Pt25' 'EGq5Pt30' 'EGq5Pt40'\n",
      " 'EGq2Iso0p2' 'EGq2Iso0p1' 'EGq2Iso0p3' 'EGq3Iso0p2' 'EGq3Iso0p1'\n",
      " 'EGq3Iso0p3' 'EGq4Iso0p2' 'EGq4Iso0p1' 'EGq4Iso0p3' 'EGq5Iso0p2'\n",
      " 'EGq5Iso0p1' 'EGq5Iso0p3']\n",
      "['GEN' 'GENPt15' 'GENPt10to25' 'GENPt30' 'GENPt35' 'GENPt40' 'GENEtaBC'\n",
      " 'GENEtaBCPt15' 'GENEtaBCD' 'GENEtaBCDPt15']\n",
      "TP: TkEleEL\n",
      "['EGq2' 'EGq2Pt10' 'EGq2Pt15' 'EGq2Pt20' 'EGq2Pt25' 'EGq2Pt30' 'EGq2Pt40'\n",
      " 'EGq3' 'EGq3Pt10' 'EGq3Pt15' 'EGq3Pt20' 'EGq3Pt25' 'EGq3Pt30' 'EGq3Pt40'\n",
      " 'EGq4' 'EGq4Pt10' 'EGq4Pt15' 'EGq4Pt20' 'EGq4Pt25' 'EGq4Pt30' 'EGq4Pt40'\n",
      " 'EGq5' 'EGq5Pt10' 'EGq5Pt15' 'EGq5Pt20' 'EGq5Pt25' 'EGq5Pt30' 'EGq5Pt40'\n",
      " 'EGq2Iso0p2' 'EGq2Iso0p1' 'EGq2Iso0p3' 'EGq3Iso0p2' 'EGq3Iso0p1'\n",
      " 'EGq3Iso0p3' 'EGq4Iso0p2' 'EGq4Iso0p1' 'EGq4Iso0p3' 'EGq5Iso0p2'\n",
      " 'EGq5Iso0p1' 'EGq5Iso0p3']\n",
      "['GEN' 'GENPt15' 'GENPt10to25' 'GENPt30' 'GENPt35' 'GENPt40' 'GENEtaBC'\n",
      " 'GENEtaBCPt15' 'GENEtaBCD' 'GENEtaBCDPt15']\n",
      "TP: TkEleELBRL\n",
      "['all' 'Pt10' 'Pt15' 'Pt20' 'Pt25' 'Pt30' 'Pt40']\n",
      "['GEN' 'GENPt15' 'GENPt10to25' 'GENPt30' 'GENPt35' 'GENPt40' 'GENEtaF']\n",
      "TP: TkEleELALL\n",
      "['all' 'LooseTkID' 'Iso0p1' 'Pt10' 'Pt10LooseTkID' 'Pt10Iso0p1' 'Pt15'\n",
      " 'Pt15LooseTkID' 'Pt15Iso0p1' 'Pt20' 'Pt20LooseTkID' 'Pt20Iso0p1' 'Pt25'\n",
      " 'Pt25LooseTkID' 'Pt25Iso0p1' 'Pt30' 'Pt30LooseTkID' 'Pt30Iso0p1' 'Pt40'\n",
      " 'Pt40LooseTkID' 'Pt40Iso0p1']\n",
      "['GEN' 'GENPt15' 'GENPt10to25' 'GENPt30' 'GENPt35' 'GENPt40' 'GENEtaF'\n",
      " 'GENEtaD' 'GENEtaBC' 'GENEtaBCD']\n"
     ]
    }
   ],
   "source": [
    "for tp in tps:\n",
    "    print 'TP: {}'.format(tp)\n",
    "    print histo_primitives[histo_primitives.data == tp].data_sel.unique()\n",
    "    print histo_primitives[histo_primitives.data == tp].gen_sel.unique()"
   ]
  },
  {
   "cell_type": "code",
   "execution_count": 8,
   "metadata": {},
   "outputs": [
    {
     "data": {
      "text/plain": [
       "{'EG': 'EG',\n",
       " 'EGALL': 'EG all',\n",
       " 'EGBRL': 'EG barrel',\n",
       " 'HMvDR': 'HM+dR(layer) Cl3d',\n",
       " 'HMvDRCalib': 'HM calib.',\n",
       " 'HMvDREmInt': 'HM+dR(layer) Cl3d EM Int',\n",
       " 'HMvDRshapeDrCalib': 'HM #Delta#rho < 0.015 calib.',\n",
       " 'L1Trk': 'L1Track',\n",
       " 'L1TrkEmu': 'L1Track EMU',\n",
       " 'TkEle': 'TkEle',\n",
       " 'TkEleEL': 'TkEle Ell. match',\n",
       " 'TkEleELALL': 'TkEle Ell. match all',\n",
       " 'TkEleELBRL': 'TkEle Ell. match barrel'}"
      ]
     },
     "execution_count": 8,
     "metadata": {},
     "output_type": "execute_result"
    }
   ],
   "source": [
    "tp_labels"
   ]
  },
  {
   "cell_type": "code",
   "execution_count": 9,
   "metadata": {},
   "outputs": [
    {
     "data": {
      "text/plain": [
       "{'EGq2': 'hwQual 2',\n",
       " 'EGq2Iso0p1': 'hwQual 2, Iso0p1',\n",
       " 'EGq2Iso0p2': 'hwQual 2, Iso0p2',\n",
       " 'EGq2Iso0p3': 'hwQual 2, Iso0p3',\n",
       " 'EGq2Pt10': 'hwQual 2, p_{T}^{L1}>=10GeV',\n",
       " 'EGq2Pt15': 'hwQual 2, p_{T}^{L1}>=15GeV',\n",
       " 'EGq2Pt20': 'hwQual 2, p_{T}^{L1}>=20GeV',\n",
       " 'EGq2Pt25': 'hwQual 2, p_{T}^{L1}>=25GeV',\n",
       " 'EGq2Pt30': 'hwQual 2, p_{T}^{L1}>=30GeV',\n",
       " 'EGq2Pt40': 'hwQual 2, p_{T}^{L1}>=40GeV',\n",
       " 'EGq3': 'hwQual 3',\n",
       " 'EGq3Iso0p1': 'hwQual 3, Iso0p1',\n",
       " 'EGq3Iso0p2': 'hwQual 3, Iso0p2',\n",
       " 'EGq3Iso0p3': 'hwQual 3, Iso0p3',\n",
       " 'EGq3Pt10': 'hwQual 3, p_{T}^{L1}>=10GeV',\n",
       " 'EGq3Pt15': 'hwQual 3, p_{T}^{L1}>=15GeV',\n",
       " 'EGq3Pt20': 'hwQual 3, p_{T}^{L1}>=20GeV',\n",
       " 'EGq3Pt25': 'hwQual 3, p_{T}^{L1}>=25GeV',\n",
       " 'EGq3Pt30': 'hwQual 3, p_{T}^{L1}>=30GeV',\n",
       " 'EGq3Pt40': 'hwQual 3, p_{T}^{L1}>=40GeV',\n",
       " 'EGq4': 'hwQual 4',\n",
       " 'EGq4Iso0p1': 'hwQual 4, Iso0p1',\n",
       " 'EGq4Iso0p2': 'hwQual 4, Iso0p2',\n",
       " 'EGq4Iso0p3': 'hwQual 4, Iso0p3',\n",
       " 'EGq4Pt10': 'hwQual 4, p_{T}^{L1}>=10GeV',\n",
       " 'EGq4Pt15': 'hwQual 4, p_{T}^{L1}>=15GeV',\n",
       " 'EGq4Pt20': 'hwQual 4, p_{T}^{L1}>=20GeV',\n",
       " 'EGq4Pt25': 'hwQual 4, p_{T}^{L1}>=25GeV',\n",
       " 'EGq4Pt30': 'hwQual 4, p_{T}^{L1}>=30GeV',\n",
       " 'EGq4Pt40': 'hwQual 4, p_{T}^{L1}>=40GeV',\n",
       " 'EGq5': 'hwQual 5',\n",
       " 'EGq5Iso0p1': 'hwQual 5, Iso0p1',\n",
       " 'EGq5Iso0p2': 'hwQual 5, Iso0p2',\n",
       " 'EGq5Iso0p3': 'hwQual 5, Iso0p3',\n",
       " 'EGq5Pt10': 'hwQual 5, p_{T}^{L1}>=10GeV',\n",
       " 'EGq5Pt15': 'hwQual 5, p_{T}^{L1}>=15GeV',\n",
       " 'EGq5Pt20': 'hwQual 5, p_{T}^{L1}>=20GeV',\n",
       " 'EGq5Pt25': 'hwQual 5, p_{T}^{L1}>=25GeV',\n",
       " 'EGq5Pt30': 'hwQual 5, p_{T}^{L1}>=30GeV',\n",
       " 'EGq5Pt40': 'hwQual 5, p_{T}^{L1}>=40GeV',\n",
       " 'Em': 'EGId',\n",
       " 'EmPt10': 'EGId, p_{T}^{L1}>=10GeV',\n",
       " 'EmPt20': 'EGId, p_{T}^{L1}>=20GeV',\n",
       " 'EmPt30': 'EGId, p_{T}^{L1}>=30GeV',\n",
       " 'Iso0p1': 'Iso0p1',\n",
       " 'LooseTkID': 'LooseTkID',\n",
       " 'Pt10': 'p_{T}^{tk} > 10 GeV',\n",
       " 'Pt10Iso0p1': 'p_{T}^{L1}>=10GeV, Iso0p1',\n",
       " 'Pt10LooseTkID': 'p_{T}^{L1}>=10GeV, LooseTkID',\n",
       " 'Pt15': 'p_{T}^{L1}>=15GeV',\n",
       " 'Pt15Iso0p1': 'p_{T}^{L1}>=15GeV, Iso0p1',\n",
       " 'Pt15LooseTkID': 'p_{T}^{L1}>=15GeV, LooseTkID',\n",
       " 'Pt2': 'p_{T}^{tk} > 2 GeV',\n",
       " 'Pt20': 'p_{T}^{L1}>=20GeV',\n",
       " 'Pt20Iso0p1': 'p_{T}^{L1}>=20GeV, Iso0p1',\n",
       " 'Pt20LooseTkID': 'p_{T}^{L1}>=20GeV, LooseTkID',\n",
       " 'Pt25': 'p_{T}^{L1}>=25GeV',\n",
       " 'Pt25Iso0p1': 'p_{T}^{L1}>=25GeV, Iso0p1',\n",
       " 'Pt25LooseTkID': 'p_{T}^{L1}>=25GeV, LooseTkID',\n",
       " 'Pt30': 'p_{T}^{L1}>=30GeV',\n",
       " 'Pt30Iso0p1': 'p_{T}^{L1}>=30GeV, Iso0p1',\n",
       " 'Pt30LooseTkID': 'p_{T}^{L1}>=30GeV, LooseTkID',\n",
       " 'Pt40': 'p_{T}^{L1}>=40GeV',\n",
       " 'Pt40Iso0p1': 'p_{T}^{L1}>=40GeV, Iso0p1',\n",
       " 'Pt40LooseTkID': 'p_{T}^{L1}>=40GeV, LooseTkID',\n",
       " 'Pt5': 'p_{T}^{tk} > 5 GeV',\n",
       " 'St4': '# stubs > 3',\n",
       " 'St4Pt10': '# stubs > 3, p_{T}^{tk} > 10 GeV',\n",
       " 'St4Pt2': '# stubs > 3, p_{T}^{tk} > 2 GeV',\n",
       " 'St4Pt5': '# stubs > 3, p_{T}^{tk} > 5 GeV',\n",
       " 'all': ''}"
      ]
     },
     "execution_count": 9,
     "metadata": {},
     "output_type": "execute_result"
    }
   ],
   "source": [
    "tp_selection_labels"
   ]
  },
  {
   "cell_type": "code",
   "execution_count": 10,
   "metadata": {},
   "outputs": [
    {
     "data": {
      "text/plain": [
       "{'GEN': '',\n",
       " 'GENEtaBC': '1.52 < |#eta^{GEN}| <= 2.4',\n",
       " 'GENEtaBCD': '1.52 < |#eta^{GEN}| <= 2.8',\n",
       " 'GENEtaBCDPt15': '1.52 < |#eta^{GEN}| <= 2.8, p_{T}^{GEN}>=15GeV',\n",
       " 'GENEtaBCPt15': '1.52 < |#eta^{GEN}| <= 2.4, p_{T}^{GEN}>=15GeV',\n",
       " 'GENEtaD': '2.4 < |#eta^{GEN}| <= 2.8',\n",
       " 'GENEtaDE': '2.4 < |#eta^{GEN}| <= 3.0',\n",
       " 'GENEtaDEPt15': '2.4 < |#eta^{GEN}| <= 3.0, p_{T}^{GEN}>=15GeV',\n",
       " 'GENEtaDPt15': '2.4 < |#eta^{GEN}| <= 2.8, p_{T}^{GEN}>=15GeV',\n",
       " 'GENEtaF': '|#eta^{GEN}| <= 1.479',\n",
       " 'GENPt10to25': '10 #leq p_{T}^{GEN} < 25GeV',\n",
       " 'GENPt15': 'p_{T}^{GEN}>=15GeV',\n",
       " 'GENPt30': 'p_{T}^{GEN}>=30GeV',\n",
       " 'GENPt35': 'p_{T}^{GEN}>=35GeV',\n",
       " 'GENPt40': 'p_{T}^{GEN}>=40GeV'}"
      ]
     },
     "execution_count": 10,
     "metadata": {},
     "output_type": "execute_result"
    }
   ],
   "source": [
    "gen_selection_labels"
   ]
  },
  {
   "cell_type": "markdown",
   "metadata": {},
   "source": []
  },
  {
   "cell_type": "code",
   "execution_count": 11,
   "metadata": {},
   "outputs": [
    {
     "name": "stdout",
     "output_type": "stream",
     "text": [
      "CPU times: user 14.9 s, sys: 768 ms, total: 15.7 s\n",
      "Wall time: 15.6 s\n"
     ]
    }
   ],
   "source": [
    "%%time\n",
    "\n",
    "hplot = HPlot(samples, tp_labels, tp_selection_labels, gen_selection_labels)\n",
    "\n",
    "for tp in tps:\n",
    "    hplot.cache_histo(classtype=histos.HistoSetEff, \n",
    "                      samples=samples,\n",
    "                      pus=[],\n",
    "                      tps=[tp],\n",
    "                      tp_sels=histo_primitives[histo_primitives.data == tp].data_sel.unique(),\n",
    "                      gen_sels=gen_select[tp])\n",
    "\n"
   ]
  },
  {
   "cell_type": "code",
   "execution_count": 12,
   "metadata": {},
   "outputs": [
    {
     "name": "stdout",
     "output_type": "stream",
     "text": [
      "['__doc__', '__init__', '__module__', '__repr__', 'histo_file', 'histo_filename', 'label', 'name', 'open_file', 'type']\n"
     ]
    },
    {
     "data": {
      "text/plain": [
       "[<Sample ../plots1/histos_ele_flat2to100_PU0_eg_v121.root, ele-V9>,\n",
       " <Sample ../plots1/histos_ele_flat2to100_PU200_eg_v121.root, ele-V9>]"
      ]
     },
     "execution_count": 12,
     "metadata": {},
     "output_type": "execute_result"
    },
    {
     "name": "stdout",
     "output_type": "stream",
     "text": [
      "TFile**\t\t../plots1/histos_ele_flat2to100_PU0_eg_v121.root\t\n",
      " TFile*\t\t../plots1/histos_ele_flat2to100_PU0_eg_v121.root\t\n",
      "  KEY: TDirectoryFile\tEGHistos;1\tEGHistos\n",
      "  KEY: TDirectoryFile\tEGResoHistos;1\tEGResoHistos\n",
      "  KEY: TDirectoryFile\tGenParticleHistos;1\tGenParticleHistos\n"
     ]
    }
   ],
   "source": [
    "print dir(samples[0])\n",
    "samples[0].histo_file.ls()\n",
    "samples"
   ]
  },
  {
   "cell_type": "code",
   "execution_count": 13,
   "metadata": {},
   "outputs": [
    {
     "name": "stdout",
     "output_type": "stream",
     "text": [
      "[<python.l1THistos.HistoSetEff instance at 0x11a27acf8>]\n"
     ]
    },
    {
     "data": {
      "text/plain": [
       "['__doc__', '__init__', '__module__']"
      ]
     },
     "execution_count": 13,
     "metadata": {},
     "output_type": "execute_result"
    }
   ],
   "source": [
    "hsets, labels, text = hplot.get_histo(histos.HistoSetEff, sample, ['PU200'], 'TkEle', 'EGq4Pt20', ['GENEtaBC'], debug=False)\n",
    "print hsets\n",
    "hsets[0].name\n",
    "hsets[0].name\n",
    "dir(hsets[0].h_eff)"
   ]
  },
  {
   "cell_type": "code",
   "execution_count": 14,
   "metadata": {
    "scrolled": true
   },
   "outputs": [
    {
     "name": "stdout",
     "output_type": "stream",
     "text": [
      "Sample: ele-V9\n",
      "PU: PU0, TP: L1Trk\n",
      "  Pt2 den -> all\n",
      "  Pt5 den -> all\n",
      "  Pt10 den -> all\n",
      "  St4Pt2 den -> St4\n",
      "  St4Pt5 den -> St4\n",
      "  St4Pt10 den -> St4\n",
      "PU: PU0, TP: L1TrkEmu\n",
      "  Pt2 den -> all\n",
      "  Pt5 den -> all\n",
      "  Pt10 den -> all\n",
      "  St4Pt2 den -> St4\n",
      "  St4Pt5 den -> St4\n",
      "  St4Pt10 den -> St4\n",
      "PU: PU0, TP: EG\n",
      "  EGq2Pt10 den -> EGq2\n",
      "  EGq2Pt15 den -> EGq2\n",
      "  EGq2Pt20 den -> EGq2\n",
      "  EGq2Pt25 den -> EGq2\n",
      "  EGq2Pt30 den -> EGq2\n",
      "  EGq2Pt40 den -> EGq2\n",
      "  EGq3Pt10 den -> EGq3\n",
      "  EGq3Pt15 den -> EGq3\n",
      "  EGq3Pt20 den -> EGq3\n",
      "  EGq3Pt25 den -> EGq3\n",
      "  EGq3Pt30 den -> EGq3\n",
      "  EGq3Pt40 den -> EGq3\n",
      "  EGq4Pt10 den -> EGq4\n",
      "  EGq4Pt15 den -> EGq4\n",
      "  EGq4Pt20 den -> EGq4\n",
      "  EGq4Pt25 den -> EGq4\n",
      "  EGq4Pt30 den -> EGq4\n",
      "  EGq4Pt40 den -> EGq4\n",
      "  EGq5Pt10 den -> EGq5\n",
      "  EGq5Pt15 den -> EGq5\n",
      "  EGq5Pt20 den -> EGq5\n",
      "  EGq5Pt25 den -> EGq5\n",
      "  EGq5Pt30 den -> EGq5\n",
      "  EGq5Pt40 den -> EGq5\n",
      "PU: PU0, TP: EGBRL\n",
      "  Pt10 den -> all\n",
      "  Pt10LooseTkID den -> all\n",
      "  Pt15 den -> all\n",
      "  Pt15LooseTkID den -> all\n",
      "  Pt20 den -> all\n",
      "  Pt20LooseTkID den -> all\n",
      "  Pt25 den -> all\n",
      "  Pt25LooseTkID den -> all\n",
      "  Pt30 den -> all\n",
      "  Pt30LooseTkID den -> all\n",
      "  Pt40 den -> all\n",
      "  Pt40LooseTkID den -> all\n",
      "PU: PU0, TP: EGALL\n",
      "  Pt10 den -> all\n",
      "  Pt10LooseTkID den -> all\n",
      "  Pt15 den -> all\n",
      "  Pt15LooseTkID den -> all\n",
      "  Pt20 den -> all\n",
      "  Pt20LooseTkID den -> all\n",
      "  Pt25 den -> all\n",
      "  Pt25LooseTkID den -> all\n",
      "  Pt30 den -> all\n",
      "  Pt30LooseTkID den -> all\n",
      "  Pt40 den -> all\n",
      "  Pt40LooseTkID den -> all\n",
      "PU: PU0, TP: TkEle\n",
      "  EGq2Pt10 den -> EGq2\n",
      "  EGq2Pt15 den -> EGq2\n",
      "  EGq2Pt20 den -> EGq2\n",
      "  EGq2Pt25 den -> EGq2\n",
      "  EGq2Pt30 den -> EGq2\n",
      "  EGq2Pt40 den -> EGq2\n",
      "  EGq3Pt10 den -> EGq3\n",
      "  EGq3Pt15 den -> EGq3\n",
      "  EGq3Pt20 den -> EGq3\n",
      "  EGq3Pt25 den -> EGq3\n",
      "  EGq3Pt30 den -> EGq3\n",
      "  EGq3Pt40 den -> EGq3\n",
      "  EGq4Pt10 den -> EGq4\n",
      "  EGq4Pt15 den -> EGq4\n",
      "  EGq4Pt20 den -> EGq4\n",
      "  EGq4Pt25 den -> EGq4\n",
      "  EGq4Pt30 den -> EGq4\n",
      "  EGq4Pt40 den -> EGq4\n",
      "  EGq5Pt10 den -> EGq5\n",
      "  EGq5Pt15 den -> EGq5\n",
      "  EGq5Pt20 den -> EGq5\n",
      "  EGq5Pt25 den -> EGq5\n",
      "  EGq5Pt30 den -> EGq5\n",
      "  EGq5Pt40 den -> EGq5\n",
      "PU: PU0, TP: TkEleEL\n",
      "  EGq2Pt10 den -> EGq2\n",
      "  EGq2Pt15 den -> EGq2\n",
      "  EGq2Pt20 den -> EGq2\n",
      "  EGq2Pt25 den -> EGq2\n",
      "  EGq2Pt30 den -> EGq2\n",
      "  EGq2Pt40 den -> EGq2\n",
      "  EGq3Pt10 den -> EGq3\n",
      "  EGq3Pt15 den -> EGq3\n",
      "  EGq3Pt20 den -> EGq3\n",
      "  EGq3Pt25 den -> EGq3\n",
      "  EGq3Pt30 den -> EGq3\n",
      "  EGq3Pt40 den -> EGq3\n",
      "  EGq4Pt10 den -> EGq4\n",
      "  EGq4Pt15 den -> EGq4\n",
      "  EGq4Pt20 den -> EGq4\n",
      "  EGq4Pt25 den -> EGq4\n",
      "  EGq4Pt30 den -> EGq4\n",
      "  EGq4Pt40 den -> EGq4\n",
      "  EGq5Pt10 den -> EGq5\n",
      "  EGq5Pt15 den -> EGq5\n",
      "  EGq5Pt20 den -> EGq5\n",
      "  EGq5Pt25 den -> EGq5\n",
      "  EGq5Pt30 den -> EGq5\n",
      "  EGq5Pt40 den -> EGq5\n",
      "PU: PU0, TP: TkEleELBRL\n",
      "  Pt10 den -> all\n",
      "  Pt15 den -> all\n",
      "  Pt20 den -> all\n",
      "  Pt25 den -> all\n",
      "  Pt30 den -> all\n",
      "  Pt40 den -> all\n",
      "PU: PU0, TP: TkEleELALL\n",
      "  Pt10 den -> all\n",
      "  Pt10LooseTkID den -> all\n",
      "  Pt10Iso0p1 den -> all\n",
      "  Pt15 den -> all\n",
      "  Pt15LooseTkID den -> all\n",
      "  Pt15Iso0p1 den -> all\n",
      "  Pt20 den -> all\n",
      "  Pt20LooseTkID den -> all\n",
      "  Pt20Iso0p1 den -> all\n",
      "  Pt25 den -> all\n",
      "  Pt25LooseTkID den -> all\n",
      "  Pt25Iso0p1 den -> all\n",
      "  Pt30 den -> all\n",
      "  Pt30LooseTkID den -> all\n",
      "  Pt30Iso0p1 den -> all\n",
      "  Pt40 den -> all\n",
      "  Pt40LooseTkID den -> all\n",
      "  Pt40Iso0p1 den -> all\n",
      "PU: PU200, TP: L1Trk\n",
      "  Pt2 den -> all\n",
      "  Pt5 den -> all\n",
      "  Pt10 den -> all\n",
      "  St4Pt2 den -> St4\n",
      "  St4Pt5 den -> St4\n",
      "  St4Pt10 den -> St4\n",
      "PU: PU200, TP: L1TrkEmu\n",
      "  Pt2 den -> all\n",
      "  Pt5 den -> all\n",
      "  Pt10 den -> all\n",
      "  St4Pt2 den -> St4\n",
      "  St4Pt5 den -> St4\n",
      "  St4Pt10 den -> St4\n",
      "PU: PU200, TP: EG\n",
      "  EGq2Pt10 den -> EGq2\n",
      "  EGq2Pt15 den -> EGq2\n",
      "  EGq2Pt20 den -> EGq2\n",
      "  EGq2Pt25 den -> EGq2\n",
      "  EGq2Pt30 den -> EGq2\n",
      "  EGq2Pt40 den -> EGq2\n",
      "  EGq3Pt10 den -> EGq3\n",
      "  EGq3Pt15 den -> EGq3\n",
      "  EGq3Pt20 den -> EGq3\n",
      "  EGq3Pt25 den -> EGq3\n",
      "  EGq3Pt30 den -> EGq3\n",
      "  EGq3Pt40 den -> EGq3\n",
      "  EGq4Pt10 den -> EGq4\n",
      "  EGq4Pt15 den -> EGq4\n",
      "  EGq4Pt20 den -> EGq4\n",
      "  EGq4Pt25 den -> EGq4\n",
      "  EGq4Pt30 den -> EGq4\n",
      "  EGq4Pt40 den -> EGq4\n",
      "  EGq5Pt10 den -> EGq5\n",
      "  EGq5Pt15 den -> EGq5\n",
      "  EGq5Pt20 den -> EGq5\n",
      "  EGq5Pt25 den -> EGq5\n",
      "  EGq5Pt30 den -> EGq5\n",
      "  EGq5Pt40 den -> EGq5\n",
      "PU: PU200, TP: EGBRL\n",
      "  Pt10 den -> all\n",
      "  Pt10LooseTkID den -> all\n",
      "  Pt15 den -> all\n",
      "  Pt15LooseTkID den -> all\n",
      "  Pt20 den -> all\n",
      "  Pt20LooseTkID den -> all\n",
      "  Pt25 den -> all\n",
      "  Pt25LooseTkID den -> all\n",
      "  Pt30 den -> all\n",
      "  Pt30LooseTkID den -> all\n",
      "  Pt40 den -> all\n",
      "  Pt40LooseTkID den -> all\n",
      "PU: PU200, TP: EGALL\n",
      "  Pt10 den -> all\n",
      "  Pt10LooseTkID den -> all\n",
      "  Pt15 den -> all\n",
      "  Pt15LooseTkID den -> all\n",
      "  Pt20 den -> all\n",
      "  Pt20LooseTkID den -> all\n",
      "  Pt25 den -> all\n",
      "  Pt25LooseTkID den -> all\n",
      "  Pt30 den -> all\n",
      "  Pt30LooseTkID den -> all\n",
      "  Pt40 den -> all\n",
      "  Pt40LooseTkID den -> all\n",
      "PU: PU200, TP: TkEle\n",
      "  EGq2Pt10 den -> EGq2\n",
      "  EGq2Pt15 den -> EGq2\n",
      "  EGq2Pt20 den -> EGq2\n",
      "  EGq2Pt25 den -> EGq2\n",
      "  EGq2Pt30 den -> EGq2\n",
      "  EGq2Pt40 den -> EGq2\n",
      "  EGq3Pt10 den -> EGq3\n",
      "  EGq3Pt15 den -> EGq3\n",
      "  EGq3Pt20 den -> EGq3\n",
      "  EGq3Pt25 den -> EGq3\n",
      "  EGq3Pt30 den -> EGq3\n",
      "  EGq3Pt40 den -> EGq3\n",
      "  EGq4Pt10 den -> EGq4\n",
      "  EGq4Pt15 den -> EGq4\n",
      "  EGq4Pt20 den -> EGq4\n",
      "  EGq4Pt25 den -> EGq4\n",
      "  EGq4Pt30 den -> EGq4\n",
      "  EGq4Pt40 den -> EGq4\n",
      "  EGq5Pt10 den -> EGq5\n",
      "  EGq5Pt15 den -> EGq5\n",
      "  EGq5Pt20 den -> EGq5\n",
      "  EGq5Pt25 den -> EGq5\n",
      "  EGq5Pt30 den -> EGq5\n",
      "  EGq5Pt40 den -> EGq5\n",
      "PU: PU200, TP: TkEleEL\n",
      "  EGq2Pt10 den -> EGq2\n",
      "  EGq2Pt15 den -> EGq2\n",
      "  EGq2Pt20 den -> EGq2\n",
      "  EGq2Pt25 den -> EGq2\n",
      "  EGq2Pt30 den -> EGq2\n",
      "  EGq2Pt40 den -> EGq2\n",
      "  EGq3Pt10 den -> EGq3\n",
      "  EGq3Pt15 den -> EGq3\n",
      "  EGq3Pt20 den -> EGq3\n",
      "  EGq3Pt25 den -> EGq3\n",
      "  EGq3Pt30 den -> EGq3\n",
      "  EGq3Pt40 den -> EGq3\n",
      "  EGq4Pt10 den -> EGq4\n",
      "  EGq4Pt15 den -> EGq4\n",
      "  EGq4Pt20 den -> EGq4\n",
      "  EGq4Pt25 den -> EGq4\n",
      "  EGq4Pt30 den -> EGq4\n",
      "  EGq4Pt40 den -> EGq4\n",
      "  EGq5Pt10 den -> EGq5\n",
      "  EGq5Pt15 den -> EGq5\n",
      "  EGq5Pt20 den -> EGq5\n",
      "  EGq5Pt25 den -> EGq5\n",
      "  EGq5Pt30 den -> EGq5\n",
      "  EGq5Pt40 den -> EGq5\n",
      "PU: PU200, TP: TkEleELBRL\n",
      "  Pt10 den -> all\n",
      "  Pt15 den -> all\n",
      "  Pt20 den -> all\n",
      "  Pt25 den -> all\n",
      "  Pt30 den -> all\n",
      "  Pt40 den -> all\n",
      "PU: PU200, TP: TkEleELALL\n",
      "  Pt10 den -> all\n",
      "  Pt10LooseTkID den -> all\n",
      "  Pt10Iso0p1 den -> all\n",
      "  Pt15 den -> all\n",
      "  Pt15LooseTkID den -> all\n",
      "  Pt15Iso0p1 den -> all\n",
      "  Pt20 den -> all\n",
      "  Pt20LooseTkID den -> all\n",
      "  Pt20Iso0p1 den -> all\n",
      "  Pt25 den -> all\n",
      "  Pt25LooseTkID den -> all\n",
      "  Pt25Iso0p1 den -> all\n",
      "  Pt30 den -> all\n",
      "  Pt30LooseTkID den -> all\n",
      "  Pt30Iso0p1 den -> all\n",
      "  Pt40 den -> all\n",
      "  Pt40LooseTkID den -> all\n",
      "  Pt40Iso0p1 den -> all\n",
      "CPU times: user 6min 10s, sys: 47.2 s, total: 6min 58s\n",
      "Wall time: 7min 7s\n"
     ]
    }
   ],
   "source": [
    "%%time\n",
    "\n",
    "for smp in hplot.data['sample'].unique():\n",
    "    print 'Sample: {}'.format(smp)\n",
    "    for pu in hplot.data[(hplot.data['sample'] == smp)].pu.unique():\n",
    "        for tp in tps:\n",
    "#         for tp in ['EG', 'TkEleEL']:\n",
    "            print 'PU: {}, TP: {}'.format(pu, tp)\n",
    "            for tp_sel in hplot.data[(hplot.data['sample'] == smp) & (hplot.data.pu == pu) & (hplot.data.tp == tp)].tp_sel.unique():\n",
    "                if 'Pt' not in tp_sel:\n",
    "                    continue\n",
    "#                 tp_sel_den = 'all'\n",
    "                # print tp_sel\n",
    "                tp_sel_den = tp_sel.split('Pt')[0]\n",
    "                if tp_sel_den == '':\n",
    "                    tp_sel_den = 'all'\n",
    "                print '  {} den -> {}'.format(tp_sel, tp_sel_den) \n",
    "                for gen_sel in hplot.data[(hplot.data['sample'] == smp) & (hplot.data.pu == pu) & (hplot.data.tp == tp) & (hplot.data.tp_sel == tp_sel)].gen_sel.unique():\n",
    "                    if gen_sel == 'nomatch' or 'Pt' in gen_sel:\n",
    "                        continue\n",
    "#                     print gen_sel\n",
    "                    hsetden = hplot.get_histo(histos.HistoSetEff, smp, pu, tp, tp_sel_den, gen_sel)\n",
    "                    hset = hplot.get_histo(histos.HistoSetEff, smp, pu, tp, tp_sel, gen_sel)\n",
    "                    hset[0][0].computeTurnOn(hsetden[0][0].h_num)\n"
   ]
  },
  {
   "cell_type": "code",
   "execution_count": 15,
   "metadata": {},
   "outputs": [
    {
     "data": {
      "text/html": [
       "<div>\n",
       "<style scoped>\n",
       "    .dataframe tbody tr th:only-of-type {\n",
       "        vertical-align: middle;\n",
       "    }\n",
       "\n",
       "    .dataframe tbody tr th {\n",
       "        vertical-align: top;\n",
       "    }\n",
       "\n",
       "    .dataframe thead th {\n",
       "        text-align: right;\n",
       "    }\n",
       "</style>\n",
       "<table border=\"1\" class=\"dataframe\">\n",
       "  <thead>\n",
       "    <tr style=\"text-align: right;\">\n",
       "      <th></th>\n",
       "      <th>sample</th>\n",
       "      <th>pu</th>\n",
       "      <th>tp</th>\n",
       "      <th>tp_sel</th>\n",
       "      <th>gen_sel</th>\n",
       "      <th>classtype</th>\n",
       "      <th>histo</th>\n",
       "    </tr>\n",
       "  </thead>\n",
       "  <tbody>\n",
       "    <tr>\n",
       "      <th>0</th>\n",
       "      <td>ele-V9</td>\n",
       "      <td>PU0</td>\n",
       "      <td>L1Trk</td>\n",
       "      <td>all</td>\n",
       "      <td>GEN</td>\n",
       "      <td>python.l1THistos.HistoSetEff</td>\n",
       "      <td>&lt;drawingTools.HProxy instance at 0x11a291248&gt;</td>\n",
       "    </tr>\n",
       "    <tr>\n",
       "      <th>1</th>\n",
       "      <td>ele-V9</td>\n",
       "      <td>PU0</td>\n",
       "      <td>L1Trk</td>\n",
       "      <td>all</td>\n",
       "      <td>GENPt15</td>\n",
       "      <td>python.l1THistos.HistoSetEff</td>\n",
       "      <td>&lt;drawingTools.HProxy instance at 0x11a3806c8&gt;</td>\n",
       "    </tr>\n",
       "    <tr>\n",
       "      <th>2</th>\n",
       "      <td>ele-V9</td>\n",
       "      <td>PU0</td>\n",
       "      <td>L1Trk</td>\n",
       "      <td>all</td>\n",
       "      <td>GENPt10to25</td>\n",
       "      <td>python.l1THistos.HistoSetEff</td>\n",
       "      <td>&lt;drawingTools.HProxy instance at 0x11a2919e0&gt;</td>\n",
       "    </tr>\n",
       "    <tr>\n",
       "      <th>3</th>\n",
       "      <td>ele-V9</td>\n",
       "      <td>PU0</td>\n",
       "      <td>L1Trk</td>\n",
       "      <td>all</td>\n",
       "      <td>GENPt30</td>\n",
       "      <td>python.l1THistos.HistoSetEff</td>\n",
       "      <td>&lt;drawingTools.HProxy instance at 0x105589cf8&gt;</td>\n",
       "    </tr>\n",
       "    <tr>\n",
       "      <th>4</th>\n",
       "      <td>ele-V9</td>\n",
       "      <td>PU0</td>\n",
       "      <td>L1Trk</td>\n",
       "      <td>all</td>\n",
       "      <td>GENPt35</td>\n",
       "      <td>python.l1THistos.HistoSetEff</td>\n",
       "      <td>&lt;drawingTools.HProxy instance at 0x11a3801b8&gt;</td>\n",
       "    </tr>\n",
       "    <tr>\n",
       "      <th>5</th>\n",
       "      <td>ele-V9</td>\n",
       "      <td>PU0</td>\n",
       "      <td>L1Trk</td>\n",
       "      <td>all</td>\n",
       "      <td>GENPt40</td>\n",
       "      <td>python.l1THistos.HistoSetEff</td>\n",
       "      <td>&lt;drawingTools.HProxy instance at 0x11a36aa28&gt;</td>\n",
       "    </tr>\n",
       "    <tr>\n",
       "      <th>6</th>\n",
       "      <td>ele-V9</td>\n",
       "      <td>PU0</td>\n",
       "      <td>L1Trk</td>\n",
       "      <td>all</td>\n",
       "      <td>GENEtaD</td>\n",
       "      <td>python.l1THistos.HistoSetEff</td>\n",
       "      <td>&lt;drawingTools.HProxy instance at 0x11a291200&gt;</td>\n",
       "    </tr>\n",
       "    <tr>\n",
       "      <th>7</th>\n",
       "      <td>ele-V9</td>\n",
       "      <td>PU0</td>\n",
       "      <td>L1Trk</td>\n",
       "      <td>all</td>\n",
       "      <td>GENEtaDPt15</td>\n",
       "      <td>python.l1THistos.HistoSetEff</td>\n",
       "      <td>&lt;drawingTools.HProxy instance at 0x1190e8b00&gt;</td>\n",
       "    </tr>\n",
       "    <tr>\n",
       "      <th>8</th>\n",
       "      <td>ele-V9</td>\n",
       "      <td>PU0</td>\n",
       "      <td>L1Trk</td>\n",
       "      <td>all</td>\n",
       "      <td>GENEtaDE</td>\n",
       "      <td>python.l1THistos.HistoSetEff</td>\n",
       "      <td>&lt;drawingTools.HProxy instance at 0x11a36ae60&gt;</td>\n",
       "    </tr>\n",
       "    <tr>\n",
       "      <th>9</th>\n",
       "      <td>ele-V9</td>\n",
       "      <td>PU0</td>\n",
       "      <td>L1Trk</td>\n",
       "      <td>all</td>\n",
       "      <td>GENEtaDEPt15</td>\n",
       "      <td>python.l1THistos.HistoSetEff</td>\n",
       "      <td>&lt;drawingTools.HProxy instance at 0x11a291050&gt;</td>\n",
       "    </tr>\n",
       "  </tbody>\n",
       "</table>\n",
       "</div>"
      ],
      "text/plain": [
       "   sample   pu     tp tp_sel       gen_sel                     classtype  \\\n",
       "0  ele-V9  PU0  L1Trk    all           GEN  python.l1THistos.HistoSetEff   \n",
       "1  ele-V9  PU0  L1Trk    all       GENPt15  python.l1THistos.HistoSetEff   \n",
       "2  ele-V9  PU0  L1Trk    all   GENPt10to25  python.l1THistos.HistoSetEff   \n",
       "3  ele-V9  PU0  L1Trk    all       GENPt30  python.l1THistos.HistoSetEff   \n",
       "4  ele-V9  PU0  L1Trk    all       GENPt35  python.l1THistos.HistoSetEff   \n",
       "5  ele-V9  PU0  L1Trk    all       GENPt40  python.l1THistos.HistoSetEff   \n",
       "6  ele-V9  PU0  L1Trk    all       GENEtaD  python.l1THistos.HistoSetEff   \n",
       "7  ele-V9  PU0  L1Trk    all   GENEtaDPt15  python.l1THistos.HistoSetEff   \n",
       "8  ele-V9  PU0  L1Trk    all      GENEtaDE  python.l1THistos.HistoSetEff   \n",
       "9  ele-V9  PU0  L1Trk    all  GENEtaDEPt15  python.l1THistos.HistoSetEff   \n",
       "\n",
       "                                           histo  \n",
       "0  <drawingTools.HProxy instance at 0x11a291248>  \n",
       "1  <drawingTools.HProxy instance at 0x11a3806c8>  \n",
       "2  <drawingTools.HProxy instance at 0x11a2919e0>  \n",
       "3  <drawingTools.HProxy instance at 0x105589cf8>  \n",
       "4  <drawingTools.HProxy instance at 0x11a3801b8>  \n",
       "5  <drawingTools.HProxy instance at 0x11a36aa28>  \n",
       "6  <drawingTools.HProxy instance at 0x11a291200>  \n",
       "7  <drawingTools.HProxy instance at 0x1190e8b00>  \n",
       "8  <drawingTools.HProxy instance at 0x11a36ae60>  \n",
       "9  <drawingTools.HProxy instance at 0x11a291050>  "
      ]
     },
     "execution_count": 15,
     "metadata": {},
     "output_type": "execute_result"
    }
   ],
   "source": [
    "hplot.data[:10]"
   ]
  },
  {
   "cell_type": "code",
   "execution_count": 16,
   "metadata": {},
   "outputs": [
    {
     "data": {
      "text/plain": [
       "array(['ele-V9'], dtype=object)"
      ]
     },
     "execution_count": 16,
     "metadata": {},
     "output_type": "execute_result"
    }
   ],
   "source": [
    "hplot.data['sample'].unique()"
   ]
  },
  {
   "cell_type": "code",
   "execution_count": 17,
   "metadata": {},
   "outputs": [
    {
     "data": {
      "text/plain": [
       "array(['L1Trk', 'L1TrkEmu', 'EG', 'EGBRL', 'EGALL', 'TkEle', 'TkEleEL',\n",
       "       'TkEleELBRL', 'TkEleELALL'], dtype=object)"
      ]
     },
     "execution_count": 17,
     "metadata": {},
     "output_type": "execute_result"
    }
   ],
   "source": [
    "hplot.data['tp'].unique()"
   ]
  },
  {
   "cell_type": "code",
   "execution_count": 18,
   "metadata": {},
   "outputs": [
    {
     "data": {
      "text/plain": [
       "array(['all', 'Pt2', 'Pt5', 'Pt10', 'St4', 'St4Pt2', 'St4Pt5', 'St4Pt10'], dtype=object)"
      ]
     },
     "execution_count": 18,
     "metadata": {},
     "output_type": "execute_result"
    }
   ],
   "source": [
    "hplot.data[hplot.data.tp == 'L1TrkEmu'].tp_sel.unique()"
   ]
  },
  {
   "cell_type": "code",
   "execution_count": 19,
   "metadata": {},
   "outputs": [
    {
     "data": {
      "text/plain": [
       "array(['EGq2', 'EGq2Pt10', 'EGq2Pt15', 'EGq2Pt20', 'EGq2Pt25', 'EGq2Pt30',\n",
       "       'EGq2Pt40', 'EGq3', 'EGq3Pt10', 'EGq3Pt15', 'EGq3Pt20', 'EGq3Pt25',\n",
       "       'EGq3Pt30', 'EGq3Pt40', 'EGq4', 'EGq4Pt10', 'EGq4Pt15', 'EGq4Pt20',\n",
       "       'EGq4Pt25', 'EGq4Pt30', 'EGq4Pt40', 'EGq5', 'EGq5Pt10', 'EGq5Pt15',\n",
       "       'EGq5Pt20', 'EGq5Pt25', 'EGq5Pt30', 'EGq5Pt40', 'EGq2Iso0p2',\n",
       "       'EGq2Iso0p1', 'EGq2Iso0p3', 'EGq3Iso0p2', 'EGq3Iso0p1',\n",
       "       'EGq3Iso0p3', 'EGq4Iso0p2', 'EGq4Iso0p1', 'EGq4Iso0p3',\n",
       "       'EGq5Iso0p2', 'EGq5Iso0p1', 'EGq5Iso0p3'], dtype=object)"
      ]
     },
     "execution_count": 19,
     "metadata": {},
     "output_type": "execute_result"
    }
   ],
   "source": [
    "hplot.data[hplot.data.tp == 'TkEle'].tp_sel.unique()"
   ]
  },
  {
   "cell_type": "code",
   "execution_count": 20,
   "metadata": {},
   "outputs": [],
   "source": [
    "# sample='ele'"
   ]
  },
  {
   "cell_type": "code",
   "execution_count": 21,
   "metadata": {},
   "outputs": [
    {
     "name": "stdout",
     "output_type": "stream",
     "text": [
      "[<python.l1THistos.HistoSetEff instance at 0x11aae8ab8>]\n",
      "['__doc__', '__init__', '__module__', 'h_abseta', 'h_energy', 'h_eta', 'h_fBrem', 'h_pt', 'h_reachedEE']\n"
     ]
    }
   ],
   "source": [
    "hsets, labels, text = hplot.get_histo(histos.HistoSetEff, sample, ['PU200'], 'EG', 'EGq5Pt25', ['GENEtaBC'], debug=False)\n",
    "print hsets\n",
    "hsets[0].name\n",
    "print dir(hsets[0].h_eff)\n"
   ]
  },
  {
   "cell_type": "markdown",
   "metadata": {},
   "source": [
    "## Effinciency vs $\\eta$"
   ]
  },
  {
   "cell_type": "code",
   "execution_count": 22,
   "metadata": {},
   "outputs": [
    {
     "data": {
      "text/plain": [
       "['__doc__',\n",
       " '__init__',\n",
       " '__module__',\n",
       " 'cache_histo',\n",
       " 'data',\n",
       " 'get_histo',\n",
       " 'labels_dict',\n",
       " 'pus',\n",
       " 'tp_sets']"
      ]
     },
     "execution_count": 22,
     "metadata": {},
     "output_type": "execute_result"
    }
   ],
   "source": [
    "dir(hplot)\n"
   ]
  },
  {
   "cell_type": "code",
   "execution_count": 23,
   "metadata": {},
   "outputs": [],
   "source": [
    "# newconfig=tdr_config\n",
    "# newconfig.legend_size=(0.5, 0.2)\n",
    "# newconfig.legend_position=(0.4, 0.2)\n",
    "\n",
    "# dm = DrawMachine(newconfig)\n",
    "# hsets, labels, text = hplot.get_histo(histos.HistoSetEff, ['ele-V9'], ['PU200'], ['EG'], 'EGq5Pt25', 'GENPt30', debug=False)\n",
    "# dm.addHistos([his.h_eff.h_abseta.CreateGraph() for his in hsets], ['EG calo-only'])\n",
    "\n",
    "# # hsets, labels, text = hplot.get_histo(histos.HistoSetEff, ['hybrid'], ['PU200'], ['L1Trk', ], ['Pt10'], 'GENPt30', debug=False)\n",
    "# # dm.addHistos([his.h_eff.h_abseta.CreateGraph() for his in hsets], ['L1 tracks (p_{T} > 10 GeV)'])\n",
    "# hsets, labels, text = hplot.get_histo(histos.HistoSetEff, ['ele-V9'], ['PU200'], ['TkEle', 'TkEleEL'], 'EGq5Pt25', 'GENPt30', debug=False)\n",
    "# dm.addHistos([his.h_eff.h_abseta.CreateGraph() for his in hsets], ['EG track-match', 'EG track-match (Elliptic cut)'])\n",
    "\n",
    "\n",
    "# dm.draw(text='EG endcap, p_{T}^{GEN}>25GeV', x_min=1.5, x_max=3.2, y_min=0.5, y_max=1.1, v_lines=[1.52, 2.4])\n",
    "# dm.write(name='egEndcap_matchingEffBreakdown')"
   ]
  },
  {
   "cell_type": "code",
   "execution_count": 24,
   "metadata": {},
   "outputs": [
    {
     "data": {
      "text/plain": [
       "<drawingTools.DrawMachine at 0x11a29b110>"
      ]
     },
     "execution_count": 24,
     "metadata": {},
     "output_type": "execute_result"
    },
    {
     "data": {
      "text/html": [
       "\n",
       "<div id=\"root_plot_1\"\n",
       "     style=\"width: 796px; height: 572px\">\n",
       "</div>\n",
       "\n",
       "<script>\n",
       " requirejs.config({\n",
       "     paths: {\n",
       "       'JSRootCore' : 'https://root.cern.ch/js/notebook//scripts/JSRootCore',\n",
       "     }\n",
       "   });\n",
       " require(['JSRootCore'],\n",
       "     function(Core) {\n",
       "       var obj = Core.JSONR_unref({\"_typename\":\"TCanvas\",\"fUniqueID\":0,\"fBits\":53673992,\"fLineColor\":1,\"fLineStyle\":1,\"fLineWidth\":1,\"fFillColor\":0,\"fFillStyle\":1001,\"fLeftMargin\":0.13,\"fRightMargin\":0.3,\"fBottomMargin\":0.13,\"fTopMargin\":0.1,\"fXfile\":2,\"fYfile\":2,\"fAfile\":1,\"fXstat\":0.99,\"fYstat\":0.99,\"fAstat\":2,\"fFrameFillColor\":0,\"fFrameLineColor\":1,\"fFrameFillStyle\":1001,\"fFrameLineStyle\":1,\"fFrameLineWidth\":1,\"fFrameBorderSize\":1,\"fFrameBorderMode\":0,\"fX1\":0.764736853332731,\"fY1\":-0.185714283502611,\"fX2\":4.34368426666366,\"fY2\":1.24285714852456,\"fXtoAbsPixelk\":-170.086420951052,\"fXtoPixelk\":-170.086420951052,\"fXtoPixel\":222.411761914983,\"fYtoAbsPixelk\":497.640051065433,\"fYtoPixelk\":497.640051065433,\"fYtoPixel\":-400.399999031424,\"fUtoAbsPixelk\":5e-5,\"fUtoPixelk\":5e-5,\"fUtoPixel\":796,\"fVtoAbsPixelk\":572.00005,\"fVtoPixelk\":572,\"fVtoPixel\":-572,\"fAbsPixeltoXk\":0.764736853332731,\"fPixeltoXk\":0.764736853332731,\"fPixeltoX\":0.00449616509212428,\"fAbsPixeltoYk\":1.24285714852456,\"fPixeltoYk\":-0.185714283502611,\"fPixeltoY\":-0.00249750250354401,\"fXlowNDC\":0,\"fYlowNDC\":0,\"fXUpNDC\":0,\"fYUpNDC\":0,\"fWNDC\":1,\"fHNDC\":1,\"fAbsXlowNDC\":0,\"fAbsYlowNDC\":0,\"fAbsWNDC\":1,\"fAbsHNDC\":1,\"fUxmin\":1.23,\"fUymin\":0,\"fUxmax\":3.27,\"fUymax\":1.1,\"fTheta\":30,\"fPhi\":30,\"fAspectRatio\":0,\"fNumber\":0,\"fTickx\":0,\"fTicky\":0,\"fLogx\":0,\"fLogy\":0,\"fLogz\":0,\"fPadPaint\":0,\"fCrosshair\":0,\"fCrosshairPos\":0,\"fBorderSize\":2,\"fBorderMode\":0,\"fModified\":false,\"fGridx\":false,\"fGridy\":false,\"fAbsCoord\":false,\"fEditable\":true,\"fFixedAspectRatio\":false,\"fPrimitives\":{\"_typename\":\"TList\",\"name\":\"TList\",\"arr\":[{\"_typename\":\"TFrame\",\"fUniqueID\":0,\"fBits\":50331656,\"fLineColor\":1,\"fLineStyle\":1,\"fLineWidth\":1,\"fFillColor\":0,\"fFillStyle\":1001,\"fX1\":1.23,\"fY1\":0,\"fX2\":3.27,\"fY2\":1.1,\"fBorderSize\":1,\"fBorderMode\":0},{\"_typename\":\"TGraphAsymmErrors\",\"fUniqueID\":0,\"fBits\":50332680,\"fName\":\"2f846e\",\"fTitle\":\"; |#eta^{GEN}|;\",\"fLineColor\":1,\"fLineStyle\":1,\"fLineWidth\":1,\"fFillColor\":0,\"fFillStyle\":1001,\"fMarkerColor\":1,\"fMarkerStyle\":8,\"fMarkerSize\":0.5,\"fNpoints\":17,\"fX\":[1.45,1.55,1.65,1.75,1.85,1.95,2.05,2.15,2.25,2.35,2.45,2.55,2.65,2.75,2.85,2.95,3.05],\"fY\":[0.0012666244458518,0.695126419934042,0.86583522297808,0.864394488759971,0.87956487956488,0.864432597105864,0.878280715100799,0.857254290171607,0.852789869410368,0.815758526068209,0.290361445783133,0.00164338537387017,0,0,0,0,0],\"fFunctions\":{\"_typename\":\"TList\",\"name\":\"TList\",\"arr\":[],\"opt\":[]},\"fHistogram\":{\"_typename\":\"TH1F\",\"fUniqueID\":0,\"fBits\":50332160,\"fName\":\"2f846e\",\"fTitle\":\"\",\"fLineColor\":602,\"fLineStyle\":1,\"fLineWidth\":1,\"fFillColor\":0,\"fFillStyle\":1001,\"fMarkerColor\":1,\"fMarkerStyle\":1,\"fMarkerSize\":1,\"fNcells\":102,\"fXaxis\":{\"_typename\":\"TAxis\",\"fUniqueID\":0,\"fBits\":50331656,\"fName\":\"xaxis\",\"fTitle\":\" |#eta^{GEN}|\",\"fNdivisions\":510,\"fAxisColor\":1,\"fLabelColor\":1,\"fLabelFont\":42,\"fLabelOffset\":0.005,\"fLabelSize\":0.035,\"fTickLength\":0.03,\"fTitleOffset\":1.4,\"fTitleSize\":0.035,\"fTitleColor\":1,\"fTitleFont\":42,\"fNbins\":100,\"fXmin\":1.23,\"fXmax\":3.27,\"fXbins\":[],\"fFirst\":0,\"fLast\":0,\"fBits2\":0,\"fTimeDisplay\":false,\"fTimeFormat\":\"\",\"fLabels\":null,\"fModLabs\":null},\"fYaxis\":{\"_typename\":\"TAxis\",\"fUniqueID\":0,\"fBits\":50331656,\"fName\":\"yaxis\",\"fTitle\":\"\",\"fNdivisions\":510,\"fAxisColor\":1,\"fLabelColor\":1,\"fLabelFont\":42,\"fLabelOffset\":0.005,\"fLabelSize\":0.035,\"fTickLength\":0.03,\"fTitleOffset\":0,\"fTitleSize\":0.035,\"fTitleColor\":1,\"fTitleFont\":42,\"fNbins\":1,\"fXmin\":0,\"fXmax\":0.974624401832365,\"fXbins\":[],\"fFirst\":0,\"fLast\":0,\"fBits2\":0,\"fTimeDisplay\":false,\"fTimeFormat\":\"\",\"fLabels\":null,\"fModLabs\":null},\"fZaxis\":{\"_typename\":\"TAxis\",\"fUniqueID\":0,\"fBits\":50331648,\"fName\":\"zaxis\",\"fTitle\":\"\",\"fNdivisions\":510,\"fAxisColor\":1,\"fLabelColor\":1,\"fLabelFont\":42,\"fLabelOffset\":0.005,\"fLabelSize\":0.035,\"fTickLength\":0.03,\"fTitleOffset\":1,\"fTitleSize\":0.035,\"fTitleColor\":1,\"fTitleFont\":42,\"fNbins\":1,\"fXmin\":0,\"fXmax\":1,\"fXbins\":[],\"fFirst\":0,\"fLast\":0,\"fBits2\":0,\"fTimeDisplay\":false,\"fTimeFormat\":\"\",\"fLabels\":null,\"fModLabs\":null},\"fBarOffset\":0,\"fBarWidth\":1000,\"fEntries\":0,\"fTsumw\":0,\"fTsumw2\":0,\"fTsumwx\":0,\"fTsumwx2\":0,\"fMaximum\":1.1,\"fMinimum\":0,\"fNormFactor\":0,\"fContour\":[],\"fSumw2\":[],\"fOption\":\"\",\"fFunctions\":{\"_typename\":\"TList\",\"name\":\"TList\",\"arr\":[],\"opt\":[]},\"fBufferSize\":0,\"fBuffer\":[],\"fBinStatErrOpt\":0,\"fStatOverflows\":2,\"fArray\":[0,0,0,0,0,0,0,0,0,0,0,0,0,0,0,0,0,0,0,0,0,0,0,0,0,0,0,0,0,0,0,0,0,0,0,0,0,0,0,0,0,0,0,0,0,0,0,0,0,0,0,0,0,0,0,0,0,0,0,0,0,0,0,0,0,0,0,0,0,0,0,0,0,0,0,0,0,0,0,0,0,0,0,0,0,0,0,0,0,0,0,0,0,0,0,0,0,0,0,0,0,0]},\"fMinimum\":-1111,\"fMaximum\":-1111,\"fEXlow\":[0.05,0.05,0.05,0.05,0.05,0.05,0.0499999999999998,0.0499999999999998,0.0499999999999998,0.0499999999999998,0.0499999999999998,0.0499999999999998,0.0499999999999998,0.0499999999999998,0.0499999999999998,0.0499999999999998,0.0499999999999998],\"fEXhigh\":[0.05,0.05,0.05,0.05,0.05,0.05,0.0500000000000002,0.0500000000000002,0.0500000000000002,0.0500000000000002,0.0500000000000002,0.0500000000000002,0.0500000000000002,0.0500000000000002,0.0500000000000002,0.0500000000000002,0.0500000000000002],\"fEYlow\":[8.18080482788381e-4,0.00906701522645048,0.00695662891638016,0.00683595174058516,0.00676109121291346,0.00701301997391068,0.006714903945366,0.00724615369679793,0.00738915152336495,0.00799771715142605,0.00920991993277176,7.86338202947952e-4,0,0,0,0,0],\"fEYhigh\":[0.00166813608953263,0.00892107213831816,0.00667228354077665,0.00656441317504253,0.0064573039190885,0.0067276127472814,0.00641860799334382,0.00695968116562085,0.00710216138091047,0.00774389691316768,0.00938197967661619,0.00129749384450676,7.36137575693496e-4,7.58270935378779e-4,7.91183686926042e-4,7.76500748997812e-4,8.33071384004181e-4]},{\"_typename\":\"TLatex\",\"fUniqueID\":0,\"fBits\":50348040,\"fName\":\"\",\"fTitle\":\"PU200, TkEle Ell. match, hwQual 5, p_{T}^{L1}>=10GeV, p_{T}^{GEN}>=15GeV\",\"fTextAngle\":0,\"fTextSize\":0.03,\"fTextAlign\":11,\"fTextColor\":1,\"fTextFont\":62,\"fX\":0.15,\"fY\":0.85,\"fLineColor\":1,\"fLineStyle\":1,\"fLineWidth\":2,\"fLimitFactorSize\":3,\"fOriginSize\":0.04},{\"_typename\":\"TLatex\",\"fUniqueID\":0,\"fBits\":50331656,\"fName\":\"\",\"fTitle\":\"\",\"fTextAngle\":0,\"fTextSize\":0.03,\"fTextAlign\":11,\"fTextColor\":1,\"fTextFont\":62,\"fX\":0,\"fY\":0,\"fLineColor\":1,\"fLineStyle\":1,\"fLineWidth\":2,\"fLimitFactorSize\":3,\"fOriginSize\":0.04},{\"_typename\":\"TLine\",\"fUniqueID\":0,\"fBits\":50331656,\"fLineColor\":1,\"fLineStyle\":2,\"fLineWidth\":1,\"fX1\":-2.8,\"fY1\":0,\"fX2\":-2.8,\"fY2\":1.1},{\"_typename\":\"TLine\",\"fUniqueID\":0,\"fBits\":50331656,\"fLineColor\":1,\"fLineStyle\":2,\"fLineWidth\":1,\"fX1\":-2.4,\"fY1\":0,\"fX2\":-2.4,\"fY2\":1.1},{\"_typename\":\"TLine\",\"fUniqueID\":0,\"fBits\":50331656,\"fLineColor\":1,\"fLineStyle\":2,\"fLineWidth\":1,\"fX1\":-1.7,\"fY1\":0,\"fX2\":-1.7,\"fY2\":1.1},{\"_typename\":\"TLine\",\"fUniqueID\":0,\"fBits\":50331656,\"fLineColor\":1,\"fLineStyle\":2,\"fLineWidth\":1,\"fX1\":-1.52,\"fY1\":0,\"fX2\":-1.52,\"fY2\":1.1},{\"_typename\":\"TLine\",\"fUniqueID\":0,\"fBits\":50331656,\"fLineColor\":1,\"fLineStyle\":2,\"fLineWidth\":1,\"fX1\":1.52,\"fY1\":0,\"fX2\":1.52,\"fY2\":1.1},{\"_typename\":\"TLine\",\"fUniqueID\":0,\"fBits\":50331656,\"fLineColor\":1,\"fLineStyle\":2,\"fLineWidth\":1,\"fX1\":1.7,\"fY1\":0,\"fX2\":1.7,\"fY2\":1.1},{\"_typename\":\"TLine\",\"fUniqueID\":0,\"fBits\":50331656,\"fLineColor\":1,\"fLineStyle\":2,\"fLineWidth\":1,\"fX1\":2.4,\"fY1\":0,\"fX2\":2.4,\"fY2\":1.1},{\"_typename\":\"TLine\",\"fUniqueID\":0,\"fBits\":50331656,\"fLineColor\":1,\"fLineStyle\":2,\"fLineWidth\":1,\"fX1\":2.8,\"fY1\":0,\"fX2\":2.8,\"fY2\":1.1}],\"opt\":[\"\",\"pa\",\"same\",\"same\",\"same\",\"same\",\"same\",\"same\",\"same\",\"same\",\"same\",\"same\"]},\"fExecs\":null,\"fName\":\"c_4ef0bb\",\"fTitle\":\"c_4ef0bb\",\"fNumPaletteColor\":0,\"fNextPaletteColor\":0,\"fDISPLAY\":\"$DISPLAY\",\"fDoubleBuffer\":0,\"fRetained\":true,\"fXsizeUser\":0,\"fYsizeUser\":0,\"fXsizeReal\":20,\"fYsizeReal\":15,\"fWindowTopX\":0,\"fWindowTopY\":0,\"fWindowWidth\":0,\"fWindowHeight\":0,\"fCw\":796,\"fCh\":572,\"fCatt\":{\"_typename\":\"TAttCanvas\",\"fXBetween\":2,\"fYBetween\":2,\"fTitleFromTop\":1.2,\"fXdate\":0.2,\"fYdate\":0.3,\"fAdate\":1},\"kMoveOpaque\":true,\"kResizeOpaque\":true,\"fHighLightColor\":2,\"fBatch\":true,\"kShowEventStatus\":false,\"kAutoExec\":true,\"kMenuBar\":true});\n",
       "       Core.draw(\"root_plot_1\", obj, \"\");\n",
       "     }\n",
       " );\n",
       "</script>\n"
      ],
      "text/plain": [
       "<IPython.core.display.HTML object>"
      ]
     },
     "metadata": {},
     "output_type": "display_data"
    }
   ],
   "source": [
    "hsets, labels, text = hplot.get_histo(histos.HistoSetEff, ['ele-V9'], ['PU200'], ['TkEleEL'], 'EGq5Pt10', 'GENPt15', debug=False)\n",
    "draw([his.h_eff.h_abseta.CreateGraph() for his in hsets], labels, text=text, min_y=0, max_y=1.1, v_lines=[-2.8, -2.4, -1.7, -1.52, 1.52, 1.7, 2.4, 2.8])\n"
   ]
  },
  {
   "cell_type": "code",
   "execution_count": 25,
   "metadata": {
    "scrolled": false
   },
   "outputs": [],
   "source": [
    "# for tp in tps:\n",
    "#     for tp_sel in tp_select[tp]:\n",
    "#         for gen_sel in ['GEN']:\n",
    "#             hsets, labels, text = hplot.get_histo(histos.HistoSetEff, ['hybrid', 'ele-V9'], ['PU200'], tp, tp_sel, gen_sel, debug=False)\n",
    "#             # drawSeveral([his.hreso.h_ptResVpt for his in hsets], labels,  'COLZ', do_profile=True, text=text)\n",
    "#             draw([his.h_eff.h_eta.CreateGraph() for his in hsets], labels, text=text, min_y=0, max_y=1.1, v_lines=[-2.8, -2.4, -1.7, -1.52, 1.52, 1.7, 2.4, 2.8])\n",
    "# #             print [his.h_num.h_eta.GetName() for his in hsets]"
   ]
  },
  {
   "cell_type": "code",
   "execution_count": 26,
   "metadata": {},
   "outputs": [
    {
     "data": {
      "text/plain": [
       "<drawingTools.DrawMachine at 0x11a3a6790>"
      ]
     },
     "execution_count": 26,
     "metadata": {},
     "output_type": "execute_result"
    },
    {
     "data": {
      "text/html": [
       "\n",
       "<div id=\"root_plot_2\"\n",
       "     style=\"width: 796px; height: 572px\">\n",
       "</div>\n",
       "\n",
       "<script>\n",
       " requirejs.config({\n",
       "     paths: {\n",
       "       'JSRootCore' : 'https://root.cern.ch/js/notebook//scripts/JSRootCore',\n",
       "     }\n",
       "   });\n",
       " require(['JSRootCore'],\n",
       "     function(Core) {\n",
       "       var obj = Core.JSONR_unref({\"_typename\":\"TCanvas\",\"fUniqueID\":0,\"fBits\":53673992,\"fLineColor\":1,\"fLineStyle\":1,\"fLineWidth\":1,\"fFillColor\":0,\"fFillStyle\":1001,\"fLeftMargin\":0.13,\"fRightMargin\":0.3,\"fBottomMargin\":0.13,\"fTopMargin\":0.1,\"fXfile\":2,\"fYfile\":2,\"fAfile\":1,\"fXstat\":0.99,\"fYstat\":0.99,\"fAstat\":2,\"fFrameFillColor\":0,\"fFrameLineColor\":1,\"fFrameFillStyle\":1001,\"fFrameLineStyle\":1,\"fFrameLineWidth\":1,\"fFrameBorderSize\":1,\"fFrameBorderMode\":0,\"fX1\":0.764736853332731,\"fY1\":-0.185714283502611,\"fX2\":4.34368426666366,\"fY2\":1.24285714852456,\"fXtoAbsPixelk\":-170.086420951052,\"fXtoPixelk\":-170.086420951052,\"fXtoPixel\":222.411761914983,\"fYtoAbsPixelk\":497.640051065433,\"fYtoPixelk\":497.640051065433,\"fYtoPixel\":-400.399999031424,\"fUtoAbsPixelk\":5e-5,\"fUtoPixelk\":5e-5,\"fUtoPixel\":796,\"fVtoAbsPixelk\":572.00005,\"fVtoPixelk\":572,\"fVtoPixel\":-572,\"fAbsPixeltoXk\":0.764736853332731,\"fPixeltoXk\":0.764736853332731,\"fPixeltoX\":0.00449616509212428,\"fAbsPixeltoYk\":1.24285714852456,\"fPixeltoYk\":-0.185714283502611,\"fPixeltoY\":-0.00249750250354401,\"fXlowNDC\":0,\"fYlowNDC\":0,\"fXUpNDC\":0,\"fYUpNDC\":0,\"fWNDC\":1,\"fHNDC\":1,\"fAbsXlowNDC\":0,\"fAbsYlowNDC\":0,\"fAbsWNDC\":1,\"fAbsHNDC\":1,\"fUxmin\":1.23,\"fUymin\":0,\"fUxmax\":3.27,\"fUymax\":1.1,\"fTheta\":30,\"fPhi\":30,\"fAspectRatio\":0,\"fNumber\":0,\"fTickx\":0,\"fTicky\":0,\"fLogx\":0,\"fLogy\":0,\"fLogz\":0,\"fPadPaint\":0,\"fCrosshair\":0,\"fCrosshairPos\":0,\"fBorderSize\":2,\"fBorderMode\":0,\"fModified\":false,\"fGridx\":false,\"fGridy\":false,\"fAbsCoord\":false,\"fEditable\":true,\"fFixedAspectRatio\":false,\"fPrimitives\":{\"_typename\":\"TList\",\"name\":\"TList\",\"arr\":[{\"_typename\":\"TFrame\",\"fUniqueID\":0,\"fBits\":50331656,\"fLineColor\":1,\"fLineStyle\":1,\"fLineWidth\":1,\"fFillColor\":0,\"fFillStyle\":1001,\"fX1\":1.23,\"fY1\":0,\"fX2\":3.27,\"fY2\":1.1,\"fBorderSize\":1,\"fBorderMode\":0},{\"_typename\":\"TGraphAsymmErrors\",\"fUniqueID\":0,\"fBits\":50332680,\"fName\":\"3e20cd\",\"fTitle\":\"; |#eta^{GEN}|;\",\"fLineColor\":1,\"fLineStyle\":1,\"fLineWidth\":1,\"fFillColor\":0,\"fFillStyle\":1001,\"fMarkerColor\":1,\"fMarkerStyle\":8,\"fMarkerSize\":0.5,\"fNpoints\":17,\"fX\":[1.45,1.55,1.65,1.75,1.85,1.95,2.05,2.15,2.25,2.35,2.45,2.55,2.65,2.75,2.85,2.95,3.05],\"fY\":[0.0012666244458518,0.695126419934042,0.86583522297808,0.864394488759971,0.87956487956488,0.864432597105864,0.878280715100799,0.857254290171607,0.852789869410368,0.815758526068209,0.290361445783133,0.00164338537387017,0,0,0,0,0],\"fFunctions\":{\"_typename\":\"TList\",\"name\":\"TList\",\"arr\":[],\"opt\":[]},\"fHistogram\":{\"_typename\":\"TH1F\",\"fUniqueID\":0,\"fBits\":50332160,\"fName\":\"3e20cd\",\"fTitle\":\"\",\"fLineColor\":602,\"fLineStyle\":1,\"fLineWidth\":1,\"fFillColor\":0,\"fFillStyle\":1001,\"fMarkerColor\":1,\"fMarkerStyle\":1,\"fMarkerSize\":1,\"fNcells\":102,\"fXaxis\":{\"_typename\":\"TAxis\",\"fUniqueID\":0,\"fBits\":50331656,\"fName\":\"xaxis\",\"fTitle\":\" |#eta^{GEN}|\",\"fNdivisions\":510,\"fAxisColor\":1,\"fLabelColor\":1,\"fLabelFont\":42,\"fLabelOffset\":0.005,\"fLabelSize\":0.035,\"fTickLength\":0.03,\"fTitleOffset\":1.4,\"fTitleSize\":0.035,\"fTitleColor\":1,\"fTitleFont\":42,\"fNbins\":100,\"fXmin\":1.23,\"fXmax\":3.27,\"fXbins\":[],\"fFirst\":0,\"fLast\":0,\"fBits2\":0,\"fTimeDisplay\":false,\"fTimeFormat\":\"\",\"fLabels\":null,\"fModLabs\":null},\"fYaxis\":{\"_typename\":\"TAxis\",\"fUniqueID\":0,\"fBits\":50331656,\"fName\":\"yaxis\",\"fTitle\":\"\",\"fNdivisions\":510,\"fAxisColor\":1,\"fLabelColor\":1,\"fLabelFont\":42,\"fLabelOffset\":0.005,\"fLabelSize\":0.035,\"fTickLength\":0.03,\"fTitleOffset\":0,\"fTitleSize\":0.035,\"fTitleColor\":1,\"fTitleFont\":42,\"fNbins\":1,\"fXmin\":0,\"fXmax\":0.974624401832365,\"fXbins\":[],\"fFirst\":0,\"fLast\":0,\"fBits2\":0,\"fTimeDisplay\":false,\"fTimeFormat\":\"\",\"fLabels\":null,\"fModLabs\":null},\"fZaxis\":{\"_typename\":\"TAxis\",\"fUniqueID\":0,\"fBits\":50331648,\"fName\":\"zaxis\",\"fTitle\":\"\",\"fNdivisions\":510,\"fAxisColor\":1,\"fLabelColor\":1,\"fLabelFont\":42,\"fLabelOffset\":0.005,\"fLabelSize\":0.035,\"fTickLength\":0.03,\"fTitleOffset\":1,\"fTitleSize\":0.035,\"fTitleColor\":1,\"fTitleFont\":42,\"fNbins\":1,\"fXmin\":0,\"fXmax\":1,\"fXbins\":[],\"fFirst\":0,\"fLast\":0,\"fBits2\":0,\"fTimeDisplay\":false,\"fTimeFormat\":\"\",\"fLabels\":null,\"fModLabs\":null},\"fBarOffset\":0,\"fBarWidth\":1000,\"fEntries\":0,\"fTsumw\":0,\"fTsumw2\":0,\"fTsumwx\":0,\"fTsumwx2\":0,\"fMaximum\":1.1,\"fMinimum\":0,\"fNormFactor\":0,\"fContour\":[],\"fSumw2\":[],\"fOption\":\"\",\"fFunctions\":{\"_typename\":\"TList\",\"name\":\"TList\",\"arr\":[],\"opt\":[]},\"fBufferSize\":0,\"fBuffer\":[],\"fBinStatErrOpt\":0,\"fStatOverflows\":2,\"fArray\":[0,0,0,0,0,0,0,0,0,0,0,0,0,0,0,0,0,0,0,0,0,0,0,0,0,0,0,0,0,0,0,0,0,0,0,0,0,0,0,0,0,0,0,0,0,0,0,0,0,0,0,0,0,0,0,0,0,0,0,0,0,0,0,0,0,0,0,0,0,0,0,0,0,0,0,0,0,0,0,0,0,0,0,0,0,0,0,0,0,0,0,0,0,0,0,0,0,0,0,0,0,0]},\"fMinimum\":-1111,\"fMaximum\":-1111,\"fEXlow\":[0.05,0.05,0.05,0.05,0.05,0.05,0.0499999999999998,0.0499999999999998,0.0499999999999998,0.0499999999999998,0.0499999999999998,0.0499999999999998,0.0499999999999998,0.0499999999999998,0.0499999999999998,0.0499999999999998,0.0499999999999998],\"fEXhigh\":[0.05,0.05,0.05,0.05,0.05,0.05,0.0500000000000002,0.0500000000000002,0.0500000000000002,0.0500000000000002,0.0500000000000002,0.0500000000000002,0.0500000000000002,0.0500000000000002,0.0500000000000002,0.0500000000000002,0.0500000000000002],\"fEYlow\":[8.18080482788381e-4,0.00906701522645048,0.00695662891638016,0.00683595174058516,0.00676109121291346,0.00701301997391068,0.006714903945366,0.00724615369679793,0.00738915152336495,0.00799771715142605,0.00920991993277176,7.86338202947952e-4,0,0,0,0,0],\"fEYhigh\":[0.00166813608953263,0.00892107213831816,0.00667228354077665,0.00656441317504253,0.0064573039190885,0.0067276127472814,0.00641860799334382,0.00695968116562085,0.00710216138091047,0.00774389691316768,0.00938197967661619,0.00129749384450676,7.36137575693496e-4,7.58270935378779e-4,7.91183686926042e-4,7.76500748997812e-4,8.33071384004181e-4]},{\"_typename\":\"TLatex\",\"fUniqueID\":0,\"fBits\":50348040,\"fName\":\"\",\"fTitle\":\"PU200, TkEle Ell. match, hwQual 5, p_{T}^{L1}>=10GeV, p_{T}^{GEN}>=15GeV\",\"fTextAngle\":0,\"fTextSize\":0.03,\"fTextAlign\":11,\"fTextColor\":1,\"fTextFont\":62,\"fX\":0.15,\"fY\":0.85,\"fLineColor\":1,\"fLineStyle\":1,\"fLineWidth\":2,\"fLimitFactorSize\":3,\"fOriginSize\":0.04},{\"_typename\":\"TLatex\",\"fUniqueID\":0,\"fBits\":50331656,\"fName\":\"\",\"fTitle\":\"\",\"fTextAngle\":0,\"fTextSize\":0.03,\"fTextAlign\":11,\"fTextColor\":1,\"fTextFont\":62,\"fX\":0,\"fY\":0,\"fLineColor\":1,\"fLineStyle\":1,\"fLineWidth\":2,\"fLimitFactorSize\":3,\"fOriginSize\":0.04},{\"_typename\":\"TLine\",\"fUniqueID\":0,\"fBits\":50331656,\"fLineColor\":1,\"fLineStyle\":2,\"fLineWidth\":1,\"fX1\":-2.8,\"fY1\":0,\"fX2\":-2.8,\"fY2\":1.1},{\"_typename\":\"TLine\",\"fUniqueID\":0,\"fBits\":50331656,\"fLineColor\":1,\"fLineStyle\":2,\"fLineWidth\":1,\"fX1\":-2.4,\"fY1\":0,\"fX2\":-2.4,\"fY2\":1.1},{\"_typename\":\"TLine\",\"fUniqueID\":0,\"fBits\":50331656,\"fLineColor\":1,\"fLineStyle\":2,\"fLineWidth\":1,\"fX1\":-1.7,\"fY1\":0,\"fX2\":-1.7,\"fY2\":1.1},{\"_typename\":\"TLine\",\"fUniqueID\":0,\"fBits\":50331656,\"fLineColor\":1,\"fLineStyle\":2,\"fLineWidth\":1,\"fX1\":-1.52,\"fY1\":0,\"fX2\":-1.52,\"fY2\":1.1},{\"_typename\":\"TLine\",\"fUniqueID\":0,\"fBits\":50331656,\"fLineColor\":1,\"fLineStyle\":2,\"fLineWidth\":1,\"fX1\":1.52,\"fY1\":0,\"fX2\":1.52,\"fY2\":1.1},{\"_typename\":\"TLine\",\"fUniqueID\":0,\"fBits\":50331656,\"fLineColor\":1,\"fLineStyle\":2,\"fLineWidth\":1,\"fX1\":1.7,\"fY1\":0,\"fX2\":1.7,\"fY2\":1.1},{\"_typename\":\"TLine\",\"fUniqueID\":0,\"fBits\":50331656,\"fLineColor\":1,\"fLineStyle\":2,\"fLineWidth\":1,\"fX1\":2.4,\"fY1\":0,\"fX2\":2.4,\"fY2\":1.1},{\"_typename\":\"TLine\",\"fUniqueID\":0,\"fBits\":50331656,\"fLineColor\":1,\"fLineStyle\":2,\"fLineWidth\":1,\"fX1\":2.8,\"fY1\":0,\"fX2\":2.8,\"fY2\":1.1}],\"opt\":[\"\",\"pa\",\"same\",\"same\",\"same\",\"same\",\"same\",\"same\",\"same\",\"same\",\"same\",\"same\"]},\"fExecs\":null,\"fName\":\"c_319153\",\"fTitle\":\"c_319153\",\"fNumPaletteColor\":0,\"fNextPaletteColor\":0,\"fDISPLAY\":\"$DISPLAY\",\"fDoubleBuffer\":0,\"fRetained\":true,\"fXsizeUser\":0,\"fYsizeUser\":0,\"fXsizeReal\":20,\"fYsizeReal\":15,\"fWindowTopX\":0,\"fWindowTopY\":0,\"fWindowWidth\":0,\"fWindowHeight\":0,\"fCw\":796,\"fCh\":572,\"fCatt\":{\"_typename\":\"TAttCanvas\",\"fXBetween\":2,\"fYBetween\":2,\"fTitleFromTop\":1.2,\"fXdate\":0.2,\"fYdate\":0.3,\"fAdate\":1},\"kMoveOpaque\":true,\"kResizeOpaque\":true,\"fHighLightColor\":2,\"fBatch\":true,\"kShowEventStatus\":false,\"kAutoExec\":true,\"kMenuBar\":true});\n",
       "       Core.draw(\"root_plot_2\", obj, \"\");\n",
       "     }\n",
       " );\n",
       "</script>\n"
      ],
      "text/plain": [
       "<IPython.core.display.HTML object>"
      ]
     },
     "metadata": {},
     "output_type": "display_data"
    }
   ],
   "source": [
    "hsets, labels, text = hplot.get_histo(histos.HistoSetEff, ['hybrid', 'ele-V9'], ['PU200'], 'TkEleEL', 'EGq5Pt10', 'GENPt15', debug=False)\n",
    "draw([his.h_eff.h_abseta.CreateGraph() for his in hsets], labels, text=text, min_y=0, max_y=1.1, v_lines=[-2.8, -2.4, -1.7, -1.52, 1.52, 1.7, 2.4, 2.8])\n"
   ]
  },
  {
   "cell_type": "code",
   "execution_count": 27,
   "metadata": {},
   "outputs": [
    {
     "data": {
      "text/plain": [
       "<drawingTools.DrawMachine at 0x11a5ccbd0>"
      ]
     },
     "execution_count": 27,
     "metadata": {},
     "output_type": "execute_result"
    },
    {
     "data": {
      "text/html": [
       "\n",
       "<div id=\"root_plot_3\"\n",
       "     style=\"width: 796px; height: 572px\">\n",
       "</div>\n",
       "\n",
       "<script>\n",
       " requirejs.config({\n",
       "     paths: {\n",
       "       'JSRootCore' : 'https://root.cern.ch/js/notebook//scripts/JSRootCore',\n",
       "     }\n",
       "   });\n",
       " require(['JSRootCore'],\n",
       "     function(Core) {\n",
       "       var obj = Core.JSONR_unref({\"_typename\":\"TCanvas\",\"fUniqueID\":0,\"fBits\":53673992,\"fLineColor\":1,\"fLineStyle\":1,\"fLineWidth\":1,\"fFillColor\":0,\"fFillStyle\":1001,\"fLeftMargin\":0.13,\"fRightMargin\":0.3,\"fBottomMargin\":0.13,\"fTopMargin\":0.1,\"fXfile\":2,\"fYfile\":2,\"fAfile\":1,\"fXstat\":0.99,\"fYstat\":0.99,\"fAstat\":2,\"fFrameFillColor\":0,\"fFrameLineColor\":1,\"fFrameFillStyle\":1001,\"fFrameLineStyle\":1,\"fFrameLineWidth\":1,\"fFrameBorderSize\":1,\"fFrameBorderMode\":0,\"fX1\":-0.777719279478131,\"fY1\":-0.185714283502611,\"fX2\":5.20473693594268,\"fY2\":1.24285714852456,\"fXtoAbsPixelk\":103.480046204376,\"fXtoPixelk\":103.480046204376,\"fXtoPixel\":133.055716805444,\"fYtoAbsPixelk\":497.640051065433,\"fYtoPixelk\":497.640051065433,\"fYtoPixel\":-400.399999031424,\"fUtoAbsPixelk\":5e-5,\"fUtoPixelk\":5e-5,\"fUtoPixel\":796,\"fVtoAbsPixelk\":572.00005,\"fVtoPixelk\":572,\"fVtoPixel\":-572,\"fAbsPixeltoXk\":-0.777719279478131,\"fPixeltoXk\":-0.777719279478131,\"fPixeltoX\":0.00751564851183519,\"fAbsPixeltoYk\":1.24285714852456,\"fPixeltoYk\":-0.185714283502611,\"fPixeltoY\":-0.00249750250354401,\"fXlowNDC\":0,\"fYlowNDC\":0,\"fXUpNDC\":0,\"fYUpNDC\":0,\"fWNDC\":1,\"fHNDC\":1,\"fAbsXlowNDC\":0,\"fAbsYlowNDC\":0,\"fAbsWNDC\":1,\"fAbsHNDC\":1,\"fUxmin\":0,\"fUymin\":0,\"fUxmax\":3.41,\"fUymax\":1.1,\"fTheta\":30,\"fPhi\":30,\"fAspectRatio\":0,\"fNumber\":0,\"fTickx\":0,\"fTicky\":0,\"fLogx\":0,\"fLogy\":0,\"fLogz\":0,\"fPadPaint\":0,\"fCrosshair\":0,\"fCrosshairPos\":0,\"fBorderSize\":2,\"fBorderMode\":0,\"fModified\":false,\"fGridx\":false,\"fGridy\":false,\"fAbsCoord\":false,\"fEditable\":true,\"fFixedAspectRatio\":false,\"fPrimitives\":{\"_typename\":\"TList\",\"name\":\"TList\",\"arr\":[{\"_typename\":\"TFrame\",\"fUniqueID\":0,\"fBits\":50331656,\"fLineColor\":1,\"fLineStyle\":1,\"fLineWidth\":1,\"fFillColor\":0,\"fFillStyle\":1001,\"fX1\":0,\"fY1\":0,\"fX2\":3.41,\"fY2\":1.1,\"fBorderSize\":1,\"fBorderMode\":0},{\"_typename\":\"TGraphAsymmErrors\",\"fUniqueID\":0,\"fBits\":50332680,\"fName\":\"867092\",\"fTitle\":\"; |#eta^{GEN}|;\",\"fLineColor\":1,\"fLineStyle\":1,\"fLineWidth\":1,\"fFillColor\":0,\"fFillStyle\":1001,\"fMarkerColor\":1,\"fMarkerStyle\":8,\"fMarkerSize\":0.5,\"fNpoints\":31,\"fX\":[0.05,0.15,0.25,0.35,0.45,0.55,0.65,0.75,0.85,0.95,1.05,1.15,1.25,1.35,1.45,1.55,1.65,1.75,1.85,1.95,2.05,2.15,2.25,2.35,2.45,2.55,2.65,2.75,2.85,2.95,3.05],\"fY\":[0.819424460431655,0.907297096053611,0.896127397756062,0.906216313330938,0.880961048416454,0.888888888888889,0.887982984757178,0.909562638991846,0.885724331926864,0.881153305203938,0.885824022346369,0.871749824314828,0.872063606794362,0.862535612535613,0.731733145075891,0.702007749207467,0.866039102099928,0.863414634146341,0.877251010657846,0.862801584443644,0.87708703374778,0.854630294328787,0.855124954726548,0.808839381961912,0.28929219600726,0.0018201674554059,0,0,0,0,0],\"fFunctions\":{\"_typename\":\"TList\",\"name\":\"TList\",\"arr\":[],\"opt\":[]},\"fHistogram\":{\"_typename\":\"TH1F\",\"fUniqueID\":0,\"fBits\":50332160,\"fName\":\"867092\",\"fTitle\":\"\",\"fLineColor\":602,\"fLineStyle\":1,\"fLineWidth\":1,\"fFillColor\":0,\"fFillStyle\":1001,\"fMarkerColor\":1,\"fMarkerStyle\":1,\"fMarkerSize\":1,\"fNcells\":102,\"fXaxis\":{\"_typename\":\"TAxis\",\"fUniqueID\":0,\"fBits\":50331656,\"fName\":\"xaxis\",\"fTitle\":\" |#eta^{GEN}|\",\"fNdivisions\":510,\"fAxisColor\":1,\"fLabelColor\":1,\"fLabelFont\":42,\"fLabelOffset\":0.005,\"fLabelSize\":0.035,\"fTickLength\":0.03,\"fTitleOffset\":1.4,\"fTitleSize\":0.035,\"fTitleColor\":1,\"fTitleFont\":42,\"fNbins\":100,\"fXmin\":0,\"fXmax\":3.41,\"fXbins\":[],\"fFirst\":0,\"fLast\":0,\"fBits2\":0,\"fTimeDisplay\":false,\"fTimeFormat\":\"\",\"fLabels\":null,\"fModLabs\":null},\"fYaxis\":{\"_typename\":\"TAxis\",\"fUniqueID\":0,\"fBits\":50331656,\"fName\":\"yaxis\",\"fTitle\":\"\",\"fNdivisions\":510,\"fAxisColor\":1,\"fLabelColor\":1,\"fLabelFont\":42,\"fLabelOffset\":0.005,\"fLabelSize\":0.035,\"fTickLength\":0.03,\"fTitleOffset\":0,\"fTitleSize\":0.035,\"fTitleColor\":1,\"fTitleFont\":42,\"fNbins\":1,\"fXmin\":0,\"fXmax\":1.00662435026749,\"fXbins\":[],\"fFirst\":0,\"fLast\":0,\"fBits2\":0,\"fTimeDisplay\":false,\"fTimeFormat\":\"\",\"fLabels\":null,\"fModLabs\":null},\"fZaxis\":{\"_typename\":\"TAxis\",\"fUniqueID\":0,\"fBits\":50331648,\"fName\":\"zaxis\",\"fTitle\":\"\",\"fNdivisions\":510,\"fAxisColor\":1,\"fLabelColor\":1,\"fLabelFont\":42,\"fLabelOffset\":0.005,\"fLabelSize\":0.035,\"fTickLength\":0.03,\"fTitleOffset\":1,\"fTitleSize\":0.035,\"fTitleColor\":1,\"fTitleFont\":42,\"fNbins\":1,\"fXmin\":0,\"fXmax\":1,\"fXbins\":[],\"fFirst\":0,\"fLast\":0,\"fBits2\":0,\"fTimeDisplay\":false,\"fTimeFormat\":\"\",\"fLabels\":null,\"fModLabs\":null},\"fBarOffset\":0,\"fBarWidth\":1000,\"fEntries\":0,\"fTsumw\":0,\"fTsumw2\":0,\"fTsumwx\":0,\"fTsumwx2\":0,\"fMaximum\":1.1,\"fMinimum\":0,\"fNormFactor\":0,\"fContour\":[],\"fSumw2\":[],\"fOption\":\"\",\"fFunctions\":{\"_typename\":\"TList\",\"name\":\"TList\",\"arr\":[],\"opt\":[]},\"fBufferSize\":0,\"fBuffer\":[],\"fBinStatErrOpt\":0,\"fStatOverflows\":2,\"fArray\":[0,0,0,0,0,0,0,0,0,0,0,0,0,0,0,0,0,0,0,0,0,0,0,0,0,0,0,0,0,0,0,0,0,0,0,0,0,0,0,0,0,0,0,0,0,0,0,0,0,0,0,0,0,0,0,0,0,0,0,0,0,0,0,0,0,0,0,0,0,0,0,0,0,0,0,0,0,0,0,0,0,0,0,0,0,0,0,0,0,0,0,0,0,0,0,0,0,0,0,0,0,0]},\"fMinimum\":-1111,\"fMaximum\":-1111,\"fEXlow\":[0.05,0.05,0.05,0.05,0.05,0.05,0.05,0.05,0.05,0.05,0.05,0.05,0.05,0.05,0.05,0.05,0.05,0.05,0.05,0.05,0.0499999999999998,0.0499999999999998,0.0499999999999998,0.0499999999999998,0.0499999999999998,0.0499999999999998,0.0499999999999998,0.0499999999999998,0.0499999999999998,0.0499999999999998,0.0499999999999998],\"fEXhigh\":[0.05,0.05,0.05,0.05,0.05,0.05,0.05,0.05,0.05,0.05,0.05,0.05,0.05,0.05,0.05,0.05,0.05,0.05,0.05,0.05,0.0500000000000002,0.0500000000000002,0.0500000000000002,0.0500000000000002,0.0500000000000002,0.0500000000000002,0.0500000000000002,0.0500000000000002,0.0500000000000002,0.0500000000000002,0.0500000000000002],\"fEYlow\":[0.0075923988483293,0.00593893702735371,0.00613306891314336,0.00585672153035965,0.00650325045528022,0.00635939039157118,0.006256833547574,0.00586414025097381,0.00628102091281324,0.00638166587977185,0.00625571875949049,0.0065773744460772,0.00666859412463583,0.00680839530297539,0.00858282825744328,0.00883136007261043,0.00679795040612285,0.00671410118166893,0.00661702492198446,0.00684283157291532,0.00650363364592066,0.0069875304967838,0.00701122152490519,0.00774616450690824,0.00874080154808876,7.85981497795612e-4,0,0,0,0,0],\"fEYhigh\":[0.0073569809207652,0.00562563576441821,0.00583744944399378,0.00555536076819674,0.00621777155172509,0.00606455857877175,0.00597361009725594,0.00555040670587359,0.0060018258343365,0.00610591304176478,0.00597842608278365,0.00630886040092937,0.00639206741816767,0.00654315633216129,0.00841579928936886,0.00868616199089489,0.00652554847313791,0.00645401851029181,0.0063316947146469,0.00657438983363723,0.00622808547073694,0.00672616136456117,0.00674707731936353,0.00751891524753223,0.00889694497025384,0.00122945470507898,6.54022581556172e-4,6.4758109614599e-4,6.80367943775406e-4,6.51476774673644e-4,6.87738602985778e-4]},{\"_typename\":\"TLatex\",\"fUniqueID\":0,\"fBits\":50348040,\"fName\":\"\",\"fTitle\":\"PU200, TkEle Ell. match all, p_{T}^{L1}>=10GeV, LooseTkID, p_{T}^{GEN}>=15GeV\",\"fTextAngle\":0,\"fTextSize\":0.03,\"fTextAlign\":11,\"fTextColor\":1,\"fTextFont\":62,\"fX\":0.15,\"fY\":0.85,\"fLineColor\":1,\"fLineStyle\":1,\"fLineWidth\":2,\"fLimitFactorSize\":3,\"fOriginSize\":0.04},{\"_typename\":\"TLatex\",\"fUniqueID\":0,\"fBits\":50331656,\"fName\":\"\",\"fTitle\":\"\",\"fTextAngle\":0,\"fTextSize\":0.03,\"fTextAlign\":11,\"fTextColor\":1,\"fTextFont\":62,\"fX\":0,\"fY\":0,\"fLineColor\":1,\"fLineStyle\":1,\"fLineWidth\":2,\"fLimitFactorSize\":3,\"fOriginSize\":0.04},{\"_typename\":\"TLine\",\"fUniqueID\":0,\"fBits\":50331656,\"fLineColor\":1,\"fLineStyle\":2,\"fLineWidth\":1,\"fX1\":-2.8,\"fY1\":0,\"fX2\":-2.8,\"fY2\":1.1},{\"_typename\":\"TLine\",\"fUniqueID\":0,\"fBits\":50331656,\"fLineColor\":1,\"fLineStyle\":2,\"fLineWidth\":1,\"fX1\":-2.4,\"fY1\":0,\"fX2\":-2.4,\"fY2\":1.1},{\"_typename\":\"TLine\",\"fUniqueID\":0,\"fBits\":50331656,\"fLineColor\":1,\"fLineStyle\":2,\"fLineWidth\":1,\"fX1\":-1.7,\"fY1\":0,\"fX2\":-1.7,\"fY2\":1.1},{\"_typename\":\"TLine\",\"fUniqueID\":0,\"fBits\":50331656,\"fLineColor\":1,\"fLineStyle\":2,\"fLineWidth\":1,\"fX1\":-1.52,\"fY1\":0,\"fX2\":-1.52,\"fY2\":1.1},{\"_typename\":\"TLine\",\"fUniqueID\":0,\"fBits\":50331656,\"fLineColor\":1,\"fLineStyle\":2,\"fLineWidth\":1,\"fX1\":1.52,\"fY1\":0,\"fX2\":1.52,\"fY2\":1.1},{\"_typename\":\"TLine\",\"fUniqueID\":0,\"fBits\":50331656,\"fLineColor\":1,\"fLineStyle\":2,\"fLineWidth\":1,\"fX1\":1.7,\"fY1\":0,\"fX2\":1.7,\"fY2\":1.1},{\"_typename\":\"TLine\",\"fUniqueID\":0,\"fBits\":50331656,\"fLineColor\":1,\"fLineStyle\":2,\"fLineWidth\":1,\"fX1\":2.4,\"fY1\":0,\"fX2\":2.4,\"fY2\":1.1},{\"_typename\":\"TLine\",\"fUniqueID\":0,\"fBits\":50331656,\"fLineColor\":1,\"fLineStyle\":2,\"fLineWidth\":1,\"fX1\":2.8,\"fY1\":0,\"fX2\":2.8,\"fY2\":1.1}],\"opt\":[\"\",\"pa\",\"same\",\"same\",\"same\",\"same\",\"same\",\"same\",\"same\",\"same\",\"same\",\"same\"]},\"fExecs\":null,\"fName\":\"c_a917b2\",\"fTitle\":\"c_a917b2\",\"fNumPaletteColor\":0,\"fNextPaletteColor\":0,\"fDISPLAY\":\"$DISPLAY\",\"fDoubleBuffer\":0,\"fRetained\":true,\"fXsizeUser\":0,\"fYsizeUser\":0,\"fXsizeReal\":20,\"fYsizeReal\":15,\"fWindowTopX\":0,\"fWindowTopY\":0,\"fWindowWidth\":0,\"fWindowHeight\":0,\"fCw\":796,\"fCh\":572,\"fCatt\":{\"_typename\":\"TAttCanvas\",\"fXBetween\":2,\"fYBetween\":2,\"fTitleFromTop\":1.2,\"fXdate\":0.2,\"fYdate\":0.3,\"fAdate\":1},\"kMoveOpaque\":true,\"kResizeOpaque\":true,\"fHighLightColor\":2,\"fBatch\":true,\"kShowEventStatus\":false,\"kAutoExec\":true,\"kMenuBar\":true});\n",
       "       Core.draw(\"root_plot_3\", obj, \"\");\n",
       "     }\n",
       " );\n",
       "</script>\n"
      ],
      "text/plain": [
       "<IPython.core.display.HTML object>"
      ]
     },
     "metadata": {},
     "output_type": "display_data"
    }
   ],
   "source": [
    "hsets, labels, text = hplot.get_histo(histos.HistoSetEff, ['hybrid', 'ele-V9'], ['PU200'], 'TkEleELALL', 'Pt10LooseTkID', 'GENPt15', debug=False)\n",
    "\n",
    "draw([his.h_eff.h_abseta.CreateGraph() for his in hsets], labels, text=text, min_y=0, max_y=1.1, v_lines=[-2.8, -2.4, -1.7, -1.52, 1.52, 1.7, 2.4, 2.8])"
   ]
  },
  {
   "cell_type": "code",
   "execution_count": 28,
   "metadata": {},
   "outputs": [
    {
     "data": {
      "text/plain": [
       "<drawingTools.DrawMachine at 0x11a3a6810>"
      ]
     },
     "execution_count": 28,
     "metadata": {},
     "output_type": "execute_result"
    },
    {
     "data": {
      "text/html": [
       "\n",
       "<div id=\"root_plot_4\"\n",
       "     style=\"width: 796px; height: 572px\">\n",
       "</div>\n",
       "\n",
       "<script>\n",
       " requirejs.config({\n",
       "     paths: {\n",
       "       'JSRootCore' : 'https://root.cern.ch/js/notebook//scripts/JSRootCore',\n",
       "     }\n",
       "   });\n",
       " require(['JSRootCore'],\n",
       "     function(Core) {\n",
       "       var obj = Core.JSONR_unref({\"_typename\":\"TCanvas\",\"fUniqueID\":0,\"fBits\":53673992,\"fLineColor\":1,\"fLineStyle\":1,\"fLineWidth\":1,\"fFillColor\":0,\"fFillStyle\":1001,\"fLeftMargin\":0.13,\"fRightMargin\":0.3,\"fBottomMargin\":0.13,\"fTopMargin\":0.1,\"fXfile\":2,\"fYfile\":2,\"fAfile\":1,\"fXstat\":0.99,\"fYstat\":0.99,\"fAstat\":2,\"fFrameFillColor\":0,\"fFrameLineColor\":1,\"fFrameFillStyle\":1001,\"fFrameLineStyle\":1,\"fFrameLineWidth\":1,\"fFrameBorderSize\":1,\"fFrameBorderMode\":0,\"fX1\":0.764736853332731,\"fY1\":-0.185714283502611,\"fX2\":4.34368426666366,\"fY2\":1.24285714852456,\"fXtoAbsPixelk\":-170.086420951052,\"fXtoPixelk\":-170.086420951052,\"fXtoPixel\":222.411761914983,\"fYtoAbsPixelk\":497.640051065433,\"fYtoPixelk\":497.640051065433,\"fYtoPixel\":-400.399999031424,\"fUtoAbsPixelk\":5e-5,\"fUtoPixelk\":5e-5,\"fUtoPixel\":796,\"fVtoAbsPixelk\":572.00005,\"fVtoPixelk\":572,\"fVtoPixel\":-572,\"fAbsPixeltoXk\":0.764736853332731,\"fPixeltoXk\":0.764736853332731,\"fPixeltoX\":0.00449616509212428,\"fAbsPixeltoYk\":1.24285714852456,\"fPixeltoYk\":-0.185714283502611,\"fPixeltoY\":-0.00249750250354401,\"fXlowNDC\":0,\"fYlowNDC\":0,\"fXUpNDC\":0,\"fYUpNDC\":0,\"fWNDC\":1,\"fHNDC\":1,\"fAbsXlowNDC\":0,\"fAbsYlowNDC\":0,\"fAbsWNDC\":1,\"fAbsHNDC\":1,\"fUxmin\":1.23,\"fUymin\":0,\"fUxmax\":3.27,\"fUymax\":1.1,\"fTheta\":30,\"fPhi\":30,\"fAspectRatio\":0,\"fNumber\":0,\"fTickx\":0,\"fTicky\":0,\"fLogx\":0,\"fLogy\":0,\"fLogz\":0,\"fPadPaint\":0,\"fCrosshair\":0,\"fCrosshairPos\":0,\"fBorderSize\":2,\"fBorderMode\":0,\"fModified\":false,\"fGridx\":false,\"fGridy\":false,\"fAbsCoord\":false,\"fEditable\":true,\"fFixedAspectRatio\":false,\"fPrimitives\":{\"_typename\":\"TList\",\"name\":\"TList\",\"arr\":[{\"_typename\":\"TFrame\",\"fUniqueID\":0,\"fBits\":50331656,\"fLineColor\":1,\"fLineStyle\":1,\"fLineWidth\":1,\"fFillColor\":0,\"fFillStyle\":1001,\"fX1\":1.23,\"fY1\":0,\"fX2\":3.27,\"fY2\":1.1,\"fBorderSize\":1,\"fBorderMode\":0},{\"_typename\":\"TGraphAsymmErrors\",\"fUniqueID\":0,\"fBits\":50332680,\"fName\":\"335aaf\",\"fTitle\":\"; |#eta^{GEN}|;\",\"fLineColor\":1,\"fLineStyle\":1,\"fLineWidth\":1,\"fFillColor\":0,\"fFillStyle\":1001,\"fMarkerColor\":1,\"fMarkerStyle\":8,\"fMarkerSize\":0.5,\"fNpoints\":17,\"fX\":[1.45,1.55,1.65,1.75,1.85,1.95,2.05,2.15,2.25,2.35,2.45,2.55,2.65,2.75,2.85,2.95,3.05],\"fY\":[0.00160901045856798,0.718571428571429,0.905022376926902,0.905151661049591,0.911257606490872,0.904785643070788,0.925432098765432,0.913133402275078,0.911282051282051,0.871545547594678,0.323340471092077,0.00215749730312837,0,0,0,0,0],\"fFunctions\":{\"_typename\":\"TList\",\"name\":\"TList\",\"arr\":[],\"opt\":[]},\"fHistogram\":{\"_typename\":\"TH1F\",\"fUniqueID\":0,\"fBits\":50332160,\"fName\":\"335aaf\",\"fTitle\":\"\",\"fLineColor\":602,\"fLineStyle\":1,\"fLineWidth\":1,\"fFillColor\":0,\"fFillStyle\":1001,\"fMarkerColor\":1,\"fMarkerStyle\":1,\"fMarkerSize\":1,\"fNcells\":102,\"fXaxis\":{\"_typename\":\"TAxis\",\"fUniqueID\":0,\"fBits\":50331656,\"fName\":\"xaxis\",\"fTitle\":\" |#eta^{GEN}|\",\"fNdivisions\":510,\"fAxisColor\":1,\"fLabelColor\":1,\"fLabelFont\":42,\"fLabelOffset\":0.005,\"fLabelSize\":0.035,\"fTickLength\":0.03,\"fTitleOffset\":1.4,\"fTitleSize\":0.035,\"fTitleColor\":1,\"fTitleFont\":42,\"fNbins\":100,\"fXmin\":1.23,\"fXmax\":3.27,\"fXbins\":[],\"fFirst\":0,\"fLast\":0,\"fBits2\":0,\"fTimeDisplay\":false,\"fTimeFormat\":\"\",\"fLabels\":null,\"fModLabs\":null},\"fYaxis\":{\"_typename\":\"TAxis\",\"fUniqueID\":0,\"fBits\":50331656,\"fName\":\"yaxis\",\"fTitle\":\"\",\"fNdivisions\":510,\"fAxisColor\":1,\"fLabelColor\":1,\"fLabelFont\":42,\"fLabelOffset\":0.005,\"fLabelSize\":0.035,\"fTickLength\":0.03,\"fTitleOffset\":0,\"fTitleSize\":0.035,\"fTitleColor\":1,\"fTitleFont\":42,\"fNbins\":1,\"fXmin\":0,\"fXmax\":1.02442852437531,\"fXbins\":[],\"fFirst\":0,\"fLast\":0,\"fBits2\":0,\"fTimeDisplay\":false,\"fTimeFormat\":\"\",\"fLabels\":null,\"fModLabs\":null},\"fZaxis\":{\"_typename\":\"TAxis\",\"fUniqueID\":0,\"fBits\":50331648,\"fName\":\"zaxis\",\"fTitle\":\"\",\"fNdivisions\":510,\"fAxisColor\":1,\"fLabelColor\":1,\"fLabelFont\":42,\"fLabelOffset\":0.005,\"fLabelSize\":0.035,\"fTickLength\":0.03,\"fTitleOffset\":1,\"fTitleSize\":0.035,\"fTitleColor\":1,\"fTitleFont\":42,\"fNbins\":1,\"fXmin\":0,\"fXmax\":1,\"fXbins\":[],\"fFirst\":0,\"fLast\":0,\"fBits2\":0,\"fTimeDisplay\":false,\"fTimeFormat\":\"\",\"fLabels\":null,\"fModLabs\":null},\"fBarOffset\":0,\"fBarWidth\":1000,\"fEntries\":0,\"fTsumw\":0,\"fTsumw2\":0,\"fTsumwx\":0,\"fTsumwx2\":0,\"fMaximum\":1.1,\"fMinimum\":0,\"fNormFactor\":0,\"fContour\":[],\"fSumw2\":[],\"fOption\":\"\",\"fFunctions\":{\"_typename\":\"TList\",\"name\":\"TList\",\"arr\":[],\"opt\":[]},\"fBufferSize\":0,\"fBuffer\":[],\"fBinStatErrOpt\":0,\"fStatOverflows\":2,\"fArray\":[0,0,0,0,0,0,0,0,0,0,0,0,0,0,0,0,0,0,0,0,0,0,0,0,0,0,0,0,0,0,0,0,0,0,0,0,0,0,0,0,0,0,0,0,0,0,0,0,0,0,0,0,0,0,0,0,0,0,0,0,0,0,0,0,0,0,0,0,0,0,0,0,0,0,0,0,0,0,0,0,0,0,0,0,0,0,0,0,0,0,0,0,0,0,0,0,0,0,0,0,0,0]},\"fMinimum\":-1111,\"fMaximum\":-1111,\"fEXlow\":[0.05,0.05,0.05,0.05,0.05,0.05,0.0499999999999998,0.0499999999999998,0.0499999999999998,0.0499999999999998,0.0499999999999998,0.0499999999999998,0.0499999999999998,0.0499999999999998,0.0499999999999998,0.0499999999999998,0.0499999999999998],\"fEXhigh\":[0.05,0.05,0.05,0.05,0.05,0.05,0.0500000000000002,0.0500000000000002,0.0500000000000002,0.0500000000000002,0.0500000000000002,0.0500000000000002,0.0500000000000002,0.0500000000000002,0.0500000000000002,0.0500000000000002,0.0500000000000002],\"fEYlow\":[0.00103920464173245,0.0101557607643973,0.0069957921259306,0.00687255816325383,0.00687452709150982,0.00701224408432966,0.00630440170153213,0.00688549424066465,0.00691512348084844,0.00802125128216091,0.0109904987387112,0.00103226777113868,0,0,0,0,0],\"fEYhigh\":[0.00211821436563831,0.00994260794852775,0.00657777783995483,0.00646792283150344,0.00644103190904632,0.00659343115746291,0.00586655975757377,0.00644113647912026,0.0064766168986673,0.00762821597144692,0.0111842567347145,0.00170261302343249,9.65948732559927e-4,9.94114748747057e-4,0.0010425279432988,0.00101943661111054,0.00110312111707805]},{\"_typename\":\"TLatex\",\"fUniqueID\":0,\"fBits\":50348040,\"fName\":\"\",\"fTitle\":\"PU200, TkEle Ell. match, hwQual 5, p_{T}^{L1}>=25GeV, p_{T}^{GEN}>=35GeV\",\"fTextAngle\":0,\"fTextSize\":0.03,\"fTextAlign\":11,\"fTextColor\":1,\"fTextFont\":62,\"fX\":0.15,\"fY\":0.85,\"fLineColor\":1,\"fLineStyle\":1,\"fLineWidth\":2,\"fLimitFactorSize\":3,\"fOriginSize\":0.04},{\"_typename\":\"TLatex\",\"fUniqueID\":0,\"fBits\":50331656,\"fName\":\"\",\"fTitle\":\"\",\"fTextAngle\":0,\"fTextSize\":0.03,\"fTextAlign\":11,\"fTextColor\":1,\"fTextFont\":62,\"fX\":0,\"fY\":0,\"fLineColor\":1,\"fLineStyle\":1,\"fLineWidth\":2,\"fLimitFactorSize\":3,\"fOriginSize\":0.04},{\"_typename\":\"TLine\",\"fUniqueID\":0,\"fBits\":50331656,\"fLineColor\":1,\"fLineStyle\":2,\"fLineWidth\":1,\"fX1\":-2.8,\"fY1\":0,\"fX2\":-2.8,\"fY2\":1.1},{\"_typename\":\"TLine\",\"fUniqueID\":0,\"fBits\":50331656,\"fLineColor\":1,\"fLineStyle\":2,\"fLineWidth\":1,\"fX1\":-2.4,\"fY1\":0,\"fX2\":-2.4,\"fY2\":1.1},{\"_typename\":\"TLine\",\"fUniqueID\":0,\"fBits\":50331656,\"fLineColor\":1,\"fLineStyle\":2,\"fLineWidth\":1,\"fX1\":-1.7,\"fY1\":0,\"fX2\":-1.7,\"fY2\":1.1},{\"_typename\":\"TLine\",\"fUniqueID\":0,\"fBits\":50331656,\"fLineColor\":1,\"fLineStyle\":2,\"fLineWidth\":1,\"fX1\":-1.52,\"fY1\":0,\"fX2\":-1.52,\"fY2\":1.1},{\"_typename\":\"TLine\",\"fUniqueID\":0,\"fBits\":50331656,\"fLineColor\":1,\"fLineStyle\":2,\"fLineWidth\":1,\"fX1\":1.52,\"fY1\":0,\"fX2\":1.52,\"fY2\":1.1},{\"_typename\":\"TLine\",\"fUniqueID\":0,\"fBits\":50331656,\"fLineColor\":1,\"fLineStyle\":2,\"fLineWidth\":1,\"fX1\":1.7,\"fY1\":0,\"fX2\":1.7,\"fY2\":1.1},{\"_typename\":\"TLine\",\"fUniqueID\":0,\"fBits\":50331656,\"fLineColor\":1,\"fLineStyle\":2,\"fLineWidth\":1,\"fX1\":2.4,\"fY1\":0,\"fX2\":2.4,\"fY2\":1.1},{\"_typename\":\"TLine\",\"fUniqueID\":0,\"fBits\":50331656,\"fLineColor\":1,\"fLineStyle\":2,\"fLineWidth\":1,\"fX1\":2.8,\"fY1\":0,\"fX2\":2.8,\"fY2\":1.1}],\"opt\":[\"\",\"pa\",\"same\",\"same\",\"same\",\"same\",\"same\",\"same\",\"same\",\"same\",\"same\",\"same\"]},\"fExecs\":null,\"fName\":\"c_1d8693\",\"fTitle\":\"c_1d8693\",\"fNumPaletteColor\":0,\"fNextPaletteColor\":0,\"fDISPLAY\":\"$DISPLAY\",\"fDoubleBuffer\":0,\"fRetained\":true,\"fXsizeUser\":0,\"fYsizeUser\":0,\"fXsizeReal\":20,\"fYsizeReal\":15,\"fWindowTopX\":0,\"fWindowTopY\":0,\"fWindowWidth\":0,\"fWindowHeight\":0,\"fCw\":796,\"fCh\":572,\"fCatt\":{\"_typename\":\"TAttCanvas\",\"fXBetween\":2,\"fYBetween\":2,\"fTitleFromTop\":1.2,\"fXdate\":0.2,\"fYdate\":0.3,\"fAdate\":1},\"kMoveOpaque\":true,\"kResizeOpaque\":true,\"fHighLightColor\":2,\"fBatch\":true,\"kShowEventStatus\":false,\"kAutoExec\":true,\"kMenuBar\":true});\n",
       "       Core.draw(\"root_plot_4\", obj, \"\");\n",
       "     }\n",
       " );\n",
       "</script>\n"
      ],
      "text/plain": [
       "<IPython.core.display.HTML object>"
      ]
     },
     "metadata": {},
     "output_type": "display_data"
    }
   ],
   "source": [
    "hsets, labels, text = hplot.get_histo(histos.HistoSetEff, ['hybrid', 'ele-V9'], ['PU200'], 'TkEleEL', 'EGq5Pt25', 'GENPt35', debug=False)\n",
    "draw([his.h_eff.h_abseta.CreateGraph() for his in hsets], labels, text=text, min_y=0, max_y=1.1, v_lines=[-2.8, -2.4, -1.7, -1.52, 1.52, 1.7, 2.4, 2.8])\n"
   ]
  },
  {
   "cell_type": "code",
   "execution_count": 29,
   "metadata": {},
   "outputs": [
    {
     "data": {
      "text/plain": [
       "<drawingTools.DrawMachine at 0x11a5cc8d0>"
      ]
     },
     "execution_count": 29,
     "metadata": {},
     "output_type": "execute_result"
    },
    {
     "data": {
      "text/html": [
       "\n",
       "<div id=\"root_plot_5\"\n",
       "     style=\"width: 796px; height: 572px\">\n",
       "</div>\n",
       "\n",
       "<script>\n",
       " requirejs.config({\n",
       "     paths: {\n",
       "       'JSRootCore' : 'https://root.cern.ch/js/notebook//scripts/JSRootCore',\n",
       "     }\n",
       "   });\n",
       " require(['JSRootCore'],\n",
       "     function(Core) {\n",
       "       var obj = Core.JSONR_unref({\"_typename\":\"TCanvas\",\"fUniqueID\":0,\"fBits\":53673992,\"fLineColor\":1,\"fLineStyle\":1,\"fLineWidth\":1,\"fFillColor\":0,\"fFillStyle\":1001,\"fLeftMargin\":0.13,\"fRightMargin\":0.3,\"fBottomMargin\":0.13,\"fTopMargin\":0.1,\"fXfile\":2,\"fYfile\":2,\"fAfile\":1,\"fXstat\":0.99,\"fYstat\":0.99,\"fAstat\":2,\"fFrameFillColor\":0,\"fFrameLineColor\":1,\"fFrameFillStyle\":1001,\"fFrameLineStyle\":1,\"fFrameLineWidth\":1,\"fFrameBorderSize\":1,\"fFrameBorderMode\":0,\"fX1\":-0.777719279478131,\"fY1\":-0.185714283502611,\"fX2\":5.20473693594268,\"fY2\":1.24285714852456,\"fXtoAbsPixelk\":103.480046204376,\"fXtoPixelk\":103.480046204376,\"fXtoPixel\":133.055716805444,\"fYtoAbsPixelk\":497.640051065433,\"fYtoPixelk\":497.640051065433,\"fYtoPixel\":-400.399999031424,\"fUtoAbsPixelk\":5e-5,\"fUtoPixelk\":5e-5,\"fUtoPixel\":796,\"fVtoAbsPixelk\":572.00005,\"fVtoPixelk\":572,\"fVtoPixel\":-572,\"fAbsPixeltoXk\":-0.777719279478131,\"fPixeltoXk\":-0.777719279478131,\"fPixeltoX\":0.00751564851183519,\"fAbsPixeltoYk\":1.24285714852456,\"fPixeltoYk\":-0.185714283502611,\"fPixeltoY\":-0.00249750250354401,\"fXlowNDC\":0,\"fYlowNDC\":0,\"fXUpNDC\":0,\"fYUpNDC\":0,\"fWNDC\":1,\"fHNDC\":1,\"fAbsXlowNDC\":0,\"fAbsYlowNDC\":0,\"fAbsWNDC\":1,\"fAbsHNDC\":1,\"fUxmin\":0,\"fUymin\":0,\"fUxmax\":3.41,\"fUymax\":1.1,\"fTheta\":30,\"fPhi\":30,\"fAspectRatio\":0,\"fNumber\":0,\"fTickx\":0,\"fTicky\":0,\"fLogx\":0,\"fLogy\":0,\"fLogz\":0,\"fPadPaint\":0,\"fCrosshair\":0,\"fCrosshairPos\":0,\"fBorderSize\":2,\"fBorderMode\":0,\"fModified\":false,\"fGridx\":false,\"fGridy\":false,\"fAbsCoord\":false,\"fEditable\":true,\"fFixedAspectRatio\":false,\"fPrimitives\":{\"_typename\":\"TList\",\"name\":\"TList\",\"arr\":[{\"_typename\":\"TFrame\",\"fUniqueID\":0,\"fBits\":50331656,\"fLineColor\":1,\"fLineStyle\":1,\"fLineWidth\":1,\"fFillColor\":0,\"fFillStyle\":1001,\"fX1\":0,\"fY1\":0,\"fX2\":3.41,\"fY2\":1.1,\"fBorderSize\":1,\"fBorderMode\":0},{\"_typename\":\"TGraphAsymmErrors\",\"fUniqueID\":0,\"fBits\":50332680,\"fName\":\"86a798\",\"fTitle\":\"; |#eta^{GEN}|;\",\"fLineColor\":1,\"fLineStyle\":1,\"fLineWidth\":1,\"fFillColor\":0,\"fFillStyle\":1001,\"fMarkerColor\":1,\"fMarkerStyle\":8,\"fMarkerSize\":0.5,\"fNpoints\":31,\"fX\":[0.05,0.15,0.25,0.35,0.45,0.55,0.65,0.75,0.85,0.95,1.05,1.15,1.25,1.35,1.45,1.55,1.65,1.75,1.85,1.95,2.05,2.15,2.25,2.35,2.45,2.55,2.65,2.75,2.85,2.95,3.05],\"fY\":[0.834914611005693,0.929054054054054,0.917228103946102,0.93393536121673,0.89952380952381,0.908741594620557,0.917511520737327,0.925818882466281,0.907030527289547,0.899400092293493,0.910509407985314,0.898577329050023,0.901187648456057,0.889542779538253,0.745036101083033,0.722985347985348,0.904174573055028,0.905268022181146,0.91044061302682,0.902301550023485,0.925091911764706,0.910815939278937,0.911943793911007,0.866197183098592,0.320211233797408,0.00237416904083571,0,0,0,0,0],\"fFunctions\":{\"_typename\":\"TList\",\"name\":\"TList\",\"arr\":[],\"opt\":[]},\"fHistogram\":{\"_typename\":\"TH1F\",\"fUniqueID\":0,\"fBits\":50332160,\"fName\":\"86a798\",\"fTitle\":\"\",\"fLineColor\":602,\"fLineStyle\":1,\"fLineWidth\":1,\"fFillColor\":0,\"fFillStyle\":1001,\"fMarkerColor\":1,\"fMarkerStyle\":1,\"fMarkerSize\":1,\"fNcells\":102,\"fXaxis\":{\"_typename\":\"TAxis\",\"fUniqueID\":0,\"fBits\":50331656,\"fName\":\"xaxis\",\"fTitle\":\" |#eta^{GEN}|\",\"fNdivisions\":510,\"fAxisColor\":1,\"fLabelColor\":1,\"fLabelFont\":42,\"fLabelOffset\":0.005,\"fLabelSize\":0.035,\"fTickLength\":0.03,\"fTitleOffset\":1.4,\"fTitleSize\":0.035,\"fTitleColor\":1,\"fTitleFont\":42,\"fNbins\":100,\"fXmin\":0,\"fXmax\":3.41,\"fXbins\":[],\"fFirst\":0,\"fLast\":0,\"fBits2\":0,\"fTimeDisplay\":false,\"fTimeFormat\":\"\",\"fLabels\":null,\"fModLabs\":null},\"fYaxis\":{\"_typename\":\"TAxis\",\"fUniqueID\":0,\"fBits\":50331656,\"fName\":\"yaxis\",\"fTitle\":\"\",\"fNdivisions\":510,\"fAxisColor\":1,\"fLabelColor\":1,\"fLabelFont\":42,\"fLabelOffset\":0.005,\"fLabelSize\":0.035,\"fTickLength\":0.03,\"fTitleOffset\":0,\"fTitleSize\":0.035,\"fTitleColor\":1,\"fTitleFont\":42,\"fNbins\":1,\"fXmin\":0,\"fXmax\":1.03331166326779,\"fXbins\":[],\"fFirst\":0,\"fLast\":0,\"fBits2\":0,\"fTimeDisplay\":false,\"fTimeFormat\":\"\",\"fLabels\":null,\"fModLabs\":null},\"fZaxis\":{\"_typename\":\"TAxis\",\"fUniqueID\":0,\"fBits\":50331648,\"fName\":\"zaxis\",\"fTitle\":\"\",\"fNdivisions\":510,\"fAxisColor\":1,\"fLabelColor\":1,\"fLabelFont\":42,\"fLabelOffset\":0.005,\"fLabelSize\":0.035,\"fTickLength\":0.03,\"fTitleOffset\":1,\"fTitleSize\":0.035,\"fTitleColor\":1,\"fTitleFont\":42,\"fNbins\":1,\"fXmin\":0,\"fXmax\":1,\"fXbins\":[],\"fFirst\":0,\"fLast\":0,\"fBits2\":0,\"fTimeDisplay\":false,\"fTimeFormat\":\"\",\"fLabels\":null,\"fModLabs\":null},\"fBarOffset\":0,\"fBarWidth\":1000,\"fEntries\":0,\"fTsumw\":0,\"fTsumw2\":0,\"fTsumwx\":0,\"fTsumwx2\":0,\"fMaximum\":1.1,\"fMinimum\":0,\"fNormFactor\":0,\"fContour\":[],\"fSumw2\":[],\"fOption\":\"\",\"fFunctions\":{\"_typename\":\"TList\",\"name\":\"TList\",\"arr\":[],\"opt\":[]},\"fBufferSize\":0,\"fBuffer\":[],\"fBinStatErrOpt\":0,\"fStatOverflows\":2,\"fArray\":[0,0,0,0,0,0,0,0,0,0,0,0,0,0,0,0,0,0,0,0,0,0,0,0,0,0,0,0,0,0,0,0,0,0,0,0,0,0,0,0,0,0,0,0,0,0,0,0,0,0,0,0,0,0,0,0,0,0,0,0,0,0,0,0,0,0,0,0,0,0,0,0,0,0,0,0,0,0,0,0,0,0,0,0,0,0,0,0,0,0,0,0,0,0,0,0,0,0,0,0,0,0]},\"fMinimum\":-1111,\"fMaximum\":-1111,\"fEXlow\":[0.05,0.05,0.05,0.05,0.05,0.05,0.05,0.05,0.05,0.05,0.05,0.05,0.05,0.05,0.05,0.05,0.05,0.05,0.05,0.05,0.0499999999999998,0.0499999999999998,0.0499999999999998,0.0499999999999998,0.0499999999999998,0.0499999999999998,0.0499999999999998,0.0499999999999998,0.0499999999999998,0.0499999999999998,0.0499999999999998],\"fEXhigh\":[0.05,0.05,0.05,0.05,0.05,0.05,0.05,0.05,0.05,0.05,0.05,0.05,0.05,0.05,0.05,0.05,0.05,0.05,0.05,0.05,0.0500000000000002,0.0500000000000002,0.0500000000000002,0.0500000000000002,0.0500000000000002,0.0500000000000002,0.0500000000000002,0.0500000000000002,0.0500000000000002,0.0500000000000002,0.0500000000000002],\"fEYlow\":[0.00848581012787308,0.00609837413664149,0.00649444384405196,0.00586936459977494,0.00699572615429045,0.00675555526958682,0.006336607212025,0.0062071257934353,0.00667209155744564,0.00688341315783136,0.00654038127100753,0.00688615945214044,0.00693932554128729,0.00707790435418443,0.0095956731885799,0.00990763889287072,0.00684732152793033,0.00672062890903258,0.00669304000445248,0.00686563758947945,0.00607711075645645,0.00664751878362757,0.00656781870294298,0.00778809470417852,0.0103719806882061,0.00102512269335102,0,0,0,0,0],\"fEYhigh\":[0.00815882307254401,0.00566661500689114,0.00607699599747946,0.00543887811762567,0.00660151918495888,0.00634807521784564,0.00593688628711087,0.00577982225284668,0.00628171289002777,0.0065017251528755,0.00614955034218145,0.0065074379933191,0.00654433007413258,0.00671333804179364,0.00936919308453277,0.00969861555305873,0.0064497679377945,0.00633242270289602,0.00628493586702805,0.00647401766861166,0.00567058740421311,0.00624295868857339,0.00616728573636871,0.00743339916252461,0.0105486076043798,0.00160291616775426,8.51961710012851e-4,8.36098091945794e-4,8.9113860551609e-4,8.48819274492255e-4,9.00730488653173e-4]},{\"_typename\":\"TLatex\",\"fUniqueID\":0,\"fBits\":50348040,\"fName\":\"\",\"fTitle\":\"PU200, TkEle Ell. match all, p_{T}^{L1}>=25GeV, LooseTkID, p_{T}^{GEN}>=35GeV\",\"fTextAngle\":0,\"fTextSize\":0.03,\"fTextAlign\":11,\"fTextColor\":1,\"fTextFont\":62,\"fX\":0.15,\"fY\":0.85,\"fLineColor\":1,\"fLineStyle\":1,\"fLineWidth\":2,\"fLimitFactorSize\":3,\"fOriginSize\":0.04},{\"_typename\":\"TLatex\",\"fUniqueID\":0,\"fBits\":50331656,\"fName\":\"\",\"fTitle\":\"\",\"fTextAngle\":0,\"fTextSize\":0.03,\"fTextAlign\":11,\"fTextColor\":1,\"fTextFont\":62,\"fX\":0,\"fY\":0,\"fLineColor\":1,\"fLineStyle\":1,\"fLineWidth\":2,\"fLimitFactorSize\":3,\"fOriginSize\":0.04},{\"_typename\":\"TLine\",\"fUniqueID\":0,\"fBits\":50331656,\"fLineColor\":1,\"fLineStyle\":2,\"fLineWidth\":1,\"fX1\":1.52,\"fY1\":0,\"fX2\":1.52,\"fY2\":1.1},{\"_typename\":\"TLine\",\"fUniqueID\":0,\"fBits\":50331656,\"fLineColor\":1,\"fLineStyle\":2,\"fLineWidth\":1,\"fX1\":1.7,\"fY1\":0,\"fX2\":1.7,\"fY2\":1.1},{\"_typename\":\"TLine\",\"fUniqueID\":0,\"fBits\":50331656,\"fLineColor\":1,\"fLineStyle\":2,\"fLineWidth\":1,\"fX1\":2.4,\"fY1\":0,\"fX2\":2.4,\"fY2\":1.1},{\"_typename\":\"TLine\",\"fUniqueID\":0,\"fBits\":50331656,\"fLineColor\":1,\"fLineStyle\":2,\"fLineWidth\":1,\"fX1\":2.8,\"fY1\":0,\"fX2\":2.8,\"fY2\":1.1}],\"opt\":[\"\",\"pa\",\"same\",\"same\",\"same\",\"same\",\"same\",\"same\"]},\"fExecs\":null,\"fName\":\"c_b151bf\",\"fTitle\":\"c_b151bf\",\"fNumPaletteColor\":0,\"fNextPaletteColor\":0,\"fDISPLAY\":\"$DISPLAY\",\"fDoubleBuffer\":0,\"fRetained\":true,\"fXsizeUser\":0,\"fYsizeUser\":0,\"fXsizeReal\":20,\"fYsizeReal\":15,\"fWindowTopX\":0,\"fWindowTopY\":0,\"fWindowWidth\":0,\"fWindowHeight\":0,\"fCw\":796,\"fCh\":572,\"fCatt\":{\"_typename\":\"TAttCanvas\",\"fXBetween\":2,\"fYBetween\":2,\"fTitleFromTop\":1.2,\"fXdate\":0.2,\"fYdate\":0.3,\"fAdate\":1},\"kMoveOpaque\":true,\"kResizeOpaque\":true,\"fHighLightColor\":2,\"fBatch\":true,\"kShowEventStatus\":false,\"kAutoExec\":true,\"kMenuBar\":true});\n",
       "       Core.draw(\"root_plot_5\", obj, \"\");\n",
       "     }\n",
       " );\n",
       "</script>\n"
      ],
      "text/plain": [
       "<IPython.core.display.HTML object>"
      ]
     },
     "metadata": {},
     "output_type": "display_data"
    }
   ],
   "source": [
    "hsets, labels, text = hplot.get_histo(histos.HistoSetEff, ['hybrid', 'ele-V9'], ['PU200'], 'TkEleELALL', 'Pt25LooseTkID', 'GENPt35', debug=False)\n",
    "draw([his.h_eff.h_abseta.CreateGraph() for his in hsets], labels, text=text, min_y=0, max_y=1.1, v_lines=[1.52, 1.7, 2.4, 2.8])\n"
   ]
  },
  {
   "cell_type": "code",
   "execution_count": 30,
   "metadata": {},
   "outputs": [],
   "source": [
    "# sample='hybrid'"
   ]
  },
  {
   "cell_type": "code",
   "execution_count": 31,
   "metadata": {
    "scrolled": false
   },
   "outputs": [
    {
     "data": {
      "text/plain": [
       "<drawingTools.DrawMachine at 0x11a29b350>"
      ]
     },
     "execution_count": 31,
     "metadata": {},
     "output_type": "execute_result"
    },
    {
     "name": "stdout",
     "output_type": "stream",
     "text": [
      "ERROR in TPDF::Open: Cannot open file:figs/egammaBarrelEndcap_EG_GENPt30_hEffVAbsEta.pdf\n",
      "ERROR in TPDF::Open: Cannot open file:figs/egammaBarrelEndcap_EG_GENPt30_hEffVEta.pdf\n"
     ]
    },
    {
     "data": {
      "text/html": [
       "\n",
       "<div id=\"root_plot_6\"\n",
       "     style=\"width: 596px; height: 572px\">\n",
       "</div>\n",
       "\n",
       "<script>\n",
       " requirejs.config({\n",
       "     paths: {\n",
       "       'JSRootCore' : 'https://root.cern.ch/js/notebook//scripts/JSRootCore',\n",
       "     }\n",
       "   });\n",
       " require(['JSRootCore'],\n",
       "     function(Core) {\n",
       "       var obj = Core.JSONR_unref({\"_typename\":\"TCanvas\",\"fUniqueID\":0,\"fBits\":53673992,\"fLineColor\":1,\"fLineStyle\":1,\"fLineWidth\":1,\"fFillColor\":0,\"fFillStyle\":1001,\"fLeftMargin\":0.13,\"fRightMargin\":0.13,\"fBottomMargin\":0.13,\"fTopMargin\":0.1,\"fXfile\":2,\"fYfile\":2,\"fAfile\":1,\"fXstat\":0.99,\"fYstat\":0.99,\"fAstat\":2,\"fFrameFillColor\":0,\"fFrameLineColor\":1,\"fFrameFillStyle\":1001,\"fFrameLineStyle\":1,\"fFrameLineWidth\":1,\"fFrameBorderSize\":1,\"fFrameBorderMode\":0,\"fX1\":-0.614864834387691,\"fY1\":0.515584416589722,\"fX2\":4.11486483438769,\"fY2\":1.16493506751116,\"fXtoAbsPixelk\":77.4800471580505,\"fXtoPixelk\":77.4800471580505,\"fXtoPixel\":126.0114301954,\"fYtoAbsPixelk\":1026.16804978691,\"fYtoPixelk\":1026.16804978691,\"fYtoPixel\":-880.879997869134,\"fUtoAbsPixelk\":5e-5,\"fUtoPixelk\":5e-5,\"fUtoPixel\":596,\"fVtoAbsPixelk\":572.00005,\"fVtoPixelk\":572,\"fVtoPixel\":-572,\"fAbsPixeltoXk\":-0.614864834387691,\"fPixeltoXk\":-0.614864834387691,\"fPixeltoX\":0.00793578803485802,\"fAbsPixeltoYk\":1.16493506751116,\"fPixeltoYk\":0.515584416589722,\"fPixeltoY\":-0.00113522841070182,\"fXlowNDC\":0,\"fYlowNDC\":0,\"fXUpNDC\":0,\"fYUpNDC\":0,\"fWNDC\":1,\"fHNDC\":1,\"fAbsXlowNDC\":0,\"fAbsYlowNDC\":0,\"fAbsWNDC\":1,\"fAbsHNDC\":1,\"fUxmin\":0,\"fUymin\":0.6,\"fUxmax\":3.5,\"fUymax\":1.1,\"fTheta\":30,\"fPhi\":30,\"fAspectRatio\":0,\"fNumber\":0,\"fTickx\":0,\"fTicky\":0,\"fLogx\":0,\"fLogy\":0,\"fLogz\":0,\"fPadPaint\":0,\"fCrosshair\":0,\"fCrosshairPos\":0,\"fBorderSize\":2,\"fBorderMode\":0,\"fModified\":false,\"fGridx\":false,\"fGridy\":false,\"fAbsCoord\":false,\"fEditable\":true,\"fFixedAspectRatio\":false,\"fPrimitives\":{\"_typename\":\"TList\",\"name\":\"TList\",\"arr\":[{\"_typename\":\"TFrame\",\"fUniqueID\":0,\"fBits\":50331656,\"fLineColor\":1,\"fLineStyle\":1,\"fLineWidth\":1,\"fFillColor\":0,\"fFillStyle\":1001,\"fX1\":0,\"fY1\":0.6,\"fX2\":3.5,\"fY2\":1.1,\"fBorderSize\":1,\"fBorderMode\":0},{\"_typename\":\"TGraphAsymmErrors\",\"fUniqueID\":0,\"fBits\":50332680,\"fName\":\"ea162a\",\"fTitle\":\"; |#eta^{GEN}|;\",\"fLineColor\":1,\"fLineStyle\":1,\"fLineWidth\":1,\"fFillColor\":0,\"fFillStyle\":1001,\"fMarkerColor\":1,\"fMarkerStyle\":8,\"fMarkerSize\":0.5,\"fNpoints\":16,\"fX\":[0.1,0.3,0.5,0.7,0.9,1.1,1.3,1.5,1.7,1.9,2.1,2.3,2.5,2.7,2.9,3.1],\"fY\":[0.983253588516746,0.989239598278336,0.984696317551411,0.988224211022139,0.988911988911989,0.993345571363011,0.991423273064441,0.811590909090909,0.993445692883895,0.996205833530946,0.994164332399627,0.98757327080891,0.978037717832418,0.955744095390965,0.890148830616584,0.0186000978952521],\"fFunctions\":{\"_typename\":\"TList\",\"name\":\"TList\",\"arr\":[],\"opt\":[]},\"fHistogram\":{\"_typename\":\"TH1F\",\"fUniqueID\":0,\"fBits\":50332160,\"fName\":\"ea162a\",\"fTitle\":\"\",\"fLineColor\":602,\"fLineStyle\":1,\"fLineWidth\":1,\"fFillColor\":0,\"fFillStyle\":1001,\"fMarkerColor\":1,\"fMarkerStyle\":1,\"fMarkerSize\":1,\"fNcells\":102,\"fXaxis\":{\"_typename\":\"TAxis\",\"fUniqueID\":0,\"fBits\":50331656,\"fName\":\"xaxis\",\"fTitle\":\" |#eta^{GEN}|\",\"fNdivisions\":510,\"fAxisColor\":1,\"fLabelColor\":1,\"fLabelFont\":42,\"fLabelOffset\":0.005,\"fLabelSize\":0.035,\"fTickLength\":0.03,\"fTitleOffset\":1.4,\"fTitleSize\":0.035,\"fTitleColor\":1,\"fTitleFont\":42,\"fNbins\":100,\"fXmin\":0,\"fXmax\":3.5,\"fXbins\":[],\"fFirst\":0,\"fLast\":0,\"fBits2\":0,\"fTimeDisplay\":false,\"fTimeFormat\":\"\",\"fLabels\":null,\"fModLabs\":null},\"fYaxis\":{\"_typename\":\"TAxis\",\"fUniqueID\":0,\"fBits\":50331656,\"fName\":\"yaxis\",\"fTitle\":\"efficiency\",\"fNdivisions\":510,\"fAxisColor\":1,\"fLabelColor\":1,\"fLabelFont\":42,\"fLabelOffset\":0.005,\"fLabelSize\":0.035,\"fTickLength\":0.03,\"fTitleOffset\":0,\"fTitleSize\":0.035,\"fTitleColor\":1,\"fTitleFont\":42,\"fNbins\":1,\"fXmin\":0.0140542455986716,\"fXmax\":1.09529611918499,\"fXbins\":[],\"fFirst\":0,\"fLast\":0,\"fBits2\":0,\"fTimeDisplay\":false,\"fTimeFormat\":\"\",\"fLabels\":null,\"fModLabs\":null},\"fZaxis\":{\"_typename\":\"TAxis\",\"fUniqueID\":0,\"fBits\":50331648,\"fName\":\"zaxis\",\"fTitle\":\"\",\"fNdivisions\":510,\"fAxisColor\":1,\"fLabelColor\":1,\"fLabelFont\":42,\"fLabelOffset\":0.005,\"fLabelSize\":0.035,\"fTickLength\":0.03,\"fTitleOffset\":1,\"fTitleSize\":0.035,\"fTitleColor\":1,\"fTitleFont\":42,\"fNbins\":1,\"fXmin\":0,\"fXmax\":1,\"fXbins\":[],\"fFirst\":0,\"fLast\":0,\"fBits2\":0,\"fTimeDisplay\":false,\"fTimeFormat\":\"\",\"fLabels\":null,\"fModLabs\":null},\"fBarOffset\":0,\"fBarWidth\":1000,\"fEntries\":0,\"fTsumw\":0,\"fTsumw2\":0,\"fTsumwx\":0,\"fTsumwx2\":0,\"fMaximum\":1.1,\"fMinimum\":0.6,\"fNormFactor\":0,\"fContour\":[],\"fSumw2\":[],\"fOption\":\"\",\"fFunctions\":{\"_typename\":\"TList\",\"name\":\"TList\",\"arr\":[],\"opt\":[]},\"fBufferSize\":0,\"fBuffer\":[],\"fBinStatErrOpt\":0,\"fStatOverflows\":2,\"fArray\":[0,0,0,0,0,0,0,0,0,0,0,0,0,0,0,0,0,0,0,0,0,0,0,0,0,0,0,0,0,0,0,0,0,0,0,0,0,0,0,0,0,0,0,0,0,0,0,0,0,0,0,0,0,0,0,0,0,0,0,0,0,0,0,0,0,0,0,0,0,0,0,0,0,0,0,0,0,0,0,0,0,0,0,0,0,0,0,0,0,0,0,0,0,0,0,0,0,0,0,0,0,0]},\"fMinimum\":-1111,\"fMaximum\":-1111,\"fEXlow\":[0.1,0.1,0.1,0.1,0.1,0.1,0.1,0.1,0.1,0.1,0.1,0.1,0.1,0.1,0.1,0.1],\"fEXhigh\":[0.1,0.1,0.1,0.1,0.1,0.0999999999999999,0.0999999999999999,0.0999999999999999,0.0999999999999999,0.0999999999999999,0.0999999999999999,0.0999999999999999,0.0999999999999999,0.0999999999999999,0.0999999999999999,0.0999999999999999],\"fEYlow\":[0.00222890870067549,0.00184334746415837,0.00214311499007391,0.00189885751478747,0.00183059848766587,0.0014733304359531,0.00164603407343322,0.00608052270453019,0.00148147720351555,0.00120236037130439,0.00141096502574389,0.0019380830247262,0.00250554029378325,0.00333809854794265,0.00501881886181066,0.00298426945228368],\"fEYhigh\":[0.00198375809903395,0.001591835246322,0.00189671854739892,0.00165252852935127,0.0015883246700592,0.00122581314118186,0.00139938849494248,0.00593617928238721,0.00122854608949963,9.37531950221948e-4,0.00115710609496344,0.00169364141665862,0.002265287114392,0.00312141475331418,0.00482997571205179,0.0034940544849682]},{\"_typename\":\"TGraphAsymmErrors\",\"fUniqueID\":0,\"fBits\":50332680,\"fName\":\"c0b53f\",\"fTitle\":\"; |#eta^{GEN}|;\",\"fLineColor\":628,\"fLineStyle\":1,\"fLineWidth\":1,\"fFillColor\":0,\"fFillStyle\":1001,\"fMarkerColor\":628,\"fMarkerStyle\":21,\"fMarkerSize\":0.5,\"fNpoints\":16,\"fX\":[0.1,0.3,0.5,0.7,0.9,1.1,1.3,1.5,1.7,1.9,2.1,2.3,2.5,2.7,2.9,3.1],\"fY\":[0.881578947368421,0.925633668101387,0.904112864658058,0.921573245407442,0.903210903210903,0.904543368517669,0.89522484932777,0.734090909090909,0.904728464419476,0.906331515295234,0.918067226890756,0.889097303634232,0.160420148006684,0,0,0],\"fFunctions\":{\"_typename\":\"TList\",\"name\":\"TList\",\"arr\":[],\"opt\":[]},\"fHistogram\":{\"_typename\":\"TH1F\",\"fUniqueID\":0,\"fBits\":50332160,\"fName\":\"c0b53f\",\"fTitle\":\"\",\"fLineColor\":602,\"fLineStyle\":1,\"fLineWidth\":1,\"fFillColor\":0,\"fFillStyle\":1001,\"fMarkerColor\":1,\"fMarkerStyle\":1,\"fMarkerSize\":1,\"fNcells\":102,\"fXaxis\":{\"_typename\":\"TAxis\",\"fUniqueID\":0,\"fBits\":50331656,\"fName\":\"xaxis\",\"fTitle\":\" |#eta^{GEN}|\",\"fNdivisions\":510,\"fAxisColor\":1,\"fLabelColor\":1,\"fLabelFont\":42,\"fLabelOffset\":0.005,\"fLabelSize\":0.035,\"fTickLength\":0.03,\"fTitleOffset\":1.4,\"fTitleSize\":0.035,\"fTitleColor\":1,\"fTitleFont\":42,\"fNbins\":100,\"fXmin\":0,\"fXmax\":3.5,\"fXbins\":[],\"fFirst\":0,\"fLast\":0,\"fBits2\":0,\"fTimeDisplay\":false,\"fTimeFormat\":\"\",\"fLabels\":null,\"fModLabs\":null},\"fYaxis\":{\"_typename\":\"TAxis\",\"fUniqueID\":0,\"fBits\":50331656,\"fName\":\"yaxis\",\"fTitle\":\"efficiency\",\"fNdivisions\":510,\"fAxisColor\":1,\"fLabelColor\":1,\"fLabelFont\":42,\"fLabelOffset\":0.005,\"fLabelSize\":0.035,\"fTickLength\":0.03,\"fTitleOffset\":0,\"fTitleSize\":0.035,\"fTitleColor\":1,\"fTitleFont\":42,\"fNbins\":1,\"fXmin\":0,\"fXmax\":1.02267648977383,\"fXbins\":[],\"fFirst\":0,\"fLast\":0,\"fBits2\":0,\"fTimeDisplay\":false,\"fTimeFormat\":\"\",\"fLabels\":null,\"fModLabs\":null},\"fZaxis\":{\"_typename\":\"TAxis\",\"fUniqueID\":0,\"fBits\":50331648,\"fName\":\"zaxis\",\"fTitle\":\"\",\"fNdivisions\":510,\"fAxisColor\":1,\"fLabelColor\":1,\"fLabelFont\":42,\"fLabelOffset\":0.005,\"fLabelSize\":0.035,\"fTickLength\":0.03,\"fTitleOffset\":1,\"fTitleSize\":0.035,\"fTitleColor\":1,\"fTitleFont\":42,\"fNbins\":1,\"fXmin\":0,\"fXmax\":1,\"fXbins\":[],\"fFirst\":0,\"fLast\":0,\"fBits2\":0,\"fTimeDisplay\":false,\"fTimeFormat\":\"\",\"fLabels\":null,\"fModLabs\":null},\"fBarOffset\":0,\"fBarWidth\":1000,\"fEntries\":0,\"fTsumw\":0,\"fTsumw2\":0,\"fTsumwx\":0,\"fTsumwx2\":0,\"fMaximum\":1.1,\"fMinimum\":0.6,\"fNormFactor\":0,\"fContour\":[],\"fSumw2\":[],\"fOption\":\"\",\"fFunctions\":{\"_typename\":\"TList\",\"name\":\"TList\",\"arr\":[],\"opt\":[]},\"fBufferSize\":0,\"fBuffer\":[],\"fBinStatErrOpt\":0,\"fStatOverflows\":2,\"fArray\":[0,0,0,0,0,0,0,0,0,0,0,0,0,0,0,0,0,0,0,0,0,0,0,0,0,0,0,0,0,0,0,0,0,0,0,0,0,0,0,0,0,0,0,0,0,0,0,0,0,0,0,0,0,0,0,0,0,0,0,0,0,0,0,0,0,0,0,0,0,0,0,0,0,0,0,0,0,0,0,0,0,0,0,0,0,0,0,0,0,0,0,0,0,0,0,0,0,0,0,0,0,0]},\"fMinimum\":-1111,\"fMaximum\":-1111,\"fEXlow\":[0.1,0.1,0.1,0.1,0.1,0.1,0.1,0.1,0.1,0.1,0.1,0.1,0.1,0.1,0.1,0.1],\"fEXhigh\":[0.1,0.1,0.1,0.1,0.1,0.0999999999999999,0.0999999999999999,0.0999999999999999,0.0999999999999999,0.0999999999999999,0.0999999999999999,0.0999999999999999,0.0999999999999999,0.0999999999999999,0.0999999999999999,0.0999999999999999],\"fEYlow\":[0.00521055294941675,0.00428176084744736,0.00477184550866749,0.00434593795133265,0.00470492404111711,0.00466121751974724,0.00487270338943635,0.00682772592471115,0.00470619809241635,0.0047044043821689,0.00440751147044749,0.00501890173677155,0.00570657101560207,0,0,0],\"fEYhigh\":[0.0050236336613585,0.0040722316930043,0.00457353230419588,0.00414171986480572,0.00451387559670613,0.00447079937878281,0.00468494317603707,0.00671952022769129,0.00451180502877369,0.00450662501127752,0.00420692256324817,0.0048320159234515,0.00587209072912162,4.22066750895466e-4,4.34826683988015e-4,9.00730488653173e-4]},{\"_typename\":\"TGraphAsymmErrors\",\"fUniqueID\":0,\"fBits\":50332680,\"fName\":\"62c3c9\",\"fTitle\":\"; |#eta^{GEN}|;\",\"fLineColor\":417,\"fLineStyle\":1,\"fLineWidth\":1,\"fFillColor\":0,\"fFillStyle\":1001,\"fMarkerColor\":417,\"fMarkerStyle\":22,\"fMarkerSize\":0.5,\"fNpoints\":16,\"fX\":[0.1,0.3,0.5,0.7,0.9,1.1,1.3,1.5,1.7,1.9,2.1,2.3,2.5,2.7,2.9,3.1],\"fY\":[0.881100478468899,0.927068388330942,0.907221425155428,0.922279792746114,0.907599907599908,0.905002294630564,0.890356977283264,0.729772727272727,0.900749063670412,0.900165994783021,0.912931839402428,0.885814771395076,0.159942707089998,0,0,0],\"fFunctions\":{\"_typename\":\"TList\",\"name\":\"TList\",\"arr\":[],\"opt\":[]},\"fHistogram\":{\"_typename\":\"TH1F\",\"fUniqueID\":0,\"fBits\":50332160,\"fName\":\"62c3c9\",\"fTitle\":\"\",\"fLineColor\":602,\"fLineStyle\":1,\"fLineWidth\":1,\"fFillColor\":0,\"fFillStyle\":1001,\"fMarkerColor\":1,\"fMarkerStyle\":1,\"fMarkerSize\":1,\"fNcells\":102,\"fXaxis\":{\"_typename\":\"TAxis\",\"fUniqueID\":0,\"fBits\":50331656,\"fName\":\"xaxis\",\"fTitle\":\" |#eta^{GEN}|\",\"fNdivisions\":510,\"fAxisColor\":1,\"fLabelColor\":1,\"fLabelFont\":42,\"fLabelOffset\":0.005,\"fLabelSize\":0.035,\"fTickLength\":0.03,\"fTitleOffset\":1.4,\"fTitleSize\":0.035,\"fTitleColor\":1,\"fTitleFont\":42,\"fNbins\":100,\"fXmin\":0,\"fXmax\":3.5,\"fXbins\":[],\"fFirst\":0,\"fLast\":0,\"fBits2\":0,\"fTimeDisplay\":false,\"fTimeFormat\":\"\",\"fLabels\":null,\"fModLabs\":null},\"fYaxis\":{\"_typename\":\"TAxis\",\"fUniqueID\":0,\"fBits\":50331656,\"fName\":\"yaxis\",\"fTitle\":\"efficiency\",\"fNdivisions\":510,\"fAxisColor\":1,\"fLabelColor\":1,\"fLabelFont\":42,\"fLabelOffset\":0.005,\"fLabelSize\":0.035,\"fTickLength\":0.03,\"fTitleOffset\":0,\"fTitleSize\":0.035,\"fTitleColor\":1,\"fTitleFont\":42,\"fNbins\":1,\"fXmin\":0,\"fXmax\":1.02421444773698,\"fXbins\":[],\"fFirst\":0,\"fLast\":0,\"fBits2\":0,\"fTimeDisplay\":false,\"fTimeFormat\":\"\",\"fLabels\":null,\"fModLabs\":null},\"fZaxis\":{\"_typename\":\"TAxis\",\"fUniqueID\":0,\"fBits\":50331648,\"fName\":\"zaxis\",\"fTitle\":\"\",\"fNdivisions\":510,\"fAxisColor\":1,\"fLabelColor\":1,\"fLabelFont\":42,\"fLabelOffset\":0.005,\"fLabelSize\":0.035,\"fTickLength\":0.03,\"fTitleOffset\":1,\"fTitleSize\":0.035,\"fTitleColor\":1,\"fTitleFont\":42,\"fNbins\":1,\"fXmin\":0,\"fXmax\":1,\"fXbins\":[],\"fFirst\":0,\"fLast\":0,\"fBits2\":0,\"fTimeDisplay\":false,\"fTimeFormat\":\"\",\"fLabels\":null,\"fModLabs\":null},\"fBarOffset\":0,\"fBarWidth\":1000,\"fEntries\":0,\"fTsumw\":0,\"fTsumw2\":0,\"fTsumwx\":0,\"fTsumwx2\":0,\"fMaximum\":1.1,\"fMinimum\":0.6,\"fNormFactor\":0,\"fContour\":[],\"fSumw2\":[],\"fOption\":\"\",\"fFunctions\":{\"_typename\":\"TList\",\"name\":\"TList\",\"arr\":[],\"opt\":[]},\"fBufferSize\":0,\"fBuffer\":[],\"fBinStatErrOpt\":0,\"fStatOverflows\":2,\"fArray\":[0,0,0,0,0,0,0,0,0,0,0,0,0,0,0,0,0,0,0,0,0,0,0,0,0,0,0,0,0,0,0,0,0,0,0,0,0,0,0,0,0,0,0,0,0,0,0,0,0,0,0,0,0,0,0,0,0,0,0,0,0,0,0,0,0,0,0,0,0,0,0,0,0,0,0,0,0,0,0,0,0,0,0,0,0,0,0,0,0,0,0,0,0,0,0,0,0,0,0,0,0,0]},\"fMinimum\":-1111,\"fMaximum\":-1111,\"fEXlow\":[0.1,0.1,0.1,0.1,0.1,0.1,0.1,0.1,0.1,0.1,0.1,0.1,0.1,0.1,0.1,0.1],\"fEXhigh\":[0.1,0.1,0.1,0.1,0.1,0.0999999999999999,0.0999999999999999,0.0999999999999999,0.0999999999999999,0.0999999999999999,0.0999999999999999,0.0999999999999999,0.0999999999999999,0.0999999999999999,0.0999999999999999,0.0999999999999999],\"fEYlow\":[0.00521915531742811,0.00424594483899987,0.00470595774397375,0.00432907631825763,0.00461363821782101,0.00465174815066915,0.00496556870266018,0.00686080021563862,0.00478792019276419,0.00483231038701593,0.00452337905402489,0.00507968569852979,0.00569962036245228,0,0,0],\"fEYhigh\":[0.00503247803457585,0.00403565506631676,0.00450604283111311,0.00412449234888013,0.00442040833713342,0.00446110363065988,0.00478021025188236,0.00675459963253633,0.00459552708569388,0.00463767308117069,0.00432540057325681,0.00489443244186016,0.00586537692460107,4.22066750895466e-4,4.34826683988015e-4,9.00730488653173e-4]},{\"_typename\":\"TLegend\",\"fUniqueID\":0,\"fBits\":50331656,\"fLineColor\":1,\"fLineStyle\":1,\"fLineWidth\":1,\"fFillColor\":0,\"fFillStyle\":0,\"fX1\":0.14189191261637,\"fY1\":0.645454546774011,\"fX2\":1.37162162649797,\"fY2\":0.742857144412227,\"fX1NDC\":0.16,\"fY1NDC\":0.2,\"fX2NDC\":0.42,\"fY2NDC\":0.35,\"fBorderSize\":0,\"fInit\":1,\"fShadowColor\":1,\"fCornerRadius\":0,\"fOption\":\"brNDC\",\"fName\":\"TPave\",\"fTextAngle\":0,\"fTextSize\":0.03,\"fTextAlign\":12,\"fTextColor\":1,\"fTextFont\":42,\"fPrimitives\":{\"_typename\":\"TList\",\"name\":\"TList\",\"arr\":[{\"_typename\":\"TLegendEntry\",\"fUniqueID\":0,\"fBits\":50331656,\"fTextAngle\":0,\"fTextSize\":0,\"fTextAlign\":0,\"fTextColor\":0,\"fTextFont\":42,\"fLineColor\":1,\"fLineStyle\":1,\"fLineWidth\":1,\"fFillColor\":0,\"fFillStyle\":0,\"fMarkerColor\":1,\"fMarkerStyle\":8,\"fMarkerSize\":0.5,\"fObject\":{\"$ref\":3},\"fLabel\":\"calorimeter-only\",\"fOption\":\"P\"},{\"_typename\":\"TLegendEntry\",\"fUniqueID\":0,\"fBits\":50331656,\"fTextAngle\":0,\"fTextSize\":0,\"fTextAlign\":0,\"fTextColor\":0,\"fTextFont\":42,\"fLineColor\":1,\"fLineStyle\":1,\"fLineWidth\":1,\"fFillColor\":0,\"fFillStyle\":0,\"fMarkerColor\":628,\"fMarkerStyle\":21,\"fMarkerSize\":0.5,\"fObject\":{\"$ref\":10},\"fLabel\":\"track-matched\",\"fOption\":\"P\"},{\"_typename\":\"TLegendEntry\",\"fUniqueID\":0,\"fBits\":50331656,\"fTextAngle\":0,\"fTextSize\":0,\"fTextAlign\":0,\"fTextColor\":0,\"fTextFont\":42,\"fLineColor\":1,\"fLineStyle\":1,\"fLineWidth\":1,\"fFillColor\":0,\"fFillStyle\":0,\"fMarkerColor\":417,\"fMarkerStyle\":22,\"fMarkerSize\":0.5,\"fObject\":{\"$ref\":17},\"fLabel\":\"#splitline{track-matched + charged iso.}{(no EG ID for |#eta| < 1.479)}\",\"fOption\":\"P\"}],\"opt\":[\"P\",\"P\",\"P\"]},\"fEntrySeparation\":0.1,\"fMargin\":0.25,\"fNColumns\":1,\"fColumnSeparation\":0},{\"_typename\":\"TLatex\",\"fUniqueID\":0,\"fBits\":50348040,\"fName\":\"\",\"fTitle\":\"EG, p_{T}^{L1} #geq 25GeV, p_{T}^{GEN} #geq 35GeV\",\"fTextAngle\":0,\"fTextSize\":0.03,\"fTextAlign\":11,\"fTextColor\":1,\"fTextFont\":62,\"fX\":0.15,\"fY\":0.85,\"fLineColor\":1,\"fLineStyle\":1,\"fLineWidth\":2,\"fLimitFactorSize\":3,\"fOriginSize\":0.0299999993294477},{\"_typename\":\"TLatex\",\"fUniqueID\":0,\"fBits\":50348041,\"fName\":\"\",\"fTitle\":\"#scale[1.5]{CMS} #scale[1.]{Phase-2 Simulation}\",\"fTextAngle\":0,\"fTextSize\":0.03,\"fTextAlign\":11,\"fTextColor\":1,\"fTextFont\":62,\"fX\":0.13,\"fY\":0.91,\"fLineColor\":1,\"fLineStyle\":1,\"fLineWidth\":2,\"fLimitFactorSize\":3,\"fOriginSize\":0.0299999993294477},{\"_typename\":\"TLatex\",\"fUniqueID\":0,\"fBits\":50348041,\"fName\":\"\",\"fTitle\":\"14TeV, 200 PU\",\"fTextAngle\":0,\"fTextSize\":0.03,\"fTextAlign\":11,\"fTextColor\":1,\"fTextFont\":62,\"fX\":0.69,\"fY\":0.91,\"fLineColor\":1,\"fLineStyle\":1,\"fLineWidth\":2,\"fLimitFactorSize\":3,\"fOriginSize\":0.0299999993294477},{\"_typename\":\"TLatex\",\"fUniqueID\":0,\"fBits\":50331656,\"fName\":\"\",\"fTitle\":\"\",\"fTextAngle\":0,\"fTextSize\":0.03,\"fTextAlign\":11,\"fTextColor\":1,\"fTextFont\":62,\"fX\":0,\"fY\":0,\"fLineColor\":1,\"fLineStyle\":1,\"fLineWidth\":2,\"fLimitFactorSize\":3,\"fOriginSize\":0.04},{\"_typename\":\"TLine\",\"fUniqueID\":0,\"fBits\":50331656,\"fLineColor\":1,\"fLineStyle\":2,\"fLineWidth\":1,\"fX1\":1.47,\"fY1\":0.6,\"fX2\":1.47,\"fY2\":1.1},{\"_typename\":\"TLine\",\"fUniqueID\":0,\"fBits\":50331656,\"fLineColor\":1,\"fLineStyle\":2,\"fLineWidth\":1,\"fX1\":1.52,\"fY1\":0.6,\"fX2\":1.52,\"fY2\":1.1},{\"_typename\":\"TLine\",\"fUniqueID\":0,\"fBits\":50331656,\"fLineColor\":1,\"fLineStyle\":2,\"fLineWidth\":1,\"fX1\":2.4,\"fY1\":0.6,\"fX2\":2.4,\"fY2\":1.1}],\"opt\":[\"\",\"pa\",\",p\",\",p\",\"same\",\"same\",\"\",\"\",\"same\",\"same\",\"same\",\"same\"]},\"fExecs\":null,\"fName\":\"c_26a2d7\",\"fTitle\":\"c_26a2d7\",\"fNumPaletteColor\":0,\"fNextPaletteColor\":0,\"fDISPLAY\":\"$DISPLAY\",\"fDoubleBuffer\":0,\"fRetained\":true,\"fXsizeUser\":0,\"fYsizeUser\":0,\"fXsizeReal\":20,\"fYsizeReal\":20,\"fWindowTopX\":0,\"fWindowTopY\":0,\"fWindowWidth\":0,\"fWindowHeight\":0,\"fCw\":596,\"fCh\":572,\"fCatt\":{\"_typename\":\"TAttCanvas\",\"fXBetween\":2,\"fYBetween\":2,\"fTitleFromTop\":1.2,\"fXdate\":0.2,\"fYdate\":0.3,\"fAdate\":1},\"kMoveOpaque\":true,\"kResizeOpaque\":true,\"fHighLightColor\":2,\"fBatch\":true,\"kShowEventStatus\":false,\"kAutoExec\":true,\"kMenuBar\":true});\n",
       "       Core.draw(\"root_plot_6\", obj, \"\");\n",
       "     }\n",
       " );\n",
       "</script>\n"
      ],
      "text/plain": [
       "<IPython.core.display.HTML object>"
      ]
     },
     "metadata": {},
     "output_type": "display_data"
    },
    {
     "data": {
      "text/html": [
       "\n",
       "<div id=\"root_plot_7\"\n",
       "     style=\"width: 596px; height: 572px\">\n",
       "</div>\n",
       "\n",
       "<script>\n",
       " requirejs.config({\n",
       "     paths: {\n",
       "       'JSRootCore' : 'https://root.cern.ch/js/notebook//scripts/JSRootCore',\n",
       "     }\n",
       "   });\n",
       " require(['JSRootCore'],\n",
       "     function(Core) {\n",
       "       var obj = Core.JSONR_unref({\"_typename\":\"TCanvas\",\"fUniqueID\":0,\"fBits\":53673992,\"fLineColor\":1,\"fLineStyle\":1,\"fLineWidth\":1,\"fFillColor\":0,\"fFillStyle\":1001,\"fLeftMargin\":0.13,\"fRightMargin\":0.13,\"fBottomMargin\":0.13,\"fTopMargin\":0.1,\"fXfile\":2,\"fYfile\":2,\"fAfile\":1,\"fXstat\":0.99,\"fYstat\":0.99,\"fAstat\":2,\"fFrameFillColor\":0,\"fFrameLineColor\":1,\"fFrameFillStyle\":1001,\"fFrameLineStyle\":1,\"fFrameLineWidth\":1,\"fFrameBorderSize\":1,\"fFrameBorderMode\":0,\"fX1\":-4.72972966877538,\"fY1\":0.515584416589722,\"fX2\":4.72972966877538,\"fY2\":1.16493506751116,\"fXtoAbsPixelk\":298.00005,\"fXtoPixelk\":298.00005,\"fXtoPixel\":63.0057150976998,\"fYtoAbsPixelk\":1026.16804978691,\"fYtoPixelk\":1026.16804978691,\"fYtoPixel\":-880.879997869134,\"fUtoAbsPixelk\":5e-5,\"fUtoPixelk\":5e-5,\"fUtoPixel\":596,\"fVtoAbsPixelk\":572.00005,\"fVtoPixelk\":572,\"fVtoPixel\":-572,\"fAbsPixeltoXk\":-4.72972966877538,\"fPixeltoXk\":-4.72972966877538,\"fPixeltoX\":0.015871576069716,\"fAbsPixeltoYk\":1.16493506751116,\"fPixeltoYk\":0.515584416589722,\"fPixeltoY\":-0.00113522841070182,\"fXlowNDC\":0,\"fYlowNDC\":0,\"fXUpNDC\":0,\"fYUpNDC\":0,\"fWNDC\":1,\"fHNDC\":1,\"fAbsXlowNDC\":0,\"fAbsYlowNDC\":0,\"fAbsWNDC\":1,\"fAbsHNDC\":1,\"fUxmin\":-3.5,\"fUymin\":0.6,\"fUxmax\":3.5,\"fUymax\":1.1,\"fTheta\":30,\"fPhi\":30,\"fAspectRatio\":0,\"fNumber\":0,\"fTickx\":0,\"fTicky\":0,\"fLogx\":0,\"fLogy\":0,\"fLogz\":0,\"fPadPaint\":0,\"fCrosshair\":0,\"fCrosshairPos\":0,\"fBorderSize\":2,\"fBorderMode\":0,\"fModified\":false,\"fGridx\":false,\"fGridy\":false,\"fAbsCoord\":false,\"fEditable\":true,\"fFixedAspectRatio\":false,\"fPrimitives\":{\"_typename\":\"TList\",\"name\":\"TList\",\"arr\":[{\"_typename\":\"TFrame\",\"fUniqueID\":0,\"fBits\":50331656,\"fLineColor\":1,\"fLineStyle\":1,\"fLineWidth\":1,\"fFillColor\":0,\"fFillStyle\":1001,\"fX1\":-3.5,\"fY1\":0.6,\"fX2\":3.5,\"fY2\":1.1,\"fBorderSize\":1,\"fBorderMode\":0},{\"_typename\":\"TGraphAsymmErrors\",\"fUniqueID\":0,\"fBits\":50332680,\"fName\":\"91df9e\",\"fTitle\":\"; #eta^{GEN};\",\"fLineColor\":1,\"fLineStyle\":1,\"fLineWidth\":1,\"fFillColor\":0,\"fFillStyle\":1001,\"fMarkerColor\":1,\"fMarkerStyle\":8,\"fMarkerSize\":0.5,\"fNpoints\":25,\"fX\":[-2.88,-2.64,-2.4,-2.16,-1.92,-1.68,-1.44,-1.2,-0.96,-0.72,-0.48,-0.24,-1.11022302462516e-16,0.24,0.48,0.72,0.96,1.2,1.44,1.68,1.92,2.16,2.4,2.64,2.88],\"fY\":[0.896940418679549,0.965056929721241,0.98444976076555,0.994877856579984,0.995270003941663,0.993063583815029,0.852850539291217,0.992910594722332,0.99153194765204,0.992292870905588,0.984830339321357,0.991796554552912,0.978113808197374,0.990298797050834,0.983671843886898,0.983070866141732,0.991019133151113,0.992512167727443,0.828282828282828,0.993727949823599,0.996865203761755,0.990354938271605,0.980746561886051,0.966114457831325,0.898455598455598],\"fFunctions\":{\"_typename\":\"TList\",\"name\":\"TList\",\"arr\":[],\"opt\":[]},\"fHistogram\":{\"_typename\":\"TH1F\",\"fUniqueID\":0,\"fBits\":50332160,\"fName\":\"91df9e\",\"fTitle\":\"\",\"fLineColor\":602,\"fLineStyle\":1,\"fLineWidth\":1,\"fFillColor\":0,\"fFillStyle\":1001,\"fMarkerColor\":1,\"fMarkerStyle\":1,\"fMarkerSize\":1,\"fNcells\":102,\"fXaxis\":{\"_typename\":\"TAxis\",\"fUniqueID\":0,\"fBits\":50331656,\"fName\":\"xaxis\",\"fTitle\":\" #eta^{GEN}\",\"fNdivisions\":510,\"fAxisColor\":1,\"fLabelColor\":1,\"fLabelFont\":42,\"fLabelOffset\":0.005,\"fLabelSize\":0.035,\"fTickLength\":0.03,\"fTitleOffset\":1.4,\"fTitleSize\":0.035,\"fTitleColor\":1,\"fTitleFont\":42,\"fNbins\":100,\"fXmin\":-3.5,\"fXmax\":3.5,\"fXbins\":[],\"fFirst\":0,\"fLast\":0,\"fBits2\":0,\"fTimeDisplay\":false,\"fTimeFormat\":\"\",\"fLabels\":null,\"fModLabs\":null},\"fYaxis\":{\"_typename\":\"TAxis\",\"fUniqueID\":0,\"fBits\":50331656,\"fName\":\"yaxis\",\"fTitle\":\"eff. (L1 matched to GEN\\/GEN)\",\"fNdivisions\":510,\"fAxisColor\":1,\"fLabelColor\":1,\"fLabelFont\":42,\"fLabelOffset\":0.005,\"fLabelSize\":0.035,\"fTickLength\":0.03,\"fTitleOffset\":0,\"fTitleSize\":0.035,\"fTitleColor\":1,\"fTitleFont\":42,\"fNbins\":1,\"fXmin\":0.802948740563883,\"fXmax\":1.01567660551259,\"fXbins\":[],\"fFirst\":0,\"fLast\":0,\"fBits2\":0,\"fTimeDisplay\":false,\"fTimeFormat\":\"\",\"fLabels\":null,\"fModLabs\":null},\"fZaxis\":{\"_typename\":\"TAxis\",\"fUniqueID\":0,\"fBits\":50331648,\"fName\":\"zaxis\",\"fTitle\":\"\",\"fNdivisions\":510,\"fAxisColor\":1,\"fLabelColor\":1,\"fLabelFont\":42,\"fLabelOffset\":0.005,\"fLabelSize\":0.035,\"fTickLength\":0.03,\"fTitleOffset\":1,\"fTitleSize\":0.035,\"fTitleColor\":1,\"fTitleFont\":42,\"fNbins\":1,\"fXmin\":0,\"fXmax\":1,\"fXbins\":[],\"fFirst\":0,\"fLast\":0,\"fBits2\":0,\"fTimeDisplay\":false,\"fTimeFormat\":\"\",\"fLabels\":null,\"fModLabs\":null},\"fBarOffset\":0,\"fBarWidth\":1000,\"fEntries\":0,\"fTsumw\":0,\"fTsumw2\":0,\"fTsumwx\":0,\"fTsumwx2\":0,\"fMaximum\":1.1,\"fMinimum\":0.6,\"fNormFactor\":0,\"fContour\":[],\"fSumw2\":[],\"fOption\":\"\",\"fFunctions\":{\"_typename\":\"TList\",\"name\":\"TList\",\"arr\":[],\"opt\":[]},\"fBufferSize\":0,\"fBuffer\":[],\"fBinStatErrOpt\":0,\"fStatOverflows\":2,\"fArray\":[0,0,0,0,0,0,0,0,0,0,0,0,0,0,0,0,0,0,0,0,0,0,0,0,0,0,0,0,0,0,0,0,0,0,0,0,0,0,0,0,0,0,0,0,0,0,0,0,0,0,0,0,0,0,0,0,0,0,0,0,0,0,0,0,0,0,0,0,0,0,0,0,0,0,0,0,0,0,0,0,0,0,0,0,0,0,0,0,0,0,0,0,0,0,0,0,0,0,0,0,0,0]},\"fMinimum\":-1111,\"fMaximum\":-1111,\"fEXlow\":[0.12,0.12,0.12,0.12,0.12,0.12,0.12,0.12,0.12,0.12,0.12,0.12,0.12,0.12,0.12,0.12,0.12,0.12,0.12,0.12,0.12,0.12,0.12,0.12,0.12],\"fEXhigh\":[0.12,0.12,0.12,0.12,0.12,0.12,0.12,0.12,0.12,0.12,0.12,0.12,0.12,0.12,0.12,0.12,0.12,0.12,0.12,0.12,0.12,0.12,0.12,0.12,0.12],\"fEYlow\":[0.00646669309569337,0.00402963964519854,0.00288310740619213,0.00184443942825874,0.00179145889586951,0.00204126305458285,0.00728458965913781,0.00208607695227248,0.00220575416846569,0.00212685582767369,0.00285555651724234,0.00226309645208,0.00332427639590349,0.0023399190026967,0.00294028485289988,0.0029654581231422,0.00227729018784872,0.00206663018197739,0.00760676563988627,0.00198433791249897,0.00154228340540585,0.00232645967265055,0.00312657442874642,0.00388612314002568,0.00628704900090526],\"fEYhigh\":[0.00613662130560233,0.00364481498952363,0.00246564127180227,0.00140027364730277,0.00134456942230332,0.00161632070294782,0.00700527857214495,0.00165189583105818,0.00178686211210644,0.00170486335934428,0.00243685895193158,0.00181437796682571,0.00291786875046296,0.00192117477218046,0.00252474462141183,0.00255586913863548,0.00185368380612938,0.00165646388220142,0.00735489250410248,0.00154872772998071,0.00108407967177326,0.0019100915074074,0.0027215666015552,0.00351636437838976,0.0059694189218662]},{\"_typename\":\"TGraphAsymmErrors\",\"fUniqueID\":0,\"fBits\":50332680,\"fName\":\"6d9c0c\",\"fTitle\":\"; #eta^{GEN};\",\"fLineColor\":628,\"fLineStyle\":1,\"fLineWidth\":1,\"fFillColor\":0,\"fFillStyle\":1001,\"fMarkerColor\":628,\"fMarkerStyle\":21,\"fMarkerSize\":0.5,\"fNpoints\":25,\"fX\":[-2.88,-2.64,-2.4,-2.16,-1.92,-1.68,-1.44,-1.2,-0.96,-0.72,-0.48,-0.24,-1.11022302462516e-16,0.24,0.48,0.72,0.96,1.2,1.44,1.68,1.92,2.16,2.4,2.64,2.88],\"fY\":[0,0,0.569776714513557,0.919227738376675,0.90973590855341,0.904046242774566,0.766949152542373,0.904293028751477,0.907621247113164,0.921001926782274,0.90938123752495,0.930680885972108,0.850775964982093,0.918509895227008,0.909996017522899,0.921259842519685,0.899258102303788,0.895919131411456,0.750093527871306,0.901607212857703,0.91653605015674,0.908564814814815,0.571709233791749,0,0],\"fFunctions\":{\"_typename\":\"TList\",\"name\":\"TList\",\"arr\":[],\"opt\":[]},\"fHistogram\":{\"_typename\":\"TH1F\",\"fUniqueID\":0,\"fBits\":50332160,\"fName\":\"6d9c0c\",\"fTitle\":\"\",\"fLineColor\":602,\"fLineStyle\":1,\"fLineWidth\":1,\"fFillColor\":0,\"fFillStyle\":1001,\"fMarkerColor\":1,\"fMarkerStyle\":1,\"fMarkerSize\":1,\"fNcells\":102,\"fXaxis\":{\"_typename\":\"TAxis\",\"fUniqueID\":0,\"fBits\":50331656,\"fName\":\"xaxis\",\"fTitle\":\" #eta^{GEN}\",\"fNdivisions\":510,\"fAxisColor\":1,\"fLabelColor\":1,\"fLabelFont\":42,\"fLabelOffset\":0.005,\"fLabelSize\":0.035,\"fTickLength\":0.03,\"fTitleOffset\":1.4,\"fTitleSize\":0.035,\"fTitleColor\":1,\"fTitleFont\":42,\"fNbins\":100,\"fXmin\":-3.5,\"fXmax\":3.5,\"fXbins\":[],\"fFirst\":0,\"fLast\":0,\"fBits2\":0,\"fTimeDisplay\":false,\"fTimeFormat\":\"\",\"fLabels\":null,\"fModLabs\":null},\"fYaxis\":{\"_typename\":\"TAxis\",\"fUniqueID\":0,\"fBits\":50331656,\"fName\":\"yaxis\",\"fTitle\":\"eff. (L1 matched to GEN\\/GEN)\",\"fNdivisions\":510,\"fAxisColor\":1,\"fLabelColor\":1,\"fLabelFont\":42,\"fLabelOffset\":0.005,\"fLabelSize\":0.035,\"fTickLength\":0.03,\"fTitleOffset\":0,\"fTitleSize\":0.035,\"fTitleColor\":1,\"fTitleFont\":42,\"fNbins\":1,\"fXmin\":0,\"fXmax\":1.02943202774979,\"fXbins\":[],\"fFirst\":0,\"fLast\":0,\"fBits2\":0,\"fTimeDisplay\":false,\"fTimeFormat\":\"\",\"fLabels\":null,\"fModLabs\":null},\"fZaxis\":{\"_typename\":\"TAxis\",\"fUniqueID\":0,\"fBits\":50331648,\"fName\":\"zaxis\",\"fTitle\":\"\",\"fNdivisions\":510,\"fAxisColor\":1,\"fLabelColor\":1,\"fLabelFont\":42,\"fLabelOffset\":0.005,\"fLabelSize\":0.035,\"fTickLength\":0.03,\"fTitleOffset\":1,\"fTitleSize\":0.035,\"fTitleColor\":1,\"fTitleFont\":42,\"fNbins\":1,\"fXmin\":0,\"fXmax\":1,\"fXbins\":[],\"fFirst\":0,\"fLast\":0,\"fBits2\":0,\"fTimeDisplay\":false,\"fTimeFormat\":\"\",\"fLabels\":null,\"fModLabs\":null},\"fBarOffset\":0,\"fBarWidth\":1000,\"fEntries\":0,\"fTsumw\":0,\"fTsumw2\":0,\"fTsumwx\":0,\"fTsumwx2\":0,\"fMaximum\":1.1,\"fMinimum\":0.6,\"fNormFactor\":0,\"fContour\":[],\"fSumw2\":[],\"fOption\":\"\",\"fFunctions\":{\"_typename\":\"TList\",\"name\":\"TList\",\"arr\":[],\"opt\":[]},\"fBufferSize\":0,\"fBuffer\":[],\"fBinStatErrOpt\":0,\"fStatOverflows\":2,\"fArray\":[0,0,0,0,0,0,0,0,0,0,0,0,0,0,0,0,0,0,0,0,0,0,0,0,0,0,0,0,0,0,0,0,0,0,0,0,0,0,0,0,0,0,0,0,0,0,0,0,0,0,0,0,0,0,0,0,0,0,0,0,0,0,0,0,0,0,0,0,0,0,0,0,0,0,0,0,0,0,0,0,0,0,0,0,0,0,0,0,0,0,0,0,0,0,0,0,0,0,0,0,0,0]},\"fMinimum\":-1111,\"fMaximum\":-1111,\"fEXlow\":[0.12,0.12,0.12,0.12,0.12,0.12,0.12,0.12,0.12,0.12,0.12,0.12,0.12,0.12,0.12,0.12,0.12,0.12,0.12,0.12,0.12,0.12,0.12,0.12,0.12],\"fEXhigh\":[0.12,0.12,0.12,0.12,0.12,0.12,0.12,0.12,0.12,0.12,0.12,0.12,0.12,0.12,0.12,0.12,0.12,0.12,0.12,0.12,0.12,0.12,0.12,0.12,0.12],\"fEYlow\":[0,0,0.0101120529825557,0.00577745127204032,0.00605372196660103,0.00613546982122803,0.0085942217402053,0.00620013027672484,0.0060358315176362,0.00565638993416129,0.00610459328683333,0.00553372979532907,0.00744957048794914,0.00575210479920829,0.00607959544362868,0.00571342969663213,0.00630395056282118,0.00624872787164021,0.00865566887790292,0.0062558502129062,0.00584041654611345,0.00601746980549656,0.0100319564182453,0,0],\"fEYhigh\":[7.40877445676248e-4,7.22558477417811e-4,0.01005530140882,0.00543512682336789,0.0057195934706431,0.00581375433665265,0.00838383409949472,0.00587099100153576,0.00571147046931764,0.00532017732488321,0.00576643841373048,0.0051664119822431,0.0071626515740556,0.00541567448541891,0.00574172044731014,0.00536957974212582,0.00598198424608076,0.00594293951033109,0.00846440595118225,0.00593059053954736,0.00550236429002815,0.00569154358402257,0.00997448844235693,6.92915562894802e-4,7.10566595859825e-4]},{\"_typename\":\"TGraphAsymmErrors\",\"fUniqueID\":0,\"fBits\":50332680,\"fName\":\"623514\",\"fTitle\":\"; #eta^{GEN};\",\"fLineColor\":417,\"fLineStyle\":1,\"fLineWidth\":1,\"fFillColor\":0,\"fFillStyle\":1001,\"fMarkerColor\":417,\"fMarkerStyle\":22,\"fMarkerSize\":0.5,\"fNpoints\":25,\"fX\":[-2.88,-2.64,-2.4,-2.16,-1.92,-1.68,-1.44,-1.2,-0.96,-0.72,-0.48,-0.24,-1.11022302462516e-16,0.24,0.48,0.72,0.96,1.2,1.44,1.68,1.92,2.16,2.4,2.64,2.88],\"fY\":[0,0,0.566985645933014,0.913317572892041,0.901852581789515,0.898651252408478,0.760785824345146,0.903505317053958,0.91108545034642,0.919460500963391,0.91377245508982,0.931501230516817,0.848786311181854,0.921226232052775,0.910792512943051,0.925984251968504,0.903162827020695,0.892549606888806,0.745978301533857,0.898471187769502,0.911833855799373,0.905864197530864,0.570530451866405,0,0],\"fFunctions\":{\"_typename\":\"TList\",\"name\":\"TList\",\"arr\":[],\"opt\":[]},\"fHistogram\":{\"_typename\":\"TH1F\",\"fUniqueID\":0,\"fBits\":50332160,\"fName\":\"623514\",\"fTitle\":\"\",\"fLineColor\":602,\"fLineStyle\":1,\"fLineWidth\":1,\"fFillColor\":0,\"fFillStyle\":1001,\"fMarkerColor\":1,\"fMarkerStyle\":1,\"fMarkerSize\":1,\"fNcells\":102,\"fXaxis\":{\"_typename\":\"TAxis\",\"fUniqueID\":0,\"fBits\":50331656,\"fName\":\"xaxis\",\"fTitle\":\" #eta^{GEN}\",\"fNdivisions\":510,\"fAxisColor\":1,\"fLabelColor\":1,\"fLabelFont\":42,\"fLabelOffset\":0.005,\"fLabelSize\":0.035,\"fTickLength\":0.03,\"fTitleOffset\":1.4,\"fTitleSize\":0.035,\"fTitleColor\":1,\"fTitleFont\":42,\"fNbins\":100,\"fXmin\":-3.5,\"fXmax\":3.5,\"fXbins\":[],\"fFirst\":0,\"fLast\":0,\"fBits2\":0,\"fTimeDisplay\":false,\"fTimeFormat\":\"\",\"fLabels\":null,\"fModLabs\":null},\"fYaxis\":{\"_typename\":\"TAxis\",\"fUniqueID\":0,\"fBits\":50331656,\"fName\":\"yaxis\",\"fTitle\":\"eff. (L1 matched to GEN\\/GEN)\",\"fNdivisions\":510,\"fAxisColor\":1,\"fLabelColor\":1,\"fLabelFont\":42,\"fLabelOffset\":0.005,\"fLabelSize\":0.035,\"fTickLength\":0.03,\"fTitleOffset\":0,\"fTitleSize\":0.035,\"fTitleColor\":1,\"fTitleFont\":42,\"fNbins\":1,\"fXmin\":0,\"fXmax\":1.03030290249858,\"fXbins\":[],\"fFirst\":0,\"fLast\":0,\"fBits2\":0,\"fTimeDisplay\":false,\"fTimeFormat\":\"\",\"fLabels\":null,\"fModLabs\":null},\"fZaxis\":{\"_typename\":\"TAxis\",\"fUniqueID\":0,\"fBits\":50331648,\"fName\":\"zaxis\",\"fTitle\":\"\",\"fNdivisions\":510,\"fAxisColor\":1,\"fLabelColor\":1,\"fLabelFont\":42,\"fLabelOffset\":0.005,\"fLabelSize\":0.035,\"fTickLength\":0.03,\"fTitleOffset\":1,\"fTitleSize\":0.035,\"fTitleColor\":1,\"fTitleFont\":42,\"fNbins\":1,\"fXmin\":0,\"fXmax\":1,\"fXbins\":[],\"fFirst\":0,\"fLast\":0,\"fBits2\":0,\"fTimeDisplay\":false,\"fTimeFormat\":\"\",\"fLabels\":null,\"fModLabs\":null},\"fBarOffset\":0,\"fBarWidth\":1000,\"fEntries\":0,\"fTsumw\":0,\"fTsumw2\":0,\"fTsumwx\":0,\"fTsumwx2\":0,\"fMaximum\":1.1,\"fMinimum\":0.6,\"fNormFactor\":0,\"fContour\":[],\"fSumw2\":[],\"fOption\":\"\",\"fFunctions\":{\"_typename\":\"TList\",\"name\":\"TList\",\"arr\":[],\"opt\":[]},\"fBufferSize\":0,\"fBuffer\":[],\"fBinStatErrOpt\":0,\"fStatOverflows\":2,\"fArray\":[0,0,0,0,0,0,0,0,0,0,0,0,0,0,0,0,0,0,0,0,0,0,0,0,0,0,0,0,0,0,0,0,0,0,0,0,0,0,0,0,0,0,0,0,0,0,0,0,0,0,0,0,0,0,0,0,0,0,0,0,0,0,0,0,0,0,0,0,0,0,0,0,0,0,0,0,0,0,0,0,0,0,0,0,0,0,0,0,0,0,0,0,0,0,0,0,0,0,0,0,0,0]},\"fMinimum\":-1111,\"fMaximum\":-1111,\"fEXlow\":[0.12,0.12,0.12,0.12,0.12,0.12,0.12,0.12,0.12,0.12,0.12,0.12,0.12,0.12,0.12,0.12,0.12,0.12,0.12,0.12,0.12,0.12,0.12,0.12,0.12],\"fEXhigh\":[0.12,0.12,0.12,0.12,0.12,0.12,0.12,0.12,0.12,0.12,0.12,0.12,0.12,0.12,0.12,0.12,0.12,0.12,0.12,0.12,0.12,0.12,0.12,0.12,0.12],\"fEYlow\":[0,0,0.0101186083406306,0.00595106373531129,0.0062676294160191,0.00627566092590004,0.00866689302841572,0.00622119820472378,0.00594046275776106,0.00570262066834626,0.00597943053723615,0.00550586743945003,0.00748756928435645,0.00567059689537486,0.00605712427672433,0.00556612072296014,0.00620193194216034,0.0063308885943234,0.00869953874305651,0.00633726408022073,0.00597592344611486,0.00609072489043527,0.0100348400967581,0,0],\"fEYhigh\":[7.40877445676248e-4,7.22558477417811e-4,0.0100641276689105,0.0056139408467506,0.00594033463830168,0.00595848811904787,0.00846140476344914,0.00589273950760061,0.00561315856582223,0.00536774267098461,0.00563738703098204,0.0051377717546186,0.00720232015843747,0.00533179895875346,0.0057185469727723,0.00521805788206309,0.005876632853827,0.00602783289424003,0.00851144524476666,0.00601468841131625,0.00564197141075096,0.00576709190800373,0.00997831718045927,6.92915562894802e-4,7.10566595859825e-4]},{\"_typename\":\"TLegend\",\"fUniqueID\":0,\"fBits\":50331656,\"fLineColor\":1,\"fLineStyle\":1,\"fLineWidth\":1,\"fFillColor\":0,\"fFillStyle\":0,\"fX1\":-3.21621617476726,\"fY1\":0.645454546774011,\"fX2\":-0.756756747004061,\"fY2\":0.742857144412227,\"fX1NDC\":0.16,\"fY1NDC\":0.2,\"fX2NDC\":0.42,\"fY2NDC\":0.35,\"fBorderSize\":0,\"fInit\":1,\"fShadowColor\":1,\"fCornerRadius\":0,\"fOption\":\"brNDC\",\"fName\":\"TPave\",\"fTextAngle\":0,\"fTextSize\":0.03,\"fTextAlign\":12,\"fTextColor\":1,\"fTextFont\":42,\"fPrimitives\":{\"_typename\":\"TList\",\"name\":\"TList\",\"arr\":[{\"_typename\":\"TLegendEntry\",\"fUniqueID\":0,\"fBits\":50331656,\"fTextAngle\":0,\"fTextSize\":0,\"fTextAlign\":0,\"fTextColor\":0,\"fTextFont\":42,\"fLineColor\":1,\"fLineStyle\":1,\"fLineWidth\":1,\"fFillColor\":0,\"fFillStyle\":0,\"fMarkerColor\":1,\"fMarkerStyle\":8,\"fMarkerSize\":0.5,\"fObject\":{\"$ref\":3},\"fLabel\":\"calorimeter-only\",\"fOption\":\"P\"},{\"_typename\":\"TLegendEntry\",\"fUniqueID\":0,\"fBits\":50331656,\"fTextAngle\":0,\"fTextSize\":0,\"fTextAlign\":0,\"fTextColor\":0,\"fTextFont\":42,\"fLineColor\":1,\"fLineStyle\":1,\"fLineWidth\":1,\"fFillColor\":0,\"fFillStyle\":0,\"fMarkerColor\":628,\"fMarkerStyle\":21,\"fMarkerSize\":0.5,\"fObject\":{\"$ref\":10},\"fLabel\":\"track-matched\",\"fOption\":\"P\"},{\"_typename\":\"TLegendEntry\",\"fUniqueID\":0,\"fBits\":50331656,\"fTextAngle\":0,\"fTextSize\":0,\"fTextAlign\":0,\"fTextColor\":0,\"fTextFont\":42,\"fLineColor\":1,\"fLineStyle\":1,\"fLineWidth\":1,\"fFillColor\":0,\"fFillStyle\":0,\"fMarkerColor\":417,\"fMarkerStyle\":22,\"fMarkerSize\":0.5,\"fObject\":{\"$ref\":17},\"fLabel\":\"#splitline{track-matched + charged iso.}{(no EG ID for |#eta| < 1.479)}\",\"fOption\":\"P\"}],\"opt\":[\"P\",\"P\",\"P\"]},\"fEntrySeparation\":0.1,\"fMargin\":0.25,\"fNColumns\":1,\"fColumnSeparation\":0},{\"_typename\":\"TLatex\",\"fUniqueID\":0,\"fBits\":50348040,\"fName\":\"\",\"fTitle\":\"EG, p_{T}^{L1} #geq 25GeV, p_{T}^{GEN} #geq 35GeV\",\"fTextAngle\":0,\"fTextSize\":0.03,\"fTextAlign\":11,\"fTextColor\":1,\"fTextFont\":62,\"fX\":0.15,\"fY\":0.85,\"fLineColor\":1,\"fLineStyle\":1,\"fLineWidth\":2,\"fLimitFactorSize\":3,\"fOriginSize\":0.0299999993294477},{\"_typename\":\"TLatex\",\"fUniqueID\":0,\"fBits\":50348041,\"fName\":\"\",\"fTitle\":\"#scale[1.5]{CMS} #scale[1.]{Phase-2 Simulation}\",\"fTextAngle\":0,\"fTextSize\":0.03,\"fTextAlign\":11,\"fTextColor\":1,\"fTextFont\":62,\"fX\":0.13,\"fY\":0.91,\"fLineColor\":1,\"fLineStyle\":1,\"fLineWidth\":2,\"fLimitFactorSize\":3,\"fOriginSize\":0.0299999993294477},{\"_typename\":\"TLatex\",\"fUniqueID\":0,\"fBits\":50348041,\"fName\":\"\",\"fTitle\":\"14TeV, 200 PU\",\"fTextAngle\":0,\"fTextSize\":0.03,\"fTextAlign\":11,\"fTextColor\":1,\"fTextFont\":62,\"fX\":0.69,\"fY\":0.91,\"fLineColor\":1,\"fLineStyle\":1,\"fLineWidth\":2,\"fLimitFactorSize\":3,\"fOriginSize\":0.0299999993294477},{\"_typename\":\"TLatex\",\"fUniqueID\":0,\"fBits\":50331656,\"fName\":\"\",\"fTitle\":\"\",\"fTextAngle\":0,\"fTextSize\":0.03,\"fTextAlign\":11,\"fTextColor\":1,\"fTextFont\":62,\"fX\":0,\"fY\":0,\"fLineColor\":1,\"fLineStyle\":1,\"fLineWidth\":2,\"fLimitFactorSize\":3,\"fOriginSize\":0.04},{\"_typename\":\"TLine\",\"fUniqueID\":0,\"fBits\":50331656,\"fLineColor\":1,\"fLineStyle\":2,\"fLineWidth\":1,\"fX1\":-1.47,\"fY1\":0.6,\"fX2\":-1.47,\"fY2\":1.1},{\"_typename\":\"TLine\",\"fUniqueID\":0,\"fBits\":50331656,\"fLineColor\":1,\"fLineStyle\":2,\"fLineWidth\":1,\"fX1\":-1.52,\"fY1\":0.6,\"fX2\":-1.52,\"fY2\":1.1},{\"_typename\":\"TLine\",\"fUniqueID\":0,\"fBits\":50331656,\"fLineColor\":1,\"fLineStyle\":2,\"fLineWidth\":1,\"fX1\":-2.4,\"fY1\":0.6,\"fX2\":-2.4,\"fY2\":1.1},{\"_typename\":\"TLine\",\"fUniqueID\":0,\"fBits\":50331656,\"fLineColor\":1,\"fLineStyle\":2,\"fLineWidth\":1,\"fX1\":1.47,\"fY1\":0.6,\"fX2\":1.47,\"fY2\":1.1},{\"_typename\":\"TLine\",\"fUniqueID\":0,\"fBits\":50331656,\"fLineColor\":1,\"fLineStyle\":2,\"fLineWidth\":1,\"fX1\":1.52,\"fY1\":0.6,\"fX2\":1.52,\"fY2\":1.1},{\"_typename\":\"TLine\",\"fUniqueID\":0,\"fBits\":50331656,\"fLineColor\":1,\"fLineStyle\":2,\"fLineWidth\":1,\"fX1\":2.4,\"fY1\":0.6,\"fX2\":2.4,\"fY2\":1.1}],\"opt\":[\"\",\"pa\",\",p\",\",p\",\"same\",\"same\",\"\",\"\",\"same\",\"same\",\"same\",\"same\",\"same\",\"same\",\"same\"]},\"fExecs\":null,\"fName\":\"c_f76123\",\"fTitle\":\"c_f76123\",\"fNumPaletteColor\":0,\"fNextPaletteColor\":0,\"fDISPLAY\":\"$DISPLAY\",\"fDoubleBuffer\":0,\"fRetained\":true,\"fXsizeUser\":0,\"fYsizeUser\":0,\"fXsizeReal\":20,\"fYsizeReal\":20,\"fWindowTopX\":0,\"fWindowTopY\":0,\"fWindowWidth\":0,\"fWindowHeight\":0,\"fCw\":596,\"fCh\":572,\"fCatt\":{\"_typename\":\"TAttCanvas\",\"fXBetween\":2,\"fYBetween\":2,\"fTitleFromTop\":1.2,\"fXdate\":0.2,\"fYdate\":0.3,\"fAdate\":1},\"kMoveOpaque\":true,\"kResizeOpaque\":true,\"fHighLightColor\":2,\"fBatch\":true,\"kShowEventStatus\":false,\"kAutoExec\":true,\"kMenuBar\":true});\n",
       "       Core.draw(\"root_plot_7\", obj, \"\");\n",
       "     }\n",
       " );\n",
       "</script>\n"
      ],
      "text/plain": [
       "<IPython.core.display.HTML object>"
      ]
     },
     "metadata": {},
     "output_type": "display_data"
    }
   ],
   "source": [
    "hsets, labels, text = hplot.get_histo(histos.HistoSetEff, 'ele-V9', ['PU200'], ['EGALL', 'TkEleELALL'], ['Pt25LooseTkID', 'Pt25Iso0p1'], ['GENPt35'], debug=False)\n",
    "\n",
    "for hset in hsets:\n",
    "    hset.computeEff(rebin=2)\n",
    "\n",
    "# labels = ['TP head', 'L1 menu version', 'backported']\n",
    "text_forprint = 'EG, p_{T}^{L1} #geq 25GeV, p_{T}^{GEN} #geq 35GeV'\n",
    "\n",
    "\n",
    "labels_final = []\n",
    "labels_final.append('calorimeter-only')\n",
    "labels_final.append('track-matched')\n",
    "labels_final.append('#splitline{track-matched + charged iso.}{(no EG ID for |#eta| < 1.479)}')\n",
    "\n",
    "\n",
    "canv = draw([his.h_eff.h_abseta.CreateGraph() for his in hsets], labels_final, text=text_forprint, \n",
    "     min_x=0, max_x=3.5, min_y=0.6, max_y=1.1, v_lines=[1.47, 1.52, 2.4],\n",
    "     y_axis_label='efficiency',\n",
    "    legend_position = (0.16, 0.2, 0.42, 0.35),\n",
    "     do_write=True, write_name='figs/egammaBarrelEndcap_EG_GENPt30_hEffVAbsEta')\n",
    "\n",
    "# print canv.GetByType(ROOT.TLegend)\n",
    "# leg2 = getLegend(0.56, 0.15, 0.92, 0.30)\n",
    "# leg2.SetHeader('|#eta|>1.479')\n",
    "# for idx,his in enumerate(hsets):\n",
    "#     leg2.AddEntry(his.h_eff.h_eta.CreateGraph(), labels_final[idx], 'P')\n",
    "# leg2.Draw('same')\n",
    "# canv.Draw()\n",
    "# SaveCanvas(canv, 'test')\n",
    "# stuff[-7].AddEntry(ROOT.TObject(), 'PIPPO', '')\n",
    "# stuff[-7].Draw('same')\n",
    "# canv.Draw()\n",
    "\n",
    "# print canv.GetListOfPrimitives().Print()\n",
    "\n",
    "draw([his.h_eff.h_eta.CreateGraph() for his in hsets], labels_final, text=text_forprint, \n",
    "     min_x=-3.5, max_x=3.5, min_y=0.6, max_y=1.1, v_lines=[-1.47, -1.52, -2.4, 1.47, 1.52, 2.4],\n",
    "     y_axis_label='eff. (L1 matched to GEN/GEN)',\n",
    "     do_write=True, write_name='figs/egammaBarrelEndcap_EG_GENPt30_hEffVEta')\n",
    "\n"
   ]
  },
  {
   "cell_type": "code",
   "execution_count": 32,
   "metadata": {
    "scrolled": false
   },
   "outputs": [
    {
     "data": {
      "text/plain": [
       "<drawingTools.DrawMachine at 0x11a29b2d0>"
      ]
     },
     "execution_count": 32,
     "metadata": {},
     "output_type": "execute_result"
    },
    {
     "name": "stdout",
     "output_type": "stream",
     "text": [
      "ERROR in TPDF::Open: Cannot open file:figs/egammaEndcap_EG_EGq5Pt25_GENPt35_hEffVEta.pdf\n"
     ]
    },
    {
     "data": {
      "text/html": [
       "\n",
       "<div id=\"root_plot_8\"\n",
       "     style=\"width: 596px; height: 572px\">\n",
       "</div>\n",
       "\n",
       "<script>\n",
       " requirejs.config({\n",
       "     paths: {\n",
       "       'JSRootCore' : 'https://root.cern.ch/js/notebook//scripts/JSRootCore',\n",
       "     }\n",
       "   });\n",
       " require(['JSRootCore'],\n",
       "     function(Core) {\n",
       "       var obj = Core.JSONR_unref({\"_typename\":\"TCanvas\",\"fUniqueID\":0,\"fBits\":53673992,\"fLineColor\":1,\"fLineStyle\":1,\"fLineWidth\":1,\"fFillColor\":0,\"fFillStyle\":1001,\"fLeftMargin\":0.13,\"fRightMargin\":0.13,\"fBottomMargin\":0.13,\"fTopMargin\":0.1,\"fXfile\":2,\"fYfile\":2,\"fAfile\":1,\"fXstat\":0.99,\"fYstat\":0.99,\"fAstat\":2,\"fFrameFillColor\":0,\"fFrameLineColor\":1,\"fFrameFillStyle\":1001,\"fFrameLineStyle\":1,\"fFrameLineWidth\":1,\"fFrameBorderSize\":1,\"fFrameBorderMode\":0,\"fX1\":1.14864866606418,\"fY1\":0.515584416589722,\"fX2\":3.85135133393582,\"fY2\":1.16493506751116,\"fXtoAbsPixelk\":-253.299957104874,\"fXtoPixelk\":-253.299957104874,\"fXtoPixel\":220.520002841949,\"fYtoAbsPixelk\":1026.16804978691,\"fYtoPixelk\":1026.16804978691,\"fYtoPixel\":-880.879997869134,\"fUtoAbsPixelk\":5e-5,\"fUtoPixelk\":5e-5,\"fUtoPixel\":596,\"fVtoAbsPixelk\":572.00005,\"fVtoPixelk\":572,\"fVtoPixel\":-572,\"fAbsPixeltoXk\":1.14864866606418,\"fPixeltoXk\":1.14864866606418,\"fPixeltoX\":0.00453473601991887,\"fAbsPixeltoYk\":1.16493506751116,\"fPixeltoYk\":0.515584416589722,\"fPixeltoY\":-0.00113522841070182,\"fXlowNDC\":0,\"fYlowNDC\":0,\"fXUpNDC\":0,\"fYUpNDC\":0,\"fWNDC\":1,\"fHNDC\":1,\"fAbsXlowNDC\":0,\"fAbsYlowNDC\":0,\"fAbsWNDC\":1,\"fAbsHNDC\":1,\"fUxmin\":1.5,\"fUymin\":0.6,\"fUxmax\":3.5,\"fUymax\":1.1,\"fTheta\":30,\"fPhi\":30,\"fAspectRatio\":0,\"fNumber\":0,\"fTickx\":0,\"fTicky\":0,\"fLogx\":0,\"fLogy\":0,\"fLogz\":0,\"fPadPaint\":0,\"fCrosshair\":0,\"fCrosshairPos\":0,\"fBorderSize\":2,\"fBorderMode\":0,\"fModified\":false,\"fGridx\":false,\"fGridy\":false,\"fAbsCoord\":false,\"fEditable\":true,\"fFixedAspectRatio\":false,\"fPrimitives\":{\"_typename\":\"TList\",\"name\":\"TList\",\"arr\":[{\"_typename\":\"TFrame\",\"fUniqueID\":0,\"fBits\":50331656,\"fLineColor\":1,\"fLineStyle\":1,\"fLineWidth\":1,\"fFillColor\":0,\"fFillStyle\":1001,\"fX1\":1.5,\"fY1\":0.6,\"fX2\":3.5,\"fY2\":1.1,\"fBorderSize\":1,\"fBorderMode\":0},{\"_typename\":\"TGraphAsymmErrors\",\"fUniqueID\":0,\"fBits\":50332680,\"fName\":\"674656\",\"fTitle\":\"; |#eta^{GEN}|;\",\"fLineColor\":1,\"fLineStyle\":1,\"fLineWidth\":1,\"fFillColor\":0,\"fFillStyle\":1001,\"fMarkerColor\":1,\"fMarkerStyle\":8,\"fMarkerSize\":0.5,\"fNpoints\":17,\"fX\":[1.45,1.55,1.65,1.75,1.85,1.95,2.05,2.15,2.25,2.35,2.45,2.55,2.65,2.75,2.85,2.95,3.05],\"fY\":[0.00241351568785197,0.793809523809524,0.995027349577325,0.993259508907077,0.996957403651116,0.995513459621137,0.99358024691358,0.994312306101344,0.988717948717949,0.98618219037871,0.982869379014989,0.974649406688242,0.965879265091864,0.945975148568341,0.928045325779037,0.852631578947368,0.0185851318944844],\"fFunctions\":{\"_typename\":\"TList\",\"name\":\"TList\",\"arr\":[],\"opt\":[]},\"fHistogram\":{\"_typename\":\"TH1F\",\"fUniqueID\":0,\"fBits\":50332160,\"fName\":\"674656\",\"fTitle\":\"\",\"fLineColor\":602,\"fLineStyle\":1,\"fLineWidth\":1,\"fFillColor\":0,\"fFillStyle\":1001,\"fMarkerColor\":1,\"fMarkerStyle\":1,\"fMarkerSize\":1,\"fNcells\":102,\"fXaxis\":{\"_typename\":\"TAxis\",\"fUniqueID\":0,\"fBits\":50331656,\"fName\":\"xaxis\",\"fTitle\":\" |#eta^{GEN}|\",\"fNdivisions\":510,\"fAxisColor\":1,\"fLabelColor\":1,\"fLabelFont\":42,\"fLabelOffset\":0.005,\"fLabelSize\":0.035,\"fTickLength\":0.03,\"fTitleOffset\":1.4,\"fTitleSize\":0.035,\"fTitleColor\":1,\"fTitleFont\":42,\"fNbins\":100,\"fXmin\":1.5,\"fXmax\":3.5,\"fXbins\":[],\"fFirst\":0,\"fLast\":0,\"fBits2\":0,\"fTimeDisplay\":false,\"fTimeFormat\":\"\",\"fLabels\":null,\"fModLabs\":null},\"fYaxis\":{\"_typename\":\"TAxis\",\"fUniqueID\":0,\"fBits\":50331656,\"fName\":\"yaxis\",\"fTitle\":\"eff. (L1 matched to GEN\\/GEN)\",\"fNdivisions\":510,\"fAxisColor\":1,\"fLabelColor\":1,\"fLabelFont\":42,\"fLabelOffset\":0.005,\"fLabelSize\":0.035,\"fTickLength\":0.03,\"fTitleOffset\":0,\"fTitleSize\":0.035,\"fTitleColor\":1,\"fTitleFont\":42,\"fNbins\":1,\"fXmin\":9.90248819337897e-4,\"fXmax\":1.09786995695114,\"fXbins\":[],\"fFirst\":0,\"fLast\":0,\"fBits2\":0,\"fTimeDisplay\":false,\"fTimeFormat\":\"\",\"fLabels\":null,\"fModLabs\":null},\"fZaxis\":{\"_typename\":\"TAxis\",\"fUniqueID\":0,\"fBits\":50331648,\"fName\":\"zaxis\",\"fTitle\":\"\",\"fNdivisions\":510,\"fAxisColor\":1,\"fLabelColor\":1,\"fLabelFont\":42,\"fLabelOffset\":0.005,\"fLabelSize\":0.035,\"fTickLength\":0.03,\"fTitleOffset\":1,\"fTitleSize\":0.035,\"fTitleColor\":1,\"fTitleFont\":42,\"fNbins\":1,\"fXmin\":0,\"fXmax\":1,\"fXbins\":[],\"fFirst\":0,\"fLast\":0,\"fBits2\":0,\"fTimeDisplay\":false,\"fTimeFormat\":\"\",\"fLabels\":null,\"fModLabs\":null},\"fBarOffset\":0,\"fBarWidth\":1000,\"fEntries\":0,\"fTsumw\":0,\"fTsumw2\":0,\"fTsumwx\":0,\"fTsumwx2\":0,\"fMaximum\":1.1,\"fMinimum\":0.6,\"fNormFactor\":0,\"fContour\":[],\"fSumw2\":[],\"fOption\":\"\",\"fFunctions\":{\"_typename\":\"TList\",\"name\":\"TList\",\"arr\":[],\"opt\":[]},\"fBufferSize\":0,\"fBuffer\":[],\"fBinStatErrOpt\":0,\"fStatOverflows\":2,\"fArray\":[0,0,0,0,0,0,0,0,0,0,0,0,0,0,0,0,0,0,0,0,0,0,0,0,0,0,0,0,0,0,0,0,0,0,0,0,0,0,0,0,0,0,0,0,0,0,0,0,0,0,0,0,0,0,0,0,0,0,0,0,0,0,0,0,0,0,0,0,0,0,0,0,0,0,0,0,0,0,0,0,0,0,0,0,0,0,0,0,0,0,0,0,0,0,0,0,0,0,0,0,0,0]},\"fMinimum\":-1111,\"fMaximum\":-1111,\"fEXlow\":[0.05,0.05,0.05,0.05,0.05,0.05,0.0499999999999998,0.0499999999999998,0.0499999999999998,0.0499999999999998,0.0499999999999998,0.0499999999999998,0.0499999999999998,0.0499999999999998,0.0499999999999998,0.0499999999999998,0.0499999999999998],\"fEXhigh\":[0.05,0.05,0.05,0.05,0.05,0.05,0.0500000000000002,0.0500000000000002,0.0500000000000002,0.0500000000000002,0.0500000000000002,0.0500000000000002,0.0500000000000002,0.0500000000000002,0.0500000000000002,0.0500000000000002,0.0500000000000002],\"fEYlow\":[0.00131323922192097,0.0092086756141303,0.00211427584408808,0.00231510322057293,0.00181284656623337,0.00204225800678481,0.00230964621979179,0.00227451390750122,0.00293348356694212,0.00317648704779072,0.00355780082736579,0.00419996257706368,0.00468526310612039,0.00578000856205196,0.00668911603783051,0.00882127408643574,0.00329899267876134],\"fEYhigh\":[0.00234210859422257,0.00892139114480306,0.00154404515012474,0.00177650263392626,0.00120621871046078,0.00146586355436806,0.0017544118001539,0.00168616328450766,0.00237855718579694,0.00263070563543388,0.0029948009751396,0.00365021237757801,0.00416539523465209,0.0052734908966996,0.00618188678035358,0.0084177020658458,0.00392843596614167]},{\"_typename\":\"TLatex\",\"fUniqueID\":0,\"fBits\":50348040,\"fName\":\"\",\"fTitle\":\"EG endcap, p_{T}^{L1} #geq 25GeV, p_{T}^{GEN} #geq 35GeV\",\"fTextAngle\":0,\"fTextSize\":0.03,\"fTextAlign\":11,\"fTextColor\":1,\"fTextFont\":62,\"fX\":0.15,\"fY\":0.85,\"fLineColor\":1,\"fLineStyle\":1,\"fLineWidth\":2,\"fLimitFactorSize\":3,\"fOriginSize\":0.0299999993294477},{\"_typename\":\"TLatex\",\"fUniqueID\":0,\"fBits\":50348041,\"fName\":\"\",\"fTitle\":\"#scale[1.5]{CMS} #scale[1.]{Phase-2 Simulation}\",\"fTextAngle\":0,\"fTextSize\":0.03,\"fTextAlign\":11,\"fTextColor\":1,\"fTextFont\":62,\"fX\":0.13,\"fY\":0.91,\"fLineColor\":1,\"fLineStyle\":1,\"fLineWidth\":2,\"fLimitFactorSize\":3,\"fOriginSize\":0.0299999993294477},{\"_typename\":\"TLatex\",\"fUniqueID\":0,\"fBits\":50348041,\"fName\":\"\",\"fTitle\":\"14TeV, 200 PU\",\"fTextAngle\":0,\"fTextSize\":0.03,\"fTextAlign\":11,\"fTextColor\":1,\"fTextFont\":62,\"fX\":0.69,\"fY\":0.91,\"fLineColor\":1,\"fLineStyle\":1,\"fLineWidth\":2,\"fLimitFactorSize\":3,\"fOriginSize\":0.0299999993294477},{\"_typename\":\"TLatex\",\"fUniqueID\":0,\"fBits\":50331656,\"fName\":\"\",\"fTitle\":\"\",\"fTextAngle\":0,\"fTextSize\":0.03,\"fTextAlign\":11,\"fTextColor\":1,\"fTextFont\":62,\"fX\":0,\"fY\":0,\"fLineColor\":1,\"fLineStyle\":1,\"fLineWidth\":2,\"fLimitFactorSize\":3,\"fOriginSize\":0.04},{\"_typename\":\"TLine\",\"fUniqueID\":0,\"fBits\":50331656,\"fLineColor\":1,\"fLineStyle\":2,\"fLineWidth\":1,\"fX1\":1.52,\"fY1\":0.6,\"fX2\":1.52,\"fY2\":1.1},{\"_typename\":\"TLine\",\"fUniqueID\":0,\"fBits\":50331656,\"fLineColor\":1,\"fLineStyle\":2,\"fLineWidth\":1,\"fX1\":2.4,\"fY1\":0.6,\"fX2\":2.4,\"fY2\":1.1}],\"opt\":[\"\",\"pa\",\"same\",\"\",\"\",\"same\",\"same\",\"same\"]},\"fExecs\":null,\"fName\":\"c_239848\",\"fTitle\":\"c_239848\",\"fNumPaletteColor\":0,\"fNextPaletteColor\":0,\"fDISPLAY\":\"$DISPLAY\",\"fDoubleBuffer\":0,\"fRetained\":true,\"fXsizeUser\":0,\"fYsizeUser\":0,\"fXsizeReal\":20,\"fYsizeReal\":20,\"fWindowTopX\":0,\"fWindowTopY\":0,\"fWindowWidth\":0,\"fWindowHeight\":0,\"fCw\":596,\"fCh\":572,\"fCatt\":{\"_typename\":\"TAttCanvas\",\"fXBetween\":2,\"fYBetween\":2,\"fTitleFromTop\":1.2,\"fXdate\":0.2,\"fYdate\":0.3,\"fAdate\":1},\"kMoveOpaque\":true,\"kResizeOpaque\":true,\"fHighLightColor\":2,\"fBatch\":true,\"kShowEventStatus\":false,\"kAutoExec\":true,\"kMenuBar\":true});\n",
       "       Core.draw(\"root_plot_8\", obj, \"\");\n",
       "     }\n",
       " );\n",
       "</script>\n"
      ],
      "text/plain": [
       "<IPython.core.display.HTML object>"
      ]
     },
     "metadata": {},
     "output_type": "display_data"
    }
   ],
   "source": [
    "hsets, labels, text = hplot.get_histo(histos.HistoSetEff, 'ele-V9', ['PU200'], 'EG', ['EGq5Pt25'], ['GENPt35'], debug=False)\n",
    "# labels = ['TP head', 'L1 menu version', 'backported']\n",
    "text_forprint = 'EG endcap, p_{T}^{L1} #geq 25GeV, p_{T}^{GEN} #geq 35GeV'\n",
    "draw([his.h_eff.h_abseta.CreateGraph() for his in hsets], labels, text=text_forprint, \n",
    "     min_x=1.5, max_x=3.5, min_y=0.6, max_y=1.1, v_lines=[1.52, 2.4],\n",
    "     y_axis_label='eff. (L1 matched to GEN/GEN)',\n",
    "     do_write=True, write_name='figs/egammaEndcap_EG_EGq5Pt25_GENPt35_hEffVEta')\n"
   ]
  },
  {
   "cell_type": "code",
   "execution_count": 33,
   "metadata": {},
   "outputs": [
    {
     "data": {
      "text/plain": [
       "<drawingTools.DrawMachine at 0x119093a10>"
      ]
     },
     "execution_count": 33,
     "metadata": {},
     "output_type": "execute_result"
    },
    {
     "name": "stderr",
     "output_type": "stream",
     "text": [
      "Info in <TCanvas::Print>: pdf file egammaEndcap_TkEle_EGq4Pt30_GENPt40_hEffVEta.pdf has been created\n"
     ]
    },
    {
     "data": {
      "text/html": [
       "\n",
       "<div id=\"root_plot_9\"\n",
       "     style=\"width: 596px; height: 572px\">\n",
       "</div>\n",
       "\n",
       "<script>\n",
       " requirejs.config({\n",
       "     paths: {\n",
       "       'JSRootCore' : 'https://root.cern.ch/js/notebook//scripts/JSRootCore',\n",
       "     }\n",
       "   });\n",
       " require(['JSRootCore'],\n",
       "     function(Core) {\n",
       "       var obj = Core.JSONR_unref({\"_typename\":\"TCanvas\",\"fUniqueID\":0,\"fBits\":53673992,\"fLineColor\":1,\"fLineStyle\":1,\"fLineWidth\":1,\"fFillColor\":0,\"fFillStyle\":1001,\"fLeftMargin\":0.13,\"fRightMargin\":0.13,\"fBottomMargin\":0.13,\"fTopMargin\":0.1,\"fXfile\":2,\"fYfile\":2,\"fAfile\":1,\"fXstat\":0.99,\"fYstat\":0.99,\"fAstat\":2,\"fFrameFillColor\":0,\"fFrameLineColor\":1,\"fFrameFillStyle\":1001,\"fFrameLineStyle\":1,\"fFrameLineWidth\":1,\"fFrameBorderSize\":1,\"fFrameBorderMode\":0,\"fX1\":-4.86486480216896,\"fY1\":0.515584416589722,\"fX2\":4.86486480216897,\"fY2\":1.16493506751116,\"fXtoAbsPixelk\":298.00005,\"fXtoPixelk\":298.00005,\"fXtoPixel\":61.255556344986,\"fYtoAbsPixelk\":1026.16804978691,\"fYtoPixelk\":1026.16804978691,\"fYtoPixel\":-880.879997869134,\"fUtoAbsPixelk\":5e-5,\"fUtoPixelk\":5e-5,\"fUtoPixel\":596,\"fVtoAbsPixelk\":572.00005,\"fVtoPixelk\":572,\"fVtoPixel\":-572,\"fAbsPixeltoXk\":-4.86486480216896,\"fPixeltoXk\":-4.86486480216896,\"fPixeltoX\":0.0163250496717079,\"fAbsPixeltoYk\":1.16493506751116,\"fPixeltoYk\":0.515584416589722,\"fPixeltoY\":-0.00113522841070182,\"fXlowNDC\":0,\"fYlowNDC\":0,\"fXUpNDC\":0,\"fYUpNDC\":0,\"fWNDC\":1,\"fHNDC\":1,\"fAbsXlowNDC\":0,\"fAbsYlowNDC\":0,\"fAbsWNDC\":1,\"fAbsHNDC\":1,\"fUxmin\":-3.6,\"fUymin\":0.6,\"fUxmax\":3.6,\"fUymax\":1.1,\"fTheta\":30,\"fPhi\":30,\"fAspectRatio\":0,\"fNumber\":0,\"fTickx\":0,\"fTicky\":0,\"fLogx\":0,\"fLogy\":0,\"fLogz\":0,\"fPadPaint\":0,\"fCrosshair\":0,\"fCrosshairPos\":0,\"fBorderSize\":2,\"fBorderMode\":0,\"fModified\":false,\"fGridx\":false,\"fGridy\":false,\"fAbsCoord\":false,\"fEditable\":true,\"fFixedAspectRatio\":false,\"fPrimitives\":{\"_typename\":\"TList\",\"name\":\"TList\",\"arr\":[{\"_typename\":\"TFrame\",\"fUniqueID\":0,\"fBits\":50331656,\"fLineColor\":1,\"fLineStyle\":1,\"fLineWidth\":1,\"fFillColor\":0,\"fFillStyle\":1001,\"fX1\":-3.6,\"fY1\":0.6,\"fX2\":3.6,\"fY2\":1.1,\"fBorderSize\":1,\"fBorderMode\":0},{\"_typename\":\"TGraphAsymmErrors\",\"fUniqueID\":0,\"fBits\":50332680,\"fName\":\"1831f1\",\"fTitle\":\"; #eta^{GEN};\",\"fLineColor\":1,\"fLineStyle\":1,\"fLineWidth\":1,\"fFillColor\":0,\"fFillStyle\":1001,\"fMarkerColor\":1,\"fMarkerStyle\":8,\"fMarkerSize\":0.5,\"fNpoints\":28,\"fX\":[-2.94,-2.82,-2.7,-2.58,-2.46,-2.34,-2.22,-2.1,-1.98,-1.86,-1.74,-1.62,-1.5,-1.38,1.38,1.5,1.62,1.74,1.86,1.98,2.1,2.22,2.34,2.46,2.58,2.7,2.82,2.94],\"fY\":[0.840106007067138,0.897816593886463,0.939240506329114,0.964705882352941,0.969672131147541,0.9856,0.986739469578783,0.991262907069102,0.988713318284424,0.990438247011952,0.986496624156039,0.976985894580549,0.342126298960831,0,0,0.322652757078987,0.981790591805766,0.987111448066717,0.993017843289372,0.991358994501178,0.986963190184049,0.984751203852327,0.978142076502732,0.976686094920899,0.963594113090627,0.940099833610649,0.891485809682805,0.846808510638298],\"fFunctions\":{\"_typename\":\"TList\",\"name\":\"TList\",\"arr\":[],\"opt\":[]},\"fHistogram\":{\"_typename\":\"TH1F\",\"fUniqueID\":0,\"fBits\":50332160,\"fName\":\"1831f1\",\"fTitle\":\"\",\"fLineColor\":602,\"fLineStyle\":1,\"fLineWidth\":1,\"fFillColor\":0,\"fFillStyle\":1001,\"fMarkerColor\":1,\"fMarkerStyle\":1,\"fMarkerSize\":1,\"fNcells\":102,\"fXaxis\":{\"_typename\":\"TAxis\",\"fUniqueID\":0,\"fBits\":50331656,\"fName\":\"xaxis\",\"fTitle\":\" #eta^{GEN}\",\"fNdivisions\":510,\"fAxisColor\":1,\"fLabelColor\":1,\"fLabelFont\":42,\"fLabelOffset\":0.005,\"fLabelSize\":0.035,\"fTickLength\":0.03,\"fTitleOffset\":1.4,\"fTitleSize\":0.035,\"fTitleColor\":1,\"fTitleFont\":42,\"fNbins\":100,\"fXmin\":-3.6,\"fXmax\":3.6,\"fXbins\":[],\"fFirst\":0,\"fLast\":0,\"fBits2\":0,\"fTimeDisplay\":false,\"fTimeFormat\":\"\",\"fLabels\":null,\"fModLabs\":null},\"fYaxis\":{\"_typename\":\"TAxis\",\"fUniqueID\":0,\"fBits\":50331656,\"fName\":\"yaxis\",\"fTitle\":\"\",\"fNdivisions\":510,\"fAxisColor\":1,\"fLabelColor\":1,\"fLabelFont\":42,\"fLabelOffset\":0.005,\"fLabelSize\":0.035,\"fTickLength\":0.03,\"fTitleOffset\":0,\"fTitleSize\":0.035,\"fTitleColor\":1,\"fTitleFont\":42,\"fNbins\":1,\"fXmin\":0,\"fXmax\":1.09482759636859,\"fXbins\":[],\"fFirst\":0,\"fLast\":0,\"fBits2\":0,\"fTimeDisplay\":false,\"fTimeFormat\":\"\",\"fLabels\":null,\"fModLabs\":null},\"fZaxis\":{\"_typename\":\"TAxis\",\"fUniqueID\":0,\"fBits\":50331648,\"fName\":\"zaxis\",\"fTitle\":\"\",\"fNdivisions\":510,\"fAxisColor\":1,\"fLabelColor\":1,\"fLabelFont\":42,\"fLabelOffset\":0.005,\"fLabelSize\":0.035,\"fTickLength\":0.03,\"fTitleOffset\":1,\"fTitleSize\":0.035,\"fTitleColor\":1,\"fTitleFont\":42,\"fNbins\":1,\"fXmin\":0,\"fXmax\":1,\"fXbins\":[],\"fFirst\":0,\"fLast\":0,\"fBits2\":0,\"fTimeDisplay\":false,\"fTimeFormat\":\"\",\"fLabels\":null,\"fModLabs\":null},\"fBarOffset\":0,\"fBarWidth\":1000,\"fEntries\":0,\"fTsumw\":0,\"fTsumw2\":0,\"fTsumwx\":0,\"fTsumwx2\":0,\"fMaximum\":1.1,\"fMinimum\":0.6,\"fNormFactor\":0,\"fContour\":[],\"fSumw2\":[],\"fOption\":\"\",\"fFunctions\":{\"_typename\":\"TList\",\"name\":\"TList\",\"arr\":[],\"opt\":[]},\"fBufferSize\":0,\"fBuffer\":[],\"fBinStatErrOpt\":0,\"fStatOverflows\":2,\"fArray\":[0,0,0,0,0,0,0,0,0,0,0,0,0,0,0,0,0,0,0,0,0,0,0,0,0,0,0,0,0,0,0,0,0,0,0,0,0,0,0,0,0,0,0,0,0,0,0,0,0,0,0,0,0,0,0,0,0,0,0,0,0,0,0,0,0,0,0,0,0,0,0,0,0,0,0,0,0,0,0,0,0,0,0,0,0,0,0,0,0,0,0,0,0,0,0,0,0,0,0,0,0,0]},\"fMinimum\":-1111,\"fMaximum\":-1111,\"fEXlow\":[0.0600000000000001,0.0600000000000001,0.0600000000000001,0.0600000000000001,0.0600000000000001,0.0600000000000001,0.0600000000000001,0.0600000000000001,0.0600000000000001,0.0600000000000001,0.0600000000000001,0.0600000000000001,0.0600000000000001,0.0600000000000001,0.0600000000000001,0.0600000000000001,0.0600000000000001,0.0600000000000001,0.0600000000000001,0.0600000000000001,0.0600000000000001,0.0600000000000001,0.0600000000000001,0.0600000000000001,0.0600000000000001,0.0600000000000001,0.0600000000000001,0.0600000000000001],\"fEXhigh\":[0.0599999999999999,0.0599999999999999,0.0599999999999999,0.0599999999999999,0.0599999999999999,0.0599999999999999,0.0599999999999999,0.0599999999999999,0.0599999999999999,0.0599999999999999,0.0599999999999999,0.0599999999999999,0.0599999999999999,0.0599999999999999,0.0599999999999999,0.0599999999999999,0.0599999999999999,0.0599999999999999,0.0599999999999999,0.0599999999999999,0.0599999999999999,0.0599999999999999,0.0599999999999999,0.0599999999999999,0.0599999999999999,0.0599999999999999,0.0599999999999999,0.0599999999999999],\"fEYlow\":[0.0116450228556589,0.00975227381207955,0.00775787826084384,0.00619703658380855,0.00574409527727293,0.00421702732316198,0.00402385830928065,0.00348646671287012,0.00370312914122328,0.00360933093543903,0.00395677816922424,0.004851299787064,0.0136778036705929,0,0,0.0129934158959996,0.00447566326839921,0.00391194414394025,0.00317245432130853,0.00344835772236829,0.0039565559574547,0.00431926152266227,0.00489380049187171,0.00521502405307717,0.00599158146354961,0.00765210485429946,0.00974512338472067,0.0112377041792576],\"fEYhigh\":[0.0110200868408696,0.00902385220719693,0.00697180759068372,0.00535498701413384,0.00491016239638675,0.00334809809904135,0.0031720620420983,0.00258824318677908,0.00287241672464256,0.00271472249923355,0.00314046057021433,0.00407895511381917,0.0139375934535548,0.0409781316010068,0.0559082515517007,0.0132653118741208,0.00366948823605884,0.0030834140442686,0.00227997159116233,0.00255983911332491,0.00311874841567039,0.00345149098102659,0.00407621106536959,0.00434560343192514,0.00522029337457031,0.00687564975039456,0.00906152193990761,0.0106237888207885]},{\"_typename\":\"TGraphAsymmErrors\",\"fUniqueID\":0,\"fBits\":50332680,\"fName\":\"0f9320\",\"fTitle\":\"; #eta^{GEN};\",\"fLineColor\":628,\"fLineStyle\":1,\"fLineWidth\":1,\"fFillColor\":0,\"fFillStyle\":1001,\"fMarkerColor\":628,\"fMarkerStyle\":21,\"fMarkerSize\":0.5,\"fNpoints\":28,\"fX\":[-2.94,-2.82,-2.7,-2.58,-2.46,-2.34,-2.22,-2.1,-1.98,-1.86,-1.74,-1.62,-1.5,-1.38,1.38,1.5,1.62,1.74,1.86,1.98,2.1,2.22,2.34,2.46,2.58,2.7,2.82,2.94],\"fY\":[0,0,0,0,0.268852459016393,0.8576,0.908736349453978,0.902303415409055,0.891647855530474,0.908366533864542,0.895723930982746,0.884187082405345,0.305355715427658,0,0,0.292846497764531,0.886191198786039,0.896891584533738,0.907680372381691,0.917517674783975,0.898006134969325,0.905296950240771,0.870413739266198,0.263946711074105,0,0,0,0],\"fFunctions\":{\"_typename\":\"TList\",\"name\":\"TList\",\"arr\":[],\"opt\":[]},\"fHistogram\":{\"_typename\":\"TH1F\",\"fUniqueID\":0,\"fBits\":50332160,\"fName\":\"0f9320\",\"fTitle\":\"\",\"fLineColor\":602,\"fLineStyle\":1,\"fLineWidth\":1,\"fFillColor\":0,\"fFillStyle\":1001,\"fMarkerColor\":1,\"fMarkerStyle\":1,\"fMarkerSize\":1,\"fNcells\":102,\"fXaxis\":{\"_typename\":\"TAxis\",\"fUniqueID\":0,\"fBits\":50331656,\"fName\":\"xaxis\",\"fTitle\":\" #eta^{GEN}\",\"fNdivisions\":510,\"fAxisColor\":1,\"fLabelColor\":1,\"fLabelFont\":42,\"fLabelOffset\":0.005,\"fLabelSize\":0.035,\"fTickLength\":0.03,\"fTitleOffset\":1.4,\"fTitleSize\":0.035,\"fTitleColor\":1,\"fTitleFont\":42,\"fNbins\":100,\"fXmin\":-3.6,\"fXmax\":3.6,\"fXbins\":[],\"fFirst\":0,\"fLast\":0,\"fBits2\":0,\"fTimeDisplay\":false,\"fTimeFormat\":\"\",\"fLabels\":null,\"fModLabs\":null},\"fYaxis\":{\"_typename\":\"TAxis\",\"fUniqueID\":0,\"fBits\":50331656,\"fName\":\"yaxis\",\"fTitle\":\"\",\"fNdivisions\":510,\"fAxisColor\":1,\"fLabelColor\":1,\"fLabelFont\":42,\"fLabelOffset\":0.005,\"fLabelSize\":0.035,\"fTickLength\":0.03,\"fTitleOffset\":0,\"fTitleSize\":0.035,\"fTitleColor\":1,\"fTitleFont\":42,\"fNbins\":1,\"fXmin\":0,\"fXmax\":1.01780528776736,\"fXbins\":[],\"fFirst\":0,\"fLast\":0,\"fBits2\":0,\"fTimeDisplay\":false,\"fTimeFormat\":\"\",\"fLabels\":null,\"fModLabs\":null},\"fZaxis\":{\"_typename\":\"TAxis\",\"fUniqueID\":0,\"fBits\":50331648,\"fName\":\"zaxis\",\"fTitle\":\"\",\"fNdivisions\":510,\"fAxisColor\":1,\"fLabelColor\":1,\"fLabelFont\":42,\"fLabelOffset\":0.005,\"fLabelSize\":0.035,\"fTickLength\":0.03,\"fTitleOffset\":1,\"fTitleSize\":0.035,\"fTitleColor\":1,\"fTitleFont\":42,\"fNbins\":1,\"fXmin\":0,\"fXmax\":1,\"fXbins\":[],\"fFirst\":0,\"fLast\":0,\"fBits2\":0,\"fTimeDisplay\":false,\"fTimeFormat\":\"\",\"fLabels\":null,\"fModLabs\":null},\"fBarOffset\":0,\"fBarWidth\":1000,\"fEntries\":0,\"fTsumw\":0,\"fTsumw2\":0,\"fTsumwx\":0,\"fTsumwx2\":0,\"fMaximum\":1.1,\"fMinimum\":0.6,\"fNormFactor\":0,\"fContour\":[],\"fSumw2\":[],\"fOption\":\"\",\"fFunctions\":{\"_typename\":\"TList\",\"name\":\"TList\",\"arr\":[],\"opt\":[]},\"fBufferSize\":0,\"fBuffer\":[],\"fBinStatErrOpt\":0,\"fStatOverflows\":2,\"fArray\":[0,0,0,0,0,0,0,0,0,0,0,0,0,0,0,0,0,0,0,0,0,0,0,0,0,0,0,0,0,0,0,0,0,0,0,0,0,0,0,0,0,0,0,0,0,0,0,0,0,0,0,0,0,0,0,0,0,0,0,0,0,0,0,0,0,0,0,0,0,0,0,0,0,0,0,0,0,0,0,0,0,0,0,0,0,0,0,0,0,0,0,0,0,0,0,0,0,0,0,0,0,0]},\"fMinimum\":-1111,\"fMaximum\":-1111,\"fEXlow\":[0.0600000000000001,0.0600000000000001,0.0600000000000001,0.0600000000000001,0.0600000000000001,0.0600000000000001,0.0600000000000001,0.0600000000000001,0.0600000000000001,0.0600000000000001,0.0600000000000001,0.0600000000000001,0.0600000000000001,0.0600000000000001,0.0600000000000001,0.0600000000000001,0.0600000000000001,0.0600000000000001,0.0600000000000001,0.0600000000000001,0.0600000000000001,0.0600000000000001,0.0600000000000001,0.0600000000000001,0.0600000000000001,0.0600000000000001,0.0600000000000001,0.0600000000000001],\"fEXhigh\":[0.0599999999999999,0.0599999999999999,0.0599999999999999,0.0599999999999999,0.0599999999999999,0.0599999999999999,0.0599999999999999,0.0599999999999999,0.0599999999999999,0.0599999999999999,0.0599999999999999,0.0599999999999999,0.0599999999999999,0.0599999999999999,0.0599999999999999,0.0599999999999999,0.0599999999999999,0.0599999999999999,0.0599999999999999,0.0599999999999999,0.0599999999999999,0.0599999999999999,0.0599999999999999,0.0599999999999999,0.0599999999999999,0.0599999999999999,0.0599999999999999,0.0599999999999999],\"fEYlow\":[0,0,0,0,0.0129031980276816,0.0105802139512214,0.00876801942502092,0.00909975456904111,0.0092098303899385,0.00888428076420822,0.00905595699169603,0.00938701796484764,0.0132558214491628,0,0,0.0126316485154949,0.0094323051301094,0.00906685711312283,0.00878275841195686,0.00844894357696913,0.00908351131560148,0.0090377688094887,0.0100739273331611,0.0129274635171441,0,0,0,0],\"fEYhigh\":[0.00162502242828117,0.00160658722076375,0.00155239854458307,0.00154588090587456,0.0132941690939021,0.00998517381632491,0.00809972851301888,0.00843063099301866,0.00859469359482545,0.00820195711956129,0.00843587493716258,0.00879254682906105,0.0135763989055701,0.0409781316010068,0.0559082515517007,0.0129494878388886,0.00882112466772855,0.00843806890645105,0.0081200538043974,0.0077598595499907,0.00844541437665125,0.00835604007806201,0.00947181972247058,0.0133332209351957,0.00142502678595032,0.00153045963454496,0.00153556575799479,0.00156560009943323]},{\"_typename\":\"TGraphAsymmErrors\",\"fUniqueID\":0,\"fBits\":50332680,\"fName\":\"41aa54\",\"fTitle\":\"; #eta^{GEN};\",\"fLineColor\":417,\"fLineStyle\":1,\"fLineWidth\":1,\"fFillColor\":0,\"fFillStyle\":1001,\"fMarkerColor\":417,\"fMarkerStyle\":22,\"fMarkerSize\":0.5,\"fNpoints\":28,\"fX\":[-2.94,-2.82,-2.7,-2.58,-2.46,-2.34,-2.22,-2.1,-1.98,-1.86,-1.74,-1.62,-1.5,-1.38,1.38,1.5,1.62,1.74,1.86,1.98,2.1,2.22,2.34,2.46,2.58,2.7,2.82,2.94],\"fY\":[0,0,0,0,0.267213114754098,0.8536,0.899375975039002,0.891183478951549,0.884123401053424,0.89800796812749,0.891972993248312,0.889383815887157,0.310151878497202,0,0,0.307004470938897,0.889984825493171,0.896133434420015,0.899146625290923,0.913589945011783,0.894171779141104,0.900481540930979,0.866510538641686,0.261448792672773,0,0,0,0],\"fFunctions\":{\"_typename\":\"TList\",\"name\":\"TList\",\"arr\":[],\"opt\":[]},\"fHistogram\":{\"_typename\":\"TH1F\",\"fUniqueID\":0,\"fBits\":50332160,\"fName\":\"41aa54\",\"fTitle\":\"\",\"fLineColor\":602,\"fLineStyle\":1,\"fLineWidth\":1,\"fFillColor\":0,\"fFillStyle\":1001,\"fMarkerColor\":1,\"fMarkerStyle\":1,\"fMarkerSize\":1,\"fNcells\":102,\"fXaxis\":{\"_typename\":\"TAxis\",\"fUniqueID\":0,\"fBits\":50331656,\"fName\":\"xaxis\",\"fTitle\":\" #eta^{GEN}\",\"fNdivisions\":510,\"fAxisColor\":1,\"fLabelColor\":1,\"fLabelFont\":42,\"fLabelOffset\":0.005,\"fLabelSize\":0.035,\"fTickLength\":0.03,\"fTitleOffset\":1.4,\"fTitleSize\":0.035,\"fTitleColor\":1,\"fTitleFont\":42,\"fNbins\":100,\"fXmin\":-3.6,\"fXmax\":3.6,\"fXbins\":[],\"fFirst\":0,\"fLast\":0,\"fBits2\":0,\"fTimeDisplay\":false,\"fTimeFormat\":\"\",\"fLabels\":null,\"fModLabs\":null},\"fYaxis\":{\"_typename\":\"TAxis\",\"fUniqueID\":0,\"fBits\":50331656,\"fName\":\"yaxis\",\"fTitle\":\"\",\"fNdivisions\":510,\"fAxisColor\":1,\"fLabelColor\":1,\"fLabelFont\":42,\"fLabelOffset\":0.005,\"fLabelSize\":0.035,\"fTickLength\":0.03,\"fTitleOffset\":0,\"fTitleSize\":0.035,\"fTitleColor\":1,\"fTitleFont\":42,\"fNbins\":1,\"fXmin\":0,\"fXmax\":1.01366944989077,\"fXbins\":[],\"fFirst\":0,\"fLast\":0,\"fBits2\":0,\"fTimeDisplay\":false,\"fTimeFormat\":\"\",\"fLabels\":null,\"fModLabs\":null},\"fZaxis\":{\"_typename\":\"TAxis\",\"fUniqueID\":0,\"fBits\":50331648,\"fName\":\"zaxis\",\"fTitle\":\"\",\"fNdivisions\":510,\"fAxisColor\":1,\"fLabelColor\":1,\"fLabelFont\":42,\"fLabelOffset\":0.005,\"fLabelSize\":0.035,\"fTickLength\":0.03,\"fTitleOffset\":1,\"fTitleSize\":0.035,\"fTitleColor\":1,\"fTitleFont\":42,\"fNbins\":1,\"fXmin\":0,\"fXmax\":1,\"fXbins\":[],\"fFirst\":0,\"fLast\":0,\"fBits2\":0,\"fTimeDisplay\":false,\"fTimeFormat\":\"\",\"fLabels\":null,\"fModLabs\":null},\"fBarOffset\":0,\"fBarWidth\":1000,\"fEntries\":0,\"fTsumw\":0,\"fTsumw2\":0,\"fTsumwx\":0,\"fTsumwx2\":0,\"fMaximum\":1.1,\"fMinimum\":0.6,\"fNormFactor\":0,\"fContour\":[],\"fSumw2\":[],\"fOption\":\"\",\"fFunctions\":{\"_typename\":\"TList\",\"name\":\"TList\",\"arr\":[],\"opt\":[]},\"fBufferSize\":0,\"fBuffer\":[],\"fBinStatErrOpt\":0,\"fStatOverflows\":2,\"fArray\":[0,0,0,0,0,0,0,0,0,0,0,0,0,0,0,0,0,0,0,0,0,0,0,0,0,0,0,0,0,0,0,0,0,0,0,0,0,0,0,0,0,0,0,0,0,0,0,0,0,0,0,0,0,0,0,0,0,0,0,0,0,0,0,0,0,0,0,0,0,0,0,0,0,0,0,0,0,0,0,0,0,0,0,0,0,0,0,0,0,0,0,0,0,0,0,0,0,0,0,0,0,0]},\"fMinimum\":-1111,\"fMaximum\":-1111,\"fEXlow\":[0.0600000000000001,0.0600000000000001,0.0600000000000001,0.0600000000000001,0.0600000000000001,0.0600000000000001,0.0600000000000001,0.0600000000000001,0.0600000000000001,0.0600000000000001,0.0600000000000001,0.0600000000000001,0.0600000000000001,0.0600000000000001,0.0600000000000001,0.0600000000000001,0.0600000000000001,0.0600000000000001,0.0600000000000001,0.0600000000000001,0.0600000000000001,0.0600000000000001,0.0600000000000001,0.0600000000000001,0.0600000000000001,0.0600000000000001,0.0600000000000001,0.0600000000000001],\"fEXhigh\":[0.0599999999999999,0.0599999999999999,0.0599999999999999,0.0599999999999999,0.0599999999999999,0.0599999999999999,0.0599999999999999,0.0599999999999999,0.0599999999999999,0.0599999999999999,0.0599999999999999,0.0599999999999999,0.0599999999999999,0.0599999999999999,0.0599999999999999,0.0599999999999999,0.0599999999999999,0.0599999999999999,0.0599999999999999,0.0599999999999999,0.0599999999999999,0.0599999999999999,0.0599999999999999,0.0599999999999999,0.0599999999999999,0.0599999999999999,0.0599999999999999,0.0599999999999999],\"fEYlow\":[0,0,0,0,0.0128772451454017,0.0106910791561839,0.00911801262709622,0.00949804962616885,0.00945702978495755,0.00927319490514866,0.00918401123986257,0.00921864146181139,0.013316216456095,0,0,0.0128111850284681,0.00930702018681817,0.00909335187031934,0.0090995029880514,0.00860964479224102,0.00921786748250863,0.00921874399034306,0.0101893536075852,0.0128864723840055,0,0,0,0],\"fEYhigh\":[0.00162502242828117,0.00160658722076375,0.00155239854458307,0.00154588090587456,0.0132710130116246,0.0101029576978485,0.00846631973130429,0.00884879847836295,0.00885445043321531,0.00860963160062667,0.00857021499430632,0.00861563002371513,0.0136288543577764,0.0409781316010068,0.0559082515517007,0.0131071856552982,0.0086894519469356,0.00846585298867253,0.00845182695730606,0.00792773670709745,0.00858636664132717,0.00854579751872853,0.00959388920982951,0.0132965634719531,0.00142502678595032,0.00153045963454496,0.00153556575799479,0.00156560009943323]},{\"_typename\":\"TLegend\",\"fUniqueID\":0,\"fBits\":50331656,\"fLineColor\":1,\"fLineStyle\":1,\"fLineWidth\":1,\"fFillColor\":0,\"fFillStyle\":0,\"fX1\":-3.3081080654749,\"fY1\":0.645454546774011,\"fX2\":-0.778378368347034,\"fY2\":0.742857144412227,\"fX1NDC\":0.16,\"fY1NDC\":0.2,\"fX2NDC\":0.42,\"fY2NDC\":0.35,\"fBorderSize\":0,\"fInit\":1,\"fShadowColor\":1,\"fCornerRadius\":0,\"fOption\":\"brNDC\",\"fName\":\"TPave\",\"fTextAngle\":0,\"fTextSize\":0.03,\"fTextAlign\":12,\"fTextColor\":1,\"fTextFont\":42,\"fPrimitives\":{\"_typename\":\"TList\",\"name\":\"TList\",\"arr\":[{\"_typename\":\"TLegendEntry\",\"fUniqueID\":0,\"fBits\":50331656,\"fTextAngle\":0,\"fTextSize\":0,\"fTextAlign\":0,\"fTextColor\":0,\"fTextFont\":42,\"fLineColor\":1,\"fLineStyle\":1,\"fLineWidth\":1,\"fFillColor\":0,\"fFillStyle\":0,\"fMarkerColor\":1,\"fMarkerStyle\":8,\"fMarkerSize\":0.5,\"fObject\":{\"$ref\":3},\"fLabel\":\"EG, hwQual 5, p_{T}^{L1}>=25GeV\",\"fOption\":\"P\"},{\"_typename\":\"TLegendEntry\",\"fUniqueID\":0,\"fBits\":50331656,\"fTextAngle\":0,\"fTextSize\":0,\"fTextAlign\":0,\"fTextColor\":0,\"fTextFont\":42,\"fLineColor\":1,\"fLineStyle\":1,\"fLineWidth\":1,\"fFillColor\":0,\"fFillStyle\":0,\"fMarkerColor\":628,\"fMarkerStyle\":21,\"fMarkerSize\":0.5,\"fObject\":{\"$ref\":10},\"fLabel\":\"TkEle Ell. match, hwQual 5, p_{T}^{L1}>=25GeV\",\"fOption\":\"P\"},{\"_typename\":\"TLegendEntry\",\"fUniqueID\":0,\"fBits\":50331656,\"fTextAngle\":0,\"fTextSize\":0,\"fTextAlign\":0,\"fTextColor\":0,\"fTextFont\":42,\"fLineColor\":1,\"fLineStyle\":1,\"fLineWidth\":1,\"fFillColor\":0,\"fFillStyle\":0,\"fMarkerColor\":417,\"fMarkerStyle\":22,\"fMarkerSize\":0.5,\"fObject\":{\"$ref\":17},\"fLabel\":\"TkEle Ell. match, hwQual 5, Iso0p1\",\"fOption\":\"P\"}],\"opt\":[\"P\",\"P\",\"P\"]},\"fEntrySeparation\":0.1,\"fMargin\":0.25,\"fNColumns\":1,\"fColumnSeparation\":0},{\"_typename\":\"TLatex\",\"fUniqueID\":0,\"fBits\":50348040,\"fName\":\"\",\"fTitle\":\"PU200, p_{T}^{GEN}>=30GeV\",\"fTextAngle\":0,\"fTextSize\":0.03,\"fTextAlign\":11,\"fTextColor\":1,\"fTextFont\":62,\"fX\":0.15,\"fY\":0.85,\"fLineColor\":1,\"fLineStyle\":1,\"fLineWidth\":2,\"fLimitFactorSize\":3,\"fOriginSize\":0.0299999993294477},{\"_typename\":\"TLatex\",\"fUniqueID\":0,\"fBits\":50348041,\"fName\":\"\",\"fTitle\":\"#scale[1.5]{CMS} #scale[1.]{Phase-2 Simulation}\",\"fTextAngle\":0,\"fTextSize\":0.03,\"fTextAlign\":11,\"fTextColor\":1,\"fTextFont\":62,\"fX\":0.13,\"fY\":0.91,\"fLineColor\":1,\"fLineStyle\":1,\"fLineWidth\":2,\"fLimitFactorSize\":3,\"fOriginSize\":0.0299999993294477},{\"_typename\":\"TLatex\",\"fUniqueID\":0,\"fBits\":50348041,\"fName\":\"\",\"fTitle\":\"14TeV, 200 PU\",\"fTextAngle\":0,\"fTextSize\":0.03,\"fTextAlign\":11,\"fTextColor\":1,\"fTextFont\":62,\"fX\":0.69,\"fY\":0.91,\"fLineColor\":1,\"fLineStyle\":1,\"fLineWidth\":2,\"fLimitFactorSize\":3,\"fOriginSize\":0.0299999993294477},{\"_typename\":\"TLatex\",\"fUniqueID\":0,\"fBits\":50331656,\"fName\":\"\",\"fTitle\":\"\",\"fTextAngle\":0,\"fTextSize\":0.03,\"fTextAlign\":11,\"fTextColor\":1,\"fTextFont\":62,\"fX\":0,\"fY\":0,\"fLineColor\":1,\"fLineStyle\":1,\"fLineWidth\":2,\"fLimitFactorSize\":3,\"fOriginSize\":0.04},{\"_typename\":\"TLine\",\"fUniqueID\":0,\"fBits\":50331656,\"fLineColor\":1,\"fLineStyle\":2,\"fLineWidth\":1,\"fX1\":-2.8,\"fY1\":0.6,\"fX2\":-2.8,\"fY2\":1.1},{\"_typename\":\"TLine\",\"fUniqueID\":0,\"fBits\":50331656,\"fLineColor\":1,\"fLineStyle\":2,\"fLineWidth\":1,\"fX1\":-2.4,\"fY1\":0.6,\"fX2\":-2.4,\"fY2\":1.1},{\"_typename\":\"TLine\",\"fUniqueID\":0,\"fBits\":50331656,\"fLineColor\":1,\"fLineStyle\":2,\"fLineWidth\":1,\"fX1\":-1.7,\"fY1\":0.6,\"fX2\":-1.7,\"fY2\":1.1},{\"_typename\":\"TLine\",\"fUniqueID\":0,\"fBits\":50331656,\"fLineColor\":1,\"fLineStyle\":2,\"fLineWidth\":1,\"fX1\":-1.52,\"fY1\":0.6,\"fX2\":-1.52,\"fY2\":1.1},{\"_typename\":\"TLine\",\"fUniqueID\":0,\"fBits\":50331656,\"fLineColor\":1,\"fLineStyle\":2,\"fLineWidth\":1,\"fX1\":1.52,\"fY1\":0.6,\"fX2\":1.52,\"fY2\":1.1},{\"_typename\":\"TLine\",\"fUniqueID\":0,\"fBits\":50331656,\"fLineColor\":1,\"fLineStyle\":2,\"fLineWidth\":1,\"fX1\":1.7,\"fY1\":0.6,\"fX2\":1.7,\"fY2\":1.1},{\"_typename\":\"TLine\",\"fUniqueID\":0,\"fBits\":50331656,\"fLineColor\":1,\"fLineStyle\":2,\"fLineWidth\":1,\"fX1\":2.4,\"fY1\":0.6,\"fX2\":2.4,\"fY2\":1.1},{\"_typename\":\"TLine\",\"fUniqueID\":0,\"fBits\":50331656,\"fLineColor\":1,\"fLineStyle\":2,\"fLineWidth\":1,\"fX1\":2.8,\"fY1\":0.6,\"fX2\":2.8,\"fY2\":1.1}],\"opt\":[\"\",\"pa\",\",p\",\",p\",\"same\",\"same\",\"\",\"\",\"same\",\"same\",\"same\",\"same\",\"same\",\"same\",\"same\",\"same\",\"same\"]},\"fExecs\":null,\"fName\":\"c_75909c\",\"fTitle\":\"c_75909c\",\"fNumPaletteColor\":0,\"fNextPaletteColor\":0,\"fDISPLAY\":\"$DISPLAY\",\"fDoubleBuffer\":0,\"fRetained\":true,\"fXsizeUser\":0,\"fYsizeUser\":0,\"fXsizeReal\":20,\"fYsizeReal\":20,\"fWindowTopX\":0,\"fWindowTopY\":0,\"fWindowWidth\":0,\"fWindowHeight\":0,\"fCw\":596,\"fCh\":572,\"fCatt\":{\"_typename\":\"TAttCanvas\",\"fXBetween\":2,\"fYBetween\":2,\"fTitleFromTop\":1.2,\"fXdate\":0.2,\"fYdate\":0.3,\"fAdate\":1},\"kMoveOpaque\":true,\"kResizeOpaque\":true,\"fHighLightColor\":2,\"fBatch\":true,\"kShowEventStatus\":false,\"kAutoExec\":true,\"kMenuBar\":true});\n",
       "       Core.draw(\"root_plot_9\", obj, \"\");\n",
       "     }\n",
       " );\n",
       "</script>\n"
      ],
      "text/plain": [
       "<IPython.core.display.HTML object>"
      ]
     },
     "metadata": {},
     "output_type": "display_data"
    }
   ],
   "source": [
    "hsets, labels, text = hplot.get_histo(histos.HistoSetEff, sample, ['PU200'], ['EG','TkEleEL'], ['EGq5Pt25', 'EGq5Iso0p1'], 'GENPt30', debug=False)\n",
    "draw([his.h_eff.h_eta.CreateGraph() for his in hsets], labels, text=text, min_y=0.6, max_y=1.1, v_lines=[-2.8, -2.4, -1.7, -1.52, 1.52, 1.7, 2.4, 2.8],\n",
    "     do_write=True, write_name='egammaEndcap_TkEle_EGq4Pt30_GENPt40_hEffVEta')\n"
   ]
  },
  {
   "cell_type": "code",
   "execution_count": 34,
   "metadata": {},
   "outputs": [
    {
     "data": {
      "text/plain": [
       "<drawingTools.DrawMachine at 0x11a5cc790>"
      ]
     },
     "execution_count": 34,
     "metadata": {},
     "output_type": "execute_result"
    },
    {
     "data": {
      "text/html": [
       "\n",
       "<div id=\"root_plot_10\"\n",
       "     style=\"width: 796px; height: 572px\">\n",
       "</div>\n",
       "\n",
       "<script>\n",
       " requirejs.config({\n",
       "     paths: {\n",
       "       'JSRootCore' : 'https://root.cern.ch/js/notebook//scripts/JSRootCore',\n",
       "     }\n",
       "   });\n",
       " require(['JSRootCore'],\n",
       "     function(Core) {\n",
       "       var obj = Core.JSONR_unref({\"_typename\":\"TCanvas\",\"fUniqueID\":0,\"fBits\":53673992,\"fLineColor\":1,\"fLineStyle\":1,\"fLineWidth\":1,\"fFillColor\":0,\"fFillStyle\":1001,\"fLeftMargin\":0.13,\"fRightMargin\":0.3,\"fBottomMargin\":0.13,\"fTopMargin\":0.1,\"fXfile\":2,\"fYfile\":2,\"fAfile\":1,\"fXstat\":0.99,\"fYstat\":0.99,\"fAstat\":2,\"fFrameFillColor\":0,\"fFrameLineColor\":1,\"fFrameFillStyle\":1001,\"fFrameLineStyle\":1,\"fFrameLineWidth\":1,\"fFrameBorderSize\":1,\"fFrameBorderMode\":0,\"fX1\":-5.24210522353154,\"fY1\":0.515584416589722,\"fX2\":7.38947388234231,\"fY2\":1.16493506751116,\"fXtoAbsPixelk\":330.340043357658,\"fXtoPixelk\":330.340043357658,\"fXtoPixel\":63.0166658759117,\"fYtoAbsPixelk\":1026.16804978691,\"fYtoPixelk\":1026.16804978691,\"fYtoPixel\":-880.879997869134,\"fUtoAbsPixelk\":5e-5,\"fUtoPixelk\":5e-5,\"fUtoPixel\":796,\"fVtoAbsPixelk\":572.00005,\"fVtoPixelk\":572,\"fVtoPixel\":-572,\"fAbsPixeltoXk\":-5.24210522353154,\"fPixeltoXk\":-5.24210522353154,\"fPixeltoX\":0.0158688179722033,\"fAbsPixeltoYk\":1.16493506751116,\"fPixeltoYk\":0.515584416589722,\"fPixeltoY\":-0.00113522841070182,\"fXlowNDC\":0,\"fYlowNDC\":0,\"fXUpNDC\":0,\"fYUpNDC\":0,\"fWNDC\":1,\"fHNDC\":1,\"fAbsXlowNDC\":0,\"fAbsYlowNDC\":0,\"fAbsWNDC\":1,\"fAbsHNDC\":1,\"fUxmin\":-3.6,\"fUymin\":0.6,\"fUxmax\":3.6,\"fUymax\":1.1,\"fTheta\":30,\"fPhi\":30,\"fAspectRatio\":0,\"fNumber\":0,\"fTickx\":0,\"fTicky\":0,\"fLogx\":0,\"fLogy\":0,\"fLogz\":0,\"fPadPaint\":0,\"fCrosshair\":0,\"fCrosshairPos\":0,\"fBorderSize\":2,\"fBorderMode\":0,\"fModified\":false,\"fGridx\":false,\"fGridy\":false,\"fAbsCoord\":false,\"fEditable\":true,\"fFixedAspectRatio\":false,\"fPrimitives\":{\"_typename\":\"TList\",\"name\":\"TList\",\"arr\":[{\"_typename\":\"TFrame\",\"fUniqueID\":0,\"fBits\":50331656,\"fLineColor\":1,\"fLineStyle\":1,\"fLineWidth\":1,\"fFillColor\":0,\"fFillStyle\":1001,\"fX1\":-3.6,\"fY1\":0.6,\"fX2\":3.6,\"fY2\":1.1,\"fBorderSize\":1,\"fBorderMode\":0},{\"_typename\":\"TGraphAsymmErrors\",\"fUniqueID\":0,\"fBits\":50332680,\"fName\":\"0f7542\",\"fTitle\":\"; #eta^{GEN};\",\"fLineColor\":1,\"fLineStyle\":1,\"fLineWidth\":1,\"fFillColor\":0,\"fFillStyle\":1001,\"fMarkerColor\":1,\"fMarkerStyle\":8,\"fMarkerSize\":0.5,\"fNpoints\":28,\"fX\":[-2.94,-2.82,-2.7,-2.58,-2.46,-2.34,-2.22,-2.1,-1.98,-1.86,-1.74,-1.62,-1.5,-1.38,1.38,1.5,1.62,1.74,1.86,1.98,2.1,2.22,2.34,2.46,2.58,2.7,2.82,2.94],\"fY\":[0,0,0,0,0.268852459016393,0.8552,0.909516380655226,0.902303415409055,0.889390519187359,0.901195219123506,0.890472618154539,0.870824053452116,0.298960831334932,0,0,0.289865871833085,0.873292867981791,0.8855193328279,0.900698215671063,0.911233307148468,0.896472392638037,0.902086677367576,0.864168618266979,0.262281432139883,0,0,0,0],\"fFunctions\":{\"_typename\":\"TList\",\"name\":\"TList\",\"arr\":[],\"opt\":[]},\"fHistogram\":{\"_typename\":\"TH1F\",\"fUniqueID\":0,\"fBits\":50332160,\"fName\":\"0f7542\",\"fTitle\":\"\",\"fLineColor\":602,\"fLineStyle\":1,\"fLineWidth\":1,\"fFillColor\":0,\"fFillStyle\":1001,\"fMarkerColor\":1,\"fMarkerStyle\":1,\"fMarkerSize\":1,\"fNcells\":102,\"fXaxis\":{\"_typename\":\"TAxis\",\"fUniqueID\":0,\"fBits\":50331656,\"fName\":\"xaxis\",\"fTitle\":\" #eta^{GEN}\",\"fNdivisions\":510,\"fAxisColor\":1,\"fLabelColor\":1,\"fLabelFont\":42,\"fLabelOffset\":0.005,\"fLabelSize\":0.035,\"fTickLength\":0.03,\"fTitleOffset\":1.4,\"fTitleSize\":0.035,\"fTitleColor\":1,\"fTitleFont\":42,\"fNbins\":100,\"fXmin\":-3.6,\"fXmax\":3.6,\"fXbins\":[],\"fFirst\":0,\"fLast\":0,\"fBits2\":0,\"fTimeDisplay\":false,\"fTimeFormat\":\"\",\"fLabels\":null,\"fModLabs\":null},\"fYaxis\":{\"_typename\":\"TAxis\",\"fUniqueID\":0,\"fBits\":50331656,\"fName\":\"yaxis\",\"fTitle\":\"\",\"fNdivisions\":510,\"fAxisColor\":1,\"fLabelColor\":1,\"fLabelFont\":42,\"fLabelOffset\":0.005,\"fLabelSize\":0.035,\"fTickLength\":0.03,\"fTitleOffset\":0,\"fTitleSize\":0.035,\"fTitleColor\":1,\"fTitleFont\":42,\"fNbins\":1,\"fXmin\":0,\"fXmax\":1.0111853422186,\"fXbins\":[],\"fFirst\":0,\"fLast\":0,\"fBits2\":0,\"fTimeDisplay\":false,\"fTimeFormat\":\"\",\"fLabels\":null,\"fModLabs\":null},\"fZaxis\":{\"_typename\":\"TAxis\",\"fUniqueID\":0,\"fBits\":50331648,\"fName\":\"zaxis\",\"fTitle\":\"\",\"fNdivisions\":510,\"fAxisColor\":1,\"fLabelColor\":1,\"fLabelFont\":42,\"fLabelOffset\":0.005,\"fLabelSize\":0.035,\"fTickLength\":0.03,\"fTitleOffset\":1,\"fTitleSize\":0.035,\"fTitleColor\":1,\"fTitleFont\":42,\"fNbins\":1,\"fXmin\":0,\"fXmax\":1,\"fXbins\":[],\"fFirst\":0,\"fLast\":0,\"fBits2\":0,\"fTimeDisplay\":false,\"fTimeFormat\":\"\",\"fLabels\":null,\"fModLabs\":null},\"fBarOffset\":0,\"fBarWidth\":1000,\"fEntries\":0,\"fTsumw\":0,\"fTsumw2\":0,\"fTsumwx\":0,\"fTsumwx2\":0,\"fMaximum\":1.1,\"fMinimum\":0.6,\"fNormFactor\":0,\"fContour\":[],\"fSumw2\":[],\"fOption\":\"\",\"fFunctions\":{\"_typename\":\"TList\",\"name\":\"TList\",\"arr\":[],\"opt\":[]},\"fBufferSize\":0,\"fBuffer\":[],\"fBinStatErrOpt\":0,\"fStatOverflows\":2,\"fArray\":[0,0,0,0,0,0,0,0,0,0,0,0,0,0,0,0,0,0,0,0,0,0,0,0,0,0,0,0,0,0,0,0,0,0,0,0,0,0,0,0,0,0,0,0,0,0,0,0,0,0,0,0,0,0,0,0,0,0,0,0,0,0,0,0,0,0,0,0,0,0,0,0,0,0,0,0,0,0,0,0,0,0,0,0,0,0,0,0,0,0,0,0,0,0,0,0,0,0,0,0,0,0]},\"fMinimum\":-1111,\"fMaximum\":-1111,\"fEXlow\":[0.0600000000000001,0.0600000000000001,0.0600000000000001,0.0600000000000001,0.0600000000000001,0.0600000000000001,0.0600000000000001,0.0600000000000001,0.0600000000000001,0.0600000000000001,0.0600000000000001,0.0600000000000001,0.0600000000000001,0.0600000000000001,0.0600000000000001,0.0600000000000001,0.0600000000000001,0.0600000000000001,0.0600000000000001,0.0600000000000001,0.0600000000000001,0.0600000000000001,0.0600000000000001,0.0600000000000001,0.0600000000000001,0.0600000000000001,0.0600000000000001,0.0600000000000001],\"fEXhigh\":[0.0599999999999999,0.0599999999999999,0.0599999999999999,0.0599999999999999,0.0599999999999999,0.0599999999999999,0.0599999999999999,0.0599999999999999,0.0599999999999999,0.0599999999999999,0.0599999999999999,0.0599999999999999,0.0599999999999999,0.0599999999999999,0.0599999999999999,0.0599999999999999,0.0599999999999999,0.0599999999999999,0.0599999999999999,0.0599999999999999,0.0599999999999999,0.0599999999999999,0.0599999999999999,0.0599999999999999,0.0599999999999999,0.0599999999999999,0.0599999999999999,0.0599999999999999],\"fEYlow\":[0,0,0,0,0.0129031980276816,0.0106470437355545,0.00873775197984605,0.00909975456904111,0.00928528791133487,0.00915659798158819,0.00923432869324892,0.00979508200491142,0.0131727016968649,0,0,0.0125920215213275,0.00983601666699596,0.00945032103243071,0.0090433480519384,0.00870372682252585,0.00913768135521109,0.0091591137528908,0.0102573115417461,0.0129001948161793,0,0,0,0],\"fEYhigh\":[0.00162502242828117,0.00160658722076375,0.00155239854458307,0.00154588090587456,0.0132941690939021,0.0100561569673431,0.00806806547748895,0.00843063099301866,0.00867392993711513,0.00848729624013578,0.00862303834300904,0.00922236676180099,0.0135038709667428,0.0409781316010068,0.0559082515517007,0.0129144624640643,0.00924636435925141,0.00884074087472198,0.00839295500872361,0.00802609486844352,0.0085022270884666,0.00848324761025898,0.00966582331203447,0.0133088411672891,0.00142502678595032,0.00153045963454496,0.00153556575799479,0.00156560009943323]},{\"_typename\":\"TGraphAsymmErrors\",\"fUniqueID\":0,\"fBits\":50332680,\"fName\":\"b14f59\",\"fTitle\":\"; #eta^{GEN};\",\"fLineColor\":628,\"fLineStyle\":1,\"fLineWidth\":1,\"fFillColor\":0,\"fFillStyle\":1001,\"fMarkerColor\":628,\"fMarkerStyle\":21,\"fMarkerSize\":0.5,\"fNpoints\":28,\"fX\":[-2.94,-2.82,-2.7,-2.58,-2.46,-2.34,-2.22,-2.1,-1.98,-1.86,-1.74,-1.62,-1.5,-1.38,1.38,1.5,1.62,1.74,1.86,1.98,2.1,2.22,2.34,2.46,2.58,2.7,2.82,2.94],\"fY\":[0,0,0,0,0.268852459016393,0.8576,0.908736349453978,0.902303415409055,0.891647855530474,0.908366533864542,0.895723930982746,0.884187082405345,0.305355715427658,0,0,0.292846497764531,0.886191198786039,0.896891584533738,0.907680372381691,0.917517674783975,0.898006134969325,0.905296950240771,0.870413739266198,0.263946711074105,0,0,0,0],\"fFunctions\":{\"_typename\":\"TList\",\"name\":\"TList\",\"arr\":[],\"opt\":[]},\"fHistogram\":{\"_typename\":\"TH1F\",\"fUniqueID\":0,\"fBits\":50332160,\"fName\":\"b14f59\",\"fTitle\":\"\",\"fLineColor\":602,\"fLineStyle\":1,\"fLineWidth\":1,\"fFillColor\":0,\"fFillStyle\":1001,\"fMarkerColor\":1,\"fMarkerStyle\":1,\"fMarkerSize\":1,\"fNcells\":102,\"fXaxis\":{\"_typename\":\"TAxis\",\"fUniqueID\":0,\"fBits\":50331656,\"fName\":\"xaxis\",\"fTitle\":\" #eta^{GEN}\",\"fNdivisions\":510,\"fAxisColor\":1,\"fLabelColor\":1,\"fLabelFont\":42,\"fLabelOffset\":0.005,\"fLabelSize\":0.035,\"fTickLength\":0.03,\"fTitleOffset\":1.4,\"fTitleSize\":0.035,\"fTitleColor\":1,\"fTitleFont\":42,\"fNbins\":100,\"fXmin\":-3.6,\"fXmax\":3.6,\"fXbins\":[],\"fFirst\":0,\"fLast\":0,\"fBits2\":0,\"fTimeDisplay\":false,\"fTimeFormat\":\"\",\"fLabels\":null,\"fModLabs\":null},\"fYaxis\":{\"_typename\":\"TAxis\",\"fUniqueID\":0,\"fBits\":50331656,\"fName\":\"yaxis\",\"fTitle\":\"\",\"fNdivisions\":510,\"fAxisColor\":1,\"fLabelColor\":1,\"fLabelFont\":42,\"fLabelOffset\":0.005,\"fLabelSize\":0.035,\"fTickLength\":0.03,\"fTitleOffset\":0,\"fTitleSize\":0.035,\"fTitleColor\":1,\"fTitleFont\":42,\"fNbins\":1,\"fXmin\":0,\"fXmax\":1.01780528776736,\"fXbins\":[],\"fFirst\":0,\"fLast\":0,\"fBits2\":0,\"fTimeDisplay\":false,\"fTimeFormat\":\"\",\"fLabels\":null,\"fModLabs\":null},\"fZaxis\":{\"_typename\":\"TAxis\",\"fUniqueID\":0,\"fBits\":50331648,\"fName\":\"zaxis\",\"fTitle\":\"\",\"fNdivisions\":510,\"fAxisColor\":1,\"fLabelColor\":1,\"fLabelFont\":42,\"fLabelOffset\":0.005,\"fLabelSize\":0.035,\"fTickLength\":0.03,\"fTitleOffset\":1,\"fTitleSize\":0.035,\"fTitleColor\":1,\"fTitleFont\":42,\"fNbins\":1,\"fXmin\":0,\"fXmax\":1,\"fXbins\":[],\"fFirst\":0,\"fLast\":0,\"fBits2\":0,\"fTimeDisplay\":false,\"fTimeFormat\":\"\",\"fLabels\":null,\"fModLabs\":null},\"fBarOffset\":0,\"fBarWidth\":1000,\"fEntries\":0,\"fTsumw\":0,\"fTsumw2\":0,\"fTsumwx\":0,\"fTsumwx2\":0,\"fMaximum\":1.1,\"fMinimum\":0.6,\"fNormFactor\":0,\"fContour\":[],\"fSumw2\":[],\"fOption\":\"\",\"fFunctions\":{\"_typename\":\"TList\",\"name\":\"TList\",\"arr\":[],\"opt\":[]},\"fBufferSize\":0,\"fBuffer\":[],\"fBinStatErrOpt\":0,\"fStatOverflows\":2,\"fArray\":[0,0,0,0,0,0,0,0,0,0,0,0,0,0,0,0,0,0,0,0,0,0,0,0,0,0,0,0,0,0,0,0,0,0,0,0,0,0,0,0,0,0,0,0,0,0,0,0,0,0,0,0,0,0,0,0,0,0,0,0,0,0,0,0,0,0,0,0,0,0,0,0,0,0,0,0,0,0,0,0,0,0,0,0,0,0,0,0,0,0,0,0,0,0,0,0,0,0,0,0,0,0]},\"fMinimum\":-1111,\"fMaximum\":-1111,\"fEXlow\":[0.0600000000000001,0.0600000000000001,0.0600000000000001,0.0600000000000001,0.0600000000000001,0.0600000000000001,0.0600000000000001,0.0600000000000001,0.0600000000000001,0.0600000000000001,0.0600000000000001,0.0600000000000001,0.0600000000000001,0.0600000000000001,0.0600000000000001,0.0600000000000001,0.0600000000000001,0.0600000000000001,0.0600000000000001,0.0600000000000001,0.0600000000000001,0.0600000000000001,0.0600000000000001,0.0600000000000001,0.0600000000000001,0.0600000000000001,0.0600000000000001,0.0600000000000001],\"fEXhigh\":[0.0599999999999999,0.0599999999999999,0.0599999999999999,0.0599999999999999,0.0599999999999999,0.0599999999999999,0.0599999999999999,0.0599999999999999,0.0599999999999999,0.0599999999999999,0.0599999999999999,0.0599999999999999,0.0599999999999999,0.0599999999999999,0.0599999999999999,0.0599999999999999,0.0599999999999999,0.0599999999999999,0.0599999999999999,0.0599999999999999,0.0599999999999999,0.0599999999999999,0.0599999999999999,0.0599999999999999,0.0599999999999999,0.0599999999999999,0.0599999999999999,0.0599999999999999],\"fEYlow\":[0,0,0,0,0.0129031980276816,0.0105802139512214,0.00876801942502092,0.00909975456904111,0.0092098303899385,0.00888428076420822,0.00905595699169603,0.00938701796484764,0.0132558214491628,0,0,0.0126316485154949,0.0094323051301094,0.00906685711312283,0.00878275841195686,0.00844894357696913,0.00908351131560148,0.0090377688094887,0.0100739273331611,0.0129274635171441,0,0,0,0],\"fEYhigh\":[0.00162502242828117,0.00160658722076375,0.00155239854458307,0.00154588090587456,0.0132941690939021,0.00998517381632491,0.00809972851301888,0.00843063099301866,0.00859469359482545,0.00820195711956129,0.00843587493716258,0.00879254682906105,0.0135763989055701,0.0409781316010068,0.0559082515517007,0.0129494878388886,0.00882112466772855,0.00843806890645105,0.0081200538043974,0.0077598595499907,0.00844541437665125,0.00835604007806201,0.00947181972247058,0.0133332209351957,0.00142502678595032,0.00153045963454496,0.00153556575799479,0.00156560009943323]},{\"_typename\":\"TLegend\",\"fUniqueID\":0,\"fBits\":50331656,\"fLineColor\":1,\"fLineStyle\":1,\"fLineWidth\":1,\"fFillColor\":0,\"fFillStyle\":0,\"fX1\":3.60000015058016,\"fY1\":0.976623378743946,\"fX2\":6.75789492704862,\"fY2\":1.06753246987295,\"fX1NDC\":0.7,\"fY1NDC\":0.71,\"fX2NDC\":0.95,\"fY2NDC\":0.85,\"fBorderSize\":0,\"fInit\":1,\"fShadowColor\":1,\"fCornerRadius\":0,\"fOption\":\"brNDC\",\"fName\":\"TPave\",\"fTextAngle\":0,\"fTextSize\":0.03,\"fTextAlign\":12,\"fTextColor\":1,\"fTextFont\":42,\"fPrimitives\":{\"_typename\":\"TList\",\"name\":\"TList\",\"arr\":[{\"_typename\":\"TLegendEntry\",\"fUniqueID\":0,\"fBits\":50331656,\"fTextAngle\":0,\"fTextSize\":0,\"fTextAlign\":0,\"fTextColor\":0,\"fTextFont\":42,\"fLineColor\":1,\"fLineStyle\":1,\"fLineWidth\":1,\"fFillColor\":0,\"fFillStyle\":0,\"fMarkerColor\":1,\"fMarkerStyle\":8,\"fMarkerSize\":0.5,\"fObject\":{\"$ref\":3},\"fLabel\":\"hwQual 4, p_{T}^{L1}>=25GeV\",\"fOption\":\"P\"},{\"_typename\":\"TLegendEntry\",\"fUniqueID\":0,\"fBits\":50331656,\"fTextAngle\":0,\"fTextSize\":0,\"fTextAlign\":0,\"fTextColor\":0,\"fTextFont\":42,\"fLineColor\":1,\"fLineStyle\":1,\"fLineWidth\":1,\"fFillColor\":0,\"fFillStyle\":0,\"fMarkerColor\":628,\"fMarkerStyle\":21,\"fMarkerSize\":0.5,\"fObject\":{\"$ref\":10},\"fLabel\":\"hwQual 5, p_{T}^{L1}>=25GeV\",\"fOption\":\"P\"}],\"opt\":[\"P\",\"P\"]},\"fEntrySeparation\":0.1,\"fMargin\":0.25,\"fNColumns\":1,\"fColumnSeparation\":0},{\"_typename\":\"TLatex\",\"fUniqueID\":0,\"fBits\":50348040,\"fName\":\"\",\"fTitle\":\"PU200, TkEle Ell. match, p_{T}^{GEN}>=30GeV\",\"fTextAngle\":0,\"fTextSize\":0.03,\"fTextAlign\":11,\"fTextColor\":1,\"fTextFont\":62,\"fX\":0.15,\"fY\":0.85,\"fLineColor\":1,\"fLineStyle\":1,\"fLineWidth\":2,\"fLimitFactorSize\":3,\"fOriginSize\":0.04},{\"_typename\":\"TLatex\",\"fUniqueID\":0,\"fBits\":50331656,\"fName\":\"\",\"fTitle\":\"\",\"fTextAngle\":0,\"fTextSize\":0.03,\"fTextAlign\":11,\"fTextColor\":1,\"fTextFont\":62,\"fX\":0,\"fY\":0,\"fLineColor\":1,\"fLineStyle\":1,\"fLineWidth\":2,\"fLimitFactorSize\":3,\"fOriginSize\":0.04},{\"_typename\":\"TLine\",\"fUniqueID\":0,\"fBits\":50331656,\"fLineColor\":1,\"fLineStyle\":2,\"fLineWidth\":1,\"fX1\":-2.8,\"fY1\":0.6,\"fX2\":-2.8,\"fY2\":1.1},{\"_typename\":\"TLine\",\"fUniqueID\":0,\"fBits\":50331656,\"fLineColor\":1,\"fLineStyle\":2,\"fLineWidth\":1,\"fX1\":-2.4,\"fY1\":0.6,\"fX2\":-2.4,\"fY2\":1.1},{\"_typename\":\"TLine\",\"fUniqueID\":0,\"fBits\":50331656,\"fLineColor\":1,\"fLineStyle\":2,\"fLineWidth\":1,\"fX1\":-1.7,\"fY1\":0.6,\"fX2\":-1.7,\"fY2\":1.1},{\"_typename\":\"TLine\",\"fUniqueID\":0,\"fBits\":50331656,\"fLineColor\":1,\"fLineStyle\":2,\"fLineWidth\":1,\"fX1\":-1.52,\"fY1\":0.6,\"fX2\":-1.52,\"fY2\":1.1},{\"_typename\":\"TLine\",\"fUniqueID\":0,\"fBits\":50331656,\"fLineColor\":1,\"fLineStyle\":2,\"fLineWidth\":1,\"fX1\":1.52,\"fY1\":0.6,\"fX2\":1.52,\"fY2\":1.1},{\"_typename\":\"TLine\",\"fUniqueID\":0,\"fBits\":50331656,\"fLineColor\":1,\"fLineStyle\":2,\"fLineWidth\":1,\"fX1\":1.7,\"fY1\":0.6,\"fX2\":1.7,\"fY2\":1.1},{\"_typename\":\"TLine\",\"fUniqueID\":0,\"fBits\":50331656,\"fLineColor\":1,\"fLineStyle\":2,\"fLineWidth\":1,\"fX1\":2.4,\"fY1\":0.6,\"fX2\":2.4,\"fY2\":1.1},{\"_typename\":\"TLine\",\"fUniqueID\":0,\"fBits\":50331656,\"fLineColor\":1,\"fLineStyle\":2,\"fLineWidth\":1,\"fX1\":2.8,\"fY1\":0.6,\"fX2\":2.8,\"fY2\":1.1}],\"opt\":[\"\",\"pa\",\",p\",\"same\",\"same\",\"same\",\"same\",\"same\",\"same\",\"same\",\"same\",\"same\",\"same\",\"same\"]},\"fExecs\":null,\"fName\":\"c_13e36a\",\"fTitle\":\"c_13e36a\",\"fNumPaletteColor\":0,\"fNextPaletteColor\":0,\"fDISPLAY\":\"$DISPLAY\",\"fDoubleBuffer\":0,\"fRetained\":true,\"fXsizeUser\":0,\"fYsizeUser\":0,\"fXsizeReal\":20,\"fYsizeReal\":15,\"fWindowTopX\":0,\"fWindowTopY\":0,\"fWindowWidth\":0,\"fWindowHeight\":0,\"fCw\":796,\"fCh\":572,\"fCatt\":{\"_typename\":\"TAttCanvas\",\"fXBetween\":2,\"fYBetween\":2,\"fTitleFromTop\":1.2,\"fXdate\":0.2,\"fYdate\":0.3,\"fAdate\":1},\"kMoveOpaque\":true,\"kResizeOpaque\":true,\"fHighLightColor\":2,\"fBatch\":true,\"kShowEventStatus\":false,\"kAutoExec\":true,\"kMenuBar\":true});\n",
       "       Core.draw(\"root_plot_10\", obj, \"\");\n",
       "     }\n",
       " );\n",
       "</script>\n"
      ],
      "text/plain": [
       "<IPython.core.display.HTML object>"
      ]
     },
     "metadata": {},
     "output_type": "display_data"
    }
   ],
   "source": [
    "hsets, labels, text = hplot.get_histo(histos.HistoSetEff, None, ['PU200'], ['TkEleEL'], ['EGq4Pt25', 'EGq4Iso0p2Pt25', 'EGq4Iso0p3Pt25', 'EGq5Pt25'], 'GENPt30', debug=False)\n",
    "draw([his.h_eff.h_eta.CreateGraph() for his in hsets], labels, text=text, min_y=0.6, max_y=1.1, v_lines=[-2.8, -2.4, -1.7, -1.52, 1.52, 1.7, 2.4, 2.8])\n"
   ]
  },
  {
   "cell_type": "code",
   "execution_count": 35,
   "metadata": {},
   "outputs": [
    {
     "data": {
      "text/plain": [
       "<drawingTools.DrawMachine at 0x11ae0bc50>"
      ]
     },
     "execution_count": 35,
     "metadata": {},
     "output_type": "execute_result"
    },
    {
     "data": {
      "text/html": [
       "\n",
       "<div id=\"root_plot_11\"\n",
       "     style=\"width: 796px; height: 572px\">\n",
       "</div>\n",
       "\n",
       "<script>\n",
       " requirejs.config({\n",
       "     paths: {\n",
       "       'JSRootCore' : 'https://root.cern.ch/js/notebook//scripts/JSRootCore',\n",
       "     }\n",
       "   });\n",
       " require(['JSRootCore'],\n",
       "     function(Core) {\n",
       "       var obj = Core.JSONR_unref({\"_typename\":\"TCanvas\",\"fUniqueID\":0,\"fBits\":53673992,\"fLineColor\":1,\"fLineStyle\":1,\"fLineWidth\":1,\"fFillColor\":0,\"fFillStyle\":1001,\"fLeftMargin\":0.13,\"fRightMargin\":0.3,\"fBottomMargin\":0.13,\"fTopMargin\":0.1,\"fXfile\":2,\"fYfile\":2,\"fAfile\":1,\"fXstat\":0.99,\"fYstat\":0.99,\"fAstat\":2,\"fFrameFillColor\":0,\"fFrameLineColor\":1,\"fFrameFillStyle\":1001,\"fFrameLineStyle\":1,\"fFrameLineWidth\":1,\"fFrameBorderSize\":1,\"fFrameBorderMode\":0,\"fX1\":-5.24210522353154,\"fY1\":0.515584416589722,\"fX2\":7.38947388234231,\"fY2\":1.16493506751116,\"fXtoAbsPixelk\":330.340043357658,\"fXtoPixelk\":330.340043357658,\"fXtoPixel\":63.0166658759117,\"fYtoAbsPixelk\":1026.16804978691,\"fYtoPixelk\":1026.16804978691,\"fYtoPixel\":-880.879997869134,\"fUtoAbsPixelk\":5e-5,\"fUtoPixelk\":5e-5,\"fUtoPixel\":796,\"fVtoAbsPixelk\":572.00005,\"fVtoPixelk\":572,\"fVtoPixel\":-572,\"fAbsPixeltoXk\":-5.24210522353154,\"fPixeltoXk\":-5.24210522353154,\"fPixeltoX\":0.0158688179722033,\"fAbsPixeltoYk\":1.16493506751116,\"fPixeltoYk\":0.515584416589722,\"fPixeltoY\":-0.00113522841070182,\"fXlowNDC\":0,\"fYlowNDC\":0,\"fXUpNDC\":0,\"fYUpNDC\":0,\"fWNDC\":1,\"fHNDC\":1,\"fAbsXlowNDC\":0,\"fAbsYlowNDC\":0,\"fAbsWNDC\":1,\"fAbsHNDC\":1,\"fUxmin\":-3.6,\"fUymin\":0.6,\"fUxmax\":3.6,\"fUymax\":1.1,\"fTheta\":30,\"fPhi\":30,\"fAspectRatio\":0,\"fNumber\":0,\"fTickx\":0,\"fTicky\":0,\"fLogx\":0,\"fLogy\":0,\"fLogz\":0,\"fPadPaint\":0,\"fCrosshair\":0,\"fCrosshairPos\":0,\"fBorderSize\":2,\"fBorderMode\":0,\"fModified\":false,\"fGridx\":false,\"fGridy\":false,\"fAbsCoord\":false,\"fEditable\":true,\"fFixedAspectRatio\":false,\"fPrimitives\":{\"_typename\":\"TList\",\"name\":\"TList\",\"arr\":[{\"_typename\":\"TFrame\",\"fUniqueID\":0,\"fBits\":50331656,\"fLineColor\":1,\"fLineStyle\":1,\"fLineWidth\":1,\"fFillColor\":0,\"fFillStyle\":1001,\"fX1\":-3.6,\"fY1\":0.6,\"fX2\":3.6,\"fY2\":1.1,\"fBorderSize\":1,\"fBorderMode\":0},{\"_typename\":\"TGraphAsymmErrors\",\"fUniqueID\":0,\"fBits\":50332680,\"fName\":\"58242f\",\"fTitle\":\"; #eta^{GEN};\",\"fLineColor\":1,\"fLineStyle\":1,\"fLineWidth\":1,\"fFillColor\":0,\"fFillStyle\":1001,\"fMarkerColor\":1,\"fMarkerStyle\":8,\"fMarkerSize\":0.5,\"fNpoints\":50,\"fX\":[-2.94,-2.82,-2.7,-2.58,-2.46,-2.34,-2.22,-2.1,-1.98,-1.86,-1.74,-1.62,-1.5,-1.38,-1.26,-1.14,-1.02,-0.9,-0.78,-0.66,-0.54,-0.42,-0.3,-0.18,-0.0600000000000001,0.06,0.18,0.3,0.42,0.54,0.66,0.78,0.9,1.02,1.14,1.26,1.38,1.5,1.62,1.74,1.86,1.98,2.1,2.22,2.34,2.46,2.58,2.7,2.82,2.94],\"fY\":[0,0,0,0,0,0,0,0,0,0,0,0,0.345959595959596,0.896666666666667,0.907325684024713,0.912151067323481,0.9275,0.909849749582638,0.93452380952381,0.922204213938412,0.918544194107452,0.919410745233969,0.942206654991243,0.936536718041704,0.822970639032815,0.89051724137931,0.929734361610968,0.927272727272727,0.91921768707483,0.92,0.932536293766012,0.922553191489362,0.903307888040712,0.914821124361158,0.896356275303644,0.90990990990991,0.909623430962343,0.317896389324961,0,0,0,0,0,0,0,0,0,0,0,0],\"fFunctions\":{\"_typename\":\"TList\",\"name\":\"TList\",\"arr\":[],\"opt\":[]},\"fHistogram\":{\"_typename\":\"TH1F\",\"fUniqueID\":0,\"fBits\":50332160,\"fName\":\"58242f\",\"fTitle\":\"\",\"fLineColor\":602,\"fLineStyle\":1,\"fLineWidth\":1,\"fFillColor\":0,\"fFillStyle\":1001,\"fMarkerColor\":1,\"fMarkerStyle\":1,\"fMarkerSize\":1,\"fNcells\":102,\"fXaxis\":{\"_typename\":\"TAxis\",\"fUniqueID\":0,\"fBits\":50331656,\"fName\":\"xaxis\",\"fTitle\":\" #eta^{GEN}\",\"fNdivisions\":510,\"fAxisColor\":1,\"fLabelColor\":1,\"fLabelFont\":42,\"fLabelOffset\":0.005,\"fLabelSize\":0.035,\"fTickLength\":0.03,\"fTitleOffset\":1.4,\"fTitleSize\":0.035,\"fTitleColor\":1,\"fTitleFont\":42,\"fNbins\":100,\"fXmin\":-3.6,\"fXmax\":3.6,\"fXbins\":[],\"fFirst\":0,\"fLast\":0,\"fBits2\":0,\"fTimeDisplay\":false,\"fTimeFormat\":\"\",\"fLabels\":null,\"fModLabs\":null},\"fYaxis\":{\"_typename\":\"TAxis\",\"fUniqueID\":0,\"fBits\":50331656,\"fName\":\"yaxis\",\"fTitle\":\"\",\"fNdivisions\":510,\"fAxisColor\":1,\"fLabelColor\":1,\"fLabelFont\":42,\"fLabelOffset\":0.005,\"fLabelSize\":0.035,\"fTickLength\":0.03,\"fTitleOffset\":0,\"fTitleSize\":0.035,\"fTitleColor\":1,\"fTitleFont\":42,\"fNbins\":1,\"fXmin\":0,\"fXmax\":1.04405610769438,\"fXbins\":[],\"fFirst\":0,\"fLast\":0,\"fBits2\":0,\"fTimeDisplay\":false,\"fTimeFormat\":\"\",\"fLabels\":null,\"fModLabs\":null},\"fZaxis\":{\"_typename\":\"TAxis\",\"fUniqueID\":0,\"fBits\":50331648,\"fName\":\"zaxis\",\"fTitle\":\"\",\"fNdivisions\":510,\"fAxisColor\":1,\"fLabelColor\":1,\"fLabelFont\":42,\"fLabelOffset\":0.005,\"fLabelSize\":0.035,\"fTickLength\":0.03,\"fTitleOffset\":1,\"fTitleSize\":0.035,\"fTitleColor\":1,\"fTitleFont\":42,\"fNbins\":1,\"fXmin\":0,\"fXmax\":1,\"fXbins\":[],\"fFirst\":0,\"fLast\":0,\"fBits2\":0,\"fTimeDisplay\":false,\"fTimeFormat\":\"\",\"fLabels\":null,\"fModLabs\":null},\"fBarOffset\":0,\"fBarWidth\":1000,\"fEntries\":0,\"fTsumw\":0,\"fTsumw2\":0,\"fTsumwx\":0,\"fTsumwx2\":0,\"fMaximum\":1.1,\"fMinimum\":0.6,\"fNormFactor\":0,\"fContour\":[],\"fSumw2\":[],\"fOption\":\"\",\"fFunctions\":{\"_typename\":\"TList\",\"name\":\"TList\",\"arr\":[],\"opt\":[]},\"fBufferSize\":0,\"fBuffer\":[],\"fBinStatErrOpt\":0,\"fStatOverflows\":2,\"fArray\":[0,0,0,0,0,0,0,0,0,0,0,0,0,0,0,0,0,0,0,0,0,0,0,0,0,0,0,0,0,0,0,0,0,0,0,0,0,0,0,0,0,0,0,0,0,0,0,0,0,0,0,0,0,0,0,0,0,0,0,0,0,0,0,0,0,0,0,0,0,0,0,0,0,0,0,0,0,0,0,0,0,0,0,0,0,0,0,0,0,0,0,0,0,0,0,0,0,0,0,0,0,0]},\"fMinimum\":-1111,\"fMaximum\":-1111,\"fEXlow\":[0.0600000000000001,0.0600000000000001,0.0600000000000001,0.0600000000000001,0.0600000000000001,0.0600000000000001,0.0600000000000001,0.0600000000000001,0.0600000000000001,0.0600000000000001,0.0600000000000001,0.0600000000000001,0.0600000000000001,0.0600000000000001,0.0600000000000001,0.0600000000000001,0.0600000000000001,0.0600000000000001,0.0600000000000001,0.0600000000000001,0.0600000000000001,0.06,0.06,0.06,0.06,0.06,0.06,0.06,0.06,0.0600000000000001,0.0600000000000001,0.0600000000000001,0.0600000000000001,0.0600000000000001,0.0600000000000001,0.0600000000000001,0.0600000000000001,0.0600000000000001,0.0600000000000001,0.0600000000000001,0.0600000000000001,0.0600000000000001,0.0600000000000001,0.0600000000000001,0.0600000000000001,0.0600000000000001,0.0600000000000001,0.0600000000000001,0.0600000000000001,0.0600000000000001],\"fEXhigh\":[0.0599999999999999,0.0599999999999999,0.0599999999999999,0.0599999999999999,0.0599999999999999,0.0599999999999999,0.0599999999999999,0.0599999999999999,0.0599999999999999,0.0599999999999999,0.0599999999999999,0.0599999999999999,0.0599999999999999,0.0599999999999999,0.0599999999999999,0.0599999999999999,0.0599999999999999,0.0599999999999999,0.0599999999999999,0.0599999999999999,0.0599999999999999,0.06,0.06,0.06,0.06,0.06,0.06,0.06,0.06,0.0599999999999999,0.0599999999999999,0.0599999999999999,0.0599999999999999,0.0599999999999999,0.0599999999999999,0.0599999999999999,0.0599999999999999,0.0599999999999999,0.0599999999999999,0.0599999999999999,0.0599999999999999,0.0599999999999999,0.0599999999999999,0.0599999999999999,0.0599999999999999,0.0599999999999999,0.0599999999999999,0.0599999999999999,0.0599999999999999,0.0599999999999999],\"fEYlow\":[0,0,0,0,0,0,0,0,0,0,0,0,0.0140824455547838,0.00954994311038859,0.00943465558334045,0.00887794165206002,0.00828048381005897,0.0090519195968144,0.00803239808862533,0.00839192481538786,0.00886893506123676,0.00883071994610507,0.00775844232544498,0.00821732355645688,0.0119349391931628,0.00995092021525557,0.00830199349830552,0.00825334751008433,0.00874838711731984,0.00892822453820108,0.00815013062493397,0.00860433607248179,0.0093904436807607,0.00894582471031447,0.00941390519911789,0.00895640559021782,0.00907340135266077,0.013286563841702,0,0,0,0,0,0,0,0,0,0,0,0],\"fEYhigh\":[0.00160939613364288,0.0016178821153095,0.0015445839399481,0.00160378809570988,0.001599607648681,0.00161646157595358,0.0015445839399481,0.00160239218764497,0.00152412453622262,0.00163803508815592,0.00153428603559457,0.00155109062386966,0.0143495437627882,0.00885780393712532,0.00867916732236507,0.00816723936824892,0.00752865463369035,0.00833351110164904,0.00725019819204531,0.00767158649603683,0.00810487922796788,0.00806489051001924,0.00693526109455689,0.00737729284354249,0.0113559535310656,0.00924629906418539,0.00752369222910443,0.00750834456735816,0.00799762726581033,0.00814090576149729,0.00736869614484703,0.00784619150134391,0.00867291711069151,0.00820254495569916,0.00874237238459497,0.0082517301479933,0.00835358371573891,0.0135808999449432,0.0015445839399481,0.00157767495366163,0.00158446403380913,0.00158856560079081,0.00150666207840593,0.00155897137443245,0.00153813161786322,0.0015858288674509,0.00150174606142913,0.00152034858907996,0.00156161611718799,0.00154328914845575]},{\"_typename\":\"TLatex\",\"fUniqueID\":0,\"fBits\":50348040,\"fName\":\"\",\"fTitle\":\"PU200, TkEle Ell. match barrel, p_{T}^{L1}>=30GeV, p_{T}^{GEN}>=40GeV\",\"fTextAngle\":0,\"fTextSize\":0.03,\"fTextAlign\":11,\"fTextColor\":1,\"fTextFont\":62,\"fX\":0.15,\"fY\":0.85,\"fLineColor\":1,\"fLineStyle\":1,\"fLineWidth\":2,\"fLimitFactorSize\":3,\"fOriginSize\":0.04},{\"_typename\":\"TLatex\",\"fUniqueID\":0,\"fBits\":50331656,\"fName\":\"\",\"fTitle\":\"\",\"fTextAngle\":0,\"fTextSize\":0.03,\"fTextAlign\":11,\"fTextColor\":1,\"fTextFont\":62,\"fX\":0,\"fY\":0,\"fLineColor\":1,\"fLineStyle\":1,\"fLineWidth\":2,\"fLimitFactorSize\":3,\"fOriginSize\":0.04},{\"_typename\":\"TLine\",\"fUniqueID\":0,\"fBits\":50331656,\"fLineColor\":1,\"fLineStyle\":2,\"fLineWidth\":1,\"fX1\":-2.8,\"fY1\":0.6,\"fX2\":-2.8,\"fY2\":1.1},{\"_typename\":\"TLine\",\"fUniqueID\":0,\"fBits\":50331656,\"fLineColor\":1,\"fLineStyle\":2,\"fLineWidth\":1,\"fX1\":-2.4,\"fY1\":0.6,\"fX2\":-2.4,\"fY2\":1.1},{\"_typename\":\"TLine\",\"fUniqueID\":0,\"fBits\":50331656,\"fLineColor\":1,\"fLineStyle\":2,\"fLineWidth\":1,\"fX1\":-1.7,\"fY1\":0.6,\"fX2\":-1.7,\"fY2\":1.1},{\"_typename\":\"TLine\",\"fUniqueID\":0,\"fBits\":50331656,\"fLineColor\":1,\"fLineStyle\":2,\"fLineWidth\":1,\"fX1\":-1.52,\"fY1\":0.6,\"fX2\":-1.52,\"fY2\":1.1},{\"_typename\":\"TLine\",\"fUniqueID\":0,\"fBits\":50331656,\"fLineColor\":1,\"fLineStyle\":2,\"fLineWidth\":1,\"fX1\":1.52,\"fY1\":0.6,\"fX2\":1.52,\"fY2\":1.1},{\"_typename\":\"TLine\",\"fUniqueID\":0,\"fBits\":50331656,\"fLineColor\":1,\"fLineStyle\":2,\"fLineWidth\":1,\"fX1\":1.7,\"fY1\":0.6,\"fX2\":1.7,\"fY2\":1.1},{\"_typename\":\"TLine\",\"fUniqueID\":0,\"fBits\":50331656,\"fLineColor\":1,\"fLineStyle\":2,\"fLineWidth\":1,\"fX1\":2.4,\"fY1\":0.6,\"fX2\":2.4,\"fY2\":1.1},{\"_typename\":\"TLine\",\"fUniqueID\":0,\"fBits\":50331656,\"fLineColor\":1,\"fLineStyle\":2,\"fLineWidth\":1,\"fX1\":2.8,\"fY1\":0.6,\"fX2\":2.8,\"fY2\":1.1}],\"opt\":[\"\",\"pa\",\"same\",\"same\",\"same\",\"same\",\"same\",\"same\",\"same\",\"same\",\"same\",\"same\"]},\"fExecs\":null,\"fName\":\"c_4d2c6d\",\"fTitle\":\"c_4d2c6d\",\"fNumPaletteColor\":0,\"fNextPaletteColor\":0,\"fDISPLAY\":\"$DISPLAY\",\"fDoubleBuffer\":0,\"fRetained\":true,\"fXsizeUser\":0,\"fYsizeUser\":0,\"fXsizeReal\":20,\"fYsizeReal\":15,\"fWindowTopX\":0,\"fWindowTopY\":0,\"fWindowWidth\":0,\"fWindowHeight\":0,\"fCw\":796,\"fCh\":572,\"fCatt\":{\"_typename\":\"TAttCanvas\",\"fXBetween\":2,\"fYBetween\":2,\"fTitleFromTop\":1.2,\"fXdate\":0.2,\"fYdate\":0.3,\"fAdate\":1},\"kMoveOpaque\":true,\"kResizeOpaque\":true,\"fHighLightColor\":2,\"fBatch\":true,\"kShowEventStatus\":false,\"kAutoExec\":true,\"kMenuBar\":true});\n",
       "       Core.draw(\"root_plot_11\", obj, \"\");\n",
       "     }\n",
       " );\n",
       "</script>\n"
      ],
      "text/plain": [
       "<IPython.core.display.HTML object>"
      ]
     },
     "metadata": {},
     "output_type": "display_data"
    }
   ],
   "source": [
    "hsets, labels, text = hplot.get_histo(histos.HistoSetEff, sample, ['PU200'], ['TkEleBRL', 'TkEleELBRL'], ['Pt30'], ['GENPt40'], debug=False)\n",
    "draw([his.h_eff.h_eta.CreateGraph() for his in hsets], labels, text=text, min_y=0.6, max_y=1.1, v_lines=[-2.8, -2.4, -1.7, -1.52, 1.52, 1.7, 2.4, 2.8],\n",
    "     do_write=False, write_name='egammaEndcap_TkEle_EGq4Pt30_GENPt40_hEffVEta')\n",
    "\n"
   ]
  },
  {
   "cell_type": "code",
   "execution_count": 36,
   "metadata": {},
   "outputs": [
    {
     "data": {
      "text/plain": [
       "<drawingTools.DrawMachine at 0x11a5cc2d0>"
      ]
     },
     "execution_count": 36,
     "metadata": {},
     "output_type": "execute_result"
    },
    {
     "name": "stderr",
     "output_type": "stream",
     "text": [
      "Info in <TCanvas::Print>: pdf file egammaEndcap_TkEle_EGq4Pt30_GENPt40_hEffVEta.pdf has been created\n"
     ]
    },
    {
     "data": {
      "text/html": [
       "\n",
       "<div id=\"root_plot_12\"\n",
       "     style=\"width: 596px; height: 572px\">\n",
       "</div>\n",
       "\n",
       "<script>\n",
       " requirejs.config({\n",
       "     paths: {\n",
       "       'JSRootCore' : 'https://root.cern.ch/js/notebook//scripts/JSRootCore',\n",
       "     }\n",
       "   });\n",
       " require(['JSRootCore'],\n",
       "     function(Core) {\n",
       "       var obj = Core.JSONR_unref({\"_typename\":\"TCanvas\",\"fUniqueID\":0,\"fBits\":53673992,\"fLineColor\":1,\"fLineStyle\":1,\"fLineWidth\":1,\"fFillColor\":0,\"fFillStyle\":1001,\"fLeftMargin\":0.13,\"fRightMargin\":0.13,\"fBottomMargin\":0.13,\"fTopMargin\":0.1,\"fXfile\":2,\"fYfile\":2,\"fAfile\":1,\"fXstat\":0.99,\"fYstat\":0.99,\"fAstat\":2,\"fFrameFillColor\":0,\"fFrameLineColor\":1,\"fFrameFillStyle\":1001,\"fFrameLineStyle\":1,\"fFrameLineWidth\":1,\"fFrameBorderSize\":1,\"fFrameBorderMode\":0,\"fX1\":-4.86486480216896,\"fY1\":0.515584416589722,\"fX2\":4.86486480216897,\"fY2\":1.16493506751116,\"fXtoAbsPixelk\":298.00005,\"fXtoPixelk\":298.00005,\"fXtoPixel\":61.255556344986,\"fYtoAbsPixelk\":1026.16804978691,\"fYtoPixelk\":1026.16804978691,\"fYtoPixel\":-880.879997869134,\"fUtoAbsPixelk\":5e-5,\"fUtoPixelk\":5e-5,\"fUtoPixel\":596,\"fVtoAbsPixelk\":572.00005,\"fVtoPixelk\":572,\"fVtoPixel\":-572,\"fAbsPixeltoXk\":-4.86486480216896,\"fPixeltoXk\":-4.86486480216896,\"fPixeltoX\":0.0163250496717079,\"fAbsPixeltoYk\":1.16493506751116,\"fPixeltoYk\":0.515584416589722,\"fPixeltoY\":-0.00113522841070182,\"fXlowNDC\":0,\"fYlowNDC\":0,\"fXUpNDC\":0,\"fYUpNDC\":0,\"fWNDC\":1,\"fHNDC\":1,\"fAbsXlowNDC\":0,\"fAbsYlowNDC\":0,\"fAbsWNDC\":1,\"fAbsHNDC\":1,\"fUxmin\":-3.6,\"fUymin\":0.6,\"fUxmax\":3.6,\"fUymax\":1.1,\"fTheta\":30,\"fPhi\":30,\"fAspectRatio\":0,\"fNumber\":0,\"fTickx\":0,\"fTicky\":0,\"fLogx\":0,\"fLogy\":0,\"fLogz\":0,\"fPadPaint\":0,\"fCrosshair\":0,\"fCrosshairPos\":0,\"fBorderSize\":2,\"fBorderMode\":0,\"fModified\":false,\"fGridx\":false,\"fGridy\":false,\"fAbsCoord\":false,\"fEditable\":true,\"fFixedAspectRatio\":false,\"fPrimitives\":{\"_typename\":\"TList\",\"name\":\"TList\",\"arr\":[{\"_typename\":\"TFrame\",\"fUniqueID\":0,\"fBits\":50331656,\"fLineColor\":1,\"fLineStyle\":1,\"fLineWidth\":1,\"fFillColor\":0,\"fFillStyle\":1001,\"fX1\":-3.6,\"fY1\":0.6,\"fX2\":3.6,\"fY2\":1.1,\"fBorderSize\":1,\"fBorderMode\":0},{\"_typename\":\"TGraphAsymmErrors\",\"fUniqueID\":0,\"fBits\":50332680,\"fName\":\"957bd1\",\"fTitle\":\"; #eta^{GEN};\",\"fLineColor\":1,\"fLineStyle\":1,\"fLineWidth\":1,\"fFillColor\":0,\"fFillStyle\":1001,\"fMarkerColor\":1,\"fMarkerStyle\":8,\"fMarkerSize\":0.5,\"fNpoints\":50,\"fX\":[-2.94,-2.82,-2.7,-2.58,-2.46,-2.34,-2.22,-2.1,-1.98,-1.86,-1.74,-1.62,-1.5,-1.38,-1.26,-1.14,-1.02,-0.9,-0.78,-0.66,-0.54,-0.42,-0.3,-0.18,-0.0600000000000001,0.06,0.18,0.3,0.42,0.54,0.66,0.78,0.9,1.02,1.14,1.26,1.38,1.5,1.62,1.74,1.86,1.98,2.1,2.22,2.34,2.46,2.58,2.7,2.82,2.94],\"fY\":[0,0,0,0,0,0,0,0,0,0,0,0,0.343795620437956,0.891506067094932,0.903080390683696,0.906316536550745,0.916184971098266,0.903640256959315,0.925680647534952,0.915671117357695,0.913907284768212,0.915115413253909,0.931189229618549,0.932818532818533,0.818448023426061,0.880563798219585,0.927219796215429,0.915492957746479,0.912824207492795,0.911026615969582,0.931386861313869,0.920588235294118,0.902757619738752,0.907971014492754,0.894553072625698,0.903631284916201,0.8921639108555,0.321428571428571,0,0,0,0,0,0,0,0,0,0,0,0],\"fFunctions\":{\"_typename\":\"TList\",\"name\":\"TList\",\"arr\":[],\"opt\":[]},\"fHistogram\":{\"_typename\":\"TH1F\",\"fUniqueID\":0,\"fBits\":50332160,\"fName\":\"957bd1\",\"fTitle\":\"\",\"fLineColor\":602,\"fLineStyle\":1,\"fLineWidth\":1,\"fFillColor\":0,\"fFillStyle\":1001,\"fMarkerColor\":1,\"fMarkerStyle\":1,\"fMarkerSize\":1,\"fNcells\":102,\"fXaxis\":{\"_typename\":\"TAxis\",\"fUniqueID\":0,\"fBits\":50331656,\"fName\":\"xaxis\",\"fTitle\":\" #eta^{GEN}\",\"fNdivisions\":510,\"fAxisColor\":1,\"fLabelColor\":1,\"fLabelFont\":42,\"fLabelOffset\":0.005,\"fLabelSize\":0.035,\"fTickLength\":0.03,\"fTitleOffset\":1.4,\"fTitleSize\":0.035,\"fTitleColor\":1,\"fTitleFont\":42,\"fNbins\":100,\"fXmin\":-3.6,\"fXmax\":3.6,\"fXbins\":[],\"fFirst\":0,\"fLast\":0,\"fBits2\":0,\"fTimeDisplay\":false,\"fTimeFormat\":\"\",\"fLabels\":null,\"fModLabs\":null},\"fYaxis\":{\"_typename\":\"TAxis\",\"fUniqueID\":0,\"fBits\":50331656,\"fName\":\"yaxis\",\"fTitle\":\"\",\"fNdivisions\":510,\"fAxisColor\":1,\"fLabelColor\":1,\"fLabelFont\":42,\"fLabelOffset\":0.005,\"fLabelSize\":0.035,\"fTickLength\":0.03,\"fTitleOffset\":0,\"fTitleSize\":0.035,\"fTitleColor\":1,\"fTitleFont\":42,\"fNbins\":1,\"fXmin\":0,\"fXmax\":1.03379188144119,\"fXbins\":[],\"fFirst\":0,\"fLast\":0,\"fBits2\":0,\"fTimeDisplay\":false,\"fTimeFormat\":\"\",\"fLabels\":null,\"fModLabs\":null},\"fZaxis\":{\"_typename\":\"TAxis\",\"fUniqueID\":0,\"fBits\":50331648,\"fName\":\"zaxis\",\"fTitle\":\"\",\"fNdivisions\":510,\"fAxisColor\":1,\"fLabelColor\":1,\"fLabelFont\":42,\"fLabelOffset\":0.005,\"fLabelSize\":0.035,\"fTickLength\":0.03,\"fTitleOffset\":1,\"fTitleSize\":0.035,\"fTitleColor\":1,\"fTitleFont\":42,\"fNbins\":1,\"fXmin\":0,\"fXmax\":1,\"fXbins\":[],\"fFirst\":0,\"fLast\":0,\"fBits2\":0,\"fTimeDisplay\":false,\"fTimeFormat\":\"\",\"fLabels\":null,\"fModLabs\":null},\"fBarOffset\":0,\"fBarWidth\":1000,\"fEntries\":0,\"fTsumw\":0,\"fTsumw2\":0,\"fTsumwx\":0,\"fTsumwx2\":0,\"fMaximum\":1.1,\"fMinimum\":0.6,\"fNormFactor\":0,\"fContour\":[],\"fSumw2\":[],\"fOption\":\"\",\"fFunctions\":{\"_typename\":\"TList\",\"name\":\"TList\",\"arr\":[],\"opt\":[]},\"fBufferSize\":0,\"fBuffer\":[],\"fBinStatErrOpt\":0,\"fStatOverflows\":2,\"fArray\":[0,0,0,0,0,0,0,0,0,0,0,0,0,0,0,0,0,0,0,0,0,0,0,0,0,0,0,0,0,0,0,0,0,0,0,0,0,0,0,0,0,0,0,0,0,0,0,0,0,0,0,0,0,0,0,0,0,0,0,0,0,0,0,0,0,0,0,0,0,0,0,0,0,0,0,0,0,0,0,0,0,0,0,0,0,0,0,0,0,0,0,0,0,0,0,0,0,0,0,0,0,0]},\"fMinimum\":-1111,\"fMaximum\":-1111,\"fEXlow\":[0.0600000000000001,0.0600000000000001,0.0600000000000001,0.0600000000000001,0.0600000000000001,0.0600000000000001,0.0600000000000001,0.0600000000000001,0.0600000000000001,0.0600000000000001,0.0600000000000001,0.0600000000000001,0.0600000000000001,0.0600000000000001,0.0600000000000001,0.0600000000000001,0.0600000000000001,0.0600000000000001,0.0600000000000001,0.0600000000000001,0.0600000000000001,0.06,0.06,0.06,0.06,0.06,0.06,0.06,0.06,0.0600000000000001,0.0600000000000001,0.0600000000000001,0.0600000000000001,0.0600000000000001,0.0600000000000001,0.0600000000000001,0.0600000000000001,0.0600000000000001,0.0600000000000001,0.0600000000000001,0.0600000000000001,0.0600000000000001,0.0600000000000001,0.0600000000000001,0.0600000000000001,0.0600000000000001,0.0600000000000001,0.0600000000000001,0.0600000000000001,0.0600000000000001],\"fEXhigh\":[0.0599999999999999,0.0599999999999999,0.0599999999999999,0.0599999999999999,0.0599999999999999,0.0599999999999999,0.0599999999999999,0.0599999999999999,0.0599999999999999,0.0599999999999999,0.0599999999999999,0.0599999999999999,0.0599999999999999,0.0599999999999999,0.0599999999999999,0.0599999999999999,0.0599999999999999,0.0599999999999999,0.0599999999999999,0.0599999999999999,0.0599999999999999,0.06,0.06,0.06,0.06,0.06,0.06,0.06,0.06,0.0599999999999999,0.0599999999999999,0.0599999999999999,0.0599999999999999,0.0599999999999999,0.0599999999999999,0.0599999999999999,0.0599999999999999,0.0599999999999999,0.0599999999999999,0.0599999999999999,0.0599999999999999,0.0599999999999999,0.0599999999999999,0.0599999999999999,0.0599999999999999,0.0599999999999999,0.0599999999999999,0.0599999999999999,0.0599999999999999,0.0599999999999999],\"fEYlow\":[0,0,0,0,0,0,0,0,0,0,0,0,0.0130755867540792,0.00895706630100634,0.00880205770677334,0.0084196046215933,0.00812629083500027,0.00854198345701085,0.0078138532526606,0.00802470939153654,0.00829700697804248,0.00830272190063697,0.00763867482944636,0.00769753383290561,0.011034552127418,0.00949731653029373,0.00770078342257574,0.00804080578699096,0.00824433242014777,0.00855979226261561,0.00752840736554727,0.00802536215136518,0.00865025797655306,0.00845365719295743,0.00875257880500557,0.00844211105728043,0.00896988045841318,0.0124527189804768,0,0,0,0,0,0,0,0,0,0,0,0],\"fEYhigh\":[0.00137500422158772,0.00136582338782904,0.00131791420062627,0.00138119365497363,0.00136379982725082,0.00135476751478286,0.00131603001377073,0.00135277655779423,0.00130947757543399,0.00139058299428434,0.00132550521137524,0.0013122777566049,0.0133100033541239,0.00837439633848835,0.00816858000788157,0.00781672766334718,0.0074959411817791,0.00793991567963492,0.00715525065318623,0.00741285425201255,0.00765867051211888,0.00765452714498782,0.00695908355126162,0.00699226849163903,0.0105521477482597,0.00890921692689139,0.00704687803863269,0.00742791867894876,0.00762142591914383,0.00790465116879313,0.0068652423065505,0.00737608778892684,0.00803937269756849,0.00783510762507,0.00817804210332496,0.00785336343523113,0.00838188522167005,0.0127047862952404,0.00133900204067411,0.00133221944252432,0.00133705711846472,0.00136077570411657,0.00130576253705623,0.00133705711846472,0.00131791420062627,0.00137706119322728,0.00124316017929952,0.001321698806589,0.001321698806589,0.00129931169164107]},{\"_typename\":\"TGraphAsymmErrors\",\"fUniqueID\":0,\"fBits\":50332680,\"fName\":\"fec9a3\",\"fTitle\":\"; #eta^{GEN};\",\"fLineColor\":628,\"fLineStyle\":1,\"fLineWidth\":1,\"fFillColor\":0,\"fFillStyle\":1001,\"fMarkerColor\":628,\"fMarkerStyle\":21,\"fMarkerSize\":0.5,\"fNpoints\":28,\"fX\":[-2.94,-2.82,-2.7,-2.58,-2.46,-2.34,-2.22,-2.1,-1.98,-1.86,-1.74,-1.62,-1.5,-1.38,1.38,1.5,1.62,1.74,1.86,1.98,2.1,2.22,2.34,2.46,2.58,2.7,2.82,2.94],\"fY\":[0,0,0,0,0.269672131147541,0.8576,0.908736349453978,0.903891977760127,0.894657637321294,0.912350597609562,0.901725431357839,0.893095768374165,0.310151878497202,0,0,0.304023845007452,0.891502276176024,0.90371493555724,0.908456167571761,0.919088766692852,0.899539877300613,0.905296950240771,0.871194379391101,0.264779350541216,0,0,0,0],\"fFunctions\":{\"_typename\":\"TList\",\"name\":\"TList\",\"arr\":[],\"opt\":[]},\"fHistogram\":{\"_typename\":\"TH1F\",\"fUniqueID\":0,\"fBits\":50332160,\"fName\":\"fec9a3\",\"fTitle\":\"\",\"fLineColor\":602,\"fLineStyle\":1,\"fLineWidth\":1,\"fFillColor\":0,\"fFillStyle\":1001,\"fMarkerColor\":1,\"fMarkerStyle\":1,\"fMarkerSize\":1,\"fNcells\":102,\"fXaxis\":{\"_typename\":\"TAxis\",\"fUniqueID\":0,\"fBits\":50331656,\"fName\":\"xaxis\",\"fTitle\":\" #eta^{GEN}\",\"fNdivisions\":510,\"fAxisColor\":1,\"fLabelColor\":1,\"fLabelFont\":42,\"fLabelOffset\":0.005,\"fLabelSize\":0.035,\"fTickLength\":0.03,\"fTitleOffset\":1.4,\"fTitleSize\":0.035,\"fTitleColor\":1,\"fTitleFont\":42,\"fNbins\":100,\"fXmin\":-3.6,\"fXmax\":3.6,\"fXbins\":[],\"fFirst\":0,\"fLast\":0,\"fBits2\":0,\"fTimeDisplay\":false,\"fTimeFormat\":\"\",\"fLabels\":null,\"fModLabs\":null},\"fYaxis\":{\"_typename\":\"TAxis\",\"fUniqueID\":0,\"fBits\":50331656,\"fName\":\"yaxis\",\"fTitle\":\"\",\"fNdivisions\":510,\"fAxisColor\":1,\"fLabelColor\":1,\"fLabelFont\":42,\"fLabelOffset\":0.005,\"fLabelSize\":0.035,\"fTickLength\":0.03,\"fTitleOffset\":0,\"fTitleSize\":0.035,\"fTitleColor\":1,\"fTitleFont\":42,\"fNbins\":1,\"fXmin\":0,\"fXmax\":1.01945803780588,\"fXbins\":[],\"fFirst\":0,\"fLast\":0,\"fBits2\":0,\"fTimeDisplay\":false,\"fTimeFormat\":\"\",\"fLabels\":null,\"fModLabs\":null},\"fZaxis\":{\"_typename\":\"TAxis\",\"fUniqueID\":0,\"fBits\":50331648,\"fName\":\"zaxis\",\"fTitle\":\"\",\"fNdivisions\":510,\"fAxisColor\":1,\"fLabelColor\":1,\"fLabelFont\":42,\"fLabelOffset\":0.005,\"fLabelSize\":0.035,\"fTickLength\":0.03,\"fTitleOffset\":1,\"fTitleSize\":0.035,\"fTitleColor\":1,\"fTitleFont\":42,\"fNbins\":1,\"fXmin\":0,\"fXmax\":1,\"fXbins\":[],\"fFirst\":0,\"fLast\":0,\"fBits2\":0,\"fTimeDisplay\":false,\"fTimeFormat\":\"\",\"fLabels\":null,\"fModLabs\":null},\"fBarOffset\":0,\"fBarWidth\":1000,\"fEntries\":0,\"fTsumw\":0,\"fTsumw2\":0,\"fTsumwx\":0,\"fTsumwx2\":0,\"fMaximum\":1.1,\"fMinimum\":0.6,\"fNormFactor\":0,\"fContour\":[],\"fSumw2\":[],\"fOption\":\"\",\"fFunctions\":{\"_typename\":\"TList\",\"name\":\"TList\",\"arr\":[],\"opt\":[]},\"fBufferSize\":0,\"fBuffer\":[],\"fBinStatErrOpt\":0,\"fStatOverflows\":2,\"fArray\":[0,0,0,0,0,0,0,0,0,0,0,0,0,0,0,0,0,0,0,0,0,0,0,0,0,0,0,0,0,0,0,0,0,0,0,0,0,0,0,0,0,0,0,0,0,0,0,0,0,0,0,0,0,0,0,0,0,0,0,0,0,0,0,0,0,0,0,0,0,0,0,0,0,0,0,0,0,0,0,0,0,0,0,0,0,0,0,0,0,0,0,0,0,0,0,0,0,0,0,0,0,0]},\"fMinimum\":-1111,\"fMaximum\":-1111,\"fEXlow\":[0.0600000000000001,0.0600000000000001,0.0600000000000001,0.0600000000000001,0.0600000000000001,0.0600000000000001,0.0600000000000001,0.0600000000000001,0.0600000000000001,0.0600000000000001,0.0600000000000001,0.0600000000000001,0.0600000000000001,0.0600000000000001,0.0600000000000001,0.0600000000000001,0.0600000000000001,0.0600000000000001,0.0600000000000001,0.0600000000000001,0.0600000000000001,0.0600000000000001,0.0600000000000001,0.0600000000000001,0.0600000000000001,0.0600000000000001,0.0600000000000001,0.0600000000000001],\"fEXhigh\":[0.0599999999999999,0.0599999999999999,0.0599999999999999,0.0599999999999999,0.0599999999999999,0.0599999999999999,0.0599999999999999,0.0599999999999999,0.0599999999999999,0.0599999999999999,0.0599999999999999,0.0599999999999999,0.0599999999999999,0.0599999999999999,0.0599999999999999,0.0599999999999999,0.0599999999999999,0.0599999999999999,0.0599999999999999,0.0599999999999999,0.0599999999999999,0.0599999999999999,0.0599999999999999,0.0599999999999999,0.0599999999999999,0.0599999999999999,0.0599999999999999,0.0599999999999999],\"fEYlow\":[0,0,0,0,0.0129160915995166,0.0105802139512214,0.00876801942502092,0.00904026795854074,0.00910741649811586,0.00872661067072089,0.00884402769667747,0.00909476556907929,0.013316216456095,0,0,0.0127745650221387,0.00925601435534251,0.00882194792715385,0.00875297171143563,0.00838324061279216,0.00902875795396274,0.0090377688094887,0.0100505102541402,0.0129410101443654,0,0,0,0],\"fEYhigh\":[0.00162502242828117,0.00160658722076375,0.00155239854458307,0.00154588090587456,0.0133056645062786,0.00998517381632491,0.00809972851301888,0.00836827799188766,0.00848722456039774,0.00803697778888679,0.00821381989731362,0.00848562196578695,0.0136288543577764,0.0409781316010068,0.0559082515517007,0.0130751607794318,0.0086358829047446,0.00818149062203588,0.00808888985186484,0.00769126767612871,0.00838801245114773,0.00835604007806201,0.00944707145140455,0.0133453233631398,0.00142502678595032,0.00153045963454496,0.00153556575799479,0.00156560009943323]},{\"_typename\":\"TLegend\",\"fUniqueID\":0,\"fBits\":50331656,\"fLineColor\":1,\"fLineStyle\":1,\"fLineWidth\":1,\"fFillColor\":0,\"fFillStyle\":0,\"fX1\":-3.3081080654749,\"fY1\":0.645454546774011,\"fX2\":-0.778378368347034,\"fY2\":0.742857144412227,\"fX1NDC\":0.16,\"fY1NDC\":0.2,\"fX2NDC\":0.42,\"fY2NDC\":0.35,\"fBorderSize\":0,\"fInit\":1,\"fShadowColor\":1,\"fCornerRadius\":0,\"fOption\":\"brNDC\",\"fName\":\"TPave\",\"fTextAngle\":0,\"fTextSize\":0.03,\"fTextAlign\":12,\"fTextColor\":1,\"fTextFont\":42,\"fPrimitives\":{\"_typename\":\"TList\",\"name\":\"TList\",\"arr\":[{\"_typename\":\"TLegendEntry\",\"fUniqueID\":0,\"fBits\":50331656,\"fTextAngle\":0,\"fTextSize\":0,\"fTextAlign\":0,\"fTextColor\":0,\"fTextFont\":42,\"fLineColor\":1,\"fLineStyle\":1,\"fLineWidth\":1,\"fFillColor\":0,\"fFillStyle\":0,\"fMarkerColor\":1,\"fMarkerStyle\":8,\"fMarkerSize\":0.5,\"fObject\":{\"$ref\":3},\"fLabel\":\"barrel\",\"fOption\":\"P\"},{\"_typename\":\"TLegendEntry\",\"fUniqueID\":0,\"fBits\":50331656,\"fTextAngle\":0,\"fTextSize\":0,\"fTextAlign\":0,\"fTextColor\":0,\"fTextFont\":42,\"fLineColor\":1,\"fLineStyle\":1,\"fLineWidth\":1,\"fFillColor\":0,\"fFillStyle\":0,\"fMarkerColor\":628,\"fMarkerStyle\":21,\"fMarkerSize\":0.5,\"fObject\":{\"$ref\":10},\"fLabel\":\"endcap\",\"fOption\":\"P\"}],\"opt\":[\"P\",\"P\"]},\"fEntrySeparation\":0.1,\"fMargin\":0.25,\"fNColumns\":1,\"fColumnSeparation\":0},{\"_typename\":\"TLatex\",\"fUniqueID\":0,\"fBits\":50348040,\"fName\":\"\",\"fTitle\":\"PU200, TkEle Ell. match, hwQual 5, p_{T}^{L1}>=20GeV, p_{T}^{GEN}>=30GeV\",\"fTextAngle\":0,\"fTextSize\":0.03,\"fTextAlign\":11,\"fTextColor\":1,\"fTextFont\":62,\"fX\":0.15,\"fY\":0.85,\"fLineColor\":1,\"fLineStyle\":1,\"fLineWidth\":2,\"fLimitFactorSize\":3,\"fOriginSize\":0.0299999993294477},{\"_typename\":\"TLatex\",\"fUniqueID\":0,\"fBits\":50348041,\"fName\":\"\",\"fTitle\":\"#scale[1.5]{CMS} #scale[1.]{Phase-2 Simulation}\",\"fTextAngle\":0,\"fTextSize\":0.03,\"fTextAlign\":11,\"fTextColor\":1,\"fTextFont\":62,\"fX\":0.13,\"fY\":0.91,\"fLineColor\":1,\"fLineStyle\":1,\"fLineWidth\":2,\"fLimitFactorSize\":3,\"fOriginSize\":0.0299999993294477},{\"_typename\":\"TLatex\",\"fUniqueID\":0,\"fBits\":50348041,\"fName\":\"\",\"fTitle\":\"14TeV, 200 PU\",\"fTextAngle\":0,\"fTextSize\":0.03,\"fTextAlign\":11,\"fTextColor\":1,\"fTextFont\":62,\"fX\":0.69,\"fY\":0.91,\"fLineColor\":1,\"fLineStyle\":1,\"fLineWidth\":2,\"fLimitFactorSize\":3,\"fOriginSize\":0.0299999993294477},{\"_typename\":\"TLatex\",\"fUniqueID\":0,\"fBits\":50331656,\"fName\":\"\",\"fTitle\":\"\",\"fTextAngle\":0,\"fTextSize\":0.03,\"fTextAlign\":11,\"fTextColor\":1,\"fTextFont\":62,\"fX\":0,\"fY\":0,\"fLineColor\":1,\"fLineStyle\":1,\"fLineWidth\":2,\"fLimitFactorSize\":3,\"fOriginSize\":0.04},{\"_typename\":\"TLine\",\"fUniqueID\":0,\"fBits\":50331656,\"fLineColor\":1,\"fLineStyle\":2,\"fLineWidth\":1,\"fX1\":-2.8,\"fY1\":0.6,\"fX2\":-2.8,\"fY2\":1.1},{\"_typename\":\"TLine\",\"fUniqueID\":0,\"fBits\":50331656,\"fLineColor\":1,\"fLineStyle\":2,\"fLineWidth\":1,\"fX1\":-2.4,\"fY1\":0.6,\"fX2\":-2.4,\"fY2\":1.1},{\"_typename\":\"TLine\",\"fUniqueID\":0,\"fBits\":50331656,\"fLineColor\":1,\"fLineStyle\":2,\"fLineWidth\":1,\"fX1\":-1.7,\"fY1\":0.6,\"fX2\":-1.7,\"fY2\":1.1},{\"_typename\":\"TLine\",\"fUniqueID\":0,\"fBits\":50331656,\"fLineColor\":1,\"fLineStyle\":2,\"fLineWidth\":1,\"fX1\":-1.52,\"fY1\":0.6,\"fX2\":-1.52,\"fY2\":1.1},{\"_typename\":\"TLine\",\"fUniqueID\":0,\"fBits\":50331656,\"fLineColor\":1,\"fLineStyle\":2,\"fLineWidth\":1,\"fX1\":1.52,\"fY1\":0.6,\"fX2\":1.52,\"fY2\":1.1},{\"_typename\":\"TLine\",\"fUniqueID\":0,\"fBits\":50331656,\"fLineColor\":1,\"fLineStyle\":2,\"fLineWidth\":1,\"fX1\":1.7,\"fY1\":0.6,\"fX2\":1.7,\"fY2\":1.1},{\"_typename\":\"TLine\",\"fUniqueID\":0,\"fBits\":50331656,\"fLineColor\":1,\"fLineStyle\":2,\"fLineWidth\":1,\"fX1\":2.4,\"fY1\":0.6,\"fX2\":2.4,\"fY2\":1.1},{\"_typename\":\"TLine\",\"fUniqueID\":0,\"fBits\":50331656,\"fLineColor\":1,\"fLineStyle\":2,\"fLineWidth\":1,\"fX1\":2.8,\"fY1\":0.6,\"fX2\":2.8,\"fY2\":1.1}],\"opt\":[\"\",\"pa\",\",p\",\"same\",\"same\",\"\",\"\",\"same\",\"same\",\"same\",\"same\",\"same\",\"same\",\"same\",\"same\",\"same\"]},\"fExecs\":null,\"fName\":\"c_f1d334\",\"fTitle\":\"c_f1d334\",\"fNumPaletteColor\":0,\"fNextPaletteColor\":0,\"fDISPLAY\":\"$DISPLAY\",\"fDoubleBuffer\":0,\"fRetained\":true,\"fXsizeUser\":0,\"fYsizeUser\":0,\"fXsizeReal\":20,\"fYsizeReal\":20,\"fWindowTopX\":0,\"fWindowTopY\":0,\"fWindowWidth\":0,\"fWindowHeight\":0,\"fCw\":596,\"fCh\":572,\"fCatt\":{\"_typename\":\"TAttCanvas\",\"fXBetween\":2,\"fYBetween\":2,\"fTitleFromTop\":1.2,\"fXdate\":0.2,\"fYdate\":0.3,\"fAdate\":1},\"kMoveOpaque\":true,\"kResizeOpaque\":true,\"fHighLightColor\":2,\"fBatch\":true,\"kShowEventStatus\":false,\"kAutoExec\":true,\"kMenuBar\":true});\n",
       "       Core.draw(\"root_plot_12\", obj, \"\");\n",
       "     }\n",
       " );\n",
       "</script>\n"
      ],
      "text/plain": [
       "<IPython.core.display.HTML object>"
      ]
     },
     "metadata": {},
     "output_type": "display_data"
    }
   ],
   "source": [
    "hsets, labels, text = hplot.get_histo(histos.HistoSetEff, sample, ['PU200'], ['TkEleELBRL'], 'Pt20', 'GENPt30', debug=False)\n",
    "\n",
    "newset = []\n",
    "\n",
    "h_barrel = hsets[0].h_eff.h_eta.CreateGraph()\n",
    "\n",
    "hsets, labels, text = hplot.get_histo(histos.HistoSetEff, sample, ['PU200'], ['TkEleEL'], 'EGq5Pt20', 'GENPt30', debug=False)\n",
    "\n",
    "h_endcap = hsets[0].h_eff.h_eta.CreateGraph()\n",
    "\n",
    "newset.append(h_barrel)\n",
    "newset.append(h_endcap)\n",
    "\n",
    "newlabels = ['barrel', 'endcap']\n",
    "\n",
    "draw(newset, newlabels, text=text, min_y=0.6, max_y=1.1, v_lines=[-2.8, -2.4, -1.7, -1.52, 1.52, 1.7, 2.4, 2.8],\n",
    "     do_write=True, write_name='egammaEndcap_TkEle_EGq4Pt30_GENPt40_hEffVEta')\n"
   ]
  },
  {
   "cell_type": "code",
   "execution_count": 37,
   "metadata": {},
   "outputs": [
    {
     "data": {
      "text/plain": [
       "<drawingTools.DrawMachine at 0x11ae0b750>"
      ]
     },
     "execution_count": 37,
     "metadata": {},
     "output_type": "execute_result"
    },
    {
     "data": {
      "text/html": [
       "\n",
       "<div id=\"root_plot_13\"\n",
       "     style=\"width: 796px; height: 572px\">\n",
       "</div>\n",
       "\n",
       "<script>\n",
       " requirejs.config({\n",
       "     paths: {\n",
       "       'JSRootCore' : 'https://root.cern.ch/js/notebook//scripts/JSRootCore',\n",
       "     }\n",
       "   });\n",
       " require(['JSRootCore'],\n",
       "     function(Core) {\n",
       "       var obj = Core.JSONR_unref({\"_typename\":\"TCanvas\",\"fUniqueID\":0,\"fBits\":53673992,\"fLineColor\":1,\"fLineStyle\":1,\"fLineWidth\":1,\"fFillColor\":0,\"fFillStyle\":1001,\"fLeftMargin\":0.13,\"fRightMargin\":0.3,\"fBottomMargin\":0.13,\"fTopMargin\":0.1,\"fXfile\":2,\"fYfile\":2,\"fAfile\":1,\"fXstat\":0.99,\"fYstat\":0.99,\"fAstat\":2,\"fFrameFillColor\":0,\"fFrameLineColor\":1,\"fFrameFillStyle\":1001,\"fFrameLineStyle\":1,\"fFrameLineWidth\":1,\"fFrameBorderSize\":1,\"fFrameBorderMode\":0,\"fX1\":-5.24210522353154,\"fY1\":0.515584416589722,\"fX2\":7.38947388234231,\"fY2\":1.16493506751116,\"fXtoAbsPixelk\":330.340043357658,\"fXtoPixelk\":330.340043357658,\"fXtoPixel\":63.0166658759117,\"fYtoAbsPixelk\":1026.16804978691,\"fYtoPixelk\":1026.16804978691,\"fYtoPixel\":-880.879997869134,\"fUtoAbsPixelk\":5e-5,\"fUtoPixelk\":5e-5,\"fUtoPixel\":796,\"fVtoAbsPixelk\":572.00005,\"fVtoPixelk\":572,\"fVtoPixel\":-572,\"fAbsPixeltoXk\":-5.24210522353154,\"fPixeltoXk\":-5.24210522353154,\"fPixeltoX\":0.0158688179722033,\"fAbsPixeltoYk\":1.16493506751116,\"fPixeltoYk\":0.515584416589722,\"fPixeltoY\":-0.00113522841070182,\"fXlowNDC\":0,\"fYlowNDC\":0,\"fXUpNDC\":0,\"fYUpNDC\":0,\"fWNDC\":1,\"fHNDC\":1,\"fAbsXlowNDC\":0,\"fAbsYlowNDC\":0,\"fAbsWNDC\":1,\"fAbsHNDC\":1,\"fUxmin\":-3.6,\"fUymin\":0.6,\"fUxmax\":3.6,\"fUymax\":1.1,\"fTheta\":30,\"fPhi\":30,\"fAspectRatio\":0,\"fNumber\":0,\"fTickx\":0,\"fTicky\":0,\"fLogx\":0,\"fLogy\":0,\"fLogz\":0,\"fPadPaint\":0,\"fCrosshair\":0,\"fCrosshairPos\":0,\"fBorderSize\":2,\"fBorderMode\":0,\"fModified\":false,\"fGridx\":false,\"fGridy\":false,\"fAbsCoord\":false,\"fEditable\":true,\"fFixedAspectRatio\":false,\"fPrimitives\":{\"_typename\":\"TList\",\"name\":\"TList\",\"arr\":[{\"_typename\":\"TFrame\",\"fUniqueID\":0,\"fBits\":50331656,\"fLineColor\":1,\"fLineStyle\":1,\"fLineWidth\":1,\"fFillColor\":0,\"fFillStyle\":1001,\"fX1\":-3.6,\"fY1\":0.6,\"fX2\":3.6,\"fY2\":1.1,\"fBorderSize\":1,\"fBorderMode\":0},{\"_typename\":\"TGraphAsymmErrors\",\"fUniqueID\":0,\"fBits\":50332680,\"fName\":\"8cb260\",\"fTitle\":\"; #eta^{GEN};\",\"fLineColor\":1,\"fLineStyle\":1,\"fLineWidth\":1,\"fFillColor\":0,\"fFillStyle\":1001,\"fMarkerColor\":1,\"fMarkerStyle\":8,\"fMarkerSize\":0.5,\"fNpoints\":50,\"fX\":[-2.94,-2.82,-2.7,-2.58,-2.46,-2.34,-2.22,-2.1,-1.98,-1.86,-1.74,-1.62,-1.5,-1.38,-1.26,-1.14,-1.02,-0.9,-0.78,-0.66,-0.54,-0.42,-0.3,-0.18,-0.0600000000000001,0.06,0.18,0.3,0.42,0.54,0.66,0.78,0.9,1.02,1.14,1.26,1.38,1.5,1.62,1.74,1.86,1.98,2.1,2.22,2.34,2.46,2.58,2.7,2.82,2.94],\"fY\":[0,0,0,0,0,0,0,0,0,0,0,0,0.343795620437956,0.891506067094932,0.903080390683696,0.906316536550745,0.916184971098266,0.903640256959315,0.925680647534952,0.915671117357695,0.913907284768212,0.915115413253909,0.931189229618549,0.932818532818533,0.818448023426061,0.880563798219585,0.927219796215429,0.915492957746479,0.912824207492795,0.911026615969582,0.931386861313869,0.920588235294118,0.902757619738752,0.907971014492754,0.894553072625698,0.903631284916201,0.8921639108555,0.321428571428571,0,0,0,0,0,0,0,0,0,0,0,0],\"fFunctions\":{\"_typename\":\"TList\",\"name\":\"TList\",\"arr\":[],\"opt\":[]},\"fHistogram\":{\"_typename\":\"TH1F\",\"fUniqueID\":0,\"fBits\":50332160,\"fName\":\"8cb260\",\"fTitle\":\"\",\"fLineColor\":602,\"fLineStyle\":1,\"fLineWidth\":1,\"fFillColor\":0,\"fFillStyle\":1001,\"fMarkerColor\":1,\"fMarkerStyle\":1,\"fMarkerSize\":1,\"fNcells\":102,\"fXaxis\":{\"_typename\":\"TAxis\",\"fUniqueID\":0,\"fBits\":50331656,\"fName\":\"xaxis\",\"fTitle\":\" #eta^{GEN}\",\"fNdivisions\":510,\"fAxisColor\":1,\"fLabelColor\":1,\"fLabelFont\":42,\"fLabelOffset\":0.005,\"fLabelSize\":0.035,\"fTickLength\":0.03,\"fTitleOffset\":1.4,\"fTitleSize\":0.035,\"fTitleColor\":1,\"fTitleFont\":42,\"fNbins\":100,\"fXmin\":-3.6,\"fXmax\":3.6,\"fXbins\":[],\"fFirst\":0,\"fLast\":0,\"fBits2\":0,\"fTimeDisplay\":false,\"fTimeFormat\":\"\",\"fLabels\":null,\"fModLabs\":null},\"fYaxis\":{\"_typename\":\"TAxis\",\"fUniqueID\":0,\"fBits\":50331656,\"fName\":\"yaxis\",\"fTitle\":\"\",\"fNdivisions\":510,\"fAxisColor\":1,\"fLabelColor\":1,\"fLabelFont\":42,\"fLabelOffset\":0.005,\"fLabelSize\":0.035,\"fTickLength\":0.03,\"fTitleOffset\":0,\"fTitleSize\":0.035,\"fTitleColor\":1,\"fTitleFont\":42,\"fNbins\":1,\"fXmin\":0,\"fXmax\":1.03379188144119,\"fXbins\":[],\"fFirst\":0,\"fLast\":0,\"fBits2\":0,\"fTimeDisplay\":false,\"fTimeFormat\":\"\",\"fLabels\":null,\"fModLabs\":null},\"fZaxis\":{\"_typename\":\"TAxis\",\"fUniqueID\":0,\"fBits\":50331648,\"fName\":\"zaxis\",\"fTitle\":\"\",\"fNdivisions\":510,\"fAxisColor\":1,\"fLabelColor\":1,\"fLabelFont\":42,\"fLabelOffset\":0.005,\"fLabelSize\":0.035,\"fTickLength\":0.03,\"fTitleOffset\":1,\"fTitleSize\":0.035,\"fTitleColor\":1,\"fTitleFont\":42,\"fNbins\":1,\"fXmin\":0,\"fXmax\":1,\"fXbins\":[],\"fFirst\":0,\"fLast\":0,\"fBits2\":0,\"fTimeDisplay\":false,\"fTimeFormat\":\"\",\"fLabels\":null,\"fModLabs\":null},\"fBarOffset\":0,\"fBarWidth\":1000,\"fEntries\":0,\"fTsumw\":0,\"fTsumw2\":0,\"fTsumwx\":0,\"fTsumwx2\":0,\"fMaximum\":1.1,\"fMinimum\":0.6,\"fNormFactor\":0,\"fContour\":[],\"fSumw2\":[],\"fOption\":\"\",\"fFunctions\":{\"_typename\":\"TList\",\"name\":\"TList\",\"arr\":[],\"opt\":[]},\"fBufferSize\":0,\"fBuffer\":[],\"fBinStatErrOpt\":0,\"fStatOverflows\":2,\"fArray\":[0,0,0,0,0,0,0,0,0,0,0,0,0,0,0,0,0,0,0,0,0,0,0,0,0,0,0,0,0,0,0,0,0,0,0,0,0,0,0,0,0,0,0,0,0,0,0,0,0,0,0,0,0,0,0,0,0,0,0,0,0,0,0,0,0,0,0,0,0,0,0,0,0,0,0,0,0,0,0,0,0,0,0,0,0,0,0,0,0,0,0,0,0,0,0,0,0,0,0,0,0,0]},\"fMinimum\":-1111,\"fMaximum\":-1111,\"fEXlow\":[0.0600000000000001,0.0600000000000001,0.0600000000000001,0.0600000000000001,0.0600000000000001,0.0600000000000001,0.0600000000000001,0.0600000000000001,0.0600000000000001,0.0600000000000001,0.0600000000000001,0.0600000000000001,0.0600000000000001,0.0600000000000001,0.0600000000000001,0.0600000000000001,0.0600000000000001,0.0600000000000001,0.0600000000000001,0.0600000000000001,0.0600000000000001,0.06,0.06,0.06,0.06,0.06,0.06,0.06,0.06,0.0600000000000001,0.0600000000000001,0.0600000000000001,0.0600000000000001,0.0600000000000001,0.0600000000000001,0.0600000000000001,0.0600000000000001,0.0600000000000001,0.0600000000000001,0.0600000000000001,0.0600000000000001,0.0600000000000001,0.0600000000000001,0.0600000000000001,0.0600000000000001,0.0600000000000001,0.0600000000000001,0.0600000000000001,0.0600000000000001,0.0600000000000001],\"fEXhigh\":[0.0599999999999999,0.0599999999999999,0.0599999999999999,0.0599999999999999,0.0599999999999999,0.0599999999999999,0.0599999999999999,0.0599999999999999,0.0599999999999999,0.0599999999999999,0.0599999999999999,0.0599999999999999,0.0599999999999999,0.0599999999999999,0.0599999999999999,0.0599999999999999,0.0599999999999999,0.0599999999999999,0.0599999999999999,0.0599999999999999,0.0599999999999999,0.06,0.06,0.06,0.06,0.06,0.06,0.06,0.06,0.0599999999999999,0.0599999999999999,0.0599999999999999,0.0599999999999999,0.0599999999999999,0.0599999999999999,0.0599999999999999,0.0599999999999999,0.0599999999999999,0.0599999999999999,0.0599999999999999,0.0599999999999999,0.0599999999999999,0.0599999999999999,0.0599999999999999,0.0599999999999999,0.0599999999999999,0.0599999999999999,0.0599999999999999,0.0599999999999999,0.0599999999999999],\"fEYlow\":[0,0,0,0,0,0,0,0,0,0,0,0,0.0130755867540792,0.00895706630100634,0.00880205770677334,0.0084196046215933,0.00812629083500027,0.00854198345701085,0.0078138532526606,0.00802470939153654,0.00829700697804248,0.00830272190063697,0.00763867482944636,0.00769753383290561,0.011034552127418,0.00949731653029373,0.00770078342257574,0.00804080578699096,0.00824433242014777,0.00855979226261561,0.00752840736554727,0.00802536215136518,0.00865025797655306,0.00845365719295743,0.00875257880500557,0.00844211105728043,0.00896988045841318,0.0124527189804768,0,0,0,0,0,0,0,0,0,0,0,0],\"fEYhigh\":[0.00137500422158772,0.00136582338782904,0.00131791420062627,0.00138119365497363,0.00136379982725082,0.00135476751478286,0.00131603001377073,0.00135277655779423,0.00130947757543399,0.00139058299428434,0.00132550521137524,0.0013122777566049,0.0133100033541239,0.00837439633848835,0.00816858000788157,0.00781672766334718,0.0074959411817791,0.00793991567963492,0.00715525065318623,0.00741285425201255,0.00765867051211888,0.00765452714498782,0.00695908355126162,0.00699226849163903,0.0105521477482597,0.00890921692689139,0.00704687803863269,0.00742791867894876,0.00762142591914383,0.00790465116879313,0.0068652423065505,0.00737608778892684,0.00803937269756849,0.00783510762507,0.00817804210332496,0.00785336343523113,0.00838188522167005,0.0127047862952404,0.00133900204067411,0.00133221944252432,0.00133705711846472,0.00136077570411657,0.00130576253705623,0.00133705711846472,0.00131791420062627,0.00137706119322728,0.00124316017929952,0.001321698806589,0.001321698806589,0.00129931169164107]},{\"_typename\":\"TLatex\",\"fUniqueID\":0,\"fBits\":50348040,\"fName\":\"\",\"fTitle\":\"PU200, TkEle Ell. match barrel, p_{T}^{L1}>=20GeV, p_{T}^{GEN}>=30GeV\",\"fTextAngle\":0,\"fTextSize\":0.03,\"fTextAlign\":11,\"fTextColor\":1,\"fTextFont\":62,\"fX\":0.15,\"fY\":0.85,\"fLineColor\":1,\"fLineStyle\":1,\"fLineWidth\":2,\"fLimitFactorSize\":3,\"fOriginSize\":0.04},{\"_typename\":\"TLatex\",\"fUniqueID\":0,\"fBits\":50331656,\"fName\":\"\",\"fTitle\":\"\",\"fTextAngle\":0,\"fTextSize\":0.03,\"fTextAlign\":11,\"fTextColor\":1,\"fTextFont\":62,\"fX\":0,\"fY\":0,\"fLineColor\":1,\"fLineStyle\":1,\"fLineWidth\":2,\"fLimitFactorSize\":3,\"fOriginSize\":0.04},{\"_typename\":\"TLine\",\"fUniqueID\":0,\"fBits\":50331656,\"fLineColor\":1,\"fLineStyle\":2,\"fLineWidth\":1,\"fX1\":-2.8,\"fY1\":0.6,\"fX2\":-2.8,\"fY2\":1.1},{\"_typename\":\"TLine\",\"fUniqueID\":0,\"fBits\":50331656,\"fLineColor\":1,\"fLineStyle\":2,\"fLineWidth\":1,\"fX1\":-2.4,\"fY1\":0.6,\"fX2\":-2.4,\"fY2\":1.1},{\"_typename\":\"TLine\",\"fUniqueID\":0,\"fBits\":50331656,\"fLineColor\":1,\"fLineStyle\":2,\"fLineWidth\":1,\"fX1\":-1.7,\"fY1\":0.6,\"fX2\":-1.7,\"fY2\":1.1},{\"_typename\":\"TLine\",\"fUniqueID\":0,\"fBits\":50331656,\"fLineColor\":1,\"fLineStyle\":2,\"fLineWidth\":1,\"fX1\":-1.52,\"fY1\":0.6,\"fX2\":-1.52,\"fY2\":1.1},{\"_typename\":\"TLine\",\"fUniqueID\":0,\"fBits\":50331656,\"fLineColor\":1,\"fLineStyle\":2,\"fLineWidth\":1,\"fX1\":1.52,\"fY1\":0.6,\"fX2\":1.52,\"fY2\":1.1},{\"_typename\":\"TLine\",\"fUniqueID\":0,\"fBits\":50331656,\"fLineColor\":1,\"fLineStyle\":2,\"fLineWidth\":1,\"fX1\":1.7,\"fY1\":0.6,\"fX2\":1.7,\"fY2\":1.1},{\"_typename\":\"TLine\",\"fUniqueID\":0,\"fBits\":50331656,\"fLineColor\":1,\"fLineStyle\":2,\"fLineWidth\":1,\"fX1\":2.4,\"fY1\":0.6,\"fX2\":2.4,\"fY2\":1.1},{\"_typename\":\"TLine\",\"fUniqueID\":0,\"fBits\":50331656,\"fLineColor\":1,\"fLineStyle\":2,\"fLineWidth\":1,\"fX1\":2.8,\"fY1\":0.6,\"fX2\":2.8,\"fY2\":1.1}],\"opt\":[\"\",\"pa\",\"same\",\"same\",\"same\",\"same\",\"same\",\"same\",\"same\",\"same\",\"same\",\"same\"]},\"fExecs\":null,\"fName\":\"c_088889\",\"fTitle\":\"c_088889\",\"fNumPaletteColor\":0,\"fNextPaletteColor\":0,\"fDISPLAY\":\"$DISPLAY\",\"fDoubleBuffer\":0,\"fRetained\":true,\"fXsizeUser\":0,\"fYsizeUser\":0,\"fXsizeReal\":20,\"fYsizeReal\":15,\"fWindowTopX\":0,\"fWindowTopY\":0,\"fWindowWidth\":0,\"fWindowHeight\":0,\"fCw\":796,\"fCh\":572,\"fCatt\":{\"_typename\":\"TAttCanvas\",\"fXBetween\":2,\"fYBetween\":2,\"fTitleFromTop\":1.2,\"fXdate\":0.2,\"fYdate\":0.3,\"fAdate\":1},\"kMoveOpaque\":true,\"kResizeOpaque\":true,\"fHighLightColor\":2,\"fBatch\":true,\"kShowEventStatus\":false,\"kAutoExec\":true,\"kMenuBar\":true});\n",
       "       Core.draw(\"root_plot_13\", obj, \"\");\n",
       "     }\n",
       " );\n",
       "</script>\n"
      ],
      "text/plain": [
       "<IPython.core.display.HTML object>"
      ]
     },
     "metadata": {},
     "output_type": "display_data"
    }
   ],
   "source": [
    "hsets, labels, text = hplot.get_histo(histos.HistoSetEff, sample, ['PU200'], ['TkEleBRL', 'TkEleELBRL'], 'Pt20', 'GENPt30', debug=False)\n",
    "draw([his.h_eff.h_eta.CreateGraph() for his in hsets], labels, text=text, min_y=0.6, max_y=1.1, v_lines=[-2.8, -2.4, -1.7, -1.52, 1.52, 1.7, 2.4, 2.8],\n",
    "     do_write=False, write_name='egammaEndcap_TkEle_EGq4Pt30_GENPt40_hEffVEta')\n"
   ]
  },
  {
   "cell_type": "markdown",
   "metadata": {},
   "source": [
    "## Efficiency vs $p_{T}$"
   ]
  },
  {
   "cell_type": "code",
   "execution_count": 38,
   "metadata": {},
   "outputs": [],
   "source": [
    "line_y1p0 = ROOT.TLine(0.,1., 110., 1.)\n",
    "line_y0p95 = ROOT.TLine(0.,0.95, 110., 0.95)\n",
    "line_y0p95.SetLineStyle(2)"
   ]
  },
  {
   "cell_type": "code",
   "execution_count": 39,
   "metadata": {},
   "outputs": [
    {
     "data": {
      "text/plain": [
       "<drawingTools.DrawMachine at 0x11a3a3e50>"
      ]
     },
     "execution_count": 39,
     "metadata": {},
     "output_type": "execute_result"
    },
    {
     "data": {
      "text/html": [
       "\n",
       "<div id=\"root_plot_14\"\n",
       "     style=\"width: 796px; height: 572px\">\n",
       "</div>\n",
       "\n",
       "<script>\n",
       " requirejs.config({\n",
       "     paths: {\n",
       "       'JSRootCore' : 'https://root.cern.ch/js/notebook//scripts/JSRootCore',\n",
       "     }\n",
       "   });\n",
       " require(['JSRootCore'],\n",
       "     function(Core) {\n",
       "       var obj = Core.JSONR_unref({\"_typename\":\"TCanvas\",\"fUniqueID\":0,\"fBits\":53673992,\"fLineColor\":1,\"fLineStyle\":1,\"fLineWidth\":1,\"fFillColor\":0,\"fFillStyle\":1001,\"fLeftMargin\":0.13,\"fRightMargin\":0.3,\"fBottomMargin\":0.13,\"fTopMargin\":0.1,\"fXfile\":2,\"fYfile\":2,\"fAfile\":1,\"fXstat\":0.99,\"fYstat\":0.99,\"fAstat\":2,\"fFrameFillColor\":0,\"fFrameLineColor\":1,\"fFrameFillStyle\":1001,\"fFrameLineStyle\":1,\"fFrameLineWidth\":1,\"fFrameBorderSize\":1,\"fFrameBorderMode\":0,\"fX1\":-25.0421046588559,\"fY1\":-0.185714283502611,\"fX2\":167.58947670572,\"fY2\":1.24285714852456,\"fXtoAbsPixelk\":103.480046204376,\"fXtoPixelk\":103.480046204376,\"fXtoPixel\":4.13224038530569,\"fYtoAbsPixelk\":497.640051065433,\"fYtoPixelk\":497.640051065433,\"fYtoPixel\":-400.399999031424,\"fUtoAbsPixelk\":5e-5,\"fUtoPixelk\":5e-5,\"fUtoPixel\":796,\"fVtoAbsPixelk\":572.00005,\"fVtoPixelk\":572,\"fVtoPixel\":-572,\"fAbsPixeltoXk\":-25.0421046588559,\"fPixeltoXk\":-25.0421046588559,\"fPixeltoX\":0.241999474076101,\"fAbsPixeltoYk\":1.24285714852456,\"fPixeltoYk\":-0.185714283502611,\"fPixeltoY\":-0.00249750250354401,\"fXlowNDC\":0,\"fYlowNDC\":0,\"fXUpNDC\":0,\"fYUpNDC\":0,\"fWNDC\":1,\"fHNDC\":1,\"fAbsXlowNDC\":0,\"fAbsYlowNDC\":0,\"fAbsWNDC\":1,\"fAbsHNDC\":1,\"fUxmin\":0,\"fUymin\":0,\"fUxmax\":109.8,\"fUymax\":1.1,\"fTheta\":30,\"fPhi\":30,\"fAspectRatio\":0,\"fNumber\":0,\"fTickx\":0,\"fTicky\":0,\"fLogx\":0,\"fLogy\":0,\"fLogz\":0,\"fPadPaint\":0,\"fCrosshair\":0,\"fCrosshairPos\":0,\"fBorderSize\":2,\"fBorderMode\":0,\"fModified\":false,\"fGridx\":false,\"fGridy\":false,\"fAbsCoord\":false,\"fEditable\":true,\"fFixedAspectRatio\":false,\"fPrimitives\":{\"_typename\":\"TList\",\"name\":\"TList\",\"arr\":[{\"_typename\":\"TFrame\",\"fUniqueID\":0,\"fBits\":50331656,\"fLineColor\":1,\"fLineStyle\":1,\"fLineWidth\":1,\"fFillColor\":0,\"fFillStyle\":1001,\"fX1\":0,\"fY1\":0,\"fX2\":109.8,\"fY2\":1.1,\"fBorderSize\":1,\"fBorderMode\":0},{\"_typename\":\"TGraphAsymmErrors\",\"fUniqueID\":0,\"fBits\":50332680,\"fName\":\"b5b7a6\",\"fTitle\":\"; p_{T}^{GEN} [GeV];\",\"fLineColor\":1,\"fLineStyle\":1,\"fLineWidth\":1,\"fFillColor\":0,\"fFillStyle\":1001,\"fMarkerColor\":1,\"fMarkerStyle\":8,\"fMarkerSize\":0.5,\"fNpoints\":49,\"fX\":[3,5,7,9,11,13,15,17,19,21,23,25,27,29,31,33,35,37,39,41,43,45,47,49,51,53,55,57,59,61,63,65,67,69,71,73,75,77,79,81,83,85,87,89,91,93,95,97,99],\"fY\":[0,0,0.00362976406533575,0.0164533820840951,0.215652173913043,0.392931392931393,0.497175141242938,0.573283858998145,0.591836734693878,0.702952029520295,0.693693693693694,0.731182795698925,0.772128060263653,0.804659498207885,0.785714285714286,0.82435129740519,0.792027729636049,0.846938775510204,0.804232804232804,0.872897196261682,0.862453531598513,0.865828092243187,0.877224199288256,0.897579143389199,0.883959044368601,0.896825396825397,0.88785046728972,0.901256732495512,0.923076923076923,0.906194690265487,0.923344947735192,0.926275992438563,0.913793103448276,0.917602996254682,0.923357664233577,0.919561243144424,0.884615384615385,0.936131386861314,0.934865900383142,0.891682785299807,0.92226148409894,0.918095238095238,0.925233644859813,0.915641476274165,0.93394495412844,0.938342967244701,0.928825622775801,0.936416184971098,0.916666666666667],\"fFunctions\":{\"_typename\":\"TList\",\"name\":\"TList\",\"arr\":[],\"opt\":[]},\"fHistogram\":{\"_typename\":\"TH1F\",\"fUniqueID\":0,\"fBits\":50332160,\"fName\":\"b5b7a6\",\"fTitle\":\"\",\"fLineColor\":602,\"fLineStyle\":1,\"fLineWidth\":1,\"fFillColor\":0,\"fFillStyle\":1001,\"fMarkerColor\":1,\"fMarkerStyle\":1,\"fMarkerSize\":1,\"fNcells\":102,\"fXaxis\":{\"_typename\":\"TAxis\",\"fUniqueID\":0,\"fBits\":50331656,\"fName\":\"xaxis\",\"fTitle\":\" p_{T}^{GEN} [GeV]\",\"fNdivisions\":510,\"fAxisColor\":1,\"fLabelColor\":1,\"fLabelFont\":42,\"fLabelOffset\":0.005,\"fLabelSize\":0.035,\"fTickLength\":0.03,\"fTitleOffset\":1.4,\"fTitleSize\":0.035,\"fTitleColor\":1,\"fTitleFont\":42,\"fNbins\":100,\"fXmin\":0,\"fXmax\":109.8,\"fXbins\":[],\"fFirst\":0,\"fLast\":0,\"fBits2\":0,\"fTimeDisplay\":false,\"fTimeFormat\":\"\",\"fLabels\":null,\"fModLabs\":null},\"fYaxis\":{\"_typename\":\"TAxis\",\"fUniqueID\":0,\"fBits\":50331656,\"fName\":\"yaxis\",\"fTitle\":\"\",\"fNdivisions\":510,\"fAxisColor\":1,\"fLabelColor\":1,\"fLabelFont\":42,\"fLabelOffset\":0.005,\"fLabelSize\":0.035,\"fTickLength\":0.03,\"fTitleOffset\":0,\"fTitleSize\":0.035,\"fTitleColor\":1,\"fTitleFont\":42,\"fNbins\":1,\"fXmin\":0,\"fXmax\":1.04384942481705,\"fXbins\":[],\"fFirst\":0,\"fLast\":0,\"fBits2\":0,\"fTimeDisplay\":false,\"fTimeFormat\":\"\",\"fLabels\":null,\"fModLabs\":null},\"fZaxis\":{\"_typename\":\"TAxis\",\"fUniqueID\":0,\"fBits\":50331648,\"fName\":\"zaxis\",\"fTitle\":\"\",\"fNdivisions\":510,\"fAxisColor\":1,\"fLabelColor\":1,\"fLabelFont\":42,\"fLabelOffset\":0.005,\"fLabelSize\":0.035,\"fTickLength\":0.03,\"fTitleOffset\":1,\"fTitleSize\":0.035,\"fTitleColor\":1,\"fTitleFont\":42,\"fNbins\":1,\"fXmin\":0,\"fXmax\":1,\"fXbins\":[],\"fFirst\":0,\"fLast\":0,\"fBits2\":0,\"fTimeDisplay\":false,\"fTimeFormat\":\"\",\"fLabels\":null,\"fModLabs\":null},\"fBarOffset\":0,\"fBarWidth\":1000,\"fEntries\":0,\"fTsumw\":0,\"fTsumw2\":0,\"fTsumwx\":0,\"fTsumwx2\":0,\"fMaximum\":1.1,\"fMinimum\":0,\"fNormFactor\":0,\"fContour\":[],\"fSumw2\":[],\"fOption\":\"\",\"fFunctions\":{\"_typename\":\"TList\",\"name\":\"TList\",\"arr\":[],\"opt\":[]},\"fBufferSize\":0,\"fBuffer\":[],\"fBinStatErrOpt\":0,\"fStatOverflows\":2,\"fArray\":[0,0,0,0,0,0,0,0,0,0,0,0,0,0,0,0,0,0,0,0,0,0,0,0,0,0,0,0,0,0,0,0,0,0,0,0,0,0,0,0,0,0,0,0,0,0,0,0,0,0,0,0,0,0,0,0,0,0,0,0,0,0,0,0,0,0,0,0,0,0,0,0,0,0,0,0,0,0,0,0,0,0,0,0,0,0,0,0,0,0,0,0,0,0,0,0,0,0,0,0,0,0]},\"fMinimum\":-1111,\"fMaximum\":-1111,\"fEXlow\":[1,1,1,1,1,1,1,1,1,1,1,1,1,1,1,1,1,1,1,1,1,1,1,1,1,1,1,1,1,1,1,1,1,1,1,1,1,1,1,1,1,1,1,1,1,1,1,1,1],\"fEXhigh\":[1,1,1,1,1,1,1,1,1,1,1,1,1,1,1,1,1,1,1,1,1,1,1,1,1,1,1,1,1,1,1,1,1,1,1,1,1,1,1,1,1,1,1,1,1,1,1,1,1],\"fEYlow\":[0,0,0.00234415012072571,0.00536130830239632,0.0174901185788943,0.0230514264439799,0.0226116597794631,0.0223520942853944,0.022254497068055,0.0209246736781864,0.0208149571327293,0.0200825346866533,0.0196688322665218,0.0182433876148937,0.0187560648583066,0.0186721904488857,0.0182829694355557,0.0163152724856792,0.0180992668071782,0.0160725781639565,0.0164881534361324,0.0174653609354041,0.0154435546778698,0.014807280777678,0.0147783896805511,0.0153853039247966,0.0153489883346154,0.0143090922806828,0.0135321374679012,0.0139223649580189,0.0127750680959973,0.0131851615699322,0.0140992334420609,0.0136820760489597,0.0131153243312375,0.0133735419647022,0.0149461257784248,0.0122309691442957,0.0126732636260609,0.0154442820694995,0.0129467541950775,0.0137833448618484,0.0131708165463646,0.0133180399048676,0.0124289371264391,0.0124523763795494,0.0125666975531052,0.0125992742161462,0.0141996528649186],\"fEYhigh\":[0.00323598815799914,0.00347414329597734,0.00476727430594483,0.00742395119869578,0.0185281995576229,0.0235167957599392,0.0226227482532651,0.0220686561574496,0.0218992085037468,0.0201414677115684,0.02008563623107,0.0192153177670695,0.0185920877493821,0.0170943670075491,0.0176842782516012,0.0173030162008945,0.0172199462695006,0.015068890558103,0.0169705513258421,0.0145897394350831,0.015057991154809,0.0158305084766415,0.0140163386434889,0.013222881852113,0.0133848269270634,0.0136972620557035,0.0138014481492374,0.0127675950511577,0.0117729529861581,0.0123823386601878,0.0111858519667501,0.0114413333957419,0.012392082513368,0.0119967510271272,0.011447894279521,0.0117206346357744,0.0135147803120189,0.0105019752509745,0.0108613019805269,0.0138236914924394,0.0113391581612032,0.0120657279879272,0.0114523290506001,0.0117484731404885,0.0107009401853791,0.0106110553162552,0.0109170955298079,0.0107682361145169,0.0124150140562492]},{\"_typename\":\"TLatex\",\"fUniqueID\":0,\"fBits\":50348040,\"fName\":\"\",\"fTitle\":\"PU200, TkEle Ell. match, hwQual 5, 1.52 < |#eta^{GEN}| <= 2.4\",\"fTextAngle\":0,\"fTextSize\":0.03,\"fTextAlign\":11,\"fTextColor\":1,\"fTextFont\":62,\"fX\":0.15,\"fY\":0.85,\"fLineColor\":1,\"fLineStyle\":1,\"fLineWidth\":2,\"fLimitFactorSize\":3,\"fOriginSize\":0.04},{\"_typename\":\"TLatex\",\"fUniqueID\":0,\"fBits\":50331656,\"fName\":\"\",\"fTitle\":\"\",\"fTextAngle\":0,\"fTextSize\":0.03,\"fTextAlign\":11,\"fTextColor\":1,\"fTextFont\":62,\"fX\":0,\"fY\":0,\"fLineColor\":1,\"fLineStyle\":1,\"fLineWidth\":2,\"fLimitFactorSize\":3,\"fOriginSize\":0.04},{\"_typename\":\"TLine\",\"fUniqueID\":0,\"fBits\":50331656,\"fLineColor\":1,\"fLineStyle\":2,\"fLineWidth\":1,\"fX1\":0,\"fY1\":0.95,\"fX2\":109.8,\"fY2\":0.95},{\"_typename\":\"TLine\",\"fUniqueID\":0,\"fBits\":50331656,\"fLineColor\":1,\"fLineStyle\":2,\"fLineWidth\":1,\"fX1\":0,\"fY1\":1,\"fX2\":109.8,\"fY2\":1}],\"opt\":[\"\",\"pa\",\"same\",\"same\",\"same\",\"same\"]},\"fExecs\":null,\"fName\":\"c_7a3121\",\"fTitle\":\"c_7a3121\",\"fNumPaletteColor\":0,\"fNextPaletteColor\":0,\"fDISPLAY\":\"$DISPLAY\",\"fDoubleBuffer\":0,\"fRetained\":true,\"fXsizeUser\":0,\"fYsizeUser\":0,\"fXsizeReal\":20,\"fYsizeReal\":15,\"fWindowTopX\":0,\"fWindowTopY\":0,\"fWindowWidth\":0,\"fWindowHeight\":0,\"fCw\":796,\"fCh\":572,\"fCatt\":{\"_typename\":\"TAttCanvas\",\"fXBetween\":2,\"fYBetween\":2,\"fTitleFromTop\":1.2,\"fXdate\":0.2,\"fYdate\":0.3,\"fAdate\":1},\"kMoveOpaque\":true,\"kResizeOpaque\":true,\"fHighLightColor\":2,\"fBatch\":true,\"kShowEventStatus\":false,\"kAutoExec\":true,\"kMenuBar\":true});\n",
       "       Core.draw(\"root_plot_14\", obj, \"\");\n",
       "     }\n",
       " );\n",
       "</script>\n"
      ],
      "text/plain": [
       "<IPython.core.display.HTML object>"
      ]
     },
     "metadata": {},
     "output_type": "display_data"
    }
   ],
   "source": [
    "hsets, labels, text = hplot.get_histo(histos.HistoSetEff, ['hybrid', 'ele-V9'], ['PU200'], 'TkEleEL', 'EGq5', 'GENEtaBC', debug=False)\n",
    "draw([his.h_eff.h_pt.CreateGraph() for his in hsets], labels, text=text, min_y=0, max_y=1.1, h_lines=[0.95, 1.])\n"
   ]
  },
  {
   "cell_type": "code",
   "execution_count": 40,
   "metadata": {},
   "outputs": [
    {
     "data": {
      "text/plain": [
       "<drawingTools.DrawMachine at 0x11a3a3c90>"
      ]
     },
     "execution_count": 40,
     "metadata": {},
     "output_type": "execute_result"
    },
    {
     "data": {
      "text/html": [
       "\n",
       "<div id=\"root_plot_15\"\n",
       "     style=\"width: 796px; height: 572px\">\n",
       "</div>\n",
       "\n",
       "<script>\n",
       " requirejs.config({\n",
       "     paths: {\n",
       "       'JSRootCore' : 'https://root.cern.ch/js/notebook//scripts/JSRootCore',\n",
       "     }\n",
       "   });\n",
       " require(['JSRootCore'],\n",
       "     function(Core) {\n",
       "       var obj = Core.JSONR_unref({\"_typename\":\"TCanvas\",\"fUniqueID\":0,\"fBits\":53673992,\"fLineColor\":1,\"fLineStyle\":1,\"fLineWidth\":1,\"fFillColor\":0,\"fFillStyle\":1001,\"fLeftMargin\":0.13,\"fRightMargin\":0.3,\"fBottomMargin\":0.13,\"fTopMargin\":0.1,\"fXfile\":2,\"fYfile\":2,\"fAfile\":1,\"fXstat\":0.99,\"fYstat\":0.99,\"fAstat\":2,\"fFrameFillColor\":0,\"fFrameLineColor\":1,\"fFrameFillStyle\":1001,\"fFrameLineStyle\":1,\"fFrameLineWidth\":1,\"fFrameBorderSize\":1,\"fFrameBorderMode\":0,\"fX1\":-25.0421046588559,\"fY1\":-0.185714283502611,\"fX2\":167.58947670572,\"fY2\":1.24285714852456,\"fXtoAbsPixelk\":103.480046204376,\"fXtoPixelk\":103.480046204376,\"fXtoPixel\":4.13224038530569,\"fYtoAbsPixelk\":497.640051065433,\"fYtoPixelk\":497.640051065433,\"fYtoPixel\":-400.399999031424,\"fUtoAbsPixelk\":5e-5,\"fUtoPixelk\":5e-5,\"fUtoPixel\":796,\"fVtoAbsPixelk\":572.00005,\"fVtoPixelk\":572,\"fVtoPixel\":-572,\"fAbsPixeltoXk\":-25.0421046588559,\"fPixeltoXk\":-25.0421046588559,\"fPixeltoX\":0.241999474076101,\"fAbsPixeltoYk\":1.24285714852456,\"fPixeltoYk\":-0.185714283502611,\"fPixeltoY\":-0.00249750250354401,\"fXlowNDC\":0,\"fYlowNDC\":0,\"fXUpNDC\":0,\"fYUpNDC\":0,\"fWNDC\":1,\"fHNDC\":1,\"fAbsXlowNDC\":0,\"fAbsYlowNDC\":0,\"fAbsWNDC\":1,\"fAbsHNDC\":1,\"fUxmin\":0,\"fUymin\":0,\"fUxmax\":109.8,\"fUymax\":1.1,\"fTheta\":30,\"fPhi\":30,\"fAspectRatio\":0,\"fNumber\":0,\"fTickx\":0,\"fTicky\":0,\"fLogx\":0,\"fLogy\":0,\"fLogz\":0,\"fPadPaint\":0,\"fCrosshair\":0,\"fCrosshairPos\":0,\"fBorderSize\":2,\"fBorderMode\":0,\"fModified\":false,\"fGridx\":false,\"fGridy\":false,\"fAbsCoord\":false,\"fEditable\":true,\"fFixedAspectRatio\":false,\"fPrimitives\":{\"_typename\":\"TList\",\"name\":\"TList\",\"arr\":[{\"_typename\":\"TFrame\",\"fUniqueID\":0,\"fBits\":50331656,\"fLineColor\":1,\"fLineStyle\":1,\"fLineWidth\":1,\"fFillColor\":0,\"fFillStyle\":1001,\"fX1\":0,\"fY1\":0,\"fX2\":109.8,\"fY2\":1.1,\"fBorderSize\":1,\"fBorderMode\":0},{\"_typename\":\"TGraphAsymmErrors\",\"fUniqueID\":0,\"fBits\":50332680,\"fName\":\"6fa075\",\"fTitle\":\"; p_{T}^{GEN} [GeV];\",\"fLineColor\":1,\"fLineStyle\":1,\"fLineWidth\":1,\"fFillColor\":0,\"fFillStyle\":1001,\"fMarkerColor\":1,\"fMarkerStyle\":8,\"fMarkerSize\":0.5,\"fNpoints\":49,\"fX\":[3,5,7,9,11,13,15,17,19,21,23,25,27,29,31,33,35,37,39,41,43,45,47,49,51,53,55,57,59,61,63,65,67,69,71,73,75,77,79,81,83,85,87,89,91,93,95,97,99],\"fY\":[0,0,0,0,0,0,0,0,0,0.003690036900369,0.0324324324324324,0.195340501792115,0.516007532956685,0.695340501792115,0.7125,0.782435129740519,0.76949740034662,0.829931972789116,0.795414462081129,0.869158878504673,0.860594795539034,0.863731656184486,0.877224199288256,0.895716945996276,0.883959044368601,0.896825396825397,0.88785046728972,0.901256732495512,0.919230769230769,0.906194690265487,0.923344947735192,0.926275992438563,0.913793103448276,0.917602996254682,0.923357664233577,0.919561243144424,0.884615384615385,0.936131386861314,0.932950191570881,0.891682785299807,0.92226148409894,0.918095238095238,0.925233644859813,0.915641476274165,0.93394495412844,0.938342967244701,0.928825622775801,0.936416184971098,0.916666666666667],\"fFunctions\":{\"_typename\":\"TList\",\"name\":\"TList\",\"arr\":[],\"opt\":[]},\"fHistogram\":{\"_typename\":\"TH1F\",\"fUniqueID\":0,\"fBits\":50332160,\"fName\":\"6fa075\",\"fTitle\":\"\",\"fLineColor\":602,\"fLineStyle\":1,\"fLineWidth\":1,\"fFillColor\":0,\"fFillStyle\":1001,\"fMarkerColor\":1,\"fMarkerStyle\":1,\"fMarkerSize\":1,\"fNcells\":102,\"fXaxis\":{\"_typename\":\"TAxis\",\"fUniqueID\":0,\"fBits\":50331656,\"fName\":\"xaxis\",\"fTitle\":\" p_{T}^{GEN} [GeV]\",\"fNdivisions\":510,\"fAxisColor\":1,\"fLabelColor\":1,\"fLabelFont\":42,\"fLabelOffset\":0.005,\"fLabelSize\":0.035,\"fTickLength\":0.03,\"fTitleOffset\":1.4,\"fTitleSize\":0.035,\"fTitleColor\":1,\"fTitleFont\":42,\"fNbins\":100,\"fXmin\":0,\"fXmax\":109.8,\"fXbins\":[],\"fFirst\":0,\"fLast\":0,\"fBits2\":0,\"fTimeDisplay\":false,\"fTimeFormat\":\"\",\"fLabels\":null,\"fModLabs\":null},\"fYaxis\":{\"_typename\":\"TAxis\",\"fUniqueID\":0,\"fBits\":50331656,\"fName\":\"yaxis\",\"fTitle\":\"\",\"fNdivisions\":510,\"fAxisColor\":1,\"fLabelColor\":1,\"fLabelFont\":42,\"fLabelOffset\":0.005,\"fLabelSize\":0.035,\"fTickLength\":0.03,\"fTitleOffset\":0,\"fTitleSize\":0.035,\"fTitleColor\":1,\"fTitleFont\":42,\"fNbins\":1,\"fXmin\":0,\"fXmax\":1.04384942481705,\"fXbins\":[],\"fFirst\":0,\"fLast\":0,\"fBits2\":0,\"fTimeDisplay\":false,\"fTimeFormat\":\"\",\"fLabels\":null,\"fModLabs\":null},\"fZaxis\":{\"_typename\":\"TAxis\",\"fUniqueID\":0,\"fBits\":50331648,\"fName\":\"zaxis\",\"fTitle\":\"\",\"fNdivisions\":510,\"fAxisColor\":1,\"fLabelColor\":1,\"fLabelFont\":42,\"fLabelOffset\":0.005,\"fLabelSize\":0.035,\"fTickLength\":0.03,\"fTitleOffset\":1,\"fTitleSize\":0.035,\"fTitleColor\":1,\"fTitleFont\":42,\"fNbins\":1,\"fXmin\":0,\"fXmax\":1,\"fXbins\":[],\"fFirst\":0,\"fLast\":0,\"fBits2\":0,\"fTimeDisplay\":false,\"fTimeFormat\":\"\",\"fLabels\":null,\"fModLabs\":null},\"fBarOffset\":0,\"fBarWidth\":1000,\"fEntries\":0,\"fTsumw\":0,\"fTsumw2\":0,\"fTsumwx\":0,\"fTsumwx2\":0,\"fMaximum\":1.1,\"fMinimum\":0,\"fNormFactor\":0,\"fContour\":[],\"fSumw2\":[],\"fOption\":\"\",\"fFunctions\":{\"_typename\":\"TList\",\"name\":\"TList\",\"arr\":[],\"opt\":[]},\"fBufferSize\":0,\"fBuffer\":[],\"fBinStatErrOpt\":0,\"fStatOverflows\":2,\"fArray\":[0,0,0,0,0,0,0,0,0,0,0,0,0,0,0,0,0,0,0,0,0,0,0,0,0,0,0,0,0,0,0,0,0,0,0,0,0,0,0,0,0,0,0,0,0,0,0,0,0,0,0,0,0,0,0,0,0,0,0,0,0,0,0,0,0,0,0,0,0,0,0,0,0,0,0,0,0,0,0,0,0,0,0,0,0,0,0,0,0,0,0,0,0,0,0,0,0,0,0,0,0,0]},\"fMinimum\":-1111,\"fMaximum\":-1111,\"fEXlow\":[1,1,1,1,1,1,1,1,1,1,1,1,1,1,1,1,1,1,1,1,1,1,1,1,1,1,1,1,1,1,1,1,1,1,1,1,1,1,1,1,1,1,1,1,1,1,1,1,1],\"fEXhigh\":[1,1,1,1,1,1,1,1,1,1,1,1,1,1,1,1,1,1,1,1,1,1,1,1,1,1,1,1,1,1,1,1,1,1,1,1,1,1,1,1,1,1,1,1,1,1,1,1,1],\"fEYlow\":[0,0,0,0,0,0,0,0,0,0.00238306935803498,0.00750022256828816,0.0170943670075491,0.0226378691430044,0.0207293173963968,0.0203991083916446,0.0200099972819097,0.018876490015003,0.0169270343492235,0.0183593197562569,0.0162429919399685,0.0165678910454611,0.0175624095895389,0.0154435546778698,0.0149075268841583,0.0147783896805511,0.0153853039247966,0.0153489883346154,0.0143090922806828,0.0137852885642663,0.0139223649580189,0.0127750680959973,0.0131851615699322,0.0140992334420609,0.0136820760489597,0.0131153243312375,0.0133735419647022,0.0149461257784248,0.0122309691442957,0.01281413315306,0.0154442820694995,0.0129467541950775,0.0137833448618484,0.0131708165463646,0.0133180399048676,0.0124289371264391,0.0124523763795494,0.0125666975531052,0.0125992742161462,0.0141996528649186],\"fEYhigh\":[0.00323598815799914,0.00347414329597734,0.00333566138424641,0.0033600127640479,0.00319665655273388,0.00382017233222616,0.00346108068132723,0.00340979796341216,0.00340979796341216,0.00484609619588345,0.0093851686541524,0.0182433876148942,0.022575033155766,0.0199977836755346,0.0196056238218368,0.0188229162097046,0.0178972241018505,0.0157444315396446,0.0172642257698333,0.0147761198965212,0.0151455350688788,0.0159375947466137,0.0140163386434889,0.0133313831332909,0.0133848269270634,0.0136972620557035,0.0138014481492374,0.0127675950511577,0.0120450274122909,0.0123823386601878,0.0111858519667501,0.0114413333957419,0.012392082513368,0.0119967510271272,0.011447894279521,0.0117206346357744,0.0135147803120189,0.0105019752509745,0.0110121236282096,0.0138236914924394,0.0113391581612032,0.0120657279879272,0.0114523290506001,0.0117484731404885,0.0107009401853791,0.0106110553162552,0.0109170955298079,0.0107682361145169,0.0124150140562492]},{\"_typename\":\"TLatex\",\"fUniqueID\":0,\"fBits\":50348040,\"fName\":\"\",\"fTitle\":\"PU200, TkEle Ell. match, hwQual 5, p_{T}^{L1}>=25GeV, 1.52 < |#eta^{GEN}| <= 2.4\",\"fTextAngle\":0,\"fTextSize\":0.03,\"fTextAlign\":11,\"fTextColor\":1,\"fTextFont\":62,\"fX\":0.15,\"fY\":0.85,\"fLineColor\":1,\"fLineStyle\":1,\"fLineWidth\":2,\"fLimitFactorSize\":3,\"fOriginSize\":0.04},{\"_typename\":\"TLatex\",\"fUniqueID\":0,\"fBits\":50331656,\"fName\":\"\",\"fTitle\":\"\",\"fTextAngle\":0,\"fTextSize\":0.03,\"fTextAlign\":11,\"fTextColor\":1,\"fTextFont\":62,\"fX\":0,\"fY\":0,\"fLineColor\":1,\"fLineStyle\":1,\"fLineWidth\":2,\"fLimitFactorSize\":3,\"fOriginSize\":0.04},{\"_typename\":\"TLine\",\"fUniqueID\":0,\"fBits\":50331656,\"fLineColor\":1,\"fLineStyle\":2,\"fLineWidth\":1,\"fX1\":0,\"fY1\":0.95,\"fX2\":109.8,\"fY2\":0.95},{\"_typename\":\"TLine\",\"fUniqueID\":0,\"fBits\":50331656,\"fLineColor\":1,\"fLineStyle\":2,\"fLineWidth\":1,\"fX1\":0,\"fY1\":1,\"fX2\":109.8,\"fY2\":1}],\"opt\":[\"\",\"pa\",\"same\",\"same\",\"same\",\"same\"]},\"fExecs\":null,\"fName\":\"c_5e3e7e\",\"fTitle\":\"c_5e3e7e\",\"fNumPaletteColor\":0,\"fNextPaletteColor\":0,\"fDISPLAY\":\"$DISPLAY\",\"fDoubleBuffer\":0,\"fRetained\":true,\"fXsizeUser\":0,\"fYsizeUser\":0,\"fXsizeReal\":20,\"fYsizeReal\":15,\"fWindowTopX\":0,\"fWindowTopY\":0,\"fWindowWidth\":0,\"fWindowHeight\":0,\"fCw\":796,\"fCh\":572,\"fCatt\":{\"_typename\":\"TAttCanvas\",\"fXBetween\":2,\"fYBetween\":2,\"fTitleFromTop\":1.2,\"fXdate\":0.2,\"fYdate\":0.3,\"fAdate\":1},\"kMoveOpaque\":true,\"kResizeOpaque\":true,\"fHighLightColor\":2,\"fBatch\":true,\"kShowEventStatus\":false,\"kAutoExec\":true,\"kMenuBar\":true});\n",
       "       Core.draw(\"root_plot_15\", obj, \"\");\n",
       "     }\n",
       " );\n",
       "</script>\n"
      ],
      "text/plain": [
       "<IPython.core.display.HTML object>"
      ]
     },
     "metadata": {},
     "output_type": "display_data"
    }
   ],
   "source": [
    "hsets, labels, text = hplot.get_histo(histos.HistoSetEff, ['hybrid', 'ele-V9'], ['PU200'], 'TkEleEL', 'EGq5Pt25', 'GENEtaBC', debug=False)\n",
    "draw([his.h_eff.h_pt.CreateGraph() for his in hsets], labels, text=text, min_y=0, max_y=1.1, h_lines=[0.95, 1.])\n"
   ]
  },
  {
   "cell_type": "code",
   "execution_count": 41,
   "metadata": {},
   "outputs": [
    {
     "data": {
      "text/plain": [
       "<drawingTools.DrawMachine at 0x11a3a0e90>"
      ]
     },
     "execution_count": 41,
     "metadata": {},
     "output_type": "execute_result"
    },
    {
     "data": {
      "text/html": [
       "\n",
       "<div id=\"root_plot_16\"\n",
       "     style=\"width: 796px; height: 572px\">\n",
       "</div>\n",
       "\n",
       "<script>\n",
       " requirejs.config({\n",
       "     paths: {\n",
       "       'JSRootCore' : 'https://root.cern.ch/js/notebook//scripts/JSRootCore',\n",
       "     }\n",
       "   });\n",
       " require(['JSRootCore'],\n",
       "     function(Core) {\n",
       "       var obj = Core.JSONR_unref({\"_typename\":\"TCanvas\",\"fUniqueID\":0,\"fBits\":53673992,\"fLineColor\":1,\"fLineStyle\":1,\"fLineWidth\":1,\"fFillColor\":0,\"fFillStyle\":1001,\"fLeftMargin\":0.13,\"fRightMargin\":0.3,\"fBottomMargin\":0.13,\"fTopMargin\":0.1,\"fXfile\":2,\"fYfile\":2,\"fAfile\":1,\"fXstat\":0.99,\"fYstat\":0.99,\"fAstat\":2,\"fFrameFillColor\":0,\"fFrameLineColor\":1,\"fFrameFillStyle\":1001,\"fFrameLineStyle\":1,\"fFrameLineWidth\":1,\"fFrameBorderSize\":1,\"fFrameBorderMode\":0,\"fX1\":-25.0421046588559,\"fY1\":-0.185714283502611,\"fX2\":167.58947670572,\"fY2\":1.24285714852456,\"fXtoAbsPixelk\":103.480046204376,\"fXtoPixelk\":103.480046204376,\"fXtoPixel\":4.13224038530569,\"fYtoAbsPixelk\":497.640051065433,\"fYtoPixelk\":497.640051065433,\"fYtoPixel\":-400.399999031424,\"fUtoAbsPixelk\":5e-5,\"fUtoPixelk\":5e-5,\"fUtoPixel\":796,\"fVtoAbsPixelk\":572.00005,\"fVtoPixelk\":572,\"fVtoPixel\":-572,\"fAbsPixeltoXk\":-25.0421046588559,\"fPixeltoXk\":-25.0421046588559,\"fPixeltoX\":0.241999474076101,\"fAbsPixeltoYk\":1.24285714852456,\"fPixeltoYk\":-0.185714283502611,\"fPixeltoY\":-0.00249750250354401,\"fXlowNDC\":0,\"fYlowNDC\":0,\"fXUpNDC\":0,\"fYUpNDC\":0,\"fWNDC\":1,\"fHNDC\":1,\"fAbsXlowNDC\":0,\"fAbsYlowNDC\":0,\"fAbsWNDC\":1,\"fAbsHNDC\":1,\"fUxmin\":0,\"fUymin\":0,\"fUxmax\":109.8,\"fUymax\":1.1,\"fTheta\":30,\"fPhi\":30,\"fAspectRatio\":0,\"fNumber\":0,\"fTickx\":0,\"fTicky\":0,\"fLogx\":0,\"fLogy\":0,\"fLogz\":0,\"fPadPaint\":0,\"fCrosshair\":0,\"fCrosshairPos\":0,\"fBorderSize\":2,\"fBorderMode\":0,\"fModified\":false,\"fGridx\":false,\"fGridy\":false,\"fAbsCoord\":false,\"fEditable\":true,\"fFixedAspectRatio\":false,\"fPrimitives\":{\"_typename\":\"TList\",\"name\":\"TList\",\"arr\":[{\"_typename\":\"TFrame\",\"fUniqueID\":0,\"fBits\":50331656,\"fLineColor\":1,\"fLineStyle\":1,\"fLineWidth\":1,\"fFillColor\":0,\"fFillStyle\":1001,\"fX1\":0,\"fY1\":0,\"fX2\":109.8,\"fY2\":1.1,\"fBorderSize\":1,\"fBorderMode\":0},{\"_typename\":\"TGraphAsymmErrors\",\"fUniqueID\":0,\"fBits\":50332680,\"fName\":\"23d7d8\",\"fTitle\":\"; p_{T}^{GEN} [GeV];\",\"fLineColor\":1,\"fLineStyle\":1,\"fLineWidth\":1,\"fFillColor\":0,\"fFillStyle\":1001,\"fMarkerColor\":1,\"fMarkerStyle\":8,\"fMarkerSize\":0.5,\"fNpoints\":49,\"fX\":[3,5,7,9,11,13,15,17,19,21,23,25,27,29,31,33,35,37,39,41,43,45,47,49,51,53,55,57,59,61,63,65,67,69,71,73,75,77,79,81,83,85,87,89,91,93,95,97,99],\"fY\":[0,0,0.00209643605870021,0.00918367346938776,0.49003984063745,0.609409190371991,0.697435897435897,0.723044397463002,0.765469061876248,0.778543307086614,0.824776785714286,0.805300713557594,0.828865979381443,0.837615621788284,0.847193347193347,0.857601713062099,0.843846949327818,0.854775828460039,0.899585921325052,0.896969696969697,0.882521489971347,0.867827868852459,0.878918918918919,0.884538152610442,0.897872340425532,0.895161290322581,0.882926829268293,0.891604675876727,0.905857740585774,0.924677898909812,0.918592964824121,0.902564102564103,0.904559915164369,0.914851485148515,0.918570009930487,0.896090534979424,0.918264379414733,0.917269906928645,0.919170984455959,0.927889713679745,0.907150480256137,0.926535087719298,0.930113052415211,0.932764140875133,0.918776371308017,0.933196300102775,0.913621262458472,0.921218487394958,0.932446264073695],\"fFunctions\":{\"_typename\":\"TList\",\"name\":\"TList\",\"arr\":[],\"opt\":[]},\"fHistogram\":{\"_typename\":\"TH1F\",\"fUniqueID\":0,\"fBits\":50332160,\"fName\":\"23d7d8\",\"fTitle\":\"\",\"fLineColor\":602,\"fLineStyle\":1,\"fLineWidth\":1,\"fFillColor\":0,\"fFillStyle\":1001,\"fMarkerColor\":1,\"fMarkerStyle\":1,\"fMarkerSize\":1,\"fNcells\":102,\"fXaxis\":{\"_typename\":\"TAxis\",\"fUniqueID\":0,\"fBits\":50331656,\"fName\":\"xaxis\",\"fTitle\":\" p_{T}^{GEN} [GeV]\",\"fNdivisions\":510,\"fAxisColor\":1,\"fLabelColor\":1,\"fLabelFont\":42,\"fLabelOffset\":0.005,\"fLabelSize\":0.035,\"fTickLength\":0.03,\"fTitleOffset\":1.4,\"fTitleSize\":0.035,\"fTitleColor\":1,\"fTitleFont\":42,\"fNbins\":100,\"fXmin\":0,\"fXmax\":109.8,\"fXbins\":[],\"fFirst\":0,\"fLast\":0,\"fBits2\":0,\"fTimeDisplay\":false,\"fTimeFormat\":\"\",\"fLabels\":null,\"fModLabs\":null},\"fYaxis\":{\"_typename\":\"TAxis\",\"fUniqueID\":0,\"fBits\":50331656,\"fName\":\"yaxis\",\"fTitle\":\"\",\"fNdivisions\":510,\"fAxisColor\":1,\"fLabelColor\":1,\"fLabelFont\":42,\"fLabelOffset\":0.005,\"fLabelSize\":0.035,\"fTickLength\":0.03,\"fTitleOffset\":0,\"fTitleSize\":0.035,\"fTitleColor\":1,\"fTitleFont\":42,\"fNbins\":1,\"fXmin\":0,\"fXmax\":1.03536907323343,\"fXbins\":[],\"fFirst\":0,\"fLast\":0,\"fBits2\":0,\"fTimeDisplay\":false,\"fTimeFormat\":\"\",\"fLabels\":null,\"fModLabs\":null},\"fZaxis\":{\"_typename\":\"TAxis\",\"fUniqueID\":0,\"fBits\":50331648,\"fName\":\"zaxis\",\"fTitle\":\"\",\"fNdivisions\":510,\"fAxisColor\":1,\"fLabelColor\":1,\"fLabelFont\":42,\"fLabelOffset\":0.005,\"fLabelSize\":0.035,\"fTickLength\":0.03,\"fTitleOffset\":1,\"fTitleSize\":0.035,\"fTitleColor\":1,\"fTitleFont\":42,\"fNbins\":1,\"fXmin\":0,\"fXmax\":1,\"fXbins\":[],\"fFirst\":0,\"fLast\":0,\"fBits2\":0,\"fTimeDisplay\":false,\"fTimeFormat\":\"\",\"fLabels\":null,\"fModLabs\":null},\"fBarOffset\":0,\"fBarWidth\":1000,\"fEntries\":0,\"fTsumw\":0,\"fTsumw2\":0,\"fTsumwx\":0,\"fTsumwx2\":0,\"fMaximum\":1.1,\"fMinimum\":0,\"fNormFactor\":0,\"fContour\":[],\"fSumw2\":[],\"fOption\":\"\",\"fFunctions\":{\"_typename\":\"TList\",\"name\":\"TList\",\"arr\":[],\"opt\":[]},\"fBufferSize\":0,\"fBuffer\":[],\"fBinStatErrOpt\":0,\"fStatOverflows\":2,\"fArray\":[0,0,0,0,0,0,0,0,0,0,0,0,0,0,0,0,0,0,0,0,0,0,0,0,0,0,0,0,0,0,0,0,0,0,0,0,0,0,0,0,0,0,0,0,0,0,0,0,0,0,0,0,0,0,0,0,0,0,0,0,0,0,0,0,0,0,0,0,0,0,0,0,0,0,0,0,0,0,0,0,0,0,0,0,0,0,0,0,0,0,0,0,0,0,0,0,0,0,0,0,0,0]},\"fMinimum\":-1111,\"fMaximum\":-1111,\"fEXlow\":[1,1,1,1,1,1,1,1,1,1,1,1,1,1,1,1,1,1,1,1,1,1,1,1,1,1,1,1,1,1,1,1,1,1,1,1,1,1,1,1,1,1,1,1,1,1,1,1,1],\"fEXhigh\":[1,1,1,1,1,1,1,1,1,1,1,1,1,1,1,1,1,1,1,1,1,1,1,1,1,1,1,1,1,1,1,1,1,1,1,1,1,1,1,1,1,1,1,1,1,1,1,1,1],\"fEYlow\":[0,0,0.00135398966885,0.00299738273535597,0.0162561550267564,0.0167993166257996,0.0154266518472647,0.0153150382929648,0.0141535728439574,0.0137983252021004,0.0136320892252233,0.0134711430154317,0.0129578573873123,0.0126957764353837,0.0124942027569896,0.0123680534210864,0.0125584950549482,0.0118454729563221,0.0106235375880125,0.0105885810636734,0.0108105106728645,0.0117458211653476,0.0116954574865978,0.0110325227562874,0.0108546736397089,0.0106492600120967,0.0109207605527238,0.0111031427549366,0.0104164449585648,0.00925202265654546,0.00961848973695356,0.0104455164802796,0.0105516337186897,0.0097124340417527,0.00955629854893125,0.0107305987214441,0.00965538032913682,0.00983398647377909,0.00975434970089251,0.00943879101769896,0.0104744147181737,0.00968756100616142,0.00916016717646817,0.00921020669982864,0.00986962576406536,0.0089953968853197,0.0103887505332435,0.00972751992944754,0.00901530856618815],\"fEYhigh\":[0.00192591439828387,0.00188838072126811,0.00275833444191357,0.00416601722352139,0.0162766096999225,0.0165519604761574,0.0150078000231435,0.0148266695765642,0.0136042713007887,0.0132296337113572,0.0128757879978103,0.0128240150839094,0.0122513098507399,0.0119720835042915,0.011740505087857,0.0115669607113816,0.0118162821743735,0.0111236711540527,0.00975246062476642,0.00974517884704817,0.0100451593219807,0.010956922837053,0.0108354185411897,0.010222539917477,0.00996307941011598,0.00981175313808724,0.0101377262125655,0.0102277144648282,0.0095208727879823,0.00836050974804636,0.00872881141610293,0.00957565222386636,0.00964659322188144,0.0088451081485994,0.00867755822397798,0.00987325913427872,0.00876280581569477,0.0089211093789594,0.00883481988740653,0.00847470787926197,0.00955699534328769,0.00869340502668925,0.00822100029520623,0.00822679108274638,0.0089341494433971,0.00804831192761324,0.00941897770514299,0.00878991135208318,0.00807414211178881]},{\"_typename\":\"TLatex\",\"fUniqueID\":0,\"fBits\":50348040,\"fName\":\"\",\"fTitle\":\"PU200, TkEle Ell. match all, LooseTkID, |#eta^{GEN}| <= 1.479\",\"fTextAngle\":0,\"fTextSize\":0.03,\"fTextAlign\":11,\"fTextColor\":1,\"fTextFont\":62,\"fX\":0.15,\"fY\":0.85,\"fLineColor\":1,\"fLineStyle\":1,\"fLineWidth\":2,\"fLimitFactorSize\":3,\"fOriginSize\":0.04},{\"_typename\":\"TLatex\",\"fUniqueID\":0,\"fBits\":50331656,\"fName\":\"\",\"fTitle\":\"\",\"fTextAngle\":0,\"fTextSize\":0.03,\"fTextAlign\":11,\"fTextColor\":1,\"fTextFont\":62,\"fX\":0,\"fY\":0,\"fLineColor\":1,\"fLineStyle\":1,\"fLineWidth\":2,\"fLimitFactorSize\":3,\"fOriginSize\":0.04},{\"_typename\":\"TLine\",\"fUniqueID\":0,\"fBits\":50331656,\"fLineColor\":1,\"fLineStyle\":2,\"fLineWidth\":1,\"fX1\":0,\"fY1\":0.95,\"fX2\":109.8,\"fY2\":0.95},{\"_typename\":\"TLine\",\"fUniqueID\":0,\"fBits\":50331656,\"fLineColor\":1,\"fLineStyle\":2,\"fLineWidth\":1,\"fX1\":0,\"fY1\":1,\"fX2\":109.8,\"fY2\":1}],\"opt\":[\"\",\"pa\",\"same\",\"same\",\"same\",\"same\"]},\"fExecs\":null,\"fName\":\"c_cf8441\",\"fTitle\":\"c_cf8441\",\"fNumPaletteColor\":0,\"fNextPaletteColor\":0,\"fDISPLAY\":\"$DISPLAY\",\"fDoubleBuffer\":0,\"fRetained\":true,\"fXsizeUser\":0,\"fYsizeUser\":0,\"fXsizeReal\":20,\"fYsizeReal\":15,\"fWindowTopX\":0,\"fWindowTopY\":0,\"fWindowWidth\":0,\"fWindowHeight\":0,\"fCw\":796,\"fCh\":572,\"fCatt\":{\"_typename\":\"TAttCanvas\",\"fXBetween\":2,\"fYBetween\":2,\"fTitleFromTop\":1.2,\"fXdate\":0.2,\"fYdate\":0.3,\"fAdate\":1},\"kMoveOpaque\":true,\"kResizeOpaque\":true,\"fHighLightColor\":2,\"fBatch\":true,\"kShowEventStatus\":false,\"kAutoExec\":true,\"kMenuBar\":true});\n",
       "       Core.draw(\"root_plot_16\", obj, \"\");\n",
       "     }\n",
       " );\n",
       "</script>\n"
      ],
      "text/plain": [
       "<IPython.core.display.HTML object>"
      ]
     },
     "metadata": {},
     "output_type": "display_data"
    }
   ],
   "source": [
    "hsets, labels, text = hplot.get_histo(histos.HistoSetEff, ['hybrid', 'ele-V9'], ['PU200'], 'TkEleELALL', 'LooseTkID', 'GENEtaF', debug=False)\n",
    "draw([his.h_eff.h_pt.CreateGraph() for his in hsets], labels, text=text, min_y=0, max_y=1.1, h_lines=[0.95, 1.])\n"
   ]
  },
  {
   "cell_type": "code",
   "execution_count": 42,
   "metadata": {},
   "outputs": [
    {
     "data": {
      "text/plain": [
       "<drawingTools.DrawMachine at 0x105894d90>"
      ]
     },
     "execution_count": 42,
     "metadata": {},
     "output_type": "execute_result"
    },
    {
     "data": {
      "text/html": [
       "\n",
       "<div id=\"root_plot_17\"\n",
       "     style=\"width: 796px; height: 572px\">\n",
       "</div>\n",
       "\n",
       "<script>\n",
       " requirejs.config({\n",
       "     paths: {\n",
       "       'JSRootCore' : 'https://root.cern.ch/js/notebook//scripts/JSRootCore',\n",
       "     }\n",
       "   });\n",
       " require(['JSRootCore'],\n",
       "     function(Core) {\n",
       "       var obj = Core.JSONR_unref({\"_typename\":\"TCanvas\",\"fUniqueID\":0,\"fBits\":53673992,\"fLineColor\":1,\"fLineStyle\":1,\"fLineWidth\":1,\"fFillColor\":0,\"fFillStyle\":1001,\"fLeftMargin\":0.13,\"fRightMargin\":0.3,\"fBottomMargin\":0.13,\"fTopMargin\":0.1,\"fXfile\":2,\"fYfile\":2,\"fAfile\":1,\"fXstat\":0.99,\"fYstat\":0.99,\"fAstat\":2,\"fFrameFillColor\":0,\"fFrameLineColor\":1,\"fFrameFillStyle\":1001,\"fFrameLineStyle\":1,\"fFrameLineWidth\":1,\"fFrameBorderSize\":1,\"fFrameBorderMode\":0,\"fX1\":-25.0421046588559,\"fY1\":-0.185714283502611,\"fX2\":167.58947670572,\"fY2\":1.24285714852456,\"fXtoAbsPixelk\":103.480046204376,\"fXtoPixelk\":103.480046204376,\"fXtoPixel\":4.13224038530569,\"fYtoAbsPixelk\":497.640051065433,\"fYtoPixelk\":497.640051065433,\"fYtoPixel\":-400.399999031424,\"fUtoAbsPixelk\":5e-5,\"fUtoPixelk\":5e-5,\"fUtoPixel\":796,\"fVtoAbsPixelk\":572.00005,\"fVtoPixelk\":572,\"fVtoPixel\":-572,\"fAbsPixeltoXk\":-25.0421046588559,\"fPixeltoXk\":-25.0421046588559,\"fPixeltoX\":0.241999474076101,\"fAbsPixeltoYk\":1.24285714852456,\"fPixeltoYk\":-0.185714283502611,\"fPixeltoY\":-0.00249750250354401,\"fXlowNDC\":0,\"fYlowNDC\":0,\"fXUpNDC\":0,\"fYUpNDC\":0,\"fWNDC\":1,\"fHNDC\":1,\"fAbsXlowNDC\":0,\"fAbsYlowNDC\":0,\"fAbsWNDC\":1,\"fAbsHNDC\":1,\"fUxmin\":0,\"fUymin\":0,\"fUxmax\":109.8,\"fUymax\":1.1,\"fTheta\":30,\"fPhi\":30,\"fAspectRatio\":0,\"fNumber\":0,\"fTickx\":0,\"fTicky\":0,\"fLogx\":0,\"fLogy\":0,\"fLogz\":0,\"fPadPaint\":0,\"fCrosshair\":0,\"fCrosshairPos\":0,\"fBorderSize\":2,\"fBorderMode\":0,\"fModified\":false,\"fGridx\":false,\"fGridy\":false,\"fAbsCoord\":false,\"fEditable\":true,\"fFixedAspectRatio\":false,\"fPrimitives\":{\"_typename\":\"TList\",\"name\":\"TList\",\"arr\":[{\"_typename\":\"TFrame\",\"fUniqueID\":0,\"fBits\":50331656,\"fLineColor\":1,\"fLineStyle\":1,\"fLineWidth\":1,\"fFillColor\":0,\"fFillStyle\":1001,\"fX1\":0,\"fY1\":0,\"fX2\":109.8,\"fY2\":1.1,\"fBorderSize\":1,\"fBorderMode\":0},{\"_typename\":\"TGraphAsymmErrors\",\"fUniqueID\":0,\"fBits\":50332680,\"fName\":\"b8765a\",\"fTitle\":\"; p_{T}^{GEN} [GeV];\",\"fLineColor\":1,\"fLineStyle\":1,\"fLineWidth\":1,\"fFillColor\":0,\"fFillStyle\":1001,\"fMarkerColor\":1,\"fMarkerStyle\":8,\"fMarkerSize\":0.5,\"fNpoints\":49,\"fX\":[3,5,7,9,11,13,15,17,19,21,23,25,27,29,31,33,35,37,39,41,43,45,47,49,51,53,55,57,59,61,63,65,67,69,71,73,75,77,79,81,83,85,87,89,91,93,95,97,99],\"fY\":[0,0,0.00209643605870021,0.00918367346938776,0.49003984063745,0.609409190371991,0.697435897435897,0.723044397463002,0.765469061876248,0.778543307086614,0.824776785714286,0.805300713557594,0.828865979381443,0.837615621788284,0.847193347193347,0.857601713062099,0.843846949327818,0.854775828460039,0.899585921325052,0.896969696969697,0.882521489971347,0.867827868852459,0.878918918918919,0.884538152610442,0.897872340425532,0.895161290322581,0.882926829268293,0.891604675876727,0.905857740585774,0.924677898909812,0.918592964824121,0.902564102564103,0.904559915164369,0.914851485148515,0.918570009930487,0.896090534979424,0.918264379414733,0.917269906928645,0.919170984455959,0.927889713679745,0.907150480256137,0.926535087719298,0.930113052415211,0.932764140875133,0.918776371308017,0.933196300102775,0.913621262458472,0.921218487394958,0.932446264073695],\"fFunctions\":{\"_typename\":\"TList\",\"name\":\"TList\",\"arr\":[],\"opt\":[]},\"fHistogram\":{\"_typename\":\"TH1F\",\"fUniqueID\":0,\"fBits\":50332160,\"fName\":\"b8765a\",\"fTitle\":\"\",\"fLineColor\":602,\"fLineStyle\":1,\"fLineWidth\":1,\"fFillColor\":0,\"fFillStyle\":1001,\"fMarkerColor\":1,\"fMarkerStyle\":1,\"fMarkerSize\":1,\"fNcells\":102,\"fXaxis\":{\"_typename\":\"TAxis\",\"fUniqueID\":0,\"fBits\":50331656,\"fName\":\"xaxis\",\"fTitle\":\" p_{T}^{GEN} [GeV]\",\"fNdivisions\":510,\"fAxisColor\":1,\"fLabelColor\":1,\"fLabelFont\":42,\"fLabelOffset\":0.005,\"fLabelSize\":0.035,\"fTickLength\":0.03,\"fTitleOffset\":1.4,\"fTitleSize\":0.035,\"fTitleColor\":1,\"fTitleFont\":42,\"fNbins\":100,\"fXmin\":0,\"fXmax\":109.8,\"fXbins\":[],\"fFirst\":0,\"fLast\":0,\"fBits2\":0,\"fTimeDisplay\":false,\"fTimeFormat\":\"\",\"fLabels\":null,\"fModLabs\":null},\"fYaxis\":{\"_typename\":\"TAxis\",\"fUniqueID\":0,\"fBits\":50331656,\"fName\":\"yaxis\",\"fTitle\":\"\",\"fNdivisions\":510,\"fAxisColor\":1,\"fLabelColor\":1,\"fLabelFont\":42,\"fLabelOffset\":0.005,\"fLabelSize\":0.035,\"fTickLength\":0.03,\"fTitleOffset\":0,\"fTitleSize\":0.035,\"fTitleColor\":1,\"fTitleFont\":42,\"fNbins\":1,\"fXmin\":0,\"fXmax\":1.03536907323343,\"fXbins\":[],\"fFirst\":0,\"fLast\":0,\"fBits2\":0,\"fTimeDisplay\":false,\"fTimeFormat\":\"\",\"fLabels\":null,\"fModLabs\":null},\"fZaxis\":{\"_typename\":\"TAxis\",\"fUniqueID\":0,\"fBits\":50331648,\"fName\":\"zaxis\",\"fTitle\":\"\",\"fNdivisions\":510,\"fAxisColor\":1,\"fLabelColor\":1,\"fLabelFont\":42,\"fLabelOffset\":0.005,\"fLabelSize\":0.035,\"fTickLength\":0.03,\"fTitleOffset\":1,\"fTitleSize\":0.035,\"fTitleColor\":1,\"fTitleFont\":42,\"fNbins\":1,\"fXmin\":0,\"fXmax\":1,\"fXbins\":[],\"fFirst\":0,\"fLast\":0,\"fBits2\":0,\"fTimeDisplay\":false,\"fTimeFormat\":\"\",\"fLabels\":null,\"fModLabs\":null},\"fBarOffset\":0,\"fBarWidth\":1000,\"fEntries\":0,\"fTsumw\":0,\"fTsumw2\":0,\"fTsumwx\":0,\"fTsumwx2\":0,\"fMaximum\":1.1,\"fMinimum\":0,\"fNormFactor\":0,\"fContour\":[],\"fSumw2\":[],\"fOption\":\"\",\"fFunctions\":{\"_typename\":\"TList\",\"name\":\"TList\",\"arr\":[],\"opt\":[]},\"fBufferSize\":0,\"fBuffer\":[],\"fBinStatErrOpt\":0,\"fStatOverflows\":2,\"fArray\":[0,0,0,0,0,0,0,0,0,0,0,0,0,0,0,0,0,0,0,0,0,0,0,0,0,0,0,0,0,0,0,0,0,0,0,0,0,0,0,0,0,0,0,0,0,0,0,0,0,0,0,0,0,0,0,0,0,0,0,0,0,0,0,0,0,0,0,0,0,0,0,0,0,0,0,0,0,0,0,0,0,0,0,0,0,0,0,0,0,0,0,0,0,0,0,0,0,0,0,0,0,0]},\"fMinimum\":-1111,\"fMaximum\":-1111,\"fEXlow\":[1,1,1,1,1,1,1,1,1,1,1,1,1,1,1,1,1,1,1,1,1,1,1,1,1,1,1,1,1,1,1,1,1,1,1,1,1,1,1,1,1,1,1,1,1,1,1,1,1],\"fEXhigh\":[1,1,1,1,1,1,1,1,1,1,1,1,1,1,1,1,1,1,1,1,1,1,1,1,1,1,1,1,1,1,1,1,1,1,1,1,1,1,1,1,1,1,1,1,1,1,1,1,1],\"fEYlow\":[0,0,0.00135398966885,0.00299738273535597,0.0162561550267564,0.0167993166257996,0.0154266518472647,0.0153150382929648,0.0141535728439574,0.0137983252021004,0.0136320892252233,0.0134711430154317,0.0129578573873123,0.0126957764353837,0.0124942027569896,0.0123680534210864,0.0125584950549482,0.0118454729563221,0.0106235375880125,0.0105885810636734,0.0108105106728645,0.0117458211653476,0.0116954574865978,0.0110325227562874,0.0108546736397089,0.0106492600120967,0.0109207605527238,0.0111031427549366,0.0104164449585648,0.00925202265654546,0.00961848973695356,0.0104455164802796,0.0105516337186897,0.0097124340417527,0.00955629854893125,0.0107305987214441,0.00965538032913682,0.00983398647377909,0.00975434970089251,0.00943879101769896,0.0104744147181737,0.00968756100616142,0.00916016717646817,0.00921020669982864,0.00986962576406536,0.0089953968853197,0.0103887505332435,0.00972751992944754,0.00901530856618815],\"fEYhigh\":[0.00192591439828387,0.00188838072126811,0.00275833444191357,0.00416601722352139,0.0162766096999225,0.0165519604761574,0.0150078000231435,0.0148266695765642,0.0136042713007887,0.0132296337113572,0.0128757879978103,0.0128240150839094,0.0122513098507399,0.0119720835042915,0.011740505087857,0.0115669607113816,0.0118162821743735,0.0111236711540527,0.00975246062476642,0.00974517884704817,0.0100451593219807,0.010956922837053,0.0108354185411897,0.010222539917477,0.00996307941011598,0.00981175313808724,0.0101377262125655,0.0102277144648282,0.0095208727879823,0.00836050974804636,0.00872881141610293,0.00957565222386636,0.00964659322188144,0.0088451081485994,0.00867755822397798,0.00987325913427872,0.00876280581569477,0.0089211093789594,0.00883481988740653,0.00847470787926197,0.00955699534328769,0.00869340502668925,0.00822100029520623,0.00822679108274638,0.0089341494433971,0.00804831192761324,0.00941897770514299,0.00878991135208318,0.00807414211178881]},{\"_typename\":\"TLatex\",\"fUniqueID\":0,\"fBits\":50348040,\"fName\":\"\",\"fTitle\":\"PU200, TkEle Ell. match all, LooseTkID, |#eta^{GEN}| <= 1.479\",\"fTextAngle\":0,\"fTextSize\":0.03,\"fTextAlign\":11,\"fTextColor\":1,\"fTextFont\":62,\"fX\":0.15,\"fY\":0.85,\"fLineColor\":1,\"fLineStyle\":1,\"fLineWidth\":2,\"fLimitFactorSize\":3,\"fOriginSize\":0.04},{\"_typename\":\"TLatex\",\"fUniqueID\":0,\"fBits\":50331656,\"fName\":\"\",\"fTitle\":\"\",\"fTextAngle\":0,\"fTextSize\":0.03,\"fTextAlign\":11,\"fTextColor\":1,\"fTextFont\":62,\"fX\":0,\"fY\":0,\"fLineColor\":1,\"fLineStyle\":1,\"fLineWidth\":2,\"fLimitFactorSize\":3,\"fOriginSize\":0.04},{\"_typename\":\"TLine\",\"fUniqueID\":0,\"fBits\":50331656,\"fLineColor\":1,\"fLineStyle\":2,\"fLineWidth\":1,\"fX1\":0,\"fY1\":0.95,\"fX2\":109.8,\"fY2\":0.95},{\"_typename\":\"TLine\",\"fUniqueID\":0,\"fBits\":50331656,\"fLineColor\":1,\"fLineStyle\":2,\"fLineWidth\":1,\"fX1\":0,\"fY1\":1,\"fX2\":109.8,\"fY2\":1}],\"opt\":[\"\",\"pa\",\"same\",\"same\",\"same\",\"same\"]},\"fExecs\":null,\"fName\":\"c_7be74d\",\"fTitle\":\"c_7be74d\",\"fNumPaletteColor\":0,\"fNextPaletteColor\":0,\"fDISPLAY\":\"$DISPLAY\",\"fDoubleBuffer\":0,\"fRetained\":true,\"fXsizeUser\":0,\"fYsizeUser\":0,\"fXsizeReal\":20,\"fYsizeReal\":15,\"fWindowTopX\":0,\"fWindowTopY\":0,\"fWindowWidth\":0,\"fWindowHeight\":0,\"fCw\":796,\"fCh\":572,\"fCatt\":{\"_typename\":\"TAttCanvas\",\"fXBetween\":2,\"fYBetween\":2,\"fTitleFromTop\":1.2,\"fXdate\":0.2,\"fYdate\":0.3,\"fAdate\":1},\"kMoveOpaque\":true,\"kResizeOpaque\":true,\"fHighLightColor\":2,\"fBatch\":true,\"kShowEventStatus\":false,\"kAutoExec\":true,\"kMenuBar\":true});\n",
       "       Core.draw(\"root_plot_17\", obj, \"\");\n",
       "     }\n",
       " );\n",
       "</script>\n"
      ],
      "text/plain": [
       "<IPython.core.display.HTML object>"
      ]
     },
     "metadata": {},
     "output_type": "display_data"
    }
   ],
   "source": [
    "hsets, labels, text = hplot.get_histo(histos.HistoSetEff, ['hybrid', 'ele-V9'], ['PU200'], 'TkEleELALL', 'LooseTkID', 'GENEtaF', debug=False)\n",
    "draw([his.h_eff.h_pt.CreateGraph() for his in hsets], labels, text=text, min_y=0, max_y=1.1, h_lines=[0.95, 1.])\n"
   ]
  },
  {
   "cell_type": "code",
   "execution_count": 43,
   "metadata": {},
   "outputs": [
    {
     "name": "stdout",
     "output_type": "stream",
     "text": [
      "['__doc__', '__init__', '__module__', 'h_abseta', 'h_energy', 'h_eta', 'h_fBrem', 'h_pt', 'h_reachedEE']\n",
      "['']\n"
     ]
    },
    {
     "data": {
      "text/plain": [
       "<drawingTools.DrawMachine at 0x11a5cc210>"
      ]
     },
     "execution_count": 43,
     "metadata": {},
     "output_type": "execute_result"
    },
    {
     "name": "stdout",
     "output_type": "stream",
     "text": [
      "ERROR in TPDF::Open: Cannot open file:figs/egammaEndcap_EG_EGq5Pt25_GENEtaBC_hEffvPt.pdf\n",
      "ERROR in TPDF::Open: Cannot open file:figs/egammaEndcap_EG_EGq5Pt25_GENEtaDE_hEffvPt.pdf\n"
     ]
    },
    {
     "data": {
      "text/html": [
       "\n",
       "<div id=\"root_plot_18\"\n",
       "     style=\"width: 596px; height: 572px\">\n",
       "</div>\n",
       "\n",
       "<script>\n",
       " requirejs.config({\n",
       "     paths: {\n",
       "       'JSRootCore' : 'https://root.cern.ch/js/notebook//scripts/JSRootCore',\n",
       "     }\n",
       "   });\n",
       " require(['JSRootCore'],\n",
       "     function(Core) {\n",
       "       var obj = Core.JSONR_unref({\"_typename\":\"TCanvas\",\"fUniqueID\":0,\"fBits\":53673992,\"fLineColor\":1,\"fLineStyle\":1,\"fLineWidth\":1,\"fFillColor\":0,\"fFillStyle\":1001,\"fLeftMargin\":0.13,\"fRightMargin\":0.13,\"fBottomMargin\":0.13,\"fTopMargin\":0.1,\"fXfile\":2,\"fYfile\":2,\"fAfile\":1,\"fXstat\":0.99,\"fYstat\":0.99,\"fAstat\":2,\"fFrameFillColor\":0,\"fFrameLineColor\":1,\"fFrameFillStyle\":1001,\"fFrameLineStyle\":1,\"fFrameLineWidth\":1,\"fFrameBorderSize\":1,\"fFrameBorderMode\":0,\"fX1\":-19.2891882330767,\"fY1\":-0.185714283502611,\"fX2\":129.089188233077,\"fY2\":1.24285714852456,\"fXtoAbsPixelk\":77.4800471580505,\"fXtoPixelk\":77.4800471580505,\"fXtoPixel\":4.01675779311383,\"fYtoAbsPixelk\":497.640051065433,\"fYtoPixelk\":497.640051065433,\"fYtoPixel\":-400.399999031424,\"fUtoAbsPixelk\":5e-5,\"fUtoPixelk\":5e-5,\"fUtoPixel\":596,\"fVtoAbsPixelk\":572.00005,\"fVtoPixelk\":572,\"fVtoPixel\":-572,\"fAbsPixeltoXk\":-19.2891882330767,\"fPixeltoXk\":-19.2891882330767,\"fPixeltoX\":0.248957007493546,\"fAbsPixeltoYk\":1.24285714852456,\"fPixeltoYk\":-0.185714283502611,\"fPixeltoY\":-0.00249750250354401,\"fXlowNDC\":0,\"fYlowNDC\":0,\"fXUpNDC\":0,\"fYUpNDC\":0,\"fWNDC\":1,\"fHNDC\":1,\"fAbsXlowNDC\":0,\"fAbsYlowNDC\":0,\"fAbsWNDC\":1,\"fAbsHNDC\":1,\"fUxmin\":0,\"fUymin\":0,\"fUxmax\":109.8,\"fUymax\":1.1,\"fTheta\":30,\"fPhi\":30,\"fAspectRatio\":0,\"fNumber\":0,\"fTickx\":0,\"fTicky\":0,\"fLogx\":0,\"fLogy\":0,\"fLogz\":0,\"fPadPaint\":0,\"fCrosshair\":0,\"fCrosshairPos\":0,\"fBorderSize\":2,\"fBorderMode\":0,\"fModified\":false,\"fGridx\":false,\"fGridy\":false,\"fAbsCoord\":false,\"fEditable\":true,\"fFixedAspectRatio\":false,\"fPrimitives\":{\"_typename\":\"TList\",\"name\":\"TList\",\"arr\":[{\"_typename\":\"TFrame\",\"fUniqueID\":0,\"fBits\":50331656,\"fLineColor\":1,\"fLineStyle\":1,\"fLineWidth\":1,\"fFillColor\":0,\"fFillStyle\":1001,\"fX1\":0,\"fY1\":0,\"fX2\":109.8,\"fY2\":1.1,\"fBorderSize\":1,\"fBorderMode\":0},{\"_typename\":\"TGraphAsymmErrors\",\"fUniqueID\":0,\"fBits\":50332680,\"fName\":\"35e9cc\",\"fTitle\":\"; p_{T}^{GEN} [GeV];\",\"fLineColor\":1,\"fLineStyle\":1,\"fLineWidth\":1,\"fFillColor\":0,\"fFillStyle\":1001,\"fMarkerColor\":1,\"fMarkerStyle\":8,\"fMarkerSize\":0.5,\"fNpoints\":49,\"fX\":[3,5,7,9,11,13,15,17,19,21,23,25,27,29,31,33,35,37,39,41,43,45,47,49,51,53,55,57,59,61,63,65,67,69,71,73,75,77,79,81,83,85,87,89,91,93,95,97,99],\"fY\":[0,0,0,0,0,0,0,0,0,0.00738007380073801,0.0378378378378378,0.231182795698925,0.589453860640301,0.810035842293907,0.853571428571429,0.922155688622755,0.92894280762565,0.960884353741497,0.973544973544973,0.981308411214953,0.981412639405205,0.983228511530398,0.991103202846975,0.988826815642458,0.988054607508532,0.994047619047619,0.981308411214953,0.987432675044883,0.986538461538462,0.994690265486726,0.993031358885017,0.992438563327032,0.988505747126437,0.99250936329588,0.992700729927007,0.992687385740402,0.987762237762238,0.992700729927007,0.990421455938697,0.988394584139265,0.99469964664311,0.990476190476191,0.988785046728972,0.991212653778559,0.994495412844037,0.990366088631985,0.987544483985765,0.994219653179191,0.996031746031746],\"fFunctions\":{\"_typename\":\"TList\",\"name\":\"TList\",\"arr\":[],\"opt\":[]},\"fHistogram\":{\"_typename\":\"TH1F\",\"fUniqueID\":0,\"fBits\":50332160,\"fName\":\"35e9cc\",\"fTitle\":\"\",\"fLineColor\":602,\"fLineStyle\":1,\"fLineWidth\":1,\"fFillColor\":0,\"fFillStyle\":1001,\"fMarkerColor\":1,\"fMarkerStyle\":1,\"fMarkerSize\":1,\"fNcells\":102,\"fXaxis\":{\"_typename\":\"TAxis\",\"fUniqueID\":0,\"fBits\":50331656,\"fName\":\"xaxis\",\"fTitle\":\" p_{T}^{GEN} [GeV]\",\"fNdivisions\":510,\"fAxisColor\":1,\"fLabelColor\":1,\"fLabelFont\":42,\"fLabelOffset\":0.005,\"fLabelSize\":0.035,\"fTickLength\":0.03,\"fTitleOffset\":1.4,\"fTitleSize\":0.035,\"fTitleColor\":1,\"fTitleFont\":42,\"fNbins\":100,\"fXmin\":0,\"fXmax\":109.8,\"fXbins\":[],\"fFirst\":0,\"fLast\":0,\"fBits2\":0,\"fTimeDisplay\":false,\"fTimeFormat\":\"\",\"fLabels\":null,\"fModLabs\":null},\"fYaxis\":{\"_typename\":\"TAxis\",\"fUniqueID\":0,\"fBits\":50331656,\"fName\":\"yaxis\",\"fTitle\":\"efficiency\",\"fNdivisions\":510,\"fAxisColor\":1,\"fLabelColor\":1,\"fLabelFont\":42,\"fLabelOffset\":0.005,\"fLabelSize\":0.035,\"fTickLength\":0.03,\"fTitleOffset\":0,\"fTitleSize\":0.035,\"fTitleColor\":1,\"fTitleFont\":42,\"fNbins\":1,\"fXmin\":0,\"fXmax\":1.09845390889711,\"fXbins\":[],\"fFirst\":0,\"fLast\":0,\"fBits2\":0,\"fTimeDisplay\":false,\"fTimeFormat\":\"\",\"fLabels\":null,\"fModLabs\":null},\"fZaxis\":{\"_typename\":\"TAxis\",\"fUniqueID\":0,\"fBits\":50331648,\"fName\":\"zaxis\",\"fTitle\":\"\",\"fNdivisions\":510,\"fAxisColor\":1,\"fLabelColor\":1,\"fLabelFont\":42,\"fLabelOffset\":0.005,\"fLabelSize\":0.035,\"fTickLength\":0.03,\"fTitleOffset\":1,\"fTitleSize\":0.035,\"fTitleColor\":1,\"fTitleFont\":42,\"fNbins\":1,\"fXmin\":0,\"fXmax\":1,\"fXbins\":[],\"fFirst\":0,\"fLast\":0,\"fBits2\":0,\"fTimeDisplay\":false,\"fTimeFormat\":\"\",\"fLabels\":null,\"fModLabs\":null},\"fBarOffset\":0,\"fBarWidth\":1000,\"fEntries\":0,\"fTsumw\":0,\"fTsumw2\":0,\"fTsumwx\":0,\"fTsumwx2\":0,\"fMaximum\":1.1,\"fMinimum\":0,\"fNormFactor\":0,\"fContour\":[],\"fSumw2\":[],\"fOption\":\"\",\"fFunctions\":{\"_typename\":\"TList\",\"name\":\"TList\",\"arr\":[],\"opt\":[]},\"fBufferSize\":0,\"fBuffer\":[],\"fBinStatErrOpt\":0,\"fStatOverflows\":2,\"fArray\":[0,0,0,0,0,0,0,0,0,0,0,0,0,0,0,0,0,0,0,0,0,0,0,0,0,0,0,0,0,0,0,0,0,0,0,0,0,0,0,0,0,0,0,0,0,0,0,0,0,0,0,0,0,0,0,0,0,0,0,0,0,0,0,0,0,0,0,0,0,0,0,0,0,0,0,0,0,0,0,0,0,0,0,0,0,0,0,0,0,0,0,0,0,0,0,0,0,0,0,0,0,0]},\"fMinimum\":-1111,\"fMaximum\":-1111,\"fEXlow\":[1,1,1,1,1,1,1,1,1,1,1,1,1,1,1,1,1,1,1,1,1,1,1,1,1,1,1,1,1,1,1,1,1,1,1,1,1,1,1,1,1,1,1,1,1,1,1,1,1],\"fEXhigh\":[1,1,1,1,1,1,1,1,1,1,1,1,1,1,1,1,1,1,1,1,1,1,1,1,1,1,1,1,1,1,1,1,1,1,1,1,1,1,1,1,1,1,1,1,1,1,1,1,1],\"fEYlow\":[0,0,0,0,0,0,0,0,0,0.00352873568893718,0.00809469852593761,0.0182246528043328,0.0224439261700444,0.0180768988004381,0.0164947303965466,0.0138854804233322,0.0123713782454677,0.00972871349047788,0.00859120530862012,0.00786912442989385,0.00782583579268781,0.00816710092935524,0.0059737590267116,0.00661389528310796,0.0063747814902555,0.00575608311035847,0.00786912442989385,0.00670344134240519,0.00717542559331075,0.00513789903212891,0.00547565985798459,0.00593828300205068,0.00680218917037967,0.00588305617639773,0.00573374703559981,0.00574416019065893,0.00652932408003815,0.00573374703559981,0.00642781693138983,0.00686735890781165,0.00512886911367827,0.00639138201668865,0.00663839665185484,0.00590081330917869,0.0053254181353003,0.00646466960444314,0.00664437962969699,0.00559067497121168,0.0052097913759015],\"fEYhigh\":[0.00323598815799914,0.00347414329597734,0.00333566138424641,0.0033600127640479,0.00319665655273388,0.00382017233222616,0.00346108068132723,0.00340979796341216,0.00340979796341216,0.00579679848644022,0.00994359012485641,0.019235422831664,0.0220925512282341,0.0169069664268279,0.0151579290572068,0.0120618066890014,0.0107656774079545,0.0079959307060008,0.00670413836519679,0.00578508327678007,0.00575296716111129,0.00578328504273973,0.00383763411696214,0.0044232029311766,0.0043950187236933,0.00323778639817562,0.00578508327678007,0.0046232812056034,0.00495137855572059,0.00288838484084541,0.00333218359763821,0.00361537098487752,0.00455004815934623,0.00358155099289759,0.00349013525328912,0.00349650990708239,0.00450233162526059,0.00349013525328912,0.00413127236781774,0.00459396218123065,0.00288328408766059,0.00410769969703229,0.00443970548563011,0.0037904862517889,0.00299432883481188,0.00415511714886663,0.00458224906380356,0.00314425678130226,0.00256271660198815]},{\"_typename\":\"TLatex\",\"fUniqueID\":0,\"fBits\":50348040,\"fName\":\"\",\"fTitle\":\"EG endcap, 1.52 < |#eta^{GEN}| #leq 2.4, p_{T}^{L1} #geq 25GeV\",\"fTextAngle\":0,\"fTextSize\":0.03,\"fTextAlign\":11,\"fTextColor\":1,\"fTextFont\":62,\"fX\":0.15,\"fY\":0.85,\"fLineColor\":1,\"fLineStyle\":1,\"fLineWidth\":2,\"fLimitFactorSize\":3,\"fOriginSize\":0.0299999993294477},{\"_typename\":\"TLatex\",\"fUniqueID\":0,\"fBits\":50348041,\"fName\":\"\",\"fTitle\":\"#scale[1.5]{CMS} #scale[1.]{Phase-2 Simulation}\",\"fTextAngle\":0,\"fTextSize\":0.03,\"fTextAlign\":11,\"fTextColor\":1,\"fTextFont\":62,\"fX\":0.13,\"fY\":0.91,\"fLineColor\":1,\"fLineStyle\":1,\"fLineWidth\":2,\"fLimitFactorSize\":3,\"fOriginSize\":0.0299999993294477},{\"_typename\":\"TLatex\",\"fUniqueID\":0,\"fBits\":50348041,\"fName\":\"\",\"fTitle\":\"14TeV, 200 PU\",\"fTextAngle\":0,\"fTextSize\":0.03,\"fTextAlign\":11,\"fTextColor\":1,\"fTextFont\":62,\"fX\":0.69,\"fY\":0.91,\"fLineColor\":1,\"fLineStyle\":1,\"fLineWidth\":2,\"fLimitFactorSize\":3,\"fOriginSize\":0.0299999993294477},{\"_typename\":\"TLatex\",\"fUniqueID\":0,\"fBits\":50331656,\"fName\":\"\",\"fTitle\":\"\",\"fTextAngle\":0,\"fTextSize\":0.03,\"fTextAlign\":11,\"fTextColor\":1,\"fTextFont\":62,\"fX\":0,\"fY\":0,\"fLineColor\":1,\"fLineStyle\":1,\"fLineWidth\":2,\"fLimitFactorSize\":3,\"fOriginSize\":0.04},{\"_typename\":\"TLine\",\"fUniqueID\":0,\"fBits\":50331656,\"fLineColor\":1,\"fLineStyle\":2,\"fLineWidth\":1,\"fX1\":0,\"fY1\":0.95,\"fX2\":109.8,\"fY2\":0.95},{\"_typename\":\"TLine\",\"fUniqueID\":0,\"fBits\":50331656,\"fLineColor\":1,\"fLineStyle\":2,\"fLineWidth\":1,\"fX1\":0,\"fY1\":1,\"fX2\":109.8,\"fY2\":1}],\"opt\":[\"\",\"pa\",\"same\",\"\",\"\",\"same\",\"same\",\"same\"]},\"fExecs\":null,\"fName\":\"c_d121c6\",\"fTitle\":\"c_d121c6\",\"fNumPaletteColor\":0,\"fNextPaletteColor\":0,\"fDISPLAY\":\"$DISPLAY\",\"fDoubleBuffer\":0,\"fRetained\":true,\"fXsizeUser\":0,\"fYsizeUser\":0,\"fXsizeReal\":20,\"fYsizeReal\":20,\"fWindowTopX\":0,\"fWindowTopY\":0,\"fWindowWidth\":0,\"fWindowHeight\":0,\"fCw\":596,\"fCh\":572,\"fCatt\":{\"_typename\":\"TAttCanvas\",\"fXBetween\":2,\"fYBetween\":2,\"fTitleFromTop\":1.2,\"fXdate\":0.2,\"fYdate\":0.3,\"fAdate\":1},\"kMoveOpaque\":true,\"kResizeOpaque\":true,\"fHighLightColor\":2,\"fBatch\":true,\"kShowEventStatus\":false,\"kAutoExec\":true,\"kMenuBar\":true});\n",
       "       Core.draw(\"root_plot_18\", obj, \"\");\n",
       "     }\n",
       " );\n",
       "</script>\n"
      ],
      "text/plain": [
       "<IPython.core.display.HTML object>"
      ]
     },
     "metadata": {},
     "output_type": "display_data"
    },
    {
     "data": {
      "text/html": [
       "\n",
       "<div id=\"root_plot_19\"\n",
       "     style=\"width: 596px; height: 572px\">\n",
       "</div>\n",
       "\n",
       "<script>\n",
       " requirejs.config({\n",
       "     paths: {\n",
       "       'JSRootCore' : 'https://root.cern.ch/js/notebook//scripts/JSRootCore',\n",
       "     }\n",
       "   });\n",
       " require(['JSRootCore'],\n",
       "     function(Core) {\n",
       "       var obj = Core.JSONR_unref({\"_typename\":\"TCanvas\",\"fUniqueID\":0,\"fBits\":53673992,\"fLineColor\":1,\"fLineStyle\":1,\"fLineWidth\":1,\"fFillColor\":0,\"fFillStyle\":1001,\"fLeftMargin\":0.13,\"fRightMargin\":0.13,\"fBottomMargin\":0.13,\"fTopMargin\":0.1,\"fXfile\":2,\"fYfile\":2,\"fAfile\":1,\"fXstat\":0.99,\"fYstat\":0.99,\"fAstat\":2,\"fFrameFillColor\":0,\"fFrameLineColor\":1,\"fFrameFillStyle\":1001,\"fFrameLineStyle\":1,\"fFrameLineWidth\":1,\"fFrameBorderSize\":1,\"fFrameBorderMode\":0,\"fX1\":-19.2891882330767,\"fY1\":-0.185714283502611,\"fX2\":129.089188233077,\"fY2\":1.24285714852456,\"fXtoAbsPixelk\":77.4800471580505,\"fXtoPixelk\":77.4800471580505,\"fXtoPixel\":4.01675779311383,\"fYtoAbsPixelk\":497.640051065433,\"fYtoPixelk\":497.640051065433,\"fYtoPixel\":-400.399999031424,\"fUtoAbsPixelk\":5e-5,\"fUtoPixelk\":5e-5,\"fUtoPixel\":596,\"fVtoAbsPixelk\":572.00005,\"fVtoPixelk\":572,\"fVtoPixel\":-572,\"fAbsPixeltoXk\":-19.2891882330767,\"fPixeltoXk\":-19.2891882330767,\"fPixeltoX\":0.248957007493546,\"fAbsPixeltoYk\":1.24285714852456,\"fPixeltoYk\":-0.185714283502611,\"fPixeltoY\":-0.00249750250354401,\"fXlowNDC\":0,\"fYlowNDC\":0,\"fXUpNDC\":0,\"fYUpNDC\":0,\"fWNDC\":1,\"fHNDC\":1,\"fAbsXlowNDC\":0,\"fAbsYlowNDC\":0,\"fAbsWNDC\":1,\"fAbsHNDC\":1,\"fUxmin\":0,\"fUymin\":0,\"fUxmax\":109.8,\"fUymax\":1.1,\"fTheta\":30,\"fPhi\":30,\"fAspectRatio\":0,\"fNumber\":0,\"fTickx\":0,\"fTicky\":0,\"fLogx\":0,\"fLogy\":0,\"fLogz\":0,\"fPadPaint\":0,\"fCrosshair\":0,\"fCrosshairPos\":0,\"fBorderSize\":2,\"fBorderMode\":0,\"fModified\":false,\"fGridx\":false,\"fGridy\":false,\"fAbsCoord\":false,\"fEditable\":true,\"fFixedAspectRatio\":false,\"fPrimitives\":{\"_typename\":\"TList\",\"name\":\"TList\",\"arr\":[{\"_typename\":\"TFrame\",\"fUniqueID\":0,\"fBits\":50331656,\"fLineColor\":1,\"fLineStyle\":1,\"fLineWidth\":1,\"fFillColor\":0,\"fFillStyle\":1001,\"fX1\":0,\"fY1\":0,\"fX2\":109.8,\"fY2\":1.1,\"fBorderSize\":1,\"fBorderMode\":0},{\"_typename\":\"TGraphAsymmErrors\",\"fUniqueID\":0,\"fBits\":50332680,\"fName\":\"336230\",\"fTitle\":\"; p_{T}^{GEN} [GeV];\",\"fLineColor\":1,\"fLineStyle\":1,\"fLineWidth\":1,\"fFillColor\":0,\"fFillStyle\":1001,\"fMarkerColor\":1,\"fMarkerStyle\":8,\"fMarkerSize\":0.5,\"fNpoints\":49,\"fX\":[3,5,7,9,11,13,15,17,19,21,23,25,27,29,31,33,35,37,39,41,43,45,47,49,51,53,55,57,59,61,63,65,67,69,71,73,75,77,79,81,83,85,87,89,91,93,95,97,99],\"fY\":[0,0,0,0,0,0,0,0,0.00275482093663912,0.0117994100294985,0.150306748466258,0.347457627118644,0.492711370262391,0.601092896174863,0.693931398416887,0.688202247191011,0.750778816199377,0.799450549450549,0.829333333333333,0.844311377245509,0.882716049382716,0.905555555555556,0.893175074183976,0.94017094017094,0.925501432664756,0.936416184971098,0.956521739130435,0.950310559006211,0.959537572254335,0.949253731343284,0.954407294832827,0.964601769911504,0.958702064896755,0.976261127596439,0.985163204747775,0.977464788732394,0.964391691394659,0.956923076923077,0.969325153374233,0.977777777777778,0.982248520710059,0.975757575757576,0.984756097560976,0.96319018404908,0.978328173374613,0.979651162790698,0.980716253443526,0.982195845697329,0.978260869565217],\"fFunctions\":{\"_typename\":\"TList\",\"name\":\"TList\",\"arr\":[],\"opt\":[]},\"fHistogram\":{\"_typename\":\"TH1F\",\"fUniqueID\":0,\"fBits\":50332160,\"fName\":\"336230\",\"fTitle\":\"\",\"fLineColor\":602,\"fLineStyle\":1,\"fLineWidth\":1,\"fFillColor\":0,\"fFillStyle\":1001,\"fMarkerColor\":1,\"fMarkerStyle\":1,\"fMarkerSize\":1,\"fNcells\":102,\"fXaxis\":{\"_typename\":\"TAxis\",\"fUniqueID\":0,\"fBits\":50331656,\"fName\":\"xaxis\",\"fTitle\":\" p_{T}^{GEN} [GeV]\",\"fNdivisions\":510,\"fAxisColor\":1,\"fLabelColor\":1,\"fLabelFont\":42,\"fLabelOffset\":0.005,\"fLabelSize\":0.035,\"fTickLength\":0.03,\"fTitleOffset\":1.4,\"fTitleSize\":0.035,\"fTitleColor\":1,\"fTitleFont\":42,\"fNbins\":100,\"fXmin\":0,\"fXmax\":109.8,\"fXbins\":[],\"fFirst\":0,\"fLast\":0,\"fBits2\":0,\"fTimeDisplay\":false,\"fTimeFormat\":\"\",\"fLabels\":null,\"fModLabs\":null},\"fYaxis\":{\"_typename\":\"TAxis\",\"fUniqueID\":0,\"fBits\":50331656,\"fName\":\"yaxis\",\"fTitle\":\"efficiency\",\"fNdivisions\":510,\"fAxisColor\":1,\"fLabelColor\":1,\"fLabelFont\":42,\"fLabelOffset\":0.005,\"fLabelSize\":0.035,\"fTickLength\":0.03,\"fTitleOffset\":0,\"fTitleSize\":0.035,\"fTitleColor\":1,\"fTitleFont\":42,\"fNbins\":1,\"fXmin\":0,\"fXmax\":1.09071291684216,\"fXbins\":[],\"fFirst\":0,\"fLast\":0,\"fBits2\":0,\"fTimeDisplay\":false,\"fTimeFormat\":\"\",\"fLabels\":null,\"fModLabs\":null},\"fZaxis\":{\"_typename\":\"TAxis\",\"fUniqueID\":0,\"fBits\":50331648,\"fName\":\"zaxis\",\"fTitle\":\"\",\"fNdivisions\":510,\"fAxisColor\":1,\"fLabelColor\":1,\"fLabelFont\":42,\"fLabelOffset\":0.005,\"fLabelSize\":0.035,\"fTickLength\":0.03,\"fTitleOffset\":1,\"fTitleSize\":0.035,\"fTitleColor\":1,\"fTitleFont\":42,\"fNbins\":1,\"fXmin\":0,\"fXmax\":1,\"fXbins\":[],\"fFirst\":0,\"fLast\":0,\"fBits2\":0,\"fTimeDisplay\":false,\"fTimeFormat\":\"\",\"fLabels\":null,\"fModLabs\":null},\"fBarOffset\":0,\"fBarWidth\":1000,\"fEntries\":0,\"fTsumw\":0,\"fTsumw2\":0,\"fTsumwx\":0,\"fTsumwx2\":0,\"fMaximum\":1.1,\"fMinimum\":0,\"fNormFactor\":0,\"fContour\":[],\"fSumw2\":[],\"fOption\":\"\",\"fFunctions\":{\"_typename\":\"TList\",\"name\":\"TList\",\"arr\":[],\"opt\":[]},\"fBufferSize\":0,\"fBuffer\":[],\"fBinStatErrOpt\":0,\"fStatOverflows\":2,\"fArray\":[0,0,0,0,0,0,0,0,0,0,0,0,0,0,0,0,0,0,0,0,0,0,0,0,0,0,0,0,0,0,0,0,0,0,0,0,0,0,0,0,0,0,0,0,0,0,0,0,0,0,0,0,0,0,0,0,0,0,0,0,0,0,0,0,0,0,0,0,0,0,0,0,0,0,0,0,0,0,0,0,0,0,0,0,0,0,0,0,0,0,0,0,0,0,0,0,0,0,0,0,0,0]},\"fMinimum\":-1111,\"fMaximum\":-1111,\"fEXlow\":[1,1,1,1,1,1,1,1,1,1,1,1,1,1,1,1,1,1,1,1,1,1,1,1,1,1,1,1,1,1,1,1,1,1,1,1,1,1,1,1,1,1,1,1,1,1,1,1,1],\"fEXhigh\":[1,1,1,1,1,1,1,1,1,1,1,1,1,1,1,1,1,1,1,1,1,1,1,1,1,1,1,1,1,1,1,1,1,1,1,1,1,1,1,1,1,1,1,1,1,1,1,1,1],\"fEYlow\":[0,0,0,0,0,0,0,0,0.00227902843447012,0.00563868182268865,0.0201571099024403,0.0262286727206699,0.0283863188973074,0.027214466578145,0.0255002009811601,0.026478723065404,0.0264967474640808,0.0232139134375213,0.0216816771622468,0.0224254319075866,0.0206926955389531,0.0180298888685686,0.0195744531340352,0.0154948985609262,0.0168397832073267,0.0159774282122725,0.0139554223082989,0.0152661669345531,0.0135791570225693,0.0150155804699138,0.0146126929708272,0.0131212261324671,0.013851477497087,0.0114989561259737,0.00991222574856199,0.010925917952653,0.0131971229955826,0.0144302170129612,0.0128017742226431,0.0107767350202296,0.0104521638457454,0.0117383692051509,0.0101806908531997,0.0136307527477971,0.0114779690932254,0.0107884473728264,0.0102322827309236,0.010482731721816,0.0115130079590539],\"fEYhigh\":[0.00474586450043964,0.00484579795318904,0.00535303123562458,0.00482042210176742,0.00543200262898905,0.00535303123562458,0.00514364927367045,0.00540013610368612,0.00630604021377593,0.00923116814839481,0.0224643763017731,0.0271369845859326,0.0284310311117557,0.0266335581063207,0.0244215589529441,0.0253628801039247,0.0248366800133946,0.0214638544730472,0.0198077418583893,0.0202121649481531,0.018131095811223,0.0155778432899575,0.0170398569992303,0.0127092804668573,0.0141574068648036,0.0131816988461159,0.0109648093713403,0.0121164890165847,0.010565792561439,0.0120050312404092,0.0114910622532727,0.0099831504146195,0.0107814467202618,0.00817369778775467,0.00639399238146621,0.00776125189018051,0.0100418449129482,0.0112402793400785,0.00946672448952679,0.00765396801576013,0.00701920306125936,0.00834618078174731,0.00656902358723865,0.0103774108182004,0.00795840074377863,0.00747451886179784,0.00708477748675151,0.00703996558496134,0.007983010198782]},{\"_typename\":\"TLatex\",\"fUniqueID\":0,\"fBits\":50348040,\"fName\":\"\",\"fTitle\":\"EG endcap, 2.4 < |#eta^{GEN}| #leq 3.0, p_{T}^{L1} #geq 25GeV\",\"fTextAngle\":0,\"fTextSize\":0.03,\"fTextAlign\":11,\"fTextColor\":1,\"fTextFont\":62,\"fX\":0.15,\"fY\":0.85,\"fLineColor\":1,\"fLineStyle\":1,\"fLineWidth\":2,\"fLimitFactorSize\":3,\"fOriginSize\":0.0299999993294477},{\"_typename\":\"TLatex\",\"fUniqueID\":0,\"fBits\":50348041,\"fName\":\"\",\"fTitle\":\"#scale[1.5]{CMS} #scale[1.]{Phase-2 Simulation}\",\"fTextAngle\":0,\"fTextSize\":0.03,\"fTextAlign\":11,\"fTextColor\":1,\"fTextFont\":62,\"fX\":0.13,\"fY\":0.91,\"fLineColor\":1,\"fLineStyle\":1,\"fLineWidth\":2,\"fLimitFactorSize\":3,\"fOriginSize\":0.0299999993294477},{\"_typename\":\"TLatex\",\"fUniqueID\":0,\"fBits\":50348041,\"fName\":\"\",\"fTitle\":\"14TeV, 200 PU\",\"fTextAngle\":0,\"fTextSize\":0.03,\"fTextAlign\":11,\"fTextColor\":1,\"fTextFont\":62,\"fX\":0.69,\"fY\":0.91,\"fLineColor\":1,\"fLineStyle\":1,\"fLineWidth\":2,\"fLimitFactorSize\":3,\"fOriginSize\":0.0299999993294477},{\"_typename\":\"TLatex\",\"fUniqueID\":0,\"fBits\":50331656,\"fName\":\"\",\"fTitle\":\"\",\"fTextAngle\":0,\"fTextSize\":0.03,\"fTextAlign\":11,\"fTextColor\":1,\"fTextFont\":62,\"fX\":0,\"fY\":0,\"fLineColor\":1,\"fLineStyle\":1,\"fLineWidth\":2,\"fLimitFactorSize\":3,\"fOriginSize\":0.04},{\"_typename\":\"TLine\",\"fUniqueID\":0,\"fBits\":50331656,\"fLineColor\":1,\"fLineStyle\":2,\"fLineWidth\":1,\"fX1\":0,\"fY1\":0.95,\"fX2\":109.8,\"fY2\":0.95},{\"_typename\":\"TLine\",\"fUniqueID\":0,\"fBits\":50331656,\"fLineColor\":1,\"fLineStyle\":2,\"fLineWidth\":1,\"fX1\":0,\"fY1\":1,\"fX2\":109.8,\"fY2\":1}],\"opt\":[\"\",\"pa\",\"same\",\"\",\"\",\"same\",\"same\",\"same\"]},\"fExecs\":null,\"fName\":\"c_edd95d\",\"fTitle\":\"c_edd95d\",\"fNumPaletteColor\":0,\"fNextPaletteColor\":0,\"fDISPLAY\":\"$DISPLAY\",\"fDoubleBuffer\":0,\"fRetained\":true,\"fXsizeUser\":0,\"fYsizeUser\":0,\"fXsizeReal\":20,\"fYsizeReal\":20,\"fWindowTopX\":0,\"fWindowTopY\":0,\"fWindowWidth\":0,\"fWindowHeight\":0,\"fCw\":596,\"fCh\":572,\"fCatt\":{\"_typename\":\"TAttCanvas\",\"fXBetween\":2,\"fYBetween\":2,\"fTitleFromTop\":1.2,\"fXdate\":0.2,\"fYdate\":0.3,\"fAdate\":1},\"kMoveOpaque\":true,\"kResizeOpaque\":true,\"fHighLightColor\":2,\"fBatch\":true,\"kShowEventStatus\":false,\"kAutoExec\":true,\"kMenuBar\":true});\n",
       "       Core.draw(\"root_plot_19\", obj, \"\");\n",
       "     }\n",
       " );\n",
       "</script>\n"
      ],
      "text/plain": [
       "<IPython.core.display.HTML object>"
      ]
     },
     "metadata": {},
     "output_type": "display_data"
    }
   ],
   "source": [
    "hsets, labels, text = hplot.get_histo(histos.HistoSetEff, sample, ['PU200'], 'EG', 'EGq5Pt25', 'GENEtaBC', debug=False)\n",
    "text_forprint = 'EG endcap, 1.52 < |#eta^{GEN}| #leq 2.4, p_{T}^{L1} #geq 25GeV'\n",
    "print dir(hsets[0].h_eff)\n",
    "draw([his.h_eff.h_pt.CreateGraph() for his in hsets], labels, text=text_forprint, \n",
    "     min_y=0, max_y=1.1, y_axis_label='efficiency', h_lines=[0.95, 1],\n",
    "     do_write=True, write_name='figs/egammaEndcap_EG_EGq5Pt25_GENEtaBC_hEffvPt')\n",
    "\n",
    "\n",
    "\n",
    "hsets, labels, text = hplot.get_histo(histos.HistoSetEff, sample, ['PU200'], 'EG', 'EGq5Pt25', ['GENEtaDE'])\n",
    "print labels\n",
    "text_forprint = 'EG endcap, 2.4 < |#eta^{GEN}| #leq 3.0, p_{T}^{L1} #geq 25GeV'\n",
    "draw([his.h_eff.h_pt.CreateGraph() for his in hsets], labels, text=text_forprint, \n",
    "     min_y=0, max_y=1.1, y_axis_label='efficiency', h_lines=[0.95, 1],\n",
    "     do_write=True, write_name='figs/egammaEndcap_EG_EGq5Pt25_GENEtaDE_hEffvPt')\n"
   ]
  },
  {
   "cell_type": "code",
   "execution_count": 44,
   "metadata": {},
   "outputs": [
    {
     "name": "stdout",
     "output_type": "stream",
     "text": [
      "['__doc__', '__init__', '__module__', 'h_abseta', 'h_energy', 'h_eta', 'h_fBrem', 'h_pt', 'h_reachedEE']\n",
      "['']\n"
     ]
    },
    {
     "data": {
      "text/plain": [
       "<drawingTools.DrawMachine at 0x11ae17910>"
      ]
     },
     "execution_count": 44,
     "metadata": {},
     "output_type": "execute_result"
    },
    {
     "data": {
      "text/html": [
       "\n",
       "<div id=\"root_plot_20\"\n",
       "     style=\"width: 796px; height: 572px\">\n",
       "</div>\n",
       "\n",
       "<script>\n",
       " requirejs.config({\n",
       "     paths: {\n",
       "       'JSRootCore' : 'https://root.cern.ch/js/notebook//scripts/JSRootCore',\n",
       "     }\n",
       "   });\n",
       " require(['JSRootCore'],\n",
       "     function(Core) {\n",
       "       var obj = Core.JSONR_unref({\"_typename\":\"TCanvas\",\"fUniqueID\":0,\"fBits\":53673992,\"fLineColor\":1,\"fLineStyle\":1,\"fLineWidth\":1,\"fFillColor\":0,\"fFillStyle\":1001,\"fLeftMargin\":0.13,\"fRightMargin\":0.3,\"fBottomMargin\":0.13,\"fTopMargin\":0.1,\"fXfile\":2,\"fYfile\":2,\"fAfile\":1,\"fXstat\":0.99,\"fYstat\":0.99,\"fAstat\":2,\"fFrameFillColor\":0,\"fFrameLineColor\":1,\"fFrameFillStyle\":1001,\"fFrameLineStyle\":1,\"fFrameLineWidth\":1,\"fFrameBorderSize\":1,\"fFrameBorderMode\":0,\"fX1\":-25.0421046588559,\"fY1\":-0.185714283502611,\"fX2\":167.58947670572,\"fY2\":1.24285714852456,\"fXtoAbsPixelk\":103.480046204376,\"fXtoPixelk\":103.480046204376,\"fXtoPixel\":4.13224038530569,\"fYtoAbsPixelk\":497.640051065433,\"fYtoPixelk\":497.640051065433,\"fYtoPixel\":-400.399999031424,\"fUtoAbsPixelk\":5e-5,\"fUtoPixelk\":5e-5,\"fUtoPixel\":796,\"fVtoAbsPixelk\":572.00005,\"fVtoPixelk\":572,\"fVtoPixel\":-572,\"fAbsPixeltoXk\":-25.0421046588559,\"fPixeltoXk\":-25.0421046588559,\"fPixeltoX\":0.241999474076101,\"fAbsPixeltoYk\":1.24285714852456,\"fPixeltoYk\":-0.185714283502611,\"fPixeltoY\":-0.00249750250354401,\"fXlowNDC\":0,\"fYlowNDC\":0,\"fXUpNDC\":0,\"fYUpNDC\":0,\"fWNDC\":1,\"fHNDC\":1,\"fAbsXlowNDC\":0,\"fAbsYlowNDC\":0,\"fAbsWNDC\":1,\"fAbsHNDC\":1,\"fUxmin\":0,\"fUymin\":0,\"fUxmax\":109.8,\"fUymax\":1.1,\"fTheta\":30,\"fPhi\":30,\"fAspectRatio\":0,\"fNumber\":0,\"fTickx\":0,\"fTicky\":0,\"fLogx\":0,\"fLogy\":0,\"fLogz\":0,\"fPadPaint\":0,\"fCrosshair\":0,\"fCrosshairPos\":0,\"fBorderSize\":2,\"fBorderMode\":0,\"fModified\":false,\"fGridx\":false,\"fGridy\":false,\"fAbsCoord\":false,\"fEditable\":true,\"fFixedAspectRatio\":false,\"fPrimitives\":{\"_typename\":\"TList\",\"name\":\"TList\",\"arr\":[{\"_typename\":\"TFrame\",\"fUniqueID\":0,\"fBits\":50331656,\"fLineColor\":1,\"fLineStyle\":1,\"fLineWidth\":1,\"fFillColor\":0,\"fFillStyle\":1001,\"fX1\":0,\"fY1\":0,\"fX2\":109.8,\"fY2\":1.1,\"fBorderSize\":1,\"fBorderMode\":0},{\"_typename\":\"TGraphAsymmErrors\",\"fUniqueID\":0,\"fBits\":50332680,\"fName\":\"756fb1\",\"fTitle\":\"; p_{T}^{GEN} [GeV];\",\"fLineColor\":1,\"fLineStyle\":1,\"fLineWidth\":1,\"fFillColor\":0,\"fFillStyle\":1001,\"fMarkerColor\":1,\"fMarkerStyle\":8,\"fMarkerSize\":0.5,\"fNpoints\":49,\"fX\":[3,5,7,9,11,13,15,17,19,21,23,25,27,29,31,33,35,37,39,41,43,45,47,49,51,53,55,57,59,61,63,65,67,69,71,73,75,77,79,81,83,85,87,89,91,93,95,97,99],\"fY\":[0.290492957746479,0.434782608695652,0.578947368421053,0.720292504570384,0.786086956521739,0.841995841995842,0.896421845574388,0.866419294990724,0.894248608534323,0.948339483394834,0.935135135135135,0.946236559139785,0.941619585687382,0.96415770609319,0.964285714285714,0.976047904191617,0.961871750433276,0.982993197278912,0.985890652557319,0.985046728971963,0.983271375464684,0.989517819706499,0.994661921708185,0.990689013035382,0.991467576791809,0.998015873015873,0.981308411214953,0.987432675044883,0.990384615384615,0.994690265486726,0.993031358885017,0.992438563327032,0.992337164750958,0.99250936329588,0.992700729927007,0.992687385740402,0.991258741258741,0.994525547445255,0.992337164750958,0.988394584139265,0.996466431095406,0.990476190476191,0.988785046728972,0.992970123022847,0.996330275229358,0.992292870905588,0.98932384341637,0.994219653179191,0.996031746031746],\"fFunctions\":{\"_typename\":\"TList\",\"name\":\"TList\",\"arr\":[],\"opt\":[]},\"fHistogram\":{\"_typename\":\"TH1F\",\"fUniqueID\":0,\"fBits\":50332160,\"fName\":\"756fb1\",\"fTitle\":\"\",\"fLineColor\":602,\"fLineStyle\":1,\"fLineWidth\":1,\"fFillColor\":0,\"fFillStyle\":1001,\"fMarkerColor\":1,\"fMarkerStyle\":1,\"fMarkerSize\":1,\"fNcells\":102,\"fXaxis\":{\"_typename\":\"TAxis\",\"fUniqueID\":0,\"fBits\":50331656,\"fName\":\"xaxis\",\"fTitle\":\" p_{T}^{GEN} [GeV]\",\"fNdivisions\":510,\"fAxisColor\":1,\"fLabelColor\":1,\"fLabelFont\":42,\"fLabelOffset\":0.005,\"fLabelSize\":0.035,\"fTickLength\":0.03,\"fTitleOffset\":1.4,\"fTitleSize\":0.035,\"fTitleColor\":1,\"fTitleFont\":42,\"fNbins\":100,\"fXmin\":0,\"fXmax\":109.8,\"fXbins\":[],\"fFirst\":0,\"fLast\":0,\"fBits2\":0,\"fTimeDisplay\":false,\"fTimeFormat\":\"\",\"fLabels\":null,\"fModLabs\":null},\"fYaxis\":{\"_typename\":\"TAxis\",\"fUniqueID\":0,\"fBits\":50331656,\"fName\":\"yaxis\",\"fTitle\":\"efficiency\",\"fNdivisions\":510,\"fAxisColor\":1,\"fLabelColor\":1,\"fLabelFont\":42,\"fLabelOffset\":0.005,\"fLabelSize\":0.035,\"fTickLength\":0.03,\"fTitleOffset\":0,\"fTitleSize\":0.035,\"fTitleColor\":1,\"fTitleFont\":42,\"fNbins\":1,\"fXmin\":0.198095910984591,\"fXmax\":1.07252650987717,\"fXbins\":[],\"fFirst\":0,\"fLast\":0,\"fBits2\":0,\"fTimeDisplay\":false,\"fTimeFormat\":\"\",\"fLabels\":null,\"fModLabs\":null},\"fZaxis\":{\"_typename\":\"TAxis\",\"fUniqueID\":0,\"fBits\":50331648,\"fName\":\"zaxis\",\"fTitle\":\"\",\"fNdivisions\":510,\"fAxisColor\":1,\"fLabelColor\":1,\"fLabelFont\":42,\"fLabelOffset\":0.005,\"fLabelSize\":0.035,\"fTickLength\":0.03,\"fTitleOffset\":1,\"fTitleSize\":0.035,\"fTitleColor\":1,\"fTitleFont\":42,\"fNbins\":1,\"fXmin\":0,\"fXmax\":1,\"fXbins\":[],\"fFirst\":0,\"fLast\":0,\"fBits2\":0,\"fTimeDisplay\":false,\"fTimeFormat\":\"\",\"fLabels\":null,\"fModLabs\":null},\"fBarOffset\":0,\"fBarWidth\":1000,\"fEntries\":0,\"fTsumw\":0,\"fTsumw2\":0,\"fTsumwx\":0,\"fTsumwx2\":0,\"fMaximum\":1.1,\"fMinimum\":0,\"fNormFactor\":0,\"fContour\":[],\"fSumw2\":[],\"fOption\":\"\",\"fFunctions\":{\"_typename\":\"TList\",\"name\":\"TList\",\"arr\":[],\"opt\":[]},\"fBufferSize\":0,\"fBuffer\":[],\"fBinStatErrOpt\":0,\"fStatOverflows\":2,\"fArray\":[0,0,0,0,0,0,0,0,0,0,0,0,0,0,0,0,0,0,0,0,0,0,0,0,0,0,0,0,0,0,0,0,0,0,0,0,0,0,0,0,0,0,0,0,0,0,0,0,0,0,0,0,0,0,0,0,0,0,0,0,0,0,0,0,0,0,0,0,0,0,0,0,0,0,0,0,0,0,0,0,0,0,0,0,0,0,0,0,0,0,0,0,0,0,0,0,0,0,0,0,0,0]},\"fMinimum\":-1111,\"fMaximum\":-1111,\"fEXlow\":[1,1,1,1,1,1,1,1,1,1,1,1,1,1,1,1,1,1,1,1,1,1,1,1,1,1,1,1,1,1,1,1,1,1,1,1,1,1,1,1,1,1,1,1,1,1,1,1,1],\"fEXhigh\":[1,1,1,1,1,1,1,1,1,1,1,1,1,1,1,1,1,1,1,1,1,1,1,1,1,1,1,1,1,1,1,1,1,1,1,1,1,1,1,1,1,1,1,1,1,1,1,1,1],\"fEYlow\":[0.0195278301875064,0.0223481088973984,0.022069827084234,0.0205107551363187,0.0184811932255701,0.0184155169396187,0.0149635283935781,0.0162982976672592,0.014954566152409,0.0113495777559504,0.0122142418533392,0.0113300843507541,0.0120350328322086,0.0097113972722509,0.00967753108377634,0.00895069920535507,0.0097435766898587,0.00716857595231624,0.00688458357276023,0.00729171966223652,0.00754660914203298,0.00702884599948417,0.00516518057333282,0.00624968102958523,0.00573086223217678,0.00454763534594038,0.00786912442989385,0.00670344134240519,0.00645233851985494,0.00513789903212891,0.00547565985798459,0.00593828300205068,0.00601736563030197,0.00588305617639773,0.00573374703559981,0.00574416019065893,0.00587009334272792,0.005296422442433,0.00601736563030197,0.00686735890781165,0.00464145198644805,0.00639138201668865,0.00663839665185484,0.0055234719032724,0.00481953421576364,0.00605190665932809,0.00632221430944579,0.00559067497121168,0.0052097913759015],\"fEYhigh\":[0.020298784455073,0.0226051872501191,0.0217712412499913,0.0196678846645718,0.0174366142357644,0.0169065043749856,0.0133658445976805,0.0148541884538274,0.0133909176367787,0.0095365091373083,0.0105127743159102,0.009582299609322,0.0102196559317863,0.00786012462158081,0.00783236590713343,0.00677523472281527,0.00797027998846067,0.00526574816408987,0.00486804990551581,0.0051583008378957,0.00545065690208457,0.00452038609978722,0.00290379596154822,0.00401603903844561,0.00368066761085151,0.00164142028691694,0.00578508327678007,0.0046232812056034,0.00414713836376168,0.00288838484084541,0.00333218359763821,0.00361537098487752,0.0036638063830835,0.00358155099289759,0.00349013525328912,0.00349650990708239,0.00377063280241896,0.002977944488326,0.0036638063830835,0.00459396218123065,0.00228203481058797,0.00410769969703229,0.00443970548563011,0.0033614388501173,0.00236995347711644,0.0036849639847536,0.0042268125228021,0.00314425678130226,0.00256271660198815]},{\"_typename\":\"TLatex\",\"fUniqueID\":0,\"fBits\":50348040,\"fName\":\"\",\"fTitle\":\"EG endcap, 1.52 < |#eta^{GEN}| #leq 2.4, p_{T}^{L1} #geq 25GeV\",\"fTextAngle\":0,\"fTextSize\":0.03,\"fTextAlign\":11,\"fTextColor\":1,\"fTextFont\":62,\"fX\":0.15,\"fY\":0.85,\"fLineColor\":1,\"fLineStyle\":1,\"fLineWidth\":2,\"fLimitFactorSize\":3,\"fOriginSize\":0.04},{\"_typename\":\"TLatex\",\"fUniqueID\":0,\"fBits\":50331656,\"fName\":\"\",\"fTitle\":\"\",\"fTextAngle\":0,\"fTextSize\":0.03,\"fTextAlign\":11,\"fTextColor\":1,\"fTextFont\":62,\"fX\":0,\"fY\":0,\"fLineColor\":1,\"fLineStyle\":1,\"fLineWidth\":2,\"fLimitFactorSize\":3,\"fOriginSize\":0.04},{\"_typename\":\"TLine\",\"fUniqueID\":0,\"fBits\":50331656,\"fLineColor\":1,\"fLineStyle\":2,\"fLineWidth\":1,\"fX1\":0,\"fY1\":0.95,\"fX2\":109.8,\"fY2\":0.95},{\"_typename\":\"TLine\",\"fUniqueID\":0,\"fBits\":50331656,\"fLineColor\":1,\"fLineStyle\":2,\"fLineWidth\":1,\"fX1\":0,\"fY1\":1,\"fX2\":109.8,\"fY2\":1}],\"opt\":[\"\",\"pa\",\"same\",\"same\",\"same\",\"same\"]},\"fExecs\":null,\"fName\":\"c_e2bde9\",\"fTitle\":\"c_e2bde9\",\"fNumPaletteColor\":0,\"fNextPaletteColor\":0,\"fDISPLAY\":\"$DISPLAY\",\"fDoubleBuffer\":0,\"fRetained\":true,\"fXsizeUser\":0,\"fYsizeUser\":0,\"fXsizeReal\":20,\"fYsizeReal\":15,\"fWindowTopX\":0,\"fWindowTopY\":0,\"fWindowWidth\":0,\"fWindowHeight\":0,\"fCw\":796,\"fCh\":572,\"fCatt\":{\"_typename\":\"TAttCanvas\",\"fXBetween\":2,\"fYBetween\":2,\"fTitleFromTop\":1.2,\"fXdate\":0.2,\"fYdate\":0.3,\"fAdate\":1},\"kMoveOpaque\":true,\"kResizeOpaque\":true,\"fHighLightColor\":2,\"fBatch\":true,\"kShowEventStatus\":false,\"kAutoExec\":true,\"kMenuBar\":true});\n",
       "       Core.draw(\"root_plot_20\", obj, \"\");\n",
       "     }\n",
       " );\n",
       "</script>\n"
      ],
      "text/plain": [
       "<IPython.core.display.HTML object>"
      ]
     },
     "metadata": {},
     "output_type": "display_data"
    },
    {
     "data": {
      "text/html": [
       "\n",
       "<div id=\"root_plot_21\"\n",
       "     style=\"width: 796px; height: 572px\">\n",
       "</div>\n",
       "\n",
       "<script>\n",
       " requirejs.config({\n",
       "     paths: {\n",
       "       'JSRootCore' : 'https://root.cern.ch/js/notebook//scripts/JSRootCore',\n",
       "     }\n",
       "   });\n",
       " require(['JSRootCore'],\n",
       "     function(Core) {\n",
       "       var obj = Core.JSONR_unref({\"_typename\":\"TCanvas\",\"fUniqueID\":0,\"fBits\":53673992,\"fLineColor\":1,\"fLineStyle\":1,\"fLineWidth\":1,\"fFillColor\":0,\"fFillStyle\":1001,\"fLeftMargin\":0.13,\"fRightMargin\":0.3,\"fBottomMargin\":0.13,\"fTopMargin\":0.1,\"fXfile\":2,\"fYfile\":2,\"fAfile\":1,\"fXstat\":0.99,\"fYstat\":0.99,\"fAstat\":2,\"fFrameFillColor\":0,\"fFrameLineColor\":1,\"fFrameFillStyle\":1001,\"fFrameLineStyle\":1,\"fFrameLineWidth\":1,\"fFrameBorderSize\":1,\"fFrameBorderMode\":0,\"fX1\":-25.0421046588559,\"fY1\":-0.185714283502611,\"fX2\":167.58947670572,\"fY2\":1.24285714852456,\"fXtoAbsPixelk\":103.480046204376,\"fXtoPixelk\":103.480046204376,\"fXtoPixel\":4.13224038530569,\"fYtoAbsPixelk\":497.640051065433,\"fYtoPixelk\":497.640051065433,\"fYtoPixel\":-400.399999031424,\"fUtoAbsPixelk\":5e-5,\"fUtoPixelk\":5e-5,\"fUtoPixel\":796,\"fVtoAbsPixelk\":572.00005,\"fVtoPixelk\":572,\"fVtoPixel\":-572,\"fAbsPixeltoXk\":-25.0421046588559,\"fPixeltoXk\":-25.0421046588559,\"fPixeltoX\":0.241999474076101,\"fAbsPixeltoYk\":1.24285714852456,\"fPixeltoYk\":-0.185714283502611,\"fPixeltoY\":-0.00249750250354401,\"fXlowNDC\":0,\"fYlowNDC\":0,\"fXUpNDC\":0,\"fYUpNDC\":0,\"fWNDC\":1,\"fHNDC\":1,\"fAbsXlowNDC\":0,\"fAbsYlowNDC\":0,\"fAbsWNDC\":1,\"fAbsHNDC\":1,\"fUxmin\":0,\"fUymin\":0,\"fUxmax\":109.8,\"fUymax\":1.1,\"fTheta\":30,\"fPhi\":30,\"fAspectRatio\":0,\"fNumber\":0,\"fTickx\":0,\"fTicky\":0,\"fLogx\":0,\"fLogy\":0,\"fLogz\":0,\"fPadPaint\":0,\"fCrosshair\":0,\"fCrosshairPos\":0,\"fBorderSize\":2,\"fBorderMode\":0,\"fModified\":false,\"fGridx\":false,\"fGridy\":false,\"fAbsCoord\":false,\"fEditable\":true,\"fFixedAspectRatio\":false,\"fPrimitives\":{\"_typename\":\"TList\",\"name\":\"TList\",\"arr\":[{\"_typename\":\"TFrame\",\"fUniqueID\":0,\"fBits\":50331656,\"fLineColor\":1,\"fLineStyle\":1,\"fLineWidth\":1,\"fFillColor\":0,\"fFillStyle\":1001,\"fX1\":0,\"fY1\":0,\"fX2\":109.8,\"fY2\":1.1,\"fBorderSize\":1,\"fBorderMode\":0},{\"_typename\":\"TGraphAsymmErrors\",\"fUniqueID\":0,\"fBits\":50332680,\"fName\":\"f07664\",\"fTitle\":\"; p_{T}^{GEN} [GeV];\",\"fLineColor\":1,\"fLineStyle\":1,\"fLineWidth\":1,\"fFillColor\":0,\"fFillStyle\":1001,\"fMarkerColor\":1,\"fMarkerStyle\":8,\"fMarkerSize\":0.5,\"fNpoints\":49,\"fX\":[3,5,7,9,11,13,15,17,19,21,23,25,27,29,31,33,35,37,39,41,43,45,47,49,51,53,55,57,59,61,63,65,67,69,71,73,75,77,79,81,83,85,87,89,91,93,95,97,99],\"fY\":[0.17312661498708,0.303430079155673,0.361516034985423,0.448818897637795,0.476331360946746,0.606413994169096,0.61624649859944,0.664705882352941,0.694214876033058,0.722713864306785,0.779141104294479,0.836158192090395,0.839650145772595,0.866120218579235,0.854881266490765,0.879213483146067,0.897196261682243,0.909340659340659,0.922666666666667,0.919161676646707,0.941358024691358,0.941666666666667,0.934718100890208,0.96011396011396,0.95702005730659,0.971098265895954,0.971014492753623,0.96583850931677,0.973988439306358,0.964179104477612,0.969604863221885,0.976401179941003,0.976401179941003,0.976261127596439,0.98813056379822,0.983098591549296,0.976261127596439,0.966153846153846,0.975460122699387,0.988888888888889,0.982248520710059,0.978787878787879,0.990853658536585,0.969325153374233,0.981424148606811,0.988372093023256,0.986225895316804,0.991097922848665,0.984472049689441],\"fFunctions\":{\"_typename\":\"TList\",\"name\":\"TList\",\"arr\":[],\"opt\":[]},\"fHistogram\":{\"_typename\":\"TH1F\",\"fUniqueID\":0,\"fBits\":50332160,\"fName\":\"f07664\",\"fTitle\":\"\",\"fLineColor\":602,\"fLineStyle\":1,\"fLineWidth\":1,\"fFillColor\":0,\"fFillStyle\":1001,\"fMarkerColor\":1,\"fMarkerStyle\":1,\"fMarkerSize\":1,\"fNcells\":102,\"fXaxis\":{\"_typename\":\"TAxis\",\"fUniqueID\":0,\"fBits\":50331656,\"fName\":\"xaxis\",\"fTitle\":\" p_{T}^{GEN} [GeV]\",\"fNdivisions\":510,\"fAxisColor\":1,\"fLabelColor\":1,\"fLabelFont\":42,\"fLabelOffset\":0.005,\"fLabelSize\":0.035,\"fTickLength\":0.03,\"fTitleOffset\":1.4,\"fTitleSize\":0.035,\"fTitleColor\":1,\"fTitleFont\":42,\"fNbins\":100,\"fXmin\":0,\"fXmax\":109.8,\"fXbins\":[],\"fFirst\":0,\"fLast\":0,\"fBits2\":0,\"fTimeDisplay\":false,\"fTimeFormat\":\"\",\"fLabels\":null,\"fModLabs\":null},\"fYaxis\":{\"_typename\":\"TAxis\",\"fUniqueID\":0,\"fBits\":50331656,\"fName\":\"yaxis\",\"fTitle\":\"efficiency\",\"fNdivisions\":510,\"fAxisColor\":1,\"fLabelColor\":1,\"fLabelFont\":42,\"fLabelOffset\":0.005,\"fLabelSize\":0.035,\"fTickLength\":0.03,\"fTitleOffset\":0,\"fTitleSize\":0.035,\"fTitleColor\":1,\"fTitleFont\":42,\"fNbins\":1,\"fXmin\":0.0692754836873955,\"fXmax\":1.08018105184046,\"fXbins\":[],\"fFirst\":0,\"fLast\":0,\"fBits2\":0,\"fTimeDisplay\":false,\"fTimeFormat\":\"\",\"fLabels\":null,\"fModLabs\":null},\"fZaxis\":{\"_typename\":\"TAxis\",\"fUniqueID\":0,\"fBits\":50331648,\"fName\":\"zaxis\",\"fTitle\":\"\",\"fNdivisions\":510,\"fAxisColor\":1,\"fLabelColor\":1,\"fLabelFont\":42,\"fLabelOffset\":0.005,\"fLabelSize\":0.035,\"fTickLength\":0.03,\"fTitleOffset\":1,\"fTitleSize\":0.035,\"fTitleColor\":1,\"fTitleFont\":42,\"fNbins\":1,\"fXmin\":0,\"fXmax\":1,\"fXbins\":[],\"fFirst\":0,\"fLast\":0,\"fBits2\":0,\"fTimeDisplay\":false,\"fTimeFormat\":\"\",\"fLabels\":null,\"fModLabs\":null},\"fBarOffset\":0,\"fBarWidth\":1000,\"fEntries\":0,\"fTsumw\":0,\"fTsumw2\":0,\"fTsumwx\":0,\"fTsumwx2\":0,\"fMaximum\":1.1,\"fMinimum\":0,\"fNormFactor\":0,\"fContour\":[],\"fSumw2\":[],\"fOption\":\"\",\"fFunctions\":{\"_typename\":\"TList\",\"name\":\"TList\",\"arr\":[],\"opt\":[]},\"fBufferSize\":0,\"fBuffer\":[],\"fBinStatErrOpt\":0,\"fStatOverflows\":2,\"fArray\":[0,0,0,0,0,0,0,0,0,0,0,0,0,0,0,0,0,0,0,0,0,0,0,0,0,0,0,0,0,0,0,0,0,0,0,0,0,0,0,0,0,0,0,0,0,0,0,0,0,0,0,0,0,0,0,0,0,0,0,0,0,0,0,0,0,0,0,0,0,0,0,0,0,0,0,0,0,0,0,0,0,0,0,0,0,0,0,0,0,0,0,0,0,0,0,0,0,0,0,0,0,0]},\"fMinimum\":-1111,\"fMaximum\":-1111,\"fEXlow\":[1,1,1,1,1,1,1,1,1,1,1,1,1,1,1,1,1,1,1,1,1,1,1,1,1,1,1,1,1,1,1,1,1,1,1,1,1,1,1,1,1,1,1,1,1,1,1,1,1],\"fEXhigh\":[1,1,1,1,1,1,1,1,1,1,1,1,1,1,1,1,1,1,1,1,1,1,1,1,1,1,1,1,1,1,1,1,1,1,1,1,1,1,1,1,1,1,1,1,1,1,1,1,1],\"fEYlow\":[0.0196090006202627,0.0243568456555849,0.0269333333283834,0.0266158488963678,0.0285269603709247,0.0281219109062365,0.0274423174716267,0.0275457463903787,0.0260912391378264,0.0264495656514253,0.0253910120839755,0.0220840244318253,0.0223144099865771,0.0202312901878243,0.0204032281589605,0.0198192810722688,0.0198554827574754,0.0176513058985555,0.0163696473766007,0.0177984445428986,0.0161379487114524,0.0151226813072232,0.016385473463336,0.0133911011916518,0.0138002305052658,0.0120774523021233,0.0121117172425245,0.0133866551568208,0.0116538017188633,0.0132739023002689,0.0126876398683916,0.0114323351212829,0.0114323351212829,0.0114989561259737,0.00928536501901989,0.00995849242291202,0.0114989561259737,0.0132661056375957,0.0118797048665625,0.00869808939611649,0.0104521638457454,0.0112385424481434,0.00881673943055927,0.0128017742226431,0.0109302522758725,0.00909840382224714,0.00921055413313998,0.00858335895320506,0.0103678938040038],\"fEYhigh\":[0.0214089061818224,0.0254503039921223,0.0277846376689548,0.0268978882331918,0.0286743631672218,0.0274683297829452,0.0267568432515781,0.0265231238164435,0.0249621777276984,0.0250584724713098,0.0235676385662696,0.0200519787940608,0.0201920145647235,0.0180806386610068,0.0183971583186638,0.0175195263327388,0.0171584147163919,0.0152009023596643,0.0139014168096095,0.0150415174170127,0.013097053592156,0.0123975621774007,0.0135261410516441,0.0104169598897357,0.010840689706882,0.00892332157853692,0.0089490060237809,0.0100559836040998,0.00845747217560955,0.0101012335145024,0.00938103364977472,0.00812571857958233,0.00812571857958233,0.00817369778775467,0.00567209580379524,0.00668408253009822,0.00817369778775467,0.00996395152555518,0.00844805049385022,0.00531021869026616,0.00701920306125936,0.00779029300064793,0.00497372240508753,0.00946672448952679,0.00734409469537367,0.00555684420524971,0.00593699570180162,0.00484099831237073,0.00669113364149931]},{\"_typename\":\"TLatex\",\"fUniqueID\":0,\"fBits\":50348040,\"fName\":\"\",\"fTitle\":\"EG endcap, 2.4 < |#eta^{GEN}| #leq 3.0, p_{T}^{L1} #geq 25GeV\",\"fTextAngle\":0,\"fTextSize\":0.03,\"fTextAlign\":11,\"fTextColor\":1,\"fTextFont\":62,\"fX\":0.15,\"fY\":0.85,\"fLineColor\":1,\"fLineStyle\":1,\"fLineWidth\":2,\"fLimitFactorSize\":3,\"fOriginSize\":0.04},{\"_typename\":\"TLatex\",\"fUniqueID\":0,\"fBits\":50331656,\"fName\":\"\",\"fTitle\":\"\",\"fTextAngle\":0,\"fTextSize\":0.03,\"fTextAlign\":11,\"fTextColor\":1,\"fTextFont\":62,\"fX\":0,\"fY\":0,\"fLineColor\":1,\"fLineStyle\":1,\"fLineWidth\":2,\"fLimitFactorSize\":3,\"fOriginSize\":0.04},{\"_typename\":\"TLine\",\"fUniqueID\":0,\"fBits\":50331656,\"fLineColor\":1,\"fLineStyle\":2,\"fLineWidth\":1,\"fX1\":0,\"fY1\":0.95,\"fX2\":109.8,\"fY2\":0.95},{\"_typename\":\"TLine\",\"fUniqueID\":0,\"fBits\":50331656,\"fLineColor\":1,\"fLineStyle\":2,\"fLineWidth\":1,\"fX1\":0,\"fY1\":1,\"fX2\":109.8,\"fY2\":1}],\"opt\":[\"\",\"pa\",\"same\",\"same\",\"same\",\"same\"]},\"fExecs\":null,\"fName\":\"c_5989cb\",\"fTitle\":\"c_5989cb\",\"fNumPaletteColor\":0,\"fNextPaletteColor\":0,\"fDISPLAY\":\"$DISPLAY\",\"fDoubleBuffer\":0,\"fRetained\":true,\"fXsizeUser\":0,\"fYsizeUser\":0,\"fXsizeReal\":20,\"fYsizeReal\":15,\"fWindowTopX\":0,\"fWindowTopY\":0,\"fWindowWidth\":0,\"fWindowHeight\":0,\"fCw\":796,\"fCh\":572,\"fCatt\":{\"_typename\":\"TAttCanvas\",\"fXBetween\":2,\"fYBetween\":2,\"fTitleFromTop\":1.2,\"fXdate\":0.2,\"fYdate\":0.3,\"fAdate\":1},\"kMoveOpaque\":true,\"kResizeOpaque\":true,\"fHighLightColor\":2,\"fBatch\":true,\"kShowEventStatus\":false,\"kAutoExec\":true,\"kMenuBar\":true});\n",
       "       Core.draw(\"root_plot_21\", obj, \"\");\n",
       "     }\n",
       " );\n",
       "</script>\n"
      ],
      "text/plain": [
       "<IPython.core.display.HTML object>"
      ]
     },
     "metadata": {},
     "output_type": "display_data"
    }
   ],
   "source": [
    "hsets, labels, text = hplot.get_histo(histos.HistoSetEff, sample, ['PU200'], 'EG', ['all', 'EGq5'], 'GENEtaBC', debug=False)\n",
    "text_forprint = 'EG endcap, 1.52 < |#eta^{GEN}| #leq 2.4, p_{T}^{L1} #geq 25GeV'\n",
    "print dir(hsets[0].h_eff)\n",
    "draw([his.h_eff.h_pt.CreateGraph() for his in hsets], labels, text=text_forprint, \n",
    "     min_y=0, max_y=1.1, y_axis_label='efficiency', h_lines=[0.95, 1])\n",
    "\n",
    "\n",
    "\n",
    "hsets, labels, text = hplot.get_histo(histos.HistoSetEff, sample, ['PU200'], 'EG', 'EGq5', ['GENEtaDE'])\n",
    "print labels\n",
    "text_forprint = 'EG endcap, 2.4 < |#eta^{GEN}| #leq 3.0, p_{T}^{L1} #geq 25GeV'\n",
    "draw([his.h_eff.h_pt.CreateGraph() for his in hsets], labels, text=text_forprint, \n",
    "     min_y=0, max_y=1.1, y_axis_label='efficiency', h_lines=[0.95, 1])\n"
   ]
  },
  {
   "cell_type": "code",
   "execution_count": 45,
   "metadata": {},
   "outputs": [
    {
     "data": {
      "text/plain": [
       "<drawingTools.DrawMachine at 0x11a5ccad0>"
      ]
     },
     "execution_count": 45,
     "metadata": {},
     "output_type": "execute_result"
    },
    {
     "name": "stdout",
     "output_type": "stream",
     "text": [
      "ERROR in TPDF::Open: Cannot open file:figs/egammaEndcap_TkEle_EGq5Pt25_GENEtaBC_hEffvPt.pdf\n"
     ]
    },
    {
     "data": {
      "text/html": [
       "\n",
       "<div id=\"root_plot_22\"\n",
       "     style=\"width: 596px; height: 572px\">\n",
       "</div>\n",
       "\n",
       "<script>\n",
       " requirejs.config({\n",
       "     paths: {\n",
       "       'JSRootCore' : 'https://root.cern.ch/js/notebook//scripts/JSRootCore',\n",
       "     }\n",
       "   });\n",
       " require(['JSRootCore'],\n",
       "     function(Core) {\n",
       "       var obj = Core.JSONR_unref({\"_typename\":\"TCanvas\",\"fUniqueID\":0,\"fBits\":53673992,\"fLineColor\":1,\"fLineStyle\":1,\"fLineWidth\":1,\"fFillColor\":0,\"fFillStyle\":1001,\"fLeftMargin\":0.13,\"fRightMargin\":0.13,\"fBottomMargin\":0.13,\"fTopMargin\":0.1,\"fXfile\":2,\"fYfile\":2,\"fAfile\":1,\"fXstat\":0.99,\"fYstat\":0.99,\"fAstat\":2,\"fFrameFillColor\":0,\"fFrameLineColor\":1,\"fFrameFillStyle\":1001,\"fFrameLineStyle\":1,\"fFrameLineWidth\":1,\"fFrameBorderSize\":1,\"fFrameBorderMode\":0,\"fX1\":-19.2891882330767,\"fY1\":-0.185714283502611,\"fX2\":129.089188233077,\"fY2\":1.24285714852456,\"fXtoAbsPixelk\":77.4800471580505,\"fXtoPixelk\":77.4800471580505,\"fXtoPixel\":4.01675779311383,\"fYtoAbsPixelk\":497.640051065433,\"fYtoPixelk\":497.640051065433,\"fYtoPixel\":-400.399999031424,\"fUtoAbsPixelk\":5e-5,\"fUtoPixelk\":5e-5,\"fUtoPixel\":596,\"fVtoAbsPixelk\":572.00005,\"fVtoPixelk\":572,\"fVtoPixel\":-572,\"fAbsPixeltoXk\":-19.2891882330767,\"fPixeltoXk\":-19.2891882330767,\"fPixeltoX\":0.248957007493546,\"fAbsPixeltoYk\":1.24285714852456,\"fPixeltoYk\":-0.185714283502611,\"fPixeltoY\":-0.00249750250354401,\"fXlowNDC\":0,\"fYlowNDC\":0,\"fXUpNDC\":0,\"fYUpNDC\":0,\"fWNDC\":1,\"fHNDC\":1,\"fAbsXlowNDC\":0,\"fAbsYlowNDC\":0,\"fAbsWNDC\":1,\"fAbsHNDC\":1,\"fUxmin\":0,\"fUymin\":0,\"fUxmax\":109.8,\"fUymax\":1.1,\"fTheta\":30,\"fPhi\":30,\"fAspectRatio\":0,\"fNumber\":0,\"fTickx\":0,\"fTicky\":0,\"fLogx\":0,\"fLogy\":0,\"fLogz\":0,\"fPadPaint\":0,\"fCrosshair\":0,\"fCrosshairPos\":0,\"fBorderSize\":2,\"fBorderMode\":0,\"fModified\":false,\"fGridx\":false,\"fGridy\":false,\"fAbsCoord\":false,\"fEditable\":true,\"fFixedAspectRatio\":false,\"fPrimitives\":{\"_typename\":\"TList\",\"name\":\"TList\",\"arr\":[{\"_typename\":\"TFrame\",\"fUniqueID\":0,\"fBits\":50331656,\"fLineColor\":1,\"fLineStyle\":1,\"fLineWidth\":1,\"fFillColor\":0,\"fFillStyle\":1001,\"fX1\":0,\"fY1\":0,\"fX2\":109.8,\"fY2\":1.1,\"fBorderSize\":1,\"fBorderMode\":0},{\"_typename\":\"TGraphAsymmErrors\",\"fUniqueID\":0,\"fBits\":50332680,\"fName\":\"3b1472\",\"fTitle\":\"; p_{T}^{GEN} [GeV];\",\"fLineColor\":1,\"fLineStyle\":1,\"fLineWidth\":1,\"fFillColor\":0,\"fFillStyle\":1001,\"fMarkerColor\":1,\"fMarkerStyle\":8,\"fMarkerSize\":0.5,\"fNpoints\":49,\"fX\":[3,5,7,9,11,13,15,17,19,21,23,25,27,29,31,33,35,37,39,41,43,45,47,49,51,53,55,57,59,61,63,65,67,69,71,73,75,77,79,81,83,85,87,89,91,93,95,97,99],\"fY\":[0,0,0,0,0,0,0,0,0,0.00738007380073801,0.0378378378378378,0.231182795698925,0.589453860640301,0.810035842293907,0.853571428571429,0.922155688622755,0.92894280762565,0.960884353741497,0.973544973544973,0.981308411214953,0.981412639405205,0.983228511530398,0.991103202846975,0.988826815642458,0.988054607508532,0.994047619047619,0.981308411214953,0.987432675044883,0.986538461538462,0.994690265486726,0.993031358885017,0.992438563327032,0.988505747126437,0.99250936329588,0.992700729927007,0.992687385740402,0.987762237762238,0.992700729927007,0.990421455938697,0.988394584139265,0.99469964664311,0.990476190476191,0.988785046728972,0.991212653778559,0.994495412844037,0.990366088631985,0.987544483985765,0.994219653179191,0.996031746031746],\"fFunctions\":{\"_typename\":\"TList\",\"name\":\"TList\",\"arr\":[],\"opt\":[]},\"fHistogram\":{\"_typename\":\"TH1F\",\"fUniqueID\":0,\"fBits\":50332160,\"fName\":\"3b1472\",\"fTitle\":\"\",\"fLineColor\":602,\"fLineStyle\":1,\"fLineWidth\":1,\"fFillColor\":0,\"fFillStyle\":1001,\"fMarkerColor\":1,\"fMarkerStyle\":1,\"fMarkerSize\":1,\"fNcells\":102,\"fXaxis\":{\"_typename\":\"TAxis\",\"fUniqueID\":0,\"fBits\":50331656,\"fName\":\"xaxis\",\"fTitle\":\" p_{T}^{GEN} [GeV]\",\"fNdivisions\":510,\"fAxisColor\":1,\"fLabelColor\":1,\"fLabelFont\":42,\"fLabelOffset\":0.005,\"fLabelSize\":0.035,\"fTickLength\":0.03,\"fTitleOffset\":1.4,\"fTitleSize\":0.035,\"fTitleColor\":1,\"fTitleFont\":42,\"fNbins\":100,\"fXmin\":0,\"fXmax\":109.8,\"fXbins\":[],\"fFirst\":0,\"fLast\":0,\"fBits2\":0,\"fTimeDisplay\":false,\"fTimeFormat\":\"\",\"fLabels\":null,\"fModLabs\":null},\"fYaxis\":{\"_typename\":\"TAxis\",\"fUniqueID\":0,\"fBits\":50331656,\"fName\":\"yaxis\",\"fTitle\":\"efficiency\",\"fNdivisions\":510,\"fAxisColor\":1,\"fLabelColor\":1,\"fLabelFont\":42,\"fLabelOffset\":0.005,\"fLabelSize\":0.035,\"fTickLength\":0.03,\"fTitleOffset\":0,\"fTitleSize\":0.035,\"fTitleColor\":1,\"fTitleFont\":42,\"fNbins\":1,\"fXmin\":0,\"fXmax\":1.09845390889711,\"fXbins\":[],\"fFirst\":0,\"fLast\":0,\"fBits2\":0,\"fTimeDisplay\":false,\"fTimeFormat\":\"\",\"fLabels\":null,\"fModLabs\":null},\"fZaxis\":{\"_typename\":\"TAxis\",\"fUniqueID\":0,\"fBits\":50331648,\"fName\":\"zaxis\",\"fTitle\":\"\",\"fNdivisions\":510,\"fAxisColor\":1,\"fLabelColor\":1,\"fLabelFont\":42,\"fLabelOffset\":0.005,\"fLabelSize\":0.035,\"fTickLength\":0.03,\"fTitleOffset\":1,\"fTitleSize\":0.035,\"fTitleColor\":1,\"fTitleFont\":42,\"fNbins\":1,\"fXmin\":0,\"fXmax\":1,\"fXbins\":[],\"fFirst\":0,\"fLast\":0,\"fBits2\":0,\"fTimeDisplay\":false,\"fTimeFormat\":\"\",\"fLabels\":null,\"fModLabs\":null},\"fBarOffset\":0,\"fBarWidth\":1000,\"fEntries\":0,\"fTsumw\":0,\"fTsumw2\":0,\"fTsumwx\":0,\"fTsumwx2\":0,\"fMaximum\":1.1,\"fMinimum\":0,\"fNormFactor\":0,\"fContour\":[],\"fSumw2\":[],\"fOption\":\"\",\"fFunctions\":{\"_typename\":\"TList\",\"name\":\"TList\",\"arr\":[],\"opt\":[]},\"fBufferSize\":0,\"fBuffer\":[],\"fBinStatErrOpt\":0,\"fStatOverflows\":2,\"fArray\":[0,0,0,0,0,0,0,0,0,0,0,0,0,0,0,0,0,0,0,0,0,0,0,0,0,0,0,0,0,0,0,0,0,0,0,0,0,0,0,0,0,0,0,0,0,0,0,0,0,0,0,0,0,0,0,0,0,0,0,0,0,0,0,0,0,0,0,0,0,0,0,0,0,0,0,0,0,0,0,0,0,0,0,0,0,0,0,0,0,0,0,0,0,0,0,0,0,0,0,0,0,0]},\"fMinimum\":-1111,\"fMaximum\":-1111,\"fEXlow\":[1,1,1,1,1,1,1,1,1,1,1,1,1,1,1,1,1,1,1,1,1,1,1,1,1,1,1,1,1,1,1,1,1,1,1,1,1,1,1,1,1,1,1,1,1,1,1,1,1],\"fEXhigh\":[1,1,1,1,1,1,1,1,1,1,1,1,1,1,1,1,1,1,1,1,1,1,1,1,1,1,1,1,1,1,1,1,1,1,1,1,1,1,1,1,1,1,1,1,1,1,1,1,1],\"fEYlow\":[0,0,0,0,0,0,0,0,0,0.00352873568893718,0.00809469852593761,0.0182246528043328,0.0224439261700444,0.0180768988004381,0.0164947303965466,0.0138854804233322,0.0123713782454677,0.00972871349047788,0.00859120530862012,0.00786912442989385,0.00782583579268781,0.00816710092935524,0.0059737590267116,0.00661389528310796,0.0063747814902555,0.00575608311035847,0.00786912442989385,0.00670344134240519,0.00717542559331075,0.00513789903212891,0.00547565985798459,0.00593828300205068,0.00680218917037967,0.00588305617639773,0.00573374703559981,0.00574416019065893,0.00652932408003815,0.00573374703559981,0.00642781693138983,0.00686735890781165,0.00512886911367827,0.00639138201668865,0.00663839665185484,0.00590081330917869,0.0053254181353003,0.00646466960444314,0.00664437962969699,0.00559067497121168,0.0052097913759015],\"fEYhigh\":[0.00323598815799914,0.00347414329597734,0.00333566138424641,0.0033600127640479,0.00319665655273388,0.00382017233222616,0.00346108068132723,0.00340979796341216,0.00340979796341216,0.00579679848644022,0.00994359012485641,0.019235422831664,0.0220925512282341,0.0169069664268279,0.0151579290572068,0.0120618066890014,0.0107656774079545,0.0079959307060008,0.00670413836519679,0.00578508327678007,0.00575296716111129,0.00578328504273973,0.00383763411696214,0.0044232029311766,0.0043950187236933,0.00323778639817562,0.00578508327678007,0.0046232812056034,0.00495137855572059,0.00288838484084541,0.00333218359763821,0.00361537098487752,0.00455004815934623,0.00358155099289759,0.00349013525328912,0.00349650990708239,0.00450233162526059,0.00349013525328912,0.00413127236781774,0.00459396218123065,0.00288328408766059,0.00410769969703229,0.00443970548563011,0.0037904862517889,0.00299432883481188,0.00415511714886663,0.00458224906380356,0.00314425678130226,0.00256271660198815]},{\"_typename\":\"TGraphAsymmErrors\",\"fUniqueID\":0,\"fBits\":50332680,\"fName\":\"5ac05e\",\"fTitle\":\"; p_{T}^{GEN} [GeV];\",\"fLineColor\":628,\"fLineStyle\":1,\"fLineWidth\":1,\"fFillColor\":0,\"fFillStyle\":1001,\"fMarkerColor\":628,\"fMarkerStyle\":21,\"fMarkerSize\":0.5,\"fNpoints\":49,\"fX\":[3,5,7,9,11,13,15,17,19,21,23,25,27,29,31,33,35,37,39,41,43,45,47,49,51,53,55,57,59,61,63,65,67,69,71,73,75,77,79,81,83,85,87,89,91,93,95,97,99],\"fY\":[0,0,0,0,0,0,0,0,0,0.003690036900369,0.0324324324324324,0.195340501792115,0.516007532956685,0.695340501792115,0.7125,0.782435129740519,0.76949740034662,0.829931972789116,0.795414462081129,0.869158878504673,0.860594795539034,0.863731656184486,0.877224199288256,0.895716945996276,0.883959044368601,0.896825396825397,0.88785046728972,0.901256732495512,0.919230769230769,0.906194690265487,0.923344947735192,0.926275992438563,0.913793103448276,0.917602996254682,0.923357664233577,0.919561243144424,0.884615384615385,0.936131386861314,0.932950191570881,0.891682785299807,0.92226148409894,0.918095238095238,0.925233644859813,0.915641476274165,0.93394495412844,0.938342967244701,0.928825622775801,0.936416184971098,0.916666666666667],\"fFunctions\":{\"_typename\":\"TList\",\"name\":\"TList\",\"arr\":[],\"opt\":[]},\"fHistogram\":{\"_typename\":\"TH1F\",\"fUniqueID\":0,\"fBits\":50332160,\"fName\":\"5ac05e\",\"fTitle\":\"\",\"fLineColor\":602,\"fLineStyle\":1,\"fLineWidth\":1,\"fFillColor\":0,\"fFillStyle\":1001,\"fMarkerColor\":1,\"fMarkerStyle\":1,\"fMarkerSize\":1,\"fNcells\":102,\"fXaxis\":{\"_typename\":\"TAxis\",\"fUniqueID\":0,\"fBits\":50331656,\"fName\":\"xaxis\",\"fTitle\":\" p_{T}^{GEN} [GeV]\",\"fNdivisions\":510,\"fAxisColor\":1,\"fLabelColor\":1,\"fLabelFont\":42,\"fLabelOffset\":0.005,\"fLabelSize\":0.035,\"fTickLength\":0.03,\"fTitleOffset\":1.4,\"fTitleSize\":0.035,\"fTitleColor\":1,\"fTitleFont\":42,\"fNbins\":100,\"fXmin\":0,\"fXmax\":109.8,\"fXbins\":[],\"fFirst\":0,\"fLast\":0,\"fBits2\":0,\"fTimeDisplay\":false,\"fTimeFormat\":\"\",\"fLabels\":null,\"fModLabs\":null},\"fYaxis\":{\"_typename\":\"TAxis\",\"fUniqueID\":0,\"fBits\":50331656,\"fName\":\"yaxis\",\"fTitle\":\"efficiency\",\"fNdivisions\":510,\"fAxisColor\":1,\"fLabelColor\":1,\"fLabelFont\":42,\"fLabelOffset\":0.005,\"fLabelSize\":0.035,\"fTickLength\":0.03,\"fTitleOffset\":0,\"fTitleSize\":0.035,\"fTitleColor\":1,\"fTitleFont\":42,\"fNbins\":1,\"fXmin\":0,\"fXmax\":1.04384942481705,\"fXbins\":[],\"fFirst\":0,\"fLast\":0,\"fBits2\":0,\"fTimeDisplay\":false,\"fTimeFormat\":\"\",\"fLabels\":null,\"fModLabs\":null},\"fZaxis\":{\"_typename\":\"TAxis\",\"fUniqueID\":0,\"fBits\":50331648,\"fName\":\"zaxis\",\"fTitle\":\"\",\"fNdivisions\":510,\"fAxisColor\":1,\"fLabelColor\":1,\"fLabelFont\":42,\"fLabelOffset\":0.005,\"fLabelSize\":0.035,\"fTickLength\":0.03,\"fTitleOffset\":1,\"fTitleSize\":0.035,\"fTitleColor\":1,\"fTitleFont\":42,\"fNbins\":1,\"fXmin\":0,\"fXmax\":1,\"fXbins\":[],\"fFirst\":0,\"fLast\":0,\"fBits2\":0,\"fTimeDisplay\":false,\"fTimeFormat\":\"\",\"fLabels\":null,\"fModLabs\":null},\"fBarOffset\":0,\"fBarWidth\":1000,\"fEntries\":0,\"fTsumw\":0,\"fTsumw2\":0,\"fTsumwx\":0,\"fTsumwx2\":0,\"fMaximum\":1.1,\"fMinimum\":0,\"fNormFactor\":0,\"fContour\":[],\"fSumw2\":[],\"fOption\":\"\",\"fFunctions\":{\"_typename\":\"TList\",\"name\":\"TList\",\"arr\":[],\"opt\":[]},\"fBufferSize\":0,\"fBuffer\":[],\"fBinStatErrOpt\":0,\"fStatOverflows\":2,\"fArray\":[0,0,0,0,0,0,0,0,0,0,0,0,0,0,0,0,0,0,0,0,0,0,0,0,0,0,0,0,0,0,0,0,0,0,0,0,0,0,0,0,0,0,0,0,0,0,0,0,0,0,0,0,0,0,0,0,0,0,0,0,0,0,0,0,0,0,0,0,0,0,0,0,0,0,0,0,0,0,0,0,0,0,0,0,0,0,0,0,0,0,0,0,0,0,0,0,0,0,0,0,0,0]},\"fMinimum\":-1111,\"fMaximum\":-1111,\"fEXlow\":[1,1,1,1,1,1,1,1,1,1,1,1,1,1,1,1,1,1,1,1,1,1,1,1,1,1,1,1,1,1,1,1,1,1,1,1,1,1,1,1,1,1,1,1,1,1,1,1,1],\"fEXhigh\":[1,1,1,1,1,1,1,1,1,1,1,1,1,1,1,1,1,1,1,1,1,1,1,1,1,1,1,1,1,1,1,1,1,1,1,1,1,1,1,1,1,1,1,1,1,1,1,1,1],\"fEYlow\":[0,0,0,0,0,0,0,0,0,0.00238306935803498,0.00750022256828816,0.0170943670075491,0.0226378691430044,0.0207293173963968,0.0203991083916446,0.0200099972819097,0.018876490015003,0.0169270343492235,0.0183593197562569,0.0162429919399685,0.0165678910454611,0.0175624095895389,0.0154435546778698,0.0149075268841583,0.0147783896805511,0.0153853039247966,0.0153489883346154,0.0143090922806828,0.0137852885642663,0.0139223649580189,0.0127750680959973,0.0131851615699322,0.0140992334420609,0.0136820760489597,0.0131153243312375,0.0133735419647022,0.0149461257784248,0.0122309691442957,0.01281413315306,0.0154442820694995,0.0129467541950775,0.0137833448618484,0.0131708165463646,0.0133180399048676,0.0124289371264391,0.0124523763795494,0.0125666975531052,0.0125992742161462,0.0141996528649186],\"fEYhigh\":[0.00323598815799914,0.00347414329597734,0.00333566138424641,0.0033600127640479,0.00319665655273388,0.00382017233222616,0.00346108068132723,0.00340979796341216,0.00340979796341216,0.00484609619588345,0.0093851686541524,0.0182433876148942,0.022575033155766,0.0199977836755346,0.0196056238218368,0.0188229162097046,0.0178972241018505,0.0157444315396446,0.0172642257698333,0.0147761198965212,0.0151455350688788,0.0159375947466137,0.0140163386434889,0.0133313831332909,0.0133848269270634,0.0136972620557035,0.0138014481492374,0.0127675950511577,0.0120450274122909,0.0123823386601878,0.0111858519667501,0.0114413333957419,0.012392082513368,0.0119967510271272,0.011447894279521,0.0117206346357744,0.0135147803120189,0.0105019752509745,0.0110121236282096,0.0138236914924394,0.0113391581612032,0.0120657279879272,0.0114523290506001,0.0117484731404885,0.0107009401853791,0.0106110553162552,0.0109170955298079,0.0107682361145169,0.0124150140562492]},{\"_typename\":\"TLegend\",\"fUniqueID\":0,\"fBits\":50331656,\"fLineColor\":1,\"fLineStyle\":1,\"fLineWidth\":1,\"fFillColor\":0,\"fFillStyle\":0,\"fX1\":69.7378376466153,\"fY1\":0.528571432510975,\"fX2\":108.316215527815,\"fY2\":0.671428575713692,\"fX1NDC\":0.6,\"fY1NDC\":0.5,\"fX2NDC\":0.86,\"fY2NDC\":0.6,\"fBorderSize\":0,\"fInit\":1,\"fShadowColor\":1,\"fCornerRadius\":0,\"fOption\":\"brNDC\",\"fName\":\"TPave\",\"fTextAngle\":0,\"fTextSize\":0.03,\"fTextAlign\":12,\"fTextColor\":1,\"fTextFont\":42,\"fPrimitives\":{\"_typename\":\"TList\",\"name\":\"TList\",\"arr\":[{\"_typename\":\"TLegendEntry\",\"fUniqueID\":0,\"fBits\":50331656,\"fTextAngle\":0,\"fTextSize\":0,\"fTextAlign\":0,\"fTextColor\":0,\"fTextFont\":42,\"fLineColor\":1,\"fLineStyle\":1,\"fLineWidth\":1,\"fFillColor\":0,\"fFillStyle\":0,\"fMarkerColor\":1,\"fMarkerStyle\":8,\"fMarkerSize\":0.5,\"fObject\":{\"$ref\":3},\"fLabel\":\"calorimeter only\",\"fOption\":\"P\"},{\"_typename\":\"TLegendEntry\",\"fUniqueID\":0,\"fBits\":50331656,\"fTextAngle\":0,\"fTextSize\":0,\"fTextAlign\":0,\"fTextColor\":0,\"fTextFont\":42,\"fLineColor\":1,\"fLineStyle\":1,\"fLineWidth\":1,\"fFillColor\":0,\"fFillStyle\":0,\"fMarkerColor\":628,\"fMarkerStyle\":21,\"fMarkerSize\":0.5,\"fObject\":{\"$ref\":10},\"fLabel\":\"track-matched\",\"fOption\":\"P\"}],\"opt\":[\"P\",\"P\"]},\"fEntrySeparation\":0.1,\"fMargin\":0.25,\"fNColumns\":1,\"fColumnSeparation\":0},{\"_typename\":\"TLatex\",\"fUniqueID\":0,\"fBits\":50348040,\"fName\":\"\",\"fTitle\":\"EG endcap, 1.52 < |#eta^{GEN}| #leq 2.4, p_{T}^{L1} #geq 25GeV\",\"fTextAngle\":0,\"fTextSize\":0.03,\"fTextAlign\":11,\"fTextColor\":1,\"fTextFont\":62,\"fX\":0.15,\"fY\":0.85,\"fLineColor\":1,\"fLineStyle\":1,\"fLineWidth\":2,\"fLimitFactorSize\":3,\"fOriginSize\":0.0299999993294477},{\"_typename\":\"TLatex\",\"fUniqueID\":0,\"fBits\":50348041,\"fName\":\"\",\"fTitle\":\"#scale[1.5]{CMS} #scale[1.]{Phase-2 Simulation}\",\"fTextAngle\":0,\"fTextSize\":0.03,\"fTextAlign\":11,\"fTextColor\":1,\"fTextFont\":62,\"fX\":0.13,\"fY\":0.91,\"fLineColor\":1,\"fLineStyle\":1,\"fLineWidth\":2,\"fLimitFactorSize\":3,\"fOriginSize\":0.0299999993294477},{\"_typename\":\"TLatex\",\"fUniqueID\":0,\"fBits\":50348041,\"fName\":\"\",\"fTitle\":\"14TeV, 200 PU\",\"fTextAngle\":0,\"fTextSize\":0.03,\"fTextAlign\":11,\"fTextColor\":1,\"fTextFont\":62,\"fX\":0.69,\"fY\":0.91,\"fLineColor\":1,\"fLineStyle\":1,\"fLineWidth\":2,\"fLimitFactorSize\":3,\"fOriginSize\":0.0299999993294477},{\"_typename\":\"TLatex\",\"fUniqueID\":0,\"fBits\":50331656,\"fName\":\"\",\"fTitle\":\"\",\"fTextAngle\":0,\"fTextSize\":0.03,\"fTextAlign\":11,\"fTextColor\":1,\"fTextFont\":62,\"fX\":0,\"fY\":0,\"fLineColor\":1,\"fLineStyle\":1,\"fLineWidth\":2,\"fLimitFactorSize\":3,\"fOriginSize\":0.04},{\"_typename\":\"TLine\",\"fUniqueID\":0,\"fBits\":50331656,\"fLineColor\":1,\"fLineStyle\":2,\"fLineWidth\":1,\"fX1\":0,\"fY1\":0.95,\"fX2\":109.8,\"fY2\":0.95},{\"_typename\":\"TLine\",\"fUniqueID\":0,\"fBits\":50331656,\"fLineColor\":1,\"fLineStyle\":2,\"fLineWidth\":1,\"fX1\":0,\"fY1\":1,\"fX2\":109.8,\"fY2\":1}],\"opt\":[\"\",\"pa\",\",p\",\"same\",\"same\",\"\",\"\",\"same\",\"same\",\"same\"]},\"fExecs\":null,\"fName\":\"c_cd6ee4\",\"fTitle\":\"c_cd6ee4\",\"fNumPaletteColor\":0,\"fNextPaletteColor\":0,\"fDISPLAY\":\"$DISPLAY\",\"fDoubleBuffer\":0,\"fRetained\":true,\"fXsizeUser\":0,\"fYsizeUser\":0,\"fXsizeReal\":20,\"fYsizeReal\":20,\"fWindowTopX\":0,\"fWindowTopY\":0,\"fWindowWidth\":0,\"fWindowHeight\":0,\"fCw\":596,\"fCh\":572,\"fCatt\":{\"_typename\":\"TAttCanvas\",\"fXBetween\":2,\"fYBetween\":2,\"fTitleFromTop\":1.2,\"fXdate\":0.2,\"fYdate\":0.3,\"fAdate\":1},\"kMoveOpaque\":true,\"kResizeOpaque\":true,\"fHighLightColor\":2,\"fBatch\":true,\"kShowEventStatus\":false,\"kAutoExec\":true,\"kMenuBar\":true});\n",
       "       Core.draw(\"root_plot_22\", obj, \"\");\n",
       "     }\n",
       " );\n",
       "</script>\n"
      ],
      "text/plain": [
       "<IPython.core.display.HTML object>"
      ]
     },
     "metadata": {},
     "output_type": "display_data"
    }
   ],
   "source": [
    "hsets, labels, text = hplot.get_histo(histos.HistoSetEff, sample, ['PU200'], ['EG', 'TkEleEL'], 'EGq5Pt25', 'GENEtaBC')\n",
    "labels=['calorimeter only', 'track-matched']\n",
    "legend_position = (0.6, 0.5, 0.86, 0.6)\n",
    "text_forprint='EG endcap, 1.52 < |#eta^{GEN}| #leq 2.4, p_{T}^{L1} #geq 25GeV'\n",
    "draw([his.h_eff.h_pt.CreateGraph() for his in hsets], labels, text=text_forprint, min_y=0, max_y=1.1, \n",
    "     y_axis_label='efficiency', h_lines=[0.95, 1],\n",
    "     legend_position=legend_position,\n",
    "     do_write=True, write_name='figs/egammaEndcap_TkEle_EGq5Pt25_GENEtaBC_hEffvPt')\n"
   ]
  },
  {
   "cell_type": "code",
   "execution_count": 46,
   "metadata": {},
   "outputs": [
    {
     "data": {
      "text/plain": [
       "<drawingTools.DrawMachine at 0x11a5ccc10>"
      ]
     },
     "execution_count": 46,
     "metadata": {},
     "output_type": "execute_result"
    },
    {
     "data": {
      "text/html": [
       "\n",
       "<div id=\"root_plot_23\"\n",
       "     style=\"width: 796px; height: 572px\">\n",
       "</div>\n",
       "\n",
       "<script>\n",
       " requirejs.config({\n",
       "     paths: {\n",
       "       'JSRootCore' : 'https://root.cern.ch/js/notebook//scripts/JSRootCore',\n",
       "     }\n",
       "   });\n",
       " require(['JSRootCore'],\n",
       "     function(Core) {\n",
       "       var obj = Core.JSONR_unref({\"_typename\":\"TCanvas\",\"fUniqueID\":0,\"fBits\":53673992,\"fLineColor\":1,\"fLineStyle\":1,\"fLineWidth\":1,\"fFillColor\":0,\"fFillStyle\":1001,\"fLeftMargin\":0.13,\"fRightMargin\":0.3,\"fBottomMargin\":0.13,\"fTopMargin\":0.1,\"fXfile\":2,\"fYfile\":2,\"fAfile\":1,\"fXstat\":0.99,\"fYstat\":0.99,\"fAstat\":2,\"fFrameFillColor\":0,\"fFrameLineColor\":1,\"fFrameFillStyle\":1001,\"fFrameLineStyle\":1,\"fFrameLineWidth\":1,\"fFrameBorderSize\":1,\"fFrameBorderMode\":0,\"fX1\":-25.0421046588559,\"fY1\":0.70441558495845,\"fX2\":167.58947670572,\"fY2\":1.05506493645603,\"fXtoAbsPixelk\":103.480046204376,\"fXtoPixelk\":103.480046204376,\"fXtoPixel\":4.13224038530569,\"fYtoAbsPixelk\":1721.08449255034,\"fYtoPixelk\":1721.08449255034,\"fYtoPixel\":-1631.25925531321,\"fUtoAbsPixelk\":5e-5,\"fUtoPixelk\":5e-5,\"fUtoPixel\":796,\"fVtoAbsPixelk\":572.00005,\"fVtoPixelk\":572,\"fVtoPixel\":-572,\"fAbsPixeltoXk\":-25.0421046588559,\"fPixeltoXk\":-25.0421046588559,\"fPixeltoX\":0.241999474076101,\"fAbsPixeltoYk\":1.05506493645603,\"fPixeltoYk\":0.70441558495845,\"fPixeltoY\":-6.13023341778983e-4,\"fXlowNDC\":0,\"fYlowNDC\":0,\"fXUpNDC\":0,\"fYUpNDC\":0,\"fWNDC\":1,\"fHNDC\":1,\"fAbsXlowNDC\":0,\"fAbsYlowNDC\":0,\"fAbsWNDC\":1,\"fAbsHNDC\":1,\"fUxmin\":0,\"fUymin\":0.75,\"fUxmax\":109.8,\"fUymax\":1.02,\"fTheta\":30,\"fPhi\":30,\"fAspectRatio\":0,\"fNumber\":0,\"fTickx\":0,\"fTicky\":0,\"fLogx\":0,\"fLogy\":0,\"fLogz\":0,\"fPadPaint\":0,\"fCrosshair\":0,\"fCrosshairPos\":0,\"fBorderSize\":2,\"fBorderMode\":0,\"fModified\":false,\"fGridx\":false,\"fGridy\":false,\"fAbsCoord\":false,\"fEditable\":true,\"fFixedAspectRatio\":false,\"fPrimitives\":{\"_typename\":\"TList\",\"name\":\"TList\",\"arr\":[{\"_typename\":\"TFrame\",\"fUniqueID\":0,\"fBits\":50331656,\"fLineColor\":1,\"fLineStyle\":1,\"fLineWidth\":1,\"fFillColor\":0,\"fFillStyle\":1001,\"fX1\":0,\"fY1\":0.75,\"fX2\":109.8,\"fY2\":1.02,\"fBorderSize\":1,\"fBorderMode\":0},{\"_typename\":\"TGraphAsymmErrors\",\"fUniqueID\":0,\"fBits\":50332680,\"fName\":\"35c870\",\"fTitle\":\"; p_{T}^{GEN} [GeV];\",\"fLineColor\":1,\"fLineStyle\":1,\"fLineWidth\":1,\"fFillColor\":0,\"fFillStyle\":1001,\"fMarkerColor\":1,\"fMarkerStyle\":8,\"fMarkerSize\":0.5,\"fNpoints\":49,\"fX\":[3,5,7,9,11,13,15,17,19,21,23,25,27,29,31,33,35,37,39,41,43,45,47,49,51,53,55,57,59,61,63,65,67,69,71,73,75,77,79,81,83,85,87,89,91,93,95,97,99],\"fY\":[0,0,0,0,0,0,0.00512820512820513,0.137420718816068,0.629740518962076,0.882874015748031,0.934151785714286,0.968399592252803,0.977319587628866,0.982528263103803,0.98024948024948,0.995717344753747,0.985522233712513,0.985380116959064,0.990683229813665,0.98989898989899,0.993314231136581,0.99077868852459,0.99027027027027,0.987951807228916,0.98936170212766,0.992943548387097,0.993170731707317,0.991498405951116,0.99581589958159,0.993062438057483,0.992964824120603,0.986666666666667,0.996818663838812,0.993069306930693,0.991062562065541,0.991769547325103,0.994954591321897,0.996897621509824,0.995854922279793,0.996818663838812,0.989327641408751,0.995614035087719,0.99486125385406,0.995731056563501,0.992616033755274,0.99486125385406,0.988925802879291,0.996848739495798,0.995905834186285],\"fFunctions\":{\"_typename\":\"TList\",\"name\":\"TList\",\"arr\":[],\"opt\":[]},\"fHistogram\":{\"_typename\":\"TH1F\",\"fUniqueID\":0,\"fBits\":50332160,\"fName\":\"35c870\",\"fTitle\":\"\",\"fLineColor\":602,\"fLineStyle\":1,\"fLineWidth\":1,\"fFillColor\":0,\"fFillStyle\":1001,\"fMarkerColor\":1,\"fMarkerStyle\":1,\"fMarkerSize\":1,\"fNcells\":102,\"fXaxis\":{\"_typename\":\"TAxis\",\"fUniqueID\":0,\"fBits\":50331656,\"fName\":\"xaxis\",\"fTitle\":\" p_{T}^{GEN} [GeV]\",\"fNdivisions\":510,\"fAxisColor\":1,\"fLabelColor\":1,\"fLabelFont\":42,\"fLabelOffset\":0.005,\"fLabelSize\":0.035,\"fTickLength\":0.03,\"fTitleOffset\":1.4,\"fTitleSize\":0.035,\"fTitleColor\":1,\"fTitleFont\":42,\"fNbins\":100,\"fXmin\":0,\"fXmax\":109.8,\"fXbins\":[],\"fFirst\":0,\"fLast\":0,\"fBits2\":0,\"fTimeDisplay\":false,\"fTimeFormat\":\"\",\"fLabels\":null,\"fModLabs\":null},\"fYaxis\":{\"_typename\":\"TAxis\",\"fUniqueID\":0,\"fBits\":50331656,\"fName\":\"yaxis\",\"fTitle\":\"L1 matched to GEN\\/GEN\",\"fNdivisions\":510,\"fAxisColor\":1,\"fLabelColor\":1,\"fLabelFont\":42,\"fLabelOffset\":0.005,\"fLabelSize\":0.035,\"fTickLength\":0.03,\"fTitleOffset\":0,\"fTitleSize\":0.035,\"fTitleColor\":1,\"fTitleFont\":42,\"fNbins\":1,\"fXmin\":0,\"fXmax\":1.09844413907446,\"fXbins\":[],\"fFirst\":0,\"fLast\":0,\"fBits2\":0,\"fTimeDisplay\":false,\"fTimeFormat\":\"\",\"fLabels\":null,\"fModLabs\":null},\"fZaxis\":{\"_typename\":\"TAxis\",\"fUniqueID\":0,\"fBits\":50331648,\"fName\":\"zaxis\",\"fTitle\":\"\",\"fNdivisions\":510,\"fAxisColor\":1,\"fLabelColor\":1,\"fLabelFont\":42,\"fLabelOffset\":0.005,\"fLabelSize\":0.035,\"fTickLength\":0.03,\"fTitleOffset\":1,\"fTitleSize\":0.035,\"fTitleColor\":1,\"fTitleFont\":42,\"fNbins\":1,\"fXmin\":0,\"fXmax\":1,\"fXbins\":[],\"fFirst\":0,\"fLast\":0,\"fBits2\":0,\"fTimeDisplay\":false,\"fTimeFormat\":\"\",\"fLabels\":null,\"fModLabs\":null},\"fBarOffset\":0,\"fBarWidth\":1000,\"fEntries\":0,\"fTsumw\":0,\"fTsumw2\":0,\"fTsumwx\":0,\"fTsumwx2\":0,\"fMaximum\":1.02,\"fMinimum\":0.75,\"fNormFactor\":0,\"fContour\":[],\"fSumw2\":[],\"fOption\":\"\",\"fFunctions\":{\"_typename\":\"TList\",\"name\":\"TList\",\"arr\":[],\"opt\":[]},\"fBufferSize\":0,\"fBuffer\":[],\"fBinStatErrOpt\":0,\"fStatOverflows\":2,\"fArray\":[0,0,0,0,0,0,0,0,0,0,0,0,0,0,0,0,0,0,0,0,0,0,0,0,0,0,0,0,0,0,0,0,0,0,0,0,0,0,0,0,0,0,0,0,0,0,0,0,0,0,0,0,0,0,0,0,0,0,0,0,0,0,0,0,0,0,0,0,0,0,0,0,0,0,0,0,0,0,0,0,0,0,0,0,0,0,0,0,0,0,0,0,0,0,0,0,0,0,0,0,0,0]},\"fMinimum\":-1111,\"fMaximum\":-1111,\"fEXlow\":[1,1,1,1,1,1,1,1,1,1,1,1,1,1,1,1,1,1,1,1,1,1,1,1,1,1,1,1,1,1,1,1,1,1,1,1,1,1,1,1,1,1,1,1,1,1,1,1,1],\"fEXhigh\":[1,1,1,1,1,1,1,1,1,1,1,1,1,1,1,1,1,1,1,1,1,1,1,1,1,1,1,1,1,1,1,1,1,1,1,1,1,1,1,1,1,1,1,1,1,1,1,1,1],\"fEYlow\":[0,0,0,0,0,0,0.00221333186474682,0.01131915288817,0.0158794615001216,0.0109749081390733,0.00936468120084255,0.00662575721888792,0.00585429664924819,0.0052869719136025,0.00557795936215166,0.00337326464692866,0.004946515656574,0.00478599582295436,0.00422598137292163,0.00427897230151708,0.003582507353451,0.00418297549558033,0.00441195717041953,0.00454003265215241,0.00450483490077536,0.00378005003721382,0.00365899397848757,0.00416587903898924,0.00329592898269837,0.00371670426765969,0.0037687149452742,0.00477424173479335,0.00308487010938718,0.00371304409570206,0.00405504945089497,0.00403383885449904,0.00339875774656762,0.00300854146570706,0.00326530419631987,0.00308487010938718,0.00451914725501013,0.00345431666650275,0.00346136109778605,0.0033625058557214,0.00395449294496242,0.00346136109778605,0.00468794684174123,0.0030557972803803,0.00322534558967236],\"fEYhigh\":[0.00192591439828387,0.00188838072126811,0.00192793122919638,0.00187683006296159,0.00183200672073017,0.0020122196424826,0.0034542915160458,0.0121214078102178,0.015612191268408,0.0101848959808756,0.00833093763701764,0.005584159727543,0.00476450981126542,0.0041743051646318,0.00446435916473598,0.00204851879382739,0.00380771503567212,0.00371724944327212,0.00304073234447955,0.00313265446027955,0.00246239246013591,0.00300964170005413,0.00317521673652144,0.00341848573285242,0.0032988665335969,0.00259872874715827,0.00251517357243436,0.00293672107762044,0.00200140180579389,0.00255500354343985,0.00259090411418816,0.0036371433232768,0.00173090709508883,0.00255247724943175,0.00291717694978888,0.00284322253386327,0.00217762457067305,0.00168795946695577,0.00198274555387989,0.00173090709508883,0.00330940191978246,0.0020979077206561,0.00221787778212401,0.00204196353598241,0.00271917146013556,0.00221787778212401,0.00343368248517517,0.00171454804453863,0.00195840494962451]},{\"_typename\":\"TGraphAsymmErrors\",\"fUniqueID\":0,\"fBits\":50332680,\"fName\":\"22fb31\",\"fTitle\":\"; p_{T}^{GEN} [GeV];\",\"fLineColor\":628,\"fLineStyle\":1,\"fLineWidth\":1,\"fFillColor\":0,\"fFillStyle\":1001,\"fMarkerColor\":628,\"fMarkerStyle\":21,\"fMarkerSize\":0.5,\"fNpoints\":49,\"fX\":[3,5,7,9,11,13,15,17,19,21,23,25,27,29,31,33,35,37,39,41,43,45,47,49,51,53,55,57,59,61,63,65,67,69,71,73,75,77,79,81,83,85,87,89,91,93,95,97,99],\"fY\":[0,0,0,0,0,0,0.00512820512820513,0.127906976744186,0.620758483033932,0.867125984251969,0.926339285714286,0.957186544342508,0.968041237113402,0.975334018499486,0.972972972972973,0.988222698072805,0.979317476732161,0.97953216374269,0.989648033126294,0.984848484848485,0.989493791786055,0.983606557377049,0.985945945945946,0.981927710843373,0.982978723404255,0.986895161290323,0.989268292682927,0.985122210414453,0.989539748953975,0.98810703666997,0.990954773869347,0.984615384615385,0.992576882290562,0.988118811881188,0.98609731876862,0.987654320987654,0.990918264379415,0.99482936918304,0.987564766839378,0.992576882290562,0.982924226254002,0.989035087719298,0.988694758478931,0.987193169690502,0.975738396624473,0.986639260020555,0.981173864894795,0.983193277310924,0.992835209825998],\"fFunctions\":{\"_typename\":\"TList\",\"name\":\"TList\",\"arr\":[],\"opt\":[]},\"fHistogram\":{\"_typename\":\"TH1F\",\"fUniqueID\":0,\"fBits\":50332160,\"fName\":\"22fb31\",\"fTitle\":\"\",\"fLineColor\":602,\"fLineStyle\":1,\"fLineWidth\":1,\"fFillColor\":0,\"fFillStyle\":1001,\"fMarkerColor\":1,\"fMarkerStyle\":1,\"fMarkerSize\":1,\"fNcells\":102,\"fXaxis\":{\"_typename\":\"TAxis\",\"fUniqueID\":0,\"fBits\":50331656,\"fName\":\"xaxis\",\"fTitle\":\" p_{T}^{GEN} [GeV]\",\"fNdivisions\":510,\"fAxisColor\":1,\"fLabelColor\":1,\"fLabelFont\":42,\"fLabelOffset\":0.005,\"fLabelSize\":0.035,\"fTickLength\":0.03,\"fTitleOffset\":1.4,\"fTitleSize\":0.035,\"fTitleColor\":1,\"fTitleFont\":42,\"fNbins\":100,\"fXmin\":0,\"fXmax\":109.8,\"fXbins\":[],\"fFirst\":0,\"fLast\":0,\"fBits2\":0,\"fTimeDisplay\":false,\"fTimeFormat\":\"\",\"fLabels\":null,\"fModLabs\":null},\"fYaxis\":{\"_typename\":\"TAxis\",\"fUniqueID\":0,\"fBits\":50331656,\"fName\":\"yaxis\",\"fTitle\":\"L1 matched to GEN\\/GEN\",\"fNdivisions\":510,\"fAxisColor\":1,\"fLabelColor\":1,\"fLabelFont\":42,\"fLabelOffset\":0.005,\"fLabelSize\":0.035,\"fTickLength\":0.03,\"fTitleOffset\":0,\"fTitleSize\":0.035,\"fTitleColor\":1,\"fTitleFont\":42,\"fNbins\":1,\"fXmin\":0,\"fXmax\":1.09676709719818,\"fXbins\":[],\"fFirst\":0,\"fLast\":0,\"fBits2\":0,\"fTimeDisplay\":false,\"fTimeFormat\":\"\",\"fLabels\":null,\"fModLabs\":null},\"fZaxis\":{\"_typename\":\"TAxis\",\"fUniqueID\":0,\"fBits\":50331648,\"fName\":\"zaxis\",\"fTitle\":\"\",\"fNdivisions\":510,\"fAxisColor\":1,\"fLabelColor\":1,\"fLabelFont\":42,\"fLabelOffset\":0.005,\"fLabelSize\":0.035,\"fTickLength\":0.03,\"fTitleOffset\":1,\"fTitleSize\":0.035,\"fTitleColor\":1,\"fTitleFont\":42,\"fNbins\":1,\"fXmin\":0,\"fXmax\":1,\"fXbins\":[],\"fFirst\":0,\"fLast\":0,\"fBits2\":0,\"fTimeDisplay\":false,\"fTimeFormat\":\"\",\"fLabels\":null,\"fModLabs\":null},\"fBarOffset\":0,\"fBarWidth\":1000,\"fEntries\":0,\"fTsumw\":0,\"fTsumw2\":0,\"fTsumwx\":0,\"fTsumwx2\":0,\"fMaximum\":1.02,\"fMinimum\":0.75,\"fNormFactor\":0,\"fContour\":[],\"fSumw2\":[],\"fOption\":\"\",\"fFunctions\":{\"_typename\":\"TList\",\"name\":\"TList\",\"arr\":[],\"opt\":[]},\"fBufferSize\":0,\"fBuffer\":[],\"fBinStatErrOpt\":0,\"fStatOverflows\":2,\"fArray\":[0,0,0,0,0,0,0,0,0,0,0,0,0,0,0,0,0,0,0,0,0,0,0,0,0,0,0,0,0,0,0,0,0,0,0,0,0,0,0,0,0,0,0,0,0,0,0,0,0,0,0,0,0,0,0,0,0,0,0,0,0,0,0,0,0,0,0,0,0,0,0,0,0,0,0,0,0,0,0,0,0,0,0,0,0,0,0,0,0,0,0,0,0,0,0,0,0,0,0,0,0,0]},\"fMinimum\":-1111,\"fMaximum\":-1111,\"fEXlow\":[1,1,1,1,1,1,1,1,1,1,1,1,1,1,1,1,1,1,1,1,1,1,1,1,1,1,1,1,1,1,1,1,1,1,1,1,1,1,1,1,1,1,1,1,1,1,1,1,1],\"fEXhigh\":[1,1,1,1,1,1,1,1,1,1,1,1,1,1,1,1,1,1,1,1,1,1,1,1,1,1,1,1,1,1,1,1,1,1,1,1,1,1,1,1,1,1,1,1,1,1,1,1,1],\"fEYlow\":[0,0,0,0,0,0,0.00221333186474682,0.0109735658123102,0.0159435281276606,0.0115174285998952,0.00979375065227295,0.00748279673159968,0.00669939378747819,0.00603774480503139,0.00630027568322533,0.00468954728446569,0.00565983314436114,0.00544008079132874,0.00438449029225929,0.00495825477330991,0.00418718053758282,0.00515170424633815,0.00502981096096344,0.00527969446334486,0.00534675830012488,0.00469316346085868,0.00427636970865819,0.00508180368859201,0.00443000789388848,0.00448202372667006,0.00410362992995417,0.00503374430049952,0.00397534009305411,0.00447762283702935,0.00475189097511175,0.00465116722987502,0.00412008311677536,0.00348274453635133,0.00468461365125694,0.00397534009305411,0.00536368152487077,0.00464204950992608,0.0045030840896656,0.00482335158911695,0.00609244779381179,0.004783964886516,0.00569169580600393,0.00528011983830201,0.00383776384932644],\"fEYhigh\":[0.00192591439828387,0.00188838072126811,0.00192793122919638,0.00187683006296159,0.00183200672073017,0.0020122196424826,0.0034542915160458,0.0117980200218458,0.0156947990626246,0.0107617709351002,0.00878185628897954,0.00647771140667974,0.00564678216929315,0.00496021905750732,0.00521972189159214,0.0034862510592405,0.00455699001380128,0.00440270478944926,0.00321029420045926,0.00385185041935976,0.00311096386495424,0.00403632035534629,0.00383301458973628,0.00419735317150216,0.00419015062774142,0.00357502929533537,0.00317755918249152,0.00391249664474336,0.00324379175259826,0.00337457587981049,0.0029522876686886,0.00391085504868638,0.00273356828433413,0.00337124487472151,0.00365703760341607,0.00350262603554374,0.00296417981278918,0.00223162826984857,0.00352795278951212,0.00273356828433413,0.00420350074674014,0.00339988523597545,0.0033469040705264,0.00363303144619731,0.00498337593517495,0.00364459304342257,0.00449611588922394,0.00413758745742177,0.00263857169784887]},{\"_typename\":\"TLegend\",\"fUniqueID\":0,\"fBits\":50331656,\"fLineColor\":1,\"fLineStyle\":1,\"fLineWidth\":1,\"fFillColor\":0,\"fFillStyle\":0,\"fX1\":109.800002296347,\"fY1\":0.953376624521731,\"fX2\":157.957897637491,\"fY2\":1.00246753373139,\"fX1NDC\":0.7,\"fY1NDC\":0.71,\"fX2NDC\":0.95,\"fY2NDC\":0.85,\"fBorderSize\":0,\"fInit\":1,\"fShadowColor\":1,\"fCornerRadius\":0,\"fOption\":\"brNDC\",\"fName\":\"TPave\",\"fTextAngle\":0,\"fTextSize\":0.03,\"fTextAlign\":12,\"fTextColor\":1,\"fTextFont\":42,\"fPrimitives\":{\"_typename\":\"TList\",\"name\":\"TList\",\"arr\":[{\"_typename\":\"TLegendEntry\",\"fUniqueID\":0,\"fBits\":50331656,\"fTextAngle\":0,\"fTextSize\":0,\"fTextAlign\":0,\"fTextColor\":0,\"fTextFont\":42,\"fLineColor\":1,\"fLineStyle\":1,\"fLineWidth\":1,\"fFillColor\":0,\"fFillStyle\":0,\"fMarkerColor\":1,\"fMarkerStyle\":8,\"fMarkerSize\":0.5,\"fObject\":{\"$ref\":3},\"fLabel\":\"p_{T}^{L1}>=20GeV\",\"fOption\":\"P\"},{\"_typename\":\"TLegendEntry\",\"fUniqueID\":0,\"fBits\":50331656,\"fTextAngle\":0,\"fTextSize\":0,\"fTextAlign\":0,\"fTextColor\":0,\"fTextFont\":42,\"fLineColor\":1,\"fLineStyle\":1,\"fLineWidth\":1,\"fFillColor\":0,\"fFillStyle\":0,\"fMarkerColor\":628,\"fMarkerStyle\":21,\"fMarkerSize\":0.5,\"fObject\":{\"$ref\":10},\"fLabel\":\"p_{T}^{L1}>=20GeV, LooseTkID\",\"fOption\":\"P\"}],\"opt\":[\"P\",\"P\"]},\"fEntrySeparation\":0.1,\"fMargin\":0.25,\"fNColumns\":1,\"fColumnSeparation\":0},{\"_typename\":\"TLatex\",\"fUniqueID\":0,\"fBits\":50348040,\"fName\":\"\",\"fTitle\":\"PU200, EG barrel, |#eta^{GEN}| <= 1.479\",\"fTextAngle\":0,\"fTextSize\":0.03,\"fTextAlign\":11,\"fTextColor\":1,\"fTextFont\":62,\"fX\":0.15,\"fY\":0.85,\"fLineColor\":1,\"fLineStyle\":1,\"fLineWidth\":2,\"fLimitFactorSize\":3,\"fOriginSize\":0.04},{\"_typename\":\"TLatex\",\"fUniqueID\":0,\"fBits\":50331656,\"fName\":\"\",\"fTitle\":\"\",\"fTextAngle\":0,\"fTextSize\":0.03,\"fTextAlign\":11,\"fTextColor\":1,\"fTextFont\":62,\"fX\":0,\"fY\":0,\"fLineColor\":1,\"fLineStyle\":1,\"fLineWidth\":2,\"fLimitFactorSize\":3,\"fOriginSize\":0.04},{\"_typename\":\"TLine\",\"fUniqueID\":0,\"fBits\":50331656,\"fLineColor\":1,\"fLineStyle\":2,\"fLineWidth\":1,\"fX1\":0,\"fY1\":0.95,\"fX2\":109.8,\"fY2\":0.95},{\"_typename\":\"TLine\",\"fUniqueID\":0,\"fBits\":50331656,\"fLineColor\":1,\"fLineStyle\":2,\"fLineWidth\":1,\"fX1\":0,\"fY1\":1,\"fX2\":109.8,\"fY2\":1}],\"opt\":[\"\",\"pa\",\",p\",\"same\",\"same\",\"same\",\"same\",\"same\"]},\"fExecs\":null,\"fName\":\"c_25e6a6\",\"fTitle\":\"c_25e6a6\",\"fNumPaletteColor\":0,\"fNextPaletteColor\":0,\"fDISPLAY\":\"$DISPLAY\",\"fDoubleBuffer\":0,\"fRetained\":true,\"fXsizeUser\":0,\"fYsizeUser\":0,\"fXsizeReal\":20,\"fYsizeReal\":15,\"fWindowTopX\":0,\"fWindowTopY\":0,\"fWindowWidth\":0,\"fWindowHeight\":0,\"fCw\":796,\"fCh\":572,\"fCatt\":{\"_typename\":\"TAttCanvas\",\"fXBetween\":2,\"fYBetween\":2,\"fTitleFromTop\":1.2,\"fXdate\":0.2,\"fYdate\":0.3,\"fAdate\":1},\"kMoveOpaque\":true,\"kResizeOpaque\":true,\"fHighLightColor\":2,\"fBatch\":true,\"kShowEventStatus\":false,\"kAutoExec\":true,\"kMenuBar\":true});\n",
       "       Core.draw(\"root_plot_23\", obj, \"\");\n",
       "     }\n",
       " );\n",
       "</script>\n"
      ],
      "text/plain": [
       "<IPython.core.display.HTML object>"
      ]
     },
     "metadata": {},
     "output_type": "display_data"
    }
   ],
   "source": [
    "hsets, labels, text = hplot.get_histo(histos.HistoSetEff, sample, ['PU200'], ['EGBRL'], ['Pt20', 'Pt20LooseTkID'], ['GENEtaF'])\n",
    "draw([his.h_eff.h_pt.CreateGraph() for his in hsets], labels, text=text, min_y=0.75, max_y=1.02, y_axis_label='L1 matched to GEN/GEN', h_lines=[0.95, 1])\n"
   ]
  },
  {
   "cell_type": "code",
   "execution_count": 47,
   "metadata": {},
   "outputs": [
    {
     "data": {
      "text/plain": [
       "<drawingTools.DrawMachine at 0x11a3a6950>"
      ]
     },
     "execution_count": 47,
     "metadata": {},
     "output_type": "execute_result"
    },
    {
     "name": "stdout",
     "output_type": "stream",
     "text": [
      "ERROR in TPDF::Open: Cannot open file:figs/EgammaBarrelOnlyCaloEff.pdf\n"
     ]
    },
    {
     "data": {
      "text/html": [
       "\n",
       "<div id=\"root_plot_24\"\n",
       "     style=\"width: 596px; height: 572px\">\n",
       "</div>\n",
       "\n",
       "<script>\n",
       " requirejs.config({\n",
       "     paths: {\n",
       "       'JSRootCore' : 'https://root.cern.ch/js/notebook//scripts/JSRootCore',\n",
       "     }\n",
       "   });\n",
       " require(['JSRootCore'],\n",
       "     function(Core) {\n",
       "       var obj = Core.JSONR_unref({\"_typename\":\"TCanvas\",\"fUniqueID\":0,\"fBits\":53673992,\"fLineColor\":1,\"fLineStyle\":1,\"fLineWidth\":1,\"fFillColor\":0,\"fFillStyle\":1001,\"fLeftMargin\":0.13,\"fRightMargin\":0.13,\"fBottomMargin\":0.13,\"fTopMargin\":0.1,\"fXfile\":2,\"fYfile\":2,\"fAfile\":1,\"fXstat\":0.99,\"fYstat\":0.99,\"fAstat\":2,\"fFrameFillColor\":0,\"fFrameLineColor\":1,\"fFrameFillStyle\":1001,\"fFrameLineStyle\":1,\"fFrameLineWidth\":1,\"fFrameBorderSize\":1,\"fFrameBorderMode\":0,\"fX1\":-17.5675666967912,\"fY1\":0.762857143299478,\"fX2\":117.567566696791,\"fY2\":1.04857142970491,\"fXtoAbsPixelk\":77.4800471580505,\"fXtoPixelk\":77.4800471580505,\"fXtoPixel\":4.41040005683899,\"fYtoAbsPixelk\":2099.24004719113,\"fYtoPixelk\":2099.24004719113,\"fYtoPixel\":-2001.99999515712,\"fUtoAbsPixelk\":5e-5,\"fUtoPixelk\":5e-5,\"fUtoPixel\":596,\"fVtoAbsPixelk\":572.00005,\"fVtoPixelk\":572,\"fVtoPixel\":-572,\"fAbsPixeltoXk\":-17.5675666967912,\"fPixeltoXk\":-17.5675666967912,\"fPixeltoX\":0.226736800995944,\"fAbsPixeltoYk\":1.04857142970491,\"fPixeltoYk\":0.762857143299478,\"fPixeltoY\":-4.99500500708801e-4,\"fXlowNDC\":0,\"fYlowNDC\":0,\"fXUpNDC\":0,\"fYUpNDC\":0,\"fWNDC\":1,\"fHNDC\":1,\"fAbsXlowNDC\":0,\"fAbsYlowNDC\":0,\"fAbsWNDC\":1,\"fAbsHNDC\":1,\"fUxmin\":0,\"fUymin\":0.8,\"fUxmax\":100,\"fUymax\":1.02,\"fTheta\":30,\"fPhi\":30,\"fAspectRatio\":0,\"fNumber\":0,\"fTickx\":0,\"fTicky\":0,\"fLogx\":0,\"fLogy\":0,\"fLogz\":0,\"fPadPaint\":0,\"fCrosshair\":0,\"fCrosshairPos\":0,\"fBorderSize\":2,\"fBorderMode\":0,\"fModified\":false,\"fGridx\":false,\"fGridy\":false,\"fAbsCoord\":false,\"fEditable\":true,\"fFixedAspectRatio\":false,\"fPrimitives\":{\"_typename\":\"TList\",\"name\":\"TList\",\"arr\":[{\"_typename\":\"TFrame\",\"fUniqueID\":0,\"fBits\":50331656,\"fLineColor\":1,\"fLineStyle\":1,\"fLineWidth\":1,\"fFillColor\":0,\"fFillStyle\":1001,\"fX1\":0,\"fY1\":0.8,\"fX2\":100,\"fY2\":1.02,\"fBorderSize\":1,\"fBorderMode\":0},{\"_typename\":\"TGraphAsymmErrors\",\"fUniqueID\":0,\"fBits\":50332680,\"fName\":\"3894e7\",\"fTitle\":\"; p_{T}^{GEN} [GeV];\",\"fLineColor\":1,\"fLineStyle\":1,\"fLineWidth\":1,\"fFillColor\":0,\"fFillStyle\":1001,\"fMarkerColor\":1,\"fMarkerStyle\":8,\"fMarkerSize\":0.5,\"fNpoints\":25,\"fX\":[2,6,10,14,18,22,26,30,34,38,42,46,50,54,58,62,66,70,74,78,82,86,90,94,98],\"fY\":[0,0,0,0,0.00308008213552361,0.35407949790795,0.900051255766274,0.965891472868217,0.985796948974224,0.985441767068273,0.988217967599411,0.990005260389269,0.988119834710744,0.992067426871591,0.993147074327886,0.99251497005988,0.991136600625652,0.99107585523054,0.993377483443709,0.995859213250518,0.992553191489362,0.995225464190981,0.994164456233422,0.992004264392324,0.996371176775531],\"fFunctions\":{\"_typename\":\"TList\",\"name\":\"TList\",\"arr\":[],\"opt\":[]},\"fHistogram\":{\"_typename\":\"TH1F\",\"fUniqueID\":0,\"fBits\":50332160,\"fName\":\"3894e7\",\"fTitle\":\"\",\"fLineColor\":602,\"fLineStyle\":1,\"fLineWidth\":1,\"fFillColor\":0,\"fFillStyle\":1001,\"fMarkerColor\":1,\"fMarkerStyle\":1,\"fMarkerSize\":1,\"fNcells\":102,\"fXaxis\":{\"_typename\":\"TAxis\",\"fUniqueID\":0,\"fBits\":50331656,\"fName\":\"xaxis\",\"fTitle\":\" p_{T}^{GEN} [GeV]\",\"fNdivisions\":510,\"fAxisColor\":1,\"fLabelColor\":1,\"fLabelFont\":42,\"fLabelOffset\":0.005,\"fLabelSize\":0.035,\"fTickLength\":0.03,\"fTitleOffset\":1.4,\"fTitleSize\":0.035,\"fTitleColor\":1,\"fTitleFont\":42,\"fNbins\":100,\"fXmin\":0,\"fXmax\":100,\"fXbins\":[],\"fFirst\":0,\"fLast\":0,\"fBits2\":0,\"fTimeDisplay\":false,\"fTimeFormat\":\"\",\"fLabels\":null,\"fModLabs\":null},\"fYaxis\":{\"_typename\":\"TAxis\",\"fUniqueID\":0,\"fBits\":50331656,\"fName\":\"yaxis\",\"fTitle\":\"efficiency\",\"fNdivisions\":510,\"fAxisColor\":1,\"fLabelColor\":1,\"fLabelFont\":42,\"fLabelOffset\":0.005,\"fLabelSize\":0.035,\"fTickLength\":0.03,\"fTitleOffset\":0,\"fTitleSize\":0.035,\"fTitleColor\":1,\"fTitleFont\":42,\"fNbins\":1,\"fXmin\":0,\"fXmax\":1.09747932731107,\"fXbins\":[],\"fFirst\":0,\"fLast\":0,\"fBits2\":0,\"fTimeDisplay\":false,\"fTimeFormat\":\"\",\"fLabels\":null,\"fModLabs\":null},\"fZaxis\":{\"_typename\":\"TAxis\",\"fUniqueID\":0,\"fBits\":50331648,\"fName\":\"zaxis\",\"fTitle\":\"\",\"fNdivisions\":510,\"fAxisColor\":1,\"fLabelColor\":1,\"fLabelFont\":42,\"fLabelOffset\":0.005,\"fLabelSize\":0.035,\"fTickLength\":0.03,\"fTitleOffset\":1,\"fTitleSize\":0.035,\"fTitleColor\":1,\"fTitleFont\":42,\"fNbins\":1,\"fXmin\":0,\"fXmax\":1,\"fXbins\":[],\"fFirst\":0,\"fLast\":0,\"fBits2\":0,\"fTimeDisplay\":false,\"fTimeFormat\":\"\",\"fLabels\":null,\"fModLabs\":null},\"fBarOffset\":0,\"fBarWidth\":1000,\"fEntries\":0,\"fTsumw\":0,\"fTsumw2\":0,\"fTsumwx\":0,\"fTsumwx2\":0,\"fMaximum\":1.02,\"fMinimum\":0.8,\"fNormFactor\":0,\"fContour\":[],\"fSumw2\":[],\"fOption\":\"\",\"fFunctions\":{\"_typename\":\"TList\",\"name\":\"TList\",\"arr\":[],\"opt\":[]},\"fBufferSize\":0,\"fBuffer\":[],\"fBinStatErrOpt\":0,\"fStatOverflows\":2,\"fArray\":[0,0,0,0,0,0,0,0,0,0,0,0,0,0,0,0,0,0,0,0,0,0,0,0,0,0,0,0,0,0,0,0,0,0,0,0,0,0,0,0,0,0,0,0,0,0,0,0,0,0,0,0,0,0,0,0,0,0,0,0,0,0,0,0,0,0,0,0,0,0,0,0,0,0,0,0,0,0,0,0,0,0,0,0,0,0,0,0,0,0,0,0,0,0,0,0,0,0,0,0,0,0]},\"fMinimum\":-1111,\"fMaximum\":-1111,\"fEXlow\":[2,2,2,2,2,2,2,2,2,2,2,2,2,2,2,2,2,2,2,2,2,2,2,2,2],\"fEXhigh\":[2,2,2,2,2,2,2,2,2,2,2,2,2,2,2,2,2,2,2,2,2,2,2,2,2],\"fEYlow\":[0,0,0,0,0.0012210716916023,0.0111175115478789,0.00725956753121371,0.00464389575075685,0.00326426306886873,0.00320759635942147,0.0029076921457919,0.00284072644184441,0.00300694148550007,0.00250692917180373,0.00246475844624883,0.00246208859697328,0.00269737635021794,0.00262281249952478,0.002382264112326,0.0020356849557448,0.00255647426759087,0.00217289493102046,0.00233339623487561,0.00262917800393836,0.00194906910938897],\"fEYhigh\":[0.00192591439828387,9.54430986065682e-4,9.27503898987273e-4,9.74126418975377e-4,0.00183512635531987,0.0112737479124335,0.00683410908405246,0.00413230361433392,0.00270370546904275,0.00267468142502325,0.00237917933940324,0.00226583674688374,0.00244986074260822,0.00195783190048504,0.00187257749644121,0.0019069229442068,0.00212292624839916,0.00207828400531607,0.00180972726583795,0.00143167083230611,0.0019622827558875,0.00155985852220974,0.00172993184919035,0.00203674445284252,0.00133730259816411]},{\"_typename\":\"TGraphAsymmErrors\",\"fUniqueID\":0,\"fBits\":50332680,\"fName\":\"5892ce\",\"fTitle\":\"; p_{T}^{GEN} [GeV];\",\"fLineColor\":628,\"fLineStyle\":1,\"fLineWidth\":1,\"fFillColor\":0,\"fFillStyle\":1001,\"fMarkerColor\":628,\"fMarkerStyle\":21,\"fMarkerSize\":0.5,\"fNpoints\":25,\"fX\":[2,6,10,14,18,22,26,30,34,38,42,46,50,54,58,62,66,70,74,78,82,86,90,94,98],\"fY\":[0,0,0,0,0.00308008213552361,0.348326359832636,0.890825217837007,0.958656330749354,0.978958442924776,0.982429718875502,0.98379970544919,0.984218832193582,0.981921487603306,0.987109568666336,0.986821296784396,0.989021956087824,0.988008342022941,0.986117997025285,0.989302088639837,0.990683229813665,0.987234042553191,0.988859416445623,0.981432360742706,0.984008528784648,0.988076723691032],\"fFunctions\":{\"_typename\":\"TList\",\"name\":\"TList\",\"arr\":[],\"opt\":[]},\"fHistogram\":{\"_typename\":\"TH1F\",\"fUniqueID\":0,\"fBits\":50332160,\"fName\":\"5892ce\",\"fTitle\":\"\",\"fLineColor\":602,\"fLineStyle\":1,\"fLineWidth\":1,\"fFillColor\":0,\"fFillStyle\":1001,\"fMarkerColor\":1,\"fMarkerStyle\":1,\"fMarkerSize\":1,\"fNcells\":102,\"fXaxis\":{\"_typename\":\"TAxis\",\"fUniqueID\":0,\"fBits\":50331656,\"fName\":\"xaxis\",\"fTitle\":\" p_{T}^{GEN} [GeV]\",\"fNdivisions\":510,\"fAxisColor\":1,\"fLabelColor\":1,\"fLabelFont\":42,\"fLabelOffset\":0.005,\"fLabelSize\":0.035,\"fTickLength\":0.03,\"fTitleOffset\":1.4,\"fTitleSize\":0.035,\"fTitleColor\":1,\"fTitleFont\":42,\"fNbins\":100,\"fXmin\":0,\"fXmax\":100,\"fXbins\":[],\"fFirst\":0,\"fLast\":0,\"fBits2\":0,\"fTimeDisplay\":false,\"fTimeFormat\":\"\",\"fLabels\":null,\"fModLabs\":null},\"fYaxis\":{\"_typename\":\"TAxis\",\"fUniqueID\":0,\"fBits\":50331656,\"fName\":\"yaxis\",\"fTitle\":\"efficiency\",\"fNdivisions\":510,\"fAxisColor\":1,\"fLabelColor\":1,\"fLabelFont\":42,\"fLabelOffset\":0.005,\"fLabelSize\":0.035,\"fTickLength\":0.03,\"fTitleOffset\":0,\"fTitleSize\":0.035,\"fTitleColor\":1,\"fTitleFont\":42,\"fNbins\":1,\"fXmin\":0,\"fXmax\":1.09213796853915,\"fXbins\":[],\"fFirst\":0,\"fLast\":0,\"fBits2\":0,\"fTimeDisplay\":false,\"fTimeFormat\":\"\",\"fLabels\":null,\"fModLabs\":null},\"fZaxis\":{\"_typename\":\"TAxis\",\"fUniqueID\":0,\"fBits\":50331648,\"fName\":\"zaxis\",\"fTitle\":\"\",\"fNdivisions\":510,\"fAxisColor\":1,\"fLabelColor\":1,\"fLabelFont\":42,\"fLabelOffset\":0.005,\"fLabelSize\":0.035,\"fTickLength\":0.03,\"fTitleOffset\":1,\"fTitleSize\":0.035,\"fTitleColor\":1,\"fTitleFont\":42,\"fNbins\":1,\"fXmin\":0,\"fXmax\":1,\"fXbins\":[],\"fFirst\":0,\"fLast\":0,\"fBits2\":0,\"fTimeDisplay\":false,\"fTimeFormat\":\"\",\"fLabels\":null,\"fModLabs\":null},\"fBarOffset\":0,\"fBarWidth\":1000,\"fEntries\":0,\"fTsumw\":0,\"fTsumw2\":0,\"fTsumwx\":0,\"fTsumwx2\":0,\"fMaximum\":1.02,\"fMinimum\":0.8,\"fNormFactor\":0,\"fContour\":[],\"fSumw2\":[],\"fOption\":\"\",\"fFunctions\":{\"_typename\":\"TList\",\"name\":\"TList\",\"arr\":[],\"opt\":[]},\"fBufferSize\":0,\"fBuffer\":[],\"fBinStatErrOpt\":0,\"fStatOverflows\":2,\"fArray\":[0,0,0,0,0,0,0,0,0,0,0,0,0,0,0,0,0,0,0,0,0,0,0,0,0,0,0,0,0,0,0,0,0,0,0,0,0,0,0,0,0,0,0,0,0,0,0,0,0,0,0,0,0,0,0,0,0,0,0,0,0,0,0,0,0,0,0,0,0,0,0,0,0,0,0,0,0,0,0,0,0,0,0,0,0,0,0,0,0,0,0,0,0,0,0,0,0,0,0,0,0,0]},\"fMinimum\":-1111,\"fMaximum\":-1111,\"fEXlow\":[2,2,2,2,2,2,2,2,2,2,2,2,2,2,2,2,2,2,2,2,2,2,2,2,2],\"fEXhigh\":[2,2,2,2,2,2,2,2,2,2,2,2,2,2,2,2,2,2,2,2,2,2,2,2,2],\"fEYlow\":[0,0,0,0,0.0012210716916023,0.011073436326734,0.00752415182641908,0.00503752219392717,0.00383219725955908,0.00346322565436885,0.00330679235908993,0.00340613487288621,0.00356229776111305,0.00303177101632324,0.0031717556103632,0.00285499070357542,0.00303494630801637,0.00312355873377235,0.00286130036676102,0.00273750333744693,0.00314855898980093,0.00297885372245144,0.00365758696187457,0.00345107728373273,0.00301777062000075],\"fEYhigh\":[0.00192591439828387,9.54430986065682e-4,9.27503898987273e-4,9.74126418975377e-4,0.00183512635531987,0.0112358468532262,0.00710908513047814,0.00453650375674475,0.00328812152433566,0.00293762791017482,0.00279015940678284,0.00284989852980244,0.00302206077241318,0.00250115216900981,0.00260690480906367,0.00231468453255002,0.002472764754893,0.00259573010578584,0.00230814672266766,0.00216946885828961,0.00257705312213952,0.00240332758389028,0.00310329096646611,0.00288767079071828,0.00245871725968805]},{\"_typename\":\"TLegend\",\"fUniqueID\":0,\"fBits\":50331656,\"fLineColor\":1,\"fLineStyle\":1,\"fLineWidth\":1,\"fFillColor\":0,\"fFillStyle\":0,\"fX1\":63.5135133393582,\"fY1\":0.905714286502195,\"fX2\":98.6486480216896,\"fY2\":0.934285715142738,\"fX1NDC\":0.6,\"fY1NDC\":0.5,\"fX2NDC\":0.86,\"fY2NDC\":0.6,\"fBorderSize\":0,\"fInit\":1,\"fShadowColor\":1,\"fCornerRadius\":0,\"fOption\":\"brNDC\",\"fName\":\"TPave\",\"fTextAngle\":0,\"fTextSize\":0.03,\"fTextAlign\":12,\"fTextColor\":1,\"fTextFont\":42,\"fPrimitives\":{\"_typename\":\"TList\",\"name\":\"TList\",\"arr\":[{\"_typename\":\"TLegendEntry\",\"fUniqueID\":0,\"fBits\":50331656,\"fTextAngle\":0,\"fTextSize\":0,\"fTextAlign\":0,\"fTextColor\":0,\"fTextFont\":42,\"fLineColor\":1,\"fLineStyle\":1,\"fLineWidth\":1,\"fFillColor\":0,\"fFillStyle\":0,\"fMarkerColor\":1,\"fMarkerStyle\":8,\"fMarkerSize\":0.5,\"fObject\":{\"$ref\":3},\"fLabel\":\"w\\/o EG ID\",\"fOption\":\"P\"},{\"_typename\":\"TLegendEntry\",\"fUniqueID\":0,\"fBits\":50331656,\"fTextAngle\":0,\"fTextSize\":0,\"fTextAlign\":0,\"fTextColor\":0,\"fTextFont\":42,\"fLineColor\":1,\"fLineStyle\":1,\"fLineWidth\":1,\"fFillColor\":0,\"fFillStyle\":0,\"fMarkerColor\":628,\"fMarkerStyle\":21,\"fMarkerSize\":0.5,\"fObject\":{\"$ref\":10},\"fLabel\":\"w EG ID\",\"fOption\":\"P\"}],\"opt\":[\"P\",\"P\"]},\"fEntrySeparation\":0.1,\"fMargin\":0.25,\"fNColumns\":1,\"fColumnSeparation\":0},{\"_typename\":\"TLatex\",\"fUniqueID\":0,\"fBits\":50348040,\"fName\":\"\",\"fTitle\":\"EG barrel, |#eta^{GEN}| #leq 1.47, p_{T}^{L1} #geq 25GeV\",\"fTextAngle\":0,\"fTextSize\":0.03,\"fTextAlign\":11,\"fTextColor\":1,\"fTextFont\":62,\"fX\":0.15,\"fY\":0.85,\"fLineColor\":1,\"fLineStyle\":1,\"fLineWidth\":2,\"fLimitFactorSize\":3,\"fOriginSize\":0.0299999993294477},{\"_typename\":\"TLatex\",\"fUniqueID\":0,\"fBits\":50348041,\"fName\":\"\",\"fTitle\":\"#scale[1.5]{CMS} #scale[1.]{Phase-2 Simulation}\",\"fTextAngle\":0,\"fTextSize\":0.03,\"fTextAlign\":11,\"fTextColor\":1,\"fTextFont\":62,\"fX\":0.13,\"fY\":0.91,\"fLineColor\":1,\"fLineStyle\":1,\"fLineWidth\":2,\"fLimitFactorSize\":3,\"fOriginSize\":0.0299999993294477},{\"_typename\":\"TLatex\",\"fUniqueID\":0,\"fBits\":50348041,\"fName\":\"\",\"fTitle\":\"14TeV, 200 PU\",\"fTextAngle\":0,\"fTextSize\":0.03,\"fTextAlign\":11,\"fTextColor\":1,\"fTextFont\":62,\"fX\":0.69,\"fY\":0.91,\"fLineColor\":1,\"fLineStyle\":1,\"fLineWidth\":2,\"fLimitFactorSize\":3,\"fOriginSize\":0.0299999993294477},{\"_typename\":\"TLatex\",\"fUniqueID\":0,\"fBits\":50331656,\"fName\":\"\",\"fTitle\":\"\",\"fTextAngle\":0,\"fTextSize\":0.03,\"fTextAlign\":11,\"fTextColor\":1,\"fTextFont\":62,\"fX\":0,\"fY\":0,\"fLineColor\":1,\"fLineStyle\":1,\"fLineWidth\":2,\"fLimitFactorSize\":3,\"fOriginSize\":0.04},{\"_typename\":\"TLine\",\"fUniqueID\":0,\"fBits\":50331656,\"fLineColor\":1,\"fLineStyle\":2,\"fLineWidth\":1,\"fX1\":0,\"fY1\":0.95,\"fX2\":100,\"fY2\":0.95},{\"_typename\":\"TLine\",\"fUniqueID\":0,\"fBits\":50331656,\"fLineColor\":1,\"fLineStyle\":2,\"fLineWidth\":1,\"fX1\":0,\"fY1\":1,\"fX2\":100,\"fY2\":1}],\"opt\":[\"\",\"pa\",\",p\",\"same\",\"same\",\"\",\"\",\"same\",\"same\",\"same\"]},\"fExecs\":null,\"fName\":\"c_ded2b2\",\"fTitle\":\"c_ded2b2\",\"fNumPaletteColor\":0,\"fNextPaletteColor\":0,\"fDISPLAY\":\"$DISPLAY\",\"fDoubleBuffer\":0,\"fRetained\":true,\"fXsizeUser\":0,\"fYsizeUser\":0,\"fXsizeReal\":20,\"fYsizeReal\":20,\"fWindowTopX\":0,\"fWindowTopY\":0,\"fWindowWidth\":0,\"fWindowHeight\":0,\"fCw\":596,\"fCh\":572,\"fCatt\":{\"_typename\":\"TAttCanvas\",\"fXBetween\":2,\"fYBetween\":2,\"fTitleFromTop\":1.2,\"fXdate\":0.2,\"fYdate\":0.3,\"fAdate\":1},\"kMoveOpaque\":true,\"kResizeOpaque\":true,\"fHighLightColor\":2,\"fBatch\":true,\"kShowEventStatus\":false,\"kAutoExec\":true,\"kMenuBar\":true});\n",
       "       Core.draw(\"root_plot_24\", obj, \"\");\n",
       "     }\n",
       " );\n",
       "</script>\n"
      ],
      "text/plain": [
       "<IPython.core.display.HTML object>"
      ]
     },
     "metadata": {},
     "output_type": "display_data"
    }
   ],
   "source": [
    "hsets, labels, text = hplot.get_histo(histos.HistoSetEff, sample, ['PU200'], ['EGBRL'], ['Pt25', 'Pt25LooseTkID'], ['GENEtaF', 'all'])\n",
    "for hset in hsets:\n",
    "    hset.computeEff(rebin=2)\n",
    "\n",
    "labels=['w/o EG ID', 'w EG ID']\n",
    "legend_position = (0.6, 0.5, 0.86, 0.6)\n",
    "text_forprint='EG barrel, |#eta^{GEN}| #leq 1.47, p_{T}^{L1} #geq 25GeV'\n",
    "draw([his.h_eff.h_pt.CreateGraph() for his in hsets], labels, text=text_forprint, \n",
    "     min_y=0.8, max_y=1.02, min_x=0.0, max_x=100, \n",
    "     y_axis_label='efficiency', h_lines=[0.95, 1],\n",
    "     legend_position=legend_position,\n",
    "     do_write=True, write_name='figs/EgammaBarrelOnlyCaloEff')\n"
   ]
  },
  {
   "cell_type": "code",
   "execution_count": 48,
   "metadata": {},
   "outputs": [
    {
     "data": {
      "text/plain": [
       "<drawingTools.DrawMachine at 0x11a3a6c90>"
      ]
     },
     "execution_count": 48,
     "metadata": {},
     "output_type": "execute_result"
    },
    {
     "name": "stdout",
     "output_type": "stream",
     "text": [
      "ERROR in TPDF::Open: Cannot open file:figs/egammaBarrel_TkEle_LooseTkIDPt25_GENEtaF_hEffvPt.pdf\n"
     ]
    },
    {
     "data": {
      "text/html": [
       "\n",
       "<div id=\"root_plot_25\"\n",
       "     style=\"width: 596px; height: 572px\">\n",
       "</div>\n",
       "\n",
       "<script>\n",
       " requirejs.config({\n",
       "     paths: {\n",
       "       'JSRootCore' : 'https://root.cern.ch/js/notebook//scripts/JSRootCore',\n",
       "     }\n",
       "   });\n",
       " require(['JSRootCore'],\n",
       "     function(Core) {\n",
       "       var obj = Core.JSONR_unref({\"_typename\":\"TCanvas\",\"fUniqueID\":0,\"fBits\":53673992,\"fLineColor\":1,\"fLineStyle\":1,\"fLineWidth\":1,\"fFillColor\":0,\"fFillStyle\":1001,\"fLeftMargin\":0.13,\"fRightMargin\":0.13,\"fBottomMargin\":0.13,\"fTopMargin\":0.1,\"fXfile\":2,\"fYfile\":2,\"fAfile\":1,\"fXstat\":0.99,\"fYstat\":0.99,\"fAstat\":2,\"fFrameFillColor\":0,\"fFrameLineColor\":1,\"fFrameFillStyle\":1001,\"fFrameLineStyle\":1,\"fFrameLineWidth\":1,\"fFrameBorderSize\":1,\"fFrameBorderMode\":0,\"fX1\":-19.2891882330767,\"fY1\":-0.185714283502611,\"fX2\":129.089188233077,\"fY2\":1.24285714852456,\"fXtoAbsPixelk\":77.4800471580505,\"fXtoPixelk\":77.4800471580505,\"fXtoPixel\":4.01675779311383,\"fYtoAbsPixelk\":497.640051065433,\"fYtoPixelk\":497.640051065433,\"fYtoPixel\":-400.399999031424,\"fUtoAbsPixelk\":5e-5,\"fUtoPixelk\":5e-5,\"fUtoPixel\":596,\"fVtoAbsPixelk\":572.00005,\"fVtoPixelk\":572,\"fVtoPixel\":-572,\"fAbsPixeltoXk\":-19.2891882330767,\"fPixeltoXk\":-19.2891882330767,\"fPixeltoX\":0.248957007493546,\"fAbsPixeltoYk\":1.24285714852456,\"fPixeltoYk\":-0.185714283502611,\"fPixeltoY\":-0.00249750250354401,\"fXlowNDC\":0,\"fYlowNDC\":0,\"fXUpNDC\":0,\"fYUpNDC\":0,\"fWNDC\":1,\"fHNDC\":1,\"fAbsXlowNDC\":0,\"fAbsYlowNDC\":0,\"fAbsWNDC\":1,\"fAbsHNDC\":1,\"fUxmin\":0,\"fUymin\":0,\"fUxmax\":109.8,\"fUymax\":1.1,\"fTheta\":30,\"fPhi\":30,\"fAspectRatio\":0,\"fNumber\":0,\"fTickx\":0,\"fTicky\":0,\"fLogx\":0,\"fLogy\":0,\"fLogz\":0,\"fPadPaint\":0,\"fCrosshair\":0,\"fCrosshairPos\":0,\"fBorderSize\":2,\"fBorderMode\":0,\"fModified\":false,\"fGridx\":false,\"fGridy\":false,\"fAbsCoord\":false,\"fEditable\":true,\"fFixedAspectRatio\":false,\"fPrimitives\":{\"_typename\":\"TList\",\"name\":\"TList\",\"arr\":[{\"_typename\":\"TFrame\",\"fUniqueID\":0,\"fBits\":50331656,\"fLineColor\":1,\"fLineStyle\":1,\"fLineWidth\":1,\"fFillColor\":0,\"fFillStyle\":1001,\"fX1\":0,\"fY1\":0,\"fX2\":109.8,\"fY2\":1.1,\"fBorderSize\":1,\"fBorderMode\":0},{\"_typename\":\"TGraphAsymmErrors\",\"fUniqueID\":0,\"fBits\":50332680,\"fName\":\"574b53\",\"fTitle\":\"; p_{T}^{GEN} [GeV];\",\"fLineColor\":1,\"fLineStyle\":1,\"fLineWidth\":1,\"fFillColor\":0,\"fFillStyle\":1001,\"fMarkerColor\":1,\"fMarkerStyle\":8,\"fMarkerSize\":0.5,\"fNpoints\":49,\"fX\":[3,5,7,9,11,13,15,17,19,21,23,25,27,29,31,33,35,37,39,41,43,45,47,49,51,53,55,57,59,61,63,65,67,69,71,73,75,77,79,81,83,85,87,89,91,93,95,97,99],\"fY\":[0,0,0,0,0,0,0,0,0.00598802395209581,0.113188976377953,0.614955357142857,0.863404689092762,0.918556701030928,0.955806783144913,0.961538461538462,0.982869379014989,0.975180972078594,0.976608187134503,0.988612836438923,0.980808080808081,0.986628462273161,0.982581967213115,0.985945945945946,0.980923694779116,0.982978723404255,0.986895161290323,0.987317073170732,0.985122210414453,0.988493723849372,0.987115956392468,0.990954773869347,0.983589743589744,0.992576882290562,0.987128712871287,0.985104270109235,0.987654320987654,0.990918264379415,0.993795243019648,0.987564766839378,0.991516436903499,0.982924226254002,0.989035087719298,0.988694758478931,0.987193169690502,0.975738396624473,0.986639260020555,0.981173864894795,0.983193277310924,0.992835209825998],\"fFunctions\":{\"_typename\":\"TList\",\"name\":\"TList\",\"arr\":[],\"opt\":[]},\"fHistogram\":{\"_typename\":\"TH1F\",\"fUniqueID\":0,\"fBits\":50332160,\"fName\":\"574b53\",\"fTitle\":\"\",\"fLineColor\":602,\"fLineStyle\":1,\"fLineWidth\":1,\"fFillColor\":0,\"fFillStyle\":1001,\"fMarkerColor\":1,\"fMarkerStyle\":1,\"fMarkerSize\":1,\"fNcells\":102,\"fXaxis\":{\"_typename\":\"TAxis\",\"fUniqueID\":0,\"fBits\":50331656,\"fName\":\"xaxis\",\"fTitle\":\" p_{T}^{GEN} [GeV]\",\"fNdivisions\":510,\"fAxisColor\":1,\"fLabelColor\":1,\"fLabelFont\":42,\"fLabelOffset\":0.005,\"fLabelSize\":0.035,\"fTickLength\":0.03,\"fTitleOffset\":1.4,\"fTitleSize\":0.035,\"fTitleColor\":1,\"fTitleFont\":42,\"fNbins\":100,\"fXmin\":0,\"fXmax\":109.8,\"fXbins\":[],\"fFirst\":0,\"fLast\":0,\"fBits2\":0,\"fTimeDisplay\":false,\"fTimeFormat\":\"\",\"fLabels\":null,\"fModLabs\":null},\"fYaxis\":{\"_typename\":\"TAxis\",\"fUniqueID\":0,\"fBits\":50331656,\"fName\":\"yaxis\",\"fTitle\":\"efficiency\",\"fNdivisions\":510,\"fAxisColor\":1,\"fLabelColor\":1,\"fLabelFont\":42,\"fLabelOffset\":0.005,\"fLabelSize\":0.035,\"fTickLength\":0.03,\"fTitleOffset\":0,\"fTitleSize\":0.035,\"fTitleColor\":1,\"fTitleFont\":42,\"fNbins\":1,\"fXmin\":0,\"fXmax\":1.09587908628848,\"fXbins\":[],\"fFirst\":0,\"fLast\":0,\"fBits2\":0,\"fTimeDisplay\":false,\"fTimeFormat\":\"\",\"fLabels\":null,\"fModLabs\":null},\"fZaxis\":{\"_typename\":\"TAxis\",\"fUniqueID\":0,\"fBits\":50331648,\"fName\":\"zaxis\",\"fTitle\":\"\",\"fNdivisions\":510,\"fAxisColor\":1,\"fLabelColor\":1,\"fLabelFont\":42,\"fLabelOffset\":0.005,\"fLabelSize\":0.035,\"fTickLength\":0.03,\"fTitleOffset\":1,\"fTitleSize\":0.035,\"fTitleColor\":1,\"fTitleFont\":42,\"fNbins\":1,\"fXmin\":0,\"fXmax\":1,\"fXbins\":[],\"fFirst\":0,\"fLast\":0,\"fBits2\":0,\"fTimeDisplay\":false,\"fTimeFormat\":\"\",\"fLabels\":null,\"fModLabs\":null},\"fBarOffset\":0,\"fBarWidth\":1000,\"fEntries\":0,\"fTsumw\":0,\"fTsumw2\":0,\"fTsumwx\":0,\"fTsumwx2\":0,\"fMaximum\":1.1,\"fMinimum\":0,\"fNormFactor\":0,\"fContour\":[],\"fSumw2\":[],\"fOption\":\"\",\"fFunctions\":{\"_typename\":\"TList\",\"name\":\"TList\",\"arr\":[],\"opt\":[]},\"fBufferSize\":0,\"fBuffer\":[],\"fBinStatErrOpt\":0,\"fStatOverflows\":2,\"fArray\":[0,0,0,0,0,0,0,0,0,0,0,0,0,0,0,0,0,0,0,0,0,0,0,0,0,0,0,0,0,0,0,0,0,0,0,0,0,0,0,0,0,0,0,0,0,0,0,0,0,0,0,0,0,0,0,0,0,0,0,0,0,0,0,0,0,0,0,0,0,0,0,0,0,0,0,0,0,0,0,0,0,0,0,0,0,0,0,0,0,0,0,0,0,0,0,0,0,0,0,0,0,0]},\"fMinimum\":-1111,\"fMaximum\":-1111,\"fEXlow\":[1,1,1,1,1,1,1,1,1,1,1,1,1,1,1,1,1,1,1,1,1,1,1,1,1,1,1,1,1,1,1,1,1,1,1,1,1,1,1,1,1,1,1,1,1,1,1,1,1],\"fEXhigh\":[1,1,1,1,1,1,1,1,1,1,1,1,1,1,1,1,1,1,1,1,1,1,1,1,1,1,1,1,1,1,1,1,1,1,1,1,1,1,1,1,1,1,1,1,1,1,1,1,1],\"fEYlow\":[0,0,0,0,0,0,0,0,0.00237268749339594,0.0100318792584376,0.016937645035302,0.0118597039347041,0.00975602531287523,0.00761449132345238,0.00724820314509156,0.00538071220150993,0.00607461380450869,0.00573051139715564,0.00453545219705154,0.00542218062404387,0.00457200040969741,0.00527090873482616,0.00502981096096344,0.00538992453918563,0.00534675830012488,0.00469316346085868,0.00454338590023584,0.00508180368859201,0.00458250785696968,0.00461479276770549,0.00410362992995417,0.0051569300787101,0.00397534009305411,0.00461026415054466,0.00487539106013979,0.00465116722987502,0.00412008311677536,0.00368757273200959,0.00468461365125694,0.00415710002400316,0.00536368152487077,0.00464204950992608,0.0045030840896656,0.00482335158911695,0.00609244779381179,0.004783964886516,0.00569169580600393,0.00528011983830201,0.00383776384932644],\"fEYhigh\":[0.00192591439828387,0.00188838072126811,0.00192793122919638,0.00187683006296159,0.00183200672073017,0.0020122196424826,0.0018864457485102,0.00194421922799597,0.00355938439649433,0.0108305728438283,0.0166724224800159,0.0110848349954452,0.00884288011171963,0.00660501935759605,0.00620874677651073,0.0042169362018768,0.00499074806033117,0.00470593404803643,0.00337108889036319,0.00433882798010832,0.00351783098283531,0.00416153953398224,0.00383301458973628,0.00431284132913823,0.00419015062774142,0.00357502929533537,0.00346031678862613,0.00391249664474336,0.00340625125560823,0.00351500111627068,0.0029522876686886,0.00404044075379595,0.00273356828433413,0.00351153276094196,0.00378709460693349,0.00350262603554374,0.00296417981278918,0.00245847178806469,0.00352795278951212,0.00293050373987402,0.00420350074674014,0.00339988523597545,0.0033469040705264,0.00363303144619731,0.00498337593517495,0.00364459304342257,0.00449611588922394,0.00413758745742177,0.00263857169784887]},{\"_typename\":\"TGraphAsymmErrors\",\"fUniqueID\":0,\"fBits\":50332680,\"fName\":\"577cc8\",\"fTitle\":\"; p_{T}^{GEN} [GeV];\",\"fLineColor\":628,\"fLineStyle\":1,\"fLineWidth\":1,\"fFillColor\":0,\"fFillStyle\":1001,\"fMarkerColor\":628,\"fMarkerStyle\":21,\"fMarkerSize\":0.5,\"fNpoints\":49,\"fX\":[3,5,7,9,11,13,15,17,19,21,23,25,27,29,31,33,35,37,39,41,43,45,47,49,51,53,55,57,59,61,63,65,67,69,71,73,75,77,79,81,83,85,87,89,91,93,95,97,99],\"fY\":[0,0,0,0,0,0,0,0,0.00499001996007984,0.0984251968503937,0.558035714285714,0.741080530071356,0.791752577319588,0.817060637204522,0.832640332640333,0.850107066381156,0.832471561530507,0.846003898635478,0.89648033126294,0.886868686868687,0.878701050620821,0.864754098360656,0.874594594594595,0.8785140562249,0.89468085106383,0.893145161290323,0.879024390243902,0.889479277364506,0.902719665271967,0.921704658077304,0.916582914572864,0.901538461538462,0.904559915164369,0.908910891089109,0.915590863952334,0.8940329218107,0.917255297679112,0.915201654601861,0.919170984455959,0.926829268292683,0.906083244397012,0.926535087719298,0.929085303186023,0.932764140875133,0.917721518987342,0.932168550873587,0.91140642303433,0.920168067226891,0.932446264073695],\"fFunctions\":{\"_typename\":\"TList\",\"name\":\"TList\",\"arr\":[],\"opt\":[]},\"fHistogram\":{\"_typename\":\"TH1F\",\"fUniqueID\":0,\"fBits\":50332160,\"fName\":\"577cc8\",\"fTitle\":\"\",\"fLineColor\":602,\"fLineStyle\":1,\"fLineWidth\":1,\"fFillColor\":0,\"fFillStyle\":1001,\"fMarkerColor\":1,\"fMarkerStyle\":1,\"fMarkerSize\":1,\"fNcells\":102,\"fXaxis\":{\"_typename\":\"TAxis\",\"fUniqueID\":0,\"fBits\":50331656,\"fName\":\"xaxis\",\"fTitle\":\" p_{T}^{GEN} [GeV]\",\"fNdivisions\":510,\"fAxisColor\":1,\"fLabelColor\":1,\"fLabelFont\":42,\"fLabelOffset\":0.005,\"fLabelSize\":0.035,\"fTickLength\":0.03,\"fTitleOffset\":1.4,\"fTitleSize\":0.035,\"fTitleColor\":1,\"fTitleFont\":42,\"fNbins\":100,\"fXmin\":0,\"fXmax\":109.8,\"fXbins\":[],\"fFirst\":0,\"fLast\":0,\"fBits2\":0,\"fTimeDisplay\":false,\"fTimeFormat\":\"\",\"fLabels\":null,\"fModLabs\":null},\"fYaxis\":{\"_typename\":\"TAxis\",\"fUniqueID\":0,\"fBits\":50331656,\"fName\":\"yaxis\",\"fTitle\":\"efficiency\",\"fNdivisions\":510,\"fAxisColor\":1,\"fLabelColor\":1,\"fLabelFont\":42,\"fLabelOffset\":0.005,\"fLabelSize\":0.035,\"fTickLength\":0.03,\"fTitleOffset\":0,\"fTitleSize\":0.035,\"fTitleColor\":1,\"fTitleFont\":42,\"fNbins\":1,\"fXmin\":0,\"fXmax\":1.03509002515367,\"fXbins\":[],\"fFirst\":0,\"fLast\":0,\"fBits2\":0,\"fTimeDisplay\":false,\"fTimeFormat\":\"\",\"fLabels\":null,\"fModLabs\":null},\"fZaxis\":{\"_typename\":\"TAxis\",\"fUniqueID\":0,\"fBits\":50331648,\"fName\":\"zaxis\",\"fTitle\":\"\",\"fNdivisions\":510,\"fAxisColor\":1,\"fLabelColor\":1,\"fLabelFont\":42,\"fLabelOffset\":0.005,\"fLabelSize\":0.035,\"fTickLength\":0.03,\"fTitleOffset\":1,\"fTitleSize\":0.035,\"fTitleColor\":1,\"fTitleFont\":42,\"fNbins\":1,\"fXmin\":0,\"fXmax\":1,\"fXbins\":[],\"fFirst\":0,\"fLast\":0,\"fBits2\":0,\"fTimeDisplay\":false,\"fTimeFormat\":\"\",\"fLabels\":null,\"fModLabs\":null},\"fBarOffset\":0,\"fBarWidth\":1000,\"fEntries\":0,\"fTsumw\":0,\"fTsumw2\":0,\"fTsumwx\":0,\"fTsumwx2\":0,\"fMaximum\":1.1,\"fMinimum\":0,\"fNormFactor\":0,\"fContour\":[],\"fSumw2\":[],\"fOption\":\"\",\"fFunctions\":{\"_typename\":\"TList\",\"name\":\"TList\",\"arr\":[],\"opt\":[]},\"fBufferSize\":0,\"fBuffer\":[],\"fBinStatErrOpt\":0,\"fStatOverflows\":2,\"fArray\":[0,0,0,0,0,0,0,0,0,0,0,0,0,0,0,0,0,0,0,0,0,0,0,0,0,0,0,0,0,0,0,0,0,0,0,0,0,0,0,0,0,0,0,0,0,0,0,0,0,0,0,0,0,0,0,0,0,0,0,0,0,0,0,0,0,0,0,0,0,0,0,0,0,0,0,0,0,0,0,0,0,0,0,0,0,0,0,0,0,0,0,0,0,0,0,0,0,0,0,0,0,0]},\"fMinimum\":-1111,\"fMaximum\":-1111,\"fEXlow\":[1,1,1,1,1,1,1,1,1,1,1,1,1,1,1,1,1,1,1,1,1,1,1,1,1,1,1,1,1,1,1,1,1,1,1,1,1,1,1,1,1,1,1,1,1,1,1,1,1],\"fEXhigh\":[1,1,1,1,1,1,1,1,1,1,1,1,1,1,1,1,1,1,1,1,1,1,1,1,1,1,1,1,1,1,1,1,1,1,1,1,1,1,1,1,1,1,1,1,1,1,1,1,1],\"fEYlow\":[0,0,0,0,0,0,0,0,0.00215373679242055,0.00942234511168936,0.0172060625265414,0.0147435974583356,0.013860618066791,0.0132433454827802,0.012912307415246,0.0126045736307955,0.012881230265772,0.0121048623688079,0.0107510575744859,0.0109817084040726,0.0109448362176231,0.0118480796419516,0.0118529330782804,0.0112507731645274,0.0109858398198089,0.0107288246566922,0.0110597038994619,0.0111870980275895,0.010551861006031,0.00939693116650631,0.00971266670973281,0.0104886526029606,0.0105516337186897,0.00997668923097461,0.00969451403029098,0.0108131144008446,0.00970281576261534,0.00993117948408428,0.00975434970089251,0.00949414234411861,0.0105217162402514,0.00968756100616142,0.00921406957272408,0.00921020669982864,0.0099204869242886,0.00905084137624312,0.0104932356009163,0.0097790842329134,0.00901530856618815],\"fEYhigh\":[0.00192591439828387,0.00188838072126811,0.00192793122919638,0.00187683006296159,0.00183200672073017,0.0020122196424826,0.0018864457485102,0.00194421922799597,0.00336160272936716,0.0102540174371708,0.0170722536069557,0.0142345006345456,0.0132356689466863,0.0125650211963285,0.0121913247200736,0.0118210103173053,0.012164425853517,0.011401622552149,0.00988734134829705,0.0101614161241754,0.0101876069380835,0.0110661163095915,0.0110033215266251,0.0104543018036887,0.0101020101068167,0.00989593510873654,0.0102851566305884,0.0103167900068655,0.00966389406889634,0.00851253917977779,0.00882779776244791,0.0096212121869188,0.00964659322188144,0.00912315637441241,0.00882280088852783,0.00996059667356197,0.0088126672539961,0.00902338775726641,0.00883481988740653,0.00853283155291362,0.00960695168901182,0.00869340502668925,0.00827752062692111,0.00822679108274638,0.00898767475424234,0.00810640688944153,0.00952927140580007,0.00884413504253057,0.00807414211178881]},{\"_typename\":\"TLegend\",\"fUniqueID\":0,\"fBits\":50331656,\"fLineColor\":1,\"fLineStyle\":1,\"fLineWidth\":1,\"fFillColor\":0,\"fFillStyle\":0,\"fX1\":69.7378376466153,\"fY1\":0.528571432510975,\"fX2\":108.316215527815,\"fY2\":0.671428575713692,\"fX1NDC\":0.6,\"fY1NDC\":0.5,\"fX2NDC\":0.86,\"fY2NDC\":0.6,\"fBorderSize\":0,\"fInit\":1,\"fShadowColor\":1,\"fCornerRadius\":0,\"fOption\":\"brNDC\",\"fName\":\"TPave\",\"fTextAngle\":0,\"fTextSize\":0.03,\"fTextAlign\":12,\"fTextColor\":1,\"fTextFont\":42,\"fPrimitives\":{\"_typename\":\"TList\",\"name\":\"TList\",\"arr\":[{\"_typename\":\"TLegendEntry\",\"fUniqueID\":0,\"fBits\":50331656,\"fTextAngle\":0,\"fTextSize\":0,\"fTextAlign\":0,\"fTextColor\":0,\"fTextFont\":42,\"fLineColor\":1,\"fLineStyle\":1,\"fLineWidth\":1,\"fFillColor\":0,\"fFillStyle\":0,\"fMarkerColor\":1,\"fMarkerStyle\":8,\"fMarkerSize\":0.5,\"fObject\":{\"$ref\":3},\"fLabel\":\"calorimeter only\",\"fOption\":\"P\"},{\"_typename\":\"TLegendEntry\",\"fUniqueID\":0,\"fBits\":50331656,\"fTextAngle\":0,\"fTextSize\":0,\"fTextAlign\":0,\"fTextColor\":0,\"fTextFont\":42,\"fLineColor\":1,\"fLineStyle\":1,\"fLineWidth\":1,\"fFillColor\":0,\"fFillStyle\":0,\"fMarkerColor\":628,\"fMarkerStyle\":21,\"fMarkerSize\":0.5,\"fObject\":{\"$ref\":10},\"fLabel\":\"track-matched\",\"fOption\":\"P\"}],\"opt\":[\"P\",\"P\"]},\"fEntrySeparation\":0.1,\"fMargin\":0.25,\"fNColumns\":1,\"fColumnSeparation\":0},{\"_typename\":\"TLatex\",\"fUniqueID\":0,\"fBits\":50348040,\"fName\":\"\",\"fTitle\":\"EG barrel, |#eta^{GEN}| #leq 1.479, p_{T}^{L1} #geq 25GeV\",\"fTextAngle\":0,\"fTextSize\":0.03,\"fTextAlign\":11,\"fTextColor\":1,\"fTextFont\":62,\"fX\":0.15,\"fY\":0.85,\"fLineColor\":1,\"fLineStyle\":1,\"fLineWidth\":2,\"fLimitFactorSize\":3,\"fOriginSize\":0.0299999993294477},{\"_typename\":\"TLatex\",\"fUniqueID\":0,\"fBits\":50348041,\"fName\":\"\",\"fTitle\":\"#scale[1.5]{CMS} #scale[1.]{Phase-2 Simulation}\",\"fTextAngle\":0,\"fTextSize\":0.03,\"fTextAlign\":11,\"fTextColor\":1,\"fTextFont\":62,\"fX\":0.13,\"fY\":0.91,\"fLineColor\":1,\"fLineStyle\":1,\"fLineWidth\":2,\"fLimitFactorSize\":3,\"fOriginSize\":0.0299999993294477},{\"_typename\":\"TLatex\",\"fUniqueID\":0,\"fBits\":50348041,\"fName\":\"\",\"fTitle\":\"14TeV, 200 PU\",\"fTextAngle\":0,\"fTextSize\":0.03,\"fTextAlign\":11,\"fTextColor\":1,\"fTextFont\":62,\"fX\":0.69,\"fY\":0.91,\"fLineColor\":1,\"fLineStyle\":1,\"fLineWidth\":2,\"fLimitFactorSize\":3,\"fOriginSize\":0.0299999993294477},{\"_typename\":\"TLatex\",\"fUniqueID\":0,\"fBits\":50331656,\"fName\":\"\",\"fTitle\":\"\",\"fTextAngle\":0,\"fTextSize\":0.03,\"fTextAlign\":11,\"fTextColor\":1,\"fTextFont\":62,\"fX\":0,\"fY\":0,\"fLineColor\":1,\"fLineStyle\":1,\"fLineWidth\":2,\"fLimitFactorSize\":3,\"fOriginSize\":0.04},{\"_typename\":\"TLine\",\"fUniqueID\":0,\"fBits\":50331656,\"fLineColor\":1,\"fLineStyle\":2,\"fLineWidth\":1,\"fX1\":0,\"fY1\":0.95,\"fX2\":109.8,\"fY2\":0.95},{\"_typename\":\"TLine\",\"fUniqueID\":0,\"fBits\":50331656,\"fLineColor\":1,\"fLineStyle\":2,\"fLineWidth\":1,\"fX1\":0,\"fY1\":1,\"fX2\":109.8,\"fY2\":1}],\"opt\":[\"\",\"pa\",\",p\",\"same\",\"same\",\"\",\"\",\"same\",\"same\",\"same\"]},\"fExecs\":null,\"fName\":\"c_1c3cad\",\"fTitle\":\"c_1c3cad\",\"fNumPaletteColor\":0,\"fNextPaletteColor\":0,\"fDISPLAY\":\"$DISPLAY\",\"fDoubleBuffer\":0,\"fRetained\":true,\"fXsizeUser\":0,\"fYsizeUser\":0,\"fXsizeReal\":20,\"fYsizeReal\":20,\"fWindowTopX\":0,\"fWindowTopY\":0,\"fWindowWidth\":0,\"fWindowHeight\":0,\"fCw\":596,\"fCh\":572,\"fCatt\":{\"_typename\":\"TAttCanvas\",\"fXBetween\":2,\"fYBetween\":2,\"fTitleFromTop\":1.2,\"fXdate\":0.2,\"fYdate\":0.3,\"fAdate\":1},\"kMoveOpaque\":true,\"kResizeOpaque\":true,\"fHighLightColor\":2,\"fBatch\":true,\"kShowEventStatus\":false,\"kAutoExec\":true,\"kMenuBar\":true});\n",
       "       Core.draw(\"root_plot_25\", obj, \"\");\n",
       "     }\n",
       " );\n",
       "</script>\n"
      ],
      "text/plain": [
       "<IPython.core.display.HTML object>"
      ]
     },
     "metadata": {},
     "output_type": "display_data"
    }
   ],
   "source": [
    "hsets, labels, text = hplot.get_histo(histos.HistoSetEff, sample, ['PU200'], ['EGALL', 'TkEleELALL'], 'Pt25LooseTkID', 'GENEtaF')\n",
    "labels=['calorimeter only', 'track-matched']\n",
    "legend_position = (0.6, 0.5, 0.86, 0.6)\n",
    "text_forprint='EG barrel, |#eta^{GEN}| #leq 1.479, p_{T}^{L1} #geq 25GeV'\n",
    "draw([his.h_eff.h_pt.CreateGraph() for his in hsets], labels, text=text_forprint, min_y=0, max_y=1.1, \n",
    "     y_axis_label='efficiency', h_lines=[0.95, 1],\n",
    "     legend_position=legend_position,\n",
    "     do_write=True, write_name='figs/egammaBarrel_TkEle_LooseTkIDPt25_GENEtaF_hEffvPt')\n"
   ]
  },
  {
   "cell_type": "markdown",
   "metadata": {},
   "source": [
    "## Efficiency vs fBrem"
   ]
  },
  {
   "cell_type": "code",
   "execution_count": 49,
   "metadata": {},
   "outputs": [
    {
     "ename": "AttributeError",
     "evalue": "HistoEff instance has no attribute 'h_fBrem'",
     "output_type": "error",
     "traceback": [
      "\u001b[0;31m\u001b[0m",
      "\u001b[0;31mAttributeError\u001b[0mTraceback (most recent call last)",
      "\u001b[0;32m<ipython-input-49-ce13c33cde2b>\u001b[0m in \u001b[0;36m<module>\u001b[0;34m()\u001b[0m\n\u001b[1;32m     37\u001b[0m \u001b[0;34m\u001b[0m\u001b[0m\n\u001b[1;32m     38\u001b[0m     \u001b[0;31m# drawSeveral([his.hreso.h_ptResVpt for his in hsets], labels,  'COLZ', do_profile=True, text=text)\u001b[0m\u001b[0;34m\u001b[0m\u001b[0;34m\u001b[0m\u001b[0m\n\u001b[0;32m---> 39\u001b[0;31m     \u001b[0mdraw\u001b[0m\u001b[0;34m(\u001b[0m\u001b[0;34m[\u001b[0m\u001b[0mhis\u001b[0m\u001b[0;34m.\u001b[0m\u001b[0mh_eff\u001b[0m\u001b[0;34m.\u001b[0m\u001b[0mh_fBrem\u001b[0m\u001b[0;34m.\u001b[0m\u001b[0mCreateGraph\u001b[0m\u001b[0;34m(\u001b[0m\u001b[0;34m)\u001b[0m \u001b[0;32mfor\u001b[0m \u001b[0mhis\u001b[0m \u001b[0;32min\u001b[0m \u001b[0mhsets_new\u001b[0m\u001b[0;34m]\u001b[0m\u001b[0;34m,\u001b[0m \u001b[0mlabels_new\u001b[0m\u001b[0;34m,\u001b[0m \u001b[0mtext\u001b[0m\u001b[0;34m=\u001b[0m\u001b[0mtext\u001b[0m\u001b[0;34m,\u001b[0m \u001b[0mmin_y\u001b[0m\u001b[0;34m=\u001b[0m\u001b[0;36m0.75\u001b[0m\u001b[0;34m,\u001b[0m \u001b[0mmax_y\u001b[0m\u001b[0;34m=\u001b[0m\u001b[0;36m1.02\u001b[0m\u001b[0;34m,\u001b[0m \u001b[0my_axis_label\u001b[0m\u001b[0;34m=\u001b[0m\u001b[0;34m'L1 matched to GEN/GEN'\u001b[0m\u001b[0;34m,\u001b[0m \u001b[0mh_lines\u001b[0m\u001b[0;34m=\u001b[0m\u001b[0;34m[\u001b[0m\u001b[0;36m0.95\u001b[0m\u001b[0;34m,\u001b[0m \u001b[0;36m1\u001b[0m\u001b[0;34m]\u001b[0m\u001b[0;34m)\u001b[0m\u001b[0;34m\u001b[0m\u001b[0m\n\u001b[0m",
      "\u001b[0;31mAttributeError\u001b[0m: HistoEff instance has no attribute 'h_fBrem'"
     ]
    }
   ],
   "source": [
    "sample = 'ele-V9'\n",
    "for pu in ['PU0', 'PU200']:\n",
    "    hsets_new = []\n",
    "    labels_new = []\n",
    "#     hsets, labels, text = hplot.get_histo(histos.HistoSetEff, sample, pu, ['EG'], ['EGq3'], 'GENEtaBC')\n",
    "# #     hsets[0].SetMarkerStyle(7)\n",
    "#     hsets_new.append(hsets[0])\n",
    "#     labels_new.append(\"EG standalone\")\n",
    "    \n",
    "#     hsets, labels, text = hplot.get_histo(histos.HistoSetEff, sample, pu, ['EG'], ['EGq3Pt20'], 'GENEtaBC')\n",
    "#     hsets_new.append(hsets[0])\n",
    "#     labels_new.append(\"EG Pt>20GeV\")\n",
    "\n",
    "    hsets, labels, text = hplot.get_histo(histos.HistoSetEff, sample, pu, ['L1Trk'], ['St4Pt2'], 'GENEtaBC')\n",
    "    hsets_new.append(hsets[0])\n",
    "    labels_new.append(\"L1Trk #stubs > 3\")\n",
    "\n",
    "#     hsets, labels, text = hplot.get_histo(histos.HistoSetEff, sample, pu, ['L1Trk'], ['St4Pt10'], 'GENEtaBC')\n",
    "#     hsets_new.append(hsets[0])\n",
    "#     labels_new.append(\"L1Trk p_{T}>10GeV\")\n",
    "\n",
    "    hsets, labels, text = hplot.get_histo(histos.HistoSetEff, sample, pu, ['L1TrkEmu'], ['Pt2'], 'GENEtaBC')\n",
    "    hsets_new.append(hsets[0])\n",
    "    labels_new.append(\"L1Trk EMU\")\n",
    "\n",
    "#     hsets, labels, text = hplot.get_histo(histos.HistoSetEff, sample, pu, ['L1TrkEmu'], ['Pt10'], 'GENEtaBC')\n",
    "#     hsets_new.append(hsets[0])\n",
    "#     labels_new.append(\"L1Trk p_{T}>10GeV\")\n",
    "\n",
    "    \n",
    "    \n",
    "#     hsets, labels, text = hplot.get_histo(histos.HistoSetEff, sample, pu, ['TkEle'], ['EGq3'], 'GENEtaBC')\n",
    "#     hsets_new.append(hsets[0])\n",
    "#     labels_new.append(\"TkEle\")\n",
    "\n",
    "\n",
    "    \n",
    "    # drawSeveral([his.hreso.h_ptResVpt for his in hsets], labels,  'COLZ', do_profile=True, text=text)\n",
    "    draw([his.h_eff.h_fBrem.CreateGraph() for his in hsets_new], labels_new, text=text, min_y=0.75, max_y=1.02, y_axis_label='L1 matched to GEN/GEN', h_lines=[0.95, 1])\n"
   ]
  },
  {
   "cell_type": "code",
   "execution_count": null,
   "metadata": {},
   "outputs": [],
   "source": [
    "sample = 'ele-V9'\n",
    "for pu in ['PU0', 'PU200']:\n",
    "    hsets_new = []\n",
    "    labels_new = []\n",
    "#     hsets, labels, text = hplot.get_histo(histos.HistoSetEff, sample, pu, ['EG'], ['EGq3'], 'GENEtaBC')\n",
    "# #     hsets[0].SetMarkerStyle(7)\n",
    "#     hsets_new.append(hsets[0])\n",
    "#     labels_new.append(\"EG standalone\")\n",
    "    \n",
    "#     hsets, labels, text = hplot.get_histo(histos.HistoSetEff, sample, pu, ['EG'], ['EGq3Pt20'], 'GENEtaBC')\n",
    "#     hsets_new.append(hsets[0])\n",
    "#     labels_new.append(\"EG Pt>20GeV\")\n",
    "\n",
    "    hsets, labels, text = hplot.get_histo(histos.HistoSetEff, sample, pu, ['L1TrkEmu'], ['Pt2'], 'GENEtaBC')\n",
    "    hsets_new.append(hsets[0])\n",
    "    labels_new.append(\"L1Trk p_{T}>2GeV\")\n",
    "\n",
    "    hsets, labels, text = hplot.get_histo(histos.HistoSetEff, sample, pu, ['L1TrkEmu'], ['Pt10'], 'GENEtaBC')\n",
    "    hsets_new.append(hsets[0])\n",
    "    labels_new.append(\"L1Trk p_{T}>10GeV\")\n",
    "\n",
    "    hsets, labels, text = hplot.get_histo(histos.HistoSetEff, sample, pu, ['TkEle'], ['EGq3'], 'GENEtaBC')\n",
    "    hsets_new.append(hsets[0])\n",
    "    labels_new.append(\"TkEle\")\n",
    "\n",
    "    hsets, labels, text = hplot.get_histo(histos.HistoSetEff, sample, pu, ['TkEG'], ['EGq3M1P10'], 'GENEtaBC')\n",
    "    hsets_new.append(hsets[0])\n",
    "    labels_new.append(\"TkEle\")\n",
    "\n",
    "\n",
    "    \n",
    "    # drawSeveral([his.hreso.h_ptResVpt for his in hsets], labels,  'COLZ', do_profile=True, text=text)\n",
    "    draw([his.h_eff.h_fBrem.CreateGraph() for his in hsets_new], labels_new, text=text, min_y=0.75, max_y=1.02, y_axis_label='L1 matched to GEN/GEN', h_lines=[0.95, 1])\n"
   ]
  },
  {
   "cell_type": "markdown",
   "metadata": {},
   "source": [
    "## Turn-on curves"
   ]
  },
  {
   "cell_type": "code",
   "execution_count": null,
   "metadata": {},
   "outputs": [],
   "source": [
    "hsets, labels, text = hplot.get_histo(histos.HistoSetEff, 'ele-V9', ['PU200'], ['EG'], ['EGq4Pt30'], 'GENEtaBC', debug=False)\n",
    "draw([his.h_ton.h_pt.CreateGraph() for his in hsets], labels, text=text, min_y=0, max_y=1.1, y_axis_label='L1 matched to GEN and p_{T}>th./L1 matched to GEN', h_lines=[0.95, 1])\n"
   ]
  },
  {
   "cell_type": "code",
   "execution_count": null,
   "metadata": {},
   "outputs": [],
   "source": [
    "hsets, labels, text = hplot.get_histo(histos.HistoSetEff, sample, ['PU200'], ['EG'], ['EGq3Pt30', 'EGq4Pt30', 'EGq5Pt30'], 'GENEtaBC', debug=False)\n",
    "draw([his.h_ton.h_pt.CreateGraph() for his in hsets], labels, text=text, min_y=0, max_y=1.1, y_axis_label='L1 matched to GEN and p_{T}>th./L1 matched to GEN', h_lines=[0.95, 1])\n"
   ]
  },
  {
   "cell_type": "code",
   "execution_count": null,
   "metadata": {},
   "outputs": [],
   "source": [
    "hsets, labels, text = hplot.get_histo(histos.HistoSetEff, sample, ['PU200'], ['TkEleEL'], ['EGq3Pt30', 'EGq4Pt30', 'EGq5Pt30'], 'GENEtaBC', debug=False)\n",
    "draw([his.h_ton.h_pt.CreateGraph() for his in hsets], labels, text=text, min_y=0, max_y=1.1, y_axis_label='L1 matched to GEN and p_{T}>th./L1 matched to GEN', h_lines=[0.95, 1])\n"
   ]
  },
  {
   "cell_type": "markdown",
   "metadata": {},
   "source": [
    "## Scaling"
   ]
  },
  {
   "cell_type": "code",
   "execution_count": null,
   "metadata": {},
   "outputs": [],
   "source": [
    "def f_yc(x, par):\n",
    "    return (ROOT.Math.normal_cdf(par[0]*(x[0]-par[1]), par[0]*par[2], 0) - ROOT.TMath.Exp(-par[0]*(x[0]-par[1])+par[0]*par[0]*par[2]*par[2]/2)*ROOT.Math.normal_cdf(par[0]*(x[0]-par[1]), par[0]*par[2], par[0]*par[0]*par[2]*par[2])) * (par[3] - par[4]) + par[4]\n",
    "\n",
    "tf_yc = ROOT.TF1('tf_yc', f_yc, 0, 100, 5)\n",
    "tf_yc.SetParameters(1, 20, 4, 1.0, 0.0);\n",
    "tf_yc.SetParNames(\"#lambda\", \"#mu\", \"#sigma\", \"Plateau\", \"Baseline\");\n",
    "tf_yc.SetLineColor(6)\n",
    "tf_yc.FixParameter(4,0)\n",
    "\n",
    "tf_yc.SetParLimits(1, 0, 50)\n",
    "\n",
    "tf_yc.SetParLimits(3, 0.9, 1)\n",
    "tf_yc.SetParLimits(0, 0, 1)\n",
    "tf_yc.SetParLimits(2, 0.1, 1)\n",
    "\n",
    "c = newCanvas()\n",
    "tf_yc.Draw()\n",
    "c.Draw()\n"
   ]
  },
  {
   "cell_type": "code",
   "execution_count": null,
   "metadata": {},
   "outputs": [],
   "source": [
    "sample"
   ]
  },
  {
   "cell_type": "code",
   "execution_count": null,
   "metadata": {},
   "outputs": [],
   "source": [
    "hplot.data[(hplot.data['sample'] == sample) & (hplot.data.tp == 'TkEle')].tp_sel.unique()\n"
   ]
  },
  {
   "cell_type": "code",
   "execution_count": null,
   "metadata": {},
   "outputs": [],
   "source": [
    "hsets, labels, text = hplot.get_histo(histos.HistoSetEff, sample, 'PU0', 'TkEle', 'EGq3Pt15', 'GENEtaBC')\n",
    "\n",
    "\n",
    "print hsets[0].name"
   ]
  },
  {
   "cell_type": "code",
   "execution_count": null,
   "metadata": {},
   "outputs": [],
   "source": [
    "fake_histoname = uuid.uuid4().hex[:6]\n"
   ]
  },
  {
   "cell_type": "code",
   "execution_count": null,
   "metadata": {
    "scrolled": true
   },
   "outputs": [],
   "source": [
    "ROOT.TVirtualFitter.SetDefaultFitter(\"Fumili2\")\n",
    "ROOT.TVirtualFitter.SetPrecision(1e-04)\n",
    "\n",
    "import array\n",
    "\n",
    "class HWrapper(object):\n",
    "    def __init__(self, histo):\n",
    "        self.histo = histo\n",
    "    \n",
    "    def get(self, debug=False):\n",
    "        return self.histo\n",
    "\n",
    "\n",
    "# tps_scaling = ['EG', 'TkEleEL']\n",
    "# tp_sel_scaling = [('EGq3Pt{}', 'EGq3'), ('EGq4Pt{}', 'EGq4'), ('EGq5Pt{}', 'EGq5')]\n",
    "# pt_points = [10, 15, 20, 25, 30, 40]\n",
    "\n",
    "sample = 'ele-V9'\n",
    "tps_scaling = ['EG']\n",
    "tp_sel_scaling = [('EGq5Pt{}', 'EGq5')]\n",
    "pt_points = [10, 15, 20, 25, 30, 40]\n",
    "\n",
    "# sample = 'calib'\n",
    "# tps_scaling = ['HMvDRshapeDrCalib']\n",
    "# tp_sel_scaling = [('EmPt{}', 'Em')]\n",
    "# pt_points = [10, 20, 30]\n",
    "\n",
    "\n",
    "for pu in ['PU0', 'PU200']:\n",
    "    for gen_sel in ['GENEtaBC']:\n",
    "        for tp in tps_scaling:\n",
    "            for tp_sel_strings in tp_sel_scaling:\n",
    "                pt_95 = []\n",
    "                pt_95_err = []\n",
    "                for pt in pt_points:\n",
    "#                     for (i=0; i<ngr; i++)\n",
    "#       grint->SetPoint(i, gr->GetX()[i], 0);\n",
    "        \n",
    "                    tp_sel = tp_sel_strings[0].format(pt)\n",
    "                    hsets, labels, text = hplot.get_histo(histos.HistoSetEff, sample, pu, tp, tp_sel, gen_sel)\n",
    "                        # drawSeveral([his.hreso.h_ptResVpt for his in hsets], labels,  'COLZ', do_profile=True, text=text)\n",
    "        #                 draw([his.h_ton.h_pt.CreateGraph() for his in hsets], labels, text=text, min_y=0, max_y=1.1, y_axis_label='L1 matched to GEN and p_{T}>th./L1 matched to GEN', h_lines=[0.95, 1])\n",
    "\n",
    "#                     if pt == 20:\n",
    "                    tf_yc.SetParameters(0.6, pt, 0.1, 1.0, 0.0)\n",
    "#                     else:\n",
    "#                         tf_yc.SetParameters(1, 20, 4, 1.0, 0.0)\n",
    "                    h_eff_vs_pt = [his.h_ton.h_pt.CreateGraph() for his in hsets]\n",
    "\n",
    "                    result = h_eff_vs_pt[0].Fit(tf_yc, 'EMQRS+')\n",
    "\n",
    "                    grint = ROOT.TGraphErrors(h_eff_vs_pt[0].GetN())\n",
    "                    stuff.append(grint)\n",
    "                    grint.SetTitle(\"Fitted line with .95 conf. band\")\n",
    "                    for point in range(0, h_eff_vs_pt[0].GetN()):\n",
    "                        grint.SetPoint(point, h_eff_vs_pt[0].GetX()[point], 0)\n",
    "                    ROOT.TVirtualFitter.GetFitter().GetConfidenceIntervals(grint)\n",
    "\n",
    "                        \n",
    "                    print '------- {}'.format( text)\n",
    "                    print result.Print()\n",
    "                    pt095 = tf_yc.GetX(0.95)\n",
    "                    pt_95.append(pt095)\n",
    "\n",
    "                    prev_err = 0\n",
    "                    error = 0\n",
    "                    for idx,point in enumerate(grint.GetX()):\n",
    "#                         print idx, point, grint.GetEY()[idx]\n",
    "                        if pt095 > point:\n",
    "                            prev_err = grint.GetEY()[idx]\n",
    "                        else:\n",
    "                            error = (prev_err+grint.GetEY()[idx])/2\n",
    "                            break\n",
    "                    pt_95_err.append(error)\n",
    "                    print '       pt th: {}, 95% eff: {}, err: {}'.format(pt, pt095, error)\n",
    "                    #                 points.append((tp, pu, pt, pt095))\n",
    "                    draw(h_eff_vs_pt, labels, text=text, min_y=0, max_y=1.1, y_axis_label='L1 matched to GEN and p_{T}>th./L1 matched to GEN', h_lines=[0.95, 1])\n",
    "                    ROOT.gStyle.SetOptFit(11111)\n",
    "                    grint.Draw('same')\n",
    "\n",
    "                print len(pt_points)\n",
    "                print len(pt_95)\n",
    "                print len(pt_95_err)\n",
    "                print pt_95_err\n",
    "                \n",
    "                graph = ROOT.TGraphErrors(len(pt_points), array.array('d', pt_points), \n",
    "                                                          array.array('d', pt_95),\n",
    "                                                          array.array('d', [0.]*len(pt_points)),\n",
    "                                                          array.array('d', pt_95_err) )\n",
    "                graph.SetMarkerStyle(7)\n",
    "                graph.SetMarkerColor(2)\n",
    "                stuff.append(graph)\n",
    "\n",
    "                hplot.data = hplot.data.append({'sample': sample,\n",
    "                                                'pu': pu,\n",
    "                                                'tp': tp,\n",
    "                                                'tp_sel': tp_sel_strings[1],\n",
    "                                                'gen_sel': gen_sel,\n",
    "                                                'classtype': fake_histoname,\n",
    "                                                'histo': HWrapper(graph),},\n",
    "                                                ignore_index=True)\n",
    "\n",
    "                \n",
    "                "
   ]
  },
  {
   "cell_type": "code",
   "execution_count": null,
   "metadata": {},
   "outputs": [],
   "source": [
    "hplot.data[hplot.data.classtype == fake_histoname]\n"
   ]
  },
  {
   "cell_type": "code",
   "execution_count": null,
   "metadata": {},
   "outputs": [],
   "source": [
    "hplot.data[hplot.data.classtype == fake_histoname]['sample'].unique()"
   ]
  },
  {
   "cell_type": "code",
   "execution_count": null,
   "metadata": {
    "scrolled": false
   },
   "outputs": [],
   "source": [
    "scaling_params = pd.DataFrame(columns=['tp', 'tp_sel', 'params'])\n",
    "ROOT.gStyle.SetOptFit(11111)\n",
    "\n",
    "for sample in hplot.data[hplot.data.classtype == fake_histoname]['sample'].unique():\n",
    "    print sample\n",
    "    for pu in hplot.data[(hplot.data.classtype == fake_histoname) & (hplot.data['sample'] == sample)].pu.unique():\n",
    "        for tp in hplot.data[(hplot.data.classtype == fake_histoname) & (hplot.data['sample'] == sample) & (hplot.data.pu == pu)].tp.unique():\n",
    "            for tp_sel in hplot.data[(hplot.data.classtype == fake_histoname) & (hplot.data['sample'] == sample) & (hplot.data.pu == pu) & (hplot.data.tp == tp)].tp_sel.unique():\n",
    "                hsets, labels, text = hplot.get_histo(fake_histoname, sample, pu, tp, tp_sel, ['GENEtaBC'])\n",
    "                result = hsets[0].Fit('pol1', 'MES+', '', 5, 35)\n",
    "                result.GetParams()\n",
    "                scaling_params = scaling_params.append({'pu': pu,\n",
    "                                                         'tp': tp,\n",
    "                                                         'tp_sel': tp_sel+'EtaBC',\n",
    "                                                         'params': (result.GetParams()[0], result.GetParams()[1])},\n",
    "                                                          ignore_index=True)\n",
    "                draw(hsets, labels, text=text, min_y=0, max_y=60, y_axis_label='p_{T} @ 95% eff. [GeV] ', x_axis_label='p_{T} thresh. [GeV]')"
   ]
  },
  {
   "cell_type": "markdown",
   "metadata": {},
   "source": [
    "###### "
   ]
  },
  {
   "cell_type": "code",
   "execution_count": null,
   "metadata": {},
   "outputs": [],
   "source": [
    "scaling_params"
   ]
  },
  {
   "cell_type": "code",
   "execution_count": null,
   "metadata": {},
   "outputs": [],
   "source": [
    "scaling_params.to_csv(r'scaling_params_{}.csv'.format(version_V9))"
   ]
  },
  {
   "cell_type": "code",
   "execution_count": null,
   "metadata": {},
   "outputs": [],
   "source": [
    "eta_boundaries_fiducial = [-5, -4, -3,-2.5 ,-1.5, -0.5, 0.5, 1.5, 2.5, 3, 4, 5]\n",
    "eta_boundaries = []\n",
    "phi_boundaries_fiducial = []\n",
    "\n",
    "\n",
    "eta_overlap = 0.25\n",
    "phi_overlap = 0.25\n",
    "phiSlices = 9\n",
    "\n",
    "phiWidth = 2*math.pi/phiSlices\n",
    "\n",
    "\n",
    "phi_boundaries = []\n",
    "\n",
    "\n",
    "for ieta,eta_low_fiducial in enumerate(eta_boundaries_fiducial):dd\n",
    "    if ieta>=len(eta_boundaries_fiducial)-1:\n",
    "        break\n",
    "    eta_high_fiducial = eta_boundaries_fiducial[ieta+1]\n",
    "    print 'fiducial boundaries: {}, {}'.format(eta_low_fiducial, eta_high_fiducial)\n",
    "    eta_low = eta_low_fiducial - eta_overlap\n",
    "    eta_high = eta_high_fiducial + eta_overlap\n",
    "    eta_boundaries.append((eta_low, eta_high))\n",
    "    \n",
    "    \n",
    "    \n",
    "for iphi in range(0,9):\n",
    "    phiCenter = (iphi+0.5)*phiWidth-math.pi\n",
    "    print iphi,phiCenter\n",
    "    phi_low_fiducial = phiCenter - phiWidth/2.\n",
    "    phi_high_fiducial = phiCenter+phiWidth/2.\n",
    "    \n",
    "    print 'fiducial boundaries: {}, {}'.format(phi_low_fiducial, phi_high_fiducial)\n",
    "    phi_boundaries_fiducial.append(phi_low_fiducial)\n",
    "    \n",
    "    phi_low = phi_low_fiducial - phi_overlap\n",
    "    if phi_low < -1*math.pi:\n",
    "        phi_low = math.pi-phi_overlap\n",
    "    phi_high = phi_high_fiducial + phi_overlap\n",
    "    if phi_high > math.pi:\n",
    "        phi_high = -1*math.pi+phi_overlap\n",
    "    \n",
    "    phi_boundaries.append((phi_low, phi_high))\n",
    "    print 'boundaries: {} {}'.format(phi_low, phi_high)\n",
    "    \n",
    "    \n",
    "phi_boundaries_fiducial.append(math.pi)\n",
    "print \"FIDUCIAL\"\n",
    "print eta_boundaries_fiducial\n",
    "print phi_boundaries_fiducial\n",
    "\n",
    "print \"ACTUAL\"\n",
    "print phi_boundaries\n",
    "print eta_boundaries"
   ]
  },
  {
   "cell_type": "code",
   "execution_count": null,
   "metadata": {},
   "outputs": [],
   "source": []
  },
  {
   "cell_type": "code",
   "execution_count": null,
   "metadata": {},
   "outputs": [],
   "source": []
  }
 ],
 "metadata": {
  "kernelspec": {
   "display_name": "HGCTPGPerformance",
   "language": "python",
   "name": "hgctpgperformance"
  },
  "language_info": {
   "codemirror_mode": {
    "name": "ipython",
    "version": 2
   },
   "file_extension": ".py",
   "mimetype": "text/x-python",
   "name": "python",
   "nbconvert_exporter": "python",
   "pygments_lexer": "ipython2",
   "version": "2.7.16"
  },
  "toc": {
   "base_numbering": 1,
   "nav_menu": {},
   "number_sections": true,
   "sideBar": true,
   "skip_h1_title": false,
   "title_cell": "Table of Contents",
   "title_sidebar": "Contents",
   "toc_cell": false,
   "toc_position": {
    "height": "calc(100% - 180px)",
    "left": "10px",
    "top": "150px",
    "width": "176px"
   },
   "toc_section_display": true,
   "toc_window_display": true
  }
 },
 "nbformat": 4,
 "nbformat_minor": 2
}
