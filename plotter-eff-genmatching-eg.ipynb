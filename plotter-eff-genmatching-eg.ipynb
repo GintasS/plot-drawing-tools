{
 "cells": [
  {
   "cell_type": "markdown",
   "metadata": {},
   "source": [
    "# Eff. matching to GEN particle\n",
    "\n",
    "\n",
    "   * [Efficiency vs $\\eta$](#Effinciency-vs-$\\eta$)\n",
    "   * [Efficiency vs $p_{T}$](#Efficiency-vs-$p_{T}$)\n",
    "   * [Turn-on curves](#Turn-on-curves)\n"
   ]
  },
  {
   "cell_type": "code",
   "execution_count": 1,
   "metadata": {},
   "outputs": [
    {
     "name": "stdout",
     "output_type": "stream",
     "text": [
      "Welcome to JupyROOT 6.14/02\n"
     ]
    }
   ],
   "source": [
    "import sys\n",
    "sys.path.insert(0, '..')\n",
    "# sys.path.insert(1, '../python/')\n",
    "sys.path.insert(1, 'python/')\n",
    "\n",
    "import ROOT\n",
    "import root_numpy as rnp\n",
    "# import python.l1THistos as histos\n",
    "import math\n",
    "import uuid\n",
    "import pandas as pd\n",
    "\n",
    "from drawingTools import *\n",
    "\n",
    "# ROOT.enableJSVis()\n",
    "ROOT.enableJSVis()\n",
    "\n",
    "#from drawingTools import *\n",
    "\n",
    "normalized_histos = list()"
   ]
  },
  {
   "cell_type": "code",
   "execution_count": 2,
   "metadata": {},
   "outputs": [],
   "source": [
    "# %load drawingTools.py\n"
   ]
  },
  {
   "cell_type": "code",
   "execution_count": 3,
   "metadata": {},
   "outputs": [],
   "source": [
    "# %load samples.py\n",
    "import ROOT\n",
    "import pandas as pd\n",
    "\n",
    "version = 'v103t'\n",
    "version_V8 = 'v119'\n",
    "\n",
    "version_V9 = 'v121'\n",
    "\n",
    "# -------------------------------------------------------------------------\n",
    "\n",
    "samples_ele = [\n",
    "#     Sample('ele_flat2to100_PU0_eg', 'PU0', version, 'ele'),\n",
    "    Sample('ele_flat2to100_PU200_eg', 'PU200', version, 'ele')\n",
    "    ]\n",
    "\n",
    "samples_ele_V8 = [\n",
    "#     Sample('ele_flat2to100_PU0_eg', 'PU0', version, 'V8'),\n",
    "    Sample('ele_flat2to100_PU200_eg', 'PU200', version_V8, 'hybrid')\n",
    "    ]\n",
    "\n",
    "\n",
    "samples_ele_calib = [\n",
    "    Sample('ele_flat2to100_PU0_tps', 'PU0', 'v120', 'calib'),\n",
    "    Sample('ele_flat2to100_PU200_tps', 'PU200', 'v120', 'calib')\n",
    "    ]\n",
    "\n",
    "\n",
    "samples_ele_V9 = [\n",
    "    Sample('ele_flat2to100_PU0_eg', 'PU0', version_V9, 'ele-V9'),\n",
    "    Sample('ele_flat2to100_PU200_eg', 'PU200', version_V9, 'ele-V9')\n",
    "    ]\n",
    "\n",
    "samples_photons = [\n",
    "    Sample('photon_flat8to150_PU0_tracks', 'PU0', version, 'photon'),\n",
    "    Sample('photon_flat8to150_PU200_tracks', 'PU200', version, 'photon')\n",
    "    ]\n",
    "\n",
    "samples_photons_V9 = [\n",
    "    Sample('photon_flat8to150_PU0_tracks', 'PU0', version_V9, 'photon-V9'),\n",
    "    Sample('photon_flat8to150_PU200_tracks', 'PU200', version_V9, 'photon-V9')\n",
    "    ]\n",
    "\n",
    "samples_pions = [\n",
    "    Sample('pion_flat2to100_PU0_tracks', 'PU0', version, 'pions'),\n",
    "    ]\n",
    "\n",
    "samples_nugus = [\n",
    "    Sample('nugun_alleta_pu0', 'PU0', version, 'mb'),\n",
    "    Sample('nugun_alleta_pu200', 'PU200', version, 'mb')\n",
    "    ]\n",
    "\n",
    "samples_nugunrates = [\n",
    "    Sample('nugun_alleta_pu200_tracks', 'PU200', version, 'mb')\n",
    "    ]\n",
    "\n",
    "\n"
   ]
  },
  {
   "cell_type": "code",
   "execution_count": 4,
   "metadata": {},
   "outputs": [
    {
     "name": "stdout",
     "output_type": "stream",
     "text": [
      "gen_part_selections: 14\n",
      "--- EGHistos\n",
      "# of plots: 6465\n",
      "# of primitives: 1293\n",
      "--- EGResoHistos\n",
      "# of plots: 10312\n",
      "# of primitives: 1289\n",
      "--- GenParticleHistos\n",
      "# of plots: 15468\n",
      "# of primitives: 1289\n",
      "--- TPs: \n",
      "['EG', 'EGBRL', 'TkEleEL', 'TkEleELBRL', 'TkEleELALL']\n",
      "--- TP selections:\n",
      "{   'EG': [   'EGq5Pt15',\n",
      "              'EGq5Pt30',\n",
      "              'EGq3Pt20',\n",
      "              'EGq2Pt10',\n",
      "              'EGq5',\n",
      "              'EGq3Pt40',\n",
      "              'EGq4',\n",
      "              'EGq2Pt15',\n",
      "              'EGq5Pt10',\n",
      "              'EGq2Pt20',\n",
      "              'EGq2Pt25',\n",
      "              'EGq3',\n",
      "              'EGq4Pt25',\n",
      "              'EGq5Pt20',\n",
      "              'EGq4Pt10',\n",
      "              'EGq4Pt15',\n",
      "              'EGq2Pt30',\n",
      "              'EGq2',\n",
      "              'EGq3Pt30',\n",
      "              'EGq4Pt30',\n",
      "              'EGq3Pt15',\n",
      "              'EGq4Pt40',\n",
      "              'EGq5Pt25',\n",
      "              'EGq3Pt10',\n",
      "              'EGq3Pt25',\n",
      "              'EGq5Pt40',\n",
      "              'EGq2Pt40',\n",
      "              'EGq4Pt20'],\n",
      "    'EGBRL': [   'Pt10LooseTkID',\n",
      "                 'Pt40',\n",
      "                 'Pt40LooseTkID',\n",
      "                 'Pt20LooseTkID',\n",
      "                 'all',\n",
      "                 'Pt20',\n",
      "                 'Pt25',\n",
      "                 'Pt30LooseTkID',\n",
      "                 'Pt15LooseTkID',\n",
      "                 'Pt30',\n",
      "                 'Pt10',\n",
      "                 'Pt25LooseTkID',\n",
      "                 'Pt15',\n",
      "                 'LooseTkID'],\n",
      "    'TkEleEL': [   'EGq4Pt10',\n",
      "                   'EGq4Pt20',\n",
      "                   'EGq2Iso0p3',\n",
      "                   'EGq5Pt25',\n",
      "                   'EGq3Iso0p1',\n",
      "                   'EGq2',\n",
      "                   'EGq5Iso0p3',\n",
      "                   'EGq5Pt10',\n",
      "                   'EGq2Iso0p2',\n",
      "                   'EGq5Iso0p1',\n",
      "                   'EGq2Pt25',\n",
      "                   'EGq4Pt30',\n",
      "                   'EGq2Pt20',\n",
      "                   'EGq3Pt10',\n",
      "                   'EGq3Pt40',\n",
      "                   'EGq5',\n",
      "                   'EGq5Pt15',\n",
      "                   'EGq3Pt15',\n",
      "                   'EGq5Iso0p2',\n",
      "                   'EGq2Pt30',\n",
      "                   'EGq4Pt15',\n",
      "                   'EGq4Iso0p2',\n",
      "                   'EGq3Pt25',\n",
      "                   'EGq3Iso0p2',\n",
      "                   'EGq2Pt15',\n",
      "                   'EGq5Pt30',\n",
      "                   'EGq2Pt40',\n",
      "                   'EGq4Pt25',\n",
      "                   'EGq4',\n",
      "                   'EGq2Pt10',\n",
      "                   'EGq5Pt20',\n",
      "                   'EGq2Iso0p1',\n",
      "                   'EGq4Iso0p3',\n",
      "                   'EGq3Pt20',\n",
      "                   'EGq3Iso0p3',\n",
      "                   'EGq4Pt40',\n",
      "                   'EGq3Pt30',\n",
      "                   'EGq4Iso0p1',\n",
      "                   'EGq5Pt40',\n",
      "                   'EGq3'],\n",
      "    'TkEleELALL': [   'Pt25',\n",
      "                      'Pt20',\n",
      "                      'Pt40',\n",
      "                      'Pt25Iso0p1',\n",
      "                      'all',\n",
      "                      'Pt30LooseTkID',\n",
      "                      'Pt10LooseTkID',\n",
      "                      'Pt20LooseTkID',\n",
      "                      'Pt30',\n",
      "                      'Pt15LooseTkID',\n",
      "                      'Pt40Iso0p1',\n",
      "                      'Pt15',\n",
      "                      'Pt30Iso0p1',\n",
      "                      'Pt25LooseTkID',\n",
      "                      'Pt10Iso0p1',\n",
      "                      'LooseTkID',\n",
      "                      'Iso0p1',\n",
      "                      'Pt10',\n",
      "                      'Pt15Iso0p1',\n",
      "                      'Pt40LooseTkID',\n",
      "                      'Pt20Iso0p1'],\n",
      "    'TkEleELBRL': ['Pt10', 'Pt25', 'Pt40', 'Pt30', 'all', 'Pt15', 'Pt20']}\n",
      "--- GEN selections:\n",
      "{   'EG': [   'GENEtaD',\n",
      "              'GENPt15',\n",
      "              'GENEtaBCD',\n",
      "              'GENPt35',\n",
      "              'GENEtaDE',\n",
      "              'GENPt10to25',\n",
      "              'GENEtaBCPt15',\n",
      "              'GENPt40',\n",
      "              'nomatch',\n",
      "              'GEN',\n",
      "              'GENEtaDPt15',\n",
      "              'GENEtaBCDPt15',\n",
      "              'GENEtaBC',\n",
      "              'GENEtaDEPt15',\n",
      "              'GENPt30'],\n",
      "    'EGBRL': [   'GENPt40',\n",
      "                 'GENPt35',\n",
      "                 'GENPt15',\n",
      "                 'GEN',\n",
      "                 'GENEtaF',\n",
      "                 'GENPt10to25',\n",
      "                 'GENPt30'],\n",
      "    'TkEleEL': [   'GENPt40',\n",
      "                   'GENPt35',\n",
      "                   'GENEtaBCDPt15',\n",
      "                   'GENPt10to25',\n",
      "                   'GENPt15',\n",
      "                   'GENPt30',\n",
      "                   'GEN',\n",
      "                   'GENEtaBC',\n",
      "                   'GENEtaBCPt15',\n",
      "                   'GENEtaBCD'],\n",
      "    'TkEleELALL': [   'GENEtaBCD',\n",
      "                      'GENEtaD',\n",
      "                      'GENPt10to25',\n",
      "                      'GENPt30',\n",
      "                      'GENPt15',\n",
      "                      'GEN',\n",
      "                      'GENEtaF',\n",
      "                      'GENEtaBC',\n",
      "                      'GENPt40',\n",
      "                      'GENPt35'],\n",
      "    'TkEleELBRL': [   'GEN',\n",
      "                      'GENPt30',\n",
      "                      'GENPt15',\n",
      "                      'GENEtaF',\n",
      "                      'GENPt10to25',\n",
      "                      'GENPt40',\n",
      "                      'GENPt35']}\n"
     ]
    }
   ],
   "source": [
    "# %load python/settings.py\n",
    "\n",
    "# === samples =====================================================\n",
    "import pprint\n",
    "import python.plotters_config as plotters\n",
    "\n",
    "\n",
    "\n",
    "samples = []\n",
    "\n",
    "# samples += samples_nugunrates\n",
    "# samples += samples_nugunrates_V8\n",
    "samples += samples_ele_V9\n",
    "\n",
    "for smp in samples:\n",
    "    smp.open_file()\n",
    "\n",
    "\n",
    "sample = 'ele-V9'\n",
    "\n",
    "# === TP ==========================================================\n",
    "tps = [\n",
    "       'EG',\n",
    "        'EGBRL',\n",
    "#        'TkEle',\n",
    "       'TkEleEL',\n",
    "#        'TkEleBRL',\n",
    "       'TkEleELBRL',\n",
    "#        'TkEleALL',\n",
    "       'TkEleELALL'\n",
    "]\n",
    "\n",
    "# === Load the Histo Primitives ====================================\n",
    "histo_primitives = samples[0].build_file_primitive_index()\n",
    "\n",
    "\n",
    "# print histo_primitives.data.unique()\n",
    "# === TP selections ================================================\n",
    "tp_select = {}\n",
    "\n",
    "for tp in tps:\n",
    "    tp_select[tp] = histo_primitives[histo_primitives.tp == tp].tp_sel.unique().tolist()\n",
    "\n",
    "# ==== GEN selections ===============================================\n",
    "gen_select ={}\n",
    "for tp in tps:\n",
    "    gen_select[tp] = histo_primitives[histo_primitives.tp == tp].gen_sel.unique().tolist()\n",
    "\n",
    "\n",
    "import pprint\n",
    "pp = pprint.PrettyPrinter(indent=4)\n",
    "print '--- TPs: '\n",
    "pp.pprint(tps)\n",
    "print '--- TP selections:'\n",
    "pp.pprint(tp_select)\n",
    "print '--- GEN selections:'\n",
    "pp.pprint(gen_select)\n"
   ]
  },
  {
   "cell_type": "code",
   "execution_count": 5,
   "metadata": {},
   "outputs": [],
   "source": [
    "import python.collections as collections\n",
    "import python.selections as selections\n",
    "\n",
    "labels_dict = {}\n",
    "\n",
    "evm = collections.EventManager()\n",
    "labels_dict.update(evm.get_labels())\n",
    "selm = selections.SelectionManager()\n",
    "labels_dict.update(selm.get_labels())\n",
    "\n",
    "\n",
    "\n",
    "\n",
    "# #  ==== labels ===============================================\n",
    "# tp_labels = histo_primitives[['data', 'data_label']].drop_duplicates().set_index('data').T.to_dict('records')[0]\n",
    "# tp_selection_labels = histo_primitives[['data_sel', 'data_sel_label']].drop_duplicates().set_index('data_sel').T.to_dict('records')[0]\n",
    "# gen_selection_labels = histo_primitives[['gen_sel', 'gen_sel_label']].drop_duplicates().set_index('gen_sel').T.to_dict('records')[0]\n",
    "\n",
    "\n",
    "\n",
    "\n"
   ]
  },
  {
   "cell_type": "code",
   "execution_count": 6,
   "metadata": {},
   "outputs": [
    {
     "name": "stdout",
     "output_type": "stream",
     "text": [
      "TP: EG\n",
      "['EGq5Pt15' 'EGq5Pt30' 'EGq3Pt20' 'EGq2Pt10' 'EGq5' 'EGq3Pt40' 'EGq4'\n",
      " 'EGq2Pt15' 'EGq5Pt10' 'EGq2Pt20' 'EGq2Pt25' 'EGq3' 'EGq4Pt25' 'EGq5Pt20'\n",
      " 'EGq4Pt10' 'EGq4Pt15' 'EGq2Pt30' 'EGq2' 'EGq3Pt30' 'EGq4Pt30' 'EGq3Pt15'\n",
      " 'EGq4Pt40' 'EGq5Pt25' 'EGq3Pt10' 'EGq3Pt25' 'EGq5Pt40' 'EGq2Pt40'\n",
      " 'EGq4Pt20']\n",
      "['GENEtaD' 'GENPt15' 'GENEtaBCD' 'GENPt35' 'GENEtaDE' 'GENPt10to25'\n",
      " 'GENEtaBCPt15' 'GENPt40' 'nomatch' 'GEN' 'GENEtaDPt15' 'GENEtaBCDPt15'\n",
      " 'GENEtaBC' 'GENEtaDEPt15' 'GENPt30']\n",
      "TP: EGBRL\n",
      "['Pt10LooseTkID' 'Pt40' 'Pt40LooseTkID' 'Pt20LooseTkID' 'all' 'Pt20' 'Pt25'\n",
      " 'Pt30LooseTkID' 'Pt15LooseTkID' 'Pt30' 'Pt10' 'Pt25LooseTkID' 'Pt15'\n",
      " 'LooseTkID']\n",
      "['GENPt40' 'GENPt35' 'GENPt15' 'GEN' 'GENEtaF' 'GENPt10to25' 'GENPt30']\n",
      "TP: TkEleEL\n",
      "['EGq4Pt10' 'EGq4Pt20' 'EGq2Iso0p3' 'EGq5Pt25' 'EGq3Iso0p1' 'EGq2'\n",
      " 'EGq5Iso0p3' 'EGq5Pt10' 'EGq2Iso0p2' 'EGq5Iso0p1' 'EGq2Pt25' 'EGq4Pt30'\n",
      " 'EGq2Pt20' 'EGq3Pt10' 'EGq3Pt40' 'EGq5' 'EGq5Pt15' 'EGq3Pt15' 'EGq5Iso0p2'\n",
      " 'EGq2Pt30' 'EGq4Pt15' 'EGq4Iso0p2' 'EGq3Pt25' 'EGq3Iso0p2' 'EGq2Pt15'\n",
      " 'EGq5Pt30' 'EGq2Pt40' 'EGq4Pt25' 'EGq4' 'EGq2Pt10' 'EGq5Pt20' 'EGq2Iso0p1'\n",
      " 'EGq4Iso0p3' 'EGq3Pt20' 'EGq3Iso0p3' 'EGq4Pt40' 'EGq3Pt30' 'EGq4Iso0p1'\n",
      " 'EGq5Pt40' 'EGq3']\n",
      "['GENPt40' 'GENPt35' 'GENEtaBCDPt15' 'GENPt10to25' 'GENPt15' 'GENPt30'\n",
      " 'GEN' 'GENEtaBC' 'GENEtaBCPt15' 'GENEtaBCD']\n",
      "TP: TkEleELBRL\n",
      "['Pt10' 'Pt25' 'Pt40' 'Pt30' 'all' 'Pt15' 'Pt20']\n",
      "['GEN' 'GENPt30' 'GENPt15' 'GENEtaF' 'GENPt10to25' 'GENPt40' 'GENPt35']\n",
      "TP: TkEleELALL\n",
      "['Pt25' 'Pt20' 'Pt40' 'Pt25Iso0p1' 'all' 'Pt30LooseTkID' 'Pt10LooseTkID'\n",
      " 'Pt20LooseTkID' 'Pt30' 'Pt15LooseTkID' 'Pt40Iso0p1' 'Pt15' 'Pt30Iso0p1'\n",
      " 'Pt25LooseTkID' 'Pt10Iso0p1' 'LooseTkID' 'Iso0p1' 'Pt10' 'Pt15Iso0p1'\n",
      " 'Pt40LooseTkID' 'Pt20Iso0p1']\n",
      "['GENEtaBCD' 'GENEtaD' 'GENPt10to25' 'GENPt30' 'GENPt15' 'GEN' 'GENEtaF'\n",
      " 'GENEtaBC' 'GENPt40' 'GENPt35']\n"
     ]
    }
   ],
   "source": [
    "for tp in tps:\n",
    "    print 'TP: {}'.format(tp)\n",
    "    print histo_primitives[histo_primitives.tp == tp].tp_sel.unique()\n",
    "    print histo_primitives[histo_primitives.tp == tp].gen_sel.unique()"
   ]
  },
  {
   "cell_type": "markdown",
   "metadata": {},
   "source": []
  },
  {
   "cell_type": "code",
   "execution_count": 7,
   "metadata": {},
   "outputs": [
    {
     "name": "stdout",
     "output_type": "stream",
     "text": [
      "--- EGHistos\n",
      "# of plots: 6465\n",
      "# of primitives: 1293\n",
      "--- EGResoHistos\n",
      "# of plots: 10312\n",
      "# of primitives: 1289\n",
      "--- GenParticleHistos\n",
      "# of plots: 15468\n",
      "# of primitives: 1289\n",
      "--- EGHistos\n",
      "# of plots: 6465\n",
      "# of primitives: 1293\n",
      "--- EGResoHistos\n",
      "# of plots: 10312\n",
      "# of primitives: 1289\n",
      "--- GenParticleHistos\n",
      "# of plots: 15468\n",
      "# of primitives: 1289\n",
      "CPU times: user 10.7 s, sys: 618 ms, total: 11.3 s\n",
      "Wall time: 11.3 s\n"
     ]
    }
   ],
   "source": [
    "%%time\n",
    "\n",
    "import python.l1THistos as histos\n",
    "\n",
    "hplot = HPlot(samples, labels_dict)\n",
    "\n",
    "hplot.create_histo_proxies(histos.HistoSetEff)\n",
    "\n",
    "    \n",
    "# for tp in tps:\n",
    "#     hplot.cache_histo(classtype=histos.HistoSetEff, \n",
    "#                       samples=samples,\n",
    "#                       pus=[],\n",
    "#                       tps=[tp],\n",
    "#                       tp_sels=histo_primitives[histo_primitives.data == tp].data_sel.unique(),\n",
    "#                       gen_sels=gen_select[tp])\n",
    "\n"
   ]
  },
  {
   "cell_type": "code",
   "execution_count": 8,
   "metadata": {},
   "outputs": [
    {
     "name": "stdout",
     "output_type": "stream",
     "text": [
      "['__doc__', '__init__', '__module__', '__repr__', 'build_file_primitive_index', 'histo_file', 'histo_filename', 'label', 'name', 'open_file', 'print_file_primitive_index', 'type']\n"
     ]
    },
    {
     "data": {
      "text/plain": [
       "[<Sample ../plots1/histos_ele_flat2to100_PU0_eg_v121.root, ele-V9>,\n",
       " <Sample ../plots1/histos_ele_flat2to100_PU200_eg_v121.root, ele-V9>]"
      ]
     },
     "execution_count": 8,
     "metadata": {},
     "output_type": "execute_result"
    }
   ],
   "source": [
    "print dir(samples[0])\n",
    "# samples[0].histo_file.ls()\n",
    "samples"
   ]
  },
  {
   "cell_type": "code",
   "execution_count": 9,
   "metadata": {},
   "outputs": [
    {
     "name": "stdout",
     "output_type": "stream",
     "text": [
      "[<python.l1THistos.HistoSetEff instance at 0x11a0ff878>]\n"
     ]
    },
    {
     "data": {
      "text/plain": [
       "['__doc__',\n",
       " '__init__',\n",
       " '__module__',\n",
       " 'h_abseta',\n",
       " 'h_energy',\n",
       " 'h_eta',\n",
       " 'h_fBrem',\n",
       " 'h_pt',\n",
       " 'h_reachedEE']"
      ]
     },
     "execution_count": 9,
     "metadata": {},
     "output_type": "execute_result"
    }
   ],
   "source": [
    "hsets, labels, text = hplot.get_histo(histos.HistoSetEff, sample, ['PU200'], 'TkEleEL', 'EGq4Pt20', ['GENEtaBCD'], debug=False)\n",
    "print hsets\n",
    "hsets[0].name\n",
    "hsets[0].name\n",
    "dir(hsets[0].h_eff)"
   ]
  },
  {
   "cell_type": "code",
   "execution_count": 10,
   "metadata": {
    "scrolled": true
   },
   "outputs": [
    {
     "name": "stdout",
     "output_type": "stream",
     "text": [
      "Sample: ele-V9\n",
      "PU: PU0, TP: EG\n",
      "  EGq3Pt10 den -> EGq3\n",
      "  EGq3Pt25 den -> EGq3\n",
      "  EGq3Pt20 den -> EGq3\n",
      "  EGq4Pt25 den -> EGq4\n",
      "  EGq2Pt15 den -> EGq2\n",
      "  EGq5Pt30 den -> EGq5\n",
      "  EGq5Pt10 den -> EGq5\n",
      "  EGq2Pt30 den -> EGq2\n",
      "  EGq5Pt15 den -> EGq5\n",
      "  EGq5Pt40 den -> EGq5\n",
      "  EGq4Pt40 den -> EGq4\n",
      "  EGq3Pt40 den -> EGq3\n",
      "  EGq3Pt30 den -> EGq3\n",
      "  EGq3Pt15 den -> EGq3\n",
      "  EGq4Pt15 den -> EGq4\n",
      "  EGq2Pt20 den -> EGq2\n",
      "  EGq2Pt25 den -> EGq2\n",
      "  EGq5Pt25 den -> EGq5\n",
      "  EGq2Pt10 den -> EGq2\n",
      "  EGq4Pt20 den -> EGq4\n",
      "  EGq4Pt30 den -> EGq4\n",
      "  EGq5Pt20 den -> EGq5\n",
      "  EGq4Pt10 den -> EGq4\n",
      "  EGq2Pt40 den -> EGq2\n",
      "PU: PU0, TP: EGBRL\n",
      "  Pt30LooseTkID den -> all\n",
      "  Pt15 den -> all\n",
      "  Pt10 den -> all\n",
      "  Pt20LooseTkID den -> all\n",
      "  Pt30 den -> all\n",
      "  Pt25LooseTkID den -> all\n",
      "  Pt15LooseTkID den -> all\n",
      "  Pt25 den -> all\n",
      "  Pt40 den -> all\n",
      "  Pt40LooseTkID den -> all\n",
      "  Pt10LooseTkID den -> all\n",
      "  Pt20 den -> all\n",
      "PU: PU0, TP: TkEleEL\n",
      "  EGq2Pt10 den -> EGq2\n",
      "  EGq2Pt40 den -> EGq2\n",
      "  EGq5Pt15 den -> EGq5\n",
      "  EGq5Pt40 den -> EGq5\n",
      "  EGq2Pt30 den -> EGq2\n",
      "  EGq4Pt15 den -> EGq4\n",
      "  EGq5Pt30 den -> EGq5\n",
      "  EGq3Pt10 den -> EGq3\n",
      "  EGq3Pt40 den -> EGq3\n",
      "  EGq2Pt25 den -> EGq2\n",
      "  EGq5Pt10 den -> EGq5\n",
      "  EGq3Pt15 den -> EGq3\n",
      "  EGq5Pt20 den -> EGq5\n",
      "  EGq4Pt25 den -> EGq4\n",
      "  EGq4Pt40 den -> EGq4\n",
      "  EGq4Pt10 den -> EGq4\n",
      "  EGq2Pt15 den -> EGq2\n",
      "  EGq3Pt20 den -> EGq3\n",
      "  EGq3Pt30 den -> EGq3\n",
      "  EGq3Pt25 den -> EGq3\n",
      "  EGq2Pt20 den -> EGq2\n",
      "  EGq4Pt20 den -> EGq4\n",
      "  EGq5Pt25 den -> EGq5\n",
      "  EGq4Pt30 den -> EGq4\n",
      "PU: PU0, TP: TkEleELBRL\n",
      "  Pt20 den -> all\n",
      "  Pt25 den -> all\n",
      "  Pt10 den -> all\n",
      "  Pt30 den -> all\n",
      "  Pt40 den -> all\n",
      "  Pt15 den -> all\n",
      "PU: PU0, TP: TkEleELALL\n",
      "  Pt20Iso0p1 den -> all\n",
      "  Pt10Iso0p1 den -> all\n",
      "  Pt25 den -> all\n",
      "  Pt10LooseTkID den -> all\n",
      "  Pt15Iso0p1 den -> all\n",
      "  Pt40 den -> all\n",
      "  Pt15LooseTkID den -> all\n",
      "  Pt20LooseTkID den -> all\n",
      "  Pt30 den -> all\n",
      "  Pt20 den -> all\n",
      "  Pt30Iso0p1 den -> all\n",
      "  Pt25LooseTkID den -> all\n",
      "  Pt40Iso0p1 den -> all\n",
      "  Pt40LooseTkID den -> all\n",
      "  Pt30LooseTkID den -> all\n",
      "  Pt25Iso0p1 den -> all\n",
      "  Pt10 den -> all\n",
      "  Pt15 den -> all\n",
      "PU: PU200, TP: EG\n",
      "  EGq3Pt10 den -> EGq3\n",
      "  EGq3Pt25 den -> EGq3\n",
      "  EGq3Pt20 den -> EGq3\n",
      "  EGq4Pt25 den -> EGq4\n",
      "  EGq2Pt15 den -> EGq2\n",
      "  EGq5Pt30 den -> EGq5\n",
      "  EGq5Pt10 den -> EGq5\n",
      "  EGq2Pt30 den -> EGq2\n",
      "  EGq5Pt15 den -> EGq5\n",
      "  EGq5Pt40 den -> EGq5\n",
      "  EGq4Pt40 den -> EGq4\n",
      "  EGq3Pt40 den -> EGq3\n",
      "  EGq3Pt30 den -> EGq3\n",
      "  EGq3Pt15 den -> EGq3\n",
      "  EGq4Pt15 den -> EGq4\n",
      "  EGq2Pt20 den -> EGq2\n",
      "  EGq2Pt25 den -> EGq2\n",
      "  EGq5Pt25 den -> EGq5\n",
      "  EGq2Pt10 den -> EGq2\n",
      "  EGq4Pt20 den -> EGq4\n",
      "  EGq4Pt30 den -> EGq4\n",
      "  EGq5Pt20 den -> EGq5\n",
      "  EGq4Pt10 den -> EGq4\n",
      "  EGq2Pt40 den -> EGq2\n",
      "PU: PU200, TP: EGBRL\n",
      "  Pt30LooseTkID den -> all\n",
      "  Pt15 den -> all\n",
      "  Pt10 den -> all\n",
      "  Pt20LooseTkID den -> all\n",
      "  Pt30 den -> all\n",
      "  Pt25LooseTkID den -> all\n",
      "  Pt15LooseTkID den -> all\n",
      "  Pt25 den -> all\n",
      "  Pt40 den -> all\n",
      "  Pt40LooseTkID den -> all\n",
      "  Pt10LooseTkID den -> all\n",
      "  Pt20 den -> all\n",
      "PU: PU200, TP: TkEleEL\n",
      "  EGq2Pt10 den -> EGq2\n",
      "  EGq2Pt40 den -> EGq2\n",
      "  EGq5Pt15 den -> EGq5\n",
      "  EGq5Pt40 den -> EGq5\n",
      "  EGq2Pt30 den -> EGq2\n",
      "  EGq4Pt15 den -> EGq4\n",
      "  EGq5Pt30 den -> EGq5\n",
      "  EGq3Pt10 den -> EGq3\n",
      "  EGq3Pt40 den -> EGq3\n",
      "  EGq2Pt25 den -> EGq2\n",
      "  EGq5Pt10 den -> EGq5\n",
      "  EGq3Pt15 den -> EGq3\n",
      "  EGq5Pt20 den -> EGq5\n",
      "  EGq4Pt25 den -> EGq4\n",
      "  EGq4Pt40 den -> EGq4\n",
      "  EGq4Pt10 den -> EGq4\n",
      "  EGq2Pt15 den -> EGq2\n",
      "  EGq3Pt20 den -> EGq3\n",
      "  EGq3Pt30 den -> EGq3\n",
      "  EGq3Pt25 den -> EGq3\n",
      "  EGq2Pt20 den -> EGq2\n",
      "  EGq4Pt20 den -> EGq4\n",
      "  EGq5Pt25 den -> EGq5\n",
      "  EGq4Pt30 den -> EGq4\n",
      "PU: PU200, TP: TkEleELBRL\n",
      "  Pt20 den -> all\n",
      "  Pt25 den -> all\n",
      "  Pt10 den -> all\n",
      "  Pt30 den -> all\n",
      "  Pt40 den -> all\n",
      "  Pt15 den -> all\n",
      "PU: PU200, TP: TkEleELALL\n",
      "  Pt20Iso0p1 den -> all\n",
      "  Pt10Iso0p1 den -> all\n",
      "  Pt25 den -> all\n",
      "  Pt10LooseTkID den -> all\n",
      "  Pt15Iso0p1 den -> all\n",
      "  Pt40 den -> all\n",
      "  Pt15LooseTkID den -> all\n",
      "  Pt20LooseTkID den -> all\n",
      "  Pt30 den -> all\n",
      "  Pt20 den -> all\n",
      "  Pt30Iso0p1 den -> all\n",
      "  Pt25LooseTkID den -> all\n",
      "  Pt40Iso0p1 den -> all\n",
      "  Pt40LooseTkID den -> all\n",
      "  Pt30LooseTkID den -> all\n",
      "  Pt25Iso0p1 den -> all\n",
      "  Pt10 den -> all\n",
      "  Pt15 den -> all\n",
      "CPU times: user 2min 21s, sys: 18.2 s, total: 2min 39s\n",
      "Wall time: 2min 46s\n"
     ]
    }
   ],
   "source": [
    "%%time\n",
    "\n",
    "for smp in hplot.data['sample'].unique():\n",
    "    print 'Sample: {}'.format(smp)\n",
    "    for pu in hplot.data[(hplot.data['sample'] == smp)].pu.unique():\n",
    "        for tp in tps:\n",
    "#         for tp in ['EG', 'TkEleEL']:\n",
    "            print 'PU: {}, TP: {}'.format(pu, tp)\n",
    "            for tp_sel in hplot.data[(hplot.data['sample'] == smp) & (hplot.data.pu == pu) & (hplot.data.tp == tp)].tp_sel.unique():\n",
    "                if 'Pt' not in tp_sel:\n",
    "                    continue\n",
    "#                 tp_sel_den = 'all'\n",
    "                # print tp_sel\n",
    "                tp_sel_den = tp_sel.split('Pt')[0]\n",
    "                if tp_sel_den == '':\n",
    "                    tp_sel_den = 'all'\n",
    "                print '  {} den -> {}'.format(tp_sel, tp_sel_den) \n",
    "                for gen_sel in hplot.data[(hplot.data['sample'] == smp) & (hplot.data.pu == pu) & (hplot.data.tp == tp) & (hplot.data.tp_sel == tp_sel)].gen_sel.unique():\n",
    "                    if gen_sel == 'nomatch' or 'Pt' in gen_sel:\n",
    "                        continue\n",
    "#                     print gen_sel\n",
    "                    hsetden = hplot.get_histo(histos.HistoSetEff, smp, pu, tp, tp_sel_den, gen_sel)\n",
    "                    hset = hplot.get_histo(histos.HistoSetEff, smp, pu, tp, tp_sel, gen_sel)\n",
    "                    hset[0][0].computeTurnOn(hsetden[0][0].h_num)\n"
   ]
  },
  {
   "cell_type": "code",
   "execution_count": 11,
   "metadata": {},
   "outputs": [
    {
     "data": {
      "text/html": [
       "<div>\n",
       "<style scoped>\n",
       "    .dataframe tbody tr th:only-of-type {\n",
       "        vertical-align: middle;\n",
       "    }\n",
       "\n",
       "    .dataframe tbody tr th {\n",
       "        vertical-align: top;\n",
       "    }\n",
       "\n",
       "    .dataframe thead th {\n",
       "        text-align: right;\n",
       "    }\n",
       "</style>\n",
       "<table border=\"1\" class=\"dataframe\">\n",
       "  <thead>\n",
       "    <tr style=\"text-align: right;\">\n",
       "      <th></th>\n",
       "      <th>sample</th>\n",
       "      <th>pu</th>\n",
       "      <th>tp</th>\n",
       "      <th>tp_sel</th>\n",
       "      <th>gen_sel</th>\n",
       "      <th>classtype</th>\n",
       "      <th>histo</th>\n",
       "    </tr>\n",
       "  </thead>\n",
       "  <tbody>\n",
       "    <tr>\n",
       "      <th>0</th>\n",
       "      <td>ele-V9</td>\n",
       "      <td>PU0</td>\n",
       "      <td>EGALL</td>\n",
       "      <td>Pt40</td>\n",
       "      <td>GENEtaBCD</td>\n",
       "      <td>python.l1THistos.HistoSetEff</td>\n",
       "      <td>&lt;drawingTools.HProxy instance at 0x10ba8e758&gt;</td>\n",
       "    </tr>\n",
       "    <tr>\n",
       "      <th>1</th>\n",
       "      <td>ele-V9</td>\n",
       "      <td>PU0</td>\n",
       "      <td>EG</td>\n",
       "      <td>EGq3Pt10</td>\n",
       "      <td>GENEtaBCD</td>\n",
       "      <td>python.l1THistos.HistoSetEff</td>\n",
       "      <td>&lt;drawingTools.HProxy instance at 0x11ace6e18&gt;</td>\n",
       "    </tr>\n",
       "    <tr>\n",
       "      <th>2</th>\n",
       "      <td>ele-V9</td>\n",
       "      <td>PU0</td>\n",
       "      <td>EGALL</td>\n",
       "      <td>all</td>\n",
       "      <td>GEN</td>\n",
       "      <td>python.l1THistos.HistoSetEff</td>\n",
       "      <td>&lt;drawingTools.HProxy instance at 0x11ace66c8&gt;</td>\n",
       "    </tr>\n",
       "    <tr>\n",
       "      <th>3</th>\n",
       "      <td>ele-V9</td>\n",
       "      <td>PU0</td>\n",
       "      <td>TkEleEL</td>\n",
       "      <td>EGq4Iso0p2</td>\n",
       "      <td>GENEtaBC</td>\n",
       "      <td>python.l1THistos.HistoSetEff</td>\n",
       "      <td>&lt;drawingTools.HProxy instance at 0x10d435320&gt;</td>\n",
       "    </tr>\n",
       "    <tr>\n",
       "      <th>4</th>\n",
       "      <td>ele-V9</td>\n",
       "      <td>PU0</td>\n",
       "      <td>TkEleEL</td>\n",
       "      <td>EGq2Pt10</td>\n",
       "      <td>GENEtaBCDPt15</td>\n",
       "      <td>python.l1THistos.HistoSetEff</td>\n",
       "      <td>&lt;drawingTools.HProxy instance at 0x10d093050&gt;</td>\n",
       "    </tr>\n",
       "    <tr>\n",
       "      <th>5</th>\n",
       "      <td>ele-V9</td>\n",
       "      <td>PU0</td>\n",
       "      <td>EG</td>\n",
       "      <td>EGq3Pt25</td>\n",
       "      <td>GENPt30</td>\n",
       "      <td>python.l1THistos.HistoSetEff</td>\n",
       "      <td>&lt;drawingTools.HProxy instance at 0x11e8f4c68&gt;</td>\n",
       "    </tr>\n",
       "    <tr>\n",
       "      <th>6</th>\n",
       "      <td>ele-V9</td>\n",
       "      <td>PU0</td>\n",
       "      <td>TkEleEL</td>\n",
       "      <td>EGq5Iso0p3</td>\n",
       "      <td>GENEtaBCDPt15</td>\n",
       "      <td>python.l1THistos.HistoSetEff</td>\n",
       "      <td>&lt;drawingTools.HProxy instance at 0x10d81b050&gt;</td>\n",
       "    </tr>\n",
       "    <tr>\n",
       "      <th>7</th>\n",
       "      <td>ele-V9</td>\n",
       "      <td>PU0</td>\n",
       "      <td>TkEleEL</td>\n",
       "      <td>EGq2Pt40</td>\n",
       "      <td>GENEtaBCPt15</td>\n",
       "      <td>python.l1THistos.HistoSetEff</td>\n",
       "      <td>&lt;drawingTools.HProxy instance at 0x11ace6680&gt;</td>\n",
       "    </tr>\n",
       "    <tr>\n",
       "      <th>8</th>\n",
       "      <td>ele-V9</td>\n",
       "      <td>PU0</td>\n",
       "      <td>TkEleEL</td>\n",
       "      <td>EGq5Pt15</td>\n",
       "      <td>GENPt15</td>\n",
       "      <td>python.l1THistos.HistoSetEff</td>\n",
       "      <td>&lt;drawingTools.HProxy instance at 0x11e7c9ab8&gt;</td>\n",
       "    </tr>\n",
       "    <tr>\n",
       "      <th>9</th>\n",
       "      <td>ele-V9</td>\n",
       "      <td>PU0</td>\n",
       "      <td>TkEleELALL</td>\n",
       "      <td>Pt20Iso0p1</td>\n",
       "      <td>GENPt10to25</td>\n",
       "      <td>python.l1THistos.HistoSetEff</td>\n",
       "      <td>&lt;drawingTools.HProxy instance at 0x1229ee3b0&gt;</td>\n",
       "    </tr>\n",
       "  </tbody>\n",
       "</table>\n",
       "</div>"
      ],
      "text/plain": [
       "   sample   pu          tp      tp_sel        gen_sel  \\\n",
       "0  ele-V9  PU0       EGALL        Pt40      GENEtaBCD   \n",
       "1  ele-V9  PU0          EG    EGq3Pt10      GENEtaBCD   \n",
       "2  ele-V9  PU0       EGALL         all            GEN   \n",
       "3  ele-V9  PU0     TkEleEL  EGq4Iso0p2       GENEtaBC   \n",
       "4  ele-V9  PU0     TkEleEL    EGq2Pt10  GENEtaBCDPt15   \n",
       "5  ele-V9  PU0          EG    EGq3Pt25        GENPt30   \n",
       "6  ele-V9  PU0     TkEleEL  EGq5Iso0p3  GENEtaBCDPt15   \n",
       "7  ele-V9  PU0     TkEleEL    EGq2Pt40   GENEtaBCPt15   \n",
       "8  ele-V9  PU0     TkEleEL    EGq5Pt15        GENPt15   \n",
       "9  ele-V9  PU0  TkEleELALL  Pt20Iso0p1    GENPt10to25   \n",
       "\n",
       "                      classtype                                          histo  \n",
       "0  python.l1THistos.HistoSetEff  <drawingTools.HProxy instance at 0x10ba8e758>  \n",
       "1  python.l1THistos.HistoSetEff  <drawingTools.HProxy instance at 0x11ace6e18>  \n",
       "2  python.l1THistos.HistoSetEff  <drawingTools.HProxy instance at 0x11ace66c8>  \n",
       "3  python.l1THistos.HistoSetEff  <drawingTools.HProxy instance at 0x10d435320>  \n",
       "4  python.l1THistos.HistoSetEff  <drawingTools.HProxy instance at 0x10d093050>  \n",
       "5  python.l1THistos.HistoSetEff  <drawingTools.HProxy instance at 0x11e8f4c68>  \n",
       "6  python.l1THistos.HistoSetEff  <drawingTools.HProxy instance at 0x10d81b050>  \n",
       "7  python.l1THistos.HistoSetEff  <drawingTools.HProxy instance at 0x11ace6680>  \n",
       "8  python.l1THistos.HistoSetEff  <drawingTools.HProxy instance at 0x11e7c9ab8>  \n",
       "9  python.l1THistos.HistoSetEff  <drawingTools.HProxy instance at 0x1229ee3b0>  "
      ]
     },
     "execution_count": 11,
     "metadata": {},
     "output_type": "execute_result"
    }
   ],
   "source": [
    "hplot.data[:10]"
   ]
  },
  {
   "cell_type": "code",
   "execution_count": 12,
   "metadata": {},
   "outputs": [
    {
     "data": {
      "text/plain": [
       "array(['ele-V9'], dtype=object)"
      ]
     },
     "execution_count": 12,
     "metadata": {},
     "output_type": "execute_result"
    }
   ],
   "source": [
    "hplot.data['sample'].unique()"
   ]
  },
  {
   "cell_type": "code",
   "execution_count": 13,
   "metadata": {},
   "outputs": [
    {
     "data": {
      "text/plain": [
       "array(['EGALL', 'EG', 'TkEleEL', 'TkEleELALL', 'EGBRL', 'TkEleELBRL'], dtype=object)"
      ]
     },
     "execution_count": 13,
     "metadata": {},
     "output_type": "execute_result"
    }
   ],
   "source": [
    "hplot.data['tp'].unique()"
   ]
  },
  {
   "cell_type": "code",
   "execution_count": 14,
   "metadata": {},
   "outputs": [
    {
     "data": {
      "text/plain": [
       "array([], dtype=object)"
      ]
     },
     "execution_count": 14,
     "metadata": {},
     "output_type": "execute_result"
    }
   ],
   "source": [
    "hplot.data[hplot.data.tp == 'L1TrkEmu'].tp_sel.unique()"
   ]
  },
  {
   "cell_type": "code",
   "execution_count": 15,
   "metadata": {},
   "outputs": [
    {
     "data": {
      "text/plain": [
       "array(['EGq4Iso0p2', 'EGq2Pt10', 'EGq5Iso0p3', 'EGq2Pt40', 'EGq5Pt15',\n",
       "       'EGq5Pt40', 'EGq2Pt30', 'EGq4Pt15', 'EGq5Pt30', 'EGq3Pt10',\n",
       "       'EGq4Iso0p3', 'EGq4', 'EGq3Iso0p2', 'EGq3Pt40', 'EGq5Iso0p2',\n",
       "       'EGq2Pt25', 'EGq3Iso0p3', 'EGq2Iso0p2', 'EGq5Pt10', 'EGq2Iso0p1',\n",
       "       'EGq3Pt15', 'EGq3Iso0p1', 'EGq5Pt20', 'EGq4Pt25', 'EGq4Pt40',\n",
       "       'EGq5', 'EGq4Pt10', 'EGq4Iso0p1', 'EGq5Iso0p1', 'EGq2Pt15',\n",
       "       'EGq3Pt20', 'EGq3Pt30', 'EGq3Pt25', 'EGq2Pt20', 'EGq2', 'EGq4Pt20',\n",
       "       'EGq3', 'EGq5Pt25', 'EGq2Iso0p3', 'EGq4Pt30'], dtype=object)"
      ]
     },
     "execution_count": 15,
     "metadata": {},
     "output_type": "execute_result"
    }
   ],
   "source": [
    "hplot.data[hplot.data.tp == 'TkEleEL'].tp_sel.unique()"
   ]
  },
  {
   "cell_type": "code",
   "execution_count": 16,
   "metadata": {},
   "outputs": [],
   "source": [
    "# sample='ele'"
   ]
  },
  {
   "cell_type": "code",
   "execution_count": 17,
   "metadata": {},
   "outputs": [
    {
     "name": "stdout",
     "output_type": "stream",
     "text": [
      "[<python.l1THistos.HistoSetEff instance at 0x122d8a9e0>]\n",
      "['__doc__', '__init__', '__module__', 'h_abseta', 'h_energy', 'h_eta', 'h_fBrem', 'h_pt', 'h_reachedEE']\n"
     ]
    }
   ],
   "source": [
    "hsets, labels, text = hplot.get_histo(histos.HistoSetEff, sample, ['PU200'], 'EG', 'EGq5Pt25', ['GENEtaBC'], debug=False)\n",
    "print hsets\n",
    "hsets[0].name\n",
    "print dir(hsets[0].h_eff)\n"
   ]
  },
  {
   "cell_type": "markdown",
   "metadata": {},
   "source": [
    "## Effinciency vs $\\eta$"
   ]
  },
  {
   "cell_type": "code",
   "execution_count": 18,
   "metadata": {},
   "outputs": [
    {
     "data": {
      "text/plain": [
       "['__doc__',\n",
       " '__init__',\n",
       " '__module__',\n",
       " 'create_histo_proxies',\n",
       " 'data',\n",
       " 'get_histo',\n",
       " 'labels_dict',\n",
       " 'samples_']"
      ]
     },
     "execution_count": 18,
     "metadata": {},
     "output_type": "execute_result"
    }
   ],
   "source": [
    "dir(hplot)\n"
   ]
  },
  {
   "cell_type": "code",
   "execution_count": 19,
   "metadata": {},
   "outputs": [],
   "source": [
    "# newconfig=tdr_config\n",
    "# newconfig.legend_size=(0.5, 0.2)\n",
    "# newconfig.legend_position=(0.4, 0.2)\n",
    "\n",
    "# dm = DrawMachine(newconfig)\n",
    "# hsets, labels, text = hplot.get_histo(histos.HistoSetEff, ['ele-V9'], ['PU200'], ['EG'], 'EGq5Pt25', 'GENPt30', debug=False)\n",
    "# dm.addHistos([his.h_eff.h_abseta.CreateGraph() for his in hsets], ['EG calo-only'])\n",
    "\n",
    "# # hsets, labels, text = hplot.get_histo(histos.HistoSetEff, ['hybrid'], ['PU200'], ['L1Trk', ], ['Pt10'], 'GENPt30', debug=False)\n",
    "# # dm.addHistos([his.h_eff.h_abseta.CreateGraph() for his in hsets], ['L1 tracks (p_{T} > 10 GeV)'])\n",
    "# hsets, labels, text = hplot.get_histo(histos.HistoSetEff, ['ele-V9'], ['PU200'], ['TkEle', 'TkEleEL'], 'EGq5Pt25', 'GENPt30', debug=False)\n",
    "# dm.addHistos([his.h_eff.h_abseta.CreateGraph() for his in hsets], ['EG track-match', 'EG track-match (Elliptic cut)'])\n",
    "\n",
    "\n",
    "# dm.draw(text='EG endcap, p_{T}^{GEN}>25GeV', x_min=1.5, x_max=3.2, y_min=0.5, y_max=1.1, v_lines=[1.52, 2.4])\n",
    "# dm.write(name='egEndcap_matchingEffBreakdown')"
   ]
  },
  {
   "cell_type": "code",
   "execution_count": 20,
   "metadata": {},
   "outputs": [
    {
     "data": {
      "text/plain": [
       "<drawingTools.DrawMachine at 0x11acc69d0>"
      ]
     },
     "execution_count": 20,
     "metadata": {},
     "output_type": "execute_result"
    },
    {
     "data": {
      "text/html": [
       "\n",
       "<div id=\"root_plot_1\"\n",
       "     style=\"width: 796px; height: 572px\">\n",
       "</div>\n",
       "\n",
       "<script>\n",
       " requirejs.config({\n",
       "     paths: {\n",
       "       'JSRootCore' : 'https://root.cern.ch/js/notebook//scripts/JSRootCore',\n",
       "     }\n",
       "   });\n",
       " require(['JSRootCore'],\n",
       "     function(Core) {\n",
       "       var obj = Core.JSONR_unref({\"_typename\":\"TCanvas\",\"fUniqueID\":0,\"fBits\":53673992,\"fLineColor\":1,\"fLineStyle\":1,\"fLineWidth\":1,\"fFillColor\":0,\"fFillStyle\":1001,\"fLeftMargin\":0.13,\"fRightMargin\":0.3,\"fBottomMargin\":0.13,\"fTopMargin\":0.1,\"fXfile\":2,\"fYfile\":2,\"fAfile\":1,\"fXstat\":0.99,\"fYstat\":0.99,\"fAstat\":2,\"fFrameFillColor\":0,\"fFrameLineColor\":1,\"fFrameFillStyle\":1001,\"fFrameLineStyle\":1,\"fFrameLineWidth\":1,\"fFrameBorderSize\":1,\"fFrameBorderMode\":0,\"fX1\":0.764736853332731,\"fY1\":-0.185714283502611,\"fX2\":4.34368426666366,\"fY2\":1.24285714852456,\"fXtoAbsPixelk\":-170.086420951052,\"fXtoPixelk\":-170.086420951052,\"fXtoPixel\":222.411761914983,\"fYtoAbsPixelk\":497.640051065433,\"fYtoPixelk\":497.640051065433,\"fYtoPixel\":-400.399999031424,\"fUtoAbsPixelk\":5e-5,\"fUtoPixelk\":5e-5,\"fUtoPixel\":796,\"fVtoAbsPixelk\":572.00005,\"fVtoPixelk\":572,\"fVtoPixel\":-572,\"fAbsPixeltoXk\":0.764736853332731,\"fPixeltoXk\":0.764736853332731,\"fPixeltoX\":0.00449616509212428,\"fAbsPixeltoYk\":1.24285714852456,\"fPixeltoYk\":-0.185714283502611,\"fPixeltoY\":-0.00249750250354401,\"fXlowNDC\":0,\"fYlowNDC\":0,\"fXUpNDC\":0,\"fYUpNDC\":0,\"fWNDC\":1,\"fHNDC\":1,\"fAbsXlowNDC\":0,\"fAbsYlowNDC\":0,\"fAbsWNDC\":1,\"fAbsHNDC\":1,\"fUxmin\":1.23,\"fUymin\":0,\"fUxmax\":3.27,\"fUymax\":1.1,\"fTheta\":30,\"fPhi\":30,\"fAspectRatio\":0,\"fNumber\":0,\"fTickx\":0,\"fTicky\":0,\"fLogx\":0,\"fLogy\":0,\"fLogz\":0,\"fPadPaint\":0,\"fCrosshair\":0,\"fCrosshairPos\":0,\"fBorderSize\":2,\"fBorderMode\":0,\"fModified\":false,\"fGridx\":false,\"fGridy\":false,\"fAbsCoord\":false,\"fEditable\":true,\"fFixedAspectRatio\":false,\"fPrimitives\":{\"_typename\":\"TList\",\"name\":\"TList\",\"arr\":[{\"_typename\":\"TFrame\",\"fUniqueID\":0,\"fBits\":50331656,\"fLineColor\":1,\"fLineStyle\":1,\"fLineWidth\":1,\"fFillColor\":0,\"fFillStyle\":1001,\"fX1\":1.23,\"fY1\":0,\"fX2\":3.27,\"fY2\":1.1,\"fBorderSize\":1,\"fBorderMode\":0},{\"_typename\":\"TGraphAsymmErrors\",\"fUniqueID\":0,\"fBits\":50332680,\"fName\":\"ec6c89\",\"fTitle\":\"; |#eta^{GEN}|;\",\"fLineColor\":1,\"fLineStyle\":1,\"fLineWidth\":1,\"fFillColor\":0,\"fFillStyle\":1001,\"fMarkerColor\":1,\"fMarkerStyle\":8,\"fMarkerSize\":0.5,\"fNpoints\":17,\"fX\":[1.45,1.55,1.65,1.75,1.85,1.95,2.05,2.15,2.25,2.35,2.45,2.55,2.65,2.75,2.85,2.95,3.05],\"fY\":[0.0012666244458518,0.695126419934042,0.86583522297808,0.864394488759971,0.87956487956488,0.864432597105864,0.878280715100799,0.857254290171607,0.852789869410368,0.815758526068209,0.290361445783133,0.00164338537387017,0,0,0,0,0],\"fFunctions\":{\"_typename\":\"TList\",\"name\":\"TList\",\"arr\":[],\"opt\":[]},\"fHistogram\":{\"_typename\":\"TH1F\",\"fUniqueID\":0,\"fBits\":50332160,\"fName\":\"ec6c89\",\"fTitle\":\"\",\"fLineColor\":602,\"fLineStyle\":1,\"fLineWidth\":1,\"fFillColor\":0,\"fFillStyle\":1001,\"fMarkerColor\":1,\"fMarkerStyle\":1,\"fMarkerSize\":1,\"fNcells\":102,\"fXaxis\":{\"_typename\":\"TAxis\",\"fUniqueID\":0,\"fBits\":50331656,\"fName\":\"xaxis\",\"fTitle\":\" |#eta^{GEN}|\",\"fNdivisions\":510,\"fAxisColor\":1,\"fLabelColor\":1,\"fLabelFont\":42,\"fLabelOffset\":0.005,\"fLabelSize\":0.035,\"fTickLength\":0.03,\"fTitleOffset\":1.4,\"fTitleSize\":0.035,\"fTitleColor\":1,\"fTitleFont\":42,\"fNbins\":100,\"fXmin\":1.23,\"fXmax\":3.27,\"fXbins\":[],\"fFirst\":0,\"fLast\":0,\"fBits2\":0,\"fTimeDisplay\":false,\"fTimeFormat\":\"\",\"fLabels\":null,\"fModLabs\":null},\"fYaxis\":{\"_typename\":\"TAxis\",\"fUniqueID\":0,\"fBits\":50331656,\"fName\":\"yaxis\",\"fTitle\":\"\",\"fNdivisions\":510,\"fAxisColor\":1,\"fLabelColor\":1,\"fLabelFont\":42,\"fLabelOffset\":0.005,\"fLabelSize\":0.035,\"fTickLength\":0.03,\"fTitleOffset\":0,\"fTitleSize\":0.035,\"fTitleColor\":1,\"fTitleFont\":42,\"fNbins\":1,\"fXmin\":0,\"fXmax\":0.974624401832365,\"fXbins\":[],\"fFirst\":0,\"fLast\":0,\"fBits2\":0,\"fTimeDisplay\":false,\"fTimeFormat\":\"\",\"fLabels\":null,\"fModLabs\":null},\"fZaxis\":{\"_typename\":\"TAxis\",\"fUniqueID\":0,\"fBits\":50331648,\"fName\":\"zaxis\",\"fTitle\":\"\",\"fNdivisions\":510,\"fAxisColor\":1,\"fLabelColor\":1,\"fLabelFont\":42,\"fLabelOffset\":0.005,\"fLabelSize\":0.035,\"fTickLength\":0.03,\"fTitleOffset\":1,\"fTitleSize\":0.035,\"fTitleColor\":1,\"fTitleFont\":42,\"fNbins\":1,\"fXmin\":0,\"fXmax\":1,\"fXbins\":[],\"fFirst\":0,\"fLast\":0,\"fBits2\":0,\"fTimeDisplay\":false,\"fTimeFormat\":\"\",\"fLabels\":null,\"fModLabs\":null},\"fBarOffset\":0,\"fBarWidth\":1000,\"fEntries\":0,\"fTsumw\":0,\"fTsumw2\":0,\"fTsumwx\":0,\"fTsumwx2\":0,\"fMaximum\":1.1,\"fMinimum\":0,\"fNormFactor\":0,\"fContour\":[],\"fSumw2\":[],\"fOption\":\"\",\"fFunctions\":{\"_typename\":\"TList\",\"name\":\"TList\",\"arr\":[],\"opt\":[]},\"fBufferSize\":0,\"fBuffer\":[],\"fBinStatErrOpt\":0,\"fStatOverflows\":2,\"fArray\":[0,0,0,0,0,0,0,0,0,0,0,0,0,0,0,0,0,0,0,0,0,0,0,0,0,0,0,0,0,0,0,0,0,0,0,0,0,0,0,0,0,0,0,0,0,0,0,0,0,0,0,0,0,0,0,0,0,0,0,0,0,0,0,0,0,0,0,0,0,0,0,0,0,0,0,0,0,0,0,0,0,0,0,0,0,0,0,0,0,0,0,0,0,0,0,0,0,0,0,0,0,0]},\"fMinimum\":-1111,\"fMaximum\":-1111,\"fEXlow\":[0.05,0.05,0.05,0.05,0.05,0.05,0.0499999999999998,0.0499999999999998,0.0499999999999998,0.0499999999999998,0.0499999999999998,0.0499999999999998,0.0499999999999998,0.0499999999999998,0.0499999999999998,0.0499999999999998,0.0499999999999998],\"fEXhigh\":[0.05,0.05,0.05,0.05,0.05,0.05,0.0500000000000002,0.0500000000000002,0.0500000000000002,0.0500000000000002,0.0500000000000002,0.0500000000000002,0.0500000000000002,0.0500000000000002,0.0500000000000002,0.0500000000000002,0.0500000000000002],\"fEYlow\":[8.18080482788381e-4,0.00906701522645048,0.00695662891638016,0.00683595174058516,0.00676109121291346,0.00701301997391068,0.006714903945366,0.00724615369679793,0.00738915152336495,0.00799771715142605,0.00920991993277176,7.86338202947952e-4,0,0,0,0,0],\"fEYhigh\":[0.00166813608953263,0.00892107213831816,0.00667228354077665,0.00656441317504253,0.0064573039190885,0.0067276127472814,0.00641860799334382,0.00695968116562085,0.00710216138091047,0.00774389691316768,0.00938197967661619,0.00129749384450676,7.36137575693496e-4,7.58270935378779e-4,7.91183686926042e-4,7.76500748997812e-4,8.33071384004181e-4]},{\"_typename\":\"TLatex\",\"fUniqueID\":0,\"fBits\":50348040,\"fName\":\"\",\"fTitle\":\"PU200, TkEle Ell. match, hwQual 5, p_{T}^{L1}>=10GeV, p_{T}^{GEN}>=15GeV\",\"fTextAngle\":0,\"fTextSize\":0.03,\"fTextAlign\":11,\"fTextColor\":1,\"fTextFont\":62,\"fX\":0.15,\"fY\":0.85,\"fLineColor\":1,\"fLineStyle\":1,\"fLineWidth\":2,\"fLimitFactorSize\":3,\"fOriginSize\":0.04},{\"_typename\":\"TLatex\",\"fUniqueID\":0,\"fBits\":50331656,\"fName\":\"\",\"fTitle\":\"\",\"fTextAngle\":0,\"fTextSize\":0.03,\"fTextAlign\":11,\"fTextColor\":1,\"fTextFont\":62,\"fX\":0,\"fY\":0,\"fLineColor\":1,\"fLineStyle\":1,\"fLineWidth\":2,\"fLimitFactorSize\":3,\"fOriginSize\":0.04},{\"_typename\":\"TLine\",\"fUniqueID\":0,\"fBits\":50331656,\"fLineColor\":1,\"fLineStyle\":2,\"fLineWidth\":1,\"fX1\":-2.8,\"fY1\":0,\"fX2\":-2.8,\"fY2\":1.1},{\"_typename\":\"TLine\",\"fUniqueID\":0,\"fBits\":50331656,\"fLineColor\":1,\"fLineStyle\":2,\"fLineWidth\":1,\"fX1\":-2.4,\"fY1\":0,\"fX2\":-2.4,\"fY2\":1.1},{\"_typename\":\"TLine\",\"fUniqueID\":0,\"fBits\":50331656,\"fLineColor\":1,\"fLineStyle\":2,\"fLineWidth\":1,\"fX1\":-1.7,\"fY1\":0,\"fX2\":-1.7,\"fY2\":1.1},{\"_typename\":\"TLine\",\"fUniqueID\":0,\"fBits\":50331656,\"fLineColor\":1,\"fLineStyle\":2,\"fLineWidth\":1,\"fX1\":-1.52,\"fY1\":0,\"fX2\":-1.52,\"fY2\":1.1},{\"_typename\":\"TLine\",\"fUniqueID\":0,\"fBits\":50331656,\"fLineColor\":1,\"fLineStyle\":2,\"fLineWidth\":1,\"fX1\":1.52,\"fY1\":0,\"fX2\":1.52,\"fY2\":1.1},{\"_typename\":\"TLine\",\"fUniqueID\":0,\"fBits\":50331656,\"fLineColor\":1,\"fLineStyle\":2,\"fLineWidth\":1,\"fX1\":1.7,\"fY1\":0,\"fX2\":1.7,\"fY2\":1.1},{\"_typename\":\"TLine\",\"fUniqueID\":0,\"fBits\":50331656,\"fLineColor\":1,\"fLineStyle\":2,\"fLineWidth\":1,\"fX1\":2.4,\"fY1\":0,\"fX2\":2.4,\"fY2\":1.1},{\"_typename\":\"TLine\",\"fUniqueID\":0,\"fBits\":50331656,\"fLineColor\":1,\"fLineStyle\":2,\"fLineWidth\":1,\"fX1\":2.8,\"fY1\":0,\"fX2\":2.8,\"fY2\":1.1}],\"opt\":[\"\",\"pa\",\"same\",\"same\",\"same\",\"same\",\"same\",\"same\",\"same\",\"same\",\"same\",\"same\"]},\"fExecs\":null,\"fName\":\"c_aac231\",\"fTitle\":\"c_aac231\",\"fNumPaletteColor\":0,\"fNextPaletteColor\":0,\"fDISPLAY\":\"$DISPLAY\",\"fDoubleBuffer\":0,\"fRetained\":true,\"fXsizeUser\":0,\"fYsizeUser\":0,\"fXsizeReal\":20,\"fYsizeReal\":15,\"fWindowTopX\":0,\"fWindowTopY\":0,\"fWindowWidth\":0,\"fWindowHeight\":0,\"fCw\":796,\"fCh\":572,\"fCatt\":{\"_typename\":\"TAttCanvas\",\"fXBetween\":2,\"fYBetween\":2,\"fTitleFromTop\":1.2,\"fXdate\":0.2,\"fYdate\":0.3,\"fAdate\":1},\"kMoveOpaque\":true,\"kResizeOpaque\":true,\"fHighLightColor\":2,\"fBatch\":true,\"kShowEventStatus\":false,\"kAutoExec\":true,\"kMenuBar\":true});\n",
       "       Core.draw(\"root_plot_1\", obj, \"\");\n",
       "     }\n",
       " );\n",
       "</script>\n"
      ],
      "text/plain": [
       "<IPython.core.display.HTML object>"
      ]
     },
     "metadata": {},
     "output_type": "display_data"
    }
   ],
   "source": [
    "hsets, labels, text = hplot.get_histo(histos.HistoSetEff, ['ele-V9'], ['PU200'], ['TkEleEL'], 'EGq5Pt10', 'GENPt15', debug=False)\n",
    "draw([his.h_eff.h_abseta.CreateGraph() for his in hsets], labels, text=text, min_y=0, max_y=1.1, v_lines=[-2.8, -2.4, -1.7, -1.52, 1.52, 1.7, 2.4, 2.8])\n"
   ]
  },
  {
   "cell_type": "code",
   "execution_count": 21,
   "metadata": {
    "scrolled": false
   },
   "outputs": [],
   "source": [
    "# for tp in tps:\n",
    "#     for tp_sel in tp_select[tp]:\n",
    "#         for gen_sel in ['GEN']:\n",
    "#             hsets, labels, text = hplot.get_histo(histos.HistoSetEff, ['hybrid', 'ele-V9'], ['PU200'], tp, tp_sel, gen_sel, debug=False)\n",
    "#             # drawSeveral([his.hreso.h_ptResVpt for his in hsets], labels,  'COLZ', do_profile=True, text=text)\n",
    "#             draw([his.h_eff.h_eta.CreateGraph() for his in hsets], labels, text=text, min_y=0, max_y=1.1, v_lines=[-2.8, -2.4, -1.7, -1.52, 1.52, 1.7, 2.4, 2.8])\n",
    "# #             print [his.h_num.h_eta.GetName() for his in hsets]"
   ]
  },
  {
   "cell_type": "code",
   "execution_count": 22,
   "metadata": {},
   "outputs": [
    {
     "data": {
      "text/plain": [
       "<drawingTools.DrawMachine at 0x11acc6e10>"
      ]
     },
     "execution_count": 22,
     "metadata": {},
     "output_type": "execute_result"
    },
    {
     "data": {
      "text/html": [
       "\n",
       "<div id=\"root_plot_2\"\n",
       "     style=\"width: 796px; height: 572px\">\n",
       "</div>\n",
       "\n",
       "<script>\n",
       " requirejs.config({\n",
       "     paths: {\n",
       "       'JSRootCore' : 'https://root.cern.ch/js/notebook//scripts/JSRootCore',\n",
       "     }\n",
       "   });\n",
       " require(['JSRootCore'],\n",
       "     function(Core) {\n",
       "       var obj = Core.JSONR_unref({\"_typename\":\"TCanvas\",\"fUniqueID\":0,\"fBits\":53673992,\"fLineColor\":1,\"fLineStyle\":1,\"fLineWidth\":1,\"fFillColor\":0,\"fFillStyle\":1001,\"fLeftMargin\":0.13,\"fRightMargin\":0.3,\"fBottomMargin\":0.13,\"fTopMargin\":0.1,\"fXfile\":2,\"fYfile\":2,\"fAfile\":1,\"fXstat\":0.99,\"fYstat\":0.99,\"fAstat\":2,\"fFrameFillColor\":0,\"fFrameLineColor\":1,\"fFrameFillStyle\":1001,\"fFrameLineStyle\":1,\"fFrameLineWidth\":1,\"fFrameBorderSize\":1,\"fFrameBorderMode\":0,\"fX1\":0.764736853332731,\"fY1\":-0.185714283502611,\"fX2\":4.34368426666366,\"fY2\":1.24285714852456,\"fXtoAbsPixelk\":-170.086420951052,\"fXtoPixelk\":-170.086420951052,\"fXtoPixel\":222.411761914983,\"fYtoAbsPixelk\":497.640051065433,\"fYtoPixelk\":497.640051065433,\"fYtoPixel\":-400.399999031424,\"fUtoAbsPixelk\":5e-5,\"fUtoPixelk\":5e-5,\"fUtoPixel\":796,\"fVtoAbsPixelk\":572.00005,\"fVtoPixelk\":572,\"fVtoPixel\":-572,\"fAbsPixeltoXk\":0.764736853332731,\"fPixeltoXk\":0.764736853332731,\"fPixeltoX\":0.00449616509212428,\"fAbsPixeltoYk\":1.24285714852456,\"fPixeltoYk\":-0.185714283502611,\"fPixeltoY\":-0.00249750250354401,\"fXlowNDC\":0,\"fYlowNDC\":0,\"fXUpNDC\":0,\"fYUpNDC\":0,\"fWNDC\":1,\"fHNDC\":1,\"fAbsXlowNDC\":0,\"fAbsYlowNDC\":0,\"fAbsWNDC\":1,\"fAbsHNDC\":1,\"fUxmin\":1.23,\"fUymin\":0,\"fUxmax\":3.27,\"fUymax\":1.1,\"fTheta\":30,\"fPhi\":30,\"fAspectRatio\":0,\"fNumber\":0,\"fTickx\":0,\"fTicky\":0,\"fLogx\":0,\"fLogy\":0,\"fLogz\":0,\"fPadPaint\":0,\"fCrosshair\":0,\"fCrosshairPos\":0,\"fBorderSize\":2,\"fBorderMode\":0,\"fModified\":false,\"fGridx\":false,\"fGridy\":false,\"fAbsCoord\":false,\"fEditable\":true,\"fFixedAspectRatio\":false,\"fPrimitives\":{\"_typename\":\"TList\",\"name\":\"TList\",\"arr\":[{\"_typename\":\"TFrame\",\"fUniqueID\":0,\"fBits\":50331656,\"fLineColor\":1,\"fLineStyle\":1,\"fLineWidth\":1,\"fFillColor\":0,\"fFillStyle\":1001,\"fX1\":1.23,\"fY1\":0,\"fX2\":3.27,\"fY2\":1.1,\"fBorderSize\":1,\"fBorderMode\":0},{\"_typename\":\"TGraphAsymmErrors\",\"fUniqueID\":0,\"fBits\":50332680,\"fName\":\"c0815e\",\"fTitle\":\"; |#eta^{GEN}|;\",\"fLineColor\":1,\"fLineStyle\":1,\"fLineWidth\":1,\"fFillColor\":0,\"fFillStyle\":1001,\"fMarkerColor\":1,\"fMarkerStyle\":8,\"fMarkerSize\":0.5,\"fNpoints\":17,\"fX\":[1.45,1.55,1.65,1.75,1.85,1.95,2.05,2.15,2.25,2.35,2.45,2.55,2.65,2.75,2.85,2.95,3.05],\"fY\":[0.0012666244458518,0.695126419934042,0.86583522297808,0.864394488759971,0.87956487956488,0.864432597105864,0.878280715100799,0.857254290171607,0.852789869410368,0.815758526068209,0.290361445783133,0.00164338537387017,0,0,0,0,0],\"fFunctions\":{\"_typename\":\"TList\",\"name\":\"TList\",\"arr\":[],\"opt\":[]},\"fHistogram\":{\"_typename\":\"TH1F\",\"fUniqueID\":0,\"fBits\":50332160,\"fName\":\"c0815e\",\"fTitle\":\"\",\"fLineColor\":602,\"fLineStyle\":1,\"fLineWidth\":1,\"fFillColor\":0,\"fFillStyle\":1001,\"fMarkerColor\":1,\"fMarkerStyle\":1,\"fMarkerSize\":1,\"fNcells\":102,\"fXaxis\":{\"_typename\":\"TAxis\",\"fUniqueID\":0,\"fBits\":50331656,\"fName\":\"xaxis\",\"fTitle\":\" |#eta^{GEN}|\",\"fNdivisions\":510,\"fAxisColor\":1,\"fLabelColor\":1,\"fLabelFont\":42,\"fLabelOffset\":0.005,\"fLabelSize\":0.035,\"fTickLength\":0.03,\"fTitleOffset\":1.4,\"fTitleSize\":0.035,\"fTitleColor\":1,\"fTitleFont\":42,\"fNbins\":100,\"fXmin\":1.23,\"fXmax\":3.27,\"fXbins\":[],\"fFirst\":0,\"fLast\":0,\"fBits2\":0,\"fTimeDisplay\":false,\"fTimeFormat\":\"\",\"fLabels\":null,\"fModLabs\":null},\"fYaxis\":{\"_typename\":\"TAxis\",\"fUniqueID\":0,\"fBits\":50331656,\"fName\":\"yaxis\",\"fTitle\":\"\",\"fNdivisions\":510,\"fAxisColor\":1,\"fLabelColor\":1,\"fLabelFont\":42,\"fLabelOffset\":0.005,\"fLabelSize\":0.035,\"fTickLength\":0.03,\"fTitleOffset\":0,\"fTitleSize\":0.035,\"fTitleColor\":1,\"fTitleFont\":42,\"fNbins\":1,\"fXmin\":0,\"fXmax\":0.974624401832365,\"fXbins\":[],\"fFirst\":0,\"fLast\":0,\"fBits2\":0,\"fTimeDisplay\":false,\"fTimeFormat\":\"\",\"fLabels\":null,\"fModLabs\":null},\"fZaxis\":{\"_typename\":\"TAxis\",\"fUniqueID\":0,\"fBits\":50331648,\"fName\":\"zaxis\",\"fTitle\":\"\",\"fNdivisions\":510,\"fAxisColor\":1,\"fLabelColor\":1,\"fLabelFont\":42,\"fLabelOffset\":0.005,\"fLabelSize\":0.035,\"fTickLength\":0.03,\"fTitleOffset\":1,\"fTitleSize\":0.035,\"fTitleColor\":1,\"fTitleFont\":42,\"fNbins\":1,\"fXmin\":0,\"fXmax\":1,\"fXbins\":[],\"fFirst\":0,\"fLast\":0,\"fBits2\":0,\"fTimeDisplay\":false,\"fTimeFormat\":\"\",\"fLabels\":null,\"fModLabs\":null},\"fBarOffset\":0,\"fBarWidth\":1000,\"fEntries\":0,\"fTsumw\":0,\"fTsumw2\":0,\"fTsumwx\":0,\"fTsumwx2\":0,\"fMaximum\":1.1,\"fMinimum\":0,\"fNormFactor\":0,\"fContour\":[],\"fSumw2\":[],\"fOption\":\"\",\"fFunctions\":{\"_typename\":\"TList\",\"name\":\"TList\",\"arr\":[],\"opt\":[]},\"fBufferSize\":0,\"fBuffer\":[],\"fBinStatErrOpt\":0,\"fStatOverflows\":2,\"fArray\":[0,0,0,0,0,0,0,0,0,0,0,0,0,0,0,0,0,0,0,0,0,0,0,0,0,0,0,0,0,0,0,0,0,0,0,0,0,0,0,0,0,0,0,0,0,0,0,0,0,0,0,0,0,0,0,0,0,0,0,0,0,0,0,0,0,0,0,0,0,0,0,0,0,0,0,0,0,0,0,0,0,0,0,0,0,0,0,0,0,0,0,0,0,0,0,0,0,0,0,0,0,0]},\"fMinimum\":-1111,\"fMaximum\":-1111,\"fEXlow\":[0.05,0.05,0.05,0.05,0.05,0.05,0.0499999999999998,0.0499999999999998,0.0499999999999998,0.0499999999999998,0.0499999999999998,0.0499999999999998,0.0499999999999998,0.0499999999999998,0.0499999999999998,0.0499999999999998,0.0499999999999998],\"fEXhigh\":[0.05,0.05,0.05,0.05,0.05,0.05,0.0500000000000002,0.0500000000000002,0.0500000000000002,0.0500000000000002,0.0500000000000002,0.0500000000000002,0.0500000000000002,0.0500000000000002,0.0500000000000002,0.0500000000000002,0.0500000000000002],\"fEYlow\":[8.18080482788381e-4,0.00906701522645048,0.00695662891638016,0.00683595174058516,0.00676109121291346,0.00701301997391068,0.006714903945366,0.00724615369679793,0.00738915152336495,0.00799771715142605,0.00920991993277176,7.86338202947952e-4,0,0,0,0,0],\"fEYhigh\":[0.00166813608953263,0.00892107213831816,0.00667228354077665,0.00656441317504253,0.0064573039190885,0.0067276127472814,0.00641860799334382,0.00695968116562085,0.00710216138091047,0.00774389691316768,0.00938197967661619,0.00129749384450676,7.36137575693496e-4,7.58270935378779e-4,7.91183686926042e-4,7.76500748997812e-4,8.33071384004181e-4]},{\"_typename\":\"TLatex\",\"fUniqueID\":0,\"fBits\":50348040,\"fName\":\"\",\"fTitle\":\"PU200, TkEle Ell. match, hwQual 5, p_{T}^{L1}>=10GeV, p_{T}^{GEN}>=15GeV\",\"fTextAngle\":0,\"fTextSize\":0.03,\"fTextAlign\":11,\"fTextColor\":1,\"fTextFont\":62,\"fX\":0.15,\"fY\":0.85,\"fLineColor\":1,\"fLineStyle\":1,\"fLineWidth\":2,\"fLimitFactorSize\":3,\"fOriginSize\":0.04},{\"_typename\":\"TLatex\",\"fUniqueID\":0,\"fBits\":50331656,\"fName\":\"\",\"fTitle\":\"\",\"fTextAngle\":0,\"fTextSize\":0.03,\"fTextAlign\":11,\"fTextColor\":1,\"fTextFont\":62,\"fX\":0,\"fY\":0,\"fLineColor\":1,\"fLineStyle\":1,\"fLineWidth\":2,\"fLimitFactorSize\":3,\"fOriginSize\":0.04},{\"_typename\":\"TLine\",\"fUniqueID\":0,\"fBits\":50331656,\"fLineColor\":1,\"fLineStyle\":2,\"fLineWidth\":1,\"fX1\":-2.8,\"fY1\":0,\"fX2\":-2.8,\"fY2\":1.1},{\"_typename\":\"TLine\",\"fUniqueID\":0,\"fBits\":50331656,\"fLineColor\":1,\"fLineStyle\":2,\"fLineWidth\":1,\"fX1\":-2.4,\"fY1\":0,\"fX2\":-2.4,\"fY2\":1.1},{\"_typename\":\"TLine\",\"fUniqueID\":0,\"fBits\":50331656,\"fLineColor\":1,\"fLineStyle\":2,\"fLineWidth\":1,\"fX1\":-1.7,\"fY1\":0,\"fX2\":-1.7,\"fY2\":1.1},{\"_typename\":\"TLine\",\"fUniqueID\":0,\"fBits\":50331656,\"fLineColor\":1,\"fLineStyle\":2,\"fLineWidth\":1,\"fX1\":-1.52,\"fY1\":0,\"fX2\":-1.52,\"fY2\":1.1},{\"_typename\":\"TLine\",\"fUniqueID\":0,\"fBits\":50331656,\"fLineColor\":1,\"fLineStyle\":2,\"fLineWidth\":1,\"fX1\":1.52,\"fY1\":0,\"fX2\":1.52,\"fY2\":1.1},{\"_typename\":\"TLine\",\"fUniqueID\":0,\"fBits\":50331656,\"fLineColor\":1,\"fLineStyle\":2,\"fLineWidth\":1,\"fX1\":1.7,\"fY1\":0,\"fX2\":1.7,\"fY2\":1.1},{\"_typename\":\"TLine\",\"fUniqueID\":0,\"fBits\":50331656,\"fLineColor\":1,\"fLineStyle\":2,\"fLineWidth\":1,\"fX1\":2.4,\"fY1\":0,\"fX2\":2.4,\"fY2\":1.1},{\"_typename\":\"TLine\",\"fUniqueID\":0,\"fBits\":50331656,\"fLineColor\":1,\"fLineStyle\":2,\"fLineWidth\":1,\"fX1\":2.8,\"fY1\":0,\"fX2\":2.8,\"fY2\":1.1}],\"opt\":[\"\",\"pa\",\"same\",\"same\",\"same\",\"same\",\"same\",\"same\",\"same\",\"same\",\"same\",\"same\"]},\"fExecs\":null,\"fName\":\"c_36d669\",\"fTitle\":\"c_36d669\",\"fNumPaletteColor\":0,\"fNextPaletteColor\":0,\"fDISPLAY\":\"$DISPLAY\",\"fDoubleBuffer\":0,\"fRetained\":true,\"fXsizeUser\":0,\"fYsizeUser\":0,\"fXsizeReal\":20,\"fYsizeReal\":15,\"fWindowTopX\":0,\"fWindowTopY\":0,\"fWindowWidth\":0,\"fWindowHeight\":0,\"fCw\":796,\"fCh\":572,\"fCatt\":{\"_typename\":\"TAttCanvas\",\"fXBetween\":2,\"fYBetween\":2,\"fTitleFromTop\":1.2,\"fXdate\":0.2,\"fYdate\":0.3,\"fAdate\":1},\"kMoveOpaque\":true,\"kResizeOpaque\":true,\"fHighLightColor\":2,\"fBatch\":true,\"kShowEventStatus\":false,\"kAutoExec\":true,\"kMenuBar\":true});\n",
       "       Core.draw(\"root_plot_2\", obj, \"\");\n",
       "     }\n",
       " );\n",
       "</script>\n"
      ],
      "text/plain": [
       "<IPython.core.display.HTML object>"
      ]
     },
     "metadata": {},
     "output_type": "display_data"
    }
   ],
   "source": [
    "hsets, labels, text = hplot.get_histo(histos.HistoSetEff, ['hybrid', 'ele-V9'], ['PU200'], 'TkEleEL', 'EGq5Pt10', 'GENPt15', debug=False)\n",
    "draw([his.h_eff.h_abseta.CreateGraph() for his in hsets], labels, text=text, min_y=0, max_y=1.1, v_lines=[-2.8, -2.4, -1.7, -1.52, 1.52, 1.7, 2.4, 2.8])\n"
   ]
  },
  {
   "cell_type": "code",
   "execution_count": 23,
   "metadata": {},
   "outputs": [
    {
     "data": {
      "text/plain": [
       "<drawingTools.DrawMachine at 0x11acd38d0>"
      ]
     },
     "execution_count": 23,
     "metadata": {},
     "output_type": "execute_result"
    },
    {
     "data": {
      "text/html": [
       "\n",
       "<div id=\"root_plot_3\"\n",
       "     style=\"width: 796px; height: 572px\">\n",
       "</div>\n",
       "\n",
       "<script>\n",
       " requirejs.config({\n",
       "     paths: {\n",
       "       'JSRootCore' : 'https://root.cern.ch/js/notebook//scripts/JSRootCore',\n",
       "     }\n",
       "   });\n",
       " require(['JSRootCore'],\n",
       "     function(Core) {\n",
       "       var obj = Core.JSONR_unref({\"_typename\":\"TCanvas\",\"fUniqueID\":0,\"fBits\":53673992,\"fLineColor\":1,\"fLineStyle\":1,\"fLineWidth\":1,\"fFillColor\":0,\"fFillStyle\":1001,\"fLeftMargin\":0.13,\"fRightMargin\":0.3,\"fBottomMargin\":0.13,\"fTopMargin\":0.1,\"fXfile\":2,\"fYfile\":2,\"fAfile\":1,\"fXstat\":0.99,\"fYstat\":0.99,\"fAstat\":2,\"fFrameFillColor\":0,\"fFrameLineColor\":1,\"fFrameFillStyle\":1001,\"fFrameLineStyle\":1,\"fFrameLineWidth\":1,\"fFrameBorderSize\":1,\"fFrameBorderMode\":0,\"fX1\":-0.777719279478131,\"fY1\":-0.185714283502611,\"fX2\":5.20473693594268,\"fY2\":1.24285714852456,\"fXtoAbsPixelk\":103.480046204376,\"fXtoPixelk\":103.480046204376,\"fXtoPixel\":133.055716805444,\"fYtoAbsPixelk\":497.640051065433,\"fYtoPixelk\":497.640051065433,\"fYtoPixel\":-400.399999031424,\"fUtoAbsPixelk\":5e-5,\"fUtoPixelk\":5e-5,\"fUtoPixel\":796,\"fVtoAbsPixelk\":572.00005,\"fVtoPixelk\":572,\"fVtoPixel\":-572,\"fAbsPixeltoXk\":-0.777719279478131,\"fPixeltoXk\":-0.777719279478131,\"fPixeltoX\":0.00751564851183519,\"fAbsPixeltoYk\":1.24285714852456,\"fPixeltoYk\":-0.185714283502611,\"fPixeltoY\":-0.00249750250354401,\"fXlowNDC\":0,\"fYlowNDC\":0,\"fXUpNDC\":0,\"fYUpNDC\":0,\"fWNDC\":1,\"fHNDC\":1,\"fAbsXlowNDC\":0,\"fAbsYlowNDC\":0,\"fAbsWNDC\":1,\"fAbsHNDC\":1,\"fUxmin\":0,\"fUymin\":0,\"fUxmax\":3.41,\"fUymax\":1.1,\"fTheta\":30,\"fPhi\":30,\"fAspectRatio\":0,\"fNumber\":0,\"fTickx\":0,\"fTicky\":0,\"fLogx\":0,\"fLogy\":0,\"fLogz\":0,\"fPadPaint\":0,\"fCrosshair\":0,\"fCrosshairPos\":0,\"fBorderSize\":2,\"fBorderMode\":0,\"fModified\":false,\"fGridx\":false,\"fGridy\":false,\"fAbsCoord\":false,\"fEditable\":true,\"fFixedAspectRatio\":false,\"fPrimitives\":{\"_typename\":\"TList\",\"name\":\"TList\",\"arr\":[{\"_typename\":\"TFrame\",\"fUniqueID\":0,\"fBits\":50331656,\"fLineColor\":1,\"fLineStyle\":1,\"fLineWidth\":1,\"fFillColor\":0,\"fFillStyle\":1001,\"fX1\":0,\"fY1\":0,\"fX2\":3.41,\"fY2\":1.1,\"fBorderSize\":1,\"fBorderMode\":0},{\"_typename\":\"TGraphAsymmErrors\",\"fUniqueID\":0,\"fBits\":50332680,\"fName\":\"79b58c\",\"fTitle\":\"; |#eta^{GEN}|;\",\"fLineColor\":1,\"fLineStyle\":1,\"fLineWidth\":1,\"fFillColor\":0,\"fFillStyle\":1001,\"fMarkerColor\":1,\"fMarkerStyle\":8,\"fMarkerSize\":0.5,\"fNpoints\":31,\"fX\":[0.05,0.15,0.25,0.35,0.45,0.55,0.65,0.75,0.85,0.95,1.05,1.15,1.25,1.35,1.45,1.55,1.65,1.75,1.85,1.95,2.05,2.15,2.25,2.35,2.45,2.55,2.65,2.75,2.85,2.95,3.05],\"fY\":[0.819424460431655,0.907297096053611,0.896127397756062,0.906216313330938,0.880961048416454,0.888888888888889,0.887982984757178,0.909562638991846,0.885724331926864,0.881153305203938,0.885824022346369,0.871749824314828,0.872063606794362,0.862535612535613,0.731733145075891,0.702007749207467,0.866039102099928,0.863414634146341,0.877251010657846,0.862801584443644,0.87708703374778,0.854630294328787,0.855124954726548,0.808839381961912,0.28929219600726,0.0018201674554059,0,0,0,0,0],\"fFunctions\":{\"_typename\":\"TList\",\"name\":\"TList\",\"arr\":[],\"opt\":[]},\"fHistogram\":{\"_typename\":\"TH1F\",\"fUniqueID\":0,\"fBits\":50332160,\"fName\":\"79b58c\",\"fTitle\":\"\",\"fLineColor\":602,\"fLineStyle\":1,\"fLineWidth\":1,\"fFillColor\":0,\"fFillStyle\":1001,\"fMarkerColor\":1,\"fMarkerStyle\":1,\"fMarkerSize\":1,\"fNcells\":102,\"fXaxis\":{\"_typename\":\"TAxis\",\"fUniqueID\":0,\"fBits\":50331656,\"fName\":\"xaxis\",\"fTitle\":\" |#eta^{GEN}|\",\"fNdivisions\":510,\"fAxisColor\":1,\"fLabelColor\":1,\"fLabelFont\":42,\"fLabelOffset\":0.005,\"fLabelSize\":0.035,\"fTickLength\":0.03,\"fTitleOffset\":1.4,\"fTitleSize\":0.035,\"fTitleColor\":1,\"fTitleFont\":42,\"fNbins\":100,\"fXmin\":0,\"fXmax\":3.41,\"fXbins\":[],\"fFirst\":0,\"fLast\":0,\"fBits2\":0,\"fTimeDisplay\":false,\"fTimeFormat\":\"\",\"fLabels\":null,\"fModLabs\":null},\"fYaxis\":{\"_typename\":\"TAxis\",\"fUniqueID\":0,\"fBits\":50331656,\"fName\":\"yaxis\",\"fTitle\":\"\",\"fNdivisions\":510,\"fAxisColor\":1,\"fLabelColor\":1,\"fLabelFont\":42,\"fLabelOffset\":0.005,\"fLabelSize\":0.035,\"fTickLength\":0.03,\"fTitleOffset\":0,\"fTitleSize\":0.035,\"fTitleColor\":1,\"fTitleFont\":42,\"fNbins\":1,\"fXmin\":0,\"fXmax\":1.00662435026749,\"fXbins\":[],\"fFirst\":0,\"fLast\":0,\"fBits2\":0,\"fTimeDisplay\":false,\"fTimeFormat\":\"\",\"fLabels\":null,\"fModLabs\":null},\"fZaxis\":{\"_typename\":\"TAxis\",\"fUniqueID\":0,\"fBits\":50331648,\"fName\":\"zaxis\",\"fTitle\":\"\",\"fNdivisions\":510,\"fAxisColor\":1,\"fLabelColor\":1,\"fLabelFont\":42,\"fLabelOffset\":0.005,\"fLabelSize\":0.035,\"fTickLength\":0.03,\"fTitleOffset\":1,\"fTitleSize\":0.035,\"fTitleColor\":1,\"fTitleFont\":42,\"fNbins\":1,\"fXmin\":0,\"fXmax\":1,\"fXbins\":[],\"fFirst\":0,\"fLast\":0,\"fBits2\":0,\"fTimeDisplay\":false,\"fTimeFormat\":\"\",\"fLabels\":null,\"fModLabs\":null},\"fBarOffset\":0,\"fBarWidth\":1000,\"fEntries\":0,\"fTsumw\":0,\"fTsumw2\":0,\"fTsumwx\":0,\"fTsumwx2\":0,\"fMaximum\":1.1,\"fMinimum\":0,\"fNormFactor\":0,\"fContour\":[],\"fSumw2\":[],\"fOption\":\"\",\"fFunctions\":{\"_typename\":\"TList\",\"name\":\"TList\",\"arr\":[],\"opt\":[]},\"fBufferSize\":0,\"fBuffer\":[],\"fBinStatErrOpt\":0,\"fStatOverflows\":2,\"fArray\":[0,0,0,0,0,0,0,0,0,0,0,0,0,0,0,0,0,0,0,0,0,0,0,0,0,0,0,0,0,0,0,0,0,0,0,0,0,0,0,0,0,0,0,0,0,0,0,0,0,0,0,0,0,0,0,0,0,0,0,0,0,0,0,0,0,0,0,0,0,0,0,0,0,0,0,0,0,0,0,0,0,0,0,0,0,0,0,0,0,0,0,0,0,0,0,0,0,0,0,0,0,0]},\"fMinimum\":-1111,\"fMaximum\":-1111,\"fEXlow\":[0.05,0.05,0.05,0.05,0.05,0.05,0.05,0.05,0.05,0.05,0.05,0.05,0.05,0.05,0.05,0.05,0.05,0.05,0.05,0.05,0.0499999999999998,0.0499999999999998,0.0499999999999998,0.0499999999999998,0.0499999999999998,0.0499999999999998,0.0499999999999998,0.0499999999999998,0.0499999999999998,0.0499999999999998,0.0499999999999998],\"fEXhigh\":[0.05,0.05,0.05,0.05,0.05,0.05,0.05,0.05,0.05,0.05,0.05,0.05,0.05,0.05,0.05,0.05,0.05,0.05,0.05,0.05,0.0500000000000002,0.0500000000000002,0.0500000000000002,0.0500000000000002,0.0500000000000002,0.0500000000000002,0.0500000000000002,0.0500000000000002,0.0500000000000002,0.0500000000000002,0.0500000000000002],\"fEYlow\":[0.0075923988483293,0.00593893702735371,0.00613306891314336,0.00585672153035965,0.00650325045528022,0.00635939039157118,0.006256833547574,0.00586414025097381,0.00628102091281324,0.00638166587977185,0.00625571875949049,0.0065773744460772,0.00666859412463583,0.00680839530297539,0.00858282825744328,0.00883136007261043,0.00679795040612285,0.00671410118166893,0.00661702492198446,0.00684283157291532,0.00650363364592066,0.0069875304967838,0.00701122152490519,0.00774616450690824,0.00874080154808876,7.85981497795612e-4,0,0,0,0,0],\"fEYhigh\":[0.0073569809207652,0.00562563576441821,0.00583744944399378,0.00555536076819674,0.00621777155172509,0.00606455857877175,0.00597361009725594,0.00555040670587359,0.0060018258343365,0.00610591304176478,0.00597842608278365,0.00630886040092937,0.00639206741816767,0.00654315633216129,0.00841579928936886,0.00868616199089489,0.00652554847313791,0.00645401851029181,0.0063316947146469,0.00657438983363723,0.00622808547073694,0.00672616136456117,0.00674707731936353,0.00751891524753223,0.00889694497025384,0.00122945470507898,6.54022581556172e-4,6.4758109614599e-4,6.80367943775406e-4,6.51476774673644e-4,6.87738602985778e-4]},{\"_typename\":\"TLatex\",\"fUniqueID\":0,\"fBits\":50348040,\"fName\":\"\",\"fTitle\":\"PU200, TkEle Ell. match all, p_{T}^{L1}>=10GeV, LooseTkID, p_{T}^{GEN}>=15GeV\",\"fTextAngle\":0,\"fTextSize\":0.03,\"fTextAlign\":11,\"fTextColor\":1,\"fTextFont\":62,\"fX\":0.15,\"fY\":0.85,\"fLineColor\":1,\"fLineStyle\":1,\"fLineWidth\":2,\"fLimitFactorSize\":3,\"fOriginSize\":0.04},{\"_typename\":\"TLatex\",\"fUniqueID\":0,\"fBits\":50331656,\"fName\":\"\",\"fTitle\":\"\",\"fTextAngle\":0,\"fTextSize\":0.03,\"fTextAlign\":11,\"fTextColor\":1,\"fTextFont\":62,\"fX\":0,\"fY\":0,\"fLineColor\":1,\"fLineStyle\":1,\"fLineWidth\":2,\"fLimitFactorSize\":3,\"fOriginSize\":0.04},{\"_typename\":\"TLine\",\"fUniqueID\":0,\"fBits\":50331656,\"fLineColor\":1,\"fLineStyle\":2,\"fLineWidth\":1,\"fX1\":-2.8,\"fY1\":0,\"fX2\":-2.8,\"fY2\":1.1},{\"_typename\":\"TLine\",\"fUniqueID\":0,\"fBits\":50331656,\"fLineColor\":1,\"fLineStyle\":2,\"fLineWidth\":1,\"fX1\":-2.4,\"fY1\":0,\"fX2\":-2.4,\"fY2\":1.1},{\"_typename\":\"TLine\",\"fUniqueID\":0,\"fBits\":50331656,\"fLineColor\":1,\"fLineStyle\":2,\"fLineWidth\":1,\"fX1\":-1.7,\"fY1\":0,\"fX2\":-1.7,\"fY2\":1.1},{\"_typename\":\"TLine\",\"fUniqueID\":0,\"fBits\":50331656,\"fLineColor\":1,\"fLineStyle\":2,\"fLineWidth\":1,\"fX1\":-1.52,\"fY1\":0,\"fX2\":-1.52,\"fY2\":1.1},{\"_typename\":\"TLine\",\"fUniqueID\":0,\"fBits\":50331656,\"fLineColor\":1,\"fLineStyle\":2,\"fLineWidth\":1,\"fX1\":1.52,\"fY1\":0,\"fX2\":1.52,\"fY2\":1.1},{\"_typename\":\"TLine\",\"fUniqueID\":0,\"fBits\":50331656,\"fLineColor\":1,\"fLineStyle\":2,\"fLineWidth\":1,\"fX1\":1.7,\"fY1\":0,\"fX2\":1.7,\"fY2\":1.1},{\"_typename\":\"TLine\",\"fUniqueID\":0,\"fBits\":50331656,\"fLineColor\":1,\"fLineStyle\":2,\"fLineWidth\":1,\"fX1\":2.4,\"fY1\":0,\"fX2\":2.4,\"fY2\":1.1},{\"_typename\":\"TLine\",\"fUniqueID\":0,\"fBits\":50331656,\"fLineColor\":1,\"fLineStyle\":2,\"fLineWidth\":1,\"fX1\":2.8,\"fY1\":0,\"fX2\":2.8,\"fY2\":1.1}],\"opt\":[\"\",\"pa\",\"same\",\"same\",\"same\",\"same\",\"same\",\"same\",\"same\",\"same\",\"same\",\"same\"]},\"fExecs\":null,\"fName\":\"c_bb6a10\",\"fTitle\":\"c_bb6a10\",\"fNumPaletteColor\":0,\"fNextPaletteColor\":0,\"fDISPLAY\":\"$DISPLAY\",\"fDoubleBuffer\":0,\"fRetained\":true,\"fXsizeUser\":0,\"fYsizeUser\":0,\"fXsizeReal\":20,\"fYsizeReal\":15,\"fWindowTopX\":0,\"fWindowTopY\":0,\"fWindowWidth\":0,\"fWindowHeight\":0,\"fCw\":796,\"fCh\":572,\"fCatt\":{\"_typename\":\"TAttCanvas\",\"fXBetween\":2,\"fYBetween\":2,\"fTitleFromTop\":1.2,\"fXdate\":0.2,\"fYdate\":0.3,\"fAdate\":1},\"kMoveOpaque\":true,\"kResizeOpaque\":true,\"fHighLightColor\":2,\"fBatch\":true,\"kShowEventStatus\":false,\"kAutoExec\":true,\"kMenuBar\":true});\n",
       "       Core.draw(\"root_plot_3\", obj, \"\");\n",
       "     }\n",
       " );\n",
       "</script>\n"
      ],
      "text/plain": [
       "<IPython.core.display.HTML object>"
      ]
     },
     "metadata": {},
     "output_type": "display_data"
    }
   ],
   "source": [
    "hsets, labels, text = hplot.get_histo(histos.HistoSetEff, ['hybrid', 'ele-V9'], ['PU200'], 'TkEleELALL', 'Pt10LooseTkID', 'GENPt15', debug=False)\n",
    "draw([his.h_eff.h_abseta.CreateGraph() for his in hsets], labels, text=text, min_y=0, max_y=1.1, v_lines=[-2.8, -2.4, -1.7, -1.52, 1.52, 1.7, 2.4, 2.8])"
   ]
  },
  {
   "cell_type": "code",
   "execution_count": 24,
   "metadata": {},
   "outputs": [
    {
     "data": {
      "text/plain": [
       "<drawingTools.DrawMachine at 0x1233a00d0>"
      ]
     },
     "execution_count": 24,
     "metadata": {},
     "output_type": "execute_result"
    },
    {
     "data": {
      "text/html": [
       "\n",
       "<div id=\"root_plot_4\"\n",
       "     style=\"width: 796px; height: 572px\">\n",
       "</div>\n",
       "\n",
       "<script>\n",
       " requirejs.config({\n",
       "     paths: {\n",
       "       'JSRootCore' : 'https://root.cern.ch/js/notebook//scripts/JSRootCore',\n",
       "     }\n",
       "   });\n",
       " require(['JSRootCore'],\n",
       "     function(Core) {\n",
       "       var obj = Core.JSONR_unref({\"_typename\":\"TCanvas\",\"fUniqueID\":0,\"fBits\":53673992,\"fLineColor\":1,\"fLineStyle\":1,\"fLineWidth\":1,\"fFillColor\":0,\"fFillStyle\":1001,\"fLeftMargin\":0.13,\"fRightMargin\":0.3,\"fBottomMargin\":0.13,\"fTopMargin\":0.1,\"fXfile\":2,\"fYfile\":2,\"fAfile\":1,\"fXstat\":0.99,\"fYstat\":0.99,\"fAstat\":2,\"fFrameFillColor\":0,\"fFrameLineColor\":1,\"fFrameFillStyle\":1001,\"fFrameLineStyle\":1,\"fFrameLineWidth\":1,\"fFrameBorderSize\":1,\"fFrameBorderMode\":0,\"fX1\":0.764736853332731,\"fY1\":-0.185714283502611,\"fX2\":4.34368426666366,\"fY2\":1.24285714852456,\"fXtoAbsPixelk\":-170.086420951052,\"fXtoPixelk\":-170.086420951052,\"fXtoPixel\":222.411761914983,\"fYtoAbsPixelk\":497.640051065433,\"fYtoPixelk\":497.640051065433,\"fYtoPixel\":-400.399999031424,\"fUtoAbsPixelk\":5e-5,\"fUtoPixelk\":5e-5,\"fUtoPixel\":796,\"fVtoAbsPixelk\":572.00005,\"fVtoPixelk\":572,\"fVtoPixel\":-572,\"fAbsPixeltoXk\":0.764736853332731,\"fPixeltoXk\":0.764736853332731,\"fPixeltoX\":0.00449616509212428,\"fAbsPixeltoYk\":1.24285714852456,\"fPixeltoYk\":-0.185714283502611,\"fPixeltoY\":-0.00249750250354401,\"fXlowNDC\":0,\"fYlowNDC\":0,\"fXUpNDC\":0,\"fYUpNDC\":0,\"fWNDC\":1,\"fHNDC\":1,\"fAbsXlowNDC\":0,\"fAbsYlowNDC\":0,\"fAbsWNDC\":1,\"fAbsHNDC\":1,\"fUxmin\":1.23,\"fUymin\":0,\"fUxmax\":3.27,\"fUymax\":1.1,\"fTheta\":30,\"fPhi\":30,\"fAspectRatio\":0,\"fNumber\":0,\"fTickx\":0,\"fTicky\":0,\"fLogx\":0,\"fLogy\":0,\"fLogz\":0,\"fPadPaint\":0,\"fCrosshair\":0,\"fCrosshairPos\":0,\"fBorderSize\":2,\"fBorderMode\":0,\"fModified\":false,\"fGridx\":false,\"fGridy\":false,\"fAbsCoord\":false,\"fEditable\":true,\"fFixedAspectRatio\":false,\"fPrimitives\":{\"_typename\":\"TList\",\"name\":\"TList\",\"arr\":[{\"_typename\":\"TFrame\",\"fUniqueID\":0,\"fBits\":50331656,\"fLineColor\":1,\"fLineStyle\":1,\"fLineWidth\":1,\"fFillColor\":0,\"fFillStyle\":1001,\"fX1\":1.23,\"fY1\":0,\"fX2\":3.27,\"fY2\":1.1,\"fBorderSize\":1,\"fBorderMode\":0},{\"_typename\":\"TGraphAsymmErrors\",\"fUniqueID\":0,\"fBits\":50332680,\"fName\":\"9d2b01\",\"fTitle\":\"; |#eta^{GEN}|;\",\"fLineColor\":1,\"fLineStyle\":1,\"fLineWidth\":1,\"fFillColor\":0,\"fFillStyle\":1001,\"fMarkerColor\":1,\"fMarkerStyle\":8,\"fMarkerSize\":0.5,\"fNpoints\":17,\"fX\":[1.45,1.55,1.65,1.75,1.85,1.95,2.05,2.15,2.25,2.35,2.45,2.55,2.65,2.75,2.85,2.95,3.05],\"fY\":[0.00160901045856798,0.718571428571429,0.905022376926902,0.905151661049591,0.911257606490872,0.904785643070788,0.925432098765432,0.913133402275078,0.911282051282051,0.871545547594678,0.323340471092077,0.00215749730312837,0,0,0,0,0],\"fFunctions\":{\"_typename\":\"TList\",\"name\":\"TList\",\"arr\":[],\"opt\":[]},\"fHistogram\":{\"_typename\":\"TH1F\",\"fUniqueID\":0,\"fBits\":50332160,\"fName\":\"9d2b01\",\"fTitle\":\"\",\"fLineColor\":602,\"fLineStyle\":1,\"fLineWidth\":1,\"fFillColor\":0,\"fFillStyle\":1001,\"fMarkerColor\":1,\"fMarkerStyle\":1,\"fMarkerSize\":1,\"fNcells\":102,\"fXaxis\":{\"_typename\":\"TAxis\",\"fUniqueID\":0,\"fBits\":50331656,\"fName\":\"xaxis\",\"fTitle\":\" |#eta^{GEN}|\",\"fNdivisions\":510,\"fAxisColor\":1,\"fLabelColor\":1,\"fLabelFont\":42,\"fLabelOffset\":0.005,\"fLabelSize\":0.035,\"fTickLength\":0.03,\"fTitleOffset\":1.4,\"fTitleSize\":0.035,\"fTitleColor\":1,\"fTitleFont\":42,\"fNbins\":100,\"fXmin\":1.23,\"fXmax\":3.27,\"fXbins\":[],\"fFirst\":0,\"fLast\":0,\"fBits2\":0,\"fTimeDisplay\":false,\"fTimeFormat\":\"\",\"fLabels\":null,\"fModLabs\":null},\"fYaxis\":{\"_typename\":\"TAxis\",\"fUniqueID\":0,\"fBits\":50331656,\"fName\":\"yaxis\",\"fTitle\":\"\",\"fNdivisions\":510,\"fAxisColor\":1,\"fLabelColor\":1,\"fLabelFont\":42,\"fLabelOffset\":0.005,\"fLabelSize\":0.035,\"fTickLength\":0.03,\"fTitleOffset\":0,\"fTitleSize\":0.035,\"fTitleColor\":1,\"fTitleFont\":42,\"fNbins\":1,\"fXmin\":0,\"fXmax\":1.02442852437531,\"fXbins\":[],\"fFirst\":0,\"fLast\":0,\"fBits2\":0,\"fTimeDisplay\":false,\"fTimeFormat\":\"\",\"fLabels\":null,\"fModLabs\":null},\"fZaxis\":{\"_typename\":\"TAxis\",\"fUniqueID\":0,\"fBits\":50331648,\"fName\":\"zaxis\",\"fTitle\":\"\",\"fNdivisions\":510,\"fAxisColor\":1,\"fLabelColor\":1,\"fLabelFont\":42,\"fLabelOffset\":0.005,\"fLabelSize\":0.035,\"fTickLength\":0.03,\"fTitleOffset\":1,\"fTitleSize\":0.035,\"fTitleColor\":1,\"fTitleFont\":42,\"fNbins\":1,\"fXmin\":0,\"fXmax\":1,\"fXbins\":[],\"fFirst\":0,\"fLast\":0,\"fBits2\":0,\"fTimeDisplay\":false,\"fTimeFormat\":\"\",\"fLabels\":null,\"fModLabs\":null},\"fBarOffset\":0,\"fBarWidth\":1000,\"fEntries\":0,\"fTsumw\":0,\"fTsumw2\":0,\"fTsumwx\":0,\"fTsumwx2\":0,\"fMaximum\":1.1,\"fMinimum\":0,\"fNormFactor\":0,\"fContour\":[],\"fSumw2\":[],\"fOption\":\"\",\"fFunctions\":{\"_typename\":\"TList\",\"name\":\"TList\",\"arr\":[],\"opt\":[]},\"fBufferSize\":0,\"fBuffer\":[],\"fBinStatErrOpt\":0,\"fStatOverflows\":2,\"fArray\":[0,0,0,0,0,0,0,0,0,0,0,0,0,0,0,0,0,0,0,0,0,0,0,0,0,0,0,0,0,0,0,0,0,0,0,0,0,0,0,0,0,0,0,0,0,0,0,0,0,0,0,0,0,0,0,0,0,0,0,0,0,0,0,0,0,0,0,0,0,0,0,0,0,0,0,0,0,0,0,0,0,0,0,0,0,0,0,0,0,0,0,0,0,0,0,0,0,0,0,0,0,0]},\"fMinimum\":-1111,\"fMaximum\":-1111,\"fEXlow\":[0.05,0.05,0.05,0.05,0.05,0.05,0.0499999999999998,0.0499999999999998,0.0499999999999998,0.0499999999999998,0.0499999999999998,0.0499999999999998,0.0499999999999998,0.0499999999999998,0.0499999999999998,0.0499999999999998,0.0499999999999998],\"fEXhigh\":[0.05,0.05,0.05,0.05,0.05,0.05,0.0500000000000002,0.0500000000000002,0.0500000000000002,0.0500000000000002,0.0500000000000002,0.0500000000000002,0.0500000000000002,0.0500000000000002,0.0500000000000002,0.0500000000000002,0.0500000000000002],\"fEYlow\":[0.00103920464173245,0.0101557607643973,0.0069957921259306,0.00687255816325383,0.00687452709150982,0.00701224408432966,0.00630440170153213,0.00688549424066465,0.00691512348084844,0.00802125128216091,0.0109904987387112,0.00103226777113868,0,0,0,0,0],\"fEYhigh\":[0.00211821436563831,0.00994260794852775,0.00657777783995483,0.00646792283150344,0.00644103190904632,0.00659343115746291,0.00586655975757377,0.00644113647912026,0.0064766168986673,0.00762821597144692,0.0111842567347145,0.00170261302343249,9.65948732559927e-4,9.94114748747057e-4,0.0010425279432988,0.00101943661111054,0.00110312111707805]},{\"_typename\":\"TLatex\",\"fUniqueID\":0,\"fBits\":50348040,\"fName\":\"\",\"fTitle\":\"PU200, TkEle Ell. match, hwQual 5, p_{T}^{L1}>=25GeV, p_{T}^{GEN}>=35GeV\",\"fTextAngle\":0,\"fTextSize\":0.03,\"fTextAlign\":11,\"fTextColor\":1,\"fTextFont\":62,\"fX\":0.15,\"fY\":0.85,\"fLineColor\":1,\"fLineStyle\":1,\"fLineWidth\":2,\"fLimitFactorSize\":3,\"fOriginSize\":0.04},{\"_typename\":\"TLatex\",\"fUniqueID\":0,\"fBits\":50331656,\"fName\":\"\",\"fTitle\":\"\",\"fTextAngle\":0,\"fTextSize\":0.03,\"fTextAlign\":11,\"fTextColor\":1,\"fTextFont\":62,\"fX\":0,\"fY\":0,\"fLineColor\":1,\"fLineStyle\":1,\"fLineWidth\":2,\"fLimitFactorSize\":3,\"fOriginSize\":0.04},{\"_typename\":\"TLine\",\"fUniqueID\":0,\"fBits\":50331656,\"fLineColor\":1,\"fLineStyle\":2,\"fLineWidth\":1,\"fX1\":-2.8,\"fY1\":0,\"fX2\":-2.8,\"fY2\":1.1},{\"_typename\":\"TLine\",\"fUniqueID\":0,\"fBits\":50331656,\"fLineColor\":1,\"fLineStyle\":2,\"fLineWidth\":1,\"fX1\":-2.4,\"fY1\":0,\"fX2\":-2.4,\"fY2\":1.1},{\"_typename\":\"TLine\",\"fUniqueID\":0,\"fBits\":50331656,\"fLineColor\":1,\"fLineStyle\":2,\"fLineWidth\":1,\"fX1\":-1.7,\"fY1\":0,\"fX2\":-1.7,\"fY2\":1.1},{\"_typename\":\"TLine\",\"fUniqueID\":0,\"fBits\":50331656,\"fLineColor\":1,\"fLineStyle\":2,\"fLineWidth\":1,\"fX1\":-1.52,\"fY1\":0,\"fX2\":-1.52,\"fY2\":1.1},{\"_typename\":\"TLine\",\"fUniqueID\":0,\"fBits\":50331656,\"fLineColor\":1,\"fLineStyle\":2,\"fLineWidth\":1,\"fX1\":1.52,\"fY1\":0,\"fX2\":1.52,\"fY2\":1.1},{\"_typename\":\"TLine\",\"fUniqueID\":0,\"fBits\":50331656,\"fLineColor\":1,\"fLineStyle\":2,\"fLineWidth\":1,\"fX1\":1.7,\"fY1\":0,\"fX2\":1.7,\"fY2\":1.1},{\"_typename\":\"TLine\",\"fUniqueID\":0,\"fBits\":50331656,\"fLineColor\":1,\"fLineStyle\":2,\"fLineWidth\":1,\"fX1\":2.4,\"fY1\":0,\"fX2\":2.4,\"fY2\":1.1},{\"_typename\":\"TLine\",\"fUniqueID\":0,\"fBits\":50331656,\"fLineColor\":1,\"fLineStyle\":2,\"fLineWidth\":1,\"fX1\":2.8,\"fY1\":0,\"fX2\":2.8,\"fY2\":1.1}],\"opt\":[\"\",\"pa\",\"same\",\"same\",\"same\",\"same\",\"same\",\"same\",\"same\",\"same\",\"same\",\"same\"]},\"fExecs\":null,\"fName\":\"c_79dfab\",\"fTitle\":\"c_79dfab\",\"fNumPaletteColor\":0,\"fNextPaletteColor\":0,\"fDISPLAY\":\"$DISPLAY\",\"fDoubleBuffer\":0,\"fRetained\":true,\"fXsizeUser\":0,\"fYsizeUser\":0,\"fXsizeReal\":20,\"fYsizeReal\":15,\"fWindowTopX\":0,\"fWindowTopY\":0,\"fWindowWidth\":0,\"fWindowHeight\":0,\"fCw\":796,\"fCh\":572,\"fCatt\":{\"_typename\":\"TAttCanvas\",\"fXBetween\":2,\"fYBetween\":2,\"fTitleFromTop\":1.2,\"fXdate\":0.2,\"fYdate\":0.3,\"fAdate\":1},\"kMoveOpaque\":true,\"kResizeOpaque\":true,\"fHighLightColor\":2,\"fBatch\":true,\"kShowEventStatus\":false,\"kAutoExec\":true,\"kMenuBar\":true});\n",
       "       Core.draw(\"root_plot_4\", obj, \"\");\n",
       "     }\n",
       " );\n",
       "</script>\n"
      ],
      "text/plain": [
       "<IPython.core.display.HTML object>"
      ]
     },
     "metadata": {},
     "output_type": "display_data"
    }
   ],
   "source": [
    "hsets, labels, text = hplot.get_histo(histos.HistoSetEff, ['hybrid', 'ele-V9'], ['PU200'], 'TkEleEL', 'EGq5Pt25', 'GENPt35', debug=False)\n",
    "draw([his.h_eff.h_abseta.CreateGraph() for his in hsets], labels, text=text, min_y=0, max_y=1.1, v_lines=[-2.8, -2.4, -1.7, -1.52, 1.52, 1.7, 2.4, 2.8])\n"
   ]
  },
  {
   "cell_type": "code",
   "execution_count": 25,
   "metadata": {},
   "outputs": [
    {
     "data": {
      "text/plain": [
       "<drawingTools.DrawMachine at 0x11acd3510>"
      ]
     },
     "execution_count": 25,
     "metadata": {},
     "output_type": "execute_result"
    },
    {
     "data": {
      "text/html": [
       "\n",
       "<div id=\"root_plot_5\"\n",
       "     style=\"width: 796px; height: 572px\">\n",
       "</div>\n",
       "\n",
       "<script>\n",
       " requirejs.config({\n",
       "     paths: {\n",
       "       'JSRootCore' : 'https://root.cern.ch/js/notebook//scripts/JSRootCore',\n",
       "     }\n",
       "   });\n",
       " require(['JSRootCore'],\n",
       "     function(Core) {\n",
       "       var obj = Core.JSONR_unref({\"_typename\":\"TCanvas\",\"fUniqueID\":0,\"fBits\":53673992,\"fLineColor\":1,\"fLineStyle\":1,\"fLineWidth\":1,\"fFillColor\":0,\"fFillStyle\":1001,\"fLeftMargin\":0.13,\"fRightMargin\":0.3,\"fBottomMargin\":0.13,\"fTopMargin\":0.1,\"fXfile\":2,\"fYfile\":2,\"fAfile\":1,\"fXstat\":0.99,\"fYstat\":0.99,\"fAstat\":2,\"fFrameFillColor\":0,\"fFrameLineColor\":1,\"fFrameFillStyle\":1001,\"fFrameLineStyle\":1,\"fFrameLineWidth\":1,\"fFrameBorderSize\":1,\"fFrameBorderMode\":0,\"fX1\":-0.777719279478131,\"fY1\":-0.185714283502611,\"fX2\":5.20473693594268,\"fY2\":1.24285714852456,\"fXtoAbsPixelk\":103.480046204376,\"fXtoPixelk\":103.480046204376,\"fXtoPixel\":133.055716805444,\"fYtoAbsPixelk\":497.640051065433,\"fYtoPixelk\":497.640051065433,\"fYtoPixel\":-400.399999031424,\"fUtoAbsPixelk\":5e-5,\"fUtoPixelk\":5e-5,\"fUtoPixel\":796,\"fVtoAbsPixelk\":572.00005,\"fVtoPixelk\":572,\"fVtoPixel\":-572,\"fAbsPixeltoXk\":-0.777719279478131,\"fPixeltoXk\":-0.777719279478131,\"fPixeltoX\":0.00751564851183519,\"fAbsPixeltoYk\":1.24285714852456,\"fPixeltoYk\":-0.185714283502611,\"fPixeltoY\":-0.00249750250354401,\"fXlowNDC\":0,\"fYlowNDC\":0,\"fXUpNDC\":0,\"fYUpNDC\":0,\"fWNDC\":1,\"fHNDC\":1,\"fAbsXlowNDC\":0,\"fAbsYlowNDC\":0,\"fAbsWNDC\":1,\"fAbsHNDC\":1,\"fUxmin\":0,\"fUymin\":0,\"fUxmax\":3.41,\"fUymax\":1.1,\"fTheta\":30,\"fPhi\":30,\"fAspectRatio\":0,\"fNumber\":0,\"fTickx\":0,\"fTicky\":0,\"fLogx\":0,\"fLogy\":0,\"fLogz\":0,\"fPadPaint\":0,\"fCrosshair\":0,\"fCrosshairPos\":0,\"fBorderSize\":2,\"fBorderMode\":0,\"fModified\":false,\"fGridx\":false,\"fGridy\":false,\"fAbsCoord\":false,\"fEditable\":true,\"fFixedAspectRatio\":false,\"fPrimitives\":{\"_typename\":\"TList\",\"name\":\"TList\",\"arr\":[{\"_typename\":\"TFrame\",\"fUniqueID\":0,\"fBits\":50331656,\"fLineColor\":1,\"fLineStyle\":1,\"fLineWidth\":1,\"fFillColor\":0,\"fFillStyle\":1001,\"fX1\":0,\"fY1\":0,\"fX2\":3.41,\"fY2\":1.1,\"fBorderSize\":1,\"fBorderMode\":0},{\"_typename\":\"TGraphAsymmErrors\",\"fUniqueID\":0,\"fBits\":50332680,\"fName\":\"68e091\",\"fTitle\":\"; |#eta^{GEN}|;\",\"fLineColor\":1,\"fLineStyle\":1,\"fLineWidth\":1,\"fFillColor\":0,\"fFillStyle\":1001,\"fMarkerColor\":1,\"fMarkerStyle\":8,\"fMarkerSize\":0.5,\"fNpoints\":31,\"fX\":[0.05,0.15,0.25,0.35,0.45,0.55,0.65,0.75,0.85,0.95,1.05,1.15,1.25,1.35,1.45,1.55,1.65,1.75,1.85,1.95,2.05,2.15,2.25,2.35,2.45,2.55,2.65,2.75,2.85,2.95,3.05],\"fY\":[0.834914611005693,0.929054054054054,0.917228103946102,0.93393536121673,0.89952380952381,0.908741594620557,0.917511520737327,0.925818882466281,0.907030527289547,0.899400092293493,0.910509407985314,0.898577329050023,0.901187648456057,0.889542779538253,0.745036101083033,0.722985347985348,0.904174573055028,0.905268022181146,0.91044061302682,0.902301550023485,0.925091911764706,0.910815939278937,0.911943793911007,0.866197183098592,0.320211233797408,0.00237416904083571,0,0,0,0,0],\"fFunctions\":{\"_typename\":\"TList\",\"name\":\"TList\",\"arr\":[],\"opt\":[]},\"fHistogram\":{\"_typename\":\"TH1F\",\"fUniqueID\":0,\"fBits\":50332160,\"fName\":\"68e091\",\"fTitle\":\"\",\"fLineColor\":602,\"fLineStyle\":1,\"fLineWidth\":1,\"fFillColor\":0,\"fFillStyle\":1001,\"fMarkerColor\":1,\"fMarkerStyle\":1,\"fMarkerSize\":1,\"fNcells\":102,\"fXaxis\":{\"_typename\":\"TAxis\",\"fUniqueID\":0,\"fBits\":50331656,\"fName\":\"xaxis\",\"fTitle\":\" |#eta^{GEN}|\",\"fNdivisions\":510,\"fAxisColor\":1,\"fLabelColor\":1,\"fLabelFont\":42,\"fLabelOffset\":0.005,\"fLabelSize\":0.035,\"fTickLength\":0.03,\"fTitleOffset\":1.4,\"fTitleSize\":0.035,\"fTitleColor\":1,\"fTitleFont\":42,\"fNbins\":100,\"fXmin\":0,\"fXmax\":3.41,\"fXbins\":[],\"fFirst\":0,\"fLast\":0,\"fBits2\":0,\"fTimeDisplay\":false,\"fTimeFormat\":\"\",\"fLabels\":null,\"fModLabs\":null},\"fYaxis\":{\"_typename\":\"TAxis\",\"fUniqueID\":0,\"fBits\":50331656,\"fName\":\"yaxis\",\"fTitle\":\"\",\"fNdivisions\":510,\"fAxisColor\":1,\"fLabelColor\":1,\"fLabelFont\":42,\"fLabelOffset\":0.005,\"fLabelSize\":0.035,\"fTickLength\":0.03,\"fTitleOffset\":0,\"fTitleSize\":0.035,\"fTitleColor\":1,\"fTitleFont\":42,\"fNbins\":1,\"fXmin\":0,\"fXmax\":1.03331166326779,\"fXbins\":[],\"fFirst\":0,\"fLast\":0,\"fBits2\":0,\"fTimeDisplay\":false,\"fTimeFormat\":\"\",\"fLabels\":null,\"fModLabs\":null},\"fZaxis\":{\"_typename\":\"TAxis\",\"fUniqueID\":0,\"fBits\":50331648,\"fName\":\"zaxis\",\"fTitle\":\"\",\"fNdivisions\":510,\"fAxisColor\":1,\"fLabelColor\":1,\"fLabelFont\":42,\"fLabelOffset\":0.005,\"fLabelSize\":0.035,\"fTickLength\":0.03,\"fTitleOffset\":1,\"fTitleSize\":0.035,\"fTitleColor\":1,\"fTitleFont\":42,\"fNbins\":1,\"fXmin\":0,\"fXmax\":1,\"fXbins\":[],\"fFirst\":0,\"fLast\":0,\"fBits2\":0,\"fTimeDisplay\":false,\"fTimeFormat\":\"\",\"fLabels\":null,\"fModLabs\":null},\"fBarOffset\":0,\"fBarWidth\":1000,\"fEntries\":0,\"fTsumw\":0,\"fTsumw2\":0,\"fTsumwx\":0,\"fTsumwx2\":0,\"fMaximum\":1.1,\"fMinimum\":0,\"fNormFactor\":0,\"fContour\":[],\"fSumw2\":[],\"fOption\":\"\",\"fFunctions\":{\"_typename\":\"TList\",\"name\":\"TList\",\"arr\":[],\"opt\":[]},\"fBufferSize\":0,\"fBuffer\":[],\"fBinStatErrOpt\":0,\"fStatOverflows\":2,\"fArray\":[0,0,0,0,0,0,0,0,0,0,0,0,0,0,0,0,0,0,0,0,0,0,0,0,0,0,0,0,0,0,0,0,0,0,0,0,0,0,0,0,0,0,0,0,0,0,0,0,0,0,0,0,0,0,0,0,0,0,0,0,0,0,0,0,0,0,0,0,0,0,0,0,0,0,0,0,0,0,0,0,0,0,0,0,0,0,0,0,0,0,0,0,0,0,0,0,0,0,0,0,0,0]},\"fMinimum\":-1111,\"fMaximum\":-1111,\"fEXlow\":[0.05,0.05,0.05,0.05,0.05,0.05,0.05,0.05,0.05,0.05,0.05,0.05,0.05,0.05,0.05,0.05,0.05,0.05,0.05,0.05,0.0499999999999998,0.0499999999999998,0.0499999999999998,0.0499999999999998,0.0499999999999998,0.0499999999999998,0.0499999999999998,0.0499999999999998,0.0499999999999998,0.0499999999999998,0.0499999999999998],\"fEXhigh\":[0.05,0.05,0.05,0.05,0.05,0.05,0.05,0.05,0.05,0.05,0.05,0.05,0.05,0.05,0.05,0.05,0.05,0.05,0.05,0.05,0.0500000000000002,0.0500000000000002,0.0500000000000002,0.0500000000000002,0.0500000000000002,0.0500000000000002,0.0500000000000002,0.0500000000000002,0.0500000000000002,0.0500000000000002,0.0500000000000002],\"fEYlow\":[0.00848581012787308,0.00609837413664149,0.00649444384405196,0.00586936459977494,0.00699572615429045,0.00675555526958682,0.006336607212025,0.0062071257934353,0.00667209155744564,0.00688341315783136,0.00654038127100753,0.00688615945214044,0.00693932554128729,0.00707790435418443,0.0095956731885799,0.00990763889287072,0.00684732152793033,0.00672062890903258,0.00669304000445248,0.00686563758947945,0.00607711075645645,0.00664751878362757,0.00656781870294298,0.00778809470417852,0.0103719806882061,0.00102512269335102,0,0,0,0,0],\"fEYhigh\":[0.00815882307254401,0.00566661500689114,0.00607699599747946,0.00543887811762567,0.00660151918495888,0.00634807521784564,0.00593688628711087,0.00577982225284668,0.00628171289002777,0.0065017251528755,0.00614955034218145,0.0065074379933191,0.00654433007413258,0.00671333804179364,0.00936919308453277,0.00969861555305873,0.0064497679377945,0.00633242270289602,0.00628493586702805,0.00647401766861166,0.00567058740421311,0.00624295868857339,0.00616728573636871,0.00743339916252461,0.0105486076043798,0.00160291616775426,8.51961710012851e-4,8.36098091945794e-4,8.9113860551609e-4,8.48819274492255e-4,9.00730488653173e-4]},{\"_typename\":\"TLatex\",\"fUniqueID\":0,\"fBits\":50348040,\"fName\":\"\",\"fTitle\":\"PU200, TkEle Ell. match all, p_{T}^{L1}>=25GeV, LooseTkID, p_{T}^{GEN}>=35GeV\",\"fTextAngle\":0,\"fTextSize\":0.03,\"fTextAlign\":11,\"fTextColor\":1,\"fTextFont\":62,\"fX\":0.15,\"fY\":0.85,\"fLineColor\":1,\"fLineStyle\":1,\"fLineWidth\":2,\"fLimitFactorSize\":3,\"fOriginSize\":0.04},{\"_typename\":\"TLatex\",\"fUniqueID\":0,\"fBits\":50331656,\"fName\":\"\",\"fTitle\":\"\",\"fTextAngle\":0,\"fTextSize\":0.03,\"fTextAlign\":11,\"fTextColor\":1,\"fTextFont\":62,\"fX\":0,\"fY\":0,\"fLineColor\":1,\"fLineStyle\":1,\"fLineWidth\":2,\"fLimitFactorSize\":3,\"fOriginSize\":0.04},{\"_typename\":\"TLine\",\"fUniqueID\":0,\"fBits\":50331656,\"fLineColor\":1,\"fLineStyle\":2,\"fLineWidth\":1,\"fX1\":1.52,\"fY1\":0,\"fX2\":1.52,\"fY2\":1.1},{\"_typename\":\"TLine\",\"fUniqueID\":0,\"fBits\":50331656,\"fLineColor\":1,\"fLineStyle\":2,\"fLineWidth\":1,\"fX1\":1.7,\"fY1\":0,\"fX2\":1.7,\"fY2\":1.1},{\"_typename\":\"TLine\",\"fUniqueID\":0,\"fBits\":50331656,\"fLineColor\":1,\"fLineStyle\":2,\"fLineWidth\":1,\"fX1\":2.4,\"fY1\":0,\"fX2\":2.4,\"fY2\":1.1},{\"_typename\":\"TLine\",\"fUniqueID\":0,\"fBits\":50331656,\"fLineColor\":1,\"fLineStyle\":2,\"fLineWidth\":1,\"fX1\":2.8,\"fY1\":0,\"fX2\":2.8,\"fY2\":1.1}],\"opt\":[\"\",\"pa\",\"same\",\"same\",\"same\",\"same\",\"same\",\"same\"]},\"fExecs\":null,\"fName\":\"c_a36d46\",\"fTitle\":\"c_a36d46\",\"fNumPaletteColor\":0,\"fNextPaletteColor\":0,\"fDISPLAY\":\"$DISPLAY\",\"fDoubleBuffer\":0,\"fRetained\":true,\"fXsizeUser\":0,\"fYsizeUser\":0,\"fXsizeReal\":20,\"fYsizeReal\":15,\"fWindowTopX\":0,\"fWindowTopY\":0,\"fWindowWidth\":0,\"fWindowHeight\":0,\"fCw\":796,\"fCh\":572,\"fCatt\":{\"_typename\":\"TAttCanvas\",\"fXBetween\":2,\"fYBetween\":2,\"fTitleFromTop\":1.2,\"fXdate\":0.2,\"fYdate\":0.3,\"fAdate\":1},\"kMoveOpaque\":true,\"kResizeOpaque\":true,\"fHighLightColor\":2,\"fBatch\":true,\"kShowEventStatus\":false,\"kAutoExec\":true,\"kMenuBar\":true});\n",
       "       Core.draw(\"root_plot_5\", obj, \"\");\n",
       "     }\n",
       " );\n",
       "</script>\n"
      ],
      "text/plain": [
       "<IPython.core.display.HTML object>"
      ]
     },
     "metadata": {},
     "output_type": "display_data"
    }
   ],
   "source": [
    "hsets, labels, text = hplot.get_histo(histos.HistoSetEff, ['hybrid', 'ele-V9'], ['PU200'], 'TkEleELALL', 'Pt25LooseTkID', 'GENPt35', debug=False)\n",
    "draw([his.h_eff.h_abseta.CreateGraph() for his in hsets], labels, text=text, min_y=0, max_y=1.1, v_lines=[1.52, 1.7, 2.4, 2.8])\n"
   ]
  },
  {
   "cell_type": "code",
   "execution_count": 26,
   "metadata": {},
   "outputs": [],
   "source": [
    "# sample='hybrid'"
   ]
  },
  {
   "cell_type": "code",
   "execution_count": 27,
   "metadata": {
    "scrolled": false
   },
   "outputs": [
    {
     "data": {
      "text/plain": [
       "<drawingTools.DrawMachine at 0x11acd3650>"
      ]
     },
     "execution_count": 27,
     "metadata": {},
     "output_type": "execute_result"
    },
    {
     "name": "stderr",
     "output_type": "stream",
     "text": [
      "Info in <TCanvas::Print>: pdf file figs/egammaBarrelEndcap_EG_GENPt30_hEffVAbsEta.pdf has been created\n",
      "Info in <TCanvas::Print>: pdf file figs/egammaBarrelEndcap_EG_GENPt30_hEffVEta.pdf has been created\n"
     ]
    },
    {
     "data": {
      "text/html": [
       "\n",
       "<div id=\"root_plot_6\"\n",
       "     style=\"width: 596px; height: 572px\">\n",
       "</div>\n",
       "\n",
       "<script>\n",
       " requirejs.config({\n",
       "     paths: {\n",
       "       'JSRootCore' : 'https://root.cern.ch/js/notebook//scripts/JSRootCore',\n",
       "     }\n",
       "   });\n",
       " require(['JSRootCore'],\n",
       "     function(Core) {\n",
       "       var obj = Core.JSONR_unref({\"_typename\":\"TCanvas\",\"fUniqueID\":0,\"fBits\":53673992,\"fLineColor\":1,\"fLineStyle\":1,\"fLineWidth\":1,\"fFillColor\":0,\"fFillStyle\":1001,\"fLeftMargin\":0.13,\"fRightMargin\":0.13,\"fBottomMargin\":0.13,\"fTopMargin\":0.1,\"fXfile\":2,\"fYfile\":2,\"fAfile\":1,\"fXstat\":0.99,\"fYstat\":0.99,\"fAstat\":2,\"fFrameFillColor\":0,\"fFrameLineColor\":1,\"fFrameFillStyle\":1001,\"fFrameLineStyle\":1,\"fFrameLineWidth\":1,\"fFrameBorderSize\":1,\"fFrameBorderMode\":0,\"fX1\":-0.614864834387691,\"fY1\":0.515584416589722,\"fX2\":4.11486483438769,\"fY2\":1.16493506751116,\"fXtoAbsPixelk\":77.4800471580505,\"fXtoPixelk\":77.4800471580505,\"fXtoPixel\":126.0114301954,\"fYtoAbsPixelk\":1026.16804978691,\"fYtoPixelk\":1026.16804978691,\"fYtoPixel\":-880.879997869134,\"fUtoAbsPixelk\":5e-5,\"fUtoPixelk\":5e-5,\"fUtoPixel\":596,\"fVtoAbsPixelk\":572.00005,\"fVtoPixelk\":572,\"fVtoPixel\":-572,\"fAbsPixeltoXk\":-0.614864834387691,\"fPixeltoXk\":-0.614864834387691,\"fPixeltoX\":0.00793578803485802,\"fAbsPixeltoYk\":1.16493506751116,\"fPixeltoYk\":0.515584416589722,\"fPixeltoY\":-0.00113522841070182,\"fXlowNDC\":0,\"fYlowNDC\":0,\"fXUpNDC\":0,\"fYUpNDC\":0,\"fWNDC\":1,\"fHNDC\":1,\"fAbsXlowNDC\":0,\"fAbsYlowNDC\":0,\"fAbsWNDC\":1,\"fAbsHNDC\":1,\"fUxmin\":0,\"fUymin\":0.6,\"fUxmax\":3.5,\"fUymax\":1.1,\"fTheta\":30,\"fPhi\":30,\"fAspectRatio\":0,\"fNumber\":0,\"fTickx\":0,\"fTicky\":0,\"fLogx\":0,\"fLogy\":0,\"fLogz\":0,\"fPadPaint\":0,\"fCrosshair\":0,\"fCrosshairPos\":0,\"fBorderSize\":2,\"fBorderMode\":0,\"fModified\":false,\"fGridx\":false,\"fGridy\":false,\"fAbsCoord\":false,\"fEditable\":true,\"fFixedAspectRatio\":false,\"fPrimitives\":{\"_typename\":\"TList\",\"name\":\"TList\",\"arr\":[{\"_typename\":\"TFrame\",\"fUniqueID\":0,\"fBits\":50331656,\"fLineColor\":1,\"fLineStyle\":1,\"fLineWidth\":1,\"fFillColor\":0,\"fFillStyle\":1001,\"fX1\":0,\"fY1\":0.6,\"fX2\":3.5,\"fY2\":1.1,\"fBorderSize\":1,\"fBorderMode\":0},{\"_typename\":\"TGraphAsymmErrors\",\"fUniqueID\":0,\"fBits\":50332680,\"fName\":\"d9d3b1\",\"fTitle\":\"; |#eta^{GEN}|;\",\"fLineColor\":1,\"fLineStyle\":1,\"fLineWidth\":1,\"fFillColor\":0,\"fFillStyle\":1001,\"fMarkerColor\":1,\"fMarkerStyle\":8,\"fMarkerSize\":0.5,\"fNpoints\":16,\"fX\":[0.1,0.3,0.5,0.7,0.9,1.1,1.3,1.5,1.7,1.9,2.1,2.3,2.5,2.7,2.9,3.1],\"fY\":[0.983253588516746,0.989239598278336,0.984696317551411,0.988224211022139,0.988911988911989,0.993345571363011,0.991423273064441,0.811590909090909,0.993445692883895,0.996205833530946,0.994164332399627,0.98757327080891,0.978037717832418,0.955744095390965,0.890148830616584,0.0186000978952521],\"fFunctions\":{\"_typename\":\"TList\",\"name\":\"TList\",\"arr\":[],\"opt\":[]},\"fHistogram\":{\"_typename\":\"TH1F\",\"fUniqueID\":0,\"fBits\":50332160,\"fName\":\"d9d3b1\",\"fTitle\":\"\",\"fLineColor\":602,\"fLineStyle\":1,\"fLineWidth\":1,\"fFillColor\":0,\"fFillStyle\":1001,\"fMarkerColor\":1,\"fMarkerStyle\":1,\"fMarkerSize\":1,\"fNcells\":102,\"fXaxis\":{\"_typename\":\"TAxis\",\"fUniqueID\":0,\"fBits\":50331656,\"fName\":\"xaxis\",\"fTitle\":\" |#eta^{GEN}|\",\"fNdivisions\":510,\"fAxisColor\":1,\"fLabelColor\":1,\"fLabelFont\":42,\"fLabelOffset\":0.005,\"fLabelSize\":0.035,\"fTickLength\":0.03,\"fTitleOffset\":1.4,\"fTitleSize\":0.035,\"fTitleColor\":1,\"fTitleFont\":42,\"fNbins\":100,\"fXmin\":0,\"fXmax\":3.5,\"fXbins\":[],\"fFirst\":0,\"fLast\":0,\"fBits2\":0,\"fTimeDisplay\":false,\"fTimeFormat\":\"\",\"fLabels\":null,\"fModLabs\":null},\"fYaxis\":{\"_typename\":\"TAxis\",\"fUniqueID\":0,\"fBits\":50331656,\"fName\":\"yaxis\",\"fTitle\":\"efficiency\",\"fNdivisions\":510,\"fAxisColor\":1,\"fLabelColor\":1,\"fLabelFont\":42,\"fLabelOffset\":0.005,\"fLabelSize\":0.035,\"fTickLength\":0.03,\"fTitleOffset\":0,\"fTitleSize\":0.035,\"fTitleColor\":1,\"fTitleFont\":42,\"fNbins\":1,\"fXmin\":0.0140542455986716,\"fXmax\":1.09529611918499,\"fXbins\":[],\"fFirst\":0,\"fLast\":0,\"fBits2\":0,\"fTimeDisplay\":false,\"fTimeFormat\":\"\",\"fLabels\":null,\"fModLabs\":null},\"fZaxis\":{\"_typename\":\"TAxis\",\"fUniqueID\":0,\"fBits\":50331648,\"fName\":\"zaxis\",\"fTitle\":\"\",\"fNdivisions\":510,\"fAxisColor\":1,\"fLabelColor\":1,\"fLabelFont\":42,\"fLabelOffset\":0.005,\"fLabelSize\":0.035,\"fTickLength\":0.03,\"fTitleOffset\":1,\"fTitleSize\":0.035,\"fTitleColor\":1,\"fTitleFont\":42,\"fNbins\":1,\"fXmin\":0,\"fXmax\":1,\"fXbins\":[],\"fFirst\":0,\"fLast\":0,\"fBits2\":0,\"fTimeDisplay\":false,\"fTimeFormat\":\"\",\"fLabels\":null,\"fModLabs\":null},\"fBarOffset\":0,\"fBarWidth\":1000,\"fEntries\":0,\"fTsumw\":0,\"fTsumw2\":0,\"fTsumwx\":0,\"fTsumwx2\":0,\"fMaximum\":1.1,\"fMinimum\":0.6,\"fNormFactor\":0,\"fContour\":[],\"fSumw2\":[],\"fOption\":\"\",\"fFunctions\":{\"_typename\":\"TList\",\"name\":\"TList\",\"arr\":[],\"opt\":[]},\"fBufferSize\":0,\"fBuffer\":[],\"fBinStatErrOpt\":0,\"fStatOverflows\":2,\"fArray\":[0,0,0,0,0,0,0,0,0,0,0,0,0,0,0,0,0,0,0,0,0,0,0,0,0,0,0,0,0,0,0,0,0,0,0,0,0,0,0,0,0,0,0,0,0,0,0,0,0,0,0,0,0,0,0,0,0,0,0,0,0,0,0,0,0,0,0,0,0,0,0,0,0,0,0,0,0,0,0,0,0,0,0,0,0,0,0,0,0,0,0,0,0,0,0,0,0,0,0,0,0,0]},\"fMinimum\":-1111,\"fMaximum\":-1111,\"fEXlow\":[0.1,0.1,0.1,0.1,0.1,0.1,0.1,0.1,0.1,0.1,0.1,0.1,0.1,0.1,0.1,0.1],\"fEXhigh\":[0.1,0.1,0.1,0.1,0.1,0.0999999999999999,0.0999999999999999,0.0999999999999999,0.0999999999999999,0.0999999999999999,0.0999999999999999,0.0999999999999999,0.0999999999999999,0.0999999999999999,0.0999999999999999,0.0999999999999999],\"fEYlow\":[0.00222890870067549,0.00184334746415837,0.00214311499007391,0.00189885751478747,0.00183059848766587,0.0014733304359531,0.00164603407343322,0.00608052270453019,0.00148147720351555,0.00120236037130439,0.00141096502574389,0.0019380830247262,0.00250554029378325,0.00333809854794265,0.00501881886181066,0.00298426945228368],\"fEYhigh\":[0.00198375809903395,0.001591835246322,0.00189671854739892,0.00165252852935127,0.0015883246700592,0.00122581314118186,0.00139938849494248,0.00593617928238721,0.00122854608949963,9.37531950221948e-4,0.00115710609496344,0.00169364141665862,0.002265287114392,0.00312141475331418,0.00482997571205179,0.0034940544849682]},{\"_typename\":\"TGraphAsymmErrors\",\"fUniqueID\":0,\"fBits\":50332680,\"fName\":\"da8b96\",\"fTitle\":\"; |#eta^{GEN}|;\",\"fLineColor\":628,\"fLineStyle\":1,\"fLineWidth\":1,\"fFillColor\":0,\"fFillStyle\":1001,\"fMarkerColor\":628,\"fMarkerStyle\":21,\"fMarkerSize\":0.5,\"fNpoints\":16,\"fX\":[0.1,0.3,0.5,0.7,0.9,1.1,1.3,1.5,1.7,1.9,2.1,2.3,2.5,2.7,2.9,3.1],\"fY\":[0.881100478468899,0.927068388330942,0.907221425155428,0.922279792746114,0.907599907599908,0.905002294630564,0.890356977283264,0.729772727272727,0.900749063670412,0.900165994783021,0.912931839402428,0.885814771395076,0.159942707089998,0,0,0],\"fFunctions\":{\"_typename\":\"TList\",\"name\":\"TList\",\"arr\":[],\"opt\":[]},\"fHistogram\":{\"_typename\":\"TH1F\",\"fUniqueID\":0,\"fBits\":50332160,\"fName\":\"da8b96\",\"fTitle\":\"\",\"fLineColor\":602,\"fLineStyle\":1,\"fLineWidth\":1,\"fFillColor\":0,\"fFillStyle\":1001,\"fMarkerColor\":1,\"fMarkerStyle\":1,\"fMarkerSize\":1,\"fNcells\":102,\"fXaxis\":{\"_typename\":\"TAxis\",\"fUniqueID\":0,\"fBits\":50331656,\"fName\":\"xaxis\",\"fTitle\":\" |#eta^{GEN}|\",\"fNdivisions\":510,\"fAxisColor\":1,\"fLabelColor\":1,\"fLabelFont\":42,\"fLabelOffset\":0.005,\"fLabelSize\":0.035,\"fTickLength\":0.03,\"fTitleOffset\":1.4,\"fTitleSize\":0.035,\"fTitleColor\":1,\"fTitleFont\":42,\"fNbins\":100,\"fXmin\":0,\"fXmax\":3.5,\"fXbins\":[],\"fFirst\":0,\"fLast\":0,\"fBits2\":0,\"fTimeDisplay\":false,\"fTimeFormat\":\"\",\"fLabels\":null,\"fModLabs\":null},\"fYaxis\":{\"_typename\":\"TAxis\",\"fUniqueID\":0,\"fBits\":50331656,\"fName\":\"yaxis\",\"fTitle\":\"efficiency\",\"fNdivisions\":510,\"fAxisColor\":1,\"fLabelColor\":1,\"fLabelFont\":42,\"fLabelOffset\":0.005,\"fLabelSize\":0.035,\"fTickLength\":0.03,\"fTitleOffset\":0,\"fTitleSize\":0.035,\"fTitleColor\":1,\"fTitleFont\":42,\"fNbins\":1,\"fXmin\":0,\"fXmax\":1.02421444773698,\"fXbins\":[],\"fFirst\":0,\"fLast\":0,\"fBits2\":0,\"fTimeDisplay\":false,\"fTimeFormat\":\"\",\"fLabels\":null,\"fModLabs\":null},\"fZaxis\":{\"_typename\":\"TAxis\",\"fUniqueID\":0,\"fBits\":50331648,\"fName\":\"zaxis\",\"fTitle\":\"\",\"fNdivisions\":510,\"fAxisColor\":1,\"fLabelColor\":1,\"fLabelFont\":42,\"fLabelOffset\":0.005,\"fLabelSize\":0.035,\"fTickLength\":0.03,\"fTitleOffset\":1,\"fTitleSize\":0.035,\"fTitleColor\":1,\"fTitleFont\":42,\"fNbins\":1,\"fXmin\":0,\"fXmax\":1,\"fXbins\":[],\"fFirst\":0,\"fLast\":0,\"fBits2\":0,\"fTimeDisplay\":false,\"fTimeFormat\":\"\",\"fLabels\":null,\"fModLabs\":null},\"fBarOffset\":0,\"fBarWidth\":1000,\"fEntries\":0,\"fTsumw\":0,\"fTsumw2\":0,\"fTsumwx\":0,\"fTsumwx2\":0,\"fMaximum\":1.1,\"fMinimum\":0.6,\"fNormFactor\":0,\"fContour\":[],\"fSumw2\":[],\"fOption\":\"\",\"fFunctions\":{\"_typename\":\"TList\",\"name\":\"TList\",\"arr\":[],\"opt\":[]},\"fBufferSize\":0,\"fBuffer\":[],\"fBinStatErrOpt\":0,\"fStatOverflows\":2,\"fArray\":[0,0,0,0,0,0,0,0,0,0,0,0,0,0,0,0,0,0,0,0,0,0,0,0,0,0,0,0,0,0,0,0,0,0,0,0,0,0,0,0,0,0,0,0,0,0,0,0,0,0,0,0,0,0,0,0,0,0,0,0,0,0,0,0,0,0,0,0,0,0,0,0,0,0,0,0,0,0,0,0,0,0,0,0,0,0,0,0,0,0,0,0,0,0,0,0,0,0,0,0,0,0]},\"fMinimum\":-1111,\"fMaximum\":-1111,\"fEXlow\":[0.1,0.1,0.1,0.1,0.1,0.1,0.1,0.1,0.1,0.1,0.1,0.1,0.1,0.1,0.1,0.1],\"fEXhigh\":[0.1,0.1,0.1,0.1,0.1,0.0999999999999999,0.0999999999999999,0.0999999999999999,0.0999999999999999,0.0999999999999999,0.0999999999999999,0.0999999999999999,0.0999999999999999,0.0999999999999999,0.0999999999999999,0.0999999999999999],\"fEYlow\":[0.00521915531742811,0.00424594483899987,0.00470595774397375,0.00432907631825763,0.00461363821782101,0.00465174815066915,0.00496556870266018,0.00686080021563862,0.00478792019276419,0.00483231038701593,0.00452337905402489,0.00507968569852979,0.00569962036245228,0,0,0],\"fEYhigh\":[0.00503247803457585,0.00403565506631676,0.00450604283111311,0.00412449234888013,0.00442040833713342,0.00446110363065988,0.00478021025188236,0.00675459963253633,0.00459552708569388,0.00463767308117069,0.00432540057325681,0.00489443244186016,0.00586537692460107,4.22066750895466e-4,4.34826683988015e-4,9.00730488653173e-4]},{\"_typename\":\"TGraphAsymmErrors\",\"fUniqueID\":0,\"fBits\":50332680,\"fName\":\"212449\",\"fTitle\":\"; |#eta^{GEN}|;\",\"fLineColor\":417,\"fLineStyle\":1,\"fLineWidth\":1,\"fFillColor\":0,\"fFillStyle\":1001,\"fMarkerColor\":417,\"fMarkerStyle\":22,\"fMarkerSize\":0.5,\"fNpoints\":16,\"fX\":[0.1,0.3,0.5,0.7,0.9,1.1,1.3,1.5,1.7,1.9,2.1,2.3,2.5,2.7,2.9,3.1],\"fY\":[0.881578947368421,0.925633668101387,0.904112864658058,0.921573245407442,0.903210903210903,0.904543368517669,0.89522484932777,0.734090909090909,0.904728464419476,0.906331515295234,0.918067226890756,0.889097303634232,0.160420148006684,0,0,0],\"fFunctions\":{\"_typename\":\"TList\",\"name\":\"TList\",\"arr\":[],\"opt\":[]},\"fHistogram\":{\"_typename\":\"TH1F\",\"fUniqueID\":0,\"fBits\":50332160,\"fName\":\"212449\",\"fTitle\":\"\",\"fLineColor\":602,\"fLineStyle\":1,\"fLineWidth\":1,\"fFillColor\":0,\"fFillStyle\":1001,\"fMarkerColor\":1,\"fMarkerStyle\":1,\"fMarkerSize\":1,\"fNcells\":102,\"fXaxis\":{\"_typename\":\"TAxis\",\"fUniqueID\":0,\"fBits\":50331656,\"fName\":\"xaxis\",\"fTitle\":\" |#eta^{GEN}|\",\"fNdivisions\":510,\"fAxisColor\":1,\"fLabelColor\":1,\"fLabelFont\":42,\"fLabelOffset\":0.005,\"fLabelSize\":0.035,\"fTickLength\":0.03,\"fTitleOffset\":1.4,\"fTitleSize\":0.035,\"fTitleColor\":1,\"fTitleFont\":42,\"fNbins\":100,\"fXmin\":0,\"fXmax\":3.5,\"fXbins\":[],\"fFirst\":0,\"fLast\":0,\"fBits2\":0,\"fTimeDisplay\":false,\"fTimeFormat\":\"\",\"fLabels\":null,\"fModLabs\":null},\"fYaxis\":{\"_typename\":\"TAxis\",\"fUniqueID\":0,\"fBits\":50331656,\"fName\":\"yaxis\",\"fTitle\":\"efficiency\",\"fNdivisions\":510,\"fAxisColor\":1,\"fLabelColor\":1,\"fLabelFont\":42,\"fLabelOffset\":0.005,\"fLabelSize\":0.035,\"fTickLength\":0.03,\"fTitleOffset\":0,\"fTitleSize\":0.035,\"fTitleColor\":1,\"fTitleFont\":42,\"fNbins\":1,\"fXmin\":0,\"fXmax\":1.02267648977383,\"fXbins\":[],\"fFirst\":0,\"fLast\":0,\"fBits2\":0,\"fTimeDisplay\":false,\"fTimeFormat\":\"\",\"fLabels\":null,\"fModLabs\":null},\"fZaxis\":{\"_typename\":\"TAxis\",\"fUniqueID\":0,\"fBits\":50331648,\"fName\":\"zaxis\",\"fTitle\":\"\",\"fNdivisions\":510,\"fAxisColor\":1,\"fLabelColor\":1,\"fLabelFont\":42,\"fLabelOffset\":0.005,\"fLabelSize\":0.035,\"fTickLength\":0.03,\"fTitleOffset\":1,\"fTitleSize\":0.035,\"fTitleColor\":1,\"fTitleFont\":42,\"fNbins\":1,\"fXmin\":0,\"fXmax\":1,\"fXbins\":[],\"fFirst\":0,\"fLast\":0,\"fBits2\":0,\"fTimeDisplay\":false,\"fTimeFormat\":\"\",\"fLabels\":null,\"fModLabs\":null},\"fBarOffset\":0,\"fBarWidth\":1000,\"fEntries\":0,\"fTsumw\":0,\"fTsumw2\":0,\"fTsumwx\":0,\"fTsumwx2\":0,\"fMaximum\":1.1,\"fMinimum\":0.6,\"fNormFactor\":0,\"fContour\":[],\"fSumw2\":[],\"fOption\":\"\",\"fFunctions\":{\"_typename\":\"TList\",\"name\":\"TList\",\"arr\":[],\"opt\":[]},\"fBufferSize\":0,\"fBuffer\":[],\"fBinStatErrOpt\":0,\"fStatOverflows\":2,\"fArray\":[0,0,0,0,0,0,0,0,0,0,0,0,0,0,0,0,0,0,0,0,0,0,0,0,0,0,0,0,0,0,0,0,0,0,0,0,0,0,0,0,0,0,0,0,0,0,0,0,0,0,0,0,0,0,0,0,0,0,0,0,0,0,0,0,0,0,0,0,0,0,0,0,0,0,0,0,0,0,0,0,0,0,0,0,0,0,0,0,0,0,0,0,0,0,0,0,0,0,0,0,0,0]},\"fMinimum\":-1111,\"fMaximum\":-1111,\"fEXlow\":[0.1,0.1,0.1,0.1,0.1,0.1,0.1,0.1,0.1,0.1,0.1,0.1,0.1,0.1,0.1,0.1],\"fEXhigh\":[0.1,0.1,0.1,0.1,0.1,0.0999999999999999,0.0999999999999999,0.0999999999999999,0.0999999999999999,0.0999999999999999,0.0999999999999999,0.0999999999999999,0.0999999999999999,0.0999999999999999,0.0999999999999999,0.0999999999999999],\"fEYlow\":[0.00521055294941675,0.00428176084744736,0.00477184550866749,0.00434593795133265,0.00470492404111711,0.00466121751974724,0.00487270338943635,0.00682772592471115,0.00470619809241635,0.0047044043821689,0.00440751147044749,0.00501890173677155,0.00570657101560207,0,0,0],\"fEYhigh\":[0.0050236336613585,0.0040722316930043,0.00457353230419588,0.00414171986480572,0.00451387559670613,0.00447079937878281,0.00468494317603707,0.00671952022769129,0.00451180502877369,0.00450662501127752,0.00420692256324817,0.0048320159234515,0.00587209072912162,4.22066750895466e-4,4.34826683988015e-4,9.00730488653173e-4]},{\"_typename\":\"TLegend\",\"fUniqueID\":0,\"fBits\":50331656,\"fLineColor\":1,\"fLineStyle\":1,\"fLineWidth\":1,\"fFillColor\":0,\"fFillStyle\":0,\"fX1\":0.14189191261637,\"fY1\":0.645454546774011,\"fX2\":1.37162162649797,\"fY2\":0.742857144412227,\"fX1NDC\":0.16,\"fY1NDC\":0.2,\"fX2NDC\":0.42,\"fY2NDC\":0.35,\"fBorderSize\":0,\"fInit\":1,\"fShadowColor\":1,\"fCornerRadius\":0,\"fOption\":\"brNDC\",\"fName\":\"TPave\",\"fTextAngle\":0,\"fTextSize\":0.03,\"fTextAlign\":12,\"fTextColor\":1,\"fTextFont\":42,\"fPrimitives\":{\"_typename\":\"TList\",\"name\":\"TList\",\"arr\":[{\"_typename\":\"TLegendEntry\",\"fUniqueID\":0,\"fBits\":50331656,\"fTextAngle\":0,\"fTextSize\":0,\"fTextAlign\":0,\"fTextColor\":0,\"fTextFont\":42,\"fLineColor\":1,\"fLineStyle\":1,\"fLineWidth\":1,\"fFillColor\":0,\"fFillStyle\":0,\"fMarkerColor\":1,\"fMarkerStyle\":8,\"fMarkerSize\":0.5,\"fObject\":{\"$ref\":3},\"fLabel\":\"calorimeter-only\",\"fOption\":\"P\"},{\"_typename\":\"TLegendEntry\",\"fUniqueID\":0,\"fBits\":50331656,\"fTextAngle\":0,\"fTextSize\":0,\"fTextAlign\":0,\"fTextColor\":0,\"fTextFont\":42,\"fLineColor\":1,\"fLineStyle\":1,\"fLineWidth\":1,\"fFillColor\":0,\"fFillStyle\":0,\"fMarkerColor\":628,\"fMarkerStyle\":21,\"fMarkerSize\":0.5,\"fObject\":{\"$ref\":10},\"fLabel\":\"track-matched\",\"fOption\":\"P\"},{\"_typename\":\"TLegendEntry\",\"fUniqueID\":0,\"fBits\":50331656,\"fTextAngle\":0,\"fTextSize\":0,\"fTextAlign\":0,\"fTextColor\":0,\"fTextFont\":42,\"fLineColor\":1,\"fLineStyle\":1,\"fLineWidth\":1,\"fFillColor\":0,\"fFillStyle\":0,\"fMarkerColor\":417,\"fMarkerStyle\":22,\"fMarkerSize\":0.5,\"fObject\":{\"$ref\":17},\"fLabel\":\"#splitline{track-matched + charged iso.}{(no EG ID for |#eta| < 1.479)}\",\"fOption\":\"P\"}],\"opt\":[\"P\",\"P\",\"P\"]},\"fEntrySeparation\":0.1,\"fMargin\":0.25,\"fNColumns\":1,\"fColumnSeparation\":0},{\"_typename\":\"TLatex\",\"fUniqueID\":0,\"fBits\":50348040,\"fName\":\"\",\"fTitle\":\"EG, p_{T}^{L1} #geq 25GeV, p_{T}^{GEN} #geq 35GeV\",\"fTextAngle\":0,\"fTextSize\":0.03,\"fTextAlign\":11,\"fTextColor\":1,\"fTextFont\":62,\"fX\":0.15,\"fY\":0.85,\"fLineColor\":1,\"fLineStyle\":1,\"fLineWidth\":2,\"fLimitFactorSize\":3,\"fOriginSize\":0.0299999993294477},{\"_typename\":\"TLatex\",\"fUniqueID\":0,\"fBits\":50348041,\"fName\":\"\",\"fTitle\":\"#scale[1.5]{CMS} #scale[1.]{Phase-2 Simulation}\",\"fTextAngle\":0,\"fTextSize\":0.03,\"fTextAlign\":11,\"fTextColor\":1,\"fTextFont\":62,\"fX\":0.13,\"fY\":0.91,\"fLineColor\":1,\"fLineStyle\":1,\"fLineWidth\":2,\"fLimitFactorSize\":3,\"fOriginSize\":0.0299999993294477},{\"_typename\":\"TLatex\",\"fUniqueID\":0,\"fBits\":50348041,\"fName\":\"\",\"fTitle\":\"14TeV, 200 PU\",\"fTextAngle\":0,\"fTextSize\":0.03,\"fTextAlign\":11,\"fTextColor\":1,\"fTextFont\":62,\"fX\":0.69,\"fY\":0.91,\"fLineColor\":1,\"fLineStyle\":1,\"fLineWidth\":2,\"fLimitFactorSize\":3,\"fOriginSize\":0.0299999993294477},{\"_typename\":\"TLatex\",\"fUniqueID\":0,\"fBits\":50331656,\"fName\":\"\",\"fTitle\":\"\",\"fTextAngle\":0,\"fTextSize\":0.03,\"fTextAlign\":11,\"fTextColor\":1,\"fTextFont\":62,\"fX\":0,\"fY\":0,\"fLineColor\":1,\"fLineStyle\":1,\"fLineWidth\":2,\"fLimitFactorSize\":3,\"fOriginSize\":0.04},{\"_typename\":\"TLine\",\"fUniqueID\":0,\"fBits\":50331656,\"fLineColor\":1,\"fLineStyle\":2,\"fLineWidth\":1,\"fX1\":1.47,\"fY1\":0.6,\"fX2\":1.47,\"fY2\":1.1},{\"_typename\":\"TLine\",\"fUniqueID\":0,\"fBits\":50331656,\"fLineColor\":1,\"fLineStyle\":2,\"fLineWidth\":1,\"fX1\":1.52,\"fY1\":0.6,\"fX2\":1.52,\"fY2\":1.1},{\"_typename\":\"TLine\",\"fUniqueID\":0,\"fBits\":50331656,\"fLineColor\":1,\"fLineStyle\":2,\"fLineWidth\":1,\"fX1\":2.4,\"fY1\":0.6,\"fX2\":2.4,\"fY2\":1.1}],\"opt\":[\"\",\"pa\",\",p\",\",p\",\"same\",\"same\",\"\",\"\",\"same\",\"same\",\"same\",\"same\"]},\"fExecs\":null,\"fName\":\"c_641978\",\"fTitle\":\"c_641978\",\"fNumPaletteColor\":0,\"fNextPaletteColor\":0,\"fDISPLAY\":\"$DISPLAY\",\"fDoubleBuffer\":0,\"fRetained\":true,\"fXsizeUser\":0,\"fYsizeUser\":0,\"fXsizeReal\":20,\"fYsizeReal\":20,\"fWindowTopX\":0,\"fWindowTopY\":0,\"fWindowWidth\":0,\"fWindowHeight\":0,\"fCw\":596,\"fCh\":572,\"fCatt\":{\"_typename\":\"TAttCanvas\",\"fXBetween\":2,\"fYBetween\":2,\"fTitleFromTop\":1.2,\"fXdate\":0.2,\"fYdate\":0.3,\"fAdate\":1},\"kMoveOpaque\":true,\"kResizeOpaque\":true,\"fHighLightColor\":2,\"fBatch\":true,\"kShowEventStatus\":false,\"kAutoExec\":true,\"kMenuBar\":true});\n",
       "       Core.draw(\"root_plot_6\", obj, \"\");\n",
       "     }\n",
       " );\n",
       "</script>\n"
      ],
      "text/plain": [
       "<IPython.core.display.HTML object>"
      ]
     },
     "metadata": {},
     "output_type": "display_data"
    },
    {
     "data": {
      "text/html": [
       "\n",
       "<div id=\"root_plot_7\"\n",
       "     style=\"width: 596px; height: 572px\">\n",
       "</div>\n",
       "\n",
       "<script>\n",
       " requirejs.config({\n",
       "     paths: {\n",
       "       'JSRootCore' : 'https://root.cern.ch/js/notebook//scripts/JSRootCore',\n",
       "     }\n",
       "   });\n",
       " require(['JSRootCore'],\n",
       "     function(Core) {\n",
       "       var obj = Core.JSONR_unref({\"_typename\":\"TCanvas\",\"fUniqueID\":0,\"fBits\":53673992,\"fLineColor\":1,\"fLineStyle\":1,\"fLineWidth\":1,\"fFillColor\":0,\"fFillStyle\":1001,\"fLeftMargin\":0.13,\"fRightMargin\":0.13,\"fBottomMargin\":0.13,\"fTopMargin\":0.1,\"fXfile\":2,\"fYfile\":2,\"fAfile\":1,\"fXstat\":0.99,\"fYstat\":0.99,\"fAstat\":2,\"fFrameFillColor\":0,\"fFrameLineColor\":1,\"fFrameFillStyle\":1001,\"fFrameLineStyle\":1,\"fFrameLineWidth\":1,\"fFrameBorderSize\":1,\"fFrameBorderMode\":0,\"fX1\":-4.72972966877538,\"fY1\":0.515584416589722,\"fX2\":4.72972966877538,\"fY2\":1.16493506751116,\"fXtoAbsPixelk\":298.00005,\"fXtoPixelk\":298.00005,\"fXtoPixel\":63.0057150976998,\"fYtoAbsPixelk\":1026.16804978691,\"fYtoPixelk\":1026.16804978691,\"fYtoPixel\":-880.879997869134,\"fUtoAbsPixelk\":5e-5,\"fUtoPixelk\":5e-5,\"fUtoPixel\":596,\"fVtoAbsPixelk\":572.00005,\"fVtoPixelk\":572,\"fVtoPixel\":-572,\"fAbsPixeltoXk\":-4.72972966877538,\"fPixeltoXk\":-4.72972966877538,\"fPixeltoX\":0.015871576069716,\"fAbsPixeltoYk\":1.16493506751116,\"fPixeltoYk\":0.515584416589722,\"fPixeltoY\":-0.00113522841070182,\"fXlowNDC\":0,\"fYlowNDC\":0,\"fXUpNDC\":0,\"fYUpNDC\":0,\"fWNDC\":1,\"fHNDC\":1,\"fAbsXlowNDC\":0,\"fAbsYlowNDC\":0,\"fAbsWNDC\":1,\"fAbsHNDC\":1,\"fUxmin\":-3.5,\"fUymin\":0.6,\"fUxmax\":3.5,\"fUymax\":1.1,\"fTheta\":30,\"fPhi\":30,\"fAspectRatio\":0,\"fNumber\":0,\"fTickx\":0,\"fTicky\":0,\"fLogx\":0,\"fLogy\":0,\"fLogz\":0,\"fPadPaint\":0,\"fCrosshair\":0,\"fCrosshairPos\":0,\"fBorderSize\":2,\"fBorderMode\":0,\"fModified\":false,\"fGridx\":false,\"fGridy\":false,\"fAbsCoord\":false,\"fEditable\":true,\"fFixedAspectRatio\":false,\"fPrimitives\":{\"_typename\":\"TList\",\"name\":\"TList\",\"arr\":[{\"_typename\":\"TFrame\",\"fUniqueID\":0,\"fBits\":50331656,\"fLineColor\":1,\"fLineStyle\":1,\"fLineWidth\":1,\"fFillColor\":0,\"fFillStyle\":1001,\"fX1\":-3.5,\"fY1\":0.6,\"fX2\":3.5,\"fY2\":1.1,\"fBorderSize\":1,\"fBorderMode\":0},{\"_typename\":\"TGraphAsymmErrors\",\"fUniqueID\":0,\"fBits\":50332680,\"fName\":\"f8f079\",\"fTitle\":\"; #eta^{GEN};\",\"fLineColor\":1,\"fLineStyle\":1,\"fLineWidth\":1,\"fFillColor\":0,\"fFillStyle\":1001,\"fMarkerColor\":1,\"fMarkerStyle\":8,\"fMarkerSize\":0.5,\"fNpoints\":25,\"fX\":[-2.88,-2.64,-2.4,-2.16,-1.92,-1.68,-1.44,-1.2,-0.96,-0.72,-0.48,-0.24,-1.11022302462516e-16,0.24,0.48,0.72,0.96,1.2,1.44,1.68,1.92,2.16,2.4,2.64,2.88],\"fY\":[0.896940418679549,0.965056929721241,0.98444976076555,0.994877856579984,0.995270003941663,0.993063583815029,0.852850539291217,0.992910594722332,0.99153194765204,0.992292870905588,0.984830339321357,0.991796554552912,0.978113808197374,0.990298797050834,0.983671843886898,0.983070866141732,0.991019133151113,0.992512167727443,0.828282828282828,0.993727949823599,0.996865203761755,0.990354938271605,0.980746561886051,0.966114457831325,0.898455598455598],\"fFunctions\":{\"_typename\":\"TList\",\"name\":\"TList\",\"arr\":[],\"opt\":[]},\"fHistogram\":{\"_typename\":\"TH1F\",\"fUniqueID\":0,\"fBits\":50332160,\"fName\":\"f8f079\",\"fTitle\":\"\",\"fLineColor\":602,\"fLineStyle\":1,\"fLineWidth\":1,\"fFillColor\":0,\"fFillStyle\":1001,\"fMarkerColor\":1,\"fMarkerStyle\":1,\"fMarkerSize\":1,\"fNcells\":102,\"fXaxis\":{\"_typename\":\"TAxis\",\"fUniqueID\":0,\"fBits\":50331656,\"fName\":\"xaxis\",\"fTitle\":\" #eta^{GEN}\",\"fNdivisions\":510,\"fAxisColor\":1,\"fLabelColor\":1,\"fLabelFont\":42,\"fLabelOffset\":0.005,\"fLabelSize\":0.035,\"fTickLength\":0.03,\"fTitleOffset\":1.4,\"fTitleSize\":0.035,\"fTitleColor\":1,\"fTitleFont\":42,\"fNbins\":100,\"fXmin\":-3.5,\"fXmax\":3.5,\"fXbins\":[],\"fFirst\":0,\"fLast\":0,\"fBits2\":0,\"fTimeDisplay\":false,\"fTimeFormat\":\"\",\"fLabels\":null,\"fModLabs\":null},\"fYaxis\":{\"_typename\":\"TAxis\",\"fUniqueID\":0,\"fBits\":50331656,\"fName\":\"yaxis\",\"fTitle\":\"eff. (L1 matched to GEN\\/GEN)\",\"fNdivisions\":510,\"fAxisColor\":1,\"fLabelColor\":1,\"fLabelFont\":42,\"fLabelOffset\":0.005,\"fLabelSize\":0.035,\"fTickLength\":0.03,\"fTitleOffset\":0,\"fTitleSize\":0.035,\"fTitleColor\":1,\"fTitleFont\":42,\"fNbins\":1,\"fXmin\":0.802948740563883,\"fXmax\":1.01567660551259,\"fXbins\":[],\"fFirst\":0,\"fLast\":0,\"fBits2\":0,\"fTimeDisplay\":false,\"fTimeFormat\":\"\",\"fLabels\":null,\"fModLabs\":null},\"fZaxis\":{\"_typename\":\"TAxis\",\"fUniqueID\":0,\"fBits\":50331648,\"fName\":\"zaxis\",\"fTitle\":\"\",\"fNdivisions\":510,\"fAxisColor\":1,\"fLabelColor\":1,\"fLabelFont\":42,\"fLabelOffset\":0.005,\"fLabelSize\":0.035,\"fTickLength\":0.03,\"fTitleOffset\":1,\"fTitleSize\":0.035,\"fTitleColor\":1,\"fTitleFont\":42,\"fNbins\":1,\"fXmin\":0,\"fXmax\":1,\"fXbins\":[],\"fFirst\":0,\"fLast\":0,\"fBits2\":0,\"fTimeDisplay\":false,\"fTimeFormat\":\"\",\"fLabels\":null,\"fModLabs\":null},\"fBarOffset\":0,\"fBarWidth\":1000,\"fEntries\":0,\"fTsumw\":0,\"fTsumw2\":0,\"fTsumwx\":0,\"fTsumwx2\":0,\"fMaximum\":1.1,\"fMinimum\":0.6,\"fNormFactor\":0,\"fContour\":[],\"fSumw2\":[],\"fOption\":\"\",\"fFunctions\":{\"_typename\":\"TList\",\"name\":\"TList\",\"arr\":[],\"opt\":[]},\"fBufferSize\":0,\"fBuffer\":[],\"fBinStatErrOpt\":0,\"fStatOverflows\":2,\"fArray\":[0,0,0,0,0,0,0,0,0,0,0,0,0,0,0,0,0,0,0,0,0,0,0,0,0,0,0,0,0,0,0,0,0,0,0,0,0,0,0,0,0,0,0,0,0,0,0,0,0,0,0,0,0,0,0,0,0,0,0,0,0,0,0,0,0,0,0,0,0,0,0,0,0,0,0,0,0,0,0,0,0,0,0,0,0,0,0,0,0,0,0,0,0,0,0,0,0,0,0,0,0,0]},\"fMinimum\":-1111,\"fMaximum\":-1111,\"fEXlow\":[0.12,0.12,0.12,0.12,0.12,0.12,0.12,0.12,0.12,0.12,0.12,0.12,0.12,0.12,0.12,0.12,0.12,0.12,0.12,0.12,0.12,0.12,0.12,0.12,0.12],\"fEXhigh\":[0.12,0.12,0.12,0.12,0.12,0.12,0.12,0.12,0.12,0.12,0.12,0.12,0.12,0.12,0.12,0.12,0.12,0.12,0.12,0.12,0.12,0.12,0.12,0.12,0.12],\"fEYlow\":[0.00646669309569337,0.00402963964519854,0.00288310740619213,0.00184443942825874,0.00179145889586951,0.00204126305458285,0.00728458965913781,0.00208607695227248,0.00220575416846569,0.00212685582767369,0.00285555651724234,0.00226309645208,0.00332427639590349,0.0023399190026967,0.00294028485289988,0.0029654581231422,0.00227729018784872,0.00206663018197739,0.00760676563988627,0.00198433791249897,0.00154228340540585,0.00232645967265055,0.00312657442874642,0.00388612314002568,0.00628704900090526],\"fEYhigh\":[0.00613662130560233,0.00364481498952363,0.00246564127180227,0.00140027364730277,0.00134456942230332,0.00161632070294782,0.00700527857214495,0.00165189583105818,0.00178686211210644,0.00170486335934428,0.00243685895193158,0.00181437796682571,0.00291786875046296,0.00192117477218046,0.00252474462141183,0.00255586913863548,0.00185368380612938,0.00165646388220142,0.00735489250410248,0.00154872772998071,0.00108407967177326,0.0019100915074074,0.0027215666015552,0.00351636437838976,0.0059694189218662]},{\"_typename\":\"TGraphAsymmErrors\",\"fUniqueID\":0,\"fBits\":50332680,\"fName\":\"a7c136\",\"fTitle\":\"; #eta^{GEN};\",\"fLineColor\":628,\"fLineStyle\":1,\"fLineWidth\":1,\"fFillColor\":0,\"fFillStyle\":1001,\"fMarkerColor\":628,\"fMarkerStyle\":21,\"fMarkerSize\":0.5,\"fNpoints\":25,\"fX\":[-2.88,-2.64,-2.4,-2.16,-1.92,-1.68,-1.44,-1.2,-0.96,-0.72,-0.48,-0.24,-1.11022302462516e-16,0.24,0.48,0.72,0.96,1.2,1.44,1.68,1.92,2.16,2.4,2.64,2.88],\"fY\":[0,0,0.566985645933014,0.913317572892041,0.901852581789515,0.898651252408478,0.760785824345146,0.903505317053958,0.91108545034642,0.919460500963391,0.91377245508982,0.931501230516817,0.848786311181854,0.921226232052775,0.910792512943051,0.925984251968504,0.903162827020695,0.892549606888806,0.745978301533857,0.898471187769502,0.911833855799373,0.905864197530864,0.570530451866405,0,0],\"fFunctions\":{\"_typename\":\"TList\",\"name\":\"TList\",\"arr\":[],\"opt\":[]},\"fHistogram\":{\"_typename\":\"TH1F\",\"fUniqueID\":0,\"fBits\":50332160,\"fName\":\"a7c136\",\"fTitle\":\"\",\"fLineColor\":602,\"fLineStyle\":1,\"fLineWidth\":1,\"fFillColor\":0,\"fFillStyle\":1001,\"fMarkerColor\":1,\"fMarkerStyle\":1,\"fMarkerSize\":1,\"fNcells\":102,\"fXaxis\":{\"_typename\":\"TAxis\",\"fUniqueID\":0,\"fBits\":50331656,\"fName\":\"xaxis\",\"fTitle\":\" #eta^{GEN}\",\"fNdivisions\":510,\"fAxisColor\":1,\"fLabelColor\":1,\"fLabelFont\":42,\"fLabelOffset\":0.005,\"fLabelSize\":0.035,\"fTickLength\":0.03,\"fTitleOffset\":1.4,\"fTitleSize\":0.035,\"fTitleColor\":1,\"fTitleFont\":42,\"fNbins\":100,\"fXmin\":-3.5,\"fXmax\":3.5,\"fXbins\":[],\"fFirst\":0,\"fLast\":0,\"fBits2\":0,\"fTimeDisplay\":false,\"fTimeFormat\":\"\",\"fLabels\":null,\"fModLabs\":null},\"fYaxis\":{\"_typename\":\"TAxis\",\"fUniqueID\":0,\"fBits\":50331656,\"fName\":\"yaxis\",\"fTitle\":\"eff. (L1 matched to GEN\\/GEN)\",\"fNdivisions\":510,\"fAxisColor\":1,\"fLabelColor\":1,\"fLabelFont\":42,\"fLabelOffset\":0.005,\"fLabelSize\":0.035,\"fTickLength\":0.03,\"fTitleOffset\":0,\"fTitleSize\":0.035,\"fTitleColor\":1,\"fTitleFont\":42,\"fNbins\":1,\"fXmin\":0,\"fXmax\":1.03030290249858,\"fXbins\":[],\"fFirst\":0,\"fLast\":0,\"fBits2\":0,\"fTimeDisplay\":false,\"fTimeFormat\":\"\",\"fLabels\":null,\"fModLabs\":null},\"fZaxis\":{\"_typename\":\"TAxis\",\"fUniqueID\":0,\"fBits\":50331648,\"fName\":\"zaxis\",\"fTitle\":\"\",\"fNdivisions\":510,\"fAxisColor\":1,\"fLabelColor\":1,\"fLabelFont\":42,\"fLabelOffset\":0.005,\"fLabelSize\":0.035,\"fTickLength\":0.03,\"fTitleOffset\":1,\"fTitleSize\":0.035,\"fTitleColor\":1,\"fTitleFont\":42,\"fNbins\":1,\"fXmin\":0,\"fXmax\":1,\"fXbins\":[],\"fFirst\":0,\"fLast\":0,\"fBits2\":0,\"fTimeDisplay\":false,\"fTimeFormat\":\"\",\"fLabels\":null,\"fModLabs\":null},\"fBarOffset\":0,\"fBarWidth\":1000,\"fEntries\":0,\"fTsumw\":0,\"fTsumw2\":0,\"fTsumwx\":0,\"fTsumwx2\":0,\"fMaximum\":1.1,\"fMinimum\":0.6,\"fNormFactor\":0,\"fContour\":[],\"fSumw2\":[],\"fOption\":\"\",\"fFunctions\":{\"_typename\":\"TList\",\"name\":\"TList\",\"arr\":[],\"opt\":[]},\"fBufferSize\":0,\"fBuffer\":[],\"fBinStatErrOpt\":0,\"fStatOverflows\":2,\"fArray\":[0,0,0,0,0,0,0,0,0,0,0,0,0,0,0,0,0,0,0,0,0,0,0,0,0,0,0,0,0,0,0,0,0,0,0,0,0,0,0,0,0,0,0,0,0,0,0,0,0,0,0,0,0,0,0,0,0,0,0,0,0,0,0,0,0,0,0,0,0,0,0,0,0,0,0,0,0,0,0,0,0,0,0,0,0,0,0,0,0,0,0,0,0,0,0,0,0,0,0,0,0,0]},\"fMinimum\":-1111,\"fMaximum\":-1111,\"fEXlow\":[0.12,0.12,0.12,0.12,0.12,0.12,0.12,0.12,0.12,0.12,0.12,0.12,0.12,0.12,0.12,0.12,0.12,0.12,0.12,0.12,0.12,0.12,0.12,0.12,0.12],\"fEXhigh\":[0.12,0.12,0.12,0.12,0.12,0.12,0.12,0.12,0.12,0.12,0.12,0.12,0.12,0.12,0.12,0.12,0.12,0.12,0.12,0.12,0.12,0.12,0.12,0.12,0.12],\"fEYlow\":[0,0,0.0101186083406306,0.00595106373531129,0.0062676294160191,0.00627566092590004,0.00866689302841572,0.00622119820472378,0.00594046275776106,0.00570262066834626,0.00597943053723615,0.00550586743945003,0.00748756928435645,0.00567059689537486,0.00605712427672433,0.00556612072296014,0.00620193194216034,0.0063308885943234,0.00869953874305651,0.00633726408022073,0.00597592344611486,0.00609072489043527,0.0100348400967581,0,0],\"fEYhigh\":[7.40877445676248e-4,7.22558477417811e-4,0.0100641276689105,0.0056139408467506,0.00594033463830168,0.00595848811904787,0.00846140476344914,0.00589273950760061,0.00561315856582223,0.00536774267098461,0.00563738703098204,0.0051377717546186,0.00720232015843747,0.00533179895875346,0.0057185469727723,0.00521805788206309,0.005876632853827,0.00602783289424003,0.00851144524476666,0.00601468841131625,0.00564197141075096,0.00576709190800373,0.00997831718045927,6.92915562894802e-4,7.10566595859825e-4]},{\"_typename\":\"TGraphAsymmErrors\",\"fUniqueID\":0,\"fBits\":50332680,\"fName\":\"b854d8\",\"fTitle\":\"; #eta^{GEN};\",\"fLineColor\":417,\"fLineStyle\":1,\"fLineWidth\":1,\"fFillColor\":0,\"fFillStyle\":1001,\"fMarkerColor\":417,\"fMarkerStyle\":22,\"fMarkerSize\":0.5,\"fNpoints\":25,\"fX\":[-2.88,-2.64,-2.4,-2.16,-1.92,-1.68,-1.44,-1.2,-0.96,-0.72,-0.48,-0.24,-1.11022302462516e-16,0.24,0.48,0.72,0.96,1.2,1.44,1.68,1.92,2.16,2.4,2.64,2.88],\"fY\":[0,0,0.569776714513557,0.919227738376675,0.90973590855341,0.904046242774566,0.766949152542373,0.904293028751477,0.907621247113164,0.921001926782274,0.90938123752495,0.930680885972108,0.850775964982093,0.918509895227008,0.909996017522899,0.921259842519685,0.899258102303788,0.895919131411456,0.750093527871306,0.901607212857703,0.91653605015674,0.908564814814815,0.571709233791749,0,0],\"fFunctions\":{\"_typename\":\"TList\",\"name\":\"TList\",\"arr\":[],\"opt\":[]},\"fHistogram\":{\"_typename\":\"TH1F\",\"fUniqueID\":0,\"fBits\":50332160,\"fName\":\"b854d8\",\"fTitle\":\"\",\"fLineColor\":602,\"fLineStyle\":1,\"fLineWidth\":1,\"fFillColor\":0,\"fFillStyle\":1001,\"fMarkerColor\":1,\"fMarkerStyle\":1,\"fMarkerSize\":1,\"fNcells\":102,\"fXaxis\":{\"_typename\":\"TAxis\",\"fUniqueID\":0,\"fBits\":50331656,\"fName\":\"xaxis\",\"fTitle\":\" #eta^{GEN}\",\"fNdivisions\":510,\"fAxisColor\":1,\"fLabelColor\":1,\"fLabelFont\":42,\"fLabelOffset\":0.005,\"fLabelSize\":0.035,\"fTickLength\":0.03,\"fTitleOffset\":1.4,\"fTitleSize\":0.035,\"fTitleColor\":1,\"fTitleFont\":42,\"fNbins\":100,\"fXmin\":-3.5,\"fXmax\":3.5,\"fXbins\":[],\"fFirst\":0,\"fLast\":0,\"fBits2\":0,\"fTimeDisplay\":false,\"fTimeFormat\":\"\",\"fLabels\":null,\"fModLabs\":null},\"fYaxis\":{\"_typename\":\"TAxis\",\"fUniqueID\":0,\"fBits\":50331656,\"fName\":\"yaxis\",\"fTitle\":\"eff. (L1 matched to GEN\\/GEN)\",\"fNdivisions\":510,\"fAxisColor\":1,\"fLabelColor\":1,\"fLabelFont\":42,\"fLabelOffset\":0.005,\"fLabelSize\":0.035,\"fTickLength\":0.03,\"fTitleOffset\":0,\"fTitleSize\":0.035,\"fTitleColor\":1,\"fTitleFont\":42,\"fNbins\":1,\"fXmin\":0,\"fXmax\":1.02943202774979,\"fXbins\":[],\"fFirst\":0,\"fLast\":0,\"fBits2\":0,\"fTimeDisplay\":false,\"fTimeFormat\":\"\",\"fLabels\":null,\"fModLabs\":null},\"fZaxis\":{\"_typename\":\"TAxis\",\"fUniqueID\":0,\"fBits\":50331648,\"fName\":\"zaxis\",\"fTitle\":\"\",\"fNdivisions\":510,\"fAxisColor\":1,\"fLabelColor\":1,\"fLabelFont\":42,\"fLabelOffset\":0.005,\"fLabelSize\":0.035,\"fTickLength\":0.03,\"fTitleOffset\":1,\"fTitleSize\":0.035,\"fTitleColor\":1,\"fTitleFont\":42,\"fNbins\":1,\"fXmin\":0,\"fXmax\":1,\"fXbins\":[],\"fFirst\":0,\"fLast\":0,\"fBits2\":0,\"fTimeDisplay\":false,\"fTimeFormat\":\"\",\"fLabels\":null,\"fModLabs\":null},\"fBarOffset\":0,\"fBarWidth\":1000,\"fEntries\":0,\"fTsumw\":0,\"fTsumw2\":0,\"fTsumwx\":0,\"fTsumwx2\":0,\"fMaximum\":1.1,\"fMinimum\":0.6,\"fNormFactor\":0,\"fContour\":[],\"fSumw2\":[],\"fOption\":\"\",\"fFunctions\":{\"_typename\":\"TList\",\"name\":\"TList\",\"arr\":[],\"opt\":[]},\"fBufferSize\":0,\"fBuffer\":[],\"fBinStatErrOpt\":0,\"fStatOverflows\":2,\"fArray\":[0,0,0,0,0,0,0,0,0,0,0,0,0,0,0,0,0,0,0,0,0,0,0,0,0,0,0,0,0,0,0,0,0,0,0,0,0,0,0,0,0,0,0,0,0,0,0,0,0,0,0,0,0,0,0,0,0,0,0,0,0,0,0,0,0,0,0,0,0,0,0,0,0,0,0,0,0,0,0,0,0,0,0,0,0,0,0,0,0,0,0,0,0,0,0,0,0,0,0,0,0,0]},\"fMinimum\":-1111,\"fMaximum\":-1111,\"fEXlow\":[0.12,0.12,0.12,0.12,0.12,0.12,0.12,0.12,0.12,0.12,0.12,0.12,0.12,0.12,0.12,0.12,0.12,0.12,0.12,0.12,0.12,0.12,0.12,0.12,0.12],\"fEXhigh\":[0.12,0.12,0.12,0.12,0.12,0.12,0.12,0.12,0.12,0.12,0.12,0.12,0.12,0.12,0.12,0.12,0.12,0.12,0.12,0.12,0.12,0.12,0.12,0.12,0.12],\"fEYlow\":[0,0,0.0101120529825557,0.00577745127204032,0.00605372196660103,0.00613546982122803,0.0085942217402053,0.00620013027672484,0.0060358315176362,0.00565638993416129,0.00610459328683333,0.00553372979532907,0.00744957048794914,0.00575210479920829,0.00607959544362868,0.00571342969663213,0.00630395056282118,0.00624872787164021,0.00865566887790292,0.0062558502129062,0.00584041654611345,0.00601746980549656,0.0100319564182453,0,0],\"fEYhigh\":[7.40877445676248e-4,7.22558477417811e-4,0.01005530140882,0.00543512682336789,0.0057195934706431,0.00581375433665265,0.00838383409949472,0.00587099100153576,0.00571147046931764,0.00532017732488321,0.00576643841373048,0.0051664119822431,0.0071626515740556,0.00541567448541891,0.00574172044731014,0.00536957974212582,0.00598198424608076,0.00594293951033109,0.00846440595118225,0.00593059053954736,0.00550236429002815,0.00569154358402257,0.00997448844235693,6.92915562894802e-4,7.10566595859825e-4]},{\"_typename\":\"TLegend\",\"fUniqueID\":0,\"fBits\":50331656,\"fLineColor\":1,\"fLineStyle\":1,\"fLineWidth\":1,\"fFillColor\":0,\"fFillStyle\":0,\"fX1\":-3.21621617476726,\"fY1\":0.645454546774011,\"fX2\":-0.756756747004061,\"fY2\":0.742857144412227,\"fX1NDC\":0.16,\"fY1NDC\":0.2,\"fX2NDC\":0.42,\"fY2NDC\":0.35,\"fBorderSize\":0,\"fInit\":1,\"fShadowColor\":1,\"fCornerRadius\":0,\"fOption\":\"brNDC\",\"fName\":\"TPave\",\"fTextAngle\":0,\"fTextSize\":0.03,\"fTextAlign\":12,\"fTextColor\":1,\"fTextFont\":42,\"fPrimitives\":{\"_typename\":\"TList\",\"name\":\"TList\",\"arr\":[{\"_typename\":\"TLegendEntry\",\"fUniqueID\":0,\"fBits\":50331656,\"fTextAngle\":0,\"fTextSize\":0,\"fTextAlign\":0,\"fTextColor\":0,\"fTextFont\":42,\"fLineColor\":1,\"fLineStyle\":1,\"fLineWidth\":1,\"fFillColor\":0,\"fFillStyle\":0,\"fMarkerColor\":1,\"fMarkerStyle\":8,\"fMarkerSize\":0.5,\"fObject\":{\"$ref\":3},\"fLabel\":\"calorimeter-only\",\"fOption\":\"P\"},{\"_typename\":\"TLegendEntry\",\"fUniqueID\":0,\"fBits\":50331656,\"fTextAngle\":0,\"fTextSize\":0,\"fTextAlign\":0,\"fTextColor\":0,\"fTextFont\":42,\"fLineColor\":1,\"fLineStyle\":1,\"fLineWidth\":1,\"fFillColor\":0,\"fFillStyle\":0,\"fMarkerColor\":628,\"fMarkerStyle\":21,\"fMarkerSize\":0.5,\"fObject\":{\"$ref\":10},\"fLabel\":\"track-matched\",\"fOption\":\"P\"},{\"_typename\":\"TLegendEntry\",\"fUniqueID\":0,\"fBits\":50331656,\"fTextAngle\":0,\"fTextSize\":0,\"fTextAlign\":0,\"fTextColor\":0,\"fTextFont\":42,\"fLineColor\":1,\"fLineStyle\":1,\"fLineWidth\":1,\"fFillColor\":0,\"fFillStyle\":0,\"fMarkerColor\":417,\"fMarkerStyle\":22,\"fMarkerSize\":0.5,\"fObject\":{\"$ref\":17},\"fLabel\":\"#splitline{track-matched + charged iso.}{(no EG ID for |#eta| < 1.479)}\",\"fOption\":\"P\"}],\"opt\":[\"P\",\"P\",\"P\"]},\"fEntrySeparation\":0.1,\"fMargin\":0.25,\"fNColumns\":1,\"fColumnSeparation\":0},{\"_typename\":\"TLatex\",\"fUniqueID\":0,\"fBits\":50348040,\"fName\":\"\",\"fTitle\":\"EG, p_{T}^{L1} #geq 25GeV, p_{T}^{GEN} #geq 35GeV\",\"fTextAngle\":0,\"fTextSize\":0.03,\"fTextAlign\":11,\"fTextColor\":1,\"fTextFont\":62,\"fX\":0.15,\"fY\":0.85,\"fLineColor\":1,\"fLineStyle\":1,\"fLineWidth\":2,\"fLimitFactorSize\":3,\"fOriginSize\":0.0299999993294477},{\"_typename\":\"TLatex\",\"fUniqueID\":0,\"fBits\":50348041,\"fName\":\"\",\"fTitle\":\"#scale[1.5]{CMS} #scale[1.]{Phase-2 Simulation}\",\"fTextAngle\":0,\"fTextSize\":0.03,\"fTextAlign\":11,\"fTextColor\":1,\"fTextFont\":62,\"fX\":0.13,\"fY\":0.91,\"fLineColor\":1,\"fLineStyle\":1,\"fLineWidth\":2,\"fLimitFactorSize\":3,\"fOriginSize\":0.0299999993294477},{\"_typename\":\"TLatex\",\"fUniqueID\":0,\"fBits\":50348041,\"fName\":\"\",\"fTitle\":\"14TeV, 200 PU\",\"fTextAngle\":0,\"fTextSize\":0.03,\"fTextAlign\":11,\"fTextColor\":1,\"fTextFont\":62,\"fX\":0.69,\"fY\":0.91,\"fLineColor\":1,\"fLineStyle\":1,\"fLineWidth\":2,\"fLimitFactorSize\":3,\"fOriginSize\":0.0299999993294477},{\"_typename\":\"TLatex\",\"fUniqueID\":0,\"fBits\":50331656,\"fName\":\"\",\"fTitle\":\"\",\"fTextAngle\":0,\"fTextSize\":0.03,\"fTextAlign\":11,\"fTextColor\":1,\"fTextFont\":62,\"fX\":0,\"fY\":0,\"fLineColor\":1,\"fLineStyle\":1,\"fLineWidth\":2,\"fLimitFactorSize\":3,\"fOriginSize\":0.04},{\"_typename\":\"TLine\",\"fUniqueID\":0,\"fBits\":50331656,\"fLineColor\":1,\"fLineStyle\":2,\"fLineWidth\":1,\"fX1\":-1.47,\"fY1\":0.6,\"fX2\":-1.47,\"fY2\":1.1},{\"_typename\":\"TLine\",\"fUniqueID\":0,\"fBits\":50331656,\"fLineColor\":1,\"fLineStyle\":2,\"fLineWidth\":1,\"fX1\":-1.52,\"fY1\":0.6,\"fX2\":-1.52,\"fY2\":1.1},{\"_typename\":\"TLine\",\"fUniqueID\":0,\"fBits\":50331656,\"fLineColor\":1,\"fLineStyle\":2,\"fLineWidth\":1,\"fX1\":-2.4,\"fY1\":0.6,\"fX2\":-2.4,\"fY2\":1.1},{\"_typename\":\"TLine\",\"fUniqueID\":0,\"fBits\":50331656,\"fLineColor\":1,\"fLineStyle\":2,\"fLineWidth\":1,\"fX1\":1.47,\"fY1\":0.6,\"fX2\":1.47,\"fY2\":1.1},{\"_typename\":\"TLine\",\"fUniqueID\":0,\"fBits\":50331656,\"fLineColor\":1,\"fLineStyle\":2,\"fLineWidth\":1,\"fX1\":1.52,\"fY1\":0.6,\"fX2\":1.52,\"fY2\":1.1},{\"_typename\":\"TLine\",\"fUniqueID\":0,\"fBits\":50331656,\"fLineColor\":1,\"fLineStyle\":2,\"fLineWidth\":1,\"fX1\":2.4,\"fY1\":0.6,\"fX2\":2.4,\"fY2\":1.1}],\"opt\":[\"\",\"pa\",\",p\",\",p\",\"same\",\"same\",\"\",\"\",\"same\",\"same\",\"same\",\"same\",\"same\",\"same\",\"same\"]},\"fExecs\":null,\"fName\":\"c_4d454c\",\"fTitle\":\"c_4d454c\",\"fNumPaletteColor\":0,\"fNextPaletteColor\":0,\"fDISPLAY\":\"$DISPLAY\",\"fDoubleBuffer\":0,\"fRetained\":true,\"fXsizeUser\":0,\"fYsizeUser\":0,\"fXsizeReal\":20,\"fYsizeReal\":20,\"fWindowTopX\":0,\"fWindowTopY\":0,\"fWindowWidth\":0,\"fWindowHeight\":0,\"fCw\":596,\"fCh\":572,\"fCatt\":{\"_typename\":\"TAttCanvas\",\"fXBetween\":2,\"fYBetween\":2,\"fTitleFromTop\":1.2,\"fXdate\":0.2,\"fYdate\":0.3,\"fAdate\":1},\"kMoveOpaque\":true,\"kResizeOpaque\":true,\"fHighLightColor\":2,\"fBatch\":true,\"kShowEventStatus\":false,\"kAutoExec\":true,\"kMenuBar\":true});\n",
       "       Core.draw(\"root_plot_7\", obj, \"\");\n",
       "     }\n",
       " );\n",
       "</script>\n"
      ],
      "text/plain": [
       "<IPython.core.display.HTML object>"
      ]
     },
     "metadata": {},
     "output_type": "display_data"
    }
   ],
   "source": [
    "hsets, labels, text = hplot.get_histo(histos.HistoSetEff, 'ele-V9', ['PU200'], ['EGALL', 'TkEleELALL'], ['Pt25LooseTkID', 'Pt25Iso0p1'], ['GENPt35'], debug=False)\n",
    "\n",
    "for hset in hsets:\n",
    "    hset.computeEff(rebin=2)\n",
    "\n",
    "# labels = ['TP head', 'L1 menu version', 'backported']\n",
    "text_forprint = 'EG, p_{T}^{L1} #geq 25GeV, p_{T}^{GEN} #geq 35GeV'\n",
    "\n",
    "\n",
    "labels_final = []\n",
    "labels_final.append('calorimeter-only')\n",
    "labels_final.append('track-matched')\n",
    "labels_final.append('#splitline{track-matched + charged iso.}{(no EG ID for |#eta| < 1.479)}')\n",
    "\n",
    "\n",
    "canv = draw([his.h_eff.h_abseta.CreateGraph() for his in hsets], labels_final, text=text_forprint, \n",
    "     min_x=0, max_x=3.5, min_y=0.6, max_y=1.1, v_lines=[1.47, 1.52, 2.4],\n",
    "     y_axis_label='efficiency',\n",
    "    legend_position = (0.16, 0.2, 0.42, 0.35),\n",
    "     do_write=True, write_name='figs/egammaBarrelEndcap_EG_GENPt30_hEffVAbsEta')\n",
    "\n",
    "# print canv.GetByType(ROOT.TLegend)\n",
    "# leg2 = getLegend(0.56, 0.15, 0.92, 0.30)\n",
    "# leg2.SetHeader('|#eta|>1.479')\n",
    "# for idx,his in enumerate(hsets):\n",
    "#     leg2.AddEntry(his.h_eff.h_eta.CreateGraph(), labels_final[idx], 'P')\n",
    "# leg2.Draw('same')\n",
    "# canv.Draw()\n",
    "# SaveCanvas(canv, 'test')\n",
    "# stuff[-7].AddEntry(ROOT.TObject(), 'PIPPO', '')\n",
    "# stuff[-7].Draw('same')\n",
    "# canv.Draw()\n",
    "\n",
    "# print canv.GetListOfPrimitives().Print()\n",
    "\n",
    "draw([his.h_eff.h_eta.CreateGraph() for his in hsets], labels_final, text=text_forprint, \n",
    "     min_x=-3.5, max_x=3.5, min_y=0.6, max_y=1.1, v_lines=[-1.47, -1.52, -2.4, 1.47, 1.52, 2.4],\n",
    "     y_axis_label='eff. (L1 matched to GEN/GEN)',\n",
    "     do_write=True, write_name='figs/egammaBarrelEndcap_EG_GENPt30_hEffVEta')\n",
    "\n"
   ]
  },
  {
   "cell_type": "code",
   "execution_count": 28,
   "metadata": {
    "scrolled": false
   },
   "outputs": [
    {
     "data": {
      "text/plain": [
       "<drawingTools.DrawMachine at 0x11acc6810>"
      ]
     },
     "execution_count": 28,
     "metadata": {},
     "output_type": "execute_result"
    },
    {
     "name": "stderr",
     "output_type": "stream",
     "text": [
      "Info in <TCanvas::Print>: pdf file figs/egammaEndcap_EG_EGq5Pt25_GENPt35_hEffVEta.pdf has been created\n"
     ]
    },
    {
     "data": {
      "text/html": [
       "\n",
       "<div id=\"root_plot_8\"\n",
       "     style=\"width: 596px; height: 572px\">\n",
       "</div>\n",
       "\n",
       "<script>\n",
       " requirejs.config({\n",
       "     paths: {\n",
       "       'JSRootCore' : 'https://root.cern.ch/js/notebook//scripts/JSRootCore',\n",
       "     }\n",
       "   });\n",
       " require(['JSRootCore'],\n",
       "     function(Core) {\n",
       "       var obj = Core.JSONR_unref({\"_typename\":\"TCanvas\",\"fUniqueID\":0,\"fBits\":53673992,\"fLineColor\":1,\"fLineStyle\":1,\"fLineWidth\":1,\"fFillColor\":0,\"fFillStyle\":1001,\"fLeftMargin\":0.13,\"fRightMargin\":0.13,\"fBottomMargin\":0.13,\"fTopMargin\":0.1,\"fXfile\":2,\"fYfile\":2,\"fAfile\":1,\"fXstat\":0.99,\"fYstat\":0.99,\"fAstat\":2,\"fFrameFillColor\":0,\"fFrameLineColor\":1,\"fFrameFillStyle\":1001,\"fFrameLineStyle\":1,\"fFrameLineWidth\":1,\"fFrameBorderSize\":1,\"fFrameBorderMode\":0,\"fX1\":1.14864866606418,\"fY1\":0.515584416589722,\"fX2\":3.85135133393582,\"fY2\":1.16493506751116,\"fXtoAbsPixelk\":-253.299957104874,\"fXtoPixelk\":-253.299957104874,\"fXtoPixel\":220.520002841949,\"fYtoAbsPixelk\":1026.16804978691,\"fYtoPixelk\":1026.16804978691,\"fYtoPixel\":-880.879997869134,\"fUtoAbsPixelk\":5e-5,\"fUtoPixelk\":5e-5,\"fUtoPixel\":596,\"fVtoAbsPixelk\":572.00005,\"fVtoPixelk\":572,\"fVtoPixel\":-572,\"fAbsPixeltoXk\":1.14864866606418,\"fPixeltoXk\":1.14864866606418,\"fPixeltoX\":0.00453473601991887,\"fAbsPixeltoYk\":1.16493506751116,\"fPixeltoYk\":0.515584416589722,\"fPixeltoY\":-0.00113522841070182,\"fXlowNDC\":0,\"fYlowNDC\":0,\"fXUpNDC\":0,\"fYUpNDC\":0,\"fWNDC\":1,\"fHNDC\":1,\"fAbsXlowNDC\":0,\"fAbsYlowNDC\":0,\"fAbsWNDC\":1,\"fAbsHNDC\":1,\"fUxmin\":1.5,\"fUymin\":0.6,\"fUxmax\":3.5,\"fUymax\":1.1,\"fTheta\":30,\"fPhi\":30,\"fAspectRatio\":0,\"fNumber\":0,\"fTickx\":0,\"fTicky\":0,\"fLogx\":0,\"fLogy\":0,\"fLogz\":0,\"fPadPaint\":0,\"fCrosshair\":0,\"fCrosshairPos\":0,\"fBorderSize\":2,\"fBorderMode\":0,\"fModified\":false,\"fGridx\":false,\"fGridy\":false,\"fAbsCoord\":false,\"fEditable\":true,\"fFixedAspectRatio\":false,\"fPrimitives\":{\"_typename\":\"TList\",\"name\":\"TList\",\"arr\":[{\"_typename\":\"TFrame\",\"fUniqueID\":0,\"fBits\":50331656,\"fLineColor\":1,\"fLineStyle\":1,\"fLineWidth\":1,\"fFillColor\":0,\"fFillStyle\":1001,\"fX1\":1.5,\"fY1\":0.6,\"fX2\":3.5,\"fY2\":1.1,\"fBorderSize\":1,\"fBorderMode\":0},{\"_typename\":\"TGraphAsymmErrors\",\"fUniqueID\":0,\"fBits\":50332680,\"fName\":\"f5d2c7\",\"fTitle\":\"; |#eta^{GEN}|;\",\"fLineColor\":1,\"fLineStyle\":1,\"fLineWidth\":1,\"fFillColor\":0,\"fFillStyle\":1001,\"fMarkerColor\":1,\"fMarkerStyle\":8,\"fMarkerSize\":0.5,\"fNpoints\":17,\"fX\":[1.45,1.55,1.65,1.75,1.85,1.95,2.05,2.15,2.25,2.35,2.45,2.55,2.65,2.75,2.85,2.95,3.05],\"fY\":[0.00241351568785197,0.793809523809524,0.995027349577325,0.993259508907077,0.996957403651116,0.995513459621137,0.99358024691358,0.994312306101344,0.988717948717949,0.98618219037871,0.982869379014989,0.974649406688242,0.965879265091864,0.945975148568341,0.928045325779037,0.852631578947368,0.0185851318944844],\"fFunctions\":{\"_typename\":\"TList\",\"name\":\"TList\",\"arr\":[],\"opt\":[]},\"fHistogram\":{\"_typename\":\"TH1F\",\"fUniqueID\":0,\"fBits\":50332160,\"fName\":\"f5d2c7\",\"fTitle\":\"\",\"fLineColor\":602,\"fLineStyle\":1,\"fLineWidth\":1,\"fFillColor\":0,\"fFillStyle\":1001,\"fMarkerColor\":1,\"fMarkerStyle\":1,\"fMarkerSize\":1,\"fNcells\":102,\"fXaxis\":{\"_typename\":\"TAxis\",\"fUniqueID\":0,\"fBits\":50331656,\"fName\":\"xaxis\",\"fTitle\":\" |#eta^{GEN}|\",\"fNdivisions\":510,\"fAxisColor\":1,\"fLabelColor\":1,\"fLabelFont\":42,\"fLabelOffset\":0.005,\"fLabelSize\":0.035,\"fTickLength\":0.03,\"fTitleOffset\":1.4,\"fTitleSize\":0.035,\"fTitleColor\":1,\"fTitleFont\":42,\"fNbins\":100,\"fXmin\":1.5,\"fXmax\":3.5,\"fXbins\":[],\"fFirst\":0,\"fLast\":0,\"fBits2\":0,\"fTimeDisplay\":false,\"fTimeFormat\":\"\",\"fLabels\":null,\"fModLabs\":null},\"fYaxis\":{\"_typename\":\"TAxis\",\"fUniqueID\":0,\"fBits\":50331656,\"fName\":\"yaxis\",\"fTitle\":\"eff. (L1 matched to GEN\\/GEN)\",\"fNdivisions\":510,\"fAxisColor\":1,\"fLabelColor\":1,\"fLabelFont\":42,\"fLabelOffset\":0.005,\"fLabelSize\":0.035,\"fTickLength\":0.03,\"fTitleOffset\":0,\"fTitleSize\":0.035,\"fTitleColor\":1,\"fTitleFont\":42,\"fNbins\":1,\"fXmin\":9.90248819337897e-4,\"fXmax\":1.09786995695114,\"fXbins\":[],\"fFirst\":0,\"fLast\":0,\"fBits2\":0,\"fTimeDisplay\":false,\"fTimeFormat\":\"\",\"fLabels\":null,\"fModLabs\":null},\"fZaxis\":{\"_typename\":\"TAxis\",\"fUniqueID\":0,\"fBits\":50331648,\"fName\":\"zaxis\",\"fTitle\":\"\",\"fNdivisions\":510,\"fAxisColor\":1,\"fLabelColor\":1,\"fLabelFont\":42,\"fLabelOffset\":0.005,\"fLabelSize\":0.035,\"fTickLength\":0.03,\"fTitleOffset\":1,\"fTitleSize\":0.035,\"fTitleColor\":1,\"fTitleFont\":42,\"fNbins\":1,\"fXmin\":0,\"fXmax\":1,\"fXbins\":[],\"fFirst\":0,\"fLast\":0,\"fBits2\":0,\"fTimeDisplay\":false,\"fTimeFormat\":\"\",\"fLabels\":null,\"fModLabs\":null},\"fBarOffset\":0,\"fBarWidth\":1000,\"fEntries\":0,\"fTsumw\":0,\"fTsumw2\":0,\"fTsumwx\":0,\"fTsumwx2\":0,\"fMaximum\":1.1,\"fMinimum\":0.6,\"fNormFactor\":0,\"fContour\":[],\"fSumw2\":[],\"fOption\":\"\",\"fFunctions\":{\"_typename\":\"TList\",\"name\":\"TList\",\"arr\":[],\"opt\":[]},\"fBufferSize\":0,\"fBuffer\":[],\"fBinStatErrOpt\":0,\"fStatOverflows\":2,\"fArray\":[0,0,0,0,0,0,0,0,0,0,0,0,0,0,0,0,0,0,0,0,0,0,0,0,0,0,0,0,0,0,0,0,0,0,0,0,0,0,0,0,0,0,0,0,0,0,0,0,0,0,0,0,0,0,0,0,0,0,0,0,0,0,0,0,0,0,0,0,0,0,0,0,0,0,0,0,0,0,0,0,0,0,0,0,0,0,0,0,0,0,0,0,0,0,0,0,0,0,0,0,0,0]},\"fMinimum\":-1111,\"fMaximum\":-1111,\"fEXlow\":[0.05,0.05,0.05,0.05,0.05,0.05,0.0499999999999998,0.0499999999999998,0.0499999999999998,0.0499999999999998,0.0499999999999998,0.0499999999999998,0.0499999999999998,0.0499999999999998,0.0499999999999998,0.0499999999999998,0.0499999999999998],\"fEXhigh\":[0.05,0.05,0.05,0.05,0.05,0.05,0.0500000000000002,0.0500000000000002,0.0500000000000002,0.0500000000000002,0.0500000000000002,0.0500000000000002,0.0500000000000002,0.0500000000000002,0.0500000000000002,0.0500000000000002,0.0500000000000002],\"fEYlow\":[0.00131323922192097,0.0092086756141303,0.00211427584408808,0.00231510322057293,0.00181284656623337,0.00204225800678481,0.00230964621979179,0.00227451390750122,0.00293348356694212,0.00317648704779072,0.00355780082736579,0.00419996257706368,0.00468526310612039,0.00578000856205196,0.00668911603783051,0.00882127408643574,0.00329899267876134],\"fEYhigh\":[0.00234210859422257,0.00892139114480306,0.00154404515012474,0.00177650263392626,0.00120621871046078,0.00146586355436806,0.0017544118001539,0.00168616328450766,0.00237855718579694,0.00263070563543388,0.0029948009751396,0.00365021237757801,0.00416539523465209,0.0052734908966996,0.00618188678035358,0.0084177020658458,0.00392843596614167]},{\"_typename\":\"TLatex\",\"fUniqueID\":0,\"fBits\":50348040,\"fName\":\"\",\"fTitle\":\"EG endcap, p_{T}^{L1} #geq 25GeV, p_{T}^{GEN} #geq 35GeV\",\"fTextAngle\":0,\"fTextSize\":0.03,\"fTextAlign\":11,\"fTextColor\":1,\"fTextFont\":62,\"fX\":0.15,\"fY\":0.85,\"fLineColor\":1,\"fLineStyle\":1,\"fLineWidth\":2,\"fLimitFactorSize\":3,\"fOriginSize\":0.0299999993294477},{\"_typename\":\"TLatex\",\"fUniqueID\":0,\"fBits\":50348041,\"fName\":\"\",\"fTitle\":\"#scale[1.5]{CMS} #scale[1.]{Phase-2 Simulation}\",\"fTextAngle\":0,\"fTextSize\":0.03,\"fTextAlign\":11,\"fTextColor\":1,\"fTextFont\":62,\"fX\":0.13,\"fY\":0.91,\"fLineColor\":1,\"fLineStyle\":1,\"fLineWidth\":2,\"fLimitFactorSize\":3,\"fOriginSize\":0.0299999993294477},{\"_typename\":\"TLatex\",\"fUniqueID\":0,\"fBits\":50348041,\"fName\":\"\",\"fTitle\":\"14TeV, 200 PU\",\"fTextAngle\":0,\"fTextSize\":0.03,\"fTextAlign\":11,\"fTextColor\":1,\"fTextFont\":62,\"fX\":0.69,\"fY\":0.91,\"fLineColor\":1,\"fLineStyle\":1,\"fLineWidth\":2,\"fLimitFactorSize\":3,\"fOriginSize\":0.0299999993294477},{\"_typename\":\"TLatex\",\"fUniqueID\":0,\"fBits\":50331656,\"fName\":\"\",\"fTitle\":\"\",\"fTextAngle\":0,\"fTextSize\":0.03,\"fTextAlign\":11,\"fTextColor\":1,\"fTextFont\":62,\"fX\":0,\"fY\":0,\"fLineColor\":1,\"fLineStyle\":1,\"fLineWidth\":2,\"fLimitFactorSize\":3,\"fOriginSize\":0.04},{\"_typename\":\"TLine\",\"fUniqueID\":0,\"fBits\":50331656,\"fLineColor\":1,\"fLineStyle\":2,\"fLineWidth\":1,\"fX1\":1.52,\"fY1\":0.6,\"fX2\":1.52,\"fY2\":1.1},{\"_typename\":\"TLine\",\"fUniqueID\":0,\"fBits\":50331656,\"fLineColor\":1,\"fLineStyle\":2,\"fLineWidth\":1,\"fX1\":2.4,\"fY1\":0.6,\"fX2\":2.4,\"fY2\":1.1}],\"opt\":[\"\",\"pa\",\"same\",\"\",\"\",\"same\",\"same\",\"same\"]},\"fExecs\":null,\"fName\":\"c_22347e\",\"fTitle\":\"c_22347e\",\"fNumPaletteColor\":0,\"fNextPaletteColor\":0,\"fDISPLAY\":\"$DISPLAY\",\"fDoubleBuffer\":0,\"fRetained\":true,\"fXsizeUser\":0,\"fYsizeUser\":0,\"fXsizeReal\":20,\"fYsizeReal\":20,\"fWindowTopX\":0,\"fWindowTopY\":0,\"fWindowWidth\":0,\"fWindowHeight\":0,\"fCw\":596,\"fCh\":572,\"fCatt\":{\"_typename\":\"TAttCanvas\",\"fXBetween\":2,\"fYBetween\":2,\"fTitleFromTop\":1.2,\"fXdate\":0.2,\"fYdate\":0.3,\"fAdate\":1},\"kMoveOpaque\":true,\"kResizeOpaque\":true,\"fHighLightColor\":2,\"fBatch\":true,\"kShowEventStatus\":false,\"kAutoExec\":true,\"kMenuBar\":true});\n",
       "       Core.draw(\"root_plot_8\", obj, \"\");\n",
       "     }\n",
       " );\n",
       "</script>\n"
      ],
      "text/plain": [
       "<IPython.core.display.HTML object>"
      ]
     },
     "metadata": {},
     "output_type": "display_data"
    }
   ],
   "source": [
    "hsets, labels, text = hplot.get_histo(histos.HistoSetEff, 'ele-V9', ['PU200'], 'EG', ['EGq5Pt25'], ['GENPt35'], debug=False)\n",
    "# labels = ['TP head', 'L1 menu version', 'backported']\n",
    "text_forprint = 'EG endcap, p_{T}^{L1} #geq 25GeV, p_{T}^{GEN} #geq 35GeV'\n",
    "draw([his.h_eff.h_abseta.CreateGraph() for his in hsets], labels, text=text_forprint, \n",
    "     min_x=1.5, max_x=3.5, min_y=0.6, max_y=1.1, v_lines=[1.52, 2.4],\n",
    "     y_axis_label='eff. (L1 matched to GEN/GEN)',\n",
    "     do_write=True, write_name='figs/egammaEndcap_EG_EGq5Pt25_GENPt35_hEffVEta')\n"
   ]
  },
  {
   "cell_type": "code",
   "execution_count": 29,
   "metadata": {},
   "outputs": [
    {
     "data": {
      "text/plain": [
       "<drawingTools.DrawMachine at 0x1233a0c50>"
      ]
     },
     "execution_count": 29,
     "metadata": {},
     "output_type": "execute_result"
    },
    {
     "data": {
      "text/html": [
       "\n",
       "<div id=\"root_plot_9\"\n",
       "     style=\"width: 796px; height: 572px\">\n",
       "</div>\n",
       "\n",
       "<script>\n",
       " requirejs.config({\n",
       "     paths: {\n",
       "       'JSRootCore' : 'https://root.cern.ch/js/notebook//scripts/JSRootCore',\n",
       "     }\n",
       "   });\n",
       " require(['JSRootCore'],\n",
       "     function(Core) {\n",
       "       var obj = Core.JSONR_unref({\"_typename\":\"TCanvas\",\"fUniqueID\":0,\"fBits\":53673992,\"fLineColor\":1,\"fLineStyle\":1,\"fLineWidth\":1,\"fFillColor\":0,\"fFillStyle\":1001,\"fLeftMargin\":0.13,\"fRightMargin\":0.3,\"fBottomMargin\":0.13,\"fTopMargin\":0.1,\"fXfile\":2,\"fYfile\":2,\"fAfile\":1,\"fXstat\":0.99,\"fYstat\":0.99,\"fAstat\":2,\"fFrameFillColor\":0,\"fFrameLineColor\":1,\"fFrameFillStyle\":1001,\"fFrameLineStyle\":1,\"fFrameLineWidth\":1,\"fFrameBorderSize\":1,\"fFrameBorderMode\":0,\"fX1\":-5.24210522353154,\"fY1\":0.515584416589722,\"fX2\":7.38947388234231,\"fY2\":1.16493506751116,\"fXtoAbsPixelk\":330.340043357658,\"fXtoPixelk\":330.340043357658,\"fXtoPixel\":63.0166658759117,\"fYtoAbsPixelk\":1026.16804978691,\"fYtoPixelk\":1026.16804978691,\"fYtoPixel\":-880.879997869134,\"fUtoAbsPixelk\":5e-5,\"fUtoPixelk\":5e-5,\"fUtoPixel\":796,\"fVtoAbsPixelk\":572.00005,\"fVtoPixelk\":572,\"fVtoPixel\":-572,\"fAbsPixeltoXk\":-5.24210522353154,\"fPixeltoXk\":-5.24210522353154,\"fPixeltoX\":0.0158688179722033,\"fAbsPixeltoYk\":1.16493506751116,\"fPixeltoYk\":0.515584416589722,\"fPixeltoY\":-0.00113522841070182,\"fXlowNDC\":0,\"fYlowNDC\":0,\"fXUpNDC\":0,\"fYUpNDC\":0,\"fWNDC\":1,\"fHNDC\":1,\"fAbsXlowNDC\":0,\"fAbsYlowNDC\":0,\"fAbsWNDC\":1,\"fAbsHNDC\":1,\"fUxmin\":-3.6,\"fUymin\":0.6,\"fUxmax\":3.6,\"fUymax\":1.1,\"fTheta\":30,\"fPhi\":30,\"fAspectRatio\":0,\"fNumber\":0,\"fTickx\":0,\"fTicky\":0,\"fLogx\":0,\"fLogy\":0,\"fLogz\":0,\"fPadPaint\":0,\"fCrosshair\":0,\"fCrosshairPos\":0,\"fBorderSize\":2,\"fBorderMode\":0,\"fModified\":false,\"fGridx\":false,\"fGridy\":false,\"fAbsCoord\":false,\"fEditable\":true,\"fFixedAspectRatio\":false,\"fPrimitives\":{\"_typename\":\"TList\",\"name\":\"TList\",\"arr\":[{\"_typename\":\"TFrame\",\"fUniqueID\":0,\"fBits\":50331656,\"fLineColor\":1,\"fLineStyle\":1,\"fLineWidth\":1,\"fFillColor\":0,\"fFillStyle\":1001,\"fX1\":-3.6,\"fY1\":0.6,\"fX2\":3.6,\"fY2\":1.1,\"fBorderSize\":1,\"fBorderMode\":0},{\"_typename\":\"TGraphAsymmErrors\",\"fUniqueID\":0,\"fBits\":50332680,\"fName\":\"c21e1f\",\"fTitle\":\"; #eta^{GEN};\",\"fLineColor\":1,\"fLineStyle\":1,\"fLineWidth\":1,\"fFillColor\":0,\"fFillStyle\":1001,\"fMarkerColor\":1,\"fMarkerStyle\":8,\"fMarkerSize\":0.5,\"fNpoints\":28,\"fX\":[-2.94,-2.82,-2.7,-2.58,-2.46,-2.34,-2.22,-2.1,-1.98,-1.86,-1.74,-1.62,-1.5,-1.38,1.38,1.5,1.62,1.74,1.86,1.98,2.1,2.22,2.34,2.46,2.58,2.7,2.82,2.94],\"fY\":[0.840106007067138,0.897816593886463,0.939240506329114,0.964705882352941,0.969672131147541,0.9856,0.986739469578783,0.991262907069102,0.988713318284424,0.990438247011952,0.986496624156039,0.976985894580549,0.342126298960831,0,0,0.322652757078987,0.981790591805766,0.987111448066717,0.993017843289372,0.991358994501178,0.986963190184049,0.984751203852327,0.978142076502732,0.976686094920899,0.963594113090627,0.940099833610649,0.891485809682805,0.846808510638298],\"fFunctions\":{\"_typename\":\"TList\",\"name\":\"TList\",\"arr\":[],\"opt\":[]},\"fHistogram\":{\"_typename\":\"TH1F\",\"fUniqueID\":0,\"fBits\":50332160,\"fName\":\"c21e1f\",\"fTitle\":\"\",\"fLineColor\":602,\"fLineStyle\":1,\"fLineWidth\":1,\"fFillColor\":0,\"fFillStyle\":1001,\"fMarkerColor\":1,\"fMarkerStyle\":1,\"fMarkerSize\":1,\"fNcells\":102,\"fXaxis\":{\"_typename\":\"TAxis\",\"fUniqueID\":0,\"fBits\":50331656,\"fName\":\"xaxis\",\"fTitle\":\" #eta^{GEN}\",\"fNdivisions\":510,\"fAxisColor\":1,\"fLabelColor\":1,\"fLabelFont\":42,\"fLabelOffset\":0.005,\"fLabelSize\":0.035,\"fTickLength\":0.03,\"fTitleOffset\":1.4,\"fTitleSize\":0.035,\"fTitleColor\":1,\"fTitleFont\":42,\"fNbins\":100,\"fXmin\":-3.6,\"fXmax\":3.6,\"fXbins\":[],\"fFirst\":0,\"fLast\":0,\"fBits2\":0,\"fTimeDisplay\":false,\"fTimeFormat\":\"\",\"fLabels\":null,\"fModLabs\":null},\"fYaxis\":{\"_typename\":\"TAxis\",\"fUniqueID\":0,\"fBits\":50331656,\"fName\":\"yaxis\",\"fTitle\":\"\",\"fNdivisions\":510,\"fAxisColor\":1,\"fLabelColor\":1,\"fLabelFont\":42,\"fLabelOffset\":0.005,\"fLabelSize\":0.035,\"fTickLength\":0.03,\"fTitleOffset\":0,\"fTitleSize\":0.035,\"fTitleColor\":1,\"fTitleFont\":42,\"fNbins\":1,\"fXmin\":0,\"fXmax\":1.09482759636859,\"fXbins\":[],\"fFirst\":0,\"fLast\":0,\"fBits2\":0,\"fTimeDisplay\":false,\"fTimeFormat\":\"\",\"fLabels\":null,\"fModLabs\":null},\"fZaxis\":{\"_typename\":\"TAxis\",\"fUniqueID\":0,\"fBits\":50331648,\"fName\":\"zaxis\",\"fTitle\":\"\",\"fNdivisions\":510,\"fAxisColor\":1,\"fLabelColor\":1,\"fLabelFont\":42,\"fLabelOffset\":0.005,\"fLabelSize\":0.035,\"fTickLength\":0.03,\"fTitleOffset\":1,\"fTitleSize\":0.035,\"fTitleColor\":1,\"fTitleFont\":42,\"fNbins\":1,\"fXmin\":0,\"fXmax\":1,\"fXbins\":[],\"fFirst\":0,\"fLast\":0,\"fBits2\":0,\"fTimeDisplay\":false,\"fTimeFormat\":\"\",\"fLabels\":null,\"fModLabs\":null},\"fBarOffset\":0,\"fBarWidth\":1000,\"fEntries\":0,\"fTsumw\":0,\"fTsumw2\":0,\"fTsumwx\":0,\"fTsumwx2\":0,\"fMaximum\":1.1,\"fMinimum\":0.6,\"fNormFactor\":0,\"fContour\":[],\"fSumw2\":[],\"fOption\":\"\",\"fFunctions\":{\"_typename\":\"TList\",\"name\":\"TList\",\"arr\":[],\"opt\":[]},\"fBufferSize\":0,\"fBuffer\":[],\"fBinStatErrOpt\":0,\"fStatOverflows\":2,\"fArray\":[0,0,0,0,0,0,0,0,0,0,0,0,0,0,0,0,0,0,0,0,0,0,0,0,0,0,0,0,0,0,0,0,0,0,0,0,0,0,0,0,0,0,0,0,0,0,0,0,0,0,0,0,0,0,0,0,0,0,0,0,0,0,0,0,0,0,0,0,0,0,0,0,0,0,0,0,0,0,0,0,0,0,0,0,0,0,0,0,0,0,0,0,0,0,0,0,0,0,0,0,0,0]},\"fMinimum\":-1111,\"fMaximum\":-1111,\"fEXlow\":[0.0600000000000001,0.0600000000000001,0.0600000000000001,0.0600000000000001,0.0600000000000001,0.0600000000000001,0.0600000000000001,0.0600000000000001,0.0600000000000001,0.0600000000000001,0.0600000000000001,0.0600000000000001,0.0600000000000001,0.0600000000000001,0.0600000000000001,0.0600000000000001,0.0600000000000001,0.0600000000000001,0.0600000000000001,0.0600000000000001,0.0600000000000001,0.0600000000000001,0.0600000000000001,0.0600000000000001,0.0600000000000001,0.0600000000000001,0.0600000000000001,0.0600000000000001],\"fEXhigh\":[0.0599999999999999,0.0599999999999999,0.0599999999999999,0.0599999999999999,0.0599999999999999,0.0599999999999999,0.0599999999999999,0.0599999999999999,0.0599999999999999,0.0599999999999999,0.0599999999999999,0.0599999999999999,0.0599999999999999,0.0599999999999999,0.0599999999999999,0.0599999999999999,0.0599999999999999,0.0599999999999999,0.0599999999999999,0.0599999999999999,0.0599999999999999,0.0599999999999999,0.0599999999999999,0.0599999999999999,0.0599999999999999,0.0599999999999999,0.0599999999999999,0.0599999999999999],\"fEYlow\":[0.0116450228556589,0.00975227381207955,0.00775787826084384,0.00619703658380855,0.00574409527727293,0.00421702732316198,0.00402385830928065,0.00348646671287012,0.00370312914122328,0.00360933093543903,0.00395677816922424,0.004851299787064,0.0136778036705929,0,0,0.0129934158959996,0.00447566326839921,0.00391194414394025,0.00317245432130853,0.00344835772236829,0.0039565559574547,0.00431926152266227,0.00489380049187171,0.00521502405307717,0.00599158146354961,0.00765210485429946,0.00974512338472067,0.0112377041792576],\"fEYhigh\":[0.0110200868408696,0.00902385220719693,0.00697180759068372,0.00535498701413384,0.00491016239638675,0.00334809809904135,0.0031720620420983,0.00258824318677908,0.00287241672464256,0.00271472249923355,0.00314046057021433,0.00407895511381917,0.0139375934535548,0.0409781316010068,0.0559082515517007,0.0132653118741208,0.00366948823605884,0.0030834140442686,0.00227997159116233,0.00255983911332491,0.00311874841567039,0.00345149098102659,0.00407621106536959,0.00434560343192514,0.00522029337457031,0.00687564975039456,0.00906152193990761,0.0106237888207885]},{\"_typename\":\"TGraphAsymmErrors\",\"fUniqueID\":0,\"fBits\":50332680,\"fName\":\"e23b69\",\"fTitle\":\"; #eta^{GEN};\",\"fLineColor\":628,\"fLineStyle\":1,\"fLineWidth\":1,\"fFillColor\":0,\"fFillStyle\":1001,\"fMarkerColor\":628,\"fMarkerStyle\":21,\"fMarkerSize\":0.5,\"fNpoints\":28,\"fX\":[-2.94,-2.82,-2.7,-2.58,-2.46,-2.34,-2.22,-2.1,-1.98,-1.86,-1.74,-1.62,-1.5,-1.38,1.38,1.5,1.62,1.74,1.86,1.98,2.1,2.22,2.34,2.46,2.58,2.7,2.82,2.94],\"fY\":[0,0,0,0,0.268852459016393,0.8576,0.908736349453978,0.902303415409055,0.891647855530474,0.908366533864542,0.895723930982746,0.884187082405345,0.305355715427658,0,0,0.292846497764531,0.886191198786039,0.896891584533738,0.907680372381691,0.917517674783975,0.898006134969325,0.905296950240771,0.870413739266198,0.263946711074105,0,0,0,0],\"fFunctions\":{\"_typename\":\"TList\",\"name\":\"TList\",\"arr\":[],\"opt\":[]},\"fHistogram\":{\"_typename\":\"TH1F\",\"fUniqueID\":0,\"fBits\":50332160,\"fName\":\"e23b69\",\"fTitle\":\"\",\"fLineColor\":602,\"fLineStyle\":1,\"fLineWidth\":1,\"fFillColor\":0,\"fFillStyle\":1001,\"fMarkerColor\":1,\"fMarkerStyle\":1,\"fMarkerSize\":1,\"fNcells\":102,\"fXaxis\":{\"_typename\":\"TAxis\",\"fUniqueID\":0,\"fBits\":50331656,\"fName\":\"xaxis\",\"fTitle\":\" #eta^{GEN}\",\"fNdivisions\":510,\"fAxisColor\":1,\"fLabelColor\":1,\"fLabelFont\":42,\"fLabelOffset\":0.005,\"fLabelSize\":0.035,\"fTickLength\":0.03,\"fTitleOffset\":1.4,\"fTitleSize\":0.035,\"fTitleColor\":1,\"fTitleFont\":42,\"fNbins\":100,\"fXmin\":-3.6,\"fXmax\":3.6,\"fXbins\":[],\"fFirst\":0,\"fLast\":0,\"fBits2\":0,\"fTimeDisplay\":false,\"fTimeFormat\":\"\",\"fLabels\":null,\"fModLabs\":null},\"fYaxis\":{\"_typename\":\"TAxis\",\"fUniqueID\":0,\"fBits\":50331656,\"fName\":\"yaxis\",\"fTitle\":\"\",\"fNdivisions\":510,\"fAxisColor\":1,\"fLabelColor\":1,\"fLabelFont\":42,\"fLabelOffset\":0.005,\"fLabelSize\":0.035,\"fTickLength\":0.03,\"fTitleOffset\":0,\"fTitleSize\":0.035,\"fTitleColor\":1,\"fTitleFont\":42,\"fNbins\":1,\"fXmin\":0,\"fXmax\":1.01780528776736,\"fXbins\":[],\"fFirst\":0,\"fLast\":0,\"fBits2\":0,\"fTimeDisplay\":false,\"fTimeFormat\":\"\",\"fLabels\":null,\"fModLabs\":null},\"fZaxis\":{\"_typename\":\"TAxis\",\"fUniqueID\":0,\"fBits\":50331648,\"fName\":\"zaxis\",\"fTitle\":\"\",\"fNdivisions\":510,\"fAxisColor\":1,\"fLabelColor\":1,\"fLabelFont\":42,\"fLabelOffset\":0.005,\"fLabelSize\":0.035,\"fTickLength\":0.03,\"fTitleOffset\":1,\"fTitleSize\":0.035,\"fTitleColor\":1,\"fTitleFont\":42,\"fNbins\":1,\"fXmin\":0,\"fXmax\":1,\"fXbins\":[],\"fFirst\":0,\"fLast\":0,\"fBits2\":0,\"fTimeDisplay\":false,\"fTimeFormat\":\"\",\"fLabels\":null,\"fModLabs\":null},\"fBarOffset\":0,\"fBarWidth\":1000,\"fEntries\":0,\"fTsumw\":0,\"fTsumw2\":0,\"fTsumwx\":0,\"fTsumwx2\":0,\"fMaximum\":1.1,\"fMinimum\":0.6,\"fNormFactor\":0,\"fContour\":[],\"fSumw2\":[],\"fOption\":\"\",\"fFunctions\":{\"_typename\":\"TList\",\"name\":\"TList\",\"arr\":[],\"opt\":[]},\"fBufferSize\":0,\"fBuffer\":[],\"fBinStatErrOpt\":0,\"fStatOverflows\":2,\"fArray\":[0,0,0,0,0,0,0,0,0,0,0,0,0,0,0,0,0,0,0,0,0,0,0,0,0,0,0,0,0,0,0,0,0,0,0,0,0,0,0,0,0,0,0,0,0,0,0,0,0,0,0,0,0,0,0,0,0,0,0,0,0,0,0,0,0,0,0,0,0,0,0,0,0,0,0,0,0,0,0,0,0,0,0,0,0,0,0,0,0,0,0,0,0,0,0,0,0,0,0,0,0,0]},\"fMinimum\":-1111,\"fMaximum\":-1111,\"fEXlow\":[0.0600000000000001,0.0600000000000001,0.0600000000000001,0.0600000000000001,0.0600000000000001,0.0600000000000001,0.0600000000000001,0.0600000000000001,0.0600000000000001,0.0600000000000001,0.0600000000000001,0.0600000000000001,0.0600000000000001,0.0600000000000001,0.0600000000000001,0.0600000000000001,0.0600000000000001,0.0600000000000001,0.0600000000000001,0.0600000000000001,0.0600000000000001,0.0600000000000001,0.0600000000000001,0.0600000000000001,0.0600000000000001,0.0600000000000001,0.0600000000000001,0.0600000000000001],\"fEXhigh\":[0.0599999999999999,0.0599999999999999,0.0599999999999999,0.0599999999999999,0.0599999999999999,0.0599999999999999,0.0599999999999999,0.0599999999999999,0.0599999999999999,0.0599999999999999,0.0599999999999999,0.0599999999999999,0.0599999999999999,0.0599999999999999,0.0599999999999999,0.0599999999999999,0.0599999999999999,0.0599999999999999,0.0599999999999999,0.0599999999999999,0.0599999999999999,0.0599999999999999,0.0599999999999999,0.0599999999999999,0.0599999999999999,0.0599999999999999,0.0599999999999999,0.0599999999999999],\"fEYlow\":[0,0,0,0,0.0129031980276816,0.0105802139512214,0.00876801942502092,0.00909975456904111,0.0092098303899385,0.00888428076420822,0.00905595699169603,0.00938701796484764,0.0132558214491628,0,0,0.0126316485154949,0.0094323051301094,0.00906685711312283,0.00878275841195686,0.00844894357696913,0.00908351131560148,0.0090377688094887,0.0100739273331611,0.0129274635171441,0,0,0,0],\"fEYhigh\":[0.00162502242828117,0.00160658722076375,0.00155239854458307,0.00154588090587456,0.0132941690939021,0.00998517381632491,0.00809972851301888,0.00843063099301866,0.00859469359482545,0.00820195711956129,0.00843587493716258,0.00879254682906105,0.0135763989055701,0.0409781316010068,0.0559082515517007,0.0129494878388886,0.00882112466772855,0.00843806890645105,0.0081200538043974,0.0077598595499907,0.00844541437665125,0.00835604007806201,0.00947181972247058,0.0133332209351957,0.00142502678595032,0.00153045963454496,0.00153556575799479,0.00156560009943323]},{\"_typename\":\"TGraphAsymmErrors\",\"fUniqueID\":0,\"fBits\":50332680,\"fName\":\"5543c2\",\"fTitle\":\"; #eta^{GEN};\",\"fLineColor\":417,\"fLineStyle\":1,\"fLineWidth\":1,\"fFillColor\":0,\"fFillStyle\":1001,\"fMarkerColor\":417,\"fMarkerStyle\":22,\"fMarkerSize\":0.5,\"fNpoints\":28,\"fX\":[-2.94,-2.82,-2.7,-2.58,-2.46,-2.34,-2.22,-2.1,-1.98,-1.86,-1.74,-1.62,-1.5,-1.38,1.38,1.5,1.62,1.74,1.86,1.98,2.1,2.22,2.34,2.46,2.58,2.7,2.82,2.94],\"fY\":[0,0,0,0,0.267213114754098,0.8536,0.899375975039002,0.891183478951549,0.884123401053424,0.89800796812749,0.891972993248312,0.889383815887157,0.310151878497202,0,0,0.307004470938897,0.889984825493171,0.896133434420015,0.899146625290923,0.913589945011783,0.894171779141104,0.900481540930979,0.866510538641686,0.261448792672773,0,0,0,0],\"fFunctions\":{\"_typename\":\"TList\",\"name\":\"TList\",\"arr\":[],\"opt\":[]},\"fHistogram\":{\"_typename\":\"TH1F\",\"fUniqueID\":0,\"fBits\":50332160,\"fName\":\"5543c2\",\"fTitle\":\"\",\"fLineColor\":602,\"fLineStyle\":1,\"fLineWidth\":1,\"fFillColor\":0,\"fFillStyle\":1001,\"fMarkerColor\":1,\"fMarkerStyle\":1,\"fMarkerSize\":1,\"fNcells\":102,\"fXaxis\":{\"_typename\":\"TAxis\",\"fUniqueID\":0,\"fBits\":50331656,\"fName\":\"xaxis\",\"fTitle\":\" #eta^{GEN}\",\"fNdivisions\":510,\"fAxisColor\":1,\"fLabelColor\":1,\"fLabelFont\":42,\"fLabelOffset\":0.005,\"fLabelSize\":0.035,\"fTickLength\":0.03,\"fTitleOffset\":1.4,\"fTitleSize\":0.035,\"fTitleColor\":1,\"fTitleFont\":42,\"fNbins\":100,\"fXmin\":-3.6,\"fXmax\":3.6,\"fXbins\":[],\"fFirst\":0,\"fLast\":0,\"fBits2\":0,\"fTimeDisplay\":false,\"fTimeFormat\":\"\",\"fLabels\":null,\"fModLabs\":null},\"fYaxis\":{\"_typename\":\"TAxis\",\"fUniqueID\":0,\"fBits\":50331656,\"fName\":\"yaxis\",\"fTitle\":\"\",\"fNdivisions\":510,\"fAxisColor\":1,\"fLabelColor\":1,\"fLabelFont\":42,\"fLabelOffset\":0.005,\"fLabelSize\":0.035,\"fTickLength\":0.03,\"fTitleOffset\":0,\"fTitleSize\":0.035,\"fTitleColor\":1,\"fTitleFont\":42,\"fNbins\":1,\"fXmin\":0,\"fXmax\":1.01366944989077,\"fXbins\":[],\"fFirst\":0,\"fLast\":0,\"fBits2\":0,\"fTimeDisplay\":false,\"fTimeFormat\":\"\",\"fLabels\":null,\"fModLabs\":null},\"fZaxis\":{\"_typename\":\"TAxis\",\"fUniqueID\":0,\"fBits\":50331648,\"fName\":\"zaxis\",\"fTitle\":\"\",\"fNdivisions\":510,\"fAxisColor\":1,\"fLabelColor\":1,\"fLabelFont\":42,\"fLabelOffset\":0.005,\"fLabelSize\":0.035,\"fTickLength\":0.03,\"fTitleOffset\":1,\"fTitleSize\":0.035,\"fTitleColor\":1,\"fTitleFont\":42,\"fNbins\":1,\"fXmin\":0,\"fXmax\":1,\"fXbins\":[],\"fFirst\":0,\"fLast\":0,\"fBits2\":0,\"fTimeDisplay\":false,\"fTimeFormat\":\"\",\"fLabels\":null,\"fModLabs\":null},\"fBarOffset\":0,\"fBarWidth\":1000,\"fEntries\":0,\"fTsumw\":0,\"fTsumw2\":0,\"fTsumwx\":0,\"fTsumwx2\":0,\"fMaximum\":1.1,\"fMinimum\":0.6,\"fNormFactor\":0,\"fContour\":[],\"fSumw2\":[],\"fOption\":\"\",\"fFunctions\":{\"_typename\":\"TList\",\"name\":\"TList\",\"arr\":[],\"opt\":[]},\"fBufferSize\":0,\"fBuffer\":[],\"fBinStatErrOpt\":0,\"fStatOverflows\":2,\"fArray\":[0,0,0,0,0,0,0,0,0,0,0,0,0,0,0,0,0,0,0,0,0,0,0,0,0,0,0,0,0,0,0,0,0,0,0,0,0,0,0,0,0,0,0,0,0,0,0,0,0,0,0,0,0,0,0,0,0,0,0,0,0,0,0,0,0,0,0,0,0,0,0,0,0,0,0,0,0,0,0,0,0,0,0,0,0,0,0,0,0,0,0,0,0,0,0,0,0,0,0,0,0,0]},\"fMinimum\":-1111,\"fMaximum\":-1111,\"fEXlow\":[0.0600000000000001,0.0600000000000001,0.0600000000000001,0.0600000000000001,0.0600000000000001,0.0600000000000001,0.0600000000000001,0.0600000000000001,0.0600000000000001,0.0600000000000001,0.0600000000000001,0.0600000000000001,0.0600000000000001,0.0600000000000001,0.0600000000000001,0.0600000000000001,0.0600000000000001,0.0600000000000001,0.0600000000000001,0.0600000000000001,0.0600000000000001,0.0600000000000001,0.0600000000000001,0.0600000000000001,0.0600000000000001,0.0600000000000001,0.0600000000000001,0.0600000000000001],\"fEXhigh\":[0.0599999999999999,0.0599999999999999,0.0599999999999999,0.0599999999999999,0.0599999999999999,0.0599999999999999,0.0599999999999999,0.0599999999999999,0.0599999999999999,0.0599999999999999,0.0599999999999999,0.0599999999999999,0.0599999999999999,0.0599999999999999,0.0599999999999999,0.0599999999999999,0.0599999999999999,0.0599999999999999,0.0599999999999999,0.0599999999999999,0.0599999999999999,0.0599999999999999,0.0599999999999999,0.0599999999999999,0.0599999999999999,0.0599999999999999,0.0599999999999999,0.0599999999999999],\"fEYlow\":[0,0,0,0,0.0128772451454017,0.0106910791561839,0.00911801262709622,0.00949804962616885,0.00945702978495755,0.00927319490514866,0.00918401123986257,0.00921864146181139,0.013316216456095,0,0,0.0128111850284681,0.00930702018681817,0.00909335187031934,0.0090995029880514,0.00860964479224102,0.00921786748250863,0.00921874399034306,0.0101893536075852,0.0128864723840055,0,0,0,0],\"fEYhigh\":[0.00162502242828117,0.00160658722076375,0.00155239854458307,0.00154588090587456,0.0132710130116246,0.0101029576978485,0.00846631973130429,0.00884879847836295,0.00885445043321531,0.00860963160062667,0.00857021499430632,0.00861563002371513,0.0136288543577764,0.0409781316010068,0.0559082515517007,0.0131071856552982,0.0086894519469356,0.00846585298867253,0.00845182695730606,0.00792773670709745,0.00858636664132717,0.00854579751872853,0.00959388920982951,0.0132965634719531,0.00142502678595032,0.00153045963454496,0.00153556575799479,0.00156560009943323]},{\"_typename\":\"TLegend\",\"fUniqueID\":0,\"fBits\":50331656,\"fLineColor\":1,\"fLineStyle\":1,\"fLineWidth\":1,\"fFillColor\":0,\"fFillStyle\":0,\"fX1\":3.60000015058016,\"fY1\":0.976623378743946,\"fX2\":6.75789492704862,\"fY2\":1.06753246987295,\"fX1NDC\":0.7,\"fY1NDC\":0.71,\"fX2NDC\":0.95,\"fY2NDC\":0.85,\"fBorderSize\":0,\"fInit\":1,\"fShadowColor\":1,\"fCornerRadius\":0,\"fOption\":\"brNDC\",\"fName\":\"TPave\",\"fTextAngle\":0,\"fTextSize\":0.03,\"fTextAlign\":12,\"fTextColor\":1,\"fTextFont\":42,\"fPrimitives\":{\"_typename\":\"TList\",\"name\":\"TList\",\"arr\":[{\"_typename\":\"TLegendEntry\",\"fUniqueID\":0,\"fBits\":50331656,\"fTextAngle\":0,\"fTextSize\":0,\"fTextAlign\":0,\"fTextColor\":0,\"fTextFont\":42,\"fLineColor\":1,\"fLineStyle\":1,\"fLineWidth\":1,\"fFillColor\":0,\"fFillStyle\":0,\"fMarkerColor\":1,\"fMarkerStyle\":8,\"fMarkerSize\":0.5,\"fObject\":{\"$ref\":3},\"fLabel\":\"EG, hwQual 5, p_{T}^{L1}>=25GeV\",\"fOption\":\"P\"},{\"_typename\":\"TLegendEntry\",\"fUniqueID\":0,\"fBits\":50331656,\"fTextAngle\":0,\"fTextSize\":0,\"fTextAlign\":0,\"fTextColor\":0,\"fTextFont\":42,\"fLineColor\":1,\"fLineStyle\":1,\"fLineWidth\":1,\"fFillColor\":0,\"fFillStyle\":0,\"fMarkerColor\":628,\"fMarkerStyle\":21,\"fMarkerSize\":0.5,\"fObject\":{\"$ref\":10},\"fLabel\":\"TkEle Ell. match, hwQual 5, p_{T}^{L1}>=25GeV\",\"fOption\":\"P\"},{\"_typename\":\"TLegendEntry\",\"fUniqueID\":0,\"fBits\":50331656,\"fTextAngle\":0,\"fTextSize\":0,\"fTextAlign\":0,\"fTextColor\":0,\"fTextFont\":42,\"fLineColor\":1,\"fLineStyle\":1,\"fLineWidth\":1,\"fFillColor\":0,\"fFillStyle\":0,\"fMarkerColor\":417,\"fMarkerStyle\":22,\"fMarkerSize\":0.5,\"fObject\":{\"$ref\":17},\"fLabel\":\"TkEle Ell. match, hwQual 5, Iso0p1\",\"fOption\":\"P\"}],\"opt\":[\"P\",\"P\",\"P\"]},\"fEntrySeparation\":0.1,\"fMargin\":0.25,\"fNColumns\":1,\"fColumnSeparation\":0},{\"_typename\":\"TLatex\",\"fUniqueID\":0,\"fBits\":50348040,\"fName\":\"\",\"fTitle\":\"PU200, p_{T}^{GEN}>=30GeV\",\"fTextAngle\":0,\"fTextSize\":0.03,\"fTextAlign\":11,\"fTextColor\":1,\"fTextFont\":62,\"fX\":0.15,\"fY\":0.85,\"fLineColor\":1,\"fLineStyle\":1,\"fLineWidth\":2,\"fLimitFactorSize\":3,\"fOriginSize\":0.04},{\"_typename\":\"TLatex\",\"fUniqueID\":0,\"fBits\":50331656,\"fName\":\"\",\"fTitle\":\"\",\"fTextAngle\":0,\"fTextSize\":0.03,\"fTextAlign\":11,\"fTextColor\":1,\"fTextFont\":62,\"fX\":0,\"fY\":0,\"fLineColor\":1,\"fLineStyle\":1,\"fLineWidth\":2,\"fLimitFactorSize\":3,\"fOriginSize\":0.04},{\"_typename\":\"TLine\",\"fUniqueID\":0,\"fBits\":50331656,\"fLineColor\":1,\"fLineStyle\":2,\"fLineWidth\":1,\"fX1\":-2.8,\"fY1\":0.6,\"fX2\":-2.8,\"fY2\":1.1},{\"_typename\":\"TLine\",\"fUniqueID\":0,\"fBits\":50331656,\"fLineColor\":1,\"fLineStyle\":2,\"fLineWidth\":1,\"fX1\":-2.4,\"fY1\":0.6,\"fX2\":-2.4,\"fY2\":1.1},{\"_typename\":\"TLine\",\"fUniqueID\":0,\"fBits\":50331656,\"fLineColor\":1,\"fLineStyle\":2,\"fLineWidth\":1,\"fX1\":-1.7,\"fY1\":0.6,\"fX2\":-1.7,\"fY2\":1.1},{\"_typename\":\"TLine\",\"fUniqueID\":0,\"fBits\":50331656,\"fLineColor\":1,\"fLineStyle\":2,\"fLineWidth\":1,\"fX1\":-1.52,\"fY1\":0.6,\"fX2\":-1.52,\"fY2\":1.1},{\"_typename\":\"TLine\",\"fUniqueID\":0,\"fBits\":50331656,\"fLineColor\":1,\"fLineStyle\":2,\"fLineWidth\":1,\"fX1\":1.52,\"fY1\":0.6,\"fX2\":1.52,\"fY2\":1.1},{\"_typename\":\"TLine\",\"fUniqueID\":0,\"fBits\":50331656,\"fLineColor\":1,\"fLineStyle\":2,\"fLineWidth\":1,\"fX1\":1.7,\"fY1\":0.6,\"fX2\":1.7,\"fY2\":1.1},{\"_typename\":\"TLine\",\"fUniqueID\":0,\"fBits\":50331656,\"fLineColor\":1,\"fLineStyle\":2,\"fLineWidth\":1,\"fX1\":2.4,\"fY1\":0.6,\"fX2\":2.4,\"fY2\":1.1},{\"_typename\":\"TLine\",\"fUniqueID\":0,\"fBits\":50331656,\"fLineColor\":1,\"fLineStyle\":2,\"fLineWidth\":1,\"fX1\":2.8,\"fY1\":0.6,\"fX2\":2.8,\"fY2\":1.1}],\"opt\":[\"\",\"pa\",\",p\",\",p\",\"same\",\"same\",\"same\",\"same\",\"same\",\"same\",\"same\",\"same\",\"same\",\"same\",\"same\"]},\"fExecs\":null,\"fName\":\"c_608eac\",\"fTitle\":\"c_608eac\",\"fNumPaletteColor\":0,\"fNextPaletteColor\":0,\"fDISPLAY\":\"$DISPLAY\",\"fDoubleBuffer\":0,\"fRetained\":true,\"fXsizeUser\":0,\"fYsizeUser\":0,\"fXsizeReal\":20,\"fYsizeReal\":15,\"fWindowTopX\":0,\"fWindowTopY\":0,\"fWindowWidth\":0,\"fWindowHeight\":0,\"fCw\":796,\"fCh\":572,\"fCatt\":{\"_typename\":\"TAttCanvas\",\"fXBetween\":2,\"fYBetween\":2,\"fTitleFromTop\":1.2,\"fXdate\":0.2,\"fYdate\":0.3,\"fAdate\":1},\"kMoveOpaque\":true,\"kResizeOpaque\":true,\"fHighLightColor\":2,\"fBatch\":true,\"kShowEventStatus\":false,\"kAutoExec\":true,\"kMenuBar\":true});\n",
       "       Core.draw(\"root_plot_9\", obj, \"\");\n",
       "     }\n",
       " );\n",
       "</script>\n"
      ],
      "text/plain": [
       "<IPython.core.display.HTML object>"
      ]
     },
     "metadata": {},
     "output_type": "display_data"
    }
   ],
   "source": [
    "hsets, labels, text = hplot.get_histo(histos.HistoSetEff, sample, ['PU200'], ['EG','TkEleEL'], ['EGq5Pt25', 'EGq5Iso0p1'], 'GENPt30', debug=False)\n",
    "draw([his.h_eff.h_eta.CreateGraph() for his in hsets], labels, text=text, min_y=0.6, max_y=1.1, v_lines=[-2.8, -2.4, -1.7, -1.52, 1.52, 1.7, 2.4, 2.8],\n",
    "     do_write=False, write_name='egammaEndcap_TkEle_EGq4Pt30_GENPt40_hEffVEta')\n"
   ]
  },
  {
   "cell_type": "code",
   "execution_count": 30,
   "metadata": {},
   "outputs": [
    {
     "data": {
      "text/plain": [
       "<drawingTools.DrawMachine at 0x122b1f190>"
      ]
     },
     "execution_count": 30,
     "metadata": {},
     "output_type": "execute_result"
    },
    {
     "data": {
      "text/html": [
       "\n",
       "<div id=\"root_plot_10\"\n",
       "     style=\"width: 796px; height: 572px\">\n",
       "</div>\n",
       "\n",
       "<script>\n",
       " requirejs.config({\n",
       "     paths: {\n",
       "       'JSRootCore' : 'https://root.cern.ch/js/notebook//scripts/JSRootCore',\n",
       "     }\n",
       "   });\n",
       " require(['JSRootCore'],\n",
       "     function(Core) {\n",
       "       var obj = Core.JSONR_unref({\"_typename\":\"TCanvas\",\"fUniqueID\":0,\"fBits\":53673992,\"fLineColor\":1,\"fLineStyle\":1,\"fLineWidth\":1,\"fFillColor\":0,\"fFillStyle\":1001,\"fLeftMargin\":0.13,\"fRightMargin\":0.3,\"fBottomMargin\":0.13,\"fTopMargin\":0.1,\"fXfile\":2,\"fYfile\":2,\"fAfile\":1,\"fXstat\":0.99,\"fYstat\":0.99,\"fAstat\":2,\"fFrameFillColor\":0,\"fFrameLineColor\":1,\"fFrameFillStyle\":1001,\"fFrameLineStyle\":1,\"fFrameLineWidth\":1,\"fFrameBorderSize\":1,\"fFrameBorderMode\":0,\"fX1\":-5.24210522353154,\"fY1\":0.515584416589722,\"fX2\":7.38947388234231,\"fY2\":1.16493506751116,\"fXtoAbsPixelk\":330.340043357658,\"fXtoPixelk\":330.340043357658,\"fXtoPixel\":63.0166658759117,\"fYtoAbsPixelk\":1026.16804978691,\"fYtoPixelk\":1026.16804978691,\"fYtoPixel\":-880.879997869134,\"fUtoAbsPixelk\":5e-5,\"fUtoPixelk\":5e-5,\"fUtoPixel\":796,\"fVtoAbsPixelk\":572.00005,\"fVtoPixelk\":572,\"fVtoPixel\":-572,\"fAbsPixeltoXk\":-5.24210522353154,\"fPixeltoXk\":-5.24210522353154,\"fPixeltoX\":0.0158688179722033,\"fAbsPixeltoYk\":1.16493506751116,\"fPixeltoYk\":0.515584416589722,\"fPixeltoY\":-0.00113522841070182,\"fXlowNDC\":0,\"fYlowNDC\":0,\"fXUpNDC\":0,\"fYUpNDC\":0,\"fWNDC\":1,\"fHNDC\":1,\"fAbsXlowNDC\":0,\"fAbsYlowNDC\":0,\"fAbsWNDC\":1,\"fAbsHNDC\":1,\"fUxmin\":-3.6,\"fUymin\":0.6,\"fUxmax\":3.6,\"fUymax\":1.1,\"fTheta\":30,\"fPhi\":30,\"fAspectRatio\":0,\"fNumber\":0,\"fTickx\":0,\"fTicky\":0,\"fLogx\":0,\"fLogy\":0,\"fLogz\":0,\"fPadPaint\":0,\"fCrosshair\":0,\"fCrosshairPos\":0,\"fBorderSize\":2,\"fBorderMode\":0,\"fModified\":false,\"fGridx\":false,\"fGridy\":false,\"fAbsCoord\":false,\"fEditable\":true,\"fFixedAspectRatio\":false,\"fPrimitives\":{\"_typename\":\"TList\",\"name\":\"TList\",\"arr\":[{\"_typename\":\"TFrame\",\"fUniqueID\":0,\"fBits\":50331656,\"fLineColor\":1,\"fLineStyle\":1,\"fLineWidth\":1,\"fFillColor\":0,\"fFillStyle\":1001,\"fX1\":-3.6,\"fY1\":0.6,\"fX2\":3.6,\"fY2\":1.1,\"fBorderSize\":1,\"fBorderMode\":0},{\"_typename\":\"TGraphAsymmErrors\",\"fUniqueID\":0,\"fBits\":50332680,\"fName\":\"c44e23\",\"fTitle\":\"; #eta^{GEN};\",\"fLineColor\":1,\"fLineStyle\":1,\"fLineWidth\":1,\"fFillColor\":0,\"fFillStyle\":1001,\"fMarkerColor\":1,\"fMarkerStyle\":8,\"fMarkerSize\":0.5,\"fNpoints\":28,\"fX\":[-2.94,-2.82,-2.7,-2.58,-2.46,-2.34,-2.22,-2.1,-1.98,-1.86,-1.74,-1.62,-1.5,-1.38,1.38,1.5,1.62,1.74,1.86,1.98,2.1,2.22,2.34,2.46,2.58,2.7,2.82,2.94],\"fY\":[0,0,0,0,0.268852459016393,0.8576,0.908736349453978,0.902303415409055,0.891647855530474,0.908366533864542,0.895723930982746,0.884187082405345,0.305355715427658,0,0,0.292846497764531,0.886191198786039,0.896891584533738,0.907680372381691,0.917517674783975,0.898006134969325,0.905296950240771,0.870413739266198,0.263946711074105,0,0,0,0],\"fFunctions\":{\"_typename\":\"TList\",\"name\":\"TList\",\"arr\":[],\"opt\":[]},\"fHistogram\":{\"_typename\":\"TH1F\",\"fUniqueID\":0,\"fBits\":50332160,\"fName\":\"c44e23\",\"fTitle\":\"\",\"fLineColor\":602,\"fLineStyle\":1,\"fLineWidth\":1,\"fFillColor\":0,\"fFillStyle\":1001,\"fMarkerColor\":1,\"fMarkerStyle\":1,\"fMarkerSize\":1,\"fNcells\":102,\"fXaxis\":{\"_typename\":\"TAxis\",\"fUniqueID\":0,\"fBits\":50331656,\"fName\":\"xaxis\",\"fTitle\":\" #eta^{GEN}\",\"fNdivisions\":510,\"fAxisColor\":1,\"fLabelColor\":1,\"fLabelFont\":42,\"fLabelOffset\":0.005,\"fLabelSize\":0.035,\"fTickLength\":0.03,\"fTitleOffset\":1.4,\"fTitleSize\":0.035,\"fTitleColor\":1,\"fTitleFont\":42,\"fNbins\":100,\"fXmin\":-3.6,\"fXmax\":3.6,\"fXbins\":[],\"fFirst\":0,\"fLast\":0,\"fBits2\":0,\"fTimeDisplay\":false,\"fTimeFormat\":\"\",\"fLabels\":null,\"fModLabs\":null},\"fYaxis\":{\"_typename\":\"TAxis\",\"fUniqueID\":0,\"fBits\":50331656,\"fName\":\"yaxis\",\"fTitle\":\"\",\"fNdivisions\":510,\"fAxisColor\":1,\"fLabelColor\":1,\"fLabelFont\":42,\"fLabelOffset\":0.005,\"fLabelSize\":0.035,\"fTickLength\":0.03,\"fTitleOffset\":0,\"fTitleSize\":0.035,\"fTitleColor\":1,\"fTitleFont\":42,\"fNbins\":1,\"fXmin\":0,\"fXmax\":1.01780528776736,\"fXbins\":[],\"fFirst\":0,\"fLast\":0,\"fBits2\":0,\"fTimeDisplay\":false,\"fTimeFormat\":\"\",\"fLabels\":null,\"fModLabs\":null},\"fZaxis\":{\"_typename\":\"TAxis\",\"fUniqueID\":0,\"fBits\":50331648,\"fName\":\"zaxis\",\"fTitle\":\"\",\"fNdivisions\":510,\"fAxisColor\":1,\"fLabelColor\":1,\"fLabelFont\":42,\"fLabelOffset\":0.005,\"fLabelSize\":0.035,\"fTickLength\":0.03,\"fTitleOffset\":1,\"fTitleSize\":0.035,\"fTitleColor\":1,\"fTitleFont\":42,\"fNbins\":1,\"fXmin\":0,\"fXmax\":1,\"fXbins\":[],\"fFirst\":0,\"fLast\":0,\"fBits2\":0,\"fTimeDisplay\":false,\"fTimeFormat\":\"\",\"fLabels\":null,\"fModLabs\":null},\"fBarOffset\":0,\"fBarWidth\":1000,\"fEntries\":0,\"fTsumw\":0,\"fTsumw2\":0,\"fTsumwx\":0,\"fTsumwx2\":0,\"fMaximum\":1.1,\"fMinimum\":0.6,\"fNormFactor\":0,\"fContour\":[],\"fSumw2\":[],\"fOption\":\"\",\"fFunctions\":{\"_typename\":\"TList\",\"name\":\"TList\",\"arr\":[],\"opt\":[]},\"fBufferSize\":0,\"fBuffer\":[],\"fBinStatErrOpt\":0,\"fStatOverflows\":2,\"fArray\":[0,0,0,0,0,0,0,0,0,0,0,0,0,0,0,0,0,0,0,0,0,0,0,0,0,0,0,0,0,0,0,0,0,0,0,0,0,0,0,0,0,0,0,0,0,0,0,0,0,0,0,0,0,0,0,0,0,0,0,0,0,0,0,0,0,0,0,0,0,0,0,0,0,0,0,0,0,0,0,0,0,0,0,0,0,0,0,0,0,0,0,0,0,0,0,0,0,0,0,0,0,0]},\"fMinimum\":-1111,\"fMaximum\":-1111,\"fEXlow\":[0.0600000000000001,0.0600000000000001,0.0600000000000001,0.0600000000000001,0.0600000000000001,0.0600000000000001,0.0600000000000001,0.0600000000000001,0.0600000000000001,0.0600000000000001,0.0600000000000001,0.0600000000000001,0.0600000000000001,0.0600000000000001,0.0600000000000001,0.0600000000000001,0.0600000000000001,0.0600000000000001,0.0600000000000001,0.0600000000000001,0.0600000000000001,0.0600000000000001,0.0600000000000001,0.0600000000000001,0.0600000000000001,0.0600000000000001,0.0600000000000001,0.0600000000000001],\"fEXhigh\":[0.0599999999999999,0.0599999999999999,0.0599999999999999,0.0599999999999999,0.0599999999999999,0.0599999999999999,0.0599999999999999,0.0599999999999999,0.0599999999999999,0.0599999999999999,0.0599999999999999,0.0599999999999999,0.0599999999999999,0.0599999999999999,0.0599999999999999,0.0599999999999999,0.0599999999999999,0.0599999999999999,0.0599999999999999,0.0599999999999999,0.0599999999999999,0.0599999999999999,0.0599999999999999,0.0599999999999999,0.0599999999999999,0.0599999999999999,0.0599999999999999,0.0599999999999999],\"fEYlow\":[0,0,0,0,0.0129031980276816,0.0105802139512214,0.00876801942502092,0.00909975456904111,0.0092098303899385,0.00888428076420822,0.00905595699169603,0.00938701796484764,0.0132558214491628,0,0,0.0126316485154949,0.0094323051301094,0.00906685711312283,0.00878275841195686,0.00844894357696913,0.00908351131560148,0.0090377688094887,0.0100739273331611,0.0129274635171441,0,0,0,0],\"fEYhigh\":[0.00162502242828117,0.00160658722076375,0.00155239854458307,0.00154588090587456,0.0132941690939021,0.00998517381632491,0.00809972851301888,0.00843063099301866,0.00859469359482545,0.00820195711956129,0.00843587493716258,0.00879254682906105,0.0135763989055701,0.0409781316010068,0.0559082515517007,0.0129494878388886,0.00882112466772855,0.00843806890645105,0.0081200538043974,0.0077598595499907,0.00844541437665125,0.00835604007806201,0.00947181972247058,0.0133332209351957,0.00142502678595032,0.00153045963454496,0.00153556575799479,0.00156560009943323]},{\"_typename\":\"TGraphAsymmErrors\",\"fUniqueID\":0,\"fBits\":50332680,\"fName\":\"8e134a\",\"fTitle\":\"; #eta^{GEN};\",\"fLineColor\":628,\"fLineStyle\":1,\"fLineWidth\":1,\"fFillColor\":0,\"fFillStyle\":1001,\"fMarkerColor\":628,\"fMarkerStyle\":21,\"fMarkerSize\":0.5,\"fNpoints\":28,\"fX\":[-2.94,-2.82,-2.7,-2.58,-2.46,-2.34,-2.22,-2.1,-1.98,-1.86,-1.74,-1.62,-1.5,-1.38,1.38,1.5,1.62,1.74,1.86,1.98,2.1,2.22,2.34,2.46,2.58,2.7,2.82,2.94],\"fY\":[0,0,0,0,0.268852459016393,0.8552,0.909516380655226,0.902303415409055,0.889390519187359,0.901195219123506,0.890472618154539,0.870824053452116,0.298960831334932,0,0,0.289865871833085,0.873292867981791,0.8855193328279,0.900698215671063,0.911233307148468,0.896472392638037,0.902086677367576,0.864168618266979,0.262281432139883,0,0,0,0],\"fFunctions\":{\"_typename\":\"TList\",\"name\":\"TList\",\"arr\":[],\"opt\":[]},\"fHistogram\":{\"_typename\":\"TH1F\",\"fUniqueID\":0,\"fBits\":50332160,\"fName\":\"8e134a\",\"fTitle\":\"\",\"fLineColor\":602,\"fLineStyle\":1,\"fLineWidth\":1,\"fFillColor\":0,\"fFillStyle\":1001,\"fMarkerColor\":1,\"fMarkerStyle\":1,\"fMarkerSize\":1,\"fNcells\":102,\"fXaxis\":{\"_typename\":\"TAxis\",\"fUniqueID\":0,\"fBits\":50331656,\"fName\":\"xaxis\",\"fTitle\":\" #eta^{GEN}\",\"fNdivisions\":510,\"fAxisColor\":1,\"fLabelColor\":1,\"fLabelFont\":42,\"fLabelOffset\":0.005,\"fLabelSize\":0.035,\"fTickLength\":0.03,\"fTitleOffset\":1.4,\"fTitleSize\":0.035,\"fTitleColor\":1,\"fTitleFont\":42,\"fNbins\":100,\"fXmin\":-3.6,\"fXmax\":3.6,\"fXbins\":[],\"fFirst\":0,\"fLast\":0,\"fBits2\":0,\"fTimeDisplay\":false,\"fTimeFormat\":\"\",\"fLabels\":null,\"fModLabs\":null},\"fYaxis\":{\"_typename\":\"TAxis\",\"fUniqueID\":0,\"fBits\":50331656,\"fName\":\"yaxis\",\"fTitle\":\"\",\"fNdivisions\":510,\"fAxisColor\":1,\"fLabelColor\":1,\"fLabelFont\":42,\"fLabelOffset\":0.005,\"fLabelSize\":0.035,\"fTickLength\":0.03,\"fTitleOffset\":0,\"fTitleSize\":0.035,\"fTitleColor\":1,\"fTitleFont\":42,\"fNbins\":1,\"fXmin\":0,\"fXmax\":1.0111853422186,\"fXbins\":[],\"fFirst\":0,\"fLast\":0,\"fBits2\":0,\"fTimeDisplay\":false,\"fTimeFormat\":\"\",\"fLabels\":null,\"fModLabs\":null},\"fZaxis\":{\"_typename\":\"TAxis\",\"fUniqueID\":0,\"fBits\":50331648,\"fName\":\"zaxis\",\"fTitle\":\"\",\"fNdivisions\":510,\"fAxisColor\":1,\"fLabelColor\":1,\"fLabelFont\":42,\"fLabelOffset\":0.005,\"fLabelSize\":0.035,\"fTickLength\":0.03,\"fTitleOffset\":1,\"fTitleSize\":0.035,\"fTitleColor\":1,\"fTitleFont\":42,\"fNbins\":1,\"fXmin\":0,\"fXmax\":1,\"fXbins\":[],\"fFirst\":0,\"fLast\":0,\"fBits2\":0,\"fTimeDisplay\":false,\"fTimeFormat\":\"\",\"fLabels\":null,\"fModLabs\":null},\"fBarOffset\":0,\"fBarWidth\":1000,\"fEntries\":0,\"fTsumw\":0,\"fTsumw2\":0,\"fTsumwx\":0,\"fTsumwx2\":0,\"fMaximum\":1.1,\"fMinimum\":0.6,\"fNormFactor\":0,\"fContour\":[],\"fSumw2\":[],\"fOption\":\"\",\"fFunctions\":{\"_typename\":\"TList\",\"name\":\"TList\",\"arr\":[],\"opt\":[]},\"fBufferSize\":0,\"fBuffer\":[],\"fBinStatErrOpt\":0,\"fStatOverflows\":2,\"fArray\":[0,0,0,0,0,0,0,0,0,0,0,0,0,0,0,0,0,0,0,0,0,0,0,0,0,0,0,0,0,0,0,0,0,0,0,0,0,0,0,0,0,0,0,0,0,0,0,0,0,0,0,0,0,0,0,0,0,0,0,0,0,0,0,0,0,0,0,0,0,0,0,0,0,0,0,0,0,0,0,0,0,0,0,0,0,0,0,0,0,0,0,0,0,0,0,0,0,0,0,0,0,0]},\"fMinimum\":-1111,\"fMaximum\":-1111,\"fEXlow\":[0.0600000000000001,0.0600000000000001,0.0600000000000001,0.0600000000000001,0.0600000000000001,0.0600000000000001,0.0600000000000001,0.0600000000000001,0.0600000000000001,0.0600000000000001,0.0600000000000001,0.0600000000000001,0.0600000000000001,0.0600000000000001,0.0600000000000001,0.0600000000000001,0.0600000000000001,0.0600000000000001,0.0600000000000001,0.0600000000000001,0.0600000000000001,0.0600000000000001,0.0600000000000001,0.0600000000000001,0.0600000000000001,0.0600000000000001,0.0600000000000001,0.0600000000000001],\"fEXhigh\":[0.0599999999999999,0.0599999999999999,0.0599999999999999,0.0599999999999999,0.0599999999999999,0.0599999999999999,0.0599999999999999,0.0599999999999999,0.0599999999999999,0.0599999999999999,0.0599999999999999,0.0599999999999999,0.0599999999999999,0.0599999999999999,0.0599999999999999,0.0599999999999999,0.0599999999999999,0.0599999999999999,0.0599999999999999,0.0599999999999999,0.0599999999999999,0.0599999999999999,0.0599999999999999,0.0599999999999999,0.0599999999999999,0.0599999999999999,0.0599999999999999,0.0599999999999999],\"fEYlow\":[0,0,0,0,0.0129031980276816,0.0106470437355545,0.00873775197984605,0.00909975456904111,0.00928528791133487,0.00915659798158819,0.00923432869324892,0.00979508200491142,0.0131727016968649,0,0,0.0125920215213275,0.00983601666699596,0.00945032103243071,0.0090433480519384,0.00870372682252585,0.00913768135521109,0.0091591137528908,0.0102573115417461,0.0129001948161793,0,0,0,0],\"fEYhigh\":[0.00162502242828117,0.00160658722076375,0.00155239854458307,0.00154588090587456,0.0132941690939021,0.0100561569673431,0.00806806547748895,0.00843063099301866,0.00867392993711513,0.00848729624013578,0.00862303834300904,0.00922236676180099,0.0135038709667428,0.0409781316010068,0.0559082515517007,0.0129144624640643,0.00924636435925141,0.00884074087472198,0.00839295500872361,0.00802609486844352,0.0085022270884666,0.00848324761025898,0.00966582331203447,0.0133088411672891,0.00142502678595032,0.00153045963454496,0.00153556575799479,0.00156560009943323]},{\"_typename\":\"TLegend\",\"fUniqueID\":0,\"fBits\":50331656,\"fLineColor\":1,\"fLineStyle\":1,\"fLineWidth\":1,\"fFillColor\":0,\"fFillStyle\":0,\"fX1\":3.60000015058016,\"fY1\":0.976623378743946,\"fX2\":6.75789492704862,\"fY2\":1.06753246987295,\"fX1NDC\":0.7,\"fY1NDC\":0.71,\"fX2NDC\":0.95,\"fY2NDC\":0.85,\"fBorderSize\":0,\"fInit\":1,\"fShadowColor\":1,\"fCornerRadius\":0,\"fOption\":\"brNDC\",\"fName\":\"TPave\",\"fTextAngle\":0,\"fTextSize\":0.03,\"fTextAlign\":12,\"fTextColor\":1,\"fTextFont\":42,\"fPrimitives\":{\"_typename\":\"TList\",\"name\":\"TList\",\"arr\":[{\"_typename\":\"TLegendEntry\",\"fUniqueID\":0,\"fBits\":50331656,\"fTextAngle\":0,\"fTextSize\":0,\"fTextAlign\":0,\"fTextColor\":0,\"fTextFont\":42,\"fLineColor\":1,\"fLineStyle\":1,\"fLineWidth\":1,\"fFillColor\":0,\"fFillStyle\":0,\"fMarkerColor\":1,\"fMarkerStyle\":8,\"fMarkerSize\":0.5,\"fObject\":{\"$ref\":3},\"fLabel\":\"hwQual 5, p_{T}^{L1}>=25GeV\",\"fOption\":\"P\"},{\"_typename\":\"TLegendEntry\",\"fUniqueID\":0,\"fBits\":50331656,\"fTextAngle\":0,\"fTextSize\":0,\"fTextAlign\":0,\"fTextColor\":0,\"fTextFont\":42,\"fLineColor\":1,\"fLineStyle\":1,\"fLineWidth\":1,\"fFillColor\":0,\"fFillStyle\":0,\"fMarkerColor\":628,\"fMarkerStyle\":21,\"fMarkerSize\":0.5,\"fObject\":{\"$ref\":10},\"fLabel\":\"hwQual 4, p_{T}^{L1}>=25GeV\",\"fOption\":\"P\"}],\"opt\":[\"P\",\"P\"]},\"fEntrySeparation\":0.1,\"fMargin\":0.25,\"fNColumns\":1,\"fColumnSeparation\":0},{\"_typename\":\"TLatex\",\"fUniqueID\":0,\"fBits\":50348040,\"fName\":\"\",\"fTitle\":\"PU200, TkEle Ell. match, p_{T}^{GEN}>=30GeV\",\"fTextAngle\":0,\"fTextSize\":0.03,\"fTextAlign\":11,\"fTextColor\":1,\"fTextFont\":62,\"fX\":0.15,\"fY\":0.85,\"fLineColor\":1,\"fLineStyle\":1,\"fLineWidth\":2,\"fLimitFactorSize\":3,\"fOriginSize\":0.04},{\"_typename\":\"TLatex\",\"fUniqueID\":0,\"fBits\":50331656,\"fName\":\"\",\"fTitle\":\"\",\"fTextAngle\":0,\"fTextSize\":0.03,\"fTextAlign\":11,\"fTextColor\":1,\"fTextFont\":62,\"fX\":0,\"fY\":0,\"fLineColor\":1,\"fLineStyle\":1,\"fLineWidth\":2,\"fLimitFactorSize\":3,\"fOriginSize\":0.04},{\"_typename\":\"TLine\",\"fUniqueID\":0,\"fBits\":50331656,\"fLineColor\":1,\"fLineStyle\":2,\"fLineWidth\":1,\"fX1\":-2.8,\"fY1\":0.6,\"fX2\":-2.8,\"fY2\":1.1},{\"_typename\":\"TLine\",\"fUniqueID\":0,\"fBits\":50331656,\"fLineColor\":1,\"fLineStyle\":2,\"fLineWidth\":1,\"fX1\":-2.4,\"fY1\":0.6,\"fX2\":-2.4,\"fY2\":1.1},{\"_typename\":\"TLine\",\"fUniqueID\":0,\"fBits\":50331656,\"fLineColor\":1,\"fLineStyle\":2,\"fLineWidth\":1,\"fX1\":-1.7,\"fY1\":0.6,\"fX2\":-1.7,\"fY2\":1.1},{\"_typename\":\"TLine\",\"fUniqueID\":0,\"fBits\":50331656,\"fLineColor\":1,\"fLineStyle\":2,\"fLineWidth\":1,\"fX1\":-1.52,\"fY1\":0.6,\"fX2\":-1.52,\"fY2\":1.1},{\"_typename\":\"TLine\",\"fUniqueID\":0,\"fBits\":50331656,\"fLineColor\":1,\"fLineStyle\":2,\"fLineWidth\":1,\"fX1\":1.52,\"fY1\":0.6,\"fX2\":1.52,\"fY2\":1.1},{\"_typename\":\"TLine\",\"fUniqueID\":0,\"fBits\":50331656,\"fLineColor\":1,\"fLineStyle\":2,\"fLineWidth\":1,\"fX1\":1.7,\"fY1\":0.6,\"fX2\":1.7,\"fY2\":1.1},{\"_typename\":\"TLine\",\"fUniqueID\":0,\"fBits\":50331656,\"fLineColor\":1,\"fLineStyle\":2,\"fLineWidth\":1,\"fX1\":2.4,\"fY1\":0.6,\"fX2\":2.4,\"fY2\":1.1},{\"_typename\":\"TLine\",\"fUniqueID\":0,\"fBits\":50331656,\"fLineColor\":1,\"fLineStyle\":2,\"fLineWidth\":1,\"fX1\":2.8,\"fY1\":0.6,\"fX2\":2.8,\"fY2\":1.1}],\"opt\":[\"\",\"pa\",\",p\",\"same\",\"same\",\"same\",\"same\",\"same\",\"same\",\"same\",\"same\",\"same\",\"same\",\"same\"]},\"fExecs\":null,\"fName\":\"c_62b076\",\"fTitle\":\"c_62b076\",\"fNumPaletteColor\":0,\"fNextPaletteColor\":0,\"fDISPLAY\":\"$DISPLAY\",\"fDoubleBuffer\":0,\"fRetained\":true,\"fXsizeUser\":0,\"fYsizeUser\":0,\"fXsizeReal\":20,\"fYsizeReal\":15,\"fWindowTopX\":0,\"fWindowTopY\":0,\"fWindowWidth\":0,\"fWindowHeight\":0,\"fCw\":796,\"fCh\":572,\"fCatt\":{\"_typename\":\"TAttCanvas\",\"fXBetween\":2,\"fYBetween\":2,\"fTitleFromTop\":1.2,\"fXdate\":0.2,\"fYdate\":0.3,\"fAdate\":1},\"kMoveOpaque\":true,\"kResizeOpaque\":true,\"fHighLightColor\":2,\"fBatch\":true,\"kShowEventStatus\":false,\"kAutoExec\":true,\"kMenuBar\":true});\n",
       "       Core.draw(\"root_plot_10\", obj, \"\");\n",
       "     }\n",
       " );\n",
       "</script>\n"
      ],
      "text/plain": [
       "<IPython.core.display.HTML object>"
      ]
     },
     "metadata": {},
     "output_type": "display_data"
    }
   ],
   "source": [
    "hsets, labels, text = hplot.get_histo(histos.HistoSetEff, None, ['PU200'], ['TkEleEL'], ['EGq4Pt25', 'EGq4Iso0p2Pt25', 'EGq4Iso0p3Pt25', 'EGq5Pt25'], 'GENPt30', debug=False)\n",
    "draw([his.h_eff.h_eta.CreateGraph() for his in hsets], labels, text=text, min_y=0.6, max_y=1.1, v_lines=[-2.8, -2.4, -1.7, -1.52, 1.52, 1.7, 2.4, 2.8])\n"
   ]
  },
  {
   "cell_type": "code",
   "execution_count": 31,
   "metadata": {},
   "outputs": [
    {
     "data": {
      "text/plain": [
       "<drawingTools.DrawMachine at 0x11acc6b50>"
      ]
     },
     "execution_count": 31,
     "metadata": {},
     "output_type": "execute_result"
    },
    {
     "data": {
      "text/html": [
       "\n",
       "<div id=\"root_plot_11\"\n",
       "     style=\"width: 796px; height: 572px\">\n",
       "</div>\n",
       "\n",
       "<script>\n",
       " requirejs.config({\n",
       "     paths: {\n",
       "       'JSRootCore' : 'https://root.cern.ch/js/notebook//scripts/JSRootCore',\n",
       "     }\n",
       "   });\n",
       " require(['JSRootCore'],\n",
       "     function(Core) {\n",
       "       var obj = Core.JSONR_unref({\"_typename\":\"TCanvas\",\"fUniqueID\":0,\"fBits\":53673992,\"fLineColor\":1,\"fLineStyle\":1,\"fLineWidth\":1,\"fFillColor\":0,\"fFillStyle\":1001,\"fLeftMargin\":0.13,\"fRightMargin\":0.3,\"fBottomMargin\":0.13,\"fTopMargin\":0.1,\"fXfile\":2,\"fYfile\":2,\"fAfile\":1,\"fXstat\":0.99,\"fYstat\":0.99,\"fAstat\":2,\"fFrameFillColor\":0,\"fFrameLineColor\":1,\"fFrameFillStyle\":1001,\"fFrameLineStyle\":1,\"fFrameLineWidth\":1,\"fFrameBorderSize\":1,\"fFrameBorderMode\":0,\"fX1\":-5.24210522353154,\"fY1\":0.515584416589722,\"fX2\":7.38947388234231,\"fY2\":1.16493506751116,\"fXtoAbsPixelk\":330.340043357658,\"fXtoPixelk\":330.340043357658,\"fXtoPixel\":63.0166658759117,\"fYtoAbsPixelk\":1026.16804978691,\"fYtoPixelk\":1026.16804978691,\"fYtoPixel\":-880.879997869134,\"fUtoAbsPixelk\":5e-5,\"fUtoPixelk\":5e-5,\"fUtoPixel\":796,\"fVtoAbsPixelk\":572.00005,\"fVtoPixelk\":572,\"fVtoPixel\":-572,\"fAbsPixeltoXk\":-5.24210522353154,\"fPixeltoXk\":-5.24210522353154,\"fPixeltoX\":0.0158688179722033,\"fAbsPixeltoYk\":1.16493506751116,\"fPixeltoYk\":0.515584416589722,\"fPixeltoY\":-0.00113522841070182,\"fXlowNDC\":0,\"fYlowNDC\":0,\"fXUpNDC\":0,\"fYUpNDC\":0,\"fWNDC\":1,\"fHNDC\":1,\"fAbsXlowNDC\":0,\"fAbsYlowNDC\":0,\"fAbsWNDC\":1,\"fAbsHNDC\":1,\"fUxmin\":-3.6,\"fUymin\":0.6,\"fUxmax\":3.6,\"fUymax\":1.1,\"fTheta\":30,\"fPhi\":30,\"fAspectRatio\":0,\"fNumber\":0,\"fTickx\":0,\"fTicky\":0,\"fLogx\":0,\"fLogy\":0,\"fLogz\":0,\"fPadPaint\":0,\"fCrosshair\":0,\"fCrosshairPos\":0,\"fBorderSize\":2,\"fBorderMode\":0,\"fModified\":false,\"fGridx\":false,\"fGridy\":false,\"fAbsCoord\":false,\"fEditable\":true,\"fFixedAspectRatio\":false,\"fPrimitives\":{\"_typename\":\"TList\",\"name\":\"TList\",\"arr\":[{\"_typename\":\"TFrame\",\"fUniqueID\":0,\"fBits\":50331656,\"fLineColor\":1,\"fLineStyle\":1,\"fLineWidth\":1,\"fFillColor\":0,\"fFillStyle\":1001,\"fX1\":-3.6,\"fY1\":0.6,\"fX2\":3.6,\"fY2\":1.1,\"fBorderSize\":1,\"fBorderMode\":0},{\"_typename\":\"TGraphAsymmErrors\",\"fUniqueID\":0,\"fBits\":50332680,\"fName\":\"511781\",\"fTitle\":\"; #eta^{GEN};\",\"fLineColor\":1,\"fLineStyle\":1,\"fLineWidth\":1,\"fFillColor\":0,\"fFillStyle\":1001,\"fMarkerColor\":1,\"fMarkerStyle\":8,\"fMarkerSize\":0.5,\"fNpoints\":50,\"fX\":[-2.94,-2.82,-2.7,-2.58,-2.46,-2.34,-2.22,-2.1,-1.98,-1.86,-1.74,-1.62,-1.5,-1.38,-1.26,-1.14,-1.02,-0.9,-0.78,-0.66,-0.54,-0.42,-0.3,-0.18,-0.0600000000000001,0.06,0.18,0.3,0.42,0.54,0.66,0.78,0.9,1.02,1.14,1.26,1.38,1.5,1.62,1.74,1.86,1.98,2.1,2.22,2.34,2.46,2.58,2.7,2.82,2.94],\"fY\":[0,0,0,0,0,0,0,0,0,0,0,0,0.345959595959596,0.896666666666667,0.907325684024713,0.912151067323481,0.9275,0.909849749582638,0.93452380952381,0.922204213938412,0.918544194107452,0.919410745233969,0.942206654991243,0.936536718041704,0.822970639032815,0.89051724137931,0.929734361610968,0.927272727272727,0.91921768707483,0.92,0.932536293766012,0.922553191489362,0.903307888040712,0.914821124361158,0.896356275303644,0.90990990990991,0.909623430962343,0.317896389324961,0,0,0,0,0,0,0,0,0,0,0,0],\"fFunctions\":{\"_typename\":\"TList\",\"name\":\"TList\",\"arr\":[],\"opt\":[]},\"fHistogram\":{\"_typename\":\"TH1F\",\"fUniqueID\":0,\"fBits\":50332160,\"fName\":\"511781\",\"fTitle\":\"\",\"fLineColor\":602,\"fLineStyle\":1,\"fLineWidth\":1,\"fFillColor\":0,\"fFillStyle\":1001,\"fMarkerColor\":1,\"fMarkerStyle\":1,\"fMarkerSize\":1,\"fNcells\":102,\"fXaxis\":{\"_typename\":\"TAxis\",\"fUniqueID\":0,\"fBits\":50331656,\"fName\":\"xaxis\",\"fTitle\":\" #eta^{GEN}\",\"fNdivisions\":510,\"fAxisColor\":1,\"fLabelColor\":1,\"fLabelFont\":42,\"fLabelOffset\":0.005,\"fLabelSize\":0.035,\"fTickLength\":0.03,\"fTitleOffset\":1.4,\"fTitleSize\":0.035,\"fTitleColor\":1,\"fTitleFont\":42,\"fNbins\":100,\"fXmin\":-3.6,\"fXmax\":3.6,\"fXbins\":[],\"fFirst\":0,\"fLast\":0,\"fBits2\":0,\"fTimeDisplay\":false,\"fTimeFormat\":\"\",\"fLabels\":null,\"fModLabs\":null},\"fYaxis\":{\"_typename\":\"TAxis\",\"fUniqueID\":0,\"fBits\":50331656,\"fName\":\"yaxis\",\"fTitle\":\"\",\"fNdivisions\":510,\"fAxisColor\":1,\"fLabelColor\":1,\"fLabelFont\":42,\"fLabelOffset\":0.005,\"fLabelSize\":0.035,\"fTickLength\":0.03,\"fTitleOffset\":0,\"fTitleSize\":0.035,\"fTitleColor\":1,\"fTitleFont\":42,\"fNbins\":1,\"fXmin\":0,\"fXmax\":1.04405610769438,\"fXbins\":[],\"fFirst\":0,\"fLast\":0,\"fBits2\":0,\"fTimeDisplay\":false,\"fTimeFormat\":\"\",\"fLabels\":null,\"fModLabs\":null},\"fZaxis\":{\"_typename\":\"TAxis\",\"fUniqueID\":0,\"fBits\":50331648,\"fName\":\"zaxis\",\"fTitle\":\"\",\"fNdivisions\":510,\"fAxisColor\":1,\"fLabelColor\":1,\"fLabelFont\":42,\"fLabelOffset\":0.005,\"fLabelSize\":0.035,\"fTickLength\":0.03,\"fTitleOffset\":1,\"fTitleSize\":0.035,\"fTitleColor\":1,\"fTitleFont\":42,\"fNbins\":1,\"fXmin\":0,\"fXmax\":1,\"fXbins\":[],\"fFirst\":0,\"fLast\":0,\"fBits2\":0,\"fTimeDisplay\":false,\"fTimeFormat\":\"\",\"fLabels\":null,\"fModLabs\":null},\"fBarOffset\":0,\"fBarWidth\":1000,\"fEntries\":0,\"fTsumw\":0,\"fTsumw2\":0,\"fTsumwx\":0,\"fTsumwx2\":0,\"fMaximum\":1.1,\"fMinimum\":0.6,\"fNormFactor\":0,\"fContour\":[],\"fSumw2\":[],\"fOption\":\"\",\"fFunctions\":{\"_typename\":\"TList\",\"name\":\"TList\",\"arr\":[],\"opt\":[]},\"fBufferSize\":0,\"fBuffer\":[],\"fBinStatErrOpt\":0,\"fStatOverflows\":2,\"fArray\":[0,0,0,0,0,0,0,0,0,0,0,0,0,0,0,0,0,0,0,0,0,0,0,0,0,0,0,0,0,0,0,0,0,0,0,0,0,0,0,0,0,0,0,0,0,0,0,0,0,0,0,0,0,0,0,0,0,0,0,0,0,0,0,0,0,0,0,0,0,0,0,0,0,0,0,0,0,0,0,0,0,0,0,0,0,0,0,0,0,0,0,0,0,0,0,0,0,0,0,0,0,0]},\"fMinimum\":-1111,\"fMaximum\":-1111,\"fEXlow\":[0.0600000000000001,0.0600000000000001,0.0600000000000001,0.0600000000000001,0.0600000000000001,0.0600000000000001,0.0600000000000001,0.0600000000000001,0.0600000000000001,0.0600000000000001,0.0600000000000001,0.0600000000000001,0.0600000000000001,0.0600000000000001,0.0600000000000001,0.0600000000000001,0.0600000000000001,0.0600000000000001,0.0600000000000001,0.0600000000000001,0.0600000000000001,0.06,0.06,0.06,0.06,0.06,0.06,0.06,0.06,0.0600000000000001,0.0600000000000001,0.0600000000000001,0.0600000000000001,0.0600000000000001,0.0600000000000001,0.0600000000000001,0.0600000000000001,0.0600000000000001,0.0600000000000001,0.0600000000000001,0.0600000000000001,0.0600000000000001,0.0600000000000001,0.0600000000000001,0.0600000000000001,0.0600000000000001,0.0600000000000001,0.0600000000000001,0.0600000000000001,0.0600000000000001],\"fEXhigh\":[0.0599999999999999,0.0599999999999999,0.0599999999999999,0.0599999999999999,0.0599999999999999,0.0599999999999999,0.0599999999999999,0.0599999999999999,0.0599999999999999,0.0599999999999999,0.0599999999999999,0.0599999999999999,0.0599999999999999,0.0599999999999999,0.0599999999999999,0.0599999999999999,0.0599999999999999,0.0599999999999999,0.0599999999999999,0.0599999999999999,0.0599999999999999,0.06,0.06,0.06,0.06,0.06,0.06,0.06,0.06,0.0599999999999999,0.0599999999999999,0.0599999999999999,0.0599999999999999,0.0599999999999999,0.0599999999999999,0.0599999999999999,0.0599999999999999,0.0599999999999999,0.0599999999999999,0.0599999999999999,0.0599999999999999,0.0599999999999999,0.0599999999999999,0.0599999999999999,0.0599999999999999,0.0599999999999999,0.0599999999999999,0.0599999999999999,0.0599999999999999,0.0599999999999999],\"fEYlow\":[0,0,0,0,0,0,0,0,0,0,0,0,0.0140824455547838,0.00954994311038859,0.00943465558334045,0.00887794165206002,0.00828048381005897,0.0090519195968144,0.00803239808862533,0.00839192481538786,0.00886893506123676,0.00883071994610507,0.00775844232544498,0.00821732355645688,0.0119349391931628,0.00995092021525557,0.00830199349830552,0.00825334751008433,0.00874838711731984,0.00892822453820108,0.00815013062493397,0.00860433607248179,0.0093904436807607,0.00894582471031447,0.00941390519911789,0.00895640559021782,0.00907340135266077,0.013286563841702,0,0,0,0,0,0,0,0,0,0,0,0],\"fEYhigh\":[0.00160939613364288,0.0016178821153095,0.0015445839399481,0.00160378809570988,0.001599607648681,0.00161646157595358,0.0015445839399481,0.00160239218764497,0.00152412453622262,0.00163803508815592,0.00153428603559457,0.00155109062386966,0.0143495437627882,0.00885780393712532,0.00867916732236507,0.00816723936824892,0.00752865463369035,0.00833351110164904,0.00725019819204531,0.00767158649603683,0.00810487922796788,0.00806489051001924,0.00693526109455689,0.00737729284354249,0.0113559535310656,0.00924629906418539,0.00752369222910443,0.00750834456735816,0.00799762726581033,0.00814090576149729,0.00736869614484703,0.00784619150134391,0.00867291711069151,0.00820254495569916,0.00874237238459497,0.0082517301479933,0.00835358371573891,0.0135808999449432,0.0015445839399481,0.00157767495366163,0.00158446403380913,0.00158856560079081,0.00150666207840593,0.00155897137443245,0.00153813161786322,0.0015858288674509,0.00150174606142913,0.00152034858907996,0.00156161611718799,0.00154328914845575]},{\"_typename\":\"TLatex\",\"fUniqueID\":0,\"fBits\":50348040,\"fName\":\"\",\"fTitle\":\"PU200, TkEle Ell. match barrel, p_{T}^{GEN}>=30GeV, p_{T}^{GEN}>=40GeV\",\"fTextAngle\":0,\"fTextSize\":0.03,\"fTextAlign\":11,\"fTextColor\":1,\"fTextFont\":62,\"fX\":0.15,\"fY\":0.85,\"fLineColor\":1,\"fLineStyle\":1,\"fLineWidth\":2,\"fLimitFactorSize\":3,\"fOriginSize\":0.04},{\"_typename\":\"TLatex\",\"fUniqueID\":0,\"fBits\":50331656,\"fName\":\"\",\"fTitle\":\"\",\"fTextAngle\":0,\"fTextSize\":0.03,\"fTextAlign\":11,\"fTextColor\":1,\"fTextFont\":62,\"fX\":0,\"fY\":0,\"fLineColor\":1,\"fLineStyle\":1,\"fLineWidth\":2,\"fLimitFactorSize\":3,\"fOriginSize\":0.04},{\"_typename\":\"TLine\",\"fUniqueID\":0,\"fBits\":50331656,\"fLineColor\":1,\"fLineStyle\":2,\"fLineWidth\":1,\"fX1\":-2.8,\"fY1\":0.6,\"fX2\":-2.8,\"fY2\":1.1},{\"_typename\":\"TLine\",\"fUniqueID\":0,\"fBits\":50331656,\"fLineColor\":1,\"fLineStyle\":2,\"fLineWidth\":1,\"fX1\":-2.4,\"fY1\":0.6,\"fX2\":-2.4,\"fY2\":1.1},{\"_typename\":\"TLine\",\"fUniqueID\":0,\"fBits\":50331656,\"fLineColor\":1,\"fLineStyle\":2,\"fLineWidth\":1,\"fX1\":-1.7,\"fY1\":0.6,\"fX2\":-1.7,\"fY2\":1.1},{\"_typename\":\"TLine\",\"fUniqueID\":0,\"fBits\":50331656,\"fLineColor\":1,\"fLineStyle\":2,\"fLineWidth\":1,\"fX1\":-1.52,\"fY1\":0.6,\"fX2\":-1.52,\"fY2\":1.1},{\"_typename\":\"TLine\",\"fUniqueID\":0,\"fBits\":50331656,\"fLineColor\":1,\"fLineStyle\":2,\"fLineWidth\":1,\"fX1\":1.52,\"fY1\":0.6,\"fX2\":1.52,\"fY2\":1.1},{\"_typename\":\"TLine\",\"fUniqueID\":0,\"fBits\":50331656,\"fLineColor\":1,\"fLineStyle\":2,\"fLineWidth\":1,\"fX1\":1.7,\"fY1\":0.6,\"fX2\":1.7,\"fY2\":1.1},{\"_typename\":\"TLine\",\"fUniqueID\":0,\"fBits\":50331656,\"fLineColor\":1,\"fLineStyle\":2,\"fLineWidth\":1,\"fX1\":2.4,\"fY1\":0.6,\"fX2\":2.4,\"fY2\":1.1},{\"_typename\":\"TLine\",\"fUniqueID\":0,\"fBits\":50331656,\"fLineColor\":1,\"fLineStyle\":2,\"fLineWidth\":1,\"fX1\":2.8,\"fY1\":0.6,\"fX2\":2.8,\"fY2\":1.1}],\"opt\":[\"\",\"pa\",\"same\",\"same\",\"same\",\"same\",\"same\",\"same\",\"same\",\"same\",\"same\",\"same\"]},\"fExecs\":null,\"fName\":\"c_4eacf9\",\"fTitle\":\"c_4eacf9\",\"fNumPaletteColor\":0,\"fNextPaletteColor\":0,\"fDISPLAY\":\"$DISPLAY\",\"fDoubleBuffer\":0,\"fRetained\":true,\"fXsizeUser\":0,\"fYsizeUser\":0,\"fXsizeReal\":20,\"fYsizeReal\":15,\"fWindowTopX\":0,\"fWindowTopY\":0,\"fWindowWidth\":0,\"fWindowHeight\":0,\"fCw\":796,\"fCh\":572,\"fCatt\":{\"_typename\":\"TAttCanvas\",\"fXBetween\":2,\"fYBetween\":2,\"fTitleFromTop\":1.2,\"fXdate\":0.2,\"fYdate\":0.3,\"fAdate\":1},\"kMoveOpaque\":true,\"kResizeOpaque\":true,\"fHighLightColor\":2,\"fBatch\":true,\"kShowEventStatus\":false,\"kAutoExec\":true,\"kMenuBar\":true});\n",
       "       Core.draw(\"root_plot_11\", obj, \"\");\n",
       "     }\n",
       " );\n",
       "</script>\n"
      ],
      "text/plain": [
       "<IPython.core.display.HTML object>"
      ]
     },
     "metadata": {},
     "output_type": "display_data"
    }
   ],
   "source": [
    "hsets, labels, text = hplot.get_histo(histos.HistoSetEff, sample, ['PU200'], ['TkEleBRL', 'TkEleELBRL'], ['Pt30'], ['GENPt40'], debug=False)\n",
    "draw([his.h_eff.h_eta.CreateGraph() for his in hsets], labels, text=text, min_y=0.6, max_y=1.1, v_lines=[-2.8, -2.4, -1.7, -1.52, 1.52, 1.7, 2.4, 2.8],\n",
    "     do_write=False, write_name='egammaEndcap_TkEle_EGq4Pt30_GENPt40_hEffVEta')\n",
    "\n"
   ]
  },
  {
   "cell_type": "code",
   "execution_count": 32,
   "metadata": {},
   "outputs": [
    {
     "data": {
      "text/plain": [
       "<drawingTools.DrawMachine at 0x119f83f90>"
      ]
     },
     "execution_count": 32,
     "metadata": {},
     "output_type": "execute_result"
    },
    {
     "name": "stderr",
     "output_type": "stream",
     "text": [
      "Info in <TCanvas::Print>: pdf file egammaEndcap_TkEle_EGq4Pt30_GENPt40_hEffVEta.pdf has been created\n"
     ]
    },
    {
     "data": {
      "text/html": [
       "\n",
       "<div id=\"root_plot_12\"\n",
       "     style=\"width: 596px; height: 572px\">\n",
       "</div>\n",
       "\n",
       "<script>\n",
       " requirejs.config({\n",
       "     paths: {\n",
       "       'JSRootCore' : 'https://root.cern.ch/js/notebook//scripts/JSRootCore',\n",
       "     }\n",
       "   });\n",
       " require(['JSRootCore'],\n",
       "     function(Core) {\n",
       "       var obj = Core.JSONR_unref({\"_typename\":\"TCanvas\",\"fUniqueID\":0,\"fBits\":53673992,\"fLineColor\":1,\"fLineStyle\":1,\"fLineWidth\":1,\"fFillColor\":0,\"fFillStyle\":1001,\"fLeftMargin\":0.13,\"fRightMargin\":0.13,\"fBottomMargin\":0.13,\"fTopMargin\":0.1,\"fXfile\":2,\"fYfile\":2,\"fAfile\":1,\"fXstat\":0.99,\"fYstat\":0.99,\"fAstat\":2,\"fFrameFillColor\":0,\"fFrameLineColor\":1,\"fFrameFillStyle\":1001,\"fFrameLineStyle\":1,\"fFrameLineWidth\":1,\"fFrameBorderSize\":1,\"fFrameBorderMode\":0,\"fX1\":-4.86486480216896,\"fY1\":0.515584416589722,\"fX2\":4.86486480216897,\"fY2\":1.16493506751116,\"fXtoAbsPixelk\":298.00005,\"fXtoPixelk\":298.00005,\"fXtoPixel\":61.255556344986,\"fYtoAbsPixelk\":1026.16804978691,\"fYtoPixelk\":1026.16804978691,\"fYtoPixel\":-880.879997869134,\"fUtoAbsPixelk\":5e-5,\"fUtoPixelk\":5e-5,\"fUtoPixel\":596,\"fVtoAbsPixelk\":572.00005,\"fVtoPixelk\":572,\"fVtoPixel\":-572,\"fAbsPixeltoXk\":-4.86486480216896,\"fPixeltoXk\":-4.86486480216896,\"fPixeltoX\":0.0163250496717079,\"fAbsPixeltoYk\":1.16493506751116,\"fPixeltoYk\":0.515584416589722,\"fPixeltoY\":-0.00113522841070182,\"fXlowNDC\":0,\"fYlowNDC\":0,\"fXUpNDC\":0,\"fYUpNDC\":0,\"fWNDC\":1,\"fHNDC\":1,\"fAbsXlowNDC\":0,\"fAbsYlowNDC\":0,\"fAbsWNDC\":1,\"fAbsHNDC\":1,\"fUxmin\":-3.6,\"fUymin\":0.6,\"fUxmax\":3.6,\"fUymax\":1.1,\"fTheta\":30,\"fPhi\":30,\"fAspectRatio\":0,\"fNumber\":0,\"fTickx\":0,\"fTicky\":0,\"fLogx\":0,\"fLogy\":0,\"fLogz\":0,\"fPadPaint\":0,\"fCrosshair\":0,\"fCrosshairPos\":0,\"fBorderSize\":2,\"fBorderMode\":0,\"fModified\":false,\"fGridx\":false,\"fGridy\":false,\"fAbsCoord\":false,\"fEditable\":true,\"fFixedAspectRatio\":false,\"fPrimitives\":{\"_typename\":\"TList\",\"name\":\"TList\",\"arr\":[{\"_typename\":\"TFrame\",\"fUniqueID\":0,\"fBits\":50331656,\"fLineColor\":1,\"fLineStyle\":1,\"fLineWidth\":1,\"fFillColor\":0,\"fFillStyle\":1001,\"fX1\":-3.6,\"fY1\":0.6,\"fX2\":3.6,\"fY2\":1.1,\"fBorderSize\":1,\"fBorderMode\":0},{\"_typename\":\"TGraphAsymmErrors\",\"fUniqueID\":0,\"fBits\":50332680,\"fName\":\"c0e497\",\"fTitle\":\"; #eta^{GEN};\",\"fLineColor\":1,\"fLineStyle\":1,\"fLineWidth\":1,\"fFillColor\":0,\"fFillStyle\":1001,\"fMarkerColor\":1,\"fMarkerStyle\":8,\"fMarkerSize\":0.5,\"fNpoints\":50,\"fX\":[-2.94,-2.82,-2.7,-2.58,-2.46,-2.34,-2.22,-2.1,-1.98,-1.86,-1.74,-1.62,-1.5,-1.38,-1.26,-1.14,-1.02,-0.9,-0.78,-0.66,-0.54,-0.42,-0.3,-0.18,-0.0600000000000001,0.06,0.18,0.3,0.42,0.54,0.66,0.78,0.9,1.02,1.14,1.26,1.38,1.5,1.62,1.74,1.86,1.98,2.1,2.22,2.34,2.46,2.58,2.7,2.82,2.94],\"fY\":[0,0,0,0,0,0,0,0,0,0,0,0,0.343795620437956,0.891506067094932,0.903080390683696,0.906316536550745,0.916184971098266,0.903640256959315,0.925680647534952,0.915671117357695,0.913907284768212,0.915115413253909,0.931189229618549,0.932818532818533,0.818448023426061,0.880563798219585,0.927219796215429,0.915492957746479,0.912824207492795,0.911026615969582,0.931386861313869,0.920588235294118,0.902757619738752,0.907971014492754,0.894553072625698,0.903631284916201,0.8921639108555,0.321428571428571,0,0,0,0,0,0,0,0,0,0,0,0],\"fFunctions\":{\"_typename\":\"TList\",\"name\":\"TList\",\"arr\":[],\"opt\":[]},\"fHistogram\":{\"_typename\":\"TH1F\",\"fUniqueID\":0,\"fBits\":50332160,\"fName\":\"c0e497\",\"fTitle\":\"\",\"fLineColor\":602,\"fLineStyle\":1,\"fLineWidth\":1,\"fFillColor\":0,\"fFillStyle\":1001,\"fMarkerColor\":1,\"fMarkerStyle\":1,\"fMarkerSize\":1,\"fNcells\":102,\"fXaxis\":{\"_typename\":\"TAxis\",\"fUniqueID\":0,\"fBits\":50331656,\"fName\":\"xaxis\",\"fTitle\":\" #eta^{GEN}\",\"fNdivisions\":510,\"fAxisColor\":1,\"fLabelColor\":1,\"fLabelFont\":42,\"fLabelOffset\":0.005,\"fLabelSize\":0.035,\"fTickLength\":0.03,\"fTitleOffset\":1.4,\"fTitleSize\":0.035,\"fTitleColor\":1,\"fTitleFont\":42,\"fNbins\":100,\"fXmin\":-3.6,\"fXmax\":3.6,\"fXbins\":[],\"fFirst\":0,\"fLast\":0,\"fBits2\":0,\"fTimeDisplay\":false,\"fTimeFormat\":\"\",\"fLabels\":null,\"fModLabs\":null},\"fYaxis\":{\"_typename\":\"TAxis\",\"fUniqueID\":0,\"fBits\":50331656,\"fName\":\"yaxis\",\"fTitle\":\"\",\"fNdivisions\":510,\"fAxisColor\":1,\"fLabelColor\":1,\"fLabelFont\":42,\"fLabelOffset\":0.005,\"fLabelSize\":0.035,\"fTickLength\":0.03,\"fTitleOffset\":0,\"fTitleSize\":0.035,\"fTitleColor\":1,\"fTitleFont\":42,\"fNbins\":1,\"fXmin\":0,\"fXmax\":1.03379188144119,\"fXbins\":[],\"fFirst\":0,\"fLast\":0,\"fBits2\":0,\"fTimeDisplay\":false,\"fTimeFormat\":\"\",\"fLabels\":null,\"fModLabs\":null},\"fZaxis\":{\"_typename\":\"TAxis\",\"fUniqueID\":0,\"fBits\":50331648,\"fName\":\"zaxis\",\"fTitle\":\"\",\"fNdivisions\":510,\"fAxisColor\":1,\"fLabelColor\":1,\"fLabelFont\":42,\"fLabelOffset\":0.005,\"fLabelSize\":0.035,\"fTickLength\":0.03,\"fTitleOffset\":1,\"fTitleSize\":0.035,\"fTitleColor\":1,\"fTitleFont\":42,\"fNbins\":1,\"fXmin\":0,\"fXmax\":1,\"fXbins\":[],\"fFirst\":0,\"fLast\":0,\"fBits2\":0,\"fTimeDisplay\":false,\"fTimeFormat\":\"\",\"fLabels\":null,\"fModLabs\":null},\"fBarOffset\":0,\"fBarWidth\":1000,\"fEntries\":0,\"fTsumw\":0,\"fTsumw2\":0,\"fTsumwx\":0,\"fTsumwx2\":0,\"fMaximum\":1.1,\"fMinimum\":0.6,\"fNormFactor\":0,\"fContour\":[],\"fSumw2\":[],\"fOption\":\"\",\"fFunctions\":{\"_typename\":\"TList\",\"name\":\"TList\",\"arr\":[],\"opt\":[]},\"fBufferSize\":0,\"fBuffer\":[],\"fBinStatErrOpt\":0,\"fStatOverflows\":2,\"fArray\":[0,0,0,0,0,0,0,0,0,0,0,0,0,0,0,0,0,0,0,0,0,0,0,0,0,0,0,0,0,0,0,0,0,0,0,0,0,0,0,0,0,0,0,0,0,0,0,0,0,0,0,0,0,0,0,0,0,0,0,0,0,0,0,0,0,0,0,0,0,0,0,0,0,0,0,0,0,0,0,0,0,0,0,0,0,0,0,0,0,0,0,0,0,0,0,0,0,0,0,0,0,0]},\"fMinimum\":-1111,\"fMaximum\":-1111,\"fEXlow\":[0.0600000000000001,0.0600000000000001,0.0600000000000001,0.0600000000000001,0.0600000000000001,0.0600000000000001,0.0600000000000001,0.0600000000000001,0.0600000000000001,0.0600000000000001,0.0600000000000001,0.0600000000000001,0.0600000000000001,0.0600000000000001,0.0600000000000001,0.0600000000000001,0.0600000000000001,0.0600000000000001,0.0600000000000001,0.0600000000000001,0.0600000000000001,0.06,0.06,0.06,0.06,0.06,0.06,0.06,0.06,0.0600000000000001,0.0600000000000001,0.0600000000000001,0.0600000000000001,0.0600000000000001,0.0600000000000001,0.0600000000000001,0.0600000000000001,0.0600000000000001,0.0600000000000001,0.0600000000000001,0.0600000000000001,0.0600000000000001,0.0600000000000001,0.0600000000000001,0.0600000000000001,0.0600000000000001,0.0600000000000001,0.0600000000000001,0.0600000000000001,0.0600000000000001],\"fEXhigh\":[0.0599999999999999,0.0599999999999999,0.0599999999999999,0.0599999999999999,0.0599999999999999,0.0599999999999999,0.0599999999999999,0.0599999999999999,0.0599999999999999,0.0599999999999999,0.0599999999999999,0.0599999999999999,0.0599999999999999,0.0599999999999999,0.0599999999999999,0.0599999999999999,0.0599999999999999,0.0599999999999999,0.0599999999999999,0.0599999999999999,0.0599999999999999,0.06,0.06,0.06,0.06,0.06,0.06,0.06,0.06,0.0599999999999999,0.0599999999999999,0.0599999999999999,0.0599999999999999,0.0599999999999999,0.0599999999999999,0.0599999999999999,0.0599999999999999,0.0599999999999999,0.0599999999999999,0.0599999999999999,0.0599999999999999,0.0599999999999999,0.0599999999999999,0.0599999999999999,0.0599999999999999,0.0599999999999999,0.0599999999999999,0.0599999999999999,0.0599999999999999,0.0599999999999999],\"fEYlow\":[0,0,0,0,0,0,0,0,0,0,0,0,0.0130755867540792,0.00895706630100634,0.00880205770677334,0.0084196046215933,0.00812629083500027,0.00854198345701085,0.0078138532526606,0.00802470939153654,0.00829700697804248,0.00830272190063697,0.00763867482944636,0.00769753383290561,0.011034552127418,0.00949731653029373,0.00770078342257574,0.00804080578699096,0.00824433242014777,0.00855979226261561,0.00752840736554727,0.00802536215136518,0.00865025797655306,0.00845365719295743,0.00875257880500557,0.00844211105728043,0.00896988045841318,0.0124527189804768,0,0,0,0,0,0,0,0,0,0,0,0],\"fEYhigh\":[0.00137500422158772,0.00136582338782904,0.00131791420062627,0.00138119365497363,0.00136379982725082,0.00135476751478286,0.00131603001377073,0.00135277655779423,0.00130947757543399,0.00139058299428434,0.00132550521137524,0.0013122777566049,0.0133100033541239,0.00837439633848835,0.00816858000788157,0.00781672766334718,0.0074959411817791,0.00793991567963492,0.00715525065318623,0.00741285425201255,0.00765867051211888,0.00765452714498782,0.00695908355126162,0.00699226849163903,0.0105521477482597,0.00890921692689139,0.00704687803863269,0.00742791867894876,0.00762142591914383,0.00790465116879313,0.0068652423065505,0.00737608778892684,0.00803937269756849,0.00783510762507,0.00817804210332496,0.00785336343523113,0.00838188522167005,0.0127047862952404,0.00133900204067411,0.00133221944252432,0.00133705711846472,0.00136077570411657,0.00130576253705623,0.00133705711846472,0.00131791420062627,0.00137706119322728,0.00124316017929952,0.001321698806589,0.001321698806589,0.00129931169164107]},{\"_typename\":\"TGraphAsymmErrors\",\"fUniqueID\":0,\"fBits\":50332680,\"fName\":\"d33696\",\"fTitle\":\"; #eta^{GEN};\",\"fLineColor\":628,\"fLineStyle\":1,\"fLineWidth\":1,\"fFillColor\":0,\"fFillStyle\":1001,\"fMarkerColor\":628,\"fMarkerStyle\":21,\"fMarkerSize\":0.5,\"fNpoints\":28,\"fX\":[-2.94,-2.82,-2.7,-2.58,-2.46,-2.34,-2.22,-2.1,-1.98,-1.86,-1.74,-1.62,-1.5,-1.38,1.38,1.5,1.62,1.74,1.86,1.98,2.1,2.22,2.34,2.46,2.58,2.7,2.82,2.94],\"fY\":[0,0,0,0,0.269672131147541,0.8576,0.908736349453978,0.903891977760127,0.894657637321294,0.912350597609562,0.901725431357839,0.893095768374165,0.310151878497202,0,0,0.304023845007452,0.891502276176024,0.90371493555724,0.908456167571761,0.919088766692852,0.899539877300613,0.905296950240771,0.871194379391101,0.264779350541216,0,0,0,0],\"fFunctions\":{\"_typename\":\"TList\",\"name\":\"TList\",\"arr\":[],\"opt\":[]},\"fHistogram\":{\"_typename\":\"TH1F\",\"fUniqueID\":0,\"fBits\":50332160,\"fName\":\"d33696\",\"fTitle\":\"\",\"fLineColor\":602,\"fLineStyle\":1,\"fLineWidth\":1,\"fFillColor\":0,\"fFillStyle\":1001,\"fMarkerColor\":1,\"fMarkerStyle\":1,\"fMarkerSize\":1,\"fNcells\":102,\"fXaxis\":{\"_typename\":\"TAxis\",\"fUniqueID\":0,\"fBits\":50331656,\"fName\":\"xaxis\",\"fTitle\":\" #eta^{GEN}\",\"fNdivisions\":510,\"fAxisColor\":1,\"fLabelColor\":1,\"fLabelFont\":42,\"fLabelOffset\":0.005,\"fLabelSize\":0.035,\"fTickLength\":0.03,\"fTitleOffset\":1.4,\"fTitleSize\":0.035,\"fTitleColor\":1,\"fTitleFont\":42,\"fNbins\":100,\"fXmin\":-3.6,\"fXmax\":3.6,\"fXbins\":[],\"fFirst\":0,\"fLast\":0,\"fBits2\":0,\"fTimeDisplay\":false,\"fTimeFormat\":\"\",\"fLabels\":null,\"fModLabs\":null},\"fYaxis\":{\"_typename\":\"TAxis\",\"fUniqueID\":0,\"fBits\":50331656,\"fName\":\"yaxis\",\"fTitle\":\"\",\"fNdivisions\":510,\"fAxisColor\":1,\"fLabelColor\":1,\"fLabelFont\":42,\"fLabelOffset\":0.005,\"fLabelSize\":0.035,\"fTickLength\":0.03,\"fTitleOffset\":0,\"fTitleSize\":0.035,\"fTitleColor\":1,\"fTitleFont\":42,\"fNbins\":1,\"fXmin\":0,\"fXmax\":1.01945803780588,\"fXbins\":[],\"fFirst\":0,\"fLast\":0,\"fBits2\":0,\"fTimeDisplay\":false,\"fTimeFormat\":\"\",\"fLabels\":null,\"fModLabs\":null},\"fZaxis\":{\"_typename\":\"TAxis\",\"fUniqueID\":0,\"fBits\":50331648,\"fName\":\"zaxis\",\"fTitle\":\"\",\"fNdivisions\":510,\"fAxisColor\":1,\"fLabelColor\":1,\"fLabelFont\":42,\"fLabelOffset\":0.005,\"fLabelSize\":0.035,\"fTickLength\":0.03,\"fTitleOffset\":1,\"fTitleSize\":0.035,\"fTitleColor\":1,\"fTitleFont\":42,\"fNbins\":1,\"fXmin\":0,\"fXmax\":1,\"fXbins\":[],\"fFirst\":0,\"fLast\":0,\"fBits2\":0,\"fTimeDisplay\":false,\"fTimeFormat\":\"\",\"fLabels\":null,\"fModLabs\":null},\"fBarOffset\":0,\"fBarWidth\":1000,\"fEntries\":0,\"fTsumw\":0,\"fTsumw2\":0,\"fTsumwx\":0,\"fTsumwx2\":0,\"fMaximum\":1.1,\"fMinimum\":0.6,\"fNormFactor\":0,\"fContour\":[],\"fSumw2\":[],\"fOption\":\"\",\"fFunctions\":{\"_typename\":\"TList\",\"name\":\"TList\",\"arr\":[],\"opt\":[]},\"fBufferSize\":0,\"fBuffer\":[],\"fBinStatErrOpt\":0,\"fStatOverflows\":2,\"fArray\":[0,0,0,0,0,0,0,0,0,0,0,0,0,0,0,0,0,0,0,0,0,0,0,0,0,0,0,0,0,0,0,0,0,0,0,0,0,0,0,0,0,0,0,0,0,0,0,0,0,0,0,0,0,0,0,0,0,0,0,0,0,0,0,0,0,0,0,0,0,0,0,0,0,0,0,0,0,0,0,0,0,0,0,0,0,0,0,0,0,0,0,0,0,0,0,0,0,0,0,0,0,0]},\"fMinimum\":-1111,\"fMaximum\":-1111,\"fEXlow\":[0.0600000000000001,0.0600000000000001,0.0600000000000001,0.0600000000000001,0.0600000000000001,0.0600000000000001,0.0600000000000001,0.0600000000000001,0.0600000000000001,0.0600000000000001,0.0600000000000001,0.0600000000000001,0.0600000000000001,0.0600000000000001,0.0600000000000001,0.0600000000000001,0.0600000000000001,0.0600000000000001,0.0600000000000001,0.0600000000000001,0.0600000000000001,0.0600000000000001,0.0600000000000001,0.0600000000000001,0.0600000000000001,0.0600000000000001,0.0600000000000001,0.0600000000000001],\"fEXhigh\":[0.0599999999999999,0.0599999999999999,0.0599999999999999,0.0599999999999999,0.0599999999999999,0.0599999999999999,0.0599999999999999,0.0599999999999999,0.0599999999999999,0.0599999999999999,0.0599999999999999,0.0599999999999999,0.0599999999999999,0.0599999999999999,0.0599999999999999,0.0599999999999999,0.0599999999999999,0.0599999999999999,0.0599999999999999,0.0599999999999999,0.0599999999999999,0.0599999999999999,0.0599999999999999,0.0599999999999999,0.0599999999999999,0.0599999999999999,0.0599999999999999,0.0599999999999999],\"fEYlow\":[0,0,0,0,0.0129160915995166,0.0105802139512214,0.00876801942502092,0.00904026795854074,0.00910741649811586,0.00872661067072089,0.00884402769667747,0.00909476556907929,0.013316216456095,0,0,0.0127745650221387,0.00925601435534251,0.00882194792715385,0.00875297171143563,0.00838324061279216,0.00902875795396274,0.0090377688094887,0.0100505102541402,0.0129410101443654,0,0,0,0],\"fEYhigh\":[0.00162502242828117,0.00160658722076375,0.00155239854458307,0.00154588090587456,0.0133056645062786,0.00998517381632491,0.00809972851301888,0.00836827799188766,0.00848722456039774,0.00803697778888679,0.00821381989731362,0.00848562196578695,0.0136288543577764,0.0409781316010068,0.0559082515517007,0.0130751607794318,0.0086358829047446,0.00818149062203588,0.00808888985186484,0.00769126767612871,0.00838801245114773,0.00835604007806201,0.00944707145140455,0.0133453233631398,0.00142502678595032,0.00153045963454496,0.00153556575799479,0.00156560009943323]},{\"_typename\":\"TLegend\",\"fUniqueID\":0,\"fBits\":50331656,\"fLineColor\":1,\"fLineStyle\":1,\"fLineWidth\":1,\"fFillColor\":0,\"fFillStyle\":0,\"fX1\":-3.3081080654749,\"fY1\":0.645454546774011,\"fX2\":-0.778378368347034,\"fY2\":0.742857144412227,\"fX1NDC\":0.16,\"fY1NDC\":0.2,\"fX2NDC\":0.42,\"fY2NDC\":0.35,\"fBorderSize\":0,\"fInit\":1,\"fShadowColor\":1,\"fCornerRadius\":0,\"fOption\":\"brNDC\",\"fName\":\"TPave\",\"fTextAngle\":0,\"fTextSize\":0.03,\"fTextAlign\":12,\"fTextColor\":1,\"fTextFont\":42,\"fPrimitives\":{\"_typename\":\"TList\",\"name\":\"TList\",\"arr\":[{\"_typename\":\"TLegendEntry\",\"fUniqueID\":0,\"fBits\":50331656,\"fTextAngle\":0,\"fTextSize\":0,\"fTextAlign\":0,\"fTextColor\":0,\"fTextFont\":42,\"fLineColor\":1,\"fLineStyle\":1,\"fLineWidth\":1,\"fFillColor\":0,\"fFillStyle\":0,\"fMarkerColor\":1,\"fMarkerStyle\":8,\"fMarkerSize\":0.5,\"fObject\":{\"$ref\":3},\"fLabel\":\"barrel\",\"fOption\":\"P\"},{\"_typename\":\"TLegendEntry\",\"fUniqueID\":0,\"fBits\":50331656,\"fTextAngle\":0,\"fTextSize\":0,\"fTextAlign\":0,\"fTextColor\":0,\"fTextFont\":42,\"fLineColor\":1,\"fLineStyle\":1,\"fLineWidth\":1,\"fFillColor\":0,\"fFillStyle\":0,\"fMarkerColor\":628,\"fMarkerStyle\":21,\"fMarkerSize\":0.5,\"fObject\":{\"$ref\":10},\"fLabel\":\"endcap\",\"fOption\":\"P\"}],\"opt\":[\"P\",\"P\"]},\"fEntrySeparation\":0.1,\"fMargin\":0.25,\"fNColumns\":1,\"fColumnSeparation\":0},{\"_typename\":\"TLatex\",\"fUniqueID\":0,\"fBits\":50348040,\"fName\":\"\",\"fTitle\":\"PU200, TkEle Ell. match, hwQual 5, p_{T}^{L1}>=20GeV, p_{T}^{GEN}>=30GeV\",\"fTextAngle\":0,\"fTextSize\":0.03,\"fTextAlign\":11,\"fTextColor\":1,\"fTextFont\":62,\"fX\":0.15,\"fY\":0.85,\"fLineColor\":1,\"fLineStyle\":1,\"fLineWidth\":2,\"fLimitFactorSize\":3,\"fOriginSize\":0.0299999993294477},{\"_typename\":\"TLatex\",\"fUniqueID\":0,\"fBits\":50348041,\"fName\":\"\",\"fTitle\":\"#scale[1.5]{CMS} #scale[1.]{Phase-2 Simulation}\",\"fTextAngle\":0,\"fTextSize\":0.03,\"fTextAlign\":11,\"fTextColor\":1,\"fTextFont\":62,\"fX\":0.13,\"fY\":0.91,\"fLineColor\":1,\"fLineStyle\":1,\"fLineWidth\":2,\"fLimitFactorSize\":3,\"fOriginSize\":0.0299999993294477},{\"_typename\":\"TLatex\",\"fUniqueID\":0,\"fBits\":50348041,\"fName\":\"\",\"fTitle\":\"14TeV, 200 PU\",\"fTextAngle\":0,\"fTextSize\":0.03,\"fTextAlign\":11,\"fTextColor\":1,\"fTextFont\":62,\"fX\":0.69,\"fY\":0.91,\"fLineColor\":1,\"fLineStyle\":1,\"fLineWidth\":2,\"fLimitFactorSize\":3,\"fOriginSize\":0.0299999993294477},{\"_typename\":\"TLatex\",\"fUniqueID\":0,\"fBits\":50331656,\"fName\":\"\",\"fTitle\":\"\",\"fTextAngle\":0,\"fTextSize\":0.03,\"fTextAlign\":11,\"fTextColor\":1,\"fTextFont\":62,\"fX\":0,\"fY\":0,\"fLineColor\":1,\"fLineStyle\":1,\"fLineWidth\":2,\"fLimitFactorSize\":3,\"fOriginSize\":0.04},{\"_typename\":\"TLine\",\"fUniqueID\":0,\"fBits\":50331656,\"fLineColor\":1,\"fLineStyle\":2,\"fLineWidth\":1,\"fX1\":-2.8,\"fY1\":0.6,\"fX2\":-2.8,\"fY2\":1.1},{\"_typename\":\"TLine\",\"fUniqueID\":0,\"fBits\":50331656,\"fLineColor\":1,\"fLineStyle\":2,\"fLineWidth\":1,\"fX1\":-2.4,\"fY1\":0.6,\"fX2\":-2.4,\"fY2\":1.1},{\"_typename\":\"TLine\",\"fUniqueID\":0,\"fBits\":50331656,\"fLineColor\":1,\"fLineStyle\":2,\"fLineWidth\":1,\"fX1\":-1.7,\"fY1\":0.6,\"fX2\":-1.7,\"fY2\":1.1},{\"_typename\":\"TLine\",\"fUniqueID\":0,\"fBits\":50331656,\"fLineColor\":1,\"fLineStyle\":2,\"fLineWidth\":1,\"fX1\":-1.52,\"fY1\":0.6,\"fX2\":-1.52,\"fY2\":1.1},{\"_typename\":\"TLine\",\"fUniqueID\":0,\"fBits\":50331656,\"fLineColor\":1,\"fLineStyle\":2,\"fLineWidth\":1,\"fX1\":1.52,\"fY1\":0.6,\"fX2\":1.52,\"fY2\":1.1},{\"_typename\":\"TLine\",\"fUniqueID\":0,\"fBits\":50331656,\"fLineColor\":1,\"fLineStyle\":2,\"fLineWidth\":1,\"fX1\":1.7,\"fY1\":0.6,\"fX2\":1.7,\"fY2\":1.1},{\"_typename\":\"TLine\",\"fUniqueID\":0,\"fBits\":50331656,\"fLineColor\":1,\"fLineStyle\":2,\"fLineWidth\":1,\"fX1\":2.4,\"fY1\":0.6,\"fX2\":2.4,\"fY2\":1.1},{\"_typename\":\"TLine\",\"fUniqueID\":0,\"fBits\":50331656,\"fLineColor\":1,\"fLineStyle\":2,\"fLineWidth\":1,\"fX1\":2.8,\"fY1\":0.6,\"fX2\":2.8,\"fY2\":1.1}],\"opt\":[\"\",\"pa\",\",p\",\"same\",\"same\",\"\",\"\",\"same\",\"same\",\"same\",\"same\",\"same\",\"same\",\"same\",\"same\",\"same\"]},\"fExecs\":null,\"fName\":\"c_f25638\",\"fTitle\":\"c_f25638\",\"fNumPaletteColor\":0,\"fNextPaletteColor\":0,\"fDISPLAY\":\"$DISPLAY\",\"fDoubleBuffer\":0,\"fRetained\":true,\"fXsizeUser\":0,\"fYsizeUser\":0,\"fXsizeReal\":20,\"fYsizeReal\":20,\"fWindowTopX\":0,\"fWindowTopY\":0,\"fWindowWidth\":0,\"fWindowHeight\":0,\"fCw\":596,\"fCh\":572,\"fCatt\":{\"_typename\":\"TAttCanvas\",\"fXBetween\":2,\"fYBetween\":2,\"fTitleFromTop\":1.2,\"fXdate\":0.2,\"fYdate\":0.3,\"fAdate\":1},\"kMoveOpaque\":true,\"kResizeOpaque\":true,\"fHighLightColor\":2,\"fBatch\":true,\"kShowEventStatus\":false,\"kAutoExec\":true,\"kMenuBar\":true});\n",
       "       Core.draw(\"root_plot_12\", obj, \"\");\n",
       "     }\n",
       " );\n",
       "</script>\n"
      ],
      "text/plain": [
       "<IPython.core.display.HTML object>"
      ]
     },
     "metadata": {},
     "output_type": "display_data"
    }
   ],
   "source": [
    "hsets, labels, text = hplot.get_histo(histos.HistoSetEff, sample, ['PU200'], ['TkEleELBRL'], 'Pt20', 'GENPt30', debug=False)\n",
    "\n",
    "newset = []\n",
    "\n",
    "h_barrel = hsets[0].h_eff.h_eta.CreateGraph()\n",
    "\n",
    "hsets, labels, text = hplot.get_histo(histos.HistoSetEff, sample, ['PU200'], ['TkEleEL'], 'EGq5Pt20', 'GENPt30', debug=False)\n",
    "\n",
    "h_endcap = hsets[0].h_eff.h_eta.CreateGraph()\n",
    "\n",
    "newset.append(h_barrel)\n",
    "newset.append(h_endcap)\n",
    "\n",
    "newlabels = ['barrel', 'endcap']\n",
    "\n",
    "draw(newset, newlabels, text=text, min_y=0.6, max_y=1.1, v_lines=[-2.8, -2.4, -1.7, -1.52, 1.52, 1.7, 2.4, 2.8],\n",
    "     do_write=True, write_name='egammaEndcap_TkEle_EGq4Pt30_GENPt40_hEffVEta')\n"
   ]
  },
  {
   "cell_type": "code",
   "execution_count": 33,
   "metadata": {},
   "outputs": [
    {
     "data": {
      "text/plain": [
       "<drawingTools.DrawMachine at 0x11acd3290>"
      ]
     },
     "execution_count": 33,
     "metadata": {},
     "output_type": "execute_result"
    },
    {
     "data": {
      "text/html": [
       "\n",
       "<div id=\"root_plot_13\"\n",
       "     style=\"width: 796px; height: 572px\">\n",
       "</div>\n",
       "\n",
       "<script>\n",
       " requirejs.config({\n",
       "     paths: {\n",
       "       'JSRootCore' : 'https://root.cern.ch/js/notebook//scripts/JSRootCore',\n",
       "     }\n",
       "   });\n",
       " require(['JSRootCore'],\n",
       "     function(Core) {\n",
       "       var obj = Core.JSONR_unref({\"_typename\":\"TCanvas\",\"fUniqueID\":0,\"fBits\":53673992,\"fLineColor\":1,\"fLineStyle\":1,\"fLineWidth\":1,\"fFillColor\":0,\"fFillStyle\":1001,\"fLeftMargin\":0.13,\"fRightMargin\":0.3,\"fBottomMargin\":0.13,\"fTopMargin\":0.1,\"fXfile\":2,\"fYfile\":2,\"fAfile\":1,\"fXstat\":0.99,\"fYstat\":0.99,\"fAstat\":2,\"fFrameFillColor\":0,\"fFrameLineColor\":1,\"fFrameFillStyle\":1001,\"fFrameLineStyle\":1,\"fFrameLineWidth\":1,\"fFrameBorderSize\":1,\"fFrameBorderMode\":0,\"fX1\":-5.24210522353154,\"fY1\":0.515584416589722,\"fX2\":7.38947388234231,\"fY2\":1.16493506751116,\"fXtoAbsPixelk\":330.340043357658,\"fXtoPixelk\":330.340043357658,\"fXtoPixel\":63.0166658759117,\"fYtoAbsPixelk\":1026.16804978691,\"fYtoPixelk\":1026.16804978691,\"fYtoPixel\":-880.879997869134,\"fUtoAbsPixelk\":5e-5,\"fUtoPixelk\":5e-5,\"fUtoPixel\":796,\"fVtoAbsPixelk\":572.00005,\"fVtoPixelk\":572,\"fVtoPixel\":-572,\"fAbsPixeltoXk\":-5.24210522353154,\"fPixeltoXk\":-5.24210522353154,\"fPixeltoX\":0.0158688179722033,\"fAbsPixeltoYk\":1.16493506751116,\"fPixeltoYk\":0.515584416589722,\"fPixeltoY\":-0.00113522841070182,\"fXlowNDC\":0,\"fYlowNDC\":0,\"fXUpNDC\":0,\"fYUpNDC\":0,\"fWNDC\":1,\"fHNDC\":1,\"fAbsXlowNDC\":0,\"fAbsYlowNDC\":0,\"fAbsWNDC\":1,\"fAbsHNDC\":1,\"fUxmin\":-3.6,\"fUymin\":0.6,\"fUxmax\":3.6,\"fUymax\":1.1,\"fTheta\":30,\"fPhi\":30,\"fAspectRatio\":0,\"fNumber\":0,\"fTickx\":0,\"fTicky\":0,\"fLogx\":0,\"fLogy\":0,\"fLogz\":0,\"fPadPaint\":0,\"fCrosshair\":0,\"fCrosshairPos\":0,\"fBorderSize\":2,\"fBorderMode\":0,\"fModified\":false,\"fGridx\":false,\"fGridy\":false,\"fAbsCoord\":false,\"fEditable\":true,\"fFixedAspectRatio\":false,\"fPrimitives\":{\"_typename\":\"TList\",\"name\":\"TList\",\"arr\":[{\"_typename\":\"TFrame\",\"fUniqueID\":0,\"fBits\":50331656,\"fLineColor\":1,\"fLineStyle\":1,\"fLineWidth\":1,\"fFillColor\":0,\"fFillStyle\":1001,\"fX1\":-3.6,\"fY1\":0.6,\"fX2\":3.6,\"fY2\":1.1,\"fBorderSize\":1,\"fBorderMode\":0},{\"_typename\":\"TGraphAsymmErrors\",\"fUniqueID\":0,\"fBits\":50332680,\"fName\":\"3c76d4\",\"fTitle\":\"; #eta^{GEN};\",\"fLineColor\":1,\"fLineStyle\":1,\"fLineWidth\":1,\"fFillColor\":0,\"fFillStyle\":1001,\"fMarkerColor\":1,\"fMarkerStyle\":8,\"fMarkerSize\":0.5,\"fNpoints\":50,\"fX\":[-2.94,-2.82,-2.7,-2.58,-2.46,-2.34,-2.22,-2.1,-1.98,-1.86,-1.74,-1.62,-1.5,-1.38,-1.26,-1.14,-1.02,-0.9,-0.78,-0.66,-0.54,-0.42,-0.3,-0.18,-0.0600000000000001,0.06,0.18,0.3,0.42,0.54,0.66,0.78,0.9,1.02,1.14,1.26,1.38,1.5,1.62,1.74,1.86,1.98,2.1,2.22,2.34,2.46,2.58,2.7,2.82,2.94],\"fY\":[0,0,0,0,0,0,0,0,0,0,0,0,0.343795620437956,0.891506067094932,0.903080390683696,0.906316536550745,0.916184971098266,0.903640256959315,0.925680647534952,0.915671117357695,0.913907284768212,0.915115413253909,0.931189229618549,0.932818532818533,0.818448023426061,0.880563798219585,0.927219796215429,0.915492957746479,0.912824207492795,0.911026615969582,0.931386861313869,0.920588235294118,0.902757619738752,0.907971014492754,0.894553072625698,0.903631284916201,0.8921639108555,0.321428571428571,0,0,0,0,0,0,0,0,0,0,0,0],\"fFunctions\":{\"_typename\":\"TList\",\"name\":\"TList\",\"arr\":[],\"opt\":[]},\"fHistogram\":{\"_typename\":\"TH1F\",\"fUniqueID\":0,\"fBits\":50332160,\"fName\":\"3c76d4\",\"fTitle\":\"\",\"fLineColor\":602,\"fLineStyle\":1,\"fLineWidth\":1,\"fFillColor\":0,\"fFillStyle\":1001,\"fMarkerColor\":1,\"fMarkerStyle\":1,\"fMarkerSize\":1,\"fNcells\":102,\"fXaxis\":{\"_typename\":\"TAxis\",\"fUniqueID\":0,\"fBits\":50331656,\"fName\":\"xaxis\",\"fTitle\":\" #eta^{GEN}\",\"fNdivisions\":510,\"fAxisColor\":1,\"fLabelColor\":1,\"fLabelFont\":42,\"fLabelOffset\":0.005,\"fLabelSize\":0.035,\"fTickLength\":0.03,\"fTitleOffset\":1.4,\"fTitleSize\":0.035,\"fTitleColor\":1,\"fTitleFont\":42,\"fNbins\":100,\"fXmin\":-3.6,\"fXmax\":3.6,\"fXbins\":[],\"fFirst\":0,\"fLast\":0,\"fBits2\":0,\"fTimeDisplay\":false,\"fTimeFormat\":\"\",\"fLabels\":null,\"fModLabs\":null},\"fYaxis\":{\"_typename\":\"TAxis\",\"fUniqueID\":0,\"fBits\":50331656,\"fName\":\"yaxis\",\"fTitle\":\"\",\"fNdivisions\":510,\"fAxisColor\":1,\"fLabelColor\":1,\"fLabelFont\":42,\"fLabelOffset\":0.005,\"fLabelSize\":0.035,\"fTickLength\":0.03,\"fTitleOffset\":0,\"fTitleSize\":0.035,\"fTitleColor\":1,\"fTitleFont\":42,\"fNbins\":1,\"fXmin\":0,\"fXmax\":1.03379188144119,\"fXbins\":[],\"fFirst\":0,\"fLast\":0,\"fBits2\":0,\"fTimeDisplay\":false,\"fTimeFormat\":\"\",\"fLabels\":null,\"fModLabs\":null},\"fZaxis\":{\"_typename\":\"TAxis\",\"fUniqueID\":0,\"fBits\":50331648,\"fName\":\"zaxis\",\"fTitle\":\"\",\"fNdivisions\":510,\"fAxisColor\":1,\"fLabelColor\":1,\"fLabelFont\":42,\"fLabelOffset\":0.005,\"fLabelSize\":0.035,\"fTickLength\":0.03,\"fTitleOffset\":1,\"fTitleSize\":0.035,\"fTitleColor\":1,\"fTitleFont\":42,\"fNbins\":1,\"fXmin\":0,\"fXmax\":1,\"fXbins\":[],\"fFirst\":0,\"fLast\":0,\"fBits2\":0,\"fTimeDisplay\":false,\"fTimeFormat\":\"\",\"fLabels\":null,\"fModLabs\":null},\"fBarOffset\":0,\"fBarWidth\":1000,\"fEntries\":0,\"fTsumw\":0,\"fTsumw2\":0,\"fTsumwx\":0,\"fTsumwx2\":0,\"fMaximum\":1.1,\"fMinimum\":0.6,\"fNormFactor\":0,\"fContour\":[],\"fSumw2\":[],\"fOption\":\"\",\"fFunctions\":{\"_typename\":\"TList\",\"name\":\"TList\",\"arr\":[],\"opt\":[]},\"fBufferSize\":0,\"fBuffer\":[],\"fBinStatErrOpt\":0,\"fStatOverflows\":2,\"fArray\":[0,0,0,0,0,0,0,0,0,0,0,0,0,0,0,0,0,0,0,0,0,0,0,0,0,0,0,0,0,0,0,0,0,0,0,0,0,0,0,0,0,0,0,0,0,0,0,0,0,0,0,0,0,0,0,0,0,0,0,0,0,0,0,0,0,0,0,0,0,0,0,0,0,0,0,0,0,0,0,0,0,0,0,0,0,0,0,0,0,0,0,0,0,0,0,0,0,0,0,0,0,0]},\"fMinimum\":-1111,\"fMaximum\":-1111,\"fEXlow\":[0.0600000000000001,0.0600000000000001,0.0600000000000001,0.0600000000000001,0.0600000000000001,0.0600000000000001,0.0600000000000001,0.0600000000000001,0.0600000000000001,0.0600000000000001,0.0600000000000001,0.0600000000000001,0.0600000000000001,0.0600000000000001,0.0600000000000001,0.0600000000000001,0.0600000000000001,0.0600000000000001,0.0600000000000001,0.0600000000000001,0.0600000000000001,0.06,0.06,0.06,0.06,0.06,0.06,0.06,0.06,0.0600000000000001,0.0600000000000001,0.0600000000000001,0.0600000000000001,0.0600000000000001,0.0600000000000001,0.0600000000000001,0.0600000000000001,0.0600000000000001,0.0600000000000001,0.0600000000000001,0.0600000000000001,0.0600000000000001,0.0600000000000001,0.0600000000000001,0.0600000000000001,0.0600000000000001,0.0600000000000001,0.0600000000000001,0.0600000000000001,0.0600000000000001],\"fEXhigh\":[0.0599999999999999,0.0599999999999999,0.0599999999999999,0.0599999999999999,0.0599999999999999,0.0599999999999999,0.0599999999999999,0.0599999999999999,0.0599999999999999,0.0599999999999999,0.0599999999999999,0.0599999999999999,0.0599999999999999,0.0599999999999999,0.0599999999999999,0.0599999999999999,0.0599999999999999,0.0599999999999999,0.0599999999999999,0.0599999999999999,0.0599999999999999,0.06,0.06,0.06,0.06,0.06,0.06,0.06,0.06,0.0599999999999999,0.0599999999999999,0.0599999999999999,0.0599999999999999,0.0599999999999999,0.0599999999999999,0.0599999999999999,0.0599999999999999,0.0599999999999999,0.0599999999999999,0.0599999999999999,0.0599999999999999,0.0599999999999999,0.0599999999999999,0.0599999999999999,0.0599999999999999,0.0599999999999999,0.0599999999999999,0.0599999999999999,0.0599999999999999,0.0599999999999999],\"fEYlow\":[0,0,0,0,0,0,0,0,0,0,0,0,0.0130755867540792,0.00895706630100634,0.00880205770677334,0.0084196046215933,0.00812629083500027,0.00854198345701085,0.0078138532526606,0.00802470939153654,0.00829700697804248,0.00830272190063697,0.00763867482944636,0.00769753383290561,0.011034552127418,0.00949731653029373,0.00770078342257574,0.00804080578699096,0.00824433242014777,0.00855979226261561,0.00752840736554727,0.00802536215136518,0.00865025797655306,0.00845365719295743,0.00875257880500557,0.00844211105728043,0.00896988045841318,0.0124527189804768,0,0,0,0,0,0,0,0,0,0,0,0],\"fEYhigh\":[0.00137500422158772,0.00136582338782904,0.00131791420062627,0.00138119365497363,0.00136379982725082,0.00135476751478286,0.00131603001377073,0.00135277655779423,0.00130947757543399,0.00139058299428434,0.00132550521137524,0.0013122777566049,0.0133100033541239,0.00837439633848835,0.00816858000788157,0.00781672766334718,0.0074959411817791,0.00793991567963492,0.00715525065318623,0.00741285425201255,0.00765867051211888,0.00765452714498782,0.00695908355126162,0.00699226849163903,0.0105521477482597,0.00890921692689139,0.00704687803863269,0.00742791867894876,0.00762142591914383,0.00790465116879313,0.0068652423065505,0.00737608778892684,0.00803937269756849,0.00783510762507,0.00817804210332496,0.00785336343523113,0.00838188522167005,0.0127047862952404,0.00133900204067411,0.00133221944252432,0.00133705711846472,0.00136077570411657,0.00130576253705623,0.00133705711846472,0.00131791420062627,0.00137706119322728,0.00124316017929952,0.001321698806589,0.001321698806589,0.00129931169164107]},{\"_typename\":\"TLatex\",\"fUniqueID\":0,\"fBits\":50348040,\"fName\":\"\",\"fTitle\":\"PU200, TkEle Ell. match barrel, p_{T}^{L1}>=20GeV, p_{T}^{GEN}>=30GeV\",\"fTextAngle\":0,\"fTextSize\":0.03,\"fTextAlign\":11,\"fTextColor\":1,\"fTextFont\":62,\"fX\":0.15,\"fY\":0.85,\"fLineColor\":1,\"fLineStyle\":1,\"fLineWidth\":2,\"fLimitFactorSize\":3,\"fOriginSize\":0.04},{\"_typename\":\"TLatex\",\"fUniqueID\":0,\"fBits\":50331656,\"fName\":\"\",\"fTitle\":\"\",\"fTextAngle\":0,\"fTextSize\":0.03,\"fTextAlign\":11,\"fTextColor\":1,\"fTextFont\":62,\"fX\":0,\"fY\":0,\"fLineColor\":1,\"fLineStyle\":1,\"fLineWidth\":2,\"fLimitFactorSize\":3,\"fOriginSize\":0.04},{\"_typename\":\"TLine\",\"fUniqueID\":0,\"fBits\":50331656,\"fLineColor\":1,\"fLineStyle\":2,\"fLineWidth\":1,\"fX1\":-2.8,\"fY1\":0.6,\"fX2\":-2.8,\"fY2\":1.1},{\"_typename\":\"TLine\",\"fUniqueID\":0,\"fBits\":50331656,\"fLineColor\":1,\"fLineStyle\":2,\"fLineWidth\":1,\"fX1\":-2.4,\"fY1\":0.6,\"fX2\":-2.4,\"fY2\":1.1},{\"_typename\":\"TLine\",\"fUniqueID\":0,\"fBits\":50331656,\"fLineColor\":1,\"fLineStyle\":2,\"fLineWidth\":1,\"fX1\":-1.7,\"fY1\":0.6,\"fX2\":-1.7,\"fY2\":1.1},{\"_typename\":\"TLine\",\"fUniqueID\":0,\"fBits\":50331656,\"fLineColor\":1,\"fLineStyle\":2,\"fLineWidth\":1,\"fX1\":-1.52,\"fY1\":0.6,\"fX2\":-1.52,\"fY2\":1.1},{\"_typename\":\"TLine\",\"fUniqueID\":0,\"fBits\":50331656,\"fLineColor\":1,\"fLineStyle\":2,\"fLineWidth\":1,\"fX1\":1.52,\"fY1\":0.6,\"fX2\":1.52,\"fY2\":1.1},{\"_typename\":\"TLine\",\"fUniqueID\":0,\"fBits\":50331656,\"fLineColor\":1,\"fLineStyle\":2,\"fLineWidth\":1,\"fX1\":1.7,\"fY1\":0.6,\"fX2\":1.7,\"fY2\":1.1},{\"_typename\":\"TLine\",\"fUniqueID\":0,\"fBits\":50331656,\"fLineColor\":1,\"fLineStyle\":2,\"fLineWidth\":1,\"fX1\":2.4,\"fY1\":0.6,\"fX2\":2.4,\"fY2\":1.1},{\"_typename\":\"TLine\",\"fUniqueID\":0,\"fBits\":50331656,\"fLineColor\":1,\"fLineStyle\":2,\"fLineWidth\":1,\"fX1\":2.8,\"fY1\":0.6,\"fX2\":2.8,\"fY2\":1.1}],\"opt\":[\"\",\"pa\",\"same\",\"same\",\"same\",\"same\",\"same\",\"same\",\"same\",\"same\",\"same\",\"same\"]},\"fExecs\":null,\"fName\":\"c_c1a59e\",\"fTitle\":\"c_c1a59e\",\"fNumPaletteColor\":0,\"fNextPaletteColor\":0,\"fDISPLAY\":\"$DISPLAY\",\"fDoubleBuffer\":0,\"fRetained\":true,\"fXsizeUser\":0,\"fYsizeUser\":0,\"fXsizeReal\":20,\"fYsizeReal\":15,\"fWindowTopX\":0,\"fWindowTopY\":0,\"fWindowWidth\":0,\"fWindowHeight\":0,\"fCw\":796,\"fCh\":572,\"fCatt\":{\"_typename\":\"TAttCanvas\",\"fXBetween\":2,\"fYBetween\":2,\"fTitleFromTop\":1.2,\"fXdate\":0.2,\"fYdate\":0.3,\"fAdate\":1},\"kMoveOpaque\":true,\"kResizeOpaque\":true,\"fHighLightColor\":2,\"fBatch\":true,\"kShowEventStatus\":false,\"kAutoExec\":true,\"kMenuBar\":true});\n",
       "       Core.draw(\"root_plot_13\", obj, \"\");\n",
       "     }\n",
       " );\n",
       "</script>\n"
      ],
      "text/plain": [
       "<IPython.core.display.HTML object>"
      ]
     },
     "metadata": {},
     "output_type": "display_data"
    }
   ],
   "source": [
    "hsets, labels, text = hplot.get_histo(histos.HistoSetEff, sample, ['PU200'], ['TkEleBRL', 'TkEleELBRL'], 'Pt20', 'GENPt30', debug=False)\n",
    "draw([his.h_eff.h_eta.CreateGraph() for his in hsets], labels, text=text, min_y=0.6, max_y=1.1, v_lines=[-2.8, -2.4, -1.7, -1.52, 1.52, 1.7, 2.4, 2.8],\n",
    "     do_write=False, write_name='egammaEndcap_TkEle_EGq4Pt30_GENPt40_hEffVEta')\n"
   ]
  },
  {
   "cell_type": "markdown",
   "metadata": {},
   "source": [
    "## Efficiency vs $p_{T}$"
   ]
  },
  {
   "cell_type": "code",
   "execution_count": 34,
   "metadata": {},
   "outputs": [],
   "source": [
    "line_y1p0 = ROOT.TLine(0.,1., 110., 1.)\n",
    "line_y0p95 = ROOT.TLine(0.,0.95, 110., 0.95)\n",
    "line_y0p95.SetLineStyle(2)"
   ]
  },
  {
   "cell_type": "code",
   "execution_count": 35,
   "metadata": {},
   "outputs": [
    {
     "data": {
      "text/plain": [
       "<drawingTools.DrawMachine at 0x1233a0f10>"
      ]
     },
     "execution_count": 35,
     "metadata": {},
     "output_type": "execute_result"
    },
    {
     "data": {
      "text/html": [
       "\n",
       "<div id=\"root_plot_14\"\n",
       "     style=\"width: 796px; height: 572px\">\n",
       "</div>\n",
       "\n",
       "<script>\n",
       " requirejs.config({\n",
       "     paths: {\n",
       "       'JSRootCore' : 'https://root.cern.ch/js/notebook//scripts/JSRootCore',\n",
       "     }\n",
       "   });\n",
       " require(['JSRootCore'],\n",
       "     function(Core) {\n",
       "       var obj = Core.JSONR_unref({\"_typename\":\"TCanvas\",\"fUniqueID\":0,\"fBits\":53673992,\"fLineColor\":1,\"fLineStyle\":1,\"fLineWidth\":1,\"fFillColor\":0,\"fFillStyle\":1001,\"fLeftMargin\":0.13,\"fRightMargin\":0.3,\"fBottomMargin\":0.13,\"fTopMargin\":0.1,\"fXfile\":2,\"fYfile\":2,\"fAfile\":1,\"fXstat\":0.99,\"fYstat\":0.99,\"fAstat\":2,\"fFrameFillColor\":0,\"fFrameLineColor\":1,\"fFrameFillStyle\":1001,\"fFrameLineStyle\":1,\"fFrameLineWidth\":1,\"fFrameBorderSize\":1,\"fFrameBorderMode\":0,\"fX1\":-25.0421046588559,\"fY1\":-0.185714283502611,\"fX2\":167.58947670572,\"fY2\":1.24285714852456,\"fXtoAbsPixelk\":103.480046204376,\"fXtoPixelk\":103.480046204376,\"fXtoPixel\":4.13224038530569,\"fYtoAbsPixelk\":497.640051065433,\"fYtoPixelk\":497.640051065433,\"fYtoPixel\":-400.399999031424,\"fUtoAbsPixelk\":5e-5,\"fUtoPixelk\":5e-5,\"fUtoPixel\":796,\"fVtoAbsPixelk\":572.00005,\"fVtoPixelk\":572,\"fVtoPixel\":-572,\"fAbsPixeltoXk\":-25.0421046588559,\"fPixeltoXk\":-25.0421046588559,\"fPixeltoX\":0.241999474076101,\"fAbsPixeltoYk\":1.24285714852456,\"fPixeltoYk\":-0.185714283502611,\"fPixeltoY\":-0.00249750250354401,\"fXlowNDC\":0,\"fYlowNDC\":0,\"fXUpNDC\":0,\"fYUpNDC\":0,\"fWNDC\":1,\"fHNDC\":1,\"fAbsXlowNDC\":0,\"fAbsYlowNDC\":0,\"fAbsWNDC\":1,\"fAbsHNDC\":1,\"fUxmin\":0,\"fUymin\":0,\"fUxmax\":109.8,\"fUymax\":1.1,\"fTheta\":30,\"fPhi\":30,\"fAspectRatio\":0,\"fNumber\":0,\"fTickx\":0,\"fTicky\":0,\"fLogx\":0,\"fLogy\":0,\"fLogz\":0,\"fPadPaint\":0,\"fCrosshair\":0,\"fCrosshairPos\":0,\"fBorderSize\":2,\"fBorderMode\":0,\"fModified\":false,\"fGridx\":false,\"fGridy\":false,\"fAbsCoord\":false,\"fEditable\":true,\"fFixedAspectRatio\":false,\"fPrimitives\":{\"_typename\":\"TList\",\"name\":\"TList\",\"arr\":[{\"_typename\":\"TFrame\",\"fUniqueID\":0,\"fBits\":50331656,\"fLineColor\":1,\"fLineStyle\":1,\"fLineWidth\":1,\"fFillColor\":0,\"fFillStyle\":1001,\"fX1\":0,\"fY1\":0,\"fX2\":109.8,\"fY2\":1.1,\"fBorderSize\":1,\"fBorderMode\":0},{\"_typename\":\"TGraphAsymmErrors\",\"fUniqueID\":0,\"fBits\":50332680,\"fName\":\"eff856\",\"fTitle\":\"; p_{T}^{GEN} [GeV];\",\"fLineColor\":1,\"fLineStyle\":1,\"fLineWidth\":1,\"fFillColor\":0,\"fFillStyle\":1001,\"fMarkerColor\":1,\"fMarkerStyle\":8,\"fMarkerSize\":0.5,\"fNpoints\":49,\"fX\":[3,5,7,9,11,13,15,17,19,21,23,25,27,29,31,33,35,37,39,41,43,45,47,49,51,53,55,57,59,61,63,65,67,69,71,73,75,77,79,81,83,85,87,89,91,93,95,97,99],\"fY\":[0,0,0.00362976406533575,0.0164533820840951,0.215652173913043,0.392931392931393,0.497175141242938,0.573283858998145,0.591836734693878,0.702952029520295,0.693693693693694,0.731182795698925,0.772128060263653,0.804659498207885,0.785714285714286,0.82435129740519,0.792027729636049,0.846938775510204,0.804232804232804,0.872897196261682,0.862453531598513,0.865828092243187,0.877224199288256,0.897579143389199,0.883959044368601,0.896825396825397,0.88785046728972,0.901256732495512,0.923076923076923,0.906194690265487,0.923344947735192,0.926275992438563,0.913793103448276,0.917602996254682,0.923357664233577,0.919561243144424,0.884615384615385,0.936131386861314,0.934865900383142,0.891682785299807,0.92226148409894,0.918095238095238,0.925233644859813,0.915641476274165,0.93394495412844,0.938342967244701,0.928825622775801,0.936416184971098,0.916666666666667],\"fFunctions\":{\"_typename\":\"TList\",\"name\":\"TList\",\"arr\":[],\"opt\":[]},\"fHistogram\":{\"_typename\":\"TH1F\",\"fUniqueID\":0,\"fBits\":50332160,\"fName\":\"eff856\",\"fTitle\":\"\",\"fLineColor\":602,\"fLineStyle\":1,\"fLineWidth\":1,\"fFillColor\":0,\"fFillStyle\":1001,\"fMarkerColor\":1,\"fMarkerStyle\":1,\"fMarkerSize\":1,\"fNcells\":102,\"fXaxis\":{\"_typename\":\"TAxis\",\"fUniqueID\":0,\"fBits\":50331656,\"fName\":\"xaxis\",\"fTitle\":\" p_{T}^{GEN} [GeV]\",\"fNdivisions\":510,\"fAxisColor\":1,\"fLabelColor\":1,\"fLabelFont\":42,\"fLabelOffset\":0.005,\"fLabelSize\":0.035,\"fTickLength\":0.03,\"fTitleOffset\":1.4,\"fTitleSize\":0.035,\"fTitleColor\":1,\"fTitleFont\":42,\"fNbins\":100,\"fXmin\":0,\"fXmax\":109.8,\"fXbins\":[],\"fFirst\":0,\"fLast\":0,\"fBits2\":0,\"fTimeDisplay\":false,\"fTimeFormat\":\"\",\"fLabels\":null,\"fModLabs\":null},\"fYaxis\":{\"_typename\":\"TAxis\",\"fUniqueID\":0,\"fBits\":50331656,\"fName\":\"yaxis\",\"fTitle\":\"\",\"fNdivisions\":510,\"fAxisColor\":1,\"fLabelColor\":1,\"fLabelFont\":42,\"fLabelOffset\":0.005,\"fLabelSize\":0.035,\"fTickLength\":0.03,\"fTitleOffset\":0,\"fTitleSize\":0.035,\"fTitleColor\":1,\"fTitleFont\":42,\"fNbins\":1,\"fXmin\":0,\"fXmax\":1.04384942481705,\"fXbins\":[],\"fFirst\":0,\"fLast\":0,\"fBits2\":0,\"fTimeDisplay\":false,\"fTimeFormat\":\"\",\"fLabels\":null,\"fModLabs\":null},\"fZaxis\":{\"_typename\":\"TAxis\",\"fUniqueID\":0,\"fBits\":50331648,\"fName\":\"zaxis\",\"fTitle\":\"\",\"fNdivisions\":510,\"fAxisColor\":1,\"fLabelColor\":1,\"fLabelFont\":42,\"fLabelOffset\":0.005,\"fLabelSize\":0.035,\"fTickLength\":0.03,\"fTitleOffset\":1,\"fTitleSize\":0.035,\"fTitleColor\":1,\"fTitleFont\":42,\"fNbins\":1,\"fXmin\":0,\"fXmax\":1,\"fXbins\":[],\"fFirst\":0,\"fLast\":0,\"fBits2\":0,\"fTimeDisplay\":false,\"fTimeFormat\":\"\",\"fLabels\":null,\"fModLabs\":null},\"fBarOffset\":0,\"fBarWidth\":1000,\"fEntries\":0,\"fTsumw\":0,\"fTsumw2\":0,\"fTsumwx\":0,\"fTsumwx2\":0,\"fMaximum\":1.1,\"fMinimum\":0,\"fNormFactor\":0,\"fContour\":[],\"fSumw2\":[],\"fOption\":\"\",\"fFunctions\":{\"_typename\":\"TList\",\"name\":\"TList\",\"arr\":[],\"opt\":[]},\"fBufferSize\":0,\"fBuffer\":[],\"fBinStatErrOpt\":0,\"fStatOverflows\":2,\"fArray\":[0,0,0,0,0,0,0,0,0,0,0,0,0,0,0,0,0,0,0,0,0,0,0,0,0,0,0,0,0,0,0,0,0,0,0,0,0,0,0,0,0,0,0,0,0,0,0,0,0,0,0,0,0,0,0,0,0,0,0,0,0,0,0,0,0,0,0,0,0,0,0,0,0,0,0,0,0,0,0,0,0,0,0,0,0,0,0,0,0,0,0,0,0,0,0,0,0,0,0,0,0,0]},\"fMinimum\":-1111,\"fMaximum\":-1111,\"fEXlow\":[1,1,1,1,1,1,1,1,1,1,1,1,1,1,1,1,1,1,1,1,1,1,1,1,1,1,1,1,1,1,1,1,1,1,1,1,1,1,1,1,1,1,1,1,1,1,1,1,1],\"fEXhigh\":[1,1,1,1,1,1,1,1,1,1,1,1,1,1,1,1,1,1,1,1,1,1,1,1,1,1,1,1,1,1,1,1,1,1,1,1,1,1,1,1,1,1,1,1,1,1,1,1,1],\"fEYlow\":[0,0,0.00234415012072571,0.00536130830239632,0.0174901185788943,0.0230514264439799,0.0226116597794631,0.0223520942853944,0.022254497068055,0.0209246736781864,0.0208149571327293,0.0200825346866533,0.0196688322665218,0.0182433876148937,0.0187560648583066,0.0186721904488857,0.0182829694355557,0.0163152724856792,0.0180992668071782,0.0160725781639565,0.0164881534361324,0.0174653609354041,0.0154435546778698,0.014807280777678,0.0147783896805511,0.0153853039247966,0.0153489883346154,0.0143090922806828,0.0135321374679012,0.0139223649580189,0.0127750680959973,0.0131851615699322,0.0140992334420609,0.0136820760489597,0.0131153243312375,0.0133735419647022,0.0149461257784248,0.0122309691442957,0.0126732636260609,0.0154442820694995,0.0129467541950775,0.0137833448618484,0.0131708165463646,0.0133180399048676,0.0124289371264391,0.0124523763795494,0.0125666975531052,0.0125992742161462,0.0141996528649186],\"fEYhigh\":[0.00323598815799914,0.00347414329597734,0.00476727430594483,0.00742395119869578,0.0185281995576229,0.0235167957599392,0.0226227482532651,0.0220686561574496,0.0218992085037468,0.0201414677115684,0.02008563623107,0.0192153177670695,0.0185920877493821,0.0170943670075491,0.0176842782516012,0.0173030162008945,0.0172199462695006,0.015068890558103,0.0169705513258421,0.0145897394350831,0.015057991154809,0.0158305084766415,0.0140163386434889,0.013222881852113,0.0133848269270634,0.0136972620557035,0.0138014481492374,0.0127675950511577,0.0117729529861581,0.0123823386601878,0.0111858519667501,0.0114413333957419,0.012392082513368,0.0119967510271272,0.011447894279521,0.0117206346357744,0.0135147803120189,0.0105019752509745,0.0108613019805269,0.0138236914924394,0.0113391581612032,0.0120657279879272,0.0114523290506001,0.0117484731404885,0.0107009401853791,0.0106110553162552,0.0109170955298079,0.0107682361145169,0.0124150140562492]},{\"_typename\":\"TLatex\",\"fUniqueID\":0,\"fBits\":50348040,\"fName\":\"\",\"fTitle\":\"PU200, TkEle Ell. match, hwQual 5, 1.52 < |#eta^{GEN}| <= 2.4\",\"fTextAngle\":0,\"fTextSize\":0.03,\"fTextAlign\":11,\"fTextColor\":1,\"fTextFont\":62,\"fX\":0.15,\"fY\":0.85,\"fLineColor\":1,\"fLineStyle\":1,\"fLineWidth\":2,\"fLimitFactorSize\":3,\"fOriginSize\":0.04},{\"_typename\":\"TLatex\",\"fUniqueID\":0,\"fBits\":50331656,\"fName\":\"\",\"fTitle\":\"\",\"fTextAngle\":0,\"fTextSize\":0.03,\"fTextAlign\":11,\"fTextColor\":1,\"fTextFont\":62,\"fX\":0,\"fY\":0,\"fLineColor\":1,\"fLineStyle\":1,\"fLineWidth\":2,\"fLimitFactorSize\":3,\"fOriginSize\":0.04},{\"_typename\":\"TLine\",\"fUniqueID\":0,\"fBits\":50331656,\"fLineColor\":1,\"fLineStyle\":2,\"fLineWidth\":1,\"fX1\":0,\"fY1\":0.95,\"fX2\":109.8,\"fY2\":0.95},{\"_typename\":\"TLine\",\"fUniqueID\":0,\"fBits\":50331656,\"fLineColor\":1,\"fLineStyle\":2,\"fLineWidth\":1,\"fX1\":0,\"fY1\":1,\"fX2\":109.8,\"fY2\":1}],\"opt\":[\"\",\"pa\",\"same\",\"same\",\"same\",\"same\"]},\"fExecs\":null,\"fName\":\"c_1d8c00\",\"fTitle\":\"c_1d8c00\",\"fNumPaletteColor\":0,\"fNextPaletteColor\":0,\"fDISPLAY\":\"$DISPLAY\",\"fDoubleBuffer\":0,\"fRetained\":true,\"fXsizeUser\":0,\"fYsizeUser\":0,\"fXsizeReal\":20,\"fYsizeReal\":15,\"fWindowTopX\":0,\"fWindowTopY\":0,\"fWindowWidth\":0,\"fWindowHeight\":0,\"fCw\":796,\"fCh\":572,\"fCatt\":{\"_typename\":\"TAttCanvas\",\"fXBetween\":2,\"fYBetween\":2,\"fTitleFromTop\":1.2,\"fXdate\":0.2,\"fYdate\":0.3,\"fAdate\":1},\"kMoveOpaque\":true,\"kResizeOpaque\":true,\"fHighLightColor\":2,\"fBatch\":true,\"kShowEventStatus\":false,\"kAutoExec\":true,\"kMenuBar\":true});\n",
       "       Core.draw(\"root_plot_14\", obj, \"\");\n",
       "     }\n",
       " );\n",
       "</script>\n"
      ],
      "text/plain": [
       "<IPython.core.display.HTML object>"
      ]
     },
     "metadata": {},
     "output_type": "display_data"
    }
   ],
   "source": [
    "hsets, labels, text = hplot.get_histo(histos.HistoSetEff, ['hybrid', 'ele-V9'], ['PU200'], 'TkEleEL', 'EGq5', 'GENEtaBC', debug=False)\n",
    "draw([his.h_eff.h_pt.CreateGraph() for his in hsets], labels, text=text, min_y=0, max_y=1.1, h_lines=[0.95, 1.])\n"
   ]
  },
  {
   "cell_type": "code",
   "execution_count": 36,
   "metadata": {},
   "outputs": [
    {
     "data": {
      "text/plain": [
       "<drawingTools.DrawMachine at 0x1233a0b10>"
      ]
     },
     "execution_count": 36,
     "metadata": {},
     "output_type": "execute_result"
    },
    {
     "data": {
      "text/html": [
       "\n",
       "<div id=\"root_plot_15\"\n",
       "     style=\"width: 796px; height: 572px\">\n",
       "</div>\n",
       "\n",
       "<script>\n",
       " requirejs.config({\n",
       "     paths: {\n",
       "       'JSRootCore' : 'https://root.cern.ch/js/notebook//scripts/JSRootCore',\n",
       "     }\n",
       "   });\n",
       " require(['JSRootCore'],\n",
       "     function(Core) {\n",
       "       var obj = Core.JSONR_unref({\"_typename\":\"TCanvas\",\"fUniqueID\":0,\"fBits\":53673992,\"fLineColor\":1,\"fLineStyle\":1,\"fLineWidth\":1,\"fFillColor\":0,\"fFillStyle\":1001,\"fLeftMargin\":0.13,\"fRightMargin\":0.3,\"fBottomMargin\":0.13,\"fTopMargin\":0.1,\"fXfile\":2,\"fYfile\":2,\"fAfile\":1,\"fXstat\":0.99,\"fYstat\":0.99,\"fAstat\":2,\"fFrameFillColor\":0,\"fFrameLineColor\":1,\"fFrameFillStyle\":1001,\"fFrameLineStyle\":1,\"fFrameLineWidth\":1,\"fFrameBorderSize\":1,\"fFrameBorderMode\":0,\"fX1\":-25.0421046588559,\"fY1\":-0.185714283502611,\"fX2\":167.58947670572,\"fY2\":1.24285714852456,\"fXtoAbsPixelk\":103.480046204376,\"fXtoPixelk\":103.480046204376,\"fXtoPixel\":4.13224038530569,\"fYtoAbsPixelk\":497.640051065433,\"fYtoPixelk\":497.640051065433,\"fYtoPixel\":-400.399999031424,\"fUtoAbsPixelk\":5e-5,\"fUtoPixelk\":5e-5,\"fUtoPixel\":796,\"fVtoAbsPixelk\":572.00005,\"fVtoPixelk\":572,\"fVtoPixel\":-572,\"fAbsPixeltoXk\":-25.0421046588559,\"fPixeltoXk\":-25.0421046588559,\"fPixeltoX\":0.241999474076101,\"fAbsPixeltoYk\":1.24285714852456,\"fPixeltoYk\":-0.185714283502611,\"fPixeltoY\":-0.00249750250354401,\"fXlowNDC\":0,\"fYlowNDC\":0,\"fXUpNDC\":0,\"fYUpNDC\":0,\"fWNDC\":1,\"fHNDC\":1,\"fAbsXlowNDC\":0,\"fAbsYlowNDC\":0,\"fAbsWNDC\":1,\"fAbsHNDC\":1,\"fUxmin\":0,\"fUymin\":0,\"fUxmax\":109.8,\"fUymax\":1.1,\"fTheta\":30,\"fPhi\":30,\"fAspectRatio\":0,\"fNumber\":0,\"fTickx\":0,\"fTicky\":0,\"fLogx\":0,\"fLogy\":0,\"fLogz\":0,\"fPadPaint\":0,\"fCrosshair\":0,\"fCrosshairPos\":0,\"fBorderSize\":2,\"fBorderMode\":0,\"fModified\":false,\"fGridx\":false,\"fGridy\":false,\"fAbsCoord\":false,\"fEditable\":true,\"fFixedAspectRatio\":false,\"fPrimitives\":{\"_typename\":\"TList\",\"name\":\"TList\",\"arr\":[{\"_typename\":\"TFrame\",\"fUniqueID\":0,\"fBits\":50331656,\"fLineColor\":1,\"fLineStyle\":1,\"fLineWidth\":1,\"fFillColor\":0,\"fFillStyle\":1001,\"fX1\":0,\"fY1\":0,\"fX2\":109.8,\"fY2\":1.1,\"fBorderSize\":1,\"fBorderMode\":0},{\"_typename\":\"TGraphAsymmErrors\",\"fUniqueID\":0,\"fBits\":50332680,\"fName\":\"85faf4\",\"fTitle\":\"; p_{T}^{GEN} [GeV];\",\"fLineColor\":1,\"fLineStyle\":1,\"fLineWidth\":1,\"fFillColor\":0,\"fFillStyle\":1001,\"fMarkerColor\":1,\"fMarkerStyle\":8,\"fMarkerSize\":0.5,\"fNpoints\":49,\"fX\":[3,5,7,9,11,13,15,17,19,21,23,25,27,29,31,33,35,37,39,41,43,45,47,49,51,53,55,57,59,61,63,65,67,69,71,73,75,77,79,81,83,85,87,89,91,93,95,97,99],\"fY\":[0,0,0,0,0,0,0,0,0,0.003690036900369,0.0324324324324324,0.195340501792115,0.516007532956685,0.695340501792115,0.7125,0.782435129740519,0.76949740034662,0.829931972789116,0.795414462081129,0.869158878504673,0.860594795539034,0.863731656184486,0.877224199288256,0.895716945996276,0.883959044368601,0.896825396825397,0.88785046728972,0.901256732495512,0.919230769230769,0.906194690265487,0.923344947735192,0.926275992438563,0.913793103448276,0.917602996254682,0.923357664233577,0.919561243144424,0.884615384615385,0.936131386861314,0.932950191570881,0.891682785299807,0.92226148409894,0.918095238095238,0.925233644859813,0.915641476274165,0.93394495412844,0.938342967244701,0.928825622775801,0.936416184971098,0.916666666666667],\"fFunctions\":{\"_typename\":\"TList\",\"name\":\"TList\",\"arr\":[],\"opt\":[]},\"fHistogram\":{\"_typename\":\"TH1F\",\"fUniqueID\":0,\"fBits\":50332160,\"fName\":\"85faf4\",\"fTitle\":\"\",\"fLineColor\":602,\"fLineStyle\":1,\"fLineWidth\":1,\"fFillColor\":0,\"fFillStyle\":1001,\"fMarkerColor\":1,\"fMarkerStyle\":1,\"fMarkerSize\":1,\"fNcells\":102,\"fXaxis\":{\"_typename\":\"TAxis\",\"fUniqueID\":0,\"fBits\":50331656,\"fName\":\"xaxis\",\"fTitle\":\" p_{T}^{GEN} [GeV]\",\"fNdivisions\":510,\"fAxisColor\":1,\"fLabelColor\":1,\"fLabelFont\":42,\"fLabelOffset\":0.005,\"fLabelSize\":0.035,\"fTickLength\":0.03,\"fTitleOffset\":1.4,\"fTitleSize\":0.035,\"fTitleColor\":1,\"fTitleFont\":42,\"fNbins\":100,\"fXmin\":0,\"fXmax\":109.8,\"fXbins\":[],\"fFirst\":0,\"fLast\":0,\"fBits2\":0,\"fTimeDisplay\":false,\"fTimeFormat\":\"\",\"fLabels\":null,\"fModLabs\":null},\"fYaxis\":{\"_typename\":\"TAxis\",\"fUniqueID\":0,\"fBits\":50331656,\"fName\":\"yaxis\",\"fTitle\":\"\",\"fNdivisions\":510,\"fAxisColor\":1,\"fLabelColor\":1,\"fLabelFont\":42,\"fLabelOffset\":0.005,\"fLabelSize\":0.035,\"fTickLength\":0.03,\"fTitleOffset\":0,\"fTitleSize\":0.035,\"fTitleColor\":1,\"fTitleFont\":42,\"fNbins\":1,\"fXmin\":0,\"fXmax\":1.04384942481705,\"fXbins\":[],\"fFirst\":0,\"fLast\":0,\"fBits2\":0,\"fTimeDisplay\":false,\"fTimeFormat\":\"\",\"fLabels\":null,\"fModLabs\":null},\"fZaxis\":{\"_typename\":\"TAxis\",\"fUniqueID\":0,\"fBits\":50331648,\"fName\":\"zaxis\",\"fTitle\":\"\",\"fNdivisions\":510,\"fAxisColor\":1,\"fLabelColor\":1,\"fLabelFont\":42,\"fLabelOffset\":0.005,\"fLabelSize\":0.035,\"fTickLength\":0.03,\"fTitleOffset\":1,\"fTitleSize\":0.035,\"fTitleColor\":1,\"fTitleFont\":42,\"fNbins\":1,\"fXmin\":0,\"fXmax\":1,\"fXbins\":[],\"fFirst\":0,\"fLast\":0,\"fBits2\":0,\"fTimeDisplay\":false,\"fTimeFormat\":\"\",\"fLabels\":null,\"fModLabs\":null},\"fBarOffset\":0,\"fBarWidth\":1000,\"fEntries\":0,\"fTsumw\":0,\"fTsumw2\":0,\"fTsumwx\":0,\"fTsumwx2\":0,\"fMaximum\":1.1,\"fMinimum\":0,\"fNormFactor\":0,\"fContour\":[],\"fSumw2\":[],\"fOption\":\"\",\"fFunctions\":{\"_typename\":\"TList\",\"name\":\"TList\",\"arr\":[],\"opt\":[]},\"fBufferSize\":0,\"fBuffer\":[],\"fBinStatErrOpt\":0,\"fStatOverflows\":2,\"fArray\":[0,0,0,0,0,0,0,0,0,0,0,0,0,0,0,0,0,0,0,0,0,0,0,0,0,0,0,0,0,0,0,0,0,0,0,0,0,0,0,0,0,0,0,0,0,0,0,0,0,0,0,0,0,0,0,0,0,0,0,0,0,0,0,0,0,0,0,0,0,0,0,0,0,0,0,0,0,0,0,0,0,0,0,0,0,0,0,0,0,0,0,0,0,0,0,0,0,0,0,0,0,0]},\"fMinimum\":-1111,\"fMaximum\":-1111,\"fEXlow\":[1,1,1,1,1,1,1,1,1,1,1,1,1,1,1,1,1,1,1,1,1,1,1,1,1,1,1,1,1,1,1,1,1,1,1,1,1,1,1,1,1,1,1,1,1,1,1,1,1],\"fEXhigh\":[1,1,1,1,1,1,1,1,1,1,1,1,1,1,1,1,1,1,1,1,1,1,1,1,1,1,1,1,1,1,1,1,1,1,1,1,1,1,1,1,1,1,1,1,1,1,1,1,1],\"fEYlow\":[0,0,0,0,0,0,0,0,0,0.00238306935803498,0.00750022256828816,0.0170943670075491,0.0226378691430044,0.0207293173963968,0.0203991083916446,0.0200099972819097,0.018876490015003,0.0169270343492235,0.0183593197562569,0.0162429919399685,0.0165678910454611,0.0175624095895389,0.0154435546778698,0.0149075268841583,0.0147783896805511,0.0153853039247966,0.0153489883346154,0.0143090922806828,0.0137852885642663,0.0139223649580189,0.0127750680959973,0.0131851615699322,0.0140992334420609,0.0136820760489597,0.0131153243312375,0.0133735419647022,0.0149461257784248,0.0122309691442957,0.01281413315306,0.0154442820694995,0.0129467541950775,0.0137833448618484,0.0131708165463646,0.0133180399048676,0.0124289371264391,0.0124523763795494,0.0125666975531052,0.0125992742161462,0.0141996528649186],\"fEYhigh\":[0.00323598815799914,0.00347414329597734,0.00333566138424641,0.0033600127640479,0.00319665655273388,0.00382017233222616,0.00346108068132723,0.00340979796341216,0.00340979796341216,0.00484609619588345,0.0093851686541524,0.0182433876148942,0.022575033155766,0.0199977836755346,0.0196056238218368,0.0188229162097046,0.0178972241018505,0.0157444315396446,0.0172642257698333,0.0147761198965212,0.0151455350688788,0.0159375947466137,0.0140163386434889,0.0133313831332909,0.0133848269270634,0.0136972620557035,0.0138014481492374,0.0127675950511577,0.0120450274122909,0.0123823386601878,0.0111858519667501,0.0114413333957419,0.012392082513368,0.0119967510271272,0.011447894279521,0.0117206346357744,0.0135147803120189,0.0105019752509745,0.0110121236282096,0.0138236914924394,0.0113391581612032,0.0120657279879272,0.0114523290506001,0.0117484731404885,0.0107009401853791,0.0106110553162552,0.0109170955298079,0.0107682361145169,0.0124150140562492]},{\"_typename\":\"TLatex\",\"fUniqueID\":0,\"fBits\":50348040,\"fName\":\"\",\"fTitle\":\"PU200, TkEle Ell. match, hwQual 5, p_{T}^{L1}>=25GeV, 1.52 < |#eta^{GEN}| <= 2.4\",\"fTextAngle\":0,\"fTextSize\":0.03,\"fTextAlign\":11,\"fTextColor\":1,\"fTextFont\":62,\"fX\":0.15,\"fY\":0.85,\"fLineColor\":1,\"fLineStyle\":1,\"fLineWidth\":2,\"fLimitFactorSize\":3,\"fOriginSize\":0.04},{\"_typename\":\"TLatex\",\"fUniqueID\":0,\"fBits\":50331656,\"fName\":\"\",\"fTitle\":\"\",\"fTextAngle\":0,\"fTextSize\":0.03,\"fTextAlign\":11,\"fTextColor\":1,\"fTextFont\":62,\"fX\":0,\"fY\":0,\"fLineColor\":1,\"fLineStyle\":1,\"fLineWidth\":2,\"fLimitFactorSize\":3,\"fOriginSize\":0.04},{\"_typename\":\"TLine\",\"fUniqueID\":0,\"fBits\":50331656,\"fLineColor\":1,\"fLineStyle\":2,\"fLineWidth\":1,\"fX1\":0,\"fY1\":0.95,\"fX2\":109.8,\"fY2\":0.95},{\"_typename\":\"TLine\",\"fUniqueID\":0,\"fBits\":50331656,\"fLineColor\":1,\"fLineStyle\":2,\"fLineWidth\":1,\"fX1\":0,\"fY1\":1,\"fX2\":109.8,\"fY2\":1}],\"opt\":[\"\",\"pa\",\"same\",\"same\",\"same\",\"same\"]},\"fExecs\":null,\"fName\":\"c_5ede51\",\"fTitle\":\"c_5ede51\",\"fNumPaletteColor\":0,\"fNextPaletteColor\":0,\"fDISPLAY\":\"$DISPLAY\",\"fDoubleBuffer\":0,\"fRetained\":true,\"fXsizeUser\":0,\"fYsizeUser\":0,\"fXsizeReal\":20,\"fYsizeReal\":15,\"fWindowTopX\":0,\"fWindowTopY\":0,\"fWindowWidth\":0,\"fWindowHeight\":0,\"fCw\":796,\"fCh\":572,\"fCatt\":{\"_typename\":\"TAttCanvas\",\"fXBetween\":2,\"fYBetween\":2,\"fTitleFromTop\":1.2,\"fXdate\":0.2,\"fYdate\":0.3,\"fAdate\":1},\"kMoveOpaque\":true,\"kResizeOpaque\":true,\"fHighLightColor\":2,\"fBatch\":true,\"kShowEventStatus\":false,\"kAutoExec\":true,\"kMenuBar\":true});\n",
       "       Core.draw(\"root_plot_15\", obj, \"\");\n",
       "     }\n",
       " );\n",
       "</script>\n"
      ],
      "text/plain": [
       "<IPython.core.display.HTML object>"
      ]
     },
     "metadata": {},
     "output_type": "display_data"
    }
   ],
   "source": [
    "hsets, labels, text = hplot.get_histo(histos.HistoSetEff, ['hybrid', 'ele-V9'], ['PU200'], 'TkEleEL', 'EGq5Pt25', 'GENEtaBC', debug=False)\n",
    "draw([his.h_eff.h_pt.CreateGraph() for his in hsets], labels, text=text, min_y=0, max_y=1.1, h_lines=[0.95, 1.])\n"
   ]
  },
  {
   "cell_type": "code",
   "execution_count": 37,
   "metadata": {},
   "outputs": [
    {
     "data": {
      "text/plain": [
       "<drawingTools.DrawMachine at 0x11acc6f10>"
      ]
     },
     "execution_count": 37,
     "metadata": {},
     "output_type": "execute_result"
    },
    {
     "data": {
      "text/html": [
       "\n",
       "<div id=\"root_plot_16\"\n",
       "     style=\"width: 796px; height: 572px\">\n",
       "</div>\n",
       "\n",
       "<script>\n",
       " requirejs.config({\n",
       "     paths: {\n",
       "       'JSRootCore' : 'https://root.cern.ch/js/notebook//scripts/JSRootCore',\n",
       "     }\n",
       "   });\n",
       " require(['JSRootCore'],\n",
       "     function(Core) {\n",
       "       var obj = Core.JSONR_unref({\"_typename\":\"TCanvas\",\"fUniqueID\":0,\"fBits\":53673992,\"fLineColor\":1,\"fLineStyle\":1,\"fLineWidth\":1,\"fFillColor\":0,\"fFillStyle\":1001,\"fLeftMargin\":0.13,\"fRightMargin\":0.3,\"fBottomMargin\":0.13,\"fTopMargin\":0.1,\"fXfile\":2,\"fYfile\":2,\"fAfile\":1,\"fXstat\":0.99,\"fYstat\":0.99,\"fAstat\":2,\"fFrameFillColor\":0,\"fFrameLineColor\":1,\"fFrameFillStyle\":1001,\"fFrameLineStyle\":1,\"fFrameLineWidth\":1,\"fFrameBorderSize\":1,\"fFrameBorderMode\":0,\"fX1\":-25.0421046588559,\"fY1\":-0.185714283502611,\"fX2\":167.58947670572,\"fY2\":1.24285714852456,\"fXtoAbsPixelk\":103.480046204376,\"fXtoPixelk\":103.480046204376,\"fXtoPixel\":4.13224038530569,\"fYtoAbsPixelk\":497.640051065433,\"fYtoPixelk\":497.640051065433,\"fYtoPixel\":-400.399999031424,\"fUtoAbsPixelk\":5e-5,\"fUtoPixelk\":5e-5,\"fUtoPixel\":796,\"fVtoAbsPixelk\":572.00005,\"fVtoPixelk\":572,\"fVtoPixel\":-572,\"fAbsPixeltoXk\":-25.0421046588559,\"fPixeltoXk\":-25.0421046588559,\"fPixeltoX\":0.241999474076101,\"fAbsPixeltoYk\":1.24285714852456,\"fPixeltoYk\":-0.185714283502611,\"fPixeltoY\":-0.00249750250354401,\"fXlowNDC\":0,\"fYlowNDC\":0,\"fXUpNDC\":0,\"fYUpNDC\":0,\"fWNDC\":1,\"fHNDC\":1,\"fAbsXlowNDC\":0,\"fAbsYlowNDC\":0,\"fAbsWNDC\":1,\"fAbsHNDC\":1,\"fUxmin\":0,\"fUymin\":0,\"fUxmax\":109.8,\"fUymax\":1.1,\"fTheta\":30,\"fPhi\":30,\"fAspectRatio\":0,\"fNumber\":0,\"fTickx\":0,\"fTicky\":0,\"fLogx\":0,\"fLogy\":0,\"fLogz\":0,\"fPadPaint\":0,\"fCrosshair\":0,\"fCrosshairPos\":0,\"fBorderSize\":2,\"fBorderMode\":0,\"fModified\":false,\"fGridx\":false,\"fGridy\":false,\"fAbsCoord\":false,\"fEditable\":true,\"fFixedAspectRatio\":false,\"fPrimitives\":{\"_typename\":\"TList\",\"name\":\"TList\",\"arr\":[{\"_typename\":\"TFrame\",\"fUniqueID\":0,\"fBits\":50331656,\"fLineColor\":1,\"fLineStyle\":1,\"fLineWidth\":1,\"fFillColor\":0,\"fFillStyle\":1001,\"fX1\":0,\"fY1\":0,\"fX2\":109.8,\"fY2\":1.1,\"fBorderSize\":1,\"fBorderMode\":0},{\"_typename\":\"TGraphAsymmErrors\",\"fUniqueID\":0,\"fBits\":50332680,\"fName\":\"1e1e61\",\"fTitle\":\"; p_{T}^{GEN} [GeV];\",\"fLineColor\":1,\"fLineStyle\":1,\"fLineWidth\":1,\"fFillColor\":0,\"fFillStyle\":1001,\"fMarkerColor\":1,\"fMarkerStyle\":8,\"fMarkerSize\":0.5,\"fNpoints\":49,\"fX\":[3,5,7,9,11,13,15,17,19,21,23,25,27,29,31,33,35,37,39,41,43,45,47,49,51,53,55,57,59,61,63,65,67,69,71,73,75,77,79,81,83,85,87,89,91,93,95,97,99],\"fY\":[0,0,0.00209643605870021,0.00918367346938776,0.49003984063745,0.609409190371991,0.697435897435897,0.723044397463002,0.765469061876248,0.778543307086614,0.824776785714286,0.805300713557594,0.828865979381443,0.837615621788284,0.847193347193347,0.857601713062099,0.843846949327818,0.854775828460039,0.899585921325052,0.896969696969697,0.882521489971347,0.867827868852459,0.878918918918919,0.884538152610442,0.897872340425532,0.895161290322581,0.882926829268293,0.891604675876727,0.905857740585774,0.924677898909812,0.918592964824121,0.902564102564103,0.904559915164369,0.914851485148515,0.918570009930487,0.896090534979424,0.918264379414733,0.917269906928645,0.919170984455959,0.927889713679745,0.907150480256137,0.926535087719298,0.930113052415211,0.932764140875133,0.918776371308017,0.933196300102775,0.913621262458472,0.921218487394958,0.932446264073695],\"fFunctions\":{\"_typename\":\"TList\",\"name\":\"TList\",\"arr\":[],\"opt\":[]},\"fHistogram\":{\"_typename\":\"TH1F\",\"fUniqueID\":0,\"fBits\":50332160,\"fName\":\"1e1e61\",\"fTitle\":\"\",\"fLineColor\":602,\"fLineStyle\":1,\"fLineWidth\":1,\"fFillColor\":0,\"fFillStyle\":1001,\"fMarkerColor\":1,\"fMarkerStyle\":1,\"fMarkerSize\":1,\"fNcells\":102,\"fXaxis\":{\"_typename\":\"TAxis\",\"fUniqueID\":0,\"fBits\":50331656,\"fName\":\"xaxis\",\"fTitle\":\" p_{T}^{GEN} [GeV]\",\"fNdivisions\":510,\"fAxisColor\":1,\"fLabelColor\":1,\"fLabelFont\":42,\"fLabelOffset\":0.005,\"fLabelSize\":0.035,\"fTickLength\":0.03,\"fTitleOffset\":1.4,\"fTitleSize\":0.035,\"fTitleColor\":1,\"fTitleFont\":42,\"fNbins\":100,\"fXmin\":0,\"fXmax\":109.8,\"fXbins\":[],\"fFirst\":0,\"fLast\":0,\"fBits2\":0,\"fTimeDisplay\":false,\"fTimeFormat\":\"\",\"fLabels\":null,\"fModLabs\":null},\"fYaxis\":{\"_typename\":\"TAxis\",\"fUniqueID\":0,\"fBits\":50331656,\"fName\":\"yaxis\",\"fTitle\":\"\",\"fNdivisions\":510,\"fAxisColor\":1,\"fLabelColor\":1,\"fLabelFont\":42,\"fLabelOffset\":0.005,\"fLabelSize\":0.035,\"fTickLength\":0.03,\"fTitleOffset\":0,\"fTitleSize\":0.035,\"fTitleColor\":1,\"fTitleFont\":42,\"fNbins\":1,\"fXmin\":0,\"fXmax\":1.03536907323343,\"fXbins\":[],\"fFirst\":0,\"fLast\":0,\"fBits2\":0,\"fTimeDisplay\":false,\"fTimeFormat\":\"\",\"fLabels\":null,\"fModLabs\":null},\"fZaxis\":{\"_typename\":\"TAxis\",\"fUniqueID\":0,\"fBits\":50331648,\"fName\":\"zaxis\",\"fTitle\":\"\",\"fNdivisions\":510,\"fAxisColor\":1,\"fLabelColor\":1,\"fLabelFont\":42,\"fLabelOffset\":0.005,\"fLabelSize\":0.035,\"fTickLength\":0.03,\"fTitleOffset\":1,\"fTitleSize\":0.035,\"fTitleColor\":1,\"fTitleFont\":42,\"fNbins\":1,\"fXmin\":0,\"fXmax\":1,\"fXbins\":[],\"fFirst\":0,\"fLast\":0,\"fBits2\":0,\"fTimeDisplay\":false,\"fTimeFormat\":\"\",\"fLabels\":null,\"fModLabs\":null},\"fBarOffset\":0,\"fBarWidth\":1000,\"fEntries\":0,\"fTsumw\":0,\"fTsumw2\":0,\"fTsumwx\":0,\"fTsumwx2\":0,\"fMaximum\":1.1,\"fMinimum\":0,\"fNormFactor\":0,\"fContour\":[],\"fSumw2\":[],\"fOption\":\"\",\"fFunctions\":{\"_typename\":\"TList\",\"name\":\"TList\",\"arr\":[],\"opt\":[]},\"fBufferSize\":0,\"fBuffer\":[],\"fBinStatErrOpt\":0,\"fStatOverflows\":2,\"fArray\":[0,0,0,0,0,0,0,0,0,0,0,0,0,0,0,0,0,0,0,0,0,0,0,0,0,0,0,0,0,0,0,0,0,0,0,0,0,0,0,0,0,0,0,0,0,0,0,0,0,0,0,0,0,0,0,0,0,0,0,0,0,0,0,0,0,0,0,0,0,0,0,0,0,0,0,0,0,0,0,0,0,0,0,0,0,0,0,0,0,0,0,0,0,0,0,0,0,0,0,0,0,0]},\"fMinimum\":-1111,\"fMaximum\":-1111,\"fEXlow\":[1,1,1,1,1,1,1,1,1,1,1,1,1,1,1,1,1,1,1,1,1,1,1,1,1,1,1,1,1,1,1,1,1,1,1,1,1,1,1,1,1,1,1,1,1,1,1,1,1],\"fEXhigh\":[1,1,1,1,1,1,1,1,1,1,1,1,1,1,1,1,1,1,1,1,1,1,1,1,1,1,1,1,1,1,1,1,1,1,1,1,1,1,1,1,1,1,1,1,1,1,1,1,1],\"fEYlow\":[0,0,0.00135398966885,0.00299738273535597,0.0162561550267564,0.0167993166257996,0.0154266518472647,0.0153150382929648,0.0141535728439574,0.0137983252021004,0.0136320892252233,0.0134711430154317,0.0129578573873123,0.0126957764353837,0.0124942027569896,0.0123680534210864,0.0125584950549482,0.0118454729563221,0.0106235375880125,0.0105885810636734,0.0108105106728645,0.0117458211653476,0.0116954574865978,0.0110325227562874,0.0108546736397089,0.0106492600120967,0.0109207605527238,0.0111031427549366,0.0104164449585648,0.00925202265654546,0.00961848973695356,0.0104455164802796,0.0105516337186897,0.0097124340417527,0.00955629854893125,0.0107305987214441,0.00965538032913682,0.00983398647377909,0.00975434970089251,0.00943879101769896,0.0104744147181737,0.00968756100616142,0.00916016717646817,0.00921020669982864,0.00986962576406536,0.0089953968853197,0.0103887505332435,0.00972751992944754,0.00901530856618815],\"fEYhigh\":[0.00192591439828387,0.00188838072126811,0.00275833444191357,0.00416601722352139,0.0162766096999225,0.0165519604761574,0.0150078000231435,0.0148266695765642,0.0136042713007887,0.0132296337113572,0.0128757879978103,0.0128240150839094,0.0122513098507399,0.0119720835042915,0.011740505087857,0.0115669607113816,0.0118162821743735,0.0111236711540527,0.00975246062476642,0.00974517884704817,0.0100451593219807,0.010956922837053,0.0108354185411897,0.010222539917477,0.00996307941011598,0.00981175313808724,0.0101377262125655,0.0102277144648282,0.0095208727879823,0.00836050974804636,0.00872881141610293,0.00957565222386636,0.00964659322188144,0.0088451081485994,0.00867755822397798,0.00987325913427872,0.00876280581569477,0.0089211093789594,0.00883481988740653,0.00847470787926197,0.00955699534328769,0.00869340502668925,0.00822100029520623,0.00822679108274638,0.0089341494433971,0.00804831192761324,0.00941897770514299,0.00878991135208318,0.00807414211178881]},{\"_typename\":\"TLatex\",\"fUniqueID\":0,\"fBits\":50348040,\"fName\":\"\",\"fTitle\":\"PU200, TkEle Ell. match all, LooseTkID, |#eta^{GEN}| <= 1.479\",\"fTextAngle\":0,\"fTextSize\":0.03,\"fTextAlign\":11,\"fTextColor\":1,\"fTextFont\":62,\"fX\":0.15,\"fY\":0.85,\"fLineColor\":1,\"fLineStyle\":1,\"fLineWidth\":2,\"fLimitFactorSize\":3,\"fOriginSize\":0.04},{\"_typename\":\"TLatex\",\"fUniqueID\":0,\"fBits\":50331656,\"fName\":\"\",\"fTitle\":\"\",\"fTextAngle\":0,\"fTextSize\":0.03,\"fTextAlign\":11,\"fTextColor\":1,\"fTextFont\":62,\"fX\":0,\"fY\":0,\"fLineColor\":1,\"fLineStyle\":1,\"fLineWidth\":2,\"fLimitFactorSize\":3,\"fOriginSize\":0.04},{\"_typename\":\"TLine\",\"fUniqueID\":0,\"fBits\":50331656,\"fLineColor\":1,\"fLineStyle\":2,\"fLineWidth\":1,\"fX1\":0,\"fY1\":0.95,\"fX2\":109.8,\"fY2\":0.95},{\"_typename\":\"TLine\",\"fUniqueID\":0,\"fBits\":50331656,\"fLineColor\":1,\"fLineStyle\":2,\"fLineWidth\":1,\"fX1\":0,\"fY1\":1,\"fX2\":109.8,\"fY2\":1}],\"opt\":[\"\",\"pa\",\"same\",\"same\",\"same\",\"same\"]},\"fExecs\":null,\"fName\":\"c_0259ca\",\"fTitle\":\"c_0259ca\",\"fNumPaletteColor\":0,\"fNextPaletteColor\":0,\"fDISPLAY\":\"$DISPLAY\",\"fDoubleBuffer\":0,\"fRetained\":true,\"fXsizeUser\":0,\"fYsizeUser\":0,\"fXsizeReal\":20,\"fYsizeReal\":15,\"fWindowTopX\":0,\"fWindowTopY\":0,\"fWindowWidth\":0,\"fWindowHeight\":0,\"fCw\":796,\"fCh\":572,\"fCatt\":{\"_typename\":\"TAttCanvas\",\"fXBetween\":2,\"fYBetween\":2,\"fTitleFromTop\":1.2,\"fXdate\":0.2,\"fYdate\":0.3,\"fAdate\":1},\"kMoveOpaque\":true,\"kResizeOpaque\":true,\"fHighLightColor\":2,\"fBatch\":true,\"kShowEventStatus\":false,\"kAutoExec\":true,\"kMenuBar\":true});\n",
       "       Core.draw(\"root_plot_16\", obj, \"\");\n",
       "     }\n",
       " );\n",
       "</script>\n"
      ],
      "text/plain": [
       "<IPython.core.display.HTML object>"
      ]
     },
     "metadata": {},
     "output_type": "display_data"
    }
   ],
   "source": [
    "hsets, labels, text = hplot.get_histo(histos.HistoSetEff, ['hybrid', 'ele-V9'], ['PU200'], 'TkEleELALL', 'LooseTkID', 'GENEtaF', debug=False)\n",
    "draw([his.h_eff.h_pt.CreateGraph() for his in hsets], labels, text=text, min_y=0, max_y=1.1, h_lines=[0.95, 1.])\n"
   ]
  },
  {
   "cell_type": "code",
   "execution_count": 38,
   "metadata": {},
   "outputs": [
    {
     "data": {
      "text/plain": [
       "<drawingTools.DrawMachine at 0x1233a0910>"
      ]
     },
     "execution_count": 38,
     "metadata": {},
     "output_type": "execute_result"
    },
    {
     "data": {
      "text/html": [
       "\n",
       "<div id=\"root_plot_17\"\n",
       "     style=\"width: 796px; height: 572px\">\n",
       "</div>\n",
       "\n",
       "<script>\n",
       " requirejs.config({\n",
       "     paths: {\n",
       "       'JSRootCore' : 'https://root.cern.ch/js/notebook//scripts/JSRootCore',\n",
       "     }\n",
       "   });\n",
       " require(['JSRootCore'],\n",
       "     function(Core) {\n",
       "       var obj = Core.JSONR_unref({\"_typename\":\"TCanvas\",\"fUniqueID\":0,\"fBits\":53673992,\"fLineColor\":1,\"fLineStyle\":1,\"fLineWidth\":1,\"fFillColor\":0,\"fFillStyle\":1001,\"fLeftMargin\":0.13,\"fRightMargin\":0.3,\"fBottomMargin\":0.13,\"fTopMargin\":0.1,\"fXfile\":2,\"fYfile\":2,\"fAfile\":1,\"fXstat\":0.99,\"fYstat\":0.99,\"fAstat\":2,\"fFrameFillColor\":0,\"fFrameLineColor\":1,\"fFrameFillStyle\":1001,\"fFrameLineStyle\":1,\"fFrameLineWidth\":1,\"fFrameBorderSize\":1,\"fFrameBorderMode\":0,\"fX1\":-25.0421046588559,\"fY1\":-0.185714283502611,\"fX2\":167.58947670572,\"fY2\":1.24285714852456,\"fXtoAbsPixelk\":103.480046204376,\"fXtoPixelk\":103.480046204376,\"fXtoPixel\":4.13224038530569,\"fYtoAbsPixelk\":497.640051065433,\"fYtoPixelk\":497.640051065433,\"fYtoPixel\":-400.399999031424,\"fUtoAbsPixelk\":5e-5,\"fUtoPixelk\":5e-5,\"fUtoPixel\":796,\"fVtoAbsPixelk\":572.00005,\"fVtoPixelk\":572,\"fVtoPixel\":-572,\"fAbsPixeltoXk\":-25.0421046588559,\"fPixeltoXk\":-25.0421046588559,\"fPixeltoX\":0.241999474076101,\"fAbsPixeltoYk\":1.24285714852456,\"fPixeltoYk\":-0.185714283502611,\"fPixeltoY\":-0.00249750250354401,\"fXlowNDC\":0,\"fYlowNDC\":0,\"fXUpNDC\":0,\"fYUpNDC\":0,\"fWNDC\":1,\"fHNDC\":1,\"fAbsXlowNDC\":0,\"fAbsYlowNDC\":0,\"fAbsWNDC\":1,\"fAbsHNDC\":1,\"fUxmin\":0,\"fUymin\":0,\"fUxmax\":109.8,\"fUymax\":1.1,\"fTheta\":30,\"fPhi\":30,\"fAspectRatio\":0,\"fNumber\":0,\"fTickx\":0,\"fTicky\":0,\"fLogx\":0,\"fLogy\":0,\"fLogz\":0,\"fPadPaint\":0,\"fCrosshair\":0,\"fCrosshairPos\":0,\"fBorderSize\":2,\"fBorderMode\":0,\"fModified\":false,\"fGridx\":false,\"fGridy\":false,\"fAbsCoord\":false,\"fEditable\":true,\"fFixedAspectRatio\":false,\"fPrimitives\":{\"_typename\":\"TList\",\"name\":\"TList\",\"arr\":[{\"_typename\":\"TFrame\",\"fUniqueID\":0,\"fBits\":50331656,\"fLineColor\":1,\"fLineStyle\":1,\"fLineWidth\":1,\"fFillColor\":0,\"fFillStyle\":1001,\"fX1\":0,\"fY1\":0,\"fX2\":109.8,\"fY2\":1.1,\"fBorderSize\":1,\"fBorderMode\":0},{\"_typename\":\"TGraphAsymmErrors\",\"fUniqueID\":0,\"fBits\":50332680,\"fName\":\"c8b918\",\"fTitle\":\"; p_{T}^{GEN} [GeV];\",\"fLineColor\":1,\"fLineStyle\":1,\"fLineWidth\":1,\"fFillColor\":0,\"fFillStyle\":1001,\"fMarkerColor\":1,\"fMarkerStyle\":8,\"fMarkerSize\":0.5,\"fNpoints\":49,\"fX\":[3,5,7,9,11,13,15,17,19,21,23,25,27,29,31,33,35,37,39,41,43,45,47,49,51,53,55,57,59,61,63,65,67,69,71,73,75,77,79,81,83,85,87,89,91,93,95,97,99],\"fY\":[0,0,0.00209643605870021,0.00918367346938776,0.49003984063745,0.609409190371991,0.697435897435897,0.723044397463002,0.765469061876248,0.778543307086614,0.824776785714286,0.805300713557594,0.828865979381443,0.837615621788284,0.847193347193347,0.857601713062099,0.843846949327818,0.854775828460039,0.899585921325052,0.896969696969697,0.882521489971347,0.867827868852459,0.878918918918919,0.884538152610442,0.897872340425532,0.895161290322581,0.882926829268293,0.891604675876727,0.905857740585774,0.924677898909812,0.918592964824121,0.902564102564103,0.904559915164369,0.914851485148515,0.918570009930487,0.896090534979424,0.918264379414733,0.917269906928645,0.919170984455959,0.927889713679745,0.907150480256137,0.926535087719298,0.930113052415211,0.932764140875133,0.918776371308017,0.933196300102775,0.913621262458472,0.921218487394958,0.932446264073695],\"fFunctions\":{\"_typename\":\"TList\",\"name\":\"TList\",\"arr\":[],\"opt\":[]},\"fHistogram\":{\"_typename\":\"TH1F\",\"fUniqueID\":0,\"fBits\":50332160,\"fName\":\"c8b918\",\"fTitle\":\"\",\"fLineColor\":602,\"fLineStyle\":1,\"fLineWidth\":1,\"fFillColor\":0,\"fFillStyle\":1001,\"fMarkerColor\":1,\"fMarkerStyle\":1,\"fMarkerSize\":1,\"fNcells\":102,\"fXaxis\":{\"_typename\":\"TAxis\",\"fUniqueID\":0,\"fBits\":50331656,\"fName\":\"xaxis\",\"fTitle\":\" p_{T}^{GEN} [GeV]\",\"fNdivisions\":510,\"fAxisColor\":1,\"fLabelColor\":1,\"fLabelFont\":42,\"fLabelOffset\":0.005,\"fLabelSize\":0.035,\"fTickLength\":0.03,\"fTitleOffset\":1.4,\"fTitleSize\":0.035,\"fTitleColor\":1,\"fTitleFont\":42,\"fNbins\":100,\"fXmin\":0,\"fXmax\":109.8,\"fXbins\":[],\"fFirst\":0,\"fLast\":0,\"fBits2\":0,\"fTimeDisplay\":false,\"fTimeFormat\":\"\",\"fLabels\":null,\"fModLabs\":null},\"fYaxis\":{\"_typename\":\"TAxis\",\"fUniqueID\":0,\"fBits\":50331656,\"fName\":\"yaxis\",\"fTitle\":\"\",\"fNdivisions\":510,\"fAxisColor\":1,\"fLabelColor\":1,\"fLabelFont\":42,\"fLabelOffset\":0.005,\"fLabelSize\":0.035,\"fTickLength\":0.03,\"fTitleOffset\":0,\"fTitleSize\":0.035,\"fTitleColor\":1,\"fTitleFont\":42,\"fNbins\":1,\"fXmin\":0,\"fXmax\":1.03536907323343,\"fXbins\":[],\"fFirst\":0,\"fLast\":0,\"fBits2\":0,\"fTimeDisplay\":false,\"fTimeFormat\":\"\",\"fLabels\":null,\"fModLabs\":null},\"fZaxis\":{\"_typename\":\"TAxis\",\"fUniqueID\":0,\"fBits\":50331648,\"fName\":\"zaxis\",\"fTitle\":\"\",\"fNdivisions\":510,\"fAxisColor\":1,\"fLabelColor\":1,\"fLabelFont\":42,\"fLabelOffset\":0.005,\"fLabelSize\":0.035,\"fTickLength\":0.03,\"fTitleOffset\":1,\"fTitleSize\":0.035,\"fTitleColor\":1,\"fTitleFont\":42,\"fNbins\":1,\"fXmin\":0,\"fXmax\":1,\"fXbins\":[],\"fFirst\":0,\"fLast\":0,\"fBits2\":0,\"fTimeDisplay\":false,\"fTimeFormat\":\"\",\"fLabels\":null,\"fModLabs\":null},\"fBarOffset\":0,\"fBarWidth\":1000,\"fEntries\":0,\"fTsumw\":0,\"fTsumw2\":0,\"fTsumwx\":0,\"fTsumwx2\":0,\"fMaximum\":1.1,\"fMinimum\":0,\"fNormFactor\":0,\"fContour\":[],\"fSumw2\":[],\"fOption\":\"\",\"fFunctions\":{\"_typename\":\"TList\",\"name\":\"TList\",\"arr\":[],\"opt\":[]},\"fBufferSize\":0,\"fBuffer\":[],\"fBinStatErrOpt\":0,\"fStatOverflows\":2,\"fArray\":[0,0,0,0,0,0,0,0,0,0,0,0,0,0,0,0,0,0,0,0,0,0,0,0,0,0,0,0,0,0,0,0,0,0,0,0,0,0,0,0,0,0,0,0,0,0,0,0,0,0,0,0,0,0,0,0,0,0,0,0,0,0,0,0,0,0,0,0,0,0,0,0,0,0,0,0,0,0,0,0,0,0,0,0,0,0,0,0,0,0,0,0,0,0,0,0,0,0,0,0,0,0]},\"fMinimum\":-1111,\"fMaximum\":-1111,\"fEXlow\":[1,1,1,1,1,1,1,1,1,1,1,1,1,1,1,1,1,1,1,1,1,1,1,1,1,1,1,1,1,1,1,1,1,1,1,1,1,1,1,1,1,1,1,1,1,1,1,1,1],\"fEXhigh\":[1,1,1,1,1,1,1,1,1,1,1,1,1,1,1,1,1,1,1,1,1,1,1,1,1,1,1,1,1,1,1,1,1,1,1,1,1,1,1,1,1,1,1,1,1,1,1,1,1],\"fEYlow\":[0,0,0.00135398966885,0.00299738273535597,0.0162561550267564,0.0167993166257996,0.0154266518472647,0.0153150382929648,0.0141535728439574,0.0137983252021004,0.0136320892252233,0.0134711430154317,0.0129578573873123,0.0126957764353837,0.0124942027569896,0.0123680534210864,0.0125584950549482,0.0118454729563221,0.0106235375880125,0.0105885810636734,0.0108105106728645,0.0117458211653476,0.0116954574865978,0.0110325227562874,0.0108546736397089,0.0106492600120967,0.0109207605527238,0.0111031427549366,0.0104164449585648,0.00925202265654546,0.00961848973695356,0.0104455164802796,0.0105516337186897,0.0097124340417527,0.00955629854893125,0.0107305987214441,0.00965538032913682,0.00983398647377909,0.00975434970089251,0.00943879101769896,0.0104744147181737,0.00968756100616142,0.00916016717646817,0.00921020669982864,0.00986962576406536,0.0089953968853197,0.0103887505332435,0.00972751992944754,0.00901530856618815],\"fEYhigh\":[0.00192591439828387,0.00188838072126811,0.00275833444191357,0.00416601722352139,0.0162766096999225,0.0165519604761574,0.0150078000231435,0.0148266695765642,0.0136042713007887,0.0132296337113572,0.0128757879978103,0.0128240150839094,0.0122513098507399,0.0119720835042915,0.011740505087857,0.0115669607113816,0.0118162821743735,0.0111236711540527,0.00975246062476642,0.00974517884704817,0.0100451593219807,0.010956922837053,0.0108354185411897,0.010222539917477,0.00996307941011598,0.00981175313808724,0.0101377262125655,0.0102277144648282,0.0095208727879823,0.00836050974804636,0.00872881141610293,0.00957565222386636,0.00964659322188144,0.0088451081485994,0.00867755822397798,0.00987325913427872,0.00876280581569477,0.0089211093789594,0.00883481988740653,0.00847470787926197,0.00955699534328769,0.00869340502668925,0.00822100029520623,0.00822679108274638,0.0089341494433971,0.00804831192761324,0.00941897770514299,0.00878991135208318,0.00807414211178881]},{\"_typename\":\"TLatex\",\"fUniqueID\":0,\"fBits\":50348040,\"fName\":\"\",\"fTitle\":\"PU200, TkEle Ell. match all, LooseTkID, |#eta^{GEN}| <= 1.479\",\"fTextAngle\":0,\"fTextSize\":0.03,\"fTextAlign\":11,\"fTextColor\":1,\"fTextFont\":62,\"fX\":0.15,\"fY\":0.85,\"fLineColor\":1,\"fLineStyle\":1,\"fLineWidth\":2,\"fLimitFactorSize\":3,\"fOriginSize\":0.04},{\"_typename\":\"TLatex\",\"fUniqueID\":0,\"fBits\":50331656,\"fName\":\"\",\"fTitle\":\"\",\"fTextAngle\":0,\"fTextSize\":0.03,\"fTextAlign\":11,\"fTextColor\":1,\"fTextFont\":62,\"fX\":0,\"fY\":0,\"fLineColor\":1,\"fLineStyle\":1,\"fLineWidth\":2,\"fLimitFactorSize\":3,\"fOriginSize\":0.04},{\"_typename\":\"TLine\",\"fUniqueID\":0,\"fBits\":50331656,\"fLineColor\":1,\"fLineStyle\":2,\"fLineWidth\":1,\"fX1\":0,\"fY1\":0.95,\"fX2\":109.8,\"fY2\":0.95},{\"_typename\":\"TLine\",\"fUniqueID\":0,\"fBits\":50331656,\"fLineColor\":1,\"fLineStyle\":2,\"fLineWidth\":1,\"fX1\":0,\"fY1\":1,\"fX2\":109.8,\"fY2\":1}],\"opt\":[\"\",\"pa\",\"same\",\"same\",\"same\",\"same\"]},\"fExecs\":null,\"fName\":\"c_09a9ed\",\"fTitle\":\"c_09a9ed\",\"fNumPaletteColor\":0,\"fNextPaletteColor\":0,\"fDISPLAY\":\"$DISPLAY\",\"fDoubleBuffer\":0,\"fRetained\":true,\"fXsizeUser\":0,\"fYsizeUser\":0,\"fXsizeReal\":20,\"fYsizeReal\":15,\"fWindowTopX\":0,\"fWindowTopY\":0,\"fWindowWidth\":0,\"fWindowHeight\":0,\"fCw\":796,\"fCh\":572,\"fCatt\":{\"_typename\":\"TAttCanvas\",\"fXBetween\":2,\"fYBetween\":2,\"fTitleFromTop\":1.2,\"fXdate\":0.2,\"fYdate\":0.3,\"fAdate\":1},\"kMoveOpaque\":true,\"kResizeOpaque\":true,\"fHighLightColor\":2,\"fBatch\":true,\"kShowEventStatus\":false,\"kAutoExec\":true,\"kMenuBar\":true});\n",
       "       Core.draw(\"root_plot_17\", obj, \"\");\n",
       "     }\n",
       " );\n",
       "</script>\n"
      ],
      "text/plain": [
       "<IPython.core.display.HTML object>"
      ]
     },
     "metadata": {},
     "output_type": "display_data"
    }
   ],
   "source": [
    "hsets, labels, text = hplot.get_histo(histos.HistoSetEff, ['hybrid', 'ele-V9'], ['PU200'], 'TkEleELALL', 'LooseTkID', 'GENEtaF', debug=False)\n",
    "draw([his.h_eff.h_pt.CreateGraph() for his in hsets], labels, text=text, min_y=0, max_y=1.1, h_lines=[0.95, 1.])\n"
   ]
  },
  {
   "cell_type": "code",
   "execution_count": 39,
   "metadata": {},
   "outputs": [
    {
     "name": "stdout",
     "output_type": "stream",
     "text": [
      "['__doc__', '__init__', '__module__', 'h_abseta', 'h_energy', 'h_eta', 'h_fBrem', 'h_pt', 'h_reachedEE']\n",
      "['']\n"
     ]
    },
    {
     "data": {
      "text/plain": [
       "<drawingTools.DrawMachine at 0x1230cdf90>"
      ]
     },
     "execution_count": 39,
     "metadata": {},
     "output_type": "execute_result"
    },
    {
     "name": "stderr",
     "output_type": "stream",
     "text": [
      "Info in <TCanvas::Print>: pdf file figs/egammaEndcap_EG_EGq5Pt25_GENEtaBC_hEffvPt.pdf has been created\n",
      "Info in <TCanvas::Print>: pdf file figs/egammaEndcap_EG_EGq5Pt25_GENEtaDE_hEffvPt.pdf has been created\n"
     ]
    },
    {
     "data": {
      "text/html": [
       "\n",
       "<div id=\"root_plot_18\"\n",
       "     style=\"width: 596px; height: 572px\">\n",
       "</div>\n",
       "\n",
       "<script>\n",
       " requirejs.config({\n",
       "     paths: {\n",
       "       'JSRootCore' : 'https://root.cern.ch/js/notebook//scripts/JSRootCore',\n",
       "     }\n",
       "   });\n",
       " require(['JSRootCore'],\n",
       "     function(Core) {\n",
       "       var obj = Core.JSONR_unref({\"_typename\":\"TCanvas\",\"fUniqueID\":0,\"fBits\":53673992,\"fLineColor\":1,\"fLineStyle\":1,\"fLineWidth\":1,\"fFillColor\":0,\"fFillStyle\":1001,\"fLeftMargin\":0.13,\"fRightMargin\":0.13,\"fBottomMargin\":0.13,\"fTopMargin\":0.1,\"fXfile\":2,\"fYfile\":2,\"fAfile\":1,\"fXstat\":0.99,\"fYstat\":0.99,\"fAstat\":2,\"fFrameFillColor\":0,\"fFrameLineColor\":1,\"fFrameFillStyle\":1001,\"fFrameLineStyle\":1,\"fFrameLineWidth\":1,\"fFrameBorderSize\":1,\"fFrameBorderMode\":0,\"fX1\":-19.2891882330767,\"fY1\":-0.185714283502611,\"fX2\":129.089188233077,\"fY2\":1.24285714852456,\"fXtoAbsPixelk\":77.4800471580505,\"fXtoPixelk\":77.4800471580505,\"fXtoPixel\":4.01675779311383,\"fYtoAbsPixelk\":497.640051065433,\"fYtoPixelk\":497.640051065433,\"fYtoPixel\":-400.399999031424,\"fUtoAbsPixelk\":5e-5,\"fUtoPixelk\":5e-5,\"fUtoPixel\":596,\"fVtoAbsPixelk\":572.00005,\"fVtoPixelk\":572,\"fVtoPixel\":-572,\"fAbsPixeltoXk\":-19.2891882330767,\"fPixeltoXk\":-19.2891882330767,\"fPixeltoX\":0.248957007493546,\"fAbsPixeltoYk\":1.24285714852456,\"fPixeltoYk\":-0.185714283502611,\"fPixeltoY\":-0.00249750250354401,\"fXlowNDC\":0,\"fYlowNDC\":0,\"fXUpNDC\":0,\"fYUpNDC\":0,\"fWNDC\":1,\"fHNDC\":1,\"fAbsXlowNDC\":0,\"fAbsYlowNDC\":0,\"fAbsWNDC\":1,\"fAbsHNDC\":1,\"fUxmin\":0,\"fUymin\":0,\"fUxmax\":109.8,\"fUymax\":1.1,\"fTheta\":30,\"fPhi\":30,\"fAspectRatio\":0,\"fNumber\":0,\"fTickx\":0,\"fTicky\":0,\"fLogx\":0,\"fLogy\":0,\"fLogz\":0,\"fPadPaint\":0,\"fCrosshair\":0,\"fCrosshairPos\":0,\"fBorderSize\":2,\"fBorderMode\":0,\"fModified\":false,\"fGridx\":false,\"fGridy\":false,\"fAbsCoord\":false,\"fEditable\":true,\"fFixedAspectRatio\":false,\"fPrimitives\":{\"_typename\":\"TList\",\"name\":\"TList\",\"arr\":[{\"_typename\":\"TFrame\",\"fUniqueID\":0,\"fBits\":50331656,\"fLineColor\":1,\"fLineStyle\":1,\"fLineWidth\":1,\"fFillColor\":0,\"fFillStyle\":1001,\"fX1\":0,\"fY1\":0,\"fX2\":109.8,\"fY2\":1.1,\"fBorderSize\":1,\"fBorderMode\":0},{\"_typename\":\"TGraphAsymmErrors\",\"fUniqueID\":0,\"fBits\":50332680,\"fName\":\"269857\",\"fTitle\":\"; p_{T}^{GEN} [GeV];\",\"fLineColor\":1,\"fLineStyle\":1,\"fLineWidth\":1,\"fFillColor\":0,\"fFillStyle\":1001,\"fMarkerColor\":1,\"fMarkerStyle\":8,\"fMarkerSize\":0.5,\"fNpoints\":49,\"fX\":[3,5,7,9,11,13,15,17,19,21,23,25,27,29,31,33,35,37,39,41,43,45,47,49,51,53,55,57,59,61,63,65,67,69,71,73,75,77,79,81,83,85,87,89,91,93,95,97,99],\"fY\":[0,0,0,0,0,0,0,0,0,0.00738007380073801,0.0378378378378378,0.231182795698925,0.589453860640301,0.810035842293907,0.853571428571429,0.922155688622755,0.92894280762565,0.960884353741497,0.973544973544973,0.981308411214953,0.981412639405205,0.983228511530398,0.991103202846975,0.988826815642458,0.988054607508532,0.994047619047619,0.981308411214953,0.987432675044883,0.986538461538462,0.994690265486726,0.993031358885017,0.992438563327032,0.988505747126437,0.99250936329588,0.992700729927007,0.992687385740402,0.987762237762238,0.992700729927007,0.990421455938697,0.988394584139265,0.99469964664311,0.990476190476191,0.988785046728972,0.991212653778559,0.994495412844037,0.990366088631985,0.987544483985765,0.994219653179191,0.996031746031746],\"fFunctions\":{\"_typename\":\"TList\",\"name\":\"TList\",\"arr\":[],\"opt\":[]},\"fHistogram\":{\"_typename\":\"TH1F\",\"fUniqueID\":0,\"fBits\":50332160,\"fName\":\"269857\",\"fTitle\":\"\",\"fLineColor\":602,\"fLineStyle\":1,\"fLineWidth\":1,\"fFillColor\":0,\"fFillStyle\":1001,\"fMarkerColor\":1,\"fMarkerStyle\":1,\"fMarkerSize\":1,\"fNcells\":102,\"fXaxis\":{\"_typename\":\"TAxis\",\"fUniqueID\":0,\"fBits\":50331656,\"fName\":\"xaxis\",\"fTitle\":\" p_{T}^{GEN} [GeV]\",\"fNdivisions\":510,\"fAxisColor\":1,\"fLabelColor\":1,\"fLabelFont\":42,\"fLabelOffset\":0.005,\"fLabelSize\":0.035,\"fTickLength\":0.03,\"fTitleOffset\":1.4,\"fTitleSize\":0.035,\"fTitleColor\":1,\"fTitleFont\":42,\"fNbins\":100,\"fXmin\":0,\"fXmax\":109.8,\"fXbins\":[],\"fFirst\":0,\"fLast\":0,\"fBits2\":0,\"fTimeDisplay\":false,\"fTimeFormat\":\"\",\"fLabels\":null,\"fModLabs\":null},\"fYaxis\":{\"_typename\":\"TAxis\",\"fUniqueID\":0,\"fBits\":50331656,\"fName\":\"yaxis\",\"fTitle\":\"efficiency\",\"fNdivisions\":510,\"fAxisColor\":1,\"fLabelColor\":1,\"fLabelFont\":42,\"fLabelOffset\":0.005,\"fLabelSize\":0.035,\"fTickLength\":0.03,\"fTitleOffset\":0,\"fTitleSize\":0.035,\"fTitleColor\":1,\"fTitleFont\":42,\"fNbins\":1,\"fXmin\":0,\"fXmax\":1.09845390889711,\"fXbins\":[],\"fFirst\":0,\"fLast\":0,\"fBits2\":0,\"fTimeDisplay\":false,\"fTimeFormat\":\"\",\"fLabels\":null,\"fModLabs\":null},\"fZaxis\":{\"_typename\":\"TAxis\",\"fUniqueID\":0,\"fBits\":50331648,\"fName\":\"zaxis\",\"fTitle\":\"\",\"fNdivisions\":510,\"fAxisColor\":1,\"fLabelColor\":1,\"fLabelFont\":42,\"fLabelOffset\":0.005,\"fLabelSize\":0.035,\"fTickLength\":0.03,\"fTitleOffset\":1,\"fTitleSize\":0.035,\"fTitleColor\":1,\"fTitleFont\":42,\"fNbins\":1,\"fXmin\":0,\"fXmax\":1,\"fXbins\":[],\"fFirst\":0,\"fLast\":0,\"fBits2\":0,\"fTimeDisplay\":false,\"fTimeFormat\":\"\",\"fLabels\":null,\"fModLabs\":null},\"fBarOffset\":0,\"fBarWidth\":1000,\"fEntries\":0,\"fTsumw\":0,\"fTsumw2\":0,\"fTsumwx\":0,\"fTsumwx2\":0,\"fMaximum\":1.1,\"fMinimum\":0,\"fNormFactor\":0,\"fContour\":[],\"fSumw2\":[],\"fOption\":\"\",\"fFunctions\":{\"_typename\":\"TList\",\"name\":\"TList\",\"arr\":[],\"opt\":[]},\"fBufferSize\":0,\"fBuffer\":[],\"fBinStatErrOpt\":0,\"fStatOverflows\":2,\"fArray\":[0,0,0,0,0,0,0,0,0,0,0,0,0,0,0,0,0,0,0,0,0,0,0,0,0,0,0,0,0,0,0,0,0,0,0,0,0,0,0,0,0,0,0,0,0,0,0,0,0,0,0,0,0,0,0,0,0,0,0,0,0,0,0,0,0,0,0,0,0,0,0,0,0,0,0,0,0,0,0,0,0,0,0,0,0,0,0,0,0,0,0,0,0,0,0,0,0,0,0,0,0,0]},\"fMinimum\":-1111,\"fMaximum\":-1111,\"fEXlow\":[1,1,1,1,1,1,1,1,1,1,1,1,1,1,1,1,1,1,1,1,1,1,1,1,1,1,1,1,1,1,1,1,1,1,1,1,1,1,1,1,1,1,1,1,1,1,1,1,1],\"fEXhigh\":[1,1,1,1,1,1,1,1,1,1,1,1,1,1,1,1,1,1,1,1,1,1,1,1,1,1,1,1,1,1,1,1,1,1,1,1,1,1,1,1,1,1,1,1,1,1,1,1,1],\"fEYlow\":[0,0,0,0,0,0,0,0,0,0.00352873568893718,0.00809469852593761,0.0182246528043328,0.0224439261700444,0.0180768988004381,0.0164947303965466,0.0138854804233322,0.0123713782454677,0.00972871349047788,0.00859120530862012,0.00786912442989385,0.00782583579268781,0.00816710092935524,0.0059737590267116,0.00661389528310796,0.0063747814902555,0.00575608311035847,0.00786912442989385,0.00670344134240519,0.00717542559331075,0.00513789903212891,0.00547565985798459,0.00593828300205068,0.00680218917037967,0.00588305617639773,0.00573374703559981,0.00574416019065893,0.00652932408003815,0.00573374703559981,0.00642781693138983,0.00686735890781165,0.00512886911367827,0.00639138201668865,0.00663839665185484,0.00590081330917869,0.0053254181353003,0.00646466960444314,0.00664437962969699,0.00559067497121168,0.0052097913759015],\"fEYhigh\":[0.00323598815799914,0.00347414329597734,0.00333566138424641,0.0033600127640479,0.00319665655273388,0.00382017233222616,0.00346108068132723,0.00340979796341216,0.00340979796341216,0.00579679848644022,0.00994359012485641,0.019235422831664,0.0220925512282341,0.0169069664268279,0.0151579290572068,0.0120618066890014,0.0107656774079545,0.0079959307060008,0.00670413836519679,0.00578508327678007,0.00575296716111129,0.00578328504273973,0.00383763411696214,0.0044232029311766,0.0043950187236933,0.00323778639817562,0.00578508327678007,0.0046232812056034,0.00495137855572059,0.00288838484084541,0.00333218359763821,0.00361537098487752,0.00455004815934623,0.00358155099289759,0.00349013525328912,0.00349650990708239,0.00450233162526059,0.00349013525328912,0.00413127236781774,0.00459396218123065,0.00288328408766059,0.00410769969703229,0.00443970548563011,0.0037904862517889,0.00299432883481188,0.00415511714886663,0.00458224906380356,0.00314425678130226,0.00256271660198815]},{\"_typename\":\"TLatex\",\"fUniqueID\":0,\"fBits\":50348040,\"fName\":\"\",\"fTitle\":\"EG endcap, 1.52 < |#eta^{GEN}| #leq 2.4, p_{T}^{L1} #geq 25GeV\",\"fTextAngle\":0,\"fTextSize\":0.03,\"fTextAlign\":11,\"fTextColor\":1,\"fTextFont\":62,\"fX\":0.15,\"fY\":0.85,\"fLineColor\":1,\"fLineStyle\":1,\"fLineWidth\":2,\"fLimitFactorSize\":3,\"fOriginSize\":0.0299999993294477},{\"_typename\":\"TLatex\",\"fUniqueID\":0,\"fBits\":50348041,\"fName\":\"\",\"fTitle\":\"#scale[1.5]{CMS} #scale[1.]{Phase-2 Simulation}\",\"fTextAngle\":0,\"fTextSize\":0.03,\"fTextAlign\":11,\"fTextColor\":1,\"fTextFont\":62,\"fX\":0.13,\"fY\":0.91,\"fLineColor\":1,\"fLineStyle\":1,\"fLineWidth\":2,\"fLimitFactorSize\":3,\"fOriginSize\":0.0299999993294477},{\"_typename\":\"TLatex\",\"fUniqueID\":0,\"fBits\":50348041,\"fName\":\"\",\"fTitle\":\"14TeV, 200 PU\",\"fTextAngle\":0,\"fTextSize\":0.03,\"fTextAlign\":11,\"fTextColor\":1,\"fTextFont\":62,\"fX\":0.69,\"fY\":0.91,\"fLineColor\":1,\"fLineStyle\":1,\"fLineWidth\":2,\"fLimitFactorSize\":3,\"fOriginSize\":0.0299999993294477},{\"_typename\":\"TLatex\",\"fUniqueID\":0,\"fBits\":50331656,\"fName\":\"\",\"fTitle\":\"\",\"fTextAngle\":0,\"fTextSize\":0.03,\"fTextAlign\":11,\"fTextColor\":1,\"fTextFont\":62,\"fX\":0,\"fY\":0,\"fLineColor\":1,\"fLineStyle\":1,\"fLineWidth\":2,\"fLimitFactorSize\":3,\"fOriginSize\":0.04},{\"_typename\":\"TLine\",\"fUniqueID\":0,\"fBits\":50331656,\"fLineColor\":1,\"fLineStyle\":2,\"fLineWidth\":1,\"fX1\":0,\"fY1\":0.95,\"fX2\":109.8,\"fY2\":0.95},{\"_typename\":\"TLine\",\"fUniqueID\":0,\"fBits\":50331656,\"fLineColor\":1,\"fLineStyle\":2,\"fLineWidth\":1,\"fX1\":0,\"fY1\":1,\"fX2\":109.8,\"fY2\":1}],\"opt\":[\"\",\"pa\",\"same\",\"\",\"\",\"same\",\"same\",\"same\"]},\"fExecs\":null,\"fName\":\"c_e1121f\",\"fTitle\":\"c_e1121f\",\"fNumPaletteColor\":0,\"fNextPaletteColor\":0,\"fDISPLAY\":\"$DISPLAY\",\"fDoubleBuffer\":0,\"fRetained\":true,\"fXsizeUser\":0,\"fYsizeUser\":0,\"fXsizeReal\":20,\"fYsizeReal\":20,\"fWindowTopX\":0,\"fWindowTopY\":0,\"fWindowWidth\":0,\"fWindowHeight\":0,\"fCw\":596,\"fCh\":572,\"fCatt\":{\"_typename\":\"TAttCanvas\",\"fXBetween\":2,\"fYBetween\":2,\"fTitleFromTop\":1.2,\"fXdate\":0.2,\"fYdate\":0.3,\"fAdate\":1},\"kMoveOpaque\":true,\"kResizeOpaque\":true,\"fHighLightColor\":2,\"fBatch\":true,\"kShowEventStatus\":false,\"kAutoExec\":true,\"kMenuBar\":true});\n",
       "       Core.draw(\"root_plot_18\", obj, \"\");\n",
       "     }\n",
       " );\n",
       "</script>\n"
      ],
      "text/plain": [
       "<IPython.core.display.HTML object>"
      ]
     },
     "metadata": {},
     "output_type": "display_data"
    },
    {
     "data": {
      "text/html": [
       "\n",
       "<div id=\"root_plot_19\"\n",
       "     style=\"width: 596px; height: 572px\">\n",
       "</div>\n",
       "\n",
       "<script>\n",
       " requirejs.config({\n",
       "     paths: {\n",
       "       'JSRootCore' : 'https://root.cern.ch/js/notebook//scripts/JSRootCore',\n",
       "     }\n",
       "   });\n",
       " require(['JSRootCore'],\n",
       "     function(Core) {\n",
       "       var obj = Core.JSONR_unref({\"_typename\":\"TCanvas\",\"fUniqueID\":0,\"fBits\":53673992,\"fLineColor\":1,\"fLineStyle\":1,\"fLineWidth\":1,\"fFillColor\":0,\"fFillStyle\":1001,\"fLeftMargin\":0.13,\"fRightMargin\":0.13,\"fBottomMargin\":0.13,\"fTopMargin\":0.1,\"fXfile\":2,\"fYfile\":2,\"fAfile\":1,\"fXstat\":0.99,\"fYstat\":0.99,\"fAstat\":2,\"fFrameFillColor\":0,\"fFrameLineColor\":1,\"fFrameFillStyle\":1001,\"fFrameLineStyle\":1,\"fFrameLineWidth\":1,\"fFrameBorderSize\":1,\"fFrameBorderMode\":0,\"fX1\":-19.2891882330767,\"fY1\":-0.185714283502611,\"fX2\":129.089188233077,\"fY2\":1.24285714852456,\"fXtoAbsPixelk\":77.4800471580505,\"fXtoPixelk\":77.4800471580505,\"fXtoPixel\":4.01675779311383,\"fYtoAbsPixelk\":497.640051065433,\"fYtoPixelk\":497.640051065433,\"fYtoPixel\":-400.399999031424,\"fUtoAbsPixelk\":5e-5,\"fUtoPixelk\":5e-5,\"fUtoPixel\":596,\"fVtoAbsPixelk\":572.00005,\"fVtoPixelk\":572,\"fVtoPixel\":-572,\"fAbsPixeltoXk\":-19.2891882330767,\"fPixeltoXk\":-19.2891882330767,\"fPixeltoX\":0.248957007493546,\"fAbsPixeltoYk\":1.24285714852456,\"fPixeltoYk\":-0.185714283502611,\"fPixeltoY\":-0.00249750250354401,\"fXlowNDC\":0,\"fYlowNDC\":0,\"fXUpNDC\":0,\"fYUpNDC\":0,\"fWNDC\":1,\"fHNDC\":1,\"fAbsXlowNDC\":0,\"fAbsYlowNDC\":0,\"fAbsWNDC\":1,\"fAbsHNDC\":1,\"fUxmin\":0,\"fUymin\":0,\"fUxmax\":109.8,\"fUymax\":1.1,\"fTheta\":30,\"fPhi\":30,\"fAspectRatio\":0,\"fNumber\":0,\"fTickx\":0,\"fTicky\":0,\"fLogx\":0,\"fLogy\":0,\"fLogz\":0,\"fPadPaint\":0,\"fCrosshair\":0,\"fCrosshairPos\":0,\"fBorderSize\":2,\"fBorderMode\":0,\"fModified\":false,\"fGridx\":false,\"fGridy\":false,\"fAbsCoord\":false,\"fEditable\":true,\"fFixedAspectRatio\":false,\"fPrimitives\":{\"_typename\":\"TList\",\"name\":\"TList\",\"arr\":[{\"_typename\":\"TFrame\",\"fUniqueID\":0,\"fBits\":50331656,\"fLineColor\":1,\"fLineStyle\":1,\"fLineWidth\":1,\"fFillColor\":0,\"fFillStyle\":1001,\"fX1\":0,\"fY1\":0,\"fX2\":109.8,\"fY2\":1.1,\"fBorderSize\":1,\"fBorderMode\":0},{\"_typename\":\"TGraphAsymmErrors\",\"fUniqueID\":0,\"fBits\":50332680,\"fName\":\"dac5e0\",\"fTitle\":\"; p_{T}^{GEN} [GeV];\",\"fLineColor\":1,\"fLineStyle\":1,\"fLineWidth\":1,\"fFillColor\":0,\"fFillStyle\":1001,\"fMarkerColor\":1,\"fMarkerStyle\":8,\"fMarkerSize\":0.5,\"fNpoints\":49,\"fX\":[3,5,7,9,11,13,15,17,19,21,23,25,27,29,31,33,35,37,39,41,43,45,47,49,51,53,55,57,59,61,63,65,67,69,71,73,75,77,79,81,83,85,87,89,91,93,95,97,99],\"fY\":[0,0,0,0,0,0,0,0,0.00275482093663912,0.0117994100294985,0.150306748466258,0.347457627118644,0.492711370262391,0.601092896174863,0.693931398416887,0.688202247191011,0.750778816199377,0.799450549450549,0.829333333333333,0.844311377245509,0.882716049382716,0.905555555555556,0.893175074183976,0.94017094017094,0.925501432664756,0.936416184971098,0.956521739130435,0.950310559006211,0.959537572254335,0.949253731343284,0.954407294832827,0.964601769911504,0.958702064896755,0.976261127596439,0.985163204747775,0.977464788732394,0.964391691394659,0.956923076923077,0.969325153374233,0.977777777777778,0.982248520710059,0.975757575757576,0.984756097560976,0.96319018404908,0.978328173374613,0.979651162790698,0.980716253443526,0.982195845697329,0.978260869565217],\"fFunctions\":{\"_typename\":\"TList\",\"name\":\"TList\",\"arr\":[],\"opt\":[]},\"fHistogram\":{\"_typename\":\"TH1F\",\"fUniqueID\":0,\"fBits\":50332160,\"fName\":\"dac5e0\",\"fTitle\":\"\",\"fLineColor\":602,\"fLineStyle\":1,\"fLineWidth\":1,\"fFillColor\":0,\"fFillStyle\":1001,\"fMarkerColor\":1,\"fMarkerStyle\":1,\"fMarkerSize\":1,\"fNcells\":102,\"fXaxis\":{\"_typename\":\"TAxis\",\"fUniqueID\":0,\"fBits\":50331656,\"fName\":\"xaxis\",\"fTitle\":\" p_{T}^{GEN} [GeV]\",\"fNdivisions\":510,\"fAxisColor\":1,\"fLabelColor\":1,\"fLabelFont\":42,\"fLabelOffset\":0.005,\"fLabelSize\":0.035,\"fTickLength\":0.03,\"fTitleOffset\":1.4,\"fTitleSize\":0.035,\"fTitleColor\":1,\"fTitleFont\":42,\"fNbins\":100,\"fXmin\":0,\"fXmax\":109.8,\"fXbins\":[],\"fFirst\":0,\"fLast\":0,\"fBits2\":0,\"fTimeDisplay\":false,\"fTimeFormat\":\"\",\"fLabels\":null,\"fModLabs\":null},\"fYaxis\":{\"_typename\":\"TAxis\",\"fUniqueID\":0,\"fBits\":50331656,\"fName\":\"yaxis\",\"fTitle\":\"efficiency\",\"fNdivisions\":510,\"fAxisColor\":1,\"fLabelColor\":1,\"fLabelFont\":42,\"fLabelOffset\":0.005,\"fLabelSize\":0.035,\"fTickLength\":0.03,\"fTitleOffset\":0,\"fTitleSize\":0.035,\"fTitleColor\":1,\"fTitleFont\":42,\"fNbins\":1,\"fXmin\":0,\"fXmax\":1.09071291684216,\"fXbins\":[],\"fFirst\":0,\"fLast\":0,\"fBits2\":0,\"fTimeDisplay\":false,\"fTimeFormat\":\"\",\"fLabels\":null,\"fModLabs\":null},\"fZaxis\":{\"_typename\":\"TAxis\",\"fUniqueID\":0,\"fBits\":50331648,\"fName\":\"zaxis\",\"fTitle\":\"\",\"fNdivisions\":510,\"fAxisColor\":1,\"fLabelColor\":1,\"fLabelFont\":42,\"fLabelOffset\":0.005,\"fLabelSize\":0.035,\"fTickLength\":0.03,\"fTitleOffset\":1,\"fTitleSize\":0.035,\"fTitleColor\":1,\"fTitleFont\":42,\"fNbins\":1,\"fXmin\":0,\"fXmax\":1,\"fXbins\":[],\"fFirst\":0,\"fLast\":0,\"fBits2\":0,\"fTimeDisplay\":false,\"fTimeFormat\":\"\",\"fLabels\":null,\"fModLabs\":null},\"fBarOffset\":0,\"fBarWidth\":1000,\"fEntries\":0,\"fTsumw\":0,\"fTsumw2\":0,\"fTsumwx\":0,\"fTsumwx2\":0,\"fMaximum\":1.1,\"fMinimum\":0,\"fNormFactor\":0,\"fContour\":[],\"fSumw2\":[],\"fOption\":\"\",\"fFunctions\":{\"_typename\":\"TList\",\"name\":\"TList\",\"arr\":[],\"opt\":[]},\"fBufferSize\":0,\"fBuffer\":[],\"fBinStatErrOpt\":0,\"fStatOverflows\":2,\"fArray\":[0,0,0,0,0,0,0,0,0,0,0,0,0,0,0,0,0,0,0,0,0,0,0,0,0,0,0,0,0,0,0,0,0,0,0,0,0,0,0,0,0,0,0,0,0,0,0,0,0,0,0,0,0,0,0,0,0,0,0,0,0,0,0,0,0,0,0,0,0,0,0,0,0,0,0,0,0,0,0,0,0,0,0,0,0,0,0,0,0,0,0,0,0,0,0,0,0,0,0,0,0,0]},\"fMinimum\":-1111,\"fMaximum\":-1111,\"fEXlow\":[1,1,1,1,1,1,1,1,1,1,1,1,1,1,1,1,1,1,1,1,1,1,1,1,1,1,1,1,1,1,1,1,1,1,1,1,1,1,1,1,1,1,1,1,1,1,1,1,1],\"fEXhigh\":[1,1,1,1,1,1,1,1,1,1,1,1,1,1,1,1,1,1,1,1,1,1,1,1,1,1,1,1,1,1,1,1,1,1,1,1,1,1,1,1,1,1,1,1,1,1,1,1,1],\"fEYlow\":[0,0,0,0,0,0,0,0,0.00227902843447012,0.00563868182268865,0.0201571099024403,0.0262286727206699,0.0283863188973074,0.027214466578145,0.0255002009811601,0.026478723065404,0.0264967474640808,0.0232139134375213,0.0216816771622468,0.0224254319075866,0.0206926955389531,0.0180298888685686,0.0195744531340352,0.0154948985609262,0.0168397832073267,0.0159774282122725,0.0139554223082989,0.0152661669345531,0.0135791570225693,0.0150155804699138,0.0146126929708272,0.0131212261324671,0.013851477497087,0.0114989561259737,0.00991222574856199,0.010925917952653,0.0131971229955826,0.0144302170129612,0.0128017742226431,0.0107767350202296,0.0104521638457454,0.0117383692051509,0.0101806908531997,0.0136307527477971,0.0114779690932254,0.0107884473728264,0.0102322827309236,0.010482731721816,0.0115130079590539],\"fEYhigh\":[0.00474586450043964,0.00484579795318904,0.00535303123562458,0.00482042210176742,0.00543200262898905,0.00535303123562458,0.00514364927367045,0.00540013610368612,0.00630604021377593,0.00923116814839481,0.0224643763017731,0.0271369845859326,0.0284310311117557,0.0266335581063207,0.0244215589529441,0.0253628801039247,0.0248366800133946,0.0214638544730472,0.0198077418583893,0.0202121649481531,0.018131095811223,0.0155778432899575,0.0170398569992303,0.0127092804668573,0.0141574068648036,0.0131816988461159,0.0109648093713403,0.0121164890165847,0.010565792561439,0.0120050312404092,0.0114910622532727,0.0099831504146195,0.0107814467202618,0.00817369778775467,0.00639399238146621,0.00776125189018051,0.0100418449129482,0.0112402793400785,0.00946672448952679,0.00765396801576013,0.00701920306125936,0.00834618078174731,0.00656902358723865,0.0103774108182004,0.00795840074377863,0.00747451886179784,0.00708477748675151,0.00703996558496134,0.007983010198782]},{\"_typename\":\"TLatex\",\"fUniqueID\":0,\"fBits\":50348040,\"fName\":\"\",\"fTitle\":\"EG endcap, 2.4 < |#eta^{GEN}| #leq 3.0, p_{T}^{L1} #geq 25GeV\",\"fTextAngle\":0,\"fTextSize\":0.03,\"fTextAlign\":11,\"fTextColor\":1,\"fTextFont\":62,\"fX\":0.15,\"fY\":0.85,\"fLineColor\":1,\"fLineStyle\":1,\"fLineWidth\":2,\"fLimitFactorSize\":3,\"fOriginSize\":0.0299999993294477},{\"_typename\":\"TLatex\",\"fUniqueID\":0,\"fBits\":50348041,\"fName\":\"\",\"fTitle\":\"#scale[1.5]{CMS} #scale[1.]{Phase-2 Simulation}\",\"fTextAngle\":0,\"fTextSize\":0.03,\"fTextAlign\":11,\"fTextColor\":1,\"fTextFont\":62,\"fX\":0.13,\"fY\":0.91,\"fLineColor\":1,\"fLineStyle\":1,\"fLineWidth\":2,\"fLimitFactorSize\":3,\"fOriginSize\":0.0299999993294477},{\"_typename\":\"TLatex\",\"fUniqueID\":0,\"fBits\":50348041,\"fName\":\"\",\"fTitle\":\"14TeV, 200 PU\",\"fTextAngle\":0,\"fTextSize\":0.03,\"fTextAlign\":11,\"fTextColor\":1,\"fTextFont\":62,\"fX\":0.69,\"fY\":0.91,\"fLineColor\":1,\"fLineStyle\":1,\"fLineWidth\":2,\"fLimitFactorSize\":3,\"fOriginSize\":0.0299999993294477},{\"_typename\":\"TLatex\",\"fUniqueID\":0,\"fBits\":50331656,\"fName\":\"\",\"fTitle\":\"\",\"fTextAngle\":0,\"fTextSize\":0.03,\"fTextAlign\":11,\"fTextColor\":1,\"fTextFont\":62,\"fX\":0,\"fY\":0,\"fLineColor\":1,\"fLineStyle\":1,\"fLineWidth\":2,\"fLimitFactorSize\":3,\"fOriginSize\":0.04},{\"_typename\":\"TLine\",\"fUniqueID\":0,\"fBits\":50331656,\"fLineColor\":1,\"fLineStyle\":2,\"fLineWidth\":1,\"fX1\":0,\"fY1\":0.95,\"fX2\":109.8,\"fY2\":0.95},{\"_typename\":\"TLine\",\"fUniqueID\":0,\"fBits\":50331656,\"fLineColor\":1,\"fLineStyle\":2,\"fLineWidth\":1,\"fX1\":0,\"fY1\":1,\"fX2\":109.8,\"fY2\":1}],\"opt\":[\"\",\"pa\",\"same\",\"\",\"\",\"same\",\"same\",\"same\"]},\"fExecs\":null,\"fName\":\"c_4d3970\",\"fTitle\":\"c_4d3970\",\"fNumPaletteColor\":0,\"fNextPaletteColor\":0,\"fDISPLAY\":\"$DISPLAY\",\"fDoubleBuffer\":0,\"fRetained\":true,\"fXsizeUser\":0,\"fYsizeUser\":0,\"fXsizeReal\":20,\"fYsizeReal\":20,\"fWindowTopX\":0,\"fWindowTopY\":0,\"fWindowWidth\":0,\"fWindowHeight\":0,\"fCw\":596,\"fCh\":572,\"fCatt\":{\"_typename\":\"TAttCanvas\",\"fXBetween\":2,\"fYBetween\":2,\"fTitleFromTop\":1.2,\"fXdate\":0.2,\"fYdate\":0.3,\"fAdate\":1},\"kMoveOpaque\":true,\"kResizeOpaque\":true,\"fHighLightColor\":2,\"fBatch\":true,\"kShowEventStatus\":false,\"kAutoExec\":true,\"kMenuBar\":true});\n",
       "       Core.draw(\"root_plot_19\", obj, \"\");\n",
       "     }\n",
       " );\n",
       "</script>\n"
      ],
      "text/plain": [
       "<IPython.core.display.HTML object>"
      ]
     },
     "metadata": {},
     "output_type": "display_data"
    }
   ],
   "source": [
    "hsets, labels, text = hplot.get_histo(histos.HistoSetEff, sample, ['PU200'], 'EG', 'EGq5Pt25', 'GENEtaBC', debug=False)\n",
    "text_forprint = 'EG endcap, 1.52 < |#eta^{GEN}| #leq 2.4, p_{T}^{L1} #geq 25GeV'\n",
    "print dir(hsets[0].h_eff)\n",
    "draw([his.h_eff.h_pt.CreateGraph() for his in hsets], labels, text=text_forprint, \n",
    "     min_y=0, max_y=1.1, y_axis_label='efficiency', h_lines=[0.95, 1],\n",
    "     do_write=True, write_name='figs/egammaEndcap_EG_EGq5Pt25_GENEtaBC_hEffvPt')\n",
    "\n",
    "\n",
    "\n",
    "hsets, labels, text = hplot.get_histo(histos.HistoSetEff, sample, ['PU200'], 'EG', 'EGq5Pt25', ['GENEtaDE'])\n",
    "print labels\n",
    "text_forprint = 'EG endcap, 2.4 < |#eta^{GEN}| #leq 3.0, p_{T}^{L1} #geq 25GeV'\n",
    "draw([his.h_eff.h_pt.CreateGraph() for his in hsets], labels, text=text_forprint, \n",
    "     min_y=0, max_y=1.1, y_axis_label='efficiency', h_lines=[0.95, 1],\n",
    "     do_write=True, write_name='figs/egammaEndcap_EG_EGq5Pt25_GENEtaDE_hEffvPt')\n"
   ]
  },
  {
   "cell_type": "code",
   "execution_count": 40,
   "metadata": {},
   "outputs": [
    {
     "name": "stdout",
     "output_type": "stream",
     "text": [
      "['__doc__', '__init__', '__module__', 'h_abseta', 'h_energy', 'h_eta', 'h_fBrem', 'h_pt', 'h_reachedEE']\n",
      "['']\n"
     ]
    },
    {
     "data": {
      "text/plain": [
       "<drawingTools.DrawMachine at 0x1233bbf10>"
      ]
     },
     "execution_count": 40,
     "metadata": {},
     "output_type": "execute_result"
    },
    {
     "data": {
      "text/html": [
       "\n",
       "<div id=\"root_plot_20\"\n",
       "     style=\"width: 796px; height: 572px\">\n",
       "</div>\n",
       "\n",
       "<script>\n",
       " requirejs.config({\n",
       "     paths: {\n",
       "       'JSRootCore' : 'https://root.cern.ch/js/notebook//scripts/JSRootCore',\n",
       "     }\n",
       "   });\n",
       " require(['JSRootCore'],\n",
       "     function(Core) {\n",
       "       var obj = Core.JSONR_unref({\"_typename\":\"TCanvas\",\"fUniqueID\":0,\"fBits\":53673992,\"fLineColor\":1,\"fLineStyle\":1,\"fLineWidth\":1,\"fFillColor\":0,\"fFillStyle\":1001,\"fLeftMargin\":0.13,\"fRightMargin\":0.3,\"fBottomMargin\":0.13,\"fTopMargin\":0.1,\"fXfile\":2,\"fYfile\":2,\"fAfile\":1,\"fXstat\":0.99,\"fYstat\":0.99,\"fAstat\":2,\"fFrameFillColor\":0,\"fFrameLineColor\":1,\"fFrameFillStyle\":1001,\"fFrameLineStyle\":1,\"fFrameLineWidth\":1,\"fFrameBorderSize\":1,\"fFrameBorderMode\":0,\"fX1\":-25.0421046588559,\"fY1\":-0.185714283502611,\"fX2\":167.58947670572,\"fY2\":1.24285714852456,\"fXtoAbsPixelk\":103.480046204376,\"fXtoPixelk\":103.480046204376,\"fXtoPixel\":4.13224038530569,\"fYtoAbsPixelk\":497.640051065433,\"fYtoPixelk\":497.640051065433,\"fYtoPixel\":-400.399999031424,\"fUtoAbsPixelk\":5e-5,\"fUtoPixelk\":5e-5,\"fUtoPixel\":796,\"fVtoAbsPixelk\":572.00005,\"fVtoPixelk\":572,\"fVtoPixel\":-572,\"fAbsPixeltoXk\":-25.0421046588559,\"fPixeltoXk\":-25.0421046588559,\"fPixeltoX\":0.241999474076101,\"fAbsPixeltoYk\":1.24285714852456,\"fPixeltoYk\":-0.185714283502611,\"fPixeltoY\":-0.00249750250354401,\"fXlowNDC\":0,\"fYlowNDC\":0,\"fXUpNDC\":0,\"fYUpNDC\":0,\"fWNDC\":1,\"fHNDC\":1,\"fAbsXlowNDC\":0,\"fAbsYlowNDC\":0,\"fAbsWNDC\":1,\"fAbsHNDC\":1,\"fUxmin\":0,\"fUymin\":0,\"fUxmax\":109.8,\"fUymax\":1.1,\"fTheta\":30,\"fPhi\":30,\"fAspectRatio\":0,\"fNumber\":0,\"fTickx\":0,\"fTicky\":0,\"fLogx\":0,\"fLogy\":0,\"fLogz\":0,\"fPadPaint\":0,\"fCrosshair\":0,\"fCrosshairPos\":0,\"fBorderSize\":2,\"fBorderMode\":0,\"fModified\":false,\"fGridx\":false,\"fGridy\":false,\"fAbsCoord\":false,\"fEditable\":true,\"fFixedAspectRatio\":false,\"fPrimitives\":{\"_typename\":\"TList\",\"name\":\"TList\",\"arr\":[{\"_typename\":\"TFrame\",\"fUniqueID\":0,\"fBits\":50331656,\"fLineColor\":1,\"fLineStyle\":1,\"fLineWidth\":1,\"fFillColor\":0,\"fFillStyle\":1001,\"fX1\":0,\"fY1\":0,\"fX2\":109.8,\"fY2\":1.1,\"fBorderSize\":1,\"fBorderMode\":0},{\"_typename\":\"TGraphAsymmErrors\",\"fUniqueID\":0,\"fBits\":50332680,\"fName\":\"cf0d93\",\"fTitle\":\"; p_{T}^{GEN} [GeV];\",\"fLineColor\":1,\"fLineStyle\":1,\"fLineWidth\":1,\"fFillColor\":0,\"fFillStyle\":1001,\"fMarkerColor\":1,\"fMarkerStyle\":8,\"fMarkerSize\":0.5,\"fNpoints\":49,\"fX\":[3,5,7,9,11,13,15,17,19,21,23,25,27,29,31,33,35,37,39,41,43,45,47,49,51,53,55,57,59,61,63,65,67,69,71,73,75,77,79,81,83,85,87,89,91,93,95,97,99],\"fY\":[0.290492957746479,0.434782608695652,0.578947368421053,0.720292504570384,0.786086956521739,0.841995841995842,0.896421845574388,0.866419294990724,0.894248608534323,0.948339483394834,0.935135135135135,0.946236559139785,0.941619585687382,0.96415770609319,0.964285714285714,0.976047904191617,0.961871750433276,0.982993197278912,0.985890652557319,0.985046728971963,0.983271375464684,0.989517819706499,0.994661921708185,0.990689013035382,0.991467576791809,0.998015873015873,0.981308411214953,0.987432675044883,0.990384615384615,0.994690265486726,0.993031358885017,0.992438563327032,0.992337164750958,0.99250936329588,0.992700729927007,0.992687385740402,0.991258741258741,0.994525547445255,0.992337164750958,0.988394584139265,0.996466431095406,0.990476190476191,0.988785046728972,0.992970123022847,0.996330275229358,0.992292870905588,0.98932384341637,0.994219653179191,0.996031746031746],\"fFunctions\":{\"_typename\":\"TList\",\"name\":\"TList\",\"arr\":[],\"opt\":[]},\"fHistogram\":{\"_typename\":\"TH1F\",\"fUniqueID\":0,\"fBits\":50332160,\"fName\":\"cf0d93\",\"fTitle\":\"\",\"fLineColor\":602,\"fLineStyle\":1,\"fLineWidth\":1,\"fFillColor\":0,\"fFillStyle\":1001,\"fMarkerColor\":1,\"fMarkerStyle\":1,\"fMarkerSize\":1,\"fNcells\":102,\"fXaxis\":{\"_typename\":\"TAxis\",\"fUniqueID\":0,\"fBits\":50331656,\"fName\":\"xaxis\",\"fTitle\":\" p_{T}^{GEN} [GeV]\",\"fNdivisions\":510,\"fAxisColor\":1,\"fLabelColor\":1,\"fLabelFont\":42,\"fLabelOffset\":0.005,\"fLabelSize\":0.035,\"fTickLength\":0.03,\"fTitleOffset\":1.4,\"fTitleSize\":0.035,\"fTitleColor\":1,\"fTitleFont\":42,\"fNbins\":100,\"fXmin\":0,\"fXmax\":109.8,\"fXbins\":[],\"fFirst\":0,\"fLast\":0,\"fBits2\":0,\"fTimeDisplay\":false,\"fTimeFormat\":\"\",\"fLabels\":null,\"fModLabs\":null},\"fYaxis\":{\"_typename\":\"TAxis\",\"fUniqueID\":0,\"fBits\":50331656,\"fName\":\"yaxis\",\"fTitle\":\"efficiency\",\"fNdivisions\":510,\"fAxisColor\":1,\"fLabelColor\":1,\"fLabelFont\":42,\"fLabelOffset\":0.005,\"fLabelSize\":0.035,\"fTickLength\":0.03,\"fTitleOffset\":0,\"fTitleSize\":0.035,\"fTitleColor\":1,\"fTitleFont\":42,\"fNbins\":1,\"fXmin\":0.198095910984591,\"fXmax\":1.07252650987717,\"fXbins\":[],\"fFirst\":0,\"fLast\":0,\"fBits2\":0,\"fTimeDisplay\":false,\"fTimeFormat\":\"\",\"fLabels\":null,\"fModLabs\":null},\"fZaxis\":{\"_typename\":\"TAxis\",\"fUniqueID\":0,\"fBits\":50331648,\"fName\":\"zaxis\",\"fTitle\":\"\",\"fNdivisions\":510,\"fAxisColor\":1,\"fLabelColor\":1,\"fLabelFont\":42,\"fLabelOffset\":0.005,\"fLabelSize\":0.035,\"fTickLength\":0.03,\"fTitleOffset\":1,\"fTitleSize\":0.035,\"fTitleColor\":1,\"fTitleFont\":42,\"fNbins\":1,\"fXmin\":0,\"fXmax\":1,\"fXbins\":[],\"fFirst\":0,\"fLast\":0,\"fBits2\":0,\"fTimeDisplay\":false,\"fTimeFormat\":\"\",\"fLabels\":null,\"fModLabs\":null},\"fBarOffset\":0,\"fBarWidth\":1000,\"fEntries\":0,\"fTsumw\":0,\"fTsumw2\":0,\"fTsumwx\":0,\"fTsumwx2\":0,\"fMaximum\":1.1,\"fMinimum\":0,\"fNormFactor\":0,\"fContour\":[],\"fSumw2\":[],\"fOption\":\"\",\"fFunctions\":{\"_typename\":\"TList\",\"name\":\"TList\",\"arr\":[],\"opt\":[]},\"fBufferSize\":0,\"fBuffer\":[],\"fBinStatErrOpt\":0,\"fStatOverflows\":2,\"fArray\":[0,0,0,0,0,0,0,0,0,0,0,0,0,0,0,0,0,0,0,0,0,0,0,0,0,0,0,0,0,0,0,0,0,0,0,0,0,0,0,0,0,0,0,0,0,0,0,0,0,0,0,0,0,0,0,0,0,0,0,0,0,0,0,0,0,0,0,0,0,0,0,0,0,0,0,0,0,0,0,0,0,0,0,0,0,0,0,0,0,0,0,0,0,0,0,0,0,0,0,0,0,0]},\"fMinimum\":-1111,\"fMaximum\":-1111,\"fEXlow\":[1,1,1,1,1,1,1,1,1,1,1,1,1,1,1,1,1,1,1,1,1,1,1,1,1,1,1,1,1,1,1,1,1,1,1,1,1,1,1,1,1,1,1,1,1,1,1,1,1],\"fEXhigh\":[1,1,1,1,1,1,1,1,1,1,1,1,1,1,1,1,1,1,1,1,1,1,1,1,1,1,1,1,1,1,1,1,1,1,1,1,1,1,1,1,1,1,1,1,1,1,1,1,1],\"fEYlow\":[0.0195278301875064,0.0223481088973984,0.022069827084234,0.0205107551363187,0.0184811932255701,0.0184155169396187,0.0149635283935781,0.0162982976672592,0.014954566152409,0.0113495777559504,0.0122142418533392,0.0113300843507541,0.0120350328322086,0.0097113972722509,0.00967753108377634,0.00895069920535507,0.0097435766898587,0.00716857595231624,0.00688458357276023,0.00729171966223652,0.00754660914203298,0.00702884599948417,0.00516518057333282,0.00624968102958523,0.00573086223217678,0.00454763534594038,0.00786912442989385,0.00670344134240519,0.00645233851985494,0.00513789903212891,0.00547565985798459,0.00593828300205068,0.00601736563030197,0.00588305617639773,0.00573374703559981,0.00574416019065893,0.00587009334272792,0.005296422442433,0.00601736563030197,0.00686735890781165,0.00464145198644805,0.00639138201668865,0.00663839665185484,0.0055234719032724,0.00481953421576364,0.00605190665932809,0.00632221430944579,0.00559067497121168,0.0052097913759015],\"fEYhigh\":[0.020298784455073,0.0226051872501191,0.0217712412499913,0.0196678846645718,0.0174366142357644,0.0169065043749856,0.0133658445976805,0.0148541884538274,0.0133909176367787,0.0095365091373083,0.0105127743159102,0.009582299609322,0.0102196559317863,0.00786012462158081,0.00783236590713343,0.00677523472281527,0.00797027998846067,0.00526574816408987,0.00486804990551581,0.0051583008378957,0.00545065690208457,0.00452038609978722,0.00290379596154822,0.00401603903844561,0.00368066761085151,0.00164142028691694,0.00578508327678007,0.0046232812056034,0.00414713836376168,0.00288838484084541,0.00333218359763821,0.00361537098487752,0.0036638063830835,0.00358155099289759,0.00349013525328912,0.00349650990708239,0.00377063280241896,0.002977944488326,0.0036638063830835,0.00459396218123065,0.00228203481058797,0.00410769969703229,0.00443970548563011,0.0033614388501173,0.00236995347711644,0.0036849639847536,0.0042268125228021,0.00314425678130226,0.00256271660198815]},{\"_typename\":\"TLatex\",\"fUniqueID\":0,\"fBits\":50348040,\"fName\":\"\",\"fTitle\":\"EG endcap, 1.52 < |#eta^{GEN}| #leq 2.4, p_{T}^{L1} #geq 25GeV\",\"fTextAngle\":0,\"fTextSize\":0.03,\"fTextAlign\":11,\"fTextColor\":1,\"fTextFont\":62,\"fX\":0.15,\"fY\":0.85,\"fLineColor\":1,\"fLineStyle\":1,\"fLineWidth\":2,\"fLimitFactorSize\":3,\"fOriginSize\":0.04},{\"_typename\":\"TLatex\",\"fUniqueID\":0,\"fBits\":50331656,\"fName\":\"\",\"fTitle\":\"\",\"fTextAngle\":0,\"fTextSize\":0.03,\"fTextAlign\":11,\"fTextColor\":1,\"fTextFont\":62,\"fX\":0,\"fY\":0,\"fLineColor\":1,\"fLineStyle\":1,\"fLineWidth\":2,\"fLimitFactorSize\":3,\"fOriginSize\":0.04},{\"_typename\":\"TLine\",\"fUniqueID\":0,\"fBits\":50331656,\"fLineColor\":1,\"fLineStyle\":2,\"fLineWidth\":1,\"fX1\":0,\"fY1\":0.95,\"fX2\":109.8,\"fY2\":0.95},{\"_typename\":\"TLine\",\"fUniqueID\":0,\"fBits\":50331656,\"fLineColor\":1,\"fLineStyle\":2,\"fLineWidth\":1,\"fX1\":0,\"fY1\":1,\"fX2\":109.8,\"fY2\":1}],\"opt\":[\"\",\"pa\",\"same\",\"same\",\"same\",\"same\"]},\"fExecs\":null,\"fName\":\"c_863f3d\",\"fTitle\":\"c_863f3d\",\"fNumPaletteColor\":0,\"fNextPaletteColor\":0,\"fDISPLAY\":\"$DISPLAY\",\"fDoubleBuffer\":0,\"fRetained\":true,\"fXsizeUser\":0,\"fYsizeUser\":0,\"fXsizeReal\":20,\"fYsizeReal\":15,\"fWindowTopX\":0,\"fWindowTopY\":0,\"fWindowWidth\":0,\"fWindowHeight\":0,\"fCw\":796,\"fCh\":572,\"fCatt\":{\"_typename\":\"TAttCanvas\",\"fXBetween\":2,\"fYBetween\":2,\"fTitleFromTop\":1.2,\"fXdate\":0.2,\"fYdate\":0.3,\"fAdate\":1},\"kMoveOpaque\":true,\"kResizeOpaque\":true,\"fHighLightColor\":2,\"fBatch\":true,\"kShowEventStatus\":false,\"kAutoExec\":true,\"kMenuBar\":true});\n",
       "       Core.draw(\"root_plot_20\", obj, \"\");\n",
       "     }\n",
       " );\n",
       "</script>\n"
      ],
      "text/plain": [
       "<IPython.core.display.HTML object>"
      ]
     },
     "metadata": {},
     "output_type": "display_data"
    },
    {
     "data": {
      "text/html": [
       "\n",
       "<div id=\"root_plot_21\"\n",
       "     style=\"width: 796px; height: 572px\">\n",
       "</div>\n",
       "\n",
       "<script>\n",
       " requirejs.config({\n",
       "     paths: {\n",
       "       'JSRootCore' : 'https://root.cern.ch/js/notebook//scripts/JSRootCore',\n",
       "     }\n",
       "   });\n",
       " require(['JSRootCore'],\n",
       "     function(Core) {\n",
       "       var obj = Core.JSONR_unref({\"_typename\":\"TCanvas\",\"fUniqueID\":0,\"fBits\":53673992,\"fLineColor\":1,\"fLineStyle\":1,\"fLineWidth\":1,\"fFillColor\":0,\"fFillStyle\":1001,\"fLeftMargin\":0.13,\"fRightMargin\":0.3,\"fBottomMargin\":0.13,\"fTopMargin\":0.1,\"fXfile\":2,\"fYfile\":2,\"fAfile\":1,\"fXstat\":0.99,\"fYstat\":0.99,\"fAstat\":2,\"fFrameFillColor\":0,\"fFrameLineColor\":1,\"fFrameFillStyle\":1001,\"fFrameLineStyle\":1,\"fFrameLineWidth\":1,\"fFrameBorderSize\":1,\"fFrameBorderMode\":0,\"fX1\":-25.0421046588559,\"fY1\":-0.185714283502611,\"fX2\":167.58947670572,\"fY2\":1.24285714852456,\"fXtoAbsPixelk\":103.480046204376,\"fXtoPixelk\":103.480046204376,\"fXtoPixel\":4.13224038530569,\"fYtoAbsPixelk\":497.640051065433,\"fYtoPixelk\":497.640051065433,\"fYtoPixel\":-400.399999031424,\"fUtoAbsPixelk\":5e-5,\"fUtoPixelk\":5e-5,\"fUtoPixel\":796,\"fVtoAbsPixelk\":572.00005,\"fVtoPixelk\":572,\"fVtoPixel\":-572,\"fAbsPixeltoXk\":-25.0421046588559,\"fPixeltoXk\":-25.0421046588559,\"fPixeltoX\":0.241999474076101,\"fAbsPixeltoYk\":1.24285714852456,\"fPixeltoYk\":-0.185714283502611,\"fPixeltoY\":-0.00249750250354401,\"fXlowNDC\":0,\"fYlowNDC\":0,\"fXUpNDC\":0,\"fYUpNDC\":0,\"fWNDC\":1,\"fHNDC\":1,\"fAbsXlowNDC\":0,\"fAbsYlowNDC\":0,\"fAbsWNDC\":1,\"fAbsHNDC\":1,\"fUxmin\":0,\"fUymin\":0,\"fUxmax\":109.8,\"fUymax\":1.1,\"fTheta\":30,\"fPhi\":30,\"fAspectRatio\":0,\"fNumber\":0,\"fTickx\":0,\"fTicky\":0,\"fLogx\":0,\"fLogy\":0,\"fLogz\":0,\"fPadPaint\":0,\"fCrosshair\":0,\"fCrosshairPos\":0,\"fBorderSize\":2,\"fBorderMode\":0,\"fModified\":false,\"fGridx\":false,\"fGridy\":false,\"fAbsCoord\":false,\"fEditable\":true,\"fFixedAspectRatio\":false,\"fPrimitives\":{\"_typename\":\"TList\",\"name\":\"TList\",\"arr\":[{\"_typename\":\"TFrame\",\"fUniqueID\":0,\"fBits\":50331656,\"fLineColor\":1,\"fLineStyle\":1,\"fLineWidth\":1,\"fFillColor\":0,\"fFillStyle\":1001,\"fX1\":0,\"fY1\":0,\"fX2\":109.8,\"fY2\":1.1,\"fBorderSize\":1,\"fBorderMode\":0},{\"_typename\":\"TGraphAsymmErrors\",\"fUniqueID\":0,\"fBits\":50332680,\"fName\":\"111cc2\",\"fTitle\":\"; p_{T}^{GEN} [GeV];\",\"fLineColor\":1,\"fLineStyle\":1,\"fLineWidth\":1,\"fFillColor\":0,\"fFillStyle\":1001,\"fMarkerColor\":1,\"fMarkerStyle\":8,\"fMarkerSize\":0.5,\"fNpoints\":49,\"fX\":[3,5,7,9,11,13,15,17,19,21,23,25,27,29,31,33,35,37,39,41,43,45,47,49,51,53,55,57,59,61,63,65,67,69,71,73,75,77,79,81,83,85,87,89,91,93,95,97,99],\"fY\":[0.17312661498708,0.303430079155673,0.361516034985423,0.448818897637795,0.476331360946746,0.606413994169096,0.61624649859944,0.664705882352941,0.694214876033058,0.722713864306785,0.779141104294479,0.836158192090395,0.839650145772595,0.866120218579235,0.854881266490765,0.879213483146067,0.897196261682243,0.909340659340659,0.922666666666667,0.919161676646707,0.941358024691358,0.941666666666667,0.934718100890208,0.96011396011396,0.95702005730659,0.971098265895954,0.971014492753623,0.96583850931677,0.973988439306358,0.964179104477612,0.969604863221885,0.976401179941003,0.976401179941003,0.976261127596439,0.98813056379822,0.983098591549296,0.976261127596439,0.966153846153846,0.975460122699387,0.988888888888889,0.982248520710059,0.978787878787879,0.990853658536585,0.969325153374233,0.981424148606811,0.988372093023256,0.986225895316804,0.991097922848665,0.984472049689441],\"fFunctions\":{\"_typename\":\"TList\",\"name\":\"TList\",\"arr\":[],\"opt\":[]},\"fHistogram\":{\"_typename\":\"TH1F\",\"fUniqueID\":0,\"fBits\":50332160,\"fName\":\"111cc2\",\"fTitle\":\"\",\"fLineColor\":602,\"fLineStyle\":1,\"fLineWidth\":1,\"fFillColor\":0,\"fFillStyle\":1001,\"fMarkerColor\":1,\"fMarkerStyle\":1,\"fMarkerSize\":1,\"fNcells\":102,\"fXaxis\":{\"_typename\":\"TAxis\",\"fUniqueID\":0,\"fBits\":50331656,\"fName\":\"xaxis\",\"fTitle\":\" p_{T}^{GEN} [GeV]\",\"fNdivisions\":510,\"fAxisColor\":1,\"fLabelColor\":1,\"fLabelFont\":42,\"fLabelOffset\":0.005,\"fLabelSize\":0.035,\"fTickLength\":0.03,\"fTitleOffset\":1.4,\"fTitleSize\":0.035,\"fTitleColor\":1,\"fTitleFont\":42,\"fNbins\":100,\"fXmin\":0,\"fXmax\":109.8,\"fXbins\":[],\"fFirst\":0,\"fLast\":0,\"fBits2\":0,\"fTimeDisplay\":false,\"fTimeFormat\":\"\",\"fLabels\":null,\"fModLabs\":null},\"fYaxis\":{\"_typename\":\"TAxis\",\"fUniqueID\":0,\"fBits\":50331656,\"fName\":\"yaxis\",\"fTitle\":\"efficiency\",\"fNdivisions\":510,\"fAxisColor\":1,\"fLabelColor\":1,\"fLabelFont\":42,\"fLabelOffset\":0.005,\"fLabelSize\":0.035,\"fTickLength\":0.03,\"fTitleOffset\":0,\"fTitleSize\":0.035,\"fTitleColor\":1,\"fTitleFont\":42,\"fNbins\":1,\"fXmin\":0.0692754836873955,\"fXmax\":1.08018105184046,\"fXbins\":[],\"fFirst\":0,\"fLast\":0,\"fBits2\":0,\"fTimeDisplay\":false,\"fTimeFormat\":\"\",\"fLabels\":null,\"fModLabs\":null},\"fZaxis\":{\"_typename\":\"TAxis\",\"fUniqueID\":0,\"fBits\":50331648,\"fName\":\"zaxis\",\"fTitle\":\"\",\"fNdivisions\":510,\"fAxisColor\":1,\"fLabelColor\":1,\"fLabelFont\":42,\"fLabelOffset\":0.005,\"fLabelSize\":0.035,\"fTickLength\":0.03,\"fTitleOffset\":1,\"fTitleSize\":0.035,\"fTitleColor\":1,\"fTitleFont\":42,\"fNbins\":1,\"fXmin\":0,\"fXmax\":1,\"fXbins\":[],\"fFirst\":0,\"fLast\":0,\"fBits2\":0,\"fTimeDisplay\":false,\"fTimeFormat\":\"\",\"fLabels\":null,\"fModLabs\":null},\"fBarOffset\":0,\"fBarWidth\":1000,\"fEntries\":0,\"fTsumw\":0,\"fTsumw2\":0,\"fTsumwx\":0,\"fTsumwx2\":0,\"fMaximum\":1.1,\"fMinimum\":0,\"fNormFactor\":0,\"fContour\":[],\"fSumw2\":[],\"fOption\":\"\",\"fFunctions\":{\"_typename\":\"TList\",\"name\":\"TList\",\"arr\":[],\"opt\":[]},\"fBufferSize\":0,\"fBuffer\":[],\"fBinStatErrOpt\":0,\"fStatOverflows\":2,\"fArray\":[0,0,0,0,0,0,0,0,0,0,0,0,0,0,0,0,0,0,0,0,0,0,0,0,0,0,0,0,0,0,0,0,0,0,0,0,0,0,0,0,0,0,0,0,0,0,0,0,0,0,0,0,0,0,0,0,0,0,0,0,0,0,0,0,0,0,0,0,0,0,0,0,0,0,0,0,0,0,0,0,0,0,0,0,0,0,0,0,0,0,0,0,0,0,0,0,0,0,0,0,0,0]},\"fMinimum\":-1111,\"fMaximum\":-1111,\"fEXlow\":[1,1,1,1,1,1,1,1,1,1,1,1,1,1,1,1,1,1,1,1,1,1,1,1,1,1,1,1,1,1,1,1,1,1,1,1,1,1,1,1,1,1,1,1,1,1,1,1,1],\"fEXhigh\":[1,1,1,1,1,1,1,1,1,1,1,1,1,1,1,1,1,1,1,1,1,1,1,1,1,1,1,1,1,1,1,1,1,1,1,1,1,1,1,1,1,1,1,1,1,1,1,1,1],\"fEYlow\":[0.0196090006202627,0.0243568456555849,0.0269333333283834,0.0266158488963678,0.0285269603709247,0.0281219109062365,0.0274423174716267,0.0275457463903787,0.0260912391378264,0.0264495656514253,0.0253910120839755,0.0220840244318253,0.0223144099865771,0.0202312901878243,0.0204032281589605,0.0198192810722688,0.0198554827574754,0.0176513058985555,0.0163696473766007,0.0177984445428986,0.0161379487114524,0.0151226813072232,0.016385473463336,0.0133911011916518,0.0138002305052658,0.0120774523021233,0.0121117172425245,0.0133866551568208,0.0116538017188633,0.0132739023002689,0.0126876398683916,0.0114323351212829,0.0114323351212829,0.0114989561259737,0.00928536501901989,0.00995849242291202,0.0114989561259737,0.0132661056375957,0.0118797048665625,0.00869808939611649,0.0104521638457454,0.0112385424481434,0.00881673943055927,0.0128017742226431,0.0109302522758725,0.00909840382224714,0.00921055413313998,0.00858335895320506,0.0103678938040038],\"fEYhigh\":[0.0214089061818224,0.0254503039921223,0.0277846376689548,0.0268978882331918,0.0286743631672218,0.0274683297829452,0.0267568432515781,0.0265231238164435,0.0249621777276984,0.0250584724713098,0.0235676385662696,0.0200519787940608,0.0201920145647235,0.0180806386610068,0.0183971583186638,0.0175195263327388,0.0171584147163919,0.0152009023596643,0.0139014168096095,0.0150415174170127,0.013097053592156,0.0123975621774007,0.0135261410516441,0.0104169598897357,0.010840689706882,0.00892332157853692,0.0089490060237809,0.0100559836040998,0.00845747217560955,0.0101012335145024,0.00938103364977472,0.00812571857958233,0.00812571857958233,0.00817369778775467,0.00567209580379524,0.00668408253009822,0.00817369778775467,0.00996395152555518,0.00844805049385022,0.00531021869026616,0.00701920306125936,0.00779029300064793,0.00497372240508753,0.00946672448952679,0.00734409469537367,0.00555684420524971,0.00593699570180162,0.00484099831237073,0.00669113364149931]},{\"_typename\":\"TLatex\",\"fUniqueID\":0,\"fBits\":50348040,\"fName\":\"\",\"fTitle\":\"EG endcap, 2.4 < |#eta^{GEN}| #leq 3.0, p_{T}^{L1} #geq 25GeV\",\"fTextAngle\":0,\"fTextSize\":0.03,\"fTextAlign\":11,\"fTextColor\":1,\"fTextFont\":62,\"fX\":0.15,\"fY\":0.85,\"fLineColor\":1,\"fLineStyle\":1,\"fLineWidth\":2,\"fLimitFactorSize\":3,\"fOriginSize\":0.04},{\"_typename\":\"TLatex\",\"fUniqueID\":0,\"fBits\":50331656,\"fName\":\"\",\"fTitle\":\"\",\"fTextAngle\":0,\"fTextSize\":0.03,\"fTextAlign\":11,\"fTextColor\":1,\"fTextFont\":62,\"fX\":0,\"fY\":0,\"fLineColor\":1,\"fLineStyle\":1,\"fLineWidth\":2,\"fLimitFactorSize\":3,\"fOriginSize\":0.04},{\"_typename\":\"TLine\",\"fUniqueID\":0,\"fBits\":50331656,\"fLineColor\":1,\"fLineStyle\":2,\"fLineWidth\":1,\"fX1\":0,\"fY1\":0.95,\"fX2\":109.8,\"fY2\":0.95},{\"_typename\":\"TLine\",\"fUniqueID\":0,\"fBits\":50331656,\"fLineColor\":1,\"fLineStyle\":2,\"fLineWidth\":1,\"fX1\":0,\"fY1\":1,\"fX2\":109.8,\"fY2\":1}],\"opt\":[\"\",\"pa\",\"same\",\"same\",\"same\",\"same\"]},\"fExecs\":null,\"fName\":\"c_234a23\",\"fTitle\":\"c_234a23\",\"fNumPaletteColor\":0,\"fNextPaletteColor\":0,\"fDISPLAY\":\"$DISPLAY\",\"fDoubleBuffer\":0,\"fRetained\":true,\"fXsizeUser\":0,\"fYsizeUser\":0,\"fXsizeReal\":20,\"fYsizeReal\":15,\"fWindowTopX\":0,\"fWindowTopY\":0,\"fWindowWidth\":0,\"fWindowHeight\":0,\"fCw\":796,\"fCh\":572,\"fCatt\":{\"_typename\":\"TAttCanvas\",\"fXBetween\":2,\"fYBetween\":2,\"fTitleFromTop\":1.2,\"fXdate\":0.2,\"fYdate\":0.3,\"fAdate\":1},\"kMoveOpaque\":true,\"kResizeOpaque\":true,\"fHighLightColor\":2,\"fBatch\":true,\"kShowEventStatus\":false,\"kAutoExec\":true,\"kMenuBar\":true});\n",
       "       Core.draw(\"root_plot_21\", obj, \"\");\n",
       "     }\n",
       " );\n",
       "</script>\n"
      ],
      "text/plain": [
       "<IPython.core.display.HTML object>"
      ]
     },
     "metadata": {},
     "output_type": "display_data"
    }
   ],
   "source": [
    "hsets, labels, text = hplot.get_histo(histos.HistoSetEff, sample, ['PU200'], 'EG', ['all', 'EGq5'], 'GENEtaBC', debug=False)\n",
    "text_forprint = 'EG endcap, 1.52 < |#eta^{GEN}| #leq 2.4, p_{T}^{L1} #geq 25GeV'\n",
    "print dir(hsets[0].h_eff)\n",
    "draw([his.h_eff.h_pt.CreateGraph() for his in hsets], labels, text=text_forprint, \n",
    "     min_y=0, max_y=1.1, y_axis_label='efficiency', h_lines=[0.95, 1])\n",
    "\n",
    "\n",
    "\n",
    "hsets, labels, text = hplot.get_histo(histos.HistoSetEff, sample, ['PU200'], 'EG', 'EGq5', ['GENEtaDE'])\n",
    "print labels\n",
    "text_forprint = 'EG endcap, 2.4 < |#eta^{GEN}| #leq 3.0, p_{T}^{L1} #geq 25GeV'\n",
    "draw([his.h_eff.h_pt.CreateGraph() for his in hsets], labels, text=text_forprint, \n",
    "     min_y=0, max_y=1.1, y_axis_label='efficiency', h_lines=[0.95, 1])\n"
   ]
  },
  {
   "cell_type": "code",
   "execution_count": 41,
   "metadata": {},
   "outputs": [
    {
     "data": {
      "text/plain": [
       "<drawingTools.DrawMachine at 0x122b1f050>"
      ]
     },
     "execution_count": 41,
     "metadata": {},
     "output_type": "execute_result"
    },
    {
     "name": "stderr",
     "output_type": "stream",
     "text": [
      "Info in <TCanvas::Print>: pdf file figs/egammaEndcap_TkEle_EGq5Pt25_GENEtaBC_hEffvPt.pdf has been created\n"
     ]
    },
    {
     "data": {
      "text/html": [
       "\n",
       "<div id=\"root_plot_22\"\n",
       "     style=\"width: 596px; height: 572px\">\n",
       "</div>\n",
       "\n",
       "<script>\n",
       " requirejs.config({\n",
       "     paths: {\n",
       "       'JSRootCore' : 'https://root.cern.ch/js/notebook//scripts/JSRootCore',\n",
       "     }\n",
       "   });\n",
       " require(['JSRootCore'],\n",
       "     function(Core) {\n",
       "       var obj = Core.JSONR_unref({\"_typename\":\"TCanvas\",\"fUniqueID\":0,\"fBits\":53673992,\"fLineColor\":1,\"fLineStyle\":1,\"fLineWidth\":1,\"fFillColor\":0,\"fFillStyle\":1001,\"fLeftMargin\":0.13,\"fRightMargin\":0.13,\"fBottomMargin\":0.13,\"fTopMargin\":0.1,\"fXfile\":2,\"fYfile\":2,\"fAfile\":1,\"fXstat\":0.99,\"fYstat\":0.99,\"fAstat\":2,\"fFrameFillColor\":0,\"fFrameLineColor\":1,\"fFrameFillStyle\":1001,\"fFrameLineStyle\":1,\"fFrameLineWidth\":1,\"fFrameBorderSize\":1,\"fFrameBorderMode\":0,\"fX1\":-19.2891882330767,\"fY1\":-0.185714283502611,\"fX2\":129.089188233077,\"fY2\":1.24285714852456,\"fXtoAbsPixelk\":77.4800471580505,\"fXtoPixelk\":77.4800471580505,\"fXtoPixel\":4.01675779311383,\"fYtoAbsPixelk\":497.640051065433,\"fYtoPixelk\":497.640051065433,\"fYtoPixel\":-400.399999031424,\"fUtoAbsPixelk\":5e-5,\"fUtoPixelk\":5e-5,\"fUtoPixel\":596,\"fVtoAbsPixelk\":572.00005,\"fVtoPixelk\":572,\"fVtoPixel\":-572,\"fAbsPixeltoXk\":-19.2891882330767,\"fPixeltoXk\":-19.2891882330767,\"fPixeltoX\":0.248957007493546,\"fAbsPixeltoYk\":1.24285714852456,\"fPixeltoYk\":-0.185714283502611,\"fPixeltoY\":-0.00249750250354401,\"fXlowNDC\":0,\"fYlowNDC\":0,\"fXUpNDC\":0,\"fYUpNDC\":0,\"fWNDC\":1,\"fHNDC\":1,\"fAbsXlowNDC\":0,\"fAbsYlowNDC\":0,\"fAbsWNDC\":1,\"fAbsHNDC\":1,\"fUxmin\":0,\"fUymin\":0,\"fUxmax\":109.8,\"fUymax\":1.1,\"fTheta\":30,\"fPhi\":30,\"fAspectRatio\":0,\"fNumber\":0,\"fTickx\":0,\"fTicky\":0,\"fLogx\":0,\"fLogy\":0,\"fLogz\":0,\"fPadPaint\":0,\"fCrosshair\":0,\"fCrosshairPos\":0,\"fBorderSize\":2,\"fBorderMode\":0,\"fModified\":false,\"fGridx\":false,\"fGridy\":false,\"fAbsCoord\":false,\"fEditable\":true,\"fFixedAspectRatio\":false,\"fPrimitives\":{\"_typename\":\"TList\",\"name\":\"TList\",\"arr\":[{\"_typename\":\"TFrame\",\"fUniqueID\":0,\"fBits\":50331656,\"fLineColor\":1,\"fLineStyle\":1,\"fLineWidth\":1,\"fFillColor\":0,\"fFillStyle\":1001,\"fX1\":0,\"fY1\":0,\"fX2\":109.8,\"fY2\":1.1,\"fBorderSize\":1,\"fBorderMode\":0},{\"_typename\":\"TGraphAsymmErrors\",\"fUniqueID\":0,\"fBits\":50332680,\"fName\":\"6e815a\",\"fTitle\":\"; p_{T}^{GEN} [GeV];\",\"fLineColor\":1,\"fLineStyle\":1,\"fLineWidth\":1,\"fFillColor\":0,\"fFillStyle\":1001,\"fMarkerColor\":1,\"fMarkerStyle\":8,\"fMarkerSize\":0.5,\"fNpoints\":49,\"fX\":[3,5,7,9,11,13,15,17,19,21,23,25,27,29,31,33,35,37,39,41,43,45,47,49,51,53,55,57,59,61,63,65,67,69,71,73,75,77,79,81,83,85,87,89,91,93,95,97,99],\"fY\":[0,0,0,0,0,0,0,0,0,0.00738007380073801,0.0378378378378378,0.231182795698925,0.589453860640301,0.810035842293907,0.853571428571429,0.922155688622755,0.92894280762565,0.960884353741497,0.973544973544973,0.981308411214953,0.981412639405205,0.983228511530398,0.991103202846975,0.988826815642458,0.988054607508532,0.994047619047619,0.981308411214953,0.987432675044883,0.986538461538462,0.994690265486726,0.993031358885017,0.992438563327032,0.988505747126437,0.99250936329588,0.992700729927007,0.992687385740402,0.987762237762238,0.992700729927007,0.990421455938697,0.988394584139265,0.99469964664311,0.990476190476191,0.988785046728972,0.991212653778559,0.994495412844037,0.990366088631985,0.987544483985765,0.994219653179191,0.996031746031746],\"fFunctions\":{\"_typename\":\"TList\",\"name\":\"TList\",\"arr\":[],\"opt\":[]},\"fHistogram\":{\"_typename\":\"TH1F\",\"fUniqueID\":0,\"fBits\":50332160,\"fName\":\"6e815a\",\"fTitle\":\"\",\"fLineColor\":602,\"fLineStyle\":1,\"fLineWidth\":1,\"fFillColor\":0,\"fFillStyle\":1001,\"fMarkerColor\":1,\"fMarkerStyle\":1,\"fMarkerSize\":1,\"fNcells\":102,\"fXaxis\":{\"_typename\":\"TAxis\",\"fUniqueID\":0,\"fBits\":50331656,\"fName\":\"xaxis\",\"fTitle\":\" p_{T}^{GEN} [GeV]\",\"fNdivisions\":510,\"fAxisColor\":1,\"fLabelColor\":1,\"fLabelFont\":42,\"fLabelOffset\":0.005,\"fLabelSize\":0.035,\"fTickLength\":0.03,\"fTitleOffset\":1.4,\"fTitleSize\":0.035,\"fTitleColor\":1,\"fTitleFont\":42,\"fNbins\":100,\"fXmin\":0,\"fXmax\":109.8,\"fXbins\":[],\"fFirst\":0,\"fLast\":0,\"fBits2\":0,\"fTimeDisplay\":false,\"fTimeFormat\":\"\",\"fLabels\":null,\"fModLabs\":null},\"fYaxis\":{\"_typename\":\"TAxis\",\"fUniqueID\":0,\"fBits\":50331656,\"fName\":\"yaxis\",\"fTitle\":\"efficiency\",\"fNdivisions\":510,\"fAxisColor\":1,\"fLabelColor\":1,\"fLabelFont\":42,\"fLabelOffset\":0.005,\"fLabelSize\":0.035,\"fTickLength\":0.03,\"fTitleOffset\":0,\"fTitleSize\":0.035,\"fTitleColor\":1,\"fTitleFont\":42,\"fNbins\":1,\"fXmin\":0,\"fXmax\":1.09845390889711,\"fXbins\":[],\"fFirst\":0,\"fLast\":0,\"fBits2\":0,\"fTimeDisplay\":false,\"fTimeFormat\":\"\",\"fLabels\":null,\"fModLabs\":null},\"fZaxis\":{\"_typename\":\"TAxis\",\"fUniqueID\":0,\"fBits\":50331648,\"fName\":\"zaxis\",\"fTitle\":\"\",\"fNdivisions\":510,\"fAxisColor\":1,\"fLabelColor\":1,\"fLabelFont\":42,\"fLabelOffset\":0.005,\"fLabelSize\":0.035,\"fTickLength\":0.03,\"fTitleOffset\":1,\"fTitleSize\":0.035,\"fTitleColor\":1,\"fTitleFont\":42,\"fNbins\":1,\"fXmin\":0,\"fXmax\":1,\"fXbins\":[],\"fFirst\":0,\"fLast\":0,\"fBits2\":0,\"fTimeDisplay\":false,\"fTimeFormat\":\"\",\"fLabels\":null,\"fModLabs\":null},\"fBarOffset\":0,\"fBarWidth\":1000,\"fEntries\":0,\"fTsumw\":0,\"fTsumw2\":0,\"fTsumwx\":0,\"fTsumwx2\":0,\"fMaximum\":1.1,\"fMinimum\":0,\"fNormFactor\":0,\"fContour\":[],\"fSumw2\":[],\"fOption\":\"\",\"fFunctions\":{\"_typename\":\"TList\",\"name\":\"TList\",\"arr\":[],\"opt\":[]},\"fBufferSize\":0,\"fBuffer\":[],\"fBinStatErrOpt\":0,\"fStatOverflows\":2,\"fArray\":[0,0,0,0,0,0,0,0,0,0,0,0,0,0,0,0,0,0,0,0,0,0,0,0,0,0,0,0,0,0,0,0,0,0,0,0,0,0,0,0,0,0,0,0,0,0,0,0,0,0,0,0,0,0,0,0,0,0,0,0,0,0,0,0,0,0,0,0,0,0,0,0,0,0,0,0,0,0,0,0,0,0,0,0,0,0,0,0,0,0,0,0,0,0,0,0,0,0,0,0,0,0]},\"fMinimum\":-1111,\"fMaximum\":-1111,\"fEXlow\":[1,1,1,1,1,1,1,1,1,1,1,1,1,1,1,1,1,1,1,1,1,1,1,1,1,1,1,1,1,1,1,1,1,1,1,1,1,1,1,1,1,1,1,1,1,1,1,1,1],\"fEXhigh\":[1,1,1,1,1,1,1,1,1,1,1,1,1,1,1,1,1,1,1,1,1,1,1,1,1,1,1,1,1,1,1,1,1,1,1,1,1,1,1,1,1,1,1,1,1,1,1,1,1],\"fEYlow\":[0,0,0,0,0,0,0,0,0,0.00352873568893718,0.00809469852593761,0.0182246528043328,0.0224439261700444,0.0180768988004381,0.0164947303965466,0.0138854804233322,0.0123713782454677,0.00972871349047788,0.00859120530862012,0.00786912442989385,0.00782583579268781,0.00816710092935524,0.0059737590267116,0.00661389528310796,0.0063747814902555,0.00575608311035847,0.00786912442989385,0.00670344134240519,0.00717542559331075,0.00513789903212891,0.00547565985798459,0.00593828300205068,0.00680218917037967,0.00588305617639773,0.00573374703559981,0.00574416019065893,0.00652932408003815,0.00573374703559981,0.00642781693138983,0.00686735890781165,0.00512886911367827,0.00639138201668865,0.00663839665185484,0.00590081330917869,0.0053254181353003,0.00646466960444314,0.00664437962969699,0.00559067497121168,0.0052097913759015],\"fEYhigh\":[0.00323598815799914,0.00347414329597734,0.00333566138424641,0.0033600127640479,0.00319665655273388,0.00382017233222616,0.00346108068132723,0.00340979796341216,0.00340979796341216,0.00579679848644022,0.00994359012485641,0.019235422831664,0.0220925512282341,0.0169069664268279,0.0151579290572068,0.0120618066890014,0.0107656774079545,0.0079959307060008,0.00670413836519679,0.00578508327678007,0.00575296716111129,0.00578328504273973,0.00383763411696214,0.0044232029311766,0.0043950187236933,0.00323778639817562,0.00578508327678007,0.0046232812056034,0.00495137855572059,0.00288838484084541,0.00333218359763821,0.00361537098487752,0.00455004815934623,0.00358155099289759,0.00349013525328912,0.00349650990708239,0.00450233162526059,0.00349013525328912,0.00413127236781774,0.00459396218123065,0.00288328408766059,0.00410769969703229,0.00443970548563011,0.0037904862517889,0.00299432883481188,0.00415511714886663,0.00458224906380356,0.00314425678130226,0.00256271660198815]},{\"_typename\":\"TGraphAsymmErrors\",\"fUniqueID\":0,\"fBits\":50332680,\"fName\":\"02f4b2\",\"fTitle\":\"; p_{T}^{GEN} [GeV];\",\"fLineColor\":628,\"fLineStyle\":1,\"fLineWidth\":1,\"fFillColor\":0,\"fFillStyle\":1001,\"fMarkerColor\":628,\"fMarkerStyle\":21,\"fMarkerSize\":0.5,\"fNpoints\":49,\"fX\":[3,5,7,9,11,13,15,17,19,21,23,25,27,29,31,33,35,37,39,41,43,45,47,49,51,53,55,57,59,61,63,65,67,69,71,73,75,77,79,81,83,85,87,89,91,93,95,97,99],\"fY\":[0,0,0,0,0,0,0,0,0,0.003690036900369,0.0324324324324324,0.195340501792115,0.516007532956685,0.695340501792115,0.7125,0.782435129740519,0.76949740034662,0.829931972789116,0.795414462081129,0.869158878504673,0.860594795539034,0.863731656184486,0.877224199288256,0.895716945996276,0.883959044368601,0.896825396825397,0.88785046728972,0.901256732495512,0.919230769230769,0.906194690265487,0.923344947735192,0.926275992438563,0.913793103448276,0.917602996254682,0.923357664233577,0.919561243144424,0.884615384615385,0.936131386861314,0.932950191570881,0.891682785299807,0.92226148409894,0.918095238095238,0.925233644859813,0.915641476274165,0.93394495412844,0.938342967244701,0.928825622775801,0.936416184971098,0.916666666666667],\"fFunctions\":{\"_typename\":\"TList\",\"name\":\"TList\",\"arr\":[],\"opt\":[]},\"fHistogram\":{\"_typename\":\"TH1F\",\"fUniqueID\":0,\"fBits\":50332160,\"fName\":\"02f4b2\",\"fTitle\":\"\",\"fLineColor\":602,\"fLineStyle\":1,\"fLineWidth\":1,\"fFillColor\":0,\"fFillStyle\":1001,\"fMarkerColor\":1,\"fMarkerStyle\":1,\"fMarkerSize\":1,\"fNcells\":102,\"fXaxis\":{\"_typename\":\"TAxis\",\"fUniqueID\":0,\"fBits\":50331656,\"fName\":\"xaxis\",\"fTitle\":\" p_{T}^{GEN} [GeV]\",\"fNdivisions\":510,\"fAxisColor\":1,\"fLabelColor\":1,\"fLabelFont\":42,\"fLabelOffset\":0.005,\"fLabelSize\":0.035,\"fTickLength\":0.03,\"fTitleOffset\":1.4,\"fTitleSize\":0.035,\"fTitleColor\":1,\"fTitleFont\":42,\"fNbins\":100,\"fXmin\":0,\"fXmax\":109.8,\"fXbins\":[],\"fFirst\":0,\"fLast\":0,\"fBits2\":0,\"fTimeDisplay\":false,\"fTimeFormat\":\"\",\"fLabels\":null,\"fModLabs\":null},\"fYaxis\":{\"_typename\":\"TAxis\",\"fUniqueID\":0,\"fBits\":50331656,\"fName\":\"yaxis\",\"fTitle\":\"efficiency\",\"fNdivisions\":510,\"fAxisColor\":1,\"fLabelColor\":1,\"fLabelFont\":42,\"fLabelOffset\":0.005,\"fLabelSize\":0.035,\"fTickLength\":0.03,\"fTitleOffset\":0,\"fTitleSize\":0.035,\"fTitleColor\":1,\"fTitleFont\":42,\"fNbins\":1,\"fXmin\":0,\"fXmax\":1.04384942481705,\"fXbins\":[],\"fFirst\":0,\"fLast\":0,\"fBits2\":0,\"fTimeDisplay\":false,\"fTimeFormat\":\"\",\"fLabels\":null,\"fModLabs\":null},\"fZaxis\":{\"_typename\":\"TAxis\",\"fUniqueID\":0,\"fBits\":50331648,\"fName\":\"zaxis\",\"fTitle\":\"\",\"fNdivisions\":510,\"fAxisColor\":1,\"fLabelColor\":1,\"fLabelFont\":42,\"fLabelOffset\":0.005,\"fLabelSize\":0.035,\"fTickLength\":0.03,\"fTitleOffset\":1,\"fTitleSize\":0.035,\"fTitleColor\":1,\"fTitleFont\":42,\"fNbins\":1,\"fXmin\":0,\"fXmax\":1,\"fXbins\":[],\"fFirst\":0,\"fLast\":0,\"fBits2\":0,\"fTimeDisplay\":false,\"fTimeFormat\":\"\",\"fLabels\":null,\"fModLabs\":null},\"fBarOffset\":0,\"fBarWidth\":1000,\"fEntries\":0,\"fTsumw\":0,\"fTsumw2\":0,\"fTsumwx\":0,\"fTsumwx2\":0,\"fMaximum\":1.1,\"fMinimum\":0,\"fNormFactor\":0,\"fContour\":[],\"fSumw2\":[],\"fOption\":\"\",\"fFunctions\":{\"_typename\":\"TList\",\"name\":\"TList\",\"arr\":[],\"opt\":[]},\"fBufferSize\":0,\"fBuffer\":[],\"fBinStatErrOpt\":0,\"fStatOverflows\":2,\"fArray\":[0,0,0,0,0,0,0,0,0,0,0,0,0,0,0,0,0,0,0,0,0,0,0,0,0,0,0,0,0,0,0,0,0,0,0,0,0,0,0,0,0,0,0,0,0,0,0,0,0,0,0,0,0,0,0,0,0,0,0,0,0,0,0,0,0,0,0,0,0,0,0,0,0,0,0,0,0,0,0,0,0,0,0,0,0,0,0,0,0,0,0,0,0,0,0,0,0,0,0,0,0,0]},\"fMinimum\":-1111,\"fMaximum\":-1111,\"fEXlow\":[1,1,1,1,1,1,1,1,1,1,1,1,1,1,1,1,1,1,1,1,1,1,1,1,1,1,1,1,1,1,1,1,1,1,1,1,1,1,1,1,1,1,1,1,1,1,1,1,1],\"fEXhigh\":[1,1,1,1,1,1,1,1,1,1,1,1,1,1,1,1,1,1,1,1,1,1,1,1,1,1,1,1,1,1,1,1,1,1,1,1,1,1,1,1,1,1,1,1,1,1,1,1,1],\"fEYlow\":[0,0,0,0,0,0,0,0,0,0.00238306935803498,0.00750022256828816,0.0170943670075491,0.0226378691430044,0.0207293173963968,0.0203991083916446,0.0200099972819097,0.018876490015003,0.0169270343492235,0.0183593197562569,0.0162429919399685,0.0165678910454611,0.0175624095895389,0.0154435546778698,0.0149075268841583,0.0147783896805511,0.0153853039247966,0.0153489883346154,0.0143090922806828,0.0137852885642663,0.0139223649580189,0.0127750680959973,0.0131851615699322,0.0140992334420609,0.0136820760489597,0.0131153243312375,0.0133735419647022,0.0149461257784248,0.0122309691442957,0.01281413315306,0.0154442820694995,0.0129467541950775,0.0137833448618484,0.0131708165463646,0.0133180399048676,0.0124289371264391,0.0124523763795494,0.0125666975531052,0.0125992742161462,0.0141996528649186],\"fEYhigh\":[0.00323598815799914,0.00347414329597734,0.00333566138424641,0.0033600127640479,0.00319665655273388,0.00382017233222616,0.00346108068132723,0.00340979796341216,0.00340979796341216,0.00484609619588345,0.0093851686541524,0.0182433876148942,0.022575033155766,0.0199977836755346,0.0196056238218368,0.0188229162097046,0.0178972241018505,0.0157444315396446,0.0172642257698333,0.0147761198965212,0.0151455350688788,0.0159375947466137,0.0140163386434889,0.0133313831332909,0.0133848269270634,0.0136972620557035,0.0138014481492374,0.0127675950511577,0.0120450274122909,0.0123823386601878,0.0111858519667501,0.0114413333957419,0.012392082513368,0.0119967510271272,0.011447894279521,0.0117206346357744,0.0135147803120189,0.0105019752509745,0.0110121236282096,0.0138236914924394,0.0113391581612032,0.0120657279879272,0.0114523290506001,0.0117484731404885,0.0107009401853791,0.0106110553162552,0.0109170955298079,0.0107682361145169,0.0124150140562492]},{\"_typename\":\"TLegend\",\"fUniqueID\":0,\"fBits\":50331656,\"fLineColor\":1,\"fLineStyle\":1,\"fLineWidth\":1,\"fFillColor\":0,\"fFillStyle\":0,\"fX1\":69.7378376466153,\"fY1\":0.528571432510975,\"fX2\":108.316215527815,\"fY2\":0.671428575713692,\"fX1NDC\":0.6,\"fY1NDC\":0.5,\"fX2NDC\":0.86,\"fY2NDC\":0.6,\"fBorderSize\":0,\"fInit\":1,\"fShadowColor\":1,\"fCornerRadius\":0,\"fOption\":\"brNDC\",\"fName\":\"TPave\",\"fTextAngle\":0,\"fTextSize\":0.03,\"fTextAlign\":12,\"fTextColor\":1,\"fTextFont\":42,\"fPrimitives\":{\"_typename\":\"TList\",\"name\":\"TList\",\"arr\":[{\"_typename\":\"TLegendEntry\",\"fUniqueID\":0,\"fBits\":50331656,\"fTextAngle\":0,\"fTextSize\":0,\"fTextAlign\":0,\"fTextColor\":0,\"fTextFont\":42,\"fLineColor\":1,\"fLineStyle\":1,\"fLineWidth\":1,\"fFillColor\":0,\"fFillStyle\":0,\"fMarkerColor\":1,\"fMarkerStyle\":8,\"fMarkerSize\":0.5,\"fObject\":{\"$ref\":3},\"fLabel\":\"calorimeter only\",\"fOption\":\"P\"},{\"_typename\":\"TLegendEntry\",\"fUniqueID\":0,\"fBits\":50331656,\"fTextAngle\":0,\"fTextSize\":0,\"fTextAlign\":0,\"fTextColor\":0,\"fTextFont\":42,\"fLineColor\":1,\"fLineStyle\":1,\"fLineWidth\":1,\"fFillColor\":0,\"fFillStyle\":0,\"fMarkerColor\":628,\"fMarkerStyle\":21,\"fMarkerSize\":0.5,\"fObject\":{\"$ref\":10},\"fLabel\":\"track-matched\",\"fOption\":\"P\"}],\"opt\":[\"P\",\"P\"]},\"fEntrySeparation\":0.1,\"fMargin\":0.25,\"fNColumns\":1,\"fColumnSeparation\":0},{\"_typename\":\"TLatex\",\"fUniqueID\":0,\"fBits\":50348040,\"fName\":\"\",\"fTitle\":\"EG endcap, 1.52 < |#eta^{GEN}| #leq 2.4, p_{T}^{L1} #geq 25GeV\",\"fTextAngle\":0,\"fTextSize\":0.03,\"fTextAlign\":11,\"fTextColor\":1,\"fTextFont\":62,\"fX\":0.15,\"fY\":0.85,\"fLineColor\":1,\"fLineStyle\":1,\"fLineWidth\":2,\"fLimitFactorSize\":3,\"fOriginSize\":0.0299999993294477},{\"_typename\":\"TLatex\",\"fUniqueID\":0,\"fBits\":50348041,\"fName\":\"\",\"fTitle\":\"#scale[1.5]{CMS} #scale[1.]{Phase-2 Simulation}\",\"fTextAngle\":0,\"fTextSize\":0.03,\"fTextAlign\":11,\"fTextColor\":1,\"fTextFont\":62,\"fX\":0.13,\"fY\":0.91,\"fLineColor\":1,\"fLineStyle\":1,\"fLineWidth\":2,\"fLimitFactorSize\":3,\"fOriginSize\":0.0299999993294477},{\"_typename\":\"TLatex\",\"fUniqueID\":0,\"fBits\":50348041,\"fName\":\"\",\"fTitle\":\"14TeV, 200 PU\",\"fTextAngle\":0,\"fTextSize\":0.03,\"fTextAlign\":11,\"fTextColor\":1,\"fTextFont\":62,\"fX\":0.69,\"fY\":0.91,\"fLineColor\":1,\"fLineStyle\":1,\"fLineWidth\":2,\"fLimitFactorSize\":3,\"fOriginSize\":0.0299999993294477},{\"_typename\":\"TLatex\",\"fUniqueID\":0,\"fBits\":50331656,\"fName\":\"\",\"fTitle\":\"\",\"fTextAngle\":0,\"fTextSize\":0.03,\"fTextAlign\":11,\"fTextColor\":1,\"fTextFont\":62,\"fX\":0,\"fY\":0,\"fLineColor\":1,\"fLineStyle\":1,\"fLineWidth\":2,\"fLimitFactorSize\":3,\"fOriginSize\":0.04},{\"_typename\":\"TLine\",\"fUniqueID\":0,\"fBits\":50331656,\"fLineColor\":1,\"fLineStyle\":2,\"fLineWidth\":1,\"fX1\":0,\"fY1\":0.95,\"fX2\":109.8,\"fY2\":0.95},{\"_typename\":\"TLine\",\"fUniqueID\":0,\"fBits\":50331656,\"fLineColor\":1,\"fLineStyle\":2,\"fLineWidth\":1,\"fX1\":0,\"fY1\":1,\"fX2\":109.8,\"fY2\":1}],\"opt\":[\"\",\"pa\",\",p\",\"same\",\"same\",\"\",\"\",\"same\",\"same\",\"same\"]},\"fExecs\":null,\"fName\":\"c_a31005\",\"fTitle\":\"c_a31005\",\"fNumPaletteColor\":0,\"fNextPaletteColor\":0,\"fDISPLAY\":\"$DISPLAY\",\"fDoubleBuffer\":0,\"fRetained\":true,\"fXsizeUser\":0,\"fYsizeUser\":0,\"fXsizeReal\":20,\"fYsizeReal\":20,\"fWindowTopX\":0,\"fWindowTopY\":0,\"fWindowWidth\":0,\"fWindowHeight\":0,\"fCw\":596,\"fCh\":572,\"fCatt\":{\"_typename\":\"TAttCanvas\",\"fXBetween\":2,\"fYBetween\":2,\"fTitleFromTop\":1.2,\"fXdate\":0.2,\"fYdate\":0.3,\"fAdate\":1},\"kMoveOpaque\":true,\"kResizeOpaque\":true,\"fHighLightColor\":2,\"fBatch\":true,\"kShowEventStatus\":false,\"kAutoExec\":true,\"kMenuBar\":true});\n",
       "       Core.draw(\"root_plot_22\", obj, \"\");\n",
       "     }\n",
       " );\n",
       "</script>\n"
      ],
      "text/plain": [
       "<IPython.core.display.HTML object>"
      ]
     },
     "metadata": {},
     "output_type": "display_data"
    }
   ],
   "source": [
    "hsets, labels, text = hplot.get_histo(histos.HistoSetEff, sample, ['PU200'], ['EG', 'TkEleEL'], 'EGq5Pt25', 'GENEtaBC')\n",
    "labels=['calorimeter only', 'track-matched']\n",
    "legend_position = (0.6, 0.5, 0.86, 0.6)\n",
    "text_forprint='EG endcap, 1.52 < |#eta^{GEN}| #leq 2.4, p_{T}^{L1} #geq 25GeV'\n",
    "draw([his.h_eff.h_pt.CreateGraph() for his in hsets], labels, text=text_forprint, min_y=0, max_y=1.1, \n",
    "     y_axis_label='efficiency', h_lines=[0.95, 1],\n",
    "     legend_position=legend_position,\n",
    "     do_write=True, write_name='figs/egammaEndcap_TkEle_EGq5Pt25_GENEtaBC_hEffvPt')\n"
   ]
  },
  {
   "cell_type": "code",
   "execution_count": 42,
   "metadata": {},
   "outputs": [
    {
     "data": {
      "text/plain": [
       "<drawingTools.DrawMachine at 0x122b04f10>"
      ]
     },
     "execution_count": 42,
     "metadata": {},
     "output_type": "execute_result"
    },
    {
     "data": {
      "text/html": [
       "\n",
       "<div id=\"root_plot_23\"\n",
       "     style=\"width: 796px; height: 572px\">\n",
       "</div>\n",
       "\n",
       "<script>\n",
       " requirejs.config({\n",
       "     paths: {\n",
       "       'JSRootCore' : 'https://root.cern.ch/js/notebook//scripts/JSRootCore',\n",
       "     }\n",
       "   });\n",
       " require(['JSRootCore'],\n",
       "     function(Core) {\n",
       "       var obj = Core.JSONR_unref({\"_typename\":\"TCanvas\",\"fUniqueID\":0,\"fBits\":53673992,\"fLineColor\":1,\"fLineStyle\":1,\"fLineWidth\":1,\"fFillColor\":0,\"fFillStyle\":1001,\"fLeftMargin\":0.13,\"fRightMargin\":0.3,\"fBottomMargin\":0.13,\"fTopMargin\":0.1,\"fXfile\":2,\"fYfile\":2,\"fAfile\":1,\"fXstat\":0.99,\"fYstat\":0.99,\"fAstat\":2,\"fFrameFillColor\":0,\"fFrameLineColor\":1,\"fFrameFillStyle\":1001,\"fFrameLineStyle\":1,\"fFrameLineWidth\":1,\"fFrameBorderSize\":1,\"fFrameBorderMode\":0,\"fX1\":-25.0421046588559,\"fY1\":0.70441558495845,\"fX2\":167.58947670572,\"fY2\":1.05506493645603,\"fXtoAbsPixelk\":103.480046204376,\"fXtoPixelk\":103.480046204376,\"fXtoPixel\":4.13224038530569,\"fYtoAbsPixelk\":1721.08449255034,\"fYtoPixelk\":1721.08449255034,\"fYtoPixel\":-1631.25925531321,\"fUtoAbsPixelk\":5e-5,\"fUtoPixelk\":5e-5,\"fUtoPixel\":796,\"fVtoAbsPixelk\":572.00005,\"fVtoPixelk\":572,\"fVtoPixel\":-572,\"fAbsPixeltoXk\":-25.0421046588559,\"fPixeltoXk\":-25.0421046588559,\"fPixeltoX\":0.241999474076101,\"fAbsPixeltoYk\":1.05506493645603,\"fPixeltoYk\":0.70441558495845,\"fPixeltoY\":-6.13023341778983e-4,\"fXlowNDC\":0,\"fYlowNDC\":0,\"fXUpNDC\":0,\"fYUpNDC\":0,\"fWNDC\":1,\"fHNDC\":1,\"fAbsXlowNDC\":0,\"fAbsYlowNDC\":0,\"fAbsWNDC\":1,\"fAbsHNDC\":1,\"fUxmin\":0,\"fUymin\":0.75,\"fUxmax\":109.8,\"fUymax\":1.02,\"fTheta\":30,\"fPhi\":30,\"fAspectRatio\":0,\"fNumber\":0,\"fTickx\":0,\"fTicky\":0,\"fLogx\":0,\"fLogy\":0,\"fLogz\":0,\"fPadPaint\":0,\"fCrosshair\":0,\"fCrosshairPos\":0,\"fBorderSize\":2,\"fBorderMode\":0,\"fModified\":false,\"fGridx\":false,\"fGridy\":false,\"fAbsCoord\":false,\"fEditable\":true,\"fFixedAspectRatio\":false,\"fPrimitives\":{\"_typename\":\"TList\",\"name\":\"TList\",\"arr\":[{\"_typename\":\"TFrame\",\"fUniqueID\":0,\"fBits\":50331656,\"fLineColor\":1,\"fLineStyle\":1,\"fLineWidth\":1,\"fFillColor\":0,\"fFillStyle\":1001,\"fX1\":0,\"fY1\":0.75,\"fX2\":109.8,\"fY2\":1.02,\"fBorderSize\":1,\"fBorderMode\":0},{\"_typename\":\"TGraphAsymmErrors\",\"fUniqueID\":0,\"fBits\":50332680,\"fName\":\"48ee06\",\"fTitle\":\"; p_{T}^{GEN} [GeV];\",\"fLineColor\":1,\"fLineStyle\":1,\"fLineWidth\":1,\"fFillColor\":0,\"fFillStyle\":1001,\"fMarkerColor\":1,\"fMarkerStyle\":8,\"fMarkerSize\":0.5,\"fNpoints\":49,\"fX\":[3,5,7,9,11,13,15,17,19,21,23,25,27,29,31,33,35,37,39,41,43,45,47,49,51,53,55,57,59,61,63,65,67,69,71,73,75,77,79,81,83,85,87,89,91,93,95,97,99],\"fY\":[0,0,0,0,0,0,0.00512820512820513,0.127906976744186,0.620758483033932,0.867125984251969,0.926339285714286,0.957186544342508,0.968041237113402,0.975334018499486,0.972972972972973,0.988222698072805,0.979317476732161,0.97953216374269,0.989648033126294,0.984848484848485,0.989493791786055,0.983606557377049,0.985945945945946,0.981927710843373,0.982978723404255,0.986895161290323,0.989268292682927,0.985122210414453,0.989539748953975,0.98810703666997,0.990954773869347,0.984615384615385,0.992576882290562,0.988118811881188,0.98609731876862,0.987654320987654,0.990918264379415,0.99482936918304,0.987564766839378,0.992576882290562,0.982924226254002,0.989035087719298,0.988694758478931,0.987193169690502,0.975738396624473,0.986639260020555,0.981173864894795,0.983193277310924,0.992835209825998],\"fFunctions\":{\"_typename\":\"TList\",\"name\":\"TList\",\"arr\":[],\"opt\":[]},\"fHistogram\":{\"_typename\":\"TH1F\",\"fUniqueID\":0,\"fBits\":50332160,\"fName\":\"48ee06\",\"fTitle\":\"\",\"fLineColor\":602,\"fLineStyle\":1,\"fLineWidth\":1,\"fFillColor\":0,\"fFillStyle\":1001,\"fMarkerColor\":1,\"fMarkerStyle\":1,\"fMarkerSize\":1,\"fNcells\":102,\"fXaxis\":{\"_typename\":\"TAxis\",\"fUniqueID\":0,\"fBits\":50331656,\"fName\":\"xaxis\",\"fTitle\":\" p_{T}^{GEN} [GeV]\",\"fNdivisions\":510,\"fAxisColor\":1,\"fLabelColor\":1,\"fLabelFont\":42,\"fLabelOffset\":0.005,\"fLabelSize\":0.035,\"fTickLength\":0.03,\"fTitleOffset\":1.4,\"fTitleSize\":0.035,\"fTitleColor\":1,\"fTitleFont\":42,\"fNbins\":100,\"fXmin\":0,\"fXmax\":109.8,\"fXbins\":[],\"fFirst\":0,\"fLast\":0,\"fBits2\":0,\"fTimeDisplay\":false,\"fTimeFormat\":\"\",\"fLabels\":null,\"fModLabs\":null},\"fYaxis\":{\"_typename\":\"TAxis\",\"fUniqueID\":0,\"fBits\":50331656,\"fName\":\"yaxis\",\"fTitle\":\"L1 matched to GEN\\/GEN\",\"fNdivisions\":510,\"fAxisColor\":1,\"fLabelColor\":1,\"fLabelFont\":42,\"fLabelOffset\":0.005,\"fLabelSize\":0.035,\"fTickLength\":0.03,\"fTitleOffset\":0,\"fTitleSize\":0.035,\"fTitleColor\":1,\"fTitleFont\":42,\"fNbins\":1,\"fXmin\":0,\"fXmax\":1.09676709719818,\"fXbins\":[],\"fFirst\":0,\"fLast\":0,\"fBits2\":0,\"fTimeDisplay\":false,\"fTimeFormat\":\"\",\"fLabels\":null,\"fModLabs\":null},\"fZaxis\":{\"_typename\":\"TAxis\",\"fUniqueID\":0,\"fBits\":50331648,\"fName\":\"zaxis\",\"fTitle\":\"\",\"fNdivisions\":510,\"fAxisColor\":1,\"fLabelColor\":1,\"fLabelFont\":42,\"fLabelOffset\":0.005,\"fLabelSize\":0.035,\"fTickLength\":0.03,\"fTitleOffset\":1,\"fTitleSize\":0.035,\"fTitleColor\":1,\"fTitleFont\":42,\"fNbins\":1,\"fXmin\":0,\"fXmax\":1,\"fXbins\":[],\"fFirst\":0,\"fLast\":0,\"fBits2\":0,\"fTimeDisplay\":false,\"fTimeFormat\":\"\",\"fLabels\":null,\"fModLabs\":null},\"fBarOffset\":0,\"fBarWidth\":1000,\"fEntries\":0,\"fTsumw\":0,\"fTsumw2\":0,\"fTsumwx\":0,\"fTsumwx2\":0,\"fMaximum\":1.02,\"fMinimum\":0.75,\"fNormFactor\":0,\"fContour\":[],\"fSumw2\":[],\"fOption\":\"\",\"fFunctions\":{\"_typename\":\"TList\",\"name\":\"TList\",\"arr\":[],\"opt\":[]},\"fBufferSize\":0,\"fBuffer\":[],\"fBinStatErrOpt\":0,\"fStatOverflows\":2,\"fArray\":[0,0,0,0,0,0,0,0,0,0,0,0,0,0,0,0,0,0,0,0,0,0,0,0,0,0,0,0,0,0,0,0,0,0,0,0,0,0,0,0,0,0,0,0,0,0,0,0,0,0,0,0,0,0,0,0,0,0,0,0,0,0,0,0,0,0,0,0,0,0,0,0,0,0,0,0,0,0,0,0,0,0,0,0,0,0,0,0,0,0,0,0,0,0,0,0,0,0,0,0,0,0]},\"fMinimum\":-1111,\"fMaximum\":-1111,\"fEXlow\":[1,1,1,1,1,1,1,1,1,1,1,1,1,1,1,1,1,1,1,1,1,1,1,1,1,1,1,1,1,1,1,1,1,1,1,1,1,1,1,1,1,1,1,1,1,1,1,1,1],\"fEXhigh\":[1,1,1,1,1,1,1,1,1,1,1,1,1,1,1,1,1,1,1,1,1,1,1,1,1,1,1,1,1,1,1,1,1,1,1,1,1,1,1,1,1,1,1,1,1,1,1,1,1],\"fEYlow\":[0,0,0,0,0,0,0.00221333186474682,0.0109735658123102,0.0159435281276606,0.0115174285998952,0.00979375065227295,0.00748279673159968,0.00669939378747819,0.00603774480503139,0.00630027568322533,0.00468954728446569,0.00565983314436114,0.00544008079132874,0.00438449029225929,0.00495825477330991,0.00418718053758282,0.00515170424633815,0.00502981096096344,0.00527969446334486,0.00534675830012488,0.00469316346085868,0.00427636970865819,0.00508180368859201,0.00443000789388848,0.00448202372667006,0.00410362992995417,0.00503374430049952,0.00397534009305411,0.00447762283702935,0.00475189097511175,0.00465116722987502,0.00412008311677536,0.00348274453635133,0.00468461365125694,0.00397534009305411,0.00536368152487077,0.00464204950992608,0.0045030840896656,0.00482335158911695,0.00609244779381179,0.004783964886516,0.00569169580600393,0.00528011983830201,0.00383776384932644],\"fEYhigh\":[0.00192591439828387,0.00188838072126811,0.00192793122919638,0.00187683006296159,0.00183200672073017,0.0020122196424826,0.0034542915160458,0.0117980200218458,0.0156947990626246,0.0107617709351002,0.00878185628897954,0.00647771140667974,0.00564678216929315,0.00496021905750732,0.00521972189159214,0.0034862510592405,0.00455699001380128,0.00440270478944926,0.00321029420045926,0.00385185041935976,0.00311096386495424,0.00403632035534629,0.00383301458973628,0.00419735317150216,0.00419015062774142,0.00357502929533537,0.00317755918249152,0.00391249664474336,0.00324379175259826,0.00337457587981049,0.0029522876686886,0.00391085504868638,0.00273356828433413,0.00337124487472151,0.00365703760341607,0.00350262603554374,0.00296417981278918,0.00223162826984857,0.00352795278951212,0.00273356828433413,0.00420350074674014,0.00339988523597545,0.0033469040705264,0.00363303144619731,0.00498337593517495,0.00364459304342257,0.00449611588922394,0.00413758745742177,0.00263857169784887]},{\"_typename\":\"TGraphAsymmErrors\",\"fUniqueID\":0,\"fBits\":50332680,\"fName\":\"b05b30\",\"fTitle\":\"; p_{T}^{GEN} [GeV];\",\"fLineColor\":628,\"fLineStyle\":1,\"fLineWidth\":1,\"fFillColor\":0,\"fFillStyle\":1001,\"fMarkerColor\":628,\"fMarkerStyle\":21,\"fMarkerSize\":0.5,\"fNpoints\":49,\"fX\":[3,5,7,9,11,13,15,17,19,21,23,25,27,29,31,33,35,37,39,41,43,45,47,49,51,53,55,57,59,61,63,65,67,69,71,73,75,77,79,81,83,85,87,89,91,93,95,97,99],\"fY\":[0,0,0,0,0,0,0.00512820512820513,0.137420718816068,0.629740518962076,0.882874015748031,0.934151785714286,0.968399592252803,0.977319587628866,0.982528263103803,0.98024948024948,0.995717344753747,0.985522233712513,0.985380116959064,0.990683229813665,0.98989898989899,0.993314231136581,0.99077868852459,0.99027027027027,0.987951807228916,0.98936170212766,0.992943548387097,0.993170731707317,0.991498405951116,0.99581589958159,0.993062438057483,0.992964824120603,0.986666666666667,0.996818663838812,0.993069306930693,0.991062562065541,0.991769547325103,0.994954591321897,0.996897621509824,0.995854922279793,0.996818663838812,0.989327641408751,0.995614035087719,0.99486125385406,0.995731056563501,0.992616033755274,0.99486125385406,0.988925802879291,0.996848739495798,0.995905834186285],\"fFunctions\":{\"_typename\":\"TList\",\"name\":\"TList\",\"arr\":[],\"opt\":[]},\"fHistogram\":{\"_typename\":\"TH1F\",\"fUniqueID\":0,\"fBits\":50332160,\"fName\":\"b05b30\",\"fTitle\":\"\",\"fLineColor\":602,\"fLineStyle\":1,\"fLineWidth\":1,\"fFillColor\":0,\"fFillStyle\":1001,\"fMarkerColor\":1,\"fMarkerStyle\":1,\"fMarkerSize\":1,\"fNcells\":102,\"fXaxis\":{\"_typename\":\"TAxis\",\"fUniqueID\":0,\"fBits\":50331656,\"fName\":\"xaxis\",\"fTitle\":\" p_{T}^{GEN} [GeV]\",\"fNdivisions\":510,\"fAxisColor\":1,\"fLabelColor\":1,\"fLabelFont\":42,\"fLabelOffset\":0.005,\"fLabelSize\":0.035,\"fTickLength\":0.03,\"fTitleOffset\":1.4,\"fTitleSize\":0.035,\"fTitleColor\":1,\"fTitleFont\":42,\"fNbins\":100,\"fXmin\":0,\"fXmax\":109.8,\"fXbins\":[],\"fFirst\":0,\"fLast\":0,\"fBits2\":0,\"fTimeDisplay\":false,\"fTimeFormat\":\"\",\"fLabels\":null,\"fModLabs\":null},\"fYaxis\":{\"_typename\":\"TAxis\",\"fUniqueID\":0,\"fBits\":50331656,\"fName\":\"yaxis\",\"fTitle\":\"L1 matched to GEN\\/GEN\",\"fNdivisions\":510,\"fAxisColor\":1,\"fLabelColor\":1,\"fLabelFont\":42,\"fLabelOffset\":0.005,\"fLabelSize\":0.035,\"fTickLength\":0.03,\"fTitleOffset\":0,\"fTitleSize\":0.035,\"fTitleColor\":1,\"fTitleFont\":42,\"fNbins\":1,\"fXmin\":0,\"fXmax\":1.09844413907446,\"fXbins\":[],\"fFirst\":0,\"fLast\":0,\"fBits2\":0,\"fTimeDisplay\":false,\"fTimeFormat\":\"\",\"fLabels\":null,\"fModLabs\":null},\"fZaxis\":{\"_typename\":\"TAxis\",\"fUniqueID\":0,\"fBits\":50331648,\"fName\":\"zaxis\",\"fTitle\":\"\",\"fNdivisions\":510,\"fAxisColor\":1,\"fLabelColor\":1,\"fLabelFont\":42,\"fLabelOffset\":0.005,\"fLabelSize\":0.035,\"fTickLength\":0.03,\"fTitleOffset\":1,\"fTitleSize\":0.035,\"fTitleColor\":1,\"fTitleFont\":42,\"fNbins\":1,\"fXmin\":0,\"fXmax\":1,\"fXbins\":[],\"fFirst\":0,\"fLast\":0,\"fBits2\":0,\"fTimeDisplay\":false,\"fTimeFormat\":\"\",\"fLabels\":null,\"fModLabs\":null},\"fBarOffset\":0,\"fBarWidth\":1000,\"fEntries\":0,\"fTsumw\":0,\"fTsumw2\":0,\"fTsumwx\":0,\"fTsumwx2\":0,\"fMaximum\":1.02,\"fMinimum\":0.75,\"fNormFactor\":0,\"fContour\":[],\"fSumw2\":[],\"fOption\":\"\",\"fFunctions\":{\"_typename\":\"TList\",\"name\":\"TList\",\"arr\":[],\"opt\":[]},\"fBufferSize\":0,\"fBuffer\":[],\"fBinStatErrOpt\":0,\"fStatOverflows\":2,\"fArray\":[0,0,0,0,0,0,0,0,0,0,0,0,0,0,0,0,0,0,0,0,0,0,0,0,0,0,0,0,0,0,0,0,0,0,0,0,0,0,0,0,0,0,0,0,0,0,0,0,0,0,0,0,0,0,0,0,0,0,0,0,0,0,0,0,0,0,0,0,0,0,0,0,0,0,0,0,0,0,0,0,0,0,0,0,0,0,0,0,0,0,0,0,0,0,0,0,0,0,0,0,0,0]},\"fMinimum\":-1111,\"fMaximum\":-1111,\"fEXlow\":[1,1,1,1,1,1,1,1,1,1,1,1,1,1,1,1,1,1,1,1,1,1,1,1,1,1,1,1,1,1,1,1,1,1,1,1,1,1,1,1,1,1,1,1,1,1,1,1,1],\"fEXhigh\":[1,1,1,1,1,1,1,1,1,1,1,1,1,1,1,1,1,1,1,1,1,1,1,1,1,1,1,1,1,1,1,1,1,1,1,1,1,1,1,1,1,1,1,1,1,1,1,1,1],\"fEYlow\":[0,0,0,0,0,0,0.00221333186474682,0.01131915288817,0.0158794615001216,0.0109749081390733,0.00936468120084255,0.00662575721888792,0.00585429664924819,0.0052869719136025,0.00557795936215166,0.00337326464692866,0.004946515656574,0.00478599582295436,0.00422598137292163,0.00427897230151708,0.003582507353451,0.00418297549558033,0.00441195717041953,0.00454003265215241,0.00450483490077536,0.00378005003721382,0.00365899397848757,0.00416587903898924,0.00329592898269837,0.00371670426765969,0.0037687149452742,0.00477424173479335,0.00308487010938718,0.00371304409570206,0.00405504945089497,0.00403383885449904,0.00339875774656762,0.00300854146570706,0.00326530419631987,0.00308487010938718,0.00451914725501013,0.00345431666650275,0.00346136109778605,0.0033625058557214,0.00395449294496242,0.00346136109778605,0.00468794684174123,0.0030557972803803,0.00322534558967236],\"fEYhigh\":[0.00192591439828387,0.00188838072126811,0.00192793122919638,0.00187683006296159,0.00183200672073017,0.0020122196424826,0.0034542915160458,0.0121214078102178,0.015612191268408,0.0101848959808756,0.00833093763701764,0.005584159727543,0.00476450981126542,0.0041743051646318,0.00446435916473598,0.00204851879382739,0.00380771503567212,0.00371724944327212,0.00304073234447955,0.00313265446027955,0.00246239246013591,0.00300964170005413,0.00317521673652144,0.00341848573285242,0.0032988665335969,0.00259872874715827,0.00251517357243436,0.00293672107762044,0.00200140180579389,0.00255500354343985,0.00259090411418816,0.0036371433232768,0.00173090709508883,0.00255247724943175,0.00291717694978888,0.00284322253386327,0.00217762457067305,0.00168795946695577,0.00198274555387989,0.00173090709508883,0.00330940191978246,0.0020979077206561,0.00221787778212401,0.00204196353598241,0.00271917146013556,0.00221787778212401,0.00343368248517517,0.00171454804453863,0.00195840494962451]},{\"_typename\":\"TLegend\",\"fUniqueID\":0,\"fBits\":50331656,\"fLineColor\":1,\"fLineStyle\":1,\"fLineWidth\":1,\"fFillColor\":0,\"fFillStyle\":0,\"fX1\":109.800002296347,\"fY1\":0.953376624521731,\"fX2\":157.957897637491,\"fY2\":1.00246753373139,\"fX1NDC\":0.7,\"fY1NDC\":0.71,\"fX2NDC\":0.95,\"fY2NDC\":0.85,\"fBorderSize\":0,\"fInit\":1,\"fShadowColor\":1,\"fCornerRadius\":0,\"fOption\":\"brNDC\",\"fName\":\"TPave\",\"fTextAngle\":0,\"fTextSize\":0.03,\"fTextAlign\":12,\"fTextColor\":1,\"fTextFont\":42,\"fPrimitives\":{\"_typename\":\"TList\",\"name\":\"TList\",\"arr\":[{\"_typename\":\"TLegendEntry\",\"fUniqueID\":0,\"fBits\":50331656,\"fTextAngle\":0,\"fTextSize\":0,\"fTextAlign\":0,\"fTextColor\":0,\"fTextFont\":42,\"fLineColor\":1,\"fLineStyle\":1,\"fLineWidth\":1,\"fFillColor\":0,\"fFillStyle\":0,\"fMarkerColor\":1,\"fMarkerStyle\":8,\"fMarkerSize\":0.5,\"fObject\":{\"$ref\":3},\"fLabel\":\"p_{T}^{L1}>=20GeV, LooseTkID\",\"fOption\":\"P\"},{\"_typename\":\"TLegendEntry\",\"fUniqueID\":0,\"fBits\":50331656,\"fTextAngle\":0,\"fTextSize\":0,\"fTextAlign\":0,\"fTextColor\":0,\"fTextFont\":42,\"fLineColor\":1,\"fLineStyle\":1,\"fLineWidth\":1,\"fFillColor\":0,\"fFillStyle\":0,\"fMarkerColor\":628,\"fMarkerStyle\":21,\"fMarkerSize\":0.5,\"fObject\":{\"$ref\":10},\"fLabel\":\"p_{T}^{L1}>=20GeV\",\"fOption\":\"P\"}],\"opt\":[\"P\",\"P\"]},\"fEntrySeparation\":0.1,\"fMargin\":0.25,\"fNColumns\":1,\"fColumnSeparation\":0},{\"_typename\":\"TLatex\",\"fUniqueID\":0,\"fBits\":50348040,\"fName\":\"\",\"fTitle\":\"PU200, EG barrel, |#eta^{GEN}| <= 1.479\",\"fTextAngle\":0,\"fTextSize\":0.03,\"fTextAlign\":11,\"fTextColor\":1,\"fTextFont\":62,\"fX\":0.15,\"fY\":0.85,\"fLineColor\":1,\"fLineStyle\":1,\"fLineWidth\":2,\"fLimitFactorSize\":3,\"fOriginSize\":0.04},{\"_typename\":\"TLatex\",\"fUniqueID\":0,\"fBits\":50331656,\"fName\":\"\",\"fTitle\":\"\",\"fTextAngle\":0,\"fTextSize\":0.03,\"fTextAlign\":11,\"fTextColor\":1,\"fTextFont\":62,\"fX\":0,\"fY\":0,\"fLineColor\":1,\"fLineStyle\":1,\"fLineWidth\":2,\"fLimitFactorSize\":3,\"fOriginSize\":0.04},{\"_typename\":\"TLine\",\"fUniqueID\":0,\"fBits\":50331656,\"fLineColor\":1,\"fLineStyle\":2,\"fLineWidth\":1,\"fX1\":0,\"fY1\":0.95,\"fX2\":109.8,\"fY2\":0.95},{\"_typename\":\"TLine\",\"fUniqueID\":0,\"fBits\":50331656,\"fLineColor\":1,\"fLineStyle\":2,\"fLineWidth\":1,\"fX1\":0,\"fY1\":1,\"fX2\":109.8,\"fY2\":1}],\"opt\":[\"\",\"pa\",\",p\",\"same\",\"same\",\"same\",\"same\",\"same\"]},\"fExecs\":null,\"fName\":\"c_73ae39\",\"fTitle\":\"c_73ae39\",\"fNumPaletteColor\":0,\"fNextPaletteColor\":0,\"fDISPLAY\":\"$DISPLAY\",\"fDoubleBuffer\":0,\"fRetained\":true,\"fXsizeUser\":0,\"fYsizeUser\":0,\"fXsizeReal\":20,\"fYsizeReal\":15,\"fWindowTopX\":0,\"fWindowTopY\":0,\"fWindowWidth\":0,\"fWindowHeight\":0,\"fCw\":796,\"fCh\":572,\"fCatt\":{\"_typename\":\"TAttCanvas\",\"fXBetween\":2,\"fYBetween\":2,\"fTitleFromTop\":1.2,\"fXdate\":0.2,\"fYdate\":0.3,\"fAdate\":1},\"kMoveOpaque\":true,\"kResizeOpaque\":true,\"fHighLightColor\":2,\"fBatch\":true,\"kShowEventStatus\":false,\"kAutoExec\":true,\"kMenuBar\":true});\n",
       "       Core.draw(\"root_plot_23\", obj, \"\");\n",
       "     }\n",
       " );\n",
       "</script>\n"
      ],
      "text/plain": [
       "<IPython.core.display.HTML object>"
      ]
     },
     "metadata": {},
     "output_type": "display_data"
    }
   ],
   "source": [
    "hsets, labels, text = hplot.get_histo(histos.HistoSetEff, sample, ['PU200'], ['EGBRL'], ['Pt20', 'Pt20LooseTkID'], ['GENEtaF'])\n",
    "draw([his.h_eff.h_pt.CreateGraph() for his in hsets], labels, text=text, min_y=0.75, max_y=1.02, y_axis_label='L1 matched to GEN/GEN', h_lines=[0.95, 1])\n"
   ]
  },
  {
   "cell_type": "code",
   "execution_count": 43,
   "metadata": {},
   "outputs": [
    {
     "data": {
      "text/plain": [
       "<drawingTools.DrawMachine at 0x122b25490>"
      ]
     },
     "execution_count": 43,
     "metadata": {},
     "output_type": "execute_result"
    },
    {
     "name": "stderr",
     "output_type": "stream",
     "text": [
      "Info in <TCanvas::Print>: pdf file figs/EgammaBarrelOnlyCaloEff.pdf has been created\n"
     ]
    },
    {
     "data": {
      "text/html": [
       "\n",
       "<div id=\"root_plot_24\"\n",
       "     style=\"width: 596px; height: 572px\">\n",
       "</div>\n",
       "\n",
       "<script>\n",
       " requirejs.config({\n",
       "     paths: {\n",
       "       'JSRootCore' : 'https://root.cern.ch/js/notebook//scripts/JSRootCore',\n",
       "     }\n",
       "   });\n",
       " require(['JSRootCore'],\n",
       "     function(Core) {\n",
       "       var obj = Core.JSONR_unref({\"_typename\":\"TCanvas\",\"fUniqueID\":0,\"fBits\":53673992,\"fLineColor\":1,\"fLineStyle\":1,\"fLineWidth\":1,\"fFillColor\":0,\"fFillStyle\":1001,\"fLeftMargin\":0.13,\"fRightMargin\":0.13,\"fBottomMargin\":0.13,\"fTopMargin\":0.1,\"fXfile\":2,\"fYfile\":2,\"fAfile\":1,\"fXstat\":0.99,\"fYstat\":0.99,\"fAstat\":2,\"fFrameFillColor\":0,\"fFrameLineColor\":1,\"fFrameFillStyle\":1001,\"fFrameLineStyle\":1,\"fFrameLineWidth\":1,\"fFrameBorderSize\":1,\"fFrameBorderMode\":0,\"fX1\":-17.5675666967912,\"fY1\":0.762857143299478,\"fX2\":117.567566696791,\"fY2\":1.04857142970491,\"fXtoAbsPixelk\":77.4800471580505,\"fXtoPixelk\":77.4800471580505,\"fXtoPixel\":4.41040005683899,\"fYtoAbsPixelk\":2099.24004719113,\"fYtoPixelk\":2099.24004719113,\"fYtoPixel\":-2001.99999515712,\"fUtoAbsPixelk\":5e-5,\"fUtoPixelk\":5e-5,\"fUtoPixel\":596,\"fVtoAbsPixelk\":572.00005,\"fVtoPixelk\":572,\"fVtoPixel\":-572,\"fAbsPixeltoXk\":-17.5675666967912,\"fPixeltoXk\":-17.5675666967912,\"fPixeltoX\":0.226736800995944,\"fAbsPixeltoYk\":1.04857142970491,\"fPixeltoYk\":0.762857143299478,\"fPixeltoY\":-4.99500500708801e-4,\"fXlowNDC\":0,\"fYlowNDC\":0,\"fXUpNDC\":0,\"fYUpNDC\":0,\"fWNDC\":1,\"fHNDC\":1,\"fAbsXlowNDC\":0,\"fAbsYlowNDC\":0,\"fAbsWNDC\":1,\"fAbsHNDC\":1,\"fUxmin\":0,\"fUymin\":0.8,\"fUxmax\":100,\"fUymax\":1.02,\"fTheta\":30,\"fPhi\":30,\"fAspectRatio\":0,\"fNumber\":0,\"fTickx\":0,\"fTicky\":0,\"fLogx\":0,\"fLogy\":0,\"fLogz\":0,\"fPadPaint\":0,\"fCrosshair\":0,\"fCrosshairPos\":0,\"fBorderSize\":2,\"fBorderMode\":0,\"fModified\":false,\"fGridx\":false,\"fGridy\":false,\"fAbsCoord\":false,\"fEditable\":true,\"fFixedAspectRatio\":false,\"fPrimitives\":{\"_typename\":\"TList\",\"name\":\"TList\",\"arr\":[{\"_typename\":\"TFrame\",\"fUniqueID\":0,\"fBits\":50331656,\"fLineColor\":1,\"fLineStyle\":1,\"fLineWidth\":1,\"fFillColor\":0,\"fFillStyle\":1001,\"fX1\":0,\"fY1\":0.8,\"fX2\":100,\"fY2\":1.02,\"fBorderSize\":1,\"fBorderMode\":0},{\"_typename\":\"TGraphAsymmErrors\",\"fUniqueID\":0,\"fBits\":50332680,\"fName\":\"6b6d7a\",\"fTitle\":\"; p_{T}^{GEN} [GeV];\",\"fLineColor\":1,\"fLineStyle\":1,\"fLineWidth\":1,\"fFillColor\":0,\"fFillStyle\":1001,\"fMarkerColor\":1,\"fMarkerStyle\":8,\"fMarkerSize\":0.5,\"fNpoints\":25,\"fX\":[2,6,10,14,18,22,26,30,34,38,42,46,50,54,58,62,66,70,74,78,82,86,90,94,98],\"fY\":[0,0,0,0,0.00308008213552361,0.348326359832636,0.890825217837007,0.958656330749354,0.978958442924776,0.982429718875502,0.98379970544919,0.984218832193582,0.981921487603306,0.987109568666336,0.986821296784396,0.989021956087824,0.988008342022941,0.986117997025285,0.989302088639837,0.990683229813665,0.987234042553191,0.988859416445623,0.981432360742706,0.984008528784648,0.988076723691032],\"fFunctions\":{\"_typename\":\"TList\",\"name\":\"TList\",\"arr\":[],\"opt\":[]},\"fHistogram\":{\"_typename\":\"TH1F\",\"fUniqueID\":0,\"fBits\":50332160,\"fName\":\"6b6d7a\",\"fTitle\":\"\",\"fLineColor\":602,\"fLineStyle\":1,\"fLineWidth\":1,\"fFillColor\":0,\"fFillStyle\":1001,\"fMarkerColor\":1,\"fMarkerStyle\":1,\"fMarkerSize\":1,\"fNcells\":102,\"fXaxis\":{\"_typename\":\"TAxis\",\"fUniqueID\":0,\"fBits\":50331656,\"fName\":\"xaxis\",\"fTitle\":\" p_{T}^{GEN} [GeV]\",\"fNdivisions\":510,\"fAxisColor\":1,\"fLabelColor\":1,\"fLabelFont\":42,\"fLabelOffset\":0.005,\"fLabelSize\":0.035,\"fTickLength\":0.03,\"fTitleOffset\":1.4,\"fTitleSize\":0.035,\"fTitleColor\":1,\"fTitleFont\":42,\"fNbins\":100,\"fXmin\":0,\"fXmax\":100,\"fXbins\":[],\"fFirst\":0,\"fLast\":0,\"fBits2\":0,\"fTimeDisplay\":false,\"fTimeFormat\":\"\",\"fLabels\":null,\"fModLabs\":null},\"fYaxis\":{\"_typename\":\"TAxis\",\"fUniqueID\":0,\"fBits\":50331656,\"fName\":\"yaxis\",\"fTitle\":\"efficiency\",\"fNdivisions\":510,\"fAxisColor\":1,\"fLabelColor\":1,\"fLabelFont\":42,\"fLabelOffset\":0.005,\"fLabelSize\":0.035,\"fTickLength\":0.03,\"fTitleOffset\":0,\"fTitleSize\":0.035,\"fTitleColor\":1,\"fTitleFont\":42,\"fNbins\":1,\"fXmin\":0,\"fXmax\":1.09213796853915,\"fXbins\":[],\"fFirst\":0,\"fLast\":0,\"fBits2\":0,\"fTimeDisplay\":false,\"fTimeFormat\":\"\",\"fLabels\":null,\"fModLabs\":null},\"fZaxis\":{\"_typename\":\"TAxis\",\"fUniqueID\":0,\"fBits\":50331648,\"fName\":\"zaxis\",\"fTitle\":\"\",\"fNdivisions\":510,\"fAxisColor\":1,\"fLabelColor\":1,\"fLabelFont\":42,\"fLabelOffset\":0.005,\"fLabelSize\":0.035,\"fTickLength\":0.03,\"fTitleOffset\":1,\"fTitleSize\":0.035,\"fTitleColor\":1,\"fTitleFont\":42,\"fNbins\":1,\"fXmin\":0,\"fXmax\":1,\"fXbins\":[],\"fFirst\":0,\"fLast\":0,\"fBits2\":0,\"fTimeDisplay\":false,\"fTimeFormat\":\"\",\"fLabels\":null,\"fModLabs\":null},\"fBarOffset\":0,\"fBarWidth\":1000,\"fEntries\":0,\"fTsumw\":0,\"fTsumw2\":0,\"fTsumwx\":0,\"fTsumwx2\":0,\"fMaximum\":1.02,\"fMinimum\":0.8,\"fNormFactor\":0,\"fContour\":[],\"fSumw2\":[],\"fOption\":\"\",\"fFunctions\":{\"_typename\":\"TList\",\"name\":\"TList\",\"arr\":[],\"opt\":[]},\"fBufferSize\":0,\"fBuffer\":[],\"fBinStatErrOpt\":0,\"fStatOverflows\":2,\"fArray\":[0,0,0,0,0,0,0,0,0,0,0,0,0,0,0,0,0,0,0,0,0,0,0,0,0,0,0,0,0,0,0,0,0,0,0,0,0,0,0,0,0,0,0,0,0,0,0,0,0,0,0,0,0,0,0,0,0,0,0,0,0,0,0,0,0,0,0,0,0,0,0,0,0,0,0,0,0,0,0,0,0,0,0,0,0,0,0,0,0,0,0,0,0,0,0,0,0,0,0,0,0,0]},\"fMinimum\":-1111,\"fMaximum\":-1111,\"fEXlow\":[2,2,2,2,2,2,2,2,2,2,2,2,2,2,2,2,2,2,2,2,2,2,2,2,2],\"fEXhigh\":[2,2,2,2,2,2,2,2,2,2,2,2,2,2,2,2,2,2,2,2,2,2,2,2,2],\"fEYlow\":[0,0,0,0,0.0012210716916023,0.011073436326734,0.00752415182641908,0.00503752219392717,0.00383219725955908,0.00346322565436885,0.00330679235908993,0.00340613487288621,0.00356229776111305,0.00303177101632324,0.0031717556103632,0.00285499070357542,0.00303494630801637,0.00312355873377235,0.00286130036676102,0.00273750333744693,0.00314855898980093,0.00297885372245144,0.00365758696187457,0.00345107728373273,0.00301777062000075],\"fEYhigh\":[0.00192591439828387,9.54430986065682e-4,9.27503898987273e-4,9.74126418975377e-4,0.00183512635531987,0.0112358468532262,0.00710908513047814,0.00453650375674475,0.00328812152433566,0.00293762791017482,0.00279015940678284,0.00284989852980244,0.00302206077241318,0.00250115216900981,0.00260690480906367,0.00231468453255002,0.002472764754893,0.00259573010578584,0.00230814672266766,0.00216946885828961,0.00257705312213952,0.00240332758389028,0.00310329096646611,0.00288767079071828,0.00245871725968805]},{\"_typename\":\"TGraphAsymmErrors\",\"fUniqueID\":0,\"fBits\":50332680,\"fName\":\"8736eb\",\"fTitle\":\"; p_{T}^{GEN} [GeV];\",\"fLineColor\":628,\"fLineStyle\":1,\"fLineWidth\":1,\"fFillColor\":0,\"fFillStyle\":1001,\"fMarkerColor\":628,\"fMarkerStyle\":21,\"fMarkerSize\":0.5,\"fNpoints\":25,\"fX\":[2,6,10,14,18,22,26,30,34,38,42,46,50,54,58,62,66,70,74,78,82,86,90,94,98],\"fY\":[0,0,0,0,0.00308008213552361,0.35407949790795,0.900051255766274,0.965891472868217,0.985796948974224,0.985441767068273,0.988217967599411,0.990005260389269,0.988119834710744,0.992067426871591,0.993147074327886,0.99251497005988,0.991136600625652,0.99107585523054,0.993377483443709,0.995859213250518,0.992553191489362,0.995225464190981,0.994164456233422,0.992004264392324,0.996371176775531],\"fFunctions\":{\"_typename\":\"TList\",\"name\":\"TList\",\"arr\":[],\"opt\":[]},\"fHistogram\":{\"_typename\":\"TH1F\",\"fUniqueID\":0,\"fBits\":50332160,\"fName\":\"8736eb\",\"fTitle\":\"\",\"fLineColor\":602,\"fLineStyle\":1,\"fLineWidth\":1,\"fFillColor\":0,\"fFillStyle\":1001,\"fMarkerColor\":1,\"fMarkerStyle\":1,\"fMarkerSize\":1,\"fNcells\":102,\"fXaxis\":{\"_typename\":\"TAxis\",\"fUniqueID\":0,\"fBits\":50331656,\"fName\":\"xaxis\",\"fTitle\":\" p_{T}^{GEN} [GeV]\",\"fNdivisions\":510,\"fAxisColor\":1,\"fLabelColor\":1,\"fLabelFont\":42,\"fLabelOffset\":0.005,\"fLabelSize\":0.035,\"fTickLength\":0.03,\"fTitleOffset\":1.4,\"fTitleSize\":0.035,\"fTitleColor\":1,\"fTitleFont\":42,\"fNbins\":100,\"fXmin\":0,\"fXmax\":100,\"fXbins\":[],\"fFirst\":0,\"fLast\":0,\"fBits2\":0,\"fTimeDisplay\":false,\"fTimeFormat\":\"\",\"fLabels\":null,\"fModLabs\":null},\"fYaxis\":{\"_typename\":\"TAxis\",\"fUniqueID\":0,\"fBits\":50331656,\"fName\":\"yaxis\",\"fTitle\":\"efficiency\",\"fNdivisions\":510,\"fAxisColor\":1,\"fLabelColor\":1,\"fLabelFont\":42,\"fLabelOffset\":0.005,\"fLabelSize\":0.035,\"fTickLength\":0.03,\"fTitleOffset\":0,\"fTitleSize\":0.035,\"fTitleColor\":1,\"fTitleFont\":42,\"fNbins\":1,\"fXmin\":0,\"fXmax\":1.09747932731107,\"fXbins\":[],\"fFirst\":0,\"fLast\":0,\"fBits2\":0,\"fTimeDisplay\":false,\"fTimeFormat\":\"\",\"fLabels\":null,\"fModLabs\":null},\"fZaxis\":{\"_typename\":\"TAxis\",\"fUniqueID\":0,\"fBits\":50331648,\"fName\":\"zaxis\",\"fTitle\":\"\",\"fNdivisions\":510,\"fAxisColor\":1,\"fLabelColor\":1,\"fLabelFont\":42,\"fLabelOffset\":0.005,\"fLabelSize\":0.035,\"fTickLength\":0.03,\"fTitleOffset\":1,\"fTitleSize\":0.035,\"fTitleColor\":1,\"fTitleFont\":42,\"fNbins\":1,\"fXmin\":0,\"fXmax\":1,\"fXbins\":[],\"fFirst\":0,\"fLast\":0,\"fBits2\":0,\"fTimeDisplay\":false,\"fTimeFormat\":\"\",\"fLabels\":null,\"fModLabs\":null},\"fBarOffset\":0,\"fBarWidth\":1000,\"fEntries\":0,\"fTsumw\":0,\"fTsumw2\":0,\"fTsumwx\":0,\"fTsumwx2\":0,\"fMaximum\":1.02,\"fMinimum\":0.8,\"fNormFactor\":0,\"fContour\":[],\"fSumw2\":[],\"fOption\":\"\",\"fFunctions\":{\"_typename\":\"TList\",\"name\":\"TList\",\"arr\":[],\"opt\":[]},\"fBufferSize\":0,\"fBuffer\":[],\"fBinStatErrOpt\":0,\"fStatOverflows\":2,\"fArray\":[0,0,0,0,0,0,0,0,0,0,0,0,0,0,0,0,0,0,0,0,0,0,0,0,0,0,0,0,0,0,0,0,0,0,0,0,0,0,0,0,0,0,0,0,0,0,0,0,0,0,0,0,0,0,0,0,0,0,0,0,0,0,0,0,0,0,0,0,0,0,0,0,0,0,0,0,0,0,0,0,0,0,0,0,0,0,0,0,0,0,0,0,0,0,0,0,0,0,0,0,0,0]},\"fMinimum\":-1111,\"fMaximum\":-1111,\"fEXlow\":[2,2,2,2,2,2,2,2,2,2,2,2,2,2,2,2,2,2,2,2,2,2,2,2,2],\"fEXhigh\":[2,2,2,2,2,2,2,2,2,2,2,2,2,2,2,2,2,2,2,2,2,2,2,2,2],\"fEYlow\":[0,0,0,0,0.0012210716916023,0.0111175115478789,0.00725956753121371,0.00464389575075685,0.00326426306886873,0.00320759635942147,0.0029076921457919,0.00284072644184441,0.00300694148550007,0.00250692917180373,0.00246475844624883,0.00246208859697328,0.00269737635021794,0.00262281249952478,0.002382264112326,0.0020356849557448,0.00255647426759087,0.00217289493102046,0.00233339623487561,0.00262917800393836,0.00194906910938897],\"fEYhigh\":[0.00192591439828387,9.54430986065682e-4,9.27503898987273e-4,9.74126418975377e-4,0.00183512635531987,0.0112737479124335,0.00683410908405246,0.00413230361433392,0.00270370546904275,0.00267468142502325,0.00237917933940324,0.00226583674688374,0.00244986074260822,0.00195783190048504,0.00187257749644121,0.0019069229442068,0.00212292624839916,0.00207828400531607,0.00180972726583795,0.00143167083230611,0.0019622827558875,0.00155985852220974,0.00172993184919035,0.00203674445284252,0.00133730259816411]},{\"_typename\":\"TLegend\",\"fUniqueID\":0,\"fBits\":50331656,\"fLineColor\":1,\"fLineStyle\":1,\"fLineWidth\":1,\"fFillColor\":0,\"fFillStyle\":0,\"fX1\":63.5135133393582,\"fY1\":0.905714286502195,\"fX2\":98.6486480216896,\"fY2\":0.934285715142738,\"fX1NDC\":0.6,\"fY1NDC\":0.5,\"fX2NDC\":0.86,\"fY2NDC\":0.6,\"fBorderSize\":0,\"fInit\":1,\"fShadowColor\":1,\"fCornerRadius\":0,\"fOption\":\"brNDC\",\"fName\":\"TPave\",\"fTextAngle\":0,\"fTextSize\":0.03,\"fTextAlign\":12,\"fTextColor\":1,\"fTextFont\":42,\"fPrimitives\":{\"_typename\":\"TList\",\"name\":\"TList\",\"arr\":[{\"_typename\":\"TLegendEntry\",\"fUniqueID\":0,\"fBits\":50331656,\"fTextAngle\":0,\"fTextSize\":0,\"fTextAlign\":0,\"fTextColor\":0,\"fTextFont\":42,\"fLineColor\":1,\"fLineStyle\":1,\"fLineWidth\":1,\"fFillColor\":0,\"fFillStyle\":0,\"fMarkerColor\":1,\"fMarkerStyle\":8,\"fMarkerSize\":0.5,\"fObject\":{\"$ref\":3},\"fLabel\":\"w\\/o EG ID\",\"fOption\":\"P\"},{\"_typename\":\"TLegendEntry\",\"fUniqueID\":0,\"fBits\":50331656,\"fTextAngle\":0,\"fTextSize\":0,\"fTextAlign\":0,\"fTextColor\":0,\"fTextFont\":42,\"fLineColor\":1,\"fLineStyle\":1,\"fLineWidth\":1,\"fFillColor\":0,\"fFillStyle\":0,\"fMarkerColor\":628,\"fMarkerStyle\":21,\"fMarkerSize\":0.5,\"fObject\":{\"$ref\":10},\"fLabel\":\"w EG ID\",\"fOption\":\"P\"}],\"opt\":[\"P\",\"P\"]},\"fEntrySeparation\":0.1,\"fMargin\":0.25,\"fNColumns\":1,\"fColumnSeparation\":0},{\"_typename\":\"TLatex\",\"fUniqueID\":0,\"fBits\":50348040,\"fName\":\"\",\"fTitle\":\"EG barrel, |#eta^{GEN}| #leq 1.47, p_{T}^{L1} #geq 25GeV\",\"fTextAngle\":0,\"fTextSize\":0.03,\"fTextAlign\":11,\"fTextColor\":1,\"fTextFont\":62,\"fX\":0.15,\"fY\":0.85,\"fLineColor\":1,\"fLineStyle\":1,\"fLineWidth\":2,\"fLimitFactorSize\":3,\"fOriginSize\":0.0299999993294477},{\"_typename\":\"TLatex\",\"fUniqueID\":0,\"fBits\":50348041,\"fName\":\"\",\"fTitle\":\"#scale[1.5]{CMS} #scale[1.]{Phase-2 Simulation}\",\"fTextAngle\":0,\"fTextSize\":0.03,\"fTextAlign\":11,\"fTextColor\":1,\"fTextFont\":62,\"fX\":0.13,\"fY\":0.91,\"fLineColor\":1,\"fLineStyle\":1,\"fLineWidth\":2,\"fLimitFactorSize\":3,\"fOriginSize\":0.0299999993294477},{\"_typename\":\"TLatex\",\"fUniqueID\":0,\"fBits\":50348041,\"fName\":\"\",\"fTitle\":\"14TeV, 200 PU\",\"fTextAngle\":0,\"fTextSize\":0.03,\"fTextAlign\":11,\"fTextColor\":1,\"fTextFont\":62,\"fX\":0.69,\"fY\":0.91,\"fLineColor\":1,\"fLineStyle\":1,\"fLineWidth\":2,\"fLimitFactorSize\":3,\"fOriginSize\":0.0299999993294477},{\"_typename\":\"TLatex\",\"fUniqueID\":0,\"fBits\":50331656,\"fName\":\"\",\"fTitle\":\"\",\"fTextAngle\":0,\"fTextSize\":0.03,\"fTextAlign\":11,\"fTextColor\":1,\"fTextFont\":62,\"fX\":0,\"fY\":0,\"fLineColor\":1,\"fLineStyle\":1,\"fLineWidth\":2,\"fLimitFactorSize\":3,\"fOriginSize\":0.04},{\"_typename\":\"TLine\",\"fUniqueID\":0,\"fBits\":50331656,\"fLineColor\":1,\"fLineStyle\":2,\"fLineWidth\":1,\"fX1\":0,\"fY1\":0.95,\"fX2\":100,\"fY2\":0.95},{\"_typename\":\"TLine\",\"fUniqueID\":0,\"fBits\":50331656,\"fLineColor\":1,\"fLineStyle\":2,\"fLineWidth\":1,\"fX1\":0,\"fY1\":1,\"fX2\":100,\"fY2\":1}],\"opt\":[\"\",\"pa\",\",p\",\"same\",\"same\",\"\",\"\",\"same\",\"same\",\"same\"]},\"fExecs\":null,\"fName\":\"c_f72e87\",\"fTitle\":\"c_f72e87\",\"fNumPaletteColor\":0,\"fNextPaletteColor\":0,\"fDISPLAY\":\"$DISPLAY\",\"fDoubleBuffer\":0,\"fRetained\":true,\"fXsizeUser\":0,\"fYsizeUser\":0,\"fXsizeReal\":20,\"fYsizeReal\":20,\"fWindowTopX\":0,\"fWindowTopY\":0,\"fWindowWidth\":0,\"fWindowHeight\":0,\"fCw\":596,\"fCh\":572,\"fCatt\":{\"_typename\":\"TAttCanvas\",\"fXBetween\":2,\"fYBetween\":2,\"fTitleFromTop\":1.2,\"fXdate\":0.2,\"fYdate\":0.3,\"fAdate\":1},\"kMoveOpaque\":true,\"kResizeOpaque\":true,\"fHighLightColor\":2,\"fBatch\":true,\"kShowEventStatus\":false,\"kAutoExec\":true,\"kMenuBar\":true});\n",
       "       Core.draw(\"root_plot_24\", obj, \"\");\n",
       "     }\n",
       " );\n",
       "</script>\n"
      ],
      "text/plain": [
       "<IPython.core.display.HTML object>"
      ]
     },
     "metadata": {},
     "output_type": "display_data"
    }
   ],
   "source": [
    "hsets, labels, text = hplot.get_histo(histos.HistoSetEff, sample, ['PU200'], ['EGBRL'], ['Pt25', 'Pt25LooseTkID'], ['GENEtaF', 'all'])\n",
    "for hset in hsets:\n",
    "    hset.computeEff(rebin=2)\n",
    "\n",
    "labels=['w/o EG ID', 'w EG ID']\n",
    "legend_position = (0.6, 0.5, 0.86, 0.6)\n",
    "text_forprint='EG barrel, |#eta^{GEN}| #leq 1.47, p_{T}^{L1} #geq 25GeV'\n",
    "draw([his.h_eff.h_pt.CreateGraph() for his in hsets], labels, text=text_forprint, \n",
    "     min_y=0.8, max_y=1.02, min_x=0.0, max_x=100, \n",
    "     y_axis_label='efficiency', h_lines=[0.95, 1],\n",
    "     legend_position=legend_position,\n",
    "     do_write=True, write_name='figs/EgammaBarrelOnlyCaloEff')\n"
   ]
  },
  {
   "cell_type": "code",
   "execution_count": 44,
   "metadata": {},
   "outputs": [
    {
     "data": {
      "text/plain": [
       "<drawingTools.DrawMachine at 0x11acd3310>"
      ]
     },
     "execution_count": 44,
     "metadata": {},
     "output_type": "execute_result"
    },
    {
     "name": "stderr",
     "output_type": "stream",
     "text": [
      "Info in <TCanvas::Print>: pdf file figs/egammaBarrel_TkEle_LooseTkIDPt25_GENEtaF_hEffvPt.pdf has been created\n"
     ]
    },
    {
     "data": {
      "text/html": [
       "\n",
       "<div id=\"root_plot_25\"\n",
       "     style=\"width: 596px; height: 572px\">\n",
       "</div>\n",
       "\n",
       "<script>\n",
       " requirejs.config({\n",
       "     paths: {\n",
       "       'JSRootCore' : 'https://root.cern.ch/js/notebook//scripts/JSRootCore',\n",
       "     }\n",
       "   });\n",
       " require(['JSRootCore'],\n",
       "     function(Core) {\n",
       "       var obj = Core.JSONR_unref({\"_typename\":\"TCanvas\",\"fUniqueID\":0,\"fBits\":53673992,\"fLineColor\":1,\"fLineStyle\":1,\"fLineWidth\":1,\"fFillColor\":0,\"fFillStyle\":1001,\"fLeftMargin\":0.13,\"fRightMargin\":0.13,\"fBottomMargin\":0.13,\"fTopMargin\":0.1,\"fXfile\":2,\"fYfile\":2,\"fAfile\":1,\"fXstat\":0.99,\"fYstat\":0.99,\"fAstat\":2,\"fFrameFillColor\":0,\"fFrameLineColor\":1,\"fFrameFillStyle\":1001,\"fFrameLineStyle\":1,\"fFrameLineWidth\":1,\"fFrameBorderSize\":1,\"fFrameBorderMode\":0,\"fX1\":-19.2891882330767,\"fY1\":-0.185714283502611,\"fX2\":129.089188233077,\"fY2\":1.24285714852456,\"fXtoAbsPixelk\":77.4800471580505,\"fXtoPixelk\":77.4800471580505,\"fXtoPixel\":4.01675779311383,\"fYtoAbsPixelk\":497.640051065433,\"fYtoPixelk\":497.640051065433,\"fYtoPixel\":-400.399999031424,\"fUtoAbsPixelk\":5e-5,\"fUtoPixelk\":5e-5,\"fUtoPixel\":596,\"fVtoAbsPixelk\":572.00005,\"fVtoPixelk\":572,\"fVtoPixel\":-572,\"fAbsPixeltoXk\":-19.2891882330767,\"fPixeltoXk\":-19.2891882330767,\"fPixeltoX\":0.248957007493546,\"fAbsPixeltoYk\":1.24285714852456,\"fPixeltoYk\":-0.185714283502611,\"fPixeltoY\":-0.00249750250354401,\"fXlowNDC\":0,\"fYlowNDC\":0,\"fXUpNDC\":0,\"fYUpNDC\":0,\"fWNDC\":1,\"fHNDC\":1,\"fAbsXlowNDC\":0,\"fAbsYlowNDC\":0,\"fAbsWNDC\":1,\"fAbsHNDC\":1,\"fUxmin\":0,\"fUymin\":0,\"fUxmax\":109.8,\"fUymax\":1.1,\"fTheta\":30,\"fPhi\":30,\"fAspectRatio\":0,\"fNumber\":0,\"fTickx\":0,\"fTicky\":0,\"fLogx\":0,\"fLogy\":0,\"fLogz\":0,\"fPadPaint\":0,\"fCrosshair\":0,\"fCrosshairPos\":0,\"fBorderSize\":2,\"fBorderMode\":0,\"fModified\":false,\"fGridx\":false,\"fGridy\":false,\"fAbsCoord\":false,\"fEditable\":true,\"fFixedAspectRatio\":false,\"fPrimitives\":{\"_typename\":\"TList\",\"name\":\"TList\",\"arr\":[{\"_typename\":\"TFrame\",\"fUniqueID\":0,\"fBits\":50331656,\"fLineColor\":1,\"fLineStyle\":1,\"fLineWidth\":1,\"fFillColor\":0,\"fFillStyle\":1001,\"fX1\":0,\"fY1\":0,\"fX2\":109.8,\"fY2\":1.1,\"fBorderSize\":1,\"fBorderMode\":0},{\"_typename\":\"TGraphAsymmErrors\",\"fUniqueID\":0,\"fBits\":50332680,\"fName\":\"62f9fe\",\"fTitle\":\"; p_{T}^{GEN} [GeV];\",\"fLineColor\":1,\"fLineStyle\":1,\"fLineWidth\":1,\"fFillColor\":0,\"fFillStyle\":1001,\"fMarkerColor\":1,\"fMarkerStyle\":8,\"fMarkerSize\":0.5,\"fNpoints\":49,\"fX\":[3,5,7,9,11,13,15,17,19,21,23,25,27,29,31,33,35,37,39,41,43,45,47,49,51,53,55,57,59,61,63,65,67,69,71,73,75,77,79,81,83,85,87,89,91,93,95,97,99],\"fY\":[0,0,0,0,0,0,0,0,0.00598802395209581,0.113188976377953,0.614955357142857,0.863404689092762,0.918556701030928,0.955806783144913,0.961538461538462,0.982869379014989,0.975180972078594,0.976608187134503,0.988612836438923,0.980808080808081,0.986628462273161,0.982581967213115,0.985945945945946,0.980923694779116,0.982978723404255,0.986895161290323,0.987317073170732,0.985122210414453,0.988493723849372,0.987115956392468,0.990954773869347,0.983589743589744,0.992576882290562,0.987128712871287,0.985104270109235,0.987654320987654,0.990918264379415,0.993795243019648,0.987564766839378,0.991516436903499,0.982924226254002,0.989035087719298,0.988694758478931,0.987193169690502,0.975738396624473,0.986639260020555,0.981173864894795,0.983193277310924,0.992835209825998],\"fFunctions\":{\"_typename\":\"TList\",\"name\":\"TList\",\"arr\":[],\"opt\":[]},\"fHistogram\":{\"_typename\":\"TH1F\",\"fUniqueID\":0,\"fBits\":50332160,\"fName\":\"62f9fe\",\"fTitle\":\"\",\"fLineColor\":602,\"fLineStyle\":1,\"fLineWidth\":1,\"fFillColor\":0,\"fFillStyle\":1001,\"fMarkerColor\":1,\"fMarkerStyle\":1,\"fMarkerSize\":1,\"fNcells\":102,\"fXaxis\":{\"_typename\":\"TAxis\",\"fUniqueID\":0,\"fBits\":50331656,\"fName\":\"xaxis\",\"fTitle\":\" p_{T}^{GEN} [GeV]\",\"fNdivisions\":510,\"fAxisColor\":1,\"fLabelColor\":1,\"fLabelFont\":42,\"fLabelOffset\":0.005,\"fLabelSize\":0.035,\"fTickLength\":0.03,\"fTitleOffset\":1.4,\"fTitleSize\":0.035,\"fTitleColor\":1,\"fTitleFont\":42,\"fNbins\":100,\"fXmin\":0,\"fXmax\":109.8,\"fXbins\":[],\"fFirst\":0,\"fLast\":0,\"fBits2\":0,\"fTimeDisplay\":false,\"fTimeFormat\":\"\",\"fLabels\":null,\"fModLabs\":null},\"fYaxis\":{\"_typename\":\"TAxis\",\"fUniqueID\":0,\"fBits\":50331656,\"fName\":\"yaxis\",\"fTitle\":\"efficiency\",\"fNdivisions\":510,\"fAxisColor\":1,\"fLabelColor\":1,\"fLabelFont\":42,\"fLabelOffset\":0.005,\"fLabelSize\":0.035,\"fTickLength\":0.03,\"fTitleOffset\":0,\"fTitleSize\":0.035,\"fTitleColor\":1,\"fTitleFont\":42,\"fNbins\":1,\"fXmin\":0,\"fXmax\":1.09587908628848,\"fXbins\":[],\"fFirst\":0,\"fLast\":0,\"fBits2\":0,\"fTimeDisplay\":false,\"fTimeFormat\":\"\",\"fLabels\":null,\"fModLabs\":null},\"fZaxis\":{\"_typename\":\"TAxis\",\"fUniqueID\":0,\"fBits\":50331648,\"fName\":\"zaxis\",\"fTitle\":\"\",\"fNdivisions\":510,\"fAxisColor\":1,\"fLabelColor\":1,\"fLabelFont\":42,\"fLabelOffset\":0.005,\"fLabelSize\":0.035,\"fTickLength\":0.03,\"fTitleOffset\":1,\"fTitleSize\":0.035,\"fTitleColor\":1,\"fTitleFont\":42,\"fNbins\":1,\"fXmin\":0,\"fXmax\":1,\"fXbins\":[],\"fFirst\":0,\"fLast\":0,\"fBits2\":0,\"fTimeDisplay\":false,\"fTimeFormat\":\"\",\"fLabels\":null,\"fModLabs\":null},\"fBarOffset\":0,\"fBarWidth\":1000,\"fEntries\":0,\"fTsumw\":0,\"fTsumw2\":0,\"fTsumwx\":0,\"fTsumwx2\":0,\"fMaximum\":1.1,\"fMinimum\":0,\"fNormFactor\":0,\"fContour\":[],\"fSumw2\":[],\"fOption\":\"\",\"fFunctions\":{\"_typename\":\"TList\",\"name\":\"TList\",\"arr\":[],\"opt\":[]},\"fBufferSize\":0,\"fBuffer\":[],\"fBinStatErrOpt\":0,\"fStatOverflows\":2,\"fArray\":[0,0,0,0,0,0,0,0,0,0,0,0,0,0,0,0,0,0,0,0,0,0,0,0,0,0,0,0,0,0,0,0,0,0,0,0,0,0,0,0,0,0,0,0,0,0,0,0,0,0,0,0,0,0,0,0,0,0,0,0,0,0,0,0,0,0,0,0,0,0,0,0,0,0,0,0,0,0,0,0,0,0,0,0,0,0,0,0,0,0,0,0,0,0,0,0,0,0,0,0,0,0]},\"fMinimum\":-1111,\"fMaximum\":-1111,\"fEXlow\":[1,1,1,1,1,1,1,1,1,1,1,1,1,1,1,1,1,1,1,1,1,1,1,1,1,1,1,1,1,1,1,1,1,1,1,1,1,1,1,1,1,1,1,1,1,1,1,1,1],\"fEXhigh\":[1,1,1,1,1,1,1,1,1,1,1,1,1,1,1,1,1,1,1,1,1,1,1,1,1,1,1,1,1,1,1,1,1,1,1,1,1,1,1,1,1,1,1,1,1,1,1,1,1],\"fEYlow\":[0,0,0,0,0,0,0,0,0.00237268749339594,0.0100318792584376,0.016937645035302,0.0118597039347041,0.00975602531287523,0.00761449132345238,0.00724820314509156,0.00538071220150993,0.00607461380450869,0.00573051139715564,0.00453545219705154,0.00542218062404387,0.00457200040969741,0.00527090873482616,0.00502981096096344,0.00538992453918563,0.00534675830012488,0.00469316346085868,0.00454338590023584,0.00508180368859201,0.00458250785696968,0.00461479276770549,0.00410362992995417,0.0051569300787101,0.00397534009305411,0.00461026415054466,0.00487539106013979,0.00465116722987502,0.00412008311677536,0.00368757273200959,0.00468461365125694,0.00415710002400316,0.00536368152487077,0.00464204950992608,0.0045030840896656,0.00482335158911695,0.00609244779381179,0.004783964886516,0.00569169580600393,0.00528011983830201,0.00383776384932644],\"fEYhigh\":[0.00192591439828387,0.00188838072126811,0.00192793122919638,0.00187683006296159,0.00183200672073017,0.0020122196424826,0.0018864457485102,0.00194421922799597,0.00355938439649433,0.0108305728438283,0.0166724224800159,0.0110848349954452,0.00884288011171963,0.00660501935759605,0.00620874677651073,0.0042169362018768,0.00499074806033117,0.00470593404803643,0.00337108889036319,0.00433882798010832,0.00351783098283531,0.00416153953398224,0.00383301458973628,0.00431284132913823,0.00419015062774142,0.00357502929533537,0.00346031678862613,0.00391249664474336,0.00340625125560823,0.00351500111627068,0.0029522876686886,0.00404044075379595,0.00273356828433413,0.00351153276094196,0.00378709460693349,0.00350262603554374,0.00296417981278918,0.00245847178806469,0.00352795278951212,0.00293050373987402,0.00420350074674014,0.00339988523597545,0.0033469040705264,0.00363303144619731,0.00498337593517495,0.00364459304342257,0.00449611588922394,0.00413758745742177,0.00263857169784887]},{\"_typename\":\"TGraphAsymmErrors\",\"fUniqueID\":0,\"fBits\":50332680,\"fName\":\"2342d9\",\"fTitle\":\"; p_{T}^{GEN} [GeV];\",\"fLineColor\":628,\"fLineStyle\":1,\"fLineWidth\":1,\"fFillColor\":0,\"fFillStyle\":1001,\"fMarkerColor\":628,\"fMarkerStyle\":21,\"fMarkerSize\":0.5,\"fNpoints\":49,\"fX\":[3,5,7,9,11,13,15,17,19,21,23,25,27,29,31,33,35,37,39,41,43,45,47,49,51,53,55,57,59,61,63,65,67,69,71,73,75,77,79,81,83,85,87,89,91,93,95,97,99],\"fY\":[0,0,0,0,0,0,0,0,0.00499001996007984,0.0984251968503937,0.558035714285714,0.741080530071356,0.791752577319588,0.817060637204522,0.832640332640333,0.850107066381156,0.832471561530507,0.846003898635478,0.89648033126294,0.886868686868687,0.878701050620821,0.864754098360656,0.874594594594595,0.8785140562249,0.89468085106383,0.893145161290323,0.879024390243902,0.889479277364506,0.902719665271967,0.921704658077304,0.916582914572864,0.901538461538462,0.904559915164369,0.908910891089109,0.915590863952334,0.8940329218107,0.917255297679112,0.915201654601861,0.919170984455959,0.926829268292683,0.906083244397012,0.926535087719298,0.929085303186023,0.932764140875133,0.917721518987342,0.932168550873587,0.91140642303433,0.920168067226891,0.932446264073695],\"fFunctions\":{\"_typename\":\"TList\",\"name\":\"TList\",\"arr\":[],\"opt\":[]},\"fHistogram\":{\"_typename\":\"TH1F\",\"fUniqueID\":0,\"fBits\":50332160,\"fName\":\"2342d9\",\"fTitle\":\"\",\"fLineColor\":602,\"fLineStyle\":1,\"fLineWidth\":1,\"fFillColor\":0,\"fFillStyle\":1001,\"fMarkerColor\":1,\"fMarkerStyle\":1,\"fMarkerSize\":1,\"fNcells\":102,\"fXaxis\":{\"_typename\":\"TAxis\",\"fUniqueID\":0,\"fBits\":50331656,\"fName\":\"xaxis\",\"fTitle\":\" p_{T}^{GEN} [GeV]\",\"fNdivisions\":510,\"fAxisColor\":1,\"fLabelColor\":1,\"fLabelFont\":42,\"fLabelOffset\":0.005,\"fLabelSize\":0.035,\"fTickLength\":0.03,\"fTitleOffset\":1.4,\"fTitleSize\":0.035,\"fTitleColor\":1,\"fTitleFont\":42,\"fNbins\":100,\"fXmin\":0,\"fXmax\":109.8,\"fXbins\":[],\"fFirst\":0,\"fLast\":0,\"fBits2\":0,\"fTimeDisplay\":false,\"fTimeFormat\":\"\",\"fLabels\":null,\"fModLabs\":null},\"fYaxis\":{\"_typename\":\"TAxis\",\"fUniqueID\":0,\"fBits\":50331656,\"fName\":\"yaxis\",\"fTitle\":\"efficiency\",\"fNdivisions\":510,\"fAxisColor\":1,\"fLabelColor\":1,\"fLabelFont\":42,\"fLabelOffset\":0.005,\"fLabelSize\":0.035,\"fTickLength\":0.03,\"fTitleOffset\":0,\"fTitleSize\":0.035,\"fTitleColor\":1,\"fTitleFont\":42,\"fNbins\":1,\"fXmin\":0,\"fXmax\":1.03509002515367,\"fXbins\":[],\"fFirst\":0,\"fLast\":0,\"fBits2\":0,\"fTimeDisplay\":false,\"fTimeFormat\":\"\",\"fLabels\":null,\"fModLabs\":null},\"fZaxis\":{\"_typename\":\"TAxis\",\"fUniqueID\":0,\"fBits\":50331648,\"fName\":\"zaxis\",\"fTitle\":\"\",\"fNdivisions\":510,\"fAxisColor\":1,\"fLabelColor\":1,\"fLabelFont\":42,\"fLabelOffset\":0.005,\"fLabelSize\":0.035,\"fTickLength\":0.03,\"fTitleOffset\":1,\"fTitleSize\":0.035,\"fTitleColor\":1,\"fTitleFont\":42,\"fNbins\":1,\"fXmin\":0,\"fXmax\":1,\"fXbins\":[],\"fFirst\":0,\"fLast\":0,\"fBits2\":0,\"fTimeDisplay\":false,\"fTimeFormat\":\"\",\"fLabels\":null,\"fModLabs\":null},\"fBarOffset\":0,\"fBarWidth\":1000,\"fEntries\":0,\"fTsumw\":0,\"fTsumw2\":0,\"fTsumwx\":0,\"fTsumwx2\":0,\"fMaximum\":1.1,\"fMinimum\":0,\"fNormFactor\":0,\"fContour\":[],\"fSumw2\":[],\"fOption\":\"\",\"fFunctions\":{\"_typename\":\"TList\",\"name\":\"TList\",\"arr\":[],\"opt\":[]},\"fBufferSize\":0,\"fBuffer\":[],\"fBinStatErrOpt\":0,\"fStatOverflows\":2,\"fArray\":[0,0,0,0,0,0,0,0,0,0,0,0,0,0,0,0,0,0,0,0,0,0,0,0,0,0,0,0,0,0,0,0,0,0,0,0,0,0,0,0,0,0,0,0,0,0,0,0,0,0,0,0,0,0,0,0,0,0,0,0,0,0,0,0,0,0,0,0,0,0,0,0,0,0,0,0,0,0,0,0,0,0,0,0,0,0,0,0,0,0,0,0,0,0,0,0,0,0,0,0,0,0]},\"fMinimum\":-1111,\"fMaximum\":-1111,\"fEXlow\":[1,1,1,1,1,1,1,1,1,1,1,1,1,1,1,1,1,1,1,1,1,1,1,1,1,1,1,1,1,1,1,1,1,1,1,1,1,1,1,1,1,1,1,1,1,1,1,1,1],\"fEXhigh\":[1,1,1,1,1,1,1,1,1,1,1,1,1,1,1,1,1,1,1,1,1,1,1,1,1,1,1,1,1,1,1,1,1,1,1,1,1,1,1,1,1,1,1,1,1,1,1,1,1],\"fEYlow\":[0,0,0,0,0,0,0,0,0.00215373679242055,0.00942234511168936,0.0172060625265414,0.0147435974583356,0.013860618066791,0.0132433454827802,0.012912307415246,0.0126045736307955,0.012881230265772,0.0121048623688079,0.0107510575744859,0.0109817084040726,0.0109448362176231,0.0118480796419516,0.0118529330782804,0.0112507731645274,0.0109858398198089,0.0107288246566922,0.0110597038994619,0.0111870980275895,0.010551861006031,0.00939693116650631,0.00971266670973281,0.0104886526029606,0.0105516337186897,0.00997668923097461,0.00969451403029098,0.0108131144008446,0.00970281576261534,0.00993117948408428,0.00975434970089251,0.00949414234411861,0.0105217162402514,0.00968756100616142,0.00921406957272408,0.00921020669982864,0.0099204869242886,0.00905084137624312,0.0104932356009163,0.0097790842329134,0.00901530856618815],\"fEYhigh\":[0.00192591439828387,0.00188838072126811,0.00192793122919638,0.00187683006296159,0.00183200672073017,0.0020122196424826,0.0018864457485102,0.00194421922799597,0.00336160272936716,0.0102540174371708,0.0170722536069557,0.0142345006345456,0.0132356689466863,0.0125650211963285,0.0121913247200736,0.0118210103173053,0.012164425853517,0.011401622552149,0.00988734134829705,0.0101614161241754,0.0101876069380835,0.0110661163095915,0.0110033215266251,0.0104543018036887,0.0101020101068167,0.00989593510873654,0.0102851566305884,0.0103167900068655,0.00966389406889634,0.00851253917977779,0.00882779776244791,0.0096212121869188,0.00964659322188144,0.00912315637441241,0.00882280088852783,0.00996059667356197,0.0088126672539961,0.00902338775726641,0.00883481988740653,0.00853283155291362,0.00960695168901182,0.00869340502668925,0.00827752062692111,0.00822679108274638,0.00898767475424234,0.00810640688944153,0.00952927140580007,0.00884413504253057,0.00807414211178881]},{\"_typename\":\"TLegend\",\"fUniqueID\":0,\"fBits\":50331656,\"fLineColor\":1,\"fLineStyle\":1,\"fLineWidth\":1,\"fFillColor\":0,\"fFillStyle\":0,\"fX1\":69.7378376466153,\"fY1\":0.528571432510975,\"fX2\":108.316215527815,\"fY2\":0.671428575713692,\"fX1NDC\":0.6,\"fY1NDC\":0.5,\"fX2NDC\":0.86,\"fY2NDC\":0.6,\"fBorderSize\":0,\"fInit\":1,\"fShadowColor\":1,\"fCornerRadius\":0,\"fOption\":\"brNDC\",\"fName\":\"TPave\",\"fTextAngle\":0,\"fTextSize\":0.03,\"fTextAlign\":12,\"fTextColor\":1,\"fTextFont\":42,\"fPrimitives\":{\"_typename\":\"TList\",\"name\":\"TList\",\"arr\":[{\"_typename\":\"TLegendEntry\",\"fUniqueID\":0,\"fBits\":50331656,\"fTextAngle\":0,\"fTextSize\":0,\"fTextAlign\":0,\"fTextColor\":0,\"fTextFont\":42,\"fLineColor\":1,\"fLineStyle\":1,\"fLineWidth\":1,\"fFillColor\":0,\"fFillStyle\":0,\"fMarkerColor\":1,\"fMarkerStyle\":8,\"fMarkerSize\":0.5,\"fObject\":{\"$ref\":3},\"fLabel\":\"calorimeter only\",\"fOption\":\"P\"},{\"_typename\":\"TLegendEntry\",\"fUniqueID\":0,\"fBits\":50331656,\"fTextAngle\":0,\"fTextSize\":0,\"fTextAlign\":0,\"fTextColor\":0,\"fTextFont\":42,\"fLineColor\":1,\"fLineStyle\":1,\"fLineWidth\":1,\"fFillColor\":0,\"fFillStyle\":0,\"fMarkerColor\":628,\"fMarkerStyle\":21,\"fMarkerSize\":0.5,\"fObject\":{\"$ref\":10},\"fLabel\":\"track-matched\",\"fOption\":\"P\"}],\"opt\":[\"P\",\"P\"]},\"fEntrySeparation\":0.1,\"fMargin\":0.25,\"fNColumns\":1,\"fColumnSeparation\":0},{\"_typename\":\"TLatex\",\"fUniqueID\":0,\"fBits\":50348040,\"fName\":\"\",\"fTitle\":\"EG barrel, |#eta^{GEN}| #leq 1.479, p_{T}^{L1} #geq 25GeV\",\"fTextAngle\":0,\"fTextSize\":0.03,\"fTextAlign\":11,\"fTextColor\":1,\"fTextFont\":62,\"fX\":0.15,\"fY\":0.85,\"fLineColor\":1,\"fLineStyle\":1,\"fLineWidth\":2,\"fLimitFactorSize\":3,\"fOriginSize\":0.0299999993294477},{\"_typename\":\"TLatex\",\"fUniqueID\":0,\"fBits\":50348041,\"fName\":\"\",\"fTitle\":\"#scale[1.5]{CMS} #scale[1.]{Phase-2 Simulation}\",\"fTextAngle\":0,\"fTextSize\":0.03,\"fTextAlign\":11,\"fTextColor\":1,\"fTextFont\":62,\"fX\":0.13,\"fY\":0.91,\"fLineColor\":1,\"fLineStyle\":1,\"fLineWidth\":2,\"fLimitFactorSize\":3,\"fOriginSize\":0.0299999993294477},{\"_typename\":\"TLatex\",\"fUniqueID\":0,\"fBits\":50348041,\"fName\":\"\",\"fTitle\":\"14TeV, 200 PU\",\"fTextAngle\":0,\"fTextSize\":0.03,\"fTextAlign\":11,\"fTextColor\":1,\"fTextFont\":62,\"fX\":0.69,\"fY\":0.91,\"fLineColor\":1,\"fLineStyle\":1,\"fLineWidth\":2,\"fLimitFactorSize\":3,\"fOriginSize\":0.0299999993294477},{\"_typename\":\"TLatex\",\"fUniqueID\":0,\"fBits\":50331656,\"fName\":\"\",\"fTitle\":\"\",\"fTextAngle\":0,\"fTextSize\":0.03,\"fTextAlign\":11,\"fTextColor\":1,\"fTextFont\":62,\"fX\":0,\"fY\":0,\"fLineColor\":1,\"fLineStyle\":1,\"fLineWidth\":2,\"fLimitFactorSize\":3,\"fOriginSize\":0.04},{\"_typename\":\"TLine\",\"fUniqueID\":0,\"fBits\":50331656,\"fLineColor\":1,\"fLineStyle\":2,\"fLineWidth\":1,\"fX1\":0,\"fY1\":0.95,\"fX2\":109.8,\"fY2\":0.95},{\"_typename\":\"TLine\",\"fUniqueID\":0,\"fBits\":50331656,\"fLineColor\":1,\"fLineStyle\":2,\"fLineWidth\":1,\"fX1\":0,\"fY1\":1,\"fX2\":109.8,\"fY2\":1}],\"opt\":[\"\",\"pa\",\",p\",\"same\",\"same\",\"\",\"\",\"same\",\"same\",\"same\"]},\"fExecs\":null,\"fName\":\"c_7efaf2\",\"fTitle\":\"c_7efaf2\",\"fNumPaletteColor\":0,\"fNextPaletteColor\":0,\"fDISPLAY\":\"$DISPLAY\",\"fDoubleBuffer\":0,\"fRetained\":true,\"fXsizeUser\":0,\"fYsizeUser\":0,\"fXsizeReal\":20,\"fYsizeReal\":20,\"fWindowTopX\":0,\"fWindowTopY\":0,\"fWindowWidth\":0,\"fWindowHeight\":0,\"fCw\":596,\"fCh\":572,\"fCatt\":{\"_typename\":\"TAttCanvas\",\"fXBetween\":2,\"fYBetween\":2,\"fTitleFromTop\":1.2,\"fXdate\":0.2,\"fYdate\":0.3,\"fAdate\":1},\"kMoveOpaque\":true,\"kResizeOpaque\":true,\"fHighLightColor\":2,\"fBatch\":true,\"kShowEventStatus\":false,\"kAutoExec\":true,\"kMenuBar\":true});\n",
       "       Core.draw(\"root_plot_25\", obj, \"\");\n",
       "     }\n",
       " );\n",
       "</script>\n"
      ],
      "text/plain": [
       "<IPython.core.display.HTML object>"
      ]
     },
     "metadata": {},
     "output_type": "display_data"
    }
   ],
   "source": [
    "hsets, labels, text = hplot.get_histo(histos.HistoSetEff, sample, ['PU200'], ['EGALL', 'TkEleELALL'], 'Pt25LooseTkID', 'GENEtaF')\n",
    "labels=['calorimeter only', 'track-matched']\n",
    "legend_position = (0.6, 0.5, 0.86, 0.6)\n",
    "text_forprint='EG barrel, |#eta^{GEN}| #leq 1.479, p_{T}^{L1} #geq 25GeV'\n",
    "draw([his.h_eff.h_pt.CreateGraph() for his in hsets], labels, text=text_forprint, min_y=0, max_y=1.1, \n",
    "     y_axis_label='efficiency', h_lines=[0.95, 1],\n",
    "     legend_position=legend_position,\n",
    "     do_write=True, write_name='figs/egammaBarrel_TkEle_LooseTkIDPt25_GENEtaF_hEffvPt')\n"
   ]
  },
  {
   "cell_type": "markdown",
   "metadata": {},
   "source": [
    "## Efficiency vs fBrem"
   ]
  },
  {
   "cell_type": "code",
   "execution_count": 45,
   "metadata": {},
   "outputs": [
    {
     "name": "stdout",
     "output_type": "stream",
     "text": [
      "No match found for: pu: PU0, tp: ['L1Trk'], tp_sel: ['St4Pt2'], gen_sel: GENEtaBC, classtype: python.l1THistos.HistoSetEff\n"
     ]
    },
    {
     "ename": "TypeError",
     "evalue": "'NoneType' object has no attribute '__getitem__'",
     "output_type": "error",
     "traceback": [
      "\u001b[0;31m\u001b[0m",
      "\u001b[0;31mTypeError\u001b[0mTraceback (most recent call last)",
      "\u001b[0;32m<ipython-input-45-ce13c33cde2b>\u001b[0m in \u001b[0;36m<module>\u001b[0;34m()\u001b[0m\n\u001b[1;32m     13\u001b[0m \u001b[0;34m\u001b[0m\u001b[0m\n\u001b[1;32m     14\u001b[0m     \u001b[0mhsets\u001b[0m\u001b[0;34m,\u001b[0m \u001b[0mlabels\u001b[0m\u001b[0;34m,\u001b[0m \u001b[0mtext\u001b[0m \u001b[0;34m=\u001b[0m \u001b[0mhplot\u001b[0m\u001b[0;34m.\u001b[0m\u001b[0mget_histo\u001b[0m\u001b[0;34m(\u001b[0m\u001b[0mhistos\u001b[0m\u001b[0;34m.\u001b[0m\u001b[0mHistoSetEff\u001b[0m\u001b[0;34m,\u001b[0m \u001b[0msample\u001b[0m\u001b[0;34m,\u001b[0m \u001b[0mpu\u001b[0m\u001b[0;34m,\u001b[0m \u001b[0;34m[\u001b[0m\u001b[0;34m'L1Trk'\u001b[0m\u001b[0;34m]\u001b[0m\u001b[0;34m,\u001b[0m \u001b[0;34m[\u001b[0m\u001b[0;34m'St4Pt2'\u001b[0m\u001b[0;34m]\u001b[0m\u001b[0;34m,\u001b[0m \u001b[0;34m'GENEtaBC'\u001b[0m\u001b[0;34m)\u001b[0m\u001b[0;34m\u001b[0m\u001b[0m\n\u001b[0;32m---> 15\u001b[0;31m     \u001b[0mhsets_new\u001b[0m\u001b[0;34m.\u001b[0m\u001b[0mappend\u001b[0m\u001b[0;34m(\u001b[0m\u001b[0mhsets\u001b[0m\u001b[0;34m[\u001b[0m\u001b[0;36m0\u001b[0m\u001b[0;34m]\u001b[0m\u001b[0;34m)\u001b[0m\u001b[0;34m\u001b[0m\u001b[0m\n\u001b[0m\u001b[1;32m     16\u001b[0m     \u001b[0mlabels_new\u001b[0m\u001b[0;34m.\u001b[0m\u001b[0mappend\u001b[0m\u001b[0;34m(\u001b[0m\u001b[0;34m\"L1Trk #stubs > 3\"\u001b[0m\u001b[0;34m)\u001b[0m\u001b[0;34m\u001b[0m\u001b[0m\n\u001b[1;32m     17\u001b[0m \u001b[0;34m\u001b[0m\u001b[0m\n",
      "\u001b[0;31mTypeError\u001b[0m: 'NoneType' object has no attribute '__getitem__'"
     ]
    }
   ],
   "source": [
    "sample = 'ele-V9'\n",
    "for pu in ['PU0', 'PU200']:\n",
    "    hsets_new = []\n",
    "    labels_new = []\n",
    "#     hsets, labels, text = hplot.get_histo(histos.HistoSetEff, sample, pu, ['EG'], ['EGq3'], 'GENEtaBC')\n",
    "# #     hsets[0].SetMarkerStyle(7)\n",
    "#     hsets_new.append(hsets[0])\n",
    "#     labels_new.append(\"EG standalone\")\n",
    "    \n",
    "#     hsets, labels, text = hplot.get_histo(histos.HistoSetEff, sample, pu, ['EG'], ['EGq3Pt20'], 'GENEtaBC')\n",
    "#     hsets_new.append(hsets[0])\n",
    "#     labels_new.append(\"EG Pt>20GeV\")\n",
    "\n",
    "    hsets, labels, text = hplot.get_histo(histos.HistoSetEff, sample, pu, ['L1Trk'], ['St4Pt2'], 'GENEtaBC')\n",
    "    hsets_new.append(hsets[0])\n",
    "    labels_new.append(\"L1Trk #stubs > 3\")\n",
    "\n",
    "#     hsets, labels, text = hplot.get_histo(histos.HistoSetEff, sample, pu, ['L1Trk'], ['St4Pt10'], 'GENEtaBC')\n",
    "#     hsets_new.append(hsets[0])\n",
    "#     labels_new.append(\"L1Trk p_{T}>10GeV\")\n",
    "\n",
    "    hsets, labels, text = hplot.get_histo(histos.HistoSetEff, sample, pu, ['L1TrkEmu'], ['Pt2'], 'GENEtaBC')\n",
    "    hsets_new.append(hsets[0])\n",
    "    labels_new.append(\"L1Trk EMU\")\n",
    "\n",
    "#     hsets, labels, text = hplot.get_histo(histos.HistoSetEff, sample, pu, ['L1TrkEmu'], ['Pt10'], 'GENEtaBC')\n",
    "#     hsets_new.append(hsets[0])\n",
    "#     labels_new.append(\"L1Trk p_{T}>10GeV\")\n",
    "\n",
    "    \n",
    "    \n",
    "#     hsets, labels, text = hplot.get_histo(histos.HistoSetEff, sample, pu, ['TkEle'], ['EGq3'], 'GENEtaBC')\n",
    "#     hsets_new.append(hsets[0])\n",
    "#     labels_new.append(\"TkEle\")\n",
    "\n",
    "\n",
    "    \n",
    "    # drawSeveral([his.hreso.h_ptResVpt for his in hsets], labels,  'COLZ', do_profile=True, text=text)\n",
    "    draw([his.h_eff.h_fBrem.CreateGraph() for his in hsets_new], labels_new, text=text, min_y=0.75, max_y=1.02, y_axis_label='L1 matched to GEN/GEN', h_lines=[0.95, 1])\n"
   ]
  },
  {
   "cell_type": "code",
   "execution_count": 46,
   "metadata": {},
   "outputs": [
    {
     "name": "stdout",
     "output_type": "stream",
     "text": [
      "No match found for: pu: PU0, tp: ['L1TrkEmu'], tp_sel: ['Pt2'], gen_sel: GENEtaBC, classtype: python.l1THistos.HistoSetEff\n"
     ]
    },
    {
     "ename": "TypeError",
     "evalue": "'NoneType' object has no attribute '__getitem__'",
     "output_type": "error",
     "traceback": [
      "\u001b[0;31m\u001b[0m",
      "\u001b[0;31mTypeError\u001b[0mTraceback (most recent call last)",
      "\u001b[0;32m<ipython-input-46-a9d3b99d5e95>\u001b[0m in \u001b[0;36m<module>\u001b[0;34m()\u001b[0m\n\u001b[1;32m     13\u001b[0m \u001b[0;34m\u001b[0m\u001b[0m\n\u001b[1;32m     14\u001b[0m     \u001b[0mhsets\u001b[0m\u001b[0;34m,\u001b[0m \u001b[0mlabels\u001b[0m\u001b[0;34m,\u001b[0m \u001b[0mtext\u001b[0m \u001b[0;34m=\u001b[0m \u001b[0mhplot\u001b[0m\u001b[0;34m.\u001b[0m\u001b[0mget_histo\u001b[0m\u001b[0;34m(\u001b[0m\u001b[0mhistos\u001b[0m\u001b[0;34m.\u001b[0m\u001b[0mHistoSetEff\u001b[0m\u001b[0;34m,\u001b[0m \u001b[0msample\u001b[0m\u001b[0;34m,\u001b[0m \u001b[0mpu\u001b[0m\u001b[0;34m,\u001b[0m \u001b[0;34m[\u001b[0m\u001b[0;34m'L1TrkEmu'\u001b[0m\u001b[0;34m]\u001b[0m\u001b[0;34m,\u001b[0m \u001b[0;34m[\u001b[0m\u001b[0;34m'Pt2'\u001b[0m\u001b[0;34m]\u001b[0m\u001b[0;34m,\u001b[0m \u001b[0;34m'GENEtaBC'\u001b[0m\u001b[0;34m)\u001b[0m\u001b[0;34m\u001b[0m\u001b[0m\n\u001b[0;32m---> 15\u001b[0;31m     \u001b[0mhsets_new\u001b[0m\u001b[0;34m.\u001b[0m\u001b[0mappend\u001b[0m\u001b[0;34m(\u001b[0m\u001b[0mhsets\u001b[0m\u001b[0;34m[\u001b[0m\u001b[0;36m0\u001b[0m\u001b[0;34m]\u001b[0m\u001b[0;34m)\u001b[0m\u001b[0;34m\u001b[0m\u001b[0m\n\u001b[0m\u001b[1;32m     16\u001b[0m     \u001b[0mlabels_new\u001b[0m\u001b[0;34m.\u001b[0m\u001b[0mappend\u001b[0m\u001b[0;34m(\u001b[0m\u001b[0;34m\"L1Trk p_{T}>2GeV\"\u001b[0m\u001b[0;34m)\u001b[0m\u001b[0;34m\u001b[0m\u001b[0m\n\u001b[1;32m     17\u001b[0m \u001b[0;34m\u001b[0m\u001b[0m\n",
      "\u001b[0;31mTypeError\u001b[0m: 'NoneType' object has no attribute '__getitem__'"
     ]
    }
   ],
   "source": [
    "sample = 'ele-V9'\n",
    "for pu in ['PU0', 'PU200']:\n",
    "    hsets_new = []\n",
    "    labels_new = []\n",
    "#     hsets, labels, text = hplot.get_histo(histos.HistoSetEff, sample, pu, ['EG'], ['EGq3'], 'GENEtaBC')\n",
    "# #     hsets[0].SetMarkerStyle(7)\n",
    "#     hsets_new.append(hsets[0])\n",
    "#     labels_new.append(\"EG standalone\")\n",
    "    \n",
    "#     hsets, labels, text = hplot.get_histo(histos.HistoSetEff, sample, pu, ['EG'], ['EGq3Pt20'], 'GENEtaBC')\n",
    "#     hsets_new.append(hsets[0])\n",
    "#     labels_new.append(\"EG Pt>20GeV\")\n",
    "\n",
    "    hsets, labels, text = hplot.get_histo(histos.HistoSetEff, sample, pu, ['L1TrkEmu'], ['Pt2'], 'GENEtaBC')\n",
    "    hsets_new.append(hsets[0])\n",
    "    labels_new.append(\"L1Trk p_{T}>2GeV\")\n",
    "\n",
    "    hsets, labels, text = hplot.get_histo(histos.HistoSetEff, sample, pu, ['L1TrkEmu'], ['Pt10'], 'GENEtaBC')\n",
    "    hsets_new.append(hsets[0])\n",
    "    labels_new.append(\"L1Trk p_{T}>10GeV\")\n",
    "\n",
    "    hsets, labels, text = hplot.get_histo(histos.HistoSetEff, sample, pu, ['TkEle'], ['EGq3'], 'GENEtaBC')\n",
    "    hsets_new.append(hsets[0])\n",
    "    labels_new.append(\"TkEle\")\n",
    "\n",
    "    hsets, labels, text = hplot.get_histo(histos.HistoSetEff, sample, pu, ['TkEG'], ['EGq3M1P10'], 'GENEtaBC')\n",
    "    hsets_new.append(hsets[0])\n",
    "    labels_new.append(\"TkEle\")\n",
    "\n",
    "\n",
    "    \n",
    "    # drawSeveral([his.hreso.h_ptResVpt for his in hsets], labels,  'COLZ', do_profile=True, text=text)\n",
    "    draw([his.h_eff.h_fBrem.CreateGraph() for his in hsets_new], labels_new, text=text, min_y=0.75, max_y=1.02, y_axis_label='L1 matched to GEN/GEN', h_lines=[0.95, 1])\n"
   ]
  },
  {
   "cell_type": "markdown",
   "metadata": {},
   "source": [
    "## Turn-on curves"
   ]
  },
  {
   "cell_type": "code",
   "execution_count": 47,
   "metadata": {},
   "outputs": [
    {
     "data": {
      "text/plain": [
       "<drawingTools.DrawMachine at 0x1233bb750>"
      ]
     },
     "execution_count": 47,
     "metadata": {},
     "output_type": "execute_result"
    },
    {
     "data": {
      "text/html": [
       "\n",
       "<div id=\"root_plot_26\"\n",
       "     style=\"width: 796px; height: 572px\">\n",
       "</div>\n",
       "\n",
       "<script>\n",
       " requirejs.config({\n",
       "     paths: {\n",
       "       'JSRootCore' : 'https://root.cern.ch/js/notebook//scripts/JSRootCore',\n",
       "     }\n",
       "   });\n",
       " require(['JSRootCore'],\n",
       "     function(Core) {\n",
       "       var obj = Core.JSONR_unref({\"_typename\":\"TCanvas\",\"fUniqueID\":0,\"fBits\":53673992,\"fLineColor\":1,\"fLineStyle\":1,\"fLineWidth\":1,\"fFillColor\":0,\"fFillStyle\":1001,\"fLeftMargin\":0.13,\"fRightMargin\":0.3,\"fBottomMargin\":0.13,\"fTopMargin\":0.1,\"fXfile\":2,\"fYfile\":2,\"fAfile\":1,\"fXstat\":0.99,\"fYstat\":0.99,\"fAstat\":2,\"fFrameFillColor\":0,\"fFrameLineColor\":1,\"fFrameFillStyle\":1001,\"fFrameLineStyle\":1,\"fFrameLineWidth\":1,\"fFrameBorderSize\":1,\"fFrameBorderMode\":0,\"fX1\":-25.0421046588559,\"fY1\":-0.185714283502611,\"fX2\":167.58947670572,\"fY2\":1.24285714852456,\"fXtoAbsPixelk\":103.480046204376,\"fXtoPixelk\":103.480046204376,\"fXtoPixel\":4.13224038530569,\"fYtoAbsPixelk\":497.640051065433,\"fYtoPixelk\":497.640051065433,\"fYtoPixel\":-400.399999031424,\"fUtoAbsPixelk\":5e-5,\"fUtoPixelk\":5e-5,\"fUtoPixel\":796,\"fVtoAbsPixelk\":572.00005,\"fVtoPixelk\":572,\"fVtoPixel\":-572,\"fAbsPixeltoXk\":-25.0421046588559,\"fPixeltoXk\":-25.0421046588559,\"fPixeltoX\":0.241999474076101,\"fAbsPixeltoYk\":1.24285714852456,\"fPixeltoYk\":-0.185714283502611,\"fPixeltoY\":-0.00249750250354401,\"fXlowNDC\":0,\"fYlowNDC\":0,\"fXUpNDC\":0,\"fYUpNDC\":0,\"fWNDC\":1,\"fHNDC\":1,\"fAbsXlowNDC\":0,\"fAbsYlowNDC\":0,\"fAbsWNDC\":1,\"fAbsHNDC\":1,\"fUxmin\":0,\"fUymin\":0,\"fUxmax\":109.8,\"fUymax\":1.1,\"fTheta\":30,\"fPhi\":30,\"fAspectRatio\":0,\"fNumber\":0,\"fTickx\":0,\"fTicky\":0,\"fLogx\":0,\"fLogy\":0,\"fLogz\":0,\"fPadPaint\":0,\"fCrosshair\":0,\"fCrosshairPos\":0,\"fBorderSize\":2,\"fBorderMode\":0,\"fModified\":false,\"fGridx\":false,\"fGridy\":false,\"fAbsCoord\":false,\"fEditable\":true,\"fFixedAspectRatio\":false,\"fPrimitives\":{\"_typename\":\"TList\",\"name\":\"TList\",\"arr\":[{\"_typename\":\"TFrame\",\"fUniqueID\":0,\"fBits\":50331656,\"fLineColor\":1,\"fLineStyle\":1,\"fLineWidth\":1,\"fFillColor\":0,\"fFillStyle\":1001,\"fX1\":0,\"fY1\":0,\"fX2\":109.8,\"fY2\":1.1,\"fBorderSize\":1,\"fBorderMode\":0},{\"_typename\":\"TGraphAsymmErrors\",\"fUniqueID\":0,\"fBits\":50332680,\"fName\":\"59cca5\",\"fTitle\":\"; p_{T}^{GEN} [GeV];\",\"fLineColor\":1,\"fLineStyle\":1,\"fLineWidth\":1,\"fFillColor\":0,\"fFillStyle\":1001,\"fMarkerColor\":1,\"fMarkerStyle\":8,\"fMarkerSize\":0.5,\"fNpoints\":49,\"fX\":[3,5,7,9,11,13,15,17,19,21,23,25,27,29,31,33,35,37,39,41,43,45,47,49,51,53,55,57,59,61,63,65,67,69,71,73,75,77,79,81,83,85,87,89,91,93,95,97,99],\"fY\":[0,0,0,0,0,0,0,0,0,0,0,0,0.016,0.0910780669144981,0.398148148148148,0.642126789366053,0.807207207207207,0.863321799307958,0.903398926654741,0.939278937381404,0.965973534971645,0.968220338983051,0.973166368515206,0.986842105263158,0.987951807228916,0.99403578528827,0.994285714285714,0.994545454545455,0.992233009708738,0.99644128113879,0.996491228070175,1,0.996138996138996,1,1,1,0.99647266313933,0.998165137614679,0.998069498069498,1,0.99822695035461,1,1,0.998230088495575,0.998158379373849,0.998058252427184,0.998201438848921,1,1],\"fFunctions\":{\"_typename\":\"TList\",\"name\":\"TList\",\"arr\":[],\"opt\":[]},\"fHistogram\":{\"_typename\":\"TH1F\",\"fUniqueID\":0,\"fBits\":50332160,\"fName\":\"59cca5\",\"fTitle\":\"\",\"fLineColor\":602,\"fLineStyle\":1,\"fLineWidth\":1,\"fFillColor\":0,\"fFillStyle\":1001,\"fMarkerColor\":1,\"fMarkerStyle\":1,\"fMarkerSize\":1,\"fNcells\":102,\"fXaxis\":{\"_typename\":\"TAxis\",\"fUniqueID\":0,\"fBits\":50331656,\"fName\":\"xaxis\",\"fTitle\":\" p_{T}^{GEN} [GeV]\",\"fNdivisions\":510,\"fAxisColor\":1,\"fLabelColor\":1,\"fLabelFont\":42,\"fLabelOffset\":0.005,\"fLabelSize\":0.035,\"fTickLength\":0.03,\"fTitleOffset\":1.4,\"fTitleSize\":0.035,\"fTitleColor\":1,\"fTitleFont\":42,\"fNbins\":100,\"fXmin\":0,\"fXmax\":109.8,\"fXbins\":[],\"fFirst\":0,\"fLast\":0,\"fBits2\":0,\"fTimeDisplay\":false,\"fTimeFormat\":\"\",\"fLabels\":null,\"fModLabs\":null},\"fYaxis\":{\"_typename\":\"TAxis\",\"fUniqueID\":0,\"fBits\":50331656,\"fName\":\"yaxis\",\"fTitle\":\"L1 matched to GEN and p_{T}>th.\\/L1 matched to GEN\",\"fNdivisions\":510,\"fAxisColor\":1,\"fLabelColor\":1,\"fLabelFont\":42,\"fLabelOffset\":0.005,\"fLabelSize\":0.035,\"fTickLength\":0.03,\"fTitleOffset\":0,\"fTitleSize\":0.035,\"fTitleColor\":1,\"fTitleFont\":42,\"fNbins\":1,\"fXmin\":0,\"fXmax\":1.1,\"fXbins\":[],\"fFirst\":0,\"fLast\":0,\"fBits2\":0,\"fTimeDisplay\":false,\"fTimeFormat\":\"\",\"fLabels\":null,\"fModLabs\":null},\"fZaxis\":{\"_typename\":\"TAxis\",\"fUniqueID\":0,\"fBits\":50331648,\"fName\":\"zaxis\",\"fTitle\":\"\",\"fNdivisions\":510,\"fAxisColor\":1,\"fLabelColor\":1,\"fLabelFont\":42,\"fLabelOffset\":0.005,\"fLabelSize\":0.035,\"fTickLength\":0.03,\"fTitleOffset\":1,\"fTitleSize\":0.035,\"fTitleColor\":1,\"fTitleFont\":42,\"fNbins\":1,\"fXmin\":0,\"fXmax\":1,\"fXbins\":[],\"fFirst\":0,\"fLast\":0,\"fBits2\":0,\"fTimeDisplay\":false,\"fTimeFormat\":\"\",\"fLabels\":null,\"fModLabs\":null},\"fBarOffset\":0,\"fBarWidth\":1000,\"fEntries\":0,\"fTsumw\":0,\"fTsumw2\":0,\"fTsumwx\":0,\"fTsumwx2\":0,\"fMaximum\":1.1,\"fMinimum\":0,\"fNormFactor\":0,\"fContour\":[],\"fSumw2\":[],\"fOption\":\"\",\"fFunctions\":{\"_typename\":\"TList\",\"name\":\"TList\",\"arr\":[],\"opt\":[]},\"fBufferSize\":0,\"fBuffer\":[],\"fBinStatErrOpt\":0,\"fStatOverflows\":2,\"fArray\":[0,0,0,0,0,0,0,0,0,0,0,0,0,0,0,0,0,0,0,0,0,0,0,0,0,0,0,0,0,0,0,0,0,0,0,0,0,0,0,0,0,0,0,0,0,0,0,0,0,0,0,0,0,0,0,0,0,0,0,0,0,0,0,0,0,0,0,0,0,0,0,0,0,0,0,0,0,0,0,0,0,0,0,0,0,0,0,0,0,0,0,0,0,0,0,0,0,0,0,0,0,0]},\"fMinimum\":-1111,\"fMaximum\":-1111,\"fEXlow\":[1,1,1,1,1,1,1,1,1,1,1,1,1,1,1,1,1,1,1,1,1,1,1,1,1,1,1,1,1,1,1,1,1,1,1,1,1,1,1,1,1,1,1,1,1,1,1,1,1],\"fEXhigh\":[1,1,1,1,1,1,1,1,1,1,1,1,1,1,1,1,1,1,1,1,1,1,1,1,1,1,1,1,1,1,1,1,1,1,1,1,1,1,1,1,1,1,1,1,1,1,1,1,1],\"fEYlow\":[0,0,0,0,0,0,0,0,0,0,0,0,0.0055181572072346,0.0125198018082352,0.0217739982916976,0.0229815450983176,0.018218145722755,0.0158143076815558,0.0141625995631315,0.0122707057482808,0.00983597107608847,0.0102829140040896,0.00871190898416019,0.00701523058506826,0.00642912837421328,0.00576745900290809,0.00552714318889003,0.00527726675823759,0.00609858294376964,0.00467435060619115,0.0046090132127572,0.00350056657582654,0.00506961820607532,0.00346759968683441,0.00337851090995966,0.00338472230368492,0.0046332995610554,0.00420655633739031,0.00442511811202106,0.00359629985182086,0.00406526099946136,0.00353416632119274,0.00347414329597728,0.00405808687428899,0.00422200298480258,0.00445081284829207,0.00412358026016912,0.00356151411478722,0.00366065719283548],\"fEYhigh\":[0.011029219057088,0.0076415770731012,0.0056835446152275,0.00461500053258629,0.00404690288416236,0.00453541625251657,0.00386022264228776,0.00392607965115006,0.00380438394142321,0.00357534734320347,0.00354096381975243,0.00348071164830587,0.00779596555499652,0.0141521019922474,0.0221673550077727,0.0223736049993031,0.017052804645064,0.0144823888719493,0.0126175872551921,0.0104535044862117,0.00786506778077001,0.00804135479541557,0.00679935592567416,0.00483998111594119,0.00443275247812858,0.00324421994043744,0.0031083406470126,0.00296712084153228,0.003713557184024,0.00229827473165234,0.00226602278609156,0,0.00249346472665857,0,0,0,0.00227801062754107,0.00151793320693461,0.00159705603204052,0,0.00146679552412288,0,0,0.00146419934298714,0.00152352430682134,0.00160635959682764,0.00148790118023034,0,0]},{\"_typename\":\"TLatex\",\"fUniqueID\":0,\"fBits\":50348040,\"fName\":\"\",\"fTitle\":\"PU200, EG, hwQual 4, p_{T}^{L1}>=30GeV, 1.52 < |#eta^{GEN}| <= 2.4\",\"fTextAngle\":0,\"fTextSize\":0.03,\"fTextAlign\":11,\"fTextColor\":1,\"fTextFont\":62,\"fX\":0.15,\"fY\":0.85,\"fLineColor\":1,\"fLineStyle\":1,\"fLineWidth\":2,\"fLimitFactorSize\":3,\"fOriginSize\":0.04},{\"_typename\":\"TLatex\",\"fUniqueID\":0,\"fBits\":50331656,\"fName\":\"\",\"fTitle\":\"\",\"fTextAngle\":0,\"fTextSize\":0.03,\"fTextAlign\":11,\"fTextColor\":1,\"fTextFont\":62,\"fX\":0,\"fY\":0,\"fLineColor\":1,\"fLineStyle\":1,\"fLineWidth\":2,\"fLimitFactorSize\":3,\"fOriginSize\":0.04},{\"_typename\":\"TLine\",\"fUniqueID\":0,\"fBits\":50331656,\"fLineColor\":1,\"fLineStyle\":2,\"fLineWidth\":1,\"fX1\":0,\"fY1\":0.95,\"fX2\":109.8,\"fY2\":0.95},{\"_typename\":\"TLine\",\"fUniqueID\":0,\"fBits\":50331656,\"fLineColor\":1,\"fLineStyle\":2,\"fLineWidth\":1,\"fX1\":0,\"fY1\":1,\"fX2\":109.8,\"fY2\":1}],\"opt\":[\"\",\"pa\",\"same\",\"same\",\"same\",\"same\"]},\"fExecs\":null,\"fName\":\"c_b07250\",\"fTitle\":\"c_b07250\",\"fNumPaletteColor\":0,\"fNextPaletteColor\":0,\"fDISPLAY\":\"$DISPLAY\",\"fDoubleBuffer\":0,\"fRetained\":true,\"fXsizeUser\":0,\"fYsizeUser\":0,\"fXsizeReal\":20,\"fYsizeReal\":15,\"fWindowTopX\":0,\"fWindowTopY\":0,\"fWindowWidth\":0,\"fWindowHeight\":0,\"fCw\":796,\"fCh\":572,\"fCatt\":{\"_typename\":\"TAttCanvas\",\"fXBetween\":2,\"fYBetween\":2,\"fTitleFromTop\":1.2,\"fXdate\":0.2,\"fYdate\":0.3,\"fAdate\":1},\"kMoveOpaque\":true,\"kResizeOpaque\":true,\"fHighLightColor\":2,\"fBatch\":true,\"kShowEventStatus\":false,\"kAutoExec\":true,\"kMenuBar\":true});\n",
       "       Core.draw(\"root_plot_26\", obj, \"\");\n",
       "     }\n",
       " );\n",
       "</script>\n"
      ],
      "text/plain": [
       "<IPython.core.display.HTML object>"
      ]
     },
     "metadata": {},
     "output_type": "display_data"
    }
   ],
   "source": [
    "hsets, labels, text = hplot.get_histo(histos.HistoSetEff, 'ele-V9', ['PU200'], ['EG'], ['EGq4Pt30'], 'GENEtaBC', debug=False)\n",
    "draw([his.h_ton.h_pt.CreateGraph() for his in hsets], labels, text=text, min_y=0, max_y=1.1, y_axis_label='L1 matched to GEN and p_{T}>th./L1 matched to GEN', h_lines=[0.95, 1])\n"
   ]
  },
  {
   "cell_type": "code",
   "execution_count": 48,
   "metadata": {},
   "outputs": [
    {
     "data": {
      "text/plain": [
       "<drawingTools.DrawMachine at 0x1233bb090>"
      ]
     },
     "execution_count": 48,
     "metadata": {},
     "output_type": "execute_result"
    },
    {
     "data": {
      "text/html": [
       "\n",
       "<div id=\"root_plot_27\"\n",
       "     style=\"width: 796px; height: 572px\">\n",
       "</div>\n",
       "\n",
       "<script>\n",
       " requirejs.config({\n",
       "     paths: {\n",
       "       'JSRootCore' : 'https://root.cern.ch/js/notebook//scripts/JSRootCore',\n",
       "     }\n",
       "   });\n",
       " require(['JSRootCore'],\n",
       "     function(Core) {\n",
       "       var obj = Core.JSONR_unref({\"_typename\":\"TCanvas\",\"fUniqueID\":0,\"fBits\":53673992,\"fLineColor\":1,\"fLineStyle\":1,\"fLineWidth\":1,\"fFillColor\":0,\"fFillStyle\":1001,\"fLeftMargin\":0.13,\"fRightMargin\":0.3,\"fBottomMargin\":0.13,\"fTopMargin\":0.1,\"fXfile\":2,\"fYfile\":2,\"fAfile\":1,\"fXstat\":0.99,\"fYstat\":0.99,\"fAstat\":2,\"fFrameFillColor\":0,\"fFrameLineColor\":1,\"fFrameFillStyle\":1001,\"fFrameLineStyle\":1,\"fFrameLineWidth\":1,\"fFrameBorderSize\":1,\"fFrameBorderMode\":0,\"fX1\":-25.0421046588559,\"fY1\":-0.185714283502611,\"fX2\":167.58947670572,\"fY2\":1.24285714852456,\"fXtoAbsPixelk\":103.480046204376,\"fXtoPixelk\":103.480046204376,\"fXtoPixel\":4.13224038530569,\"fYtoAbsPixelk\":497.640051065433,\"fYtoPixelk\":497.640051065433,\"fYtoPixel\":-400.399999031424,\"fUtoAbsPixelk\":5e-5,\"fUtoPixelk\":5e-5,\"fUtoPixel\":796,\"fVtoAbsPixelk\":572.00005,\"fVtoPixelk\":572,\"fVtoPixel\":-572,\"fAbsPixeltoXk\":-25.0421046588559,\"fPixeltoXk\":-25.0421046588559,\"fPixeltoX\":0.241999474076101,\"fAbsPixeltoYk\":1.24285714852456,\"fPixeltoYk\":-0.185714283502611,\"fPixeltoY\":-0.00249750250354401,\"fXlowNDC\":0,\"fYlowNDC\":0,\"fXUpNDC\":0,\"fYUpNDC\":0,\"fWNDC\":1,\"fHNDC\":1,\"fAbsXlowNDC\":0,\"fAbsYlowNDC\":0,\"fAbsWNDC\":1,\"fAbsHNDC\":1,\"fUxmin\":0,\"fUymin\":0,\"fUxmax\":109.8,\"fUymax\":1.1,\"fTheta\":30,\"fPhi\":30,\"fAspectRatio\":0,\"fNumber\":0,\"fTickx\":0,\"fTicky\":0,\"fLogx\":0,\"fLogy\":0,\"fLogz\":0,\"fPadPaint\":0,\"fCrosshair\":0,\"fCrosshairPos\":0,\"fBorderSize\":2,\"fBorderMode\":0,\"fModified\":false,\"fGridx\":false,\"fGridy\":false,\"fAbsCoord\":false,\"fEditable\":true,\"fFixedAspectRatio\":false,\"fPrimitives\":{\"_typename\":\"TList\",\"name\":\"TList\",\"arr\":[{\"_typename\":\"TFrame\",\"fUniqueID\":0,\"fBits\":50331656,\"fLineColor\":1,\"fLineStyle\":1,\"fLineWidth\":1,\"fFillColor\":0,\"fFillStyle\":1001,\"fX1\":0,\"fY1\":0,\"fX2\":109.8,\"fY2\":1.1,\"fBorderSize\":1,\"fBorderMode\":0},{\"_typename\":\"TGraphAsymmErrors\",\"fUniqueID\":0,\"fBits\":50332680,\"fName\":\"d317f0\",\"fTitle\":\"; p_{T}^{GEN} [GeV];\",\"fLineColor\":1,\"fLineStyle\":1,\"fLineWidth\":1,\"fFillColor\":0,\"fFillStyle\":1001,\"fMarkerColor\":1,\"fMarkerStyle\":8,\"fMarkerSize\":0.5,\"fNpoints\":49,\"fX\":[3,5,7,9,11,13,15,17,19,21,23,25,27,29,31,33,35,37,39,41,43,45,47,49,51,53,55,57,59,61,63,65,67,69,71,73,75,77,79,81,83,85,87,89,91,93,95,97,99],\"fY\":[0,0,0,0,0,0,0,0,0,0,0,0,0.02,0.115241635687732,0.446296296296296,0.723926380368098,0.854054054054054,0.910034602076125,0.953488372093023,0.979127134724858,0.988657844990548,0.980932203389831,0.991055456171735,0.994360902255639,0.994836488812392,0.996023856858847,0.998095238095238,1,0.994174757281553,1,1,1,0.996138996138996,1,1,1,0.99647266313933,0.998165137614679,0.998069498069498,1,0.99822695035461,1,1,0.998230088495575,0.998158379373849,0.998058252427184,0.998201438848921,1,1],\"fFunctions\":{\"_typename\":\"TList\",\"name\":\"TList\",\"arr\":[],\"opt\":[]},\"fHistogram\":{\"_typename\":\"TH1F\",\"fUniqueID\":0,\"fBits\":50332160,\"fName\":\"d317f0\",\"fTitle\":\"\",\"fLineColor\":602,\"fLineStyle\":1,\"fLineWidth\":1,\"fFillColor\":0,\"fFillStyle\":1001,\"fMarkerColor\":1,\"fMarkerStyle\":1,\"fMarkerSize\":1,\"fNcells\":102,\"fXaxis\":{\"_typename\":\"TAxis\",\"fUniqueID\":0,\"fBits\":50331656,\"fName\":\"xaxis\",\"fTitle\":\" p_{T}^{GEN} [GeV]\",\"fNdivisions\":510,\"fAxisColor\":1,\"fLabelColor\":1,\"fLabelFont\":42,\"fLabelOffset\":0.005,\"fLabelSize\":0.035,\"fTickLength\":0.03,\"fTitleOffset\":1.4,\"fTitleSize\":0.035,\"fTitleColor\":1,\"fTitleFont\":42,\"fNbins\":100,\"fXmin\":0,\"fXmax\":109.8,\"fXbins\":[],\"fFirst\":0,\"fLast\":0,\"fBits2\":0,\"fTimeDisplay\":false,\"fTimeFormat\":\"\",\"fLabels\":null,\"fModLabs\":null},\"fYaxis\":{\"_typename\":\"TAxis\",\"fUniqueID\":0,\"fBits\":50331656,\"fName\":\"yaxis\",\"fTitle\":\"L1 matched to GEN and p_{T}>th.\\/L1 matched to GEN\",\"fNdivisions\":510,\"fAxisColor\":1,\"fLabelColor\":1,\"fLabelFont\":42,\"fLabelOffset\":0.005,\"fLabelSize\":0.035,\"fTickLength\":0.03,\"fTitleOffset\":0,\"fTitleSize\":0.035,\"fTitleColor\":1,\"fTitleFont\":42,\"fNbins\":1,\"fXmin\":0,\"fXmax\":1.1,\"fXbins\":[],\"fFirst\":0,\"fLast\":0,\"fBits2\":0,\"fTimeDisplay\":false,\"fTimeFormat\":\"\",\"fLabels\":null,\"fModLabs\":null},\"fZaxis\":{\"_typename\":\"TAxis\",\"fUniqueID\":0,\"fBits\":50331648,\"fName\":\"zaxis\",\"fTitle\":\"\",\"fNdivisions\":510,\"fAxisColor\":1,\"fLabelColor\":1,\"fLabelFont\":42,\"fLabelOffset\":0.005,\"fLabelSize\":0.035,\"fTickLength\":0.03,\"fTitleOffset\":1,\"fTitleSize\":0.035,\"fTitleColor\":1,\"fTitleFont\":42,\"fNbins\":1,\"fXmin\":0,\"fXmax\":1,\"fXbins\":[],\"fFirst\":0,\"fLast\":0,\"fBits2\":0,\"fTimeDisplay\":false,\"fTimeFormat\":\"\",\"fLabels\":null,\"fModLabs\":null},\"fBarOffset\":0,\"fBarWidth\":1000,\"fEntries\":0,\"fTsumw\":0,\"fTsumw2\":0,\"fTsumwx\":0,\"fTsumwx2\":0,\"fMaximum\":1.1,\"fMinimum\":0,\"fNormFactor\":0,\"fContour\":[],\"fSumw2\":[],\"fOption\":\"\",\"fFunctions\":{\"_typename\":\"TList\",\"name\":\"TList\",\"arr\":[],\"opt\":[]},\"fBufferSize\":0,\"fBuffer\":[],\"fBinStatErrOpt\":0,\"fStatOverflows\":2,\"fArray\":[0,0,0,0,0,0,0,0,0,0,0,0,0,0,0,0,0,0,0,0,0,0,0,0,0,0,0,0,0,0,0,0,0,0,0,0,0,0,0,0,0,0,0,0,0,0,0,0,0,0,0,0,0,0,0,0,0,0,0,0,0,0,0,0,0,0,0,0,0,0,0,0,0,0,0,0,0,0,0,0,0,0,0,0,0,0,0,0,0,0,0,0,0,0,0,0,0,0,0,0,0,0]},\"fMinimum\":-1111,\"fMaximum\":-1111,\"fEXlow\":[1,1,1,1,1,1,1,1,1,1,1,1,1,1,1,1,1,1,1,1,1,1,1,1,1,1,1,1,1,1,1,1,1,1,1,1,1,1,1,1,1,1,1,1,1,1,1,1,1],\"fEXhigh\":[1,1,1,1,1,1,1,1,1,1,1,1,1,1,1,1,1,1,1,1,1,1,1,1,1,1,1,1,1,1,1,1,1,1,1,1,1,1,1,1,1,1,1,1,1,1,1,1,1],\"fEYlow\":[0,0,0,0,0,0,0,0,0,0,0,0,0.00618811041327565,0.0139310635195412,0.0221930069908994,0.0217000917859338,0.0165565256348377,0.013528944038155,0.010707977337591,0.00825771120787377,0.00671300209696069,0.00858698788553602,0.00600557648025124,0.00545482382233053,0.00499713126489809,0.00522010093980552,0.00436630211630595,0.00334171607834644,0.00563384714187143,0.00327047951878845,0.00322465214023471,0.00350056657582654,0.00506961820607532,0.00346759968683441,0.00337851090995966,0.00338472230368492,0.0046332995610554,0.00420655633739031,0.00442511811202106,0.00359629985182086,0.00406526099946136,0.00353416632119274,0.00347414329597728,0.00405808687428899,0.00422200298480258,0.00445081284829207,0.00412358026016912,0.00356151411478722,0.00366065719283548],\"fEYhigh\":[0.0110956905950783,0.00797249169425943,0.00575460618350494,0.00466174395275809,0.00406477309155856,0.00453541625251657,0.00386022264228776,0.00393447011365783,0.00381226179010358,0.00357534734320347,0.00354096381975243,0.00348071164830587,0.00841197623212488,0.0154562884954359,0.0224002795247922,0.0207391297940098,0.01520540596274,0.0120085207255852,0.00892428801985012,0.0061647570814265,0.00448996033626758,0.00620954070141932,0.00385820131620973,0.00306746190118123,0.00280887884563163,0.00256781065272449,0.00157576122017311,0,0.00316866556347006,0,0,0,0.00249346472665857,0,0,0,0.00227801062754107,0.00151793320693461,0.00159705603204052,0,0.00146679552412288,0,0,0.00146419934298714,0.00152352430682134,0.00160635959682764,0.00148790118023034,0,0]},{\"_typename\":\"TGraphAsymmErrors\",\"fUniqueID\":0,\"fBits\":50332680,\"fName\":\"9bae4c\",\"fTitle\":\"; p_{T}^{GEN} [GeV];\",\"fLineColor\":628,\"fLineStyle\":1,\"fLineWidth\":1,\"fFillColor\":0,\"fFillStyle\":1001,\"fMarkerColor\":628,\"fMarkerStyle\":21,\"fMarkerSize\":0.5,\"fNpoints\":49,\"fX\":[3,5,7,9,11,13,15,17,19,21,23,25,27,29,31,33,35,37,39,41,43,45,47,49,51,53,55,57,59,61,63,65,67,69,71,73,75,77,79,81,83,85,87,89,91,93,95,97,99],\"fY\":[0,0,0,0,0,0,0,0,0,0.00194552529182879,0.00385356454720617,0.0321969696969697,0.224,0.557620817843866,0.761111111111111,0.895705521472393,0.942342342342342,0.958477508650519,0.98211091234347,0.992409867172676,0.998109640831758,0.989406779661017,0.994633273703041,0.99812030075188,0.996557659208262,0.996023856858847,1,1,0.996116504854369,1,1,1,0.996138996138996,1,1,1,0.99647266313933,0.998165137614679,0.998069498069498,1,0.99822695035461,1,1,0.998230088495575,0.998158379373849,0.998058252427184,0.998201438848921,1,1],\"fFunctions\":{\"_typename\":\"TList\",\"name\":\"TList\",\"arr\":[],\"opt\":[]},\"fHistogram\":{\"_typename\":\"TH1F\",\"fUniqueID\":0,\"fBits\":50332160,\"fName\":\"9bae4c\",\"fTitle\":\"\",\"fLineColor\":602,\"fLineStyle\":1,\"fLineWidth\":1,\"fFillColor\":0,\"fFillStyle\":1001,\"fMarkerColor\":1,\"fMarkerStyle\":1,\"fMarkerSize\":1,\"fNcells\":102,\"fXaxis\":{\"_typename\":\"TAxis\",\"fUniqueID\":0,\"fBits\":50331656,\"fName\":\"xaxis\",\"fTitle\":\" p_{T}^{GEN} [GeV]\",\"fNdivisions\":510,\"fAxisColor\":1,\"fLabelColor\":1,\"fLabelFont\":42,\"fLabelOffset\":0.005,\"fLabelSize\":0.035,\"fTickLength\":0.03,\"fTitleOffset\":1.4,\"fTitleSize\":0.035,\"fTitleColor\":1,\"fTitleFont\":42,\"fNbins\":100,\"fXmin\":0,\"fXmax\":109.8,\"fXbins\":[],\"fFirst\":0,\"fLast\":0,\"fBits2\":0,\"fTimeDisplay\":false,\"fTimeFormat\":\"\",\"fLabels\":null,\"fModLabs\":null},\"fYaxis\":{\"_typename\":\"TAxis\",\"fUniqueID\":0,\"fBits\":50331656,\"fName\":\"yaxis\",\"fTitle\":\"L1 matched to GEN and p_{T}>th.\\/L1 matched to GEN\",\"fNdivisions\":510,\"fAxisColor\":1,\"fLabelColor\":1,\"fLabelFont\":42,\"fLabelOffset\":0.005,\"fLabelSize\":0.035,\"fTickLength\":0.03,\"fTitleOffset\":0,\"fTitleSize\":0.035,\"fTitleColor\":1,\"fTitleFont\":42,\"fNbins\":1,\"fXmin\":0,\"fXmax\":1.1,\"fXbins\":[],\"fFirst\":0,\"fLast\":0,\"fBits2\":0,\"fTimeDisplay\":false,\"fTimeFormat\":\"\",\"fLabels\":null,\"fModLabs\":null},\"fZaxis\":{\"_typename\":\"TAxis\",\"fUniqueID\":0,\"fBits\":50331648,\"fName\":\"zaxis\",\"fTitle\":\"\",\"fNdivisions\":510,\"fAxisColor\":1,\"fLabelColor\":1,\"fLabelFont\":42,\"fLabelOffset\":0.005,\"fLabelSize\":0.035,\"fTickLength\":0.03,\"fTitleOffset\":1,\"fTitleSize\":0.035,\"fTitleColor\":1,\"fTitleFont\":42,\"fNbins\":1,\"fXmin\":0,\"fXmax\":1,\"fXbins\":[],\"fFirst\":0,\"fLast\":0,\"fBits2\":0,\"fTimeDisplay\":false,\"fTimeFormat\":\"\",\"fLabels\":null,\"fModLabs\":null},\"fBarOffset\":0,\"fBarWidth\":1000,\"fEntries\":0,\"fTsumw\":0,\"fTsumw2\":0,\"fTsumwx\":0,\"fTsumwx2\":0,\"fMaximum\":1.1,\"fMinimum\":0,\"fNormFactor\":0,\"fContour\":[],\"fSumw2\":[],\"fOption\":\"\",\"fFunctions\":{\"_typename\":\"TList\",\"name\":\"TList\",\"arr\":[],\"opt\":[]},\"fBufferSize\":0,\"fBuffer\":[],\"fBinStatErrOpt\":0,\"fStatOverflows\":2,\"fArray\":[0,0,0,0,0,0,0,0,0,0,0,0,0,0,0,0,0,0,0,0,0,0,0,0,0,0,0,0,0,0,0,0,0,0,0,0,0,0,0,0,0,0,0,0,0,0,0,0,0,0,0,0,0,0,0,0,0,0,0,0,0,0,0,0,0,0,0,0,0,0,0,0,0,0,0,0,0,0,0,0,0,0,0,0,0,0,0,0,0,0,0,0,0,0,0,0,0,0,0,0,0,0]},\"fMinimum\":-1111,\"fMaximum\":-1111,\"fEXlow\":[1,1,1,1,1,1,1,1,1,1,1,1,1,1,1,1,1,1,1,1,1,1,1,1,1,1,1,1,1,1,1,1,1,1,1,1,1,1,1,1,1,1,1,1,1,1,1,1,1],\"fEXhigh\":[1,1,1,1,1,1,1,1,1,1,1,1,1,1,1,1,1,1,1,1,1,1,1,1,1,1,1,1,1,1,1,1,1,1,1,1,1,1,1,1,1,1,1,1,1,1,1,1,1],\"fEYlow\":[0,0,0,0,0,0,0,0,0,0.00160948491969759,0.00248866110621113,0.00765919026463394,0.019049169919242,0.0224324320904099,0.0197683248605409,0.0157115292502302,0.0116745006832895,0.0100542131287182,0.00753565392048938,0.00596066513928573,0.00433338965671748,0.00710263742087769,0.00519275337641956,0.00430902909587805,0.00452210043883006,0.00522010093980552,0.00350056657582654,0.00334171607834644,0.00509901665126333,0.00327047951878845,0.00322465214023471,0.00350056657582654,0.00506961820607532,0.00346759968683441,0.00337851090995966,0.00338472230368492,0.0046332995610554,0.00420655633739031,0.00442511811202106,0.00359629985182086,0.00406526099946136,0.00353416632119274,0.00347414329597728,0.00405808687428899,0.00422200298480258,0.00445081284829207,0.00412358026016912,0.00356151411478722,0.00366065719283548],\"fEYhigh\":[0.0110956905950783,0.00797249169425943,0.00573667471998057,0.00466174395275809,0.00406477309155856,0.00453541625251657,0.00386022264228776,0.00393447011365783,0.00381226179010358,0.00445944419882637,0.00505989391070331,0.00964751421492052,0.0202109580084496,0.0222091900546093,0.0187535985625662,0.0139754550120572,0.00993706933986249,0.00830403630393051,0.00553776486829871,0.00362907849872995,0.00156384579531399,0.00456819341023185,0.0029193724177935,0.00155502681708453,0.00222312638759459,0.00256781065272449,0,0,0.00250798749953929,0,0,0,0.00249346472665857,0,0,0,0.00227801062754107,0.00151793320693461,0.00159705603204052,0,0.00146679552412288,0,0,0.00146419934298714,0.00152352430682134,0.00160635959682764,0.00148790118023034,0,0]},{\"_typename\":\"TGraphAsymmErrors\",\"fUniqueID\":0,\"fBits\":50332680,\"fName\":\"7ab8c4\",\"fTitle\":\"; p_{T}^{GEN} [GeV];\",\"fLineColor\":417,\"fLineStyle\":1,\"fLineWidth\":1,\"fFillColor\":0,\"fFillStyle\":1001,\"fMarkerColor\":417,\"fMarkerStyle\":22,\"fMarkerSize\":0.5,\"fNpoints\":49,\"fX\":[3,5,7,9,11,13,15,17,19,21,23,25,27,29,31,33,35,37,39,41,43,45,47,49,51,53,55,57,59,61,63,65,67,69,71,73,75,77,79,81,83,85,87,89,91,93,95,97,99],\"fY\":[0,0,0,0,0,0,0,0,0,0,0,0,0.016,0.0910780669144981,0.398148148148148,0.642126789366053,0.807207207207207,0.863321799307958,0.903398926654741,0.939278937381404,0.965973534971645,0.968220338983051,0.973166368515206,0.986842105263158,0.987951807228916,0.99403578528827,0.994285714285714,0.994545454545455,0.992233009708738,0.99644128113879,0.996491228070175,1,0.996138996138996,1,1,1,0.99647266313933,0.998165137614679,0.998069498069498,1,0.99822695035461,1,1,0.998230088495575,0.998158379373849,0.998058252427184,0.998201438848921,1,1],\"fFunctions\":{\"_typename\":\"TList\",\"name\":\"TList\",\"arr\":[],\"opt\":[]},\"fHistogram\":{\"_typename\":\"TH1F\",\"fUniqueID\":0,\"fBits\":50332160,\"fName\":\"7ab8c4\",\"fTitle\":\"\",\"fLineColor\":602,\"fLineStyle\":1,\"fLineWidth\":1,\"fFillColor\":0,\"fFillStyle\":1001,\"fMarkerColor\":1,\"fMarkerStyle\":1,\"fMarkerSize\":1,\"fNcells\":102,\"fXaxis\":{\"_typename\":\"TAxis\",\"fUniqueID\":0,\"fBits\":50331656,\"fName\":\"xaxis\",\"fTitle\":\" p_{T}^{GEN} [GeV]\",\"fNdivisions\":510,\"fAxisColor\":1,\"fLabelColor\":1,\"fLabelFont\":42,\"fLabelOffset\":0.005,\"fLabelSize\":0.035,\"fTickLength\":0.03,\"fTitleOffset\":1.4,\"fTitleSize\":0.035,\"fTitleColor\":1,\"fTitleFont\":42,\"fNbins\":100,\"fXmin\":0,\"fXmax\":109.8,\"fXbins\":[],\"fFirst\":0,\"fLast\":0,\"fBits2\":0,\"fTimeDisplay\":false,\"fTimeFormat\":\"\",\"fLabels\":null,\"fModLabs\":null},\"fYaxis\":{\"_typename\":\"TAxis\",\"fUniqueID\":0,\"fBits\":50331656,\"fName\":\"yaxis\",\"fTitle\":\"L1 matched to GEN and p_{T}>th.\\/L1 matched to GEN\",\"fNdivisions\":510,\"fAxisColor\":1,\"fLabelColor\":1,\"fLabelFont\":42,\"fLabelOffset\":0.005,\"fLabelSize\":0.035,\"fTickLength\":0.03,\"fTitleOffset\":0,\"fTitleSize\":0.035,\"fTitleColor\":1,\"fTitleFont\":42,\"fNbins\":1,\"fXmin\":0,\"fXmax\":1.1,\"fXbins\":[],\"fFirst\":0,\"fLast\":0,\"fBits2\":0,\"fTimeDisplay\":false,\"fTimeFormat\":\"\",\"fLabels\":null,\"fModLabs\":null},\"fZaxis\":{\"_typename\":\"TAxis\",\"fUniqueID\":0,\"fBits\":50331648,\"fName\":\"zaxis\",\"fTitle\":\"\",\"fNdivisions\":510,\"fAxisColor\":1,\"fLabelColor\":1,\"fLabelFont\":42,\"fLabelOffset\":0.005,\"fLabelSize\":0.035,\"fTickLength\":0.03,\"fTitleOffset\":1,\"fTitleSize\":0.035,\"fTitleColor\":1,\"fTitleFont\":42,\"fNbins\":1,\"fXmin\":0,\"fXmax\":1,\"fXbins\":[],\"fFirst\":0,\"fLast\":0,\"fBits2\":0,\"fTimeDisplay\":false,\"fTimeFormat\":\"\",\"fLabels\":null,\"fModLabs\":null},\"fBarOffset\":0,\"fBarWidth\":1000,\"fEntries\":0,\"fTsumw\":0,\"fTsumw2\":0,\"fTsumwx\":0,\"fTsumwx2\":0,\"fMaximum\":1.1,\"fMinimum\":0,\"fNormFactor\":0,\"fContour\":[],\"fSumw2\":[],\"fOption\":\"\",\"fFunctions\":{\"_typename\":\"TList\",\"name\":\"TList\",\"arr\":[],\"opt\":[]},\"fBufferSize\":0,\"fBuffer\":[],\"fBinStatErrOpt\":0,\"fStatOverflows\":2,\"fArray\":[0,0,0,0,0,0,0,0,0,0,0,0,0,0,0,0,0,0,0,0,0,0,0,0,0,0,0,0,0,0,0,0,0,0,0,0,0,0,0,0,0,0,0,0,0,0,0,0,0,0,0,0,0,0,0,0,0,0,0,0,0,0,0,0,0,0,0,0,0,0,0,0,0,0,0,0,0,0,0,0,0,0,0,0,0,0,0,0,0,0,0,0,0,0,0,0,0,0,0,0,0,0]},\"fMinimum\":-1111,\"fMaximum\":-1111,\"fEXlow\":[1,1,1,1,1,1,1,1,1,1,1,1,1,1,1,1,1,1,1,1,1,1,1,1,1,1,1,1,1,1,1,1,1,1,1,1,1,1,1,1,1,1,1,1,1,1,1,1,1],\"fEXhigh\":[1,1,1,1,1,1,1,1,1,1,1,1,1,1,1,1,1,1,1,1,1,1,1,1,1,1,1,1,1,1,1,1,1,1,1,1,1,1,1,1,1,1,1,1,1,1,1,1,1],\"fEYlow\":[0,0,0,0,0,0,0,0,0,0,0,0,0.0055181572072346,0.0125198018082352,0.0217739982916976,0.0229815450983176,0.018218145722755,0.0158143076815558,0.0141625995631315,0.0122707057482808,0.00983597107608847,0.0102829140040896,0.00871190898416019,0.00701523058506826,0.00642912837421328,0.00576745900290809,0.00552714318889003,0.00527726675823759,0.00609858294376964,0.00467435060619115,0.0046090132127572,0.00350056657582654,0.00506961820607532,0.00346759968683441,0.00337851090995966,0.00338472230368492,0.0046332995610554,0.00420655633739031,0.00442511811202106,0.00359629985182086,0.00406526099946136,0.00353416632119274,0.00347414329597728,0.00405808687428899,0.00422200298480258,0.00445081284829207,0.00412358026016912,0.00356151411478722,0.00366065719283548],\"fEYhigh\":[0.011029219057088,0.0076415770731012,0.0056835446152275,0.00461500053258629,0.00404690288416236,0.00453541625251657,0.00386022264228776,0.00392607965115006,0.00380438394142321,0.00357534734320347,0.00354096381975243,0.00348071164830587,0.00779596555499652,0.0141521019922474,0.0221673550077727,0.0223736049993031,0.017052804645064,0.0144823888719493,0.0126175872551921,0.0104535044862117,0.00786506778077001,0.00804135479541557,0.00679935592567416,0.00483998111594119,0.00443275247812858,0.00324421994043744,0.0031083406470126,0.00296712084153228,0.003713557184024,0.00229827473165234,0.00226602278609156,0,0.00249346472665857,0,0,0,0.00227801062754107,0.00151793320693461,0.00159705603204052,0,0.00146679552412288,0,0,0.00146419934298714,0.00152352430682134,0.00160635959682764,0.00148790118023034,0,0]},{\"_typename\":\"TLegend\",\"fUniqueID\":0,\"fBits\":50331656,\"fLineColor\":1,\"fLineStyle\":1,\"fLineWidth\":1,\"fFillColor\":0,\"fFillStyle\":0,\"fX1\":109.800002296347,\"fY1\":0.828571433236681,\"fX2\":157.957897637491,\"fY2\":1.02857143372048,\"fX1NDC\":0.7,\"fY1NDC\":0.71,\"fX2NDC\":0.95,\"fY2NDC\":0.85,\"fBorderSize\":0,\"fInit\":1,\"fShadowColor\":1,\"fCornerRadius\":0,\"fOption\":\"brNDC\",\"fName\":\"TPave\",\"fTextAngle\":0,\"fTextSize\":0.03,\"fTextAlign\":12,\"fTextColor\":1,\"fTextFont\":42,\"fPrimitives\":{\"_typename\":\"TList\",\"name\":\"TList\",\"arr\":[{\"_typename\":\"TLegendEntry\",\"fUniqueID\":0,\"fBits\":50331656,\"fTextAngle\":0,\"fTextSize\":0,\"fTextAlign\":0,\"fTextColor\":0,\"fTextFont\":42,\"fLineColor\":1,\"fLineStyle\":1,\"fLineWidth\":1,\"fFillColor\":0,\"fFillStyle\":0,\"fMarkerColor\":1,\"fMarkerStyle\":8,\"fMarkerSize\":0.5,\"fObject\":{\"$ref\":3},\"fLabel\":\"hwQual 5, p_{T}^{L1}>=30GeV\",\"fOption\":\"P\"},{\"_typename\":\"TLegendEntry\",\"fUniqueID\":0,\"fBits\":50331656,\"fTextAngle\":0,\"fTextSize\":0,\"fTextAlign\":0,\"fTextColor\":0,\"fTextFont\":42,\"fLineColor\":1,\"fLineStyle\":1,\"fLineWidth\":1,\"fFillColor\":0,\"fFillStyle\":0,\"fMarkerColor\":628,\"fMarkerStyle\":21,\"fMarkerSize\":0.5,\"fObject\":{\"$ref\":10},\"fLabel\":\"hwQual 3, p_{T}^{L1}>=30GeV\",\"fOption\":\"P\"},{\"_typename\":\"TLegendEntry\",\"fUniqueID\":0,\"fBits\":50331656,\"fTextAngle\":0,\"fTextSize\":0,\"fTextAlign\":0,\"fTextColor\":0,\"fTextFont\":42,\"fLineColor\":1,\"fLineStyle\":1,\"fLineWidth\":1,\"fFillColor\":0,\"fFillStyle\":0,\"fMarkerColor\":417,\"fMarkerStyle\":22,\"fMarkerSize\":0.5,\"fObject\":{\"$ref\":17},\"fLabel\":\"hwQual 4, p_{T}^{L1}>=30GeV\",\"fOption\":\"P\"}],\"opt\":[\"P\",\"P\",\"P\"]},\"fEntrySeparation\":0.1,\"fMargin\":0.25,\"fNColumns\":1,\"fColumnSeparation\":0},{\"_typename\":\"TLatex\",\"fUniqueID\":0,\"fBits\":50348040,\"fName\":\"\",\"fTitle\":\"PU200, EG, 1.52 < |#eta^{GEN}| <= 2.4\",\"fTextAngle\":0,\"fTextSize\":0.03,\"fTextAlign\":11,\"fTextColor\":1,\"fTextFont\":62,\"fX\":0.15,\"fY\":0.85,\"fLineColor\":1,\"fLineStyle\":1,\"fLineWidth\":2,\"fLimitFactorSize\":3,\"fOriginSize\":0.04},{\"_typename\":\"TLatex\",\"fUniqueID\":0,\"fBits\":50331656,\"fName\":\"\",\"fTitle\":\"\",\"fTextAngle\":0,\"fTextSize\":0.03,\"fTextAlign\":11,\"fTextColor\":1,\"fTextFont\":62,\"fX\":0,\"fY\":0,\"fLineColor\":1,\"fLineStyle\":1,\"fLineWidth\":2,\"fLimitFactorSize\":3,\"fOriginSize\":0.04},{\"_typename\":\"TLine\",\"fUniqueID\":0,\"fBits\":50331656,\"fLineColor\":1,\"fLineStyle\":2,\"fLineWidth\":1,\"fX1\":0,\"fY1\":0.95,\"fX2\":109.8,\"fY2\":0.95},{\"_typename\":\"TLine\",\"fUniqueID\":0,\"fBits\":50331656,\"fLineColor\":1,\"fLineStyle\":2,\"fLineWidth\":1,\"fX1\":0,\"fY1\":1,\"fX2\":109.8,\"fY2\":1}],\"opt\":[\"\",\"pa\",\",p\",\",p\",\"same\",\"same\",\"same\",\"same\",\"same\"]},\"fExecs\":null,\"fName\":\"c_867af3\",\"fTitle\":\"c_867af3\",\"fNumPaletteColor\":0,\"fNextPaletteColor\":0,\"fDISPLAY\":\"$DISPLAY\",\"fDoubleBuffer\":0,\"fRetained\":true,\"fXsizeUser\":0,\"fYsizeUser\":0,\"fXsizeReal\":20,\"fYsizeReal\":15,\"fWindowTopX\":0,\"fWindowTopY\":0,\"fWindowWidth\":0,\"fWindowHeight\":0,\"fCw\":796,\"fCh\":572,\"fCatt\":{\"_typename\":\"TAttCanvas\",\"fXBetween\":2,\"fYBetween\":2,\"fTitleFromTop\":1.2,\"fXdate\":0.2,\"fYdate\":0.3,\"fAdate\":1},\"kMoveOpaque\":true,\"kResizeOpaque\":true,\"fHighLightColor\":2,\"fBatch\":true,\"kShowEventStatus\":false,\"kAutoExec\":true,\"kMenuBar\":true});\n",
       "       Core.draw(\"root_plot_27\", obj, \"\");\n",
       "     }\n",
       " );\n",
       "</script>\n"
      ],
      "text/plain": [
       "<IPython.core.display.HTML object>"
      ]
     },
     "metadata": {},
     "output_type": "display_data"
    }
   ],
   "source": [
    "hsets, labels, text = hplot.get_histo(histos.HistoSetEff, sample, ['PU200'], ['EG'], ['EGq3Pt30', 'EGq4Pt30', 'EGq5Pt30'], 'GENEtaBC', debug=False)\n",
    "draw([his.h_ton.h_pt.CreateGraph() for his in hsets], labels, text=text, min_y=0, max_y=1.1, y_axis_label='L1 matched to GEN and p_{T}>th./L1 matched to GEN', h_lines=[0.95, 1])\n"
   ]
  },
  {
   "cell_type": "code",
   "execution_count": 49,
   "metadata": {},
   "outputs": [
    {
     "data": {
      "text/plain": [
       "<drawingTools.DrawMachine at 0x1233bb890>"
      ]
     },
     "execution_count": 49,
     "metadata": {},
     "output_type": "execute_result"
    },
    {
     "data": {
      "text/html": [
       "\n",
       "<div id=\"root_plot_28\"\n",
       "     style=\"width: 796px; height: 572px\">\n",
       "</div>\n",
       "\n",
       "<script>\n",
       " requirejs.config({\n",
       "     paths: {\n",
       "       'JSRootCore' : 'https://root.cern.ch/js/notebook//scripts/JSRootCore',\n",
       "     }\n",
       "   });\n",
       " require(['JSRootCore'],\n",
       "     function(Core) {\n",
       "       var obj = Core.JSONR_unref({\"_typename\":\"TCanvas\",\"fUniqueID\":0,\"fBits\":53673992,\"fLineColor\":1,\"fLineStyle\":1,\"fLineWidth\":1,\"fFillColor\":0,\"fFillStyle\":1001,\"fLeftMargin\":0.13,\"fRightMargin\":0.3,\"fBottomMargin\":0.13,\"fTopMargin\":0.1,\"fXfile\":2,\"fYfile\":2,\"fAfile\":1,\"fXstat\":0.99,\"fYstat\":0.99,\"fAstat\":2,\"fFrameFillColor\":0,\"fFrameLineColor\":1,\"fFrameFillStyle\":1001,\"fFrameLineStyle\":1,\"fFrameLineWidth\":1,\"fFrameBorderSize\":1,\"fFrameBorderMode\":0,\"fX1\":-24.950876590882,\"fY1\":-0.185714283502611,\"fX2\":166.978950378923,\"fY2\":1.24285714852456,\"fXtoAbsPixelk\":103.480046204376,\"fXtoPixelk\":103.480046204376,\"fXtoPixel\":4.14734912528852,\"fYtoAbsPixelk\":497.640051065433,\"fYtoPixelk\":497.640051065433,\"fYtoPixel\":-400.399999031424,\"fUtoAbsPixelk\":5e-5,\"fUtoPixelk\":5e-5,\"fUtoPixel\":796,\"fVtoAbsPixelk\":572.00005,\"fVtoPixelk\":572,\"fVtoPixel\":-572,\"fAbsPixeltoXk\":-24.950876590882,\"fPixeltoXk\":-24.950876590882,\"fPixeltoX\":0.241117873077645,\"fAbsPixeltoYk\":1.24285714852456,\"fPixeltoYk\":-0.185714283502611,\"fPixeltoY\":-0.00249750250354401,\"fXlowNDC\":0,\"fYlowNDC\":0,\"fXUpNDC\":0,\"fYUpNDC\":0,\"fWNDC\":1,\"fHNDC\":1,\"fAbsXlowNDC\":0,\"fAbsYlowNDC\":0,\"fAbsWNDC\":1,\"fAbsHNDC\":1,\"fUxmin\":0,\"fUymin\":0,\"fUxmax\":109.4,\"fUymax\":1.1,\"fTheta\":30,\"fPhi\":30,\"fAspectRatio\":0,\"fNumber\":0,\"fTickx\":0,\"fTicky\":0,\"fLogx\":0,\"fLogy\":0,\"fLogz\":0,\"fPadPaint\":0,\"fCrosshair\":0,\"fCrosshairPos\":0,\"fBorderSize\":2,\"fBorderMode\":0,\"fModified\":false,\"fGridx\":false,\"fGridy\":false,\"fAbsCoord\":false,\"fEditable\":true,\"fFixedAspectRatio\":false,\"fPrimitives\":{\"_typename\":\"TList\",\"name\":\"TList\",\"arr\":[{\"_typename\":\"TFrame\",\"fUniqueID\":0,\"fBits\":50331656,\"fLineColor\":1,\"fLineStyle\":1,\"fLineWidth\":1,\"fFillColor\":0,\"fFillStyle\":1001,\"fX1\":0,\"fY1\":0,\"fX2\":109.4,\"fY2\":1.1,\"fBorderSize\":1,\"fBorderMode\":0},{\"_typename\":\"TGraphAsymmErrors\",\"fUniqueID\":0,\"fBits\":50332680,\"fName\":\"fa16db\",\"fTitle\":\"; p_{T}^{GEN} [GeV];\",\"fLineColor\":1,\"fLineStyle\":1,\"fLineWidth\":1,\"fFillColor\":0,\"fFillStyle\":1001,\"fMarkerColor\":1,\"fMarkerStyle\":8,\"fMarkerSize\":0.5,\"fNpoints\":47,\"fX\":[7,9,11,13,15,17,19,21,23,25,27,29,31,33,35,37,39,41,43,45,47,49,51,53,55,57,59,61,63,65,67,69,71,73,75,77,79,81,83,85,87,89,91,93,95,97,99],\"fY\":[0,0,0,0,0,0,0,0,0.00519480519480519,0.0367647058823529,0.239024390243902,0.592427616926503,0.809090909090909,0.905339805825243,0.956236323851203,0.965863453815261,0.982456140350877,0.991434689507495,0.997844827586207,0.99273607748184,0.997971602434077,0.99792531120332,1,1,1,1,0.995833333333333,1,1,1,1,1,1,1,1,1,0.997950819672131,1,1,1,1,1,1,1,1,1,1],\"fFunctions\":{\"_typename\":\"TList\",\"name\":\"TList\",\"arr\":[],\"opt\":[]},\"fHistogram\":{\"_typename\":\"TH1F\",\"fUniqueID\":0,\"fBits\":50332160,\"fName\":\"fa16db\",\"fTitle\":\"\",\"fLineColor\":602,\"fLineStyle\":1,\"fLineWidth\":1,\"fFillColor\":0,\"fFillStyle\":1001,\"fMarkerColor\":1,\"fMarkerStyle\":1,\"fMarkerSize\":1,\"fNcells\":102,\"fXaxis\":{\"_typename\":\"TAxis\",\"fUniqueID\":0,\"fBits\":50331656,\"fName\":\"xaxis\",\"fTitle\":\" p_{T}^{GEN} [GeV]\",\"fNdivisions\":510,\"fAxisColor\":1,\"fLabelColor\":1,\"fLabelFont\":42,\"fLabelOffset\":0.005,\"fLabelSize\":0.035,\"fTickLength\":0.03,\"fTitleOffset\":1.4,\"fTitleSize\":0.035,\"fTitleColor\":1,\"fTitleFont\":42,\"fNbins\":100,\"fXmin\":0,\"fXmax\":109.4,\"fXbins\":[],\"fFirst\":0,\"fLast\":0,\"fBits2\":0,\"fTimeDisplay\":false,\"fTimeFormat\":\"\",\"fLabels\":null,\"fModLabs\":null},\"fYaxis\":{\"_typename\":\"TAxis\",\"fUniqueID\":0,\"fBits\":50331656,\"fName\":\"yaxis\",\"fTitle\":\"L1 matched to GEN and p_{T}>th.\\/L1 matched to GEN\",\"fNdivisions\":510,\"fAxisColor\":1,\"fLabelColor\":1,\"fLabelFont\":42,\"fLabelOffset\":0.005,\"fLabelSize\":0.035,\"fTickLength\":0.03,\"fTitleOffset\":0,\"fTitleSize\":0.035,\"fTitleColor\":1,\"fTitleFont\":42,\"fNbins\":1,\"fXmin\":0,\"fXmax\":1.1,\"fXbins\":[],\"fFirst\":0,\"fLast\":0,\"fBits2\":0,\"fTimeDisplay\":false,\"fTimeFormat\":\"\",\"fLabels\":null,\"fModLabs\":null},\"fZaxis\":{\"_typename\":\"TAxis\",\"fUniqueID\":0,\"fBits\":50331648,\"fName\":\"zaxis\",\"fTitle\":\"\",\"fNdivisions\":510,\"fAxisColor\":1,\"fLabelColor\":1,\"fLabelFont\":42,\"fLabelOffset\":0.005,\"fLabelSize\":0.035,\"fTickLength\":0.03,\"fTitleOffset\":1,\"fTitleSize\":0.035,\"fTitleColor\":1,\"fTitleFont\":42,\"fNbins\":1,\"fXmin\":0,\"fXmax\":1,\"fXbins\":[],\"fFirst\":0,\"fLast\":0,\"fBits2\":0,\"fTimeDisplay\":false,\"fTimeFormat\":\"\",\"fLabels\":null,\"fModLabs\":null},\"fBarOffset\":0,\"fBarWidth\":1000,\"fEntries\":0,\"fTsumw\":0,\"fTsumw2\":0,\"fTsumwx\":0,\"fTsumwx2\":0,\"fMaximum\":1.1,\"fMinimum\":0,\"fNormFactor\":0,\"fContour\":[],\"fSumw2\":[],\"fOption\":\"\",\"fFunctions\":{\"_typename\":\"TList\",\"name\":\"TList\",\"arr\":[],\"opt\":[]},\"fBufferSize\":0,\"fBuffer\":[],\"fBinStatErrOpt\":0,\"fStatOverflows\":2,\"fArray\":[0,0,0,0,0,0,0,0,0,0,0,0,0,0,0,0,0,0,0,0,0,0,0,0,0,0,0,0,0,0,0,0,0,0,0,0,0,0,0,0,0,0,0,0,0,0,0,0,0,0,0,0,0,0,0,0,0,0,0,0,0,0,0,0,0,0,0,0,0,0,0,0,0,0,0,0,0,0,0,0,0,0,0,0,0,0,0,0,0,0,0,0,0,0,0,0,0,0,0,0,0,0]},\"fMinimum\":-1111,\"fMaximum\":-1111,\"fEXlow\":[1,1,1,1,1,1,1,1,1,1,1,1,1,1,1,1,1,1,1,1,1,1,1,1,1,1,1,1,1,1,1,1,1,1,1,1,1,1,1,1,1,1,1,1,1,1,1],\"fEXhigh\":[1,1,1,1,1,1,1,1,1,1,1,1,1,1,1,1,1,1,1,1,1,1,1,1,1,1,1,1,1,1,1,1,1,1,1,1,1,1,1,1,1,1,1,1,1,1,1],\"fEYlow\":[0,0,0,0,0,0,0,0,0.00335466371614636,0.00928955333642517,0.0215875333455837,0.0244910902061577,0.0206015952884923,0.0167027895845631,0.0117956315437413,0.0102153491472546,0.00853822092487322,0.00672058241883755,0.00493827780831479,0.00701524763530292,0.00464876402121839,0.00475449268113537,0.00354778751684082,0.00406477309155862,0.00386833368795392,0.00366065719283548,0.00546901927527887,0.00358928844941775,0.00346759968683441,0.00375013763483556,0.00385214553956759,0.00375013763483556,0.00363177180340413,0.00365339285463007,0.00363177180340413,0.00358230433286932,0.00469623362391902,0.00398557578627201,0.00352064931846152,0.00381226179010363,0.00371232785613951,0.00352739487057507,0.00361040515630018,0.00377319546078458,0.00352064931846152,0.00378094454173383,0.00397696617588639],\"fEYhigh\":[0.601684479424288,0.184992497739924,0.0147372762447057,0.00969356680186815,0.00694930794303425,0.00595951422917412,0.00575460618350494,0.00482042210176742,0.00681036910676436,0.0118553079040798,0.0229322682531713,0.0240602153893117,0.019113489923814,0.0145726019640892,0.00957344978432351,0.00811591883775298,0.00604862838886822,0.00409484025366413,0.00178292753518638,0.00395073658098466,0.00167804560863316,0.00171634268806575,0,0,0,0,0.00269083099603007,0,0,0,0,0,0,0,0,0,0.00169523933422622,0,0,0,0,0,0,0,0,0,0]},{\"_typename\":\"TGraphAsymmErrors\",\"fUniqueID\":0,\"fBits\":50332680,\"fName\":\"70002c\",\"fTitle\":\"; p_{T}^{GEN} [GeV];\",\"fLineColor\":628,\"fLineStyle\":1,\"fLineWidth\":1,\"fFillColor\":0,\"fFillStyle\":1001,\"fMarkerColor\":628,\"fMarkerStyle\":21,\"fMarkerSize\":0.5,\"fNpoints\":47,\"fX\":[7,9,11,13,15,17,19,21,23,25,27,29,31,33,35,37,39,41,43,45,47,49,51,53,55,57,59,61,63,65,67,69,71,73,75,77,79,81,83,85,87,89,91,93,95,97,99],\"fY\":[0,0,0,0,0,0,0,0,0,0,0.0170731707317073,0.11804008908686,0.475,0.750605326876513,0.87746170678337,0.919678714859438,0.953947368421053,0.97644539614561,0.989224137931034,0.983050847457627,0.995943204868154,0.993775933609959,1,1,0.997894736842105,1,0.99375,1,1,1,1,1,1,1,1,1,0.997950819672131,1,1,1,1,1,1,1,1,1,1],\"fFunctions\":{\"_typename\":\"TList\",\"name\":\"TList\",\"arr\":[],\"opt\":[]},\"fHistogram\":{\"_typename\":\"TH1F\",\"fUniqueID\":0,\"fBits\":50332160,\"fName\":\"70002c\",\"fTitle\":\"\",\"fLineColor\":602,\"fLineStyle\":1,\"fLineWidth\":1,\"fFillColor\":0,\"fFillStyle\":1001,\"fMarkerColor\":1,\"fMarkerStyle\":1,\"fMarkerSize\":1,\"fNcells\":102,\"fXaxis\":{\"_typename\":\"TAxis\",\"fUniqueID\":0,\"fBits\":50331656,\"fName\":\"xaxis\",\"fTitle\":\" p_{T}^{GEN} [GeV]\",\"fNdivisions\":510,\"fAxisColor\":1,\"fLabelColor\":1,\"fLabelFont\":42,\"fLabelOffset\":0.005,\"fLabelSize\":0.035,\"fTickLength\":0.03,\"fTitleOffset\":1.4,\"fTitleSize\":0.035,\"fTitleColor\":1,\"fTitleFont\":42,\"fNbins\":100,\"fXmin\":0,\"fXmax\":109.4,\"fXbins\":[],\"fFirst\":0,\"fLast\":0,\"fBits2\":0,\"fTimeDisplay\":false,\"fTimeFormat\":\"\",\"fLabels\":null,\"fModLabs\":null},\"fYaxis\":{\"_typename\":\"TAxis\",\"fUniqueID\":0,\"fBits\":50331656,\"fName\":\"yaxis\",\"fTitle\":\"L1 matched to GEN and p_{T}>th.\\/L1 matched to GEN\",\"fNdivisions\":510,\"fAxisColor\":1,\"fLabelColor\":1,\"fLabelFont\":42,\"fLabelOffset\":0.005,\"fLabelSize\":0.035,\"fTickLength\":0.03,\"fTitleOffset\":0,\"fTitleSize\":0.035,\"fTitleColor\":1,\"fTitleFont\":42,\"fNbins\":1,\"fXmin\":0,\"fXmax\":1.1,\"fXbins\":[],\"fFirst\":0,\"fLast\":0,\"fBits2\":0,\"fTimeDisplay\":false,\"fTimeFormat\":\"\",\"fLabels\":null,\"fModLabs\":null},\"fZaxis\":{\"_typename\":\"TAxis\",\"fUniqueID\":0,\"fBits\":50331648,\"fName\":\"zaxis\",\"fTitle\":\"\",\"fNdivisions\":510,\"fAxisColor\":1,\"fLabelColor\":1,\"fLabelFont\":42,\"fLabelOffset\":0.005,\"fLabelSize\":0.035,\"fTickLength\":0.03,\"fTitleOffset\":1,\"fTitleSize\":0.035,\"fTitleColor\":1,\"fTitleFont\":42,\"fNbins\":1,\"fXmin\":0,\"fXmax\":1,\"fXbins\":[],\"fFirst\":0,\"fLast\":0,\"fBits2\":0,\"fTimeDisplay\":false,\"fTimeFormat\":\"\",\"fLabels\":null,\"fModLabs\":null},\"fBarOffset\":0,\"fBarWidth\":1000,\"fEntries\":0,\"fTsumw\":0,\"fTsumw2\":0,\"fTsumwx\":0,\"fTsumwx2\":0,\"fMaximum\":1.1,\"fMinimum\":0,\"fNormFactor\":0,\"fContour\":[],\"fSumw2\":[],\"fOption\":\"\",\"fFunctions\":{\"_typename\":\"TList\",\"name\":\"TList\",\"arr\":[],\"opt\":[]},\"fBufferSize\":0,\"fBuffer\":[],\"fBinStatErrOpt\":0,\"fStatOverflows\":2,\"fArray\":[0,0,0,0,0,0,0,0,0,0,0,0,0,0,0,0,0,0,0,0,0,0,0,0,0,0,0,0,0,0,0,0,0,0,0,0,0,0,0,0,0,0,0,0,0,0,0,0,0,0,0,0,0,0,0,0,0,0,0,0,0,0,0,0,0,0,0,0,0,0,0,0,0,0,0,0,0,0,0,0,0,0,0,0,0,0,0,0,0,0,0,0,0,0,0,0,0,0,0,0,0,0]},\"fMinimum\":-1111,\"fMaximum\":-1111,\"fEXlow\":[1,1,1,1,1,1,1,1,1,1,1,1,1,1,1,1,1,1,1,1,1,1,1,1,1,1,1,1,1,1,1,1,1,1,1,1,1,1,1,1,1,1,1,1,1,1,1],\"fEXhigh\":[1,1,1,1,1,1,1,1,1,1,1,1,1,1,1,1,1,1,1,1,1,1,1,1,1,1,1,1,1,1,1,1,1,1,1,1,1,1,1,1,1,1,1,1,1,1,1],\"fEYlow\":[0,0,0,0,0,0,0,0,0,0,0.00627534886340281,0.0154251561669418,0.0248540503438183,0.023117908711173,0.0173120996968328,0.0140992992629019,0.0120370021318202,0.00930082307403357,0.00722398119239465,0.00900992003560508,0.00532548599982852,0.00601718903443615,0.00354778751684082,0.00406477309155862,0.00482431530150773,0.00366065719283548,0.00604210539406969,0.00358928844941775,0.00346759968683441,0.00375013763483556,0.00385214553956759,0.00375013763483556,0.00363177180340413,0.00365339285463007,0.00363177180340413,0.00358230433286932,0.00469623362391902,0.00398557578627201,0.00352064931846152,0.00381226179010363,0.00371232785613951,0.00352739487057507,0.00361040515630018,0.00377319546078458,0.00352064931846152,0.00378094454173383,0.00397696617588639],\"fEYhigh\":[0.601684479424288,0.184992497739924,0.0147372762447057,0.00969356680186815,0.00694930794303425,0.00594028517282401,0.00575460618350494,0.00482042210176742,0.00477045944343452,0.00450214278712219,0.00907496809611176,0.0172485490919565,0.0249729416949771,0.0218372303569302,0.0155446611889313,0.0122770018175569,0.00982633965907453,0.00695215410630989,0.00464682461509081,0.00622991705840925,0.00261988757820775,0.00338548749971246,0,0,0.00174163711950837,0,0.00339958586743838,0,0,0,0,0,0,0,0,0,0.00169523933422622,0,0,0,0,0,0,0,0,0,0]},{\"_typename\":\"TGraphAsymmErrors\",\"fUniqueID\":0,\"fBits\":50332680,\"fName\":\"2cbe93\",\"fTitle\":\"; p_{T}^{GEN} [GeV];\",\"fLineColor\":417,\"fLineStyle\":1,\"fLineWidth\":1,\"fFillColor\":0,\"fFillStyle\":1001,\"fMarkerColor\":417,\"fMarkerStyle\":22,\"fMarkerSize\":0.5,\"fNpoints\":48,\"fX\":[5,7,9,11,13,15,17,19,21,23,25,27,29,31,33,35,37,39,41,43,45,47,49,51,53,55,57,59,61,63,65,67,69,71,73,75,77,79,81,83,85,87,89,91,93,95,97,99],\"fY\":[0,0,0,0,0,0,0,0,0,0,0,0.0121951219512195,0.0975609756097561,0.427272727272727,0.685990338164251,0.838074398249453,0.885771543086172,0.907894736842105,0.93576017130621,0.96551724137931,0.968523002421308,0.975708502024291,0.985477178423237,0.992292870905588,0.997787610619469,0.993684210526316,0.99203187250996,0.991666666666667,0.99412915851272,0.99622641509434,1,1,1,0.998027613412229,1,0.998027613412229,1,0.997950819672131,0.997835497835498,1,1,1,1,1,1,1,0.997942386831276,1],\"fFunctions\":{\"_typename\":\"TList\",\"name\":\"TList\",\"arr\":[],\"opt\":[]},\"fHistogram\":{\"_typename\":\"TH1F\",\"fUniqueID\":0,\"fBits\":50332160,\"fName\":\"2cbe93\",\"fTitle\":\"\",\"fLineColor\":602,\"fLineStyle\":1,\"fLineWidth\":1,\"fFillColor\":0,\"fFillStyle\":1001,\"fMarkerColor\":1,\"fMarkerStyle\":1,\"fMarkerSize\":1,\"fNcells\":102,\"fXaxis\":{\"_typename\":\"TAxis\",\"fUniqueID\":0,\"fBits\":50331656,\"fName\":\"xaxis\",\"fTitle\":\" p_{T}^{GEN} [GeV]\",\"fNdivisions\":510,\"fAxisColor\":1,\"fLabelColor\":1,\"fLabelFont\":42,\"fLabelOffset\":0.005,\"fLabelSize\":0.035,\"fTickLength\":0.03,\"fTitleOffset\":1.4,\"fTitleSize\":0.035,\"fTitleColor\":1,\"fTitleFont\":42,\"fNbins\":100,\"fXmin\":0,\"fXmax\":109.6,\"fXbins\":[],\"fFirst\":0,\"fLast\":0,\"fBits2\":0,\"fTimeDisplay\":false,\"fTimeFormat\":\"\",\"fLabels\":null,\"fModLabs\":null},\"fYaxis\":{\"_typename\":\"TAxis\",\"fUniqueID\":0,\"fBits\":50331656,\"fName\":\"yaxis\",\"fTitle\":\"L1 matched to GEN and p_{T}>th.\\/L1 matched to GEN\",\"fNdivisions\":510,\"fAxisColor\":1,\"fLabelColor\":1,\"fLabelFont\":42,\"fLabelOffset\":0.005,\"fLabelSize\":0.035,\"fTickLength\":0.03,\"fTitleOffset\":0,\"fTitleSize\":0.035,\"fTitleColor\":1,\"fTitleFont\":42,\"fNbins\":1,\"fXmin\":0,\"fXmax\":1.1,\"fXbins\":[],\"fFirst\":0,\"fLast\":0,\"fBits2\":0,\"fTimeDisplay\":false,\"fTimeFormat\":\"\",\"fLabels\":null,\"fModLabs\":null},\"fZaxis\":{\"_typename\":\"TAxis\",\"fUniqueID\":0,\"fBits\":50331648,\"fName\":\"zaxis\",\"fTitle\":\"\",\"fNdivisions\":510,\"fAxisColor\":1,\"fLabelColor\":1,\"fLabelFont\":42,\"fLabelOffset\":0.005,\"fLabelSize\":0.035,\"fTickLength\":0.03,\"fTitleOffset\":1,\"fTitleSize\":0.035,\"fTitleColor\":1,\"fTitleFont\":42,\"fNbins\":1,\"fXmin\":0,\"fXmax\":1,\"fXbins\":[],\"fFirst\":0,\"fLast\":0,\"fBits2\":0,\"fTimeDisplay\":false,\"fTimeFormat\":\"\",\"fLabels\":null,\"fModLabs\":null},\"fBarOffset\":0,\"fBarWidth\":1000,\"fEntries\":0,\"fTsumw\":0,\"fTsumw2\":0,\"fTsumwx\":0,\"fTsumwx2\":0,\"fMaximum\":1.1,\"fMinimum\":0,\"fNormFactor\":0,\"fContour\":[],\"fSumw2\":[],\"fOption\":\"\",\"fFunctions\":{\"_typename\":\"TList\",\"name\":\"TList\",\"arr\":[],\"opt\":[]},\"fBufferSize\":0,\"fBuffer\":[],\"fBinStatErrOpt\":0,\"fStatOverflows\":2,\"fArray\":[0,0,0,0,0,0,0,0,0,0,0,0,0,0,0,0,0,0,0,0,0,0,0,0,0,0,0,0,0,0,0,0,0,0,0,0,0,0,0,0,0,0,0,0,0,0,0,0,0,0,0,0,0,0,0,0,0,0,0,0,0,0,0,0,0,0,0,0,0,0,0,0,0,0,0,0,0,0,0,0,0,0,0,0,0,0,0,0,0,0,0,0,0,0,0,0,0,0,0,0,0,0]},\"fMinimum\":-1111,\"fMaximum\":-1111,\"fEXlow\":[1,1,1,1,1,1,1,1,1,1,1,1,1,1,1,1,1,1,1,1,1,1,1,1,1,1,1,1,1,1,1,1,1,1,1,1,1,1,1,1,1,1,1,1,1,1,1,1],\"fEXhigh\":[1,1,1,1,1,1,1,1,1,1,1,1,1,1,1,1,1,1,1,1,1,1,1,1,1,1,1,1,1,1,1,1,1,1,1,1,1,1,1,1,1,1,1,1,1,1,1,1],\"fEYlow\":[0,0,0,0,0,0,0,0,0,0,0,0.00525769484469486,0.0141195696265348,0.0245173919151724,0.024462751604861,0.0191012169413564,0.0160656727154749,0.0156062005052078,0.0134468715022857,0.0107050228095855,0.0111298296904611,0.00907536003653109,0.00773473171059613,0.00605190665932809,0.00506890353522516,0.00610530848869428,0.00625538094154809,0.00653993367615291,0.00567769124764361,0.0049553379004178,0.00375013763483556,0.00385214553956759,0.00375013763483556,0.00452081390526349,0.00365339285463007,0.00452081390526349,0.00358230433286932,0.00469623362391902,0.00495957921843515,0.00352739487057507,0.00381226179010363,0.00371232785613951,0.00352739487057507,0.00361040515630018,0.00377319546078458,0.00352064931846152,0.00471549402114313,0.00397696617588639],\"fEYhigh\":[0.8413447460685,0.458641675296288,0.184992497739924,0.0147372762447057,0.00969356680186815,0.00692317512607955,0.00594028517282401,0.00577265009707769,0.00482042210176742,0.00475813018917808,0.00449115985881262,0.00816562285800505,0.0160433254352298,0.0248634075513479,0.0235180955508401,0.0175298200193006,0.0144126450605833,0.0136748067285675,0.011407042996874,0.00844601125004041,0.00854499476393278,0.00687063602219717,0.0053406254010594,0.0036849639847536,0.00183026378296369,0.00343535090802261,0.00380962888428882,0.00398405431756521,0.00319345627945733,0.00243701747311176,0,0,0,0.00163170739537788,0,0.00163170739537788,0,0.00169523933422622,0.00179064613746693,0,0,0,0,0,0,0,0.00170221588663977,0]},{\"_typename\":\"TLegend\",\"fUniqueID\":0,\"fBits\":50331656,\"fLineColor\":1,\"fLineStyle\":1,\"fLineWidth\":1,\"fFillColor\":0,\"fFillStyle\":0,\"fX1\":109.400002287982,\"fY1\":0.828571433236681,\"fX2\":157.382459030433,\"fY2\":1.02857143372048,\"fX1NDC\":0.7,\"fY1NDC\":0.71,\"fX2NDC\":0.95,\"fY2NDC\":0.85,\"fBorderSize\":0,\"fInit\":1,\"fShadowColor\":1,\"fCornerRadius\":0,\"fOption\":\"brNDC\",\"fName\":\"TPave\",\"fTextAngle\":0,\"fTextSize\":0.03,\"fTextAlign\":12,\"fTextColor\":1,\"fTextFont\":42,\"fPrimitives\":{\"_typename\":\"TList\",\"name\":\"TList\",\"arr\":[{\"_typename\":\"TLegendEntry\",\"fUniqueID\":0,\"fBits\":50331656,\"fTextAngle\":0,\"fTextSize\":0,\"fTextAlign\":0,\"fTextColor\":0,\"fTextFont\":42,\"fLineColor\":1,\"fLineStyle\":1,\"fLineWidth\":1,\"fFillColor\":0,\"fFillStyle\":0,\"fMarkerColor\":1,\"fMarkerStyle\":8,\"fMarkerSize\":0.5,\"fObject\":{\"$ref\":3},\"fLabel\":\"hwQual 3, p_{T}^{L1}>=30GeV\",\"fOption\":\"P\"},{\"_typename\":\"TLegendEntry\",\"fUniqueID\":0,\"fBits\":50331656,\"fTextAngle\":0,\"fTextSize\":0,\"fTextAlign\":0,\"fTextColor\":0,\"fTextFont\":42,\"fLineColor\":1,\"fLineStyle\":1,\"fLineWidth\":1,\"fFillColor\":0,\"fFillStyle\":0,\"fMarkerColor\":628,\"fMarkerStyle\":21,\"fMarkerSize\":0.5,\"fObject\":{\"$ref\":10},\"fLabel\":\"hwQual 5, p_{T}^{L1}>=30GeV\",\"fOption\":\"P\"},{\"_typename\":\"TLegendEntry\",\"fUniqueID\":0,\"fBits\":50331656,\"fTextAngle\":0,\"fTextSize\":0,\"fTextAlign\":0,\"fTextColor\":0,\"fTextFont\":42,\"fLineColor\":1,\"fLineStyle\":1,\"fLineWidth\":1,\"fFillColor\":0,\"fFillStyle\":0,\"fMarkerColor\":417,\"fMarkerStyle\":22,\"fMarkerSize\":0.5,\"fObject\":{\"$ref\":17},\"fLabel\":\"hwQual 4, p_{T}^{L1}>=30GeV\",\"fOption\":\"P\"}],\"opt\":[\"P\",\"P\",\"P\"]},\"fEntrySeparation\":0.1,\"fMargin\":0.25,\"fNColumns\":1,\"fColumnSeparation\":0},{\"_typename\":\"TLatex\",\"fUniqueID\":0,\"fBits\":50348040,\"fName\":\"\",\"fTitle\":\"PU200, TkEle Ell. match, 1.52 < |#eta^{GEN}| <= 2.4\",\"fTextAngle\":0,\"fTextSize\":0.03,\"fTextAlign\":11,\"fTextColor\":1,\"fTextFont\":62,\"fX\":0.15,\"fY\":0.85,\"fLineColor\":1,\"fLineStyle\":1,\"fLineWidth\":2,\"fLimitFactorSize\":3,\"fOriginSize\":0.04},{\"_typename\":\"TLatex\",\"fUniqueID\":0,\"fBits\":50331656,\"fName\":\"\",\"fTitle\":\"\",\"fTextAngle\":0,\"fTextSize\":0.03,\"fTextAlign\":11,\"fTextColor\":1,\"fTextFont\":62,\"fX\":0,\"fY\":0,\"fLineColor\":1,\"fLineStyle\":1,\"fLineWidth\":2,\"fLimitFactorSize\":3,\"fOriginSize\":0.04},{\"_typename\":\"TLine\",\"fUniqueID\":0,\"fBits\":50331656,\"fLineColor\":1,\"fLineStyle\":2,\"fLineWidth\":1,\"fX1\":0,\"fY1\":0.95,\"fX2\":109.4,\"fY2\":0.95},{\"_typename\":\"TLine\",\"fUniqueID\":0,\"fBits\":50331656,\"fLineColor\":1,\"fLineStyle\":2,\"fLineWidth\":1,\"fX1\":0,\"fY1\":1,\"fX2\":109.4,\"fY2\":1}],\"opt\":[\"\",\"pa\",\",p\",\",p\",\"same\",\"same\",\"same\",\"same\",\"same\"]},\"fExecs\":null,\"fName\":\"c_ce7172\",\"fTitle\":\"c_ce7172\",\"fNumPaletteColor\":0,\"fNextPaletteColor\":0,\"fDISPLAY\":\"$DISPLAY\",\"fDoubleBuffer\":0,\"fRetained\":true,\"fXsizeUser\":0,\"fYsizeUser\":0,\"fXsizeReal\":20,\"fYsizeReal\":15,\"fWindowTopX\":0,\"fWindowTopY\":0,\"fWindowWidth\":0,\"fWindowHeight\":0,\"fCw\":796,\"fCh\":572,\"fCatt\":{\"_typename\":\"TAttCanvas\",\"fXBetween\":2,\"fYBetween\":2,\"fTitleFromTop\":1.2,\"fXdate\":0.2,\"fYdate\":0.3,\"fAdate\":1},\"kMoveOpaque\":true,\"kResizeOpaque\":true,\"fHighLightColor\":2,\"fBatch\":true,\"kShowEventStatus\":false,\"kAutoExec\":true,\"kMenuBar\":true});\n",
       "       Core.draw(\"root_plot_28\", obj, \"\");\n",
       "     }\n",
       " );\n",
       "</script>\n"
      ],
      "text/plain": [
       "<IPython.core.display.HTML object>"
      ]
     },
     "metadata": {},
     "output_type": "display_data"
    }
   ],
   "source": [
    "hsets, labels, text = hplot.get_histo(histos.HistoSetEff, sample, ['PU200'], ['TkEleEL'], ['EGq3Pt30', 'EGq4Pt30', 'EGq5Pt30'], 'GENEtaBC', debug=False)\n",
    "draw([his.h_ton.h_pt.CreateGraph() for his in hsets], labels, text=text, min_y=0, max_y=1.1, y_axis_label='L1 matched to GEN and p_{T}>th./L1 matched to GEN', h_lines=[0.95, 1])\n"
   ]
  },
  {
   "cell_type": "markdown",
   "metadata": {},
   "source": [
    "## Scaling"
   ]
  },
  {
   "cell_type": "code",
   "execution_count": 50,
   "metadata": {},
   "outputs": [
    {
     "data": {
      "text/html": [
       "\n",
       "<div id=\"root_plot_29\"\n",
       "     style=\"width: 796px; height: 572px\">\n",
       "</div>\n",
       "\n",
       "<script>\n",
       " requirejs.config({\n",
       "     paths: {\n",
       "       'JSRootCore' : 'https://root.cern.ch/js/notebook//scripts/JSRootCore',\n",
       "     }\n",
       "   });\n",
       " require(['JSRootCore'],\n",
       "     function(Core) {\n",
       "       var obj = Core.JSONR_unref({\"_typename\":\"TCanvas\",\"fUniqueID\":0,\"fBits\":53673992,\"fLineColor\":1,\"fLineStyle\":1,\"fLineWidth\":1,\"fFillColor\":0,\"fFillStyle\":1001,\"fLeftMargin\":0.13,\"fRightMargin\":0.13,\"fBottomMargin\":0.13,\"fTopMargin\":0.1,\"fXfile\":2,\"fYfile\":2,\"fAfile\":1,\"fXstat\":0.99,\"fYstat\":0.99,\"fAstat\":2,\"fFrameFillColor\":0,\"fFrameLineColor\":1,\"fFrameFillStyle\":1001,\"fFrameLineStyle\":1,\"fFrameLineWidth\":1,\"fFrameBorderSize\":1,\"fFrameBorderMode\":0,\"fX1\":-17.5675666967912,\"fY1\":-0.177272725161583,\"fX2\":117.567566696791,\"fY2\":1.18636364177344,\"fXtoAbsPixelk\":103.480046204376,\"fXtoPixelk\":103.480046204376,\"fXtoPixel\":5.89040007591248,\"fYtoAbsPixelk\":497.640051065433,\"fYtoPixelk\":497.640051065433,\"fYtoPixel\":-419.466665651968,\"fUtoAbsPixelk\":5e-5,\"fUtoPixelk\":5e-5,\"fUtoPixel\":796,\"fVtoAbsPixelk\":572.00005,\"fVtoPixelk\":572,\"fVtoPixel\":-572,\"fAbsPixeltoXk\":-17.5675666967912,\"fPixeltoXk\":-17.5675666967912,\"fPixeltoX\":0.169767755519576,\"fAbsPixeltoYk\":1.18636364177344,\"fPixeltoYk\":-0.177272725161583,\"fPixeltoY\":-0.00238397966247382,\"fXlowNDC\":0,\"fYlowNDC\":0,\"fXUpNDC\":0,\"fYUpNDC\":0,\"fWNDC\":1,\"fHNDC\":1,\"fAbsXlowNDC\":0,\"fAbsYlowNDC\":0,\"fAbsWNDC\":1,\"fAbsHNDC\":1,\"fUxmin\":0,\"fUymin\":0,\"fUxmax\":100,\"fUymax\":1.05,\"fTheta\":30,\"fPhi\":30,\"fAspectRatio\":0,\"fNumber\":0,\"fTickx\":0,\"fTicky\":0,\"fLogx\":0,\"fLogy\":0,\"fLogz\":0,\"fPadPaint\":0,\"fCrosshair\":0,\"fCrosshairPos\":0,\"fBorderSize\":2,\"fBorderMode\":0,\"fModified\":false,\"fGridx\":false,\"fGridy\":false,\"fAbsCoord\":false,\"fEditable\":true,\"fFixedAspectRatio\":false,\"fPrimitives\":{\"_typename\":\"TList\",\"name\":\"TList\",\"arr\":[{\"_typename\":\"TFrame\",\"fUniqueID\":0,\"fBits\":50331656,\"fLineColor\":1,\"fLineStyle\":1,\"fLineWidth\":1,\"fFillColor\":0,\"fFillStyle\":1001,\"fX1\":0,\"fY1\":0,\"fX2\":100,\"fY2\":1.05,\"fBorderSize\":1,\"fBorderMode\":0},{\"_typename\":\"TF1\",\"fUniqueID\":0,\"fBits\":50331656,\"fName\":\"tf_yc\",\"fTitle\":\"tf_yc\",\"fLineColor\":6,\"fLineStyle\":1,\"fLineWidth\":2,\"fFillColor\":19,\"fFillStyle\":0,\"fMarkerColor\":1,\"fMarkerStyle\":1,\"fMarkerSize\":1,\"fXmin\":0,\"fXmax\":100,\"fNpar\":5,\"fNdim\":1,\"fNpx\":100,\"fType\":1,\"fNpfits\":0,\"fNDF\":0,\"fChisquare\":0,\"fMinimum\":-1111,\"fMaximum\":-1111,\"fParErrors\":[0,0,0,0,0],\"fParMin\":[0,0,0.1,0.9,1],\"fParMax\":[1,50,1,1,1],\"fSave\":[1.23428676400375e-7,4.49513472868764e-7,1.54224747641312e-6,4.98593481427967e-6,1.51924633914372e-5,4.3643543930399e-5,1.18238393547198e-4,3.02202549581972e-4,7.28977528687824e-4,0.00166037605752091,0.00357276058185923,0.00726724004763926,0.0139832050962066,0.0254722375930462,0.0439702720929668,0.0720044098849184,0.112001337140329,0.165730366175157,0.233698807862186,0.31468365290073,0.405589358698031,0.501744998953496,0.597613192587385,0.68773453820062,0.767642810808157,0.834500081853099,0.887309233283398,0.92671128125548,0.954499736103642,0.973038587104095,0.984748963168258,0.991760244260344,0.995744229629561,0.997895971868751,0.999002582825264,0.999545650250298,0.999800597444216,0.999915425243867,0.9999652099797,0.999986066278198,0.999994543947646,0.999997902424278,0.999999205033825,0.999999701889696,0.999999889038428,0.999999958901482,0.999999984824433,0.999999994406506,0.999999997940349,0.999999999241973,0.999999999721086,0.999999999897386,0.999999999962249,0.999999999986112,0.999999999994891,0.999999999998121,0.999999999999309,0.999999999999746,0.999999999999906,0.999999999999966,0.999999999999987,0.999999999999995,0.999999999999998,0.999999999999999,1,1,1,1,1,1,1,1,1,1,1,1,1,1,1,1,1,1,1,1,1,1,1,1,1,1,1,1,1,1,1,1,1,1,1,1,1,0,100],\"fNormalized\":false,\"fNormIntegral\":0,\"fFormula\":null,\"fParams\":{\"_typename\":\"TF1Parameters\",\"fParameters\":[1,20,4,1,0],\"fParNames\":[\"#lambda\",\"#mu\",\"#sigma\",\"Plateau\",\"Baseline\"]},\"fComposition_ptr\":null}],\"opt\":[\"\",\"\"]},\"fExecs\":null,\"fName\":\"c_df3499\",\"fTitle\":\"c_df3499\",\"fNumPaletteColor\":0,\"fNextPaletteColor\":0,\"fDISPLAY\":\"$DISPLAY\",\"fDoubleBuffer\":0,\"fRetained\":true,\"fXsizeUser\":0,\"fYsizeUser\":0,\"fXsizeReal\":20,\"fYsizeReal\":15,\"fWindowTopX\":0,\"fWindowTopY\":0,\"fWindowWidth\":0,\"fWindowHeight\":0,\"fCw\":796,\"fCh\":572,\"fCatt\":{\"_typename\":\"TAttCanvas\",\"fXBetween\":2,\"fYBetween\":2,\"fTitleFromTop\":1.2,\"fXdate\":0.2,\"fYdate\":0.3,\"fAdate\":1},\"kMoveOpaque\":true,\"kResizeOpaque\":true,\"fHighLightColor\":2,\"fBatch\":true,\"kShowEventStatus\":false,\"kAutoExec\":true,\"kMenuBar\":true});\n",
       "       Core.draw(\"root_plot_29\", obj, \"\");\n",
       "     }\n",
       " );\n",
       "</script>\n"
      ],
      "text/plain": [
       "<IPython.core.display.HTML object>"
      ]
     },
     "metadata": {},
     "output_type": "display_data"
    }
   ],
   "source": [
    "def f_yc(x, par):\n",
    "    return (ROOT.Math.normal_cdf(par[0]*(x[0]-par[1]), par[0]*par[2], 0) - ROOT.TMath.Exp(-par[0]*(x[0]-par[1])+par[0]*par[0]*par[2]*par[2]/2)*ROOT.Math.normal_cdf(par[0]*(x[0]-par[1]), par[0]*par[2], par[0]*par[0]*par[2]*par[2])) * (par[3] - par[4]) + par[4]\n",
    "\n",
    "tf_yc = ROOT.TF1('tf_yc', f_yc, 0, 100, 5)\n",
    "tf_yc.SetParameters(1, 20, 4, 1.0, 0.0);\n",
    "tf_yc.SetParNames(\"#lambda\", \"#mu\", \"#sigma\", \"Plateau\", \"Baseline\");\n",
    "tf_yc.SetLineColor(6)\n",
    "tf_yc.FixParameter(4,0)\n",
    "\n",
    "tf_yc.SetParLimits(1, 0, 50)\n",
    "\n",
    "tf_yc.SetParLimits(3, 0.9, 1)\n",
    "tf_yc.SetParLimits(0, 0, 1)\n",
    "tf_yc.SetParLimits(2, 0.1, 1)\n",
    "\n",
    "c = newCanvas()\n",
    "tf_yc.Draw()\n",
    "c.Draw()\n"
   ]
  },
  {
   "cell_type": "code",
   "execution_count": 51,
   "metadata": {},
   "outputs": [
    {
     "data": {
      "text/plain": [
       "'ele-V9'"
      ]
     },
     "execution_count": 51,
     "metadata": {},
     "output_type": "execute_result"
    }
   ],
   "source": [
    "sample"
   ]
  },
  {
   "cell_type": "code",
   "execution_count": 52,
   "metadata": {},
   "outputs": [
    {
     "data": {
      "text/plain": [
       "array([], dtype=object)"
      ]
     },
     "execution_count": 52,
     "metadata": {},
     "output_type": "execute_result"
    }
   ],
   "source": [
    "hplot.data[(hplot.data['sample'] == sample) & (hplot.data.tp == 'TkEle')].tp_sel.unique()\n"
   ]
  },
  {
   "cell_type": "code",
   "execution_count": 53,
   "metadata": {},
   "outputs": [
    {
     "name": "stdout",
     "output_type": "stream",
     "text": [
      "No match found for: pu: PU0, tp: TkEle, tp_sel: EGq3Pt15, gen_sel: GENEtaBC, classtype: python.l1THistos.HistoSetEff\n"
     ]
    },
    {
     "ename": "TypeError",
     "evalue": "'NoneType' object has no attribute '__getitem__'",
     "output_type": "error",
     "traceback": [
      "\u001b[0;31m\u001b[0m",
      "\u001b[0;31mTypeError\u001b[0mTraceback (most recent call last)",
      "\u001b[0;32m<ipython-input-53-de669765e749>\u001b[0m in \u001b[0;36m<module>\u001b[0;34m()\u001b[0m\n\u001b[1;32m      2\u001b[0m \u001b[0;34m\u001b[0m\u001b[0m\n\u001b[1;32m      3\u001b[0m \u001b[0;34m\u001b[0m\u001b[0m\n\u001b[0;32m----> 4\u001b[0;31m \u001b[0;32mprint\u001b[0m \u001b[0mhsets\u001b[0m\u001b[0;34m[\u001b[0m\u001b[0;36m0\u001b[0m\u001b[0;34m]\u001b[0m\u001b[0;34m.\u001b[0m\u001b[0mname\u001b[0m\u001b[0;34m\u001b[0m\u001b[0m\n\u001b[0m",
      "\u001b[0;31mTypeError\u001b[0m: 'NoneType' object has no attribute '__getitem__'"
     ]
    }
   ],
   "source": [
    "hsets, labels, text = hplot.get_histo(histos.HistoSetEff, sample, 'PU0', 'TkEle', 'EGq3Pt15', 'GENEtaBC')\n",
    "\n",
    "\n",
    "print hsets[0].name"
   ]
  },
  {
   "cell_type": "code",
   "execution_count": 54,
   "metadata": {},
   "outputs": [],
   "source": [
    "fake_histoname = uuid.uuid4().hex[:6]\n"
   ]
  },
  {
   "cell_type": "code",
   "execution_count": 55,
   "metadata": {
    "scrolled": true
   },
   "outputs": [
    {
     "name": "stdout",
     "output_type": "stream",
     "text": [
      "------- PU0, EG, hwQual 5, p_{T}^{L1}>=10GeV, 1.52 < |#eta^{GEN}| <= 2.4\n",
      "None\n",
      "       pt th: 10, 95% eff: 16.8894460062, err: 0.0736069560702\n",
      "------- PU0, EG, hwQual 5, p_{T}^{L1}>=15GeV, 1.52 < |#eta^{GEN}| <= 2.4\n",
      "None\n",
      "       pt th: 15, 95% eff: 22.2142279956, err: 0.0518175050593\n",
      "------- PU0, EG, hwQual 5, p_{T}^{L1}>=20GeV, 1.52 < |#eta^{GEN}| <= 2.4\n",
      "None\n",
      "       pt th: 20, 95% eff: 28.1539570334, err: 0.0425052847024\n",
      "------- PU0, EG, hwQual 5, p_{T}^{L1}>=25GeV, 1.52 < |#eta^{GEN}| <= 2.4\n",
      "None\n",
      "       pt th: 25, 95% eff: 33.6895953576, err: 0.0315009439649\n",
      "------- PU0, EG, hwQual 5, p_{T}^{L1}>=30GeV, 1.52 < |#eta^{GEN}| <= 2.4\n",
      "None\n",
      "       pt th: 30, 95% eff: 38.8749723134, err: 0.0470334302393\n",
      "------- PU0, EG, hwQual 5, p_{T}^{L1}>=40GeV, 1.52 < |#eta^{GEN}| <= 2.4\n",
      "None\n",
      "       pt th: 40, 95% eff: 49.9463451478, err: 0.0293391721988\n",
      "6\n",
      "6\n",
      "6\n",
      "[0.07360695607018443, 0.051817505059259854, 0.042505284702440985, 0.03150094396490931, 0.04703343023933951, 0.02933917219878949]\n",
      "------- PU200, EG, hwQual 5, p_{T}^{L1}>=10GeV, 1.52 < |#eta^{GEN}| <= 2.4\n",
      "None\n",
      "       pt th: 10, 95% eff: 19.0858896947, err: 0.126239579767\n",
      "------- PU200, EG, hwQual 5, p_{T}^{L1}>=15GeV, 1.52 < |#eta^{GEN}| <= 2.4\n",
      "None\n",
      "       pt th: 15, 95% eff: 23.5356770932, err: 0.0280331970487\n",
      "------- PU200, EG, hwQual 5, p_{T}^{L1}>=20GeV, 1.52 < |#eta^{GEN}| <= 2.4\n",
      "None\n",
      "       pt th: 20, 95% eff: 28.7340749014, err: 0.0337515500316\n",
      "------- PU200, EG, hwQual 5, p_{T}^{L1}>=25GeV, 1.52 < |#eta^{GEN}| <= 2.4\n",
      "None\n",
      "       pt th: 25, 95% eff: 33.6932761805, err: 0.0252961662275\n",
      "------- PU200, EG, hwQual 5, p_{T}^{L1}>=30GeV, 1.52 < |#eta^{GEN}| <= 2.4\n",
      "None\n",
      "       pt th: 30, 95% eff: 39.1894517902, err: 0.0248118902321\n",
      "------- PU200, EG, hwQual 5, p_{T}^{L1}>=40GeV, 1.52 < |#eta^{GEN}| <= 2.4\n",
      "None\n",
      "       pt th: 40, 95% eff: 49.9733201767, err: 0.0287040928024\n",
      "6\n",
      "6\n",
      "6\n",
      "[0.1262395797667915, 0.028033197048680278, 0.03375155003156235, 0.025296166227459824, 0.024811890232115642, 0.028704092802374293]\n",
      "\n",
      "****************************************\n",
      "Minimizer is Minuit / MigradImproved\n",
      "Chi2                      =      5.26658\n",
      "NDf                       =           45\n",
      "Edm                       =   4.5555e-09\n",
      "NCalls                    =          390\n",
      "#lambda                   =     0.458692   +/-   0.0675046    \t (limited)\n",
      "#mu                       =      10.2481   +/-   0.79885      \t (limited)\n",
      "#sigma                    =      0.59994   +/-   0.65789      \t (limited)\n",
      "Plateau                   =     0.999335   +/-   0.000467258  \t (limited)\n",
      "Baseline                  =            0                      \t (fixed)\n",
      "\n",
      "****************************************\n",
      "Minimizer is Minuit / MigradImproved\n",
      "Chi2                      =      6.33359\n",
      "NDf                       =           45\n",
      "Edm                       =  1.18647e-08\n",
      "NCalls                    =          387\n",
      "#lambda                   =      0.44481   +/-   0.0665574    \t (limited)\n",
      "#mu                       =      15.2307   +/-   0.814404     \t (limited)\n",
      "#sigma                    =     0.975706   +/-   0.830992     \t (limited)\n",
      "Plateau                   =     0.999143   +/-   0.000468668  \t (limited)\n",
      "Baseline                  =            0                      \t (fixed)\n",
      "\n",
      "****************************************\n",
      "Minimizer is Minuit / MigradImproved\n",
      "Chi2                      =      7.81661\n",
      "NDf                       =           45\n",
      "Edm                       =  2.09241e-10\n",
      "NCalls                    =          224\n",
      "#lambda                   =     0.372981   +/-   0.039342     \t (limited)\n",
      "#mu                       =      19.9934   +/-   0.692707     \t (limited)\n",
      "#sigma                    =     0.712415   +/-   0.593021     \t (limited)\n",
      "Plateau                   =     0.999336   +/-   0.00052338   \t (limited)\n",
      "Baseline                  =            0                      \t (fixed)\n",
      "\n",
      "****************************************\n",
      "Minimizer is Minuit / MigradImproved\n",
      "Chi2                      =       7.0878\n",
      "NDf                       =           45\n",
      "Edm                       =  1.20546e-10\n",
      "NCalls                    =          246\n",
      "#lambda                   =     0.339996   +/-   0.0301377    \t (limited)\n",
      "#mu                       =      24.8249   +/-   0.653077     \t (limited)\n",
      "#sigma                    =          0.1   +/-   0.507965     \t (limited)\n",
      "Plateau                   =     0.999081   +/-   0.000511831  \t (limited)\n",
      "Baseline                  =            0                      \t (fixed)\n",
      "\n",
      "****************************************\n",
      "Minimizer is Minuit / MigradImproved\n",
      "Chi2                      =      8.35549\n",
      "NDf                       =           45\n",
      "Edm                       =  1.30074e-11\n",
      "NCalls                    =          303\n",
      "#lambda                   =     0.336635   +/-   0.0346459    \t (limited)\n",
      "#mu                       =      29.8391   +/-   0.644767     \t (limited)\n",
      "#sigma                    =     0.676367   +/-   0.708171     \t (limited)\n",
      "Plateau                   =     0.998951   +/-   0.000549085  \t (limited)\n",
      "Baseline                  =            0                      \t (fixed)\n",
      "\n",
      "****************************************\n",
      "Minimizer is Minuit / MigradImproved\n",
      "Chi2                      =      4.69936\n",
      "NDf                       =           45\n",
      "Edm                       =  6.47936e-10\n",
      "NCalls                    =          373\n",
      "#lambda                   =     0.300584   +/-   0.0259107    \t (limited)\n",
      "#mu                       =      39.8203   +/-   0.632433     \t (limited)\n",
      "#sigma                    =      0.78225   +/-   0.763877     \t (limited)\n",
      "Plateau                   =      0.99894   +/-   0.000596986  \t (limited)\n",
      "Baseline                  =            0                      \t (fixed)\n",
      " NEW MINIMUM FOUND.  GO BACK TO MINIMIZATION STEP.\n",
      " =================================================\n",
      "                                                  V\n",
      "                                                  V\n",
      "                                                  V\n",
      "                                               VVVVVVV\n",
      "                                                VVVVV\n",
      "                                                 VVV\n",
      "                                                  V\n",
      "\n",
      "\n",
      "****************************************\n",
      "Minimizer is Minuit / MigradImproved\n",
      "Chi2                      =      21.4935\n",
      "NDf                       =           45\n",
      "Edm                       =  7.03139e-08\n",
      "NCalls                    =          228\n",
      "#lambda                   =      0.29336   +/-   0.138094     \t (limited)\n",
      "#mu                       =      8.76588   +/-   0.902228     \t (limited)\n",
      "#sigma                    =     0.109559   +/-   0.521492     \t (limited)\n",
      "Plateau                   =     0.998385   +/-   0.000474728  \t (limited)\n",
      "Baseline                  =            0                      \t (fixed)\n",
      "\n",
      "****************************************\n",
      "Minimizer is Minuit / MigradImproved\n",
      "Chi2                      =       15.315\n",
      "NDf                       =           45\n",
      "Edm                       =  5.41677e-12\n",
      "NCalls                    =          272\n",
      "#lambda                   =     0.307751   +/-   0.0252635    \t (limited)\n",
      "#mu                       =      13.5396   +/-   0.551876     \t (limited)\n",
      "#sigma                    =            1   +/-   0.183575     \t (limited)\n",
      "Plateau                   =     0.998283   +/-   0.00042937   \t (limited)\n",
      "Baseline                  =            0                      \t (fixed)\n",
      "\n",
      "****************************************\n",
      "Minimizer is Minuit / MigradImproved\n",
      "Chi2                      =      14.1156\n",
      "NDf                       =           45\n",
      "Edm                       =  6.46032e-11\n",
      "NCalls                    =          247\n",
      "#lambda                   =     0.301482   +/-   0.0202647    \t (limited)\n",
      "#mu                       =      18.5421   +/-   0.442286     \t (limited)\n",
      "#sigma                    =            1   +/-   0.727194     \t (limited)\n",
      "Plateau                   =      0.99837   +/-   0.000442769  \t (limited)\n",
      "Baseline                  =            0                      \t (fixed)\n",
      "\n",
      "****************************************\n",
      "Minimizer is Minuit / MigradImproved\n",
      "Chi2                      =        10.88\n",
      "NDf                       =           45\n",
      "Edm                       =  2.98862e-09\n",
      "NCalls                    =          239\n",
      "#lambda                   =     0.287022   +/-   0.0171516    \t (limited)\n",
      "#mu                       =      22.9945   +/-   0.34133      \t (limited)\n",
      "#sigma                    =            1   +/-   0.143134     \t (limited)\n",
      "Plateau                   =     0.998251   +/-   0.000437157  \t (limited)\n",
      "Baseline                  =            0                      \t (fixed)\n",
      "\n",
      "****************************************\n",
      "Minimizer is Minuit / MigradImproved\n",
      "Chi2                      =      10.5914\n",
      "NDf                       =           45\n",
      "Edm                       =  4.34976e-06\n",
      "NCalls                    =          380\n",
      "#lambda                   =     0.281281   +/-   0.0194171    \t (limited)\n",
      "#mu                       =      28.2775   +/-   0.449536     \t (limited)\n",
      "#sigma                    =     0.999998   +/-   0.814064     \t (limited)\n",
      "Plateau                   =     0.998242   +/-   0.000460004  \t (limited)\n",
      "Baseline                  =            0                      \t (fixed)\n",
      " NEW MINIMUM FOUND.  GO BACK TO MINIMIZATION STEP.\n",
      " =================================================\n",
      "                                                  V\n",
      "                                                  V\n",
      "                                                  V\n",
      "                                               VVVVVVV\n",
      "                                                VVVVV\n",
      "                                                 VVV\n",
      "                                                  V\n",
      "\n",
      "\n",
      "****************************************\n",
      "Minimizer is Minuit / MigradImproved\n",
      "Chi2                      =      20.9247\n",
      "NDf                       =           45\n",
      "Edm                       =  3.35406e-10\n",
      "NCalls                    =          245\n",
      "#lambda                   =     0.265012   +/-   0.0188929    \t (limited)\n",
      "#mu                       =       38.546   +/-   0.706508     \t (limited)\n",
      "#sigma                    =     0.100512   +/-   0.757696     \t (limited)\n",
      "Plateau                   =     0.998331   +/-   0.00048897   \t (limited)\n",
      "Baseline                  =            0                      \t (fixed)\n"
     ]
    },
    {
     "data": {
      "text/html": [
       "\n",
       "<div id=\"root_plot_30\"\n",
       "     style=\"width: 796px; height: 572px\">\n",
       "</div>\n",
       "\n",
       "<script>\n",
       " requirejs.config({\n",
       "     paths: {\n",
       "       'JSRootCore' : 'https://root.cern.ch/js/notebook//scripts/JSRootCore',\n",
       "     }\n",
       "   });\n",
       " require(['JSRootCore'],\n",
       "     function(Core) {\n",
       "       var obj = Core.JSONR_unref({\"_typename\":\"TCanvas\",\"fUniqueID\":0,\"fBits\":53673992,\"fLineColor\":1,\"fLineStyle\":1,\"fLineWidth\":1,\"fFillColor\":0,\"fFillStyle\":1001,\"fLeftMargin\":0.13,\"fRightMargin\":0.3,\"fBottomMargin\":0.13,\"fTopMargin\":0.1,\"fXfile\":2,\"fYfile\":2,\"fAfile\":1,\"fXstat\":0.99,\"fYstat\":0.99,\"fAstat\":2,\"fFrameFillColor\":0,\"fFrameLineColor\":1,\"fFrameFillStyle\":1001,\"fFrameLineStyle\":1,\"fFrameLineWidth\":1,\"fFrameBorderSize\":1,\"fFrameBorderMode\":0,\"fX1\":-25.0421046588559,\"fY1\":-0.185714283502611,\"fX2\":167.58947670572,\"fY2\":1.24285714852456,\"fXtoAbsPixelk\":103.480046204376,\"fXtoPixelk\":103.480046204376,\"fXtoPixel\":4.13224038530569,\"fYtoAbsPixelk\":497.640051065433,\"fYtoPixelk\":497.640051065433,\"fYtoPixel\":-400.399999031424,\"fUtoAbsPixelk\":5e-5,\"fUtoPixelk\":5e-5,\"fUtoPixel\":796,\"fVtoAbsPixelk\":572.00005,\"fVtoPixelk\":572,\"fVtoPixel\":-572,\"fAbsPixeltoXk\":-25.0421046588559,\"fPixeltoXk\":-25.0421046588559,\"fPixeltoX\":0.241999474076101,\"fAbsPixeltoYk\":1.24285714852456,\"fPixeltoYk\":-0.185714283502611,\"fPixeltoY\":-0.00249750250354401,\"fXlowNDC\":0,\"fYlowNDC\":0,\"fXUpNDC\":0,\"fYUpNDC\":0,\"fWNDC\":1,\"fHNDC\":1,\"fAbsXlowNDC\":0,\"fAbsYlowNDC\":0,\"fAbsWNDC\":1,\"fAbsHNDC\":1,\"fUxmin\":0,\"fUymin\":0,\"fUxmax\":109.8,\"fUymax\":1.1,\"fTheta\":30,\"fPhi\":30,\"fAspectRatio\":0,\"fNumber\":0,\"fTickx\":0,\"fTicky\":0,\"fLogx\":0,\"fLogy\":0,\"fLogz\":0,\"fPadPaint\":0,\"fCrosshair\":0,\"fCrosshairPos\":0,\"fBorderSize\":2,\"fBorderMode\":0,\"fModified\":false,\"fGridx\":false,\"fGridy\":false,\"fAbsCoord\":false,\"fEditable\":true,\"fFixedAspectRatio\":false,\"fPrimitives\":{\"_typename\":\"TList\",\"name\":\"TList\",\"arr\":[{\"_typename\":\"TFrame\",\"fUniqueID\":0,\"fBits\":50331656,\"fLineColor\":1,\"fLineStyle\":1,\"fLineWidth\":1,\"fFillColor\":0,\"fFillStyle\":1001,\"fX1\":0,\"fY1\":0,\"fX2\":109.8,\"fY2\":1.1,\"fBorderSize\":1,\"fBorderMode\":0},{\"_typename\":\"TGraphAsymmErrors\",\"fUniqueID\":0,\"fBits\":50332680,\"fName\":\"1ca95f\",\"fTitle\":\"; p_{T}^{GEN} [GeV];\",\"fLineColor\":1,\"fLineStyle\":1,\"fLineWidth\":1,\"fFillColor\":0,\"fFillStyle\":1001,\"fMarkerColor\":1,\"fMarkerStyle\":8,\"fMarkerSize\":0.5,\"fNpoints\":49,\"fX\":[3,5,7,9,11,13,15,17,19,21,23,25,27,29,31,33,35,37,39,41,43,45,47,49,51,53,55,57,59,61,63,65,67,69,71,73,75,77,79,81,83,85,87,89,91,93,95,97,99],\"fY\":[0,0,0,0.00193423597678917,0.226381461675579,0.719665271966527,0.889305816135084,0.949720670391061,0.983271375464684,0.994505494505495,0.992805755395683,1,1,1,0.998211091234347,1,1,1,1,1,1,0.997912317327766,1,1,1,1,1,1,1,1,1,1,1,1,0.998185117967332,1,1,1,1,1,1,1,1,1,0.998178506375228,1,1,1,1],\"fFunctions\":{\"_typename\":\"TList\",\"name\":\"TList\",\"arr\":[{\"_typename\":\"TF1\",\"fUniqueID\":0,\"fBits\":50332680,\"fName\":\"tf_yc\",\"fTitle\":\"tf_yc\",\"fLineColor\":6,\"fLineStyle\":1,\"fLineWidth\":2,\"fFillColor\":19,\"fFillStyle\":0,\"fMarkerColor\":1,\"fMarkerStyle\":1,\"fMarkerSize\":1,\"fXmin\":0,\"fXmax\":100,\"fNpar\":5,\"fNdim\":1,\"fNpx\":100,\"fType\":1,\"fNpfits\":49,\"fNDF\":45,\"fChisquare\":5.26658082286061,\"fMinimum\":-1111,\"fMaximum\":-1111,\"fParErrors\":[0.0675045662470372,0.798849593946339,0.657889581331883,4.67258048313435e-4,0],\"fParMin\":[0,0,0.1,0.9,1],\"fParMax\":[1,50,1,1,1],\"fSave\":[1.59194687552797e-67,1.12630221842363e-55,5.06338029639518e-45,1.45430592724192e-35,2.68933057933668e-27,3.23834771571922e-20,2.58412933353148e-14,1.40680155039283e-9,5.50545804916944e-6,0.0017190032116328,0.0538628960248395,0.279776101249041,0.534788106043754,0.705595580352646,0.813659363763895,0.881967634176551,0.925145968215178,0.952439420660234,0.969691882177257,0.980597333915015,0.987490777930943,0.991848192143893,0.994602556809704,0.996343617985325,0.997444159992301,0.998139823491136,0.998579559276362,0.998857520619931,0.999033222737235,0.999144285785171,0.999214489837383,0.999258866513861,0.999286917450426,0.999304648725155,0.999315856839465,0.99932294159949,0.999327419946446,0.999330250753896,0.999332040135312,0.999333171221022,0.999333886191497,0.999334338131414,0.999334623807109,0.999334804385545,0.999334918530962,0.99933499068341,0.999335036291687,0.999335065121131,0.999335083344507,0.999335094863684,0.99933510214507,0.999335106747706,0.999335109657078,0.99933511149612,0.999335112658597,0.999335113393411,0.999335113857893,0.999335114151497,0.999335114337088,0.999335114454401,0.999335114528556,0.99933511457543,0.999335114605059,0.999335114623789,0.999335114635627,0.999335114643111,0.999335114647841,0.999335114650831,0.999335114652721,0.999335114653916,0.999335114654671,0.999335114655149,0.999335114655451,0.999335114655641,0.999335114655762,0.999335114655838,0.999335114655886,0.999335114655917,0.999335114655936,0.999335114655948,0.999335114655956,0.999335114655961,0.999335114655964,0.999335114655966,0.999335114655967,0.999335114655968,0.999335114655968,0.999335114655968,0.999335114655969,0.999335114655969,0.999335114655969,0.999335114655969,0.999335114655969,0.999335114655969,0.999335114655969,0.999335114655969,0.999335114655969,0.999335114655969,0.999335114655969,0.999335114655969,0.999335114655969,0,100],\"fNormalized\":false,\"fNormIntegral\":0,\"fFormula\":null,\"fParams\":{\"_typename\":\"TF1Parameters\",\"fParameters\":[0.458692006311796,10.2481308857727,0.599939575362871,0.999335114655969,0],\"fParNames\":[\"#lambda\",\"#mu\",\"#sigma\",\"Plateau\",\"Baseline\"]},\"fComposition_ptr\":null},{\"_typename\":\"TPaveStats\",\"fUniqueID\":0,\"fBits\":50462729,\"fLineColor\":1,\"fLineStyle\":1,\"fLineWidth\":1,\"fFillColor\":0,\"fFillStyle\":1001,\"fX1\":94.3894784279808,\"fY1\":0.692857160818019,\"fX2\":163.736848752585,\"fY2\":1.15000000884877,\"fX1NDC\":0.620000013709068,\"fY1NDC\":0.615000009536743,\"fX2NDC\":0.980000019073486,\"fY2NDC\":0.935000002384186,\"fBorderSize\":1,\"fInit\":1,\"fShadowColor\":1,\"fCornerRadius\":0,\"fOption\":\"brNDC\",\"fName\":\"stats\",\"fTextAngle\":0,\"fTextSize\":0,\"fTextAlign\":12,\"fTextColor\":1,\"fTextFont\":42,\"fLabel\":\"\",\"fLongest\":32,\"fMargin\":0.05,\"fLines\":{\"_typename\":\"TList\",\"name\":\"TList\",\"arr\":[{\"_typename\":\"TLatex\",\"fUniqueID\":0,\"fBits\":50331648,\"fName\":\"\",\"fTitle\":\"#chi^{2} \\/ ndf = 5.267 \\/ 45\",\"fTextAngle\":0,\"fTextSize\":0,\"fTextAlign\":0,\"fTextColor\":0,\"fTextFont\":0,\"fX\":0,\"fY\":0,\"fLineColor\":1,\"fLineStyle\":1,\"fLineWidth\":2,\"fLimitFactorSize\":3,\"fOriginSize\":0.04},{\"_typename\":\"TLatex\",\"fUniqueID\":0,\"fBits\":50331648,\"fName\":\"\",\"fTitle\":\"Prob  =     1\",\"fTextAngle\":0,\"fTextSize\":0,\"fTextAlign\":0,\"fTextColor\":0,\"fTextFont\":0,\"fX\":0,\"fY\":0,\"fLineColor\":1,\"fLineStyle\":1,\"fLineWidth\":2,\"fLimitFactorSize\":3,\"fOriginSize\":0.04},{\"_typename\":\"TLatex\",\"fUniqueID\":0,\"fBits\":50331648,\"fName\":\"\",\"fTitle\":\"#lambda  = 0.4587 #pm 0.0675 \",\"fTextAngle\":0,\"fTextSize\":0,\"fTextAlign\":0,\"fTextColor\":0,\"fTextFont\":0,\"fX\":0,\"fY\":0,\"fLineColor\":1,\"fLineStyle\":1,\"fLineWidth\":2,\"fLimitFactorSize\":3,\"fOriginSize\":0.04},{\"_typename\":\"TLatex\",\"fUniqueID\":0,\"fBits\":50331648,\"fName\":\"\",\"fTitle\":\"#mu      = 10.25 #pm 0.7988 \",\"fTextAngle\":0,\"fTextSize\":0,\"fTextAlign\":0,\"fTextColor\":0,\"fTextFont\":0,\"fX\":0,\"fY\":0,\"fLineColor\":1,\"fLineStyle\":1,\"fLineWidth\":2,\"fLimitFactorSize\":3,\"fOriginSize\":0.04},{\"_typename\":\"TLatex\",\"fUniqueID\":0,\"fBits\":50331648,\"fName\":\"\",\"fTitle\":\"#sigma   = 0.5999 #pm 0.6579 \",\"fTextAngle\":0,\"fTextSize\":0,\"fTextAlign\":0,\"fTextColor\":0,\"fTextFont\":0,\"fX\":0,\"fY\":0,\"fLineColor\":1,\"fLineStyle\":1,\"fLineWidth\":2,\"fLimitFactorSize\":3,\"fOriginSize\":0.04},{\"_typename\":\"TLatex\",\"fUniqueID\":0,\"fBits\":50331648,\"fName\":\"\",\"fTitle\":\"Plateau  = 0.9993 #pm 0.0004673 \",\"fTextAngle\":0,\"fTextSize\":0,\"fTextAlign\":0,\"fTextColor\":0,\"fTextFont\":0,\"fX\":0,\"fY\":0,\"fLineColor\":1,\"fLineStyle\":1,\"fLineWidth\":2,\"fLimitFactorSize\":3,\"fOriginSize\":0.04},{\"_typename\":\"TLatex\",\"fUniqueID\":0,\"fBits\":50331648,\"fName\":\"\",\"fTitle\":\"Baseline =     0 #pm     0 \",\"fTextAngle\":0,\"fTextSize\":0,\"fTextAlign\":0,\"fTextColor\":0,\"fTextFont\":0,\"fX\":0,\"fY\":0,\"fLineColor\":1,\"fLineStyle\":1,\"fLineWidth\":2,\"fLimitFactorSize\":3,\"fOriginSize\":0.04}],\"opt\":[\"\",\"\",\"\",\"\",\"\",\"\",\"\"]},\"fOptFit\":11111,\"fOptStat\":0,\"fFitFormat\":\"5.4g\",\"fStatFormat\":\"6.4g\",\"fParent\":{\"$ref\":4}}],\"opt\":[\"\",\"brNDC\"]},\"fHistogram\":{\"_typename\":\"TH1F\",\"fUniqueID\":0,\"fBits\":50332160,\"fName\":\"1ca95f\",\"fTitle\":\"\",\"fLineColor\":602,\"fLineStyle\":1,\"fLineWidth\":1,\"fFillColor\":0,\"fFillStyle\":1001,\"fMarkerColor\":1,\"fMarkerStyle\":1,\"fMarkerSize\":1,\"fNcells\":102,\"fXaxis\":{\"_typename\":\"TAxis\",\"fUniqueID\":0,\"fBits\":50331656,\"fName\":\"xaxis\",\"fTitle\":\" p_{T}^{GEN} [GeV]\",\"fNdivisions\":510,\"fAxisColor\":1,\"fLabelColor\":1,\"fLabelFont\":42,\"fLabelOffset\":0.005,\"fLabelSize\":0.035,\"fTickLength\":0.03,\"fTitleOffset\":1.4,\"fTitleSize\":0.035,\"fTitleColor\":1,\"fTitleFont\":42,\"fNbins\":100,\"fXmin\":0,\"fXmax\":109.8,\"fXbins\":[],\"fFirst\":0,\"fLast\":0,\"fBits2\":0,\"fTimeDisplay\":false,\"fTimeFormat\":\"\",\"fLabels\":null,\"fModLabs\":null},\"fYaxis\":{\"_typename\":\"TAxis\",\"fUniqueID\":0,\"fBits\":50331656,\"fName\":\"yaxis\",\"fTitle\":\"L1 matched to GEN and p_{T}>th.\\/L1 matched to GEN\",\"fNdivisions\":510,\"fAxisColor\":1,\"fLabelColor\":1,\"fLabelFont\":42,\"fLabelOffset\":0.005,\"fLabelSize\":0.035,\"fTickLength\":0.03,\"fTitleOffset\":0,\"fTitleSize\":0.035,\"fTitleColor\":1,\"fTitleFont\":42,\"fNbins\":1,\"fXmin\":0,\"fXmax\":1.1,\"fXbins\":[],\"fFirst\":0,\"fLast\":0,\"fBits2\":0,\"fTimeDisplay\":false,\"fTimeFormat\":\"\",\"fLabels\":null,\"fModLabs\":null},\"fZaxis\":{\"_typename\":\"TAxis\",\"fUniqueID\":0,\"fBits\":50331648,\"fName\":\"zaxis\",\"fTitle\":\"\",\"fNdivisions\":510,\"fAxisColor\":1,\"fLabelColor\":1,\"fLabelFont\":42,\"fLabelOffset\":0.005,\"fLabelSize\":0.035,\"fTickLength\":0.03,\"fTitleOffset\":1,\"fTitleSize\":0.035,\"fTitleColor\":1,\"fTitleFont\":42,\"fNbins\":1,\"fXmin\":0,\"fXmax\":1,\"fXbins\":[],\"fFirst\":0,\"fLast\":0,\"fBits2\":0,\"fTimeDisplay\":false,\"fTimeFormat\":\"\",\"fLabels\":null,\"fModLabs\":null},\"fBarOffset\":0,\"fBarWidth\":1000,\"fEntries\":0,\"fTsumw\":0,\"fTsumw2\":0,\"fTsumwx\":0,\"fTsumwx2\":0,\"fMaximum\":1.1,\"fMinimum\":0,\"fNormFactor\":0,\"fContour\":[],\"fSumw2\":[],\"fOption\":\"\",\"fFunctions\":{\"_typename\":\"TList\",\"name\":\"TList\",\"arr\":[],\"opt\":[]},\"fBufferSize\":0,\"fBuffer\":[],\"fBinStatErrOpt\":0,\"fStatOverflows\":2,\"fArray\":[0,0,0,0,0,0,0,0,0,0,0,0,0,0,0,0,0,0,0,0,0,0,0,0,0,0,0,0,0,0,0,0,0,0,0,0,0,0,0,0,0,0,0,0,0,0,0,0,0,0,0,0,0,0,0,0,0,0,0,0,0,0,0,0,0,0,0,0,0,0,0,0,0,0,0,0,0,0,0,0,0,0,0,0,0,0,0,0,0,0,0,0,0,0,0,0,0,0,0,0,0,0]},\"fMinimum\":-1111,\"fMaximum\":-1111,\"fEXlow\":[1,1,1,1,1,1,1,1,1,1,1,1,1,1,1,1,1,1,1,1,1,1,1,1,1,1,1,1,1,1,1,1,1,1,1,1,1,1,1,1,1,1,1,1,1,1,1,1,1],\"fEXhigh\":[1,1,1,1,1,1,1,1,1,1,1,1,1,1,1,1,1,1,1,1,1,1,1,1,1,1,1,1,1,1,1,1,1,1,1,1,1,1,1,1,1,1,1,1,1,1,1,1,1],\"fEYlow\":[0,0,0,0.00160014522302467,0.0180352058814829,0.0220522781542566,0.0153066420294842,0.0112940533011459,0.00754660914203298,0.00531571769412187,0.0056517814728263,0.00329978901298911,0.00347414329597728,0.00327047951878845,0.0041015155016102,0.00366795047711277,0.0031800913192791,0.00312609275709308,0.00321901386272638,0.00342247564062792,0.00340979796341223,0.00478416763762524,0.00327047951878845,0.0034288498968823,0.00313674526478314,0.00363177180340413,0.00346759968683441,0.00329388516268869,0.00354096381975255,0.00323031020388143,0.00320221671456578,0.00345458614095473,0.00352739487057507,0.00344166990678307,0.00416088718716279,0.00335389164746014,0.00323031020388143,0.00336001276404729,0.00351392951655349,0.00357534734320342,0.00324168610766018,0.00349392314601682,0.00346108068132667,0.00325890099174631,0.00417599965672255,0.00352064931846152,0.00328214061364762,0.00353416632119274,0.00365339285463007],\"fEYhigh\":[0.0204731563007113,0.00664817075517102,0.00427229336386818,0.00443364999703359,0.0190587652057143,0.0210876277011393,0.0137467103176575,0.00945562432552516,0.00545065690208457,0.00298884739045946,0.00343996277030789,0,0,0,0.0014799157642319,0,0,0,0,0,0,0.00172709262942605,0,0,0,0,0,0,0,0,0,0,0,0,0.00150140344772509,0,0,0,0,0,0,0,0,0,0.00150687322100829,0,0,0,0]},{\"_typename\":\"TLatex\",\"fUniqueID\":0,\"fBits\":50348040,\"fName\":\"\",\"fTitle\":\"PU0, EG, hwQual 5, p_{T}^{L1}>=10GeV, 1.52 < |#eta^{GEN}| <= 2.4\",\"fTextAngle\":0,\"fTextSize\":0.03,\"fTextAlign\":11,\"fTextColor\":1,\"fTextFont\":62,\"fX\":0.15,\"fY\":0.85,\"fLineColor\":1,\"fLineStyle\":1,\"fLineWidth\":2,\"fLimitFactorSize\":3,\"fOriginSize\":0.04},{\"_typename\":\"TLatex\",\"fUniqueID\":0,\"fBits\":50331656,\"fName\":\"\",\"fTitle\":\"\",\"fTextAngle\":0,\"fTextSize\":0.03,\"fTextAlign\":11,\"fTextColor\":1,\"fTextFont\":62,\"fX\":0,\"fY\":0,\"fLineColor\":1,\"fLineStyle\":1,\"fLineWidth\":2,\"fLimitFactorSize\":3,\"fOriginSize\":0.04},{\"_typename\":\"TLine\",\"fUniqueID\":0,\"fBits\":50331656,\"fLineColor\":1,\"fLineStyle\":2,\"fLineWidth\":1,\"fX1\":0,\"fY1\":0.95,\"fX2\":109.8,\"fY2\":0.95},{\"_typename\":\"TLine\",\"fUniqueID\":0,\"fBits\":50331656,\"fLineColor\":1,\"fLineStyle\":2,\"fLineWidth\":1,\"fX1\":0,\"fY1\":1,\"fX2\":109.8,\"fY2\":1},{\"_typename\":\"TGraphErrors\",\"fUniqueID\":0,\"fBits\":50332680,\"fName\":\"Graph\",\"fTitle\":\"Fitted line with .95 conf. band\",\"fLineColor\":1,\"fLineStyle\":1,\"fLineWidth\":1,\"fFillColor\":0,\"fFillStyle\":1000,\"fMarkerColor\":1,\"fMarkerStyle\":1,\"fMarkerSize\":1,\"fNpoints\":49,\"fX\":[3,5,7,9,11,13,15,17,19,21,23,25,27,29,31,33,35,37,39,41,43,45,47,49,51,53,55,57,59,61,63,65,67,69,71,73,75,77,79,81,83,85,87,89,91,93,95,97,99],\"fY\":[1.45430592724192e-35,3.23834771571922e-20,1.40680155039283e-9,0.0017190032116328,0.279776101249041,0.705595580352646,0.881967634176551,0.952439420660234,0.980597333915015,0.991848192143893,0.996343617985325,0.998139823491136,0.998857520619931,0.999144285785171,0.999258866513861,0.999304648725155,0.99932294159949,0.999330250753896,0.999333171221022,0.999334338131414,0.999334804385545,0.99933499068341,0.999335065121131,0.999335094863684,0.999335106747706,0.99933511149612,0.999335113393411,0.999335114151497,0.999335114454401,0.99933511457543,0.999335114623789,0.999335114643111,0.999335114650831,0.999335114653916,0.999335114655149,0.999335114655641,0.999335114655838,0.999335114655917,0.999335114655948,0.999335114655961,0.999335114655966,0.999335114655968,0.999335114655968,0.999335114655969,0.999335114655969,0.999335114655969,0.999335114655969,0.999335114655969,0.999335114655969],\"fFunctions\":{\"_typename\":\"TList\",\"name\":\"TList\",\"arr\":[],\"opt\":[]},\"fHistogram\":{\"_typename\":\"TH1F\",\"fUniqueID\":0,\"fBits\":50332168,\"fName\":\"Graph\",\"fTitle\":\"Fitted line with .95 conf. band\",\"fLineColor\":602,\"fLineStyle\":1,\"fLineWidth\":1,\"fFillColor\":0,\"fFillStyle\":1001,\"fMarkerColor\":1,\"fMarkerStyle\":1,\"fMarkerSize\":1,\"fNcells\":102,\"fXaxis\":{\"_typename\":\"TAxis\",\"fUniqueID\":0,\"fBits\":50331648,\"fName\":\"xaxis\",\"fTitle\":\"\",\"fNdivisions\":510,\"fAxisColor\":1,\"fLabelColor\":1,\"fLabelFont\":42,\"fLabelOffset\":0.005,\"fLabelSize\":0.035,\"fTickLength\":0.03,\"fTitleOffset\":1,\"fTitleSize\":0.035,\"fTitleColor\":1,\"fTitleFont\":42,\"fNbins\":100,\"fXmin\":0,\"fXmax\":108.6,\"fXbins\":[],\"fFirst\":0,\"fLast\":0,\"fBits2\":0,\"fTimeDisplay\":false,\"fTimeFormat\":\"\",\"fLabels\":null,\"fModLabs\":null},\"fYaxis\":{\"_typename\":\"TAxis\",\"fUniqueID\":0,\"fBits\":50331648,\"fName\":\"yaxis\",\"fTitle\":\"\",\"fNdivisions\":510,\"fAxisColor\":1,\"fLabelColor\":1,\"fLabelFont\":42,\"fLabelOffset\":0.005,\"fLabelSize\":0.035,\"fTickLength\":0.03,\"fTitleOffset\":0,\"fTitleSize\":0.035,\"fTitleColor\":1,\"fTitleFont\":42,\"fNbins\":1,\"fXmin\":-0.632708581323156,\"fXmax\":1.19226078382124,\"fXbins\":[],\"fFirst\":0,\"fLast\":0,\"fBits2\":0,\"fTimeDisplay\":false,\"fTimeFormat\":\"\",\"fLabels\":null,\"fModLabs\":null},\"fZaxis\":{\"_typename\":\"TAxis\",\"fUniqueID\":0,\"fBits\":50331648,\"fName\":\"zaxis\",\"fTitle\":\"\",\"fNdivisions\":510,\"fAxisColor\":1,\"fLabelColor\":1,\"fLabelFont\":42,\"fLabelOffset\":0.005,\"fLabelSize\":0.035,\"fTickLength\":0.03,\"fTitleOffset\":1,\"fTitleSize\":0.035,\"fTitleColor\":1,\"fTitleFont\":42,\"fNbins\":1,\"fXmin\":0,\"fXmax\":1,\"fXbins\":[],\"fFirst\":0,\"fLast\":0,\"fBits2\":0,\"fTimeDisplay\":false,\"fTimeFormat\":\"\",\"fLabels\":null,\"fModLabs\":null},\"fBarOffset\":0,\"fBarWidth\":1000,\"fEntries\":0,\"fTsumw\":0,\"fTsumw2\":0,\"fTsumwx\":0,\"fTsumwx2\":0,\"fMaximum\":1.19226078382124,\"fMinimum\":-0.632708581323156,\"fNormFactor\":0,\"fContour\":[],\"fSumw2\":[],\"fOption\":\"\",\"fFunctions\":{\"_typename\":\"TList\",\"name\":\"TList\",\"arr\":[],\"opt\":[]},\"fBufferSize\":0,\"fBuffer\":[],\"fBinStatErrOpt\":0,\"fStatOverflows\":2,\"fArray\":[0,0,0,0,0,0,0,0,0,0,0,0,0,0,0,0,0,0,0,0,0,0,0,0,0,0,0,0,0,0,0,0,0,0,0,0,0,0,0,0,0,0,0,0,0,0,0,0,0,0,0,0,0,0,0,0,0,0,0,0,0,0,0,0,0,0,0,0,0,0,0,0,0,0,0,0,0,0,0,0,0,0,0,0,0,0,0,0,0,0,0,0,0,0,0,0,0,0,0,0,0,0]},\"fMinimum\":-1111,\"fMaximum\":-1111,\"fEX\":[0,0,0,0,0,0,0,0,0,0,0,0,0,0,0,0,0,0,0,0,0,0,0,0,0,0,0,0,0,0,0,0,0,0,0,0,0,0,0,0,0,0,0,0,0,0,0,0,0],\"fEY\":[6.03118916814653e-33,6.95048258230616e-18,1.15015986332048e-7,0.0263254954391329,0.760403902143498,0.315119716580167,0.102497962776702,0.0447159493636666,0.0235410787744316,0.0124177208053041,0.00633396139703563,0.00330834993084342,0.00210314327309528,0.00179677067191212,0.00176326093630673,0.00177459354254669,0.0017851864044691,0.00179098019655044,0.00179373966842017,0.0017949835187782,0.00179552974208643,0.00179576625366686,0.00179586778113499,0.00179591110403384,0.00179592950597295,0.00179593729327208,0.00179594057795532,0.00179594195961853,0.0017959425393191,0.00179594278198127,0.00179594288334769,0.0017959429256026,0.00179594294317057,0.00179594295052131,0.00179594295356028,0.00179594295481783,0.00179594295533246,0.00179594295555347,0.00179594295560682,0.00179594295565368,0.00179594295566799,0.0017959429556798,0.00179594295567899,0.00179594295567811,0.00179594295567815,0.00179594295567811,0.00179594295567811,0.00179594295567811,0.00179594295567811]}],\"opt\":[\"\",\"pa\",\"same\",\"same\",\"same\",\"same\",\"\"]},\"fExecs\":null,\"fName\":\"c_2f3a62\",\"fTitle\":\"c_2f3a62\",\"fNumPaletteColor\":0,\"fNextPaletteColor\":0,\"fDISPLAY\":\"$DISPLAY\",\"fDoubleBuffer\":0,\"fRetained\":true,\"fXsizeUser\":0,\"fYsizeUser\":0,\"fXsizeReal\":20,\"fYsizeReal\":15,\"fWindowTopX\":0,\"fWindowTopY\":0,\"fWindowWidth\":0,\"fWindowHeight\":0,\"fCw\":796,\"fCh\":572,\"fCatt\":{\"_typename\":\"TAttCanvas\",\"fXBetween\":2,\"fYBetween\":2,\"fTitleFromTop\":1.2,\"fXdate\":0.2,\"fYdate\":0.3,\"fAdate\":1},\"kMoveOpaque\":true,\"kResizeOpaque\":true,\"fHighLightColor\":2,\"fBatch\":true,\"kShowEventStatus\":false,\"kAutoExec\":true,\"kMenuBar\":true});\n",
       "       Core.draw(\"root_plot_30\", obj, \"\");\n",
       "     }\n",
       " );\n",
       "</script>\n"
      ],
      "text/plain": [
       "<IPython.core.display.HTML object>"
      ]
     },
     "metadata": {},
     "output_type": "display_data"
    },
    {
     "data": {
      "text/html": [
       "\n",
       "<div id=\"root_plot_31\"\n",
       "     style=\"width: 796px; height: 572px\">\n",
       "</div>\n",
       "\n",
       "<script>\n",
       " requirejs.config({\n",
       "     paths: {\n",
       "       'JSRootCore' : 'https://root.cern.ch/js/notebook//scripts/JSRootCore',\n",
       "     }\n",
       "   });\n",
       " require(['JSRootCore'],\n",
       "     function(Core) {\n",
       "       var obj = Core.JSONR_unref({\"_typename\":\"TCanvas\",\"fUniqueID\":0,\"fBits\":53673992,\"fLineColor\":1,\"fLineStyle\":1,\"fLineWidth\":1,\"fFillColor\":0,\"fFillStyle\":1001,\"fLeftMargin\":0.13,\"fRightMargin\":0.3,\"fBottomMargin\":0.13,\"fTopMargin\":0.1,\"fXfile\":2,\"fYfile\":2,\"fAfile\":1,\"fXstat\":0.99,\"fYstat\":0.99,\"fAstat\":2,\"fFrameFillColor\":0,\"fFrameLineColor\":1,\"fFrameFillStyle\":1001,\"fFrameLineStyle\":1,\"fFrameLineWidth\":1,\"fFrameBorderSize\":1,\"fFrameBorderMode\":0,\"fX1\":-25.0421046588559,\"fY1\":-0.185714283502611,\"fX2\":167.58947670572,\"fY2\":1.24285714852456,\"fXtoAbsPixelk\":103.480046204376,\"fXtoPixelk\":103.480046204376,\"fXtoPixel\":4.13224038530569,\"fYtoAbsPixelk\":497.640051065433,\"fYtoPixelk\":497.640051065433,\"fYtoPixel\":-400.399999031424,\"fUtoAbsPixelk\":5e-5,\"fUtoPixelk\":5e-5,\"fUtoPixel\":796,\"fVtoAbsPixelk\":572.00005,\"fVtoPixelk\":572,\"fVtoPixel\":-572,\"fAbsPixeltoXk\":-25.0421046588559,\"fPixeltoXk\":-25.0421046588559,\"fPixeltoX\":0.241999474076101,\"fAbsPixeltoYk\":1.24285714852456,\"fPixeltoYk\":-0.185714283502611,\"fPixeltoY\":-0.00249750250354401,\"fXlowNDC\":0,\"fYlowNDC\":0,\"fXUpNDC\":0,\"fYUpNDC\":0,\"fWNDC\":1,\"fHNDC\":1,\"fAbsXlowNDC\":0,\"fAbsYlowNDC\":0,\"fAbsWNDC\":1,\"fAbsHNDC\":1,\"fUxmin\":0,\"fUymin\":0,\"fUxmax\":109.8,\"fUymax\":1.1,\"fTheta\":30,\"fPhi\":30,\"fAspectRatio\":0,\"fNumber\":0,\"fTickx\":0,\"fTicky\":0,\"fLogx\":0,\"fLogy\":0,\"fLogz\":0,\"fPadPaint\":0,\"fCrosshair\":0,\"fCrosshairPos\":0,\"fBorderSize\":2,\"fBorderMode\":0,\"fModified\":false,\"fGridx\":false,\"fGridy\":false,\"fAbsCoord\":false,\"fEditable\":true,\"fFixedAspectRatio\":false,\"fPrimitives\":{\"_typename\":\"TList\",\"name\":\"TList\",\"arr\":[{\"_typename\":\"TFrame\",\"fUniqueID\":0,\"fBits\":50331656,\"fLineColor\":1,\"fLineStyle\":1,\"fLineWidth\":1,\"fFillColor\":0,\"fFillStyle\":1001,\"fX1\":0,\"fY1\":0,\"fX2\":109.8,\"fY2\":1.1,\"fBorderSize\":1,\"fBorderMode\":0},{\"_typename\":\"TGraphAsymmErrors\",\"fUniqueID\":0,\"fBits\":50332680,\"fName\":\"265a7e\",\"fTitle\":\"; p_{T}^{GEN} [GeV];\",\"fLineColor\":1,\"fLineStyle\":1,\"fLineWidth\":1,\"fFillColor\":0,\"fFillStyle\":1001,\"fMarkerColor\":1,\"fMarkerStyle\":8,\"fMarkerSize\":0.5,\"fNpoints\":49,\"fX\":[3,5,7,9,11,13,15,17,19,21,23,25,27,29,31,33,35,37,39,41,43,45,47,49,51,53,55,57,59,61,63,65,67,69,71,73,75,77,79,81,83,85,87,89,91,93,95,97,99],\"fY\":[0,0,0,0,0,0.00209205020920502,0.0431519699812383,0.480446927374302,0.810408921933085,0.915750915750916,0.965827338129496,0.983842010771993,0.998109640831758,0.99644128113879,0.994633273703041,0.998003992015968,1,0.998299319727891,1,1,1,0.997912317327766,1,1,1,1,1,1,1,1,1,1,1,1,0.998185117967332,1,1,1,1,1,1,1,1,1,0.998178506375228,1,1,1,1],\"fFunctions\":{\"_typename\":\"TList\",\"name\":\"TList\",\"arr\":[{\"_typename\":\"TF1\",\"fUniqueID\":0,\"fBits\":50332680,\"fName\":\"tf_yc\",\"fTitle\":\"tf_yc\",\"fLineColor\":6,\"fLineStyle\":1,\"fLineWidth\":2,\"fFillColor\":19,\"fFillStyle\":0,\"fMarkerColor\":1,\"fMarkerStyle\":1,\"fMarkerSize\":1,\"fXmin\":0,\"fXmax\":100,\"fNpar\":5,\"fNdim\":1,\"fNpx\":100,\"fType\":1,\"fNpfits\":49,\"fNDF\":45,\"fChisquare\":6.33359310507231,\"fMinimum\":-1111,\"fMaximum\":-1111,\"fParErrors\":[0.0665573528499565,0.814404417135489,0.830991902298698,4.68668379202564e-4,0],\"fParMin\":[0,0,0.1,0.9,1],\"fParMax\":[1,50,1,1,1],\"fSave\":[8.35134750184865e-57,5.00283268829275e-50,1.05802889149579e-43,7.91033541228414e-38,2.09431290115425e-32,1.96769330814576e-27,6.5783351080843e-23,7.85315667395919e-19,3.36336831062889e-15,5.2009539101824e-12,2.93008568142297e-9,6.09353390830079e-7,4.77199749168747e-5,0.00145229077657104,0.0180881004246271,0.100514307139696,0.286280690913078,0.506470409905066,0.679167021137599,0.793851085289158,0.867558220144367,0.914804419133269,0.945086701023515,0.964496002513159,0.976936312795116,0.984909877428184,0.99002050019536,0.993296132396303,0.995395635099725,0.996741302540778,0.997603802436092,0.998156618121989,0.998510943014357,0.998738046066159,0.998883606813509,0.998976903363252,0.999036701395018,0.999075028692361,0.99909959441264,0.999115339707891,0.999125431588761,0.999131899937424,0.999136045798337,0.999138703070479,0.999140406237899,0.999141497875904,0.9991421975567,0.999142646014167,0.999142933451098,0.999143117682592,0.999143235764994,0.999143311449414,0.999143359959025,0.999143391051056,0.999143410979363,0.999143423752328,0.999143431939106,0.999143437186387,0.99914344054961,0.999143442705253,0.999143444086904,0.999143444972467,0.999143445540065,0.999143445903865,0.99914344613704,0.999143446286493,0.999143446382285,0.999143446443682,0.999143446483034,0.999143446508256,0.999143446524423,0.999143446534785,0.999143446541426,0.999143446545683,0.999143446548411,0.99914344655016,0.99914344655128,0.999143446551999,0.999143446552459,0.999143446552754,0.999143446552944,0.999143446553065,0.999143446553142,0.999143446553192,0.999143446553224,0.999143446553245,0.999143446553258,0.999143446553266,0.999143446553272,0.999143446553275,0.999143446553277,0.999143446553279,0.99914344655328,0.99914344655328,0.999143446553281,0.999143446553281,0.999143446553281,0.999143446553281,0.999143446553281,0.999143446553281,0.999143446553281,0,100],\"fNormalized\":false,\"fNormIntegral\":0,\"fFormula\":null,\"fParams\":{\"_typename\":\"TF1Parameters\",\"fParameters\":[0.444810380121984,15.2307250021332,0.975705794828943,0.999143446553281,0],\"fParNames\":[\"#lambda\",\"#mu\",\"#sigma\",\"Plateau\",\"Baseline\"]},\"fComposition_ptr\":null},{\"_typename\":\"TPaveStats\",\"fUniqueID\":0,\"fBits\":50462729,\"fLineColor\":1,\"fLineStyle\":1,\"fLineWidth\":1,\"fFillColor\":0,\"fFillStyle\":1001,\"fX1\":94.3894784279808,\"fY1\":0.692857160818019,\"fX2\":163.736848752585,\"fY2\":1.15000000884877,\"fX1NDC\":0.620000013709068,\"fY1NDC\":0.615000009536743,\"fX2NDC\":0.980000019073486,\"fY2NDC\":0.935000002384186,\"fBorderSize\":1,\"fInit\":1,\"fShadowColor\":1,\"fCornerRadius\":0,\"fOption\":\"brNDC\",\"fName\":\"stats\",\"fTextAngle\":0,\"fTextSize\":0,\"fTextAlign\":12,\"fTextColor\":1,\"fTextFont\":42,\"fLabel\":\"\",\"fLongest\":32,\"fMargin\":0.05,\"fLines\":{\"_typename\":\"TList\",\"name\":\"TList\",\"arr\":[{\"_typename\":\"TLatex\",\"fUniqueID\":0,\"fBits\":50331648,\"fName\":\"\",\"fTitle\":\"#chi^{2} \\/ ndf = 6.334 \\/ 45\",\"fTextAngle\":0,\"fTextSize\":0,\"fTextAlign\":0,\"fTextColor\":0,\"fTextFont\":0,\"fX\":0,\"fY\":0,\"fLineColor\":1,\"fLineStyle\":1,\"fLineWidth\":2,\"fLimitFactorSize\":3,\"fOriginSize\":0.04},{\"_typename\":\"TLatex\",\"fUniqueID\":0,\"fBits\":50331648,\"fName\":\"\",\"fTitle\":\"Prob  =     1\",\"fTextAngle\":0,\"fTextSize\":0,\"fTextAlign\":0,\"fTextColor\":0,\"fTextFont\":0,\"fX\":0,\"fY\":0,\"fLineColor\":1,\"fLineStyle\":1,\"fLineWidth\":2,\"fLimitFactorSize\":3,\"fOriginSize\":0.04},{\"_typename\":\"TLatex\",\"fUniqueID\":0,\"fBits\":50331648,\"fName\":\"\",\"fTitle\":\"#lambda  = 0.4448 #pm 0.06656 \",\"fTextAngle\":0,\"fTextSize\":0,\"fTextAlign\":0,\"fTextColor\":0,\"fTextFont\":0,\"fX\":0,\"fY\":0,\"fLineColor\":1,\"fLineStyle\":1,\"fLineWidth\":2,\"fLimitFactorSize\":3,\"fOriginSize\":0.04},{\"_typename\":\"TLatex\",\"fUniqueID\":0,\"fBits\":50331648,\"fName\":\"\",\"fTitle\":\"#mu      = 15.23 #pm 0.8144 \",\"fTextAngle\":0,\"fTextSize\":0,\"fTextAlign\":0,\"fTextColor\":0,\"fTextFont\":0,\"fX\":0,\"fY\":0,\"fLineColor\":1,\"fLineStyle\":1,\"fLineWidth\":2,\"fLimitFactorSize\":3,\"fOriginSize\":0.04},{\"_typename\":\"TLatex\",\"fUniqueID\":0,\"fBits\":50331648,\"fName\":\"\",\"fTitle\":\"#sigma   = 0.9757 #pm 0.831 \",\"fTextAngle\":0,\"fTextSize\":0,\"fTextAlign\":0,\"fTextColor\":0,\"fTextFont\":0,\"fX\":0,\"fY\":0,\"fLineColor\":1,\"fLineStyle\":1,\"fLineWidth\":2,\"fLimitFactorSize\":3,\"fOriginSize\":0.04},{\"_typename\":\"TLatex\",\"fUniqueID\":0,\"fBits\":50331648,\"fName\":\"\",\"fTitle\":\"Plateau  = 0.9991 #pm 0.0004687 \",\"fTextAngle\":0,\"fTextSize\":0,\"fTextAlign\":0,\"fTextColor\":0,\"fTextFont\":0,\"fX\":0,\"fY\":0,\"fLineColor\":1,\"fLineStyle\":1,\"fLineWidth\":2,\"fLimitFactorSize\":3,\"fOriginSize\":0.04},{\"_typename\":\"TLatex\",\"fUniqueID\":0,\"fBits\":50331648,\"fName\":\"\",\"fTitle\":\"Baseline =     0 #pm     0 \",\"fTextAngle\":0,\"fTextSize\":0,\"fTextAlign\":0,\"fTextColor\":0,\"fTextFont\":0,\"fX\":0,\"fY\":0,\"fLineColor\":1,\"fLineStyle\":1,\"fLineWidth\":2,\"fLimitFactorSize\":3,\"fOriginSize\":0.04}],\"opt\":[\"\",\"\",\"\",\"\",\"\",\"\",\"\"]},\"fOptFit\":11111,\"fOptStat\":0,\"fFitFormat\":\"5.4g\",\"fStatFormat\":\"6.4g\",\"fParent\":{\"$ref\":4}}],\"opt\":[\"\",\"brNDC\"]},\"fHistogram\":{\"_typename\":\"TH1F\",\"fUniqueID\":0,\"fBits\":50331648,\"fName\":\"265a7e\",\"fTitle\":\"\",\"fLineColor\":602,\"fLineStyle\":1,\"fLineWidth\":1,\"fFillColor\":0,\"fFillStyle\":1001,\"fMarkerColor\":1,\"fMarkerStyle\":1,\"fMarkerSize\":1,\"fNcells\":102,\"fXaxis\":{\"_typename\":\"TAxis\",\"fUniqueID\":0,\"fBits\":50331656,\"fName\":\"xaxis\",\"fTitle\":\" p_{T}^{GEN} [GeV]\",\"fNdivisions\":510,\"fAxisColor\":1,\"fLabelColor\":1,\"fLabelFont\":42,\"fLabelOffset\":0.005,\"fLabelSize\":0.035,\"fTickLength\":0.03,\"fTitleOffset\":1.4,\"fTitleSize\":0.035,\"fTitleColor\":1,\"fTitleFont\":42,\"fNbins\":100,\"fXmin\":0,\"fXmax\":109.8,\"fXbins\":[],\"fFirst\":0,\"fLast\":0,\"fBits2\":0,\"fTimeDisplay\":false,\"fTimeFormat\":\"\",\"fLabels\":null,\"fModLabs\":null},\"fYaxis\":{\"_typename\":\"TAxis\",\"fUniqueID\":0,\"fBits\":50331656,\"fName\":\"yaxis\",\"fTitle\":\"L1 matched to GEN and p_{T}>th.\\/L1 matched to GEN\",\"fNdivisions\":510,\"fAxisColor\":1,\"fLabelColor\":1,\"fLabelFont\":42,\"fLabelOffset\":0.005,\"fLabelSize\":0.035,\"fTickLength\":0.03,\"fTitleOffset\":0,\"fTitleSize\":0.035,\"fTitleColor\":1,\"fTitleFont\":42,\"fNbins\":1,\"fXmin\":0,\"fXmax\":1.1,\"fXbins\":[],\"fFirst\":0,\"fLast\":0,\"fBits2\":0,\"fTimeDisplay\":false,\"fTimeFormat\":\"\",\"fLabels\":null,\"fModLabs\":null},\"fZaxis\":{\"_typename\":\"TAxis\",\"fUniqueID\":0,\"fBits\":50331648,\"fName\":\"zaxis\",\"fTitle\":\"\",\"fNdivisions\":510,\"fAxisColor\":1,\"fLabelColor\":1,\"fLabelFont\":42,\"fLabelOffset\":0.005,\"fLabelSize\":0.035,\"fTickLength\":0.03,\"fTitleOffset\":1,\"fTitleSize\":0.035,\"fTitleColor\":1,\"fTitleFont\":42,\"fNbins\":1,\"fXmin\":0,\"fXmax\":1,\"fXbins\":[],\"fFirst\":0,\"fLast\":0,\"fBits2\":0,\"fTimeDisplay\":false,\"fTimeFormat\":\"\",\"fLabels\":null,\"fModLabs\":null},\"fBarOffset\":0,\"fBarWidth\":1000,\"fEntries\":0,\"fTsumw\":0,\"fTsumw2\":0,\"fTsumwx\":0,\"fTsumwx2\":0,\"fMaximum\":1.1,\"fMinimum\":0,\"fNormFactor\":0,\"fContour\":[],\"fSumw2\":[],\"fOption\":\"\",\"fFunctions\":{\"_typename\":\"TList\",\"name\":\"TList\",\"arr\":[],\"opt\":[]},\"fBufferSize\":0,\"fBuffer\":[],\"fBinStatErrOpt\":0,\"fStatOverflows\":2,\"fArray\":[0,0,0,0,0,0,0,0,0,0,0,0,0,0,0,0,0,0,0,0,0,0,0,0,0,0,0,0,0,0,0,0,0,0,0,0,0,0,0,0,0,0,0,0,0,0,0,0,0,0,0,0,0,0,0,0,0,0,0,0,0,0,0,0,0,0,0,0,0,0,0,0,0,0,0,0,0,0,0,0,0,0,0,0,0,0,0,0,0,0,0,0,0,0,0,0,0,0,0,0,0,0]},\"fMinimum\":-1111,\"fMaximum\":-1111,\"fEXlow\":[1,1,1,1,1,1,1,1,1,1,1,1,1,1,1,1,1,1,1,1,1,1,1,1,1,1,1,1,1,1,1,1,1,1,1,1,1,1,1,1,1,1,1,1,1,1,1,1,1],\"fEXhigh\":[1,1,1,1,1,1,1,1,1,1,1,1,1,1,1,1,1,1,1,1,1,1,1,1,1,1,1,1,1,1,1,1,1,1,1,1,1,1,1,1,1,1,1,1,1,1,1,1,1],\"fEYlow\":[0,0,0,0,0,0.00173070593023294,0.00880941227858616,0.0224314416768766,0.0184257977180605,0.0136255790605013,0.00955979416603037,0.00729225727720828,0.00433338965671748,0.00467435060619115,0.00519275337641956,0.004574776940523,0.0031800913192791,0.00389979793979889,0.00321901386272638,0.00342247564062792,0.00340979796341223,0.00478416763762524,0.00327047951878845,0.0034288498968823,0.00313674526478314,0.00363177180340413,0.00346759968683441,0.00329388516268869,0.00354096381975255,0.00323031020388143,0.00320221671456578,0.00345458614095473,0.00352739487057507,0.00344166990678307,0.00416088718716279,0.00335389164746014,0.00323031020388143,0.00336001276404729,0.00351392951655349,0.00357534734320342,0.00324168610766018,0.00349392314601682,0.00346108068132667,0.00325890099174631,0.00417599965672255,0.00352064931846152,0.00328214061364762,0.00353416632119274,0.00365339285463007],\"fEYhigh\":[0.0204731563007113,0.00664817075517102,0.00427229336386818,0.00355463756421048,0.00327629969013888,0.00479414177851598,0.0107044178873139,0.0225073218624393,0.0172097705342636,0.0119870784215638,0.00769040661743736,0.00526540604757475,0.00156384579531399,0.00229827473165234,0.0029193724177935,0.00165124950469664,0,0.00140692448287461,0,0,0,0.00172709262942605,0,0,0,0,0,0,0,0,0,0,0,0,0.00150140344772509,0,0,0,0,0,0,0,0,0,0.00150687322100829,0,0,0,0]},{\"_typename\":\"TLatex\",\"fUniqueID\":0,\"fBits\":50348040,\"fName\":\"\",\"fTitle\":\"PU0, EG, hwQual 5, p_{T}^{L1}>=15GeV, 1.52 < |#eta^{GEN}| <= 2.4\",\"fTextAngle\":0,\"fTextSize\":0.03,\"fTextAlign\":11,\"fTextColor\":1,\"fTextFont\":62,\"fX\":0.15,\"fY\":0.85,\"fLineColor\":1,\"fLineStyle\":1,\"fLineWidth\":2,\"fLimitFactorSize\":3,\"fOriginSize\":0.04},{\"_typename\":\"TLatex\",\"fUniqueID\":0,\"fBits\":50331656,\"fName\":\"\",\"fTitle\":\"\",\"fTextAngle\":0,\"fTextSize\":0.03,\"fTextAlign\":11,\"fTextColor\":1,\"fTextFont\":62,\"fX\":0,\"fY\":0,\"fLineColor\":1,\"fLineStyle\":1,\"fLineWidth\":2,\"fLimitFactorSize\":3,\"fOriginSize\":0.04},{\"_typename\":\"TLine\",\"fUniqueID\":0,\"fBits\":50331656,\"fLineColor\":1,\"fLineStyle\":2,\"fLineWidth\":1,\"fX1\":0,\"fY1\":0.95,\"fX2\":109.8,\"fY2\":0.95},{\"_typename\":\"TLine\",\"fUniqueID\":0,\"fBits\":50331656,\"fLineColor\":1,\"fLineStyle\":2,\"fLineWidth\":1,\"fX1\":0,\"fY1\":1,\"fX2\":109.8,\"fY2\":1},{\"_typename\":\"TGraphErrors\",\"fUniqueID\":0,\"fBits\":50332680,\"fName\":\"Graph\",\"fTitle\":\"Fitted line with .95 conf. band\",\"fLineColor\":1,\"fLineStyle\":1,\"fLineWidth\":1,\"fFillColor\":0,\"fFillStyle\":1000,\"fMarkerColor\":1,\"fMarkerStyle\":1,\"fMarkerSize\":1,\"fNpoints\":49,\"fX\":[3,5,7,9,11,13,15,17,19,21,23,25,27,29,31,33,35,37,39,41,43,45,47,49,51,53,55,57,59,61,63,65,67,69,71,73,75,77,79,81,83,85,87,89,91,93,95,97,99],\"fY\":[7.91033541228414e-38,1.96769330814576e-27,7.85315667395919e-19,5.2009539101824e-12,6.09353390830079e-7,0.00145229077657104,0.100514307139696,0.506470409905066,0.793851085289158,0.914804419133269,0.964496002513159,0.984909877428184,0.993296132396303,0.996741302540778,0.998156618121989,0.998738046066159,0.998976903363252,0.999075028692361,0.999115339707891,0.999131899937424,0.999138703070479,0.999141497875904,0.999142646014167,0.999143117682592,0.999143311449414,0.999143391051056,0.999143423752328,0.999143437186387,0.999143442705253,0.999143444972467,0.999143445903865,0.999143446286493,0.999143446443682,0.999143446508256,0.999143446534785,0.999143446545683,0.99914344655016,0.999143446551999,0.999143446552754,0.999143446553065,0.999143446553192,0.999143446553245,0.999143446553266,0.999143446553275,0.999143446553279,0.99914344655328,0.999143446553281,0.999143446553281,0.999143446553281],\"fFunctions\":{\"_typename\":\"TList\",\"name\":\"TList\",\"arr\":[],\"opt\":[]},\"fHistogram\":{\"_typename\":\"TH1F\",\"fUniqueID\":0,\"fBits\":50332168,\"fName\":\"Graph\",\"fTitle\":\"Fitted line with .95 conf. band\",\"fLineColor\":602,\"fLineStyle\":1,\"fLineWidth\":1,\"fFillColor\":0,\"fFillStyle\":1001,\"fMarkerColor\":1,\"fMarkerStyle\":1,\"fMarkerSize\":1,\"fNcells\":102,\"fXaxis\":{\"_typename\":\"TAxis\",\"fUniqueID\":0,\"fBits\":50331648,\"fName\":\"xaxis\",\"fTitle\":\"\",\"fNdivisions\":510,\"fAxisColor\":1,\"fLabelColor\":1,\"fLabelFont\":42,\"fLabelOffset\":0.005,\"fLabelSize\":0.035,\"fTickLength\":0.03,\"fTitleOffset\":1,\"fTitleSize\":0.035,\"fTitleColor\":1,\"fTitleFont\":42,\"fNbins\":100,\"fXmin\":0,\"fXmax\":108.6,\"fXbins\":[],\"fFirst\":0,\"fLast\":0,\"fBits2\":0,\"fTimeDisplay\":false,\"fTimeFormat\":\"\",\"fLabels\":null,\"fModLabs\":null},\"fYaxis\":{\"_typename\":\"TAxis\",\"fUniqueID\":0,\"fBits\":50331648,\"fName\":\"yaxis\",\"fTitle\":\"\",\"fNdivisions\":510,\"fAxisColor\":1,\"fLabelColor\":1,\"fLabelFont\":42,\"fLabelOffset\":0.005,\"fLabelSize\":0.035,\"fTickLength\":0.03,\"fTitleOffset\":0,\"fTitleSize\":0.035,\"fTitleColor\":1,\"fTitleFont\":42,\"fNbins\":1,\"fXmin\":-0.569073829280627,\"fXmax\":1.14999752971125,\"fXbins\":[],\"fFirst\":0,\"fLast\":0,\"fBits2\":0,\"fTimeDisplay\":false,\"fTimeFormat\":\"\",\"fLabels\":null,\"fModLabs\":null},\"fZaxis\":{\"_typename\":\"TAxis\",\"fUniqueID\":0,\"fBits\":50331648,\"fName\":\"zaxis\",\"fTitle\":\"\",\"fNdivisions\":510,\"fAxisColor\":1,\"fLabelColor\":1,\"fLabelFont\":42,\"fLabelOffset\":0.005,\"fLabelSize\":0.035,\"fTickLength\":0.03,\"fTitleOffset\":1,\"fTitleSize\":0.035,\"fTitleColor\":1,\"fTitleFont\":42,\"fNbins\":1,\"fXmin\":0,\"fXmax\":1,\"fXbins\":[],\"fFirst\":0,\"fLast\":0,\"fBits2\":0,\"fTimeDisplay\":false,\"fTimeFormat\":\"\",\"fLabels\":null,\"fModLabs\":null},\"fBarOffset\":0,\"fBarWidth\":1000,\"fEntries\":0,\"fTsumw\":0,\"fTsumw2\":0,\"fTsumwx\":0,\"fTsumwx2\":0,\"fMaximum\":1.14999752971125,\"fMinimum\":-0.569073829280627,\"fNormFactor\":0,\"fContour\":[],\"fSumw2\":[],\"fOption\":\"\",\"fFunctions\":{\"_typename\":\"TList\",\"name\":\"TList\",\"arr\":[],\"opt\":[]},\"fBufferSize\":0,\"fBuffer\":[],\"fBinStatErrOpt\":0,\"fStatOverflows\":2,\"fArray\":[0,0,0,0,0,0,0,0,0,0,0,0,0,0,0,0,0,0,0,0,0,0,0,0,0,0,0,0,0,0,0,0,0,0,0,0,0,0,0,0,0,0,0,0,0,0,0,0,0,0,0,0,0,0,0,0,0,0,0,0,0,0,0,0,0,0,0,0,0,0,0,0,0,0,0,0,0,0,0,0,0,0,0,0,0,0,0,0,0,0,0,0,0,0,0,0,0,0,0,0,0,0]},\"fMinimum\":-1111,\"fMaximum\":-1111,\"fEX\":[0,0,0,0,0,0,0,0,0,0,0,0,0,0,0,0,0,0,0,0,0,0,0,0,0,0,0,0,0,0,0,0,0,0,0,0,0,0,0,0,0,0,0,0,0,0,0,0,0],\"fEY\":[2.23627730560201e-35,4.0054772489517e-25,1.08107714455389e-16,4.42045079173876e-10,2.77428520272238e-5,0.0278090191736766,0.526332189837667,0.441574573520166,0.1408446874333,0.0651572337946195,0.0384777763239002,0.021831705700408,0.0115516605586385,0.00583835151962139,0.00303371995767178,0.00196997343799454,0.00174265016189447,0.00174282267725293,0.00176813139604754,0.00178495148235832,0.00179363940226038,0.00179775889774665,0.00179963999887212,0.00180048265484036,0.00180085597922939,0.00180102018816681,0.00180109203987511,0.00180112335015445,0.0018011369467638,0.00180114283366365,0.00180114537566513,0.00180114647054693,0.00180114694143248,0.00180114714330442,0.00180114722976697,0.00180114726670505,0.00180114728246939,0.00180114728923828,0.001801147292105,0.00180114729326851,0.00180114729387409,0.00180114729406203,0.00180114729416631,0.00180114729420187,0.00180114729421663,0.00180114729422277,0.00180114729423133,0.00180114729423255,0.00180114729423136]}],\"opt\":[\"\",\"pa\",\"same\",\"same\",\"same\",\"same\",\"\"]},\"fExecs\":null,\"fName\":\"c_fafeaa\",\"fTitle\":\"c_fafeaa\",\"fNumPaletteColor\":0,\"fNextPaletteColor\":0,\"fDISPLAY\":\"$DISPLAY\",\"fDoubleBuffer\":0,\"fRetained\":true,\"fXsizeUser\":0,\"fYsizeUser\":0,\"fXsizeReal\":20,\"fYsizeReal\":15,\"fWindowTopX\":0,\"fWindowTopY\":0,\"fWindowWidth\":0,\"fWindowHeight\":0,\"fCw\":796,\"fCh\":572,\"fCatt\":{\"_typename\":\"TAttCanvas\",\"fXBetween\":2,\"fYBetween\":2,\"fTitleFromTop\":1.2,\"fXdate\":0.2,\"fYdate\":0.3,\"fAdate\":1},\"kMoveOpaque\":true,\"kResizeOpaque\":true,\"fHighLightColor\":2,\"fBatch\":true,\"kShowEventStatus\":false,\"kAutoExec\":true,\"kMenuBar\":true});\n",
       "       Core.draw(\"root_plot_31\", obj, \"\");\n",
       "     }\n",
       " );\n",
       "</script>\n"
      ],
      "text/plain": [
       "<IPython.core.display.HTML object>"
      ]
     },
     "metadata": {},
     "output_type": "display_data"
    },
    {
     "data": {
      "text/html": [
       "\n",
       "<div id=\"root_plot_32\"\n",
       "     style=\"width: 796px; height: 572px\">\n",
       "</div>\n",
       "\n",
       "<script>\n",
       " requirejs.config({\n",
       "     paths: {\n",
       "       'JSRootCore' : 'https://root.cern.ch/js/notebook//scripts/JSRootCore',\n",
       "     }\n",
       "   });\n",
       " require(['JSRootCore'],\n",
       "     function(Core) {\n",
       "       var obj = Core.JSONR_unref({\"_typename\":\"TCanvas\",\"fUniqueID\":0,\"fBits\":53673992,\"fLineColor\":1,\"fLineStyle\":1,\"fLineWidth\":1,\"fFillColor\":0,\"fFillStyle\":1001,\"fLeftMargin\":0.13,\"fRightMargin\":0.3,\"fBottomMargin\":0.13,\"fTopMargin\":0.1,\"fXfile\":2,\"fYfile\":2,\"fAfile\":1,\"fXstat\":0.99,\"fYstat\":0.99,\"fAstat\":2,\"fFrameFillColor\":0,\"fFrameLineColor\":1,\"fFrameFillStyle\":1001,\"fFrameLineStyle\":1,\"fFrameLineWidth\":1,\"fFrameBorderSize\":1,\"fFrameBorderMode\":0,\"fX1\":-25.0421046588559,\"fY1\":-0.185714283502611,\"fX2\":167.58947670572,\"fY2\":1.24285714852456,\"fXtoAbsPixelk\":103.480046204376,\"fXtoPixelk\":103.480046204376,\"fXtoPixel\":4.13224038530569,\"fYtoAbsPixelk\":497.640051065433,\"fYtoPixelk\":497.640051065433,\"fYtoPixel\":-400.399999031424,\"fUtoAbsPixelk\":5e-5,\"fUtoPixelk\":5e-5,\"fUtoPixel\":796,\"fVtoAbsPixelk\":572.00005,\"fVtoPixelk\":572,\"fVtoPixel\":-572,\"fAbsPixeltoXk\":-25.0421046588559,\"fPixeltoXk\":-25.0421046588559,\"fPixeltoX\":0.241999474076101,\"fAbsPixeltoYk\":1.24285714852456,\"fPixeltoYk\":-0.185714283502611,\"fPixeltoY\":-0.00249750250354401,\"fXlowNDC\":0,\"fYlowNDC\":0,\"fXUpNDC\":0,\"fYUpNDC\":0,\"fWNDC\":1,\"fHNDC\":1,\"fAbsXlowNDC\":0,\"fAbsYlowNDC\":0,\"fAbsWNDC\":1,\"fAbsHNDC\":1,\"fUxmin\":0,\"fUymin\":0,\"fUxmax\":109.8,\"fUymax\":1.1,\"fTheta\":30,\"fPhi\":30,\"fAspectRatio\":0,\"fNumber\":0,\"fTickx\":0,\"fTicky\":0,\"fLogx\":0,\"fLogy\":0,\"fLogz\":0,\"fPadPaint\":0,\"fCrosshair\":0,\"fCrosshairPos\":0,\"fBorderSize\":2,\"fBorderMode\":0,\"fModified\":false,\"fGridx\":false,\"fGridy\":false,\"fAbsCoord\":false,\"fEditable\":true,\"fFixedAspectRatio\":false,\"fPrimitives\":{\"_typename\":\"TList\",\"name\":\"TList\",\"arr\":[{\"_typename\":\"TFrame\",\"fUniqueID\":0,\"fBits\":50331656,\"fLineColor\":1,\"fLineStyle\":1,\"fLineWidth\":1,\"fFillColor\":0,\"fFillStyle\":1001,\"fX1\":0,\"fY1\":0,\"fX2\":109.8,\"fY2\":1.1,\"fBorderSize\":1,\"fBorderMode\":0},{\"_typename\":\"TGraphAsymmErrors\",\"fUniqueID\":0,\"fBits\":50332680,\"fName\":\"759049\",\"fTitle\":\"; p_{T}^{GEN} [GeV];\",\"fLineColor\":1,\"fLineStyle\":1,\"fLineWidth\":1,\"fFillColor\":0,\"fFillStyle\":1001,\"fMarkerColor\":1,\"fMarkerStyle\":8,\"fMarkerSize\":0.5,\"fNpoints\":49,\"fX\":[3,5,7,9,11,13,15,17,19,21,23,25,27,29,31,33,35,37,39,41,43,45,47,49,51,53,55,57,59,61,63,65,67,69,71,73,75,77,79,81,83,85,87,89,91,93,95,97,99],\"fY\":[0,0,0,0,0,0,0,0,0.0111524163568773,0.195970695970696,0.634892086330935,0.879712746858169,0.954631379962193,0.97508896797153,0.976744186046512,0.986027944111776,0.998269896193772,0.994897959183674,1,1,1,0.997912317327766,1,1,1,1,1,1,1,1,1,1,1,1,0.998185117967332,1,1,1,1,1,1,1,1,1,0.998178506375228,1,1,1,1],\"fFunctions\":{\"_typename\":\"TList\",\"name\":\"TList\",\"arr\":[{\"_typename\":\"TF1\",\"fUniqueID\":0,\"fBits\":50332680,\"fName\":\"tf_yc\",\"fTitle\":\"tf_yc\",\"fLineColor\":6,\"fLineStyle\":1,\"fLineWidth\":2,\"fFillColor\":19,\"fFillStyle\":0,\"fMarkerColor\":1,\"fMarkerStyle\":1,\"fMarkerSize\":1,\"fXmin\":0,\"fXmax\":100,\"fNpar\":5,\"fNdim\":1,\"fNpx\":100,\"fType\":1,\"fNpfits\":49,\"fNDF\":45,\"fChisquare\":7.81661471711711,\"fMinimum\":-1111,\"fMaximum\":-1111,\"fParErrors\":[0.0393419818394976,0.6927070106775,0.593020703069745,5.23380488135383e-4,0],\"fParMin\":[0,0,0.1,0.9,1],\"fParMax\":[1,50,1,1,1],\"fSave\":[1.25116741984281e-175,6.63548190277143e-159,4.93279644839716e-143,5.14330479857707e-128,7.52716262045479e-114,1.54749997005531e-100,4.47388698053304e-88,1.82110335426205e-76,1.04530819528112e-65,8.4770579003652e-56,9.73628350659327e-47,1.58876057619769e-38,3.6987914068359e-31,1.23560801393961e-24,5.97071667618647e-19,4.22327276278084e-14,4.4535263955893e-10,7.21501504132301e-7,1.8933339917722e-4,0.00889871838219023,0.0915218025167723,0.298714584151828,0.509757725953289,0.662032824686229,0.767042161179779,0.839360316371338,0.889164257619164,0.923463148987803,0.947084049656344,0.96335125031879,0.974554117690597,0.982269288847243,0.987582559459208,0.991241693394511,0.993761659369205,0.995497105140225,0.996692268906082,0.997515352203223,0.998082191772313,0.998472561857824,0.998741401247258,0.998926545088946,0.99905404962683,0.99914185922953,0.999202331793522,0.999243977933389,0.999272658724335,0.999292410561406,0.9993060132221,0.999315381078735,0.9993218325179,0.999326275483768,0.99932933525775,0.999331442457558,0.999332893640246,0.999333893038207,0.999334581301852,0.999335055294058,0.999335381722183,0.999335606526135,0.999335761343728,0.999335867963239,0.999335941389777,0.999335991957037,0.99933602678161,0.999336050764536,0.999336067281055,0.999336078655623,0.99933608648904,0.999336091883745,0.99933609559896,0.999336098157549,0.999336099919593,0.999336101133074,0.999336101968772,0.999336102544299,0.999336102940653,0.999336103213612,0.999336103401594,0.999336103531053,0.999336103620208,0.999336103681607,0.999336103723892,0.999336103753012,0.999336103773067,0.999336103786878,0.999336103796389,0.99933610380294,0.999336103807451,0.999336103810557,0.999336103812697,0.99933610381417,0.999336103815185,0.999336103815884,0.999336103816365,0.999336103816696,0.999336103816925,0.999336103817082,0.99933610381719,0.999336103817265,0.999336103817316,0,100],\"fNormalized\":false,\"fNormIntegral\":0,\"fFormula\":null,\"fParams\":{\"_typename\":\"TF1Parameters\",\"fParameters\":[0.372981090386982,19.9933882600017,0.712414706587566,0.99933610381743,0],\"fParNames\":[\"#lambda\",\"#mu\",\"#sigma\",\"Plateau\",\"Baseline\"]},\"fComposition_ptr\":null},{\"_typename\":\"TPaveStats\",\"fUniqueID\":0,\"fBits\":50462729,\"fLineColor\":1,\"fLineStyle\":1,\"fLineWidth\":1,\"fFillColor\":0,\"fFillStyle\":1001,\"fX1\":94.3894784279808,\"fY1\":0.692857160818019,\"fX2\":163.736848752585,\"fY2\":1.15000000884877,\"fX1NDC\":0.620000013709068,\"fY1NDC\":0.615000009536743,\"fX2NDC\":0.980000019073486,\"fY2NDC\":0.935000002384186,\"fBorderSize\":1,\"fInit\":1,\"fShadowColor\":1,\"fCornerRadius\":0,\"fOption\":\"brNDC\",\"fName\":\"stats\",\"fTextAngle\":0,\"fTextSize\":0,\"fTextAlign\":12,\"fTextColor\":1,\"fTextFont\":42,\"fLabel\":\"\",\"fLongest\":32,\"fMargin\":0.05,\"fLines\":{\"_typename\":\"TList\",\"name\":\"TList\",\"arr\":[{\"_typename\":\"TLatex\",\"fUniqueID\":0,\"fBits\":50331648,\"fName\":\"\",\"fTitle\":\"#chi^{2} \\/ ndf = 7.817 \\/ 45\",\"fTextAngle\":0,\"fTextSize\":0,\"fTextAlign\":0,\"fTextColor\":0,\"fTextFont\":0,\"fX\":0,\"fY\":0,\"fLineColor\":1,\"fLineStyle\":1,\"fLineWidth\":2,\"fLimitFactorSize\":3,\"fOriginSize\":0.04},{\"_typename\":\"TLatex\",\"fUniqueID\":0,\"fBits\":50331648,\"fName\":\"\",\"fTitle\":\"Prob  =     1\",\"fTextAngle\":0,\"fTextSize\":0,\"fTextAlign\":0,\"fTextColor\":0,\"fTextFont\":0,\"fX\":0,\"fY\":0,\"fLineColor\":1,\"fLineStyle\":1,\"fLineWidth\":2,\"fLimitFactorSize\":3,\"fOriginSize\":0.04},{\"_typename\":\"TLatex\",\"fUniqueID\":0,\"fBits\":50331648,\"fName\":\"\",\"fTitle\":\"#lambda  = 0.373 #pm 0.03934 \",\"fTextAngle\":0,\"fTextSize\":0,\"fTextAlign\":0,\"fTextColor\":0,\"fTextFont\":0,\"fX\":0,\"fY\":0,\"fLineColor\":1,\"fLineStyle\":1,\"fLineWidth\":2,\"fLimitFactorSize\":3,\"fOriginSize\":0.04},{\"_typename\":\"TLatex\",\"fUniqueID\":0,\"fBits\":50331648,\"fName\":\"\",\"fTitle\":\"#mu      = 19.99 #pm 0.6927 \",\"fTextAngle\":0,\"fTextSize\":0,\"fTextAlign\":0,\"fTextColor\":0,\"fTextFont\":0,\"fX\":0,\"fY\":0,\"fLineColor\":1,\"fLineStyle\":1,\"fLineWidth\":2,\"fLimitFactorSize\":3,\"fOriginSize\":0.04},{\"_typename\":\"TLatex\",\"fUniqueID\":0,\"fBits\":50331648,\"fName\":\"\",\"fTitle\":\"#sigma   = 0.7124 #pm 0.593 \",\"fTextAngle\":0,\"fTextSize\":0,\"fTextAlign\":0,\"fTextColor\":0,\"fTextFont\":0,\"fX\":0,\"fY\":0,\"fLineColor\":1,\"fLineStyle\":1,\"fLineWidth\":2,\"fLimitFactorSize\":3,\"fOriginSize\":0.04},{\"_typename\":\"TLatex\",\"fUniqueID\":0,\"fBits\":50331648,\"fName\":\"\",\"fTitle\":\"Plateau  = 0.9993 #pm 0.0005234 \",\"fTextAngle\":0,\"fTextSize\":0,\"fTextAlign\":0,\"fTextColor\":0,\"fTextFont\":0,\"fX\":0,\"fY\":0,\"fLineColor\":1,\"fLineStyle\":1,\"fLineWidth\":2,\"fLimitFactorSize\":3,\"fOriginSize\":0.04},{\"_typename\":\"TLatex\",\"fUniqueID\":0,\"fBits\":50331648,\"fName\":\"\",\"fTitle\":\"Baseline =     0 #pm     0 \",\"fTextAngle\":0,\"fTextSize\":0,\"fTextAlign\":0,\"fTextColor\":0,\"fTextFont\":0,\"fX\":0,\"fY\":0,\"fLineColor\":1,\"fLineStyle\":1,\"fLineWidth\":2,\"fLimitFactorSize\":3,\"fOriginSize\":0.04}],\"opt\":[\"\",\"\",\"\",\"\",\"\",\"\",\"\"]},\"fOptFit\":11111,\"fOptStat\":0,\"fFitFormat\":\"5.4g\",\"fStatFormat\":\"6.4g\",\"fParent\":{\"$ref\":4}}],\"opt\":[\"\",\"brNDC\"]},\"fHistogram\":{\"_typename\":\"TH1F\",\"fUniqueID\":0,\"fBits\":50331648,\"fName\":\"759049\",\"fTitle\":\"\",\"fLineColor\":602,\"fLineStyle\":1,\"fLineWidth\":1,\"fFillColor\":0,\"fFillStyle\":1001,\"fMarkerColor\":1,\"fMarkerStyle\":1,\"fMarkerSize\":1,\"fNcells\":102,\"fXaxis\":{\"_typename\":\"TAxis\",\"fUniqueID\":0,\"fBits\":50331656,\"fName\":\"xaxis\",\"fTitle\":\" p_{T}^{GEN} [GeV]\",\"fNdivisions\":510,\"fAxisColor\":1,\"fLabelColor\":1,\"fLabelFont\":42,\"fLabelOffset\":0.005,\"fLabelSize\":0.035,\"fTickLength\":0.03,\"fTitleOffset\":1.4,\"fTitleSize\":0.035,\"fTitleColor\":1,\"fTitleFont\":42,\"fNbins\":100,\"fXmin\":0,\"fXmax\":109.8,\"fXbins\":[],\"fFirst\":0,\"fLast\":0,\"fBits2\":0,\"fTimeDisplay\":false,\"fTimeFormat\":\"\",\"fLabels\":null,\"fModLabs\":null},\"fYaxis\":{\"_typename\":\"TAxis\",\"fUniqueID\":0,\"fBits\":50331656,\"fName\":\"yaxis\",\"fTitle\":\"L1 matched to GEN and p_{T}>th.\\/L1 matched to GEN\",\"fNdivisions\":510,\"fAxisColor\":1,\"fLabelColor\":1,\"fLabelFont\":42,\"fLabelOffset\":0.005,\"fLabelSize\":0.035,\"fTickLength\":0.03,\"fTitleOffset\":0,\"fTitleSize\":0.035,\"fTitleColor\":1,\"fTitleFont\":42,\"fNbins\":1,\"fXmin\":0,\"fXmax\":1.1,\"fXbins\":[],\"fFirst\":0,\"fLast\":0,\"fBits2\":0,\"fTimeDisplay\":false,\"fTimeFormat\":\"\",\"fLabels\":null,\"fModLabs\":null},\"fZaxis\":{\"_typename\":\"TAxis\",\"fUniqueID\":0,\"fBits\":50331648,\"fName\":\"zaxis\",\"fTitle\":\"\",\"fNdivisions\":510,\"fAxisColor\":1,\"fLabelColor\":1,\"fLabelFont\":42,\"fLabelOffset\":0.005,\"fLabelSize\":0.035,\"fTickLength\":0.03,\"fTitleOffset\":1,\"fTitleSize\":0.035,\"fTitleColor\":1,\"fTitleFont\":42,\"fNbins\":1,\"fXmin\":0,\"fXmax\":1,\"fXbins\":[],\"fFirst\":0,\"fLast\":0,\"fBits2\":0,\"fTimeDisplay\":false,\"fTimeFormat\":\"\",\"fLabels\":null,\"fModLabs\":null},\"fBarOffset\":0,\"fBarWidth\":1000,\"fEntries\":0,\"fTsumw\":0,\"fTsumw2\":0,\"fTsumwx\":0,\"fTsumwx2\":0,\"fMaximum\":1.1,\"fMinimum\":0,\"fNormFactor\":0,\"fContour\":[],\"fSumw2\":[],\"fOption\":\"\",\"fFunctions\":{\"_typename\":\"TList\",\"name\":\"TList\",\"arr\":[],\"opt\":[]},\"fBufferSize\":0,\"fBuffer\":[],\"fBinStatErrOpt\":0,\"fStatOverflows\":2,\"fArray\":[0,0,0,0,0,0,0,0,0,0,0,0,0,0,0,0,0,0,0,0,0,0,0,0,0,0,0,0,0,0,0,0,0,0,0,0,0,0,0,0,0,0,0,0,0,0,0,0,0,0,0,0,0,0,0,0,0,0,0,0,0,0,0,0,0,0,0,0,0,0,0,0,0,0,0,0,0,0,0,0,0,0,0,0,0,0,0,0,0,0,0,0,0,0,0,0,0,0,0,0,0,0]},\"fMinimum\":-1111,\"fMaximum\":-1111,\"fEXlow\":[1,1,1,1,1,1,1,1,1,1,1,1,1,1,1,1,1,1,1,1,1,1,1,1,1,1,1,1,1,1,1,1,1,1,1,1,1,1,1,1,1,1,1,1,1,1,1,1,1],\"fEXhigh\":[1,1,1,1,1,1,1,1,1,1,1,1,1,1,1,1,1,1,1,1,1,1,1,1,1,1,1,1,1,1,1,1,1,1,1,1,1,1,1,1,1,1,1,1,1,1,1,1,1],\"fEYlow\":[0,0,0,0,0,0,0,0,0.00441499757350175,0.0173060704968314,0.021551725118488,0.0154034341931296,0.0109580856869186,0.00845062473436176,0.00827020887423935,0.00744458969078277,0.00396707576217903,0.00493794211437071,0.00321901386272638,0.00342247564062792,0.00340979796341223,0.00478416763762524,0.00327047951878845,0.0034288498968823,0.00313674526478314,0.00363177180340413,0.00346759968683441,0.00329388516268869,0.00354096381975255,0.00323031020388143,0.00320221671456578,0.00345458614095473,0.00352739487057507,0.00344166990678307,0.00416088718716279,0.00335389164746014,0.00323031020388143,0.00336001276404729,0.00351392951655349,0.00357534734320342,0.00324168610766018,0.00349392314601682,0.00346108068132667,0.00325890099174631,0.00417599965672255,0.00352064931846152,0.00328214061364762,0.00353416632119274,0.00365339285463007],\"fEYhigh\":[0.0204731563007113,0.00664817075517102,0.00427229336386818,0.00355463756421048,0.00327629969013888,0.0038441021671747,0.00344811592825358,0.00342247564062798,0.00660171229146548,0.0184784621836663,0.0210456964701475,0.0139527475901501,0.00906168112176198,0.00653302740945427,0.00632714409581947,0.00513864142312748,0.00143126649636627,0.00277545494884102,0,0,0,0.00172709262942605,0,0,0,0,0,0,0,0,0,0,0,0,0.00150140344772509,0,0,0,0,0,0,0,0,0,0.00150687322100829,0,0,0,0]},{\"_typename\":\"TLatex\",\"fUniqueID\":0,\"fBits\":50348040,\"fName\":\"\",\"fTitle\":\"PU0, EG, hwQual 5, p_{T}^{L1}>=20GeV, 1.52 < |#eta^{GEN}| <= 2.4\",\"fTextAngle\":0,\"fTextSize\":0.03,\"fTextAlign\":11,\"fTextColor\":1,\"fTextFont\":62,\"fX\":0.15,\"fY\":0.85,\"fLineColor\":1,\"fLineStyle\":1,\"fLineWidth\":2,\"fLimitFactorSize\":3,\"fOriginSize\":0.04},{\"_typename\":\"TLatex\",\"fUniqueID\":0,\"fBits\":50331656,\"fName\":\"\",\"fTitle\":\"\",\"fTextAngle\":0,\"fTextSize\":0.03,\"fTextAlign\":11,\"fTextColor\":1,\"fTextFont\":62,\"fX\":0,\"fY\":0,\"fLineColor\":1,\"fLineStyle\":1,\"fLineWidth\":2,\"fLimitFactorSize\":3,\"fOriginSize\":0.04},{\"_typename\":\"TLine\",\"fUniqueID\":0,\"fBits\":50331656,\"fLineColor\":1,\"fLineStyle\":2,\"fLineWidth\":1,\"fX1\":0,\"fY1\":0.95,\"fX2\":109.8,\"fY2\":0.95},{\"_typename\":\"TLine\",\"fUniqueID\":0,\"fBits\":50331656,\"fLineColor\":1,\"fLineStyle\":2,\"fLineWidth\":1,\"fX1\":0,\"fY1\":1,\"fX2\":109.8,\"fY2\":1},{\"_typename\":\"TGraphErrors\",\"fUniqueID\":0,\"fBits\":50332680,\"fName\":\"Graph\",\"fTitle\":\"Fitted line with .95 conf. band\",\"fLineColor\":1,\"fLineStyle\":1,\"fLineWidth\":1,\"fFillColor\":0,\"fFillStyle\":1000,\"fMarkerColor\":1,\"fMarkerStyle\":1,\"fMarkerSize\":1,\"fNpoints\":49,\"fX\":[3,5,7,9,11,13,15,17,19,21,23,25,27,29,31,33,35,37,39,41,43,45,47,49,51,53,55,57,59,61,63,65,67,69,71,73,75,77,79,81,83,85,87,89,91,93,95,97,99],\"fY\":[5.14330479857707e-128,1.54749997005531e-100,1.82110335426205e-76,8.4770579003652e-56,1.58876057619769e-38,1.23560801393961e-24,4.22327276278084e-14,7.21501504132301e-7,0.00889871838219023,0.298714584151828,0.662032824686229,0.839360316371338,0.923463148987803,0.96335125031879,0.982269288847243,0.991241693394511,0.995497105140225,0.997515352203223,0.998472561857824,0.998926545088946,0.99914185922953,0.999243977933389,0.999292410561406,0.999315381078735,0.999326275483768,0.999331442457558,0.999333893038207,0.999335055294058,0.999335606526135,0.999335867963239,0.999335991957037,0.999336050764536,0.999336078655623,0.999336091883745,0.999336098157549,0.999336101133074,0.999336102544299,0.999336103213612,0.999336103531053,0.999336103681607,0.999336103753012,0.999336103786878,0.99933610380294,0.999336103810557,0.99933610381417,0.999336103815884,0.999336103816696,0.999336103817082,0.999336103817265],\"fFunctions\":{\"_typename\":\"TList\",\"name\":\"TList\",\"arr\":[],\"opt\":[]},\"fHistogram\":{\"_typename\":\"TH1F\",\"fUniqueID\":0,\"fBits\":50332168,\"fName\":\"Graph\",\"fTitle\":\"Fitted line with .95 conf. band\",\"fLineColor\":602,\"fLineStyle\":1,\"fLineWidth\":1,\"fFillColor\":0,\"fFillStyle\":1001,\"fMarkerColor\":1,\"fMarkerStyle\":1,\"fMarkerSize\":1,\"fNcells\":102,\"fXaxis\":{\"_typename\":\"TAxis\",\"fUniqueID\":0,\"fBits\":50331648,\"fName\":\"xaxis\",\"fTitle\":\"\",\"fNdivisions\":510,\"fAxisColor\":1,\"fLabelColor\":1,\"fLabelFont\":42,\"fLabelOffset\":0.005,\"fLabelSize\":0.035,\"fTickLength\":0.03,\"fTitleOffset\":1,\"fTitleSize\":0.035,\"fTitleColor\":1,\"fTitleFont\":42,\"fNbins\":100,\"fXmin\":0,\"fXmax\":108.6,\"fXbins\":[],\"fFirst\":0,\"fLast\":0,\"fBits2\":0,\"fTimeDisplay\":false,\"fTimeFormat\":\"\",\"fLabels\":null,\"fModLabs\":null},\"fYaxis\":{\"_typename\":\"TAxis\",\"fUniqueID\":0,\"fBits\":50331648,\"fName\":\"yaxis\",\"fTitle\":\"\",\"fNdivisions\":510,\"fAxisColor\":1,\"fLabelColor\":1,\"fLabelFont\":42,\"fLabelOffset\":0.005,\"fLabelSize\":0.035,\"fTickLength\":0.03,\"fTitleOffset\":0,\"fTitleSize\":0.035,\"fTitleColor\":1,\"fTitleFont\":42,\"fNbins\":1,\"fXmin\":-0.36641182155109,\"fXmax\":1.12683907967845,\"fXbins\":[],\"fFirst\":0,\"fLast\":0,\"fBits2\":0,\"fTimeDisplay\":false,\"fTimeFormat\":\"\",\"fLabels\":null,\"fModLabs\":null},\"fZaxis\":{\"_typename\":\"TAxis\",\"fUniqueID\":0,\"fBits\":50331648,\"fName\":\"zaxis\",\"fTitle\":\"\",\"fNdivisions\":510,\"fAxisColor\":1,\"fLabelColor\":1,\"fLabelFont\":42,\"fLabelOffset\":0.005,\"fLabelSize\":0.035,\"fTickLength\":0.03,\"fTitleOffset\":1,\"fTitleSize\":0.035,\"fTitleColor\":1,\"fTitleFont\":42,\"fNbins\":1,\"fXmin\":0,\"fXmax\":1,\"fXbins\":[],\"fFirst\":0,\"fLast\":0,\"fBits2\":0,\"fTimeDisplay\":false,\"fTimeFormat\":\"\",\"fLabels\":null,\"fModLabs\":null},\"fBarOffset\":0,\"fBarWidth\":1000,\"fEntries\":0,\"fTsumw\":0,\"fTsumw2\":0,\"fTsumwx\":0,\"fTsumwx2\":0,\"fMaximum\":1.12683907967845,\"fMinimum\":-0.36641182155109,\"fNormFactor\":0,\"fContour\":[],\"fSumw2\":[],\"fOption\":\"\",\"fFunctions\":{\"_typename\":\"TList\",\"name\":\"TList\",\"arr\":[],\"opt\":[]},\"fBufferSize\":0,\"fBuffer\":[],\"fBinStatErrOpt\":0,\"fStatOverflows\":2,\"fArray\":[0,0,0,0,0,0,0,0,0,0,0,0,0,0,0,0,0,0,0,0,0,0,0,0,0,0,0,0,0,0,0,0,0,0,0,0,0,0,0,0,0,0,0,0,0,0,0,0,0,0,0,0,0,0,0,0,0,0,0,0,0,0,0,0,0,0,0,0,0,0,0,0,0,0,0,0,0,0,0,0,0,0,0,0,0,0,0,0,0,0,0,0,0,0,0,0,0,0,0,0,0,0]},\"fMinimum\":-1111,\"fMaximum\":-1111,\"fEX\":[0,0,0,0,0,0,0,0,0,0,0,0,0,0,0,0,0,0,0,0,0,0,0,0,0,0,0,0,0,0,0,0,0,0,0,0,0,0,0,0,0,0,0,0,0,0,0,0,0],\"fEY\":[8.83251654027144e-125,2.08210561938255e-97,1.85526414337219e-73,6.25301669515593e-53,7.97986614407949e-36,3.86358573687107e-22,7.1319677076688e-12,5.1011675939422e-5,0.154370925240406,0.540688830600456,0.213667834611622,0.0952018149223013,0.0529364418740514,0.0320741275308306,0.0192214695695818,0.0111598111814731,0.00634601467712391,0.00369940364001479,0.00246409018189315,0.00204461508044327,0.0019611309285691,0.00196638595490863,0.00198328059446662,0.00199587663852241,0.0020033882390441,0.00200750567784802,0.00200967439620829,0.00201079269699205,0.00201136227213588,0.00201165011176498,0.0020117947939021,0.00201186722726642,0.00201190337436417,0.00201192136499939,0.0020119302981547,0.00201193472477922,0.00201193691418472,0.00201193799519208,0.00201193852814287,0.00201193879047503,0.00201193891946648,0.00201193898282062,0.00201193901386682,0.00201193902906682,0.00201193903648277,0.00201193904017345,0.00201193904193144,0.00201193904280108,0.00201193904322873]}],\"opt\":[\"\",\"pa\",\"same\",\"same\",\"same\",\"same\",\"\"]},\"fExecs\":null,\"fName\":\"c_61200a\",\"fTitle\":\"c_61200a\",\"fNumPaletteColor\":0,\"fNextPaletteColor\":0,\"fDISPLAY\":\"$DISPLAY\",\"fDoubleBuffer\":0,\"fRetained\":true,\"fXsizeUser\":0,\"fYsizeUser\":0,\"fXsizeReal\":20,\"fYsizeReal\":15,\"fWindowTopX\":0,\"fWindowTopY\":0,\"fWindowWidth\":0,\"fWindowHeight\":0,\"fCw\":796,\"fCh\":572,\"fCatt\":{\"_typename\":\"TAttCanvas\",\"fXBetween\":2,\"fYBetween\":2,\"fTitleFromTop\":1.2,\"fXdate\":0.2,\"fYdate\":0.3,\"fAdate\":1},\"kMoveOpaque\":true,\"kResizeOpaque\":true,\"fHighLightColor\":2,\"fBatch\":true,\"kShowEventStatus\":false,\"kAutoExec\":true,\"kMenuBar\":true});\n",
       "       Core.draw(\"root_plot_32\", obj, \"\");\n",
       "     }\n",
       " );\n",
       "</script>\n"
      ],
      "text/plain": [
       "<IPython.core.display.HTML object>"
      ]
     },
     "metadata": {},
     "output_type": "display_data"
    },
    {
     "data": {
      "text/html": [
       "\n",
       "<div id=\"root_plot_33\"\n",
       "     style=\"width: 796px; height: 572px\">\n",
       "</div>\n",
       "\n",
       "<script>\n",
       " requirejs.config({\n",
       "     paths: {\n",
       "       'JSRootCore' : 'https://root.cern.ch/js/notebook//scripts/JSRootCore',\n",
       "     }\n",
       "   });\n",
       " require(['JSRootCore'],\n",
       "     function(Core) {\n",
       "       var obj = Core.JSONR_unref({\"_typename\":\"TCanvas\",\"fUniqueID\":0,\"fBits\":53673992,\"fLineColor\":1,\"fLineStyle\":1,\"fLineWidth\":1,\"fFillColor\":0,\"fFillStyle\":1001,\"fLeftMargin\":0.13,\"fRightMargin\":0.3,\"fBottomMargin\":0.13,\"fTopMargin\":0.1,\"fXfile\":2,\"fYfile\":2,\"fAfile\":1,\"fXstat\":0.99,\"fYstat\":0.99,\"fAstat\":2,\"fFrameFillColor\":0,\"fFrameLineColor\":1,\"fFrameFillStyle\":1001,\"fFrameLineStyle\":1,\"fFrameLineWidth\":1,\"fFrameBorderSize\":1,\"fFrameBorderMode\":0,\"fX1\":-25.0421046588559,\"fY1\":-0.185714283502611,\"fX2\":167.58947670572,\"fY2\":1.24285714852456,\"fXtoAbsPixelk\":103.480046204376,\"fXtoPixelk\":103.480046204376,\"fXtoPixel\":4.13224038530569,\"fYtoAbsPixelk\":497.640051065433,\"fYtoPixelk\":497.640051065433,\"fYtoPixel\":-400.399999031424,\"fUtoAbsPixelk\":5e-5,\"fUtoPixelk\":5e-5,\"fUtoPixel\":796,\"fVtoAbsPixelk\":572.00005,\"fVtoPixelk\":572,\"fVtoPixel\":-572,\"fAbsPixeltoXk\":-25.0421046588559,\"fPixeltoXk\":-25.0421046588559,\"fPixeltoX\":0.241999474076101,\"fAbsPixeltoYk\":1.24285714852456,\"fPixeltoYk\":-0.185714283502611,\"fPixeltoY\":-0.00249750250354401,\"fXlowNDC\":0,\"fYlowNDC\":0,\"fXUpNDC\":0,\"fYUpNDC\":0,\"fWNDC\":1,\"fHNDC\":1,\"fAbsXlowNDC\":0,\"fAbsYlowNDC\":0,\"fAbsWNDC\":1,\"fAbsHNDC\":1,\"fUxmin\":0,\"fUymin\":0,\"fUxmax\":109.8,\"fUymax\":1.1,\"fTheta\":30,\"fPhi\":30,\"fAspectRatio\":0,\"fNumber\":0,\"fTickx\":0,\"fTicky\":0,\"fLogx\":0,\"fLogy\":0,\"fLogz\":0,\"fPadPaint\":0,\"fCrosshair\":0,\"fCrosshairPos\":0,\"fBorderSize\":2,\"fBorderMode\":0,\"fModified\":false,\"fGridx\":false,\"fGridy\":false,\"fAbsCoord\":false,\"fEditable\":true,\"fFixedAspectRatio\":false,\"fPrimitives\":{\"_typename\":\"TList\",\"name\":\"TList\",\"arr\":[{\"_typename\":\"TFrame\",\"fUniqueID\":0,\"fBits\":50331656,\"fLineColor\":1,\"fLineStyle\":1,\"fLineWidth\":1,\"fFillColor\":0,\"fFillStyle\":1001,\"fX1\":0,\"fY1\":0,\"fX2\":109.8,\"fY2\":1.1,\"fBorderSize\":1,\"fBorderMode\":0},{\"_typename\":\"TGraphAsymmErrors\",\"fUniqueID\":0,\"fBits\":50332680,\"fName\":\"67e632\",\"fTitle\":\"; p_{T}^{GEN} [GeV];\",\"fLineColor\":1,\"fLineStyle\":1,\"fLineWidth\":1,\"fFillColor\":0,\"fFillStyle\":1001,\"fMarkerColor\":1,\"fMarkerStyle\":8,\"fMarkerSize\":0.5,\"fNpoints\":49,\"fX\":[3,5,7,9,11,13,15,17,19,21,23,25,27,29,31,33,35,37,39,41,43,45,47,49,51,53,55,57,59,61,63,65,67,69,71,73,75,77,79,81,83,85,87,89,91,93,95,97,99],\"fY\":[0,0,0,0,0,0,0,0,0,0,0,0.0502692998204668,0.440453686200378,0.793594306049822,0.889087656529517,0.954091816367265,0.974048442906574,0.976190476190476,0.989492119089317,0.996275605214153,0.998144712430427,0.993736951983299,1,1,1,1,1,1,0.998073217726397,1,1,1,1,1,0.998185117967332,1,1,1,1,1,0.998236331569665,1,1,1,0.998178506375228,1,1,1,1],\"fFunctions\":{\"_typename\":\"TList\",\"name\":\"TList\",\"arr\":[{\"_typename\":\"TF1\",\"fUniqueID\":0,\"fBits\":50332680,\"fName\":\"tf_yc\",\"fTitle\":\"tf_yc\",\"fLineColor\":6,\"fLineStyle\":1,\"fLineWidth\":2,\"fFillColor\":19,\"fFillStyle\":0,\"fMarkerColor\":1,\"fMarkerStyle\":1,\"fMarkerSize\":1,\"fXmin\":0,\"fXmax\":100,\"fNpar\":5,\"fNdim\":1,\"fNpx\":100,\"fType\":1,\"fNpfits\":49,\"fNDF\":45,\"fChisquare\":7.08779818596336,\"fMinimum\":-1111,\"fMaximum\":-1111,\"fParErrors\":[0.0301376800044978,0.653077209229393,0.507964944934611,5.11831185859901e-4,0],\"fParMin\":[0,0,0.1,0.9,1],\"fParMax\":[1,50,1,1,1],\"fSave\":[0,0,0,0,0,0,0,0,0,0,0,0,0,0,0,0,0,0,0,0,0,0,8.7247123130242e-179,1.93943875938807e-77,3.18078546524922e-19,0.0577475712099911,0.328669531577764,0.521899743175252,0.659435891300238,0.757330479753425,0.827009255690278,0.876604763396813,0.911905532556395,0.93703168532474,0.954915815556697,0.967645265906795,0.976705751606348,0.983154765417158,0.987745002686014,0.991012212030344,0.993337725130093,0.994992963777867,0.996171118818739,0.997009698380785,0.99760657710853,0.99803141958235,0.998333811205927,0.998549045556644,0.998702243668352,0.998811286027775,0.99888889949191,0.998944142700575,0.998983463353732,0.99901145075349,0.999031371443566,0.999045550463288,0.999055642714083,0.999062826110969,0.999067939062666,0.999071578326299,0.99907416865779,0.999076012387157,0.9990773247049,0.999078258777921,0.999078923626365,0.999079396847883,0.999079733674429,0.999079973418646,0.999080144062231,0.999080265521817,0.999080351973533,0.999080413507576,0.999080457305879,0.999080488480351,0.999080510669515,0.999080526463174,0.999080537704682,0.99908054570609,0.99908055140128,0.999080555454966,0.999080558340272,0.999080560393957,0.999080561855715,0.999080562896156,0.999080563636714,0.999080564163824,0.999080564539007,0.999080564806052,0.999080564996128,0.999080565131418,0.999080565227715,0.999080565296256,0.999080565345042,0.999080565379766,0.999080565404482,0.999080565422074,0.999080565434596,0.999080565443509,0.999080565449852,0.999080565454368,0.999080565457582,0,100],\"fNormalized\":false,\"fNormIntegral\":0,\"fFormula\":null,\"fParams\":{\"_typename\":\"TF1Parameters\",\"fParameters\":[0.339995506271245,24.8249185910114,0.100000002135603,0.999080565465518,0],\"fParNames\":[\"#lambda\",\"#mu\",\"#sigma\",\"Plateau\",\"Baseline\"]},\"fComposition_ptr\":null},{\"_typename\":\"TPaveStats\",\"fUniqueID\":0,\"fBits\":50462729,\"fLineColor\":1,\"fLineStyle\":1,\"fLineWidth\":1,\"fFillColor\":0,\"fFillStyle\":1001,\"fX1\":94.3894784279808,\"fY1\":0.692857160818019,\"fX2\":163.736848752585,\"fY2\":1.15000000884877,\"fX1NDC\":0.620000013709068,\"fY1NDC\":0.615000009536743,\"fX2NDC\":0.980000019073486,\"fY2NDC\":0.935000002384186,\"fBorderSize\":1,\"fInit\":1,\"fShadowColor\":1,\"fCornerRadius\":0,\"fOption\":\"brNDC\",\"fName\":\"stats\",\"fTextAngle\":0,\"fTextSize\":0,\"fTextAlign\":12,\"fTextColor\":1,\"fTextFont\":42,\"fLabel\":\"\",\"fLongest\":32,\"fMargin\":0.05,\"fLines\":{\"_typename\":\"TList\",\"name\":\"TList\",\"arr\":[{\"_typename\":\"TLatex\",\"fUniqueID\":0,\"fBits\":50331648,\"fName\":\"\",\"fTitle\":\"#chi^{2} \\/ ndf = 7.088 \\/ 45\",\"fTextAngle\":0,\"fTextSize\":0,\"fTextAlign\":0,\"fTextColor\":0,\"fTextFont\":0,\"fX\":0,\"fY\":0,\"fLineColor\":1,\"fLineStyle\":1,\"fLineWidth\":2,\"fLimitFactorSize\":3,\"fOriginSize\":0.04},{\"_typename\":\"TLatex\",\"fUniqueID\":0,\"fBits\":50331648,\"fName\":\"\",\"fTitle\":\"Prob  =     1\",\"fTextAngle\":0,\"fTextSize\":0,\"fTextAlign\":0,\"fTextColor\":0,\"fTextFont\":0,\"fX\":0,\"fY\":0,\"fLineColor\":1,\"fLineStyle\":1,\"fLineWidth\":2,\"fLimitFactorSize\":3,\"fOriginSize\":0.04},{\"_typename\":\"TLatex\",\"fUniqueID\":0,\"fBits\":50331648,\"fName\":\"\",\"fTitle\":\"#lambda  =  0.34 #pm 0.03014 \",\"fTextAngle\":0,\"fTextSize\":0,\"fTextAlign\":0,\"fTextColor\":0,\"fTextFont\":0,\"fX\":0,\"fY\":0,\"fLineColor\":1,\"fLineStyle\":1,\"fLineWidth\":2,\"fLimitFactorSize\":3,\"fOriginSize\":0.04},{\"_typename\":\"TLatex\",\"fUniqueID\":0,\"fBits\":50331648,\"fName\":\"\",\"fTitle\":\"#mu      = 24.82 #pm 0.6531 \",\"fTextAngle\":0,\"fTextSize\":0,\"fTextAlign\":0,\"fTextColor\":0,\"fTextFont\":0,\"fX\":0,\"fY\":0,\"fLineColor\":1,\"fLineStyle\":1,\"fLineWidth\":2,\"fLimitFactorSize\":3,\"fOriginSize\":0.04},{\"_typename\":\"TLatex\",\"fUniqueID\":0,\"fBits\":50331648,\"fName\":\"\",\"fTitle\":\"#sigma   =   0.1 #pm 0.508 \",\"fTextAngle\":0,\"fTextSize\":0,\"fTextAlign\":0,\"fTextColor\":0,\"fTextFont\":0,\"fX\":0,\"fY\":0,\"fLineColor\":1,\"fLineStyle\":1,\"fLineWidth\":2,\"fLimitFactorSize\":3,\"fOriginSize\":0.04},{\"_typename\":\"TLatex\",\"fUniqueID\":0,\"fBits\":50331648,\"fName\":\"\",\"fTitle\":\"Plateau  = 0.9991 #pm 0.0005118 \",\"fTextAngle\":0,\"fTextSize\":0,\"fTextAlign\":0,\"fTextColor\":0,\"fTextFont\":0,\"fX\":0,\"fY\":0,\"fLineColor\":1,\"fLineStyle\":1,\"fLineWidth\":2,\"fLimitFactorSize\":3,\"fOriginSize\":0.04},{\"_typename\":\"TLatex\",\"fUniqueID\":0,\"fBits\":50331648,\"fName\":\"\",\"fTitle\":\"Baseline =     0 #pm     0 \",\"fTextAngle\":0,\"fTextSize\":0,\"fTextAlign\":0,\"fTextColor\":0,\"fTextFont\":0,\"fX\":0,\"fY\":0,\"fLineColor\":1,\"fLineStyle\":1,\"fLineWidth\":2,\"fLimitFactorSize\":3,\"fOriginSize\":0.04}],\"opt\":[\"\",\"\",\"\",\"\",\"\",\"\",\"\"]},\"fOptFit\":11111,\"fOptStat\":0,\"fFitFormat\":\"5.4g\",\"fStatFormat\":\"6.4g\",\"fParent\":{\"$ref\":4}}],\"opt\":[\"\",\"brNDC\"]},\"fHistogram\":{\"_typename\":\"TH1F\",\"fUniqueID\":0,\"fBits\":50331648,\"fName\":\"67e632\",\"fTitle\":\"\",\"fLineColor\":602,\"fLineStyle\":1,\"fLineWidth\":1,\"fFillColor\":0,\"fFillStyle\":1001,\"fMarkerColor\":1,\"fMarkerStyle\":1,\"fMarkerSize\":1,\"fNcells\":102,\"fXaxis\":{\"_typename\":\"TAxis\",\"fUniqueID\":0,\"fBits\":50331656,\"fName\":\"xaxis\",\"fTitle\":\" p_{T}^{GEN} [GeV]\",\"fNdivisions\":510,\"fAxisColor\":1,\"fLabelColor\":1,\"fLabelFont\":42,\"fLabelOffset\":0.005,\"fLabelSize\":0.035,\"fTickLength\":0.03,\"fTitleOffset\":1.4,\"fTitleSize\":0.035,\"fTitleColor\":1,\"fTitleFont\":42,\"fNbins\":100,\"fXmin\":0,\"fXmax\":109.8,\"fXbins\":[],\"fFirst\":0,\"fLast\":0,\"fBits2\":0,\"fTimeDisplay\":false,\"fTimeFormat\":\"\",\"fLabels\":null,\"fModLabs\":null},\"fYaxis\":{\"_typename\":\"TAxis\",\"fUniqueID\":0,\"fBits\":50331656,\"fName\":\"yaxis\",\"fTitle\":\"L1 matched to GEN and p_{T}>th.\\/L1 matched to GEN\",\"fNdivisions\":510,\"fAxisColor\":1,\"fLabelColor\":1,\"fLabelFont\":42,\"fLabelOffset\":0.005,\"fLabelSize\":0.035,\"fTickLength\":0.03,\"fTitleOffset\":0,\"fTitleSize\":0.035,\"fTitleColor\":1,\"fTitleFont\":42,\"fNbins\":1,\"fXmin\":0,\"fXmax\":1.1,\"fXbins\":[],\"fFirst\":0,\"fLast\":0,\"fBits2\":0,\"fTimeDisplay\":false,\"fTimeFormat\":\"\",\"fLabels\":null,\"fModLabs\":null},\"fZaxis\":{\"_typename\":\"TAxis\",\"fUniqueID\":0,\"fBits\":50331648,\"fName\":\"zaxis\",\"fTitle\":\"\",\"fNdivisions\":510,\"fAxisColor\":1,\"fLabelColor\":1,\"fLabelFont\":42,\"fLabelOffset\":0.005,\"fLabelSize\":0.035,\"fTickLength\":0.03,\"fTitleOffset\":1,\"fTitleSize\":0.035,\"fTitleColor\":1,\"fTitleFont\":42,\"fNbins\":1,\"fXmin\":0,\"fXmax\":1,\"fXbins\":[],\"fFirst\":0,\"fLast\":0,\"fBits2\":0,\"fTimeDisplay\":false,\"fTimeFormat\":\"\",\"fLabels\":null,\"fModLabs\":null},\"fBarOffset\":0,\"fBarWidth\":1000,\"fEntries\":0,\"fTsumw\":0,\"fTsumw2\":0,\"fTsumwx\":0,\"fTsumwx2\":0,\"fMaximum\":1.1,\"fMinimum\":0,\"fNormFactor\":0,\"fContour\":[],\"fSumw2\":[],\"fOption\":\"\",\"fFunctions\":{\"_typename\":\"TList\",\"name\":\"TList\",\"arr\":[],\"opt\":[]},\"fBufferSize\":0,\"fBuffer\":[],\"fBinStatErrOpt\":0,\"fStatOverflows\":2,\"fArray\":[0,0,0,0,0,0,0,0,0,0,0,0,0,0,0,0,0,0,0,0,0,0,0,0,0,0,0,0,0,0,0,0,0,0,0,0,0,0,0,0,0,0,0,0,0,0,0,0,0,0,0,0,0,0,0,0,0,0,0,0,0,0,0,0,0,0,0,0,0,0,0,0,0,0,0,0,0,0,0,0,0,0,0,0,0,0,0,0,0,0,0,0,0,0,0,0,0,0,0,0,0,0]},\"fMinimum\":-1111,\"fMaximum\":-1111,\"fEXlow\":[1,1,1,1,1,1,1,1,1,1,1,1,1,1,1,1,1,1,1,1,1,1,1,1,1,1,1,1,1,1,1,1,1,1,1,1,1,1,1,1,1,1,1,1,1,1,1,1,1],\"fEXhigh\":[1,1,1,1,1,1,1,1,1,1,1,1,1,1,1,1,1,1,1,1,1,1,1,1,1,1,1,1,1,1,1,1,1,1,1,1,1,1,1,1,1,1,1,1,1,1,1,1,1],\"fEYlow\":[0,0,0,0,0,0,0,0,0,0,0,0.00928416251786372,0.0223902304428655,0.0184995230428741,0.0149169323506969,0.0113676289710131,0.00843059491084452,0.0080830736970553,0.00622340824213274,0.00489102281364318,0.00425323911974607,0.00605464111324661,0.00327047951878845,0.0034288498968823,0.00313674526478314,0.00363177180340413,0.00346759968683441,0.00329388516268869,0.00441661900035606,0.00323031020388143,0.00320221671456578,0.00345458614095473,0.00352739487057507,0.00344166990678307,0.00416088718716279,0.00335389164746014,0.00323031020388143,0.00336001276404729,0.00351392951655349,0.00357534734320342,0.00404381431912104,0.00349392314601682,0.00346108068132667,0.00325890099174631,0.00417599965672255,0.00352064931846152,0.00328214061364762,0.00353416632119274,0.00365339285463007],\"fEYhigh\":[0.0204731563007113,0.00664817075517102,0.00427229336386818,0.00355463756421048,0.00327629969013888,0.0038441021671747,0.00344811592825358,0.00342247564062798,0.00341612503995261,0.00336615626450458,0.00330571406500252,0.0110538242345198,0.0226249399509335,0.0174014425788238,0.0134326486040538,0.00936363177015309,0.00657748587130047,0.00624604350688207,0.00416031395022631,0.0024052547689194,0.00153483098793661,0.00340667917604376,0,0,0,0,0,0,0.00159397874586675,0,0,0,0,0,0.00150140344772509,0,0,0,0,0,0.00145903445440587,0,0,0,0.00150687322100829,0,0,0,0]},{\"_typename\":\"TLatex\",\"fUniqueID\":0,\"fBits\":50348040,\"fName\":\"\",\"fTitle\":\"PU0, EG, hwQual 5, p_{T}^{L1}>=25GeV, 1.52 < |#eta^{GEN}| <= 2.4\",\"fTextAngle\":0,\"fTextSize\":0.03,\"fTextAlign\":11,\"fTextColor\":1,\"fTextFont\":62,\"fX\":0.15,\"fY\":0.85,\"fLineColor\":1,\"fLineStyle\":1,\"fLineWidth\":2,\"fLimitFactorSize\":3,\"fOriginSize\":0.04},{\"_typename\":\"TLatex\",\"fUniqueID\":0,\"fBits\":50331656,\"fName\":\"\",\"fTitle\":\"\",\"fTextAngle\":0,\"fTextSize\":0.03,\"fTextAlign\":11,\"fTextColor\":1,\"fTextFont\":62,\"fX\":0,\"fY\":0,\"fLineColor\":1,\"fLineStyle\":1,\"fLineWidth\":2,\"fLimitFactorSize\":3,\"fOriginSize\":0.04},{\"_typename\":\"TLine\",\"fUniqueID\":0,\"fBits\":50331656,\"fLineColor\":1,\"fLineStyle\":2,\"fLineWidth\":1,\"fX1\":0,\"fY1\":0.95,\"fX2\":109.8,\"fY2\":0.95},{\"_typename\":\"TLine\",\"fUniqueID\":0,\"fBits\":50331656,\"fLineColor\":1,\"fLineStyle\":2,\"fLineWidth\":1,\"fX1\":0,\"fY1\":1,\"fX2\":109.8,\"fY2\":1},{\"_typename\":\"TGraphErrors\",\"fUniqueID\":0,\"fBits\":50332680,\"fName\":\"Graph\",\"fTitle\":\"Fitted line with .95 conf. band\",\"fLineColor\":1,\"fLineStyle\":1,\"fLineWidth\":1,\"fFillColor\":0,\"fFillStyle\":1000,\"fMarkerColor\":1,\"fMarkerStyle\":1,\"fMarkerSize\":1,\"fNpoints\":49,\"fX\":[3,5,7,9,11,13,15,17,19,21,23,25,27,29,31,33,35,37,39,41,43,45,47,49,51,53,55,57,59,61,63,65,67,69,71,73,75,77,79,81,83,85,87,89,91,93,95,97,99],\"fY\":[0,0,0,0,0,0,0,0,0,0,1.93943875938807e-77,0.0577475712099911,0.521899743175252,0.757330479753425,0.876604763396813,0.93703168532474,0.967645265906795,0.983154765417158,0.991012212030344,0.994992963777867,0.997009698380785,0.99803141958235,0.998549045556644,0.998811286027775,0.998944142700575,0.99901145075349,0.999045550463288,0.999062826110969,0.999071578326299,0.999076012387157,0.999078258777921,0.999079396847883,0.999079973418646,0.999080265521817,0.999080413507576,0.999080488480351,0.999080526463174,0.99908054570609,0.999080555454966,0.999080560393957,0.999080562896156,0.999080564163824,0.999080564806052,0.999080565131418,0.999080565296256,0.999080565379766,0.999080565422074,0.999080565443509,0.999080565454368],\"fFunctions\":{\"_typename\":\"TList\",\"name\":\"TList\",\"arr\":[],\"opt\":[]},\"fHistogram\":{\"_typename\":\"TH1F\",\"fUniqueID\":0,\"fBits\":50332168,\"fName\":\"Graph\",\"fTitle\":\"Fitted line with .95 conf. band\",\"fLineColor\":602,\"fLineStyle\":1,\"fLineWidth\":1,\"fFillColor\":0,\"fFillStyle\":1001,\"fMarkerColor\":1,\"fMarkerStyle\":1,\"fMarkerSize\":1,\"fNcells\":102,\"fXaxis\":{\"_typename\":\"TAxis\",\"fUniqueID\":0,\"fBits\":50331648,\"fName\":\"xaxis\",\"fTitle\":\"\",\"fNdivisions\":510,\"fAxisColor\":1,\"fLabelColor\":1,\"fLabelFont\":42,\"fLabelOffset\":0.005,\"fLabelSize\":0.035,\"fTickLength\":0.03,\"fTitleOffset\":1,\"fTitleSize\":0.035,\"fTitleColor\":1,\"fTitleFont\":42,\"fNbins\":100,\"fXmin\":0,\"fXmax\":108.6,\"fXbins\":[],\"fFirst\":0,\"fLast\":0,\"fBits2\":0,\"fTimeDisplay\":false,\"fTimeFormat\":\"\",\"fLabels\":null,\"fModLabs\":null},\"fYaxis\":{\"_typename\":\"TAxis\",\"fUniqueID\":0,\"fBits\":50331648,\"fName\":\"yaxis\",\"fTitle\":\"\",\"fNdivisions\":510,\"fAxisColor\":1,\"fLabelColor\":1,\"fLabelFont\":42,\"fLabelOffset\":0.005,\"fLabelSize\":0.035,\"fTickLength\":0.03,\"fTitleOffset\":0,\"fTitleSize\":0.035,\"fTitleColor\":1,\"fTitleFont\":42,\"fNbins\":1,\"fXmin\":-0.866781532705366,\"fXmax\":1.17085034381797,\"fXbins\":[],\"fFirst\":0,\"fLast\":0,\"fBits2\":0,\"fTimeDisplay\":false,\"fTimeFormat\":\"\",\"fLabels\":null,\"fModLabs\":null},\"fZaxis\":{\"_typename\":\"TAxis\",\"fUniqueID\":0,\"fBits\":50331648,\"fName\":\"zaxis\",\"fTitle\":\"\",\"fNdivisions\":510,\"fAxisColor\":1,\"fLabelColor\":1,\"fLabelFont\":42,\"fLabelOffset\":0.005,\"fLabelSize\":0.035,\"fTickLength\":0.03,\"fTitleOffset\":1,\"fTitleSize\":0.035,\"fTitleColor\":1,\"fTitleFont\":42,\"fNbins\":1,\"fXmin\":0,\"fXmax\":1,\"fXbins\":[],\"fFirst\":0,\"fLast\":0,\"fBits2\":0,\"fTimeDisplay\":false,\"fTimeFormat\":\"\",\"fLabels\":null,\"fModLabs\":null},\"fBarOffset\":0,\"fBarWidth\":1000,\"fEntries\":0,\"fTsumw\":0,\"fTsumw2\":0,\"fTsumwx\":0,\"fTsumwx2\":0,\"fMaximum\":1.17085034381797,\"fMinimum\":-0.866781532705366,\"fNormFactor\":0,\"fContour\":[],\"fSumw2\":[],\"fOption\":\"\",\"fFunctions\":{\"_typename\":\"TList\",\"name\":\"TList\",\"arr\":[],\"opt\":[]},\"fBufferSize\":0,\"fBuffer\":[],\"fBinStatErrOpt\":0,\"fStatOverflows\":2,\"fArray\":[0,0,0,0,0,0,0,0,0,0,0,0,0,0,0,0,0,0,0,0,0,0,0,0,0,0,0,0,0,0,0,0,0,0,0,0,0,0,0,0,0,0,0,0,0,0,0,0,0,0,0,0,0,0,0,0,0,0,0,0,0,0,0,0,0,0,0,0,0,0,0,0,0,0,0,0,0,0,0,0,0,0,0,0,0,0,0,0,0,0,0,0,0,0,0,0,0,0,0,0,0,0]},\"fMinimum\":-1111,\"fMaximum\":-1111,\"fEX\":[0,0,0,0,0,0,0,0,0,0,0,0,0,0,0,0,0,0,0,0,0,0,0,0,0,0,0,0,0,0,0,0,0,0,0,0,0,0,0,0,0,0,0,0,0,0,0,0,0],\"fEY\":[0,0,0,0,0,0,0,0,0,0,8.92998261718692e-75,0.754726447538412,0.325838497321636,0.140350149735345,0.0686446788424473,0.0390525613563235,0.0239493265734951,0.0148016635751496,0.00901881411796719,0.005462649302441,0.00342940240968809,0.00242531927031141,0.00204119205929707,0.00193946767026613,0.00192936206910621,0.00193943070963276,0.0019498899294704,0.00195712510575879,0.00196152547593082,0.00196405074682714,0.00196545663168564,0.00196622588768529,0.00196664235918392,0.00196686627188759,0.00196698606969157,0.00196704992900456,0.00196708387026278,0.00196710186598952,0.00196711138723232,0.001967116415287,0.00196711906605191,0.00196712046134631,0.00196712119476239,0.00196712157981065,0.00196712178166701,0.00196712188734032,0.00196712194266336,0.00196712197156111,0.00196712198665879]}],\"opt\":[\"\",\"pa\",\"same\",\"same\",\"same\",\"same\",\"\"]},\"fExecs\":null,\"fName\":\"c_83a104\",\"fTitle\":\"c_83a104\",\"fNumPaletteColor\":0,\"fNextPaletteColor\":0,\"fDISPLAY\":\"$DISPLAY\",\"fDoubleBuffer\":0,\"fRetained\":true,\"fXsizeUser\":0,\"fYsizeUser\":0,\"fXsizeReal\":20,\"fYsizeReal\":15,\"fWindowTopX\":0,\"fWindowTopY\":0,\"fWindowWidth\":0,\"fWindowHeight\":0,\"fCw\":796,\"fCh\":572,\"fCatt\":{\"_typename\":\"TAttCanvas\",\"fXBetween\":2,\"fYBetween\":2,\"fTitleFromTop\":1.2,\"fXdate\":0.2,\"fYdate\":0.3,\"fAdate\":1},\"kMoveOpaque\":true,\"kResizeOpaque\":true,\"fHighLightColor\":2,\"fBatch\":true,\"kShowEventStatus\":false,\"kAutoExec\":true,\"kMenuBar\":true});\n",
       "       Core.draw(\"root_plot_33\", obj, \"\");\n",
       "     }\n",
       " );\n",
       "</script>\n"
      ],
      "text/plain": [
       "<IPython.core.display.HTML object>"
      ]
     },
     "metadata": {},
     "output_type": "display_data"
    },
    {
     "data": {
      "text/html": [
       "\n",
       "<div id=\"root_plot_34\"\n",
       "     style=\"width: 796px; height: 572px\">\n",
       "</div>\n",
       "\n",
       "<script>\n",
       " requirejs.config({\n",
       "     paths: {\n",
       "       'JSRootCore' : 'https://root.cern.ch/js/notebook//scripts/JSRootCore',\n",
       "     }\n",
       "   });\n",
       " require(['JSRootCore'],\n",
       "     function(Core) {\n",
       "       var obj = Core.JSONR_unref({\"_typename\":\"TCanvas\",\"fUniqueID\":0,\"fBits\":53673992,\"fLineColor\":1,\"fLineStyle\":1,\"fLineWidth\":1,\"fFillColor\":0,\"fFillStyle\":1001,\"fLeftMargin\":0.13,\"fRightMargin\":0.3,\"fBottomMargin\":0.13,\"fTopMargin\":0.1,\"fXfile\":2,\"fYfile\":2,\"fAfile\":1,\"fXstat\":0.99,\"fYstat\":0.99,\"fAstat\":2,\"fFrameFillColor\":0,\"fFrameLineColor\":1,\"fFrameFillStyle\":1001,\"fFrameLineStyle\":1,\"fFrameLineWidth\":1,\"fFrameBorderSize\":1,\"fFrameBorderMode\":0,\"fX1\":-25.0421046588559,\"fY1\":-0.185714283502611,\"fX2\":167.58947670572,\"fY2\":1.24285714852456,\"fXtoAbsPixelk\":103.480046204376,\"fXtoPixelk\":103.480046204376,\"fXtoPixel\":4.13224038530569,\"fYtoAbsPixelk\":497.640051065433,\"fYtoPixelk\":497.640051065433,\"fYtoPixel\":-400.399999031424,\"fUtoAbsPixelk\":5e-5,\"fUtoPixelk\":5e-5,\"fUtoPixel\":796,\"fVtoAbsPixelk\":572.00005,\"fVtoPixelk\":572,\"fVtoPixel\":-572,\"fAbsPixeltoXk\":-25.0421046588559,\"fPixeltoXk\":-25.0421046588559,\"fPixeltoX\":0.241999474076101,\"fAbsPixeltoYk\":1.24285714852456,\"fPixeltoYk\":-0.185714283502611,\"fPixeltoY\":-0.00249750250354401,\"fXlowNDC\":0,\"fYlowNDC\":0,\"fXUpNDC\":0,\"fYUpNDC\":0,\"fWNDC\":1,\"fHNDC\":1,\"fAbsXlowNDC\":0,\"fAbsYlowNDC\":0,\"fAbsWNDC\":1,\"fAbsHNDC\":1,\"fUxmin\":0,\"fUymin\":0,\"fUxmax\":109.8,\"fUymax\":1.1,\"fTheta\":30,\"fPhi\":30,\"fAspectRatio\":0,\"fNumber\":0,\"fTickx\":0,\"fTicky\":0,\"fLogx\":0,\"fLogy\":0,\"fLogz\":0,\"fPadPaint\":0,\"fCrosshair\":0,\"fCrosshairPos\":0,\"fBorderSize\":2,\"fBorderMode\":0,\"fModified\":false,\"fGridx\":false,\"fGridy\":false,\"fAbsCoord\":false,\"fEditable\":true,\"fFixedAspectRatio\":false,\"fPrimitives\":{\"_typename\":\"TList\",\"name\":\"TList\",\"arr\":[{\"_typename\":\"TFrame\",\"fUniqueID\":0,\"fBits\":50331656,\"fLineColor\":1,\"fLineStyle\":1,\"fLineWidth\":1,\"fFillColor\":0,\"fFillStyle\":1001,\"fX1\":0,\"fY1\":0,\"fX2\":109.8,\"fY2\":1.1,\"fBorderSize\":1,\"fBorderMode\":0},{\"_typename\":\"TGraphAsymmErrors\",\"fUniqueID\":0,\"fBits\":50332680,\"fName\":\"b8cc3c\",\"fTitle\":\"; p_{T}^{GEN} [GeV];\",\"fLineColor\":1,\"fLineStyle\":1,\"fLineWidth\":1,\"fFillColor\":0,\"fFillStyle\":1001,\"fMarkerColor\":1,\"fMarkerStyle\":8,\"fMarkerSize\":0.5,\"fNpoints\":49,\"fX\":[3,5,7,9,11,13,15,17,19,21,23,25,27,29,31,33,35,37,39,41,43,45,47,49,51,53,55,57,59,61,63,65,67,69,71,73,75,77,79,81,83,85,87,89,91,93,95,97,99],\"fY\":[0,0,0,0,0,0,0,0,0,0,0,0,0,0.0124555160142349,0.223613595706619,0.620758483033932,0.828719723183391,0.914965986394558,0.968476357267951,0.983240223463687,0.987012987012987,0.983298538622129,0.994661921708185,0.996268656716418,0.998293515358362,1,1,1,0.996146435452794,1,1,1,1,1,0.998185117967332,1,1,1,1,1,0.998236331569665,1,1,1,0.998178506375228,1,1,1,1],\"fFunctions\":{\"_typename\":\"TList\",\"name\":\"TList\",\"arr\":[{\"_typename\":\"TF1\",\"fUniqueID\":0,\"fBits\":50332680,\"fName\":\"tf_yc\",\"fTitle\":\"tf_yc\",\"fLineColor\":6,\"fLineStyle\":1,\"fLineWidth\":2,\"fFillColor\":19,\"fFillStyle\":0,\"fMarkerColor\":1,\"fMarkerStyle\":1,\"fMarkerSize\":1,\"fXmin\":0,\"fXmax\":100,\"fNpar\":5,\"fNdim\":1,\"fNpx\":100,\"fType\":1,\"fNpfits\":49,\"fNDF\":45,\"fChisquare\":8.35548820510386,\"fMinimum\":-1111,\"fMaximum\":-1111,\"fParErrors\":[0.0346459475322981,0.644766635168285,0.708170692738567,5.4908470534315e-4,0],\"fParMin\":[0,0,0.1,0.9,1],\"fParMax\":[1,50,1,1,1],\"fSave\":[0,0,0,0,0,9.20316457612965e-298,1.27460822931189e-274,1.99062882990071e-252,3.5068045998649e-231,6.9709625079948e-211,1.5642570947793e-191,3.96422803561348e-173,1.13521314169656e-155,3.67567585507001e-139,1.34666548393858e-123,5.58763582807318e-109,2.628472244992e-95,1.40361261822329e-82,8.52222742488967e-71,5.89509064918932e-60,4.65767739682648e-50,4.21732228645342e-41,4.39567464902351e-33,5.30633098853325e-26,7.48395949006627e-20,1.24931527432391e-14,2.51916233839243e-10,6.34877870977894e-7,2.12717375871627e-4,0.0107010566475284,0.103879092278514,0.309760796082215,0.503686377358933,0.645215890452547,0.746324330648844,0.818532907385661,0.870102043986944,0.90693112952591,0.933233325587939,0.952017542126615,0.965432649752601,0.975013305525293,0.98185551414515,0.986742008338072,0.990231791655722,0.992724087179534,0.994504007711159,0.995775172012757,0.996682998319015,0.997331339844416,0.997794365349033,0.998125043871888,0.99836120426562,0.99852986272909,0.998650313397598,0.998736335547009,0.998797769910811,0.998841644437099,0.998872978269468,0.998895355925342,0.998911337356419,0.998922750801185,0.998930901931129,0.998936723216529,0.998940880598871,0.998943849673011,0.998945970094114,0.998947484433412,0.998948565927795,0.9989493382977,0.998949889900445,0.998950283838099,0.998950565176211,0.998950766099207,0.998950909592208,0.99895101207048,0.998951085257299,0.998951137525066,0.998951174853092,0.998951201511615,0.99895122055031,0.998951234147158,0.998951243857607,0.998951250792511,0.998951255745204,0.998951259282265,0.998951261808325,0.998951263612359,0.998951264900744,0.998951265820869,0.998951266477994,0.998951266947293,0.998951267282451,0.998951267521811,0.998951267692754,0.998951267814837,0.998951267902024,0.998951267964291,0.99895126800876,0.998951268040518,0.998951268063199,0,100],\"fNormalized\":false,\"fNormIntegral\":0,\"fFormula\":null,\"fParams\":{\"_typename\":\"TF1Parameters\",\"fParameters\":[0.336635464750238,29.8390797622422,0.676366984217785,0.998951268119868,0],\"fParNames\":[\"#lambda\",\"#mu\",\"#sigma\",\"Plateau\",\"Baseline\"]},\"fComposition_ptr\":null},{\"_typename\":\"TPaveStats\",\"fUniqueID\":0,\"fBits\":50462729,\"fLineColor\":1,\"fLineStyle\":1,\"fLineWidth\":1,\"fFillColor\":0,\"fFillStyle\":1001,\"fX1\":94.3894784279808,\"fY1\":0.692857160818019,\"fX2\":163.736848752585,\"fY2\":1.15000000884877,\"fX1NDC\":0.620000013709068,\"fY1NDC\":0.615000009536743,\"fX2NDC\":0.980000019073486,\"fY2NDC\":0.935000002384186,\"fBorderSize\":1,\"fInit\":1,\"fShadowColor\":1,\"fCornerRadius\":0,\"fOption\":\"brNDC\",\"fName\":\"stats\",\"fTextAngle\":0,\"fTextSize\":0,\"fTextAlign\":12,\"fTextColor\":1,\"fTextFont\":42,\"fLabel\":\"\",\"fLongest\":31,\"fMargin\":0.05,\"fLines\":{\"_typename\":\"TList\",\"name\":\"TList\",\"arr\":[{\"_typename\":\"TLatex\",\"fUniqueID\":0,\"fBits\":50331648,\"fName\":\"\",\"fTitle\":\"#chi^{2} \\/ ndf = 8.355 \\/ 45\",\"fTextAngle\":0,\"fTextSize\":0,\"fTextAlign\":0,\"fTextColor\":0,\"fTextFont\":0,\"fX\":0,\"fY\":0,\"fLineColor\":1,\"fLineStyle\":1,\"fLineWidth\":2,\"fLimitFactorSize\":3,\"fOriginSize\":0.04},{\"_typename\":\"TLatex\",\"fUniqueID\":0,\"fBits\":50331648,\"fName\":\"\",\"fTitle\":\"Prob  =     1\",\"fTextAngle\":0,\"fTextSize\":0,\"fTextAlign\":0,\"fTextColor\":0,\"fTextFont\":0,\"fX\":0,\"fY\":0,\"fLineColor\":1,\"fLineStyle\":1,\"fLineWidth\":2,\"fLimitFactorSize\":3,\"fOriginSize\":0.04},{\"_typename\":\"TLatex\",\"fUniqueID\":0,\"fBits\":50331648,\"fName\":\"\",\"fTitle\":\"#lambda  = 0.3366 #pm 0.03465 \",\"fTextAngle\":0,\"fTextSize\":0,\"fTextAlign\":0,\"fTextColor\":0,\"fTextFont\":0,\"fX\":0,\"fY\":0,\"fLineColor\":1,\"fLineStyle\":1,\"fLineWidth\":2,\"fLimitFactorSize\":3,\"fOriginSize\":0.04},{\"_typename\":\"TLatex\",\"fUniqueID\":0,\"fBits\":50331648,\"fName\":\"\",\"fTitle\":\"#mu      = 29.84 #pm 0.6448 \",\"fTextAngle\":0,\"fTextSize\":0,\"fTextAlign\":0,\"fTextColor\":0,\"fTextFont\":0,\"fX\":0,\"fY\":0,\"fLineColor\":1,\"fLineStyle\":1,\"fLineWidth\":2,\"fLimitFactorSize\":3,\"fOriginSize\":0.04},{\"_typename\":\"TLatex\",\"fUniqueID\":0,\"fBits\":50331648,\"fName\":\"\",\"fTitle\":\"#sigma   = 0.6764 #pm 0.7082 \",\"fTextAngle\":0,\"fTextSize\":0,\"fTextAlign\":0,\"fTextColor\":0,\"fTextFont\":0,\"fX\":0,\"fY\":0,\"fLineColor\":1,\"fLineStyle\":1,\"fLineWidth\":2,\"fLimitFactorSize\":3,\"fOriginSize\":0.04},{\"_typename\":\"TLatex\",\"fUniqueID\":0,\"fBits\":50331648,\"fName\":\"\",\"fTitle\":\"Plateau  = 0.999 #pm 0.0005491 \",\"fTextAngle\":0,\"fTextSize\":0,\"fTextAlign\":0,\"fTextColor\":0,\"fTextFont\":0,\"fX\":0,\"fY\":0,\"fLineColor\":1,\"fLineStyle\":1,\"fLineWidth\":2,\"fLimitFactorSize\":3,\"fOriginSize\":0.04},{\"_typename\":\"TLatex\",\"fUniqueID\":0,\"fBits\":50331648,\"fName\":\"\",\"fTitle\":\"Baseline =     0 #pm     0 \",\"fTextAngle\":0,\"fTextSize\":0,\"fTextAlign\":0,\"fTextColor\":0,\"fTextFont\":0,\"fX\":0,\"fY\":0,\"fLineColor\":1,\"fLineStyle\":1,\"fLineWidth\":2,\"fLimitFactorSize\":3,\"fOriginSize\":0.04}],\"opt\":[\"\",\"\",\"\",\"\",\"\",\"\",\"\"]},\"fOptFit\":11111,\"fOptStat\":0,\"fFitFormat\":\"5.4g\",\"fStatFormat\":\"6.4g\",\"fParent\":{\"$ref\":4}}],\"opt\":[\"\",\"brNDC\"]},\"fHistogram\":{\"_typename\":\"TH1F\",\"fUniqueID\":0,\"fBits\":50331648,\"fName\":\"b8cc3c\",\"fTitle\":\"\",\"fLineColor\":602,\"fLineStyle\":1,\"fLineWidth\":1,\"fFillColor\":0,\"fFillStyle\":1001,\"fMarkerColor\":1,\"fMarkerStyle\":1,\"fMarkerSize\":1,\"fNcells\":102,\"fXaxis\":{\"_typename\":\"TAxis\",\"fUniqueID\":0,\"fBits\":50331656,\"fName\":\"xaxis\",\"fTitle\":\" p_{T}^{GEN} [GeV]\",\"fNdivisions\":510,\"fAxisColor\":1,\"fLabelColor\":1,\"fLabelFont\":42,\"fLabelOffset\":0.005,\"fLabelSize\":0.035,\"fTickLength\":0.03,\"fTitleOffset\":1.4,\"fTitleSize\":0.035,\"fTitleColor\":1,\"fTitleFont\":42,\"fNbins\":100,\"fXmin\":0,\"fXmax\":109.8,\"fXbins\":[],\"fFirst\":0,\"fLast\":0,\"fBits2\":0,\"fTimeDisplay\":false,\"fTimeFormat\":\"\",\"fLabels\":null,\"fModLabs\":null},\"fYaxis\":{\"_typename\":\"TAxis\",\"fUniqueID\":0,\"fBits\":50331656,\"fName\":\"yaxis\",\"fTitle\":\"L1 matched to GEN and p_{T}>th.\\/L1 matched to GEN\",\"fNdivisions\":510,\"fAxisColor\":1,\"fLabelColor\":1,\"fLabelFont\":42,\"fLabelOffset\":0.005,\"fLabelSize\":0.035,\"fTickLength\":0.03,\"fTitleOffset\":0,\"fTitleSize\":0.035,\"fTitleColor\":1,\"fTitleFont\":42,\"fNbins\":1,\"fXmin\":0,\"fXmax\":1.1,\"fXbins\":[],\"fFirst\":0,\"fLast\":0,\"fBits2\":0,\"fTimeDisplay\":false,\"fTimeFormat\":\"\",\"fLabels\":null,\"fModLabs\":null},\"fZaxis\":{\"_typename\":\"TAxis\",\"fUniqueID\":0,\"fBits\":50331648,\"fName\":\"zaxis\",\"fTitle\":\"\",\"fNdivisions\":510,\"fAxisColor\":1,\"fLabelColor\":1,\"fLabelFont\":42,\"fLabelOffset\":0.005,\"fLabelSize\":0.035,\"fTickLength\":0.03,\"fTitleOffset\":1,\"fTitleSize\":0.035,\"fTitleColor\":1,\"fTitleFont\":42,\"fNbins\":1,\"fXmin\":0,\"fXmax\":1,\"fXbins\":[],\"fFirst\":0,\"fLast\":0,\"fBits2\":0,\"fTimeDisplay\":false,\"fTimeFormat\":\"\",\"fLabels\":null,\"fModLabs\":null},\"fBarOffset\":0,\"fBarWidth\":1000,\"fEntries\":0,\"fTsumw\":0,\"fTsumw2\":0,\"fTsumwx\":0,\"fTsumwx2\":0,\"fMaximum\":1.1,\"fMinimum\":0,\"fNormFactor\":0,\"fContour\":[],\"fSumw2\":[],\"fOption\":\"\",\"fFunctions\":{\"_typename\":\"TList\",\"name\":\"TList\",\"arr\":[],\"opt\":[]},\"fBufferSize\":0,\"fBuffer\":[],\"fBinStatErrOpt\":0,\"fStatOverflows\":2,\"fArray\":[0,0,0,0,0,0,0,0,0,0,0,0,0,0,0,0,0,0,0,0,0,0,0,0,0,0,0,0,0,0,0,0,0,0,0,0,0,0,0,0,0,0,0,0,0,0,0,0,0,0,0,0,0,0,0,0,0,0,0,0,0,0,0,0,0,0,0,0,0,0,0,0,0,0,0,0,0,0,0,0,0,0,0,0,0,0,0,0,0,0,0,0,0,0,0,0,0,0,0,0,0,0]},\"fMinimum\":-1111,\"fMaximum\":-1111,\"fEXlow\":[1,1,1,1,1,1,1,1,1,1,1,1,1,1,1,1,1,1,1,1,1,1,1,1,1,1,1,1,1,1,1,1,1,1,1,1,1,1,1,1,1,1,1,1,1,1,1,1,1],\"fEXhigh\":[1,1,1,1,1,1,1,1,1,1,1,1,1,1,1,1,1,1,1,1,1,1,1,1,1,1,1,1,1,1,1,1,1,1,1,1,1,1,1,1,1,1,1,1,1,1,1,1,1],\"fEYlow\":[0,0,0,0,0,0,0,0,0,0,0,0,0,0.00458224906380351,0.0179858058929791,0.0229041265732677,0.0171271949012902,0.0131135234227056,0.00912771630313558,0.00756048841067813,0.00692504391373783,0.00813343153788737,0.00516518057333282,0.00490010828148568,0.00391307032908195,0.00363177180340413,0.00346759968683441,0.00329388516268869,0.00505989391070327,0.00323031020388143,0.00320221671456578,0.00345458614095473,0.00352739487057507,0.00344166990678307,0.00416088718716279,0.00335389164746014,0.00323031020388143,0.00336001276404729,0.00351392951655349,0.00357534734320342,0.00404381431912104,0.00349392314601682,0.00346108068132667,0.00325890099174631,0.00417599965672255,0.00352064931846152,0.00328214061364762,0.00353416632119274,0.00365339285463007],\"fEYhigh\":[0.0204731563007113,0.00664817075517102,0.00427229336386818,0.00355463756421048,0.00327629969013888,0.0038441021671747,0.00344811592825358,0.00342247564062798,0.00341612503995261,0.00336615626450458,0.00330571406500252,0.00329978901298842,0.00347414329597734,0.00664437962969701,0.0190237224095913,0.02240048851085,0.0159282146496909,0.0115992005037163,0.00729205652435894,0.00546076868963652,0.00477728404605138,0.00575922332143697,0.00290379596154822,0.00240974151247431,0.00141172642069243,0,0,0,0.00248866110621115,0,0,0,0,0,0.00150140344772509,0,0,0,0,0,0.00145903445440587,0,0,0,0.00150687322100829,0,0,0,0]},{\"_typename\":\"TLatex\",\"fUniqueID\":0,\"fBits\":50348040,\"fName\":\"\",\"fTitle\":\"PU0, EG, hwQual 5, p_{T}^{L1}>=30GeV, 1.52 < |#eta^{GEN}| <= 2.4\",\"fTextAngle\":0,\"fTextSize\":0.03,\"fTextAlign\":11,\"fTextColor\":1,\"fTextFont\":62,\"fX\":0.15,\"fY\":0.85,\"fLineColor\":1,\"fLineStyle\":1,\"fLineWidth\":2,\"fLimitFactorSize\":3,\"fOriginSize\":0.04},{\"_typename\":\"TLatex\",\"fUniqueID\":0,\"fBits\":50331656,\"fName\":\"\",\"fTitle\":\"\",\"fTextAngle\":0,\"fTextSize\":0.03,\"fTextAlign\":11,\"fTextColor\":1,\"fTextFont\":62,\"fX\":0,\"fY\":0,\"fLineColor\":1,\"fLineStyle\":1,\"fLineWidth\":2,\"fLimitFactorSize\":3,\"fOriginSize\":0.04},{\"_typename\":\"TLine\",\"fUniqueID\":0,\"fBits\":50331656,\"fLineColor\":1,\"fLineStyle\":2,\"fLineWidth\":1,\"fX1\":0,\"fY1\":0.95,\"fX2\":109.8,\"fY2\":0.95},{\"_typename\":\"TLine\",\"fUniqueID\":0,\"fBits\":50331656,\"fLineColor\":1,\"fLineStyle\":2,\"fLineWidth\":1,\"fX1\":0,\"fY1\":1,\"fX2\":109.8,\"fY2\":1},{\"_typename\":\"TGraphErrors\",\"fUniqueID\":0,\"fBits\":50332680,\"fName\":\"Graph\",\"fTitle\":\"Fitted line with .95 conf. band\",\"fLineColor\":1,\"fLineStyle\":1,\"fLineWidth\":1,\"fFillColor\":0,\"fFillStyle\":1000,\"fMarkerColor\":1,\"fMarkerStyle\":1,\"fMarkerSize\":1,\"fNpoints\":49,\"fX\":[3,5,7,9,11,13,15,17,19,21,23,25,27,29,31,33,35,37,39,41,43,45,47,49,51,53,55,57,59,61,63,65,67,69,71,73,75,77,79,81,83,85,87,89,91,93,95,97,99],\"fY\":[0,9.20316457612965e-298,1.99062882990071e-252,6.9709625079948e-211,3.96422803561348e-173,3.67567585507001e-139,5.58763582807318e-109,1.40361261822329e-82,5.89509064918932e-60,4.21732228645342e-41,5.30633098853325e-26,1.24931527432391e-14,6.34877870977894e-7,0.0107010566475284,0.309760796082215,0.645215890452547,0.818532907385661,0.90693112952591,0.952017542126615,0.975013305525293,0.986742008338072,0.992724087179534,0.995775172012757,0.997331339844416,0.998125043871888,0.99852986272909,0.998736335547009,0.998841644437099,0.998895355925342,0.998922750801185,0.998936723216529,0.998943849673011,0.998947484433412,0.9989493382977,0.998950283838099,0.998950766099207,0.99895101207048,0.998951137525066,0.998951201511615,0.998951234147158,0.998951250792511,0.998951259282265,0.998951263612359,0.998951265820869,0.998951266947293,0.998951267521811,0.998951267814837,0.998951267964291,0.998951268040518],\"fFunctions\":{\"_typename\":\"TList\",\"name\":\"TList\",\"arr\":[],\"opt\":[]},\"fHistogram\":{\"_typename\":\"TH1F\",\"fUniqueID\":0,\"fBits\":50332168,\"fName\":\"Graph\",\"fTitle\":\"Fitted line with .95 conf. band\",\"fLineColor\":602,\"fLineStyle\":1,\"fLineWidth\":1,\"fFillColor\":0,\"fFillStyle\":1001,\"fMarkerColor\":1,\"fMarkerStyle\":1,\"fMarkerSize\":1,\"fNcells\":102,\"fXaxis\":{\"_typename\":\"TAxis\",\"fUniqueID\":0,\"fBits\":50331648,\"fName\":\"xaxis\",\"fTitle\":\"\",\"fNdivisions\":510,\"fAxisColor\":1,\"fLabelColor\":1,\"fLabelFont\":42,\"fLabelOffset\":0.005,\"fLabelSize\":0.035,\"fTickLength\":0.03,\"fTitleOffset\":1,\"fTitleSize\":0.035,\"fTitleColor\":1,\"fTitleFont\":42,\"fNbins\":100,\"fXmin\":0,\"fXmax\":108.6,\"fXbins\":[],\"fFirst\":0,\"fLast\":0,\"fBits2\":0,\"fTimeDisplay\":false,\"fTimeFormat\":\"\",\"fLabels\":null,\"fModLabs\":null},\"fYaxis\":{\"_typename\":\"TAxis\",\"fUniqueID\":0,\"fBits\":50331648,\"fName\":\"yaxis\",\"fTitle\":\"\",\"fNdivisions\":510,\"fAxisColor\":1,\"fLabelColor\":1,\"fLabelFont\":42,\"fLabelOffset\":0.005,\"fLabelSize\":0.035,\"fTickLength\":0.03,\"fTitleOffset\":0,\"fTitleSize\":0.035,\"fTitleColor\":1,\"fTitleFont\":42,\"fNbins\":1,\"fXmin\":-0.301688697576102,\"fXmax\":1.11962621486221,\"fXbins\":[],\"fFirst\":0,\"fLast\":0,\"fBits2\":0,\"fTimeDisplay\":false,\"fTimeFormat\":\"\",\"fLabels\":null,\"fModLabs\":null},\"fZaxis\":{\"_typename\":\"TAxis\",\"fUniqueID\":0,\"fBits\":50331648,\"fName\":\"zaxis\",\"fTitle\":\"\",\"fNdivisions\":510,\"fAxisColor\":1,\"fLabelColor\":1,\"fLabelFont\":42,\"fLabelOffset\":0.005,\"fLabelSize\":0.035,\"fTickLength\":0.03,\"fTitleOffset\":1,\"fTitleSize\":0.035,\"fTitleColor\":1,\"fTitleFont\":42,\"fNbins\":1,\"fXmin\":0,\"fXmax\":1,\"fXbins\":[],\"fFirst\":0,\"fLast\":0,\"fBits2\":0,\"fTimeDisplay\":false,\"fTimeFormat\":\"\",\"fLabels\":null,\"fModLabs\":null},\"fBarOffset\":0,\"fBarWidth\":1000,\"fEntries\":0,\"fTsumw\":0,\"fTsumw2\":0,\"fTsumwx\":0,\"fTsumwx2\":0,\"fMaximum\":1.11962621486221,\"fMinimum\":-0.301688697576102,\"fNormFactor\":0,\"fContour\":[],\"fSumw2\":[],\"fOption\":\"\",\"fFunctions\":{\"_typename\":\"TList\",\"name\":\"TList\",\"arr\":[],\"opt\":[]},\"fBufferSize\":0,\"fBuffer\":[],\"fBinStatErrOpt\":0,\"fStatOverflows\":2,\"fArray\":[0,0,0,0,0,0,0,0,0,0,0,0,0,0,0,0,0,0,0,0,0,0,0,0,0,0,0,0,0,0,0,0,0,0,0,0,0,0,0,0,0,0,0,0,0,0,0,0,0,0,0,0,0,0,0,0,0,0,0,0,0,0,0,0,0,0,0,0,0,0,0,0,0,0,0,0,0,0,0,0,0,0,0,0,0,0,0,0,0,0,0,0,0,0,0,0,0,0,0,0,0,0]},\"fMinimum\":-1111,\"fMaximum\":-1111,\"fEX\":[0,0,0,0,0,0,0,0,0,0,0,0,0,0,0,0,0,0,0,0,0,0,0,0,0,0,0,0,0,0,0,0,0,0,0,0,0,0,0,0,0,0,0,0,0,0,0,0,0],\"fEY\":[0,0,0,0,0,7.30407891865459e-136,8.61667885379349e-106,1.61796092933878e-79,4.83403397299769e-57,2.29561706533305e-38,1.72849757556194e-23,2.05118924684372e-12,3.76897777542085e-5,0.104384652161852,0.493006584288458,0.239778816543247,0.108438041079205,0.0583597405989634,0.0357071198797156,0.0225077062356594,0.0139603766042791,0.00845921831281858,0.00508930614450241,0.00320988682140608,0.00234572279863964,0.00206691983507039,0.0020242730796567,0.00204305019244741,0.00206722190611047,0.00208484333933672,0.00209584738854438,0.00210227609324517,0.00210590574199742,0.0021079157823297,0.00210901583129832,0.00210961322220835,0.00210993588560291,0.00211010945728907,0.0021102025276558,0.00211025229948265,0.0021102788552245,0.00211029299532859,0.00211030051072968,0.0021103044986445,0.00211030661140329,0.00211030772918137,0.00211030831979479,0.00211030863155614,0.00211030879587443]}],\"opt\":[\"\",\"pa\",\"same\",\"same\",\"same\",\"same\",\"\"]},\"fExecs\":null,\"fName\":\"c_415b11\",\"fTitle\":\"c_415b11\",\"fNumPaletteColor\":0,\"fNextPaletteColor\":0,\"fDISPLAY\":\"$DISPLAY\",\"fDoubleBuffer\":0,\"fRetained\":true,\"fXsizeUser\":0,\"fYsizeUser\":0,\"fXsizeReal\":20,\"fYsizeReal\":15,\"fWindowTopX\":0,\"fWindowTopY\":0,\"fWindowWidth\":0,\"fWindowHeight\":0,\"fCw\":796,\"fCh\":572,\"fCatt\":{\"_typename\":\"TAttCanvas\",\"fXBetween\":2,\"fYBetween\":2,\"fTitleFromTop\":1.2,\"fXdate\":0.2,\"fYdate\":0.3,\"fAdate\":1},\"kMoveOpaque\":true,\"kResizeOpaque\":true,\"fHighLightColor\":2,\"fBatch\":true,\"kShowEventStatus\":false,\"kAutoExec\":true,\"kMenuBar\":true});\n",
       "       Core.draw(\"root_plot_34\", obj, \"\");\n",
       "     }\n",
       " );\n",
       "</script>\n"
      ],
      "text/plain": [
       "<IPython.core.display.HTML object>"
      ]
     },
     "metadata": {},
     "output_type": "display_data"
    },
    {
     "data": {
      "text/html": [
       "\n",
       "<div id=\"root_plot_35\"\n",
       "     style=\"width: 796px; height: 572px\">\n",
       "</div>\n",
       "\n",
       "<script>\n",
       " requirejs.config({\n",
       "     paths: {\n",
       "       'JSRootCore' : 'https://root.cern.ch/js/notebook//scripts/JSRootCore',\n",
       "     }\n",
       "   });\n",
       " require(['JSRootCore'],\n",
       "     function(Core) {\n",
       "       var obj = Core.JSONR_unref({\"_typename\":\"TCanvas\",\"fUniqueID\":0,\"fBits\":53673992,\"fLineColor\":1,\"fLineStyle\":1,\"fLineWidth\":1,\"fFillColor\":0,\"fFillStyle\":1001,\"fLeftMargin\":0.13,\"fRightMargin\":0.3,\"fBottomMargin\":0.13,\"fTopMargin\":0.1,\"fXfile\":2,\"fYfile\":2,\"fAfile\":1,\"fXstat\":0.99,\"fYstat\":0.99,\"fAstat\":2,\"fFrameFillColor\":0,\"fFrameLineColor\":1,\"fFrameFillStyle\":1001,\"fFrameLineStyle\":1,\"fFrameLineWidth\":1,\"fFrameBorderSize\":1,\"fFrameBorderMode\":0,\"fX1\":-25.0421046588559,\"fY1\":-0.185714283502611,\"fX2\":167.58947670572,\"fY2\":1.24285714852456,\"fXtoAbsPixelk\":103.480046204376,\"fXtoPixelk\":103.480046204376,\"fXtoPixel\":4.13224038530569,\"fYtoAbsPixelk\":497.640051065433,\"fYtoPixelk\":497.640051065433,\"fYtoPixel\":-400.399999031424,\"fUtoAbsPixelk\":5e-5,\"fUtoPixelk\":5e-5,\"fUtoPixel\":796,\"fVtoAbsPixelk\":572.00005,\"fVtoPixelk\":572,\"fVtoPixel\":-572,\"fAbsPixeltoXk\":-25.0421046588559,\"fPixeltoXk\":-25.0421046588559,\"fPixeltoX\":0.241999474076101,\"fAbsPixeltoYk\":1.24285714852456,\"fPixeltoYk\":-0.185714283502611,\"fPixeltoY\":-0.00249750250354401,\"fXlowNDC\":0,\"fYlowNDC\":0,\"fXUpNDC\":0,\"fYUpNDC\":0,\"fWNDC\":1,\"fHNDC\":1,\"fAbsXlowNDC\":0,\"fAbsYlowNDC\":0,\"fAbsWNDC\":1,\"fAbsHNDC\":1,\"fUxmin\":0,\"fUymin\":0,\"fUxmax\":109.8,\"fUymax\":1.1,\"fTheta\":30,\"fPhi\":30,\"fAspectRatio\":0,\"fNumber\":0,\"fTickx\":0,\"fTicky\":0,\"fLogx\":0,\"fLogy\":0,\"fLogz\":0,\"fPadPaint\":0,\"fCrosshair\":0,\"fCrosshairPos\":0,\"fBorderSize\":2,\"fBorderMode\":0,\"fModified\":false,\"fGridx\":false,\"fGridy\":false,\"fAbsCoord\":false,\"fEditable\":true,\"fFixedAspectRatio\":false,\"fPrimitives\":{\"_typename\":\"TList\",\"name\":\"TList\",\"arr\":[{\"_typename\":\"TFrame\",\"fUniqueID\":0,\"fBits\":50331656,\"fLineColor\":1,\"fLineStyle\":1,\"fLineWidth\":1,\"fFillColor\":0,\"fFillStyle\":1001,\"fX1\":0,\"fY1\":0,\"fX2\":109.8,\"fY2\":1.1,\"fBorderSize\":1,\"fBorderMode\":0},{\"_typename\":\"TGraphAsymmErrors\",\"fUniqueID\":0,\"fBits\":50332680,\"fName\":\"ada9b3\",\"fTitle\":\"; p_{T}^{GEN} [GeV];\",\"fLineColor\":1,\"fLineStyle\":1,\"fLineWidth\":1,\"fFillColor\":0,\"fFillStyle\":1001,\"fMarkerColor\":1,\"fMarkerStyle\":8,\"fMarkerSize\":0.5,\"fNpoints\":49,\"fX\":[3,5,7,9,11,13,15,17,19,21,23,25,27,29,31,33,35,37,39,41,43,45,47,49,51,53,55,57,59,61,63,65,67,69,71,73,75,77,79,81,83,85,87,89,91,93,95,97,99],\"fY\":[0,0,0,0,0,0,0,0,0,0,0,0,0,0,0,0,0,0,0.0192644483362522,0.202979515828678,0.565862708719852,0.807933194154488,0.895017793594306,0.942164179104478,0.972696245733788,0.978260869565217,0.983018867924528,0.992831541218638,0.996146435452794,0.996485061511424,0.996515679442509,1,1,1,0.998185117967332,1,1,1,1,1,0.998236331569665,1,1,1,0.998178506375228,1,1,1,1],\"fFunctions\":{\"_typename\":\"TList\",\"name\":\"TList\",\"arr\":[{\"_typename\":\"TF1\",\"fUniqueID\":0,\"fBits\":50332680,\"fName\":\"tf_yc\",\"fTitle\":\"tf_yc\",\"fLineColor\":6,\"fLineStyle\":1,\"fLineWidth\":2,\"fFillColor\":19,\"fFillStyle\":0,\"fMarkerColor\":1,\"fMarkerStyle\":1,\"fMarkerSize\":1,\"fXmin\":0,\"fXmax\":100,\"fNpar\":5,\"fNdim\":1,\"fNpx\":100,\"fType\":1,\"fNpfits\":49,\"fNDF\":45,\"fChisquare\":4.69935880139244,\"fMinimum\":-1111,\"fMaximum\":-1111,\"fParErrors\":[0.0259107050045771,0.632433042465024,0.763877491635086,5.96985515149862e-4,0],\"fParMin\":[0,0,0.1,0.9,1],\"fParMax\":[1,50,1,1,1],\"fSave\":[0,0,0,0,0,0,0,0,0,0,0,1.20814383613179e-299,1.6305791434896e-279,4.30470808765658e-260,2.22334776005075e-241,2.24711849375759e-223,4.44532748757408e-206,1.7217032246027e-189,1.30593822880526e-173,1.9406545553195e-158,5.65208208981339e-144,3.22777323248941e-130,3.61629241098189e-117,7.95354526715884e-105,3.43647930792355e-93,2.91945662666569e-82,4.88182136923628e-72,1.60882266063126e-62,1.04656137396135e-53,1.34650182789187e-45,3.43497708038218e-38,1.74312893274039e-31,1.76727375770249e-25,3.60093859511065e-20,1.48693780181449e-15,1.25968856570431e-11,2.23115980704317e-8,8.52026430842395e-6,7.39928959447712e-4,0.0161187430835905,0.105854758770035,0.286027539174711,0.465808599160939,0.604070445929391,0.706583381491289,0.782483437392239,0.838678731425996,0.88028490618293,0.911089510156447,0.93389678891997,0.950782964929383,0.96328524295989,0.972541746970329,0.979395127313191,0.984469269999345,0.98822609111701,0.99100758658986,0.993066965203631,0.994591699044206,0.995720589705228,0.996556403858904,0.997175228448039,0.997633397133547,0.997972618534999,0.998223773105015,0.998409724279587,0.998547399812715,0.998649332766169,0.998724802435786,0.99878067907665,0.998822049325254,0.998852679252951,0.998875357203951,0.998892147627574,0.998904579011936,0.99891378302731,0.998920597545833,0.998925642915796,0.998929378434009,0.998932144157123,0.998934191858113,0.998935707946011,0.998936830435342,0.998937661510045,0.998938276825614,0.998938732396273,0.998939069694133,0.998939319424541,0.998939504321287,0.998939641216136,0.998939742571083,0.998939817612805,0.998939873172599,0.998939914308259,0.998939944764501,0.998939967313858,0.998939984009072,0.998939996369965,0.998940005521789,0.998940012297666,0.998940017314427,0,100],\"fNormalized\":false,\"fNormIntegral\":0,\"fFormula\":null,\"fParams\":{\"_typename\":\"TF1Parameters\",\"fParameters\":[0.300584429441175,39.8202629389698,0.782250436262058,0.998940031621542,0],\"fParNames\":[\"#lambda\",\"#mu\",\"#sigma\",\"Plateau\",\"Baseline\"]},\"fComposition_ptr\":null},{\"_typename\":\"TPaveStats\",\"fUniqueID\":0,\"fBits\":50462729,\"fLineColor\":1,\"fLineStyle\":1,\"fLineWidth\":1,\"fFillColor\":0,\"fFillStyle\":1001,\"fX1\":94.3894784279808,\"fY1\":0.692857160818019,\"fX2\":163.736848752585,\"fY2\":1.15000000884877,\"fX1NDC\":0.620000013709068,\"fY1NDC\":0.615000009536743,\"fX2NDC\":0.980000019073486,\"fY2NDC\":0.935000002384186,\"fBorderSize\":1,\"fInit\":1,\"fShadowColor\":1,\"fCornerRadius\":0,\"fOption\":\"brNDC\",\"fName\":\"stats\",\"fTextAngle\":0,\"fTextSize\":0,\"fTextAlign\":12,\"fTextColor\":1,\"fTextFont\":42,\"fLabel\":\"\",\"fLongest\":31,\"fMargin\":0.05,\"fLines\":{\"_typename\":\"TList\",\"name\":\"TList\",\"arr\":[{\"_typename\":\"TLatex\",\"fUniqueID\":0,\"fBits\":50331648,\"fName\":\"\",\"fTitle\":\"#chi^{2} \\/ ndf = 4.699 \\/ 45\",\"fTextAngle\":0,\"fTextSize\":0,\"fTextAlign\":0,\"fTextColor\":0,\"fTextFont\":0,\"fX\":0,\"fY\":0,\"fLineColor\":1,\"fLineStyle\":1,\"fLineWidth\":2,\"fLimitFactorSize\":3,\"fOriginSize\":0.04},{\"_typename\":\"TLatex\",\"fUniqueID\":0,\"fBits\":50331648,\"fName\":\"\",\"fTitle\":\"Prob  =     1\",\"fTextAngle\":0,\"fTextSize\":0,\"fTextAlign\":0,\"fTextColor\":0,\"fTextFont\":0,\"fX\":0,\"fY\":0,\"fLineColor\":1,\"fLineStyle\":1,\"fLineWidth\":2,\"fLimitFactorSize\":3,\"fOriginSize\":0.04},{\"_typename\":\"TLatex\",\"fUniqueID\":0,\"fBits\":50331648,\"fName\":\"\",\"fTitle\":\"#lambda  = 0.3006 #pm 0.02591 \",\"fTextAngle\":0,\"fTextSize\":0,\"fTextAlign\":0,\"fTextColor\":0,\"fTextFont\":0,\"fX\":0,\"fY\":0,\"fLineColor\":1,\"fLineStyle\":1,\"fLineWidth\":2,\"fLimitFactorSize\":3,\"fOriginSize\":0.04},{\"_typename\":\"TLatex\",\"fUniqueID\":0,\"fBits\":50331648,\"fName\":\"\",\"fTitle\":\"#mu      = 39.82 #pm 0.6324 \",\"fTextAngle\":0,\"fTextSize\":0,\"fTextAlign\":0,\"fTextColor\":0,\"fTextFont\":0,\"fX\":0,\"fY\":0,\"fLineColor\":1,\"fLineStyle\":1,\"fLineWidth\":2,\"fLimitFactorSize\":3,\"fOriginSize\":0.04},{\"_typename\":\"TLatex\",\"fUniqueID\":0,\"fBits\":50331648,\"fName\":\"\",\"fTitle\":\"#sigma   = 0.7823 #pm 0.7639 \",\"fTextAngle\":0,\"fTextSize\":0,\"fTextAlign\":0,\"fTextColor\":0,\"fTextFont\":0,\"fX\":0,\"fY\":0,\"fLineColor\":1,\"fLineStyle\":1,\"fLineWidth\":2,\"fLimitFactorSize\":3,\"fOriginSize\":0.04},{\"_typename\":\"TLatex\",\"fUniqueID\":0,\"fBits\":50331648,\"fName\":\"\",\"fTitle\":\"Plateau  = 0.9989 #pm 0.000597 \",\"fTextAngle\":0,\"fTextSize\":0,\"fTextAlign\":0,\"fTextColor\":0,\"fTextFont\":0,\"fX\":0,\"fY\":0,\"fLineColor\":1,\"fLineStyle\":1,\"fLineWidth\":2,\"fLimitFactorSize\":3,\"fOriginSize\":0.04},{\"_typename\":\"TLatex\",\"fUniqueID\":0,\"fBits\":50331648,\"fName\":\"\",\"fTitle\":\"Baseline =     0 #pm     0 \",\"fTextAngle\":0,\"fTextSize\":0,\"fTextAlign\":0,\"fTextColor\":0,\"fTextFont\":0,\"fX\":0,\"fY\":0,\"fLineColor\":1,\"fLineStyle\":1,\"fLineWidth\":2,\"fLimitFactorSize\":3,\"fOriginSize\":0.04}],\"opt\":[\"\",\"\",\"\",\"\",\"\",\"\",\"\"]},\"fOptFit\":11111,\"fOptStat\":0,\"fFitFormat\":\"5.4g\",\"fStatFormat\":\"6.4g\",\"fParent\":{\"$ref\":4}}],\"opt\":[\"\",\"brNDC\"]},\"fHistogram\":{\"_typename\":\"TH1F\",\"fUniqueID\":0,\"fBits\":50331648,\"fName\":\"ada9b3\",\"fTitle\":\"\",\"fLineColor\":602,\"fLineStyle\":1,\"fLineWidth\":1,\"fFillColor\":0,\"fFillStyle\":1001,\"fMarkerColor\":1,\"fMarkerStyle\":1,\"fMarkerSize\":1,\"fNcells\":102,\"fXaxis\":{\"_typename\":\"TAxis\",\"fUniqueID\":0,\"fBits\":50331656,\"fName\":\"xaxis\",\"fTitle\":\" p_{T}^{GEN} [GeV]\",\"fNdivisions\":510,\"fAxisColor\":1,\"fLabelColor\":1,\"fLabelFont\":42,\"fLabelOffset\":0.005,\"fLabelSize\":0.035,\"fTickLength\":0.03,\"fTitleOffset\":1.4,\"fTitleSize\":0.035,\"fTitleColor\":1,\"fTitleFont\":42,\"fNbins\":100,\"fXmin\":0,\"fXmax\":109.8,\"fXbins\":[],\"fFirst\":0,\"fLast\":0,\"fBits2\":0,\"fTimeDisplay\":false,\"fTimeFormat\":\"\",\"fLabels\":null,\"fModLabs\":null},\"fYaxis\":{\"_typename\":\"TAxis\",\"fUniqueID\":0,\"fBits\":50331656,\"fName\":\"yaxis\",\"fTitle\":\"L1 matched to GEN and p_{T}>th.\\/L1 matched to GEN\",\"fNdivisions\":510,\"fAxisColor\":1,\"fLabelColor\":1,\"fLabelFont\":42,\"fLabelOffset\":0.005,\"fLabelSize\":0.035,\"fTickLength\":0.03,\"fTitleOffset\":0,\"fTitleSize\":0.035,\"fTitleColor\":1,\"fTitleFont\":42,\"fNbins\":1,\"fXmin\":0,\"fXmax\":1.1,\"fXbins\":[],\"fFirst\":0,\"fLast\":0,\"fBits2\":0,\"fTimeDisplay\":false,\"fTimeFormat\":\"\",\"fLabels\":null,\"fModLabs\":null},\"fZaxis\":{\"_typename\":\"TAxis\",\"fUniqueID\":0,\"fBits\":50331648,\"fName\":\"zaxis\",\"fTitle\":\"\",\"fNdivisions\":510,\"fAxisColor\":1,\"fLabelColor\":1,\"fLabelFont\":42,\"fLabelOffset\":0.005,\"fLabelSize\":0.035,\"fTickLength\":0.03,\"fTitleOffset\":1,\"fTitleSize\":0.035,\"fTitleColor\":1,\"fTitleFont\":42,\"fNbins\":1,\"fXmin\":0,\"fXmax\":1,\"fXbins\":[],\"fFirst\":0,\"fLast\":0,\"fBits2\":0,\"fTimeDisplay\":false,\"fTimeFormat\":\"\",\"fLabels\":null,\"fModLabs\":null},\"fBarOffset\":0,\"fBarWidth\":1000,\"fEntries\":0,\"fTsumw\":0,\"fTsumw2\":0,\"fTsumwx\":0,\"fTsumwx2\":0,\"fMaximum\":1.1,\"fMinimum\":0,\"fNormFactor\":0,\"fContour\":[],\"fSumw2\":[],\"fOption\":\"\",\"fFunctions\":{\"_typename\":\"TList\",\"name\":\"TList\",\"arr\":[],\"opt\":[]},\"fBufferSize\":0,\"fBuffer\":[],\"fBinStatErrOpt\":0,\"fStatOverflows\":2,\"fArray\":[0,0,0,0,0,0,0,0,0,0,0,0,0,0,0,0,0,0,0,0,0,0,0,0,0,0,0,0,0,0,0,0,0,0,0,0,0,0,0,0,0,0,0,0,0,0,0,0,0,0,0,0,0,0,0,0,0,0,0,0,0,0,0,0,0,0,0,0,0,0,0,0,0,0,0,0,0,0,0,0,0,0,0,0,0,0,0,0,0,0,0,0,0,0,0,0,0,0,0,0,0,0]},\"fMinimum\":-1111,\"fMaximum\":-1111,\"fEXlow\":[1,1,1,1,1,1,1,1,1,1,1,1,1,1,1,1,1,1,1,1,1,1,1,1,1,1,1,1,1,1,1,1,1,1,1,1,1,1,1,1,1,1,1,1,1,1,1,1,1],\"fEXhigh\":[1,1,1,1,1,1,1,1,1,1,1,1,1,1,1,1,1,1,1,1,1,1,1,1,1,1,1,1,1,1,1,1,1,1,1,1,1,1,1,1,1,1,1,1,1,1,1,1,1],\"fEYlow\":[0,0,0,0,0,0,0,0,0,0,0,0,0,0,0,0,0,0,0.00569199128556203,0.0176938602065215,0.0223825509749664,0.0197086377765985,0.0145698704436393,0.0119269291826185,0.00851765085853962,0.00859510594270829,0.00765909113236696,0.00563165492680862,0.00505989391070327,0.00461708032379327,0.00457702471078392,0.00345458614095473,0.00352739487057507,0.00344166990678307,0.00416088718716279,0.00335389164746014,0.00323031020388143,0.00336001276404729,0.00351392951655349,0.00357534734320342,0.00404381431912104,0.00349392314601682,0.00346108068132667,0.00325890099174631,0.00417599965672255,0.00352064931846152,0.00328214061364762,0.00353416632119274,0.00365339285463007],\"fEYhigh\":[0.0204731563007113,0.00664817075517102,0.00427229336386818,0.00355463756421048,0.00327629969013888,0.0038441021671747,0.00344811592825358,0.00342247564062798,0.00341612503995261,0.00336615626450458,0.00330571406500252,0.00329978901298842,0.00347414329597734,0.00327047951878883,0.00328800240050438,0.00366795047711279,0.00318009131927915,0.00312609275709264,0.00763013616538154,0.0188581058439902,0.0221278378689929,0.0183500647563635,0.013068940093655,0.0101262918192618,0.00670156377271347,0.00641922166559672,0.00553261547941308,0.0034276442339024,0.00248866110621115,0.00227000468971761,0.00225023389444057,0,0,0,0.00150140344772509,0,0,0,0,0,0.00145903445440587,0,0,0,0.00150687322100829,0,0,0,0]},{\"_typename\":\"TLatex\",\"fUniqueID\":0,\"fBits\":50348040,\"fName\":\"\",\"fTitle\":\"PU0, EG, hwQual 5, p_{T}^{L1}>=40GeV, 1.52 < |#eta^{GEN}| <= 2.4\",\"fTextAngle\":0,\"fTextSize\":0.03,\"fTextAlign\":11,\"fTextColor\":1,\"fTextFont\":62,\"fX\":0.15,\"fY\":0.85,\"fLineColor\":1,\"fLineStyle\":1,\"fLineWidth\":2,\"fLimitFactorSize\":3,\"fOriginSize\":0.04},{\"_typename\":\"TLatex\",\"fUniqueID\":0,\"fBits\":50331656,\"fName\":\"\",\"fTitle\":\"\",\"fTextAngle\":0,\"fTextSize\":0.03,\"fTextAlign\":11,\"fTextColor\":1,\"fTextFont\":62,\"fX\":0,\"fY\":0,\"fLineColor\":1,\"fLineStyle\":1,\"fLineWidth\":2,\"fLimitFactorSize\":3,\"fOriginSize\":0.04},{\"_typename\":\"TLine\",\"fUniqueID\":0,\"fBits\":50331656,\"fLineColor\":1,\"fLineStyle\":2,\"fLineWidth\":1,\"fX1\":0,\"fY1\":0.95,\"fX2\":109.8,\"fY2\":0.95},{\"_typename\":\"TLine\",\"fUniqueID\":0,\"fBits\":50331656,\"fLineColor\":1,\"fLineStyle\":2,\"fLineWidth\":1,\"fX1\":0,\"fY1\":1,\"fX2\":109.8,\"fY2\":1},{\"_typename\":\"TGraphErrors\",\"fUniqueID\":0,\"fBits\":50332680,\"fName\":\"Graph\",\"fTitle\":\"Fitted line with .95 conf. band\",\"fLineColor\":1,\"fLineStyle\":1,\"fLineWidth\":1,\"fFillColor\":0,\"fFillStyle\":1000,\"fMarkerColor\":1,\"fMarkerStyle\":1,\"fMarkerSize\":1,\"fNpoints\":49,\"fX\":[3,5,7,9,11,13,15,17,19,21,23,25,27,29,31,33,35,37,39,41,43,45,47,49,51,53,55,57,59,61,63,65,67,69,71,73,75,77,79,81,83,85,87,89,91,93,95,97,99],\"fY\":[0,0,0,0,1.20814383613179e-299,4.30470808765658e-260,2.24711849375759e-223,1.7217032246027e-189,1.9406545553195e-158,3.22777323248941e-130,7.95354526715884e-105,2.91945662666569e-82,1.60882266063126e-62,1.34650182789187e-45,1.74312893274039e-31,3.60093859511065e-20,1.25968856570431e-11,8.52026430842395e-6,0.0161187430835905,0.286027539174711,0.604070445929391,0.782483437392239,0.88028490618293,0.93389678891997,0.96328524295989,0.979395127313191,0.98822609111701,0.993066965203631,0.995720589705228,0.997175228448039,0.997972618534999,0.998409724279587,0.998649332766169,0.99878067907665,0.998852679252951,0.998892147627574,0.99891378302731,0.998925642915796,0.998932144157123,0.998935707946011,0.998937661510045,0.998938732396273,0.998939319424541,0.998939641216136,0.998939817612805,0.998939914308259,0.998939967313858,0.998939996369965,0.998940012297666],\"fFunctions\":{\"_typename\":\"TList\",\"name\":\"TList\",\"arr\":[],\"opt\":[]},\"fHistogram\":{\"_typename\":\"TH1F\",\"fUniqueID\":0,\"fBits\":50332168,\"fName\":\"Graph\",\"fTitle\":\"Fitted line with .95 conf. band\",\"fLineColor\":602,\"fLineStyle\":1,\"fLineWidth\":1,\"fFillColor\":0,\"fFillStyle\":1001,\"fMarkerColor\":1,\"fMarkerStyle\":1,\"fMarkerSize\":1,\"fNcells\":102,\"fXaxis\":{\"_typename\":\"TAxis\",\"fUniqueID\":0,\"fBits\":50331648,\"fName\":\"xaxis\",\"fTitle\":\"\",\"fNdivisions\":510,\"fAxisColor\":1,\"fLabelColor\":1,\"fLabelFont\":42,\"fLabelOffset\":0.005,\"fLabelSize\":0.035,\"fTickLength\":0.03,\"fTitleOffset\":1,\"fTitleSize\":0.035,\"fTitleColor\":1,\"fTitleFont\":42,\"fNbins\":100,\"fXmin\":0,\"fXmax\":108.6,\"fXbins\":[],\"fFirst\":0,\"fLast\":0,\"fBits2\":0,\"fTimeDisplay\":false,\"fTimeFormat\":\"\",\"fLabels\":null,\"fModLabs\":null},\"fYaxis\":{\"_typename\":\"TAxis\",\"fUniqueID\":0,\"fBits\":50331648,\"fName\":\"yaxis\",\"fTitle\":\"\",\"fNdivisions\":510,\"fAxisColor\":1,\"fLabelColor\":1,\"fLabelFont\":42,\"fLabelOffset\":0.005,\"fLabelSize\":0.035,\"fTickLength\":0.03,\"fTitleOffset\":0,\"fTitleSize\":0.035,\"fTitleColor\":1,\"fTitleFont\":42,\"fNbins\":1,\"fXmin\":-0.254119090697868,\"fXmax\":1.11535763779139,\"fXbins\":[],\"fFirst\":0,\"fLast\":0,\"fBits2\":0,\"fTimeDisplay\":false,\"fTimeFormat\":\"\",\"fLabels\":null,\"fModLabs\":null},\"fZaxis\":{\"_typename\":\"TAxis\",\"fUniqueID\":0,\"fBits\":50331648,\"fName\":\"zaxis\",\"fTitle\":\"\",\"fNdivisions\":510,\"fAxisColor\":1,\"fLabelColor\":1,\"fLabelFont\":42,\"fLabelOffset\":0.005,\"fLabelSize\":0.035,\"fTickLength\":0.03,\"fTitleOffset\":1,\"fTitleSize\":0.035,\"fTitleColor\":1,\"fTitleFont\":42,\"fNbins\":1,\"fXmin\":0,\"fXmax\":1,\"fXbins\":[],\"fFirst\":0,\"fLast\":0,\"fBits2\":0,\"fTimeDisplay\":false,\"fTimeFormat\":\"\",\"fLabels\":null,\"fModLabs\":null},\"fBarOffset\":0,\"fBarWidth\":1000,\"fEntries\":0,\"fTsumw\":0,\"fTsumw2\":0,\"fTsumwx\":0,\"fTsumwx2\":0,\"fMaximum\":1.11535763779139,\"fMinimum\":-0.254119090697868,\"fNormFactor\":0,\"fContour\":[],\"fSumw2\":[],\"fOption\":\"\",\"fFunctions\":{\"_typename\":\"TList\",\"name\":\"TList\",\"arr\":[],\"opt\":[]},\"fBufferSize\":0,\"fBuffer\":[],\"fBinStatErrOpt\":0,\"fStatOverflows\":2,\"fArray\":[0,0,0,0,0,0,0,0,0,0,0,0,0,0,0,0,0,0,0,0,0,0,0,0,0,0,0,0,0,0,0,0,0,0,0,0,0,0,0,0,0,0,0,0,0,0,0,0,0,0,0,0,0,0,0,0,0,0,0,0,0,0,0,0,0,0,0,0,0,0,0,0,0,0,0,0,0,0,0,0,0,0,0,0,0,0,0,0,0,0,0,0,0,0,0,0,0,0,0,0,0,0]},\"fMinimum\":-1111,\"fMaximum\":-1111,\"fEX\":[0,0,0,0,0,0,0,0,0,0,0,0,0,0,0,0,0,0,0,0,0,0,0,0,0,0,0,0,0,0,0,0,0,0,0,0,0,0,0,0,0,0,0,0,0,0,0,0,0],\"fEY\":[0,0,0,0,0,0,0,0,4.13429557966574e-155,5.61699349612524e-127,1.10461006260738e-101,3.14406727142889e-79,1.29484274232521e-59,7.71074203624082e-43,6.63078999641093e-29,8.21208589077405e-18,1.45539787028807e-9,3.62417604861879e-4,0.123485322252626,0.42602356916514,0.245289652547307,0.114565832777429,0.0595518262173496,0.0355926766463726,0.0230856677512063,0.0152097966244469,0.00989513782780935,0.00635448092078834,0.0041306993114585,0.00289274929613807,0.00234568180865502,0.00218435119584957,0.00217490121225692,0.00220429268639414,0.00223452037048255,0.00225693164024586,0.00227173263133369,0.0022809811113336,0.00228658659025012,0.00228992252250279,0.00229188474618841,0.0022930298675887,0.00229369439196928,0.00229407839659244,0.0022942995625448,0.00229442659491462,0.00229449939022869,0.00229454102103731,0.00229456478628852]}],\"opt\":[\"\",\"pa\",\"same\",\"same\",\"same\",\"same\",\"\"]},\"fExecs\":null,\"fName\":\"c_50e0bd\",\"fTitle\":\"c_50e0bd\",\"fNumPaletteColor\":0,\"fNextPaletteColor\":0,\"fDISPLAY\":\"$DISPLAY\",\"fDoubleBuffer\":0,\"fRetained\":true,\"fXsizeUser\":0,\"fYsizeUser\":0,\"fXsizeReal\":20,\"fYsizeReal\":15,\"fWindowTopX\":0,\"fWindowTopY\":0,\"fWindowWidth\":0,\"fWindowHeight\":0,\"fCw\":796,\"fCh\":572,\"fCatt\":{\"_typename\":\"TAttCanvas\",\"fXBetween\":2,\"fYBetween\":2,\"fTitleFromTop\":1.2,\"fXdate\":0.2,\"fYdate\":0.3,\"fAdate\":1},\"kMoveOpaque\":true,\"kResizeOpaque\":true,\"fHighLightColor\":2,\"fBatch\":true,\"kShowEventStatus\":false,\"kAutoExec\":true,\"kMenuBar\":true});\n",
       "       Core.draw(\"root_plot_35\", obj, \"\");\n",
       "     }\n",
       " );\n",
       "</script>\n"
      ],
      "text/plain": [
       "<IPython.core.display.HTML object>"
      ]
     },
     "metadata": {},
     "output_type": "display_data"
    },
    {
     "data": {
      "text/html": [
       "\n",
       "<div id=\"root_plot_36\"\n",
       "     style=\"width: 796px; height: 572px\">\n",
       "</div>\n",
       "\n",
       "<script>\n",
       " requirejs.config({\n",
       "     paths: {\n",
       "       'JSRootCore' : 'https://root.cern.ch/js/notebook//scripts/JSRootCore',\n",
       "     }\n",
       "   });\n",
       " require(['JSRootCore'],\n",
       "     function(Core) {\n",
       "       var obj = Core.JSONR_unref({\"_typename\":\"TCanvas\",\"fUniqueID\":0,\"fBits\":53673992,\"fLineColor\":1,\"fLineStyle\":1,\"fLineWidth\":1,\"fFillColor\":0,\"fFillStyle\":1001,\"fLeftMargin\":0.13,\"fRightMargin\":0.3,\"fBottomMargin\":0.13,\"fTopMargin\":0.1,\"fXfile\":2,\"fYfile\":2,\"fAfile\":1,\"fXstat\":0.99,\"fYstat\":0.99,\"fAstat\":2,\"fFrameFillColor\":0,\"fFrameLineColor\":1,\"fFrameFillStyle\":1001,\"fFrameLineStyle\":1,\"fFrameLineWidth\":1,\"fFrameBorderSize\":1,\"fFrameBorderMode\":0,\"fX1\":-25.0421046588559,\"fY1\":-0.185714283502611,\"fX2\":167.58947670572,\"fY2\":1.24285714852456,\"fXtoAbsPixelk\":103.480046204376,\"fXtoPixelk\":103.480046204376,\"fXtoPixel\":4.13224038530569,\"fYtoAbsPixelk\":497.640051065433,\"fYtoPixelk\":497.640051065433,\"fYtoPixel\":-400.399999031424,\"fUtoAbsPixelk\":5e-5,\"fUtoPixelk\":5e-5,\"fUtoPixel\":796,\"fVtoAbsPixelk\":572.00005,\"fVtoPixelk\":572,\"fVtoPixel\":-572,\"fAbsPixeltoXk\":-25.0421046588559,\"fPixeltoXk\":-25.0421046588559,\"fPixeltoX\":0.241999474076101,\"fAbsPixeltoYk\":1.24285714852456,\"fPixeltoYk\":-0.185714283502611,\"fPixeltoY\":-0.00249750250354401,\"fXlowNDC\":0,\"fYlowNDC\":0,\"fXUpNDC\":0,\"fYUpNDC\":0,\"fWNDC\":1,\"fHNDC\":1,\"fAbsXlowNDC\":0,\"fAbsYlowNDC\":0,\"fAbsWNDC\":1,\"fAbsHNDC\":1,\"fUxmin\":0,\"fUymin\":0,\"fUxmax\":109.8,\"fUymax\":1.1,\"fTheta\":30,\"fPhi\":30,\"fAspectRatio\":0,\"fNumber\":0,\"fTickx\":0,\"fTicky\":0,\"fLogx\":0,\"fLogy\":0,\"fLogz\":0,\"fPadPaint\":0,\"fCrosshair\":0,\"fCrosshairPos\":0,\"fBorderSize\":2,\"fBorderMode\":0,\"fModified\":false,\"fGridx\":false,\"fGridy\":false,\"fAbsCoord\":false,\"fEditable\":true,\"fFixedAspectRatio\":false,\"fPrimitives\":{\"_typename\":\"TList\",\"name\":\"TList\",\"arr\":[{\"_typename\":\"TFrame\",\"fUniqueID\":0,\"fBits\":50331656,\"fLineColor\":1,\"fLineStyle\":1,\"fLineWidth\":1,\"fFillColor\":0,\"fFillStyle\":1001,\"fX1\":0,\"fY1\":0,\"fX2\":109.8,\"fY2\":1.1,\"fBorderSize\":1,\"fBorderMode\":0},{\"_typename\":\"TGraphAsymmErrors\",\"fUniqueID\":0,\"fBits\":50332680,\"fName\":\"689fe9\",\"fTitle\":\"; p_{T}^{GEN} [GeV];\",\"fLineColor\":1,\"fLineStyle\":1,\"fLineWidth\":1,\"fFillColor\":0,\"fFillStyle\":1001,\"fMarkerColor\":1,\"fMarkerStyle\":8,\"fMarkerSize\":0.5,\"fNpoints\":49,\"fX\":[3,5,7,9,11,13,15,17,19,21,23,25,27,29,31,33,35,37,39,41,43,45,47,49,51,53,55,57,59,61,63,65,67,69,71,73,75,77,79,81,83,85,87,89,91,93,95,97,99],\"fY\":[0,0.00434782608695652,0.0156739811912226,0.065989847715736,0.407079646017699,0.711111111111111,0.865546218487395,0.916488222698073,0.952282157676348,0.98443579766537,0.978805394990366,0.981060606060606,0.996,0.99814126394052,0.992592592592593,1,0.996396396396396,0.998269896193772,0.998211091234347,1,1,0.997881355932203,1,1,0.996557659208262,0.996023856858847,1,1,0.998058252427184,1,1,1,0.996138996138996,1,1,1,0.99647266313933,0.998165137614679,1,1,1,1,1,0.998230088495575,0.998158379373849,0.998058252427184,0.998201438848921,1,1],\"fFunctions\":{\"_typename\":\"TList\",\"name\":\"TList\",\"arr\":[{\"_typename\":\"TF1\",\"fUniqueID\":0,\"fBits\":50332680,\"fName\":\"tf_yc\",\"fTitle\":\"tf_yc\",\"fLineColor\":6,\"fLineStyle\":1,\"fLineWidth\":2,\"fFillColor\":19,\"fFillStyle\":0,\"fMarkerColor\":1,\"fMarkerStyle\":1,\"fMarkerSize\":1,\"fXmin\":0,\"fXmax\":100,\"fNpar\":5,\"fNdim\":1,\"fNpx\":100,\"fType\":1,\"fNpfits\":49,\"fNDF\":45,\"fChisquare\":21.4935056999557,\"fMinimum\":-1111,\"fMaximum\":-1111,\"fParErrors\":[0.138093830496637,0.902227937553535,0.521492248398944,4.74727612143677e-4,0],\"fParMin\":[0,0,0.1,0.9,1],\"fParMax\":[1,50,1,1,1],\"fSave\":[0,0,0,0,0,2.97651109099159e-262,8.03131032354444e-144,1.87936175295052e-61,6.02382727050388e-15,0.0659763173459283,0.30289630564444,0.479721495042905,0.611589566036497,0.709930691566895,0.783268967449127,0.837961271206781,0.878748268914814,0.909165330690204,0.931848972513288,0.948765386404857,0.961380867692331,0.970788911804679,0.977804997200309,0.983037270103255,0.986939257919418,0.989849180471224,0.992019266503383,0.993637616580792,0.994844507429467,0.995744550962043,0.996415761918213,0.996916320092763,0.997289613293368,0.997567998145923,0.997775604729721,0.997930428145005,0.998045888307596,0.99813199317178,0.998196206208292,0.998244093329388,0.998279805335725,0.998306437702997,0.998326298894211,0.998341110454611,0.998352156233241,0.998360393665508,0.998366536762577,0.99837111800105,0.998374534477413,0.998377082327916,0.998378982397313,0.998380399381437,0.998381456102845,0.998382244156934,0.998382831851328,0.998383270126703,0.998383596972264,0.998383840718609,0.998384022493392,0.998384158052641,0.998384259146477,0.998384334537597,0.998384390760818,0.998384432689503,0.998384463957982,0.998384487276572,0.998384504666501,0.998384517635107,0.998384527306496,0.998384534518972,0.998384539897704,0.998384543908914,0.99838454690029,0.99838454913112,0.99838455079477,0.998384552035443,0.99838455296068,0.998384553650679,0.998384554165249,0.998384554548991,0.998384554835168,0.998384555048586,0.998384555207743,0.998384555326435,0.99838455541495,0.998384555480961,0.998384555530188,0.9983845555669,0.998384555594278,0.998384555614695,0.998384555629921,0.998384555641276,0.998384555649744,0.998384555656059,0.998384555660768,0.998384555664281,0.9983845556669,0.998384555668853,0.99838455567031,0.998384555671396,0.998384555672206,0,100],\"fNormalized\":false,\"fNormIntegral\":0,\"fFormula\":null,\"fParams\":{\"_typename\":\"TF1Parameters\",\"fParameters\":[0.293359653407055,8.76588035646235,0.109559371181542,0.998384555674582,0],\"fParNames\":[\"#lambda\",\"#mu\",\"#sigma\",\"Plateau\",\"Baseline\"]},\"fComposition_ptr\":null},{\"_typename\":\"TPaveStats\",\"fUniqueID\":0,\"fBits\":50462729,\"fLineColor\":1,\"fLineStyle\":1,\"fLineWidth\":1,\"fFillColor\":0,\"fFillStyle\":1001,\"fX1\":94.3894784279808,\"fY1\":0.692857160818019,\"fX2\":163.736848752585,\"fY2\":1.15000000884877,\"fX1NDC\":0.620000013709068,\"fY1NDC\":0.615000009536743,\"fX2NDC\":0.980000019073486,\"fY2NDC\":0.935000002384186,\"fBorderSize\":1,\"fInit\":1,\"fShadowColor\":1,\"fCornerRadius\":0,\"fOption\":\"brNDC\",\"fName\":\"stats\",\"fTextAngle\":0,\"fTextSize\":0,\"fTextAlign\":12,\"fTextColor\":1,\"fTextFont\":42,\"fLabel\":\"\",\"fLongest\":32,\"fMargin\":0.05,\"fLines\":{\"_typename\":\"TList\",\"name\":\"TList\",\"arr\":[{\"_typename\":\"TLatex\",\"fUniqueID\":0,\"fBits\":50331648,\"fName\":\"\",\"fTitle\":\"#chi^{2} \\/ ndf = 21.49 \\/ 45\",\"fTextAngle\":0,\"fTextSize\":0,\"fTextAlign\":0,\"fTextColor\":0,\"fTextFont\":0,\"fX\":0,\"fY\":0,\"fLineColor\":1,\"fLineStyle\":1,\"fLineWidth\":2,\"fLimitFactorSize\":3,\"fOriginSize\":0.04},{\"_typename\":\"TLatex\",\"fUniqueID\":0,\"fBits\":50331648,\"fName\":\"\",\"fTitle\":\"Prob  = 0.9988\",\"fTextAngle\":0,\"fTextSize\":0,\"fTextAlign\":0,\"fTextColor\":0,\"fTextFont\":0,\"fX\":0,\"fY\":0,\"fLineColor\":1,\"fLineStyle\":1,\"fLineWidth\":2,\"fLimitFactorSize\":3,\"fOriginSize\":0.04},{\"_typename\":\"TLatex\",\"fUniqueID\":0,\"fBits\":50331648,\"fName\":\"\",\"fTitle\":\"#lambda  = 0.2934 #pm 0.1381 \",\"fTextAngle\":0,\"fTextSize\":0,\"fTextAlign\":0,\"fTextColor\":0,\"fTextFont\":0,\"fX\":0,\"fY\":0,\"fLineColor\":1,\"fLineStyle\":1,\"fLineWidth\":2,\"fLimitFactorSize\":3,\"fOriginSize\":0.04},{\"_typename\":\"TLatex\",\"fUniqueID\":0,\"fBits\":50331648,\"fName\":\"\",\"fTitle\":\"#mu      = 8.766 #pm 0.9022 \",\"fTextAngle\":0,\"fTextSize\":0,\"fTextAlign\":0,\"fTextColor\":0,\"fTextFont\":0,\"fX\":0,\"fY\":0,\"fLineColor\":1,\"fLineStyle\":1,\"fLineWidth\":2,\"fLimitFactorSize\":3,\"fOriginSize\":0.04},{\"_typename\":\"TLatex\",\"fUniqueID\":0,\"fBits\":50331648,\"fName\":\"\",\"fTitle\":\"#sigma   = 0.1096 #pm 0.5215 \",\"fTextAngle\":0,\"fTextSize\":0,\"fTextAlign\":0,\"fTextColor\":0,\"fTextFont\":0,\"fX\":0,\"fY\":0,\"fLineColor\":1,\"fLineStyle\":1,\"fLineWidth\":2,\"fLimitFactorSize\":3,\"fOriginSize\":0.04},{\"_typename\":\"TLatex\",\"fUniqueID\":0,\"fBits\":50331648,\"fName\":\"\",\"fTitle\":\"Plateau  = 0.9984 #pm 0.0004747 \",\"fTextAngle\":0,\"fTextSize\":0,\"fTextAlign\":0,\"fTextColor\":0,\"fTextFont\":0,\"fX\":0,\"fY\":0,\"fLineColor\":1,\"fLineStyle\":1,\"fLineWidth\":2,\"fLimitFactorSize\":3,\"fOriginSize\":0.04},{\"_typename\":\"TLatex\",\"fUniqueID\":0,\"fBits\":50331648,\"fName\":\"\",\"fTitle\":\"Baseline =     0 #pm     0 \",\"fTextAngle\":0,\"fTextSize\":0,\"fTextAlign\":0,\"fTextColor\":0,\"fTextFont\":0,\"fX\":0,\"fY\":0,\"fLineColor\":1,\"fLineStyle\":1,\"fLineWidth\":2,\"fLimitFactorSize\":3,\"fOriginSize\":0.04}],\"opt\":[\"\",\"\",\"\",\"\",\"\",\"\",\"\"]},\"fOptFit\":11111,\"fOptStat\":0,\"fFitFormat\":\"5.4g\",\"fStatFormat\":\"6.4g\",\"fParent\":{\"$ref\":4}}],\"opt\":[\"\",\"brNDC\"]},\"fHistogram\":{\"_typename\":\"TH1F\",\"fUniqueID\":0,\"fBits\":50331648,\"fName\":\"689fe9\",\"fTitle\":\"\",\"fLineColor\":602,\"fLineStyle\":1,\"fLineWidth\":1,\"fFillColor\":0,\"fFillStyle\":1001,\"fMarkerColor\":1,\"fMarkerStyle\":1,\"fMarkerSize\":1,\"fNcells\":102,\"fXaxis\":{\"_typename\":\"TAxis\",\"fUniqueID\":0,\"fBits\":50331656,\"fName\":\"xaxis\",\"fTitle\":\" p_{T}^{GEN} [GeV]\",\"fNdivisions\":510,\"fAxisColor\":1,\"fLabelColor\":1,\"fLabelFont\":42,\"fLabelOffset\":0.005,\"fLabelSize\":0.035,\"fTickLength\":0.03,\"fTitleOffset\":1.4,\"fTitleSize\":0.035,\"fTitleColor\":1,\"fTitleFont\":42,\"fNbins\":100,\"fXmin\":0,\"fXmax\":109.8,\"fXbins\":[],\"fFirst\":0,\"fLast\":0,\"fBits2\":0,\"fTimeDisplay\":false,\"fTimeFormat\":\"\",\"fLabels\":null,\"fModLabs\":null},\"fYaxis\":{\"_typename\":\"TAxis\",\"fUniqueID\":0,\"fBits\":50331656,\"fName\":\"yaxis\",\"fTitle\":\"L1 matched to GEN and p_{T}>th.\\/L1 matched to GEN\",\"fNdivisions\":510,\"fAxisColor\":1,\"fLabelColor\":1,\"fLabelFont\":42,\"fLabelOffset\":0.005,\"fLabelSize\":0.035,\"fTickLength\":0.03,\"fTitleOffset\":0,\"fTitleSize\":0.035,\"fTitleColor\":1,\"fTitleFont\":42,\"fNbins\":1,\"fXmin\":0,\"fXmax\":1.1,\"fXbins\":[],\"fFirst\":0,\"fLast\":0,\"fBits2\":0,\"fTimeDisplay\":false,\"fTimeFormat\":\"\",\"fLabels\":null,\"fModLabs\":null},\"fZaxis\":{\"_typename\":\"TAxis\",\"fUniqueID\":0,\"fBits\":50331648,\"fName\":\"zaxis\",\"fTitle\":\"\",\"fNdivisions\":510,\"fAxisColor\":1,\"fLabelColor\":1,\"fLabelFont\":42,\"fLabelOffset\":0.005,\"fLabelSize\":0.035,\"fTickLength\":0.03,\"fTitleOffset\":1,\"fTitleSize\":0.035,\"fTitleColor\":1,\"fTitleFont\":42,\"fNbins\":1,\"fXmin\":0,\"fXmax\":1,\"fXbins\":[],\"fFirst\":0,\"fLast\":0,\"fBits2\":0,\"fTimeDisplay\":false,\"fTimeFormat\":\"\",\"fLabels\":null,\"fModLabs\":null},\"fBarOffset\":0,\"fBarWidth\":1000,\"fEntries\":0,\"fTsumw\":0,\"fTsumw2\":0,\"fTsumwx\":0,\"fTsumwx2\":0,\"fMaximum\":1.1,\"fMinimum\":0,\"fNormFactor\":0,\"fContour\":[],\"fSumw2\":[],\"fOption\":\"\",\"fFunctions\":{\"_typename\":\"TList\",\"name\":\"TList\",\"arr\":[],\"opt\":[]},\"fBufferSize\":0,\"fBuffer\":[],\"fBinStatErrOpt\":0,\"fStatOverflows\":2,\"fArray\":[0,0,0,0,0,0,0,0,0,0,0,0,0,0,0,0,0,0,0,0,0,0,0,0,0,0,0,0,0,0,0,0,0,0,0,0,0,0,0,0,0,0,0,0,0,0,0,0,0,0,0,0,0,0,0,0,0,0,0,0,0,0,0,0,0,0,0,0,0,0,0,0,0,0,0,0,0,0,0,0,0,0,0,0,0,0,0,0,0,0,0,0,0,0,0,0,0,0,0,0,0,0]},\"fMinimum\":-1111,\"fMaximum\":-1111,\"fEXlow\":[1,1,1,1,1,1,1,1,1,1,1,1,1,1,1,1,1,1,1,1,1,1,1,1,1,1,1,1,1,1,1,1,1,1,1,1,1,1,1,1,1,1,1,1,1,1,1,1,1],\"fEXhigh\":[1,1,1,1,1,1,1,1,1,1,1,1,1,1,1,1,1,1,1,1,1,1,1,1,1,1,1,1,1,1,1,1,1,1,1,1,1,1,1,1,1,1,1,1,1,1,1,1,1],\"fEYlow\":[0,0.00359700470743687,0.00675390701030627,0.0125775355655671,0.023971980646127,0.0242786466152904,0.0174988281291973,0.0148423443207968,0.011801727939644,0.00758612483179788,0.00838307260863169,0.00797201759870192,0.00525127590634411,0.00426112050496463,0.00581812491241962,0.00375779220064687,0.00473305947476055,0.00396707576217903,0.0041015155016102,0.0034873048844285,0.00347414329597728,0.0048548710412637,0.00328800240050431,0.00345458614095473,0.00452210043883006,0.00522010093980552,0.00350056657582654,0.00334171607834644,0.00445081284829207,0.00327047951878845,0.00322465214023471,0.00350056657582654,0.00506961820607532,0.00346759968683441,0.00337851090995966,0.00338472230368492,0.0046332995610554,0.00420655633739031,0.00354778751684082,0.00359629985182086,0.00325890099174631,0.00353416632119274,0.00347414329597728,0.00405808687428899,0.00422200298480258,0.00445081284829207,0.00412358026016912,0.00356151411478722,0.00366065719283548],\"fEYhigh\":[0.0110956905950783,0.00992641071108877,0.0104641004966015,0.0150005731964089,0.0244022196889146,0.0231806607049171,0.0158617914276907,0.0129118922599477,0.00972695647166,0.00536835332245655,0.00625928081468041,0.00586143368134096,0.00258321504247794,0.00153768392926579,0.00354179294253965,0,0.00232725778845122,0.00143126649636627,0.0014799157642319,0,0,0.00175270726988774,0,0,0.00222312638759459,0.00256781065272449,0,0,0.00160635959682764,0,0,0,0.00249346472665857,0,0,0,0.00227801062754107,0.00151793320693461,0,0,0,0,0,0.00146419934298714,0.00152352430682134,0.00160635959682764,0.00148790118023034,0,0]},{\"_typename\":\"TLatex\",\"fUniqueID\":0,\"fBits\":50348040,\"fName\":\"\",\"fTitle\":\"PU200, EG, hwQual 5, p_{T}^{L1}>=10GeV, 1.52 < |#eta^{GEN}| <= 2.4\",\"fTextAngle\":0,\"fTextSize\":0.03,\"fTextAlign\":11,\"fTextColor\":1,\"fTextFont\":62,\"fX\":0.15,\"fY\":0.85,\"fLineColor\":1,\"fLineStyle\":1,\"fLineWidth\":2,\"fLimitFactorSize\":3,\"fOriginSize\":0.04},{\"_typename\":\"TLatex\",\"fUniqueID\":0,\"fBits\":50331656,\"fName\":\"\",\"fTitle\":\"\",\"fTextAngle\":0,\"fTextSize\":0.03,\"fTextAlign\":11,\"fTextColor\":1,\"fTextFont\":62,\"fX\":0,\"fY\":0,\"fLineColor\":1,\"fLineStyle\":1,\"fLineWidth\":2,\"fLimitFactorSize\":3,\"fOriginSize\":0.04},{\"_typename\":\"TLine\",\"fUniqueID\":0,\"fBits\":50331656,\"fLineColor\":1,\"fLineStyle\":2,\"fLineWidth\":1,\"fX1\":0,\"fY1\":0.95,\"fX2\":109.8,\"fY2\":0.95},{\"_typename\":\"TLine\",\"fUniqueID\":0,\"fBits\":50331656,\"fLineColor\":1,\"fLineStyle\":2,\"fLineWidth\":1,\"fX1\":0,\"fY1\":1,\"fX2\":109.8,\"fY2\":1},{\"_typename\":\"TGraphErrors\",\"fUniqueID\":0,\"fBits\":50332680,\"fName\":\"Graph\",\"fTitle\":\"Fitted line with .95 conf. band\",\"fLineColor\":1,\"fLineStyle\":1,\"fLineWidth\":1,\"fFillColor\":0,\"fFillStyle\":1000,\"fMarkerColor\":1,\"fMarkerStyle\":1,\"fMarkerSize\":1,\"fNpoints\":49,\"fX\":[3,5,7,9,11,13,15,17,19,21,23,25,27,29,31,33,35,37,39,41,43,45,47,49,51,53,55,57,59,61,63,65,67,69,71,73,75,77,79,81,83,85,87,89,91,93,95,97,99],\"fY\":[0,2.97651109099159e-262,1.87936175295052e-61,0.0659763173459283,0.479721495042905,0.709930691566895,0.837961271206781,0.909165330690204,0.948765386404857,0.970788911804679,0.983037270103255,0.989849180471224,0.993637616580792,0.995744550962043,0.996916320092763,0.997567998145923,0.997930428145005,0.99813199317178,0.998244093329388,0.998306437702997,0.998341110454611,0.998360393665508,0.99837111800105,0.998377082327916,0.998380399381437,0.998382244156934,0.998383270126703,0.998383840718609,0.998384158052641,0.998384334537597,0.998384432689503,0.998384487276572,0.998384517635107,0.998384534518972,0.998384543908914,0.99838454913112,0.998384552035443,0.998384553650679,0.998384554548991,0.998384555048586,0.998384555326435,0.998384555480961,0.9983845555669,0.998384555614695,0.998384555641276,0.998384555656059,0.998384555664281,0.998384555668853,0.998384555671396],\"fFunctions\":{\"_typename\":\"TList\",\"name\":\"TList\",\"arr\":[],\"opt\":[]},\"fHistogram\":{\"_typename\":\"TH1F\",\"fUniqueID\":0,\"fBits\":50332168,\"fName\":\"Graph\",\"fTitle\":\"Fitted line with .95 conf. band\",\"fLineColor\":602,\"fLineStyle\":1,\"fLineWidth\":1,\"fFillColor\":0,\"fFillStyle\":1001,\"fMarkerColor\":1,\"fMarkerStyle\":1,\"fMarkerSize\":1,\"fNcells\":102,\"fXaxis\":{\"_typename\":\"TAxis\",\"fUniqueID\":0,\"fBits\":50331648,\"fName\":\"xaxis\",\"fTitle\":\"\",\"fNdivisions\":510,\"fAxisColor\":1,\"fLabelColor\":1,\"fLabelFont\":42,\"fLabelOffset\":0.005,\"fLabelSize\":0.035,\"fTickLength\":0.03,\"fTitleOffset\":1,\"fTitleSize\":0.035,\"fTitleColor\":1,\"fTitleFont\":42,\"fNbins\":100,\"fXmin\":0,\"fXmax\":108.6,\"fXbins\":[],\"fFirst\":0,\"fLast\":0,\"fBits2\":0,\"fTimeDisplay\":false,\"fTimeFormat\":\"\",\"fLabels\":null,\"fModLabs\":null},\"fYaxis\":{\"_typename\":\"TAxis\",\"fUniqueID\":0,\"fBits\":50331648,\"fName\":\"yaxis\",\"fTitle\":\"\",\"fNdivisions\":510,\"fAxisColor\":1,\"fLabelColor\":1,\"fLabelFont\":42,\"fLabelOffset\":0.005,\"fLabelSize\":0.035,\"fTickLength\":0.03,\"fTitleOffset\":0,\"fTitleSize\":0.035,\"fTitleColor\":1,\"fTitleFont\":42,\"fNbins\":1,\"fXmin\":-2.37567938028354,\"fXmax\":2.5076320149754,\"fXbins\":[],\"fFirst\":0,\"fLast\":0,\"fBits2\":0,\"fTimeDisplay\":false,\"fTimeFormat\":\"\",\"fLabels\":null,\"fModLabs\":null},\"fZaxis\":{\"_typename\":\"TAxis\",\"fUniqueID\":0,\"fBits\":50331648,\"fName\":\"zaxis\",\"fTitle\":\"\",\"fNdivisions\":510,\"fAxisColor\":1,\"fLabelColor\":1,\"fLabelFont\":42,\"fLabelOffset\":0.005,\"fLabelSize\":0.035,\"fTickLength\":0.03,\"fTitleOffset\":1,\"fTitleSize\":0.035,\"fTitleColor\":1,\"fTitleFont\":42,\"fNbins\":1,\"fXmin\":0,\"fXmax\":1,\"fXbins\":[],\"fFirst\":0,\"fLast\":0,\"fBits2\":0,\"fTimeDisplay\":false,\"fTimeFormat\":\"\",\"fLabels\":null,\"fModLabs\":null},\"fBarOffset\":0,\"fBarWidth\":1000,\"fEntries\":0,\"fTsumw\":0,\"fTsumw2\":0,\"fTsumwx\":0,\"fTsumwx2\":0,\"fMaximum\":2.5076320149754,\"fMinimum\":-2.37567938028354,\"fNormFactor\":0,\"fContour\":[],\"fSumw2\":[],\"fOption\":\"\",\"fFunctions\":{\"_typename\":\"TList\",\"name\":\"TList\",\"arr\":[],\"opt\":[]},\"fBufferSize\":0,\"fBuffer\":[],\"fBinStatErrOpt\":0,\"fStatOverflows\":2,\"fArray\":[0,0,0,0,0,0,0,0,0,0,0,0,0,0,0,0,0,0,0,0,0,0,0,0,0,0,0,0,0,0,0,0,0,0,0,0,0,0,0,0,0,0,0,0,0,0,0,0,0,0,0,0,0,0,0,0,0,0,0,0,0,0,0,0,0,0,0,0,0,0,0,0,0,0,0,0,0,0,0,0,0,0,0,0,0,0,0,0,0,0,0,0,0,0,0,0,0,0,0,0,0,0]},\"fMinimum\":-1111,\"fMaximum\":-1111,\"fEX\":[0,0,0,0,0,0,0,0,0,0,0,0,0,0,0,0,0,0,0,0,0,0,0,0,0,0,0,0,0,0,0,0,0,0,0,0,0,0,0,0,0,0,0,0,0,0,0,0,0],\"fEY\":[0,0,1.47264046674093e-55,2.03471308135789,0.786241996557462,0.172415059072711,0.137291042780886,0.164812133935562,0.143588931895035,0.108890227638548,0.076591550925915,0.0513508116750186,0.033258659709778,0.0209476592195672,0.012865491264329,0.00771302087607376,0.00453771941663563,0.00270574894609321,0.00182280334111931,0.00156241374788432,0.0015746909916321,0.00164620924371551,0.00170935303654573,0.00175334445534559,0.00178148160535112,0.00179877277847339,0.00180917242381385,0.00181534799842713,0.00181898561894596,0.00182111653233644,0.00182235991054185,0.00182308325376541,0.00182350299587002,0.00182374612736578,0.0018238866475661,0.00182396781676726,0.00182401458102286,0.00182404151163047,0.00182405697841519,0.00182406588121328,0.00182407100016212,0.00182407393182552,0.00182407559067256,0.00182407655093723,0.00182407710768281,0.00182407742615265,0.00182407759589661,0.00182407768596087,0.00182407777132107]}],\"opt\":[\"\",\"pa\",\"same\",\"same\",\"same\",\"same\",\"\"]},\"fExecs\":null,\"fName\":\"c_4f2bd8\",\"fTitle\":\"c_4f2bd8\",\"fNumPaletteColor\":0,\"fNextPaletteColor\":0,\"fDISPLAY\":\"$DISPLAY\",\"fDoubleBuffer\":0,\"fRetained\":true,\"fXsizeUser\":0,\"fYsizeUser\":0,\"fXsizeReal\":20,\"fYsizeReal\":15,\"fWindowTopX\":0,\"fWindowTopY\":0,\"fWindowWidth\":0,\"fWindowHeight\":0,\"fCw\":796,\"fCh\":572,\"fCatt\":{\"_typename\":\"TAttCanvas\",\"fXBetween\":2,\"fYBetween\":2,\"fTitleFromTop\":1.2,\"fXdate\":0.2,\"fYdate\":0.3,\"fAdate\":1},\"kMoveOpaque\":true,\"kResizeOpaque\":true,\"fHighLightColor\":2,\"fBatch\":true,\"kShowEventStatus\":false,\"kAutoExec\":true,\"kMenuBar\":true});\n",
       "       Core.draw(\"root_plot_36\", obj, \"\");\n",
       "     }\n",
       " );\n",
       "</script>\n"
      ],
      "text/plain": [
       "<IPython.core.display.HTML object>"
      ]
     },
     "metadata": {},
     "output_type": "display_data"
    },
    {
     "data": {
      "text/html": [
       "\n",
       "<div id=\"root_plot_37\"\n",
       "     style=\"width: 796px; height: 572px\">\n",
       "</div>\n",
       "\n",
       "<script>\n",
       " requirejs.config({\n",
       "     paths: {\n",
       "       'JSRootCore' : 'https://root.cern.ch/js/notebook//scripts/JSRootCore',\n",
       "     }\n",
       "   });\n",
       " require(['JSRootCore'],\n",
       "     function(Core) {\n",
       "       var obj = Core.JSONR_unref({\"_typename\":\"TCanvas\",\"fUniqueID\":0,\"fBits\":53673992,\"fLineColor\":1,\"fLineStyle\":1,\"fLineWidth\":1,\"fFillColor\":0,\"fFillStyle\":1001,\"fLeftMargin\":0.13,\"fRightMargin\":0.3,\"fBottomMargin\":0.13,\"fTopMargin\":0.1,\"fXfile\":2,\"fYfile\":2,\"fAfile\":1,\"fXstat\":0.99,\"fYstat\":0.99,\"fAstat\":2,\"fFrameFillColor\":0,\"fFrameLineColor\":1,\"fFrameFillStyle\":1001,\"fFrameLineStyle\":1,\"fFrameLineWidth\":1,\"fFrameBorderSize\":1,\"fFrameBorderMode\":0,\"fX1\":-25.0421046588559,\"fY1\":-0.185714283502611,\"fX2\":167.58947670572,\"fY2\":1.24285714852456,\"fXtoAbsPixelk\":103.480046204376,\"fXtoPixelk\":103.480046204376,\"fXtoPixel\":4.13224038530569,\"fYtoAbsPixelk\":497.640051065433,\"fYtoPixelk\":497.640051065433,\"fYtoPixel\":-400.399999031424,\"fUtoAbsPixelk\":5e-5,\"fUtoPixelk\":5e-5,\"fUtoPixel\":796,\"fVtoAbsPixelk\":572.00005,\"fVtoPixelk\":572,\"fVtoPixel\":-572,\"fAbsPixeltoXk\":-25.0421046588559,\"fPixeltoXk\":-25.0421046588559,\"fPixeltoX\":0.241999474076101,\"fAbsPixeltoYk\":1.24285714852456,\"fPixeltoYk\":-0.185714283502611,\"fPixeltoY\":-0.00249750250354401,\"fXlowNDC\":0,\"fYlowNDC\":0,\"fXUpNDC\":0,\"fYUpNDC\":0,\"fWNDC\":1,\"fHNDC\":1,\"fAbsXlowNDC\":0,\"fAbsYlowNDC\":0,\"fAbsWNDC\":1,\"fAbsHNDC\":1,\"fUxmin\":0,\"fUymin\":0,\"fUxmax\":109.8,\"fUymax\":1.1,\"fTheta\":30,\"fPhi\":30,\"fAspectRatio\":0,\"fNumber\":0,\"fTickx\":0,\"fTicky\":0,\"fLogx\":0,\"fLogy\":0,\"fLogz\":0,\"fPadPaint\":0,\"fCrosshair\":0,\"fCrosshairPos\":0,\"fBorderSize\":2,\"fBorderMode\":0,\"fModified\":false,\"fGridx\":false,\"fGridy\":false,\"fAbsCoord\":false,\"fEditable\":true,\"fFixedAspectRatio\":false,\"fPrimitives\":{\"_typename\":\"TList\",\"name\":\"TList\",\"arr\":[{\"_typename\":\"TFrame\",\"fUniqueID\":0,\"fBits\":50331656,\"fLineColor\":1,\"fLineStyle\":1,\"fLineWidth\":1,\"fFillColor\":0,\"fFillStyle\":1001,\"fX1\":0,\"fY1\":0,\"fX2\":109.8,\"fY2\":1.1,\"fBorderSize\":1,\"fBorderMode\":0},{\"_typename\":\"TGraphAsymmErrors\",\"fUniqueID\":0,\"fBits\":50332680,\"fName\":\"f60890\",\"fTitle\":\"; p_{T}^{GEN} [GeV];\",\"fLineColor\":1,\"fLineStyle\":1,\"fLineWidth\":1,\"fFillColor\":0,\"fFillStyle\":1001,\"fMarkerColor\":1,\"fMarkerStyle\":8,\"fMarkerSize\":0.5,\"fNpoints\":49,\"fX\":[3,5,7,9,11,13,15,17,19,21,23,25,27,29,31,33,35,37,39,41,43,45,47,49,51,53,55,57,59,61,63,65,67,69,71,73,75,77,79,81,83,85,87,89,91,93,95,97,99],\"fY\":[0,0,0,0,0.00221238938053097,0.0296296296296296,0.218487394957983,0.599571734475375,0.821576763485477,0.891050583657588,0.934489402697495,0.965909090909091,0.992,0.994423791821561,0.985185185185185,0.995910020449898,0.996396396396396,0.996539792387543,0.998211091234347,1,1,0.995762711864407,1,1,0.996557659208262,0.996023856858847,1,1,0.996116504854369,1,1,1,0.996138996138996,1,1,1,0.99647266313933,0.998165137614679,0.998069498069498,1,1,1,1,0.998230088495575,0.998158379373849,0.998058252427184,0.998201438848921,1,1],\"fFunctions\":{\"_typename\":\"TList\",\"name\":\"TList\",\"arr\":[{\"_typename\":\"TF1\",\"fUniqueID\":0,\"fBits\":50332680,\"fName\":\"tf_yc\",\"fTitle\":\"tf_yc\",\"fLineColor\":6,\"fLineStyle\":1,\"fLineWidth\":2,\"fFillColor\":19,\"fFillStyle\":0,\"fMarkerColor\":1,\"fMarkerStyle\":1,\"fMarkerSize\":1,\"fXmin\":0,\"fXmax\":100,\"fNpar\":5,\"fNdim\":1,\"fNpx\":100,\"fType\":1,\"fNpfits\":49,\"fNDF\":45,\"fChisquare\":15.3150117581344,\"fMinimum\":-1111,\"fMaximum\":-1111,\"fParErrors\":[0.0252634921150625,0.551875851873879,0.183574790146992,4.29370422676656e-4,0],\"fParMin\":[0,0,0.1,0.9,1],\"fParMax\":[1,50,1,1,1],\"fSave\":[1.00269784398074e-43,5.35749666072743e-38,1.06557796336469e-32,7.90501154825106e-28,2.1928452904538e-23,2.28200301229923e-19,8.9473706339545e-16,1.329459156742e-12,7.54707245449372e-10,1.65606721882572e-7,1.42938058182997e-5,4.98602470527375e-4,0.00734278496028617,0.0490552746523431,0.166912379627645,0.341703258600652,0.508173591045844,0.637463717135262,0.733028932712073,0.803294966935166,0.854947611995451,0.892917386429468,0.920828904457246,0.941346614930293,0.956429149769021,0.967516296040058,0.97566643882108,0.981657595222124,0.986061684326594,0.989299122901346,0.991678958612357,0.993428371884804,0.994714362671333,0.995659692359341,0.996354602640494,0.996865430032228,0.99724093839816,0.997516973973321,0.997719887265452,0.997869048488963,0.997978696656246,0.998059298841622,0.998118549374014,0.998162104341817,0.998194121526197,0.998217657305176,0.998234958417153,0.998247676435788,0.998257025430132,0.998263897860321,0.998268949772322,0.998272663424431,0.998275393323918,0.99827740006849,0.998278875223087,0.998279959606777,0.998280756735424,0.998281342703366,0.998281773447426,0.998282090086668,0.998282322847648,0.998282493949857,0.998282619726806,0.998282712185232,0.998282780151268,0.998282830112987,0.998282866839764,0.998282893837557,0.998282913683589,0.998282928272375,0.998282938996567,0.998282946879902,0.998282952674929,0.998282956934844,0.9982829600663,0.998282962368228,0.998282964060372,0.998282965304264,0.998282966218647,0.998282966890808,0.998282967384913,0.998282967748128,0.998282968015127,0.998282968211398,0.998282968355676,0.998282968461735,0.998282968539698,0.998282968597009,0.998282968639138,0.998282968670107,0.998282968692873,0.998282968709607,0.998282968721909,0.998282968730952,0.9982829687376,0.998282968742486,0.998282968746078,0.998282968748719,0.99828296875066,0.998282968752087,0.998282968753135,0,100],\"fNormalized\":false,\"fNormIntegral\":0,\"fFormula\":null,\"fParams\":{\"_typename\":\"TF1Parameters\",\"fParameters\":[0.307750997482317,13.539565786724,0.999999999999999,0.998282968756046,0],\"fParNames\":[\"#lambda\",\"#mu\",\"#sigma\",\"Plateau\",\"Baseline\"]},\"fComposition_ptr\":null},{\"_typename\":\"TPaveStats\",\"fUniqueID\":0,\"fBits\":50462729,\"fLineColor\":1,\"fLineStyle\":1,\"fLineWidth\":1,\"fFillColor\":0,\"fFillStyle\":1001,\"fX1\":94.3894784279808,\"fY1\":0.692857160818019,\"fX2\":163.736848752585,\"fY2\":1.15000000884877,\"fX1NDC\":0.620000013709068,\"fY1NDC\":0.615000009536743,\"fX2NDC\":0.980000019073486,\"fY2NDC\":0.935000002384186,\"fBorderSize\":1,\"fInit\":1,\"fShadowColor\":1,\"fCornerRadius\":0,\"fOption\":\"brNDC\",\"fName\":\"stats\",\"fTextAngle\":0,\"fTextSize\":0,\"fTextAlign\":12,\"fTextColor\":1,\"fTextFont\":42,\"fLabel\":\"\",\"fLongest\":32,\"fMargin\":0.05,\"fLines\":{\"_typename\":\"TList\",\"name\":\"TList\",\"arr\":[{\"_typename\":\"TLatex\",\"fUniqueID\":0,\"fBits\":50331648,\"fName\":\"\",\"fTitle\":\"#chi^{2} \\/ ndf = 15.32 \\/ 45\",\"fTextAngle\":0,\"fTextSize\":0,\"fTextAlign\":0,\"fTextColor\":0,\"fTextFont\":0,\"fX\":0,\"fY\":0,\"fLineColor\":1,\"fLineStyle\":1,\"fLineWidth\":2,\"fLimitFactorSize\":3,\"fOriginSize\":0.04},{\"_typename\":\"TLatex\",\"fUniqueID\":0,\"fBits\":50331648,\"fName\":\"\",\"fTitle\":\"Prob  =     1\",\"fTextAngle\":0,\"fTextSize\":0,\"fTextAlign\":0,\"fTextColor\":0,\"fTextFont\":0,\"fX\":0,\"fY\":0,\"fLineColor\":1,\"fLineStyle\":1,\"fLineWidth\":2,\"fLimitFactorSize\":3,\"fOriginSize\":0.04},{\"_typename\":\"TLatex\",\"fUniqueID\":0,\"fBits\":50331648,\"fName\":\"\",\"fTitle\":\"#lambda  = 0.3078 #pm 0.02526 \",\"fTextAngle\":0,\"fTextSize\":0,\"fTextAlign\":0,\"fTextColor\":0,\"fTextFont\":0,\"fX\":0,\"fY\":0,\"fLineColor\":1,\"fLineStyle\":1,\"fLineWidth\":2,\"fLimitFactorSize\":3,\"fOriginSize\":0.04},{\"_typename\":\"TLatex\",\"fUniqueID\":0,\"fBits\":50331648,\"fName\":\"\",\"fTitle\":\"#mu      = 13.54 #pm 0.5519 \",\"fTextAngle\":0,\"fTextSize\":0,\"fTextAlign\":0,\"fTextColor\":0,\"fTextFont\":0,\"fX\":0,\"fY\":0,\"fLineColor\":1,\"fLineStyle\":1,\"fLineWidth\":2,\"fLimitFactorSize\":3,\"fOriginSize\":0.04},{\"_typename\":\"TLatex\",\"fUniqueID\":0,\"fBits\":50331648,\"fName\":\"\",\"fTitle\":\"#sigma   =     1 #pm 0.1836 \",\"fTextAngle\":0,\"fTextSize\":0,\"fTextAlign\":0,\"fTextColor\":0,\"fTextFont\":0,\"fX\":0,\"fY\":0,\"fLineColor\":1,\"fLineStyle\":1,\"fLineWidth\":2,\"fLimitFactorSize\":3,\"fOriginSize\":0.04},{\"_typename\":\"TLatex\",\"fUniqueID\":0,\"fBits\":50331648,\"fName\":\"\",\"fTitle\":\"Plateau  = 0.9983 #pm 0.0004294 \",\"fTextAngle\":0,\"fTextSize\":0,\"fTextAlign\":0,\"fTextColor\":0,\"fTextFont\":0,\"fX\":0,\"fY\":0,\"fLineColor\":1,\"fLineStyle\":1,\"fLineWidth\":2,\"fLimitFactorSize\":3,\"fOriginSize\":0.04},{\"_typename\":\"TLatex\",\"fUniqueID\":0,\"fBits\":50331648,\"fName\":\"\",\"fTitle\":\"Baseline =     0 #pm     0 \",\"fTextAngle\":0,\"fTextSize\":0,\"fTextAlign\":0,\"fTextColor\":0,\"fTextFont\":0,\"fX\":0,\"fY\":0,\"fLineColor\":1,\"fLineStyle\":1,\"fLineWidth\":2,\"fLimitFactorSize\":3,\"fOriginSize\":0.04}],\"opt\":[\"\",\"\",\"\",\"\",\"\",\"\",\"\"]},\"fOptFit\":11111,\"fOptStat\":0,\"fFitFormat\":\"5.4g\",\"fStatFormat\":\"6.4g\",\"fParent\":{\"$ref\":4}}],\"opt\":[\"\",\"brNDC\"]},\"fHistogram\":{\"_typename\":\"TH1F\",\"fUniqueID\":0,\"fBits\":50331648,\"fName\":\"f60890\",\"fTitle\":\"\",\"fLineColor\":602,\"fLineStyle\":1,\"fLineWidth\":1,\"fFillColor\":0,\"fFillStyle\":1001,\"fMarkerColor\":1,\"fMarkerStyle\":1,\"fMarkerSize\":1,\"fNcells\":102,\"fXaxis\":{\"_typename\":\"TAxis\",\"fUniqueID\":0,\"fBits\":50331656,\"fName\":\"xaxis\",\"fTitle\":\" p_{T}^{GEN} [GeV]\",\"fNdivisions\":510,\"fAxisColor\":1,\"fLabelColor\":1,\"fLabelFont\":42,\"fLabelOffset\":0.005,\"fLabelSize\":0.035,\"fTickLength\":0.03,\"fTitleOffset\":1.4,\"fTitleSize\":0.035,\"fTitleColor\":1,\"fTitleFont\":42,\"fNbins\":100,\"fXmin\":0,\"fXmax\":109.8,\"fXbins\":[],\"fFirst\":0,\"fLast\":0,\"fBits2\":0,\"fTimeDisplay\":false,\"fTimeFormat\":\"\",\"fLabels\":null,\"fModLabs\":null},\"fYaxis\":{\"_typename\":\"TAxis\",\"fUniqueID\":0,\"fBits\":50331656,\"fName\":\"yaxis\",\"fTitle\":\"L1 matched to GEN and p_{T}>th.\\/L1 matched to GEN\",\"fNdivisions\":510,\"fAxisColor\":1,\"fLabelColor\":1,\"fLabelFont\":42,\"fLabelOffset\":0.005,\"fLabelSize\":0.035,\"fTickLength\":0.03,\"fTitleOffset\":0,\"fTitleSize\":0.035,\"fTitleColor\":1,\"fTitleFont\":42,\"fNbins\":1,\"fXmin\":0,\"fXmax\":1.1,\"fXbins\":[],\"fFirst\":0,\"fLast\":0,\"fBits2\":0,\"fTimeDisplay\":false,\"fTimeFormat\":\"\",\"fLabels\":null,\"fModLabs\":null},\"fZaxis\":{\"_typename\":\"TAxis\",\"fUniqueID\":0,\"fBits\":50331648,\"fName\":\"zaxis\",\"fTitle\":\"\",\"fNdivisions\":510,\"fAxisColor\":1,\"fLabelColor\":1,\"fLabelFont\":42,\"fLabelOffset\":0.005,\"fLabelSize\":0.035,\"fTickLength\":0.03,\"fTitleOffset\":1,\"fTitleSize\":0.035,\"fTitleColor\":1,\"fTitleFont\":42,\"fNbins\":1,\"fXmin\":0,\"fXmax\":1,\"fXbins\":[],\"fFirst\":0,\"fLast\":0,\"fBits2\":0,\"fTimeDisplay\":false,\"fTimeFormat\":\"\",\"fLabels\":null,\"fModLabs\":null},\"fBarOffset\":0,\"fBarWidth\":1000,\"fEntries\":0,\"fTsumw\":0,\"fTsumw2\":0,\"fTsumwx\":0,\"fTsumwx2\":0,\"fMaximum\":1.1,\"fMinimum\":0,\"fNormFactor\":0,\"fContour\":[],\"fSumw2\":[],\"fOption\":\"\",\"fFunctions\":{\"_typename\":\"TList\",\"name\":\"TList\",\"arr\":[],\"opt\":[]},\"fBufferSize\":0,\"fBuffer\":[],\"fBinStatErrOpt\":0,\"fStatOverflows\":2,\"fArray\":[0,0,0,0,0,0,0,0,0,0,0,0,0,0,0,0,0,0,0,0,0,0,0,0,0,0,0,0,0,0,0,0,0,0,0,0,0,0,0,0,0,0,0,0,0,0,0,0,0,0,0,0,0,0,0,0,0,0,0,0,0,0,0,0,0,0,0,0,0,0,0,0,0,0,0,0,0,0,0,0,0,0,0,0,0,0,0,0,0,0,0,0,0,0,0,0,0,0,0,0,0,0]},\"fMinimum\":-1111,\"fMaximum\":-1111,\"fEXlow\":[1,1,1,1,1,1,1,1,1,1,1,1,1,1,1,1,1,1,1,1,1,1,1,1,1,1,1,1,1,1,1,1,1,1,1,1,1,1,1,1,1,1,1,1,1,1,1,1,1],\"fEXhigh\":[1,1,1,1,1,1,1,1,1,1,1,1,1,1,1,1,1,1,1,1,1,1,1,1,1,1,1,1,1,1,1,1,1,1,1,1,1,1,1,1,1,1,1,1,1,1,1,1,1],\"fEYlow\":[0,0,0,0,0.0018302637829638,0.00836886699939677,0.0193508949396447,0.0239415310506711,0.0191706757918412,0.0155281223888559,0.0127434492255341,0.00985417553600998,0.00628022214407487,0.00539432533261841,0.00722495993006456,0.00536884112826019,0.00473305947476055,0.00454547717016329,0.0041015155016102,0.0034873048844285,0.00347414329597728,0.00556125786809392,0.00328800240050431,0.00345458614095473,0.00452210043883006,0.00522010093980552,0.00350056657582654,0.00334171607834644,0.00509901665126333,0.00327047951878845,0.00322465214023471,0.00350056657582654,0.00506961820607532,0.00346759968683441,0.00337851090995966,0.00338472230368492,0.0046332995610554,0.00420655633739031,0.00442511811202106,0.00359629985182086,0.00325890099174631,0.00353416632119274,0.00347414329597728,0.00405808687428899,0.00422200298480258,0.00445081284829207,0.00412358026016912,0.00356151411478722,0.00366065719283548],\"fEYhigh\":[0.0110956905950783,0.00797249169425943,0.00575460618350494,0.00466174395275809,0.0050689035352251,0.0110280286617458,0.0205977171517998,0.0234955596017385,0.0177587368338643,0.0139006781882841,0.0109225752818631,0.00787981031035179,0.00382485210689876,0.00303326922138536,0.00511068872194409,0.00264131463224071,0.00232725778845122,0.00223466350376711,0.0014799157642319,0,0,0.00273643054098638,0,0,0.00222312638759459,0.00256781065272449,0,0,0.00250798749953929,0,0,0,0.00249346472665857,0,0,0,0.00227801062754107,0.00151793320693461,0.00159705603204052,0,0,0,0,0.00146419934298714,0.00152352430682134,0.00160635959682764,0.00148790118023034,0,0]},{\"_typename\":\"TLatex\",\"fUniqueID\":0,\"fBits\":50348040,\"fName\":\"\",\"fTitle\":\"PU200, EG, hwQual 5, p_{T}^{L1}>=15GeV, 1.52 < |#eta^{GEN}| <= 2.4\",\"fTextAngle\":0,\"fTextSize\":0.03,\"fTextAlign\":11,\"fTextColor\":1,\"fTextFont\":62,\"fX\":0.15,\"fY\":0.85,\"fLineColor\":1,\"fLineStyle\":1,\"fLineWidth\":2,\"fLimitFactorSize\":3,\"fOriginSize\":0.04},{\"_typename\":\"TLatex\",\"fUniqueID\":0,\"fBits\":50331656,\"fName\":\"\",\"fTitle\":\"\",\"fTextAngle\":0,\"fTextSize\":0.03,\"fTextAlign\":11,\"fTextColor\":1,\"fTextFont\":62,\"fX\":0,\"fY\":0,\"fLineColor\":1,\"fLineStyle\":1,\"fLineWidth\":2,\"fLimitFactorSize\":3,\"fOriginSize\":0.04},{\"_typename\":\"TLine\",\"fUniqueID\":0,\"fBits\":50331656,\"fLineColor\":1,\"fLineStyle\":2,\"fLineWidth\":1,\"fX1\":0,\"fY1\":0.95,\"fX2\":109.8,\"fY2\":0.95},{\"_typename\":\"TLine\",\"fUniqueID\":0,\"fBits\":50331656,\"fLineColor\":1,\"fLineStyle\":2,\"fLineWidth\":1,\"fX1\":0,\"fY1\":1,\"fX2\":109.8,\"fY2\":1},{\"_typename\":\"TGraphErrors\",\"fUniqueID\":0,\"fBits\":50332680,\"fName\":\"Graph\",\"fTitle\":\"Fitted line with .95 conf. band\",\"fLineColor\":1,\"fLineStyle\":1,\"fLineWidth\":1,\"fFillColor\":0,\"fFillStyle\":1000,\"fMarkerColor\":1,\"fMarkerStyle\":1,\"fMarkerSize\":1,\"fNpoints\":49,\"fX\":[3,5,7,9,11,13,15,17,19,21,23,25,27,29,31,33,35,37,39,41,43,45,47,49,51,53,55,57,59,61,63,65,67,69,71,73,75,77,79,81,83,85,87,89,91,93,95,97,99],\"fY\":[7.90501154825106e-28,2.28200301229923e-19,1.329459156742e-12,1.65606721882572e-7,4.98602470527375e-4,0.0490552746523431,0.341703258600652,0.637463717135262,0.803294966935166,0.892917386429468,0.941346614930293,0.967516296040058,0.981657595222124,0.989299122901346,0.993428371884804,0.995659692359341,0.996865430032228,0.997516973973321,0.997869048488963,0.998059298841622,0.998162104341817,0.998217657305176,0.998247676435788,0.998263897860321,0.998272663424431,0.99827740006849,0.998279959606777,0.998281342703366,0.998282090086668,0.998282493949857,0.998282712185232,0.998282830112987,0.998282893837557,0.998282928272375,0.998282946879902,0.998282956934844,0.998282962368228,0.998282965304264,0.998282966890808,0.998282967748128,0.998282968211398,0.998282968461735,0.998282968597009,0.998282968670107,0.998282968709607,0.998282968730952,0.998282968742486,0.998282968748719,0.998282968752087],\"fFunctions\":{\"_typename\":\"TList\",\"name\":\"TList\",\"arr\":[],\"opt\":[]},\"fHistogram\":{\"_typename\":\"TH1F\",\"fUniqueID\":0,\"fBits\":50332168,\"fName\":\"Graph\",\"fTitle\":\"Fitted line with .95 conf. band\",\"fLineColor\":602,\"fLineStyle\":1,\"fLineWidth\":1,\"fFillColor\":0,\"fFillStyle\":1001,\"fMarkerColor\":1,\"fMarkerStyle\":1,\"fMarkerSize\":1,\"fNcells\":102,\"fXaxis\":{\"_typename\":\"TAxis\",\"fUniqueID\":0,\"fBits\":50331648,\"fName\":\"xaxis\",\"fTitle\":\"\",\"fNdivisions\":510,\"fAxisColor\":1,\"fLabelColor\":1,\"fLabelFont\":42,\"fLabelOffset\":0.005,\"fLabelSize\":0.035,\"fTickLength\":0.03,\"fTitleOffset\":1,\"fTitleSize\":0.035,\"fTitleColor\":1,\"fTitleFont\":42,\"fNbins\":100,\"fXmin\":0,\"fXmax\":108.6,\"fXbins\":[],\"fFirst\":0,\"fLast\":0,\"fBits2\":0,\"fTimeDisplay\":false,\"fTimeFormat\":\"\",\"fLabels\":null,\"fModLabs\":null},\"fYaxis\":{\"_typename\":\"TAxis\",\"fUniqueID\":0,\"fBits\":50331648,\"fName\":\"yaxis\",\"fTitle\":\"\",\"fNdivisions\":510,\"fAxisColor\":1,\"fLabelColor\":1,\"fLabelFont\":42,\"fLabelOffset\":0.005,\"fLabelSize\":0.035,\"fTickLength\":0.03,\"fTitleOffset\":0,\"fTitleSize\":0.035,\"fTitleColor\":1,\"fTitleFont\":42,\"fNbins\":1,\"fXmin\":-0.211458408777902,\"fXmax\":1.11005914044737,\"fXbins\":[],\"fFirst\":0,\"fLast\":0,\"fBits2\":0,\"fTimeDisplay\":false,\"fTimeFormat\":\"\",\"fLabels\":null,\"fModLabs\":null},\"fZaxis\":{\"_typename\":\"TAxis\",\"fUniqueID\":0,\"fBits\":50331648,\"fName\":\"zaxis\",\"fTitle\":\"\",\"fNdivisions\":510,\"fAxisColor\":1,\"fLabelColor\":1,\"fLabelFont\":42,\"fLabelOffset\":0.005,\"fLabelSize\":0.035,\"fTickLength\":0.03,\"fTitleOffset\":1,\"fTitleSize\":0.035,\"fTitleColor\":1,\"fTitleFont\":42,\"fNbins\":1,\"fXmin\":0,\"fXmax\":1,\"fXbins\":[],\"fFirst\":0,\"fLast\":0,\"fBits2\":0,\"fTimeDisplay\":false,\"fTimeFormat\":\"\",\"fLabels\":null,\"fModLabs\":null},\"fBarOffset\":0,\"fBarWidth\":1000,\"fEntries\":0,\"fTsumw\":0,\"fTsumw2\":0,\"fTsumwx\":0,\"fTsumwx2\":0,\"fMaximum\":1.11005914044737,\"fMinimum\":-0.211458408777902,\"fNormFactor\":0,\"fContour\":[],\"fSumw2\":[],\"fOption\":\"\",\"fFunctions\":{\"_typename\":\"TList\",\"name\":\"TList\",\"arr\":[],\"opt\":[]},\"fBufferSize\":0,\"fBuffer\":[],\"fBinStatErrOpt\":0,\"fStatOverflows\":2,\"fArray\":[0,0,0,0,0,0,0,0,0,0,0,0,0,0,0,0,0,0,0,0,0,0,0,0,0,0,0,0,0,0,0,0,0,0,0,0,0,0,0,0,0,0,0,0,0,0,0,0,0,0,0,0,0,0,0,0,0,0,0,0,0,0,0,0,0,0,0,0,0,0,0,0,0,0,0,0,0,0,0,0,0,0,0,0,0,0,0,0,0,0,0,0,0,0,0,0,0,0,0,0,0,0]},\"fMinimum\":-1111,\"fMaximum\":-1111,\"fEX\":[0,0,0,0,0,0,0,0,0,0,0,0,0,0,0,0,0,0,0,0,0,0,0,0,0,0,0,0,0,0,0,0,0,0,0,0,0,0,0,0,0,0,0,0,0,0,0,0,0],\"fEY\":[1.77909401866829e-26,4.18755566854854e-18,1.89301316686616e-11,1.6915511120596e-6,0.00318386417096171,0.150387220994806,0.327169329942119,0.169940069750461,0.084961644716446,0.0507473581552679,0.0335662765863377,0.0225001175110228,0.0147894112028758,0.00949410835920197,0.00599941596749135,0.00381261019483825,0.00255579114941754,0.0019355642692274,0.00169394378113106,0.00162597333460774,0.00161805122483001,0.00162520618889436,0.00163347373104595,0.00163966623794716,0.00164371566078404,0.00164620493312701,0.00164768583021303,0.00164855030985087,0.00164904910247334,0.00164933471858348,0.00164949740993272,0.00164958972604148,0.001649641953631,0.00164967143002033,0.00164968803202657,0.00164969736623449,0.00164970260584252,0.00164970554287106,0.00164970718693702,0.00164970810621053,0.00164970861958726,0.0016497089059972,0.00164970906556576,0.00164970915446159,0.00164970920389768,0.00164970923141218,0.00164970924667936,0.00164970925513505,0.00164970925984251]}],\"opt\":[\"\",\"pa\",\"same\",\"same\",\"same\",\"same\",\"\"]},\"fExecs\":null,\"fName\":\"c_f080e7\",\"fTitle\":\"c_f080e7\",\"fNumPaletteColor\":0,\"fNextPaletteColor\":0,\"fDISPLAY\":\"$DISPLAY\",\"fDoubleBuffer\":0,\"fRetained\":true,\"fXsizeUser\":0,\"fYsizeUser\":0,\"fXsizeReal\":20,\"fYsizeReal\":15,\"fWindowTopX\":0,\"fWindowTopY\":0,\"fWindowWidth\":0,\"fWindowHeight\":0,\"fCw\":796,\"fCh\":572,\"fCatt\":{\"_typename\":\"TAttCanvas\",\"fXBetween\":2,\"fYBetween\":2,\"fTitleFromTop\":1.2,\"fXdate\":0.2,\"fYdate\":0.3,\"fAdate\":1},\"kMoveOpaque\":true,\"kResizeOpaque\":true,\"fHighLightColor\":2,\"fBatch\":true,\"kShowEventStatus\":false,\"kAutoExec\":true,\"kMenuBar\":true});\n",
       "       Core.draw(\"root_plot_37\", obj, \"\");\n",
       "     }\n",
       " );\n",
       "</script>\n"
      ],
      "text/plain": [
       "<IPython.core.display.HTML object>"
      ]
     },
     "metadata": {},
     "output_type": "display_data"
    },
    {
     "data": {
      "text/html": [
       "\n",
       "<div id=\"root_plot_38\"\n",
       "     style=\"width: 796px; height: 572px\">\n",
       "</div>\n",
       "\n",
       "<script>\n",
       " requirejs.config({\n",
       "     paths: {\n",
       "       'JSRootCore' : 'https://root.cern.ch/js/notebook//scripts/JSRootCore',\n",
       "     }\n",
       "   });\n",
       " require(['JSRootCore'],\n",
       "     function(Core) {\n",
       "       var obj = Core.JSONR_unref({\"_typename\":\"TCanvas\",\"fUniqueID\":0,\"fBits\":53673992,\"fLineColor\":1,\"fLineStyle\":1,\"fLineWidth\":1,\"fFillColor\":0,\"fFillStyle\":1001,\"fLeftMargin\":0.13,\"fRightMargin\":0.3,\"fBottomMargin\":0.13,\"fTopMargin\":0.1,\"fXfile\":2,\"fYfile\":2,\"fAfile\":1,\"fXstat\":0.99,\"fYstat\":0.99,\"fAstat\":2,\"fFrameFillColor\":0,\"fFrameLineColor\":1,\"fFrameFillStyle\":1001,\"fFrameLineStyle\":1,\"fFrameLineWidth\":1,\"fFrameBorderSize\":1,\"fFrameBorderMode\":0,\"fX1\":-25.0421046588559,\"fY1\":-0.185714283502611,\"fX2\":167.58947670572,\"fY2\":1.24285714852456,\"fXtoAbsPixelk\":103.480046204376,\"fXtoPixelk\":103.480046204376,\"fXtoPixel\":4.13224038530569,\"fYtoAbsPixelk\":497.640051065433,\"fYtoPixelk\":497.640051065433,\"fYtoPixel\":-400.399999031424,\"fUtoAbsPixelk\":5e-5,\"fUtoPixelk\":5e-5,\"fUtoPixel\":796,\"fVtoAbsPixelk\":572.00005,\"fVtoPixelk\":572,\"fVtoPixel\":-572,\"fAbsPixeltoXk\":-25.0421046588559,\"fPixeltoXk\":-25.0421046588559,\"fPixeltoX\":0.241999474076101,\"fAbsPixeltoYk\":1.24285714852456,\"fPixeltoYk\":-0.185714283502611,\"fPixeltoY\":-0.00249750250354401,\"fXlowNDC\":0,\"fYlowNDC\":0,\"fXUpNDC\":0,\"fYUpNDC\":0,\"fWNDC\":1,\"fHNDC\":1,\"fAbsXlowNDC\":0,\"fAbsYlowNDC\":0,\"fAbsWNDC\":1,\"fAbsHNDC\":1,\"fUxmin\":0,\"fUymin\":0,\"fUxmax\":109.8,\"fUymax\":1.1,\"fTheta\":30,\"fPhi\":30,\"fAspectRatio\":0,\"fNumber\":0,\"fTickx\":0,\"fTicky\":0,\"fLogx\":0,\"fLogy\":0,\"fLogz\":0,\"fPadPaint\":0,\"fCrosshair\":0,\"fCrosshairPos\":0,\"fBorderSize\":2,\"fBorderMode\":0,\"fModified\":false,\"fGridx\":false,\"fGridy\":false,\"fAbsCoord\":false,\"fEditable\":true,\"fFixedAspectRatio\":false,\"fPrimitives\":{\"_typename\":\"TList\",\"name\":\"TList\",\"arr\":[{\"_typename\":\"TFrame\",\"fUniqueID\":0,\"fBits\":50331656,\"fLineColor\":1,\"fLineStyle\":1,\"fLineWidth\":1,\"fFillColor\":0,\"fFillStyle\":1001,\"fX1\":0,\"fY1\":0,\"fX2\":109.8,\"fY2\":1.1,\"fBorderSize\":1,\"fBorderMode\":0},{\"_typename\":\"TGraphAsymmErrors\",\"fUniqueID\":0,\"fBits\":50332680,\"fName\":\"29739b\",\"fTitle\":\"; p_{T}^{GEN} [GeV];\",\"fLineColor\":1,\"fLineStyle\":1,\"fLineWidth\":1,\"fFillColor\":0,\"fFillStyle\":1001,\"fMarkerColor\":1,\"fMarkerStyle\":8,\"fMarkerSize\":0.5,\"fNpoints\":49,\"fX\":[3,5,7,9,11,13,15,17,19,21,23,25,27,29,31,33,35,37,39,41,43,45,47,49,51,53,55,57,59,61,63,65,67,69,71,73,75,77,79,81,83,85,87,89,91,93,95,97,99],\"fY\":[0,0,0,0,0,0,0,0.012847965738758,0.0995850622406639,0.445525291828794,0.709055876685935,0.884469696969697,0.938,0.968401486988848,0.959259259259259,0.98159509202454,0.992792792792793,0.993079584775087,0.998211091234347,1,1,0.995762711864407,1,1,0.996557659208262,0.996023856858847,1,1,0.996116504854369,1,1,1,0.996138996138996,1,1,1,0.99647266313933,0.998165137614679,0.998069498069498,1,1,1,1,0.998230088495575,0.998158379373849,0.998058252427184,0.998201438848921,1,1],\"fFunctions\":{\"_typename\":\"TList\",\"name\":\"TList\",\"arr\":[{\"_typename\":\"TF1\",\"fUniqueID\":0,\"fBits\":50332680,\"fName\":\"tf_yc\",\"fTitle\":\"tf_yc\",\"fLineColor\":6,\"fLineStyle\":1,\"fLineWidth\":2,\"fFillColor\":19,\"fFillStyle\":0,\"fMarkerColor\":1,\"fMarkerStyle\":1,\"fMarkerSize\":1,\"fXmin\":0,\"fXmax\":100,\"fNpar\":5,\"fNdim\":1,\"fNpx\":100,\"fType\":1,\"fNpfits\":49,\"fNDF\":45,\"fChisquare\":14.1156420322434,\"fMinimum\":-1111,\"fMaximum\":-1111,\"fParErrors\":[0.0202646955839856,0.442286440886527,0.727193546864602,4.42768790697212e-4,0],\"fParMin\":[0,0,0.1,0.9,1],\"fParMax\":[1,50,1,1,1],\"fSave\":[7.50071171667345e-79,5.72828577956823e-71,1.61940247427576e-63,1.69596409900841e-56,6.58559830265184e-50,9.49189528292515e-44,5.08453741900294e-38,1.01386894664757e-32,7.54061224955973e-28,2.09710499732223e-23,2.18794905779202e-19,8.60054892980386e-16,1.28119941031525e-12,7.29176885669657e-10,1.6041583279925e-7,1.38814594540048e-5,4.8547159135196e-4,0.00716799223282395,0.048012508617862,0.163789918210959,0.336166500907679,0.501145355049521,0.630026182849236,0.725881937580044,0.796804567034282,0.849267728240436,0.888075833699259,0.916783006067433,0.938018305641591,0.953726503656388,0.965346188323911,0.973941513621279,0.980299656641638,0.985002908847778,0.988482003489677,0.991055563017591,0.992959279163725,0.994367498062782,0.9954091872199,0.996179746612893,0.996749745613143,0.997171385869873,0.99748328204165,0.997713998204105,0.997884663805143,0.998010908742073,0.998104294778881,0.998173374395718,0.998224474042147,0.998262273526058,0.998290234599837,0.998310917994583,0.998326217936981,0.998337535626377,0.998345907559416,0.998352100454481,0.998356681469297,0.998360070142368,0.998362576815158,0.998364431053776,0.998365802673106,0.998366817288792,0.998367567821368,0.998368123006111,0.998368533687949,0.998368837477948,0.998369062197804,0.998369228427811,0.998369351391646,0.998369442350582,0.998369509634822,0.99836955940639,0.998369596223466,0.998369623457833,0.998369643603667,0.998369658505964,0.998369669529507,0.998369677683854,0.998369683715795,0.99836968817775,0.998369691478351,0.998369693919876,0.998369695725923,0.998369697061894,0.99836969805014,0.998369698781166,0.998369699321922,0.99836969972193,0.998369700017824,0.998369700236704,0.998369700398613,0.998369700518381,0.998369700606976,0.998369700672512,0.99836970072099,0.99836970075685,0.998369700783377,0.998369700802999,0.998369700817514,0.998369700828251,0.998369700836193,0,100],\"fNormalized\":false,\"fNormIntegral\":0,\"fFormula\":null,\"fParams\":{\"_typename\":\"TF1Parameters\",\"fParameters\":[0.30148212861107,18.5421083050828,0.999999999999994,0.998369700858766,0],\"fParNames\":[\"#lambda\",\"#mu\",\"#sigma\",\"Plateau\",\"Baseline\"]},\"fComposition_ptr\":null},{\"_typename\":\"TPaveStats\",\"fUniqueID\":0,\"fBits\":50462729,\"fLineColor\":1,\"fLineStyle\":1,\"fLineWidth\":1,\"fFillColor\":0,\"fFillStyle\":1001,\"fX1\":94.3894784279808,\"fY1\":0.692857160818019,\"fX2\":163.736848752585,\"fY2\":1.15000000884877,\"fX1NDC\":0.620000013709068,\"fY1NDC\":0.615000009536743,\"fX2NDC\":0.980000019073486,\"fY2NDC\":0.935000002384186,\"fBorderSize\":1,\"fInit\":1,\"fShadowColor\":1,\"fCornerRadius\":0,\"fOption\":\"brNDC\",\"fName\":\"stats\",\"fTextAngle\":0,\"fTextSize\":0,\"fTextAlign\":12,\"fTextColor\":1,\"fTextFont\":42,\"fLabel\":\"\",\"fLongest\":32,\"fMargin\":0.05,\"fLines\":{\"_typename\":\"TList\",\"name\":\"TList\",\"arr\":[{\"_typename\":\"TLatex\",\"fUniqueID\":0,\"fBits\":50331648,\"fName\":\"\",\"fTitle\":\"#chi^{2} \\/ ndf = 14.12 \\/ 45\",\"fTextAngle\":0,\"fTextSize\":0,\"fTextAlign\":0,\"fTextColor\":0,\"fTextFont\":0,\"fX\":0,\"fY\":0,\"fLineColor\":1,\"fLineStyle\":1,\"fLineWidth\":2,\"fLimitFactorSize\":3,\"fOriginSize\":0.04},{\"_typename\":\"TLatex\",\"fUniqueID\":0,\"fBits\":50331648,\"fName\":\"\",\"fTitle\":\"Prob  =     1\",\"fTextAngle\":0,\"fTextSize\":0,\"fTextAlign\":0,\"fTextColor\":0,\"fTextFont\":0,\"fX\":0,\"fY\":0,\"fLineColor\":1,\"fLineStyle\":1,\"fLineWidth\":2,\"fLimitFactorSize\":3,\"fOriginSize\":0.04},{\"_typename\":\"TLatex\",\"fUniqueID\":0,\"fBits\":50331648,\"fName\":\"\",\"fTitle\":\"#lambda  = 0.3015 #pm 0.02026 \",\"fTextAngle\":0,\"fTextSize\":0,\"fTextAlign\":0,\"fTextColor\":0,\"fTextFont\":0,\"fX\":0,\"fY\":0,\"fLineColor\":1,\"fLineStyle\":1,\"fLineWidth\":2,\"fLimitFactorSize\":3,\"fOriginSize\":0.04},{\"_typename\":\"TLatex\",\"fUniqueID\":0,\"fBits\":50331648,\"fName\":\"\",\"fTitle\":\"#mu      = 18.54 #pm 0.4423 \",\"fTextAngle\":0,\"fTextSize\":0,\"fTextAlign\":0,\"fTextColor\":0,\"fTextFont\":0,\"fX\":0,\"fY\":0,\"fLineColor\":1,\"fLineStyle\":1,\"fLineWidth\":2,\"fLimitFactorSize\":3,\"fOriginSize\":0.04},{\"_typename\":\"TLatex\",\"fUniqueID\":0,\"fBits\":50331648,\"fName\":\"\",\"fTitle\":\"#sigma   =     1 #pm 0.7272 \",\"fTextAngle\":0,\"fTextSize\":0,\"fTextAlign\":0,\"fTextColor\":0,\"fTextFont\":0,\"fX\":0,\"fY\":0,\"fLineColor\":1,\"fLineStyle\":1,\"fLineWidth\":2,\"fLimitFactorSize\":3,\"fOriginSize\":0.04},{\"_typename\":\"TLatex\",\"fUniqueID\":0,\"fBits\":50331648,\"fName\":\"\",\"fTitle\":\"Plateau  = 0.9984 #pm 0.0004428 \",\"fTextAngle\":0,\"fTextSize\":0,\"fTextAlign\":0,\"fTextColor\":0,\"fTextFont\":0,\"fX\":0,\"fY\":0,\"fLineColor\":1,\"fLineStyle\":1,\"fLineWidth\":2,\"fLimitFactorSize\":3,\"fOriginSize\":0.04},{\"_typename\":\"TLatex\",\"fUniqueID\":0,\"fBits\":50331648,\"fName\":\"\",\"fTitle\":\"Baseline =     0 #pm     0 \",\"fTextAngle\":0,\"fTextSize\":0,\"fTextAlign\":0,\"fTextColor\":0,\"fTextFont\":0,\"fX\":0,\"fY\":0,\"fLineColor\":1,\"fLineStyle\":1,\"fLineWidth\":2,\"fLimitFactorSize\":3,\"fOriginSize\":0.04}],\"opt\":[\"\",\"\",\"\",\"\",\"\",\"\",\"\"]},\"fOptFit\":11111,\"fOptStat\":0,\"fFitFormat\":\"5.4g\",\"fStatFormat\":\"6.4g\",\"fParent\":{\"$ref\":4}}],\"opt\":[\"\",\"brNDC\"]},\"fHistogram\":{\"_typename\":\"TH1F\",\"fUniqueID\":0,\"fBits\":50331648,\"fName\":\"29739b\",\"fTitle\":\"\",\"fLineColor\":602,\"fLineStyle\":1,\"fLineWidth\":1,\"fFillColor\":0,\"fFillStyle\":1001,\"fMarkerColor\":1,\"fMarkerStyle\":1,\"fMarkerSize\":1,\"fNcells\":102,\"fXaxis\":{\"_typename\":\"TAxis\",\"fUniqueID\":0,\"fBits\":50331656,\"fName\":\"xaxis\",\"fTitle\":\" p_{T}^{GEN} [GeV]\",\"fNdivisions\":510,\"fAxisColor\":1,\"fLabelColor\":1,\"fLabelFont\":42,\"fLabelOffset\":0.005,\"fLabelSize\":0.035,\"fTickLength\":0.03,\"fTitleOffset\":1.4,\"fTitleSize\":0.035,\"fTitleColor\":1,\"fTitleFont\":42,\"fNbins\":100,\"fXmin\":0,\"fXmax\":109.8,\"fXbins\":[],\"fFirst\":0,\"fLast\":0,\"fBits2\":0,\"fTimeDisplay\":false,\"fTimeFormat\":\"\",\"fLabels\":null,\"fModLabs\":null},\"fYaxis\":{\"_typename\":\"TAxis\",\"fUniqueID\":0,\"fBits\":50331656,\"fName\":\"yaxis\",\"fTitle\":\"L1 matched to GEN and p_{T}>th.\\/L1 matched to GEN\",\"fNdivisions\":510,\"fAxisColor\":1,\"fLabelColor\":1,\"fLabelFont\":42,\"fLabelOffset\":0.005,\"fLabelSize\":0.035,\"fTickLength\":0.03,\"fTitleOffset\":0,\"fTitleSize\":0.035,\"fTitleColor\":1,\"fTitleFont\":42,\"fNbins\":1,\"fXmin\":0,\"fXmax\":1.1,\"fXbins\":[],\"fFirst\":0,\"fLast\":0,\"fBits2\":0,\"fTimeDisplay\":false,\"fTimeFormat\":\"\",\"fLabels\":null,\"fModLabs\":null},\"fZaxis\":{\"_typename\":\"TAxis\",\"fUniqueID\":0,\"fBits\":50331648,\"fName\":\"zaxis\",\"fTitle\":\"\",\"fNdivisions\":510,\"fAxisColor\":1,\"fLabelColor\":1,\"fLabelFont\":42,\"fLabelOffset\":0.005,\"fLabelSize\":0.035,\"fTickLength\":0.03,\"fTitleOffset\":1,\"fTitleSize\":0.035,\"fTitleColor\":1,\"fTitleFont\":42,\"fNbins\":1,\"fXmin\":0,\"fXmax\":1,\"fXbins\":[],\"fFirst\":0,\"fLast\":0,\"fBits2\":0,\"fTimeDisplay\":false,\"fTimeFormat\":\"\",\"fLabels\":null,\"fModLabs\":null},\"fBarOffset\":0,\"fBarWidth\":1000,\"fEntries\":0,\"fTsumw\":0,\"fTsumw2\":0,\"fTsumwx\":0,\"fTsumwx2\":0,\"fMaximum\":1.1,\"fMinimum\":0,\"fNormFactor\":0,\"fContour\":[],\"fSumw2\":[],\"fOption\":\"\",\"fFunctions\":{\"_typename\":\"TList\",\"name\":\"TList\",\"arr\":[],\"opt\":[]},\"fBufferSize\":0,\"fBuffer\":[],\"fBinStatErrOpt\":0,\"fStatOverflows\":2,\"fArray\":[0,0,0,0,0,0,0,0,0,0,0,0,0,0,0,0,0,0,0,0,0,0,0,0,0,0,0,0,0,0,0,0,0,0,0,0,0,0,0,0,0,0,0,0,0,0,0,0,0,0,0,0,0,0,0,0,0,0,0,0,0,0,0,0,0,0,0,0,0,0,0,0,0,0,0,0,0,0,0,0,0,0,0,0,0,0,0,0,0,0,0,0,0,0,0,0,0,0,0,0,0,0]},\"fMinimum\":-1111,\"fMaximum\":-1111,\"fEXlow\":[1,1,1,1,1,1,1,1,1,1,1,1,1,1,1,1,1,1,1,1,1,1,1,1,1,1,1,1,1,1,1,1,1,1,1,1,1,1,1,1,1,1,1,1,1,1,1,1,1],\"fEXhigh\":[1,1,1,1,1,1,1,1,1,1,1,1,1,1,1,1,1,1,1,1,1,1,1,1,1,1,1,1,1,1,1,1,1,1,1,1,1,1,1,1,1,1,1,1,1,1,1,1,1],\"fEYlow\":[0,0,0,0,0,0,0,0.00508470292948796,0.0137842559655928,0.0227619185607976,0.0213038427609484,0.0156328889496637,0.0127515199172855,0.00947200141355076,0.0103934134568294,0.00829252991311569,0.00566189878682244,0.00543800207231315,0.0041015155016102,0.0034873048844285,0.00347414329597728,0.00556125786809392,0.00328800240050431,0.00345458614095473,0.00452210043883006,0.00522010093980552,0.00350056657582654,0.00334171607834644,0.00509901665126333,0.00327047951878845,0.00322465214023471,0.00350056657582654,0.00506961820607532,0.00346759968683441,0.00337851090995966,0.00338472230368492,0.0046332995610554,0.00420655633739031,0.00442511811202106,0.00359629985182086,0.00325890099174631,0.00353416632119274,0.00347414329597728,0.00405808687428899,0.00422200298480258,0.00445081284829207,0.00412358026016912,0.00356151411478722,0.00366065719283548],\"fEYhigh\":[0.0110956905950783,0.00797249169425943,0.00575460618350494,0.00466174395275809,0.00406477309155856,0.00453541625251657,0.00386022264228776,0.00759500613238361,0.0155699249869757,0.0229830193136121,0.0204603082799425,0.0140791595383769,0.0108392290533189,0.00751815827721147,0.008509230632465,0.00599456603948612,0.00344615530165926,0.00330914350370537,0.0014799157642319,0,0,0.00273643054098638,0,0,0.00222312638759459,0.00256781065272449,0,0,0.00250798749953929,0,0,0,0.00249346472665857,0,0,0,0.00227801062754107,0.00151793320693461,0.00159705603204052,0,0,0,0,0.00146419934298714,0.00152352430682134,0.00160635959682764,0.00148790118023034,0,0]},{\"_typename\":\"TLatex\",\"fUniqueID\":0,\"fBits\":50348040,\"fName\":\"\",\"fTitle\":\"PU200, EG, hwQual 5, p_{T}^{L1}>=20GeV, 1.52 < |#eta^{GEN}| <= 2.4\",\"fTextAngle\":0,\"fTextSize\":0.03,\"fTextAlign\":11,\"fTextColor\":1,\"fTextFont\":62,\"fX\":0.15,\"fY\":0.85,\"fLineColor\":1,\"fLineStyle\":1,\"fLineWidth\":2,\"fLimitFactorSize\":3,\"fOriginSize\":0.04},{\"_typename\":\"TLatex\",\"fUniqueID\":0,\"fBits\":50331656,\"fName\":\"\",\"fTitle\":\"\",\"fTextAngle\":0,\"fTextSize\":0.03,\"fTextAlign\":11,\"fTextColor\":1,\"fTextFont\":62,\"fX\":0,\"fY\":0,\"fLineColor\":1,\"fLineStyle\":1,\"fLineWidth\":2,\"fLimitFactorSize\":3,\"fOriginSize\":0.04},{\"_typename\":\"TLine\",\"fUniqueID\":0,\"fBits\":50331656,\"fLineColor\":1,\"fLineStyle\":2,\"fLineWidth\":1,\"fX1\":0,\"fY1\":0.95,\"fX2\":109.8,\"fY2\":0.95},{\"_typename\":\"TLine\",\"fUniqueID\":0,\"fBits\":50331656,\"fLineColor\":1,\"fLineStyle\":2,\"fLineWidth\":1,\"fX1\":0,\"fY1\":1,\"fX2\":109.8,\"fY2\":1},{\"_typename\":\"TGraphErrors\",\"fUniqueID\":0,\"fBits\":50332680,\"fName\":\"Graph\",\"fTitle\":\"Fitted line with .95 conf. band\",\"fLineColor\":1,\"fLineStyle\":1,\"fLineWidth\":1,\"fFillColor\":0,\"fFillStyle\":1000,\"fMarkerColor\":1,\"fMarkerStyle\":1,\"fMarkerSize\":1,\"fNpoints\":49,\"fX\":[3,5,7,9,11,13,15,17,19,21,23,25,27,29,31,33,35,37,39,41,43,45,47,49,51,53,55,57,59,61,63,65,67,69,71,73,75,77,79,81,83,85,87,89,91,93,95,97,99],\"fY\":[1.69596409900841e-56,9.49189528292515e-44,1.01386894664757e-32,2.09710499732223e-23,8.60054892980386e-16,7.29176885669657e-10,1.38814594540048e-5,0.00716799223282395,0.163789918210959,0.501145355049521,0.725881937580044,0.849267728240436,0.916783006067433,0.953726503656388,0.973941513621279,0.985002908847778,0.991055563017591,0.994367498062782,0.996179746612893,0.997171385869873,0.997713998204105,0.998010908742073,0.998173374395718,0.998262273526058,0.998310917994583,0.998337535626377,0.998352100454481,0.998360070142368,0.998364431053776,0.998366817288792,0.998368123006111,0.998368837477948,0.998369228427811,0.998369442350582,0.99836955940639,0.998369623457833,0.998369658505964,0.998369677683854,0.99836968817775,0.998369693919876,0.998369697061894,0.998369698781166,0.99836969972193,0.998369700236704,0.998369700518381,0.998369700672512,0.99836970075685,0.998369700802999,0.998369700828251],\"fFunctions\":{\"_typename\":\"TList\",\"name\":\"TList\",\"arr\":[],\"opt\":[]},\"fHistogram\":{\"_typename\":\"TH1F\",\"fUniqueID\":0,\"fBits\":50332168,\"fName\":\"Graph\",\"fTitle\":\"Fitted line with .95 conf. band\",\"fLineColor\":602,\"fLineStyle\":1,\"fLineWidth\":1,\"fFillColor\":0,\"fFillStyle\":1001,\"fMarkerColor\":1,\"fMarkerStyle\":1,\"fMarkerSize\":1,\"fNcells\":102,\"fXaxis\":{\"_typename\":\"TAxis\",\"fUniqueID\":0,\"fBits\":50331648,\"fName\":\"xaxis\",\"fTitle\":\"\",\"fNdivisions\":510,\"fAxisColor\":1,\"fLabelColor\":1,\"fLabelFont\":42,\"fLabelOffset\":0.005,\"fLabelSize\":0.035,\"fTickLength\":0.03,\"fTitleOffset\":1,\"fTitleSize\":0.035,\"fTitleColor\":1,\"fTitleFont\":42,\"fNbins\":100,\"fXmin\":0,\"fXmax\":108.6,\"fXbins\":[],\"fFirst\":0,\"fLast\":0,\"fBits2\":0,\"fTimeDisplay\":false,\"fTimeFormat\":\"\",\"fLabels\":null,\"fModLabs\":null},\"fYaxis\":{\"_typename\":\"TAxis\",\"fUniqueID\":0,\"fBits\":50331648,\"fName\":\"yaxis\",\"fTitle\":\"\",\"fNdivisions\":510,\"fAxisColor\":1,\"fLabelColor\":1,\"fLabelFont\":42,\"fLabelOffset\":0.005,\"fLabelSize\":0.035,\"fTickLength\":0.03,\"fTitleOffset\":0,\"fTitleSize\":0.035,\"fTitleColor\":1,\"fTitleFont\":42,\"fNbins\":1,\"fXmin\":-0.185695764532755,\"fXmax\":1.10786789742871,\"fXbins\":[],\"fFirst\":0,\"fLast\":0,\"fBits2\":0,\"fTimeDisplay\":false,\"fTimeFormat\":\"\",\"fLabels\":null,\"fModLabs\":null},\"fZaxis\":{\"_typename\":\"TAxis\",\"fUniqueID\":0,\"fBits\":50331648,\"fName\":\"zaxis\",\"fTitle\":\"\",\"fNdivisions\":510,\"fAxisColor\":1,\"fLabelColor\":1,\"fLabelFont\":42,\"fLabelOffset\":0.005,\"fLabelSize\":0.035,\"fTickLength\":0.03,\"fTitleOffset\":1,\"fTitleSize\":0.035,\"fTitleColor\":1,\"fTitleFont\":42,\"fNbins\":1,\"fXmin\":0,\"fXmax\":1,\"fXbins\":[],\"fFirst\":0,\"fLast\":0,\"fBits2\":0,\"fTimeDisplay\":false,\"fTimeFormat\":\"\",\"fLabels\":null,\"fModLabs\":null},\"fBarOffset\":0,\"fBarWidth\":1000,\"fEntries\":0,\"fTsumw\":0,\"fTsumw2\":0,\"fTsumwx\":0,\"fTsumwx2\":0,\"fMaximum\":1.10786789742871,\"fMinimum\":-0.185695764532755,\"fNormFactor\":0,\"fContour\":[],\"fSumw2\":[],\"fOption\":\"\",\"fFunctions\":{\"_typename\":\"TList\",\"name\":\"TList\",\"arr\":[],\"opt\":[]},\"fBufferSize\":0,\"fBuffer\":[],\"fBinStatErrOpt\":0,\"fStatOverflows\":2,\"fArray\":[0,0,0,0,0,0,0,0,0,0,0,0,0,0,0,0,0,0,0,0,0,0,0,0,0,0,0,0,0,0,0,0,0,0,0,0,0,0,0,0,0,0,0,0,0,0,0,0,0,0,0,0,0,0,0,0,0,0,0,0,0,0,0,0,0,0,0,0,0,0,0,0,0,0,0,0,0,0,0,0,0,0,0,0,0,0,0,0,0,0,0,0,0,0,0,0,0,0,0,0,0,0]},\"fMinimum\":-1111,\"fMaximum\":-1111,\"fEX\":[0,0,0,0,0,0,0,0,0,0,0,0,0,0,0,0,0,0,0,0,0,0,0,0,0,0,0,0,0,0,0,0,0,0,0,0,0,0,0,0,0,0,0,0,0,0,0,0,0],\"fEY\":[4.48766247695168e-55,2.19201118613213e-42,2.0009913759595e-31,3.43811097539243e-22,1.12488952345601e-14,7.15522492929562e-9,9.22914591039343e-5,0.0267659627882708,0.241688710913592,0.207841743790794,0.107317415548112,0.062822446465454,0.0405793799355497,0.026923720127575,0.0177021896823439,0.0114285461260184,0.00726814358239043,0.00461840802206494,0.00303571429279942,0.00219415566402818,0.00182522029283571,0.00170063231037833,0.00167282326812301,0.00167456164690208,0.0016821605539222,0.00168892345625222,0.00169367435218052,0.00169671596408071,0.00169857569639935,0.00169968411944588,0.0017003347670908,0.00170071304340245,0.00170093156185884,0.00170105722431091,0.00170112924577438,0.00170117041488341,0.00170119389702129,0.00170120726604025,0.00170121486497815,0.00170121917794512,0.00170122162258147,0.00170122300655524,0.00170122378917074,0.00170122423126309,0.00170122448076095,0.00170122462141826,0.00170122470065702,0.00170122474525768,0.00170122477033896]}],\"opt\":[\"\",\"pa\",\"same\",\"same\",\"same\",\"same\",\"\"]},\"fExecs\":null,\"fName\":\"c_a0b40f\",\"fTitle\":\"c_a0b40f\",\"fNumPaletteColor\":0,\"fNextPaletteColor\":0,\"fDISPLAY\":\"$DISPLAY\",\"fDoubleBuffer\":0,\"fRetained\":true,\"fXsizeUser\":0,\"fYsizeUser\":0,\"fXsizeReal\":20,\"fYsizeReal\":15,\"fWindowTopX\":0,\"fWindowTopY\":0,\"fWindowWidth\":0,\"fWindowHeight\":0,\"fCw\":796,\"fCh\":572,\"fCatt\":{\"_typename\":\"TAttCanvas\",\"fXBetween\":2,\"fYBetween\":2,\"fTitleFromTop\":1.2,\"fXdate\":0.2,\"fYdate\":0.3,\"fAdate\":1},\"kMoveOpaque\":true,\"kResizeOpaque\":true,\"fHighLightColor\":2,\"fBatch\":true,\"kShowEventStatus\":false,\"kAutoExec\":true,\"kMenuBar\":true});\n",
       "       Core.draw(\"root_plot_38\", obj, \"\");\n",
       "     }\n",
       " );\n",
       "</script>\n"
      ],
      "text/plain": [
       "<IPython.core.display.HTML object>"
      ]
     },
     "metadata": {},
     "output_type": "display_data"
    },
    {
     "data": {
      "text/html": [
       "\n",
       "<div id=\"root_plot_39\"\n",
       "     style=\"width: 796px; height: 572px\">\n",
       "</div>\n",
       "\n",
       "<script>\n",
       " requirejs.config({\n",
       "     paths: {\n",
       "       'JSRootCore' : 'https://root.cern.ch/js/notebook//scripts/JSRootCore',\n",
       "     }\n",
       "   });\n",
       " require(['JSRootCore'],\n",
       "     function(Core) {\n",
       "       var obj = Core.JSONR_unref({\"_typename\":\"TCanvas\",\"fUniqueID\":0,\"fBits\":53673992,\"fLineColor\":1,\"fLineStyle\":1,\"fLineWidth\":1,\"fFillColor\":0,\"fFillStyle\":1001,\"fLeftMargin\":0.13,\"fRightMargin\":0.3,\"fBottomMargin\":0.13,\"fTopMargin\":0.1,\"fXfile\":2,\"fYfile\":2,\"fAfile\":1,\"fXstat\":0.99,\"fYstat\":0.99,\"fAstat\":2,\"fFrameFillColor\":0,\"fFrameLineColor\":1,\"fFrameFillStyle\":1001,\"fFrameLineStyle\":1,\"fFrameLineWidth\":1,\"fFrameBorderSize\":1,\"fFrameBorderMode\":0,\"fX1\":-25.0421046588559,\"fY1\":-0.185714283502611,\"fX2\":167.58947670572,\"fY2\":1.24285714852456,\"fXtoAbsPixelk\":103.480046204376,\"fXtoPixelk\":103.480046204376,\"fXtoPixel\":4.13224038530569,\"fYtoAbsPixelk\":497.640051065433,\"fYtoPixelk\":497.640051065433,\"fYtoPixel\":-400.399999031424,\"fUtoAbsPixelk\":5e-5,\"fUtoPixelk\":5e-5,\"fUtoPixel\":796,\"fVtoAbsPixelk\":572.00005,\"fVtoPixelk\":572,\"fVtoPixel\":-572,\"fAbsPixeltoXk\":-25.0421046588559,\"fPixeltoXk\":-25.0421046588559,\"fPixeltoX\":0.241999474076101,\"fAbsPixeltoYk\":1.24285714852456,\"fPixeltoYk\":-0.185714283502611,\"fPixeltoY\":-0.00249750250354401,\"fXlowNDC\":0,\"fYlowNDC\":0,\"fXUpNDC\":0,\"fYUpNDC\":0,\"fWNDC\":1,\"fHNDC\":1,\"fAbsXlowNDC\":0,\"fAbsYlowNDC\":0,\"fAbsWNDC\":1,\"fAbsHNDC\":1,\"fUxmin\":0,\"fUymin\":0,\"fUxmax\":109.8,\"fUymax\":1.1,\"fTheta\":30,\"fPhi\":30,\"fAspectRatio\":0,\"fNumber\":0,\"fTickx\":0,\"fTicky\":0,\"fLogx\":0,\"fLogy\":0,\"fLogz\":0,\"fPadPaint\":0,\"fCrosshair\":0,\"fCrosshairPos\":0,\"fBorderSize\":2,\"fBorderMode\":0,\"fModified\":false,\"fGridx\":false,\"fGridy\":false,\"fAbsCoord\":false,\"fEditable\":true,\"fFixedAspectRatio\":false,\"fPrimitives\":{\"_typename\":\"TList\",\"name\":\"TList\",\"arr\":[{\"_typename\":\"TFrame\",\"fUniqueID\":0,\"fBits\":50331656,\"fLineColor\":1,\"fLineStyle\":1,\"fLineWidth\":1,\"fFillColor\":0,\"fFillStyle\":1001,\"fX1\":0,\"fY1\":0,\"fX2\":109.8,\"fY2\":1.1,\"fBorderSize\":1,\"fBorderMode\":0},{\"_typename\":\"TGraphAsymmErrors\",\"fUniqueID\":0,\"fBits\":50332680,\"fName\":\"c57db5\",\"fTitle\":\"; p_{T}^{GEN} [GeV];\",\"fLineColor\":1,\"fLineStyle\":1,\"fLineWidth\":1,\"fFillColor\":0,\"fFillStyle\":1001,\"fMarkerColor\":1,\"fMarkerStyle\":8,\"fMarkerSize\":0.5,\"fNpoints\":49,\"fX\":[3,5,7,9,11,13,15,17,19,21,23,25,27,29,31,33,35,37,39,41,43,45,47,49,51,53,55,57,59,61,63,65,67,69,71,73,75,77,79,81,83,85,87,89,91,93,95,97,99],\"fY\":[0,0,0,0,0,0,0,0,0,0.00778210116731518,0.0404624277456647,0.244318181818182,0.626,0.840148698884758,0.885185185185185,0.94478527607362,0.965765765765766,0.977508650519031,0.987477638640429,0.996204933586338,0.998109640831758,0.99364406779661,0.996422182468694,0.99812030075188,0.996557659208262,0.996023856858847,1,1,0.996116504854369,1,1,1,0.996138996138996,1,1,1,0.99647266313933,0.998165137614679,0.998069498069498,1,0.99822695035461,1,1,0.998230088495575,0.998158379373849,0.998058252427184,0.998201438848921,1,1],\"fFunctions\":{\"_typename\":\"TList\",\"name\":\"TList\",\"arr\":[{\"_typename\":\"TF1\",\"fUniqueID\":0,\"fBits\":50332680,\"fName\":\"tf_yc\",\"fTitle\":\"tf_yc\",\"fLineColor\":6,\"fLineStyle\":1,\"fLineWidth\":2,\"fFillColor\":19,\"fFillStyle\":0,\"fMarkerColor\":1,\"fMarkerStyle\":1,\"fMarkerSize\":1,\"fXmin\":0,\"fXmax\":100,\"fNpar\":5,\"fNdim\":1,\"fNpx\":100,\"fType\":1,\"fNpfits\":49,\"fNDF\":45,\"fChisquare\":10.8800301016933,\"fMinimum\":-1111,\"fMaximum\":-1111,\"fParErrors\":[0.0171516260396835,0.341330353500616,0.143133813707367,4.37157275030686e-4,0],\"fParMin\":[0,0,0.1,0.9,1],\"fParMax\":[1,50,1,1,1],\"fSave\":[3.24172289759007e-119,2.08055690027591e-109,4.93209287461487e-100,4.32012679856314e-91,1.39883221397598e-82,1.67516905662079e-74,7.42389352250798e-67,1.21838793998652e-59,7.41098988556747e-53,1.67235785921424e-46,1.40171226942253e-40,4.3701289009007e-35,5.07709498508454e-30,2.20294734854789e-25,3.58029968274124e-21,2.1877968228943e-17,5.05207562517916e-14,4.43952385065099e-11,1.49934080352957e-8,1.97454271858166e-6,1.03670818890345e-4,0.00224769021635595,0.0213146819384253,0.0971410336384914,0.245869985739507,0.415922732525464,0.559341032059598,0.668766065583239,0.750972562278915,0.812669728090502,0.858973176760382,0.893723700405024,0.919803807332049,0.939376806699756,0.954066252004572,0.965090612620409,0.973364344164798,0.979573741340202,0.984233865139851,0.987731266451862,0.990356049926108,0.992325937757685,0.993804329444874,0.994913855553779,0.995746549755871,0.996371482895011,0.996840492319378,0.997192481718511,0.997456648131093,0.997654903799327,0.997803693759424,0.997915359934837,0.997999164881913,0.998062060106258,0.998109262680611,0.998144687993879,0.998171274527291,0.998191227597388,0.998206202284013,0.998217440716918,0.998225875108724,0.99823220508068,0.998236955695294,0.998240521009543,0.998243196761361,0.998245204900699,0.998246711999964,0.998247843070977,0.99824869193453,0.998249329002692,0.998249807119395,0.998250165943764,0.998250435239791,0.99825063734521,0.99825078902439,0.998250902858912,0.998250988291193,0.998251052407724,0.998251100526884,0.99825113664009,0.998251163742883,0.998251184083405,0.998251199348871,0.998251210805533,0.998251219403705,0.998251225856593,0.998251230699456,0.998251234334002,0.998251237061712,0.998251239108845,0.99825124064521,0.998251241798244,0.998251242663591,0.99825124331303,0.99825124380043,0.998251244166222,0.998251244440748,0.998251244646778,0.998251244801402,0.998251244917447,0.998251245004538,0,100],\"fNormalized\":false,\"fNormIntegral\":0,\"fFormula\":null,\"fParams\":{\"_typename\":\"TF1Parameters\",\"fParameters\":[0.287021803796611,22.9945276036083,0.999999999999548,0.998251245266504,0],\"fParNames\":[\"#lambda\",\"#mu\",\"#sigma\",\"Plateau\",\"Baseline\"]},\"fComposition_ptr\":null},{\"_typename\":\"TPaveStats\",\"fUniqueID\":0,\"fBits\":50462729,\"fLineColor\":1,\"fLineStyle\":1,\"fLineWidth\":1,\"fFillColor\":0,\"fFillStyle\":1001,\"fX1\":94.3894784279808,\"fY1\":0.692857160818019,\"fX2\":163.736848752585,\"fY2\":1.15000000884877,\"fX1NDC\":0.620000013709068,\"fY1NDC\":0.615000009536743,\"fX2NDC\":0.980000019073486,\"fY2NDC\":0.935000002384186,\"fBorderSize\":1,\"fInit\":1,\"fShadowColor\":1,\"fCornerRadius\":0,\"fOption\":\"brNDC\",\"fName\":\"stats\",\"fTextAngle\":0,\"fTextSize\":0,\"fTextAlign\":12,\"fTextColor\":1,\"fTextFont\":42,\"fLabel\":\"\",\"fLongest\":32,\"fMargin\":0.05,\"fLines\":{\"_typename\":\"TList\",\"name\":\"TList\",\"arr\":[{\"_typename\":\"TLatex\",\"fUniqueID\":0,\"fBits\":50331648,\"fName\":\"\",\"fTitle\":\"#chi^{2} \\/ ndf = 10.88 \\/ 45\",\"fTextAngle\":0,\"fTextSize\":0,\"fTextAlign\":0,\"fTextColor\":0,\"fTextFont\":0,\"fX\":0,\"fY\":0,\"fLineColor\":1,\"fLineStyle\":1,\"fLineWidth\":2,\"fLimitFactorSize\":3,\"fOriginSize\":0.04},{\"_typename\":\"TLatex\",\"fUniqueID\":0,\"fBits\":50331648,\"fName\":\"\",\"fTitle\":\"Prob  =     1\",\"fTextAngle\":0,\"fTextSize\":0,\"fTextAlign\":0,\"fTextColor\":0,\"fTextFont\":0,\"fX\":0,\"fY\":0,\"fLineColor\":1,\"fLineStyle\":1,\"fLineWidth\":2,\"fLimitFactorSize\":3,\"fOriginSize\":0.04},{\"_typename\":\"TLatex\",\"fUniqueID\":0,\"fBits\":50331648,\"fName\":\"\",\"fTitle\":\"#lambda  = 0.287 #pm 0.01715 \",\"fTextAngle\":0,\"fTextSize\":0,\"fTextAlign\":0,\"fTextColor\":0,\"fTextFont\":0,\"fX\":0,\"fY\":0,\"fLineColor\":1,\"fLineStyle\":1,\"fLineWidth\":2,\"fLimitFactorSize\":3,\"fOriginSize\":0.04},{\"_typename\":\"TLatex\",\"fUniqueID\":0,\"fBits\":50331648,\"fName\":\"\",\"fTitle\":\"#mu      = 22.99 #pm 0.3413 \",\"fTextAngle\":0,\"fTextSize\":0,\"fTextAlign\":0,\"fTextColor\":0,\"fTextFont\":0,\"fX\":0,\"fY\":0,\"fLineColor\":1,\"fLineStyle\":1,\"fLineWidth\":2,\"fLimitFactorSize\":3,\"fOriginSize\":0.04},{\"_typename\":\"TLatex\",\"fUniqueID\":0,\"fBits\":50331648,\"fName\":\"\",\"fTitle\":\"#sigma   =     1 #pm 0.1431 \",\"fTextAngle\":0,\"fTextSize\":0,\"fTextAlign\":0,\"fTextColor\":0,\"fTextFont\":0,\"fX\":0,\"fY\":0,\"fLineColor\":1,\"fLineStyle\":1,\"fLineWidth\":2,\"fLimitFactorSize\":3,\"fOriginSize\":0.04},{\"_typename\":\"TLatex\",\"fUniqueID\":0,\"fBits\":50331648,\"fName\":\"\",\"fTitle\":\"Plateau  = 0.9983 #pm 0.0004372 \",\"fTextAngle\":0,\"fTextSize\":0,\"fTextAlign\":0,\"fTextColor\":0,\"fTextFont\":0,\"fX\":0,\"fY\":0,\"fLineColor\":1,\"fLineStyle\":1,\"fLineWidth\":2,\"fLimitFactorSize\":3,\"fOriginSize\":0.04},{\"_typename\":\"TLatex\",\"fUniqueID\":0,\"fBits\":50331648,\"fName\":\"\",\"fTitle\":\"Baseline =     0 #pm     0 \",\"fTextAngle\":0,\"fTextSize\":0,\"fTextAlign\":0,\"fTextColor\":0,\"fTextFont\":0,\"fX\":0,\"fY\":0,\"fLineColor\":1,\"fLineStyle\":1,\"fLineWidth\":2,\"fLimitFactorSize\":3,\"fOriginSize\":0.04}],\"opt\":[\"\",\"\",\"\",\"\",\"\",\"\",\"\"]},\"fOptFit\":11111,\"fOptStat\":0,\"fFitFormat\":\"5.4g\",\"fStatFormat\":\"6.4g\",\"fParent\":{\"$ref\":4}}],\"opt\":[\"\",\"brNDC\"]},\"fHistogram\":{\"_typename\":\"TH1F\",\"fUniqueID\":0,\"fBits\":50331648,\"fName\":\"c57db5\",\"fTitle\":\"\",\"fLineColor\":602,\"fLineStyle\":1,\"fLineWidth\":1,\"fFillColor\":0,\"fFillStyle\":1001,\"fMarkerColor\":1,\"fMarkerStyle\":1,\"fMarkerSize\":1,\"fNcells\":102,\"fXaxis\":{\"_typename\":\"TAxis\",\"fUniqueID\":0,\"fBits\":50331656,\"fName\":\"xaxis\",\"fTitle\":\" p_{T}^{GEN} [GeV]\",\"fNdivisions\":510,\"fAxisColor\":1,\"fLabelColor\":1,\"fLabelFont\":42,\"fLabelOffset\":0.005,\"fLabelSize\":0.035,\"fTickLength\":0.03,\"fTitleOffset\":1.4,\"fTitleSize\":0.035,\"fTitleColor\":1,\"fTitleFont\":42,\"fNbins\":100,\"fXmin\":0,\"fXmax\":109.8,\"fXbins\":[],\"fFirst\":0,\"fLast\":0,\"fBits2\":0,\"fTimeDisplay\":false,\"fTimeFormat\":\"\",\"fLabels\":null,\"fModLabs\":null},\"fYaxis\":{\"_typename\":\"TAxis\",\"fUniqueID\":0,\"fBits\":50331656,\"fName\":\"yaxis\",\"fTitle\":\"L1 matched to GEN and p_{T}>th.\\/L1 matched to GEN\",\"fNdivisions\":510,\"fAxisColor\":1,\"fLabelColor\":1,\"fLabelFont\":42,\"fLabelOffset\":0.005,\"fLabelSize\":0.035,\"fTickLength\":0.03,\"fTitleOffset\":0,\"fTitleSize\":0.035,\"fTitleColor\":1,\"fTitleFont\":42,\"fNbins\":1,\"fXmin\":0,\"fXmax\":1.1,\"fXbins\":[],\"fFirst\":0,\"fLast\":0,\"fBits2\":0,\"fTimeDisplay\":false,\"fTimeFormat\":\"\",\"fLabels\":null,\"fModLabs\":null},\"fZaxis\":{\"_typename\":\"TAxis\",\"fUniqueID\":0,\"fBits\":50331648,\"fName\":\"zaxis\",\"fTitle\":\"\",\"fNdivisions\":510,\"fAxisColor\":1,\"fLabelColor\":1,\"fLabelFont\":42,\"fLabelOffset\":0.005,\"fLabelSize\":0.035,\"fTickLength\":0.03,\"fTitleOffset\":1,\"fTitleSize\":0.035,\"fTitleColor\":1,\"fTitleFont\":42,\"fNbins\":1,\"fXmin\":0,\"fXmax\":1,\"fXbins\":[],\"fFirst\":0,\"fLast\":0,\"fBits2\":0,\"fTimeDisplay\":false,\"fTimeFormat\":\"\",\"fLabels\":null,\"fModLabs\":null},\"fBarOffset\":0,\"fBarWidth\":1000,\"fEntries\":0,\"fTsumw\":0,\"fTsumw2\":0,\"fTsumwx\":0,\"fTsumwx2\":0,\"fMaximum\":1.1,\"fMinimum\":0,\"fNormFactor\":0,\"fContour\":[],\"fSumw2\":[],\"fOption\":\"\",\"fFunctions\":{\"_typename\":\"TList\",\"name\":\"TList\",\"arr\":[],\"opt\":[]},\"fBufferSize\":0,\"fBuffer\":[],\"fBinStatErrOpt\":0,\"fStatOverflows\":2,\"fArray\":[0,0,0,0,0,0,0,0,0,0,0,0,0,0,0,0,0,0,0,0,0,0,0,0,0,0,0,0,0,0,0,0,0,0,0,0,0,0,0,0,0,0,0,0,0,0,0,0,0,0,0,0,0,0,0,0,0,0,0,0,0,0,0,0,0,0,0,0,0,0,0,0,0,0,0,0,0,0,0,0,0,0,0,0,0,0,0,0,0,0,0,0,0,0,0,0,0,0,0,0,0,0]},\"fMinimum\":-1111,\"fMaximum\":-1111,\"fEXlow\":[1,1,1,1,1,1,1,1,1,1,1,1,1,1,1,1,1,1,1,1,1,1,1,1,1,1,1,1,1,1,1,1,1,1,1,1,1,1,1,1,1,1,1,1,1,1,1,1,1],\"fEXhigh\":[1,1,1,1,1,1,1,1,1,1,1,1,1,1,1,1,1,1,1,1,1,1,1,1,1,1,1,1,1,1,1,1,1,1,1,1,1,1,1,1,1,1,1,1,1,1,1,1,1],\"fEYlow\":[0,0,0,0,0,0,0,0,0,0.0037207749516865,0.0086489633959227,0.0191229432703624,0.0228796697237383,0.0173895613287602,0.0154032605974125,0.0123631270787747,0.00957662788341351,0.00800259853130736,0.00667969111679823,0.00498342222266257,0.00433338965671748,0.00614386901883712,0.00469933225841945,0.00430902909587805,0.00452210043883006,0.00522010093980552,0.00350056657582654,0.00334171607834644,0.00509901665126333,0.00327047951878845,0.00322465214023471,0.00350056657582654,0.00506961820607532,0.00346759968683441,0.00337851090995966,0.00338472230368492,0.0046332995610554,0.00420655633739031,0.00442511811202106,0.00359629985182086,0.00406526099946136,0.00353416632119274,0.00347414329597728,0.00405808687428899,0.00422200298480258,0.00445081284829207,0.00412358026016912,0.00356151411478722,0.00366065719283548],\"fEYhigh\":[0.0110956905950783,0.00797249169425943,0.00575460618350494,0.00466174395275809,0.00406477309155856,0.00453541625251657,0.00386022264228776,0.00393447011365783,0.00381226179010358,0.0061103647264463,0.0106149763809538,0.0201392997797463,0.0223530342717816,0.0160521787694369,0.0138820151503487,0.0103661725950152,0.00770411748466449,0.00612040764534638,0.00460678048298002,0.00245088832457019,0.00156384579531399,0.00345717343867047,0.00231060717213205,0.00155502681708453,0.00222312638759459,0.00256781065272449,0,0,0.00250798749953929,0,0,0,0.00249346472665857,0,0,0,0.00227801062754107,0.00151793320693461,0.00159705603204052,0,0.00146679552412288,0,0,0.00146419934298714,0.00152352430682134,0.00160635959682764,0.00148790118023034,0,0]},{\"_typename\":\"TLatex\",\"fUniqueID\":0,\"fBits\":50348040,\"fName\":\"\",\"fTitle\":\"PU200, EG, hwQual 5, p_{T}^{L1}>=25GeV, 1.52 < |#eta^{GEN}| <= 2.4\",\"fTextAngle\":0,\"fTextSize\":0.03,\"fTextAlign\":11,\"fTextColor\":1,\"fTextFont\":62,\"fX\":0.15,\"fY\":0.85,\"fLineColor\":1,\"fLineStyle\":1,\"fLineWidth\":2,\"fLimitFactorSize\":3,\"fOriginSize\":0.04},{\"_typename\":\"TLatex\",\"fUniqueID\":0,\"fBits\":50331656,\"fName\":\"\",\"fTitle\":\"\",\"fTextAngle\":0,\"fTextSize\":0.03,\"fTextAlign\":11,\"fTextColor\":1,\"fTextFont\":62,\"fX\":0,\"fY\":0,\"fLineColor\":1,\"fLineStyle\":1,\"fLineWidth\":2,\"fLimitFactorSize\":3,\"fOriginSize\":0.04},{\"_typename\":\"TLine\",\"fUniqueID\":0,\"fBits\":50331656,\"fLineColor\":1,\"fLineStyle\":2,\"fLineWidth\":1,\"fX1\":0,\"fY1\":0.95,\"fX2\":109.8,\"fY2\":0.95},{\"_typename\":\"TLine\",\"fUniqueID\":0,\"fBits\":50331656,\"fLineColor\":1,\"fLineStyle\":2,\"fLineWidth\":1,\"fX1\":0,\"fY1\":1,\"fX2\":109.8,\"fY2\":1},{\"_typename\":\"TGraphErrors\",\"fUniqueID\":0,\"fBits\":50332680,\"fName\":\"Graph\",\"fTitle\":\"Fitted line with .95 conf. band\",\"fLineColor\":1,\"fLineStyle\":1,\"fLineWidth\":1,\"fFillColor\":0,\"fFillStyle\":1000,\"fMarkerColor\":1,\"fMarkerStyle\":1,\"fMarkerSize\":1,\"fNpoints\":49,\"fX\":[3,5,7,9,11,13,15,17,19,21,23,25,27,29,31,33,35,37,39,41,43,45,47,49,51,53,55,57,59,61,63,65,67,69,71,73,75,77,79,81,83,85,87,89,91,93,95,97,99],\"fY\":[4.32012679856314e-91,1.67516905662079e-74,1.21838793998652e-59,1.67235785921424e-46,4.3701289009007e-35,2.20294734854789e-25,2.1877968228943e-17,4.43952385065099e-11,1.97454271858166e-6,0.00224769021635595,0.0971410336384914,0.415922732525464,0.668766065583239,0.812669728090502,0.893723700405024,0.939376806699756,0.965090612620409,0.979573741340202,0.987731266451862,0.992325937757685,0.994913855553779,0.996371482895011,0.997192481718511,0.997654903799327,0.997915359934837,0.998062060106258,0.998144687993879,0.998191227597388,0.998217440716918,0.99823220508068,0.998240521009543,0.998245204900699,0.998247843070977,0.998249329002692,0.998250165943764,0.99825063734521,0.998250902858912,0.998251052407724,0.99825113664009,0.998251184083405,0.998251210805533,0.998251225856593,0.998251234334002,0.998251239108845,0.998251241798244,0.99825124331303,0.998251244166222,0.998251244646778,0.998251244917447],\"fFunctions\":{\"_typename\":\"TList\",\"name\":\"TList\",\"arr\":[],\"opt\":[]},\"fHistogram\":{\"_typename\":\"TH1F\",\"fUniqueID\":0,\"fBits\":50332168,\"fName\":\"Graph\",\"fTitle\":\"Fitted line with .95 conf. band\",\"fLineColor\":602,\"fLineStyle\":1,\"fLineWidth\":1,\"fFillColor\":0,\"fFillStyle\":1001,\"fMarkerColor\":1,\"fMarkerStyle\":1,\"fMarkerSize\":1,\"fNcells\":102,\"fXaxis\":{\"_typename\":\"TAxis\",\"fUniqueID\":0,\"fBits\":50331648,\"fName\":\"xaxis\",\"fTitle\":\"\",\"fNdivisions\":510,\"fAxisColor\":1,\"fLabelColor\":1,\"fLabelFont\":42,\"fLabelOffset\":0.005,\"fLabelSize\":0.035,\"fTickLength\":0.03,\"fTitleOffset\":1,\"fTitleSize\":0.035,\"fTitleColor\":1,\"fTitleFont\":42,\"fNbins\":100,\"fXmin\":0,\"fXmax\":108.6,\"fXbins\":[],\"fFirst\":0,\"fLast\":0,\"fBits2\":0,\"fTimeDisplay\":false,\"fTimeFormat\":\"\",\"fLabels\":null,\"fModLabs\":null},\"fYaxis\":{\"_typename\":\"TAxis\",\"fUniqueID\":0,\"fBits\":50331648,\"fName\":\"yaxis\",\"fTitle\":\"\",\"fNdivisions\":510,\"fAxisColor\":1,\"fLabelColor\":1,\"fLabelFont\":42,\"fLabelOffset\":0.005,\"fLabelSize\":0.035,\"fTickLength\":0.03,\"fTitleOffset\":0,\"fTitleSize\":0.035,\"fTitleColor\":1,\"fTitleFont\":42,\"fNbins\":1,\"fXmin\":-0.149098468673493,\"fXmax\":1.10438809104068,\"fXbins\":[],\"fFirst\":0,\"fLast\":0,\"fBits2\":0,\"fTimeDisplay\":false,\"fTimeFormat\":\"\",\"fLabels\":null,\"fModLabs\":null},\"fZaxis\":{\"_typename\":\"TAxis\",\"fUniqueID\":0,\"fBits\":50331648,\"fName\":\"zaxis\",\"fTitle\":\"\",\"fNdivisions\":510,\"fAxisColor\":1,\"fLabelColor\":1,\"fLabelFont\":42,\"fLabelOffset\":0.005,\"fLabelSize\":0.035,\"fTickLength\":0.03,\"fTitleOffset\":1,\"fTitleSize\":0.035,\"fTitleColor\":1,\"fTitleFont\":42,\"fNbins\":1,\"fXmin\":0,\"fXmax\":1,\"fXbins\":[],\"fFirst\":0,\"fLast\":0,\"fBits2\":0,\"fTimeDisplay\":false,\"fTimeFormat\":\"\",\"fLabels\":null,\"fModLabs\":null},\"fBarOffset\":0,\"fBarWidth\":1000,\"fEntries\":0,\"fTsumw\":0,\"fTsumw2\":0,\"fTsumwx\":0,\"fTsumwx2\":0,\"fMaximum\":1.10438809104068,\"fMinimum\":-0.149098468673493,\"fNormFactor\":0,\"fContour\":[],\"fSumw2\":[],\"fOption\":\"\",\"fFunctions\":{\"_typename\":\"TList\",\"name\":\"TList\",\"arr\":[],\"opt\":[]},\"fBufferSize\":0,\"fBuffer\":[],\"fBinStatErrOpt\":0,\"fStatOverflows\":2,\"fArray\":[0,0,0,0,0,0,0,0,0,0,0,0,0,0,0,0,0,0,0,0,0,0,0,0,0,0,0,0,0,0,0,0,0,0,0,0,0,0,0,0,0,0,0,0,0,0,0,0,0,0,0,0,0,0,0,0,0,0,0,0,0,0,0,0,0,0,0,0,0,0,0,0,0,0,0,0,0,0,0,0,0,0,0,0,0,0,0,0,0,0,0,0,0,0,0,0,0,0,0,0,0,0]},\"fMinimum\":-1111,\"fMaximum\":-1111,\"fEX\":[0,0,0,0,0,0,0,0,0,0,0,0,0,0,0,0,0,0,0,0,0,0,0,0,0,0,0,0,0,0,0,0,0,0,0,0,0,0,0,0,0,0,0,0,0,0,0,0,0],\"fEY\":[1.13244703579381e-89,3.95424972834193e-73,2.55865273691212e-58,3.07720099186993e-45,6.90808292083212e-34,2.91351708755965e-24,2.33253989180339e-16,3.60941531963741e-10,1.1185782176981e-5,0.00754350340763701,0.14178228900247,0.179238510219207,0.0999016594603721,0.0627868567866141,0.0432232403576427,0.0300697094389413,0.0205226230159783,0.0136788262659375,0.00893772100209464,0.00577826436542456,0.00377234745314978,0.00259415911190211,0.00199060480955459,0.00173946296172026,0.0016603025341694,0.001646471635298,0.00165173376072573,0.00166001594311355,0.0016668673185523,0.00167165324994684,0.00167475844530033,0.00167669688051658,0.00167788039855736,0.00167859323518481,0.00167901882337149,0.00167927140381674,0.00167942067010337,0.00167950859988471,0.0016795602672446,0.00167959056398894,0.00167960829802736,0.00167961866248425,0.00167962471142816,0.00167962823728962,0.00167963029009289,0.00167963148394828,0.00167963217759959,0.00167963258021864,0.00167963281371978]}],\"opt\":[\"\",\"pa\",\"same\",\"same\",\"same\",\"same\",\"\"]},\"fExecs\":null,\"fName\":\"c_9b8edd\",\"fTitle\":\"c_9b8edd\",\"fNumPaletteColor\":0,\"fNextPaletteColor\":0,\"fDISPLAY\":\"$DISPLAY\",\"fDoubleBuffer\":0,\"fRetained\":true,\"fXsizeUser\":0,\"fYsizeUser\":0,\"fXsizeReal\":20,\"fYsizeReal\":15,\"fWindowTopX\":0,\"fWindowTopY\":0,\"fWindowWidth\":0,\"fWindowHeight\":0,\"fCw\":796,\"fCh\":572,\"fCatt\":{\"_typename\":\"TAttCanvas\",\"fXBetween\":2,\"fYBetween\":2,\"fTitleFromTop\":1.2,\"fXdate\":0.2,\"fYdate\":0.3,\"fAdate\":1},\"kMoveOpaque\":true,\"kResizeOpaque\":true,\"fHighLightColor\":2,\"fBatch\":true,\"kShowEventStatus\":false,\"kAutoExec\":true,\"kMenuBar\":true});\n",
       "       Core.draw(\"root_plot_39\", obj, \"\");\n",
       "     }\n",
       " );\n",
       "</script>\n"
      ],
      "text/plain": [
       "<IPython.core.display.HTML object>"
      ]
     },
     "metadata": {},
     "output_type": "display_data"
    },
    {
     "data": {
      "text/html": [
       "\n",
       "<div id=\"root_plot_40\"\n",
       "     style=\"width: 796px; height: 572px\">\n",
       "</div>\n",
       "\n",
       "<script>\n",
       " requirejs.config({\n",
       "     paths: {\n",
       "       'JSRootCore' : 'https://root.cern.ch/js/notebook//scripts/JSRootCore',\n",
       "     }\n",
       "   });\n",
       " require(['JSRootCore'],\n",
       "     function(Core) {\n",
       "       var obj = Core.JSONR_unref({\"_typename\":\"TCanvas\",\"fUniqueID\":0,\"fBits\":53673992,\"fLineColor\":1,\"fLineStyle\":1,\"fLineWidth\":1,\"fFillColor\":0,\"fFillStyle\":1001,\"fLeftMargin\":0.13,\"fRightMargin\":0.3,\"fBottomMargin\":0.13,\"fTopMargin\":0.1,\"fXfile\":2,\"fYfile\":2,\"fAfile\":1,\"fXstat\":0.99,\"fYstat\":0.99,\"fAstat\":2,\"fFrameFillColor\":0,\"fFrameLineColor\":1,\"fFrameFillStyle\":1001,\"fFrameLineStyle\":1,\"fFrameLineWidth\":1,\"fFrameBorderSize\":1,\"fFrameBorderMode\":0,\"fX1\":-25.0421046588559,\"fY1\":-0.185714283502611,\"fX2\":167.58947670572,\"fY2\":1.24285714852456,\"fXtoAbsPixelk\":103.480046204376,\"fXtoPixelk\":103.480046204376,\"fXtoPixel\":4.13224038530569,\"fYtoAbsPixelk\":497.640051065433,\"fYtoPixelk\":497.640051065433,\"fYtoPixel\":-400.399999031424,\"fUtoAbsPixelk\":5e-5,\"fUtoPixelk\":5e-5,\"fUtoPixel\":796,\"fVtoAbsPixelk\":572.00005,\"fVtoPixelk\":572,\"fVtoPixel\":-572,\"fAbsPixeltoXk\":-25.0421046588559,\"fPixeltoXk\":-25.0421046588559,\"fPixeltoX\":0.241999474076101,\"fAbsPixeltoYk\":1.24285714852456,\"fPixeltoYk\":-0.185714283502611,\"fPixeltoY\":-0.00249750250354401,\"fXlowNDC\":0,\"fYlowNDC\":0,\"fXUpNDC\":0,\"fYUpNDC\":0,\"fWNDC\":1,\"fHNDC\":1,\"fAbsXlowNDC\":0,\"fAbsYlowNDC\":0,\"fAbsWNDC\":1,\"fAbsHNDC\":1,\"fUxmin\":0,\"fUymin\":0,\"fUxmax\":109.8,\"fUymax\":1.1,\"fTheta\":30,\"fPhi\":30,\"fAspectRatio\":0,\"fNumber\":0,\"fTickx\":0,\"fTicky\":0,\"fLogx\":0,\"fLogy\":0,\"fLogz\":0,\"fPadPaint\":0,\"fCrosshair\":0,\"fCrosshairPos\":0,\"fBorderSize\":2,\"fBorderMode\":0,\"fModified\":false,\"fGridx\":false,\"fGridy\":false,\"fAbsCoord\":false,\"fEditable\":true,\"fFixedAspectRatio\":false,\"fPrimitives\":{\"_typename\":\"TList\",\"name\":\"TList\",\"arr\":[{\"_typename\":\"TFrame\",\"fUniqueID\":0,\"fBits\":50331656,\"fLineColor\":1,\"fLineStyle\":1,\"fLineWidth\":1,\"fFillColor\":0,\"fFillStyle\":1001,\"fX1\":0,\"fY1\":0,\"fX2\":109.8,\"fY2\":1.1,\"fBorderSize\":1,\"fBorderMode\":0},{\"_typename\":\"TGraphAsymmErrors\",\"fUniqueID\":0,\"fBits\":50332680,\"fName\":\"af74ea\",\"fTitle\":\"; p_{T}^{GEN} [GeV];\",\"fLineColor\":1,\"fLineStyle\":1,\"fLineWidth\":1,\"fFillColor\":0,\"fFillStyle\":1001,\"fMarkerColor\":1,\"fMarkerStyle\":8,\"fMarkerSize\":0.5,\"fNpoints\":49,\"fX\":[3,5,7,9,11,13,15,17,19,21,23,25,27,29,31,33,35,37,39,41,43,45,47,49,51,53,55,57,59,61,63,65,67,69,71,73,75,77,79,81,83,85,87,89,91,93,95,97,99],\"fY\":[0,0,0,0,0,0,0,0,0,0,0,0,0.02,0.115241635687732,0.446296296296296,0.723926380368098,0.854054054054054,0.910034602076125,0.953488372093023,0.979127134724858,0.988657844990548,0.980932203389831,0.991055456171735,0.994360902255639,0.994836488812392,0.996023856858847,0.998095238095238,1,0.994174757281553,1,1,1,0.996138996138996,1,1,1,0.99647266313933,0.998165137614679,0.998069498069498,1,0.99822695035461,1,1,0.998230088495575,0.998158379373849,0.998058252427184,0.998201438848921,1,1],\"fFunctions\":{\"_typename\":\"TList\",\"name\":\"TList\",\"arr\":[{\"_typename\":\"TF1\",\"fUniqueID\":0,\"fBits\":50332680,\"fName\":\"tf_yc\",\"fTitle\":\"tf_yc\",\"fLineColor\":6,\"fLineStyle\":1,\"fLineWidth\":2,\"fFillColor\":19,\"fFillStyle\":0,\"fMarkerColor\":1,\"fMarkerStyle\":1,\"fMarkerSize\":1,\"fXmin\":0,\"fXmax\":100,\"fNpar\":5,\"fNdim\":1,\"fNpx\":100,\"fType\":1,\"fNpfits\":49,\"fNDF\":45,\"fChisquare\":10.5913856505088,\"fMinimum\":-1111,\"fMaximum\":-1111,\"fParErrors\":[0.0194171140735175,0.449535742330518,0.814064096449537,4.60004212639309e-4,0],\"fParMin\":[0,0,0.1,0.9,1],\"fParMax\":[1,50,1,1,1],\"fSave\":[3.19943050214606e-178,3.97869245620093e-166,1.82496359102976e-154,3.08817054027176e-143,1.92831944979052e-132,4.44423186749451e-122,3.78161989616207e-112,1.18839937462281e-102,1.37978003316179e-93,5.92110987245777e-85,9.39622259011309e-77,5.51703433641854e-69,1.19935443248836e-61,9.66091158097026e-55,2.88616917103085e-48,3.20144271162662e-42,1.3203337281823e-36,2.02800488940778e-31,1.16257432042181e-26,2.49408223095392e-22,2.00938184540673e-18,6.10802475620539e-15,7.04997522912157e-12,3.11747714692748e-9,5.35041696631941e-7,3.63456707343307e-5,0.00100776980660811,0.011990113135075,0.0664602616051148,0.195413581764978,0.363922685523584,0.515662383382449,0.633763403962522,0.723122332737208,0.790577146618687,0.841493199719496,0.879925473825514,0.908934786127631,0.930831491951288,0.947359485477448,0.959835086702618,0.969251875599777,0.976359822666469,0.981725017963363,0.985774755574481,0.988831564098935,0.991138893425537,0.992880503532551,0.99419509947249,0.99518737809923,0.995936366319238,0.996501714940678,0.996928449374178,0.997250555539876,0.997493686569003,0.997677205866735,0.997815729249626,0.997920288976284,0.997999212376873,0.998058785057098,0.998103751495475,0.998137692902387,0.998163312434303,0.998182650478166,0.99819724715158,0.998208264960635,0.998216581384037,0.998222858757138,0.998227597021552,0.998231173541426,0.998233873157423,0.998235910871958,0.998237448972388,0.998238609955878,0.998239486285302,0.998240147753158,0.99824064703997,0.998241023909863,0.998241308377455,0.998241523098269,0.99824168517307,0.998241807509793,0.998241899851564,0.99824196955265,0.998242022164176,0.99824206187622,0.998242091851524,0.998242114477377,0.998242131555742,0.998242144446773,0.998242154177135,0.998242161521772,0.998242167065625,0.998242171250216,0.998242174408815,0.998242176792977,0.998242178592581,0.998242179950952,0.998242180976273,0.998242181750202,0.998242182334377,0,100],\"fNormalized\":false,\"fNormIntegral\":0,\"fFormula\":null,\"fParams\":{\"_typename\":\"TF1Parameters\",\"fParameters\":[0.281280685809296,28.277499872647,0.999997702174514,0.998242184132802,0],\"fParNames\":[\"#lambda\",\"#mu\",\"#sigma\",\"Plateau\",\"Baseline\"]},\"fComposition_ptr\":null},{\"_typename\":\"TPaveStats\",\"fUniqueID\":0,\"fBits\":50462729,\"fLineColor\":1,\"fLineStyle\":1,\"fLineWidth\":1,\"fFillColor\":0,\"fFillStyle\":1001,\"fX1\":94.3894784279808,\"fY1\":0.692857160818019,\"fX2\":163.736848752585,\"fY2\":1.15000000884877,\"fX1NDC\":0.620000013709068,\"fY1NDC\":0.615000009536743,\"fX2NDC\":0.980000019073486,\"fY2NDC\":0.935000002384186,\"fBorderSize\":1,\"fInit\":1,\"fShadowColor\":1,\"fCornerRadius\":0,\"fOption\":\"brNDC\",\"fName\":\"stats\",\"fTextAngle\":0,\"fTextSize\":0,\"fTextAlign\":12,\"fTextColor\":1,\"fTextFont\":42,\"fLabel\":\"\",\"fLongest\":30,\"fMargin\":0.05,\"fLines\":{\"_typename\":\"TList\",\"name\":\"TList\",\"arr\":[{\"_typename\":\"TLatex\",\"fUniqueID\":0,\"fBits\":50331648,\"fName\":\"\",\"fTitle\":\"#chi^{2} \\/ ndf = 10.59 \\/ 45\",\"fTextAngle\":0,\"fTextSize\":0,\"fTextAlign\":0,\"fTextColor\":0,\"fTextFont\":0,\"fX\":0,\"fY\":0,\"fLineColor\":1,\"fLineStyle\":1,\"fLineWidth\":2,\"fLimitFactorSize\":3,\"fOriginSize\":0.04},{\"_typename\":\"TLatex\",\"fUniqueID\":0,\"fBits\":50331648,\"fName\":\"\",\"fTitle\":\"Prob  =     1\",\"fTextAngle\":0,\"fTextSize\":0,\"fTextAlign\":0,\"fTextColor\":0,\"fTextFont\":0,\"fX\":0,\"fY\":0,\"fLineColor\":1,\"fLineStyle\":1,\"fLineWidth\":2,\"fLimitFactorSize\":3,\"fOriginSize\":0.04},{\"_typename\":\"TLatex\",\"fUniqueID\":0,\"fBits\":50331648,\"fName\":\"\",\"fTitle\":\"#lambda  = 0.2813 #pm 0.01942 \",\"fTextAngle\":0,\"fTextSize\":0,\"fTextAlign\":0,\"fTextColor\":0,\"fTextFont\":0,\"fX\":0,\"fY\":0,\"fLineColor\":1,\"fLineStyle\":1,\"fLineWidth\":2,\"fLimitFactorSize\":3,\"fOriginSize\":0.04},{\"_typename\":\"TLatex\",\"fUniqueID\":0,\"fBits\":50331648,\"fName\":\"\",\"fTitle\":\"#mu      = 28.28 #pm 0.4495 \",\"fTextAngle\":0,\"fTextSize\":0,\"fTextAlign\":0,\"fTextColor\":0,\"fTextFont\":0,\"fX\":0,\"fY\":0,\"fLineColor\":1,\"fLineStyle\":1,\"fLineWidth\":2,\"fLimitFactorSize\":3,\"fOriginSize\":0.04},{\"_typename\":\"TLatex\",\"fUniqueID\":0,\"fBits\":50331648,\"fName\":\"\",\"fTitle\":\"#sigma   =     1 #pm 0.8141 \",\"fTextAngle\":0,\"fTextSize\":0,\"fTextAlign\":0,\"fTextColor\":0,\"fTextFont\":0,\"fX\":0,\"fY\":0,\"fLineColor\":1,\"fLineStyle\":1,\"fLineWidth\":2,\"fLimitFactorSize\":3,\"fOriginSize\":0.04},{\"_typename\":\"TLatex\",\"fUniqueID\":0,\"fBits\":50331648,\"fName\":\"\",\"fTitle\":\"Plateau  = 0.9982 #pm 0.00046 \",\"fTextAngle\":0,\"fTextSize\":0,\"fTextAlign\":0,\"fTextColor\":0,\"fTextFont\":0,\"fX\":0,\"fY\":0,\"fLineColor\":1,\"fLineStyle\":1,\"fLineWidth\":2,\"fLimitFactorSize\":3,\"fOriginSize\":0.04},{\"_typename\":\"TLatex\",\"fUniqueID\":0,\"fBits\":50331648,\"fName\":\"\",\"fTitle\":\"Baseline =     0 #pm     0 \",\"fTextAngle\":0,\"fTextSize\":0,\"fTextAlign\":0,\"fTextColor\":0,\"fTextFont\":0,\"fX\":0,\"fY\":0,\"fLineColor\":1,\"fLineStyle\":1,\"fLineWidth\":2,\"fLimitFactorSize\":3,\"fOriginSize\":0.04}],\"opt\":[\"\",\"\",\"\",\"\",\"\",\"\",\"\"]},\"fOptFit\":11111,\"fOptStat\":0,\"fFitFormat\":\"5.4g\",\"fStatFormat\":\"6.4g\",\"fParent\":{\"$ref\":4}}],\"opt\":[\"\",\"brNDC\"]},\"fHistogram\":{\"_typename\":\"TH1F\",\"fUniqueID\":0,\"fBits\":50331648,\"fName\":\"af74ea\",\"fTitle\":\"\",\"fLineColor\":602,\"fLineStyle\":1,\"fLineWidth\":1,\"fFillColor\":0,\"fFillStyle\":1001,\"fMarkerColor\":1,\"fMarkerStyle\":1,\"fMarkerSize\":1,\"fNcells\":102,\"fXaxis\":{\"_typename\":\"TAxis\",\"fUniqueID\":0,\"fBits\":50331656,\"fName\":\"xaxis\",\"fTitle\":\" p_{T}^{GEN} [GeV]\",\"fNdivisions\":510,\"fAxisColor\":1,\"fLabelColor\":1,\"fLabelFont\":42,\"fLabelOffset\":0.005,\"fLabelSize\":0.035,\"fTickLength\":0.03,\"fTitleOffset\":1.4,\"fTitleSize\":0.035,\"fTitleColor\":1,\"fTitleFont\":42,\"fNbins\":100,\"fXmin\":0,\"fXmax\":109.8,\"fXbins\":[],\"fFirst\":0,\"fLast\":0,\"fBits2\":0,\"fTimeDisplay\":false,\"fTimeFormat\":\"\",\"fLabels\":null,\"fModLabs\":null},\"fYaxis\":{\"_typename\":\"TAxis\",\"fUniqueID\":0,\"fBits\":50331656,\"fName\":\"yaxis\",\"fTitle\":\"L1 matched to GEN and p_{T}>th.\\/L1 matched to GEN\",\"fNdivisions\":510,\"fAxisColor\":1,\"fLabelColor\":1,\"fLabelFont\":42,\"fLabelOffset\":0.005,\"fLabelSize\":0.035,\"fTickLength\":0.03,\"fTitleOffset\":0,\"fTitleSize\":0.035,\"fTitleColor\":1,\"fTitleFont\":42,\"fNbins\":1,\"fXmin\":0,\"fXmax\":1.1,\"fXbins\":[],\"fFirst\":0,\"fLast\":0,\"fBits2\":0,\"fTimeDisplay\":false,\"fTimeFormat\":\"\",\"fLabels\":null,\"fModLabs\":null},\"fZaxis\":{\"_typename\":\"TAxis\",\"fUniqueID\":0,\"fBits\":50331648,\"fName\":\"zaxis\",\"fTitle\":\"\",\"fNdivisions\":510,\"fAxisColor\":1,\"fLabelColor\":1,\"fLabelFont\":42,\"fLabelOffset\":0.005,\"fLabelSize\":0.035,\"fTickLength\":0.03,\"fTitleOffset\":1,\"fTitleSize\":0.035,\"fTitleColor\":1,\"fTitleFont\":42,\"fNbins\":1,\"fXmin\":0,\"fXmax\":1,\"fXbins\":[],\"fFirst\":0,\"fLast\":0,\"fBits2\":0,\"fTimeDisplay\":false,\"fTimeFormat\":\"\",\"fLabels\":null,\"fModLabs\":null},\"fBarOffset\":0,\"fBarWidth\":1000,\"fEntries\":0,\"fTsumw\":0,\"fTsumw2\":0,\"fTsumwx\":0,\"fTsumwx2\":0,\"fMaximum\":1.1,\"fMinimum\":0,\"fNormFactor\":0,\"fContour\":[],\"fSumw2\":[],\"fOption\":\"\",\"fFunctions\":{\"_typename\":\"TList\",\"name\":\"TList\",\"arr\":[],\"opt\":[]},\"fBufferSize\":0,\"fBuffer\":[],\"fBinStatErrOpt\":0,\"fStatOverflows\":2,\"fArray\":[0,0,0,0,0,0,0,0,0,0,0,0,0,0,0,0,0,0,0,0,0,0,0,0,0,0,0,0,0,0,0,0,0,0,0,0,0,0,0,0,0,0,0,0,0,0,0,0,0,0,0,0,0,0,0,0,0,0,0,0,0,0,0,0,0,0,0,0,0,0,0,0,0,0,0,0,0,0,0,0,0,0,0,0,0,0,0,0,0,0,0,0,0,0,0,0,0,0,0,0,0,0]},\"fMinimum\":-1111,\"fMaximum\":-1111,\"fEXlow\":[1,1,1,1,1,1,1,1,1,1,1,1,1,1,1,1,1,1,1,1,1,1,1,1,1,1,1,1,1,1,1,1,1,1,1,1,1,1,1,1,1,1,1,1,1,1,1,1,1],\"fEXhigh\":[1,1,1,1,1,1,1,1,1,1,1,1,1,1,1,1,1,1,1,1,1,1,1,1,1,1,1,1,1,1,1,1,1,1,1,1,1,1,1,1,1,1,1,1,1,1,1,1,1],\"fEYlow\":[0,0,0,0,0,0,0,0,0,0,0,0,0.00618811041327565,0.0139310635195412,0.0221930069908994,0.0217000917859338,0.0165565256348377,0.013528944038155,0.010707977337591,0.00825771120787377,0.00671300209696069,0.00858698788553602,0.00600557648025124,0.00545482382233053,0.00499713126489809,0.00522010093980552,0.00436630211630595,0.00334171607834644,0.00563384714187143,0.00327047951878845,0.00322465214023471,0.00350056657582654,0.00506961820607532,0.00346759968683441,0.00337851090995966,0.00338472230368492,0.0046332995610554,0.00420655633739031,0.00442511811202106,0.00359629985182086,0.00406526099946136,0.00353416632119274,0.00347414329597728,0.00405808687428899,0.00422200298480258,0.00445081284829207,0.00412358026016912,0.00356151411478722,0.00366065719283548],\"fEYhigh\":[0.0110956905950783,0.00797249169425943,0.00575460618350494,0.00466174395275809,0.00406477309155856,0.00453541625251657,0.00386022264228776,0.00393447011365783,0.00381226179010358,0.00357534734320347,0.00354096381975243,0.00348071164830587,0.00841197623212488,0.0154562884954359,0.0224002795247922,0.0207391297940098,0.01520540596274,0.0120085207255852,0.00892428801985012,0.0061647570814265,0.00448996033626758,0.00620954070141932,0.00385820131620973,0.00306746190118123,0.00280887884563163,0.00256781065272449,0.00157576122017311,0,0.00316866556347006,0,0,0,0.00249346472665857,0,0,0,0.00227801062754107,0.00151793320693461,0.00159705603204052,0,0.00146679552412288,0,0,0.00146419934298714,0.00152352430682134,0.00160635959682764,0.00148790118023034,0,0]},{\"_typename\":\"TLatex\",\"fUniqueID\":0,\"fBits\":50348040,\"fName\":\"\",\"fTitle\":\"PU200, EG, hwQual 5, p_{T}^{L1}>=30GeV, 1.52 < |#eta^{GEN}| <= 2.4\",\"fTextAngle\":0,\"fTextSize\":0.03,\"fTextAlign\":11,\"fTextColor\":1,\"fTextFont\":62,\"fX\":0.15,\"fY\":0.85,\"fLineColor\":1,\"fLineStyle\":1,\"fLineWidth\":2,\"fLimitFactorSize\":3,\"fOriginSize\":0.04},{\"_typename\":\"TLatex\",\"fUniqueID\":0,\"fBits\":50331656,\"fName\":\"\",\"fTitle\":\"\",\"fTextAngle\":0,\"fTextSize\":0.03,\"fTextAlign\":11,\"fTextColor\":1,\"fTextFont\":62,\"fX\":0,\"fY\":0,\"fLineColor\":1,\"fLineStyle\":1,\"fLineWidth\":2,\"fLimitFactorSize\":3,\"fOriginSize\":0.04},{\"_typename\":\"TLine\",\"fUniqueID\":0,\"fBits\":50331656,\"fLineColor\":1,\"fLineStyle\":2,\"fLineWidth\":1,\"fX1\":0,\"fY1\":0.95,\"fX2\":109.8,\"fY2\":0.95},{\"_typename\":\"TLine\",\"fUniqueID\":0,\"fBits\":50331656,\"fLineColor\":1,\"fLineStyle\":2,\"fLineWidth\":1,\"fX1\":0,\"fY1\":1,\"fX2\":109.8,\"fY2\":1},{\"_typename\":\"TGraphErrors\",\"fUniqueID\":0,\"fBits\":50332680,\"fName\":\"Graph\",\"fTitle\":\"Fitted line with .95 conf. band\",\"fLineColor\":1,\"fLineStyle\":1,\"fLineWidth\":1,\"fFillColor\":0,\"fFillStyle\":1000,\"fMarkerColor\":1,\"fMarkerStyle\":1,\"fMarkerSize\":1,\"fNpoints\":49,\"fX\":[3,5,7,9,11,13,15,17,19,21,23,25,27,29,31,33,35,37,39,41,43,45,47,49,51,53,55,57,59,61,63,65,67,69,71,73,75,77,79,81,83,85,87,89,91,93,95,97,99],\"fY\":[3.08817054027176e-143,4.44423186749451e-122,1.18839937462281e-102,5.92110987245777e-85,5.51703433641854e-69,9.66091158097026e-55,3.20144271162662e-42,2.02800488940778e-31,2.49408223095392e-22,6.10802475620539e-15,3.11747714692748e-9,3.63456707343307e-5,0.011990113135075,0.195413581764978,0.515662383382449,0.723122332737208,0.841493199719496,0.908934786127631,0.947359485477448,0.969251875599777,0.981725017963363,0.988831564098935,0.992880503532551,0.99518737809923,0.996501714940678,0.997250555539876,0.997677205866735,0.997920288976284,0.998058785057098,0.998137692902387,0.998182650478166,0.998208264960635,0.998222858757138,0.998231173541426,0.998235910871958,0.998238609955878,0.998240147753158,0.998241023909863,0.998241523098269,0.998241807509793,0.99824196955265,0.99824206187622,0.998242114477377,0.998242144446773,0.998242161521772,0.998242171250216,0.998242176792977,0.998242179950952,0.998242181750202],\"fFunctions\":{\"_typename\":\"TList\",\"name\":\"TList\",\"arr\":[],\"opt\":[]},\"fHistogram\":{\"_typename\":\"TH1F\",\"fUniqueID\":0,\"fBits\":50332168,\"fName\":\"Graph\",\"fTitle\":\"Fitted line with .95 conf. band\",\"fLineColor\":602,\"fLineStyle\":1,\"fLineWidth\":1,\"fFillColor\":0,\"fFillStyle\":1001,\"fMarkerColor\":1,\"fMarkerStyle\":1,\"fMarkerSize\":1,\"fNcells\":102,\"fXaxis\":{\"_typename\":\"TAxis\",\"fUniqueID\":0,\"fBits\":50331648,\"fName\":\"xaxis\",\"fTitle\":\"\",\"fNdivisions\":510,\"fAxisColor\":1,\"fLabelColor\":1,\"fLabelFont\":42,\"fLabelOffset\":0.005,\"fLabelSize\":0.035,\"fTickLength\":0.03,\"fTitleOffset\":1,\"fTitleSize\":0.035,\"fTitleColor\":1,\"fTitleFont\":42,\"fNbins\":100,\"fXmin\":0,\"fXmax\":108.6,\"fXbins\":[],\"fFirst\":0,\"fLast\":0,\"fBits2\":0,\"fTimeDisplay\":false,\"fTimeFormat\":\"\",\"fLabels\":null,\"fModLabs\":null},\"fYaxis\":{\"_typename\":\"TAxis\",\"fUniqueID\":0,\"fBits\":50331648,\"fName\":\"yaxis\",\"fTitle\":\"\",\"fNdivisions\":510,\"fAxisColor\":1,\"fLabelColor\":1,\"fLabelFont\":42,\"fLabelOffset\":0.005,\"fLabelSize\":0.035,\"fTickLength\":0.03,\"fTitleOffset\":0,\"fTitleSize\":0.035,\"fTitleColor\":1,\"fTitleFont\":42,\"fNbins\":1,\"fXmin\":-0.160599676840958,\"fXmax\":1.10551956404849,\"fXbins\":[],\"fFirst\":0,\"fLast\":0,\"fBits2\":0,\"fTimeDisplay\":false,\"fTimeFormat\":\"\",\"fLabels\":null,\"fModLabs\":null},\"fZaxis\":{\"_typename\":\"TAxis\",\"fUniqueID\":0,\"fBits\":50331648,\"fName\":\"zaxis\",\"fTitle\":\"\",\"fNdivisions\":510,\"fAxisColor\":1,\"fLabelColor\":1,\"fLabelFont\":42,\"fLabelOffset\":0.005,\"fLabelSize\":0.035,\"fTickLength\":0.03,\"fTitleOffset\":1,\"fTitleSize\":0.035,\"fTitleColor\":1,\"fTitleFont\":42,\"fNbins\":1,\"fXmin\":0,\"fXmax\":1,\"fXbins\":[],\"fFirst\":0,\"fLast\":0,\"fBits2\":0,\"fTimeDisplay\":false,\"fTimeFormat\":\"\",\"fLabels\":null,\"fModLabs\":null},\"fBarOffset\":0,\"fBarWidth\":1000,\"fEntries\":0,\"fTsumw\":0,\"fTsumw2\":0,\"fTsumwx\":0,\"fTsumwx2\":0,\"fMaximum\":1.10551956404849,\"fMinimum\":-0.160599676840958,\"fNormFactor\":0,\"fContour\":[],\"fSumw2\":[],\"fOption\":\"\",\"fFunctions\":{\"_typename\":\"TList\",\"name\":\"TList\",\"arr\":[],\"opt\":[]},\"fBufferSize\":0,\"fBuffer\":[],\"fBinStatErrOpt\":0,\"fStatOverflows\":2,\"fArray\":[0,0,0,0,0,0,0,0,0,0,0,0,0,0,0,0,0,0,0,0,0,0,0,0,0,0,0,0,0,0,0,0,0,0,0,0,0,0,0,0,0,0,0,0,0,0,0,0,0,0,0,0,0,0,0,0,0,0,0,0,0,0,0,0,0,0,0,0,0,0,0,0,0,0,0,0,0,0,0,0,0,0,0,0,0,0,0,0,0,0,0,0,0,0,0,0,0,0,0,0,0,0]},\"fMinimum\":-1111,\"fMaximum\":-1111,\"fEX\":[0,0,0,0,0,0,0,0,0,0,0,0,0,0,0,0,0,0,0,0,0,0,0,0,0,0,0,0,0,0,0,0,0,0,0,0,0,0,0,0,0,0,0,0,0,0,0,0,0],\"fEY\":[1.36760169486297e-141,1.80857344800634e-120,4.41253771702042e-101,1.98887938746619e-83,1.65910701332909e-67,2.56766479944305e-53,7.39726639268792e-41,3.98673887240212e-30,4.05018847691935e-21,7.85380451697879e-14,2.97366774649979e-8,2.30457723935898e-4,0.0411908555761895,0.250503321865149,0.186720823583847,0.100199272053509,0.0621214009242325,0.0423418799917812,0.0294362226812017,0.0201875577830295,0.0135523553779573,0.0089241596540337,0.00581230261125076,0.00381936938608675,0.0026419158720549,0.00203990264717404,0.00179463310993354,0.00172329293140571,0.001716690402271,0.00172762133717484,0.001739984469407,0.0017496278836941,0.00175626162817322,0.00176056202057164,0.00176326096859974,0.00176492263039086,0.00176593338601221,0.00176654331857857,0.00176690934431717,0.00176712811525123,0.00176725847079749,0.00176733595268792,0.00176738191292375,0.00176740912748665,0.00176742521722493,0.00176743471648018,0.00176744031776154,0.00176744361662995,0.00176744555750367]}],\"opt\":[\"\",\"pa\",\"same\",\"same\",\"same\",\"same\",\"\"]},\"fExecs\":null,\"fName\":\"c_17da1f\",\"fTitle\":\"c_17da1f\",\"fNumPaletteColor\":0,\"fNextPaletteColor\":0,\"fDISPLAY\":\"$DISPLAY\",\"fDoubleBuffer\":0,\"fRetained\":true,\"fXsizeUser\":0,\"fYsizeUser\":0,\"fXsizeReal\":20,\"fYsizeReal\":15,\"fWindowTopX\":0,\"fWindowTopY\":0,\"fWindowWidth\":0,\"fWindowHeight\":0,\"fCw\":796,\"fCh\":572,\"fCatt\":{\"_typename\":\"TAttCanvas\",\"fXBetween\":2,\"fYBetween\":2,\"fTitleFromTop\":1.2,\"fXdate\":0.2,\"fYdate\":0.3,\"fAdate\":1},\"kMoveOpaque\":true,\"kResizeOpaque\":true,\"fHighLightColor\":2,\"fBatch\":true,\"kShowEventStatus\":false,\"kAutoExec\":true,\"kMenuBar\":true});\n",
       "       Core.draw(\"root_plot_40\", obj, \"\");\n",
       "     }\n",
       " );\n",
       "</script>\n"
      ],
      "text/plain": [
       "<IPython.core.display.HTML object>"
      ]
     },
     "metadata": {},
     "output_type": "display_data"
    },
    {
     "data": {
      "text/html": [
       "\n",
       "<div id=\"root_plot_41\"\n",
       "     style=\"width: 796px; height: 572px\">\n",
       "</div>\n",
       "\n",
       "<script>\n",
       " requirejs.config({\n",
       "     paths: {\n",
       "       'JSRootCore' : 'https://root.cern.ch/js/notebook//scripts/JSRootCore',\n",
       "     }\n",
       "   });\n",
       " require(['JSRootCore'],\n",
       "     function(Core) {\n",
       "       var obj = Core.JSONR_unref({\"_typename\":\"TCanvas\",\"fUniqueID\":0,\"fBits\":53673992,\"fLineColor\":1,\"fLineStyle\":1,\"fLineWidth\":1,\"fFillColor\":0,\"fFillStyle\":1001,\"fLeftMargin\":0.13,\"fRightMargin\":0.3,\"fBottomMargin\":0.13,\"fTopMargin\":0.1,\"fXfile\":2,\"fYfile\":2,\"fAfile\":1,\"fXstat\":0.99,\"fYstat\":0.99,\"fAstat\":2,\"fFrameFillColor\":0,\"fFrameLineColor\":1,\"fFrameFillStyle\":1001,\"fFrameLineStyle\":1,\"fFrameLineWidth\":1,\"fFrameBorderSize\":1,\"fFrameBorderMode\":0,\"fX1\":-25.0421046588559,\"fY1\":-0.185714283502611,\"fX2\":167.58947670572,\"fY2\":1.24285714852456,\"fXtoAbsPixelk\":103.480046204376,\"fXtoPixelk\":103.480046204376,\"fXtoPixel\":4.13224038530569,\"fYtoAbsPixelk\":497.640051065433,\"fYtoPixelk\":497.640051065433,\"fYtoPixel\":-400.399999031424,\"fUtoAbsPixelk\":5e-5,\"fUtoPixelk\":5e-5,\"fUtoPixel\":796,\"fVtoAbsPixelk\":572.00005,\"fVtoPixelk\":572,\"fVtoPixel\":-572,\"fAbsPixeltoXk\":-25.0421046588559,\"fPixeltoXk\":-25.0421046588559,\"fPixeltoX\":0.241999474076101,\"fAbsPixeltoYk\":1.24285714852456,\"fPixeltoYk\":-0.185714283502611,\"fPixeltoY\":-0.00249750250354401,\"fXlowNDC\":0,\"fYlowNDC\":0,\"fXUpNDC\":0,\"fYUpNDC\":0,\"fWNDC\":1,\"fHNDC\":1,\"fAbsXlowNDC\":0,\"fAbsYlowNDC\":0,\"fAbsWNDC\":1,\"fAbsHNDC\":1,\"fUxmin\":0,\"fUymin\":0,\"fUxmax\":109.8,\"fUymax\":1.1,\"fTheta\":30,\"fPhi\":30,\"fAspectRatio\":0,\"fNumber\":0,\"fTickx\":0,\"fTicky\":0,\"fLogx\":0,\"fLogy\":0,\"fLogz\":0,\"fPadPaint\":0,\"fCrosshair\":0,\"fCrosshairPos\":0,\"fBorderSize\":2,\"fBorderMode\":0,\"fModified\":true,\"fGridx\":false,\"fGridy\":false,\"fAbsCoord\":false,\"fEditable\":true,\"fFixedAspectRatio\":false,\"fPrimitives\":{\"_typename\":\"TList\",\"name\":\"TList\",\"arr\":[{\"_typename\":\"TFrame\",\"fUniqueID\":0,\"fBits\":50331656,\"fLineColor\":1,\"fLineStyle\":1,\"fLineWidth\":1,\"fFillColor\":0,\"fFillStyle\":1001,\"fX1\":0,\"fY1\":0,\"fX2\":109.8,\"fY2\":1.1,\"fBorderSize\":1,\"fBorderMode\":0},{\"_typename\":\"TGraphAsymmErrors\",\"fUniqueID\":0,\"fBits\":50332680,\"fName\":\"80bfcb\",\"fTitle\":\"; p_{T}^{GEN} [GeV];\",\"fLineColor\":1,\"fLineStyle\":1,\"fLineWidth\":1,\"fFillColor\":0,\"fFillStyle\":1001,\"fMarkerColor\":1,\"fMarkerStyle\":8,\"fMarkerSize\":0.5,\"fNpoints\":49,\"fX\":[3,5,7,9,11,13,15,17,19,21,23,25,27,29,31,33,35,37,39,41,43,45,47,49,51,53,55,57,59,61,63,65,67,69,71,73,75,77,79,81,83,85,87,89,91,93,95,97,99],\"fY\":[0,0,0,0,0,0,0,0,0,0,0,0,0,0,0,0,0.0036036036036036,0.0207612456747405,0.130590339892665,0.402277039848197,0.68241965973535,0.838983050847458,0.908765652951699,0.93609022556391,0.972461273666093,0.976143141153082,0.982857142857143,0.987272727272727,0.992233009708738,0.99644128113879,0.996491228070175,1,0.996138996138996,1,1,1,0.99647266313933,0.998165137614679,0.998069498069498,1,0.99822695035461,1,1,0.998230088495575,0.998158379373849,0.998058252427184,0.998201438848921,1,1],\"fFunctions\":{\"_typename\":\"TList\",\"name\":\"TList\",\"arr\":[{\"_typename\":\"TF1\",\"fUniqueID\":0,\"fBits\":50332680,\"fName\":\"tf_yc\",\"fTitle\":\"tf_yc\",\"fLineColor\":6,\"fLineStyle\":1,\"fLineWidth\":2,\"fFillColor\":19,\"fFillStyle\":0,\"fMarkerColor\":1,\"fMarkerStyle\":1,\"fMarkerSize\":1,\"fXmin\":0,\"fXmax\":100,\"fNpar\":5,\"fNdim\":1,\"fNpx\":100,\"fType\":1,\"fNpfits\":49,\"fNDF\":45,\"fChisquare\":20.9246929483908,\"fMinimum\":-1111,\"fMaximum\":-1111,\"fParErrors\":[0.0188928887174986,0.706508211444675,0.757696326270827,4.88969966220776e-4,0],\"fParMin\":[0,0,0.1,0.9,1],\"fParMax\":[1,50,1,1,1],\"fSave\":[0,0,0,0,0,0,0,0,0,0,0,0,0,0,0,0,0,0,0,0,0,0,0,0,0,0,0,0,0,0,0,0,0,0,0,4.54604734828568e-276,7.69955777830175e-145,1.86404220433043e-56,1.27490410654809e-10,0.112848414848974,0.318991594182118,0.477143987337102,0.598477991523596,0.691565046851942,0.762981134434314,0.817771325697565,0.859806183112587,0.892055189680416,0.916796523149058,0.935777994113724,0.95034051720647,0.961512837793296,0.97008420598958,0.976660131929523,0.98170516102842,0.985575691025438,0.988545149112625,0.990823307746806,0.992571103677952,0.993912007059787,0.994940743794651,0.995729987288251,0.996335492342245,0.996800033860022,0.997156428609025,0.99742985350703,0.997639624203871,0.997800559603589,0.997924028721403,0.998018753828997,0.998091426624976,0.998147180958854,0.998189955503363,0.998222771995475,0.998247948702017,0.998267264189794,0.998282082969504,0.998293451889339,0.998302174087842,0.998308865730305,0.998313999536746,0.998317938176432,0.998320959888052,0.998323278135428,0.998325056687312,0.998326421186562,0.99832746802597,0.998328271157776,0.998328887317898,0.998329360033949,0.998329722700174,0.998330000936528,0.998330214398559,0.998330378165938,0.998330503807741,0.998330600199725,0.998330674151344,0.998330730886786,0.998330774414034,0.998330807807998,0.998330833427739,0,100],\"fNormalized\":false,\"fNormIntegral\":0,\"fFormula\":null,\"fParams\":{\"_typename\":\"TF1Parameters\",\"fParameters\":[0.265011973858783,38.546032398816,0.100512398294583,0.998330917856901,0],\"fParNames\":[\"#lambda\",\"#mu\",\"#sigma\",\"Plateau\",\"Baseline\"]},\"fComposition_ptr\":null},{\"_typename\":\"TPaveStats\",\"fUniqueID\":0,\"fBits\":50462729,\"fLineColor\":1,\"fLineStyle\":1,\"fLineWidth\":1,\"fFillColor\":0,\"fFillStyle\":1001,\"fX1\":94.3894784279808,\"fY1\":0.692857160818019,\"fX2\":163.736848752585,\"fY2\":1.15000000884877,\"fX1NDC\":0.620000013709068,\"fY1NDC\":0.615000009536743,\"fX2NDC\":0.980000019073486,\"fY2NDC\":0.935000002384186,\"fBorderSize\":1,\"fInit\":1,\"fShadowColor\":1,\"fCornerRadius\":0,\"fOption\":\"brNDC\",\"fName\":\"stats\",\"fTextAngle\":0,\"fTextSize\":0,\"fTextAlign\":12,\"fTextColor\":1,\"fTextFont\":42,\"fLabel\":\"\",\"fLongest\":31,\"fMargin\":0.05,\"fLines\":{\"_typename\":\"TList\",\"name\":\"TList\",\"arr\":[{\"_typename\":\"TLatex\",\"fUniqueID\":0,\"fBits\":50331648,\"fName\":\"\",\"fTitle\":\"#chi^{2} \\/ ndf = 20.92 \\/ 45\",\"fTextAngle\":0,\"fTextSize\":0,\"fTextAlign\":0,\"fTextColor\":0,\"fTextFont\":0,\"fX\":0,\"fY\":0,\"fLineColor\":1,\"fLineStyle\":1,\"fLineWidth\":2,\"fLimitFactorSize\":3,\"fOriginSize\":0.04},{\"_typename\":\"TLatex\",\"fUniqueID\":0,\"fBits\":50331648,\"fName\":\"\",\"fTitle\":\"Prob  = 0.9992\",\"fTextAngle\":0,\"fTextSize\":0,\"fTextAlign\":0,\"fTextColor\":0,\"fTextFont\":0,\"fX\":0,\"fY\":0,\"fLineColor\":1,\"fLineStyle\":1,\"fLineWidth\":2,\"fLimitFactorSize\":3,\"fOriginSize\":0.04},{\"_typename\":\"TLatex\",\"fUniqueID\":0,\"fBits\":50331648,\"fName\":\"\",\"fTitle\":\"#lambda  = 0.265 #pm 0.01889 \",\"fTextAngle\":0,\"fTextSize\":0,\"fTextAlign\":0,\"fTextColor\":0,\"fTextFont\":0,\"fX\":0,\"fY\":0,\"fLineColor\":1,\"fLineStyle\":1,\"fLineWidth\":2,\"fLimitFactorSize\":3,\"fOriginSize\":0.04},{\"_typename\":\"TLatex\",\"fUniqueID\":0,\"fBits\":50331648,\"fName\":\"\",\"fTitle\":\"#mu      = 38.55 #pm 0.7065 \",\"fTextAngle\":0,\"fTextSize\":0,\"fTextAlign\":0,\"fTextColor\":0,\"fTextFont\":0,\"fX\":0,\"fY\":0,\"fLineColor\":1,\"fLineStyle\":1,\"fLineWidth\":2,\"fLimitFactorSize\":3,\"fOriginSize\":0.04},{\"_typename\":\"TLatex\",\"fUniqueID\":0,\"fBits\":50331648,\"fName\":\"\",\"fTitle\":\"#sigma   = 0.1005 #pm 0.7577 \",\"fTextAngle\":0,\"fTextSize\":0,\"fTextAlign\":0,\"fTextColor\":0,\"fTextFont\":0,\"fX\":0,\"fY\":0,\"fLineColor\":1,\"fLineStyle\":1,\"fLineWidth\":2,\"fLimitFactorSize\":3,\"fOriginSize\":0.04},{\"_typename\":\"TLatex\",\"fUniqueID\":0,\"fBits\":50331648,\"fName\":\"\",\"fTitle\":\"Plateau  = 0.9983 #pm 0.000489 \",\"fTextAngle\":0,\"fTextSize\":0,\"fTextAlign\":0,\"fTextColor\":0,\"fTextFont\":0,\"fX\":0,\"fY\":0,\"fLineColor\":1,\"fLineStyle\":1,\"fLineWidth\":2,\"fLimitFactorSize\":3,\"fOriginSize\":0.04},{\"_typename\":\"TLatex\",\"fUniqueID\":0,\"fBits\":50331648,\"fName\":\"\",\"fTitle\":\"Baseline =     0 #pm     0 \",\"fTextAngle\":0,\"fTextSize\":0,\"fTextAlign\":0,\"fTextColor\":0,\"fTextFont\":0,\"fX\":0,\"fY\":0,\"fLineColor\":1,\"fLineStyle\":1,\"fLineWidth\":2,\"fLimitFactorSize\":3,\"fOriginSize\":0.04}],\"opt\":[\"\",\"\",\"\",\"\",\"\",\"\",\"\"]},\"fOptFit\":11111,\"fOptStat\":0,\"fFitFormat\":\"5.4g\",\"fStatFormat\":\"6.4g\",\"fParent\":{\"$ref\":4}}],\"opt\":[\"\",\"brNDC\"]},\"fHistogram\":{\"_typename\":\"TH1F\",\"fUniqueID\":0,\"fBits\":50331648,\"fName\":\"80bfcb\",\"fTitle\":\"\",\"fLineColor\":602,\"fLineStyle\":1,\"fLineWidth\":1,\"fFillColor\":0,\"fFillStyle\":1001,\"fMarkerColor\":1,\"fMarkerStyle\":1,\"fMarkerSize\":1,\"fNcells\":102,\"fXaxis\":{\"_typename\":\"TAxis\",\"fUniqueID\":0,\"fBits\":50331656,\"fName\":\"xaxis\",\"fTitle\":\" p_{T}^{GEN} [GeV]\",\"fNdivisions\":510,\"fAxisColor\":1,\"fLabelColor\":1,\"fLabelFont\":42,\"fLabelOffset\":0.005,\"fLabelSize\":0.035,\"fTickLength\":0.03,\"fTitleOffset\":1.4,\"fTitleSize\":0.035,\"fTitleColor\":1,\"fTitleFont\":42,\"fNbins\":100,\"fXmin\":0,\"fXmax\":109.8,\"fXbins\":[],\"fFirst\":0,\"fLast\":0,\"fBits2\":0,\"fTimeDisplay\":false,\"fTimeFormat\":\"\",\"fLabels\":null,\"fModLabs\":null},\"fYaxis\":{\"_typename\":\"TAxis\",\"fUniqueID\":0,\"fBits\":50331656,\"fName\":\"yaxis\",\"fTitle\":\"L1 matched to GEN and p_{T}>th.\\/L1 matched to GEN\",\"fNdivisions\":510,\"fAxisColor\":1,\"fLabelColor\":1,\"fLabelFont\":42,\"fLabelOffset\":0.005,\"fLabelSize\":0.035,\"fTickLength\":0.03,\"fTitleOffset\":0,\"fTitleSize\":0.035,\"fTitleColor\":1,\"fTitleFont\":42,\"fNbins\":1,\"fXmin\":0,\"fXmax\":1.1,\"fXbins\":[],\"fFirst\":0,\"fLast\":0,\"fBits2\":0,\"fTimeDisplay\":false,\"fTimeFormat\":\"\",\"fLabels\":null,\"fModLabs\":null},\"fZaxis\":{\"_typename\":\"TAxis\",\"fUniqueID\":0,\"fBits\":50331648,\"fName\":\"zaxis\",\"fTitle\":\"\",\"fNdivisions\":510,\"fAxisColor\":1,\"fLabelColor\":1,\"fLabelFont\":42,\"fLabelOffset\":0.005,\"fLabelSize\":0.035,\"fTickLength\":0.03,\"fTitleOffset\":1,\"fTitleSize\":0.035,\"fTitleColor\":1,\"fTitleFont\":42,\"fNbins\":1,\"fXmin\":0,\"fXmax\":1,\"fXbins\":[],\"fFirst\":0,\"fLast\":0,\"fBits2\":0,\"fTimeDisplay\":false,\"fTimeFormat\":\"\",\"fLabels\":null,\"fModLabs\":null},\"fBarOffset\":0,\"fBarWidth\":1000,\"fEntries\":0,\"fTsumw\":0,\"fTsumw2\":0,\"fTsumwx\":0,\"fTsumwx2\":0,\"fMaximum\":1.1,\"fMinimum\":0,\"fNormFactor\":0,\"fContour\":[],\"fSumw2\":[],\"fOption\":\"\",\"fFunctions\":{\"_typename\":\"TList\",\"name\":\"TList\",\"arr\":[],\"opt\":[]},\"fBufferSize\":0,\"fBuffer\":[],\"fBinStatErrOpt\":0,\"fStatOverflows\":2,\"fArray\":[0,0,0,0,0,0,0,0,0,0,0,0,0,0,0,0,0,0,0,0,0,0,0,0,0,0,0,0,0,0,0,0,0,0,0,0,0,0,0,0,0,0,0,0,0,0,0,0,0,0,0,0,0,0,0,0,0,0,0,0,0,0,0,0,0,0,0,0,0,0,0,0,0,0,0,0,0,0,0,0,0,0,0,0,0,0,0,0,0,0,0,0,0,0,0,0,0,0,0,0,0,0]},\"fMinimum\":-1111,\"fMaximum\":-1111,\"fEXlow\":[1,1,1,1,1,1,1,1,1,1,1,1,1,1,1,1,1,1,1,1,1,1,1,1,1,1,1,1,1,1,1,1,1,1,1,1,1,1,1,1,1,1,1,1,1,1,1,1,1],\"fEXhigh\":[1,1,1,1,1,1,1,1,1,1,1,1,1,1,1,1,1,1,1,1,1,1,1,1,1,1,1,1,1,1,1,1,1,1,1,1,1,1,1,1,1,1,1,1,1,1,1,1,1],\"fEYlow\":[0,0,0,0,0,0,0,0,0,0,0,0,0,0,0,0,0.00232725778845127,0.00587749888662546,0.0144401899900823,0.0220940728284172,0.0215273733580116,0.0187290898578683,0.0138592307104322,0.0124447818293555,0.00858958959140499,0.0089157081906629,0.00773111081837352,0.00678791377734334,0.00609858294376964,0.00467435060619115,0.0046090132127572,0.00350056657582654,0.00506961820607532,0.00346759968683441,0.00337851090995966,0.00338472230368492,0.0046332995610554,0.00420655633739031,0.00442511811202106,0.00359629985182086,0.00406526099946136,0.00353416632119274,0.00347414329597728,0.00405808687428899,0.00422200298480258,0.00445081284829207,0.00412358026016912,0.00356151411478722,0.00366065719283548],\"fEYhigh\":[0.0110956905950783,0.00797249169425943,0.00575460618350494,0.00466174395275809,0.00406477309155856,0.00453541625251657,0.00386022264228776,0.00393447011365783,0.00381226179010358,0.00357534734320347,0.00354096381975243,0.00348071164830587,0.00367527288081863,0.00341612503995261,0.00340349428054338,0.00375779220064688,0.00473305947476051,0.00777574309312921,0.015843338304985,0.0224809535616476,0.0208063342232753,0.0172047298971498,0.0122909424636444,0.0106619260564249,0.00675877748610265,0.00674846185842348,0.00558510303601689,0.00468197640518275,0.003713557184024,0.00229827473165234,0.00226602278609156,0,0.00249346472665857,0,0,0,0.00227801062754107,0.00151793320693461,0.00159705603204052,0,0.00146679552412288,0,0,0.00146419934298714,0.00152352430682134,0.00160635959682764,0.00148790118023034,0,0]},{\"_typename\":\"TLatex\",\"fUniqueID\":0,\"fBits\":50348040,\"fName\":\"\",\"fTitle\":\"PU200, EG, hwQual 5, p_{T}^{L1}>=40GeV, 1.52 < |#eta^{GEN}| <= 2.4\",\"fTextAngle\":0,\"fTextSize\":0.03,\"fTextAlign\":11,\"fTextColor\":1,\"fTextFont\":62,\"fX\":0.15,\"fY\":0.85,\"fLineColor\":1,\"fLineStyle\":1,\"fLineWidth\":2,\"fLimitFactorSize\":3,\"fOriginSize\":0.04},{\"_typename\":\"TLatex\",\"fUniqueID\":0,\"fBits\":50331656,\"fName\":\"\",\"fTitle\":\"\",\"fTextAngle\":0,\"fTextSize\":0.03,\"fTextAlign\":11,\"fTextColor\":1,\"fTextFont\":62,\"fX\":0,\"fY\":0,\"fLineColor\":1,\"fLineStyle\":1,\"fLineWidth\":2,\"fLimitFactorSize\":3,\"fOriginSize\":0.04},{\"_typename\":\"TLine\",\"fUniqueID\":0,\"fBits\":50331656,\"fLineColor\":1,\"fLineStyle\":2,\"fLineWidth\":1,\"fX1\":0,\"fY1\":0.95,\"fX2\":109.8,\"fY2\":0.95},{\"_typename\":\"TLine\",\"fUniqueID\":0,\"fBits\":50331656,\"fLineColor\":1,\"fLineStyle\":2,\"fLineWidth\":1,\"fX1\":0,\"fY1\":1,\"fX2\":109.8,\"fY2\":1},{\"_typename\":\"TGraphErrors\",\"fUniqueID\":0,\"fBits\":50332680,\"fName\":\"Graph\",\"fTitle\":\"Fitted line with .95 conf. band\",\"fLineColor\":1,\"fLineStyle\":1,\"fLineWidth\":1,\"fFillColor\":0,\"fFillStyle\":1000,\"fMarkerColor\":1,\"fMarkerStyle\":1,\"fMarkerSize\":1,\"fNpoints\":49,\"fX\":[3,5,7,9,11,13,15,17,19,21,23,25,27,29,31,33,35,37,39,41,43,45,47,49,51,53,55,57,59,61,63,65,67,69,71,73,75,77,79,81,83,85,87,89,91,93,95,97,99],\"fY\":[0,0,0,0,0,0,0,0,0,0,0,0,0,0,0,0,4.54604734828568e-276,1.86404220433043e-56,0.112848414848974,0.477143987337102,0.691565046851942,0.817771325697565,0.892055189680416,0.935777994113724,0.961512837793296,0.976660131929523,0.985575691025438,0.990823307746806,0.993912007059787,0.995729987288251,0.996800033860022,0.99742985350703,0.997800559603589,0.998018753828997,0.998147180958854,0.998222771995475,0.998267264189794,0.998293451889339,0.998308865730305,0.998317938176432,0.998323278135428,0.998326421186562,0.998328271157776,0.998329360033949,0.998330000936528,0.998330378165938,0.998330600199725,0.998330730886786,0.998330807807998],\"fFunctions\":{\"_typename\":\"TList\",\"name\":\"TList\",\"arr\":[],\"opt\":[]},\"fHistogram\":null,\"fMinimum\":-1111,\"fMaximum\":-1111,\"fEX\":[0,0,0,0,0,0,0,0,0,0,0,0,0,0,0,0,0,0,0,0,0,0,0,0,0,0,0,0,0,0,0,0,0,0,0,0,0,0,0,0,0,0,0,0,0,0,0,0,0],\"fEY\":[0,0,0,0,0,0,0,0,0,0,0,0,0,0,0,0,0,3.83007966663246e-52,0.591409849919357,0.301154011035327,0.157516063538206,0.087556317103138,0.0529121375323593,0.0343203979404523,0.0230877876642963,0.0156659647734172,0.0105778488525743,0.00709154133371942,0.00476120423830809,0.00328214127254695,0.00243084401083717,0.00201593260202646,0.00185746687645996,0.00181773329617253,0.00182081946591544,0.00183461425410388,0.00184807782133111,0.00185842979208505,0.00186566028646803,0.00187046873674378,0.00187357763669511,0.0018755530431656,0.00187679410342647,0.00187756782756841,0.00187804756803211,0.00187834382560079,0.00187852620538021,0.0018786381995825,0.00187870682885063]}],\"opt\":[\"\",\"pa\",\"same\",\"same\",\"same\",\"same\",\"\"]},\"fExecs\":null,\"fName\":\"c_ac1ffd\",\"fTitle\":\"c_ac1ffd\",\"fNumPaletteColor\":0,\"fNextPaletteColor\":0,\"fDISPLAY\":\"$DISPLAY\",\"fDoubleBuffer\":0,\"fRetained\":true,\"fXsizeUser\":0,\"fYsizeUser\":0,\"fXsizeReal\":20,\"fYsizeReal\":15,\"fWindowTopX\":0,\"fWindowTopY\":0,\"fWindowWidth\":0,\"fWindowHeight\":0,\"fCw\":796,\"fCh\":572,\"fCatt\":{\"_typename\":\"TAttCanvas\",\"fXBetween\":2,\"fYBetween\":2,\"fTitleFromTop\":1.2,\"fXdate\":0.2,\"fYdate\":0.3,\"fAdate\":1},\"kMoveOpaque\":true,\"kResizeOpaque\":true,\"fHighLightColor\":2,\"fBatch\":true,\"kShowEventStatus\":false,\"kAutoExec\":true,\"kMenuBar\":true});\n",
       "       Core.draw(\"root_plot_41\", obj, \"\");\n",
       "     }\n",
       " );\n",
       "</script>\n"
      ],
      "text/plain": [
       "<IPython.core.display.HTML object>"
      ]
     },
     "metadata": {},
     "output_type": "display_data"
    }
   ],
   "source": [
    "ROOT.TVirtualFitter.SetDefaultFitter(\"Fumili2\")\n",
    "ROOT.TVirtualFitter.SetPrecision(1e-04)\n",
    "\n",
    "import array\n",
    "\n",
    "class HWrapper(object):\n",
    "    def __init__(self, histo):\n",
    "        self.histo = histo\n",
    "    \n",
    "    def get(self, debug=False):\n",
    "        return self.histo\n",
    "\n",
    "\n",
    "# tps_scaling = ['EG', 'TkEleEL']\n",
    "# tp_sel_scaling = [('EGq3Pt{}', 'EGq3'), ('EGq4Pt{}', 'EGq4'), ('EGq5Pt{}', 'EGq5')]\n",
    "# pt_points = [10, 15, 20, 25, 30, 40]\n",
    "\n",
    "sample = 'ele-V9'\n",
    "tps_scaling = ['EG']\n",
    "tp_sel_scaling = [('EGq5Pt{}', 'EGq5')]\n",
    "pt_points = [10, 15, 20, 25, 30, 40]\n",
    "\n",
    "# sample = 'calib'\n",
    "# tps_scaling = ['HMvDRshapeDrCalib']\n",
    "# tp_sel_scaling = [('EmPt{}', 'Em')]\n",
    "# pt_points = [10, 20, 30]\n",
    "\n",
    "\n",
    "for pu in ['PU0', 'PU200']:\n",
    "    for gen_sel in ['GENEtaBC']:\n",
    "        for tp in tps_scaling:\n",
    "            for tp_sel_strings in tp_sel_scaling:\n",
    "                pt_95 = []\n",
    "                pt_95_err = []\n",
    "                for pt in pt_points:\n",
    "#                     for (i=0; i<ngr; i++)\n",
    "#       grint->SetPoint(i, gr->GetX()[i], 0);\n",
    "        \n",
    "                    tp_sel = tp_sel_strings[0].format(pt)\n",
    "                    hsets, labels, text = hplot.get_histo(histos.HistoSetEff, sample, pu, tp, tp_sel, gen_sel)\n",
    "                        # drawSeveral([his.hreso.h_ptResVpt for his in hsets], labels,  'COLZ', do_profile=True, text=text)\n",
    "        #                 draw([his.h_ton.h_pt.CreateGraph() for his in hsets], labels, text=text, min_y=0, max_y=1.1, y_axis_label='L1 matched to GEN and p_{T}>th./L1 matched to GEN', h_lines=[0.95, 1])\n",
    "\n",
    "#                     if pt == 20:\n",
    "                    tf_yc.SetParameters(0.6, pt, 0.1, 1.0, 0.0)\n",
    "#                     else:\n",
    "#                         tf_yc.SetParameters(1, 20, 4, 1.0, 0.0)\n",
    "                    h_eff_vs_pt = [his.h_ton.h_pt.CreateGraph() for his in hsets]\n",
    "\n",
    "                    result = h_eff_vs_pt[0].Fit(tf_yc, 'EMQRS+')\n",
    "\n",
    "                    grint = ROOT.TGraphErrors(h_eff_vs_pt[0].GetN())\n",
    "                    stuff.append(grint)\n",
    "                    grint.SetTitle(\"Fitted line with .95 conf. band\")\n",
    "                    for point in range(0, h_eff_vs_pt[0].GetN()):\n",
    "                        grint.SetPoint(point, h_eff_vs_pt[0].GetX()[point], 0)\n",
    "                    ROOT.TVirtualFitter.GetFitter().GetConfidenceIntervals(grint)\n",
    "\n",
    "                        \n",
    "                    print '------- {}'.format( text)\n",
    "                    print result.Print()\n",
    "                    pt095 = tf_yc.GetX(0.95)\n",
    "                    pt_95.append(pt095)\n",
    "\n",
    "                    prev_err = 0\n",
    "                    error = 0\n",
    "                    for idx,point in enumerate(grint.GetX()):\n",
    "#                         print idx, point, grint.GetEY()[idx]\n",
    "                        if pt095 > point:\n",
    "                            prev_err = grint.GetEY()[idx]\n",
    "                        else:\n",
    "                            error = (prev_err+grint.GetEY()[idx])/2\n",
    "                            break\n",
    "                    pt_95_err.append(error)\n",
    "                    print '       pt th: {}, 95% eff: {}, err: {}'.format(pt, pt095, error)\n",
    "                    #                 points.append((tp, pu, pt, pt095))\n",
    "                    draw(h_eff_vs_pt, labels, text=text, min_y=0, max_y=1.1, y_axis_label='L1 matched to GEN and p_{T}>th./L1 matched to GEN', h_lines=[0.95, 1])\n",
    "                    ROOT.gStyle.SetOptFit(11111)\n",
    "                    grint.Draw('same')\n",
    "\n",
    "                print len(pt_points)\n",
    "                print len(pt_95)\n",
    "                print len(pt_95_err)\n",
    "                print pt_95_err\n",
    "                \n",
    "                graph = ROOT.TGraphErrors(len(pt_points), array.array('d', pt_points), \n",
    "                                                          array.array('d', pt_95),\n",
    "                                                          array.array('d', [0.]*len(pt_points)),\n",
    "                                                          array.array('d', pt_95_err) )\n",
    "                graph.SetMarkerStyle(7)\n",
    "                graph.SetMarkerColor(2)\n",
    "                stuff.append(graph)\n",
    "\n",
    "                hplot.data = hplot.data.append({'sample': sample,\n",
    "                                                'pu': pu,\n",
    "                                                'tp': tp,\n",
    "                                                'tp_sel': tp_sel_strings[1],\n",
    "                                                'gen_sel': gen_sel,\n",
    "                                                'classtype': fake_histoname,\n",
    "                                                'histo': HWrapper(graph),},\n",
    "                                                ignore_index=True)\n",
    "\n",
    "                \n",
    "                "
   ]
  },
  {
   "cell_type": "code",
   "execution_count": 56,
   "metadata": {},
   "outputs": [
    {
     "data": {
      "text/html": [
       "<div>\n",
       "<style scoped>\n",
       "    .dataframe tbody tr th:only-of-type {\n",
       "        vertical-align: middle;\n",
       "    }\n",
       "\n",
       "    .dataframe tbody tr th {\n",
       "        vertical-align: top;\n",
       "    }\n",
       "\n",
       "    .dataframe thead th {\n",
       "        text-align: right;\n",
       "    }\n",
       "</style>\n",
       "<table border=\"1\" class=\"dataframe\">\n",
       "  <thead>\n",
       "    <tr style=\"text-align: right;\">\n",
       "      <th></th>\n",
       "      <th>sample</th>\n",
       "      <th>pu</th>\n",
       "      <th>tp</th>\n",
       "      <th>tp_sel</th>\n",
       "      <th>gen_sel</th>\n",
       "      <th>classtype</th>\n",
       "      <th>histo</th>\n",
       "    </tr>\n",
       "  </thead>\n",
       "  <tbody>\n",
       "    <tr>\n",
       "      <th>2578</th>\n",
       "      <td>ele-V9</td>\n",
       "      <td>PU0</td>\n",
       "      <td>EG</td>\n",
       "      <td>EGq5</td>\n",
       "      <td>GENEtaBC</td>\n",
       "      <td>78c911</td>\n",
       "      <td>&lt;__main__.HWrapper object at 0x1237225d0&gt;</td>\n",
       "    </tr>\n",
       "    <tr>\n",
       "      <th>2579</th>\n",
       "      <td>ele-V9</td>\n",
       "      <td>PU200</td>\n",
       "      <td>EG</td>\n",
       "      <td>EGq5</td>\n",
       "      <td>GENEtaBC</td>\n",
       "      <td>78c911</td>\n",
       "      <td>&lt;__main__.HWrapper object at 0x122b454d0&gt;</td>\n",
       "    </tr>\n",
       "  </tbody>\n",
       "</table>\n",
       "</div>"
      ],
      "text/plain": [
       "      sample     pu  tp tp_sel   gen_sel classtype  \\\n",
       "2578  ele-V9    PU0  EG   EGq5  GENEtaBC    78c911   \n",
       "2579  ele-V9  PU200  EG   EGq5  GENEtaBC    78c911   \n",
       "\n",
       "                                          histo  \n",
       "2578  <__main__.HWrapper object at 0x1237225d0>  \n",
       "2579  <__main__.HWrapper object at 0x122b454d0>  "
      ]
     },
     "execution_count": 56,
     "metadata": {},
     "output_type": "execute_result"
    }
   ],
   "source": [
    "hplot.data[hplot.data.classtype == fake_histoname]\n"
   ]
  },
  {
   "cell_type": "code",
   "execution_count": 57,
   "metadata": {},
   "outputs": [
    {
     "data": {
      "text/plain": [
       "array(['ele-V9'], dtype=object)"
      ]
     },
     "execution_count": 57,
     "metadata": {},
     "output_type": "execute_result"
    }
   ],
   "source": [
    "hplot.data[hplot.data.classtype == fake_histoname]['sample'].unique()"
   ]
  },
  {
   "cell_type": "code",
   "execution_count": 58,
   "metadata": {
    "scrolled": false
   },
   "outputs": [
    {
     "name": "stdout",
     "output_type": "stream",
     "text": [
      "ele-V9\n",
      " FCN=75.8589 FROM MINOS     STATUS=SUCCESSFUL     12 CALLS         109 TOTAL\n",
      "                     EDM=2.92361e-16    STRATEGY= 1      ERROR MATRIX ACCURATE \n",
      "  EXT PARAMETER                                   STEP         FIRST   \n",
      "  NO.   NAME      VALUE            ERROR          SIZE      DERIVATIVE \n",
      "   1  p0           5.79597e+00   7.89693e-02  -6.98704e-09  -1.67220e-10\n",
      "   2  p1           1.11078e+00   3.43259e-03   3.43259e-03   1.46186e-07\n",
      " FCN=117.903 FROM MINOS     STATUS=SUCCESSFUL     12 CALLS          81 TOTAL\n",
      "                     EDM=9.32854e-16    STRATEGY= 1      ERROR MATRIX ACCURATE \n",
      "  EXT PARAMETER                                   STEP         FIRST   \n",
      "  NO.   NAME      VALUE            ERROR          SIZE      DERIVATIVE \n",
      "   1  p0           7.97930e+00   5.54511e-02  -1.50205e-07   3.47663e-08\n",
      "   2  p1           1.03615e+00   2.32099e-03   2.32099e-03   2.82080e-06\n"
     ]
    },
    {
     "data": {
      "text/html": [
       "\n",
       "<div id=\"root_plot_42\"\n",
       "     style=\"width: 796px; height: 572px\">\n",
       "</div>\n",
       "\n",
       "<script>\n",
       " requirejs.config({\n",
       "     paths: {\n",
       "       'JSRootCore' : 'https://root.cern.ch/js/notebook//scripts/JSRootCore',\n",
       "     }\n",
       "   });\n",
       " require(['JSRootCore'],\n",
       "     function(Core) {\n",
       "       var obj = Core.JSONR_unref({\"_typename\":\"TCanvas\",\"fUniqueID\":0,\"fBits\":53673992,\"fLineColor\":1,\"fLineStyle\":1,\"fLineWidth\":1,\"fFillColor\":0,\"fFillStyle\":1001,\"fLeftMargin\":0.13,\"fRightMargin\":0.3,\"fBottomMargin\":0.13,\"fTopMargin\":0.1,\"fXfile\":2,\"fYfile\":2,\"fAfile\":1,\"fXstat\":0.99,\"fYstat\":0.99,\"fAstat\":2,\"fFrameFillColor\":0,\"fFrameLineColor\":1,\"fFrameFillStyle\":1001,\"fFrameLineStyle\":1,\"fFrameLineWidth\":1,\"fFrameBorderSize\":1,\"fFrameBorderMode\":0,\"fX1\":-1.21052611765769,\"fY1\":-10.1298700092333,\"fX2\":61.9473694117116,\"fY2\":67.7922081013397,\"fXtoAbsPixelk\":15.2567139780998,\"fXtoPixelk\":15.2567139780998,\"fXtoPixel\":12.6033331751823,\"fYtoAbsPixelk\":497.640051065433,\"fYtoPixelk\":497.640051065433,\"fYtoPixel\":-7.34066664890945,\"fUtoAbsPixelk\":5e-5,\"fUtoPixelk\":5e-5,\"fUtoPixel\":796,\"fVtoAbsPixelk\":572.00005,\"fVtoPixelk\":572,\"fVtoPixel\":-572,\"fAbsPixeltoXk\":-1.21052611765769,\"fPixeltoXk\":-1.21052611765769,\"fPixeltoX\":0.0793440898610166,\"fAbsPixeltoYk\":67.7922081013397,\"fPixeltoYk\":-10.1298700092333,\"fPixeltoY\":-0.136227409284218,\"fXlowNDC\":0,\"fYlowNDC\":0,\"fXUpNDC\":0,\"fYUpNDC\":0,\"fWNDC\":1,\"fHNDC\":1,\"fAbsXlowNDC\":0,\"fAbsYlowNDC\":0,\"fAbsWNDC\":1,\"fAbsHNDC\":1,\"fUxmin\":7,\"fUymin\":0,\"fUxmax\":43,\"fUymax\":60,\"fTheta\":30,\"fPhi\":30,\"fAspectRatio\":0,\"fNumber\":0,\"fTickx\":0,\"fTicky\":0,\"fLogx\":0,\"fLogy\":0,\"fLogz\":0,\"fPadPaint\":0,\"fCrosshair\":0,\"fCrosshairPos\":0,\"fBorderSize\":2,\"fBorderMode\":0,\"fModified\":false,\"fGridx\":false,\"fGridy\":false,\"fAbsCoord\":false,\"fEditable\":true,\"fFixedAspectRatio\":false,\"fPrimitives\":{\"_typename\":\"TList\",\"name\":\"TList\",\"arr\":[{\"_typename\":\"TFrame\",\"fUniqueID\":0,\"fBits\":50331656,\"fLineColor\":1,\"fLineStyle\":1,\"fLineWidth\":1,\"fFillColor\":0,\"fFillStyle\":1001,\"fX1\":7,\"fY1\":0,\"fX2\":43,\"fY2\":60,\"fBorderSize\":1,\"fBorderMode\":0},{\"_typename\":\"TGraphErrors\",\"fUniqueID\":0,\"fBits\":50332680,\"fName\":\"316059\",\"fTitle\":\";;\",\"fLineColor\":1,\"fLineStyle\":1,\"fLineWidth\":1,\"fFillColor\":0,\"fFillStyle\":1001,\"fMarkerColor\":1,\"fMarkerStyle\":8,\"fMarkerSize\":0.5,\"fNpoints\":6,\"fX\":[10,15,20,25,30,40],\"fY\":[16.8894460062445,22.2142279956195,28.1539570333721,33.6895953575714,38.8749723133977,49.9463451477778],\"fFunctions\":{\"_typename\":\"TList\",\"name\":\"TList\",\"arr\":[{\"_typename\":\"TF1\",\"fUniqueID\":0,\"fBits\":50332672,\"fName\":\"pol1\",\"fTitle\":\"pol1\",\"fLineColor\":2,\"fLineStyle\":1,\"fLineWidth\":2,\"fFillColor\":19,\"fFillStyle\":0,\"fMarkerColor\":1,\"fMarkerStyle\":1,\"fMarkerSize\":1,\"fXmin\":5,\"fXmax\":35,\"fNpar\":2,\"fNdim\":1,\"fNpx\":100,\"fType\":0,\"fNpfits\":5,\"fNDF\":3,\"fChisquare\":75.8588604146392,\"fMinimum\":-1111,\"fMaximum\":-1111,\"fParErrors\":[0.0789692937329901,0.00343259122235233],\"fParMin\":[0,0],\"fParMax\":[0,0],\"fSave\":[11.3498806175171,11.683115166323,12.0163497151289,12.3495842639348,12.6828188127407,13.0160533615466,13.3492879103525,13.6825224591583,14.0157570079642,14.3489915567701,14.682226105576,15.0154606543819,15.3486952031878,15.6819297519937,16.0151643007996,16.3483988496054,16.6816333984113,17.0148679472172,17.3481024960231,17.681337044829,18.0145715936349,18.3478061424408,18.6810406912467,19.0142752400525,19.3475097888584,19.6807443376643,20.0139788864702,20.3472134352761,20.680447984082,21.0136825328879,21.3469170816938,21.6801516304996,22.0133861793055,22.3466207281114,22.6798552769173,23.0130898257232,23.3463243745291,23.679558923335,24.0127934721408,24.3460280209467,24.6792625697526,25.0124971185585,25.3457316673644,25.6789662161703,26.0122007649762,26.3454353137821,26.6786698625879,27.0119044113938,27.3451389601997,27.6783735090056,28.0116080578115,28.3448426066174,28.6780771554233,29.0113117042292,29.344546253035,29.6777808018409,30.0110153506468,30.3442498994527,30.6774844482586,31.0107189970645,31.3439535458704,31.6771880946763,32.0104226434821,32.343657192288,32.6768917410939,33.0101262898998,33.3433608387057,33.6765953875116,34.0098299363175,34.3430644851233,34.6762990339292,35.0095335827351,35.342768131541,35.6760026803469,36.0092372291528,36.3424717779587,36.6757063267646,37.0089408755704,37.3421754243763,37.6754099731822,38.0086445219881,38.341879070794,38.6751136195999,39.0083481684058,39.3415827172117,39.6748172660175,40.0080518148234,40.3412863636293,40.6745209124352,41.0077554612411,41.340990010047,41.6742245588529,42.0074591076588,42.3406936564646,42.6739282052705,43.0071627540764,43.3403973028823,43.6736318516882,44.0068664004941,44.3401009493,44.6733354981059,5,35],\"fNormalized\":false,\"fNormIntegral\":0,\"fFormula\":{\"_typename\":\"TFormula\",\"fUniqueID\":0,\"fBits\":50398208,\"fName\":\"pol1\",\"fTitle\":\"pol1\",\"fClingParameters\":[5.79597147075235,1.11078182935296],\"fAllParametersSetted\":true,\"fParams\":[{\"$pair\":\"pair<TString,int,TFormulaParamOrder>\",\"first\":\"p0\",\"second\":0},{\"$pair\":\"pair<TString,int,TFormulaParamOrder>\",\"first\":\"p1\",\"second\":1}],\"fFormula\":\"([p0]+[p1]*x)\",\"fNdim\":1,\"fLinearParts\":[],\"fVectorized\":false},\"fParams\":null,\"fComposition_ptr\":null},{\"_typename\":\"TPaveStats\",\"fUniqueID\":0,\"fBits\":50462729,\"fLineColor\":1,\"fLineStyle\":1,\"fLineWidth\":1,\"fFillColor\":0,\"fFillStyle\":1001,\"fX1\":37.9473699763871,\"fY1\":47.1428579361574,\"fX2\":60.6842127057654,\"fY2\":62.7272732099331,\"fX1NDC\":0.620000013709068,\"fY1NDC\":0.735000006854534,\"fX2NDC\":0.980000019073486,\"fY2NDC\":0.935000002384186,\"fBorderSize\":1,\"fInit\":1,\"fShadowColor\":1,\"fCornerRadius\":0,\"fOption\":\"brNDC\",\"fName\":\"stats\",\"fTextAngle\":0,\"fTextSize\":0,\"fTextAlign\":12,\"fTextColor\":1,\"fTextFont\":42,\"fLabel\":\"\",\"fLongest\":30,\"fMargin\":0.05,\"fLines\":{\"_typename\":\"TList\",\"name\":\"TList\",\"arr\":[{\"_typename\":\"TLatex\",\"fUniqueID\":0,\"fBits\":50331648,\"fName\":\"\",\"fTitle\":\"#chi^{2} \\/ ndf = 75.86 \\/ 3\",\"fTextAngle\":0,\"fTextSize\":0,\"fTextAlign\":0,\"fTextColor\":0,\"fTextFont\":0,\"fX\":0,\"fY\":0,\"fLineColor\":1,\"fLineStyle\":1,\"fLineWidth\":2,\"fLimitFactorSize\":3,\"fOriginSize\":0.04},{\"_typename\":\"TLatex\",\"fUniqueID\":0,\"fBits\":50331648,\"fName\":\"\",\"fTitle\":\"Prob  = 2.371e-16\",\"fTextAngle\":0,\"fTextSize\":0,\"fTextAlign\":0,\"fTextColor\":0,\"fTextFont\":0,\"fX\":0,\"fY\":0,\"fLineColor\":1,\"fLineStyle\":1,\"fLineWidth\":2,\"fLimitFactorSize\":3,\"fOriginSize\":0.04},{\"_typename\":\"TLatex\",\"fUniqueID\":0,\"fBits\":50331648,\"fName\":\"\",\"fTitle\":\"p0       = 5.796 #pm 0.07897 \",\"fTextAngle\":0,\"fTextSize\":0,\"fTextAlign\":0,\"fTextColor\":0,\"fTextFont\":0,\"fX\":0,\"fY\":0,\"fLineColor\":1,\"fLineStyle\":1,\"fLineWidth\":2,\"fLimitFactorSize\":3,\"fOriginSize\":0.04},{\"_typename\":\"TLatex\",\"fUniqueID\":0,\"fBits\":50331648,\"fName\":\"\",\"fTitle\":\"p1       = 1.111 #pm 0.003433 \",\"fTextAngle\":0,\"fTextSize\":0,\"fTextAlign\":0,\"fTextColor\":0,\"fTextFont\":0,\"fX\":0,\"fY\":0,\"fLineColor\":1,\"fLineStyle\":1,\"fLineWidth\":2,\"fLimitFactorSize\":3,\"fOriginSize\":0.04}],\"opt\":[\"\",\"\",\"\",\"\"]},\"fOptFit\":11111,\"fOptStat\":0,\"fFitFormat\":\"5.4g\",\"fStatFormat\":\"6.4g\",\"fParent\":{\"$ref\":4}}],\"opt\":[\"\",\"brNDC\"]},\"fHistogram\":{\"_typename\":\"TH1F\",\"fUniqueID\":0,\"fBits\":50331648,\"fName\":\"316059\",\"fTitle\":\"\",\"fLineColor\":602,\"fLineStyle\":1,\"fLineWidth\":1,\"fFillColor\":0,\"fFillStyle\":1001,\"fMarkerColor\":1,\"fMarkerStyle\":1,\"fMarkerSize\":1,\"fNcells\":102,\"fXaxis\":{\"_typename\":\"TAxis\",\"fUniqueID\":0,\"fBits\":50331656,\"fName\":\"xaxis\",\"fTitle\":\"p_{T} thresh. [GeV]\",\"fNdivisions\":510,\"fAxisColor\":1,\"fLabelColor\":1,\"fLabelFont\":42,\"fLabelOffset\":0.005,\"fLabelSize\":0.035,\"fTickLength\":0.03,\"fTitleOffset\":1.4,\"fTitleSize\":0.035,\"fTitleColor\":1,\"fTitleFont\":42,\"fNbins\":100,\"fXmin\":7,\"fXmax\":43,\"fXbins\":[],\"fFirst\":0,\"fLast\":0,\"fBits2\":0,\"fTimeDisplay\":false,\"fTimeFormat\":\"\",\"fLabels\":null,\"fModLabs\":null},\"fYaxis\":{\"_typename\":\"TAxis\",\"fUniqueID\":0,\"fBits\":50331656,\"fName\":\"yaxis\",\"fTitle\":\"p_{T} @ 95% eff. [GeV] \",\"fNdivisions\":510,\"fAxisColor\":1,\"fLabelColor\":1,\"fLabelFont\":42,\"fLabelOffset\":0.005,\"fLabelSize\":0.035,\"fTickLength\":0.03,\"fTitleOffset\":0,\"fTitleSize\":0.035,\"fTitleColor\":1,\"fTitleFont\":42,\"fNbins\":1,\"fXmin\":13.4998545231941,\"fXmax\":53.2916688469568,\"fXbins\":[],\"fFirst\":0,\"fLast\":0,\"fBits2\":0,\"fTimeDisplay\":false,\"fTimeFormat\":\"\",\"fLabels\":null,\"fModLabs\":null},\"fZaxis\":{\"_typename\":\"TAxis\",\"fUniqueID\":0,\"fBits\":50331648,\"fName\":\"zaxis\",\"fTitle\":\"\",\"fNdivisions\":510,\"fAxisColor\":1,\"fLabelColor\":1,\"fLabelFont\":42,\"fLabelOffset\":0.005,\"fLabelSize\":0.035,\"fTickLength\":0.03,\"fTitleOffset\":1,\"fTitleSize\":0.035,\"fTitleColor\":1,\"fTitleFont\":42,\"fNbins\":1,\"fXmin\":0,\"fXmax\":1,\"fXbins\":[],\"fFirst\":0,\"fLast\":0,\"fBits2\":0,\"fTimeDisplay\":false,\"fTimeFormat\":\"\",\"fLabels\":null,\"fModLabs\":null},\"fBarOffset\":0,\"fBarWidth\":1000,\"fEntries\":0,\"fTsumw\":0,\"fTsumw2\":0,\"fTsumwx\":0,\"fTsumwx2\":0,\"fMaximum\":60,\"fMinimum\":0,\"fNormFactor\":0,\"fContour\":[],\"fSumw2\":[],\"fOption\":\"\",\"fFunctions\":{\"_typename\":\"TList\",\"name\":\"TList\",\"arr\":[],\"opt\":[]},\"fBufferSize\":0,\"fBuffer\":[],\"fBinStatErrOpt\":0,\"fStatOverflows\":2,\"fArray\":[0,0,0,0,0,0,0,0,0,0,0,0,0,0,0,0,0,0,0,0,0,0,0,0,0,0,0,0,0,0,0,0,0,0,0,0,0,0,0,0,0,0,0,0,0,0,0,0,0,0,0,0,0,0,0,0,0,0,0,0,0,0,0,0,0,0,0,0,0,0,0,0,0,0,0,0,0,0,0,0,0,0,0,0,0,0,0,0,0,0,0,0,0,0,0,0,0,0,0,0,0,0]},\"fMinimum\":-1111,\"fMaximum\":-1111,\"fEX\":[0,0,0,0,0,0],\"fEY\":[0.0736069560701844,0.0518175050592599,0.042505284702441,0.0315009439649093,0.0470334302393395,0.0293391721987895]},{\"_typename\":\"TLatex\",\"fUniqueID\":0,\"fBits\":50348040,\"fName\":\"\",\"fTitle\":\"PU0, EG, hwQual 5, 1.52 < |#eta^{GEN}| <= 2.4\",\"fTextAngle\":0,\"fTextSize\":0.03,\"fTextAlign\":11,\"fTextColor\":1,\"fTextFont\":62,\"fX\":0.15,\"fY\":0.85,\"fLineColor\":1,\"fLineStyle\":1,\"fLineWidth\":2,\"fLimitFactorSize\":3,\"fOriginSize\":0.04},{\"_typename\":\"TLatex\",\"fUniqueID\":0,\"fBits\":50331656,\"fName\":\"\",\"fTitle\":\"\",\"fTextAngle\":0,\"fTextSize\":0.03,\"fTextAlign\":11,\"fTextColor\":1,\"fTextFont\":62,\"fX\":0,\"fY\":0,\"fLineColor\":1,\"fLineStyle\":1,\"fLineWidth\":2,\"fLimitFactorSize\":3,\"fOriginSize\":0.04}],\"opt\":[\"\",\"pa\",\"same\",\"same\"]},\"fExecs\":null,\"fName\":\"c_77c842\",\"fTitle\":\"c_77c842\",\"fNumPaletteColor\":0,\"fNextPaletteColor\":0,\"fDISPLAY\":\"$DISPLAY\",\"fDoubleBuffer\":0,\"fRetained\":true,\"fXsizeUser\":0,\"fYsizeUser\":0,\"fXsizeReal\":20,\"fYsizeReal\":15,\"fWindowTopX\":0,\"fWindowTopY\":0,\"fWindowWidth\":0,\"fWindowHeight\":0,\"fCw\":796,\"fCh\":572,\"fCatt\":{\"_typename\":\"TAttCanvas\",\"fXBetween\":2,\"fYBetween\":2,\"fTitleFromTop\":1.2,\"fXdate\":0.2,\"fYdate\":0.3,\"fAdate\":1},\"kMoveOpaque\":true,\"kResizeOpaque\":true,\"fHighLightColor\":2,\"fBatch\":true,\"kShowEventStatus\":false,\"kAutoExec\":true,\"kMenuBar\":true});\n",
       "       Core.draw(\"root_plot_42\", obj, \"\");\n",
       "     }\n",
       " );\n",
       "</script>\n"
      ],
      "text/plain": [
       "<IPython.core.display.HTML object>"
      ]
     },
     "metadata": {},
     "output_type": "display_data"
    },
    {
     "data": {
      "text/html": [
       "\n",
       "<div id=\"root_plot_43\"\n",
       "     style=\"width: 796px; height: 572px\">\n",
       "</div>\n",
       "\n",
       "<script>\n",
       " requirejs.config({\n",
       "     paths: {\n",
       "       'JSRootCore' : 'https://root.cern.ch/js/notebook//scripts/JSRootCore',\n",
       "     }\n",
       "   });\n",
       " require(['JSRootCore'],\n",
       "     function(Core) {\n",
       "       var obj = Core.JSONR_unref({\"_typename\":\"TCanvas\",\"fUniqueID\":0,\"fBits\":53673992,\"fLineColor\":1,\"fLineStyle\":1,\"fLineWidth\":1,\"fFillColor\":0,\"fFillStyle\":1001,\"fLeftMargin\":0.13,\"fRightMargin\":0.3,\"fBottomMargin\":0.13,\"fTopMargin\":0.1,\"fXfile\":2,\"fYfile\":2,\"fAfile\":1,\"fXstat\":0.99,\"fYstat\":0.99,\"fAstat\":2,\"fFrameFillColor\":0,\"fFrameLineColor\":1,\"fFrameFillStyle\":1001,\"fFrameLineStyle\":1,\"fFrameLineWidth\":1,\"fFrameBorderSize\":1,\"fFrameBorderMode\":0,\"fX1\":-1.21052611765769,\"fY1\":-10.1298700092333,\"fX2\":61.9473694117116,\"fY2\":67.7922081013397,\"fXtoAbsPixelk\":15.2567139780998,\"fXtoPixelk\":15.2567139780998,\"fXtoPixel\":12.6033331751823,\"fYtoAbsPixelk\":497.640051065433,\"fYtoPixelk\":497.640051065433,\"fYtoPixel\":-7.34066664890945,\"fUtoAbsPixelk\":5e-5,\"fUtoPixelk\":5e-5,\"fUtoPixel\":796,\"fVtoAbsPixelk\":572.00005,\"fVtoPixelk\":572,\"fVtoPixel\":-572,\"fAbsPixeltoXk\":-1.21052611765769,\"fPixeltoXk\":-1.21052611765769,\"fPixeltoX\":0.0793440898610166,\"fAbsPixeltoYk\":67.7922081013397,\"fPixeltoYk\":-10.1298700092333,\"fPixeltoY\":-0.136227409284218,\"fXlowNDC\":0,\"fYlowNDC\":0,\"fXUpNDC\":0,\"fYUpNDC\":0,\"fWNDC\":1,\"fHNDC\":1,\"fAbsXlowNDC\":0,\"fAbsYlowNDC\":0,\"fAbsWNDC\":1,\"fAbsHNDC\":1,\"fUxmin\":7,\"fUymin\":0,\"fUxmax\":43,\"fUymax\":60,\"fTheta\":30,\"fPhi\":30,\"fAspectRatio\":0,\"fNumber\":0,\"fTickx\":0,\"fTicky\":0,\"fLogx\":0,\"fLogy\":0,\"fLogz\":0,\"fPadPaint\":0,\"fCrosshair\":0,\"fCrosshairPos\":0,\"fBorderSize\":2,\"fBorderMode\":0,\"fModified\":false,\"fGridx\":false,\"fGridy\":false,\"fAbsCoord\":false,\"fEditable\":true,\"fFixedAspectRatio\":false,\"fPrimitives\":{\"_typename\":\"TList\",\"name\":\"TList\",\"arr\":[{\"_typename\":\"TFrame\",\"fUniqueID\":0,\"fBits\":50331656,\"fLineColor\":1,\"fLineStyle\":1,\"fLineWidth\":1,\"fFillColor\":0,\"fFillStyle\":1001,\"fX1\":7,\"fY1\":0,\"fX2\":43,\"fY2\":60,\"fBorderSize\":1,\"fBorderMode\":0},{\"_typename\":\"TGraphErrors\",\"fUniqueID\":0,\"fBits\":50332680,\"fName\":\"da6d65\",\"fTitle\":\";;\",\"fLineColor\":1,\"fLineStyle\":1,\"fLineWidth\":1,\"fFillColor\":0,\"fFillStyle\":1001,\"fMarkerColor\":1,\"fMarkerStyle\":8,\"fMarkerSize\":0.5,\"fNpoints\":6,\"fX\":[10,15,20,25,30,40],\"fY\":[19.0858896947032,23.5356770932242,28.734074901379,33.6932761805225,39.1894517902379,49.9733201766876],\"fFunctions\":{\"_typename\":\"TList\",\"name\":\"TList\",\"arr\":[{\"_typename\":\"TF1\",\"fUniqueID\":0,\"fBits\":50332672,\"fName\":\"pol1\",\"fTitle\":\"pol1\",\"fLineColor\":2,\"fLineStyle\":1,\"fLineWidth\":2,\"fFillColor\":19,\"fFillStyle\":0,\"fMarkerColor\":1,\"fMarkerStyle\":1,\"fMarkerSize\":1,\"fXmin\":5,\"fXmax\":35,\"fNpar\":2,\"fNdim\":1,\"fNpx\":100,\"fType\":0,\"fNpfits\":5,\"fNDF\":3,\"fChisquare\":117.903134083637,\"fMinimum\":-1111,\"fMaximum\":-1111,\"fParErrors\":[0.0554510534610032,0.00232098578440992],\"fParMin\":[0,0],\"fParMax\":[0,0],\"fSave\":[13.1600533012686,13.4708987257571,13.7817441502456,14.0925895747341,14.4034349992226,14.7142804237111,15.0251258481996,15.3359712726881,15.6468166971766,15.9576621216651,16.2685075461536,16.5793529706421,16.8901983951306,17.2010438196191,17.5118892441076,17.8227346685961,18.1335800930846,18.4444255175731,18.7552709420616,19.0661163665501,19.3769617910386,19.6878072155272,19.9986526400157,20.3094980645042,20.6203434889927,20.9311889134812,21.2420343379697,21.5528797624582,21.8637251869467,22.1745706114352,22.4854160359237,22.7962614604122,23.1071068849007,23.4179523093892,23.7287977338777,24.0396431583662,24.3504885828547,24.6613340073432,24.9721794318317,25.2830248563202,25.5938702808087,25.9047157052972,26.2155611297857,26.5264065542742,26.8372519787627,27.1480974032512,27.4589428277397,27.7697882522282,28.0806336767168,28.3914791012053,28.7023245256938,29.0131699501823,29.3240153746708,29.6348607991593,29.9457062236478,30.2565516481363,30.5673970726248,30.8782424971133,31.1890879216018,31.4999333460903,31.8107787705788,32.1216241950673,32.4324696195558,32.7433150440443,33.0541604685328,33.3650058930213,33.6758513175098,33.9866967419983,34.2975421664868,34.6083875909753,34.9192330154638,35.2300784399523,35.5409238644408,35.8517692889293,36.1626147134178,36.4734601379064,36.7843055623949,37.0951509868834,37.4059964113719,37.7168418358604,38.0276872603489,38.3385326848374,38.6493781093259,38.9602235338144,39.2710689583029,39.5819143827914,39.8927598072799,40.2036052317684,40.5144506562569,40.8252960807454,41.1361415052339,41.4469869297224,41.7578323542109,42.0686777786994,42.3795232031879,42.6903686276764,43.0012140521649,43.3120594766534,43.6229049011419,43.9337503256304,44.2445957501189,5,35],\"fNormalized\":false,\"fNormIntegral\":0,\"fFormula\":{\"_typename\":\"TFormula\",\"fUniqueID\":0,\"fBits\":50398208,\"fName\":\"pol1\",\"fTitle\":\"pol1\",\"fClingParameters\":[7.97929622646018,1.03615141496168],\"fAllParametersSetted\":true,\"fParams\":[{\"$pair\":\"pair<TString,int,TFormulaParamOrder>\",\"first\":\"p0\",\"second\":0},{\"$pair\":\"pair<TString,int,TFormulaParamOrder>\",\"first\":\"p1\",\"second\":1}],\"fFormula\":\"([p0]+[p1]*x)\",\"fNdim\":1,\"fLinearParts\":[],\"fVectorized\":false},\"fParams\":null,\"fComposition_ptr\":null},{\"_typename\":\"TPaveStats\",\"fUniqueID\":0,\"fBits\":50331657,\"fLineColor\":1,\"fLineStyle\":1,\"fLineWidth\":1,\"fFillColor\":0,\"fFillStyle\":1001,\"fX1\":37.9473699763871,\"fY1\":47.1428579361574,\"fX2\":60.6842127057654,\"fY2\":62.7272732099331,\"fX1NDC\":0.620000013709068,\"fY1NDC\":0.735000006854534,\"fX2NDC\":0.980000019073486,\"fY2NDC\":0.935000002384186,\"fBorderSize\":1,\"fInit\":1,\"fShadowColor\":1,\"fCornerRadius\":0,\"fOption\":\"brNDC\",\"fName\":\"stats\",\"fTextAngle\":0,\"fTextSize\":0,\"fTextAlign\":12,\"fTextColor\":1,\"fTextFont\":42,\"fLabel\":\"\",\"fLongest\":30,\"fMargin\":0.05,\"fLines\":{\"_typename\":\"TList\",\"name\":\"TList\",\"arr\":[{\"_typename\":\"TLatex\",\"fUniqueID\":0,\"fBits\":50331648,\"fName\":\"\",\"fTitle\":\"#chi^{2} \\/ ndf = 117.9 \\/ 3\",\"fTextAngle\":0,\"fTextSize\":0,\"fTextAlign\":0,\"fTextColor\":0,\"fTextFont\":0,\"fX\":0,\"fY\":0,\"fLineColor\":1,\"fLineStyle\":1,\"fLineWidth\":2,\"fLimitFactorSize\":3,\"fOriginSize\":0.04},{\"_typename\":\"TLatex\",\"fUniqueID\":0,\"fBits\":50331648,\"fName\":\"\",\"fTitle\":\"Prob  = 2.183e-25\",\"fTextAngle\":0,\"fTextSize\":0,\"fTextAlign\":0,\"fTextColor\":0,\"fTextFont\":0,\"fX\":0,\"fY\":0,\"fLineColor\":1,\"fLineStyle\":1,\"fLineWidth\":2,\"fLimitFactorSize\":3,\"fOriginSize\":0.04},{\"_typename\":\"TLatex\",\"fUniqueID\":0,\"fBits\":50331648,\"fName\":\"\",\"fTitle\":\"p0       = 7.979 #pm 0.05545 \",\"fTextAngle\":0,\"fTextSize\":0,\"fTextAlign\":0,\"fTextColor\":0,\"fTextFont\":0,\"fX\":0,\"fY\":0,\"fLineColor\":1,\"fLineStyle\":1,\"fLineWidth\":2,\"fLimitFactorSize\":3,\"fOriginSize\":0.04},{\"_typename\":\"TLatex\",\"fUniqueID\":0,\"fBits\":50331648,\"fName\":\"\",\"fTitle\":\"p1       = 1.036 #pm 0.002321 \",\"fTextAngle\":0,\"fTextSize\":0,\"fTextAlign\":0,\"fTextColor\":0,\"fTextFont\":0,\"fX\":0,\"fY\":0,\"fLineColor\":1,\"fLineStyle\":1,\"fLineWidth\":2,\"fLimitFactorSize\":3,\"fOriginSize\":0.04}],\"opt\":[\"\",\"\",\"\",\"\"]},\"fOptFit\":11111,\"fOptStat\":0,\"fFitFormat\":\"5.4g\",\"fStatFormat\":\"6.4g\",\"fParent\":{\"$ref\":4}}],\"opt\":[\"\",\"brNDC\"]},\"fHistogram\":{\"_typename\":\"TH1F\",\"fUniqueID\":0,\"fBits\":50331648,\"fName\":\"da6d65\",\"fTitle\":\"\",\"fLineColor\":602,\"fLineStyle\":1,\"fLineWidth\":1,\"fFillColor\":0,\"fFillStyle\":1001,\"fMarkerColor\":1,\"fMarkerStyle\":1,\"fMarkerSize\":1,\"fNcells\":102,\"fXaxis\":{\"_typename\":\"TAxis\",\"fUniqueID\":0,\"fBits\":50331656,\"fName\":\"xaxis\",\"fTitle\":\"p_{T} thresh. [GeV]\",\"fNdivisions\":510,\"fAxisColor\":1,\"fLabelColor\":1,\"fLabelFont\":42,\"fLabelOffset\":0.005,\"fLabelSize\":0.035,\"fTickLength\":0.03,\"fTitleOffset\":1.4,\"fTitleSize\":0.035,\"fTitleColor\":1,\"fTitleFont\":42,\"fNbins\":100,\"fXmin\":7,\"fXmax\":43,\"fXbins\":[],\"fFirst\":0,\"fLast\":0,\"fBits2\":0,\"fTimeDisplay\":false,\"fTimeFormat\":\"\",\"fLabels\":null,\"fModLabs\":null},\"fYaxis\":{\"_typename\":\"TAxis\",\"fUniqueID\":0,\"fBits\":50331656,\"fName\":\"yaxis\",\"fTitle\":\"p_{T} @ 95% eff. [GeV] \",\"fNdivisions\":510,\"fAxisColor\":1,\"fLabelColor\":1,\"fLabelFont\":42,\"fLabelOffset\":0.005,\"fLabelSize\":0.035,\"fTickLength\":0.03,\"fTitleOffset\":0,\"fTitleSize\":0.035,\"fTitleColor\":1,\"fTitleFont\":42,\"fNbins\":1,\"fXmin\":15.855412699481,\"fXmax\":53.1062616849454,\"fXbins\":[],\"fFirst\":0,\"fLast\":0,\"fBits2\":0,\"fTimeDisplay\":false,\"fTimeFormat\":\"\",\"fLabels\":null,\"fModLabs\":null},\"fZaxis\":{\"_typename\":\"TAxis\",\"fUniqueID\":0,\"fBits\":50331648,\"fName\":\"zaxis\",\"fTitle\":\"\",\"fNdivisions\":510,\"fAxisColor\":1,\"fLabelColor\":1,\"fLabelFont\":42,\"fLabelOffset\":0.005,\"fLabelSize\":0.035,\"fTickLength\":0.03,\"fTitleOffset\":1,\"fTitleSize\":0.035,\"fTitleColor\":1,\"fTitleFont\":42,\"fNbins\":1,\"fXmin\":0,\"fXmax\":1,\"fXbins\":[],\"fFirst\":0,\"fLast\":0,\"fBits2\":0,\"fTimeDisplay\":false,\"fTimeFormat\":\"\",\"fLabels\":null,\"fModLabs\":null},\"fBarOffset\":0,\"fBarWidth\":1000,\"fEntries\":0,\"fTsumw\":0,\"fTsumw2\":0,\"fTsumwx\":0,\"fTsumwx2\":0,\"fMaximum\":60,\"fMinimum\":0,\"fNormFactor\":0,\"fContour\":[],\"fSumw2\":[],\"fOption\":\"\",\"fFunctions\":{\"_typename\":\"TList\",\"name\":\"TList\",\"arr\":[],\"opt\":[]},\"fBufferSize\":0,\"fBuffer\":[],\"fBinStatErrOpt\":0,\"fStatOverflows\":2,\"fArray\":[0,0,0,0,0,0,0,0,0,0,0,0,0,0,0,0,0,0,0,0,0,0,0,0,0,0,0,0,0,0,0,0,0,0,0,0,0,0,0,0,0,0,0,0,0,0,0,0,0,0,0,0,0,0,0,0,0,0,0,0,0,0,0,0,0,0,0,0,0,0,0,0,0,0,0,0,0,0,0,0,0,0,0,0,0,0,0,0,0,0,0,0,0,0,0,0,0,0,0,0,0,0]},\"fMinimum\":-1111,\"fMaximum\":-1111,\"fEX\":[0,0,0,0,0,0],\"fEY\":[0.126239579766792,0.0280331970486803,0.0337515500315623,0.0252961662274598,0.0248118902321156,0.0287040928023743]},{\"_typename\":\"TLatex\",\"fUniqueID\":0,\"fBits\":50348040,\"fName\":\"\",\"fTitle\":\"PU200, EG, hwQual 5, 1.52 < |#eta^{GEN}| <= 2.4\",\"fTextAngle\":0,\"fTextSize\":0.03,\"fTextAlign\":11,\"fTextColor\":1,\"fTextFont\":62,\"fX\":0.15,\"fY\":0.85,\"fLineColor\":1,\"fLineStyle\":1,\"fLineWidth\":2,\"fLimitFactorSize\":3,\"fOriginSize\":0.04},{\"_typename\":\"TLatex\",\"fUniqueID\":0,\"fBits\":50331656,\"fName\":\"\",\"fTitle\":\"\",\"fTextAngle\":0,\"fTextSize\":0.03,\"fTextAlign\":11,\"fTextColor\":1,\"fTextFont\":62,\"fX\":0,\"fY\":0,\"fLineColor\":1,\"fLineStyle\":1,\"fLineWidth\":2,\"fLimitFactorSize\":3,\"fOriginSize\":0.04}],\"opt\":[\"\",\"pa\",\"same\",\"same\"]},\"fExecs\":null,\"fName\":\"c_947452\",\"fTitle\":\"c_947452\",\"fNumPaletteColor\":0,\"fNextPaletteColor\":0,\"fDISPLAY\":\"$DISPLAY\",\"fDoubleBuffer\":0,\"fRetained\":true,\"fXsizeUser\":0,\"fYsizeUser\":0,\"fXsizeReal\":20,\"fYsizeReal\":15,\"fWindowTopX\":0,\"fWindowTopY\":0,\"fWindowWidth\":0,\"fWindowHeight\":0,\"fCw\":796,\"fCh\":572,\"fCatt\":{\"_typename\":\"TAttCanvas\",\"fXBetween\":2,\"fYBetween\":2,\"fTitleFromTop\":1.2,\"fXdate\":0.2,\"fYdate\":0.3,\"fAdate\":1},\"kMoveOpaque\":true,\"kResizeOpaque\":true,\"fHighLightColor\":2,\"fBatch\":true,\"kShowEventStatus\":false,\"kAutoExec\":true,\"kMenuBar\":true});\n",
       "       Core.draw(\"root_plot_43\", obj, \"\");\n",
       "     }\n",
       " );\n",
       "</script>\n"
      ],
      "text/plain": [
       "<IPython.core.display.HTML object>"
      ]
     },
     "metadata": {},
     "output_type": "display_data"
    }
   ],
   "source": [
    "scaling_params = pd.DataFrame(columns=['tp', 'tp_sel', 'params'])\n",
    "ROOT.gStyle.SetOptFit(11111)\n",
    "\n",
    "for sample in hplot.data[hplot.data.classtype == fake_histoname]['sample'].unique():\n",
    "    print sample\n",
    "    for pu in hplot.data[(hplot.data.classtype == fake_histoname) & (hplot.data['sample'] == sample)].pu.unique():\n",
    "        for tp in hplot.data[(hplot.data.classtype == fake_histoname) & (hplot.data['sample'] == sample) & (hplot.data.pu == pu)].tp.unique():\n",
    "            for tp_sel in hplot.data[(hplot.data.classtype == fake_histoname) & (hplot.data['sample'] == sample) & (hplot.data.pu == pu) & (hplot.data.tp == tp)].tp_sel.unique():\n",
    "                hsets, labels, text = hplot.get_histo(fake_histoname, sample, pu, tp, tp_sel, ['GENEtaBC'])\n",
    "                result = hsets[0].Fit('pol1', 'MES+', '', 5, 35)\n",
    "                result.GetParams()\n",
    "                scaling_params = scaling_params.append({'pu': pu,\n",
    "                                                         'tp': tp,\n",
    "                                                         'tp_sel': tp_sel+'EtaBC',\n",
    "                                                         'params': (result.GetParams()[0], result.GetParams()[1])},\n",
    "                                                          ignore_index=True)\n",
    "                draw(hsets, labels, text=text, min_y=0, max_y=60, y_axis_label='p_{T} @ 95% eff. [GeV] ', x_axis_label='p_{T} thresh. [GeV]')"
   ]
  },
  {
   "cell_type": "markdown",
   "metadata": {},
   "source": [
    "###### "
   ]
  },
  {
   "cell_type": "code",
   "execution_count": 59,
   "metadata": {},
   "outputs": [
    {
     "data": {
      "text/html": [
       "<div>\n",
       "<style scoped>\n",
       "    .dataframe tbody tr th:only-of-type {\n",
       "        vertical-align: middle;\n",
       "    }\n",
       "\n",
       "    .dataframe tbody tr th {\n",
       "        vertical-align: top;\n",
       "    }\n",
       "\n",
       "    .dataframe thead th {\n",
       "        text-align: right;\n",
       "    }\n",
       "</style>\n",
       "<table border=\"1\" class=\"dataframe\">\n",
       "  <thead>\n",
       "    <tr style=\"text-align: right;\">\n",
       "      <th></th>\n",
       "      <th>tp</th>\n",
       "      <th>tp_sel</th>\n",
       "      <th>params</th>\n",
       "      <th>pu</th>\n",
       "    </tr>\n",
       "  </thead>\n",
       "  <tbody>\n",
       "    <tr>\n",
       "      <th>0</th>\n",
       "      <td>EG</td>\n",
       "      <td>EGq5EtaBC</td>\n",
       "      <td>(5.79597147075, 1.11078182935)</td>\n",
       "      <td>PU0</td>\n",
       "    </tr>\n",
       "    <tr>\n",
       "      <th>1</th>\n",
       "      <td>EG</td>\n",
       "      <td>EGq5EtaBC</td>\n",
       "      <td>(7.97929622646, 1.03615141496)</td>\n",
       "      <td>PU200</td>\n",
       "    </tr>\n",
       "  </tbody>\n",
       "</table>\n",
       "</div>"
      ],
      "text/plain": [
       "   tp     tp_sel                          params     pu\n",
       "0  EG  EGq5EtaBC  (5.79597147075, 1.11078182935)    PU0\n",
       "1  EG  EGq5EtaBC  (7.97929622646, 1.03615141496)  PU200"
      ]
     },
     "execution_count": 59,
     "metadata": {},
     "output_type": "execute_result"
    }
   ],
   "source": [
    "scaling_params"
   ]
  },
  {
   "cell_type": "code",
   "execution_count": 60,
   "metadata": {},
   "outputs": [],
   "source": [
    "scaling_params.to_csv(r'scaling_params_{}.csv'.format(version_V9))"
   ]
  },
  {
   "cell_type": "code",
   "execution_count": 61,
   "metadata": {},
   "outputs": [
    {
     "ename": "IndentationError",
     "evalue": "unexpected indent (<ipython-input-61-d73406f8a6ad>, line 17)",
     "output_type": "error",
     "traceback": [
      "\u001b[0;36m  File \u001b[0;32m\"<ipython-input-61-d73406f8a6ad>\"\u001b[0;36m, line \u001b[0;32m17\u001b[0m\n\u001b[0;31m    if ieta>=len(eta_boundaries_fiducial)-1:\u001b[0m\n\u001b[0m    ^\u001b[0m\n\u001b[0;31mIndentationError\u001b[0m\u001b[0;31m:\u001b[0m unexpected indent\n"
     ]
    }
   ],
   "source": [
    "eta_boundaries_fiducial = [-5, -4, -3,-2.5 ,-1.5, -0.5, 0.5, 1.5, 2.5, 3, 4, 5]\n",
    "eta_boundaries = []\n",
    "phi_boundaries_fiducial = []\n",
    "\n",
    "\n",
    "eta_overlap = 0.25\n",
    "phi_overlap = 0.25\n",
    "phiSlices = 9\n",
    "\n",
    "phiWidth = 2*math.pi/phiSlices\n",
    "\n",
    "\n",
    "phi_boundaries = []\n",
    "\n",
    "\n",
    "for ieta,eta_low_fiducial in enumerate(eta_boundaries_fiducial):dd\n",
    "    if ieta>=len(eta_boundaries_fiducial)-1:\n",
    "        break\n",
    "    eta_high_fiducial = eta_boundaries_fiducial[ieta+1]\n",
    "    print 'fiducial boundaries: {}, {}'.format(eta_low_fiducial, eta_high_fiducial)\n",
    "    eta_low = eta_low_fiducial - eta_overlap\n",
    "    eta_high = eta_high_fiducial + eta_overlap\n",
    "    eta_boundaries.append((eta_low, eta_high))\n",
    "    \n",
    "    \n",
    "    \n",
    "for iphi in range(0,9):\n",
    "    phiCenter = (iphi+0.5)*phiWidth-math.pi\n",
    "    print iphi,phiCenter\n",
    "    phi_low_fiducial = phiCenter - phiWidth/2.\n",
    "    phi_high_fiducial = phiCenter+phiWidth/2.\n",
    "    \n",
    "    print 'fiducial boundaries: {}, {}'.format(phi_low_fiducial, phi_high_fiducial)\n",
    "    phi_boundaries_fiducial.append(phi_low_fiducial)\n",
    "    \n",
    "    phi_low = phi_low_fiducial - phi_overlap\n",
    "    if phi_low < -1*math.pi:\n",
    "        phi_low = math.pi-phi_overlap\n",
    "    phi_high = phi_high_fiducial + phi_overlap\n",
    "    if phi_high > math.pi:\n",
    "        phi_high = -1*math.pi+phi_overlap\n",
    "    \n",
    "    phi_boundaries.append((phi_low, phi_high))\n",
    "    print 'boundaries: {} {}'.format(phi_low, phi_high)\n",
    "    \n",
    "    \n",
    "phi_boundaries_fiducial.append(math.pi)\n",
    "print \"FIDUCIAL\"\n",
    "print eta_boundaries_fiducial\n",
    "print phi_boundaries_fiducial\n",
    "\n",
    "print \"ACTUAL\"\n",
    "print phi_boundaries\n",
    "print eta_boundaries"
   ]
  },
  {
   "cell_type": "code",
   "execution_count": null,
   "metadata": {},
   "outputs": [],
   "source": []
  },
  {
   "cell_type": "code",
   "execution_count": null,
   "metadata": {},
   "outputs": [],
   "source": []
  }
 ],
 "metadata": {
  "kernelspec": {
   "display_name": "HGCTPGPerformance",
   "language": "python",
   "name": "hgctpgperformance"
  },
  "language_info": {
   "codemirror_mode": {
    "name": "ipython",
    "version": 2
   },
   "file_extension": ".py",
   "mimetype": "text/x-python",
   "name": "python",
   "nbconvert_exporter": "python",
   "pygments_lexer": "ipython2",
   "version": "2.7.16"
  },
  "toc": {
   "base_numbering": 1,
   "nav_menu": {},
   "number_sections": true,
   "sideBar": true,
   "skip_h1_title": false,
   "title_cell": "Table of Contents",
   "title_sidebar": "Contents",
   "toc_cell": false,
   "toc_position": {
    "height": "calc(100% - 180px)",
    "left": "10px",
    "top": "150px",
    "width": "176px"
   },
   "toc_section_display": true,
   "toc_window_display": true
  }
 },
 "nbformat": 4,
 "nbformat_minor": 2
}
