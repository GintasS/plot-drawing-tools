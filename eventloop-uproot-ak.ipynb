{
 "cells": [
  {
   "cell_type": "code",
   "execution_count": 1,
   "metadata": {},
   "outputs": [
    {
     "name": "stdout",
     "output_type": "stream",
     "text": [
      "Welcome to JupyROOT 6.24/06\n"
     ]
    }
   ],
   "source": [
    "import sys\n",
    "sys.path.insert(0, '..')\n",
    "# sys.path.insert(1, '../python/')\n",
    "# import root_numpy as rnp\n",
    "import uproot4\n",
    "import python.file_manager as fm\n",
    "import ROOT"
   ]
  },
  {
   "cell_type": "code",
   "execution_count": 2,
   "metadata": {},
   "outputs": [],
   "source": [
    "input_dir = '/eos/cms/store/cmst3/group/l1tr/cerminar/hgcal/CMSSW1110pre6/DoubleElectron_FlatPt-1To100/DoubleElectron_FlatPt-1To100_PU200_v64C/'\n",
    "tree_name = 'l1CaloTriggerNtuplizer_egOnly/HGCalTriggerNtuple'\n",
    "maxEvents = 10\n",
    "debug = 2"
   ]
  },
  {
   "cell_type": "code",
   "execution_count": 4,
   "metadata": {},
   "outputs": [
    {
     "name": "stdout",
     "output_type": "stream",
     "text": [
      "dir already indexed, will read metadata...\n",
      "[]\n",
      "copy file: 7bfe0296-8acb-4886-8507-789db954b77e.json ret: True\n",
      "- will read 1 files from dir /eos/cms/store/cmst3/group/l1tr/cerminar/hgcal/CMSSW1110pre6/DoubleElectron_FlatPt-1To100/DoubleElectron_FlatPt-1To100_PU200_v64C/:\n",
      "        - /eos/cms/store/cmst3/group/l1tr/cerminar/hgcal/CMSSW1110pre6/DoubleElectron_FlatPt-1To100/DoubleElectron_FlatPt-1To100_PU200_v64C/210304_174938/0000/ntuple_1.root\n"
     ]
    }
   ],
   "source": [
    "input_files = []\n",
    "range_ev = (0, maxEvents)\n",
    "input_files = fm.get_files_for_processing(input_dir=input_dir,\n",
    "                                          tree=tree_name,\n",
    "                                          nev_toprocess=maxEvents,\n",
    "                                          debug=debug)\n",
    "\n",
    "print('- will read {} files from dir {}:'.format(len(input_files), input_dir))\n",
    "for file_name in input_files:\n",
    "    print('        - {}'.format(file_name))\n",
    "\n",
    "# ntuple = HGCalNtuple(input_files, tree=params.tree_name)\n",
    "\n",
    "tree = ROOT.TChain(tree_name)\n",
    "\n",
    "glb_files = []\n",
    "for file_name in input_files:\n",
    "    protocol = ''\n",
    "    if '/eos/user/' in file_name:\n",
    "        protocol = 'root://eosuser.cern.ch/'\n",
    "    elif '/eos/cms/' in file_name:\n",
    "        protocol = 'root://eoscms.cern.ch/'\n",
    "    tree.Add(protocol+file_name)\n",
    "    glb_files.append(protocol+file_name)\n",
    "\n",
    "# self._tree = ROOT.TChain(tree)\n",
    "#     def getEvent(self, index):\n",
    "#         \"\"\"Returns Event for a given bindex\"\"\"\n",
    "#         ientry = self._tree.LoadTree(index)\n",
    "#         if ientry < 0:\n",
    "\n",
    "\n",
    "# for evt_idx in range(range_ev[0], range_ev[1]+1):\n",
    "#     # print(evt_idx)\n",
    "#     event = ntuple.getEvent(evt_idx)\n",
    "#     ev_manager.read(event, debug)\n",
    "\n",
    "    "
   ]
  },
  {
   "cell_type": "code",
   "execution_count": null,
   "metadata": {},
   "outputs": [],
   "source": []
  },
  {
   "cell_type": "markdown",
   "metadata": {},
   "source": [
    "## Exercise tree to awkward-array conversion"
   ]
  },
  {
   "cell_type": "code",
   "execution_count": 5,
   "metadata": {},
   "outputs": [],
   "source": [
    "# file =  uproot4.open('root://eoscms.cern.ch//eos/cms/store/cmst3/group/l1tr/cerminar/l1teg/ntuples/MinBias_TuneCP5_14TeV-pythia8/NuGunAllEta_PU200_v91G/230404_115207/0000/ntuple_1.root')\n",
    "file =  uproot4.open('root://eoscms.cern.ch//eos/cms/store/cmst3/group/l1tr/cerminar/l1teg/ntuples/DoubleElectron_FlatPt-1To100-gun/DoubleElectron_FlatPt-1To100_PU200_v91G/230404_115147/0000/ntuple_36.root')\n",
    "tree = file['l1EGTriggerNtuplizer_l1tCorr']['L1TEGTriggerNtuple']\n",
    "arr = tree.arrays(['L2TkEle_pt', 'L2TkEle_eta'], library='pd', entry_start=0, entry_stop=2000)\n",
    "arr.rename(columns={'L2TkEle_pt':'pt', 'L2TkEle_eta':'eta','pippo': 'pluto' }, inplace=True)\n",
    "# arr.reset_index(level=[0], drop=True, inplace=True)\n"
   ]
  },
  {
   "cell_type": "code",
   "execution_count": 6,
   "metadata": {},
   "outputs": [
    {
     "data": {
      "text/plain": [
       "dask.awkward<from-uproot, npartitions=1>"
      ]
     },
     "execution_count": 6,
     "metadata": {},
     "output_type": "execute_result"
    }
   ],
   "source": [
    "dar = uproot4.dask('root://eoscms.cern.ch//eos/cms/store/cmst3/group/l1tr/cerminar/l1teg/ntuples/DoubleElectron_FlatPt-1To100-gun/DoubleElectron_FlatPt-1To100_PU200_v91G/230404_115147/0000/ntuple_36.root')\n",
    "dar"
   ]
  },
  {
   "cell_type": "code",
   "execution_count": 7,
   "metadata": {},
   "outputs": [
    {
     "data": {
      "text/plain": [
       "['run',\n",
       " 'event',\n",
       " 'lumi',\n",
       " 'gen_n',\n",
       " 'gen_PUNumInt',\n",
       " 'gen_TrueNumInt',\n",
       " 'vtx_x',\n",
       " 'vtx_y',\n",
       " 'vtx_z',\n",
       " 'gen_eta',\n",
       " 'gen_phi',\n",
       " 'gen_pt',\n",
       " 'gen_energy',\n",
       " 'gen_charge',\n",
       " 'gen_pdgid',\n",
       " 'gen_status',\n",
       " 'gen_daughters',\n",
       " 'simpart_eta',\n",
       " 'simpart_phi',\n",
       " 'simpart_pt',\n",
       " 'simpart_energy',\n",
       " 'simpart_dvx',\n",
       " 'simpart_dvy',\n",
       " 'simpart_dvz',\n",
       " 'simpart_ovx',\n",
       " 'simpart_ovy',\n",
       " 'simpart_ovz',\n",
       " 'simpart_mother',\n",
       " 'simpart_exphi',\n",
       " 'simpart_exeta',\n",
       " 'simpart_exx',\n",
       " 'simpart_exy',\n",
       " 'simpart_fbrem',\n",
       " 'simpart_pid',\n",
       " 'simpart_gen',\n",
       " 'simpart_reachedEE',\n",
       " 'simpart_fromBeamPipe',\n",
       " 'simpart_posx',\n",
       " 'simpart_posy',\n",
       " 'simpart_posz',\n",
       " 'l1Trk_n',\n",
       " 'l1Trk_pt',\n",
       " 'l1Trk_pt2stubs',\n",
       " 'l1Trk_eta',\n",
       " 'l1Trk_phi',\n",
       " 'l1Trk_curv',\n",
       " 'l1Trk_chi2',\n",
       " 'l1Trk_chi2Red',\n",
       " 'l1Trk_nStubs',\n",
       " 'l1Trk_z0',\n",
       " 'l1Trk_charge',\n",
       " 'l1Trk_caloeta',\n",
       " 'l1Trk_calophi',\n",
       " 'EGStaEB_n',\n",
       " 'EGStaEB_pt',\n",
       " 'EGStaEB_energy',\n",
       " 'EGStaEB_eta',\n",
       " 'EGStaEB_phi',\n",
       " 'EGStaEB_hwQual',\n",
       " 'EGStaEE_n',\n",
       " 'EGStaEE_pt',\n",
       " 'EGStaEE_energy',\n",
       " 'EGStaEE_eta',\n",
       " 'EGStaEE_phi',\n",
       " 'EGStaEE_hwQual',\n",
       " 'TkEleEE_n',\n",
       " 'TkEleEE_pt',\n",
       " 'TkEleEE_energy',\n",
       " 'TkEleEE_eta',\n",
       " 'TkEleEE_phi',\n",
       " 'TkEleEE_hwQual',\n",
       " 'TkEleEE_tkIso',\n",
       " 'TkEleEE_pfIso',\n",
       " 'TkEleEE_puppiIso',\n",
       " 'TkEleEE_tkChi2',\n",
       " 'TkEleEE_tkPt',\n",
       " 'TkEleEE_tkZ0',\n",
       " 'TkEleEE_compBDTScore',\n",
       " 'TkEleEllEE_n',\n",
       " 'TkEleEllEE_pt',\n",
       " 'TkEleEllEE_energy',\n",
       " 'TkEleEllEE_eta',\n",
       " 'TkEleEllEE_phi',\n",
       " 'TkEleEllEE_hwQual',\n",
       " 'TkEleEllEE_tkIso',\n",
       " 'TkEleEllEE_pfIso',\n",
       " 'TkEleEllEE_puppiIso',\n",
       " 'TkEleEllEE_tkChi2',\n",
       " 'TkEleEllEE_tkPt',\n",
       " 'TkEleEllEE_tkZ0',\n",
       " 'TkEleEllEE_compBDTScore',\n",
       " 'TkEleEB_n',\n",
       " 'TkEleEB_pt',\n",
       " 'TkEleEB_energy',\n",
       " 'TkEleEB_eta',\n",
       " 'TkEleEB_phi',\n",
       " 'TkEleEB_hwQual',\n",
       " 'TkEleEB_tkIso',\n",
       " 'TkEleEB_pfIso',\n",
       " 'TkEleEB_puppiIso',\n",
       " 'TkEleEB_tkChi2',\n",
       " 'TkEleEB_tkPt',\n",
       " 'TkEleEB_tkZ0',\n",
       " 'TkEleEB_compBDTScore',\n",
       " 'TkEmEE_n',\n",
       " 'TkEmEE_pt',\n",
       " 'TkEmEE_energy',\n",
       " 'TkEmEE_eta',\n",
       " 'TkEmEE_phi',\n",
       " 'TkEmEE_hwQual',\n",
       " 'TkEmEE_tkIso',\n",
       " 'TkEmEE_tkIsoPV',\n",
       " 'TkEmEE_pfIso',\n",
       " 'TkEmEE_pfIsoPV',\n",
       " 'TkEmEE_puppiIso',\n",
       " 'TkEmEE_puppiIsoPV',\n",
       " 'TkEmEB_n',\n",
       " 'TkEmEB_pt',\n",
       " 'TkEmEB_energy',\n",
       " 'TkEmEB_eta',\n",
       " 'TkEmEB_phi',\n",
       " 'TkEmEB_hwQual',\n",
       " 'TkEmEB_tkIso',\n",
       " 'TkEmEB_tkIsoPV',\n",
       " 'TkEmEB_pfIso',\n",
       " 'TkEmEB_pfIsoPV',\n",
       " 'TkEmEB_puppiIso',\n",
       " 'TkEmEB_puppiIsoPV',\n",
       " 'L2TkEm_n',\n",
       " 'L2TkEm_pt',\n",
       " 'L2TkEm_energy',\n",
       " 'L2TkEm_eta',\n",
       " 'L2TkEm_phi',\n",
       " 'L2TkEm_hwQual',\n",
       " 'L2TkEm_tkIso',\n",
       " 'L2TkEm_tkIsoPV',\n",
       " 'L2TkEm_pfIso',\n",
       " 'L2TkEm_pfIsoPV',\n",
       " 'L2TkEm_puppiIso',\n",
       " 'L2TkEm_puppiIsoPV',\n",
       " 'L2TkEle_n',\n",
       " 'L2TkEle_pt',\n",
       " 'L2TkEle_energy',\n",
       " 'L2TkEle_eta',\n",
       " 'L2TkEle_phi',\n",
       " 'L2TkEle_hwQual',\n",
       " 'L2TkEle_tkIso',\n",
       " 'L2TkEle_pfIso',\n",
       " 'L2TkEle_puppiIso',\n",
       " 'L2TkEle_tkChi2',\n",
       " 'L2TkEle_tkPt',\n",
       " 'L2TkEle_tkZ0',\n",
       " 'L2TkEle_compBDTScore',\n",
       " 'L2TkEmEll_n',\n",
       " 'L2TkEmEll_pt',\n",
       " 'L2TkEmEll_energy',\n",
       " 'L2TkEmEll_eta',\n",
       " 'L2TkEmEll_phi',\n",
       " 'L2TkEmEll_hwQual',\n",
       " 'L2TkEmEll_tkIso',\n",
       " 'L2TkEmEll_tkIsoPV',\n",
       " 'L2TkEmEll_pfIso',\n",
       " 'L2TkEmEll_pfIsoPV',\n",
       " 'L2TkEmEll_puppiIso',\n",
       " 'L2TkEmEll_puppiIsoPV',\n",
       " 'L2TkEleEll_n',\n",
       " 'L2TkEleEll_pt',\n",
       " 'L2TkEleEll_energy',\n",
       " 'L2TkEleEll_eta',\n",
       " 'L2TkEleEll_phi',\n",
       " 'L2TkEleEll_hwQual',\n",
       " 'L2TkEleEll_tkIso',\n",
       " 'L2TkEleEll_pfIso',\n",
       " 'L2TkEleEll_puppiIso',\n",
       " 'L2TkEleEll_tkChi2',\n",
       " 'L2TkEleEll_tkPt',\n",
       " 'L2TkEleEll_tkZ0',\n",
       " 'L2TkEleEll_compBDTScore']"
      ]
     },
     "execution_count": 7,
     "metadata": {},
     "output_type": "execute_result"
    }
   ],
   "source": [
    "# dar.compute()\n",
    "dar.fields"
   ]
  },
  {
   "cell_type": "code",
   "execution_count": 8,
   "metadata": {},
   "outputs": [],
   "source": [
    "pippo = dar[['L2TkEleEll_eta', 'L2TkEleEll_phi', 'L2TkEleEll_pt']]"
   ]
  },
  {
   "cell_type": "code",
   "execution_count": 9,
   "metadata": {},
   "outputs": [
    {
     "data": {
      "text/plain": [
       "dask.awkward<getitem, npartitions=1>"
      ]
     },
     "execution_count": 9,
     "metadata": {},
     "output_type": "execute_result"
    }
   ],
   "source": [
    "pippo"
   ]
  },
  {
   "cell_type": "code",
   "execution_count": 10,
   "metadata": {},
   "outputs": [
    {
     "data": {
      "text/plain": [
       "['l1EGTriggerNtuplizer_l1tCorr;1',\n",
       " 'l1EGTriggerNtuplizer_l1tCorr/L1TEGTriggerNtuple;1']"
      ]
     },
     "execution_count": 10,
     "metadata": {},
     "output_type": "execute_result"
    }
   ],
   "source": [
    "file.keys()"
   ]
  },
  {
   "cell_type": "code",
   "execution_count": 11,
   "metadata": {},
   "outputs": [
    {
     "data": {
      "text/plain": [
       "['run',\n",
       " 'event',\n",
       " 'lumi',\n",
       " 'gen_n',\n",
       " 'gen_PUNumInt',\n",
       " 'gen_TrueNumInt',\n",
       " 'vtx_x',\n",
       " 'vtx_y',\n",
       " 'vtx_z',\n",
       " 'gen_eta',\n",
       " 'gen_phi',\n",
       " 'gen_pt',\n",
       " 'gen_energy',\n",
       " 'gen_charge',\n",
       " 'gen_pdgid',\n",
       " 'gen_status',\n",
       " 'gen_daughters',\n",
       " 'simpart_eta',\n",
       " 'simpart_phi',\n",
       " 'simpart_pt',\n",
       " 'simpart_energy',\n",
       " 'simpart_dvx',\n",
       " 'simpart_dvy',\n",
       " 'simpart_dvz',\n",
       " 'simpart_ovx',\n",
       " 'simpart_ovy',\n",
       " 'simpart_ovz',\n",
       " 'simpart_mother',\n",
       " 'simpart_exphi',\n",
       " 'simpart_exeta',\n",
       " 'simpart_exx',\n",
       " 'simpart_exy',\n",
       " 'simpart_fbrem',\n",
       " 'simpart_pid',\n",
       " 'simpart_gen',\n",
       " 'simpart_reachedEE',\n",
       " 'simpart_fromBeamPipe',\n",
       " 'simpart_posx',\n",
       " 'simpart_posy',\n",
       " 'simpart_posz',\n",
       " 'l1Trk_n',\n",
       " 'l1Trk_pt',\n",
       " 'l1Trk_pt2stubs',\n",
       " 'l1Trk_eta',\n",
       " 'l1Trk_phi',\n",
       " 'l1Trk_curv',\n",
       " 'l1Trk_chi2',\n",
       " 'l1Trk_chi2Red',\n",
       " 'l1Trk_nStubs',\n",
       " 'l1Trk_z0',\n",
       " 'l1Trk_charge',\n",
       " 'l1Trk_caloeta',\n",
       " 'l1Trk_calophi',\n",
       " 'EGStaEB_n',\n",
       " 'EGStaEB_pt',\n",
       " 'EGStaEB_energy',\n",
       " 'EGStaEB_eta',\n",
       " 'EGStaEB_phi',\n",
       " 'EGStaEB_hwQual',\n",
       " 'EGStaEE_n',\n",
       " 'EGStaEE_pt',\n",
       " 'EGStaEE_energy',\n",
       " 'EGStaEE_eta',\n",
       " 'EGStaEE_phi',\n",
       " 'EGStaEE_hwQual',\n",
       " 'TkEleEE_n',\n",
       " 'TkEleEE_pt',\n",
       " 'TkEleEE_energy',\n",
       " 'TkEleEE_eta',\n",
       " 'TkEleEE_phi',\n",
       " 'TkEleEE_hwQual',\n",
       " 'TkEleEE_tkIso',\n",
       " 'TkEleEE_pfIso',\n",
       " 'TkEleEE_puppiIso',\n",
       " 'TkEleEE_tkChi2',\n",
       " 'TkEleEE_tkPt',\n",
       " 'TkEleEE_tkZ0',\n",
       " 'TkEleEE_compBDTScore',\n",
       " 'TkEleEllEE_n',\n",
       " 'TkEleEllEE_pt',\n",
       " 'TkEleEllEE_energy',\n",
       " 'TkEleEllEE_eta',\n",
       " 'TkEleEllEE_phi',\n",
       " 'TkEleEllEE_hwQual',\n",
       " 'TkEleEllEE_tkIso',\n",
       " 'TkEleEllEE_pfIso',\n",
       " 'TkEleEllEE_puppiIso',\n",
       " 'TkEleEllEE_tkChi2',\n",
       " 'TkEleEllEE_tkPt',\n",
       " 'TkEleEllEE_tkZ0',\n",
       " 'TkEleEllEE_compBDTScore',\n",
       " 'TkEleEB_n',\n",
       " 'TkEleEB_pt',\n",
       " 'TkEleEB_energy',\n",
       " 'TkEleEB_eta',\n",
       " 'TkEleEB_phi',\n",
       " 'TkEleEB_hwQual',\n",
       " 'TkEleEB_tkIso',\n",
       " 'TkEleEB_pfIso',\n",
       " 'TkEleEB_puppiIso',\n",
       " 'TkEleEB_tkChi2',\n",
       " 'TkEleEB_tkPt',\n",
       " 'TkEleEB_tkZ0',\n",
       " 'TkEleEB_compBDTScore',\n",
       " 'TkEmEE_n',\n",
       " 'TkEmEE_pt',\n",
       " 'TkEmEE_energy',\n",
       " 'TkEmEE_eta',\n",
       " 'TkEmEE_phi',\n",
       " 'TkEmEE_hwQual',\n",
       " 'TkEmEE_tkIso',\n",
       " 'TkEmEE_tkIsoPV',\n",
       " 'TkEmEE_pfIso',\n",
       " 'TkEmEE_pfIsoPV',\n",
       " 'TkEmEE_puppiIso',\n",
       " 'TkEmEE_puppiIsoPV',\n",
       " 'TkEmEB_n',\n",
       " 'TkEmEB_pt',\n",
       " 'TkEmEB_energy',\n",
       " 'TkEmEB_eta',\n",
       " 'TkEmEB_phi',\n",
       " 'TkEmEB_hwQual',\n",
       " 'TkEmEB_tkIso',\n",
       " 'TkEmEB_tkIsoPV',\n",
       " 'TkEmEB_pfIso',\n",
       " 'TkEmEB_pfIsoPV',\n",
       " 'TkEmEB_puppiIso',\n",
       " 'TkEmEB_puppiIsoPV',\n",
       " 'L2TkEm_n',\n",
       " 'L2TkEm_pt',\n",
       " 'L2TkEm_energy',\n",
       " 'L2TkEm_eta',\n",
       " 'L2TkEm_phi',\n",
       " 'L2TkEm_hwQual',\n",
       " 'L2TkEm_tkIso',\n",
       " 'L2TkEm_tkIsoPV',\n",
       " 'L2TkEm_pfIso',\n",
       " 'L2TkEm_pfIsoPV',\n",
       " 'L2TkEm_puppiIso',\n",
       " 'L2TkEm_puppiIsoPV',\n",
       " 'L2TkEle_n',\n",
       " 'L2TkEle_pt',\n",
       " 'L2TkEle_energy',\n",
       " 'L2TkEle_eta',\n",
       " 'L2TkEle_phi',\n",
       " 'L2TkEle_hwQual',\n",
       " 'L2TkEle_tkIso',\n",
       " 'L2TkEle_pfIso',\n",
       " 'L2TkEle_puppiIso',\n",
       " 'L2TkEle_tkChi2',\n",
       " 'L2TkEle_tkPt',\n",
       " 'L2TkEle_tkZ0',\n",
       " 'L2TkEle_compBDTScore',\n",
       " 'L2TkEmEll_n',\n",
       " 'L2TkEmEll_pt',\n",
       " 'L2TkEmEll_energy',\n",
       " 'L2TkEmEll_eta',\n",
       " 'L2TkEmEll_phi',\n",
       " 'L2TkEmEll_hwQual',\n",
       " 'L2TkEmEll_tkIso',\n",
       " 'L2TkEmEll_tkIsoPV',\n",
       " 'L2TkEmEll_pfIso',\n",
       " 'L2TkEmEll_pfIsoPV',\n",
       " 'L2TkEmEll_puppiIso',\n",
       " 'L2TkEmEll_puppiIsoPV',\n",
       " 'L2TkEleEll_n',\n",
       " 'L2TkEleEll_pt',\n",
       " 'L2TkEleEll_energy',\n",
       " 'L2TkEleEll_eta',\n",
       " 'L2TkEleEll_phi',\n",
       " 'L2TkEleEll_hwQual',\n",
       " 'L2TkEleEll_tkIso',\n",
       " 'L2TkEleEll_pfIso',\n",
       " 'L2TkEleEll_puppiIso',\n",
       " 'L2TkEleEll_tkChi2',\n",
       " 'L2TkEleEll_tkPt',\n",
       " 'L2TkEleEll_tkZ0',\n",
       " 'L2TkEleEll_compBDTScore']"
      ]
     },
     "execution_count": 11,
     "metadata": {},
     "output_type": "execute_result"
    }
   ],
   "source": [
    "tree.keys()"
   ]
  },
  {
   "cell_type": "code",
   "execution_count": 12,
   "metadata": {},
   "outputs": [
    {
     "data": {
      "text/plain": [
       "1120"
      ]
     },
     "execution_count": 12,
     "metadata": {},
     "output_type": "execute_result"
    }
   ],
   "source": [
    "tree.num_entries"
   ]
  },
  {
   "cell_type": "code",
   "execution_count": 13,
   "metadata": {},
   "outputs": [
    {
     "data": {
      "text/html": [
       "<div>\n",
       "<style scoped>\n",
       "    .dataframe tbody tr th:only-of-type {\n",
       "        vertical-align: middle;\n",
       "    }\n",
       "\n",
       "    .dataframe tbody tr th {\n",
       "        vertical-align: top;\n",
       "    }\n",
       "\n",
       "    .dataframe thead th {\n",
       "        text-align: right;\n",
       "    }\n",
       "</style>\n",
       "<table border=\"1\" class=\"dataframe\">\n",
       "  <thead>\n",
       "    <tr style=\"text-align: right;\">\n",
       "      <th></th>\n",
       "      <th>pt</th>\n",
       "      <th>eta</th>\n",
       "    </tr>\n",
       "  </thead>\n",
       "  <tbody>\n",
       "    <tr>\n",
       "      <th>0</th>\n",
       "      <td>[]</td>\n",
       "      <td>[]</td>\n",
       "    </tr>\n",
       "    <tr>\n",
       "      <th>1</th>\n",
       "      <td>[69.0, 68.5, 5.0]</td>\n",
       "      <td>[0.043718453496694565, 0.008436894975602627, -...</td>\n",
       "    </tr>\n",
       "    <tr>\n",
       "      <th>2</th>\n",
       "      <td>[91.0, 90.75, 10.75]</td>\n",
       "      <td>[1.369844913482666, -1.3874856233596802, -1.77...</td>\n",
       "    </tr>\n",
       "    <tr>\n",
       "      <th>3</th>\n",
       "      <td>[54.25]</td>\n",
       "      <td>[-1.2655341625213623]</td>\n",
       "    </tr>\n",
       "    <tr>\n",
       "      <th>4</th>\n",
       "      <td>[61.5]</td>\n",
       "      <td>[-0.8291166424751282]</td>\n",
       "    </tr>\n",
       "    <tr>\n",
       "      <th>...</th>\n",
       "      <td>...</td>\n",
       "      <td>...</td>\n",
       "    </tr>\n",
       "    <tr>\n",
       "      <th>1115</th>\n",
       "      <td>[103.75, 96.0, 4.75]</td>\n",
       "      <td>[2.015650749206543, -2.0248546600341797, 0.846...</td>\n",
       "    </tr>\n",
       "    <tr>\n",
       "      <th>1116</th>\n",
       "      <td>[84.25, 80.25]</td>\n",
       "      <td>[1.9151750802993774, -1.945854663848877]</td>\n",
       "    </tr>\n",
       "    <tr>\n",
       "      <th>1117</th>\n",
       "      <td>[15.0]</td>\n",
       "      <td>[1.4051264524459839]</td>\n",
       "    </tr>\n",
       "    <tr>\n",
       "      <th>1118</th>\n",
       "      <td>[13.5]</td>\n",
       "      <td>[1.422767162322998]</td>\n",
       "    </tr>\n",
       "    <tr>\n",
       "      <th>1119</th>\n",
       "      <td>[]</td>\n",
       "      <td>[]</td>\n",
       "    </tr>\n",
       "  </tbody>\n",
       "</table>\n",
       "<p>1120 rows × 2 columns</p>\n",
       "</div>"
      ],
      "text/plain": [
       "                        pt                                                eta\n",
       "0                       []                                                 []\n",
       "1        [69.0, 68.5, 5.0]  [0.043718453496694565, 0.008436894975602627, -...\n",
       "2     [91.0, 90.75, 10.75]  [1.369844913482666, -1.3874856233596802, -1.77...\n",
       "3                  [54.25]                              [-1.2655341625213623]\n",
       "4                   [61.5]                              [-0.8291166424751282]\n",
       "...                    ...                                                ...\n",
       "1115  [103.75, 96.0, 4.75]  [2.015650749206543, -2.0248546600341797, 0.846...\n",
       "1116        [84.25, 80.25]           [1.9151750802993774, -1.945854663848877]\n",
       "1117                [15.0]                               [1.4051264524459839]\n",
       "1118                [13.5]                                [1.422767162322998]\n",
       "1119                    []                                                 []\n",
       "\n",
       "[1120 rows x 2 columns]"
      ]
     },
     "execution_count": 13,
     "metadata": {},
     "output_type": "execute_result"
    }
   ],
   "source": [
    "arr"
   ]
  },
  {
   "cell_type": "code",
   "execution_count": 14,
   "metadata": {},
   "outputs": [
    {
     "data": {
      "text/plain": [
       "0                         []\n",
       "1          [69.0, 68.5, 5.0]\n",
       "2       [91.0, 90.75, 10.75]\n",
       "3                    [54.25]\n",
       "4                     [61.5]\n",
       "                ...         \n",
       "1115    [103.75, 96.0, 4.75]\n",
       "1116          [84.25, 80.25]\n",
       "1117                  [15.0]\n",
       "1118                  [13.5]\n",
       "1119                      []\n",
       "Name: pt, Length: 1120, dtype: awkward"
      ]
     },
     "execution_count": 14,
     "metadata": {},
     "output_type": "execute_result"
    }
   ],
   "source": [
    "arr.pt"
   ]
  },
  {
   "cell_type": "code",
   "execution_count": 16,
   "metadata": {},
   "outputs": [],
   "source": [
    "import awkward as ak\n"
   ]
  },
  {
   "cell_type": "code",
   "execution_count": 20,
   "metadata": {},
   "outputs": [],
   "source": [
    "tkele = dar[['L2TkEle_pt', 'L2TkEle_eta', 'L2TkEle_phi']]\n",
    "tkele['pt'] = tkele.L2TkEle_pt\n"
   ]
  },
  {
   "cell_type": "markdown",
   "metadata": {},
   "source": [
    "## Convert tree to awkward-array using aliases for the column names"
   ]
  },
  {
   "cell_type": "code",
   "execution_count": 21,
   "metadata": {},
   "outputs": [],
   "source": [
    "tkele = tree.arrays(\n",
    "    ['pt', 'eta', 'phi'], \n",
    "    library='ak', \n",
    "    entry_start=0, \n",
    "    entry_stop=2000, \n",
    "    aliases={\n",
    "        'pt': 'L2TkEle_pt',  \n",
    "        'eta': 'L2TkEle_eta',\n",
    "        'phi': 'L2TkEle_phi'},)\n"
   ]
  },
  {
   "cell_type": "code",
   "execution_count": 22,
   "metadata": {},
   "outputs": [
    {
     "data": {
      "text/html": [
       "<pre>[{pt: [], eta: [], phi: []},\n",
       " {pt: [69, 68.5, 5], eta: [0.0437, ..., -1.14], phi: [...]},\n",
       " {pt: [91, 90.8, 10.8], eta: [1.37, ..., -1.77], phi: [...]},\n",
       " {pt: [54.2], eta: [-1.27], phi: [-1.58]},\n",
       " {pt: [61.5], eta: [-0.829], phi: [-0.131]},\n",
       " {pt: [81.2, 71.8], eta: [-0.672, 0.707], phi: [-1.44, ...]},\n",
       " {pt: [17.5], eta: [-0.602], phi: [2.85]},\n",
       " {pt: [24.2, 22.8], eta: [-1.96, 1.95], phi: [-0.205, ...]},\n",
       " {pt: [22.5], eta: [-1.46], phi: [-2.96]},\n",
       " {pt: [92, 90.8, 2.75], eta: [-1.14, ..., 1.18], phi: [...]},\n",
       " ...,\n",
       " {pt: [50, 44.8, 1.25], eta: [2.09, ..., 0.568], phi: [...]},\n",
       " {pt: [65.5, 65.2], eta: [-0.742, 0.742], phi: [-1.74, ...]},\n",
       " {pt: [77.8, 74], eta: [0.986, -1], phi: [1.46, ...]},\n",
       " {pt: [68.2, 63], eta: [1.44, -1.46], phi: [2.1, ...]},\n",
       " {pt: [104, 96, 4.75], eta: [2.02, ..., 0.847], phi: [...]},\n",
       " {pt: [84.2, 80.2], eta: [1.92, -1.95], phi: [-0.821, ...]},\n",
       " {pt: [15], eta: [1.41], phi: [-2.61]},\n",
       " {pt: [13.5], eta: [1.42], phi: [-1.68]},\n",
       " {pt: [], eta: [], phi: []}]\n",
       "-------------------------------------------------------------\n",
       "type: 1120 * {\n",
       "    pt: var * float32,\n",
       "    eta: var * float32,\n",
       "    phi: var * float32\n",
       "}</pre>"
      ],
      "text/plain": [
       "<Array [{pt: [], eta: [], phi: []}, ..., {...}] type='1120 * {pt: var * flo...'>"
      ]
     },
     "execution_count": 22,
     "metadata": {},
     "output_type": "execute_result"
    }
   ],
   "source": [
    "tkele "
   ]
  },
  {
   "cell_type": "markdown",
   "metadata": {},
   "source": [
    "## We create di-obj pairs "
   ]
  },
  {
   "cell_type": "code",
   "execution_count": 23,
   "metadata": {},
   "outputs": [
    {
     "data": {
      "text/html": [
       "<pre>[{pt: [], eta: [], phi: []},\n",
       " {pt: [69, 68.5, 5], eta: [0.0437, ..., -1.14], phi: [...]},\n",
       " {pt: [91, 90.8, 10.8], eta: [1.37, ..., -1.77], phi: [...]},\n",
       " {pt: [54.2], eta: [-1.27], phi: [-1.58]},\n",
       " {pt: [61.5], eta: [-0.829], phi: [-0.131]},\n",
       " {pt: [81.2, 71.8], eta: [-0.672, 0.707], phi: [-1.44, ...]},\n",
       " {pt: [17.5], eta: [-0.602], phi: [2.85]},\n",
       " {pt: [24.2, 22.8], eta: [-1.96, 1.95], phi: [-0.205, ...]},\n",
       " {pt: [22.5], eta: [-1.46], phi: [-2.96]},\n",
       " {pt: [92, 90.8, 2.75], eta: [-1.14, ..., 1.18], phi: [...]},\n",
       " ...,\n",
       " {pt: [50, 44.8, 1.25], eta: [2.09, ..., 0.568], phi: [...]},\n",
       " {pt: [65.5, 65.2], eta: [-0.742, 0.742], phi: [-1.74, ...]},\n",
       " {pt: [77.8, 74], eta: [0.986, -1], phi: [1.46, ...]},\n",
       " {pt: [68.2, 63], eta: [1.44, -1.46], phi: [2.1, ...]},\n",
       " {pt: [104, 96, 4.75], eta: [2.02, ..., 0.847], phi: [...]},\n",
       " {pt: [84.2, 80.2], eta: [1.92, -1.95], phi: [-0.821, ...]},\n",
       " {pt: [15], eta: [1.41], phi: [-2.61]},\n",
       " {pt: [13.5], eta: [1.42], phi: [-1.68]},\n",
       " {pt: [], eta: [], phi: []}]\n",
       "-------------------------------------------------------------\n",
       "type: 1120 * {\n",
       "    pt: var * float32,\n",
       "    eta: var * float32,\n",
       "    phi: var * float32\n",
       "}</pre>"
      ],
      "text/plain": [
       "<Array [{pt: [], eta: [], phi: []}, ..., {...}] type='1120 * {pt: var * flo...'>"
      ]
     },
     "execution_count": 23,
     "metadata": {},
     "output_type": "execute_result"
    }
   ],
   "source": [
    "tkele"
   ]
  },
  {
   "cell_type": "code",
   "execution_count": 24,
   "metadata": {},
   "outputs": [],
   "source": [
    "tkele_mom = ak.with_name(tkele, name='Momentum4D', highlevel=False)"
   ]
  },
  {
   "cell_type": "code",
   "execution_count": 25,
   "metadata": {},
   "outputs": [
    {
     "data": {
      "text/plain": [
       "<RecordArray is_tuple='false' len='1120'>\n",
       "    <parameter name='__record__'>'Momentum4D'</parameter>\n",
       "    <content index='0' field='pt'>\n",
       "        <ListOffsetArray len='1120'>\n",
       "            <offsets><Index dtype='int64' len='1121'>\n",
       "                [   0    0    3 ... 1780 1781 1781]\n",
       "            </Index></offsets>\n",
       "            <content><NumpyArray dtype='float32' len='1781'>\n",
       "                [69.   68.5   5.   ... 80.25 15.   13.5 ]\n",
       "            </NumpyArray></content>\n",
       "        </ListOffsetArray>\n",
       "    </content>\n",
       "    <content index='1' field='eta'>\n",
       "        <ListOffsetArray len='1120'>\n",
       "            <offsets><Index dtype='int64' len='1121'>\n",
       "                [   0    0    3 ... 1780 1781 1781]\n",
       "            </Index></offsets>\n",
       "            <content><NumpyArray dtype='float32' len='1781'>\n",
       "                [ 0.04371845  0.00843689 -1.1428157  ... -1.9458547\n",
       "                  1.4051265   1.4227672 ]\n",
       "            </NumpyArray></content>\n",
       "        </ListOffsetArray>\n",
       "    </content>\n",
       "    <content index='2' field='phi'>\n",
       "        <ListOffsetArray len='1120'>\n",
       "            <offsets><Index dtype='int64' len='1121'>\n",
       "                [   0    0    3 ... 1780 1781 1781]\n",
       "            </Index></offsets>\n",
       "            <content><NumpyArray dtype='float32' len='1781'>\n",
       "                [-1.1780972  1.99801   -2.643816  ...  2.3078742 -2.6093013\n",
       "                 -1.6843109]\n",
       "            </NumpyArray></content>\n",
       "        </ListOffsetArray>\n",
       "    </content>\n",
       "</RecordArray>"
      ]
     },
     "execution_count": 25,
     "metadata": {},
     "output_type": "execute_result"
    }
   ],
   "source": [
    "tkele_mom"
   ]
  },
  {
   "cell_type": "code",
   "execution_count": 26,
   "metadata": {},
   "outputs": [],
   "source": [
    "tkele_rec = ak.with_name(tkele, name='tkele')"
   ]
  },
  {
   "cell_type": "code",
   "execution_count": 27,
   "metadata": {},
   "outputs": [
    {
     "data": {
      "text/html": [
       "<pre>[{pt: [], eta: [], phi: []},\n",
       " {pt: [69, 68.5, 5], eta: [0.0437, ..., -1.14], phi: [...]},\n",
       " {pt: [91, 90.8, 10.8], eta: [1.37, ..., -1.77], phi: [...]},\n",
       " {pt: [54.2], eta: [-1.27], phi: [-1.58]},\n",
       " {pt: [61.5], eta: [-0.829], phi: [-0.131]},\n",
       " {pt: [81.2, 71.8], eta: [-0.672, 0.707], phi: [-1.44, ...]},\n",
       " {pt: [17.5], eta: [-0.602], phi: [2.85]},\n",
       " {pt: [24.2, 22.8], eta: [-1.96, 1.95], phi: [-0.205, ...]},\n",
       " {pt: [22.5], eta: [-1.46], phi: [-2.96]},\n",
       " {pt: [92, 90.8, 2.75], eta: [-1.14, ..., 1.18], phi: [...]},\n",
       " ...,\n",
       " {pt: [50, 44.8, 1.25], eta: [2.09, ..., 0.568], phi: [...]},\n",
       " {pt: [65.5, 65.2], eta: [-0.742, 0.742], phi: [-1.74, ...]},\n",
       " {pt: [77.8, 74], eta: [0.986, -1], phi: [1.46, ...]},\n",
       " {pt: [68.2, 63], eta: [1.44, -1.46], phi: [2.1, ...]},\n",
       " {pt: [104, 96, 4.75], eta: [2.02, ..., 0.847], phi: [...]},\n",
       " {pt: [84.2, 80.2], eta: [1.92, -1.95], phi: [-0.821, ...]},\n",
       " {pt: [15], eta: [1.41], phi: [-2.61]},\n",
       " {pt: [13.5], eta: [1.42], phi: [-1.68]},\n",
       " {pt: [], eta: [], phi: []}]\n",
       "-------------------------------------------------------------\n",
       "type: 1120 * tkele[\n",
       "    pt: var * float32,\n",
       "    eta: var * float32,\n",
       "    phi: var * float32\n",
       "]</pre>"
      ],
      "text/plain": [
       "<Array [{pt: [], eta: [], phi: []}, ..., {...}] type='1120 * tkele[pt: var ...'>"
      ]
     },
     "execution_count": 27,
     "metadata": {},
     "output_type": "execute_result"
    }
   ],
   "source": [
    "tkele_rec"
   ]
  },
  {
   "cell_type": "code",
   "execution_count": 28,
   "metadata": {},
   "outputs": [],
   "source": [
    "diobj = ak.combinations(\n",
    "        array=tkele_mom,\n",
    "        n=2, \n",
    "        axis=1,\n",
    "#         fields=['leg0', 'leg1']\n",
    ")"
   ]
  },
  {
   "cell_type": "code",
   "execution_count": 29,
   "metadata": {},
   "outputs": [
    {
     "data": {
      "text/html": [
       "<pre>[([], [], []),\n",
       " ([(69, 68.5), (...), (68.5, 5)], [(0.0437, ...), ...], [...]),\n",
       " ([(91, 90.8), ..., (90.8, 10.8)], [(1.37, ...), ...], [...]),\n",
       " ([], [], []),\n",
       " ([], [], []),\n",
       " ([(81.2, 71.8)], [(-0.672, 0.707)], [(-1.44, ...)]),\n",
       " ([], [], []),\n",
       " ([(24.2, 22.8)], [(-1.96, 1.95)], [(-0.205, ...)]),\n",
       " ([], [], []),\n",
       " ([(92, 90.8), ..., (90.8, 2.75)], [(-1.14, ...), ...], [...]),\n",
       " ...,\n",
       " ([(50, 44.8), ..., (44.8, 1.25)], [(2.09, ...), ...], [...]),\n",
       " ([(65.5, 65.2)], [(-0.742, 0.742)], [(-1.74, ...)]),\n",
       " ([(77.8, 74)], [(0.986, -1)], [(1.46, -1.7)]),\n",
       " ([(68.2, 63)], [(1.44, -1.46)], [(2.1, -1.02)]),\n",
       " ([(104, 96), (...), (96, 4.75)], [(2.02, ...), ...], [...]),\n",
       " ([(84.2, 80.2)], [(1.92, -1.95)], [(-0.821, ...)]),\n",
       " ([], [], []),\n",
       " ([], [], []),\n",
       " ([], [], [])]\n",
       "---------------------------------------------------------------\n",
       "type: 1120 * Momentum4D[\n",
       "    var * (\n",
       "        float32,\n",
       "        float32\n",
       "    ),\n",
       "    var * (\n",
       "        float32,\n",
       "        float32\n",
       "    ),\n",
       "    var * (\n",
       "        float32,\n",
       "        float32\n",
       "    )\n",
       "]</pre>"
      ],
      "text/plain": [
       "<Array [([], [], []), (...), ..., ([], [], [])] type='1120 * Momentum4D[var...'>"
      ]
     },
     "execution_count": 29,
     "metadata": {},
     "output_type": "execute_result"
    }
   ],
   "source": [
    "diobj"
   ]
  },
  {
   "cell_type": "markdown",
   "metadata": {},
   "source": [
    "## Using records and behaviors"
   ]
  },
  {
   "cell_type": "code",
   "execution_count": 30,
   "metadata": {},
   "outputs": [],
   "source": [
    "import vector\n",
    "vector.register_awkward()"
   ]
  },
  {
   "cell_type": "code",
   "execution_count": 31,
   "metadata": {},
   "outputs": [
    {
     "data": {
      "text/plain": [
       "<TBranchElement 'L2TkEle_pt' at 0x00015588aa40>"
      ]
     },
     "execution_count": 31,
     "metadata": {},
     "output_type": "execute_result"
    }
   ],
   "source": [
    "tree['L2TkEle_pt']"
   ]
  },
  {
   "cell_type": "code",
   "execution_count": 32,
   "metadata": {},
   "outputs": [],
   "source": [
    "ele_p4 = vector.zip({'pt': tkele.pt, 'eta': tkele.eta, 'phi': tkele.phi, \"qual\": tkele.phi, 'mass': 0})"
   ]
  },
  {
   "cell_type": "code",
   "execution_count": 33,
   "metadata": {},
   "outputs": [],
   "source": [
    "tkele['mass'] = 0.*tkele.pt"
   ]
  },
  {
   "cell_type": "code",
   "execution_count": 34,
   "metadata": {},
   "outputs": [
    {
     "data": {
      "text/html": [
       "<pre>[{pt: [], eta: [], phi: [], mass: []},\n",
       " {pt: [69, 68.5, 5], eta: [0.0437, ..., -1.14], phi: [...], mass: [...]},\n",
       " {pt: [91, 90.8, 10.8], eta: [1.37, ..., -1.77], phi: [...], mass: [...]},\n",
       " {pt: [54.2], eta: [-1.27], phi: [-1.58], mass: [0]},\n",
       " {pt: [61.5], eta: [-0.829], phi: [-0.131], mass: [0]},\n",
       " {pt: [81.2, 71.8], eta: [-0.672, 0.707], phi: [-1.44, ...], mass: [...]},\n",
       " {pt: [17.5], eta: [-0.602], phi: [2.85], mass: [0]},\n",
       " {pt: [24.2, 22.8], eta: [-1.96, 1.95], phi: [-0.205, ...], mass: [...]},\n",
       " {pt: [22.5], eta: [-1.46], phi: [-2.96], mass: [0]},\n",
       " {pt: [92, 90.8, 2.75], eta: [-1.14, ..., 1.18], phi: [...], mass: [...]},\n",
       " ...,\n",
       " {pt: [50, 44.8, 1.25], eta: [2.09, ..., 0.568], phi: [...], mass: [...]},\n",
       " {pt: [65.5, 65.2], eta: [-0.742, 0.742], phi: [-1.74, ...], mass: [...]},\n",
       " {pt: [77.8, 74], eta: [0.986, -1], phi: [1.46, ...], mass: [...]},\n",
       " {pt: [68.2, 63], eta: [1.44, -1.46], phi: [2.1, ...], mass: [...]},\n",
       " {pt: [104, 96, 4.75], eta: [2.02, ..., 0.847], phi: [...], mass: [...]},\n",
       " {pt: [84.2, 80.2], eta: [1.92, -1.95], phi: [-0.821, ...], mass: [...]},\n",
       " {pt: [15], eta: [1.41], phi: [-2.61], mass: [0]},\n",
       " {pt: [13.5], eta: [1.42], phi: [-1.68], mass: [0]},\n",
       " {pt: [], eta: [], phi: [], mass: []}]\n",
       "--------------------------------------------------------------------------\n",
       "type: 1120 * {\n",
       "    pt: var * float32,\n",
       "    eta: var * float32,\n",
       "    phi: var * float32,\n",
       "    mass: var * float32\n",
       "}</pre>"
      ],
      "text/plain": [
       "<Array [{pt: [], eta: [], phi: [], ...}, ...] type='1120 * {pt: var * float...'>"
      ]
     },
     "execution_count": 34,
     "metadata": {},
     "output_type": "execute_result"
    }
   ],
   "source": [
    "tkele"
   ]
  },
  {
   "cell_type": "code",
   "execution_count": 35,
   "metadata": {},
   "outputs": [],
   "source": [
    "tkele.fields\n",
    "\n",
    "data = {}\n",
    "for field in tkele.fields:\n",
    "    data[field] = tkele[field]\n"
   ]
  },
  {
   "cell_type": "code",
   "execution_count": 38,
   "metadata": {},
   "outputs": [],
   "source": [
    "# this is an array of records\n",
    "ele_rec = ak.zip(data, with_name=\"pippo\")"
   ]
  },
  {
   "cell_type": "code",
   "execution_count": 37,
   "metadata": {},
   "outputs": [
    {
     "data": {
      "text/html": [
       "<pre>[[],\n",
       " [{pt: 69, eta: 0.0437, phi: -1.18, mass: 0}, ..., {pt: 5, eta: -1.14, ...}],\n",
       " [{pt: 91, eta: 1.37, phi: -0.305, mass: 0}, ..., {pt: 10.8, eta: -1.77, ...}],\n",
       " [{pt: 54.2, eta: -1.27, phi: -1.58, mass: 0}],\n",
       " [{pt: 61.5, eta: -0.829, phi: -0.131, mass: 0}],\n",
       " [{pt: 81.2, eta: -0.672, phi: -1.44, mass: 0}, {pt: 71.8, eta: ..., ...}],\n",
       " [{pt: 17.5, eta: -0.602, phi: 2.85, mass: 0}],\n",
       " [{pt: 24.2, eta: -1.96, phi: -0.205, mass: 0}, {pt: 22.8, eta: ..., ...}],\n",
       " [{pt: 22.5, eta: -1.46, phi: -2.96, mass: 0}],\n",
       " [{pt: 92, eta: -1.14, phi: 1.79, mass: 0}, ..., {pt: 2.75, eta: 1.18, ...}],\n",
       " ...,\n",
       " [{pt: 50, eta: 2.09, phi: 2.19, mass: 0}, ..., {pt: 1.25, eta: 0.568, ...}],\n",
       " [{pt: 65.5, eta: -0.742, phi: -1.74, mass: 0}, {pt: 65.2, eta: ..., ...}],\n",
       " [{pt: 77.8, eta: 0.986, phi: 1.46, mass: 0}, {pt: 74, eta: -1, ...}],\n",
       " [{pt: 68.2, eta: 1.44, phi: 2.1, mass: 0}, {pt: 63, eta: -1.46, ...}],\n",
       " [{pt: 104, eta: 2.02, phi: -2.55, mass: 0}, ..., {pt: 4.75, eta: 0.847, ...}],\n",
       " [{pt: 84.2, eta: 1.92, phi: -0.821, mass: 0}, {pt: 80.2, eta: ..., ...}],\n",
       " [{pt: 15, eta: 1.41, phi: -2.61, mass: 0}],\n",
       " [{pt: 13.5, eta: 1.42, phi: -1.68, mass: 0}],\n",
       " []]\n",
       "-------------------------------------------------------------------------------\n",
       "type: 1120 * var * pippo[\n",
       "    pt: float32,\n",
       "    eta: float32,\n",
       "    phi: float32,\n",
       "    mass: float32\n",
       "]</pre>"
      ],
      "text/plain": [
       "<Array [[], [{pt: 69, ...}, ...], ..., []] type='1120 * var * pippo[pt: flo...'>"
      ]
     },
     "execution_count": 37,
     "metadata": {},
     "output_type": "execute_result"
    }
   ],
   "source": [
    "ele_rec"
   ]
  },
  {
   "cell_type": "code",
   "execution_count": 117,
   "metadata": {},
   "outputs": [
    {
     "data": {
      "text/html": [
       "<pre>[[],\n",
       " [{rho: 69, phi: -1.18, eta: 0.0437, tau: 0, qual: -1.18}, {...}, {...}],\n",
       " [{rho: 91, phi: -0.305, eta: 1.37, tau: 0, qual: -0.305}, {...}, {...}],\n",
       " [{rho: 54.2, phi: -1.58, eta: -1.27, tau: 0, qual: -1.58}],\n",
       " [{rho: 61.5, phi: -0.131, eta: -0.829, tau: 0, qual: -0.131}],\n",
       " [{rho: 81.2, phi: -1.44, eta: -0.672, tau: 0, qual: -1.44}, {...}],\n",
       " [{rho: 17.5, phi: 2.85, eta: -0.602, tau: 0, qual: 2.85}],\n",
       " [{rho: 24.2, phi: -0.205, eta: -1.96, tau: 0, qual: -0.205}, {...}],\n",
       " [{rho: 22.5, phi: -2.96, eta: -1.46, tau: 0, qual: -2.96}],\n",
       " [{rho: 92, phi: 1.79, eta: -1.14, tau: 0, qual: 1.79}, ..., {rho: 2.75, ...}],\n",
       " ...,\n",
       " [{rho: 50, phi: 2.19, eta: 2.09, tau: 0, qual: 2.19}, ..., {rho: 1.25, ...}],\n",
       " [{rho: 65.5, phi: -1.74, eta: -0.742, tau: 0, qual: -1.74}, {...}],\n",
       " [{rho: 77.8, phi: 1.46, eta: 0.986, tau: 0, qual: 1.46}, {rho: 74, ...}],\n",
       " [{rho: 68.2, phi: 2.1, eta: 1.44, tau: 0, qual: 2.1}, {rho: 63, ...}],\n",
       " [{rho: 104, phi: -2.55, eta: 2.02, tau: 0, qual: -2.55}, ..., {rho: ..., ...}],\n",
       " [{rho: 84.2, phi: -0.821, eta: 1.92, tau: 0, qual: -0.821}, {...}],\n",
       " [{rho: 15, phi: -2.61, eta: 1.41, tau: 0, qual: -2.61}],\n",
       " [{rho: 13.5, phi: -1.68, eta: 1.42, tau: 0, qual: -1.68}],\n",
       " []]\n",
       "--------------------------------------------------------------------------------\n",
       "type: 1120 * var * Momentum4D[\n",
       "    rho: float32,\n",
       "    phi: float32,\n",
       "    eta: float32,\n",
       "    tau: int64,\n",
       "    qual: float32\n",
       "]</pre>"
      ],
      "text/plain": [
       "<MomentumArray4D [[], [{rho: 69, ...}, ...], ..., []] type='1120 * var * Mo...'>"
      ]
     },
     "execution_count": 117,
     "metadata": {},
     "output_type": "execute_result"
    }
   ],
   "source": [
    "ele_p4"
   ]
  },
  {
   "cell_type": "code",
   "execution_count": 39,
   "metadata": {},
   "outputs": [
    {
     "data": {
      "text/html": [
       "<pre>[{rho: 69, phi: -1.18, eta: 0.0437, tau: 0, qual: -1.18},\n",
       " {rho: 68.5, phi: 2, eta: 0.00844, tau: 0, qual: 2},\n",
       " {rho: 5, phi: -2.64, eta: -1.14, tau: 0, qual: -2.64}]\n",
       "---------------------------------------------------------\n",
       "type: 3 * Momentum4D[\n",
       "    rho: float32,\n",
       "    phi: float32,\n",
       "    eta: float32,\n",
       "    tau: int64,\n",
       "    qual: float32\n",
       "]</pre>"
      ],
      "text/plain": [
       "<MomentumArray4D [{rho: 69, phi: -1.18, ...}, ..., {...}] type='3 * Momentu...'>"
      ]
     },
     "execution_count": 39,
     "metadata": {},
     "output_type": "execute_result"
    }
   ],
   "source": [
    "\n",
    "ele_p4[1]"
   ]
  },
  {
   "cell_type": "markdown",
   "metadata": {},
   "source": [
    "## Create pairs using the records"
   ]
  },
  {
   "cell_type": "markdown",
   "metadata": {},
   "source": []
  },
  {
   "cell_type": "code",
   "execution_count": 40,
   "metadata": {},
   "outputs": [],
   "source": [
    "ele_pairs = ak.combinations(ele_p4, 2, fields=['leg0', 'leg1'])"
   ]
  },
  {
   "cell_type": "code",
   "execution_count": 41,
   "metadata": {},
   "outputs": [
    {
     "data": {
      "text/html": [
       "<pre>[[],\n",
       " [{leg0: {rho: 69, phi: -1.18, ...}, leg1: {...}}, ..., {leg0: {...}, ...}],\n",
       " [{leg0: {rho: 91, phi: -0.305, ...}, leg1: {...}}, ..., {leg0: {...}, ...}],\n",
       " [],\n",
       " [],\n",
       " [{leg0: {rho: 81.2, phi: -1.44, ...}, leg1: {...}}],\n",
       " [],\n",
       " [{leg0: {rho: 24.2, phi: -0.205, ...}, leg1: {...}}],\n",
       " [],\n",
       " [{leg0: {rho: 92, phi: 1.79, ...}, leg1: {...}}, ..., {leg0: {...}, ...}],\n",
       " ...,\n",
       " [{leg0: {rho: 50, phi: 2.19, ...}, leg1: {...}}, ..., {leg0: {...}, ...}],\n",
       " [{leg0: {rho: 65.5, phi: -1.74, ...}, leg1: {...}}],\n",
       " [{leg0: {rho: 77.8, phi: 1.46, ...}, leg1: {...}}],\n",
       " [{leg0: {rho: 68.2, phi: 2.1, ...}, leg1: {rho: 63, ...}}],\n",
       " [{leg0: {rho: 104, phi: -2.55, ...}, leg1: {...}}, ..., {leg0: {...}, ...}],\n",
       " [{leg0: {rho: 84.2, phi: -0.821, ...}, leg1: {...}}],\n",
       " [],\n",
       " [],\n",
       " []]\n",
       "-----------------------------------------------------------------------------\n",
       "type: 1120 * var * {\n",
       "    leg0: Momentum4D[\n",
       "        rho: float32,\n",
       "        phi: float32,\n",
       "        eta: float32,\n",
       "        tau: int64,\n",
       "        qual: float32\n",
       "    ],\n",
       "    leg1: Momentum4D[\n",
       "        rho: float32,\n",
       "        phi: float32,\n",
       "        eta: float32,\n",
       "        tau: int64,\n",
       "        qual: float32\n",
       "    ]\n",
       "}</pre>"
      ],
      "text/plain": [
       "<Array [[], [{leg0: {...}, ...}, ...], ..., []] type='1120 * var * {leg0: M...'>"
      ]
     },
     "execution_count": 41,
     "metadata": {},
     "output_type": "execute_result"
    }
   ],
   "source": [
    "ele_pairs"
   ]
  },
  {
   "cell_type": "code",
   "execution_count": 42,
   "metadata": {},
   "outputs": [
    {
     "data": {
      "text/html": [
       "<pre>[{leg0: {rho: 69, phi: -1.18, ...}, leg1: {rho: 68.5, ...}},\n",
       " {leg0: {rho: 69, phi: -1.18, ...}, leg1: {rho: 5, ...}},\n",
       " {leg0: {rho: 68.5, phi: 2, ...}, leg1: {rho: 5, ...}}]\n",
       "------------------------------------------------------------\n",
       "type: 3 * {\n",
       "    leg0: Momentum4D[\n",
       "        rho: float32,\n",
       "        phi: float32,\n",
       "        eta: float32,\n",
       "        tau: int64,\n",
       "        qual: float32\n",
       "    ],\n",
       "    leg1: Momentum4D[\n",
       "        rho: float32,\n",
       "        phi: float32,\n",
       "        eta: float32,\n",
       "        tau: int64,\n",
       "        qual: float32\n",
       "    ]\n",
       "}</pre>"
      ],
      "text/plain": [
       "<Array [{leg0: {...}, leg1: {...}}, ..., {...}] type='3 * {leg0: Momentum4D...'>"
      ]
     },
     "execution_count": 42,
     "metadata": {},
     "output_type": "execute_result"
    }
   ],
   "source": [
    "ele_pairs[1]"
   ]
  },
  {
   "cell_type": "code",
   "execution_count": 170,
   "metadata": {},
   "outputs": [
    {
     "data": {
      "text/html": [
       "<pre>[[],\n",
       " [{leg0: {rho: 68.5, phi: 2, ...}, leg1: {rho: 5, ...}}],\n",
       " [{leg0: {rho: 90.8, phi: 2.85, ...}, leg1: {...}}],\n",
       " [],\n",
       " [],\n",
       " [],\n",
       " [],\n",
       " [],\n",
       " [],\n",
       " [{leg0: {rho: 92, phi: 1.79, ...}, leg1: {...}}, {leg0: {...}, ...}],\n",
       " ...,\n",
       " [{leg0: {rho: 50, phi: 2.19, ...}, leg1: {...}}, {leg0: {...}, ...}],\n",
       " [],\n",
       " [{leg0: {rho: 77.8, phi: 1.46, ...}, leg1: {...}}],\n",
       " [{leg0: {rho: 68.2, phi: 2.1, ...}, leg1: {rho: 63, ...}}],\n",
       " [{leg0: {rho: 96, phi: 0.581, ...}, leg1: {rho: ..., ...}}],\n",
       " [],\n",
       " [],\n",
       " [],\n",
       " []]\n",
       "----------------------------------------------------------------------\n",
       "type: 1120 * var * {\n",
       "    leg0: Momentum4D[\n",
       "        rho: float32,\n",
       "        phi: float32,\n",
       "        eta: float32,\n",
       "        tau: int64,\n",
       "        qual: float32\n",
       "    ],\n",
       "    leg1: Momentum4D[\n",
       "        rho: float32,\n",
       "        phi: float32,\n",
       "        eta: float32,\n",
       "        tau: int64,\n",
       "        qual: float32\n",
       "    ]\n",
       "}</pre>"
      ],
      "text/plain": [
       "<Array [[], [{leg0: {...}, ...}], ..., [], []] type='1120 * var * {leg0: Mo...'>"
      ]
     },
     "execution_count": 170,
     "metadata": {},
     "output_type": "execute_result"
    }
   ],
   "source": [
    "ele_pairs[ele_pairs.leg0.phi > 0]"
   ]
  },
  {
   "cell_type": "code",
   "execution_count": 43,
   "metadata": {},
   "outputs": [
    {
     "data": {
      "text/html": [
       "<pre>[[],\n",
       " [True, True, False],\n",
       " [True, True, False],\n",
       " [],\n",
       " [],\n",
       " [True],\n",
       " [],\n",
       " [True],\n",
       " [],\n",
       " [False, False, True],\n",
       " ...,\n",
       " [False, False, True],\n",
       " [True],\n",
       " [False],\n",
       " [False],\n",
       " [True, True, False],\n",
       " [True],\n",
       " [],\n",
       " [],\n",
       " []]\n",
       "-----------------------\n",
       "type: 1120 * var * bool</pre>"
      ],
      "text/plain": [
       "<Array [[], [True, True, False], [...], ..., [], []] type='1120 * var * bool'>"
      ]
     },
     "execution_count": 43,
     "metadata": {},
     "output_type": "execute_result"
    }
   ],
   "source": [
    "ele_pairs.leg0.qual < 0"
   ]
  },
  {
   "cell_type": "markdown",
   "metadata": {},
   "source": [
    "## We now use the vector functionality "
   ]
  },
  {
   "cell_type": "code",
   "execution_count": 45,
   "metadata": {},
   "outputs": [
    {
     "data": {
      "text/html": [
       "<pre>[138,\n",
       " 384,\n",
       " 190,\n",
       " 169,\n",
       " 320,\n",
       " 99.8,\n",
       " 167,\n",
       " 722,\n",
       " 69.8,\n",
       " 416,\n",
       " ...,\n",
       " 317,\n",
       " 328,\n",
       " 305,\n",
       " 388,\n",
       " 168,\n",
       " 233,\n",
       " 295,\n",
       " 766,\n",
       " 579]\n",
       "-------------------\n",
       "type: 687 * float64</pre>"
      ],
      "text/plain": [
       "<Array [138, 384, 190, 169, 320, ..., 233, 295, 766, 579] type='687 * float64'>"
      ]
     },
     "execution_count": 45,
     "metadata": {},
     "output_type": "execute_result"
    }
   ],
   "source": [
    "objs_sum = ele_pairs.leg0+ele_pairs.leg1\n",
    "objs_sum[ak.count((objs_sum).pt, axis=1) > 0][:, 0].mass"
   ]
  },
  {
   "cell_type": "markdown",
   "metadata": {},
   "source": [
    "## We read the event properties"
   ]
  },
  {
   "cell_type": "code",
   "execution_count": 23,
   "metadata": {},
   "outputs": [
    {
     "data": {
      "text/html": [
       "<pre>[{run: 1, lumi: 619, event: 98881},\n",
       " {run: 1, lumi: 619, event: 98883},\n",
       " {run: 1, lumi: 619, event: 98882},\n",
       " {run: 1, lumi: 619, event: 98885},\n",
       " {run: 1, lumi: 619, event: 98886},\n",
       " {run: 1, lumi: 619, event: 98887},\n",
       " {run: 1, lumi: 619, event: 98891},\n",
       " {run: 1, lumi: 619, event: 98890},\n",
       " {run: 1, lumi: 619, event: 98893},\n",
       " {run: 1, lumi: 619, event: 98894},\n",
       " ...,\n",
       " {run: 1, lumi: 625, event: 99985},\n",
       " {run: 1, lumi: 625, event: 99997},\n",
       " {run: 1, lumi: 625, event: 99996},\n",
       " {run: 1, lumi: 625, event: 99995},\n",
       " {run: 1, lumi: 625, event: 99982},\n",
       " {run: 1, lumi: 625, event: 99991},\n",
       " {run: 1, lumi: 625, event: 100000},\n",
       " {run: 1, lumi: 625, event: 99979},\n",
       " {run: 1, lumi: 625, event: 99999}]\n",
       "------------------------------------\n",
       "type: 1120 * {\n",
       "    run: int32,\n",
       "    lumi: int32,\n",
       "    event: int32\n",
       "}</pre>"
      ],
      "text/plain": [
       "<Array [{run: 1, lumi: 619, ...}, ..., {...}] type='1120 * {run: int32, lum...'>"
      ]
     },
     "execution_count": 23,
     "metadata": {},
     "output_type": "execute_result"
    }
   ],
   "source": [
    "eventid = tree.arrays(['run', 'lumi', 'event'], library='ak', entry_start=0, entry_stop=2000)\n",
    "eventid"
   ]
  },
  {
   "cell_type": "markdown",
   "metadata": {},
   "source": [
    "## Gen matching based on DR"
   ]
  },
  {
   "cell_type": "code",
   "execution_count": 49,
   "metadata": {},
   "outputs": [],
   "source": [
    "gen = tree.arrays(['pt', 'eta', 'phi', 'pdgid', 'daughters'], library='ak', entry_start=0, entry_stop=2000, aliases={'pt': 'gen_pt',  \n",
    "                                                                                        'eta': 'gen_eta',\n",
    "                                                                                        'phi': 'gen_phi',\n",
    "                                                                                        'pdgid': 'gen_pdgid',\n",
    "                                                                                        'daughters': 'gen_daughters'})\n"
   ]
  },
  {
   "cell_type": "code",
   "execution_count": 50,
   "metadata": {},
   "outputs": [
    {
     "data": {
      "text/html": [
       "<pre>[[11, -11],\n",
       " [11, -11],\n",
       " [11, -11],\n",
       " [11, -11],\n",
       " [11, -11],\n",
       " [11, -11],\n",
       " [11, -11],\n",
       " [11, -11],\n",
       " [11, -11],\n",
       " [11, -11],\n",
       " ...,\n",
       " [11, -11],\n",
       " [11, -11],\n",
       " [11, -11],\n",
       " [11, -11],\n",
       " [11, -11],\n",
       " [11, -11],\n",
       " [11, -11],\n",
       " [11, -11],\n",
       " [11, -11]]\n",
       "------------------------\n",
       "type: 1120 * var * int32</pre>"
      ],
      "text/plain": [
       "<Array [[11, -11], [11, -11], ..., [...], [11, -11]] type='1120 * var * int32'>"
      ]
     },
     "execution_count": 50,
     "metadata": {},
     "output_type": "execute_result"
    }
   ],
   "source": [
    "gen.pdgid"
   ]
  },
  {
   "cell_type": "code",
   "execution_count": 51,
   "metadata": {},
   "outputs": [
    {
     "data": {
      "text/html": [
       "<pre>[{pt: 8.55, eta: 0.82, phi: 1.95, pdgid: 11, daughters: []},\n",
       " {pt: 68.9, eta: -0.0272, phi: 1.99, pdgid: 11, daughters: []},\n",
       " {pt: 90.7, eta: -1.38, phi: 2.84, pdgid: 11, daughters: []},\n",
       " {pt: 69.4, eta: 1.28, phi: 1.57, pdgid: 11, daughters: []},\n",
       " {pt: 62.8, eta: 0.823, phi: 3.01, pdgid: 11, daughters: []},\n",
       " {pt: 81.4, eta: -0.695, phi: -1.45, pdgid: 11, daughters: []},\n",
       " {pt: 16.6, eta: 0.66, phi: -0.223, pdgid: 11, daughters: []},\n",
       " {pt: 22.7, eta: 1.95, phi: 2.96, pdgid: 11, daughters: []},\n",
       " {pt: 23.5, eta: -1.45, phi: -3.03, pdgid: 11, daughters: []},\n",
       " {pt: 94.4, eta: -1.17, phi: 1.79, pdgid: 11, daughters: []},\n",
       " ...,\n",
       " {pt: 47.7, eta: 2.09, phi: 2.17, pdgid: 11, daughters: []},\n",
       " {pt: 65.1, eta: -0.748, phi: -1.75, pdgid: 11, daughters: []},\n",
       " {pt: 78.6, eta: 0.994, phi: 1.46, pdgid: 11, daughters: []},\n",
       " {pt: 65.5, eta: -1.45, phi: -1.03, pdgid: 11, daughters: []},\n",
       " {pt: 97.3, eta: 2.02, phi: -2.55, pdgid: 11, daughters: []},\n",
       " {pt: 85.1, eta: 1.93, phi: -0.828, pdgid: 11, daughters: []},\n",
       " {pt: 54.7, eta: 2.64, phi: 2.19, pdgid: 11, daughters: []},\n",
       " {pt: 91.7, eta: 2.59, phi: -1.15, pdgid: 11, daughters: []},\n",
       " {pt: 47.8, eta: -2.83, phi: -1.89, pdgid: 11, daughters: []}]\n",
       "---------------------------------------------------------------\n",
       "type: 1120 * {\n",
       "    pt: float32,\n",
       "    eta: float32,\n",
       "    phi: float32,\n",
       "    pdgid: int32,\n",
       "    daughters: var * int32\n",
       "}</pre>"
      ],
      "text/plain": [
       "<Array [{pt: 8.55, eta: 0.82, ...}, ..., {...}] type='1120 * {pt: float32, ...'>"
      ]
     },
     "execution_count": 51,
     "metadata": {},
     "output_type": "execute_result"
    }
   ],
   "source": [
    "gen[(abs(gen.pdgid) == 11 )][:, 0]"
   ]
  },
  {
   "cell_type": "code",
   "execution_count": 52,
   "metadata": {},
   "outputs": [
    {
     "data": {
      "text/html": [
       "<pre>{pt: [69, 68.5, 5],\n",
       " eta: [0.0437, 0.00844, -1.14],\n",
       " phi: [-1.18, 2, -2.64],\n",
       " mass: [0, 0, 0]}\n",
       "-------------------------------\n",
       "type: {\n",
       "    pt: var * float32,\n",
       "    eta: var * float32,\n",
       "    phi: var * float32,\n",
       "    mass: var * float32\n",
       "}</pre>"
      ],
      "text/plain": [
       "<Record {pt: [69, ..., 5], eta: [...], ...} type='{pt: var * float32, eta: ...'>"
      ]
     },
     "execution_count": 52,
     "metadata": {},
     "output_type": "execute_result"
    }
   ],
   "source": [
    "tkele[1]"
   ]
  },
  {
   "cell_type": "code",
   "execution_count": 53,
   "metadata": {},
   "outputs": [
    {
     "data": {
      "text/html": [
       "<pre>[0.82,\n",
       " -0.0272,\n",
       " -1.38,\n",
       " 1.28,\n",
       " 0.823,\n",
       " -0.695,\n",
       " 0.66,\n",
       " 1.95,\n",
       " -1.45,\n",
       " -1.17,\n",
       " ...,\n",
       " 2.09,\n",
       " -0.748,\n",
       " 0.994,\n",
       " -1.45,\n",
       " 2.02,\n",
       " 1.93,\n",
       " 2.64,\n",
       " 2.59,\n",
       " -2.83]\n",
       "--------------------\n",
       "type: 1120 * float32</pre>"
      ],
      "text/plain": [
       "<Array [0.82, -0.0272, -1.38, ..., 2.64, 2.59, -2.83] type='1120 * float32'>"
      ]
     },
     "execution_count": 53,
     "metadata": {},
     "output_type": "execute_result"
    }
   ],
   "source": [
    "gen_eta0 = gen.eta[:, 0]\n",
    "gen_eta0"
   ]
  },
  {
   "cell_type": "code",
   "execution_count": 54,
   "metadata": {},
   "outputs": [],
   "source": [
    "match_eta = ak.cartesian([tkele.eta, gen.eta])\n",
    "match_phi = ak.cartesian([tkele.phi, gen.phi])\n",
    "\n",
    "match_pt = ak.cartesian([tkele.pt, gen.pt])\n",
    "match_idx = ak.argcartesian([tkele.eta, gen.eta])"
   ]
  },
  {
   "cell_type": "code",
   "execution_count": 55,
   "metadata": {},
   "outputs": [
    {
     "data": {
      "text/html": [
       "<pre>[[],\n",
       " [(0.0437, -0.0272), (0.0437, 0.0272), ..., (-1.14, ..., ...), (-1.14, 0.0272)],\n",
       " [(1.37, -1.38), (1.37, 1.38), (..., ...), ..., (-1.77, -1.38), (-1.77, 1.38)],\n",
       " [(-1.27, 1.28), (-1.27, -1.28)],\n",
       " [(-0.829, 0.823), (-0.829, -0.823)],\n",
       " [(-0.672, -0.695), (-0.672, 0.695), (0.707, -0.695), (0.707, 0.695)],\n",
       " [(-0.602, 0.66), (-0.602, -0.66)],\n",
       " [(-1.96, 1.95), (-1.96, -1.95), (1.95, 1.95), (1.95, -1.95)],\n",
       " [(-1.46, -1.45), (-1.46, 1.45)],\n",
       " [(-1.14, -1.17), (-1.14, 1.17), (1.18, ...), ..., (1.18, -1.17), (1.18, 1.17)],\n",
       " ...,\n",
       " [(2.09, 2.09), (2.09, -2.09), (..., ...), ..., (0.568, 2.09), (0.568, -2.09)],\n",
       " [(-0.742, -0.748), (-0.742, 0.748), (0.742, -0.748), (0.742, 0.748)],\n",
       " [(0.986, 0.994), (0.986, -0.994), (-1, 0.994), (-1, -0.994)],\n",
       " [(1.44, -1.45), (1.44, 1.45), (-1.46, -1.45), (-1.46, 1.45)],\n",
       " [(2.02, 2.02), (2.02, -2.02), (..., ...), ..., (0.847, 2.02), (0.847, -2.02)],\n",
       " [(1.92, 1.93), (1.92, -1.93), (-1.95, 1.93), (-1.95, -1.93)],\n",
       " [(1.41, 2.64), (1.41, -2.64)],\n",
       " [(1.42, 2.59), (1.42, -2.59)],\n",
       " []]\n",
       "--------------------------------------------------------------------------------\n",
       "type: 1120 * var * (\n",
       "    float32,\n",
       "    float32\n",
       ")</pre>"
      ],
      "text/plain": [
       "<Array [[], [(0.0437, ..., ...), ...], ..., []] type='1120 * var * (float32...'>"
      ]
     },
     "execution_count": 55,
     "metadata": {},
     "output_type": "execute_result"
    }
   ],
   "source": [
    "match_eta"
   ]
  },
  {
   "cell_type": "code",
   "execution_count": 56,
   "metadata": {},
   "outputs": [
    {
     "data": {
      "text/html": [
       "<pre>[[],\n",
       " [(0, 0), (0, 1), (1, 0), (1, 1), (2, 0), (2, 1)],\n",
       " [(0, 0), (0, 1), (1, 0), (1, 1), (2, 0), (2, 1)],\n",
       " [(0, 0), (0, 1)],\n",
       " [(0, 0), (0, 1)],\n",
       " [(0, 0), (0, 1), (1, 0), (1, 1)],\n",
       " [(0, 0), (0, 1)],\n",
       " [(0, 0), (0, 1), (1, 0), (1, 1)],\n",
       " [(0, 0), (0, 1)],\n",
       " [(0, 0), (0, 1), (1, 0), (1, 1), (2, 0), (2, 1)],\n",
       " ...,\n",
       " [(0, 0), (0, 1), (1, 0), (1, 1), (2, 0), (2, 1)],\n",
       " [(0, 0), (0, 1), (1, 0), (1, 1)],\n",
       " [(0, 0), (0, 1), (1, 0), (1, 1)],\n",
       " [(0, 0), (0, 1), (1, 0), (1, 1)],\n",
       " [(0, 0), (0, 1), (1, 0), (1, 1), (2, 0), (2, 1)],\n",
       " [(0, 0), (0, 1), (1, 0), (1, 1)],\n",
       " [(0, 0), (0, 1)],\n",
       " [(0, 0), (0, 1)],\n",
       " []]\n",
       "--------------------------------------------------\n",
       "type: 1120 * var * (\n",
       "    int64,\n",
       "    int64\n",
       ")</pre>"
      ],
      "text/plain": [
       "<Array [[], [(0, 0), ..., (2, ...)], ..., []] type='1120 * var * (int64, in...'>"
      ]
     },
     "execution_count": 56,
     "metadata": {},
     "output_type": "execute_result"
    }
   ],
   "source": [
    "match_idx"
   ]
  },
  {
   "cell_type": "code",
   "execution_count": 57,
   "metadata": {},
   "outputs": [
    {
     "data": {
      "text/html": [
       "<pre>[[],\n",
       " [(0.0437, -0.0272), (0.0437, 0.0272), ..., (-1.14, ..., ...), (-1.14, 0.0272)],\n",
       " [(1.37, -1.38), (1.37, 1.38), (..., ...), ..., (-1.77, -1.38), (-1.77, 1.38)],\n",
       " [(-1.27, 1.28), (-1.27, -1.28)],\n",
       " [(-0.829, 0.823), (-0.829, -0.823)],\n",
       " [(-0.672, -0.695), (-0.672, 0.695), (0.707, -0.695), (0.707, 0.695)],\n",
       " [(-0.602, 0.66), (-0.602, -0.66)],\n",
       " [(-1.96, 1.95), (-1.96, -1.95), (1.95, 1.95), (1.95, -1.95)],\n",
       " [(-1.46, -1.45), (-1.46, 1.45)],\n",
       " [(-1.14, -1.17), (-1.14, 1.17), (1.18, ...), ..., (1.18, -1.17), (1.18, 1.17)],\n",
       " ...,\n",
       " [(2.09, 2.09), (2.09, -2.09), (..., ...), ..., (0.568, 2.09), (0.568, -2.09)],\n",
       " [(-0.742, -0.748), (-0.742, 0.748), (0.742, -0.748), (0.742, 0.748)],\n",
       " [(0.986, 0.994), (0.986, -0.994), (-1, 0.994), (-1, -0.994)],\n",
       " [(1.44, -1.45), (1.44, 1.45), (-1.46, -1.45), (-1.46, 1.45)],\n",
       " [(2.02, 2.02), (2.02, -2.02), (..., ...), ..., (0.847, 2.02), (0.847, -2.02)],\n",
       " [(1.92, 1.93), (1.92, -1.93), (-1.95, 1.93), (-1.95, -1.93)],\n",
       " [(1.41, 2.64), (1.41, -2.64)],\n",
       " [(1.42, 2.59), (1.42, -2.59)],\n",
       " []]\n",
       "--------------------------------------------------------------------------------\n",
       "type: 1120 * var * (\n",
       "    float32,\n",
       "    float32\n",
       ")</pre>"
      ],
      "text/plain": [
       "<Array [[], [(0.0437, ..., ...), ...], ..., []] type='1120 * var * (float32...'>"
      ]
     },
     "execution_count": 57,
     "metadata": {},
     "output_type": "execute_result"
    }
   ],
   "source": [
    "match_eta"
   ]
  },
  {
   "cell_type": "code",
   "execution_count": 58,
   "metadata": {},
   "outputs": [],
   "source": [
    "ele_eta, gen_eta = ak.unzip(match_eta)\n",
    "ele_phi, gen_phi = ak.unzip(match_phi)\n",
    "\n",
    "ele_pt, gen_pt = ak.unzip(match_pt)\n",
    "ele_idx, gen_idx = ak.unzip(match_idx)\n"
   ]
  },
  {
   "cell_type": "code",
   "execution_count": 59,
   "metadata": {},
   "outputs": [
    {
     "data": {
      "text/html": [
       "<pre>[[],\n",
       " [69, 69, 68.5, 68.5, 5, 5],\n",
       " [91, 91, 90.8, 90.8, 10.8, 10.8],\n",
       " [54.2, 54.2],\n",
       " [61.5, 61.5],\n",
       " [81.2, 81.2, 71.8, 71.8],\n",
       " [17.5, 17.5],\n",
       " [24.2, 24.2, 22.8, 22.8],\n",
       " [22.5, 22.5],\n",
       " [92, 92, 90.8, 90.8, 2.75, 2.75],\n",
       " ...,\n",
       " [50, 50, 44.8, 44.8, 1.25, 1.25],\n",
       " [65.5, 65.5, 65.2, 65.2],\n",
       " [77.8, 77.8, 74, 74],\n",
       " [68.2, 68.2, 63, 63],\n",
       " [104, 104, 96, 96, 4.75, 4.75],\n",
       " [84.2, 84.2, 80.2, 80.2],\n",
       " [15, 15],\n",
       " [13.5, 13.5],\n",
       " []]\n",
       "----------------------------------\n",
       "type: 1120 * var * float32</pre>"
      ],
      "text/plain": [
       "<Array [[], [69, 69, 68.5, ..., 5, 5], ..., []] type='1120 * var * float32'>"
      ]
     },
     "execution_count": 59,
     "metadata": {},
     "output_type": "execute_result"
    }
   ],
   "source": [
    "ele_pt"
   ]
  },
  {
   "cell_type": "code",
   "execution_count": 60,
   "metadata": {},
   "outputs": [
    {
     "data": {
      "text/html": [
       "<pre>[[],\n",
       " [68.9, 68.9, 68.9, 68.9, 68.9, 68.9],\n",
       " [90.7, 90.7, 90.7, 90.7, 90.7, 90.7],\n",
       " [69.4, 69.4],\n",
       " [62.8, 62.8],\n",
       " [81.4, 81.4, 81.4, 81.4],\n",
       " [16.6, 16.6],\n",
       " [22.7, 22.7, 22.7, 22.7],\n",
       " [23.5, 23.5],\n",
       " [94.4, 94.4, 94.4, 94.4, 94.4, 94.4],\n",
       " ...,\n",
       " [47.7, 47.7, 47.7, 47.7, 47.7, 47.7],\n",
       " [65.1, 65.1, 65.1, 65.1],\n",
       " [78.6, 78.6, 78.6, 78.6],\n",
       " [65.5, 65.5, 65.5, 65.5],\n",
       " [97.3, 97.3, 97.3, 97.3, 97.3, 97.3],\n",
       " [85.1, 85.1, 85.1, 85.1],\n",
       " [54.7, 54.7],\n",
       " [91.7, 91.7],\n",
       " []]\n",
       "--------------------------------------\n",
       "type: 1120 * var * float32</pre>"
      ],
      "text/plain": [
       "<Array [[], [68.9, 68.9, ..., 68.9, 68.9], ..., []] type='1120 * var * float32'>"
      ]
     },
     "execution_count": 60,
     "metadata": {},
     "output_type": "execute_result"
    }
   ],
   "source": [
    "gen_pt"
   ]
  },
  {
   "cell_type": "code",
   "execution_count": 65,
   "metadata": {},
   "outputs": [],
   "source": [
    "import numpy as np"
   ]
  },
  {
   "cell_type": "code",
   "execution_count": null,
   "metadata": {},
   "outputs": [],
   "source": []
  },
  {
   "cell_type": "code",
   "execution_count": 62,
   "metadata": {},
   "outputs": [
    {
     "data": {
      "text/html": [
       "<pre>[[],\n",
       " [10, 0.000789, 0.00141, 9.94, 22.7, 3.58],\n",
       " [17.5, 0.000187, 0.000133, 17.6, 13.6, 10.2],\n",
       " [16.4, 0.000464],\n",
       " [12.6, 4.25e-05],\n",
       " [0.000592, 11.7, 11.8, 0.000259],\n",
       " [11.1, 0.00757],\n",
       " [25.3, 0.000572, 0.0018, 25.4],\n",
       " [0.00532, 17.9],\n",
       " [0.000565, 15.2, 15.5, 0.000356, 15.1, 0.00152],\n",
       " ...,\n",
       " [0.000255, 27.4, 27.3, 4.72e-06, 2.5, 14.4],\n",
       " [0.000135, 12, 12, 0.0001],\n",
       " [6.5e-05, 13.8, 14, 0.000435],\n",
       " [18.1, 8.25e-05, 0.000254, 18.2],\n",
       " [4.48e-05, 26.1, 26.2, 9.23e-05, 33.1, 14.4],\n",
       " [0.000239, 24.6, 24.8, 0.000325],\n",
       " [24.5, 19.1],\n",
       " [1.64, 29.6],\n",
       " []]\n",
       "-------------------------------------------------\n",
       "type: 1120 * var * float32</pre>"
      ],
      "text/plain": [
       "<Array [[], [10, 0.000789, ..., 3.58], ..., []] type='1120 * var * float32'>"
      ]
     },
     "execution_count": 62,
     "metadata": {},
     "output_type": "execute_result"
    }
   ],
   "source": [
    "dr2 = (ele_eta-gen_eta)**2+(ele_phi-gen_phi)**2\n",
    "dr2"
   ]
  },
  {
   "cell_type": "code",
   "execution_count": 66,
   "metadata": {},
   "outputs": [
    {
     "data": {
      "text/html": [
       "<pre>[[],\n",
       " [0.0724, 0.0724, 0.428, 0.428, 63.9, 63.9],\n",
       " [0.34, 0.34, 0.0895, 0.0895, 79.9, 79.9],\n",
       " [15.2, 15.2],\n",
       " [1.28, 1.28],\n",
       " [0.174, 0.174, 9.67, 9.67],\n",
       " [0.9, 0.9],\n",
       " [1.57, 1.57, 0.0716, 0.0716],\n",
       " [1.03, 1.03],\n",
       " [2.45, 2.45, 3.7, 3.7, 91.7, 91.7],\n",
       " ...,\n",
       " [2.29, 2.29, 2.96, 2.96, 46.5, 46.5],\n",
       " [0.38, 0.38, 0.13, 0.13],\n",
       " [0.827, 0.827, 4.58, 4.58],\n",
       " [2.72, 2.72, 2.53, 2.53],\n",
       " [6.45, 6.45, 1.3, 1.3, 92.5, 92.5],\n",
       " [0.82, 0.82, 4.82, 4.82],\n",
       " [39.7, 39.7],\n",
       " [78.2, 78.2],\n",
       " []]\n",
       "--------------------------------------------\n",
       "type: 1120 * var * float32</pre>"
      ],
      "text/plain": [
       "<Array [[], [0.0724, 0.0724, ..., 63.9], ..., []] type='1120 * var * float32'>"
      ]
     },
     "execution_count": 66,
     "metadata": {},
     "output_type": "execute_result"
    }
   ],
   "source": [
    "dp = np.abs(ele_pt-gen_pt)\n",
    "dp"
   ]
  },
  {
   "cell_type": "code",
   "execution_count": 68,
   "metadata": {},
   "outputs": [
    {
     "data": {
      "text/html": [
       "<pre>{pt: [92, 90.8, 2.75],\n",
       " eta: [-1.14, 1.18, 1.18],\n",
       " phi: [1.79, -1.37, -1.32],\n",
       " mass: [0, 0, 0]}\n",
       "---------------------------\n",
       "type: {\n",
       "    pt: var * float32,\n",
       "    eta: var * float32,\n",
       "    phi: var * float32,\n",
       "    mass: var * float32\n",
       "}</pre>"
      ],
      "text/plain": [
       "<Record {pt: [92, ..., 2.75], eta: [...], ...} type='{pt: var * float32, et...'>"
      ]
     },
     "execution_count": 68,
     "metadata": {},
     "output_type": "execute_result"
    }
   ],
   "source": [
    "\n",
    "tkele[ak.count(tkele.pt, axis=1) > 2][2]"
   ]
  },
  {
   "cell_type": "code",
   "execution_count": 69,
   "metadata": {},
   "outputs": [],
   "source": [
    "# tkele['event'] = eventid.event\n",
    "# gen['event'] = eventid.event\n"
   ]
  },
  {
   "cell_type": "code",
   "execution_count": 70,
   "metadata": {},
   "outputs": [
    {
     "data": {
      "text/html": [
       "<pre>[{ele_idx: [], gen_idx: [], dpt: [], dr2: []},\n",
       " {ele_idx: [0, 0, 1, 1, 2, 2], gen_idx: [0, 1, ..., 0, 1], dpt: [...], ...},\n",
       " {ele_idx: [0, 0, 1, 1, 2, 2], gen_idx: [0, 1, ..., 0, 1], dpt: [...], ...},\n",
       " {ele_idx: [0, 0], gen_idx: [0, 1], dpt: [15.2, ...], dr2: [...]},\n",
       " {ele_idx: [0, 0], gen_idx: [0, 1], dpt: [1.28, ...], dr2: [...]},\n",
       " {ele_idx: [0, 0, 1, 1], gen_idx: [0, 1, 0, 1], dpt: [...], dr2: [...]},\n",
       " {ele_idx: [0, 0], gen_idx: [0, 1], dpt: [0.9, 0.9], dr2: [...]},\n",
       " {ele_idx: [0, 0, 1, 1], gen_idx: [0, 1, 0, 1], dpt: [...], dr2: [...]},\n",
       " {ele_idx: [0, 0], gen_idx: [0, 1], dpt: [1.03, ...], dr2: [...]},\n",
       " {ele_idx: [0, 0, 1, 1, 2, 2], gen_idx: [0, 1, ..., 0, 1], dpt: [...], ...},\n",
       " ...,\n",
       " {ele_idx: [0, 0, 1, 1, 2, 2], gen_idx: [0, 1, ..., 0, 1], dpt: [...], ...},\n",
       " {ele_idx: [0, 0, 1, 1], gen_idx: [0, 1, 0, 1], dpt: [...], dr2: [...]},\n",
       " {ele_idx: [0, 0, 1, 1], gen_idx: [0, 1, 0, 1], dpt: [...], dr2: [...]},\n",
       " {ele_idx: [0, 0, 1, 1], gen_idx: [0, 1, 0, 1], dpt: [...], dr2: [...]},\n",
       " {ele_idx: [0, 0, 1, 1, 2, 2], gen_idx: [0, 1, ..., 0, 1], dpt: [...], ...},\n",
       " {ele_idx: [0, 0, 1, 1], gen_idx: [0, 1, 0, 1], dpt: [...], dr2: [...]},\n",
       " {ele_idx: [0, 0], gen_idx: [0, 1], dpt: [39.7, ...], dr2: [...]},\n",
       " {ele_idx: [0, 0], gen_idx: [0, 1], dpt: [78.2, ...], dr2: [...]},\n",
       " {ele_idx: [], gen_idx: [], dpt: [], dr2: []}]\n",
       "----------------------------------------------------------------------------\n",
       "type: 1120 * {\n",
       "    ele_idx: var * int64,\n",
       "    gen_idx: var * int64,\n",
       "    dpt: var * float32,\n",
       "    dr2: var * float32\n",
       "}</pre>"
      ],
      "text/plain": [
       "<Array [{ele_idx: [], gen_idx: [], ...}, ...] type='1120 * {ele_idx: var * ...'>"
      ]
     },
     "execution_count": 70,
     "metadata": {},
     "output_type": "execute_result"
    }
   ],
   "source": [
    "match = ak.Array(data={'ele_idx': ele_idx, 'gen_idx': gen_idx, 'dpt': dp, 'dr2': dr2})\n",
    "match"
   ]
  },
  {
   "cell_type": "code",
   "execution_count": 475,
   "metadata": {},
   "outputs": [],
   "source": [
    "# match['event'] = eventid.event"
   ]
  },
  {
   "cell_type": "code",
   "execution_count": 71,
   "metadata": {},
   "outputs": [
    {
     "data": {
      "text/html": [
       "<pre>{ele_idx: [0, 0],\n",
       " gen_idx: [0, 1],\n",
       " dpt: [15.2, 15.2],\n",
       " dr2: [16.4, 0.000464]}\n",
       "-------------------------\n",
       "type: {\n",
       "    ele_idx: var * int64,\n",
       "    gen_idx: var * int64,\n",
       "    dpt: var * float32,\n",
       "    dr2: var * float32\n",
       "}</pre>"
      ],
      "text/plain": [
       "<Record {ele_idx: [0, 0], gen_idx: [...], ...} type='{ele_idx: var * int64,...'>"
      ]
     },
     "execution_count": 71,
     "metadata": {},
     "output_type": "execute_result"
    }
   ],
   "source": [
    "match[3]"
   ]
  },
  {
   "cell_type": "code",
   "execution_count": 72,
   "metadata": {},
   "outputs": [
    {
     "data": {
      "text/html": [
       "<pre>[{ele_idx: [], gen_idx: [], dpt: [], dr2: []},\n",
       " {ele_idx: [0, 1], gen_idx: [1, 0], dpt: [0.0724, ...], dr2: [...]},\n",
       " {ele_idx: [0, 1], gen_idx: [1, 0], dpt: [0.34, ...], dr2: [...]},\n",
       " {ele_idx: [0], gen_idx: [1], dpt: [15.2], dr2: [0.000464]},\n",
       " {ele_idx: [0], gen_idx: [1], dpt: [1.28], dr2: [4.25e-05]},\n",
       " {ele_idx: [0, 1], gen_idx: [0, 1], dpt: [0.174, ...], dr2: [...]},\n",
       " {ele_idx: [0], gen_idx: [1], dpt: [0.9], dr2: [0.00757]},\n",
       " {ele_idx: [0, 1], gen_idx: [1, 0], dpt: [1.57, ...], dr2: [...]},\n",
       " {ele_idx: [0], gen_idx: [0], dpt: [1.03], dr2: [0.00532]},\n",
       " {ele_idx: [0, 1, 2], gen_idx: [0, 1, 1], dpt: [2.45, ...], dr2: [...]},\n",
       " ...,\n",
       " {ele_idx: [0, 1], gen_idx: [0, 1], dpt: [2.29, ...], dr2: [...]},\n",
       " {ele_idx: [0, 1], gen_idx: [0, 1], dpt: [0.38, ...], dr2: [...]},\n",
       " {ele_idx: [0, 1], gen_idx: [0, 1], dpt: [0.827, ...], dr2: [...]},\n",
       " {ele_idx: [0, 1], gen_idx: [1, 0], dpt: [2.72, ...], dr2: [...]},\n",
       " {ele_idx: [0, 1], gen_idx: [0, 1], dpt: [6.45, 1.3], dr2: [...]},\n",
       " {ele_idx: [0, 1], gen_idx: [0, 1], dpt: [0.82, ...], dr2: [...]},\n",
       " {ele_idx: [], gen_idx: [], dpt: [], dr2: []},\n",
       " {ele_idx: [], gen_idx: [], dpt: [], dr2: []},\n",
       " {ele_idx: [], gen_idx: [], dpt: [], dr2: []}]\n",
       "------------------------------------------------------------------------\n",
       "type: 1120 * {\n",
       "    ele_idx: var * int64,\n",
       "    gen_idx: var * int64,\n",
       "    dpt: var * float32,\n",
       "    dr2: var * float32\n",
       "}</pre>"
      ],
      "text/plain": [
       "<Array [{ele_idx: [], gen_idx: [], ...}, ...] type='1120 * {ele_idx: var * ...'>"
      ]
     },
     "execution_count": 72,
     "metadata": {},
     "output_type": "execute_result"
    }
   ],
   "source": [
    "dr_match=match[match.dr2<0.01]\n",
    "dr_match"
   ]
  },
  {
   "cell_type": "code",
   "execution_count": 478,
   "metadata": {},
   "outputs": [
    {
     "data": {
      "text/html": [
       "<pre>[0,\n",
       " 1]\n",
       "---------------\n",
       "type: 2 * int64</pre>"
      ],
      "text/plain": [
       "<Array [0, 1] type='2 * int64'>"
      ]
     },
     "execution_count": 478,
     "metadata": {},
     "output_type": "execute_result"
    }
   ],
   "source": [
    "np.unique(ak.flatten(dr_match.gen_idx))"
   ]
  },
  {
   "cell_type": "code",
   "execution_count": 73,
   "metadata": {},
   "outputs": [
    {
     "data": {
      "text/html": [
       "<pre>[{ele_idx: [], gen_idx: [], dpt: [], dr2: []},\n",
       " {ele_idx: [1], gen_idx: [0], dpt: [0.428], dr2: [0.00141]},\n",
       " {ele_idx: [1], gen_idx: [0], dpt: [0.0895], dr2: [0.000133]},\n",
       " {ele_idx: [], gen_idx: [], dpt: [], dr2: []},\n",
       " {ele_idx: [], gen_idx: [], dpt: [], dr2: []},\n",
       " {ele_idx: [0], gen_idx: [0], dpt: [0.174], dr2: [0.000592]},\n",
       " {ele_idx: [], gen_idx: [], dpt: [], dr2: []},\n",
       " {ele_idx: [1], gen_idx: [0], dpt: [0.0716], dr2: [0.0018]},\n",
       " {ele_idx: [0], gen_idx: [0], dpt: [1.03], dr2: [0.00532]},\n",
       " {ele_idx: [0], gen_idx: [0], dpt: [2.45], dr2: [0.000565]},\n",
       " ...,\n",
       " {ele_idx: [0], gen_idx: [0], dpt: [2.29], dr2: [0.000255]},\n",
       " {ele_idx: [0], gen_idx: [0], dpt: [0.38], dr2: [0.000135]},\n",
       " {ele_idx: [0], gen_idx: [0], dpt: [0.827], dr2: [6.5e-05]},\n",
       " {ele_idx: [1], gen_idx: [0], dpt: [2.53], dr2: [0.000254]},\n",
       " {ele_idx: [0], gen_idx: [0], dpt: [6.45], dr2: [4.48e-05]},\n",
       " {ele_idx: [0], gen_idx: [0], dpt: [0.82], dr2: [0.000239]},\n",
       " {ele_idx: [], gen_idx: [], dpt: [], dr2: []},\n",
       " {ele_idx: [], gen_idx: [], dpt: [], dr2: []},\n",
       " {ele_idx: [], gen_idx: [], dpt: [], dr2: []}]\n",
       "--------------------------------------------------------------\n",
       "type: 1120 * {\n",
       "    ele_idx: var * int64,\n",
       "    gen_idx: var * int64,\n",
       "    dpt: var * float32,\n",
       "    dr2: var * float32\n",
       "}</pre>"
      ],
      "text/plain": [
       "<Array [{ele_idx: [], gen_idx: [], ...}, ...] type='1120 * {ele_idx: var * ...'>"
      ]
     },
     "execution_count": 73,
     "metadata": {},
     "output_type": "execute_result"
    }
   ],
   "source": [
    "gen_match_0 = dr_match[dr_match.gen_idx == 0]\n",
    "gen_match_0"
   ]
  },
  {
   "cell_type": "code",
   "execution_count": 480,
   "metadata": {},
   "outputs": [],
   "source": [
    "# gen_match_0['event'] = eventid.event"
   ]
  },
  {
   "cell_type": "code",
   "execution_count": 74,
   "metadata": {},
   "outputs": [
    {
     "data": {
      "text/html": [
       "<pre>[{ele_idx: [], gen_idx: [], dpt: [], dr2: []},\n",
       " {ele_idx: [1], gen_idx: [0], dpt: [0.428], dr2: [0.00141]},\n",
       " {ele_idx: [1], gen_idx: [0], dpt: [0.0895], dr2: [0.000133]},\n",
       " {ele_idx: [], gen_idx: [], dpt: [], dr2: []},\n",
       " {ele_idx: [], gen_idx: [], dpt: [], dr2: []},\n",
       " {ele_idx: [0], gen_idx: [0], dpt: [0.174], dr2: [0.000592]},\n",
       " {ele_idx: [], gen_idx: [], dpt: [], dr2: []},\n",
       " {ele_idx: [1], gen_idx: [0], dpt: [0.0716], dr2: [0.0018]},\n",
       " {ele_idx: [0], gen_idx: [0], dpt: [1.03], dr2: [0.00532]},\n",
       " {ele_idx: [0], gen_idx: [0], dpt: [2.45], dr2: [0.000565]},\n",
       " ...,\n",
       " {ele_idx: [0], gen_idx: [0], dpt: [2.29], dr2: [0.000255]},\n",
       " {ele_idx: [0], gen_idx: [0], dpt: [0.38], dr2: [0.000135]},\n",
       " {ele_idx: [0], gen_idx: [0], dpt: [0.827], dr2: [6.5e-05]},\n",
       " {ele_idx: [1], gen_idx: [0], dpt: [2.53], dr2: [0.000254]},\n",
       " {ele_idx: [0], gen_idx: [0], dpt: [6.45], dr2: [4.48e-05]},\n",
       " {ele_idx: [0], gen_idx: [0], dpt: [0.82], dr2: [0.000239]},\n",
       " {ele_idx: [], gen_idx: [], dpt: [], dr2: []},\n",
       " {ele_idx: [], gen_idx: [], dpt: [], dr2: []},\n",
       " {ele_idx: [], gen_idx: [], dpt: [], dr2: []}]\n",
       "--------------------------------------------------------------\n",
       "type: 1120 * {\n",
       "    ele_idx: var * int64,\n",
       "    gen_idx: var * int64,\n",
       "    dpt: var * float32,\n",
       "    dr2: var * float32\n",
       "}</pre>"
      ],
      "text/plain": [
       "<Array [{ele_idx: [], gen_idx: [], ...}, ...] type='1120 * {ele_idx: var * ...'>"
      ]
     },
     "execution_count": 74,
     "metadata": {},
     "output_type": "execute_result"
    }
   ],
   "source": [
    "gen_match_0"
   ]
  },
  {
   "cell_type": "code",
   "execution_count": 75,
   "metadata": {},
   "outputs": [
    {
     "data": {
      "text/html": [
       "<pre>[[None],\n",
       " [0],\n",
       " [0],\n",
       " [None],\n",
       " [None],\n",
       " [0],\n",
       " [None],\n",
       " [0],\n",
       " [0],\n",
       " [0],\n",
       " ...,\n",
       " [0],\n",
       " [0],\n",
       " [0],\n",
       " [0],\n",
       " [0],\n",
       " [0],\n",
       " [None],\n",
       " [None],\n",
       " [None]]\n",
       "-----------------------\n",
       "type: 1120 * 1 * ?int64</pre>"
      ],
      "text/plain": [
       "<Array [[None], [0], [0], ..., [None], [None], [None]] type='1120 * 1 * ?int64'>"
      ]
     },
     "execution_count": 75,
     "metadata": {},
     "output_type": "execute_result"
    }
   ],
   "source": [
    "dpt_min_index = ak.Array(ak.argmin(gen_match_0.dpt, axis=1, keepdims=True))\n",
    "dpt_min_index"
   ]
  },
  {
   "cell_type": "code",
   "execution_count": 76,
   "metadata": {},
   "outputs": [
    {
     "data": {
      "text/html": [
       "<pre>[{ele_idx: [None], gen_idx: [None], dpt: [None], dr2: [None]},\n",
       " {ele_idx: [1], gen_idx: [0], dpt: [0.428], dr2: [0.00141]},\n",
       " {ele_idx: [1], gen_idx: [0], dpt: [0.0895], dr2: [0.000133]},\n",
       " {ele_idx: [None], gen_idx: [None], dpt: [None], dr2: [None]},\n",
       " {ele_idx: [None], gen_idx: [None], dpt: [None], dr2: [None]},\n",
       " {ele_idx: [0], gen_idx: [0], dpt: [0.174], dr2: [0.000592]},\n",
       " {ele_idx: [None], gen_idx: [None], dpt: [None], dr2: [None]},\n",
       " {ele_idx: [1], gen_idx: [0], dpt: [0.0716], dr2: [0.0018]},\n",
       " {ele_idx: [0], gen_idx: [0], dpt: [1.03], dr2: [0.00532]},\n",
       " {ele_idx: [0], gen_idx: [0], dpt: [2.45], dr2: [0.000565]},\n",
       " ...,\n",
       " {ele_idx: [0], gen_idx: [0], dpt: [2.29], dr2: [0.000255]},\n",
       " {ele_idx: [0], gen_idx: [0], dpt: [0.38], dr2: [0.000135]},\n",
       " {ele_idx: [0], gen_idx: [0], dpt: [0.827], dr2: [6.5e-05]},\n",
       " {ele_idx: [1], gen_idx: [0], dpt: [2.53], dr2: [0.000254]},\n",
       " {ele_idx: [0], gen_idx: [0], dpt: [6.45], dr2: [4.48e-05]},\n",
       " {ele_idx: [0], gen_idx: [0], dpt: [0.82], dr2: [0.000239]},\n",
       " {ele_idx: [None], gen_idx: [None], dpt: [None], dr2: [None]},\n",
       " {ele_idx: [None], gen_idx: [None], dpt: [None], dr2: [None]},\n",
       " {ele_idx: [None], gen_idx: [None], dpt: [None], dr2: [None]}]\n",
       "--------------------------------------------------------------\n",
       "type: 1120 * {\n",
       "    ele_idx: var * ?int64,\n",
       "    gen_idx: var * ?int64,\n",
       "    dpt: var * ?float32,\n",
       "    dr2: var * ?float32\n",
       "}</pre>"
      ],
      "text/plain": [
       "<Array [{ele_idx: [None], ...}, ..., {...}] type='1120 * {ele_idx: var * ?i...'>"
      ]
     },
     "execution_count": 76,
     "metadata": {},
     "output_type": "execute_result"
    }
   ],
   "source": [
    "best_match_0 = gen_match_0[dpt_min_index]\n",
    "best_match_0"
   ]
  },
  {
   "cell_type": "code",
   "execution_count": 77,
   "metadata": {},
   "outputs": [
    {
     "data": {
      "text/html": [
       "<pre>[{pt: [None], eta: [None], phi: [None], mass: [None]},\n",
       " {pt: [68.5], eta: [0.00844], phi: [2], mass: [0]},\n",
       " {pt: [90.8], eta: [-1.39], phi: [2.85], mass: [0]},\n",
       " {pt: [None], eta: [None], phi: [None], mass: [None]},\n",
       " {pt: [None], eta: [None], phi: [None], mass: [None]},\n",
       " {pt: [81.2], eta: [-0.672], phi: [-1.44], mass: [0]},\n",
       " {pt: [None], eta: [None], phi: [None], mass: [None]},\n",
       " {pt: [22.8], eta: [1.95], phi: [3], mass: [0]},\n",
       " {pt: [22.5], eta: [-1.46], phi: [-2.96], mass: [0]},\n",
       " {pt: [92], eta: [-1.14], phi: [1.79], mass: [0]},\n",
       " ...,\n",
       " {pt: [50], eta: [2.09], phi: [2.19], mass: [0]},\n",
       " {pt: [65.5], eta: [-0.742], phi: [-1.74], mass: [0]},\n",
       " {pt: [77.8], eta: [0.986], phi: [1.46], mass: [0]},\n",
       " {pt: [63], eta: [-1.46], phi: [-1.02], mass: [0]},\n",
       " {pt: [104], eta: [2.02], phi: [-2.55], mass: [0]},\n",
       " {pt: [84.2], eta: [1.92], phi: [-0.821], mass: [0]},\n",
       " {pt: [None], eta: [None], phi: [None], mass: [None]},\n",
       " {pt: [None], eta: [None], phi: [None], mass: [None]},\n",
       " {pt: [None], eta: [None], phi: [None], mass: [None]}]\n",
       "------------------------------------------------------\n",
       "type: 1120 * {\n",
       "    pt: var * ?float32,\n",
       "    eta: var * ?float32,\n",
       "    phi: var * ?float32,\n",
       "    mass: var * ?float32\n",
       "}</pre>"
      ],
      "text/plain": [
       "<Array [{pt: [None], eta: [None], ...}, ...] type='1120 * {pt: var * ?float...'>"
      ]
     },
     "execution_count": 77,
     "metadata": {},
     "output_type": "execute_result"
    }
   ],
   "source": [
    "matched_ele = tkele[best_match_0.ele_idx]\n",
    "matched_ele"
   ]
  },
  {
   "cell_type": "code",
   "execution_count": 78,
   "metadata": {},
   "outputs": [
    {
     "data": {
      "text/html": [
       "<pre>[{pt: [None], eta: [None], phi: [None], pdgid: [None], daughters: [None]},\n",
       " {pt: [68.9], eta: [-0.0272], phi: [1.99], pdgid: [11], daughters: [[]]},\n",
       " {pt: [90.7], eta: [-1.38], phi: [2.84], pdgid: [11], daughters: [[]]},\n",
       " {pt: [None], eta: [None], phi: [None], pdgid: [None], daughters: [None]},\n",
       " {pt: [None], eta: [None], phi: [None], pdgid: [None], daughters: [None]},\n",
       " {pt: [81.4], eta: [-0.695], phi: [-1.45], pdgid: [11], daughters: [[]]},\n",
       " {pt: [None], eta: [None], phi: [None], pdgid: [None], daughters: [None]},\n",
       " {pt: [22.7], eta: [1.95], phi: [2.96], pdgid: [11], daughters: [[]]},\n",
       " {pt: [23.5], eta: [-1.45], phi: [-3.03], pdgid: [11], daughters: [[]]},\n",
       " {pt: [94.4], eta: [-1.17], phi: [1.79], pdgid: [11], daughters: [[]]},\n",
       " ...,\n",
       " {pt: [47.7], eta: [2.09], phi: [2.17], pdgid: [11], daughters: [[]]},\n",
       " {pt: [65.1], eta: [-0.748], phi: [-1.75], pdgid: [11], daughters: [[]]},\n",
       " {pt: [78.6], eta: [0.994], phi: [1.46], pdgid: [11], daughters: [[]]},\n",
       " {pt: [65.5], eta: [-1.45], phi: [-1.03], pdgid: [11], daughters: [[]]},\n",
       " {pt: [97.3], eta: [2.02], phi: [-2.55], pdgid: [11], daughters: [[]]},\n",
       " {pt: [85.1], eta: [1.93], phi: [-0.828], pdgid: [11], daughters: [[]]},\n",
       " {pt: [None], eta: [None], phi: [None], pdgid: [None], daughters: [None]},\n",
       " {pt: [None], eta: [None], phi: [None], pdgid: [None], daughters: [None]},\n",
       " {pt: [None], eta: [None], phi: [None], pdgid: [None], daughters: [None]}]\n",
       "--------------------------------------------------------------------------\n",
       "type: 1120 * {\n",
       "    pt: var * ?float32,\n",
       "    eta: var * ?float32,\n",
       "    phi: var * ?float32,\n",
       "    pdgid: var * ?int32,\n",
       "    daughters: var * option[var * int32]\n",
       "}</pre>"
      ],
      "text/plain": [
       "<Array [{pt: [None], eta: [None], ...}, ...] type='1120 * {pt: var * ?float...'>"
      ]
     },
     "execution_count": 78,
     "metadata": {},
     "output_type": "execute_result"
    }
   ],
   "source": [
    "matched_gen = gen[best_match_0.gen_idx]\n",
    "matched_gen"
   ]
  },
  {
   "cell_type": "code",
   "execution_count": 79,
   "metadata": {},
   "outputs": [
    {
     "data": {
      "text/html": [
       "<pre>[{ele_idx: [1, 2], gen_idx: [0, 0], dpt: [5.06, ...], dr2: [...]},\n",
       " {ele_idx: [0, 2], gen_idx: [0, 0], dpt: [5.1, 55.1], dr2: [...]},\n",
       " {ele_idx: [1, 2], gen_idx: [0, 0], dpt: [4.99, 66], dr2: [...]},\n",
       " {ele_idx: [1, 3], gen_idx: [0, 0], dpt: [6.34, ...], dr2: [...]},\n",
       " {ele_idx: [1, 2], gen_idx: [0, 0], dpt: [2.22, 75], dr2: [...]},\n",
       " {ele_idx: [1, 2], gen_idx: [0, 0], dpt: [10.1, ...], dr2: [...]},\n",
       " {ele_idx: [1, 2], gen_idx: [0, 0], dpt: [25.4, ...], dr2: [...]},\n",
       " {ele_idx: [0, 1], gen_idx: [0, 0], dpt: [4.62, ...], dr2: [...]},\n",
       " {ele_idx: [1, 2], gen_idx: [0, 0], dpt: [2.04, ...], dr2: [...]},\n",
       " {ele_idx: [1, 2], gen_idx: [0, 0], dpt: [5.22, ...], dr2: [...]},\n",
       " ...,\n",
       " {ele_idx: [0, 1], gen_idx: [0, 0], dpt: [4.74, ...], dr2: [...]},\n",
       " {ele_idx: [0, 3, 4], gen_idx: [0, 0, 0], dpt: [6.31, ...], dr2: [...]},\n",
       " {ele_idx: [1, 2], gen_idx: [0, 0], dpt: [2.16, ...], dr2: [...]},\n",
       " {ele_idx: [1, 2], gen_idx: [0, 0], dpt: [6.29, ...], dr2: [...]},\n",
       " {ele_idx: [0, 3], gen_idx: [0, 0], dpt: [6.46, 82], dr2: [...]},\n",
       " {ele_idx: [1, 2], gen_idx: [0, 0], dpt: [6.16, ...], dr2: [...]},\n",
       " {ele_idx: [0, 2], gen_idx: [0, 0], dpt: [3.83, ...], dr2: [...]},\n",
       " {ele_idx: [1, 2], gen_idx: [0, 0], dpt: [1.21, 55], dr2: [...]},\n",
       " {ele_idx: [1, 2], gen_idx: [0, 0], dpt: [3.44, ...], dr2: [...]}]\n",
       "------------------------------------------------------------------------\n",
       "type: 30 * {\n",
       "    ele_idx: var * int64,\n",
       "    gen_idx: var * int64,\n",
       "    dpt: var * float32,\n",
       "    dr2: var * float32\n",
       "}</pre>"
      ],
      "text/plain": [
       "<Array [{ele_idx: [1, ...], ...}, ..., {...}] type='30 * {ele_idx: var * in...'>"
      ]
     },
     "execution_count": 79,
     "metadata": {},
     "output_type": "execute_result"
    }
   ],
   "source": [
    "gen_match_0_multi = gen_match_0[ak.count(gen_match_0.gen_idx, axis=1) > 1]\n",
    "gen_match_0_multi"
   ]
  },
  {
   "cell_type": "code",
   "execution_count": 80,
   "metadata": {},
   "outputs": [
    {
     "data": {
      "text/html": [
       "<pre>{ele_idx: [1, 2],\n",
       " gen_idx: [0, 0],\n",
       " dpt: [5.06, 95.8],\n",
       " dr2: [0.000144, 0.00501]}\n",
       "--------------------------\n",
       "type: {\n",
       "    ele_idx: var * int64,\n",
       "    gen_idx: var * int64,\n",
       "    dpt: var * float32,\n",
       "    dr2: var * float32\n",
       "}</pre>"
      ],
      "text/plain": [
       "<Record {ele_idx: [1, 2], gen_idx: [...], ...} type='{ele_idx: var * int64,...'>"
      ]
     },
     "execution_count": 80,
     "metadata": {},
     "output_type": "execute_result"
    }
   ],
   "source": [
    "gen_match_0_multi[0]"
   ]
  },
  {
   "cell_type": "code",
   "execution_count": 83,
   "metadata": {},
   "outputs": [
    {
     "data": {
      "text/html": [
       "<pre>[2,\n",
       " 2,\n",
       " 2,\n",
       " 2,\n",
       " 2,\n",
       " 2,\n",
       " 2,\n",
       " 2,\n",
       " 2,\n",
       " 2,\n",
       " ...,\n",
       " 2,\n",
       " 3,\n",
       " 2,\n",
       " 2,\n",
       " 2,\n",
       " 2,\n",
       " 2,\n",
       " 2,\n",
       " 2]\n",
       "----------------\n",
       "type: 30 * int64</pre>"
      ],
      "text/plain": [
       "<Array [2, 2, 2, 2, 2, 2, 2, 2, ..., 3, 2, 2, 2, 2, 2, 2, 2] type='30 * int64'>"
      ]
     },
     "execution_count": 83,
     "metadata": {},
     "output_type": "execute_result"
    }
   ],
   "source": [
    "ak.num(gen_match_0_multi.ele_idx)"
   ]
  },
  {
   "cell_type": "code",
   "execution_count": 84,
   "metadata": {},
   "outputs": [
    {
     "data": {
      "text/html": [
       "<pre>[[1, 2],\n",
       " [0, 2],\n",
       " [1, 2],\n",
       " [1, 3],\n",
       " [1, 2],\n",
       " [1, 2],\n",
       " [1, 2],\n",
       " [0, 1],\n",
       " [1, 2],\n",
       " [1, 2],\n",
       " ...,\n",
       " [0, 1],\n",
       " [0, 3, 4],\n",
       " [1, 2],\n",
       " [1, 2],\n",
       " [0, 3],\n",
       " [1, 2],\n",
       " [0, 2],\n",
       " [1, 2],\n",
       " [1, 2]]\n",
       "----------------------\n",
       "type: 30 * var * int64</pre>"
      ],
      "text/plain": [
       "<Array [[1, 2], [0, 2], [1, ...], ..., [1, 2], [1, 2]] type='30 * var * int64'>"
      ]
     },
     "execution_count": 84,
     "metadata": {},
     "output_type": "execute_result"
    }
   ],
   "source": [
    "gen_match_0_multi.ele_idx"
   ]
  },
  {
   "cell_type": "code",
   "execution_count": 85,
   "metadata": {},
   "outputs": [
    {
     "data": {
      "text/html": [
       "<pre>[[0, 1],\n",
       " [0, 1],\n",
       " [0, 1],\n",
       " [0, 1],\n",
       " [0, 1],\n",
       " [0, 1],\n",
       " [0, 1],\n",
       " [0, 1],\n",
       " [0, 1],\n",
       " [0, 1],\n",
       " ...,\n",
       " [0, 1],\n",
       " [0, 1, 2],\n",
       " [0, 1],\n",
       " [0, 1],\n",
       " [0, 1],\n",
       " [0, 1],\n",
       " [0, 1],\n",
       " [0, 1],\n",
       " [0, 1]]\n",
       "----------------------\n",
       "type: 30 * var * int64</pre>"
      ],
      "text/plain": [
       "<Array [[0, 1], [0, 1], [0, ...], ..., [0, 1], [0, 1]] type='30 * var * int64'>"
      ]
     },
     "execution_count": 85,
     "metadata": {},
     "output_type": "execute_result"
    }
   ],
   "source": [
    "ak.local_index(gen_match_0_multi.ele_idx)"
   ]
  },
  {
   "cell_type": "code",
   "execution_count": 86,
   "metadata": {},
   "outputs": [
    {
     "data": {
      "text/html": [
       "<pre>[[0],\n",
       " [0],\n",
       " [0],\n",
       " [0],\n",
       " [0],\n",
       " [0],\n",
       " [0],\n",
       " [0],\n",
       " [0],\n",
       " [0],\n",
       " ...,\n",
       " [0],\n",
       " [0],\n",
       " [0],\n",
       " [0],\n",
       " [0],\n",
       " [0],\n",
       " [0],\n",
       " [0],\n",
       " [0]]\n",
       "---------------------\n",
       "type: 30 * 1 * ?int64</pre>"
      ],
      "text/plain": [
       "<Array [[0], [0], [0], [0], ..., [0], [0], [0], [0]] type='30 * 1 * ?int64'>"
      ]
     },
     "execution_count": 86,
     "metadata": {},
     "output_type": "execute_result"
    }
   ],
   "source": [
    "filter_index = ak.Array(ak.argmin(gen_match_0_multi.dpt, axis=1, keepdims=True))\n",
    "filter_index"
   ]
  },
  {
   "cell_type": "code",
   "execution_count": 87,
   "metadata": {},
   "outputs": [
    {
     "name": "stdout",
     "output_type": "stream",
     "text": [
      "30 * var * int64\n"
     ]
    }
   ],
   "source": [
    "gen_match_0_multi.ele_idx.type.show()"
   ]
  },
  {
   "cell_type": "code",
   "execution_count": 88,
   "metadata": {},
   "outputs": [
    {
     "name": "stdout",
     "output_type": "stream",
     "text": [
      "30 * var * int64\n"
     ]
    }
   ],
   "source": [
    "index = ak.local_index(gen_match_0_multi.ele_idx).type.show()"
   ]
  },
  {
   "cell_type": "code",
   "execution_count": 89,
   "metadata": {},
   "outputs": [
    {
     "data": {
      "text/html": [
       "<pre>[{ele_idx: [1], gen_idx: [0], dpt: [5.06], dr2: [0.000144]},\n",
       " {ele_idx: [0], gen_idx: [0], dpt: [5.1], dr2: [0.00214]},\n",
       " {ele_idx: [1], gen_idx: [0], dpt: [4.99], dr2: [0.000102]},\n",
       " {ele_idx: [1], gen_idx: [0], dpt: [6.34], dr2: [0.00132]},\n",
       " {ele_idx: [1], gen_idx: [0], dpt: [2.22], dr2: [0.00051]},\n",
       " {ele_idx: [1], gen_idx: [0], dpt: [10.1], dr2: [0.00151]},\n",
       " {ele_idx: [1], gen_idx: [0], dpt: [25.4], dr2: [0.000121]},\n",
       " {ele_idx: [0], gen_idx: [0], dpt: [4.62], dr2: [0.000273]},\n",
       " {ele_idx: [1], gen_idx: [0], dpt: [2.04], dr2: [0.00191]},\n",
       " {ele_idx: [1], gen_idx: [0], dpt: [5.22], dr2: [0.000514]},\n",
       " ...,\n",
       " {ele_idx: [0], gen_idx: [0], dpt: [4.74], dr2: [0.000277]},\n",
       " {ele_idx: [0], gen_idx: [0], dpt: [6.31], dr2: [7.7e-05]},\n",
       " {ele_idx: [1], gen_idx: [0], dpt: [2.16], dr2: [0.00123]},\n",
       " {ele_idx: [1], gen_idx: [0], dpt: [6.29], dr2: [0.00211]},\n",
       " {ele_idx: [0], gen_idx: [0], dpt: [6.46], dr2: [0.000651]},\n",
       " {ele_idx: [1], gen_idx: [0], dpt: [6.16], dr2: [4.37e-05]},\n",
       " {ele_idx: [0], gen_idx: [0], dpt: [3.83], dr2: [0.000568]},\n",
       " {ele_idx: [1], gen_idx: [0], dpt: [1.21], dr2: [0.000503]},\n",
       " {ele_idx: [1], gen_idx: [0], dpt: [3.44], dr2: [0.000281]}]\n",
       "------------------------------------------------------------\n",
       "type: 30 * {\n",
       "    ele_idx: var * ?int64,\n",
       "    gen_idx: var * ?int64,\n",
       "    dpt: var * ?float32,\n",
       "    dr2: var * ?float32\n",
       "}</pre>"
      ],
      "text/plain": [
       "<Array [{ele_idx: [1], gen_idx: [0], ...}, ...] type='30 * {ele_idx: var * ...'>"
      ]
     },
     "execution_count": 89,
     "metadata": {},
     "output_type": "execute_result"
    }
   ],
   "source": [
    "gen_match_0_multi[filter_index]"
   ]
  },
  {
   "cell_type": "code",
   "execution_count": 90,
   "metadata": {},
   "outputs": [
    {
     "ename": "NameError",
     "evalue": "name 'sel_0' is not defined",
     "output_type": "error",
     "traceback": [
      "\u001b[0;31m---------------------------------------------------------------------------\u001b[0m",
      "\u001b[0;31mNameError\u001b[0m                                 Traceback (most recent call last)",
      "\u001b[1;32m/Users/cerminar/Workspace/hgcal-analysis/py3/ak/ntuple-tools/plot-drawing-tools/eventloop-uproot-ak.ipynb Cell 91\u001b[0m line \u001b[0;36m1\n\u001b[0;32m----> <a href='vscode-notebook-cell:/Users/cerminar/Workspace/hgcal-analysis/py3/ak/ntuple-tools/plot-drawing-tools/eventloop-uproot-ak.ipynb#Y162sZmlsZQ%3D%3D?line=0'>1</a>\u001b[0m sel_0[ak\u001b[39m.\u001b[39margmax(sel_0\u001b[39m.\u001b[39mdpt, axis\u001b[39m=\u001b[39m\u001b[39m1\u001b[39m)]\n",
      "\u001b[0;31mNameError\u001b[0m: name 'sel_0' is not defined"
     ]
    }
   ],
   "source": [
    "sel_0[ak.argmax(sel_0.dpt, axis=1)]"
   ]
  },
  {
   "cell_type": "code",
   "execution_count": 91,
   "metadata": {},
   "outputs": [
    {
     "ename": "NameError",
     "evalue": "name 'sel_match' is not defined",
     "output_type": "error",
     "traceback": [
      "\u001b[0;31m---------------------------------------------------------------------------\u001b[0m",
      "\u001b[0;31mNameError\u001b[0m                                 Traceback (most recent call last)",
      "\u001b[1;32m/Users/cerminar/Workspace/hgcal-analysis/py3/ak/ntuple-tools/plot-drawing-tools/eventloop-uproot-ak.ipynb Cell 92\u001b[0m line \u001b[0;36m1\n\u001b[0;32m----> <a href='vscode-notebook-cell:/Users/cerminar/Workspace/hgcal-analysis/py3/ak/ntuple-tools/plot-drawing-tools/eventloop-uproot-ak.ipynb#Y163sZmlsZQ%3D%3D?line=0'>1</a>\u001b[0m gen[sel_match[sel_match\u001b[39m.\u001b[39mgen_idx \u001b[39m==\u001b[39m \u001b[39m1\u001b[39m \u001b[39m&\u001b[39m ak\u001b[39m.\u001b[39margmax(sel_match\u001b[39m.\u001b[39mdpt, axis\u001b[39m=\u001b[39m\u001b[39m1\u001b[39m)]\u001b[39m.\u001b[39mgen_idx]\n",
      "\u001b[0;31mNameError\u001b[0m: name 'sel_match' is not defined"
     ]
    }
   ],
   "source": [
    "gen[sel_match[sel_match.gen_idx == 1 & ak.argmax(sel_match.dpt, axis=1)].gen_idx]"
   ]
  },
  {
   "cell_type": "code",
   "execution_count": 265,
   "metadata": {},
   "outputs": [
    {
     "data": {
      "text/html": [
       "<pre>[None,\n",
       " {pt: [69], eta: [0.0437], phi: [-1.18]},\n",
       " {pt: [90.8], eta: [-1.39], phi: [2.85]},\n",
       " {pt: [], eta: [], phi: []},\n",
       " {pt: [], eta: [], phi: []},\n",
       " {pt: [81.2], eta: [-0.672], phi: [-1.44]},\n",
       " {pt: [], eta: [], phi: []},\n",
       " {pt: [22.8], eta: [1.95], phi: [3]},\n",
       " {pt: [22.5], eta: [-1.46], phi: [-2.96]},\n",
       " {pt: [92], eta: [-1.14], phi: [1.79]},\n",
       " ...,\n",
       " {pt: [50], eta: [2.09], phi: [2.19]},\n",
       " {pt: [65.5], eta: [-0.742], phi: [-1.74]},\n",
       " {pt: [74], eta: [-1], phi: [-1.7]},\n",
       " {pt: [68.2], eta: [1.44], phi: [2.1]},\n",
       " {pt: [96], eta: [-2.02], phi: [0.581]},\n",
       " {pt: [80.2], eta: [-1.95], phi: [2.31]},\n",
       " None,\n",
       " None,\n",
       " None]\n",
       "-------------------------------------------\n",
       "type: 1120 * ?{\n",
       "    pt: var * float32,\n",
       "    eta: var * float32,\n",
       "    phi: var * float32\n",
       "}</pre>"
      ],
      "text/plain": [
       "<Array [None, {pt: [69], ...}, ..., None, None] type='1120 * ?{pt: var * fl...'>"
      ]
     },
     "execution_count": 265,
     "metadata": {},
     "output_type": "execute_result"
    }
   ],
   "source": [
    "tkele[sel_match[sel_match.gen_idx == 1 & ak.argmax(sel_match.dpt, axis=1)].ele_idx]"
   ]
  },
  {
   "cell_type": "code",
   "execution_count": 92,
   "metadata": {},
   "outputs": [
    {
     "ename": "NameError",
     "evalue": "name 'sel_match' is not defined",
     "output_type": "error",
     "traceback": [
      "\u001b[0;31m---------------------------------------------------------------------------\u001b[0m",
      "\u001b[0;31mNameError\u001b[0m                                 Traceback (most recent call last)",
      "\u001b[1;32m/Users/cerminar/Workspace/hgcal-analysis/py3/ak/ntuple-tools/plot-drawing-tools/eventloop-uproot-ak.ipynb Cell 94\u001b[0m line \u001b[0;36m1\n\u001b[0;32m----> <a href='vscode-notebook-cell:/Users/cerminar/Workspace/hgcal-analysis/py3/ak/ntuple-tools/plot-drawing-tools/eventloop-uproot-ak.ipynb#Y165sZmlsZQ%3D%3D?line=0'>1</a>\u001b[0m ak\u001b[39m.\u001b[39mflatten(sel_match[sel_match\u001b[39m.\u001b[39mgen_idx \u001b[39m==\u001b[39m \u001b[39m0\u001b[39m]\u001b[39m.\u001b[39mgen_idx)\n",
      "\u001b[0;31mNameError\u001b[0m: name 'sel_match' is not defined"
     ]
    }
   ],
   "source": [
    "ak.flatten(sel_match[sel_match.gen_idx == 0].gen_idx)"
   ]
  },
  {
   "cell_type": "code",
   "execution_count": 93,
   "metadata": {},
   "outputs": [
    {
     "ename": "NameError",
     "evalue": "name 'sel_match' is not defined",
     "output_type": "error",
     "traceback": [
      "\u001b[0;31m---------------------------------------------------------------------------\u001b[0m",
      "\u001b[0;31mNameError\u001b[0m                                 Traceback (most recent call last)",
      "\u001b[1;32m/Users/cerminar/Workspace/hgcal-analysis/py3/ak/ntuple-tools/plot-drawing-tools/eventloop-uproot-ak.ipynb Cell 95\u001b[0m line \u001b[0;36m1\n\u001b[0;32m----> <a href='vscode-notebook-cell:/Users/cerminar/Workspace/hgcal-analysis/py3/ak/ntuple-tools/plot-drawing-tools/eventloop-uproot-ak.ipynb#Y166sZmlsZQ%3D%3D?line=0'>1</a>\u001b[0m sel_match_0 \u001b[39m=\u001b[39m sel_match[sel_match\u001b[39m.\u001b[39mgen_idx \u001b[39m==\u001b[39m \u001b[39m0\u001b[39m]\n",
      "\u001b[0;31mNameError\u001b[0m: name 'sel_match' is not defined"
     ]
    }
   ],
   "source": [
    "sel_match_0 = sel_match[sel_match.gen_idx == 0]"
   ]
  },
  {
   "cell_type": "code",
   "execution_count": 94,
   "metadata": {},
   "outputs": [
    {
     "ename": "NameError",
     "evalue": "name 'sel_match_0' is not defined",
     "output_type": "error",
     "traceback": [
      "\u001b[0;31m---------------------------------------------------------------------------\u001b[0m",
      "\u001b[0;31mNameError\u001b[0m                                 Traceback (most recent call last)",
      "\u001b[1;32m/Users/cerminar/Workspace/hgcal-analysis/py3/ak/ntuple-tools/plot-drawing-tools/eventloop-uproot-ak.ipynb Cell 96\u001b[0m line \u001b[0;36m1\n\u001b[0;32m----> <a href='vscode-notebook-cell:/Users/cerminar/Workspace/hgcal-analysis/py3/ak/ntuple-tools/plot-drawing-tools/eventloop-uproot-ak.ipynb#Y200sZmlsZQ%3D%3D?line=0'>1</a>\u001b[0m sel_multi \u001b[39m=\u001b[39m sel_match_0[ak\u001b[39m.\u001b[39mcount(sel_match_0\u001b[39m.\u001b[39mgen_idx, axis\u001b[39m=\u001b[39m\u001b[39m1\u001b[39m) \u001b[39m>\u001b[39m \u001b[39m1\u001b[39m]\n\u001b[1;32m      <a href='vscode-notebook-cell:/Users/cerminar/Workspace/hgcal-analysis/py3/ak/ntuple-tools/plot-drawing-tools/eventloop-uproot-ak.ipynb#Y200sZmlsZQ%3D%3D?line=1'>2</a>\u001b[0m sel_multi\n",
      "\u001b[0;31mNameError\u001b[0m: name 'sel_match_0' is not defined"
     ]
    }
   ],
   "source": [
    "sel_multi = sel_match_0[ak.count(sel_match_0.gen_idx, axis=1) > 1]\n",
    "sel_multi"
   ]
  },
  {
   "cell_type": "code",
   "execution_count": 77,
   "metadata": {},
   "outputs": [
    {
     "data": {
      "text/plain": [
       "dask.awkward<with-field, npartitions=1>"
      ]
     },
     "execution_count": 77,
     "metadata": {},
     "output_type": "execute_result"
    }
   ],
   "source": [
    "tkele"
   ]
  },
  {
   "cell_type": "code",
   "execution_count": 258,
   "metadata": {},
   "outputs": [
    {
     "data": {
      "text/html": [
       "<pre>[0,\n",
       " 0,\n",
       " 0,\n",
       " 0,\n",
       " 0,\n",
       " 1,\n",
       " 0,\n",
       " 0,\n",
       " 0,\n",
       " 1,\n",
       " ...,\n",
       " 0,\n",
       " 0,\n",
       " 0,\n",
       " 0,\n",
       " 0,\n",
       " 0,\n",
       " 0,\n",
       " 0,\n",
       " 0]\n",
       "-----------------\n",
       "type: 30 * ?int64</pre>"
      ],
      "text/plain": [
       "<Array [0, 0, 0, 0, 0, 1, 0, 0, ..., 0, 0, 0, 0, 0, 0, 0, 0] type='30 * ?int64'>"
      ]
     },
     "execution_count": 258,
     "metadata": {},
     "output_type": "execute_result"
    }
   ],
   "source": [
    "minidx = ak.argmin(sel_multi.dpt, axis=1)\n",
    "minidx"
   ]
  },
  {
   "cell_type": "code",
   "execution_count": 255,
   "metadata": {},
   "outputs": [
    {
     "data": {
      "text/html": [
       "<pre>[{ele_idx: [1, 2], dpt: [0.012, 0.012], gen_idx: [0, 0]},\n",
       " {ele_idx: [0, 2], dpt: [0.0439, 0.0439], gen_idx: [0, 0]},\n",
       " {ele_idx: [1, 2], dpt: [0.00381, 0.00381], gen_idx: [0, ...]},\n",
       " {ele_idx: [1, 3], dpt: [0.0277, 0.0277], gen_idx: [0, 0]},\n",
       " {ele_idx: [1, 2], dpt: [0.0209, 0.0209], gen_idx: [0, 0]},\n",
       " {ele_idx: [1, 2], dpt: [0.0321, 0.00237], gen_idx: [0, 0]},\n",
       " {ele_idx: [1, 2], dpt: [0.00521, 0.00521], gen_idx: [0, ...]},\n",
       " {ele_idx: [0, 1], dpt: [0.0128, 0.0128], gen_idx: [0, 0]},\n",
       " {ele_idx: [1, 2], dpt: [0.0429, 0.0429], gen_idx: [0, 0]},\n",
       " {ele_idx: [1, 2], dpt: [0.0221, 0.00444], gen_idx: [0, 0]},\n",
       " ...,\n",
       " {ele_idx: [0, 1], dpt: [0.0164, 0.0164], gen_idx: [0, 0]},\n",
       " {ele_idx: [0, 3, 4], dpt: [0.00732, ..., 0.0418], gen_idx: [...]},\n",
       " {ele_idx: [1, 2], dpt: [0.0342, 0.0342], gen_idx: [0, 0]},\n",
       " {ele_idx: [1, 2], dpt: [0.0152, 0.0152], gen_idx: [0, 0]},\n",
       " {ele_idx: [0, 3], dpt: [0.0255, 0.0255], gen_idx: [0, 0]},\n",
       " {ele_idx: [1, 2], dpt: [0.00525, 0.00525], gen_idx: [0, ...]},\n",
       " {ele_idx: [0, 2], dpt: [0.0231, 0.0231], gen_idx: [0, 0]},\n",
       " {ele_idx: [1, 2], dpt: [0.0181, 0.0181], gen_idx: [0, 0]},\n",
       " {ele_idx: [1, 2], dpt: [0.00997, 0.0245], gen_idx: [0, 0]}]\n",
       "-------------------------------------------------------------------\n",
       "type: 30 * {\n",
       "    ele_idx: var * int64,\n",
       "    dpt: var * float32,\n",
       "    gen_idx: var * int64\n",
       "}</pre>"
      ],
      "text/plain": [
       "<Array [{ele_idx: [1, ...], ...}, ..., {...}] type='30 * {ele_idx: var * in...'>"
      ]
     },
     "execution_count": 255,
     "metadata": {},
     "output_type": "execute_result"
    }
   ],
   "source": [
    "sel_multi[['ele_idx', 'dpt', 'gen_idx']]"
   ]
  },
  {
   "cell_type": "code",
   "execution_count": 176,
   "metadata": {},
   "outputs": [],
   "source": [
    "gen['gen_match'] = sel_match.gen_idx"
   ]
  },
  {
   "cell_type": "code",
   "execution_count": 261,
   "metadata": {},
   "outputs": [
    {
     "data": {
      "text/html": [
       "<pre>[{pt: [], eta: [], phi: [], pdgid: [], gen_match: []},\n",
       " {pt: [68.9], eta: [-0.0272], phi: [1.99], pdgid: [11], gen_match: [1]},\n",
       " {pt: [90.7], eta: [-1.38], phi: [2.84], pdgid: [11], gen_match: [1]},\n",
       " {pt: [], eta: [], phi: [], pdgid: [], gen_match: []},\n",
       " {pt: [], eta: [], phi: [], pdgid: [], gen_match: []},\n",
       " {pt: [81.4], eta: [-0.695], phi: [-1.45], pdgid: [11], gen_match: [0]},\n",
       " {pt: [], eta: [], phi: [], pdgid: [], gen_match: []},\n",
       " {pt: [22.7], eta: [1.95], phi: [2.96], pdgid: [11], gen_match: [1]},\n",
       " {pt: [23.5], eta: [-1.45], phi: [-3.03], pdgid: [11], gen_match: [0]},\n",
       " {pt: [94.4], eta: [-1.17], phi: [1.79], pdgid: [11], gen_match: [0]},\n",
       " ...,\n",
       " {pt: [47.7], eta: [2.09], phi: [2.17], pdgid: [11], gen_match: [0]},\n",
       " {pt: [65.1], eta: [-0.748], phi: [-1.75], pdgid: [11], gen_match: [0]},\n",
       " {pt: [78.6], eta: [0.994], phi: [1.46], pdgid: [11], gen_match: [0]},\n",
       " {pt: [65.5], eta: [-1.45], phi: [-1.03], pdgid: [11], gen_match: [1]},\n",
       " {pt: [97.3], eta: [2.02], phi: [-2.55], pdgid: [11], gen_match: [0]},\n",
       " {pt: [85.1], eta: [1.93], phi: [-0.828], pdgid: [11], gen_match: [0]},\n",
       " {pt: [], eta: [], phi: [], pdgid: [], gen_match: []},\n",
       " {pt: [], eta: [], phi: [], pdgid: [], gen_match: []},\n",
       " {pt: [], eta: [], phi: [], pdgid: [], gen_match: []}]\n",
       "------------------------------------------------------------------------\n",
       "type: 1120 * {\n",
       "    pt: var * float32,\n",
       "    eta: var * float32,\n",
       "    phi: var * float32,\n",
       "    pdgid: var * int32,\n",
       "    gen_match: var * int64\n",
       "}</pre>"
      ],
      "text/plain": [
       "<Array [{pt: [], eta: [], phi: [], ...}, ...] type='1120 * {pt: var * float...'>"
      ]
     },
     "execution_count": 261,
     "metadata": {},
     "output_type": "execute_result"
    }
   ],
   "source": [
    "gen[gen.gen_match[gen.gen_match == 0]]"
   ]
  },
  {
   "cell_type": "code",
   "execution_count": 262,
   "metadata": {},
   "outputs": [
    {
     "data": {
      "text/html": [
       "<pre>{pt: [68.9, 68.9],\n",
       " eta: [-0.0272, 0.0272],\n",
       " phi: [1.99, -1.16],\n",
       " pdgid: [11, -11],\n",
       " gen_match: [1, 0]}\n",
       "--------------------------\n",
       "type: {\n",
       "    pt: var * float32,\n",
       "    eta: var * float32,\n",
       "    phi: var * float32,\n",
       "    pdgid: var * int32,\n",
       "    gen_match: var * int64\n",
       "}</pre>"
      ],
      "text/plain": [
       "<Record {pt: [68.9, ...], eta: [...], ...} type='{pt: var * float32, eta: v...'>"
      ]
     },
     "execution_count": 262,
     "metadata": {},
     "output_type": "execute_result"
    }
   ],
   "source": [
    "gen[1]"
   ]
  },
  {
   "cell_type": "code",
   "execution_count": null,
   "metadata": {},
   "outputs": [],
   "source": []
  },
  {
   "cell_type": "code",
   "execution_count": 259,
   "metadata": {},
   "outputs": [],
   "source": [
    "gen_filtered = gen[ak.where(ak.count(sel_match[sel_match.gen_idx == 0].gen_idx>0, axis=1))]"
   ]
  },
  {
   "cell_type": "code",
   "execution_count": 260,
   "metadata": {},
   "outputs": [
    {
     "data": {
      "text/html": [
       "<pre>[{pt: [68.9, 68.9], eta: [-0.0272, 0.0272], phi: [1.99, ...], pdgid: ..., ...},\n",
       " {pt: [90.7, 90.7], eta: [-1.38, 1.38], phi: [2.84, ...], pdgid: [...], ...},\n",
       " {pt: [81.4, 81.4], eta: [-0.695, 0.695], phi: [-1.45, ...], pdgid: [...], ...},\n",
       " {pt: [22.7, 22.7], eta: [1.95, -1.95], phi: [2.96, ...], pdgid: [...], ...},\n",
       " {pt: [23.5, 23.5], eta: [-1.45, 1.45], phi: [-3.03, ...], pdgid: [...], ...},\n",
       " {pt: [94.4, 94.4], eta: [-1.17, 1.17], phi: [1.79, ...], pdgid: [...], ...},\n",
       " {pt: [13.9, 13.9], eta: [-2.06, 2.06], phi: [3.08, ...], pdgid: [...], ...},\n",
       " {pt: [61, 61], eta: [-0.879, 0.879], phi: [-0.735, ...], pdgid: [...], ...},\n",
       " {pt: [79.7, 79.7], eta: [-2.22, 2.22], phi: [-0.8, ...], pdgid: [...], ...},\n",
       " {pt: [30, 30], eta: [-0.561, 0.561], phi: [0.165, ...], pdgid: [...], ...},\n",
       " ...,\n",
       " {pt: [75.7, 75.7], eta: [1.42, -1.42], phi: [-1.01, ...], pdgid: [...], ...},\n",
       " {pt: [69.2, 69.2], eta: [1.63, -1.63], phi: [-1.44, ...], pdgid: [...], ...},\n",
       " {pt: [33.7, 33.7], eta: [-0.442, 0.442], phi: [-2.85, ...], pdgid: [...], ...},\n",
       " {pt: [47.7, 47.7], eta: [2.09, -2.09], phi: [2.17, ...], pdgid: [...], ...},\n",
       " {pt: [65.1, 65.1], eta: [-0.748, 0.748], phi: [-1.75, ...], pdgid: [...], ...},\n",
       " {pt: [78.6, 78.6], eta: [0.994, -0.994], phi: [1.46, ...], pdgid: [...], ...},\n",
       " {pt: [65.5, 65.5], eta: [-1.45, 1.45], phi: [-1.03, ...], pdgid: [...], ...},\n",
       " {pt: [97.3, 97.3], eta: [2.02, -2.02], phi: [-2.55, ...], pdgid: [...], ...},\n",
       " {pt: [85.1, 85.1], eta: [1.93, -1.93], phi: [-0.828, ...], pdgid: [...], ...}]\n",
       "--------------------------------------------------------------------------------\n",
       "type: 701 * {\n",
       "    pt: var * float32,\n",
       "    eta: var * float32,\n",
       "    phi: var * float32,\n",
       "    pdgid: var * int32,\n",
       "    gen_match: var * int64\n",
       "}</pre>"
      ],
      "text/plain": [
       "<Array [{pt: [68.9, ...], eta: ..., ...}, ...] type='701 * {pt: var * float...'>"
      ]
     },
     "execution_count": 260,
     "metadata": {},
     "output_type": "execute_result"
    }
   ],
   "source": [
    "gen_filtered"
   ]
  },
  {
   "cell_type": "code",
   "execution_count": 172,
   "metadata": {},
   "outputs": [
    {
     "data": {
      "text/html": [
       "<pre>[0,\n",
       " 1]\n",
       "---------------\n",
       "type: 2 * int64</pre>"
      ],
      "text/plain": [
       "<Array [0, 1] type='2 * int64'>"
      ]
     },
     "execution_count": 172,
     "metadata": {},
     "output_type": "execute_result"
    }
   ],
   "source": [
    "np.unique(ak.flatten(sel_match.gen_idx))"
   ]
  },
  {
   "cell_type": "code",
   "execution_count": 169,
   "metadata": {},
   "outputs": [
    {
     "data": {
      "text/html": [
       "<pre>{pt: [8.55, 8.55],\n",
       " eta: [0.82, -0.82],\n",
       " phi: [1.95, -1.2],\n",
       " pdgid: [11, -11]}\n",
       "-----------------------\n",
       "type: {\n",
       "    pt: var * float32,\n",
       "    eta: var * float32,\n",
       "    phi: var * float32,\n",
       "    pdgid: var * int32\n",
       "}</pre>"
      ],
      "text/plain": [
       "<Record {pt: [8.55, ...], eta: [...], ...} type='{pt: var * float32, eta: v...'>"
      ]
     },
     "execution_count": 169,
     "metadata": {},
     "output_type": "execute_result"
    }
   ],
   "source": [
    "gen[0, ]"
   ]
  },
  {
   "cell_type": "code",
   "execution_count": 173,
   "metadata": {},
   "outputs": [
    {
     "ename": "IndexError",
     "evalue": "cannot slice ListArray (of length 1120) with [999   0   0 ... 999 999 999]: index out of range while attempting to get index 999 (in compiled code: https://github.com/scikit-hep/awkward/blob/awkward-cpp-15/awkward-cpp/src/cpu-kernels/awkward_ListArray_getitem_next_array.cpp#L32)\n\nThis error occurred while attempting to slice\n\n    <Array [{pt: [...], eta: [...], ...}, ...] type='1120 * {pt: var * floa...'>\n\nwith\n\n    (:, <Array [999, 0, 0, 999, 999, 0, ..., 0, 0, 999, 999, 999] type='1152 * int64'>)",
     "output_type": "error",
     "traceback": [
      "\u001b[0;31m---------------------------------------------------------------------------\u001b[0m",
      "\u001b[0;31mIndexError\u001b[0m                                Traceback (most recent call last)",
      "File \u001b[0;32m~/.virtualenvs/pandas2/lib/python3.10/site-packages/awkward/highlevel.py:948\u001b[0m, in \u001b[0;36mArray.__getitem__\u001b[0;34m(self, where)\u001b[0m\n\u001b[1;32m    947\u001b[0m \u001b[38;5;28;01mwith\u001b[39;00m ak\u001b[38;5;241m.\u001b[39m_errors\u001b[38;5;241m.\u001b[39mSlicingErrorContext(\u001b[38;5;28mself\u001b[39m, where):\n\u001b[0;32m--> 948\u001b[0m     out \u001b[38;5;241m=\u001b[39m \u001b[38;5;28;43mself\u001b[39;49m\u001b[38;5;241;43m.\u001b[39;49m\u001b[43m_layout\u001b[49m\u001b[43m[\u001b[49m\u001b[43mwhere\u001b[49m\u001b[43m]\u001b[49m\n\u001b[1;32m    949\u001b[0m     \u001b[38;5;28;01mif\u001b[39;00m \u001b[38;5;28misinstance\u001b[39m(out, ak\u001b[38;5;241m.\u001b[39mcontents\u001b[38;5;241m.\u001b[39mNumpyArray):\n",
      "File \u001b[0;32m~/.virtualenvs/pandas2/lib/python3.10/site-packages/awkward/contents/content.py:536\u001b[0m, in \u001b[0;36mContent.__getitem__\u001b[0;34m(self, where)\u001b[0m\n\u001b[1;32m    535\u001b[0m \u001b[38;5;28;01mdef\u001b[39;00m \u001b[38;5;21m__getitem__\u001b[39m(\u001b[38;5;28mself\u001b[39m, where):\n\u001b[0;32m--> 536\u001b[0m     \u001b[38;5;28;01mreturn\u001b[39;00m \u001b[38;5;28;43mself\u001b[39;49m\u001b[38;5;241;43m.\u001b[39;49m\u001b[43m_getitem\u001b[49m\u001b[43m(\u001b[49m\u001b[43mwhere\u001b[49m\u001b[43m)\u001b[49m\n",
      "File \u001b[0;32m~/.virtualenvs/pandas2/lib/python3.10/site-packages/awkward/contents/content.py:581\u001b[0m, in \u001b[0;36mContent._getitem\u001b[0;34m(self, where)\u001b[0m\n\u001b[1;32m    574\u001b[0m \u001b[38;5;28mnext\u001b[39m \u001b[38;5;241m=\u001b[39m ak\u001b[38;5;241m.\u001b[39mcontents\u001b[38;5;241m.\u001b[39mRegularArray(\n\u001b[1;32m    575\u001b[0m     this,\n\u001b[1;32m    576\u001b[0m     this\u001b[38;5;241m.\u001b[39mlength,\n\u001b[1;32m    577\u001b[0m     \u001b[38;5;241m1\u001b[39m,\n\u001b[1;32m    578\u001b[0m     parameters\u001b[38;5;241m=\u001b[39m\u001b[38;5;28;01mNone\u001b[39;00m,\n\u001b[1;32m    579\u001b[0m )\n\u001b[0;32m--> 581\u001b[0m out \u001b[38;5;241m=\u001b[39m \u001b[38;5;28;43mnext\u001b[39;49m\u001b[38;5;241;43m.\u001b[39;49m\u001b[43m_getitem_next\u001b[49m\u001b[43m(\u001b[49m\u001b[43mnextwhere\u001b[49m\u001b[43m[\u001b[49m\u001b[38;5;241;43m0\u001b[39;49m\u001b[43m]\u001b[49m\u001b[43m,\u001b[49m\u001b[43m \u001b[49m\u001b[43mnextwhere\u001b[49m\u001b[43m[\u001b[49m\u001b[38;5;241;43m1\u001b[39;49m\u001b[43m:\u001b[49m\u001b[43m]\u001b[49m\u001b[43m,\u001b[49m\u001b[43m \u001b[49m\u001b[38;5;28;43;01mNone\u001b[39;49;00m\u001b[43m)\u001b[49m\n\u001b[1;32m    583\u001b[0m \u001b[38;5;28;01mif\u001b[39;00m out\u001b[38;5;241m.\u001b[39mlength \u001b[38;5;129;01mis\u001b[39;00m \u001b[38;5;129;01mnot\u001b[39;00m unknown_length \u001b[38;5;129;01mand\u001b[39;00m out\u001b[38;5;241m.\u001b[39mlength \u001b[38;5;241m==\u001b[39m \u001b[38;5;241m0\u001b[39m:\n",
      "File \u001b[0;32m~/.virtualenvs/pandas2/lib/python3.10/site-packages/awkward/contents/regulararray.py:509\u001b[0m, in \u001b[0;36mRegularArray._getitem_next\u001b[0;34m(self, head, tail, advanced)\u001b[0m\n\u001b[1;32m    505\u001b[0m \u001b[38;5;28;01mif\u001b[39;00m advanced \u001b[38;5;129;01mis\u001b[39;00m \u001b[38;5;28;01mNone\u001b[39;00m \u001b[38;5;129;01mor\u001b[39;00m (\n\u001b[1;32m    506\u001b[0m     advanced\u001b[38;5;241m.\u001b[39mlength \u001b[38;5;129;01mis\u001b[39;00m \u001b[38;5;129;01mnot\u001b[39;00m unknown_length \u001b[38;5;129;01mand\u001b[39;00m advanced\u001b[38;5;241m.\u001b[39mlength \u001b[38;5;241m==\u001b[39m \u001b[38;5;241m0\u001b[39m\n\u001b[1;32m    507\u001b[0m ):\n\u001b[1;32m    508\u001b[0m     \u001b[38;5;28;01mreturn\u001b[39;00m RegularArray(\n\u001b[0;32m--> 509\u001b[0m         \u001b[43mnextcontent\u001b[49m\u001b[38;5;241;43m.\u001b[39;49m\u001b[43m_getitem_next\u001b[49m\u001b[43m(\u001b[49m\u001b[43mnexthead\u001b[49m\u001b[43m,\u001b[49m\u001b[43m \u001b[49m\u001b[43mnexttail\u001b[49m\u001b[43m,\u001b[49m\u001b[43m \u001b[49m\u001b[43madvanced\u001b[49m\u001b[43m)\u001b[49m,\n\u001b[1;32m    510\u001b[0m         nextsize,\n\u001b[1;32m    511\u001b[0m         \u001b[38;5;28mself\u001b[39m\u001b[38;5;241m.\u001b[39m_length,\n\u001b[1;32m    512\u001b[0m         parameters\u001b[38;5;241m=\u001b[39m\u001b[38;5;28mself\u001b[39m\u001b[38;5;241m.\u001b[39m_parameters,\n\u001b[1;32m    513\u001b[0m     )\n\u001b[1;32m    514\u001b[0m \u001b[38;5;28;01melse\u001b[39;00m:\n",
      "File \u001b[0;32m~/.virtualenvs/pandas2/lib/python3.10/site-packages/awkward/contents/indexedarray.py:388\u001b[0m, in \u001b[0;36mIndexedArray._getitem_next\u001b[0;34m(self, head, tail, advanced)\u001b[0m\n\u001b[1;32m    387\u001b[0m     \u001b[38;5;28mnext\u001b[39m \u001b[38;5;241m=\u001b[39m \u001b[38;5;28mself\u001b[39m\u001b[38;5;241m.\u001b[39m_content\u001b[38;5;241m.\u001b[39m_carry(nextcarry, \u001b[38;5;28;01mFalse\u001b[39;00m)\n\u001b[0;32m--> 388\u001b[0m     \u001b[38;5;28;01mreturn\u001b[39;00m \u001b[38;5;28;43mnext\u001b[39;49m\u001b[38;5;241;43m.\u001b[39;49m\u001b[43m_getitem_next\u001b[49m\u001b[43m(\u001b[49m\u001b[43mhead\u001b[49m\u001b[43m,\u001b[49m\u001b[43m \u001b[49m\u001b[43mtail\u001b[49m\u001b[43m,\u001b[49m\u001b[43m \u001b[49m\u001b[43madvanced\u001b[49m\u001b[43m)\u001b[49m\n\u001b[1;32m    390\u001b[0m \u001b[38;5;28;01melif\u001b[39;00m \u001b[38;5;28misinstance\u001b[39m(head, \u001b[38;5;28mstr\u001b[39m):\n",
      "File \u001b[0;32m~/.virtualenvs/pandas2/lib/python3.10/site-packages/awkward/contents/recordarray.py:572\u001b[0m, in \u001b[0;36mRecordArray._getitem_next\u001b[0;34m(self, head, tail, advanced)\u001b[0m\n\u001b[1;32m    571\u001b[0m \u001b[38;5;28;01mfor\u001b[39;00m i \u001b[38;5;129;01min\u001b[39;00m \u001b[38;5;28mrange\u001b[39m(\u001b[38;5;28mlen\u001b[39m(\u001b[38;5;28mself\u001b[39m\u001b[38;5;241m.\u001b[39m_contents)):\n\u001b[0;32m--> 572\u001b[0m     contents\u001b[38;5;241m.\u001b[39mappend(\u001b[38;5;28;43mself\u001b[39;49m\u001b[38;5;241;43m.\u001b[39;49m\u001b[43mcontent\u001b[49m\u001b[43m(\u001b[49m\u001b[43mi\u001b[49m\u001b[43m)\u001b[49m\u001b[38;5;241;43m.\u001b[39;49m\u001b[43m_getitem_next\u001b[49m\u001b[43m(\u001b[49m\u001b[43mhead\u001b[49m\u001b[43m,\u001b[49m\u001b[43m \u001b[49m\u001b[43m(\u001b[49m\u001b[43m)\u001b[49m\u001b[43m,\u001b[49m\u001b[43m \u001b[49m\u001b[43madvanced\u001b[49m\u001b[43m)\u001b[49m)\n\u001b[1;32m    574\u001b[0m parameters \u001b[38;5;241m=\u001b[39m \u001b[38;5;28;01mNone\u001b[39;00m\n",
      "File \u001b[0;32m~/.virtualenvs/pandas2/lib/python3.10/site-packages/awkward/contents/listarray.py:872\u001b[0m, in \u001b[0;36mListArray._getitem_next\u001b[0;34m(self, head, tail, advanced)\u001b[0m\n\u001b[1;32m    865\u001b[0m \u001b[38;5;28;01massert\u001b[39;00m (\n\u001b[1;32m    866\u001b[0m     nextcarry\u001b[38;5;241m.\u001b[39mnplike \u001b[38;5;129;01mis\u001b[39;00m \u001b[38;5;28mself\u001b[39m\u001b[38;5;241m.\u001b[39m_backend\u001b[38;5;241m.\u001b[39mindex_nplike\n\u001b[1;32m    867\u001b[0m     \u001b[38;5;129;01mand\u001b[39;00m nextadvanced\u001b[38;5;241m.\u001b[39mnplike \u001b[38;5;129;01mis\u001b[39;00m \u001b[38;5;28mself\u001b[39m\u001b[38;5;241m.\u001b[39m_backend\u001b[38;5;241m.\u001b[39mindex_nplike\n\u001b[0;32m   (...)\u001b[0m\n\u001b[1;32m    870\u001b[0m     \u001b[38;5;129;01mand\u001b[39;00m regular_flathead\u001b[38;5;241m.\u001b[39mnplike \u001b[38;5;129;01mis\u001b[39;00m \u001b[38;5;28mself\u001b[39m\u001b[38;5;241m.\u001b[39m_backend\u001b[38;5;241m.\u001b[39mindex_nplike\n\u001b[1;32m    871\u001b[0m )\n\u001b[0;32m--> 872\u001b[0m \u001b[38;5;28;43mself\u001b[39;49m\u001b[38;5;241;43m.\u001b[39;49m\u001b[43m_handle_error\u001b[49m\u001b[43m(\u001b[49m\n\u001b[1;32m    873\u001b[0m \u001b[43m    \u001b[49m\u001b[38;5;28;43mself\u001b[39;49m\u001b[38;5;241;43m.\u001b[39;49m\u001b[43m_backend\u001b[49m\u001b[43m[\u001b[49m\n\u001b[1;32m    874\u001b[0m \u001b[43m        \u001b[49m\u001b[38;5;124;43m\"\u001b[39;49m\u001b[38;5;124;43mawkward_ListArray_getitem_next_array\u001b[39;49m\u001b[38;5;124;43m\"\u001b[39;49m\u001b[43m,\u001b[49m\n\u001b[1;32m    875\u001b[0m \u001b[43m        \u001b[49m\u001b[43mnextcarry\u001b[49m\u001b[38;5;241;43m.\u001b[39;49m\u001b[43mdtype\u001b[49m\u001b[38;5;241;43m.\u001b[39;49m\u001b[43mtype\u001b[49m\u001b[43m,\u001b[49m\n\u001b[1;32m    876\u001b[0m \u001b[43m        \u001b[49m\u001b[43mnextadvanced\u001b[49m\u001b[38;5;241;43m.\u001b[39;49m\u001b[43mdtype\u001b[49m\u001b[38;5;241;43m.\u001b[39;49m\u001b[43mtype\u001b[49m\u001b[43m,\u001b[49m\n\u001b[1;32m    877\u001b[0m \u001b[43m        \u001b[49m\u001b[38;5;28;43mself\u001b[39;49m\u001b[38;5;241;43m.\u001b[39;49m\u001b[43m_starts\u001b[49m\u001b[38;5;241;43m.\u001b[39;49m\u001b[43mdtype\u001b[49m\u001b[38;5;241;43m.\u001b[39;49m\u001b[43mtype\u001b[49m\u001b[43m,\u001b[49m\n\u001b[1;32m    878\u001b[0m \u001b[43m        \u001b[49m\u001b[38;5;28;43mself\u001b[39;49m\u001b[38;5;241;43m.\u001b[39;49m\u001b[43m_stops\u001b[49m\u001b[38;5;241;43m.\u001b[39;49m\u001b[43mdtype\u001b[49m\u001b[38;5;241;43m.\u001b[39;49m\u001b[43mtype\u001b[49m\u001b[43m,\u001b[49m\n\u001b[1;32m    879\u001b[0m \u001b[43m        \u001b[49m\u001b[43mregular_flathead\u001b[49m\u001b[38;5;241;43m.\u001b[39;49m\u001b[43mdtype\u001b[49m\u001b[38;5;241;43m.\u001b[39;49m\u001b[43mtype\u001b[49m\u001b[43m,\u001b[49m\n\u001b[1;32m    880\u001b[0m \u001b[43m    \u001b[49m\u001b[43m]\u001b[49m\u001b[43m(\u001b[49m\n\u001b[1;32m    881\u001b[0m \u001b[43m        \u001b[49m\u001b[43mnextcarry\u001b[49m\u001b[38;5;241;43m.\u001b[39;49m\u001b[43mdata\u001b[49m\u001b[43m,\u001b[49m\n\u001b[1;32m    882\u001b[0m \u001b[43m        \u001b[49m\u001b[43mnextadvanced\u001b[49m\u001b[38;5;241;43m.\u001b[39;49m\u001b[43mdata\u001b[49m\u001b[43m,\u001b[49m\n\u001b[1;32m    883\u001b[0m \u001b[43m        \u001b[49m\u001b[38;5;28;43mself\u001b[39;49m\u001b[38;5;241;43m.\u001b[39;49m\u001b[43m_starts\u001b[49m\u001b[38;5;241;43m.\u001b[39;49m\u001b[43mdata\u001b[49m\u001b[43m,\u001b[49m\n\u001b[1;32m    884\u001b[0m \u001b[43m        \u001b[49m\u001b[38;5;28;43mself\u001b[39;49m\u001b[38;5;241;43m.\u001b[39;49m\u001b[43m_stops\u001b[49m\u001b[38;5;241;43m.\u001b[39;49m\u001b[43mdata\u001b[49m\u001b[43m,\u001b[49m\n\u001b[1;32m    885\u001b[0m \u001b[43m        \u001b[49m\u001b[43mregular_flathead\u001b[49m\u001b[38;5;241;43m.\u001b[39;49m\u001b[43mdata\u001b[49m\u001b[43m,\u001b[49m\n\u001b[1;32m    886\u001b[0m \u001b[43m        \u001b[49m\u001b[43mlenstarts\u001b[49m\u001b[43m,\u001b[49m\n\u001b[1;32m    887\u001b[0m \u001b[43m        \u001b[49m\u001b[43mregular_flathead\u001b[49m\u001b[38;5;241;43m.\u001b[39;49m\u001b[43mlength\u001b[49m\u001b[43m,\u001b[49m\n\u001b[1;32m    888\u001b[0m \u001b[43m        \u001b[49m\u001b[38;5;28;43mself\u001b[39;49m\u001b[38;5;241;43m.\u001b[39;49m\u001b[43m_content\u001b[49m\u001b[38;5;241;43m.\u001b[39;49m\u001b[43mlength\u001b[49m\u001b[43m,\u001b[49m\n\u001b[1;32m    889\u001b[0m \u001b[43m    \u001b[49m\u001b[43m)\u001b[49m\u001b[43m,\u001b[49m\n\u001b[1;32m    890\u001b[0m \u001b[43m    \u001b[49m\u001b[43mslicer\u001b[49m\u001b[38;5;241;43m=\u001b[39;49m\u001b[43mhead\u001b[49m\u001b[43m,\u001b[49m\n\u001b[1;32m    891\u001b[0m \u001b[43m\u001b[49m\u001b[43m)\u001b[49m\n\u001b[1;32m    892\u001b[0m nextcontent \u001b[38;5;241m=\u001b[39m \u001b[38;5;28mself\u001b[39m\u001b[38;5;241m.\u001b[39m_content\u001b[38;5;241m.\u001b[39m_carry(nextcarry, \u001b[38;5;28;01mTrue\u001b[39;00m)\n",
      "File \u001b[0;32m~/.virtualenvs/pandas2/lib/python3.10/site-packages/awkward/contents/content.py:280\u001b[0m, in \u001b[0;36mContent._handle_error\u001b[0;34m(self, error, slicer)\u001b[0m\n\u001b[1;32m    279\u001b[0m \u001b[38;5;28;01melse\u001b[39;00m:\n\u001b[0;32m--> 280\u001b[0m     \u001b[38;5;28;01mraise\u001b[39;00m ak\u001b[38;5;241m.\u001b[39m_errors\u001b[38;5;241m.\u001b[39mindex_error(\u001b[38;5;28mself\u001b[39m, slicer, message)\n",
      "\u001b[0;31mIndexError\u001b[0m: cannot slice ListArray (of length 1120) with [999   0   0 ... 999 999 999]: index out of range while attempting to get index 999 (in compiled code: https://github.com/scikit-hep/awkward/blob/awkward-cpp-15/awkward-cpp/src/cpu-kernels/awkward_ListArray_getitem_next_array.cpp#L32)",
      "\nThe above exception was the direct cause of the following exception:\n",
      "\u001b[0;31mIndexError\u001b[0m                                Traceback (most recent call last)",
      "Cell \u001b[0;32mIn[173], line 1\u001b[0m\n\u001b[0;32m----> 1\u001b[0m \u001b[43mgen\u001b[49m\u001b[43m[\u001b[49m\u001b[43m:\u001b[49m\u001b[43m,\u001b[49m\u001b[43m \u001b[49m\u001b[43mak\u001b[49m\u001b[38;5;241;43m.\u001b[39;49m\u001b[43mflatten\u001b[49m\u001b[43m(\u001b[49m\u001b[43mgen_idx_def\u001b[49m\u001b[43m)\u001b[49m\u001b[43m]\u001b[49m[\u001b[38;5;241m0\u001b[39m]\n",
      "File \u001b[0;32m~/.virtualenvs/pandas2/lib/python3.10/site-packages/awkward/highlevel.py:947\u001b[0m, in \u001b[0;36mArray.__getitem__\u001b[0;34m(self, where)\u001b[0m\n\u001b[1;32m    518\u001b[0m \u001b[38;5;28;01mdef\u001b[39;00m \u001b[38;5;21m__getitem__\u001b[39m(\u001b[38;5;28mself\u001b[39m, where):\n\u001b[1;32m    519\u001b[0m \u001b[38;5;250m    \u001b[39m\u001b[38;5;124;03m\"\"\"\u001b[39;00m\n\u001b[1;32m    520\u001b[0m \u001b[38;5;124;03m    Args:\u001b[39;00m\n\u001b[1;32m    521\u001b[0m \u001b[38;5;124;03m        where (many types supported; see below): Index of positions to\u001b[39;00m\n\u001b[0;32m   (...)\u001b[0m\n\u001b[1;32m    945\u001b[0m \u001b[38;5;124;03m    have the same dimension as the array being indexed.\u001b[39;00m\n\u001b[1;32m    946\u001b[0m \u001b[38;5;124;03m    \"\"\"\u001b[39;00m\n\u001b[0;32m--> 947\u001b[0m     \u001b[38;5;28;01mwith\u001b[39;00m ak\u001b[38;5;241m.\u001b[39m_errors\u001b[38;5;241m.\u001b[39mSlicingErrorContext(\u001b[38;5;28mself\u001b[39m, where):\n\u001b[1;32m    948\u001b[0m         out \u001b[38;5;241m=\u001b[39m \u001b[38;5;28mself\u001b[39m\u001b[38;5;241m.\u001b[39m_layout[where]\n\u001b[1;32m    949\u001b[0m         \u001b[38;5;28;01mif\u001b[39;00m \u001b[38;5;28misinstance\u001b[39m(out, ak\u001b[38;5;241m.\u001b[39mcontents\u001b[38;5;241m.\u001b[39mNumpyArray):\n",
      "File \u001b[0;32m~/.virtualenvs/pandas2/lib/python3.10/site-packages/awkward/_errors.py:56\u001b[0m, in \u001b[0;36mErrorContext.__exit__\u001b[0;34m(self, exception_type, exception_value, traceback)\u001b[0m\n\u001b[1;32m     53\u001b[0m \u001b[38;5;28;01mtry\u001b[39;00m:\n\u001b[1;32m     54\u001b[0m     \u001b[38;5;66;03m# Handle caught exception\u001b[39;00m\n\u001b[1;32m     55\u001b[0m     \u001b[38;5;28;01mif\u001b[39;00m exception_type \u001b[38;5;129;01mis\u001b[39;00m \u001b[38;5;129;01mnot\u001b[39;00m \u001b[38;5;28;01mNone\u001b[39;00m \u001b[38;5;129;01mand\u001b[39;00m \u001b[38;5;28mself\u001b[39m\u001b[38;5;241m.\u001b[39mprimary() \u001b[38;5;129;01mis\u001b[39;00m \u001b[38;5;28mself\u001b[39m:\n\u001b[0;32m---> 56\u001b[0m         \u001b[38;5;28;43mself\u001b[39;49m\u001b[38;5;241;43m.\u001b[39;49m\u001b[43mhandle_exception\u001b[49m\u001b[43m(\u001b[49m\u001b[43mexception_type\u001b[49m\u001b[43m,\u001b[49m\u001b[43m \u001b[49m\u001b[43mexception_value\u001b[49m\u001b[43m)\u001b[49m\n\u001b[1;32m     57\u001b[0m \u001b[38;5;28;01mfinally\u001b[39;00m:\n\u001b[1;32m     58\u001b[0m     \u001b[38;5;66;03m# `_kwargs` may hold cyclic references, that we really want to avoid\u001b[39;00m\n\u001b[1;32m     59\u001b[0m     \u001b[38;5;66;03m# as this can lead to large buffers remaining in memory for longer than absolutely necessary\u001b[39;00m\n\u001b[1;32m     60\u001b[0m     \u001b[38;5;66;03m# Let's just clear this, now.\u001b[39;00m\n\u001b[1;32m     61\u001b[0m     \u001b[38;5;28mself\u001b[39m\u001b[38;5;241m.\u001b[39m_kwargs\u001b[38;5;241m.\u001b[39mclear()\n",
      "File \u001b[0;32m~/.virtualenvs/pandas2/lib/python3.10/site-packages/awkward/_errors.py:71\u001b[0m, in \u001b[0;36mErrorContext.handle_exception\u001b[0;34m(self, cls, exception)\u001b[0m\n\u001b[1;32m     69\u001b[0m     \u001b[38;5;28mself\u001b[39m\u001b[38;5;241m.\u001b[39mdecorate_exception(\u001b[38;5;28mcls\u001b[39m, exception)\n\u001b[1;32m     70\u001b[0m \u001b[38;5;28;01melse\u001b[39;00m:\n\u001b[0;32m---> 71\u001b[0m     \u001b[38;5;28;01mraise\u001b[39;00m \u001b[38;5;28mself\u001b[39m\u001b[38;5;241m.\u001b[39mdecorate_exception(\u001b[38;5;28mcls\u001b[39m, exception)\n",
      "\u001b[0;31mIndexError\u001b[0m: cannot slice ListArray (of length 1120) with [999   0   0 ... 999 999 999]: index out of range while attempting to get index 999 (in compiled code: https://github.com/scikit-hep/awkward/blob/awkward-cpp-15/awkward-cpp/src/cpu-kernels/awkward_ListArray_getitem_next_array.cpp#L32)\n\nThis error occurred while attempting to slice\n\n    <Array [{pt: [...], eta: [...], ...}, ...] type='1120 * {pt: var * floa...'>\n\nwith\n\n    (:, <Array [999, 0, 0, 999, 999, 0, ..., 0, 0, 999, 999, 999] type='1152 * int64'>)"
     ]
    }
   ],
   "source": [
    "\n",
    "gen[:, ak.flatten(gen_idx_def)][0]"
   ]
  },
  {
   "cell_type": "code",
   "execution_count": null,
   "metadata": {},
   "outputs": [],
   "source": []
  },
  {
   "cell_type": "code",
   "execution_count": 98,
   "metadata": {},
   "outputs": [
    {
     "data": {
      "text/html": [
       "<pre>{pt: [69, 68.5, 5],\n",
       " eta: [0.0437, 0.00844, -1.14],\n",
       " phi: [-1.18, 2, -2.64]}\n",
       "-------------------------------\n",
       "type: {\n",
       "    pt: var * float32,\n",
       "    eta: var * float32,\n",
       "    phi: var * float32\n",
       "}</pre>"
      ],
      "text/plain": [
       "<Record {pt: [69, ..., 5], eta: [...], ...} type='{pt: var * float32, eta: ...'>"
      ]
     },
     "execution_count": 98,
     "metadata": {},
     "output_type": "execute_result"
    }
   ],
   "source": [
    "tkele[['pt', 'eta', 'phi'], 1]"
   ]
  },
  {
   "cell_type": "markdown",
   "metadata": {},
   "source": [
    "## Basic awkward-array functionality"
   ]
  },
  {
   "cell_type": "code",
   "execution_count": 99,
   "metadata": {},
   "outputs": [
    {
     "data": {
      "text/plain": [
       "array([[0, 0, 0, 0, 0, 0],\n",
       "       [1, 1, 1, 1, 1, 1],\n",
       "       [2, 2, 2, 2, 2, 2],\n",
       "       [3, 3, 3, 3, 3, 3],\n",
       "       [4, 4, 4, 4, 4, 4]])"
      ]
     },
     "execution_count": 99,
     "metadata": {},
     "output_type": "execute_result"
    }
   ],
   "source": [
    "x, y = np.mgrid[0:5, 2:8]\n",
    "x"
   ]
  },
  {
   "cell_type": "code",
   "execution_count": 100,
   "metadata": {},
   "outputs": [
    {
     "data": {
      "text/plain": [
       "array([[2, 3, 4, 5, 6, 7],\n",
       "       [2, 3, 4, 5, 6, 7],\n",
       "       [2, 3, 4, 5, 6, 7],\n",
       "       [2, 3, 4, 5, 6, 7],\n",
       "       [2, 3, 4, 5, 6, 7]])"
      ]
     },
     "execution_count": 100,
     "metadata": {},
     "output_type": "execute_result"
    }
   ],
   "source": [
    "y"
   ]
  },
  {
   "cell_type": "code",
   "execution_count": 101,
   "metadata": {},
   "outputs": [
    {
     "data": {
      "text/plain": [
       "array([0, 0, 0, 0, 0, 0, 1, 1, 1, 1, 1, 1, 2, 2, 2, 2, 2, 2, 3, 3, 3, 3,\n",
       "       3, 3, 4, 4, 4, 4, 4, 4])"
      ]
     },
     "execution_count": 101,
     "metadata": {},
     "output_type": "execute_result"
    }
   ],
   "source": [
    "x.ravel()"
   ]
  },
  {
   "cell_type": "code",
   "execution_count": 102,
   "metadata": {},
   "outputs": [
    {
     "data": {
      "text/html": [
       "<pre>{eta: [0.0437, 0.00844, -1.14],\n",
       " phi: [-1.18, 2, -2.64]}\n",
       "-------------------------------\n",
       "type: {\n",
       "    eta: var * float32,\n",
       "    phi: var * float32\n",
       "}</pre>"
      ],
      "text/plain": [
       "<Record {eta: [0.0437, ...], phi: [...]} type='{eta: var * float32, phi: va...'>"
      ]
     },
     "execution_count": 102,
     "metadata": {},
     "output_type": "execute_result"
    }
   ],
   "source": [
    "tkele[['eta', 'phi'], 1]"
   ]
  },
  {
   "cell_type": "markdown",
   "metadata": {},
   "source": [
    "# Convert tree to awkward-array using the ntuple-tools framework"
   ]
  },
  {
   "cell_type": "code",
   "execution_count": 103,
   "metadata": {},
   "outputs": [],
   "source": [
    "import python.collections as coll\n",
    "import python.tree_reader as tr"
   ]
  },
  {
   "cell_type": "code",
   "execution_count": 17,
   "metadata": {},
   "outputs": [],
   "source": [
    "# for batch in events.iterate(step_size=\"50 kB\"):\n",
    "\n",
    "#     print(repr(batch))"
   ]
  },
  {
   "cell_type": "code",
   "execution_count": 104,
   "metadata": {},
   "outputs": [],
   "source": [
    "reader = tr.TreeReader((0,1000),1000)"
   ]
  },
  {
   "cell_type": "code",
   "execution_count": 105,
   "metadata": {},
   "outputs": [
    {
     "name": "stdout",
     "output_type": "stream",
     "text": [
      "open new tree file with # entries: 1120\n",
      "--- File entry: 0, global entry: 0, tot # events: 0 @ 2023-09-25 15:11:37.222214, MaxRSS 484.85 Mb\n"
     ]
    },
    {
     "data": {
      "text/plain": [
       "True"
      ]
     },
     "execution_count": 105,
     "metadata": {},
     "output_type": "execute_result"
    }
   ],
   "source": [
    "reader.setTree(tree)\n",
    "reader.next()"
   ]
  },
  {
   "cell_type": "code",
   "execution_count": 106,
   "metadata": {},
   "outputs": [],
   "source": [
    "TkEleEE = reader.getDataFrame('TkEleEE', 100)"
   ]
  },
  {
   "cell_type": "code",
   "execution_count": 107,
   "metadata": {},
   "outputs": [
    {
     "data": {
      "text/html": [
       "<pre>[{pt: [], energy: [], eta: [], phi: [], hwQual: [], tkIso: [], pfIso: [], ...},\n",
       " {pt: [], energy: [], eta: [], phi: [], hwQual: [], tkIso: [], pfIso: [], ...},\n",
       " {pt: [10.8], energy: [32.5], eta: [-1.77], phi: [-0.825], hwQual: [1], ...},\n",
       " {pt: [], energy: [], eta: [], phi: [], hwQual: [], tkIso: [], pfIso: [], ...},\n",
       " {pt: [], energy: [], eta: [], phi: [], hwQual: [], tkIso: [], pfIso: [], ...},\n",
       " {pt: [], energy: [], eta: [], phi: [], hwQual: [], tkIso: [], pfIso: [], ...},\n",
       " {pt: [], energy: [], eta: [], phi: [], hwQual: [], tkIso: [], pfIso: [], ...},\n",
       " {pt: [24.2, 22.8], energy: [87.7, 81.6], eta: [-1.96, ...], phi: [...], ...},\n",
       " {pt: [], energy: [], eta: [], phi: [], hwQual: [], tkIso: [], pfIso: [], ...},\n",
       " {pt: [], energy: [], eta: [], phi: [], hwQual: [], tkIso: [], pfIso: [], ...},\n",
       " ...,\n",
       " {pt: [67.5, 64.2], energy: [169, 159], eta: [-1.57, ...], phi: [...], ...},\n",
       " {pt: [61, 58.2], energy: [227, 226], eta: [-1.99, ...], phi: [...], ...},\n",
       " {pt: [], energy: [], eta: [], phi: [], hwQual: [], tkIso: [], pfIso: [], ...},\n",
       " {pt: [], energy: [], eta: [], phi: [], hwQual: [], tkIso: [], pfIso: [], ...},\n",
       " {pt: [32, 22.2], energy: [121, 85], eta: [-2, 2.02], phi: [...], ...},\n",
       " {pt: [], energy: [], eta: [], phi: [], hwQual: [], tkIso: [], pfIso: [], ...},\n",
       " {pt: [], energy: [], eta: [], phi: [], hwQual: [], tkIso: [], pfIso: [], ...},\n",
       " {pt: [11], energy: [30.4], eta: [-1.68], phi: [2.11], hwQual: [1], ...},\n",
       " {pt: [], energy: [], eta: [], phi: [], hwQual: [], tkIso: [], pfIso: [], ...}]\n",
       "-------------------------------------------------------------------------------\n",
       "type: 100 * {\n",
       "    pt: var * float32,\n",
       "    energy: var * float32,\n",
       "    eta: var * float32,\n",
       "    phi: var * float32,\n",
       "    hwQual: var * float32,\n",
       "    tkIso: var * float32,\n",
       "    pfIso: var * float32,\n",
       "    puppiIso: var * float32,\n",
       "    tkChi2: var * float32,\n",
       "    tkPt: var * float32,\n",
       "    tkZ0: var * float32,\n",
       "    compBDTScore: var * float32\n",
       "}</pre>"
      ],
      "text/plain": [
       "<Array [{pt: [], energy: [], ...}, ..., {...}] type='100 * {pt: var * float...'>"
      ]
     },
     "execution_count": 107,
     "metadata": {},
     "output_type": "execute_result"
    }
   ],
   "source": [
    "TkEleEE"
   ]
  },
  {
   "cell_type": "markdown",
   "metadata": {},
   "source": [
    "## Exercise basic functionality"
   ]
  },
  {
   "cell_type": "code",
   "execution_count": 108,
   "metadata": {},
   "outputs": [
    {
     "data": {
      "text/html": [
       "<pre>[None,\n",
       " None,\n",
       " 10.8,\n",
       " None,\n",
       " None,\n",
       " None,\n",
       " None,\n",
       " 24.2,\n",
       " None,\n",
       " None,\n",
       " ...,\n",
       " 67.5,\n",
       " 61,\n",
       " None,\n",
       " None,\n",
       " 32,\n",
       " None,\n",
       " None,\n",
       " 11,\n",
       " None]\n",
       "--------------------\n",
       "type: 100 * ?float32</pre>"
      ],
      "text/plain": [
       "<Array [None, None, 10.8, None, ..., None, 11, None] type='100 * ?float32'>"
      ]
     },
     "execution_count": 108,
     "metadata": {},
     "output_type": "execute_result"
    }
   ],
   "source": [
    "tkele_pt_max = ak.max(TkEleEE.pt, axis=1)\n",
    "tkele_pt_max"
   ]
  },
  {
   "cell_type": "code",
   "execution_count": 109,
   "metadata": {},
   "outputs": [
    {
     "data": {
      "text/plain": [
       "25"
      ]
     },
     "execution_count": 109,
     "metadata": {},
     "output_type": "execute_result"
    }
   ],
   "source": [
    "ak.sum(tkele_pt_max > 10)"
   ]
  },
  {
   "cell_type": "code",
   "execution_count": 110,
   "metadata": {},
   "outputs": [
    {
     "data": {
      "text/html": [
       "<pre>[10.8,\n",
       " 24.2,\n",
       " 13.2,\n",
       " 77.8,\n",
       " 81,\n",
       " 89.8,\n",
       " 82,\n",
       " 96.8,\n",
       " 5.75,\n",
       " 99.8,\n",
       " ...,\n",
       " 32.5,\n",
       " 45,\n",
       " 52.8,\n",
       " 50.2,\n",
       " 70.8,\n",
       " 67.5,\n",
       " 61,\n",
       " 32,\n",
       " 11]\n",
       "------------------\n",
       "type: 30 * float32</pre>"
      ],
      "text/plain": [
       "<Array [10.8, 24.2, 13.2, 77.8, 81, ..., 67.5, 61, 32, 11] type='30 * float32'>"
      ]
     },
     "execution_count": 110,
     "metadata": {},
     "output_type": "execute_result"
    }
   ],
   "source": [
    "tkele_pt_max  = ak.drop_none(tkele_pt_max)\n",
    "#tkele_pt_max = tkele_pt_max[ak.count(tkele_pt_max.pt, axis=1) > 0]\n",
    "tkele_pt_max"
   ]
  },
  {
   "cell_type": "code",
   "execution_count": 157,
   "metadata": {},
   "outputs": [
    {
     "data": {
      "text/html": [
       "<pre>[[],\n",
       " [],\n",
       " [1],\n",
       " [],\n",
       " [],\n",
       " [],\n",
       " [],\n",
       " [1, 3],\n",
       " [],\n",
       " [],\n",
       " ...,\n",
       " [3, 3],\n",
       " [3, 3],\n",
       " [],\n",
       " [],\n",
       " [3, 3],\n",
       " [],\n",
       " [],\n",
       " [1],\n",
       " []]\n",
       "-----------------------\n",
       "type: 100 * var * int32</pre>"
      ],
      "text/plain": [
       "<Array [[], [], [1], [], [], ..., [], [], [1], []] type='100 * var * int32'>"
      ]
     },
     "execution_count": 157,
     "metadata": {},
     "output_type": "execute_result"
    }
   ],
   "source": [
    "TkEleEE.hwQual"
   ]
  },
  {
   "cell_type": "code",
   "execution_count": 158,
   "metadata": {},
   "outputs": [
    {
     "name": "stdout",
     "output_type": "stream",
     "text": [
      "100 * var * int32\n"
     ]
    }
   ],
   "source": [
    "TkEleEE.hwQual.type.show()\n"
   ]
  },
  {
   "cell_type": "code",
   "execution_count": 159,
   "metadata": {},
   "outputs": [],
   "source": [
    "TkEleEE['hwQual'] = ak.values_astype(TkEleEE.hwQual, np.int32)\n"
   ]
  },
  {
   "cell_type": "code",
   "execution_count": 160,
   "metadata": {},
   "outputs": [],
   "source": [
    "TkEleEE['qual'] = (0b0010 & TkEleEE.hwQual) > 0\n"
   ]
  },
  {
   "cell_type": "code",
   "execution_count": 161,
   "metadata": {},
   "outputs": [
    {
     "data": {
      "text/html": [
       "<pre>[[],\n",
       " [],\n",
       " [False],\n",
       " [],\n",
       " [],\n",
       " [],\n",
       " [],\n",
       " [False, True],\n",
       " [],\n",
       " [],\n",
       " ...,\n",
       " [True, True],\n",
       " [True, True],\n",
       " [],\n",
       " [],\n",
       " [True, True],\n",
       " [],\n",
       " [],\n",
       " [False],\n",
       " []]\n",
       "----------------------\n",
       "type: 100 * var * bool</pre>"
      ],
      "text/plain": [
       "<Array [[], [], [False], [], ..., [], [], [False], []] type='100 * var * bool'>"
      ]
     },
     "execution_count": 161,
     "metadata": {},
     "output_type": "execute_result"
    }
   ],
   "source": [
    "np.bitwise_and(TkEleEE.hwQual, 0b0010) > 0\n"
   ]
  },
  {
   "cell_type": "code",
   "execution_count": 162,
   "metadata": {},
   "outputs": [
    {
     "data": {
      "text/plain": [
       "['pt',\n",
       " 'energy',\n",
       " 'eta',\n",
       " 'phi',\n",
       " 'tkIso',\n",
       " 'pfIso',\n",
       " 'puppiIso',\n",
       " 'tkChi2',\n",
       " 'tkPt',\n",
       " 'tkZ0',\n",
       " 'compBDTScore',\n",
       " 'hwQual',\n",
       " 'qual']"
      ]
     },
     "execution_count": 162,
     "metadata": {},
     "output_type": "execute_result"
    }
   ],
   "source": [
    "TkEleEE.fields\n"
   ]
  },
  {
   "cell_type": "code",
   "execution_count": 163,
   "metadata": {},
   "outputs": [
    {
     "data": {
      "text/html": [
       "<pre>[0,\n",
       " 0,\n",
       " 1,\n",
       " 0,\n",
       " 0,\n",
       " 0,\n",
       " 0,\n",
       " 2,\n",
       " 0,\n",
       " 0,\n",
       " ...,\n",
       " 2,\n",
       " 2,\n",
       " 0,\n",
       " 0,\n",
       " 2,\n",
       " 0,\n",
       " 0,\n",
       " 1,\n",
       " 0]\n",
       "-----------------\n",
       "type: 100 * int64</pre>"
      ],
      "text/plain": [
       "<Array [0, 0, 1, 0, 0, 0, 0, 2, ..., 2, 0, 0, 2, 0, 0, 1, 0] type='100 * int64'>"
      ]
     },
     "execution_count": 163,
     "metadata": {},
     "output_type": "execute_result"
    }
   ],
   "source": [
    "ak.count(TkEleEE.pt, axis=1)"
   ]
  },
  {
   "cell_type": "code",
   "execution_count": 164,
   "metadata": {},
   "outputs": [
    {
     "data": {
      "text/html": [
       "<pre>[[],\n",
       " [],\n",
       " [False],\n",
       " [],\n",
       " [],\n",
       " [],\n",
       " [],\n",
       " [False, True],\n",
       " [],\n",
       " [],\n",
       " ...,\n",
       " [True, True],\n",
       " [True, True],\n",
       " [],\n",
       " [],\n",
       " [True, True],\n",
       " [],\n",
       " [],\n",
       " [False],\n",
       " []]\n",
       "----------------------\n",
       "type: 100 * var * bool</pre>"
      ],
      "text/plain": [
       "<Array [[], [], [False], [], ..., [], [], [False], []] type='100 * var * bool'>"
      ]
     },
     "execution_count": 164,
     "metadata": {},
     "output_type": "execute_result"
    }
   ],
   "source": [
    "TkEleEE.qual\n"
   ]
  },
  {
   "cell_type": "code",
   "execution_count": 115,
   "metadata": {},
   "outputs": [],
   "source": [
    "mc = reader.getDataFrame('gen', 100)"
   ]
  },
  {
   "cell_type": "code",
   "execution_count": 117,
   "metadata": {},
   "outputs": [],
   "source": [
    "import pandas as pd"
   ]
  },
  {
   "cell_type": "code",
   "execution_count": 118,
   "metadata": {},
   "outputs": [
    {
     "data": {
      "text/html": [
       "<div>\n",
       "<style scoped>\n",
       "    .dataframe tbody tr th:only-of-type {\n",
       "        vertical-align: middle;\n",
       "    }\n",
       "\n",
       "    .dataframe tbody tr th {\n",
       "        vertical-align: top;\n",
       "    }\n",
       "\n",
       "    .dataframe thead th {\n",
       "        text-align: right;\n",
       "    }\n",
       "</style>\n",
       "<table border=\"1\" class=\"dataframe\">\n",
       "  <thead>\n",
       "    <tr style=\"text-align: right;\">\n",
       "      <th></th>\n",
       "      <th>x</th>\n",
       "      <th>y</th>\n",
       "    </tr>\n",
       "  </thead>\n",
       "  <tbody>\n",
       "    <tr>\n",
       "      <th>0</th>\n",
       "      <td>0</td>\n",
       "      <td>0.0</td>\n",
       "    </tr>\n",
       "    <tr>\n",
       "      <th>1</th>\n",
       "      <td>1</td>\n",
       "      <td>1.1</td>\n",
       "    </tr>\n",
       "    <tr>\n",
       "      <th>2</th>\n",
       "      <td>2</td>\n",
       "      <td>2.2</td>\n",
       "    </tr>\n",
       "    <tr>\n",
       "      <th>3</th>\n",
       "      <td>3</td>\n",
       "      <td>3.3</td>\n",
       "    </tr>\n",
       "    <tr>\n",
       "      <th>4</th>\n",
       "      <td>4</td>\n",
       "      <td>4.4</td>\n",
       "    </tr>\n",
       "    <tr>\n",
       "      <th>...</th>\n",
       "      <td>...</td>\n",
       "      <td>...</td>\n",
       "    </tr>\n",
       "    <tr>\n",
       "      <th>995</th>\n",
       "      <td>995</td>\n",
       "      <td>1094.5</td>\n",
       "    </tr>\n",
       "    <tr>\n",
       "      <th>996</th>\n",
       "      <td>996</td>\n",
       "      <td>1095.6</td>\n",
       "    </tr>\n",
       "    <tr>\n",
       "      <th>997</th>\n",
       "      <td>997</td>\n",
       "      <td>1096.7</td>\n",
       "    </tr>\n",
       "    <tr>\n",
       "      <th>998</th>\n",
       "      <td>998</td>\n",
       "      <td>1097.8</td>\n",
       "    </tr>\n",
       "    <tr>\n",
       "      <th>999</th>\n",
       "      <td>999</td>\n",
       "      <td>1098.9</td>\n",
       "    </tr>\n",
       "  </tbody>\n",
       "</table>\n",
       "<p>1000 rows × 2 columns</p>\n",
       "</div>"
      ],
      "text/plain": [
       "       x       y\n",
       "0      0     0.0\n",
       "1      1     1.1\n",
       "2      2     2.2\n",
       "3      3     3.3\n",
       "4      4     4.4\n",
       "..   ...     ...\n",
       "995  995  1094.5\n",
       "996  996  1095.6\n",
       "997  997  1096.7\n",
       "998  998  1097.8\n",
       "999  999  1098.9\n",
       "\n",
       "[1000 rows x 2 columns]"
      ]
     },
     "execution_count": 118,
     "metadata": {},
     "output_type": "execute_result"
    }
   ],
   "source": [
    "\n",
    "df = pd.DataFrame({\"x\": np.arange(1000), \"y\": np.arange(1000)*1.1})\n",
    "\n",
    "df"
   ]
  },
  {
   "cell_type": "markdown",
   "metadata": {},
   "source": [
    "# Write trees to ROOT file using uproot"
   ]
  },
  {
   "cell_type": "code",
   "execution_count": 119,
   "metadata": {},
   "outputs": [],
   "source": [
    "output = uproot4.recreate('test.root')\n"
   ]
  },
  {
   "cell_type": "code",
   "execution_count": 120,
   "metadata": {},
   "outputs": [],
   "source": [
    "output[\"tree1\"] = {\"x\": np.random.randint(0, 10, 1000000), \"y\": np.random.normal(0, 1, 1000000)}"
   ]
  },
  {
   "cell_type": "code",
   "execution_count": 121,
   "metadata": {},
   "outputs": [
    {
     "data": {
      "text/plain": [
       "<WritableTree '/tree2' at 0x0002b4a712d0>"
      ]
     },
     "execution_count": 121,
     "metadata": {},
     "output_type": "execute_result"
    }
   ],
   "source": [
    "output.mktree(\"tree2\", {\"x\": np.int32, \"y\": np.float64})"
   ]
  },
  {
   "cell_type": "code",
   "execution_count": 128,
   "metadata": {},
   "outputs": [],
   "source": [
    "output['tree2'] = {'x':df.x, 'y': df.y}"
   ]
  },
  {
   "cell_type": "code",
   "execution_count": 129,
   "metadata": {},
   "outputs": [
    {
     "data": {
      "text/plain": [
       "<WritableTree '/tree3' at 0x0002b4a72d70>"
      ]
     },
     "execution_count": 129,
     "metadata": {},
     "output_type": "execute_result"
    }
   ],
   "source": [
    "output.mktree(\"tree3\", {\"pt\": np.float64})"
   ]
  },
  {
   "cell_type": "code",
   "execution_count": 130,
   "metadata": {},
   "outputs": [],
   "source": [
    "output['tree2'] = {'pt': TkEleEE.pt}"
   ]
  },
  {
   "cell_type": "code",
   "execution_count": 131,
   "metadata": {},
   "outputs": [],
   "source": [
    "output['tree5'] = {'eta': TkEleEE.eta, 'phi': TkEleEE.phi}"
   ]
  },
  {
   "cell_type": "code",
   "execution_count": 132,
   "metadata": {},
   "outputs": [],
   "source": [
    "output['tree5'].extend({'eta': TkEleEE.eta, 'phi': TkEleEE.phi})"
   ]
  },
  {
   "cell_type": "markdown",
   "metadata": {},
   "source": [
    "# Seaborn violin plots"
   ]
  },
  {
   "cell_type": "code",
   "execution_count": 133,
   "metadata": {},
   "outputs": [],
   "source": [
    "import seaborn as sns\n",
    "import matplotlib.pyplot as plt"
   ]
  },
  {
   "cell_type": "code",
   "execution_count": 134,
   "metadata": {},
   "outputs": [],
   "source": [
    "tips = sns.load_dataset(\"tips\")"
   ]
  },
  {
   "cell_type": "code",
   "execution_count": 135,
   "metadata": {},
   "outputs": [
    {
     "data": {
      "text/html": [
       "<div>\n",
       "<style scoped>\n",
       "    .dataframe tbody tr th:only-of-type {\n",
       "        vertical-align: middle;\n",
       "    }\n",
       "\n",
       "    .dataframe tbody tr th {\n",
       "        vertical-align: top;\n",
       "    }\n",
       "\n",
       "    .dataframe thead th {\n",
       "        text-align: right;\n",
       "    }\n",
       "</style>\n",
       "<table border=\"1\" class=\"dataframe\">\n",
       "  <thead>\n",
       "    <tr style=\"text-align: right;\">\n",
       "      <th></th>\n",
       "      <th>total_bill</th>\n",
       "      <th>tip</th>\n",
       "      <th>sex</th>\n",
       "      <th>smoker</th>\n",
       "      <th>day</th>\n",
       "      <th>time</th>\n",
       "      <th>size</th>\n",
       "    </tr>\n",
       "  </thead>\n",
       "  <tbody>\n",
       "    <tr>\n",
       "      <th>0</th>\n",
       "      <td>16.99</td>\n",
       "      <td>1.01</td>\n",
       "      <td>Female</td>\n",
       "      <td>No</td>\n",
       "      <td>Sun</td>\n",
       "      <td>Dinner</td>\n",
       "      <td>2</td>\n",
       "    </tr>\n",
       "    <tr>\n",
       "      <th>1</th>\n",
       "      <td>10.34</td>\n",
       "      <td>1.66</td>\n",
       "      <td>Male</td>\n",
       "      <td>No</td>\n",
       "      <td>Sun</td>\n",
       "      <td>Dinner</td>\n",
       "      <td>3</td>\n",
       "    </tr>\n",
       "    <tr>\n",
       "      <th>2</th>\n",
       "      <td>21.01</td>\n",
       "      <td>3.50</td>\n",
       "      <td>Male</td>\n",
       "      <td>No</td>\n",
       "      <td>Sun</td>\n",
       "      <td>Dinner</td>\n",
       "      <td>3</td>\n",
       "    </tr>\n",
       "    <tr>\n",
       "      <th>3</th>\n",
       "      <td>23.68</td>\n",
       "      <td>3.31</td>\n",
       "      <td>Male</td>\n",
       "      <td>No</td>\n",
       "      <td>Sun</td>\n",
       "      <td>Dinner</td>\n",
       "      <td>2</td>\n",
       "    </tr>\n",
       "    <tr>\n",
       "      <th>4</th>\n",
       "      <td>24.59</td>\n",
       "      <td>3.61</td>\n",
       "      <td>Female</td>\n",
       "      <td>No</td>\n",
       "      <td>Sun</td>\n",
       "      <td>Dinner</td>\n",
       "      <td>4</td>\n",
       "    </tr>\n",
       "    <tr>\n",
       "      <th>...</th>\n",
       "      <td>...</td>\n",
       "      <td>...</td>\n",
       "      <td>...</td>\n",
       "      <td>...</td>\n",
       "      <td>...</td>\n",
       "      <td>...</td>\n",
       "      <td>...</td>\n",
       "    </tr>\n",
       "    <tr>\n",
       "      <th>239</th>\n",
       "      <td>29.03</td>\n",
       "      <td>5.92</td>\n",
       "      <td>Male</td>\n",
       "      <td>No</td>\n",
       "      <td>Sat</td>\n",
       "      <td>Dinner</td>\n",
       "      <td>3</td>\n",
       "    </tr>\n",
       "    <tr>\n",
       "      <th>240</th>\n",
       "      <td>27.18</td>\n",
       "      <td>2.00</td>\n",
       "      <td>Female</td>\n",
       "      <td>Yes</td>\n",
       "      <td>Sat</td>\n",
       "      <td>Dinner</td>\n",
       "      <td>2</td>\n",
       "    </tr>\n",
       "    <tr>\n",
       "      <th>241</th>\n",
       "      <td>22.67</td>\n",
       "      <td>2.00</td>\n",
       "      <td>Male</td>\n",
       "      <td>Yes</td>\n",
       "      <td>Sat</td>\n",
       "      <td>Dinner</td>\n",
       "      <td>2</td>\n",
       "    </tr>\n",
       "    <tr>\n",
       "      <th>242</th>\n",
       "      <td>17.82</td>\n",
       "      <td>1.75</td>\n",
       "      <td>Male</td>\n",
       "      <td>No</td>\n",
       "      <td>Sat</td>\n",
       "      <td>Dinner</td>\n",
       "      <td>2</td>\n",
       "    </tr>\n",
       "    <tr>\n",
       "      <th>243</th>\n",
       "      <td>18.78</td>\n",
       "      <td>3.00</td>\n",
       "      <td>Female</td>\n",
       "      <td>No</td>\n",
       "      <td>Thur</td>\n",
       "      <td>Dinner</td>\n",
       "      <td>2</td>\n",
       "    </tr>\n",
       "  </tbody>\n",
       "</table>\n",
       "<p>244 rows × 7 columns</p>\n",
       "</div>"
      ],
      "text/plain": [
       "     total_bill   tip     sex smoker   day    time  size\n",
       "0         16.99  1.01  Female     No   Sun  Dinner     2\n",
       "1         10.34  1.66    Male     No   Sun  Dinner     3\n",
       "2         21.01  3.50    Male     No   Sun  Dinner     3\n",
       "3         23.68  3.31    Male     No   Sun  Dinner     2\n",
       "4         24.59  3.61  Female     No   Sun  Dinner     4\n",
       "..          ...   ...     ...    ...   ...     ...   ...\n",
       "239       29.03  5.92    Male     No   Sat  Dinner     3\n",
       "240       27.18  2.00  Female    Yes   Sat  Dinner     2\n",
       "241       22.67  2.00    Male    Yes   Sat  Dinner     2\n",
       "242       17.82  1.75    Male     No   Sat  Dinner     2\n",
       "243       18.78  3.00  Female     No  Thur  Dinner     2\n",
       "\n",
       "[244 rows x 7 columns]"
      ]
     },
     "execution_count": 135,
     "metadata": {},
     "output_type": "execute_result"
    }
   ],
   "source": [
    "tips"
   ]
  },
  {
   "cell_type": "code",
   "execution_count": 136,
   "metadata": {},
   "outputs": [
    {
     "data": {
      "text/plain": [
       "<seaborn.axisgrid.FacetGrid at 0x2b7309a50>"
      ]
     },
     "execution_count": 136,
     "metadata": {},
     "output_type": "execute_result"
    },
    {
     "data": {
      "image/png": "[encoded data removed]",
      "text/plain": [
       "<Figure size 600.25x500 with 1 Axes>"
      ]
     },
     "metadata": {},
     "output_type": "display_data"
    }
   ],
   "source": [
    "sns.catplot(\n",
    "    data=tips, x=\"day\", y=\"total_bill\", hue=\"sex\",\n",
    "    kind=\"violin\", inner=\"stick\", split=True, palette=\"pastel\",\n",
    ")\n"
   ]
  },
  {
   "cell_type": "code",
   "execution_count": 137,
   "metadata": {
    "scrolled": false
   },
   "outputs": [
    {
     "name": "stdout",
     "output_type": "stream",
     "text": [
      "Axes(0.125,0.53;0.352273x0.35)\n"
     ]
    },
    {
     "data": {
      "text/plain": [
       "<matplotlib.legend.Legend at 0x2b7308ca0>"
      ]
     },
     "execution_count": 137,
     "metadata": {},
     "output_type": "execute_result"
    },
    {
     "data": {
      "image/png": "[encoded data removed]",
      "text/plain": [
       "<Figure size 640x480 with 4 Axes>"
      ]
     },
     "metadata": {},
     "output_type": "display_data"
    }
   ],
   "source": [
    "fig, axs = plt.subplots(2, 2)\n",
    "tips['a.u.'] = ''\n",
    "g = sns.violinplot(ax=axs[0, 0], data=tips, x='a.u.', y=\"tip\", hue=\"sex\", split=True, palette=\"pastel\", inner=\"box\")\n",
    "g = sns.violinplot(ax=axs[0, 1], data=tips, x='a.u.', y=\"total_bill\", hue=\"sex\", split=True, palette=\"pastel\", inner=\"box\")\n",
    "\n",
    "# sns.barplot(ax=axs[0, 0], x=tips.index, y=tips.total_bill)\n",
    "# axs[0, 0].set_title(\"tip\")\n",
    "print(axs[0, 0])\n",
    "axs[0, 0].legend([], [], frameon=False)"
   ]
  },
  {
   "cell_type": "code",
   "execution_count": 138,
   "metadata": {},
   "outputs": [
    {
     "data": {
      "text/plain": [
       "['ArtistList',\n",
       " '_AxesBase__clear',\n",
       " '_PROPERTIES_EXCLUDED_FROM_SET',\n",
       " '__class__',\n",
       " '__delattr__',\n",
       " '__dict__',\n",
       " '__dir__',\n",
       " '__doc__',\n",
       " '__eq__',\n",
       " '__format__',\n",
       " '__ge__',\n",
       " '__getattribute__',\n",
       " '__getstate__',\n",
       " '__gt__',\n",
       " '__hash__',\n",
       " '__init__',\n",
       " '__init_subclass__',\n",
       " '__le__',\n",
       " '__lt__',\n",
       " '__module__',\n",
       " '__ne__',\n",
       " '__new__',\n",
       " '__reduce__',\n",
       " '__reduce_ex__',\n",
       " '__repr__',\n",
       " '__setattr__',\n",
       " '__setstate__',\n",
       " '__sizeof__',\n",
       " '__str__',\n",
       " '__subclasshook__',\n",
       " '__weakref__',\n",
       " '_add_text',\n",
       " '_adjustable',\n",
       " '_agg_filter',\n",
       " '_alias_map',\n",
       " '_alpha',\n",
       " '_anchor',\n",
       " '_animated',\n",
       " '_aspect',\n",
       " '_autotitlepos',\n",
       " '_axes',\n",
       " '_axes_locator',\n",
       " '_axis_map',\n",
       " '_axis_names',\n",
       " '_axisbelow',\n",
       " '_box_aspect',\n",
       " '_callbacks',\n",
       " '_check_no_units',\n",
       " '_children',\n",
       " '_clipon',\n",
       " '_clippath',\n",
       " '_cm_set',\n",
       " '_colorbars',\n",
       " '_convert_dx',\n",
       " '_current_image',\n",
       " '_default_contains',\n",
       " '_errorevery_to_mask',\n",
       " '_facecolor',\n",
       " '_fill_between_x_or_y',\n",
       " '_frameon',\n",
       " '_fully_clipped_to_axes',\n",
       " '_gci',\n",
       " '_gen_axes_patch',\n",
       " '_gen_axes_spines',\n",
       " '_get_aspect_ratio',\n",
       " '_get_lines',\n",
       " '_get_pan_points',\n",
       " '_get_patches_for_fill',\n",
       " '_get_view',\n",
       " '_gid',\n",
       " '_gridOn',\n",
       " '_in_layout',\n",
       " '_init_axis',\n",
       " '_internal_update',\n",
       " '_label',\n",
       " '_label_outer_xaxis',\n",
       " '_label_outer_yaxis',\n",
       " '_left_title',\n",
       " '_make_twin_axes',\n",
       " '_mouseover',\n",
       " '_mouseover_set',\n",
       " '_navigate',\n",
       " '_navigate_mode',\n",
       " '_originalPosition',\n",
       " '_parse_scatter_color_args',\n",
       " '_path_effects',\n",
       " '_pcolorargs',\n",
       " '_picker',\n",
       " '_position',\n",
       " '_prepare_view_from_bbox',\n",
       " '_process_unit_info',\n",
       " '_projection_init',\n",
       " '_quiver_units',\n",
       " '_rasterization_zorder',\n",
       " '_rasterized',\n",
       " '_remove_legend',\n",
       " '_remove_method',\n",
       " '_request_autoscale_view',\n",
       " '_right_title',\n",
       " '_sci',\n",
       " '_set_alpha_for_array',\n",
       " '_set_artist_props',\n",
       " '_set_gc_clip',\n",
       " '_set_lim_and_transforms',\n",
       " '_set_position',\n",
       " '_set_title_offset_trans',\n",
       " '_set_view',\n",
       " '_set_view_from_bbox',\n",
       " '_shared_axes',\n",
       " '_sharex',\n",
       " '_sharey',\n",
       " '_sketch',\n",
       " '_snap',\n",
       " '_stale',\n",
       " '_stale_viewlims',\n",
       " '_sticky_edges',\n",
       " '_subclass_uses_cla',\n",
       " '_subplotspec',\n",
       " '_tight',\n",
       " '_transform',\n",
       " '_transformSet',\n",
       " '_twinned_axes',\n",
       " '_unit_change_handler',\n",
       " '_unstale_viewLim',\n",
       " '_update_image_limits',\n",
       " '_update_line_limits',\n",
       " '_update_patch_limits',\n",
       " '_update_props',\n",
       " '_update_set_signature_and_docstring',\n",
       " '_update_title_position',\n",
       " '_update_transScale',\n",
       " '_url',\n",
       " '_use_sticky_edges',\n",
       " '_validate_converted_limits',\n",
       " '_viewLim',\n",
       " '_visible',\n",
       " '_xaxis_transform',\n",
       " '_xmargin',\n",
       " '_yaxis_transform',\n",
       " '_ymargin',\n",
       " 'acorr',\n",
       " 'add_artist',\n",
       " 'add_callback',\n",
       " 'add_child_axes',\n",
       " 'add_collection',\n",
       " 'add_container',\n",
       " 'add_image',\n",
       " 'add_line',\n",
       " 'add_patch',\n",
       " 'add_table',\n",
       " 'angle_spectrum',\n",
       " 'annotate',\n",
       " 'apply_aspect',\n",
       " 'arrow',\n",
       " 'artists',\n",
       " 'autoscale',\n",
       " 'autoscale_view',\n",
       " 'axes',\n",
       " 'axhline',\n",
       " 'axhspan',\n",
       " 'axis',\n",
       " 'axison',\n",
       " 'axline',\n",
       " 'axvline',\n",
       " 'axvspan',\n",
       " 'bar',\n",
       " 'bar_label',\n",
       " 'barbs',\n",
       " 'barh',\n",
       " 'bbox',\n",
       " 'boxplot',\n",
       " 'broken_barh',\n",
       " 'bxp',\n",
       " 'callbacks',\n",
       " 'can_pan',\n",
       " 'can_zoom',\n",
       " 'child_axes',\n",
       " 'cla',\n",
       " 'clabel',\n",
       " 'clear',\n",
       " 'clipbox',\n",
       " 'cohere',\n",
       " 'collections',\n",
       " 'containers',\n",
       " 'contains',\n",
       " 'contains_point',\n",
       " 'contour',\n",
       " 'contourf',\n",
       " 'convert_xunits',\n",
       " 'convert_yunits',\n",
       " 'csd',\n",
       " 'dataLim',\n",
       " 'drag_pan',\n",
       " 'draw',\n",
       " 'draw_artist',\n",
       " 'end_pan',\n",
       " 'errorbar',\n",
       " 'eventplot',\n",
       " 'figure',\n",
       " 'fill',\n",
       " 'fill_between',\n",
       " 'fill_betweenx',\n",
       " 'findobj',\n",
       " 'fmt_xdata',\n",
       " 'fmt_ydata',\n",
       " 'format_coord',\n",
       " 'format_cursor_data',\n",
       " 'format_xdata',\n",
       " 'format_ydata',\n",
       " 'get_adjustable',\n",
       " 'get_agg_filter',\n",
       " 'get_alpha',\n",
       " 'get_anchor',\n",
       " 'get_animated',\n",
       " 'get_aspect',\n",
       " 'get_autoscale_on',\n",
       " 'get_autoscalex_on',\n",
       " 'get_autoscaley_on',\n",
       " 'get_axes_locator',\n",
       " 'get_axisbelow',\n",
       " 'get_box_aspect',\n",
       " 'get_children',\n",
       " 'get_clip_box',\n",
       " 'get_clip_on',\n",
       " 'get_clip_path',\n",
       " 'get_cursor_data',\n",
       " 'get_data_ratio',\n",
       " 'get_default_bbox_extra_artists',\n",
       " 'get_facecolor',\n",
       " 'get_fc',\n",
       " 'get_figure',\n",
       " 'get_frame_on',\n",
       " 'get_gid',\n",
       " 'get_gridspec',\n",
       " 'get_images',\n",
       " 'get_in_layout',\n",
       " 'get_label',\n",
       " 'get_legend',\n",
       " 'get_legend_handles_labels',\n",
       " 'get_lines',\n",
       " 'get_mouseover',\n",
       " 'get_navigate',\n",
       " 'get_navigate_mode',\n",
       " 'get_path_effects',\n",
       " 'get_picker',\n",
       " 'get_position',\n",
       " 'get_rasterization_zorder',\n",
       " 'get_rasterized',\n",
       " 'get_renderer_cache',\n",
       " 'get_shared_x_axes',\n",
       " 'get_shared_y_axes',\n",
       " 'get_sketch_params',\n",
       " 'get_snap',\n",
       " 'get_subplotspec',\n",
       " 'get_tightbbox',\n",
       " 'get_title',\n",
       " 'get_transform',\n",
       " 'get_transformed_clip_path_and_affine',\n",
       " 'get_url',\n",
       " 'get_visible',\n",
       " 'get_window_extent',\n",
       " 'get_xaxis',\n",
       " 'get_xaxis_text1_transform',\n",
       " 'get_xaxis_text2_transform',\n",
       " 'get_xaxis_transform',\n",
       " 'get_xbound',\n",
       " 'get_xgridlines',\n",
       " 'get_xlabel',\n",
       " 'get_xlim',\n",
       " 'get_xmajorticklabels',\n",
       " 'get_xminorticklabels',\n",
       " 'get_xscale',\n",
       " 'get_xticklabels',\n",
       " 'get_xticklines',\n",
       " 'get_xticks',\n",
       " 'get_yaxis',\n",
       " 'get_yaxis_text1_transform',\n",
       " 'get_yaxis_text2_transform',\n",
       " 'get_yaxis_transform',\n",
       " 'get_ybound',\n",
       " 'get_ygridlines',\n",
       " 'get_ylabel',\n",
       " 'get_ylim',\n",
       " 'get_ymajorticklabels',\n",
       " 'get_yminorticklabels',\n",
       " 'get_yscale',\n",
       " 'get_yticklabels',\n",
       " 'get_yticklines',\n",
       " 'get_yticks',\n",
       " 'get_zorder',\n",
       " 'grid',\n",
       " 'has_data',\n",
       " 'have_units',\n",
       " 'hexbin',\n",
       " 'hist',\n",
       " 'hist2d',\n",
       " 'hlines',\n",
       " 'ignore_existing_data_limits',\n",
       " 'images',\n",
       " 'imshow',\n",
       " 'in_axes',\n",
       " 'indicate_inset',\n",
       " 'indicate_inset_zoom',\n",
       " 'inset_axes',\n",
       " 'invert_xaxis',\n",
       " 'invert_yaxis',\n",
       " 'is_transform_set',\n",
       " 'label_outer',\n",
       " 'legend',\n",
       " 'legend_',\n",
       " 'lines',\n",
       " 'locator_params',\n",
       " 'loglog',\n",
       " 'magnitude_spectrum',\n",
       " 'margins',\n",
       " 'matshow',\n",
       " 'minorticks_off',\n",
       " 'minorticks_on',\n",
       " 'mouseover',\n",
       " 'name',\n",
       " 'patch',\n",
       " 'patches',\n",
       " 'pchanged',\n",
       " 'pcolor',\n",
       " 'pcolorfast',\n",
       " 'pcolormesh',\n",
       " 'phase_spectrum',\n",
       " 'pick',\n",
       " 'pickable',\n",
       " 'pie',\n",
       " 'plot',\n",
       " 'plot_date',\n",
       " 'properties',\n",
       " 'psd',\n",
       " 'quiver',\n",
       " 'quiverkey',\n",
       " 'redraw_in_frame',\n",
       " 'relim',\n",
       " 'remove',\n",
       " 'remove_callback',\n",
       " 'reset_position',\n",
       " 'scatter',\n",
       " 'secondary_xaxis',\n",
       " 'secondary_yaxis',\n",
       " 'semilogx',\n",
       " 'semilogy',\n",
       " 'set',\n",
       " 'set_adjustable',\n",
       " 'set_agg_filter',\n",
       " 'set_alpha',\n",
       " 'set_anchor',\n",
       " 'set_animated',\n",
       " 'set_aspect',\n",
       " 'set_autoscale_on',\n",
       " 'set_autoscalex_on',\n",
       " 'set_autoscaley_on',\n",
       " 'set_axes_locator',\n",
       " 'set_axis_off',\n",
       " 'set_axis_on',\n",
       " 'set_axisbelow',\n",
       " 'set_box_aspect',\n",
       " 'set_clip_box',\n",
       " 'set_clip_on',\n",
       " 'set_clip_path',\n",
       " 'set_facecolor',\n",
       " 'set_fc',\n",
       " 'set_figure',\n",
       " 'set_frame_on',\n",
       " 'set_gid',\n",
       " 'set_in_layout',\n",
       " 'set_label',\n",
       " 'set_mouseover',\n",
       " 'set_navigate',\n",
       " 'set_navigate_mode',\n",
       " 'set_path_effects',\n",
       " 'set_picker',\n",
       " 'set_position',\n",
       " 'set_prop_cycle',\n",
       " 'set_rasterization_zorder',\n",
       " 'set_rasterized',\n",
       " 'set_sketch_params',\n",
       " 'set_snap',\n",
       " 'set_subplotspec',\n",
       " 'set_title',\n",
       " 'set_transform',\n",
       " 'set_url',\n",
       " 'set_visible',\n",
       " 'set_xbound',\n",
       " 'set_xlabel',\n",
       " 'set_xlim',\n",
       " 'set_xmargin',\n",
       " 'set_xscale',\n",
       " 'set_xticklabels',\n",
       " 'set_xticks',\n",
       " 'set_ybound',\n",
       " 'set_ylabel',\n",
       " 'set_ylim',\n",
       " 'set_ymargin',\n",
       " 'set_yscale',\n",
       " 'set_yticklabels',\n",
       " 'set_yticks',\n",
       " 'set_zorder',\n",
       " 'sharex',\n",
       " 'sharey',\n",
       " 'specgram',\n",
       " 'spines',\n",
       " 'spy',\n",
       " 'stackplot',\n",
       " 'stairs',\n",
       " 'stale',\n",
       " 'stale_callback',\n",
       " 'start_pan',\n",
       " 'stem',\n",
       " 'step',\n",
       " 'sticky_edges',\n",
       " 'streamplot',\n",
       " 'table',\n",
       " 'tables',\n",
       " 'text',\n",
       " 'texts',\n",
       " 'tick_params',\n",
       " 'ticklabel_format',\n",
       " 'title',\n",
       " 'titleOffsetTrans',\n",
       " 'transAxes',\n",
       " 'transData',\n",
       " 'transLimits',\n",
       " 'transScale',\n",
       " 'tricontour',\n",
       " 'tricontourf',\n",
       " 'tripcolor',\n",
       " 'triplot',\n",
       " 'twinx',\n",
       " 'twiny',\n",
       " 'update',\n",
       " 'update_datalim',\n",
       " 'update_from',\n",
       " 'use_sticky_edges',\n",
       " 'viewLim',\n",
       " 'violin',\n",
       " 'violinplot',\n",
       " 'vlines',\n",
       " 'xaxis',\n",
       " 'xaxis_date',\n",
       " 'xaxis_inverted',\n",
       " 'xcorr',\n",
       " 'yaxis',\n",
       " 'yaxis_date',\n",
       " 'yaxis_inverted',\n",
       " 'zorder']"
      ]
     },
     "execution_count": 138,
     "metadata": {},
     "output_type": "execute_result"
    }
   ],
   "source": [
    "dir(axs[0, 0])\n",
    "\n"
   ]
  },
  {
   "cell_type": "code",
   "execution_count": 139,
   "metadata": {},
   "outputs": [
    {
     "data": {
      "image/png": "[encoded data removed]",
      "text/plain": [
       "<Figure size 640x480 with 1 Axes>"
      ]
     },
     "metadata": {},
     "output_type": "display_data"
    }
   ],
   "source": [
    "sns.violinplot(data=tips, x='day', y='tip', hue='sex', split=True)\n",
    "plt.show()"
   ]
  },
  {
   "cell_type": "code",
   "execution_count": 140,
   "metadata": {},
   "outputs": [
    {
     "data": {
      "text/plain": [
       "<Axes: ylabel='tip'>"
      ]
     },
     "execution_count": 140,
     "metadata": {},
     "output_type": "execute_result"
    },
    {
     "data": {
      "image/png": "[encoded data removed]",
      "text/plain": [
       "<Figure size 640x480 with 4 Axes>"
      ]
     },
     "metadata": {},
     "output_type": "display_data"
    }
   ],
   "source": [
    "fig, axs = plt.subplots(2, 2)\n",
    "\n",
    "sns.violinplot(ax=axs[0, 0], data=tips, y=\"tip\", hue=\"sex\", split=True, palette=\"pastel\")\n",
    "# sns.barplot(ax=axs[0, 0], x=tips.index, y=tips.total_bill)\n",
    "# axs[0, 0].set_title(\"tip\")\n",
    "sns.violinplot(ax=axs[0, 1], data=tips, y=\"tip\", hue=\"sex\", split=True, palette=\"pastel\")\n"
   ]
  },
  {
   "cell_type": "markdown",
   "metadata": {},
   "source": [
    "## mplhep style"
   ]
  },
  {
   "cell_type": "code",
   "execution_count": 143,
   "metadata": {},
   "outputs": [],
   "source": [
    "import mplhep as hep\n",
    "hep.style.use(hep.style.ROOT) # For now ROOT defaults to CMS\n",
    "# Or choose one of the experiment styles\n",
    "hep.style.use(hep.style.ATLAS)\n",
    "# or\n",
    "hep.style.use(\"CMS\")\n",
    "plt.style.use(hep.style.ROOT)"
   ]
  },
  {
   "cell_type": "code",
   "execution_count": 144,
   "metadata": {},
   "outputs": [],
   "source": [
    "plt.style.use(hep.style.ROOT)"
   ]
  },
  {
   "cell_type": "code",
   "execution_count": 146,
   "metadata": {},
   "outputs": [
    {
     "ename": "NameError",
     "evalue": "name 'titanic' is not defined",
     "output_type": "error",
     "traceback": [
      "\u001b[0;31m---------------------------------------------------------------------------\u001b[0m",
      "\u001b[0;31mNameError\u001b[0m                                 Traceback (most recent call last)",
      "\u001b[1;32m/Users/cerminar/Workspace/hgcal-analysis/py3/ak/ntuple-tools/plot-drawing-tools/eventloop-uproot-ak.ipynb Cell 151\u001b[0m line \u001b[0;36m2\n\u001b[1;32m      <a href='vscode-notebook-cell:/Users/cerminar/Workspace/hgcal-analysis/py3/ak/ntuple-tools/plot-drawing-tools/eventloop-uproot-ak.ipynb#Y305sZmlsZQ%3D%3D?line=0'>1</a>\u001b[0m g \u001b[39m=\u001b[39m sns\u001b[39m.\u001b[39mcatplot(\n\u001b[0;32m----> <a href='vscode-notebook-cell:/Users/cerminar/Workspace/hgcal-analysis/py3/ak/ntuple-tools/plot-drawing-tools/eventloop-uproot-ak.ipynb#Y305sZmlsZQ%3D%3D?line=1'>2</a>\u001b[0m     data\u001b[39m=\u001b[39mtitanic,\n\u001b[1;32m      <a href='vscode-notebook-cell:/Users/cerminar/Workspace/hgcal-analysis/py3/ak/ntuple-tools/plot-drawing-tools/eventloop-uproot-ak.ipynb#Y305sZmlsZQ%3D%3D?line=2'>3</a>\u001b[0m     x\u001b[39m=\u001b[39m\u001b[39m\"\u001b[39m\u001b[39mfare\u001b[39m\u001b[39m\"\u001b[39m, y\u001b[39m=\u001b[39m\u001b[39m\"\u001b[39m\u001b[39membark_town\u001b[39m\u001b[39m\"\u001b[39m, row\u001b[39m=\u001b[39m\u001b[39m\"\u001b[39m\u001b[39mclass\u001b[39m\u001b[39m\"\u001b[39m,\n\u001b[1;32m      <a href='vscode-notebook-cell:/Users/cerminar/Workspace/hgcal-analysis/py3/ak/ntuple-tools/plot-drawing-tools/eventloop-uproot-ak.ipynb#Y305sZmlsZQ%3D%3D?line=3'>4</a>\u001b[0m     kind\u001b[39m=\u001b[39m\u001b[39m\"\u001b[39m\u001b[39mbox\u001b[39m\u001b[39m\"\u001b[39m, orient\u001b[39m=\u001b[39m\u001b[39m\"\u001b[39m\u001b[39mh\u001b[39m\u001b[39m\"\u001b[39m,\n\u001b[1;32m      <a href='vscode-notebook-cell:/Users/cerminar/Workspace/hgcal-analysis/py3/ak/ntuple-tools/plot-drawing-tools/eventloop-uproot-ak.ipynb#Y305sZmlsZQ%3D%3D?line=4'>5</a>\u001b[0m     sharex\u001b[39m=\u001b[39m\u001b[39mFalse\u001b[39;00m, margin_titles\u001b[39m=\u001b[39m\u001b[39mTrue\u001b[39;00m,\n\u001b[1;32m      <a href='vscode-notebook-cell:/Users/cerminar/Workspace/hgcal-analysis/py3/ak/ntuple-tools/plot-drawing-tools/eventloop-uproot-ak.ipynb#Y305sZmlsZQ%3D%3D?line=5'>6</a>\u001b[0m     height\u001b[39m=\u001b[39m\u001b[39m1.5\u001b[39m, aspect\u001b[39m=\u001b[39m\u001b[39m4\u001b[39m,\n\u001b[1;32m      <a href='vscode-notebook-cell:/Users/cerminar/Workspace/hgcal-analysis/py3/ak/ntuple-tools/plot-drawing-tools/eventloop-uproot-ak.ipynb#Y305sZmlsZQ%3D%3D?line=6'>7</a>\u001b[0m )\n\u001b[1;32m      <a href='vscode-notebook-cell:/Users/cerminar/Workspace/hgcal-analysis/py3/ak/ntuple-tools/plot-drawing-tools/eventloop-uproot-ak.ipynb#Y305sZmlsZQ%3D%3D?line=7'>8</a>\u001b[0m g\u001b[39m.\u001b[39mset(xlabel\u001b[39m=\u001b[39m\u001b[39m\"\u001b[39m\u001b[39mFare\u001b[39m\u001b[39m\"\u001b[39m, ylabel\u001b[39m=\u001b[39m\u001b[39m\"\u001b[39m\u001b[39m\"\u001b[39m)\n\u001b[1;32m      <a href='vscode-notebook-cell:/Users/cerminar/Workspace/hgcal-analysis/py3/ak/ntuple-tools/plot-drawing-tools/eventloop-uproot-ak.ipynb#Y305sZmlsZQ%3D%3D?line=8'>9</a>\u001b[0m g\u001b[39m.\u001b[39mset_titles(row_template\u001b[39m=\u001b[39m\u001b[39m\"\u001b[39m\u001b[39m{row_name}\u001b[39;00m\u001b[39m class\u001b[39m\u001b[39m\"\u001b[39m)\n",
      "\u001b[0;31mNameError\u001b[0m: name 'titanic' is not defined"
     ]
    }
   ],
   "source": [
    "g = sns.catplot(\n",
    "    data=titanic,\n",
    "    x=\"fare\", y=\"embark_town\", row=\"class\",\n",
    "    kind=\"box\", orient=\"h\",\n",
    "    sharex=False, margin_titles=True,\n",
    "    height=1.5, aspect=4,\n",
    ")\n",
    "g.set(xlabel=\"Fare\", ylabel=\"\")\n",
    "g.set_titles(row_template=\"{row_name} class\")\n",
    "for ax in g.axes.flat:\n",
    "    ax.xaxis.set_major_formatter('${x:.0f}')"
   ]
  },
  {
   "cell_type": "code",
   "execution_count": null,
   "metadata": {},
   "outputs": [],
   "source": []
  },
  {
   "cell_type": "code",
   "execution_count": 18,
   "metadata": {},
   "outputs": [
    {
     "data": {
      "text/html": [
       "<pre>[[[], []],\n",
       " [[], []],\n",
       " [[], []],\n",
       " [[], []],\n",
       " [[], []],\n",
       " [[], []],\n",
       " [[], []],\n",
       " [[], []],\n",
       " [[], []],\n",
       " [[], []],\n",
       " ...,\n",
       " [[], []],\n",
       " [[], []],\n",
       " [[], []],\n",
       " [[], []],\n",
       " [[], []],\n",
       " [[], []],\n",
       " [[], []],\n",
       " [[], []],\n",
       " [[], []]]\n",
       "-----------------------------\n",
       "type: 100 * var * var * int32</pre>"
      ],
      "text/plain": [
       "<Array [[[], []], [[], []], ..., [[], []]] type='100 * var * var * int32'>"
      ]
     },
     "execution_count": 18,
     "metadata": {},
     "output_type": "execute_result"
    }
   ],
   "source": [
    "mc.daughters"
   ]
  },
  {
   "cell_type": "code",
   "execution_count": 19,
   "metadata": {},
   "outputs": [],
   "source": [
    "mc['firstmother_pdgid'] = mc.pdgid"
   ]
  },
  {
   "cell_type": "code",
   "execution_count": 20,
   "metadata": {},
   "outputs": [
    {
     "name": "stdout",
     "output_type": "stream",
     "text": [
      "['simpart_eta', 'simpart_phi', 'simpart_pt', 'simpart_energy', 'simpart_dvx', 'simpart_dvy', 'simpart_dvz', 'simpart_ovx', 'simpart_ovy', 'simpart_ovz', 'simpart_mother', 'simpart_exphi', 'simpart_exeta', 'simpart_exx', 'simpart_exy', 'simpart_fbrem', 'simpart_pid', 'simpart_gen', 'simpart_reachedEE', 'simpart_fromBeamPipe']\n",
      "{'eta': 'simpart_eta', 'phi': 'simpart_phi', 'pt': 'simpart_pt', 'energy': 'simpart_energy', 'dvx': 'simpart_dvx', 'dvy': 'simpart_dvy', 'dvz': 'simpart_dvz', 'ovx': 'simpart_ovx', 'ovy': 'simpart_ovy', 'ovz': 'simpart_ovz', 'mother': 'simpart_mother', 'exphi': 'simpart_exphi', 'exeta': 'simpart_exeta', 'exx': 'simpart_exx', 'exy': 'simpart_exy', 'fbrem': 'simpart_fbrem', 'pid': 'simpart_pid', 'gen': 'simpart_gen', 'reachedEE': 'simpart_reachedEE', 'fromBeamPipe': 'simpart_fromBeamPipe'}\n",
      "0 100\n",
      "[{eta: [0.82, -0.82, ..., 0.821], phi: [1.95, ...], pt: [...], ...}, ..., {...}]\n"
     ]
    }
   ],
   "source": [
    "\n",
    "sim = reader.getDataFrame('simpart', 100)"
   ]
  },
  {
   "cell_type": "code",
   "execution_count": 33,
   "metadata": {},
   "outputs": [
    {
     "data": {
      "text/html": [
       "<pre>[[0, 1],\n",
       " [0, 1],\n",
       " [0, 1],\n",
       " [0, 1],\n",
       " [0, 1],\n",
       " [0, 1],\n",
       " [0, 1],\n",
       " [0, 1],\n",
       " [0, 1],\n",
       " [0, 1],\n",
       " ...,\n",
       " [0, 1],\n",
       " [0, 1],\n",
       " [0, 1],\n",
       " [0, 1],\n",
       " [0, 1],\n",
       " [0, 1],\n",
       " [0, 1],\n",
       " [0, 1],\n",
       " [0, 1]]\n",
       "-----------------------\n",
       "type: 100 * var * int32</pre>"
      ],
      "text/plain": [
       "<Array [[0, 1], [0, 1], [0, ...], ..., [0, 1], [0, 1]] type='100 * var * int32'>"
      ]
     },
     "execution_count": 33,
     "metadata": {},
     "output_type": "execute_result"
    }
   ],
   "source": [
    "sim[sim.gen != -1].gen-1"
   ]
  },
  {
   "cell_type": "code",
   "execution_count": 40,
   "metadata": {},
   "outputs": [
    {
     "data": {
      "text/html": [
       "<pre>[[1, 2, -1, -1, -1, -1, -1, -1, -1, ..., -1, -1, -1, -1, -1, -1, -1, -1, -1],\n",
       " [1, 2, -1, -1, -1, -1, -1, -1, -1, ..., -1, -1, -1, -1, -1, -1, -1, -1, -1],\n",
       " [1, 2, -1, -1, -1, -1, -1, -1, -1, ..., -1, -1, -1, -1, -1, -1, -1, -1, -1],\n",
       " [1, 2, -1, -1, -1, -1, -1, -1, -1, ..., -1, -1, -1, -1, -1, -1, -1, -1, -1],\n",
       " [1, 2, -1, -1, -1, -1, -1, -1, -1, -1, -1, -1, -1],\n",
       " [1, 2, -1, -1, -1, -1, -1, -1, -1, ..., -1, -1, -1, -1, -1, -1, -1, -1, -1],\n",
       " [1, 2, -1, -1, -1, -1, -1, -1, -1, -1, -1, -1, -1, -1, -1],\n",
       " [1, 2, -1, -1, -1, -1, -1, -1, -1, ..., -1, -1, -1, -1, -1, -1, -1, -1, -1],\n",
       " [1, 2, -1, -1, -1, -1, -1, -1, -1, ..., -1, -1, -1, -1, -1, -1, -1, -1, -1],\n",
       " [1, 2, -1, -1, -1, -1, -1, -1, -1, ..., -1, -1, -1, -1, -1, -1, -1, -1, -1],\n",
       " ...,\n",
       " [1, 2, -1, -1, -1, -1, -1, -1, -1, ..., -1, -1, -1, -1, -1, -1, -1, -1, -1],\n",
       " [1, 2, -1, -1, -1, -1, -1, -1, -1, ..., -1, -1, -1, -1, -1, -1, -1, -1, -1],\n",
       " [1, 2, -1, -1, -1, -1, -1, -1, -1, ..., -1, -1, -1, -1, -1, -1, -1, -1, -1],\n",
       " [1, 2, -1, -1, -1, -1, -1, -1, -1, -1, -1, -1, -1, -1, -1, -1],\n",
       " [1, 2, -1, -1, -1, -1, -1, -1, -1, ..., -1, -1, -1, -1, -1, -1, -1, -1, -1],\n",
       " [1, 2, -1, -1, -1, -1, -1, -1, -1, ..., -1, -1, -1, -1, -1, -1, -1, -1, -1],\n",
       " [1, 2, -1, -1, -1, -1, -1, -1, -1, ..., -1, -1, -1, -1, -1, -1, -1, -1, -1],\n",
       " [1, 2, -1, -1, -1, -1, -1, -1, -1, ..., -1, -1, -1, -1, -1, -1, -1, -1, -1],\n",
       " [1, 2, -1, -1, -1, -1, -1, -1, -1, ..., -1, -1, -1, -1, -1, -1, -1, -1, -1]]\n",
       "-----------------------------------------------------------------------------\n",
       "type: 100 * var * int32</pre>"
      ],
      "text/plain": [
       "<Array [[1, 2, -1, -1, -1, ..., -1, -1, -1, -1], ...] type='100 * var * int32'>"
      ]
     },
     "execution_count": 40,
     "metadata": {},
     "output_type": "execute_result"
    }
   ],
   "source": [
    "sim['test'] = sim.gen\n",
    "sim.test"
   ]
  },
  {
   "cell_type": "code",
   "execution_count": 48,
   "metadata": {},
   "outputs": [
    {
     "data": {
      "text/html": [
       "<pre>[[0, 1],\n",
       " [0, 1],\n",
       " [0, 1],\n",
       " [0, 1],\n",
       " [0, 1],\n",
       " [0, 1],\n",
       " [0, 1],\n",
       " [0, 1],\n",
       " [0, 1],\n",
       " [0, 1],\n",
       " ...,\n",
       " [0, 1],\n",
       " [0, 1],\n",
       " [0, 1],\n",
       " [0, 1],\n",
       " [0, 1],\n",
       " [0, 1],\n",
       " [0, 1],\n",
       " [0, 1],\n",
       " [0, 1]]\n",
       "-----------------------\n",
       "type: 100 * var * int32</pre>"
      ],
      "text/plain": [
       "<Array [[0, 1], [0, 1], [0, ...], ..., [0, 1], [0, 1]] type='100 * var * int32'>"
      ]
     },
     "execution_count": 48,
     "metadata": {},
     "output_type": "execute_result"
    }
   ],
   "source": [
    "sim[sim.gen !=-1].gen-1"
   ]
  },
  {
   "cell_type": "code",
   "execution_count": 58,
   "metadata": {},
   "outputs": [
    {
     "data": {
      "text/html": [
       "<pre>[2,\n",
       " 2,\n",
       " 2,\n",
       " 2,\n",
       " 2,\n",
       " 2,\n",
       " 2,\n",
       " 2,\n",
       " 2,\n",
       " 2,\n",
       " ...,\n",
       " 2,\n",
       " 2,\n",
       " 2,\n",
       " 2,\n",
       " 2,\n",
       " 2,\n",
       " 2,\n",
       " 2,\n",
       " 2]\n",
       "-----------------\n",
       "type: 100 * int64</pre>"
      ],
      "text/plain": [
       "<Array [2, 2, 2, 2, 2, 2, 2, 2, ..., 2, 2, 2, 2, 2, 2, 2, 2] type='100 * int64'>"
      ]
     },
     "execution_count": 58,
     "metadata": {},
     "output_type": "execute_result"
    }
   ],
   "source": [
    "ak.count(mc.pdgid[sim[sim.gen !=-1].gen-1], axis=1)"
   ]
  },
  {
   "cell_type": "code",
   "execution_count": 63,
   "metadata": {},
   "outputs": [],
   "source": [
    "sim['test'] = mc.pdgid[sim[sim.gen !=-1].gen-1]"
   ]
  },
  {
   "cell_type": "code",
   "execution_count": 65,
   "metadata": {},
   "outputs": [
    {
     "ename": "AttributeError",
     "evalue": "module 'awkward' has no attribute 'padding_none'",
     "output_type": "error",
     "traceback": [
      "\u001b[0;31m---------------------------------------------------------------------------\u001b[0m",
      "\u001b[0;31mAttributeError\u001b[0m                            Traceback (most recent call last)",
      "Cell \u001b[0;32mIn[65], line 1\u001b[0m\n\u001b[0;32m----> 1\u001b[0m \u001b[43mak\u001b[49m\u001b[38;5;241;43m.\u001b[39;49m\u001b[43mpadding_none\u001b[49m(sim\u001b[38;5;241m.\u001b[39mtest)\n",
      "\u001b[0;31mAttributeError\u001b[0m: module 'awkward' has no attribute 'padding_none'"
     ]
    }
   ],
   "source": [
    "ak.padding_none(sim.test)"
   ]
  },
  {
   "cell_type": "code",
   "execution_count": 71,
   "metadata": {},
   "outputs": [
    {
     "data": {
      "text/html": [
       "<pre>[{eta: [0.82, -0.82, ..., 0.822, 0.821], phi: [1.95, ...], pt: [...], ...},\n",
       " {eta: [-0.0272, 0.0272, ..., -0.0231], phi: [1.99, ...], pt: [...], ...},\n",
       " {eta: [-1.38, 1.38, ..., -1.38, -1.38], phi: [2.84, ...], pt: [...], ...},\n",
       " {eta: [1.28, -1.28, ..., 1.29, 1.29], phi: [1.57, ...], pt: [...], ...},\n",
       " {eta: [0.823, -0.823, ..., 0.823], phi: [3.01, ...], pt: [...], ...},\n",
       " {eta: [-0.695, 0.695, ..., -0.698], phi: [-1.45, ...], pt: [...], ...},\n",
       " {eta: [0.66, -0.66, ..., -0.659, 0.66], phi: [-0.223, ...], pt: [...], ...},\n",
       " {eta: [1.95, -1.95, ..., 1.95, 1.96], phi: [2.96, ...], pt: [...], ...},\n",
       " {eta: [-1.45, 1.45, ..., -1.45, -1.45], phi: [-3.03, ...], pt: [...], ...},\n",
       " {eta: [-1.17, 1.17, ..., -1.17, -1.14], phi: [1.79, ...], pt: [...], ...},\n",
       " ...,\n",
       " {eta: [1.56, -1.56, ..., 1.56, 1.56], phi: [-2.92, ...], pt: [...], ...},\n",
       " {eta: [2.01, -2.01, ..., 2.01, 2.02], phi: [0.188, ...], pt: [...], ...},\n",
       " {eta: [-2.75, 2.75, ..., -2.74, -2.75], phi: [1.49, ...], pt: [...], ...},\n",
       " {eta: [0.592, -0.592, ..., 0.592, 0.59], phi: [0.769, ...], pt: [...], ...},\n",
       " {eta: [2.01, -2.01, ..., 2.01, 2.01], phi: [0.208, ...], pt: [...], ...},\n",
       " {eta: [2.58, -2.58, ..., 2.58, 2.57], phi: [2.88, ...], pt: [...], ...},\n",
       " {eta: [-2.42, 2.42, ..., -2.4, -2.41], phi: [2.7, ...], pt: [...], ...},\n",
       " {eta: [1.35, -1.35, ..., 1.35, 1.37], phi: [1.48, ..., 1], pt: [...], ...},\n",
       " {eta: [1.44, -1.44, ..., 1.44, 1.44], phi: [2.23, ...], pt: [...], ...}]\n",
       "-----------------------------------------------------------------------------\n",
       "type: 100 * {\n",
       "    eta: var * float32,\n",
       "    phi: var * float32,\n",
       "    pt: var * float32,\n",
       "    energy: var * float32,\n",
       "    dvx: var * float32,\n",
       "    dvy: var * float32,\n",
       "    dvz: var * float32,\n",
       "    ovx: var * float32,\n",
       "    ovy: var * float32,\n",
       "    ovz: var * float32,\n",
       "    mother: var * int32,\n",
       "    exphi: var * float32,\n",
       "    exeta: var * float32,\n",
       "    exx: var * float32,\n",
       "    exy: var * float32,\n",
       "    fbrem: var * float32,\n",
       "    pid: var * int32,\n",
       "    gen: var * int32,\n",
       "    reachedEE: var * int32,\n",
       "    fromBeamPipe: var * bool,\n",
       "    test: var * int32\n",
       "}</pre>"
      ],
      "text/plain": [
       "<Array [{eta: [0.82, ...], phi: ..., ...}, ...] type='100 * {eta: var * flo...'>"
      ]
     },
     "execution_count": 71,
     "metadata": {},
     "output_type": "execute_result"
    }
   ],
   "source": [
    "sim"
   ]
  },
  {
   "cell_type": "code",
   "execution_count": 70,
   "metadata": {},
   "outputs": [
    {
     "ename": "ValueError",
     "evalue": "cannot convert to RegularArray because subarray lengths are not regular (in compiled code: https://github.com/scikit-hep/awkward/blob/awkward-cpp-15/awkward-cpp/src/cpu-kernels/awkward_ListOffsetArray_toRegularArray.cpp#L22)\n\nThis error occurred while calling\n\n    ak.to_regular(\n        array = <Array [{gen: [...], ...}, ..., {...}] type='100 * {gen: va...'>\n        axis = 1\n        highlevel = True\n        behavior = None\n    )",
     "output_type": "error",
     "traceback": [
      "\u001b[0;31m---------------------------------------------------------------------------\u001b[0m",
      "\u001b[0;31mValueError\u001b[0m                                Traceback (most recent call last)",
      "File \u001b[0;32m~/.virtualenvs/pandas2/lib/python3.10/site-packages/awkward/operations/ak_to_regular.py:58\u001b[0m, in \u001b[0;36mto_regular\u001b[0;34m(array, axis, highlevel, behavior)\u001b[0m\n\u001b[1;32m     54\u001b[0m \u001b[38;5;28;01mwith\u001b[39;00m ak\u001b[38;5;241m.\u001b[39m_errors\u001b[38;5;241m.\u001b[39mOperationErrorContext(\n\u001b[1;32m     55\u001b[0m     \u001b[38;5;124m\"\u001b[39m\u001b[38;5;124mak.to_regular\u001b[39m\u001b[38;5;124m\"\u001b[39m,\n\u001b[1;32m     56\u001b[0m     {\u001b[38;5;124m\"\u001b[39m\u001b[38;5;124marray\u001b[39m\u001b[38;5;124m\"\u001b[39m: array, \u001b[38;5;124m\"\u001b[39m\u001b[38;5;124maxis\u001b[39m\u001b[38;5;124m\"\u001b[39m: axis, \u001b[38;5;124m\"\u001b[39m\u001b[38;5;124mhighlevel\u001b[39m\u001b[38;5;124m\"\u001b[39m: highlevel, \u001b[38;5;124m\"\u001b[39m\u001b[38;5;124mbehavior\u001b[39m\u001b[38;5;124m\"\u001b[39m: behavior},\n\u001b[1;32m     57\u001b[0m ):\n\u001b[0;32m---> 58\u001b[0m     \u001b[38;5;28;01mreturn\u001b[39;00m \u001b[43m_impl\u001b[49m\u001b[43m(\u001b[49m\u001b[43marray\u001b[49m\u001b[43m,\u001b[49m\u001b[43m \u001b[49m\u001b[43maxis\u001b[49m\u001b[43m,\u001b[49m\u001b[43m \u001b[49m\u001b[43mhighlevel\u001b[49m\u001b[43m,\u001b[49m\u001b[43m \u001b[49m\u001b[43mbehavior\u001b[49m\u001b[43m)\u001b[49m\n",
      "File \u001b[0;32m~/.virtualenvs/pandas2/lib/python3.10/site-packages/awkward/operations/ak_to_regular.py:89\u001b[0m, in \u001b[0;36m_impl\u001b[0;34m(array, axis, highlevel, behavior)\u001b[0m\n\u001b[1;32m     85\u001b[0m             \u001b[38;5;28;01mraise\u001b[39;00m AxisError(\n\u001b[1;32m     86\u001b[0m                 \u001b[38;5;124mf\u001b[39m\u001b[38;5;124m\"\u001b[39m\u001b[38;5;124maxis=\u001b[39m\u001b[38;5;132;01m{\u001b[39;00maxis\u001b[38;5;132;01m}\u001b[39;00m\u001b[38;5;124m exceeds the depth of this array (\u001b[39m\u001b[38;5;132;01m{\u001b[39;00mdepth\u001b[38;5;132;01m}\u001b[39;00m\u001b[38;5;124m)\u001b[39m\u001b[38;5;124m\"\u001b[39m\n\u001b[1;32m     87\u001b[0m             )\n\u001b[0;32m---> 89\u001b[0m     out \u001b[38;5;241m=\u001b[39m \u001b[43mak\u001b[49m\u001b[38;5;241;43m.\u001b[39;49m\u001b[43m_do\u001b[49m\u001b[38;5;241;43m.\u001b[39;49m\u001b[43mrecursively_apply\u001b[49m\u001b[43m(\u001b[49m\u001b[43mlayout\u001b[49m\u001b[43m,\u001b[49m\u001b[43m \u001b[49m\u001b[43maction\u001b[49m\u001b[43m,\u001b[49m\u001b[43m \u001b[49m\u001b[43mbehavior\u001b[49m\u001b[43m)\u001b[49m\n\u001b[1;32m     91\u001b[0m \u001b[38;5;28;01mreturn\u001b[39;00m wrap_layout(out, behavior, highlevel)\n",
      "File \u001b[0;32m~/.virtualenvs/pandas2/lib/python3.10/site-packages/awkward/_do.py:35\u001b[0m, in \u001b[0;36mrecursively_apply\u001b[0;34m(layout, action, behavior, depth_context, lateral_context, allow_records, keep_parameters, numpy_to_regular, return_simplified, return_array, function_name, regular_to_jagged)\u001b[0m\n\u001b[1;32m     34\u001b[0m \u001b[38;5;28;01mif\u001b[39;00m \u001b[38;5;28misinstance\u001b[39m(layout, Content):\n\u001b[0;32m---> 35\u001b[0m     \u001b[38;5;28;01mreturn\u001b[39;00m \u001b[43mlayout\u001b[49m\u001b[38;5;241;43m.\u001b[39;49m\u001b[43m_recursively_apply\u001b[49m\u001b[43m(\u001b[49m\n\u001b[1;32m     36\u001b[0m \u001b[43m        \u001b[49m\u001b[43maction\u001b[49m\u001b[43m,\u001b[49m\n\u001b[1;32m     37\u001b[0m \u001b[43m        \u001b[49m\u001b[43mbehavior\u001b[49m\u001b[43m,\u001b[49m\n\u001b[1;32m     38\u001b[0m \u001b[43m        \u001b[49m\u001b[38;5;241;43m1\u001b[39;49m\u001b[43m,\u001b[49m\n\u001b[1;32m     39\u001b[0m \u001b[43m        \u001b[49m\u001b[43mcopy\u001b[49m\u001b[38;5;241;43m.\u001b[39;49m\u001b[43mcopy\u001b[49m\u001b[43m(\u001b[49m\u001b[43mdepth_context\u001b[49m\u001b[43m)\u001b[49m\u001b[43m,\u001b[49m\n\u001b[1;32m     40\u001b[0m \u001b[43m        \u001b[49m\u001b[43mlateral_context\u001b[49m\u001b[43m,\u001b[49m\n\u001b[1;32m     41\u001b[0m \u001b[43m        \u001b[49m\u001b[43m{\u001b[49m\n\u001b[1;32m     42\u001b[0m \u001b[43m            \u001b[49m\u001b[38;5;124;43m\"\u001b[39;49m\u001b[38;5;124;43mallow_records\u001b[39;49m\u001b[38;5;124;43m\"\u001b[39;49m\u001b[43m:\u001b[49m\u001b[43m \u001b[49m\u001b[43mallow_records\u001b[49m\u001b[43m,\u001b[49m\n\u001b[1;32m     43\u001b[0m \u001b[43m            \u001b[49m\u001b[38;5;124;43m\"\u001b[39;49m\u001b[38;5;124;43mkeep_parameters\u001b[39;49m\u001b[38;5;124;43m\"\u001b[39;49m\u001b[43m:\u001b[49m\u001b[43m \u001b[49m\u001b[43mkeep_parameters\u001b[49m\u001b[43m,\u001b[49m\n\u001b[1;32m     44\u001b[0m \u001b[43m            \u001b[49m\u001b[38;5;124;43m\"\u001b[39;49m\u001b[38;5;124;43mnumpy_to_regular\u001b[39;49m\u001b[38;5;124;43m\"\u001b[39;49m\u001b[43m:\u001b[49m\u001b[43m \u001b[49m\u001b[43mnumpy_to_regular\u001b[49m\u001b[43m,\u001b[49m\n\u001b[1;32m     45\u001b[0m \u001b[43m            \u001b[49m\u001b[38;5;124;43m\"\u001b[39;49m\u001b[38;5;124;43mregular_to_jagged\u001b[39;49m\u001b[38;5;124;43m\"\u001b[39;49m\u001b[43m:\u001b[49m\u001b[43m \u001b[49m\u001b[43mregular_to_jagged\u001b[49m\u001b[43m,\u001b[49m\n\u001b[1;32m     46\u001b[0m \u001b[43m            \u001b[49m\u001b[38;5;124;43m\"\u001b[39;49m\u001b[38;5;124;43mreturn_simplified\u001b[39;49m\u001b[38;5;124;43m\"\u001b[39;49m\u001b[43m:\u001b[49m\u001b[43m \u001b[49m\u001b[43mreturn_simplified\u001b[49m\u001b[43m,\u001b[49m\n\u001b[1;32m     47\u001b[0m \u001b[43m            \u001b[49m\u001b[38;5;124;43m\"\u001b[39;49m\u001b[38;5;124;43mreturn_array\u001b[39;49m\u001b[38;5;124;43m\"\u001b[39;49m\u001b[43m:\u001b[49m\u001b[43m \u001b[49m\u001b[43mreturn_array\u001b[49m\u001b[43m,\u001b[49m\n\u001b[1;32m     48\u001b[0m \u001b[43m            \u001b[49m\u001b[38;5;124;43m\"\u001b[39;49m\u001b[38;5;124;43mfunction_name\u001b[39;49m\u001b[38;5;124;43m\"\u001b[39;49m\u001b[43m:\u001b[49m\u001b[43m \u001b[49m\u001b[43mfunction_name\u001b[49m\u001b[43m,\u001b[49m\n\u001b[1;32m     49\u001b[0m \u001b[43m        \u001b[49m\u001b[43m}\u001b[49m\u001b[43m,\u001b[49m\n\u001b[1;32m     50\u001b[0m \u001b[43m    \u001b[49m\u001b[43m)\u001b[49m\n\u001b[1;32m     52\u001b[0m \u001b[38;5;28;01melif\u001b[39;00m \u001b[38;5;28misinstance\u001b[39m(layout, Record):\n",
      "File \u001b[0;32m~/.virtualenvs/pandas2/lib/python3.10/site-packages/awkward/contents/recordarray.py:1076\u001b[0m, in \u001b[0;36mRecordArray._recursively_apply\u001b[0;34m(self, action, behavior, depth, depth_context, lateral_context, options)\u001b[0m\n\u001b[1;32m   1075\u001b[0m \u001b[38;5;28;01melif\u001b[39;00m result \u001b[38;5;129;01mis\u001b[39;00m \u001b[38;5;28;01mNone\u001b[39;00m:\n\u001b[0;32m-> 1076\u001b[0m     \u001b[38;5;28;01mreturn\u001b[39;00m \u001b[43mcontinuation\u001b[49m\u001b[43m(\u001b[49m\u001b[43m)\u001b[49m\n\u001b[1;32m   1077\u001b[0m \u001b[38;5;28;01melse\u001b[39;00m:\n",
      "File \u001b[0;32m~/.virtualenvs/pandas2/lib/python3.10/site-packages/awkward/contents/recordarray.py:1032\u001b[0m, in \u001b[0;36mRecordArray._recursively_apply.<locals>.continuation\u001b[0;34m()\u001b[0m\n\u001b[1;32m   1028\u001b[0m     \u001b[38;5;28;01mraise\u001b[39;00m \u001b[38;5;167;01mValueError\u001b[39;00m(\n\u001b[1;32m   1029\u001b[0m         \u001b[38;5;124mf\u001b[39m\u001b[38;5;124m\"\u001b[39m\u001b[38;5;124mcannot broadcast records in \u001b[39m\u001b[38;5;132;01m{\u001b[39;00moptions[\u001b[38;5;124m'\u001b[39m\u001b[38;5;124mfunction_name\u001b[39m\u001b[38;5;124m'\u001b[39m]\u001b[38;5;132;01m}\u001b[39;00m\u001b[38;5;124m\"\u001b[39m\n\u001b[1;32m   1030\u001b[0m     )\n\u001b[1;32m   1031\u001b[0m \u001b[38;5;28;01mreturn\u001b[39;00m RecordArray(\n\u001b[0;32m-> 1032\u001b[0m     [\n\u001b[1;32m   1033\u001b[0m         content\u001b[38;5;241m.\u001b[39m_recursively_apply(\n\u001b[1;32m   1034\u001b[0m             action,\n\u001b[1;32m   1035\u001b[0m             behavior,\n\u001b[1;32m   1036\u001b[0m             depth,\n\u001b[1;32m   1037\u001b[0m             copy\u001b[38;5;241m.\u001b[39mcopy(depth_context),\n\u001b[1;32m   1038\u001b[0m             lateral_context,\n\u001b[1;32m   1039\u001b[0m             options,\n\u001b[1;32m   1040\u001b[0m         )\n\u001b[1;32m   1041\u001b[0m         \u001b[38;5;28;01mfor\u001b[39;00m content \u001b[38;5;129;01min\u001b[39;00m contents\n\u001b[1;32m   1042\u001b[0m     ],\n\u001b[1;32m   1043\u001b[0m     \u001b[38;5;28mself\u001b[39m\u001b[38;5;241m.\u001b[39m_fields,\n\u001b[1;32m   1044\u001b[0m     \u001b[38;5;28mself\u001b[39m\u001b[38;5;241m.\u001b[39m_length,\n\u001b[1;32m   1045\u001b[0m     parameters\u001b[38;5;241m=\u001b[39m\u001b[38;5;28mself\u001b[39m\u001b[38;5;241m.\u001b[39m_parameters \u001b[38;5;28;01mif\u001b[39;00m options[\u001b[38;5;124m\"\u001b[39m\u001b[38;5;124mkeep_parameters\u001b[39m\u001b[38;5;124m\"\u001b[39m] \u001b[38;5;28;01melse\u001b[39;00m \u001b[38;5;28;01mNone\u001b[39;00m,\n\u001b[1;32m   1046\u001b[0m     backend\u001b[38;5;241m=\u001b[39m\u001b[38;5;28mself\u001b[39m\u001b[38;5;241m.\u001b[39m_backend,\n\u001b[1;32m   1047\u001b[0m )\n",
      "File \u001b[0;32m~/.virtualenvs/pandas2/lib/python3.10/site-packages/awkward/contents/recordarray.py:1033\u001b[0m, in \u001b[0;36m<listcomp>\u001b[0;34m(.0)\u001b[0m\n\u001b[1;32m   1028\u001b[0m     \u001b[38;5;28;01mraise\u001b[39;00m \u001b[38;5;167;01mValueError\u001b[39;00m(\n\u001b[1;32m   1029\u001b[0m         \u001b[38;5;124mf\u001b[39m\u001b[38;5;124m\"\u001b[39m\u001b[38;5;124mcannot broadcast records in \u001b[39m\u001b[38;5;132;01m{\u001b[39;00moptions[\u001b[38;5;124m'\u001b[39m\u001b[38;5;124mfunction_name\u001b[39m\u001b[38;5;124m'\u001b[39m]\u001b[38;5;132;01m}\u001b[39;00m\u001b[38;5;124m\"\u001b[39m\n\u001b[1;32m   1030\u001b[0m     )\n\u001b[1;32m   1031\u001b[0m \u001b[38;5;28;01mreturn\u001b[39;00m RecordArray(\n\u001b[1;32m   1032\u001b[0m     [\n\u001b[0;32m-> 1033\u001b[0m         \u001b[43mcontent\u001b[49m\u001b[38;5;241;43m.\u001b[39;49m\u001b[43m_recursively_apply\u001b[49m\u001b[43m(\u001b[49m\n\u001b[1;32m   1034\u001b[0m \u001b[43m            \u001b[49m\u001b[43maction\u001b[49m\u001b[43m,\u001b[49m\n\u001b[1;32m   1035\u001b[0m \u001b[43m            \u001b[49m\u001b[43mbehavior\u001b[49m\u001b[43m,\u001b[49m\n\u001b[1;32m   1036\u001b[0m \u001b[43m            \u001b[49m\u001b[43mdepth\u001b[49m\u001b[43m,\u001b[49m\n\u001b[1;32m   1037\u001b[0m \u001b[43m            \u001b[49m\u001b[43mcopy\u001b[49m\u001b[38;5;241;43m.\u001b[39;49m\u001b[43mcopy\u001b[49m\u001b[43m(\u001b[49m\u001b[43mdepth_context\u001b[49m\u001b[43m)\u001b[49m\u001b[43m,\u001b[49m\n\u001b[1;32m   1038\u001b[0m \u001b[43m            \u001b[49m\u001b[43mlateral_context\u001b[49m\u001b[43m,\u001b[49m\n\u001b[1;32m   1039\u001b[0m \u001b[43m            \u001b[49m\u001b[43moptions\u001b[49m\u001b[43m,\u001b[49m\n\u001b[1;32m   1040\u001b[0m \u001b[43m        \u001b[49m\u001b[43m)\u001b[49m\n\u001b[1;32m   1041\u001b[0m         \u001b[38;5;28;01mfor\u001b[39;00m content \u001b[38;5;129;01min\u001b[39;00m contents\n\u001b[1;32m   1042\u001b[0m     ],\n\u001b[1;32m   1043\u001b[0m     \u001b[38;5;28mself\u001b[39m\u001b[38;5;241m.\u001b[39m_fields,\n\u001b[1;32m   1044\u001b[0m     \u001b[38;5;28mself\u001b[39m\u001b[38;5;241m.\u001b[39m_length,\n\u001b[1;32m   1045\u001b[0m     parameters\u001b[38;5;241m=\u001b[39m\u001b[38;5;28mself\u001b[39m\u001b[38;5;241m.\u001b[39m_parameters \u001b[38;5;28;01mif\u001b[39;00m options[\u001b[38;5;124m\"\u001b[39m\u001b[38;5;124mkeep_parameters\u001b[39m\u001b[38;5;124m\"\u001b[39m] \u001b[38;5;28;01melse\u001b[39;00m \u001b[38;5;28;01mNone\u001b[39;00m,\n\u001b[1;32m   1046\u001b[0m     backend\u001b[38;5;241m=\u001b[39m\u001b[38;5;28mself\u001b[39m\u001b[38;5;241m.\u001b[39m_backend,\n\u001b[1;32m   1047\u001b[0m )\n",
      "File \u001b[0;32m~/.virtualenvs/pandas2/lib/python3.10/site-packages/awkward/contents/listoffsetarray.py:2110\u001b[0m, in \u001b[0;36mListOffsetArray._recursively_apply\u001b[0;34m(self, action, behavior, depth, depth_context, lateral_context, options)\u001b[0m\n\u001b[1;32m   2101\u001b[0m         content\u001b[38;5;241m.\u001b[39m_recursively_apply(\n\u001b[1;32m   2102\u001b[0m             action,\n\u001b[1;32m   2103\u001b[0m             behavior,\n\u001b[0;32m   (...)\u001b[0m\n\u001b[1;32m   2107\u001b[0m             options,\n\u001b[1;32m   2108\u001b[0m         )\n\u001b[0;32m-> 2110\u001b[0m result \u001b[38;5;241m=\u001b[39m \u001b[43maction\u001b[49m\u001b[43m(\u001b[49m\n\u001b[1;32m   2111\u001b[0m \u001b[43m    \u001b[49m\u001b[38;5;28;43mself\u001b[39;49m\u001b[43m,\u001b[49m\n\u001b[1;32m   2112\u001b[0m \u001b[43m    \u001b[49m\u001b[43mdepth\u001b[49m\u001b[38;5;241;43m=\u001b[39;49m\u001b[43mdepth\u001b[49m\u001b[43m,\u001b[49m\n\u001b[1;32m   2113\u001b[0m \u001b[43m    \u001b[49m\u001b[43mdepth_context\u001b[49m\u001b[38;5;241;43m=\u001b[39;49m\u001b[43mdepth_context\u001b[49m\u001b[43m,\u001b[49m\n\u001b[1;32m   2114\u001b[0m \u001b[43m    \u001b[49m\u001b[43mlateral_context\u001b[49m\u001b[38;5;241;43m=\u001b[39;49m\u001b[43mlateral_context\u001b[49m\u001b[43m,\u001b[49m\n\u001b[1;32m   2115\u001b[0m \u001b[43m    \u001b[49m\u001b[43mcontinuation\u001b[49m\u001b[38;5;241;43m=\u001b[39;49m\u001b[43mcontinuation\u001b[49m\u001b[43m,\u001b[49m\n\u001b[1;32m   2116\u001b[0m \u001b[43m    \u001b[49m\u001b[43mbehavior\u001b[49m\u001b[38;5;241;43m=\u001b[39;49m\u001b[43mbehavior\u001b[49m\u001b[43m,\u001b[49m\n\u001b[1;32m   2117\u001b[0m \u001b[43m    \u001b[49m\u001b[43mbackend\u001b[49m\u001b[38;5;241;43m=\u001b[39;49m\u001b[38;5;28;43mself\u001b[39;49m\u001b[38;5;241;43m.\u001b[39;49m\u001b[43m_backend\u001b[49m\u001b[43m,\u001b[49m\n\u001b[1;32m   2118\u001b[0m \u001b[43m    \u001b[49m\u001b[43moptions\u001b[49m\u001b[38;5;241;43m=\u001b[39;49m\u001b[43moptions\u001b[49m\u001b[43m,\u001b[49m\n\u001b[1;32m   2119\u001b[0m \u001b[43m\u001b[49m\u001b[43m)\u001b[49m\n\u001b[1;32m   2121\u001b[0m \u001b[38;5;28;01mif\u001b[39;00m \u001b[38;5;28misinstance\u001b[39m(result, Content):\n",
      "File \u001b[0;32m~/.virtualenvs/pandas2/lib/python3.10/site-packages/awkward/operations/ak_to_regular.py:82\u001b[0m, in \u001b[0;36m_impl.<locals>.action\u001b[0;34m(layout, depth, **kwargs)\u001b[0m\n\u001b[1;32m     81\u001b[0m \u001b[38;5;28;01mif\u001b[39;00m posaxis \u001b[38;5;241m==\u001b[39m depth \u001b[38;5;129;01mand\u001b[39;00m layout\u001b[38;5;241m.\u001b[39mis_list:\n\u001b[0;32m---> 82\u001b[0m     \u001b[38;5;28;01mreturn\u001b[39;00m \u001b[43mlayout\u001b[49m\u001b[38;5;241;43m.\u001b[39;49m\u001b[43mto_RegularArray\u001b[49m\u001b[43m(\u001b[49m\u001b[43m)\u001b[49m\n\u001b[1;32m     84\u001b[0m \u001b[38;5;28;01melif\u001b[39;00m layout\u001b[38;5;241m.\u001b[39mis_leaf:\n",
      "File \u001b[0;32m~/.virtualenvs/pandas2/lib/python3.10/site-packages/awkward/contents/listoffsetarray.py:276\u001b[0m, in \u001b[0;36mListOffsetArray.to_RegularArray\u001b[0;34m(self)\u001b[0m\n\u001b[1;32m    272\u001b[0m \u001b[38;5;28;01massert\u001b[39;00m (\n\u001b[1;32m    273\u001b[0m     _size\u001b[38;5;241m.\u001b[39mnplike \u001b[38;5;129;01mis\u001b[39;00m \u001b[38;5;28mself\u001b[39m\u001b[38;5;241m.\u001b[39m_backend\u001b[38;5;241m.\u001b[39mindex_nplike\n\u001b[1;32m    274\u001b[0m     \u001b[38;5;129;01mand\u001b[39;00m \u001b[38;5;28mself\u001b[39m\u001b[38;5;241m.\u001b[39m_offsets\u001b[38;5;241m.\u001b[39mnplike \u001b[38;5;129;01mis\u001b[39;00m \u001b[38;5;28mself\u001b[39m\u001b[38;5;241m.\u001b[39m_backend\u001b[38;5;241m.\u001b[39mindex_nplike\n\u001b[1;32m    275\u001b[0m )\n\u001b[0;32m--> 276\u001b[0m \u001b[38;5;28;43mself\u001b[39;49m\u001b[38;5;241;43m.\u001b[39;49m\u001b[43m_handle_error\u001b[49m\u001b[43m(\u001b[49m\n\u001b[1;32m    277\u001b[0m \u001b[43m    \u001b[49m\u001b[38;5;28;43mself\u001b[39;49m\u001b[38;5;241;43m.\u001b[39;49m\u001b[43m_backend\u001b[49m\u001b[43m[\u001b[49m\n\u001b[1;32m    278\u001b[0m \u001b[43m        \u001b[49m\u001b[38;5;124;43m\"\u001b[39;49m\u001b[38;5;124;43mawkward_ListOffsetArray_toRegularArray\u001b[39;49m\u001b[38;5;124;43m\"\u001b[39;49m\u001b[43m,\u001b[49m\n\u001b[1;32m    279\u001b[0m \u001b[43m        \u001b[49m\u001b[43m_size\u001b[49m\u001b[38;5;241;43m.\u001b[39;49m\u001b[43mdtype\u001b[49m\u001b[38;5;241;43m.\u001b[39;49m\u001b[43mtype\u001b[49m\u001b[43m,\u001b[49m\n\u001b[1;32m    280\u001b[0m \u001b[43m        \u001b[49m\u001b[38;5;28;43mself\u001b[39;49m\u001b[38;5;241;43m.\u001b[39;49m\u001b[43m_offsets\u001b[49m\u001b[38;5;241;43m.\u001b[39;49m\u001b[43mdtype\u001b[49m\u001b[38;5;241;43m.\u001b[39;49m\u001b[43mtype\u001b[49m\u001b[43m,\u001b[49m\n\u001b[1;32m    281\u001b[0m \u001b[43m    \u001b[49m\u001b[43m]\u001b[49m\u001b[43m(\u001b[49m\n\u001b[1;32m    282\u001b[0m \u001b[43m        \u001b[49m\u001b[43m_size\u001b[49m\u001b[38;5;241;43m.\u001b[39;49m\u001b[43mdata\u001b[49m\u001b[43m,\u001b[49m\n\u001b[1;32m    283\u001b[0m \u001b[43m        \u001b[49m\u001b[38;5;28;43mself\u001b[39;49m\u001b[38;5;241;43m.\u001b[39;49m\u001b[43m_offsets\u001b[49m\u001b[38;5;241;43m.\u001b[39;49m\u001b[43mdata\u001b[49m\u001b[43m,\u001b[49m\n\u001b[1;32m    284\u001b[0m \u001b[43m        \u001b[49m\u001b[38;5;28;43mself\u001b[39;49m\u001b[38;5;241;43m.\u001b[39;49m\u001b[43m_offsets\u001b[49m\u001b[38;5;241;43m.\u001b[39;49m\u001b[43mlength\u001b[49m\u001b[43m,\u001b[49m\n\u001b[1;32m    285\u001b[0m \u001b[43m    \u001b[49m\u001b[43m)\u001b[49m\n\u001b[1;32m    286\u001b[0m \u001b[43m\u001b[49m\u001b[43m)\u001b[49m\n\u001b[1;32m    287\u001b[0m size \u001b[38;5;241m=\u001b[39m \u001b[38;5;28mself\u001b[39m\u001b[38;5;241m.\u001b[39m_backend\u001b[38;5;241m.\u001b[39mindex_nplike\u001b[38;5;241m.\u001b[39mindex_as_shape_item(_size[\u001b[38;5;241m0\u001b[39m])\n",
      "File \u001b[0;32m~/.virtualenvs/pandas2/lib/python3.10/site-packages/awkward/contents/content.py:278\u001b[0m, in \u001b[0;36mContent._handle_error\u001b[0;34m(self, error, slicer)\u001b[0m\n\u001b[1;32m    277\u001b[0m \u001b[38;5;28;01mif\u001b[39;00m slicer \u001b[38;5;129;01mis\u001b[39;00m \u001b[38;5;28;01mNone\u001b[39;00m:\n\u001b[0;32m--> 278\u001b[0m     \u001b[38;5;28;01mraise\u001b[39;00m \u001b[38;5;167;01mValueError\u001b[39;00m(message)\n\u001b[1;32m    279\u001b[0m \u001b[38;5;28;01melse\u001b[39;00m:\n",
      "\u001b[0;31mValueError\u001b[0m: cannot convert to RegularArray because subarray lengths are not regular (in compiled code: https://github.com/scikit-hep/awkward/blob/awkward-cpp-15/awkward-cpp/src/cpu-kernels/awkward_ListOffsetArray_toRegularArray.cpp#L22)",
      "\nThe above exception was the direct cause of the following exception:\n",
      "\u001b[0;31mValueError\u001b[0m                                Traceback (most recent call last)",
      "Cell \u001b[0;32mIn[70], line 1\u001b[0m\n\u001b[0;32m----> 1\u001b[0m \u001b[43mak\u001b[49m\u001b[38;5;241;43m.\u001b[39;49m\u001b[43mto_regular\u001b[49m\u001b[43m(\u001b[49m\u001b[43msim\u001b[49m\u001b[43m[\u001b[49m\u001b[43m[\u001b[49m\u001b[38;5;124;43m'\u001b[39;49m\u001b[38;5;124;43mgen\u001b[39;49m\u001b[38;5;124;43m'\u001b[39;49m\u001b[43m,\u001b[49m\u001b[43m \u001b[49m\u001b[38;5;124;43m'\u001b[39;49m\u001b[38;5;124;43mtest\u001b[39;49m\u001b[38;5;124;43m'\u001b[39;49m\u001b[43m]\u001b[49m\u001b[43m]\u001b[49m\u001b[43m,\u001b[49m\u001b[43m \u001b[49m\u001b[43maxis\u001b[49m\u001b[38;5;241;43m=\u001b[39;49m\u001b[38;5;241;43m1\u001b[39;49m\u001b[43m)\u001b[49m\n",
      "File \u001b[0;32m~/.virtualenvs/pandas2/lib/python3.10/site-packages/awkward/operations/ak_to_regular.py:54\u001b[0m, in \u001b[0;36mto_regular\u001b[0;34m(array, axis, highlevel, behavior)\u001b[0m\n\u001b[1;32m     13\u001b[0m \u001b[38;5;28;01mdef\u001b[39;00m \u001b[38;5;21mto_regular\u001b[39m(array, axis\u001b[38;5;241m=\u001b[39m\u001b[38;5;241m1\u001b[39m, \u001b[38;5;241m*\u001b[39m, highlevel\u001b[38;5;241m=\u001b[39m\u001b[38;5;28;01mTrue\u001b[39;00m, behavior\u001b[38;5;241m=\u001b[39m\u001b[38;5;28;01mNone\u001b[39;00m):\n\u001b[1;32m     14\u001b[0m \u001b[38;5;250m    \u001b[39m\u001b[38;5;124;03m\"\"\"\u001b[39;00m\n\u001b[1;32m     15\u001b[0m \u001b[38;5;124;03m    Args:\u001b[39;00m\n\u001b[1;32m     16\u001b[0m \u001b[38;5;124;03m        array: Array-like data (anything #ak.to_layout recognizes).\u001b[39;00m\n\u001b[0;32m   (...)\u001b[0m\n\u001b[1;32m     52\u001b[0m \u001b[38;5;124;03m    See also #ak.from_regular.\u001b[39;00m\n\u001b[1;32m     53\u001b[0m \u001b[38;5;124;03m    \"\"\"\u001b[39;00m\n\u001b[0;32m---> 54\u001b[0m     \u001b[38;5;28;01mwith\u001b[39;00m ak\u001b[38;5;241m.\u001b[39m_errors\u001b[38;5;241m.\u001b[39mOperationErrorContext(\n\u001b[1;32m     55\u001b[0m         \u001b[38;5;124m\"\u001b[39m\u001b[38;5;124mak.to_regular\u001b[39m\u001b[38;5;124m\"\u001b[39m,\n\u001b[1;32m     56\u001b[0m         {\u001b[38;5;124m\"\u001b[39m\u001b[38;5;124marray\u001b[39m\u001b[38;5;124m\"\u001b[39m: array, \u001b[38;5;124m\"\u001b[39m\u001b[38;5;124maxis\u001b[39m\u001b[38;5;124m\"\u001b[39m: axis, \u001b[38;5;124m\"\u001b[39m\u001b[38;5;124mhighlevel\u001b[39m\u001b[38;5;124m\"\u001b[39m: highlevel, \u001b[38;5;124m\"\u001b[39m\u001b[38;5;124mbehavior\u001b[39m\u001b[38;5;124m\"\u001b[39m: behavior},\n\u001b[1;32m     57\u001b[0m     ):\n\u001b[1;32m     58\u001b[0m         \u001b[38;5;28;01mreturn\u001b[39;00m _impl(array, axis, highlevel, behavior)\n",
      "File \u001b[0;32m~/.virtualenvs/pandas2/lib/python3.10/site-packages/awkward/_errors.py:56\u001b[0m, in \u001b[0;36mErrorContext.__exit__\u001b[0;34m(self, exception_type, exception_value, traceback)\u001b[0m\n\u001b[1;32m     53\u001b[0m \u001b[38;5;28;01mtry\u001b[39;00m:\n\u001b[1;32m     54\u001b[0m     \u001b[38;5;66;03m# Handle caught exception\u001b[39;00m\n\u001b[1;32m     55\u001b[0m     \u001b[38;5;28;01mif\u001b[39;00m exception_type \u001b[38;5;129;01mis\u001b[39;00m \u001b[38;5;129;01mnot\u001b[39;00m \u001b[38;5;28;01mNone\u001b[39;00m \u001b[38;5;129;01mand\u001b[39;00m \u001b[38;5;28mself\u001b[39m\u001b[38;5;241m.\u001b[39mprimary() \u001b[38;5;129;01mis\u001b[39;00m \u001b[38;5;28mself\u001b[39m:\n\u001b[0;32m---> 56\u001b[0m         \u001b[38;5;28;43mself\u001b[39;49m\u001b[38;5;241;43m.\u001b[39;49m\u001b[43mhandle_exception\u001b[49m\u001b[43m(\u001b[49m\u001b[43mexception_type\u001b[49m\u001b[43m,\u001b[49m\u001b[43m \u001b[49m\u001b[43mexception_value\u001b[49m\u001b[43m)\u001b[49m\n\u001b[1;32m     57\u001b[0m \u001b[38;5;28;01mfinally\u001b[39;00m:\n\u001b[1;32m     58\u001b[0m     \u001b[38;5;66;03m# `_kwargs` may hold cyclic references, that we really want to avoid\u001b[39;00m\n\u001b[1;32m     59\u001b[0m     \u001b[38;5;66;03m# as this can lead to large buffers remaining in memory for longer than absolutely necessary\u001b[39;00m\n\u001b[1;32m     60\u001b[0m     \u001b[38;5;66;03m# Let's just clear this, now.\u001b[39;00m\n\u001b[1;32m     61\u001b[0m     \u001b[38;5;28mself\u001b[39m\u001b[38;5;241m.\u001b[39m_kwargs\u001b[38;5;241m.\u001b[39mclear()\n",
      "File \u001b[0;32m~/.virtualenvs/pandas2/lib/python3.10/site-packages/awkward/_errors.py:71\u001b[0m, in \u001b[0;36mErrorContext.handle_exception\u001b[0;34m(self, cls, exception)\u001b[0m\n\u001b[1;32m     69\u001b[0m     \u001b[38;5;28mself\u001b[39m\u001b[38;5;241m.\u001b[39mdecorate_exception(\u001b[38;5;28mcls\u001b[39m, exception)\n\u001b[1;32m     70\u001b[0m \u001b[38;5;28;01melse\u001b[39;00m:\n\u001b[0;32m---> 71\u001b[0m     \u001b[38;5;28;01mraise\u001b[39;00m \u001b[38;5;28mself\u001b[39m\u001b[38;5;241m.\u001b[39mdecorate_exception(\u001b[38;5;28mcls\u001b[39m, exception)\n",
      "\u001b[0;31mValueError\u001b[0m: cannot convert to RegularArray because subarray lengths are not regular (in compiled code: https://github.com/scikit-hep/awkward/blob/awkward-cpp-15/awkward-cpp/src/cpu-kernels/awkward_ListOffsetArray_toRegularArray.cpp#L22)\n\nThis error occurred while calling\n\n    ak.to_regular(\n        array = <Array [{gen: [...], ...}, ..., {...}] type='100 * {gen: va...'>\n        axis = 1\n        highlevel = True\n        behavior = None\n    )"
     ]
    }
   ],
   "source": [
    "ak.to_regular(sim[['gen', 'test']], axis=1)"
   ]
  },
  {
   "cell_type": "code",
   "execution_count": 165,
   "metadata": {},
   "outputs": [],
   "source": [
    "import python.selections as sel"
   ]
  },
  {
   "cell_type": "code",
   "execution_count": 166,
   "metadata": {},
   "outputs": [
    {
     "ename": "ValueError",
     "evalue": "the truth value of an array whose length is not 1 is ambiguous; use ak.any() or ak.all()",
     "output_type": "error",
     "traceback": [
      "\u001b[0;31m---------------------------------------------------------------------------\u001b[0m",
      "\u001b[0;31mValueError\u001b[0m                                Traceback (most recent call last)",
      "\u001b[1;32m/Users/cerminar/Workspace/hgcal-analysis/py3/ak/ntuple-tools/plot-drawing-tools/eventloop-uproot-ak.ipynb Cell 173\u001b[0m line \u001b[0;36m2\n\u001b[1;32m      <a href='vscode-notebook-cell:/Users/cerminar/Workspace/hgcal-analysis/py3/ak/ntuple-tools/plot-drawing-tools/eventloop-uproot-ak.ipynb#Y341sZmlsZQ%3D%3D?line=0'>1</a>\u001b[0m mysel \u001b[39m=\u001b[39m sel\u001b[39m.\u001b[39mSelection(\u001b[39m'\u001b[39m\u001b[39mEtaABC\u001b[39m\u001b[39m'\u001b[39m, \u001b[39m'\u001b[39m\u001b[39m1.49 < |#eta^\u001b[39m\u001b[39m{TOBJ}\u001b[39;00m\u001b[39m| <= 2.4\u001b[39m\u001b[39m'\u001b[39m, \u001b[39mlambda\u001b[39;00m array: \u001b[39m1.49\u001b[39m \u001b[39m<\u001b[39m \u001b[39mabs\u001b[39m(array\u001b[39m.\u001b[39meta) \u001b[39m<\u001b[39m\u001b[39m=\u001b[39m \u001b[39m2.4\u001b[39m)\n\u001b[0;32m----> <a href='vscode-notebook-cell:/Users/cerminar/Workspace/hgcal-analysis/py3/ak/ntuple-tools/plot-drawing-tools/eventloop-uproot-ak.ipynb#Y341sZmlsZQ%3D%3D?line=1'>2</a>\u001b[0m mysel\u001b[39m.\u001b[39;49mselection(TkEleEE)\n",
      "\u001b[1;32m/Users/cerminar/Workspace/hgcal-analysis/py3/ak/ntuple-tools/plot-drawing-tools/eventloop-uproot-ak.ipynb Cell 173\u001b[0m line \u001b[0;36m1\n\u001b[0;32m----> <a href='vscode-notebook-cell:/Users/cerminar/Workspace/hgcal-analysis/py3/ak/ntuple-tools/plot-drawing-tools/eventloop-uproot-ak.ipynb#Y341sZmlsZQ%3D%3D?line=0'>1</a>\u001b[0m mysel \u001b[39m=\u001b[39m sel\u001b[39m.\u001b[39mSelection(\u001b[39m'\u001b[39m\u001b[39mEtaABC\u001b[39m\u001b[39m'\u001b[39m, \u001b[39m'\u001b[39m\u001b[39m1.49 < |#eta^\u001b[39m\u001b[39m{TOBJ}\u001b[39;00m\u001b[39m| <= 2.4\u001b[39m\u001b[39m'\u001b[39m, \u001b[39mlambda\u001b[39;00m array: \u001b[39m1.49\u001b[39m \u001b[39m<\u001b[39m \u001b[39mabs\u001b[39m(array\u001b[39m.\u001b[39meta) \u001b[39m<\u001b[39m\u001b[39m=\u001b[39m \u001b[39m2.4\u001b[39m)\n\u001b[1;32m      <a href='vscode-notebook-cell:/Users/cerminar/Workspace/hgcal-analysis/py3/ak/ntuple-tools/plot-drawing-tools/eventloop-uproot-ak.ipynb#Y341sZmlsZQ%3D%3D?line=1'>2</a>\u001b[0m mysel\u001b[39m.\u001b[39mselection(TkEleEE)\n",
      "File \u001b[0;32m~/.virtualenvs/pandas2/lib/python3.10/site-packages/awkward/highlevel.py:1441\u001b[0m, in \u001b[0;36mArray.__bool__\u001b[0;34m(self)\u001b[0m\n\u001b[1;32m   1439\u001b[0m     \u001b[39mreturn\u001b[39;00m \u001b[39mbool\u001b[39m(\u001b[39mself\u001b[39m[\u001b[39m0\u001b[39m])\n\u001b[1;32m   1440\u001b[0m \u001b[39melse\u001b[39;00m:\n\u001b[0;32m-> 1441\u001b[0m     \u001b[39mraise\u001b[39;00m \u001b[39mValueError\u001b[39;00m(\n\u001b[1;32m   1442\u001b[0m         \u001b[39m\"\u001b[39m\u001b[39mthe truth value of an array whose length is not 1 is ambiguous; \u001b[39m\u001b[39m\"\u001b[39m\n\u001b[1;32m   1443\u001b[0m         \u001b[39m\"\u001b[39m\u001b[39muse ak.any() or ak.all()\u001b[39m\u001b[39m\"\u001b[39m\n\u001b[1;32m   1444\u001b[0m     )\n",
      "\u001b[0;31mValueError\u001b[0m: the truth value of an array whose length is not 1 is ambiguous; use ak.any() or ak.all()"
     ]
    }
   ],
   "source": [
    "mysel = sel.Selection('EtaABC', '1.49 < |#eta^{TOBJ}| <= 2.4', lambda array: 1.49 < abs(array.eta) <= 2.4)\n",
    "mysel.selection(TkEleEE)"
   ]
  },
  {
   "cell_type": "code",
   "execution_count": 167,
   "metadata": {},
   "outputs": [
    {
     "data": {
      "text/html": [
       "<pre>[[],\n",
       " [],\n",
       " [False],\n",
       " [],\n",
       " [],\n",
       " [],\n",
       " [],\n",
       " [False, False],\n",
       " [],\n",
       " [],\n",
       " ...,\n",
       " [False, False],\n",
       " [False, False],\n",
       " [],\n",
       " [],\n",
       " [False, False],\n",
       " [],\n",
       " [],\n",
       " [False],\n",
       " []]\n",
       "----------------------\n",
       "type: 100 * var * bool</pre>"
      ],
      "text/plain": [
       "<Array [[], [], [False], [], ..., [], [], [False], []] type='100 * var * bool'>"
      ]
     },
     "execution_count": 167,
     "metadata": {},
     "output_type": "execute_result"
    }
   ],
   "source": [
    "(abs(TkEleEE.eta) <= 2.4) & (abs(TkEleEE.eta) < 1.49)"
   ]
  },
  {
   "cell_type": "code",
   "execution_count": 168,
   "metadata": {},
   "outputs": [
    {
     "ename": "NameError",
     "evalue": "name 'sel_match' is not defined",
     "output_type": "error",
     "traceback": [
      "\u001b[0;31m---------------------------------------------------------------------------\u001b[0m",
      "\u001b[0;31mNameError\u001b[0m                                 Traceback (most recent call last)",
      "\u001b[1;32m/Users/cerminar/Workspace/hgcal-analysis/py3/ak/ntuple-tools/plot-drawing-tools/eventloop-uproot-ak.ipynb Cell 175\u001b[0m line \u001b[0;36m2\n\u001b[1;32m      <a href='vscode-notebook-cell:/Users/cerminar/Workspace/hgcal-analysis/py3/ak/ntuple-tools/plot-drawing-tools/eventloop-uproot-ak.ipynb#Y343sZmlsZQ%3D%3D?line=0'>1</a>\u001b[0m \u001b[39m# sel_match[ak.max(sel_match.dpt)]\u001b[39;00m\n\u001b[0;32m----> <a href='vscode-notebook-cell:/Users/cerminar/Workspace/hgcal-analysis/py3/ak/ntuple-tools/plot-drawing-tools/eventloop-uproot-ak.ipynb#Y343sZmlsZQ%3D%3D?line=1'>2</a>\u001b[0m best_match \u001b[39m=\u001b[39m sel_match[ak\u001b[39m.\u001b[39margmin(sel_match\u001b[39m.\u001b[39mdpt, axis\u001b[39m=\u001b[39m\u001b[39m1\u001b[39m, keepdims\u001b[39m=\u001b[39m\u001b[39mTrue\u001b[39;00m)]\n\u001b[1;32m      <a href='vscode-notebook-cell:/Users/cerminar/Workspace/hgcal-analysis/py3/ak/ntuple-tools/plot-drawing-tools/eventloop-uproot-ak.ipynb#Y343sZmlsZQ%3D%3D?line=2'>3</a>\u001b[0m best_match\n",
      "\u001b[0;31mNameError\u001b[0m: name 'sel_match' is not defined"
     ]
    }
   ],
   "source": [
    "# sel_match[ak.max(sel_match.dpt)]\n",
    "best_match = sel_match[ak.argmin(sel_match.dpt, axis=1, keepdims=True)]\n",
    "best_match"
   ]
  },
  {
   "cell_type": "code",
   "execution_count": 169,
   "metadata": {},
   "outputs": [
    {
     "ename": "NameError",
     "evalue": "name 'best_match' is not defined",
     "output_type": "error",
     "traceback": [
      "\u001b[0;31m---------------------------------------------------------------------------\u001b[0m",
      "\u001b[0;31mNameError\u001b[0m                                 Traceback (most recent call last)",
      "\u001b[1;32m/Users/cerminar/Workspace/hgcal-analysis/py3/ak/ntuple-tools/plot-drawing-tools/eventloop-uproot-ak.ipynb Cell 176\u001b[0m line \u001b[0;36m1\n\u001b[0;32m----> <a href='vscode-notebook-cell:/Users/cerminar/Workspace/hgcal-analysis/py3/ak/ntuple-tools/plot-drawing-tools/eventloop-uproot-ak.ipynb#Y344sZmlsZQ%3D%3D?line=0'>1</a>\u001b[0m tkele[best_match\u001b[39m.\u001b[39mele_idx]\n",
      "\u001b[0;31mNameError\u001b[0m: name 'best_match' is not defined"
     ]
    }
   ],
   "source": [
    "tkele[best_match.ele_idx]"
   ]
  },
  {
   "cell_type": "code",
   "execution_count": 187,
   "metadata": {},
   "outputs": [
    {
     "data": {
      "text/html": [
       "<pre>[{pt: [None], eta: [None], pdgid: [None]},\n",
       " {pt: [68.9], eta: [0.0272], pdgid: [-11]},\n",
       " {pt: [90.7], eta: [-1.38], pdgid: [11]},\n",
       " {pt: [69.4], eta: [-1.28], pdgid: [-11]},\n",
       " {pt: [62.8], eta: [-0.823], pdgid: [-11]},\n",
       " {pt: [81.4], eta: [0.695], pdgid: [-11]},\n",
       " {pt: [16.6], eta: [-0.66], pdgid: [-11]},\n",
       " {pt: [22.7], eta: [1.95], pdgid: [11]},\n",
       " {pt: [23.5], eta: [-1.45], pdgid: [11]},\n",
       " {pt: [94.4], eta: [1.17], pdgid: [-11]},\n",
       " ...,\n",
       " {pt: [47.7], eta: [2.09], pdgid: [11]},\n",
       " {pt: [65.1], eta: [-0.748], pdgid: [11]},\n",
       " {pt: [78.6], eta: [0.994], pdgid: [11]},\n",
       " {pt: [65.5], eta: [1.45], pdgid: [-11]},\n",
       " {pt: [97.3], eta: [2.02], pdgid: [11]},\n",
       " {pt: [85.1], eta: [1.93], pdgid: [11]},\n",
       " {pt: [None], eta: [None], pdgid: [None]},\n",
       " {pt: [None], eta: [None], pdgid: [None]},\n",
       " {pt: [None], eta: [None], pdgid: [None]}]\n",
       "-------------------------------------------\n",
       "type: 1120 * {\n",
       "    pt: var * ?float32,\n",
       "    eta: var * ?float32,\n",
       "    pdgid: var * ?int32\n",
       "}</pre>"
      ],
      "text/plain": [
       "<Array [{pt: [None], eta: [None], ...}, ...] type='1120 * {pt: var * ?float...'>"
      ]
     },
     "execution_count": 187,
     "metadata": {},
     "output_type": "execute_result"
    }
   ],
   "source": [
    "gen[best_match.gen_idx]"
   ]
  },
  {
   "cell_type": "code",
   "execution_count": 170,
   "metadata": {},
   "outputs": [],
   "source": [
    "def selection1(array):\n",
    "    return array.pt > 3"
   ]
  },
  {
   "cell_type": "code",
   "execution_count": 171,
   "metadata": {},
   "outputs": [
    {
     "ename": "NameError",
     "evalue": "name 'akarr' is not defined",
     "output_type": "error",
     "traceback": [
      "\u001b[0;31m---------------------------------------------------------------------------\u001b[0m",
      "\u001b[0;31mNameError\u001b[0m                                 Traceback (most recent call last)",
      "\u001b[1;32m/Users/cerminar/Workspace/hgcal-analysis/py3/ak/ntuple-tools/plot-drawing-tools/eventloop-uproot-ak.ipynb Cell 179\u001b[0m line \u001b[0;36m1\n\u001b[0;32m----> <a href='vscode-notebook-cell:/Users/cerminar/Workspace/hgcal-analysis/py3/ak/ntuple-tools/plot-drawing-tools/eventloop-uproot-ak.ipynb#Y350sZmlsZQ%3D%3D?line=0'>1</a>\u001b[0m akarr[\u001b[39m'\u001b[39m\u001b[39mpt2\u001b[39m\u001b[39m'\u001b[39m] \u001b[39m=\u001b[39m akarr\u001b[39m.\u001b[39mpt \u001b[39m*\u001b[39m\u001b[39m2\u001b[39m\n",
      "\u001b[0;31mNameError\u001b[0m: name 'akarr' is not defined"
     ]
    }
   ],
   "source": [
    "akarr['pt2'] = akarr.pt *2"
   ]
  },
  {
   "cell_type": "code",
   "execution_count": 172,
   "metadata": {},
   "outputs": [
    {
     "ename": "NameError",
     "evalue": "name 'akarr' is not defined",
     "output_type": "error",
     "traceback": [
      "\u001b[0;31m---------------------------------------------------------------------------\u001b[0m",
      "\u001b[0;31mNameError\u001b[0m                                 Traceback (most recent call last)",
      "\u001b[1;32m/Users/cerminar/Workspace/hgcal-analysis/py3/ak/ntuple-tools/plot-drawing-tools/eventloop-uproot-ak.ipynb Cell 180\u001b[0m line \u001b[0;36m1\n\u001b[0;32m----> <a href='vscode-notebook-cell:/Users/cerminar/Workspace/hgcal-analysis/py3/ak/ntuple-tools/plot-drawing-tools/eventloop-uproot-ak.ipynb#Y351sZmlsZQ%3D%3D?line=0'>1</a>\u001b[0m akarr[akarr\u001b[39m.\u001b[39mpt\u001b[39m>\u001b[39m\u001b[39m3\u001b[39m]\n",
      "\u001b[0;31mNameError\u001b[0m: name 'akarr' is not defined"
     ]
    }
   ],
   "source": [
    "akarr[akarr.pt>3]"
   ]
  },
  {
   "cell_type": "code",
   "execution_count": 173,
   "metadata": {},
   "outputs": [
    {
     "ename": "NameError",
     "evalue": "name 'akarr' is not defined",
     "output_type": "error",
     "traceback": [
      "\u001b[0;31m---------------------------------------------------------------------------\u001b[0m",
      "\u001b[0;31mNameError\u001b[0m                                 Traceback (most recent call last)",
      "\u001b[1;32m/Users/cerminar/Workspace/hgcal-analysis/py3/ak/ntuple-tools/plot-drawing-tools/eventloop-uproot-ak.ipynb Cell 181\u001b[0m line \u001b[0;36m1\n\u001b[0;32m----> <a href='vscode-notebook-cell:/Users/cerminar/Workspace/hgcal-analysis/py3/ak/ntuple-tools/plot-drawing-tools/eventloop-uproot-ak.ipynb#Y352sZmlsZQ%3D%3D?line=0'>1</a>\u001b[0m akarr[selection1(akarr)]\u001b[39m.\u001b[39mL2TkEle_eta\n",
      "\u001b[0;31mNameError\u001b[0m: name 'akarr' is not defined"
     ]
    }
   ],
   "source": [
    "akarr[selection1(akarr)].L2TkEle_eta\n"
   ]
  },
  {
   "cell_type": "code",
   "execution_count": 174,
   "metadata": {},
   "outputs": [
    {
     "ename": "NameError",
     "evalue": "name 'akarr' is not defined",
     "output_type": "error",
     "traceback": [
      "\u001b[0;31m---------------------------------------------------------------------------\u001b[0m",
      "\u001b[0;31mNameError\u001b[0m                                 Traceback (most recent call last)",
      "\u001b[1;32m/Users/cerminar/Workspace/hgcal-analysis/py3/ak/ntuple-tools/plot-drawing-tools/eventloop-uproot-ak.ipynb Cell 182\u001b[0m line \u001b[0;36m1\n\u001b[0;32m----> <a href='vscode-notebook-cell:/Users/cerminar/Workspace/hgcal-analysis/py3/ak/ntuple-tools/plot-drawing-tools/eventloop-uproot-ak.ipynb#Y353sZmlsZQ%3D%3D?line=0'>1</a>\u001b[0m select \u001b[39m=\u001b[39m akarr[ak\u001b[39m.\u001b[39mcount(akarr\u001b[39m.\u001b[39mL2TkEle_pt, axis\u001b[39m=\u001b[39m\u001b[39m1\u001b[39m) \u001b[39m>\u001b[39m \u001b[39m1\u001b[39m]\n\u001b[1;32m      <a href='vscode-notebook-cell:/Users/cerminar/Workspace/hgcal-analysis/py3/ak/ntuple-tools/plot-drawing-tools/eventloop-uproot-ak.ipynb#Y353sZmlsZQ%3D%3D?line=1'>2</a>\u001b[0m select\n",
      "\u001b[0;31mNameError\u001b[0m: name 'akarr' is not defined"
     ]
    }
   ],
   "source": [
    "select = akarr[ak.count(akarr.L2TkEle_pt, axis=1) > 1]\n",
    "select"
   ]
  },
  {
   "cell_type": "code",
   "execution_count": 175,
   "metadata": {},
   "outputs": [
    {
     "ename": "NameError",
     "evalue": "name 'select' is not defined",
     "output_type": "error",
     "traceback": [
      "\u001b[0;31m---------------------------------------------------------------------------\u001b[0m",
      "\u001b[0;31mNameError\u001b[0m                                 Traceback (most recent call last)",
      "\u001b[1;32m/Users/cerminar/Workspace/hgcal-analysis/py3/ak/ntuple-tools/plot-drawing-tools/eventloop-uproot-ak.ipynb Cell 183\u001b[0m line \u001b[0;36m1\n\u001b[0;32m----> <a href='vscode-notebook-cell:/Users/cerminar/Workspace/hgcal-analysis/py3/ak/ntuple-tools/plot-drawing-tools/eventloop-uproot-ak.ipynb#Y354sZmlsZQ%3D%3D?line=0'>1</a>\u001b[0m ak\u001b[39m.\u001b[39mflatten(select\u001b[39m.\u001b[39mL2TkEle_pt)\n",
      "\u001b[0;31mNameError\u001b[0m: name 'select' is not defined"
     ]
    }
   ],
   "source": [
    "ak.flatten(select.L2TkEle_pt)"
   ]
  },
  {
   "cell_type": "code",
   "execution_count": 71,
   "metadata": {},
   "outputs": [
    {
     "data": {
      "text/html": [
       "<pre>[[(11.8, 4.25)],\n",
       " [(8.75, 4.75)],\n",
       " [(11.5, 3.5)],\n",
       " [(3.25, 2.75)],\n",
       " [(12.2, 3.25)],\n",
       " [(13, 6.25)],\n",
       " [(16.5, 9)],\n",
       " [(11, 6)],\n",
       " [(7.25, 1.25)],\n",
       " [(7, 1.5)],\n",
       " ...,\n",
       " [(5.75, 5)],\n",
       " [(12, 7.25)],\n",
       " [(10.2, 8.75)],\n",
       " [(7.5, 2.5)],\n",
       " [(8.5, 4.75)],\n",
       " [(32.5, 2.75)],\n",
       " [(4, 3.75)],\n",
       " [(7.25, 3.5)],\n",
       " [(12.2, 9.25), (12.2, 7.25), (12.2, 6), ..., (...), (7.25, 2.75), (6, 2.75)]]\n",
       "------------------------------------------------------------------------------\n",
       "type: 74 * var * (\n",
       "    float32,\n",
       "    float32\n",
       ")</pre>"
      ],
      "text/plain": [
       "<Array [[(11.8, 4.25)], ..., [(..., ...), ...]] type='74 * var * (float32, ...'>"
      ]
     },
     "execution_count": 71,
     "metadata": {},
     "output_type": "execute_result"
    }
   ],
   "source": [
    "select['pt_pair'] = ak.combinations(select.L2TkEle_pt, 2)\n",
    "select.pt_pair"
   ]
  },
  {
   "cell_type": "code",
   "execution_count": 149,
   "metadata": {},
   "outputs": [],
   "source": [
    "\n",
    "import itertools"
   ]
  },
  {
   "cell_type": "code",
   "execution_count": null,
   "metadata": {},
   "outputs": [],
   "source": []
  },
  {
   "cell_type": "code",
   "execution_count": 177,
   "metadata": {},
   "outputs": [
    {
     "name": "stdout",
     "output_type": "stream",
     "text": [
      "name                 | typename                 | interpretation                                                                  \n",
      "---------------------+--------------------------+---------------------------------------------------------------------------------\n",
      "gen_daughters        | std::vector<std::vector< | AsObjects(AsVector(True, AsVector(False, dtype('>i4'))))                        \n"
     ]
    }
   ],
   "source": [
    "tree['gen_daughters'].show(interpretation_width=80)"
   ]
  },
  {
   "cell_type": "code",
   "execution_count": 178,
   "metadata": {},
   "outputs": [
    {
     "name": "stdout",
     "output_type": "stream",
     "text": [
      "name                 | typename                 | interpretation                                                                  \n",
      "---------------------+--------------------------+---------------------------------------------------------------------------------\n",
      "gen_pt               | std::vector<float>       | AsJagged(AsDtype('>f4'), header_bytes=10)                                       \n"
     ]
    }
   ],
   "source": [
    "tree['gen_pt'].show(interpretation_width=80)"
   ]
  },
  {
   "cell_type": "code",
   "execution_count": 19,
   "metadata": {},
   "outputs": [],
   "source": [
    "import numpy as np"
   ]
  },
  {
   "cell_type": "code",
   "execution_count": 20,
   "metadata": {},
   "outputs": [
    {
     "ename": "AttributeError",
     "evalue": "'AsObjects' object has no attribute 'submit'",
     "output_type": "error",
     "traceback": [
      "\u001b[0;31m---------------------------------------------------------------------------\u001b[0m",
      "\u001b[0;31mAttributeError\u001b[0m                            Traceback (most recent call last)",
      "Input \u001b[0;32mIn [20]\u001b[0m, in \u001b[0;36m<cell line: 1>\u001b[0;34m()\u001b[0m\n\u001b[0;32m----> 1\u001b[0m gen \u001b[38;5;241m=\u001b[39m \u001b[43mtree\u001b[49m\u001b[38;5;241;43m.\u001b[39;49m\u001b[43marrays\u001b[49m\u001b[43m(\u001b[49m\u001b[43m[\u001b[49m\u001b[38;5;124;43m'\u001b[39;49m\u001b[38;5;124;43mgen_daughters\u001b[39;49m\u001b[38;5;124;43m'\u001b[39;49m\u001b[43m]\u001b[49m\u001b[43m,\u001b[49m\u001b[43m \u001b[49m\u001b[43mlibrary\u001b[49m\u001b[38;5;241;43m=\u001b[39;49m\u001b[38;5;124;43m'\u001b[39;49m\u001b[38;5;124;43mpd\u001b[39;49m\u001b[38;5;124;43m'\u001b[39;49m\u001b[43m,\u001b[49m\u001b[43m \u001b[49m\u001b[43mentry_start\u001b[49m\u001b[38;5;241;43m=\u001b[39;49m\u001b[38;5;241;43m0\u001b[39;49m\u001b[43m,\u001b[49m\u001b[43m \u001b[49m\u001b[43mentry_stop\u001b[49m\u001b[38;5;241;43m=\u001b[39;49m\u001b[38;5;241;43m300\u001b[39;49m\u001b[43m,\u001b[49m\u001b[43minterpretation_executor\u001b[49m\u001b[38;5;241;43m=\u001b[39;49m\u001b[43muproot4\u001b[49m\u001b[38;5;241;43m.\u001b[39;49m\u001b[43mAsObjects\u001b[49m\u001b[43m(\u001b[49m\u001b[43muproot4\u001b[49m\u001b[38;5;241;43m.\u001b[39;49m\u001b[43mAsVector\u001b[49m\u001b[43m(\u001b[49m\u001b[38;5;28;43;01mFalse\u001b[39;49;00m\u001b[43m,\u001b[49m\u001b[43m \u001b[49m\u001b[43muproot4\u001b[49m\u001b[38;5;241;43m.\u001b[39;49m\u001b[43mAsVector\u001b[49m\u001b[43m(\u001b[49m\u001b[38;5;28;43;01mFalse\u001b[39;49;00m\u001b[43m,\u001b[49m\u001b[43m \u001b[49m\u001b[43mnp\u001b[49m\u001b[38;5;241;43m.\u001b[39;49m\u001b[43mdtype\u001b[49m\u001b[43m(\u001b[49m\u001b[38;5;124;43m'\u001b[39;49m\u001b[38;5;124;43m>i4\u001b[39;49m\u001b[38;5;124;43m'\u001b[39;49m\u001b[43m)\u001b[49m\u001b[43m)\u001b[49m\u001b[43m)\u001b[49m\u001b[43m)\u001b[49m\u001b[43m)\u001b[49m\n",
      "File \u001b[0;32m~/.virtualenvs/ntp-tools-py310/lib/python3.10/site-packages/uproot/behaviors/TBranch.py:1125\u001b[0m, in \u001b[0;36mHasBranches.arrays\u001b[0;34m(self, expressions, cut, filter_name, filter_typename, filter_branch, aliases, language, entry_start, entry_stop, decompression_executor, interpretation_executor, array_cache, library, how)\u001b[0m\n\u001b[1;32m   1119\u001b[0m             \u001b[38;5;28;01mfor\u001b[39;00m (\n\u001b[1;32m   1120\u001b[0m                 basket_num,\n\u001b[1;32m   1121\u001b[0m                 range_or_basket,\n\u001b[1;32m   1122\u001b[0m             ) \u001b[38;5;129;01min\u001b[39;00m branch\u001b[38;5;241m.\u001b[39mentries_to_ranges_or_baskets(entry_start, entry_stop):\n\u001b[1;32m   1123\u001b[0m                 ranges_or_baskets\u001b[38;5;241m.\u001b[39mappend((branch, basket_num, range_or_basket))\n\u001b[0;32m-> 1125\u001b[0m \u001b[43m_ranges_or_baskets_to_arrays\u001b[49m\u001b[43m(\u001b[49m\n\u001b[1;32m   1126\u001b[0m \u001b[43m    \u001b[49m\u001b[38;5;28;43mself\u001b[39;49m\u001b[43m,\u001b[49m\n\u001b[1;32m   1127\u001b[0m \u001b[43m    \u001b[49m\u001b[43mranges_or_baskets\u001b[49m\u001b[43m,\u001b[49m\n\u001b[1;32m   1128\u001b[0m \u001b[43m    \u001b[49m\u001b[43mbranchid_interpretation\u001b[49m\u001b[43m,\u001b[49m\n\u001b[1;32m   1129\u001b[0m \u001b[43m    \u001b[49m\u001b[43mentry_start\u001b[49m\u001b[43m,\u001b[49m\n\u001b[1;32m   1130\u001b[0m \u001b[43m    \u001b[49m\u001b[43mentry_stop\u001b[49m\u001b[43m,\u001b[49m\n\u001b[1;32m   1131\u001b[0m \u001b[43m    \u001b[49m\u001b[43mdecompression_executor\u001b[49m\u001b[43m,\u001b[49m\n\u001b[1;32m   1132\u001b[0m \u001b[43m    \u001b[49m\u001b[43minterpretation_executor\u001b[49m\u001b[43m,\u001b[49m\n\u001b[1;32m   1133\u001b[0m \u001b[43m    \u001b[49m\u001b[43mlibrary\u001b[49m\u001b[43m,\u001b[49m\n\u001b[1;32m   1134\u001b[0m \u001b[43m    \u001b[49m\u001b[43marrays\u001b[49m\u001b[43m,\u001b[49m\n\u001b[1;32m   1135\u001b[0m \u001b[43m    \u001b[49m\u001b[38;5;28;43;01mFalse\u001b[39;49;00m\u001b[43m,\u001b[49m\n\u001b[1;32m   1136\u001b[0m \u001b[43m\u001b[49m\u001b[43m)\u001b[49m\n\u001b[1;32m   1138\u001b[0m \u001b[38;5;66;03m# no longer needed; save memory\u001b[39;00m\n\u001b[1;32m   1139\u001b[0m \u001b[38;5;28;01mdel\u001b[39;00m ranges_or_baskets\n",
      "File \u001b[0;32m~/.virtualenvs/ntp-tools-py310/lib/python3.10/site-packages/uproot/behaviors/TBranch.py:3496\u001b[0m, in \u001b[0;36m_ranges_or_baskets_to_arrays\u001b[0;34m(hasbranches, ranges_or_baskets, branchid_interpretation, entry_start, entry_stop, decompression_executor, interpretation_executor, library, arrays, update_ranges_or_baskets)\u001b[0m\n\u001b[1;32m   3493\u001b[0m     decompression_executor\u001b[38;5;241m.\u001b[39msubmit(chunk_to_basket, obj, \u001b[38;5;241m*\u001b[39margs)\n\u001b[1;32m   3495\u001b[0m \u001b[38;5;28;01melif\u001b[39;00m \u001b[38;5;28misinstance\u001b[39m(obj, uproot\u001b[38;5;241m.\u001b[39mmodels\u001b[38;5;241m.\u001b[39mTBasket\u001b[38;5;241m.\u001b[39mModel_TBasket):\n\u001b[0;32m-> 3496\u001b[0m     \u001b[43minterpretation_executor\u001b[49m\u001b[38;5;241;43m.\u001b[39;49m\u001b[43msubmit\u001b[49m(basket_to_array, obj)\n\u001b[1;32m   3498\u001b[0m \u001b[38;5;28;01melif\u001b[39;00m obj \u001b[38;5;129;01mis\u001b[39;00m \u001b[38;5;28;01mNone\u001b[39;00m:\n\u001b[1;32m   3499\u001b[0m     \u001b[38;5;28;01mpass\u001b[39;00m\n",
      "\u001b[0;31mAttributeError\u001b[0m: 'AsObjects' object has no attribute 'submit'"
     ]
    }
   ],
   "source": [
    "gen = tree.arrays(['gen_daughters'], library='pd', entry_start=0, entry_stop=300,interpretation_executor=uproot4.AsObjects(uproot4.AsVector(False, uproot4.AsVector(False, np.dtype('>i4')))))"
   ]
  },
  {
   "cell_type": "code",
   "execution_count": null,
   "metadata": {},
   "outputs": [],
   "source": [
    "gen.iloc[0].values[0]"
   ]
  },
  {
   "cell_type": "code",
   "execution_count": 23,
   "metadata": {},
   "outputs": [
    {
     "ename": "AttributeError",
     "evalue": "'Model_TTree_v20' object has no attribute 'LoadTree'",
     "output_type": "error",
     "traceback": [
      "\u001b[0;31m---------------------------------------------------------------------------\u001b[0m",
      "\u001b[0;31mAttributeError\u001b[0m                            Traceback (most recent call last)",
      "\u001b[0;32m<ipython-input-23-14d51a15fe8c>\u001b[0m in \u001b[0;36m<module>\u001b[0;34m\u001b[0m\n\u001b[1;32m      1\u001b[0m \u001b[0mevt_idx\u001b[0m \u001b[0;34m=\u001b[0m \u001b[0;36m0\u001b[0m\u001b[0;34m\u001b[0m\u001b[0;34m\u001b[0m\u001b[0m\n\u001b[0;32m----> 2\u001b[0;31m \u001b[0mtree\u001b[0m\u001b[0;34m.\u001b[0m\u001b[0mLoadTree\u001b[0m\u001b[0;34m(\u001b[0m\u001b[0mevt_idx\u001b[0m\u001b[0;34m)\u001b[0m\u001b[0;34m\u001b[0m\u001b[0;34m\u001b[0m\u001b[0m\n\u001b[0m\u001b[1;32m      3\u001b[0m \u001b[0mprint\u001b[0m\u001b[0;34m(\u001b[0m\u001b[0mtree\u001b[0m\u001b[0;34m.\u001b[0m\u001b[0mGetEntries\u001b[0m\u001b[0;34m(\u001b[0m\u001b[0;34m)\u001b[0m\u001b[0;34m)\u001b[0m\u001b[0;34m\u001b[0m\u001b[0;34m\u001b[0m\u001b[0m\n",
      "\u001b[0;31mAttributeError\u001b[0m: 'Model_TTree_v20' object has no attribute 'LoadTree'"
     ]
    }
   ],
   "source": [
    "evt_idx = 0\n",
    "tree.LoadTree(evt_idx)\n",
    "print(tree.GetEntries())"
   ]
  },
  {
   "cell_type": "code",
   "execution_count": 8,
   "metadata": {},
   "outputs": [
    {
     "ename": "TypeError",
     "evalue": "tree must be a ROOT.TTree",
     "output_type": "error",
     "traceback": [
      "\u001b[0;31m---------------------------------------------------------------------------\u001b[0m",
      "\u001b[0;31mTypeError\u001b[0m                                 Traceback (most recent call last)",
      "\u001b[0;32m<ipython-input-8-8060e886272a>\u001b[0m in \u001b[0;36m<module>\u001b[0;34m\u001b[0m\n\u001b[1;32m      1\u001b[0m \u001b[0mbranches\u001b[0m \u001b[0;34m=\u001b[0m \u001b[0;34m[\u001b[0m\u001b[0;34m\"egammaEE_pt\"\u001b[0m\u001b[0;34m,\u001b[0m \u001b[0;34m\"egammaEE_eta\"\u001b[0m\u001b[0;34m]\u001b[0m\u001b[0;34m\u001b[0m\u001b[0;34m\u001b[0m\u001b[0m\n\u001b[1;32m      2\u001b[0m \u001b[0mentry\u001b[0m \u001b[0;34m=\u001b[0m \u001b[0;36m2\u001b[0m\u001b[0;34m\u001b[0m\u001b[0;34m\u001b[0m\u001b[0m\n\u001b[0;32m----> 3\u001b[0;31m nd_array = rnp.tree2array(tree,\n\u001b[0m\u001b[1;32m      4\u001b[0m                           \u001b[0mbranches\u001b[0m\u001b[0;34m=\u001b[0m\u001b[0mbranches\u001b[0m\u001b[0;34m,\u001b[0m\u001b[0;34m\u001b[0m\u001b[0;34m\u001b[0m\u001b[0m\n\u001b[1;32m      5\u001b[0m                           \u001b[0mstart\u001b[0m\u001b[0;34m=\u001b[0m\u001b[0mentry\u001b[0m\u001b[0;34m,\u001b[0m\u001b[0;34m\u001b[0m\u001b[0;34m\u001b[0m\u001b[0m\n",
      "\u001b[0;32m~/.virtualenvs/HGCTPGPerformance-py3.8/lib/python3.8/site-packages/root_numpy/_tree.py\u001b[0m in \u001b[0;36mtree2array\u001b[0;34m(tree, branches, selection, object_selection, start, stop, step, include_weight, weight_name, cache_size)\u001b[0m\n\u001b[1;32m    410\u001b[0m     \u001b[0;32mimport\u001b[0m \u001b[0mROOT\u001b[0m\u001b[0;34m\u001b[0m\u001b[0;34m\u001b[0m\u001b[0m\n\u001b[1;32m    411\u001b[0m     \u001b[0;32mif\u001b[0m \u001b[0;32mnot\u001b[0m \u001b[0misinstance\u001b[0m\u001b[0;34m(\u001b[0m\u001b[0mtree\u001b[0m\u001b[0;34m,\u001b[0m \u001b[0mROOT\u001b[0m\u001b[0;34m.\u001b[0m\u001b[0mTTree\u001b[0m\u001b[0;34m)\u001b[0m\u001b[0;34m:\u001b[0m\u001b[0;34m\u001b[0m\u001b[0;34m\u001b[0m\u001b[0m\n\u001b[0;32m--> 412\u001b[0;31m         \u001b[0;32mraise\u001b[0m \u001b[0mTypeError\u001b[0m\u001b[0;34m(\u001b[0m\u001b[0;34m\"tree must be a ROOT.TTree\"\u001b[0m\u001b[0;34m)\u001b[0m\u001b[0;34m\u001b[0m\u001b[0;34m\u001b[0m\u001b[0m\n\u001b[0m\u001b[1;32m    413\u001b[0m     \u001b[0mcobj\u001b[0m \u001b[0;34m=\u001b[0m \u001b[0mROOT\u001b[0m\u001b[0;34m.\u001b[0m\u001b[0mAsCObject\u001b[0m\u001b[0;34m(\u001b[0m\u001b[0mtree\u001b[0m\u001b[0;34m)\u001b[0m\u001b[0;34m\u001b[0m\u001b[0;34m\u001b[0m\u001b[0m\n\u001b[1;32m    414\u001b[0m \u001b[0;34m\u001b[0m\u001b[0m\n",
      "\u001b[0;31mTypeError\u001b[0m: tree must be a ROOT.TTree"
     ]
    }
   ],
   "source": [
    "\n",
    "\n",
    "branches = [\"egammaEE_pt\", \"egammaEE_eta\"]\n",
    "entry = 2\n",
    "nd_array = rnp.tree2array(tree,\n",
    "                          branches=branches,\n",
    "                          start=entry,\n",
    "                          stop=entry+1,\n",
    "                          cache_size=400000000)\n",
    "\n",
    "# nparray = df.Range(0,1,1).AsNumpy([\"egammaEE_pt\", \"egammaEE_eta\"])\n",
    "\n",
    "\n",
    "# print(nparray['egammaEE_pt'], nparray['egammaEE_eta'])\n",
    "\n"
   ]
  },
  {
   "cell_type": "code",
   "execution_count": 6,
   "metadata": {},
   "outputs": [
    {
     "data": {
      "text/plain": [
       "array([(array([ 6.643593  ,  2.9719217 ,  3.9068716 ,  1.5156915 ,  1.300692  ,\n",
       "        0.        ,  2.9264858 ,  0.2225242 ,  1.2117369 ,  0.        ,\n",
       "        4.9720078 ,  3.016645  ,  2.7175887 ,  0.73760176,  0.76564455,\n",
       "        0.        ,  0.5842581 ,  0.        ,  2.025458  ,  0.        ,\n",
       "        1.0230687 ,  0.        ,  3.6402414 ,  1.5460535 ,  1.0310024 ,\n",
       "        0.        ,  6.9713054 ,  4.120867  ,  5.0303583 ,  2.6534646 ,\n",
       "        8.857585  ,  5.3984365 ,  4.317563  ,  2.2437658 ,  6.8248177 ,\n",
       "        2.0740685 ,  2.9123976 ,  0.4002606 ,  2.3496022 ,  0.45174542,\n",
       "        3.8635688 ,  1.7373753 ,  5.3682675 ,  2.0934558 ,  6.070648  ,\n",
       "        3.5421746 ,  2.2283947 ,  0.21598236,  4.280787  ,  2.130282  ,\n",
       "        4.3815894 ,  1.5497304 ,  2.0520558 ,  0.        ,  1.9534774 ,\n",
       "        0.        ,  1.7097489 ,  0.        ,  2.9150255 ,  0.04426523,\n",
       "       10.138936  ,  7.368551  ,  4.427791  ,  2.3982875 ,  4.7439966 ,\n",
       "        2.8332458 ,  1.9536077 ,  0.        , 19.978153  , 24.781994  ,\n",
       "        2.2996786 ,  0.        ,  1.164818  ,  0.        ,  1.8263371 ,\n",
       "        0.        ,  1.1679329 ,  0.        ,  1.121209  ,  0.        ,\n",
       "        4.2933197 ,  1.6761267 ,  1.410235  ,  0.        ,  1.2962503 ,\n",
       "        0.        ,  0.9903453 ,  0.        ,  2.2535117 ,  0.21750298,\n",
       "        4.90539   ,  2.8484068 ,  2.435394  ,  0.36456043,  2.408134  ,\n",
       "        0.        ,  0.56098926,  0.        ,  2.0610616 ,  0.        ,\n",
       "        1.4442402 ,  0.        ,  2.2251976 ,  0.20492329,  1.0444329 ,\n",
       "        0.        ,  2.8507566 ,  0.38987848, 10.488486  ,  5.0567517 ,\n",
       "        2.175096  ,  0.20786084,  2.5395207 ,  0.4094035 ,  9.310353  ,\n",
       "        5.466336  ,  9.193663  ,  5.9698467 ,  2.574511  ,  0.23894443,\n",
       "       12.541244  ,  6.1333194 ,  3.666933  ,  1.4558103 ,  2.5941741 ,\n",
       "        0.        ,  2.998978  ,  0.47353446,  3.308804  ,  0.04230924,\n",
       "        5.7057486 ,  1.766056  ,  1.3519272 ,  0.        ,  2.5852182 ,\n",
       "        0.53712165,  3.0270803 ,  0.9116491 ,  2.8013108 ,  0.09714604,\n",
       "        3.144394  ,  0.61051524,  2.0308657 ,  0.        ,  1.3086464 ,\n",
       "        0.        ,  1.8405216 ,  0.        , 21.006418  , 23.781658  ,\n",
       "       21.00642   , 23.781658  , 19.880245  , 24.781994  ,  7.9606867 ,\n",
       "        6.1333194 ,  6.888791  ,  5.0567517 ,  8.966748  ,  7.368551  ,\n",
       "        7.731048  ,  5.466336  ,  8.167318  ,  5.9698467 ,  7.3574305 ,\n",
       "        5.3984365 ,  5.9812713 ,  4.120867  ,  4.0504613 ,  2.0740685 ,\n",
       "        4.9516134 ,  2.9719217 ,  5.4983735 ,  3.5421746 ,  3.6424685 ,\n",
       "        1.766056  ,  4.147267  ,  2.0934558 ,  4.5227623 ,  2.6534646 ,\n",
       "        4.561698  ,  3.016645  ,  4.7793612 ,  2.8484068 ,  4.7439966 ,\n",
       "        2.8332458 ,  4.2412314 ,  2.3982875 ,  3.4552283 ,  1.5497304 ,\n",
       "        4.1639752 ,  2.2437658 ,  3.759668  ,  1.6761267 ,  4.043684  ,\n",
       "        2.130282  ,  3.3882422 ,  1.5156915 ,  3.8635688 ,  1.7373753 ,\n",
       "        3.438839  ,  1.4558103 ,  3.5207057 ,  1.5460535 ,  2.2357512 ,\n",
       "        0.04230924,  2.6358283 ,  0.61051524,  2.9253623 ,  0.9116491 ,\n",
       "        2.5410886 ,  0.47353446,  2.22875   ,  0.2225242 ,  2.0616977 ,\n",
       "        0.04426523,  2.4238644 ,  0.4002606 ,  2.1903121 ,  0.38987848,\n",
       "        2.2186563 ,  0.09714604,  2.7175887 ,  0.73760176,  2.0751429 ,\n",
       "        0.        ,  2.5852182 ,  0.53712165,  2.449928  ,  0.23894443,\n",
       "        2.40858   ,  0.4094035 ,  2.435394  ,  0.36456043,  2.0253046 ,\n",
       "        0.        ,  2.3496022 ,  0.45174542,  2.037355  ,  0.        ,\n",
       "        2.1628604 ,  0.21750298,  2.2283947 ,  0.21598236,  3.5196285 ,\n",
       "        0.20492329,  2.175096  ,  0.20786084,  1.6843499 ,  0.        ,\n",
       "        1.9458264 ,  0.        ,  1.9387578 ,  0.        ,  2.025458  ,\n",
       "        0.        ,  1.9536077 ,  0.        ,  1.6113524 ,  0.        ,\n",
       "        1.8405216 ,  0.        ,  1.6632892 ,  0.        ,  1.4361999 ,\n",
       "        0.        ,  1.2218359 ,  0.        ,  1.1504787 ,  0.        ,\n",
       "        1.1042411 ,  0.        ,  1.300692  ,  0.        ,  1.2962503 ,\n",
       "        0.        ,  1.2117369 ,  0.        ,  1.9776909 ,  0.        ,\n",
       "        1.164818  ,  0.        ,  1.0444329 ,  0.        ,  0.8848425 ,\n",
       "        0.        ,  0.75272006,  0.        ,  0.9903453 ,  0.        ,\n",
       "        0.6723591 ,  0.        ,  0.5842581 ,  0.        ,  0.56098926,\n",
       "        0.        ], dtype=float32), array([-3.0609283e+00, -3.0609283e+00, -3.0712919e+00, -3.0712919e+00,\n",
       "       -3.1303830e+00, -3.1303830e+00, -3.0473237e+00, -3.0473237e+00,\n",
       "       -3.1156847e+00, -3.1156847e+00, -3.0537202e+00, -3.0537202e+00,\n",
       "       -3.0825398e+00, -3.0825398e+00, -3.1275325e+00, -3.1275325e+00,\n",
       "       -3.1540480e+00, -3.1540480e+00, -3.0657766e+00, -3.0657766e+00,\n",
       "       -3.1374836e+00, -3.1374836e+00, -3.1045141e+00, -3.1045141e+00,\n",
       "       -3.1367137e+00, -3.1367137e+00, -3.0190551e+00, -3.0190551e+00,\n",
       "       -3.0187616e+00, -3.0187616e+00, -3.0155683e+00, -3.0155683e+00,\n",
       "       -3.0389533e+00, -3.0389533e+00, -3.0050709e+00, -3.0050709e+00,\n",
       "       -3.0133510e+00, -3.0133510e+00, -3.0632443e+00, -3.0632443e+00,\n",
       "       -3.0599465e+00, -3.0599465e+00, -3.0246105e+00, -3.0246105e+00,\n",
       "       -3.0089843e+00, -3.0089843e+00, -3.0765173e+00, -3.0765173e+00,\n",
       "       -3.0619116e+00, -3.0619116e+00, -3.0505922e+00, -3.0505922e+00,\n",
       "       -3.0812285e+00, -3.0812285e+00, -3.0574760e+00, -3.0574760e+00,\n",
       "       -3.0271273e+00, -3.0271273e+00, -3.0559783e+00, -3.0559783e+00,\n",
       "       -3.0179784e+00, -3.0179784e+00, -3.0458198e+00, -3.0458198e+00,\n",
       "       -3.0347340e+00, -3.0347340e+00, -3.0042489e+00, -3.0042489e+00,\n",
       "       -1.5904696e+00, -1.5904696e+00,  3.0968046e+00,  3.0968046e+00,\n",
       "        3.1351848e+00,  3.1351848e+00,  3.0964093e+00,  3.0964093e+00,\n",
       "        3.1223326e+00,  3.1223326e+00,  3.1329515e+00,  3.1329515e+00,\n",
       "        3.0589726e+00,  3.0589726e+00,  3.1293480e+00,  3.1293480e+00,\n",
       "        3.0983877e+00,  3.0983877e+00,  3.1426520e+00,  3.1426520e+00,\n",
       "        3.0752661e+00,  3.0752661e+00,  3.0689611e+00,  3.0689611e+00,\n",
       "        3.0971091e+00,  3.0971091e+00,  3.1491163e+00,  3.1491163e+00,\n",
       "        3.1449752e+00,  3.1449752e+00,  3.0700669e+00,  3.0700669e+00,\n",
       "        3.1219363e+00,  3.1219363e+00,  3.1191208e+00,  3.1191208e+00,\n",
       "        3.1397977e+00,  3.1397977e+00,  3.0981135e+00,  3.0981135e+00,\n",
       "        3.0179648e+00,  3.0179648e+00,  3.0373886e+00,  3.0373886e+00,\n",
       "        3.0521834e+00,  3.0521834e+00,  3.0011215e+00,  3.0011215e+00,\n",
       "        3.0166776e+00,  3.0166776e+00,  3.0468330e+00,  3.0468330e+00,\n",
       "        3.0215697e+00,  3.0215697e+00,  3.0582404e+00,  3.0582404e+00,\n",
       "        3.1108663e+00,  3.1108663e+00,  3.0665195e+00,  3.0665195e+00,\n",
       "        3.0370364e+00,  3.0370364e+00,  3.0070734e+00,  3.0070734e+00,\n",
       "        3.0966268e+00,  3.0966268e+00,  3.0762572e+00,  3.0762572e+00,\n",
       "        3.0705557e+00,  3.0705557e+00,  3.0185480e+00,  3.0185480e+00,\n",
       "        3.0544684e+00,  3.0544684e+00,  3.0582697e+00,  3.0582697e+00,\n",
       "        3.0670156e+00,  3.0670156e+00,  3.0909154e+00,  3.0909154e+00,\n",
       "        1.5774403e+00,  1.5774403e+00,  1.5774403e+00,  1.5774403e+00,\n",
       "       -1.5904696e+00, -1.5904696e+00,  3.0215697e+00,  3.0215697e+00,\n",
       "        3.0179648e+00,  3.0179648e+00, -3.0179784e+00, -3.0179784e+00,\n",
       "        3.0011215e+00,  3.0011215e+00,  3.0166776e+00,  3.0166776e+00,\n",
       "       -3.0155683e+00, -3.0155683e+00, -3.0190551e+00, -3.0190551e+00,\n",
       "       -3.0050709e+00, -3.0050709e+00, -3.0609283e+00, -3.0609283e+00,\n",
       "       -3.0089843e+00, -3.0089843e+00,  3.0070734e+00,  3.0070734e+00,\n",
       "       -3.0246105e+00, -3.0246105e+00, -3.0187616e+00, -3.0187616e+00,\n",
       "       -3.0537202e+00, -3.0537202e+00,  3.0689611e+00,  3.0689611e+00,\n",
       "       -3.0347340e+00, -3.0347340e+00, -3.0458198e+00, -3.0458198e+00,\n",
       "       -3.0505922e+00, -3.0505922e+00, -3.0389533e+00, -3.0389533e+00,\n",
       "        3.0589726e+00,  3.0589726e+00, -3.0619116e+00, -3.0619116e+00,\n",
       "       -3.0712919e+00, -3.0712919e+00, -3.0599465e+00, -3.0599465e+00,\n",
       "        3.0582404e+00,  3.0582404e+00, -3.1045141e+00, -3.1045141e+00,\n",
       "        3.0370364e+00,  3.0370364e+00,  3.0544684e+00,  3.0544684e+00,\n",
       "        3.0705557e+00,  3.0705557e+00,  3.0665195e+00,  3.0665195e+00,\n",
       "       -3.0473237e+00, -3.0473237e+00, -3.0559783e+00, -3.0559783e+00,\n",
       "       -3.0133510e+00, -3.0133510e+00,  3.0981135e+00,  3.0981135e+00,\n",
       "        3.0185480e+00,  3.0185480e+00, -3.0825398e+00, -3.0825398e+00,\n",
       "        3.1108663e+00,  3.1108663e+00,  3.0762572e+00,  3.0762572e+00,\n",
       "        3.0468330e+00,  3.0468330e+00,  3.0521834e+00,  3.0521834e+00,\n",
       "        3.0971091e+00,  3.0971091e+00,  3.1491163e+00,  3.1491163e+00,\n",
       "       -3.0632443e+00, -3.0632443e+00,  3.0968046e+00,  3.0968046e+00,\n",
       "        3.0752661e+00,  3.0752661e+00, -3.0765173e+00, -3.0765173e+00,\n",
       "        3.1208007e+00, -1.2310612e+01,  3.0373886e+00,  3.0373886e+00,\n",
       "        3.0700669e+00,  3.0700669e+00, -3.0812285e+00, -3.0812285e+00,\n",
       "        3.0582697e+00,  3.0582697e+00, -3.0657766e+00, -3.0657766e+00,\n",
       "       -3.0042489e+00, -3.0042489e+00, -3.0574760e+00, -3.0574760e+00,\n",
       "        3.0909154e+00,  3.0909154e+00,  3.0964093e+00,  3.0964093e+00,\n",
       "       -3.0271273e+00, -3.0271273e+00,  3.1293480e+00,  3.1293480e+00,\n",
       "        3.0966268e+00,  3.0966268e+00,  3.0670156e+00,  3.0670156e+00,\n",
       "       -3.1303830e+00, -3.1303830e+00,  3.0983877e+00,  3.0983877e+00,\n",
       "       -3.1156847e+00, -3.1156847e+00,  3.1286600e+00, -6.8261742e+04,\n",
       "        3.1351848e+00,  3.1351848e+00,  3.1397977e+00,  3.1397977e+00,\n",
       "       -3.1367137e+00, -3.1367137e+00, -3.1374836e+00, -3.1374836e+00,\n",
       "        3.1426520e+00,  3.1426520e+00, -3.1275325e+00, -3.1275325e+00,\n",
       "       -3.1540480e+00, -3.1540480e+00,  3.1449752e+00,  3.1449752e+00],\n",
       "      dtype=float32))],\n",
       "      dtype=[('egammaEE_pt', 'O'), ('egammaEE_eta', 'O')])"
      ]
     },
     "execution_count": 6,
     "metadata": {},
     "output_type": "execute_result"
    }
   ],
   "source": [
    "nd_array"
   ]
  },
  {
   "cell_type": "code",
   "execution_count": 7,
   "metadata": {},
   "outputs": [
    {
     "ename": "NameError",
     "evalue": "name 'df' is not defined",
     "output_type": "error",
     "traceback": [
      "\u001b[0;31m---------------------------------------------------------------------------\u001b[0m",
      "\u001b[0;31mNameError\u001b[0m                                 Traceback (most recent call last)",
      "\u001b[0;32m<ipython-input-7-e7efd34705dd>\u001b[0m in \u001b[0;36m<module>\u001b[0;34m\u001b[0m\n\u001b[0;32m----> 1\u001b[0;31m \u001b[0mdir\u001b[0m\u001b[0;34m(\u001b[0m\u001b[0mdf\u001b[0m\u001b[0;34m.\u001b[0m\u001b[0mDisplay\u001b[0m\u001b[0;34m)\u001b[0m\u001b[0;34m\u001b[0m\u001b[0;34m\u001b[0m\u001b[0m\n\u001b[0m",
      "\u001b[0;31mNameError\u001b[0m: name 'df' is not defined"
     ]
    }
   ],
   "source": [
    "dir(df.Display)"
   ]
  },
  {
   "cell_type": "code",
   "execution_count": null,
   "metadata": {},
   "outputs": [],
   "source": [
    "data = {}\n",
    "for idx, branch in enumerate(branches):\n",
    "    data[branch] = nd_array[branch][0]\n"
   ]
  },
  {
   "cell_type": "code",
   "execution_count": 13,
   "metadata": {},
   "outputs": [],
   "source": [
    "df = ROOT.RDF.MakeNumpyDataFrame(data)"
   ]
  },
  {
   "cell_type": "code",
   "execution_count": 14,
   "metadata": {},
   "outputs": [
    {
     "name": "stdout",
     "output_type": "stream",
     "text": [
      "egammaEE_pt\n",
      "egammaEE_eta\n"
     ]
    }
   ],
   "source": [
    "for colname in df.GetColumnNames():\n",
    "    print (colname)"
   ]
  },
  {
   "cell_type": "code",
   "execution_count": 8,
   "metadata": {},
   "outputs": [],
   "source": [
    "# %load ../NtupleDataFormat.py\n",
    "# import math\n",
    "# import collections\n",
    "\n",
    "from __future__ import print_function\n",
    "import ROOT\n",
    "import pandas as pd\n",
    "import root_numpy as rnp\n",
    "\n",
    "\n",
    "##########\n",
    "class HGCalNtuple(object):\n",
    "    \"\"\"Class abstracting the whole ntuple/TTree.\n",
    "\n",
    "    Main benefit is to provide nice interface for\n",
    "    - iterating over events\n",
    "    - querying whether hit/seed information exists\n",
    "\n",
    "    Note that to iteratate over the evets with zip(), you should use\n",
    "    itertools.izip() instead.\n",
    "    \"\"\"\n",
    "\n",
    "    def __init__(self, fileNames, tree=\"ana/hgc\"):\n",
    "        \"\"\"Constructor.\n",
    "\n",
    "        Arguments:\n",
    "        fileName -- String for path to the ROOT file\n",
    "        tree     -- Name of the TTree object inside the ROOT file (default: 'ana/hgc')\n",
    "        \"\"\"\n",
    "        super(HGCalNtuple, self).__init__()\n",
    "        self._tree = ROOT.TChain(tree)\n",
    "        self._branches = []\n",
    "        branch_blacklist = ['tc_wafer',\n",
    "                            'tc_cell',\n",
    "                            'tc_waferu',\n",
    "                            'tc_waferv',\n",
    "                            'tc_cellu',\n",
    "                            'tc_cellv',\n",
    "                            'gen_PUNumInt',\n",
    "                            'gen_TrueNumInt']\n",
    "\n",
    "        for file_name in fileNames:\n",
    "            protocol = ''\n",
    "            if '/eos/user/' in file_name:\n",
    "                protocol = 'root://eosuser.cern.ch/'\n",
    "            elif '/eos/cms/' in file_name:\n",
    "                protocol = 'root://eoscms.cern.ch/'\n",
    "\n",
    "            self._tree.Add(protocol+file_name)\n",
    "            if len(self._branches) == 0:\n",
    "                self._branches = [br for br in rnp.list_branches(protocol+file_name, tree) if br not in branch_blacklist]\n",
    "        # print 'Cache size: {}'.format(self._tree.GetCacheSize())\n",
    "\n",
    "        self._entries = self._tree.GetEntries()\n",
    "\n",
    "    def setCache(self, learn_events=-1, entry_range=None):\n",
    "        print('Resetting cache: {}'.format(self._tree.SetCacheSize(0)))\n",
    "        cachesize = 400000000\n",
    "        print('Setting new cache size: {}'.format(self._tree.SetCacheSize(cachesize)))\n",
    "        if learn_events != -1:\n",
    "            print('Setting # of entries for cache learning: {} to {}'.format(\n",
    "                self._tree.SetCacheLearnEntries(learn_events), learn_events))\n",
    "        else:\n",
    "            print(self._tree.AddBranchToCache(\"*\", True))\n",
    "            # print self._tree.AddBranchToCache(\"cl_layer\")\n",
    "            self._tree.StopCacheLearningPhase()\n",
    "\n",
    "        if entry_range:\n",
    "            print('Setting cache entry range: {}'.format(\n",
    "                self._tree.SetCacheEntryRange(entry_range[0], entry_range[-1])))\n",
    "        print('Cache size: {}'.format(self._tree.GetCacheSize()))\n",
    "\n",
    "    def PrintCacheStats(self):\n",
    "        self._tree.PrintCacheStats('cachedbranches')\n",
    "\n",
    "    def tree(self):\n",
    "        return self._tree\n",
    "\n",
    "    def nevents(self):\n",
    "        return self._entries\n",
    "\n",
    "    # def hasRawRecHits(self):\n",
    "    #     \"\"\"Returns true if the ntuple has raw RecHit information.\"\"\"\n",
    "    #     return hasattr(self._tree, \"rechit_raw_pt\")\n",
    "\n",
    "    def __iter__(self):\n",
    "        \"\"\"Returns generator for iterating over TTree entries (events)\n",
    "\n",
    "        Generator returns Event objects.\n",
    "\n",
    "        \"\"\"\n",
    "        for jentry in range(self._entries):\n",
    "            # get the next tree in the chain and verify\n",
    "            ientry = self._tree.LoadTree(jentry)\n",
    "            if ientry < 0:\n",
    "                break\n",
    "            # copy next entry into memory and verify\n",
    "            nb = self._tree.GetEntry(jentry)\n",
    "            if nb <= 0:\n",
    "                continue\n",
    "\n",
    "            yield Event(self._tree, jentry, self._branches)\n",
    "\n",
    "    def getEvent(self, index):\n",
    "        \"\"\"Returns Event for a given index\"\"\"\n",
    "        ientry = self._tree.LoadTree(index)\n",
    "        if ientry < 0:\n",
    "            return None\n",
    "        # nb = self._tree.GetEntry(index)  # ientry or jentry?\n",
    "        # if nb <= 0:\n",
    "        #     None\n",
    "\n",
    "        return Event(self._tree, index, self._branches)  # ientry of jentry?\n",
    "\n",
    "\n",
    "##########\n",
    "class Event(object):\n",
    "    \"\"\"Class abstracting a single event.\n",
    "\n",
    "    Main benefit is to provide nice interface to get various objects\n",
    "    or collections of objects.\n",
    "    \"\"\"\n",
    "\n",
    "    def __init__(self, tree, entry, branches):\n",
    "        \"\"\"Constructor.\n",
    "\n",
    "        Arguments:\n",
    "        tree  -- TTree object\n",
    "        entry -- Entry number in the tree\n",
    "        \"\"\"\n",
    "        super(Event, self).__init__()\n",
    "        self._tree = tree\n",
    "        self._entry = entry\n",
    "        self._branches = branches\n",
    "\n",
    "    def entry(self):\n",
    "        return self._entry\n",
    "\n",
    "    def event(self):\n",
    "        \"\"\"Returns event number.\"\"\"\n",
    "        return self._tree.event\n",
    "\n",
    "    def lumi(self):\n",
    "        \"\"\"Returns lumisection number.\"\"\"\n",
    "        return self._tree.lumi\n",
    "\n",
    "    def run(self):\n",
    "        \"\"\"Returns run number.\"\"\"\n",
    "        return self._tree.run\n",
    "\n",
    "    def eventId(self):\n",
    "        \"\"\"Returns (run, lumi, event) tuple.\"\"\"\n",
    "        return (self._tree.run, self._tree.lumi, self._tree.event)\n",
    "\n",
    "    def eventIdStr(self):\n",
    "        \"\"\"Returns 'run:lumi:event' string.\"\"\"\n",
    "        return \"%d:%d:%d\" % self.eventId()\n",
    "\n",
    "    def getDataFrame(self, prefix, fallback=None):\n",
    "\n",
    "        branches = [br for br in self._branches\n",
    "                    if br.startswith(prefix+'_') and\n",
    "                    not br == '{}_n'.format(prefix)]\n",
    "        names = ['_'.join(br.split('_')[1:]) for br in branches]\n",
    "\n",
    "        if len(branches) == 0:\n",
    "            if fallback is not None:\n",
    "                return self.getDataFrame(prefix=fallback)\n",
    "            return pd.DataFrame()\n",
    "\n",
    "        nd_array = rnp.tree2array(self._tree,\n",
    "                                  branches=branches,\n",
    "                                  start=self._entry,\n",
    "                                  stop=self._entry+1,\n",
    "                                  cache_size=400000000)\n",
    "\n",
    "        df = pd.DataFrame(columns=names)\n",
    "        for idx, branch in enumerate(branches):\n",
    "            df[names[idx]] = nd_array[branch][0]\n",
    "        return df\n",
    "\n",
    "\n",
    "    def getPUInfo(self):\n",
    "        branches = ['gen_PUNumInt', 'gen_TrueNumInt']\n",
    "        names = ['PU', 'PUTrue']\n",
    "        nd_array = rnp.tree2array(self._tree, branches=branches,\n",
    "                                  start=self._entry, stop=self._entry+1)\n",
    "        df = pd.DataFrame(columns=names)\n",
    "        for idx, name in enumerate(names):\n",
    "            df[name] = [nd_array[0][idx]]\n",
    "        return df\n"
   ]
  },
  {
   "cell_type": "code",
   "execution_count": 9,
   "metadata": {},
   "outputs": [],
   "source": [
    "ntuple = HGCalNtuple(input_files, tree_name)\n"
   ]
  },
  {
   "cell_type": "code",
   "execution_count": 10,
   "metadata": {},
   "outputs": [],
   "source": [
    "evt_idx = 0"
   ]
  },
  {
   "cell_type": "code",
   "execution_count": 182,
   "metadata": {},
   "outputs": [
    {
     "ename": "NameError",
     "evalue": "name 'ntuple' is not defined",
     "output_type": "error",
     "traceback": [
      "\u001b[0;31m---------------------------------------------------------------------------\u001b[0m",
      "\u001b[0;31mNameError\u001b[0m                                 Traceback (most recent call last)",
      "\u001b[1;32m/Users/cerminar/Workspace/hgcal-analysis/py3/ak/ntuple-tools/plot-drawing-tools/eventloop-uproot-ak.ipynb Cell 202\u001b[0m line \u001b[0;36m1\n\u001b[0;32m----> <a href='vscode-notebook-cell:/Users/cerminar/Workspace/hgcal-analysis/py3/ak/ntuple-tools/plot-drawing-tools/eventloop-uproot-ak.ipynb#Y454sZmlsZQ%3D%3D?line=0'>1</a>\u001b[0m event \u001b[39m=\u001b[39m ntuple\u001b[39m.\u001b[39mgetEvent(evt_idx)\n",
      "\u001b[0;31mNameError\u001b[0m: name 'ntuple' is not defined"
     ]
    }
   ],
   "source": [
    "\n",
    "event = ntuple.getEvent(evt_idx)"
   ]
  },
  {
   "cell_type": "code",
   "execution_count": 180,
   "metadata": {},
   "outputs": [],
   "source": [
    "import python.collections as coll"
   ]
  },
  {
   "cell_type": "code",
   "execution_count": 181,
   "metadata": {},
   "outputs": [
    {
     "ename": "NameError",
     "evalue": "name 'event' is not defined",
     "output_type": "error",
     "traceback": [
      "\u001b[0;31m---------------------------------------------------------------------------\u001b[0m",
      "\u001b[0;31mNameError\u001b[0m                                 Traceback (most recent call last)",
      "\u001b[1;32m/Users/cerminar/Workspace/hgcal-analysis/py3/ak/ntuple-tools/plot-drawing-tools/eventloop-uproot-ak.ipynb Cell 204\u001b[0m line \u001b[0;36m1\n\u001b[0;32m----> <a href='vscode-notebook-cell:/Users/cerminar/Workspace/hgcal-analysis/py3/ak/ntuple-tools/plot-drawing-tools/eventloop-uproot-ak.ipynb#Y456sZmlsZQ%3D%3D?line=0'>1</a>\u001b[0m coll\u001b[39m.\u001b[39mtkem_EE\u001b[39m.\u001b[39mfill(event, debug)\n",
      "\u001b[0;31mNameError\u001b[0m: name 'event' is not defined"
     ]
    }
   ],
   "source": [
    "coll.tkem_EE.fill(event, debug)"
   ]
  },
  {
   "cell_type": "code",
   "execution_count": 21,
   "metadata": {},
   "outputs": [
    {
     "data": {
      "text/plain": [
       "pt           float32\n",
       "energy       float32\n",
       "eta          float32\n",
       "phi          float32\n",
       "hwQual       float32\n",
       "tkIso        float32\n",
       "tkIsoPV      float32\n",
       "pfIso        float32\n",
       "pfIsoPV      float32\n",
       "looseTkID       bool\n",
       "photonID        bool\n",
       "dtype: object"
      ]
     },
     "execution_count": 21,
     "metadata": {},
     "output_type": "execute_result"
    }
   ],
   "source": [
    "coll.tkem_EE.df.dtypes"
   ]
  },
  {
   "cell_type": "code",
   "execution_count": 22,
   "metadata": {},
   "outputs": [
    {
     "data": {
      "text/plain": [
       "0      1.0\n",
       "1      1.0\n",
       "2      1.0\n",
       "3      1.0\n",
       "4      1.0\n",
       "      ... \n",
       "301    1.0\n",
       "302    1.0\n",
       "303    1.0\n",
       "304    1.0\n",
       "305    1.0\n",
       "Name: test, Length: 306, dtype: float64"
      ]
     },
     "execution_count": 22,
     "metadata": {},
     "output_type": "execute_result"
    }
   ],
   "source": [
    "coll.tkem_EE.df['test'] = 1.\n",
    "coll.tkem_EE.df.test"
   ]
  },
  {
   "cell_type": "code",
   "execution_count": 23,
   "metadata": {},
   "outputs": [
    {
     "data": {
      "text/plain": [
       "array([ True,  True,  True,  True,  True,  True,  True,  True,  True,\n",
       "        True,  True,  True,  True,  True,  True,  True,  True,  True,\n",
       "        True,  True,  True,  True,  True,  True,  True,  True,  True,\n",
       "        True,  True,  True,  True,  True,  True,  True,  True,  True,\n",
       "        True,  True,  True,  True,  True,  True,  True,  True,  True,\n",
       "        True,  True,  True,  True,  True,  True,  True,  True,  True,\n",
       "        True,  True,  True,  True,  True,  True,  True,  True,  True,\n",
       "        True,  True,  True,  True,  True,  True,  True,  True,  True,\n",
       "        True,  True,  True,  True,  True,  True,  True,  True,  True,\n",
       "        True,  True,  True,  True,  True,  True,  True,  True,  True,\n",
       "        True,  True,  True,  True,  True,  True,  True,  True,  True,\n",
       "        True,  True,  True,  True,  True,  True,  True,  True,  True,\n",
       "        True,  True,  True,  True,  True,  True,  True,  True,  True,\n",
       "        True,  True,  True,  True,  True,  True,  True,  True,  True,\n",
       "        True,  True,  True,  True,  True,  True,  True,  True,  True,\n",
       "        True,  True,  True,  True,  True,  True,  True,  True,  True,\n",
       "        True,  True,  True,  True,  True,  True,  True,  True,  True,\n",
       "        True,  True,  True,  True,  True,  True,  True,  True,  True,\n",
       "        True,  True,  True,  True,  True,  True,  True,  True,  True,\n",
       "        True,  True,  True,  True,  True,  True,  True,  True,  True,\n",
       "        True,  True,  True,  True,  True,  True,  True,  True,  True,\n",
       "        True,  True,  True,  True,  True,  True,  True,  True,  True,\n",
       "        True,  True,  True,  True,  True,  True,  True,  True,  True,\n",
       "        True,  True,  True,  True,  True,  True,  True,  True,  True,\n",
       "        True,  True,  True,  True,  True,  True,  True,  True,  True,\n",
       "        True,  True,  True,  True,  True,  True,  True,  True,  True,\n",
       "        True,  True,  True,  True,  True,  True,  True,  True,  True,\n",
       "        True,  True,  True,  True,  True,  True,  True,  True,  True,\n",
       "        True,  True,  True,  True,  True,  True,  True,  True,  True,\n",
       "        True,  True,  True,  True,  True,  True,  True,  True,  True,\n",
       "        True,  True,  True,  True,  True,  True,  True,  True,  True,\n",
       "        True,  True,  True,  True,  True,  True,  True,  True,  True,\n",
       "        True,  True,  True,  True,  True,  True,  True,  True,  True,\n",
       "        True,  True,  True,  True,  True,  True,  True,  True,  True])"
      ]
     },
     "execution_count": 23,
     "metadata": {},
     "output_type": "execute_result"
    }
   ],
   "source": [
    "coll.tkem_EE.df.looseTkID.values"
   ]
  },
  {
   "cell_type": "code",
   "execution_count": 24,
   "metadata": {},
   "outputs": [],
   "source": [
    "datadict = {}\n",
    "for col in coll.tkem_EE.df.columns:\n",
    "    if col in ['looseTkID', 'photonID']:\n",
    "        continue\n",
    "    datadict[col] = coll.tkem_EE.df[col].values\n"
   ]
  },
  {
   "cell_type": "code",
   "execution_count": 25,
   "metadata": {},
   "outputs": [
    {
     "data": {
      "text/plain": [
       "{'pt': array([1.0471219 , 0.        , 0.9309919 , 0.        , 0.8299963 ,\n",
       "        0.        , 1.8280152 , 0.        , 0.6906006 , 0.        ,\n",
       "        1.4519302 , 0.        , 0.7814226 , 0.        , 2.0772543 ,\n",
       "        0.04368379, 3.349274  , 0.7291381 , 7.6142917 , 2.102239  ,\n",
       "        1.3601102 , 0.        , 1.1078637 , 0.        , 0.949197  ,\n",
       "        0.        , 2.3532417 , 0.        , 1.8976434 , 0.        ,\n",
       "        5.507132  , 2.249416  , 1.7864147 , 0.        , 0.6643612 ,\n",
       "        0.        , 5.1721015 , 1.7180849 , 4.8361177 , 2.3169558 ,\n",
       "        2.6669288 , 0.2981977 , 5.7898808 , 3.8040826 , 4.3599057 ,\n",
       "        1.3806417 , 3.8905418 , 0.73756325, 2.363905  , 0.        ,\n",
       "        1.6467872 , 0.        , 3.2733142 , 1.0909094 , 1.9897656 ,\n",
       "        0.        , 3.076519  , 0.857164  , 2.0942447 , 0.        ,\n",
       "        3.735676  , 1.0636082 , 2.2733889 , 0.        , 2.3596497 ,\n",
       "        0.24583   , 6.138474  , 1.8592441 , 5.7122846 , 2.7330227 ,\n",
       "        2.0445237 , 0.        , 1.7429491 , 0.        , 3.2695959 ,\n",
       "        0.62927556, 4.64023   , 2.114957  , 4.4532585 , 1.4613249 ,\n",
       "        5.286275  , 1.3793643 , 0.91048056, 0.        , 1.0621141 ,\n",
       "        0.        , 2.1714733 , 0.2801977 , 3.5069034 , 0.38577232,\n",
       "        2.3896205 , 0.30216557, 1.9161354 , 0.        , 2.335287  ,\n",
       "        0.        , 5.1329985 , 2.299027  , 1.2381446 , 0.        ,\n",
       "        0.66688514, 0.        , 0.83558655, 0.        , 1.4429079 ,\n",
       "        0.        , 1.4531801 , 0.        , 1.7771901 , 0.        ,\n",
       "        1.6300038 , 0.        , 5.1079884 , 2.1159854 , 2.2281156 ,\n",
       "        0.        , 0.9991829 , 0.        , 0.59645474, 0.        ,\n",
       "        2.002265  , 0.        , 1.8700117 , 0.        , 3.1258965 ,\n",
       "        0.8404706 , 4.2437377 , 1.4550323 , 4.7816467 , 1.9011601 ,\n",
       "        1.4434336 , 0.        , 2.7347631 , 0.41445342, 3.8296163 ,\n",
       "        1.6654105 , 5.1913114 , 2.966683  , 6.894021  , 3.8678846 ,\n",
       "        5.9666953 , 2.5178711 , 5.882695  , 2.7288373 , 1.6300184 ,\n",
       "        0.        , 0.96009016, 0.        , 3.3933275 , 0.300338  ,\n",
       "        2.6046207 , 0.59895444, 3.0393965 , 0.8646725 , 3.0905268 ,\n",
       "        0.1666956 , 3.2935796 , 0.75113374, 3.7389205 , 2.102239  ,\n",
       "        5.6568384 , 3.8678846 , 4.193819  , 1.8592441 , 4.5069847 ,\n",
       "        2.5178711 , 4.6163607 , 2.7288373 , 5.6377087 , 3.8040826 ,\n",
       "        4.9684424 , 2.7330227 , 4.168827  , 2.249416  , 4.5035806 ,\n",
       "        2.966683  , 3.7467005 , 1.7180849 , 4.9188447 , 2.299027  ,\n",
       "        4.083655  , 2.1159854 , 4.3156223 , 2.3169558 , 3.8062472 ,\n",
       "        1.9011601 , 4.0291767 , 2.114957  , 2.818717  , 1.3793643 ,\n",
       "        3.4824507 , 1.4613249 , 3.3403156 , 1.3806417 , 3.3740149 ,\n",
       "        1.4550323 , 2.8879952 , 0.73756325, 3.7384725 , 1.6654105 ,\n",
       "        3.150639  , 1.0636082 , 2.4214172 , 0.38577232, 2.318642  ,\n",
       "        0.300338  , 2.6921628 , 0.7291381 , 2.711365  , 0.75113374,\n",
       "        3.0602546 , 1.0909094 , 2.885379  , 0.62927556, 3.0018837 ,\n",
       "        0.8404706 , 2.1982152 , 0.1666956 , 4.6868725 , 0.857164  ,\n",
       "        3.0393965 , 0.8646725 , 2.608334  , 0.41445342, 2.3273695 ,\n",
       "        0.2981977 , 2.6046207 , 0.59895444, 2.3896205 , 0.30216557,\n",
       "        2.893458  , 0.        , 2.3596497 , 0.24583   , 1.9021924 ,\n",
       "        0.        , 1.5933932 , 0.        , 1.9982061 , 0.        ,\n",
       "        1.7505803 , 0.        , 3.1211393 , 0.2801977 , 2.0772543 ,\n",
       "        0.04368379, 1.3628913 , 0.        , 2.002265  , 0.        ,\n",
       "        1.9897656 , 0.        , 1.6510763 , 0.        , 1.4175762 ,\n",
       "        0.        , 1.8700117 , 0.        , 1.8280152 , 0.        ,\n",
       "        1.7864147 , 0.        , 1.686725  , 0.        , 1.7429491 ,\n",
       "        0.        , 1.6300184 , 0.        , 1.6300038 , 0.        ,\n",
       "        1.4531801 , 0.        , 2.2315571 , 0.        , 1.1630446 ,\n",
       "        0.        , 1.3505223 , 0.        , 1.1294632 , 0.        ,\n",
       "        1.2381446 , 0.        , 0.68933535, 0.        , 1.9765633 ,\n",
       "        0.        , 0.9991829 , 0.        , 0.96009016, 0.        ,\n",
       "        0.69199497, 0.        , 0.91048056, 0.        , 0.6072993 ,\n",
       "        0.        , 0.8299963 , 0.        , 0.6906006 , 0.        ,\n",
       "        0.66688514, 0.        , 0.5259175 , 0.        , 0.59645474,\n",
       "        0.        ], dtype=float32),\n",
       " 'energy': array([1.19063663e+01, 0.00000000e+00, 1.03859215e+01, 0.00000000e+00,\n",
       "        9.60446930e+00, 0.00000000e+00, 2.09371738e+01, 0.00000000e+00,\n",
       "        7.89914799e+00, 0.00000000e+00, 1.63655014e+01, 0.00000000e+00,\n",
       "        8.95355606e+00, 0.00000000e+00, 2.31994896e+01, 4.87875551e-01,\n",
       "        3.76475792e+01, 8.19589138e+00, 8.12501831e+01, 2.24324608e+01,\n",
       "        1.51482248e+01, 0.00000000e+00, 1.25872307e+01, 0.00000000e+00,\n",
       "        1.04034481e+01, 0.00000000e+00, 2.45409470e+01, 0.00000000e+00,\n",
       "        2.03320599e+01, 0.00000000e+00, 5.92902260e+01, 2.42173958e+01,\n",
       "        1.97322979e+01, 0.00000000e+00, 7.77011585e+00, 0.00000000e+00,\n",
       "        5.45686073e+01, 1.81267719e+01, 4.91876526e+01, 2.35655174e+01,\n",
       "        2.69507771e+01, 3.01345086e+00, 5.83449898e+01, 3.83339767e+01,\n",
       "        4.51237526e+01, 1.42892380e+01, 4.07898064e+01, 7.73287201e+00,\n",
       "        2.45979118e+01, 0.00000000e+00, 1.72025738e+01, 0.00000000e+00,\n",
       "        3.61599884e+01, 1.20511703e+01, 2.19501610e+01, 0.00000000e+00,\n",
       "        3.26760559e+01, 9.10403633e+00, 2.20368404e+01, 0.00000000e+00,\n",
       "        3.82654686e+01, 1.08948050e+01, 2.44085693e+01, 0.00000000e+00,\n",
       "        2.53374290e+01, 2.63967156e+00, 6.28397789e+01, 1.90331478e+01,\n",
       "        5.82176285e+01, 2.78540211e+01, 2.24686584e+01, 0.00000000e+00,\n",
       "        1.87786503e+01, 0.00000000e+00, 3.38598366e+01, 6.51675892e+00,\n",
       "        4.84081955e+01, 2.20638313e+01, 4.60602264e+01, 1.51145411e+01,\n",
       "        2.47854691e+01, 6.46734953e+00, 1.03323736e+01, 0.00000000e+00,\n",
       "        1.16548901e+01, 0.00000000e+00, 2.37020912e+01, 3.05841756e+00,\n",
       "        3.89434891e+01, 4.28392744e+00, 2.70792961e+01, 3.42415452e+00,\n",
       "        2.07089176e+01, 0.00000000e+00, 2.46445122e+01, 0.00000000e+00,\n",
       "        5.57688103e+01, 2.49783840e+01, 1.41669474e+01, 0.00000000e+00,\n",
       "        7.84699535e+00, 0.00000000e+00, 9.13185215e+00, 0.00000000e+00,\n",
       "        1.52896461e+01, 0.00000000e+00, 1.59922895e+01, 0.00000000e+00,\n",
       "        2.06795750e+01, 0.00000000e+00, 1.82844238e+01, 0.00000000e+00,\n",
       "        5.53420715e+01, 2.29254665e+01, 2.46608810e+01, 0.00000000e+00,\n",
       "        1.14182787e+01, 0.00000000e+00, 7.01610899e+00, 0.00000000e+00,\n",
       "        2.17545795e+01, 0.00000000e+00, 2.07997837e+01, 0.00000000e+00,\n",
       "        3.44866066e+01, 9.27253342e+00, 4.39339867e+01, 1.50634604e+01,\n",
       "        5.11279488e+01, 2.03282318e+01, 1.60277443e+01, 0.00000000e+00,\n",
       "        2.85840340e+01, 4.33191109e+00, 3.95248528e+01, 1.71884346e+01,\n",
       "        5.23798447e+01, 2.99335537e+01, 7.17454300e+01, 4.02527084e+01,\n",
       "        6.09984703e+01, 2.57405949e+01, 6.22500534e+01, 2.88762646e+01,\n",
       "        1.74557514e+01, 0.00000000e+00, 1.01355686e+01, 0.00000000e+00,\n",
       "        3.42226295e+01, 3.02899003e+00, 2.89337940e+01, 6.65356922e+00,\n",
       "        3.14545822e+01, 8.94845772e+00, 3.14665947e+01, 1.69723260e+00,\n",
       "        3.46414413e+01, 7.90032673e+00, 3.98970757e+01, 2.24324608e+01,\n",
       "        5.88701820e+01, 4.02527084e+01, 4.29322739e+01, 1.90331478e+01,\n",
       "        4.60756187e+01, 2.57405949e+01, 4.88498383e+01, 2.88762646e+01,\n",
       "        5.68115425e+01, 3.83339767e+01, 5.06366463e+01, 2.78540211e+01,\n",
       "        4.48819275e+01, 2.42173958e+01, 4.54407082e+01, 2.99335537e+01,\n",
       "        3.95298195e+01, 1.81267719e+01, 5.34420853e+01, 2.49783840e+01,\n",
       "        4.42440147e+01, 2.29254665e+01, 4.38937454e+01, 2.35655174e+01,\n",
       "        4.06984520e+01, 2.03282318e+01, 4.20335121e+01, 2.20638313e+01,\n",
       "        1.32159643e+01, 6.46734953e+00, 3.60191269e+01, 1.51145411e+01,\n",
       "        3.45712891e+01, 1.42892380e+01, 3.49300385e+01, 1.50634604e+01,\n",
       "        3.02787571e+01, 7.73287201e+00, 3.85841713e+01, 1.71884346e+01,\n",
       "        3.22727852e+01, 1.08948050e+01, 2.68893757e+01, 4.28392744e+00,\n",
       "        2.33841324e+01, 3.02899003e+00, 3.02613087e+01, 8.19589138e+00,\n",
       "        2.85177841e+01, 7.90032673e+00, 3.38063354e+01, 1.20511703e+01,\n",
       "        2.98808994e+01, 6.51675892e+00, 3.31184311e+01, 9.27253342e+00,\n",
       "        2.23814106e+01, 1.69723260e+00, 4.96537857e+01, 2.27438926e+04,\n",
       "        3.14545822e+01, 8.94845772e+00, 2.72625847e+01, 4.33191109e+00,\n",
       "        2.35193424e+01, 3.01345086e+00, 2.89337959e+01, 6.65356922e+00,\n",
       "        2.70792942e+01, 3.42415452e+00, 3.01939678e+01, 4.55059297e+04,\n",
       "        2.53374290e+01, 2.63967156e+00, 1.98371468e+01, 0.00000000e+00,\n",
       "        1.68152332e+01, 0.00000000e+00, 2.14540310e+01, 0.00000000e+00,\n",
       "        1.93754997e+01, 0.00000000e+00, 3.41493111e+01, 2.27498672e+04,\n",
       "        2.31994896e+01, 4.87875551e-01, 1.49777374e+01, 0.00000000e+00,\n",
       "        2.17545795e+01, 0.00000000e+00, 2.19501610e+01, 0.00000000e+00,\n",
       "        1.78442516e+01, 0.00000000e+00, 1.51884403e+01, 0.00000000e+00,\n",
       "        2.07997837e+01, 0.00000000e+00, 2.09371738e+01, 0.00000000e+00,\n",
       "        1.97322998e+01, 0.00000000e+00, 1.96269131e+01, 0.00000000e+00,\n",
       "        1.87786522e+01, 0.00000000e+00, 1.74557514e+01, 0.00000000e+00,\n",
       "        1.82844238e+01, 0.00000000e+00, 1.59922895e+01, 0.00000000e+00,\n",
       "        2.53188934e+01, 4.55057578e+04, 1.29143324e+01, 0.00000000e+00,\n",
       "        1.43106890e+01, 0.00000000e+00, 1.25793943e+01, 0.00000000e+00,\n",
       "        1.41669483e+01, 0.00000000e+00, 7.83203173e+00, 0.00000000e+00,\n",
       "        2.22921410e+01, 4.55057734e+04, 1.14182787e+01, 0.00000000e+00,\n",
       "        1.01355686e+01, 0.00000000e+00, 7.58444643e+00, 0.00000000e+00,\n",
       "        1.03323736e+01, 0.00000000e+00, 6.63697577e+00, 0.00000000e+00,\n",
       "        9.60446930e+00, 0.00000000e+00, 7.89914751e+00, 0.00000000e+00,\n",
       "        7.84699535e+00, 0.00000000e+00, 6.15093088e+00, 0.00000000e+00,\n",
       "        7.01610947e+00, 0.00000000e+00], dtype=float32),\n",
       " 'eta': array([-3.1222358e+00,  4.5508879e+04, -3.1030881e+00,  4.5508898e+04,\n",
       "        -3.1398375e+00,  4.5508859e+04, -3.1295314e+00,  4.5508871e+04,\n",
       "        -3.1281793e+00,  4.5508871e+04, -3.1134553e+00,  4.5508887e+04,\n",
       "        -3.1299274e+00,  4.5508871e+04, -3.1042202e+00, -3.1042202e+00,\n",
       "        -3.1106877e+00, -3.1106877e+00, -3.0584505e+00, -3.0584505e+00,\n",
       "        -3.1014433e+00,  4.5508898e+04, -3.1214542e+00,  4.5508879e+04,\n",
       "        -3.0853357e+00,  4.5508914e+04, -3.0353897e+00,  4.5508965e+04,\n",
       "        -3.0625484e+00,  4.5508938e+04, -3.0673838e+00, -3.0673838e+00,\n",
       "        -3.0931380e+00,  4.5508906e+04, -3.1505289e+00,  4.5508848e+04,\n",
       "        -3.0470734e+00, -3.0470734e+00, -3.0102520e+00, -3.0102520e+00,\n",
       "        -3.0037746e+00, -3.0037746e+00, -3.0009379e+00, -3.0009379e+00,\n",
       "        -3.0277634e+00, -3.0277634e+00, -3.0407488e+00, -3.0407488e+00,\n",
       "        -3.0331769e+00,  4.5508969e+04, -3.0370810e+00,  4.5508965e+04,\n",
       "        -3.0932424e+00, -3.0932424e+00, -3.0918441e+00,  4.5508906e+04,\n",
       "        -3.0537674e+00, -3.0537674e+00, -3.0444043e+00,  4.5508957e+04,\n",
       "        -3.0173750e+00, -3.0173750e+00, -3.0646341e+00,  4.5508934e+04,\n",
       "        -3.0647414e+00, -3.0647414e+00, -3.0167651e+00, -3.0167651e+00,\n",
       "        -3.0123007e+00, -3.0123007e+00, -3.0880272e+00,  4.5508910e+04,\n",
       "        -3.0681286e+00,  4.5508934e+04, -3.0283711e+00, -3.0283711e+00,\n",
       "        -3.0357473e+00, -3.0357473e+00, -3.0271158e+00, -3.0271158e+00,\n",
       "        -2.2267196e+00, -2.2267196e+00,  3.1202650e+00, -4.5508879e+04,\n",
       "         3.0865290e+00, -4.5508914e+04,  3.0811996e+00,  3.0811996e+00,\n",
       "         3.0984919e+00,  3.0984919e+00,  3.1188295e+00,  3.1188295e+00,\n",
       "         3.0712540e+00, -4.5508930e+04,  3.0473142e+00, -4.5508953e+04,\n",
       "         3.0765474e+00,  3.0765474e+00,  3.1285298e+00, -4.5508871e+04,\n",
       "         3.1566048e+00, -4.5508844e+04,  3.0824373e+00, -4.5508918e+04,\n",
       "         3.0514286e+00, -4.5508949e+04,  3.0894289e+00, -4.5508910e+04,\n",
       "         3.1454086e+00, -4.5508855e+04,  3.1086216e+00, -4.5508891e+04,\n",
       "         3.0737383e+00,  3.0737383e+00,  3.0951622e+00, -4.5508906e+04,\n",
       "         3.1272602e+00, -4.5508871e+04,  3.1562963e+00, -4.5508844e+04,\n",
       "         3.0765679e+00, -4.5508922e+04,  3.1001182e+00, -4.5508898e+04,\n",
       "         3.0919368e+00,  3.0919368e+00,  3.0280502e+00,  3.0280502e+00,\n",
       "         3.0604997e+00,  3.0604997e+00,  3.0984099e+00, -4.5508902e+04,\n",
       "         3.0376544e+00,  3.0376544e+00,  3.0249569e+00,  3.0249569e+00,\n",
       "         3.0022180e+00,  3.0022180e+00,  3.0333004e+00,  3.0333004e+00,\n",
       "         3.0154021e+00,  3.0154021e+00,  3.0500515e+00,  3.0500515e+00,\n",
       "         3.0620379e+00, -4.5508938e+04,  3.0476754e+00, -4.5508953e+04,\n",
       "         3.0017562e+00,  3.0017562e+00,  3.0988383e+00,  3.0988383e+00,\n",
       "         3.0276904e+00,  3.0276904e+00,  3.0113118e+00,  3.0113118e+00,\n",
       "         3.0439553e+00,  3.0439553e+00, -3.0584505e+00, -3.0584505e+00,\n",
       "         3.0333004e+00,  3.0333004e+00, -3.0167651e+00, -3.0167651e+00,\n",
       "         3.0154021e+00,  3.0154021e+00,  3.0500515e+00,  3.0500515e+00,\n",
       "        -3.0009379e+00, -3.0009379e+00, -3.0123007e+00, -3.0123007e+00,\n",
       "        -3.0673838e+00, -3.0673838e+00,  3.0022180e+00,  3.0022180e+00,\n",
       "        -3.0470734e+00, -3.0470734e+00,  3.0765474e+00,  3.0765474e+00,\n",
       "         3.0737383e+00,  3.0737383e+00, -3.0102520e+00, -3.0102520e+00,\n",
       "         3.0604997e+00,  3.0604997e+00, -3.0357473e+00, -3.0357473e+00,\n",
       "        -2.2267196e+00, -2.2267196e+00, -3.0271158e+00, -3.0271158e+00,\n",
       "        -3.0277634e+00, -3.0277634e+00,  3.0280502e+00,  3.0280502e+00,\n",
       "        -3.0407488e+00, -3.0407488e+00,  3.0249569e+00,  3.0249569e+00,\n",
       "        -3.0173750e+00, -3.0173750e+00,  3.0984919e+00,  3.0984919e+00,\n",
       "         3.0017562e+00,  3.0017562e+00, -3.1106877e+00, -3.1106877e+00,\n",
       "         3.0439553e+00,  3.0439553e+00, -3.0932424e+00, -3.0932424e+00,\n",
       "        -3.0283711e+00, -3.0283711e+00,  3.0919368e+00,  3.0919368e+00,\n",
       "         3.0113118e+00,  3.0113118e+00, -3.0512214e+00,  1.0879325e+01,\n",
       "         3.0276904e+00,  3.0276904e+00,  3.0376544e+00,  3.0376544e+00,\n",
       "        -3.0037746e+00, -3.0037746e+00,  3.0988383e+00,  3.0988383e+00,\n",
       "         3.1188295e+00,  3.1188295e+00, -3.0360334e+00,  6.8261930e+04,\n",
       "        -3.0647414e+00, -3.0647414e+00, -3.0353897e+00,  4.5508965e+04,\n",
       "         3.0473142e+00, -4.5508953e+04, -3.0646341e+00,  4.5508934e+04,\n",
       "         3.0951622e+00, -4.5508906e+04,  3.0835965e+00, -1.1997722e+01,\n",
       "        -3.1042202e+00, -3.1042202e+00, -3.0880272e+00,  4.5508910e+04,\n",
       "         3.0765679e+00, -4.5508922e+04, -3.0918441e+00,  4.5508906e+04,\n",
       "         3.0712540e+00, -4.5508930e+04, -3.0625484e+00,  4.5508938e+04,\n",
       "         3.1001182e+00, -4.5508898e+04, -3.1295314e+00,  4.5508871e+04,\n",
       "        -3.0931380e+00,  4.5508906e+04,  3.1454086e+00, -4.5508855e+04,\n",
       "        -3.0681286e+00,  4.5508934e+04,  3.0620379e+00, -4.5508938e+04,\n",
       "         3.1086216e+00, -4.5508891e+04,  3.0894289e+00, -4.5508910e+04,\n",
       "        -3.1200507e+00,  6.8261758e+04,  3.0984099e+00, -4.5508902e+04,\n",
       "         3.0514286e+00, -4.5508949e+04, -3.1014433e+00,  4.5508898e+04,\n",
       "         3.1285298e+00, -4.5508871e+04, -3.1214542e+00,  4.5508879e+04,\n",
       "        -3.1140504e+00,  6.8261773e+04,  3.1272602e+00, -4.5508871e+04,\n",
       "         3.0476754e+00, -4.5508953e+04, -3.0853357e+00,  4.5508914e+04,\n",
       "         3.1202650e+00, -4.5508879e+04,  3.0824373e+00, -4.5508918e+04,\n",
       "        -3.1398375e+00,  4.5508859e+04, -3.1281793e+00,  4.5508871e+04,\n",
       "         3.1566048e+00, -4.5508844e+04, -3.1505289e+00,  4.5508848e+04,\n",
       "         3.1562963e+00, -4.5508844e+04], dtype=float32),\n",
       " 'phi': array([-2.7979183 ,  0.        , -2.7185915 ,  0.        , -2.6320386 ,\n",
       "         0.        , -2.3726811 ,  0.        , -2.100515  ,  0.        ,\n",
       "        -0.56493586,  0.        , -0.4808498 ,  0.        , -0.17788063,\n",
       "        -0.17788063,  0.52210677,  0.52210677,  0.6656803 ,  0.6656803 ,\n",
       "         1.4911376 ,  0.        ,  1.744928  ,  0.        ,  1.8092055 ,\n",
       "         0.        ,  1.8938528 ,  0.        ,  1.978892  ,  0.        ,\n",
       "         2.0840037 ,  2.0840037 ,  2.4592118 ,  0.        ,  2.5698998 ,\n",
       "         0.        ,  3.0680463 ,  3.0680463 , -2.8354933 , -2.8354933 ,\n",
       "        -2.6209528 , -2.6209528 , -2.346018  , -2.346018  , -2.0061622 ,\n",
       "        -2.0061622 , -1.698617  , -1.698617  , -1.577484  ,  0.        ,\n",
       "        -1.4777572 ,  0.        , -1.343459  , -1.343459  , -1.1247712 ,\n",
       "         0.        , -0.77506083, -0.77506083, -0.68352425,  0.        ,\n",
       "        -0.31129187, -0.31129187,  0.1246345 ,  0.        ,  0.295554  ,\n",
       "         0.295554  ,  0.9325848 ,  0.9325848 ,  1.1059548 ,  1.1059548 ,\n",
       "         1.2562759 ,  0.        ,  1.4102978 ,  0.        ,  1.69957   ,\n",
       "         1.69957   ,  2.3066478 ,  2.3066478 ,  2.6719017 ,  2.6719017 ,\n",
       "        -2.165915  , -2.165915  , -2.8280773 ,  0.        , -2.7234545 ,\n",
       "         0.        , -2.6513383 , -2.6513383 , -2.5469315 , -2.5469315 ,\n",
       "        -1.8660868 , -1.8660868 , -1.3835783 ,  0.        , -1.2477589 ,\n",
       "         0.        , -0.9542239 , -0.9542239 , -0.83967817,  0.        ,\n",
       "        -0.5225554 ,  0.        , -0.42974126,  0.        , -0.35662284,\n",
       "         0.        , -0.28103378,  0.        ,  0.3617383 ,  0.        ,\n",
       "         0.6277251 ,  0.        ,  2.038241  ,  2.038241  ,  2.234002  ,\n",
       "         0.        ,  2.525896  ,  0.        ,  2.7944763 ,  0.        ,\n",
       "         2.8780339 ,  0.        , -2.9900699 ,  0.        , -2.2866786 ,\n",
       "        -2.2866786 , -1.9910533 , -1.9910533 , -1.6212928 , -1.6212928 ,\n",
       "        -0.6426378 ,  0.        ,  0.01185641,  0.01185641,  0.11898103,\n",
       "         0.11898103,  0.24693063,  0.24693063,  0.75575864,  0.75575864,\n",
       "         0.96573997,  0.96573997,  1.2109108 ,  1.2109108 ,  1.4333467 ,\n",
       "         0.        ,  1.5385561 ,  0.        ,  1.6618047 ,  1.6618047 ,\n",
       "         1.7740926 ,  1.7740926 ,  2.7437668 ,  2.7437668 ,  2.9693546 ,\n",
       "         2.9693546 ,  3.0944793 ,  3.0944793 ,  0.6656803 ,  0.6656803 ,\n",
       "         0.75575864,  0.75575864,  0.9325848 ,  0.9325848 ,  0.96573997,\n",
       "         0.96573997,  1.2109108 ,  1.2109108 , -2.346018  , -2.346018  ,\n",
       "         1.1059548 ,  1.1059548 ,  2.0840037 ,  2.0840037 ,  0.24693063,\n",
       "         0.24693063,  3.0680463 ,  3.0680463 , -0.9542239 , -0.9542239 ,\n",
       "         2.038241  ,  2.038241  , -2.8354933 , -2.8354933 , -1.6212928 ,\n",
       "        -1.6212928 ,  2.3066478 ,  2.3066478 , -2.165915  , -2.165915  ,\n",
       "         2.6719017 ,  2.6719017 , -2.0061622 , -2.0061622 , -1.9910533 ,\n",
       "        -1.9910533 , -1.698617  , -1.698617  ,  0.11898103,  0.11898103,\n",
       "        -0.31129187, -0.31129187, -2.5469315 , -2.5469315 ,  1.6618047 ,\n",
       "         1.6618047 ,  0.52210677,  0.52210677,  3.0944793 ,  3.0944793 ,\n",
       "        -1.343459  , -1.343459  ,  1.69957   ,  1.69957   , -2.2866786 ,\n",
       "        -2.2866786 ,  2.9693546 ,  2.9693546 , -0.74049044, -0.77506083,\n",
       "         2.7437668 ,  2.7437668 ,  0.01185641,  0.01185641, -2.6209528 ,\n",
       "        -2.6209528 ,  1.7740926 ,  1.7740926 , -1.8660868 , -1.8660868 ,\n",
       "        -1.5354227 ,  0.        ,  0.295554  ,  0.295554  ,  1.8938528 ,\n",
       "         0.        , -1.2477589 ,  0.        ,  0.1246345 ,  0.        ,\n",
       "         2.234002  ,  0.        , -2.6758604 , -2.6513383 , -0.17788063,\n",
       "        -0.17788063,  1.2562759 ,  0.        ,  2.8780339 ,  0.        ,\n",
       "        -1.1247712 ,  0.        , -1.3835783 ,  0.        ,  1.978892  ,\n",
       "         0.        , -2.9900699 ,  0.        , -2.3726811 ,  0.        ,\n",
       "         2.4592118 ,  0.        ,  0.3617383 ,  0.        ,  1.4102978 ,\n",
       "         0.        ,  1.4333467 ,  0.        ,  0.6277251 ,  0.        ,\n",
       "        -0.28103378,  0.        , -0.535522  ,  0.        , -0.6426378 ,\n",
       "         0.        , -0.35662284,  0.        ,  1.4911376 ,  0.        ,\n",
       "        -0.83967817,  0.        ,  1.744928  ,  0.        , -2.7605846 ,\n",
       "         0.        ,  2.525896  ,  0.        ,  1.5385561 ,  0.        ,\n",
       "         1.8092055 ,  0.        , -2.8280773 ,  0.        , -0.42974126,\n",
       "         0.        , -2.6320386 ,  0.        , -2.100515  ,  0.        ,\n",
       "        -0.5225554 ,  0.        ,  2.5698998 ,  0.        ,  2.7944763 ,\n",
       "         0.        ], dtype=float32),\n",
       " 'hwQual': array([2., 4., 2., 4., 2., 4., 2., 4., 2., 4., 2., 4., 2., 4., 2., 4., 2.,\n",
       "        4., 2., 4., 2., 4., 2., 4., 2., 4., 2., 4., 2., 4., 2., 4., 2., 4.,\n",
       "        2., 4., 2., 4., 2., 4., 2., 4., 2., 4., 2., 4., 2., 4., 2., 4., 2.,\n",
       "        4., 2., 4., 2., 4., 2., 4., 2., 4., 2., 4., 2., 4., 2., 4., 2., 4.,\n",
       "        2., 4., 2., 4., 2., 4., 2., 4., 2., 4., 2., 4., 2., 4., 2., 4., 2.,\n",
       "        4., 2., 4., 2., 4., 2., 4., 2., 4., 2., 4., 2., 4., 2., 4., 2., 4.,\n",
       "        2., 4., 2., 4., 2., 4., 2., 4., 2., 4., 2., 4., 2., 4., 2., 4., 2.,\n",
       "        4., 2., 4., 2., 4., 2., 4., 2., 4., 2., 4., 2., 4., 2., 4., 2., 4.,\n",
       "        2., 4., 2., 4., 2., 4., 2., 4., 2., 4., 2., 4., 2., 4., 2., 4., 2.,\n",
       "        4., 2., 4., 2., 4., 3., 5., 3., 5., 3., 5., 3., 5., 3., 5., 3., 5.,\n",
       "        3., 5., 3., 5., 3., 5., 3., 5., 3., 5., 3., 5., 3., 5., 3., 5., 3.,\n",
       "        5., 3., 5., 3., 5., 3., 5., 3., 5., 3., 5., 3., 5., 3., 5., 3., 5.,\n",
       "        3., 5., 3., 5., 3., 5., 3., 5., 3., 5., 3., 5., 3., 5., 3., 5., 3.,\n",
       "        5., 3., 5., 3., 5., 3., 5., 3., 5., 3., 5., 3., 5., 3., 5., 3., 5.,\n",
       "        3., 5., 3., 5., 3., 5., 3., 5., 3., 5., 3., 5., 3., 5., 3., 5., 3.,\n",
       "        5., 3., 5., 3., 5., 3., 5., 3., 5., 3., 5., 3., 5., 3., 5., 3., 5.,\n",
       "        3., 5., 3., 5., 3., 5., 3., 5., 3., 5., 3., 5., 3., 5., 3., 5., 3.,\n",
       "        5., 3., 5., 3., 5., 3., 5., 3., 5., 3., 5., 3., 5., 3., 5., 3., 5.],\n",
       "       dtype=float32),\n",
       " 'tkIso': array([ 0.0000000e+00, -9.9900000e+02,  0.0000000e+00, -9.9900000e+02,\n",
       "         0.0000000e+00, -9.9900000e+02,  0.0000000e+00, -9.9900000e+02,\n",
       "         0.0000000e+00, -9.9900000e+02,  0.0000000e+00, -9.9900000e+02,\n",
       "         0.0000000e+00, -9.9900000e+02,  0.0000000e+00,  0.0000000e+00,\n",
       "         0.0000000e+00,  0.0000000e+00,  0.0000000e+00,  0.0000000e+00,\n",
       "         0.0000000e+00, -9.9900000e+02,  0.0000000e+00, -9.9900000e+02,\n",
       "         0.0000000e+00, -9.9900000e+02,  0.0000000e+00, -9.9900000e+02,\n",
       "         0.0000000e+00, -9.9900000e+02,  0.0000000e+00,  0.0000000e+00,\n",
       "         0.0000000e+00, -9.9900000e+02,  0.0000000e+00, -9.9900000e+02,\n",
       "         0.0000000e+00,  0.0000000e+00,  0.0000000e+00,  0.0000000e+00,\n",
       "         0.0000000e+00,  0.0000000e+00,  0.0000000e+00,  0.0000000e+00,\n",
       "         0.0000000e+00,  0.0000000e+00,  0.0000000e+00,  0.0000000e+00,\n",
       "         0.0000000e+00, -9.9900000e+02,  0.0000000e+00, -9.9900000e+02,\n",
       "         0.0000000e+00,  0.0000000e+00,  0.0000000e+00, -9.9900000e+02,\n",
       "         0.0000000e+00,  0.0000000e+00,  0.0000000e+00, -9.9900000e+02,\n",
       "         0.0000000e+00,  0.0000000e+00,  0.0000000e+00, -9.9900000e+02,\n",
       "         0.0000000e+00,  0.0000000e+00,  0.0000000e+00,  0.0000000e+00,\n",
       "         0.0000000e+00,  0.0000000e+00,  0.0000000e+00, -9.9900000e+02,\n",
       "         0.0000000e+00, -9.9900000e+02,  0.0000000e+00,  0.0000000e+00,\n",
       "         0.0000000e+00,  0.0000000e+00,  0.0000000e+00,  0.0000000e+00,\n",
       "         8.5808241e-01,  3.2885146e+00,  0.0000000e+00, -9.9900000e+02,\n",
       "         0.0000000e+00, -9.9900000e+02,  0.0000000e+00,  0.0000000e+00,\n",
       "         0.0000000e+00,  0.0000000e+00,  0.0000000e+00,  0.0000000e+00,\n",
       "         0.0000000e+00, -9.9900000e+02,  0.0000000e+00, -9.9900000e+02,\n",
       "         0.0000000e+00,  0.0000000e+00,  0.0000000e+00, -9.9900000e+02,\n",
       "         0.0000000e+00, -9.9900000e+02,  0.0000000e+00, -9.9900000e+02,\n",
       "         0.0000000e+00, -9.9900000e+02,  0.0000000e+00, -9.9900000e+02,\n",
       "         0.0000000e+00, -9.9900000e+02,  0.0000000e+00, -9.9900000e+02,\n",
       "         0.0000000e+00,  0.0000000e+00,  0.0000000e+00, -9.9900000e+02,\n",
       "         0.0000000e+00, -9.9900000e+02,  0.0000000e+00, -9.9900000e+02,\n",
       "         0.0000000e+00, -9.9900000e+02,  0.0000000e+00, -9.9900000e+02,\n",
       "         0.0000000e+00,  0.0000000e+00,  0.0000000e+00,  0.0000000e+00,\n",
       "         0.0000000e+00,  0.0000000e+00,  0.0000000e+00, -9.9900000e+02,\n",
       "         0.0000000e+00,  0.0000000e+00,  0.0000000e+00,  0.0000000e+00,\n",
       "         0.0000000e+00,  0.0000000e+00,  0.0000000e+00,  0.0000000e+00,\n",
       "         0.0000000e+00,  0.0000000e+00,  0.0000000e+00,  0.0000000e+00,\n",
       "         0.0000000e+00, -9.9900000e+02,  0.0000000e+00, -9.9900000e+02,\n",
       "         0.0000000e+00,  0.0000000e+00,  0.0000000e+00,  0.0000000e+00,\n",
       "         0.0000000e+00,  0.0000000e+00,  0.0000000e+00,  0.0000000e+00,\n",
       "         0.0000000e+00,  0.0000000e+00,  0.0000000e+00,  0.0000000e+00,\n",
       "         0.0000000e+00,  0.0000000e+00,  0.0000000e+00,  0.0000000e+00,\n",
       "         0.0000000e+00,  0.0000000e+00,  0.0000000e+00,  0.0000000e+00,\n",
       "         0.0000000e+00,  0.0000000e+00,  0.0000000e+00,  0.0000000e+00,\n",
       "         0.0000000e+00,  0.0000000e+00,  0.0000000e+00,  0.0000000e+00,\n",
       "         0.0000000e+00,  0.0000000e+00,  0.0000000e+00,  0.0000000e+00,\n",
       "         0.0000000e+00,  0.0000000e+00,  0.0000000e+00,  0.0000000e+00,\n",
       "         0.0000000e+00,  0.0000000e+00,  0.0000000e+00,  0.0000000e+00,\n",
       "         1.6092639e+00,  3.2885146e+00,  0.0000000e+00,  0.0000000e+00,\n",
       "         0.0000000e+00,  0.0000000e+00,  0.0000000e+00,  0.0000000e+00,\n",
       "         0.0000000e+00,  0.0000000e+00,  0.0000000e+00,  0.0000000e+00,\n",
       "         0.0000000e+00,  0.0000000e+00,  0.0000000e+00,  0.0000000e+00,\n",
       "         0.0000000e+00,  0.0000000e+00,  0.0000000e+00,  0.0000000e+00,\n",
       "         0.0000000e+00,  0.0000000e+00,  0.0000000e+00,  0.0000000e+00,\n",
       "         0.0000000e+00,  0.0000000e+00,  0.0000000e+00,  0.0000000e+00,\n",
       "         0.0000000e+00,  0.0000000e+00,  0.0000000e+00,  0.0000000e+00,\n",
       "         0.0000000e+00,  0.0000000e+00,  0.0000000e+00,  0.0000000e+00,\n",
       "         0.0000000e+00,  0.0000000e+00,  0.0000000e+00,  0.0000000e+00,\n",
       "         0.0000000e+00,  0.0000000e+00,  0.0000000e+00, -9.9900000e+02,\n",
       "         0.0000000e+00,  0.0000000e+00,  0.0000000e+00, -9.9900000e+02,\n",
       "         0.0000000e+00, -9.9900000e+02,  0.0000000e+00, -9.9900000e+02,\n",
       "         0.0000000e+00, -9.9900000e+02,  0.0000000e+00,  0.0000000e+00,\n",
       "         0.0000000e+00,  0.0000000e+00,  0.0000000e+00, -9.9900000e+02,\n",
       "         0.0000000e+00, -9.9900000e+02,  0.0000000e+00, -9.9900000e+02,\n",
       "         0.0000000e+00, -9.9900000e+02,  0.0000000e+00, -9.9900000e+02,\n",
       "         0.0000000e+00, -9.9900000e+02,  0.0000000e+00, -9.9900000e+02,\n",
       "         0.0000000e+00, -9.9900000e+02,  0.0000000e+00, -9.9900000e+02,\n",
       "         0.0000000e+00, -9.9900000e+02,  0.0000000e+00, -9.9900000e+02,\n",
       "         0.0000000e+00, -9.9900000e+02,  0.0000000e+00, -9.9900000e+02,\n",
       "         0.0000000e+00, -9.9900000e+02,  0.0000000e+00, -9.9900000e+02,\n",
       "         0.0000000e+00, -9.9900000e+02,  0.0000000e+00, -9.9900000e+02,\n",
       "         0.0000000e+00, -9.9900000e+02,  0.0000000e+00, -9.9900000e+02,\n",
       "         0.0000000e+00, -9.9900000e+02,  0.0000000e+00, -9.9900000e+02,\n",
       "         0.0000000e+00, -9.9900000e+02,  0.0000000e+00, -9.9900000e+02,\n",
       "         0.0000000e+00, -9.9900000e+02,  0.0000000e+00, -9.9900000e+02,\n",
       "         0.0000000e+00, -9.9900000e+02,  0.0000000e+00, -9.9900000e+02,\n",
       "         0.0000000e+00, -9.9900000e+02,  0.0000000e+00, -9.9900000e+02,\n",
       "         0.0000000e+00, -9.9900000e+02], dtype=float32),\n",
       " 'tkIsoPV': array([ 0.0000000e+00, -9.9900000e+02,  0.0000000e+00, -9.9900000e+02,\n",
       "         0.0000000e+00, -9.9900000e+02,  0.0000000e+00, -9.9900000e+02,\n",
       "         0.0000000e+00, -9.9900000e+02,  0.0000000e+00, -9.9900000e+02,\n",
       "         0.0000000e+00, -9.9900000e+02,  0.0000000e+00,  0.0000000e+00,\n",
       "         0.0000000e+00,  0.0000000e+00,  0.0000000e+00,  0.0000000e+00,\n",
       "         0.0000000e+00, -9.9900000e+02,  0.0000000e+00, -9.9900000e+02,\n",
       "         0.0000000e+00, -9.9900000e+02,  0.0000000e+00, -9.9900000e+02,\n",
       "         0.0000000e+00, -9.9900000e+02,  0.0000000e+00,  0.0000000e+00,\n",
       "         0.0000000e+00, -9.9900000e+02,  0.0000000e+00, -9.9900000e+02,\n",
       "         0.0000000e+00,  0.0000000e+00,  0.0000000e+00,  0.0000000e+00,\n",
       "         0.0000000e+00,  0.0000000e+00,  0.0000000e+00,  0.0000000e+00,\n",
       "         0.0000000e+00,  0.0000000e+00,  0.0000000e+00,  0.0000000e+00,\n",
       "         0.0000000e+00, -9.9900000e+02,  0.0000000e+00, -9.9900000e+02,\n",
       "         0.0000000e+00,  0.0000000e+00,  0.0000000e+00, -9.9900000e+02,\n",
       "         0.0000000e+00,  0.0000000e+00,  0.0000000e+00, -9.9900000e+02,\n",
       "         0.0000000e+00,  0.0000000e+00,  0.0000000e+00, -9.9900000e+02,\n",
       "         0.0000000e+00,  0.0000000e+00,  0.0000000e+00,  0.0000000e+00,\n",
       "         0.0000000e+00,  0.0000000e+00,  0.0000000e+00, -9.9900000e+02,\n",
       "         0.0000000e+00, -9.9900000e+02,  0.0000000e+00,  0.0000000e+00,\n",
       "         0.0000000e+00,  0.0000000e+00,  0.0000000e+00,  0.0000000e+00,\n",
       "         8.5808241e-01,  3.2885146e+00,  0.0000000e+00, -9.9900000e+02,\n",
       "         0.0000000e+00, -9.9900000e+02,  0.0000000e+00,  0.0000000e+00,\n",
       "         0.0000000e+00,  0.0000000e+00,  0.0000000e+00,  0.0000000e+00,\n",
       "         0.0000000e+00, -9.9900000e+02,  0.0000000e+00, -9.9900000e+02,\n",
       "         0.0000000e+00,  0.0000000e+00,  0.0000000e+00, -9.9900000e+02,\n",
       "         0.0000000e+00, -9.9900000e+02,  0.0000000e+00, -9.9900000e+02,\n",
       "         0.0000000e+00, -9.9900000e+02,  0.0000000e+00, -9.9900000e+02,\n",
       "         0.0000000e+00, -9.9900000e+02,  0.0000000e+00, -9.9900000e+02,\n",
       "         0.0000000e+00,  0.0000000e+00,  0.0000000e+00, -9.9900000e+02,\n",
       "         0.0000000e+00, -9.9900000e+02,  0.0000000e+00, -9.9900000e+02,\n",
       "         0.0000000e+00, -9.9900000e+02,  0.0000000e+00, -9.9900000e+02,\n",
       "         0.0000000e+00,  0.0000000e+00,  0.0000000e+00,  0.0000000e+00,\n",
       "         0.0000000e+00,  0.0000000e+00,  0.0000000e+00, -9.9900000e+02,\n",
       "         0.0000000e+00,  0.0000000e+00,  0.0000000e+00,  0.0000000e+00,\n",
       "         0.0000000e+00,  0.0000000e+00,  0.0000000e+00,  0.0000000e+00,\n",
       "         0.0000000e+00,  0.0000000e+00,  0.0000000e+00,  0.0000000e+00,\n",
       "         0.0000000e+00, -9.9900000e+02,  0.0000000e+00, -9.9900000e+02,\n",
       "         0.0000000e+00,  0.0000000e+00,  0.0000000e+00,  0.0000000e+00,\n",
       "         0.0000000e+00,  0.0000000e+00,  0.0000000e+00,  0.0000000e+00,\n",
       "         0.0000000e+00,  0.0000000e+00,  0.0000000e+00,  0.0000000e+00,\n",
       "         0.0000000e+00,  0.0000000e+00,  0.0000000e+00,  0.0000000e+00,\n",
       "         0.0000000e+00,  0.0000000e+00,  0.0000000e+00,  0.0000000e+00,\n",
       "         0.0000000e+00,  0.0000000e+00,  0.0000000e+00,  0.0000000e+00,\n",
       "         0.0000000e+00,  0.0000000e+00,  0.0000000e+00,  0.0000000e+00,\n",
       "         0.0000000e+00,  0.0000000e+00,  0.0000000e+00,  0.0000000e+00,\n",
       "         0.0000000e+00,  0.0000000e+00,  0.0000000e+00,  0.0000000e+00,\n",
       "         0.0000000e+00,  0.0000000e+00,  0.0000000e+00,  0.0000000e+00,\n",
       "         1.6092639e+00,  3.2885146e+00,  0.0000000e+00,  0.0000000e+00,\n",
       "         0.0000000e+00,  0.0000000e+00,  0.0000000e+00,  0.0000000e+00,\n",
       "         0.0000000e+00,  0.0000000e+00,  0.0000000e+00,  0.0000000e+00,\n",
       "         0.0000000e+00,  0.0000000e+00,  0.0000000e+00,  0.0000000e+00,\n",
       "         0.0000000e+00,  0.0000000e+00,  0.0000000e+00,  0.0000000e+00,\n",
       "         0.0000000e+00,  0.0000000e+00,  0.0000000e+00,  0.0000000e+00,\n",
       "         0.0000000e+00,  0.0000000e+00,  0.0000000e+00,  0.0000000e+00,\n",
       "         0.0000000e+00,  0.0000000e+00,  0.0000000e+00,  0.0000000e+00,\n",
       "         0.0000000e+00,  0.0000000e+00,  0.0000000e+00,  0.0000000e+00,\n",
       "         0.0000000e+00,  0.0000000e+00,  0.0000000e+00,  0.0000000e+00,\n",
       "         0.0000000e+00,  0.0000000e+00,  0.0000000e+00, -9.9900000e+02,\n",
       "         0.0000000e+00,  0.0000000e+00,  0.0000000e+00, -9.9900000e+02,\n",
       "         0.0000000e+00, -9.9900000e+02,  0.0000000e+00, -9.9900000e+02,\n",
       "         0.0000000e+00, -9.9900000e+02,  0.0000000e+00,  0.0000000e+00,\n",
       "         0.0000000e+00,  0.0000000e+00,  0.0000000e+00, -9.9900000e+02,\n",
       "         0.0000000e+00, -9.9900000e+02,  0.0000000e+00, -9.9900000e+02,\n",
       "         0.0000000e+00, -9.9900000e+02,  0.0000000e+00, -9.9900000e+02,\n",
       "         0.0000000e+00, -9.9900000e+02,  0.0000000e+00, -9.9900000e+02,\n",
       "         0.0000000e+00, -9.9900000e+02,  0.0000000e+00, -9.9900000e+02,\n",
       "         0.0000000e+00, -9.9900000e+02,  0.0000000e+00, -9.9900000e+02,\n",
       "         0.0000000e+00, -9.9900000e+02,  0.0000000e+00, -9.9900000e+02,\n",
       "         0.0000000e+00, -9.9900000e+02,  0.0000000e+00, -9.9900000e+02,\n",
       "         0.0000000e+00, -9.9900000e+02,  0.0000000e+00, -9.9900000e+02,\n",
       "         0.0000000e+00, -9.9900000e+02,  0.0000000e+00, -9.9900000e+02,\n",
       "         0.0000000e+00, -9.9900000e+02,  0.0000000e+00, -9.9900000e+02,\n",
       "         0.0000000e+00, -9.9900000e+02,  0.0000000e+00, -9.9900000e+02,\n",
       "         0.0000000e+00, -9.9900000e+02,  0.0000000e+00, -9.9900000e+02,\n",
       "         0.0000000e+00, -9.9900000e+02,  0.0000000e+00, -9.9900000e+02,\n",
       "         0.0000000e+00, -9.9900000e+02,  0.0000000e+00, -9.9900000e+02,\n",
       "         0.0000000e+00, -9.9900000e+02], dtype=float32),\n",
       " 'pfIso': array([-999., -999., -999., -999., -999., -999., -999., -999., -999.,\n",
       "        -999., -999., -999., -999., -999., -999., -999., -999., -999.,\n",
       "        -999., -999., -999., -999., -999., -999., -999., -999., -999.,\n",
       "        -999., -999., -999., -999., -999., -999., -999., -999., -999.,\n",
       "        -999., -999., -999., -999., -999., -999., -999., -999., -999.,\n",
       "        -999., -999., -999., -999., -999., -999., -999., -999., -999.,\n",
       "        -999., -999., -999., -999., -999., -999., -999., -999., -999.,\n",
       "        -999., -999., -999., -999., -999., -999., -999., -999., -999.,\n",
       "        -999., -999., -999., -999., -999., -999., -999., -999., -999.,\n",
       "        -999., -999., -999., -999., -999., -999., -999., -999., -999.,\n",
       "        -999., -999., -999., -999., -999., -999., -999., -999., -999.,\n",
       "        -999., -999., -999., -999., -999., -999., -999., -999., -999.,\n",
       "        -999., -999., -999., -999., -999., -999., -999., -999., -999.,\n",
       "        -999., -999., -999., -999., -999., -999., -999., -999., -999.,\n",
       "        -999., -999., -999., -999., -999., -999., -999., -999., -999.,\n",
       "        -999., -999., -999., -999., -999., -999., -999., -999., -999.,\n",
       "        -999., -999., -999., -999., -999., -999., -999., -999., -999.,\n",
       "        -999., -999., -999., -999., -999., -999., -999., -999., -999.,\n",
       "        -999., -999., -999., -999., -999., -999., -999., -999., -999.,\n",
       "        -999., -999., -999., -999., -999., -999., -999., -999., -999.,\n",
       "        -999., -999., -999., -999., -999., -999., -999., -999., -999.,\n",
       "        -999., -999., -999., -999., -999., -999., -999., -999., -999.,\n",
       "        -999., -999., -999., -999., -999., -999., -999., -999., -999.,\n",
       "        -999., -999., -999., -999., -999., -999., -999., -999., -999.,\n",
       "        -999., -999., -999., -999., -999., -999., -999., -999., -999.,\n",
       "        -999., -999., -999., -999., -999., -999., -999., -999., -999.,\n",
       "        -999., -999., -999., -999., -999., -999., -999., -999., -999.,\n",
       "        -999., -999., -999., -999., -999., -999., -999., -999., -999.,\n",
       "        -999., -999., -999., -999., -999., -999., -999., -999., -999.,\n",
       "        -999., -999., -999., -999., -999., -999., -999., -999., -999.,\n",
       "        -999., -999., -999., -999., -999., -999., -999., -999., -999.,\n",
       "        -999., -999., -999., -999., -999., -999., -999., -999., -999.,\n",
       "        -999., -999., -999., -999., -999., -999., -999., -999., -999.,\n",
       "        -999., -999., -999., -999., -999., -999., -999., -999., -999.],\n",
       "       dtype=float32),\n",
       " 'pfIsoPV': array([-999., -999., -999., -999., -999., -999., -999., -999., -999.,\n",
       "        -999., -999., -999., -999., -999., -999., -999., -999., -999.,\n",
       "        -999., -999., -999., -999., -999., -999., -999., -999., -999.,\n",
       "        -999., -999., -999., -999., -999., -999., -999., -999., -999.,\n",
       "        -999., -999., -999., -999., -999., -999., -999., -999., -999.,\n",
       "        -999., -999., -999., -999., -999., -999., -999., -999., -999.,\n",
       "        -999., -999., -999., -999., -999., -999., -999., -999., -999.,\n",
       "        -999., -999., -999., -999., -999., -999., -999., -999., -999.,\n",
       "        -999., -999., -999., -999., -999., -999., -999., -999., -999.,\n",
       "        -999., -999., -999., -999., -999., -999., -999., -999., -999.,\n",
       "        -999., -999., -999., -999., -999., -999., -999., -999., -999.,\n",
       "        -999., -999., -999., -999., -999., -999., -999., -999., -999.,\n",
       "        -999., -999., -999., -999., -999., -999., -999., -999., -999.,\n",
       "        -999., -999., -999., -999., -999., -999., -999., -999., -999.,\n",
       "        -999., -999., -999., -999., -999., -999., -999., -999., -999.,\n",
       "        -999., -999., -999., -999., -999., -999., -999., -999., -999.,\n",
       "        -999., -999., -999., -999., -999., -999., -999., -999., -999.,\n",
       "        -999., -999., -999., -999., -999., -999., -999., -999., -999.,\n",
       "        -999., -999., -999., -999., -999., -999., -999., -999., -999.,\n",
       "        -999., -999., -999., -999., -999., -999., -999., -999., -999.,\n",
       "        -999., -999., -999., -999., -999., -999., -999., -999., -999.,\n",
       "        -999., -999., -999., -999., -999., -999., -999., -999., -999.,\n",
       "        -999., -999., -999., -999., -999., -999., -999., -999., -999.,\n",
       "        -999., -999., -999., -999., -999., -999., -999., -999., -999.,\n",
       "        -999., -999., -999., -999., -999., -999., -999., -999., -999.,\n",
       "        -999., -999., -999., -999., -999., -999., -999., -999., -999.,\n",
       "        -999., -999., -999., -999., -999., -999., -999., -999., -999.,\n",
       "        -999., -999., -999., -999., -999., -999., -999., -999., -999.,\n",
       "        -999., -999., -999., -999., -999., -999., -999., -999., -999.,\n",
       "        -999., -999., -999., -999., -999., -999., -999., -999., -999.,\n",
       "        -999., -999., -999., -999., -999., -999., -999., -999., -999.,\n",
       "        -999., -999., -999., -999., -999., -999., -999., -999., -999.,\n",
       "        -999., -999., -999., -999., -999., -999., -999., -999., -999.,\n",
       "        -999., -999., -999., -999., -999., -999., -999., -999., -999.],\n",
       "       dtype=float32),\n",
       " 'test': array([1., 1., 1., 1., 1., 1., 1., 1., 1., 1., 1., 1., 1., 1., 1., 1., 1.,\n",
       "        1., 1., 1., 1., 1., 1., 1., 1., 1., 1., 1., 1., 1., 1., 1., 1., 1.,\n",
       "        1., 1., 1., 1., 1., 1., 1., 1., 1., 1., 1., 1., 1., 1., 1., 1., 1.,\n",
       "        1., 1., 1., 1., 1., 1., 1., 1., 1., 1., 1., 1., 1., 1., 1., 1., 1.,\n",
       "        1., 1., 1., 1., 1., 1., 1., 1., 1., 1., 1., 1., 1., 1., 1., 1., 1.,\n",
       "        1., 1., 1., 1., 1., 1., 1., 1., 1., 1., 1., 1., 1., 1., 1., 1., 1.,\n",
       "        1., 1., 1., 1., 1., 1., 1., 1., 1., 1., 1., 1., 1., 1., 1., 1., 1.,\n",
       "        1., 1., 1., 1., 1., 1., 1., 1., 1., 1., 1., 1., 1., 1., 1., 1., 1.,\n",
       "        1., 1., 1., 1., 1., 1., 1., 1., 1., 1., 1., 1., 1., 1., 1., 1., 1.,\n",
       "        1., 1., 1., 1., 1., 1., 1., 1., 1., 1., 1., 1., 1., 1., 1., 1., 1.,\n",
       "        1., 1., 1., 1., 1., 1., 1., 1., 1., 1., 1., 1., 1., 1., 1., 1., 1.,\n",
       "        1., 1., 1., 1., 1., 1., 1., 1., 1., 1., 1., 1., 1., 1., 1., 1., 1.,\n",
       "        1., 1., 1., 1., 1., 1., 1., 1., 1., 1., 1., 1., 1., 1., 1., 1., 1.,\n",
       "        1., 1., 1., 1., 1., 1., 1., 1., 1., 1., 1., 1., 1., 1., 1., 1., 1.,\n",
       "        1., 1., 1., 1., 1., 1., 1., 1., 1., 1., 1., 1., 1., 1., 1., 1., 1.,\n",
       "        1., 1., 1., 1., 1., 1., 1., 1., 1., 1., 1., 1., 1., 1., 1., 1., 1.,\n",
       "        1., 1., 1., 1., 1., 1., 1., 1., 1., 1., 1., 1., 1., 1., 1., 1., 1.,\n",
       "        1., 1., 1., 1., 1., 1., 1., 1., 1., 1., 1., 1., 1., 1., 1., 1., 1.])}"
      ]
     },
     "execution_count": 25,
     "metadata": {},
     "output_type": "execute_result"
    }
   ],
   "source": [
    "datadict"
   ]
  },
  {
   "cell_type": "code",
   "execution_count": 26,
   "metadata": {},
   "outputs": [
    {
     "ename": "AttributeError",
     "evalue": "'RDataFrame' object has no attribute 'GetColumns'",
     "output_type": "error",
     "traceback": [
      "\u001b[0;31m---------------------------------------------------------------------------\u001b[0m",
      "\u001b[0;31mAttributeError\u001b[0m                            Traceback (most recent call last)",
      "\u001b[0;32m<ipython-input-26-00b307231f7d>\u001b[0m in \u001b[0;36m<module>\u001b[0;34m\u001b[0m\n\u001b[1;32m      1\u001b[0m \u001b[0mrdf\u001b[0m \u001b[0;34m=\u001b[0m \u001b[0mROOT\u001b[0m\u001b[0;34m.\u001b[0m\u001b[0mRDF\u001b[0m\u001b[0;34m.\u001b[0m\u001b[0mMakeNumpyDataFrame\u001b[0m\u001b[0;34m(\u001b[0m\u001b[0mdatadict\u001b[0m\u001b[0;34m)\u001b[0m\u001b[0;34m\u001b[0m\u001b[0;34m\u001b[0m\u001b[0m\n\u001b[0;32m----> 2\u001b[0;31m \u001b[0;32mfor\u001b[0m \u001b[0mcol\u001b[0m \u001b[0;32min\u001b[0m \u001b[0mrdf\u001b[0m\u001b[0;34m.\u001b[0m\u001b[0mGetColumns\u001b[0m\u001b[0;34m(\u001b[0m\u001b[0;34m)\u001b[0m\u001b[0;34m:\u001b[0m\u001b[0;34m\u001b[0m\u001b[0;34m\u001b[0m\u001b[0m\n\u001b[0m\u001b[1;32m      3\u001b[0m     \u001b[0mprint\u001b[0m\u001b[0;34m(\u001b[0m\u001b[0mcol\u001b[0m\u001b[0;34m)\u001b[0m\u001b[0;34m\u001b[0m\u001b[0;34m\u001b[0m\u001b[0m\n",
      "\u001b[0;31mAttributeError\u001b[0m: 'RDataFrame' object has no attribute 'GetColumns'"
     ]
    }
   ],
   "source": [
    "rdf = ROOT.RDF.MakeNumpyDataFrame(datadict)\n",
    "for col in rdf.GetColumns():\n",
    "    print(col)"
   ]
  },
  {
   "cell_type": "code",
   "execution_count": null,
   "metadata": {},
   "outputs": [],
   "source": [
    "import python.selections as sel"
   ]
  },
  {
   "cell_type": "code",
   "execution_count": null,
   "metadata": {},
   "outputs": [],
   "source": [
    "sel.eg_id_pt_ee_selections"
   ]
  },
  {
   "cell_type": "code",
   "execution_count": null,
   "metadata": {},
   "outputs": [],
   "source": [
    "sel.eg_id_pt_ee_selections[6].selection"
   ]
  },
  {
   "cell_type": "code",
   "execution_count": null,
   "metadata": {},
   "outputs": [],
   "source": [
    "%time rdf.Filter(sel.eg_id_pt_ee_selections[0].selection).Count().GetValue()"
   ]
  },
  {
   "cell_type": "code",
   "execution_count": null,
   "metadata": {},
   "outputs": [],
   "source": [
    "coll.tkem_EE.cached_queries = dict()"
   ]
  },
  {
   "cell_type": "code",
   "execution_count": null,
   "metadata": {},
   "outputs": [],
   "source": [
    "%time coll.tkem_EE.query(sel.eg_id_pt_ee_selections[0])"
   ]
  },
  {
   "cell_type": "code",
   "execution_count": 11,
   "metadata": {},
   "outputs": [
    {
     "name": "stdout",
     "output_type": "stream",
     "text": [
      "CPU times: user 5 µs, sys: 0 ns, total: 5 µs\n",
      "Wall time: 8.82 µs\n"
     ]
    },
    {
     "ename": "NameError",
     "evalue": "name 'rdf' is not defined",
     "output_type": "error",
     "traceback": [
      "\u001b[0;31m---------------------------------------------------------------------------\u001b[0m",
      "\u001b[0;31mNameError\u001b[0m                                 Traceback (most recent call last)",
      "\u001b[0;32m<ipython-input-11-18e4c33ea94c>\u001b[0m in \u001b[0;36m<module>\u001b[0;34m\u001b[0m\n\u001b[1;32m      1\u001b[0m \u001b[0mget_ipython\u001b[0m\u001b[0;34m(\u001b[0m\u001b[0;34m)\u001b[0m\u001b[0;34m.\u001b[0m\u001b[0mrun_line_magic\u001b[0m\u001b[0;34m(\u001b[0m\u001b[0;34m'time'\u001b[0m\u001b[0;34m,\u001b[0m \u001b[0;34m''\u001b[0m\u001b[0;34m)\u001b[0m\u001b[0;34m\u001b[0m\u001b[0;34m\u001b[0m\u001b[0m\n\u001b[0;32m----> 2\u001b[0;31m \u001b[0mhtemp\u001b[0m \u001b[0;34m=\u001b[0m \u001b[0mrdf\u001b[0m\u001b[0;34m.\u001b[0m\u001b[0mFilter\u001b[0m\u001b[0;34m(\u001b[0m\u001b[0msel\u001b[0m\u001b[0;34m.\u001b[0m\u001b[0meg_id_pt_ee_selections\u001b[0m\u001b[0;34m[\u001b[0m\u001b[0;36m0\u001b[0m\u001b[0;34m]\u001b[0m\u001b[0;34m.\u001b[0m\u001b[0mselection\u001b[0m\u001b[0;34m)\u001b[0m\u001b[0;34m.\u001b[0m\u001b[0mHisto1D\u001b[0m\u001b[0;34m(\u001b[0m\u001b[0mROOT\u001b[0m\u001b[0;34m.\u001b[0m\u001b[0mRDF\u001b[0m\u001b[0;34m.\u001b[0m\u001b[0mTH1DModel\u001b[0m\u001b[0;34m(\u001b[0m\u001b[0;34m'pippo'\u001b[0m\u001b[0;34m+\u001b[0m\u001b[0;34m'_pt_temp'\u001b[0m\u001b[0;34m,\u001b[0m \u001b[0;34m'EG Pt (GeV); p_{T} [GeV]'\u001b[0m\u001b[0;34m,\u001b[0m \u001b[0;36m100\u001b[0m\u001b[0;34m,\u001b[0m \u001b[0;36m0\u001b[0m\u001b[0;34m,\u001b[0m \u001b[0;36m100\u001b[0m\u001b[0;34m)\u001b[0m\u001b[0;34m,\u001b[0m \u001b[0;34m'pt'\u001b[0m\u001b[0;34m)\u001b[0m\u001b[0;34m\u001b[0m\u001b[0;34m\u001b[0m\u001b[0m\n\u001b[0m",
      "\u001b[0;31mNameError\u001b[0m: name 'rdf' is not defined"
     ]
    }
   ],
   "source": [
    "%time \n",
    "htemp = rdf.Filter(sel.eg_id_pt_ee_selections[0].selection).Histo1D(ROOT.RDF.TH1DModel('pippo'+'_pt_temp', 'EG Pt (GeV); p_{T} [GeV]', 100, 0, 100), 'pt')"
   ]
  },
  {
   "cell_type": "code",
   "execution_count": null,
   "metadata": {},
   "outputs": [],
   "source": [
    "%time htemp.GetValue()"
   ]
  },
  {
   "cell_type": "code",
   "execution_count": null,
   "metadata": {},
   "outputs": [],
   "source": [
    "import numba\n",
    "import numpy as np"
   ]
  },
  {
   "cell_type": "code",
   "execution_count": null,
   "metadata": {},
   "outputs": [],
   "source": [
    "import numba\n",
    "\n",
    "\n",
    "@numba.jit\n",
    "def f_plain(x):\n",
    "    return x * (x - 1)\n",
    "\n",
    "\n",
    "@numba.jit\n",
    "def integrate_f_numba(a, b, N):\n",
    "    s = 0\n",
    "    dx = (b - a) / N\n",
    "    for i in range(N):\n",
    "        s += f_plain(a + i * dx)\n",
    "    return s * dx\n",
    "\n",
    "\n",
    "@numba.jit\n",
    "def apply_integrate_f_numba(col_a, col_b, col_N):\n",
    "    n = len(col_N)\n",
    "    result = np.empty(n, dtype=\"float64\")\n",
    "    assert len(col_a) == len(col_b) == n\n",
    "    for i in range(n):\n",
    "        result[i] = integrate_f_numba(col_a[i], col_b[i], col_N[i])\n",
    "    return result\n",
    "\n",
    "\n",
    "def compute_numba(df):\n",
    "    result = apply_integrate_f_numba(\n",
    "        df[\"a\"].to_numpy(), df[\"b\"].to_numpy(), df[\"N\"].to_numpy()\n",
    "    )\n",
    "    return pd.Series(result, index=df.index, name=\"result\")\n",
    "\n",
    "@numba.jit\n",
    "\n",
    "def fill_test(histo, col_a):\n",
    "    n = len(col_a)\n",
    "    for i in range(n):\n",
    "        histo.Fill(col_a[i])\n",
    "\n",
    "\n"
   ]
  },
  {
   "cell_type": "code",
   "execution_count": null,
   "metadata": {},
   "outputs": [],
   "source": [
    "@numba.jit\n",
    "def fill_test(histo, col_a):\n",
    "    n = len(col_a)\n",
    "    for i in range(n):\n",
    "        histo.Fill(col_a[i])\n",
    "\n"
   ]
  },
  {
   "cell_type": "code",
   "execution_count": null,
   "metadata": {},
   "outputs": [],
   "source": []
  },
  {
   "cell_type": "code",
   "execution_count": null,
   "metadata": {},
   "outputs": [],
   "source": [
    "@cython.boundscheck(False)\n",
    "@cython.wraparound(False)\n",
    "def fill_h1(hist, np.ndarray[np.double_t, ndim=1] array, np.ndarray[np.double_t, ndim=1] weights=None,\n",
    "            bool return_indices=False):\n",
    "    # perform type checking on python side\n",
    "    cdef TH1* _hist = <TH1*> PyCObject_AsVoidPtr(hist)\n",
    "    cdef SIZE_t size = array.shape[0]\n",
    "    cdef np.ndarray[np.int_t, ndim=1] idx = np.empty(0, dtype=np.int)\n",
    "    cdef SIZE_t i\n",
    "    cdef int bin_idx\n",
    "    if return_indices:\n",
    "        idx = np.empty(size, dtype=np.int)\n",
    "    if weights is not None:\n",
    "        for i from 0 <= i < size:\n",
    "            bin_idx = _hist.Fill(array[i], weights[i])\n",
    "            if return_indices:\n",
    "                idx[i] = bin_idx\n",
    "    else:\n",
    "        for i from 0 <= i < size:\n",
    "            bin_idx = _hist.Fill(array[i])\n",
    "            if return_indices:\n",
    "                idx[i] = bin_idx\n",
    "    if return_indices:\n",
    "        return idx"
   ]
  },
  {
   "cell_type": "code",
   "execution_count": null,
   "metadata": {},
   "outputs": [],
   "source": [
    "coll.tkem_EE.df.pt.values\n",
    "print (len(coll.tkem_EE.df.phi.values))"
   ]
  },
  {
   "cell_type": "code",
   "execution_count": 17,
   "metadata": {},
   "outputs": [],
   "source": [
    "myhisto = ROOT.TH1F('name'+'_pt', 'EG Pt (GeV); p_{T} [GeV]', 100, 0, 100)\n",
    "\n",
    "# apply_integrate_f_numba(coll.tkem_EE.df.pt.values, coll.tkem_EE.df.eta.values, coll.tkem_EE.df.phi.values)"
   ]
  },
  {
   "cell_type": "code",
   "execution_count": 28,
   "metadata": {},
   "outputs": [
    {
     "ename": "NameError",
     "evalue": "name 'fill_test' is not defined",
     "output_type": "error",
     "traceback": [
      "\u001b[0;31m---------------------------------------------------------------------------\u001b[0m",
      "\u001b[0;31mNameError\u001b[0m                                 Traceback (most recent call last)",
      "\u001b[0;32m<timed eval>\u001b[0m in \u001b[0;36m<module>\u001b[0;34m\u001b[0m\n",
      "\u001b[0;31mNameError\u001b[0m: name 'fill_test' is not defined"
     ]
    }
   ],
   "source": [
    "%time fill_test(myhisto, coll.tkem_EE.df.pt.values)"
   ]
  },
  {
   "cell_type": "code",
   "execution_count": 1,
   "metadata": {},
   "outputs": [
    {
     "ename": "NameError",
     "evalue": "name 'ROOT' is not defined",
     "output_type": "error",
     "traceback": [
      "\u001b[0;31m---------------------------------------------------------------------------\u001b[0m",
      "\u001b[0;31mNameError\u001b[0m                                 Traceback (most recent call last)",
      "\u001b[0;32m<ipython-input-1-b3ebd205fd5e>\u001b[0m in \u001b[0;36m<module>\u001b[0;34m\u001b[0m\n\u001b[0;32m----> 1\u001b[0;31m \u001b[0mROOT\u001b[0m\u001b[0;34m.\u001b[0m\u001b[0mgROOT\u001b[0m\u001b[0;34m.\u001b[0m\u001b[0mProcessLine\u001b[0m\u001b[0;34m(\u001b[0m\u001b[0;34m'#include \"../src/fastfilling.h\"'\u001b[0m\u001b[0;34m)\u001b[0m\u001b[0;34m;\u001b[0m\u001b[0;34m\u001b[0m\u001b[0;34m\u001b[0m\u001b[0m\n\u001b[0m",
      "\u001b[0;31mNameError\u001b[0m: name 'ROOT' is not defined"
     ]
    }
   ],
   "source": [
    "ROOT.gROOT.ProcessLine('#include \"../src/fastfilling.h\"');"
   ]
  },
  {
   "cell_type": "code",
   "execution_count": 31,
   "metadata": {},
   "outputs": [
    {
     "ename": "AttributeError",
     "evalue": "Failed to get attribute fillTH1Fast1 from ROOT",
     "output_type": "error",
     "traceback": [
      "\u001b[0;31m---------------------------------------------------------------------------\u001b[0m",
      "\u001b[0;31mAttributeError\u001b[0m                            Traceback (most recent call last)",
      "\u001b[0;32m<ipython-input-31-b9f771d1da9f>\u001b[0m in \u001b[0;36m<module>\u001b[0;34m\u001b[0m\n\u001b[0;32m----> 1\u001b[0;31m \u001b[0mROOT\u001b[0m\u001b[0;34m.\u001b[0m\u001b[0mfillTH1Fast1\u001b[0m\u001b[0;34m(\u001b[0m\u001b[0mcoll\u001b[0m\u001b[0;34m.\u001b[0m\u001b[0mtkem_EE\u001b[0m\u001b[0;34m.\u001b[0m\u001b[0mdf\u001b[0m\u001b[0;34m.\u001b[0m\u001b[0mphi\u001b[0m\u001b[0;34m.\u001b[0m\u001b[0mvalues\u001b[0m\u001b[0;34m)\u001b[0m\u001b[0;34m\u001b[0m\u001b[0;34m\u001b[0m\u001b[0m\n\u001b[0m",
      "\u001b[0;32m/opt/root/root6/lib/ROOT/_facade.py\u001b[0m in \u001b[0;36m_fallback_getattr\u001b[0;34m(self, name)\u001b[0m\n\u001b[1;32m    161\u001b[0m             \u001b[0;32mif\u001b[0m \u001b[0mres\u001b[0m\u001b[0;34m:\u001b[0m\u001b[0;34m\u001b[0m\u001b[0;34m\u001b[0m\u001b[0m\n\u001b[1;32m    162\u001b[0m                 \u001b[0;32mreturn\u001b[0m \u001b[0mres\u001b[0m\u001b[0;34m\u001b[0m\u001b[0;34m\u001b[0m\u001b[0m\n\u001b[0;32m--> 163\u001b[0;31m         \u001b[0;32mraise\u001b[0m \u001b[0mAttributeError\u001b[0m\u001b[0;34m(\u001b[0m\u001b[0;34m\"Failed to get attribute {} from ROOT\"\u001b[0m\u001b[0;34m.\u001b[0m\u001b[0mformat\u001b[0m\u001b[0;34m(\u001b[0m\u001b[0mname\u001b[0m\u001b[0;34m)\u001b[0m\u001b[0;34m)\u001b[0m\u001b[0;34m\u001b[0m\u001b[0;34m\u001b[0m\u001b[0m\n\u001b[0m\u001b[1;32m    164\u001b[0m \u001b[0;34m\u001b[0m\u001b[0m\n\u001b[1;32m    165\u001b[0m     \u001b[0;32mdef\u001b[0m \u001b[0m_finalSetup\u001b[0m\u001b[0;34m(\u001b[0m\u001b[0mself\u001b[0m\u001b[0;34m)\u001b[0m\u001b[0;34m:\u001b[0m\u001b[0;34m\u001b[0m\u001b[0;34m\u001b[0m\u001b[0m\n",
      "\u001b[0;31mAttributeError\u001b[0m: Failed to get attribute fillTH1Fast1 from ROOT"
     ]
    }
   ],
   "source": [
    "ROOT.fillTH1Fast1(coll.tkem_EE.df.phi.values)"
   ]
  },
  {
   "cell_type": "code",
   "execution_count": 18,
   "metadata": {},
   "outputs": [],
   "source": [
    "manager = ROOT.FillerManager()"
   ]
  },
  {
   "cell_type": "code",
   "execution_count": 19,
   "metadata": {},
   "outputs": [
    {
     "name": "stdout",
     "output_type": "stream",
     "text": [
      "   entry: 0 value: 1.04712\n",
      "   entry: 1 value: 0\n",
      "   entry: 2 value: 0.930992\n",
      "   entry: 3 value: 0\n",
      "   entry: 4 value: 0.829996\n",
      "   entry: 5 value: 0\n",
      "   entry: 6 value: 1.82802\n",
      "   entry: 7 value: 0\n",
      "   entry: 8 value: 0.690601\n",
      "   entry: 9 value: 0\n",
      "   entry: 10 value: 1.45193\n",
      "   entry: 11 value: 0\n",
      "   entry: 12 value: 0.781423\n",
      "   entry: 13 value: 0\n",
      "   entry: 14 value: 2.07725\n",
      "   entry: 15 value: 0.0436838\n",
      "   entry: 16 value: 3.34927\n",
      "   entry: 17 value: 0.729138\n",
      "   entry: 18 value: 7.61429\n",
      "   entry: 19 value: 2.10224\n",
      "   entry: 20 value: 1.36011\n",
      "   entry: 21 value: 0\n",
      "   entry: 22 value: 1.10786\n",
      "   entry: 23 value: 0\n",
      "   entry: 24 value: 0.949197\n",
      "   entry: 25 value: 0\n",
      "   entry: 26 value: 2.35324\n",
      "   entry: 27 value: 0\n",
      "   entry: 28 value: 1.89764\n",
      "   entry: 29 value: 0\n",
      "   entry: 30 value: 5.50713\n",
      "   entry: 31 value: 2.24942\n",
      "   entry: 32 value: 1.78641\n",
      "   entry: 33 value: 0\n",
      "   entry: 34 value: 0.664361\n",
      "   entry: 35 value: 0\n",
      "   entry: 36 value: 5.1721\n",
      "   entry: 37 value: 1.71808\n",
      "   entry: 38 value: 4.83612\n",
      "   entry: 39 value: 2.31696\n",
      "   entry: 40 value: 2.66693\n",
      "   entry: 41 value: 0.298198\n",
      "   entry: 42 value: 5.78988\n",
      "   entry: 43 value: 3.80408\n",
      "   entry: 44 value: 4.35991\n",
      "   entry: 45 value: 1.38064\n",
      "   entry: 46 value: 3.89054\n",
      "   entry: 47 value: 0.737563\n",
      "   entry: 48 value: 2.3639\n",
      "   entry: 49 value: 0\n",
      "   entry: 50 value: 1.64679\n",
      "   entry: 51 value: 0\n",
      "   entry: 52 value: 3.27331\n",
      "   entry: 53 value: 1.09091\n",
      "   entry: 54 value: 1.98977\n",
      "   entry: 55 value: 0\n",
      "   entry: 56 value: 3.07652\n",
      "   entry: 57 value: 0.857164\n",
      "   entry: 58 value: 2.09424\n",
      "   entry: 59 value: 0\n",
      "   entry: 60 value: 3.73568\n",
      "   entry: 61 value: 1.06361\n",
      "   entry: 62 value: 2.27339\n",
      "   entry: 63 value: 0\n",
      "   entry: 64 value: 2.35965\n",
      "   entry: 65 value: 0.24583\n",
      "   entry: 66 value: 6.13847\n",
      "   entry: 67 value: 1.85924\n",
      "   entry: 68 value: 5.71228\n",
      "   entry: 69 value: 2.73302\n",
      "   entry: 70 value: 2.04452\n",
      "   entry: 71 value: 0\n",
      "   entry: 72 value: 1.74295\n",
      "   entry: 73 value: 0\n",
      "   entry: 74 value: 3.2696\n",
      "   entry: 75 value: 0.629276\n",
      "   entry: 76 value: 4.64023\n",
      "   entry: 77 value: 2.11496\n",
      "   entry: 78 value: 4.45326\n",
      "   entry: 79 value: 1.46132\n",
      "   entry: 80 value: 5.28627\n",
      "   entry: 81 value: 1.37936\n",
      "   entry: 82 value: 0.910481\n",
      "   entry: 83 value: 0\n",
      "   entry: 84 value: 1.06211\n",
      "   entry: 85 value: 0\n",
      "   entry: 86 value: 2.17147\n",
      "   entry: 87 value: 0.280198\n",
      "   entry: 88 value: 3.5069\n",
      "   entry: 89 value: 0.385772\n",
      "   entry: 90 value: 2.38962\n",
      "   entry: 91 value: 0.302166\n",
      "   entry: 92 value: 1.91614\n",
      "   entry: 93 value: 0\n",
      "   entry: 94 value: 2.33529\n",
      "   entry: 95 value: 0\n",
      "   entry: 96 value: 5.133\n",
      "   entry: 97 value: 2.29903\n",
      "   entry: 98 value: 1.23814\n",
      "   entry: 99 value: 0\n",
      "   entry: 100 value: 0.666885\n",
      "   entry: 101 value: 0\n",
      "   entry: 102 value: 0.835587\n",
      "   entry: 103 value: 0\n",
      "   entry: 104 value: 1.44291\n",
      "   entry: 105 value: 0\n",
      "   entry: 106 value: 1.45318\n",
      "   entry: 107 value: 0\n",
      "   entry: 108 value: 1.77719\n",
      "   entry: 109 value: 0\n",
      "   entry: 110 value: 1.63\n",
      "   entry: 111 value: 0\n",
      "   entry: 112 value: 5.10799\n",
      "   entry: 113 value: 2.11599\n",
      "   entry: 114 value: 2.22812\n",
      "   entry: 115 value: 0\n",
      "   entry: 116 value: 0.999183\n",
      "   entry: 117 value: 0\n",
      "   entry: 118 value: 0.596455\n",
      "   entry: 119 value: 0\n",
      "   entry: 120 value: 2.00226\n",
      "   entry: 121 value: 0\n",
      "   entry: 122 value: 1.87001\n",
      "   entry: 123 value: 0\n",
      "   entry: 124 value: 3.1259\n",
      "   entry: 125 value: 0.840471\n",
      "   entry: 126 value: 4.24374\n",
      "   entry: 127 value: 1.45503\n",
      "   entry: 128 value: 4.78165\n",
      "   entry: 129 value: 1.90116\n",
      "   entry: 130 value: 1.44343\n",
      "   entry: 131 value: 0\n",
      "   entry: 132 value: 2.73476\n",
      "   entry: 133 value: 0.414453\n",
      "   entry: 134 value: 3.82962\n",
      "   entry: 135 value: 1.66541\n",
      "   entry: 136 value: 5.19131\n",
      "   entry: 137 value: 2.96668\n",
      "   entry: 138 value: 6.89402\n",
      "   entry: 139 value: 3.86788\n",
      "   entry: 140 value: 5.9667\n",
      "   entry: 141 value: 2.51787\n",
      "   entry: 142 value: 5.8827\n",
      "   entry: 143 value: 2.72884\n",
      "   entry: 144 value: 1.63002\n",
      "   entry: 145 value: 0\n",
      "   entry: 146 value: 0.96009\n",
      "   entry: 147 value: 0\n",
      "   entry: 148 value: 3.39333\n",
      "   entry: 149 value: 0.300338\n",
      "   entry: 150 value: 2.60462\n",
      "   entry: 151 value: 0.598954\n",
      "   entry: 152 value: 3.0394\n",
      "   entry: 153 value: 0.864672\n",
      "   entry: 154 value: 3.09053\n",
      "   entry: 155 value: 0.166696\n",
      "   entry: 156 value: 3.29358\n",
      "   entry: 157 value: 0.751134\n",
      "   entry: 158 value: 3.73892\n",
      "   entry: 159 value: 2.10224\n",
      "   entry: 160 value: 5.65684\n",
      "   entry: 161 value: 3.86788\n",
      "   entry: 162 value: 4.19382\n",
      "   entry: 163 value: 1.85924\n",
      "   entry: 164 value: 4.50698\n",
      "   entry: 165 value: 2.51787\n",
      "   entry: 166 value: 4.61636\n",
      "   entry: 167 value: 2.72884\n",
      "   entry: 168 value: 5.63771\n",
      "   entry: 169 value: 3.80408\n",
      "   entry: 170 value: 4.96844\n",
      "   entry: 171 value: 2.73302\n",
      "   entry: 172 value: 4.16883\n",
      "   entry: 173 value: 2.24942\n",
      "   entry: 174 value: 4.50358\n",
      "   entry: 175 value: 2.96668\n",
      "   entry: 176 value: 3.7467\n",
      "   entry: 177 value: 1.71808\n",
      "   entry: 178 value: 4.91884\n",
      "   entry: 179 value: 2.29903\n",
      "   entry: 180 value: 4.08365\n",
      "   entry: 181 value: 2.11599\n",
      "   entry: 182 value: 4.31562\n",
      "   entry: 183 value: 2.31696\n",
      "   entry: 184 value: 3.80625\n",
      "   entry: 185 value: 1.90116\n",
      "   entry: 186 value: 4.02918\n",
      "   entry: 187 value: 2.11496\n",
      "   entry: 188 value: 2.81872\n",
      "   entry: 189 value: 1.37936\n",
      "   entry: 190 value: 3.48245\n",
      "   entry: 191 value: 1.46132\n",
      "   entry: 192 value: 3.34032\n",
      "   entry: 193 value: 1.38064\n",
      "   entry: 194 value: 3.37401\n",
      "   entry: 195 value: 1.45503\n",
      "   entry: 196 value: 2.888\n",
      "   entry: 197 value: 0.737563\n",
      "   entry: 198 value: 3.73847\n",
      "   entry: 199 value: 1.66541\n",
      "   entry: 200 value: 3.15064\n",
      "   entry: 201 value: 1.06361\n",
      "   entry: 202 value: 2.42142\n",
      "   entry: 203 value: 0.385772\n",
      "   entry: 204 value: 2.31864\n",
      "   entry: 205 value: 0.300338\n",
      "   entry: 206 value: 2.69216\n",
      "   entry: 207 value: 0.729138\n",
      "   entry: 208 value: 2.71136\n",
      "   entry: 209 value: 0.751134\n",
      "   entry: 210 value: 3.06025\n",
      "   entry: 211 value: 1.09091\n",
      "   entry: 212 value: 2.88538\n",
      "   entry: 213 value: 0.629276\n",
      "   entry: 214 value: 3.00188\n",
      "   entry: 215 value: 0.840471\n",
      "   entry: 216 value: 2.19822\n",
      "   entry: 217 value: 0.166696\n",
      "   entry: 218 value: 4.68687\n",
      "   entry: 219 value: 0.857164\n",
      "   entry: 220 value: 3.0394\n",
      "   entry: 221 value: 0.864672\n",
      "   entry: 222 value: 2.60833\n",
      "   entry: 223 value: 0.414453\n",
      "   entry: 224 value: 2.32737\n",
      "   entry: 225 value: 0.298198\n",
      "   entry: 226 value: 2.60462\n",
      "   entry: 227 value: 0.598954\n",
      "   entry: 228 value: 2.38962\n",
      "   entry: 229 value: 0.302166\n",
      "   entry: 230 value: 2.89346\n",
      "   entry: 231 value: 0\n",
      "   entry: 232 value: 2.35965\n",
      "   entry: 233 value: 0.24583\n",
      "   entry: 234 value: 1.90219\n",
      "   entry: 235 value: 0\n",
      "   entry: 236 value: 1.59339\n",
      "   entry: 237 value: 0\n",
      "   entry: 238 value: 1.99821\n",
      "   entry: 239 value: 0\n",
      "   entry: 240 value: 1.75058\n",
      "   entry: 241 value: 0\n",
      "   entry: 242 value: 3.12114\n",
      "   entry: 243 value: 0.280198\n",
      "   entry: 244 value: 2.07725\n",
      "   entry: 245 value: 0.0436838\n",
      "   entry: 246 value: 1.36289\n",
      "   entry: 247 value: 0\n",
      "   entry: 248 value: 2.00226\n",
      "   entry: 249 value: 0\n",
      "   entry: 250 value: 1.98977\n",
      "   entry: 251 value: 0\n",
      "   entry: 252 value: 1.65108\n",
      "   entry: 253 value: 0\n",
      "   entry: 254 value: 1.41758\n",
      "   entry: 255 value: 0\n",
      "   entry: 256 value: 1.87001\n",
      "   entry: 257 value: 0\n",
      "   entry: 258 value: 1.82802\n",
      "   entry: 259 value: 0\n",
      "   entry: 260 value: 1.78641\n",
      "   entry: 261 value: 0\n",
      "   entry: 262 value: 1.68673\n",
      "   entry: 263 value: 0\n",
      "   entry: 264 value: 1.74295\n",
      "   entry: 265 value: 0\n",
      "   entry: 266 value: 1.63002\n",
      "   entry: 267 value: 0\n",
      "   entry: 268 value: 1.63\n",
      "   entry: 269 value: 0\n",
      "   entry: 270 value: 1.45318\n",
      "   entry: 271 value: 0\n",
      "   entry: 272 value: 2.23156\n",
      "   entry: 273 value: 0\n",
      "   entry: 274 value: 1.16304\n",
      "   entry: 275 value: 0\n",
      "   entry: 276 value: 1.35052\n",
      "   entry: 277 value: 0\n",
      "   entry: 278 value: 1.12946\n",
      "   entry: 279 value: 0\n",
      "   entry: 280 value: 1.23814\n",
      "   entry: 281 value: 0\n",
      "   entry: 282 value: 0.689335\n",
      "   entry: 283 value: 0\n",
      "   entry: 284 value: 1.97656\n",
      "   entry: 285 value: 0\n",
      "   entry: 286 value: 0.999183\n",
      "   entry: 287 value: 0\n",
      "   entry: 288 value: 0.96009\n",
      "   entry: 289 value: 0\n",
      "   entry: 290 value: 0.691995\n",
      "   entry: 291 value: 0\n",
      "   entry: 292 value: 0.910481\n",
      "   entry: 293 value: 0\n",
      "   entry: 294 value: 0.607299\n",
      "   entry: 295 value: 0\n",
      "   entry: 296 value: 0.829996\n",
      "   entry: 297 value: 0\n",
      "   entry: 298 value: 0.690601\n",
      "   entry: 299 value: 0\n",
      "   entry: 300 value: 0.666885\n",
      "   entry: 301 value: 0\n",
      "   entry: 302 value: 0.525917\n",
      "   entry: 303 value: 0\n",
      "   entry: 304 value: 0.596455\n",
      "   entry: 305 value: 0\n",
      "Add histo: name_pt: 0x7f862ce3a1c0\n",
      "# of events: 306\n"
     ]
    }
   ],
   "source": [
    "pts = coll.tkem_EE.df.pt.values\n",
    "\n",
    "manager.add_1Dhisto(myhisto, pts, coll.tkem_EE.df.looseTkID.values)"
   ]
  },
  {
   "cell_type": "code",
   "execution_count": 20,
   "metadata": {},
   "outputs": [
    {
     "ename": "SegmentationViolation",
     "evalue": "void FillerManager::fill() =>\n    SegmentationViolation: segfault in C++; program state was reset",
     "output_type": "error",
     "traceback": [
      "\u001b[0;31m---------------------------------------------------------------------------\u001b[0m",
      "\u001b[0;31mSegmentationViolation\u001b[0m                     Traceback (most recent call last)",
      "\u001b[0;32m<ipython-input-20-4ba78cb592bf>\u001b[0m in \u001b[0;36m<module>\u001b[0;34m\u001b[0m\n\u001b[0;32m----> 1\u001b[0;31m \u001b[0mmanager\u001b[0m\u001b[0;34m.\u001b[0m\u001b[0mfill\u001b[0m\u001b[0;34m(\u001b[0m\u001b[0;34m)\u001b[0m\u001b[0;34m\u001b[0m\u001b[0;34m\u001b[0m\u001b[0m\n\u001b[0m",
      "\u001b[0;31mSegmentationViolation\u001b[0m: void FillerManager::fill() =>\n    SegmentationViolation: segfault in C++; program state was reset"
     ]
    },
    {
     "name": "stdout",
     "output_type": "stream",
     "text": [
      "# of events: 35053564126224\n",
      "FILL histo: name_pt: 0x7f862ce3a1c0\n",
      "   entry: 0 value: [/opt/root/root6/lib/libCore.so] TUnixSystem::DispatchSignals(ESignals) (no debug info)\n",
      "[/usr/lib/system/libsystem_platform.dylib] _sigtramp (no debug info)\n",
      "[/usr/lib/system/libsystem_malloc.dylib] tiny_free_no_lock (no debug info)\n",
      "[<unknown binary>] (no debug info)\n",
      "[<unknown binary>] (no debug info)\n",
      "[/opt/root/root6/lib/libcppyy_backend3_8.so] WrapperCall(long, unsigned long, void*, void*, void*) (no debug info)\n",
      "[/opt/root/root6/lib/libcppyy3_8.so] CPyCppyy::(anonymous namespace)::VoidExecutor::Execute(long, void*, CPyCppyy::CallContext*) (no debug info)\n",
      "[/opt/root/root6/lib/libcppyy3_8.so] CPyCppyy::CPPMethod::ExecuteFast(void*, long, CPyCppyy::CallContext*) (no debug info)\n",
      "[/opt/root/root6/lib/libcppyy3_8.so] CPyCppyy::CPPMethod::ExecuteProtected(void*, long, CPyCppyy::CallContext*) (no debug info)\n",
      "[/opt/root/root6/lib/libcppyy3_8.so] CPyCppyy::CPPMethod::Call(CPyCppyy::CPPInstance*&, _object*, _object*, CPyCppyy::CallContext*) (no debug info)\n",
      "[/opt/root/root6/lib/libcppyy3_8.so] CPyCppyy::(anonymous namespace)::mp_call(CPyCppyy::CPPOverload*, _object*, _object*) (no debug info)\n",
      "[/opt/local/Library/Frameworks/Python.framework/Versions/3.8/Python] _PyObject_MakeTpCall (no debug info)\n",
      "[/opt/local/Library/Frameworks/Python.framework/Versions/3.8/Python] call_function (no debug info)\n",
      "[/opt/local/Library/Frameworks/Python.framework/Versions/3.8/Python] _PyEval_EvalFrameDefault (no debug info)\n",
      "[/opt/local/Library/Frameworks/Python.framework/Versions/3.8/Python] _PyEval_EvalCodeWithName (no debug info)\n",
      "[/opt/local/Library/Frameworks/Python.framework/Versions/3.8/Python] PyEval_EvalCode (no debug info)\n",
      "[/opt/local/Library/Frameworks/Python.framework/Versions/3.8/Python] builtin_exec (no debug info)\n",
      "[/opt/local/Library/Frameworks/Python.framework/Versions/3.8/Python] cfunction_vectorcall_FASTCALL (no debug info)\n",
      "[/opt/local/Library/Frameworks/Python.framework/Versions/3.8/Python] call_function (no debug info)\n",
      "[/opt/local/Library/Frameworks/Python.framework/Versions/3.8/Python] _PyEval_EvalFrameDefault (no debug info)\n",
      "[/opt/local/Library/Frameworks/Python.framework/Versions/3.8/Python] gen_send_ex (no debug info)\n",
      "[/opt/local/Library/Frameworks/Python.framework/Versions/3.8/Python] _PyEval_EvalFrameDefault (no debug info)\n",
      "[/opt/local/Library/Frameworks/Python.framework/Versions/3.8/Python] gen_send_ex (no debug info)\n",
      "[/opt/local/Library/Frameworks/Python.framework/Versions/3.8/Python] _PyEval_EvalFrameDefault (no debug info)\n",
      "[/opt/local/Library/Frameworks/Python.framework/Versions/3.8/Python] gen_send_ex (no debug info)\n",
      "[/opt/local/Library/Frameworks/Python.framework/Versions/3.8/Python] method_vectorcall_O (no debug info)\n",
      "[/opt/local/Library/Frameworks/Python.framework/Versions/3.8/Python] call_function (no debug info)\n",
      "[/opt/local/Library/Frameworks/Python.framework/Versions/3.8/Python] _PyEval_EvalFrameDefault (no debug info)\n",
      "[/opt/local/Library/Frameworks/Python.framework/Versions/3.8/Python] function_code_fastcall (no debug info)\n",
      "[/opt/local/Library/Frameworks/Python.framework/Versions/3.8/Python] call_function (no debug info)\n",
      "[/opt/local/Library/Frameworks/Python.framework/Versions/3.8/Python] _PyEval_EvalFrameDefault (no debug info)\n",
      "[/opt/local/Library/Frameworks/Python.framework/Versions/3.8/Python] function_code_fastcall (no debug info)\n",
      "[/opt/local/Library/Frameworks/Python.framework/Versions/3.8/Python] call_function (no debug info)\n",
      "[/opt/local/Library/Frameworks/Python.framework/Versions/3.8/Python] _PyEval_EvalFrameDefault (no debug info)\n",
      "[/opt/local/Library/Frameworks/Python.framework/Versions/3.8/Python] _PyEval_EvalCodeWithName (no debug info)\n",
      "[/opt/local/Library/Frameworks/Python.framework/Versions/3.8/Python] _PyFunction_Vectorcall (no debug info)\n",
      "[/opt/local/Library/Frameworks/Python.framework/Versions/3.8/Python] method_vectorcall (no debug info)\n",
      "[/opt/local/Library/Frameworks/Python.framework/Versions/3.8/Python] PyVectorcall_Call (no debug info)\n",
      "[/opt/local/Library/Frameworks/Python.framework/Versions/3.8/Python] _PyEval_EvalFrameDefault (no debug info)\n",
      "[/opt/local/Library/Frameworks/Python.framework/Versions/3.8/Python] _PyEval_EvalCodeWithName (no debug info)\n",
      "[/opt/local/Library/Frameworks/Python.framework/Versions/3.8/Python] _PyFunction_Vectorcall (no debug info)\n",
      "[/opt/local/Library/Frameworks/Python.framework/Versions/3.8/Python] method_vectorcall (no debug info)\n",
      "[/opt/local/Library/Frameworks/Python.framework/Versions/3.8/Python] call_function (no debug info)\n",
      "[/opt/local/Library/Frameworks/Python.framework/Versions/3.8/Python] _PyEval_EvalFrameDefault (no debug info)\n",
      "[/opt/local/Library/Frameworks/Python.framework/Versions/3.8/Python] gen_send_ex (no debug info)\n",
      "[/opt/local/Library/Frameworks/Python.framework/Versions/3.8/Python] builtin_next (no debug info)\n",
      "[/opt/local/Library/Frameworks/Python.framework/Versions/3.8/Python] cfunction_vectorcall_FASTCALL (no debug info)\n",
      "[/opt/local/Library/Frameworks/Python.framework/Versions/3.8/Python] call_function (no debug info)\n",
      "[/opt/local/Library/Frameworks/Python.framework/Versions/3.8/Python] _PyEval_EvalFrameDefault (no debug info)\n",
      "[/opt/local/Library/Frameworks/Python.framework/Versions/3.8/Python] _PyEval_EvalCodeWithName (no debug info)\n",
      "[/opt/local/Library/Frameworks/Python.framework/Versions/3.8/Python] _PyFunction_Vectorcall (no debug info)\n",
      "[/opt/local/Library/Frameworks/Python.framework/Versions/3.8/Python] call_function (no debug info)\n",
      "[/opt/local/Library/Frameworks/Python.framework/Versions/3.8/Python] _PyEval_EvalFrameDefault (no debug info)\n",
      "[/opt/local/Library/Frameworks/Python.framework/Versions/3.8/Python] gen_send_ex (no debug info)\n",
      "[/opt/local/Library/Frameworks/Python.framework/Versions/3.8/Python] builtin_next (no debug info)\n",
      "[/opt/local/Library/Frameworks/Python.framework/Versions/3.8/Python] cfunction_vectorcall_FASTCALL (no debug info)\n",
      "[/opt/local/Library/Frameworks/Python.framework/Versions/3.8/Python] call_function (no debug info)\n",
      "[/opt/local/Library/Frameworks/Python.framework/Versions/3.8/Python] _PyEval_EvalFrameDefault (no debug info)\n",
      "[/opt/local/Library/Frameworks/Python.framework/Versions/3.8/Python] _PyEval_EvalCodeWithName (no debug info)\n",
      "[/opt/local/Library/Frameworks/Python.framework/Versions/3.8/Python] _PyFunction_Vectorcall (no debug info)\n",
      "[/opt/local/Library/Frameworks/Python.framework/Versions/3.8/Python] method_vectorcall (no debug info)\n",
      "[/opt/local/Library/Frameworks/Python.framework/Versions/3.8/Python] call_function (no debug info)\n",
      "[/opt/local/Library/Frameworks/Python.framework/Versions/3.8/Python] _PyEval_EvalFrameDefault (no debug info)\n",
      "[/opt/local/Library/Frameworks/Python.framework/Versions/3.8/Python] gen_send_ex (no debug info)\n",
      "[/opt/local/Library/Frameworks/Python.framework/Versions/3.8/Python] builtin_next (no debug info)\n",
      "[/opt/local/Library/Frameworks/Python.framework/Versions/3.8/Python] cfunction_vectorcall_FASTCALL (no debug info)\n",
      "[/opt/local/Library/Frameworks/Python.framework/Versions/3.8/Python] call_function (no debug info)\n",
      "[/opt/local/Library/Frameworks/Python.framework/Versions/3.8/Python] _PyEval_EvalFrameDefault (no debug info)\n",
      "[/opt/local/Library/Frameworks/Python.framework/Versions/3.8/Python] _PyEval_EvalCodeWithName (no debug info)\n",
      "[/opt/local/Library/Frameworks/Python.framework/Versions/3.8/Python] _PyFunction_Vectorcall (no debug info)\n",
      "[/opt/local/Library/Frameworks/Python.framework/Versions/3.8/Python] method_vectorcall (no debug info)\n",
      "[/opt/local/Library/Frameworks/Python.framework/Versions/3.8/Python] PyVectorcall_Call (no debug info)\n",
      "[/opt/local/Library/Frameworks/Python.framework/Versions/3.8/Python] _PyEval_EvalFrameDefault (no debug info)\n",
      "[/opt/local/Library/Frameworks/Python.framework/Versions/3.8/Python] gen_send_ex (no debug info)\n",
      "[/opt/local/Library/Frameworks/Python.framework/Versions/3.8/Python] method_vectorcall_O (no debug info)\n",
      "[/opt/local/Library/Frameworks/Python.framework/Versions/3.8/Python] call_function (no debug info)\n",
      "[/opt/local/Library/Frameworks/Python.framework/Versions/3.8/Python] _PyEval_EvalFrameDefault (no debug info)\n",
      "[/opt/local/Library/Frameworks/Python.framework/Versions/3.8/Python] function_code_fastcall (no debug info)\n",
      "[/opt/local/Library/Frameworks/Python.framework/Versions/3.8/Python] call_function (no debug info)\n",
      "[/opt/local/Library/Frameworks/Python.framework/Versions/3.8/Python] _PyEval_EvalFrameDefault (no debug info)\n",
      "[/opt/local/Library/Frameworks/Python.framework/Versions/3.8/Python] _PyEval_EvalCodeWithName (no debug info)\n",
      "[/opt/local/Library/Frameworks/Python.framework/Versions/3.8/Python] _PyFunction_Vectorcall (no debug info)\n",
      "[/opt/local/Library/Frameworks/Python.framework/Versions/3.8/Python] _PyObject_FastCallDict (no debug info)\n",
      "[/opt/local/Library/Frameworks/Python.framework/Versions/3.8/Python] partial_call (no debug info)\n",
      "[/opt/local/Library/Frameworks/Python.framework/Versions/3.8/Python] _PyObject_MakeTpCall (no debug info)\n",
      "[/opt/local/Library/Frameworks/Python.framework/Versions/3.8/Python] call_function (no debug info)\n",
      "[/opt/local/Library/Frameworks/Python.framework/Versions/3.8/Python] _PyEval_EvalFrameDefault (no debug info)\n",
      "[/opt/local/Library/Frameworks/Python.framework/Versions/3.8/Python] function_code_fastcall (no debug info)\n",
      "[/opt/local/Library/Frameworks/Python.framework/Versions/3.8/Python] call_function (no debug info)\n",
      "[/opt/local/Library/Frameworks/Python.framework/Versions/3.8/Python] _PyEval_EvalFrameDefault (no debug info)\n",
      "[/opt/local/Library/Frameworks/Python.framework/Versions/3.8/Python] _PyEval_EvalCodeWithName (no debug info)\n",
      "[/opt/local/Library/Frameworks/Python.framework/Versions/3.8/Python] _PyFunction_Vectorcall (no debug info)\n",
      "[/opt/local/Library/Frameworks/Python.framework/Versions/3.8/Python] context_run (no debug info)\n",
      "[/opt/local/Library/Frameworks/Python.framework/Versions/3.8/Python] cfunction_vectorcall_FASTCALL_KEYWORDS (no debug info)\n",
      "[/opt/local/Library/Frameworks/Python.framework/Versions/3.8/Python] PyVectorcall_Call (no debug info)\n",
      "[/opt/local/Library/Frameworks/Python.framework/Versions/3.8/Python] _PyEval_EvalFrameDefault (no debug info)\n",
      "[/opt/local/Library/Frameworks/Python.framework/Versions/3.8/Python] function_code_fastcall (no debug info)\n",
      "[/opt/local/Library/Frameworks/Python.framework/Versions/3.8/Python] call_function (no debug info)\n",
      "[/opt/local/Library/Frameworks/Python.framework/Versions/3.8/Python] _PyEval_EvalFrameDefault (no debug info)\n",
      "[/opt/local/Library/Frameworks/Python.framework/Versions/3.8/Python] function_code_fastcall (no debug info)\n",
      "[/opt/local/Library/Frameworks/Python.framework/Versions/3.8/Python] call_function (no debug info)\n",
      "[/opt/local/Library/Frameworks/Python.framework/Versions/3.8/Python] _PyEval_EvalFrameDefault (no debug info)\n",
      "[/opt/local/Library/Frameworks/Python.framework/Versions/3.8/Python] function_code_fastcall (no debug info)\n",
      "[/opt/local/Library/Frameworks/Python.framework/Versions/3.8/Python] call_function (no debug info)\n",
      "[/opt/local/Library/Frameworks/Python.framework/Versions/3.8/Python] _PyEval_EvalFrameDefault (no debug info)\n",
      "[/opt/local/Library/Frameworks/Python.framework/Versions/3.8/Python] function_code_fastcall (no debug info)\n",
      "[/opt/local/Library/Frameworks/Python.framework/Versions/3.8/Python] call_function (no debug info)\n",
      "[/opt/local/Library/Frameworks/Python.framework/Versions/3.8/Python] _PyEval_EvalFrameDefault (no debug info)\n",
      "[/opt/local/Library/Frameworks/Python.framework/Versions/3.8/Python] function_code_fastcall (no debug info)\n",
      "[/opt/local/Library/Frameworks/Python.framework/Versions/3.8/Python] call_function (no debug info)\n",
      "[/opt/local/Library/Frameworks/Python.framework/Versions/3.8/Python] _PyEval_EvalFrameDefault (no debug info)\n",
      "[/opt/local/Library/Frameworks/Python.framework/Versions/3.8/Python] _PyEval_EvalCodeWithName (no debug info)\n",
      "[/opt/local/Library/Frameworks/Python.framework/Versions/3.8/Python] _PyFunction_Vectorcall (no debug info)\n",
      "[/opt/local/Library/Frameworks/Python.framework/Versions/3.8/Python] method_vectorcall (no debug info)\n",
      "[/opt/local/Library/Frameworks/Python.framework/Versions/3.8/Python] call_function (no debug info)\n",
      "[/opt/local/Library/Frameworks/Python.framework/Versions/3.8/Python] _PyEval_EvalFrameDefault (no debug info)\n",
      "[/opt/local/Library/Frameworks/Python.framework/Versions/3.8/Python] _PyEval_EvalCodeWithName (no debug info)\n",
      "[/opt/local/Library/Frameworks/Python.framework/Versions/3.8/Python] PyEval_EvalCode (no debug info)\n",
      "[/opt/local/Library/Frameworks/Python.framework/Versions/3.8/Python] builtin_exec (no debug info)\n",
      "[/opt/local/Library/Frameworks/Python.framework/Versions/3.8/Python] cfunction_vectorcall_FASTCALL (no debug info)\n",
      "[/opt/local/Library/Frameworks/Python.framework/Versions/3.8/Python] call_function (no debug info)\n",
      "[/opt/local/Library/Frameworks/Python.framework/Versions/3.8/Python] _PyEval_EvalFrameDefault (no debug info)\n",
      "[/opt/local/Library/Frameworks/Python.framework/Versions/3.8/Python] _PyEval_EvalCodeWithName (no debug info)\n",
      "[/opt/local/Library/Frameworks/Python.framework/Versions/3.8/Python] _PyFunction_Vectorcall (no debug info)\n",
      "[/opt/local/Library/Frameworks/Python.framework/Versions/3.8/Python] call_function (no debug info)\n",
      "[/opt/local/Library/Frameworks/Python.framework/Versions/3.8/Python] _PyEval_EvalFrameDefault (no debug info)\n"
     ]
    },
    {
     "name": "stderr",
     "output_type": "stream",
     "text": [
      " *** Break *** segmentation violation\n"
     ]
    }
   ],
   "source": [
    "manager.fill()"
   ]
  },
  {
   "cell_type": "code",
   "execution_count": null,
   "metadata": {},
   "outputs": [],
   "source": [
    "pts"
   ]
  },
  {
   "cell_type": "code",
   "execution_count": 32,
   "metadata": {},
   "outputs": [],
   "source": [
    "import hist\n",
    "from hist import Hist"
   ]
  },
  {
   "cell_type": "code",
   "execution_count": 69,
   "metadata": {},
   "outputs": [
    {
     "data": {
      "text/html": [
       "<html>\n",
       "<div style=\"display:flex; align-items:center;\">\n",
       "<div style=\"width:290px;\">\n",
       "<svg xmlns=\"http://www.w3.org/2000/svg\" viewBox=\"-10 -105 270 120\">\n",
       "<line x1=\"-5\" y1=\"0\" x2=\"255\" y2=\"0\" style=\"fill:none;stroke-width:2;stroke:currentColor\"/>\n",
       "<text text-anchor=\"middle\" x=\"0\" y=\"15\" style=\"fill:currentColor;\">\n",
       "0\n",
       "</text>\n",
       "<text text-anchor=\"middle\" x=\"250\" y=\"15\" style=\"fill:currentColor;\">\n",
       "1\n",
       "</text>\n",
       "<text text-anchor=\"middle\" x=\"125.0\" y=\"15\" style=\"fill:currentColor;\">\n",
       "x-label\n",
       "</text>\n",
       "<polyline points=\"  0,0   0,-0  25,-0  25,-0  50,-0  50,-0  75,-0  75,-0 100,-0 100,-0 125,-0 125,-0 150,-0 150,-0 175,-0 175,-0 200,-0 200,-0 225,-0 225,-100 250,-100 250,0\" style=\"fill:none; stroke:currentColor;\"/>\n",
       "</svg>\n",
       "</div>\n",
       "<div style=\"flex=grow:1;\">\n",
       "Regular(10, 0, 1, name='x-name', label='x-label')<br/>\n",
       "<hr style=\"margin-top:.2em; margin-bottom:.2em;\"/>\n",
       "Double() Σ=1.0\n",
       "\n",
       "</div>\n",
       "</div>\n",
       "</html>"
      ],
      "text/plain": [
       "Hist(Regular(10, 0, 1, name='x-name', label='x-label'), storage=Double()) # Sum: 1.0"
      ]
     },
     "execution_count": 69,
     "metadata": {},
     "output_type": "execute_result"
    }
   ],
   "source": [
    "h = Hist(hist.axis.Regular(bins=10, start=0, stop=1, name=\"x-name\", label='x-label'), name='name', label='label')\n",
    "# h.name = 'h_test'\n",
    "# h.label = 'label'\n",
    "h_uproot = uproot4.to_writable(h)\n",
    "h_pyroot = uproot4.pyroot.to_pyroot(h_uproot)\n",
    "\n",
    "h.fill(0.9)\n"
   ]
  },
  {
   "cell_type": "code",
   "execution_count": 46,
   "metadata": {},
   "outputs": [
    {
     "data": {
      "text/plain": [
       "'name'"
      ]
     },
     "execution_count": 46,
     "metadata": {},
     "output_type": "execute_result"
    }
   ],
   "source": [
    "h_pyroot.GetTitle()"
   ]
  },
  {
   "cell_type": "code",
   "execution_count": 47,
   "metadata": {},
   "outputs": [
    {
     "data": {
      "text/plain": [
       "'untitled_4'"
      ]
     },
     "execution_count": 47,
     "metadata": {},
     "output_type": "execute_result"
    }
   ],
   "source": [
    "h_pyroot.GetName()"
   ]
  },
  {
   "cell_type": "code",
   "execution_count": 48,
   "metadata": {},
   "outputs": [],
   "source": [
    "f = ROOT.TH1F('h1','title',10,0,10)"
   ]
  },
  {
   "cell_type": "code",
   "execution_count": 49,
   "metadata": {},
   "outputs": [
    {
     "data": {
      "text/plain": [
       "'h1'"
      ]
     },
     "execution_count": 49,
     "metadata": {},
     "output_type": "execute_result"
    }
   ],
   "source": [
    "f.GetName()"
   ]
  },
  {
   "cell_type": "code",
   "execution_count": 11,
   "metadata": {},
   "outputs": [],
   "source": [
    "import boost_histogram as bh"
   ]
  },
  {
   "cell_type": "code",
   "execution_count": 36,
   "metadata": {},
   "outputs": [],
   "source": [
    "\n",
    "# Compose axis however you like; this is a 2D histogram\n",
    "hist2d = bh.Histogram(bh.axis.Regular(2, 0, 1),\n",
    "                    bh.axis.Regular(4, 0.0, 1.0))\n",
    "\n",
    "# Filling can be done with arrays, one per dimension\n",
    "hist2d.fill([.3, .5, .2],\n",
    "          [.1, .4, .9])\n",
    "\n",
    "# NumPy array view into histogram counts, no overflow bins\n",
    "counts = hist.view()\n"
   ]
  },
  {
   "cell_type": "code",
   "execution_count": 37,
   "metadata": {},
   "outputs": [],
   "source": [
    "hist2d.lable = \"ciccio\"\n"
   ]
  },
  {
   "cell_type": "code",
   "execution_count": 38,
   "metadata": {},
   "outputs": [
    {
     "data": {
      "text/plain": [
       "Histogram(\n",
       "  Regular(2, 0, 1),\n",
       "  Regular(4, 0, 1),\n",
       "  storage=Double()) # Sum: 3.0"
      ]
     },
     "execution_count": 38,
     "metadata": {},
     "output_type": "execute_result"
    }
   ],
   "source": [
    "hist2d"
   ]
  },
  {
   "cell_type": "code",
   "execution_count": 29,
   "metadata": {},
   "outputs": [],
   "source": [
    "import matplotlib.pyplot as plt\n"
   ]
  },
  {
   "cell_type": "code",
   "execution_count": 31,
   "metadata": {},
   "outputs": [
    {
     "data": {
      "image/png": "[encoded data removed]",
      "text/plain": [
       "<Figure size 432x288 with 1 Axes>"
      ]
     },
     "metadata": {
      "needs_background": "light"
     },
     "output_type": "display_data"
    }
   ],
   "source": [
    "plt.bar(h.axes[0].centers, h, h.axes[0].widths);"
   ]
  },
  {
   "cell_type": "code",
   "execution_count": 32,
   "metadata": {},
   "outputs": [],
   "source": [
    "h.label = \"pippo\"\n",
    "h.axes[0].label='un asse'"
   ]
  },
  {
   "cell_type": "code",
   "execution_count": 50,
   "metadata": {},
   "outputs": [],
   "source": [
    "h.name = \"name h; X [GeV]\""
   ]
  },
  {
   "cell_type": "code",
   "execution_count": 66,
   "metadata": {},
   "outputs": [
    {
     "data": {
      "text/plain": [
       "'x'"
      ]
     },
     "execution_count": 66,
     "metadata": {},
     "output_type": "execute_result"
    }
   ],
   "source": [
    "h.axes[0].label\n"
   ]
  },
  {
   "cell_type": "code",
   "execution_count": 54,
   "metadata": {},
   "outputs": [],
   "source": [
    "h.label\n",
    "h.axes[0]\n",
    "\n",
    "h_uproot = uproot4.to_writable(h)\n"
   ]
  },
  {
   "cell_type": "code",
   "execution_count": 74,
   "metadata": {},
   "outputs": [
    {
     "data": {
      "text/plain": [
       "'label'"
      ]
     },
     "execution_count": 74,
     "metadata": {},
     "output_type": "execute_result"
    }
   ],
   "source": [
    "h.label"
   ]
  },
  {
   "cell_type": "code",
   "execution_count": 75,
   "metadata": {},
   "outputs": [
    {
     "data": {
      "text/plain": [
       "'name'"
      ]
     },
     "execution_count": 75,
     "metadata": {},
     "output_type": "execute_result"
    }
   ],
   "source": [
    "h.name"
   ]
  },
  {
   "cell_type": "code",
   "execution_count": 76,
   "metadata": {},
   "outputs": [],
   "source": [
    "root_file = uproot4.recreate(\"demo_uproot_file.root\")\n",
    "# root_file[\"words\"] = \"See what is in the ROOT File!\"\n",
    "# root_file[h.name] = h.to_numpy()\n",
    "root_file[h.label] = h_uproot\n",
    "# root_file['ugo'] = hist2d.to_numpy()\n",
    "root_file.close()"
   ]
  },
  {
   "cell_type": "code",
   "execution_count": 59,
   "metadata": {},
   "outputs": [],
   "source": [
    "h_pyroot = uproot4.pyroot.to_pyroot(h_uproot)\n"
   ]
  },
  {
   "cell_type": "code",
   "execution_count": 58,
   "metadata": {},
   "outputs": [
    {
     "data": {
      "text/plain": [
       "<cppyy.gbl.TH1D object at 0x117c11970>"
      ]
     },
     "execution_count": 58,
     "metadata": {},
     "output_type": "execute_result"
    }
   ],
   "source": [
    "h_pyroot"
   ]
  },
  {
   "cell_type": "code",
   "execution_count": 60,
   "metadata": {},
   "outputs": [
    {
     "data": {
      "text/plain": [
       "'name'"
      ]
     },
     "execution_count": 60,
     "metadata": {},
     "output_type": "execute_result"
    }
   ],
   "source": [
    "h_pyroot.GetTitle()"
   ]
  },
  {
   "cell_type": "code",
   "execution_count": null,
   "metadata": {},
   "outputs": [],
   "source": [
    "h_pyroot.GetTitle()"
   ]
  },
  {
   "cell_type": "code",
   "execution_count": 61,
   "metadata": {},
   "outputs": [
    {
     "data": {
      "text/plain": [
       "'x'"
      ]
     },
     "execution_count": 61,
     "metadata": {},
     "output_type": "execute_result"
    }
   ],
   "source": [
    "h_pyroot.GetXaxis().GetTitle()"
   ]
  },
  {
   "cell_type": "code",
   "execution_count": 62,
   "metadata": {},
   "outputs": [],
   "source": [
    "root_file['test'] = h_pyroot"
   ]
  },
  {
   "cell_type": "code",
   "execution_count": 72,
   "metadata": {},
   "outputs": [],
   "source": [
    "c = ROOT.TCanvas()"
   ]
  },
  {
   "cell_type": "code",
   "execution_count": 73,
   "metadata": {},
   "outputs": [
    {
     "ename": "AttributeError",
     "evalue": "'Model_TH1D_v3' object has no attribute 'Draw'",
     "output_type": "error",
     "traceback": [
      "\u001b[0;31m---------------------------------------------------------------------------\u001b[0m",
      "\u001b[0;31mAttributeError\u001b[0m                            Traceback (most recent call last)",
      "Cell \u001b[0;32mIn[73], line 2\u001b[0m\n\u001b[1;32m      1\u001b[0m c\u001b[38;5;241m.\u001b[39mcd()\n\u001b[0;32m----> 2\u001b[0m \u001b[43mh_uproot\u001b[49m\u001b[38;5;241;43m.\u001b[39;49m\u001b[43mDraw\u001b[49m()\n\u001b[1;32m      3\u001b[0m c\u001b[38;5;241m.\u001b[39mDraw()\n",
      "\u001b[0;31mAttributeError\u001b[0m: 'Model_TH1D_v3' object has no attribute 'Draw'"
     ]
    }
   ],
   "source": [
    "c.cd()\n",
    "h_uproot.Draw()\n",
    "c.Draw()"
   ]
  },
  {
   "cell_type": "code",
   "execution_count": null,
   "metadata": {},
   "outputs": [],
   "source": []
  }
 ],
 "metadata": {
  "kernelspec": {
   "display_name": "Python 3 (ipykernel)",
   "language": "python",
   "name": "python3"
  },
  "language_info": {
   "codemirror_mode": {
    "name": "ipython",
    "version": 3
   },
   "file_extension": ".py",
   "mimetype": "text/x-python",
   "name": "python",
   "nbconvert_exporter": "python",
   "pygments_lexer": "ipython3",
   "version": "3.10.10"
  }
 },
 "nbformat": 4,
 "nbformat_minor": 4
}
